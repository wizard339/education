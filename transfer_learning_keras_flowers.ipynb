{
  "metadata": {
    "kernelspec": {
      "language": "python",
      "display_name": "Python 3",
      "name": "python3"
    },
    "language_info": {
      "pygments_lexer": "ipython3",
      "nbconvert_exporter": "python",
      "version": "3.6.4",
      "file_extension": ".py",
      "codemirror_mode": {
        "name": "ipython",
        "version": 3
      },
      "name": "python",
      "mimetype": "text/x-python"
    },
    "colab": {
      "provenance": [],
      "include_colab_link": true
    },
    "accelerator": "GPU",
    "gpuClass": "standard"
  },
  "nbformat_minor": 0,
  "nbformat": 4,
  "cells": [
    {
      "cell_type": "markdown",
      "metadata": {
        "id": "view-in-github",
        "colab_type": "text"
      },
      "source": [
        "<a href=\"https://colab.research.google.com/github/wizard339/education/blob/main/transfer_learning_keras_flowers.ipynb\" target=\"_parent\"><img src=\"https://colab.research.google.com/assets/colab-badge.svg\" alt=\"Open In Colab\"/></a>"
      ]
    },
    {
      "cell_type": "markdown",
      "source": [
        "# Transfer learning в решении задачи классификации цветов\n",
        "Датасет классификации цветов (http://www.robots.ox.ac.uk/~vgg/data/flowers/102/index.html) состоит из 102 видов цветов встречаемых в Великобритании. Для каждого класса есть от 40 до 258 примеров, чего мало для обучения с нуля:\n",
        "<img src=\"http://bennycheung.github.io/images/deep-transfer-learning-on-small-dataset/flower_train_samples_700.jpg\" style=\"width:50%\">"
      ],
      "metadata": {
        "id": "cn7gv4wwC-_m"
      }
    },
    {
      "cell_type": "code",
      "source": [
        "!pip install tensorflow==2.1"
      ],
      "metadata": {
        "_kg_hide-output": true,
        "_kg_hide-input": false,
        "collapsed": true,
        "jupyter": {
          "outputs_hidden": true
        },
        "trusted": true,
        "id": "_0Luz5FnC-_u"
      },
      "execution_count": null,
      "outputs": []
    },
    {
      "cell_type": "code",
      "source": [
        "!pip install -q efficientnet"
      ],
      "metadata": {
        "_kg_hide-output": true,
        "_kg_hide-input": false,
        "trusted": true,
        "colab": {
          "base_uri": "https://localhost:8080/"
        },
        "id": "wpaLNZwbC-_w",
        "outputId": "6ccae0be-2357-432c-d213-0b2ed8cd60fd"
      },
      "execution_count": 1,
      "outputs": [
        {
          "output_type": "stream",
          "name": "stdout",
          "text": [
            "\u001b[?25l\r\u001b[K     |██████▌                         | 10 kB 19.1 MB/s eta 0:00:01\r\u001b[K     |█████████████                   | 20 kB 26.7 MB/s eta 0:00:01\r\u001b[K     |███████████████████▍            | 30 kB 34.7 MB/s eta 0:00:01\r\u001b[K     |█████████████████████████▉      | 40 kB 17.0 MB/s eta 0:00:01\r\u001b[K     |████████████████████████████████| 50 kB 5.9 MB/s \n",
            "\u001b[?25h"
          ]
        }
      ]
    },
    {
      "cell_type": "code",
      "source": [
        "import numpy as np\n",
        "import pandas as pd\n",
        "import matplotlib.pyplot as plt\n",
        "import seaborn as sns\n",
        "import pickle\n",
        "import scipy.io\n",
        "import tarfile\n",
        "import csv\n",
        "import sys\n",
        "import os\n",
        "\n",
        "\n",
        "import tensorflow as tf\n",
        "import tensorflow.keras as keras\n",
        "import tensorflow.keras.models as M\n",
        "import tensorflow.keras.layers as L\n",
        "import tensorflow.keras.backend as K\n",
        "import tensorflow.keras.callbacks as C\n",
        "from tensorflow.keras.preprocessing import image\n",
        "from tensorflow.keras.preprocessing.image import ImageDataGenerator\n",
        "from tensorflow.keras.callbacks import LearningRateScheduler, ModelCheckpoint, EarlyStopping\n",
        "from tensorflow.keras.callbacks import Callback\n",
        "from tensorflow.keras import optimizers\n",
        "import efficientnet.tfkeras as efn\n",
        "\n",
        "from sklearn.model_selection import train_test_split\n",
        "\n",
        "import PIL\n",
        "from PIL import ImageOps, ImageFilter\n",
        "#увеличим дефолтный размер графиков\n",
        "from pylab import rcParams\n",
        "rcParams['figure.figsize'] = 10, 5\n",
        "%matplotlib inline\n",
        "\n",
        "print(os.listdir(\"./input\"))\n",
        "print('Python       :', sys.version.split('\\n')[0])\n",
        "print('Numpy        :', np.__version__)\n",
        "print('Tensorflow   :', tf.__version__)\n",
        "print('Keras        :', keras.__version__)"
      ],
      "metadata": {
        "_cell_guid": "79c7e3d0-c299-4dcb-8224-4455121ee9b0",
        "_kg_hide-input": true,
        "_uuid": "d629ff2d2480ee46fbb7e2d37f6b5fab8052498a",
        "trusted": true,
        "colab": {
          "base_uri": "https://localhost:8080/"
        },
        "id": "aIzcER9OC-_x",
        "outputId": "b4a5778d-c2ed-4a5c-e859-c5e2d69f70be"
      },
      "execution_count": 4,
      "outputs": [
        {
          "output_type": "stream",
          "name": "stdout",
          "text": [
            "['imagelabels.mat', '102flowers.tgz.zip']\n",
            "Python       : 3.8.16 (default, Dec  7 2022, 01:12:13) \n",
            "Numpy        : 1.21.6\n",
            "Tensorflow   : 2.9.2\n",
            "Keras        : 2.9.0\n"
          ]
        }
      ]
    },
    {
      "cell_type": "code",
      "source": [
        "# Проверяем что у нас работает GPU\n",
        "tf.test.gpu_device_name()"
      ],
      "metadata": {
        "trusted": true,
        "colab": {
          "base_uri": "https://localhost:8080/",
          "height": 35
        },
        "id": "YSw3cvjYC-_z",
        "outputId": "dc694e42-4820-428a-c963-5dd7b157db66"
      },
      "execution_count": 5,
      "outputs": [
        {
          "output_type": "execute_result",
          "data": {
            "text/plain": [
              "''"
            ],
            "application/vnd.google.colaboratory.intrinsic+json": {
              "type": "string"
            }
          },
          "metadata": {},
          "execution_count": 5
        }
      ]
    },
    {
      "cell_type": "markdown",
      "source": [
        "Для воспроизводимости сохраним версии всех пакетов"
      ],
      "metadata": {
        "id": "uYu8iSQWC-_0"
      }
    },
    {
      "cell_type": "code",
      "source": [
        "!pip freeze > requirements.txt"
      ],
      "metadata": {
        "_kg_hide-input": true,
        "trusted": true,
        "id": "hjn1OT0YC-_1"
      },
      "execution_count": 6,
      "outputs": []
    },
    {
      "cell_type": "markdown",
      "source": [
        "# Setup"
      ],
      "metadata": {
        "id": "vmZRShbQC-_2"
      }
    },
    {
      "cell_type": "code",
      "source": [
        "# В сетап выносим основные настройки, так удобней их перебирать в дальнейшем\n",
        "\n",
        "EPOCHS               = 5\n",
        "BATCH_SIZE           = 8 # уменьшаем batch если сеть большая, иначе не влезет в память на GPU\n",
        "LR                   = 1e-3\n",
        "VAL_SPLIT            = 0.2\n",
        "\n",
        "CLASS_NUM            = 102\n",
        "IMG_SIZE             = 250\n",
        "IMG_CHANNELS         = 3\n",
        "input_shape          = (IMG_SIZE, IMG_SIZE, IMG_CHANNELS)\n",
        "\n",
        "DATA_PATH = '../input/flower-dataset-102/'\n",
        "PATH = \"../working/flower/\""
      ],
      "metadata": {
        "trusted": true,
        "id": "VC_IfttPC-_2"
      },
      "execution_count": null,
      "outputs": []
    },
    {
      "cell_type": "code",
      "source": [
        "# Setting seed for reproducibility\n",
        "os.makedirs(PATH,exist_ok=False)\n",
        "\n",
        "RANDOM_SEED = 42\n",
        "np.random.seed(RANDOM_SEED)  \n",
        "PYTHONHASHSEED = 0"
      ],
      "metadata": {
        "_kg_hide-input": true,
        "trusted": true,
        "id": "trnX701pC-_4"
      },
      "execution_count": null,
      "outputs": []
    },
    {
      "cell_type": "markdown",
      "source": [
        "# Data"
      ],
      "metadata": {
        "id": "OuZVlStvC-_5"
      }
    },
    {
      "cell_type": "code",
      "source": [
        "# прочитаем все названия файлов прям из архива и таргеты к ним\n",
        "def get_all_filenames(tar_fn):\n",
        "    with tarfile.open(tar_fn) as f:\n",
        "        return [m.name for m in f.getmembers() if m.isfile()]\n",
        "\n",
        "df = pd.DataFrame()\n",
        "df['Id'] = sorted(get_all_filenames(DATA_PATH+\"102flowers.tgz\"))\n",
        "df['Category'] = scipy.io.loadmat(DATA_PATH+'imagelabels.mat')['labels'][0] - 1  # классы (0, 1, 2, ...)\n",
        "df['Category'] = df['Category'].astype(str)"
      ],
      "metadata": {
        "trusted": true,
        "id": "_0SV9H0oC-_5"
      },
      "execution_count": null,
      "outputs": []
    },
    {
      "cell_type": "code",
      "source": [
        "df.head(5)"
      ],
      "metadata": {
        "trusted": true,
        "id": "JUw36v-TC-_6"
      },
      "execution_count": null,
      "outputs": []
    },
    {
      "cell_type": "code",
      "source": [
        "df['Category'].value_counts()"
      ],
      "metadata": {
        "trusted": true,
        "id": "Wl4vMSHIC-_6"
      },
      "execution_count": null,
      "outputs": []
    },
    {
      "cell_type": "code",
      "source": [
        "df['Category'].nunique()"
      ],
      "metadata": {
        "trusted": true,
        "id": "35b9MELwC-_7"
      },
      "execution_count": null,
      "outputs": []
    },
    {
      "cell_type": "code",
      "source": [
        "print('Распаковываем картинки')\n",
        "# Will unzip the files so that you can see them..\n",
        "opened_tar = tarfile.open(DATA_PATH+\"102flowers.tgz\")\n",
        "opened_tar.extractall(PATH)\n",
        "\n",
        "print(os.listdir(PATH+'jpg')[:5])"
      ],
      "metadata": {
        "trusted": true,
        "id": "ubvdiua2C-_7"
      },
      "execution_count": null,
      "outputs": []
    },
    {
      "cell_type": "code",
      "source": [
        "print('Пример картинок (random sample)')\n",
        "plt.figure(figsize=(12,8))\n",
        "\n",
        "random_image = df.sample(n=9)\n",
        "random_image_paths = random_image['Id'].values\n",
        "random_image_cat = random_image['Category'].values\n",
        "\n",
        "for index, path in enumerate(random_image_paths):\n",
        "    im = PIL.Image.open(PATH+path)\n",
        "    plt.subplot(3,3, index+1)\n",
        "    plt.imshow(im)\n",
        "    plt.title('Class: '+str(random_image_cat[index]))\n",
        "    plt.axis('off')\n",
        "plt.show()"
      ],
      "metadata": {
        "_kg_hide-input": true,
        "trusted": true,
        "id": "7_znyZxGC-_8"
      },
      "execution_count": null,
      "outputs": []
    },
    {
      "cell_type": "code",
      "source": [
        "# убедимся что метки классов подгрузились верно\n",
        "print('Пример картинок (random sample)')\n",
        "plt.figure(figsize=(12,8))\n",
        "\n",
        "random_image = df[df['Category']=='1'].sample(n=9)\n",
        "random_image_paths = random_image['Id'].values\n",
        "random_image_cat = random_image['Category'].values\n",
        "\n",
        "for index, path in enumerate(random_image_paths):\n",
        "    im = PIL.Image.open(PATH+path)\n",
        "    plt.subplot(3,3, index+1)\n",
        "    plt.imshow(im)\n",
        "    plt.title('Class: '+str(random_image_cat[index]))\n",
        "    plt.axis('off')\n",
        "plt.show()"
      ],
      "metadata": {
        "trusted": true,
        "id": "lzutL_o6C-_9"
      },
      "execution_count": null,
      "outputs": []
    },
    {
      "cell_type": "code",
      "source": [
        "# как видим изображения имеют разный размер\n",
        "image = PIL.Image.open(PATH+path)\n",
        "imgplot = plt.imshow(image)\n",
        "plt.show()\n",
        "image.size"
      ],
      "metadata": {
        "trusted": true,
        "id": "ueT74U1dC-_-"
      },
      "execution_count": null,
      "outputs": []
    },
    {
      "cell_type": "markdown",
      "source": [
        " ## Stratify Split"
      ],
      "metadata": {
        "id": "IolhBycYC-__"
      }
    },
    {
      "cell_type": "code",
      "source": [
        "# трейн / тест\n",
        "train_files, test_files, train_labels, test_labels = \\\n",
        "    train_test_split(df['Id'], df['Category'], test_size=0.2, random_state=42, stratify=df['Category'])\n",
        "\n",
        "train_files = pd.DataFrame(train_files)\n",
        "test_files = pd.DataFrame(test_files)\n",
        "train_files['Category'] = train_labels\n",
        "test_files['Category'] = test_labels\n",
        "\n",
        "train_files.shape, test_files.shape"
      ],
      "metadata": {
        "trusted": true,
        "id": "BMNVMt3wC-__"
      },
      "execution_count": null,
      "outputs": []
    },
    {
      "cell_type": "code",
      "source": [
        "train_files.head(5)"
      ],
      "metadata": {
        "trusted": true,
        "id": "RLCg3Ed9C_AA"
      },
      "execution_count": null,
      "outputs": []
    },
    {
      "cell_type": "code",
      "source": [
        "train_files['Category'].value_counts()"
      ],
      "metadata": {
        "trusted": true,
        "id": "9zglnFVIC_AA"
      },
      "execution_count": null,
      "outputs": []
    },
    {
      "cell_type": "code",
      "source": [
        "test_files['Category'].value_counts()"
      ],
      "metadata": {
        "trusted": true,
        "id": "VpX2LTf-C_AA"
      },
      "execution_count": null,
      "outputs": []
    },
    {
      "cell_type": "markdown",
      "source": [
        "### Data augmentation"
      ],
      "metadata": {
        "id": "K_DuN9yFC_AB"
      }
    },
    {
      "cell_type": "code",
      "source": [
        "# Аугментация данных очень важна когда у нас не большой датасет (как в нашем случае)\n",
        "\n",
        "train_datagen = ImageDataGenerator(rescale=1. / 255, \n",
        "                                    rotation_range = 50,\n",
        "                                    shear_range=0.2,\n",
        "                                    zoom_range=[0.75,1.25],\n",
        "                                    brightness_range=[0.5, 1.5],\n",
        "                                    width_shift_range=0.1,\n",
        "                                    height_shift_range=0.1,\n",
        "                                    horizontal_flip=True)\n",
        "test_datagen = ImageDataGenerator(rescale=1. / 255)"
      ],
      "metadata": {
        "trusted": true,
        "id": "0UnLnvHrC_AB"
      },
      "execution_count": null,
      "outputs": []
    },
    {
      "cell_type": "markdown",
      "source": [
        "### datagen"
      ],
      "metadata": {
        "id": "PtNoDdTqC_AB"
      }
    },
    {
      "cell_type": "code",
      "source": [
        "# \"Заворачиваем\" наши данные в generator\n",
        "\n",
        "train_generator = train_datagen.flow_from_dataframe(\n",
        "    dataframe=train_files,\n",
        "    directory=PATH,\n",
        "    x_col=\"Id\",\n",
        "    y_col=\"Category\",\n",
        "    target_size=(IMG_SIZE, IMG_SIZE),\n",
        "    batch_size=BATCH_SIZE,\n",
        "    class_mode='categorical',\n",
        "    shuffle=True, \n",
        "    seed=RANDOM_SEED,)\n",
        "\n",
        "test_generator = test_datagen.flow_from_dataframe(\n",
        "    dataframe=test_files,\n",
        "    directory=PATH,\n",
        "    x_col=\"Id\",\n",
        "    y_col=\"Category\",\n",
        "    target_size=(IMG_SIZE, IMG_SIZE),\n",
        "    batch_size=BATCH_SIZE,\n",
        "    class_mode='categorical',\n",
        "    shuffle=False, \n",
        "    seed=RANDOM_SEED,)"
      ],
      "metadata": {
        "trusted": true,
        "id": "Mw-VhVvnC_AC"
      },
      "execution_count": null,
      "outputs": []
    },
    {
      "cell_type": "code",
      "source": [
        "from skimage import io\n",
        "\n",
        "def imshow(image_RGB):\n",
        "  io.imshow(image_RGB)\n",
        "  io.show()\n",
        "\n",
        "x,y = train_generator.next()\n",
        "print('Пример картинок из train_generator')\n",
        "plt.figure(figsize=(12,8))\n",
        "\n",
        "for i in range(0,6):\n",
        "    image = x[i]\n",
        "    plt.subplot(3,3, i+1)\n",
        "    plt.imshow(image)\n",
        "    #plt.title('Class: '+str(y[i]))\n",
        "    #plt.axis('off')\n",
        "plt.show()"
      ],
      "metadata": {
        "trusted": true,
        "id": "nPEQDuqTC_AC"
      },
      "execution_count": null,
      "outputs": []
    },
    {
      "cell_type": "code",
      "source": [
        "x,y = test_generator.next()\n",
        "print('Пример картинок из test_generator')\n",
        "plt.figure(figsize=(12,8))\n",
        "\n",
        "for i in range(0,6):\n",
        "    image = x[i]\n",
        "    plt.subplot(3,3, i+1)\n",
        "    plt.imshow(image)\n",
        "    #plt.title('Class: '+str(y[i]))\n",
        "    #plt.axis('off')\n",
        "plt.show()"
      ],
      "metadata": {
        "trusted": true,
        "id": "n9Z2aO-KC_AC"
      },
      "execution_count": null,
      "outputs": []
    },
    {
      "cell_type": "markdown",
      "source": [
        "# Model"
      ],
      "metadata": {
        "id": "_Ah4EvTHC_AD"
      }
    },
    {
      "cell_type": "code",
      "source": [
        "input_shape"
      ],
      "metadata": {
        "trusted": true,
        "id": "R1e5qASqC_AD"
      },
      "execution_count": null,
      "outputs": []
    },
    {
      "cell_type": "code",
      "source": [
        "base_model = efn.EfficientNetB6(weights='imagenet', include_top=False, input_shape=input_shape)"
      ],
      "metadata": {
        "trusted": true,
        "id": "UyO6Ud_ZC_AD"
      },
      "execution_count": null,
      "outputs": []
    },
    {
      "cell_type": "code",
      "source": [
        "base_model.summary()"
      ],
      "metadata": {
        "_kg_hide-output": true,
        "trusted": true,
        "id": "JxxG8zShC_AE"
      },
      "execution_count": null,
      "outputs": []
    },
    {
      "cell_type": "code",
      "source": [
        "# first: train only the top layers (which were randomly initialized)\n",
        "base_model.trainable = False"
      ],
      "metadata": {
        "trusted": true,
        "id": "MQx9uVxQC_AE"
      },
      "execution_count": null,
      "outputs": []
    },
    {
      "cell_type": "code",
      "source": [
        "model=M.Sequential()\n",
        "model.add(base_model)\n",
        "model.add(L.GlobalAveragePooling2D(),)\n",
        "model.add(L.Dense(CLASS_NUM, activation='softmax'))"
      ],
      "metadata": {
        "trusted": true,
        "id": "MOpIf2SoC_AE"
      },
      "execution_count": null,
      "outputs": []
    },
    {
      "cell_type": "code",
      "source": [
        "model.summary()"
      ],
      "metadata": {
        "_kg_hide-output": true,
        "trusted": true,
        "id": "r0UZ4S3LC_AF"
      },
      "execution_count": null,
      "outputs": []
    },
    {
      "cell_type": "code",
      "source": [
        "# сколько слоев\n",
        "print(len(model.layers))"
      ],
      "metadata": {
        "trusted": true,
        "id": "7cNO-M_SC_AF"
      },
      "execution_count": null,
      "outputs": []
    },
    {
      "cell_type": "code",
      "source": [
        "len(model.trainable_variables)"
      ],
      "metadata": {
        "trusted": true,
        "id": "d-45-Y00C_AF"
      },
      "execution_count": null,
      "outputs": []
    },
    {
      "cell_type": "code",
      "source": [
        "# Check the trainable status of the individual layers\n",
        "for layer in model.layers:\n",
        "    print(layer, layer.trainable)"
      ],
      "metadata": {
        "trusted": true,
        "id": "jds_cYQcC_AF"
      },
      "execution_count": null,
      "outputs": []
    },
    {
      "cell_type": "markdown",
      "source": [
        "## Fit"
      ],
      "metadata": {
        "id": "skY2QgMWC_AG"
      }
    },
    {
      "cell_type": "code",
      "source": [
        "LR=0.001\n",
        "model.compile(loss=\"categorical_crossentropy\", optimizer=optimizers.Adam(lr=LR), metrics=[\"accuracy\"])"
      ],
      "metadata": {
        "trusted": true,
        "id": "Io84ceeoC_AG"
      },
      "execution_count": null,
      "outputs": []
    },
    {
      "cell_type": "code",
      "source": [
        "checkpoint = ModelCheckpoint('best_model.hdf5' , monitor = ['val_accuracy'] , verbose = 1  , mode = 'max')\n",
        "earlystop = EarlyStopping(monitor='val_accuracy', patience=5, restore_best_weights=True)\n",
        "callbacks_list = [checkpoint, earlystop]"
      ],
      "metadata": {
        "trusted": true,
        "id": "ve3_VakYC_AG"
      },
      "execution_count": null,
      "outputs": []
    },
    {
      "cell_type": "code",
      "source": [
        "scores = model.evaluate_generator(test_generator, verbose=1)\n",
        "print(\"Accuracy: %.2f%%\" % (scores[1]*100))"
      ],
      "metadata": {
        "trusted": true,
        "id": "mzE_u4s_C_AH"
      },
      "execution_count": null,
      "outputs": []
    },
    {
      "cell_type": "code",
      "source": [
        "# Обучаем\n",
        "history = model.fit_generator(\n",
        "                    train_generator,\n",
        "                    steps_per_epoch = train_generator.samples//train_generator.batch_size,\n",
        "                    validation_data = test_generator, \n",
        "                    validation_steps = test_generator.samples//test_generator.batch_size,\n",
        "                    epochs = 5,\n",
        "                    callbacks = callbacks_list\n",
        "                    )"
      ],
      "metadata": {
        "_kg_hide-output": true,
        "trusted": true,
        "id": "BAHk4uIiC_AH"
      },
      "execution_count": null,
      "outputs": []
    },
    {
      "cell_type": "code",
      "source": [
        "# удивительно на сколько эта модель хорошо умеет извлекать признаки!\n",
        "# даже без дообучения получаем столь высокий Accuracy"
      ],
      "metadata": {
        "trusted": true,
        "id": "jJxkL_laC_AH"
      },
      "execution_count": null,
      "outputs": []
    },
    {
      "cell_type": "code",
      "source": [
        "model.save('../working/model_step1.hdf5')\n",
        "model.load_weights('best_model.hdf5')"
      ],
      "metadata": {
        "trusted": true,
        "id": "0a9Uw_UMC_AH"
      },
      "execution_count": null,
      "outputs": []
    },
    {
      "cell_type": "code",
      "source": [
        "scores = model.evaluate_generator(test_generator, verbose=1)\n",
        "print(\"Accuracy: %.2f%%\" % (scores[1]*100))"
      ],
      "metadata": {
        "trusted": true,
        "id": "kXkBN45cC_AI"
      },
      "execution_count": null,
      "outputs": []
    },
    {
      "cell_type": "code",
      "source": [
        "def plot_history(history):\n",
        "    plt.figure(figsize=(10,5))\n",
        "    #plt.style.use('dark_background')\n",
        "    acc = history.history['accuracy']\n",
        "    val_acc = history.history['val_accuracy']\n",
        "    loss = history.history['loss']\n",
        "    val_loss = history.history['val_loss']\n",
        "\n",
        "    epochs = range(len(acc))\n",
        "\n",
        "    plt.plot(epochs, acc, 'b', label='Training acc')\n",
        "    plt.plot(epochs, val_acc, 'g', label='Validation acc')\n",
        "    plt.title('Training and validation accuracy')\n",
        "    plt.legend()\n",
        "\n",
        "    #plt.figure()\n",
        "    plt.figure(figsize=(10,5))\n",
        "    #plt.style.use('dark_background')\n",
        "    plt.plot(epochs, loss, 'b', label='Training loss')\n",
        "    plt.plot(epochs, val_loss, 'g', label='Validation loss')\n",
        "    plt.title('Training and validation loss')\n",
        "    plt.legend()\n",
        "\n",
        "    plt.show()\n",
        "\n",
        "plot_history(history)"
      ],
      "metadata": {
        "_kg_hide-input": true,
        "trusted": true,
        "id": "yFQiiJpKC_AI"
      },
      "execution_count": null,
      "outputs": []
    },
    {
      "cell_type": "markdown",
      "source": [
        "## Step 2"
      ],
      "metadata": {
        "id": "gi13O-VbC_AJ"
      }
    },
    {
      "cell_type": "code",
      "source": [
        "# Let's take a look to see how many layers are in the base model\n",
        "print(\"Number of layers in the base model: \", len(base_model.layers))"
      ],
      "metadata": {
        "trusted": true,
        "id": "CCv1hjNnC_AJ"
      },
      "execution_count": null,
      "outputs": []
    },
    {
      "cell_type": "code",
      "source": [
        "base_model.trainable = True\n",
        "\n",
        "# Fine-tune from this layer onwards\n",
        "fine_tune_at = len(base_model.layers)//2\n",
        "\n",
        "# Freeze all the layers before the `fine_tune_at` layer\n",
        "for layer in base_model.layers[:fine_tune_at]:\n",
        "  layer.trainable =  False"
      ],
      "metadata": {
        "trusted": true,
        "id": "FnskBoe9C_AK"
      },
      "execution_count": null,
      "outputs": []
    },
    {
      "cell_type": "code",
      "source": [
        "len(base_model.trainable_variables)"
      ],
      "metadata": {
        "trusted": true,
        "id": "MOE1O0t-C_AK"
      },
      "execution_count": null,
      "outputs": []
    },
    {
      "cell_type": "code",
      "source": [
        "# Check the trainable status of the individual layers\n",
        "for layer in model.layers:\n",
        "    print(layer, layer.trainable)"
      ],
      "metadata": {
        "trusted": true,
        "id": "tU0tPQNLC_AL"
      },
      "execution_count": null,
      "outputs": []
    },
    {
      "cell_type": "code",
      "source": [
        "LR=0.0001\n",
        "model.compile(loss=\"categorical_crossentropy\", optimizer=optimizers.Adam(lr=LR), metrics=[\"accuracy\"])"
      ],
      "metadata": {
        "trusted": true,
        "id": "OvgZlBdrC_AL"
      },
      "execution_count": null,
      "outputs": []
    },
    {
      "cell_type": "code",
      "source": [
        "model.summary()"
      ],
      "metadata": {
        "_kg_hide-output": false,
        "trusted": true,
        "id": "iYPcwK8VC_AL"
      },
      "execution_count": null,
      "outputs": []
    },
    {
      "cell_type": "code",
      "source": [
        "scores = model.evaluate_generator(test_generator, verbose=1)\n",
        "print(\"Accuracy: %.2f%%\" % (scores[1]*100))"
      ],
      "metadata": {
        "trusted": true,
        "id": "75_RkL2cC_AL"
      },
      "execution_count": null,
      "outputs": []
    },
    {
      "cell_type": "code",
      "source": [
        "# Обучаем\n",
        "history = model.fit_generator(\n",
        "        train_generator,\n",
        "        steps_per_epoch = train_generator.samples//train_generator.batch_size,\n",
        "        validation_data = test_generator, \n",
        "        validation_steps = test_generator.samples//test_generator.batch_size,\n",
        "        epochs = 10,\n",
        "        callbacks = callbacks_list\n",
        ")"
      ],
      "metadata": {
        "trusted": true,
        "id": "xFJmIXJ-C_AM"
      },
      "execution_count": null,
      "outputs": []
    },
    {
      "cell_type": "code",
      "source": [
        "model.save('../working/model_step2.hdf5')\n",
        "model.load_weights('best_model.hdf5')"
      ],
      "metadata": {
        "trusted": true,
        "id": "xU0ClmeDC_AM"
      },
      "execution_count": null,
      "outputs": []
    },
    {
      "cell_type": "code",
      "source": [
        "scores = model.evaluate_generator(test_generator, verbose=1)\n",
        "print(\"Accuracy: %.2f%%\" % (scores[1]*100))"
      ],
      "metadata": {
        "trusted": true,
        "id": "gB2IGTzVC_AN"
      },
      "execution_count": null,
      "outputs": []
    },
    {
      "cell_type": "code",
      "source": [
        "plot_history(history)"
      ],
      "metadata": {
        "trusted": true,
        "id": "ngfJZdLbC_AN"
      },
      "execution_count": null,
      "outputs": []
    },
    {
      "cell_type": "markdown",
      "source": [
        "## Step 3"
      ],
      "metadata": {
        "id": "-GpqNmrNC_AN"
      }
    },
    {
      "cell_type": "code",
      "source": [
        "base_model.trainable = True"
      ],
      "metadata": {
        "trusted": true,
        "id": "nFFPO6XrC_AN"
      },
      "execution_count": null,
      "outputs": []
    },
    {
      "cell_type": "code",
      "source": [
        "LR=0.00001\n",
        "model.compile(loss=\"categorical_crossentropy\", optimizer=optimizers.Adam(lr=LR), metrics=[\"accuracy\"])"
      ],
      "metadata": {
        "trusted": true,
        "id": "cb1z_lqEC_AO"
      },
      "execution_count": null,
      "outputs": []
    },
    {
      "cell_type": "code",
      "source": [
        "# Обучаем\n",
        "history = model.fit_generator(\n",
        "        train_generator,\n",
        "        steps_per_epoch = train_generator.samples//train_generator.batch_size,\n",
        "        validation_data = test_generator, \n",
        "        validation_steps = test_generator.samples//test_generator.batch_size,\n",
        "        epochs = 10,\n",
        "        callbacks = callbacks_list\n",
        ")"
      ],
      "metadata": {
        "trusted": true,
        "id": "MD1Ih9b0C_AO"
      },
      "execution_count": null,
      "outputs": []
    },
    {
      "cell_type": "code",
      "source": [
        "model.save('../working/model_step3.hdf5')\n",
        "model.load_weights('best_model.hdf5')"
      ],
      "metadata": {
        "trusted": true,
        "id": "Vv-ByvGvC_AO"
      },
      "execution_count": null,
      "outputs": []
    },
    {
      "cell_type": "code",
      "source": [
        "scores = model.evaluate_generator(test_generator, verbose=1)\n",
        "print(\"Accuracy: %.2f%%\" % (scores[1]*100))"
      ],
      "metadata": {
        "trusted": true,
        "id": "W3otNPzDC_AP"
      },
      "execution_count": null,
      "outputs": []
    },
    {
      "cell_type": "markdown",
      "source": [
        "# Step 4"
      ],
      "metadata": {
        "id": "CuWyPTa8C_AP"
      }
    },
    {
      "cell_type": "code",
      "source": [
        "EPOCHS               = 10\n",
        "BATCH_SIZE           = 4 # уменьшаем batch если сеть большая, иначе не влезет в память на GPU\n",
        "LR                   = 1e-4\n",
        "\n",
        "IMG_SIZE             = 512\n",
        "IMG_CHANNELS         = 3\n",
        "input_shape          = (IMG_SIZE, IMG_SIZE, IMG_CHANNELS)"
      ],
      "metadata": {
        "trusted": true,
        "id": "92ciZq6KC_AP"
      },
      "execution_count": null,
      "outputs": []
    },
    {
      "cell_type": "code",
      "source": [
        "train_datagen = ImageDataGenerator(rescale=1. / 255, \n",
        "                                    #rotation_range = 90,\n",
        "                                    #shear_range=0.2,\n",
        "                                    zoom_range=[0.75,1.25],\n",
        "                                    #brightness_range=[0.5, 1.5],\n",
        "                                    #width_shift_range=0.1,\n",
        "                                    #height_shift_range=0.1,\n",
        "                                    horizontal_flip=True)\n",
        "test_datagen = ImageDataGenerator(rescale=1. / 255)"
      ],
      "metadata": {
        "trusted": true,
        "id": "i8GFpzagC_AP"
      },
      "execution_count": null,
      "outputs": []
    },
    {
      "cell_type": "code",
      "source": [
        "train_generator = train_datagen.flow_from_dataframe(\n",
        "    dataframe=train_files,\n",
        "    directory=PATH,\n",
        "    x_col=\"Id\",\n",
        "    y_col=\"Category\",\n",
        "    target_size=(IMG_SIZE, IMG_SIZE),\n",
        "    batch_size=BATCH_SIZE,\n",
        "    class_mode='categorical',\n",
        "    shuffle=True, \n",
        "    seed=RANDOM_SEED,)\n",
        "\n",
        "test_generator = test_datagen.flow_from_dataframe(\n",
        "    dataframe=test_files,\n",
        "    directory=PATH,\n",
        "    x_col=\"Id\",\n",
        "    y_col=\"Category\",\n",
        "    target_size=(IMG_SIZE, IMG_SIZE),\n",
        "    batch_size=BATCH_SIZE,\n",
        "    class_mode='categorical',\n",
        "    shuffle=False, \n",
        "    seed=RANDOM_SEED,)"
      ],
      "metadata": {
        "trusted": true,
        "id": "-T2_t10mC_AQ"
      },
      "execution_count": null,
      "outputs": []
    },
    {
      "cell_type": "code",
      "source": [
        "base_model = efn.EfficientNetB6(weights='imagenet', include_top=False, input_shape=input_shape)"
      ],
      "metadata": {
        "trusted": true,
        "id": "gS3_28k2C_AQ"
      },
      "execution_count": null,
      "outputs": []
    },
    {
      "cell_type": "code",
      "source": [
        "model=M.Sequential()\n",
        "model.add(base_model)\n",
        "model.add(L.GlobalAveragePooling2D(),)\n",
        "model.add(L.Dense(CLASS_NUM, activation='softmax'))"
      ],
      "metadata": {
        "trusted": true,
        "id": "EohS_3otC_AQ"
      },
      "execution_count": null,
      "outputs": []
    },
    {
      "cell_type": "code",
      "source": [
        "model.summary()"
      ],
      "metadata": {
        "trusted": true,
        "id": "xH8DAfBGC_AR"
      },
      "execution_count": null,
      "outputs": []
    },
    {
      "cell_type": "code",
      "source": [
        "model.compile(loss=\"categorical_crossentropy\", optimizer=optimizers.Adam(lr=LR), metrics=[\"accuracy\"])"
      ],
      "metadata": {
        "trusted": true,
        "id": "P6T5uz1aC_AR"
      },
      "execution_count": null,
      "outputs": []
    },
    {
      "cell_type": "code",
      "source": [
        "model.load_weights('best_model.hdf5')"
      ],
      "metadata": {
        "trusted": true,
        "id": "6KhcNHPXC_AR"
      },
      "execution_count": null,
      "outputs": []
    },
    {
      "cell_type": "code",
      "source": [
        "# Обучаем\n",
        "history = model.fit_generator(\n",
        "        train_generator,\n",
        "        steps_per_epoch = train_generator.samples//train_generator.batch_size,\n",
        "        validation_data = test_generator, \n",
        "        validation_steps = test_generator.samples//test_generator.batch_size,\n",
        "        epochs = EPOCHS,\n",
        "        callbacks = callbacks_list\n",
        "        )"
      ],
      "metadata": {
        "trusted": true,
        "id": "ehYfTxoLC_AS"
      },
      "execution_count": null,
      "outputs": []
    },
    {
      "cell_type": "code",
      "source": [
        "model.save('../working/model_step4.hdf5')\n",
        "model.load_weights('best_model.hdf5')"
      ],
      "metadata": {
        "trusted": true,
        "id": "uld27Vf-C_AS"
      },
      "execution_count": null,
      "outputs": []
    },
    {
      "cell_type": "code",
      "source": [
        "scores = model.evaluate_generator(test_generator, verbose=1)\n",
        "print(\"Accuracy: %.2f%%\" % (scores[1]*100))"
      ],
      "metadata": {
        "trusted": true,
        "id": "X4yO5YTJC_AS"
      },
      "execution_count": null,
      "outputs": []
    },
    {
      "cell_type": "code",
      "source": [
        "plot_history(history)"
      ],
      "metadata": {
        "trusted": true,
        "id": "9Iet5jgBC_AS"
      },
      "execution_count": null,
      "outputs": []
    },
    {
      "cell_type": "markdown",
      "source": [
        "# Final Score"
      ],
      "metadata": {
        "id": "kr5yZre3C_AT"
      }
    },
    {
      "cell_type": "code",
      "source": [
        "from sklearn.metrics import accuracy_score"
      ],
      "metadata": {
        "trusted": true,
        "id": "wz_VqyzjC_AT"
      },
      "execution_count": null,
      "outputs": []
    },
    {
      "cell_type": "code",
      "source": [
        "predictions = model.predict_generator(test_generator, verbose=1) \n",
        "predictions = np.argmax(predictions, axis=-1) #multiple categories\n",
        "label_map = (train_generator.class_indices)\n",
        "label_map = dict((v,k) for k,v in label_map.items()) #flip k,v\n",
        "predictions = [label_map[k] for k in predictions]"
      ],
      "metadata": {
        "trusted": true,
        "id": "NWvFxRaNC_AT"
      },
      "execution_count": null,
      "outputs": []
    },
    {
      "cell_type": "code",
      "source": [
        "filenames_with_dir=test_generator.filenames\n",
        "submission = pd.DataFrame({'Predict':predictions}, columns=['Predict'], index=filenames_with_dir)\n",
        "test_files.index = test_files['Id']\n",
        "tmp_y = pd.concat([submission['Predict'], test_files['Category']], axis=1, sort=False)\n",
        "tmp_y.head(5)"
      ],
      "metadata": {
        "trusted": true,
        "id": "Dq9t_SB0C_AT"
      },
      "execution_count": null,
      "outputs": []
    },
    {
      "cell_type": "code",
      "source": [
        "print('Accuracy: %.2f%%' % (accuracy_score(tmp_y['Category'], tmp_y['Predict'],)*100))"
      ],
      "metadata": {
        "trusted": true,
        "id": "0ri2jPPzC_AU"
      },
      "execution_count": null,
      "outputs": []
    },
    {
      "cell_type": "markdown",
      "source": [
        "# TTA"
      ],
      "metadata": {
        "id": "bD-OgUQXC_AU"
      }
    },
    {
      "cell_type": "code",
      "source": [
        "model.load_weights('best_model.hdf5')"
      ],
      "metadata": {
        "trusted": true,
        "id": "oghgtsYzC_AU"
      },
      "execution_count": null,
      "outputs": []
    },
    {
      "cell_type": "code",
      "source": [
        "test_datagen = ImageDataGenerator(rescale=1. / 255,\n",
        "                                 rotation_range = 90,\n",
        "                                    shear_range=0.2,\n",
        "                                    zoom_range=[0.75,1.25],\n",
        "                                    brightness_range=[0.5, 1.5],\n",
        "                                    width_shift_range=0.1,\n",
        "                                    height_shift_range=0.1,)"
      ],
      "metadata": {
        "trusted": true,
        "id": "QV-Y4i2DC_AU"
      },
      "execution_count": null,
      "outputs": []
    },
    {
      "cell_type": "code",
      "source": [
        "test_generator = test_datagen.flow_from_dataframe(\n",
        "    dataframe=test_files,\n",
        "    directory=PATH,\n",
        "    x_col=\"Id\",\n",
        "    y_col=\"Category\",\n",
        "    target_size=(IMG_SIZE, IMG_SIZE),\n",
        "    batch_size=BATCH_SIZE,\n",
        "    class_mode='categorical',\n",
        "    shuffle=False, \n",
        "    seed=RANDOM_SEED,)"
      ],
      "metadata": {
        "trusted": true,
        "id": "xLsZjDH5C_AV"
      },
      "execution_count": null,
      "outputs": []
    },
    {
      "cell_type": "code",
      "source": [
        "x,y = test_generator.next()\n",
        "print('Пример картинок из test_generator')\n",
        "plt.figure(figsize=(12,8))\n",
        "\n",
        "for i in range(0,6):\n",
        "    image = x[i]\n",
        "    plt.subplot(3,3, i+1)\n",
        "    plt.imshow(image)\n",
        "plt.show()"
      ],
      "metadata": {
        "_kg_hide-input": true,
        "trusted": true,
        "id": "-aZhzz3BC_AV"
      },
      "execution_count": null,
      "outputs": []
    },
    {
      "cell_type": "code",
      "source": [
        "tta_steps = 10\n",
        "predictions = []\n",
        "\n",
        "for i in range(tta_steps):\n",
        "    preds = model.predict_generator(test_generator, verbose=1) \n",
        "    predictions.append(preds)\n",
        "\n",
        "pred = np.mean(predictions, axis=0)"
      ],
      "metadata": {
        "trusted": true,
        "id": "C4QSnX_SC_AV"
      },
      "execution_count": null,
      "outputs": []
    },
    {
      "cell_type": "code",
      "source": [
        "predictions = np.argmax(pred, axis=-1) #multiple categories\n",
        "label_map = (train_generator.class_indices)\n",
        "label_map = dict((v,k) for k,v in label_map.items()) #flip k,v\n",
        "predictions = [label_map[k] for k in predictions]\n",
        "filenames_with_dir=test_generator.filenames\n",
        "submission = pd.DataFrame({'Predict':predictions}, columns=['Predict'], index=filenames_with_dir)\n",
        "tmp_y = pd.concat([submission['Predict'], test_files['Category']], axis=1, sort=False)"
      ],
      "metadata": {
        "trusted": true,
        "id": "CbhomI-TC_AW"
      },
      "execution_count": null,
      "outputs": []
    },
    {
      "cell_type": "code",
      "source": [
        "print('Accuracy: %.2f%%' % (accuracy_score(tmp_y['Category'], tmp_y['Predict'],)*100))"
      ],
      "metadata": {
        "trusted": true,
        "id": "oWReQ91OC_AW"
      },
      "execution_count": null,
      "outputs": []
    },
    {
      "cell_type": "markdown",
      "source": [
        "## clean"
      ],
      "metadata": {
        "id": "qdPXhI4LC_AW"
      }
    },
    {
      "cell_type": "code",
      "source": [
        "# Clean PATH\n",
        "import shutil\n",
        "shutil.rmtree(PATH)"
      ],
      "metadata": {
        "_kg_hide-input": true,
        "trusted": true,
        "id": "NvM6O4HoC_AW"
      },
      "execution_count": null,
      "outputs": []
    },
    {
      "cell_type": "code",
      "source": [],
      "metadata": {
        "trusted": true,
        "id": "4m_HAdbZC_AX"
      },
      "execution_count": null,
      "outputs": []
    }
  ]
}