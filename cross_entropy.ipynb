{
  "nbformat": 4,
  "nbformat_minor": 0,
  "metadata": {
    "colab": {
      "name": "lecture_2.ipynb",
      "provenance": [],
      "collapsed_sections": [
        "dYiMSlimBMdh"
      ]
    },
    "kernelspec": {
      "name": "python3",
      "display_name": "Python 3"
    },
    "language_info": {
      "name": "python"
    }
  },
  "cells": [
    {
      "cell_type": "markdown",
      "metadata": {
        "id": "vQOdcqFLBBqB"
      },
      "source": [
        "Let`s write function that computes cross-entropy fuction on batch of samples. "
      ]
    },
    {
      "cell_type": "code",
      "metadata": {
        "id": "V0aNOQMBDPKN"
      },
      "source": [
        "import numpy as np"
      ],
      "execution_count": 1,
      "outputs": []
    },
    {
      "cell_type": "code",
      "metadata": {
        "id": "cOzXJXVZA_jQ"
      },
      "source": [
        "#YOUR CODE HERE\n",
        "def cross_entropy(prob: np.array, targets: np.array, epsilon=1e-9) -> float:\n",
        "  predictions = np.clip(prob, epsilon, 1. - epsilon)\n",
        "  N = predictions.shape[0]\n",
        "  ce = -np.sum(targets*np.log(predictions + 1e-9)) / N\n",
        "  return ce"
      ],
      "execution_count": 5,
      "outputs": []
    },
    {
      "cell_type": "code",
      "metadata": {
        "id": "fZmpzpMbDwgg"
      },
      "source": [
        "predictions = np.array([[0.25,0.25,0.25,0.25],\n",
        "                        [0.01,0.01,0.01,0.96]])\n",
        "\n",
        "targets = np.array([[0,0,0,1],\n",
        "                   [0,0,0,1]])\n",
        "\n",
        "ans = 0.71355817782 \n",
        "\n",
        "x = cross_entropy(predictions, targets)"
      ],
      "execution_count": 6,
      "outputs": []
    },
    {
      "cell_type": "code",
      "metadata": {
        "id": "XYiFBFNAD0ym"
      },
      "source": [
        "assert np.isclose(x, ans)"
      ],
      "execution_count": 7,
      "outputs": []
    },
    {
      "cell_type": "code",
      "metadata": {
        "id": "eJOT7F3BEFbd"
      },
      "source": [],
      "execution_count": null,
      "outputs": []
    }
  ]
}