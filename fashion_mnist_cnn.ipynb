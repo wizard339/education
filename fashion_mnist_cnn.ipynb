{
  "nbformat": 4,
  "nbformat_minor": 0,
  "metadata": {
    "colab": {
      "provenance": [],
      "include_colab_link": true
    },
    "kernelspec": {
      "name": "python3",
      "display_name": "Python 3"
    },
    "gpuClass": "standard"
  },
  "cells": [
    {
      "cell_type": "markdown",
      "metadata": {
        "id": "view-in-github",
        "colab_type": "text"
      },
      "source": [
        "<a href=\"https://colab.research.google.com/github/wizard339/education/blob/main/fashion_mnist_cnn.ipynb\" target=\"_parent\"><img src=\"https://colab.research.google.com/assets/colab-badge.svg\" alt=\"Open In Colab\"/></a>"
      ]
    },
    {
      "cell_type": "markdown",
      "metadata": {
        "id": "gWohvxTubkJF"
      },
      "source": [
        "# Свертки в Keras\n",
        "\n",
        "Будем использовать Fashion MNIST"
      ]
    },
    {
      "cell_type": "code",
      "metadata": {
        "id": "j1cE-NHC230I",
        "colab": {
          "base_uri": "https://localhost:8080/",
          "height": 85
        },
        "outputId": "a9545f46-cc7a-4fd6-aad5-cf65c008cf77"
      },
      "source": [
        "# !pip install -q tensorflow==2.1"
      ],
      "execution_count": null,
      "outputs": [
        {
          "output_type": "stream",
          "text": [
            "\u001b[K     |████████████████████████████████| 421.8MB 37kB/s \n",
            "\u001b[K     |████████████████████████████████| 450kB 50.4MB/s \n",
            "\u001b[K     |████████████████████████████████| 3.9MB 48.4MB/s \n",
            "\u001b[?25h  Building wheel for gast (setup.py) ... \u001b[?25l\u001b[?25hdone\n"
          ],
          "name": "stdout"
        }
      ]
    },
    {
      "cell_type": "code",
      "metadata": {
        "id": "xtgpb91EbkJJ",
        "colab": {
          "base_uri": "https://localhost:8080/"
        },
        "outputId": "0d2f6012-26ea-4437-d181-b6f70736801d"
      },
      "source": [
        "import numpy as np\n",
        "from sklearn.metrics import accuracy_score\n",
        "from matplotlib import pyplot as plt\n",
        "%matplotlib inline\n",
        "import tensorflow as tf\n",
        "print(\"We're using TF\", tf.__version__)\n",
        "import tensorflow.keras as keras\n",
        "import tensorflow.keras.models as M\n",
        "import tensorflow.keras.layers as L\n",
        "import tensorflow.keras.backend as K\n",
        "print(\"We are using Keras\", keras.__version__)\n",
        "import pandas as pd"
      ],
      "execution_count": 1,
      "outputs": [
        {
          "output_type": "stream",
          "name": "stdout",
          "text": [
            "We're using TF 2.9.2\n",
            "We are using Keras 2.9.0\n"
          ]
        }
      ]
    },
    {
      "cell_type": "code",
      "metadata": {
        "id": "-4LwMoWC3CuX",
        "colab": {
          "base_uri": "https://localhost:8080/",
          "height": 35
        },
        "outputId": "02f7ce81-6540-458a-eb15-76c14af741bd"
      },
      "source": [
        "# Проверяем что у нас работает GPU\n",
        "tf.test.gpu_device_name()"
      ],
      "execution_count": 2,
      "outputs": [
        {
          "output_type": "execute_result",
          "data": {
            "text/plain": [
              "'/device:GPU:0'"
            ],
            "application/vnd.google.colaboratory.intrinsic+json": {
              "type": "string"
            }
          },
          "metadata": {},
          "execution_count": 2
        }
      ]
    },
    {
      "cell_type": "code",
      "metadata": {
        "id": "leCBt1jY3E9Y",
        "colab": {
          "base_uri": "https://localhost:8080/"
        },
        "outputId": "03a657d3-814a-4e03-8249-9eff49deaa6c"
      },
      "source": [
        "#GPU count and name\n",
        "!nvidia-smi -L"
      ],
      "execution_count": 3,
      "outputs": [
        {
          "output_type": "stream",
          "name": "stdout",
          "text": [
            "GPU 0: Tesla T4 (UUID: GPU-988c7dbb-ce2c-abbe-afee-2d2a310c9d36)\n"
          ]
        }
      ]
    },
    {
      "cell_type": "markdown",
      "metadata": {
        "id": "bpgb9XRbbkJM"
      },
      "source": [
        "# Загрузим данные\n",
        "\n",
        "Классы:\n",
        "```\n",
        "0 T-shirt/top \n",
        "1 Trouser \n",
        "2 Pullover \n",
        "3 Dress \n",
        "4 Coat \n",
        "5 Sandal \n",
        "6 Shirt \n",
        "7 Sneaker \n",
        "8 Bag \n",
        "9 Ankle boot\n",
        "```\n",
        "\n",
        "\n"
      ]
    },
    {
      "cell_type": "code",
      "metadata": {
        "id": "urm1aZJwjQkC",
        "colab": {
          "base_uri": "https://localhost:8080/"
        },
        "outputId": "9c45a6ac-a055-471f-f997-5812a322af5b"
      },
      "source": [
        "(x_train, y_train), (x_val, y_val) = tf.keras.datasets.fashion_mnist.load_data()"
      ],
      "execution_count": 4,
      "outputs": [
        {
          "output_type": "stream",
          "name": "stdout",
          "text": [
            "Downloading data from https://storage.googleapis.com/tensorflow/tf-keras-datasets/train-labels-idx1-ubyte.gz\n",
            "29515/29515 [==============================] - 0s 0us/step\n",
            "Downloading data from https://storage.googleapis.com/tensorflow/tf-keras-datasets/train-images-idx3-ubyte.gz\n",
            "26421880/26421880 [==============================] - 0s 0us/step\n",
            "Downloading data from https://storage.googleapis.com/tensorflow/tf-keras-datasets/t10k-labels-idx1-ubyte.gz\n",
            "5148/5148 [==============================] - 0s 0us/step\n",
            "Downloading data from https://storage.googleapis.com/tensorflow/tf-keras-datasets/t10k-images-idx3-ubyte.gz\n",
            "4422102/4422102 [==============================] - 0s 0us/step\n"
          ]
        }
      ]
    },
    {
      "cell_type": "code",
      "metadata": {
        "id": "JXxm8f9Dupqb",
        "colab": {
          "base_uri": "https://localhost:8080/"
        },
        "outputId": "a355d158-141f-4c67-e85c-d646ef437d6d"
      },
      "source": [
        "print(x_train.shape)\n",
        "print(x_val.shape)\n",
        "print (y_train[:10])\n",
        "print (y_val[:10])"
      ],
      "execution_count": 5,
      "outputs": [
        {
          "output_type": "stream",
          "name": "stdout",
          "text": [
            "(60000, 28, 28)\n",
            "(10000, 28, 28)\n",
            "[9 0 0 3 0 2 7 2 5 5]\n",
            "[9 2 1 1 6 1 4 6 5 7]\n"
          ]
        }
      ]
    },
    {
      "cell_type": "code",
      "metadata": {
        "id": "yW57DlfmbkJP",
        "colab": {
          "base_uri": "https://localhost:8080/",
          "height": 582
        },
        "outputId": "95824282-9ea9-4f2d-a3c2-8f2bc2341d5d"
      },
      "source": [
        "x_train_image = np.tile(x_train[5, :, :].reshape((28, 28))[:, :, np.newaxis], (1, 1, 3))\n",
        "print(\"Пример кусочка картинки:\")\n",
        "plt.imshow(x_train_image[15:20, 5:10], cmap=\"Greys\")\n",
        "plt.show()\n",
        "print(\"Пример картинки:\")\n",
        "plt.imshow(x_train_image, cmap=\"Greys\")\n",
        "plt.show()\n",
        "print(\"y_train [shape %s] 10 примеров:\\n\" % (str(y_train.shape)), y_train[:10])"
      ],
      "execution_count": 6,
      "outputs": [
        {
          "output_type": "stream",
          "name": "stdout",
          "text": [
            "Пример кусочка картинки:\n"
          ]
        },
        {
          "output_type": "display_data",
          "data": {
            "text/plain": [
              "<Figure size 432x288 with 1 Axes>"
            ],
            "image/png": "[encoded data removed]"
          },
          "metadata": {
            "needs_background": "light"
          }
        },
        {
          "output_type": "stream",
          "name": "stdout",
          "text": [
            "Пример картинки:\n"
          ]
        },
        {
          "output_type": "display_data",
          "data": {
            "text/plain": [
              "<Figure size 432x288 with 1 Axes>"
            ],
            "image/png": "[encoded data removed]"
          },
          "metadata": {
            "needs_background": "light"
          }
        },
        {
          "output_type": "stream",
          "name": "stdout",
          "text": [
            "y_train [shape (60000,)] 10 примеров:\n",
            " [9 0 0 3 0 2 7 2 5 5]\n"
          ]
        }
      ]
    },
    {
      "cell_type": "code",
      "metadata": {
        "id": "Ntmlh71gbkJU",
        "colab": {
          "base_uri": "https://localhost:8080/"
        },
        "outputId": "ff4dc731-1c9b-4496-c753-1248c0e936be"
      },
      "source": [
        "# one-hot encode для ответов\n",
        "y_train_oh = keras.utils.to_categorical(y_train, 10)\n",
        "y_val_oh = keras.utils.to_categorical(y_val, 10)\n",
        "\n",
        "print(y_train_oh.shape)\n",
        "print(y_train_oh[:5], y_train[:5])"
      ],
      "execution_count": 7,
      "outputs": [
        {
          "output_type": "stream",
          "name": "stdout",
          "text": [
            "(60000, 10)\n",
            "[[0. 0. 0. 0. 0. 0. 0. 0. 0. 1.]\n",
            " [1. 0. 0. 0. 0. 0. 0. 0. 0. 0.]\n",
            " [1. 0. 0. 0. 0. 0. 0. 0. 0. 0.]\n",
            " [0. 0. 0. 1. 0. 0. 0. 0. 0. 0.]\n",
            " [1. 0. 0. 0. 0. 0. 0. 0. 0. 0.]] [9 0 0 3 0]\n"
          ]
        }
      ]
    },
    {
      "cell_type": "markdown",
      "metadata": {
        "id": "sFdgl0owpaff"
      },
      "source": [
        "# Собираем модель"
      ]
    },
    {
      "cell_type": "markdown",
      "metadata": {
        "id": "2br7Y727oGH5"
      },
      "source": [
        "Будем как и в предыдущем модуле минимизировать кросс-энтропию."
      ]
    },
    {
      "cell_type": "code",
      "metadata": {
        "id": "f75e-QsypY4a"
      },
      "source": [
        "K.clear_session()\n",
        "\n",
        "# в этот раз используем картинку как вход без вытягивания в вектор!\n",
        "\n",
        "model = M.Sequential()\n",
        "model.add(L.Conv2D(16, kernel_size=3, strides=1, padding='same', input_shape=(28, 28, 1)))\n",
        "model.add(L.MaxPool2D())\n",
        "model.add(L.Conv2D(32, kernel_size=3, strides=1, padding='same'))\n",
        "model.add(L.MaxPool2D())\n",
        "model.add(L.Conv2D(64, kernel_size=3, strides=1, padding='same'))\n",
        "model.add(L.MaxPool2D())\n",
        "model.add(L.Flatten())\n",
        "model.add(L.Dense(10, activation='softmax'))"
      ],
      "execution_count": 16,
      "outputs": []
    },
    {
      "cell_type": "code",
      "metadata": {
        "id": "oAyTk_FAbkJZ",
        "colab": {
          "base_uri": "https://localhost:8080/"
        },
        "outputId": "273eef0a-a97d-4f4b-d83c-7afd50e8533d"
      },
      "source": [
        "model.summary()"
      ],
      "execution_count": 17,
      "outputs": [
        {
          "output_type": "stream",
          "name": "stdout",
          "text": [
            "Model: \"sequential\"\n",
            "_________________________________________________________________\n",
            " Layer (type)                Output Shape              Param #   \n",
            "=================================================================\n",
            " conv2d (Conv2D)             (None, 28, 28, 16)        160       \n",
            "                                                                 \n",
            " max_pooling2d (MaxPooling2D  (None, 14, 14, 16)       0         \n",
            " )                                                               \n",
            "                                                                 \n",
            " conv2d_1 (Conv2D)           (None, 14, 14, 32)        4640      \n",
            "                                                                 \n",
            " max_pooling2d_1 (MaxPooling  (None, 7, 7, 32)         0         \n",
            " 2D)                                                             \n",
            "                                                                 \n",
            " conv2d_2 (Conv2D)           (None, 7, 7, 64)          18496     \n",
            "                                                                 \n",
            " max_pooling2d_2 (MaxPooling  (None, 3, 3, 64)         0         \n",
            " 2D)                                                             \n",
            "                                                                 \n",
            " flatten (Flatten)           (None, 576)               0         \n",
            "                                                                 \n",
            " dense (Dense)               (None, 10)                5770      \n",
            "                                                                 \n",
            "=================================================================\n",
            "Total params: 29,066\n",
            "Trainable params: 29,066\n",
            "Non-trainable params: 0\n",
            "_________________________________________________________________\n"
          ]
        }
      ]
    },
    {
      "cell_type": "code",
      "metadata": {
        "id": "05_NRSnWbkJc"
      },
      "source": [
        "model.compile(\n",
        "    loss='categorical_crossentropy',  # минимизируем кросс-энтропию\n",
        "    optimizer='adam',  # так будет быстрее, позже узнаем что это :)\n",
        "    metrics=['accuracy']  # выводим процент правильных ответов\n",
        ")"
      ],
      "execution_count": 18,
      "outputs": []
    },
    {
      "cell_type": "code",
      "metadata": {
        "id": "Tj7JoTt3rghC",
        "colab": {
          "base_uri": "https://localhost:8080/"
        },
        "outputId": "2fc0aec0-2eb3-44bd-d421-7a4e329b4712"
      },
      "source": [
        "# центрируем и нормируем, так сети будет проще учиться (позже узнаем почему :)\n",
        "x_train_float = x_train.astype(np.float) / 255 - 0.5\n",
        "x_val_float = x_val.astype(np.float) / 255 - 0.5"
      ],
      "execution_count": 19,
      "outputs": [
        {
          "output_type": "stream",
          "name": "stderr",
          "text": [
            "<ipython-input-19-00984c9222d3>:2: DeprecationWarning: `np.float` is a deprecated alias for the builtin `float`. To silence this warning, use `float` by itself. Doing this will not modify any behavior and is safe. If you specifically wanted the numpy scalar type, use `np.float64` here.\n",
            "Deprecated in NumPy 1.20; for more details and guidance: https://numpy.org/devdocs/release/1.20.0-notes.html#deprecations\n",
            "  x_train_float = x_train.astype(np.float) / 255 - 0.5\n",
            "<ipython-input-19-00984c9222d3>:3: DeprecationWarning: `np.float` is a deprecated alias for the builtin `float`. To silence this warning, use `float` by itself. Doing this will not modify any behavior and is safe. If you specifically wanted the numpy scalar type, use `np.float64` here.\n",
            "Deprecated in NumPy 1.20; for more details and guidance: https://numpy.org/devdocs/release/1.20.0-notes.html#deprecations\n",
            "  x_val_float = x_val.astype(np.float) / 255 - 0.5\n"
          ]
        }
      ]
    },
    {
      "cell_type": "code",
      "metadata": {
        "id": "0c6R3wKWbkJf",
        "colab": {
          "base_uri": "https://localhost:8080/"
        },
        "outputId": "69d87af9-7b83-4120-e4e9-cac5f9bb26b2"
      },
      "source": [
        "model.fit(\n",
        "    x_train_float[:, :, :, np.newaxis], \n",
        "    y_train_oh,\n",
        "    batch_size=32, \n",
        "    epochs=5,\n",
        "    validation_data=(x_val_float[:, :, :, np.newaxis], y_val_oh)\n",
        ")"
      ],
      "execution_count": 20,
      "outputs": [
        {
          "output_type": "stream",
          "name": "stdout",
          "text": [
            "Epoch 1/5\n",
            "1875/1875 [==============================] - 16s 4ms/step - loss: 0.4628 - accuracy: 0.8361 - val_loss: 0.3893 - val_accuracy: 0.8632\n",
            "Epoch 2/5\n",
            "1875/1875 [==============================] - 7s 4ms/step - loss: 0.3200 - accuracy: 0.8861 - val_loss: 0.3290 - val_accuracy: 0.8830\n",
            "Epoch 3/5\n",
            "1875/1875 [==============================] - 7s 4ms/step - loss: 0.2772 - accuracy: 0.9008 - val_loss: 0.2981 - val_accuracy: 0.8941\n",
            "Epoch 4/5\n",
            "1875/1875 [==============================] - 8s 4ms/step - loss: 0.2504 - accuracy: 0.9098 - val_loss: 0.2928 - val_accuracy: 0.8951\n",
            "Epoch 5/5\n",
            "1875/1875 [==============================] - 7s 4ms/step - loss: 0.2297 - accuracy: 0.9167 - val_loss: 0.2845 - val_accuracy: 0.9026\n"
          ]
        },
        {
          "output_type": "execute_result",
          "data": {
            "text/plain": [
              "<keras.callbacks.History at 0x7f82b6620e50>"
            ]
          },
          "metadata": {},
          "execution_count": 20
        }
      ]
    },
    {
      "cell_type": "code",
      "metadata": {
        "id": "EXK2Y6aZYQUW"
      },
      "source": [],
      "execution_count": null,
      "outputs": []
    }
  ]
}