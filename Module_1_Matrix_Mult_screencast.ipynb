{
  "cells": [
    {
      "cell_type": "markdown",
      "metadata": {
        "id": "view-in-github",
        "colab_type": "text"
      },
      "source": [
        "<a href=\"https://colab.research.google.com/github/wizard339/education/blob/main/Module_1_Matrix_Mult_screencast.ipynb\" target=\"_parent\"><img src=\"https://colab.research.google.com/assets/colab-badge.svg\" alt=\"Open In Colab\"/></a>"
      ]
    },
    {
      "cell_type": "code",
      "execution_count": 1,
      "metadata": {
        "collapsed": true,
        "id": "sIjPObS4mzom"
      },
      "outputs": [],
      "source": [
        "import numpy as np"
      ]
    },
    {
      "cell_type": "code",
      "execution_count": 2,
      "metadata": {
        "collapsed": true,
        "id": "yrPVvpW8mzop"
      },
      "outputs": [],
      "source": [
        "# произведение матриц\n",
        "A = np.random.randint(5, 12, (3, 3))\n",
        "B = np.random.randint(-2, 4, (3, 3))"
      ]
    },
    {
      "cell_type": "code",
      "execution_count": 3,
      "metadata": {
        "colab": {
          "base_uri": "https://localhost:8080/"
        },
        "id": "AneboScFmzop",
        "outputId": "d037b874-60ab-40a6-c17a-e66f5eb38232"
      },
      "outputs": [
        {
          "output_type": "execute_result",
          "data": {
            "text/plain": [
              "array([[ 7,  8,  6],\n",
              "       [ 5, 11,  5],\n",
              "       [ 5,  6, 10]])"
            ]
          },
          "metadata": {},
          "execution_count": 3
        }
      ],
      "source": [
        "A"
      ]
    },
    {
      "cell_type": "code",
      "execution_count": 4,
      "metadata": {
        "colab": {
          "base_uri": "https://localhost:8080/"
        },
        "id": "JmsER9fjmzoq",
        "outputId": "8ed41f96-2023-4b4a-a5e3-9deead139621"
      },
      "outputs": [
        {
          "output_type": "execute_result",
          "data": {
            "text/plain": [
              "array([[ 0,  0,  3],\n",
              "       [-1,  0, -1],\n",
              "       [-1,  2,  1]])"
            ]
          },
          "metadata": {},
          "execution_count": 4
        }
      ],
      "source": [
        "B"
      ]
    },
    {
      "cell_type": "code",
      "execution_count": 5,
      "metadata": {
        "colab": {
          "base_uri": "https://localhost:8080/"
        },
        "id": "ihoCPJdomzoq",
        "outputId": "5a10087c-435c-464b-9979-f2607be4c5e1"
      },
      "outputs": [
        {
          "output_type": "execute_result",
          "data": {
            "text/plain": [
              "array([[ 0,  0, 18],\n",
              "       [-5,  0, -5],\n",
              "       [-5, 12, 10]])"
            ]
          },
          "metadata": {},
          "execution_count": 5
        }
      ],
      "source": [
        "# Поэлементное умножение\n",
        "A*B"
      ]
    },
    {
      "cell_type": "code",
      "execution_count": 7,
      "metadata": {
        "colab": {
          "base_uri": "https://localhost:8080/"
        },
        "id": "3Dg1hAj2mzoq",
        "outputId": "5db23fc8-765f-4c6b-b9e2-243c9d1ee87a"
      },
      "outputs": [
        {
          "output_type": "stream",
          "name": "stdout",
          "text": [
            "[[-14  12  19]\n",
            " [-16  10   9]\n",
            " [-16  20  19]]\n"
          ]
        }
      ],
      "source": [
        "# тип np.matrix\n",
        "A_m = np.matrix(A)\n",
        "B_m = np.matrix(B)\n",
        "print(A_m*B_m)"
      ]
    },
    {
      "cell_type": "code",
      "execution_count": 8,
      "metadata": {
        "colab": {
          "base_uri": "https://localhost:8080/"
        },
        "id": "bIClxXvCmzor",
        "outputId": "92d0e44e-97e0-4ebb-acbb-7e8a63b347cf"
      },
      "outputs": [
        {
          "output_type": "execute_result",
          "data": {
            "text/plain": [
              "array([[-14,  12,  19],\n",
              "       [-16,  10,   9],\n",
              "       [-16,  20,  19]])"
            ]
          },
          "metadata": {},
          "execution_count": 8
        }
      ],
      "source": [
        "# Матричное умножение\n",
        "np.dot(A, B)"
      ]
    },
    {
      "cell_type": "code",
      "execution_count": 9,
      "metadata": {
        "colab": {
          "base_uri": "https://localhost:8080/"
        },
        "id": "qvhYV9Ejmzor",
        "outputId": "2a288806-5cbb-412b-9970-d37d16c8fee3"
      },
      "outputs": [
        {
          "output_type": "execute_result",
          "data": {
            "text/plain": [
              "array([[-14,  12,  19],\n",
              "       [-16,  10,   9],\n",
              "       [-16,  20,  19]])"
            ]
          },
          "metadata": {},
          "execution_count": 9
        }
      ],
      "source": [
        "# Матричное умножение\n",
        "A@B"
      ]
    },
    {
      "cell_type": "code",
      "execution_count": 10,
      "metadata": {
        "colab": {
          "base_uri": "https://localhost:8080/"
        },
        "id": "ssGi86DAmzos",
        "outputId": "4b7ac3a9-c078-4a53-fbdd-c4568a49545b"
      },
      "outputs": [
        {
          "output_type": "execute_result",
          "data": {
            "text/plain": [
              "array([[ 15,  18,  30],\n",
              "       [-12, -14, -16],\n",
              "       [  8,  20,  14]])"
            ]
          },
          "metadata": {},
          "execution_count": 10
        }
      ],
      "source": [
        "# Порядок умножения AB != BA\n",
        "B@A"
      ]
    },
    {
      "cell_type": "code",
      "execution_count": 12,
      "metadata": {
        "colab": {
          "base_uri": "https://localhost:8080/"
        },
        "id": "uVSxQL9Fmzou",
        "outputId": "6dd488db-ec93-4ae6-9a51-70b8809d2d9b"
      },
      "outputs": [
        {
          "output_type": "stream",
          "name": "stdout",
          "text": [
            "A:\n",
            " [[ 9  7 10 11  8]\n",
            " [ 5 11 10  5  5]\n",
            " [ 8  5  5  8  7]]\n",
            "B:\n",
            " [[ 3 -2]\n",
            " [-2  1]\n",
            " [ 0  3]\n",
            " [-2  0]\n",
            " [-1  2]]\n"
          ]
        }
      ],
      "source": [
        "# Умножение прямоугольных матриц возможно не в любом порядке\n",
        "A = np.random.randint(5, 12, (3, 5))\n",
        "B = np.random.randint(-2, 4, (5, 2))\n",
        "print('A:\\n', A)\n",
        "print('B:\\n', B)"
      ]
    },
    {
      "cell_type": "code",
      "execution_count": 13,
      "metadata": {
        "colab": {
          "base_uri": "https://localhost:8080/"
        },
        "id": "zYknKGobmzov",
        "outputId": "337ec61e-491e-4478-9ef0-106461a956e5"
      },
      "outputs": [
        {
          "output_type": "execute_result",
          "data": {
            "text/plain": [
              "array([[-17,  35],\n",
              "       [-22,  41],\n",
              "       [ -9,  18]])"
            ]
          },
          "metadata": {},
          "execution_count": 13
        }
      ],
      "source": [
        "# Умножение прямоугольных матриц возможно не в любом порядке\n",
        "A@B"
      ]
    },
    {
      "cell_type": "code",
      "execution_count": 14,
      "metadata": {
        "colab": {
          "base_uri": "https://localhost:8080/",
          "height": 201
        },
        "id": "RHCPrp6tmzov",
        "outputId": "7c3ded50-6f98-4d1e-d539-363751f18147"
      },
      "outputs": [
        {
          "output_type": "error",
          "ename": "ValueError",
          "evalue": "ignored",
          "traceback": [
            "\u001b[0;31m---------------------------------------------------------------------------\u001b[0m",
            "\u001b[0;31mValueError\u001b[0m                                Traceback (most recent call last)",
            "\u001b[0;32m<ipython-input-14-776a30abbcf0>\u001b[0m in \u001b[0;36m<module>\u001b[0;34m\u001b[0m\n\u001b[1;32m      1\u001b[0m \u001b[0;31m# Умножение прямоугольных матриц возможно не в любом порядке\u001b[0m\u001b[0;34m\u001b[0m\u001b[0;34m\u001b[0m\u001b[0;34m\u001b[0m\u001b[0m\n\u001b[0;32m----> 2\u001b[0;31m \u001b[0mB\u001b[0m\u001b[0;34m@\u001b[0m\u001b[0mA\u001b[0m\u001b[0;34m\u001b[0m\u001b[0;34m\u001b[0m\u001b[0m\n\u001b[0m",
            "\u001b[0;31mValueError\u001b[0m: matmul: Input operand 1 has a mismatch in its core dimension 0, with gufunc signature (n?,k),(k,m?)->(n?,m?) (size 3 is different from 2)"
          ]
        }
      ],
      "source": [
        "# Умножение прямоугольных матриц возможно не в любом порядке\n",
        "B@A"
      ]
    },
    {
      "cell_type": "code",
      "execution_count": 15,
      "metadata": {
        "colab": {
          "base_uri": "https://localhost:8080/"
        },
        "id": "hxLjjSqtmzov",
        "outputId": "114a7187-f523-4a8c-d3ca-cc8e41429a11"
      },
      "outputs": [
        {
          "output_type": "stream",
          "name": "stdout",
          "text": [
            "shape of A: (3, 5)\n",
            "shape of B: (5, 2)\n",
            "shape of AB: (3, 2)\n"
          ]
        }
      ],
      "source": [
        "# размер произведения матриц\n",
        "print('shape of A:', np.shape(A))\n",
        "print('shape of B:', np.shape(B))\n",
        "print('shape of AB:', np.shape(A@B))"
      ]
    },
    {
      "cell_type": "code",
      "execution_count": 16,
      "metadata": {
        "colab": {
          "base_uri": "https://localhost:8080/"
        },
        "id": "aPvvNctPmzov",
        "outputId": "62f616b4-023d-4294-cbd2-35e212d17175"
      },
      "outputs": [
        {
          "output_type": "stream",
          "name": "stdout",
          "text": [
            "A:\n",
            " [[ 3 -4  0  2]\n",
            " [-1 -2 -3  2]\n",
            " [ 0  2 -2 -1]\n",
            " [ 3  3 -4 -4]]\n",
            "D:\n",
            " [[ 1  0  0  0]\n",
            " [ 0  2  0  0]\n",
            " [ 0  0  0  0]\n",
            " [ 0  0  0 -1]]\n",
            "AD:\n",
            " [[ 3 -8  0 -2]\n",
            " [-1 -4  0 -2]\n",
            " [ 0  4  0  1]\n",
            " [ 3  6  0  4]]\n",
            "DA:\n",
            " [[ 3 -4  0  2]\n",
            " [-2 -4 -6  4]\n",
            " [ 0  0  0  0]\n",
            " [-3 -3  4  4]]\n"
          ]
        }
      ],
      "source": [
        "# умножение на специальные матрицы\n",
        "A = np.random.randint(-4, 4, (4, 4))\n",
        "D = np.diag([1, 2, 0, -1])\n",
        "print('A:\\n', A)\n",
        "print('D:\\n', D)\n",
        "print('AD:\\n', A@D)\n",
        "print('DA:\\n', D@A)"
      ]
    },
    {
      "cell_type": "code",
      "execution_count": 17,
      "metadata": {
        "colab": {
          "base_uri": "https://localhost:8080/"
        },
        "id": "puW-ETH9mzow",
        "outputId": "e594cae6-c0af-4c9d-d180-a187c9d20b23"
      },
      "outputs": [
        {
          "output_type": "execute_result",
          "data": {
            "text/plain": [
              "array([2, 6])"
            ]
          },
          "metadata": {},
          "execution_count": 17
        }
      ],
      "source": [
        "# умножение на одномерный массив numpy\n",
        "A = np.array([[1, 0, 1],[1, 1, 1]])\n",
        "b = np.array([-3, 4, 5])\n",
        "A@b"
      ]
    },
    {
      "cell_type": "code",
      "execution_count": null,
      "metadata": {
        "id": "3WvmPAWDmzow"
      },
      "outputs": [],
      "source": [
        "b@A"
      ]
    },
    {
      "cell_type": "code",
      "execution_count": 18,
      "metadata": {
        "colab": {
          "base_uri": "https://localhost:8080/"
        },
        "id": "cLucEKQymzow",
        "outputId": "116f6566-5be6-438e-ebe2-430efa799f85"
      },
      "outputs": [
        {
          "output_type": "stream",
          "name": "stdout",
          "text": [
            "[[ 1  1  1]\n",
            " [ 1  0 -1]\n",
            " [-1  2 -1]] <class 'numpy.ndarray'>\n"
          ]
        }
      ],
      "source": [
        "# матрица Грама ортогональной системы векторов\n",
        "x = np.array([1, 1, 1])\n",
        "y = np.array([1, 0, -1])\n",
        "z = np.array([-1, 2, -1])\n",
        "A = np.array([x, y, z])\n",
        "print (A, type(A))"
      ]
    },
    {
      "cell_type": "code",
      "execution_count": 19,
      "metadata": {
        "colab": {
          "base_uri": "https://localhost:8080/"
        },
        "id": "8eXwQdGQmzow",
        "outputId": "54b8ea97-b7f1-4059-f279-2f823f9723cf"
      },
      "outputs": [
        {
          "output_type": "execute_result",
          "data": {
            "text/plain": [
              "array([[3, 0, 0],\n",
              "       [0, 2, 0],\n",
              "       [0, 0, 6]])"
            ]
          },
          "metadata": {},
          "execution_count": 19
        }
      ],
      "source": [
        "# матрица Грама ортогональной системы векторов\n",
        "A@A.T"
      ]
    },
    {
      "cell_type": "code",
      "execution_count": 20,
      "metadata": {
        "colab": {
          "base_uri": "https://localhost:8080/"
        },
        "id": "rVOX1BY7mzox",
        "outputId": "cc31cba5-4a44-4738-b6c6-5da803c28681"
      },
      "outputs": [
        {
          "output_type": "stream",
          "name": "stdout",
          "text": [
            "[[ 0.57735027  0.57735027  0.57735027]\n",
            " [ 0.70710678  0.         -0.70710678]\n",
            " [-0.40824829  0.81649658 -0.40824829]] <class 'numpy.ndarray'>\n"
          ]
        }
      ],
      "source": [
        "# матрица Грама ортонормированной системы векторов\n",
        "x_norm = x/np.linalg.norm(x)\n",
        "y_norm = y/np.linalg.norm(y)\n",
        "z_norm = z/np.linalg.norm(z)\n",
        "A_norm = np.array([x_norm, y_norm, z_norm])\n",
        "print (A_norm, type(A_norm))"
      ]
    },
    {
      "cell_type": "code",
      "execution_count": 21,
      "metadata": {
        "colab": {
          "base_uri": "https://localhost:8080/"
        },
        "id": "aQDJpRrgmzox",
        "outputId": "6b713ca4-5252-4368-fabf-89f78829a9f1"
      },
      "outputs": [
        {
          "output_type": "execute_result",
          "data": {
            "text/plain": [
              "array([[ 1.00000000e+00, -1.77961928e-17,  1.66584120e-17],\n",
              "       [-1.77961928e-17,  1.00000000e+00, -2.45142679e-17],\n",
              "       [ 1.66584120e-17, -2.45142679e-17,  1.00000000e+00]])"
            ]
          },
          "metadata": {},
          "execution_count": 21
        }
      ],
      "source": [
        "# матрица Грама ортонормированной системы векторов\n",
        "A_norm@A_norm.T"
      ]
    },
    {
      "cell_type": "code",
      "execution_count": 22,
      "metadata": {
        "colab": {
          "base_uri": "https://localhost:8080/"
        },
        "id": "jog2iRlamzox",
        "outputId": "10df04e0-42a0-4a37-e8d5-76a08f24ea38"
      },
      "outputs": [
        {
          "output_type": "execute_result",
          "data": {
            "text/plain": [
              "array([[ 1., -0.,  0.],\n",
              "       [-0.,  1., -0.],\n",
              "       [ 0., -0.,  1.]])"
            ]
          },
          "metadata": {},
          "execution_count": 22
        }
      ],
      "source": [
        "# ортонормированные системы рулят! :)\n",
        "np.round(A_norm@A_norm.T,1)"
      ]
    },
    {
      "cell_type": "code",
      "source": [],
      "metadata": {
        "id": "vhCEYevroAdU"
      },
      "execution_count": null,
      "outputs": []
    }
  ],
  "metadata": {
    "kernelspec": {
      "display_name": "Python 3",
      "language": "python",
      "name": "python3"
    },
    "language_info": {
      "codemirror_mode": {
        "name": "ipython",
        "version": 3
      },
      "file_extension": ".py",
      "mimetype": "text/x-python",
      "name": "python",
      "nbconvert_exporter": "python",
      "pygments_lexer": "ipython3",
      "version": "3.6.0"
    },
    "colab": {
      "provenance": [],
      "include_colab_link": true
    }
  },
  "nbformat": 4,
  "nbformat_minor": 0
}