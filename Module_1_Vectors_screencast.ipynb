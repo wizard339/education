{
  "nbformat": 4,
  "nbformat_minor": 0,
  "metadata": {
    "colab": {
      "provenance": [],
      "include_colab_link": true
    },
    "kernelspec": {
      "display_name": "Python 3",
      "language": "python",
      "name": "python3"
    },
    "language_info": {
      "codemirror_mode": {
        "name": "ipython",
        "version": 3
      },
      "file_extension": ".py",
      "mimetype": "text/x-python",
      "name": "python",
      "nbconvert_exporter": "python",
      "pygments_lexer": "ipython3",
      "version": "3.7.3"
    }
  },
  "cells": [
    {
      "cell_type": "markdown",
      "metadata": {
        "id": "view-in-github",
        "colab_type": "text"
      },
      "source": [
        "<a href=\"https://colab.research.google.com/github/wizard339/education/blob/main/Module_1_Vectors_screencast.ipynb\" target=\"_parent\"><img src=\"https://colab.research.google.com/assets/colab-badge.svg\" alt=\"Open In Colab\"/></a>"
      ]
    },
    {
      "cell_type": "code",
      "metadata": {
        "id": "Tc7xkEvkymVV"
      },
      "source": [
        "import numpy as np"
      ],
      "execution_count": 1,
      "outputs": []
    },
    {
      "cell_type": "code",
      "metadata": {
        "id": "vJHPEH0xymVm"
      },
      "source": [
        "# как создать вектор?"
      ],
      "execution_count": 2,
      "outputs": []
    },
    {
      "cell_type": "code",
      "metadata": {
        "id": "Cnl8HEfuymVq",
        "colab": {
          "base_uri": "https://localhost:8080/"
        },
        "outputId": "4603da41-e563-439a-ca3e-a235a7a4155e"
      },
      "source": [
        "# как одномерный массив numpy\n",
        "a = np.array([1, 2, 3])\n",
        "print(a, type(a))"
      ],
      "execution_count": 4,
      "outputs": [
        {
          "output_type": "stream",
          "name": "stdout",
          "text": [
            "[1 2 3] <class 'numpy.ndarray'>\n"
          ]
        }
      ]
    },
    {
      "cell_type": "code",
      "metadata": {
        "id": "Z_4zzU8rymVw",
        "colab": {
          "base_uri": "https://localhost:8080/"
        },
        "outputId": "aa14bc87-59b4-490f-8c4c-0070ab220fe6"
      },
      "source": [
        "np.array([1, 2, 3], dtype='float')"
      ],
      "execution_count": 5,
      "outputs": [
        {
          "output_type": "execute_result",
          "data": {
            "text/plain": [
              "array([1., 2., 3.])"
            ]
          },
          "metadata": {},
          "execution_count": 5
        }
      ]
    },
    {
      "cell_type": "code",
      "metadata": {
        "id": "FLn74OREymVz",
        "colab": {
          "base_uri": "https://localhost:8080/"
        },
        "outputId": "8f8b30e2-f57c-4af2-cc9a-666bede18722"
      },
      "source": [
        "# преобразовать из списка (list)\n",
        "x = [1, 2, 3]\n",
        "x_arr = np.array(x)\n",
        "print(x, type(x))\n",
        "print(x_arr, type(x_arr))"
      ],
      "execution_count": 7,
      "outputs": [
        {
          "output_type": "stream",
          "name": "stdout",
          "text": [
            "[1, 2, 3] <class 'list'>\n",
            "[1 2 3] <class 'numpy.ndarray'>\n"
          ]
        }
      ]
    },
    {
      "cell_type": "code",
      "metadata": {
        "id": "nGkg5GBwymV3",
        "colab": {
          "base_uri": "https://localhost:8080/"
        },
        "outputId": "80dd5653-cce6-4d76-9585-5d2404bb0d7d"
      },
      "source": [
        "# нулевой вектор\n",
        "np.zeros(5) "
      ],
      "execution_count": 8,
      "outputs": [
        {
          "output_type": "execute_result",
          "data": {
            "text/plain": [
              "array([0., 0., 0., 0., 0.])"
            ]
          },
          "metadata": {},
          "execution_count": 8
        }
      ]
    },
    {
      "cell_type": "code",
      "metadata": {
        "id": "LUDaxkcJymV6",
        "colab": {
          "base_uri": "https://localhost:8080/"
        },
        "outputId": "7ebc1d4f-50d8-4cfc-fdb3-8a855ceb2cda"
      },
      "source": [
        "# вектор из единиц\n",
        "np.ones(8)"
      ],
      "execution_count": 9,
      "outputs": [
        {
          "output_type": "execute_result",
          "data": {
            "text/plain": [
              "array([1., 1., 1., 1., 1., 1., 1., 1.])"
            ]
          },
          "metadata": {},
          "execution_count": 9
        }
      ]
    },
    {
      "cell_type": "code",
      "metadata": {
        "id": "4JJrxHdLymWB",
        "colab": {
          "base_uri": "https://localhost:8080/"
        },
        "outputId": "0ab3bbc3-9c0d-4f88-f84a-a41cf2198d74"
      },
      "source": [
        "# массив чисел по порядку\n",
        "np.arange(10, 50, 5)"
      ],
      "execution_count": 10,
      "outputs": [
        {
          "output_type": "execute_result",
          "data": {
            "text/plain": [
              "array([10, 15, 20, 25, 30, 35, 40, 45])"
            ]
          },
          "metadata": {},
          "execution_count": 10
        }
      ]
    },
    {
      "cell_type": "code",
      "metadata": {
        "id": "ul4_CKIkymWF",
        "colab": {
          "base_uri": "https://localhost:8080/"
        },
        "outputId": "573011de-917e-43a9-d7e7-14f82269bd85"
      },
      "source": [
        "# случайный вектор\n",
        "np.random.randint(-4, 2, 10) # dim=10, случаные целые числа от -4 до 2"
      ],
      "execution_count": 11,
      "outputs": [
        {
          "output_type": "execute_result",
          "data": {
            "text/plain": [
              "array([-2,  0, -2,  1, -2,  1,  0, -2,  0, -1])"
            ]
          },
          "metadata": {},
          "execution_count": 11
        }
      ]
    },
    {
      "cell_type": "code",
      "metadata": {
        "id": "xSF7nv58ymWJ",
        "colab": {
          "base_uri": "https://localhost:8080/"
        },
        "outputId": "88aff187-185d-4e26-b07e-5232f4da9801"
      },
      "source": [
        "# преобразовать из Pandas Series\n",
        "import pandas as pd\n",
        "data = [65, 70, 120, 35]\n",
        "s = pd.Series(data)\n",
        "print('Series:\\n', s)"
      ],
      "execution_count": 13,
      "outputs": [
        {
          "output_type": "stream",
          "name": "stdout",
          "text": [
            "Series:\n",
            " 0     65\n",
            "1     70\n",
            "2    120\n",
            "3     35\n",
            "dtype: int64\n"
          ]
        }
      ]
    },
    {
      "cell_type": "code",
      "metadata": {
        "id": "znujxj8aymWO",
        "colab": {
          "base_uri": "https://localhost:8080/"
        },
        "outputId": "4dcdf40b-716c-474f-f410-626b50e4c71f"
      },
      "source": [
        "x = s.values # возвращает значения s\n",
        "print('vector:\\n', x)\n",
        "print('type of x:', type(x))"
      ],
      "execution_count": 14,
      "outputs": [
        {
          "output_type": "stream",
          "name": "stdout",
          "text": [
            "vector:\n",
            " [ 65  70 120  35]\n",
            "type of x: <class 'numpy.ndarray'>\n"
          ]
        }
      ]
    },
    {
      "cell_type": "code",
      "metadata": {
        "id": "0ZYwt1ilymWU",
        "colab": {
          "base_uri": "https://localhost:8080/"
        },
        "outputId": "027c485c-3f94-4360-906b-9aea8e8c445f"
      },
      "source": [
        "# преобразовать из Pandas DataFrame\n",
        "d = {'$$': [65, 70, 120, 35], '2.Area': [50, 52, 80, 33],'3.Rooms':[3, 2, 1, 1], \n",
        "     '4.Floor':[5, 12, 10, 3], '5.Demo':[8, 4, 5, 10]}\n",
        "df = pd.DataFrame(d)\n",
        "print('Data Frame:\\n', df)"
      ],
      "execution_count": 15,
      "outputs": [
        {
          "output_type": "stream",
          "name": "stdout",
          "text": [
            "Data Frame:\n",
            "     $$  2.Area  3.Rooms  4.Floor  5.Demo\n",
            "0   65      50        3        5       8\n",
            "1   70      52        2       12       4\n",
            "2  120      80        1       10       5\n",
            "3   35      33        1        3      10\n"
          ]
        }
      ]
    },
    {
      "cell_type": "code",
      "metadata": {
        "id": "mnUU7al2ymWa",
        "colab": {
          "base_uri": "https://localhost:8080/"
        },
        "outputId": "7e5930b1-f318-4907-ee11-b5ff36172594"
      },
      "source": [
        "A = df.values # возвращает значения df\n",
        "print('Matrix:\\n', A)"
      ],
      "execution_count": 16,
      "outputs": [
        {
          "output_type": "stream",
          "name": "stdout",
          "text": [
            "Matrix:\n",
            " [[ 65  50   3   5   8]\n",
            " [ 70  52   2  12   4]\n",
            " [120  80   1  10   5]\n",
            " [ 35  33   1   3  10]]\n"
          ]
        }
      ]
    },
    {
      "cell_type": "code",
      "metadata": {
        "id": "w-4RhmRvymWf",
        "colab": {
          "base_uri": "https://localhost:8080/"
        },
        "outputId": "b6b488d4-e369-4579-a73b-fabcacddb794"
      },
      "source": [
        "x = A[1] # вторая строка матрицы А\n",
        "print('Second apartment vector:\\n', x)\n",
        "print('type of x:', type(x))"
      ],
      "execution_count": 17,
      "outputs": [
        {
          "output_type": "stream",
          "name": "stdout",
          "text": [
            "Second apartment vector:\n",
            " [70 52  2 12  4]\n",
            "type of x: <class 'numpy.ndarray'>\n"
          ]
        }
      ]
    },
    {
      "cell_type": "code",
      "metadata": {
        "id": "W6_SwmjNymWj",
        "colab": {
          "base_uri": "https://localhost:8080/"
        },
        "outputId": "1c503065-d22c-4338-aca5-32cdad4845b6"
      },
      "source": [
        "y = A[:, 0] # первый столбец матрицы А\n",
        "print('$$ vector:\\n',y)"
      ],
      "execution_count": 18,
      "outputs": [
        {
          "output_type": "stream",
          "name": "stdout",
          "text": [
            "$$ vector:\n",
            " [ 65  70 120  35]\n"
          ]
        }
      ]
    },
    {
      "cell_type": "code",
      "metadata": {
        "id": "xBlKUENeymWn",
        "colab": {
          "base_uri": "https://localhost:8080/"
        },
        "outputId": "02560738-b05f-4b7e-e43b-845d1aa83c83"
      },
      "source": [
        "# индексация векторов - поиск нужной координаты\n",
        "print('$$ of 3 apartment:', y[2]) # третья координата"
      ],
      "execution_count": 19,
      "outputs": [
        {
          "output_type": "stream",
          "name": "stdout",
          "text": [
            "$$ of 3 apartment: 120\n"
          ]
        }
      ]
    },
    {
      "cell_type": "code",
      "metadata": {
        "id": "NOi0XzfMymWr",
        "colab": {
          "base_uri": "https://localhost:8080/"
        },
        "outputId": "f5ab37e1-927c-46cf-d0cf-c81b8b3e85d2"
      },
      "source": [
        "# размерность вектора\n",
        "print('Number of apartments = dim(y):', len(y))"
      ],
      "execution_count": 20,
      "outputs": [
        {
          "output_type": "stream",
          "name": "stdout",
          "text": [
            "Number of apartments = dim(y): 4\n"
          ]
        }
      ]
    },
    {
      "cell_type": "code",
      "metadata": {
        "id": "Rhk38HtvymWy",
        "colab": {
          "base_uri": "https://localhost:8080/"
        },
        "outputId": "397b67d4-cc90-4f41-a518-d8feeb26fc55"
      },
      "source": [
        "# сумма векторов и умножение на число\n",
        "a = np.array([1, 2, 3])\n",
        "b = np.array([6, 7, 8])\n",
        "print('a+b:', a+b)\n",
        "print('2a:', 2*a)"
      ],
      "execution_count": 21,
      "outputs": [
        {
          "output_type": "stream",
          "name": "stdout",
          "text": [
            "a+b: [ 7  9 11]\n",
            "2a: [2 4 6]\n"
          ]
        }
      ]
    },
    {
      "cell_type": "code",
      "metadata": {
        "id": "GB9jEZniymW6",
        "colab": {
          "base_uri": "https://localhost:8080/"
        },
        "outputId": "4d708276-4264-4118-ea8b-6dc465f4ac3d"
      },
      "source": [
        "# сумма списков и умножение на число не является векторной операцией!\n",
        "a_list = [1, 2, 3]\n",
        "b_list = [6, 7, 8]\n",
        "print('a+b:', a_list+b_list)\n",
        "print('2a:', 2*a_list)"
      ],
      "execution_count": 22,
      "outputs": [
        {
          "output_type": "stream",
          "name": "stdout",
          "text": [
            "a+b: [1, 2, 3, 6, 7, 8]\n",
            "2a: [1, 2, 3, 1, 2, 3]\n"
          ]
        }
      ]
    },
    {
      "cell_type": "code",
      "metadata": {
        "id": "Uhem8xWDymXE",
        "colab": {
          "base_uri": "https://localhost:8080/"
        },
        "outputId": "3a08a7a3-b9ad-4247-b201-5ae7a083454d"
      },
      "source": [
        "# линейная комбинация с коэффициентами 2, 2, 3\n",
        "a = np.array([1, 2, 3])\n",
        "b = np.array([6, 7, 8])\n",
        "c = np.array([1, 0, 1])\n",
        "\n",
        "d = 2*a + 2*b + 3*c\n",
        "print('linear combination:', d)"
      ],
      "execution_count": 23,
      "outputs": [
        {
          "output_type": "stream",
          "name": "stdout",
          "text": [
            "linear combination: [17 18 25]\n"
          ]
        }
      ]
    },
    {
      "cell_type": "code",
      "metadata": {
        "id": "5nG5tKovymXK",
        "colab": {
          "base_uri": "https://localhost:8080/"
        },
        "outputId": "67b7dedb-36d5-4f74-e82a-af945beb55cc"
      },
      "source": [
        "# скалярное произведение\n",
        "\n",
        "s = np.dot(a, b)\n",
        "print('scalar product:', s)\n",
        "\n",
        "# покоординатное умножение\n",
        "print('coordinate product:', a*b)"
      ],
      "execution_count": 24,
      "outputs": [
        {
          "output_type": "stream",
          "name": "stdout",
          "text": [
            "scalar product: 44\n",
            "coordinate product: [ 6 14 24]\n"
          ]
        }
      ]
    },
    {
      "cell_type": "code",
      "metadata": {
        "id": "J9PPebk7ymXW",
        "colab": {
          "base_uri": "https://localhost:8080/"
        },
        "outputId": "6539af64-2b9a-4a61-d334-c252694e901e"
      },
      "source": [
        "# скалярное произведение - еще один способ\n",
        "s1 = a@b\n",
        "print('scalar product:', s1)"
      ],
      "execution_count": 25,
      "outputs": [
        {
          "output_type": "stream",
          "name": "stdout",
          "text": [
            "scalar product: 44\n"
          ]
        }
      ]
    },
    {
      "cell_type": "code",
      "metadata": {
        "id": "Hpgi94aRymXa",
        "colab": {
          "base_uri": "https://localhost:8080/"
        },
        "outputId": "a9fd4d53-2473-4824-e869-21b5ca550b51"
      },
      "source": [
        "# длина вектора\n",
        "l = np.linalg.norm(a)\n",
        "print('length of a:', l)"
      ],
      "execution_count": 26,
      "outputs": [
        {
          "output_type": "stream",
          "name": "stdout",
          "text": [
            "length of a: 3.7416573867739413\n"
          ]
        }
      ]
    },
    {
      "cell_type": "code",
      "metadata": {
        "id": "-0HZq_wUymXi",
        "colab": {
          "base_uri": "https://localhost:8080/"
        },
        "outputId": "a671e1ae-bff1-42c9-d4ba-cd2de131d1b9"
      },
      "source": [
        "# нормировка\n",
        "a_norm = a / np.linalg.norm(a)\n",
        "print('a_norm:', a_norm)\n",
        "print('length of a_norm:', np.linalg.norm(a_norm))"
      ],
      "execution_count": 27,
      "outputs": [
        {
          "output_type": "stream",
          "name": "stdout",
          "text": [
            "a_norm: [0.26726124 0.53452248 0.80178373]\n",
            "length of a_norm: 1.0\n"
          ]
        }
      ]
    },
    {
      "cell_type": "code",
      "metadata": {
        "id": "RXKe-abRymXo",
        "colab": {
          "base_uri": "https://localhost:8080/"
        },
        "outputId": "5438ba0b-3feb-4586-9099-17cc9d4b68c7"
      },
      "source": [
        "#пропорциональность и ортогональность\n",
        "a = np.array([1, 2, 1])\n",
        "b = a*2\n",
        "c = np.array([-1, 1, -1])\n",
        "print('a:', a)\n",
        "print('b:', b)\n",
        "print('c:', c)"
      ],
      "execution_count": 28,
      "outputs": [
        {
          "output_type": "stream",
          "name": "stdout",
          "text": [
            "a: [1 2 1]\n",
            "b: [2 4 2]\n",
            "c: [-1  1 -1]\n"
          ]
        }
      ]
    },
    {
      "cell_type": "code",
      "metadata": {
        "id": "ze2-yWVDymXq",
        "colab": {
          "base_uri": "https://localhost:8080/"
        },
        "outputId": "4f11953c-09ae-49ca-84f8-a5a6ef148114"
      },
      "source": [
        "#пропорциональность и ортогональность\n",
        "print(\"(a,b):\", np.dot(a, b))\n",
        "print(\"(a,c):\", np.dot(a, c))\n",
        "print(\"(b,c):\", np.dot(b, c))"
      ],
      "execution_count": 29,
      "outputs": [
        {
          "output_type": "stream",
          "name": "stdout",
          "text": [
            "(a,b): 12\n",
            "(a,c): 0\n",
            "(b,c): 0\n"
          ]
        }
      ]
    },
    {
      "cell_type": "code",
      "metadata": {
        "id": "AF7Z9P9WymXy",
        "colab": {
          "base_uri": "https://localhost:8080/"
        },
        "outputId": "eebb5e50-312e-46c9-d41e-53c88812619b"
      },
      "source": [
        "# попарная ортогональность - да\n",
        "a = np.array([1, 0, 1])\n",
        "b = np.array([0, 1, 0])\n",
        "c = np.array([1, 0, -1])\n",
        "print('a:', a)\n",
        "print('b:', b)\n",
        "print('c:', c)"
      ],
      "execution_count": 30,
      "outputs": [
        {
          "output_type": "stream",
          "name": "stdout",
          "text": [
            "a: [1 0 1]\n",
            "b: [0 1 0]\n",
            "c: [ 1  0 -1]\n"
          ]
        }
      ]
    },
    {
      "cell_type": "code",
      "metadata": {
        "id": "F9Xi-O17ymX4",
        "colab": {
          "base_uri": "https://localhost:8080/"
        },
        "outputId": "7b247fbf-8630-4022-88fa-f92e76121c51"
      },
      "source": [
        "# попарная ортогональность - да\n",
        "print('(a,b):', np.dot(a, b))\n",
        "print('(b,c):', np.dot(b, c))\n",
        "print('(a,c):', np.dot(a, c))"
      ],
      "execution_count": 31,
      "outputs": [
        {
          "output_type": "stream",
          "name": "stdout",
          "text": [
            "(a,b): 0\n",
            "(b,c): 0\n",
            "(a,c): 0\n"
          ]
        }
      ]
    },
    {
      "cell_type": "code",
      "metadata": {
        "id": "0JhrwPvPymX7",
        "colab": {
          "base_uri": "https://localhost:8080/"
        },
        "outputId": "8743bb6a-1fa8-4fcf-c69b-1250db1c3a7c"
      },
      "source": [
        "# попарная ортогональность - нет\n",
        "c1 = np.array([1, 0, 4])\n",
        "print('a:', a)\n",
        "print('b:', b)\n",
        "print('с1:', c1)"
      ],
      "execution_count": 32,
      "outputs": [
        {
          "output_type": "stream",
          "name": "stdout",
          "text": [
            "a: [1 0 1]\n",
            "b: [0 1 0]\n",
            "с1: [1 0 4]\n"
          ]
        }
      ]
    },
    {
      "cell_type": "code",
      "metadata": {
        "id": "ZmeF_7G2ymX-",
        "colab": {
          "base_uri": "https://localhost:8080/"
        },
        "outputId": "9cfc5ceb-5ea1-4db8-c69a-f64a0e1bc30d"
      },
      "source": [
        "# попарная ортогональность - нет\n",
        "print('(a,b):', a@b)\n",
        "print('(b,c1):', b@c1)\n",
        "print('(a,c1):', a@c1)"
      ],
      "execution_count": 33,
      "outputs": [
        {
          "output_type": "stream",
          "name": "stdout",
          "text": [
            "(a,b): 0\n",
            "(b,c1): 0\n",
            "(a,c1): 5\n"
          ]
        }
      ]
    },
    {
      "cell_type": "code",
      "metadata": {
        "id": "2djqzK80ymYE"
      },
      "source": [],
      "execution_count": null,
      "outputs": []
    }
  ]
}