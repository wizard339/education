{
  "nbformat": 4,
  "nbformat_minor": 0,
  "metadata": {
    "kernelspec": {
      "display_name": "Python 3",
      "language": "python",
      "name": "python3"
    },
    "language_info": {
      "codemirror_mode": {
        "name": "ipython",
        "version": 3
      },
      "file_extension": ".py",
      "mimetype": "text/x-python",
      "name": "python",
      "nbconvert_exporter": "python",
      "pygments_lexer": "ipython3",
      "version": "3.7.7"
    },
    "colab": {
      "provenance": [],
      "toc_visible": true,
      "include_colab_link": true
    }
  },
  "cells": [
    {
      "cell_type": "markdown",
      "metadata": {
        "id": "view-in-github",
        "colab_type": "text"
      },
      "source": [
        "<a href=\"https://colab.research.google.com/github/wizard339/education/blob/main/probability_theory_webinar.ipynb\" target=\"_parent\"><img src=\"https://colab.research.google.com/assets/colab-badge.svg\" alt=\"Open In Colab\"/></a>"
      ]
    },
    {
      "cell_type": "code",
      "metadata": {
        "id": "kGwZib9tdc7g"
      },
      "source": [
        "import numpy as np\n",
        "import pandas as pd"
      ],
      "execution_count": 1,
      "outputs": []
    },
    {
      "cell_type": "markdown",
      "metadata": {
        "id": "BFnsGsvVdc7k"
      },
      "source": [
        "# Теория вероятностей"
      ]
    },
    {
      "cell_type": "markdown",
      "metadata": {
        "id": "nUDHMeqldc7l"
      },
      "source": [
        "## 1. Базовые понятия"
      ]
    },
    {
      "cell_type": "markdown",
      "metadata": {
        "id": "p3Jma8Nrdc7m"
      },
      "source": [
        "**Теория вероятностей** – математическая наука, позволяющая по вероятности одних случайных событий находить вероятности других случайных событий, связанных каким–либо образом между собой.  \n",
        "Любой эксперимент имеет результат. В ТВ результат эксперимента – это **исход**."
      ]
    },
    {
      "cell_type": "markdown",
      "metadata": {
        "id": "WbCzvcCYdc7m"
      },
      "source": [
        "Исход или группа исходов, удовлетворяющих определенным требованием, называется **событием**."
      ]
    },
    {
      "cell_type": "markdown",
      "metadata": {
        "id": "oibMOi5qdc7n"
      },
      "source": [
        "Например, если считать при броске кубика событием выпадение 1, а выпало 3, то событие не произошло."
      ]
    },
    {
      "cell_type": "code",
      "metadata": {
        "colab": {
          "base_uri": "https://localhost:8080/"
        },
        "id": "ktw4NTW1dc7n",
        "outputId": "194f5c8f-2283-4dfc-c87d-996d08bf774c"
      },
      "source": [
        "np.random.randint(1, 7)"
      ],
      "execution_count": 2,
      "outputs": [
        {
          "output_type": "execute_result",
          "data": {
            "text/plain": [
              "4"
            ]
          },
          "metadata": {},
          "execution_count": 2
        }
      ]
    },
    {
      "cell_type": "markdown",
      "metadata": {
        "id": "pVrWhpJjdc7p"
      },
      "source": [
        "**Достоверное событие** – это такое событие, которое всегда происходит в рассматриваемом эксперименте.\n",
        "\n",
        "**Невозможное событие** – это такое событие, которое никогда не может наступить в рассматриваемом эксперименте.\n",
        "\n",
        "Событие, которое при воспроизведении опыта может наступить, а может и не наступить, называется **случайным событием**."
      ]
    },
    {
      "cell_type": "code",
      "metadata": {
        "id": "1qjaJwKDdc7p",
        "outputId": "73e0fa35-2e72-4b65-ec77-462d03e485b9",
        "colab": {
          "base_uri": "https://localhost:8080/"
        }
      },
      "source": [
        "# Какое событие здесь будет невозможно, если моделируем бросок кубика?\n",
        "np.random.randint(1, 6)"
      ],
      "execution_count": 3,
      "outputs": [
        {
          "output_type": "execute_result",
          "data": {
            "text/plain": [
              "1"
            ]
          },
          "metadata": {},
          "execution_count": 3
        }
      ]
    },
    {
      "cell_type": "markdown",
      "metadata": {
        "id": "sqH4f-bfdc7q"
      },
      "source": [
        "## Вероятностное пространство"
      ]
    },
    {
      "cell_type": "markdown",
      "metadata": {
        "id": "CYL64uTwdc7r"
      },
      "source": [
        "Вероятностное пространство – $(\\Omega, \\Sigma, P)$\n",
        "\n",
        "* $\\Omega$ – произвольное непустое множество, элементы которого называются исходами  \n",
        "* $\\sigma$ - сигма-алгебра подмножеств $\\Omega$ , называемых случайными событиями:\n",
        "  * $\\sigma$ содержит $\\Omega$\n",
        "  * Если $E \\in \\sigma$, то его дополнение $X \\backslash E \\in \\sigma$\n",
        "  * Объединение или пересечение подмножеств из $\\Sigma$ принадлежит $\\sigma$\n",
        "* $P$ – вероятность, такая, что $P(\\Omega) = 1$"
      ]
    },
    {
      "cell_type": "markdown",
      "metadata": {
        "id": "yrpMe5u2dc7r"
      },
      "source": [
        "**Вероятность** – степень возможности наступления события."
      ]
    },
    {
      "cell_type": "code",
      "metadata": {
        "colab": {
          "base_uri": "https://localhost:8080/"
        },
        "id": "KX4aoV25dc7r",
        "outputId": "d3a0b8a0-5f20-4238-f1c1-05dc65eab0aa"
      },
      "source": [
        "np.random.randint(0, 2, 10000).mean()"
      ],
      "execution_count": 4,
      "outputs": [
        {
          "output_type": "execute_result",
          "data": {
            "text/plain": [
              "0.5013"
            ]
          },
          "metadata": {},
          "execution_count": 4
        }
      ]
    },
    {
      "cell_type": "code",
      "metadata": {
        "colab": {
          "base_uri": "https://localhost:8080/"
        },
        "id": "l5drg_Sddc7s",
        "outputId": "81cbdcf4-d42f-4406-ded8-b345b781b1cf"
      },
      "source": [
        "number_of_rolls = 1000000\n",
        "dice_rolls = np.random.randint(1, 7, number_of_rolls)\n",
        "len(np.where(dice_rolls == 1)[0]) / number_of_rolls"
      ],
      "execution_count": 5,
      "outputs": [
        {
          "output_type": "execute_result",
          "data": {
            "text/plain": [
              "0.167122"
            ]
          },
          "metadata": {},
          "execution_count": 5
        }
      ]
    },
    {
      "cell_type": "code",
      "metadata": {
        "id": "k_UU50zzdc7s",
        "outputId": "538931e9-ffed-4ab4-ac89-38a2b11d76cb",
        "colab": {
          "base_uri": "https://localhost:8080/"
        }
      },
      "source": [
        "1/6"
      ],
      "execution_count": 6,
      "outputs": [
        {
          "output_type": "execute_result",
          "data": {
            "text/plain": [
              "0.16666666666666666"
            ]
          },
          "metadata": {},
          "execution_count": 6
        }
      ]
    },
    {
      "cell_type": "markdown",
      "metadata": {
        "id": "NNtiIFmydc7s"
      },
      "source": [
        "### Дополнение, Объединение, Пересечение"
      ]
    },
    {
      "cell_type": "markdown",
      "metadata": {
        "id": "-PtW8eVkdc7t"
      },
      "source": [
        "Дополнение – есть событие $A$ с вероятностью $P(A)$ и событие $B = \\Omega \\backslash A$, тогда $P(B) = 1 - P(A)$"
      ]
    },
    {
      "cell_type": "markdown",
      "metadata": {
        "id": "psoeXgb4dc7t"
      },
      "source": [
        "Объединение – $A \\cup B$. Произошло либо $A$, либо $B$, либо $A$ и $B$ одновременно"
      ]
    },
    {
      "cell_type": "markdown",
      "metadata": {
        "id": "jsNAwMp5dc7t"
      },
      "source": [
        "Пересечение – $A \\cap B$. Произошли одновременно $A$ и $B$"
      ]
    },
    {
      "cell_type": "markdown",
      "metadata": {
        "id": "xDAQNURNdc7t"
      },
      "source": [
        "## 2. Условная вероятность"
      ]
    },
    {
      "cell_type": "markdown",
      "metadata": {
        "id": "Xq4kzgnydc7t"
      },
      "source": [
        "$P(A|B)$ – вероятность события $A$ при условии, что $B$ произошло"
      ]
    },
    {
      "cell_type": "markdown",
      "metadata": {
        "id": "gYnXu5ZSdc7u"
      },
      "source": [
        "$$P(A|B) = \\frac{P(A \\cap B)}{P(B)}$$"
      ]
    },
    {
      "cell_type": "code",
      "metadata": {
        "id": "hSVffMOOdc7u"
      },
      "source": [
        "data = pd.read_csv(\"./data.csv\")"
      ],
      "execution_count": null,
      "outputs": []
    },
    {
      "cell_type": "code",
      "metadata": {
        "colab": {
          "base_uri": "https://localhost:8080/",
          "height": 235
        },
        "id": "7GRmdQAFdc7u",
        "outputId": "a18f2fc2-6605-42d5-be88-5b2ab3c95936"
      },
      "source": [
        "data"
      ],
      "execution_count": null,
      "outputs": [
        {
          "output_type": "execute_result",
          "data": {
            "text/html": [
              "<div>\n",
              "<style scoped>\n",
              "    .dataframe tbody tr th:only-of-type {\n",
              "        vertical-align: middle;\n",
              "    }\n",
              "\n",
              "    .dataframe tbody tr th {\n",
              "        vertical-align: top;\n",
              "    }\n",
              "\n",
              "    .dataframe thead th {\n",
              "        text-align: right;\n",
              "    }\n",
              "</style>\n",
              "<table border=\"1\" class=\"dataframe\">\n",
              "  <thead>\n",
              "    <tr style=\"text-align: right;\">\n",
              "      <th></th>\n",
              "      <th>company</th>\n",
              "      <th>model</th>\n",
              "      <th>rating</th>\n",
              "      <th>type</th>\n",
              "    </tr>\n",
              "  </thead>\n",
              "  <tbody>\n",
              "    <tr>\n",
              "      <th>0</th>\n",
              "      <td>ford</td>\n",
              "      <td>mustang</td>\n",
              "      <td>A</td>\n",
              "      <td>coupe</td>\n",
              "    </tr>\n",
              "    <tr>\n",
              "      <th>1</th>\n",
              "      <td>chevy</td>\n",
              "      <td>camaro</td>\n",
              "      <td>B</td>\n",
              "      <td>coupe</td>\n",
              "    </tr>\n",
              "    <tr>\n",
              "      <th>2</th>\n",
              "      <td>ford</td>\n",
              "      <td>fiesta</td>\n",
              "      <td>C</td>\n",
              "      <td>sedan</td>\n",
              "    </tr>\n",
              "    <tr>\n",
              "      <th>3</th>\n",
              "      <td>ford</td>\n",
              "      <td>focus</td>\n",
              "      <td>A</td>\n",
              "      <td>sedan</td>\n",
              "    </tr>\n",
              "    <tr>\n",
              "      <th>4</th>\n",
              "      <td>ford</td>\n",
              "      <td>taurus</td>\n",
              "      <td>B</td>\n",
              "      <td>sedan</td>\n",
              "    </tr>\n",
              "    <tr>\n",
              "      <th>5</th>\n",
              "      <td>toyota</td>\n",
              "      <td>camry</td>\n",
              "      <td>B</td>\n",
              "      <td>sedan</td>\n",
              "    </tr>\n",
              "  </tbody>\n",
              "</table>\n",
              "</div>"
            ],
            "text/plain": [
              "  company    model rating   type\n",
              "0    ford  mustang      A  coupe\n",
              "1   chevy   camaro      B  coupe\n",
              "2    ford   fiesta      C  sedan\n",
              "3    ford    focus      A  sedan\n",
              "4    ford   taurus      B  sedan\n",
              "5  toyota    camry      B  sedan"
            ]
          },
          "metadata": {},
          "execution_count": 18
        }
      ]
    },
    {
      "cell_type": "code",
      "metadata": {
        "colab": {
          "base_uri": "https://localhost:8080/"
        },
        "id": "5dozQri7gIVa",
        "outputId": "636e01fe-19c0-47d0-a3c2-14644903fe70"
      },
      "source": [
        "data.groupby('rating').size()"
      ],
      "execution_count": null,
      "outputs": [
        {
          "output_type": "execute_result",
          "data": {
            "text/plain": [
              "rating\n",
              "A    2\n",
              "B    3\n",
              "C    1\n",
              "dtype: int64"
            ]
          },
          "metadata": {},
          "execution_count": 22
        }
      ]
    },
    {
      "cell_type": "code",
      "metadata": {
        "colab": {
          "base_uri": "https://localhost:8080/"
        },
        "id": "0GQTIOKjdc7u",
        "outputId": "ede28d1d-94b9-409a-97e5-773855bf8cd1"
      },
      "source": [
        "rating_probs = data.groupby('rating').size().div(len(data))\n",
        "rating_probs"
      ],
      "execution_count": null,
      "outputs": [
        {
          "output_type": "execute_result",
          "data": {
            "text/plain": [
              "rating\n",
              "A    0.333333\n",
              "B    0.500000\n",
              "C    0.166667\n",
              "dtype: float64"
            ]
          },
          "metadata": {},
          "execution_count": 29
        }
      ]
    },
    {
      "cell_type": "markdown",
      "metadata": {
        "id": "6My8NlE-dc7u"
      },
      "source": [
        "Посчитаем все условные вероятности для $P(type|rating)$"
      ]
    },
    {
      "cell_type": "code",
      "metadata": {
        "colab": {
          "base_uri": "https://localhost:8080/"
        },
        "id": "Hr9q99U8gswC",
        "outputId": "3427ac03-5465-464e-d417-f4123b77ba7d"
      },
      "source": [
        "data.groupby(['type', 'rating']).size()"
      ],
      "execution_count": null,
      "outputs": [
        {
          "output_type": "execute_result",
          "data": {
            "text/plain": [
              "type   rating\n",
              "coupe  A         1\n",
              "       B         1\n",
              "sedan  A         1\n",
              "       B         2\n",
              "       C         1\n",
              "dtype: int64"
            ]
          },
          "metadata": {},
          "execution_count": 23
        }
      ]
    },
    {
      "cell_type": "code",
      "metadata": {
        "colab": {
          "base_uri": "https://localhost:8080/"
        },
        "id": "-j3pbQ_uPtGo",
        "outputId": "24121f00-1049-46ed-fb15-a5bbd036c49b"
      },
      "source": [
        "data.groupby(['type', 'rating']).size().div(len(data))"
      ],
      "execution_count": null,
      "outputs": [
        {
          "output_type": "execute_result",
          "data": {
            "text/plain": [
              "type   rating\n",
              "coupe  A         0.166667\n",
              "       B         0.166667\n",
              "sedan  A         0.166667\n",
              "       B         0.333333\n",
              "       C         0.166667\n",
              "dtype: float64"
            ]
          },
          "metadata": {},
          "execution_count": 25
        }
      ]
    },
    {
      "cell_type": "code",
      "metadata": {
        "id": "NRJXLS4idc7v",
        "outputId": "c2f23c7a-7b62-4257-e777-0b4e581720f3"
      },
      "source": [
        "data.groupby(['type', 'rating']).size().div(len(data)).div(rating_probs, axis=0, level='rating')\n"
      ],
      "execution_count": null,
      "outputs": [
        {
          "data": {
            "text/plain": [
              "type   rating\n",
              "coupe  A         0.500000\n",
              "       B         0.333333\n",
              "sedan  A         0.500000\n",
              "       B         0.666667\n",
              "       C         1.000000\n",
              "dtype: float64"
            ]
          },
          "execution_count": 54,
          "metadata": {},
          "output_type": "execute_result"
        }
      ]
    },
    {
      "cell_type": "code",
      "metadata": {
        "id": "WLVj4XXLdc7v",
        "outputId": "9a125fbd-acc0-45df-abff-73a7a8c56aaa"
      },
      "source": [
        "data['count'] = 1\n",
        "pivot = pd.pivot_table(\n",
        "    data, \n",
        "    values='count', \n",
        "    index=['rating'], \n",
        "    columns=['type'], \n",
        "    aggfunc=np.size, \n",
        "    fill_value=0\n",
        ")\n",
        "pivot"
      ],
      "execution_count": null,
      "outputs": [
        {
          "data": {
            "text/html": [
              "<div>\n",
              "<style scoped>\n",
              "    .dataframe tbody tr th:only-of-type {\n",
              "        vertical-align: middle;\n",
              "    }\n",
              "\n",
              "    .dataframe tbody tr th {\n",
              "        vertical-align: top;\n",
              "    }\n",
              "\n",
              "    .dataframe thead th {\n",
              "        text-align: right;\n",
              "    }\n",
              "</style>\n",
              "<table border=\"1\" class=\"dataframe\">\n",
              "  <thead>\n",
              "    <tr style=\"text-align: right;\">\n",
              "      <th>type</th>\n",
              "      <th>coupe</th>\n",
              "      <th>sedan</th>\n",
              "    </tr>\n",
              "    <tr>\n",
              "      <th>rating</th>\n",
              "      <th></th>\n",
              "      <th></th>\n",
              "    </tr>\n",
              "  </thead>\n",
              "  <tbody>\n",
              "    <tr>\n",
              "      <th>A</th>\n",
              "      <td>1</td>\n",
              "      <td>1</td>\n",
              "    </tr>\n",
              "    <tr>\n",
              "      <th>B</th>\n",
              "      <td>1</td>\n",
              "      <td>2</td>\n",
              "    </tr>\n",
              "    <tr>\n",
              "      <th>C</th>\n",
              "      <td>0</td>\n",
              "      <td>1</td>\n",
              "    </tr>\n",
              "  </tbody>\n",
              "</table>\n",
              "</div>"
            ],
            "text/plain": [
              "type    coupe  sedan\n",
              "rating              \n",
              "A           1      1\n",
              "B           1      2\n",
              "C           0      1"
            ]
          },
          "execution_count": 58,
          "metadata": {},
          "output_type": "execute_result"
        }
      ]
    },
    {
      "cell_type": "markdown",
      "metadata": {
        "id": "y4uq6K0Mdc7v"
      },
      "source": [
        "Посчитаем по pivot table условную вероятность для $P(coupe|A)$"
      ]
    },
    {
      "cell_type": "code",
      "metadata": {
        "id": "IeAVWh8Zdc7v",
        "outputId": "f9c15132-d635-47ff-bd05-aba26825e14c"
      },
      "source": [
        "(1/(1 + 1 + 1 + 2 + 1))/(1/3)"
      ],
      "execution_count": null,
      "outputs": [
        {
          "data": {
            "text/plain": [
              "0.5"
            ]
          },
          "execution_count": 56,
          "metadata": {},
          "output_type": "execute_result"
        }
      ]
    },
    {
      "cell_type": "code",
      "metadata": {
        "id": "qonrNPGsdc7w",
        "outputId": "37d8be0d-8c90-4436-b1cf-28f3c0a6cdef"
      },
      "source": [
        "(pivot.loc['A', 'coupe']/(pivot.sum().sum())) / rating_probs['A']"
      ],
      "execution_count": null,
      "outputs": [
        {
          "data": {
            "text/plain": [
              "0.5"
            ]
          },
          "execution_count": 61,
          "metadata": {},
          "output_type": "execute_result"
        }
      ]
    },
    {
      "cell_type": "markdown",
      "metadata": {
        "id": "pE4HpnpUdc7w"
      },
      "source": [
        "## 3. Формула Байеса"
      ]
    },
    {
      "cell_type": "markdown",
      "metadata": {
        "id": "dLH_BnlLdc7w"
      },
      "source": [
        "$$P(A|B) = \\frac{P(B|A) \\cdot P(A)}{P(B)}$$"
      ]
    },
    {
      "cell_type": "markdown",
      "metadata": {
        "id": "em6n7mdDdc7w"
      },
      "source": [
        "Выводится из формулы условной вероятности:"
      ]
    },
    {
      "cell_type": "markdown",
      "metadata": {
        "id": "5Or2scogdc7w"
      },
      "source": [
        "$$P(A|B) = \\frac{P(A \\cap B)}{P(B)}$$\n",
        "$$P(B|A) = \\frac{P(B \\cap A)}{P(A)}$$\n",
        "$$P(A \\cap B) = P(B \\cap A) \\implies$$\n",
        "$$P(A \\cap B) = P(A|B) \\cdot P(B) = P(B|A) \\cdot P(A) \\implies$$\n",
        "$$P(A|B) = \\frac{P(B|A) \\cdot P(A)}{P(B)}$$"
      ]
    },
    {
      "cell_type": "markdown",
      "metadata": {
        "id": "3NZljLhndc7w"
      },
      "source": [
        "Поговорим про лекарства:  \n",
        "Допустим, надо оценить вероятность того, что человек принимает лекарства (U – принимает, !U – не принимает)  \n",
        "Тест может вернуть положительный или отрицательный результат (+ или -)"
      ]
    },
    {
      "cell_type": "markdown",
      "metadata": {
        "id": "wteS-4Cgdc7w"
      },
      "source": [
        "Допустим, наш тест имеет sensitivity 97% – из 100 человек тест будет True Positive у 97  \n",
        "Допустим, наш тест имеет specificity 95% – из 100 человек тест будет True Negative у 95  \n",
        "Также, мы знаем, что 0.5% нашего населения использует это лекарство (наш Prior)\n",
        "\n",
        "Какая вероятность, что случайно взятый человек будет использовать лекарство?"
      ]
    },
    {
      "cell_type": "markdown",
      "metadata": {
        "id": "DwGU7FS3dc7x"
      },
      "source": [
        "$$P(U|+) = \\frac{P(+|U) \\cdot P(U)}{P(+)} = \\frac{P(+|U) \\cdot P(U)}{P(+|U) \\cdot P(U) + P(+|!U) \\cdot p(!U)}$$"
      ]
    },
    {
      "cell_type": "markdown",
      "metadata": {
        "id": "V9MSaWJEdc7x"
      },
      "source": [
        "$P(U) = распространенность \\space (prevalence)$  \n",
        "$P(!U) = 1 - P(U)$  \n",
        "$P(+|U) = sensitivity$  \n",
        "$P(-|!U) = specificity$  \n",
        "$P(+|!U) = 1 - specificity$"
      ]
    },
    {
      "cell_type": "code",
      "metadata": {
        "id": "XDai2kzvdc7x"
      },
      "source": [
        "def drug_user(\n",
        "        sensitivity=0.97,\n",
        "        specificity=0.95,\n",
        "        prevalence=0.005):\n",
        "    \n",
        "    p_user = prevalence\n",
        "    p_non_user = 1 - prevalence\n",
        "    p_pos_user = sensitivity\n",
        "    p_neg_user = specificity\n",
        "    p_pos_non_user = 1 - specificity\n",
        "    \n",
        "    num = p_pos_user * p_user\n",
        "    den = p_pos_user * p_user + p_pos_non_user * p_non_user\n",
        "    \n",
        "    prob = num/den\n",
        "    \n",
        "    return prob"
      ],
      "execution_count": 7,
      "outputs": []
    },
    {
      "cell_type": "code",
      "metadata": {
        "colab": {
          "base_uri": "https://localhost:8080/"
        },
        "id": "ES2cKOjCdc7y",
        "outputId": "90e32caa-631a-49a4-8bbe-be060b5cac5e"
      },
      "source": [
        "drug_user(sensitivity=0.97, specificity=0.95, prevalence=0.005)"
      ],
      "execution_count": 8,
      "outputs": [
        {
          "output_type": "execute_result",
          "data": {
            "text/plain": [
              "0.08882783882783876"
            ]
          },
          "metadata": {},
          "execution_count": 8
        }
      ]
    },
    {
      "cell_type": "markdown",
      "metadata": {
        "id": "M8TUmIDadc7y"
      },
      "source": [
        "Получается, даже при большой чувствительности и специфичности мы находим человека, использующего лекарство, при положительном тесте всего в 9% случаев"
      ]
    },
    {
      "cell_type": "markdown",
      "metadata": {
        "id": "xrxscO2Ydc7y"
      },
      "source": [
        "## 4. Случайные величины"
      ]
    },
    {
      "cell_type": "markdown",
      "metadata": {
        "id": "f78bkwmUdc7y"
      },
      "source": [
        "### Матожидание и дисперсия"
      ]
    },
    {
      "cell_type": "markdown",
      "metadata": {
        "id": "mSDletS7dc7y"
      },
      "source": [
        "Математическое ожидание $E(X)$ – среднее значение случайной величины."
      ]
    },
    {
      "cell_type": "markdown",
      "metadata": {
        "id": "LNQ_fKDydc7y"
      },
      "source": [
        "Дисперсия $D(X)$ – разброс случайной величины. Стандартное отклонение – корень из дисперсии."
      ]
    },
    {
      "cell_type": "code",
      "metadata": {
        "id": "WHzOz5rGdc7y"
      },
      "source": [
        "data = np.random.randint(0, 2, 5000)"
      ],
      "execution_count": 9,
      "outputs": []
    },
    {
      "cell_type": "code",
      "metadata": {
        "id": "TB5I4PH1dc7y",
        "colab": {
          "base_uri": "https://localhost:8080/"
        },
        "outputId": "021a0e47-65f6-4b1d-b266-8bc792312d8d"
      },
      "source": [
        "E = data.mean()\n",
        "E"
      ],
      "execution_count": 10,
      "outputs": [
        {
          "output_type": "execute_result",
          "data": {
            "text/plain": [
              "0.5014"
            ]
          },
          "metadata": {},
          "execution_count": 10
        }
      ]
    },
    {
      "cell_type": "code",
      "metadata": {
        "id": "O2n2lyL5dc7z",
        "colab": {
          "base_uri": "https://localhost:8080/"
        },
        "outputId": "3bc3002b-47b5-4c67-8ba2-663042fd83fb"
      },
      "source": [
        "D = np.square(data.std())\n",
        "D"
      ],
      "execution_count": 11,
      "outputs": [
        {
          "output_type": "execute_result",
          "data": {
            "text/plain": [
              "0.24999804000000006"
            ]
          },
          "metadata": {},
          "execution_count": 11
        }
      ]
    },
    {
      "cell_type": "markdown",
      "metadata": {
        "id": "wmoUQ_Twdc7z"
      },
      "source": [
        "### Функция распределения и плотность вероятности"
      ]
    },
    {
      "cell_type": "markdown",
      "metadata": {
        "id": "u3UtpYnBdc7z"
      },
      "source": [
        "Функция распределения (Cumulative Distribution Function, CDF): $F(x) = P(X \\leq x)$  \n",
        "Значение функции распределения в точке $x$ равно вероятности события ${X \\leq x}$"
      ]
    },
    {
      "cell_type": "markdown",
      "metadata": {
        "id": "MSh9G26zdc7z"
      },
      "source": [
        "Функция плотности вероятности (Probability Density Function, PDF): такая $f(X)$, что \n",
        "$$P(\\xi \\in [a, b]) = \\int_a^b f(x)dx$$\n",
        "\n",
        "То есть, можем получить вероятность события, взяв интеграл по функции распределения."
      ]
    },
    {
      "cell_type": "markdown",
      "metadata": {
        "id": "U7w-V46Jdc7z"
      },
      "source": [
        "Вероятность того, что переменная попала в промежуток $[a, b]$ = $F(b) - F(a)$"
      ]
    },
    {
      "cell_type": "code",
      "metadata": {
        "colab": {
          "base_uri": "https://localhost:8080/",
          "height": 592
        },
        "id": "_0WBspeHdc7z",
        "outputId": "11d59a98-52e7-4bcc-d346-c79fd1358e87"
      },
      "source": [
        "import matplotlib.pyplot as plt\n",
        "import seaborn as sns\n",
        "import scipy\n",
        "\n",
        "x = np.random.randn(10000) \n",
        "norm_cdf = scipy.stats.norm.cdf(x) \n",
        "norm_pdf = scipy.stats.norm.pdf(x) \n",
        "\n",
        "plt.figure(figsize=(12, 10))\n",
        "sns.lineplot(x=x, y=norm_cdf, label='cdf')\n",
        "sns.lineplot(x=x, y=norm_pdf, label='pdf')\n",
        "plt.show();"
      ],
      "execution_count": 12,
      "outputs": [
        {
          "output_type": "display_data",
          "data": {
            "text/plain": [
              "<Figure size 864x720 with 1 Axes>"
            ],
            "image/png": "[encoded data removed]"
          },
          "metadata": {
            "needs_background": "light"
          }
        }
      ]
    },
    {
      "cell_type": "markdown",
      "metadata": {
        "id": "8C7nUZo_dc7z"
      },
      "source": [
        "### Распределение среднего"
      ]
    },
    {
      "cell_type": "markdown",
      "metadata": {
        "id": "jr52w4hDdc70"
      },
      "source": [
        "Если мы возьмем случайные примеры ($X_1 .. X_n$) из выборки с $E = \\mu$ и $D = \\sigma^2$, то распределение следующей случайной величины будет нормальным: \n",
        "$$Z = \\frac{\\bar{X} - \\mu}{\\frac{\\sigma}{\\sqrt(n)}}$$\n",
        "При $n \\rightarrow \\infty$  \n",
        "Это называется Центральная Предельная Теорема"
      ]
    },
    {
      "cell_type": "code",
      "metadata": {
        "colab": {
          "base_uri": "https://localhost:8080/",
          "height": 674
        },
        "id": "OCLNihBIdc70",
        "outputId": "ddad1954-b2aa-42b5-cbcd-fe94f8e05e06"
      },
      "source": [
        "def repeat_sample_draws_exponential(n, samp_size, mu):\n",
        "    means = []\n",
        "    samples = []\n",
        "    for i in range(0, n):\n",
        "        samples.append(np.random.exponential(mu, samp_size))\n",
        "        means.append(np.mean(samples[i]))\n",
        "\n",
        "    plt.clf()\n",
        "    plt.figure(figsize=(12, 10))\n",
        "    plt.hist(means, bins=100, histtype='step')\n",
        "    plt.title('Распределение по {} выборкам'.format(n))\n",
        "    plt.xlabel('Среднее значение по одной выборке')\n",
        "    print('Матожидание {0:.2f}'.format(np.mean(means)))\n",
        "    print('Стандартное отклонение {0:.2f}'.format(np.std(means)))\n",
        "\n",
        "repeat_sample_draws_exponential(100000, 100, 170)"
      ],
      "execution_count": 13,
      "outputs": [
        {
          "output_type": "stream",
          "name": "stdout",
          "text": [
            "Матожидание 169.98\n",
            "Стандартное отклонение 16.99\n"
          ]
        },
        {
          "output_type": "display_data",
          "data": {
            "text/plain": [
              "<Figure size 432x288 with 0 Axes>"
            ]
          },
          "metadata": {}
        },
        {
          "output_type": "display_data",
          "data": {
            "text/plain": [
              "<Figure size 864x720 with 1 Axes>"
            ],
            "image/png": "[encoded data removed]"
          },
          "metadata": {
            "needs_background": "light"
          }
        }
      ]
    },
    {
      "cell_type": "markdown",
      "metadata": {
        "id": "j5AySfZ9dc70"
      },
      "source": [
        "$\\sigma_{sample_mean} = \\frac{\\sigma_{population}}{\\sqrt{sample_size}}$"
      ]
    }
  ]
}