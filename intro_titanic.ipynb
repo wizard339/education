{
  "nbformat": 4,
  "nbformat_minor": 0,
  "metadata": {
    "colab": {
      "provenance": [],
      "authorship_tag": "ABX9TyPzx6JAZVL/8QrABKbe60Sr",
      "include_colab_link": true
    },
    "kernelspec": {
      "name": "python3",
      "display_name": "Python 3"
    },
    "language_info": {
      "name": "python"
    }
  },
  "cells": [
    {
      "cell_type": "markdown",
      "metadata": {
        "id": "view-in-github",
        "colab_type": "text"
      },
      "source": [
        "<a href=\"https://colab.research.google.com/github/wizard339/education/blob/main/intro_titanic.ipynb\" target=\"_parent\"><img src=\"https://colab.research.google.com/assets/colab-badge.svg\" alt=\"Open In Colab\"/></a>"
      ]
    },
    {
      "cell_type": "code",
      "execution_count": 83,
      "metadata": {
        "id": "jxlg2-3J-Ln-"
      },
      "outputs": [],
      "source": [
        "import pandas as pd"
      ]
    },
    {
      "cell_type": "code",
      "source": [
        "data = pd.read_csv('full.csv')\n",
        "data.info()"
      ],
      "metadata": {
        "colab": {
          "base_uri": "https://localhost:8080/"
        },
        "id": "6tY5-h4oMAPw",
        "outputId": "61cb121a-f43d-4bf5-db6e-7a2ad5da36cf"
      },
      "execution_count": 84,
      "outputs": [
        {
          "output_type": "stream",
          "name": "stdout",
          "text": [
            "<class 'pandas.core.frame.DataFrame'>\n",
            "RangeIndex: 1309 entries, 0 to 1308\n",
            "Data columns (total 21 columns):\n",
            " #   Column       Non-Null Count  Dtype  \n",
            "---  ------       --------------  -----  \n",
            " 0   PassengerId  1309 non-null   int64  \n",
            " 1   Survived     891 non-null    float64\n",
            " 2   Pclass       1309 non-null   int64  \n",
            " 3   Name         1309 non-null   object \n",
            " 4   Sex          1309 non-null   object \n",
            " 5   Age          1046 non-null   float64\n",
            " 6   SibSp        1309 non-null   int64  \n",
            " 7   Parch        1309 non-null   int64  \n",
            " 8   Ticket       1309 non-null   object \n",
            " 9   Fare         1308 non-null   float64\n",
            " 10  Cabin        295 non-null    object \n",
            " 11  Embarked     1307 non-null   object \n",
            " 12  WikiId       1304 non-null   float64\n",
            " 13  Name_wiki    1304 non-null   object \n",
            " 14  Age_wiki     1302 non-null   float64\n",
            " 15  Hometown     1304 non-null   object \n",
            " 16  Boarded      1304 non-null   object \n",
            " 17  Destination  1304 non-null   object \n",
            " 18  Lifeboat     502 non-null    object \n",
            " 19  Body         130 non-null    object \n",
            " 20  Class        1304 non-null   float64\n",
            "dtypes: float64(6), int64(4), object(11)\n",
            "memory usage: 214.9+ KB\n"
          ]
        }
      ]
    },
    {
      "cell_type": "code",
      "source": [
        "data.keys()"
      ],
      "metadata": {
        "colab": {
          "base_uri": "https://localhost:8080/"
        },
        "id": "75Ql9jTKMOZu",
        "outputId": "ea2d46d3-e0f0-49fc-845d-1065c374bf5d"
      },
      "execution_count": 85,
      "outputs": [
        {
          "output_type": "execute_result",
          "data": {
            "text/plain": [
              "Index(['PassengerId', 'Survived', 'Pclass', 'Name', 'Sex', 'Age', 'SibSp',\n",
              "       'Parch', 'Ticket', 'Fare', 'Cabin', 'Embarked', 'WikiId', 'Name_wiki',\n",
              "       'Age_wiki', 'Hometown', 'Boarded', 'Destination', 'Lifeboat', 'Body',\n",
              "       'Class'],\n",
              "      dtype='object')"
            ]
          },
          "metadata": {},
          "execution_count": 85
        }
      ]
    },
    {
      "cell_type": "code",
      "source": [
        "# percentage of survivors of the total\n",
        "data['Survived'].mean()"
      ],
      "metadata": {
        "colab": {
          "base_uri": "https://localhost:8080/"
        },
        "id": "qv-fTHQqMWlk",
        "outputId": "f09f8ca3-3a54-4c57-f8ee-ef1a939659e2"
      },
      "execution_count": 87,
      "outputs": [
        {
          "output_type": "execute_result",
          "data": {
            "text/plain": [
              "0.3838383838383838"
            ]
          },
          "metadata": {},
          "execution_count": 87
        }
      ]
    },
    {
      "cell_type": "code",
      "source": [
        "# percentage of survivors of the total grouped by sex\n",
        "data.groupby('Sex')['Survived'].mean()"
      ],
      "metadata": {
        "colab": {
          "base_uri": "https://localhost:8080/"
        },
        "id": "tpFjse6aMtKb",
        "outputId": "6b9e70e4-359e-4cef-fb3d-5aceb192effb"
      },
      "execution_count": 88,
      "outputs": [
        {
          "output_type": "execute_result",
          "data": {
            "text/plain": [
              "Sex\n",
              "female    0.742038\n",
              "male      0.188908\n",
              "Name: Survived, dtype: float64"
            ]
          },
          "metadata": {},
          "execution_count": 88
        }
      ]
    },
    {
      "cell_type": "code",
      "source": [
        "# percentage of survivors of the total grouped by sex and class of service\n",
        "data.groupby(['Sex', 'Class'])['Survived'].mean()"
      ],
      "metadata": {
        "colab": {
          "base_uri": "https://localhost:8080/"
        },
        "id": "pERBcimHNNff",
        "outputId": "3e622e71-b67c-4f6f-bbb6-88a5061d6c2e"
      },
      "execution_count": 94,
      "outputs": [
        {
          "output_type": "execute_result",
          "data": {
            "text/plain": [
              "Sex     Class\n",
              "female  1.0      0.968421\n",
              "        2.0      0.920000\n",
              "        3.0      0.496503\n",
              "male    1.0      0.368852\n",
              "        2.0      0.158879\n",
              "        3.0      0.135447\n",
              "Name: Survived, dtype: float64"
            ]
          },
          "metadata": {},
          "execution_count": 94
        }
      ]
    },
    {
      "cell_type": "code",
      "source": [
        "# median age of the passengers by sex and class of service\n",
        "data.groupby(['Sex', 'Class'])['Age'].median()"
      ],
      "metadata": {
        "colab": {
          "base_uri": "https://localhost:8080/"
        },
        "id": "O05VA5t8OKBX",
        "outputId": "56a05114-b350-4df9-ce52-98b1bf4b0246"
      },
      "execution_count": 96,
      "outputs": [
        {
          "output_type": "execute_result",
          "data": {
            "text/plain": [
              "Sex     Class\n",
              "female  1.0      36.0\n",
              "        2.0      28.0\n",
              "        3.0      22.0\n",
              "male    1.0      41.5\n",
              "        2.0      30.0\n",
              "        3.0      25.0\n",
              "Name: Age, dtype: float64"
            ]
          },
          "metadata": {},
          "execution_count": 96
        }
      ]
    },
    {
      "cell_type": "code",
      "source": [
        "# 90-percentile of the survivor's age by the class of service\n",
        "data.groupby(['Class', 'Survived'])['Age'].quantile(0.9)"
      ],
      "metadata": {
        "colab": {
          "base_uri": "https://localhost:8080/"
        },
        "id": "KyvoJI8oPEKI",
        "outputId": "ca412ac2-aebf-4b6a-90e0-60ec8125a5e9"
      },
      "execution_count": 103,
      "outputs": [
        {
          "output_type": "execute_result",
          "data": {
            "text/plain": [
              "Class  Survived\n",
              "1.0    0.0         63.4\n",
              "       1.0         52.8\n",
              "2.0    0.0         52.2\n",
              "       1.0         44.7\n",
              "3.0    0.0         42.1\n",
              "       1.0         32.0\n",
              "Name: Age, dtype: float64"
            ]
          },
          "metadata": {},
          "execution_count": 103
        }
      ]
    },
    {
      "cell_type": "code",
      "source": [],
      "metadata": {
        "id": "9Wrn_Z26PeSi"
      },
      "execution_count": null,
      "outputs": []
    }
  ]
}