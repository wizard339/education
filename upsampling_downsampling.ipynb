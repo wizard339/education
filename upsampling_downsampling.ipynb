{
  "cells": [
    {
      "cell_type": "markdown",
      "metadata": {
        "id": "view-in-github",
        "colab_type": "text"
      },
      "source": [
        "<a href=\"https://colab.research.google.com/github/wizard339/education/blob/main/upsampling_downsampling.ipynb\" target=\"_parent\"><img src=\"https://colab.research.google.com/assets/colab-badge.svg\" alt=\"Open In Colab\"/></a>"
      ]
    },
    {
      "cell_type": "markdown",
      "metadata": {
        "id": "3I5ZgfdC4L4o"
      },
      "source": [
        "# \"Изменение разрешения данных\""
      ]
    },
    {
      "cell_type": "code",
      "execution_count": 1,
      "metadata": {
        "ExecuteTime": {
          "end_time": "2019-08-11T18:28:23.884882Z",
          "start_time": "2019-08-11T18:28:21.441411Z"
        },
        "id": "sAEc4xmX4L4s"
      },
      "outputs": [],
      "source": [
        "import numpy as np, pandas as pd\n",
        "import matplotlib.pyplot as plt "
      ]
    },
    {
      "cell_type": "markdown",
      "metadata": {
        "id": "7sXqZkc74L4t"
      },
      "source": [
        "# Понижение разрешения (downsampling)"
      ]
    },
    {
      "cell_type": "code",
      "execution_count": 2,
      "metadata": {
        "ExecuteTime": {
          "end_time": "2019-08-11T18:28:48.454883Z",
          "start_time": "2019-08-11T18:28:48.130748Z"
        },
        "colab": {
          "base_uri": "https://localhost:8080/",
          "height": 206
        },
        "id": "xntpA6FU4L4u",
        "outputId": "39f815db-f522-41e2-e209-55980dee98ab"
      },
      "outputs": [
        {
          "output_type": "execute_result",
          "data": {
            "text/plain": [
              "                   ts    open    high     low   close    vol\n",
              "0 2018-01-02 02:01:00  1305.3  1305.9  1304.6  1304.7  407.0\n",
              "1 2018-01-02 02:02:00  1304.7  1305.1  1304.7  1305.0   91.0\n",
              "2 2018-01-02 02:03:00  1305.0  1305.4  1305.0  1305.4   42.0\n",
              "3 2018-01-02 02:04:00  1305.4  1305.5  1305.1  1305.2   89.0\n",
              "4 2018-01-02 02:05:00  1305.2  1305.2  1305.1  1305.1   23.0"
            ],
            "text/html": [
              "\n",
              "  <div id=\"df-a45640b8-1236-441f-990a-9b1f8ae7f3c2\">\n",
              "    <div class=\"colab-df-container\">\n",
              "      <div>\n",
              "<style scoped>\n",
              "    .dataframe tbody tr th:only-of-type {\n",
              "        vertical-align: middle;\n",
              "    }\n",
              "\n",
              "    .dataframe tbody tr th {\n",
              "        vertical-align: top;\n",
              "    }\n",
              "\n",
              "    .dataframe thead th {\n",
              "        text-align: right;\n",
              "    }\n",
              "</style>\n",
              "<table border=\"1\" class=\"dataframe\">\n",
              "  <thead>\n",
              "    <tr style=\"text-align: right;\">\n",
              "      <th></th>\n",
              "      <th>ts</th>\n",
              "      <th>open</th>\n",
              "      <th>high</th>\n",
              "      <th>low</th>\n",
              "      <th>close</th>\n",
              "      <th>vol</th>\n",
              "    </tr>\n",
              "  </thead>\n",
              "  <tbody>\n",
              "    <tr>\n",
              "      <th>0</th>\n",
              "      <td>2018-01-02 02:01:00</td>\n",
              "      <td>1305.3</td>\n",
              "      <td>1305.9</td>\n",
              "      <td>1304.6</td>\n",
              "      <td>1304.7</td>\n",
              "      <td>407.0</td>\n",
              "    </tr>\n",
              "    <tr>\n",
              "      <th>1</th>\n",
              "      <td>2018-01-02 02:02:00</td>\n",
              "      <td>1304.7</td>\n",
              "      <td>1305.1</td>\n",
              "      <td>1304.7</td>\n",
              "      <td>1305.0</td>\n",
              "      <td>91.0</td>\n",
              "    </tr>\n",
              "    <tr>\n",
              "      <th>2</th>\n",
              "      <td>2018-01-02 02:03:00</td>\n",
              "      <td>1305.0</td>\n",
              "      <td>1305.4</td>\n",
              "      <td>1305.0</td>\n",
              "      <td>1305.4</td>\n",
              "      <td>42.0</td>\n",
              "    </tr>\n",
              "    <tr>\n",
              "      <th>3</th>\n",
              "      <td>2018-01-02 02:04:00</td>\n",
              "      <td>1305.4</td>\n",
              "      <td>1305.5</td>\n",
              "      <td>1305.1</td>\n",
              "      <td>1305.2</td>\n",
              "      <td>89.0</td>\n",
              "    </tr>\n",
              "    <tr>\n",
              "      <th>4</th>\n",
              "      <td>2018-01-02 02:05:00</td>\n",
              "      <td>1305.2</td>\n",
              "      <td>1305.2</td>\n",
              "      <td>1305.1</td>\n",
              "      <td>1305.1</td>\n",
              "      <td>23.0</td>\n",
              "    </tr>\n",
              "  </tbody>\n",
              "</table>\n",
              "</div>\n",
              "      <button class=\"colab-df-convert\" onclick=\"convertToInteractive('df-a45640b8-1236-441f-990a-9b1f8ae7f3c2')\"\n",
              "              title=\"Convert this dataframe to an interactive table.\"\n",
              "              style=\"display:none;\">\n",
              "        \n",
              "  <svg xmlns=\"http://www.w3.org/2000/svg\" height=\"24px\"viewBox=\"0 0 24 24\"\n",
              "       width=\"24px\">\n",
              "    <path d=\"M0 0h24v24H0V0z\" fill=\"none\"/>\n",
              "    <path d=\"M18.56 5.44l.94 2.06.94-2.06 2.06-.94-2.06-.94-.94-2.06-.94 2.06-2.06.94zm-11 1L8.5 8.5l.94-2.06 2.06-.94-2.06-.94L8.5 2.5l-.94 2.06-2.06.94zm10 10l.94 2.06.94-2.06 2.06-.94-2.06-.94-.94-2.06-.94 2.06-2.06.94z\"/><path d=\"M17.41 7.96l-1.37-1.37c-.4-.4-.92-.59-1.43-.59-.52 0-1.04.2-1.43.59L10.3 9.45l-7.72 7.72c-.78.78-.78 2.05 0 2.83L4 21.41c.39.39.9.59 1.41.59.51 0 1.02-.2 1.41-.59l7.78-7.78 2.81-2.81c.8-.78.8-2.07 0-2.86zM5.41 20L4 18.59l7.72-7.72 1.47 1.35L5.41 20z\"/>\n",
              "  </svg>\n",
              "      </button>\n",
              "      \n",
              "  <style>\n",
              "    .colab-df-container {\n",
              "      display:flex;\n",
              "      flex-wrap:wrap;\n",
              "      gap: 12px;\n",
              "    }\n",
              "\n",
              "    .colab-df-convert {\n",
              "      background-color: #E8F0FE;\n",
              "      border: none;\n",
              "      border-radius: 50%;\n",
              "      cursor: pointer;\n",
              "      display: none;\n",
              "      fill: #1967D2;\n",
              "      height: 32px;\n",
              "      padding: 0 0 0 0;\n",
              "      width: 32px;\n",
              "    }\n",
              "\n",
              "    .colab-df-convert:hover {\n",
              "      background-color: #E2EBFA;\n",
              "      box-shadow: 0px 1px 2px rgba(60, 64, 67, 0.3), 0px 1px 3px 1px rgba(60, 64, 67, 0.15);\n",
              "      fill: #174EA6;\n",
              "    }\n",
              "\n",
              "    [theme=dark] .colab-df-convert {\n",
              "      background-color: #3B4455;\n",
              "      fill: #D2E3FC;\n",
              "    }\n",
              "\n",
              "    [theme=dark] .colab-df-convert:hover {\n",
              "      background-color: #434B5C;\n",
              "      box-shadow: 0px 1px 3px 1px rgba(0, 0, 0, 0.15);\n",
              "      filter: drop-shadow(0px 1px 2px rgba(0, 0, 0, 0.3));\n",
              "      fill: #FFFFFF;\n",
              "    }\n",
              "  </style>\n",
              "\n",
              "      <script>\n",
              "        const buttonEl =\n",
              "          document.querySelector('#df-a45640b8-1236-441f-990a-9b1f8ae7f3c2 button.colab-df-convert');\n",
              "        buttonEl.style.display =\n",
              "          google.colab.kernel.accessAllowed ? 'block' : 'none';\n",
              "\n",
              "        async function convertToInteractive(key) {\n",
              "          const element = document.querySelector('#df-a45640b8-1236-441f-990a-9b1f8ae7f3c2');\n",
              "          const dataTable =\n",
              "            await google.colab.kernel.invokeFunction('convertToInteractive',\n",
              "                                                     [key], {});\n",
              "          if (!dataTable) return;\n",
              "\n",
              "          const docLinkHtml = 'Like what you see? Visit the ' +\n",
              "            '<a target=\"_blank\" href=https://colab.research.google.com/notebooks/data_table.ipynb>data table notebook</a>'\n",
              "            + ' to learn more about interactive tables.';\n",
              "          element.innerHTML = '';\n",
              "          dataTable['output_type'] = 'display_data';\n",
              "          await google.colab.output.renderOutput(dataTable, element);\n",
              "          const docLink = document.createElement('div');\n",
              "          docLink.innerHTML = docLinkHtml;\n",
              "          element.appendChild(docLink);\n",
              "        }\n",
              "      </script>\n",
              "    </div>\n",
              "  </div>\n",
              "  "
            ]
          },
          "metadata": {},
          "execution_count": 2
        }
      ],
      "source": [
        "df = pd.read_csv('gold_clean.csv')\n",
        "df['ts'] = pd.to_datetime(df.ts)\n",
        "df.head()"
      ]
    },
    {
      "cell_type": "code",
      "execution_count": 3,
      "metadata": {
        "ExecuteTime": {
          "end_time": "2019-08-11T18:33:44.132485Z",
          "start_time": "2019-08-11T18:33:43.866196Z"
        },
        "colab": {
          "base_uri": "https://localhost:8080/",
          "height": 672
        },
        "id": "Cmn6bLFG4L4v",
        "outputId": "b2d4c0b2-e3d0-4166-9b22-32d1a7eef205"
      },
      "outputs": [
        {
          "output_type": "display_data",
          "data": {
            "text/plain": [
              "<Figure size 864x576 with 1 Axes>"
            ],
            "image/png": "[encoded data removed]"
          },
          "metadata": {
            "needs_background": "light"
          }
        },
        {
          "output_type": "execute_result",
          "data": {
            "text/plain": [
              "                   ts    open   close     vol    high     low\n",
              "0 2018-01-02 02:00:00  1305.3  1309.5  5284.0  1309.7  1304.6\n",
              "1 2018-01-02 03:00:00  1308.8  1309.3  4906.0  1309.3  1307.3\n",
              "2 2018-01-02 04:00:00  1308.4  1308.9  7923.0  1309.0  1306.2\n",
              "3 2018-01-02 05:00:00  1308.0  1308.7  4039.0  1308.7  1307.4\n",
              "4 2018-01-02 06:00:00  1307.8  1309.2  4529.0  1309.3  1307.3"
            ],
            "text/html": [
              "\n",
              "  <div id=\"df-967dffe5-eeae-4701-9ffe-2a528a22ae08\">\n",
              "    <div class=\"colab-df-container\">\n",
              "      <div>\n",
              "<style scoped>\n",
              "    .dataframe tbody tr th:only-of-type {\n",
              "        vertical-align: middle;\n",
              "    }\n",
              "\n",
              "    .dataframe tbody tr th {\n",
              "        vertical-align: top;\n",
              "    }\n",
              "\n",
              "    .dataframe thead th {\n",
              "        text-align: right;\n",
              "    }\n",
              "</style>\n",
              "<table border=\"1\" class=\"dataframe\">\n",
              "  <thead>\n",
              "    <tr style=\"text-align: right;\">\n",
              "      <th></th>\n",
              "      <th>ts</th>\n",
              "      <th>open</th>\n",
              "      <th>close</th>\n",
              "      <th>vol</th>\n",
              "      <th>high</th>\n",
              "      <th>low</th>\n",
              "    </tr>\n",
              "  </thead>\n",
              "  <tbody>\n",
              "    <tr>\n",
              "      <th>0</th>\n",
              "      <td>2018-01-02 02:00:00</td>\n",
              "      <td>1305.3</td>\n",
              "      <td>1309.5</td>\n",
              "      <td>5284.0</td>\n",
              "      <td>1309.7</td>\n",
              "      <td>1304.6</td>\n",
              "    </tr>\n",
              "    <tr>\n",
              "      <th>1</th>\n",
              "      <td>2018-01-02 03:00:00</td>\n",
              "      <td>1308.8</td>\n",
              "      <td>1309.3</td>\n",
              "      <td>4906.0</td>\n",
              "      <td>1309.3</td>\n",
              "      <td>1307.3</td>\n",
              "    </tr>\n",
              "    <tr>\n",
              "      <th>2</th>\n",
              "      <td>2018-01-02 04:00:00</td>\n",
              "      <td>1308.4</td>\n",
              "      <td>1308.9</td>\n",
              "      <td>7923.0</td>\n",
              "      <td>1309.0</td>\n",
              "      <td>1306.2</td>\n",
              "    </tr>\n",
              "    <tr>\n",
              "      <th>3</th>\n",
              "      <td>2018-01-02 05:00:00</td>\n",
              "      <td>1308.0</td>\n",
              "      <td>1308.7</td>\n",
              "      <td>4039.0</td>\n",
              "      <td>1308.7</td>\n",
              "      <td>1307.4</td>\n",
              "    </tr>\n",
              "    <tr>\n",
              "      <th>4</th>\n",
              "      <td>2018-01-02 06:00:00</td>\n",
              "      <td>1307.8</td>\n",
              "      <td>1309.2</td>\n",
              "      <td>4529.0</td>\n",
              "      <td>1309.3</td>\n",
              "      <td>1307.3</td>\n",
              "    </tr>\n",
              "  </tbody>\n",
              "</table>\n",
              "</div>\n",
              "      <button class=\"colab-df-convert\" onclick=\"convertToInteractive('df-967dffe5-eeae-4701-9ffe-2a528a22ae08')\"\n",
              "              title=\"Convert this dataframe to an interactive table.\"\n",
              "              style=\"display:none;\">\n",
              "        \n",
              "  <svg xmlns=\"http://www.w3.org/2000/svg\" height=\"24px\"viewBox=\"0 0 24 24\"\n",
              "       width=\"24px\">\n",
              "    <path d=\"M0 0h24v24H0V0z\" fill=\"none\"/>\n",
              "    <path d=\"M18.56 5.44l.94 2.06.94-2.06 2.06-.94-2.06-.94-.94-2.06-.94 2.06-2.06.94zm-11 1L8.5 8.5l.94-2.06 2.06-.94-2.06-.94L8.5 2.5l-.94 2.06-2.06.94zm10 10l.94 2.06.94-2.06 2.06-.94-2.06-.94-.94-2.06-.94 2.06-2.06.94z\"/><path d=\"M17.41 7.96l-1.37-1.37c-.4-.4-.92-.59-1.43-.59-.52 0-1.04.2-1.43.59L10.3 9.45l-7.72 7.72c-.78.78-.78 2.05 0 2.83L4 21.41c.39.39.9.59 1.41.59.51 0 1.02-.2 1.41-.59l7.78-7.78 2.81-2.81c.8-.78.8-2.07 0-2.86zM5.41 20L4 18.59l7.72-7.72 1.47 1.35L5.41 20z\"/>\n",
              "  </svg>\n",
              "      </button>\n",
              "      \n",
              "  <style>\n",
              "    .colab-df-container {\n",
              "      display:flex;\n",
              "      flex-wrap:wrap;\n",
              "      gap: 12px;\n",
              "    }\n",
              "\n",
              "    .colab-df-convert {\n",
              "      background-color: #E8F0FE;\n",
              "      border: none;\n",
              "      border-radius: 50%;\n",
              "      cursor: pointer;\n",
              "      display: none;\n",
              "      fill: #1967D2;\n",
              "      height: 32px;\n",
              "      padding: 0 0 0 0;\n",
              "      width: 32px;\n",
              "    }\n",
              "\n",
              "    .colab-df-convert:hover {\n",
              "      background-color: #E2EBFA;\n",
              "      box-shadow: 0px 1px 2px rgba(60, 64, 67, 0.3), 0px 1px 3px 1px rgba(60, 64, 67, 0.15);\n",
              "      fill: #174EA6;\n",
              "    }\n",
              "\n",
              "    [theme=dark] .colab-df-convert {\n",
              "      background-color: #3B4455;\n",
              "      fill: #D2E3FC;\n",
              "    }\n",
              "\n",
              "    [theme=dark] .colab-df-convert:hover {\n",
              "      background-color: #434B5C;\n",
              "      box-shadow: 0px 1px 3px 1px rgba(0, 0, 0, 0.15);\n",
              "      filter: drop-shadow(0px 1px 2px rgba(0, 0, 0, 0.3));\n",
              "      fill: #FFFFFF;\n",
              "    }\n",
              "  </style>\n",
              "\n",
              "      <script>\n",
              "        const buttonEl =\n",
              "          document.querySelector('#df-967dffe5-eeae-4701-9ffe-2a528a22ae08 button.colab-df-convert');\n",
              "        buttonEl.style.display =\n",
              "          google.colab.kernel.accessAllowed ? 'block' : 'none';\n",
              "\n",
              "        async function convertToInteractive(key) {\n",
              "          const element = document.querySelector('#df-967dffe5-eeae-4701-9ffe-2a528a22ae08');\n",
              "          const dataTable =\n",
              "            await google.colab.kernel.invokeFunction('convertToInteractive',\n",
              "                                                     [key], {});\n",
              "          if (!dataTable) return;\n",
              "\n",
              "          const docLinkHtml = 'Like what you see? Visit the ' +\n",
              "            '<a target=\"_blank\" href=https://colab.research.google.com/notebooks/data_table.ipynb>data table notebook</a>'\n",
              "            + ' to learn more about interactive tables.';\n",
              "          element.innerHTML = '';\n",
              "          dataTable['output_type'] = 'display_data';\n",
              "          await google.colab.output.renderOutput(dataTable, element);\n",
              "          const docLink = document.createElement('div');\n",
              "          docLink.innerHTML = docLinkHtml;\n",
              "          element.appendChild(docLink);\n",
              "        }\n",
              "      </script>\n",
              "    </div>\n",
              "  </div>\n",
              "  "
            ]
          },
          "metadata": {},
          "execution_count": 3
        }
      ],
      "source": [
        "df = df.iloc[:1440]\n",
        "\n",
        "## cвоя функция аггреагции: возвращаем наименьшее значение\n",
        "def myFunc(value):\n",
        "    return min(value)\n",
        "\n",
        "## определяем, как аггрегировать данные в колонках\n",
        "conversion = {\n",
        "    'open' :  'first', ## для цены открытия берём первое значение \n",
        "    'close':  'max',  ## для цены закрытия - cреднее\n",
        "    'vol'  :  'sum',   ## суммируем объёмы сделок в этот час\n",
        "    'high' :  'max',   ## берём максимум пикового значения\n",
        "    'low'  :  myFunc   ## можно определить свою функцию аггрегации для наименьшого значения\n",
        "}\n",
        "\n",
        "## downsampling будем проводить по переменной времени - ts\n",
        "df = df.set_index('ts')\n",
        "## уменьшаем частоту данных до 1 часа, аггрегируем данные, как описано выше\n",
        "downsampled = df.resample('1H').apply(conversion)\n",
        "## возвращаем время ts из индекса в отдельную колонку\n",
        "df = df.reset_index()\n",
        "downsampled = downsampled.reset_index()\n",
        "\n",
        "## визуализируем\n",
        "f, ax = plt.subplots(figsize=(12, 8))\n",
        "ax.plot(df.ts, df.close)\n",
        "ax.plot(downsampled.ts, downsampled.close, c='r', marker='o', lw=0)\n",
        "ax.legend(['Gold price', 'downsampled'])\n",
        "ax.grid()\n",
        "plt.show()\n",
        "\n",
        "downsampled.head()"
      ]
    },
    {
      "cell_type": "code",
      "execution_count": 4,
      "metadata": {
        "ExecuteTime": {
          "end_time": "2019-08-11T18:34:16.711614Z",
          "start_time": "2019-08-11T18:34:16.706673Z"
        },
        "colab": {
          "base_uri": "https://localhost:8080/"
        },
        "id": "iEUeMW0W4L4v",
        "outputId": "cd0a5342-63ce-4ed8-a5f7-0f0af9076b3c"
      },
      "outputs": [
        {
          "output_type": "stream",
          "name": "stdout",
          "text": [
            "len(df) = 1440\n",
            "len(downsampled) = 26\n"
          ]
        }
      ],
      "source": [
        "print(f'len(df) = {len(df)}')\n",
        "print(f'len(downsampled) = {len(downsampled)}')"
      ]
    },
    {
      "cell_type": "markdown",
      "metadata": {
        "id": "0TjEd4kW4L4w"
      },
      "source": [
        "# Upsampling"
      ]
    },
    {
      "cell_type": "code",
      "execution_count": 5,
      "metadata": {
        "ExecuteTime": {
          "end_time": "2019-08-11T18:34:55.281732Z",
          "start_time": "2019-08-11T18:34:54.733199Z"
        },
        "colab": {
          "base_uri": "https://localhost:8080/",
          "height": 483
        },
        "id": "UVLs6ck54L4y",
        "outputId": "bb5e506d-5cc8-44f5-9961-9bca69fb3c8d"
      },
      "outputs": [
        {
          "output_type": "display_data",
          "data": {
            "text/plain": [
              "<Figure size 864x576 with 1 Axes>"
            ],
            "image/png": "[encoded data removed]"
          },
          "metadata": {
            "needs_background": "light"
          }
        }
      ],
      "source": [
        "df = pd.read_csv('gold_clean.csv')\n",
        "\n",
        "df['unixtime'] = df.ts\n",
        "## преобразуем юниксовое время в таймстемп\n",
        "df['ts'] = pd.to_datetime(df.ts)\n",
        "## возьмём только первый час данных (60 минут)\n",
        "df = df.iloc[:60]\n",
        "\n",
        "## cделаем интерполяционную сетку, 120 значений (каждые 30 секунд)\n",
        "## np.interp не умеет работать с таймстемпами, поэтому будем использовать\n",
        "## юниксовое время, являющееся просто int\n",
        "ti = np.linspace(df.unixtime.min(), df.unixtime.max(), 120)\n",
        "## интерполируем\n",
        "upsampled = np.interp(ti, df.unixtime, df.close)\n",
        "## переведём интерполяционную сетку в таймстемп\n",
        "ts = pd.to_datetime(ti)\n",
        "\n",
        "## визуализируем\n",
        "f, ax = plt.subplots(figsize=(12, 8))\n",
        "## исходные данные\n",
        "ax.plot(df.ts, df.close, marker='o', lw=0)\n",
        "## красными кружками помечаем моменты, в которые мы теперь имеем данные\n",
        "ax.plot(ts, upsampled, c='r', marker='o', lw=0, markersize=3)\n",
        "ax.legend(['original', 'upsampled'])\n",
        "ax.grid()\n",
        "plt.show()"
      ]
    },
    {
      "cell_type": "markdown",
      "metadata": {
        "id": "rAAodkE34L4z"
      },
      "source": [
        "# Понижение разрешения (Downsampling)"
      ]
    },
    {
      "cell_type": "code",
      "execution_count": 6,
      "metadata": {
        "ExecuteTime": {
          "end_time": "2019-08-11T18:02:19.330763Z",
          "start_time": "2019-08-11T18:02:18.776244Z"
        },
        "colab": {
          "base_uri": "https://localhost:8080/",
          "height": 631
        },
        "id": "GEexf5Xa4L4z",
        "outputId": "35af145f-6636-48cc-b5e6-bcca238b7ed3"
      },
      "outputs": [
        {
          "output_type": "execute_result",
          "data": {
            "text/plain": [
              "            timestamp   close\n",
              "0 2018-01-02 02:01:00  1304.7\n",
              "1 2018-01-02 02:02:00  1305.0\n",
              "2 2018-01-02 02:03:00  1305.4\n",
              "3 2018-01-02 02:04:00  1305.2\n",
              "4 2018-01-02 02:05:00  1305.1"
            ],
            "text/html": [
              "\n",
              "  <div id=\"df-d1de7414-98e9-4569-9ca9-bbf7af922388\">\n",
              "    <div class=\"colab-df-container\">\n",
              "      <div>\n",
              "<style scoped>\n",
              "    .dataframe tbody tr th:only-of-type {\n",
              "        vertical-align: middle;\n",
              "    }\n",
              "\n",
              "    .dataframe tbody tr th {\n",
              "        vertical-align: top;\n",
              "    }\n",
              "\n",
              "    .dataframe thead th {\n",
              "        text-align: right;\n",
              "    }\n",
              "</style>\n",
              "<table border=\"1\" class=\"dataframe\">\n",
              "  <thead>\n",
              "    <tr style=\"text-align: right;\">\n",
              "      <th></th>\n",
              "      <th>timestamp</th>\n",
              "      <th>close</th>\n",
              "    </tr>\n",
              "  </thead>\n",
              "  <tbody>\n",
              "    <tr>\n",
              "      <th>0</th>\n",
              "      <td>2018-01-02 02:01:00</td>\n",
              "      <td>1304.7</td>\n",
              "    </tr>\n",
              "    <tr>\n",
              "      <th>1</th>\n",
              "      <td>2018-01-02 02:02:00</td>\n",
              "      <td>1305.0</td>\n",
              "    </tr>\n",
              "    <tr>\n",
              "      <th>2</th>\n",
              "      <td>2018-01-02 02:03:00</td>\n",
              "      <td>1305.4</td>\n",
              "    </tr>\n",
              "    <tr>\n",
              "      <th>3</th>\n",
              "      <td>2018-01-02 02:04:00</td>\n",
              "      <td>1305.2</td>\n",
              "    </tr>\n",
              "    <tr>\n",
              "      <th>4</th>\n",
              "      <td>2018-01-02 02:05:00</td>\n",
              "      <td>1305.1</td>\n",
              "    </tr>\n",
              "  </tbody>\n",
              "</table>\n",
              "</div>\n",
              "      <button class=\"colab-df-convert\" onclick=\"convertToInteractive('df-d1de7414-98e9-4569-9ca9-bbf7af922388')\"\n",
              "              title=\"Convert this dataframe to an interactive table.\"\n",
              "              style=\"display:none;\">\n",
              "        \n",
              "  <svg xmlns=\"http://www.w3.org/2000/svg\" height=\"24px\"viewBox=\"0 0 24 24\"\n",
              "       width=\"24px\">\n",
              "    <path d=\"M0 0h24v24H0V0z\" fill=\"none\"/>\n",
              "    <path d=\"M18.56 5.44l.94 2.06.94-2.06 2.06-.94-2.06-.94-.94-2.06-.94 2.06-2.06.94zm-11 1L8.5 8.5l.94-2.06 2.06-.94-2.06-.94L8.5 2.5l-.94 2.06-2.06.94zm10 10l.94 2.06.94-2.06 2.06-.94-2.06-.94-.94-2.06-.94 2.06-2.06.94z\"/><path d=\"M17.41 7.96l-1.37-1.37c-.4-.4-.92-.59-1.43-.59-.52 0-1.04.2-1.43.59L10.3 9.45l-7.72 7.72c-.78.78-.78 2.05 0 2.83L4 21.41c.39.39.9.59 1.41.59.51 0 1.02-.2 1.41-.59l7.78-7.78 2.81-2.81c.8-.78.8-2.07 0-2.86zM5.41 20L4 18.59l7.72-7.72 1.47 1.35L5.41 20z\"/>\n",
              "  </svg>\n",
              "      </button>\n",
              "      \n",
              "  <style>\n",
              "    .colab-df-container {\n",
              "      display:flex;\n",
              "      flex-wrap:wrap;\n",
              "      gap: 12px;\n",
              "    }\n",
              "\n",
              "    .colab-df-convert {\n",
              "      background-color: #E8F0FE;\n",
              "      border: none;\n",
              "      border-radius: 50%;\n",
              "      cursor: pointer;\n",
              "      display: none;\n",
              "      fill: #1967D2;\n",
              "      height: 32px;\n",
              "      padding: 0 0 0 0;\n",
              "      width: 32px;\n",
              "    }\n",
              "\n",
              "    .colab-df-convert:hover {\n",
              "      background-color: #E2EBFA;\n",
              "      box-shadow: 0px 1px 2px rgba(60, 64, 67, 0.3), 0px 1px 3px 1px rgba(60, 64, 67, 0.15);\n",
              "      fill: #174EA6;\n",
              "    }\n",
              "\n",
              "    [theme=dark] .colab-df-convert {\n",
              "      background-color: #3B4455;\n",
              "      fill: #D2E3FC;\n",
              "    }\n",
              "\n",
              "    [theme=dark] .colab-df-convert:hover {\n",
              "      background-color: #434B5C;\n",
              "      box-shadow: 0px 1px 3px 1px rgba(0, 0, 0, 0.15);\n",
              "      filter: drop-shadow(0px 1px 2px rgba(0, 0, 0, 0.3));\n",
              "      fill: #FFFFFF;\n",
              "    }\n",
              "  </style>\n",
              "\n",
              "      <script>\n",
              "        const buttonEl =\n",
              "          document.querySelector('#df-d1de7414-98e9-4569-9ca9-bbf7af922388 button.colab-df-convert');\n",
              "        buttonEl.style.display =\n",
              "          google.colab.kernel.accessAllowed ? 'block' : 'none';\n",
              "\n",
              "        async function convertToInteractive(key) {\n",
              "          const element = document.querySelector('#df-d1de7414-98e9-4569-9ca9-bbf7af922388');\n",
              "          const dataTable =\n",
              "            await google.colab.kernel.invokeFunction('convertToInteractive',\n",
              "                                                     [key], {});\n",
              "          if (!dataTable) return;\n",
              "\n",
              "          const docLinkHtml = 'Like what you see? Visit the ' +\n",
              "            '<a target=\"_blank\" href=https://colab.research.google.com/notebooks/data_table.ipynb>data table notebook</a>'\n",
              "            + ' to learn more about interactive tables.';\n",
              "          element.innerHTML = '';\n",
              "          dataTable['output_type'] = 'display_data';\n",
              "          await google.colab.output.renderOutput(dataTable, element);\n",
              "          const docLink = document.createElement('div');\n",
              "          docLink.innerHTML = docLinkHtml;\n",
              "          element.appendChild(docLink);\n",
              "        }\n",
              "      </script>\n",
              "    </div>\n",
              "  </div>\n",
              "  "
            ]
          },
          "metadata": {},
          "execution_count": 6
        },
        {
          "output_type": "display_data",
          "data": {
            "text/plain": [
              "<Figure size 1152x576 with 1 Axes>"
            ],
            "image/png": "[encoded data removed]"
          },
          "metadata": {
            "needs_background": "light"
          }
        }
      ],
      "source": [
        "df = pd.read_csv('gold_clean.csv')\n",
        "df = df.iloc[:1000]\n",
        "\n",
        "df['timestamp'] = pd.to_datetime(df.ts) \n",
        "\n",
        "df = df[['timestamp', 'close']]\n",
        "conversion = {'close' : 'mean'}\n",
        "\n",
        "df = df.set_index('timestamp')\n",
        "df_resampled = df.resample('1H').apply(conversion)\n",
        "df = df.reset_index()\n",
        "df_resampled = df_resampled.reset_index()\n",
        "\n",
        "f, ax = plt.subplots(figsize=(16, 8))\n",
        "ax.plot(df.timestamp, df.close)\n",
        "ax.plot(df_resampled.timestamp, df_resampled.close, c='r', lw=0, marker='o')\n",
        "ax.grid()\n",
        "\n",
        "df.head()"
      ]
    },
    {
      "cell_type": "code",
      "execution_count": 6,
      "metadata": {
        "id": "poYzdpcW4L4z"
      },
      "outputs": [],
      "source": []
    }
  ],
  "metadata": {
    "kernelspec": {
      "display_name": "Python 3",
      "language": "python",
      "name": "python3"
    },
    "language_info": {
      "codemirror_mode": {
        "name": "ipython",
        "version": 3
      },
      "file_extension": ".py",
      "mimetype": "text/x-python",
      "name": "python",
      "nbconvert_exporter": "python",
      "pygments_lexer": "ipython3",
      "version": "3.7.3"
    },
    "toc": {
      "base_numbering": 1,
      "nav_menu": {},
      "number_sections": true,
      "sideBar": true,
      "skip_h1_title": false,
      "title_cell": "Table of Contents",
      "title_sidebar": "Contents",
      "toc_cell": false,
      "toc_position": {},
      "toc_section_display": true,
      "toc_window_display": false
    },
    "varInspector": {
      "cols": {
        "lenName": 16,
        "lenType": 16,
        "lenVar": 40
      },
      "kernels_config": {
        "python": {
          "delete_cmd_postfix": "",
          "delete_cmd_prefix": "del ",
          "library": "var_list.py",
          "varRefreshCmd": "print(var_dic_list())"
        },
        "r": {
          "delete_cmd_postfix": ") ",
          "delete_cmd_prefix": "rm(",
          "library": "var_list.r",
          "varRefreshCmd": "cat(var_dic_list()) "
        }
      },
      "types_to_exclude": [
        "module",
        "function",
        "builtin_function_or_method",
        "instance",
        "_Feature"
      ],
      "window_display": false
    },
    "colab": {
      "provenance": [],
      "include_colab_link": true
    }
  },
  "nbformat": 4,
  "nbformat_minor": 0
}