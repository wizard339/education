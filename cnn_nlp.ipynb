{
  "nbformat": 4,
  "nbformat_minor": 0,
  "metadata": {
    "colab": {
      "provenance": [],
      "collapsed_sections": [
        "7zZBtixjCebK",
        "pP-sXgOAwnQR"
      ],
      "include_colab_link": true
    },
    "kernelspec": {
      "display_name": "Python 3",
      "name": "python3"
    },
    "language_info": {
      "name": "python"
    },
    "widgets": {
      "application/vnd.jupyter.widget-state+json": {
        "c20a7f39679c49749e58b7f6507df9cb": {
          "model_module": "@jupyter-widgets/controls",
          "model_name": "HBoxModel",
          "model_module_version": "1.5.0",
          "state": {
            "_dom_classes": [],
            "_model_module": "@jupyter-widgets/controls",
            "_model_module_version": "1.5.0",
            "_model_name": "HBoxModel",
            "_view_count": null,
            "_view_module": "@jupyter-widgets/controls",
            "_view_module_version": "1.5.0",
            "_view_name": "HBoxView",
            "box_style": "",
            "children": [
              "IPY_MODEL_763d60e1ff0648f88b7f6b9bdd3c0881",
              "IPY_MODEL_6b614b2f62a9407b9b80e83d5b8f8e66",
              "IPY_MODEL_a3272a6b6d634fab9378507f68df5889"
            ],
            "layout": "IPY_MODEL_bbf601807bb24eb59bb9aeb8c3a06e6b"
          }
        },
        "763d60e1ff0648f88b7f6b9bdd3c0881": {
          "model_module": "@jupyter-widgets/controls",
          "model_name": "HTMLModel",
          "model_module_version": "1.5.0",
          "state": {
            "_dom_classes": [],
            "_model_module": "@jupyter-widgets/controls",
            "_model_module_version": "1.5.0",
            "_model_name": "HTMLModel",
            "_view_count": null,
            "_view_module": "@jupyter-widgets/controls",
            "_view_module_version": "1.5.0",
            "_view_name": "HTMLView",
            "description": "",
            "description_tooltip": null,
            "layout": "IPY_MODEL_4e9b8e95895c49008237d1b778f3723c",
            "placeholder": "​",
            "style": "IPY_MODEL_0aeba7025e8e40ddb8c6a755dda6e8eb",
            "value": "Downloading builder script: 100%"
          }
        },
        "6b614b2f62a9407b9b80e83d5b8f8e66": {
          "model_module": "@jupyter-widgets/controls",
          "model_name": "FloatProgressModel",
          "model_module_version": "1.5.0",
          "state": {
            "_dom_classes": [],
            "_model_module": "@jupyter-widgets/controls",
            "_model_module_version": "1.5.0",
            "_model_name": "FloatProgressModel",
            "_view_count": null,
            "_view_module": "@jupyter-widgets/controls",
            "_view_module_version": "1.5.0",
            "_view_name": "ProgressView",
            "bar_style": "success",
            "description": "",
            "description_tooltip": null,
            "layout": "IPY_MODEL_3e2430cc1ebe4f5f895f90237da3446a",
            "max": 4313,
            "min": 0,
            "orientation": "horizontal",
            "style": "IPY_MODEL_3930011a8e8d4bf885715907a7111373",
            "value": 4313
          }
        },
        "a3272a6b6d634fab9378507f68df5889": {
          "model_module": "@jupyter-widgets/controls",
          "model_name": "HTMLModel",
          "model_module_version": "1.5.0",
          "state": {
            "_dom_classes": [],
            "_model_module": "@jupyter-widgets/controls",
            "_model_module_version": "1.5.0",
            "_model_name": "HTMLModel",
            "_view_count": null,
            "_view_module": "@jupyter-widgets/controls",
            "_view_module_version": "1.5.0",
            "_view_name": "HTMLView",
            "description": "",
            "description_tooltip": null,
            "layout": "IPY_MODEL_d8113dc9c9e5487d8312a802b383ee6f",
            "placeholder": "​",
            "style": "IPY_MODEL_72c2eade54cd4337a13b69f1175a698a",
            "value": " 4.31k/4.31k [00:00&lt;00:00, 78.6kB/s]"
          }
        },
        "bbf601807bb24eb59bb9aeb8c3a06e6b": {
          "model_module": "@jupyter-widgets/base",
          "model_name": "LayoutModel",
          "model_module_version": "1.2.0",
          "state": {
            "_model_module": "@jupyter-widgets/base",
            "_model_module_version": "1.2.0",
            "_model_name": "LayoutModel",
            "_view_count": null,
            "_view_module": "@jupyter-widgets/base",
            "_view_module_version": "1.2.0",
            "_view_name": "LayoutView",
            "align_content": null,
            "align_items": null,
            "align_self": null,
            "border": null,
            "bottom": null,
            "display": null,
            "flex": null,
            "flex_flow": null,
            "grid_area": null,
            "grid_auto_columns": null,
            "grid_auto_flow": null,
            "grid_auto_rows": null,
            "grid_column": null,
            "grid_gap": null,
            "grid_row": null,
            "grid_template_areas": null,
            "grid_template_columns": null,
            "grid_template_rows": null,
            "height": null,
            "justify_content": null,
            "justify_items": null,
            "left": null,
            "margin": null,
            "max_height": null,
            "max_width": null,
            "min_height": null,
            "min_width": null,
            "object_fit": null,
            "object_position": null,
            "order": null,
            "overflow": null,
            "overflow_x": null,
            "overflow_y": null,
            "padding": null,
            "right": null,
            "top": null,
            "visibility": null,
            "width": null
          }
        },
        "4e9b8e95895c49008237d1b778f3723c": {
          "model_module": "@jupyter-widgets/base",
          "model_name": "LayoutModel",
          "model_module_version": "1.2.0",
          "state": {
            "_model_module": "@jupyter-widgets/base",
            "_model_module_version": "1.2.0",
            "_model_name": "LayoutModel",
            "_view_count": null,
            "_view_module": "@jupyter-widgets/base",
            "_view_module_version": "1.2.0",
            "_view_name": "LayoutView",
            "align_content": null,
            "align_items": null,
            "align_self": null,
            "border": null,
            "bottom": null,
            "display": null,
            "flex": null,
            "flex_flow": null,
            "grid_area": null,
            "grid_auto_columns": null,
            "grid_auto_flow": null,
            "grid_auto_rows": null,
            "grid_column": null,
            "grid_gap": null,
            "grid_row": null,
            "grid_template_areas": null,
            "grid_template_columns": null,
            "grid_template_rows": null,
            "height": null,
            "justify_content": null,
            "justify_items": null,
            "left": null,
            "margin": null,
            "max_height": null,
            "max_width": null,
            "min_height": null,
            "min_width": null,
            "object_fit": null,
            "object_position": null,
            "order": null,
            "overflow": null,
            "overflow_x": null,
            "overflow_y": null,
            "padding": null,
            "right": null,
            "top": null,
            "visibility": null,
            "width": null
          }
        },
        "0aeba7025e8e40ddb8c6a755dda6e8eb": {
          "model_module": "@jupyter-widgets/controls",
          "model_name": "DescriptionStyleModel",
          "model_module_version": "1.5.0",
          "state": {
            "_model_module": "@jupyter-widgets/controls",
            "_model_module_version": "1.5.0",
            "_model_name": "DescriptionStyleModel",
            "_view_count": null,
            "_view_module": "@jupyter-widgets/base",
            "_view_module_version": "1.2.0",
            "_view_name": "StyleView",
            "description_width": ""
          }
        },
        "3e2430cc1ebe4f5f895f90237da3446a": {
          "model_module": "@jupyter-widgets/base",
          "model_name": "LayoutModel",
          "model_module_version": "1.2.0",
          "state": {
            "_model_module": "@jupyter-widgets/base",
            "_model_module_version": "1.2.0",
            "_model_name": "LayoutModel",
            "_view_count": null,
            "_view_module": "@jupyter-widgets/base",
            "_view_module_version": "1.2.0",
            "_view_name": "LayoutView",
            "align_content": null,
            "align_items": null,
            "align_self": null,
            "border": null,
            "bottom": null,
            "display": null,
            "flex": null,
            "flex_flow": null,
            "grid_area": null,
            "grid_auto_columns": null,
            "grid_auto_flow": null,
            "grid_auto_rows": null,
            "grid_column": null,
            "grid_gap": null,
            "grid_row": null,
            "grid_template_areas": null,
            "grid_template_columns": null,
            "grid_template_rows": null,
            "height": null,
            "justify_content": null,
            "justify_items": null,
            "left": null,
            "margin": null,
            "max_height": null,
            "max_width": null,
            "min_height": null,
            "min_width": null,
            "object_fit": null,
            "object_position": null,
            "order": null,
            "overflow": null,
            "overflow_x": null,
            "overflow_y": null,
            "padding": null,
            "right": null,
            "top": null,
            "visibility": null,
            "width": null
          }
        },
        "3930011a8e8d4bf885715907a7111373": {
          "model_module": "@jupyter-widgets/controls",
          "model_name": "ProgressStyleModel",
          "model_module_version": "1.5.0",
          "state": {
            "_model_module": "@jupyter-widgets/controls",
            "_model_module_version": "1.5.0",
            "_model_name": "ProgressStyleModel",
            "_view_count": null,
            "_view_module": "@jupyter-widgets/base",
            "_view_module_version": "1.2.0",
            "_view_name": "StyleView",
            "bar_color": null,
            "description_width": ""
          }
        },
        "d8113dc9c9e5487d8312a802b383ee6f": {
          "model_module": "@jupyter-widgets/base",
          "model_name": "LayoutModel",
          "model_module_version": "1.2.0",
          "state": {
            "_model_module": "@jupyter-widgets/base",
            "_model_module_version": "1.2.0",
            "_model_name": "LayoutModel",
            "_view_count": null,
            "_view_module": "@jupyter-widgets/base",
            "_view_module_version": "1.2.0",
            "_view_name": "LayoutView",
            "align_content": null,
            "align_items": null,
            "align_self": null,
            "border": null,
            "bottom": null,
            "display": null,
            "flex": null,
            "flex_flow": null,
            "grid_area": null,
            "grid_auto_columns": null,
            "grid_auto_flow": null,
            "grid_auto_rows": null,
            "grid_column": null,
            "grid_gap": null,
            "grid_row": null,
            "grid_template_areas": null,
            "grid_template_columns": null,
            "grid_template_rows": null,
            "height": null,
            "justify_content": null,
            "justify_items": null,
            "left": null,
            "margin": null,
            "max_height": null,
            "max_width": null,
            "min_height": null,
            "min_width": null,
            "object_fit": null,
            "object_position": null,
            "order": null,
            "overflow": null,
            "overflow_x": null,
            "overflow_y": null,
            "padding": null,
            "right": null,
            "top": null,
            "visibility": null,
            "width": null
          }
        },
        "72c2eade54cd4337a13b69f1175a698a": {
          "model_module": "@jupyter-widgets/controls",
          "model_name": "DescriptionStyleModel",
          "model_module_version": "1.5.0",
          "state": {
            "_model_module": "@jupyter-widgets/controls",
            "_model_module_version": "1.5.0",
            "_model_name": "DescriptionStyleModel",
            "_view_count": null,
            "_view_module": "@jupyter-widgets/base",
            "_view_module_version": "1.2.0",
            "_view_name": "StyleView",
            "description_width": ""
          }
        },
        "0f026c10ce9b4a7b93b044d1941a686f": {
          "model_module": "@jupyter-widgets/controls",
          "model_name": "HBoxModel",
          "model_module_version": "1.5.0",
          "state": {
            "_dom_classes": [],
            "_model_module": "@jupyter-widgets/controls",
            "_model_module_version": "1.5.0",
            "_model_name": "HBoxModel",
            "_view_count": null,
            "_view_module": "@jupyter-widgets/controls",
            "_view_module_version": "1.5.0",
            "_view_name": "HBoxView",
            "box_style": "",
            "children": [
              "IPY_MODEL_4e4c948c2c994e7e9f7ca805c01d3675",
              "IPY_MODEL_ff750358d8f044a1a4c81e71c66afda2",
              "IPY_MODEL_2e52cbbfd1084391950bd7d29b0fe690"
            ],
            "layout": "IPY_MODEL_22046de5abd442bcb3cec445e8dd0b83"
          }
        },
        "4e4c948c2c994e7e9f7ca805c01d3675": {
          "model_module": "@jupyter-widgets/controls",
          "model_name": "HTMLModel",
          "model_module_version": "1.5.0",
          "state": {
            "_dom_classes": [],
            "_model_module": "@jupyter-widgets/controls",
            "_model_module_version": "1.5.0",
            "_model_name": "HTMLModel",
            "_view_count": null,
            "_view_module": "@jupyter-widgets/controls",
            "_view_module_version": "1.5.0",
            "_view_name": "HTMLView",
            "description": "",
            "description_tooltip": null,
            "layout": "IPY_MODEL_93d866e7633c4b99b4c9bf504df5476a",
            "placeholder": "​",
            "style": "IPY_MODEL_b0e228a364c44d809633a3d8f752cf18",
            "value": "Downloading metadata: 100%"
          }
        },
        "ff750358d8f044a1a4c81e71c66afda2": {
          "model_module": "@jupyter-widgets/controls",
          "model_name": "FloatProgressModel",
          "model_module_version": "1.5.0",
          "state": {
            "_dom_classes": [],
            "_model_module": "@jupyter-widgets/controls",
            "_model_module_version": "1.5.0",
            "_model_name": "FloatProgressModel",
            "_view_count": null,
            "_view_module": "@jupyter-widgets/controls",
            "_view_module_version": "1.5.0",
            "_view_name": "ProgressView",
            "bar_style": "success",
            "description": "",
            "description_tooltip": null,
            "layout": "IPY_MODEL_f25e3315bc824cf6b383b21102669071",
            "max": 2166,
            "min": 0,
            "orientation": "horizontal",
            "style": "IPY_MODEL_7a0ebe93e71b4a2c80f545ef0939c0cc",
            "value": 2166
          }
        },
        "2e52cbbfd1084391950bd7d29b0fe690": {
          "model_module": "@jupyter-widgets/controls",
          "model_name": "HTMLModel",
          "model_module_version": "1.5.0",
          "state": {
            "_dom_classes": [],
            "_model_module": "@jupyter-widgets/controls",
            "_model_module_version": "1.5.0",
            "_model_name": "HTMLModel",
            "_view_count": null,
            "_view_module": "@jupyter-widgets/controls",
            "_view_module_version": "1.5.0",
            "_view_name": "HTMLView",
            "description": "",
            "description_tooltip": null,
            "layout": "IPY_MODEL_c98310e3cc75475fa58e42cd6780a414",
            "placeholder": "​",
            "style": "IPY_MODEL_d020f37d277b4bfcb9d1c368a6a838b4",
            "value": " 2.17k/2.17k [00:00&lt;00:00, 42.2kB/s]"
          }
        },
        "22046de5abd442bcb3cec445e8dd0b83": {
          "model_module": "@jupyter-widgets/base",
          "model_name": "LayoutModel",
          "model_module_version": "1.2.0",
          "state": {
            "_model_module": "@jupyter-widgets/base",
            "_model_module_version": "1.2.0",
            "_model_name": "LayoutModel",
            "_view_count": null,
            "_view_module": "@jupyter-widgets/base",
            "_view_module_version": "1.2.0",
            "_view_name": "LayoutView",
            "align_content": null,
            "align_items": null,
            "align_self": null,
            "border": null,
            "bottom": null,
            "display": null,
            "flex": null,
            "flex_flow": null,
            "grid_area": null,
            "grid_auto_columns": null,
            "grid_auto_flow": null,
            "grid_auto_rows": null,
            "grid_column": null,
            "grid_gap": null,
            "grid_row": null,
            "grid_template_areas": null,
            "grid_template_columns": null,
            "grid_template_rows": null,
            "height": null,
            "justify_content": null,
            "justify_items": null,
            "left": null,
            "margin": null,
            "max_height": null,
            "max_width": null,
            "min_height": null,
            "min_width": null,
            "object_fit": null,
            "object_position": null,
            "order": null,
            "overflow": null,
            "overflow_x": null,
            "overflow_y": null,
            "padding": null,
            "right": null,
            "top": null,
            "visibility": null,
            "width": null
          }
        },
        "93d866e7633c4b99b4c9bf504df5476a": {
          "model_module": "@jupyter-widgets/base",
          "model_name": "LayoutModel",
          "model_module_version": "1.2.0",
          "state": {
            "_model_module": "@jupyter-widgets/base",
            "_model_module_version": "1.2.0",
            "_model_name": "LayoutModel",
            "_view_count": null,
            "_view_module": "@jupyter-widgets/base",
            "_view_module_version": "1.2.0",
            "_view_name": "LayoutView",
            "align_content": null,
            "align_items": null,
            "align_self": null,
            "border": null,
            "bottom": null,
            "display": null,
            "flex": null,
            "flex_flow": null,
            "grid_area": null,
            "grid_auto_columns": null,
            "grid_auto_flow": null,
            "grid_auto_rows": null,
            "grid_column": null,
            "grid_gap": null,
            "grid_row": null,
            "grid_template_areas": null,
            "grid_template_columns": null,
            "grid_template_rows": null,
            "height": null,
            "justify_content": null,
            "justify_items": null,
            "left": null,
            "margin": null,
            "max_height": null,
            "max_width": null,
            "min_height": null,
            "min_width": null,
            "object_fit": null,
            "object_position": null,
            "order": null,
            "overflow": null,
            "overflow_x": null,
            "overflow_y": null,
            "padding": null,
            "right": null,
            "top": null,
            "visibility": null,
            "width": null
          }
        },
        "b0e228a364c44d809633a3d8f752cf18": {
          "model_module": "@jupyter-widgets/controls",
          "model_name": "DescriptionStyleModel",
          "model_module_version": "1.5.0",
          "state": {
            "_model_module": "@jupyter-widgets/controls",
            "_model_module_version": "1.5.0",
            "_model_name": "DescriptionStyleModel",
            "_view_count": null,
            "_view_module": "@jupyter-widgets/base",
            "_view_module_version": "1.2.0",
            "_view_name": "StyleView",
            "description_width": ""
          }
        },
        "f25e3315bc824cf6b383b21102669071": {
          "model_module": "@jupyter-widgets/base",
          "model_name": "LayoutModel",
          "model_module_version": "1.2.0",
          "state": {
            "_model_module": "@jupyter-widgets/base",
            "_model_module_version": "1.2.0",
            "_model_name": "LayoutModel",
            "_view_count": null,
            "_view_module": "@jupyter-widgets/base",
            "_view_module_version": "1.2.0",
            "_view_name": "LayoutView",
            "align_content": null,
            "align_items": null,
            "align_self": null,
            "border": null,
            "bottom": null,
            "display": null,
            "flex": null,
            "flex_flow": null,
            "grid_area": null,
            "grid_auto_columns": null,
            "grid_auto_flow": null,
            "grid_auto_rows": null,
            "grid_column": null,
            "grid_gap": null,
            "grid_row": null,
            "grid_template_areas": null,
            "grid_template_columns": null,
            "grid_template_rows": null,
            "height": null,
            "justify_content": null,
            "justify_items": null,
            "left": null,
            "margin": null,
            "max_height": null,
            "max_width": null,
            "min_height": null,
            "min_width": null,
            "object_fit": null,
            "object_position": null,
            "order": null,
            "overflow": null,
            "overflow_x": null,
            "overflow_y": null,
            "padding": null,
            "right": null,
            "top": null,
            "visibility": null,
            "width": null
          }
        },
        "7a0ebe93e71b4a2c80f545ef0939c0cc": {
          "model_module": "@jupyter-widgets/controls",
          "model_name": "ProgressStyleModel",
          "model_module_version": "1.5.0",
          "state": {
            "_model_module": "@jupyter-widgets/controls",
            "_model_module_version": "1.5.0",
            "_model_name": "ProgressStyleModel",
            "_view_count": null,
            "_view_module": "@jupyter-widgets/base",
            "_view_module_version": "1.2.0",
            "_view_name": "StyleView",
            "bar_color": null,
            "description_width": ""
          }
        },
        "c98310e3cc75475fa58e42cd6780a414": {
          "model_module": "@jupyter-widgets/base",
          "model_name": "LayoutModel",
          "model_module_version": "1.2.0",
          "state": {
            "_model_module": "@jupyter-widgets/base",
            "_model_module_version": "1.2.0",
            "_model_name": "LayoutModel",
            "_view_count": null,
            "_view_module": "@jupyter-widgets/base",
            "_view_module_version": "1.2.0",
            "_view_name": "LayoutView",
            "align_content": null,
            "align_items": null,
            "align_self": null,
            "border": null,
            "bottom": null,
            "display": null,
            "flex": null,
            "flex_flow": null,
            "grid_area": null,
            "grid_auto_columns": null,
            "grid_auto_flow": null,
            "grid_auto_rows": null,
            "grid_column": null,
            "grid_gap": null,
            "grid_row": null,
            "grid_template_areas": null,
            "grid_template_columns": null,
            "grid_template_rows": null,
            "height": null,
            "justify_content": null,
            "justify_items": null,
            "left": null,
            "margin": null,
            "max_height": null,
            "max_width": null,
            "min_height": null,
            "min_width": null,
            "object_fit": null,
            "object_position": null,
            "order": null,
            "overflow": null,
            "overflow_x": null,
            "overflow_y": null,
            "padding": null,
            "right": null,
            "top": null,
            "visibility": null,
            "width": null
          }
        },
        "d020f37d277b4bfcb9d1c368a6a838b4": {
          "model_module": "@jupyter-widgets/controls",
          "model_name": "DescriptionStyleModel",
          "model_module_version": "1.5.0",
          "state": {
            "_model_module": "@jupyter-widgets/controls",
            "_model_module_version": "1.5.0",
            "_model_name": "DescriptionStyleModel",
            "_view_count": null,
            "_view_module": "@jupyter-widgets/base",
            "_view_module_version": "1.2.0",
            "_view_name": "StyleView",
            "description_width": ""
          }
        },
        "c118ad26ad3e4096885b832456c12b7a": {
          "model_module": "@jupyter-widgets/controls",
          "model_name": "HBoxModel",
          "model_module_version": "1.5.0",
          "state": {
            "_dom_classes": [],
            "_model_module": "@jupyter-widgets/controls",
            "_model_module_version": "1.5.0",
            "_model_name": "HBoxModel",
            "_view_count": null,
            "_view_module": "@jupyter-widgets/controls",
            "_view_module_version": "1.5.0",
            "_view_name": "HBoxView",
            "box_style": "",
            "children": [
              "IPY_MODEL_bedcf3642b1c401a9f972523c115963f",
              "IPY_MODEL_0987b0de6cc04bc1831d33fe107d83e9",
              "IPY_MODEL_5312c2d55ac443e39487f9a250e7af6d"
            ],
            "layout": "IPY_MODEL_e7e5c09921c84a9baf2e1ca2179ea457"
          }
        },
        "bedcf3642b1c401a9f972523c115963f": {
          "model_module": "@jupyter-widgets/controls",
          "model_name": "HTMLModel",
          "model_module_version": "1.5.0",
          "state": {
            "_dom_classes": [],
            "_model_module": "@jupyter-widgets/controls",
            "_model_module_version": "1.5.0",
            "_model_name": "HTMLModel",
            "_view_count": null,
            "_view_module": "@jupyter-widgets/controls",
            "_view_module_version": "1.5.0",
            "_view_name": "HTMLView",
            "description": "",
            "description_tooltip": null,
            "layout": "IPY_MODEL_e39d103cb2134f81aec70680deb14208",
            "placeholder": "​",
            "style": "IPY_MODEL_ad6cd51c674e41a8aa2079cf04024f56",
            "value": "Downloading readme: 100%"
          }
        },
        "0987b0de6cc04bc1831d33fe107d83e9": {
          "model_module": "@jupyter-widgets/controls",
          "model_name": "FloatProgressModel",
          "model_module_version": "1.5.0",
          "state": {
            "_dom_classes": [],
            "_model_module": "@jupyter-widgets/controls",
            "_model_module_version": "1.5.0",
            "_model_name": "FloatProgressModel",
            "_view_count": null,
            "_view_module": "@jupyter-widgets/controls",
            "_view_module_version": "1.5.0",
            "_view_name": "ProgressView",
            "bar_style": "success",
            "description": "",
            "description_tooltip": null,
            "layout": "IPY_MODEL_b57e96a5a67746a3a16e5ef3a37b5db7",
            "max": 7590,
            "min": 0,
            "orientation": "horizontal",
            "style": "IPY_MODEL_bb921e0b8c56458098dae529f5cba16a",
            "value": 7590
          }
        },
        "5312c2d55ac443e39487f9a250e7af6d": {
          "model_module": "@jupyter-widgets/controls",
          "model_name": "HTMLModel",
          "model_module_version": "1.5.0",
          "state": {
            "_dom_classes": [],
            "_model_module": "@jupyter-widgets/controls",
            "_model_module_version": "1.5.0",
            "_model_name": "HTMLModel",
            "_view_count": null,
            "_view_module": "@jupyter-widgets/controls",
            "_view_module_version": "1.5.0",
            "_view_name": "HTMLView",
            "description": "",
            "description_tooltip": null,
            "layout": "IPY_MODEL_907a4e2db2ac40b59cade54c5f9353d8",
            "placeholder": "​",
            "style": "IPY_MODEL_9b60d950a9ea40e28e8b6af7e2d8d131",
            "value": " 7.59k/7.59k [00:00&lt;00:00, 147kB/s]"
          }
        },
        "e7e5c09921c84a9baf2e1ca2179ea457": {
          "model_module": "@jupyter-widgets/base",
          "model_name": "LayoutModel",
          "model_module_version": "1.2.0",
          "state": {
            "_model_module": "@jupyter-widgets/base",
            "_model_module_version": "1.2.0",
            "_model_name": "LayoutModel",
            "_view_count": null,
            "_view_module": "@jupyter-widgets/base",
            "_view_module_version": "1.2.0",
            "_view_name": "LayoutView",
            "align_content": null,
            "align_items": null,
            "align_self": null,
            "border": null,
            "bottom": null,
            "display": null,
            "flex": null,
            "flex_flow": null,
            "grid_area": null,
            "grid_auto_columns": null,
            "grid_auto_flow": null,
            "grid_auto_rows": null,
            "grid_column": null,
            "grid_gap": null,
            "grid_row": null,
            "grid_template_areas": null,
            "grid_template_columns": null,
            "grid_template_rows": null,
            "height": null,
            "justify_content": null,
            "justify_items": null,
            "left": null,
            "margin": null,
            "max_height": null,
            "max_width": null,
            "min_height": null,
            "min_width": null,
            "object_fit": null,
            "object_position": null,
            "order": null,
            "overflow": null,
            "overflow_x": null,
            "overflow_y": null,
            "padding": null,
            "right": null,
            "top": null,
            "visibility": null,
            "width": null
          }
        },
        "e39d103cb2134f81aec70680deb14208": {
          "model_module": "@jupyter-widgets/base",
          "model_name": "LayoutModel",
          "model_module_version": "1.2.0",
          "state": {
            "_model_module": "@jupyter-widgets/base",
            "_model_module_version": "1.2.0",
            "_model_name": "LayoutModel",
            "_view_count": null,
            "_view_module": "@jupyter-widgets/base",
            "_view_module_version": "1.2.0",
            "_view_name": "LayoutView",
            "align_content": null,
            "align_items": null,
            "align_self": null,
            "border": null,
            "bottom": null,
            "display": null,
            "flex": null,
            "flex_flow": null,
            "grid_area": null,
            "grid_auto_columns": null,
            "grid_auto_flow": null,
            "grid_auto_rows": null,
            "grid_column": null,
            "grid_gap": null,
            "grid_row": null,
            "grid_template_areas": null,
            "grid_template_columns": null,
            "grid_template_rows": null,
            "height": null,
            "justify_content": null,
            "justify_items": null,
            "left": null,
            "margin": null,
            "max_height": null,
            "max_width": null,
            "min_height": null,
            "min_width": null,
            "object_fit": null,
            "object_position": null,
            "order": null,
            "overflow": null,
            "overflow_x": null,
            "overflow_y": null,
            "padding": null,
            "right": null,
            "top": null,
            "visibility": null,
            "width": null
          }
        },
        "ad6cd51c674e41a8aa2079cf04024f56": {
          "model_module": "@jupyter-widgets/controls",
          "model_name": "DescriptionStyleModel",
          "model_module_version": "1.5.0",
          "state": {
            "_model_module": "@jupyter-widgets/controls",
            "_model_module_version": "1.5.0",
            "_model_name": "DescriptionStyleModel",
            "_view_count": null,
            "_view_module": "@jupyter-widgets/base",
            "_view_module_version": "1.2.0",
            "_view_name": "StyleView",
            "description_width": ""
          }
        },
        "b57e96a5a67746a3a16e5ef3a37b5db7": {
          "model_module": "@jupyter-widgets/base",
          "model_name": "LayoutModel",
          "model_module_version": "1.2.0",
          "state": {
            "_model_module": "@jupyter-widgets/base",
            "_model_module_version": "1.2.0",
            "_model_name": "LayoutModel",
            "_view_count": null,
            "_view_module": "@jupyter-widgets/base",
            "_view_module_version": "1.2.0",
            "_view_name": "LayoutView",
            "align_content": null,
            "align_items": null,
            "align_self": null,
            "border": null,
            "bottom": null,
            "display": null,
            "flex": null,
            "flex_flow": null,
            "grid_area": null,
            "grid_auto_columns": null,
            "grid_auto_flow": null,
            "grid_auto_rows": null,
            "grid_column": null,
            "grid_gap": null,
            "grid_row": null,
            "grid_template_areas": null,
            "grid_template_columns": null,
            "grid_template_rows": null,
            "height": null,
            "justify_content": null,
            "justify_items": null,
            "left": null,
            "margin": null,
            "max_height": null,
            "max_width": null,
            "min_height": null,
            "min_width": null,
            "object_fit": null,
            "object_position": null,
            "order": null,
            "overflow": null,
            "overflow_x": null,
            "overflow_y": null,
            "padding": null,
            "right": null,
            "top": null,
            "visibility": null,
            "width": null
          }
        },
        "bb921e0b8c56458098dae529f5cba16a": {
          "model_module": "@jupyter-widgets/controls",
          "model_name": "ProgressStyleModel",
          "model_module_version": "1.5.0",
          "state": {
            "_model_module": "@jupyter-widgets/controls",
            "_model_module_version": "1.5.0",
            "_model_name": "ProgressStyleModel",
            "_view_count": null,
            "_view_module": "@jupyter-widgets/base",
            "_view_module_version": "1.2.0",
            "_view_name": "StyleView",
            "bar_color": null,
            "description_width": ""
          }
        },
        "907a4e2db2ac40b59cade54c5f9353d8": {
          "model_module": "@jupyter-widgets/base",
          "model_name": "LayoutModel",
          "model_module_version": "1.2.0",
          "state": {
            "_model_module": "@jupyter-widgets/base",
            "_model_module_version": "1.2.0",
            "_model_name": "LayoutModel",
            "_view_count": null,
            "_view_module": "@jupyter-widgets/base",
            "_view_module_version": "1.2.0",
            "_view_name": "LayoutView",
            "align_content": null,
            "align_items": null,
            "align_self": null,
            "border": null,
            "bottom": null,
            "display": null,
            "flex": null,
            "flex_flow": null,
            "grid_area": null,
            "grid_auto_columns": null,
            "grid_auto_flow": null,
            "grid_auto_rows": null,
            "grid_column": null,
            "grid_gap": null,
            "grid_row": null,
            "grid_template_areas": null,
            "grid_template_columns": null,
            "grid_template_rows": null,
            "height": null,
            "justify_content": null,
            "justify_items": null,
            "left": null,
            "margin": null,
            "max_height": null,
            "max_width": null,
            "min_height": null,
            "min_width": null,
            "object_fit": null,
            "object_position": null,
            "order": null,
            "overflow": null,
            "overflow_x": null,
            "overflow_y": null,
            "padding": null,
            "right": null,
            "top": null,
            "visibility": null,
            "width": null
          }
        },
        "9b60d950a9ea40e28e8b6af7e2d8d131": {
          "model_module": "@jupyter-widgets/controls",
          "model_name": "DescriptionStyleModel",
          "model_module_version": "1.5.0",
          "state": {
            "_model_module": "@jupyter-widgets/controls",
            "_model_module_version": "1.5.0",
            "_model_name": "DescriptionStyleModel",
            "_view_count": null,
            "_view_module": "@jupyter-widgets/base",
            "_view_module_version": "1.2.0",
            "_view_name": "StyleView",
            "description_width": ""
          }
        },
        "94caa180385647d5a6c7c03d413d3f6f": {
          "model_module": "@jupyter-widgets/controls",
          "model_name": "HBoxModel",
          "model_module_version": "1.5.0",
          "state": {
            "_dom_classes": [],
            "_model_module": "@jupyter-widgets/controls",
            "_model_module_version": "1.5.0",
            "_model_name": "HBoxModel",
            "_view_count": null,
            "_view_module": "@jupyter-widgets/controls",
            "_view_module_version": "1.5.0",
            "_view_name": "HBoxView",
            "box_style": "",
            "children": [
              "IPY_MODEL_766698449c234b74a5ab9d60aa186935",
              "IPY_MODEL_6c949c5767b54eacb6f4b4f07ced45aa",
              "IPY_MODEL_85ae2699585442f7a48376db2943ea0b"
            ],
            "layout": "IPY_MODEL_ee9f6e153c3b46b5ab66ffc37e4c498a"
          }
        },
        "766698449c234b74a5ab9d60aa186935": {
          "model_module": "@jupyter-widgets/controls",
          "model_name": "HTMLModel",
          "model_module_version": "1.5.0",
          "state": {
            "_dom_classes": [],
            "_model_module": "@jupyter-widgets/controls",
            "_model_module_version": "1.5.0",
            "_model_name": "HTMLModel",
            "_view_count": null,
            "_view_module": "@jupyter-widgets/controls",
            "_view_module_version": "1.5.0",
            "_view_name": "HTMLView",
            "description": "",
            "description_tooltip": null,
            "layout": "IPY_MODEL_b4fe424b3778433c92a151a73ab133c9",
            "placeholder": "​",
            "style": "IPY_MODEL_c18ecc026558439284f5078fb2df7780",
            "value": "Downloading data: 100%"
          }
        },
        "6c949c5767b54eacb6f4b4f07ced45aa": {
          "model_module": "@jupyter-widgets/controls",
          "model_name": "FloatProgressModel",
          "model_module_version": "1.5.0",
          "state": {
            "_dom_classes": [],
            "_model_module": "@jupyter-widgets/controls",
            "_model_module_version": "1.5.0",
            "_model_name": "FloatProgressModel",
            "_view_count": null,
            "_view_module": "@jupyter-widgets/controls",
            "_view_module_version": "1.5.0",
            "_view_name": "ProgressView",
            "bar_style": "success",
            "description": "",
            "description_tooltip": null,
            "layout": "IPY_MODEL_e025216242ac4e0cb83a14fc3f912964",
            "max": 84125825,
            "min": 0,
            "orientation": "horizontal",
            "style": "IPY_MODEL_486d8bea00744e87b8debcd621496260",
            "value": 84125825
          }
        },
        "85ae2699585442f7a48376db2943ea0b": {
          "model_module": "@jupyter-widgets/controls",
          "model_name": "HTMLModel",
          "model_module_version": "1.5.0",
          "state": {
            "_dom_classes": [],
            "_model_module": "@jupyter-widgets/controls",
            "_model_module_version": "1.5.0",
            "_model_name": "HTMLModel",
            "_view_count": null,
            "_view_module": "@jupyter-widgets/controls",
            "_view_module_version": "1.5.0",
            "_view_name": "HTMLView",
            "description": "",
            "description_tooltip": null,
            "layout": "IPY_MODEL_766d431c701d47bebc3eaa6cf54fb7f5",
            "placeholder": "​",
            "style": "IPY_MODEL_df515a2f53e44faf9f5a23d5a37b031f",
            "value": " 84.1M/84.1M [00:06&lt;00:00, 38.2MB/s]"
          }
        },
        "ee9f6e153c3b46b5ab66ffc37e4c498a": {
          "model_module": "@jupyter-widgets/base",
          "model_name": "LayoutModel",
          "model_module_version": "1.2.0",
          "state": {
            "_model_module": "@jupyter-widgets/base",
            "_model_module_version": "1.2.0",
            "_model_name": "LayoutModel",
            "_view_count": null,
            "_view_module": "@jupyter-widgets/base",
            "_view_module_version": "1.2.0",
            "_view_name": "LayoutView",
            "align_content": null,
            "align_items": null,
            "align_self": null,
            "border": null,
            "bottom": null,
            "display": null,
            "flex": null,
            "flex_flow": null,
            "grid_area": null,
            "grid_auto_columns": null,
            "grid_auto_flow": null,
            "grid_auto_rows": null,
            "grid_column": null,
            "grid_gap": null,
            "grid_row": null,
            "grid_template_areas": null,
            "grid_template_columns": null,
            "grid_template_rows": null,
            "height": null,
            "justify_content": null,
            "justify_items": null,
            "left": null,
            "margin": null,
            "max_height": null,
            "max_width": null,
            "min_height": null,
            "min_width": null,
            "object_fit": null,
            "object_position": null,
            "order": null,
            "overflow": null,
            "overflow_x": null,
            "overflow_y": null,
            "padding": null,
            "right": null,
            "top": null,
            "visibility": null,
            "width": null
          }
        },
        "b4fe424b3778433c92a151a73ab133c9": {
          "model_module": "@jupyter-widgets/base",
          "model_name": "LayoutModel",
          "model_module_version": "1.2.0",
          "state": {
            "_model_module": "@jupyter-widgets/base",
            "_model_module_version": "1.2.0",
            "_model_name": "LayoutModel",
            "_view_count": null,
            "_view_module": "@jupyter-widgets/base",
            "_view_module_version": "1.2.0",
            "_view_name": "LayoutView",
            "align_content": null,
            "align_items": null,
            "align_self": null,
            "border": null,
            "bottom": null,
            "display": null,
            "flex": null,
            "flex_flow": null,
            "grid_area": null,
            "grid_auto_columns": null,
            "grid_auto_flow": null,
            "grid_auto_rows": null,
            "grid_column": null,
            "grid_gap": null,
            "grid_row": null,
            "grid_template_areas": null,
            "grid_template_columns": null,
            "grid_template_rows": null,
            "height": null,
            "justify_content": null,
            "justify_items": null,
            "left": null,
            "margin": null,
            "max_height": null,
            "max_width": null,
            "min_height": null,
            "min_width": null,
            "object_fit": null,
            "object_position": null,
            "order": null,
            "overflow": null,
            "overflow_x": null,
            "overflow_y": null,
            "padding": null,
            "right": null,
            "top": null,
            "visibility": null,
            "width": null
          }
        },
        "c18ecc026558439284f5078fb2df7780": {
          "model_module": "@jupyter-widgets/controls",
          "model_name": "DescriptionStyleModel",
          "model_module_version": "1.5.0",
          "state": {
            "_model_module": "@jupyter-widgets/controls",
            "_model_module_version": "1.5.0",
            "_model_name": "DescriptionStyleModel",
            "_view_count": null,
            "_view_module": "@jupyter-widgets/base",
            "_view_module_version": "1.2.0",
            "_view_name": "StyleView",
            "description_width": ""
          }
        },
        "e025216242ac4e0cb83a14fc3f912964": {
          "model_module": "@jupyter-widgets/base",
          "model_name": "LayoutModel",
          "model_module_version": "1.2.0",
          "state": {
            "_model_module": "@jupyter-widgets/base",
            "_model_module_version": "1.2.0",
            "_model_name": "LayoutModel",
            "_view_count": null,
            "_view_module": "@jupyter-widgets/base",
            "_view_module_version": "1.2.0",
            "_view_name": "LayoutView",
            "align_content": null,
            "align_items": null,
            "align_self": null,
            "border": null,
            "bottom": null,
            "display": null,
            "flex": null,
            "flex_flow": null,
            "grid_area": null,
            "grid_auto_columns": null,
            "grid_auto_flow": null,
            "grid_auto_rows": null,
            "grid_column": null,
            "grid_gap": null,
            "grid_row": null,
            "grid_template_areas": null,
            "grid_template_columns": null,
            "grid_template_rows": null,
            "height": null,
            "justify_content": null,
            "justify_items": null,
            "left": null,
            "margin": null,
            "max_height": null,
            "max_width": null,
            "min_height": null,
            "min_width": null,
            "object_fit": null,
            "object_position": null,
            "order": null,
            "overflow": null,
            "overflow_x": null,
            "overflow_y": null,
            "padding": null,
            "right": null,
            "top": null,
            "visibility": null,
            "width": null
          }
        },
        "486d8bea00744e87b8debcd621496260": {
          "model_module": "@jupyter-widgets/controls",
          "model_name": "ProgressStyleModel",
          "model_module_version": "1.5.0",
          "state": {
            "_model_module": "@jupyter-widgets/controls",
            "_model_module_version": "1.5.0",
            "_model_name": "ProgressStyleModel",
            "_view_count": null,
            "_view_module": "@jupyter-widgets/base",
            "_view_module_version": "1.2.0",
            "_view_name": "StyleView",
            "bar_color": null,
            "description_width": ""
          }
        },
        "766d431c701d47bebc3eaa6cf54fb7f5": {
          "model_module": "@jupyter-widgets/base",
          "model_name": "LayoutModel",
          "model_module_version": "1.2.0",
          "state": {
            "_model_module": "@jupyter-widgets/base",
            "_model_module_version": "1.2.0",
            "_model_name": "LayoutModel",
            "_view_count": null,
            "_view_module": "@jupyter-widgets/base",
            "_view_module_version": "1.2.0",
            "_view_name": "LayoutView",
            "align_content": null,
            "align_items": null,
            "align_self": null,
            "border": null,
            "bottom": null,
            "display": null,
            "flex": null,
            "flex_flow": null,
            "grid_area": null,
            "grid_auto_columns": null,
            "grid_auto_flow": null,
            "grid_auto_rows": null,
            "grid_column": null,
            "grid_gap": null,
            "grid_row": null,
            "grid_template_areas": null,
            "grid_template_columns": null,
            "grid_template_rows": null,
            "height": null,
            "justify_content": null,
            "justify_items": null,
            "left": null,
            "margin": null,
            "max_height": null,
            "max_width": null,
            "min_height": null,
            "min_width": null,
            "object_fit": null,
            "object_position": null,
            "order": null,
            "overflow": null,
            "overflow_x": null,
            "overflow_y": null,
            "padding": null,
            "right": null,
            "top": null,
            "visibility": null,
            "width": null
          }
        },
        "df515a2f53e44faf9f5a23d5a37b031f": {
          "model_module": "@jupyter-widgets/controls",
          "model_name": "DescriptionStyleModel",
          "model_module_version": "1.5.0",
          "state": {
            "_model_module": "@jupyter-widgets/controls",
            "_model_module_version": "1.5.0",
            "_model_name": "DescriptionStyleModel",
            "_view_count": null,
            "_view_module": "@jupyter-widgets/base",
            "_view_module_version": "1.2.0",
            "_view_name": "StyleView",
            "description_width": ""
          }
        },
        "afe8a453bffe44348dcee47dc898e77c": {
          "model_module": "@jupyter-widgets/controls",
          "model_name": "HBoxModel",
          "model_module_version": "1.5.0",
          "state": {
            "_dom_classes": [],
            "_model_module": "@jupyter-widgets/controls",
            "_model_module_version": "1.5.0",
            "_model_name": "HBoxModel",
            "_view_count": null,
            "_view_module": "@jupyter-widgets/controls",
            "_view_module_version": "1.5.0",
            "_view_name": "HBoxView",
            "box_style": "",
            "children": [
              "IPY_MODEL_d9ffe8090bd34dd4818e1c1aab152467",
              "IPY_MODEL_6c0ba6d8639348f99d886256d37d31fc",
              "IPY_MODEL_85d10a4d53d1438abb7d2f5fa2182ede"
            ],
            "layout": "IPY_MODEL_4482bfce108b4c0cbe022f51647beadb"
          }
        },
        "d9ffe8090bd34dd4818e1c1aab152467": {
          "model_module": "@jupyter-widgets/controls",
          "model_name": "HTMLModel",
          "model_module_version": "1.5.0",
          "state": {
            "_dom_classes": [],
            "_model_module": "@jupyter-widgets/controls",
            "_model_module_version": "1.5.0",
            "_model_name": "HTMLModel",
            "_view_count": null,
            "_view_module": "@jupyter-widgets/controls",
            "_view_module_version": "1.5.0",
            "_view_name": "HTMLView",
            "description": "",
            "description_tooltip": null,
            "layout": "IPY_MODEL_561b43c157f54364a5fc22847578b4a4",
            "placeholder": "​",
            "style": "IPY_MODEL_0d592d11d532445cad55f83513ca529f",
            "value": "Generating train split: 100%"
          }
        },
        "6c0ba6d8639348f99d886256d37d31fc": {
          "model_module": "@jupyter-widgets/controls",
          "model_name": "FloatProgressModel",
          "model_module_version": "1.5.0",
          "state": {
            "_dom_classes": [],
            "_model_module": "@jupyter-widgets/controls",
            "_model_module_version": "1.5.0",
            "_model_name": "FloatProgressModel",
            "_view_count": null,
            "_view_module": "@jupyter-widgets/controls",
            "_view_module_version": "1.5.0",
            "_view_name": "ProgressView",
            "bar_style": "",
            "description": "",
            "description_tooltip": null,
            "layout": "IPY_MODEL_85b5456e14dd45f3a0e0a6b351d314ae",
            "max": 25000,
            "min": 0,
            "orientation": "horizontal",
            "style": "IPY_MODEL_cccf09401029463f90a28f0969e7aeb4",
            "value": 25000
          }
        },
        "85d10a4d53d1438abb7d2f5fa2182ede": {
          "model_module": "@jupyter-widgets/controls",
          "model_name": "HTMLModel",
          "model_module_version": "1.5.0",
          "state": {
            "_dom_classes": [],
            "_model_module": "@jupyter-widgets/controls",
            "_model_module_version": "1.5.0",
            "_model_name": "HTMLModel",
            "_view_count": null,
            "_view_module": "@jupyter-widgets/controls",
            "_view_module_version": "1.5.0",
            "_view_name": "HTMLView",
            "description": "",
            "description_tooltip": null,
            "layout": "IPY_MODEL_c14f1f4ab88c44bb9a5f60bcea6319d7",
            "placeholder": "​",
            "style": "IPY_MODEL_d88aa9cff2e5463ab3716cffd629e9f7",
            "value": " 25000/25000 [00:22&lt;00:00, 10412.07 examples/s]"
          }
        },
        "4482bfce108b4c0cbe022f51647beadb": {
          "model_module": "@jupyter-widgets/base",
          "model_name": "LayoutModel",
          "model_module_version": "1.2.0",
          "state": {
            "_model_module": "@jupyter-widgets/base",
            "_model_module_version": "1.2.0",
            "_model_name": "LayoutModel",
            "_view_count": null,
            "_view_module": "@jupyter-widgets/base",
            "_view_module_version": "1.2.0",
            "_view_name": "LayoutView",
            "align_content": null,
            "align_items": null,
            "align_self": null,
            "border": null,
            "bottom": null,
            "display": null,
            "flex": null,
            "flex_flow": null,
            "grid_area": null,
            "grid_auto_columns": null,
            "grid_auto_flow": null,
            "grid_auto_rows": null,
            "grid_column": null,
            "grid_gap": null,
            "grid_row": null,
            "grid_template_areas": null,
            "grid_template_columns": null,
            "grid_template_rows": null,
            "height": null,
            "justify_content": null,
            "justify_items": null,
            "left": null,
            "margin": null,
            "max_height": null,
            "max_width": null,
            "min_height": null,
            "min_width": null,
            "object_fit": null,
            "object_position": null,
            "order": null,
            "overflow": null,
            "overflow_x": null,
            "overflow_y": null,
            "padding": null,
            "right": null,
            "top": null,
            "visibility": "hidden",
            "width": null
          }
        },
        "561b43c157f54364a5fc22847578b4a4": {
          "model_module": "@jupyter-widgets/base",
          "model_name": "LayoutModel",
          "model_module_version": "1.2.0",
          "state": {
            "_model_module": "@jupyter-widgets/base",
            "_model_module_version": "1.2.0",
            "_model_name": "LayoutModel",
            "_view_count": null,
            "_view_module": "@jupyter-widgets/base",
            "_view_module_version": "1.2.0",
            "_view_name": "LayoutView",
            "align_content": null,
            "align_items": null,
            "align_self": null,
            "border": null,
            "bottom": null,
            "display": null,
            "flex": null,
            "flex_flow": null,
            "grid_area": null,
            "grid_auto_columns": null,
            "grid_auto_flow": null,
            "grid_auto_rows": null,
            "grid_column": null,
            "grid_gap": null,
            "grid_row": null,
            "grid_template_areas": null,
            "grid_template_columns": null,
            "grid_template_rows": null,
            "height": null,
            "justify_content": null,
            "justify_items": null,
            "left": null,
            "margin": null,
            "max_height": null,
            "max_width": null,
            "min_height": null,
            "min_width": null,
            "object_fit": null,
            "object_position": null,
            "order": null,
            "overflow": null,
            "overflow_x": null,
            "overflow_y": null,
            "padding": null,
            "right": null,
            "top": null,
            "visibility": null,
            "width": null
          }
        },
        "0d592d11d532445cad55f83513ca529f": {
          "model_module": "@jupyter-widgets/controls",
          "model_name": "DescriptionStyleModel",
          "model_module_version": "1.5.0",
          "state": {
            "_model_module": "@jupyter-widgets/controls",
            "_model_module_version": "1.5.0",
            "_model_name": "DescriptionStyleModel",
            "_view_count": null,
            "_view_module": "@jupyter-widgets/base",
            "_view_module_version": "1.2.0",
            "_view_name": "StyleView",
            "description_width": ""
          }
        },
        "85b5456e14dd45f3a0e0a6b351d314ae": {
          "model_module": "@jupyter-widgets/base",
          "model_name": "LayoutModel",
          "model_module_version": "1.2.0",
          "state": {
            "_model_module": "@jupyter-widgets/base",
            "_model_module_version": "1.2.0",
            "_model_name": "LayoutModel",
            "_view_count": null,
            "_view_module": "@jupyter-widgets/base",
            "_view_module_version": "1.2.0",
            "_view_name": "LayoutView",
            "align_content": null,
            "align_items": null,
            "align_self": null,
            "border": null,
            "bottom": null,
            "display": null,
            "flex": null,
            "flex_flow": null,
            "grid_area": null,
            "grid_auto_columns": null,
            "grid_auto_flow": null,
            "grid_auto_rows": null,
            "grid_column": null,
            "grid_gap": null,
            "grid_row": null,
            "grid_template_areas": null,
            "grid_template_columns": null,
            "grid_template_rows": null,
            "height": null,
            "justify_content": null,
            "justify_items": null,
            "left": null,
            "margin": null,
            "max_height": null,
            "max_width": null,
            "min_height": null,
            "min_width": null,
            "object_fit": null,
            "object_position": null,
            "order": null,
            "overflow": null,
            "overflow_x": null,
            "overflow_y": null,
            "padding": null,
            "right": null,
            "top": null,
            "visibility": null,
            "width": null
          }
        },
        "cccf09401029463f90a28f0969e7aeb4": {
          "model_module": "@jupyter-widgets/controls",
          "model_name": "ProgressStyleModel",
          "model_module_version": "1.5.0",
          "state": {
            "_model_module": "@jupyter-widgets/controls",
            "_model_module_version": "1.5.0",
            "_model_name": "ProgressStyleModel",
            "_view_count": null,
            "_view_module": "@jupyter-widgets/base",
            "_view_module_version": "1.2.0",
            "_view_name": "StyleView",
            "bar_color": null,
            "description_width": ""
          }
        },
        "c14f1f4ab88c44bb9a5f60bcea6319d7": {
          "model_module": "@jupyter-widgets/base",
          "model_name": "LayoutModel",
          "model_module_version": "1.2.0",
          "state": {
            "_model_module": "@jupyter-widgets/base",
            "_model_module_version": "1.2.0",
            "_model_name": "LayoutModel",
            "_view_count": null,
            "_view_module": "@jupyter-widgets/base",
            "_view_module_version": "1.2.0",
            "_view_name": "LayoutView",
            "align_content": null,
            "align_items": null,
            "align_self": null,
            "border": null,
            "bottom": null,
            "display": null,
            "flex": null,
            "flex_flow": null,
            "grid_area": null,
            "grid_auto_columns": null,
            "grid_auto_flow": null,
            "grid_auto_rows": null,
            "grid_column": null,
            "grid_gap": null,
            "grid_row": null,
            "grid_template_areas": null,
            "grid_template_columns": null,
            "grid_template_rows": null,
            "height": null,
            "justify_content": null,
            "justify_items": null,
            "left": null,
            "margin": null,
            "max_height": null,
            "max_width": null,
            "min_height": null,
            "min_width": null,
            "object_fit": null,
            "object_position": null,
            "order": null,
            "overflow": null,
            "overflow_x": null,
            "overflow_y": null,
            "padding": null,
            "right": null,
            "top": null,
            "visibility": null,
            "width": null
          }
        },
        "d88aa9cff2e5463ab3716cffd629e9f7": {
          "model_module": "@jupyter-widgets/controls",
          "model_name": "DescriptionStyleModel",
          "model_module_version": "1.5.0",
          "state": {
            "_model_module": "@jupyter-widgets/controls",
            "_model_module_version": "1.5.0",
            "_model_name": "DescriptionStyleModel",
            "_view_count": null,
            "_view_module": "@jupyter-widgets/base",
            "_view_module_version": "1.2.0",
            "_view_name": "StyleView",
            "description_width": ""
          }
        },
        "5db2274d57de4f60859dd1b6d4ff539d": {
          "model_module": "@jupyter-widgets/controls",
          "model_name": "HBoxModel",
          "model_module_version": "1.5.0",
          "state": {
            "_dom_classes": [],
            "_model_module": "@jupyter-widgets/controls",
            "_model_module_version": "1.5.0",
            "_model_name": "HBoxModel",
            "_view_count": null,
            "_view_module": "@jupyter-widgets/controls",
            "_view_module_version": "1.5.0",
            "_view_name": "HBoxView",
            "box_style": "",
            "children": [
              "IPY_MODEL_629b96593c7244f8af4bc99197addc83",
              "IPY_MODEL_4822a80065434f64a099499fef050408",
              "IPY_MODEL_1b563da17b7348d2a729cff7b7b16be0"
            ],
            "layout": "IPY_MODEL_d0b00fc164b8459297d146c899041d66"
          }
        },
        "629b96593c7244f8af4bc99197addc83": {
          "model_module": "@jupyter-widgets/controls",
          "model_name": "HTMLModel",
          "model_module_version": "1.5.0",
          "state": {
            "_dom_classes": [],
            "_model_module": "@jupyter-widgets/controls",
            "_model_module_version": "1.5.0",
            "_model_name": "HTMLModel",
            "_view_count": null,
            "_view_module": "@jupyter-widgets/controls",
            "_view_module_version": "1.5.0",
            "_view_name": "HTMLView",
            "description": "",
            "description_tooltip": null,
            "layout": "IPY_MODEL_2508f67dea4d434291bf02fcd0a22239",
            "placeholder": "​",
            "style": "IPY_MODEL_ce82de849d6f4aa9840f031ddf7a1cc0",
            "value": "Generating test split: 100%"
          }
        },
        "4822a80065434f64a099499fef050408": {
          "model_module": "@jupyter-widgets/controls",
          "model_name": "FloatProgressModel",
          "model_module_version": "1.5.0",
          "state": {
            "_dom_classes": [],
            "_model_module": "@jupyter-widgets/controls",
            "_model_module_version": "1.5.0",
            "_model_name": "FloatProgressModel",
            "_view_count": null,
            "_view_module": "@jupyter-widgets/controls",
            "_view_module_version": "1.5.0",
            "_view_name": "ProgressView",
            "bar_style": "",
            "description": "",
            "description_tooltip": null,
            "layout": "IPY_MODEL_e28046d187b349afbe437c5296f07f0c",
            "max": 25000,
            "min": 0,
            "orientation": "horizontal",
            "style": "IPY_MODEL_fc192dc037274bed85c45c3f80dfa2c1",
            "value": 25000
          }
        },
        "1b563da17b7348d2a729cff7b7b16be0": {
          "model_module": "@jupyter-widgets/controls",
          "model_name": "HTMLModel",
          "model_module_version": "1.5.0",
          "state": {
            "_dom_classes": [],
            "_model_module": "@jupyter-widgets/controls",
            "_model_module_version": "1.5.0",
            "_model_name": "HTMLModel",
            "_view_count": null,
            "_view_module": "@jupyter-widgets/controls",
            "_view_module_version": "1.5.0",
            "_view_name": "HTMLView",
            "description": "",
            "description_tooltip": null,
            "layout": "IPY_MODEL_221f9bb064ba4b65b1bd81c4784e4772",
            "placeholder": "​",
            "style": "IPY_MODEL_3248a4825cb24ff780faf95f4b9ca0cc",
            "value": " 25000/25000 [00:16&lt;00:00, 10291.02 examples/s]"
          }
        },
        "d0b00fc164b8459297d146c899041d66": {
          "model_module": "@jupyter-widgets/base",
          "model_name": "LayoutModel",
          "model_module_version": "1.2.0",
          "state": {
            "_model_module": "@jupyter-widgets/base",
            "_model_module_version": "1.2.0",
            "_model_name": "LayoutModel",
            "_view_count": null,
            "_view_module": "@jupyter-widgets/base",
            "_view_module_version": "1.2.0",
            "_view_name": "LayoutView",
            "align_content": null,
            "align_items": null,
            "align_self": null,
            "border": null,
            "bottom": null,
            "display": null,
            "flex": null,
            "flex_flow": null,
            "grid_area": null,
            "grid_auto_columns": null,
            "grid_auto_flow": null,
            "grid_auto_rows": null,
            "grid_column": null,
            "grid_gap": null,
            "grid_row": null,
            "grid_template_areas": null,
            "grid_template_columns": null,
            "grid_template_rows": null,
            "height": null,
            "justify_content": null,
            "justify_items": null,
            "left": null,
            "margin": null,
            "max_height": null,
            "max_width": null,
            "min_height": null,
            "min_width": null,
            "object_fit": null,
            "object_position": null,
            "order": null,
            "overflow": null,
            "overflow_x": null,
            "overflow_y": null,
            "padding": null,
            "right": null,
            "top": null,
            "visibility": "hidden",
            "width": null
          }
        },
        "2508f67dea4d434291bf02fcd0a22239": {
          "model_module": "@jupyter-widgets/base",
          "model_name": "LayoutModel",
          "model_module_version": "1.2.0",
          "state": {
            "_model_module": "@jupyter-widgets/base",
            "_model_module_version": "1.2.0",
            "_model_name": "LayoutModel",
            "_view_count": null,
            "_view_module": "@jupyter-widgets/base",
            "_view_module_version": "1.2.0",
            "_view_name": "LayoutView",
            "align_content": null,
            "align_items": null,
            "align_self": null,
            "border": null,
            "bottom": null,
            "display": null,
            "flex": null,
            "flex_flow": null,
            "grid_area": null,
            "grid_auto_columns": null,
            "grid_auto_flow": null,
            "grid_auto_rows": null,
            "grid_column": null,
            "grid_gap": null,
            "grid_row": null,
            "grid_template_areas": null,
            "grid_template_columns": null,
            "grid_template_rows": null,
            "height": null,
            "justify_content": null,
            "justify_items": null,
            "left": null,
            "margin": null,
            "max_height": null,
            "max_width": null,
            "min_height": null,
            "min_width": null,
            "object_fit": null,
            "object_position": null,
            "order": null,
            "overflow": null,
            "overflow_x": null,
            "overflow_y": null,
            "padding": null,
            "right": null,
            "top": null,
            "visibility": null,
            "width": null
          }
        },
        "ce82de849d6f4aa9840f031ddf7a1cc0": {
          "model_module": "@jupyter-widgets/controls",
          "model_name": "DescriptionStyleModel",
          "model_module_version": "1.5.0",
          "state": {
            "_model_module": "@jupyter-widgets/controls",
            "_model_module_version": "1.5.0",
            "_model_name": "DescriptionStyleModel",
            "_view_count": null,
            "_view_module": "@jupyter-widgets/base",
            "_view_module_version": "1.2.0",
            "_view_name": "StyleView",
            "description_width": ""
          }
        },
        "e28046d187b349afbe437c5296f07f0c": {
          "model_module": "@jupyter-widgets/base",
          "model_name": "LayoutModel",
          "model_module_version": "1.2.0",
          "state": {
            "_model_module": "@jupyter-widgets/base",
            "_model_module_version": "1.2.0",
            "_model_name": "LayoutModel",
            "_view_count": null,
            "_view_module": "@jupyter-widgets/base",
            "_view_module_version": "1.2.0",
            "_view_name": "LayoutView",
            "align_content": null,
            "align_items": null,
            "align_self": null,
            "border": null,
            "bottom": null,
            "display": null,
            "flex": null,
            "flex_flow": null,
            "grid_area": null,
            "grid_auto_columns": null,
            "grid_auto_flow": null,
            "grid_auto_rows": null,
            "grid_column": null,
            "grid_gap": null,
            "grid_row": null,
            "grid_template_areas": null,
            "grid_template_columns": null,
            "grid_template_rows": null,
            "height": null,
            "justify_content": null,
            "justify_items": null,
            "left": null,
            "margin": null,
            "max_height": null,
            "max_width": null,
            "min_height": null,
            "min_width": null,
            "object_fit": null,
            "object_position": null,
            "order": null,
            "overflow": null,
            "overflow_x": null,
            "overflow_y": null,
            "padding": null,
            "right": null,
            "top": null,
            "visibility": null,
            "width": null
          }
        },
        "fc192dc037274bed85c45c3f80dfa2c1": {
          "model_module": "@jupyter-widgets/controls",
          "model_name": "ProgressStyleModel",
          "model_module_version": "1.5.0",
          "state": {
            "_model_module": "@jupyter-widgets/controls",
            "_model_module_version": "1.5.0",
            "_model_name": "ProgressStyleModel",
            "_view_count": null,
            "_view_module": "@jupyter-widgets/base",
            "_view_module_version": "1.2.0",
            "_view_name": "StyleView",
            "bar_color": null,
            "description_width": ""
          }
        },
        "221f9bb064ba4b65b1bd81c4784e4772": {
          "model_module": "@jupyter-widgets/base",
          "model_name": "LayoutModel",
          "model_module_version": "1.2.0",
          "state": {
            "_model_module": "@jupyter-widgets/base",
            "_model_module_version": "1.2.0",
            "_model_name": "LayoutModel",
            "_view_count": null,
            "_view_module": "@jupyter-widgets/base",
            "_view_module_version": "1.2.0",
            "_view_name": "LayoutView",
            "align_content": null,
            "align_items": null,
            "align_self": null,
            "border": null,
            "bottom": null,
            "display": null,
            "flex": null,
            "flex_flow": null,
            "grid_area": null,
            "grid_auto_columns": null,
            "grid_auto_flow": null,
            "grid_auto_rows": null,
            "grid_column": null,
            "grid_gap": null,
            "grid_row": null,
            "grid_template_areas": null,
            "grid_template_columns": null,
            "grid_template_rows": null,
            "height": null,
            "justify_content": null,
            "justify_items": null,
            "left": null,
            "margin": null,
            "max_height": null,
            "max_width": null,
            "min_height": null,
            "min_width": null,
            "object_fit": null,
            "object_position": null,
            "order": null,
            "overflow": null,
            "overflow_x": null,
            "overflow_y": null,
            "padding": null,
            "right": null,
            "top": null,
            "visibility": null,
            "width": null
          }
        },
        "3248a4825cb24ff780faf95f4b9ca0cc": {
          "model_module": "@jupyter-widgets/controls",
          "model_name": "DescriptionStyleModel",
          "model_module_version": "1.5.0",
          "state": {
            "_model_module": "@jupyter-widgets/controls",
            "_model_module_version": "1.5.0",
            "_model_name": "DescriptionStyleModel",
            "_view_count": null,
            "_view_module": "@jupyter-widgets/base",
            "_view_module_version": "1.2.0",
            "_view_name": "StyleView",
            "description_width": ""
          }
        },
        "1bf2a34628d142529c1a8c44d07639e8": {
          "model_module": "@jupyter-widgets/controls",
          "model_name": "HBoxModel",
          "model_module_version": "1.5.0",
          "state": {
            "_dom_classes": [],
            "_model_module": "@jupyter-widgets/controls",
            "_model_module_version": "1.5.0",
            "_model_name": "HBoxModel",
            "_view_count": null,
            "_view_module": "@jupyter-widgets/controls",
            "_view_module_version": "1.5.0",
            "_view_name": "HBoxView",
            "box_style": "",
            "children": [
              "IPY_MODEL_38f211cb76aa4ed5a9976f58650b9518",
              "IPY_MODEL_48d666b4edd54720a0b4d393fee2ffa4",
              "IPY_MODEL_2fbd472f16924f4c95a117f235ad34bc"
            ],
            "layout": "IPY_MODEL_0f0a679b686849d5bdb41d36254ced5b"
          }
        },
        "38f211cb76aa4ed5a9976f58650b9518": {
          "model_module": "@jupyter-widgets/controls",
          "model_name": "HTMLModel",
          "model_module_version": "1.5.0",
          "state": {
            "_dom_classes": [],
            "_model_module": "@jupyter-widgets/controls",
            "_model_module_version": "1.5.0",
            "_model_name": "HTMLModel",
            "_view_count": null,
            "_view_module": "@jupyter-widgets/controls",
            "_view_module_version": "1.5.0",
            "_view_name": "HTMLView",
            "description": "",
            "description_tooltip": null,
            "layout": "IPY_MODEL_d6071c37e812480c9f23f30ae33f92f5",
            "placeholder": "​",
            "style": "IPY_MODEL_3e5ca74bffde4d1086bab4aa815429ba",
            "value": "Generating unsupervised split: 100%"
          }
        },
        "48d666b4edd54720a0b4d393fee2ffa4": {
          "model_module": "@jupyter-widgets/controls",
          "model_name": "FloatProgressModel",
          "model_module_version": "1.5.0",
          "state": {
            "_dom_classes": [],
            "_model_module": "@jupyter-widgets/controls",
            "_model_module_version": "1.5.0",
            "_model_name": "FloatProgressModel",
            "_view_count": null,
            "_view_module": "@jupyter-widgets/controls",
            "_view_module_version": "1.5.0",
            "_view_name": "ProgressView",
            "bar_style": "",
            "description": "",
            "description_tooltip": null,
            "layout": "IPY_MODEL_d9a4cb9db34845cd8932e442ec2170de",
            "max": 50000,
            "min": 0,
            "orientation": "horizontal",
            "style": "IPY_MODEL_5df9558659b7400cb773aaf9f9c71d86",
            "value": 50000
          }
        },
        "2fbd472f16924f4c95a117f235ad34bc": {
          "model_module": "@jupyter-widgets/controls",
          "model_name": "HTMLModel",
          "model_module_version": "1.5.0",
          "state": {
            "_dom_classes": [],
            "_model_module": "@jupyter-widgets/controls",
            "_model_module_version": "1.5.0",
            "_model_name": "HTMLModel",
            "_view_count": null,
            "_view_module": "@jupyter-widgets/controls",
            "_view_module_version": "1.5.0",
            "_view_name": "HTMLView",
            "description": "",
            "description_tooltip": null,
            "layout": "IPY_MODEL_2ae5deb99149477e8589f5db48362b77",
            "placeholder": "​",
            "style": "IPY_MODEL_199f7620223c45639e6e5dc101ad5344",
            "value": " 50000/50000 [00:20&lt;00:00, 10338.70 examples/s]"
          }
        },
        "0f0a679b686849d5bdb41d36254ced5b": {
          "model_module": "@jupyter-widgets/base",
          "model_name": "LayoutModel",
          "model_module_version": "1.2.0",
          "state": {
            "_model_module": "@jupyter-widgets/base",
            "_model_module_version": "1.2.0",
            "_model_name": "LayoutModel",
            "_view_count": null,
            "_view_module": "@jupyter-widgets/base",
            "_view_module_version": "1.2.0",
            "_view_name": "LayoutView",
            "align_content": null,
            "align_items": null,
            "align_self": null,
            "border": null,
            "bottom": null,
            "display": null,
            "flex": null,
            "flex_flow": null,
            "grid_area": null,
            "grid_auto_columns": null,
            "grid_auto_flow": null,
            "grid_auto_rows": null,
            "grid_column": null,
            "grid_gap": null,
            "grid_row": null,
            "grid_template_areas": null,
            "grid_template_columns": null,
            "grid_template_rows": null,
            "height": null,
            "justify_content": null,
            "justify_items": null,
            "left": null,
            "margin": null,
            "max_height": null,
            "max_width": null,
            "min_height": null,
            "min_width": null,
            "object_fit": null,
            "object_position": null,
            "order": null,
            "overflow": null,
            "overflow_x": null,
            "overflow_y": null,
            "padding": null,
            "right": null,
            "top": null,
            "visibility": "hidden",
            "width": null
          }
        },
        "d6071c37e812480c9f23f30ae33f92f5": {
          "model_module": "@jupyter-widgets/base",
          "model_name": "LayoutModel",
          "model_module_version": "1.2.0",
          "state": {
            "_model_module": "@jupyter-widgets/base",
            "_model_module_version": "1.2.0",
            "_model_name": "LayoutModel",
            "_view_count": null,
            "_view_module": "@jupyter-widgets/base",
            "_view_module_version": "1.2.0",
            "_view_name": "LayoutView",
            "align_content": null,
            "align_items": null,
            "align_self": null,
            "border": null,
            "bottom": null,
            "display": null,
            "flex": null,
            "flex_flow": null,
            "grid_area": null,
            "grid_auto_columns": null,
            "grid_auto_flow": null,
            "grid_auto_rows": null,
            "grid_column": null,
            "grid_gap": null,
            "grid_row": null,
            "grid_template_areas": null,
            "grid_template_columns": null,
            "grid_template_rows": null,
            "height": null,
            "justify_content": null,
            "justify_items": null,
            "left": null,
            "margin": null,
            "max_height": null,
            "max_width": null,
            "min_height": null,
            "min_width": null,
            "object_fit": null,
            "object_position": null,
            "order": null,
            "overflow": null,
            "overflow_x": null,
            "overflow_y": null,
            "padding": null,
            "right": null,
            "top": null,
            "visibility": null,
            "width": null
          }
        },
        "3e5ca74bffde4d1086bab4aa815429ba": {
          "model_module": "@jupyter-widgets/controls",
          "model_name": "DescriptionStyleModel",
          "model_module_version": "1.5.0",
          "state": {
            "_model_module": "@jupyter-widgets/controls",
            "_model_module_version": "1.5.0",
            "_model_name": "DescriptionStyleModel",
            "_view_count": null,
            "_view_module": "@jupyter-widgets/base",
            "_view_module_version": "1.2.0",
            "_view_name": "StyleView",
            "description_width": ""
          }
        },
        "d9a4cb9db34845cd8932e442ec2170de": {
          "model_module": "@jupyter-widgets/base",
          "model_name": "LayoutModel",
          "model_module_version": "1.2.0",
          "state": {
            "_model_module": "@jupyter-widgets/base",
            "_model_module_version": "1.2.0",
            "_model_name": "LayoutModel",
            "_view_count": null,
            "_view_module": "@jupyter-widgets/base",
            "_view_module_version": "1.2.0",
            "_view_name": "LayoutView",
            "align_content": null,
            "align_items": null,
            "align_self": null,
            "border": null,
            "bottom": null,
            "display": null,
            "flex": null,
            "flex_flow": null,
            "grid_area": null,
            "grid_auto_columns": null,
            "grid_auto_flow": null,
            "grid_auto_rows": null,
            "grid_column": null,
            "grid_gap": null,
            "grid_row": null,
            "grid_template_areas": null,
            "grid_template_columns": null,
            "grid_template_rows": null,
            "height": null,
            "justify_content": null,
            "justify_items": null,
            "left": null,
            "margin": null,
            "max_height": null,
            "max_width": null,
            "min_height": null,
            "min_width": null,
            "object_fit": null,
            "object_position": null,
            "order": null,
            "overflow": null,
            "overflow_x": null,
            "overflow_y": null,
            "padding": null,
            "right": null,
            "top": null,
            "visibility": null,
            "width": null
          }
        },
        "5df9558659b7400cb773aaf9f9c71d86": {
          "model_module": "@jupyter-widgets/controls",
          "model_name": "ProgressStyleModel",
          "model_module_version": "1.5.0",
          "state": {
            "_model_module": "@jupyter-widgets/controls",
            "_model_module_version": "1.5.0",
            "_model_name": "ProgressStyleModel",
            "_view_count": null,
            "_view_module": "@jupyter-widgets/base",
            "_view_module_version": "1.2.0",
            "_view_name": "StyleView",
            "bar_color": null,
            "description_width": ""
          }
        },
        "2ae5deb99149477e8589f5db48362b77": {
          "model_module": "@jupyter-widgets/base",
          "model_name": "LayoutModel",
          "model_module_version": "1.2.0",
          "state": {
            "_model_module": "@jupyter-widgets/base",
            "_model_module_version": "1.2.0",
            "_model_name": "LayoutModel",
            "_view_count": null,
            "_view_module": "@jupyter-widgets/base",
            "_view_module_version": "1.2.0",
            "_view_name": "LayoutView",
            "align_content": null,
            "align_items": null,
            "align_self": null,
            "border": null,
            "bottom": null,
            "display": null,
            "flex": null,
            "flex_flow": null,
            "grid_area": null,
            "grid_auto_columns": null,
            "grid_auto_flow": null,
            "grid_auto_rows": null,
            "grid_column": null,
            "grid_gap": null,
            "grid_row": null,
            "grid_template_areas": null,
            "grid_template_columns": null,
            "grid_template_rows": null,
            "height": null,
            "justify_content": null,
            "justify_items": null,
            "left": null,
            "margin": null,
            "max_height": null,
            "max_width": null,
            "min_height": null,
            "min_width": null,
            "object_fit": null,
            "object_position": null,
            "order": null,
            "overflow": null,
            "overflow_x": null,
            "overflow_y": null,
            "padding": null,
            "right": null,
            "top": null,
            "visibility": null,
            "width": null
          }
        },
        "199f7620223c45639e6e5dc101ad5344": {
          "model_module": "@jupyter-widgets/controls",
          "model_name": "DescriptionStyleModel",
          "model_module_version": "1.5.0",
          "state": {
            "_model_module": "@jupyter-widgets/controls",
            "_model_module_version": "1.5.0",
            "_model_name": "DescriptionStyleModel",
            "_view_count": null,
            "_view_module": "@jupyter-widgets/base",
            "_view_module_version": "1.2.0",
            "_view_name": "StyleView",
            "description_width": ""
          }
        },
        "e126f1dabec445cb874f754b1896d9da": {
          "model_module": "@jupyter-widgets/controls",
          "model_name": "HBoxModel",
          "model_module_version": "1.5.0",
          "state": {
            "_dom_classes": [],
            "_model_module": "@jupyter-widgets/controls",
            "_model_module_version": "1.5.0",
            "_model_name": "HBoxModel",
            "_view_count": null,
            "_view_module": "@jupyter-widgets/controls",
            "_view_module_version": "1.5.0",
            "_view_name": "HBoxView",
            "box_style": "",
            "children": [
              "IPY_MODEL_523a1e77e6e2439ea30f546a0a50da1d",
              "IPY_MODEL_3191c456a79c45539e8389d6a93ce529",
              "IPY_MODEL_9831eaa201c94e88b219a1d357e0216b"
            ],
            "layout": "IPY_MODEL_efdf7191895643f7a73065911a60d884"
          }
        },
        "523a1e77e6e2439ea30f546a0a50da1d": {
          "model_module": "@jupyter-widgets/controls",
          "model_name": "HTMLModel",
          "model_module_version": "1.5.0",
          "state": {
            "_dom_classes": [],
            "_model_module": "@jupyter-widgets/controls",
            "_model_module_version": "1.5.0",
            "_model_name": "HTMLModel",
            "_view_count": null,
            "_view_module": "@jupyter-widgets/controls",
            "_view_module_version": "1.5.0",
            "_view_name": "HTMLView",
            "description": "",
            "description_tooltip": null,
            "layout": "IPY_MODEL_2e6f73c93d2441f398e9930fe58e4b85",
            "placeholder": "​",
            "style": "IPY_MODEL_5207590d79794ccb8821768a61df6d51",
            "value": "100%"
          }
        },
        "3191c456a79c45539e8389d6a93ce529": {
          "model_module": "@jupyter-widgets/controls",
          "model_name": "FloatProgressModel",
          "model_module_version": "1.5.0",
          "state": {
            "_dom_classes": [],
            "_model_module": "@jupyter-widgets/controls",
            "_model_module_version": "1.5.0",
            "_model_name": "FloatProgressModel",
            "_view_count": null,
            "_view_module": "@jupyter-widgets/controls",
            "_view_module_version": "1.5.0",
            "_view_name": "ProgressView",
            "bar_style": "success",
            "description": "",
            "description_tooltip": null,
            "layout": "IPY_MODEL_9c9f8cdb20ce4cd58aad345c89844b82",
            "max": 3,
            "min": 0,
            "orientation": "horizontal",
            "style": "IPY_MODEL_65eced3ec8e54b73b8fabb136f315c3d",
            "value": 3
          }
        },
        "9831eaa201c94e88b219a1d357e0216b": {
          "model_module": "@jupyter-widgets/controls",
          "model_name": "HTMLModel",
          "model_module_version": "1.5.0",
          "state": {
            "_dom_classes": [],
            "_model_module": "@jupyter-widgets/controls",
            "_model_module_version": "1.5.0",
            "_model_name": "HTMLModel",
            "_view_count": null,
            "_view_module": "@jupyter-widgets/controls",
            "_view_module_version": "1.5.0",
            "_view_name": "HTMLView",
            "description": "",
            "description_tooltip": null,
            "layout": "IPY_MODEL_c6efc593ab6740458d45f880fdb94d6e",
            "placeholder": "​",
            "style": "IPY_MODEL_3d4faab6c4134acba6c711650789793f",
            "value": " 3/3 [00:00&lt;00:00, 97.04it/s]"
          }
        },
        "efdf7191895643f7a73065911a60d884": {
          "model_module": "@jupyter-widgets/base",
          "model_name": "LayoutModel",
          "model_module_version": "1.2.0",
          "state": {
            "_model_module": "@jupyter-widgets/base",
            "_model_module_version": "1.2.0",
            "_model_name": "LayoutModel",
            "_view_count": null,
            "_view_module": "@jupyter-widgets/base",
            "_view_module_version": "1.2.0",
            "_view_name": "LayoutView",
            "align_content": null,
            "align_items": null,
            "align_self": null,
            "border": null,
            "bottom": null,
            "display": null,
            "flex": null,
            "flex_flow": null,
            "grid_area": null,
            "grid_auto_columns": null,
            "grid_auto_flow": null,
            "grid_auto_rows": null,
            "grid_column": null,
            "grid_gap": null,
            "grid_row": null,
            "grid_template_areas": null,
            "grid_template_columns": null,
            "grid_template_rows": null,
            "height": null,
            "justify_content": null,
            "justify_items": null,
            "left": null,
            "margin": null,
            "max_height": null,
            "max_width": null,
            "min_height": null,
            "min_width": null,
            "object_fit": null,
            "object_position": null,
            "order": null,
            "overflow": null,
            "overflow_x": null,
            "overflow_y": null,
            "padding": null,
            "right": null,
            "top": null,
            "visibility": null,
            "width": null
          }
        },
        "2e6f73c93d2441f398e9930fe58e4b85": {
          "model_module": "@jupyter-widgets/base",
          "model_name": "LayoutModel",
          "model_module_version": "1.2.0",
          "state": {
            "_model_module": "@jupyter-widgets/base",
            "_model_module_version": "1.2.0",
            "_model_name": "LayoutModel",
            "_view_count": null,
            "_view_module": "@jupyter-widgets/base",
            "_view_module_version": "1.2.0",
            "_view_name": "LayoutView",
            "align_content": null,
            "align_items": null,
            "align_self": null,
            "border": null,
            "bottom": null,
            "display": null,
            "flex": null,
            "flex_flow": null,
            "grid_area": null,
            "grid_auto_columns": null,
            "grid_auto_flow": null,
            "grid_auto_rows": null,
            "grid_column": null,
            "grid_gap": null,
            "grid_row": null,
            "grid_template_areas": null,
            "grid_template_columns": null,
            "grid_template_rows": null,
            "height": null,
            "justify_content": null,
            "justify_items": null,
            "left": null,
            "margin": null,
            "max_height": null,
            "max_width": null,
            "min_height": null,
            "min_width": null,
            "object_fit": null,
            "object_position": null,
            "order": null,
            "overflow": null,
            "overflow_x": null,
            "overflow_y": null,
            "padding": null,
            "right": null,
            "top": null,
            "visibility": null,
            "width": null
          }
        },
        "5207590d79794ccb8821768a61df6d51": {
          "model_module": "@jupyter-widgets/controls",
          "model_name": "DescriptionStyleModel",
          "model_module_version": "1.5.0",
          "state": {
            "_model_module": "@jupyter-widgets/controls",
            "_model_module_version": "1.5.0",
            "_model_name": "DescriptionStyleModel",
            "_view_count": null,
            "_view_module": "@jupyter-widgets/base",
            "_view_module_version": "1.2.0",
            "_view_name": "StyleView",
            "description_width": ""
          }
        },
        "9c9f8cdb20ce4cd58aad345c89844b82": {
          "model_module": "@jupyter-widgets/base",
          "model_name": "LayoutModel",
          "model_module_version": "1.2.0",
          "state": {
            "_model_module": "@jupyter-widgets/base",
            "_model_module_version": "1.2.0",
            "_model_name": "LayoutModel",
            "_view_count": null,
            "_view_module": "@jupyter-widgets/base",
            "_view_module_version": "1.2.0",
            "_view_name": "LayoutView",
            "align_content": null,
            "align_items": null,
            "align_self": null,
            "border": null,
            "bottom": null,
            "display": null,
            "flex": null,
            "flex_flow": null,
            "grid_area": null,
            "grid_auto_columns": null,
            "grid_auto_flow": null,
            "grid_auto_rows": null,
            "grid_column": null,
            "grid_gap": null,
            "grid_row": null,
            "grid_template_areas": null,
            "grid_template_columns": null,
            "grid_template_rows": null,
            "height": null,
            "justify_content": null,
            "justify_items": null,
            "left": null,
            "margin": null,
            "max_height": null,
            "max_width": null,
            "min_height": null,
            "min_width": null,
            "object_fit": null,
            "object_position": null,
            "order": null,
            "overflow": null,
            "overflow_x": null,
            "overflow_y": null,
            "padding": null,
            "right": null,
            "top": null,
            "visibility": null,
            "width": null
          }
        },
        "65eced3ec8e54b73b8fabb136f315c3d": {
          "model_module": "@jupyter-widgets/controls",
          "model_name": "ProgressStyleModel",
          "model_module_version": "1.5.0",
          "state": {
            "_model_module": "@jupyter-widgets/controls",
            "_model_module_version": "1.5.0",
            "_model_name": "ProgressStyleModel",
            "_view_count": null,
            "_view_module": "@jupyter-widgets/base",
            "_view_module_version": "1.2.0",
            "_view_name": "StyleView",
            "bar_color": null,
            "description_width": ""
          }
        },
        "c6efc593ab6740458d45f880fdb94d6e": {
          "model_module": "@jupyter-widgets/base",
          "model_name": "LayoutModel",
          "model_module_version": "1.2.0",
          "state": {
            "_model_module": "@jupyter-widgets/base",
            "_model_module_version": "1.2.0",
            "_model_name": "LayoutModel",
            "_view_count": null,
            "_view_module": "@jupyter-widgets/base",
            "_view_module_version": "1.2.0",
            "_view_name": "LayoutView",
            "align_content": null,
            "align_items": null,
            "align_self": null,
            "border": null,
            "bottom": null,
            "display": null,
            "flex": null,
            "flex_flow": null,
            "grid_area": null,
            "grid_auto_columns": null,
            "grid_auto_flow": null,
            "grid_auto_rows": null,
            "grid_column": null,
            "grid_gap": null,
            "grid_row": null,
            "grid_template_areas": null,
            "grid_template_columns": null,
            "grid_template_rows": null,
            "height": null,
            "justify_content": null,
            "justify_items": null,
            "left": null,
            "margin": null,
            "max_height": null,
            "max_width": null,
            "min_height": null,
            "min_width": null,
            "object_fit": null,
            "object_position": null,
            "order": null,
            "overflow": null,
            "overflow_x": null,
            "overflow_y": null,
            "padding": null,
            "right": null,
            "top": null,
            "visibility": null,
            "width": null
          }
        },
        "3d4faab6c4134acba6c711650789793f": {
          "model_module": "@jupyter-widgets/controls",
          "model_name": "DescriptionStyleModel",
          "model_module_version": "1.5.0",
          "state": {
            "_model_module": "@jupyter-widgets/controls",
            "_model_module_version": "1.5.0",
            "_model_name": "DescriptionStyleModel",
            "_view_count": null,
            "_view_module": "@jupyter-widgets/base",
            "_view_module_version": "1.2.0",
            "_view_name": "StyleView",
            "description_width": ""
          }
        },
        "1145981b1a8c476eb4fa8cbc7b0f7957": {
          "model_module": "@jupyter-widgets/controls",
          "model_name": "HBoxModel",
          "model_module_version": "1.5.0",
          "state": {
            "_dom_classes": [],
            "_model_module": "@jupyter-widgets/controls",
            "_model_module_version": "1.5.0",
            "_model_name": "HBoxModel",
            "_view_count": null,
            "_view_module": "@jupyter-widgets/controls",
            "_view_module_version": "1.5.0",
            "_view_name": "HBoxView",
            "box_style": "",
            "children": [
              "IPY_MODEL_c72615901aa8406cb32b8502416580c9",
              "IPY_MODEL_125646d843544ed0944de78e6b2a4fe4",
              "IPY_MODEL_e16e76cf4103434fbb7ba3572480af36"
            ],
            "layout": "IPY_MODEL_d09558372f2246768e90e84d38aa8a5a"
          }
        },
        "c72615901aa8406cb32b8502416580c9": {
          "model_module": "@jupyter-widgets/controls",
          "model_name": "HTMLModel",
          "model_module_version": "1.5.0",
          "state": {
            "_dom_classes": [],
            "_model_module": "@jupyter-widgets/controls",
            "_model_module_version": "1.5.0",
            "_model_name": "HTMLModel",
            "_view_count": null,
            "_view_module": "@jupyter-widgets/controls",
            "_view_module_version": "1.5.0",
            "_view_name": "HTMLView",
            "description": "",
            "description_tooltip": null,
            "layout": "IPY_MODEL_7f4f10889ff84315b4fae71ac80b0a33",
            "placeholder": "​",
            "style": "IPY_MODEL_0caec8739b874eaf8f7cbca4833d8d46",
            "value": "100%"
          }
        },
        "125646d843544ed0944de78e6b2a4fe4": {
          "model_module": "@jupyter-widgets/controls",
          "model_name": "FloatProgressModel",
          "model_module_version": "1.5.0",
          "state": {
            "_dom_classes": [],
            "_model_module": "@jupyter-widgets/controls",
            "_model_module_version": "1.5.0",
            "_model_name": "FloatProgressModel",
            "_view_count": null,
            "_view_module": "@jupyter-widgets/controls",
            "_view_module_version": "1.5.0",
            "_view_name": "ProgressView",
            "bar_style": "success",
            "description": "",
            "description_tooltip": null,
            "layout": "IPY_MODEL_1fac3735f2154d06934dde5cf6bc070d",
            "max": 12500,
            "min": 0,
            "orientation": "horizontal",
            "style": "IPY_MODEL_b23dd761f8534cab9fcd2e2ce13e2e9e",
            "value": 12500
          }
        },
        "e16e76cf4103434fbb7ba3572480af36": {
          "model_module": "@jupyter-widgets/controls",
          "model_name": "HTMLModel",
          "model_module_version": "1.5.0",
          "state": {
            "_dom_classes": [],
            "_model_module": "@jupyter-widgets/controls",
            "_model_module_version": "1.5.0",
            "_model_name": "HTMLModel",
            "_view_count": null,
            "_view_module": "@jupyter-widgets/controls",
            "_view_module_version": "1.5.0",
            "_view_name": "HTMLView",
            "description": "",
            "description_tooltip": null,
            "layout": "IPY_MODEL_19e3dfab08c54af0a9111c4498c255d7",
            "placeholder": "​",
            "style": "IPY_MODEL_15b4032e0c6a481a8ce018615bfae457",
            "value": " 12500/12500 [00:00&lt;00:00, 22017.23it/s]"
          }
        },
        "d09558372f2246768e90e84d38aa8a5a": {
          "model_module": "@jupyter-widgets/base",
          "model_name": "LayoutModel",
          "model_module_version": "1.2.0",
          "state": {
            "_model_module": "@jupyter-widgets/base",
            "_model_module_version": "1.2.0",
            "_model_name": "LayoutModel",
            "_view_count": null,
            "_view_module": "@jupyter-widgets/base",
            "_view_module_version": "1.2.0",
            "_view_name": "LayoutView",
            "align_content": null,
            "align_items": null,
            "align_self": null,
            "border": null,
            "bottom": null,
            "display": null,
            "flex": null,
            "flex_flow": null,
            "grid_area": null,
            "grid_auto_columns": null,
            "grid_auto_flow": null,
            "grid_auto_rows": null,
            "grid_column": null,
            "grid_gap": null,
            "grid_row": null,
            "grid_template_areas": null,
            "grid_template_columns": null,
            "grid_template_rows": null,
            "height": null,
            "justify_content": null,
            "justify_items": null,
            "left": null,
            "margin": null,
            "max_height": null,
            "max_width": null,
            "min_height": null,
            "min_width": null,
            "object_fit": null,
            "object_position": null,
            "order": null,
            "overflow": null,
            "overflow_x": null,
            "overflow_y": null,
            "padding": null,
            "right": null,
            "top": null,
            "visibility": null,
            "width": null
          }
        },
        "7f4f10889ff84315b4fae71ac80b0a33": {
          "model_module": "@jupyter-widgets/base",
          "model_name": "LayoutModel",
          "model_module_version": "1.2.0",
          "state": {
            "_model_module": "@jupyter-widgets/base",
            "_model_module_version": "1.2.0",
            "_model_name": "LayoutModel",
            "_view_count": null,
            "_view_module": "@jupyter-widgets/base",
            "_view_module_version": "1.2.0",
            "_view_name": "LayoutView",
            "align_content": null,
            "align_items": null,
            "align_self": null,
            "border": null,
            "bottom": null,
            "display": null,
            "flex": null,
            "flex_flow": null,
            "grid_area": null,
            "grid_auto_columns": null,
            "grid_auto_flow": null,
            "grid_auto_rows": null,
            "grid_column": null,
            "grid_gap": null,
            "grid_row": null,
            "grid_template_areas": null,
            "grid_template_columns": null,
            "grid_template_rows": null,
            "height": null,
            "justify_content": null,
            "justify_items": null,
            "left": null,
            "margin": null,
            "max_height": null,
            "max_width": null,
            "min_height": null,
            "min_width": null,
            "object_fit": null,
            "object_position": null,
            "order": null,
            "overflow": null,
            "overflow_x": null,
            "overflow_y": null,
            "padding": null,
            "right": null,
            "top": null,
            "visibility": null,
            "width": null
          }
        },
        "0caec8739b874eaf8f7cbca4833d8d46": {
          "model_module": "@jupyter-widgets/controls",
          "model_name": "DescriptionStyleModel",
          "model_module_version": "1.5.0",
          "state": {
            "_model_module": "@jupyter-widgets/controls",
            "_model_module_version": "1.5.0",
            "_model_name": "DescriptionStyleModel",
            "_view_count": null,
            "_view_module": "@jupyter-widgets/base",
            "_view_module_version": "1.2.0",
            "_view_name": "StyleView",
            "description_width": ""
          }
        },
        "1fac3735f2154d06934dde5cf6bc070d": {
          "model_module": "@jupyter-widgets/base",
          "model_name": "LayoutModel",
          "model_module_version": "1.2.0",
          "state": {
            "_model_module": "@jupyter-widgets/base",
            "_model_module_version": "1.2.0",
            "_model_name": "LayoutModel",
            "_view_count": null,
            "_view_module": "@jupyter-widgets/base",
            "_view_module_version": "1.2.0",
            "_view_name": "LayoutView",
            "align_content": null,
            "align_items": null,
            "align_self": null,
            "border": null,
            "bottom": null,
            "display": null,
            "flex": null,
            "flex_flow": null,
            "grid_area": null,
            "grid_auto_columns": null,
            "grid_auto_flow": null,
            "grid_auto_rows": null,
            "grid_column": null,
            "grid_gap": null,
            "grid_row": null,
            "grid_template_areas": null,
            "grid_template_columns": null,
            "grid_template_rows": null,
            "height": null,
            "justify_content": null,
            "justify_items": null,
            "left": null,
            "margin": null,
            "max_height": null,
            "max_width": null,
            "min_height": null,
            "min_width": null,
            "object_fit": null,
            "object_position": null,
            "order": null,
            "overflow": null,
            "overflow_x": null,
            "overflow_y": null,
            "padding": null,
            "right": null,
            "top": null,
            "visibility": null,
            "width": null
          }
        },
        "b23dd761f8534cab9fcd2e2ce13e2e9e": {
          "model_module": "@jupyter-widgets/controls",
          "model_name": "ProgressStyleModel",
          "model_module_version": "1.5.0",
          "state": {
            "_model_module": "@jupyter-widgets/controls",
            "_model_module_version": "1.5.0",
            "_model_name": "ProgressStyleModel",
            "_view_count": null,
            "_view_module": "@jupyter-widgets/base",
            "_view_module_version": "1.2.0",
            "_view_name": "StyleView",
            "bar_color": null,
            "description_width": ""
          }
        },
        "19e3dfab08c54af0a9111c4498c255d7": {
          "model_module": "@jupyter-widgets/base",
          "model_name": "LayoutModel",
          "model_module_version": "1.2.0",
          "state": {
            "_model_module": "@jupyter-widgets/base",
            "_model_module_version": "1.2.0",
            "_model_name": "LayoutModel",
            "_view_count": null,
            "_view_module": "@jupyter-widgets/base",
            "_view_module_version": "1.2.0",
            "_view_name": "LayoutView",
            "align_content": null,
            "align_items": null,
            "align_self": null,
            "border": null,
            "bottom": null,
            "display": null,
            "flex": null,
            "flex_flow": null,
            "grid_area": null,
            "grid_auto_columns": null,
            "grid_auto_flow": null,
            "grid_auto_rows": null,
            "grid_column": null,
            "grid_gap": null,
            "grid_row": null,
            "grid_template_areas": null,
            "grid_template_columns": null,
            "grid_template_rows": null,
            "height": null,
            "justify_content": null,
            "justify_items": null,
            "left": null,
            "margin": null,
            "max_height": null,
            "max_width": null,
            "min_height": null,
            "min_width": null,
            "object_fit": null,
            "object_position": null,
            "order": null,
            "overflow": null,
            "overflow_x": null,
            "overflow_y": null,
            "padding": null,
            "right": null,
            "top": null,
            "visibility": null,
            "width": null
          }
        },
        "15b4032e0c6a481a8ce018615bfae457": {
          "model_module": "@jupyter-widgets/controls",
          "model_name": "DescriptionStyleModel",
          "model_module_version": "1.5.0",
          "state": {
            "_model_module": "@jupyter-widgets/controls",
            "_model_module_version": "1.5.0",
            "_model_name": "DescriptionStyleModel",
            "_view_count": null,
            "_view_module": "@jupyter-widgets/base",
            "_view_module_version": "1.2.0",
            "_view_name": "StyleView",
            "description_width": ""
          }
        },
        "9397bef2dfc84caba9fbd95a2f98b8e1": {
          "model_module": "@jupyter-widgets/controls",
          "model_name": "HBoxModel",
          "model_module_version": "1.5.0",
          "state": {
            "_dom_classes": [],
            "_model_module": "@jupyter-widgets/controls",
            "_model_module_version": "1.5.0",
            "_model_name": "HBoxModel",
            "_view_count": null,
            "_view_module": "@jupyter-widgets/controls",
            "_view_module_version": "1.5.0",
            "_view_name": "HBoxView",
            "box_style": "",
            "children": [
              "IPY_MODEL_63099c44cf434e91a13d842e0b41dea4",
              "IPY_MODEL_102bf845683545fdb96841699fdfe93d",
              "IPY_MODEL_5e07efe211f541dd842ced87802a581b"
            ],
            "layout": "IPY_MODEL_54e94e503f824c988dd694e95fd68f1d"
          }
        },
        "63099c44cf434e91a13d842e0b41dea4": {
          "model_module": "@jupyter-widgets/controls",
          "model_name": "HTMLModel",
          "model_module_version": "1.5.0",
          "state": {
            "_dom_classes": [],
            "_model_module": "@jupyter-widgets/controls",
            "_model_module_version": "1.5.0",
            "_model_name": "HTMLModel",
            "_view_count": null,
            "_view_module": "@jupyter-widgets/controls",
            "_view_module_version": "1.5.0",
            "_view_name": "HTMLView",
            "description": "",
            "description_tooltip": null,
            "layout": "IPY_MODEL_9578893be8fe48d391f28b55f94e5191",
            "placeholder": "​",
            "style": "IPY_MODEL_c5998bbafdc84936af6f62bfdc063285",
            "value": "100%"
          }
        },
        "102bf845683545fdb96841699fdfe93d": {
          "model_module": "@jupyter-widgets/controls",
          "model_name": "FloatProgressModel",
          "model_module_version": "1.5.0",
          "state": {
            "_dom_classes": [],
            "_model_module": "@jupyter-widgets/controls",
            "_model_module_version": "1.5.0",
            "_model_name": "FloatProgressModel",
            "_view_count": null,
            "_view_module": "@jupyter-widgets/controls",
            "_view_module_version": "1.5.0",
            "_view_name": "ProgressView",
            "bar_style": "success",
            "description": "",
            "description_tooltip": null,
            "layout": "IPY_MODEL_17781d50e3254dfd8e7b6ddbb3ccc4fe",
            "max": 12500,
            "min": 0,
            "orientation": "horizontal",
            "style": "IPY_MODEL_0b266e1816994afea4374ae7529a4749",
            "value": 12500
          }
        },
        "5e07efe211f541dd842ced87802a581b": {
          "model_module": "@jupyter-widgets/controls",
          "model_name": "HTMLModel",
          "model_module_version": "1.5.0",
          "state": {
            "_dom_classes": [],
            "_model_module": "@jupyter-widgets/controls",
            "_model_module_version": "1.5.0",
            "_model_name": "HTMLModel",
            "_view_count": null,
            "_view_module": "@jupyter-widgets/controls",
            "_view_module_version": "1.5.0",
            "_view_name": "HTMLView",
            "description": "",
            "description_tooltip": null,
            "layout": "IPY_MODEL_3a5b699c579649278a17db56feefb404",
            "placeholder": "​",
            "style": "IPY_MODEL_dfb66fc7432a482ebce4d740ac27c7cc",
            "value": " 12500/12500 [00:00&lt;00:00, 19276.68it/s]"
          }
        },
        "54e94e503f824c988dd694e95fd68f1d": {
          "model_module": "@jupyter-widgets/base",
          "model_name": "LayoutModel",
          "model_module_version": "1.2.0",
          "state": {
            "_model_module": "@jupyter-widgets/base",
            "_model_module_version": "1.2.0",
            "_model_name": "LayoutModel",
            "_view_count": null,
            "_view_module": "@jupyter-widgets/base",
            "_view_module_version": "1.2.0",
            "_view_name": "LayoutView",
            "align_content": null,
            "align_items": null,
            "align_self": null,
            "border": null,
            "bottom": null,
            "display": null,
            "flex": null,
            "flex_flow": null,
            "grid_area": null,
            "grid_auto_columns": null,
            "grid_auto_flow": null,
            "grid_auto_rows": null,
            "grid_column": null,
            "grid_gap": null,
            "grid_row": null,
            "grid_template_areas": null,
            "grid_template_columns": null,
            "grid_template_rows": null,
            "height": null,
            "justify_content": null,
            "justify_items": null,
            "left": null,
            "margin": null,
            "max_height": null,
            "max_width": null,
            "min_height": null,
            "min_width": null,
            "object_fit": null,
            "object_position": null,
            "order": null,
            "overflow": null,
            "overflow_x": null,
            "overflow_y": null,
            "padding": null,
            "right": null,
            "top": null,
            "visibility": null,
            "width": null
          }
        },
        "9578893be8fe48d391f28b55f94e5191": {
          "model_module": "@jupyter-widgets/base",
          "model_name": "LayoutModel",
          "model_module_version": "1.2.0",
          "state": {
            "_model_module": "@jupyter-widgets/base",
            "_model_module_version": "1.2.0",
            "_model_name": "LayoutModel",
            "_view_count": null,
            "_view_module": "@jupyter-widgets/base",
            "_view_module_version": "1.2.0",
            "_view_name": "LayoutView",
            "align_content": null,
            "align_items": null,
            "align_self": null,
            "border": null,
            "bottom": null,
            "display": null,
            "flex": null,
            "flex_flow": null,
            "grid_area": null,
            "grid_auto_columns": null,
            "grid_auto_flow": null,
            "grid_auto_rows": null,
            "grid_column": null,
            "grid_gap": null,
            "grid_row": null,
            "grid_template_areas": null,
            "grid_template_columns": null,
            "grid_template_rows": null,
            "height": null,
            "justify_content": null,
            "justify_items": null,
            "left": null,
            "margin": null,
            "max_height": null,
            "max_width": null,
            "min_height": null,
            "min_width": null,
            "object_fit": null,
            "object_position": null,
            "order": null,
            "overflow": null,
            "overflow_x": null,
            "overflow_y": null,
            "padding": null,
            "right": null,
            "top": null,
            "visibility": null,
            "width": null
          }
        },
        "c5998bbafdc84936af6f62bfdc063285": {
          "model_module": "@jupyter-widgets/controls",
          "model_name": "DescriptionStyleModel",
          "model_module_version": "1.5.0",
          "state": {
            "_model_module": "@jupyter-widgets/controls",
            "_model_module_version": "1.5.0",
            "_model_name": "DescriptionStyleModel",
            "_view_count": null,
            "_view_module": "@jupyter-widgets/base",
            "_view_module_version": "1.2.0",
            "_view_name": "StyleView",
            "description_width": ""
          }
        },
        "17781d50e3254dfd8e7b6ddbb3ccc4fe": {
          "model_module": "@jupyter-widgets/base",
          "model_name": "LayoutModel",
          "model_module_version": "1.2.0",
          "state": {
            "_model_module": "@jupyter-widgets/base",
            "_model_module_version": "1.2.0",
            "_model_name": "LayoutModel",
            "_view_count": null,
            "_view_module": "@jupyter-widgets/base",
            "_view_module_version": "1.2.0",
            "_view_name": "LayoutView",
            "align_content": null,
            "align_items": null,
            "align_self": null,
            "border": null,
            "bottom": null,
            "display": null,
            "flex": null,
            "flex_flow": null,
            "grid_area": null,
            "grid_auto_columns": null,
            "grid_auto_flow": null,
            "grid_auto_rows": null,
            "grid_column": null,
            "grid_gap": null,
            "grid_row": null,
            "grid_template_areas": null,
            "grid_template_columns": null,
            "grid_template_rows": null,
            "height": null,
            "justify_content": null,
            "justify_items": null,
            "left": null,
            "margin": null,
            "max_height": null,
            "max_width": null,
            "min_height": null,
            "min_width": null,
            "object_fit": null,
            "object_position": null,
            "order": null,
            "overflow": null,
            "overflow_x": null,
            "overflow_y": null,
            "padding": null,
            "right": null,
            "top": null,
            "visibility": null,
            "width": null
          }
        },
        "0b266e1816994afea4374ae7529a4749": {
          "model_module": "@jupyter-widgets/controls",
          "model_name": "ProgressStyleModel",
          "model_module_version": "1.5.0",
          "state": {
            "_model_module": "@jupyter-widgets/controls",
            "_model_module_version": "1.5.0",
            "_model_name": "ProgressStyleModel",
            "_view_count": null,
            "_view_module": "@jupyter-widgets/base",
            "_view_module_version": "1.2.0",
            "_view_name": "StyleView",
            "bar_color": null,
            "description_width": ""
          }
        },
        "3a5b699c579649278a17db56feefb404": {
          "model_module": "@jupyter-widgets/base",
          "model_name": "LayoutModel",
          "model_module_version": "1.2.0",
          "state": {
            "_model_module": "@jupyter-widgets/base",
            "_model_module_version": "1.2.0",
            "_model_name": "LayoutModel",
            "_view_count": null,
            "_view_module": "@jupyter-widgets/base",
            "_view_module_version": "1.2.0",
            "_view_name": "LayoutView",
            "align_content": null,
            "align_items": null,
            "align_self": null,
            "border": null,
            "bottom": null,
            "display": null,
            "flex": null,
            "flex_flow": null,
            "grid_area": null,
            "grid_auto_columns": null,
            "grid_auto_flow": null,
            "grid_auto_rows": null,
            "grid_column": null,
            "grid_gap": null,
            "grid_row": null,
            "grid_template_areas": null,
            "grid_template_columns": null,
            "grid_template_rows": null,
            "height": null,
            "justify_content": null,
            "justify_items": null,
            "left": null,
            "margin": null,
            "max_height": null,
            "max_width": null,
            "min_height": null,
            "min_width": null,
            "object_fit": null,
            "object_position": null,
            "order": null,
            "overflow": null,
            "overflow_x": null,
            "overflow_y": null,
            "padding": null,
            "right": null,
            "top": null,
            "visibility": null,
            "width": null
          }
        },
        "dfb66fc7432a482ebce4d740ac27c7cc": {
          "model_module": "@jupyter-widgets/controls",
          "model_name": "DescriptionStyleModel",
          "model_module_version": "1.5.0",
          "state": {
            "_model_module": "@jupyter-widgets/controls",
            "_model_module_version": "1.5.0",
            "_model_name": "DescriptionStyleModel",
            "_view_count": null,
            "_view_module": "@jupyter-widgets/base",
            "_view_module_version": "1.2.0",
            "_view_name": "StyleView",
            "description_width": ""
          }
        },
        "4a85d09d5489418c9d3f3773100372c0": {
          "model_module": "@jupyter-widgets/controls",
          "model_name": "HBoxModel",
          "model_module_version": "1.5.0",
          "state": {
            "_dom_classes": [],
            "_model_module": "@jupyter-widgets/controls",
            "_model_module_version": "1.5.0",
            "_model_name": "HBoxModel",
            "_view_count": null,
            "_view_module": "@jupyter-widgets/controls",
            "_view_module_version": "1.5.0",
            "_view_name": "HBoxView",
            "box_style": "",
            "children": [
              "IPY_MODEL_32a127a53bbf462a9c525bed1b63f6fc",
              "IPY_MODEL_a66a13fdcff6420eae5c789ca391ea77",
              "IPY_MODEL_10bd2c59e6ca42a3829cec51dcd43db6"
            ],
            "layout": "IPY_MODEL_d196923d4cf24a40aeee2aec12402a78"
          }
        },
        "32a127a53bbf462a9c525bed1b63f6fc": {
          "model_module": "@jupyter-widgets/controls",
          "model_name": "HTMLModel",
          "model_module_version": "1.5.0",
          "state": {
            "_dom_classes": [],
            "_model_module": "@jupyter-widgets/controls",
            "_model_module_version": "1.5.0",
            "_model_name": "HTMLModel",
            "_view_count": null,
            "_view_module": "@jupyter-widgets/controls",
            "_view_module_version": "1.5.0",
            "_view_name": "HTMLView",
            "description": "",
            "description_tooltip": null,
            "layout": "IPY_MODEL_35c0a5afc6e141ab8c08fa595b33f771",
            "placeholder": "​",
            "style": "IPY_MODEL_7222ea784df04de3a6cc7eeec81ea50f",
            "value": "100%"
          }
        },
        "a66a13fdcff6420eae5c789ca391ea77": {
          "model_module": "@jupyter-widgets/controls",
          "model_name": "FloatProgressModel",
          "model_module_version": "1.5.0",
          "state": {
            "_dom_classes": [],
            "_model_module": "@jupyter-widgets/controls",
            "_model_module_version": "1.5.0",
            "_model_name": "FloatProgressModel",
            "_view_count": null,
            "_view_module": "@jupyter-widgets/controls",
            "_view_module_version": "1.5.0",
            "_view_name": "ProgressView",
            "bar_style": "success",
            "description": "",
            "description_tooltip": null,
            "layout": "IPY_MODEL_1f49790bc6c54f7294258ddca8897a86",
            "max": 313,
            "min": 0,
            "orientation": "horizontal",
            "style": "IPY_MODEL_802c640361c745e9b8466cce9637697a",
            "value": 313
          }
        },
        "10bd2c59e6ca42a3829cec51dcd43db6": {
          "model_module": "@jupyter-widgets/controls",
          "model_name": "HTMLModel",
          "model_module_version": "1.5.0",
          "state": {
            "_dom_classes": [],
            "_model_module": "@jupyter-widgets/controls",
            "_model_module_version": "1.5.0",
            "_model_name": "HTMLModel",
            "_view_count": null,
            "_view_module": "@jupyter-widgets/controls",
            "_view_module_version": "1.5.0",
            "_view_name": "HTMLView",
            "description": "",
            "description_tooltip": null,
            "layout": "IPY_MODEL_06bae14c345f48328187cf25d29ecdb4",
            "placeholder": "​",
            "style": "IPY_MODEL_075be842f5b54077bd83a4c7e7ac6ec1",
            "value": " 313/313 [03:22&lt;00:00,  1.84it/s]"
          }
        },
        "d196923d4cf24a40aeee2aec12402a78": {
          "model_module": "@jupyter-widgets/base",
          "model_name": "LayoutModel",
          "model_module_version": "1.2.0",
          "state": {
            "_model_module": "@jupyter-widgets/base",
            "_model_module_version": "1.2.0",
            "_model_name": "LayoutModel",
            "_view_count": null,
            "_view_module": "@jupyter-widgets/base",
            "_view_module_version": "1.2.0",
            "_view_name": "LayoutView",
            "align_content": null,
            "align_items": null,
            "align_self": null,
            "border": null,
            "bottom": null,
            "display": null,
            "flex": null,
            "flex_flow": null,
            "grid_area": null,
            "grid_auto_columns": null,
            "grid_auto_flow": null,
            "grid_auto_rows": null,
            "grid_column": null,
            "grid_gap": null,
            "grid_row": null,
            "grid_template_areas": null,
            "grid_template_columns": null,
            "grid_template_rows": null,
            "height": null,
            "justify_content": null,
            "justify_items": null,
            "left": null,
            "margin": null,
            "max_height": null,
            "max_width": null,
            "min_height": null,
            "min_width": null,
            "object_fit": null,
            "object_position": null,
            "order": null,
            "overflow": null,
            "overflow_x": null,
            "overflow_y": null,
            "padding": null,
            "right": null,
            "top": null,
            "visibility": null,
            "width": null
          }
        },
        "35c0a5afc6e141ab8c08fa595b33f771": {
          "model_module": "@jupyter-widgets/base",
          "model_name": "LayoutModel",
          "model_module_version": "1.2.0",
          "state": {
            "_model_module": "@jupyter-widgets/base",
            "_model_module_version": "1.2.0",
            "_model_name": "LayoutModel",
            "_view_count": null,
            "_view_module": "@jupyter-widgets/base",
            "_view_module_version": "1.2.0",
            "_view_name": "LayoutView",
            "align_content": null,
            "align_items": null,
            "align_self": null,
            "border": null,
            "bottom": null,
            "display": null,
            "flex": null,
            "flex_flow": null,
            "grid_area": null,
            "grid_auto_columns": null,
            "grid_auto_flow": null,
            "grid_auto_rows": null,
            "grid_column": null,
            "grid_gap": null,
            "grid_row": null,
            "grid_template_areas": null,
            "grid_template_columns": null,
            "grid_template_rows": null,
            "height": null,
            "justify_content": null,
            "justify_items": null,
            "left": null,
            "margin": null,
            "max_height": null,
            "max_width": null,
            "min_height": null,
            "min_width": null,
            "object_fit": null,
            "object_position": null,
            "order": null,
            "overflow": null,
            "overflow_x": null,
            "overflow_y": null,
            "padding": null,
            "right": null,
            "top": null,
            "visibility": null,
            "width": null
          }
        },
        "7222ea784df04de3a6cc7eeec81ea50f": {
          "model_module": "@jupyter-widgets/controls",
          "model_name": "DescriptionStyleModel",
          "model_module_version": "1.5.0",
          "state": {
            "_model_module": "@jupyter-widgets/controls",
            "_model_module_version": "1.5.0",
            "_model_name": "DescriptionStyleModel",
            "_view_count": null,
            "_view_module": "@jupyter-widgets/base",
            "_view_module_version": "1.2.0",
            "_view_name": "StyleView",
            "description_width": ""
          }
        },
        "1f49790bc6c54f7294258ddca8897a86": {
          "model_module": "@jupyter-widgets/base",
          "model_name": "LayoutModel",
          "model_module_version": "1.2.0",
          "state": {
            "_model_module": "@jupyter-widgets/base",
            "_model_module_version": "1.2.0",
            "_model_name": "LayoutModel",
            "_view_count": null,
            "_view_module": "@jupyter-widgets/base",
            "_view_module_version": "1.2.0",
            "_view_name": "LayoutView",
            "align_content": null,
            "align_items": null,
            "align_self": null,
            "border": null,
            "bottom": null,
            "display": null,
            "flex": null,
            "flex_flow": null,
            "grid_area": null,
            "grid_auto_columns": null,
            "grid_auto_flow": null,
            "grid_auto_rows": null,
            "grid_column": null,
            "grid_gap": null,
            "grid_row": null,
            "grid_template_areas": null,
            "grid_template_columns": null,
            "grid_template_rows": null,
            "height": null,
            "justify_content": null,
            "justify_items": null,
            "left": null,
            "margin": null,
            "max_height": null,
            "max_width": null,
            "min_height": null,
            "min_width": null,
            "object_fit": null,
            "object_position": null,
            "order": null,
            "overflow": null,
            "overflow_x": null,
            "overflow_y": null,
            "padding": null,
            "right": null,
            "top": null,
            "visibility": null,
            "width": null
          }
        },
        "802c640361c745e9b8466cce9637697a": {
          "model_module": "@jupyter-widgets/controls",
          "model_name": "ProgressStyleModel",
          "model_module_version": "1.5.0",
          "state": {
            "_model_module": "@jupyter-widgets/controls",
            "_model_module_version": "1.5.0",
            "_model_name": "ProgressStyleModel",
            "_view_count": null,
            "_view_module": "@jupyter-widgets/base",
            "_view_module_version": "1.2.0",
            "_view_name": "StyleView",
            "bar_color": null,
            "description_width": ""
          }
        },
        "06bae14c345f48328187cf25d29ecdb4": {
          "model_module": "@jupyter-widgets/base",
          "model_name": "LayoutModel",
          "model_module_version": "1.2.0",
          "state": {
            "_model_module": "@jupyter-widgets/base",
            "_model_module_version": "1.2.0",
            "_model_name": "LayoutModel",
            "_view_count": null,
            "_view_module": "@jupyter-widgets/base",
            "_view_module_version": "1.2.0",
            "_view_name": "LayoutView",
            "align_content": null,
            "align_items": null,
            "align_self": null,
            "border": null,
            "bottom": null,
            "display": null,
            "flex": null,
            "flex_flow": null,
            "grid_area": null,
            "grid_auto_columns": null,
            "grid_auto_flow": null,
            "grid_auto_rows": null,
            "grid_column": null,
            "grid_gap": null,
            "grid_row": null,
            "grid_template_areas": null,
            "grid_template_columns": null,
            "grid_template_rows": null,
            "height": null,
            "justify_content": null,
            "justify_items": null,
            "left": null,
            "margin": null,
            "max_height": null,
            "max_width": null,
            "min_height": null,
            "min_width": null,
            "object_fit": null,
            "object_position": null,
            "order": null,
            "overflow": null,
            "overflow_x": null,
            "overflow_y": null,
            "padding": null,
            "right": null,
            "top": null,
            "visibility": null,
            "width": null
          }
        },
        "075be842f5b54077bd83a4c7e7ac6ec1": {
          "model_module": "@jupyter-widgets/controls",
          "model_name": "DescriptionStyleModel",
          "model_module_version": "1.5.0",
          "state": {
            "_model_module": "@jupyter-widgets/controls",
            "_model_module_version": "1.5.0",
            "_model_name": "DescriptionStyleModel",
            "_view_count": null,
            "_view_module": "@jupyter-widgets/base",
            "_view_module_version": "1.2.0",
            "_view_name": "StyleView",
            "description_width": ""
          }
        },
        "95ebe2ca1ff54b8bb60451e61a63619c": {
          "model_module": "@jupyter-widgets/controls",
          "model_name": "HBoxModel",
          "model_module_version": "1.5.0",
          "state": {
            "_dom_classes": [],
            "_model_module": "@jupyter-widgets/controls",
            "_model_module_version": "1.5.0",
            "_model_name": "HBoxModel",
            "_view_count": null,
            "_view_module": "@jupyter-widgets/controls",
            "_view_module_version": "1.5.0",
            "_view_name": "HBoxView",
            "box_style": "",
            "children": [
              "IPY_MODEL_61e91c61bd114dff950f92647778c95b",
              "IPY_MODEL_e1cc856d3965419ba3e131654a55cd4b",
              "IPY_MODEL_fcb21dab90f74a8ebd62b33669efcc00"
            ],
            "layout": "IPY_MODEL_96084d6caebf4302aee0bc90bc7a7ec8"
          }
        },
        "61e91c61bd114dff950f92647778c95b": {
          "model_module": "@jupyter-widgets/controls",
          "model_name": "HTMLModel",
          "model_module_version": "1.5.0",
          "state": {
            "_dom_classes": [],
            "_model_module": "@jupyter-widgets/controls",
            "_model_module_version": "1.5.0",
            "_model_name": "HTMLModel",
            "_view_count": null,
            "_view_module": "@jupyter-widgets/controls",
            "_view_module_version": "1.5.0",
            "_view_name": "HTMLView",
            "description": "",
            "description_tooltip": null,
            "layout": "IPY_MODEL_dc4fd5b3bfa94263a70f888cb8edaf42",
            "placeholder": "​",
            "style": "IPY_MODEL_b9bd888300734b1b85c73ae4bf68d10a",
            "value": "100%"
          }
        },
        "e1cc856d3965419ba3e131654a55cd4b": {
          "model_module": "@jupyter-widgets/controls",
          "model_name": "FloatProgressModel",
          "model_module_version": "1.5.0",
          "state": {
            "_dom_classes": [],
            "_model_module": "@jupyter-widgets/controls",
            "_model_module_version": "1.5.0",
            "_model_name": "FloatProgressModel",
            "_view_count": null,
            "_view_module": "@jupyter-widgets/controls",
            "_view_module_version": "1.5.0",
            "_view_name": "ProgressView",
            "bar_style": "success",
            "description": "",
            "description_tooltip": null,
            "layout": "IPY_MODEL_142461669929418a870001305c25b216",
            "max": 313,
            "min": 0,
            "orientation": "horizontal",
            "style": "IPY_MODEL_54061112606b4d1f9736b48139659f90",
            "value": 313
          }
        },
        "fcb21dab90f74a8ebd62b33669efcc00": {
          "model_module": "@jupyter-widgets/controls",
          "model_name": "HTMLModel",
          "model_module_version": "1.5.0",
          "state": {
            "_dom_classes": [],
            "_model_module": "@jupyter-widgets/controls",
            "_model_module_version": "1.5.0",
            "_model_name": "HTMLModel",
            "_view_count": null,
            "_view_module": "@jupyter-widgets/controls",
            "_view_module_version": "1.5.0",
            "_view_name": "HTMLView",
            "description": "",
            "description_tooltip": null,
            "layout": "IPY_MODEL_49dcc60184e04755930d981337ca4a4e",
            "placeholder": "​",
            "style": "IPY_MODEL_b3bba8faa0dc4eb6b7f935bc0e9594e6",
            "value": " 313/313 [03:21&lt;00:00,  1.82it/s]"
          }
        },
        "96084d6caebf4302aee0bc90bc7a7ec8": {
          "model_module": "@jupyter-widgets/base",
          "model_name": "LayoutModel",
          "model_module_version": "1.2.0",
          "state": {
            "_model_module": "@jupyter-widgets/base",
            "_model_module_version": "1.2.0",
            "_model_name": "LayoutModel",
            "_view_count": null,
            "_view_module": "@jupyter-widgets/base",
            "_view_module_version": "1.2.0",
            "_view_name": "LayoutView",
            "align_content": null,
            "align_items": null,
            "align_self": null,
            "border": null,
            "bottom": null,
            "display": null,
            "flex": null,
            "flex_flow": null,
            "grid_area": null,
            "grid_auto_columns": null,
            "grid_auto_flow": null,
            "grid_auto_rows": null,
            "grid_column": null,
            "grid_gap": null,
            "grid_row": null,
            "grid_template_areas": null,
            "grid_template_columns": null,
            "grid_template_rows": null,
            "height": null,
            "justify_content": null,
            "justify_items": null,
            "left": null,
            "margin": null,
            "max_height": null,
            "max_width": null,
            "min_height": null,
            "min_width": null,
            "object_fit": null,
            "object_position": null,
            "order": null,
            "overflow": null,
            "overflow_x": null,
            "overflow_y": null,
            "padding": null,
            "right": null,
            "top": null,
            "visibility": null,
            "width": null
          }
        },
        "dc4fd5b3bfa94263a70f888cb8edaf42": {
          "model_module": "@jupyter-widgets/base",
          "model_name": "LayoutModel",
          "model_module_version": "1.2.0",
          "state": {
            "_model_module": "@jupyter-widgets/base",
            "_model_module_version": "1.2.0",
            "_model_name": "LayoutModel",
            "_view_count": null,
            "_view_module": "@jupyter-widgets/base",
            "_view_module_version": "1.2.0",
            "_view_name": "LayoutView",
            "align_content": null,
            "align_items": null,
            "align_self": null,
            "border": null,
            "bottom": null,
            "display": null,
            "flex": null,
            "flex_flow": null,
            "grid_area": null,
            "grid_auto_columns": null,
            "grid_auto_flow": null,
            "grid_auto_rows": null,
            "grid_column": null,
            "grid_gap": null,
            "grid_row": null,
            "grid_template_areas": null,
            "grid_template_columns": null,
            "grid_template_rows": null,
            "height": null,
            "justify_content": null,
            "justify_items": null,
            "left": null,
            "margin": null,
            "max_height": null,
            "max_width": null,
            "min_height": null,
            "min_width": null,
            "object_fit": null,
            "object_position": null,
            "order": null,
            "overflow": null,
            "overflow_x": null,
            "overflow_y": null,
            "padding": null,
            "right": null,
            "top": null,
            "visibility": null,
            "width": null
          }
        },
        "b9bd888300734b1b85c73ae4bf68d10a": {
          "model_module": "@jupyter-widgets/controls",
          "model_name": "DescriptionStyleModel",
          "model_module_version": "1.5.0",
          "state": {
            "_model_module": "@jupyter-widgets/controls",
            "_model_module_version": "1.5.0",
            "_model_name": "DescriptionStyleModel",
            "_view_count": null,
            "_view_module": "@jupyter-widgets/base",
            "_view_module_version": "1.2.0",
            "_view_name": "StyleView",
            "description_width": ""
          }
        },
        "142461669929418a870001305c25b216": {
          "model_module": "@jupyter-widgets/base",
          "model_name": "LayoutModel",
          "model_module_version": "1.2.0",
          "state": {
            "_model_module": "@jupyter-widgets/base",
            "_model_module_version": "1.2.0",
            "_model_name": "LayoutModel",
            "_view_count": null,
            "_view_module": "@jupyter-widgets/base",
            "_view_module_version": "1.2.0",
            "_view_name": "LayoutView",
            "align_content": null,
            "align_items": null,
            "align_self": null,
            "border": null,
            "bottom": null,
            "display": null,
            "flex": null,
            "flex_flow": null,
            "grid_area": null,
            "grid_auto_columns": null,
            "grid_auto_flow": null,
            "grid_auto_rows": null,
            "grid_column": null,
            "grid_gap": null,
            "grid_row": null,
            "grid_template_areas": null,
            "grid_template_columns": null,
            "grid_template_rows": null,
            "height": null,
            "justify_content": null,
            "justify_items": null,
            "left": null,
            "margin": null,
            "max_height": null,
            "max_width": null,
            "min_height": null,
            "min_width": null,
            "object_fit": null,
            "object_position": null,
            "order": null,
            "overflow": null,
            "overflow_x": null,
            "overflow_y": null,
            "padding": null,
            "right": null,
            "top": null,
            "visibility": null,
            "width": null
          }
        },
        "54061112606b4d1f9736b48139659f90": {
          "model_module": "@jupyter-widgets/controls",
          "model_name": "ProgressStyleModel",
          "model_module_version": "1.5.0",
          "state": {
            "_model_module": "@jupyter-widgets/controls",
            "_model_module_version": "1.5.0",
            "_model_name": "ProgressStyleModel",
            "_view_count": null,
            "_view_module": "@jupyter-widgets/base",
            "_view_module_version": "1.2.0",
            "_view_name": "StyleView",
            "bar_color": null,
            "description_width": ""
          }
        },
        "49dcc60184e04755930d981337ca4a4e": {
          "model_module": "@jupyter-widgets/base",
          "model_name": "LayoutModel",
          "model_module_version": "1.2.0",
          "state": {
            "_model_module": "@jupyter-widgets/base",
            "_model_module_version": "1.2.0",
            "_model_name": "LayoutModel",
            "_view_count": null,
            "_view_module": "@jupyter-widgets/base",
            "_view_module_version": "1.2.0",
            "_view_name": "LayoutView",
            "align_content": null,
            "align_items": null,
            "align_self": null,
            "border": null,
            "bottom": null,
            "display": null,
            "flex": null,
            "flex_flow": null,
            "grid_area": null,
            "grid_auto_columns": null,
            "grid_auto_flow": null,
            "grid_auto_rows": null,
            "grid_column": null,
            "grid_gap": null,
            "grid_row": null,
            "grid_template_areas": null,
            "grid_template_columns": null,
            "grid_template_rows": null,
            "height": null,
            "justify_content": null,
            "justify_items": null,
            "left": null,
            "margin": null,
            "max_height": null,
            "max_width": null,
            "min_height": null,
            "min_width": null,
            "object_fit": null,
            "object_position": null,
            "order": null,
            "overflow": null,
            "overflow_x": null,
            "overflow_y": null,
            "padding": null,
            "right": null,
            "top": null,
            "visibility": null,
            "width": null
          }
        },
        "b3bba8faa0dc4eb6b7f935bc0e9594e6": {
          "model_module": "@jupyter-widgets/controls",
          "model_name": "DescriptionStyleModel",
          "model_module_version": "1.5.0",
          "state": {
            "_model_module": "@jupyter-widgets/controls",
            "_model_module_version": "1.5.0",
            "_model_name": "DescriptionStyleModel",
            "_view_count": null,
            "_view_module": "@jupyter-widgets/base",
            "_view_module_version": "1.2.0",
            "_view_name": "StyleView",
            "description_width": ""
          }
        },
        "11beb0fc396742ea85edb50344c3bee0": {
          "model_module": "@jupyter-widgets/controls",
          "model_name": "HBoxModel",
          "model_module_version": "1.5.0",
          "state": {
            "_dom_classes": [],
            "_model_module": "@jupyter-widgets/controls",
            "_model_module_version": "1.5.0",
            "_model_name": "HBoxModel",
            "_view_count": null,
            "_view_module": "@jupyter-widgets/controls",
            "_view_module_version": "1.5.0",
            "_view_name": "HBoxView",
            "box_style": "",
            "children": [
              "IPY_MODEL_b8c3f3aaf3fa492caaff37ab15bbae22",
              "IPY_MODEL_7654de14aeca4ebe9e1f6b7dd53f763f",
              "IPY_MODEL_bfa9180681d2422ab7990db44bdb3c85"
            ],
            "layout": "IPY_MODEL_a0e7cce85fc048cc8e2e06a5cbe20dc8"
          }
        },
        "b8c3f3aaf3fa492caaff37ab15bbae22": {
          "model_module": "@jupyter-widgets/controls",
          "model_name": "HTMLModel",
          "model_module_version": "1.5.0",
          "state": {
            "_dom_classes": [],
            "_model_module": "@jupyter-widgets/controls",
            "_model_module_version": "1.5.0",
            "_model_name": "HTMLModel",
            "_view_count": null,
            "_view_module": "@jupyter-widgets/controls",
            "_view_module_version": "1.5.0",
            "_view_name": "HTMLView",
            "description": "",
            "description_tooltip": null,
            "layout": "IPY_MODEL_4c7d6fc9c65245b9bb2da8db6528d850",
            "placeholder": "​",
            "style": "IPY_MODEL_6aa67ecfb7d44d69887a27e824b51afc",
            "value": "100%"
          }
        },
        "7654de14aeca4ebe9e1f6b7dd53f763f": {
          "model_module": "@jupyter-widgets/controls",
          "model_name": "FloatProgressModel",
          "model_module_version": "1.5.0",
          "state": {
            "_dom_classes": [],
            "_model_module": "@jupyter-widgets/controls",
            "_model_module_version": "1.5.0",
            "_model_name": "FloatProgressModel",
            "_view_count": null,
            "_view_module": "@jupyter-widgets/controls",
            "_view_module_version": "1.5.0",
            "_view_name": "ProgressView",
            "bar_style": "success",
            "description": "",
            "description_tooltip": null,
            "layout": "IPY_MODEL_a4ade88e7f7f4b059a84288954f07653",
            "max": 313,
            "min": 0,
            "orientation": "horizontal",
            "style": "IPY_MODEL_11f8167963d3469f8a2421ba218bc5d7",
            "value": 313
          }
        },
        "bfa9180681d2422ab7990db44bdb3c85": {
          "model_module": "@jupyter-widgets/controls",
          "model_name": "HTMLModel",
          "model_module_version": "1.5.0",
          "state": {
            "_dom_classes": [],
            "_model_module": "@jupyter-widgets/controls",
            "_model_module_version": "1.5.0",
            "_model_name": "HTMLModel",
            "_view_count": null,
            "_view_module": "@jupyter-widgets/controls",
            "_view_module_version": "1.5.0",
            "_view_name": "HTMLView",
            "description": "",
            "description_tooltip": null,
            "layout": "IPY_MODEL_6da90474365f485bb913426dbb6dff95",
            "placeholder": "​",
            "style": "IPY_MODEL_a4ef949f6205493cbb624f79f6c2a121",
            "value": " 313/313 [03:21&lt;00:00,  1.83it/s]"
          }
        },
        "a0e7cce85fc048cc8e2e06a5cbe20dc8": {
          "model_module": "@jupyter-widgets/base",
          "model_name": "LayoutModel",
          "model_module_version": "1.2.0",
          "state": {
            "_model_module": "@jupyter-widgets/base",
            "_model_module_version": "1.2.0",
            "_model_name": "LayoutModel",
            "_view_count": null,
            "_view_module": "@jupyter-widgets/base",
            "_view_module_version": "1.2.0",
            "_view_name": "LayoutView",
            "align_content": null,
            "align_items": null,
            "align_self": null,
            "border": null,
            "bottom": null,
            "display": null,
            "flex": null,
            "flex_flow": null,
            "grid_area": null,
            "grid_auto_columns": null,
            "grid_auto_flow": null,
            "grid_auto_rows": null,
            "grid_column": null,
            "grid_gap": null,
            "grid_row": null,
            "grid_template_areas": null,
            "grid_template_columns": null,
            "grid_template_rows": null,
            "height": null,
            "justify_content": null,
            "justify_items": null,
            "left": null,
            "margin": null,
            "max_height": null,
            "max_width": null,
            "min_height": null,
            "min_width": null,
            "object_fit": null,
            "object_position": null,
            "order": null,
            "overflow": null,
            "overflow_x": null,
            "overflow_y": null,
            "padding": null,
            "right": null,
            "top": null,
            "visibility": null,
            "width": null
          }
        },
        "4c7d6fc9c65245b9bb2da8db6528d850": {
          "model_module": "@jupyter-widgets/base",
          "model_name": "LayoutModel",
          "model_module_version": "1.2.0",
          "state": {
            "_model_module": "@jupyter-widgets/base",
            "_model_module_version": "1.2.0",
            "_model_name": "LayoutModel",
            "_view_count": null,
            "_view_module": "@jupyter-widgets/base",
            "_view_module_version": "1.2.0",
            "_view_name": "LayoutView",
            "align_content": null,
            "align_items": null,
            "align_self": null,
            "border": null,
            "bottom": null,
            "display": null,
            "flex": null,
            "flex_flow": null,
            "grid_area": null,
            "grid_auto_columns": null,
            "grid_auto_flow": null,
            "grid_auto_rows": null,
            "grid_column": null,
            "grid_gap": null,
            "grid_row": null,
            "grid_template_areas": null,
            "grid_template_columns": null,
            "grid_template_rows": null,
            "height": null,
            "justify_content": null,
            "justify_items": null,
            "left": null,
            "margin": null,
            "max_height": null,
            "max_width": null,
            "min_height": null,
            "min_width": null,
            "object_fit": null,
            "object_position": null,
            "order": null,
            "overflow": null,
            "overflow_x": null,
            "overflow_y": null,
            "padding": null,
            "right": null,
            "top": null,
            "visibility": null,
            "width": null
          }
        },
        "6aa67ecfb7d44d69887a27e824b51afc": {
          "model_module": "@jupyter-widgets/controls",
          "model_name": "DescriptionStyleModel",
          "model_module_version": "1.5.0",
          "state": {
            "_model_module": "@jupyter-widgets/controls",
            "_model_module_version": "1.5.0",
            "_model_name": "DescriptionStyleModel",
            "_view_count": null,
            "_view_module": "@jupyter-widgets/base",
            "_view_module_version": "1.2.0",
            "_view_name": "StyleView",
            "description_width": ""
          }
        },
        "a4ade88e7f7f4b059a84288954f07653": {
          "model_module": "@jupyter-widgets/base",
          "model_name": "LayoutModel",
          "model_module_version": "1.2.0",
          "state": {
            "_model_module": "@jupyter-widgets/base",
            "_model_module_version": "1.2.0",
            "_model_name": "LayoutModel",
            "_view_count": null,
            "_view_module": "@jupyter-widgets/base",
            "_view_module_version": "1.2.0",
            "_view_name": "LayoutView",
            "align_content": null,
            "align_items": null,
            "align_self": null,
            "border": null,
            "bottom": null,
            "display": null,
            "flex": null,
            "flex_flow": null,
            "grid_area": null,
            "grid_auto_columns": null,
            "grid_auto_flow": null,
            "grid_auto_rows": null,
            "grid_column": null,
            "grid_gap": null,
            "grid_row": null,
            "grid_template_areas": null,
            "grid_template_columns": null,
            "grid_template_rows": null,
            "height": null,
            "justify_content": null,
            "justify_items": null,
            "left": null,
            "margin": null,
            "max_height": null,
            "max_width": null,
            "min_height": null,
            "min_width": null,
            "object_fit": null,
            "object_position": null,
            "order": null,
            "overflow": null,
            "overflow_x": null,
            "overflow_y": null,
            "padding": null,
            "right": null,
            "top": null,
            "visibility": null,
            "width": null
          }
        },
        "11f8167963d3469f8a2421ba218bc5d7": {
          "model_module": "@jupyter-widgets/controls",
          "model_name": "ProgressStyleModel",
          "model_module_version": "1.5.0",
          "state": {
            "_model_module": "@jupyter-widgets/controls",
            "_model_module_version": "1.5.0",
            "_model_name": "ProgressStyleModel",
            "_view_count": null,
            "_view_module": "@jupyter-widgets/base",
            "_view_module_version": "1.2.0",
            "_view_name": "StyleView",
            "bar_color": null,
            "description_width": ""
          }
        },
        "6da90474365f485bb913426dbb6dff95": {
          "model_module": "@jupyter-widgets/base",
          "model_name": "LayoutModel",
          "model_module_version": "1.2.0",
          "state": {
            "_model_module": "@jupyter-widgets/base",
            "_model_module_version": "1.2.0",
            "_model_name": "LayoutModel",
            "_view_count": null,
            "_view_module": "@jupyter-widgets/base",
            "_view_module_version": "1.2.0",
            "_view_name": "LayoutView",
            "align_content": null,
            "align_items": null,
            "align_self": null,
            "border": null,
            "bottom": null,
            "display": null,
            "flex": null,
            "flex_flow": null,
            "grid_area": null,
            "grid_auto_columns": null,
            "grid_auto_flow": null,
            "grid_auto_rows": null,
            "grid_column": null,
            "grid_gap": null,
            "grid_row": null,
            "grid_template_areas": null,
            "grid_template_columns": null,
            "grid_template_rows": null,
            "height": null,
            "justify_content": null,
            "justify_items": null,
            "left": null,
            "margin": null,
            "max_height": null,
            "max_width": null,
            "min_height": null,
            "min_width": null,
            "object_fit": null,
            "object_position": null,
            "order": null,
            "overflow": null,
            "overflow_x": null,
            "overflow_y": null,
            "padding": null,
            "right": null,
            "top": null,
            "visibility": null,
            "width": null
          }
        },
        "a4ef949f6205493cbb624f79f6c2a121": {
          "model_module": "@jupyter-widgets/controls",
          "model_name": "DescriptionStyleModel",
          "model_module_version": "1.5.0",
          "state": {
            "_model_module": "@jupyter-widgets/controls",
            "_model_module_version": "1.5.0",
            "_model_name": "DescriptionStyleModel",
            "_view_count": null,
            "_view_module": "@jupyter-widgets/base",
            "_view_module_version": "1.2.0",
            "_view_name": "StyleView",
            "description_width": ""
          }
        },
        "44828be246ca49799510046b617a743b": {
          "model_module": "@jupyter-widgets/controls",
          "model_name": "HBoxModel",
          "model_module_version": "1.5.0",
          "state": {
            "_dom_classes": [],
            "_model_module": "@jupyter-widgets/controls",
            "_model_module_version": "1.5.0",
            "_model_name": "HBoxModel",
            "_view_count": null,
            "_view_module": "@jupyter-widgets/controls",
            "_view_module_version": "1.5.0",
            "_view_name": "HBoxView",
            "box_style": "",
            "children": [
              "IPY_MODEL_63e309465f734934a97ef5c47d9e58fd",
              "IPY_MODEL_8a6ef18d27d44b15a20e5aad1fc0f619",
              "IPY_MODEL_a0fce23b84a5425b84a85ddf82d23474"
            ],
            "layout": "IPY_MODEL_f1c78d0baf82416ab4128d707c0a3d04"
          }
        },
        "63e309465f734934a97ef5c47d9e58fd": {
          "model_module": "@jupyter-widgets/controls",
          "model_name": "HTMLModel",
          "model_module_version": "1.5.0",
          "state": {
            "_dom_classes": [],
            "_model_module": "@jupyter-widgets/controls",
            "_model_module_version": "1.5.0",
            "_model_name": "HTMLModel",
            "_view_count": null,
            "_view_module": "@jupyter-widgets/controls",
            "_view_module_version": "1.5.0",
            "_view_name": "HTMLView",
            "description": "",
            "description_tooltip": null,
            "layout": "IPY_MODEL_adc046143e494da3a5336258749b6826",
            "placeholder": "​",
            "style": "IPY_MODEL_b841cfae1bf9478786021a0ae60deb67",
            "value": "100%"
          }
        },
        "8a6ef18d27d44b15a20e5aad1fc0f619": {
          "model_module": "@jupyter-widgets/controls",
          "model_name": "FloatProgressModel",
          "model_module_version": "1.5.0",
          "state": {
            "_dom_classes": [],
            "_model_module": "@jupyter-widgets/controls",
            "_model_module_version": "1.5.0",
            "_model_name": "FloatProgressModel",
            "_view_count": null,
            "_view_module": "@jupyter-widgets/controls",
            "_view_module_version": "1.5.0",
            "_view_name": "ProgressView",
            "bar_style": "success",
            "description": "",
            "description_tooltip": null,
            "layout": "IPY_MODEL_058913b06c874392a89af1156115cdec",
            "max": 313,
            "min": 0,
            "orientation": "horizontal",
            "style": "IPY_MODEL_92ec5ab13d5e47908a7233bdc09f2678",
            "value": 313
          }
        },
        "a0fce23b84a5425b84a85ddf82d23474": {
          "model_module": "@jupyter-widgets/controls",
          "model_name": "HTMLModel",
          "model_module_version": "1.5.0",
          "state": {
            "_dom_classes": [],
            "_model_module": "@jupyter-widgets/controls",
            "_model_module_version": "1.5.0",
            "_model_name": "HTMLModel",
            "_view_count": null,
            "_view_module": "@jupyter-widgets/controls",
            "_view_module_version": "1.5.0",
            "_view_name": "HTMLView",
            "description": "",
            "description_tooltip": null,
            "layout": "IPY_MODEL_0e6d19eaa92647eead77c20863a11791",
            "placeholder": "​",
            "style": "IPY_MODEL_8d262c348d9e458787b2343e51ea4734",
            "value": " 313/313 [04:24&lt;00:00,  1.38it/s]"
          }
        },
        "f1c78d0baf82416ab4128d707c0a3d04": {
          "model_module": "@jupyter-widgets/base",
          "model_name": "LayoutModel",
          "model_module_version": "1.2.0",
          "state": {
            "_model_module": "@jupyter-widgets/base",
            "_model_module_version": "1.2.0",
            "_model_name": "LayoutModel",
            "_view_count": null,
            "_view_module": "@jupyter-widgets/base",
            "_view_module_version": "1.2.0",
            "_view_name": "LayoutView",
            "align_content": null,
            "align_items": null,
            "align_self": null,
            "border": null,
            "bottom": null,
            "display": null,
            "flex": null,
            "flex_flow": null,
            "grid_area": null,
            "grid_auto_columns": null,
            "grid_auto_flow": null,
            "grid_auto_rows": null,
            "grid_column": null,
            "grid_gap": null,
            "grid_row": null,
            "grid_template_areas": null,
            "grid_template_columns": null,
            "grid_template_rows": null,
            "height": null,
            "justify_content": null,
            "justify_items": null,
            "left": null,
            "margin": null,
            "max_height": null,
            "max_width": null,
            "min_height": null,
            "min_width": null,
            "object_fit": null,
            "object_position": null,
            "order": null,
            "overflow": null,
            "overflow_x": null,
            "overflow_y": null,
            "padding": null,
            "right": null,
            "top": null,
            "visibility": null,
            "width": null
          }
        },
        "adc046143e494da3a5336258749b6826": {
          "model_module": "@jupyter-widgets/base",
          "model_name": "LayoutModel",
          "model_module_version": "1.2.0",
          "state": {
            "_model_module": "@jupyter-widgets/base",
            "_model_module_version": "1.2.0",
            "_model_name": "LayoutModel",
            "_view_count": null,
            "_view_module": "@jupyter-widgets/base",
            "_view_module_version": "1.2.0",
            "_view_name": "LayoutView",
            "align_content": null,
            "align_items": null,
            "align_self": null,
            "border": null,
            "bottom": null,
            "display": null,
            "flex": null,
            "flex_flow": null,
            "grid_area": null,
            "grid_auto_columns": null,
            "grid_auto_flow": null,
            "grid_auto_rows": null,
            "grid_column": null,
            "grid_gap": null,
            "grid_row": null,
            "grid_template_areas": null,
            "grid_template_columns": null,
            "grid_template_rows": null,
            "height": null,
            "justify_content": null,
            "justify_items": null,
            "left": null,
            "margin": null,
            "max_height": null,
            "max_width": null,
            "min_height": null,
            "min_width": null,
            "object_fit": null,
            "object_position": null,
            "order": null,
            "overflow": null,
            "overflow_x": null,
            "overflow_y": null,
            "padding": null,
            "right": null,
            "top": null,
            "visibility": null,
            "width": null
          }
        },
        "b841cfae1bf9478786021a0ae60deb67": {
          "model_module": "@jupyter-widgets/controls",
          "model_name": "DescriptionStyleModel",
          "model_module_version": "1.5.0",
          "state": {
            "_model_module": "@jupyter-widgets/controls",
            "_model_module_version": "1.5.0",
            "_model_name": "DescriptionStyleModel",
            "_view_count": null,
            "_view_module": "@jupyter-widgets/base",
            "_view_module_version": "1.2.0",
            "_view_name": "StyleView",
            "description_width": ""
          }
        },
        "058913b06c874392a89af1156115cdec": {
          "model_module": "@jupyter-widgets/base",
          "model_name": "LayoutModel",
          "model_module_version": "1.2.0",
          "state": {
            "_model_module": "@jupyter-widgets/base",
            "_model_module_version": "1.2.0",
            "_model_name": "LayoutModel",
            "_view_count": null,
            "_view_module": "@jupyter-widgets/base",
            "_view_module_version": "1.2.0",
            "_view_name": "LayoutView",
            "align_content": null,
            "align_items": null,
            "align_self": null,
            "border": null,
            "bottom": null,
            "display": null,
            "flex": null,
            "flex_flow": null,
            "grid_area": null,
            "grid_auto_columns": null,
            "grid_auto_flow": null,
            "grid_auto_rows": null,
            "grid_column": null,
            "grid_gap": null,
            "grid_row": null,
            "grid_template_areas": null,
            "grid_template_columns": null,
            "grid_template_rows": null,
            "height": null,
            "justify_content": null,
            "justify_items": null,
            "left": null,
            "margin": null,
            "max_height": null,
            "max_width": null,
            "min_height": null,
            "min_width": null,
            "object_fit": null,
            "object_position": null,
            "order": null,
            "overflow": null,
            "overflow_x": null,
            "overflow_y": null,
            "padding": null,
            "right": null,
            "top": null,
            "visibility": null,
            "width": null
          }
        },
        "92ec5ab13d5e47908a7233bdc09f2678": {
          "model_module": "@jupyter-widgets/controls",
          "model_name": "ProgressStyleModel",
          "model_module_version": "1.5.0",
          "state": {
            "_model_module": "@jupyter-widgets/controls",
            "_model_module_version": "1.5.0",
            "_model_name": "ProgressStyleModel",
            "_view_count": null,
            "_view_module": "@jupyter-widgets/base",
            "_view_module_version": "1.2.0",
            "_view_name": "StyleView",
            "bar_color": null,
            "description_width": ""
          }
        },
        "0e6d19eaa92647eead77c20863a11791": {
          "model_module": "@jupyter-widgets/base",
          "model_name": "LayoutModel",
          "model_module_version": "1.2.0",
          "state": {
            "_model_module": "@jupyter-widgets/base",
            "_model_module_version": "1.2.0",
            "_model_name": "LayoutModel",
            "_view_count": null,
            "_view_module": "@jupyter-widgets/base",
            "_view_module_version": "1.2.0",
            "_view_name": "LayoutView",
            "align_content": null,
            "align_items": null,
            "align_self": null,
            "border": null,
            "bottom": null,
            "display": null,
            "flex": null,
            "flex_flow": null,
            "grid_area": null,
            "grid_auto_columns": null,
            "grid_auto_flow": null,
            "grid_auto_rows": null,
            "grid_column": null,
            "grid_gap": null,
            "grid_row": null,
            "grid_template_areas": null,
            "grid_template_columns": null,
            "grid_template_rows": null,
            "height": null,
            "justify_content": null,
            "justify_items": null,
            "left": null,
            "margin": null,
            "max_height": null,
            "max_width": null,
            "min_height": null,
            "min_width": null,
            "object_fit": null,
            "object_position": null,
            "order": null,
            "overflow": null,
            "overflow_x": null,
            "overflow_y": null,
            "padding": null,
            "right": null,
            "top": null,
            "visibility": null,
            "width": null
          }
        },
        "8d262c348d9e458787b2343e51ea4734": {
          "model_module": "@jupyter-widgets/controls",
          "model_name": "DescriptionStyleModel",
          "model_module_version": "1.5.0",
          "state": {
            "_model_module": "@jupyter-widgets/controls",
            "_model_module_version": "1.5.0",
            "_model_name": "DescriptionStyleModel",
            "_view_count": null,
            "_view_module": "@jupyter-widgets/base",
            "_view_module_version": "1.2.0",
            "_view_name": "StyleView",
            "description_width": ""
          }
        },
        "8647bb1d1561463b9b9c850df505ee6c": {
          "model_module": "@jupyter-widgets/controls",
          "model_name": "HBoxModel",
          "model_module_version": "1.5.0",
          "state": {
            "_dom_classes": [],
            "_model_module": "@jupyter-widgets/controls",
            "_model_module_version": "1.5.0",
            "_model_name": "HBoxModel",
            "_view_count": null,
            "_view_module": "@jupyter-widgets/controls",
            "_view_module_version": "1.5.0",
            "_view_name": "HBoxView",
            "box_style": "",
            "children": [
              "IPY_MODEL_fb29f2d7f79649f2bcff7b76dbb60403",
              "IPY_MODEL_ab90e120552841f985abd86990be7506",
              "IPY_MODEL_b98946cabd874809a041b0a9624011f4"
            ],
            "layout": "IPY_MODEL_070efac98dca44c6968d5ba397545808"
          }
        },
        "fb29f2d7f79649f2bcff7b76dbb60403": {
          "model_module": "@jupyter-widgets/controls",
          "model_name": "HTMLModel",
          "model_module_version": "1.5.0",
          "state": {
            "_dom_classes": [],
            "_model_module": "@jupyter-widgets/controls",
            "_model_module_version": "1.5.0",
            "_model_name": "HTMLModel",
            "_view_count": null,
            "_view_module": "@jupyter-widgets/controls",
            "_view_module_version": "1.5.0",
            "_view_name": "HTMLView",
            "description": "",
            "description_tooltip": null,
            "layout": "IPY_MODEL_621ef707a8ef4b8d8797f983af7d97b8",
            "placeholder": "​",
            "style": "IPY_MODEL_6736cbd34941462fb712c78f2ab41f51",
            "value": "100%"
          }
        },
        "ab90e120552841f985abd86990be7506": {
          "model_module": "@jupyter-widgets/controls",
          "model_name": "FloatProgressModel",
          "model_module_version": "1.5.0",
          "state": {
            "_dom_classes": [],
            "_model_module": "@jupyter-widgets/controls",
            "_model_module_version": "1.5.0",
            "_model_name": "FloatProgressModel",
            "_view_count": null,
            "_view_module": "@jupyter-widgets/controls",
            "_view_module_version": "1.5.0",
            "_view_name": "ProgressView",
            "bar_style": "success",
            "description": "",
            "description_tooltip": null,
            "layout": "IPY_MODEL_6c1316d142624bb79fef105d0c6fe876",
            "max": 313,
            "min": 0,
            "orientation": "horizontal",
            "style": "IPY_MODEL_1228ee0550684e449eb07d211e546cef",
            "value": 313
          }
        },
        "b98946cabd874809a041b0a9624011f4": {
          "model_module": "@jupyter-widgets/controls",
          "model_name": "HTMLModel",
          "model_module_version": "1.5.0",
          "state": {
            "_dom_classes": [],
            "_model_module": "@jupyter-widgets/controls",
            "_model_module_version": "1.5.0",
            "_model_name": "HTMLModel",
            "_view_count": null,
            "_view_module": "@jupyter-widgets/controls",
            "_view_module_version": "1.5.0",
            "_view_name": "HTMLView",
            "description": "",
            "description_tooltip": null,
            "layout": "IPY_MODEL_f87d7508400046258877ea25f62cd044",
            "placeholder": "​",
            "style": "IPY_MODEL_273e583822d145e888635638fdfc4087",
            "value": " 313/313 [04:26&lt;00:00,  1.38it/s]"
          }
        },
        "070efac98dca44c6968d5ba397545808": {
          "model_module": "@jupyter-widgets/base",
          "model_name": "LayoutModel",
          "model_module_version": "1.2.0",
          "state": {
            "_model_module": "@jupyter-widgets/base",
            "_model_module_version": "1.2.0",
            "_model_name": "LayoutModel",
            "_view_count": null,
            "_view_module": "@jupyter-widgets/base",
            "_view_module_version": "1.2.0",
            "_view_name": "LayoutView",
            "align_content": null,
            "align_items": null,
            "align_self": null,
            "border": null,
            "bottom": null,
            "display": null,
            "flex": null,
            "flex_flow": null,
            "grid_area": null,
            "grid_auto_columns": null,
            "grid_auto_flow": null,
            "grid_auto_rows": null,
            "grid_column": null,
            "grid_gap": null,
            "grid_row": null,
            "grid_template_areas": null,
            "grid_template_columns": null,
            "grid_template_rows": null,
            "height": null,
            "justify_content": null,
            "justify_items": null,
            "left": null,
            "margin": null,
            "max_height": null,
            "max_width": null,
            "min_height": null,
            "min_width": null,
            "object_fit": null,
            "object_position": null,
            "order": null,
            "overflow": null,
            "overflow_x": null,
            "overflow_y": null,
            "padding": null,
            "right": null,
            "top": null,
            "visibility": null,
            "width": null
          }
        },
        "621ef707a8ef4b8d8797f983af7d97b8": {
          "model_module": "@jupyter-widgets/base",
          "model_name": "LayoutModel",
          "model_module_version": "1.2.0",
          "state": {
            "_model_module": "@jupyter-widgets/base",
            "_model_module_version": "1.2.0",
            "_model_name": "LayoutModel",
            "_view_count": null,
            "_view_module": "@jupyter-widgets/base",
            "_view_module_version": "1.2.0",
            "_view_name": "LayoutView",
            "align_content": null,
            "align_items": null,
            "align_self": null,
            "border": null,
            "bottom": null,
            "display": null,
            "flex": null,
            "flex_flow": null,
            "grid_area": null,
            "grid_auto_columns": null,
            "grid_auto_flow": null,
            "grid_auto_rows": null,
            "grid_column": null,
            "grid_gap": null,
            "grid_row": null,
            "grid_template_areas": null,
            "grid_template_columns": null,
            "grid_template_rows": null,
            "height": null,
            "justify_content": null,
            "justify_items": null,
            "left": null,
            "margin": null,
            "max_height": null,
            "max_width": null,
            "min_height": null,
            "min_width": null,
            "object_fit": null,
            "object_position": null,
            "order": null,
            "overflow": null,
            "overflow_x": null,
            "overflow_y": null,
            "padding": null,
            "right": null,
            "top": null,
            "visibility": null,
            "width": null
          }
        },
        "6736cbd34941462fb712c78f2ab41f51": {
          "model_module": "@jupyter-widgets/controls",
          "model_name": "DescriptionStyleModel",
          "model_module_version": "1.5.0",
          "state": {
            "_model_module": "@jupyter-widgets/controls",
            "_model_module_version": "1.5.0",
            "_model_name": "DescriptionStyleModel",
            "_view_count": null,
            "_view_module": "@jupyter-widgets/base",
            "_view_module_version": "1.2.0",
            "_view_name": "StyleView",
            "description_width": ""
          }
        },
        "6c1316d142624bb79fef105d0c6fe876": {
          "model_module": "@jupyter-widgets/base",
          "model_name": "LayoutModel",
          "model_module_version": "1.2.0",
          "state": {
            "_model_module": "@jupyter-widgets/base",
            "_model_module_version": "1.2.0",
            "_model_name": "LayoutModel",
            "_view_count": null,
            "_view_module": "@jupyter-widgets/base",
            "_view_module_version": "1.2.0",
            "_view_name": "LayoutView",
            "align_content": null,
            "align_items": null,
            "align_self": null,
            "border": null,
            "bottom": null,
            "display": null,
            "flex": null,
            "flex_flow": null,
            "grid_area": null,
            "grid_auto_columns": null,
            "grid_auto_flow": null,
            "grid_auto_rows": null,
            "grid_column": null,
            "grid_gap": null,
            "grid_row": null,
            "grid_template_areas": null,
            "grid_template_columns": null,
            "grid_template_rows": null,
            "height": null,
            "justify_content": null,
            "justify_items": null,
            "left": null,
            "margin": null,
            "max_height": null,
            "max_width": null,
            "min_height": null,
            "min_width": null,
            "object_fit": null,
            "object_position": null,
            "order": null,
            "overflow": null,
            "overflow_x": null,
            "overflow_y": null,
            "padding": null,
            "right": null,
            "top": null,
            "visibility": null,
            "width": null
          }
        },
        "1228ee0550684e449eb07d211e546cef": {
          "model_module": "@jupyter-widgets/controls",
          "model_name": "ProgressStyleModel",
          "model_module_version": "1.5.0",
          "state": {
            "_model_module": "@jupyter-widgets/controls",
            "_model_module_version": "1.5.0",
            "_model_name": "ProgressStyleModel",
            "_view_count": null,
            "_view_module": "@jupyter-widgets/base",
            "_view_module_version": "1.2.0",
            "_view_name": "StyleView",
            "bar_color": null,
            "description_width": ""
          }
        },
        "f87d7508400046258877ea25f62cd044": {
          "model_module": "@jupyter-widgets/base",
          "model_name": "LayoutModel",
          "model_module_version": "1.2.0",
          "state": {
            "_model_module": "@jupyter-widgets/base",
            "_model_module_version": "1.2.0",
            "_model_name": "LayoutModel",
            "_view_count": null,
            "_view_module": "@jupyter-widgets/base",
            "_view_module_version": "1.2.0",
            "_view_name": "LayoutView",
            "align_content": null,
            "align_items": null,
            "align_self": null,
            "border": null,
            "bottom": null,
            "display": null,
            "flex": null,
            "flex_flow": null,
            "grid_area": null,
            "grid_auto_columns": null,
            "grid_auto_flow": null,
            "grid_auto_rows": null,
            "grid_column": null,
            "grid_gap": null,
            "grid_row": null,
            "grid_template_areas": null,
            "grid_template_columns": null,
            "grid_template_rows": null,
            "height": null,
            "justify_content": null,
            "justify_items": null,
            "left": null,
            "margin": null,
            "max_height": null,
            "max_width": null,
            "min_height": null,
            "min_width": null,
            "object_fit": null,
            "object_position": null,
            "order": null,
            "overflow": null,
            "overflow_x": null,
            "overflow_y": null,
            "padding": null,
            "right": null,
            "top": null,
            "visibility": null,
            "width": null
          }
        },
        "273e583822d145e888635638fdfc4087": {
          "model_module": "@jupyter-widgets/controls",
          "model_name": "DescriptionStyleModel",
          "model_module_version": "1.5.0",
          "state": {
            "_model_module": "@jupyter-widgets/controls",
            "_model_module_version": "1.5.0",
            "_model_name": "DescriptionStyleModel",
            "_view_count": null,
            "_view_module": "@jupyter-widgets/base",
            "_view_module_version": "1.2.0",
            "_view_name": "StyleView",
            "description_width": ""
          }
        },
        "a7fd541fc7a9428f94bb3cc165e2381b": {
          "model_module": "@jupyter-widgets/controls",
          "model_name": "HBoxModel",
          "model_module_version": "1.5.0",
          "state": {
            "_dom_classes": [],
            "_model_module": "@jupyter-widgets/controls",
            "_model_module_version": "1.5.0",
            "_model_name": "HBoxModel",
            "_view_count": null,
            "_view_module": "@jupyter-widgets/controls",
            "_view_module_version": "1.5.0",
            "_view_name": "HBoxView",
            "box_style": "",
            "children": [
              "IPY_MODEL_3f92413d08b443299daf824f808b0466",
              "IPY_MODEL_fef5b0affd8b4df09b7e75481b7bac0f",
              "IPY_MODEL_a3413ead96144d1c9a3cbf3bf42dbab3"
            ],
            "layout": "IPY_MODEL_4c479d4f81514e37a0400dc30b3cbacb"
          }
        },
        "3f92413d08b443299daf824f808b0466": {
          "model_module": "@jupyter-widgets/controls",
          "model_name": "HTMLModel",
          "model_module_version": "1.5.0",
          "state": {
            "_dom_classes": [],
            "_model_module": "@jupyter-widgets/controls",
            "_model_module_version": "1.5.0",
            "_model_name": "HTMLModel",
            "_view_count": null,
            "_view_module": "@jupyter-widgets/controls",
            "_view_module_version": "1.5.0",
            "_view_name": "HTMLView",
            "description": "",
            "description_tooltip": null,
            "layout": "IPY_MODEL_7eb9145403e441a98b75bdce7894ee6a",
            "placeholder": "​",
            "style": "IPY_MODEL_fc9bc076d037449ca62515af1adc31a0",
            "value": "100%"
          }
        },
        "fef5b0affd8b4df09b7e75481b7bac0f": {
          "model_module": "@jupyter-widgets/controls",
          "model_name": "FloatProgressModel",
          "model_module_version": "1.5.0",
          "state": {
            "_dom_classes": [],
            "_model_module": "@jupyter-widgets/controls",
            "_model_module_version": "1.5.0",
            "_model_name": "FloatProgressModel",
            "_view_count": null,
            "_view_module": "@jupyter-widgets/controls",
            "_view_module_version": "1.5.0",
            "_view_name": "ProgressView",
            "bar_style": "success",
            "description": "",
            "description_tooltip": null,
            "layout": "IPY_MODEL_29c10c8f2c9548cf960e04054651c277",
            "max": 313,
            "min": 0,
            "orientation": "horizontal",
            "style": "IPY_MODEL_05306d71ee4645e589977eb7f3b9af62",
            "value": 313
          }
        },
        "a3413ead96144d1c9a3cbf3bf42dbab3": {
          "model_module": "@jupyter-widgets/controls",
          "model_name": "HTMLModel",
          "model_module_version": "1.5.0",
          "state": {
            "_dom_classes": [],
            "_model_module": "@jupyter-widgets/controls",
            "_model_module_version": "1.5.0",
            "_model_name": "HTMLModel",
            "_view_count": null,
            "_view_module": "@jupyter-widgets/controls",
            "_view_module_version": "1.5.0",
            "_view_name": "HTMLView",
            "description": "",
            "description_tooltip": null,
            "layout": "IPY_MODEL_0fdbb0963a5f47a6ad3b84bdb73bca90",
            "placeholder": "​",
            "style": "IPY_MODEL_3c74187c25444bf68a0395e01c36a0ae",
            "value": " 313/313 [04:27&lt;00:00,  1.37it/s]"
          }
        },
        "4c479d4f81514e37a0400dc30b3cbacb": {
          "model_module": "@jupyter-widgets/base",
          "model_name": "LayoutModel",
          "model_module_version": "1.2.0",
          "state": {
            "_model_module": "@jupyter-widgets/base",
            "_model_module_version": "1.2.0",
            "_model_name": "LayoutModel",
            "_view_count": null,
            "_view_module": "@jupyter-widgets/base",
            "_view_module_version": "1.2.0",
            "_view_name": "LayoutView",
            "align_content": null,
            "align_items": null,
            "align_self": null,
            "border": null,
            "bottom": null,
            "display": null,
            "flex": null,
            "flex_flow": null,
            "grid_area": null,
            "grid_auto_columns": null,
            "grid_auto_flow": null,
            "grid_auto_rows": null,
            "grid_column": null,
            "grid_gap": null,
            "grid_row": null,
            "grid_template_areas": null,
            "grid_template_columns": null,
            "grid_template_rows": null,
            "height": null,
            "justify_content": null,
            "justify_items": null,
            "left": null,
            "margin": null,
            "max_height": null,
            "max_width": null,
            "min_height": null,
            "min_width": null,
            "object_fit": null,
            "object_position": null,
            "order": null,
            "overflow": null,
            "overflow_x": null,
            "overflow_y": null,
            "padding": null,
            "right": null,
            "top": null,
            "visibility": null,
            "width": null
          }
        },
        "7eb9145403e441a98b75bdce7894ee6a": {
          "model_module": "@jupyter-widgets/base",
          "model_name": "LayoutModel",
          "model_module_version": "1.2.0",
          "state": {
            "_model_module": "@jupyter-widgets/base",
            "_model_module_version": "1.2.0",
            "_model_name": "LayoutModel",
            "_view_count": null,
            "_view_module": "@jupyter-widgets/base",
            "_view_module_version": "1.2.0",
            "_view_name": "LayoutView",
            "align_content": null,
            "align_items": null,
            "align_self": null,
            "border": null,
            "bottom": null,
            "display": null,
            "flex": null,
            "flex_flow": null,
            "grid_area": null,
            "grid_auto_columns": null,
            "grid_auto_flow": null,
            "grid_auto_rows": null,
            "grid_column": null,
            "grid_gap": null,
            "grid_row": null,
            "grid_template_areas": null,
            "grid_template_columns": null,
            "grid_template_rows": null,
            "height": null,
            "justify_content": null,
            "justify_items": null,
            "left": null,
            "margin": null,
            "max_height": null,
            "max_width": null,
            "min_height": null,
            "min_width": null,
            "object_fit": null,
            "object_position": null,
            "order": null,
            "overflow": null,
            "overflow_x": null,
            "overflow_y": null,
            "padding": null,
            "right": null,
            "top": null,
            "visibility": null,
            "width": null
          }
        },
        "fc9bc076d037449ca62515af1adc31a0": {
          "model_module": "@jupyter-widgets/controls",
          "model_name": "DescriptionStyleModel",
          "model_module_version": "1.5.0",
          "state": {
            "_model_module": "@jupyter-widgets/controls",
            "_model_module_version": "1.5.0",
            "_model_name": "DescriptionStyleModel",
            "_view_count": null,
            "_view_module": "@jupyter-widgets/base",
            "_view_module_version": "1.2.0",
            "_view_name": "StyleView",
            "description_width": ""
          }
        },
        "29c10c8f2c9548cf960e04054651c277": {
          "model_module": "@jupyter-widgets/base",
          "model_name": "LayoutModel",
          "model_module_version": "1.2.0",
          "state": {
            "_model_module": "@jupyter-widgets/base",
            "_model_module_version": "1.2.0",
            "_model_name": "LayoutModel",
            "_view_count": null,
            "_view_module": "@jupyter-widgets/base",
            "_view_module_version": "1.2.0",
            "_view_name": "LayoutView",
            "align_content": null,
            "align_items": null,
            "align_self": null,
            "border": null,
            "bottom": null,
            "display": null,
            "flex": null,
            "flex_flow": null,
            "grid_area": null,
            "grid_auto_columns": null,
            "grid_auto_flow": null,
            "grid_auto_rows": null,
            "grid_column": null,
            "grid_gap": null,
            "grid_row": null,
            "grid_template_areas": null,
            "grid_template_columns": null,
            "grid_template_rows": null,
            "height": null,
            "justify_content": null,
            "justify_items": null,
            "left": null,
            "margin": null,
            "max_height": null,
            "max_width": null,
            "min_height": null,
            "min_width": null,
            "object_fit": null,
            "object_position": null,
            "order": null,
            "overflow": null,
            "overflow_x": null,
            "overflow_y": null,
            "padding": null,
            "right": null,
            "top": null,
            "visibility": null,
            "width": null
          }
        },
        "05306d71ee4645e589977eb7f3b9af62": {
          "model_module": "@jupyter-widgets/controls",
          "model_name": "ProgressStyleModel",
          "model_module_version": "1.5.0",
          "state": {
            "_model_module": "@jupyter-widgets/controls",
            "_model_module_version": "1.5.0",
            "_model_name": "ProgressStyleModel",
            "_view_count": null,
            "_view_module": "@jupyter-widgets/base",
            "_view_module_version": "1.2.0",
            "_view_name": "StyleView",
            "bar_color": null,
            "description_width": ""
          }
        },
        "0fdbb0963a5f47a6ad3b84bdb73bca90": {
          "model_module": "@jupyter-widgets/base",
          "model_name": "LayoutModel",
          "model_module_version": "1.2.0",
          "state": {
            "_model_module": "@jupyter-widgets/base",
            "_model_module_version": "1.2.0",
            "_model_name": "LayoutModel",
            "_view_count": null,
            "_view_module": "@jupyter-widgets/base",
            "_view_module_version": "1.2.0",
            "_view_name": "LayoutView",
            "align_content": null,
            "align_items": null,
            "align_self": null,
            "border": null,
            "bottom": null,
            "display": null,
            "flex": null,
            "flex_flow": null,
            "grid_area": null,
            "grid_auto_columns": null,
            "grid_auto_flow": null,
            "grid_auto_rows": null,
            "grid_column": null,
            "grid_gap": null,
            "grid_row": null,
            "grid_template_areas": null,
            "grid_template_columns": null,
            "grid_template_rows": null,
            "height": null,
            "justify_content": null,
            "justify_items": null,
            "left": null,
            "margin": null,
            "max_height": null,
            "max_width": null,
            "min_height": null,
            "min_width": null,
            "object_fit": null,
            "object_position": null,
            "order": null,
            "overflow": null,
            "overflow_x": null,
            "overflow_y": null,
            "padding": null,
            "right": null,
            "top": null,
            "visibility": null,
            "width": null
          }
        },
        "3c74187c25444bf68a0395e01c36a0ae": {
          "model_module": "@jupyter-widgets/controls",
          "model_name": "DescriptionStyleModel",
          "model_module_version": "1.5.0",
          "state": {
            "_model_module": "@jupyter-widgets/controls",
            "_model_module_version": "1.5.0",
            "_model_name": "DescriptionStyleModel",
            "_view_count": null,
            "_view_module": "@jupyter-widgets/base",
            "_view_module_version": "1.2.0",
            "_view_name": "StyleView",
            "description_width": ""
          }
        },
        "4a6f980413844675bd5d9a9359fed763": {
          "model_module": "@jupyter-widgets/controls",
          "model_name": "HBoxModel",
          "model_module_version": "1.5.0",
          "state": {
            "_dom_classes": [],
            "_model_module": "@jupyter-widgets/controls",
            "_model_module_version": "1.5.0",
            "_model_name": "HBoxModel",
            "_view_count": null,
            "_view_module": "@jupyter-widgets/controls",
            "_view_module_version": "1.5.0",
            "_view_name": "HBoxView",
            "box_style": "",
            "children": [
              "IPY_MODEL_e6060c3d21f14343b7dba16aa82f13a9",
              "IPY_MODEL_e83c45d838f84fde9f6cf5a3bc347618",
              "IPY_MODEL_366f79c2a8b44f01967c816098d6147c"
            ],
            "layout": "IPY_MODEL_c955e60d9310483b9e1f861097798574"
          }
        },
        "e6060c3d21f14343b7dba16aa82f13a9": {
          "model_module": "@jupyter-widgets/controls",
          "model_name": "HTMLModel",
          "model_module_version": "1.5.0",
          "state": {
            "_dom_classes": [],
            "_model_module": "@jupyter-widgets/controls",
            "_model_module_version": "1.5.0",
            "_model_name": "HTMLModel",
            "_view_count": null,
            "_view_module": "@jupyter-widgets/controls",
            "_view_module_version": "1.5.0",
            "_view_name": "HTMLView",
            "description": "",
            "description_tooltip": null,
            "layout": "IPY_MODEL_17cfa187ab164e5682f05ddf9faa3446",
            "placeholder": "​",
            "style": "IPY_MODEL_f9621108afea46e0b8aedbe742e67baf",
            "value": "100%"
          }
        },
        "e83c45d838f84fde9f6cf5a3bc347618": {
          "model_module": "@jupyter-widgets/controls",
          "model_name": "FloatProgressModel",
          "model_module_version": "1.5.0",
          "state": {
            "_dom_classes": [],
            "_model_module": "@jupyter-widgets/controls",
            "_model_module_version": "1.5.0",
            "_model_name": "FloatProgressModel",
            "_view_count": null,
            "_view_module": "@jupyter-widgets/controls",
            "_view_module_version": "1.5.0",
            "_view_name": "ProgressView",
            "bar_style": "success",
            "description": "",
            "description_tooltip": null,
            "layout": "IPY_MODEL_31de1c0ebf3c45bbb2b248b103a0778a",
            "max": 313,
            "min": 0,
            "orientation": "horizontal",
            "style": "IPY_MODEL_2ca2f2975822499f88dcaaaae4da612a",
            "value": 313
          }
        },
        "366f79c2a8b44f01967c816098d6147c": {
          "model_module": "@jupyter-widgets/controls",
          "model_name": "HTMLModel",
          "model_module_version": "1.5.0",
          "state": {
            "_dom_classes": [],
            "_model_module": "@jupyter-widgets/controls",
            "_model_module_version": "1.5.0",
            "_model_name": "HTMLModel",
            "_view_count": null,
            "_view_module": "@jupyter-widgets/controls",
            "_view_module_version": "1.5.0",
            "_view_name": "HTMLView",
            "description": "",
            "description_tooltip": null,
            "layout": "IPY_MODEL_dc7671ddb44e4cad85ad7d3ecb17c508",
            "placeholder": "​",
            "style": "IPY_MODEL_137d1ef703424ebbb338a85ffffeedfd",
            "value": " 313/313 [04:24&lt;00:00,  1.38it/s]"
          }
        },
        "c955e60d9310483b9e1f861097798574": {
          "model_module": "@jupyter-widgets/base",
          "model_name": "LayoutModel",
          "model_module_version": "1.2.0",
          "state": {
            "_model_module": "@jupyter-widgets/base",
            "_model_module_version": "1.2.0",
            "_model_name": "LayoutModel",
            "_view_count": null,
            "_view_module": "@jupyter-widgets/base",
            "_view_module_version": "1.2.0",
            "_view_name": "LayoutView",
            "align_content": null,
            "align_items": null,
            "align_self": null,
            "border": null,
            "bottom": null,
            "display": null,
            "flex": null,
            "flex_flow": null,
            "grid_area": null,
            "grid_auto_columns": null,
            "grid_auto_flow": null,
            "grid_auto_rows": null,
            "grid_column": null,
            "grid_gap": null,
            "grid_row": null,
            "grid_template_areas": null,
            "grid_template_columns": null,
            "grid_template_rows": null,
            "height": null,
            "justify_content": null,
            "justify_items": null,
            "left": null,
            "margin": null,
            "max_height": null,
            "max_width": null,
            "min_height": null,
            "min_width": null,
            "object_fit": null,
            "object_position": null,
            "order": null,
            "overflow": null,
            "overflow_x": null,
            "overflow_y": null,
            "padding": null,
            "right": null,
            "top": null,
            "visibility": null,
            "width": null
          }
        },
        "17cfa187ab164e5682f05ddf9faa3446": {
          "model_module": "@jupyter-widgets/base",
          "model_name": "LayoutModel",
          "model_module_version": "1.2.0",
          "state": {
            "_model_module": "@jupyter-widgets/base",
            "_model_module_version": "1.2.0",
            "_model_name": "LayoutModel",
            "_view_count": null,
            "_view_module": "@jupyter-widgets/base",
            "_view_module_version": "1.2.0",
            "_view_name": "LayoutView",
            "align_content": null,
            "align_items": null,
            "align_self": null,
            "border": null,
            "bottom": null,
            "display": null,
            "flex": null,
            "flex_flow": null,
            "grid_area": null,
            "grid_auto_columns": null,
            "grid_auto_flow": null,
            "grid_auto_rows": null,
            "grid_column": null,
            "grid_gap": null,
            "grid_row": null,
            "grid_template_areas": null,
            "grid_template_columns": null,
            "grid_template_rows": null,
            "height": null,
            "justify_content": null,
            "justify_items": null,
            "left": null,
            "margin": null,
            "max_height": null,
            "max_width": null,
            "min_height": null,
            "min_width": null,
            "object_fit": null,
            "object_position": null,
            "order": null,
            "overflow": null,
            "overflow_x": null,
            "overflow_y": null,
            "padding": null,
            "right": null,
            "top": null,
            "visibility": null,
            "width": null
          }
        },
        "f9621108afea46e0b8aedbe742e67baf": {
          "model_module": "@jupyter-widgets/controls",
          "model_name": "DescriptionStyleModel",
          "model_module_version": "1.5.0",
          "state": {
            "_model_module": "@jupyter-widgets/controls",
            "_model_module_version": "1.5.0",
            "_model_name": "DescriptionStyleModel",
            "_view_count": null,
            "_view_module": "@jupyter-widgets/base",
            "_view_module_version": "1.2.0",
            "_view_name": "StyleView",
            "description_width": ""
          }
        },
        "31de1c0ebf3c45bbb2b248b103a0778a": {
          "model_module": "@jupyter-widgets/base",
          "model_name": "LayoutModel",
          "model_module_version": "1.2.0",
          "state": {
            "_model_module": "@jupyter-widgets/base",
            "_model_module_version": "1.2.0",
            "_model_name": "LayoutModel",
            "_view_count": null,
            "_view_module": "@jupyter-widgets/base",
            "_view_module_version": "1.2.0",
            "_view_name": "LayoutView",
            "align_content": null,
            "align_items": null,
            "align_self": null,
            "border": null,
            "bottom": null,
            "display": null,
            "flex": null,
            "flex_flow": null,
            "grid_area": null,
            "grid_auto_columns": null,
            "grid_auto_flow": null,
            "grid_auto_rows": null,
            "grid_column": null,
            "grid_gap": null,
            "grid_row": null,
            "grid_template_areas": null,
            "grid_template_columns": null,
            "grid_template_rows": null,
            "height": null,
            "justify_content": null,
            "justify_items": null,
            "left": null,
            "margin": null,
            "max_height": null,
            "max_width": null,
            "min_height": null,
            "min_width": null,
            "object_fit": null,
            "object_position": null,
            "order": null,
            "overflow": null,
            "overflow_x": null,
            "overflow_y": null,
            "padding": null,
            "right": null,
            "top": null,
            "visibility": null,
            "width": null
          }
        },
        "2ca2f2975822499f88dcaaaae4da612a": {
          "model_module": "@jupyter-widgets/controls",
          "model_name": "ProgressStyleModel",
          "model_module_version": "1.5.0",
          "state": {
            "_model_module": "@jupyter-widgets/controls",
            "_model_module_version": "1.5.0",
            "_model_name": "ProgressStyleModel",
            "_view_count": null,
            "_view_module": "@jupyter-widgets/base",
            "_view_module_version": "1.2.0",
            "_view_name": "StyleView",
            "bar_color": null,
            "description_width": ""
          }
        },
        "dc7671ddb44e4cad85ad7d3ecb17c508": {
          "model_module": "@jupyter-widgets/base",
          "model_name": "LayoutModel",
          "model_module_version": "1.2.0",
          "state": {
            "_model_module": "@jupyter-widgets/base",
            "_model_module_version": "1.2.0",
            "_model_name": "LayoutModel",
            "_view_count": null,
            "_view_module": "@jupyter-widgets/base",
            "_view_module_version": "1.2.0",
            "_view_name": "LayoutView",
            "align_content": null,
            "align_items": null,
            "align_self": null,
            "border": null,
            "bottom": null,
            "display": null,
            "flex": null,
            "flex_flow": null,
            "grid_area": null,
            "grid_auto_columns": null,
            "grid_auto_flow": null,
            "grid_auto_rows": null,
            "grid_column": null,
            "grid_gap": null,
            "grid_row": null,
            "grid_template_areas": null,
            "grid_template_columns": null,
            "grid_template_rows": null,
            "height": null,
            "justify_content": null,
            "justify_items": null,
            "left": null,
            "margin": null,
            "max_height": null,
            "max_width": null,
            "min_height": null,
            "min_width": null,
            "object_fit": null,
            "object_position": null,
            "order": null,
            "overflow": null,
            "overflow_x": null,
            "overflow_y": null,
            "padding": null,
            "right": null,
            "top": null,
            "visibility": null,
            "width": null
          }
        },
        "137d1ef703424ebbb338a85ffffeedfd": {
          "model_module": "@jupyter-widgets/controls",
          "model_name": "DescriptionStyleModel",
          "model_module_version": "1.5.0",
          "state": {
            "_model_module": "@jupyter-widgets/controls",
            "_model_module_version": "1.5.0",
            "_model_name": "DescriptionStyleModel",
            "_view_count": null,
            "_view_module": "@jupyter-widgets/base",
            "_view_module_version": "1.2.0",
            "_view_name": "StyleView",
            "description_width": ""
          }
        }
      }
    }
  },
  "cells": [
    {
      "cell_type": "markdown",
      "metadata": {
        "id": "view-in-github",
        "colab_type": "text"
      },
      "source": [
        "<a href=\"https://colab.research.google.com/github/wizard339/education/blob/main/cnn_nlp.ipynb\" target=\"_parent\"><img src=\"https://colab.research.google.com/assets/colab-badge.svg\" alt=\"Open In Colab\"/></a>"
      ]
    },
    {
      "cell_type": "markdown",
      "metadata": {
        "id": "1qJ5iFKmurh0"
      },
      "source": [
        "# Seminar 2 (Word representation and CNN for text classification)"
      ]
    },
    {
      "cell_type": "markdown",
      "metadata": {
        "id": "bYSfo2dEvARC"
      },
      "source": [
        "## Purpose of the lesson"
      ]
    },
    {
      "cell_type": "markdown",
      "metadata": {
        "id": "9HGT3jTivElB"
      },
      "source": [
        "In this lesson, we will touch on two topics: \n",
        "- data research through training your language model and studying the vector representation of words from data\n",
        "- solving practical problem of classifying the sentiment of the text."
      ]
    },
    {
      "cell_type": "markdown",
      "metadata": {
        "id": "Y4_eR4I8vHg5"
      },
      "source": [
        "Practical skills, that you will learn:\n",
        "- training model, that handle distributional semantics over your training dataset;\n",
        "- dimension reduction to more effectively handle vectors and futher use simplier and more light weighted machine learning models;\n",
        "- representation of vectors on 2 dimensional graphics to find some structure in data, relative positions of vectors and similar meanings of words;\n",
        "- downloading open-source datasets for sentiment analysis;\n",
        "- downloading pretrained on large corpus weights;\n",
        "- initialize pretrained weights to your model and use them to get better quality of model;\n",
        "- writing custom class to process data for your model;\n",
        "- learn how to use CNN for text classification;\n",
        "- write simple training/validation loop to train your model;\n",
        "- some kind of transfer learning to solve text classification task for faster, using less data and more effectively."
      ]
    },
    {
      "cell_type": "markdown",
      "metadata": {
        "id": "ObfotIFzvOSq"
      },
      "source": [
        "## PART 1"
      ]
    },
    {
      "cell_type": "markdown",
      "metadata": {
        "id": "qjvgf5-lvR5u"
      },
      "source": [
        "In Part 1 we use texts, but you can also use other data to train vector represention of your tokens.<br> For example: each nodes in graph can be represented as random walk over neighbour nodes. After learning vector representation of your nodes you can cluster your data. It is computational more effective, because all graph clustering algorigtms have O(n**2) complexity and harder.<br>\n",
        "Or you can represent your customers as chain of their transactions and then learn their representation."
      ]
    },
    {
      "cell_type": "code",
      "metadata": {
        "id": "cDs0xRMKA8xv"
      },
      "source": [
        "import numpy as np\n",
        "import pandas as pd\n",
        "from tqdm.notebook import tqdm\n",
        "import torch\n",
        "import torch.nn as nn\n",
        "from matplotlib import pyplot as plt\n",
        "\n",
        "from typing import Union, List, Tuple, Dict, Set"
      ],
      "execution_count": 1,
      "outputs": []
    },
    {
      "cell_type": "markdown",
      "metadata": {
        "id": "nAZEp7bkfmJc"
      },
      "source": [
        "### Vector normalization"
      ]
    },
    {
      "cell_type": "markdown",
      "metadata": {
        "id": "6TGBl5v7vayR"
      },
      "source": [
        "When you work with classical ML problems you need to preprocess you features to equal scale. It helps models to faster converge and get more accurate solution.<br>\n",
        "It`s all applicable for texts and their vector representation."
      ]
    },
    {
      "cell_type": "markdown",
      "metadata": {
        "id": "YkG7cF65vdYb"
      },
      "source": [
        "Lets get some simple vectors. They are similar, but have pretty different lenghts."
      ]
    },
    {
      "cell_type": "code",
      "metadata": {
        "colab": {
          "base_uri": "https://localhost:8080/"
        },
        "id": "6e8dwyrEBDau",
        "outputId": "f43ecc23-53c0-4b73-db62-492f090e8009"
      },
      "source": [
        "vectors = np.array([[ 7.,  8.,  5.,  5.],\n",
        "                    [ 9.,  8., 10.,  8.],\n",
        "                    [10.,  8.,  8.,  6.]])\n",
        "vectors"
      ],
      "execution_count": 2,
      "outputs": [
        {
          "output_type": "execute_result",
          "data": {
            "text/plain": [
              "array([[ 7.,  8.,  5.,  5.],\n",
              "       [ 9.,  8., 10.,  8.],\n",
              "       [10.,  8.,  8.,  6.]])"
            ]
          },
          "metadata": {},
          "execution_count": 2
        }
      ]
    },
    {
      "cell_type": "code",
      "metadata": {
        "id": "9fDxIlzxB6I9"
      },
      "source": [
        "import torch.nn.functional as F"
      ],
      "execution_count": 3,
      "outputs": []
    },
    {
      "cell_type": "markdown",
      "metadata": {
        "id": "GN3TsNzICKKZ"
      },
      "source": [
        "#### Task 1\n",
        "Write function that get two vectors as input, normalize them to get length equal 1 and return them as torch.tensor for futher work in our Neural Networks."
      ]
    },
    {
      "cell_type": "markdown",
      "metadata": {
        "id": "gMKOUZ1xvmiH"
      },
      "source": [
        "We will use whis function when we will preprocess all vectors, that we get for our model. Especially if we get vectors from outside."
      ]
    },
    {
      "cell_type": "markdown",
      "metadata": {
        "id": "3YZAuQmyCeWA"
      },
      "source": [
        "##### continue work"
      ]
    },
    {
      "cell_type": "code",
      "metadata": {
        "id": "v0eLyjfvBmGb"
      },
      "source": [
        "def normalize_vectors(vectors: Union[List[Union[int, float]],\n",
        "                                     np.array,\n",
        "                                     torch.tensor]) -> torch.tensor:\n",
        "  return F.normalize(torch.tensor(vectors))"
      ],
      "execution_count": 4,
      "outputs": []
    },
    {
      "cell_type": "code",
      "metadata": {
        "id": "TTLwZBNtDghS"
      },
      "source": [
        "normed_vectors = normalize_vectors(vectors)\n",
        "\n",
        "assert torch.norm(normed_vectors, dim=1).sum().item() == 3\n",
        "assert normed_vectors.dtype == torch.float64"
      ],
      "execution_count": 5,
      "outputs": []
    },
    {
      "cell_type": "markdown",
      "metadata": {
        "id": "JdCrgkDXfqGg"
      },
      "source": [
        "### Calculate vector similarity"
      ]
    },
    {
      "cell_type": "markdown",
      "metadata": {
        "id": "gvcKkNfDF91V"
      },
      "source": [
        "To measure how similar are vectors we use cosine similariry. It`s formula is represented below.<br>\n",
        "When we need to get deeper and faster insight into data, without clustering we can just calculate cosine similarity between vectors and get first understanding how common is concrete vector to other vectors."
      ]
    },
    {
      "cell_type": "markdown",
      "metadata": {
        "id": "kUDuiFORFx5d"
      },
      "source": [
        "#### Task 2\n",
        "Write on pure numpy function that measure vector distance between two vectors. Each input vector is a numpy array. Return a single float number that measure similarity between vectors.\n",
        "![image.png](data:image/png;base64,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)"
      ]
    },
    {
      "cell_type": "code",
      "metadata": {
        "id": "d-5PRIwKGEBt"
      },
      "source": [
        "from numpy import dot\n",
        "from numpy.linalg import norm"
      ],
      "execution_count": 6,
      "outputs": []
    },
    {
      "cell_type": "markdown",
      "metadata": {
        "id": "wCGJzFThwwEa"
      },
      "source": [
        "##### Continue work"
      ]
    },
    {
      "cell_type": "code",
      "metadata": {
        "id": "dvo7maKZEtU5"
      },
      "source": [
        "def cos_similarity(a: np.array, b: np.array) -> float:\n",
        "  return dot(a, b) / (norm(a) * norm(b))"
      ],
      "execution_count": 7,
      "outputs": []
    },
    {
      "cell_type": "code",
      "metadata": {
        "id": "AQpBP0jWGVW9"
      },
      "source": [
        "cos_sim_1 = cos_similarity(normed_vectors[0], normed_vectors[1])\n",
        "cos_sim_2 = cos_similarity(normed_vectors[1], normed_vectors[2])\n",
        "\n",
        "assert cos_sim_1 < cos_sim_2\n",
        "assert cos_sim_1 > 0.96\n",
        "assert cos_sim_2 > 0.98"
      ],
      "execution_count": 8,
      "outputs": []
    },
    {
      "cell_type": "markdown",
      "metadata": {
        "id": "J8RQdM1gf07U"
      },
      "source": [
        "### Training vector representation from our data"
      ]
    },
    {
      "cell_type": "markdown",
      "metadata": {
        "id": "R4l8nUmZw_5g"
      },
      "source": [
        "If we have anough data or you are not familier with domain of your data you can train language model from just your data. After traing you can explore your vectors with some clusterning technics or just visualize vectors in 2d or 3d dimensions."
      ]
    },
    {
      "cell_type": "markdown",
      "metadata": {
        "id": "9rStDr8oxGUs"
      },
      "source": [
        "On lecture we discussed word2vec model. More complex and functional version of word2vec is Fasttext, that handle main problem of word2vec - Out-Of-Vocabulary words. Implementation of this model and some basic functionality with it you can find in python library fasttext. It is disigned by Facebook."
      ]
    },
    {
      "cell_type": "code",
      "metadata": {
        "id": "uoJFdx8QHb8J",
        "colab": {
          "base_uri": "https://localhost:8080/"
        },
        "outputId": "89e3fba4-9772-4d7f-f2b1-d1216afe898f"
      },
      "source": [
        "!pip install fasttext"
      ],
      "execution_count": 9,
      "outputs": [
        {
          "output_type": "stream",
          "name": "stdout",
          "text": [
            "Looking in indexes: https://pypi.org/simple, https://us-python.pkg.dev/colab-wheels/public/simple/\n",
            "Collecting fasttext\n",
            "  Downloading fasttext-0.9.2.tar.gz (68 kB)\n",
            "\u001b[?25l     \u001b[90m━━━━━━━━━━━━━━━━━━━━━━━━━━━━━━━━━━━━━━━━\u001b[0m \u001b[32m0.0/68.8 KB\u001b[0m \u001b[31m?\u001b[0m eta \u001b[36m-:--:--\u001b[0m\r\u001b[2K     \u001b[90m━━━━━━━━━━━━━━━━━━━━━━━━━━━━━━━━━━━━━━━━\u001b[0m \u001b[32m68.8/68.8 KB\u001b[0m \u001b[31m7.9 MB/s\u001b[0m eta \u001b[36m0:00:00\u001b[0m\n",
            "\u001b[?25h  Preparing metadata (setup.py) ... \u001b[?25l\u001b[?25hdone\n",
            "Collecting pybind11>=2.2\n",
            "  Using cached pybind11-2.10.3-py3-none-any.whl (222 kB)\n",
            "Requirement already satisfied: setuptools>=0.7.0 in /usr/local/lib/python3.8/dist-packages (from fasttext) (57.4.0)\n",
            "Requirement already satisfied: numpy in /usr/local/lib/python3.8/dist-packages (from fasttext) (1.21.6)\n",
            "Building wheels for collected packages: fasttext\n",
            "  Building wheel for fasttext (setup.py) ... \u001b[?25l\u001b[?25hdone\n",
            "  Created wheel for fasttext: filename=fasttext-0.9.2-cp38-cp38-linux_x86_64.whl size=4403505 sha256=c13c3685c57d1df8f115acaa3d8fb556bde52255d4bb510ee33dbf29084c94f2\n",
            "  Stored in directory: /root/.cache/pip/wheels/93/61/2a/c54711a91c418ba06ba195b1d78ff24fcaad8592f2a694ac94\n",
            "Successfully built fasttext\n",
            "Installing collected packages: pybind11, fasttext\n",
            "Successfully installed fasttext-0.9.2 pybind11-2.10.3\n"
          ]
        }
      ]
    },
    {
      "cell_type": "markdown",
      "metadata": {
        "id": "Qq-SEzsaxLsG"
      },
      "source": [
        "Download data of russian comments form Odnoklassniki social network"
      ]
    },
    {
      "cell_type": "code",
      "metadata": {
        "id": "5k7tcvztISpy",
        "colab": {
          "base_uri": "https://localhost:8080/"
        },
        "outputId": "93304efd-e1d0-4594-8bd5-d06af7d47a96"
      },
      "source": [
        "!wget https://raw.githubusercontent.com/snv-ds/NLP_course/master/week2/train"
      ],
      "execution_count": 10,
      "outputs": [
        {
          "output_type": "stream",
          "name": "stdout",
          "text": [
            "--2023-01-28 13:49:37--  https://raw.githubusercontent.com/snv-ds/NLP_course/master/week2/train\n",
            "Resolving raw.githubusercontent.com (raw.githubusercontent.com)... 185.199.108.133, 185.199.111.133, 185.199.110.133, ...\n",
            "Connecting to raw.githubusercontent.com (raw.githubusercontent.com)|185.199.108.133|:443... connected.\n",
            "HTTP request sent, awaiting response... 200 OK\n",
            "Length: 24525472 (23M) [text/plain]\n",
            "Saving to: ‘train’\n",
            "\n",
            "train               100%[===================>]  23.39M  --.-KB/s    in 0.06s   \n",
            "\n",
            "2023-01-28 13:49:38 (370 MB/s) - ‘train’ saved [24525472/24525472]\n",
            "\n"
          ]
        }
      ]
    },
    {
      "cell_type": "markdown",
      "metadata": {
        "id": "efxfqn8if3hG"
      },
      "source": [
        "Importing fasttext library to use FastText model implemented there"
      ]
    },
    {
      "cell_type": "code",
      "metadata": {
        "id": "_M0UUTTPOvG_"
      },
      "source": [
        "import fasttext"
      ],
      "execution_count": 11,
      "outputs": []
    },
    {
      "cell_type": "markdown",
      "metadata": {
        "id": "V6Eku6rExWYI"
      },
      "source": [
        "Here we will load data, prepocess each row to get features as OHE vectors and translate target features on russian."
      ]
    },
    {
      "cell_type": "code",
      "metadata": {
        "id": "B9BHjqb1KIfV"
      },
      "source": [
        "parse_labels = ['__label__NORMAL','__label__INSULT','__label__THREAT','__label__OBSCENITY']"
      ],
      "execution_count": 12,
      "outputs": []
    },
    {
      "cell_type": "markdown",
      "metadata": {
        "id": "k6ELh_4xxbE5"
      },
      "source": [
        "Here we will load data, prepocess each row to get features as OHE vectors and translate target features on russian."
      ]
    },
    {
      "cell_type": "code",
      "metadata": {
        "colab": {
          "base_uri": "https://localhost:8080/",
          "height": 0
        },
        "id": "_2C_favhIyib",
        "outputId": "32cb1814-c88d-4c39-fd6a-a4069f0979dc"
      },
      "source": [
        "train = pd.read_csv('train', sep='\\t', names=['id','target','temp1','temp2','comment'], index_col=0)\n",
        "\n",
        "mask = train['comment'].isin(parse_labels) # to cope only with correct rows in data\n",
        "\n",
        "train.loc[mask,'target'] = train[mask]['target'] + ',' + train[mask]['comment']\n",
        "train.loc[mask,'comment'] = np.nan\n",
        "\n",
        "for t in ['temp1','temp2']: # if comment have several labels of classes\n",
        "    mask = train[t].isin(parse_labels)\n",
        "    train.loc[mask,'target'] = train[mask]['target'] + ',' + train[mask][t]\n",
        "    train.loc[mask,t] = np.nan\n",
        "    train.loc[~train[t].isna(),'comment'] = train[~train[t].isna()][t]\n",
        "\n",
        "train[['оскорбление','другое','непростойность','угроза']] = train['target'].str.get_dummies(sep=',')\n",
        "\n",
        "train = train[['другое','оскорбление','непростойность','угроза', 'comment']]\n",
        "train.sample(7)"
      ],
      "execution_count": 13,
      "outputs": [
        {
          "output_type": "execute_result",
          "data": {
            "text/plain": [
              "        другое  оскорбление  непростойность  угроза  \\\n",
              "id                                                    \n",
              "139377       1            0               0       0   \n",
              "157101       1            0               0       0   \n",
              "40981        0            1               0       1   \n",
              "137018       1            0               0       0   \n",
              "203855       1            0               0       0   \n",
              "67989        1            0               0       0   \n",
              "131533       0            1               0       0   \n",
              "\n",
              "                                                  comment  \n",
              "id                                                         \n",
              "139377      наверное как и руина , покупают уголёк в юар?  \n",
              "157101                                    все бесполезно.  \n",
              "40981            соберите своих офицеров и дайте пиздюлей  \n",
              "137018                         это зрение подводит ......  \n",
              "203855          ну...а кули толку-то от ваших классов....  \n",
              "67989   людиии..., любители животных!!!! удочеряйте, у...  \n",
              "131533  о! у нас теперь есть зитц - председатель пизде...  "
            ],
            "text/html": [
              "\n",
              "  <div id=\"df-e444c288-afa7-46b0-be7f-195fc13e8efc\">\n",
              "    <div class=\"colab-df-container\">\n",
              "      <div>\n",
              "<style scoped>\n",
              "    .dataframe tbody tr th:only-of-type {\n",
              "        vertical-align: middle;\n",
              "    }\n",
              "\n",
              "    .dataframe tbody tr th {\n",
              "        vertical-align: top;\n",
              "    }\n",
              "\n",
              "    .dataframe thead th {\n",
              "        text-align: right;\n",
              "    }\n",
              "</style>\n",
              "<table border=\"1\" class=\"dataframe\">\n",
              "  <thead>\n",
              "    <tr style=\"text-align: right;\">\n",
              "      <th></th>\n",
              "      <th>другое</th>\n",
              "      <th>оскорбление</th>\n",
              "      <th>непростойность</th>\n",
              "      <th>угроза</th>\n",
              "      <th>comment</th>\n",
              "    </tr>\n",
              "    <tr>\n",
              "      <th>id</th>\n",
              "      <th></th>\n",
              "      <th></th>\n",
              "      <th></th>\n",
              "      <th></th>\n",
              "      <th></th>\n",
              "    </tr>\n",
              "  </thead>\n",
              "  <tbody>\n",
              "    <tr>\n",
              "      <th>139377</th>\n",
              "      <td>1</td>\n",
              "      <td>0</td>\n",
              "      <td>0</td>\n",
              "      <td>0</td>\n",
              "      <td>наверное как и руина , покупают уголёк в юар?</td>\n",
              "    </tr>\n",
              "    <tr>\n",
              "      <th>157101</th>\n",
              "      <td>1</td>\n",
              "      <td>0</td>\n",
              "      <td>0</td>\n",
              "      <td>0</td>\n",
              "      <td>все бесполезно.</td>\n",
              "    </tr>\n",
              "    <tr>\n",
              "      <th>40981</th>\n",
              "      <td>0</td>\n",
              "      <td>1</td>\n",
              "      <td>0</td>\n",
              "      <td>1</td>\n",
              "      <td>соберите своих офицеров и дайте пиздюлей</td>\n",
              "    </tr>\n",
              "    <tr>\n",
              "      <th>137018</th>\n",
              "      <td>1</td>\n",
              "      <td>0</td>\n",
              "      <td>0</td>\n",
              "      <td>0</td>\n",
              "      <td>это зрение подводит ......</td>\n",
              "    </tr>\n",
              "    <tr>\n",
              "      <th>203855</th>\n",
              "      <td>1</td>\n",
              "      <td>0</td>\n",
              "      <td>0</td>\n",
              "      <td>0</td>\n",
              "      <td>ну...а кули толку-то от ваших классов....</td>\n",
              "    </tr>\n",
              "    <tr>\n",
              "      <th>67989</th>\n",
              "      <td>1</td>\n",
              "      <td>0</td>\n",
              "      <td>0</td>\n",
              "      <td>0</td>\n",
              "      <td>людиии..., любители животных!!!! удочеряйте, у...</td>\n",
              "    </tr>\n",
              "    <tr>\n",
              "      <th>131533</th>\n",
              "      <td>0</td>\n",
              "      <td>1</td>\n",
              "      <td>0</td>\n",
              "      <td>0</td>\n",
              "      <td>о! у нас теперь есть зитц - председатель пизде...</td>\n",
              "    </tr>\n",
              "  </tbody>\n",
              "</table>\n",
              "</div>\n",
              "      <button class=\"colab-df-convert\" onclick=\"convertToInteractive('df-e444c288-afa7-46b0-be7f-195fc13e8efc')\"\n",
              "              title=\"Convert this dataframe to an interactive table.\"\n",
              "              style=\"display:none;\">\n",
              "        \n",
              "  <svg xmlns=\"http://www.w3.org/2000/svg\" height=\"24px\"viewBox=\"0 0 24 24\"\n",
              "       width=\"24px\">\n",
              "    <path d=\"M0 0h24v24H0V0z\" fill=\"none\"/>\n",
              "    <path d=\"M18.56 5.44l.94 2.06.94-2.06 2.06-.94-2.06-.94-.94-2.06-.94 2.06-2.06.94zm-11 1L8.5 8.5l.94-2.06 2.06-.94-2.06-.94L8.5 2.5l-.94 2.06-2.06.94zm10 10l.94 2.06.94-2.06 2.06-.94-2.06-.94-.94-2.06-.94 2.06-2.06.94z\"/><path d=\"M17.41 7.96l-1.37-1.37c-.4-.4-.92-.59-1.43-.59-.52 0-1.04.2-1.43.59L10.3 9.45l-7.72 7.72c-.78.78-.78 2.05 0 2.83L4 21.41c.39.39.9.59 1.41.59.51 0 1.02-.2 1.41-.59l7.78-7.78 2.81-2.81c.8-.78.8-2.07 0-2.86zM5.41 20L4 18.59l7.72-7.72 1.47 1.35L5.41 20z\"/>\n",
              "  </svg>\n",
              "      </button>\n",
              "      \n",
              "  <style>\n",
              "    .colab-df-container {\n",
              "      display:flex;\n",
              "      flex-wrap:wrap;\n",
              "      gap: 12px;\n",
              "    }\n",
              "\n",
              "    .colab-df-convert {\n",
              "      background-color: #E8F0FE;\n",
              "      border: none;\n",
              "      border-radius: 50%;\n",
              "      cursor: pointer;\n",
              "      display: none;\n",
              "      fill: #1967D2;\n",
              "      height: 32px;\n",
              "      padding: 0 0 0 0;\n",
              "      width: 32px;\n",
              "    }\n",
              "\n",
              "    .colab-df-convert:hover {\n",
              "      background-color: #E2EBFA;\n",
              "      box-shadow: 0px 1px 2px rgba(60, 64, 67, 0.3), 0px 1px 3px 1px rgba(60, 64, 67, 0.15);\n",
              "      fill: #174EA6;\n",
              "    }\n",
              "\n",
              "    [theme=dark] .colab-df-convert {\n",
              "      background-color: #3B4455;\n",
              "      fill: #D2E3FC;\n",
              "    }\n",
              "\n",
              "    [theme=dark] .colab-df-convert:hover {\n",
              "      background-color: #434B5C;\n",
              "      box-shadow: 0px 1px 3px 1px rgba(0, 0, 0, 0.15);\n",
              "      filter: drop-shadow(0px 1px 2px rgba(0, 0, 0, 0.3));\n",
              "      fill: #FFFFFF;\n",
              "    }\n",
              "  </style>\n",
              "\n",
              "      <script>\n",
              "        const buttonEl =\n",
              "          document.querySelector('#df-e444c288-afa7-46b0-be7f-195fc13e8efc button.colab-df-convert');\n",
              "        buttonEl.style.display =\n",
              "          google.colab.kernel.accessAllowed ? 'block' : 'none';\n",
              "\n",
              "        async function convertToInteractive(key) {\n",
              "          const element = document.querySelector('#df-e444c288-afa7-46b0-be7f-195fc13e8efc');\n",
              "          const dataTable =\n",
              "            await google.colab.kernel.invokeFunction('convertToInteractive',\n",
              "                                                     [key], {});\n",
              "          if (!dataTable) return;\n",
              "\n",
              "          const docLinkHtml = 'Like what you see? Visit the ' +\n",
              "            '<a target=\"_blank\" href=https://colab.research.google.com/notebooks/data_table.ipynb>data table notebook</a>'\n",
              "            + ' to learn more about interactive tables.';\n",
              "          element.innerHTML = '';\n",
              "          dataTable['output_type'] = 'display_data';\n",
              "          await google.colab.output.renderOutput(dataTable, element);\n",
              "          const docLink = document.createElement('div');\n",
              "          docLink.innerHTML = docLinkHtml;\n",
              "          element.appendChild(docLink);\n",
              "        }\n",
              "      </script>\n",
              "    </div>\n",
              "  </div>\n",
              "  "
            ]
          },
          "metadata": {},
          "execution_count": 13
        }
      ]
    },
    {
      "cell_type": "markdown",
      "metadata": {
        "id": "L2a7QbZSLuKa"
      },
      "source": [
        "#### Task 3\n",
        "Initialize variables for texts and targets from train data. Next time we will process this variables in our language model.<br> This action is very frequent and we want to automate it."
      ]
    },
    {
      "cell_type": "markdown",
      "metadata": {
        "id": "-ysVZoDuxtqd"
      },
      "source": [
        "Each variable will contain np.array values from our train pandas.DataFrame. <br>Numpy is very fast to process, thats why we try to use it more often."
      ]
    },
    {
      "cell_type": "code",
      "metadata": {
        "id": "xcnRvkElKcZD"
      },
      "source": [
        "texts = train['comment'].values\n",
        "targets = train[['другое','оскорбление','непростойность','угроза']].values"
      ],
      "execution_count": 14,
      "outputs": []
    },
    {
      "cell_type": "code",
      "metadata": {
        "id": "VRUj_KhbLic4"
      },
      "source": [
        "assert texts.shape[0] == 148775\n",
        "assert targets.shape[1] == 4\n",
        "assert texts.shape[0] == targets.shape[0]"
      ],
      "execution_count": 15,
      "outputs": []
    },
    {
      "cell_type": "markdown",
      "metadata": {
        "id": "oCWFfKvVNhTt"
      },
      "source": [
        "#### Task 4\n"
      ]
    },
    {
      "cell_type": "markdown",
      "metadata": {
        "id": "h2ejquPMzgzZ"
      },
      "source": [
        "To load data in FastText model we need to correctly represent it. FastText works only with corpus, where every document is splited by `\\n` symbol. When we train model on our data we can then represent each word in it as vector and continue exploring data from mathematical point of view."
      ]
    },
    {
      "cell_type": "markdown",
      "metadata": {
        "id": "xz53ef8LziLH"
      },
      "source": [
        "Create file `messages_unsupervised.txt`, that will contain all messages separeted by the `\\n` symbol. This file we will futher use to train FastText model"
      ]
    },
    {
      "cell_type": "code",
      "metadata": {
        "id": "9D7PvRXgMlY9"
      },
      "source": [
        "with open('messages_unsupervised.txt', 'w+', encoding='utf-8') as messages:\n",
        "    for idx in range(len(texts)):\n",
        "        messages.write(texts[idx]+'\\n')"
      ],
      "execution_count": 16,
      "outputs": []
    },
    {
      "cell_type": "code",
      "metadata": {
        "id": "8WfYJUn4MlSE"
      },
      "source": [
        "import os\n",
        "\n",
        "assert 'messages_unsupervised.txt' in os.listdir('./')"
      ],
      "execution_count": 17,
      "outputs": []
    },
    {
      "cell_type": "markdown",
      "metadata": {
        "id": "nmaFn5EKzpMF"
      },
      "source": [
        "Start training vector representation of words in our data is very simple. We can just pass generated file in method `train_unsupervised` of fasttext library and set some parameters. Fasttext model use ngrams of symbols in words to handle OOV problem. By setting params `minn` and `maxn` we set number of ngrams we will generate. Param `dim` set output dimension of our data."
      ]
    },
    {
      "cell_type": "code",
      "metadata": {
        "id": "wSwekuz7Oipe",
        "colab": {
          "base_uri": "https://localhost:8080/"
        },
        "outputId": "cc0a13d2-1e94-40b9-e982-b8c2881c0f6e"
      },
      "source": [
        "%%time\n",
        "ft_vectors = fasttext.train_unsupervised('messages_unsupervised.txt', minn=3,maxn=5, dim=50)"
      ],
      "execution_count": 18,
      "outputs": [
        {
          "output_type": "stream",
          "name": "stdout",
          "text": [
            "CPU times: user 1min 39s, sys: 758 ms, total: 1min 40s\n",
            "Wall time: 1min 39s\n"
          ]
        }
      ]
    },
    {
      "cell_type": "markdown",
      "metadata": {
        "id": "jreACXRGzsqA"
      },
      "source": [
        "Now we can see most similar vectors in our dataset to given word"
      ]
    },
    {
      "cell_type": "code",
      "metadata": {
        "id": "8Xaypsl-Ozhq",
        "colab": {
          "base_uri": "https://localhost:8080/"
        },
        "outputId": "686cb776-7dae-4b65-a3d1-6eeb25013e9f"
      },
      "source": [
        "ft_vectors.get_nearest_neighbors('овца')"
      ],
      "execution_count": 43,
      "outputs": [
        {
          "output_type": "execute_result",
          "data": {
            "text/plain": [
              "[(0.8838675022125244, 'шлюха'),\n",
              " (0.8797169923782349, 'дырявая'),\n",
              " (0.8708319067955017, 'вонючка'),\n",
              " (0.8698264360427856, 'ебанашка'),\n",
              " (0.8693115711212158, 'вонючая,'),\n",
              " (0.8690147399902344, 'хуесоска'),\n",
              " (0.8688437938690186, 'дура'),\n",
              " (0.8685380220413208, 'обезьяна'),\n",
              " (0.8681235313415527, 'дырка'),\n",
              " (0.8652257919311523, 'ебаная.')]"
            ]
          },
          "metadata": {},
          "execution_count": 43
        }
      ]
    },
    {
      "cell_type": "markdown",
      "metadata": {
        "id": "v7AC35CMP3Q4"
      },
      "source": [
        "Let`s visualize our vectors"
      ]
    },
    {
      "cell_type": "markdown",
      "metadata": {
        "id": "5ajzAKmQzv-W"
      },
      "source": [
        "For visualization we first need to reduce dimension of our data to 2d or 3d, because only this we can illustrate.<br>\n",
        "One of appropriate methods, that we can use to reduce dimensions is TSNE. It is implemented in MulticoreTSNE python library. <br>\n",
        "Another methods that can reduce dimension is:\n",
        "- UMAP (implemeted in umap library)\n",
        "- SVD (implemented in sklearn)\n",
        "- PCA (implemented in sklearn)"
      ]
    },
    {
      "cell_type": "code",
      "metadata": {
        "id": "urq1Qcc5QAnm"
      },
      "source": [
        "from sklearn.pipeline import Pipeline, FeatureUnion\n",
        "from sklearn.base import TransformerMixin, BaseEstimator\n",
        "from sklearn.preprocessing import FunctionTransformer\n",
        "from sklearn.model_selection import train_test_split\n",
        "\n",
        "\n",
        "from sklearn.decomposition import TruncatedSVD\n",
        "from sklearn.manifold import TSNE as TSNE"
      ],
      "execution_count": 47,
      "outputs": []
    },
    {
      "cell_type": "markdown",
      "metadata": {
        "id": "FsUNppz-z2k5"
      },
      "source": [
        "We have so much words in our dataset. Lets take only 3 000 most frequent one, to visualize only them."
      ]
    },
    {
      "cell_type": "code",
      "metadata": {
        "id": "GIIu3_66QAbb",
        "colab": {
          "base_uri": "https://localhost:8080/"
        },
        "outputId": "a45b150b-2e0f-4e26-f8af-9443191c07c1"
      },
      "source": [
        "print(len(ft_vectors.words))\n",
        "top3k = ft_vectors.words[:3000]\n",
        "top3k[:10]"
      ],
      "execution_count": 48,
      "outputs": [
        {
          "output_type": "stream",
          "name": "stdout",
          "text": [
            "30552\n"
          ]
        },
        {
          "output_type": "execute_result",
          "data": {
            "text/plain": [
              "['</s>', 'и', 'не', 'в', 'на', 'а', 'с', 'что', 'это', 'я']"
            ]
          },
          "metadata": {},
          "execution_count": 48
        }
      ]
    },
    {
      "cell_type": "markdown",
      "metadata": {
        "id": "jBZngduqQK-z"
      },
      "source": [
        "#### Task 5"
      ]
    },
    {
      "cell_type": "markdown",
      "metadata": {
        "id": "VHUd0EpCz60d"
      },
      "source": [
        "initialize `top3k_vectors` variable with all vectors, that are in top 3000 for frequency.<br> \n",
        "Result variable will be list of vectors. Each vector present concrete word representation."
      ]
    },
    {
      "cell_type": "code",
      "metadata": {
        "id": "N9x1iDZJQAUG"
      },
      "source": [
        "top3k_vectors = [ft_vectors.get_word_vector(word) for word in top3k]"
      ],
      "execution_count": 49,
      "outputs": []
    },
    {
      "cell_type": "code",
      "metadata": {
        "colab": {
          "base_uri": "https://localhost:8080/"
        },
        "id": "iZ2OK989Qegr",
        "outputId": "86186302-224c-4501-a6c4-234ccb370cf4"
      },
      "source": [
        "%%time\n",
        "tsne_emb = TSNE(n_components=2,\n",
        "                n_iter=2000,\n",
        "                n_jobs=-1,\n",
        "                random_state=42).fit_transform(np.array(top3k_vectors))"
      ],
      "execution_count": 50,
      "outputs": [
        {
          "output_type": "stream",
          "name": "stderr",
          "text": [
            "/usr/local/lib/python3.8/dist-packages/sklearn/manifold/_t_sne.py:780: FutureWarning: The default initialization in TSNE will change from 'random' to 'pca' in 1.2.\n",
            "  warnings.warn(\n",
            "/usr/local/lib/python3.8/dist-packages/sklearn/manifold/_t_sne.py:790: FutureWarning: The default learning rate in TSNE will change from 200.0 to 'auto' in 1.2.\n",
            "  warnings.warn(\n"
          ]
        },
        {
          "output_type": "stream",
          "name": "stdout",
          "text": [
            "CPU times: user 40 s, sys: 267 ms, total: 40.3 s\n",
            "Wall time: 40.1 s\n"
          ]
        }
      ]
    },
    {
      "cell_type": "code",
      "metadata": {
        "id": "pH66cbquQeaI",
        "colab": {
          "base_uri": "https://localhost:8080/",
          "height": 0
        },
        "outputId": "ee19e00e-4dd8-4282-d1fc-d2b996294747"
      },
      "source": [
        "from bokeh.models import ColumnDataSource, LabelSet\n",
        "from bokeh.plotting import figure, show, output_file\n",
        "from bokeh.io import output_notebook\n",
        "\n",
        "output_notebook()\n",
        "\n",
        "p = figure(tools=\"pan,wheel_zoom,reset,save\", title=\"TSNE representation of FastText vectors (top 3k words)\")\n",
        "\n",
        "source = ColumnDataSource(data=dict(x1=tsne_emb[:,0], x2=tsne_emb[:,1], names=top3k))\n",
        "\n",
        "p.scatter(x=\"x1\", y=\"x2\", source=source, size=5)\n",
        "\n",
        "words = LabelSet(x=\"x1\", y=\"x2\", text=\"names\", source=source,\n",
        "                y_offset=6, text_font_size=\"6pt\", \n",
        "                 text_color=\"#555555\", text_align=\"center\")\n",
        "\n",
        "p.add_layout(words)\n",
        "\n",
        "show(p)"
      ],
      "execution_count": 51,
      "outputs": [
        {
          "output_type": "display_data",
          "data": {
            "application/javascript": [
              "\n",
              "(function(root) {\n",
              "  function now() {\n",
              "    return new Date();\n",
              "  }\n",
              "\n",
              "  var force = true;\n",
              "\n",
              "  if (typeof root._bokeh_onload_callbacks === \"undefined\" || force === true) {\n",
              "    root._bokeh_onload_callbacks = [];\n",
              "    root._bokeh_is_loading = undefined;\n",
              "  }\n",
              "\n",
              "  var JS_MIME_TYPE = 'application/javascript';\n",
              "  var HTML_MIME_TYPE = 'text/html';\n",
              "  var EXEC_MIME_TYPE = 'application/vnd.bokehjs_exec.v0+json';\n",
              "  var CLASS_NAME = 'output_bokeh rendered_html';\n",
              "\n",
              "  /**\n",
              "   * Render data to the DOM node\n",
              "   */\n",
              "  function render(props, node) {\n",
              "    var script = document.createElement(\"script\");\n",
              "    node.appendChild(script);\n",
              "  }\n",
              "\n",
              "  /**\n",
              "   * Handle when an output is cleared or removed\n",
              "   */\n",
              "  function handleClearOutput(event, handle) {\n",
              "    var cell = handle.cell;\n",
              "\n",
              "    var id = cell.output_area._bokeh_element_id;\n",
              "    var server_id = cell.output_area._bokeh_server_id;\n",
              "    // Clean up Bokeh references\n",
              "    if (id != null && id in Bokeh.index) {\n",
              "      Bokeh.index[id].model.document.clear();\n",
              "      delete Bokeh.index[id];\n",
              "    }\n",
              "\n",
              "    if (server_id !== undefined) {\n",
              "      // Clean up Bokeh references\n",
              "      var cmd = \"from bokeh.io.state import curstate; print(curstate().uuid_to_server['\" + server_id + \"'].get_sessions()[0].document.roots[0]._id)\";\n",
              "      cell.notebook.kernel.execute(cmd, {\n",
              "        iopub: {\n",
              "          output: function(msg) {\n",
              "            var id = msg.content.text.trim();\n",
              "            if (id in Bokeh.index) {\n",
              "              Bokeh.index[id].model.document.clear();\n",
              "              delete Bokeh.index[id];\n",
              "            }\n",
              "          }\n",
              "        }\n",
              "      });\n",
              "      // Destroy server and session\n",
              "      var cmd = \"import bokeh.io.notebook as ion; ion.destroy_server('\" + server_id + \"')\";\n",
              "      cell.notebook.kernel.execute(cmd);\n",
              "    }\n",
              "  }\n",
              "\n",
              "  /**\n",
              "   * Handle when a new output is added\n",
              "   */\n",
              "  function handleAddOutput(event, handle) {\n",
              "    var output_area = handle.output_area;\n",
              "    var output = handle.output;\n",
              "\n",
              "    // limit handleAddOutput to display_data with EXEC_MIME_TYPE content only\n",
              "    if ((output.output_type != \"display_data\") || (!Object.prototype.hasOwnProperty.call(output.data, EXEC_MIME_TYPE))) {\n",
              "      return\n",
              "    }\n",
              "\n",
              "    var toinsert = output_area.element.find(\".\" + CLASS_NAME.split(' ')[0]);\n",
              "\n",
              "    if (output.metadata[EXEC_MIME_TYPE][\"id\"] !== undefined) {\n",
              "      toinsert[toinsert.length - 1].firstChild.textContent = output.data[JS_MIME_TYPE];\n",
              "      // store reference to embed id on output_area\n",
              "      output_area._bokeh_element_id = output.metadata[EXEC_MIME_TYPE][\"id\"];\n",
              "    }\n",
              "    if (output.metadata[EXEC_MIME_TYPE][\"server_id\"] !== undefined) {\n",
              "      var bk_div = document.createElement(\"div\");\n",
              "      bk_div.innerHTML = output.data[HTML_MIME_TYPE];\n",
              "      var script_attrs = bk_div.children[0].attributes;\n",
              "      for (var i = 0; i < script_attrs.length; i++) {\n",
              "        toinsert[toinsert.length - 1].firstChild.setAttribute(script_attrs[i].name, script_attrs[i].value);\n",
              "        toinsert[toinsert.length - 1].firstChild.textContent = bk_div.children[0].textContent\n",
              "      }\n",
              "      // store reference to server id on output_area\n",
              "      output_area._bokeh_server_id = output.metadata[EXEC_MIME_TYPE][\"server_id\"];\n",
              "    }\n",
              "  }\n",
              "\n",
              "  function register_renderer(events, OutputArea) {\n",
              "\n",
              "    function append_mime(data, metadata, element) {\n",
              "      // create a DOM node to render to\n",
              "      var toinsert = this.create_output_subarea(\n",
              "        metadata,\n",
              "        CLASS_NAME,\n",
              "        EXEC_MIME_TYPE\n",
              "      );\n",
              "      this.keyboard_manager.register_events(toinsert);\n",
              "      // Render to node\n",
              "      var props = {data: data, metadata: metadata[EXEC_MIME_TYPE]};\n",
              "      render(props, toinsert[toinsert.length - 1]);\n",
              "      element.append(toinsert);\n",
              "      return toinsert\n",
              "    }\n",
              "\n",
              "    /* Handle when an output is cleared or removed */\n",
              "    events.on('clear_output.CodeCell', handleClearOutput);\n",
              "    events.on('delete.Cell', handleClearOutput);\n",
              "\n",
              "    /* Handle when a new output is added */\n",
              "    events.on('output_added.OutputArea', handleAddOutput);\n",
              "\n",
              "    /**\n",
              "     * Register the mime type and append_mime function with output_area\n",
              "     */\n",
              "    OutputArea.prototype.register_mime_type(EXEC_MIME_TYPE, append_mime, {\n",
              "      /* Is output safe? */\n",
              "      safe: true,\n",
              "      /* Index of renderer in `output_area.display_order` */\n",
              "      index: 0\n",
              "    });\n",
              "  }\n",
              "\n",
              "  // register the mime type if in Jupyter Notebook environment and previously unregistered\n",
              "  if (root.Jupyter !== undefined) {\n",
              "    var events = require('base/js/events');\n",
              "    var OutputArea = require('notebook/js/outputarea').OutputArea;\n",
              "\n",
              "    if (OutputArea.prototype.mime_types().indexOf(EXEC_MIME_TYPE) == -1) {\n",
              "      register_renderer(events, OutputArea);\n",
              "    }\n",
              "  }\n",
              "\n",
              "  \n",
              "  if (typeof (root._bokeh_timeout) === \"undefined\" || force === true) {\n",
              "    root._bokeh_timeout = Date.now() + 5000;\n",
              "    root._bokeh_failed_load = false;\n",
              "  }\n",
              "\n",
              "  var NB_LOAD_WARNING = {'data': {'text/html':\n",
              "     \"<div style='background-color: #fdd'>\\n\"+\n",
              "     \"<p>\\n\"+\n",
              "     \"BokehJS does not appear to have successfully loaded. If loading BokehJS from CDN, this \\n\"+\n",
              "     \"may be due to a slow or bad network connection. Possible fixes:\\n\"+\n",
              "     \"</p>\\n\"+\n",
              "     \"<ul>\\n\"+\n",
              "     \"<li>re-rerun `output_notebook()` to attempt to load from CDN again, or</li>\\n\"+\n",
              "     \"<li>use INLINE resources instead, as so:</li>\\n\"+\n",
              "     \"</ul>\\n\"+\n",
              "     \"<code>\\n\"+\n",
              "     \"from bokeh.resources import INLINE\\n\"+\n",
              "     \"output_notebook(resources=INLINE)\\n\"+\n",
              "     \"</code>\\n\"+\n",
              "     \"</div>\"}};\n",
              "\n",
              "  function display_loaded() {\n",
              "    var el = document.getElementById(null);\n",
              "    if (el != null) {\n",
              "      el.textContent = \"BokehJS is loading...\";\n",
              "    }\n",
              "    if (root.Bokeh !== undefined) {\n",
              "      if (el != null) {\n",
              "        el.textContent = \"BokehJS \" + root.Bokeh.version + \" successfully loaded.\";\n",
              "      }\n",
              "    } else if (Date.now() < root._bokeh_timeout) {\n",
              "      setTimeout(display_loaded, 100)\n",
              "    }\n",
              "  }\n",
              "\n",
              "\n",
              "  function run_callbacks() {\n",
              "    try {\n",
              "      root._bokeh_onload_callbacks.forEach(function(callback) {\n",
              "        if (callback != null)\n",
              "          callback();\n",
              "      });\n",
              "    } finally {\n",
              "      delete root._bokeh_onload_callbacks\n",
              "    }\n",
              "    console.debug(\"Bokeh: all callbacks have finished\");\n",
              "  }\n",
              "\n",
              "  function load_libs(css_urls, js_urls, callback) {\n",
              "    if (css_urls == null) css_urls = [];\n",
              "    if (js_urls == null) js_urls = [];\n",
              "\n",
              "    root._bokeh_onload_callbacks.push(callback);\n",
              "    if (root._bokeh_is_loading > 0) {\n",
              "      console.debug(\"Bokeh: BokehJS is being loaded, scheduling callback at\", now());\n",
              "      return null;\n",
              "    }\n",
              "    if (js_urls == null || js_urls.length === 0) {\n",
              "      run_callbacks();\n",
              "      return null;\n",
              "    }\n",
              "    console.debug(\"Bokeh: BokehJS not loaded, scheduling load and callback at\", now());\n",
              "    root._bokeh_is_loading = css_urls.length + js_urls.length;\n",
              "\n",
              "    function on_load() {\n",
              "      root._bokeh_is_loading--;\n",
              "      if (root._bokeh_is_loading === 0) {\n",
              "        console.debug(\"Bokeh: all BokehJS libraries/stylesheets loaded\");\n",
              "        run_callbacks()\n",
              "      }\n",
              "    }\n",
              "\n",
              "    function on_error(url) {\n",
              "      console.error(\"failed to load \" + url);\n",
              "    }\n",
              "\n",
              "    for (let i = 0; i < css_urls.length; i++) {\n",
              "      const url = css_urls[i];\n",
              "      const element = document.createElement(\"link\");\n",
              "      element.onload = on_load;\n",
              "      element.onerror = on_error.bind(null, url);\n",
              "      element.rel = \"stylesheet\";\n",
              "      element.type = \"text/css\";\n",
              "      element.href = url;\n",
              "      console.debug(\"Bokeh: injecting link tag for BokehJS stylesheet: \", url);\n",
              "      document.body.appendChild(element);\n",
              "    }\n",
              "\n",
              "    const hashes = {\"https://cdn.bokeh.org/bokeh/release/bokeh-2.3.3.min.js\": \"dM3QQsP+wXdHg42wTqW85BjZQdLNNIXqlPw/BgKoExPmTG7ZLML4EGqLMfqHT6ON\", \"https://cdn.bokeh.org/bokeh/release/bokeh-tables-2.3.3.min.js\": \"8x57I4YuIfu8XyZfFo0XVr2WAT8EK4rh/uDe3wF7YuW2FNUSNEpJbsPaB1nJ2fz2\", \"https://cdn.bokeh.org/bokeh/release/bokeh-widgets-2.3.3.min.js\": \"3QTqdz9LyAm2i0sG5XTePsHec3UHWwVsrOL68SYRoAXsafvfAyqtQ+h440+qIBhS\"};\n",
              "\n",
              "    for (let i = 0; i < js_urls.length; i++) {\n",
              "      const url = js_urls[i];\n",
              "      const element = document.createElement('script');\n",
              "      element.onload = on_load;\n",
              "      element.onerror = on_error.bind(null, url);\n",
              "      element.async = false;\n",
              "      element.src = url;\n",
              "      if (url in hashes) {\n",
              "        element.crossOrigin = \"anonymous\";\n",
              "        element.integrity = \"sha384-\" + hashes[url];\n",
              "      }\n",
              "      console.debug(\"Bokeh: injecting script tag for BokehJS library: \", url);\n",
              "      document.head.appendChild(element);\n",
              "    }\n",
              "  };\n",
              "\n",
              "  function inject_raw_css(css) {\n",
              "    const element = document.createElement(\"style\");\n",
              "    element.appendChild(document.createTextNode(css));\n",
              "    document.body.appendChild(element);\n",
              "  }\n",
              "\n",
              "  \n",
              "  var js_urls = [\"https://cdn.bokeh.org/bokeh/release/bokeh-2.3.3.min.js\", \"https://cdn.bokeh.org/bokeh/release/bokeh-widgets-2.3.3.min.js\", \"https://cdn.bokeh.org/bokeh/release/bokeh-tables-2.3.3.min.js\"];\n",
              "  var css_urls = [];\n",
              "  \n",
              "\n",
              "  var inline_js = [\n",
              "    function(Bokeh) {\n",
              "      Bokeh.set_log_level(\"info\");\n",
              "    },\n",
              "    function(Bokeh) {\n",
              "    \n",
              "    \n",
              "    }\n",
              "  ];\n",
              "\n",
              "  function run_inline_js() {\n",
              "    \n",
              "    if (root.Bokeh !== undefined || force === true) {\n",
              "      \n",
              "    for (var i = 0; i < inline_js.length; i++) {\n",
              "      inline_js[i].call(root, root.Bokeh);\n",
              "    }\n",
              "    } else if (Date.now() < root._bokeh_timeout) {\n",
              "      setTimeout(run_inline_js, 100);\n",
              "    } else if (!root._bokeh_failed_load) {\n",
              "      console.log(\"Bokeh: BokehJS failed to load within specified timeout.\");\n",
              "      root._bokeh_failed_load = true;\n",
              "    } else if (force !== true) {\n",
              "      var cell = $(document.getElementById(null)).parents('.cell').data().cell;\n",
              "      cell.output_area.append_execute_result(NB_LOAD_WARNING)\n",
              "    }\n",
              "\n",
              "  }\n",
              "\n",
              "  if (root._bokeh_is_loading === 0) {\n",
              "    console.debug(\"Bokeh: BokehJS loaded, going straight to plotting\");\n",
              "    run_inline_js();\n",
              "  } else {\n",
              "    load_libs(css_urls, js_urls, function() {\n",
              "      console.debug(\"Bokeh: BokehJS plotting callback run at\", now());\n",
              "      run_inline_js();\n",
              "    });\n",
              "  }\n",
              "}(window));"
            ],
            "application/vnd.bokehjs_load.v0+json": "\n(function(root) {\n  function now() {\n    return new Date();\n  }\n\n  var force = true;\n\n  if (typeof root._bokeh_onload_callbacks === \"undefined\" || force === true) {\n    root._bokeh_onload_callbacks = [];\n    root._bokeh_is_loading = undefined;\n  }\n\n  \n\n  \n  if (typeof (root._bokeh_timeout) === \"undefined\" || force === true) {\n    root._bokeh_timeout = Date.now() + 5000;\n    root._bokeh_failed_load = false;\n  }\n\n  var NB_LOAD_WARNING = {'data': {'text/html':\n     \"<div style='background-color: #fdd'>\\n\"+\n     \"<p>\\n\"+\n     \"BokehJS does not appear to have successfully loaded. If loading BokehJS from CDN, this \\n\"+\n     \"may be due to a slow or bad network connection. Possible fixes:\\n\"+\n     \"</p>\\n\"+\n     \"<ul>\\n\"+\n     \"<li>re-rerun `output_notebook()` to attempt to load from CDN again, or</li>\\n\"+\n     \"<li>use INLINE resources instead, as so:</li>\\n\"+\n     \"</ul>\\n\"+\n     \"<code>\\n\"+\n     \"from bokeh.resources import INLINE\\n\"+\n     \"output_notebook(resources=INLINE)\\n\"+\n     \"</code>\\n\"+\n     \"</div>\"}};\n\n  function display_loaded() {\n    var el = document.getElementById(null);\n    if (el != null) {\n      el.textContent = \"BokehJS is loading...\";\n    }\n    if (root.Bokeh !== undefined) {\n      if (el != null) {\n        el.textContent = \"BokehJS \" + root.Bokeh.version + \" successfully loaded.\";\n      }\n    } else if (Date.now() < root._bokeh_timeout) {\n      setTimeout(display_loaded, 100)\n    }\n  }\n\n\n  function run_callbacks() {\n    try {\n      root._bokeh_onload_callbacks.forEach(function(callback) {\n        if (callback != null)\n          callback();\n      });\n    } finally {\n      delete root._bokeh_onload_callbacks\n    }\n    console.debug(\"Bokeh: all callbacks have finished\");\n  }\n\n  function load_libs(css_urls, js_urls, callback) {\n    if (css_urls == null) css_urls = [];\n    if (js_urls == null) js_urls = [];\n\n    root._bokeh_onload_callbacks.push(callback);\n    if (root._bokeh_is_loading > 0) {\n      console.debug(\"Bokeh: BokehJS is being loaded, scheduling callback at\", now());\n      return null;\n    }\n    if (js_urls == null || js_urls.length === 0) {\n      run_callbacks();\n      return null;\n    }\n    console.debug(\"Bokeh: BokehJS not loaded, scheduling load and callback at\", now());\n    root._bokeh_is_loading = css_urls.length + js_urls.length;\n\n    function on_load() {\n      root._bokeh_is_loading--;\n      if (root._bokeh_is_loading === 0) {\n        console.debug(\"Bokeh: all BokehJS libraries/stylesheets loaded\");\n        run_callbacks()\n      }\n    }\n\n    function on_error(url) {\n      console.error(\"failed to load \" + url);\n    }\n\n    for (let i = 0; i < css_urls.length; i++) {\n      const url = css_urls[i];\n      const element = document.createElement(\"link\");\n      element.onload = on_load;\n      element.onerror = on_error.bind(null, url);\n      element.rel = \"stylesheet\";\n      element.type = \"text/css\";\n      element.href = url;\n      console.debug(\"Bokeh: injecting link tag for BokehJS stylesheet: \", url);\n      document.body.appendChild(element);\n    }\n\n    const hashes = {\"https://cdn.bokeh.org/bokeh/release/bokeh-2.3.3.min.js\": \"dM3QQsP+wXdHg42wTqW85BjZQdLNNIXqlPw/BgKoExPmTG7ZLML4EGqLMfqHT6ON\", \"https://cdn.bokeh.org/bokeh/release/bokeh-tables-2.3.3.min.js\": \"8x57I4YuIfu8XyZfFo0XVr2WAT8EK4rh/uDe3wF7YuW2FNUSNEpJbsPaB1nJ2fz2\", \"https://cdn.bokeh.org/bokeh/release/bokeh-widgets-2.3.3.min.js\": \"3QTqdz9LyAm2i0sG5XTePsHec3UHWwVsrOL68SYRoAXsafvfAyqtQ+h440+qIBhS\"};\n\n    for (let i = 0; i < js_urls.length; i++) {\n      const url = js_urls[i];\n      const element = document.createElement('script');\n      element.onload = on_load;\n      element.onerror = on_error.bind(null, url);\n      element.async = false;\n      element.src = url;\n      if (url in hashes) {\n        element.crossOrigin = \"anonymous\";\n        element.integrity = \"sha384-\" + hashes[url];\n      }\n      console.debug(\"Bokeh: injecting script tag for BokehJS library: \", url);\n      document.head.appendChild(element);\n    }\n  };\n\n  function inject_raw_css(css) {\n    const element = document.createElement(\"style\");\n    element.appendChild(document.createTextNode(css));\n    document.body.appendChild(element);\n  }\n\n  \n  var js_urls = [\"https://cdn.bokeh.org/bokeh/release/bokeh-2.3.3.min.js\", \"https://cdn.bokeh.org/bokeh/release/bokeh-widgets-2.3.3.min.js\", \"https://cdn.bokeh.org/bokeh/release/bokeh-tables-2.3.3.min.js\"];\n  var css_urls = [];\n  \n\n  var inline_js = [\n    function(Bokeh) {\n      Bokeh.set_log_level(\"info\");\n    },\n    function(Bokeh) {\n    \n    \n    }\n  ];\n\n  function run_inline_js() {\n    \n    if (root.Bokeh !== undefined || force === true) {\n      \n    for (var i = 0; i < inline_js.length; i++) {\n      inline_js[i].call(root, root.Bokeh);\n    }\n    } else if (Date.now() < root._bokeh_timeout) {\n      setTimeout(run_inline_js, 100);\n    } else if (!root._bokeh_failed_load) {\n      console.log(\"Bokeh: BokehJS failed to load within specified timeout.\");\n      root._bokeh_failed_load = true;\n    } else if (force !== true) {\n      var cell = $(document.getElementById(null)).parents('.cell').data().cell;\n      cell.output_area.append_execute_result(NB_LOAD_WARNING)\n    }\n\n  }\n\n  if (root._bokeh_is_loading === 0) {\n    console.debug(\"Bokeh: BokehJS loaded, going straight to plotting\");\n    run_inline_js();\n  } else {\n    load_libs(css_urls, js_urls, function() {\n      console.debug(\"Bokeh: BokehJS plotting callback run at\", now());\n      run_inline_js();\n    });\n  }\n}(window));"
          },
          "metadata": {}
        },
        {
          "output_type": "display_data",
          "data": {
            "text/html": [
              "\n",
              "\n",
              "\n",
              "\n",
              "\n",
              "\n",
              "  <div class=\"bk-root\" id=\"59e18c48-d8cf-4904-9f6d-b69feaaf3a1d\" data-root-id=\"1002\"></div>\n"
            ]
          },
          "metadata": {}
        },
        {
          "output_type": "display_data",
          "data": {
            "application/javascript": [
              "(function(root) {\n",
              "  function embed_document(root) {\n",
              "    \n",
              "  var docs_json = {\"eaaf7c9b-f003-4d49-adb9-50a1d0607973\":{\"defs\":[],\"roots\":{\"references\":[{\"attributes\":{\"below\":[{\"id\":\"1013\"}],\"center\":[{\"id\":\"1016\"},{\"id\":\"1020\"},{\"id\":\"1036\"}],\"left\":[{\"id\":\"1017\"}],\"renderers\":[{\"id\":\"1034\"}],\"title\":{\"id\":\"1003\"},\"toolbar\":{\"id\":\"1025\"},\"x_range\":{\"id\":\"1005\"},\"x_scale\":{\"id\":\"1009\"},\"y_range\":{\"id\":\"1007\"},\"y_scale\":{\"id\":\"1011\"}},\"id\":\"1002\",\"subtype\":\"Figure\",\"type\":\"Plot\"},{\"attributes\":{},\"id\":\"1022\",\"type\":\"WheelZoomTool\"},{\"attributes\":{},\"id\":\"1021\",\"type\":\"PanTool\"},{\"attributes\":{},\"id\":\"1023\",\"type\":\"ResetTool\"},{\"attributes\":{},\"id\":\"1024\",\"type\":\"SaveTool\"},{\"attributes\":{},\"id\":\"1046\",\"type\":\"UnionRenderers\"},{\"attributes\":{},\"id\":\"1040\",\"type\":\"BasicTickFormatter\"},{\"attributes\":{},\"id\":\"1045\",\"type\":\"Selection\"},{\"attributes\":{},\"id\":\"1007\",\"type\":\"DataRange1d\"},{\"attributes\":{},\"id\":\"1039\",\"type\":\"AllLabels\"},{\"attributes\":{\"text\":\"TSNE representation of FastText vectors (top 3k words)\"},\"id\":\"1003\",\"type\":\"Title\"},{\"attributes\":{\"formatter\":{\"id\":\"1040\"},\"major_label_policy\":{\"id\":\"1039\"},\"ticker\":{\"id\":\"1014\"}},\"id\":\"1013\",\"type\":\"LinearAxis\"},{\"attributes\":{\"data_source\":{\"id\":\"1030\"},\"glyph\":{\"id\":\"1032\"},\"hover_glyph\":null,\"muted_glyph\":null,\"nonselection_glyph\":{\"id\":\"1033\"},\"view\":{\"id\":\"1035\"}},\"id\":\"1034\",\"type\":\"GlyphRenderer\"},{\"attributes\":{\"data\":{\"names\":[\"</s>\",\"\\u0438\",\"\\u043d\\u0435\",\"\\u0432\",\"\\u043d\\u0430\",\"\\u0430\",\"\\u0441\",\"\\u0447\\u0442\\u043e\",\"\\u044d\\u0442\\u043e\",\"\\u044f\",\"\\u043a\\u0430\\u043a\",\"\\u0443\",\"\\u0437\\u0430\",\"\\u043f\\u043e\",\"\\u0432\\u0441\\u0435\",\"\\u0442\\u0430\\u043a\",\",\",\"\\u0442\\u043e\",\"\\u0442\\u044b\",\"\\u0431\\u044b\",\"\\u0432\\u044b\",\"-\",\"\\u043e\",\"\\u0442\\u043e\\u043b\\u044c\\u043a\\u043e\",\"\\u043e\\u0442\",\"\\u043e\\u043d\",\"\\u043d\\u043e\",\"\\u043a\",\"\\u0435\\u0441\\u043b\\u0438\",\"\\u0436\\u0435\",\"\\u043d\\u0430\\u0434\\u043e\",\"\\u0432\\u043e\\u0442\",\"\\u043e\\u0447\\u0435\\u043d\\u044c\",\"\\u0434\\u0430\",\"\\u0434\\u043b\\u044f\",\"\\u043a\\u0442\\u043e\",\".\",\"\\u0443\\u0436\\u0435\",\"\\u0435\\u0441\\u0442\\u044c\",\"\\u043e\\u043d\\u0438\",\"\\u0438\\u0437\",\"\\u0435\\u0433\\u043e\",\"\\u043c\\u043d\\u0435\",\"\\u0438\\u043b\\u0438\",\"\\u043c\\u044b\",\"\\u043c\\u043e\\u0436\\u043d\\u043e\",\"\\u0432\\u0430\\u043c\",\"\\u0438\\u0445\",\"\\u0431\\u0443\\u0434\\u0435\\u0442\",\"\\u043c\\u0435\\u043d\\u044f\",\"\\u0434\\u043e\",\"\\u043d\\u0430\\u0441\",\"\\u0433\\u0434\\u0435\",\"\\u0431\\u044b\\u043b\\u043e\",\"\\u043f\\u0440\\u043e\\u0441\\u0442\\u043e\",\"\\u043a\\u043e\\u0433\\u0434\\u0430\",\"\\u0435\\u0449\\u0451\",\"\\u0442\\u043e\\u0436\\u0435\",\"\\u043d\\u0435\\u0442\",\"!\",\"\\u0432\\u0430\\u0441\",\"\\u0442\\u0430\\u043c\",\"\\u043d\\u0443\",\"\\u0432\\u0441\\u0451\",\"\\u0442\\u0435\\u0431\\u044f\",\"\\u0431\\u0435\\u0437\",\"\\u043d\\u0438\",\"\\u043e\\u043d\\u0430\",\"\\u0432\\u0441\\u0435\\u0445\",\"\\u0442\\u0435\\u0431\\u0435\",\"\\u043c\\u043e\\u0436\\u0435\\u0442\",\"\\u0441\\u043a\\u043e\\u043b\\u044c\\u043a\\u043e\",\"\\u0432\\u0441\\u0435\\u043c\",\"\\u0435\\u0449\\u0435\",\"\\u0434\\u0430\\u0436\\u0435\",\"\\u0441\\u0435\\u0439\\u0447\\u0430\\u0441\",\"\\u0431\",\"\\u0441\\u043f\\u0430\\u0441\\u0438\\u0431\\u043e\",\"\\u0447\\u0442\\u043e\\u0431\\u044b\",\"\\u0442\\u0430\\u043a\\u043e\\u0439\",\"\\u043f\\u0443\\u0441\\u0442\\u044c\",\"\\u0447\\u0435\\u043c\",\"\\u0442\\u0430\\u043a\\u0438\\u0445\",\"\\u0442\\u0430\\u043a\\u0438\\u0435\",\"\\u043b\\u0435\\u0442\",\"\\u0438\\u043c\",\"\\u043a\\u0430\\u043a\\u043e\\u0439\",\"\\u043b\\u044e\\u0434\\u0438\",\"\\u043d\\u0443\\u0436\\u043d\\u043e\",\"?\",\"\\u0437\\u0434\\u043e\\u0440\\u043e\\u0432\\u044c\\u044f\",\"\\u0432\\u043e\",\"\\u0431\\u044b\\u043b\",\"\\u044d\\u0442\\u043e\\u0442\",\"\\u044d\\u0442\\u043e\\u0433\\u043e\",\"\\u0435\\u043c\\u0443\",\"\\u0441\\u043e\",\"\\u0432\\u0441\\u0435\\u0433\\u0434\\u0430\",\"\\u0431\\u043e\\u043b\\u044c\\u0448\\u0435\",\"\\u0441\\u0435\\u0431\\u044f\",\"\\u043f\\u043e\\u0442\\u043e\\u043c\",\"\\u0432\\u0440\\u0435\\u043c\\u044f\",\"\\u043f\\u0440\\u0438\",\"\\u0440\\u0430\\u0437\",\"\\u043f\\u0440\\u043e\",\"\\u043f\\u043e\\u0434\",\"\\u043f\\u043e\\u0447\\u0435\\u043c\\u0443\",\"\\u044d\\u0442\\u0438\",\"\\u043d\\u0430\\u043c\",\"\\u0431\\u044b\\u0442\\u044c\",\"\\u0442\\u0443\\u0442\",\"\\u043a\\u0430\\u043a\\u0430\\u044f\",\"\\u043c\\u043d\\u043e\\u0433\\u043e\",\"\\u043d\\u0438\\u0447\\u0435\\u0433\\u043e\",\"\\u043d\\u0438\\u0445\",\"\\u0431\\u044b\\u043b\\u0438\",\"\\u0431\\u044b\\u043b\\u0430\",\"\\u0432\\u043e\\u043e\\u0431\\u0449\\u0435\",\"\\u044d\\u0442\\u0443\",\"\\u043b\\u0443\\u0447\\u0448\\u0435\",\"\\u043f\\u043e\\u0441\\u043b\\u0435\",\"!!!\",\"\\u0434\\u0435\\u043d\\u044c\",\"\\u0431\\u043e\\u0433\",\"\\u043b\\u044e\\u0434\\u0435\\u0439\",\"\\u0442\\u0435\\u043f\\u0435\\u0440\\u044c\",\"\\u0447\\u0442\\u043e\\u0431\",\"\\u043e\\u043e\",\"\\u043e\\u0434\\u0438\\u043d\",\"\\u0447\\u0435\\u0433\\u043e\",\"\\u0441\\u0435\\u0431\\u0435\",\"\\u0442\\u0430\\u043a\\u043e\\u0435\",\"\\u044d\\u0442\\u0438\\u0445\",\"\\u0431\\u0443\\u0434\\u0443\\u0442\",\"\\u044d\\u0442\\u043e\\u043c\",\"\\u0437\",\"\\u044d\\u0442\\u043e\\u0439\",\"\\u0435\\u0451\",\"\\u0444\\u043e\\u0442\\u043e\",\"\\u0436\\u0438\\u0437\\u043d\\u044c\",\"\\u0442\\u043e\\u0433\\u0434\\u0430\",\"\\u0445\\u043e\\u0440\\u043e\\u0448\\u043e\",\"\\u043a\\u0430\\u043a\\u0438\\u0435\",\"\\u0440\\u043e\\u0441\\u0441\\u0438\\u0438\",\"\\u043a\\u043e\\u0433\\u043e\",\"\\u0435\\u0435\",\"2\",\"\\u0445\\u043e\\u0442\\u044c\",\"\\u0447\",\"\\u0442\\u0430\\u043a\\u0430\\u044f\",\"\\u043f\\u043e\\u043a\\u0430\",\":d\",\"\\u043c\\u043e\\u0439\",\"\\u0437\\u0430\\u0447\\u0435\\u043c\",\"\\u0436\\u0438\\u0437\\u043d\\u0438\",\"\\u043a\\u0443\\u0434\\u0430\",\"\\u0434\\u0435\\u043d\\u044c\\u0433\\u0438\",\"\\u0434\\u0435\\u0442\\u0435\\u0439\",\"\\u043d\\u0430\\u0440\\u043e\\u0434\",\"\\u0441\\u0430\\u043c\",\"\\u043a\\u043e\\u0442\\u043e\\u0440\\u044b\\u0435\",\"\\u0435\\u0439\",\"\\u0447\\u0435\\u0440\\u0435\\u0437\",\"\\u0447\\u0435\\u043b\\u043e\\u0432\\u0435\\u043a\",\"\\u0432\\u0435\\u0434\\u044c\",\"\\u043d\\u0435\\u0433\\u043e\",\"\\u0432\\u0441\\u0435\\u0433\\u043e\",\"\\u0441\\u0435\\u0433\\u043e\\u0434\\u043d\\u044f\",\"\\u0441\\u0432\\u043e\\u044e\",\"\\u0434\\u0430\\u0439\",\"\\u0434\\u043e\\u0431\\u0440\\u044b\\u0439\",\"\\u0441\\u0440\\u0430\\u0437\\u0443\",\"\\u043e\\u0431\",\"\\u043a\\u0430\\u0436\\u0434\\u044b\\u0439\",\"\\u043b\\u0438\",\"\\u044d\\u0442\\u0430\",\"...\",\"\\u0445\\u043e\\u0447\\u0443\",\"\\u043a\\u043e\\u043c\\u0443\",\"\\u0437\\u0434\\u0435\\u0441\\u044c\",\"\\u043d\\u0438\\u043a\\u0442\\u043e\",\"\\u0432\\u0441\\u044e\",\"\\u0441\\u0447\\u0430\\u0441\\u0442\\u044c\\u044f\",\"\\u0441\\u0432\\u043e\\u0438\",\"\\u0441\\u0432\\u043e\\u0438\\u0445\",\"\\u043e\\u043f\\u0435\\u0440\\u0430\\u0446\\u0438\\u0438\",\"\\u0434\\u0430\\u0432\\u043d\\u043e\",\"\\u0441\\u0430\\u043c\\u0438\",\"\\u0441\\u0432\\u043e\\u0435\\u0439\",\"3\",\"\\u0436\\u0438\\u0442\\u044c\",\"\\ud83d\\udc4d\",\"\\u0434\\u0435\\u0442\\u0438\",\"\\u0441\\u0442\\u043e\\u0438\\u0442\",\"\\u0441\\u0432\\u043e\\u0439\",\"\\u0433\\u043e\\u0434\\u0430\",\"\\u0442\\u043e\\u0447\\u043d\\u043e\",\"\\u043d\\u0430\\u0448\\u0438\",\"\\u043a\\u043e\\u043d\\u0435\\u0447\\u043d\\u043e\",\"1\",\"\\u043d\\u043e\\u043c\\u0435\\u0440\",\"\\u0442\\u0430\\u043a\\u0443\\u044e\",\"\\u0441\\u043e\\u0432\\u0441\\u0435\\u043c\",\"\\u0434\\u0430,\",\"\\u044d\\u0442\\u0438\\u043c\",\"\\u043f\\u043e\\u0442\\u043e\\u043c\\u0443\",\"\\u043c\\u043e\\u0433\\u0443\",\"\\u043c\\u043e\\u044f\",\"\\u0445\\u0443\\u0439\",\"\\u0441\\u0443\\u043a\\u0430\",\"\\u043f\\u043e\\u0436\\u0430\\u043b\\u0443\\u0439\\u0441\\u0442\\u0430\",\"\\u043f\\u0440\\u0438\\u0432\\u0435\\u0442\",\"\\u0442\\u0435\\u043c\",\"10\",\"\\u043f\\u0443\\u0442\\u0438\\u043d\",\"\\u0440\\u0443\\u043a\\u0438\",\"\\u0442\\u043e\\u0433\\u043e\",\"\\u043d\\u0438\\u043a\\u043e\\u0433\\u0434\\u0430\",\"\\u0442\\u0430\\u043a\\u043e\\u0433\\u043e\",\"\\u043c\\u043e\\u0438\",\"\\u0434\\u0432\\u0430\",\"\\u0434\\u043d\\u0435\\u043c\",\"5\",\"\\u0446\\u0435\\u043d\\u0430\",\"\\u0441\\u0430\\u043c\\u0430\",\"\\u0443\\u0436\",\"\\u0440\\u043e\\u0436\\u0434\\u0435\\u043d\\u0438\\u044f\",\"\\ud83d\\ude02\",\"\\u0440\\u0443\\u0431\",\"\\u043f\\u0440\\u0430\\u0432\\u0438\\u043b\\u044c\\u043d\\u043e\",\"\\u0434\\u043d\\u0451\\u043c\",\"\\u043c\\u043e\\u043b\\u043e\\u0434\\u0435\\u0446\",\"\\u0437\\u043d\\u0430\\u0447\\u0438\\u0442\",\"\\u0434\\u0435\\u043b\\u0430\\u0442\\u044c\",\"\\u0442\\u0435\",\"\\u0434\\u043e\\u043c\\u0430\",\"\\u043e\\u043f\\u044f\\u0442\\u044c\",\"\\u0432\\u0435\\u0441\\u044c\",\"\\u043a\\u043b\\u0430\\u0441\\u0441\",\"\\u0442\\u0432\\u0430\\u0440\\u044c\",\"\\u043a\\u043e\\u0442\\u043e\\u0440\\u044b\\u0439\",\"\\u0445\\u043e\\u0447\\u0435\\u0442\\u0441\\u044f\",\":(\",\"\\u043d\\u0430\\u0432\\u0435\\u0440\\u043d\\u043e\\u0435\",\"\\u0445\\u043e\\u0442\\u044f\",\"\\u0431\\u043e\\u043b\\u0435\\u0435\",\"\\u043c\\u0435\\u0441\\u0442\\u043e\",\"\\u0441\\u0432\\u043e\\u0438\\u043c\",\"\\u0442\\u043e\\u0442\",\"\\u0432\\u043c\\u0435\\u0441\\u0442\\u0435\",\"\\u043c\\u043e\\u0433\\u0443\\u0442\",\"\\u043d\\u0430\\u0448\",\"\\u0432\\u0441\\u044f\",\"\\u043e\\u0434\\u043d\\u0430\",\"\\u0442\\u0430\\u043a\\u0438\\u043c\",\"\\u043a\\u0430\\u0440\\u0442\\u044b\",\"\\u0441\\u0442\\u043e\\u043b\\u044c\\u043a\\u043e\",\"\\u0433\\u043e\\u0434\",\"\\u0440\\u0430\\u043d\\u044c\\u0448\\u0435\",\"\\u043d\\u0435\\u0442.\",\"\\u0441\\u0430\\u043c\\u043e\\u0435\",\"\\u043f\\u0440\\u043e\\u0442\\u0438\\u0432\",\"\\u0437\\u0434\\u0440\\u0430\\u0432\\u0441\\u0442\\u0432\\u0443\\u0439\\u0442\\u0435\",\"\\u0441\\u043a\\u043e\\u0440\\u043e\",\"\\u043d\\u0443\\u0436\\u043d\\u0430\",\"\\u0437\\u043d\\u0430\\u044e\",\"\\u0432\\u0430\\u043c\\u0438\",\"\\u0433\\u043b\\u0430\\u0432\\u043d\\u043e\\u0435\",\"\\u0438\\u043c\\u0435\\u043d\\u043d\\u043e\",\"\\u0442\\u0440\\u0438\",\"\\u043f\\u0438\\u0434\\u043e\\u0440\",\"\\u043d\\u0430\\u0448\\u0435\\u0439\",\"\\u043b\\u044e\\u0431\\u043b\\u044e\",\"\\u0441\\u0434\\u0435\\u043b\\u0430\\u0442\\u044c\",\"4\",\"\\u043d\\u0435\\u0442,\",\":-d\",\"\\u043f\\u0435\\u0440\\u0435\\u0434\",\"\\u0441\\u0432\\u043e\\u0435\\u0433\\u043e\",\"\\u0440\\u043e\\u0441\\u0441\\u0438\\u044f\",\",\\u0430\",\"\\u0432\\u0430\\u0448\",\"\\u043c\\u0430\\u043b\\u043e\",\"\\u0434\\u0440\\u0443\\u0433\",\"\\u044d\\u0442\\u043e\\u043c\\u0443\",\"\\u0434\\u043e\\u043c\",\"\\u0431\\u0443\\u0434\\u0435\\u043c\",\"\\u043e\\u0434\\u043d\\u043e\",\"\\u043d\\u0430\\u0434\",\"\\u043c\\u0440\\u0430\\u0437\\u044c\",\"\\u043f\\u043e\\u044d\\u0442\\u043e\\u043c\\u0443\",\"\\u0441\\u043b\\u043e\\u0432\\u0430\",\"\\u0442\\u0443\\u0434\\u0430\",\"\\u0436\\u0435\\u043b\\u0430\\u044e\",\"\\u0443\\u0440\",\"\\u0434\\u0435\\u043d\\u0435\\u0433\",\"\\u0437\\u0434\\u0440\\u0430\\u0432\\u0441\\u0442\\u0432\\u0443\\u0439\\u0442\\u0435,\",\"\\u0445\\u043e\\u0440\\u043e\\u0448\\u0438\\u0439\",\"\\u0440\\u044f\\u0434\\u043e\\u043c\",\"\\u0447\\u0435\\u043b\\u043e\\u0432\\u0435\\u043a\\u0430\",\"\\u0433\\u043e\\u0434\\u0443\",\"\\u0442\\u043e\\u043c\",\"\\u043d\\u0435\\u043b\\u044c\\u0437\\u044f\",\"\\u043e\\u0434\\u043d\\u043e\\u0433\\u043e\",\"\\u0442\\u043e,\",\"\\u0434\\u043e\\u043b\\u0436\\u043d\\u044b\",\"\\u0432\\u0430\\u0448\\u0438\",\"\\u0432\\u0441\\u0435\\u0439\",\"\\u0440\\u0430\\u0441\\u0441\\u0442\\u0440\\u0435\\u043b\\u044f\\u0442\\u044c\",\"\\u043f\\u0430\\u043c\\u044f\\u0442\\u044c\",\"\\u0447\\u0442\\u043e-\\u0442\\u043e\",\"\\u0434\\u0443\\u043c\\u0430\\u044e\",\"\\u0431\\u0443\\u0434\\u0443\",\",\\u0447\\u0442\\u043e\",\"\\u0434\\u043e\\u0431\\u0440\\u043e\\u0435\",\"\\u043f\\u043e\\u0440\\u0430\",\"\\u0436\",\"\\u043c\\u0430\\u043c\\u0430\",\"\\u0438\\u043d\\u0442\\u0435\\u0440\\u0435\\u0441\\u043d\\u043e\",\"\\u0441\\u0441\\u0441\\u0440\",\"\\u0445\",\"\\u0441\\u0430\\u043c\\u044b\\u0439\",\"\\u0434\\u043e\\u043b\\u0436\\u0435\\u043d\",\"\\u0436\\u043e\\u043f\\u0443\",\"\\u043a\\u0440\\u043e\\u043c\\u0435\",\"(\",\"\\u0442\\u0435\\u0445\",\"\\u043f\\u0440\\u0430\\u0432\\u0434\\u0430\",\"\\u0441\\u0443\\u043f\\u0435\\u0440\",\"\\u043d\\u0430\\u0440\\u043e\\u0434\\u0430\",\"\\u043c\\u0438\\u0440\",\"\\u0434\\u0430\\u043b\\u044c\\u0448\\u0435\",\"\\u0440\\u0430\\u0432\\u043d\\u043e\",\"\\u043e\\u0432\",\"\\u0438\\u0434\\u0438\",\"\\u043f\\u043e\\u0440\",\"\\u0434\\u0440\\u0443\\u0437\\u044c\\u044f\",\"\\u043d\\u0430\\u0448\\u0438\\u0445\",\"\\u043f\\u043e\\u0437\\u0434\\u0440\\u0430\\u0432\\u043b\\u044f\\u044e\",\"\\u0434\\u043d\\u044f\",\"\\u043a\\u0430\\u043a\\u043e\\u0435\",\"20\",\"\\u0441\\u0442\\u0440\\u0430\\u043d\\u0435\",\"\\u0431\\u043e\\u043b\\u044c\\u0448\\u043e\\u0435\",\"\\u0441\\u0432\\u043e\\u0435\",\"\\u0441\\u0431\\u0435\\u0440\\u0431\\u0430\\u043d\\u043a\",\"\\u043c\\u043e\\u0435\\u0439\",\"\\u0442\\u0432\\u043e\\u0439\",\"\\u0434\\u0435\\u0439\\u0441\\u0442\\u0432\\u0438\\u0442\\u0435\\u043b\\u044c\\u043d\\u043e\",\"\\u0432\\u0438\\u0434\\u043d\\u043e\",\"\\u043b\\u0438\\u0448\\u044c\",\"\\u0443\\u0434\\u0430\\u0447\\u0438\",\"\\u043c\\u043d\\u043e\\u0433\\u0438\\u0435\",\"\\u0442\\u0432\\u0430\\u0440\\u0438\",\"\\u043d\\u0443\\u0436\\u0435\\u043d\",\"\\u0432\\u043b\\u0430\\u0441\\u0442\\u0438\",\"\\u043f\\u0435\\u0440\\u0432\\u044b\\u0439\",\"\\u0436\\u0430\\u043b\\u044c\",\"\\u0436\\u0438\\u0432\\u0443\\u0442\",\"\\u043e\\u043d\\u043e\",\"\\u0434\\u0440\\u0443\\u0433\\u0438\\u0445\",\"\\u0442\\u0430\\u043a\\u0436\\u0435\",\"\\u043b\\u044e\\u0431\\u043e\\u0432\\u044c\",\"\\u043d\\u0438\\u0431\\u0443\\u0434\\u044c\",\"\\u0445\\u043e\\u0442\\u044f\\u0442\",\"\\u043f\\u0443\\u0442\\u0438\\u043d\\u0430\",\"\\u0441\\u0432\\u043e\\u0438\\u043c\\u0438\",\"\\u043a\\u0440\\u0430\\u0441\\u0438\\u0432\\u043e\",\"\\u043b\\u044e\\u0434\\u044f\\u043c\",\"\\u043e\\u0442\\u043a\\u0443\\u0434\\u0430\",\"\\u0441\\u0438\\u0445\",\"\\u0437\\u043d\\u0430\\u0435\\u0442\",\"\\u0432\\u0435\\u0449\\u0438\",\"\\u043d\\u0438\\u043c\",\"\\u0445\\u0432\\u0430\\u0442\\u0430\\u0435\\u0442\",\"\\u043e\\u0434\\u043d\\u0438\",\"\\u043e\\u0434\\u043d\\u043e\\u0439\",\"\\u0430\\u0432\\u0433\\u0443\\u0441\\u0442\\u0430\",\"\\u043d\\u0443\\u0436\\u043d\\u044b\",\"\\u043a\\u0440\\u0430\\u0441\\u0438\\u0432\\u0430\\u044f\",\"\\u0431\\u043e\\u043b\\u044c\\u0448\\u043e\\u0439\",\"\\u0441\\u043b\\u043e\\u0432\",\"\\u043d\\u0430\\u0437\\u0430\\u0434\",\"\\u0440\\u043e\\u0442\",\"\\u043d\\u0435\\u0439\",\"\\u0441\\u043a\\u0430\\u0437\\u0430\\u0442\\u044c\",\"\\u0432\\u0435\\u0437\\u0434\\u0435\",\"\\u0434\\u0435\\u043b\\u043e\",\"\\u0432\\u043b\\u0430\\u0441\\u0442\\u044c\",\"\\u0441\\u0430\\u043c\\u043e\\u0433\\u043e\",\"\\u043f\\u043e\\u0447\\u0442\\u0438\",\"\\u0441\\u043b\\u0430\\u0432\\u0430\",\"\\u0437\\u0430\\u0432\\u0442\\u0440\\u0430\",\"\\u0432\\u043e\\u043f\\u0440\\u043e\\u0441\",\"\\u0434\\u0440\\u0443\\u0433\\u0438\\u0435\",\"\\u0441\\u043c\\u043e\\u0442\\u0440\\u0435\\u0442\\u044c\",\"\\u043c\\u043e\\u0436\\u0435\\u0442\\u0435\",\"\\u043d\\u0430\\u0448\\u0430\",\"\\u043a\\u0440\\u0430\\u0441\\u043e\\u0442\\u0430\",\"\\u0440\\u0430\\u0431\\u043e\\u0442\\u0430\\u0442\\u044c\",\"\\u043a\\u043e\\u043b\",\"\\u043d\\u0430\\u0439\\u0442\\u0438\",\"\\u043f\\u043e\\u043c\\u043e\\u0449\\u044c\",\"7\",\"\\u043d\\u0440\\u0430\\u0432\\u0438\\u0442\\u0441\\u044f\",\"\\u043c\\u043e\\u043b\\u043e\\u0434\\u0446\\u044b\",\"\\u043e\\u0441\\u043e\\u0431\\u0435\\u043d\\u043d\\u043e\",\"\\u043f\\u043e\\u043c\\u043d\\u044e\",\"\\u043f\\u0440\\u043e\\u0434\\u0430\\u043c\",\"\\ud83d\\udc4e\",\"\\u0440\\u0430\\u0431\\u043e\\u0442\\u044b\",\"\\u0441\\u0432\\u043e\\u0451\",\"\\u0434\\u043e\\u043b\\u0433\\u043e\",\"\\u0432\\u0447\\u0435\\u0440\\u0430\",\"\\u0442\\u0432\\u043e\\u0438\",\"\\u043a\\u0443\\u043f\\u0438\\u0442\\u044c\",\"\\u0434\\u0440\\u0443\\u0433\\u043e\\u0439\",\"\\u0432\\u0440\\u043e\\u0434\\u0435\",\"\\u043f\\u0438\\u0441\\u0430\\u0442\\u044c\",\"\\u0441\\u043a\\u0430\\u0436\\u0438\\u0442\\u0435\",\"\\u0447\\u0435\",\"\\u043c\\u0435\\u0441\\u0442\\u0435\",\"\\u0433\\u043e\\u0432\\u043e\\u0440\\u044f\\u0442\",\"15\",\"\\u0441\\u0442\\u0440\\u0430\\u043d\\u0443\",\"\\u0445\\u043e\\u0447\\u0435\\u0442\",\"6\",\"\\u0445\\u043e\\u0440\\u043e\\u0448\\u0435\\u0433\\u043e\",\"\\u0434\\u0435\\u043b\\u0430\",\"\\u0437\\u0434\\u0440\\u0430\\u0432\\u0441\\u0442\\u0432\\u0443\\u0439\\u0442\\u0435.\",\"\\u043f\\u043e\\u0434\\u0441\\u043a\\u0430\\u0436\\u0438\\u0442\\u0435\",\"\\u043f\\u043b\\u043e\\u0445\\u043e\",\"\\u043a\\u043e\\u0442\\u043e\\u0440\\u0430\\u044f\",\"\\u0431\\u043e\",\":)\",\"\\u043d\\u0435\\u0441\\u043a\\u043e\\u043b\\u044c\\u043a\\u043e\",\"\\u043b\\u0438\\u0431\\u043e\",\"\\u0432\\u044b\\u043f\\u043e\\u043b\\u043d\\u0435\\u043d\",\"8\",\"\\u0433\\u043e\\u043b\\u043e\\u0432\\u0443\",\"\\u0440\\u0430\\u0437\\u043c\\u0435\\u0440\",\"\\u043f\\u0440\\u044f\\u043c\",\"\\u043d\\u0435\\u043c\\u043d\\u043e\\u0433\\u043e\",\"\\u0432\\u0430\\u0448\\u0435\\u0439\",\"\\u0441\\u0442\\u0440\\u0430\\u043d\\u0430\",\"\\u043c\\u0430\\u0442\\u044c\",\"\\u0440\\u0443\\u0431\\u043b\\u0435\\u0439\",\"\\u0440\",\"\\u0437\\u0435\\u043c\\u043b\\u044f\",\"30\",\"\\u043c\\u0435\\u0441\\u044f\\u0446\",\"\\u043d\\u0430\\u0445\\u0443\\u0439\",\"\\u0441\\u0442\\u0440\\u0430\\u043d\\u044b\",\"\\u0440\\u043e\\u0434\\u0438\\u0442\\u0435\\u043b\\u0438\",\"\\u043d\\u0430\\u0448\\u0435\",\"\\u0436\\u0435\\u043d\\u0449\\u0438\\u043d\\u0430\",\"....\",\"\\u043f\\u0438\\u0448\\u0438\\u0442\\u0435\",\"\\u043e\\u043e\\u043e\",\"\\u2014\",\"\\u0441\\u0430\\u043c\\u044b\\u0435\",\"\\u043f\\u0438\\u0434\\u043e\\u0440\\u044b\",\"\\u0434\\u0432\\u0435\",\"\\u0433\\u043b\\u0430\\u0437\\u0430\",\"\\u0431\\u043b\\u044f\\u0434\\u044c\",\"\\u0436\\u0430\\u043b\\u043a\\u043e\",\"!!!!\",\"\\u043d\\u0430\\u043f\\u0438\\u0448\\u0438\\u0442\\u0435\",\"\\u043c\\u0443\\u0436\",\"\\u043f\\u043e\\u043b\\u0443\\u0447\\u0430\\u0442\\u0435\\u043b\\u044c\",\"\\u0445\\u0432\\u0430\\u0442\\u0438\\u0442\",\"\\u043c\\u0435\\u043d\\u044c\\u0448\\u0435\",\"\\u0432\\u0434\\u0432\",\"\\u0432\\u0438\\u0434\\u0435\\u043e\",\"\\u043f\\u0440\\u0430\\u0437\\u0434\\u043d\\u0438\\u043a\\u043e\\u043c\",\"\\u0432\\u0435\\u0447\\u043d\\u0430\\u044f\",\"\\u043e\\u043d\\u043b\\u0430\\u0439\\u043d\",\"\\u0433\\u043e\\u0440\\u043e\\u0434\",\"..\",\"\\u043a\\u0430\\u043a\\u043e\\u0433\\u043e\",\"100\",\"\\u0434\\u0435\\u0432\\u043e\\u0447\\u043a\\u0438\",\"\\u0431\\u0443\\u0434\\u044c\",\"\\u0432\\u0437\\u044f\\u0442\\u044c\",\"\\u043a\\u0430\\u043a\\u0443\\u044e\",\"\\u0441\\u043f\\u0430\\u0441\\u0438\\u0431\\u043e,\",\"\\u0441\\u0447\\u0430\\u0441\\u0442\\u044c\\u0435\",\"\\u0434\\u043e\\u043b\\u0436\\u043d\\u0430\",\"\\u043b\\u044e\\u0431\\u0432\\u0438\",\"\\u0431\\u0431\",\"\\u043d\\u0430\\u0448\\u0435\\u0433\\u043e\",\"\\u0434\\u0435\\u0442\\u044f\\u043c\",\"\\u0442\\u0430\",\"\\u043d\\u0435\\u0451\",\"\\u043d\\u0435\\u0435\",\"\\u0440\\u043e\\u0441\\u0441\\u0438\\u044e\",\"\\u043a\\u0430\\u043a\\u043e\\u043c\",\"\\ud83d\\ude4f\",\"\\u0431\\u044b\\u0432\\u0430\\u0435\\u0442\",\"\\u0437\\u0430\\u0442\\u043e\",\"\\u043e\\u0431\\u044f\\u0437\\u0430\\u0442\\u0435\\u043b\\u044c\\u043d\\u043e\",\"\\u043e\\u0439\",\"\\u0433\\u043e\\u0441\\u043f\\u043e\\u0434\\u0438\",\"\\u0434\\u0443\\u0448\\u0438\",\")\",\"\\u0446\\u0435\\u043d\\u0443\",\"\\u0441\\u0443\\u043a\\u0438\",\"\\u0447\\u0442\\u043e,\",\"\\u043d\\u043e\\u0432\\u044b\\u0439\",\"\\u0447\\u0443\\u0442\\u044c\",\"\\u0446\\u0435\\u043d\\u044b\",\"\\u0435\",\"\\u043b\\u0438\\u0447\\u043d\\u043e\",\"\\u0433\\u043e\\u0432\\u043e\\u0440\\u0438\\u0442\",\"\\u043d\\u0430\\u0434\\u043e.\",\"\\u043d\\u0430\\u0441\\u0442\\u043e\\u044f\\u0449\\u0438\\u0439\",\"\\u0442\\u0435\\u043b\\u0435\\u0444\\u043e\\u043d\",\"\\u0441\\u0443\\u043c\\u043c\\u0430\",\"\\u0442\\u0432\\u043e\\u044f\",\"\\u0432\\u0440\\u0435\\u043c\\u0435\\u043d\\u0438\",\"\\u0442\",\"\\u0438\\u043d\\u043e\\u0433\\u0434\\u0430\",\"\\u0441\\u043b\\u043e\\u0432\\u043e\",\"\\u044f\\u0439\\u0446\\u0430\",\"\\u0431\\u044b\\u0441\\u0442\\u0440\\u043e\",\"\\u0432\\u0430\\u0448\\u0435\",\"\\u0434\\u043e\\u0431\\u0440\\u043e\\u0433\\u043e\",\"\\u043d\\u0435\\u0443\\u0436\\u0435\\u043b\\u0438\",\"\\u043f\\u043e\\u0441\\u043c\\u043e\\u0442\\u0440\\u0435\\u0442\\u044c\",\"\\u0445\\u043e\\u0442\\u0438\\u0442\\u0435\",\"\\u0434\\u0435\\u043b\\u0430\\u044e\\u0442\",\"\\u2013\",\"\\u043c\\u0435\\u0436\\u0434\\u0443\",\"\\u0437\\u043e\",\"\\u043a\\u0430\\u0440\\u0442\\u0443\",\"\\u0440\\u0430\\u0437\\u0432\\u0435\",\"\\u0437\\u0434\\u043e\\u0440\\u043e\\u0432\\u044c\\u044f,\",\"\\u0431\\u043e\\u0433\\u0430\",\"!!\",\"\\u043d\\u043e\\u0433\\u0438\",\"\\u0447\\u0451\",\"\\u0441\\u043d\\u0430\\u0447\\u0430\\u043b\\u0430\",\"\\u043c\\u0430\\u0441\\u043b\\u043e\",\"\\u0432\\u0442\\u043e\\u0440\\u043e\\u0439\",\"\\u0445\\u043e\\u0442\\u0435\\u043b\\u043e\\u0441\\u044c\",\"\\u043a\\u0442\\u043e-\\u0442\\u043e\",\"\\u0441\\u0435\\u0440\\u0434\\u0446\\u0435\",\"\\ud83c\\udf39\",\"\\u0431\\u0443\\u0434\\u044c\\u0442\\u0435\",\"\\u0445\\u043e\\u0440\\u043e\\u0448\\u0430\\u044f\",\"\\u0440\\u0430\\u0437\\u0430\",\"\\u0442\\u043e\\u0431\\u043e\\u0439\",\"\\u0441\\u0434\\u0435\\u043b\\u0430\\u043b\",\"\\u0447\\u043e\",\"\\u0441\\u0430\\u043c\\u0430\\u044f\",\"\\u0437\\u043e\\u043b\\u043e\\u0442\\u044b\\u0435\",\"\\u0443\\u0442\\u0440\\u043e\",\"\\u0434\\u043e\\u043b\\u0436\\u043d\\u043e\",\"\\u0431\\u044b\\u043b\\u043e.\",\"\\u0432\\u043c\\u0435\\u0441\\u0442\\u043e\",\"\\u0434\\u0435\\u043b\\u0430\\u0435\\u0442\",\"\\u0440\\u0430\\u0431\\u043e\\u0442\\u0443\",\"\\u0436\\u0438\\u043b\\u0438\",\"\\u0441\\u043a\\u043e\\u0440\\u0435\\u0435\",\"\\u0440\\u0430\\u0431\\u043e\\u0442\\u0430\\u0435\\u0442\",\"\\u043a\\u043e\\u0442\\u043e\\u0440\\u044b\\u0445\",\"\\u0441\\u043a\\u0430\\u0437\\u0430\\u043b\",\"\\u043b\\u044e\\u0431\\u043e\\u0439\",\"\\u0432\\u043e\\u0437\\u043c\\u043e\\u0436\\u043d\\u043e\",\"\\u0447\\u0431\",\"\\u0431\\u043b\\u044f\\u0442\\u044c\",\";)\",\"\\u0441\\u0442\\u044b\\u0434\\u043d\\u043e\",\"\\u0443\\u043c\\u0430\",\"\\u0445\\u043e\\u0440\\u043e\\u0448\\u0438\\u0435\",\"\\u0434\\u043d\\u0435\\u0439\",\"\\u0442\\u0430\\u043a\\u0438\\u043c\\u0438\",\"\\u0447\\u0435\\u043a\",\"\\u043c\\u0443\\u0436\\u0438\\u043a\",\"\\u043f\\u0440\\u044f\\u043c\\u043e\",\"\\u043e\\u0434\\u043d\\u0443\",\"\\u043f\\u043e\\u043b\\u043d\\u043e\\u0441\\u0442\\u044c\\u044e\",\"\\u043e\\u0433\\u0440\\u043e\\u043c\\u043d\\u043e\\u0435\",\"\\u043e\\u0441\\u0442\\u0430\\u043b\\u043e\\u0441\\u044c\",\"\\u0447\\u0430\\u0441\\u0442\\u043e\",\"\\u043a\\u0430\\u0436\\u0434\\u043e\\u0433\\u043e\",\":\",\"\\u0434\\u0430\\u0442\\u044c\",\"\\u0441\\u043d\\u043e\\u0432\\u0430\",\"\\u043a\\u043e\",\"\\u0433\",\"\\u0441\\u043e\\u0431\\u0430\\u043a\\u0430\",\"\\u043b\\u044e\\u0434\\u0438,\",\"\\u043d\\u0430\\u0432\\u0435\\u0440\\u043d\\u043e\",\"\\u0442\\u0430\\u043a,\",\"\\u0441\\u044b\\u043d\",\"\\u043a\\u0440\\u0430\\u0441\\u0438\\u0432\\u044b\\u0435\",\"\\u0441\\u043f\\u0430\\u0441\\u0438\\u0431\\u043e.\",\"\\u043f\\u0440\\u043e\\u0441\\u0442\\u043e\\u0439\",\"\\u0445\\u0443\\u0436\\u0435\",\"\\u043f\\u043e\\u0436\\u0430\\u043b\\u0443\\u0439\\u0441\\u0442\\u0430,\",\"\\u0443\\u0431\\u0438\\u0442\\u044c\",\"\\u0438\\u043c\\u0435\\u0435\\u0442\",\"\\u0445\\u043e\\u0437\\u044f\\u0439\\u0441\\u0442\\u0432\\u0435\",\"\\u0432\\u0438\\u0434\\u0438\\u043c\\u043e\",\"\\u0443\\u0437\\u043d\\u0430\\u0442\\u044c\",\"\\u0433\\u043e\\u0432\\u043e\\u0440\\u0438\\u0442\\u044c\",\"\\u043f\\u043e\\u043d\\u044f\\u0442\\u043d\\u043e\",\"\\u0441\\u0432\\u0435\\u0442\\u043b\\u0430\\u044f\",\"\\u043a\\u0430\\u043a\\u0438\\u0445\",\"50\",\"\\u0443\\u0431\\u0438\\u0432\\u0430\\u0442\\u044c\",\"\\u0434\\u0440\\u0443\\u0433\\u0438\\u043c\",\"\\u0431\\u0443\\u0434\\u0435\\u0448\\u044c\",\"\\u0432\\u043e\\u0434\\u044b\",\"\\u043d\\u0443\\u0436\\u043d\\u043e:\",\"\\u0443\\u0442\\u0440\\u043e\\u043c\",\"\\u043c\\u043e\\u0435\\u0433\\u043e\",\"\\u2764\",\"\\u043a\\u0435\\u043c\",\"\\u0442\\u0432\\u043e\\u044e\",\"\\u0441\\u043f\\u0430\\u0441\\u0438\\u0431\\u043e!\",\"\\u0441\\u0442\\u0430\\u043b\",\"\\u0431\\u0443\\u0434\\u0435\\u0442\\u0435\",\"\\u0441\\u0442\\u0430\\u043b\\u0438\",\"\\u0437\\u0434\\u0440\\u0430\\u0432\\u0441\\u0442\\u0432\\u0443\\u0439\\u0442\\u0435!\",\"\\u0437\\u043d\\u0430\\u044e\\u0442\",\"\\u0433\\u043e\\u0440\\u043e\\u0434\\u0435\",\"\\u043a\\u0440\\u0435\\u043f\\u043a\\u043e\\u0433\\u043e\",\"\\u0440\\u0435\\u0431\\u044f\\u0442\\u0430\",\"\\u043c\\u043e\\u0437\\u0433\\u0438\",\"\\u043f\\u0435\\u0440\\u0435\\u0432\\u043e\\u0434\",\"\\u0441\\u0442\\u0440\\u0435\\u043b\\u044f\\u0442\\u044c\",\"\\u0445\\u043e\\u0447\\u0435\\u0448\\u044c\",\"\\u0443\\u0436\\u0430\\u0441\",\"\\u0437\\u0431\",\"\\u043f\\u043e\\u0441\\u0430\\u0434\\u0438\\u0442\\u044c\",\"\\u0440\\u0443\\u0441\\u0441\\u043a\\u0438\\u0439\",\"\\u043c\\u0435\\u0441\\u0442\\u0430\",\"\\u043a\\u0440\\u0430\\u0441\\u0438\\u0432\\u044b\\u0439\",\"\\u0442\\u0432\\u0430\\u0440\\u0435\\u0439\",\"\\u043f\\u043e\\u043b\\u0443\\u0447\\u0430\\u0435\\u0442\\u0441\\u044f\",\"\\u0431\\u0443\\u0434\\u0442\\u043e\",\"\\u0438\\u0449\\u0443\",\"\\u0435\\u0441\\u0442\\u044c,\",\"\\u043d\\u0435\\u0447\\u0435\\u0433\\u043e\",\"9\",\"\\u0431\\u043b\\u0430\\u0433\\u043e\\u0434\\u0430\\u0440\\u044e\",\"\\u0440\\u0443\\u0431.\",\"\\u0441\\u0438\\u043b\\u044c\\u043d\\u043e\",\"\\u0435\\u0441\\u0442\\u044c.\",\"\\u0441\\u0430\\u043c\\u043e\\u043c\",\"\\u043f\\u0430\\u0440\\u0443\",\"(fr)\",\"\\u0441\\u0434\\u0435\\u043b\\u0430\\u043b\\u0438\",\"\\u0432\\u044b\\u0448\\u0435\",\"\\u0432\\u0438\\u0434\\u0435\\u043b\\u0430\",\"\\u043d\\u0438\\u043a\\u043e\\u043c\\u0443\",\"\\u0445\\u043e\\u0440\\u043e\\u0448\\u043e,\",\"\\u0431\\u0443\\u0434\\u0435\\u0442.\",\"\\u0442\\u044b\\u0441\\u044f\\u0447\",\"\\u0447\\u0451\\u043c\",\"\\u0440\\u0430\\u0431\\u043e\\u0442\\u0430\",\"\\u0434\\u0430\\u0442\\u0430\",\"\\u043f\\u043e\\u0441\\u0442\\u043e\\u044f\\u043d\\u043d\\u043e\",\"\\u043a\\u0430\\u0436\\u0435\\u0442\\u0441\\u044f\",\"\\u0442\\u044b,\",\"\\u043d\\u0438\\u043a\\u043e\\u0433\\u043e\",\"\\u043f\",\"\\u043b\\u0443\\u043a\\u0430\\u0448\\u0435\\u043d\\u043a\\u043e\",\"\\u043f\\u043e\\u043b\",\"\\u0437\\u0434\\u043e\\u0440\\u043e\\u0432\\u044c\\u0435\",\"\\u0440\\u0430\\u0437\\u043d\\u044b\\u0435\",\"\\u043f\\u043e\\u0445\\u043e\\u0436\\u0435\",\"\\u0442\\u043e\\u043c\\u0443\",\"\\u043c\",\"\\u0431\\u0440\\u0435\\u0434\",\"\\u043e\\u0431\\u043e\\u0436\\u0430\\u044e\",\"\\u043d\\u0438\\u043c\\u0438\",\"\\u0437\\u043d\\u0430\\u0442\\u044c\",\"\\u0434\\u0430\\u0432\\u0430\\u0439\\u0442\\u0435\",\"\\u0432\\u0430\\u0448\\u0438\\u0445\",\"\\u0440\\u0430\\u0434\\u0438\",\"\\u0441\\u043a\\u0430\\u0437\\u0430\\u043b\\u0438\",\"\\u0432\\u0438\\u0436\\u0443\",\"\\u0434\\u0430\\u043b\\u0438\",\"\\u0434\\u0443\\u0440\\u0430\",\"\\u043e\\u0434\\u043d\\u0438\\u043c\",\"\\u0447\\u0435\\u043c\\u0443\",\"\\u043f\\u043e\\u043b\\u043d\\u044b\\u0439\",\"\\u0438\\u0434\\u0451\\u0442\",\"\\u0437\\u0430\\u0431\\u0440\\u0430\\u0442\\u044c\",\"\\u0447\\u0430\\u0441\\u0442\\u044c\",\"\\u043b\\u0438\\u0447\\u043a\\u0443\",\"\\u043d\\u0430\\u0448\\u0443\",\"\\u0441\\u043e\\u0431\\u043e\\u0439\",\"\\u0441\\u043e\\u0433\\u043b\\u0430\\u0441\\u043d\\u0430\",\"\\u043d\\u0430\\u0440\\u043e\\u0434\\u0443\",\"\\u043f\\u043e\\u0441\\u043c\\u043e\\u0442\\u0440\\u0438\\u0442\\u0435\",\"\\u0432\\u0430\\u0448\\u0443\",\"\\u043a\\u043e\\u0434\",\"\\u0438\\u0437-\\u0437\\u0430\",\"\\u0432\\u0430\\u0448\\u0438\\u043c\",\"40\",\"\\u043d\\u0430\\u0434\\u043e,\",\"\\u043e\\u0447\",\"\\u0440\\u0435\\u0431\\u0435\\u043d\\u043a\\u0430\",\"\\u0440\\u0435\\u0446\\u0435\\u043f\\u0442\",\"\\u0447\\u043c\\u043e\",\"\\u0442\\u043e\\u0433\\u043e,\",\"\\u043d\\u0435\\u0434\\u0435\\u043b\\u044e\",\"\\u043d\\u0430\\u043f\\u0438\\u0441\\u0430\\u043d\\u043e\",\"\\u043f\\u0440\\u0438\\u0448\\u043b\\u0438\",\"\\u0434\\u0435\\u043d\\u044c.\",\"\\u0441\\u0442\\u0440\\u0430\\u0448\\u043d\\u043e\",\"\\u0441\\u043b\\u0438\\u0448\\u043a\\u043e\\u043c\",\"\\u043e\\u043a\\u043e\\u043b\\u043e\",\"\\u0432\\u0434\\u0440\\u0443\\u0433\",\"\\u0436\\u0434\\u0430\\u0442\\u044c\",\"\\u0441\\u0442\\u0430\\u0442\\u0443\\u0441\",\"\\u0433.\",\"\\u0443\\u043b\\u0438\\u0446\\u0435\",\"\\u043f\\u0435\\u043d\\u0441\\u0438\\u0438\",\"\\u0434\\u0432\\u0443\\u0445\",\"\\u0434\\u043e\\u0431\\u0440\\u044b\\u0435\",\"\\u043c\\u0438\\u0440\\u0435\",\"\\u044f\\u0437\\u044b\\u043a\",\"\\u043f\\u0435\\u043d\\u0441\\u0438\\u044e\",\"\\u0434\\u0435\\u0432\\u043e\\u0447\\u043a\\u0430\",\"\\u0431\\u043e\\u043b\\u044c\\u0448\\u0430\\u044f\",\"\\u043f\\u0438\\u0448\\u0443\\u0442\",\"\\u0433\\u043e\\u0441\\u043f\\u043e\\u0434\\u044c\",\"\\u043f\\u043e\\u043d\\u0438\\u043c\\u0430\\u044e\",\"\\u0430\\u0432\\u0442\\u043e\\u0440\",\"\\u0443\\u0440\\u043e\\u0434\\u043e\\u0432\",\"\\u0441\\u0442\\u0430\\u043b\\u043e\",\"\\u0440\\u0435\\u0430\\u043b\\u044c\\u043d\\u043e\",\"\\u0443\\u0442\\u0440\\u0430\",\"\\u0443\\u0440\\u043e\\u0434\",\"\\u0435\\u0441\\u0442\\u044c?\",\"\\u0433\\u043e\\u0440\\u043e\\u0434\\u0430\",\"\\u043e\\u0442\\u0432\\u0435\\u0442\",\"\\u0442\\u0430\\u043a!\",\"\\u0432\\u0430\\u0448\\u0430\",\"\\u0441\\u043c\\u043e\\u0442\\u0440\\u044e\",\"12\",\"\\u043a\\u043e\\u043d\\u0435\\u0447\\u043d\\u043e,\",\"\\u0436\\u0435\\u043d\\u0449\\u0438\\u043d\\u044b\",\"\\u043d\\u0435\\u043a\\u043e\\u0442\\u043e\\u0440\\u044b\\u0435\",\"\\u0433\\u043e\\u0434\\u044b\",\"\\u0441\\u0435\\u043c\\u044c\\u044f\",\"\\u043b\",\"\\u0445\\u043e\\u0442\\u0435\\u043b\\u0430\",\"\\u0438\\u043d\\u0442\\u0435\\u0440\\u0435\\u0441\\u043d\\u043e,\",\"\\u0433\\u0440\\u0443\\u043f\\u043f\\u0430\",\"\\u0441\\u043b\\u0443\\u0447\\u0430\\u0435\",\"\\u0444\\u0438\\u043b\\u044c\\u043c\",\"\\u043b\\u044e\\u0431\\u0438\\u043c\\u044b\\u0439\",\"\\u0438\\u043d\\u0430\\u0447\\u0435\",\"\\u043f\\u043e\\u0431\\u043e\\u043b\\u044c\\u0448\\u0435\",\"\\u043d\\u0443,\",\"\\u043c\\u0441\\u043a\\u0443\",\"\\u043d\\u0438\\u043a\\u0430\\u043a\",\"???\",\"\\u0434\\u043e\\u043a\\u0443\\u043c\\u0435\\u043d\\u0442\\u0430\",\"\\u0438\\u0434\\u0435\\u0442\",\"\\u043f\\u0440\\u0438\\u044f\\u0442\\u043d\\u043e\",\"\\u043d\\u0430\\u0437\\u044b\\u0432\\u0430\\u0435\\u0442\\u0441\\u044f\",\"\\u0434\\u043e\\u043b\\u0433\\u0438\\u0445\",\"\\u043c\\u043d\\u043e\\u0433\\u0438\\u0445\",\"\\u0437\\u0430\\u043a\\u0430\\u0437\",\"\\u0447\\u0438\\u0442\\u0430\\u0442\\u044c\",\"\\u0434\\u043e\\u0440\\u043e\\u0433\\u0438\\u0435\",\"\\u043e\\u0447\\u043a\\u043e\",\"\\u043e\\u0442\\u0432\\u0435\\u0442\\u0438\\u0442\\u044c\",\"\\u0430\\u0434\\u0440\\u0435\\u0441\",\"\\u0434\\u0430\\u0432\\u0430\\u0439\",\"\\u0441\\u0438\\u0434\\u0435\\u0442\\u044c\",\"\\u0440\\u0435\\u0431\\u0435\\u043d\\u043e\\u043a\",\"\\u0432\\u043e\\u043f\\u0440\\u043e\\u0441\\u044b\",\"\\u0445\\u043e\\u0442\\u0435\\u043b\",\"\\u0440\\u043e\\u0434\\u0438\\u0442\\u0435\\u043b\\u0435\\u0439\",\"\\u0441\\u0430\\u043c\\u043e\\u0439\",\"\\u0437\\u043d\\u0430\\u0435\\u0442\\u0435\",\"\\u0447\\u0443\\u0434\\u043e\",\"\\u043c\\u0438\\u0440\\u0430\",\"\\u043d\\u0430\\u0445\\u043e\\u0434\\u0438\\u0442\\u0441\\u044f\",\"\\u0441\\u044b\\u043d\\u0430\",\"\\u043d\\u043e\\u0432\\u044b\\u0435\",\"\\u0443\\u0441\\u043f\\u0435\\u0445\\u043e\\u0432\",\"\\u0448\\u043a\\u043e\\u043b\\u0435\",\"\\u043b\\u044e\\u0431\\u0438\\u0442\",\"\\u0434\\u0435\\u043d\\u044c,\",\"\\u0432\\u0441\\u0435\\u043c\\u0443\",\"\\u0434\\u0440\\u0443\\u0433\\u0430\",\"\\u043e\\u0441\\u0442\\u0430\\u043b\\u044c\\u043d\\u044b\\u0435\",\"\\u0441\\u0440\\u0435\\u0434\\u0438\",\"\\u0442\\u0430\\u043a\\u043e\\u043c\",\"\\u043b\\u0435\\u0442,\",\"\\u0431\\u044b\\u043b\\u043e,\",\"\\u0443\\u0440\\u043e\\u0434\\u044b\",\"\\u0440\\u0430\\u0439\\u043e\\u043d\\u0435\",\"\\u0432\\u043e\\u0437\\u043b\\u0435\",\"\\u043e\\u0442\\u0435\\u0446\",\"\\u0432\\u0441\\u0435,\",\"\\u043d\\u0430\\u0448\\u0438\\u043c\",\"\\u0442\\u0435\\u043b\\u0435\\u0444\\u043e\\u043d\\u0430\",\"\\u043b\\u0435\\u0442.\",\"\\u0443\\u043a\\u0440\\u0430\\u0438\\u043d\\u0435\",\"\\u0442\\u0430\\u043a.\",\"\\u0441\\u0438\\u0434\\u044f\\u0442\",\"\\u0440\\u0444\",\"\\u0436\\u0438\\u0437\\u043d\\u0438.\",\"\\u043f\\u043e\\u043d\\u044f\\u0442\\u044c\",\"\\u0434\\u0430\\u043b\\u0435\\u043a\\u043e\",\"\\u0436\\u0438\\u0432\\u0443\",\"\\u0438\\u043c\\u0435\\u0442\\u044c\",\"\\u043e\\u043f\\u0435\\u0440\\u0430\\u0446\\u0438\\u044f\",\"\\u0432\\u0438\\u0434\\u0435\\u043b\",\"\\u043c\\u043d\\u0435\\u043d\\u0438\\u0435\",\"\\u043f\\u043e\\u0441\\u043b\\u0435\\u0434\\u043d\\u0438\\u0439\",\")))\",\"\\u0434\\u043e\\u043c\\u043e\\u0439\",\"\\u0442\\u0430\\u043a\\u0438\",\"\\u043d\\u0438\\u0437\\u043a\\u0438\\u0439\",\"\\u0432\\u043e\\u0434\\u0430\",\"\\u043f\\u043e\\u0437\\u043e\\u0440\",\"\\u0441\\u0438\\u043b\",\"\\u0432\\u0435\\u0447\\u0435\\u0440\",\"\\u043f\\u043e\\u043b\\u0443\\u0447\\u0438\\u0442\\u044c\",\"\\u0442\\u043e\\u043c,\",\"\\u043c\\u043e\\u0435\\u043c\\u0443\",\"\\u043c\\u043e\\u0436\\u0435\\u0448\\u044c\",\"\\u043c\\u0440\\u0430\\u0437\\u0438\",\"\\u0434\\u043e\\u0431\\u0430\\u0432\\u0438\\u0442\\u044c\",\"\\u043c\\u0443\\u0436\\u0447\\u0438\\u043d\\u0430\",\"\\u0442\\u0438\\u043f\\u0430\",\"\\u043a\\u043e\\u043c\\u0438\\u0441\\u0441\\u0438\\u044f\",\"\\u0433\\u0440\\u0443\\u043f\\u043f\\u044b\",\"\\u043e\\u0442\\u0434\\u0430\\u043c\",\"\\u0445\\u0440\\u0435\\u043d\",\"\\u0441\\u043e\\u0436\\u0430\\u043b\\u0435\\u043d\\u0438\\u044e\",\"\\u0445\\u043e\\u0440\\u043e\\u0448\\u043e.\",\"\\u043c\\u043e\\u043b\\u043e\\u0434\\u0435\\u0446,\",\"\\u043f\\u0440\\u043e\\u0448\\u0443\",\"\\u043f\\u0430\\u043f\\u0430\",\"\\u0441\\u044e\\u0434\\u0430\",\"\\u0437\\u0430\\u043a\\u043e\\u043d\",\"\\u043c\\u0443\\u0436\\u0438\\u043a\\u0438\",\"\\u043c\\u043e\\u0433\\u043b\\u0438\",\"\\u0445\\u043e\\u0434\\u0438\\u0442\\u044c\",\"\\u043d\\u0430\\u0448\\u043b\\u0438\",\"\\u0431\\u0430\\u0431\\u0443\\u0448\\u043a\\u0430\",\"\\u0434\\u043e\\u043c\\u0435\",\"\\ud83d\\udc4d\\ud83d\\udc4d\\ud83d\\udc4d\",\"\\u043f\\u0440\\u0438\\u043c\\u0435\\u0440\",\"\\u0434\\u0435\\u0432\\u0443\\u0448\\u043a\\u0430\",\"\\u0441\\u0438\\u0434\\u0438\\u0442\",\"\\u043c\\u043e\\u043b\\u043e\\u0434\\u0435\\u0446!\",\"\\u043f\\u0440\\u0435\\u0437\\u0438\\u0434\\u0435\\u043d\\u0442\",\"\\u0447\\u0430\\u0441\\u043e\\u0432\",\"\\u043d\\u0430\\u043f\\u0438\\u0441\\u0430\\u0442\\u044c\",\"\\u0436\\u0435,\",\"\\u0437\\u0440\\u044f\",\"\\u0438\\u0434\\u0442\\u0438\",\"\\u043a\\u043e\\u0442\\u043e\\u0440\\u043e\\u0439\",\"\\u043f\\u043e\\u0432\\u0435\\u0441\\u0438\\u0442\\u044c\",\"\\u043c\\u0430\\u0433\\u0430\\u0437\\u0438\\u043d\",\"\\u0431\\u0440\\u0430\\u0432\\u043e\",\"\\u0434\\u0440\\u0443\\u0437\\u0435\\u0439\",\"\\u043b\\u044e\\u0431\\u0438\\u0442\\u044c\",\"\\u0438\\u0433\\u0440\\u0430\",\"\\u043c\\u0435\\u0441\\u044f\\u0446\\u0430\",\"\\u0432\\u044b\\u043f\\u043b\\u0430\\u0442\\u044b\",\"\\u043c\\u0430\\u0441\\u043a\\u0438\",\"\\u0445\\u043b\\u0435\\u0431\",\"\\u0440\\u043e\\u0441\\u0441\\u0438\\u0438.\",\"\\u043b\\u044e\\u0434\\u0435\\u0439,\",\"\\u043c\\u0438\\u043d\\u0443\\u0442\",\"\\u0442\\u043e\\u0439\",\"\\u0432\\u0435\\u0449\\u044c\",\"\\u0431\\u0440\\u0430\\u0442\\u044c\",\"\\u0446\\u0430\\u0440\\u0441\\u0442\\u0432\\u0438\\u0435\",\"\\u0432\\u043e\\u0434\\u0443\",\"\\u0432\\u043a\\u0443\\u0441\\u043d\\u043e\",\"\\u043c\\u043e\\u0438\\u0445\",\"\\u0432\\u043d\\u0438\\u043c\\u0430\\u043d\\u0438\\u0435\",\"\\u0440\\u043e\\u0434\\u0438\\u0442\\u0435\\u043b\\u044f\\u043c\",\"\\u043d\\u0435\\u043c\",\"\\u043c\\u043e\\u0433\",\"\\u0441\\u043e\\u0441\\u0430\\u0442\\u044c\",\"\\u0440\\u0430\\u0431\\u043e\\u0442\\u0430\\u044e\\u0442\",\"\\u0441\\u043b\\u0443\\u0436\\u0438\\u043b\",\"\\u0441\\u0442\\u043e\\u0440\\u043e\\u043d\\u044b\",\"\\u0430\\u0432\\u0433\\u0443\\u0441\\u0442\",\"\\u0438\\u043c\\u044f\",\"\\u043d\\u0430\\u043c\\u0438\",\"\\u043d\\u043e\\u0440\\u043c\\u0430\\u043b\\u044c\\u043d\\u043e\",\"\\u0434\",\"\\u0438\\u0434\\u0443\\u0442\",\"\\u043d\\u0430\\u0448\\u0435\\u043c\",\"8oi\",\"\\u043c\\u043e\\u0440\\u0435\",\"\\u043f\\u0440\\u0435\\u0436\\u0434\\u0435\",\"\\u0432\\u0435\\u0447\\u0435\\u0440\\u043e\\u043c\",\"\\u0434\\u0443\\u0448\\u0430\",\"\\u0432\\u043e\\u0439\\u043d\\u044b\",\"\\u043b\\u0435\\u0442\\u043e\",\"\\u043f\\u044f\\u0442\\u044c\",\"\\u043a\\u043e\\u0442\",\"\\u0436\\u0438\\u0432\\u0451\\u0442\",\",\\u0438\",\"\\u0441\\u0442\\u043e\\u044f\\u0442\",\"\\u043d\\u0438\\u043a\\u0430\\u043a\\u0438\\u0445\",\"\\u0432\\u0431\",\"\\u0434\\u0435\\u043b\\u0430\\u044e\",\"\\u043a\\u0440\\u0430\\u0441\\u043e\\u0442\\u0443\",\"\\ud83d\\udc4f\",\"\\u043a\\u0433\",\"\\u0441\\u0435\\u043c\\u044c\\u0438\",\"\\u043f\\u043e\\u043a\\u043b\\u043e\\u043d\",\":-)\",\"\\u043f\\u043e\\u0434\\u0441\\u043e\\u043b\\u043d.\",\"\\u043e\\u0447\\u0435\\u0440\\u0435\\u0434\\u043d\\u043e\\u0439\",\"\\u0441\\u0448\\u0430\",\"\\u0431\\u0447\",\"\\u043d\\u0435\\u0431\\u0435\\u0441\\u043d\\u043e\\u0435\",\"\\u043a\\u043e\\u0442\\u043e\\u0440\\u043e\\u0433\\u043e\",\"\\u043f\\u0440\\u0430\\u0432\\u043e\",\"\\u0434\\u0435\\u0431\\u0438\\u043b\",\"\\u0431\\u043b\\u044f\",\"\\u043b\\u044e\\u0434\\u0435\\u0439.\",\"\\u0441\\u0440\\u043e\\u0447\\u043d\\u043e\",\"\\u0441\\u0447\\u0451\\u0442\",\"\\u0434\\u0435\\u0442\\u044c\\u043c\\u0438\",\"\\u043a\\u0432\\u0430\\u0440\\u0442\\u0438\\u0440\\u0443\",\"\\u043f\\u0440\\u0435\\u043b\\u0435\\u0441\\u0442\\u044c\",\"\\u0437\\u043d\\u0430\\u044e,\",\"\\u043a\\u0430\\u0436\\u0434\\u043e\\u043c\\u0443\",\"\\u043e\\u0434\\u043d\\u043e\\u043c\",\"\\u0434\\u0443\\u0448\\u0435\",\"\\u0434\\u0430\\u044e\\u0442\",\"\\u043c\\u043e\\u0451\",\"\\u0443\\u0440\\u043e\\u0432\\u0435\\u043d\\u044c\",\"\\u0434\\u043e\\u0431\\u0440\\u0430\",\"\\u043a\\u043e\\u043d\\u0446\\u0430\",\"\\u0431\\u043e\\u0433\\u0443\",\"\\u043a\\u0430\\u043a\\u0438\\u043c\",\"\\u0436\\u0438\\u0432\\u0435\\u0442\",\";-)\",\"\\u043f\\u0440\\u0435\\u043a\\u0440\\u0430\\u0441\\u043d\\u043e\",\"\\u0437\\u0430\\u043a\\u0430\\u0437\\u0430\\u0442\\u044c\",\"\\u043e\\u0441\\u0442\\u0430\\u043b\\u044c\\u043d\\u043e\\u0435\",\"\\u0441\\u0442\\u0430\\u043b\\u0430\",\",\\u043a\\u0430\\u043a\",\"\\u0445\\u043e\\u0440\\u043e\\u0448\\u0435\\u0435\",\"\\u043a\\u0443\\u043f\\u043b\\u044e\",\"\\u0447\\u0435\\u043b\\u043e\\u0432\\u0435\\u043a,\",\"\\u0431\\u0435\\u0441\\u043f\\u043b\\u0430\\u0442\\u043d\\u043e\",\"\\u0435\\u0431\\u0430\\u0442\\u044c\",\"\\u0433\\u043d\\u0430\\u0442\\u044c\",\"\\u0440\\u0430\\u0431\\u043e\\u0442\\u0435\",\"\\u0430\\u0436\",\"\\u043d\\u0435\\u0442\\u0443\",\"\\u0441\\u0443\\u0434\\u0438\\u0442\\u044c\",\"\\u043f\\u0440\\u0430\\u0432\\u0430\",\"\\u043e\\u0442\\u043f\\u0440\\u0430\\u0432\\u0438\\u0442\\u0435\\u043b\\u044c\",\"\\u0434\\u0435\\u043b\\u0435\",\"\\u043a\\u043e\\u0442\\u043e\\u0440\\u0443\\u044e\",\"\\u0436\\u0435\\u043d\\u0430\",\"\\u0441\\u0435\\u043c\\u044c\\u0435\",\"\\u043c\\u0430\\u043c\\u044b\",\"\\u043c\\u043e\\u043c\\u0435\\u043d\\u0442\",\"\\u0432\\u0441\\u0435.\",\"\\u0447\\u043b\\u0435\\u043d\",\"\\u043c\\u043e\\u044e\",\"\\u043e\\u043f\\u043b\\u0430\\u0442\\u0438\\u043b\\u0430\",\"\\u0442\\u0432\\u043e\\u0435\\u0439\",\"\\u043f\\u043e\\u043b\\u0443\\u0447\\u0438\\u043b\",\"\\u0434\\u043e\\u0440\\u043e\\u0433\\u0438\",\"\\u0443\\u0441\\u043f\\u0435\\u0448\\u043d\\u043e\",\"\\u0432\\u043e\\u0439\\u0441\\u043a\\u0430\",\"\\u0432\\u044b\\u043f\\u043e\\u043b\\u043d\\u0438\\u0442\\u044c\",\"\\u0437\\u043d\\u0430\\u0435\\u0448\\u044c\",\"\\u043a\\u0430\\u043a-\\u0442\\u043e\",\"\\u0441\\u0442\\u0430\\u043d\\u0435\\u0442\",\"\\u0431\\u0443\\u0434\\u0435\\u0442,\",\"\\u0437\\u0435\\u043c\\u043b\\u0435\",\"\\u0432\\u0440\\u0435\\u043c\\u0435\\u043d\\u0430\",\"\\u043f\\u043e\\u0434\\u0434\\u0435\\u0440\\u0436\\u043a\\u0430\",\"\\u043f\\u0438\\u0434\\u043e\\u0440\\u0430\\u0441\\u044b\",\"\\u043c\\u0441\\u043a\",\"\\u043d\",\"\\u0434\\u0430\\u0439\\u0442\\u0435\",\"\\u0442\\u0435\\u043b\",\"\\u043d\\u0430\\u0434\\u0435\\u044e\\u0441\\u044c\",\"\\u0432\\u0435\\u0440\\u043d\\u0443\\u0442\\u044c\",\"\\u0447\\u0442\\u043e?\",\"\\u0433\\u043e\\u0441\\u0443\\u0434\\u0430\\u0440\\u0441\\u0442\\u0432\\u043e\",\"\\u043f\\u043e\\u0448\\u043b\\u0438\",\"\\u0434\\u0435\\u0442\\u0441\\u043a\\u0438\\u0435\",\"\\u043f\\u0435\\u0440\\u0432\\u0443\\u044e\",\"\\u043f\\u043b\\u0430\\u0442\\u0435\\u0436\",\"\\u043c\\u0430\\u043b\\u0435\\u043d\\u044c\\u043a\\u0438\\u0439\",\"200\",\"\\u0431\\u0438\\u0442\\u044c\",\"\\u0441\\u043c\\u0435\\u0440\\u0442\\u044c\",\"\\u0434\\u0430\\u043b\",\"\\u043b\\u044e\\u0431\\u044f\\u0442\",\"16\",\"\\u0441\\u0442\\u043e\",\"\\u043a\\u0440\\u0430\\u0441\\u0430\\u0432\\u0438\\u0446\\u0430\",\"\\u0441\\u0432\\u044f\\u0437\\u0438\",\"\\u0442\\u0435\\u0440\\u043f\\u0435\\u043d\\u0438\\u044f\",\"\\u0432\\u0438\\u0434\\u0435\\u0442\\u044c\",\"\\u0440\\u0435\\u0431\\u0451\\u043d\\u043a\\u0430\",\"\\u0437\\u0430\\u0432\\u0438\\u0441\\u0438\\u0442\",\"\\u0440\\u043e\\u0434\\u0438\\u043d\\u0443\",\"\\u0446\\u0432\\u0435\\u0442\\u044b\",\"\\u0446\\u0435\\u043d\\u0430?\",\"--\",\"\\u0440\\u0430\\u0434\\u043e\\u0441\\u0442\\u044c\",\"\\u0441\\u0442\\u0430\\u0432\\u0438\\u0442\\u044c\",\"\\u043a\\u043b\\u0430\\u0441\\u0441\\u043d\\u043e\",\"\\u0440\\u043e\\u0436\\u0434\\u0435\\u043d\\u0438\\u044f!\",\"\\u0436\\u043e\\u043f\\u0430\",\"\\u0441\\u0443\\u0434\",\"\\ud83d\\udc8b\",\"\\u0446\\u0432\\u0435\\u0442\",\"\\u0436\\u0434\\u0443\",\"\\u043f\\u043b\\u0430\\u0442\\u0438\\u0442\\u044c\",\"\\u0445\\u0440\\u0430\\u043d\\u0438\",\"\\u043f\\u0438\\u0448\\u0438\",\",\\u043d\\u043e\",\"\\u043c\\u0430\\u043c\\u0443\",\"\\u043a\\u043e\\u0440\\u043c\\u0438\\u0442\\u044c\",\"\\u043a\\u043b\\u0430\\u0441\\u0441\\u043d\\u044b\\u0439\",\"\\u043e\\u0442\\u043f\\u0440\\u0430\\u0432\\u0438\\u0442\\u044c\",\"\\u043b\\u0435\\u0433\\u043a\\u043e\",\"\\u0440\\u0443\\u0441\\u0441\\u043a\\u0438\\u0445\",\"\\u0440\\u0443\\u0441\\u0441\\u043a\\u0438\\u0435\",\"\\u043e\\u0431\\u043b\\u0430\\u0441\\u0442\\u0438\",\"\\u043a\\u043c\",\"\\u0431\\u043b\\u0438\\u043d\",\"\\u0433\\u0440\\u0443\\u043f\\u043f\\u0435\",\"\\u043f\\u043e\\u0448\\u043b\\u0430\",\"\\u0431\\u0437\",\"\\u0441\\u0442\\u0430\\u0440\\u044b\\u0439\",\"\\u0442\\u0443\",\"\\u0434\\u043e\\u0431\\u0440\\u044b\\u043c\",\"\\u043f\\u0440\\u0430\\u0437\\u0434\\u043d\\u0438\\u043a\",\"\\u043b\\u0438\\u0446\\u043e\",\"\\u0441\\u0432\\u043e\\u043b\\u043e\\u0447\\u044c\",\"\\u043f\\u043e\\u0437\\u0432\\u043e\\u043d\\u0438\\u0442\\u0435\",\"\\u0434\\u0435\\u0431\\u0438\\u043b\\u044b\",\"\\u0433\\u043e\\u043b\\u043e\\u0432\\u0435\",\"\\u0441\\u0432\\u043e\\u0435\\u043c\\u0443\",\"\\u043b\\u044e\\u0431\\u0438\\u043c\\u0430\\u044f\",\"\\u043e\\u043b\\u044c\\u0433\\u0430\",\"\\u0441\\u043e\\u0431\\u0430\\u043a\\u0438\",\"\\u043f\\u0438\\u0442\\u044c\",\"\\u0437\\u0430\\u0440\\u043f\\u043b\\u0430\\u0442\\u0443\",\"\\u043a\\u043e\\u043c\\u043c\\u0435\\u043d\\u0442\\u0430\\u0440\\u0438\\u0438\",\"\\u0447\\u0430\\u0441\",\"\\u0441\\u0435\\u0440\\u0433\\u0435\\u0439\",\"\\u043e\\u0437\",\"\\u043f\\u043e\\u0441\\u0442\\u0430\\u0432\\u0438\\u0442\\u044c\",\"+\",\"\\u043c\\u043d\\u043e\\u0439\",\"\\u0434\\u0435\\u0440\\u0436\\u0430\\u0442\\u044c\",\"\\u043f\\u043b\\u0430\\u0442\\u0435\\u0436\\u0430\",\"\\u043f\\u0440\\u043e\\u0431\\u043b\\u0435\\u043c\\u044b\",\"\\u0433\\u043e\\u0432\\u043e\\u0440\\u044e\",\"\\u0430,\",\"\\u043a\\u043e\\u043d\\u0446\\u0435\",\"\\u043c\\u0430\\u043b\\u044b\\u0448\",\"\\u043d\\u0430\\u0447\\u0430\\u043b\\u0430\",\"\\u043f\\u0443\\u0441\\u043a\\u0430\\u0439\",\"\\u043f\\u043e\\u043c\\u043e\\u0447\\u044c\",\"500\",\"\\u0437\\u0434\\u043e\\u0440\\u043e\\u0432\\u043e\",\"\\u0437\\u0430\\u0434\\u0430\\u0447\\u0443\",\"\\u043b\\u0443\\u0447\\u0448\\u0438\\u0439\",\"25\",\"\\u0432\\u0430\\u0441,\",\"\\u0438,\",\"\\u0443\\u0434\\u043e\\u0432\\u043e\\u043b\\u044c\\u0441\\u0442\\u0432\\u0438\\u0435\\u043c\",\"\\u0443\\u0431\\u0440\\u0430\\u0442\\u044c\",\"\\u0432\\u0430\\u043c,\",\"\\u0432\\u0441\\u044f\\u043a\\u0443\\u044e\",\"\\u043f\\u0440\\u0435\\u0437\\u0438\\u0434\\u0435\\u043d\\u0442\\u0430\",\"\\u0440\\u0435\\u0431\\u0451\\u043d\\u043e\\u043a\",\"\\u0432\\u0430\\u0448\\u0435\\u0433\\u043e\",\"90\",\"\\u0431\\u043e\\u0436\\u0435\",\"\\u0440\\u0443\\u043a\\u0443\",\"\\u044f,\",\"\\u0434\\u0440\\u0443\\u0433\\u043e\\u0433\\u043e\",\"\\u0440\\u043e\\u0434\\u043d\\u044b\\u043c\",\"\\u043e\\u0431\\u044b\\u0447\\u043d\\u043e\",\"\\u043f\\u043e\\u0432\\u043e\\u0434\\u0443\",\"\\u043f\\u0435\\u0441\\u043d\\u0438\",\"\\u0442\\u044f\\u0436\\u0435\\u043b\\u043e\",\"\\u0432\\u0438\\u0434\\u0435\\u043b\\u0438\",\"\\u0432\\u043e\\u0437\\u0440\\u0430\\u0441\\u0442\",\"300\",\"\\u0434\\u0435\\u043d\\u044c!\",\"14\",\"\\u043f\\u043e\\u043c\\u043e\\u0433\\u0430\\u0435\\u0442\",\"\\u0440\\u0430\\u0441\\u0442\\u0440\\u0435\\u043b\\u044f\\u0442\\u044c\",\"\\u0440\\u0435\\u043c\\u043e\\u043d\\u0442\",\"\\u0442\\u0435\\u043b\\u0435\\u0444\\u043e\\u043d\\u0443\",\"\\u043f\\u043e\\u0442\\u0435\\u0440\\u0438\",\"\\u0434\\u043e\\u0447\\u044c\",\"\\u0432\\u0441\\u0435\\u043c\\u0438\",\"\\u043c\\u0438\\u043b\\u0430\\u044f\",\"\\u0445\\u0432\\u0430\\u0442\\u0430\\u0435\\u0442:\",\"(h)\",\"\\u043f\\u0440\\u0438\\u0447\\u0435\\u043c\",\"\\u043c\\u043e\\u0435\",\"\\u043f\\u0438\\u0437\\u0434\\u0435\\u0446\",\"\\u0440\\u0430\\u0434\\u043e\\u0441\\u0442\\u0438\",\"\\u0434\\u0443\\u043c\\u0430\\u0442\\u044c\",\"\\u0432\\u043e\\u0437\\u043c\\u043e\\u0436\\u043d\\u043e\\u0441\\u0442\\u044c\",\"\\u043c\\u0443\\u0436\\u0430\",\"\\u043c\\u0430\\u043b\\u043e\\u0439\",\"\\u043e\\u0447\\u0435\\u0440\\u0435\\u0434\\u044c\",\"\\u0445\\u043e\\u0442\\u0435\\u043b\\u0438\",\"\\u043f\\u043e\\u0440\\u044f\\u0434\\u043e\\u043a\",\"\\u0442\\u0435\\u043c\\u0430\",\"\\u0440\\u0443\\u043a\\u0430\\u043c\\u0438\",\"\\u0432\\u044b\\u0433\\u043b\\u044f\\u0434\\u0438\\u0442\",\"\\u0430\\u043c\\u0438\\u043d\\u044c\",\"\\u043c\\u043e\\u0436\\u0435\\u043c\",\"\\u0441\\u0443\\u0434\\u0430\",\"\\u043f\\u0440\\u0438\\u0447\\u0451\\u043c\",\"\\u043d\\u0430\\u0441\\u0442\\u043e\\u044f\\u0449\\u0438\\u0435\",\"\\u0440\\u0435\\u0434\\u043a\\u0430\\u044f.\",\"\\u043f\\u0438\\u0448\\u0435\\u0442\",\"\\u0441\\u0432\\u043e\\u0435\\u043c\",\"\\u0437\\u0430\\u0431\\u044b\\u043b\\u0438\",\"\\u0432\\u043e\\u043a\\u0440\\u0443\\u0433\",\"(lo)\",\"\\u0445\\u0430\\u0431\\u0430\\u0440\\u043e\\u0432\\u0441\\u043a\",\"\\u043d\\u0435\\u043f\\u0440\\u043e\\u0441\\u0442\\u0443\\u044e\",\"\\u0440\\u0430\\u0439\\u043e\\u043d\",\"\\u0434\\u0443\\u043c\\u0430\\u044e,\",\"\\u0441\\u043e\\u0432\\u0435\\u0440\\u0448\\u0435\\u043d\\u043d\\u043e\",\"\\u0436\\u0430\\u043b\\u044c,\",\"\\u0441\\u0447\\u0435\\u0442\",\"\\u0441\\u043c\\u043e\\u0442\\u0440\\u0438\\u0442\\u0435\",\"\\u043c\\u0430\\u043c\\u0435\",\"\\u0442\\u0440\\u0443\\u0434\\u043d\\u043e\",\"\\u0442\\u0430\\u0442\\u044c\\u044f\\u043d\\u0430\",\"\\u0441\\u0440\\u043e\\u043a\",\"\\u0441\\u0438\\u043b\\u044b\",\"\\u0438\\u0433\\u0440\\u0430\\u0442\\u044c\",\"\\u0436\\u0434\\u0443\\u0442\",\"\\u0441\\u0442\\u0435\\u043d\\u043a\\u0435\",\"\\u0430\\u043b\\u0435\\u043a\\u0441\\u0430\\u043d\\u0434\\u0440\",\"\\u0442\\u0435\\u0445,\",\"\\u043f\\u0440\\u0438\\u043c\\u0435\\u0440\\u043d\\u043e\",\"\\u0432\\u0432\",\"\\u0432\\u043a\\u0443\\u0441\",\"\\u0434\\u0435\\u043b\\u0435!\",\"\\u0441\\u0436\\u0435\\u0447\\u044c\",\"\\u0438\\u044e\\u043b\\u044f\",\"\\u0441\\u0432\\u0435\\u0442\",\"\\u0437\\u0435\\u043c\\u043b\\u0438\",\"\\u043f\\u0440\\u043e\\u0438\\u0441\\u0445\\u043e\\u0434\\u0438\\u0442\",\"\\u043e\\u0445\",\"\\u043f\\u0438\\u0434\\u0430\\u0440\\u0430\\u0441\\u044b\",\"\\u043f\\u0438\\u0434\\u043e\\u0440\\u043e\\u0432\",\"\\u043f\\u0440\\u0430\\u0432\\u0438\\u0442\\u0435\\u043b\\u044c\\u0441\\u0442\\u0432\\u043e\",\"\\u0432\\u044b,\",\"\\u0438\\u0441\\u0442\\u043e\\u0440\\u0438\\u044f\",\"\\u0441\\u043f\\u043e\\u043a\\u043e\\u0439\\u043d\\u043e\",\"\\u043d\\u043e\\u0447\\u044c\",\"\\u0438\\u0433\\u0440\\u0443\",\"\\u044f\\u0432\\u043d\\u043e\",\"\\u043f\\u0438\\u0434\\u043e\\u0440\\u0430\",\"\\u044d\\u0442\\u0438\\u043c\\u0438\",\"!!!!!\",\"\\u043f\\u043e\\u043b\\u0443\\u0447\\u0438\\u043b\\u0430\",\"\\u0434\\u043e\\u0441\\u0442\\u0430\\u0432\\u043a\\u0430\",\"\\u0437\\u0432\\u043e\\u043d\\u0438\\u0442\\u0435\",\"\\u0433\\u043e\\u0440\\u0435\\u0442\\u044c\",\"\\u0436\\u0435\\u043d\\u0449\\u0438\\u043d\",\"\\u0448\\u043a\\u043e\\u043b\\u0443\",\"\\u0433\\u043b\\u0430\\u0437\",\"\\u0442\\u0435\\u0431\\u0435,\",\"60\",\"\\u0441\\u043c\\u043e\\u0442\\u0440\\u044f\",\"\\u0442\\u0440\\u0443\\u0434\\u043d\\u043e\\u043c\",\"\\u0432\\u044b\\u0440\\u0443\\u0447\\u0430\\u0439\\u0442\\u0435\",\"\\u043d\\u0435\\u0432\\u043e\\u0437\\u043c\\u043e\\u0436\\u043d\\u043e\",\"\\u0432\\u0435\\u0447\\u043d\\u043e\",\"\\u0434\\u0435\\u0432\\u043e\\u0447\\u043a\\u0438,\",\"\\u0432\\u0435\\u0441\",\"\\u0441\\u0443\\u043a\\u0443\",\"\\u0434\\u043e\\u0431\\u0440\\u043e\",\"\\u043f\\u0440\\u0430\\u0432\",\"\\u043f\\u0440\\u043e\\u0434\\u0430\\u043b\\u0438\",\"\\u0432\\u0430\\u0436\\u043d\\u043e\",\"\\u043f\\u043e\\u043c\\u043e\\u0449\\u0438\",\"\\u0442\\u044b\\u0441\",\"\\u0432\\u0435\\u0440\\u043d\\u044b\\u0435,\",\"\\u0434\\u0440\\u0443\\u0433\\u043e\\u0435\",\"\\u0434\\u0440\\u0443\\u0433\\u043e\\u043c\\u0443\",\"\\u043f\\u043e\\u0445\\u043e\\u0434\\u0443\",\"\\u0434\\u0443\\u0448\\u0443\",\"\\u043f\\u043b\\u0430\\u0442\\u044f\\u0442\",\"\\ud83d\\udc90\",\".....\",\"\\u043d\\u0430\\u043c\\u043d\\u043e\\u0433\\u043e\",\"\\u043a\\u0440\\u044b\\u043c\",\"1000\",\"\\u0434\\u043e\\u0440\\u043e\\u0433\\u0430\\u044f\",\"\\u0443\\u0431\\u043b\\u044e\\u0434\\u043e\\u043a\",\"\\u0433\\u0434\\u0435-\\u0442\\u043e\",\"\\u043c\\u043e\\u0436\\u043d\\u043e?\",\"\\u0434\\u043e\\u0440\\u043e\\u0433\\u043e\\u0439\",\"\\u043d\\u0438\\u043a\\u0430\\u043a\\u043e\\u0433\\u043e\",\"\\u043a\\u0430\\u0436\\u0434\\u043e\\u0439\",\"\\u0432\\u0438\\u0434\",\"\\u0443\\u0431\\u043b\\u044e\\u0434\\u043a\\u0438\",\"\\u0434\\u0440\\u0443\\u0433\\u043e\\u043c\",\"\\u043d\\u043e\\u0432\\u044b\\u0445\",\"\\u0436\\u0438\\u043b\",\"\\u043e\\u0442\\u043e\\u0440\\u0432\\u0430\\u0442\\u044c\",\"\\u043f\\u043e\\u043c\\u043e\\u0433\\u0438\\u0442\\u0435\",\"\\u0449\\u0430\\u0441\",\"\\u0431\\u0435\\u0440\\u0435\\u0433\\u0438\\u0442\\u0435\",\"\\u043c\\u0443\\u0436\\u0447\\u0438\\u043d\\u044b\",\"\\u0447\\u0435\\u043b\\u043e\\u0432\\u0435\\u043a\\u0443\",\"\\u0440\\u0430\\u0441\\u0441\\u0442\\u0440\\u0435\\u043b\\u0438\\u0432\\u0430\\u0442\\u044c\",\"\\u0433\\u0440\\u0443\\u043f\\u043f\\u0443\",\"\\u043f\\u043b\\u0430\\u0442\\u044c\\u0435\",\"\\u0436\\u0438\\u0437\\u043d\\u0438,\",\"\\u043f\\u0435\\u0440\\u0432\\u0430\\u044f\",\"\\u043d\\u043e\\u0447\\u0438\",\"\\u043f\\u043e\\u043d\\u044f\\u043b\\u0430\",\"\\u0432\\u0435\\u0440\\u043d\\u043e\",\"\\u043b\\u0430\\u0439\\u043a\\u0438\",\"\\u0445\\u0440\\u0435\\u043d\\u044c\",\"\\u043c\\u043e\\u0441\\u043a\\u0432\\u0435\",\"\\u0436\\u0438\\u0432\\u043e\\u0442\\u043d\\u044b\\u0445\",\"\\u0431\\u043e\\u043b\\u044c\\u0448\\u0438\\u0435\",\"\\u043a\\u0430\\u0437\\u043d\\u0438\\u0442\\u044c\",\"\\u0437\\u043d\\u0430\\u043b\\u0438\",\"\\u043c\\u043e\\u0433\\u043b\\u0430\",\"\\u0431\\u0432\",\"\\u0437\\u0430\\u0442\\u0435\\u043c\",\"\\u0435\\u043b\\u0435\\u043d\\u0430\",\"\\u0445\\u0435\\u0440\",\"\\u043b\\u044e\\u0431\\u043e\\u043c\",\"\\u0438\\u0434\\u0438\\u0442\\u0435\",\"\\u043d\\u0435\\u0442?\",\"\\u0441\\u0442\\u043e\\u0440\\u043e\\u043d\\u0443\",\"\\u270c\",\"11\",\"\\u0434\\u0435\\u043b\\u0430\\u043b\\u0430\",\"\\u0434\\u0435\\u0442\\u0441\\u043a\\u0438\\u0439\",\"\\u043f\\u043e\\u043c\\u0438\\u0434\\u043e\\u0440\\u044b\",\"\\u0447\\u0435\\u0441\\u0442\\u044c\",\"\\u043d\\u043e\\u0432\\u0430\\u044f\",\"\\u043f\\u0440\\u043e\\u0431\\u043b\\u0435\\u043c\",\"\\u0431\\u044b\\u0434\\u043b\\u043e\",\"\\u043b\\u0435\\u0441\",\"\\u0440\\u043e\\u0441\\u0441\\u0438\\u0438,\",\"\\u043f\\u043e\\u0448\\u0435\\u043b\",\"\\u0441\\u0435\\u043c\\u044c\\u044e\",\"\\u0441\\u043f\\u0430\\u0441\\u0438\",\"\\u0433\\u043e\\u043b\\u043e\\u0432\\u043e\\u0439\",\"\\u0431\\u043e\\u043b\\u044c\",\"\\u043f\\u043e\\u043d\\u044f\\u043b\",\"\\u043d\\u0435\\u0442!\",\"\\u043e\\u0441\\u0442\\u0430\\u043b\\u0438\\u0441\\u044c\",\"\\u0440\\u0430\\u0441\\u0441\\u0442\",\"\\u0432\\u043b\\u0430\\u0434\\u0438\\u043c\\u0438\\u0440\",\"\\u0431\\u043b\\u0430\\u0433\",\"\\u043f\\u0440\\u043e\\u0449\\u0435\",\"\\u0433\\u043e\\u0434\\u0430.\",\"\\u0441\\u0430\\u0436\\u0430\\u0442\\u044c\",\"\\u0434\\u0440\\u0443\\u0436\\u0435\\u0441\\u043a\\u0430\\u044f,\",\"\\u0438\\u0441\\u0442\\u043e\\u0440\\u0438\\u044e\",\"\\u043f\\u043e\\u0441\\u043b\\u0435\\u0434\\u043d\\u0438\\u0435\",\"\\u0432\\u0430\\u0436\\u043d\\u043e\\u0433\\u043e.\",\"\\u043f\\u0435\\u0440\\u0432\\u043e\\u0433\\u043e\",\"\\u0438\\u043c\\u0435\\u044e\\u0442\",\"\\u0441\\u043a\\u0430\\u0437\\u0430\\u043d\\u043e\",\"\\u043a\\u0430\\u043a\\u043e\\u0439-\\u0442\\u043e\",\"\\u043f\\u0438\\u0437\\u0434\\u0430\",\"\\u0441\\u043c\\u0435\\u0448\\u043d\\u043e\",\"\\u043d\\u0435\\u0434\\u0435\\u043b\\u0438\",\"80\",\"\\u043c\\u0430\\u0448\\u0438\\u043d\\u044b\",\"\\u043f\\u0440\\u0438\\u0448\\u043b\\u0430\",\"\\u0434\\u043e\\u0431\\u0440\\u044b\\u0435!\",\"\\u0441\\u0434\\u0435\\u043b\\u0430\\u043b\\u0430\",\"\\u043c\\u0430\\u043b\\u044c\\u0447\\u0438\\u043a\",\"\\u0442.\\u0434.\",\"\\u0430\\u0432\\u0433\\u0443\\u0441\\u0442\\u0435\",\"\\u0447\\u0435\\u043b\\u043e\\u0432\\u0435\\u043a.\",\"\\u043d\\u0430\\u0442\\u0430\\u043b\\u044c\\u044f\",\"\\u0434\\u0435\\u0442\\u0441\\u0442\\u0432\\u0435\",\"\\u0441\\u0430\\u0439\\u0442\\u0435\",\"\\u043f\\u0440\\u043e\\u0448\\u043b\\u043e\",\"\\u0441\\u0430\\u043c\\u0438\\u0445\",\"\\u043b\\u0438\\u0446\\u0430\",\"\\u043a\\u0443\\u043f\\u0438\\u043b\\u0430\",\"\\u043d\\u043e,\",\"\\u043e\\u0442\\u043d\\u043e\\u0448\\u0435\\u043d\\u0438\\u0435\",\"\\u043a\\u043e\\u0442\\u043e\\u0440\\u043e\\u0435\",\"))\",\"\\u043d\\u0435\\u0434\\u0430\\u0432\\u043d\\u043e\",\"\\u0431\\u0430\\u043d\\u043a\\u0438\",\"\\u043a\\u043e\\u043b\\u0438\\u0447\\u0435\\u0441\\u0442\\u0432\\u043e\",\"\\u0434\\u0435\\u0442\\u0441\\u0442\\u0432\\u0430\",\"\\u043f\\u043e\\u0437\\u0434\\u0440\\u0430\\u0432\\u043b\\u044f\\u0435\\u043c\",\"\\u0441\\u043f\\u0430\\u0442\\u044c\",\"\\u043d\\u0430\\u043b\\u0438\\u0447\\u0438\\u0438\",\"\\u0434\\u0435\\u043b\\u0430\\u043b\\u0438\",\"\\u043f\\u0443\\u0442\\u0438\",\"\\u0437\\u0430\\u0440\\u043f\\u043b\\u0430\\u0442\\u044b\",\"\\u0437\\u0430\\u0440\\u043f\\u043b\\u0430\\u0442\\u0430\",\"\\u0448\\u043b\\u044e\\u0445\\u0430\",\"\\u0434\\u0443\\u043c\\u0430\\u044e\\u0442\",\"\\u043b\\u0435\\u043d\\u0442\\u0435\",\"\\u0447\\u0435\\u0441\\u0442\\u043d\\u043e\",\"\\u043c\\u0430\\u0448\\u0438\\u043d\\u0430\",\"\\u0436\\u0438\\u043b\\u0430\",\"\\u043b\\u044e\\u0434\\u044c\\u043c\\u0438\",\"\\u0432\\u0440\\u0430\\u0447\\u0438\",\"\\u0442\\u0435,\",\"\\u043c\\u044f\\u0441\\u043e\",\"\\u0438\\u043d\\u0442\\u0435\\u0440\\u043d\\u0435\\u0442\",\"\\u0432\\u044b\\u0440\\u0443\\u0447\\u0430\\u0439\\u0442\\u0435,\",\"\\u0443\\u043b.\",\"\\u0442\\u0440\\u0443\\u0434\",\"\\u043c\\u0443\\u0441\\u043e\\u0440\",\"\\u0432\\u0438\\u0434\\u0430\\u0442\\u044c\",\"\\u043c\\u043e\\u0437\\u0433\\u043e\\u0432\",\"\\u0434\\u0435\\u0442\\u0435\\u0439,\",\"\\u043e\\u043a\\u0430\\u0437\\u0430\\u043b\\u043e\\u0441\\u044c!\",\"\\u043f\\u043e\\u0437\\u0434\\u043d\\u043e\",\"\\u0441\\u043e\\u0431\\u043e\\u043b\\u0435\\u0437\\u043d\\u043e\\u0432\\u0430\\u043d\\u0438\\u044f\",\"\\u0441\\u0442\\u0430\\u0440\\u0430\\u044f\",\"\\u0441\\u0447\\u0430\\u0441\\u0442\\u044c\\u044f,\",\"\\ud83d\\ude0a\",\"\\u043f\\u0440\\u0435\\u043a\\u0440\\u0430\\u0441\\u043d\\u044b\\u0439\",\"\\u043e\\u0431\\u0440\\u0430\\u0449\\u0430\\u0442\\u044c\\u0441\\u044f\",\"\\u0433\\u043d\\u0438\\u0434\\u0430\",\"\\u043d\\u0430\\u043f\\u0438\\u0441\\u0430\\u043b\",\"\\u0441\\u0443\\u043f\\u0435\\u0440!\",\"\\u043d\\u0435\\u043e\\u0431\\u0445\\u043e\\u0434\\u0438\\u043c\\u043e\",\"\\u0436\\u0438\\u0437\\u043d\\u044c.\",\"\\u0442.\",\"\\u0434\\u0435\\u0440\\u0435\\u0432\\u043d\\u0435\",\"\\u0445\\u0430\",\"\\u0430\\u0434\\u0443\",\"\\u0432\\u0430\\u0448\\u0435\\u043c\\u0443\",\"\\u043f\\u043e\\u043c\\u043e\\u0436\\u0435\\u0442\",\"\\u0445\\u043e\\u0437\\u044f\\u0438\\u043d\",\"\\u0431\\u044b,\",\"\\u043d\\u0430\\u0448\\u043b\\u0430\",\"\\u043f\\u0430\\u0440\\u0435\\u043d\\u044c\",\"\\u0433\\u043e\\u0432\\u043e\\u0440\\u0438\\u043b\",\"\\u0443\\u043a\\u0440\\u0430\\u0438\\u043d\\u0430\",\"\\u043f\\u0440\\u0430\\u0432\\u0434\\u0443\",\"\\u043a\\u043e\\u043c\\u043c\\u0435\\u043d\\u0442\\u0430\\u0440\\u0438\\u0439\",\"\\u0438\\u0440\\u0438\\u043d\\u0430\",\"\\u0441\\u043e\\u0431\\u0440\\u0430\\u0442\\u044c\",\"\\u0441\\u043e\\u0433\\u043b\\u0430\\u0441\\u0435\\u043d\",\"\\u0436\\u0435.\",\"\\u0432\\u043e\\u0437\\u0440\\u0430\\u0441\\u0442\\u0435\",\"\\u0445\\u0443\\u0439\\u043d\\u044e\",\"\\u0437\\u0434\\u043e\\u0440\\u043e\\u0432\\u044c\\u044f.\",\"\\u0431\\u044b\\u0432\\u0430\\u044e\\u0442\",\"\\u043d\\u0430\\u0447\\u0430\\u043b\\u0438\",\"\\u0436\\u0438\\u0432\\u0438\\u0442\\u0435\",\"\\u043f\\u0440\\u0438\\u0448\\u043b\\u043e\\u0441\\u044c\",\"\\u043f\\u0440\\u0435\\u043a\\u0440\\u0430\\u0441\\u043d\\u044b\\u0435\",\"\\u043d\\u0430\\u0441,\",\"\\u0431\\u0430\\u0431\\u0443\\u0448\\u043a\\u0438\",\"\\u043a\\u0430\\u0436\\u0434\\u043e\\u043c\",\"70\",\"\\u043b\\u044e\\u0434\\u0438.\",\"\\u0447\\u0447\",\"\\u0445\\u043e\\u0440\\u043e\\u0448\\u0438\\u0445\",\"\\u043d\\u0430\\u0447\\u0430\\u043b\\u0435\",\"\\u043d\\u0438\\u0436\\u0435\",\"\\u043e\\u0441\\u0442\\u0440\\u043e\\u0432\",\"\\u043e\\u043a\",\"\\u0447\\u0443\\u0448\\u044c\",\"\\u0440\\u0435\\u0437\\u0443\\u043b\\u044c\\u0442\\u0430\\u0442\",\"\\u043f\\u0435\\u043d\\u0441\\u0438\\u044f\",\"13\",\"\\u0440\\u0430\\u0434\\u0430\",\"\\u0441\\u0442\\u0430\\u043d\\u043e\\u0432\\u0438\\u0442\\u0441\\u044f\",\"\\u0440\\u043e\\u0434\\u043d\\u043e\\u0439\",\"\\u043c\\u0435\\u0441\\u044f\\u0446\\u0435\\u0432\",\"\\u0432\\u0441\\u0451,\",\"\\u0443\\u0448\\u0438\",\"\\u0438\\u0437\\u0432\\u0438\\u043d\\u0438\\u0442\\u0435\",\"\\u043c\\u0430\\u043b\\u0435\\u043d\\u044c\\u043a\\u0438\\u0435\",\"\\u0434\\u043e\\u0440\\u043e\\u0433\\u0443\",\"\\u0447\\u0430\\u0441\\u0430\",\"\\u043c\\u0438\\u043c\\u043e\",\"\\u0437\\u0430\\u043a\\u043e\\u043d\\u044b\",\"\\u0432\\u0435\\u0440\\u0438\\u0442\\u044c\",\"\\u0440\\u043e\\u0441\\u0442\",\"\\u0441\\u043e\\u0431\\u0430\\u043a\",\"\\u043a\\u0441\\u0442\\u0430\\u0442\\u0438\",\"\\u0432\\u0435\\u0440\\u044e\",\"\\u043f\\u0440\\u043e\\u0438\\u0437\\u043e\\u0448\\u043b\\u043e\",\"\\u043f\\u0438\\u0434\\u0430\\u0440\",\"\\u0434\\u0430\\u0451\\u0442\",\"\\u0441\\u0443\\u0434\\u044f\",\"\\u0431\\u043e\\u043b\\u044c\\u043d\\u043e\",\"\\u0446\\u0435\\u043b\\u044b\\u0439\",\"\\u0441\\u0442\\u043e\\u0438\\u043c\\u043e\\u0441\\u0442\\u044c\",\"\\u0432\\u0435\\u0448\\u0430\\u0442\\u044c\",\"\\u0440\\u0430\\u0441\\u0442\\u0443\\u0442\",\"\\u0434\\u0443\\u043c\\u0430\\u043b\\u0430\",\"\\u043f\\u0435\\u0441\\u043d\\u044f\",\"\\u043f\\u043b\\u044e\\u0441\",\"\\u0433\\u043e\\u0441\\u0443\\u0434\\u0430\\u0440\\u0441\\u0442\\u0432\\u0430\",\"\\u043a\\u043e\\u0442\\u043e\\u0440\\u044b\\u043c\",\"\\u0442\\u0435\\u043c,\",\"\\u0431\\u043b\\u044f\\u0434\\u0438\",\"\\u0434\\u0430.\",\"\\u043d\\u043e\\u043c\\u0435\\u0440\\u0443\",\"\\u0432\\u0440\\u0435\\u043c\\u044f,\",\"\\u043a\\u043e\\u043d\\u0435\\u0446\",\"\\u0432\\u0438\\u0434\\u0438\\u0442\",\"\\u0433\\u0430\\u0437\",\"\\u043f\\u043e\\u043a\\u0430\\u0437\\u0430\\u0442\\u044c\",\"\\u0436\\u0438\\u0432\\u043e\\u0442\\u043d\\u044b\\u0435\",\"\\u043c\\u0430\\u0442\\u0435\\u0440\\u0438\",\"\\u0440\\u0430\\u0431\\u043e\\u0442\\u0430\\u043b\",\"\\u043f\\u0443\\u0442\\u0438\\u043d\\u0443\",\"\\u0432\\u0430\\u043c.\",\",,\",\"\\u043d\\u0438\\u043a\\u0430\\u043a\\u043e\\u0439\",\"\\u0433\\u043e\\u0432\\u043d\\u043e\",\"\\u043c\\u043e\\u043b\\u043e\\u043a\\u043e\",\"\\u0443\\u0432\\u0430\\u0436\\u0435\\u043d\\u0438\\u0435\",\"\\u043d\\u043e\\u0447\\u044c\\u044e\",\"\\u0430\\u0432\\u0442\\u043e\\u0440\\u0438\\u0437\\u0430\\u0446\\u0438\\u0438\",\"\\u043f\\u043e\\u043b\\u0443\\u0447\\u0430\\u044e\\u0442\",\".\\u0430\",\"\\u043e\\u0442\\u0440\\u0443\\u0431\\u0438\\u0442\\u044c\",\"\\u043a\\u043e\\u0442\\u043e\\u0440\\u043e\\u043c\",\"\\u0443\\u043c\\u043d\\u0438\\u0446\\u0430\",\"\\u0434\\u043e\\u0440\\u043e\\u0433\\u0430\",\"\\u043f\\u0440\\u043e\\u0448\\u043b\\u043e\\u043c\",\"\\u0433\\u043b\\u0430\\u0437\\u0430\\u0445\",\"\\u043e\\u0442\\u043b\\u0438\\u0447\\u043d\\u044b\\u0439\",\"\\u043b\\u0435\\u0433\\u0447\\u0435\",\"\\u043d\\u0430\\u043f\\u0440\\u0438\\u043c\\u0435\\u0440\",\"\\u043e\\u0442\\u0434\\u0430\\u0442\\u044c\",\"\\u043c\\u043e\\u0438\\u043c\",\"\\u0433\\u043e\\u0441\\u043f\\u043e\\u0434\\u0438,\",\"\\u0445\\u043e\\u0434\\u0443\",\"\\u0440\\u0435\\u0448\\u0438\\u043b\",\"\\u0440\\u0430\\u043d\\u043e\",\"\\u0440\\u0435\\u0447\\u044c\",\"\\u0441\\u043f\\u0435\\u0446\\u0438\\u0430\\u043b\\u044c\\u043d\\u043e\",\"\\u0445\\u0440\\u0435\\u043d\\u0430\",\"\\u043e\\u0442\\u0432\\u0435\\u0447\\u0430\\u0442\\u044c\",\"\\u0431\\u043b\\u0438\\u0436\\u0435\",\"\\u043f\\u043b\\u043e\\u0449\\u0430\\u0434\\u0438\",\"\\u0442\\u0430\\u043c,\",\"\\u0434\\u0435\\u0442\\u0441\\u0442\\u0432\\u043e\",\"\\u0433\\u043e\\u043b\\u043e\\u0441\",\"\\u0432\\u043e\\u0439\\u043d\\u0430\",\"\\u0437\\u0430\\u043c\\u0435\\u0447\\u0430\\u0442\\u0435\\u043b\\u044c\\u043d\\u044b\\u0439\",\"\\u0431\\u0435\\u0434\\u043d\\u044b\\u0439\",\"2020\",\"\\u043f\\u043e\\u0445\\u043e\\u0436\",\"\\u0441\\u043b\\u0443\\u0448\\u0430\\u0442\\u044c\",\"\\u0445\\u0443\\u044f\",\"\\u0432\\u0440\\u0430\\u0447\",\"\\u0441\\u043b\\u043e\\u0432\\u043e\\u043c\",\"\\u0430\\u0431\\u0441\\u043e\\u043b\\u044e\\u0442\\u043d\\u043e\",\"\\u043f\\u0440\\u0438\\u0432\\u0435\\u0442!\",\"\\u0441\\u0430\\u0439\\u0442\",\"\\u043f\\u0440\\u0430\\u043a\\u0442\\u0438\\u0447\\u0435\\u0441\\u043a\\u0438\",\"\\u0441\\u043e\\u0441\\u0438\",\"\\u0436\\u0435\\u043b\\u0430\\u043d\\u0438\\u0435\",\"\\u043f\\u043e\\u043c\\u043e\\u0433\\u0438\",\"\\u0438\\u0441\\u043a\\u0430\\u0442\\u044c\",\"\\u0437\\u0438\\u043c\\u043e\\u0439\",\"\\u0441\\u043a\\u0430\\u0437\\u0430\\u043b\\u0430\",\"\\u0441\\u043b\\u0435\\u0434\\u0443\\u044e\\u0449\\u0438\\u0439\",\"\\u0442\\u0435\\u0431\\u044f,\",\"\\u0434\\u0443\\u043c\\u0430\\u0435\\u0442\\u0435\",\"\\u0433\\u0435\\u0440\\u043c\\u0430\\u043d\\u0438\\u0438\",\"\\u043b\\u0441\",\"\\u0441\\u043e\\u0431\\u0430\\u043a\\u0443\",\"\\u043d\\u0435\\u043c\\u0443\",\"\\u0441\\u043e\\u044e\\u0437\",\"\\u043e\\u0441\\u0442\\u0430\\u043d\\u0435\\u0442\\u0441\\u044f\",\"\\u043c\\u043e\\u043b\\u043e\\u0434\\u0446\\u044b!\",\"\\u043f\\u0443\\u0442\\u044c\",\"\\u0442\\u0443\\u043f\\u043e\\u0439\",\"\\u0438\\u0441\\u0442\\u043e\\u0440\\u0438\\u0438\",\"\\u043d\\u0430\\u0447\\u043d\\u0443\\u0442\",\"\\u043f\\u043e\\u0432\\u0435\\u0437\\u043b\\u043e\",\"\\u043e\\u0433\\u0443\\u0440\\u0446\\u044b\",\"\\u0437\\u0447\",\"\\u0432\\u0435\\u043b\\u0438\\u043a\\u0438\\u0439\",\"\\u0441\\u043e\\u043b\\u0438\",\"\\u0437\\u043e\\u0432\\u0443\\u0442\",\"\\u043e\\u0441\\u043d\\u043e\\u0432\\u043d\\u043e\\u043c\",\"\\u043e\\u0441\\u0442\\u0430\\u043b\\u0441\\u044f\",\"\\u043a\\u0430\\u0441\\u0442\\u0440\\u0438\\u0440\\u043e\\u0432\\u0430\\u0442\\u044c\",\"\\u0433\\u043e\\u0441\\u043f\\u043e\\u0434\\u0430\",\"\\u0438\\u043d\\u0444\\u043e\\u0440\\u043c\\u0430\\u0446\\u0438\\u044e\",\"\\u0441\\u0442\\u0438\\u0445\\u0438\",\"\\u0445\\u043e\\u0434\\u0438\\u043b\\u0438\",\"\\u0442\\u0435\\u0440\\u0440\\u0438\\u0442\\u043e\\u0440\\u0438\\u0438\",\"\\u043f\\u0440\\u0435\\u043a\\u0440\\u0430\\u0441\\u043d\\u0430\\u044f\",\"\\u0432\\u0430\\u0448\\u0435\\u043c\",\"\\u0434\\u0435\\u0440\\u044c\\u043c\\u043e\",\"\\u043f\\u043e\\u043b\\u0435\",\"\\u043f\\u0435\\u0440\\u0432\\u044b\\u0445\",\"\\u0446\\u0430\\u0440\\u0441\\u0442\\u0432\\u043e\",\"\\u043f\\u0440\\u043e\\u0431\\u043b\\u0435\\u043c\\u0430\",\"\\u0438\\u0433\\u0440\\u044b\",\"\\u0440\\u0443\\u043a\\u0430\\u0445\",\"\\u043f\\u0440\\u0438\\u0434\\u0443\\u0440\\u043e\\u043a\",\"\\u0440\\u0430\\u0437\\u043d\\u044b\\u0445\",\"\\u0442\\u0432\\u043e\\u0438\\u0445\",\"\\u0441\\u043c\\u0435\\u0440\\u0442\\u0438\",\"\\u0445\\u043e\\u0434\\u044f\\u0442\",\"\\u0447\\u0437\",\"\\u0441\\u043e\\u0441\\u0442\\u043e\\u044f\\u043d\\u0438\\u0435\",\"\\u043e\\u0439,\",\"\\u0434\\u043e\\u043b\\u0433\\u0438\\u0435\",\"\\u043e\\u0442\\u043b\\u0438\\u0447\\u043d\\u043e\",\"\\u043f\\u043e\\u043b\\u0443\\u0447\\u0438\\u043b\\u0438\",\"\\u043e\\u043f\\u044b\\u0442\",\"18\",\"\\u0438\\u043d\\u0444\\u043e\\u0440\\u043c\\u0430\\u0446\\u0438\\u044f\",\"\\u043c\\u043e\\u0441\\u043a\\u0432\\u0430\",\"\\u0435\\u0445\\u0430\\u0442\\u044c\",\"\\u0431\\u044b.\",\"\\u0432\\u0437\\u044f\\u043b\\u0438\",\"\\u0431\\u0440\\u0430\\u0442\",\"\\u0437\\u0430\\u0435\\u0431\\u0430\\u043b\\u0438\",\"\\u0434\\u043e\\u043a\\u0443\\u043c\\u0435\\u043d\\u0442\\u044b\",\"\\u0441\\u0435\\u0431\\u044f,\",\"\\u043a\\u043b\\u0430\\u0441\\u0441!\",\"\\u0443\\u043a\\u0440\\u0430\\u0438\\u043d\\u044b\",\"\\u0440\\u043e\\u0434\\u043d\\u044b\\u0435\",\"\\u043c\\u043e\\u043b\\u043e\\u0434\\u0435\\u0446.\",\"\\u043b\\u0435\\u0442\\u043e\\u043c\",\"\\u0431\\u043e\\u043b\\u044c\\u0448\\u0438\\u043d\\u0441\\u0442\\u0432\\u043e\",\"\\u0431\\u044b\\u0441\\u0442\\u0440\\u0435\\u0435\",\"\\u043f\\u043e\\u043b\\u043d\\u043e\\u0439\",\"\\u043a\\u0432\\u0430\\u0440\\u0442\\u0438\\u0440\\u0430\",\"\\u0448\\u043a\\u043e\\u043b\\u0430\",\"\\u0441\\u043e\\u0441\\u0442\\u043e\\u044f\\u043d\\u0438\\u0438\",\"\\u043d\\u0430\\u043a\\u043e\\u043d\\u0435\\u0446\",\"\\u043d\\u0430\\u0437\\u0432\\u0430\\u043d\\u0438\\u0435\",\"\\u0441\\u0442\\u0430\\u0442\\u044c\",\"\\u0434\\u0430\\u0432\\u0438\\u0442\\u044c\",\"\\u043f\\u043e\\u043b\\u0443\\u0447\\u0438\\u043b\\u043e\\u0441\\u044c\",\",\\u043d\\u0435\",\"\\u043e\\u0431\\u0430\",\"\\u043e\\u0442\\u0446\\u0430\",\"\\u0440\\u043e\\u0436\\u0434\\u0435\\u043d\\u0438\\u044f,\",\"\\u043d\\u0430\\u0437\\u0432\\u0430\\u0442\\u044c\",\"\\u0443\\u0432\\u0438\\u0434\\u0435\\u0442\\u044c\",\"\\u043f\\u043e\\u0448\\u0451\\u043b\",\"\\u043c\\u043e\\u043b\\u043e\\u0434\\u0446\\u044b,\",\"\\u0441\\u043e\\u0432\\u0435\\u0441\\u0442\\u044c\",\"\\u0437\\u0435\\u043c\\u043b\\u044e\",\"\\u0434\\u0435\\u0442\\u043a\\u0438\",\"\\u043a\\u043b\\u0430\\u0441\\u0441\\u043d\\u0430\\u044f\",\"\\ud83e\\udd23\",\"\\u0435\\u0431\\u043b\\u043e\",\"\\u0441\\u0432\\u043e\\u0451\\u043c\",\"\\u0443\\u043c\\u043d\\u0438\\u0447\\u043a\\u0430\",\"\\ud83d\\ude02\\ud83d\\ude02\\ud83d\\ude02\",\"\\u044f\\u0432\\u043b\\u044f\\u0435\\u0442\\u0441\\u044f\",\"\\u043e\\u0442\\u0440\\u0435\\u0437\\u0430\\u0442\\u044c\",\"\\u0433\\u043e\\u0442\\u043e\\u0432\",\"\\u043f\\u0435\\u0440\\u043e\",\"\\u043d\\u043e\\u0440\\u043c\\u0430\\u043b\\u044c\\u043d\\u044b\\u0439\",\"\\u0437\\u0434\\u043e\\u0440\\u043e\\u0432\\u044c\\u044f!\",\"\\u043a\\u043e\\u0448\\u043a\\u0430\",\"\\u0432\\u0440\\u0435\\u043c\\u044f.\",\"\\u043d\\u0430\\u0441.\",\"\\u0436\\u0438\\u0432\\u0451\\u043c\",\"\\u043f\\u043e\\u0434\\u0441\\u043a\\u0430\\u0436\\u0438\\u0442\\u0435,\",\"\\u0431\\u043b\\u0430\\u0433\\u043e\\u0434\\u0430\\u0440\\u044f\",\"\\u0432\\u0435\\u0441\\u0442\\u0438\",\"\\u0442\\u043e.\",\"\\u0442\\u043e\\u0436\\u0435.\",\"\\u043a\\u0430\\u0436\\u0434\\u044b\\u043c\",\"\\u0432\\u044b\\u0431\\u043e\\u0440\",\"\\u0440\\u043e\\u0434\\u0438\\u043b\\u0441\\u044f\",\"\\u0445\\u0443\\u0439\\u043b\\u043e\",\"\\u0434\\u0443\\u043c\\u0430\\u0435\\u0442\",\"\\u043f\\u043e\\u0441\\u043b\\u0435\\u0434\\u043d\\u0435\\u0435\",\"\\u0433\\u043e\\u0442\\u043e\\u0432\\u044b\",\"\\u0440\\u0430\\u0437\\u0443\",\"\\u0447\\u0438\\u0441\\u043b\\u0430\",\"\\u0440\\u0430\\u0431\\u043e\\u0442\\u0430\\u043b\\u0430\",\"\\u0443\\u043c\\u043d\\u044b\\u0439\",\"\\u0434\\u043e\\u043b\\u0431\\u043e\\u0435\\u0431\",\"\\u0432\\u0438\\u0434\\u0435\",\"\\u043c\\u043e\\u0437\\u0433\",\"\\u0441\\u043c\\u044b\\u0441\\u043b\",\"\\u043f\\u0440\\u0438\\u0432\\u0435\\u0442.\",\"\\u0436\\u0440\\u0430\\u0442\\u044c\",\"\\u0441\\u0435\\u0431\\u044f.\",\"\\u0431\\u0435\\u0440\\u0443\\u0442\",\"\\u0443\\u043b\",\"\\u043a\\u0440\\u0430\\u0441\\u0438\\u0432\\u043e,\",\"\\u043e\\u0431\\u0440\\u0430\\u0437\\u043e\\u0432\\u0430\\u043d\\u0438\\u0435\",\"\\u043c\\u0430\\u043b\\u0435\\u043d\\u044c\\u043a\\u0430\\u044f\",\"\\u043b\\u044e\\u0431\\u0438\\u043c\",\"17\",\"21\",\"\\u044d\\u0442\\u043e,\",\"\\u0441\\u043c\\u043e\\u0442\\u0440\\u0438\",\"\\u043d\\u0430\\u0441\\u0435\\u043b\\u0435\\u043d\\u0438\\u044f\",\"\\u0434\\u0432\\u043e\\u0440\\u0435\",\"\\u0442\\u0435\\u043c\\u0443\",\"\\u0447\\u0430\\u0449\\u0435\",\"\\u0438\\u043d\\u0442\\u0435\\u0440\\u043d\\u0435\\u0442\\u0435\",\"\\u0432\\u0438\\u0440\\u0443\\u0441\",\"\\u043f\\u043e\\u043b\\u0443\\u0447\\u0430\\u0442\\u044c\",\"\\u0433\\u0434\\u0435?\",\"\\u043d\\u043e\\u0432\\u043e\\u0441\\u0442\\u0438\",\"\\u0437\\u043d\\u0430\\u043b\",\"\\u0431\\u043b\\u0430\\u0433\\u043e\\u043f\\u043e\\u043b\\u0443\\u0447\\u0438\\u044f\",\"\\u0443\\u0434\\u0430\\u0440\",\"\\u0431\\u0435\\u043b\\u044b\\u0439\",\"\\u043f\\u0440\\u043e\\u0434\\u0430\\u044e\\u0442\",\"\\u0432\\u0441\\u0435\\u043c,\",\"\\u0434\\u0435\\u043d\\u044c\\u0433\\u0438.\",\"\\u043b\\u0438?\",\"\\u043b\\u044e\\u0431\\u0438\\u0442\\u0435\",\"\\u0440\\u0430\\u0437.\",\"\\u043d\\u0430\\u0448\\u0435\\u043c\\u0443\",\"\\u0438\\u0431\\u043e\",\"\\u0440\\u0443\\u043a\\u0430\",\"\\u0448\\u043a\\u043e\\u043b\\u044b\",\"\\u043d\\u0435\\u043a\\u043e\\u0442\\u043e\\u0440\\u044b\\u0445\",\"\\u0434\\u0440\\u0443\\u0433\\u0443\\u044e\",\"\\u0434\\u043e\\u0441\\u0442\\u0430\\u0442\\u043e\\u0447\\u043d\\u043e\",\"\\u0440.\",\"\\u0432\\u044b\\u0431\\u043e\\u0440\\u044b\",\"\\u0432\\u044b\\u0448\\u0435\\u043b\",\"\\u0434\\u0430\\u043d\\u043d\\u044b\\u0439\",\"q\",\"\\u043a\\u0440\\u0430\\u0441\\u0438\\u0432\\u043e\\u0435\",\"\\u0431\\u043b\\u044f\\u0434\\u0435\\u0439\",\"\\u043f\\u0440\\u0438\\u0434\\u0451\\u0442\",\"\\u0440\\u0435\\u0448\\u0438\\u043b\\u0438\",\"\\u0441\\u0435\\u0440\\u0434\\u0446\\u0430\",\"\\u0440\\u0430\\u0431\\u043e\\u0442\\u0430\\u043b\\u0438\",\"\\u0448\\u043e\",\"\\u043f\\u0438\\u0434\\u043e\\u0440\\u0430\\u0441\\u043e\\u0432\",\"\\u043c\\u0430\\u0448\\u0438\\u043d\\u0443\",\"\\u0432\\u0435\\u0434\\u0440\\u043e\",\"\\u0447\\u0438\\u0441\\u0442\\u043e\",\"\\u0432\\u043e\\u0442,\",\"\\u043f\\u043e\\u0434\\u0432\\u0435\\u0441\\u0438\\u0442\\u044c\",\"\\u043a\\u0430\\u0436\\u0434\\u0443\\u044e\",\"\\u0446\\u0435\\u043d\\u0442\\u0440\\u0435\",\"\\u0432\\u0441\\u0435\\u0445,\",\"\\u0443\\u0432\\u0438\\u0434\\u0435\\u043b\\u0430\",\"\\u043f\\u0440\\u043e\\u0441\\u0442\\u0438\",\"\\u043f\\u043e\\u0434\\u0435\\u043b\\u0438\\u0442\\u044c\\u0441\\u044f\",\"\\u043c\\u043d\\u043e\\u0433\\u043e\\u0435\",\"\\u0437\\u0430\\u043f\\u0440\\u043e\\u0441\",\"\\u043e\\u0431\\u0440\\u0430\\u0442\\u043d\\u043e\",\"\\u0433\\u0435\\u0440\\u043e\\u0439\",\"\\u044d\\u0442\\u043e.\",\"\\u0432\\u0441\\u044f\\u043a\\u0438\\u0445\",\"\\u0438\\u0433\\u0440\\u0435\",\"\\u043b\\u0435\\u0447\\u0438\\u0442\\u044c\",\"\\u043f\\u0438\\u0434\\u043e\\u0440\\u0430\\u0441\",\"\\u0443\\u043c\\u043d\\u044b\\u0435\",\"\\u0442\\u0435\\u0440\\u043f\\u0435\\u0442\\u044c\",\"\\u043e\\u0442\\u043d\\u043e\\u0448\\u0435\\u043d\\u0438\\u044f\",\"\\u043c\\u0430\\u0433\\u0430\\u0437\\u0438\\u043d\\u0435\",\"\\u0434\\u0443\\u0440\\u0430\\u043a\",\"\\u0441\\u043e\\u0445\\u0440\\u0430\\u043d\\u0438\\u0442\\u044c\",\"\\u043c\\u044b\\u0441\\u043b\\u0438\",\"\\u043c\\u043d\\u0435,\",\"\\u043d\\u0430\\u0447\\u0430\\u043b\\u043e\",\"\\u0434\\u0435\\u0442\\u0435\\u0439.\",\"\\u0434\\u0435\\u043b\\u0430\\u0439\\u0442\\u0435\",\"\\ud83d\\ude09\",\"\\u0441\\u0432\\u043e\\u044f\",\"\\ud83c\\udf81\",\"\\u0434\\u043e\\u0431\\u0440\\u044b\\u0445\",\"\\u043d\\u0430\\u0441\\u0442\\u043e\\u044f\\u0449\\u0430\\u044f\",\"\\u0438\\u0434\\u0438\\u043e\\u0442\\u044b\",\"\\u0431\\u043e\\u043e\",\"\\u043d\\u0430\\u043f\\u0438\\u0441\\u0430\\u043b\\u0430\",\"\\u0437\\u0430\\u043f\\u0430\\u0445\",\"\\u0434\\u0435\\u0434\",\"\\u043c\\u043e\\u0436\\u0435\\u0442,\",\"\\u0433\\u043e\\u0432\\u043e\\u0440\\u0438\\u043b\\u0438\",\"\\u0432\\u0430\\u043c!\",\"19\",\"\\u043e\\u0441\\u0442\\u0430\\u0432\\u0438\\u0442\\u044c\",\"\\u0447\\u0435\\u043b\\u043e\\u0432\\u0435\\u043a\\u0430.\",\"\\u043f\\u0440\\u0430\\u0432\\u0434\\u0430,\",\"\\u0434\\u0435\\u043f\\u0443\\u0442\\u0430\\u0442\\u044b\",\"\\u0434\\u043e\\u0431\\u0430\\u0432\\u044c\\u0442\\u0435\",\"\\u0441\\u0430\\u043c\\u0438\\u043c\",\"\\u0440\\u0430\\u0437\\u043d\\u0438\\u0446\\u0430\",\"\\u043d\\u043e\\u0440\\u043c\\u0430\\u043b\\u044c\\u043d\\u044b\\u0435\",\"\\u0437\\u0430\\u0431\\u0440\\u0430\\u043b\\u0438\",\"\\u043c\\u0430\\u044f\",\"\\u043f\\u043e\\u0445\\u043e\\u0436\\u0430\",\"\\u0433\\u0430\\u043d\\u0434\\u043e\\u043d\",\"\\u043e\\u043a\\u0430\\u0437\\u044b\\u0432\\u0430\\u0435\\u0442\\u0441\\u044f\",\"\\u0442\\u0430\\u043a\\u043e\\u043c\\u0443\",\"\\u044f\\u0441\\u043d\\u043e\",\"\\u043d\\u0430\\u0434\\u043e\\u0435\\u043b\\u0438\",\",\\u044f\",\"\\u0438\\u0434\\u0438\\u043e\\u0442\",\"\\u0442\\u0435\\u043b.\",\"\\u0443\\u043c\\u0435\\u044e\\u0442\",\"\\u043f\\u0440\\u0438\\u0445\\u043e\\u0434\\u0438\\u0442\",\"\\u0436\\u0430\\u0440-\\u043f\\u0442\\u0438\\u0446\\u044b\",\"\\u0435\\u0444\\u0440\\u0435\\u043c\\u043e\\u0432\",\"\\u0443\\u043c\\u0435\\u0440\",\"\\u0442\\u043e\\u043b\\u043a\\u0443\",\"\\u0430\\u043b\\u0435\\u043a\\u0441\\u0435\\u0439\",\"\\u0440\\u0430\\u0437\\u043c\\u0435\\u0440\\u044b\",\"\\u0443\\u043a\\u0440\\u0430\\u0438\\u043d\\u0443\",\"\\u0444\\u043e\\u0440\\u043c\\u0430\",\"\\u043a\\u0440\\u0430\\u0441\\u043e\\u0442\\u044b\",\"\\u043d\\u043e\\u0432\\u0443\\u044e\",\"150\",\",\\u044d\\u0442\\u043e\",\"\\u0436\\u0438\\u0437\\u043d\\u044c,\",\"\\u043f\\u043e\\u043f\\u0440\\u043e\\u0431\\u043e\\u0432\\u0430\\u0442\\u044c\",\"\\u0434\\u0430\\u0441\\u0442\",\"\\u0436\\u0434\\u0451\\u0442\",\"\\u0442\\u0432\\u043e\\u0438\\u043c\",\"\\u0445\\u043e\\u0434\\u0438\\u0442\",\"\\u0432\\u0442\\u043e\\u0440\\u0430\\u044f\",\"\\u0447\\u0443\\u0436\\u043e\\u0439\",\"\\u0433\\u043e\\u0440\\u0435\",\"\\u043d\\u0430\\u0440\\u043e\\u0434\\u0430.\",\"\\u0443\\u043d\\u0438\\u0447\\u0442\\u043e\\u0436\\u0430\\u0442\\u044c\",\"\\u0432\\u0441\\u0451.\",\"\\u0431\\u043e\\u044f\\u0442\\u0441\\u044f\",\"\\u0431\\u0430\\u0442\\u044c\\u043a\\u0430\",\"\\u0430\\u0440\\u043c\\u0438\\u0438\",\"\\u0433\\u043e\\u0441\\u0442\\u0438\",\"\\u043f\\u043e\\u0434\\u0430\\u0440\\u043e\\u043a\",\"\\u043a\\u043e\\u0433\\u043e-\\u0442\\u043e\",\"\\u043f\\u043e\\u0434\\u0443\\u043c\\u0430\\u0442\\u044c\",\"\\u0432\\u0437\\u044f\\u043b\",\"\\u0438\\u0442\\u043e\\u0433\\u0435\",\"\\u043d\\u043e\\u0441\\u0438\\u0442\\u044c\",\"\\u0444\\u0443\\u0440\\u0433\\u0430\\u043b\",\"\\u043a\\u043b\\u0430\\u0441\\u0441\\u043d\\u044b\\u0435\",\"\\u043d\\u0430\\u0445\\u0435\\u0440\",\"\\u0443\\u0431\\u0438\\u043b\",\"\\u0441\\u043e\\u043e\\u0431\\u0449\\u0435\\u043d\\u0438\\u0435\",\"\\u0441\\u0438\\u043b\\u0430\",\"\\u0441\\u043c\\u043e\\u0442\\u0440\\u044f\\u0442\",\"\\u043f\\u043e\\u043d\\u0438\\u043c\\u0430\\u044e,\",\"\\u0441\\u043c\",\"\\u0434\\u043e\\u043b\\u0431\\u043e\\u0435\\u0431\\u044b\",\"\\u043a\\u043b\\u0430\\u0441\\u0441\\u044b\",\"\\u0447\\u0435\\u0440\\u043d\\u044b\\u0439\",\"\\u043f\\u043e\\u0441\\u043c\\u043e\\u0442\\u0440\\u0438\",\"\\u0440\\u0430\\u0431\\u043e\\u0442\\u0430\\u044e\",\"\\u0444\\u043e\\u0442\\u043e\\u0433\\u0440\\u0430\\u0444\\u0438\\u0438\",\"\\u0431\\u0435\\u0434\\u043d\\u044b\\u0435\",\"\\u0435\\u0431\\u0430\\u043b\",\"\\u0432\\u043f\\u043e\\u043b\\u043d\\u0435\",\"\\u0441\\u0435\\u043d\\u0442\\u044f\\u0431\\u0440\\u044f\",\"\\u0431\\u0443\\u0434\\u0435\\u0442?\",\"\\u0431\\u043e\\u043b\\u044c\\u043d\\u043e\\u0439\",\"\\u0433\\u043e\\u0440\\u0436\\u0443\\u0441\\u044c\",\"\\u0433\\u0440\\u0430\\u0436\\u0434\\u0430\\u043d\",\"\\u0441\\u043e\\u0432\\u0435\\u0441\\u0442\\u0438\",\"\\u0441\\u0430\\u043c\\u043e\",\"\\u043c\\u043e\\u0447\\u0438\\u0442\\u044c\",\"\\u0441\\u043a\\u0430\\u0436\\u0443\",\"\\u044d\\u0442\\u043e?\",\"\\u0437\\u043d\\u0430\\u0435\\u043c\",\"\\u043d\\u043e\\u0432\\u043e\\u0433\\u043e\",\"\\u043a\\u0440\\u0430\\u0441\\u043d\\u043e\\u0439\",\"\\u043f\\u0435\\u0440\\u0432\\u043e\\u043c\",\"\\u0442\\u0430\\u043b\\u0430\\u043d\\u0442\",\"\\u0441\\u0442\\u0430\\u043b\\u0438\\u043d\",\"\\u0447\\u0432\",\"\\u043c\\u0430\\u0441\\u0442\\u0435\\u0440\",\"\\u0432\\u043a\\u0443\\u0441\\u043d\\u044b\\u0439\",\"\\u043a\\u0440\\u0430\\u0441\\u0438\\u0432\\u043e.\",\"\\u0431\\u043e\\u0433\\u043e\\u043c\",\"\\u0430\\u043b\\u043b\\u0430\\u0445\",\"\\u043f\\u043e\\u043b\\u0443\\u0447\\u0438\\u0442\\u0441\\u044f\",\"\\u0441\\u043a\\u0430\\u0436\\u0438\",\"\\u043f\\u043e\\u043d\\u0438\\u043c\\u0430\\u044e\\u0442\",\"\\u043a\\u043e\\u0444\\u0435\",\"\\u043c\\u043e\\u0436\\u043d\\u043e.\",\"\\u043a\\u0430\\u043f\\u0438\\u0442\\u0430\\u043d\\u0430\",\"000\",\"\\u0434\\u043e\\u043c\\u0430.\",\"\\u043f\\u043e\\u043b\\u043d\\u0430\\u044f\",\"\\u0442\\u0440\\u0435\\u0431\\u0443\\u0435\\u0442\\u0441\\u044f\",\"\\u043f\\u043e\\u0442\\u043e\\u043c\\u0443,\",\"\\u0433\\u043e\",\"\\u0440\\u043e\\u0434\\u0438\\u043d\\u044b\",\"\\u043c\\u0443\\u0436\\u0438\\u043a\\u0430\",\"\\u0441\\u043c\\u043e\\u0442\\u0440\\u0438\\u0442\",\"\\u043f\\u0435\\u0440\\u0432\\u044b\\u0435\",\"\\u0441\\u0432\\u0435\\u0442\\u0435\",\"\\u043c\\u0443\\u0436\\u0438\\u043a\\u043e\\u0432\",\"\\u0444\\u043b\\u0430\\u0433\",\"\\ud83d\\ude21\",\"\\u043c\\u043e\\u043b\\u043e\\u0434\\u043e\\u0439\",\"\\u0434\\u043e\\u0440\\u043e\\u0436\\u0435\",\"\\u043f\\u0440\\u0438\\u0448\\u043b\\u043e\",\"\\u043f\\u0440\\u0430\\u0432\\u0438\\u043b\\u044c\\u043d\\u043e,\",\"\\u0434\\u0435\\u043f\\u0443\\u0442\\u0430\\u0442\\u043e\\u0432\",\"\\ud83d\\ude01\",\"\\u0432\\u0438\\u043d\\u043e\\u0432\\u0430\\u0442\",\"\\u0431\\u044b\\u043b\\u0430,\",\"\\u0437\\u0437\",\"\\u043d\\u0430\\u0447\\u0430\\u0442\\u044c\",\"\\u0441\\u0447\\u0438\\u0442\\u0430\\u044e\\u0442\",\"\\u0442\\u0438\\u0445\\u043e\",\"\\u043c\\u043e\\u043b\\u043e\\u0434\\u044b\\u0435\",\"\\u0431\\u0430\\u0431\\u043a\\u0438\",\"\\u0434\\u0443\\u043c\\u0430\\u043b\",\"\\u0437\\u0432\",\"\\u0432\\u0447\",\"\\u043f\\u0440\\u043e\\u0441\\u0442\\u044b\\u0445\",\"\\u0432\\u043e\\u043d\",\"\\u0437\\u0430\\u0434\\u043d\\u0438\\u0446\\u0443\",\"45\",\"\\u0442\\u0443\\u043f\\u0430\\u044f\",\"\\u043f\\u043e\\u0441\\u0442\",\"\\u0432\\u043d\\u0443\\u0442\\u0440\\u0438\",\"\\u0430\\u043d\\u0434\\u0440\\u0435\\u0439\",\"\\u0442\\u0440\\u0435\\u0442\\u0438\\u0439\",\"\\u0432\\u0435\\u0440\\u043d\\u0443\\u0442\\u044c\\u0441\\u044f\",\"\\u043d\\u0430\\u0434\\u043e\\u0435\\u043b\\u043e\",\"\\u0441\\u043b\\u0443\\u0447\\u0430\\u0439\\u043d\\u043e\",\"\\u043f\\u0440\\u0438\\u0434\\u0435\\u0442\",\"\\u043f\\u043e\\u0436\\u0430\\u043b\\u0443\\u0439\\u0441\\u0442\\u0430.\",\"\\u043a\\u0430\",\"\\u043a\\u043e\\u0440\\u043e\\u0447\\u0435\",\"\\u043d\\u043e\\u0432\\u043e\\u0435\",\"\\u043d\\u0438\\u043a\\u043e\\u043b\\u0430\\u0439\",\"\\u043a\\u0440\\u043e\\u0432\\u044c\",\"\\u043f\\u0430\\u043c\\u044f\\u0442\\u0438\",\"\\u0433\\u043e\\u0432\\u043e\\u0440\\u0438\\u0442\\u0435\",\"\\u0440\\u0430\\u0441\\u0441\\u0442\\u0440\\u0435\\u043b\",\"\\u0442\\u0432\",\"\\u0432\\u043e\\u0437\\u043c\\u043e\\u0436\\u043d\\u043e\\u0441\\u0442\\u0438\",\"\\u0445\\u0432\\u0430\\u0442\\u0430\\u0435\\u0442.\",\"\\u0440\\u0435\\u0441\\u043f\\u0435\\u043a\\u0442\",\"\\u0435\\u0433\\u043e,\",\"\\u0435\\u0431\\u0430\\u043b\\u043e\",\"\\u0437\\u0430\\u044f\\u0432\\u043b\\u0435\\u043d\\u0438\\u0435\",\"\\u043c\\u0438\\u043b\\u044b\\u0439\",\"\\u0433\\u043e\\u043b\\u043e\\u0432\\u0430\",\"\\u043d\\u0430\\u0434\\u043e!\",\"\\u0434\\u043e\\u0440\\u043e\\u0433\\u043e\",\"\\u0436\\u0435\\u043d\\u0449\\u0438\\u043d\\u0443\",\"\\u043d\\u0430\\u0434\\u0435\\u0436\\u0434\\u0430\",\"\\u0434\\u0435\\u043d\\u044c\\u0433\\u0438,\",\",\\u0442\\u043e\",\"\\u043e\\u0441\\u0442\\u0430\\u043b\\u0430\\u0441\\u044c\",\"\\u0430\\u0433\\u0430\",\"\\u0447\\u0435\\u043b\\u043e\\u0432\\u0435\\u043a\\u0430,\",\"\\u043d\\u0451\\u043c\",\"\\u0447\\u0438\\u0442\\u0430\\u044e\",\"\\u043d\\u0430\\u0441\\u0442\\u0440\\u043e\\u0435\\u043d\\u0438\\u044f\",\"\\u0432\\u0438\\u0434\\u043d\\u043e,\",\"\\u0447\\u0430\\u0441\\u0442\\u0438\",\"\\u043d\\u0430\\u043f\\u0438\\u0441\\u0430\\u043b\\u0438\",\"\\u043f\\u0440\\u043e\\u0439\\u0442\\u0438\",\"\\u0430\\u0432\\u0442\\u043e\",\"\\u043f\\u0438\\u0437\\u0434\\u0438\\u0442\\u044c\",\"\\u0436\\u0438\\u0432\\u0438\",\"\\u0436\\u0434\\u0451\\u043c\",\"\\u043a\\u043e\\u043f\\u0435\\u0439\\u043a\\u0438\",\"\\u0434\\u0440\\u0443\\u0433\\u0430\\u044f\",\"\\u043f\\u043e\\u0431\\u0435\\u0434\\u0430\",\"\\u0430\\u0432\\u0433\",\"\\u0442\\u0432\\u043e\\u0451\",\"\\u0441\\u043a\\u0430\\u0437\\u0430\\u0442\\u044c,\",\"\\u043b\\u0435\\u0447\\u0435\\u043d\\u0438\\u0435\",\"\\u043f\\u0438\\u0437\\u0434\\u0430\\u0431\\u043e\\u043b\",\"\\u043f\\u0438\\u0434\\u0430\\u0440\\u0430\\u0441\",\"\\u0442\\u043e\\u0447\\u043d\\u043e.\",\"\\u0443\\u0432\\u0430\\u0436\\u0430\\u044e\",\"\\u0441\\u043f\\u0440\\u043e\\u0441\\u0438\\u0442\\u044c\",\"\\u043f\\u0430\\u043c\\u044f\\u0442\\u044c.\",\"\\u043e\\u043f\\u043b\\u0430\\u0442\\u0430\",\"\\u0431\\u0430\\u0431\\u0430\",\"\\u043c\\u043e\\u043b\\u043e\\u0434\\u0435\\u0446!!!\",\"100%\",\"\\u0448\\u0435\\u044e\",\"\\u0444\\u0438\\u043b\\u044c\\u043c\\u044b\",\"\\u0434\\u043e\\u0440\\u043e\\u0433\\u0435\",\"\\u043d\\u0430\\u0447\\u0430\\u043b\",\"\\u0441\\u043c\\u043e\\u0433\",\"\\u0441\\u043d\\u044f\\u0442\\u044c\",\"\\u043f\\u0440\\u043e\\u0442\\u0438\\u0432\\u043d\\u043e\",\"\\u0441\\u043e\\u0441\\u0435\\u0434\\u0438\",\"\\u0440\\u0443\\u0441\\u0441\\u043a\\u043e\\u0433\\u043e\",\"\\u0431\\u0435\\u043b\\u044b\\u0435\",\"\\u0441\\u043b\\u043e\\u0436\\u043d\\u043e\",\"\\u0447\\u0438\\u0441\\u043b\\u0435\",\"\\u043f\\u0440\\u0438\\u043c\\u0438\\u0442\\u0435\",\"\\u0437\\u0430\\u0440\\u0430\\u043d\\u0435\\u0435\",\"\\u0441\\u0430\\u043c\\u044b\\u043c\",\"\\u0436\\u0435\\u043d\\u0443\",\"\\u043d\\u0443\\u0436\\u043d\\u043e.\",\"\\u0433\\u043e\\u0434.\",\"\\u0441\\u0442\\u043e\\u0438\\u0442\\u044c\",\"\\u0448\\u0442\",\"\\u0441\\u043e\\u0431\\u0438\\u0440\\u0430\\u0442\\u044c\",\"\\u043d\\u0435\\u0431\\u043e\",\"\\u043f\\u043e\\u043c\\u043d\\u0438\\u043c\",\"\\u043f\\u043e\\u0441\\u0442\\u0430\\u0432\\u0438\\u043b\\u0438\",\"\\u0436\\u0435\\u043b\\u0430\\u0435\\u043c\",\"\\u0441\\u0447\\u0438\\u0442\\u0430\\u044e\",\"\\u0434\\u0435\\u0432\\u0443\\u0448\\u043a\\u0438\",\"\\u043a\\u0440\\u0430\\u0441\\u0438\\u0432\\u043e!\",\"\\u0440\\u043e\\u0441\\u0441\\u0438\\u0439\\u0441\\u043a\\u043e\\u0439\",\"\\u043a\\u043e\\u0442\\u0430\",\"\\u0432\\u043e\\u0439\\u043d\\u0443\",\"\\u0437\\u0430\\u0439\\u0442\\u0438\",\"\\u0433\\u043e\\u0434\\u0430,\",\"\\u043c\\u0430\\u043b\\u044c\\u0447\\u0438\\u043a\\u0430\",\"\\u043a\\u0432\\u0430\\u0440\\u0442\\u0438\\u0440\\u044b\",\"\\u0441\\u0443\\u043c\\u043c\\u0443\",\"\\u043f\\u0435\\u0440\\u0435\\u0434\\u0430\\u0442\\u044c\",\"2000\",\"\\u0440\\u043e\\u0434\\u043d\\u044b\\u0445\",\"\\u043c\\u043d\\u043e\\u0433\\u043e,\",\"\\u0432\\u043e\\u043b\\u043e\\u0441\\u044b\",\"\\u0447\\u0430\\u0439\",\"\\u0447\\u0435\\u043b\\u043e\\u0432\\u0435\\u043a\\u043e\\u043c\",\"\\u0432\\u0438\\u0434\\u0438\\u0442\\u0435\",\"\\u0438\\u044e\\u043b\",\"\\u0441\\u0430\\u043c\\u043e\\u043c\\u0443\",\"\\u043d\\u0430\\u043b\\u043e\\u0433\\u0438\",\"\\u0438\\u043d\\u0442\\u0435\\u0440\\u0435\\u0441\\u0443\\u0435\\u0442\",\"\\u0442\\u044b\\u0441\\u044f\\u0447\\u0438\",\"\\u043d\\u0430\\u0441\\u0442\\u0440\\u043e\\u0435\\u043d\\u0438\\u0435\",\"\\u0435\\u0433\\u043e.\",\"\\u0441\\u043e\\u0432\\u0435\\u0442\",\"\\u0441\\u0443\\u0442\\u043a\\u0438\",\"\\u0434\\u043e\\u0431\\u0440\\u043e\\u0439\",\"\\u0441\\u0430\\u043c\\u044b\\u0445\",\"\\u0431\\u0443\\u0434\\u0443\\u0449\\u0435\\u0435\",\"\\u0441\\u043e\\u043b\\u043d\\u044b\\u0448\\u043a\\u043e\",\"\\u043d\\u0438\\u0433\\u0434\\u0435\",\"\\u0441\\u0442\\u043e\\u043b\",\"\\u0441\\u0438\\u0442\\u0443\\u0430\\u0446\\u0438\\u0438\",\"\\u043a\\u043e\\u0448\\u043a\\u0438\",\"\\u0440\\u0443\\u0431\\u043b\\u0435\\u0439.\",\"\\u043f\\u0440\\u043e\\u0434\\u0430\\u0436\\u043d\\u044b\\u0435\",\"\\u0433\\u043e\\u043b\\u043e\\u0432\\u044b\",\"\\u0437\\u0430\\u0441\\u0443\\u043d\\u0443\\u0442\\u044c\",\"\\u0445\\u0430\\u0431\\u0430\\u0440\\u043e\\u0432\\u0441\\u043a\\u0435\",\"\\u0431\\u043b\\u0438\\u0437\\u043a\\u0438\\u043c\",\"\\u0443\\u0441\\u043b\\u043e\\u0432\\u0438\\u044f\",\"\\u043d\\u0430\\u0440\\u043e\\u0434.\",\"\\u0440\\u0430\\u0437\\u043c\\u0435\\u0441\\u0442\\u0438\\u0442\\u044c\",\"\\u043e\\u0431\\u044a\\u044f\\u0432\\u043b\\u0435\\u043d\\u0438\\u0435\",\"\\u0434\\u0430\\u0434\\u0443\\u0442\",\"\\u043a\\u0430\\u043a\\u0438\\u0435-\\u0442\\u043e\",\"\\u0441\\u043e\\u043b\\u043d\\u0446\\u0435\",\"\\u043d\\u0430\\u0441\\u0442\\u043e\\u044f\\u0449\\u0435\\u0435\",\"\\u0437\\u0434\\u043e\\u0440\\u043e\\u0432\\u044b\",\"\\u043c\\u0443\\u0436\\u0435\\u043c\",\"\\u0440\\u0435\\u0431\\u044f\\u0442\",\"\\u043c\\u0438\\u043d\\u0438\\u043c\\u0443\\u043c\",\"\\u043f\\u0435\\u0440\\u0438\\u043e\\u0434\",\"\\u043c\\u0435\\u043d\\u044f\\u0442\\u044c\",\"\\u0443\\u043b\\u0438\\u0446\\u044b\",\"\\u0442\\u043e?\",\"\\u043c\\u043e\\u0436\\u043d\\u043e,\",\"\\u0432\\u0430\\u0441.\",\"\\u0434\\u043e\\u043c\\u0430,\",\"\\u043e\\u0434\\u043d\\u043e\\u043c\\u0443\",\"\\u0432\\u043e\\u0441\\u043f\\u0438\\u0442\\u0430\\u043d\\u0438\\u0435\",\"\\u0432\\u043e\\u0440\",\"\\u043a\\u0443\\u0448\\u0430\\u0442\\u044c\",\"\\u0441\\u043a\\u0430\\u0436\\u0435\\u0442\",\"\\u043f\\u043e\\u0434\\u0440\\u043e\\u0431\\u043d\\u0435\\u0435\",\"\\u043d\\u0435\\u043b\\u044c\\u0437\\u044f.\",\"\\u0440\\u0435\\u0448\\u0435\\u043d\\u0438\\u0435\",\"\\u043b\\u0443\\u0447\\u0448\\u0438\\u0435\",\"\\u0441\\u0440\\u0430\\u0436\\u0435\\u043d\\u0438\\u0435\",\"\\u0437\\u0432\\u043e\\u043d\\u0438\\u0442\\u044c\",\":$\",\"\\u043d\\u0430\\u0432\\u0435\\u0440\\u043d\\u043e\\u0435,\",\"\\u0432\\u0435\\u0440\\u0438\\u0442\",\"\\u043e\\u043a\\u043d\\u0430\",\"\\u0445\\u043e\\u0442\\u0438\\u043c\",\"\\u043b\\u044e\\u0431\\u0438\\u043c\\u044b\\u0435\",\"\\u0441\\u043b\\u0435\\u0434\\u0443\\u044e\\u0449\\u0443\\u044e\",\"\\u0444\\u0443\\u0440\\u0433\\u0430\\u043b\\u0430\",\"\\u0442\\u0432\\u043e\\u0435\",\"\\u0431\\u043e\\u043b\\u044c\\u0448\\u0438\\u043c\",\"\\u043f\\u0438\\u0441\\u0430\\u043b\\u0438\",\"\\u043f\\u0440\\u0438\\u0445\\u043e\\u0434\\u0438\\u0442\\u0441\\u044f\",\"\\u0446\\u0435\\u043d\\u0442\\u0440\",\"\\u043f\\u043e\\u043d\\u0440\\u0430\\u0432\\u0438\\u043b\\u043e\\u0441\\u044c\",\"\\u0432\\u0440\\u0430\\u0433\",\"\\u043e\\u0431\\u0440\\u0430\\u0437\\u043e\\u043c\",\"\\u0443\\u0447\\u0438\\u0442\\u044c\\u0441\\u044f\",\"\\u0443\\u0447\\u0438\\u0442\\u0435\\u043b\\u044c\",\"\\u043d\\u043e\\u0441\",\"\\u0440\\u0435\\u0434\\u043a\\u043e\",\"\\u0442\\u0432\\u043e\\u0440\\u0438\\u0442\\u0441\\u044f\",\"\\u0432\\u043d\\u0443\\u043a\\u0438\",\"\\u043f\\u043e\\u043a\\u043e\\u043b\\u0435\\u043d\\u0438\\u0435\",\"\\u0435\\u0437\\u0434\\u0438\\u0442\\u044c\",\"\\u043f\\u0438\\u0441\\u0430\\u043b\",\"\\u0448\\u0442\\u0443\\u043a\",\"\\u043d\\u0430\\u043f\\u0438\\u0448\\u0438\",\"\\u043f\\u043e\\u043f\\u0440\\u043e\\u0431\\u0443\\u0439\\u0442\\u0435\",\"\\u0434\\u0435\\u043b\\u0430\\u043b\",\"\\u0431\\u043e\\u043b\\u0438\",\"\\u0441\\u0430\\u0445\\u0430\\u0440\",\"\\u043f\\u0435\\u0440\\u0432\\u043e\\u0439\",\"\\u0432\\u043a\\u0443\\u0441\\u043d\\u044b\\u0435\",\"\\u0434\\u043d\\u0438\",\"\\u0446\\u0435\\u043d\\u0435\",\"\\u043f\\u043e\\u0434\\u0445\\u043e\\u0434\\u0438\\u0442\",\"\\u0447\\u0443\\u0436\\u0438\\u0435\",\"\\u0437\\u0430\\u0431\\u044b\\u0442\\u044c\",\"\\u0433\\u043b\\u0430\\u0432\\u043d\\u044b\\u0439\",\"\\u0434\\u043e\\u0436\\u0434\\u044c\",\"\\u043f\\u0440\\u043e\\u0434\\u0443\\u043a\\u0442\\u044b\",\"\\u0434\\u0430\\u0435\\u0442\",\"\\u043a\\u043e\\u043c\\u0443-\\u0442\\u043e\",\"\\u043f\\u043e\\u0447\\u0435\\u043c\\u0443-\\u0442\\u043e\",\"\\u0442\\u0432\\u043e\\u0435\\u0433\\u043e\",\"\\u043f\\u0440\\u0430\\u0432\\u0438\\u043b\\u0430\",\"\\u043f\\u0440\\u0438\\u0448\\u0435\\u043b\",\"\\u043f\\u0435\\u0440\\u0435\\u0446\",\"\\ud83d\\ude0d\",\"\\u0441\\u0435\\u0431\\u0435.\",\"\\u043d\\u0430\\u0447\\u0438\\u043d\\u0430\\u0435\\u0442\\u0441\\u044f\",\"\\u0433\\u043e\\u0440\\u0434\\u043e\\u0441\\u0442\\u044c\",\"\\u043a\\u043e\\u043c\",\"\\u0438\\u043c\\u0435\\u043d\\u0438\",\"\\u0434\\u0435\\u0442\\u043e\\u043a\",\"\\u0445\\u043e\\u0437\\u044f\\u0438\\u043d\\u0430\",\"\\u043f\\u043e\\u043b\\u0438\\u0446\\u0438\\u044f\",\"\\u0434\\u0435\\u0439\\u0441\\u0442\\u0432\\u0438\\u0442\\u0435\\u043b\\u044c\\u043d\\u043e,\",\"\\u0444\\u043e\\u0442\\u043e.\",\"\\u0445\\u043e\\u0440\\u043e\\u0448\\u0435\\u0439\",\"\\u0434\\u0440\\u0443\\u0433\\u0443\",\"\\u0443\\u043a\\u0441\\u0443\\u0441\",\"\\u0432\\u043f\\u0435\\u0440\\u0435\\u0434\\u0438\",\"\\u0430\\u0432\",\"\\u043b\\u0430\\u0434\\u043d\\u043e\",\"\\u043f\\u0440\\u043e\\u0441\\u0442\\u0438\\u0442\\u0435\",\"\\u0432\\u0441\\u044f\\u043a\\u0438\\u0435\",\"\\u043a\\u043e\\u0433\\u0434\\u0430-\\u0442\\u043e\",\"\\u0441\\u043e\\u043e\\u0431\\u0449\\u0435\\u043d\\u0438\\u044f\",\"\\u043a\\u0443\\u043f\\u0438\\u043b\\u0438\",\"\\u0433\\u043e\\u0440\\u0430\\u0437\\u0434\\u043e\",\"\\u043f\\u043e\\u043b\\u043e\\u0432\\u0438\\u043d\\u0430\",\"\\u043e\\u0434\\u043d\\u0430\\u043a\\u043e\",\"\\u043f\\u0440\\u0438\\u0440\\u043e\\u0434\\u0430\",\"\\u0443\\u0432\\u0430\\u0436\\u0430\\u0435\\u043c\\u044b\\u0435\",\"\\u0440\\u043e\\u0434\\u0438\\u043d\\u0430\",\"\\u0443\\u0447\\u0438\\u0442\\u044c\",\"\\u0432\\u0435\\u0447\\u0435\\u0440\\u0430\",\"\\u0437\\u043d\\u0430\\u0435\\u0442,\",\"\\u0441\\u043c\\u043e\\u0436\\u0435\\u0442\",\"\\u043c\\u0443\\u0436\\u0447\\u0438\\u043d\",\"\\u043d\\u0430\\u0447\\u0438\\u043d\\u0430\\u044e\\u0442\",\"\\u043d\\u0430\\u0440\\u043e\\u0434,\",\"\\u0437\\u043d\\u0430\\u043b\\u0430\",\"\\u0441\\u0442\\u0440\\u0430\\u043d\\u044b,\",\"\\u043e\\u043d,\",\"\\u043a\\u0443\\u0441\\u043e\\u043a\",\"\\u0445\\u0440\\u0430\\u043d\\u0438\\u0442\",\"\\u0441\\u043e\\u0432\\u0435\\u0442\\u0441\\u043a\\u0438\\u0439\",\"\\u0443\\u0440\\u043e\\u0434\\u0430\",\"\\u043c\\u0438\\u043b\\u044b\\u0435\",\"\\u0434\\u0432\\u0435\\u0440\\u044c\",\"\\u043f\\u0438\\u0434\\u0430\\u0440\\u044b\",\"\\u043e\\u0442\\u0434\\u0430\\u043b\\u0438\",\"\\u043d\\u043e\\u0432\\u043e\\u0439\",\"\\u0441\\u043c\\u0438\",\"\\u0441\\u0438\\u0442\\u0443\\u0430\\u0446\\u0438\\u044f\",\"\\u0441\\u0442\\u0440\\u043e\\u0438\\u0442\\u044c\",\"\\u0435\\u0431\\u0430\\u043d\\u044b\\u0439\",\"\\u0432\\u0440\\u044f\\u0434\",\"\\u043f\\u0435\\u0440\\u0432\\u043e\\u0435\",\"\\u0440\\u0443\\u0447\\u043a\\u0438\",\"\\u0437\\u0430\\u043d\\u0438\\u043c\\u0430\\u0442\\u044c\\u0441\\u044f\",\"\\u043c\\u043e\\u0440\\u0434\\u0443\",\"\\u0431\\u043e\\u044e\\u0441\\u044c\",\"\\u0431\\u0430\\u043d\\u043a\\u0443\",\"\\u043f\\u043e\\u043c\\u043d\\u0438\\u0442\\u044c\",\"\\u043a\\u0441\\u0442\\u0430\\u0442\\u0438,\",\"\\u0445\\u043e\\u0445\\u043b\\u044b\",\"\\u0440\\u0430\\u043a\\u043e\\u043c\",\"\\u043c\\u043e\\u043b\\u0438\",\"\\u043c\\u043d\\u043e\\u0433\\u043e.\",\"\\u043d\\u0430\\u043e\\u0431\\u043e\\u0440\\u043e\\u0442\",\"\\u043f\\u0440\\u043e\\u0446\\u0435\\u043d\\u0442\\u043e\\u0432\",\"\\u0434\\u0443\\u0440\\u0430\\u043a\\u043e\\u0432\",\"\\u0436\\u0434\\u0435\\u043c\",\"\\u0443\\u0431\\u0438\\u043b\\u0430\",\"\\u0440\\u0430\\u043d\\u0435\\u0435\",\",\\u0435\\u0441\\u043b\\u0438\",\"\\u043f\\u0443\\u0442\\u0438\\u043d\\u0441\\u043a\\u0438\\u0435\",\"\\u0440\\u0443\\u043a\",\"\\u0441\\u0432\\u043e\\u043b\\u043e\\u0447\\u0438\",\"\\u0434\\u043e\\u0441\\u0442\\u0430\\u043b\\u0438\",\"\\u043c\\u0430\\u0433\\u0430\\u0437\\u0438\\u043d\\u0430\\u0445\",\"\\u0448\\u0442\\u0430\\u043d\\u044b\",\"\\u043d\\u0430\\u0440\\u043e\\u0434\\u043e\\u043c\",\"\\u043e\\u0441\\u043e\\u0431\\u043e\",\"\\u0440\\u0430\\u0441\\u0442\\u0435\\u0442\",\"\\u043b\\u0438\\u0442\\u0440\\u043e\\u0432\",\"\\ud83c\\udf3a\",\"\\u043b\\u0438\\u0447\\u043a\\u0443.\",\"\\u0432\\u0437\\u0433\\u043b\\u044f\\u0434\",\"\\u0431\\u043e\\u043b\\u044c\\u0448\\u0435.\",\"\\u043c\\u043e\\u0435\\u043c\",\"\\u0436\\u0434\\u0435\\u0442\",\"\\u0434\\u0435\\u043b\\u0430\\u0435\\u0442\\u0441\\u044f\",\"\\u0432\\u0437\\u044f\\u043b\\u0430\",\"\\u0432\\u044b\\u0445\\u043e\\u0434\\u0438\\u0442\",\"\\u043f\\u0430\\u043e\",\"\\u0441\\u043e\\u0437\\u0434\\u0430\\u0442\\u044c\",\"\\u0436\\u0438\\u0437\\u043d\\u0438!\",\"\\u0441\\u0447\\u0438\\u0442\\u0430\\u0435\\u0442\",\"\\u0441\\u0432\\u0435\\u0442\\u043b\\u0430\\u043d\\u0430\",\"\\u0438\\u044e\\u043d\\u044f\",\"\\u043a\\u0430\\u0441\\u0430\\u0435\\u0442\\u0441\\u044f\",\"\\u0440\\u0435\\u0431\\u0435\\u043d\\u043a\\u0443\",\"\\u0441\\u0432\\u0435\\u0440\\u0445\\u0443\",\"\\u0434\\u0435\\u0440\\u0436\\u0438\\u0442\",\"\\u043e\\u0431\\u043c\\u0435\\u043d\",\"\\u043f\\u0440\\u0438\\u0432\\u0435\\u0442,\",\"\\u0437\\u043e\\u043b\\u043e\\u0442\\u043e\\u0439\",\"\\u0431\\u044b\\u0442\\u044c,\",\"\\u043f\\u043e\\u043a\\u0430\\u0437\\u044b\\u0432\\u0430\\u044e\\u0442\",\"\\u0432\\u0437\\u0440\\u043e\\u0441\\u043b\\u044b\\u0435\",\"\\u0432\\u0442\\u043e\\u0440\\u0438\\u0437\\u0430\\u0446\\u0438\\u0438\",\"\\u043f\\u043e\\u043a\\u043e\\u0439\",\"\\u0440\\u043e\\u0436\\u0430\",\"\\u0447\\u0435\\u0442\\u044b\\u0440\\u0435\",\",\\u0432\",\"\\u0442\\u0440\\u0443\\u0434\\u0430\",\"\\u0441\\u043e\\u0445\\u0440\\u0430\\u043d\\u0438\",\"\\u043b\\u0443\\u0447\\u0448\\u0435\\u0435\",\"\\u043e\\u0442\\u0441\\u0442\\u0440\\u0435\\u043b\\u0438\\u0432\\u0430\\u0442\\u044c\",\"\\u0441\\u043a\\u0430\\u0437\\u0430\\u043b,\",\"\\u0441\\u0443\\u043a\\u0430,\",\"\\u043f\\u0440\\u043e\\u0434\\u0430\\u0442\\u044c\",\"\\u043b\\u044e\\u0431\\u043e\\u0432\\u044c\\u044e\",\"\\u0436\\u0438\\u0442\\u0435\\u043b\\u0438\",\"\\u043c\\u0443\\u0441\\u043e\\u0440\\u0430\",\"\\u043d\\u0438\\u043a\\u0443\\u0434\\u0430\",\"\\u0442\\u043e\\u0447\\u043d\\u043e,\",\"\\u043f\\u043e\\u0439\\u043c\\u0430\\u0442\\u044c\",\"\\u0437\\u0430\\u0431\\u0440\\u0430\\u0442\\u044c?\",\"\\u0434\\u0435\\u0431\\u0438\\u043b\\u043e\\u0432\",\"\\u0441\\u043e\\u0436\\u0430\\u043b\\u0435\\u043d\\u0438\\u044e,\",\"\\u0437\\u0430\\u043c\\u043e\\u043a\",\"\\u0442\\u0443\\u043f\\u044b\\u0435\",\"\\u043f\\u0440\\u043e\\u0436\\u0438\\u0442\\u044c\",\"\\u043a\\u043e\\u043d\\u0447\\u0435\\u043d\\u044b\\u0439\",\"\\u043e\\u0431\\u043e\",\"\\u043f\\u043e\\u043d\\u044f\\u0442\\u043d\\u043e.\",\"\\u0432\\u044b\\u0448\\u043b\\u0438\",\"\\u0433\\u043b\\u0430\\u0432\\u043d\\u043e\\u0435,\",\"\\u0441\\u0442\\u043e\\u044f\\u0442\\u044c\",\"\\u0435\\u0431\\u0430\\u043d\\u044b\\u0435\",\"\\u0441\\u0443\\u043f\\u0435\\u0440.\",\"\\u0433\\u0440\\u0438\\u0431\\u044b\",\"\\u0434\\u0430\\u0432\\u0430\\u0442\\u044c\",\"??\",\"\\u043f\\u0435\\u043d\\u0441\\u0438\\u043e\\u043d\\u043d\\u044b\\u0439\",\"-\\u044d\\u0442\\u043e\",\"\\u0443\\u0445\\u043e\\u0434\\u0438\\u0442\",\"\\u0432\\u0440\\u0430\\u0433\\u0438\",\"\\u043c\\u0438\\u043b\\u043b\\u0438\\u043e\\u043d\\u044b\",\"\\u0431\\u0440\\u0430\\u0442\\u044c\\u044f\",\"\\u0448\\u043b\\u0438\",\"\\u0437\\u0430\\u0431\\u044b\\u043b\",\"\\u0434\\u0435\\u0442\\u0438,\",\"\\u0432\\u0432\\u0438\\u0434\\u0443\",\"(md)\",\"\\u0434\\u0440\\u0443\\u0437\\u044c\\u044f,\",\"\\u0435\\u0434\\u0443\",\"\\u0432\\u043e\\u0432\\u0440\\u0435\\u043c\\u044f\",\"\\u0432\\u043d\\u0443\\u043a\\u043e\\u0432\",\"\\u0432\\u043e\\u0434\\u043e\\u0439\",\"\\u043d\\u0430\\u0437\\u044b\\u0432\\u0430\\u044e\\u0442\",\"\\u0440\\u043e\\u0434\\u0438\\u043b\\u0430\",\"\\u043f\\u043e\\u0441\\u043c\\u043e\\u0442\\u0440\\u0438\\u043c\",\"\\u0432\\u043e\\u0434\\u0438\\u0442\\u0435\\u043b\\u044c\",\"\\u0444\\u0443\",\"\\u0432\\u0435\\u0442\\u0435\\u0440\",\"\\u043f\\u043e\\u043a\\u0443\\u043f\\u0430\\u0442\\u044c\",\"\\u043a\\u0430\\u043a?\",\"\\u0438\\u0433\\u0440\\u0430\\u0435\\u0442\",\"\\u0436\\u0438\\u0432\\u0435\\u043c\",\"\\u0442\\u0435\\u043c\\u044b\",\"\\u043f\\u0430\\u0434\\u043b\\u0430\",\"\\u043f\\u043e\\u043d\\u044f\\u043b\\u0438\",\"\\u043f\\u043e\\u043f\\u0430\\u0441\\u0442\\u044c\",\"\\u0441\\u0430\\u0445\\u0430\\u0440\\u0430\",\"\\u0436\\u0438\\u0442\\u0435\\u043b\\u0435\\u0439\",\"\\u043f\\u043e\\u0432\\u0430\\u0434\\u043d\\u043e\",\"\\u043e\\u0441\\u0435\\u043d\\u044c\",\"\\u043e\\u0442\\u043b\\u0438\\u0447\\u043d\\u0430\\u044f\",\"\\u0432\\u043d\\u043e\\u0432\\u044c\",\"\\u0441\\u0441\\u0441\\u0440.\",\"\\u0443\\u043c\\u0435\\u0435\\u0442\",\"\\u0437\\u043d\\u0430\\u044f\",\"\\u0445\\u043e\\u0440\\u043e\\u0448\\u0438\\u043c\",\"\\u043b\\u0435\\u0441\\u0443\",\"\\u0442\\u0440\\u0451\\u0445\",\"\\u043b\\u0438\\u0437\\u0430\\u0442\\u044c\",\"\\u0440\\u0443\\u0441\\u0441\\u043a\\u0430\\u044f\",\"\\u0437\\u043d\\u0430\\u044e.\",\"\\u0441\\u043c\\u043e\\u0433\\u043b\\u0430\",\"\\u0438\\u043c\\u0435\\u044e\",\"---\",\"\\u043f\\u0440\\u0430\\u0432\\u0438\\u043b\\u044c\\u043d\\u043e.\",\"\\u043e\\u0442\\u0434\\u0435\\u043b\\u044c\\u043d\\u043e\",\"\\u0441\\u043b\\u043e\\u0432\\u043d\\u043e\",\"\\ud83d\\ude00\",\"26\",\"\\u0433\\u043e\\u0434,\",\"\\u043f\\u043e\\u043a\\u0430\\u0437\\u044b\\u0432\\u0430\\u0442\\u044c\",\"\\u043e\\u0431\\u043b\\u0430\\u0441\\u0442\\u044c\",\"\\u0432\\u0438\\u0434\\u044f\\u0442\",\"\\u0441\\u0442\\u0440\\u0430\\u043d\\u043e\\u0439\",\"\\u0441\\u0442\\u0430\\u0434\\u043e\",\"\\u0441\\u043e\\u0431\\u0430\\u0447\\u043a\\u0430\",\"\\u0441\\u0443\\u0434\\u044c\\u0431\\u0430\",\"\\u043d\\u0443\\u0436\\u043d\\u043e,\",\"\\u0437\\u0430\\u0440\\u0430\\u0431\\u043e\\u0442\\u0430\\u0442\\u044c\",\"\\u044f\\u0431\\u043b\\u043e\\u043a\\u0438\",\"\\u043b\\u0435\\u0442\\u0430\",\"\\u043c\\u0435\\u043d\\u0435\\u0435\",\"\\u043f\\u0443\\u0445\\u043e\\u043c\",\"\\u0431\\u0443\\u043a\\u0432\\u044b\",\"\\u0441\\u0440\\u0435\\u0434\\u0441\\u0442\\u0432\\u0430\",\"\\u0431\\u043b\\u0438\\u0437\\u043a\\u0438\\u0445\",\"\\u043a\\u0440\\u0430\\u0439\",\"\\u043e\\u0431\\u043e\\u0438\\u0445\",\"\\u0434\\u0443\\u0448\\u043e\\u0439\",\"\\u0434\\u043e\\u0447\\u0435\\u0440\\u0438\",\"\\u0447\\u0438\\u0442\\u0430\\u0439\\u0442\\u0435\",\"\\u0434\\u0435\\u043b\\u0430\\u0442\\u044c?\",\"\\u0442\\u0440\\u0435\\u0445\",\"\\u043c\\u0443\\u0434\\u0430\\u043a\",\"\\u0434\\u0443\\u043c\\u0435\",\"\\u0432\\u0437\",\"\\u0430\\u0440\\u043c\\u0438\\u044f\",\"\\u0441\\u043a\\u043e\\u0440\\u0435\\u0439\",\"\\u043c\\u0435\\u043d\\u044f,\",\"\\u0432\\u0441\\u0435\\u0445.\",\"\\u043f\\u043e\\u0439\\u043c\\u0443\",\"\\u0441\\u0438\\u0441\\u0442\\u0435\\u043c\\u0430\",\"\\u043b\\u044e\\u0434\\u044f\\u043c,\",\"\\u043b\\u044e\\u0434\\u0438!\",\"\\u0446\\u0432\\u0435\\u0442\\u0430\",\"\\u043b\\u0435\\u0441\\u0430\",\"\\u043a\\u0430\\u0436\\u0434\\u0430\\u044f\",\"\\u043a\\u0430\\u0447\\u0435\\u0441\\u0442\\u0432\\u043e\",\"\\u0445\\u0443\\u043b\\u0438\",\"\\u0436\\u0435\\u043b\\u0430\\u0442\\u0435\\u043b\\u044c\\u043d\\u043e\",\"\\u043d\\u0430\\u0431\\u043e\\u0440\",\"\\u0432\\u0442\\u043e\\u0440\\u0443\\u044e\",\"\\u0441\\u0435\\u0439\\u0447\\u0430\\u0441,\",\"\\u043f\\u043e\\u0440\\u043e\\u0439\",\"\\u0431\\u043e\\u0438\\u0442\\u0441\\u044f\",\"\\u043e\\u0448\\u0438\\u0431\\u043a\\u0438\",\"\\u043a\\u043b\\u0430\\u0441\\u0441,\",\"\\u0438\\u0433\\u0440\\u043e\\u043a\\u0430\",\"\\u0434\\u0435\\u0441\\u044f\\u0442\\u044c\",\"\\u0442\\u0435\\u043c\\u0435\",\"\\u043a\\u043e\\u0437\\u043b\\u0430\",\"\\u0434\\u0435\\u043b\\u0430\\u0435\\u0442\\u0435\",\"\\u0443\\u043a\\u0441\\u0443\\u0441\\u0430\",\"\\u0441\\u043f\\u0438\\u0441\\u043e\\u043a\",\"\\u0441\\u0435\\u0441\\u0442\\u0440\\u0430\",\"\\u0443\\u0447\\u0430\\u0441\\u0442\\u0438\\u0435\",\"\\u043b\\u0438\\u0447\\u043d\\u043e\\u0435\",\"\\u0431\\u043e\\u043b\\u044c\\u0448\\u0435,\",\"\\u043f\\u043e\\u043b\\u0443\",\"\\u0444\\u043e\\u0442\\u043e,\",\"\\u0432\\u0441\\u044f\\u043a\\u043e\\u0439\",\"\\u0432\\u0440\\u0430\\u0447\\u0435\\u0439\",\"\\u0436\\u0438\\u0437\\u043d\\u044c\\u044e\",\"\\u0441\\u043f\\u043e\\u0441\\u043e\\u0431\",\"\\u043f\\u043e\\u0433\\u0438\\u0431\",\"2.\",\"\\u0432\\u043e\\u0439\\u0441\\u043a\",\"\\u0443\\u0431\\u043b\\u044e\\u0434\\u043a\\u043e\\u0432\",\"\\u043a\\u0430\\u0436\\u0435\\u0442\\u0441\\u044f,\",\"\\u0437\\u0430\\u043a\\u0440\\u043e\\u0439\",\"\\u0438\\u043c\\u0438\",\"%\",\"\\ud83d\\ude04\",\"\\u0441\\u0432\\u0435\\u0442\\u0430\",\"\\u0430\\u0433\\u0430,\",\"\\u0432\\u0430\\u043b\\u0438\\u0442\\u044c\",\"\\u0431\\u044b\\u043b,\",\"\\u0438\\u0449\\u0435\\u0442\",\"\\u0441\\u0432\\u044f\\u0437\\u0430\\u0442\\u044c\\u0441\\u044f\",\"\\u043c\\u0438\\u043d\",\"\\u043f\\u043e\\u043c\\u043d\\u044e,\",\"\\u043e\\u0433\\u0440\\u0430\\u0431\\u0438\\u043b\",\"\\u0440\\u0430\\u0434\\u044b\",\"\\u0441\\u0442\\u0440\\u0430\\u043d\",\"\\u0437\\u0430\\u043a\\u0440\\u044b\\u0442\\u044c\",\"\\u0441\\u0443\\u043a\",\"\\u0431\\u043e\\u043b\\u0435\\u0437\\u043d\\u0438\",\"\\u0440\\u0443\\u0441\\u0438\",\"\\u043f\\u0440\\u043e\\u0434\\u0430\\u044e\",\"\\u0440\\u0430\\u0434\",\"\\u0432\\u043d\\u0438\\u043c\\u0430\\u043d\\u0438\\u044f\",\"\\u043a\\u0440\\u0430\\u0441\\u043e\\u0442\\u0430,\",\"\\u0440\\u043e\\u0441\\u0441\\u0438\\u0435\\u0439\",\"\\u0441\\u043a\\u0430\\u0436\\u0443\\u0442\",\"\\u043f\\u043e\\u0434\\u043d\\u044f\\u0442\\u044c\",\"\\u0446\\u0435\\u0440\\u043a\\u043e\\u0432\\u044c\",\"\\u0441\\u0438\\u0434\\u0438\\u0448\\u044c\",\"\\u0430\\u0432\\u0442\\u043e\\u0440\\u0443\",\"\\u0434\\u0430\\u043b\\u0430\",\"\\u043d\\u0430\\u0433\\u0440\\u0430\\u0434\\u0430\",\"\\u043f\\u0440\\u0438\\u0432\\u044f\\u0437\\u0430\\u0442\\u044c\",\"\\u0436\\u0438\\u0432\\u043e\\u0442\\u043d\\u043e\\u0435\",\"1.\",\"\\u043e\\u0431\\u0438\\u0434\\u043d\\u043e\",\"\\u043f\\u0440\\u0438\\u0434\\u0435\\u0442\\u0441\\u044f\",\"\\u043b\\u044e\\u0431\\u043e\\u0433\\u043e\",\"\\u0431\\u044b\\u043b.\",\"\\u043f\\u043e\\u043d\\u044f\\u0442\\u043d\\u043e,\",\"1,5\",\"\\u0431\\u044b\\u043b\\u0430.\",\"\\u043f\\u0435\\u043d\\u0441\\u0438\\u043e\\u043d\\u0435\\u0440\\u044b\",\"\\u0442\\u0435\\u0431\\u0435.\",\"\\u043d\\u0430\\u0432\\u0441\\u0435\\u0433\\u0434\\u0430\",\"\\u0438\\u0437\\u0432\\u0435\\u0441\\u0442\\u043d\\u043e\",\"\\u043f\\u0440\\u0438\\u0434\\u0443\\u043c\\u0430\\u043b\\u0438\",\"\\u043d\\u0440\\u0430\\u0432\\u044f\\u0442\\u0441\\u044f\",\"\\ud83d\\ude18\",\"\\u0441\\u043e\\u0432\\u0435\\u0442\\u0441\\u043a\\u043e\\u0435\",\"\\u0442\\u0432\\u0430\\u0440\\u044c.\",\"\\u0435\\u0431\\u0430\\u043d\\u0443\\u0442\\u044b\\u0435\",\"\\u0441\\u0442\\u0430\\u0440\\u044b\\u0435\",\"\\u0432\\u0430\\u0440\\u0438\\u0430\\u043d\\u0442\",\"!!!!!!\",\"\\u0443\\u0432\\u0430\\u0436\\u0435\\u043d\\u0438\\u0435\\u043c\",\"\\u043f\\u043e\\u043c\\u043e\\u0449\\u044c\\u044e\",\"\\u0433\\u043e\\u0432\\u043e\\u0440\\u044f\\u0442,\",\"\\u043d\\u0430\\u0440\\u043e\\u0434\\u0430,\",\"24\",\"\\u0432\\u043e\\u0437\\u0440\\u0430\\u0441\\u0442\\u0430\",\"\\u0432\\u0435\\u0440\\u0430\",\"\\u0433\\u043e\\u0440\\u043e\\u0434\\u0443\",\"\\u0442\\u0435\\u0447\\u0435\\u043d\\u0438\\u0438\",\"\\u043f\\u043e\\u043b\\u0443\\u0447\\u0430\\u0435\\u0442\",\"\\u0440\\u0435\\u0448\\u0438\\u043b\\u0430\",\"\\u0443\\u0434\\u043e\\u0431\\u043d\\u043e\",\"\\u0440\\u0435\\u0436\\u0438\\u043c\",\"\\u0441\\u043b\\u0443\\u0436\\u0431\\u044b\",\"\\u0441\\u0447\\u0430\\u0441\\u0442\\u043b\\u0438\\u0432\\u044b\",\"\\ud83c\\udf3c\",\"\\u0432\\u0438\\u0434\\u0443\",\"\\u0442\\u0435\\u0447\\u0435\\u043d\\u0438\\u0435\",\"\\u0437\\u0430\\u043f\\u0438\\u0441\\u044c\",\"\\u0434\\u0432\\u0443\\u043c\\u044f\",\"\\u043a\\u0440\\u0430\\u0441\\u043e\\u0442\\u0430!\",\"\\ud83d\\ude4f\\ud83d\\ude4f\\ud83d\\ude4f\",\"\\u043c\\u0435\\u0441\\u0442\\u043e,\",\"\\u0435\\u0431\\u0430\\u043d\\u0443\\u0442\\u0430\\u044f\",\"\\u043f\\u0435\\u0440\\u0432\\u044b\\u043c\",\"\\u0432\\u0435\\u043b\\u0438\\u043a\\u043e\\u0439\",\"\\u0431\\u0443\\u0434\\u0435\\u0442!\",\"\\u0431\\u0430\\u0431\\u043b\\u043e\",\"\\u0441\\u0441\\u044b\\u043b\\u043a\\u0443\",\"\\u0431\\u0435\\u0434\\u0430\",\"\\u043c\\u0430\\u043b\\u043e.\",\"\\u0442\\u044b\\u0441.\",\"\\u043a\\u043e\\u043d\\u043a\\u0440\\u0435\\u0442\\u043d\\u043e\",\"\\u0432\\u043b\\u0430\\u0441\\u0442\\u0438,\",\"\\u0441\\u0430\\u043b\\u0430\\u0442\",\"\\u0445\\u043e\\u0440\\u043e\\u0448\\u043e!\",\"s\",\"\\u043c\\u0430\\u0448\\u0438\\u043d\\u0435\",\"\\u0432.\",\"\\u0442\\u044b.\",\"22\",\"\\u043a\\u0440\\u0443\\u0433\\u043e\\u043c\",\"\\u0433\\u0440\\u0430\\u043d\\u0438\\u0446\\u0443\",\"\\u043a\\u0443\\u043f\\u0438\\u043b\",\"\\u0438\\u043d\\u0442\\u0435\\u0440\\u0435\\u0441\\u043d\\u0430\\u044f\",\"\\u0441\\u043a\\u0430\\u0437\\u043a\\u0438\",\"\\u0432\\u043f\\u0435\\u0440\\u0451\\u0434\",\"\\u043f\\u043e\\u0434\\u0430\\u0440\\u043a\\u0438\",\"\\u0443\\u0434\\u0430\\u043b\\u043e\\u0441\\u044c\",\"\\u0440\\u043e\\u0441\\u0441\\u0438\\u044f\\u043d\\u0435\",\"\\u0443\\u0448\\u0435\\u043b\",\"\\u0432\\u0435\\u0441\\u043d\\u043e\\u0439\",\"\\u0443\\u0436\\u0435,\",\"\\u0434\\u0435\\u0440\\u0435\\u0432\\u043d\\u0438\",\"\\u0431\\u043e\\u043d\\u0443\\u0441\",\"\\u0448\",\"\\u0447\\u0435\\u0440\\u0442\",\"*)\",\"\\u043a\\u0430\\u0436\\u0434\\u043e\\u0435\",\"\\u0442\\u0435\\u043f\\u043b\\u043e\",\"\\u0440\\u0430\\u0437,\",\"\\u0436\\u0438\\u0432\\u044b\",\"\\u0438\\u0441\\u043a\\u0440\\u0435\\u043d\\u043d\\u0438\\u0435\",\"\\u0432\\u0440\\u0430\\u0433\\u043e\\u0432\",\"\\u043c\\u0440\\u0430\\u0437\\u0435\\u0439\",\"\\u043b\\u0443\\u0447\\u0448\\u0435.\",\"\\u043f\\u0440\\u0435\\u0437\\u0438\\u0434\\u0435\\u043d\\u0442\\u043e\\u043c\",\"\\u043d\\u0430\\u0441\\u0442\\u043e\\u043b\\u044c\\u043a\\u043e\",\"\\u0444\\u0430\\u043a\\u0442\",\"\\u0437\\u0430\\u043c\\u0435\\u0447\\u0430\\u0442\\u0435\\u043b\\u044c\\u043d\\u044b\\u0435\",\"\\u0441\\u0443\\u0449\\u0435\\u0441\\u0442\\u0432\\u0443\\u0435\\u0442\",\"\\u0434\\u0432\\u043e\\u0438\\u0445\",\"\\u043f\\u0438\\u0448\\u0443\",\"\\u0430\\u043d\\u043d\\u0430\",\"\\u0443\\u0447\\u0438\\u0442\\u0435\\u043b\\u044f\",\"\\u0432\\u043e\\u0440\\u043e\\u0432\",\"\\u043f\\u043e\\u043b\\u0443\\u0447\\u0438\\u0442\",\"\\u043e\\u0431\\u0449\\u0435\\u043c\",\"\\u043a\\u0440\\u0443\\u0442\\u043e\",\"\\u0443\\u0448\\u043b\\u0430\",\"\\u043d\\u0430\\u043a\\u0430\\u0437\\u0430\\u0442\\u044c\",\"\\u0430\\u0445\",\"\\u0443\\u043b\\u0438\\u0446\\u0443\",\"\\u0431\\u0435\\u043b\\u043e\\u0440\\u0443\\u0441\\u0441\\u0438\\u0438\",\"\\u0432\\u0438\\u043d\\u043e\\u0432\\u0430\\u0442\\u044b\",\"\\u0440\\u044b\\u0431\\u0430\",\"\\u0433\\u0438\",\"\\u0438\\u044e\\u043b\\u0435\",\"\\u0435\\u0444\\u0440\\u0435\\u043c\\u043e\\u0432\\u0430\",\"\\u0440\\u0435\\u0431\\u044f\\u0442\\u0430,\",\"\\u0441\\u0447\\u0438\\u0442\\u0430\\u0442\\u044c\",\"\\u0441\\u0442.\",\"\\u043b\\u044e\\u0431\\u043e\\u0435\",\"\\u0432\\u0435\\u0440\\u044f\\u0442\",\"\\u043e\\u0442\\u0442\\u0443\\u0434\\u0430\",\"\\u0442\\u0435\\u043f\\u043b\\u0430\",\"\\u043e\\u0441\\u0442\\u0430\\u0451\\u0442\\u0441\\u044f\",\"\\u0432\\u043e\\u0437\\u0434\\u0443\\u0445\",\"\\u0432\\u044b\\u0448\\u043b\\u0430\",\"\\u0438\\u044e\\u043b\\u044c\",\"\\u0442\\u043e,\\u0447\\u0442\\u043e\",\"\\u043e\\u0431\\u044b\\u0447\\u043d\\u044b\\u0439\",\"400\",\"\\u0441\\u0435\\u0442\\u0438\",\"\\u0431\\u043e\\u043b\\u044c\\u043d\\u044b\\u0445\",\"\\u043f\\u0440\\u0438\\u043d\\u0438\\u043c\\u0430\\u0442\\u044c\",\"\\u0432\\u0435\\u043a\",\"\\u0435\\u0441\\u0442\\u044c!\",\"\\u0437\\u0430\\u043c\\u0443\\u0436\",\"\\u0432\\u044b\\u0445\\u043e\\u0434\\u044f\\u0442\",\"\\u0433\\u0440\\u044f\\u0437\\u044c\",\"\\u0441\\u044b\\u043d\\u0443\",\"\\u043f\\u0440\\u043e\\u0447\\u0438\\u0442\\u0430\\u043b\\u0430\",\"\\ud83c\\udf89\",\"\\u043d\\u0438\\u0445.\",\"\\u043f\\u0440\\u0430\\u0432\\u0438\\u043b\\u044c\\u043d\\u044b\\u0435\",\"\\u0443\\u0432\\u0430\\u0436\\u0430\\u0442\\u044c\",\"\\u043f\\u043e\\u0437\\u0432\\u043e\\u043d\\u0438\\u0442\\u044c\",\"\\u0438\\u0433\",\"\\u0441\\u043a\\u0430\\u0437\\u043e\\u0447\\u043d\\u044b\\u0439\",\"\\u043f\\u0438\\u0437\\u0434\\u0443\",\"\\u0431\\u0430\\u0431\\u044b\",\"\\u0440\\u0430\\u0431\\u043e\\u0447\\u0438\\u0439\",\"(ch)\",\"\\u2b50\",\"\\u043f\\u0440\\u043e\\u0434\\u0430\\u0436\\u043d\\u0430\\u044f\",\"\\u044b\",\"\\u0441\\u0438\\u0434\\u0435\\u043b\\u0438\",\"\\u0437\\u0430\\u0434\\u043e\\u043b\\u0431\\u0430\\u043b\\u0438\",\"\\u0441\\u0447\\u0430\\u0441\\u0442\\u043b\\u0438\\u0432\\u0430\",\"\\u043f\\u0440\\u043e\\u0448\\u043b\\u0430\",\"\\u043b\\u0438\\u0447\\u043d\\u044b\\u0435\",\"\\u0432\\u0435\\u0447\\u043d\\u044b\\u0439\",\"\\u0435\\u0434\\u0443\\u0442\",\"\\u0434\\u0438\\u0432\\u0430\\u043d\",\"\\u0445\\u043e\\u0437\\u044f\\u0435\\u0432\\u0430\",\"\\u0446\\u0435\\u0440\\u043a\\u0432\\u0438\",\"\\u043c\\u0438\\u043b\\u043b\\u0438\\u043e\\u043d\\u043e\\u0432\",\"\\u0447\\u0443\\u0436\\u0438\\u0445\",\"\\u0441\\u0440\\u0435\\u0434\\u0441\\u0442\\u0432\",\"\\u0441\\u043e\\u0440\\u0442\",\"\\u043d\\u043e\\u043c\\u0435\\u0440\\u0430\",\"\\u0436\\u0438\\u0442\\u044c.\",\"\\u0431\\u044b\\u0442\\u044c.\",\"\\u043f\\u0430\\u0434\\u0430\\u043b\\u044c\",\"\\u0431\\u043b\\u044f\\u0434\\u044c,\",\"\\u0440\\u043e\\u0441\\u0441\\u0438\\u044f\\u043d\",\"\\u0440\\u044b\\u043d\\u043a\\u0435\",\"\\u0432\\u0441\\u0435\\u043c!\",\"\\u043f\\u0440\\u0435\\u043a\\u0440\\u0430\\u0441\\u043d\\u043e\\u0435\",\"\\u0437\\u043d\\u0430\\u043a\\u043e\\u043c\\u044b\\u0435\",\"\\u0430.\",\"\\u0441\\u0442\\u0430\\u0442\\u044c\\u044e\",\"\\u0436\\u043e\\u043f\\u0435\",\"\\u0443\\u043d\\u0438\\u0447\\u0442\\u043e\\u0436\\u0438\\u0442\\u044c\",\"\\u0434.\",\"\\u043a\\u043b\\u0430\\u0441\\u0441\\u043e\\u0432\",\"\\u0437\\u0430\\u0434\",\"\\u043b\\u0443\\u0447\\u0448\\u0435,\",\"\\u043f\\u0440\\u0435\\u0434\\u0430\\u0442\\u0435\\u043b\\u0438\",\"\\u0440\\u043e\\u0436\\u0434\\u0435\\u043d\\u0438\\u044f.\",\"\\u0436\\u0435\\u043d\\u0449\\u0438\\u043d\\u0435\",\"\\u043c\\u0435\\u0447\\u0442\\u044b\",\"\\u0431\\u043e\\u043b\\u044c\\u0448\\u0438\\u0445\",\"\\u043f\\u043e\\u043c\\u043e\\u0433\",\"\\u043d\\u0430\\u0434\\u043e?\",\"\\u0440\\u043e\\u0434\\u0441\\u0442\\u0432\\u0435\\u043d\\u043d\\u0438\\u043a\\u043e\\u0432\",\"\\u0444\\u0430\\u043c\\u0438\\u043b\\u0438\\u044f\",\"\\u0437\\u043d\\u0430\\u043a\",\"\\u0432\\u043e\\u0432\\u0430\",\"\\u043d\\u0430\\u0447\\u0438\\u043d\\u0430\\u0435\\u0442\",\"\\u0432\\u0441\\u0435\\u043c.\",\"\\u0441\\u0434\\u043e\\u0445\",\"\\u043f\\u043e\\u043b\\u043d\\u043e\\u0435\",\"\\u043a\\u0438\\u0442\\u0430\\u0439\",\"\\u0445\\u0443\\u0439\\u043d\\u044f\",\"\\u0441\\u0442\\u0440\\u0430\\u043d\\u044b.\",\"\\u0430\\u0434\\u0432\\u043e\\u043a\\u0430\\u0442\",\"\\u0443\\u0441\\u0442\\u0440\\u0430\\u0438\\u0432\\u0430\\u0435\\u0442\",\"\\u043d\\u0430\\u0447\\u0438\\u043d\\u0430\\u0442\\u044c\",\"\\u043f\\u0443\\u0442\\u0438\\u043d\\u0441\\u043a\\u0430\\u044f\",\"\\u0443\\u0432\\u044b\",\"\\u043d\\u043e\\u0433\\u0443\",\"\\u043d\\u0430\\u043f\\u0440\\u0438\\u043c\\u0435\\u0440,\",\"\\u043d\\u0435\\u0442...\",\"\\u0441\\u043c\\u044b\\u0441\\u043b\\u0430\",\"\\u0434\\u0430\\u0432\\u0430\\u043b\\u0438\",\"\\u0443\\u0440\\u0430\",\"\\u043a\\u0440\\u0430\\u0441\\u0430\\u0432\\u0447\\u0438\\u043a\",\"\\u0440\\u043e\\u0436\\u0434\\u0435\\u043d\\u0438\\u044f!!!\",\"\\u0434\\u0435\",\"\\u0430\\u043b\\u043a\\u0430\\u0448\",\"\\u0434\\u0432\\u0435\\u0440\\u0438\",\"\\u0432\\u044b\\u043f\\u043b\\u0430\\u0442\",\"\\u043f\\u0440\\u043e\\u0441\\u0442\\u043e,\",\"\\u0441\\u043e\\u0432\\u0435\\u0442\\u0441\\u043a\\u0438\\u0435\",\"\\u043c\\u043e\\u0441\\u043a\\u0432\\u044b\",\"\\u0443\\u0440\\u043e\\u0432\\u043d\\u0435\",\"\\u0441\\u0432\\u043e\\u0431\\u043e\\u0434\\u0443\",\"\\u0441\\u043b\\u0435\\u0432\\u0430\",\"\\u043f\\u043e\\u0441\\u043e\\u0431\\u0438\\u044f\",\"\\u0441\\u0442\\u0430\\u0440\\u043e\\u0441\\u0442\\u0438\",\"\\u0448\\u043b\\u044e\\u0445\\u0438\",\"\\u0433\\u0440\\u0435\\u0445\",\"\\u043d\\u0435\\u043d\\u0430\\u0432\\u0438\\u0436\\u0443\",\"\\u043a\\u043e\\u0442\\u0438\\u043a\",\"\\u0433\\u043e\\u0432\\u043e\\u0440\\u0438\\u0442\\u0441\\u044f\",\"\\u0442\\u043e\\u043a\\u0430\",\"\\u0443\\u0435\\u0431\\u043e\\u043a\",\"\\u043f\\u0438\\u0441\\u0430\\u043b\\u0430\",\"\\u0442\\u0435\\u0441\\u0442\\u043e\",\"\\u043f\\u0440\\u0438\\u0434\\u0443\\u0440\\u043a\\u0438\",\"\\u0434\\u044b\\u0448\\u0430\\u0442\\u044c\",\"\\u043d\\u0435\\u0431\\u0430\",\"\\u0440\\u043e\\u0434\\u0438\\u043b\\u0430\\u0441\\u044c\",\"\\u0441\\u0442\\u0430\\u043a\\u0430\\u043d\",\"\\u0434\\u0435\\u043b\\u0430\\u0442\\u044c.\",\"\\u0433\\u043e\\u0432\\u043e\\u0440\\u044f\",\"\\u0434\\u0430!\",\"\\u0437\\u0430\\u043b\\u0438\\u0442\\u044c\",\"\\u043b\\u044e\\u0431\\u0443\\u044e\",\"\\u0436\\u043e\\u043f\\u044b\",\"\\u043f\\u043e\\u0441\\u0442\\u0440\\u043e\\u0438\\u0442\\u044c\",\"\\u0448\\u0438\\u043a\\u0430\\u0440\\u043d\\u0430\\u044f\",\"\\u043f\\u0430\\u0440\\u0430\",\"\\u043c\\u043e\\u0441\\u043a\\u0432\\u0443\",\"\\u0447\\u0435\\u0441\\u043d\\u043e\\u043a\",\"\\u043f\\u043e\\u0434\\u0440\\u0443\\u0433\\u0430\",\"27\",\"\\u043e\\u0441\\u0442\\u0430\\u0432\\u044c\\u0442\\u0435\",\"\\u0441\\u043b\\u0443\\u0447\\u0430\\u0439\",\"\\u0434\\u043e\\u043c.\",\"\\u0441\\u0435\\u0439\\u0447\\u0430\\u0441.\",\"\\u0446\\u0435\\u043b\\u044c\",\"\\u043a\\u043b\\u0430\\u0441\\u0441.\",\"\\u043c\\u0430\\u0440\\u0438\\u044f\",\"\\u0434\\u043e\\u043c\\u0443\",\"\\u0441\\u0438\\u0434\\u0438\",\"\\u043d\\u0430\\u0441\\u0435\\u043b\\u0435\\u043d\\u0438\\u0435\",\"\\u0435\\u0441\\u0442\\u0435\\u0441\\u0442\\u0432\\u0435\\u043d\\u043d\\u043e\",\"\\u0436\\u0430\\u043b\\u043a\\u043e,\",\"\\u0431\\u0435\\u0434\\u043d\\u0430\\u044f\",\"\\u0437\\u043b\\u043e\",\"\\u0432\\u0435\\u0434\\u0443\\u0442\",\"\\u043f\\u0430\\u0440\\u043d\\u0438\",\"\\u0434\\u0435\\u0448\\u0435\\u0432\\u043b\\u0435\",\"\\u0431\\u043b\\u0430\\u0433\\u043e\",\"\\u0431\\u0438\\u0437\\u043d\\u0435\\u0441\",\"250\",\"\\u0433\\u0435\\u0440\\u043e\\u0438\",\"\\u0441\\u0432\\u044f\\u0442\\u043e\\u0433\\u043e\",\"\\u043f\\u0440\\u043e\\u0432\\u0435\\u0440\\u0438\\u0442\\u044c\",\"\\u043f\\u043e\\u0431\\u0435\\u0434\\u044b\",\"\\u043e\\u0441\\u0442\\u0430\\u043b\\u044c\\u043d\\u044b\\u0445\",\"\\u0438\\u043c\\u0435\\u043b\",\"\\u043f\\u0440\\u0438\\u043d\\u0438\\u043c\\u0430\\u044e\",\"\\u043c\\u0438\\u0442\\u0438\\u043d\\u0433\\u0438\",\"\\u043f\\u043e\\u043b\\u043e\\u0436\\u0438\\u0442\\u044c\",\"\\ud83e\\udd14\",\"????\",\"\\u0437\\u0434\\u043e\\u0440\\u043e\\u0432\\u043e!\",\"\\u0432\\u044b\\u0439\\u0434\\u0435\\u0442\",\"\\u0445\\u043e\\u0437\\u044f\\u0435\\u0432\",\"\\u0444\\u043e\\u0440\\u043c\\u0435\",\"\\u0447\\u0442\\u043e.\",\"\\u043f\\u0440\\u0438\\u0440\\u043e\\u0434\\u044b\",\"\\u0430\\u0434\\u043c\\u0438\\u043d\",\"\\u043a\\u0438\\u043d\\u043e\",\"\\u0441\\u0434\\u0435\\u043b\\u0430\\u043d\\u043e\",\"\\u0432\\u0441\\u0451\\u043c\",\"\\u043f\\u0440\\u0438\\u0435\\u0445\\u0430\\u0442\\u044c\",\"\\u0435\\u0434\\u0435\\u0442\",\"\\u0441\\u0438\\u043b\\u044c\\u043d\\u044b\\u0439\",\"\\u043b\\u043e\\u0436\\u043a\\u0438\",\"\\u043d\\u043e\\u0433\\u0430\\u043c\\u0438\",\"\\u0431\\u0430\\u043d\\u043a\",\"\\u043f\\u043e\\u043b\\u0433\\u043e\\u0434\\u0430\",\"\\u043e\\u0431\\u0435\",\"\\u0432\\u043f\\u0435\\u0440\\u0432\\u044b\\u0435\",\"\\u043e\\u0447\\u0435\\u0440\\u0435\\u0434\\u0438\",\"\\u0446\\u0432\\u0435\\u0442\\u043e\\u043a\",\"\\u043f\\u043e\\u0442\\u0435\\u0440\\u044f\\u043b\",\"\\u0441\\u0442\\u043e\\u0438\\u0442.\",\"\\u043f\\u0430\\u043c\\u044f\\u0442\\u043d\\u0438\\u043a\",\"\\u0437\\u043d\\u0430\\u043a\\u043e\\u043c\\u044b\\u0445\",\"\\u0431\\u044b\\u043b\\u0438,\",\"\\u0430\\u0434\\u043c\\u0438\\u043d\\u0438\\u0441\\u0442\\u0440\\u0430\\u0446\\u0438\\u0438\",\"\\u0438\\u0441\\u043f\\u043e\\u043b\\u044c\\u0437\\u043e\\u0432\\u0430\\u0442\\u044c\",\"\\u0433\\u043e\\u0434\\u0443.\",\"\\u043f\\u043e\\u043d\\u044f\\u043b\\u0430,\",\"\\u043f\\u0435\\u043d\\u0441\\u0438\\u043e\\u043d\\u0435\\u0440\\u043e\\u0432\",\"\\u043f\\u0440\\u0430\\u0437\\u0434\\u043d\\u0438\\u043a\\u043e\\u043c!\",\"\\u043f\\u043e\\u0434\\u043e\\u0431\\u043d\\u044b\\u0435\",\"\\u043b\\u044e\\u0431\\u0432\\u0438,\",\"\\u0435\\u0431\\u0430\\u043d\\u0443\\u0442\\u044b\\u0439\",\"\\u043f\\u043e\\u0440\\u043e\\u0434\\u0430\",\"\\u0441\\u0442\\u0440\\u0430\\u043d\\u043d\\u043e\",\"\\u043f\\u043e\\u0441\\u0442\\u0430\\u0432\\u0438\\u043b\",\"\\u0441\\u0430\\u0434\",\"\\u043d\\u0430\\u043f\\u0438\\u0448\\u0443\",\"\\u0439\",\"\\u0442\\u043e\\u0447\\u043d\\u0435\\u0435\",\"3.\",\"\\u043c\\u043d\\u043e\\u0433\\u0438\\u043c\",\"\\u0437\\u0430\\u0447\\u0435\\u043c?\",\"\\u0441\\u043b\\u043e\\u0432\\u0430.\",\"\\u043c\\u0435\\u043d\\u044f.\",\"\\u0432\\u0430\\u043b\\u0435\\u043d\\u0442\\u0438\\u043d\\u0430\",\"\\u043a\\u0440\\u0430\\u0441\\u043e\\u0442\\u043a\\u0430\",\"\\u0432\\u0435\\u043b\\u0438\\u043a\\u0430\\u044f\",\"\\u0441\\u043c\\u043e\\u0433\\u043b\\u0438\",\"\\u043f\\u0440\\u0438\\u0432\\u0435\\u0442\\u0438\\u043a\",\"\\u0442\\u0440\\u0430\\u0445\\u0430\\u0442\\u044c\",\"\\u0445\\u043e\\u043b\\u043e\\u0434\\u0438\\u043b\\u044c\\u043d\\u0438\\u043a\",\"\\u043a\\u0432\",\"\\u0445\\u043e\\u0440\\u043e\\u0448\\u0443\\u044e\",\"\\u0436\\u0435\\u043d\\u044b\",\"\\u043f\\u0443\\u0442\\u0438\\u043d\\u0441\\u043a\\u0438\\u0439\",\"\\u043f\\u043e\\u044f\\u0432\\u0438\\u043b\\u0438\\u0441\\u044c\",\"\\u0441\\u043d\\u0438\\u043c\\u0430\\u0442\\u044c\",\"\\u043a\\u0442\\u043e?\",\"\\u0445\\u0432\\u0430\\u043b\\u0430\",\"\\u0441\\u0435\\u043b\\u043e\",\"\\u043f\\u0440\\u043e\\u0448\\u043b\\u0438\",\"\\u0445\\u0432\\u0430\\u0442\\u0438\\u043b\\u043e\",\"\\u043f\\u0440\\u0438\\u0434\\u0443\\u0442\",\",\\u043a\\u0442\\u043e\",\"\\u043e\\u0442\\u0441\\u044e\\u0434\\u0430\",\"\\u0443\\u0445\\u043e\\u0434\\u044f\\u0442\",\"\\u043c\\u0430\\u0440\\u0438\\u043d\\u0430\",\"\\u043f\\u0430\\u0440\\u043a\",\"\\u0443\\u043b\\u0438\\u0446\\u0430\",\"\\u043a\\u0440\\u043e\\u0432\\u0438\",\"\\u043c\\u0435\\u0434\",\"\\u043d\\u0430\\u0437\\u0430\\u0434,\",\"\\u0441\\u043b\\u0435\\u0437\",\":o\",\":-(\",\"\\u0434\\u0430\\u043d\\u043d\\u044b\\u0435\",\"\\u043f\\u0440\\u0438\\u043e\\u0431\\u0440\\u0435\\u0441\\u0442\\u0438\",\"\\u043b.\",\"\\u043f\\u0430\\u0441\\u043f\\u043e\\u0440\\u0442\",\"\\u043c\\u0435\\u0441\\u0442\\u0435.\",\"\\u0441\\u0441\\u0441\\u0440,\",\"\\u0445\\u043b\\u0435\\u0431\\u0430\",\"\\u043d\\u0430\\u0432\\u0435\\u0440\\u043d\\u044f\\u043a\\u0430\",\"\\u043f\\u0430\\u0440\\u043d\\u044f\",\"\\u0431\\u0435\\u043b\\u043e\\u0440\\u0443\\u0441\\u044b\",\"\\u043c\\u0430\\u0433\\u0430\\u0437\\u0438\\u043d\\u0430\",\"\\u043a\\u0443\\u0447\\u0443\",\"\\u0431\\u0430\\u0431\\u0443\\u0448\\u043a\\u0435\",\"\\u0443\\u0440\\u043e\\u0432\\u043d\\u044f\",\"\\u0434\\u043e\\u0431\\u0440\\u0430\\u044f\",\"?!\",\"\\u0437\\u0430\\u043c\\u0435\\u0447\\u0430\\u0442\\u0435\\u043b\\u044c\\u043d\\u0430\\u044f\",\"v\",\"\\u043f\\u043e\\u043c\\u043d\\u0438\\u0442\",\"\\u0434\\u0430\\u043c\",\"\\u0430\\u0434\\u0440\\u0435\\u0441\\u0443\",\"\\u043e\\u0442\\u043a\\u0440\\u044b\\u0442\\u044c\",\"\\u0441.\",\"\\u0448\\u0442\\u0440\\u0430\\u0444\",\"\\u0437\\u043d\\u0430\\u044e\\u0442,\",\"\\u043f\\u043e\\u0434\\u0434\\u0435\\u0440\\u0436\\u043a\\u0443\",\"\\u043a\\u0443\\u0440\\u0431\\u0430\\u043d\",\"\\u0432\\u043d\\u0438\\u043c\\u0430\\u0442\\u0435\\u043b\\u044c\\u043d\\u043e\",\"\\u0437\\u043d\\u0430\\u0447\\u0438\\u0442,\",\"\\u0441\\u0443\\u0442\\u044c\",\"\\u043a\\u043e\\u0435\",\"\\u043c\\u044b,\",\"\\u0430\\u043b\\u0435\\u043a\\u0441\\u0430\\u043d\\u0434\\u0440\\u043e\\u0432\\u043d\\u0430\",\"\\u0443\\u0436\\u0435.\",\"\\u0431\\u0435\\u043b\\u0430\\u0440\\u0443\\u0441\\u044c\",\"\\u0440\\u0435\\u0439\\u0442\\u0438\\u043d\\u0433\",\"\\u0432\\u043b\\u0430\\u0441\\u0442\\u0438.\",\"\\u0443\\u0432\\u0430\\u0436\\u0430\\u0435\\u043c\\u044b\\u0439\",\"\\u0441\\u0442\\u0430\\u043b\\u0438\\u043d\\u0430\",\"\\u0435\\u0437\\u0434\\u0438\\u043b\\u0438\",\"\\u0438\\u043d\\u0442\\u0435\\u0440\\u0435\\u0441\\u043d\\u044b\\u0439\",\"\\u043e\\u0442\\u0432\\u0435\\u0442\\u0438\\u043b\",\"\\u0441\\u043e\\u0433\\u043b\\u0430\\u0441\\u043d\\u0430,\",\"\\u043d\\u0435\\u043a\\u043e\\u0433\\u0434\\u0430\",\"\\u0441\\u0432\\u0438\\u043d\\u044c\\u044f\",\"\\u043c\\u0435\\u0441\\u0442\\u043e.\",\"\\u0442\\u043e\\u0447\\u043a\\u0443\",\":p\",\"\\u043f\\u043e\\u043b\\u044c\\u0437\\u0443\",\"\\u0431\\u0430\\u0431\\u0443\\u043b\\u044f\",\"\\u043d\\u0440\\u0430\\u0432\\u0438\\u0442\\u044c\\u0441\\u044f\",\"\\u0432\\u0435\\u0447\\u0435\\u0440!\",\"\\u0433\\u0440\",\"\\u0441\\u044b\\u043d\\u043e\\u043a\",\"\\u0434\\u0432\\u043e\\u0435\",\"\\u0431\\u0430\\u0437\\u0435\",\"\\u0441\\u0442\\u0440\\u0430\\u043d\\u0438\\u0446\\u0435\",\"\\u0432\\u0441\\u0435\\u0433\\u043e,\",\"\\u043f\\u0440\\u0438\\u0448\\u0451\\u043b\",\"\\u0432\\u043e\\u0432\\u0441\\u0435\",\"\\u0432\\u043e\\u043f\\u0440\\u043e\\u0441,\",\"\\u043f\\u043e\\u0434\\u0440\\u043e\\u0431\\u043d\\u043e\\u0441\\u0442\\u0438\",\"\\u0441\\u043e\\u0432\\u0435\\u0442\\u0443\\u044e\",\"\\u043a\\u0443\\u0440\\u0441\\u0435\",\"\\u0432\\u044b\\u0445\\u043e\\u0434\\u0438\\u0442\\u044c\",\"\\u0441\\u0430\\u043c\\u0443\\u044e\",\"\\u0436\\u0438\\u0432\\u043e\\u0439\",\"\\u043e\\u0432\\u0446\\u0430\",\"\\u0438\\u043d\\u0444\\u043e\\u0440\\u043c\\u0430\\u0446\\u0438\\u0438\",\"\\u0441\\u0442\\u0430\\u0432\\u044f\\u0442\",\"\\u043f\\u0440\\u043e\\u0444\\u0438\\u043b\\u044c\",\"\\u0440\\u0443\\u0441\\u0441\\u043a\\u043e\\u0439\",\"\\u043c\\u0435\\u0441\\u0442\\u043d\\u044b\\u0435\",\"\\u043f\\u0435\\u0442\\u0443\\u0445\",\"\\u0432\\u0442\\u043e\\u0440\\u043e\\u0433\\u043e\",\"\\u043a\\u043e\\u043d\\u0447\\u0435\\u043d\\u043d\\u0430\\u044f\",\"\\u043b\\u0435\\u043d\\u0438\\u043d\\u0430\",\"\\u043f\\u0438\\u0448\\u0435\\u0448\\u044c\",\"\\u0441\\u044b\\u0440\",\"\\u0435\\u043b\\u0435\",\"\\u043e\\u0441\\u0442\\u0430\\u0435\\u0442\\u0441\\u044f\",\"\\u0441\\u043e\\u044e\\u0437\\u0430\",\"\\u0447\\u0438\\u0441\\u043b\\u043e\",\"\\u043a\\u043e\\u0442\\u043e\\u0440\\u043e\\u043c\\u0443\",\"\\u043c\\u0435\\u0441\\u0442\\u0430\\u0445\",\"\\u0444\\u043e\\u0442\\u043e\\u0448\\u043e\\u043f\",\"\\u043d\\u0430\\u0441\\u0442\\u043e\\u044f\\u0449\\u0438\\u0445\",\"\\u043d\\u0435\\u0431\\u044b\\u043b\\u043e\",\"=\",\"\\u043f\\u043b\\u043e\\u0445\\u043e\\u0439\",\"-\\u0442\\u043e\",\"\\u043e\\u0433\\u0440\\u043e\\u043c\\u043d\\u044b\\u0439\",\"\\u0432\\u0435\\u043a\\u0430\",\"\\u0434\\u044f\\u0434\\u044f\",\"\\u2615\",\"\\u0443\\u0442\\u0440\\u043e!\",\"\\u043c\\u0440\\u0430\\u0437\\u044c.\",\"\\u043e\\u0434\\u043d\\u0430\\u0436\\u0434\\u044b\",\"\\u043f\\u0438\\u0434\\u0430\\u0440\\u0430\\u0441\\u043e\\u0432\",\"\\u043f\\u0440\\u0438\\u043d\\u044f\\u0442\\u044c\",\"\\u0442\\u0432\\u043e\\u0440\\u0447\\u0435\\u0441\\u043a\\u0438\\u0445\",\"\\u0432\\u043e\\u0440\\u0443\\u044e\\u0442\",\"\\u043f\\u043e\\u043b\\u043d\\u043e\",\"\\u043c\\u043e\\u043b\\u0447\\u0430\",\"\\u0438\\u0449\\u0438\\u0442\\u0435\",\"\\u0432\\u043e\\u043e\\u0431\\u0449\\u0435-\\u0442\\u043e\",\"\\u0440\\u0430\\u0434\\u043e\\u0432\\u0430\\u0442\\u044c\\u0441\\u044f\",\"\\u043b\\u0435\\u0436\\u0438\\u0442\",\"\\u044d\\u0442\",\"\\u0441\\u043e\\u043a\",\"\\u0444\\u043e\\u0440\\u043c\\u0443\",\"\\u0442\\u0440\\u0443\\u0441\\u044b\",\"\\u043f\\u0440\\u043e\\u0441\\u0442\\u044b\\u0435\",\"\\u0431\\u044b\\u043b\\u043e!\",\"\\u043a\\u0442\\u043e-\\u043d\\u0438\\u0431\\u0443\\u0434\\u044c\",\"\\u0430\\u043a\\u0442\\u0435\\u0440\",\"\\u0436\\u0435\\u043b\\u0430\\u043d\\u0438\\u044f\",\"\\u0434\\u043e\\u0440\\u043e\\u0433\",\"\\u0437\\u0430\\u0432\\u043e\\u0434\",\"\\u0430\\u0434\\u043c\\u0438\\u043d\\u0438\\u0441\\u0442\\u0440\\u0430\\u0446\\u0438\\u044f\",\"\\u0430\\u043c\\u0438\\u043d\\u044c.\",\"\\u0441\\u043c\\u043e\\u0442\\u0440\\u0435\\u043b\\u0430\",\"\\u0440\\u043e\\u0434\\u0430\",\"\\u043e\\u0431\\u0440\\u0430\\u0442\\u0438\\u0442\\u044c\\u0441\\u044f\",\"\\u043d\\u0430\\u0445\",\"\\u0437\\u0430\\u0449\\u0438\\u0449\\u0430\\u0442\\u044c\",\"\\ud83c\\udf82\",\"))))\",\"\\u0430\\u043d\\u0433\\u0435\\u043b\",\"\\u0441\\u043b\\u0443\\u0447\\u0438\\u043b\\u043e\\u0441\\u044c\",\"\\u0447\\u0435\\u0440\\u0442\\u0438\",\"\\u0443\\u0441\\u043b\\u0443\\u0433\\u0438\",\"\\u0431\\u043b\\u0430\\u0433\\u043e\\u0434\\u0430\\u0440\\u043d\\u043e\\u0441\\u0442\\u044c\",\"\\u0441\\u043e\\u043d\",\"\\u043b\\u0438\\u0442\\u0440\",\"\\u0442\\u0435\\u0431\\u044f.\",\"\\u043f\\u043e\\u043b\\u0443\\u0447\\u0430\\u0435\\u0442\\u0441\\u044f,\",\"\\u043c\\u0443\\u0436\\u0443\",\"\\u0431\\u043e\\u0433,\",\"\\u0441\\u043e\\u0441\\u0435\\u0434\\u0435\\u0439\",\"\\u043a\\u043e\\u0437\\u0435\\u043b\",\"\\u0434\\u0440\\u0443\\u0436\\u0431\\u0443\",\"\\u043e\\u0442\\u0432\\u0435\\u0442\\u0430\",\"\\u0441\\u043a\\u0430\\u0436\\u0438\\u0442\\u0435,\",\"\\u043d\\u043e\\u0441\\u0438\\u0442\",\"\\u0437\\u0430\\u043f\\u0430\\u0434\",\"\\u0438\\u0437\\u043c\\u0435\\u043d\\u0438\\u0442\\u044c\",\"\\u0433\\u0440\\u0430\\u043d\\u0438\\u0446\\u044b\",\"\\u0442\\u0430\\u043a?\",\"\\u0445\\u043e\\u0440\\u043e\\u0448\",\"\\u043d\\u0430\\u0437\\u0430\\u0434.\",\"\\u043f\\u044b\\u0442\\u0430\\u0435\\u0442\\u0441\\u044f\",\"\\u0432\\u043a\\u0443\\u0441\\u043d\\u043e.\",\"\\u043c\\u0435\\u0440\\u0435\",\"\\u0438.\",\"\\u0442\\u043e\\u0436\\u0435,\",\"\\u043c\\u0435\\u0434\\u0438\\u0446\\u0438\\u043d\\u0430\",\"\\u043f\\u0440\\u043e\\u0445\\u043e\\u0434\\u0438\\u0442\",\"\\u0437\\u0430\\u0432\\u043e\\u0434\\u044b\",\"\\u043f\\u0440\\u043e\\u0434\\u0430\\u0436\\u0435\",\"\\u0441\\u0438\\u0434\\u0438\\u0442\\u0435\",\"\\u043a\\u043e\\u043d\\u043b\\u0430\\u0439\\u043d\",\"\\u043c\\u043e\\u043b\\u043e\\u0434\\u0446\\u044b!!!\",\"\\u043d\\u0438\\u0447\\u0435\\u043c\",\"\\u043f\\u043e\\u0434\\u0434\\u0435\\u0440\\u0436\\u0438\\u0432\\u0430\\u044e\",\"\\u0441\\u0443\\u043f\\u0435\\u0440,\",\"\\u043a\\u0433.\",\"\\u0443\\u0447\\u0430\\u0441\\u0442\\u043e\\u043a\",\"\\u0444\\u0438\\u0433\",\"\\u043f\\u0440\\u043e\\u0434\\u0430\\u0435\\u0442\\u0441\\u044f\",\"\\u0443\\u0435\\u0431\\u0438\\u0449\\u0435\",\"\\u0441\\u0431\\u043e\\u0439\",\"\\u043f\\u0440\\u0438\\u0435\\u0445\\u0430\\u043b\\u0438\",\"\\u0442.\\u043a.\",\"\\u0432\\u043e\\u0440\\u044b\",\"\\u0432\\u0441\\u0435\\u0433\\u0434\\u0430,\",\"\\u043a\\u0430\\u043d\\u0430\\u043b\",\"\\u043b\\u0430\\u0439\\u043a\\u043e\\u0432\",\"\\u0442\\u043e\\u0442,\",\"\\u043b\\u044e\\u0434\\u044f\\u0445\",\"\\u0447\\u0438\\u0441\\u0442\\u044b\\u0439\",\"\\u0436\\u043a\\u0445\",\"\\u0437\\u0434\\u043e\\u0440\\u043e\\u0432\\u043e,\",\"\\u043d\\u0430\\u0441\\u0447\\u0451\\u0442\",\"\\u043f\\u0440\\u043e\\u0434\\u0430\\u0451\\u0442\\u0441\\u044f\",\"\\u043e\\u0442\\u0434\\u044b\\u0445\\u0430\",\"\\u0434\\u0440\\u0443\\u0433\\u0438\\u043c\\u0438\",\"\\u0433\\u043b\\u0430\\u0437\\u0430\\u043c\\u0438\",\"\\u043f\\u043e\\u043d\\u0438\\u043c\\u0430\\u0435\\u0442\",\"\\u0434\\u0430\\u0447\\u0435\",\"\\u0433\\u0440\\u044f\\u0437\\u0438\",\"\\u043f\\u0440\\u043e\\u0441\\u0442\\u0438\\u0442\\u0443\\u0442\\u043a\\u0430\",\"\\u0441\\u0447\\u0430\\u0441\\u0442\\u043b\\u0438\\u0432\\u043e\\u0439\",\"\\u0431\\u0443\\u0434\\u0443\\u0442.\",\"\\u0431\\u043b\\u0438\\u0437\\u043a\\u043e\",\"\\u0441\\u0442\\u043e\\u044f\\u043b\",\"\\u043d\\u0430\\u0437\\u044b\\u0432\\u0430\\u043b\\u0438\",\"\\u0441\\u043f\\u043e\\u043a\\u043e\\u0439\\u043d\\u043e\\u0439\",\"\\u043f\\u043e\\u043b\\u043e\\u0432\\u0438\\u043d\\u0443\",\"\\u0447\\u0443\\u0432\\u0441\\u0442\\u0432\\u043e\",\"\\u0434\\u0435\\u0432\\u043e\\u0447\\u043a\\u0443\",\"\\u0440\\u043e\\u0434\\u043d\\u0430\\u044f\",\"\\u0442\\u0432\\u0430\\u0440\\u044c,\",\"\\u0441\\u0442\\u0430\\u0442\\u044c\\u044f\",\"\\u0436\\u0438\\u0442\\u044c,\",\"\\u043d\\u043e\\u0433\",\"\\u043e\\u0442\\u043a\\u0440\\u044b\\u0432\\u0430\\u0435\\u0442\\u0441\\u044f\",\"\\u0431\\u043e\\u043b\\u044c\\u0448\\u043e\\u0433\\u043e\",\"\\u0441\\u043a\\u0438\\u043d\\u0443\\u0442\\u044c\",\"\\u0441\\u043b\\u044b\\u0448\\u0430\\u043b\\u0430\",\"\\u0433\\u043b\\u044f\\u0434\\u044f\",\"\\u0434\\u0440\\u0443\\u0437\\u044c\\u044f\\u043c\",\"\\u043c\\u0435\\u0448\\u0430\\u0435\\u0442\",\"\\u0431\\u043e\\u043b\\u044c\\u043d\\u044b\\u0435\",\"\\u0441\\u0442\\u043e\\u0440\\u043e\\u043d\\u0435\",\"\\u043f\\u0440\\u043e\\u0441\\u0438\\u0442\",\"\\u0434\\u043e\\u043b\\u0431\\u043e\\u0435\\u0431\\u043e\\u0432\",\"\\u043e\\u0431\\u0449\\u0430\\u0442\\u044c\\u0441\\u044f\",\"\\u0437\\u0430\\u0431\\u044b\\u043b\\u0430\",\"\\u043a\\u043e\\u0441\\u0442\\u044e\\u043c\",\"\\u0432\\u043e\\u043e\\u0431\\u0449\\u0435,\",\"\\u043f\\u043e\\u043f\\u0440\\u043e\\u0431\\u0443\\u0439\",\"\\u0433\\u0430\\u0432\\u043d\\u043e\",\"\\u043e\\u0447\\u0435\\u0440\\u0435\\u0434\\u043d\\u0430\\u044f\",\"\\u043f\\u043e\\u043a\\u0430\\u0437\\u044b\\u0432\\u0430\\u0435\\u0442\",\"\\u0438\\u0441\\u043a\\u0440\\u0435\\u043d\\u043d\\u0435\",\"\\u0443\\u0432\\u0430\\u0436\\u0435\\u043d\\u0438\\u044f\",\"\\u043f\\u044c\\u044f\\u043d\\u044b\\u0439\",\"\\u0438\\u0437\\u0432\\u0438\\u043d\\u0438\\u0442\\u0435,\",\"\\u0435\\u0434\\u0438\\u043d\\u0441\\u0442\\u0432\\u0435\\u043d\\u043d\\u044b\\u0439\",\",\\u0442\\u0430\\u043a\",\"\\u043f\\u044b\\u0442\\u0430\\u044e\\u0442\\u0441\\u044f\",\"\\u043a\\u0440\\u0430\\u0441\\u043d\\u044b\\u0439\",\"\\u0432\\u043e\\u0441\\u043a\\u0440\\u0435\\u0441\\u0435\\u043d\\u044c\\u0435\",\"\\u0441\\u0435\\u043a\\u0441\",\"\\u0434\\u043e\\u0441\\u0442\\u043e\\u0439\\u043d\\u043e\",\"\\u0432\\u0440\\u0430\\u0442\\u044c\",\"\\u0432\\u043e\\u0434\\u0435\",\"\\u0431\\u0435\\u043b\\u0430\\u0440\\u0443\\u0441\\u0438\",\"\\u0441\\u043a\\u0438\\u043d\\u044c\\u0442\\u0435\",\"\\u043e\\u0442\\u043f\\u0443\\u0441\\u043a\",\"\\u0447\\u0451\\u0440\\u043d\\u044b\\u0439\",\"\\u0441\\u0443\\u0447\\u043a\\u0430\",\"\\u0442\\u0430\\u043c.\",\"\\u0444\",\"\\u0446\\u0435\\u043d\\u0443?\",\"\\u0436\\u0438\\u0432\\u0451\\u0442\\u0435\",\"\\u043a\\u0430\\u043a\\u0430\\u044f-\\u0442\\u043e\",\"\\u043f\\u0440\\u0435\\u043a\\u0440\\u0430\\u0441\\u043d\\u043e\\u0433\\u043e\",\"\\u043b\\u0443\\u043a\\u0430\",\"\\u0434\\u0435\\u0440\\u0435\\u0432\\u044c\\u044f\",\"\\u0432\\u0437\\u0440\\u043e\\u0441\\u043b\\u044b\\u0445\",\"\\u043c\\u0435\\u0441\\u0442\",\"\\u0432\\u044b\\u0445\\u043e\\u0434\",\"...\\u0430\",\"\\u0431\\u0435\\u0440\\u0435\\u0442\",\"\\u0441\\u043e\\u044e\\u0437\\u0435\",\"\\u043d\\u0430\\u043a\\u0430\\u0437\\u044b\\u0432\\u0430\\u0442\\u044c\",\"\\u0447\\u0435\\u043b\\u043e\\u0432\\u0435\\u043a!\",\"\\u0443\\u0445\",\"\\u0441\\u043e\\u0432\\u0435\\u0442\\u044b\",\"\\u044f\\u0437\\u044b\\u043a\\u043e\\u043c\",\"......\",\"\\u0437\\u0430\\u0431\\u0435\\u0440\\u0443\",\"\\u0433\\u043b\\u0430\\u0437\\u043a\\u0438\",\"\\u043f\\u0440\\u043e\\u0441\\u0442\\u043e\\u0433\\u043e\",\"\\u0440\\u0430\\u0441\\u0441\\u043a\\u0430\\u0437\",\"\\u043e\\u0442\\u0434\\u044b\\u0445\",\"\\u043c\\u0430\\u043b\\u043e,\",\"\\u0432\\u0430\\u043c\\u0438.\",\"\\u043f\\u043e\\u0441\\u0442\\u0443\\u043f\\u043a\\u0438\",\"\\u0430\\u043a\\u0442\\u0440\\u0438\\u0441\\u0430\",\"\\u043b\\u044e\\u0431\\u0430\\u044f\",\"\\u043d\\u0435\\u0447\\u0435\\u043c\",\"\\u0433\\u043e\\u043b\\u043e\\u0441\\u043e\\u0432\\u0430\\u0442\\u044c\",\"\\u043d\\u0435\\u0441\\u0442\\u0438\",\"\\u043b\\u0443\\u0447\\u0448\\u0430\\u044f\",\"\\u0441\\u0442\\u0440\\u0430\\u0448\\u043d\\u043e\\u0435\",\"\\u0441\\u043b\\u0443\\u0448\\u0430\\u0439\",\"\\u0443\\u043c\\u043d\\u0430\\u044f\",\"\\u043c\\u043e\\u043b\\u043e\\u0434\\u043e\\u0441\\u0442\\u0438\",\"\\u043d\\u0440\\u0430\\u0432\\u0438\\u0442\\u0441\\u044f,\",\"\\u0441\\u043b\\u043e\\u0432\\u0430\\u043c\\u0438\",\"\\u0444\\u0430\\u0448\\u0438\\u0441\\u0442\\u043e\\u0432\",\"\\u043e\\u0431\\u0435\\u0434\"],\"x1\":{\"__ndarray__\":\"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\",\"dtype\":\"float32\",\"order\":\"little\",\"shape\":[3000]},\"x2\":{\"__ndarray__\":\"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\",\"dtype\":\"float32\",\"order\":\"little\",\"shape\":[3000]}},\"selected\":{\"id\":\"1045\"},\"selection_policy\":{\"id\":\"1046\"}},\"id\":\"1030\",\"type\":\"ColumnDataSource\"},{\"attributes\":{},\"id\":\"1005\",\"type\":\"DataRange1d\"},{\"attributes\":{\"active_multi\":null,\"tools\":[{\"id\":\"1021\"},{\"id\":\"1022\"},{\"id\":\"1023\"},{\"id\":\"1024\"}]},\"id\":\"1025\",\"type\":\"Toolbar\"},{\"attributes\":{},\"id\":\"1011\",\"type\":\"LinearScale\"},{\"attributes\":{},\"id\":\"1042\",\"type\":\"AllLabels\"},{\"attributes\":{},\"id\":\"1009\",\"type\":\"LinearScale\"},{\"attributes\":{},\"id\":\"1043\",\"type\":\"BasicTickFormatter\"},{\"attributes\":{\"formatter\":{\"id\":\"1043\"},\"major_label_policy\":{\"id\":\"1042\"},\"ticker\":{\"id\":\"1018\"}},\"id\":\"1017\",\"type\":\"LinearAxis\"},{\"attributes\":{},\"id\":\"1014\",\"type\":\"BasicTicker\"},{\"attributes\":{\"fill_color\":{\"value\":\"#1f77b4\"},\"line_color\":{\"value\":\"#1f77b4\"},\"size\":{\"value\":5},\"x\":{\"field\":\"x1\"},\"y\":{\"field\":\"x2\"}},\"id\":\"1032\",\"type\":\"Scatter\"},{\"attributes\":{\"axis\":{\"id\":\"1013\"},\"ticker\":null},\"id\":\"1016\",\"type\":\"Grid\"},{\"attributes\":{\"axis\":{\"id\":\"1017\"},\"dimension\":1,\"ticker\":null},\"id\":\"1020\",\"type\":\"Grid\"},{\"attributes\":{\"source\":{\"id\":\"1030\"}},\"id\":\"1035\",\"type\":\"CDSView\"},{\"attributes\":{},\"id\":\"1018\",\"type\":\"BasicTicker\"},{\"attributes\":{\"fill_alpha\":{\"value\":0.1},\"fill_color\":{\"value\":\"#1f77b4\"},\"line_alpha\":{\"value\":0.1},\"line_color\":{\"value\":\"#1f77b4\"},\"size\":{\"value\":5},\"x\":{\"field\":\"x1\"},\"y\":{\"field\":\"x2\"}},\"id\":\"1033\",\"type\":\"Scatter\"},{\"attributes\":{\"source\":{\"id\":\"1030\"},\"text\":{\"field\":\"names\"},\"text_align\":{\"value\":\"center\"},\"text_color\":{\"value\":\"#555555\"},\"text_font_size\":{\"value\":\"6pt\"},\"x\":{\"field\":\"x1\"},\"y\":{\"field\":\"x2\"},\"y_offset\":{\"value\":6}},\"id\":\"1036\",\"type\":\"LabelSet\"}],\"root_ids\":[\"1002\"]},\"title\":\"Bokeh Application\",\"version\":\"2.3.3\"}};\n",
              "  var render_items = [{\"docid\":\"eaaf7c9b-f003-4d49-adb9-50a1d0607973\",\"root_ids\":[\"1002\"],\"roots\":{\"1002\":\"59e18c48-d8cf-4904-9f6d-b69feaaf3a1d\"}}];\n",
              "  root.Bokeh.embed.embed_items_notebook(docs_json, render_items);\n",
              "\n",
              "  }\n",
              "  if (root.Bokeh !== undefined) {\n",
              "    embed_document(root);\n",
              "  } else {\n",
              "    var attempts = 0;\n",
              "    var timer = setInterval(function(root) {\n",
              "      if (root.Bokeh !== undefined) {\n",
              "        clearInterval(timer);\n",
              "        embed_document(root);\n",
              "      } else {\n",
              "        attempts++;\n",
              "        if (attempts > 100) {\n",
              "          clearInterval(timer);\n",
              "          console.log(\"Bokeh: ERROR: Unable to run BokehJS code because BokehJS library is missing\");\n",
              "        }\n",
              "      }\n",
              "    }, 10, root)\n",
              "  }\n",
              "})(window);"
            ],
            "application/vnd.bokehjs_exec.v0+json": ""
          },
          "metadata": {
            "application/vnd.bokehjs_exec.v0+json": {
              "id": "1002"
            }
          }
        }
      ]
    },
    {
      "cell_type": "markdown",
      "metadata": {
        "id": "XGMIgssJREoy"
      },
      "source": [
        "Now try to preprocess texts!<br>\n",
        "write function to preprocess texts. You can do whatever you want:\n",
        " - delete stop words\n",
        " - delete punctuation\n",
        " - lematize words\n",
        " - stemming\n",
        " - lower texts\n",
        "\n",
        " After that you can explore texts and their representation"
      ]
    },
    {
      "cell_type": "markdown",
      "metadata": {
        "id": "E8vIXQnXR6ko"
      },
      "source": [
        "## Part 2"
      ]
    },
    {
      "cell_type": "markdown",
      "metadata": {
        "id": "JnHbxJYw0D1C"
      },
      "source": [
        "In this task we will solve task of classification sentiment of text. For this purpose install python library datasets which contains IMDB dataset. This is dataset for binary classification. <br>\n",
        "Our main goals are:\n",
        "- solve real task;\n",
        "- try to write custom classes for processing data;\n",
        "- use pretrained vector representaition (aka transfer learning);\n",
        "- try new arhitecture for classification task."
      ]
    },
    {
      "cell_type": "code",
      "metadata": {
        "id": "WkPwemZ2QeTL",
        "colab": {
          "base_uri": "https://localhost:8080/"
        },
        "outputId": "970b2ab6-716f-45e3-a13f-ec12fbed74e2"
      },
      "source": [
        "!pip install datasets"
      ],
      "execution_count": 53,
      "outputs": [
        {
          "output_type": "stream",
          "name": "stdout",
          "text": [
            "Looking in indexes: https://pypi.org/simple, https://us-python.pkg.dev/colab-wheels/public/simple/\n",
            "Collecting datasets\n",
            "  Downloading datasets-2.9.0-py3-none-any.whl (462 kB)\n",
            "\u001b[2K     \u001b[90m━━━━━━━━━━━━━━━━━━━━━━━━━━━━━━━━━━━━━━\u001b[0m \u001b[32m462.8/462.8 KB\u001b[0m \u001b[31m26.7 MB/s\u001b[0m eta \u001b[36m0:00:00\u001b[0m\n",
            "\u001b[?25hRequirement already satisfied: pyarrow>=6.0.0 in /usr/local/lib/python3.8/dist-packages (from datasets) (9.0.0)\n",
            "Requirement already satisfied: dill<0.3.7 in /usr/local/lib/python3.8/dist-packages (from datasets) (0.3.6)\n",
            "Collecting multiprocess\n",
            "  Downloading multiprocess-0.70.14-py38-none-any.whl (132 kB)\n",
            "\u001b[2K     \u001b[90m━━━━━━━━━━━━━━━━━━━━━━━━━━━━━━━━━━━━━━\u001b[0m \u001b[32m132.0/132.0 KB\u001b[0m \u001b[31m16.6 MB/s\u001b[0m eta \u001b[36m0:00:00\u001b[0m\n",
            "\u001b[?25hRequirement already satisfied: numpy>=1.17 in /usr/local/lib/python3.8/dist-packages (from datasets) (1.21.6)\n",
            "Requirement already satisfied: pandas in /usr/local/lib/python3.8/dist-packages (from datasets) (1.3.5)\n",
            "Requirement already satisfied: pyyaml>=5.1 in /usr/local/lib/python3.8/dist-packages (from datasets) (6.0)\n",
            "Collecting xxhash\n",
            "  Downloading xxhash-3.2.0-cp38-cp38-manylinux_2_17_x86_64.manylinux2014_x86_64.whl (213 kB)\n",
            "\u001b[2K     \u001b[90m━━━━━━━━━━━━━━━━━━━━━━━━━━━━━━━━━━━━━━\u001b[0m \u001b[32m213.0/213.0 KB\u001b[0m \u001b[31m28.2 MB/s\u001b[0m eta \u001b[36m0:00:00\u001b[0m\n",
            "\u001b[?25hRequirement already satisfied: aiohttp in /usr/local/lib/python3.8/dist-packages (from datasets) (3.8.3)\n",
            "Collecting huggingface-hub<1.0.0,>=0.2.0\n",
            "  Downloading huggingface_hub-0.12.0-py3-none-any.whl (190 kB)\n",
            "\u001b[2K     \u001b[90m━━━━━━━━━━━━━━━━━━━━━━━━━━━━━━━━━━━━━━\u001b[0m \u001b[32m190.3/190.3 KB\u001b[0m \u001b[31m23.6 MB/s\u001b[0m eta \u001b[36m0:00:00\u001b[0m\n",
            "\u001b[?25hRequirement already satisfied: packaging in /usr/local/lib/python3.8/dist-packages (from datasets) (21.3)\n",
            "Collecting responses<0.19\n",
            "  Downloading responses-0.18.0-py3-none-any.whl (38 kB)\n",
            "Requirement already satisfied: tqdm>=4.62.1 in /usr/local/lib/python3.8/dist-packages (from datasets) (4.64.1)\n",
            "Requirement already satisfied: fsspec[http]>=2021.11.1 in /usr/local/lib/python3.8/dist-packages (from datasets) (2022.11.0)\n",
            "Requirement already satisfied: requests>=2.19.0 in /usr/local/lib/python3.8/dist-packages (from datasets) (2.25.1)\n",
            "Requirement already satisfied: async-timeout<5.0,>=4.0.0a3 in /usr/local/lib/python3.8/dist-packages (from aiohttp->datasets) (4.0.2)\n",
            "Requirement already satisfied: frozenlist>=1.1.1 in /usr/local/lib/python3.8/dist-packages (from aiohttp->datasets) (1.3.3)\n",
            "Requirement already satisfied: aiosignal>=1.1.2 in /usr/local/lib/python3.8/dist-packages (from aiohttp->datasets) (1.3.1)\n",
            "Requirement already satisfied: yarl<2.0,>=1.0 in /usr/local/lib/python3.8/dist-packages (from aiohttp->datasets) (1.8.2)\n",
            "Requirement already satisfied: attrs>=17.3.0 in /usr/local/lib/python3.8/dist-packages (from aiohttp->datasets) (22.2.0)\n",
            "Requirement already satisfied: multidict<7.0,>=4.5 in /usr/local/lib/python3.8/dist-packages (from aiohttp->datasets) (6.0.4)\n",
            "Requirement already satisfied: charset-normalizer<3.0,>=2.0 in /usr/local/lib/python3.8/dist-packages (from aiohttp->datasets) (2.1.1)\n",
            "Requirement already satisfied: typing-extensions>=3.7.4.3 in /usr/local/lib/python3.8/dist-packages (from huggingface-hub<1.0.0,>=0.2.0->datasets) (4.4.0)\n",
            "Requirement already satisfied: filelock in /usr/local/lib/python3.8/dist-packages (from huggingface-hub<1.0.0,>=0.2.0->datasets) (3.9.0)\n",
            "Requirement already satisfied: pyparsing!=3.0.5,>=2.0.2 in /usr/local/lib/python3.8/dist-packages (from packaging->datasets) (3.0.9)\n",
            "Requirement already satisfied: certifi>=2017.4.17 in /usr/local/lib/python3.8/dist-packages (from requests>=2.19.0->datasets) (2022.12.7)\n",
            "Requirement already satisfied: chardet<5,>=3.0.2 in /usr/local/lib/python3.8/dist-packages (from requests>=2.19.0->datasets) (4.0.0)\n",
            "Requirement already satisfied: idna<3,>=2.5 in /usr/local/lib/python3.8/dist-packages (from requests>=2.19.0->datasets) (2.10)\n",
            "Requirement already satisfied: urllib3<1.27,>=1.21.1 in /usr/local/lib/python3.8/dist-packages (from requests>=2.19.0->datasets) (1.24.3)\n",
            "Collecting urllib3<1.27,>=1.21.1\n",
            "  Downloading urllib3-1.26.14-py2.py3-none-any.whl (140 kB)\n",
            "\u001b[2K     \u001b[90m━━━━━━━━━━━━━━━━━━━━━━━━━━━━━━━━━━━━━━\u001b[0m \u001b[32m140.6/140.6 KB\u001b[0m \u001b[31m13.9 MB/s\u001b[0m eta \u001b[36m0:00:00\u001b[0m\n",
            "\u001b[?25hRequirement already satisfied: pytz>=2017.3 in /usr/local/lib/python3.8/dist-packages (from pandas->datasets) (2022.7)\n",
            "Requirement already satisfied: python-dateutil>=2.7.3 in /usr/local/lib/python3.8/dist-packages (from pandas->datasets) (2.8.2)\n",
            "Requirement already satisfied: six>=1.5 in /usr/local/lib/python3.8/dist-packages (from python-dateutil>=2.7.3->pandas->datasets) (1.15.0)\n",
            "Installing collected packages: xxhash, urllib3, multiprocess, responses, huggingface-hub, datasets\n",
            "  Attempting uninstall: urllib3\n",
            "    Found existing installation: urllib3 1.24.3\n",
            "    Uninstalling urllib3-1.24.3:\n",
            "      Successfully uninstalled urllib3-1.24.3\n",
            "Successfully installed datasets-2.9.0 huggingface-hub-0.12.0 multiprocess-0.70.14 responses-0.18.0 urllib3-1.26.14 xxhash-3.2.0\n"
          ]
        }
      ]
    },
    {
      "cell_type": "code",
      "metadata": {
        "id": "TspVDW9TSiXP"
      },
      "source": [
        "import datasets"
      ],
      "execution_count": 54,
      "outputs": []
    },
    {
      "cell_type": "markdown",
      "metadata": {
        "id": "ZwCNa9E-gKvi"
      },
      "source": [
        "Loading IMDB dataset"
      ]
    },
    {
      "cell_type": "code",
      "metadata": {
        "colab": {
          "base_uri": "https://localhost:8080/",
          "height": 264,
          "referenced_widgets": [
            "c20a7f39679c49749e58b7f6507df9cb",
            "763d60e1ff0648f88b7f6b9bdd3c0881",
            "6b614b2f62a9407b9b80e83d5b8f8e66",
            "a3272a6b6d634fab9378507f68df5889",
            "bbf601807bb24eb59bb9aeb8c3a06e6b",
            "4e9b8e95895c49008237d1b778f3723c",
            "0aeba7025e8e40ddb8c6a755dda6e8eb",
            "3e2430cc1ebe4f5f895f90237da3446a",
            "3930011a8e8d4bf885715907a7111373",
            "d8113dc9c9e5487d8312a802b383ee6f",
            "72c2eade54cd4337a13b69f1175a698a",
            "0f026c10ce9b4a7b93b044d1941a686f",
            "4e4c948c2c994e7e9f7ca805c01d3675",
            "ff750358d8f044a1a4c81e71c66afda2",
            "2e52cbbfd1084391950bd7d29b0fe690",
            "22046de5abd442bcb3cec445e8dd0b83",
            "93d866e7633c4b99b4c9bf504df5476a",
            "b0e228a364c44d809633a3d8f752cf18",
            "f25e3315bc824cf6b383b21102669071",
            "7a0ebe93e71b4a2c80f545ef0939c0cc",
            "c98310e3cc75475fa58e42cd6780a414",
            "d020f37d277b4bfcb9d1c368a6a838b4",
            "c118ad26ad3e4096885b832456c12b7a",
            "bedcf3642b1c401a9f972523c115963f",
            "0987b0de6cc04bc1831d33fe107d83e9",
            "5312c2d55ac443e39487f9a250e7af6d",
            "e7e5c09921c84a9baf2e1ca2179ea457",
            "e39d103cb2134f81aec70680deb14208",
            "ad6cd51c674e41a8aa2079cf04024f56",
            "b57e96a5a67746a3a16e5ef3a37b5db7",
            "bb921e0b8c56458098dae529f5cba16a",
            "907a4e2db2ac40b59cade54c5f9353d8",
            "9b60d950a9ea40e28e8b6af7e2d8d131",
            "94caa180385647d5a6c7c03d413d3f6f",
            "766698449c234b74a5ab9d60aa186935",
            "6c949c5767b54eacb6f4b4f07ced45aa",
            "85ae2699585442f7a48376db2943ea0b",
            "ee9f6e153c3b46b5ab66ffc37e4c498a",
            "b4fe424b3778433c92a151a73ab133c9",
            "c18ecc026558439284f5078fb2df7780",
            "e025216242ac4e0cb83a14fc3f912964",
            "486d8bea00744e87b8debcd621496260",
            "766d431c701d47bebc3eaa6cf54fb7f5",
            "df515a2f53e44faf9f5a23d5a37b031f",
            "afe8a453bffe44348dcee47dc898e77c",
            "d9ffe8090bd34dd4818e1c1aab152467",
            "6c0ba6d8639348f99d886256d37d31fc",
            "85d10a4d53d1438abb7d2f5fa2182ede",
            "4482bfce108b4c0cbe022f51647beadb",
            "561b43c157f54364a5fc22847578b4a4",
            "0d592d11d532445cad55f83513ca529f",
            "85b5456e14dd45f3a0e0a6b351d314ae",
            "cccf09401029463f90a28f0969e7aeb4",
            "c14f1f4ab88c44bb9a5f60bcea6319d7",
            "d88aa9cff2e5463ab3716cffd629e9f7",
            "5db2274d57de4f60859dd1b6d4ff539d",
            "629b96593c7244f8af4bc99197addc83",
            "4822a80065434f64a099499fef050408",
            "1b563da17b7348d2a729cff7b7b16be0",
            "d0b00fc164b8459297d146c899041d66",
            "2508f67dea4d434291bf02fcd0a22239",
            "ce82de849d6f4aa9840f031ddf7a1cc0",
            "e28046d187b349afbe437c5296f07f0c",
            "fc192dc037274bed85c45c3f80dfa2c1",
            "221f9bb064ba4b65b1bd81c4784e4772",
            "3248a4825cb24ff780faf95f4b9ca0cc",
            "1bf2a34628d142529c1a8c44d07639e8",
            "38f211cb76aa4ed5a9976f58650b9518",
            "48d666b4edd54720a0b4d393fee2ffa4",
            "2fbd472f16924f4c95a117f235ad34bc",
            "0f0a679b686849d5bdb41d36254ced5b",
            "d6071c37e812480c9f23f30ae33f92f5",
            "3e5ca74bffde4d1086bab4aa815429ba",
            "d9a4cb9db34845cd8932e442ec2170de",
            "5df9558659b7400cb773aaf9f9c71d86",
            "2ae5deb99149477e8589f5db48362b77",
            "199f7620223c45639e6e5dc101ad5344",
            "e126f1dabec445cb874f754b1896d9da",
            "523a1e77e6e2439ea30f546a0a50da1d",
            "3191c456a79c45539e8389d6a93ce529",
            "9831eaa201c94e88b219a1d357e0216b",
            "efdf7191895643f7a73065911a60d884",
            "2e6f73c93d2441f398e9930fe58e4b85",
            "5207590d79794ccb8821768a61df6d51",
            "9c9f8cdb20ce4cd58aad345c89844b82",
            "65eced3ec8e54b73b8fabb136f315c3d",
            "c6efc593ab6740458d45f880fdb94d6e",
            "3d4faab6c4134acba6c711650789793f"
          ]
        },
        "id": "7Uulr7deSgto",
        "outputId": "1a46a878-97ed-4b3e-84ef-8d96c22d5d16"
      },
      "source": [
        "text_dataset = datasets.load_dataset(\"imdb\")"
      ],
      "execution_count": 55,
      "outputs": [
        {
          "output_type": "display_data",
          "data": {
            "text/plain": [
              "Downloading builder script:   0%|          | 0.00/4.31k [00:00<?, ?B/s]"
            ],
            "application/vnd.jupyter.widget-view+json": {
              "version_major": 2,
              "version_minor": 0,
              "model_id": "c20a7f39679c49749e58b7f6507df9cb"
            }
          },
          "metadata": {}
        },
        {
          "output_type": "display_data",
          "data": {
            "text/plain": [
              "Downloading metadata:   0%|          | 0.00/2.17k [00:00<?, ?B/s]"
            ],
            "application/vnd.jupyter.widget-view+json": {
              "version_major": 2,
              "version_minor": 0,
              "model_id": "0f026c10ce9b4a7b93b044d1941a686f"
            }
          },
          "metadata": {}
        },
        {
          "output_type": "display_data",
          "data": {
            "text/plain": [
              "Downloading readme:   0%|          | 0.00/7.59k [00:00<?, ?B/s]"
            ],
            "application/vnd.jupyter.widget-view+json": {
              "version_major": 2,
              "version_minor": 0,
              "model_id": "c118ad26ad3e4096885b832456c12b7a"
            }
          },
          "metadata": {}
        },
        {
          "output_type": "stream",
          "name": "stdout",
          "text": [
            "Downloading and preparing dataset imdb/plain_text to /root/.cache/huggingface/datasets/imdb/plain_text/1.0.0/2fdd8b9bcadd6e7055e742a706876ba43f19faee861df134affd7a3f60fc38a1...\n"
          ]
        },
        {
          "output_type": "display_data",
          "data": {
            "text/plain": [
              "Downloading data:   0%|          | 0.00/84.1M [00:00<?, ?B/s]"
            ],
            "application/vnd.jupyter.widget-view+json": {
              "version_major": 2,
              "version_minor": 0,
              "model_id": "94caa180385647d5a6c7c03d413d3f6f"
            }
          },
          "metadata": {}
        },
        {
          "output_type": "display_data",
          "data": {
            "text/plain": [
              "Generating train split:   0%|          | 0/25000 [00:00<?, ? examples/s]"
            ],
            "application/vnd.jupyter.widget-view+json": {
              "version_major": 2,
              "version_minor": 0,
              "model_id": "afe8a453bffe44348dcee47dc898e77c"
            }
          },
          "metadata": {}
        },
        {
          "output_type": "display_data",
          "data": {
            "text/plain": [
              "Generating test split:   0%|          | 0/25000 [00:00<?, ? examples/s]"
            ],
            "application/vnd.jupyter.widget-view+json": {
              "version_major": 2,
              "version_minor": 0,
              "model_id": "5db2274d57de4f60859dd1b6d4ff539d"
            }
          },
          "metadata": {}
        },
        {
          "output_type": "display_data",
          "data": {
            "text/plain": [
              "Generating unsupervised split:   0%|          | 0/50000 [00:00<?, ? examples/s]"
            ],
            "application/vnd.jupyter.widget-view+json": {
              "version_major": 2,
              "version_minor": 0,
              "model_id": "1bf2a34628d142529c1a8c44d07639e8"
            }
          },
          "metadata": {}
        },
        {
          "output_type": "stream",
          "name": "stdout",
          "text": [
            "Dataset imdb downloaded and prepared to /root/.cache/huggingface/datasets/imdb/plain_text/1.0.0/2fdd8b9bcadd6e7055e742a706876ba43f19faee861df134affd7a3f60fc38a1. Subsequent calls will reuse this data.\n"
          ]
        },
        {
          "output_type": "display_data",
          "data": {
            "text/plain": [
              "  0%|          | 0/3 [00:00<?, ?it/s]"
            ],
            "application/vnd.jupyter.widget-view+json": {
              "version_major": 2,
              "version_minor": 0,
              "model_id": "e126f1dabec445cb874f754b1896d9da"
            }
          },
          "metadata": {}
        }
      ]
    },
    {
      "cell_type": "code",
      "metadata": {
        "colab": {
          "base_uri": "https://localhost:8080/",
          "height": 265
        },
        "id": "UqQT9KKxS3ui",
        "outputId": "df1618c2-20f3-4971-aa76-f419992b0e54"
      },
      "source": [
        "pd.DataFrame(text_dataset['train'], columns=['label', 'text'])['label'].hist();"
      ],
      "execution_count": 56,
      "outputs": [
        {
          "output_type": "display_data",
          "data": {
            "text/plain": [
              "<Figure size 432x288 with 1 Axes>"
            ],
            "image/png": "[encoded data removed]"
          },
          "metadata": {
            "needs_background": "light"
          }
        }
      ]
    },
    {
      "cell_type": "code",
      "metadata": {
        "id": "_eW-5HDb6167"
      },
      "source": [
        "df = pd.DataFrame(text_dataset['train'], columns=['label', 'text'])"
      ],
      "execution_count": 57,
      "outputs": []
    },
    {
      "cell_type": "markdown",
      "metadata": {
        "id": "B3DEZgV4D1rr"
      },
      "source": [
        "#### Task 6\n"
      ]
    },
    {
      "cell_type": "markdown",
      "metadata": {
        "id": "020hQrYr0S6E"
      },
      "source": [
        "This dataset is rather large, we don`t need so much data. Let's trim our dataset and take only part of it."
      ]
    },
    {
      "cell_type": "markdown",
      "metadata": {
        "id": "3WVaI7MF0UC_"
      },
      "source": [
        "Initialize new df as half of randomly chosen rows of df.<br>\n",
        "You can use different built-in pandas methods, such as sample, loc, iloc."
      ]
    },
    {
      "cell_type": "code",
      "metadata": {
        "colab": {
          "base_uri": "https://localhost:8080/"
        },
        "id": "LWGfpNOwEB9k",
        "outputId": "8d8ec27d-9bbf-4bcc-9c4e-10b7de2050c1"
      },
      "source": [
        "df = df.sample(int(df.shape[0] * 0.5))\n",
        "df.shape"
      ],
      "execution_count": 58,
      "outputs": [
        {
          "output_type": "execute_result",
          "data": {
            "text/plain": [
              "(12500, 2)"
            ]
          },
          "metadata": {},
          "execution_count": 58
        }
      ]
    },
    {
      "cell_type": "code",
      "metadata": {
        "colab": {
          "base_uri": "https://localhost:8080/",
          "height": 265
        },
        "id": "Yza7pT9U80H-",
        "outputId": "aa9c1759-9600-461f-9a14-90bfe973d652"
      },
      "source": [
        "df['label'].hist();"
      ],
      "execution_count": 59,
      "outputs": [
        {
          "output_type": "display_data",
          "data": {
            "text/plain": [
              "<Figure size 432x288 with 1 Axes>"
            ],
            "image/png": "[encoded data removed]"
          },
          "metadata": {
            "needs_background": "light"
          }
        }
      ]
    },
    {
      "cell_type": "markdown",
      "metadata": {
        "id": "6IQioTb8gFMa"
      },
      "source": [
        "Before we start working with text, we need to learn how to initialize some layer of neural network with pretrained or predefined vectors.<br> We will use this mechanism if work with pretrained words representaion or pretrained layers of other network."
      ]
    },
    {
      "cell_type": "code",
      "metadata": {
        "id": "QZUP7KqKS5nK"
      },
      "source": [
        "some_vectors = torch.rand((10, 50), dtype=torch.float32)"
      ],
      "execution_count": 60,
      "outputs": []
    },
    {
      "cell_type": "code",
      "metadata": {
        "id": "gZo4j0iZVGOC"
      },
      "source": [
        "custom_layer = nn.Embedding(10, 50)"
      ],
      "execution_count": 61,
      "outputs": []
    },
    {
      "cell_type": "code",
      "metadata": {
        "id": "RTwkk5hgVGFH"
      },
      "source": [
        "custom_layer.weight = nn.Parameter(some_vectors.clone().detach().requires_grad_(True))"
      ],
      "execution_count": 62,
      "outputs": []
    },
    {
      "cell_type": "markdown",
      "metadata": {
        "id": "5loc-nF80jZX"
      },
      "source": [
        "#### Downloading pretrained vectors"
      ]
    },
    {
      "cell_type": "markdown",
      "metadata": {
        "id": "j3fzycQJ0kh8"
      },
      "source": [
        "In NLP we have some libraries, that contains pretrained word representaions trained on large corpuses of texts. Some times they contains word representations for several languages (also russian).<br>\n",
        "One library, that we will use `Gensim`."
      ]
    },
    {
      "cell_type": "code",
      "metadata": {
        "id": "Vt44kXP2S5gG"
      },
      "source": [
        "import gensim.downloader"
      ],
      "execution_count": 63,
      "outputs": []
    },
    {
      "cell_type": "markdown",
      "metadata": {
        "id": "6LdLiXya0pjc"
      },
      "source": [
        "We can see what models represented in whis library"
      ]
    },
    {
      "cell_type": "code",
      "metadata": {
        "id": "THX-SwDBTfOt",
        "colab": {
          "base_uri": "https://localhost:8080/"
        },
        "outputId": "af7da970-577b-4af1-fcbd-af9565644bb8"
      },
      "source": [
        "list(gensim.downloader.info()['models'].keys())"
      ],
      "execution_count": 64,
      "outputs": [
        {
          "output_type": "execute_result",
          "data": {
            "text/plain": [
              "['fasttext-wiki-news-subwords-300',\n",
              " 'conceptnet-numberbatch-17-06-300',\n",
              " 'word2vec-ruscorpora-300',\n",
              " 'word2vec-google-news-300',\n",
              " 'glove-wiki-gigaword-50',\n",
              " 'glove-wiki-gigaword-100',\n",
              " 'glove-wiki-gigaword-200',\n",
              " 'glove-wiki-gigaword-300',\n",
              " 'glove-twitter-25',\n",
              " 'glove-twitter-50',\n",
              " 'glove-twitter-100',\n",
              " 'glove-twitter-200',\n",
              " '__testing_word2vec-matrix-synopsis']"
            ]
          },
          "metadata": {},
          "execution_count": 64
        }
      ]
    },
    {
      "cell_type": "markdown",
      "metadata": {
        "id": "glnW4_9l0saT"
      },
      "source": [
        "Gensim contains vector representaion not only for word2vec, but for `Glove` and `Fasttext`. All of them give us realization of distributional semantics converted in different, but rather similar approaches.<br>\n",
        "We will use `glove` vectors just for their light weights and appropriate representation. You can try some other models by yourself."
      ]
    },
    {
      "cell_type": "code",
      "metadata": {
        "colab": {
          "base_uri": "https://localhost:8080/"
        },
        "id": "JIZwT-ROS5W4",
        "outputId": "ff1adfd2-0084-4156-d274-e52cdcc2d299"
      },
      "source": [
        "glove_vectors = gensim.downloader.load('glove-twitter-100')"
      ],
      "execution_count": 65,
      "outputs": [
        {
          "output_type": "stream",
          "name": "stdout",
          "text": [
            "[=================================================-] 100.0% 387.0/387.1MB downloaded\n"
          ]
        }
      ]
    },
    {
      "cell_type": "code",
      "metadata": {
        "id": "mwCbnL3iTwsQ",
        "colab": {
          "base_uri": "https://localhost:8080/"
        },
        "outputId": "7ad75e05-a4ec-4535-eb38-78e7d29f4701"
      },
      "source": [
        "glove_vectors.vectors.shape"
      ],
      "execution_count": 66,
      "outputs": [
        {
          "output_type": "execute_result",
          "data": {
            "text/plain": [
              "(1193514, 100)"
            ]
          },
          "metadata": {},
          "execution_count": 66
        }
      ]
    },
    {
      "cell_type": "code",
      "metadata": {
        "id": "OAeA6mZNZtfQ",
        "colab": {
          "base_uri": "https://localhost:8080/"
        },
        "outputId": "38000879-641b-4f15-8123-55c2e826ba81"
      },
      "source": [
        "list(glove_vectors.vocab.keys())[250:300]"
      ],
      "execution_count": 67,
      "outputs": [
        {
          "output_type": "execute_result",
          "data": {
            "text/plain": [
              "['itu',\n",
              " 'على',\n",
              " '-_-',\n",
              " '☺',\n",
              " 'over',\n",
              " 'um',\n",
              " 'ما',\n",
              " 'hate',\n",
              " 'girl',\n",
              " 'ai',\n",
              " 'had',\n",
              " 'pra',\n",
              " 'todo',\n",
              " 'mais',\n",
              " 'feel',\n",
              " 'let',\n",
              " 'ini',\n",
              " 'because',\n",
              " 'ﾟ',\n",
              " 'thanks',\n",
              " 'ah',\n",
              " 'way',\n",
              " 'ever',\n",
              " 'look',\n",
              " 'tweet',\n",
              " 'followers',\n",
              " 'should',\n",
              " 'our',\n",
              " 'xd',\n",
              " 'aja',\n",
              " 'esta',\n",
              " 'school',\n",
              " 'him',\n",
              " 'ser',\n",
              " 'take',\n",
              " 'than',\n",
              " 'video',\n",
              " 'em',\n",
              " 'last',\n",
              " 'wanna',\n",
              " 'does',\n",
              " 'us',\n",
              " 'miss',\n",
              " 'l',\n",
              " 'ga',\n",
              " 'better',\n",
              " 'well',\n",
              " 'could',\n",
              " '▽',\n",
              " '%']"
            ]
          },
          "metadata": {},
          "execution_count": 67
        }
      ]
    },
    {
      "cell_type": "markdown",
      "metadata": {
        "id": "j4HKyi3aVu2z"
      },
      "source": [
        "##### Task 7\n",
        "Initialize loaded weights from gensim to some embedding matrix"
      ]
    },
    {
      "cell_type": "code",
      "metadata": {
        "id": "euYqR-88VnpX"
      },
      "source": [
        "embedding_matrix = glove_vectors.vectors\n",
        "embedding = nn.Embedding(*glove_vectors.vectors.shape)\n",
        "embedding.weight = nn.Parameter(torch.tensor(embedding_matrix, dtype=torch.float32))"
      ],
      "execution_count": 68,
      "outputs": []
    },
    {
      "cell_type": "code",
      "metadata": {
        "id": "omhfJYfCV33e"
      },
      "source": [
        "assert embedding_matrix.shape == (1193514, 100)\n",
        "assert embedding_matrix[23].sum() < -4.45\n",
        "assert cos_similarity(embedding_matrix[42], embedding_matrix[23]) < 0.57"
      ],
      "execution_count": 69,
      "outputs": []
    },
    {
      "cell_type": "markdown",
      "metadata": {
        "id": "8sLJ7ctqgctS"
      },
      "source": [
        "After get loaded pretrained weights we can get back to explore data. We will use simple nltk WordPuckt tokenizer to split  punctuation and words from each other. Also you can try here TwitterTokenizer or some other methods."
      ]
    },
    {
      "cell_type": "code",
      "metadata": {
        "id": "TqwXB5bya5Vl"
      },
      "source": [
        "from nltk.tokenize import WordPunctTokenizer\n",
        "\n",
        "tokenizer = WordPunctTokenizer()"
      ],
      "execution_count": 70,
      "outputs": []
    },
    {
      "cell_type": "markdown",
      "metadata": {
        "id": "53rSqW4A04W1"
      },
      "source": [
        "Look at the lengths of each sample of data and collect in list `l`"
      ]
    },
    {
      "cell_type": "code",
      "metadata": {
        "id": "ORU3mXBVZ8zm",
        "colab": {
          "base_uri": "https://localhost:8080/",
          "height": 49,
          "referenced_widgets": [
            "1145981b1a8c476eb4fa8cbc7b0f7957",
            "c72615901aa8406cb32b8502416580c9",
            "125646d843544ed0944de78e6b2a4fe4",
            "e16e76cf4103434fbb7ba3572480af36",
            "d09558372f2246768e90e84d38aa8a5a",
            "7f4f10889ff84315b4fae71ac80b0a33",
            "0caec8739b874eaf8f7cbca4833d8d46",
            "1fac3735f2154d06934dde5cf6bc070d",
            "b23dd761f8534cab9fcd2e2ce13e2e9e",
            "19e3dfab08c54af0a9111c4498c255d7",
            "15b4032e0c6a481a8ce018615bfae457"
          ]
        },
        "outputId": "2e2f789e-2383-4441-9258-cb0757244008"
      },
      "source": [
        "l = list()\n",
        "for text in tqdm(df['text']):\n",
        "    l.append(len(tokenizer.tokenize(text.lower())))"
      ],
      "execution_count": 71,
      "outputs": [
        {
          "output_type": "display_data",
          "data": {
            "text/plain": [
              "  0%|          | 0/12500 [00:00<?, ?it/s]"
            ],
            "application/vnd.jupyter.widget-view+json": {
              "version_major": 2,
              "version_minor": 0,
              "model_id": "1145981b1a8c476eb4fa8cbc7b0f7957"
            }
          },
          "metadata": {}
        }
      ]
    },
    {
      "cell_type": "code",
      "metadata": {
        "colab": {
          "base_uri": "https://localhost:8080/",
          "height": 439
        },
        "id": "LpQtXnOXZ8tW",
        "outputId": "d0d737a9-e602-4f95-b5a9-5062f4848173"
      },
      "source": [
        "print(pd.Series(l).describe())\n",
        "pd.Series(l).plot()"
      ],
      "execution_count": 72,
      "outputs": [
        {
          "output_type": "stream",
          "name": "stdout",
          "text": [
            "count    12500.000000\n",
            "mean       286.038800\n",
            "std        212.333958\n",
            "min         11.000000\n",
            "25%        154.000000\n",
            "50%        212.000000\n",
            "75%        348.000000\n",
            "max       2223.000000\n",
            "dtype: float64\n"
          ]
        },
        {
          "output_type": "execute_result",
          "data": {
            "text/plain": [
              "<matplotlib.axes._subplots.AxesSubplot at 0x7f2aac9d0f10>"
            ]
          },
          "metadata": {},
          "execution_count": 72
        },
        {
          "output_type": "display_data",
          "data": {
            "text/plain": [
              "<Figure size 432x288 with 1 Axes>"
            ],
            "image/png": "[encoded data removed]"
          },
          "metadata": {
            "needs_background": "light"
          }
        }
      ]
    },
    {
      "cell_type": "markdown",
      "metadata": {
        "id": "SNOx-JIR08Bz"
      },
      "source": [
        "If you see outliers of length you can preprocess your data and delete or split such long examples."
      ]
    },
    {
      "cell_type": "markdown",
      "metadata": {
        "id": "ePB81trGcH-n"
      },
      "source": [
        "it can be seen that 90% of the texts do not exceed 1500 tokens. Let's take the quantile 0.95 with a margin and initialize the variable max_len with this value."
      ]
    },
    {
      "cell_type": "markdown",
      "metadata": {
        "id": "sS10uwo2EqSu"
      },
      "source": [
        "##### Task 8"
      ]
    },
    {
      "cell_type": "markdown",
      "metadata": {
        "id": "OAc6MGTO1ELx"
      },
      "source": [
        "Just for simplicity we will delete samples, that have legth over some border value.<br>\n",
        "Take the quantile 0.95 of `l` with a margin and initialize the variable max_len with this value."
      ]
    },
    {
      "cell_type": "code",
      "metadata": {
        "colab": {
          "base_uri": "https://localhost:8080/"
        },
        "id": "xkCpvUhHcCZ4",
        "outputId": "05b59db3-5b81-4f95-a3c7-55912d97696a"
      },
      "source": [
        "max_len = pd.Series(l).quantile(0.95)\n",
        "max_len"
      ],
      "execution_count": 73,
      "outputs": [
        {
          "output_type": "execute_result",
          "data": {
            "text/plain": [
              "739.0499999999993"
            ]
          },
          "metadata": {},
          "execution_count": 73
        }
      ]
    },
    {
      "cell_type": "markdown",
      "metadata": {
        "id": "2Eo3TFJ51IWT"
      },
      "source": [
        "Create vocab of each token in our dataset.<br>\n",
        "Some approaches to fix their order:\n",
        "- we can count frequencies of each token, enumerate their order and fix it;\n",
        "- use countvectorizer form sklearn;\n",
        "- lexicographically sort all tokens in vocab and fix order.<br>\n",
        "\n",
        "You can come up with your own method - it`s all up to you."
      ]
    },
    {
      "cell_type": "code",
      "metadata": {
        "id": "d0zLOpdFh4qJ"
      },
      "source": [
        "from collections import Counter"
      ],
      "execution_count": 74,
      "outputs": []
    },
    {
      "cell_type": "markdown",
      "metadata": {
        "id": "HAz3JS0j1Pf1"
      },
      "source": [
        "We will count all tokens and fix their ranks. <br>\n",
        "All unknown tokens, that are not present in vocab we will translate into special `<UNK>` token, thats why we add it in vocab."
      ]
    },
    {
      "cell_type": "code",
      "metadata": {
        "colab": {
          "base_uri": "https://localhost:8080/",
          "height": 49,
          "referenced_widgets": [
            "9397bef2dfc84caba9fbd95a2f98b8e1",
            "63099c44cf434e91a13d842e0b41dea4",
            "102bf845683545fdb96841699fdfe93d",
            "5e07efe211f541dd842ced87802a581b",
            "54e94e503f824c988dd694e95fd68f1d",
            "9578893be8fe48d391f28b55f94e5191",
            "c5998bbafdc84936af6f62bfdc063285",
            "17781d50e3254dfd8e7b6ddbb3ccc4fe",
            "0b266e1816994afea4374ae7529a4749",
            "3a5b699c579649278a17db56feefb404",
            "dfb66fc7432a482ebce4d740ac27c7cc"
          ]
        },
        "id": "FNtTEj9X2IxF",
        "outputId": "f9f48240-c624-4ca5-db7d-8461b483df37"
      },
      "source": [
        "words = list()\n",
        "for text in tqdm(df['text']):\n",
        "    words.extend(tokenizer.tokenize(text.lower()))\n",
        "index2word = dict(enumerate((word[0] for word in Counter(words).most_common()), start=1))\n",
        "index2word[0] = '<UNK>'\n",
        "word_index = {word: ind for ind, word in index2word.items()}"
      ],
      "execution_count": 75,
      "outputs": [
        {
          "output_type": "display_data",
          "data": {
            "text/plain": [
              "  0%|          | 0/12500 [00:00<?, ?it/s]"
            ],
            "application/vnd.jupyter.widget-view+json": {
              "version_major": 2,
              "version_minor": 0,
              "model_id": "9397bef2dfc84caba9fbd95a2f98b8e1"
            }
          },
          "metadata": {}
        }
      ]
    },
    {
      "cell_type": "code",
      "metadata": {
        "colab": {
          "base_uri": "https://localhost:8080/"
        },
        "id": "Q7KzEn9KjX4y",
        "outputId": "b8405ec9-06d5-4a3c-9125-ccb58dfc3a13"
      },
      "source": [
        "len(word_index)"
      ],
      "execution_count": 76,
      "outputs": [
        {
          "output_type": "execute_result",
          "data": {
            "text/plain": [
              "58051"
            ]
          },
          "metadata": {},
          "execution_count": 76
        }
      ]
    },
    {
      "cell_type": "markdown",
      "metadata": {
        "id": "wGD2nJVd1TF8"
      },
      "source": [
        "After fixing order of words we can create matrix of vectors.<br>\n",
        "In each row their will be vector for corresponding word. Index of word is equal to index in our vocabulary.<br>\n",
        "We will take pretrained vectors from uploaded glove vectors representation."
      ]
    },
    {
      "cell_type": "code",
      "metadata": {
        "id": "p5zq9Qyvked5"
      },
      "source": [
        "def load_w2v(words_dict, w2v, embed_size=100, max_features=100_000):\n",
        "  emb_matrix = np.zeros((min(max_features, len(words_dict)), embed_size))\n",
        "  for word, ind in words_dict.items():\n",
        "      if ind >= max_features:\n",
        "        break\n",
        "      try:\n",
        "        embedding_vector = w2v.get_vector(word)\n",
        "      except KeyError:\n",
        "        embedding_vector = None\n",
        "      if embedding_vector is not None:\n",
        "        emb_matrix[ind] = embedding_vector\n",
        "  return normalize_vectors(emb_matrix)"
      ],
      "execution_count": 77,
      "outputs": []
    },
    {
      "cell_type": "code",
      "metadata": {
        "id": "hUH7heH2meFb"
      },
      "source": [
        "embedding_matrix = load_w2v(word_index, glove_vectors)"
      ],
      "execution_count": 78,
      "outputs": []
    },
    {
      "cell_type": "markdown",
      "metadata": {
        "id": "RV3pDDdK1WJz"
      },
      "source": [
        "Some times we need to write custom classes for dataset to pass our data into model.<br>\n",
        "We write our class, and each document will be eaqual size, for simple processing by model. Size of each train sample tensor we choose as `max_len` - all samples that are longer will be trimmed by our model."
      ]
    },
    {
      "cell_type": "code",
      "metadata": {
        "id": "Y8RmGeyaby64"
      },
      "source": [
        "class CustomDataset:\n",
        "  def __init__(self, data, targets, tokenize, word2index, max_len=max_len):\n",
        "    self.data = data\n",
        "    self.targets = targets\n",
        "    self.tokenize = tokenize\n",
        "    self.word2index = word2index\n",
        "\n",
        "  def __len__(self):\n",
        "    return len(self.data)\n",
        "\n",
        "  def __getitem__(self, idx):\n",
        "    text = self.data[idx]\n",
        "    label = self.targets[idx]\n",
        "\n",
        "    input_ids = np.zeros((int(max_len),))\n",
        "    row = self.tokenize(text.lower())\n",
        "    for ind, word in enumerate(row):\n",
        "      if ind < max_len - 1:\n",
        "        input_ids[ind] = self.word2index.get(word, 0)\n",
        "    \n",
        "    return {\n",
        "        'text': torch.tensor(input_ids, dtype=torch.long),\n",
        "        'label': torch.tensor(label, dtype=torch.long)\n",
        "    }"
      ],
      "execution_count": 79,
      "outputs": []
    },
    {
      "cell_type": "markdown",
      "metadata": {
        "id": "eV1phAtgDOS_"
      },
      "source": [
        "##### Task 9"
      ]
    },
    {
      "cell_type": "markdown",
      "metadata": {
        "id": "wE71WBfp1eAm"
      },
      "source": [
        "Create `train_dataset` variable as instance of class CustomDataset"
      ]
    },
    {
      "cell_type": "code",
      "metadata": {
        "id": "DejMLcWjgFdt"
      },
      "source": [
        "train_dataset = CustomDataset(df['text'].reset_index(drop=True),\n",
        "                              df['label'].reset_index(drop=True),\n",
        "                              tokenizer.tokenize, word_index)"
      ],
      "execution_count": 80,
      "outputs": []
    },
    {
      "cell_type": "code",
      "metadata": {
        "id": "5JXOa-yui066",
        "colab": {
          "base_uri": "https://localhost:8080/"
        },
        "outputId": "76fb6181-6d76-4ea4-b7a8-024266fafc29"
      },
      "source": [
        "train_dataset[3]"
      ],
      "execution_count": 81,
      "outputs": [
        {
          "output_type": "execute_result",
          "data": {
            "text/plain": [
              "{'text': tensor([   11,     8,    16,     5,   203,    60,   201,     2,    26,     1,\n",
              "            27,    57,  1378,   758,     1,  1619,     6,     1,   220,  1098,\n",
              "           227,    19,   224,   880,    29,  4758,   899,    19,   278,   289,\n",
              "            23,    45,   465,  7584,    27,   162,  2132,     1,   220,     3,\n",
              "          1062,  5084,   218,    39,    38,     6,   272,   856,   615,   176,\n",
              "             2,    26,   143,    33,     8,    16,   301,     7,   132,   379,\n",
              "             3,     4,    35,   243,    12,     1,   220,    21,   277,    42,\n",
              "         19142,  6988,     2,    48,    13,   456,     6,   251,   777,    23,\n",
              "            99,   283,     7,  2236,   166,  3607,     3,   263,    22,    81,\n",
              "           363,     7,  8041,  6191,    51,     5,   202,   837,  4170,     3,\n",
              "             1,   508,   502,     9,  1063,     4, 21325,    26,   998,   187,\n",
              "             7,     1,    75,     2,     1,  1934,  1983,    43,   829,     7,\n",
              "             1,    75,   251,   364,  1793,     4,     1,   207,    43,   215,\n",
              "           264,    36,  1084,     3,    69,  1917,     1,   111,    43,    94,\n",
              "           208, 10249,  2183,     4,   336,   264,    46,     1,   931,     6,\n",
              "             1,   220,     3,  1247, 10250,    57,    35,  1105,     4, 21326,\n",
              "          1421,     4,  6665, 12391,    57,    15,  1105,  3489,     2,    26,\n",
              "             1,   128,    75,   193,     6,     1,    25,    53,   208,  6989,\n",
              "             4,  1127,     3,    11,     8,    16,   109,    88,  1338,    57,\n",
              "          2686,    54,   101,     7,   108,    14,    25,    22,    81,    22,\n",
              "            11,    21,    93,   104,     2,    26,   107,   191,    11,     8,\n",
              "            16,   109,    88,    80,   422,    12,     5,  1194,   131,    80,\n",
              "           251,    47,    80,   393,     7,  1058,   495,   207,   329,     6,\n",
              "           366,  2740,     7, 16149,     1,  6808,     3,     0,     0,     0,\n",
              "             0,     0,     0,     0,     0,     0,     0,     0,     0,     0,\n",
              "             0,     0,     0,     0,     0,     0,     0,     0,     0,     0,\n",
              "             0,     0,     0,     0,     0,     0,     0,     0,     0,     0,\n",
              "             0,     0,     0,     0,     0,     0,     0,     0,     0,     0,\n",
              "             0,     0,     0,     0,     0,     0,     0,     0,     0,     0,\n",
              "             0,     0,     0,     0,     0,     0,     0,     0,     0,     0,\n",
              "             0,     0,     0,     0,     0,     0,     0,     0,     0,     0,\n",
              "             0,     0,     0,     0,     0,     0,     0,     0,     0,     0,\n",
              "             0,     0,     0,     0,     0,     0,     0,     0,     0,     0,\n",
              "             0,     0,     0,     0,     0,     0,     0,     0,     0,     0,\n",
              "             0,     0,     0,     0,     0,     0,     0,     0,     0,     0,\n",
              "             0,     0,     0,     0,     0,     0,     0,     0,     0,     0,\n",
              "             0,     0,     0,     0,     0,     0,     0,     0,     0,     0,\n",
              "             0,     0,     0,     0,     0,     0,     0,     0,     0,     0,\n",
              "             0,     0,     0,     0,     0,     0,     0,     0,     0,     0,\n",
              "             0,     0,     0,     0,     0,     0,     0,     0,     0,     0,\n",
              "             0,     0,     0,     0,     0,     0,     0,     0,     0,     0,\n",
              "             0,     0,     0,     0,     0,     0,     0,     0,     0,     0,\n",
              "             0,     0,     0,     0,     0,     0,     0,     0,     0,     0,\n",
              "             0,     0,     0,     0,     0,     0,     0,     0,     0,     0,\n",
              "             0,     0,     0,     0,     0,     0,     0,     0,     0,     0,\n",
              "             0,     0,     0,     0,     0,     0,     0,     0,     0,     0,\n",
              "             0,     0,     0,     0,     0,     0,     0,     0,     0,     0,\n",
              "             0,     0,     0,     0,     0,     0,     0,     0,     0,     0,\n",
              "             0,     0,     0,     0,     0,     0,     0,     0,     0,     0,\n",
              "             0,     0,     0,     0,     0,     0,     0,     0,     0,     0,\n",
              "             0,     0,     0,     0,     0,     0,     0,     0,     0,     0,\n",
              "             0,     0,     0,     0,     0,     0,     0,     0,     0,     0,\n",
              "             0,     0,     0,     0,     0,     0,     0,     0,     0,     0,\n",
              "             0,     0,     0,     0,     0,     0,     0,     0,     0,     0,\n",
              "             0,     0,     0,     0,     0,     0,     0,     0,     0,     0,\n",
              "             0,     0,     0,     0,     0,     0,     0,     0,     0,     0,\n",
              "             0,     0,     0,     0,     0,     0,     0,     0,     0,     0,\n",
              "             0,     0,     0,     0,     0,     0,     0,     0,     0,     0,\n",
              "             0,     0,     0,     0,     0,     0,     0,     0,     0,     0,\n",
              "             0,     0,     0,     0,     0,     0,     0,     0,     0,     0,\n",
              "             0,     0,     0,     0,     0,     0,     0,     0,     0,     0,\n",
              "             0,     0,     0,     0,     0,     0,     0,     0,     0,     0,\n",
              "             0,     0,     0,     0,     0,     0,     0,     0,     0,     0,\n",
              "             0,     0,     0,     0,     0,     0,     0,     0,     0,     0,\n",
              "             0,     0,     0,     0,     0,     0,     0,     0,     0,     0,\n",
              "             0,     0,     0,     0,     0,     0,     0,     0,     0,     0,\n",
              "             0,     0,     0,     0,     0,     0,     0,     0,     0,     0,\n",
              "             0,     0,     0,     0,     0,     0,     0,     0,     0,     0,\n",
              "             0,     0,     0,     0,     0,     0,     0,     0,     0,     0,\n",
              "             0,     0,     0,     0,     0,     0,     0,     0,     0,     0,\n",
              "             0,     0,     0,     0,     0,     0,     0,     0,     0,     0,\n",
              "             0,     0,     0,     0,     0,     0,     0,     0,     0,     0,\n",
              "             0,     0,     0,     0,     0,     0,     0,     0,     0,     0,\n",
              "             0,     0,     0,     0,     0,     0,     0,     0,     0]),\n",
              " 'label': tensor(0)}"
            ]
          },
          "metadata": {},
          "execution_count": 81
        }
      ]
    },
    {
      "cell_type": "markdown",
      "metadata": {
        "id": "akR9kLcf1hBD"
      },
      "source": [
        "For this task we try to train Convolutional Neural Network. You can use more simplier architecture for this task.\n",
        "In text classification tasks, if you deal with data short(less than 50 tokens) and middle length(from 50 to 350) you can succesfully use CNN. Other approach we will explore in next seminars."
      ]
    },
    {
      "cell_type": "code",
      "metadata": {
        "id": "B3zAsOSmqvkg"
      },
      "source": [
        "class ConvNeuralNet(nn.Module):\n",
        "    def __init__(self, embedding_matrix, embed_size,\n",
        "                 do_rate1=0.5, n_classes=2):\n",
        "        super(ConvNeuralNet, self).__init__()\n",
        "\n",
        "        self.vocab_size = embedding_matrix.shape[0]\n",
        "        self.embedding_size = embed_size\n",
        "        self.kernel_num = 128\n",
        "        self.kernels_sizes = [2, 4, 8]\n",
        "        \n",
        "        self.embedding = nn.Embedding(*embedding_matrix.shape)\n",
        "        self.embedding.weight = nn.Parameter(torch.tensor(embedding_matrix, dtype=torch.float32))\n",
        "        self.embedding.weight.requires_grad = False\n",
        "        self.convs = nn.ModuleList([nn.Conv2d(1, self.kernel_num, (K, embed_size)) for K in self.kernels_sizes])\n",
        "        self.dropout = nn.Dropout2d(do_rate1)\n",
        "        self.fc1 = nn.Linear(len(self.kernels_sizes) * self.kernel_num, n_classes)\n",
        "\n",
        "    def forward(self, x):\n",
        "        x = self.embedding(x)\n",
        "        x = x.unsqueeze(1)\n",
        "        \n",
        "        x = [F.relu(conv(x)).squeeze(3) for conv in self.convs]\n",
        "        \n",
        "        x = [F.max_pool1d(i, i.size(2)).squeeze(2) for i in x]\n",
        "        \n",
        "        x = torch.cat(x, 1)\n",
        "        \n",
        "        x = self.dropout(x)\n",
        "        logit = self.fc1(x)\n",
        "        return logit"
      ],
      "execution_count": 82,
      "outputs": []
    },
    {
      "cell_type": "markdown",
      "metadata": {
        "id": "pmS7HqpqE5mQ"
      },
      "source": [
        "#### Task 10"
      ]
    },
    {
      "cell_type": "markdown",
      "metadata": {
        "id": "f-V0JdBh1piH"
      },
      "source": [
        "Fill the code with calculation of making prediction, calculating loss, backpropogation, optimization"
      ]
    },
    {
      "cell_type": "markdown",
      "metadata": {
        "id": "_AdJSgJw1yri"
      },
      "source": [
        "we initialize device in such way for more flexibility (works on cpu and cuda)"
      ]
    },
    {
      "cell_type": "code",
      "metadata": {
        "id": "PTaemKcjhjq1"
      },
      "source": [
        "device = torch.device('cuda') if torch.cuda.is_available() else  torch.device('cpu')"
      ],
      "execution_count": 83,
      "outputs": []
    },
    {
      "cell_type": "markdown",
      "metadata": {
        "id": "t5yFYEjR19ca"
      },
      "source": [
        "For text classification task we use cross_entropy loss function as optimization functionality."
      ]
    },
    {
      "cell_type": "code",
      "metadata": {
        "id": "rHXP06ORFcru",
        "colab": {
          "base_uri": "https://localhost:8080/"
        },
        "outputId": "09e77c7f-5387-4d8c-ed36-ef4f800913e0"
      },
      "source": [
        "# hyperparameters\n",
        "EPOCHS = 7\n",
        "LR = 3e-4 \n",
        "BATCH_SIZE = 32\n",
        "\n",
        "model = ConvNeuralNet(embedding_matrix, 100).to(device)\n",
        "\n",
        "criterion = torch.nn.CrossEntropyLoss()\n",
        "optimizer = torch.optim.Adam(model.parameters(), lr=LR, weight_decay=1e-4) # for first iter Adam is one of the best optimizers"
      ],
      "execution_count": 84,
      "outputs": [
        {
          "output_type": "stream",
          "name": "stderr",
          "text": [
            "<ipython-input-82-5d0a72925cea>:12: UserWarning: To copy construct from a tensor, it is recommended to use sourceTensor.clone().detach() or sourceTensor.clone().detach().requires_grad_(True), rather than torch.tensor(sourceTensor).\n",
            "  self.embedding.weight = nn.Parameter(torch.tensor(embedding_matrix, dtype=torch.float32))\n"
          ]
        }
      ]
    },
    {
      "cell_type": "code",
      "metadata": {
        "id": "wkuc4E9pgSBW"
      },
      "source": [
        "def train(dataloader, optimizer=optimizer, criterion=criterion):\n",
        "    model.train()\n",
        "    total_acc, total_count, total_loss = 0, 0, 0\n",
        "    start_time = time.time()\n",
        "\n",
        "    for idx, batch in enumerate(tqdm(dataloader)):\n",
        "        text = batch['text'].to(device)\n",
        "        label = batch['label'].to(device)\n",
        "        optimizer.zero_grad()\n",
        "        predited_label = model(text)\n",
        "        loss = criterion(predited_label, label)\n",
        "        loss.backward()\n",
        "        total_loss += loss\n",
        "        optimizer.step()\n",
        "        predited_label = predited_label.detach().cpu().numpy()\n",
        "        label = label.to('cpu').numpy()\n",
        "        total_acc += accuracy(predited_label, label)\n",
        "        total_count += len(label)\n",
        "    elapsed = time.time() - start_time\n",
        "    print('| epoch {:3d} | {:5d}/{:5d} batches '\n",
        "                  '| accuracy {:8.3f}| loss {:8.3f}'.format(epoch, idx,\n",
        "                                                            len(dataloader),\n",
        "                                                            total_acc/total_count,\n",
        "                                                            total_loss/total_count\n",
        "                                                            ))\n",
        "    total_acc, total_count = 0, 0\n",
        "    start_time = time.time()"
      ],
      "execution_count": 90,
      "outputs": []
    },
    {
      "cell_type": "code",
      "metadata": {
        "id": "UIDke2EcgR5_"
      },
      "source": [
        "def evaluate(dataloader):\n",
        "    model.eval()\n",
        "    total_acc, total_count, total_loss = 0, 0, 0\n",
        "\n",
        "    with torch.no_grad():\n",
        "        for idx, batch in enumerate(dataloader):\n",
        "            text = batch['text'].to(device)\n",
        "            label = batch['label'].to(device)\n",
        "            predited_label = model(text)\n",
        "            total_loss += criterion(predited_label, label)\n",
        "            predited_label = predited_label.detach().cpu().numpy()\n",
        "            label = label.to('cpu').numpy()\n",
        "            total_acc += accuracy(predited_label, label)\n",
        "            total_count += len(label)\n",
        "    print('| epoch {:3d} | {:5d}/{:5d} batches '\n",
        "    '| accuracy {:8.3f}| loss {:8.3f}'.format(epoch, idx,\n",
        "                                              len(dataloader),\n",
        "                                              total_acc/total_count,\n",
        "                                              total_loss/total_count)\n",
        "    )\n",
        "    return total_acc/total_count"
      ],
      "execution_count": 87,
      "outputs": []
    },
    {
      "cell_type": "code",
      "metadata": {
        "id": "g9rvUlMXheoe"
      },
      "source": [
        "def accuracy(probs, targets):\n",
        "    outputs = np.argmax(probs, axis=1)\n",
        "    return np.sum(outputs == targets)"
      ],
      "execution_count": 88,
      "outputs": []
    },
    {
      "cell_type": "markdown",
      "metadata": {
        "id": "P_IVZC4P2LU7"
      },
      "source": [
        "After writing train and evaluate functions we got ready to start training process. We will get 20% of our train data for validation. On validation metrics we control process of training and prevent overfitting on train data."
      ]
    },
    {
      "cell_type": "code",
      "metadata": {
        "id": "U_Af924ehsSh",
        "colab": {
          "base_uri": "https://localhost:8080/",
          "height": 903,
          "referenced_widgets": [
            "4a85d09d5489418c9d3f3773100372c0",
            "32a127a53bbf462a9c525bed1b63f6fc",
            "a66a13fdcff6420eae5c789ca391ea77",
            "10bd2c59e6ca42a3829cec51dcd43db6",
            "d196923d4cf24a40aeee2aec12402a78",
            "35c0a5afc6e141ab8c08fa595b33f771",
            "7222ea784df04de3a6cc7eeec81ea50f",
            "1f49790bc6c54f7294258ddca8897a86",
            "802c640361c745e9b8466cce9637697a",
            "06bae14c345f48328187cf25d29ecdb4",
            "075be842f5b54077bd83a4c7e7ac6ec1",
            "95ebe2ca1ff54b8bb60451e61a63619c",
            "61e91c61bd114dff950f92647778c95b",
            "e1cc856d3965419ba3e131654a55cd4b",
            "fcb21dab90f74a8ebd62b33669efcc00",
            "96084d6caebf4302aee0bc90bc7a7ec8",
            "dc4fd5b3bfa94263a70f888cb8edaf42",
            "b9bd888300734b1b85c73ae4bf68d10a",
            "142461669929418a870001305c25b216",
            "54061112606b4d1f9736b48139659f90",
            "49dcc60184e04755930d981337ca4a4e",
            "b3bba8faa0dc4eb6b7f935bc0e9594e6",
            "11beb0fc396742ea85edb50344c3bee0",
            "b8c3f3aaf3fa492caaff37ab15bbae22",
            "7654de14aeca4ebe9e1f6b7dd53f763f",
            "bfa9180681d2422ab7990db44bdb3c85",
            "a0e7cce85fc048cc8e2e06a5cbe20dc8",
            "4c7d6fc9c65245b9bb2da8db6528d850",
            "6aa67ecfb7d44d69887a27e824b51afc",
            "a4ade88e7f7f4b059a84288954f07653",
            "11f8167963d3469f8a2421ba218bc5d7",
            "6da90474365f485bb913426dbb6dff95",
            "a4ef949f6205493cbb624f79f6c2a121",
            "44828be246ca49799510046b617a743b",
            "63e309465f734934a97ef5c47d9e58fd",
            "8a6ef18d27d44b15a20e5aad1fc0f619",
            "a0fce23b84a5425b84a85ddf82d23474",
            "f1c78d0baf82416ab4128d707c0a3d04",
            "adc046143e494da3a5336258749b6826",
            "b841cfae1bf9478786021a0ae60deb67",
            "058913b06c874392a89af1156115cdec",
            "92ec5ab13d5e47908a7233bdc09f2678",
            "0e6d19eaa92647eead77c20863a11791",
            "8d262c348d9e458787b2343e51ea4734",
            "8647bb1d1561463b9b9c850df505ee6c",
            "fb29f2d7f79649f2bcff7b76dbb60403",
            "ab90e120552841f985abd86990be7506",
            "b98946cabd874809a041b0a9624011f4",
            "070efac98dca44c6968d5ba397545808",
            "621ef707a8ef4b8d8797f983af7d97b8",
            "6736cbd34941462fb712c78f2ab41f51",
            "6c1316d142624bb79fef105d0c6fe876",
            "1228ee0550684e449eb07d211e546cef",
            "f87d7508400046258877ea25f62cd044",
            "273e583822d145e888635638fdfc4087",
            "a7fd541fc7a9428f94bb3cc165e2381b",
            "3f92413d08b443299daf824f808b0466",
            "fef5b0affd8b4df09b7e75481b7bac0f",
            "a3413ead96144d1c9a3cbf3bf42dbab3",
            "4c479d4f81514e37a0400dc30b3cbacb",
            "7eb9145403e441a98b75bdce7894ee6a",
            "fc9bc076d037449ca62515af1adc31a0",
            "29c10c8f2c9548cf960e04054651c277",
            "05306d71ee4645e589977eb7f3b9af62",
            "0fdbb0963a5f47a6ad3b84bdb73bca90",
            "3c74187c25444bf68a0395e01c36a0ae",
            "4a6f980413844675bd5d9a9359fed763",
            "e6060c3d21f14343b7dba16aa82f13a9",
            "e83c45d838f84fde9f6cf5a3bc347618",
            "366f79c2a8b44f01967c816098d6147c",
            "c955e60d9310483b9e1f861097798574",
            "17cfa187ab164e5682f05ddf9faa3446",
            "f9621108afea46e0b8aedbe742e67baf",
            "31de1c0ebf3c45bbb2b248b103a0778a",
            "2ca2f2975822499f88dcaaaae4da612a",
            "dc7671ddb44e4cad85ad7d3ecb17c508",
            "137d1ef703424ebbb338a85ffffeedfd"
          ]
        },
        "outputId": "077e77c0-9678-40f1-d313-754acab64156"
      },
      "source": [
        "from torch.utils.data.dataset import random_split\n",
        "import time\n",
        "\n",
        "\n",
        "total_accu = None\n",
        "\n",
        "num_train = int(len(train_dataset) * 0.8)\n",
        "split_train_, split_valid_ = \\\n",
        "    random_split(train_dataset, [num_train, len(train_dataset) - num_train])\n",
        "\n",
        "train_dataloader = torch.utils.data.DataLoader(split_train_, batch_size=BATCH_SIZE,\n",
        "                              shuffle=True)\n",
        "valid_dataloader = torch.utils.data.DataLoader(split_valid_, batch_size=BATCH_SIZE,\n",
        "                              shuffle=True)\n",
        "\n",
        "\n",
        "for epoch in range(1, EPOCHS + 1):\n",
        "    epoch_start_time = time.time()\n",
        "    if epoch == 4:  # разморозим веса наших эмбеддингов, чтобы немного донастроить модель под нашу задачу\n",
        "      model.embedding.weight.requires_grad = True\n",
        "    train(train_dataloader)\n",
        "    accu_val = evaluate(valid_dataloader)\n",
        "    print('-' * 59)\n",
        "    print('| end of epoch {:3d} | time: {:5.2f}s | '\n",
        "          'valid accuracy {:8.3f} '.format(epoch,\n",
        "                                           time.time() - epoch_start_time,\n",
        "                                           accu_val))\n",
        "    print('-' * 59)"
      ],
      "execution_count": 89,
      "outputs": [
        {
          "output_type": "display_data",
          "data": {
            "text/plain": [
              "  0%|          | 0/313 [00:00<?, ?it/s]"
            ],
            "application/vnd.jupyter.widget-view+json": {
              "version_major": 2,
              "version_minor": 0,
              "model_id": "4a85d09d5489418c9d3f3773100372c0"
            }
          },
          "metadata": {}
        },
        {
          "output_type": "stream",
          "name": "stderr",
          "text": [
            "/usr/local/lib/python3.8/dist-packages/torch/nn/functional.py:1331: UserWarning: dropout2d: Received a 2-D input to dropout2d, which is deprecated and will result in an error in a future release. To retain the behavior and silence this warning, please use dropout instead. Note that dropout2d exists to provide channel-wise dropout on inputs with 2 spatial dimensions, a channel dimension, and an optional batch dimension (i.e. 3D or 4D inputs).\n",
            "  warnings.warn(warn_msg)\n"
          ]
        },
        {
          "output_type": "stream",
          "name": "stdout",
          "text": [
            "| epoch   1 |   312/  313 batches | accuracy    0.596| loss    0.021\n",
            "| epoch   1 |    78/   79 batches | accuracy    0.710| loss    0.020\n",
            "-----------------------------------------------------------\n",
            "| end of epoch   1 | time: 221.23s | valid accuracy    0.710 \n",
            "-----------------------------------------------------------\n"
          ]
        },
        {
          "output_type": "display_data",
          "data": {
            "text/plain": [
              "  0%|          | 0/313 [00:00<?, ?it/s]"
            ],
            "application/vnd.jupyter.widget-view+json": {
              "version_major": 2,
              "version_minor": 0,
              "model_id": "95ebe2ca1ff54b8bb60451e61a63619c"
            }
          },
          "metadata": {}
        },
        {
          "output_type": "stream",
          "name": "stdout",
          "text": [
            "| epoch   2 |   312/  313 batches | accuracy    0.753| loss    0.017\n",
            "| epoch   2 |    78/   79 batches | accuracy    0.819| loss    0.015\n",
            "-----------------------------------------------------------\n",
            "| end of epoch   2 | time: 220.67s | valid accuracy    0.819 \n",
            "-----------------------------------------------------------\n"
          ]
        },
        {
          "output_type": "display_data",
          "data": {
            "text/plain": [
              "  0%|          | 0/313 [00:00<?, ?it/s]"
            ],
            "application/vnd.jupyter.widget-view+json": {
              "version_major": 2,
              "version_minor": 0,
              "model_id": "11beb0fc396742ea85edb50344c3bee0"
            }
          },
          "metadata": {}
        },
        {
          "output_type": "stream",
          "name": "stdout",
          "text": [
            "| epoch   3 |   312/  313 batches | accuracy    0.815| loss    0.014\n",
            "| epoch   3 |    78/   79 batches | accuracy    0.838| loss    0.013\n",
            "-----------------------------------------------------------\n",
            "| end of epoch   3 | time: 220.57s | valid accuracy    0.838 \n",
            "-----------------------------------------------------------\n"
          ]
        },
        {
          "output_type": "display_data",
          "data": {
            "text/plain": [
              "  0%|          | 0/313 [00:00<?, ?it/s]"
            ],
            "application/vnd.jupyter.widget-view+json": {
              "version_major": 2,
              "version_minor": 0,
              "model_id": "44828be246ca49799510046b617a743b"
            }
          },
          "metadata": {}
        },
        {
          "output_type": "stream",
          "name": "stdout",
          "text": [
            "| epoch   4 |   312/  313 batches | accuracy    0.851| loss    0.011\n",
            "| epoch   4 |    78/   79 batches | accuracy    0.858| loss    0.010\n",
            "-----------------------------------------------------------\n",
            "| end of epoch   4 | time: 283.82s | valid accuracy    0.858 \n",
            "-----------------------------------------------------------\n"
          ]
        },
        {
          "output_type": "display_data",
          "data": {
            "text/plain": [
              "  0%|          | 0/313 [00:00<?, ?it/s]"
            ],
            "application/vnd.jupyter.widget-view+json": {
              "version_major": 2,
              "version_minor": 0,
              "model_id": "8647bb1d1561463b9b9c850df505ee6c"
            }
          },
          "metadata": {}
        },
        {
          "output_type": "stream",
          "name": "stdout",
          "text": [
            "| epoch   5 |   312/  313 batches | accuracy    0.900| loss    0.008\n",
            "| epoch   5 |    78/   79 batches | accuracy    0.875| loss    0.009\n",
            "-----------------------------------------------------------\n",
            "| end of epoch   5 | time: 285.28s | valid accuracy    0.875 \n",
            "-----------------------------------------------------------\n"
          ]
        },
        {
          "output_type": "display_data",
          "data": {
            "text/plain": [
              "  0%|          | 0/313 [00:00<?, ?it/s]"
            ],
            "application/vnd.jupyter.widget-view+json": {
              "version_major": 2,
              "version_minor": 0,
              "model_id": "a7fd541fc7a9428f94bb3cc165e2381b"
            }
          },
          "metadata": {}
        },
        {
          "output_type": "stream",
          "name": "stdout",
          "text": [
            "| epoch   6 |   312/  313 batches | accuracy    0.934| loss    0.006\n",
            "| epoch   6 |    78/   79 batches | accuracy    0.878| loss    0.009\n",
            "-----------------------------------------------------------\n",
            "| end of epoch   6 | time: 286.98s | valid accuracy    0.878 \n",
            "-----------------------------------------------------------\n"
          ]
        },
        {
          "output_type": "display_data",
          "data": {
            "text/plain": [
              "  0%|          | 0/313 [00:00<?, ?it/s]"
            ],
            "application/vnd.jupyter.widget-view+json": {
              "version_major": 2,
              "version_minor": 0,
              "model_id": "4a6f980413844675bd5d9a9359fed763"
            }
          },
          "metadata": {}
        },
        {
          "output_type": "stream",
          "name": "stdout",
          "text": [
            "| epoch   7 |   312/  313 batches | accuracy    0.959| loss    0.004\n",
            "| epoch   7 |    78/   79 batches | accuracy    0.882| loss    0.009\n",
            "-----------------------------------------------------------\n",
            "| end of epoch   7 | time: 283.20s | valid accuracy    0.882 \n",
            "-----------------------------------------------------------\n"
          ]
        }
      ]
    },
    {
      "cell_type": "markdown",
      "metadata": {
        "id": "At99BPuS2OKE"
      },
      "source": [
        "After finish training process, we can use our model to classify real samples of comments."
      ]
    },
    {
      "cell_type": "code",
      "metadata": {
        "id": "-w1YOZSyfjdN",
        "colab": {
          "base_uri": "https://localhost:8080/"
        },
        "outputId": "5aab1fe3-0140-4e75-c897-ab4b1118fe30"
      },
      "source": [
        "positive_comment = 'This movie is awesome!'\n",
        "negative_comment = 'This movie is very very bad!'\n",
        "neutral_comment = 'This is so-so'\n",
        "\n",
        "_dataset = CustomDataset([positive_comment, negative_comment, neutral_comment], [0] * 3, tokenizer.tokenize, word_index)\n",
        "_dataloader = torch.utils.data.DataLoader(_dataset, batch_size=32)\n",
        "\n",
        "_x = next(iter(_dataloader))['text'].to(device)\n",
        "probs = torch.softmax(model(_x), 1).detach().cpu().numpy()\n",
        "\n",
        "print(np.round(probs, 3))\n",
        "\n",
        "print(f'Probability of \"{positive_comment}\" to be positive -- {probs[0][1]}')\n",
        "print(f'Probability of \"{negative_comment}\" to be positive -- {probs[1][0]}')\n",
        "print(f'Probability of \"{neutral_comment}\" to be positive -- {probs[2][0]}')\n",
        "\n",
        "del _dataset, _dataloader "
      ],
      "execution_count": 91,
      "outputs": [
        {
          "output_type": "stream",
          "name": "stdout",
          "text": [
            "[[0.007 0.993]\n",
            " [0.618 0.382]\n",
            " [0.479 0.521]]\n",
            "Probability of \"This movie is awesome!\" to be positive -- 0.9934112429618835\n",
            "Probability of \"This movie is very very bad!\" to be positive -- 0.6176546812057495\n",
            "Probability of \"This is so-so\" to be positive -- 0.47890278697013855\n"
          ]
        }
      ]
    },
    {
      "cell_type": "code",
      "source": [],
      "metadata": {
        "id": "5-hSKynrH60C"
      },
      "execution_count": null,
      "outputs": []
    }
  ]
}