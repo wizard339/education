{
  "cells": [
    {
      "cell_type": "markdown",
      "metadata": {
        "id": "view-in-github",
        "colab_type": "text"
      },
      "source": [
        "<a href=\"https://colab.research.google.com/github/wizard339/education/blob/main/TSFresh.ipynb\" target=\"_parent\"><img src=\"https://colab.research.google.com/assets/colab-badge.svg\" alt=\"Open In Colab\"/></a>"
      ]
    },
    {
      "cell_type": "markdown",
      "metadata": {
        "id": "8fk-aDMy6Vxq"
      },
      "source": [
        "# Выделение признаков"
      ]
    },
    {
      "cell_type": "code",
      "source": [
        "!pip install tsfresh"
      ],
      "metadata": {
        "colab": {
          "base_uri": "https://localhost:8080/",
          "height": 1000
        },
        "id": "3p4_jK_h6ZZg",
        "outputId": "b76e7e3c-b33d-4d52-db6f-11ad7e729108"
      },
      "execution_count": 2,
      "outputs": [
        {
          "output_type": "stream",
          "name": "stdout",
          "text": [
            "Looking in indexes: https://pypi.org/simple, https://us-python.pkg.dev/colab-wheels/public/simple/\n",
            "Collecting tsfresh\n",
            "  Downloading tsfresh-0.19.0-py2.py3-none-any.whl (97 kB)\n",
            "\u001b[K     |████████████████████████████████| 97 kB 3.0 MB/s \n",
            "\u001b[?25hRequirement already satisfied: scipy>=1.2.0 in /usr/local/lib/python3.8/dist-packages (from tsfresh) (1.7.3)\n",
            "Collecting matrixprofile<2.0.0,>=1.1.10\n",
            "  Downloading matrixprofile-1.1.10-cp38-cp38-manylinux2010_x86_64.whl (1.2 MB)\n",
            "\u001b[K     |████████████████████████████████| 1.2 MB 39.6 MB/s \n",
            "\u001b[?25hRequirement already satisfied: requests>=2.9.1 in /usr/local/lib/python3.8/dist-packages (from tsfresh) (2.23.0)\n",
            "Requirement already satisfied: cloudpickle in /usr/local/lib/python3.8/dist-packages (from tsfresh) (1.5.0)\n",
            "Collecting statsmodels>=0.13\n",
            "  Downloading statsmodels-0.13.5-cp38-cp38-manylinux_2_17_x86_64.manylinux2014_x86_64.whl (9.9 MB)\n",
            "\u001b[K     |████████████████████████████████| 9.9 MB 36.1 MB/s \n",
            "\u001b[?25hRequirement already satisfied: tqdm>=4.10.0 in /usr/local/lib/python3.8/dist-packages (from tsfresh) (4.64.1)\n",
            "Requirement already satisfied: scikit-learn>=0.22.0 in /usr/local/lib/python3.8/dist-packages (from tsfresh) (1.0.2)\n",
            "Requirement already satisfied: pandas>=0.25.0 in /usr/local/lib/python3.8/dist-packages (from tsfresh) (1.3.5)\n",
            "Requirement already satisfied: distributed>=2.11.0 in /usr/local/lib/python3.8/dist-packages (from tsfresh) (2022.2.1)\n",
            "Requirement already satisfied: dask[dataframe]>=2.9.0 in /usr/local/lib/python3.8/dist-packages (from tsfresh) (2022.2.1)\n",
            "Requirement already satisfied: numpy>=1.15.1 in /usr/local/lib/python3.8/dist-packages (from tsfresh) (1.21.6)\n",
            "Requirement already satisfied: patsy>=0.4.1 in /usr/local/lib/python3.8/dist-packages (from tsfresh) (0.5.3)\n",
            "Collecting stumpy>=1.7.2\n",
            "  Downloading stumpy-1.11.1-py3-none-any.whl (136 kB)\n",
            "\u001b[K     |████████████████████████████████| 136 kB 9.0 MB/s \n",
            "\u001b[?25hRequirement already satisfied: pyyaml>=5.3.1 in /usr/local/lib/python3.8/dist-packages (from dask[dataframe]>=2.9.0->tsfresh) (6.0)\n",
            "Requirement already satisfied: packaging>=20.0 in /usr/local/lib/python3.8/dist-packages (from dask[dataframe]>=2.9.0->tsfresh) (21.3)\n",
            "Requirement already satisfied: toolz>=0.8.2 in /usr/local/lib/python3.8/dist-packages (from dask[dataframe]>=2.9.0->tsfresh) (0.12.0)\n",
            "Requirement already satisfied: partd>=0.3.10 in /usr/local/lib/python3.8/dist-packages (from dask[dataframe]>=2.9.0->tsfresh) (1.3.0)\n",
            "Requirement already satisfied: fsspec>=0.6.0 in /usr/local/lib/python3.8/dist-packages (from dask[dataframe]>=2.9.0->tsfresh) (2022.11.0)\n",
            "Requirement already satisfied: tblib>=1.6.0 in /usr/local/lib/python3.8/dist-packages (from distributed>=2.11.0->tsfresh) (1.7.0)\n",
            "Requirement already satisfied: zict>=0.1.3 in /usr/local/lib/python3.8/dist-packages (from distributed>=2.11.0->tsfresh) (2.2.0)\n",
            "Requirement already satisfied: setuptools in /usr/local/lib/python3.8/dist-packages (from distributed>=2.11.0->tsfresh) (57.4.0)\n",
            "Requirement already satisfied: psutil>=5.0 in /usr/local/lib/python3.8/dist-packages (from distributed>=2.11.0->tsfresh) (5.4.8)\n",
            "Requirement already satisfied: click>=6.6 in /usr/local/lib/python3.8/dist-packages (from distributed>=2.11.0->tsfresh) (7.1.2)\n",
            "Requirement already satisfied: msgpack>=0.6.0 in /usr/local/lib/python3.8/dist-packages (from distributed>=2.11.0->tsfresh) (1.0.4)\n",
            "Requirement already satisfied: sortedcontainers!=2.0.0,!=2.0.1 in /usr/local/lib/python3.8/dist-packages (from distributed>=2.11.0->tsfresh) (2.4.0)\n",
            "Requirement already satisfied: tornado>=6.0.3 in /usr/local/lib/python3.8/dist-packages (from distributed>=2.11.0->tsfresh) (6.0.4)\n",
            "Requirement already satisfied: jinja2 in /usr/local/lib/python3.8/dist-packages (from distributed>=2.11.0->tsfresh) (2.11.3)\n",
            "Collecting protobuf==3.11.2\n",
            "  Downloading protobuf-3.11.2-cp38-cp38-manylinux1_x86_64.whl (1.3 MB)\n",
            "\u001b[K     |████████████████████████████████| 1.3 MB 33.5 MB/s \n",
            "\u001b[?25hRequirement already satisfied: matplotlib>=3.0.3 in /usr/local/lib/python3.8/dist-packages (from matrixprofile<2.0.0,>=1.1.10->tsfresh) (3.2.2)\n",
            "Requirement already satisfied: six>=1.9 in /usr/local/lib/python3.8/dist-packages (from protobuf==3.11.2->matrixprofile<2.0.0,>=1.1.10->tsfresh) (1.15.0)\n",
            "Requirement already satisfied: python-dateutil>=2.1 in /usr/local/lib/python3.8/dist-packages (from matplotlib>=3.0.3->matrixprofile<2.0.0,>=1.1.10->tsfresh) (2.8.2)\n",
            "Requirement already satisfied: pyparsing!=2.0.4,!=2.1.2,!=2.1.6,>=2.0.1 in /usr/local/lib/python3.8/dist-packages (from matplotlib>=3.0.3->matrixprofile<2.0.0,>=1.1.10->tsfresh) (3.0.9)\n",
            "Requirement already satisfied: cycler>=0.10 in /usr/local/lib/python3.8/dist-packages (from matplotlib>=3.0.3->matrixprofile<2.0.0,>=1.1.10->tsfresh) (0.11.0)\n",
            "Requirement already satisfied: kiwisolver>=1.0.1 in /usr/local/lib/python3.8/dist-packages (from matplotlib>=3.0.3->matrixprofile<2.0.0,>=1.1.10->tsfresh) (1.4.4)\n",
            "Requirement already satisfied: pytz>=2017.3 in /usr/local/lib/python3.8/dist-packages (from pandas>=0.25.0->tsfresh) (2022.6)\n",
            "Requirement already satisfied: locket in /usr/local/lib/python3.8/dist-packages (from partd>=0.3.10->dask[dataframe]>=2.9.0->tsfresh) (1.0.0)\n",
            "Requirement already satisfied: urllib3!=1.25.0,!=1.25.1,<1.26,>=1.21.1 in /usr/local/lib/python3.8/dist-packages (from requests>=2.9.1->tsfresh) (1.24.3)\n",
            "Requirement already satisfied: idna<3,>=2.5 in /usr/local/lib/python3.8/dist-packages (from requests>=2.9.1->tsfresh) (2.10)\n",
            "Requirement already satisfied: chardet<4,>=3.0.2 in /usr/local/lib/python3.8/dist-packages (from requests>=2.9.1->tsfresh) (3.0.4)\n",
            "Requirement already satisfied: certifi>=2017.4.17 in /usr/local/lib/python3.8/dist-packages (from requests>=2.9.1->tsfresh) (2022.12.7)\n",
            "Requirement already satisfied: joblib>=0.11 in /usr/local/lib/python3.8/dist-packages (from scikit-learn>=0.22.0->tsfresh) (1.2.0)\n",
            "Requirement already satisfied: threadpoolctl>=2.0.0 in /usr/local/lib/python3.8/dist-packages (from scikit-learn>=0.22.0->tsfresh) (3.1.0)\n",
            "Requirement already satisfied: numba>=0.54 in /usr/local/lib/python3.8/dist-packages (from stumpy>=1.7.2->tsfresh) (0.56.4)\n",
            "Requirement already satisfied: importlib-metadata in /usr/local/lib/python3.8/dist-packages (from numba>=0.54->stumpy>=1.7.2->tsfresh) (5.1.0)\n",
            "Requirement already satisfied: llvmlite<0.40,>=0.39.0dev0 in /usr/local/lib/python3.8/dist-packages (from numba>=0.54->stumpy>=1.7.2->tsfresh) (0.39.1)\n",
            "Requirement already satisfied: heapdict in /usr/local/lib/python3.8/dist-packages (from zict>=0.1.3->distributed>=2.11.0->tsfresh) (1.0.1)\n",
            "Requirement already satisfied: zipp>=0.5 in /usr/local/lib/python3.8/dist-packages (from importlib-metadata->numba>=0.54->stumpy>=1.7.2->tsfresh) (3.11.0)\n",
            "Requirement already satisfied: MarkupSafe>=0.23 in /usr/local/lib/python3.8/dist-packages (from jinja2->distributed>=2.11.0->tsfresh) (2.0.1)\n",
            "Installing collected packages: protobuf, stumpy, statsmodels, matrixprofile, tsfresh\n",
            "  Attempting uninstall: protobuf\n",
            "    Found existing installation: protobuf 3.19.6\n",
            "    Uninstalling protobuf-3.19.6:\n",
            "      Successfully uninstalled protobuf-3.19.6\n",
            "  Attempting uninstall: statsmodels\n",
            "    Found existing installation: statsmodels 0.12.2\n",
            "    Uninstalling statsmodels-0.12.2:\n",
            "      Successfully uninstalled statsmodels-0.12.2\n",
            "\u001b[31mERROR: pip's dependency resolver does not currently take into account all the packages that are installed. This behaviour is the source of the following dependency conflicts.\n",
            "tensorflow-metadata 1.12.0 requires protobuf<4,>=3.13, but you have protobuf 3.11.2 which is incompatible.\n",
            "tensorflow-datasets 4.6.0 requires protobuf>=3.12.2, but you have protobuf 3.11.2 which is incompatible.\n",
            "proto-plus 1.22.1 requires protobuf<5.0.0dev,>=3.19.0, but you have protobuf 3.11.2 which is incompatible.\n",
            "grpcio-status 1.48.2 requires protobuf>=3.12.0, but you have protobuf 3.11.2 which is incompatible.\n",
            "googleapis-common-protos 1.57.0 requires protobuf!=3.20.0,!=3.20.1,!=4.21.1,!=4.21.2,!=4.21.3,!=4.21.4,!=4.21.5,<5.0.0dev,>=3.19.5, but you have protobuf 3.11.2 which is incompatible.\n",
            "google-cloud-translate 3.8.4 requires protobuf!=3.20.0,!=3.20.1,!=4.21.0,!=4.21.1,!=4.21.2,!=4.21.3,!=4.21.4,!=4.21.5,<5.0.0dev,>=3.19.5, but you have protobuf 3.11.2 which is incompatible.\n",
            "google-cloud-language 2.6.1 requires protobuf!=3.20.0,!=3.20.1,!=4.21.0,!=4.21.1,!=4.21.2,!=4.21.3,!=4.21.4,!=4.21.5,<5.0.0dev,>=3.19.5, but you have protobuf 3.11.2 which is incompatible.\n",
            "google-cloud-firestore 2.7.2 requires protobuf!=3.20.0,!=3.20.1,!=4.21.0,!=4.21.1,!=4.21.2,!=4.21.3,!=4.21.4,!=4.21.5,<5.0.0dev,>=3.19.5, but you have protobuf 3.11.2 which is incompatible.\n",
            "google-cloud-datastore 2.9.0 requires protobuf!=3.20.0,!=3.20.1,!=4.21.0,!=4.21.1,!=4.21.2,!=4.21.3,!=4.21.4,!=4.21.5,<5.0.0dev,>=3.19.5, but you have protobuf 3.11.2 which is incompatible.\n",
            "google-cloud-bigquery 3.3.6 requires protobuf!=3.20.0,!=3.20.1,!=4.21.0,!=4.21.1,!=4.21.2,!=4.21.3,!=4.21.4,!=4.21.5,<5.0.0dev,>=3.19.5, but you have protobuf 3.11.2 which is incompatible.\n",
            "google-cloud-bigquery-storage 2.16.2 requires protobuf!=3.20.0,!=3.20.1,!=4.21.0,!=4.21.1,!=4.21.2,!=4.21.3,!=4.21.4,!=4.21.5,<5.0.0dev,>=3.19.5, but you have protobuf 3.11.2 which is incompatible.\n",
            "google-api-core 2.8.2 requires protobuf<5.0.0dev,>=3.15.0, but you have protobuf 3.11.2 which is incompatible.\u001b[0m\n",
            "Successfully installed matrixprofile-1.1.10 protobuf-3.11.2 statsmodels-0.13.5 stumpy-1.11.1 tsfresh-0.19.0\n"
          ]
        },
        {
          "output_type": "display_data",
          "data": {
            "application/vnd.colab-display-data+json": {
              "pip_warning": {
                "packages": [
                  "google"
                ]
              }
            }
          },
          "metadata": {}
        }
      ]
    },
    {
      "cell_type": "code",
      "execution_count": 3,
      "metadata": {
        "ExecuteTime": {
          "end_time": "2019-08-24T15:47:27.801063Z",
          "start_time": "2019-08-24T15:47:27.794083Z"
        },
        "colab": {
          "base_uri": "https://localhost:8080/"
        },
        "id": "97avzfZf6Vxv",
        "outputId": "9a9c6d2b-9413-4c25-9da3-89b841dd2a21"
      },
      "outputs": [
        {
          "output_type": "stream",
          "name": "stderr",
          "text": [
            "ERROR:numba.cuda.cudadrv.driver:Call to cuInit results in CUDA_ERROR_NO_DEVICE\n"
          ]
        }
      ],
      "source": [
        "%matplotlib inline\n",
        "import pandas as pd\n",
        "import matplotlib.pyplot as plt\n",
        "import numpy as np\n",
        "import random\n",
        "\n",
        "from sklearn.ensemble import RandomForestClassifier\n",
        "from sklearn.model_selection import train_test_split\n",
        "\n",
        "# выделение признаков при помощи TSFresh\n",
        "from tsfresh import extract_features, extract_relevant_features, select_features\n",
        "from tsfresh.utilities.dataframe_functions import impute\n",
        "from tsfresh.feature_extraction import ComprehensiveFCParameters, EfficientFCParameters, MinimalFCParameters"
      ]
    },
    {
      "cell_type": "markdown",
      "metadata": {
        "id": "ruVm_6LA6Vxx"
      },
      "source": [
        "# Создаём временные ряды и визуализируем их"
      ]
    },
    {
      "cell_type": "code",
      "execution_count": 4,
      "metadata": {
        "ExecuteTime": {
          "end_time": "2019-08-24T15:47:39.126999Z",
          "start_time": "2019-08-24T15:47:34.617048Z"
        },
        "colab": {
          "base_uri": "https://localhost:8080/",
          "height": 456
        },
        "id": "qLwHYyq26Vxy",
        "outputId": "ac529226-a8bc-4e79-b7d5-03654c261adf"
      },
      "outputs": [
        {
          "output_type": "display_data",
          "data": {
            "text/plain": [
              "<Figure size 432x288 with 1 Axes>"
            ],
            "image/png": "[encoded data removed]"
          },
          "metadata": {
            "needs_background": "light"
          }
        },
        {
          "output_type": "stream",
          "name": "stdout",
          "text": [
            "data.shape = (122000, 4)\n",
            "data.id.nunique() = 2000\n"
          ]
        },
        {
          "output_type": "execute_result",
          "data": {
            "text/plain": [
              "     t         y  class  id\n",
              "0  0.0  3.245872      1   0\n",
              "1  0.1  3.348260      1   0\n",
              "2  0.2  3.436487      1   0"
            ],
            "text/html": [
              "\n",
              "  <div id=\"df-5da47212-7918-49e5-8026-3bec3d4142cb\">\n",
              "    <div class=\"colab-df-container\">\n",
              "      <div>\n",
              "<style scoped>\n",
              "    .dataframe tbody tr th:only-of-type {\n",
              "        vertical-align: middle;\n",
              "    }\n",
              "\n",
              "    .dataframe tbody tr th {\n",
              "        vertical-align: top;\n",
              "    }\n",
              "\n",
              "    .dataframe thead th {\n",
              "        text-align: right;\n",
              "    }\n",
              "</style>\n",
              "<table border=\"1\" class=\"dataframe\">\n",
              "  <thead>\n",
              "    <tr style=\"text-align: right;\">\n",
              "      <th></th>\n",
              "      <th>t</th>\n",
              "      <th>y</th>\n",
              "      <th>class</th>\n",
              "      <th>id</th>\n",
              "    </tr>\n",
              "  </thead>\n",
              "  <tbody>\n",
              "    <tr>\n",
              "      <th>0</th>\n",
              "      <td>0.0</td>\n",
              "      <td>3.245872</td>\n",
              "      <td>1</td>\n",
              "      <td>0</td>\n",
              "    </tr>\n",
              "    <tr>\n",
              "      <th>1</th>\n",
              "      <td>0.1</td>\n",
              "      <td>3.348260</td>\n",
              "      <td>1</td>\n",
              "      <td>0</td>\n",
              "    </tr>\n",
              "    <tr>\n",
              "      <th>2</th>\n",
              "      <td>0.2</td>\n",
              "      <td>3.436487</td>\n",
              "      <td>1</td>\n",
              "      <td>0</td>\n",
              "    </tr>\n",
              "  </tbody>\n",
              "</table>\n",
              "</div>\n",
              "      <button class=\"colab-df-convert\" onclick=\"convertToInteractive('df-5da47212-7918-49e5-8026-3bec3d4142cb')\"\n",
              "              title=\"Convert this dataframe to an interactive table.\"\n",
              "              style=\"display:none;\">\n",
              "        \n",
              "  <svg xmlns=\"http://www.w3.org/2000/svg\" height=\"24px\"viewBox=\"0 0 24 24\"\n",
              "       width=\"24px\">\n",
              "    <path d=\"M0 0h24v24H0V0z\" fill=\"none\"/>\n",
              "    <path d=\"M18.56 5.44l.94 2.06.94-2.06 2.06-.94-2.06-.94-.94-2.06-.94 2.06-2.06.94zm-11 1L8.5 8.5l.94-2.06 2.06-.94-2.06-.94L8.5 2.5l-.94 2.06-2.06.94zm10 10l.94 2.06.94-2.06 2.06-.94-2.06-.94-.94-2.06-.94 2.06-2.06.94z\"/><path d=\"M17.41 7.96l-1.37-1.37c-.4-.4-.92-.59-1.43-.59-.52 0-1.04.2-1.43.59L10.3 9.45l-7.72 7.72c-.78.78-.78 2.05 0 2.83L4 21.41c.39.39.9.59 1.41.59.51 0 1.02-.2 1.41-.59l7.78-7.78 2.81-2.81c.8-.78.8-2.07 0-2.86zM5.41 20L4 18.59l7.72-7.72 1.47 1.35L5.41 20z\"/>\n",
              "  </svg>\n",
              "      </button>\n",
              "      \n",
              "  <style>\n",
              "    .colab-df-container {\n",
              "      display:flex;\n",
              "      flex-wrap:wrap;\n",
              "      gap: 12px;\n",
              "    }\n",
              "\n",
              "    .colab-df-convert {\n",
              "      background-color: #E8F0FE;\n",
              "      border: none;\n",
              "      border-radius: 50%;\n",
              "      cursor: pointer;\n",
              "      display: none;\n",
              "      fill: #1967D2;\n",
              "      height: 32px;\n",
              "      padding: 0 0 0 0;\n",
              "      width: 32px;\n",
              "    }\n",
              "\n",
              "    .colab-df-convert:hover {\n",
              "      background-color: #E2EBFA;\n",
              "      box-shadow: 0px 1px 2px rgba(60, 64, 67, 0.3), 0px 1px 3px 1px rgba(60, 64, 67, 0.15);\n",
              "      fill: #174EA6;\n",
              "    }\n",
              "\n",
              "    [theme=dark] .colab-df-convert {\n",
              "      background-color: #3B4455;\n",
              "      fill: #D2E3FC;\n",
              "    }\n",
              "\n",
              "    [theme=dark] .colab-df-convert:hover {\n",
              "      background-color: #434B5C;\n",
              "      box-shadow: 0px 1px 3px 1px rgba(0, 0, 0, 0.15);\n",
              "      filter: drop-shadow(0px 1px 2px rgba(0, 0, 0, 0.3));\n",
              "      fill: #FFFFFF;\n",
              "    }\n",
              "  </style>\n",
              "\n",
              "      <script>\n",
              "        const buttonEl =\n",
              "          document.querySelector('#df-5da47212-7918-49e5-8026-3bec3d4142cb button.colab-df-convert');\n",
              "        buttonEl.style.display =\n",
              "          google.colab.kernel.accessAllowed ? 'block' : 'none';\n",
              "\n",
              "        async function convertToInteractive(key) {\n",
              "          const element = document.querySelector('#df-5da47212-7918-49e5-8026-3bec3d4142cb');\n",
              "          const dataTable =\n",
              "            await google.colab.kernel.invokeFunction('convertToInteractive',\n",
              "                                                     [key], {});\n",
              "          if (!dataTable) return;\n",
              "\n",
              "          const docLinkHtml = 'Like what you see? Visit the ' +\n",
              "            '<a target=\"_blank\" href=https://colab.research.google.com/notebooks/data_table.ipynb>data table notebook</a>'\n",
              "            + ' to learn more about interactive tables.';\n",
              "          element.innerHTML = '';\n",
              "          dataTable['output_type'] = 'display_data';\n",
              "          await google.colab.output.renderOutput(dataTable, element);\n",
              "          const docLink = document.createElement('div');\n",
              "          docLink.innerHTML = docLinkHtml;\n",
              "          element.appendChild(docLink);\n",
              "        }\n",
              "      </script>\n",
              "    </div>\n",
              "  </div>\n",
              "  "
            ]
          },
          "metadata": {},
          "execution_count": 4
        }
      ],
      "source": [
        "N = 1000 ## количество семплов каждого класса\n",
        "Nvis = 5 ## сколько семплов будем визуализировать\n",
        "timePoints = 61  ## количество элементов в каждом из рядов\n",
        "\n",
        "df = pd.DataFrame()\n",
        "data = pd.DataFrame()\n",
        "t = np.linspace(0, 6, timePoints) \n",
        "\n",
        "random.seed(42)\n",
        "\n",
        "## генерируем семплы первого класса\n",
        "for i in range(N):\n",
        "    A = 1 + random.random()        ## амплитуда\n",
        "    w = 1 + random.random()        ## частота\n",
        "    ph = np.pi * random.random()   ## фаза\n",
        "    \n",
        "    \n",
        "    df['t']  = t                   ## ось времени\n",
        "    df['y']  = A*np.sin(t*w + ph)  ## значения временного ряда\n",
        "    df['class'] = 1                ## класс временного ряда \n",
        "    df['id'] = i                   ## номер временного ряда\n",
        "    \n",
        "    data = data.append(df)         ## добавляем семпл в общий дейтафрейм\n",
        "    if i < Nvis:                   ## визуализируем первые Nvis-штук\n",
        "        plt.plot(df.t, df.y, color='g') \n",
        "    \n",
        "## генерируем семплы второго класса    \n",
        "for i in range(N, 2*N):\n",
        "    A = 1 + random.random()          ## амплитуда\n",
        "    w = 0 + random.random()          ## частота\n",
        "    ph = 2*np.pi * random.random()   ## фаза\n",
        "    \n",
        "    df['t']  = t                     ## ось времени\n",
        "    df['y']  = A*np.sin(t*w + ph)    ## значения временного ряда\n",
        "    df['class'] = 0                  ## класс временного ряда \n",
        "    df['id'] = i                     ## номер временного ряда\n",
        "    \n",
        "    data = data.append(df)           ## добавляем семпл в общий дейтафрейм\n",
        "    if i < Nvis+N:                   ## визуализируем первые Nvis-штук\n",
        "        plt.plot(df.t, df.y, color='r') \n",
        "    \n",
        "## cдвигаем все значения вверх, чтобы все значения были положительными    \n",
        "data['y'] = data.y + np.abs(data.y.min())\n",
        "    \n",
        "plt.xlabel(\"Время\")\n",
        "plt.ylabel(\"Значение\")\n",
        "plt.title('Два вида рядов (первого и второго класса)')\n",
        "plt.xlim([t[0], t[-1]])\n",
        "plt.show()\n",
        "\n",
        "print('data.shape =', data.shape)\n",
        "print('data.id.nunique() =', data.id.nunique())\n",
        "data.head(3)"
      ]
    },
    {
      "cell_type": "markdown",
      "metadata": {
        "id": "dkADZXNR6Vx1"
      },
      "source": [
        "# Выделение признаков при помощи TSFresh\n",
        "http://tsfresh.readthedocs.io/en/latest/"
      ]
    },
    {
      "cell_type": "code",
      "execution_count": 5,
      "metadata": {
        "ExecuteTime": {
          "end_time": "2019-08-24T12:19:20.842803Z",
          "start_time": "2019-08-24T12:19:14.507723Z"
        },
        "colab": {
          "base_uri": "https://localhost:8080/",
          "height": 346
        },
        "id": "IAvoa3D86Vx2",
        "outputId": "583b42ef-68ae-4761-aa3d-ebaf076b9e07"
      },
      "outputs": [
        {
          "output_type": "stream",
          "name": "stderr",
          "text": [
            "Feature Extraction: 100%|██████████| 2000/2000 [00:02<00:00, 735.96it/s]\n"
          ]
        },
        {
          "output_type": "stream",
          "name": "stdout",
          "text": [
            "data.shape = (122000, 4)\n",
            "features.shape = (2000, 17)\n"
          ]
        },
        {
          "output_type": "stream",
          "name": "stderr",
          "text": [
            "/usr/local/lib/python3.8/dist-packages/pandas/core/indexing.py:1732: SettingWithCopyWarning: \n",
            "A value is trying to be set on a copy of a slice from a DataFrame\n",
            "\n",
            "See the caveats in the documentation: https://pandas.pydata.org/pandas-docs/stable/user_guide/indexing.html#returning-a-view-versus-a-copy\n",
            "  self._setitem_single_block(indexer, value, name)\n"
          ]
        },
        {
          "output_type": "execute_result",
          "data": {
            "text/plain": [
              "   index  y__maximum   y__mean  y__minimum  y__median  y__standard_deviation  \\\n",
              "0      0    3.638476  1.993396    0.361503   2.021114               1.159167   \n",
              "1      1    3.222351  1.831576    0.776047   1.756307               0.828757   \n",
              "2      2    3.891279  2.096981    0.107249   2.144667               1.367380   \n",
              "\n",
              "   y__binned_entropy__max_bins_10  y__count_above_mean  y__count_below_mean  \\\n",
              "0                        2.177507                 31.0                 30.0   \n",
              "1                        2.185494                 27.0                 34.0   \n",
              "2                        2.146856                 31.0                 30.0   \n",
              "\n",
              "   y__first_location_of_maximum  y__first_location_of_minimum  y__mean_change  \\\n",
              "0                      0.114754                      0.622951       -0.002539   \n",
              "1                      0.540984                      0.836066       -0.017766   \n",
              "2                      0.983607                      0.508197        0.000943   \n",
              "\n",
              "   y__sum_values  y__kurtosis  y__skewness  y__abs_energy  label  \n",
              "0     121.597163    -1.522487     0.010053     324.355057      0  \n",
              "1     111.726131    -1.365224     0.291575     246.532037      0  \n",
              "2     127.915835    -1.548907    -0.083391     382.290408      0  "
            ],
            "text/html": [
              "\n",
              "  <div id=\"df-6ad705b4-c899-4ecc-8fbd-8361af97f68a\">\n",
              "    <div class=\"colab-df-container\">\n",
              "      <div>\n",
              "<style scoped>\n",
              "    .dataframe tbody tr th:only-of-type {\n",
              "        vertical-align: middle;\n",
              "    }\n",
              "\n",
              "    .dataframe tbody tr th {\n",
              "        vertical-align: top;\n",
              "    }\n",
              "\n",
              "    .dataframe thead th {\n",
              "        text-align: right;\n",
              "    }\n",
              "</style>\n",
              "<table border=\"1\" class=\"dataframe\">\n",
              "  <thead>\n",
              "    <tr style=\"text-align: right;\">\n",
              "      <th></th>\n",
              "      <th>index</th>\n",
              "      <th>y__maximum</th>\n",
              "      <th>y__mean</th>\n",
              "      <th>y__minimum</th>\n",
              "      <th>y__median</th>\n",
              "      <th>y__standard_deviation</th>\n",
              "      <th>y__binned_entropy__max_bins_10</th>\n",
              "      <th>y__count_above_mean</th>\n",
              "      <th>y__count_below_mean</th>\n",
              "      <th>y__first_location_of_maximum</th>\n",
              "      <th>y__first_location_of_minimum</th>\n",
              "      <th>y__mean_change</th>\n",
              "      <th>y__sum_values</th>\n",
              "      <th>y__kurtosis</th>\n",
              "      <th>y__skewness</th>\n",
              "      <th>y__abs_energy</th>\n",
              "      <th>label</th>\n",
              "    </tr>\n",
              "  </thead>\n",
              "  <tbody>\n",
              "    <tr>\n",
              "      <th>0</th>\n",
              "      <td>0</td>\n",
              "      <td>3.638476</td>\n",
              "      <td>1.993396</td>\n",
              "      <td>0.361503</td>\n",
              "      <td>2.021114</td>\n",
              "      <td>1.159167</td>\n",
              "      <td>2.177507</td>\n",
              "      <td>31.0</td>\n",
              "      <td>30.0</td>\n",
              "      <td>0.114754</td>\n",
              "      <td>0.622951</td>\n",
              "      <td>-0.002539</td>\n",
              "      <td>121.597163</td>\n",
              "      <td>-1.522487</td>\n",
              "      <td>0.010053</td>\n",
              "      <td>324.355057</td>\n",
              "      <td>0</td>\n",
              "    </tr>\n",
              "    <tr>\n",
              "      <th>1</th>\n",
              "      <td>1</td>\n",
              "      <td>3.222351</td>\n",
              "      <td>1.831576</td>\n",
              "      <td>0.776047</td>\n",
              "      <td>1.756307</td>\n",
              "      <td>0.828757</td>\n",
              "      <td>2.185494</td>\n",
              "      <td>27.0</td>\n",
              "      <td>34.0</td>\n",
              "      <td>0.540984</td>\n",
              "      <td>0.836066</td>\n",
              "      <td>-0.017766</td>\n",
              "      <td>111.726131</td>\n",
              "      <td>-1.365224</td>\n",
              "      <td>0.291575</td>\n",
              "      <td>246.532037</td>\n",
              "      <td>0</td>\n",
              "    </tr>\n",
              "    <tr>\n",
              "      <th>2</th>\n",
              "      <td>2</td>\n",
              "      <td>3.891279</td>\n",
              "      <td>2.096981</td>\n",
              "      <td>0.107249</td>\n",
              "      <td>2.144667</td>\n",
              "      <td>1.367380</td>\n",
              "      <td>2.146856</td>\n",
              "      <td>31.0</td>\n",
              "      <td>30.0</td>\n",
              "      <td>0.983607</td>\n",
              "      <td>0.508197</td>\n",
              "      <td>0.000943</td>\n",
              "      <td>127.915835</td>\n",
              "      <td>-1.548907</td>\n",
              "      <td>-0.083391</td>\n",
              "      <td>382.290408</td>\n",
              "      <td>0</td>\n",
              "    </tr>\n",
              "  </tbody>\n",
              "</table>\n",
              "</div>\n",
              "      <button class=\"colab-df-convert\" onclick=\"convertToInteractive('df-6ad705b4-c899-4ecc-8fbd-8361af97f68a')\"\n",
              "              title=\"Convert this dataframe to an interactive table.\"\n",
              "              style=\"display:none;\">\n",
              "        \n",
              "  <svg xmlns=\"http://www.w3.org/2000/svg\" height=\"24px\"viewBox=\"0 0 24 24\"\n",
              "       width=\"24px\">\n",
              "    <path d=\"M0 0h24v24H0V0z\" fill=\"none\"/>\n",
              "    <path d=\"M18.56 5.44l.94 2.06.94-2.06 2.06-.94-2.06-.94-.94-2.06-.94 2.06-2.06.94zm-11 1L8.5 8.5l.94-2.06 2.06-.94-2.06-.94L8.5 2.5l-.94 2.06-2.06.94zm10 10l.94 2.06.94-2.06 2.06-.94-2.06-.94-.94-2.06-.94 2.06-2.06.94z\"/><path d=\"M17.41 7.96l-1.37-1.37c-.4-.4-.92-.59-1.43-.59-.52 0-1.04.2-1.43.59L10.3 9.45l-7.72 7.72c-.78.78-.78 2.05 0 2.83L4 21.41c.39.39.9.59 1.41.59.51 0 1.02-.2 1.41-.59l7.78-7.78 2.81-2.81c.8-.78.8-2.07 0-2.86zM5.41 20L4 18.59l7.72-7.72 1.47 1.35L5.41 20z\"/>\n",
              "  </svg>\n",
              "      </button>\n",
              "      \n",
              "  <style>\n",
              "    .colab-df-container {\n",
              "      display:flex;\n",
              "      flex-wrap:wrap;\n",
              "      gap: 12px;\n",
              "    }\n",
              "\n",
              "    .colab-df-convert {\n",
              "      background-color: #E8F0FE;\n",
              "      border: none;\n",
              "      border-radius: 50%;\n",
              "      cursor: pointer;\n",
              "      display: none;\n",
              "      fill: #1967D2;\n",
              "      height: 32px;\n",
              "      padding: 0 0 0 0;\n",
              "      width: 32px;\n",
              "    }\n",
              "\n",
              "    .colab-df-convert:hover {\n",
              "      background-color: #E2EBFA;\n",
              "      box-shadow: 0px 1px 2px rgba(60, 64, 67, 0.3), 0px 1px 3px 1px rgba(60, 64, 67, 0.15);\n",
              "      fill: #174EA6;\n",
              "    }\n",
              "\n",
              "    [theme=dark] .colab-df-convert {\n",
              "      background-color: #3B4455;\n",
              "      fill: #D2E3FC;\n",
              "    }\n",
              "\n",
              "    [theme=dark] .colab-df-convert:hover {\n",
              "      background-color: #434B5C;\n",
              "      box-shadow: 0px 1px 3px 1px rgba(0, 0, 0, 0.15);\n",
              "      filter: drop-shadow(0px 1px 2px rgba(0, 0, 0, 0.3));\n",
              "      fill: #FFFFFF;\n",
              "    }\n",
              "  </style>\n",
              "\n",
              "      <script>\n",
              "        const buttonEl =\n",
              "          document.querySelector('#df-6ad705b4-c899-4ecc-8fbd-8361af97f68a button.colab-df-convert');\n",
              "        buttonEl.style.display =\n",
              "          google.colab.kernel.accessAllowed ? 'block' : 'none';\n",
              "\n",
              "        async function convertToInteractive(key) {\n",
              "          const element = document.querySelector('#df-6ad705b4-c899-4ecc-8fbd-8361af97f68a');\n",
              "          const dataTable =\n",
              "            await google.colab.kernel.invokeFunction('convertToInteractive',\n",
              "                                                     [key], {});\n",
              "          if (!dataTable) return;\n",
              "\n",
              "          const docLinkHtml = 'Like what you see? Visit the ' +\n",
              "            '<a target=\"_blank\" href=https://colab.research.google.com/notebooks/data_table.ipynb>data table notebook</a>'\n",
              "            + ' to learn more about interactive tables.';\n",
              "          element.innerHTML = '';\n",
              "          dataTable['output_type'] = 'display_data';\n",
              "          await google.colab.output.renderOutput(dataTable, element);\n",
              "          const docLink = document.createElement('div');\n",
              "          docLink.innerHTML = docLinkHtml;\n",
              "          element.appendChild(docLink);\n",
              "        }\n",
              "      </script>\n",
              "    </div>\n",
              "  </div>\n",
              "  "
            ]
          },
          "metadata": {},
          "execution_count": 5
        }
      ],
      "source": [
        "def featuresTSFresh(data):    \n",
        "\n",
        "    ## список фич (см. документацию по TSFresh: https://media.readthedocs.org/pdf/tsfresh/latest/tsfresh.pdf)\n",
        "    extraction_settings = \\\n",
        "    {\n",
        "        ## признак: параметр\n",
        "        \"maximum\": None,\n",
        "        \"mean\": None,\n",
        "        \"minimum\": None,\n",
        "        \"median\": None,\n",
        "        \"standard_deviation\": None,\n",
        "        \"binned_entropy\": [{\"max_bins\" : 10}],\n",
        "        \"count_above_mean\": None,\n",
        "        \"count_below_mean\": None,\n",
        "        \"first_location_of_maximum\": None,\n",
        "        \"first_location_of_minimum\": None,\n",
        "        \"mean_change\": None,\n",
        "        \"sum_values\": None,\n",
        "        \"kurtosis\": None,\n",
        "        \"skewness\": None,\n",
        "        \"abs_energy\": None        \n",
        "    }\n",
        "\n",
        "    ## извлечение фич из данных    \n",
        "    featuresDF = extract_features(\n",
        "        data, \n",
        "        column_id='id',  ## номер временного ряда\n",
        "        column_sort='t', ## ось времени\n",
        "        default_fc_parameters=extraction_settings, ## список фич, которые хотим извлечь\n",
        "        impute_function=impute                     ## заменить все inf и NaN\n",
        "    )\n",
        "    \n",
        "    ## вытаскиваем колонку id из индекса \n",
        "    featuresDF = featuresDF.reset_index()\n",
        "\n",
        "    return featuresDF\n",
        "\n",
        "## убираем колонку class из данных (мы не хотим из неё извлекать фичи)\n",
        "features = featuresTSFresh(data.drop('class', axis=1))\n",
        "\n",
        "## помечаем ряды (добавляем обратно первый и второй класс)\n",
        "features['label'] = 0\n",
        "features['label'].iloc[N:] = 1\n",
        "\n",
        "print('data.shape =', data.shape)\n",
        "print('features.shape =', features.shape)\n",
        "features.head(3)"
      ]
    },
    {
      "cell_type": "markdown",
      "metadata": {
        "id": "acFi-LML6Vx3"
      },
      "source": [
        "# Машинное обучение"
      ]
    },
    {
      "cell_type": "code",
      "execution_count": 7,
      "metadata": {
        "ExecuteTime": {
          "end_time": "2019-08-24T16:05:44.017262Z",
          "start_time": "2019-08-24T16:05:43.066800Z"
        },
        "colab": {
          "base_uri": "https://localhost:8080/",
          "height": 1000
        },
        "id": "MzJfCDT76Vx4",
        "outputId": "e0619955-b388-4bc1-8b3c-aa53cd2f5e7d"
      },
      "outputs": [
        {
          "output_type": "stream",
          "name": "stdout",
          "text": [
            "trainSet.shape = (1200, 17)\n",
            "testSet.shape  = (800, 17)\n",
            "\n",
            "Value counts train:\n",
            " 1    603\n",
            "0    597\n",
            "Name: label, dtype: int64\n",
            "\n",
            "Value counts test:\n",
            " 0    403\n",
            "1    397\n",
            "Name: label, dtype: int64\n"
          ]
        },
        {
          "output_type": "display_data",
          "data": {
            "text/plain": [
              "<Figure size 432x288 with 1 Axes>"
            ],
            "image/png": "[encoded data removed]"
          },
          "metadata": {
            "needs_background": "light"
          }
        },
        {
          "output_type": "stream",
          "name": "stdout",
          "text": [
            "                          features   importances\n",
            "12                     y__kurtosis  5.348543e-01\n",
            "9     y__first_location_of_minimum  2.764692e-01\n",
            "5   y__binned_entropy__max_bins_10  9.558191e-02\n",
            "4            y__standard_deviation  3.486869e-02\n",
            "8     y__first_location_of_maximum  2.662037e-02\n",
            "10                  y__mean_change  8.148802e-03\n",
            "1                          y__mean  8.034701e-03\n",
            "11                   y__sum_values  6.024088e-03\n",
            "3                        y__median  4.364598e-03\n",
            "14                   y__abs_energy  2.369408e-03\n",
            "13                     y__skewness  2.036991e-03\n",
            "0                       y__maximum  2.565418e-04\n",
            "7              y__count_below_mean  2.391088e-04\n",
            "2                       y__minimum  1.312449e-04\n",
            "6              y__count_above_mean  9.862528e-18\n",
            "\n",
            "   Pos  Neg\n",
            "0  394    9\n",
            "1   63  334\n",
            "\n",
            "AUC = 0.960  Точность = 0.910\n",
            "\n"
          ]
        },
        {
          "output_type": "display_data",
          "data": {
            "text/plain": [
              "<Figure size 432x288 with 1 Axes>"
            ],
            "image/png": "[encoded data removed]"
          },
          "metadata": {
            "needs_background": "light"
          }
        }
      ],
      "source": [
        "## разбиваем выделенные фичи на тренировочный и тестовый наборы \n",
        "trainSet, testSet = train_test_split(features, test_size=0.4, random_state=42) \n",
        "\n",
        "## выводим статистику по нашим наборам\n",
        "print('trainSet.shape =', trainSet.shape)\n",
        "print('testSet.shape  =', testSet.shape)\n",
        "print()\n",
        "print('Value counts train:\\n', trainSet.label.value_counts())\n",
        "print()\n",
        "print('Value counts test:\\n', testSet.label.value_counts())\n",
        "\n",
        "## лист фич\n",
        "featureList = trainSet.drop(['index', 'label'], axis=1).columns\n",
        "\n",
        "## параметры классификатора\n",
        "params = {'n_estimators': 100, 'max_depth': 4, 'min_samples_split': 2, 'max_features' : 1.0, 'class_weight' : 'balanced',\n",
        "         'random_state': 42}\n",
        "\n",
        "## обучаем классификатор\n",
        "clf = RandomForestClassifier(**params).fit(trainSet[featureList], trainSet['label'])\n",
        "\n",
        "## делаем предсказание на тестовом наборе\n",
        "y_pred = clf.predict(testSet[featureList])\n",
        "y_pred_proba = clf.predict_proba(testSet[featureList])[:, 1]  ## вероятности\n",
        "\n",
        "## визуализируем вероятности для предсказаний\n",
        "import matplotlib.pyplot as plt\n",
        "plt.hist(y_pred_proba)\n",
        "plt.ylabel('Распределение вероятностей (test-set)')\n",
        "plt.show()\n",
        "\n",
        "\n",
        "\n",
        "from sklearn.metrics import confusion_matrix\n",
        "from sklearn.metrics import roc_curve, auc\n",
        "from math import isnan\n",
        "\n",
        "## создадим для удобства дейтафрейм с результатами\n",
        "res = testSet\n",
        "res['pred'] = y_pred \n",
        "res['pred_proba'] = y_pred_proba\n",
        "\n",
        "## получаем из классификатора важность фич и отображаем их\n",
        "ftmprt = pd.DataFrame()\n",
        "ftmprt['features'] = featureList\n",
        "ftmprt['importances'] = clf.feature_importances_\n",
        "ftmprt = ftmprt.sort_values('importances', ascending=False)\n",
        "print(ftmprt.head(20))\n",
        "print()\n",
        "proba = res.pred_proba\n",
        "\n",
        "## считаем матрицу ошибок\n",
        "CM = confusion_matrix(res['label'], res['pred'])\n",
        "CM_DF = pd.DataFrame(data=CM, columns = ['Pos', 'Neg'])\n",
        "print(CM_DF)\n",
        "\n",
        "# ROC-AUC \n",
        "FPR, TPR, thresholds = roc_curve(res['label'], res['pred_proba'])\n",
        "roc_auc = auc(FPR, TPR)\n",
        "acc = res[res['pred'] == res['label']].shape[0] / res.shape[0] ## точность\n",
        "print(f\"\\nAUC = {roc_auc:.3f}  Точность = {acc:.3f}\\n\")\n",
        "\n",
        "# ROC-кривая\n",
        "plt.title('Receiver Operating Characteristic')\n",
        "plt.plot(FPR, TPR, 'b', label=f'AUC = {roc_auc:.2f}')\n",
        "plt.legend(loc='lower right')\n",
        "plt.plot([0, 1], [0, 1], 'r--')\n",
        "plt.xlim([0, 1])\n",
        "plt.ylim([0, 1])\n",
        "plt.ylabel('True Positive Rate')\n",
        "plt.xlabel('False Positive Rate')\n",
        "plt.show()"
      ]
    },
    {
      "cell_type": "code",
      "source": [],
      "metadata": {
        "id": "OY-n-mKG6qXi"
      },
      "execution_count": null,
      "outputs": []
    }
  ],
  "metadata": {
    "kernelspec": {
      "display_name": "Python 3",
      "language": "python",
      "name": "python3"
    },
    "language_info": {
      "codemirror_mode": {
        "name": "ipython",
        "version": 3
      },
      "file_extension": ".py",
      "mimetype": "text/x-python",
      "name": "python",
      "nbconvert_exporter": "python",
      "pygments_lexer": "ipython3",
      "version": "3.7.3"
    },
    "toc": {
      "base_numbering": 1,
      "nav_menu": {},
      "number_sections": true,
      "sideBar": true,
      "skip_h1_title": false,
      "title_cell": "Table of Contents",
      "title_sidebar": "Contents",
      "toc_cell": false,
      "toc_position": {},
      "toc_section_display": true,
      "toc_window_display": false
    },
    "varInspector": {
      "cols": {
        "lenName": 16,
        "lenType": 16,
        "lenVar": 40
      },
      "kernels_config": {
        "python": {
          "delete_cmd_postfix": "",
          "delete_cmd_prefix": "del ",
          "library": "var_list.py",
          "varRefreshCmd": "print(var_dic_list())"
        },
        "r": {
          "delete_cmd_postfix": ") ",
          "delete_cmd_prefix": "rm(",
          "library": "var_list.r",
          "varRefreshCmd": "cat(var_dic_list()) "
        }
      },
      "types_to_exclude": [
        "module",
        "function",
        "builtin_function_or_method",
        "instance",
        "_Feature"
      ],
      "window_display": false
    },
    "colab": {
      "provenance": [],
      "include_colab_link": true
    }
  },
  "nbformat": 4,
  "nbformat_minor": 0
}