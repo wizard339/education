{
  "nbformat": 4,
  "nbformat_minor": 0,
  "metadata": {
    "colab": {
      "provenance": [],
      "include_colab_link": true
    },
    "kernelspec": {
      "name": "python3",
      "display_name": "Python 3"
    }
  },
  "cells": [
    {
      "cell_type": "markdown",
      "metadata": {
        "id": "view-in-github",
        "colab_type": "text"
      },
      "source": [
        "<a href=\"https://colab.research.google.com/github/wizard339/education/blob/main/tensors.ipynb\" target=\"_parent\"><img src=\"https://colab.research.google.com/assets/colab-badge.svg\" alt=\"Open In Colab\"/></a>"
      ]
    },
    {
      "cell_type": "markdown",
      "metadata": {
        "id": "girA51a7p2KQ"
      },
      "source": [
        "**PyTorch** идет предустановленным в Google Colab, просто импортируем"
      ]
    },
    {
      "cell_type": "code",
      "metadata": {
        "id": "x9pn2-oIpD9l"
      },
      "source": [
        "import torch\n",
        "import numpy as np"
      ],
      "execution_count": 1,
      "outputs": []
    },
    {
      "cell_type": "markdown",
      "metadata": {
        "id": "ymOllVpQuE4-"
      },
      "source": [
        "**Матричное умножение** - операция над матрицами, где результирующая матрица составлена скалярными произведениями строк и рядов\n",
        "\n",
        "**Скалярное произведение** двух векторов - сумма произведений элементов в соответствующих позициях этих векторов"
      ]
    },
    {
      "cell_type": "code",
      "metadata": {
        "colab": {
          "base_uri": "https://localhost:8080/"
        },
        "id": "4HxJbtpyy6Xv",
        "outputId": "b4555606-e7ca-4d55-e08d-2fa0a772c37d"
      },
      "source": [
        "v1 = np.array([1, 2])\n",
        "v2 = np.array([3, 4])\n",
        "np.dot(v1, v2)"
      ],
      "execution_count": 2,
      "outputs": [
        {
          "output_type": "execute_result",
          "data": {
            "text/plain": [
              "11"
            ]
          },
          "metadata": {},
          "execution_count": 2
        }
      ]
    },
    {
      "cell_type": "code",
      "metadata": {
        "colab": {
          "base_uri": "https://localhost:8080/"
        },
        "id": "rsjUyXTNubRe",
        "outputId": "b5cc4599-007d-4710-9467-ce043d173490"
      },
      "source": [
        "t1 = torch.Tensor([[1, 2], [3, 4]])\n",
        "t2 = torch.ones(2, 2) * 2\n",
        "print(t1)\n",
        "print(t2)"
      ],
      "execution_count": 3,
      "outputs": [
        {
          "output_type": "stream",
          "name": "stdout",
          "text": [
            "tensor([[1., 2.],\n",
            "        [3., 4.]])\n",
            "tensor([[2., 2.],\n",
            "        [2., 2.]])\n"
          ]
        }
      ]
    },
    {
      "cell_type": "markdown",
      "metadata": {
        "id": "nyKejETv1F0Q"
      },
      "source": [
        "теперь умножим эти две матрицы операцией **@** (аналог - torch.**matmul**())"
      ]
    },
    {
      "cell_type": "code",
      "metadata": {
        "colab": {
          "base_uri": "https://localhost:8080/"
        },
        "id": "f0Ww9Td5utiW",
        "outputId": "028bdb81-48cf-4314-83d4-1e7d4a598e91"
      },
      "source": [
        "t1 @ t2"
      ],
      "execution_count": 4,
      "outputs": [
        {
          "output_type": "execute_result",
          "data": {
            "text/plain": [
              "tensor([[ 6.,  6.],\n",
              "        [14., 14.]])"
            ]
          },
          "metadata": {},
          "execution_count": 4
        }
      ]
    },
    {
      "cell_type": "code",
      "source": [
        "t1*t2"
      ],
      "metadata": {
        "colab": {
          "base_uri": "https://localhost:8080/"
        },
        "id": "_foZKighSPIh",
        "outputId": "98aade47-ae93-4fca-ac4f-12592e0ea990"
      },
      "execution_count": 5,
      "outputs": [
        {
          "output_type": "execute_result",
          "data": {
            "text/plain": [
              "tensor([[2., 4.],\n",
              "        [6., 8.]])"
            ]
          },
          "metadata": {},
          "execution_count": 5
        }
      ]
    },
    {
      "cell_type": "markdown",
      "metadata": {
        "id": "_uAFKDy01rNe"
      },
      "source": [
        "**Задание**: вычислить выражение\n",
        "\n",
        "**Дано**: 2 матричных тензора **t1** и **t2**"
      ]
    },
    {
      "cell_type": "code",
      "metadata": {
        "colab": {
          "base_uri": "https://localhost:8080/"
        },
        "id": "B2u-ftYJraZO",
        "outputId": "077b69b8-b9d2-4211-b9ac-729b0e98bb06"
      },
      "source": [
        "t1 = torch.stack([torch.Tensor([1, 1, 1, 1]) * n for n in range(1, 5)])\n",
        "t2 = t1.transpose(-1, -2)\n",
        "print(t1)\n",
        "print(t2)"
      ],
      "execution_count": 22,
      "outputs": [
        {
          "output_type": "stream",
          "name": "stdout",
          "text": [
            "tensor([[1., 1., 1., 1.],\n",
            "        [2., 2., 2., 2.],\n",
            "        [3., 3., 3., 3.],\n",
            "        [4., 4., 4., 4.]])\n",
            "tensor([[1., 2., 3., 4.],\n",
            "        [1., 2., 3., 4.],\n",
            "        [1., 2., 3., 4.],\n",
            "        [1., 2., 3., 4.]])\n"
          ]
        }
      ]
    },
    {
      "cell_type": "markdown",
      "metadata": {
        "id": "TLD4zARs6vS_"
      },
      "source": [
        "**1**) Вычислить выражение **t3** = t1 ** 2 - t2 * 2 + t1 * 4\n",
        "\n",
        "2) Сделать конкатенацию тензоров **t2** и **t3**, записать в тензор **t4** (должна получиться размерность 4 строки и 8 столбцов) \n",
        "\n",
        "Конкатенация - операция, в которой результирующая матрица составлена из рядов первой и второй матрицы, если конкатенация идет вдоль столбцов, или из столбцов первой и второй матрицы, если конкатенация идет вдоль строк. \n",
        "\n",
        "Делается оператором **torch.cat**(tensors, dim), где\n",
        "\n",
        "**tensors** - список исходных тензоров\n",
        "\n",
        "**dim** - измерение, вдоль которого делается конкатенация, 0 - вдоль столбцов, 1 - вдоль строк\n",
        "\n",
        "\n",
        "\n",
        "3) Посчитать скалярное произведение **первой** и **последней** строки матрицы тензора **t4**"
      ]
    },
    {
      "cell_type": "code",
      "metadata": {
        "id": "g05gAqVEtO-F",
        "colab": {
          "base_uri": "https://localhost:8080/"
        },
        "outputId": "c54f35a6-e79c-4125-bdcf-9209145f5304"
      },
      "source": [
        "t3 = t1**2 - 2*t2 + t1*4\n",
        "t3"
      ],
      "execution_count": 24,
      "outputs": [
        {
          "output_type": "execute_result",
          "data": {
            "text/plain": [
              "tensor([[ 3.,  1., -1., -3.],\n",
              "        [10.,  8.,  6.,  4.],\n",
              "        [19., 17., 15., 13.],\n",
              "        [30., 28., 26., 24.]])"
            ]
          },
          "metadata": {},
          "execution_count": 24
        }
      ]
    },
    {
      "cell_type": "code",
      "source": [
        "t4 = torch.cat([t2, t3], dim=1)\n",
        "t4"
      ],
      "metadata": {
        "colab": {
          "base_uri": "https://localhost:8080/"
        },
        "id": "dBDaw_ycTt0d",
        "outputId": "54271db4-219c-4b77-8881-0c598d417b7a"
      },
      "execution_count": 26,
      "outputs": [
        {
          "output_type": "execute_result",
          "data": {
            "text/plain": [
              "tensor([[ 1.,  2.,  3.,  4.,  3.,  1., -1., -3.],\n",
              "        [ 1.,  2.,  3.,  4., 10.,  8.,  6.,  4.],\n",
              "        [ 1.,  2.,  3.,  4., 19., 17., 15., 13.],\n",
              "        [ 1.,  2.,  3.,  4., 30., 28., 26., 24.]])"
            ]
          },
          "metadata": {},
          "execution_count": 26
        }
      ]
    },
    {
      "cell_type": "code",
      "source": [
        "res = t4[0]@t4[3]\n",
        "res"
      ],
      "metadata": {
        "colab": {
          "base_uri": "https://localhost:8080/"
        },
        "id": "bbaojaV6V4Sb",
        "outputId": "bcf3d558-f9b7-4e71-c472-08f6bc93a289"
      },
      "execution_count": 27,
      "outputs": [
        {
          "output_type": "execute_result",
          "data": {
            "text/plain": [
              "tensor(50.)"
            ]
          },
          "metadata": {},
          "execution_count": 27
        }
      ]
    },
    {
      "cell_type": "code",
      "source": [],
      "metadata": {
        "id": "YSi7OZZ1Tp9e"
      },
      "execution_count": null,
      "outputs": []
    }
  ]
}