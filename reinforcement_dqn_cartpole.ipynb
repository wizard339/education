{
  "nbformat": 4,
  "nbformat_minor": 0,
  "metadata": {
    "colab": {
      "provenance": [],
      "include_colab_link": true
    },
    "language_info": {
      "codemirror_mode": {
        "name": "ipython",
        "version": 3
      },
      "file_extension": ".py",
      "mimetype": "text/x-python",
      "name": "python",
      "nbconvert_exporter": "python",
      "pygments_lexer": "ipython3",
      "version": "3.7.1"
    },
    "kernelspec": {
      "name": "python3",
      "display_name": "Python 3"
    },
    "accelerator": "GPU"
  },
  "cells": [
    {
      "cell_type": "markdown",
      "metadata": {
        "id": "view-in-github",
        "colab_type": "text"
      },
      "source": [
        "<a href=\"https://colab.research.google.com/github/wizard339/education/blob/main/reinforcement_dqn_cartpole.ipynb\" target=\"_parent\"><img src=\"https://colab.research.google.com/assets/colab-badge.svg\" alt=\"Open In Colab\"/></a>"
      ]
    },
    {
      "cell_type": "code",
      "source": [
        "!pip install pygame"
      ],
      "metadata": {
        "id": "LPDt_lin7Trg",
        "outputId": "36a5d7b4-403a-4625-b3b1-f1d62cbbfbbb",
        "colab": {
          "base_uri": "https://localhost:8080/"
        }
      },
      "execution_count": 1,
      "outputs": [
        {
          "output_type": "stream",
          "name": "stdout",
          "text": [
            "Looking in indexes: https://pypi.org/simple, https://us-python.pkg.dev/colab-wheels/public/simple/\n",
            "Collecting pygame\n",
            "  Downloading pygame-2.1.2-cp38-cp38-manylinux_2_17_x86_64.manylinux2014_x86_64.whl (21.8 MB)\n",
            "\u001b[2K     \u001b[90m━━━━━━━━━━━━━━━━━━━━━━━━━━━━━━━━━━━━━━━━\u001b[0m \u001b[32m21.8/21.8 MB\u001b[0m \u001b[31m37.9 MB/s\u001b[0m eta \u001b[36m0:00:00\u001b[0m\n",
            "\u001b[?25hInstalling collected packages: pygame\n",
            "Successfully installed pygame-2.1.2\n"
          ]
        }
      ]
    },
    {
      "cell_type": "code",
      "metadata": {
        "id": "lglPTqADTCEE",
        "outputId": "eba72bd2-ea64-4afd-d37b-c08e5ea60d45",
        "colab": {
          "base_uri": "https://localhost:8080/"
        }
      },
      "source": [
        "import time\n",
        "import random\n",
        "import numpy as np\n",
        "\n",
        "import gym\n",
        "import pygame\n",
        "\n",
        "import tensorflow as tf\n",
        "import tensorflow.keras.layers as L\n",
        "import tensorflow.keras.models as M\n",
        "\n",
        "import matplotlib.pyplot as plt\n",
        "%matplotlib inline\n",
        "print(tf.__version__)"
      ],
      "execution_count": 2,
      "outputs": [
        {
          "output_type": "stream",
          "name": "stdout",
          "text": [
            "2.9.2\n"
          ]
        }
      ]
    },
    {
      "cell_type": "code",
      "metadata": {
        "id": "19sOBDnQTEV3",
        "outputId": "37c955ee-4fa5-4fc6-dcf5-e51504e1110f",
        "colab": {
          "base_uri": "https://localhost:8080/",
          "height": 36
        }
      },
      "source": [
        "# Проверяем что у нас работает GPU\n",
        "tf.test.gpu_device_name()"
      ],
      "execution_count": null,
      "outputs": [
        {
          "output_type": "execute_result",
          "data": {
            "text/plain": [
              "'/device:GPU:0'"
            ],
            "application/vnd.google.colaboratory.intrinsic+json": {
              "type": "string"
            }
          },
          "metadata": {},
          "execution_count": 3
        }
      ]
    },
    {
      "cell_type": "code",
      "metadata": {
        "id": "bPRC0BXlTGZR",
        "outputId": "8db4c166-bbd9-4822-b4c2-dd18cfea3428",
        "colab": {
          "base_uri": "https://localhost:8080/"
        }
      },
      "source": [
        "#GPU count and name\n",
        "!nvidia-smi -L"
      ],
      "execution_count": null,
      "outputs": [
        {
          "output_type": "stream",
          "name": "stdout",
          "text": [
            "GPU 0: Tesla T4 (UUID: GPU-1ca49f28-8277-c648-ffde-d37284d2baf6)\n"
          ]
        }
      ]
    },
    {
      "cell_type": "markdown",
      "metadata": {
        "id": "9D-t4TtCJeLM"
      },
      "source": [
        "## Load GYM environment"
      ]
    },
    {
      "cell_type": "code",
      "metadata": {
        "scrolled": false,
        "id": "Xwdf4vsHJeLN",
        "outputId": "68da1328-ba20-4179-c5ee-126accfd6392",
        "colab": {
          "base_uri": "https://localhost:8080/"
        }
      },
      "source": [
        "env = gym.make('CartPole-v0')\n",
        "\n",
        "STATE_LIMITS = env.observation_space\n",
        "NUM_ACTIONS = env.action_space.n\n",
        "\n",
        "print('Actions: {}'.format(NUM_ACTIONS))\n",
        "print('States limits:')\n",
        "for i in range(STATE_LIMITS.shape[0]):\n",
        "    print('[{}, {}]'.format(STATE_LIMITS.low[i], STATE_LIMITS.high[i]))"
      ],
      "execution_count": 3,
      "outputs": [
        {
          "output_type": "stream",
          "name": "stdout",
          "text": [
            "Actions: 2\n",
            "States limits:\n",
            "[-4.800000190734863, 4.800000190734863]\n",
            "[-3.4028234663852886e+38, 3.4028234663852886e+38]\n",
            "[-0.41887903213500977, 0.41887903213500977]\n",
            "[-3.4028234663852886e+38, 3.4028234663852886e+38]\n"
          ]
        },
        {
          "output_type": "stream",
          "name": "stderr",
          "text": [
            "/usr/local/lib/python3.8/dist-packages/gym/envs/registration.py:593: UserWarning: \u001b[33mWARN: The environment CartPole-v0 is out of date. You should consider upgrading to version `v1`.\u001b[0m\n",
            "  logger.warn(\n",
            "/usr/local/lib/python3.8/dist-packages/gym/core.py:317: DeprecationWarning: \u001b[33mWARN: Initializing wrapper in old step API which returns one bool instead of two. It is recommended to set `new_step_api=True` to use new step API. This will be the default behaviour in future.\u001b[0m\n",
            "  deprecation(\n",
            "/usr/local/lib/python3.8/dist-packages/gym/wrappers/step_api_compatibility.py:39: DeprecationWarning: \u001b[33mWARN: Initializing environment in old step API which returns one bool instead of two. It is recommended to set `new_step_api=True` to use new step API. This will be the default behaviour in future.\u001b[0m\n",
            "  deprecation(\n"
          ]
        }
      ]
    },
    {
      "cell_type": "markdown",
      "metadata": {
        "id": "auU0dXqEJeLQ"
      },
      "source": [
        "## Settings"
      ]
    },
    {
      "cell_type": "code",
      "metadata": {
        "id": "kSlPTNohJeLR"
      },
      "source": [
        "LR = 0.001\n",
        "gamma = 0.95\n",
        "\n",
        "NUM_EPISODES = 2000\n",
        "MAX_STEPS = 200\n",
        "REWARD_AVERAGE_WINDOW = 20"
      ],
      "execution_count": 4,
      "outputs": []
    },
    {
      "cell_type": "markdown",
      "metadata": {
        "id": "AFtnFh9-JeLW"
      },
      "source": [
        "## DQN Model"
      ]
    },
    {
      "cell_type": "code",
      "metadata": {
        "id": "SM8c4_EzJeLX"
      },
      "source": [
        "model = M.Sequential([\n",
        "    L.Dense(24, activation='relu'),\n",
        "    L.Dense(24, activation='relu'),\n",
        "    L.Dense(NUM_ACTIONS, activation=None, use_bias=False),\n",
        "])\n",
        "\n",
        "def evalQ(s):\n",
        "    return model(s[None, ...].astype(np.float32)).numpy()[0]"
      ],
      "execution_count": 5,
      "outputs": []
    },
    {
      "cell_type": "markdown",
      "metadata": {
        "id": "l1YFJEqmJeLb"
      },
      "source": [
        "## Prepare model for training"
      ]
    },
    {
      "cell_type": "code",
      "metadata": {
        "id": "7Rdpi_MHD8Op"
      },
      "source": [
        "#def loss(q1, q2):\n",
        "#    return tf.reduce_sum(tf.square(q1 - q2))\n",
        "\n",
        "optimizer = tf.keras.optimizers.Adam(learning_rate=LR)\n",
        "model.compile(loss='mse', optimizer=optimizer)\n",
        "\n",
        "pathLenList = []\n",
        "totalRewardList = []\n",
        "totalRewardAverageList = []"
      ],
      "execution_count": 6,
      "outputs": []
    },
    {
      "cell_type": "markdown",
      "metadata": {
        "id": "CjRC50GBJeLg"
      },
      "source": [
        "## DQN training"
      ]
    },
    {
      "cell_type": "code",
      "metadata": {
        "id": "PeHAhQmGJeLh",
        "outputId": "097e7b0f-7acc-442e-f44b-8353f01e95df",
        "colab": {
          "base_uri": "https://localhost:8080/"
        }
      },
      "source": [
        "for i in range(NUM_EPISODES):\n",
        "    \n",
        "    eps = 1./((i/50) + 10)\n",
        "    \n",
        "    s = env.reset()\n",
        "    \n",
        "    totalReward = 0\n",
        "    step = 0\n",
        "    \n",
        "    while step < MAX_STEPS:\n",
        "        step += 1\n",
        "\n",
        "        Q_s = evalQ(s)\n",
        "        \n",
        "        if np.random.rand() < eps:\n",
        "            a = env.action_space.sample()\n",
        "        else:\n",
        "            a = np.argmax(Q_s)\n",
        "\n",
        "        s1, r, done, _ = env.step(a)\n",
        "\n",
        "        Q_s1 = evalQ(s1)\n",
        "        \n",
        "        Q_target = Q_s\n",
        "        if done:\n",
        "            Q_target[a] = r\n",
        "        else:\n",
        "            Q_target[a] = r + gamma * np.max(Q_s1)\n",
        " \n",
        "        model.train_on_batch(s[None, ...].astype(np.float32), Q_target[None, ...])\n",
        "\n",
        "        totalReward += r\n",
        "        s = s1\n",
        "        \n",
        "        if done:\n",
        "            break\n",
        "            \n",
        "    pathLenList.append(step)\n",
        "    totalRewardList.append(totalReward)\n",
        "\n",
        "    if i % REWARD_AVERAGE_WINDOW == 0 and i >= REWARD_AVERAGE_WINDOW:\n",
        "        totalRewardAverage = np.mean(totalRewardList[-REWARD_AVERAGE_WINDOW:])\n",
        "        totalRewardAverageList.append(totalRewardAverage)\n",
        "        if i % 100 == 0:\n",
        "            print('Episode {}: average total reward = {}'.format(i, totalRewardAverage))"
      ],
      "execution_count": 14,
      "outputs": [
        {
          "output_type": "stream",
          "name": "stdout",
          "text": [
            "Episode 100: average total reward = 11.0\n",
            "Episode 200: average total reward = 19.45\n",
            "Episode 300: average total reward = 18.25\n",
            "Episode 400: average total reward = 39.1\n",
            "Episode 500: average total reward = 46.9\n",
            "Episode 600: average total reward = 32.9\n",
            "Episode 700: average total reward = 63.55\n",
            "Episode 800: average total reward = 83.65\n",
            "Episode 900: average total reward = 98.75\n",
            "Episode 1000: average total reward = 134.2\n",
            "Episode 1100: average total reward = 29.85\n",
            "Episode 1200: average total reward = 14.5\n",
            "Episode 1300: average total reward = 179.4\n",
            "Episode 1400: average total reward = 98.3\n",
            "Episode 1500: average total reward = 130.55\n",
            "Episode 1600: average total reward = 138.7\n",
            "Episode 1700: average total reward = 137.75\n",
            "Episode 1800: average total reward = 106.1\n",
            "Episode 1900: average total reward = 166.3\n"
          ]
        }
      ]
    },
    {
      "cell_type": "markdown",
      "metadata": {
        "id": "1Er0TlkRJeLk"
      },
      "source": [
        "## Plot trajectory length over time"
      ]
    },
    {
      "cell_type": "code",
      "metadata": {
        "id": "qrvJlQT1RJai",
        "outputId": "010287bb-b0e6-4c3f-db64-d687feed7b64",
        "colab": {
          "base_uri": "https://localhost:8080/",
          "height": 265
        }
      },
      "source": [
        "plt.plot(pathLenList)\n",
        "plt.grid()"
      ],
      "execution_count": 15,
      "outputs": [
        {
          "output_type": "display_data",
          "data": {
            "text/plain": [
              "<Figure size 432x288 with 1 Axes>"
            ],
            "image/png": "[encoded data removed]"
          },
          "metadata": {
            "needs_background": "light"
          }
        }
      ]
    },
    {
      "cell_type": "markdown",
      "metadata": {
        "id": "hB10VTaVJeLn"
      },
      "source": [
        "## Plot average total reward over time"
      ]
    },
    {
      "cell_type": "code",
      "metadata": {
        "id": "SvdDw66qJeLo",
        "outputId": "1f935e89-3856-4f4e-c706-598f79778c10",
        "colab": {
          "base_uri": "https://localhost:8080/",
          "height": 265
        }
      },
      "source": [
        "plt.plot(totalRewardAverageList)\n",
        "plt.grid()"
      ],
      "execution_count": 16,
      "outputs": [
        {
          "output_type": "display_data",
          "data": {
            "text/plain": [
              "<Figure size 432x288 with 1 Axes>"
            ],
            "image/png": "[encoded data removed]"
          },
          "metadata": {
            "needs_background": "light"
          }
        }
      ]
    },
    {
      "cell_type": "code",
      "metadata": {
        "id": "SjKtnoczJeLr"
      },
      "source": [
        "RECORD_VIDEO = True\n",
        "\n",
        "if RECORD_VIDEO:\n",
        "  \n",
        "    !pip install pyvirtualdisplay > /dev/null 2>&1\n",
        "    !apt-get install -y xvfb python-opengl ffmpeg > /dev/null 2>&1\n",
        "\n",
        "    from pyvirtualdisplay import Display\n",
        "    display = Display(visible=0, size=(1400, 900))\n",
        "    display.start()"
      ],
      "execution_count": 7,
      "outputs": []
    },
    {
      "cell_type": "markdown",
      "metadata": {
        "id": "zdasuT4IJeLu"
      },
      "source": [
        "## Run simulation"
      ]
    },
    {
      "cell_type": "code",
      "metadata": {
        "id": "yFq_vsynR68Z",
        "outputId": "2bd9abfa-a44d-4d25-e70d-9e8c9dcface5",
        "colab": {
          "base_uri": "https://localhost:8080/"
        }
      },
      "source": [
        "USE_Q = True\n",
        "\n",
        "if RECORD_VIDEO:\n",
        "    from gym.wrappers.record_video import RecordVideo\n",
        "    env_sim = RecordVideo(env, './video',  episode_trigger = lambda episode_number: True)\n",
        "else:\n",
        "    env_sim = env\n",
        "    \n",
        "s = env_sim.reset()\n",
        "totalReward = 0\n",
        "\n",
        "for _ in range(1000):\n",
        "    env_sim.render()\n",
        "    if USE_Q:\n",
        "        a = np.argmax(evalQ(s))\n",
        "    else:\n",
        "        a = env_sim.action_space.sample()    \n",
        "    s, r, done, _ = env_sim.step(a)\n",
        "    totalReward += r\n",
        "    if done:\n",
        "        break\n",
        "       \n",
        "    if not RECORD_VIDEO:\n",
        "        time.sleep(1./30)\n",
        "        \n",
        "env_sim.close()\n",
        "\n",
        "print('Total reward = {}'.format(totalReward))"
      ],
      "execution_count": 17,
      "outputs": [
        {
          "output_type": "stream",
          "name": "stderr",
          "text": [
            "/usr/local/lib/python3.8/dist-packages/gym/core.py:317: DeprecationWarning: \u001b[33mWARN: Initializing wrapper in old step API which returns one bool instead of two. It is recommended to set `new_step_api=True` to use new step API. This will be the default behaviour in future.\u001b[0m\n",
            "  deprecation(\n",
            "/usr/local/lib/python3.8/dist-packages/gym/wrappers/record_video.py:78: UserWarning: \u001b[33mWARN: Overwriting existing videos at /content/video folder (try specifying a different `video_folder` for the `RecordVideo` wrapper if this is not desired)\u001b[0m\n",
            "  logger.warn(\n",
            "/usr/local/lib/python3.8/dist-packages/gym/wrappers/monitoring/video_recorder.py:78: DeprecationWarning: \u001b[33mWARN: Recording ability for environment CartPole-v0 initialized with `render_mode=None` is marked as deprecated and will be removed in the future.\u001b[0m\n",
            "  logger.deprecation(\n",
            "/usr/local/lib/python3.8/dist-packages/gym/core.py:49: DeprecationWarning: \u001b[33mWARN: You are calling render method, but you didn't specified the argument render_mode at environment initialization. To maintain backward compatibility, the environment will render in human mode.\n",
            "If you want to render in human mode, initialize the environment in this way: gym.make('EnvName', render_mode='human') and don't call the render method.\n",
            "See here for more information: https://www.gymlibrary.ml/content/api/\u001b[0m\n",
            "  deprecation(\n",
            "/usr/local/lib/python3.8/dist-packages/gym/core.py:43: DeprecationWarning: \u001b[33mWARN: The argument mode in render method is deprecated; use render_mode during environment initialization instead.\n",
            "See here for more information: https://www.gymlibrary.ml/content/api/\u001b[0m\n",
            "  deprecation(\n"
          ]
        },
        {
          "output_type": "stream",
          "name": "stdout",
          "text": [
            "Total reward = 191.0\n"
          ]
        }
      ]
    },
    {
      "cell_type": "markdown",
      "metadata": {
        "id": "lNE57fAVMbkf"
      },
      "source": [
        "## Show the video"
      ]
    },
    {
      "cell_type": "code",
      "metadata": {
        "id": "8aTM0iwhJtl4",
        "outputId": "35b9f3e8-0ed4-4122-e685-c02a31542ae5",
        "colab": {
          "base_uri": "https://localhost:8080/",
          "height": 421
        }
      },
      "source": [
        "def show_video():\n",
        "    import glob\n",
        "    import io\n",
        "    import base64\n",
        "    from IPython.display import HTML\n",
        "    from IPython import display as ipythondisplay\n",
        "\n",
        "    mp4list = glob.glob('video/*.mp4')\n",
        "    if len(mp4list) > 0:\n",
        "        mp4 = mp4list[0]\n",
        "        video = io.open(mp4, 'r+b').read()\n",
        "        encoded = base64.b64encode(video)\n",
        "        ipythondisplay.display(HTML(data='''<video alt=\"test\" autoplay \n",
        "            loop controls style=\"height: 400px;\">\n",
        "            <source src=\"data:video/mp4;base64,{0}\" type=\"video/mp4\" />\n",
        "            </video>'''.format(encoded.decode('ascii'))))\n",
        "    else: \n",
        "        print(\"Could not find video\")\n",
        "    \n",
        "show_video()"
      ],
      "execution_count": 18,
      "outputs": [
        {
          "output_type": "display_data",
          "data": {
            "text/plain": [
              "<IPython.core.display.HTML object>"
            ],
            "text/html": [
              "<video alt=\"test\" autoplay \n",
              "            loop controls style=\"height: 400px;\">\n",
              "            <source src=\"data:video/mp4;base64,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\" type=\"video/mp4\" />\n",
              "            </video>"
            ]
          },
          "metadata": {}
        }
      ]
    }
  ]
}