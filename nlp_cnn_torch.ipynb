{
  "cells": [
    {
      "cell_type": "markdown",
      "metadata": {
        "id": "view-in-github",
        "colab_type": "text"
      },
      "source": [
        "<a href=\"https://colab.research.google.com/github/wizard339/education/blob/main/nlp_cnn_torch.ipynb\" target=\"_parent\"><img src=\"https://colab.research.google.com/assets/colab-badge.svg\" alt=\"Open In Colab\"/></a>"
      ]
    },
    {
      "cell_type": "markdown",
      "metadata": {
        "id": "f9ww-OrGOGYU"
      },
      "source": [
        "# Финальное задание NLP-1. Векторные представления слов"
      ]
    },
    {
      "cell_type": "markdown",
      "metadata": {
        "id": "-a5gmEzBONkB"
      },
      "source": [
        "В рамках данного задания вы отработаете навыки: \n",
        "\n",
        "*   Обработки текстовых данных\n",
        "*   Написания и обучения токенизатора, который борется с проблемой OOV\n",
        "*   Загрузки предобученных на большом языковом корпусе данных векторов\n",
        "*   Имплементации статьи из arxiv для решения типовой задачи классификации текстов\n",
        "\n",
        "\n"
      ]
    },
    {
      "cell_type": "markdown",
      "metadata": {
        "id": "tKD8njsYRFdI"
      },
      "source": [
        "После прохождения всех заданий вы также научитесь загружать предобученные веса и размораживать веса для дотренировки модели. Вы также используете библиотеку 🤗 Tokenizers для того, чтобы написать свой кастомный токенизатор и обучить его. \n",
        "\n",
        "В итоге вы напишете компакнутную нейронную сеть для задачи классификации, показывающую достаточно высокое качество, при этом совсем не требовательную к вычислительным ресурсам."
      ]
    },
    {
      "cell_type": "markdown",
      "metadata": {
        "id": "F4F8AlBqsyb2"
      },
      "source": [
        "# Installing dependencies\n",
        "\n",
        "**Тут есть важное действие, которое тебе нужно сделать перед тем, как запускать этот ноутбук**\n",
        "\n",
        "Если вы делаете это задание в Google Colab, первым делом переключите Runtime в GPU. Это задание нормально посчитается и на CPU, но некоторые из будущих кейсов потребуют GPU (либо вам придётся несколько часов, или даже дней, чтобы модель обучилась — и мы не преувеличиваем). Ещё мы рекомендуем переключить язык интерфейса Colab на английский, потому что русская локализация ужасна, да и вообще не нужна.\n",
        "\n",
        "[Тут](https://www.geeksforgeeks.org/how-to-use-google-colab/) о том, как переключить рантайм."
      ]
    },
    {
      "cell_type": "markdown",
      "metadata": {
        "id": "abK0mO7ksyXx"
      },
      "source": [
        "Для начала установим необходимые пакеты, перенаправив вывод с экрана в пустоту:"
      ]
    },
    {
      "cell_type": "code",
      "execution_count": 1,
      "metadata": {
        "id": "3rwo4XXss7JO"
      },
      "outputs": [],
      "source": [
        "!pip install bpemb > /dev/null\n",
        "!pip install datasets > /dev/null\n",
        "!pip install tokenizers > /dev/null"
      ]
    },
    {
      "cell_type": "markdown",
      "metadata": {
        "id": "Xn7UrV_0sySg"
      },
      "source": [
        "В этом модуле вы познакомились с представлением слова как векторов. \n",
        "Вы, конечно, уже использовали векторные представления и работали с ними, но важно знать, с чего все начиналось, и какими инструментами пользовались раньше.\n",
        "\n",
        "В этом кейсе мы не будем использовать WordNet, и даже Word2Vec — сейчас он уже устарел и практически не используется для реальных задач, но все же необходимо понимать его основные принципы, так как многие более современные модели основаны именно на нем. \n",
        "\n",
        "В качестве данных для задачи классификации будем использовать датасет об отзывах на фильмы и сериалы с сайта IMDB. В этом датасете данные разделены на две категории - положительный и негативный отзыв.\n",
        "\n",
        "\n"
      ]
    },
    {
      "cell_type": "markdown",
      "metadata": {
        "id": "6DHcfRz2xQHz"
      },
      "source": [
        "## Импортируем все необходимые библиотеки"
      ]
    },
    {
      "cell_type": "code",
      "execution_count": 2,
      "metadata": {
        "id": "_pUrnPnlsKNx"
      },
      "outputs": [],
      "source": [
        "import random\n",
        "import collections\n",
        "import os\n",
        "\n",
        "from sklearn.model_selection import KFold\n",
        "\n",
        "from bpemb import BPEmb\n",
        "\n",
        "import torch\n",
        "import torch.nn as nn\n",
        "import torch.nn.functional as F\n",
        "\n",
        "import numpy as np\n",
        "import pandas as pd\n",
        "\n",
        "import datasets\n",
        "\n",
        "from tqdm.auto import tqdm\n",
        "\n",
        "import matplotlib.pyplot as plt"
      ]
    },
    {
      "cell_type": "markdown",
      "metadata": {
        "id": "pH6YfqZOxbet"
      },
      "source": [
        "## Загрузим данные"
      ]
    },
    {
      "cell_type": "code",
      "execution_count": 3,
      "metadata": {
        "colab": {
          "base_uri": "https://localhost:8080/",
          "height": 86,
          "referenced_widgets": [
            "36fed707c9e9417bb4feb35ccbc647b7",
            "f94f05a260f14bd9aebb3887364d0431",
            "38b33cb947ab4159bf14d9b7c63e521c",
            "a542cf5821114cd8b73ffc2fecc54ff4",
            "a360cd5786c44a19bdbb78c2574d2340",
            "be83824fdc1b4d3f84419bd1a1ec353a",
            "cdf7e294ceee478abbd73bcb2d47f40f",
            "c65287f6ab304a3f9eba9d51248a414d",
            "684b1ac8fc9c4e35ac1179aec3f01c34",
            "c1af1e84cfb04f0491a2b768d3f878fe",
            "8a281e25372e4faebd1f717b94e12671"
          ]
        },
        "id": "hsVhSUrtxWRG",
        "outputId": "039f19cf-7434-4468-cd91-e3b52bb184aa"
      },
      "outputs": [
        {
          "output_type": "stream",
          "name": "stderr",
          "text": [
            "WARNING:datasets.builder:Found cached dataset imdb (/root/.cache/huggingface/datasets/imdb/plain_text/1.0.0/2fdd8b9bcadd6e7055e742a706876ba43f19faee861df134affd7a3f60fc38a1)\n"
          ]
        },
        {
          "output_type": "display_data",
          "data": {
            "text/plain": [
              "  0%|          | 0/3 [00:00<?, ?it/s]"
            ],
            "application/vnd.jupyter.widget-view+json": {
              "version_major": 2,
              "version_minor": 0,
              "model_id": "36fed707c9e9417bb4feb35ccbc647b7"
            }
          },
          "metadata": {}
        }
      ],
      "source": [
        "text_dataset = datasets.load_dataset(\"imdb\")"
      ]
    },
    {
      "cell_type": "markdown",
      "metadata": {
        "id": "9wo-Xld0TfPA"
      },
      "source": [
        "**IMDB** — это датасет по классификации эмоциональной окраски. Вам нужно предсказать положительный ли отзыв к фильму по его тексту. Это довольно простая и распротранненая задача и она хорошо решается даже линейными моделями. Для доступа к нему мы используем библиотеку `datasets` - она содержит в себе много интересных текстовых датасетов.\n",
        "\n",
        "Тренировочная и тестовая части IMDB достаточно большие - каждая состоит из 25 тысяч примеров."
      ]
    },
    {
      "cell_type": "markdown",
      "metadata": {
        "id": "PjNAbHtFUoPn"
      },
      "source": [
        "Как мы видим, классы сбалансированны, что позволяет использовать accuracy как простую и интерпретируемую метрику, хорошо показывающую качество модели."
      ]
    },
    {
      "cell_type": "code",
      "execution_count": 4,
      "metadata": {
        "colab": {
          "base_uri": "https://localhost:8080/",
          "height": 265
        },
        "id": "VPksQ61kU7T5",
        "outputId": "3d3af4ae-6d00-454d-82ae-b68de88727a7"
      },
      "outputs": [
        {
          "output_type": "display_data",
          "data": {
            "text/plain": [
              "<Figure size 432x288 with 1 Axes>"
            ],
            "image/png": "[encoded data removed]"
          },
          "metadata": {
            "needs_background": "light"
          }
        }
      ],
      "source": [
        "pd.DataFrame(text_dataset['train'], columns=['label', 'text'])['label'].hist();"
      ]
    },
    {
      "cell_type": "markdown",
      "metadata": {
        "id": "sagwqDHtxpxg"
      },
      "source": [
        "## Задание 1"
      ]
    },
    {
      "cell_type": "markdown",
      "metadata": {
        "id": "GPK_SQsVxwav"
      },
      "source": [
        "Давайте обучим свой SentencePiece токенизатор для нашего тренировочного датасета. Многие самые последние модели (Т5, XLNet, ALBERT), показывающие SoTA результаты в NLP, используют именно его."
      ]
    },
    {
      "cell_type": "code",
      "execution_count": 5,
      "metadata": {
        "id": "jfY3qCwExouS"
      },
      "outputs": [],
      "source": [
        "from tokenizers import SentencePieceBPETokenizer"
      ]
    },
    {
      "cell_type": "code",
      "execution_count": 6,
      "metadata": {
        "id": "cK-poPdSx7po"
      },
      "outputs": [],
      "source": [
        "special_tokens = [\"[PAD]\", \"[UNK]\", \"[CLS]\", \"[SEP]\", \"[MASK]\"]"
      ]
    },
    {
      "cell_type": "code",
      "execution_count": 7,
      "metadata": {
        "id": "iuhYv49yx9mX"
      },
      "outputs": [],
      "source": [
        "tokenizer = SentencePieceBPETokenizer(\n",
        "    unk_token=\"<unk>\",\n",
        "    replacement=\"▁\",\n",
        "    add_prefix_space=True,\n",
        "    dropout=0.9,\n",
        "    fuse_unk=False,\n",
        ")"
      ]
    },
    {
      "cell_type": "markdown",
      "metadata": {
        "id": "pemAz91fWyop"
      },
      "source": [
        "Давайте посмотрим, как обрабатывает данные необученный токенизатор:"
      ]
    },
    {
      "cell_type": "code",
      "execution_count": 8,
      "metadata": {
        "id": "Mz9rmGMCWp2J",
        "colab": {
          "base_uri": "https://localhost:8080/"
        },
        "outputId": "a00001a0-c0de-4136-d037-8d9a4e3499fe"
      },
      "outputs": [
        {
          "output_type": "execute_result",
          "data": {
            "text/plain": [
              "([], [])"
            ]
          },
          "metadata": {},
          "execution_count": 8
        }
      ],
      "source": [
        "encoded = tokenizer.encode('Simple example of text')\n",
        "encoded.ids, encoded.tokens"
      ]
    },
    {
      "cell_type": "markdown",
      "metadata": {
        "id": "vBmylAGiXXsk"
      },
      "source": [
        "Как видим, необученный токенизатор не умеет предобрабатывать данные"
      ]
    },
    {
      "cell_type": "markdown",
      "metadata": {
        "id": "nUz0KicjyDOH"
      },
      "source": [
        "Обучите токенизатор, используя батчевую загрузку на данных тренировочного датасета (примените функцию train_from_iterator).\n",
        "\n",
        "Для обучения используйте следующие параметры - размер словаря = 30000, минимальную частоту = 2, специальные токены из списка, который мы проинициализировали выше и префикс = '_'"
      ]
    },
    {
      "cell_type": "code",
      "execution_count": 9,
      "metadata": {
        "id": "1ydPenzLyAba"
      },
      "outputs": [],
      "source": [
        "# YOUR CODE STARTS\n",
        "def batch_iterator(batch_size=1000):\n",
        "  for i in range(0, len(text_dataset['train']), batch_size):\n",
        "    yield text_dataset['train'][i: i + batch_size]['text']\n",
        "\n",
        "tokenizer.train_from_iterator(\n",
        "    iterator=batch_iterator(),\n",
        "    vocab_size=30000,\n",
        "    min_frequency=2,\n",
        "    special_tokens=special_tokens\n",
        "    )\n",
        "# YOUR CODE ENDS"
      ]
    },
    {
      "cell_type": "code",
      "execution_count": 10,
      "metadata": {
        "colab": {
          "base_uri": "https://localhost:8080/"
        },
        "id": "qS25i95eyNQT",
        "outputId": "c7a8250c-84b0-4441-d411-9ad64d0fd11a"
      },
      "outputs": [
        {
          "output_type": "execute_result",
          "data": {
            "text/plain": [
              "['./vocab.json', './merges.txt']"
            ]
          },
          "metadata": {},
          "execution_count": 10
        }
      ],
      "source": [
        "tokenizer.save_model('./')"
      ]
    },
    {
      "cell_type": "markdown",
      "metadata": {
        "id": "aecU1csdWmb3"
      },
      "source": [
        "Посмотрим как теперь обрабатывает текст токенизатор:"
      ]
    },
    {
      "cell_type": "code",
      "execution_count": 11,
      "metadata": {
        "id": "ckRgPHHvXvlr",
        "colab": {
          "base_uri": "https://localhost:8080/"
        },
        "outputId": "6cb3ddb3-e584-44f1-fccf-d2cb15c0b498"
      },
      "outputs": [
        {
          "output_type": "execute_result",
          "data": {
            "text/plain": [
              "([14860, 1718, 208, 5132], ['▁Simple', '▁example', '▁of', '▁text'])"
            ]
          },
          "metadata": {},
          "execution_count": 11
        }
      ],
      "source": [
        "tokenizer = SentencePieceBPETokenizer('./vocab.json', './merges.txt')\n",
        "encoded = tokenizer.encode('Simple example of text')\n",
        "encoded.ids, encoded.tokens"
      ]
    },
    {
      "cell_type": "markdown",
      "metadata": {
        "id": "UskP___UE575"
      },
      "source": [
        "Проверка успешности вашего кода:"
      ]
    },
    {
      "cell_type": "code",
      "execution_count": 12,
      "metadata": {
        "id": "2RXpPXFoyRrE"
      },
      "outputs": [],
      "source": [
        "tokenizer = SentencePieceBPETokenizer('./vocab.json', './merges.txt')\n",
        "assert len(os.listdir('./')) >= 3\n",
        "assert tokenizer.get_vocab_size() == 30000\n",
        "assert len(tokenizer.encode('Simple example of text').ids) > 0"
      ]
    },
    {
      "cell_type": "markdown",
      "metadata": {
        "id": "YgM1zm_1ycIz"
      },
      "source": [
        "## Задание 2"
      ]
    },
    {
      "cell_type": "markdown",
      "metadata": {
        "id": "X_2gjr5wjIu2"
      },
      "source": [
        "Теперь перейдем к работе с предобученными языковыми векторами. В современных задачах NLP редко встречаются задачи, для которых необходимо с нуля обучать модель на данных только вашего тренировочного датасета. \n",
        "\n",
        "Используя предобученные вектора, мы можем использовать знание контекста слов в нашей задаче, а также если вдруг нам попадутся слова с опечатками, то по контексту мы сможем корректно их обработать.\n",
        "\n",
        "Еще одним плюсом использования предобученных весов будет ускорение обучения модели, для достижения более точных результатов."
      ]
    },
    {
      "cell_type": "markdown",
      "metadata": {
        "id": "7CN1tNvRkOOq"
      },
      "source": [
        "Так как мы используем датасет на английском языке, давайте скачаем вектора обученные на большом корпусе анлийского языка, и использующие BPE токенизацию."
      ]
    },
    {
      "cell_type": "markdown",
      "metadata": {
        "id": "yPHb509CycCZ"
      },
      "source": [
        "Скачайте предобученные [BPE](https://github.com/bheinzerling/bpemb) эмбеддинги для английского языка, с размером словаря `vocab_size` и размеростью `dim`. "
      ]
    },
    {
      "cell_type": "code",
      "execution_count": 13,
      "metadata": {
        "id": "-K1vaifuyX5O"
      },
      "outputs": [],
      "source": [
        "vocab_size = 100000\n",
        "dim = 300"
      ]
    },
    {
      "cell_type": "code",
      "execution_count": 14,
      "metadata": {
        "id": "qeoJmnPk0Kvc"
      },
      "outputs": [],
      "source": [
        "# YOUR CODE STARTS\n",
        "bpemb_en = BPEmb(lang='en', vs=vocab_size, dim=dim)\n",
        "# YOUR CODE ENDS\n"
      ]
    },
    {
      "cell_type": "markdown",
      "metadata": {
        "id": "e-ySJHEc0RCD"
      },
      "source": [
        "Проверка успешности вашего кода:"
      ]
    },
    {
      "cell_type": "code",
      "execution_count": 15,
      "metadata": {
        "id": "dfBsHy1B0Omu"
      },
      "outputs": [],
      "source": [
        "assert bpemb_en is not None\n",
        "assert bpemb_en.vectors.shape == (100000, 300)\n",
        "assert bpemb_en.most_similar(\"skill\")[2][1] > 0.3\n",
        "assert bpemb_en.encode_ids('skillfactory') == [9725, 31214]"
      ]
    },
    {
      "cell_type": "markdown",
      "metadata": {
        "id": "ePtAAjZV0t8a"
      },
      "source": [
        "## Задание 3"
      ]
    },
    {
      "cell_type": "markdown",
      "metadata": {
        "id": "TvEAq90X0xhP"
      },
      "source": [
        "Давайте освоим очень полезный навык — инициализацию линейного слоя специальными векторами. Это очень часто нужно, когда мы скачиваем предобученные веса, как, например, в нашем задании. \n",
        "\n",
        "Или другой пример: вам попалась обученная нейронная сеть, которая очень долго обучалась, но архитектура вашей сети немного отличается. Тогда вы можете взять веса из уже обученной сети, который совпадает по размерностям с вашей сетью, и немного дообучить остальные веса под вашу задачу."
      ]
    },
    {
      "cell_type": "markdown",
      "metadata": {
        "id": "AlqUgWV701fz"
      },
      "source": [
        "Создадим 10 случайных векторов размерности 50, которые будут заменять нам предобученные эмбеддинги, и простой линейный слой таких же размерностей (10, 50)."
      ]
    },
    {
      "cell_type": "code",
      "execution_count": 16,
      "metadata": {
        "id": "8ili14Dy0i0Z"
      },
      "outputs": [],
      "source": [
        "some_vectors = torch.rand((10,50), dtype=torch.float32)"
      ]
    },
    {
      "cell_type": "code",
      "execution_count": 17,
      "metadata": {
        "id": "mbT_5MIr04dY"
      },
      "outputs": [],
      "source": [
        "custom_layer = nn.Embedding(10, 50)"
      ]
    },
    {
      "cell_type": "markdown",
      "metadata": {
        "id": "PnY2eaE81BPT"
      },
      "source": [
        "Проинициализируем веса линейного слоя сгенерированными ранее эмбеддингами:"
      ]
    },
    {
      "cell_type": "code",
      "execution_count": 18,
      "metadata": {
        "id": "WfMepbDL06ZN"
      },
      "outputs": [],
      "source": [
        "custom_layer.weight = nn.Parameter(some_vectors.clone().detach().requires_grad_(True))"
      ]
    },
    {
      "cell_type": "markdown",
      "metadata": {
        "id": "TUMJGheK1Q3J"
      },
      "source": [
        "Создайте линейный слой и проинициализируйте его загруженными векторами BPE:"
      ]
    },
    {
      "cell_type": "code",
      "execution_count": 19,
      "metadata": {
        "id": "zNqv4_3_1D_L"
      },
      "outputs": [],
      "source": [
        "# YOUR CODE STARTS\n",
        "\n",
        "embedding = nn.Embedding(*bpemb_en.vectors.shape)\n",
        "bpemb_vectors = torch.tensor(bpemb_en.vectors)\n",
        "embedding.weight = nn.Parameter(bpemb_vectors.clone().detach().requires_grad_(True))\n",
        "\n",
        "# YOUR CODE ENDS"
      ]
    },
    {
      "cell_type": "markdown",
      "metadata": {
        "id": "EOjcNt6S1b3X"
      },
      "source": [
        "Проверим успешность вашего кода:"
      ]
    },
    {
      "cell_type": "code",
      "execution_count": 20,
      "metadata": {
        "id": "8h4-VJwY1ZYg"
      },
      "outputs": [],
      "source": [
        "assert embedding is not None\n",
        "assert embedding.weight.shape == (100000, 300)\n",
        "assert embedding.weight.sum(axis=1)[23] < -6\n",
        "assert embedding.weight[2] @ embedding.weight[22] > 1.6"
      ]
    },
    {
      "cell_type": "markdown",
      "metadata": {
        "id": "R1vUiOzg1i5T"
      },
      "source": [
        "## Задание 4"
      ]
    },
    {
      "cell_type": "markdown",
      "metadata": {
        "id": "UEnNOjWR1vzN"
      },
      "source": [
        "Давайте теперь освоим/закрепим еще один полезный навык — конкатенацию векторов и конкатенацию выходов слоев нейронной сети. \n",
        "\n",
        "Это также необходимое знание, потому что механизм skip connections по сути реализован за счет конкатенации выходов с предыдущего слоя нейронной сети с выходом текущего слоя.\n",
        "\n",
        "Основная цель конкатенации: добавить информации с предыдущих слоев в общий вектор, чтобы в нем содержалась информация разного масштаба (одни свертки проходят меньшим окном по тексту, другие бОльшим)."
      ]
    },
    {
      "cell_type": "markdown",
      "metadata": {
        "id": "3tUAYYWQ46iJ"
      },
      "source": [
        "![Снимок экрана 2021-05-29 в 14.28.06.png](data:image/png;base64,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)"
      ]
    },
    {
      "cell_type": "markdown",
      "metadata": {
        "id": "x9iG4H3b5Kl5"
      },
      "source": [
        "Напишем крошечную нейронную сеть, состоящую из линейного слоя, пары сверточных слоев и одного выходного слоя. Как вы уже догадались, сверточные слои мы будем конкатенировать друг с другом."
      ]
    },
    {
      "cell_type": "code",
      "execution_count": 21,
      "metadata": {
        "id": "DgMTxidC1e75"
      },
      "outputs": [],
      "source": [
        "class SimpleNN(nn.Module):\n",
        "  def __init__(self, input_dim, hidden_dim, n_classes, n_filters):\n",
        "    super(SimpleNN, self).__init__()\n",
        "\n",
        "    self.kernel_num = n_filters\n",
        "\n",
        "    self.embedding = nn.Embedding(input_dim, hidden_dim)\n",
        "\n",
        "    self.embedding.weight.requires_grad = False  # по желанию мы можем заморозить веса некоторого слоя, чтобы не обучать их,\n",
        "                                                 # а через несколько эпох обучения разморозить\n",
        "\n",
        "    self.conv1 = nn.Conv2d(1, self.kernel_num, (2, hidden_dim))\n",
        "    self.conv2 = nn.Conv2d(1, self.kernel_num, (4, hidden_dim))\n",
        "\n",
        "    self.dropout = nn.Dropout2d(0.5)\n",
        "    self.fc1 = nn.Linear(2 * self.kernel_num, n_classes)  # 2 * self.kernel_num - после конкатенации мы вытянем в один вектор оба выхода сверточной сети\n",
        "\n",
        "\n",
        "  def forward(self, x):\n",
        "    x = self.embedding(x)\n",
        "    x = x.unsqueeze(1)  # добавим одну размерность, потому что у сверточных слоев есть параметр \"количество фильтров\"\n",
        "    \n",
        "    conv_out_1 = F.relu(self.conv1(x)).squeeze(3)  # последняя размерность получилась после применения свертки, она нам больше не нужна\n",
        "    conv_out_2 = F.relu(self.conv2(x)).squeeze(3)\n",
        "\n",
        "    conv_out_1 = F.max_pool1d(conv_out_1, conv_out_1.size(2)).squeeze(2)  # используем MaxPooling, потому что нам нужно смотреть на весь текст,\n",
        "                                                                          #  а не на конкретный фильтр, как это было в сверточных сетях в CV\n",
        "    conv_out_2 = F.max_pool1d(conv_out_2, conv_out_2.size(2)).squeeze(2)\n",
        "\n",
        "    x = torch.cat([conv_out_1, conv_out_2], 1)\n",
        "\n",
        "    x = self.dropout(x)\n",
        "    logit = self.fc1(x)\n",
        "\n",
        "    return logit"
      ]
    },
    {
      "cell_type": "code",
      "execution_count": 22,
      "metadata": {
        "colab": {
          "base_uri": "https://localhost:8080/"
        },
        "id": "QkKIuUyu5N5p",
        "outputId": "f6a28c5a-4c40-4084-c4e6-a7f6d51a8d3c"
      },
      "outputs": [
        {
          "output_type": "execute_result",
          "data": {
            "text/plain": [
              "[50, 50, 50, 50, 2, 2]"
            ]
          },
          "metadata": {},
          "execution_count": 22
        }
      ],
      "source": [
        "net = SimpleNN(100, 30, 2, 50)\n",
        "[len(param) for param in net.parameters() if param.requires_grad == True]"
      ]
    },
    {
      "cell_type": "markdown",
      "metadata": {
        "id": "GDwkoq0q5WCi"
      },
      "source": [
        "Напишите класс для нейронной сети, которая будет принимать на вход параметры: входная размерность, размерность скрытого слоя, количество классов, количество фильтров для сверточных слоев и матрица векторов.\n",
        "\n",
        "Проинициализируйте линейный слой векторами предобученных эмбеддингов и заморозьте веса этого слоя.\n",
        "\n",
        "У сети должно быть два сверточных слоя с kernel size 2 и 4.\n",
        "Количество фильтров должно быть равным 100.\n",
        "Количество классов оставим равным 2."
      ]
    },
    {
      "cell_type": "code",
      "execution_count": 23,
      "metadata": {
        "id": "ucvJQ7X35Qh_"
      },
      "outputs": [],
      "source": [
        "class TaskNN(nn.Module):\n",
        "  def __init__(self,\n",
        "               input_dim, hidden_dim,\n",
        "               n_classes, n_filters, embedding_matrix):\n",
        "    # YOUR CODE STARTS\n",
        "\n",
        "    super(TaskNN, self).__init__()\n",
        "\n",
        "    self.kernel_num = n_filters\n",
        "\n",
        "    self.embedding = nn.Embedding(input_dim, hidden_dim)\n",
        "    self.embedding.weights = nn.Parameter(embedding_matrix.clone().detach())\n",
        "    self.embedding.weights.requires_grad = False\n",
        "\n",
        "    self.conv1 = nn.Conv2d(1, self.kernel_num, (2, hidden_dim))\n",
        "    self.conv2 = nn.Conv2d(1, self.kernel_num, (4, hidden_dim))\n",
        "\n",
        "    self.dropout = nn.Dropout2d(0.5)\n",
        "    self.fc1 = nn.Linear(2 * self.kernel_num, n_classes)\n",
        "\n",
        "  def forward(self, x):\n",
        "    x = self.embedding(x)\n",
        "    x = x.unsqueeze(1)\n",
        "\n",
        "    conv_out_1 = F.relu(self.conv1(x)).squeeze(3)\n",
        "    conv_out_2 = F.relu(self.conv2(x)).squeeze(3)\n",
        "\n",
        "    conv_out_1 = F.max_pool1d(conv_out_1, conv_out_1.size(2)).squeeze(2)\n",
        "    conv_out_2 = F.max_pool1d(conv_out_2, conv_out_2.size(2)).squeeze(2)\n",
        "\n",
        "    x = torch.cat([conv_out_1, conv_out_2], 1)\n",
        "\n",
        "    x = self.dropout(x)\n",
        "    logit = self.fc1(x)\n",
        "\n",
        "    return logit\n",
        "    # YOUR CODE ENDS"
      ]
    },
    {
      "cell_type": "code",
      "execution_count": 24,
      "metadata": {
        "id": "UXnTZtqM5gN1"
      },
      "outputs": [],
      "source": [
        "# assert \n",
        "task_model = TaskNN(vocab_size, dim, 2, 100, bpemb_vectors)\n",
        "assert sum([len(param) for param in task_model.parameters() if param.requires_grad == True]) == 100404\n",
        "assert sum([len(param) for param in task_model.parameters() if param.requires_grad == False]) == 100000"
      ]
    },
    {
      "cell_type": "markdown",
      "metadata": {
        "id": "75ywGINb5vCq"
      },
      "source": [
        "## Подготовим данные"
      ]
    },
    {
      "cell_type": "markdown",
      "metadata": {
        "id": "UafnMauV5yWB"
      },
      "source": [
        "Давайте посмотрим на наши данные пристальнее:"
      ]
    },
    {
      "cell_type": "code",
      "execution_count": 25,
      "metadata": {
        "colab": {
          "base_uri": "https://localhost:8080/",
          "height": 49,
          "referenced_widgets": [
            "cdc61937c8a14732940cf8d13b04f5f5",
            "485d562ff1f34f40a6b3780d8b7e7f25",
            "fd78147a6a104fd0905834a28778cfd3",
            "1cf52b5bcbc44f2395519e022ba81ace",
            "2bd4430fe7fc4f97867eb9803c64eca0",
            "53ef4b5fde3e4d8b952cc2978080d735",
            "689f468f3578443f88e9ae2592397251",
            "5d4eaab3ed5b4b5d98228712dc563c9c",
            "8498d071f998428fa18694a9ee7f0124",
            "b723337ba97b494386aea4858e8b0729",
            "0daca06bdfcc4a4b9136c669b5a5beae"
          ]
        },
        "id": "tNa5-sXy5kvI",
        "outputId": "6a03a14f-8397-41aa-d39c-ea08cf0ae7e9"
      },
      "outputs": [
        {
          "output_type": "display_data",
          "data": {
            "text/plain": [
              "  0%|          | 0/25000 [00:00<?, ?it/s]"
            ],
            "application/vnd.jupyter.widget-view+json": {
              "version_major": 2,
              "version_minor": 0,
              "model_id": "cdc61937c8a14732940cf8d13b04f5f5"
            }
          },
          "metadata": {}
        }
      ],
      "source": [
        "l = list()\n",
        "for text in tqdm(text_dataset['train']['text']):\n",
        "    l.append(len(bpemb_en.encode_ids(text.lower())))"
      ]
    },
    {
      "cell_type": "code",
      "execution_count": 26,
      "metadata": {
        "colab": {
          "base_uri": "https://localhost:8080/",
          "height": 282
        },
        "id": "tCpfzyFd51MH",
        "outputId": "ba2d480b-0483-406d-b133-6f0c324fc93b"
      },
      "outputs": [
        {
          "output_type": "execute_result",
          "data": {
            "text/plain": [
              "<matplotlib.axes._subplots.AxesSubplot at 0x7f5dd4938250>"
            ]
          },
          "metadata": {},
          "execution_count": 26
        },
        {
          "output_type": "display_data",
          "data": {
            "text/plain": [
              "<Figure size 432x288 with 1 Axes>"
            ],
            "image/png": "[encoded data removed]"
          },
          "metadata": {
            "needs_background": "light"
          }
        }
      ],
      "source": [
        "pd.Series(l).plot()"
      ]
    },
    {
      "cell_type": "markdown",
      "metadata": {
        "id": "4Rkpejeo59B3"
      },
      "source": [
        "Видно, что 90% текстов не превышают 1500 токенов. Давайте возьмем с запасом квантиль 0.95 и проинициализируем этим значением переменную max_len."
      ]
    },
    {
      "cell_type": "code",
      "execution_count": 27,
      "metadata": {
        "id": "R3wDphFs58HZ"
      },
      "outputs": [],
      "source": [
        "# YOUR CODE STARTS\n",
        "\n",
        "max_len = np.quantile(l, 0.95)\n",
        "\n",
        "# YOUR CODE ENDS"
      ]
    },
    {
      "cell_type": "code",
      "execution_count": 28,
      "metadata": {
        "id": "iF1ROhMv6Buz"
      },
      "outputs": [],
      "source": [
        "assert max_len > 700 and max_len < 1000"
      ]
    },
    {
      "cell_type": "markdown",
      "metadata": {
        "id": "YbQ6OHaY6Hge"
      },
      "source": [
        "Давайте напишем небольшой класс-надстройку над текущим датасетом, которым сразу будет нам выдавать токенизированные векторы текста."
      ]
    },
    {
      "cell_type": "code",
      "execution_count": 29,
      "metadata": {
        "id": "wiKmwH5D6FIO"
      },
      "outputs": [],
      "source": [
        "class CustomDataset:\n",
        "  def __init__(self, data, targets, tokenizer, max_len=max_len):\n",
        "    self.data = data\n",
        "    self.targets = targets\n",
        "    self.tokenizer = tokenizer\n",
        "\n",
        "  def __len__(self):\n",
        "    return len(self.data)\n",
        "\n",
        "  def __getitem__(self, idx):\n",
        "    text = self.data[idx]\n",
        "    label = self.targets[idx]\n",
        "\n",
        "    input_ids = np.zeros((int(max_len),))\n",
        "    row = self.tokenizer(text.lower())\n",
        "    for j, id in enumerate(row):\n",
        "      if j < max_len:\n",
        "        input_ids[j] = id\n",
        "    \n",
        "    return {\n",
        "        'text': torch.tensor(input_ids, dtype=torch.long),\n",
        "        'label': torch.tensor(label, dtype=torch.long)\n",
        "    }"
      ]
    },
    {
      "cell_type": "markdown",
      "metadata": {
        "id": "0DpdSlqq6OJn"
      },
      "source": [
        "Создайте экземпляр класса для тренировочного и валидационного датасета, передав в качестве токенизатора функцию токенизации из `bpemb_en`:"
      ]
    },
    {
      "cell_type": "code",
      "execution_count": 30,
      "metadata": {
        "id": "aUU430He6KJk"
      },
      "outputs": [],
      "source": [
        "# YOUR CODE STARTS\n",
        "\n",
        "train_dataset = CustomDataset(\n",
        "    text_dataset['train']['text'],\n",
        "    text_dataset['train']['label'],\n",
        "    tokenizer=bpemb_en.encode_ids\n",
        "    )\n",
        "test_dataset = CustomDataset(\n",
        "    text_dataset['test']['text'],\n",
        "    text_dataset['test']['label'],\n",
        "    tokenizer=bpemb_en.encode_ids\n",
        "    )\n",
        "\n",
        "# YOUR CODE ENDS"
      ]
    },
    {
      "cell_type": "markdown",
      "metadata": {
        "id": "MY5TiAqN6VsT"
      },
      "source": [
        "Проверим успешность вашего кода:"
      ]
    },
    {
      "cell_type": "code",
      "execution_count": 31,
      "metadata": {
        "id": "AbP2CtNO6TaU"
      },
      "outputs": [],
      "source": [
        "assert train_dataset is not None\n",
        "assert test_dataset is not None\n",
        "assert len(train_dataset) == 25000\n",
        "assert torch.tensor(train_dataset.tokenizer('some simple text!'), dtype=torch.float32).mean() > 26800"
      ]
    },
    {
      "cell_type": "markdown",
      "metadata": {
        "id": "v72cuACO6cQf"
      },
      "source": [
        "Напишем теперь наш класс нейронной сети для классификации текста.<br> \n",
        "\n",
        "Используйте предобученные BPE эмбеддинги для инициализации линейного слоя на входе. <br>\n",
        "\n",
        "Предлагаю использовать связку из нескольких сверточных слоев, которые будем конкатенировать. Наша простая сеть, написанная ранее может в этом помочь.<br>\n",
        "\n",
        "Как ни удивительно, но сверточные сети [неплохо себя показывают](https://aclweb.org/anthology/D14-1181.pdf) при решении задач классификации текста."
      ]
    },
    {
      "cell_type": "code",
      "execution_count": 32,
      "metadata": {
        "id": "JMK-PrUn6YZr"
      },
      "outputs": [],
      "source": [
        "# YOUR CODE STARTS\n",
        "\n",
        "class ConvNet(nn.Module):\n",
        "  def __init__(self,\n",
        "               input_dim, hidden_dim,\n",
        "               n_classes, n_filters, embedding_matrix):\n",
        "\n",
        "    super(ConvNet, self).__init__()\n",
        "\n",
        "    self.kernel_num = n_filters\n",
        "\n",
        "    self.embedding = nn.Embedding(input_dim, hidden_dim)\n",
        "    self.embedding.weights = nn.Parameter(embedding_matrix.clone().detach())\n",
        "    self.embedding.weights.requires_grad = False\n",
        "\n",
        "    self.conv1 = nn.Conv2d(1, self.kernel_num, (2, hidden_dim))\n",
        "    self.conv2 = nn.Conv2d(1, self.kernel_num, (4, hidden_dim))\n",
        "\n",
        "    self.dropout = nn.Dropout2d(0.5)\n",
        "    self.fc1 = nn.Linear(2 * self.kernel_num, n_classes)\n",
        "\n",
        "  def forward(self, x):\n",
        "    x = self.embedding(x)\n",
        "    x = x.unsqueeze(1)\n",
        "\n",
        "    conv_out_1 = F.relu(self.conv1(x)).squeeze(3)\n",
        "    conv_out_2 = F.relu(self.conv2(x)).squeeze(3)\n",
        "\n",
        "    conv_out_1 = F.max_pool1d(conv_out_1, conv_out_1.size(2)).squeeze(2)\n",
        "    conv_out_2 = F.max_pool1d(conv_out_2, conv_out_2.size(2)).squeeze(2)\n",
        "\n",
        "    x = torch.cat([conv_out_1, conv_out_2], 1)\n",
        "\n",
        "    x = self.dropout(x)\n",
        "    logit = self.fc1(x)\n",
        "\n",
        "    return logit\n",
        "\n",
        "model = ConvNet(vocab_size, dim, 2, 100, bpemb_vectors)\n",
        "\n",
        "# YOUR CODE ENDS"
      ]
    },
    {
      "cell_type": "markdown",
      "metadata": {
        "id": "DkIY_ioF6k1I"
      },
      "source": [
        "Осталось написать train_loop и eval_loop и можно начинать обучение модели."
      ]
    },
    {
      "cell_type": "code",
      "execution_count": 33,
      "metadata": {
        "id": "81y-SgkG6g3x"
      },
      "outputs": [],
      "source": [
        "def train(dataloader):\n",
        "    model.train()\n",
        "    total_acc, total_count = 0, 0\n",
        "    start_time = time.time()\n",
        "\n",
        "    for idx, batch in enumerate(tqdm(dataloader)):\n",
        "        text = batch['text'].to(device)\n",
        "        label = batch['label'].to(device)\n",
        "        optimizer.zero_grad()\n",
        "        predited_label = model(text)\n",
        "        loss = criterion(predited_label, label)\n",
        "        loss.backward()\n",
        "        torch.nn.utils.clip_grad_norm_(model.parameters(), 0.1)\n",
        "        optimizer.step()\n",
        "        predited_label = predited_label.detach().cpu().numpy()\n",
        "        label = label.to('cpu').numpy()\n",
        "        total_acc += accuracy(predited_label, label)\n",
        "        total_count += len(label)\n",
        "    elapsed = time.time() - start_time\n",
        "    print('| epoch {:3d} | {:5d}/{:5d} batches '\n",
        "                  '| accuracy {:8.3f}'.format(epoch, idx, len(dataloader),\n",
        "                                              total_acc/total_count))\n",
        "    total_acc, total_count = 0, 0\n",
        "    start_time = time.time()"
      ]
    },
    {
      "cell_type": "code",
      "execution_count": 34,
      "metadata": {
        "id": "QRvpTvLk6oBS"
      },
      "outputs": [],
      "source": [
        "def evaluate(dataloader):\n",
        "    model.eval()\n",
        "    total_acc, total_count = 0, 0\n",
        "\n",
        "    with torch.no_grad():\n",
        "        for idx, batch in enumerate(dataloader):\n",
        "            text = batch['text'].to(device)\n",
        "            label = batch['label'].to(device)\n",
        "            predited_label = model(text)\n",
        "            loss = criterion(predited_label, label)\n",
        "            predited_label = predited_label.detach().cpu().numpy()\n",
        "            label = label.to('cpu').numpy()\n",
        "            total_acc += accuracy(predited_label, label)\n",
        "            total_count += len(label)\n",
        "    return total_acc/total_count"
      ]
    },
    {
      "cell_type": "markdown",
      "metadata": {
        "id": "jxuLqGeG6ud8"
      },
      "source": [
        "Не забудем написать метод для рассчета `accuracy`! "
      ]
    },
    {
      "cell_type": "code",
      "execution_count": 35,
      "metadata": {
        "id": "CrZVIdHy6qyk"
      },
      "outputs": [],
      "source": [
        "def accuracy(probs, targets):\n",
        "    \"\"\"\n",
        "    Args:\n",
        "        probs: torch.FloatTensor[batch_size, 1], probabilities of positive class\n",
        "        targets: torch.LongTensor[batch_size, 1], true classes\n",
        "\n",
        "    Returns:\n",
        "        0 <= float <= 1, proportion of correct predictions\n",
        "    \"\"\"\n",
        "    return np.sum(probs==targets) / len(targets)\n",
        "\n",
        "\n",
        "    # YOUR CODE"
      ]
    },
    {
      "cell_type": "code",
      "execution_count": 36,
      "metadata": {
        "id": "zQP2AM2G61K5"
      },
      "outputs": [],
      "source": [
        "device = torch.device('cuda') if torch.cuda.is_available() else  torch.device('cpu')"
      ]
    },
    {
      "cell_type": "code",
      "execution_count": 37,
      "metadata": {
        "id": "yLmntjYC63Q5",
        "colab": {
          "base_uri": "https://localhost:8080/",
          "height": 1000,
          "referenced_widgets": [
            "980bcae9f8c44e0a8e878c2e32406215",
            "15e16593b34b43a48e7c47aa7306bfb5",
            "a0f2f01ff8a84a939e783e94927be8a3",
            "70235dee0d314ed486343a55075382c4",
            "58c5b53cf3e34f9eac13e29a1f1ec5d9",
            "822b8b18038e45c3a7ffcaca9a175f0d",
            "0723b681c9714f0295e24073f458b124",
            "d71ea69737d44a4d9d1fa4d1e2735be5",
            "49e8efdede444ed893147e2c6f409d2a",
            "b724c1cc7fe949d9b6defca9e1a1bf2f",
            "0cdcf5a38c034f7b8245664a2363a514",
            "d174326f5cf54c2885f59735a5d05fe0",
            "ace3c8bf8add4c52974cda3b6dcfc126",
            "20f5ece855824dea80af944c29b5f19a",
            "d0793ba8b342444590f3c09d20dd7167",
            "18e24d26e3c24cb980231c32b098ce4a",
            "a5bcb804f04a43baba1c0309d0a1da5d",
            "c64a70eca0b145a2b9bdc762d30df6a0",
            "32bcb834326c4e488e62f37a1ce49200",
            "9b87f825ce1a43d6888702d64fe93de1",
            "db4a6d1b25d24d6babd73f7bf6c6f30a",
            "3c6e66742b2442aaa0f4171df7fa4cca"
          ]
        },
        "outputId": "50cd91cc-a4ac-4df3-d86e-75a82743eccd"
      },
      "outputs": [
        {
          "output_type": "display_data",
          "data": {
            "text/plain": [
              "  0%|          | 0/743 [00:00<?, ?it/s]"
            ],
            "application/vnd.jupyter.widget-view+json": {
              "version_major": 2,
              "version_minor": 0,
              "model_id": "980bcae9f8c44e0a8e878c2e32406215"
            }
          },
          "metadata": {}
        },
        {
          "output_type": "stream",
          "name": "stderr",
          "text": [
            "/usr/local/lib/python3.8/dist-packages/torch/nn/functional.py:1331: UserWarning: dropout2d: Received a 2-D input to dropout2d, which is deprecated and will result in an error in a future release. To retain the behavior and silence this warning, please use dropout instead. Note that dropout2d exists to provide channel-wise dropout on inputs with 2 spatial dimensions, a channel dimension, and an optional batch dimension (i.e. 3D or 4D inputs).\n",
            "  warnings.warn(warn_msg)\n",
            "<ipython-input-35-0b5ccb1e6717>:10: DeprecationWarning: elementwise comparison failed; this will raise an error in the future.\n",
            "  return np.sum(probs==targets) / len(targets)\n"
          ]
        },
        {
          "output_type": "stream",
          "name": "stdout",
          "text": [
            "| epoch   1 |   742/  743 batches | accuracy    0.000\n",
            "-----------------------------------------------------------\n",
            "| end of epoch   1 | time: 70.52s | valid accuracy    0.000 \n",
            "-----------------------------------------------------------\n"
          ]
        },
        {
          "output_type": "display_data",
          "data": {
            "text/plain": [
              "  0%|          | 0/743 [00:00<?, ?it/s]"
            ],
            "application/vnd.jupyter.widget-view+json": {
              "version_major": 2,
              "version_minor": 0,
              "model_id": "d174326f5cf54c2885f59735a5d05fe0"
            }
          },
          "metadata": {}
        },
        {
          "output_type": "error",
          "ename": "RuntimeError",
          "evalue": "ignored",
          "traceback": [
            "\u001b[0;31m---------------------------------------------------------------------------\u001b[0m",
            "\u001b[0;31mRuntimeError\u001b[0m                              Traceback (most recent call last)",
            "\u001b[0;32m<ipython-input-37-0101b58a4bed>\u001b[0m in \u001b[0;36m<module>\u001b[0;34m\u001b[0m\n\u001b[1;32m     27\u001b[0m     \u001b[0;32mif\u001b[0m \u001b[0mepoch\u001b[0m \u001b[0;34m==\u001b[0m \u001b[0;36m4\u001b[0m\u001b[0;34m:\u001b[0m  \u001b[0;31m# разморозим веса наших эмбеддингов, чтобы немного донастроить модель под нашу задачу\u001b[0m\u001b[0;34m\u001b[0m\u001b[0;34m\u001b[0m\u001b[0m\n\u001b[1;32m     28\u001b[0m       \u001b[0mmodel\u001b[0m\u001b[0;34m.\u001b[0m\u001b[0membedding\u001b[0m\u001b[0;34m.\u001b[0m\u001b[0mweight\u001b[0m\u001b[0;34m.\u001b[0m\u001b[0mrequires_grad\u001b[0m \u001b[0;34m=\u001b[0m \u001b[0;32mTrue\u001b[0m\u001b[0;34m\u001b[0m\u001b[0;34m\u001b[0m\u001b[0m\n\u001b[0;32m---> 29\u001b[0;31m     \u001b[0mtrain\u001b[0m\u001b[0;34m(\u001b[0m\u001b[0mtrain_dataloader\u001b[0m\u001b[0;34m)\u001b[0m\u001b[0;34m\u001b[0m\u001b[0;34m\u001b[0m\u001b[0m\n\u001b[0m\u001b[1;32m     30\u001b[0m     \u001b[0maccu_val\u001b[0m \u001b[0;34m=\u001b[0m \u001b[0mevaluate\u001b[0m\u001b[0;34m(\u001b[0m\u001b[0mvalid_dataloader\u001b[0m\u001b[0;34m)\u001b[0m\u001b[0;34m\u001b[0m\u001b[0;34m\u001b[0m\u001b[0m\n\u001b[1;32m     31\u001b[0m     \u001b[0mprint\u001b[0m\u001b[0;34m(\u001b[0m\u001b[0;34m'-'\u001b[0m \u001b[0;34m*\u001b[0m \u001b[0;36m59\u001b[0m\u001b[0;34m)\u001b[0m\u001b[0;34m\u001b[0m\u001b[0;34m\u001b[0m\u001b[0m\n",
            "\u001b[0;32m<ipython-input-33-0ae2dd017b1d>\u001b[0m in \u001b[0;36mtrain\u001b[0;34m(dataloader)\u001b[0m\n\u001b[1;32m      8\u001b[0m         \u001b[0mlabel\u001b[0m \u001b[0;34m=\u001b[0m \u001b[0mbatch\u001b[0m\u001b[0;34m[\u001b[0m\u001b[0;34m'label'\u001b[0m\u001b[0;34m]\u001b[0m\u001b[0;34m.\u001b[0m\u001b[0mto\u001b[0m\u001b[0;34m(\u001b[0m\u001b[0mdevice\u001b[0m\u001b[0;34m)\u001b[0m\u001b[0;34m\u001b[0m\u001b[0;34m\u001b[0m\u001b[0m\n\u001b[1;32m      9\u001b[0m         \u001b[0moptimizer\u001b[0m\u001b[0;34m.\u001b[0m\u001b[0mzero_grad\u001b[0m\u001b[0;34m(\u001b[0m\u001b[0;34m)\u001b[0m\u001b[0;34m\u001b[0m\u001b[0;34m\u001b[0m\u001b[0m\n\u001b[0;32m---> 10\u001b[0;31m         \u001b[0mpredited_label\u001b[0m \u001b[0;34m=\u001b[0m \u001b[0mmodel\u001b[0m\u001b[0;34m(\u001b[0m\u001b[0mtext\u001b[0m\u001b[0;34m)\u001b[0m\u001b[0;34m\u001b[0m\u001b[0;34m\u001b[0m\u001b[0m\n\u001b[0m\u001b[1;32m     11\u001b[0m         \u001b[0mloss\u001b[0m \u001b[0;34m=\u001b[0m \u001b[0mcriterion\u001b[0m\u001b[0;34m(\u001b[0m\u001b[0mpredited_label\u001b[0m\u001b[0;34m,\u001b[0m \u001b[0mlabel\u001b[0m\u001b[0;34m)\u001b[0m\u001b[0;34m\u001b[0m\u001b[0;34m\u001b[0m\u001b[0m\n\u001b[1;32m     12\u001b[0m         \u001b[0mloss\u001b[0m\u001b[0;34m.\u001b[0m\u001b[0mbackward\u001b[0m\u001b[0;34m(\u001b[0m\u001b[0;34m)\u001b[0m\u001b[0;34m\u001b[0m\u001b[0;34m\u001b[0m\u001b[0m\n",
            "\u001b[0;32m/usr/local/lib/python3.8/dist-packages/torch/nn/modules/module.py\u001b[0m in \u001b[0;36m_call_impl\u001b[0;34m(self, *input, **kwargs)\u001b[0m\n\u001b[1;32m   1192\u001b[0m         if not (self._backward_hooks or self._forward_hooks or self._forward_pre_hooks or _global_backward_hooks\n\u001b[1;32m   1193\u001b[0m                 or _global_forward_hooks or _global_forward_pre_hooks):\n\u001b[0;32m-> 1194\u001b[0;31m             \u001b[0;32mreturn\u001b[0m \u001b[0mforward_call\u001b[0m\u001b[0;34m(\u001b[0m\u001b[0;34m*\u001b[0m\u001b[0minput\u001b[0m\u001b[0;34m,\u001b[0m \u001b[0;34m**\u001b[0m\u001b[0mkwargs\u001b[0m\u001b[0;34m)\u001b[0m\u001b[0;34m\u001b[0m\u001b[0;34m\u001b[0m\u001b[0m\n\u001b[0m\u001b[1;32m   1195\u001b[0m         \u001b[0;31m# Do not call functions when jit is used\u001b[0m\u001b[0;34m\u001b[0m\u001b[0;34m\u001b[0m\u001b[0;34m\u001b[0m\u001b[0m\n\u001b[1;32m   1196\u001b[0m         \u001b[0mfull_backward_hooks\u001b[0m\u001b[0;34m,\u001b[0m \u001b[0mnon_full_backward_hooks\u001b[0m \u001b[0;34m=\u001b[0m \u001b[0;34m[\u001b[0m\u001b[0;34m]\u001b[0m\u001b[0;34m,\u001b[0m \u001b[0;34m[\u001b[0m\u001b[0;34m]\u001b[0m\u001b[0;34m\u001b[0m\u001b[0;34m\u001b[0m\u001b[0m\n",
            "\u001b[0;32m<ipython-input-32-0f1075c28ab2>\u001b[0m in \u001b[0;36mforward\u001b[0;34m(self, x)\u001b[0m\n\u001b[1;32m     24\u001b[0m     \u001b[0mx\u001b[0m \u001b[0;34m=\u001b[0m \u001b[0mx\u001b[0m\u001b[0;34m.\u001b[0m\u001b[0munsqueeze\u001b[0m\u001b[0;34m(\u001b[0m\u001b[0;36m1\u001b[0m\u001b[0;34m)\u001b[0m\u001b[0;34m\u001b[0m\u001b[0;34m\u001b[0m\u001b[0m\n\u001b[1;32m     25\u001b[0m \u001b[0;34m\u001b[0m\u001b[0m\n\u001b[0;32m---> 26\u001b[0;31m     \u001b[0mconv_out_1\u001b[0m \u001b[0;34m=\u001b[0m \u001b[0mF\u001b[0m\u001b[0;34m.\u001b[0m\u001b[0mrelu\u001b[0m\u001b[0;34m(\u001b[0m\u001b[0mself\u001b[0m\u001b[0;34m.\u001b[0m\u001b[0mconv1\u001b[0m\u001b[0;34m(\u001b[0m\u001b[0mx\u001b[0m\u001b[0;34m)\u001b[0m\u001b[0;34m)\u001b[0m\u001b[0;34m.\u001b[0m\u001b[0msqueeze\u001b[0m\u001b[0;34m(\u001b[0m\u001b[0;36m3\u001b[0m\u001b[0;34m)\u001b[0m\u001b[0;34m\u001b[0m\u001b[0;34m\u001b[0m\u001b[0m\n\u001b[0m\u001b[1;32m     27\u001b[0m     \u001b[0mconv_out_2\u001b[0m \u001b[0;34m=\u001b[0m \u001b[0mF\u001b[0m\u001b[0;34m.\u001b[0m\u001b[0mrelu\u001b[0m\u001b[0;34m(\u001b[0m\u001b[0mself\u001b[0m\u001b[0;34m.\u001b[0m\u001b[0mconv2\u001b[0m\u001b[0;34m(\u001b[0m\u001b[0mx\u001b[0m\u001b[0;34m)\u001b[0m\u001b[0;34m)\u001b[0m\u001b[0;34m.\u001b[0m\u001b[0msqueeze\u001b[0m\u001b[0;34m(\u001b[0m\u001b[0;36m3\u001b[0m\u001b[0;34m)\u001b[0m\u001b[0;34m\u001b[0m\u001b[0;34m\u001b[0m\u001b[0m\n\u001b[1;32m     28\u001b[0m \u001b[0;34m\u001b[0m\u001b[0m\n",
            "\u001b[0;32m/usr/local/lib/python3.8/dist-packages/torch/nn/modules/module.py\u001b[0m in \u001b[0;36m_call_impl\u001b[0;34m(self, *input, **kwargs)\u001b[0m\n\u001b[1;32m   1192\u001b[0m         if not (self._backward_hooks or self._forward_hooks or self._forward_pre_hooks or _global_backward_hooks\n\u001b[1;32m   1193\u001b[0m                 or _global_forward_hooks or _global_forward_pre_hooks):\n\u001b[0;32m-> 1194\u001b[0;31m             \u001b[0;32mreturn\u001b[0m \u001b[0mforward_call\u001b[0m\u001b[0;34m(\u001b[0m\u001b[0;34m*\u001b[0m\u001b[0minput\u001b[0m\u001b[0;34m,\u001b[0m \u001b[0;34m**\u001b[0m\u001b[0mkwargs\u001b[0m\u001b[0;34m)\u001b[0m\u001b[0;34m\u001b[0m\u001b[0;34m\u001b[0m\u001b[0m\n\u001b[0m\u001b[1;32m   1195\u001b[0m         \u001b[0;31m# Do not call functions when jit is used\u001b[0m\u001b[0;34m\u001b[0m\u001b[0;34m\u001b[0m\u001b[0;34m\u001b[0m\u001b[0m\n\u001b[1;32m   1196\u001b[0m         \u001b[0mfull_backward_hooks\u001b[0m\u001b[0;34m,\u001b[0m \u001b[0mnon_full_backward_hooks\u001b[0m \u001b[0;34m=\u001b[0m \u001b[0;34m[\u001b[0m\u001b[0;34m]\u001b[0m\u001b[0;34m,\u001b[0m \u001b[0;34m[\u001b[0m\u001b[0;34m]\u001b[0m\u001b[0;34m\u001b[0m\u001b[0;34m\u001b[0m\u001b[0m\n",
            "\u001b[0;32m/usr/local/lib/python3.8/dist-packages/torch/nn/modules/conv.py\u001b[0m in \u001b[0;36mforward\u001b[0;34m(self, input)\u001b[0m\n\u001b[1;32m    461\u001b[0m \u001b[0;34m\u001b[0m\u001b[0m\n\u001b[1;32m    462\u001b[0m     \u001b[0;32mdef\u001b[0m \u001b[0mforward\u001b[0m\u001b[0;34m(\u001b[0m\u001b[0mself\u001b[0m\u001b[0;34m,\u001b[0m \u001b[0minput\u001b[0m\u001b[0;34m:\u001b[0m \u001b[0mTensor\u001b[0m\u001b[0;34m)\u001b[0m \u001b[0;34m->\u001b[0m \u001b[0mTensor\u001b[0m\u001b[0;34m:\u001b[0m\u001b[0;34m\u001b[0m\u001b[0;34m\u001b[0m\u001b[0m\n\u001b[0;32m--> 463\u001b[0;31m         \u001b[0;32mreturn\u001b[0m \u001b[0mself\u001b[0m\u001b[0;34m.\u001b[0m\u001b[0m_conv_forward\u001b[0m\u001b[0;34m(\u001b[0m\u001b[0minput\u001b[0m\u001b[0;34m,\u001b[0m \u001b[0mself\u001b[0m\u001b[0;34m.\u001b[0m\u001b[0mweight\u001b[0m\u001b[0;34m,\u001b[0m \u001b[0mself\u001b[0m\u001b[0;34m.\u001b[0m\u001b[0mbias\u001b[0m\u001b[0;34m)\u001b[0m\u001b[0;34m\u001b[0m\u001b[0;34m\u001b[0m\u001b[0m\n\u001b[0m\u001b[1;32m    464\u001b[0m \u001b[0;34m\u001b[0m\u001b[0m\n\u001b[1;32m    465\u001b[0m \u001b[0;32mclass\u001b[0m \u001b[0mConv3d\u001b[0m\u001b[0;34m(\u001b[0m\u001b[0m_ConvNd\u001b[0m\u001b[0;34m)\u001b[0m\u001b[0;34m:\u001b[0m\u001b[0;34m\u001b[0m\u001b[0;34m\u001b[0m\u001b[0m\n",
            "\u001b[0;32m/usr/local/lib/python3.8/dist-packages/torch/nn/modules/conv.py\u001b[0m in \u001b[0;36m_conv_forward\u001b[0;34m(self, input, weight, bias)\u001b[0m\n\u001b[1;32m    457\u001b[0m                             \u001b[0mweight\u001b[0m\u001b[0;34m,\u001b[0m \u001b[0mbias\u001b[0m\u001b[0;34m,\u001b[0m \u001b[0mself\u001b[0m\u001b[0;34m.\u001b[0m\u001b[0mstride\u001b[0m\u001b[0;34m,\u001b[0m\u001b[0;34m\u001b[0m\u001b[0;34m\u001b[0m\u001b[0m\n\u001b[1;32m    458\u001b[0m                             _pair(0), self.dilation, self.groups)\n\u001b[0;32m--> 459\u001b[0;31m         return F.conv2d(input, weight, bias, self.stride,\n\u001b[0m\u001b[1;32m    460\u001b[0m                         self.padding, self.dilation, self.groups)\n\u001b[1;32m    461\u001b[0m \u001b[0;34m\u001b[0m\u001b[0m\n",
            "\u001b[0;31mRuntimeError\u001b[0m: cuDNN error: CUDNN_STATUS_MAPPING_ERROR"
          ]
        }
      ],
      "source": [
        "from torch.utils.data.dataset import random_split\n",
        "import time\n",
        "\n",
        "# гиперпараметры\n",
        "EPOCHS = 2\n",
        "LR = 3e-4 \n",
        "BATCH_SIZE = 32\n",
        "\n",
        "model = ConvNet(vocab_size, dim, 2, 300, bpemb_vectors).to(device)\n",
        "\n",
        "criterion = torch.nn.CrossEntropyLoss()\n",
        "optimizer = torch.optim.Adam(model.parameters(), lr=LR, weight_decay=1e-4)\n",
        "total_accu = None\n",
        "\n",
        "num_train = int(len(train_dataset) * 0.95)\n",
        "split_train_, split_valid_ = \\\n",
        "    random_split(train_dataset, [num_train, len(train_dataset) - num_train])\n",
        "\n",
        "train_dataloader = torch.utils.data.DataLoader(split_train_, batch_size=BATCH_SIZE,\n",
        "                              shuffle=True)\n",
        "valid_dataloader = torch.utils.data.DataLoader(split_valid_, batch_size=BATCH_SIZE,\n",
        "                              shuffle=True)\n",
        "\n",
        "\n",
        "for epoch in range(1, EPOCHS + 1):\n",
        "    epoch_start_time = time.time()\n",
        "    if epoch == 4:  # разморозим веса наших эмбеддингов, чтобы немного донастроить модель под нашу задачу\n",
        "      model.embedding.weight.requires_grad = True\n",
        "    train(train_dataloader)\n",
        "    accu_val = evaluate(valid_dataloader)\n",
        "    print('-' * 59)\n",
        "    print('| end of epoch {:3d} | time: {:5.2f}s | '\n",
        "          'valid accuracy {:8.3f} '.format(epoch,\n",
        "                                           time.time() - epoch_start_time,\n",
        "                                           accu_val))\n",
        "    print('-' * 59)"
      ]
    },
    {
      "cell_type": "markdown",
      "metadata": {
        "id": "7w0pz8YK73uD"
      },
      "source": [
        "`accuracy` нашей модели на валидационной части датасета в идеале должно быть больше 0.88, но точно меньше 1.\n",
        "\n",
        "Если вы получили низкое значение — проверьте написанную вами модель. Возможно, вы забыли перемешать ваш тренировочный датасет? "
      ]
    },
    {
      "cell_type": "code",
      "execution_count": null,
      "metadata": {
        "id": "7Z6xQRSK69wH"
      },
      "outputs": [],
      "source": [
        "positive_comment = 'This movie is awesome!'\n",
        "negative_comment = 'This movie is very very bad!'\n",
        "neutral_comment = 'This is so-so'\n",
        "\n",
        "_dataset = CustomDataset([positive_comment, negative_comment, neutral_comment], [0] * 3, lambda x: bpemb_en.encode_ids(x))\n",
        "_dataloader = torch.utils.data.DataLoader(_dataset, batch_size=32)\n",
        "\n",
        "_x = next(iter(_dataloader))['text'].to(device)\n",
        "probs = torch.softmax(model(_x), 1).detach().cpu().numpy()\n",
        "\n",
        "print(np.round(probs, 3))\n",
        "\n",
        "print(f'Probability of \"{positive_comment}\" to be positive -- {probs[0][1]}')\n",
        "print(f'Probability of \"{negative_comment}\" to be positive -- {probs[1][0]}')\n",
        "print(f'Probability of \"{neutral_comment}\" to be positive -- {probs[2][0]}')\n",
        "\n",
        "del _dataset, _dataloader "
      ]
    },
    {
      "cell_type": "code",
      "source": [],
      "metadata": {
        "id": "pRdmdR4Qgboa"
      },
      "execution_count": null,
      "outputs": []
    }
  ],
  "metadata": {
    "accelerator": "GPU",
    "colab": {
      "provenance": [],
      "include_colab_link": true
    },
    "kernelspec": {
      "display_name": "Python 3",
      "language": "python",
      "name": "python3"
    },
    "language_info": {
      "codemirror_mode": {
        "name": "ipython",
        "version": 3
      },
      "file_extension": ".py",
      "mimetype": "text/x-python",
      "name": "python",
      "nbconvert_exporter": "python",
      "pygments_lexer": "ipython3",
      "version": "3.8.8"
    },
    "widgets": {
      "application/vnd.jupyter.widget-state+json": {
        "36fed707c9e9417bb4feb35ccbc647b7": {
          "model_module": "@jupyter-widgets/controls",
          "model_name": "HBoxModel",
          "model_module_version": "1.5.0",
          "state": {
            "_dom_classes": [],
            "_model_module": "@jupyter-widgets/controls",
            "_model_module_version": "1.5.0",
            "_model_name": "HBoxModel",
            "_view_count": null,
            "_view_module": "@jupyter-widgets/controls",
            "_view_module_version": "1.5.0",
            "_view_name": "HBoxView",
            "box_style": "",
            "children": [
              "IPY_MODEL_f94f05a260f14bd9aebb3887364d0431",
              "IPY_MODEL_38b33cb947ab4159bf14d9b7c63e521c",
              "IPY_MODEL_a542cf5821114cd8b73ffc2fecc54ff4"
            ],
            "layout": "IPY_MODEL_a360cd5786c44a19bdbb78c2574d2340"
          }
        },
        "f94f05a260f14bd9aebb3887364d0431": {
          "model_module": "@jupyter-widgets/controls",
          "model_name": "HTMLModel",
          "model_module_version": "1.5.0",
          "state": {
            "_dom_classes": [],
            "_model_module": "@jupyter-widgets/controls",
            "_model_module_version": "1.5.0",
            "_model_name": "HTMLModel",
            "_view_count": null,
            "_view_module": "@jupyter-widgets/controls",
            "_view_module_version": "1.5.0",
            "_view_name": "HTMLView",
            "description": "",
            "description_tooltip": null,
            "layout": "IPY_MODEL_be83824fdc1b4d3f84419bd1a1ec353a",
            "placeholder": "​",
            "style": "IPY_MODEL_cdf7e294ceee478abbd73bcb2d47f40f",
            "value": "100%"
          }
        },
        "38b33cb947ab4159bf14d9b7c63e521c": {
          "model_module": "@jupyter-widgets/controls",
          "model_name": "FloatProgressModel",
          "model_module_version": "1.5.0",
          "state": {
            "_dom_classes": [],
            "_model_module": "@jupyter-widgets/controls",
            "_model_module_version": "1.5.0",
            "_model_name": "FloatProgressModel",
            "_view_count": null,
            "_view_module": "@jupyter-widgets/controls",
            "_view_module_version": "1.5.0",
            "_view_name": "ProgressView",
            "bar_style": "success",
            "description": "",
            "description_tooltip": null,
            "layout": "IPY_MODEL_c65287f6ab304a3f9eba9d51248a414d",
            "max": 3,
            "min": 0,
            "orientation": "horizontal",
            "style": "IPY_MODEL_684b1ac8fc9c4e35ac1179aec3f01c34",
            "value": 3
          }
        },
        "a542cf5821114cd8b73ffc2fecc54ff4": {
          "model_module": "@jupyter-widgets/controls",
          "model_name": "HTMLModel",
          "model_module_version": "1.5.0",
          "state": {
            "_dom_classes": [],
            "_model_module": "@jupyter-widgets/controls",
            "_model_module_version": "1.5.0",
            "_model_name": "HTMLModel",
            "_view_count": null,
            "_view_module": "@jupyter-widgets/controls",
            "_view_module_version": "1.5.0",
            "_view_name": "HTMLView",
            "description": "",
            "description_tooltip": null,
            "layout": "IPY_MODEL_c1af1e84cfb04f0491a2b768d3f878fe",
            "placeholder": "​",
            "style": "IPY_MODEL_8a281e25372e4faebd1f717b94e12671",
            "value": " 3/3 [00:00&lt;00:00, 105.01it/s]"
          }
        },
        "a360cd5786c44a19bdbb78c2574d2340": {
          "model_module": "@jupyter-widgets/base",
          "model_name": "LayoutModel",
          "model_module_version": "1.2.0",
          "state": {
            "_model_module": "@jupyter-widgets/base",
            "_model_module_version": "1.2.0",
            "_model_name": "LayoutModel",
            "_view_count": null,
            "_view_module": "@jupyter-widgets/base",
            "_view_module_version": "1.2.0",
            "_view_name": "LayoutView",
            "align_content": null,
            "align_items": null,
            "align_self": null,
            "border": null,
            "bottom": null,
            "display": null,
            "flex": null,
            "flex_flow": null,
            "grid_area": null,
            "grid_auto_columns": null,
            "grid_auto_flow": null,
            "grid_auto_rows": null,
            "grid_column": null,
            "grid_gap": null,
            "grid_row": null,
            "grid_template_areas": null,
            "grid_template_columns": null,
            "grid_template_rows": null,
            "height": null,
            "justify_content": null,
            "justify_items": null,
            "left": null,
            "margin": null,
            "max_height": null,
            "max_width": null,
            "min_height": null,
            "min_width": null,
            "object_fit": null,
            "object_position": null,
            "order": null,
            "overflow": null,
            "overflow_x": null,
            "overflow_y": null,
            "padding": null,
            "right": null,
            "top": null,
            "visibility": null,
            "width": null
          }
        },
        "be83824fdc1b4d3f84419bd1a1ec353a": {
          "model_module": "@jupyter-widgets/base",
          "model_name": "LayoutModel",
          "model_module_version": "1.2.0",
          "state": {
            "_model_module": "@jupyter-widgets/base",
            "_model_module_version": "1.2.0",
            "_model_name": "LayoutModel",
            "_view_count": null,
            "_view_module": "@jupyter-widgets/base",
            "_view_module_version": "1.2.0",
            "_view_name": "LayoutView",
            "align_content": null,
            "align_items": null,
            "align_self": null,
            "border": null,
            "bottom": null,
            "display": null,
            "flex": null,
            "flex_flow": null,
            "grid_area": null,
            "grid_auto_columns": null,
            "grid_auto_flow": null,
            "grid_auto_rows": null,
            "grid_column": null,
            "grid_gap": null,
            "grid_row": null,
            "grid_template_areas": null,
            "grid_template_columns": null,
            "grid_template_rows": null,
            "height": null,
            "justify_content": null,
            "justify_items": null,
            "left": null,
            "margin": null,
            "max_height": null,
            "max_width": null,
            "min_height": null,
            "min_width": null,
            "object_fit": null,
            "object_position": null,
            "order": null,
            "overflow": null,
            "overflow_x": null,
            "overflow_y": null,
            "padding": null,
            "right": null,
            "top": null,
            "visibility": null,
            "width": null
          }
        },
        "cdf7e294ceee478abbd73bcb2d47f40f": {
          "model_module": "@jupyter-widgets/controls",
          "model_name": "DescriptionStyleModel",
          "model_module_version": "1.5.0",
          "state": {
            "_model_module": "@jupyter-widgets/controls",
            "_model_module_version": "1.5.0",
            "_model_name": "DescriptionStyleModel",
            "_view_count": null,
            "_view_module": "@jupyter-widgets/base",
            "_view_module_version": "1.2.0",
            "_view_name": "StyleView",
            "description_width": ""
          }
        },
        "c65287f6ab304a3f9eba9d51248a414d": {
          "model_module": "@jupyter-widgets/base",
          "model_name": "LayoutModel",
          "model_module_version": "1.2.0",
          "state": {
            "_model_module": "@jupyter-widgets/base",
            "_model_module_version": "1.2.0",
            "_model_name": "LayoutModel",
            "_view_count": null,
            "_view_module": "@jupyter-widgets/base",
            "_view_module_version": "1.2.0",
            "_view_name": "LayoutView",
            "align_content": null,
            "align_items": null,
            "align_self": null,
            "border": null,
            "bottom": null,
            "display": null,
            "flex": null,
            "flex_flow": null,
            "grid_area": null,
            "grid_auto_columns": null,
            "grid_auto_flow": null,
            "grid_auto_rows": null,
            "grid_column": null,
            "grid_gap": null,
            "grid_row": null,
            "grid_template_areas": null,
            "grid_template_columns": null,
            "grid_template_rows": null,
            "height": null,
            "justify_content": null,
            "justify_items": null,
            "left": null,
            "margin": null,
            "max_height": null,
            "max_width": null,
            "min_height": null,
            "min_width": null,
            "object_fit": null,
            "object_position": null,
            "order": null,
            "overflow": null,
            "overflow_x": null,
            "overflow_y": null,
            "padding": null,
            "right": null,
            "top": null,
            "visibility": null,
            "width": null
          }
        },
        "684b1ac8fc9c4e35ac1179aec3f01c34": {
          "model_module": "@jupyter-widgets/controls",
          "model_name": "ProgressStyleModel",
          "model_module_version": "1.5.0",
          "state": {
            "_model_module": "@jupyter-widgets/controls",
            "_model_module_version": "1.5.0",
            "_model_name": "ProgressStyleModel",
            "_view_count": null,
            "_view_module": "@jupyter-widgets/base",
            "_view_module_version": "1.2.0",
            "_view_name": "StyleView",
            "bar_color": null,
            "description_width": ""
          }
        },
        "c1af1e84cfb04f0491a2b768d3f878fe": {
          "model_module": "@jupyter-widgets/base",
          "model_name": "LayoutModel",
          "model_module_version": "1.2.0",
          "state": {
            "_model_module": "@jupyter-widgets/base",
            "_model_module_version": "1.2.0",
            "_model_name": "LayoutModel",
            "_view_count": null,
            "_view_module": "@jupyter-widgets/base",
            "_view_module_version": "1.2.0",
            "_view_name": "LayoutView",
            "align_content": null,
            "align_items": null,
            "align_self": null,
            "border": null,
            "bottom": null,
            "display": null,
            "flex": null,
            "flex_flow": null,
            "grid_area": null,
            "grid_auto_columns": null,
            "grid_auto_flow": null,
            "grid_auto_rows": null,
            "grid_column": null,
            "grid_gap": null,
            "grid_row": null,
            "grid_template_areas": null,
            "grid_template_columns": null,
            "grid_template_rows": null,
            "height": null,
            "justify_content": null,
            "justify_items": null,
            "left": null,
            "margin": null,
            "max_height": null,
            "max_width": null,
            "min_height": null,
            "min_width": null,
            "object_fit": null,
            "object_position": null,
            "order": null,
            "overflow": null,
            "overflow_x": null,
            "overflow_y": null,
            "padding": null,
            "right": null,
            "top": null,
            "visibility": null,
            "width": null
          }
        },
        "8a281e25372e4faebd1f717b94e12671": {
          "model_module": "@jupyter-widgets/controls",
          "model_name": "DescriptionStyleModel",
          "model_module_version": "1.5.0",
          "state": {
            "_model_module": "@jupyter-widgets/controls",
            "_model_module_version": "1.5.0",
            "_model_name": "DescriptionStyleModel",
            "_view_count": null,
            "_view_module": "@jupyter-widgets/base",
            "_view_module_version": "1.2.0",
            "_view_name": "StyleView",
            "description_width": ""
          }
        },
        "cdc61937c8a14732940cf8d13b04f5f5": {
          "model_module": "@jupyter-widgets/controls",
          "model_name": "HBoxModel",
          "model_module_version": "1.5.0",
          "state": {
            "_dom_classes": [],
            "_model_module": "@jupyter-widgets/controls",
            "_model_module_version": "1.5.0",
            "_model_name": "HBoxModel",
            "_view_count": null,
            "_view_module": "@jupyter-widgets/controls",
            "_view_module_version": "1.5.0",
            "_view_name": "HBoxView",
            "box_style": "",
            "children": [
              "IPY_MODEL_485d562ff1f34f40a6b3780d8b7e7f25",
              "IPY_MODEL_fd78147a6a104fd0905834a28778cfd3",
              "IPY_MODEL_1cf52b5bcbc44f2395519e022ba81ace"
            ],
            "layout": "IPY_MODEL_2bd4430fe7fc4f97867eb9803c64eca0"
          }
        },
        "485d562ff1f34f40a6b3780d8b7e7f25": {
          "model_module": "@jupyter-widgets/controls",
          "model_name": "HTMLModel",
          "model_module_version": "1.5.0",
          "state": {
            "_dom_classes": [],
            "_model_module": "@jupyter-widgets/controls",
            "_model_module_version": "1.5.0",
            "_model_name": "HTMLModel",
            "_view_count": null,
            "_view_module": "@jupyter-widgets/controls",
            "_view_module_version": "1.5.0",
            "_view_name": "HTMLView",
            "description": "",
            "description_tooltip": null,
            "layout": "IPY_MODEL_53ef4b5fde3e4d8b952cc2978080d735",
            "placeholder": "​",
            "style": "IPY_MODEL_689f468f3578443f88e9ae2592397251",
            "value": "100%"
          }
        },
        "fd78147a6a104fd0905834a28778cfd3": {
          "model_module": "@jupyter-widgets/controls",
          "model_name": "FloatProgressModel",
          "model_module_version": "1.5.0",
          "state": {
            "_dom_classes": [],
            "_model_module": "@jupyter-widgets/controls",
            "_model_module_version": "1.5.0",
            "_model_name": "FloatProgressModel",
            "_view_count": null,
            "_view_module": "@jupyter-widgets/controls",
            "_view_module_version": "1.5.0",
            "_view_name": "ProgressView",
            "bar_style": "success",
            "description": "",
            "description_tooltip": null,
            "layout": "IPY_MODEL_5d4eaab3ed5b4b5d98228712dc563c9c",
            "max": 25000,
            "min": 0,
            "orientation": "horizontal",
            "style": "IPY_MODEL_8498d071f998428fa18694a9ee7f0124",
            "value": 25000
          }
        },
        "1cf52b5bcbc44f2395519e022ba81ace": {
          "model_module": "@jupyter-widgets/controls",
          "model_name": "HTMLModel",
          "model_module_version": "1.5.0",
          "state": {
            "_dom_classes": [],
            "_model_module": "@jupyter-widgets/controls",
            "_model_module_version": "1.5.0",
            "_model_name": "HTMLModel",
            "_view_count": null,
            "_view_module": "@jupyter-widgets/controls",
            "_view_module_version": "1.5.0",
            "_view_name": "HTMLView",
            "description": "",
            "description_tooltip": null,
            "layout": "IPY_MODEL_b723337ba97b494386aea4858e8b0729",
            "placeholder": "​",
            "style": "IPY_MODEL_0daca06bdfcc4a4b9136c669b5a5beae",
            "value": " 25000/25000 [00:22&lt;00:00, 1052.94it/s]"
          }
        },
        "2bd4430fe7fc4f97867eb9803c64eca0": {
          "model_module": "@jupyter-widgets/base",
          "model_name": "LayoutModel",
          "model_module_version": "1.2.0",
          "state": {
            "_model_module": "@jupyter-widgets/base",
            "_model_module_version": "1.2.0",
            "_model_name": "LayoutModel",
            "_view_count": null,
            "_view_module": "@jupyter-widgets/base",
            "_view_module_version": "1.2.0",
            "_view_name": "LayoutView",
            "align_content": null,
            "align_items": null,
            "align_self": null,
            "border": null,
            "bottom": null,
            "display": null,
            "flex": null,
            "flex_flow": null,
            "grid_area": null,
            "grid_auto_columns": null,
            "grid_auto_flow": null,
            "grid_auto_rows": null,
            "grid_column": null,
            "grid_gap": null,
            "grid_row": null,
            "grid_template_areas": null,
            "grid_template_columns": null,
            "grid_template_rows": null,
            "height": null,
            "justify_content": null,
            "justify_items": null,
            "left": null,
            "margin": null,
            "max_height": null,
            "max_width": null,
            "min_height": null,
            "min_width": null,
            "object_fit": null,
            "object_position": null,
            "order": null,
            "overflow": null,
            "overflow_x": null,
            "overflow_y": null,
            "padding": null,
            "right": null,
            "top": null,
            "visibility": null,
            "width": null
          }
        },
        "53ef4b5fde3e4d8b952cc2978080d735": {
          "model_module": "@jupyter-widgets/base",
          "model_name": "LayoutModel",
          "model_module_version": "1.2.0",
          "state": {
            "_model_module": "@jupyter-widgets/base",
            "_model_module_version": "1.2.0",
            "_model_name": "LayoutModel",
            "_view_count": null,
            "_view_module": "@jupyter-widgets/base",
            "_view_module_version": "1.2.0",
            "_view_name": "LayoutView",
            "align_content": null,
            "align_items": null,
            "align_self": null,
            "border": null,
            "bottom": null,
            "display": null,
            "flex": null,
            "flex_flow": null,
            "grid_area": null,
            "grid_auto_columns": null,
            "grid_auto_flow": null,
            "grid_auto_rows": null,
            "grid_column": null,
            "grid_gap": null,
            "grid_row": null,
            "grid_template_areas": null,
            "grid_template_columns": null,
            "grid_template_rows": null,
            "height": null,
            "justify_content": null,
            "justify_items": null,
            "left": null,
            "margin": null,
            "max_height": null,
            "max_width": null,
            "min_height": null,
            "min_width": null,
            "object_fit": null,
            "object_position": null,
            "order": null,
            "overflow": null,
            "overflow_x": null,
            "overflow_y": null,
            "padding": null,
            "right": null,
            "top": null,
            "visibility": null,
            "width": null
          }
        },
        "689f468f3578443f88e9ae2592397251": {
          "model_module": "@jupyter-widgets/controls",
          "model_name": "DescriptionStyleModel",
          "model_module_version": "1.5.0",
          "state": {
            "_model_module": "@jupyter-widgets/controls",
            "_model_module_version": "1.5.0",
            "_model_name": "DescriptionStyleModel",
            "_view_count": null,
            "_view_module": "@jupyter-widgets/base",
            "_view_module_version": "1.2.0",
            "_view_name": "StyleView",
            "description_width": ""
          }
        },
        "5d4eaab3ed5b4b5d98228712dc563c9c": {
          "model_module": "@jupyter-widgets/base",
          "model_name": "LayoutModel",
          "model_module_version": "1.2.0",
          "state": {
            "_model_module": "@jupyter-widgets/base",
            "_model_module_version": "1.2.0",
            "_model_name": "LayoutModel",
            "_view_count": null,
            "_view_module": "@jupyter-widgets/base",
            "_view_module_version": "1.2.0",
            "_view_name": "LayoutView",
            "align_content": null,
            "align_items": null,
            "align_self": null,
            "border": null,
            "bottom": null,
            "display": null,
            "flex": null,
            "flex_flow": null,
            "grid_area": null,
            "grid_auto_columns": null,
            "grid_auto_flow": null,
            "grid_auto_rows": null,
            "grid_column": null,
            "grid_gap": null,
            "grid_row": null,
            "grid_template_areas": null,
            "grid_template_columns": null,
            "grid_template_rows": null,
            "height": null,
            "justify_content": null,
            "justify_items": null,
            "left": null,
            "margin": null,
            "max_height": null,
            "max_width": null,
            "min_height": null,
            "min_width": null,
            "object_fit": null,
            "object_position": null,
            "order": null,
            "overflow": null,
            "overflow_x": null,
            "overflow_y": null,
            "padding": null,
            "right": null,
            "top": null,
            "visibility": null,
            "width": null
          }
        },
        "8498d071f998428fa18694a9ee7f0124": {
          "model_module": "@jupyter-widgets/controls",
          "model_name": "ProgressStyleModel",
          "model_module_version": "1.5.0",
          "state": {
            "_model_module": "@jupyter-widgets/controls",
            "_model_module_version": "1.5.0",
            "_model_name": "ProgressStyleModel",
            "_view_count": null,
            "_view_module": "@jupyter-widgets/base",
            "_view_module_version": "1.2.0",
            "_view_name": "StyleView",
            "bar_color": null,
            "description_width": ""
          }
        },
        "b723337ba97b494386aea4858e8b0729": {
          "model_module": "@jupyter-widgets/base",
          "model_name": "LayoutModel",
          "model_module_version": "1.2.0",
          "state": {
            "_model_module": "@jupyter-widgets/base",
            "_model_module_version": "1.2.0",
            "_model_name": "LayoutModel",
            "_view_count": null,
            "_view_module": "@jupyter-widgets/base",
            "_view_module_version": "1.2.0",
            "_view_name": "LayoutView",
            "align_content": null,
            "align_items": null,
            "align_self": null,
            "border": null,
            "bottom": null,
            "display": null,
            "flex": null,
            "flex_flow": null,
            "grid_area": null,
            "grid_auto_columns": null,
            "grid_auto_flow": null,
            "grid_auto_rows": null,
            "grid_column": null,
            "grid_gap": null,
            "grid_row": null,
            "grid_template_areas": null,
            "grid_template_columns": null,
            "grid_template_rows": null,
            "height": null,
            "justify_content": null,
            "justify_items": null,
            "left": null,
            "margin": null,
            "max_height": null,
            "max_width": null,
            "min_height": null,
            "min_width": null,
            "object_fit": null,
            "object_position": null,
            "order": null,
            "overflow": null,
            "overflow_x": null,
            "overflow_y": null,
            "padding": null,
            "right": null,
            "top": null,
            "visibility": null,
            "width": null
          }
        },
        "0daca06bdfcc4a4b9136c669b5a5beae": {
          "model_module": "@jupyter-widgets/controls",
          "model_name": "DescriptionStyleModel",
          "model_module_version": "1.5.0",
          "state": {
            "_model_module": "@jupyter-widgets/controls",
            "_model_module_version": "1.5.0",
            "_model_name": "DescriptionStyleModel",
            "_view_count": null,
            "_view_module": "@jupyter-widgets/base",
            "_view_module_version": "1.2.0",
            "_view_name": "StyleView",
            "description_width": ""
          }
        },
        "980bcae9f8c44e0a8e878c2e32406215": {
          "model_module": "@jupyter-widgets/controls",
          "model_name": "HBoxModel",
          "model_module_version": "1.5.0",
          "state": {
            "_dom_classes": [],
            "_model_module": "@jupyter-widgets/controls",
            "_model_module_version": "1.5.0",
            "_model_name": "HBoxModel",
            "_view_count": null,
            "_view_module": "@jupyter-widgets/controls",
            "_view_module_version": "1.5.0",
            "_view_name": "HBoxView",
            "box_style": "",
            "children": [
              "IPY_MODEL_15e16593b34b43a48e7c47aa7306bfb5",
              "IPY_MODEL_a0f2f01ff8a84a939e783e94927be8a3",
              "IPY_MODEL_70235dee0d314ed486343a55075382c4"
            ],
            "layout": "IPY_MODEL_58c5b53cf3e34f9eac13e29a1f1ec5d9"
          }
        },
        "15e16593b34b43a48e7c47aa7306bfb5": {
          "model_module": "@jupyter-widgets/controls",
          "model_name": "HTMLModel",
          "model_module_version": "1.5.0",
          "state": {
            "_dom_classes": [],
            "_model_module": "@jupyter-widgets/controls",
            "_model_module_version": "1.5.0",
            "_model_name": "HTMLModel",
            "_view_count": null,
            "_view_module": "@jupyter-widgets/controls",
            "_view_module_version": "1.5.0",
            "_view_name": "HTMLView",
            "description": "",
            "description_tooltip": null,
            "layout": "IPY_MODEL_822b8b18038e45c3a7ffcaca9a175f0d",
            "placeholder": "​",
            "style": "IPY_MODEL_0723b681c9714f0295e24073f458b124",
            "value": "100%"
          }
        },
        "a0f2f01ff8a84a939e783e94927be8a3": {
          "model_module": "@jupyter-widgets/controls",
          "model_name": "FloatProgressModel",
          "model_module_version": "1.5.0",
          "state": {
            "_dom_classes": [],
            "_model_module": "@jupyter-widgets/controls",
            "_model_module_version": "1.5.0",
            "_model_name": "FloatProgressModel",
            "_view_count": null,
            "_view_module": "@jupyter-widgets/controls",
            "_view_module_version": "1.5.0",
            "_view_name": "ProgressView",
            "bar_style": "success",
            "description": "",
            "description_tooltip": null,
            "layout": "IPY_MODEL_d71ea69737d44a4d9d1fa4d1e2735be5",
            "max": 743,
            "min": 0,
            "orientation": "horizontal",
            "style": "IPY_MODEL_49e8efdede444ed893147e2c6f409d2a",
            "value": 743
          }
        },
        "70235dee0d314ed486343a55075382c4": {
          "model_module": "@jupyter-widgets/controls",
          "model_name": "HTMLModel",
          "model_module_version": "1.5.0",
          "state": {
            "_dom_classes": [],
            "_model_module": "@jupyter-widgets/controls",
            "_model_module_version": "1.5.0",
            "_model_name": "HTMLModel",
            "_view_count": null,
            "_view_module": "@jupyter-widgets/controls",
            "_view_module_version": "1.5.0",
            "_view_name": "HTMLView",
            "description": "",
            "description_tooltip": null,
            "layout": "IPY_MODEL_b724c1cc7fe949d9b6defca9e1a1bf2f",
            "placeholder": "​",
            "style": "IPY_MODEL_0cdcf5a38c034f7b8245664a2363a514",
            "value": " 743/743 [01:07&lt;00:00, 11.65it/s]"
          }
        },
        "58c5b53cf3e34f9eac13e29a1f1ec5d9": {
          "model_module": "@jupyter-widgets/base",
          "model_name": "LayoutModel",
          "model_module_version": "1.2.0",
          "state": {
            "_model_module": "@jupyter-widgets/base",
            "_model_module_version": "1.2.0",
            "_model_name": "LayoutModel",
            "_view_count": null,
            "_view_module": "@jupyter-widgets/base",
            "_view_module_version": "1.2.0",
            "_view_name": "LayoutView",
            "align_content": null,
            "align_items": null,
            "align_self": null,
            "border": null,
            "bottom": null,
            "display": null,
            "flex": null,
            "flex_flow": null,
            "grid_area": null,
            "grid_auto_columns": null,
            "grid_auto_flow": null,
            "grid_auto_rows": null,
            "grid_column": null,
            "grid_gap": null,
            "grid_row": null,
            "grid_template_areas": null,
            "grid_template_columns": null,
            "grid_template_rows": null,
            "height": null,
            "justify_content": null,
            "justify_items": null,
            "left": null,
            "margin": null,
            "max_height": null,
            "max_width": null,
            "min_height": null,
            "min_width": null,
            "object_fit": null,
            "object_position": null,
            "order": null,
            "overflow": null,
            "overflow_x": null,
            "overflow_y": null,
            "padding": null,
            "right": null,
            "top": null,
            "visibility": null,
            "width": null
          }
        },
        "822b8b18038e45c3a7ffcaca9a175f0d": {
          "model_module": "@jupyter-widgets/base",
          "model_name": "LayoutModel",
          "model_module_version": "1.2.0",
          "state": {
            "_model_module": "@jupyter-widgets/base",
            "_model_module_version": "1.2.0",
            "_model_name": "LayoutModel",
            "_view_count": null,
            "_view_module": "@jupyter-widgets/base",
            "_view_module_version": "1.2.0",
            "_view_name": "LayoutView",
            "align_content": null,
            "align_items": null,
            "align_self": null,
            "border": null,
            "bottom": null,
            "display": null,
            "flex": null,
            "flex_flow": null,
            "grid_area": null,
            "grid_auto_columns": null,
            "grid_auto_flow": null,
            "grid_auto_rows": null,
            "grid_column": null,
            "grid_gap": null,
            "grid_row": null,
            "grid_template_areas": null,
            "grid_template_columns": null,
            "grid_template_rows": null,
            "height": null,
            "justify_content": null,
            "justify_items": null,
            "left": null,
            "margin": null,
            "max_height": null,
            "max_width": null,
            "min_height": null,
            "min_width": null,
            "object_fit": null,
            "object_position": null,
            "order": null,
            "overflow": null,
            "overflow_x": null,
            "overflow_y": null,
            "padding": null,
            "right": null,
            "top": null,
            "visibility": null,
            "width": null
          }
        },
        "0723b681c9714f0295e24073f458b124": {
          "model_module": "@jupyter-widgets/controls",
          "model_name": "DescriptionStyleModel",
          "model_module_version": "1.5.0",
          "state": {
            "_model_module": "@jupyter-widgets/controls",
            "_model_module_version": "1.5.0",
            "_model_name": "DescriptionStyleModel",
            "_view_count": null,
            "_view_module": "@jupyter-widgets/base",
            "_view_module_version": "1.2.0",
            "_view_name": "StyleView",
            "description_width": ""
          }
        },
        "d71ea69737d44a4d9d1fa4d1e2735be5": {
          "model_module": "@jupyter-widgets/base",
          "model_name": "LayoutModel",
          "model_module_version": "1.2.0",
          "state": {
            "_model_module": "@jupyter-widgets/base",
            "_model_module_version": "1.2.0",
            "_model_name": "LayoutModel",
            "_view_count": null,
            "_view_module": "@jupyter-widgets/base",
            "_view_module_version": "1.2.0",
            "_view_name": "LayoutView",
            "align_content": null,
            "align_items": null,
            "align_self": null,
            "border": null,
            "bottom": null,
            "display": null,
            "flex": null,
            "flex_flow": null,
            "grid_area": null,
            "grid_auto_columns": null,
            "grid_auto_flow": null,
            "grid_auto_rows": null,
            "grid_column": null,
            "grid_gap": null,
            "grid_row": null,
            "grid_template_areas": null,
            "grid_template_columns": null,
            "grid_template_rows": null,
            "height": null,
            "justify_content": null,
            "justify_items": null,
            "left": null,
            "margin": null,
            "max_height": null,
            "max_width": null,
            "min_height": null,
            "min_width": null,
            "object_fit": null,
            "object_position": null,
            "order": null,
            "overflow": null,
            "overflow_x": null,
            "overflow_y": null,
            "padding": null,
            "right": null,
            "top": null,
            "visibility": null,
            "width": null
          }
        },
        "49e8efdede444ed893147e2c6f409d2a": {
          "model_module": "@jupyter-widgets/controls",
          "model_name": "ProgressStyleModel",
          "model_module_version": "1.5.0",
          "state": {
            "_model_module": "@jupyter-widgets/controls",
            "_model_module_version": "1.5.0",
            "_model_name": "ProgressStyleModel",
            "_view_count": null,
            "_view_module": "@jupyter-widgets/base",
            "_view_module_version": "1.2.0",
            "_view_name": "StyleView",
            "bar_color": null,
            "description_width": ""
          }
        },
        "b724c1cc7fe949d9b6defca9e1a1bf2f": {
          "model_module": "@jupyter-widgets/base",
          "model_name": "LayoutModel",
          "model_module_version": "1.2.0",
          "state": {
            "_model_module": "@jupyter-widgets/base",
            "_model_module_version": "1.2.0",
            "_model_name": "LayoutModel",
            "_view_count": null,
            "_view_module": "@jupyter-widgets/base",
            "_view_module_version": "1.2.0",
            "_view_name": "LayoutView",
            "align_content": null,
            "align_items": null,
            "align_self": null,
            "border": null,
            "bottom": null,
            "display": null,
            "flex": null,
            "flex_flow": null,
            "grid_area": null,
            "grid_auto_columns": null,
            "grid_auto_flow": null,
            "grid_auto_rows": null,
            "grid_column": null,
            "grid_gap": null,
            "grid_row": null,
            "grid_template_areas": null,
            "grid_template_columns": null,
            "grid_template_rows": null,
            "height": null,
            "justify_content": null,
            "justify_items": null,
            "left": null,
            "margin": null,
            "max_height": null,
            "max_width": null,
            "min_height": null,
            "min_width": null,
            "object_fit": null,
            "object_position": null,
            "order": null,
            "overflow": null,
            "overflow_x": null,
            "overflow_y": null,
            "padding": null,
            "right": null,
            "top": null,
            "visibility": null,
            "width": null
          }
        },
        "0cdcf5a38c034f7b8245664a2363a514": {
          "model_module": "@jupyter-widgets/controls",
          "model_name": "DescriptionStyleModel",
          "model_module_version": "1.5.0",
          "state": {
            "_model_module": "@jupyter-widgets/controls",
            "_model_module_version": "1.5.0",
            "_model_name": "DescriptionStyleModel",
            "_view_count": null,
            "_view_module": "@jupyter-widgets/base",
            "_view_module_version": "1.2.0",
            "_view_name": "StyleView",
            "description_width": ""
          }
        },
        "d174326f5cf54c2885f59735a5d05fe0": {
          "model_module": "@jupyter-widgets/controls",
          "model_name": "HBoxModel",
          "model_module_version": "1.5.0",
          "state": {
            "_dom_classes": [],
            "_model_module": "@jupyter-widgets/controls",
            "_model_module_version": "1.5.0",
            "_model_name": "HBoxModel",
            "_view_count": null,
            "_view_module": "@jupyter-widgets/controls",
            "_view_module_version": "1.5.0",
            "_view_name": "HBoxView",
            "box_style": "",
            "children": [
              "IPY_MODEL_ace3c8bf8add4c52974cda3b6dcfc126",
              "IPY_MODEL_20f5ece855824dea80af944c29b5f19a",
              "IPY_MODEL_d0793ba8b342444590f3c09d20dd7167"
            ],
            "layout": "IPY_MODEL_18e24d26e3c24cb980231c32b098ce4a"
          }
        },
        "ace3c8bf8add4c52974cda3b6dcfc126": {
          "model_module": "@jupyter-widgets/controls",
          "model_name": "HTMLModel",
          "model_module_version": "1.5.0",
          "state": {
            "_dom_classes": [],
            "_model_module": "@jupyter-widgets/controls",
            "_model_module_version": "1.5.0",
            "_model_name": "HTMLModel",
            "_view_count": null,
            "_view_module": "@jupyter-widgets/controls",
            "_view_module_version": "1.5.0",
            "_view_name": "HTMLView",
            "description": "",
            "description_tooltip": null,
            "layout": "IPY_MODEL_a5bcb804f04a43baba1c0309d0a1da5d",
            "placeholder": "​",
            "style": "IPY_MODEL_c64a70eca0b145a2b9bdc762d30df6a0",
            "value": "  0%"
          }
        },
        "20f5ece855824dea80af944c29b5f19a": {
          "model_module": "@jupyter-widgets/controls",
          "model_name": "FloatProgressModel",
          "model_module_version": "1.5.0",
          "state": {
            "_dom_classes": [],
            "_model_module": "@jupyter-widgets/controls",
            "_model_module_version": "1.5.0",
            "_model_name": "FloatProgressModel",
            "_view_count": null,
            "_view_module": "@jupyter-widgets/controls",
            "_view_module_version": "1.5.0",
            "_view_name": "ProgressView",
            "bar_style": "danger",
            "description": "",
            "description_tooltip": null,
            "layout": "IPY_MODEL_32bcb834326c4e488e62f37a1ce49200",
            "max": 743,
            "min": 0,
            "orientation": "horizontal",
            "style": "IPY_MODEL_9b87f825ce1a43d6888702d64fe93de1",
            "value": 0
          }
        },
        "d0793ba8b342444590f3c09d20dd7167": {
          "model_module": "@jupyter-widgets/controls",
          "model_name": "HTMLModel",
          "model_module_version": "1.5.0",
          "state": {
            "_dom_classes": [],
            "_model_module": "@jupyter-widgets/controls",
            "_model_module_version": "1.5.0",
            "_model_name": "HTMLModel",
            "_view_count": null,
            "_view_module": "@jupyter-widgets/controls",
            "_view_module_version": "1.5.0",
            "_view_name": "HTMLView",
            "description": "",
            "description_tooltip": null,
            "layout": "IPY_MODEL_db4a6d1b25d24d6babd73f7bf6c6f30a",
            "placeholder": "​",
            "style": "IPY_MODEL_3c6e66742b2442aaa0f4171df7fa4cca",
            "value": " 0/743 [00:00&lt;?, ?it/s]"
          }
        },
        "18e24d26e3c24cb980231c32b098ce4a": {
          "model_module": "@jupyter-widgets/base",
          "model_name": "LayoutModel",
          "model_module_version": "1.2.0",
          "state": {
            "_model_module": "@jupyter-widgets/base",
            "_model_module_version": "1.2.0",
            "_model_name": "LayoutModel",
            "_view_count": null,
            "_view_module": "@jupyter-widgets/base",
            "_view_module_version": "1.2.0",
            "_view_name": "LayoutView",
            "align_content": null,
            "align_items": null,
            "align_self": null,
            "border": null,
            "bottom": null,
            "display": null,
            "flex": null,
            "flex_flow": null,
            "grid_area": null,
            "grid_auto_columns": null,
            "grid_auto_flow": null,
            "grid_auto_rows": null,
            "grid_column": null,
            "grid_gap": null,
            "grid_row": null,
            "grid_template_areas": null,
            "grid_template_columns": null,
            "grid_template_rows": null,
            "height": null,
            "justify_content": null,
            "justify_items": null,
            "left": null,
            "margin": null,
            "max_height": null,
            "max_width": null,
            "min_height": null,
            "min_width": null,
            "object_fit": null,
            "object_position": null,
            "order": null,
            "overflow": null,
            "overflow_x": null,
            "overflow_y": null,
            "padding": null,
            "right": null,
            "top": null,
            "visibility": null,
            "width": null
          }
        },
        "a5bcb804f04a43baba1c0309d0a1da5d": {
          "model_module": "@jupyter-widgets/base",
          "model_name": "LayoutModel",
          "model_module_version": "1.2.0",
          "state": {
            "_model_module": "@jupyter-widgets/base",
            "_model_module_version": "1.2.0",
            "_model_name": "LayoutModel",
            "_view_count": null,
            "_view_module": "@jupyter-widgets/base",
            "_view_module_version": "1.2.0",
            "_view_name": "LayoutView",
            "align_content": null,
            "align_items": null,
            "align_self": null,
            "border": null,
            "bottom": null,
            "display": null,
            "flex": null,
            "flex_flow": null,
            "grid_area": null,
            "grid_auto_columns": null,
            "grid_auto_flow": null,
            "grid_auto_rows": null,
            "grid_column": null,
            "grid_gap": null,
            "grid_row": null,
            "grid_template_areas": null,
            "grid_template_columns": null,
            "grid_template_rows": null,
            "height": null,
            "justify_content": null,
            "justify_items": null,
            "left": null,
            "margin": null,
            "max_height": null,
            "max_width": null,
            "min_height": null,
            "min_width": null,
            "object_fit": null,
            "object_position": null,
            "order": null,
            "overflow": null,
            "overflow_x": null,
            "overflow_y": null,
            "padding": null,
            "right": null,
            "top": null,
            "visibility": null,
            "width": null
          }
        },
        "c64a70eca0b145a2b9bdc762d30df6a0": {
          "model_module": "@jupyter-widgets/controls",
          "model_name": "DescriptionStyleModel",
          "model_module_version": "1.5.0",
          "state": {
            "_model_module": "@jupyter-widgets/controls",
            "_model_module_version": "1.5.0",
            "_model_name": "DescriptionStyleModel",
            "_view_count": null,
            "_view_module": "@jupyter-widgets/base",
            "_view_module_version": "1.2.0",
            "_view_name": "StyleView",
            "description_width": ""
          }
        },
        "32bcb834326c4e488e62f37a1ce49200": {
          "model_module": "@jupyter-widgets/base",
          "model_name": "LayoutModel",
          "model_module_version": "1.2.0",
          "state": {
            "_model_module": "@jupyter-widgets/base",
            "_model_module_version": "1.2.0",
            "_model_name": "LayoutModel",
            "_view_count": null,
            "_view_module": "@jupyter-widgets/base",
            "_view_module_version": "1.2.0",
            "_view_name": "LayoutView",
            "align_content": null,
            "align_items": null,
            "align_self": null,
            "border": null,
            "bottom": null,
            "display": null,
            "flex": null,
            "flex_flow": null,
            "grid_area": null,
            "grid_auto_columns": null,
            "grid_auto_flow": null,
            "grid_auto_rows": null,
            "grid_column": null,
            "grid_gap": null,
            "grid_row": null,
            "grid_template_areas": null,
            "grid_template_columns": null,
            "grid_template_rows": null,
            "height": null,
            "justify_content": null,
            "justify_items": null,
            "left": null,
            "margin": null,
            "max_height": null,
            "max_width": null,
            "min_height": null,
            "min_width": null,
            "object_fit": null,
            "object_position": null,
            "order": null,
            "overflow": null,
            "overflow_x": null,
            "overflow_y": null,
            "padding": null,
            "right": null,
            "top": null,
            "visibility": null,
            "width": null
          }
        },
        "9b87f825ce1a43d6888702d64fe93de1": {
          "model_module": "@jupyter-widgets/controls",
          "model_name": "ProgressStyleModel",
          "model_module_version": "1.5.0",
          "state": {
            "_model_module": "@jupyter-widgets/controls",
            "_model_module_version": "1.5.0",
            "_model_name": "ProgressStyleModel",
            "_view_count": null,
            "_view_module": "@jupyter-widgets/base",
            "_view_module_version": "1.2.0",
            "_view_name": "StyleView",
            "bar_color": null,
            "description_width": ""
          }
        },
        "db4a6d1b25d24d6babd73f7bf6c6f30a": {
          "model_module": "@jupyter-widgets/base",
          "model_name": "LayoutModel",
          "model_module_version": "1.2.0",
          "state": {
            "_model_module": "@jupyter-widgets/base",
            "_model_module_version": "1.2.0",
            "_model_name": "LayoutModel",
            "_view_count": null,
            "_view_module": "@jupyter-widgets/base",
            "_view_module_version": "1.2.0",
            "_view_name": "LayoutView",
            "align_content": null,
            "align_items": null,
            "align_self": null,
            "border": null,
            "bottom": null,
            "display": null,
            "flex": null,
            "flex_flow": null,
            "grid_area": null,
            "grid_auto_columns": null,
            "grid_auto_flow": null,
            "grid_auto_rows": null,
            "grid_column": null,
            "grid_gap": null,
            "grid_row": null,
            "grid_template_areas": null,
            "grid_template_columns": null,
            "grid_template_rows": null,
            "height": null,
            "justify_content": null,
            "justify_items": null,
            "left": null,
            "margin": null,
            "max_height": null,
            "max_width": null,
            "min_height": null,
            "min_width": null,
            "object_fit": null,
            "object_position": null,
            "order": null,
            "overflow": null,
            "overflow_x": null,
            "overflow_y": null,
            "padding": null,
            "right": null,
            "top": null,
            "visibility": null,
            "width": null
          }
        },
        "3c6e66742b2442aaa0f4171df7fa4cca": {
          "model_module": "@jupyter-widgets/controls",
          "model_name": "DescriptionStyleModel",
          "model_module_version": "1.5.0",
          "state": {
            "_model_module": "@jupyter-widgets/controls",
            "_model_module_version": "1.5.0",
            "_model_name": "DescriptionStyleModel",
            "_view_count": null,
            "_view_module": "@jupyter-widgets/base",
            "_view_module_version": "1.2.0",
            "_view_name": "StyleView",
            "description_width": ""
          }
        }
      }
    },
    "gpuClass": "standard"
  },
  "nbformat": 4,
  "nbformat_minor": 0
}