{
  "nbformat": 4,
  "nbformat_minor": 0,
  "metadata": {
    "kernelspec": {
      "display_name": "Python 3",
      "language": "python",
      "name": "python3"
    },
    "language_info": {
      "codemirror_mode": {
        "name": "ipython",
        "version": 3
      },
      "file_extension": ".py",
      "mimetype": "text/x-python",
      "name": "python",
      "nbconvert_exporter": "python",
      "pygments_lexer": "ipython3",
      "version": "3.7.1"
    },
    "colab": {
      "provenance": [],
      "include_colab_link": true
    }
  },
  "cells": [
    {
      "cell_type": "markdown",
      "metadata": {
        "id": "view-in-github",
        "colab_type": "text"
      },
      "source": [
        "<a href=\"https://colab.research.google.com/github/wizard339/education/blob/main/white_noise_(1).ipynb\" target=\"_parent\"><img src=\"https://colab.research.google.com/assets/colab-badge.svg\" alt=\"Open In Colab\"/></a>"
      ]
    },
    {
      "cell_type": "markdown",
      "metadata": {
        "id": "dqa4Is3NeDwB"
      },
      "source": [
        "Мы познакомимся с генерацией нормального белого шума и посмотрим на практике, как влияет на качество OLS оценок гетероскедастичность"
      ]
    },
    {
      "cell_type": "code",
      "metadata": {
        "collapsed": true,
        "id": "naRQ7pGdeDwE"
      },
      "source": [
        "import numpy as np\n",
        "import matplotlib.pyplot as plt\n",
        "from sklearn import linear_model\n",
        "from sklearn.linear_model import LinearRegression\n",
        "from sklearn.metrics import r2_score\n",
        "\n",
        "%matplotlib inline"
      ],
      "execution_count": 1,
      "outputs": []
    },
    {
      "cell_type": "markdown",
      "metadata": {
        "id": "wG3QfdrUeDwF"
      },
      "source": [
        "Создадим нормальный белый шум размера N с нулевым средним и единичной дисперсией. Его график совершенно хаотичен"
      ]
    },
    {
      "cell_type": "code",
      "metadata": {
        "collapsed": true,
        "id": "ebkXXYJleDwF"
      },
      "source": [
        "N = 40"
      ],
      "execution_count": 2,
      "outputs": []
    },
    {
      "cell_type": "code",
      "metadata": {
        "scrolled": true,
        "id": "YProqGzkeDwG",
        "outputId": "95cf3980-0db9-4daa-af7f-9dbfc1c03a5c",
        "colab": {
          "base_uri": "https://localhost:8080/",
          "height": 282
        }
      },
      "source": [
        "mu = 0\n",
        "sigma = 1 \n",
        "\n",
        "eps = np.random.normal(mu, sigma, size=N)\n",
        "\n",
        "plt.scatter(np.arange(N), eps)"
      ],
      "execution_count": 3,
      "outputs": [
        {
          "output_type": "execute_result",
          "data": {
            "text/plain": [
              "<matplotlib.collections.PathCollection at 0x7fa98d902be0>"
            ]
          },
          "metadata": {},
          "execution_count": 3
        },
        {
          "output_type": "display_data",
          "data": {
            "text/plain": [
              "<Figure size 432x288 with 1 Axes>"
            ],
            "image/png": "[encoded data removed]"
          },
          "metadata": {
            "needs_background": "light"
          }
        }
      ]
    },
    {
      "cell_type": "markdown",
      "metadata": {
        "id": "Ti5jHJZLeDwH"
      },
      "source": [
        "Соединим соседние точки линиями. Это полезно, когда в качестве счетчика выступает время"
      ]
    },
    {
      "cell_type": "code",
      "metadata": {
        "scrolled": true,
        "id": "VjAjLzxheDwI",
        "outputId": "473b8cd4-58d9-43ee-f9e6-d7d31441f10a",
        "colab": {
          "base_uri": "https://localhost:8080/",
          "height": 282
        }
      },
      "source": [
        "plt.plot(eps)\n",
        "plt.scatter(np.arange(N), eps)"
      ],
      "execution_count": 4,
      "outputs": [
        {
          "output_type": "execute_result",
          "data": {
            "text/plain": [
              "<matplotlib.collections.PathCollection at 0x7fa98d3f4910>"
            ]
          },
          "metadata": {},
          "execution_count": 4
        },
        {
          "output_type": "display_data",
          "data": {
            "text/plain": [
              "<Figure size 432x288 with 1 Axes>"
            ],
            "image/png": "[encoded data removed]"
          },
          "metadata": {
            "needs_background": "light"
          }
        }
      ]
    },
    {
      "cell_type": "markdown",
      "metadata": {
        "id": "BGcMEAOGeDwI"
      },
      "source": [
        "Сгенерируем данные для регрессии: добавим к линейной функции y=2+x белый шум eps. Диаграмма рассеяния показывает сильный линейный паттерн и в целом ведет себя хорошо"
      ]
    },
    {
      "cell_type": "code",
      "metadata": {
        "scrolled": true,
        "id": "Rx9oilzUeDwI",
        "outputId": "1bc6ab03-dfde-4ca8-e480-5689ac23fe2a",
        "colab": {
          "base_uri": "https://localhost:8080/",
          "height": 282
        }
      },
      "source": [
        "x = np.arange(N)\n",
        "y = 2 + x + eps\n",
        "plt.scatter(x, y)"
      ],
      "execution_count": 5,
      "outputs": [
        {
          "output_type": "execute_result",
          "data": {
            "text/plain": [
              "<matplotlib.collections.PathCollection at 0x7fa98d31dbe0>"
            ]
          },
          "metadata": {},
          "execution_count": 5
        },
        {
          "output_type": "display_data",
          "data": {
            "text/plain": [
              "<Figure size 432x288 with 1 Axes>"
            ],
            "image/png": "[encoded data removed]"
          },
          "metadata": {
            "needs_background": "light"
          }
        }
      ]
    },
    {
      "cell_type": "markdown",
      "metadata": {
        "id": "jgJ7ogAgeDwJ"
      },
      "source": [
        "Подготовим данные для обучения классической OLS регрессии. Все условия Гаусса-Маркова выполняются: признак детерминированный (числа от 1 до N), модель хорошая, шум белый.\n",
        "Мы будем пользоваться не lstsq из linalg.numpy, а  конструктором LinearRegression() из библиотеки sklearn.\n",
        "Как вы помните, lstsq работает на svd разложении и требует предварительной стандартизации данных в случае существенно разных шкал признаков.\n",
        "LinearRegression() делает стандартизацию сама (впрочем, это можно настроить), однако следует иметь в виду, что алгоритм внутри нее зашит другой, тоже устойчивый к \"плохим\" данным. Как правило, реализации алгоритмов в sklearn направлены на то, чтобы функция работала быстро.\n",
        "Реализация OLS через теоретическую формулу на практике не применяется из-за плохой вычислительной устойчивости."
      ]
    },
    {
      "cell_type": "code",
      "metadata": {
        "id": "xjxD8htHeDwJ",
        "outputId": "4b113f7a-19dc-4619-a9af-03664701e6a8",
        "colab": {
          "base_uri": "https://localhost:8080/"
        }
      },
      "source": [
        "# сначала переформатируем данные из одномерных массивов в двумерные, т.к. этого требует синтаксис LinearRegression() \n",
        "# при работе с реальными датасетами делать этого не нужно\n",
        "x = np.reshape(x, (N, 1))\n",
        "y = np.reshape(y, (N, 1))\n",
        "linreg = linear_model.LinearRegression() \n",
        "\n",
        "# обучим модель\n",
        "linreg.fit(x, y)\n",
        "\n",
        "# выведем коэффициенты\n",
        "print(linreg.intercept_, linreg.coef_)"
      ],
      "execution_count": 6,
      "outputs": [
        {
          "output_type": "stream",
          "name": "stdout",
          "text": [
            "[2.57053674] [[0.97338183]]\n"
          ]
        }
      ]
    },
    {
      "cell_type": "markdown",
      "metadata": {
        "id": "EH3UbOTmeDwK"
      },
      "source": [
        "Одной из метрик качества модели является r2_score. Это так называемая доля объяснённой дисперсии. Она показывает, какую часть отклонений целевой переменной объясняет модель. Чем выше, тем лучше."
      ]
    },
    {
      "cell_type": "code",
      "metadata": {
        "id": "S_v1rO9NeDwL",
        "outputId": "71c69c8e-6e09-44e8-9f1b-bcddc2a78343",
        "colab": {
          "base_uri": "https://localhost:8080/"
        }
      },
      "source": [
        "y_pred = linreg.predict(x)\n",
        "r2_score(y, y_pred)"
      ],
      "execution_count": 7,
      "outputs": [
        {
          "output_type": "execute_result",
          "data": {
            "text/plain": [
              "0.9946977666314726"
            ]
          },
          "metadata": {},
          "execution_count": 7
        }
      ]
    },
    {
      "cell_type": "markdown",
      "metadata": {
        "id": "qjJF9L9qeDwL"
      },
      "source": [
        "Теперь давайте испортим немного модель, добавив гетероскедастичность"
      ]
    },
    {
      "cell_type": "code",
      "metadata": {
        "collapsed": true,
        "id": "0K__wd-BeDwL"
      },
      "source": [
        "# создадим функцию, которая будет портить белый шум, добавляя в него неравные дисперсии.\n",
        "# Каждое следующее значение шума будет в alpha раз выше предыдущего\n",
        "\n",
        "def hetero_eps(alpha, eps):\n",
        "    hetero_eps = np.zeros(len(eps))\n",
        "    for i in range (0, len(eps)):\n",
        "        hetero_eps[i] = (alpha**i) * eps[i]\n",
        "    return hetero_eps"
      ],
      "execution_count": 8,
      "outputs": []
    },
    {
      "cell_type": "markdown",
      "metadata": {
        "id": "LnXP4Ez8eDwM"
      },
      "source": [
        " Возьмем в качестве alpha 1.5, при этом каждое следующее отклонение будет примерно на 5% больше прыдущего.\n",
        " На графике видно, что шум \"расползается\". Чем больше измерений мы возьмем, тем сильнее будет расплозаться шум, а с ним и весь тренд.\n",
        " В гомоскедастичном случае (для белого шума) чем больше измерений, тем точнее будет настроена регрессия, т.к. никакого расползания там нет"
      ]
    },
    {
      "cell_type": "code",
      "metadata": {
        "id": "gRchNKnNeDwM",
        "outputId": "65bd83a3-96f2-474a-945c-9d049407c658",
        "colab": {
          "base_uri": "https://localhost:8080/",
          "height": 282
        }
      },
      "source": [
        "alpha = 1.05\n",
        "heteps = hetero_eps(alpha, eps) # гетероскедастичный шум\n",
        "plt.scatter(np.arange(N), heteps)"
      ],
      "execution_count": 9,
      "outputs": [
        {
          "output_type": "execute_result",
          "data": {
            "text/plain": [
              "<matplotlib.collections.PathCollection at 0x7fa98d29f940>"
            ]
          },
          "metadata": {},
          "execution_count": 9
        },
        {
          "output_type": "display_data",
          "data": {
            "text/plain": [
              "<Figure size 432x288 with 1 Axes>"
            ],
            "image/png": "[encoded data removed]"
          },
          "metadata": {
            "needs_background": "light"
          }
        }
      ]
    },
    {
      "cell_type": "markdown",
      "metadata": {
        "id": "-MFCc81qeDwN"
      },
      "source": [
        "В модель y = 2 + x добавим гетероскедастичный шум и посмотрим, что будет с регрессией"
      ]
    },
    {
      "cell_type": "code",
      "metadata": {
        "id": "ySPBNhkUeDwN",
        "outputId": "f7a2e7df-eae4-4d6e-dd11-19193ab8a6ce",
        "colab": {
          "base_uri": "https://localhost:8080/",
          "height": 282
        }
      },
      "source": [
        "x = np.arange(N)\n",
        "y = 2 + x + heteps\n",
        "plt.scatter(x, y) # типичная картинка увеличения дисперсии"
      ],
      "execution_count": 10,
      "outputs": [
        {
          "output_type": "execute_result",
          "data": {
            "text/plain": [
              "<matplotlib.collections.PathCollection at 0x7fa98d2094c0>"
            ]
          },
          "metadata": {},
          "execution_count": 10
        },
        {
          "output_type": "display_data",
          "data": {
            "text/plain": [
              "<Figure size 432x288 with 1 Axes>"
            ],
            "image/png": "[encoded data removed]"
          },
          "metadata": {
            "needs_background": "light"
          }
        }
      ]
    },
    {
      "cell_type": "code",
      "metadata": {
        "id": "RaLXaua_eDwO",
        "outputId": "c642b871-a9a4-445e-a371-c533bf3f98d7",
        "colab": {
          "base_uri": "https://localhost:8080/"
        }
      },
      "source": [
        "# сначала переформатируем данные из одномерных массивов в двумерные, т.к. этого требует синтаксис LinearRegression() \n",
        "# при работе с реальными датасетами делать этого не нужно\n",
        "x = np.reshape(x, (N, 1))\n",
        "y = np.reshape(y, (N, 1))\n",
        "linreg = linear_model.LinearRegression() \n",
        "\n",
        "# обучим модель\n",
        "linreg.fit(x, y)\n",
        "\n",
        "# выведем коэффициенты\n",
        "print(linreg.intercept_, linreg.coef_)"
      ],
      "execution_count": 11,
      "outputs": [
        {
          "output_type": "stream",
          "name": "stdout",
          "text": [
            "[3.73793169] [[0.88945644]]\n"
          ]
        }
      ]
    },
    {
      "cell_type": "markdown",
      "metadata": {
        "id": "vNfD6bEVeDwO"
      },
      "source": [
        "Как правило, коэффициенты модели с гетероскедастичностю сильнее отличаются от настоящих значений параметров 2 и 1 по сравнению с гомоскедастичным случаем.  \n",
        "Пострадает и r2_score — модель с гетероскедатсичным шумом хуже объясняет изменения y. Прогнозы в такой модели тоже будут менее точные"
      ]
    },
    {
      "cell_type": "code",
      "metadata": {
        "id": "1zyWYCpCeDwP",
        "outputId": "3a1e1f15-be76-433c-c611-6a3091875082",
        "colab": {
          "base_uri": "https://localhost:8080/"
        }
      },
      "source": [
        "y_pred = linreg.predict(x)\n",
        "r2_score(y, y_pred)"
      ],
      "execution_count": 12,
      "outputs": [
        {
          "output_type": "execute_result",
          "data": {
            "text/plain": [
              "0.9059281746803667"
            ]
          },
          "metadata": {},
          "execution_count": 12
        }
      ]
    },
    {
      "cell_type": "markdown",
      "metadata": {
        "id": "trmoAhdKeDwP"
      },
      "source": [
        "Пример внизу показывает, что, чем больше гетероскедастичность, тем хуже работает модель"
      ]
    },
    {
      "cell_type": "code",
      "metadata": {
        "id": "UPiU9SvWeDwP",
        "outputId": "817a38f0-53dc-4b3b-a6b9-3e1c9b119d75",
        "colab": {
          "base_uri": "https://localhost:8080/"
        }
      },
      "source": [
        "x = np.arange(N)\n",
        "\n",
        "# увеличим амлитуду шума в 4 раза\n",
        "\n",
        "y = 2 + x + 4*heteps\n",
        "x = np.reshape(x, (N, 1))\n",
        "y = np.reshape(y, (N, 1))\n",
        "linreg = linear_model.LinearRegression() \n",
        "\n",
        "# обучим модель\n",
        "linreg.fit(x, y)\n",
        "\n",
        "# выведем коэффициенты\n",
        "print(linreg.intercept_, linreg.coef_)\n",
        "\n",
        "# найдем оценки y\n",
        "y_pred = linreg.predict(x)\n",
        "\n",
        "# выведем r2_score\n",
        "print(r2_score(y, y_pred))"
      ],
      "execution_count": 13,
      "outputs": [
        {
          "output_type": "stream",
          "name": "stdout",
          "text": [
            "[8.95172676] [[0.55782574]]\n",
            "0.19141915722723202\n"
          ]
        }
      ]
    },
    {
      "cell_type": "markdown",
      "metadata": {
        "id": "FOJ4wYjEeDwQ"
      },
      "source": [
        "а вот что происходит с увеличением амплитуды шума в гомоскедатсичной модели:"
      ]
    },
    {
      "cell_type": "code",
      "metadata": {
        "id": "vOSLY_wmeDwQ",
        "outputId": "8f9bf058-112e-4740-d6be-c1c2dd05f1b7",
        "colab": {
          "base_uri": "https://localhost:8080/"
        }
      },
      "source": [
        "x = np.arange(N)\n",
        "# увеличим амлитуду шума в 4 раза\n",
        "y = 2 + x + 4*eps\n",
        "x = np.reshape(x, (N, 1))\n",
        "y = np.reshape(y, (N, 1))\n",
        "linreg = linear_model.LinearRegression() \n",
        "\n",
        "# обучим модель\n",
        "linreg.fit(x, y)\n",
        "\n",
        "# выведем коэффициенты\n",
        "print(linreg.intercept_, linreg.coef_)\n",
        "\n",
        "# найдем оценки y\n",
        "y_pred = linreg.predict(x)\n",
        "\n",
        "# выведем r2_score\n",
        "print(r2_score(y, y_pred))"
      ],
      "execution_count": 14,
      "outputs": [
        {
          "output_type": "stream",
          "name": "stdout",
          "text": [
            "[4.28214696] [[0.89352732]]\n",
            "0.9080891158632125\n"
          ]
        }
      ]
    },
    {
      "cell_type": "markdown",
      "metadata": {
        "id": "VdoS3Z2GeDwQ"
      },
      "source": [
        "Как видите, intercept модели гуляет, но коэффициент при x оценивается довольно неплохо.\n",
        "r2_score тоже ожидаемо падает, но не так сильно, как в гетероскедастичном случае."
      ]
    }
  ]
}