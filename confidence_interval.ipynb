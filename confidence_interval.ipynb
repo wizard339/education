{
  "nbformat": 4,
  "nbformat_minor": 0,
  "metadata": {
    "colab": {
      "provenance": [],
      "authorship_tag": "ABX9TyO6w8Rn4dH+ejg7pVbrj2kE",
      "include_colab_link": true
    },
    "kernelspec": {
      "name": "python3",
      "display_name": "Python 3"
    },
    "language_info": {
      "name": "python"
    }
  },
  "cells": [
    {
      "cell_type": "markdown",
      "metadata": {
        "id": "view-in-github",
        "colab_type": "text"
      },
      "source": [
        "<a href=\"https://colab.research.google.com/github/wizard339/education/blob/main/confidence_interval.ipynb\" target=\"_parent\"><img src=\"https://colab.research.google.com/assets/colab-badge.svg\" alt=\"Open In Colab\"/></a>"
      ]
    },
    {
      "cell_type": "code",
      "execution_count": 6,
      "metadata": {
        "id": "aQHwY1VTQ3gM"
      },
      "outputs": [],
      "source": [
        "from scipy.stats import norm, t\n",
        "import math\n",
        "import statistics"
      ]
    },
    {
      "cell_type": "markdown",
      "source": [
        "Для случая с известным значением $σ$ предел погрешности и его интервалы $z(\\frac{α}{2})*\\frac{σ}{\\sqrt{n}}$ можно вычислить, используя формулу:\n",
        "\n"
      ],
      "metadata": {
        "id": "KpIu0Q8ARMeE"
      }
    },
    {
      "cell_type": "code",
      "source": [
        "def confidence_interval_norm(alpha, sigma, n, mean):\n",
        "  value = norm.ppf(alpha / 2) * sigma / math.sqrt(n)\n",
        "  return mean - value, mean + value"
      ],
      "metadata": {
        "id": "oNSLF0j5RFQi"
      },
      "execution_count": 2,
      "outputs": []
    },
    {
      "cell_type": "markdown",
      "source": [
        "Для случая с неизвестным значением $σ$ предел погрешности и его интервалы $t(\\frac{α}{2})(k)*\\frac{σ}{\\sqrt{n}}$ можно вычислить, используя формулу:"
      ],
      "metadata": {
        "id": "CXv70rtfSu5u"
      }
    },
    {
      "cell_type": "code",
      "source": [
        "def confidence_interval_t(p, s, n, mean):\n",
        "  value = t.ppf((1 + p) / 2, n - 1) * s / math.sqrt(n)\n",
        "  return mean - value, mean + value"
      ],
      "metadata": {
        "id": "Jis5nHxCSpIu"
      },
      "execution_count": 34,
      "outputs": []
    },
    {
      "cell_type": "code",
      "source": [
        "measures = [float(x) for x in '1.2\t0.2\t1.6\t1.9\t-0.4\t0.5\t1.4\t1.7\t2.5\t1.3'.split('\\t')]\n",
        "measures"
      ],
      "metadata": {
        "colab": {
          "base_uri": "https://localhost:8080/"
        },
        "id": "A43bspSpTUgx",
        "outputId": "3976a659-d29f-40da-c44f-e78581f632a7"
      },
      "execution_count": 8,
      "outputs": [
        {
          "output_type": "execute_result",
          "data": {
            "text/plain": [
              "[1.2, 0.2, 1.6, 1.9, -0.4, 0.5, 1.4, 1.7, 2.5, 1.3]"
            ]
          },
          "metadata": {},
          "execution_count": 8
        }
      ]
    },
    {
      "cell_type": "code",
      "source": [
        "meas_mean = sum(measures) / len(measures)\n",
        "meas_s = statistics.stdev(measures)\n",
        "print('Mean:', meas_mean)\n",
        "print('Std dev:', meas_s)"
      ],
      "metadata": {
        "colab": {
          "base_uri": "https://localhost:8080/"
        },
        "id": "NiXLXVgiTjFj",
        "outputId": "10ab32cc-6bc8-46f2-8731-07edfdf0cd64"
      },
      "execution_count": 9,
      "outputs": [
        {
          "output_type": "stream",
          "name": "stdout",
          "text": [
            "Mean: 1.19\n",
            "Std dev: 0.8621033709609435\n"
          ]
        }
      ]
    },
    {
      "cell_type": "code",
      "source": [
        "confidence_interval_t(.95, meas_s, len(measures), meas_mean)"
      ],
      "metadata": {
        "colab": {
          "base_uri": "https://localhost:8080/"
        },
        "id": "_Rsnti9cU06g",
        "outputId": "f0b8e144-45e4-455a-a163-e9a6c79a6d1a"
      },
      "execution_count": 35,
      "outputs": [
        {
          "output_type": "execute_result",
          "data": {
            "text/plain": [
              "(0.5732883999380969, 1.806711600061903)"
            ]
          },
          "metadata": {},
          "execution_count": 35
        }
      ]
    },
    {
      "cell_type": "code",
      "source": [],
      "metadata": {
        "id": "XVIhOnDqV3SR"
      },
      "execution_count": null,
      "outputs": []
    }
  ]
}