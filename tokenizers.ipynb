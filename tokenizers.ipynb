{
  "nbformat": 4,
  "nbformat_minor": 0,
  "metadata": {
    "colab": {
      "provenance": [],
      "include_colab_link": true
    },
    "kernelspec": {
      "name": "python3",
      "display_name": "Python 3"
    }
  },
  "cells": [
    {
      "cell_type": "markdown",
      "metadata": {
        "id": "view-in-github",
        "colab_type": "text"
      },
      "source": [
        "<a href=\"https://colab.research.google.com/github/wizard339/education/blob/main/tokenizers.ipynb\" target=\"_parent\"><img src=\"https://colab.research.google.com/assets/colab-badge.svg\" alt=\"Open In Colab\"/></a>"
      ]
    },
    {
      "cell_type": "code",
      "metadata": {
        "id": "MI_L2TBSZadk"
      },
      "source": [
        "!pip install datasets\n",
        "!pip install tokenizers"
      ],
      "execution_count": null,
      "outputs": []
    },
    {
      "cell_type": "markdown",
      "metadata": {
        "id": "s09CQfFyURY8"
      },
      "source": [
        "# 🤗 Tokenizers\n",
        "\n",
        "Для работы с текстом нам нужно уметь представлять его в понятном копмьютеру виде и первые шаги в направлении - это разбить текст на токены (которые могут быть словами, а могут и не быть в зависимости от метода токенизации) и сопоставить каждому слову уникальный номер от 0 до размера вашего словаря. После этого мы сможем конвертировать строку типа \"это токенизированная строка\" в вектор вида `[47, 392, 38]`. Эта операция - замены токенов на их индексы - часто называется **нумерикализация**, а обратная операция - **денумерикализация**.\n",
        "\n",
        "Если вы используете модуль `sklearn.feature_extraction.text`, например для векторизации с помощью `TfidfVectorizer`, sklearn выполняет все эти операции за вас под капотом, но если вы хотите использовать нейросети, жизнь становится гораздо сложнее и до недавнего времени почти все использовали самописные штуки, чтобы (де)нумерикализовать тексты. Это создавало множество неудобст связанных с тем, что во-первых вам приходилось писать больше кода (и создавать больше ошибок), во-вторых рядом с нумерикализацией лежит очень много мелких подзадач включая использование специальных токенов, таких как UNK, сериализация ваших объектов, и распараллеливание на несколько потоков для ускорения. \n",
        "\n",
        "Huggingface Tokenizers постепенно становятся всё более и более популярными в NLP-сообществе. Эта библиотека быстро развивается и позволяет вам использовать различные методы токенизации - от разделения на слова по пробелу до разделения на битовые представления unicode-строк в зависимости от частоты битовой n-gram. Также она умеет делать нумерикализацию и очень быстро работает. Вместо самописных подходов, которые всё ещё часто преподаются в курсах по NLP, мы будем использовать 🤗 Tokenizers в течение всего курса и довольно быстро вы научитесь пользоваться даже не самыми очевидными её методами. А сейчас мы начнём с самых основ."
      ]
    },
    {
      "cell_type": "code",
      "metadata": {
        "colab": {
          "base_uri": "https://localhost:8080/",
          "height": 35
        },
        "id": "DLYms6MBUPYm",
        "outputId": "e3f433ce-fadd-44c1-f415-36e6a6703a02"
      },
      "source": [
        "import datasets\n",
        "import tokenizers\n",
        "tokenizers.__version__  # should be above or equal 0.10.0rc1"
      ],
      "execution_count": 2,
      "outputs": [
        {
          "output_type": "execute_result",
          "data": {
            "text/plain": [
              "'0.13.2'"
            ],
            "application/vnd.google.colaboratory.intrinsic+json": {
              "type": "string"
            }
          },
          "metadata": {},
          "execution_count": 2
        }
      ]
    },
    {
      "cell_type": "markdown",
      "metadata": {
        "id": "Ww0-lHJwaSMr"
      },
      "source": [
        "За функции предобработки текста, разделения его на токены и нумерикализации в 🤗 Tokenizers отвечает объект `Tokenizer`. Самый наглядный способ его создать - это предоставить ему словарь, мапящий слова на их индексы. Давайте напишем функцию, которая это делает.\n",
        "\n",
        "**NOTE:** Самая простая операция токенизации - разделение строки на слова с помощью regex - стоит несколько сбоку в Tokenizers и даже не называется методом токенизации, тк зачастую она используется как первый шаг более сложного метода токенизации. Поэтому она задаётся с помощью объекта вида `pre_tokenizer`.\n",
        "\n",
        "Для этого мы делаем функцию, которая в начале создаёт объект `pre_tokenizer` и препоцессит наши тексты. После чего мы подсчитываем частоты наших токенов и выбирает top-N самых частотных, это удобно делать с помощью объекта `Counter` из встроенного в Python модуля collections. В игрушечном примере в слещующей ячейке, состоящим только лишь из двух коротких предложений эта операция неважна, но когда вы работаете с текстами размерами с Википедию, ваш словарь быстро станет необъёмных размеров и его нужно уметь огрничивать.\n",
        "\n",
        "Третий шаг - создание мапинга слов на их индексы. Он довольно простой и его можно сделать в одну строчку с помощью dictionary comprehension. И после этого мы готовы создать объект `Tokenizer` и присвоить ему претокенизатор, который мы использовали для разделения текста на слова."
      ]
    },
    {
      "cell_type": "code",
      "metadata": {
        "id": "aPZ9Exn3ZeKa"
      },
      "source": [
        "from collections import Counter\n",
        "\n",
        "import tokenizers\n",
        "from tokenizers.models import WordLevel\n",
        "from tokenizers.pre_tokenizers import Whitespace\n",
        "\n",
        "texts = ['a list of sentences from my dataset', 'this is a text with known words']\n",
        "\n",
        "\n",
        "def make_whitespace_tokenizer(texts, max_vocab_size=10_000, unk_token='UNK'):\n",
        "    pre_tokenizer = Whitespace()\n",
        "    tokenized_texts = [[w for w, _ in pre_tokenizer.pre_tokenize_str(t)] for t in texts]\n",
        "\n",
        "    c = Counter()\n",
        "    for text in tokenized_texts:\n",
        "        c.update(text)\n",
        "\n",
        "    token2id = {word: i + 1 for i, (word, count) in enumerate(c.most_common(max_vocab_size))}\n",
        "\n",
        "    # usually, UNK is assigned index 0 or 1\n",
        "    token2id[unk_token] = 0\n",
        "\n",
        "    tokenizer = tokenizers.Tokenizer(WordLevel(token2id, unk_token))\n",
        "    tokenizer.pre_tokenizer = pre_tokenizer\n",
        "    return tokenizer\n",
        "\n",
        "\n",
        "tokenizer = make_whitespace_tokenizer(texts)"
      ],
      "execution_count": 3,
      "outputs": []
    },
    {
      "cell_type": "markdown",
      "metadata": {
        "id": "kpbn6P6Qd2Jq"
      },
      "source": [
        "# Encoding and decoding text\n",
        "\n",
        "Для нумерикализации текста мы используем метод `.encode()`, возвращающий объект класса `Encoding`. Он содержит в себе много полезной информации, но самое главное из него - `.ids` дающий нам нумерикализованный текст, где слова заменены на их индексы."
      ]
    },
    {
      "cell_type": "code",
      "metadata": {
        "colab": {
          "base_uri": "https://localhost:8080/"
        },
        "id": "_rF_Ouq4bg8k",
        "outputId": "159b3e3f-6447-473a-94b5-f78fa0e6aa90"
      },
      "source": [
        "_text = 'this is a text with unknown_word'\n",
        "e = tokenizer.encode(_text)\n",
        "e"
      ],
      "execution_count": 4,
      "outputs": [
        {
          "output_type": "execute_result",
          "data": {
            "text/plain": [
              "Encoding(num_tokens=6, attributes=[ids, type_ids, tokens, offsets, attention_mask, special_tokens_mask, overflowing])"
            ]
          },
          "metadata": {},
          "execution_count": 4
        }
      ]
    },
    {
      "cell_type": "code",
      "metadata": {
        "colab": {
          "base_uri": "https://localhost:8080/"
        },
        "id": "qM1wIMLIiFD_",
        "outputId": "270aebac-fe11-41c7-adc0-0060e5344b3f"
      },
      "source": [
        "e.ids"
      ],
      "execution_count": 5,
      "outputs": [
        {
          "output_type": "execute_result",
          "data": {
            "text/plain": [
              "[8, 9, 1, 10, 11, 0]"
            ]
          },
          "metadata": {},
          "execution_count": 5
        }
      ]
    },
    {
      "cell_type": "markdown",
      "metadata": {
        "id": "PEb3MVLueR8V"
      },
      "source": [
        "Денумерикализация делается методом `.decode()` (обратите внимание, что на вход к нему приходят `.ids`, а не объект `Encoding`). Эта операция очень важна на практике по многим причинам и одна из них - вы можете посмотреть на текст так, как его видит ваша нейросеть - с неизвестныи слоавми замененными на токен UNK и, возможно, с вамиши ошибками препроцессинга. Эти ошибки очень часты на практике и использование денумерикализации сильно помогает в дебаге.\n",
        "\n",
        "Кроме этого нам не обойтись без этой операции в задачах генерации текста таких как машинный перевод, потому что на выходе из нашей модели мы ожидаем не последовательность чисел, а переведённый на другой язык текст."
      ]
    },
    {
      "cell_type": "code",
      "metadata": {
        "colab": {
          "base_uri": "https://localhost:8080/",
          "height": 35
        },
        "id": "vI3sByQyeNPs",
        "outputId": "7a13bf83-f35f-43d8-ef45-fc9713879ee1"
      },
      "source": [
        "tokenizer.decode(e.ids)"
      ],
      "execution_count": 6,
      "outputs": [
        {
          "output_type": "execute_result",
          "data": {
            "text/plain": [
              "'this is a text with UNK'"
            ],
            "application/vnd.google.colaboratory.intrinsic+json": {
              "type": "string"
            }
          },
          "metadata": {},
          "execution_count": 6
        }
      ]
    },
    {
      "cell_type": "markdown",
      "metadata": {
        "id": "hQAq6d9dfqrr"
      },
      "source": [
        "Вы можете также использовать аттрибут `.tokens` у объекта `Encoding` и он выдаст вам список токенов в этом предложении. Обратите внимание, что в нём хранятся оригинальные токены текста, следовательно его не стоит использовать для дебага."
      ]
    },
    {
      "cell_type": "code",
      "metadata": {
        "colab": {
          "base_uri": "https://localhost:8080/"
        },
        "id": "SS1sTaocfUQj",
        "outputId": "25781e9e-59a1-4359-a532-b6911a9f656e"
      },
      "source": [
        "e.tokens"
      ],
      "execution_count": 7,
      "outputs": [
        {
          "output_type": "execute_result",
          "data": {
            "text/plain": [
              "['this', 'is', 'a', 'text', 'with', 'UNK']"
            ]
          },
          "metadata": {},
          "execution_count": 7
        }
      ]
    },
    {
      "cell_type": "markdown",
      "metadata": {
        "id": "n2lOuyQGgHde"
      },
      "source": [
        "Ещё одна важная функция `Tokenizer` - это давать вам id одного слова или наоборот - выдавать слово по его id. Эти операции делаются методами `token_to_id` и `id_to_token`."
      ]
    },
    {
      "cell_type": "code",
      "metadata": {
        "colab": {
          "base_uri": "https://localhost:8080/"
        },
        "id": "DC-_wQZ-frw2",
        "outputId": "f9adb0e2-3646-4b4c-d6d4-ebcb69f82509"
      },
      "source": [
        "tokenizer.token_to_id('this')"
      ],
      "execution_count": 8,
      "outputs": [
        {
          "output_type": "execute_result",
          "data": {
            "text/plain": [
              "8"
            ]
          },
          "metadata": {},
          "execution_count": 8
        }
      ]
    },
    {
      "cell_type": "code",
      "metadata": {
        "colab": {
          "base_uri": "https://localhost:8080/",
          "height": 35
        },
        "id": "xFKByRI7gO3u",
        "outputId": "7b89d370-b500-4e2c-c4a7-e370fac4e874"
      },
      "source": [
        "tokenizer.id_to_token(8)"
      ],
      "execution_count": 9,
      "outputs": [
        {
          "output_type": "execute_result",
          "data": {
            "text/plain": [
              "'this'"
            ],
            "application/vnd.google.colaboratory.intrinsic+json": {
              "type": "string"
            }
          },
          "metadata": {},
          "execution_count": 9
        }
      ]
    },
    {
      "cell_type": "markdown",
      "metadata": {
        "id": "XMhM0M-agZ1P"
      },
      "source": [
        "# Saving and loading the tokenizer\n",
        "\n",
        "Если вы хотите задеплоить вашу обученную модель, вам нужны две вещи: ваша модель и пайплайн препроцессинга. `Tokenizer` по сути и является этим методом препроцессинга, тк он может включать в себя несколько шагов: нормализция и претокенизация, разбивание текста на токены и нумерикализация. Сохранение и загрузка `Tokenizer` реализована очень просто."
      ]
    },
    {
      "cell_type": "code",
      "metadata": {
        "id": "KUIQQsgfgVam"
      },
      "source": [
        "tokenizer.save('tokenizer.json')"
      ],
      "execution_count": 10,
      "outputs": []
    },
    {
      "cell_type": "markdown",
      "metadata": {
        "id": "mj-V1eKfhVeG"
      },
      "source": [
        "Давайте посмотрим как выглядит этот файл"
      ]
    },
    {
      "cell_type": "code",
      "metadata": {
        "colab": {
          "base_uri": "https://localhost:8080/"
        },
        "id": "kIUmGIUdhPo8",
        "outputId": "ea9cb99e-83bd-42e9-87ed-9ebeed4be086"
      },
      "source": [
        "import json\n",
        "\n",
        "with open('tokenizer.json') as f:\n",
        "    tokenizer_json = json.load(f)\n",
        "\n",
        "tokenizer_json"
      ],
      "execution_count": 11,
      "outputs": [
        {
          "output_type": "execute_result",
          "data": {
            "text/plain": [
              "{'version': '1.0',\n",
              " 'truncation': None,\n",
              " 'padding': None,\n",
              " 'added_tokens': [],\n",
              " 'normalizer': None,\n",
              " 'pre_tokenizer': {'type': 'Whitespace'},\n",
              " 'post_processor': None,\n",
              " 'decoder': None,\n",
              " 'model': {'type': 'WordLevel',\n",
              "  'vocab': {'UNK': 0,\n",
              "   'a': 1,\n",
              "   'list': 2,\n",
              "   'of': 3,\n",
              "   'sentences': 4,\n",
              "   'from': 5,\n",
              "   'my': 6,\n",
              "   'dataset': 7,\n",
              "   'this': 8,\n",
              "   'is': 9,\n",
              "   'text': 10,\n",
              "   'with': 11,\n",
              "   'known': 12,\n",
              "   'words': 13},\n",
              "  'unk_token': 'UNK'}}"
            ]
          },
          "metadata": {},
          "execution_count": 11
        }
      ]
    },
    {
      "cell_type": "markdown",
      "metadata": {
        "id": "xarM46NohZUs"
      },
      "source": [
        "Мы видим, что токенизатор сериализоват как простой и читаемый json и содержит в себе претокенизатор `Whitespace`, словарь, указание на то, какой токен используется как UNK-токен и многое другое о чём мы с вами поговорим в будущих занятиях.\n",
        "\n",
        "Для загрузки токенизатора используется метод `from_file`."
      ]
    },
    {
      "cell_type": "code",
      "metadata": {
        "colab": {
          "base_uri": "https://localhost:8080/"
        },
        "id": "MmLZD23XhUqS",
        "outputId": "e71a43b9-517e-42e1-f945-4417c74a7ab7"
      },
      "source": [
        "loaded_tokenizer = tokenizers.Tokenizer.from_file('tokenizer.json')\n",
        "e = loaded_tokenizer.encode('this is a text')\n",
        "e"
      ],
      "execution_count": 12,
      "outputs": [
        {
          "output_type": "execute_result",
          "data": {
            "text/plain": [
              "Encoding(num_tokens=4, attributes=[ids, type_ids, tokens, offsets, attention_mask, special_tokens_mask, overflowing])"
            ]
          },
          "metadata": {},
          "execution_count": 12
        }
      ]
    },
    {
      "cell_type": "code",
      "metadata": {
        "colab": {
          "base_uri": "https://localhost:8080/"
        },
        "id": "DkG6ppi6iBfU",
        "outputId": "82c53491-314f-4d67-b8fb-0291f10e8130"
      },
      "source": [
        "e.ids"
      ],
      "execution_count": 13,
      "outputs": [
        {
          "output_type": "execute_result",
          "data": {
            "text/plain": [
              "[8, 9, 1, 10]"
            ]
          },
          "metadata": {},
          "execution_count": 13
        }
      ]
    },
    {
      "cell_type": "markdown",
      "metadata": {
        "id": "n4eRWHJZiNZJ"
      },
      "source": [
        "# Batching\n",
        "\n",
        "Ещё одна важная фича 🤗 Tokenizers - это возможность энкодить и декодить тексты в параллельных трэдах. Это становится очень важно, тк CPU-bottlenecks (когда предобработка занимает сопоставимое время с forward pass вашей нейросети) очень часты в NLP и могут сильно замедлить вашу тренировку, тк GPU будет ждать предобработки и ничего не делать в это время.\n",
        "\n",
        "Для того, чтобы выполнить энкодинг в параллель, вы можете использовать метод `encode_batch`. Эта функциональность становится очень важной, когда размер вашего батча близок к 64 или больше."
      ]
    },
    {
      "cell_type": "code",
      "metadata": {
        "colab": {
          "base_uri": "https://localhost:8080/"
        },
        "id": "c4So4EDTiJKl",
        "outputId": "3e0f28c6-6d47-49c9-a1ca-cc6c837eca2d"
      },
      "source": [
        "texts"
      ],
      "execution_count": 14,
      "outputs": [
        {
          "output_type": "execute_result",
          "data": {
            "text/plain": [
              "['a list of sentences from my dataset', 'this is a text with known words']"
            ]
          },
          "metadata": {},
          "execution_count": 14
        }
      ]
    },
    {
      "cell_type": "code",
      "metadata": {
        "colab": {
          "base_uri": "https://localhost:8080/"
        },
        "id": "tLhnX-EGiMg2",
        "outputId": "7cff4f2a-9e6a-4505-da51-3ae0bae2d11d"
      },
      "source": [
        "batch = tokenizer.encode_batch(texts)\n",
        "batch"
      ],
      "execution_count": 15,
      "outputs": [
        {
          "output_type": "execute_result",
          "data": {
            "text/plain": [
              "[Encoding(num_tokens=7, attributes=[ids, type_ids, tokens, offsets, attention_mask, special_tokens_mask, overflowing]),\n",
              " Encoding(num_tokens=7, attributes=[ids, type_ids, tokens, offsets, attention_mask, special_tokens_mask, overflowing])]"
            ]
          },
          "metadata": {},
          "execution_count": 15
        }
      ]
    },
    {
      "cell_type": "code",
      "metadata": {
        "colab": {
          "base_uri": "https://localhost:8080/"
        },
        "id": "zkV-S6VOjeU8",
        "outputId": "6add3a2e-97b9-4d91-e240-e3b393796e4b"
      },
      "source": [
        "batch[0].ids, batch[1].ids"
      ],
      "execution_count": 16,
      "outputs": [
        {
          "output_type": "execute_result",
          "data": {
            "text/plain": [
              "([1, 2, 3, 4, 5, 6, 7], [8, 9, 1, 10, 11, 12, 13])"
            ]
          },
          "metadata": {},
          "execution_count": 16
        }
      ]
    },
    {
      "cell_type": "markdown",
      "metadata": {
        "id": "W9VM_KlsnciA"
      },
      "source": [
        "Если вы хотите больше познакомиться с 🤗 Tokenizers, мы рекомендуем вам почитать их [документацию](https://huggingface.co/docs/tokenizers/python/latest). "
      ]
    },
    {
      "cell_type": "code",
      "metadata": {
        "id": "TkUWn-rUmnli",
        "colab": {
          "base_uri": "https://localhost:8080/"
        },
        "outputId": "7b5a7d82-fc66-47e7-e010-8a67920a2e46"
      },
      "source": [
        "!wget https://s3.amazonaws.com/research.metamind.io/wikitext/wikitext-103-raw-v1.zip\n",
        "!unzip wikitext-103-raw-v1.zip"
      ],
      "execution_count": 17,
      "outputs": [
        {
          "output_type": "stream",
          "name": "stdout",
          "text": [
            "--2023-01-23 19:05:11--  https://s3.amazonaws.com/research.metamind.io/wikitext/wikitext-103-raw-v1.zip\n",
            "Resolving s3.amazonaws.com (s3.amazonaws.com)... 52.216.81.27, 54.231.203.96, 52.217.34.62, ...\n",
            "Connecting to s3.amazonaws.com (s3.amazonaws.com)|52.216.81.27|:443... connected.\n",
            "HTTP request sent, awaiting response... 200 OK\n",
            "Length: 191984949 (183M) [application/zip]\n",
            "Saving to: ‘wikitext-103-raw-v1.zip’\n",
            "\n",
            "wikitext-103-raw-v1 100%[===================>] 183.09M  61.4MB/s    in 3.0s    \n",
            "\n",
            "2023-01-23 19:05:14 (61.4 MB/s) - ‘wikitext-103-raw-v1.zip’ saved [191984949/191984949]\n",
            "\n",
            "Archive:  wikitext-103-raw-v1.zip\n",
            "   creating: wikitext-103-raw/\n",
            "  inflating: wikitext-103-raw/wiki.test.raw  \n",
            "  inflating: wikitext-103-raw/wiki.valid.raw  \n",
            "  inflating: wikitext-103-raw/wiki.train.raw  \n"
          ]
        }
      ]
    },
    {
      "cell_type": "code",
      "source": [
        "from tokenizers import Tokenizer\n",
        "from tokenizers.models import BPE"
      ],
      "metadata": {
        "id": "WNTmHPYFyiMM"
      },
      "execution_count": 18,
      "outputs": []
    },
    {
      "cell_type": "code",
      "source": [
        "tokenizer = Tokenizer(BPE(unk_token='[UNK]'))"
      ],
      "metadata": {
        "id": "bjCWG8fUyu-I"
      },
      "execution_count": 19,
      "outputs": []
    },
    {
      "cell_type": "markdown",
      "source": [
        "To train our tokenizer on the wikitext files, we will need to instantiate a [trainer]{.title-ref}, in this case a BpeTrainer"
      ],
      "metadata": {
        "id": "QRQtqyfJy-tj"
      }
    },
    {
      "cell_type": "code",
      "source": [
        "from tokenizers.trainers import BpeTrainer\n",
        "trainer = BpeTrainer(special_tokens=[\"[UNK]\", \"[CLS]\", \"[SEP]\", \"[PAD]\", \"[MASK]\"])"
      ],
      "metadata": {
        "id": "mpHDQRWly-WN"
      },
      "execution_count": 20,
      "outputs": []
    },
    {
      "cell_type": "markdown",
      "source": [
        "We can set the training arguments like vocab_size or min_frequency (here left at their default values of 30,000 and 0) but the most important part is to give the special_tokens we plan to use later on (they are not used at all during training) so that they get inserted in the vocabulary.\n",
        "\n",
        "The order in which you write the special tokens list matters: here \"[UNK]\" will get the ID 0, \"[CLS]\" will get the ID 1 and so forth.\n",
        "\n",
        "We could train our tokenizer right now, but it wouldn’t be optimal. Without a pre-tokenizer that will split our inputs into words, we might get tokens that overlap several words: for instance we could get an \"it is\" token since those two words often appear next to each other. Using a pre-tokenizer will ensure no token is bigger than a word returned by the pre-tokenizer. Here we want to train a subword BPE tokenizer, and we will use the easiest pre-tokenizer possible by splitting on whitespace."
      ],
      "metadata": {
        "id": "0n_DQtWe0X1w"
      }
    },
    {
      "cell_type": "code",
      "source": [
        "from tokenizers.pre_tokenizers import Whitespace\n",
        "tokenizer.pre_tokenizer = Whitespace()"
      ],
      "metadata": {
        "id": "DtOTdxaXy2wH"
      },
      "execution_count": 21,
      "outputs": []
    },
    {
      "cell_type": "code",
      "source": [
        "files = [f'/content/wikitext-103-raw/wiki.{split}.raw' for split in ['test', 'train', 'valid']]\n",
        "tokenizer.train(files, trainer)"
      ],
      "metadata": {
        "id": "D2YrLn1E0jjw"
      },
      "execution_count": 22,
      "outputs": []
    },
    {
      "cell_type": "markdown",
      "source": [
        " To save the tokenizer in one file that contains all its configuration and vocabulary, just use the Tokenizer.save method:"
      ],
      "metadata": {
        "id": "f-OvIlsT1miN"
      }
    },
    {
      "cell_type": "code",
      "source": [
        "tokenizer.save('/content/tokenizer-wiki.json')"
      ],
      "metadata": {
        "id": "YAJDblqg1JtH"
      },
      "execution_count": 23,
      "outputs": []
    },
    {
      "cell_type": "markdown",
      "source": [
        "and you can reload your tokenizer from that file with the Tokenizer.from_file classmethod:"
      ],
      "metadata": {
        "id": "ctbTiiq310VD"
      }
    },
    {
      "cell_type": "code",
      "source": [
        "tokenizer = Tokenizer.from_file('/content/tokenizer-wiki.json')"
      ],
      "metadata": {
        "id": "PuonCc2X1yDq"
      },
      "execution_count": 24,
      "outputs": []
    },
    {
      "cell_type": "markdown",
      "source": [
        "Using the tokenizer\n",
        "Now that we have trained a tokenizer, we can use it on any text we want with the Tokenizer.encode method:"
      ],
      "metadata": {
        "id": "tO7FatAc3mXm"
      }
    },
    {
      "cell_type": "code",
      "source": [
        "output = tokenizer.encode(\"Hello, y'all! How are you 😁 ?\")"
      ],
      "metadata": {
        "id": "BJPyPI-D1-5a"
      },
      "execution_count": 25,
      "outputs": []
    },
    {
      "cell_type": "markdown",
      "source": [
        "This applied the full pipeline of the tokenizer on the text, returning an Encoding object.\n",
        "\n",
        "This Encoding object then has all the attributes you need for your deep learning model (or other). The tokens attribute contains the segmentation of your text in tokens:"
      ],
      "metadata": {
        "id": "ES70SJ0h3ypy"
      }
    },
    {
      "cell_type": "code",
      "source": [
        "print(output.tokens)"
      ],
      "metadata": {
        "colab": {
          "base_uri": "https://localhost:8080/"
        },
        "id": "BrAhx1qM3ukr",
        "outputId": "e0a6fe12-7d5d-48fe-8d45-b5e0141dc11d"
      },
      "execution_count": 26,
      "outputs": [
        {
          "output_type": "stream",
          "name": "stdout",
          "text": [
            "['Hello', ',', 'y', \"'\", 'all', '!', 'How', 'are', 'you', '[UNK]', '?']\n"
          ]
        }
      ]
    },
    {
      "cell_type": "markdown",
      "source": [
        "Similarly, the ids attribute will contain the index of each of those tokens in the tokenizer’s vocabulary:"
      ],
      "metadata": {
        "id": "B3SKA5Th4Kx4"
      }
    },
    {
      "cell_type": "code",
      "source": [
        "print(output.ids)"
      ],
      "metadata": {
        "colab": {
          "base_uri": "https://localhost:8080/"
        },
        "id": "gjlULLZT4H0t",
        "outputId": "f41d0857-a1f4-4f59-85c0-6005f51b657f"
      },
      "execution_count": 27,
      "outputs": [
        {
          "output_type": "stream",
          "name": "stdout",
          "text": [
            "[27253, 16, 93, 11, 5097, 5, 7961, 5112, 6218, 0, 35]\n"
          ]
        }
      ]
    },
    {
      "cell_type": "markdown",
      "source": [
        "An important feature of the 🤗 Tokenizers library is that it comes with full alignment tracking, meaning you can always get the part of your original sentence that corresponds to a given token. Those are stored in the offsets attribute of our Encoding object. For instance, let’s assume we would want to find back what caused the \"[UNK]\" token to appear, which is the token at index 9 in the list, we can just ask for the offset at the index:"
      ],
      "metadata": {
        "id": "RIEIqK-X4PpK"
      }
    },
    {
      "cell_type": "code",
      "source": [
        "print(output.offsets[9])"
      ],
      "metadata": {
        "colab": {
          "base_uri": "https://localhost:8080/"
        },
        "id": "E08CBdSM4ORp",
        "outputId": "49568a69-265a-48e4-aba4-d5eb8b462e2d"
      },
      "execution_count": 28,
      "outputs": [
        {
          "output_type": "stream",
          "name": "stdout",
          "text": [
            "(26, 27)\n"
          ]
        }
      ]
    },
    {
      "cell_type": "markdown",
      "source": [
        "and those are the indices that correspond to the emoji in the original sentence:"
      ],
      "metadata": {
        "id": "_OncIuTk7M6N"
      }
    },
    {
      "cell_type": "code",
      "source": [
        "sentence = \"Hello, y'all! How are you 😁 ?\"\n",
        "sentence[26:27]"
      ],
      "metadata": {
        "colab": {
          "base_uri": "https://localhost:8080/",
          "height": 35
        },
        "id": "OXSuT1MX4ecy",
        "outputId": "9ab00c45-8c44-4615-d644-c59cffb511d8"
      },
      "execution_count": 29,
      "outputs": [
        {
          "output_type": "execute_result",
          "data": {
            "text/plain": [
              "'😁'"
            ],
            "application/vnd.google.colaboratory.intrinsic+json": {
              "type": "string"
            }
          },
          "metadata": {},
          "execution_count": 29
        }
      ]
    },
    {
      "cell_type": "markdown",
      "source": [
        "Post-processing\n",
        "\n",
        "We might want our tokenizer to automatically add special tokens, like \"[CLS]\" or \"[SEP]\". To do this, we use a post-processor. TemplateProcessing is the most commonly used, you just have to specify a template for the processing of single sentences and pairs of sentences, along with the special tokens and their IDs.\n",
        "\n",
        "When we built our tokenizer, we set \"[CLS]\" and \"[SEP]\" in positions 1 and 2 of our list of special tokens, so this should be their IDs. To double-check, we can use the Tokenizer.token_to_id method:"
      ],
      "metadata": {
        "id": "cnYkHOu87nCl"
      }
    },
    {
      "cell_type": "code",
      "source": [
        "tokenizer.token_to_id('[SEP]')"
      ],
      "metadata": {
        "colab": {
          "base_uri": "https://localhost:8080/"
        },
        "id": "eo0w_UTG7U6z",
        "outputId": "97bed26d-0ccf-4589-8c2c-1105019048c7"
      },
      "execution_count": 30,
      "outputs": [
        {
          "output_type": "execute_result",
          "data": {
            "text/plain": [
              "2"
            ]
          },
          "metadata": {},
          "execution_count": 30
        }
      ]
    },
    {
      "cell_type": "markdown",
      "source": [
        "Here is how we can set the post-processing to give us the traditional BERT inputs:"
      ],
      "metadata": {
        "id": "xO3UWPVK79wO"
      }
    },
    {
      "cell_type": "code",
      "source": [
        "from tokenizers.processors import TemplateProcessing\n",
        "\n",
        "tokenizer.post_processor = TemplateProcessing(\n",
        "    single='[CLS] $A [SEP]',\n",
        "    pair='[CLS] $A [SEP] $B:1 [SEP]:1',\n",
        "    special_tokens=[\n",
        "        ('[CLS]', tokenizer.token_to_id('[CLS]')),\n",
        "        ('[SEP]', tokenizer.token_to_id('[SEP]'))\n",
        "    ]\n",
        ")"
      ],
      "metadata": {
        "id": "MwnHClHS7uHC"
      },
      "execution_count": 31,
      "outputs": []
    },
    {
      "cell_type": "markdown",
      "source": [
        "Let’s go over this snippet of code in more details. First we specify the template for single sentences: those should have the form \"[CLS] \\$A [SEP]\" where \\$A represents our sentence.\n",
        "\n",
        "Then, we specify the template for sentence pairs, which should have the form \"[CLS] \\$A [SEP] \\$B [SEP]\" where \\$A represents the first sentence and $B the second one. The :1 added in the template represent the type IDs we want for each part of our input: it defaults to 0 for everything (which is why we don’t have \\$A:0) and here we set it to 1 for the tokens of the second sentence and the last \"[SEP]\" token.\n",
        "\n",
        "Lastly, we specify the special tokens we used and their IDs in our tokenizer’s vocabulary.\n",
        "\n",
        "To check out this worked properly, let’s try to encode the same sentence as before:"
      ],
      "metadata": {
        "id": "PL8VD0Em9Ck-"
      }
    },
    {
      "cell_type": "code",
      "source": [
        "output = tokenizer.encode(\"Hello, y'all! How are you 😁 ?\")\n",
        "print(output.tokens)"
      ],
      "metadata": {
        "colab": {
          "base_uri": "https://localhost:8080/"
        },
        "id": "BYoEBr5z8uv2",
        "outputId": "770b6eec-1ef7-4e4f-93bd-d424c668df43"
      },
      "execution_count": 32,
      "outputs": [
        {
          "output_type": "stream",
          "name": "stdout",
          "text": [
            "['[CLS]', 'Hello', ',', 'y', \"'\", 'all', '!', 'How', 'are', 'you', '[UNK]', '?', '[SEP]']\n"
          ]
        }
      ]
    },
    {
      "cell_type": "markdown",
      "source": [
        "To check the results on a pair of sentences, we just pass the two sentences to Tokenizer.encode:"
      ],
      "metadata": {
        "id": "R9MLn5E7-Qn8"
      }
    },
    {
      "cell_type": "code",
      "source": [
        "output = tokenizer.encode(\"Hello, y'all!\", \"How are you 😁 ?\")\n",
        "print(output.tokens)"
      ],
      "metadata": {
        "colab": {
          "base_uri": "https://localhost:8080/"
        },
        "id": "jM9NNlLO-LBH",
        "outputId": "27279ad5-b259-42e6-e376-049ed9300d2b"
      },
      "execution_count": 33,
      "outputs": [
        {
          "output_type": "stream",
          "name": "stdout",
          "text": [
            "['[CLS]', 'Hello', ',', 'y', \"'\", 'all', '!', '[SEP]', 'How', 'are', 'you', '[UNK]', '?', '[SEP]']\n"
          ]
        }
      ]
    },
    {
      "cell_type": "markdown",
      "source": [
        "You can then check the type IDs attributed to each token is correct with"
      ],
      "metadata": {
        "id": "fzTHOmjE-aKx"
      }
    },
    {
      "cell_type": "code",
      "source": [
        "print(output.type_ids)"
      ],
      "metadata": {
        "colab": {
          "base_uri": "https://localhost:8080/"
        },
        "id": "9acxfYXQ-S_J",
        "outputId": "d2694fe6-00f6-4d74-aa83-6f06672d2687"
      },
      "execution_count": 34,
      "outputs": [
        {
          "output_type": "stream",
          "name": "stdout",
          "text": [
            "[0, 0, 0, 0, 0, 0, 0, 0, 1, 1, 1, 1, 1, 1]\n"
          ]
        }
      ]
    },
    {
      "cell_type": "markdown",
      "source": [
        "If you save your tokenizer with Tokenizer.save, the post-processor will be saved along.\n",
        "\n",
        "Encoding multiple sentences in a batch\n",
        "To get the full speed of the 🤗 Tokenizers library, it’s best to process your texts by batches by using the Tokenizer.encode_batch method:"
      ],
      "metadata": {
        "id": "TrahFMgE-pSv"
      }
    },
    {
      "cell_type": "code",
      "source": [
        "output = tokenizer.encode_batch([\"Hello, y'all!\", \"How are you 😁 ?\"])"
      ],
      "metadata": {
        "id": "I2_OT60n-c_S"
      },
      "execution_count": 35,
      "outputs": []
    },
    {
      "cell_type": "markdown",
      "source": [
        "The output is then a list of Encoding objects like the ones we saw before. You can process together as many texts as you like, as long as it fits in memory.\n",
        "\n",
        "To process a batch of sentences pairs, pass two lists to the Tokenizer.encode_batch method: the list of sentences A and the list of sentences B:"
      ],
      "metadata": {
        "id": "xF9VFKYR-8IN"
      }
    },
    {
      "cell_type": "code",
      "source": [
        "output = tokenizer.encode_batch(\n",
        "    [[\"Hello, y'all!\", \"How are you 😁 ?\"], [\"Hello to you too!\", \"I'm fine, thank you!\"]]\n",
        ")"
      ],
      "metadata": {
        "id": "TmEJNDT0-1Ud"
      },
      "execution_count": 36,
      "outputs": []
    },
    {
      "cell_type": "markdown",
      "source": [
        "When encoding multiple sentences, you can automatically pad the outputs to the longest sentence present by using Tokenizer.enable_padding, with the pad_token and its ID (which we can double-check the id for the padding token with Tokenizer.token_to_id like before):"
      ],
      "metadata": {
        "id": "N5vRFhJg_ViE"
      }
    },
    {
      "cell_type": "code",
      "source": [
        "tokenizer.enable_padding(pad_id=3, pad_token='[PAD]')"
      ],
      "metadata": {
        "id": "m5buniJE_GwP"
      },
      "execution_count": 37,
      "outputs": []
    },
    {
      "cell_type": "markdown",
      "source": [
        "We can set the direction of the padding (defaults to the right) or a given length if we want to pad every sample to that specific number (here we leave it unset to pad to the size of the longest text)."
      ],
      "metadata": {
        "id": "y3XDWpul_xYy"
      }
    },
    {
      "cell_type": "code",
      "source": [
        "output = tokenizer.encode_batch([\"Hello, y'all!\", \"How are you 😁 ?\"])\n",
        "print(output[1].tokens)"
      ],
      "metadata": {
        "colab": {
          "base_uri": "https://localhost:8080/"
        },
        "id": "VponTvPT_h__",
        "outputId": "e138656e-04a2-417b-b994-c1987a9a90cd"
      },
      "execution_count": 38,
      "outputs": [
        {
          "output_type": "stream",
          "name": "stdout",
          "text": [
            "['[CLS]', 'How', 'are', 'you', '[UNK]', '?', '[SEP]', '[PAD]']\n"
          ]
        }
      ]
    },
    {
      "cell_type": "markdown",
      "source": [
        "In this case, the attention mask generated by the tokenizer takes the padding into account:"
      ],
      "metadata": {
        "id": "LHRaltr_AD-2"
      }
    },
    {
      "cell_type": "code",
      "source": [
        "print(output[1].attention_mask)"
      ],
      "metadata": {
        "colab": {
          "base_uri": "https://localhost:8080/"
        },
        "id": "GkepkBWc__Uo",
        "outputId": "cbebccdd-b251-489d-870f-8417c7abc9bd"
      },
      "execution_count": 39,
      "outputs": [
        {
          "output_type": "stream",
          "name": "stdout",
          "text": [
            "[1, 1, 1, 1, 1, 1, 1, 0]\n"
          ]
        }
      ]
    },
    {
      "cell_type": "markdown",
      "source": [
        "Pretrained\n",
        "\n",
        "Using a pretrained tokenizer\n",
        "\n",
        "You can load any tokenizer from the Hugging Face Hub as long as a tokenizer.json file is available in the repository."
      ],
      "metadata": {
        "id": "Qfn6Q63sARUr"
      }
    },
    {
      "cell_type": "code",
      "source": [
        "from tokenizers import Tokenizer\n",
        "\n",
        "tokenizer = Tokenizer.from_pretrained('bert-base-uncased')"
      ],
      "metadata": {
        "id": "pwW5RUHeANgo"
      },
      "execution_count": 40,
      "outputs": []
    },
    {
      "cell_type": "markdown",
      "source": [
        "Importing a pretrained tokenizer from legacy vocabulary files\n",
        "You can also import a pretrained tokenizer directly in, as long as you have its vocabulary file. For instance, here is how to import the classic pretrained BERT tokenizer:"
      ],
      "metadata": {
        "id": "ieXe_ttRBqge"
      }
    },
    {
      "cell_type": "code",
      "source": [
        "!wget https://s3.amazonaws.com/models.huggingface.co/bert/bert-base-uncased-vocab.txt"
      ],
      "metadata": {
        "colab": {
          "base_uri": "https://localhost:8080/"
        },
        "id": "VY07WmbxCK6Q",
        "outputId": "1556ce85-09cd-4bd6-c9da-c49183f5b883"
      },
      "execution_count": 43,
      "outputs": [
        {
          "output_type": "stream",
          "name": "stdout",
          "text": [
            "--2023-01-23 19:09:25--  https://s3.amazonaws.com/models.huggingface.co/bert/bert-base-uncased-vocab.txt\n",
            "Resolving s3.amazonaws.com (s3.amazonaws.com)... 52.217.41.134, 54.231.169.72, 52.217.164.64, ...\n",
            "Connecting to s3.amazonaws.com (s3.amazonaws.com)|52.217.41.134|:443... connected.\n",
            "HTTP request sent, awaiting response... 200 OK\n",
            "Length: 231508 (226K) [text/plain]\n",
            "Saving to: ‘bert-base-uncased-vocab.txt’\n",
            "\n",
            "\r          bert-base   0%[                    ]       0  --.-KB/s               \rbert-base-uncased-v 100%[===================>] 226.08K  --.-KB/s    in 0.009s  \n",
            "\n",
            "2023-01-23 19:09:25 (23.4 MB/s) - ‘bert-base-uncased-vocab.txt’ saved [231508/231508]\n",
            "\n"
          ]
        }
      ]
    },
    {
      "cell_type": "code",
      "source": [
        "from tokenizers import BertWordPieceTokenizer\n",
        "\n",
        "tokenizer = BertWordPieceTokenizer('bert-base-uncased-vocab.txt', lowercase=True)"
      ],
      "metadata": {
        "id": "3JTX-1odAjuK"
      },
      "execution_count": 44,
      "outputs": []
    },
    {
      "cell_type": "code",
      "source": [],
      "metadata": {
        "id": "14hXbPj2CBB1"
      },
      "execution_count": null,
      "outputs": []
    }
  ]
}