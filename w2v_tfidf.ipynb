{
  "nbformat": 4,
  "nbformat_minor": 0,
  "metadata": {
    "colab": {
      "provenance": [],
      "authorship_tag": "ABX9TyNSxcNGdAamY4OsXLQK20YJ",
      "include_colab_link": true
    },
    "kernelspec": {
      "name": "python3",
      "display_name": "Python 3"
    },
    "language_info": {
      "name": "python"
    }
  },
  "cells": [
    {
      "cell_type": "markdown",
      "metadata": {
        "id": "view-in-github",
        "colab_type": "text"
      },
      "source": [
        "<a href=\"https://colab.research.google.com/github/wizard339/education/blob/main/w2v_tfidf.ipynb\" target=\"_parent\"><img src=\"https://colab.research.google.com/assets/colab-badge.svg\" alt=\"Open In Colab\"/></a>"
      ]
    },
    {
      "cell_type": "code",
      "execution_count": 66,
      "metadata": {
        "id": "aAdw9RsdeDm6"
      },
      "outputs": [],
      "source": [
        "import gensim\n",
        "import gensim.downloader\n",
        "import pandas as pd\n",
        "import numpy as np\n",
        "import nltk\n",
        "import matplotlib.pyplot as plt\n",
        "from sklearn.metrics.pairwise import cosine_similarity\n",
        "from sklearn.feature_extraction.text import TfidfVectorizer"
      ]
    },
    {
      "cell_type": "markdown",
      "source": [
        "Данные взяты отсюда:\n",
        "https://www.kaggle.com/datasets/cclark/product-item-data"
      ],
      "metadata": {
        "id": "0pXsjObkSBm0"
      }
    },
    {
      "cell_type": "code",
      "source": [
        "data = pd.read_csv('sample-data.csv')\n",
        "data.head()"
      ],
      "metadata": {
        "colab": {
          "base_uri": "https://localhost:8080/",
          "height": 206
        },
        "id": "KJh1zavte4H1",
        "outputId": "bff67e73-eeb4-410e-b971-7e4a0b40127d"
      },
      "execution_count": 3,
      "outputs": [
        {
          "output_type": "execute_result",
          "data": {
            "text/plain": [
              "   id                                        description\n",
              "0   1  Active classic boxers - There's a reason why o...\n",
              "1   2  Active sport boxer briefs - Skinning up Glory ...\n",
              "2   3  Active sport briefs - These superbreathable no...\n",
              "3   4  Alpine guide pants - Skin in, climb ice, switc...\n",
              "4   5  Alpine wind jkt - On high ridges, steep ice an..."
            ],
            "text/html": [
              "\n",
              "  <div id=\"df-cf9ec991-1562-413d-9d6c-fbe5ec9af6c3\">\n",
              "    <div class=\"colab-df-container\">\n",
              "      <div>\n",
              "<style scoped>\n",
              "    .dataframe tbody tr th:only-of-type {\n",
              "        vertical-align: middle;\n",
              "    }\n",
              "\n",
              "    .dataframe tbody tr th {\n",
              "        vertical-align: top;\n",
              "    }\n",
              "\n",
              "    .dataframe thead th {\n",
              "        text-align: right;\n",
              "    }\n",
              "</style>\n",
              "<table border=\"1\" class=\"dataframe\">\n",
              "  <thead>\n",
              "    <tr style=\"text-align: right;\">\n",
              "      <th></th>\n",
              "      <th>id</th>\n",
              "      <th>description</th>\n",
              "    </tr>\n",
              "  </thead>\n",
              "  <tbody>\n",
              "    <tr>\n",
              "      <th>0</th>\n",
              "      <td>1</td>\n",
              "      <td>Active classic boxers - There's a reason why o...</td>\n",
              "    </tr>\n",
              "    <tr>\n",
              "      <th>1</th>\n",
              "      <td>2</td>\n",
              "      <td>Active sport boxer briefs - Skinning up Glory ...</td>\n",
              "    </tr>\n",
              "    <tr>\n",
              "      <th>2</th>\n",
              "      <td>3</td>\n",
              "      <td>Active sport briefs - These superbreathable no...</td>\n",
              "    </tr>\n",
              "    <tr>\n",
              "      <th>3</th>\n",
              "      <td>4</td>\n",
              "      <td>Alpine guide pants - Skin in, climb ice, switc...</td>\n",
              "    </tr>\n",
              "    <tr>\n",
              "      <th>4</th>\n",
              "      <td>5</td>\n",
              "      <td>Alpine wind jkt - On high ridges, steep ice an...</td>\n",
              "    </tr>\n",
              "  </tbody>\n",
              "</table>\n",
              "</div>\n",
              "      <button class=\"colab-df-convert\" onclick=\"convertToInteractive('df-cf9ec991-1562-413d-9d6c-fbe5ec9af6c3')\"\n",
              "              title=\"Convert this dataframe to an interactive table.\"\n",
              "              style=\"display:none;\">\n",
              "        \n",
              "  <svg xmlns=\"http://www.w3.org/2000/svg\" height=\"24px\"viewBox=\"0 0 24 24\"\n",
              "       width=\"24px\">\n",
              "    <path d=\"M0 0h24v24H0V0z\" fill=\"none\"/>\n",
              "    <path d=\"M18.56 5.44l.94 2.06.94-2.06 2.06-.94-2.06-.94-.94-2.06-.94 2.06-2.06.94zm-11 1L8.5 8.5l.94-2.06 2.06-.94-2.06-.94L8.5 2.5l-.94 2.06-2.06.94zm10 10l.94 2.06.94-2.06 2.06-.94-2.06-.94-.94-2.06-.94 2.06-2.06.94z\"/><path d=\"M17.41 7.96l-1.37-1.37c-.4-.4-.92-.59-1.43-.59-.52 0-1.04.2-1.43.59L10.3 9.45l-7.72 7.72c-.78.78-.78 2.05 0 2.83L4 21.41c.39.39.9.59 1.41.59.51 0 1.02-.2 1.41-.59l7.78-7.78 2.81-2.81c.8-.78.8-2.07 0-2.86zM5.41 20L4 18.59l7.72-7.72 1.47 1.35L5.41 20z\"/>\n",
              "  </svg>\n",
              "      </button>\n",
              "      \n",
              "  <style>\n",
              "    .colab-df-container {\n",
              "      display:flex;\n",
              "      flex-wrap:wrap;\n",
              "      gap: 12px;\n",
              "    }\n",
              "\n",
              "    .colab-df-convert {\n",
              "      background-color: #E8F0FE;\n",
              "      border: none;\n",
              "      border-radius: 50%;\n",
              "      cursor: pointer;\n",
              "      display: none;\n",
              "      fill: #1967D2;\n",
              "      height: 32px;\n",
              "      padding: 0 0 0 0;\n",
              "      width: 32px;\n",
              "    }\n",
              "\n",
              "    .colab-df-convert:hover {\n",
              "      background-color: #E2EBFA;\n",
              "      box-shadow: 0px 1px 2px rgba(60, 64, 67, 0.3), 0px 1px 3px 1px rgba(60, 64, 67, 0.15);\n",
              "      fill: #174EA6;\n",
              "    }\n",
              "\n",
              "    [theme=dark] .colab-df-convert {\n",
              "      background-color: #3B4455;\n",
              "      fill: #D2E3FC;\n",
              "    }\n",
              "\n",
              "    [theme=dark] .colab-df-convert:hover {\n",
              "      background-color: #434B5C;\n",
              "      box-shadow: 0px 1px 3px 1px rgba(0, 0, 0, 0.15);\n",
              "      filter: drop-shadow(0px 1px 2px rgba(0, 0, 0, 0.3));\n",
              "      fill: #FFFFFF;\n",
              "    }\n",
              "  </style>\n",
              "\n",
              "      <script>\n",
              "        const buttonEl =\n",
              "          document.querySelector('#df-cf9ec991-1562-413d-9d6c-fbe5ec9af6c3 button.colab-df-convert');\n",
              "        buttonEl.style.display =\n",
              "          google.colab.kernel.accessAllowed ? 'block' : 'none';\n",
              "\n",
              "        async function convertToInteractive(key) {\n",
              "          const element = document.querySelector('#df-cf9ec991-1562-413d-9d6c-fbe5ec9af6c3');\n",
              "          const dataTable =\n",
              "            await google.colab.kernel.invokeFunction('convertToInteractive',\n",
              "                                                     [key], {});\n",
              "          if (!dataTable) return;\n",
              "\n",
              "          const docLinkHtml = 'Like what you see? Visit the ' +\n",
              "            '<a target=\"_blank\" href=https://colab.research.google.com/notebooks/data_table.ipynb>data table notebook</a>'\n",
              "            + ' to learn more about interactive tables.';\n",
              "          element.innerHTML = '';\n",
              "          dataTable['output_type'] = 'display_data';\n",
              "          await google.colab.output.renderOutput(dataTable, element);\n",
              "          const docLink = document.createElement('div');\n",
              "          docLink.innerHTML = docLinkHtml;\n",
              "          element.appendChild(docLink);\n",
              "        }\n",
              "      </script>\n",
              "    </div>\n",
              "  </div>\n",
              "  "
            ]
          },
          "metadata": {},
          "execution_count": 3
        }
      ]
    },
    {
      "cell_type": "markdown",
      "source": [
        "Создаем матрицу эмбеддингов с помощью TfidfVectorizer"
      ],
      "metadata": {
        "id": "j4Ra86zKSHCO"
      }
    },
    {
      "cell_type": "code",
      "source": [
        "tfidf = TfidfVectorizer(stop_words='english')\n",
        "tfidf_embeddings = tfidf.fit_transform(data.description).toarray()\n",
        "tfidf_embeddings.shape"
      ],
      "metadata": {
        "colab": {
          "base_uri": "https://localhost:8080/"
        },
        "id": "hTYJnhbkfL8h",
        "outputId": "08bc79f1-36b5-4fc8-d774-7be5089db1ed"
      },
      "execution_count": 4,
      "outputs": [
        {
          "output_type": "execute_result",
          "data": {
            "text/plain": [
              "(500, 4600)"
            ]
          },
          "metadata": {},
          "execution_count": 4
        }
      ]
    },
    {
      "cell_type": "code",
      "source": [
        "print(data.description.iloc[101])\n",
        "print(data.description.iloc[3])"
      ],
      "metadata": {
        "colab": {
          "base_uri": "https://localhost:8080/"
        },
        "id": "deGzrbCHFqX2",
        "outputId": "fa0fac4f-7377-437d-f026-1daef28c5e65"
      },
      "execution_count": 61,
      "outputs": [
        {
          "output_type": "stream",
          "name": "stdout",
          "text": [
            "Planer t-shirt - The Planer T-Shirt gives a nod to the surfing working man, with original Patagonia studio artwork for Fletcher Chouinard Designs. Made of 100% organic cotton, the shirt sports the same graphic on front pocket and back of tee, printed with inks that are PVC- and phthalate-free. Ringspun yarns and taped shoulder seams lend a soft touch. Doublestitching at sleeves and hem; coverstitched at neck and armholes for a clean finish. The tee is recyclable through the Common Threads Recycling Program.<br><br><b>Details:</b><ul> <li>Ringspun yarns for a softer hand</li> <li>Taped shoulder seams</li> <li>Screen-print inks are PVC- and phthalate-free</li></ul><br><br><b>Fabric: </b>5.4-oz 100% organic cotton. Recyclable through the Common Threads Recycling Program<br><br><b>Weight: </b>(175 g 6.1 oz)<br><br>Made in USA.\n",
            "Alpine guide pants - Skin in, climb ice, switch to rock, traverse a knife-edge ridge and boogie back down - these durable, weather-resistant and breathable soft-shell pants keep stride on every mountain endeavor. The midweight stretch-woven polyester won't restrict your moves, and the brushed interior maintains next-to-skin comfort. A 2-way zippered fly keeps things easy with a harness on, and the gusseted, zippered cuffs have 2-position snaps and tie-down loops. With water-resistant zippered pockets: two front, two thigh, one back hip. Recyclable through the Common Threads Recycling Program.<br><br><b>Details:</b><ul> <li>Durable stretch-woven polyester (47% recycled) with DWR (durable water repellent) finish is water- and wind-resistant and highly breathable</li> <li>Brushed interior for next-to-skin comfort</li> <li>Waistband has belt loops and elastic on back</li> <li>2-way zippered fly</li> <li>\"External pockets: two front slash, two glued-on thigh, one back hip - all with highly water-resistant, DWR-finished zippers\"</li> <li>\"Gusseted, zippered cuff with 2-position adjustable settings and tie-down loops\"</li></ul><br><br><b>Fabric: </b>\"7.6-oz 90-denier 92% polyester (47% recycled)/8% spandex, with Deluge DWR finish. Recyclable through the Common Threads Recycling Program\"<br><br><b>Weight: </b>(597 g 20.7 oz)<br><br>Made in Vietnam.\n"
          ]
        }
      ]
    },
    {
      "cell_type": "markdown",
      "source": [
        "Функция выводящая список индексов наиболее похожих описаний товаров.\n",
        "На вход подается индекс товара, для которого хотим сформировать рекоммендации, а также матрицу эмбеддингов (для описаний товаров) и порог (treshold), по которому отсекаем описания товаров по попарному косинусному сходству (sklearn.metrics.pairwise.cosine_similarity)."
      ],
      "metadata": {
        "id": "KtuXaO3qSTfv"
      }
    },
    {
      "cell_type": "code",
      "source": [
        "def similar_ids(id: int, emb_matrix: np.ndarray, treshold: float=0.4) -> list:\n",
        "  cos_sim_matrix = cosine_similarity(emb_matrix, emb_matrix)\n",
        "  id_cos_similaraties = enumerate(cos_sim_matrix[id])\n",
        "  similar_ids = [i for i, s in id_cos_similaraties if s >= treshold]\n",
        "  return similar_ids"
      ],
      "metadata": {
        "id": "gE8nLWNJuHvX"
      },
      "execution_count": 45,
      "outputs": []
    },
    {
      "cell_type": "markdown",
      "source": [
        "Выводим список доступных предобученных моделей в модуле gensim. Нас интересует модель word2vec для английского языка.\n",
        "\n",
        "Загружаем word2vec-google-news-300"
      ],
      "metadata": {
        "id": "yz90jlPsTPQL"
      }
    },
    {
      "cell_type": "code",
      "source": [
        "print(list(gensim.downloader.info()['models'].keys()))"
      ],
      "metadata": {
        "colab": {
          "base_uri": "https://localhost:8080/"
        },
        "id": "Fieyj6FgkFMM",
        "outputId": "7541bd8d-6464-47a6-d42c-7354209b81aa"
      },
      "execution_count": 62,
      "outputs": [
        {
          "output_type": "stream",
          "name": "stdout",
          "text": [
            "['fasttext-wiki-news-subwords-300', 'conceptnet-numberbatch-17-06-300', 'word2vec-ruscorpora-300', 'word2vec-google-news-300', 'glove-wiki-gigaword-50', 'glove-wiki-gigaword-100', 'glove-wiki-gigaword-200', 'glove-wiki-gigaword-300', 'glove-twitter-25', 'glove-twitter-50', 'glove-twitter-100', 'glove-twitter-200', '__testing_word2vec-matrix-synopsis']\n"
          ]
        }
      ]
    },
    {
      "cell_type": "code",
      "source": [
        "w2v_embeddings = gensim.downloader.load('word2vec-google-news-300')"
      ],
      "metadata": {
        "colab": {
          "base_uri": "https://localhost:8080/"
        },
        "id": "CQUjLq2XgMMh",
        "outputId": "f5e687b4-303f-4227-cde5-34271e17ff53"
      },
      "execution_count": 63,
      "outputs": [
        {
          "output_type": "stream",
          "name": "stdout",
          "text": [
            "[==================================================] 100.0% 1662.8/1662.8MB downloaded\n"
          ]
        }
      ]
    },
    {
      "cell_type": "markdown",
      "source": [
        "Формируем матрицу эмбеддингов для текстов описаний товаров.\n",
        "\n",
        "Приводим текст к нижнему регистру, производим удаление html-тегов.\n",
        "\n",
        "Стоп-слова не учитываем.\n",
        "\n",
        "Эмбеддинг слов берем из словаря предобученной модели word2vec, которую мы загрузили ранее. Затем формируем эмбеддинг для каждого текста путем усреднения эмбеддингов, входящих в текст слов.\n"
      ],
      "metadata": {
        "id": "sZmvsttKW4x_"
      }
    },
    {
      "cell_type": "code",
      "source": [
        "nltk.download('stopwords')\n",
        "docs_vectors = pd.DataFrame()\n",
        "stopwords = nltk.corpus.stopwords.words('english')\n",
        "for doc in data.description.str.lower().str.replace('<*[a-z]>', ''):\n",
        "  temp = pd.DataFrame()\n",
        "  for word in doc.split(' '):\n",
        "    if word not in stopwords:\n",
        "      try:\n",
        "        word_vec = w2v_embeddings[word]\n",
        "        temp = temp.append(pd.Series(word_vec), ignore_index=True)\n",
        "      except:\n",
        "        pass\n",
        "  doc_vector = temp.mean()\n",
        "  docs_vectors = docs_vectors.append(doc_vector, ignore_index=True)\n",
        "docs_vectors.shape"
      ],
      "metadata": {
        "id": "X0SGhvXggRi4",
        "colab": {
          "base_uri": "https://localhost:8080/"
        },
        "outputId": "75d105a2-393f-4f82-febf-3d3e0486cd7f"
      },
      "execution_count": 108,
      "outputs": [
        {
          "output_type": "stream",
          "name": "stderr",
          "text": [
            "[nltk_data] Downloading package stopwords to /root/nltk_data...\n",
            "[nltk_data]   Package stopwords is already up-to-date!\n",
            "<ipython-input-108-effa7d5f9de8>:4: FutureWarning: The default value of regex will change from True to False in a future version.\n",
            "  for doc in data.description.str.lower().str.replace('<*[a-z]>', ''):\n"
          ]
        },
        {
          "output_type": "execute_result",
          "data": {
            "text/plain": [
              "(500, 300)"
            ]
          },
          "metadata": {},
          "execution_count": 108
        }
      ]
    },
    {
      "cell_type": "markdown",
      "source": [
        "Построим гистограмму распределения количества похожих товаров при использоввании косинусного сходства, матрицы эмбеддингов на основе word2vec и заданного treshold."
      ],
      "metadata": {
        "id": "r6JJ5PIrX6QL"
      }
    },
    {
      "cell_type": "code",
      "source": [
        "plt.hist([len(similar_ids(i, docs_vectors, treshold=0.92)) for i in range(data.shape[0])])"
      ],
      "metadata": {
        "colab": {
          "base_uri": "https://localhost:8080/",
          "height": 317
        },
        "id": "IHtT0OUyNs9W",
        "outputId": "5e2bf390-a4d1-4396-9fe4-bcb3d69e1d60"
      },
      "execution_count": 113,
      "outputs": [
        {
          "output_type": "execute_result",
          "data": {
            "text/plain": [
              "(array([260.,  92.,  40.,  52.,  28.,  10.,  11.,   3.,   2.,   2.]),\n",
              " array([ 1. ,  5.5, 10. , 14.5, 19. , 23.5, 28. , 32.5, 37. , 41.5, 46. ]),\n",
              " <a list of 10 Patch objects>)"
            ]
          },
          "metadata": {},
          "execution_count": 113
        },
        {
          "output_type": "display_data",
          "data": {
            "text/plain": [
              "<Figure size 432x288 with 1 Axes>"
            ],
            "image/png": "[encoded data removed]"
          },
          "metadata": {
            "needs_background": "light"
          }
        }
      ]
    },
    {
      "cell_type": "markdown",
      "source": [
        "В данном случае (при пороге 0.92) значительная часть товаров имеет до 20 аналогичных товаров, которые можно попробовать предложить в рекоммендации."
      ],
      "metadata": {
        "id": "Xx_VdUJoYTz8"
      }
    },
    {
      "cell_type": "code",
      "source": [],
      "metadata": {
        "id": "K3_rLcOwQnTA"
      },
      "execution_count": null,
      "outputs": []
    }
  ]
}