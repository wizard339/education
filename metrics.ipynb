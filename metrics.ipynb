{
  "cells": [
    {
      "cell_type": "markdown",
      "metadata": {
        "id": "view-in-github",
        "colab_type": "text"
      },
      "source": [
        "<a href=\"https://colab.research.google.com/github/wizard339/education/blob/main/metrics.ipynb\" target=\"_parent\"><img src=\"https://colab.research.google.com/assets/colab-badge.svg\" alt=\"Open In Colab\"/></a>"
      ]
    },
    {
      "cell_type": "markdown",
      "metadata": {
        "id": "kNFMwe5pw-E5"
      },
      "source": [
        "## 2. Метрики качества"
      ]
    },
    {
      "cell_type": "markdown",
      "metadata": {
        "id": "xMkwoc1_w-E9"
      },
      "source": [
        "### 2.1. Loss function"
      ]
    },
    {
      "cell_type": "markdown",
      "metadata": {
        "id": "48E2e7Xqw-E-"
      },
      "source": [
        "Самой базовой метрикой качества алгоритма является функция ошибки, т.е. функция минимизируемого функционала. Например, в задаче регрессии это может быть **сумма квадратов разностей** ([Mean Squared Error](https://en.wikipedia.org/wiki/Mean_squared_error)), которая представляется формулой:\n",
        "$$\n",
        "MSE=\\frac{1}{n}\\sum_{i=1}^{n}({Y_i-\\hat{Y}_i})^2,\n",
        "$$\n",
        "где $n$ — количество примеров, $Y_i$ — истинные значения, $\\hat{Y_i}$ — предсказанные моделью значения."
      ]
    },
    {
      "cell_type": "markdown",
      "metadata": {
        "id": "2MH5kEumw-E_"
      },
      "source": [
        "В задачах классификации часто применяется ошибка **перекрестная энтропия** ([Cross-entropy](https://en.wikipedia.org/wiki/Cross_entropy#Cross-entropy_error_function_and_logistic_regression)), которая в случае бинарной классификации (**binary cross-entropy**) выглядит следующим образом:\n",
        "$$\n",
        "-\\frac{1}{n}\\sum_{i=1}^{n}{\\lbrack(Y_i*log(\\hat{Y}_i) + (1-Y_i)*log(1-\\hat{Y}_i)\\rbrack}\n",
        "$$\n",
        "\n",
        "<img src=\"./images/cross_entropy.png\" alt=\"Binary-cross-entropy\" width=\"500\" align=\"center\">\n",
        "\n",
        "[Источник изображения](https://houxianxu.github.io/2015/04/23/logistic-softmax-regression/)"
      ]
    },
    {
      "cell_type": "markdown",
      "metadata": {
        "id": "jMrtRg9Cw-FA"
      },
      "source": [
        "Для классификации на произвольное количество классов используется функция ошибки в общем виде:\n",
        "$$\n",
        "-\\frac{1}{n}\\sum_{i=1}^{n}{\\sum_{c=1}^{C}{Y_i^c*log(\\hat{Y}_i^c)}},\n",
        "$$\n",
        "где $C$ — количество классов в задаче."
      ]
    },
    {
      "cell_type": "markdown",
      "metadata": {
        "id": "--yDvOahw-FB"
      },
      "source": [
        "Посчитаем значение ошибки для случайно предсказанных классов. Нашим алгоритмом будет монетка с тремя гранями, которая пытается угадать класс ириса."
      ]
    },
    {
      "cell_type": "code",
      "execution_count": 7,
      "metadata": {
        "id": "nBFGKZ0Aw-FC"
      },
      "outputs": [],
      "source": [
        "import pandas as pd\n",
        "import numpy as np\n",
        "from sklearn import datasets\n",
        "from matplotlib import pyplot as plt\n",
        "%matplotlib inline \n",
        "\n",
        "# iris_data = pd.read_csv('./data/iris.data', \n",
        "#                         names=['sepal_length', 'sepal_width', \n",
        "#                                'petal_length', 'petal_width', 'class'])\n",
        "\n",
        "iris = datasets.load_iris()\n",
        "iris_data = pd.DataFrame(iris.data)\n",
        "iris_data.columns = iris.feature_names\n",
        "iris_data['class'] = iris.target\n"
      ]
    },
    {
      "cell_type": "code",
      "execution_count": 8,
      "metadata": {
        "id": "3tXUON6bw-FE"
      },
      "outputs": [],
      "source": [
        "# Функция, выбирающая один класс из заданного кол-ва классов\n",
        "def monetka(n_classes=3):\n",
        "    classes = np.arange(n_classes)\n",
        "    predicted = np.random.choice(classes)\n",
        "    \n",
        "    return predicted"
      ]
    },
    {
      "cell_type": "code",
      "execution_count": 9,
      "metadata": {
        "id": "0EA_1JW8w-FF"
      },
      "outputs": [],
      "source": [
        "# Определить количество примеров, классов и сформировать словарь для конвертирования имени класса в порядковое число\n",
        "n = iris_data.shape[0]\n",
        "class_to_num = {cl: num for num, cl in enumerate(np.unique(iris_data['class']))}\n",
        "n_classes = len(class_to_num)"
      ]
    },
    {
      "cell_type": "code",
      "execution_count": 10,
      "metadata": {
        "id": "-piyXakKw-FG"
      },
      "outputs": [],
      "source": [
        "# Истинные значения\n",
        "y = np.array(iris_data['class'].apply(lambda cl: class_to_num[cl]))"
      ]
    },
    {
      "cell_type": "code",
      "execution_count": 11,
      "metadata": {
        "id": "Mx7nGDocw-FG"
      },
      "outputs": [],
      "source": [
        "# Предсказанные монеткой значения\n",
        "y_pred = np.array([monetka(n_classes) for _ in range(n)])\n",
        "y_hat = np.zeros((n, n_classes), dtype=np.float32)\n",
        "for num in class_to_num.values():\n",
        "    y_hat[:, num] = 1. * (y_pred == num)"
      ]
    },
    {
      "cell_type": "code",
      "execution_count": 12,
      "metadata": {
        "id": "ksArYSsXw-FH"
      },
      "outputs": [],
      "source": [
        "from sklearn.metrics import log_loss"
      ]
    },
    {
      "cell_type": "code",
      "execution_count": 13,
      "metadata": {
        "colab": {
          "base_uri": "https://localhost:8080/"
        },
        "id": "_tfbK28jw-FI",
        "outputId": "86307c49-a0d9-4a26-c34d-2a13446fcb11"
      },
      "outputs": [
        {
          "output_type": "execute_result",
          "data": {
            "text/plain": [
              "23.486367950439455"
            ]
          },
          "metadata": {},
          "execution_count": 13
        }
      ],
      "source": [
        "# Посчитаем значение ошибки\n",
        "log_loss(y, y_hat)"
      ]
    },
    {
      "cell_type": "markdown",
      "metadata": {
        "id": "cavSF9yiw-FJ"
      },
      "source": [
        "Одно значение ошибки мало о чем говорит. Функции ошибки не всегда читаются напрямую, а имеют смысл при просмотре в сравнении: при хорошей сходимости алгоритма ошибка должна существенно падать после очередной итерации обучения:"
      ]
    },
    {
      "cell_type": "markdown",
      "metadata": {
        "id": "d1qx-Cmuw-FJ"
      },
      "source": [
        "![validation loss example](./images/valid_loss_example.png)"
      ]
    },
    {
      "cell_type": "markdown",
      "metadata": {
        "id": "ZA8CkbYOw-FK"
      },
      "source": [
        "Для более понятных человеку результатов рассмотрим класс популярных метрик, относящихся к бинарной классификации."
      ]
    },
    {
      "cell_type": "markdown",
      "metadata": {
        "id": "iNQA88dJw-FK"
      },
      "source": [
        "Для подсчета метрик возьмем искусственную задачу, где определим истинные классы следующим образом:"
      ]
    },
    {
      "cell_type": "code",
      "execution_count": 14,
      "metadata": {
        "id": "rvUZ7Lpvw-FK"
      },
      "outputs": [],
      "source": [
        "n = 100    # размер выборки\n",
        "p = 0.1    # доля примеров класса 1"
      ]
    },
    {
      "cell_type": "code",
      "execution_count": 15,
      "metadata": {
        "id": "939QFO_lw-FK"
      },
      "outputs": [],
      "source": [
        "from scipy import stats"
      ]
    },
    {
      "cell_type": "code",
      "execution_count": 16,
      "metadata": {
        "colab": {
          "base_uri": "https://localhost:8080/"
        },
        "id": "48snVY1zw-FL",
        "outputId": "ca5557e4-6b4e-456f-bd6a-fd3e7b6b030f"
      },
      "outputs": [
        {
          "output_type": "stream",
          "name": "stdout",
          "text": [
            "[0 0 0 0 0 0 0 1 0 1 0 0 0 0 0 0 0 1 0 0 0 0 0 0 0 0 1 0 0 0 0 1 0 0 0 0 1\n",
            " 0 0 0 0 0 0 0 0 0 0 0 1 1 0 0 0 0 0 0 0 0 0 0 1 0 0 1 0 0 0 0 0 0 0 0 0 1\n",
            " 0 0 0 0 0 0 0 0 0 0 0 0 1 0 0 0 0 0 0 0 0 1 0 0 0 0]\n"
          ]
        }
      ],
      "source": [
        "# Сгенерируем n примеров с долей единиц равной p\n",
        "dist = stats.bernoulli(p)\n",
        "y_true = dist.rvs(n)\n",
        "print(y_true)"
      ]
    },
    {
      "cell_type": "markdown",
      "metadata": {
        "id": "0sXizlh6w-FL"
      },
      "source": [
        "### 2.2. Accuracy"
      ]
    },
    {
      "cell_type": "markdown",
      "metadata": {
        "id": "gbziuQOhw-FM"
      },
      "source": [
        "**Accuracy** (точность) — самая базовая метрика для определения точности алгоритма, которая подсчитывает количество правильно предсказанных объектов к общему числу объектов."
      ]
    },
    {
      "cell_type": "markdown",
      "metadata": {
        "id": "gApUUgjCw-FM"
      },
      "source": [
        "#### Введем следующие понятия для формального определения метрик:  \n",
        "**True positives (TP)** — кол-во правильно предсказанных примеров положительного класса  \n",
        "**True negatives (TN)** — кол-во правильно предсказанных примеров отрицательного класса  \n",
        "**False positives (FP)** — кол-во неправильно предсказанных примеров положительного класса (ложных срабатываний)  \n",
        "**False negatives (FN)** — кол-во неправильно предсказанных примеров отрицательного класса (ложных отрицаний)  \n",
        "__Positives (P)__ - общее кол-во примеров положительного класса  \n",
        "**Negatives (N)** - общее кол-во примеров отрицательного класса"
      ]
    },
    {
      "cell_type": "markdown",
      "metadata": {
        "id": "ZGy_2baqw-FN"
      },
      "source": [
        "![Error table](./images/errors_table.png)\n",
        "\n",
        "[Источник картинки](https://towardsdatascience.com/beyond-accuracy-precision-and-recall-3da06bea9f6c)"
      ]
    },
    {
      "cell_type": "markdown",
      "metadata": {
        "id": "-fujX75cw-FN"
      },
      "source": [
        "Тогда формально метрика accuracy выразится следующим образом:\n",
        "$$\n",
        "accuracy = \\frac{TP+TN}{Positive+Negative}\n",
        "$$"
      ]
    },
    {
      "cell_type": "code",
      "execution_count": 17,
      "metadata": {
        "id": "Ei_tC5tyw-FO"
      },
      "outputs": [],
      "source": [
        "def calc_accuracy(y_true, y_pred):\n",
        "    P = np.sum(y_true == 1)\n",
        "    N = np.sum(y_true == 0)\n",
        "    TP = np.sum((y_true == 1) & (y_pred == 1))\n",
        "    TN = np.sum((y_true == 0) & (y_pred == 0))\n",
        "\n",
        "    acc = (TP + TN) / (P + N)\n",
        "    \n",
        "    return acc, TP, TN, P, N"
      ]
    },
    {
      "cell_type": "markdown",
      "metadata": {
        "id": "dyiRclTgw-FO"
      },
      "source": [
        "Возьмем предсказания двугранной монетки для нашей выборки:"
      ]
    },
    {
      "cell_type": "code",
      "execution_count": 18,
      "metadata": {
        "id": "XGbKP7n4w-FO"
      },
      "outputs": [],
      "source": [
        "y_pred = np.array([monetka(2) for _ in range(n)])"
      ]
    },
    {
      "cell_type": "markdown",
      "metadata": {
        "id": "qkHhCe1Ow-FO"
      },
      "source": [
        "Посчитаем значение accuracy:"
      ]
    },
    {
      "cell_type": "code",
      "execution_count": 19,
      "metadata": {
        "colab": {
          "base_uri": "https://localhost:8080/"
        },
        "id": "8-bm-ssUw-FP",
        "outputId": "9246bfca-79ac-4e55-a85d-f3b8ab249218"
      },
      "outputs": [
        {
          "output_type": "stream",
          "name": "stdout",
          "text": [
            "TP = 7\n",
            "TN = 44\n",
            "P = 13\n",
            "N = 87\n",
            "acc = 51.0%\n"
          ]
        }
      ],
      "source": [
        "acc, TP, TN, P, N = calc_accuracy(y_true, y_pred)\n",
        "print('TP = {}\\nTN = {}\\nP = {}\\nN = {}\\nacc = {}%'.format(TP, TN, P, N, acc * 100))"
      ]
    },
    {
      "cell_type": "markdown",
      "metadata": {
        "id": "NLz6gzsKw-FP"
      },
      "source": [
        "То же самое можно сделать с помощью функции [accuracy_score](http://scikit-learn.org/stable/modules/generated/sklearn.metrics.accuracy_score.html) библиотеки scikit-learn:"
      ]
    },
    {
      "cell_type": "code",
      "execution_count": 20,
      "metadata": {
        "colab": {
          "base_uri": "https://localhost:8080/"
        },
        "id": "-kFANiR_w-FP",
        "outputId": "e580e47b-aff6-4aef-f5e6-027de72f3088"
      },
      "outputs": [
        {
          "output_type": "stream",
          "name": "stdout",
          "text": [
            "Accuracy from scikit-learn: 51.0%\n"
          ]
        }
      ],
      "source": [
        "from sklearn.metrics import accuracy_score\n",
        "acc = accuracy_score(y_true, y_pred)\n",
        "print('Accuracy from scikit-learn: {}%'.format(acc * 100))"
      ]
    },
    {
      "cell_type": "markdown",
      "metadata": {
        "id": "xGFH7OPNw-FQ"
      },
      "source": [
        "Наш алгоритм работает с точностью 50% (может отличаться от запуска к запуску). Совсем неплохо для случайной монетки. Но давайте попробуем улучшить результат. Мы же знаем, что наша выборка приблизительно на 90% состоит из примеров отрицательного класса. Тогда пусть наша монетка будет однобокой и всегда будет выдавать 0 в качестве ответа:"
      ]
    },
    {
      "cell_type": "code",
      "execution_count": 21,
      "metadata": {
        "id": "RjDacxN1w-FQ"
      },
      "outputs": [],
      "source": [
        "y_pred = np.zeros(n)"
      ]
    },
    {
      "cell_type": "code",
      "execution_count": 22,
      "metadata": {
        "colab": {
          "base_uri": "https://localhost:8080/"
        },
        "id": "KX2p9vr1w-FQ",
        "outputId": "aca26f86-0d55-40c4-b048-bba7a8f7af57"
      },
      "outputs": [
        {
          "output_type": "stream",
          "name": "stdout",
          "text": [
            "TP = 0\n",
            "TN = 87\n",
            "P = 13\n",
            "N = 87\n",
            "acc = 87.0%\n"
          ]
        }
      ],
      "source": [
        "acc, TP, TN, P, N = calc_accuracy(y_true, y_pred)\n",
        "print('TP = {}\\nTN = {}\\nP = {}\\nN = {}\\nacc = {}%'.format(TP, TN, P, N, acc * 100))"
      ]
    },
    {
      "cell_type": "markdown",
      "metadata": {
        "id": "rmDJDzCHw-FQ"
      },
      "source": [
        "90%! Монетка стала предсказывать еще лучше.  \n",
        "На самом деле монетка предсказывает только один класс, абсолютно игнорируя второй. В этом и есть главная проблема метрики accuracy: если выборка содержит разное количество примеров каждого класса, то добиться высокой точности можно даже просто не предсказывая редкие классы.  \n",
        "Для таких несбалансированных выборок accuracy не может являться ключевой метрикой. Далее мы рассмотрим метрики, с помощью которых можно избежать дизбаланса классов, такие как precision, recall и F1-score."
      ]
    },
    {
      "cell_type": "markdown",
      "metadata": {
        "id": "M_ugn2y6w-FR"
      },
      "source": [
        "### 2.3. precision и recall"
      ]
    },
    {
      "cell_type": "markdown",
      "metadata": {
        "id": "VR0rYW5tw-FR"
      },
      "source": [
        "**precision** — метрика, измеряющая, насколько много из принятых моделью положительных объектов в действительности являются положительными.  \n",
        "**recall** — метрика, измеряющая, насколько много положительных объектов из всех положительных объектов модель выбрала."
      ]
    },
    {
      "cell_type": "markdown",
      "metadata": {
        "id": "4b-J9-Zxw-FR"
      },
      "source": [
        "$$\n",
        "precision = \\frac{TP}{TP+FP} \\quad recall = \\frac{TP}{TP+FN}\n",
        "$$"
      ]
    },
    {
      "cell_type": "markdown",
      "metadata": {
        "id": "pB3_1jvCw-FR"
      },
      "source": [
        "Интересный факт про обе метрики заключается в том, что при возрастании одной общей тенденцией второй является падение. В некотором смысле они противоположны. Это отражает следующий пример графика:\n",
        "<img src=\"./images/precision-recall-curve.png\" alt=\"precision-recall-curve\" width=\"400\" align=\"center\">  \n",
        "[Источник картинки](https://towardsdatascience.com/beyond-accuracy-precision-and-recall-3da06bea9f6c)"
      ]
    },
    {
      "cell_type": "markdown",
      "metadata": {
        "id": "ZZvR9tEXw-FR"
      },
      "source": [
        "Посчитаем метрики precision и recall для нашей задачи с помощью методов [precision_score](http://scikit-learn.org/stable/modules/generated/sklearn.metrics.precision_score.html) и [recall_score](http://scikit-learn.org/stable/modules/generated/sklearn.metrics.recall_score.html) библиотеки scikit-learn:"
      ]
    },
    {
      "cell_type": "code",
      "execution_count": 23,
      "metadata": {
        "id": "XE8oFIYTw-FS"
      },
      "outputs": [],
      "source": [
        "from sklearn.metrics import precision_score, recall_score"
      ]
    },
    {
      "cell_type": "code",
      "execution_count": 24,
      "metadata": {
        "colab": {
          "base_uri": "https://localhost:8080/"
        },
        "id": "q0f7q32ow-FT",
        "outputId": "948f8b67-2241-4bfb-8c1d-1056eb7d2f18"
      },
      "outputs": [
        {
          "output_type": "stream",
          "name": "stdout",
          "text": [
            "precision: 0.13\n",
            "recall: 1.00\n"
          ]
        }
      ],
      "source": [
        "precision = precision_score(y_true, 1 - y_pred)\n",
        "recall = recall_score(y_true, 1 - y_pred)\n",
        "print('precision: {:.2f}\\nrecall: {:.2f}'.format(precision, recall))"
      ]
    },
    {
      "cell_type": "markdown",
      "metadata": {
        "id": "TEvhk5b5w-FT"
      },
      "source": [
        "Полученные значения метрик говорят, что алгоритм никогда не назначает объектам положительный класс. Тут мы его и поймали. А теперь подумайте, что бы случилось, если положительным классом было наличие раковой болезни человека — модель бы не нашла рак ни у одного пациента!"
      ]
    },
    {
      "cell_type": "markdown",
      "metadata": {
        "id": "XAiXoxM7w-FT"
      },
      "source": [
        "Вернемся к случаю, где модель выбирает положительный и отрицательный классы с равной вероятностью:"
      ]
    },
    {
      "cell_type": "code",
      "execution_count": 25,
      "metadata": {
        "colab": {
          "base_uri": "https://localhost:8080/"
        },
        "id": "YfOJJaHHw-FU",
        "outputId": "0b4cc895-dfa2-4ead-c35b-1fc4bddce80e"
      },
      "outputs": [
        {
          "output_type": "stream",
          "name": "stdout",
          "text": [
            "precision: 0.00\n",
            "recall: 0.00\n"
          ]
        },
        {
          "output_type": "stream",
          "name": "stderr",
          "text": [
            "/usr/local/lib/python3.8/dist-packages/sklearn/metrics/_classification.py:1318: UndefinedMetricWarning: Precision is ill-defined and being set to 0.0 due to no predicted samples. Use `zero_division` parameter to control this behavior.\n",
            "  _warn_prf(average, modifier, msg_start, len(result))\n"
          ]
        }
      ],
      "source": [
        "precision = precision_score(y_true, y_pred)\n",
        "recall = recall_score(y_true, y_pred)\n",
        "print('precision: {:.2f}\\nrecall: {:.2f}'.format(precision, recall))"
      ]
    },
    {
      "cell_type": "markdown",
      "metadata": {
        "id": "0wmZFDUZw-FU"
      },
      "source": [
        "precision в данном случае говорит, что из тех объектов, которые модель считает положительными, в действительности очень мало положительных. recall говорит, что модель хотя бы какой-то относительно неплохой процент положительных объектов все-таки находит. По двум числам трудно оценивать модель, поэтому были придуманы объединяющие метрики, такие как F1-score."
      ]
    },
    {
      "cell_type": "markdown",
      "metadata": {
        "id": "J9nUR7-ew-FU"
      },
      "source": [
        "### 2.4. F1-score"
      ]
    },
    {
      "cell_type": "markdown",
      "metadata": {
        "id": "UxjQoc-dw-FU"
      },
      "source": [
        "**F1-score** — метрика, объединяющая precision и recall, принимающая во внимание, что и та, и другая важны для задачи."
      ]
    },
    {
      "cell_type": "markdown",
      "metadata": {
        "id": "-DLebOKnw-FV"
      },
      "source": [
        "$$\n",
        "F1\\_score = \\frac{2*precision*recall}{precision+recall}\n",
        "$$"
      ]
    },
    {
      "cell_type": "markdown",
      "metadata": {
        "id": "-6cB4JzCw-FV"
      },
      "source": [
        "Вообще говоря, метрика F1-score является частным случаем метрики F-beta score, о которой вы можете прочитать [здесь](https://en.wikipedia.org/wiki/F1_score#Definition)."
      ]
    },
    {
      "cell_type": "markdown",
      "metadata": {
        "id": "qdj1BkXIw-FV"
      },
      "source": [
        "Посчитаем F1-score для нашей задачи с помощью метода [f1_score](http://scikit-learn.org/stable/modules/generated/sklearn.metrics.f1_score.html) библиотеки scikit-learn:"
      ]
    },
    {
      "cell_type": "code",
      "execution_count": 26,
      "metadata": {
        "id": "ngj5JKMvw-FV"
      },
      "outputs": [],
      "source": [
        "from sklearn.metrics import f1_score"
      ]
    },
    {
      "cell_type": "code",
      "execution_count": 27,
      "metadata": {
        "colab": {
          "base_uri": "https://localhost:8080/"
        },
        "id": "TAN-Yp6ow-FV",
        "outputId": "07fe1757-8b02-4435-8e4c-80ac382b99f6"
      },
      "outputs": [
        {
          "output_type": "stream",
          "name": "stdout",
          "text": [
            "F1-score: 0.00\n"
          ]
        }
      ],
      "source": [
        "f1 = f1_score(y_true, y_pred)\n",
        "print('F1-score: {:.2f}'.format(f1))"
      ]
    },
    {
      "cell_type": "markdown",
      "metadata": {
        "id": "Lf8SOCFqw-FW"
      },
      "source": [
        "Чем выше значение F1-score, тем лучше. Как видим, наш алгоритм работает неудовлетворительно.  \n",
        "И это неудивительно, что неудовлетворительно."
      ]
    },
    {
      "cell_type": "markdown",
      "metadata": {
        "id": "r5bOlzCbw-FW"
      },
      "source": [
        "### 2.5. precision-recall curve"
      ]
    },
    {
      "cell_type": "markdown",
      "metadata": {
        "id": "AwdjJKNVw-FW"
      },
      "source": [
        "**precision-recall curve** показывает зависимость precision от recall, т.е. насколько точно алгоритм выбирает положительные объекты при изменении его чувствительности к положительному классу."
      ]
    },
    {
      "cell_type": "markdown",
      "metadata": {
        "id": "WwyUrd8gw-FX"
      },
      "source": [
        "Посчитаем precision-recall curve, используя метод [precision_recall_curve](http://scikit-learn.org/stable/modules/generated/sklearn.metrics.precision_recall_curve.html) библиотеки scikit-learn:"
      ]
    },
    {
      "cell_type": "code",
      "execution_count": 28,
      "metadata": {
        "id": "QeXP1oUGw-FX"
      },
      "outputs": [],
      "source": [
        "from sklearn.metrics import precision_recall_curve"
      ]
    },
    {
      "cell_type": "code",
      "execution_count": 29,
      "metadata": {
        "id": "4VhQU0ASw-FX"
      },
      "outputs": [],
      "source": [
        "precisions, recalls, _ = precision_recall_curve(y_true, y_pred)"
      ]
    },
    {
      "cell_type": "code",
      "execution_count": 30,
      "metadata": {
        "colab": {
          "base_uri": "https://localhost:8080/",
          "height": 279
        },
        "id": "6FrHmt84w-FX",
        "outputId": "a6e09675-f57f-4272-9ca8-145bbd3ba42b"
      },
      "outputs": [
        {
          "output_type": "display_data",
          "data": {
            "text/plain": [
              "<Figure size 432x288 with 1 Axes>"
            ],
            "image/png": "[encoded data removed]"
          },
          "metadata": {
            "needs_background": "light"
          }
        }
      ],
      "source": [
        "plt.step(recalls, precisions, color='b', alpha=0.2, where='post')\n",
        "plt.fill_between(recalls, precisions, step='post', alpha=0.2, color='b')\n",
        "plt.xlabel('Recall');\n",
        "plt.ylabel('Precision');"
      ]
    },
    {
      "cell_type": "markdown",
      "metadata": {
        "id": "YcJIrkuvw-FY"
      },
      "source": [
        "Еще одной обобщающей характеристикой precision и recall является **average precision (AP)**, которая вычисляется как взвешенное среднее значений precision:\n",
        "$$\n",
        "AP = \\sum_{n}{(R_n - R_{n-1})P_n},\n",
        "$$\n",
        "где $P_n$ и $R_n$ — precision и recall при $n$-ом отсечении. В некотором приближении значение AP есть значение иной характеристики, называемой **area under curve (AUC)** (площадь под кривой), являющейся важной метрикой при разработке классификаторов и детекторов."
      ]
    },
    {
      "cell_type": "markdown",
      "metadata": {
        "id": "2IirRUIBw-FY"
      },
      "source": [
        "Вычислим AP, используя метод [average_precision_score](http://scikit-learn.org/stable/modules/generated/sklearn.metrics.average_precision_score.html) библиотеки scikit-learn:"
      ]
    },
    {
      "cell_type": "code",
      "execution_count": 31,
      "metadata": {
        "id": "TWLRx97Nw-FY"
      },
      "outputs": [],
      "source": [
        "from sklearn.metrics import average_precision_score"
      ]
    },
    {
      "cell_type": "code",
      "execution_count": 32,
      "metadata": {
        "colab": {
          "base_uri": "https://localhost:8080/"
        },
        "id": "27IAFbt-w-FY",
        "outputId": "f6156996-a1fe-4c1b-c9e4-c475c88c3c8e"
      },
      "outputs": [
        {
          "output_type": "stream",
          "name": "stdout",
          "text": [
            "Average Precision (AP) = 0.13\n"
          ]
        }
      ],
      "source": [
        "ap = average_precision_score(y_true, y_pred)\n",
        "print('Average Precision (AP) = {:.2f}'.format(ap))"
      ]
    },
    {
      "cell_type": "markdown",
      "metadata": {
        "id": "M4Gge41pw-FZ"
      },
      "source": [
        "### 2.6. Confusion matrix"
      ]
    },
    {
      "cell_type": "markdown",
      "metadata": {
        "id": "aZxXVVVKw-FZ"
      },
      "source": [
        "[confusion matrix](https://en.wikipedia.org/wiki/Confusion_matrix) — матрица, в строках которой отображено число примеров, предсказанных в определенном классе, а в столбцах число примеров, которые в самом деле принадлежат каждому классу (и наоборот). С помощью confusion matrix можно удобно смотреть, в какую сторону отклоняются предсказания алгоритма при виде объектов определенного класса.\n",
        "\n",
        "![confusion matrix](./images/confusion_matrix.png)\n",
        "\n",
        "[Источник изображения](https://en.wikipedia.org/wiki/Confusion_matrix)"
      ]
    },
    {
      "cell_type": "markdown",
      "metadata": {
        "id": "-n5Qzhihw-FZ"
      },
      "source": [
        "Вернемся к задаче с ирисами и посчитаем confusion matrix с помощью метода [confusion_matrix](http://scikit-learn.org/stable/modules/generated/sklearn.metrics.confusion_matrix.html) библиотеки scikit-learn:"
      ]
    },
    {
      "cell_type": "code",
      "execution_count": 33,
      "metadata": {
        "id": "QdJ14riww-FZ"
      },
      "outputs": [],
      "source": [
        "from sklearn.metrics import confusion_matrix"
      ]
    },
    {
      "cell_type": "code",
      "execution_count": 34,
      "metadata": {
        "id": "EuGWE8RMw-FZ"
      },
      "outputs": [],
      "source": [
        "# Определить количество примеров, классов и сформировать словарь для конвертирования имени класса в порядковое число\n",
        "n = iris_data.shape[0]\n",
        "class_to_num = {cl: num for num, cl in enumerate(np.unique(iris_data['class']))}\n",
        "n_classes = len(class_to_num)\n",
        "\n",
        "# Истинные значения\n",
        "y_true = np.array(iris_data['class'].apply(lambda cl: class_to_num[cl]))\n",
        "\n",
        "# Предсказанные монеткой значения\n",
        "y_pred = np.array([monetka(n_classes) for _ in range(n)])"
      ]
    },
    {
      "cell_type": "code",
      "execution_count": 35,
      "metadata": {
        "scrolled": true,
        "colab": {
          "base_uri": "https://localhost:8080/"
        },
        "id": "e6uISewdw-Fa",
        "outputId": "8807cc50-4a24-460b-996c-0cac1bd2b01c"
      },
      "outputs": [
        {
          "output_type": "stream",
          "name": "stdout",
          "text": [
            "Confusion matrix:\n",
            "[[19 19 18]\n",
            " [14 20  8]\n",
            " [17 11 24]]\n"
          ]
        }
      ],
      "source": [
        "conf_mat = confusion_matrix(y_true, y_pred).T\n",
        "print('Confusion matrix:\\n{}'.format(conf_mat))"
      ]
    },
    {
      "cell_type": "markdown",
      "metadata": {
        "id": "hdwKRbLHw-Fa"
      },
      "source": [
        "Нарисуем confusion matrix так, чтобы было понятнее, что происходит:"
      ]
    },
    {
      "cell_type": "code",
      "execution_count": 36,
      "metadata": {
        "colab": {
          "base_uri": "https://localhost:8080/",
          "height": 432
        },
        "id": "g-aAMmEnw-Fa",
        "outputId": "8bdbb0ed-5161-4267-b084-678c86a7cd2a"
      },
      "outputs": [
        {
          "output_type": "display_data",
          "data": {
            "text/plain": [
              "<Figure size 720x504 with 2 Axes>"
            ],
            "image/png": "[encoded data removed]"
          },
          "metadata": {
            "needs_background": "light"
          }
        }
      ],
      "source": [
        "import seaborn as sn\n",
        "class_names = ['Iris-setosa', 'Iris-virginica', 'Iris-versicolor']\n",
        "df_cm = pd.DataFrame(conf_mat, index=class_names, columns=class_names)\n",
        "plt.figure(figsize = (10,7))\n",
        "sn.heatmap(df_cm, annot=True);"
      ]
    },
    {
      "cell_type": "code",
      "source": [],
      "metadata": {
        "id": "DzTpCwVw1IU0"
      },
      "execution_count": null,
      "outputs": []
    }
  ],
  "metadata": {
    "kernelspec": {
      "display_name": "Python 3",
      "language": "python",
      "name": "python3"
    },
    "language_info": {
      "codemirror_mode": {
        "name": "ipython",
        "version": 3
      },
      "file_extension": ".py",
      "mimetype": "text/x-python",
      "name": "python",
      "nbconvert_exporter": "python",
      "pygments_lexer": "ipython3",
      "version": "3.7.1"
    },
    "colab": {
      "provenance": [],
      "include_colab_link": true
    }
  },
  "nbformat": 4,
  "nbformat_minor": 0
}