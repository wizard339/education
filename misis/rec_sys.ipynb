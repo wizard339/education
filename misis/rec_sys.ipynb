{
 "cells": [
  {
   "cell_type": "code",
   "execution_count": 2,
   "id": "c98c70a9-dcb8-4d67-8fca-75b71dabdcf0",
   "metadata": {
    "collapsed": true,
    "execution": {
     "iopub.execute_input": "2023-04-26T17:08:09.031062Z",
     "iopub.status.busy": "2023-04-26T17:08:09.031062Z",
     "iopub.status.idle": "2023-04-26T17:08:16.844744Z",
     "shell.execute_reply": "2023-04-26T17:08:16.844744Z",
     "shell.execute_reply.started": "2023-04-26T17:08:09.031062Z"
    },
    "jupyter": {
     "outputs_hidden": true
    },
    "tags": []
   },
   "outputs": [
    {
     "name": "stdout",
     "output_type": "stream",
     "text": [
      "Requirement already satisfied: implicit in c:\\programdata\\anaconda3\\envs\\pytorch_1\\lib\\site-packages (0.6.2)\n",
      "Requirement already satisfied: tqdm>=4.27 in c:\\programdata\\anaconda3\\envs\\pytorch_1\\lib\\site-packages (from implicit) (4.65.0)\n",
      "Requirement already satisfied: numpy in c:\\programdata\\anaconda3\\envs\\pytorch_1\\lib\\site-packages (from implicit) (1.23.5)\n",
      "Requirement already satisfied: scipy>=0.16 in c:\\programdata\\anaconda3\\envs\\pytorch_1\\lib\\site-packages (from implicit) (1.10.1)\n",
      "Requirement already satisfied: colorama in c:\\programdata\\anaconda3\\envs\\pytorch_1\\lib\\site-packages (from tqdm>=4.27->implicit) (0.4.6)\n"
     ]
    },
    {
     "name": "stderr",
     "output_type": "stream",
     "text": [
      "WARNING: Ignoring invalid distribution -pencv-python-headless (c:\\users\\home\\appdata\\roaming\\python\\python39\\site-packages)\n",
      "WARNING: Ignoring invalid distribution -orch (c:\\programdata\\anaconda3\\envs\\pytorch_1\\lib\\site-packages)\n",
      "WARNING: Ignoring invalid distribution -pencv-python-headless (c:\\users\\home\\appdata\\roaming\\python\\python39\\site-packages)\n",
      "WARNING: Ignoring invalid distribution -orch (c:\\programdata\\anaconda3\\envs\\pytorch_1\\lib\\site-packages)\n",
      "WARNING: Ignoring invalid distribution -pencv-python-headless (c:\\users\\home\\appdata\\roaming\\python\\python39\\site-packages)\n",
      "WARNING: Ignoring invalid distribution -orch (c:\\programdata\\anaconda3\\envs\\pytorch_1\\lib\\site-packages)\n",
      "WARNING: Ignoring invalid distribution -pencv-python-headless (c:\\users\\home\\appdata\\roaming\\python\\python39\\site-packages)\n",
      "WARNING: Ignoring invalid distribution -orch (c:\\programdata\\anaconda3\\envs\\pytorch_1\\lib\\site-packages)\n",
      "WARNING: Ignoring invalid distribution -pencv-python-headless (c:\\users\\home\\appdata\\roaming\\python\\python39\\site-packages)\n",
      "WARNING: Ignoring invalid distribution -orch (c:\\programdata\\anaconda3\\envs\\pytorch_1\\lib\\site-packages)\n",
      "WARNING: Ignoring invalid distribution -pencv-python-headless (c:\\users\\home\\appdata\\roaming\\python\\python39\\site-packages)\n",
      "WARNING: Ignoring invalid distribution -orch (c:\\programdata\\anaconda3\\envs\\pytorch_1\\lib\\site-packages)\n"
     ]
    },
    {
     "name": "stdout",
     "output_type": "stream",
     "text": [
      "Requirement already satisfied: lightfm in c:\\programdata\\anaconda3\\envs\\pytorch_1\\lib\\site-packages (1.17)\n",
      "Requirement already satisfied: scipy>=0.17.0 in c:\\programdata\\anaconda3\\envs\\pytorch_1\\lib\\site-packages (from lightfm) (1.10.1)\n",
      "Requirement already satisfied: scikit-learn in c:\\programdata\\anaconda3\\envs\\pytorch_1\\lib\\site-packages (from lightfm) (1.2.1)\n",
      "Requirement already satisfied: numpy in c:\\programdata\\anaconda3\\envs\\pytorch_1\\lib\\site-packages (from lightfm) (1.23.5)\n",
      "Requirement already satisfied: requests in c:\\programdata\\anaconda3\\envs\\pytorch_1\\lib\\site-packages (from lightfm) (2.28.1)\n",
      "Requirement already satisfied: idna<4,>=2.5 in c:\\programdata\\anaconda3\\envs\\pytorch_1\\lib\\site-packages (from requests->lightfm) (3.4)\n",
      "Requirement already satisfied: urllib3<1.27,>=1.21.1 in c:\\programdata\\anaconda3\\envs\\pytorch_1\\lib\\site-packages (from requests->lightfm) (1.26.15)\n",
      "Requirement already satisfied: certifi>=2017.4.17 in c:\\programdata\\anaconda3\\envs\\pytorch_1\\lib\\site-packages (from requests->lightfm) (2022.12.7)\n",
      "Requirement already satisfied: charset-normalizer<3,>=2 in c:\\programdata\\anaconda3\\envs\\pytorch_1\\lib\\site-packages (from requests->lightfm) (2.0.4)\n",
      "Requirement already satisfied: threadpoolctl>=2.0.0 in c:\\programdata\\anaconda3\\envs\\pytorch_1\\lib\\site-packages (from scikit-learn->lightfm) (3.1.0)\n",
      "Requirement already satisfied: joblib>=1.1.1 in c:\\programdata\\anaconda3\\envs\\pytorch_1\\lib\\site-packages (from scikit-learn->lightfm) (1.2.0)\n"
     ]
    },
    {
     "name": "stderr",
     "output_type": "stream",
     "text": [
      "WARNING: Ignoring invalid distribution -pencv-python-headless (c:\\users\\home\\appdata\\roaming\\python\\python39\\site-packages)\n",
      "WARNING: Ignoring invalid distribution -orch (c:\\programdata\\anaconda3\\envs\\pytorch_1\\lib\\site-packages)\n",
      "WARNING: Ignoring invalid distribution -pencv-python-headless (c:\\users\\home\\appdata\\roaming\\python\\python39\\site-packages)\n",
      "WARNING: Ignoring invalid distribution -orch (c:\\programdata\\anaconda3\\envs\\pytorch_1\\lib\\site-packages)\n",
      "WARNING: Ignoring invalid distribution -pencv-python-headless (c:\\users\\home\\appdata\\roaming\\python\\python39\\site-packages)\n",
      "WARNING: Ignoring invalid distribution -orch (c:\\programdata\\anaconda3\\envs\\pytorch_1\\lib\\site-packages)\n",
      "WARNING: Ignoring invalid distribution -pencv-python-headless (c:\\users\\home\\appdata\\roaming\\python\\python39\\site-packages)\n",
      "WARNING: Ignoring invalid distribution -orch (c:\\programdata\\anaconda3\\envs\\pytorch_1\\lib\\site-packages)\n",
      "WARNING: Ignoring invalid distribution -pencv-python-headless (c:\\users\\home\\appdata\\roaming\\python\\python39\\site-packages)\n",
      "WARNING: Ignoring invalid distribution -orch (c:\\programdata\\anaconda3\\envs\\pytorch_1\\lib\\site-packages)\n",
      "WARNING: Ignoring invalid distribution -pencv-python-headless (c:\\users\\home\\appdata\\roaming\\python\\python39\\site-packages)\n",
      "WARNING: Ignoring invalid distribution -orch (c:\\programdata\\anaconda3\\envs\\pytorch_1\\lib\\site-packages)\n"
     ]
    },
    {
     "name": "stdout",
     "output_type": "stream",
     "text": [
      "Requirement already satisfied: annoy in c:\\programdata\\anaconda3\\envs\\pytorch_1\\lib\\site-packages (1.17.2)\n"
     ]
    },
    {
     "name": "stderr",
     "output_type": "stream",
     "text": [
      "WARNING: Ignoring invalid distribution -pencv-python-headless (c:\\users\\home\\appdata\\roaming\\python\\python39\\site-packages)\n",
      "WARNING: Ignoring invalid distribution -orch (c:\\programdata\\anaconda3\\envs\\pytorch_1\\lib\\site-packages)\n",
      "WARNING: Ignoring invalid distribution -pencv-python-headless (c:\\users\\home\\appdata\\roaming\\python\\python39\\site-packages)\n",
      "WARNING: Ignoring invalid distribution -orch (c:\\programdata\\anaconda3\\envs\\pytorch_1\\lib\\site-packages)\n",
      "WARNING: Ignoring invalid distribution -pencv-python-headless (c:\\users\\home\\appdata\\roaming\\python\\python39\\site-packages)\n",
      "WARNING: Ignoring invalid distribution -orch (c:\\programdata\\anaconda3\\envs\\pytorch_1\\lib\\site-packages)\n",
      "WARNING: Ignoring invalid distribution -pencv-python-headless (c:\\users\\home\\appdata\\roaming\\python\\python39\\site-packages)\n",
      "WARNING: Ignoring invalid distribution -orch (c:\\programdata\\anaconda3\\envs\\pytorch_1\\lib\\site-packages)\n",
      "WARNING: Ignoring invalid distribution -pencv-python-headless (c:\\users\\home\\appdata\\roaming\\python\\python39\\site-packages)\n",
      "WARNING: Ignoring invalid distribution -orch (c:\\programdata\\anaconda3\\envs\\pytorch_1\\lib\\site-packages)\n",
      "WARNING: Ignoring invalid distribution -pencv-python-headless (c:\\users\\home\\appdata\\roaming\\python\\python39\\site-packages)\n",
      "WARNING: Ignoring invalid distribution -orch (c:\\programdata\\anaconda3\\envs\\pytorch_1\\lib\\site-packages)\n"
     ]
    },
    {
     "name": "stdout",
     "output_type": "stream",
     "text": [
      "Requirement already satisfied: pymorphy2 in c:\\programdata\\anaconda3\\envs\\pytorch_1\\lib\\site-packages (0.9.1)\n",
      "Requirement already satisfied: dawg-python>=0.7.1 in c:\\programdata\\anaconda3\\envs\\pytorch_1\\lib\\site-packages (from pymorphy2) (0.7.2)\n",
      "Requirement already satisfied: pymorphy2-dicts-ru<3.0,>=2.4 in c:\\programdata\\anaconda3\\envs\\pytorch_1\\lib\\site-packages (from pymorphy2) (2.4.417127.4579844)\n",
      "Requirement already satisfied: docopt>=0.6 in c:\\programdata\\anaconda3\\envs\\pytorch_1\\lib\\site-packages (from pymorphy2) (0.6.2)\n"
     ]
    },
    {
     "name": "stderr",
     "output_type": "stream",
     "text": [
      "WARNING: Ignoring invalid distribution -pencv-python-headless (c:\\users\\home\\appdata\\roaming\\python\\python39\\site-packages)\n",
      "WARNING: Ignoring invalid distribution -orch (c:\\programdata\\anaconda3\\envs\\pytorch_1\\lib\\site-packages)\n",
      "WARNING: Ignoring invalid distribution -pencv-python-headless (c:\\users\\home\\appdata\\roaming\\python\\python39\\site-packages)\n",
      "WARNING: Ignoring invalid distribution -orch (c:\\programdata\\anaconda3\\envs\\pytorch_1\\lib\\site-packages)\n",
      "WARNING: Ignoring invalid distribution -pencv-python-headless (c:\\users\\home\\appdata\\roaming\\python\\python39\\site-packages)\n",
      "WARNING: Ignoring invalid distribution -orch (c:\\programdata\\anaconda3\\envs\\pytorch_1\\lib\\site-packages)\n",
      "WARNING: Ignoring invalid distribution -pencv-python-headless (c:\\users\\home\\appdata\\roaming\\python\\python39\\site-packages)\n",
      "WARNING: Ignoring invalid distribution -orch (c:\\programdata\\anaconda3\\envs\\pytorch_1\\lib\\site-packages)\n",
      "WARNING: Ignoring invalid distribution -pencv-python-headless (c:\\users\\home\\appdata\\roaming\\python\\python39\\site-packages)\n",
      "WARNING: Ignoring invalid distribution -orch (c:\\programdata\\anaconda3\\envs\\pytorch_1\\lib\\site-packages)\n",
      "WARNING: Ignoring invalid distribution -pencv-python-headless (c:\\users\\home\\appdata\\roaming\\python\\python39\\site-packages)\n",
      "WARNING: Ignoring invalid distribution -orch (c:\\programdata\\anaconda3\\envs\\pytorch_1\\lib\\site-packages)\n"
     ]
    },
    {
     "name": "stdout",
     "output_type": "stream",
     "text": [
      "Requirement already satisfied: stop_words in c:\\programdata\\anaconda3\\envs\\pytorch_1\\lib\\site-packages (2018.7.23)\n"
     ]
    },
    {
     "name": "stderr",
     "output_type": "stream",
     "text": [
      "WARNING: Ignoring invalid distribution -pencv-python-headless (c:\\users\\home\\appdata\\roaming\\python\\python39\\site-packages)\n",
      "WARNING: Ignoring invalid distribution -orch (c:\\programdata\\anaconda3\\envs\\pytorch_1\\lib\\site-packages)\n",
      "WARNING: Ignoring invalid distribution -pencv-python-headless (c:\\users\\home\\appdata\\roaming\\python\\python39\\site-packages)\n",
      "WARNING: Ignoring invalid distribution -orch (c:\\programdata\\anaconda3\\envs\\pytorch_1\\lib\\site-packages)\n",
      "WARNING: Ignoring invalid distribution -pencv-python-headless (c:\\users\\home\\appdata\\roaming\\python\\python39\\site-packages)\n",
      "WARNING: Ignoring invalid distribution -orch (c:\\programdata\\anaconda3\\envs\\pytorch_1\\lib\\site-packages)\n",
      "WARNING: Ignoring invalid distribution -pencv-python-headless (c:\\users\\home\\appdata\\roaming\\python\\python39\\site-packages)\n",
      "WARNING: Ignoring invalid distribution -orch (c:\\programdata\\anaconda3\\envs\\pytorch_1\\lib\\site-packages)\n",
      "WARNING: Ignoring invalid distribution -pencv-python-headless (c:\\users\\home\\appdata\\roaming\\python\\python39\\site-packages)\n",
      "WARNING: Ignoring invalid distribution -orch (c:\\programdata\\anaconda3\\envs\\pytorch_1\\lib\\site-packages)\n",
      "WARNING: Ignoring invalid distribution -pencv-python-headless (c:\\users\\home\\appdata\\roaming\\python\\python39\\site-packages)\n",
      "WARNING: Ignoring invalid distribution -orch (c:\\programdata\\anaconda3\\envs\\pytorch_1\\lib\\site-packages)\n"
     ]
    }
   ],
   "source": [
    "# ! pip install annoy\n",
    "# ! pip install pymorphy2\n",
    "# ! pip install stop_words"
   ]
  },
  {
   "cell_type": "code",
   "execution_count": 1,
   "id": "00aae274-ceaf-48ff-a998-5a0c9f7466e5",
   "metadata": {
    "execution": {
     "iopub.execute_input": "2023-05-03T22:29:48.251212Z",
     "iopub.status.busy": "2023-05-03T22:29:48.251212Z",
     "iopub.status.idle": "2023-05-03T22:29:49.725907Z",
     "shell.execute_reply": "2023-05-03T22:29:49.725907Z",
     "shell.execute_reply.started": "2023-05-03T22:29:48.251212Z"
    },
    "tags": []
   },
   "outputs": [],
   "source": [
    "import os\n",
    "import re\n",
    "import pandas as pd\n",
    "import pickle\n",
    "import annoy\n",
    "import string\n",
    "import numpy as np\n",
    "from sklearn.model_selection import train_test_split\n",
    "\n",
    "from pymorphy2 import MorphAnalyzer\n",
    "from stop_words import get_stop_words\n",
    "from gensim.models import FastText\n",
    "\n",
    "import seaborn as sns\n",
    "import matplotlib.pyplot as plt\n",
    "from tqdm.notebook import tqdm\n",
    "\n",
    "# for reproducibility\n",
    "import random\n",
    "seed_value=42\n",
    "random.seed(seed_value)\n",
    "np.random.seed(seed_value)"
   ]
  },
  {
   "cell_type": "markdown",
   "id": "73848595-7ef9-45e3-915d-a18740d3f707",
   "metadata": {
    "jp-MarkdownHeadingCollapsed": true,
    "tags": []
   },
   "source": [
    "# Загрузка файлов"
   ]
  },
  {
   "cell_type": "code",
   "execution_count": 2,
   "id": "f06d56ea-8356-4cfc-960b-aecc42a46def",
   "metadata": {
    "execution": {
     "iopub.execute_input": "2023-05-03T22:29:51.892425Z",
     "iopub.status.busy": "2023-05-03T22:29:51.892425Z",
     "iopub.status.idle": "2023-05-03T22:29:51.902933Z",
     "shell.execute_reply": "2023-05-03T22:29:51.902933Z",
     "shell.execute_reply.started": "2023-05-03T22:29:51.892425Z"
    },
    "tags": []
   },
   "outputs": [
    {
     "name": "stdout",
     "output_type": "stream",
     "text": [
      "['.ipynb_checkpoints', 'data.csv', 'products.csv', 'Product_dict.pkl', 'rec_sys.ipynb', 'SimRecommenedExample.ipynb', 'чековые данные.csv']\n"
     ]
    }
   ],
   "source": [
    "print(os.listdir())"
   ]
  },
  {
   "cell_type": "markdown",
   "id": "4ca0bc8f-67a8-422c-982c-b7b2a9f1343c",
   "metadata": {
    "jp-MarkdownHeadingCollapsed": true,
    "tags": []
   },
   "source": [
    "## Файлы 'product.csv' и 'Product_dict.pkl'"
   ]
  },
  {
   "cell_type": "code",
   "execution_count": 3,
   "id": "af443212-bdf0-440c-bbd6-23d119ac1e0b",
   "metadata": {
    "execution": {
     "iopub.execute_input": "2023-05-03T22:29:52.605886Z",
     "iopub.status.busy": "2023-05-03T22:29:52.605886Z",
     "iopub.status.idle": "2023-05-03T22:29:52.625468Z",
     "shell.execute_reply": "2023-05-03T22:29:52.624461Z",
     "shell.execute_reply.started": "2023-05-03T22:29:52.605886Z"
    },
    "tags": []
   },
   "outputs": [],
   "source": [
    "with open('Product_dict.pkl', 'rb') as f:\n",
    "    product_dict = pickle.load(f)"
   ]
  },
  {
   "cell_type": "code",
   "execution_count": 4,
   "id": "827d1021-1fae-488c-ae56-4f4268d4f75c",
   "metadata": {
    "execution": {
     "iopub.execute_input": "2023-05-03T22:29:52.833926Z",
     "iopub.status.busy": "2023-05-03T22:29:52.833926Z",
     "iopub.status.idle": "2023-05-03T22:29:52.842385Z",
     "shell.execute_reply": "2023-05-03T22:29:52.842385Z",
     "shell.execute_reply.started": "2023-05-03T22:29:52.833926Z"
    },
    "tags": []
   },
   "outputs": [
    {
     "data": {
      "text/plain": [
       "30418"
      ]
     },
     "execution_count": 4,
     "metadata": {},
     "output_type": "execute_result"
    }
   ],
   "source": [
    "len(product_dict)"
   ]
  },
  {
   "cell_type": "code",
   "execution_count": 5,
   "id": "0530faea-cdea-4c76-a16a-5314ea1a4a97",
   "metadata": {
    "execution": {
     "iopub.execute_input": "2023-05-03T22:29:53.034978Z",
     "iopub.status.busy": "2023-05-03T22:29:53.034978Z",
     "iopub.status.idle": "2023-05-03T22:29:53.046484Z",
     "shell.execute_reply": "2023-05-03T22:29:53.046484Z",
     "shell.execute_reply.started": "2023-05-03T22:29:53.034978Z"
    },
    "tags": []
   },
   "outputs": [
    {
     "data": {
      "text/plain": [
       "'(197312) Пакет-майка 25см х 45см 906'"
      ]
     },
     "execution_count": 5,
     "metadata": {},
     "output_type": "execute_result"
    }
   ],
   "source": [
    "product_dict['168308']"
   ]
  },
  {
   "cell_type": "code",
   "execution_count": 6,
   "id": "6728a76d-dc4a-4efa-abc6-e55e8f9521c4",
   "metadata": {
    "execution": {
     "iopub.execute_input": "2023-05-03T22:29:53.279007Z",
     "iopub.status.busy": "2023-05-03T22:29:53.279007Z",
     "iopub.status.idle": "2023-05-03T22:29:53.343625Z",
     "shell.execute_reply": "2023-05-03T22:29:53.340099Z",
     "shell.execute_reply.started": "2023-05-03T22:29:53.279007Z"
    },
    "tags": []
   },
   "outputs": [
    {
     "data": {
      "text/html": [
       "<div>\n",
       "<style scoped>\n",
       "    .dataframe tbody tr th:only-of-type {\n",
       "        vertical-align: middle;\n",
       "    }\n",
       "\n",
       "    .dataframe tbody tr th {\n",
       "        vertical-align: top;\n",
       "    }\n",
       "\n",
       "    .dataframe thead th {\n",
       "        text-align: right;\n",
       "    }\n",
       "</style>\n",
       "<table border=\"1\" class=\"dataframe\">\n",
       "  <thead>\n",
       "    <tr style=\"text-align: right;\">\n",
       "      <th></th>\n",
       "      <th>product_id</th>\n",
       "      <th>product</th>\n",
       "    </tr>\n",
       "  </thead>\n",
       "  <tbody>\n",
       "    <tr>\n",
       "      <th>0</th>\n",
       "      <td>168308</td>\n",
       "      <td>(197312) Пакет-майка 25см х 45см 906</td>\n",
       "    </tr>\n",
       "    <tr>\n",
       "      <th>1</th>\n",
       "      <td>134832</td>\n",
       "      <td>(62448) Перекись водорода р-р наружн. 3% фл.по...</td>\n",
       "    </tr>\n",
       "    <tr>\n",
       "      <th>2</th>\n",
       "      <td>101384</td>\n",
       "      <td>(72183) Салициловая кислота р-р спирт 2% фл 40...</td>\n",
       "    </tr>\n",
       "    <tr>\n",
       "      <th>3</th>\n",
       "      <td>168570</td>\n",
       "      <td>(197309) Пакет 28см х 50см 906</td>\n",
       "    </tr>\n",
       "    <tr>\n",
       "      <th>4</th>\n",
       "      <td>146960</td>\n",
       "      <td>(111023) Пакет \"Аптека Озерки\" 28 х 35см 906</td>\n",
       "    </tr>\n",
       "  </tbody>\n",
       "</table>\n",
       "</div>"
      ],
      "text/plain": [
       "   product_id                                            product\n",
       "0      168308               (197312) Пакет-майка 25см х 45см 906\n",
       "1      134832  (62448) Перекись водорода р-р наружн. 3% фл.по...\n",
       "2      101384  (72183) Салициловая кислота р-р спирт 2% фл 40...\n",
       "3      168570                     (197309) Пакет 28см х 50см 906\n",
       "4      146960       (111023) Пакет \"Аптека Озерки\" 28 х 35см 906"
      ]
     },
     "execution_count": 6,
     "metadata": {},
     "output_type": "execute_result"
    }
   ],
   "source": [
    "products_df = pd.read_csv('products.csv')\n",
    "products_df.head()"
   ]
  },
  {
   "cell_type": "code",
   "execution_count": 7,
   "id": "309e27db-d7cc-49ab-be97-7e05e1930073",
   "metadata": {
    "execution": {
     "iopub.execute_input": "2023-05-03T22:29:53.486126Z",
     "iopub.status.busy": "2023-05-03T22:29:53.486126Z",
     "iopub.status.idle": "2023-05-03T22:29:53.497320Z",
     "shell.execute_reply": "2023-05-03T22:29:53.497320Z",
     "shell.execute_reply.started": "2023-05-03T22:29:53.486126Z"
    },
    "tags": []
   },
   "outputs": [
    {
     "data": {
      "text/plain": [
       "(30418, 2)"
      ]
     },
     "execution_count": 7,
     "metadata": {},
     "output_type": "execute_result"
    }
   ],
   "source": [
    "products_df.shape"
   ]
  },
  {
   "cell_type": "markdown",
   "id": "509bbb3c-a05f-4d08-add9-2a8206e2fce3",
   "metadata": {},
   "source": [
    "Файлы содержат одни и те же данные."
   ]
  },
  {
   "cell_type": "markdown",
   "id": "9994428b-468c-41b5-bd80-9feb3c4aae88",
   "metadata": {
    "jp-MarkdownHeadingCollapsed": true,
    "tags": []
   },
   "source": [
    "## Файл 'чековые данные.csv'"
   ]
  },
  {
   "cell_type": "code",
   "execution_count": 8,
   "id": "ecf5fac0-c353-40e3-a5fc-e782ffae6592",
   "metadata": {
    "execution": {
     "iopub.execute_input": "2023-05-03T22:29:54.286366Z",
     "iopub.status.busy": "2023-05-03T22:29:54.285861Z",
     "iopub.status.idle": "2023-05-03T22:30:16.739645Z",
     "shell.execute_reply": "2023-05-03T22:30:16.739645Z",
     "shell.execute_reply.started": "2023-05-03T22:29:54.286366Z"
    },
    "tags": []
   },
   "outputs": [],
   "source": [
    "receipt_df = pd.read_csv('чековые данные.csv', low_memory=False, skiprows=[20000001, 20000002, 20000003])"
   ]
  },
  {
   "cell_type": "code",
   "execution_count": 9,
   "id": "c64066a4-5ed7-4197-a652-a64a5996303f",
   "metadata": {
    "execution": {
     "iopub.execute_input": "2023-05-03T22:30:16.741151Z",
     "iopub.status.busy": "2023-05-03T22:30:16.741151Z",
     "iopub.status.idle": "2023-05-03T22:30:16.756374Z",
     "shell.execute_reply": "2023-05-03T22:30:16.755377Z",
     "shell.execute_reply.started": "2023-05-03T22:30:16.741151Z"
    },
    "tags": []
   },
   "outputs": [
    {
     "data": {
      "text/html": [
       "<div>\n",
       "<style scoped>\n",
       "    .dataframe tbody tr th:only-of-type {\n",
       "        vertical-align: middle;\n",
       "    }\n",
       "\n",
       "    .dataframe tbody tr th {\n",
       "        vertical-align: top;\n",
       "    }\n",
       "\n",
       "    .dataframe thead th {\n",
       "        text-align: right;\n",
       "    }\n",
       "</style>\n",
       "<table border=\"1\" class=\"dataframe\">\n",
       "  <thead>\n",
       "    <tr style=\"text-align: right;\">\n",
       "      <th></th>\n",
       "      <th>sale_date_date</th>\n",
       "      <th>contact_id</th>\n",
       "      <th>shop_id</th>\n",
       "      <th>product_id</th>\n",
       "      <th>name</th>\n",
       "      <th>product_sub_category_id</th>\n",
       "      <th>product_category_id</th>\n",
       "      <th>brand_id</th>\n",
       "      <th>quantity</th>\n",
       "    </tr>\n",
       "  </thead>\n",
       "  <tbody>\n",
       "    <tr>\n",
       "      <th>19999995</th>\n",
       "      <td>2018-06-13</td>\n",
       "      <td>1601618</td>\n",
       "      <td>1499</td>\n",
       "      <td>66842</td>\n",
       "      <td>(111992) Кэа Хэлс Ромашка [цветки фильтр-пакет...</td>\n",
       "      <td>615</td>\n",
       "      <td>140</td>\n",
       "      <td>1838</td>\n",
       "      <td>1,00</td>\n",
       "    </tr>\n",
       "    <tr>\n",
       "      <th>19999996</th>\n",
       "      <td>2018-06-13</td>\n",
       "      <td>1394104</td>\n",
       "      <td>1495</td>\n",
       "      <td>136795</td>\n",
       "      <td>(97857) Лориста Н таб. п.о. 50мг+12.5мг №90</td>\n",
       "      <td>738</td>\n",
       "      <td>170</td>\n",
       "      <td>-1</td>\n",
       "      <td>1,00</td>\n",
       "    </tr>\n",
       "    <tr>\n",
       "      <th>19999997</th>\n",
       "      <td>2018-06-13</td>\n",
       "      <td>1570654</td>\n",
       "      <td>1516</td>\n",
       "      <td>119513</td>\n",
       "      <td>(25299) Локрен тб п/о 20мг N28</td>\n",
       "      <td>738</td>\n",
       "      <td>170</td>\n",
       "      <td>-1</td>\n",
       "      <td>1,00</td>\n",
       "    </tr>\n",
       "    <tr>\n",
       "      <th>19999998</th>\n",
       "      <td>2018-06-13</td>\n",
       "      <td>1924036</td>\n",
       "      <td>1485</td>\n",
       "      <td>71723</td>\n",
       "      <td>(60907) Тералиджен табл. п.п.о. 5 мг №25</td>\n",
       "      <td>637</td>\n",
       "      <td>146</td>\n",
       "      <td>-1</td>\n",
       "      <td>1,00</td>\n",
       "    </tr>\n",
       "    <tr>\n",
       "      <th>19999999</th>\n",
       "      <td>2018-06-13</td>\n",
       "      <td>1788779</td>\n",
       "      <td>1503</td>\n",
       "      <td>66164</td>\n",
       "      <td>(27922) Дифлюкан капс. 150 мг. №1</td>\n",
       "      <td>622</td>\n",
       "      <td>142</td>\n",
       "      <td>-1</td>\n",
       "      <td>1,00</td>\n",
       "    </tr>\n",
       "  </tbody>\n",
       "</table>\n",
       "</div>"
      ],
      "text/plain": [
       "         sale_date_date  contact_id  shop_id  product_id  \\\n",
       "19999995     2018-06-13     1601618     1499       66842   \n",
       "19999996     2018-06-13     1394104     1495      136795   \n",
       "19999997     2018-06-13     1570654     1516      119513   \n",
       "19999998     2018-06-13     1924036     1485       71723   \n",
       "19999999     2018-06-13     1788779     1503       66164   \n",
       "\n",
       "                                                       name  \\\n",
       "19999995  (111992) Кэа Хэлс Ромашка [цветки фильтр-пакет...   \n",
       "19999996        (97857) Лориста Н таб. п.о. 50мг+12.5мг №90   \n",
       "19999997                     (25299) Локрен тб п/о 20мг N28   \n",
       "19999998           (60907) Тералиджен табл. п.п.о. 5 мг №25   \n",
       "19999999                  (27922) Дифлюкан капс. 150 мг. №1   \n",
       "\n",
       "          product_sub_category_id  product_category_id  brand_id quantity  \n",
       "19999995                      615                  140      1838     1,00  \n",
       "19999996                      738                  170        -1     1,00  \n",
       "19999997                      738                  170        -1     1,00  \n",
       "19999998                      637                  146        -1     1,00  \n",
       "19999999                      622                  142        -1     1,00  "
      ]
     },
     "execution_count": 9,
     "metadata": {},
     "output_type": "execute_result"
    }
   ],
   "source": [
    "receipt_df.tail()"
   ]
  },
  {
   "cell_type": "code",
   "execution_count": 10,
   "id": "d2956192-41ea-4c1f-9b06-77645842ade5",
   "metadata": {
    "execution": {
     "iopub.execute_input": "2023-05-03T22:30:16.757375Z",
     "iopub.status.busy": "2023-05-03T22:30:16.757375Z",
     "iopub.status.idle": "2023-05-03T22:30:16.771394Z",
     "shell.execute_reply": "2023-05-03T22:30:16.770887Z",
     "shell.execute_reply.started": "2023-05-03T22:30:16.757375Z"
    },
    "tags": []
   },
   "outputs": [
    {
     "name": "stdout",
     "output_type": "stream",
     "text": [
      "<class 'pandas.core.frame.DataFrame'>\n",
      "RangeIndex: 20000000 entries, 0 to 19999999\n",
      "Data columns (total 9 columns):\n",
      " #   Column                   Dtype \n",
      "---  ------                   ----- \n",
      " 0   sale_date_date           object\n",
      " 1   contact_id               int64 \n",
      " 2   shop_id                  int64 \n",
      " 3   product_id               int64 \n",
      " 4   name                     object\n",
      " 5   product_sub_category_id  int64 \n",
      " 6   product_category_id      int64 \n",
      " 7   brand_id                 int64 \n",
      " 8   quantity                 object\n",
      "dtypes: int64(6), object(3)\n",
      "memory usage: 1.3+ GB\n"
     ]
    }
   ],
   "source": [
    "receipt_df.info()"
   ]
  },
  {
   "cell_type": "markdown",
   "id": "7d7739a6-447a-42d5-bf91-0545005922e3",
   "metadata": {},
   "source": [
    "Удалим дупликаты и пропуски, т.к. размер датасета достаточно большой."
   ]
  },
  {
   "cell_type": "code",
   "execution_count": 11,
   "id": "06d0019c-f55e-44b3-a11f-47697db42a85",
   "metadata": {
    "execution": {
     "iopub.execute_input": "2023-05-03T22:30:16.772399Z",
     "iopub.status.busy": "2023-05-03T22:30:16.772399Z",
     "iopub.status.idle": "2023-05-03T22:30:34.592969Z",
     "shell.execute_reply": "2023-05-03T22:30:34.592969Z",
     "shell.execute_reply.started": "2023-05-03T22:30:16.772399Z"
    },
    "tags": []
   },
   "outputs": [],
   "source": [
    "receipt_df = receipt_df.dropna()\n",
    "receipt_df.drop_duplicates(inplace=True)"
   ]
  },
  {
   "cell_type": "code",
   "execution_count": 12,
   "id": "8e9f4aa6-f70b-4c34-a7fd-5705b1b94254",
   "metadata": {
    "execution": {
     "iopub.execute_input": "2023-05-03T22:30:34.593928Z",
     "iopub.status.busy": "2023-05-03T22:30:34.593928Z",
     "iopub.status.idle": "2023-05-03T22:30:34.609439Z",
     "shell.execute_reply": "2023-05-03T22:30:34.608439Z",
     "shell.execute_reply.started": "2023-05-03T22:30:34.593928Z"
    },
    "tags": []
   },
   "outputs": [
    {
     "data": {
      "text/plain": [
       "(19703842, 9)"
      ]
     },
     "execution_count": 12,
     "metadata": {},
     "output_type": "execute_result"
    }
   ],
   "source": [
    "receipt_df.shape"
   ]
  },
  {
   "cell_type": "markdown",
   "id": "ccfd383c-c1e2-4e17-94f9-c78ea7a77930",
   "metadata": {},
   "source": [
    "Потеряли всего 1.5 % данных. Вполне допустимо."
   ]
  },
  {
   "cell_type": "markdown",
   "id": "66cc2020-713a-4c3e-8a2a-ff89fd415c47",
   "metadata": {
    "jp-MarkdownHeadingCollapsed": true,
    "tags": []
   },
   "source": [
    "# EDA"
   ]
  },
  {
   "cell_type": "code",
   "execution_count": 13,
   "id": "a071b418-f724-4497-916d-661b3c8a99b5",
   "metadata": {
    "execution": {
     "iopub.execute_input": "2023-05-03T22:30:34.610944Z",
     "iopub.status.busy": "2023-05-03T22:30:34.609439Z",
     "iopub.status.idle": "2023-05-03T22:30:34.624334Z",
     "shell.execute_reply": "2023-05-03T22:30:34.624334Z",
     "shell.execute_reply.started": "2023-05-03T22:30:34.610944Z"
    },
    "tags": []
   },
   "outputs": [
    {
     "data": {
      "text/plain": [
       "Index(['sale_date_date', 'contact_id', 'shop_id', 'product_id', 'name',\n",
       "       'product_sub_category_id', 'product_category_id', 'brand_id',\n",
       "       'quantity'],\n",
       "      dtype='object')"
      ]
     },
     "execution_count": 13,
     "metadata": {},
     "output_type": "execute_result"
    }
   ],
   "source": [
    "receipt_df.columns"
   ]
  },
  {
   "cell_type": "markdown",
   "id": "e1bf790c-332d-4961-88db-c2af209c7330",
   "metadata": {},
   "source": [
    "Переименуем столбцы для удобства дальнейшей обработки."
   ]
  },
  {
   "cell_type": "code",
   "execution_count": 14,
   "id": "37506b70-02f4-457a-9813-73eabaf64a7c",
   "metadata": {
    "execution": {
     "iopub.execute_input": "2023-05-03T22:30:34.625336Z",
     "iopub.status.busy": "2023-05-03T22:30:34.625336Z",
     "iopub.status.idle": "2023-05-03T22:30:34.640843Z",
     "shell.execute_reply": "2023-05-03T22:30:34.639841Z",
     "shell.execute_reply.started": "2023-05-03T22:30:34.625336Z"
    },
    "tags": []
   },
   "outputs": [
    {
     "data": {
      "text/html": [
       "<div>\n",
       "<style scoped>\n",
       "    .dataframe tbody tr th:only-of-type {\n",
       "        vertical-align: middle;\n",
       "    }\n",
       "\n",
       "    .dataframe tbody tr th {\n",
       "        vertical-align: top;\n",
       "    }\n",
       "\n",
       "    .dataframe thead th {\n",
       "        text-align: right;\n",
       "    }\n",
       "</style>\n",
       "<table border=\"1\" class=\"dataframe\">\n",
       "  <thead>\n",
       "    <tr style=\"text-align: right;\">\n",
       "      <th></th>\n",
       "      <th>sale_date</th>\n",
       "      <th>user</th>\n",
       "      <th>shop</th>\n",
       "      <th>item</th>\n",
       "      <th>name</th>\n",
       "      <th>item_sub_cat</th>\n",
       "      <th>item_cat</th>\n",
       "      <th>brand</th>\n",
       "      <th>quantity</th>\n",
       "    </tr>\n",
       "  </thead>\n",
       "  <tbody>\n",
       "    <tr>\n",
       "      <th>0</th>\n",
       "      <td>2018-12-07</td>\n",
       "      <td>1260627</td>\n",
       "      <td>1455</td>\n",
       "      <td>168308</td>\n",
       "      <td>(197312) Пакет-майка 25см х 45см</td>\n",
       "      <td>906</td>\n",
       "      <td>205</td>\n",
       "      <td>-1</td>\n",
       "      <td>1,00</td>\n",
       "    </tr>\n",
       "    <tr>\n",
       "      <th>1</th>\n",
       "      <td>2018-12-07</td>\n",
       "      <td>198287</td>\n",
       "      <td>279</td>\n",
       "      <td>134832</td>\n",
       "      <td>(62448) Перекись водорода р-р наружн. 3% фл.по...</td>\n",
       "      <td>404</td>\n",
       "      <td>93</td>\n",
       "      <td>-1</td>\n",
       "      <td>1,00</td>\n",
       "    </tr>\n",
       "    <tr>\n",
       "      <th>2</th>\n",
       "      <td>2018-12-07</td>\n",
       "      <td>2418385</td>\n",
       "      <td>848</td>\n",
       "      <td>101384</td>\n",
       "      <td>(72183) Салициловая кислота р-р спирт 2% фл 40...</td>\n",
       "      <td>404</td>\n",
       "      <td>93</td>\n",
       "      <td>-1</td>\n",
       "      <td>1,00</td>\n",
       "    </tr>\n",
       "  </tbody>\n",
       "</table>\n",
       "</div>"
      ],
      "text/plain": [
       "    sale_date     user  shop    item  \\\n",
       "0  2018-12-07  1260627  1455  168308   \n",
       "1  2018-12-07   198287   279  134832   \n",
       "2  2018-12-07  2418385   848  101384   \n",
       "\n",
       "                                                name  item_sub_cat  item_cat  \\\n",
       "0                   (197312) Пакет-майка 25см х 45см           906       205   \n",
       "1  (62448) Перекись водорода р-р наружн. 3% фл.по...           404        93   \n",
       "2  (72183) Салициловая кислота р-р спирт 2% фл 40...           404        93   \n",
       "\n",
       "   brand quantity  \n",
       "0     -1     1,00  \n",
       "1     -1     1,00  \n",
       "2     -1     1,00  "
      ]
     },
     "execution_count": 14,
     "metadata": {},
     "output_type": "execute_result"
    }
   ],
   "source": [
    "receipt_df.columns = ['sale_date', 'user', 'shop', 'item', 'name',\n",
    "       'item_sub_cat', 'item_cat', 'brand', 'quantity']\n",
    "receipt_df.head(3)"
   ]
  },
  {
   "cell_type": "markdown",
   "id": "e4ea46b4-066f-4db0-bfdd-b1d419c76dd5",
   "metadata": {},
   "source": [
    "Переведем некоторые столбцы в удобные форматы данных:"
   ]
  },
  {
   "cell_type": "code",
   "execution_count": 15,
   "id": "52784e55-eb0b-4e58-bbda-5594e5667737",
   "metadata": {
    "execution": {
     "iopub.execute_input": "2023-05-03T22:30:34.642086Z",
     "iopub.status.busy": "2023-05-03T22:30:34.640843Z",
     "iopub.status.idle": "2023-05-03T22:30:40.987179Z",
     "shell.execute_reply": "2023-05-03T22:30:40.987179Z",
     "shell.execute_reply.started": "2023-05-03T22:30:34.642086Z"
    },
    "tags": []
   },
   "outputs": [],
   "source": [
    "# приводим столбец с датами к формату pandas Timestamp\n",
    "receipt_df['sale_date'] = pd.to_datetime(receipt_df['sale_date'])\n",
    "# столбец quantity привоим к float формату из текста\n",
    "receipt_df['quantity'] = receipt_df['quantity'].apply(lambda x: x.replace(\",\", \".\")).apply(float)"
   ]
  },
  {
   "cell_type": "markdown",
   "id": "ca972bcb-2c86-40bb-b7dc-df5a9ac71af7",
   "metadata": {
    "jp-MarkdownHeadingCollapsed": true,
    "tags": []
   },
   "source": [
    "### Анализ столбца 'brand'"
   ]
  },
  {
   "cell_type": "code",
   "execution_count": 16,
   "id": "b41e7f28-63cb-43cb-8ec3-b7f71087619f",
   "metadata": {
    "execution": {
     "iopub.execute_input": "2023-05-03T22:30:40.988182Z",
     "iopub.status.busy": "2023-05-03T22:30:40.988182Z",
     "iopub.status.idle": "2023-05-03T22:30:41.175164Z",
     "shell.execute_reply": "2023-05-03T22:30:41.175164Z",
     "shell.execute_reply.started": "2023-05-03T22:30:40.988182Z"
    },
    "tags": []
   },
   "outputs": [
    {
     "name": "stdout",
     "output_type": "stream",
     "text": [
      "Уникальных значений в столбце 'brand':   1631\n",
      "Максимальное значение в столбце 'brand': 5475\n",
      "Минимальное значение в столбце 'brand':  -1\n"
     ]
    }
   ],
   "source": [
    "print(f\"Уникальных значений в столбце 'brand':   {receipt_df['brand'].nunique()}\")\n",
    "print(f\"Максимальное значение в столбце 'brand': {receipt_df['brand'].max()}\")\n",
    "print(f\"Минимальное значение в столбце 'brand':  {receipt_df['brand'].min()}\")"
   ]
  },
  {
   "cell_type": "code",
   "execution_count": 17,
   "id": "8920502f-6a08-47c0-a145-35a8be4571c0",
   "metadata": {
    "execution": {
     "iopub.execute_input": "2023-05-03T22:30:41.177167Z",
     "iopub.status.busy": "2023-05-03T22:30:41.177167Z",
     "iopub.status.idle": "2023-05-03T22:30:41.284620Z",
     "shell.execute_reply": "2023-05-03T22:30:41.284620Z",
     "shell.execute_reply.started": "2023-05-03T22:30:41.177167Z"
    },
    "tags": []
   },
   "outputs": [
    {
     "data": {
      "text/plain": [
       "-1       15927786\n",
       " 1520      870683\n",
       " 1348      148578\n",
       " 2038      104215\n",
       " 4538       96452\n",
       "           ...   \n",
       " 4877           1\n",
       " 1433           1\n",
       " 932            1\n",
       " 4235           1\n",
       " 4529           1\n",
       "Name: brand, Length: 1631, dtype: int64"
      ]
     },
     "execution_count": 17,
     "metadata": {},
     "output_type": "execute_result"
    }
   ],
   "source": [
    "receipt_df['brand'].value_counts()"
   ]
  },
  {
   "cell_type": "code",
   "execution_count": 18,
   "id": "c9cf9adf-6108-4ae6-9b92-2ba97b182744",
   "metadata": {
    "execution": {
     "iopub.execute_input": "2023-05-03T22:30:41.285621Z",
     "iopub.status.busy": "2023-05-03T22:30:41.285621Z",
     "iopub.status.idle": "2023-05-03T22:30:42.502711Z",
     "shell.execute_reply": "2023-05-03T22:30:42.502711Z",
     "shell.execute_reply.started": "2023-05-03T22:30:41.285621Z"
    },
    "tags": []
   },
   "outputs": [
    {
     "data": {
      "text/html": [
       "<div>\n",
       "<style scoped>\n",
       "    .dataframe tbody tr th:only-of-type {\n",
       "        vertical-align: middle;\n",
       "    }\n",
       "\n",
       "    .dataframe tbody tr th {\n",
       "        vertical-align: top;\n",
       "    }\n",
       "\n",
       "    .dataframe thead th {\n",
       "        text-align: right;\n",
       "    }\n",
       "</style>\n",
       "<table border=\"1\" class=\"dataframe\">\n",
       "  <thead>\n",
       "    <tr style=\"text-align: right;\">\n",
       "      <th></th>\n",
       "      <th>sale_date</th>\n",
       "      <th>user</th>\n",
       "      <th>shop</th>\n",
       "      <th>item</th>\n",
       "      <th>name</th>\n",
       "      <th>item_sub_cat</th>\n",
       "      <th>item_cat</th>\n",
       "      <th>brand</th>\n",
       "      <th>quantity</th>\n",
       "    </tr>\n",
       "  </thead>\n",
       "  <tbody>\n",
       "    <tr>\n",
       "      <th>6257158</th>\n",
       "      <td>2018-01-13</td>\n",
       "      <td>310456</td>\n",
       "      <td>329</td>\n",
       "      <td>8106</td>\n",
       "      <td>(107900) Кардиомагнил таб.п.п.о. форте 150мг №30</td>\n",
       "      <td>738</td>\n",
       "      <td>170</td>\n",
       "      <td>-1</td>\n",
       "      <td>1.0</td>\n",
       "    </tr>\n",
       "    <tr>\n",
       "      <th>5119903</th>\n",
       "      <td>2018-01-29</td>\n",
       "      <td>1383527</td>\n",
       "      <td>1461</td>\n",
       "      <td>112984</td>\n",
       "      <td>(64739) Галавит таблетки подъязычные 25мг №20</td>\n",
       "      <td>581</td>\n",
       "      <td>130</td>\n",
       "      <td>-1</td>\n",
       "      <td>1.0</td>\n",
       "    </tr>\n",
       "    <tr>\n",
       "      <th>8834870</th>\n",
       "      <td>2018-03-22</td>\n",
       "      <td>452884</td>\n",
       "      <td>275</td>\n",
       "      <td>140779</td>\n",
       "      <td>(66631) Валз Н табл. п.о. 160 мг. + 12,5 мг. №28</td>\n",
       "      <td>738</td>\n",
       "      <td>170</td>\n",
       "      <td>-1</td>\n",
       "      <td>1.0</td>\n",
       "    </tr>\n",
       "    <tr>\n",
       "      <th>19180642</th>\n",
       "      <td>2018-06-02</td>\n",
       "      <td>1217150</td>\n",
       "      <td>848</td>\n",
       "      <td>40013</td>\n",
       "      <td>(4395) Фликсоназе спрей наз. доз. 50 мкг/доза ...</td>\n",
       "      <td>395</td>\n",
       "      <td>89</td>\n",
       "      <td>-1</td>\n",
       "      <td>1.0</td>\n",
       "    </tr>\n",
       "    <tr>\n",
       "      <th>11679100</th>\n",
       "      <td>2018-04-03</td>\n",
       "      <td>1044946</td>\n",
       "      <td>278</td>\n",
       "      <td>140029</td>\n",
       "      <td>(16185) Гутталакс капли д/приема внутрь 7,5 мг...</td>\n",
       "      <td>598</td>\n",
       "      <td>135</td>\n",
       "      <td>-1</td>\n",
       "      <td>1.0</td>\n",
       "    </tr>\n",
       "  </tbody>\n",
       "</table>\n",
       "</div>"
      ],
      "text/plain": [
       "          sale_date     user  shop    item  \\\n",
       "6257158  2018-01-13   310456   329    8106   \n",
       "5119903  2018-01-29  1383527  1461  112984   \n",
       "8834870  2018-03-22   452884   275  140779   \n",
       "19180642 2018-06-02  1217150   848   40013   \n",
       "11679100 2018-04-03  1044946   278  140029   \n",
       "\n",
       "                                                       name  item_sub_cat  \\\n",
       "6257158    (107900) Кардиомагнил таб.п.п.о. форте 150мг №30           738   \n",
       "5119903       (64739) Галавит таблетки подъязычные 25мг №20           581   \n",
       "8834870    (66631) Валз Н табл. п.о. 160 мг. + 12,5 мг. №28           738   \n",
       "19180642  (4395) Фликсоназе спрей наз. доз. 50 мкг/доза ...           395   \n",
       "11679100  (16185) Гутталакс капли д/приема внутрь 7,5 мг...           598   \n",
       "\n",
       "          item_cat  brand  quantity  \n",
       "6257158        170     -1       1.0  \n",
       "5119903        130     -1       1.0  \n",
       "8834870        170     -1       1.0  \n",
       "19180642        89     -1       1.0  \n",
       "11679100       135     -1       1.0  "
      ]
     },
     "execution_count": 18,
     "metadata": {},
     "output_type": "execute_result"
    }
   ],
   "source": [
    "receipt_df.query('brand==-1').sample(5)"
   ]
  },
  {
   "cell_type": "markdown",
   "id": "d3ee2e39-5e06-4c34-ba42-2034a4843139",
   "metadata": {},
   "source": [
    "Более чем у 75 % записей, судя по всему, отсутствует указание бренда (brand=='-1'), поэтому данный столбец в рекоммендациях учитывать не будем."
   ]
  },
  {
   "cell_type": "markdown",
   "id": "0edef696-adc7-47f5-8d63-448a5a645256",
   "metadata": {
    "jp-MarkdownHeadingCollapsed": true,
    "tags": []
   },
   "source": [
    "### Анализ столбца 'quantity'"
   ]
  },
  {
   "cell_type": "code",
   "execution_count": 19,
   "id": "6ebbd7bd-053d-448b-a632-6d50db7fb01d",
   "metadata": {
    "execution": {
     "iopub.execute_input": "2023-05-03T22:30:42.504712Z",
     "iopub.status.busy": "2023-05-03T22:30:42.503712Z",
     "iopub.status.idle": "2023-05-03T22:30:42.691238Z",
     "shell.execute_reply": "2023-05-03T22:30:42.691238Z",
     "shell.execute_reply.started": "2023-05-03T22:30:42.503712Z"
    },
    "tags": []
   },
   "outputs": [
    {
     "name": "stdout",
     "output_type": "stream",
     "text": [
      "Уникальных значений в столбце 'quantity':   1244\n",
      "Максимальное значение в столбце 'quantity': 10000.0\n",
      "Минимальное значение в столбце 'quantity':  0.001\n"
     ]
    }
   ],
   "source": [
    "print(f\"Уникальных значений в столбце 'quantity':   {receipt_df['quantity'].nunique()}\")\n",
    "print(f\"Максимальное значение в столбце 'quantity': {receipt_df['quantity'].max()}\")\n",
    "print(f\"Минимальное значение в столбце 'quantity':  {receipt_df['quantity'].min()}\")"
   ]
  },
  {
   "cell_type": "markdown",
   "id": "80d2e0f1-6b7a-4555-ad26-284d8a962fd5",
   "metadata": {},
   "source": [
    "Проверим на выбросы:"
   ]
  },
  {
   "cell_type": "code",
   "execution_count": 20,
   "id": "e1e79869-f3b9-4637-9f9d-ec2819402824",
   "metadata": {
    "execution": {
     "iopub.execute_input": "2023-05-03T22:30:42.693536Z",
     "iopub.status.busy": "2023-05-03T22:30:42.692535Z",
     "iopub.status.idle": "2023-05-03T22:30:52.663418Z",
     "shell.execute_reply": "2023-05-03T22:30:52.663418Z",
     "shell.execute_reply.started": "2023-05-03T22:30:42.693536Z"
    },
    "tags": []
   },
   "outputs": [
    {
     "data": {
      "text/plain": [
       "<Axes: >"
      ]
     },
     "execution_count": 20,
     "metadata": {},
     "output_type": "execute_result"
    },
    {
     "data": {
      "image/png": "[encoded data removed]",
      "text/plain": [
       "<Figure size 640x480 with 1 Axes>"
      ]
     },
     "metadata": {},
     "output_type": "display_data"
    }
   ],
   "source": [
    "sns.boxplot(receipt_df['quantity'], orient='h')"
   ]
  },
  {
   "cell_type": "code",
   "execution_count": 21,
   "id": "90cbc576-cd48-4618-8bb0-ea2ac6f1d500",
   "metadata": {
    "execution": {
     "iopub.execute_input": "2023-05-03T22:30:52.665420Z",
     "iopub.status.busy": "2023-05-03T22:30:52.664419Z",
     "iopub.status.idle": "2023-05-03T22:30:53.554922Z",
     "shell.execute_reply": "2023-05-03T22:30:53.554922Z",
     "shell.execute_reply.started": "2023-05-03T22:30:52.665420Z"
    },
    "tags": []
   },
   "outputs": [
    {
     "data": {
      "text/plain": [
       "(19461050, 9)"
      ]
     },
     "execution_count": 21,
     "metadata": {},
     "output_type": "execute_result"
    }
   ],
   "source": [
    "# уже на этом этапе видно, что некоторые item можно удалить, например, пакеты, карты, НДС, и бахилы\n",
    "receipt_df = receipt_df.query('item not in [129195, 158662, 193351, 68689, 217227]')\n",
    "receipt_df.shape"
   ]
  },
  {
   "cell_type": "code",
   "execution_count": 22,
   "id": "98ddcdcb-0846-47e4-aafd-414d341eb998",
   "metadata": {
    "execution": {
     "iopub.execute_input": "2023-05-03T22:30:53.556918Z",
     "iopub.status.busy": "2023-05-03T22:30:53.555917Z",
     "iopub.status.idle": "2023-05-03T22:30:53.681406Z",
     "shell.execute_reply": "2023-05-03T22:30:53.680883Z",
     "shell.execute_reply.started": "2023-05-03T22:30:53.556918Z"
    },
    "tags": []
   },
   "outputs": [
    {
     "data": {
      "text/plain": [
       "10.0"
      ]
     },
     "execution_count": 22,
     "metadata": {},
     "output_type": "execute_result"
    }
   ],
   "source": [
    "np.quantile(receipt_df['quantity'], .99)"
   ]
  },
  {
   "cell_type": "markdown",
   "id": "c0cf47b6-eca5-4fe2-b40f-960d34b8b593",
   "metadata": {},
   "source": [
    "С учетом того, что 99-й процентиль равен 10, то отбросим значения выше этого порога."
   ]
  },
  {
   "cell_type": "code",
   "execution_count": 23,
   "id": "ea890bc0-0040-42cd-ac79-2724406d5de0",
   "metadata": {
    "execution": {
     "iopub.execute_input": "2023-05-03T22:30:53.682415Z",
     "iopub.status.busy": "2023-05-03T22:30:53.682415Z",
     "iopub.status.idle": "2023-05-03T22:30:54.541103Z",
     "shell.execute_reply": "2023-05-03T22:30:54.541103Z",
     "shell.execute_reply.started": "2023-05-03T22:30:53.682415Z"
    },
    "tags": []
   },
   "outputs": [
    {
     "data": {
      "text/plain": [
       "(19377654, 9)"
      ]
     },
     "execution_count": 23,
     "metadata": {},
     "output_type": "execute_result"
    }
   ],
   "source": [
    "receipt_df = receipt_df.query('quantity<=10')\n",
    "receipt_df.shape"
   ]
  },
  {
   "cell_type": "code",
   "execution_count": 24,
   "id": "0bac14f8-75ee-4200-9969-60bd171cb703",
   "metadata": {
    "execution": {
     "iopub.execute_input": "2023-05-03T22:30:54.542172Z",
     "iopub.status.busy": "2023-05-03T22:30:54.542172Z",
     "iopub.status.idle": "2023-05-03T22:30:57.320858Z",
     "shell.execute_reply": "2023-05-03T22:30:57.320858Z",
     "shell.execute_reply.started": "2023-05-03T22:30:54.542172Z"
    },
    "tags": []
   },
   "outputs": [],
   "source": [
    "# округлим в большую сторону все дробные части и переведем в целочисленный формат\n",
    "receipt_df['quantity'] = receipt_df['quantity'].apply(np.ceil).apply(int)"
   ]
  },
  {
   "cell_type": "code",
   "execution_count": 25,
   "id": "9cb1fbc3-2212-474a-b845-b03f79c482d1",
   "metadata": {
    "execution": {
     "iopub.execute_input": "2023-05-03T22:30:57.321812Z",
     "iopub.status.busy": "2023-05-03T22:30:57.321812Z",
     "iopub.status.idle": "2023-05-03T22:30:57.677186Z",
     "shell.execute_reply": "2023-05-03T22:30:57.677186Z",
     "shell.execute_reply.started": "2023-05-03T22:30:57.321812Z"
    },
    "tags": []
   },
   "outputs": [
    {
     "data": {
      "text/plain": [
       "<Axes: >"
      ]
     },
     "execution_count": 25,
     "metadata": {},
     "output_type": "execute_result"
    },
    {
     "data": {
      "image/png": "[encoded data removed]",
      "text/plain": [
       "<Figure size 640x480 with 1 Axes>"
      ]
     },
     "metadata": {},
     "output_type": "display_data"
    }
   ],
   "source": [
    "receipt_df['quantity'].hist()"
   ]
  },
  {
   "cell_type": "code",
   "execution_count": 26,
   "id": "2a25dcea-86d2-4470-b8fc-5f241a631707",
   "metadata": {
    "execution": {
     "iopub.execute_input": "2023-05-03T22:30:57.678183Z",
     "iopub.status.busy": "2023-05-03T22:30:57.678183Z",
     "iopub.status.idle": "2023-05-03T22:30:57.802458Z",
     "shell.execute_reply": "2023-05-03T22:30:57.802458Z",
     "shell.execute_reply.started": "2023-05-03T22:30:57.678183Z"
    },
    "tags": []
   },
   "outputs": [
    {
     "name": "stdout",
     "output_type": "stream",
     "text": [
      "Уникальных значений в столбце 'quantity':   10\n",
      "Максимальное значение в столбце 'quantity': 10\n",
      "Минимальное значение в столбце 'quantity':  1\n"
     ]
    }
   ],
   "source": [
    "print(f\"Уникальных значений в столбце 'quantity':   {receipt_df['quantity'].nunique()}\")\n",
    "print(f\"Максимальное значение в столбце 'quantity': {receipt_df['quantity'].max()}\")\n",
    "print(f\"Минимальное значение в столбце 'quantity':  {receipt_df['quantity'].min()}\")"
   ]
  },
  {
   "cell_type": "code",
   "execution_count": 27,
   "id": "21156160-c62b-4af0-95f8-5af1f7369dfc",
   "metadata": {
    "execution": {
     "iopub.execute_input": "2023-05-03T22:30:57.803461Z",
     "iopub.status.busy": "2023-05-03T22:30:57.803461Z",
     "iopub.status.idle": "2023-05-03T22:30:57.864370Z",
     "shell.execute_reply": "2023-05-03T22:30:57.864370Z",
     "shell.execute_reply.started": "2023-05-03T22:30:57.803461Z"
    },
    "tags": []
   },
   "outputs": [],
   "source": [
    "receipt_df['quantity'] = receipt_df['quantity'].astype('int32')"
   ]
  },
  {
   "cell_type": "markdown",
   "id": "c3e1437b-50f4-4d6d-8e38-ab2bf1898860",
   "metadata": {
    "jp-MarkdownHeadingCollapsed": true,
    "tags": []
   },
   "source": [
    "### Анализ столбцов подкатегорий и категорий"
   ]
  },
  {
   "cell_type": "code",
   "execution_count": 28,
   "id": "70568a10-9cae-4a0c-81f7-8420dc4c20d0",
   "metadata": {
    "execution": {
     "iopub.execute_input": "2023-05-03T22:30:57.865372Z",
     "iopub.status.busy": "2023-05-03T22:30:57.865372Z",
     "iopub.status.idle": "2023-05-03T22:30:57.991151Z",
     "shell.execute_reply": "2023-05-03T22:30:57.991151Z",
     "shell.execute_reply.started": "2023-05-03T22:30:57.865372Z"
    },
    "tags": []
   },
   "outputs": [
    {
     "name": "stdout",
     "output_type": "stream",
     "text": [
      "Уникальных значений в столбце 'item_sub_cat':   440\n",
      "Максимальное значение в столбце 'item_sub_cat': 939\n",
      "Минимальное значение в столбце 'item_sub_cat':  -1\n"
     ]
    }
   ],
   "source": [
    "print(f\"Уникальных значений в столбце 'item_sub_cat':   {receipt_df['item_sub_cat'].nunique()}\")\n",
    "print(f\"Максимальное значение в столбце 'item_sub_cat': {receipt_df['item_sub_cat'].max()}\")\n",
    "print(f\"Минимальное значение в столбце 'item_sub_cat':  {receipt_df['item_sub_cat'].min()}\")"
   ]
  },
  {
   "cell_type": "code",
   "execution_count": 29,
   "id": "10a31adf-4ad6-4023-a105-3af8a662351e",
   "metadata": {
    "execution": {
     "iopub.execute_input": "2023-05-03T22:30:57.992084Z",
     "iopub.status.busy": "2023-05-03T22:30:57.992084Z",
     "iopub.status.idle": "2023-05-03T22:30:58.348204Z",
     "shell.execute_reply": "2023-05-03T22:30:58.348204Z",
     "shell.execute_reply.started": "2023-05-03T22:30:57.992084Z"
    },
    "tags": []
   },
   "outputs": [
    {
     "data": {
      "text/plain": [
       "<Axes: >"
      ]
     },
     "execution_count": 29,
     "metadata": {},
     "output_type": "execute_result"
    },
    {
     "data": {
      "image/png": "[encoded data removed]",
      "text/plain": [
       "<Figure size 640x480 with 1 Axes>"
      ]
     },
     "metadata": {},
     "output_type": "display_data"
    }
   ],
   "source": [
    "receipt_df['item_sub_cat'].hist()"
   ]
  },
  {
   "cell_type": "code",
   "execution_count": 30,
   "id": "778b0433-0974-446a-a59d-8081b7e7043b",
   "metadata": {
    "execution": {
     "iopub.execute_input": "2023-05-03T22:30:58.350205Z",
     "iopub.status.busy": "2023-05-03T22:30:58.349205Z",
     "iopub.status.idle": "2023-05-03T22:30:58.442247Z",
     "shell.execute_reply": "2023-05-03T22:30:58.442247Z",
     "shell.execute_reply.started": "2023-05-03T22:30:58.350205Z"
    },
    "tags": []
   },
   "outputs": [
    {
     "data": {
      "text/plain": [
       "738    2521338\n",
       "397     829769\n",
       "595     740450\n",
       "701     580343\n",
       "404     569104\n",
       "        ...   \n",
       "832          1\n",
       "886          1\n",
       "809          1\n",
       "483          1\n",
       "660          1\n",
       "Name: item_sub_cat, Length: 440, dtype: int64"
      ]
     },
     "execution_count": 30,
     "metadata": {},
     "output_type": "execute_result"
    }
   ],
   "source": [
    "receipt_df['item_sub_cat'].value_counts()"
   ]
  },
  {
   "cell_type": "code",
   "execution_count": 31,
   "id": "040543d2-4359-4a5d-b073-c4bf8c4b3a6f",
   "metadata": {
    "execution": {
     "iopub.execute_input": "2023-05-03T22:30:58.443247Z",
     "iopub.status.busy": "2023-05-03T22:30:58.443247Z",
     "iopub.status.idle": "2023-05-03T22:30:58.630213Z",
     "shell.execute_reply": "2023-05-03T22:30:58.630213Z",
     "shell.execute_reply.started": "2023-05-03T22:30:58.443247Z"
    },
    "tags": []
   },
   "outputs": [],
   "source": [
    "sub_cat_map_to_arti = {i[1]: i[0] for i in enumerate(receipt_df['item_sub_cat'].unique())}\n",
    "sub_cat_map_to_real = {i[0]: i[1] for i in enumerate(receipt_df['item_sub_cat'].unique())}"
   ]
  },
  {
   "cell_type": "code",
   "execution_count": 32,
   "id": "d129d983-5585-4518-b4a6-772da0b4cfdb",
   "metadata": {
    "execution": {
     "iopub.execute_input": "2023-05-03T22:30:58.631212Z",
     "iopub.status.busy": "2023-05-03T22:30:58.631212Z",
     "iopub.status.idle": "2023-05-03T22:31:02.406776Z",
     "shell.execute_reply": "2023-05-03T22:31:02.406776Z",
     "shell.execute_reply.started": "2023-05-03T22:30:58.631212Z"
    },
    "tags": []
   },
   "outputs": [],
   "source": [
    "receipt_df['item_sub_cat'] = [sub_cat_map_to_arti[sub_cat] for sub_cat in receipt_df['item_sub_cat']]"
   ]
  },
  {
   "cell_type": "code",
   "execution_count": 33,
   "id": "83662f33-d736-4886-a77e-f297cf5b953d",
   "metadata": {
    "execution": {
     "iopub.execute_input": "2023-05-03T22:31:02.407778Z",
     "iopub.status.busy": "2023-05-03T22:31:02.407778Z",
     "iopub.status.idle": "2023-05-03T22:31:02.532762Z",
     "shell.execute_reply": "2023-05-03T22:31:02.531803Z",
     "shell.execute_reply.started": "2023-05-03T22:31:02.407778Z"
    },
    "tags": []
   },
   "outputs": [
    {
     "name": "stdout",
     "output_type": "stream",
     "text": [
      "Уникальных значений в столбце 'item_sub_cat':   440\n",
      "Максимальное значение в столбце 'item_sub_cat': 439\n",
      "Минимальное значение в столбце 'item_sub_cat':  0\n"
     ]
    }
   ],
   "source": [
    "print(f\"Уникальных значений в столбце 'item_sub_cat':   {receipt_df['item_sub_cat'].nunique()}\")\n",
    "print(f\"Максимальное значение в столбце 'item_sub_cat': {receipt_df['item_sub_cat'].max()}\")\n",
    "print(f\"Минимальное значение в столбце 'item_sub_cat':  {receipt_df['item_sub_cat'].min()}\")"
   ]
  },
  {
   "cell_type": "code",
   "execution_count": 34,
   "id": "e2155761-da1d-41b1-8988-68243595bb60",
   "metadata": {
    "execution": {
     "iopub.execute_input": "2023-05-03T22:31:02.533767Z",
     "iopub.status.busy": "2023-05-03T22:31:02.532762Z",
     "iopub.status.idle": "2023-05-03T22:31:02.578807Z",
     "shell.execute_reply": "2023-05-03T22:31:02.578807Z",
     "shell.execute_reply.started": "2023-05-03T22:31:02.533767Z"
    },
    "tags": []
   },
   "outputs": [],
   "source": [
    "receipt_df['item_sub_cat'] = receipt_df['item_sub_cat'].astype('int16')"
   ]
  },
  {
   "cell_type": "code",
   "execution_count": 35,
   "id": "05d81364-649d-4906-b1d8-8769f80a0b1c",
   "metadata": {
    "execution": {
     "iopub.execute_input": "2023-05-03T22:31:02.583321Z",
     "iopub.status.busy": "2023-05-03T22:31:02.582318Z",
     "iopub.status.idle": "2023-05-03T22:31:03.753135Z",
     "shell.execute_reply": "2023-05-03T22:31:03.753135Z",
     "shell.execute_reply.started": "2023-05-03T22:31:02.583321Z"
    },
    "tags": []
   },
   "outputs": [
    {
     "data": {
      "text/plain": [
       "(19223516, 9)"
      ]
     },
     "execution_count": 35,
     "metadata": {},
     "output_type": "execute_result"
    }
   ],
   "source": [
    "# вручную убираем часть мусорных данных\n",
    "receipt_df = receipt_df.query('item not in [192349, 192552, 216032, 192885, 192867, 192889, 192789, 215286, 192578, 192920, 192906, 192513, 192571, 217217, 193640, 192686, 192763, 216031, 192894, 192753, 192557, 216064, 192556, 192347, 192572, 216024, 216045, 192834, 192915, 213615, 192674, 192723, 192350, 192807, 192332, 94270, 94270, 192785, 192880]')\n",
    "receipt_df.shape"
   ]
  },
  {
   "cell_type": "code",
   "execution_count": 36,
   "id": "771ad153-072f-420f-9d69-b38f92583e08",
   "metadata": {
    "execution": {
     "iopub.execute_input": "2023-05-03T22:31:03.755135Z",
     "iopub.status.busy": "2023-05-03T22:31:03.754135Z",
     "iopub.status.idle": "2023-05-03T22:31:03.879397Z",
     "shell.execute_reply": "2023-05-03T22:31:03.879397Z",
     "shell.execute_reply.started": "2023-05-03T22:31:03.755135Z"
    },
    "tags": []
   },
   "outputs": [
    {
     "name": "stdout",
     "output_type": "stream",
     "text": [
      "Уникальных значений в столбце 'item_cat':   112\n",
      "Максимальное значение в столбце 'item_cat': 208\n",
      "Минимальное значение в столбце 'item_cat':  -1\n"
     ]
    }
   ],
   "source": [
    "print(f\"Уникальных значений в столбце 'item_cat':   {receipt_df['item_cat'].nunique()}\")\n",
    "print(f\"Максимальное значение в столбце 'item_cat': {receipt_df['item_cat'].max()}\")\n",
    "print(f\"Минимальное значение в столбце 'item_cat':  {receipt_df['item_cat'].min()}\")"
   ]
  },
  {
   "cell_type": "code",
   "execution_count": 37,
   "id": "8dbaded6-0c1a-4e09-a4ab-0c6b1e41082f",
   "metadata": {
    "execution": {
     "iopub.execute_input": "2023-05-03T22:31:03.880903Z",
     "iopub.status.busy": "2023-05-03T22:31:03.880903Z",
     "iopub.status.idle": "2023-05-03T22:31:04.207754Z",
     "shell.execute_reply": "2023-05-03T22:31:04.207754Z",
     "shell.execute_reply.started": "2023-05-03T22:31:03.880903Z"
    },
    "tags": []
   },
   "outputs": [
    {
     "data": {
      "text/plain": [
       "<Axes: >"
      ]
     },
     "execution_count": 37,
     "metadata": {},
     "output_type": "execute_result"
    },
    {
     "data": {
      "image/png": "[encoded data removed]",
      "text/plain": [
       "<Figure size 640x480 with 1 Axes>"
      ]
     },
     "metadata": {},
     "output_type": "display_data"
    }
   ],
   "source": [
    "receipt_df['item_cat'].hist()"
   ]
  },
  {
   "cell_type": "code",
   "execution_count": 38,
   "id": "a2002392-5b4e-4f3b-bec1-b079b026e523",
   "metadata": {
    "execution": {
     "iopub.execute_input": "2023-05-03T22:31:04.208755Z",
     "iopub.status.busy": "2023-05-03T22:31:04.208755Z",
     "iopub.status.idle": "2023-05-03T22:31:04.302689Z",
     "shell.execute_reply": "2023-05-03T22:31:04.302689Z",
     "shell.execute_reply.started": "2023-05-03T22:31:04.208755Z"
    },
    "tags": []
   },
   "outputs": [
    {
     "data": {
      "text/plain": [
       "170    2930618\n",
       "162    1887695\n",
       "135    1862759\n",
       "101    1341328\n",
       "146     987452\n",
       "        ...   \n",
       "184          8\n",
       "203          6\n",
       "149          5\n",
       "145          4\n",
       "207          4\n",
       "Name: item_cat, Length: 112, dtype: int64"
      ]
     },
     "execution_count": 38,
     "metadata": {},
     "output_type": "execute_result"
    }
   ],
   "source": [
    "receipt_df['item_cat'].value_counts()"
   ]
  },
  {
   "cell_type": "code",
   "execution_count": 39,
   "id": "667fb187-494f-4621-953e-879427fac0d9",
   "metadata": {
    "execution": {
     "iopub.execute_input": "2023-05-03T22:31:04.303685Z",
     "iopub.status.busy": "2023-05-03T22:31:04.303685Z",
     "iopub.status.idle": "2023-05-03T22:31:04.475871Z",
     "shell.execute_reply": "2023-05-03T22:31:04.475871Z",
     "shell.execute_reply.started": "2023-05-03T22:31:04.303685Z"
    },
    "tags": []
   },
   "outputs": [],
   "source": [
    "cat_map_to_arti = {i[1]: i[0] for i in enumerate(receipt_df['item_cat'].unique())}\n",
    "cat_map_to_real = {i[0]: i[1] for i in enumerate(receipt_df['item_cat'].unique())}"
   ]
  },
  {
   "cell_type": "code",
   "execution_count": 40,
   "id": "bd84235b-bce0-4380-a4cd-25358d2155b0",
   "metadata": {
    "execution": {
     "iopub.execute_input": "2023-05-03T22:31:04.476872Z",
     "iopub.status.busy": "2023-05-03T22:31:04.476872Z",
     "iopub.status.idle": "2023-05-03T22:31:08.187002Z",
     "shell.execute_reply": "2023-05-03T22:31:08.187002Z",
     "shell.execute_reply.started": "2023-05-03T22:31:04.476872Z"
    },
    "tags": []
   },
   "outputs": [],
   "source": [
    "receipt_df['item_cat'] = [cat_map_to_arti[cat] for cat in receipt_df['item_cat']]"
   ]
  },
  {
   "cell_type": "code",
   "execution_count": 41,
   "id": "a0106873-1f5a-4141-9d7a-bdf8a48f2fec",
   "metadata": {
    "execution": {
     "iopub.execute_input": "2023-05-03T22:31:08.188507Z",
     "iopub.status.busy": "2023-05-03T22:31:08.188507Z",
     "iopub.status.idle": "2023-05-03T22:31:08.326739Z",
     "shell.execute_reply": "2023-05-03T22:31:08.326739Z",
     "shell.execute_reply.started": "2023-05-03T22:31:08.188507Z"
    },
    "tags": []
   },
   "outputs": [
    {
     "name": "stdout",
     "output_type": "stream",
     "text": [
      "Уникальных значений в столбце 'item_cat':   112\n",
      "Максимальное значение в столбце 'item_cat': 111\n",
      "Минимальное значение в столбце 'item_cat':  0\n"
     ]
    }
   ],
   "source": [
    "print(f\"Уникальных значений в столбце 'item_cat':   {receipt_df['item_cat'].nunique()}\")\n",
    "print(f\"Максимальное значение в столбце 'item_cat': {receipt_df['item_cat'].max()}\")\n",
    "print(f\"Минимальное значение в столбце 'item_cat':  {receipt_df['item_cat'].min()}\")"
   ]
  },
  {
   "cell_type": "code",
   "execution_count": 42,
   "id": "5c8819f5-8c43-4c21-b6f3-a7c1e53ab00d",
   "metadata": {
    "execution": {
     "iopub.execute_input": "2023-05-03T22:31:08.327734Z",
     "iopub.status.busy": "2023-05-03T22:31:08.327734Z",
     "iopub.status.idle": "2023-05-03T22:31:08.373817Z",
     "shell.execute_reply": "2023-05-03T22:31:08.373817Z",
     "shell.execute_reply.started": "2023-05-03T22:31:08.327734Z"
    },
    "tags": []
   },
   "outputs": [],
   "source": [
    "receipt_df['item_cat'] = receipt_df['item_cat'].astype('int8')"
   ]
  },
  {
   "cell_type": "markdown",
   "id": "95c04327-97c5-480d-8c39-43d10160f6cb",
   "metadata": {
    "jp-MarkdownHeadingCollapsed": true,
    "tags": []
   },
   "source": [
    "### Анализ столбца 'item'"
   ]
  },
  {
   "cell_type": "code",
   "execution_count": 43,
   "id": "d51b06c6-b078-4d24-a950-95f065d8d09e",
   "metadata": {
    "execution": {
     "iopub.execute_input": "2023-05-03T22:31:08.375813Z",
     "iopub.status.busy": "2023-05-03T22:31:08.374813Z",
     "iopub.status.idle": "2023-05-03T22:31:08.531490Z",
     "shell.execute_reply": "2023-05-03T22:31:08.530986Z",
     "shell.execute_reply.started": "2023-05-03T22:31:08.375813Z"
    },
    "tags": []
   },
   "outputs": [
    {
     "name": "stdout",
     "output_type": "stream",
     "text": [
      "Уникальных значений в столбце 'item':   36036\n",
      "Максимальное значение в столбце 'item': 363586\n",
      "Минимальное значение в столбце 'item':  8086\n"
     ]
    }
   ],
   "source": [
    "print(f\"Уникальных значений в столбце 'item':   {receipt_df['item'].nunique()}\")\n",
    "print(f\"Максимальное значение в столбце 'item': {receipt_df['item'].max()}\")\n",
    "print(f\"Минимальное значение в столбце 'item':  {receipt_df['item'].min()}\")"
   ]
  },
  {
   "cell_type": "code",
   "execution_count": 44,
   "id": "f386e96a-538c-4c98-9bb7-53f9cee85dc8",
   "metadata": {
    "execution": {
     "iopub.execute_input": "2023-05-03T22:31:08.533502Z",
     "iopub.status.busy": "2023-05-03T22:31:08.532496Z",
     "iopub.status.idle": "2023-05-03T22:31:09.419723Z",
     "shell.execute_reply": "2023-05-03T22:31:09.419723Z",
     "shell.execute_reply.started": "2023-05-03T22:31:08.533502Z"
    },
    "tags": []
   },
   "outputs": [
    {
     "data": {
      "text/plain": [
       "(19106224, 9)"
      ]
     },
     "execution_count": 44,
     "metadata": {},
     "output_type": "execute_result"
    }
   ],
   "source": [
    "# удаляем пакеты\n",
    "receipt_df = receipt_df.query('item not in [168308]')\n",
    "receipt_df.shape"
   ]
  },
  {
   "cell_type": "markdown",
   "id": "ad55b761-07e5-433e-b1a0-b2605c420818",
   "metadata": {},
   "source": [
    "Проведем энкодинг значений столбца item, чтобы они начинались с нуля и по порядку. Это облегчит вычисления."
   ]
  },
  {
   "cell_type": "code",
   "execution_count": 45,
   "id": "2260924d-45c7-4175-9d06-015f8802d65e",
   "metadata": {
    "execution": {
     "iopub.execute_input": "2023-05-03T22:31:09.421227Z",
     "iopub.status.busy": "2023-05-03T22:31:09.419723Z",
     "iopub.status.idle": "2023-05-03T22:31:09.686197Z",
     "shell.execute_reply": "2023-05-03T22:31:09.685201Z",
     "shell.execute_reply.started": "2023-05-03T22:31:09.421227Z"
    },
    "tags": []
   },
   "outputs": [],
   "source": [
    "item_map_to_arti = {i[1]: i[0] for i in enumerate(receipt_df['item'].unique())}\n",
    "item_map_to_real = {i[0]: i[1] for i in enumerate(receipt_df['item'].unique())}"
   ]
  },
  {
   "cell_type": "code",
   "execution_count": 46,
   "id": "8058d9a5-ec81-437e-b46d-909376f7b566",
   "metadata": {
    "execution": {
     "iopub.execute_input": "2023-05-03T22:31:09.687200Z",
     "iopub.status.busy": "2023-05-03T22:31:09.687200Z",
     "iopub.status.idle": "2023-05-03T22:31:13.627254Z",
     "shell.execute_reply": "2023-05-03T22:31:13.627254Z",
     "shell.execute_reply.started": "2023-05-03T22:31:09.687200Z"
    },
    "tags": []
   },
   "outputs": [],
   "source": [
    "receipt_df['item'] = [item_map_to_arti[item] for item in receipt_df['item']]"
   ]
  },
  {
   "cell_type": "code",
   "execution_count": 47,
   "id": "15a072c2-4f5e-43a2-b0a7-414f9e596dd9",
   "metadata": {
    "execution": {
     "iopub.execute_input": "2023-05-03T22:31:13.628255Z",
     "iopub.status.busy": "2023-05-03T22:31:13.628255Z",
     "iopub.status.idle": "2023-05-03T22:31:13.767837Z",
     "shell.execute_reply": "2023-05-03T22:31:13.767837Z",
     "shell.execute_reply.started": "2023-05-03T22:31:13.628255Z"
    },
    "tags": []
   },
   "outputs": [
    {
     "name": "stdout",
     "output_type": "stream",
     "text": [
      "Уникальных значений в столбце 'item':   36035\n",
      "Максимальное значение в столбце 'item': 36034\n",
      "Минимальное значение в столбце 'item':  0\n"
     ]
    }
   ],
   "source": [
    "print(f\"Уникальных значений в столбце 'item':   {receipt_df['item'].nunique()}\")\n",
    "print(f\"Максимальное значение в столбце 'item': {receipt_df['item'].max()}\")\n",
    "print(f\"Минимальное значение в столбце 'item':  {receipt_df['item'].min()}\")"
   ]
  },
  {
   "cell_type": "code",
   "execution_count": 48,
   "id": "1b329053-e215-4269-9415-8777462feb8b",
   "metadata": {
    "execution": {
     "iopub.execute_input": "2023-05-03T22:31:13.768838Z",
     "iopub.status.busy": "2023-05-03T22:31:13.768838Z",
     "iopub.status.idle": "2023-05-03T22:31:13.830215Z",
     "shell.execute_reply": "2023-05-03T22:31:13.830215Z",
     "shell.execute_reply.started": "2023-05-03T22:31:13.768838Z"
    },
    "tags": []
   },
   "outputs": [],
   "source": [
    "receipt_df['item'] = receipt_df['item'].astype('int32')"
   ]
  },
  {
   "cell_type": "markdown",
   "id": "9df185ea-ff40-4cc2-9cf7-2baf689cb7eb",
   "metadata": {
    "jp-MarkdownHeadingCollapsed": true,
    "tags": []
   },
   "source": [
    "### Анализ столбца 'shop'"
   ]
  },
  {
   "cell_type": "code",
   "execution_count": 49,
   "id": "99267b68-0b5e-443c-b3c2-98afa57835b1",
   "metadata": {
    "execution": {
     "iopub.execute_input": "2023-05-03T22:31:13.831724Z",
     "iopub.status.busy": "2023-05-03T22:31:13.831215Z",
     "iopub.status.idle": "2023-05-03T22:31:13.954287Z",
     "shell.execute_reply": "2023-05-03T22:31:13.954287Z",
     "shell.execute_reply.started": "2023-05-03T22:31:13.831724Z"
    },
    "tags": []
   },
   "outputs": [
    {
     "name": "stdout",
     "output_type": "stream",
     "text": [
      "Уникальных значений в столбце 'shop':   849\n",
      "Максимальное значение в столбце 'shop': 2168\n",
      "Минимальное значение в столбце 'shop':  1\n"
     ]
    }
   ],
   "source": [
    "print(f\"Уникальных значений в столбце 'shop':   {receipt_df['shop'].nunique()}\")\n",
    "print(f\"Максимальное значение в столбце 'shop': {receipt_df['shop'].max()}\")\n",
    "print(f\"Минимальное значение в столбце 'shop':  {receipt_df['shop'].min()}\")"
   ]
  },
  {
   "cell_type": "code",
   "execution_count": 50,
   "id": "bc623165-06e0-4c6a-8c21-4ee718dcde31",
   "metadata": {
    "execution": {
     "iopub.execute_input": "2023-05-03T22:31:13.955287Z",
     "iopub.status.busy": "2023-05-03T22:31:13.955287Z",
     "iopub.status.idle": "2023-05-03T22:31:14.157870Z",
     "shell.execute_reply": "2023-05-03T22:31:14.157870Z",
     "shell.execute_reply.started": "2023-05-03T22:31:13.955287Z"
    },
    "tags": []
   },
   "outputs": [],
   "source": [
    "shop_map_to_arti = {i[1]: i[0] for i in enumerate(receipt_df['shop'].unique())}\n",
    "shop_map_to_real = {i[0]: i[1] for i in enumerate(receipt_df['shop'].unique())}"
   ]
  },
  {
   "cell_type": "code",
   "execution_count": 51,
   "id": "122bf09a-c74d-42b2-b17a-ab5bcd351a64",
   "metadata": {
    "execution": {
     "iopub.execute_input": "2023-05-03T22:31:14.158872Z",
     "iopub.status.busy": "2023-05-03T22:31:14.158872Z",
     "iopub.status.idle": "2023-05-03T22:31:17.836910Z",
     "shell.execute_reply": "2023-05-03T22:31:17.836910Z",
     "shell.execute_reply.started": "2023-05-03T22:31:14.158872Z"
    },
    "tags": []
   },
   "outputs": [],
   "source": [
    "receipt_df['shop'] = [shop_map_to_arti[shop] for shop in receipt_df['shop']]"
   ]
  },
  {
   "cell_type": "code",
   "execution_count": 52,
   "id": "f9b8ccb1-5275-451c-b84b-7eed557be260",
   "metadata": {
    "execution": {
     "iopub.execute_input": "2023-05-03T22:31:17.837911Z",
     "iopub.status.busy": "2023-05-03T22:31:17.837911Z",
     "iopub.status.idle": "2023-05-03T22:31:17.962275Z",
     "shell.execute_reply": "2023-05-03T22:31:17.962275Z",
     "shell.execute_reply.started": "2023-05-03T22:31:17.837911Z"
    },
    "tags": []
   },
   "outputs": [
    {
     "name": "stdout",
     "output_type": "stream",
     "text": [
      "Уникальных значений в столбце 'shop':   849\n",
      "Максимальное значение в столбце 'shop': 848\n",
      "Минимальное значение в столбце 'shop':  0\n"
     ]
    }
   ],
   "source": [
    "print(f\"Уникальных значений в столбце 'shop':   {receipt_df['shop'].nunique()}\")\n",
    "print(f\"Максимальное значение в столбце 'shop': {receipt_df['shop'].max()}\")\n",
    "print(f\"Минимальное значение в столбце 'shop':  {receipt_df['shop'].min()}\")"
   ]
  },
  {
   "cell_type": "code",
   "execution_count": 53,
   "id": "9728aed1-8ca9-4838-88e3-89850341bd8c",
   "metadata": {
    "execution": {
     "iopub.execute_input": "2023-05-03T22:31:17.963276Z",
     "iopub.status.busy": "2023-05-03T22:31:17.963276Z",
     "iopub.status.idle": "2023-05-03T22:31:18.010919Z",
     "shell.execute_reply": "2023-05-03T22:31:18.009919Z",
     "shell.execute_reply.started": "2023-05-03T22:31:17.963276Z"
    },
    "tags": []
   },
   "outputs": [],
   "source": [
    "receipt_df['shop'] = receipt_df['shop'].astype('int16')"
   ]
  },
  {
   "cell_type": "markdown",
   "id": "f7276a0d-4ce3-45b6-806d-6df7aa6f6d65",
   "metadata": {
    "jp-MarkdownHeadingCollapsed": true,
    "tags": []
   },
   "source": [
    "### Анализ столбца 'user'"
   ]
  },
  {
   "cell_type": "code",
   "execution_count": 54,
   "id": "ea510c9d-247d-4e69-b286-b5b7c0d50a11",
   "metadata": {
    "execution": {
     "iopub.execute_input": "2023-05-03T22:31:18.012273Z",
     "iopub.status.busy": "2023-05-03T22:31:18.010919Z",
     "iopub.status.idle": "2023-05-03T22:31:18.618088Z",
     "shell.execute_reply": "2023-05-03T22:31:18.618088Z",
     "shell.execute_reply.started": "2023-05-03T22:31:18.012273Z"
    },
    "tags": []
   },
   "outputs": [
    {
     "name": "stdout",
     "output_type": "stream",
     "text": [
      "Уникальных значений в столбце 'user':   1640397\n",
      "Максимальное значение в столбце 'user': 2746262\n",
      "Минимальное значение в столбце 'user':  373\n"
     ]
    }
   ],
   "source": [
    "print(f\"Уникальных значений в столбце 'user':   {receipt_df['user'].nunique()}\")\n",
    "print(f\"Максимальное значение в столбце 'user': {receipt_df['user'].max()}\")\n",
    "print(f\"Минимальное значение в столбце 'user':  {receipt_df['user'].min()}\")"
   ]
  },
  {
   "cell_type": "code",
   "execution_count": 55,
   "id": "601dd9d2-fc71-473c-8ba1-85c472a75ba2",
   "metadata": {
    "execution": {
     "iopub.execute_input": "2023-05-03T22:31:18.619092Z",
     "iopub.status.busy": "2023-05-03T22:31:18.619092Z",
     "iopub.status.idle": "2023-05-03T22:31:20.144377Z",
     "shell.execute_reply": "2023-05-03T22:31:20.144377Z",
     "shell.execute_reply.started": "2023-05-03T22:31:18.619092Z"
    },
    "tags": []
   },
   "outputs": [],
   "source": [
    "user_map_to_arti = {i[1]: i[0] for i in enumerate(receipt_df['user'].unique())}\n",
    "user_map_to_real = {i[0]: i[1] for i in enumerate(receipt_df['user'].unique())}"
   ]
  },
  {
   "cell_type": "code",
   "execution_count": 56,
   "id": "a7c17251-d6a4-4ed6-a97c-1d7d0a2d66d5",
   "metadata": {
    "execution": {
     "iopub.execute_input": "2023-05-03T22:31:20.145377Z",
     "iopub.status.busy": "2023-05-03T22:31:20.145377Z",
     "iopub.status.idle": "2023-05-03T22:31:27.859859Z",
     "shell.execute_reply": "2023-05-03T22:31:27.859859Z",
     "shell.execute_reply.started": "2023-05-03T22:31:20.145377Z"
    },
    "tags": []
   },
   "outputs": [],
   "source": [
    "receipt_df['user'] = [user_map_to_arti[user] for user in receipt_df['user']]"
   ]
  },
  {
   "cell_type": "code",
   "execution_count": 57,
   "id": "9a32535b-0ef3-406e-a3ec-00f2bc28506c",
   "metadata": {
    "execution": {
     "iopub.execute_input": "2023-05-03T22:31:27.861365Z",
     "iopub.status.busy": "2023-05-03T22:31:27.861365Z",
     "iopub.status.idle": "2023-05-03T22:31:28.297714Z",
     "shell.execute_reply": "2023-05-03T22:31:28.297714Z",
     "shell.execute_reply.started": "2023-05-03T22:31:27.861365Z"
    },
    "tags": []
   },
   "outputs": [
    {
     "name": "stdout",
     "output_type": "stream",
     "text": [
      "Уникальных значений в столбце 'user':   1640397\n",
      "Максимальное значение в столбце 'user': 1640396\n",
      "Минимальное значение в столбце 'user':  0\n"
     ]
    }
   ],
   "source": [
    "print(f\"Уникальных значений в столбце 'user':   {receipt_df['user'].nunique()}\")\n",
    "print(f\"Максимальное значение в столбце 'user': {receipt_df['user'].max()}\")\n",
    "print(f\"Минимальное значение в столбце 'user':  {receipt_df['user'].min()}\")"
   ]
  },
  {
   "cell_type": "code",
   "execution_count": 58,
   "id": "add78c5b-cac1-4359-859f-211a4a9c5bdb",
   "metadata": {
    "execution": {
     "iopub.execute_input": "2023-05-03T22:31:28.299713Z",
     "iopub.status.busy": "2023-05-03T22:31:28.298713Z",
     "iopub.status.idle": "2023-05-03T22:31:28.359344Z",
     "shell.execute_reply": "2023-05-03T22:31:28.359344Z",
     "shell.execute_reply.started": "2023-05-03T22:31:28.299713Z"
    },
    "tags": []
   },
   "outputs": [],
   "source": [
    "receipt_df['user'] = receipt_df['user'].astype('int32')"
   ]
  },
  {
   "cell_type": "markdown",
   "id": "1f258f22-34cf-4149-bc79-493a6a5f201f",
   "metadata": {
    "jp-MarkdownHeadingCollapsed": true,
    "tags": []
   },
   "source": [
    "### Анализ столбца 'sales_date'"
   ]
  },
  {
   "cell_type": "code",
   "execution_count": 59,
   "id": "9d69195a-7490-4575-99d6-145ec1e69c05",
   "metadata": {
    "execution": {
     "iopub.execute_input": "2023-05-03T22:31:28.360852Z",
     "iopub.status.busy": "2023-05-03T22:31:28.360852Z",
     "iopub.status.idle": "2023-05-03T22:31:28.533886Z",
     "shell.execute_reply": "2023-05-03T22:31:28.532925Z",
     "shell.execute_reply.started": "2023-05-03T22:31:28.360852Z"
    },
    "tags": []
   },
   "outputs": [
    {
     "name": "stdout",
     "output_type": "stream",
     "text": [
      "Уникальных значений в столбце 'sale_date':   214\n",
      "Максимальное значение в столбце 'sale_date': 2018-12-09 00:00:00\n",
      "Минимальное значение в столбце 'sale_date':  2018-01-01 00:00:00\n"
     ]
    }
   ],
   "source": [
    "print(f\"Уникальных значений в столбце 'sale_date':   {receipt_df['sale_date'].nunique()}\")\n",
    "print(f\"Максимальное значение в столбце 'sale_date': {receipt_df['sale_date'].max()}\")\n",
    "print(f\"Минимальное значение в столбце 'sale_date':  {receipt_df['sale_date'].min()}\")"
   ]
  },
  {
   "cell_type": "markdown",
   "id": "463e98fb-7341-411a-8689-9371de844539",
   "metadata": {},
   "source": [
    "Для анализа по временным характеристикам разделим столбец 'sales_date' на составляющие:"
   ]
  },
  {
   "cell_type": "code",
   "execution_count": 60,
   "id": "40b502ac-2d22-4035-8de4-36aa0611db09",
   "metadata": {
    "execution": {
     "iopub.execute_input": "2023-05-03T22:31:28.534886Z",
     "iopub.status.busy": "2023-05-03T22:31:28.533886Z",
     "iopub.status.idle": "2023-05-03T22:31:30.475350Z",
     "shell.execute_reply": "2023-05-03T22:31:30.475350Z",
     "shell.execute_reply.started": "2023-05-03T22:31:28.534886Z"
    },
    "tags": []
   },
   "outputs": [],
   "source": [
    "receipt_df['year'] = receipt_df.sale_date.dt.year.astype('int16')\n",
    "receipt_df['month'] = receipt_df.sale_date.dt.month.astype('int8')\n",
    "receipt_df['day_of_year'] = receipt_df.sale_date.dt.day_of_year.astype('int16')\n",
    "receipt_df['day_of_week'] = receipt_df.sale_date.dt.day_of_week.astype('int8')"
   ]
  },
  {
   "cell_type": "code",
   "execution_count": 61,
   "id": "ecb39f75-407c-43ea-b7ef-ccf795f8c94e",
   "metadata": {
    "execution": {
     "iopub.execute_input": "2023-05-03T22:31:30.476350Z",
     "iopub.status.busy": "2023-05-03T22:31:30.476350Z",
     "iopub.status.idle": "2023-05-03T22:31:31.473861Z",
     "shell.execute_reply": "2023-05-03T22:31:31.473861Z",
     "shell.execute_reply.started": "2023-05-03T22:31:30.476350Z"
    },
    "tags": []
   },
   "outputs": [],
   "source": [
    "receipt_df['day_of_month'] = receipt_df.sale_date.dt.day.astype('int8')\n",
    "receipt_df.drop(columns=['sale_date'], inplace=True)"
   ]
  },
  {
   "cell_type": "markdown",
   "id": "d07ae07a-6d93-434a-a0cf-6530905b2ac8",
   "metadata": {},
   "source": [
    "Посмотрим на распределение временных характеристик:"
   ]
  },
  {
   "cell_type": "code",
   "execution_count": 62,
   "id": "c7904ba1-4901-433b-8689-316c5ea5904f",
   "metadata": {
    "execution": {
     "iopub.execute_input": "2023-05-03T22:31:31.474862Z",
     "iopub.status.busy": "2023-05-03T22:31:31.474862Z",
     "iopub.status.idle": "2023-05-03T22:31:31.566822Z",
     "shell.execute_reply": "2023-05-03T22:31:31.566822Z",
     "shell.execute_reply.started": "2023-05-03T22:31:31.474862Z"
    },
    "tags": []
   },
   "outputs": [
    {
     "data": {
      "text/plain": [
       "2018    19106224\n",
       "Name: year, dtype: int64"
      ]
     },
     "execution_count": 62,
     "metadata": {},
     "output_type": "execute_result"
    }
   ],
   "source": [
    "receipt_df['year'].value_counts()"
   ]
  },
  {
   "cell_type": "code",
   "execution_count": 63,
   "id": "7c8c8e25-5cfa-4392-bab1-b0b9680b87db",
   "metadata": {
    "execution": {
     "iopub.execute_input": "2023-05-03T22:31:31.567825Z",
     "iopub.status.busy": "2023-05-03T22:31:31.567825Z",
     "iopub.status.idle": "2023-05-03T22:31:31.911921Z",
     "shell.execute_reply": "2023-05-03T22:31:31.911921Z",
     "shell.execute_reply.started": "2023-05-03T22:31:31.567825Z"
    },
    "tags": []
   },
   "outputs": [
    {
     "data": {
      "text/plain": [
       "<Axes: >"
      ]
     },
     "execution_count": 63,
     "metadata": {},
     "output_type": "execute_result"
    },
    {
     "data": {
      "image/png": "[encoded data removed]",
      "text/plain": [
       "<Figure size 640x480 with 1 Axes>"
      ]
     },
     "metadata": {},
     "output_type": "display_data"
    }
   ],
   "source": [
    "receipt_df['month'].hist(bins=24)"
   ]
  },
  {
   "cell_type": "code",
   "execution_count": 64,
   "id": "a5f5736e-14da-48d3-9265-a36016cce552",
   "metadata": {
    "execution": {
     "iopub.execute_input": "2023-05-03T22:31:31.912922Z",
     "iopub.status.busy": "2023-05-03T22:31:31.912922Z",
     "iopub.status.idle": "2023-05-03T22:31:32.445364Z",
     "shell.execute_reply": "2023-05-03T22:31:32.445364Z",
     "shell.execute_reply.started": "2023-05-03T22:31:31.912922Z"
    },
    "tags": []
   },
   "outputs": [
    {
     "data": {
      "text/plain": [
       "<Axes: >"
      ]
     },
     "execution_count": 64,
     "metadata": {},
     "output_type": "execute_result"
    },
    {
     "data": {
      "image/png": "[encoded data removed]",
      "text/plain": [
       "<Figure size 640x480 with 1 Axes>"
      ]
     },
     "metadata": {},
     "output_type": "display_data"
    }
   ],
   "source": [
    "receipt_df['day_of_year'].hist(bins=365)"
   ]
  },
  {
   "cell_type": "code",
   "execution_count": 65,
   "id": "2262b88c-62c4-4dfb-8b0d-af4d0ebb9db0",
   "metadata": {
    "execution": {
     "iopub.execute_input": "2023-05-03T22:31:32.446365Z",
     "iopub.status.busy": "2023-05-03T22:31:32.446365Z",
     "iopub.status.idle": "2023-05-03T22:31:32.771624Z",
     "shell.execute_reply": "2023-05-03T22:31:32.771624Z",
     "shell.execute_reply.started": "2023-05-03T22:31:32.446365Z"
    },
    "tags": []
   },
   "outputs": [
    {
     "data": {
      "text/plain": [
       "<Axes: >"
      ]
     },
     "execution_count": 65,
     "metadata": {},
     "output_type": "execute_result"
    },
    {
     "data": {
      "image/png": "[encoded data removed]",
      "text/plain": [
       "<Figure size 640x480 with 1 Axes>"
      ]
     },
     "metadata": {},
     "output_type": "display_data"
    }
   ],
   "source": [
    "receipt_df['day_of_month'].hist(bins=60)"
   ]
  },
  {
   "cell_type": "code",
   "execution_count": 66,
   "id": "6c7ba690-0907-4123-93d7-254bb1ab9267",
   "metadata": {
    "execution": {
     "iopub.execute_input": "2023-05-03T22:31:32.772631Z",
     "iopub.status.busy": "2023-05-03T22:31:32.772631Z",
     "iopub.status.idle": "2023-05-03T22:31:33.039664Z",
     "shell.execute_reply": "2023-05-03T22:31:33.039664Z",
     "shell.execute_reply.started": "2023-05-03T22:31:32.772631Z"
    },
    "tags": []
   },
   "outputs": [
    {
     "data": {
      "text/plain": [
       "<Axes: >"
      ]
     },
     "execution_count": 66,
     "metadata": {},
     "output_type": "execute_result"
    },
    {
     "data": {
      "image/png": "[encoded data removed]",
      "text/plain": [
       "<Figure size 640x480 with 1 Axes>"
      ]
     },
     "metadata": {},
     "output_type": "display_data"
    }
   ],
   "source": [
    "receipt_df['day_of_week'].hist(bins=14)"
   ]
  },
  {
   "cell_type": "markdown",
   "id": "03e77ec9-0589-408e-ae28-27c5166f42eb",
   "metadata": {},
   "source": [
    "Можно сделать следующие выводы:\n",
    "1. данные представлены только за 2018 год;\n",
    "2. отсутствуют данные с июля по октябрь;\n",
    "3. наблюдается положительный тренд роста числа продаж в течение года;\n",
    "4. в течение месяца продажи распределены равномерно;\n",
    "5. в течение недели продажи также распределены равномерно с небольшим спадом в воскресенье."
   ]
  },
  {
   "cell_type": "markdown",
   "id": "54571f77-66cc-47c3-85e1-05061c50a1d0",
   "metadata": {
    "jp-MarkdownHeadingCollapsed": true,
    "tags": []
   },
   "source": [
    "## Итоги EDA"
   ]
  },
  {
   "cell_type": "code",
   "execution_count": 67,
   "id": "3aad1307-fb59-49cf-9d56-1a520f5ee163",
   "metadata": {
    "execution": {
     "iopub.execute_input": "2023-05-03T22:31:33.041172Z",
     "iopub.status.busy": "2023-05-03T22:31:33.039664Z",
     "iopub.status.idle": "2023-05-03T22:31:33.055694Z",
     "shell.execute_reply": "2023-05-03T22:31:33.055694Z",
     "shell.execute_reply.started": "2023-05-03T22:31:33.041172Z"
    },
    "tags": []
   },
   "outputs": [
    {
     "name": "stdout",
     "output_type": "stream",
     "text": [
      "<class 'pandas.core.frame.DataFrame'>\n",
      "Int64Index: 19106224 entries, 1 to 19999999\n",
      "Data columns (total 13 columns):\n",
      " #   Column        Dtype \n",
      "---  ------        ----- \n",
      " 0   user          int32 \n",
      " 1   shop          int16 \n",
      " 2   item          int32 \n",
      " 3   name          object\n",
      " 4   item_sub_cat  int16 \n",
      " 5   item_cat      int8  \n",
      " 6   brand         int64 \n",
      " 7   quantity      int32 \n",
      " 8   year          int16 \n",
      " 9   month         int8  \n",
      " 10  day_of_year   int16 \n",
      " 11  day_of_week   int8  \n",
      " 12  day_of_month  int8  \n",
      "dtypes: int16(4), int32(3), int64(1), int8(4), object(1)\n",
      "memory usage: 874.6+ MB\n"
     ]
    }
   ],
   "source": [
    "receipt_df.info()"
   ]
  },
  {
   "cell_type": "code",
   "execution_count": 68,
   "id": "ec4f0a81-4d23-4cc6-a5ea-dc2ed36b1805",
   "metadata": {
    "execution": {
     "iopub.execute_input": "2023-05-03T22:31:33.056693Z",
     "iopub.status.busy": "2023-05-03T22:31:33.056693Z",
     "iopub.status.idle": "2023-05-03T22:31:36.276530Z",
     "shell.execute_reply": "2023-05-03T22:31:36.276530Z",
     "shell.execute_reply.started": "2023-05-03T22:31:33.056693Z"
    },
    "tags": []
   },
   "outputs": [
    {
     "data": {
      "text/html": [
       "<div>\n",
       "<style scoped>\n",
       "    .dataframe tbody tr th:only-of-type {\n",
       "        vertical-align: middle;\n",
       "    }\n",
       "\n",
       "    .dataframe tbody tr th {\n",
       "        vertical-align: top;\n",
       "    }\n",
       "\n",
       "    .dataframe thead th {\n",
       "        text-align: right;\n",
       "    }\n",
       "</style>\n",
       "<table border=\"1\" class=\"dataframe\">\n",
       "  <thead>\n",
       "    <tr style=\"text-align: right;\">\n",
       "      <th></th>\n",
       "      <th>user</th>\n",
       "      <th>shop</th>\n",
       "      <th>item</th>\n",
       "      <th>item_sub_cat</th>\n",
       "      <th>item_cat</th>\n",
       "      <th>brand</th>\n",
       "      <th>quantity</th>\n",
       "      <th>year</th>\n",
       "      <th>month</th>\n",
       "      <th>day_of_year</th>\n",
       "      <th>day_of_week</th>\n",
       "      <th>day_of_month</th>\n",
       "    </tr>\n",
       "  </thead>\n",
       "  <tbody>\n",
       "    <tr>\n",
       "      <th>count</th>\n",
       "      <td>1.910622e+07</td>\n",
       "      <td>1.910622e+07</td>\n",
       "      <td>1.910622e+07</td>\n",
       "      <td>1.910622e+07</td>\n",
       "      <td>1.910622e+07</td>\n",
       "      <td>1.910622e+07</td>\n",
       "      <td>1.910622e+07</td>\n",
       "      <td>19106224.0</td>\n",
       "      <td>1.910622e+07</td>\n",
       "      <td>1.910622e+07</td>\n",
       "      <td>1.910622e+07</td>\n",
       "      <td>1.910622e+07</td>\n",
       "    </tr>\n",
       "    <tr>\n",
       "      <th>mean</th>\n",
       "      <td>6.343121e+05</td>\n",
       "      <td>2.090514e+02</td>\n",
       "      <td>3.578823e+03</td>\n",
       "      <td>5.319968e+01</td>\n",
       "      <td>1.590574e+01</td>\n",
       "      <td>4.156853e+02</td>\n",
       "      <td>1.301489e+00</td>\n",
       "      <td>2018.0</td>\n",
       "      <td>5.614627e+00</td>\n",
       "      <td>1.551911e+02</td>\n",
       "      <td>2.859853e+00</td>\n",
       "      <td>1.572141e+01</td>\n",
       "    </tr>\n",
       "    <tr>\n",
       "      <th>std</th>\n",
       "      <td>4.436883e+05</td>\n",
       "      <td>1.505922e+02</td>\n",
       "      <td>4.744117e+03</td>\n",
       "      <td>5.312149e+01</td>\n",
       "      <td>1.417480e+01</td>\n",
       "      <td>1.003859e+03</td>\n",
       "      <td>1.054556e+00</td>\n",
       "      <td>0.0</td>\n",
       "      <td>3.417428e+00</td>\n",
       "      <td>1.038032e+02</td>\n",
       "      <td>1.919760e+00</td>\n",
       "      <td>8.700816e+00</td>\n",
       "    </tr>\n",
       "    <tr>\n",
       "      <th>min</th>\n",
       "      <td>0.000000e+00</td>\n",
       "      <td>0.000000e+00</td>\n",
       "      <td>0.000000e+00</td>\n",
       "      <td>0.000000e+00</td>\n",
       "      <td>0.000000e+00</td>\n",
       "      <td>-1.000000e+00</td>\n",
       "      <td>1.000000e+00</td>\n",
       "      <td>2018.0</td>\n",
       "      <td>1.000000e+00</td>\n",
       "      <td>1.000000e+00</td>\n",
       "      <td>0.000000e+00</td>\n",
       "      <td>1.000000e+00</td>\n",
       "    </tr>\n",
       "    <tr>\n",
       "      <th>25%</th>\n",
       "      <td>2.453370e+05</td>\n",
       "      <td>7.000000e+01</td>\n",
       "      <td>6.610000e+02</td>\n",
       "      <td>9.000000e+00</td>\n",
       "      <td>7.000000e+00</td>\n",
       "      <td>-1.000000e+00</td>\n",
       "      <td>1.000000e+00</td>\n",
       "      <td>2018.0</td>\n",
       "      <td>3.000000e+00</td>\n",
       "      <td>8.500000e+01</td>\n",
       "      <td>1.000000e+00</td>\n",
       "      <td>8.000000e+00</td>\n",
       "    </tr>\n",
       "    <tr>\n",
       "      <th>50%</th>\n",
       "      <td>5.628880e+05</td>\n",
       "      <td>2.180000e+02</td>\n",
       "      <td>1.908000e+03</td>\n",
       "      <td>3.400000e+01</td>\n",
       "      <td>1.200000e+01</td>\n",
       "      <td>-1.000000e+00</td>\n",
       "      <td>1.000000e+00</td>\n",
       "      <td>2018.0</td>\n",
       "      <td>5.000000e+00</td>\n",
       "      <td>1.270000e+02</td>\n",
       "      <td>3.000000e+00</td>\n",
       "      <td>1.600000e+01</td>\n",
       "    </tr>\n",
       "    <tr>\n",
       "      <th>75%</th>\n",
       "      <td>9.686660e+05</td>\n",
       "      <td>2.730000e+02</td>\n",
       "      <td>4.831000e+03</td>\n",
       "      <td>7.600000e+01</td>\n",
       "      <td>2.000000e+01</td>\n",
       "      <td>-1.000000e+00</td>\n",
       "      <td>1.000000e+00</td>\n",
       "      <td>2018.0</td>\n",
       "      <td>6.000000e+00</td>\n",
       "      <td>1.790000e+02</td>\n",
       "      <td>4.000000e+00</td>\n",
       "      <td>2.300000e+01</td>\n",
       "    </tr>\n",
       "    <tr>\n",
       "      <th>max</th>\n",
       "      <td>1.640396e+06</td>\n",
       "      <td>8.480000e+02</td>\n",
       "      <td>3.603400e+04</td>\n",
       "      <td>4.390000e+02</td>\n",
       "      <td>1.110000e+02</td>\n",
       "      <td>5.475000e+03</td>\n",
       "      <td>1.000000e+01</td>\n",
       "      <td>2018.0</td>\n",
       "      <td>1.200000e+01</td>\n",
       "      <td>3.430000e+02</td>\n",
       "      <td>6.000000e+00</td>\n",
       "      <td>3.100000e+01</td>\n",
       "    </tr>\n",
       "  </tbody>\n",
       "</table>\n",
       "</div>"
      ],
      "text/plain": [
       "               user          shop          item  item_sub_cat      item_cat  \\\n",
       "count  1.910622e+07  1.910622e+07  1.910622e+07  1.910622e+07  1.910622e+07   \n",
       "mean   6.343121e+05  2.090514e+02  3.578823e+03  5.319968e+01  1.590574e+01   \n",
       "std    4.436883e+05  1.505922e+02  4.744117e+03  5.312149e+01  1.417480e+01   \n",
       "min    0.000000e+00  0.000000e+00  0.000000e+00  0.000000e+00  0.000000e+00   \n",
       "25%    2.453370e+05  7.000000e+01  6.610000e+02  9.000000e+00  7.000000e+00   \n",
       "50%    5.628880e+05  2.180000e+02  1.908000e+03  3.400000e+01  1.200000e+01   \n",
       "75%    9.686660e+05  2.730000e+02  4.831000e+03  7.600000e+01  2.000000e+01   \n",
       "max    1.640396e+06  8.480000e+02  3.603400e+04  4.390000e+02  1.110000e+02   \n",
       "\n",
       "              brand      quantity        year         month   day_of_year  \\\n",
       "count  1.910622e+07  1.910622e+07  19106224.0  1.910622e+07  1.910622e+07   \n",
       "mean   4.156853e+02  1.301489e+00      2018.0  5.614627e+00  1.551911e+02   \n",
       "std    1.003859e+03  1.054556e+00         0.0  3.417428e+00  1.038032e+02   \n",
       "min   -1.000000e+00  1.000000e+00      2018.0  1.000000e+00  1.000000e+00   \n",
       "25%   -1.000000e+00  1.000000e+00      2018.0  3.000000e+00  8.500000e+01   \n",
       "50%   -1.000000e+00  1.000000e+00      2018.0  5.000000e+00  1.270000e+02   \n",
       "75%   -1.000000e+00  1.000000e+00      2018.0  6.000000e+00  1.790000e+02   \n",
       "max    5.475000e+03  1.000000e+01      2018.0  1.200000e+01  3.430000e+02   \n",
       "\n",
       "        day_of_week  day_of_month  \n",
       "count  1.910622e+07  1.910622e+07  \n",
       "mean   2.859853e+00  1.572141e+01  \n",
       "std    1.919760e+00  8.700816e+00  \n",
       "min    0.000000e+00  1.000000e+00  \n",
       "25%    1.000000e+00  8.000000e+00  \n",
       "50%    3.000000e+00  1.600000e+01  \n",
       "75%    4.000000e+00  2.300000e+01  \n",
       "max    6.000000e+00  3.100000e+01  "
      ]
     },
     "execution_count": 68,
     "metadata": {},
     "output_type": "execute_result"
    }
   ],
   "source": [
    "receipt_df.describe()"
   ]
  },
  {
   "cell_type": "code",
   "execution_count": 69,
   "id": "df1a9847-d16a-4543-b2d8-8747589b00e6",
   "metadata": {
    "execution": {
     "iopub.execute_input": "2023-05-03T22:31:36.277530Z",
     "iopub.status.busy": "2023-05-03T22:31:36.277530Z",
     "iopub.status.idle": "2023-05-03T22:31:36.292547Z",
     "shell.execute_reply": "2023-05-03T22:31:36.291541Z",
     "shell.execute_reply.started": "2023-05-03T22:31:36.277530Z"
    },
    "tags": []
   },
   "outputs": [
    {
     "data": {
      "text/html": [
       "<div>\n",
       "<style scoped>\n",
       "    .dataframe tbody tr th:only-of-type {\n",
       "        vertical-align: middle;\n",
       "    }\n",
       "\n",
       "    .dataframe tbody tr th {\n",
       "        vertical-align: top;\n",
       "    }\n",
       "\n",
       "    .dataframe thead th {\n",
       "        text-align: right;\n",
       "    }\n",
       "</style>\n",
       "<table border=\"1\" class=\"dataframe\">\n",
       "  <thead>\n",
       "    <tr style=\"text-align: right;\">\n",
       "      <th></th>\n",
       "      <th>user</th>\n",
       "      <th>shop</th>\n",
       "      <th>item</th>\n",
       "      <th>name</th>\n",
       "      <th>item_sub_cat</th>\n",
       "      <th>item_cat</th>\n",
       "      <th>brand</th>\n",
       "      <th>quantity</th>\n",
       "      <th>year</th>\n",
       "      <th>month</th>\n",
       "      <th>day_of_year</th>\n",
       "      <th>day_of_week</th>\n",
       "      <th>day_of_month</th>\n",
       "    </tr>\n",
       "  </thead>\n",
       "  <tbody>\n",
       "    <tr>\n",
       "      <th>1</th>\n",
       "      <td>0</td>\n",
       "      <td>0</td>\n",
       "      <td>0</td>\n",
       "      <td>(62448) Перекись водорода р-р наружн. 3% фл.по...</td>\n",
       "      <td>1</td>\n",
       "      <td>1</td>\n",
       "      <td>-1</td>\n",
       "      <td>1</td>\n",
       "      <td>2018</td>\n",
       "      <td>12</td>\n",
       "      <td>341</td>\n",
       "      <td>4</td>\n",
       "      <td>7</td>\n",
       "    </tr>\n",
       "    <tr>\n",
       "      <th>2</th>\n",
       "      <td>1</td>\n",
       "      <td>1</td>\n",
       "      <td>1</td>\n",
       "      <td>(72183) Салициловая кислота р-р спирт 2% фл 40...</td>\n",
       "      <td>1</td>\n",
       "      <td>1</td>\n",
       "      <td>-1</td>\n",
       "      <td>1</td>\n",
       "      <td>2018</td>\n",
       "      <td>12</td>\n",
       "      <td>341</td>\n",
       "      <td>4</td>\n",
       "      <td>7</td>\n",
       "    </tr>\n",
       "    <tr>\n",
       "      <th>3</th>\n",
       "      <td>2</td>\n",
       "      <td>2</td>\n",
       "      <td>2</td>\n",
       "      <td>(197309) Пакет 28см х 50см</td>\n",
       "      <td>0</td>\n",
       "      <td>0</td>\n",
       "      <td>-1</td>\n",
       "      <td>1</td>\n",
       "      <td>2018</td>\n",
       "      <td>12</td>\n",
       "      <td>341</td>\n",
       "      <td>4</td>\n",
       "      <td>7</td>\n",
       "    </tr>\n",
       "  </tbody>\n",
       "</table>\n",
       "</div>"
      ],
      "text/plain": [
       "   user  shop  item                                               name  \\\n",
       "1     0     0     0  (62448) Перекись водорода р-р наружн. 3% фл.по...   \n",
       "2     1     1     1  (72183) Салициловая кислота р-р спирт 2% фл 40...   \n",
       "3     2     2     2                         (197309) Пакет 28см х 50см   \n",
       "\n",
       "   item_sub_cat  item_cat  brand  quantity  year  month  day_of_year  \\\n",
       "1             1         1     -1         1  2018     12          341   \n",
       "2             1         1     -1         1  2018     12          341   \n",
       "3             0         0     -1         1  2018     12          341   \n",
       "\n",
       "   day_of_week  day_of_month  \n",
       "1            4             7  \n",
       "2            4             7  \n",
       "3            4             7  "
      ]
     },
     "execution_count": 69,
     "metadata": {},
     "output_type": "execute_result"
    }
   ],
   "source": [
    "receipt_df.head(3)"
   ]
  },
  {
   "cell_type": "markdown",
   "id": "86581ede-2235-40e3-a066-fbdd657443e6",
   "metadata": {
    "jp-MarkdownHeadingCollapsed": true,
    "tags": []
   },
   "source": [
    "# Формирование тренировочной и тестовой выборок. Метрики качества"
   ]
  },
  {
   "cell_type": "code",
   "execution_count": 70,
   "id": "22b047ae-daa5-4486-aed7-a10632a2ab62",
   "metadata": {
    "execution": {
     "iopub.execute_input": "2023-05-03T22:31:36.293547Z",
     "iopub.status.busy": "2023-05-03T22:31:36.292547Z",
     "iopub.status.idle": "2023-05-03T22:31:36.729346Z",
     "shell.execute_reply": "2023-05-03T22:31:36.729346Z",
     "shell.execute_reply.started": "2023-05-03T22:31:36.293547Z"
    },
    "tags": []
   },
   "outputs": [],
   "source": [
    "copy_receipt_df = receipt_df.copy()"
   ]
  },
  {
   "cell_type": "code",
   "execution_count": 71,
   "id": "5b56f926-14b9-4dfe-8a61-e70de1979087",
   "metadata": {
    "execution": {
     "iopub.execute_input": "2023-05-03T22:31:36.730858Z",
     "iopub.status.busy": "2023-05-03T22:31:36.730351Z",
     "iopub.status.idle": "2023-05-03T22:31:41.623039Z",
     "shell.execute_reply": "2023-05-03T22:31:41.623039Z",
     "shell.execute_reply.started": "2023-05-03T22:31:36.730858Z"
    },
    "tags": []
   },
   "outputs": [
    {
     "data": {
      "text/html": [
       "<div>\n",
       "<style scoped>\n",
       "    .dataframe tbody tr th:only-of-type {\n",
       "        vertical-align: middle;\n",
       "    }\n",
       "\n",
       "    .dataframe tbody tr th {\n",
       "        vertical-align: top;\n",
       "    }\n",
       "\n",
       "    .dataframe thead th {\n",
       "        text-align: right;\n",
       "    }\n",
       "</style>\n",
       "<table border=\"1\" class=\"dataframe\">\n",
       "  <thead>\n",
       "    <tr style=\"text-align: right;\">\n",
       "      <th></th>\n",
       "      <th>user</th>\n",
       "      <th>shop</th>\n",
       "      <th>item</th>\n",
       "      <th>name</th>\n",
       "      <th>item_sub_cat</th>\n",
       "      <th>item_cat</th>\n",
       "      <th>brand</th>\n",
       "      <th>quantity</th>\n",
       "      <th>year</th>\n",
       "      <th>month</th>\n",
       "      <th>day_of_year</th>\n",
       "      <th>day_of_week</th>\n",
       "      <th>day_of_month</th>\n",
       "    </tr>\n",
       "  </thead>\n",
       "  <tbody>\n",
       "    <tr>\n",
       "      <th>0</th>\n",
       "      <td>95</td>\n",
       "      <td>73</td>\n",
       "      <td>2395</td>\n",
       "      <td>(180814) Аквалор софт спрей наз. 150мл</td>\n",
       "      <td>167</td>\n",
       "      <td>12</td>\n",
       "      <td>2531</td>\n",
       "      <td>1</td>\n",
       "      <td>2018</td>\n",
       "      <td>1</td>\n",
       "      <td>1</td>\n",
       "      <td>0</td>\n",
       "      <td>1</td>\n",
       "    </tr>\n",
       "    <tr>\n",
       "      <th>1</th>\n",
       "      <td>95</td>\n",
       "      <td>73</td>\n",
       "      <td>564</td>\n",
       "      <td>(24484) Тизин Классик/Ксило спрей наз. 0,05% ф...</td>\n",
       "      <td>23</td>\n",
       "      <td>12</td>\n",
       "      <td>-1</td>\n",
       "      <td>1</td>\n",
       "      <td>2018</td>\n",
       "      <td>1</td>\n",
       "      <td>1</td>\n",
       "      <td>0</td>\n",
       "      <td>1</td>\n",
       "    </tr>\n",
       "    <tr>\n",
       "      <th>2</th>\n",
       "      <td>95</td>\n",
       "      <td>73</td>\n",
       "      <td>2752</td>\n",
       "      <td>(42763) Солкосерил гель глазной 20% 5 гр.</td>\n",
       "      <td>7</td>\n",
       "      <td>6</td>\n",
       "      <td>-1</td>\n",
       "      <td>1</td>\n",
       "      <td>2018</td>\n",
       "      <td>1</td>\n",
       "      <td>1</td>\n",
       "      <td>0</td>\n",
       "      <td>1</td>\n",
       "    </tr>\n",
       "    <tr>\n",
       "      <th>3</th>\n",
       "      <td>95</td>\n",
       "      <td>73</td>\n",
       "      <td>24778</td>\n",
       "      <td>(44543) Витабакт капли глазн 0.05% фл 10мл N1</td>\n",
       "      <td>7</td>\n",
       "      <td>6</td>\n",
       "      <td>-1</td>\n",
       "      <td>1</td>\n",
       "      <td>2018</td>\n",
       "      <td>1</td>\n",
       "      <td>1</td>\n",
       "      <td>0</td>\n",
       "      <td>1</td>\n",
       "    </tr>\n",
       "    <tr>\n",
       "      <th>4</th>\n",
       "      <td>297</td>\n",
       "      <td>156</td>\n",
       "      <td>574</td>\n",
       "      <td>(65704) Эрмиталь капс.10000 ЕД №20</td>\n",
       "      <td>59</td>\n",
       "      <td>3</td>\n",
       "      <td>-1</td>\n",
       "      <td>1</td>\n",
       "      <td>2018</td>\n",
       "      <td>1</td>\n",
       "      <td>1</td>\n",
       "      <td>0</td>\n",
       "      <td>1</td>\n",
       "    </tr>\n",
       "    <tr>\n",
       "      <th>...</th>\n",
       "      <td>...</td>\n",
       "      <td>...</td>\n",
       "      <td>...</td>\n",
       "      <td>...</td>\n",
       "      <td>...</td>\n",
       "      <td>...</td>\n",
       "      <td>...</td>\n",
       "      <td>...</td>\n",
       "      <td>...</td>\n",
       "      <td>...</td>\n",
       "      <td>...</td>\n",
       "      <td>...</td>\n",
       "      <td>...</td>\n",
       "    </tr>\n",
       "    <tr>\n",
       "      <th>19106219</th>\n",
       "      <td>77586</td>\n",
       "      <td>22</td>\n",
       "      <td>3788</td>\n",
       "      <td>(120922) Сульфасалазин табл. п.п.о. 500 мг. №50</td>\n",
       "      <td>112</td>\n",
       "      <td>3</td>\n",
       "      <td>-1</td>\n",
       "      <td>1</td>\n",
       "      <td>2018</td>\n",
       "      <td>12</td>\n",
       "      <td>343</td>\n",
       "      <td>6</td>\n",
       "      <td>9</td>\n",
       "    </tr>\n",
       "    <tr>\n",
       "      <th>19106220</th>\n",
       "      <td>77586</td>\n",
       "      <td>22</td>\n",
       "      <td>3788</td>\n",
       "      <td>(120922) Сульфасалазин табл. п.п.о. 500 мг. №50</td>\n",
       "      <td>112</td>\n",
       "      <td>3</td>\n",
       "      <td>-1</td>\n",
       "      <td>2</td>\n",
       "      <td>2018</td>\n",
       "      <td>12</td>\n",
       "      <td>343</td>\n",
       "      <td>6</td>\n",
       "      <td>9</td>\n",
       "    </tr>\n",
       "    <tr>\n",
       "      <th>19106221</th>\n",
       "      <td>77586</td>\n",
       "      <td>22</td>\n",
       "      <td>2686</td>\n",
       "      <td>(112839) Сульфасалазин-ЕН табл. п.о. раствор./...</td>\n",
       "      <td>3</td>\n",
       "      <td>3</td>\n",
       "      <td>-1</td>\n",
       "      <td>4</td>\n",
       "      <td>2018</td>\n",
       "      <td>12</td>\n",
       "      <td>343</td>\n",
       "      <td>6</td>\n",
       "      <td>9</td>\n",
       "    </tr>\n",
       "    <tr>\n",
       "      <th>19106222</th>\n",
       "      <td>77586</td>\n",
       "      <td>22</td>\n",
       "      <td>2686</td>\n",
       "      <td>(112839) Сульфасалазин-ЕН табл. п.о. раствор./...</td>\n",
       "      <td>3</td>\n",
       "      <td>3</td>\n",
       "      <td>-1</td>\n",
       "      <td>8</td>\n",
       "      <td>2018</td>\n",
       "      <td>12</td>\n",
       "      <td>343</td>\n",
       "      <td>6</td>\n",
       "      <td>9</td>\n",
       "    </tr>\n",
       "    <tr>\n",
       "      <th>19106223</th>\n",
       "      <td>77586</td>\n",
       "      <td>22</td>\n",
       "      <td>3794</td>\n",
       "      <td>(46027) Норколут табл. 5 мг. фл. №20</td>\n",
       "      <td>26</td>\n",
       "      <td>18</td>\n",
       "      <td>-1</td>\n",
       "      <td>1</td>\n",
       "      <td>2018</td>\n",
       "      <td>12</td>\n",
       "      <td>343</td>\n",
       "      <td>6</td>\n",
       "      <td>9</td>\n",
       "    </tr>\n",
       "  </tbody>\n",
       "</table>\n",
       "<p>19106224 rows × 13 columns</p>\n",
       "</div>"
      ],
      "text/plain": [
       "           user  shop   item  \\\n",
       "0            95    73   2395   \n",
       "1            95    73    564   \n",
       "2            95    73   2752   \n",
       "3            95    73  24778   \n",
       "4           297   156    574   \n",
       "...         ...   ...    ...   \n",
       "19106219  77586    22   3788   \n",
       "19106220  77586    22   3788   \n",
       "19106221  77586    22   2686   \n",
       "19106222  77586    22   2686   \n",
       "19106223  77586    22   3794   \n",
       "\n",
       "                                                       name  item_sub_cat  \\\n",
       "0                    (180814) Аквалор софт спрей наз. 150мл           167   \n",
       "1         (24484) Тизин Классик/Ксило спрей наз. 0,05% ф...            23   \n",
       "2                 (42763) Солкосерил гель глазной 20% 5 гр.             7   \n",
       "3             (44543) Витабакт капли глазн 0.05% фл 10мл N1             7   \n",
       "4                        (65704) Эрмиталь капс.10000 ЕД №20            59   \n",
       "...                                                     ...           ...   \n",
       "19106219    (120922) Сульфасалазин табл. п.п.о. 500 мг. №50           112   \n",
       "19106220    (120922) Сульфасалазин табл. п.п.о. 500 мг. №50           112   \n",
       "19106221  (112839) Сульфасалазин-ЕН табл. п.о. раствор./...             3   \n",
       "19106222  (112839) Сульфасалазин-ЕН табл. п.о. раствор./...             3   \n",
       "19106223               (46027) Норколут табл. 5 мг. фл. №20            26   \n",
       "\n",
       "          item_cat  brand  quantity  year  month  day_of_year  day_of_week  \\\n",
       "0               12   2531         1  2018      1            1            0   \n",
       "1               12     -1         1  2018      1            1            0   \n",
       "2                6     -1         1  2018      1            1            0   \n",
       "3                6     -1         1  2018      1            1            0   \n",
       "4                3     -1         1  2018      1            1            0   \n",
       "...            ...    ...       ...   ...    ...          ...          ...   \n",
       "19106219         3     -1         1  2018     12          343            6   \n",
       "19106220         3     -1         2  2018     12          343            6   \n",
       "19106221         3     -1         4  2018     12          343            6   \n",
       "19106222         3     -1         8  2018     12          343            6   \n",
       "19106223        18     -1         1  2018     12          343            6   \n",
       "\n",
       "          day_of_month  \n",
       "0                    1  \n",
       "1                    1  \n",
       "2                    1  \n",
       "3                    1  \n",
       "4                    1  \n",
       "...                ...  \n",
       "19106219             9  \n",
       "19106220             9  \n",
       "19106221             9  \n",
       "19106222             9  \n",
       "19106223             9  \n",
       "\n",
       "[19106224 rows x 13 columns]"
      ]
     },
     "execution_count": 71,
     "metadata": {},
     "output_type": "execute_result"
    }
   ],
   "source": [
    "# сортируем данные\n",
    "receipt_df = receipt_df.sort_values(by=['day_of_year', 'user', 'shop']).reset_index(drop=True)\n",
    "receipt_df"
   ]
  },
  {
   "cell_type": "code",
   "execution_count": 72,
   "id": "20ca3d88-bc7d-43f9-8122-6cdb46e54d0d",
   "metadata": {
    "execution": {
     "iopub.execute_input": "2023-05-03T22:31:41.628040Z",
     "iopub.status.busy": "2023-05-03T22:31:41.627041Z",
     "iopub.status.idle": "2023-05-03T22:31:41.701296Z",
     "shell.execute_reply": "2023-05-03T22:31:41.700788Z",
     "shell.execute_reply.started": "2023-05-03T22:31:41.628040Z"
    },
    "tags": []
   },
   "outputs": [
    {
     "data": {
      "text/plain": [
       "161.0"
      ]
     },
     "execution_count": 72,
     "metadata": {},
     "output_type": "execute_result"
    }
   ],
   "source": [
    "# посмотрим на значение 70-го процентиля, по которому будем делить датасет на выборки\n",
    "receipt_df['day_of_year'].quantile(0.7)"
   ]
  },
  {
   "cell_type": "code",
   "execution_count": 73,
   "id": "01c9426a-d5a1-4b51-ace6-18c0f3a1bae6",
   "metadata": {
    "execution": {
     "iopub.execute_input": "2023-05-03T22:31:41.702301Z",
     "iopub.status.busy": "2023-05-03T22:31:41.701296Z",
     "iopub.status.idle": "2023-05-03T22:31:42.638589Z",
     "shell.execute_reply": "2023-05-03T22:31:42.638589Z",
     "shell.execute_reply.started": "2023-05-03T22:31:41.702301Z"
    },
    "tags": []
   },
   "outputs": [
    {
     "name": "stdout",
     "output_type": "stream",
     "text": [
      "Train: (13291207, 13)\n",
      "Test: (5815017, 13)\n"
     ]
    }
   ],
   "source": [
    "# разбиваем данные на train и test\n",
    "df_train = receipt_df[receipt_df['day_of_year'] < receipt_df['day_of_year'].quantile(0.7)]\n",
    "df_test  = receipt_df[receipt_df['day_of_year'] >= receipt_df['day_of_year'].quantile(0.7)]\n",
    "print(f'Train: {df_train.shape}')\n",
    "print(f'Test: {df_test.shape}')"
   ]
  },
  {
   "cell_type": "code",
   "execution_count": 74,
   "id": "4f9565ad-f31f-434b-b99f-b3388035478c",
   "metadata": {
    "execution": {
     "iopub.execute_input": "2023-05-03T22:32:14.711136Z",
     "iopub.status.busy": "2023-05-03T22:32:14.711136Z",
     "iopub.status.idle": "2023-05-03T22:32:35.408493Z",
     "shell.execute_reply": "2023-05-03T22:32:35.408493Z",
     "shell.execute_reply.started": "2023-05-03T22:32:14.711136Z"
    },
    "tags": []
   },
   "outputs": [
    {
     "data": {
      "text/plain": [
       "(2001820, 1)"
      ]
     },
     "execution_count": 74,
     "metadata": {},
     "output_type": "execute_result"
    }
   ],
   "source": [
    "# группируем товары из тестовой выборки по корзинам\n",
    "s_ds = df_test.groupby(['day_of_year','user','shop'])['item'].agg([list])\n",
    "s_ds.shape"
   ]
  },
  {
   "cell_type": "code",
   "execution_count": 75,
   "id": "980485f0-850d-4e56-83af-d3d86ed412a2",
   "metadata": {
    "execution": {
     "iopub.execute_input": "2023-05-03T22:32:35.409490Z",
     "iopub.status.busy": "2023-05-03T22:32:35.409490Z",
     "iopub.status.idle": "2023-05-03T22:32:35.766237Z",
     "shell.execute_reply": "2023-05-03T22:32:35.766237Z",
     "shell.execute_reply.started": "2023-05-03T22:32:35.409490Z"
    },
    "tags": []
   },
   "outputs": [
    {
     "data": {
      "text/html": [
       "<div>\n",
       "<style scoped>\n",
       "    .dataframe tbody tr th:only-of-type {\n",
       "        vertical-align: middle;\n",
       "    }\n",
       "\n",
       "    .dataframe tbody tr th {\n",
       "        vertical-align: top;\n",
       "    }\n",
       "\n",
       "    .dataframe thead th {\n",
       "        text-align: right;\n",
       "    }\n",
       "</style>\n",
       "<table border=\"1\" class=\"dataframe\">\n",
       "  <thead>\n",
       "    <tr style=\"text-align: right;\">\n",
       "      <th></th>\n",
       "      <th>list</th>\n",
       "    </tr>\n",
       "  </thead>\n",
       "  <tbody>\n",
       "    <tr>\n",
       "      <th>0</th>\n",
       "      <td>[647, 161, 8218, 1730, 0, 2169]</td>\n",
       "    </tr>\n",
       "    <tr>\n",
       "      <th>1</th>\n",
       "      <td>[29140, 14217, 14525, 14525]</td>\n",
       "    </tr>\n",
       "    <tr>\n",
       "      <th>2</th>\n",
       "      <td>[4345, 9247, 7671, 14525, 6254, 5546, 1249, 1942]</td>\n",
       "    </tr>\n",
       "    <tr>\n",
       "      <th>3</th>\n",
       "      <td>[2317, 19358]</td>\n",
       "    </tr>\n",
       "    <tr>\n",
       "      <th>4</th>\n",
       "      <td>[35270]</td>\n",
       "    </tr>\n",
       "    <tr>\n",
       "      <th>...</th>\n",
       "      <td>...</td>\n",
       "    </tr>\n",
       "    <tr>\n",
       "      <th>2001815</th>\n",
       "      <td>[2111]</td>\n",
       "    </tr>\n",
       "    <tr>\n",
       "      <th>2001816</th>\n",
       "      <td>[1142]</td>\n",
       "    </tr>\n",
       "    <tr>\n",
       "      <th>2001817</th>\n",
       "      <td>[497, 7682]</td>\n",
       "    </tr>\n",
       "    <tr>\n",
       "      <th>2001818</th>\n",
       "      <td>[3870, 1070, 2745, 9337]</td>\n",
       "    </tr>\n",
       "    <tr>\n",
       "      <th>2001819</th>\n",
       "      <td>[3788, 3788, 2686, 2686, 3794]</td>\n",
       "    </tr>\n",
       "  </tbody>\n",
       "</table>\n",
       "<p>2001820 rows × 1 columns</p>\n",
       "</div>"
      ],
      "text/plain": [
       "                                                      list\n",
       "0                          [647, 161, 8218, 1730, 0, 2169]\n",
       "1                             [29140, 14217, 14525, 14525]\n",
       "2        [4345, 9247, 7671, 14525, 6254, 5546, 1249, 1942]\n",
       "3                                            [2317, 19358]\n",
       "4                                                  [35270]\n",
       "...                                                    ...\n",
       "2001815                                             [2111]\n",
       "2001816                                             [1142]\n",
       "2001817                                        [497, 7682]\n",
       "2001818                           [3870, 1070, 2745, 9337]\n",
       "2001819                     [3788, 3788, 2686, 2686, 3794]\n",
       "\n",
       "[2001820 rows x 1 columns]"
      ]
     },
     "execution_count": 75,
     "metadata": {},
     "output_type": "execute_result"
    }
   ],
   "source": [
    "sale_idxs = pd.Series([i for i in range(s_ds.shape[0])])\n",
    "s_ds = s_ds.set_index(sale_idxs)\n",
    "s_ds"
   ]
  },
  {
   "cell_type": "code",
   "execution_count": 76,
   "id": "836f048e-57cc-4e69-a554-ee643ef550a6",
   "metadata": {
    "execution": {
     "iopub.execute_input": "2023-05-03T22:32:54.862143Z",
     "iopub.status.busy": "2023-05-03T22:32:54.862143Z",
     "iopub.status.idle": "2023-05-03T22:32:54.877652Z",
     "shell.execute_reply": "2023-05-03T22:32:54.877652Z",
     "shell.execute_reply.started": "2023-05-03T22:32:54.862143Z"
    }
   },
   "outputs": [],
   "source": [
    "# метрики качества, которые будем использовать далее\n",
    "\n",
    "def precision_at_k(y_true, y_pred, k):\n",
    "    result = 0.0\n",
    "    if k < 1 or k > len(y_pred):\n",
    "        return result\n",
    "    else:\n",
    "        y_pred = y_pred[:k]\n",
    "    correct_indeces = np.where(np.in1d(y_pred, y_true))[0]\n",
    "    result = len(correct_indeces) / k\n",
    "    return result\n",
    "\n",
    "def average_precision(y_true, y_pred):\n",
    "    result = 0.0\n",
    "    correct_indeces = np.where(np.in1d(y_pred, y_true))[0]\n",
    "    size = len(correct_indeces)\n",
    "    if size == 0:\n",
    "        return result\n",
    "    p_at_k = np.array([precision_at_k(y_true, y_pred, k) for k in np.arange(1, size + 1)])\n",
    "    result = np.sum(p_at_k) / size\n",
    "    return result\n",
    "\n",
    "def mean_average_precision(y_true_list, y_pred_list):\n",
    "    result = 0\n",
    "    assert len(y_true_list) == len(y_pred_list)\n",
    "\n",
    "    for pair in zip(y_true_list, y_pred_list):\n",
    "        result += average_precision(pair[0], pair[1])\n",
    "    return result / len(y_true_list)\n",
    "\n",
    "\n",
    "def compute_metric(test_data, y_pred, metric='MAP'):\n",
    "    \n",
    "    cum_sum = 0\n",
    "    \n",
    "    for i in range(test_data.shape[0]):\n",
    "        y_true = test_data['shop_list'].iloc[i]\n",
    "        AP = average_precision(y_true, y_pred)\n",
    "        cum_sum += AP\n",
    "        \n",
    "    if metric=='MAP':\n",
    "        MAP = cum_sum / test_data.shape[0]\n",
    "    \n",
    "    return MAP"
   ]
  },
  {
   "cell_type": "markdown",
   "id": "9d21502e-4d45-4171-bd05-a527efcefdf6",
   "metadata": {
    "jp-MarkdownHeadingCollapsed": true,
    "tags": []
   },
   "source": [
    "# Popularity-based подход"
   ]
  },
  {
   "cell_type": "code",
   "execution_count": 78,
   "id": "c483142f-6f75-4bcd-8061-e34f63c50abb",
   "metadata": {
    "execution": {
     "iopub.execute_input": "2023-05-03T22:34:50.060892Z",
     "iopub.status.busy": "2023-05-03T22:34:50.059891Z",
     "iopub.status.idle": "2023-05-03T22:34:52.392550Z",
     "shell.execute_reply": "2023-05-03T22:34:52.392550Z",
     "shell.execute_reply.started": "2023-05-03T22:34:50.060892Z"
    },
    "tags": []
   },
   "outputs": [],
   "source": [
    "items = set(df_train['item'])\n",
    "top_sales = {item: 0 for item in items}\n",
    "\n",
    "for item in df_train['item']:\n",
    "    top_sales[item] += 1\n",
    "\n",
    "top_sales = {k: v for k, v in sorted(top_sales.items(), key=lambda item: -item[1])}"
   ]
  },
  {
   "cell_type": "code",
   "execution_count": 79,
   "id": "5948ecc8-8273-4fd3-99d5-89867826576e",
   "metadata": {
    "execution": {
     "iopub.execute_input": "2023-05-03T22:34:53.743601Z",
     "iopub.status.busy": "2023-05-03T22:34:53.743601Z",
     "iopub.status.idle": "2023-05-03T22:34:53.753158Z",
     "shell.execute_reply": "2023-05-03T22:34:53.753158Z",
     "shell.execute_reply.started": "2023-05-03T22:34:53.743601Z"
    },
    "tags": []
   },
   "outputs": [],
   "source": [
    "def popularity_based(top_sales=top_sales, n=5, return_real=False):\n",
    "    \n",
    "    # если нужны текстовые наименования рекомендованных товаров\n",
    "    if return_real:\n",
    "        return [product_dict[str(item_map_to_real[item])] for item in list(top_sales.keys())[:n]]\n",
    "    # если нужны индексы (для расчета метрик нужны именно они)\n",
    "    return list(top_sales.keys())[:n]"
   ]
  },
  {
   "cell_type": "code",
   "execution_count": 80,
   "id": "809c902d-0d7e-4971-b243-e4f0d60a155e",
   "metadata": {
    "execution": {
     "iopub.execute_input": "2023-05-03T22:34:59.467862Z",
     "iopub.status.busy": "2023-05-03T22:34:59.466862Z",
     "iopub.status.idle": "2023-05-03T22:34:59.480943Z",
     "shell.execute_reply": "2023-05-03T22:34:59.480943Z",
     "shell.execute_reply.started": "2023-05-03T22:34:59.467862Z"
    },
    "tags": []
   },
   "outputs": [
    {
     "data": {
      "text/plain": [
       "[12, 321, 702, 67, 350]"
      ]
     },
     "execution_count": 80,
     "metadata": {},
     "output_type": "execute_result"
    }
   ],
   "source": [
    "popularity_based(n=5)"
   ]
  },
  {
   "cell_type": "code",
   "execution_count": 81,
   "id": "c0d020f9-25f5-4097-9771-f695fcc3b0b2",
   "metadata": {
    "execution": {
     "iopub.execute_input": "2023-05-03T22:35:03.641051Z",
     "iopub.status.busy": "2023-05-03T22:35:03.641051Z",
     "iopub.status.idle": "2023-05-03T22:35:03.657800Z",
     "shell.execute_reply": "2023-05-03T22:35:03.657800Z",
     "shell.execute_reply.started": "2023-05-03T22:35:03.641051Z"
    },
    "tags": []
   },
   "outputs": [],
   "source": [
    "popularity_preds = popularity_based(n=5)"
   ]
  },
  {
   "cell_type": "code",
   "execution_count": 82,
   "id": "d2626f75-124a-4d08-b977-0cb31c95260f",
   "metadata": {
    "execution": {
     "iopub.execute_input": "2023-05-03T22:35:06.899858Z",
     "iopub.status.busy": "2023-05-03T22:35:06.899858Z",
     "iopub.status.idle": "2023-05-03T22:35:30.985951Z",
     "shell.execute_reply": "2023-05-03T22:35:30.985951Z",
     "shell.execute_reply.started": "2023-05-03T22:35:06.899858Z"
    },
    "tags": []
   },
   "outputs": [
    {
     "data": {
      "text/plain": [
       "0.014851637787391294"
      ]
     },
     "execution_count": 82,
     "metadata": {},
     "output_type": "execute_result"
    }
   ],
   "source": [
    "s_ds.columns = ['shop_list']\n",
    "compute_metric(s_ds, popularity_preds, metric='MAP')"
   ]
  },
  {
   "cell_type": "markdown",
   "id": "e0282124-0d54-4546-8db0-588a1a72a2c0",
   "metadata": {},
   "source": [
    "**Popularity-based подход MAP = 0.01485**"
   ]
  },
  {
   "cell_type": "markdown",
   "id": "ec016ab6-c034-4de5-b5ed-6ffda4074918",
   "metadata": {
    "tags": []
   },
   "source": [
    "# Случайные рекомендации"
   ]
  },
  {
   "cell_type": "markdown",
   "id": "6e2a9270-99bf-4ba2-939c-1e07344c6a67",
   "metadata": {
    "jp-MarkdownHeadingCollapsed": true,
    "tags": []
   },
   "source": [
    "## Рекомендация 5 случайных позиций"
   ]
  },
  {
   "cell_type": "code",
   "execution_count": 83,
   "id": "fb3c9924-ebc1-4207-b528-42b0724235dc",
   "metadata": {
    "execution": {
     "iopub.execute_input": "2023-05-03T22:36:10.201707Z",
     "iopub.status.busy": "2023-05-03T22:36:10.201707Z",
     "iopub.status.idle": "2023-05-03T22:36:10.215001Z",
     "shell.execute_reply": "2023-05-03T22:36:10.213986Z",
     "shell.execute_reply.started": "2023-05-03T22:36:10.201707Z"
    },
    "tags": []
   },
   "outputs": [],
   "source": [
    "def random_rec(n=5):\n",
    "    return np.random.choice(list(set(df_train['item'])), 5)"
   ]
  },
  {
   "cell_type": "code",
   "execution_count": 84,
   "id": "da5482b2-daf8-472f-8ca7-afa423216f55",
   "metadata": {
    "execution": {
     "iopub.execute_input": "2023-05-03T22:36:10.688340Z",
     "iopub.status.busy": "2023-05-03T22:36:10.688340Z",
     "iopub.status.idle": "2023-05-03T22:36:11.309889Z",
     "shell.execute_reply": "2023-05-03T22:36:11.309889Z",
     "shell.execute_reply.started": "2023-05-03T22:36:10.688340Z"
    },
    "tags": []
   },
   "outputs": [
    {
     "data": {
      "text/plain": [
       "array([16666,  5958, 11040, 29368, 19411])"
      ]
     },
     "execution_count": 84,
     "metadata": {},
     "output_type": "execute_result"
    }
   ],
   "source": [
    "np.random.seed(50)\n",
    "random_preds = random_rec(n=5)\n",
    "random_preds"
   ]
  },
  {
   "cell_type": "code",
   "execution_count": 85,
   "id": "6dbb3f55-a1f3-420f-8e97-154a984f9f52",
   "metadata": {
    "execution": {
     "iopub.execute_input": "2023-05-03T22:36:14.357074Z",
     "iopub.status.busy": "2023-05-03T22:36:14.357074Z",
     "iopub.status.idle": "2023-05-03T22:36:35.816894Z",
     "shell.execute_reply": "2023-05-03T22:36:35.815894Z",
     "shell.execute_reply.started": "2023-05-03T22:36:14.357074Z"
    },
    "tags": []
   },
   "outputs": [
    {
     "name": "stdout",
     "output_type": "stream",
     "text": [
      "2.9972724820413424e-06\n"
     ]
    }
   ],
   "source": [
    "print(compute_metric(s_ds, random_preds, metric='MAP'))"
   ]
  },
  {
   "cell_type": "markdown",
   "id": "2ad23fd3-1f8b-4d72-8b24-68bd489b9252",
   "metadata": {},
   "source": [
    "При случайной генерации рекомендаций получаем значение метрики MAP близкое к нулю."
   ]
  },
  {
   "cell_type": "markdown",
   "id": "1972c3e4-6579-4553-9a45-e7b6f640a462",
   "metadata": {
    "jp-MarkdownHeadingCollapsed": true,
    "tags": []
   },
   "source": [
    "## Случайная рекомендация 5 позиций из top-100 по популярности товаров"
   ]
  },
  {
   "cell_type": "code",
   "execution_count": 86,
   "id": "019008fd-8bce-4510-bac3-1a5c59cf1c4f",
   "metadata": {
    "execution": {
     "iopub.execute_input": "2023-05-03T22:36:35.817895Z",
     "iopub.status.busy": "2023-05-03T22:36:35.817895Z",
     "iopub.status.idle": "2023-05-03T22:36:38.256868Z",
     "shell.execute_reply": "2023-05-03T22:36:38.255867Z",
     "shell.execute_reply.started": "2023-05-03T22:36:35.817895Z"
    },
    "tags": []
   },
   "outputs": [],
   "source": [
    "items = set(df_train['item'])\n",
    "top_sales = {item: 0 for item in items}\n",
    "\n",
    "for item in df_train['item']:\n",
    "    top_sales[item] += 1\n",
    "    \n",
    "top_sales = {k: v for k, v in sorted(top_sales.items(), key=lambda item: -item[1])}"
   ]
  },
  {
   "cell_type": "code",
   "execution_count": 87,
   "id": "641708bd-ce05-4502-8dfa-3a04e7b06003",
   "metadata": {
    "execution": {
     "iopub.execute_input": "2023-05-03T22:36:38.257875Z",
     "iopub.status.busy": "2023-05-03T22:36:38.257875Z",
     "iopub.status.idle": "2023-05-03T22:36:38.271897Z",
     "shell.execute_reply": "2023-05-03T22:36:38.271897Z",
     "shell.execute_reply.started": "2023-05-03T22:36:38.257875Z"
    },
    "tags": []
   },
   "outputs": [],
   "source": [
    "def random_rec_tresh(top_sales=top_sales, tresh=100, n=5):\n",
    "    list(top_sales.keys())[:tresh]\n",
    "    return np.random.choice(list(top_sales.keys())[:tresh], 5)"
   ]
  },
  {
   "cell_type": "code",
   "execution_count": 88,
   "id": "afc0bf55-e8b8-4cbe-86e8-9614c79fc6a2",
   "metadata": {
    "execution": {
     "iopub.execute_input": "2023-05-03T22:36:38.273907Z",
     "iopub.status.busy": "2023-05-03T22:36:38.273907Z",
     "iopub.status.idle": "2023-05-03T22:36:38.287420Z",
     "shell.execute_reply": "2023-05-03T22:36:38.287420Z",
     "shell.execute_reply.started": "2023-05-03T22:36:38.273907Z"
    },
    "tags": []
   },
   "outputs": [
    {
     "data": {
      "text/plain": [
       "array([ 240, 1314,  519,  263, 1623])"
      ]
     },
     "execution_count": 88,
     "metadata": {},
     "output_type": "execute_result"
    }
   ],
   "source": [
    "np.random.seed(50)\n",
    "random_preds_tresh = random_rec_tresh(tresh=100, n=5)\n",
    "random_preds_tresh"
   ]
  },
  {
   "cell_type": "code",
   "execution_count": 89,
   "id": "1dac6f72-940e-487d-b79e-9aecb7e77612",
   "metadata": {
    "execution": {
     "iopub.execute_input": "2023-05-03T22:36:38.288422Z",
     "iopub.status.busy": "2023-05-03T22:36:38.288422Z",
     "iopub.status.idle": "2023-05-03T22:37:00.527130Z",
     "shell.execute_reply": "2023-05-03T22:37:00.526125Z",
     "shell.execute_reply.started": "2023-05-03T22:36:38.288422Z"
    },
    "tags": []
   },
   "outputs": [
    {
     "name": "stdout",
     "output_type": "stream",
     "text": [
      "0.004768577261358831\n"
     ]
    }
   ],
   "source": [
    "print(compute_metric(s_ds, random_preds_tresh, metric='MAP'))"
   ]
  },
  {
   "cell_type": "markdown",
   "id": "47db55ab-d8da-479d-b113-b1e58988f1e1",
   "metadata": {},
   "source": [
    "Рандомная генерация рекомендаций из топ-100 item по продажам ожидаемо показывает результат получше, однако наивная реализация топ-5 рекомендаций значительно обходит и эту версию."
   ]
  },
  {
   "cell_type": "markdown",
   "id": "0c5842e2-984e-426f-8838-f850864861b2",
   "metadata": {
    "jp-MarkdownHeadingCollapsed": true,
    "tags": []
   },
   "source": [
    "# Content-based подход"
   ]
  },
  {
   "cell_type": "markdown",
   "id": "6c939b34-bc08-4899-b901-704fc94e7c18",
   "metadata": {},
   "source": [
    "Для начала сгруппируем товары по корзинам, для этого группируем те товары, у которых совпадают одновременно 3 столбца:"
   ]
  },
  {
   "cell_type": "code",
   "execution_count": 90,
   "id": "1a533c16-8c8d-4189-a0b3-2329ec0e7663",
   "metadata": {
    "execution": {
     "iopub.execute_input": "2023-05-03T22:37:35.753895Z",
     "iopub.status.busy": "2023-05-03T22:37:35.753895Z",
     "iopub.status.idle": "2023-05-03T22:38:18.821044Z",
     "shell.execute_reply": "2023-05-03T22:38:18.821044Z",
     "shell.execute_reply.started": "2023-05-03T22:37:35.753895Z"
    },
    "tags": []
   },
   "outputs": [
    {
     "data": {
      "text/plain": [
       "(4110995, 1)"
      ]
     },
     "execution_count": 90,
     "metadata": {},
     "output_type": "execute_result"
    }
   ],
   "source": [
    "shop_list_train = df_train.groupby(['day_of_year','user','shop'])['item'].agg([list])\n",
    "shop_list_train.shape"
   ]
  },
  {
   "cell_type": "code",
   "execution_count": 91,
   "id": "4685fbf2-94f0-4232-a289-44517d38821f",
   "metadata": {
    "execution": {
     "iopub.execute_input": "2023-05-03T22:38:18.823049Z",
     "iopub.status.busy": "2023-05-03T22:38:18.822050Z",
     "iopub.status.idle": "2023-05-03T22:38:19.508062Z",
     "shell.execute_reply": "2023-05-03T22:38:19.508062Z",
     "shell.execute_reply.started": "2023-05-03T22:38:18.823049Z"
    },
    "tags": []
   },
   "outputs": [
    {
     "data": {
      "text/html": [
       "<div>\n",
       "<style scoped>\n",
       "    .dataframe tbody tr th:only-of-type {\n",
       "        vertical-align: middle;\n",
       "    }\n",
       "\n",
       "    .dataframe tbody tr th {\n",
       "        vertical-align: top;\n",
       "    }\n",
       "\n",
       "    .dataframe thead th {\n",
       "        text-align: right;\n",
       "    }\n",
       "</style>\n",
       "<table border=\"1\" class=\"dataframe\">\n",
       "  <thead>\n",
       "    <tr style=\"text-align: right;\">\n",
       "      <th></th>\n",
       "      <th>shop_list</th>\n",
       "    </tr>\n",
       "  </thead>\n",
       "  <tbody>\n",
       "    <tr>\n",
       "      <th>0</th>\n",
       "      <td>[2395, 564, 2752, 24778]</td>\n",
       "    </tr>\n",
       "    <tr>\n",
       "      <th>1</th>\n",
       "      <td>[574]</td>\n",
       "    </tr>\n",
       "    <tr>\n",
       "      <th>2</th>\n",
       "      <td>[2243]</td>\n",
       "    </tr>\n",
       "    <tr>\n",
       "      <th>3</th>\n",
       "      <td>[1655]</td>\n",
       "    </tr>\n",
       "    <tr>\n",
       "      <th>4</th>\n",
       "      <td>[12, 4367, 2137]</td>\n",
       "    </tr>\n",
       "    <tr>\n",
       "      <th>...</th>\n",
       "      <td>...</td>\n",
       "    </tr>\n",
       "    <tr>\n",
       "      <th>4110990</th>\n",
       "      <td>[7490]</td>\n",
       "    </tr>\n",
       "    <tr>\n",
       "      <th>4110991</th>\n",
       "      <td>[9469]</td>\n",
       "    </tr>\n",
       "    <tr>\n",
       "      <th>4110992</th>\n",
       "      <td>[8201]</td>\n",
       "    </tr>\n",
       "    <tr>\n",
       "      <th>4110993</th>\n",
       "      <td>[11304]</td>\n",
       "    </tr>\n",
       "    <tr>\n",
       "      <th>4110994</th>\n",
       "      <td>[22248]</td>\n",
       "    </tr>\n",
       "  </tbody>\n",
       "</table>\n",
       "<p>4110995 rows × 1 columns</p>\n",
       "</div>"
      ],
      "text/plain": [
       "                        shop_list\n",
       "0        [2395, 564, 2752, 24778]\n",
       "1                           [574]\n",
       "2                          [2243]\n",
       "3                          [1655]\n",
       "4                [12, 4367, 2137]\n",
       "...                           ...\n",
       "4110990                    [7490]\n",
       "4110991                    [9469]\n",
       "4110992                    [8201]\n",
       "4110993                   [11304]\n",
       "4110994                   [22248]\n",
       "\n",
       "[4110995 rows x 1 columns]"
      ]
     },
     "execution_count": 91,
     "metadata": {},
     "output_type": "execute_result"
    }
   ],
   "source": [
    "sale_idxs_train = pd.Series([i for i in range(shop_list_train.shape[0])])\n",
    "shop_list_train = shop_list_train.set_index(sale_idxs_train)\n",
    "shop_list_train.columns = ['shop_list']\n",
    "shop_list_train"
   ]
  },
  {
   "cell_type": "code",
   "execution_count": 93,
   "id": "b91448d3-5010-41d7-b134-df2115f3c186",
   "metadata": {
    "execution": {
     "iopub.execute_input": "2023-05-03T22:38:33.437045Z",
     "iopub.status.busy": "2023-05-03T22:38:33.437045Z",
     "iopub.status.idle": "2023-05-03T22:38:33.886254Z",
     "shell.execute_reply": "2023-05-03T22:38:33.886254Z",
     "shell.execute_reply.started": "2023-05-03T22:38:33.437045Z"
    },
    "tags": []
   },
   "outputs": [
    {
     "data": {
      "text/plain": [
       "3.2330876101770984"
      ]
     },
     "execution_count": 93,
     "metadata": {},
     "output_type": "execute_result"
    }
   ],
   "source": [
    "# среднее количество позиций в корзине\n",
    "np.mean([len(i) for i in shop_list_train['shop_list']])"
   ]
  },
  {
   "cell_type": "code",
   "execution_count": 102,
   "id": "fd6529df-9493-47ff-9ed0-2ac96910e631",
   "metadata": {
    "execution": {
     "iopub.execute_input": "2023-05-03T22:40:23.304341Z",
     "iopub.status.busy": "2023-05-03T22:40:23.304341Z",
     "iopub.status.idle": "2023-05-03T22:40:23.528252Z",
     "shell.execute_reply": "2023-05-03T22:40:23.528252Z",
     "shell.execute_reply.started": "2023-05-03T22:40:23.304341Z"
    },
    "tags": []
   },
   "outputs": [
    {
     "data": {
      "text/plain": [
       "35959"
      ]
     },
     "execution_count": 102,
     "metadata": {},
     "output_type": "execute_result"
    }
   ],
   "source": [
    "max_item_id = max(shop_list_train['shop_list'])[0]\n",
    "max_item_id"
   ]
  },
  {
   "cell_type": "code",
   "execution_count": 103,
   "id": "92c03d80-f57d-494f-b710-881016b4e527",
   "metadata": {
    "execution": {
     "iopub.execute_input": "2023-05-03T22:40:27.131885Z",
     "iopub.status.busy": "2023-05-03T22:40:27.131885Z",
     "iopub.status.idle": "2023-05-03T22:40:27.146910Z",
     "shell.execute_reply": "2023-05-03T22:40:27.146403Z",
     "shell.execute_reply.started": "2023-05-03T22:40:27.131885Z"
    },
    "tags": []
   },
   "outputs": [
    {
     "data": {
      "text/plain": [
       "(35959, 35959)"
      ]
     },
     "execution_count": 103,
     "metadata": {},
     "output_type": "execute_result"
    }
   ],
   "source": [
    "# создадим матрицу item-item\n",
    "item_item_matrix = np.zeros((max_item_id, max_item_id))\n",
    "item_item_matrix.shape"
   ]
  },
  {
   "cell_type": "code",
   "execution_count": 104,
   "id": "1ba0f319-4cd6-423a-9485-5c7b795e1047",
   "metadata": {
    "execution": {
     "iopub.execute_input": "2023-05-03T22:41:08.184864Z",
     "iopub.status.busy": "2023-05-03T22:41:08.184864Z",
     "iopub.status.idle": "2023-05-03T22:41:31.408923Z",
     "shell.execute_reply": "2023-05-03T22:41:31.407922Z",
     "shell.execute_reply.started": "2023-05-03T22:41:08.184864Z"
    },
    "tags": []
   },
   "outputs": [
    {
     "data": {
      "application/vnd.jupyter.widget-view+json": {
       "model_id": "fb13c5fd31bd41cdbd964b72167daa8f",
       "version_major": 2,
       "version_minor": 0
      },
      "text/plain": [
       "  0%|          | 0/4110995 [00:00<?, ?it/s]"
      ]
     },
     "metadata": {},
     "output_type": "display_data"
    }
   ],
   "source": [
    "for shop_list in tqdm(shop_list_train['shop_list']):\n",
    "    length = len(shop_list)\n",
    "    if length > 1:\n",
    "        for i in range(length):\n",
    "            item1 = shop_list[i]\n",
    "            try:\n",
    "                for j in range(i+1, length):\n",
    "                    item2 = shop_list[j]\n",
    "                    item_item_matrix[item1][item2] += 1\n",
    "                    \n",
    "            # на всякий случай обработаем ошибку, если попадет не тот индекс\n",
    "            except IndexError:\n",
    "                pass"
   ]
  },
  {
   "cell_type": "code",
   "execution_count": 105,
   "id": "db714f4e-8a64-4f5a-bd10-4eef3874d2e0",
   "metadata": {
    "execution": {
     "iopub.execute_input": "2023-05-03T22:41:33.311807Z",
     "iopub.status.busy": "2023-05-03T22:41:33.311807Z",
     "iopub.status.idle": "2023-05-03T22:41:33.325320Z",
     "shell.execute_reply": "2023-05-03T22:41:33.325320Z",
     "shell.execute_reply.started": "2023-05-03T22:41:33.311807Z"
    },
    "tags": []
   },
   "outputs": [],
   "source": [
    "def top_k_items(item_id, top_k, corr_mat, return_real=False):\n",
    "    top_items = corr_mat[item_id, :].argsort()[-top_k:][::-1] \n",
    "    if return_real:\n",
    "        top_items = [product_dict[str(item_map_to_real[e])] for e in top_items]\n",
    "    return top_items"
   ]
  },
  {
   "cell_type": "code",
   "execution_count": 106,
   "id": "53c81b57-6212-4f13-97ec-7eae9268a3fc",
   "metadata": {
    "execution": {
     "iopub.execute_input": "2023-05-03T22:41:33.819870Z",
     "iopub.status.busy": "2023-05-03T22:41:33.819870Z",
     "iopub.status.idle": "2023-05-03T22:41:33.826206Z",
     "shell.execute_reply": "2023-05-03T22:41:33.826206Z",
     "shell.execute_reply.started": "2023-05-03T22:41:33.819870Z"
    },
    "tags": []
   },
   "outputs": [
    {
     "data": {
      "text/plain": [
       "['(57733) Корвалол капли д/приема внутрь 25мл 738',\n",
       " '(20116) Тауфон капли глазн 4% фл 10 мл. пласт. флак.-кап. 575',\n",
       " '(117825) Панангин таб.п.п.о.№50 738',\n",
       " '(118125) Кардиомагнил таб.п.п.о.75мг №100 738',\n",
       " '(42996) Найз таб.100мг №20 647']"
      ]
     },
     "execution_count": 106,
     "metadata": {},
     "output_type": "execute_result"
    }
   ],
   "source": [
    "top_k_items(350, 5, item_item_matrix, return_real=True)"
   ]
  },
  {
   "cell_type": "code",
   "execution_count": 107,
   "id": "cefcbda7-bd1c-470c-9408-557e17dea5c8",
   "metadata": {
    "execution": {
     "iopub.execute_input": "2023-05-03T22:41:34.338885Z",
     "iopub.status.busy": "2023-05-03T22:41:34.338885Z",
     "iopub.status.idle": "2023-05-03T22:41:34.353588Z",
     "shell.execute_reply": "2023-05-03T22:41:34.353588Z",
     "shell.execute_reply.started": "2023-05-03T22:41:34.338885Z"
    },
    "tags": []
   },
   "outputs": [
    {
     "data": {
      "text/plain": [
       "array([ 12,  67, 321, 702, 661], dtype=int64)"
      ]
     },
     "execution_count": 107,
     "metadata": {},
     "output_type": "execute_result"
    }
   ],
   "source": [
    "top_k_items(350, 5, item_item_matrix, return_real=False)"
   ]
  },
  {
   "cell_type": "code",
   "execution_count": 108,
   "id": "e85b8a17-6702-4bac-a672-a4d0499a04c6",
   "metadata": {
    "execution": {
     "iopub.execute_input": "2023-05-03T22:43:57.256214Z",
     "iopub.status.busy": "2023-05-03T22:43:57.255212Z",
     "iopub.status.idle": "2023-05-03T22:43:57.269728Z",
     "shell.execute_reply": "2023-05-03T22:43:57.269728Z",
     "shell.execute_reply.started": "2023-05-03T22:43:57.256214Z"
    },
    "tags": []
   },
   "outputs": [],
   "source": [
    "# функция для генераций рекомендаций на всю тестовую выборку\n",
    "# функция нужна для дальнейшего расчета MAP на тестовой выборке\n",
    "\n",
    "def content_based(item_list, corr_mat, n=5, return_real=False):\n",
    "    \n",
    "    length = len(item_list)\n",
    "    if length >= n:\n",
    "        top_k = (length // n) + 1\n",
    "    else:\n",
    "        top_k = 1\n",
    "\n",
    "    candidates = []\n",
    "    try:\n",
    "        if return_real:\n",
    "            for item in item_list:\n",
    "                candidates.append(top_k_items(item, top_k, corr_mat, return_real=True))\n",
    "        else:\n",
    "            for item in item_list:\n",
    "                candidates.append(top_k_items(item, top_k, corr_mat, return_real=False))\n",
    "    except IndexError:\n",
    "        pass\n",
    "            \n",
    "    candidates = [item for sublist in candidates for item in sublist]\n",
    "    \n",
    "    try:\n",
    "        rec_list = np.random.choice(candidates, n)\n",
    "    # обработаем ошибку на случай пустого списка candidates\n",
    "    except ValueError:\n",
    "        rec_list = []\n",
    "        \n",
    "    return rec_list"
   ]
  },
  {
   "cell_type": "code",
   "execution_count": 110,
   "id": "f99b74ad-0ecd-4f9e-94f2-08029c7c01ce",
   "metadata": {
    "execution": {
     "iopub.execute_input": "2023-05-03T22:44:28.546258Z",
     "iopub.status.busy": "2023-05-03T22:44:28.545258Z",
     "iopub.status.idle": "2023-05-03T22:44:28.550831Z",
     "shell.execute_reply": "2023-05-03T22:44:28.550831Z",
     "shell.execute_reply.started": "2023-05-03T22:44:28.546258Z"
    },
    "tags": []
   },
   "outputs": [],
   "source": [
    "# функция подсчета MAP\n",
    "def compute_map_content_based(test_data):\n",
    "    cum_sum = 0\n",
    "    for  i in tqdm(range(test_data.shape[0])):\n",
    "        y_true = test_data['shop_list'].iloc[i]\n",
    "        y_pred = content_based([y_true[0]], item_item_matrix)\n",
    "        AP = average_precision(y_true, y_pred)\n",
    "        cum_sum += AP\n",
    "    MAP = cum_sum / test_data.shape[0]\n",
    "    return MAP"
   ]
  },
  {
   "cell_type": "code",
   "execution_count": 111,
   "id": "4e364f24-7926-4701-abb4-14ec4cde5eb5",
   "metadata": {
    "execution": {
     "iopub.execute_input": "2023-05-03T22:44:33.988355Z",
     "iopub.status.busy": "2023-05-03T22:44:33.988355Z",
     "iopub.status.idle": "2023-05-03T23:02:09.427722Z",
     "shell.execute_reply": "2023-05-03T23:02:09.427722Z",
     "shell.execute_reply.started": "2023-05-03T22:44:33.988355Z"
    },
    "tags": []
   },
   "outputs": [
    {
     "data": {
      "application/vnd.jupyter.widget-view+json": {
       "model_id": "0fdba68af1fa4eb2bc337dd57a90b254",
       "version_major": 2,
       "version_minor": 0
      },
      "text/plain": [
       "  0%|          | 0/2001820 [00:00<?, ?it/s]"
      ]
     },
     "metadata": {},
     "output_type": "display_data"
    },
    {
     "data": {
      "text/plain": [
       "0.054369523733402605"
      ]
     },
     "execution_count": 111,
     "metadata": {},
     "output_type": "execute_result"
    }
   ],
   "source": [
    "compute_map_content_based(s_ds)"
   ]
  },
  {
   "cell_type": "markdown",
   "id": "d2b90521-b0ef-40f0-bbc0-bbd8674d9e1e",
   "metadata": {},
   "source": [
    "**Content-based подход MAP = 0.054**\n",
    "\n",
    "Результат в 5 раз лучше по метрике MAP, чем при использовании подхода к предсказанию топ-n самых популярных item."
   ]
  },
  {
   "cell_type": "markdown",
   "id": "f0b895bf-3a4b-414d-ac96-442ea47e7606",
   "metadata": {
    "jp-MarkdownHeadingCollapsed": true,
    "tags": []
   },
   "source": [
    "# Модель с использованием эмбеддингов"
   ]
  },
  {
   "cell_type": "code",
   "execution_count": 112,
   "id": "f044c80a-fe99-486b-a9c9-405e06991822",
   "metadata": {
    "execution": {
     "iopub.execute_input": "2023-05-03T23:02:59.170364Z",
     "iopub.status.busy": "2023-05-03T23:02:59.170364Z",
     "iopub.status.idle": "2023-05-03T23:03:20.852179Z",
     "shell.execute_reply": "2023-05-03T23:03:20.851672Z",
     "shell.execute_reply.started": "2023-05-03T23:02:59.170364Z"
    },
    "tags": []
   },
   "outputs": [],
   "source": [
    "# для фильтрации пунктуации\n",
    "exclude = set(string.punctuation)\n",
    "# для приведения слов к начальной форме\n",
    "morpher = MorphAnalyzer()\n",
    "# для фильтрации стоп-слов\n",
    "sw = get_stop_words(\"ru\")\n",
    "\n",
    "def preprocess_text(line):\n",
    "    spls = \"\".join(i for i in str(line).strip() if i not in exclude).split()\n",
    "    spls = [morpher.parse(i.lower())[0].normal_form for i in spls]\n",
    "    spls = [i for i in spls if i not in sw and i != \"\"]\n",
    "    # также удалим отдельностоящие числа\n",
    "    spls = [i for i in spls if not i.isdigit()]\n",
    "    # и некоторые знаки пунктуации\n",
    "    spls = [re.sub(r'[]!\"$%&\\'()*+,/:;=#@?[\\\\^_`{|}~-]+', \"\", i) for i in spls]\n",
    "    return spls\n",
    "\n",
    "sentences = [preprocess_text(k) for k in product_dict.values()]"
   ]
  },
  {
   "cell_type": "code",
   "execution_count": 113,
   "id": "a1fbe4e1-904f-4bf4-a6fc-c418cc5b5216",
   "metadata": {
    "execution": {
     "iopub.execute_input": "2023-05-03T23:04:41.625321Z",
     "iopub.status.busy": "2023-05-03T23:04:41.625321Z",
     "iopub.status.idle": "2023-05-03T23:04:41.634839Z",
     "shell.execute_reply": "2023-05-03T23:04:41.634839Z",
     "shell.execute_reply.started": "2023-05-03T23:04:41.625321Z"
    }
   },
   "outputs": [
    {
     "data": {
      "text/html": [
       "<div>\n",
       "<style scoped>\n",
       "    .dataframe tbody tr th:only-of-type {\n",
       "        vertical-align: middle;\n",
       "    }\n",
       "\n",
       "    .dataframe tbody tr th {\n",
       "        vertical-align: top;\n",
       "    }\n",
       "\n",
       "    .dataframe thead th {\n",
       "        text-align: right;\n",
       "    }\n",
       "</style>\n",
       "<table border=\"1\" class=\"dataframe\">\n",
       "  <thead>\n",
       "    <tr style=\"text-align: right;\">\n",
       "      <th></th>\n",
       "      <th>product_id</th>\n",
       "      <th>product</th>\n",
       "    </tr>\n",
       "  </thead>\n",
       "  <tbody>\n",
       "    <tr>\n",
       "      <th>0</th>\n",
       "      <td>168308</td>\n",
       "      <td>(197312) Пакет-майка 25см х 45см 906</td>\n",
       "    </tr>\n",
       "    <tr>\n",
       "      <th>1</th>\n",
       "      <td>134832</td>\n",
       "      <td>(62448) Перекись водорода р-р наружн. 3% фл.по...</td>\n",
       "    </tr>\n",
       "    <tr>\n",
       "      <th>2</th>\n",
       "      <td>101384</td>\n",
       "      <td>(72183) Салициловая кислота р-р спирт 2% фл 40...</td>\n",
       "    </tr>\n",
       "    <tr>\n",
       "      <th>3</th>\n",
       "      <td>168570</td>\n",
       "      <td>(197309) Пакет 28см х 50см 906</td>\n",
       "    </tr>\n",
       "    <tr>\n",
       "      <th>4</th>\n",
       "      <td>146960</td>\n",
       "      <td>(111023) Пакет \"Аптека Озерки\" 28 х 35см 906</td>\n",
       "    </tr>\n",
       "    <tr>\n",
       "      <th>...</th>\n",
       "      <td>...</td>\n",
       "      <td>...</td>\n",
       "    </tr>\n",
       "    <tr>\n",
       "      <th>30413</th>\n",
       "      <td>193603</td>\n",
       "      <td>(110044169) название -1</td>\n",
       "    </tr>\n",
       "    <tr>\n",
       "      <th>30414</th>\n",
       "      <td>193484</td>\n",
       "      <td>(110050486) название -1</td>\n",
       "    </tr>\n",
       "    <tr>\n",
       "      <th>30415</th>\n",
       "      <td>192459</td>\n",
       "      <td>(110020427) название -1</td>\n",
       "    </tr>\n",
       "    <tr>\n",
       "      <th>30416</th>\n",
       "      <td>193510</td>\n",
       "      <td>(110047818) название -1</td>\n",
       "    </tr>\n",
       "    <tr>\n",
       "      <th>30417</th>\n",
       "      <td>192468</td>\n",
       "      <td>(110042981) название -1</td>\n",
       "    </tr>\n",
       "  </tbody>\n",
       "</table>\n",
       "<p>30418 rows × 2 columns</p>\n",
       "</div>"
      ],
      "text/plain": [
       "       product_id                                            product\n",
       "0          168308               (197312) Пакет-майка 25см х 45см 906\n",
       "1          134832  (62448) Перекись водорода р-р наружн. 3% фл.по...\n",
       "2          101384  (72183) Салициловая кислота р-р спирт 2% фл 40...\n",
       "3          168570                     (197309) Пакет 28см х 50см 906\n",
       "4          146960       (111023) Пакет \"Аптека Озерки\" 28 х 35см 906\n",
       "...           ...                                                ...\n",
       "30413      193603                            (110044169) название -1\n",
       "30414      193484                            (110050486) название -1\n",
       "30415      192459                            (110020427) название -1\n",
       "30416      193510                            (110047818) название -1\n",
       "30417      192468                            (110042981) название -1\n",
       "\n",
       "[30418 rows x 2 columns]"
      ]
     },
     "execution_count": 113,
     "metadata": {},
     "output_type": "execute_result"
    }
   ],
   "source": [
    "products_df"
   ]
  },
  {
   "cell_type": "code",
   "execution_count": 114,
   "id": "f2f1246f-1238-47f0-8557-8846eccd1c39",
   "metadata": {
    "execution": {
     "iopub.execute_input": "2023-05-03T23:04:48.184885Z",
     "iopub.status.busy": "2023-05-03T23:04:48.184885Z",
     "iopub.status.idle": "2023-05-03T23:04:48.194930Z",
     "shell.execute_reply": "2023-05-03T23:04:48.194930Z",
     "shell.execute_reply.started": "2023-05-03T23:04:48.184885Z"
    }
   },
   "outputs": [
    {
     "data": {
      "text/html": [
       "<div>\n",
       "<style scoped>\n",
       "    .dataframe tbody tr th:only-of-type {\n",
       "        vertical-align: middle;\n",
       "    }\n",
       "\n",
       "    .dataframe tbody tr th {\n",
       "        vertical-align: top;\n",
       "    }\n",
       "\n",
       "    .dataframe thead th {\n",
       "        text-align: right;\n",
       "    }\n",
       "</style>\n",
       "<table border=\"1\" class=\"dataframe\">\n",
       "  <thead>\n",
       "    <tr style=\"text-align: right;\">\n",
       "      <th></th>\n",
       "      <th>product_id</th>\n",
       "      <th>product</th>\n",
       "      <th>sentences</th>\n",
       "    </tr>\n",
       "  </thead>\n",
       "  <tbody>\n",
       "    <tr>\n",
       "      <th>0</th>\n",
       "      <td>168308</td>\n",
       "      <td>(197312) Пакет-майка 25см х 45см 906</td>\n",
       "      <td>[пакетмайк, 25см, х, 45см]</td>\n",
       "    </tr>\n",
       "    <tr>\n",
       "      <th>1</th>\n",
       "      <td>134832</td>\n",
       "      <td>(62448) Перекись водорода р-р наружн. 3% фл.по...</td>\n",
       "      <td>[перекись, водород, рр, наружн, флполимерна, 1...</td>\n",
       "    </tr>\n",
       "    <tr>\n",
       "      <th>2</th>\n",
       "      <td>101384</td>\n",
       "      <td>(72183) Салициловая кислота р-р спирт 2% фл 40...</td>\n",
       "      <td>[салициловый, кислота, рр, спирт, фл, 40мл, n1]</td>\n",
       "    </tr>\n",
       "    <tr>\n",
       "      <th>3</th>\n",
       "      <td>168570</td>\n",
       "      <td>(197309) Пакет 28см х 50см 906</td>\n",
       "      <td>[пакет, 28см, х, 50см]</td>\n",
       "    </tr>\n",
       "    <tr>\n",
       "      <th>4</th>\n",
       "      <td>146960</td>\n",
       "      <td>(111023) Пакет \"Аптека Озерки\" 28 х 35см 906</td>\n",
       "      <td>[пакет, аптека, озерко, х, 35см]</td>\n",
       "    </tr>\n",
       "  </tbody>\n",
       "</table>\n",
       "</div>"
      ],
      "text/plain": [
       "   product_id                                            product  \\\n",
       "0      168308               (197312) Пакет-майка 25см х 45см 906   \n",
       "1      134832  (62448) Перекись водорода р-р наружн. 3% фл.по...   \n",
       "2      101384  (72183) Салициловая кислота р-р спирт 2% фл 40...   \n",
       "3      168570                     (197309) Пакет 28см х 50см 906   \n",
       "4      146960       (111023) Пакет \"Аптека Озерки\" 28 х 35см 906   \n",
       "\n",
       "                                           sentences  \n",
       "0                         [пакетмайк, 25см, х, 45см]  \n",
       "1  [перекись, водород, рр, наружн, флполимерна, 1...  \n",
       "2    [салициловый, кислота, рр, спирт, фл, 40мл, n1]  \n",
       "3                             [пакет, 28см, х, 50см]  \n",
       "4                   [пакет, аптека, озерко, х, 35см]  "
      ]
     },
     "execution_count": 114,
     "metadata": {},
     "output_type": "execute_result"
    }
   ],
   "source": [
    "products_df['sentences'] = sentences\n",
    "products_df.head()"
   ]
  },
  {
   "cell_type": "code",
   "execution_count": 115,
   "id": "684fc26a-20e0-4645-af7a-c5fee4e77b72",
   "metadata": {
    "execution": {
     "iopub.execute_input": "2023-05-03T23:04:52.242353Z",
     "iopub.status.busy": "2023-05-03T23:04:52.242353Z",
     "iopub.status.idle": "2023-05-03T23:04:57.243640Z",
     "shell.execute_reply": "2023-05-03T23:04:57.243640Z",
     "shell.execute_reply.started": "2023-05-03T23:04:52.242353Z"
    }
   },
   "outputs": [
    {
     "data": {
      "text/plain": [
       "(787320, 845705)"
      ]
     },
     "execution_count": 115,
     "metadata": {},
     "output_type": "execute_result"
    }
   ],
   "source": [
    "# для построения эмбеддингов будем использовать FastText\n",
    "modelFT = FastText(sentences=sentences, vector_size=20, min_count=1, window=5)\n",
    "modelFT.build_vocab(sentences, update=True)\n",
    "modelFT.train(sentences, total_examples=len(sentences), epochs=5)"
   ]
  },
  {
   "cell_type": "code",
   "execution_count": 117,
   "id": "6432fa78-1cf2-472c-94fb-9cb795edd9c2",
   "metadata": {
    "execution": {
     "iopub.execute_input": "2023-05-03T23:06:25.570000Z",
     "iopub.status.busy": "2023-05-03T23:06:25.570000Z",
     "iopub.status.idle": "2023-05-03T23:06:25.576506Z",
     "shell.execute_reply": "2023-05-03T23:06:25.576506Z",
     "shell.execute_reply.started": "2023-05-03T23:06:25.570000Z"
    }
   },
   "outputs": [],
   "source": [
    "# в данных есть одна строка с item=-1, исключаем ее\n",
    "products_df = products_df[products_df['product_id'] >= 0]"
   ]
  },
  {
   "cell_type": "code",
   "execution_count": 118,
   "id": "8aa1222f-cc2d-4458-b2ea-c8ef34d07389",
   "metadata": {
    "execution": {
     "iopub.execute_input": "2023-05-03T23:06:29.085859Z",
     "iopub.status.busy": "2023-05-03T23:06:29.085859Z",
     "iopub.status.idle": "2023-05-03T23:06:33.026589Z",
     "shell.execute_reply": "2023-05-03T23:06:33.025583Z",
     "shell.execute_reply.started": "2023-05-03T23:06:29.085859Z"
    },
    "tags": []
   },
   "outputs": [
    {
     "data": {
      "application/vnd.jupyter.widget-view+json": {
       "model_id": "64d8dca81b0149f1bfdcd1eb6024ecd5",
       "version_major": 2,
       "version_minor": 0
      },
      "text/plain": [
       "  0%|          | 0/30417 [00:00<?, ?it/s]"
      ]
     },
     "metadata": {},
     "output_type": "display_data"
    },
    {
     "data": {
      "text/plain": [
       "True"
      ]
     },
     "execution_count": 118,
     "metadata": {},
     "output_type": "execute_result"
    }
   ],
   "source": [
    "# для нахождения k-ближайших соседей будем использовать библиотеку Annoy (Approximate Nearest Neighbors)\n",
    "# из-за ее быстроты в сравнении с реализацией knn из scikit-learn\n",
    "ft_index_names = annoy.AnnoyIndex(20 ,'angular')\n",
    "\n",
    "for i in tqdm(range(products_df.shape[0])):\n",
    "    # слова склеиваем в единое предложение для последуещей генерации вектора эмбеддинга для целого предложения\n",
    "    sentence = [' '.join(products_df['sentences'].iloc[i])]\n",
    "    # добавляем индекс item и значение вектора эмбеддинга для item\n",
    "    ft_index_names.add_item(products_df['product_id'].iloc[i], modelFT.wv[sentence][0])\n",
    "    \n",
    "ft_index_names.build(10)"
   ]
  },
  {
   "cell_type": "code",
   "execution_count": 119,
   "id": "30175ff2-520e-4f40-a8b9-a6cb0dd6a027",
   "metadata": {
    "execution": {
     "iopub.execute_input": "2023-05-03T23:06:34.708004Z",
     "iopub.status.busy": "2023-05-03T23:06:34.706860Z",
     "iopub.status.idle": "2023-05-03T23:06:34.723522Z",
     "shell.execute_reply": "2023-05-03T23:06:34.722566Z",
     "shell.execute_reply.started": "2023-05-03T23:06:34.708004Z"
    }
   },
   "outputs": [
    {
     "data": {
      "text/plain": [
       "[25910, 27054, 57786, 58831, 59600]"
      ]
     },
     "execution_count": 119,
     "metadata": {},
     "output_type": "execute_result"
    }
   ],
   "source": [
    "# проверяем\n",
    "ft_index_names.get_nns_by_item(192141, 5)"
   ]
  },
  {
   "cell_type": "code",
   "execution_count": null,
   "id": "91c91a6f-78f5-43fc-8ac0-f9bd8e29ffe5",
   "metadata": {},
   "outputs": [],
   "source": []
  },
  {
   "cell_type": "code",
   "execution_count": 122,
   "id": "1267efa8-cfa2-458c-a7c9-3d527062fbf2",
   "metadata": {
    "execution": {
     "iopub.execute_input": "2023-05-03T23:06:55.126891Z",
     "iopub.status.busy": "2023-05-03T23:06:55.126891Z",
     "iopub.status.idle": "2023-05-03T23:06:55.136490Z",
     "shell.execute_reply": "2023-05-03T23:06:55.136490Z",
     "shell.execute_reply.started": "2023-05-03T23:06:55.126891Z"
    },
    "tags": []
   },
   "outputs": [],
   "source": [
    "# функция подсчета MAP\n",
    "def compute_map_fasttext(test_data, n=5):\n",
    "    cum_sum = 0\n",
    "    for  i in tqdm(range(test_data.shape[0])):\n",
    "        y_true = test_data['shop_list'].iloc[i]\n",
    "        y_pred = ft_index_names.get_nns_by_item(y_true[0], n=5)\n",
    "        AP = average_precision(y_true, y_pred)\n",
    "        cum_sum += AP\n",
    "    MAP = cum_sum / test_data.shape[0]\n",
    "    return MAP"
   ]
  },
  {
   "cell_type": "code",
   "execution_count": 123,
   "id": "b50c8282-2308-4cb1-bc1d-972501515aa1",
   "metadata": {
    "execution": {
     "iopub.execute_input": "2023-05-03T23:06:56.617949Z",
     "iopub.status.busy": "2023-05-03T23:06:56.617949Z",
     "iopub.status.idle": "2023-05-03T23:07:28.487000Z",
     "shell.execute_reply": "2023-05-03T23:07:28.486493Z",
     "shell.execute_reply.started": "2023-05-03T23:06:56.617949Z"
    },
    "tags": []
   },
   "outputs": [
    {
     "data": {
      "application/vnd.jupyter.widget-view+json": {
       "model_id": "9b6981d77a7341a5b9bb7605e838d67b",
       "version_major": 2,
       "version_minor": 0
      },
      "text/plain": [
       "  0%|          | 0/2001820 [00:00<?, ?it/s]"
      ]
     },
     "metadata": {},
     "output_type": "display_data"
    },
    {
     "data": {
      "text/plain": [
       "0.0008517249303134148"
      ]
     },
     "execution_count": 123,
     "metadata": {},
     "output_type": "execute_result"
    }
   ],
   "source": [
    "compute_map_fasttext(s_ds)"
   ]
  },
  {
   "cell_type": "markdown",
   "id": "37e4c873-fc7c-4f0d-905c-aecaf656e7f6",
   "metadata": {},
   "source": [
    "Результаты оказались значительно хуже других подходов, что вполне объяснимо: выдавать рекомендации на основе близости лекарств по названиям довольно странная затея."
   ]
  }
 ],
 "metadata": {
  "kernelspec": {
   "display_name": "Python 3 (ipykernel)",
   "language": "python",
   "name": "python3"
  },
  "language_info": {
   "codemirror_mode": {
    "name": "ipython",
    "version": 3
   },
   "file_extension": ".py",
   "mimetype": "text/x-python",
   "name": "python",
   "nbconvert_exporter": "python",
   "pygments_lexer": "ipython3",
   "version": "3.9.16"
  }
 },
 "nbformat": 4,
 "nbformat_minor": 5
}
