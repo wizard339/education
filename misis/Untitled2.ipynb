{
  "cells": [
    {
      "cell_type": "markdown",
      "metadata": {
        "id": "view-in-github",
        "colab_type": "text"
      },
      "source": [
        "<a href=\"https://colab.research.google.com/github/wizard339/education/blob/main/misis/Untitled2.ipynb\" target=\"_parent\"><img src=\"https://colab.research.google.com/assets/colab-badge.svg\" alt=\"Open In Colab\"/></a>"
      ]
    },
    {
      "cell_type": "code",
      "execution_count": 34,
      "id": "00aae274-ceaf-48ff-a998-5a0c9f7466e5",
      "metadata": {
        "execution": {
          "iopub.execute_input": "2023-04-26T04:17:16.965317Z",
          "iopub.status.busy": "2023-04-26T04:17:16.965317Z",
          "iopub.status.idle": "2023-04-26T04:17:18.270153Z",
          "shell.execute_reply": "2023-04-26T04:17:18.270153Z",
          "shell.execute_reply.started": "2023-04-26T04:17:16.965317Z"
        },
        "tags": [],
        "id": "00aae274-ceaf-48ff-a998-5a0c9f7466e5"
      },
      "outputs": [],
      "source": [
        "import os\n",
        "import pandas as pd\n",
        "import numpy as np\n",
        "# import dask\n",
        "# import pickle\n",
        "# import dask.dataframe as dd\n",
        "\n",
        "\n",
        "import matplotlib.pyplot as plt\n",
        "from tqdm.notebook import tqdm"
      ]
    },
    {
      "cell_type": "code",
      "execution_count": null,
      "id": "9dad7b1b-4831-4196-9785-e954fa3e7c69",
      "metadata": {
        "collapsed": true,
        "execution": {
          "iopub.execute_input": "2023-04-25T18:20:15.398200Z",
          "iopub.status.busy": "2023-04-25T18:20:15.397201Z",
          "iopub.status.idle": "2023-04-25T18:20:18.988135Z",
          "shell.execute_reply": "2023-04-25T18:20:18.988135Z",
          "shell.execute_reply.started": "2023-04-25T18:20:15.398200Z"
        },
        "jupyter": {
          "outputs_hidden": true
        },
        "tags": [],
        "id": "9dad7b1b-4831-4196-9785-e954fa3e7c69",
        "outputId": "259a223b-b352-4822-b636-4306a8c7c3ec"
      },
      "outputs": [
        {
          "name": "stdout",
          "output_type": "stream",
          "text": [
            "Collecting dask\n",
            "  Downloading dask-2023.4.0-py3-none-any.whl (1.2 MB)\n",
            "     ---------------------------------------- 0.0/1.2 MB ? eta -:--:--\n",
            "     - -------------------------------------- 0.0/1.2 MB 960.0 kB/s eta 0:00:02\n",
            "     ----- ---------------------------------- 0.2/1.2 MB 2.1 MB/s eta 0:00:01\n",
            "     --------------- ------------------------ 0.5/1.2 MB 3.5 MB/s eta 0:00:01\n",
            "     ------------------------- -------------- 0.7/1.2 MB 4.2 MB/s eta 0:00:01\n",
            "     ---------------------------------------- 1.2/1.2 MB 5.3 MB/s eta 0:00:00\n",
            "Requirement already satisfied: toolz>=0.8.2 in c:\\programdata\\anaconda3\\envs\\pytorch_1\\lib\\site-packages (from dask) (0.12.0)\n",
            "Requirement already satisfied: packaging>=20.0 in c:\\programdata\\anaconda3\\envs\\pytorch_1\\lib\\site-packages (from dask) (23.0)\n",
            "Requirement already satisfied: fsspec>=0.6.0 in c:\\programdata\\anaconda3\\envs\\pytorch_1\\lib\\site-packages (from dask) (2023.3.0)\n",
            "Requirement already satisfied: pyyaml>=5.3.1 in c:\\programdata\\anaconda3\\envs\\pytorch_1\\lib\\site-packages (from dask) (6.0)\n",
            "Requirement already satisfied: click>=7.0 in c:\\programdata\\anaconda3\\envs\\pytorch_1\\lib\\site-packages (from dask) (8.0.4)\n",
            "Collecting partd>=1.2.0\n",
            "  Downloading partd-1.4.0-py3-none-any.whl (18 kB)\n",
            "Requirement already satisfied: importlib-metadata>=4.13.0 in c:\\programdata\\anaconda3\\envs\\pytorch_1\\lib\\site-packages (from dask) (6.0.0)\n",
            "Collecting cloudpickle>=1.1.1\n",
            "  Downloading cloudpickle-2.2.1-py3-none-any.whl (25 kB)\n",
            "Requirement already satisfied: colorama in c:\\programdata\\anaconda3\\envs\\pytorch_1\\lib\\site-packages (from click>=7.0->dask) (0.4.6)\n",
            "Requirement already satisfied: zipp>=0.5 in c:\\programdata\\anaconda3\\envs\\pytorch_1\\lib\\site-packages (from importlib-metadata>=4.13.0->dask) (3.11.0)\n",
            "Collecting locket\n",
            "  Downloading locket-1.0.0-py2.py3-none-any.whl (4.4 kB)\n",
            "Installing collected packages: locket, cloudpickle, partd, dask\n",
            "Successfully installed cloudpickle-2.2.1 dask-2023.4.0 locket-1.0.0 partd-1.4.0\n"
          ]
        },
        {
          "name": "stderr",
          "output_type": "stream",
          "text": [
            "WARNING: Ignoring invalid distribution -pencv-python-headless (c:\\users\\home\\appdata\\roaming\\python\\python39\\site-packages)\n",
            "WARNING: Ignoring invalid distribution -orch (c:\\programdata\\anaconda3\\envs\\pytorch_1\\lib\\site-packages)\n",
            "WARNING: Ignoring invalid distribution -pencv-python-headless (c:\\users\\home\\appdata\\roaming\\python\\python39\\site-packages)\n",
            "WARNING: Ignoring invalid distribution -orch (c:\\programdata\\anaconda3\\envs\\pytorch_1\\lib\\site-packages)\n",
            "WARNING: Ignoring invalid distribution -pencv-python-headless (c:\\users\\home\\appdata\\roaming\\python\\python39\\site-packages)\n",
            "WARNING: Ignoring invalid distribution -orch (c:\\programdata\\anaconda3\\envs\\pytorch_1\\lib\\site-packages)\n",
            "WARNING: Ignoring invalid distribution -orch (c:\\programdata\\anaconda3\\envs\\pytorch_1\\lib\\site-packages)\n",
            "WARNING: Ignoring invalid distribution -orch (c:\\programdata\\anaconda3\\envs\\pytorch_1\\lib\\site-packages)\n",
            "WARNING: Ignoring invalid distribution -orch (c:\\programdata\\anaconda3\\envs\\pytorch_1\\lib\\site-packages)\n",
            "WARNING: Ignoring invalid distribution -orch (c:\\programdata\\anaconda3\\envs\\pytorch_1\\lib\\site-packages)\n",
            "WARNING: Ignoring invalid distribution -pencv-python-headless (c:\\users\\home\\appdata\\roaming\\python\\python39\\site-packages)\n",
            "WARNING: Ignoring invalid distribution -orch (c:\\programdata\\anaconda3\\envs\\pytorch_1\\lib\\site-packages)\n",
            "WARNING: Ignoring invalid distribution -pencv-python-headless (c:\\users\\home\\appdata\\roaming\\python\\python39\\site-packages)\n",
            "WARNING: Ignoring invalid distribution -orch (c:\\programdata\\anaconda3\\envs\\pytorch_1\\lib\\site-packages)\n",
            "WARNING: Ignoring invalid distribution -pencv-python-headless (c:\\users\\home\\appdata\\roaming\\python\\python39\\site-packages)\n",
            "WARNING: Ignoring invalid distribution -orch (c:\\programdata\\anaconda3\\envs\\pytorch_1\\lib\\site-packages)\n"
          ]
        }
      ],
      "source": [
        "# !pip install dask"
      ]
    },
    {
      "cell_type": "code",
      "execution_count": null,
      "id": "f06d56ea-8356-4cfc-960b-aecc42a46def",
      "metadata": {
        "execution": {
          "iopub.execute_input": "2023-04-26T04:17:20.795006Z",
          "iopub.status.busy": "2023-04-26T04:17:20.795006Z",
          "iopub.status.idle": "2023-04-26T04:17:20.812011Z",
          "shell.execute_reply": "2023-04-26T04:17:20.812011Z",
          "shell.execute_reply.started": "2023-04-26T04:17:20.795006Z"
        },
        "tags": [],
        "id": "f06d56ea-8356-4cfc-960b-aecc42a46def",
        "outputId": "e59f9442-4c01-40e1-c5e5-75cfb54dabc7"
      },
      "outputs": [
        {
          "name": "stdout",
          "output_type": "stream",
          "text": [
            "['.ipynb_checkpoints', 'products.csv', 'Product_dict.pkl', 'Untitled.ipynb', 'чековые данные.csv']\n"
          ]
        }
      ],
      "source": [
        "print(os.listdir())"
      ]
    },
    {
      "cell_type": "code",
      "execution_count": null,
      "id": "af443212-bdf0-440c-bbd6-23d119ac1e0b",
      "metadata": {
        "execution": {
          "iopub.execute_input": "2023-04-25T17:00:10.477715Z",
          "iopub.status.busy": "2023-04-25T17:00:10.477715Z",
          "iopub.status.idle": "2023-04-25T17:00:10.509569Z",
          "shell.execute_reply": "2023-04-25T17:00:10.508570Z",
          "shell.execute_reply.started": "2023-04-25T17:00:10.477715Z"
        },
        "tags": [],
        "id": "af443212-bdf0-440c-bbd6-23d119ac1e0b"
      },
      "outputs": [],
      "source": [
        "# with open('Product_dict.pkl', 'rb') as f:\n",
        "#     product_dict = pickle.load(f)"
      ]
    },
    {
      "cell_type": "code",
      "execution_count": 2,
      "id": "6728a76d-dc4a-4efa-abc6-e55e8f9521c4",
      "metadata": {
        "execution": {
          "iopub.execute_input": "2023-04-25T18:33:25.446358Z",
          "iopub.status.busy": "2023-04-25T18:33:25.446358Z",
          "iopub.status.idle": "2023-04-25T18:33:25.513969Z",
          "shell.execute_reply": "2023-04-25T18:33:25.513969Z",
          "shell.execute_reply.started": "2023-04-25T18:33:25.446358Z"
        },
        "tags": [],
        "colab": {
          "base_uri": "https://localhost:8080/",
          "height": 206
        },
        "id": "6728a76d-dc4a-4efa-abc6-e55e8f9521c4",
        "outputId": "6426632a-268d-4837-9de8-eccefce02db2"
      },
      "outputs": [
        {
          "output_type": "execute_result",
          "data": {
            "text/plain": [
              "   product_id                                            product\n",
              "0      168308               (197312) Пакет-майка 25см х 45см 906\n",
              "1      134832  (62448) Перекись водорода р-р наружн. 3% фл.по...\n",
              "2      101384  (72183) Салициловая кислота р-р спирт 2% фл 40...\n",
              "3      168570                     (197309) Пакет 28см х 50см 906\n",
              "4      146960       (111023) Пакет \"Аптека Озерки\" 28 х 35см 906"
            ],
            "text/html": [
              "\n",
              "  <div id=\"df-b4ebf7e5-5df2-45d7-81bd-a2ffedb2578d\">\n",
              "    <div class=\"colab-df-container\">\n",
              "      <div>\n",
              "<style scoped>\n",
              "    .dataframe tbody tr th:only-of-type {\n",
              "        vertical-align: middle;\n",
              "    }\n",
              "\n",
              "    .dataframe tbody tr th {\n",
              "        vertical-align: top;\n",
              "    }\n",
              "\n",
              "    .dataframe thead th {\n",
              "        text-align: right;\n",
              "    }\n",
              "</style>\n",
              "<table border=\"1\" class=\"dataframe\">\n",
              "  <thead>\n",
              "    <tr style=\"text-align: right;\">\n",
              "      <th></th>\n",
              "      <th>product_id</th>\n",
              "      <th>product</th>\n",
              "    </tr>\n",
              "  </thead>\n",
              "  <tbody>\n",
              "    <tr>\n",
              "      <th>0</th>\n",
              "      <td>168308</td>\n",
              "      <td>(197312) Пакет-майка 25см х 45см 906</td>\n",
              "    </tr>\n",
              "    <tr>\n",
              "      <th>1</th>\n",
              "      <td>134832</td>\n",
              "      <td>(62448) Перекись водорода р-р наружн. 3% фл.по...</td>\n",
              "    </tr>\n",
              "    <tr>\n",
              "      <th>2</th>\n",
              "      <td>101384</td>\n",
              "      <td>(72183) Салициловая кислота р-р спирт 2% фл 40...</td>\n",
              "    </tr>\n",
              "    <tr>\n",
              "      <th>3</th>\n",
              "      <td>168570</td>\n",
              "      <td>(197309) Пакет 28см х 50см 906</td>\n",
              "    </tr>\n",
              "    <tr>\n",
              "      <th>4</th>\n",
              "      <td>146960</td>\n",
              "      <td>(111023) Пакет \"Аптека Озерки\" 28 х 35см 906</td>\n",
              "    </tr>\n",
              "  </tbody>\n",
              "</table>\n",
              "</div>\n",
              "      <button class=\"colab-df-convert\" onclick=\"convertToInteractive('df-b4ebf7e5-5df2-45d7-81bd-a2ffedb2578d')\"\n",
              "              title=\"Convert this dataframe to an interactive table.\"\n",
              "              style=\"display:none;\">\n",
              "        \n",
              "  <svg xmlns=\"http://www.w3.org/2000/svg\" height=\"24px\"viewBox=\"0 0 24 24\"\n",
              "       width=\"24px\">\n",
              "    <path d=\"M0 0h24v24H0V0z\" fill=\"none\"/>\n",
              "    <path d=\"M18.56 5.44l.94 2.06.94-2.06 2.06-.94-2.06-.94-.94-2.06-.94 2.06-2.06.94zm-11 1L8.5 8.5l.94-2.06 2.06-.94-2.06-.94L8.5 2.5l-.94 2.06-2.06.94zm10 10l.94 2.06.94-2.06 2.06-.94-2.06-.94-.94-2.06-.94 2.06-2.06.94z\"/><path d=\"M17.41 7.96l-1.37-1.37c-.4-.4-.92-.59-1.43-.59-.52 0-1.04.2-1.43.59L10.3 9.45l-7.72 7.72c-.78.78-.78 2.05 0 2.83L4 21.41c.39.39.9.59 1.41.59.51 0 1.02-.2 1.41-.59l7.78-7.78 2.81-2.81c.8-.78.8-2.07 0-2.86zM5.41 20L4 18.59l7.72-7.72 1.47 1.35L5.41 20z\"/>\n",
              "  </svg>\n",
              "      </button>\n",
              "      \n",
              "  <style>\n",
              "    .colab-df-container {\n",
              "      display:flex;\n",
              "      flex-wrap:wrap;\n",
              "      gap: 12px;\n",
              "    }\n",
              "\n",
              "    .colab-df-convert {\n",
              "      background-color: #E8F0FE;\n",
              "      border: none;\n",
              "      border-radius: 50%;\n",
              "      cursor: pointer;\n",
              "      display: none;\n",
              "      fill: #1967D2;\n",
              "      height: 32px;\n",
              "      padding: 0 0 0 0;\n",
              "      width: 32px;\n",
              "    }\n",
              "\n",
              "    .colab-df-convert:hover {\n",
              "      background-color: #E2EBFA;\n",
              "      box-shadow: 0px 1px 2px rgba(60, 64, 67, 0.3), 0px 1px 3px 1px rgba(60, 64, 67, 0.15);\n",
              "      fill: #174EA6;\n",
              "    }\n",
              "\n",
              "    [theme=dark] .colab-df-convert {\n",
              "      background-color: #3B4455;\n",
              "      fill: #D2E3FC;\n",
              "    }\n",
              "\n",
              "    [theme=dark] .colab-df-convert:hover {\n",
              "      background-color: #434B5C;\n",
              "      box-shadow: 0px 1px 3px 1px rgba(0, 0, 0, 0.15);\n",
              "      filter: drop-shadow(0px 1px 2px rgba(0, 0, 0, 0.3));\n",
              "      fill: #FFFFFF;\n",
              "    }\n",
              "  </style>\n",
              "\n",
              "      <script>\n",
              "        const buttonEl =\n",
              "          document.querySelector('#df-b4ebf7e5-5df2-45d7-81bd-a2ffedb2578d button.colab-df-convert');\n",
              "        buttonEl.style.display =\n",
              "          google.colab.kernel.accessAllowed ? 'block' : 'none';\n",
              "\n",
              "        async function convertToInteractive(key) {\n",
              "          const element = document.querySelector('#df-b4ebf7e5-5df2-45d7-81bd-a2ffedb2578d');\n",
              "          const dataTable =\n",
              "            await google.colab.kernel.invokeFunction('convertToInteractive',\n",
              "                                                     [key], {});\n",
              "          if (!dataTable) return;\n",
              "\n",
              "          const docLinkHtml = 'Like what you see? Visit the ' +\n",
              "            '<a target=\"_blank\" href=https://colab.research.google.com/notebooks/data_table.ipynb>data table notebook</a>'\n",
              "            + ' to learn more about interactive tables.';\n",
              "          element.innerHTML = '';\n",
              "          dataTable['output_type'] = 'display_data';\n",
              "          await google.colab.output.renderOutput(dataTable, element);\n",
              "          const docLink = document.createElement('div');\n",
              "          docLink.innerHTML = docLinkHtml;\n",
              "          element.appendChild(docLink);\n",
              "        }\n",
              "      </script>\n",
              "    </div>\n",
              "  </div>\n",
              "  "
            ]
          },
          "metadata": {},
          "execution_count": 2
        }
      ],
      "source": [
        "products_df = pd.read_csv('products.csv')\n",
        "products_df.head()"
      ]
    },
    {
      "cell_type": "code",
      "execution_count": 3,
      "id": "309e27db-d7cc-49ab-be97-7e05e1930073",
      "metadata": {
        "execution": {
          "iopub.execute_input": "2023-04-25T18:33:28.135430Z",
          "iopub.status.busy": "2023-04-25T18:33:28.135430Z",
          "iopub.status.idle": "2023-04-25T18:33:28.148449Z",
          "shell.execute_reply": "2023-04-25T18:33:28.147943Z",
          "shell.execute_reply.started": "2023-04-25T18:33:28.135430Z"
        },
        "tags": [],
        "colab": {
          "base_uri": "https://localhost:8080/"
        },
        "id": "309e27db-d7cc-49ab-be97-7e05e1930073",
        "outputId": "d5ba5a24-f54a-4bbe-9315-fe91dc4a99d0"
      },
      "outputs": [
        {
          "output_type": "execute_result",
          "data": {
            "text/plain": [
              "(30418, 2)"
            ]
          },
          "metadata": {},
          "execution_count": 3
        }
      ],
      "source": [
        "products_df.shape"
      ]
    },
    {
      "cell_type": "code",
      "execution_count": 9,
      "id": "ecf5fac0-c353-40e3-a5fc-e782ffae6592",
      "metadata": {
        "execution": {
          "iopub.execute_input": "2023-04-26T04:20:47.908994Z",
          "iopub.status.busy": "2023-04-26T04:20:47.908994Z",
          "iopub.status.idle": "2023-04-26T04:21:09.679357Z",
          "shell.execute_reply": "2023-04-26T04:21:09.679357Z",
          "shell.execute_reply.started": "2023-04-26T04:20:47.908994Z"
        },
        "tags": [],
        "id": "ecf5fac0-c353-40e3-a5fc-e782ffae6592"
      },
      "outputs": [],
      "source": [
        "# receipt_df = pd.read_csv('чековые данные.csv', low_memory=False, skiprows=[20000001, 20000002, 20000003])\n",
        "receipt_df = pd.read_csv('data.csv', low_memory=False, index_col=[0])"
      ]
    },
    {
      "cell_type": "code",
      "execution_count": 10,
      "id": "c64066a4-5ed7-4197-a652-a64a5996303f",
      "metadata": {
        "execution": {
          "iopub.execute_input": "2023-04-26T04:21:16.977715Z",
          "iopub.status.busy": "2023-04-26T04:21:16.977715Z",
          "iopub.status.idle": "2023-04-26T04:21:16.989226Z",
          "shell.execute_reply": "2023-04-26T04:21:16.989226Z",
          "shell.execute_reply.started": "2023-04-26T04:21:16.977715Z"
        },
        "tags": [],
        "colab": {
          "base_uri": "https://localhost:8080/",
          "height": 206
        },
        "id": "c64066a4-5ed7-4197-a652-a64a5996303f",
        "outputId": "b8c7fbc1-ad1f-4790-aa11-16f9c397416b"
      },
      "outputs": [
        {
          "output_type": "execute_result",
          "data": {
            "text/plain": [
              "      sale_date_date  contact_id  shop_id  product_id  \\\n",
              "99995     2018-12-07      201801      321      135428   \n",
              "99996     2018-12-07     2610369      907      143610   \n",
              "99997     2018-12-07     2454531      596      150460   \n",
              "99998     2018-12-07     2025602      110      148081   \n",
              "99999     2018-12-07      336647      849       62393   \n",
              "\n",
              "                                                    name  \\\n",
              "99995       (64220) Фокусин капс.с модиф.высв. 0,4мг №90   \n",
              "99996              (24701) Тирозол табл. п.о. 10 мг. №50   \n",
              "99997  (14295) Деринат (натрия дезоксирибонуклеат) р-...   \n",
              "99998                        (39201) Хофитол тб 0.2г N60   \n",
              "99999  (115435) Бронхо Веда леденцы на травяной основ...   \n",
              "\n",
              "       product_sub_category_id  product_category_id  brand_id quantity  \n",
              "99995                      627                  144        -1     1,00  \n",
              "99996                      459                  108        -1     1,00  \n",
              "99997                      583                  130        -1     1,00  \n",
              "99998                      595                  135        -1     1,00  \n",
              "99999                      700                  162      2883     1,00  "
            ],
            "text/html": [
              "\n",
              "  <div id=\"df-d97a1020-6fac-4b50-a2e7-4b6ee6680984\">\n",
              "    <div class=\"colab-df-container\">\n",
              "      <div>\n",
              "<style scoped>\n",
              "    .dataframe tbody tr th:only-of-type {\n",
              "        vertical-align: middle;\n",
              "    }\n",
              "\n",
              "    .dataframe tbody tr th {\n",
              "        vertical-align: top;\n",
              "    }\n",
              "\n",
              "    .dataframe thead th {\n",
              "        text-align: right;\n",
              "    }\n",
              "</style>\n",
              "<table border=\"1\" class=\"dataframe\">\n",
              "  <thead>\n",
              "    <tr style=\"text-align: right;\">\n",
              "      <th></th>\n",
              "      <th>sale_date_date</th>\n",
              "      <th>contact_id</th>\n",
              "      <th>shop_id</th>\n",
              "      <th>product_id</th>\n",
              "      <th>name</th>\n",
              "      <th>product_sub_category_id</th>\n",
              "      <th>product_category_id</th>\n",
              "      <th>brand_id</th>\n",
              "      <th>quantity</th>\n",
              "    </tr>\n",
              "  </thead>\n",
              "  <tbody>\n",
              "    <tr>\n",
              "      <th>99995</th>\n",
              "      <td>2018-12-07</td>\n",
              "      <td>201801</td>\n",
              "      <td>321</td>\n",
              "      <td>135428</td>\n",
              "      <td>(64220) Фокусин капс.с модиф.высв. 0,4мг №90</td>\n",
              "      <td>627</td>\n",
              "      <td>144</td>\n",
              "      <td>-1</td>\n",
              "      <td>1,00</td>\n",
              "    </tr>\n",
              "    <tr>\n",
              "      <th>99996</th>\n",
              "      <td>2018-12-07</td>\n",
              "      <td>2610369</td>\n",
              "      <td>907</td>\n",
              "      <td>143610</td>\n",
              "      <td>(24701) Тирозол табл. п.о. 10 мг. №50</td>\n",
              "      <td>459</td>\n",
              "      <td>108</td>\n",
              "      <td>-1</td>\n",
              "      <td>1,00</td>\n",
              "    </tr>\n",
              "    <tr>\n",
              "      <th>99997</th>\n",
              "      <td>2018-12-07</td>\n",
              "      <td>2454531</td>\n",
              "      <td>596</td>\n",
              "      <td>150460</td>\n",
              "      <td>(14295) Деринат (натрия дезоксирибонуклеат) р-...</td>\n",
              "      <td>583</td>\n",
              "      <td>130</td>\n",
              "      <td>-1</td>\n",
              "      <td>1,00</td>\n",
              "    </tr>\n",
              "    <tr>\n",
              "      <th>99998</th>\n",
              "      <td>2018-12-07</td>\n",
              "      <td>2025602</td>\n",
              "      <td>110</td>\n",
              "      <td>148081</td>\n",
              "      <td>(39201) Хофитол тб 0.2г N60</td>\n",
              "      <td>595</td>\n",
              "      <td>135</td>\n",
              "      <td>-1</td>\n",
              "      <td>1,00</td>\n",
              "    </tr>\n",
              "    <tr>\n",
              "      <th>99999</th>\n",
              "      <td>2018-12-07</td>\n",
              "      <td>336647</td>\n",
              "      <td>849</td>\n",
              "      <td>62393</td>\n",
              "      <td>(115435) Бронхо Веда леденцы на травяной основ...</td>\n",
              "      <td>700</td>\n",
              "      <td>162</td>\n",
              "      <td>2883</td>\n",
              "      <td>1,00</td>\n",
              "    </tr>\n",
              "  </tbody>\n",
              "</table>\n",
              "</div>\n",
              "      <button class=\"colab-df-convert\" onclick=\"convertToInteractive('df-d97a1020-6fac-4b50-a2e7-4b6ee6680984')\"\n",
              "              title=\"Convert this dataframe to an interactive table.\"\n",
              "              style=\"display:none;\">\n",
              "        \n",
              "  <svg xmlns=\"http://www.w3.org/2000/svg\" height=\"24px\"viewBox=\"0 0 24 24\"\n",
              "       width=\"24px\">\n",
              "    <path d=\"M0 0h24v24H0V0z\" fill=\"none\"/>\n",
              "    <path d=\"M18.56 5.44l.94 2.06.94-2.06 2.06-.94-2.06-.94-.94-2.06-.94 2.06-2.06.94zm-11 1L8.5 8.5l.94-2.06 2.06-.94-2.06-.94L8.5 2.5l-.94 2.06-2.06.94zm10 10l.94 2.06.94-2.06 2.06-.94-2.06-.94-.94-2.06-.94 2.06-2.06.94z\"/><path d=\"M17.41 7.96l-1.37-1.37c-.4-.4-.92-.59-1.43-.59-.52 0-1.04.2-1.43.59L10.3 9.45l-7.72 7.72c-.78.78-.78 2.05 0 2.83L4 21.41c.39.39.9.59 1.41.59.51 0 1.02-.2 1.41-.59l7.78-7.78 2.81-2.81c.8-.78.8-2.07 0-2.86zM5.41 20L4 18.59l7.72-7.72 1.47 1.35L5.41 20z\"/>\n",
              "  </svg>\n",
              "      </button>\n",
              "      \n",
              "  <style>\n",
              "    .colab-df-container {\n",
              "      display:flex;\n",
              "      flex-wrap:wrap;\n",
              "      gap: 12px;\n",
              "    }\n",
              "\n",
              "    .colab-df-convert {\n",
              "      background-color: #E8F0FE;\n",
              "      border: none;\n",
              "      border-radius: 50%;\n",
              "      cursor: pointer;\n",
              "      display: none;\n",
              "      fill: #1967D2;\n",
              "      height: 32px;\n",
              "      padding: 0 0 0 0;\n",
              "      width: 32px;\n",
              "    }\n",
              "\n",
              "    .colab-df-convert:hover {\n",
              "      background-color: #E2EBFA;\n",
              "      box-shadow: 0px 1px 2px rgba(60, 64, 67, 0.3), 0px 1px 3px 1px rgba(60, 64, 67, 0.15);\n",
              "      fill: #174EA6;\n",
              "    }\n",
              "\n",
              "    [theme=dark] .colab-df-convert {\n",
              "      background-color: #3B4455;\n",
              "      fill: #D2E3FC;\n",
              "    }\n",
              "\n",
              "    [theme=dark] .colab-df-convert:hover {\n",
              "      background-color: #434B5C;\n",
              "      box-shadow: 0px 1px 3px 1px rgba(0, 0, 0, 0.15);\n",
              "      filter: drop-shadow(0px 1px 2px rgba(0, 0, 0, 0.3));\n",
              "      fill: #FFFFFF;\n",
              "    }\n",
              "  </style>\n",
              "\n",
              "      <script>\n",
              "        const buttonEl =\n",
              "          document.querySelector('#df-d97a1020-6fac-4b50-a2e7-4b6ee6680984 button.colab-df-convert');\n",
              "        buttonEl.style.display =\n",
              "          google.colab.kernel.accessAllowed ? 'block' : 'none';\n",
              "\n",
              "        async function convertToInteractive(key) {\n",
              "          const element = document.querySelector('#df-d97a1020-6fac-4b50-a2e7-4b6ee6680984');\n",
              "          const dataTable =\n",
              "            await google.colab.kernel.invokeFunction('convertToInteractive',\n",
              "                                                     [key], {});\n",
              "          if (!dataTable) return;\n",
              "\n",
              "          const docLinkHtml = 'Like what you see? Visit the ' +\n",
              "            '<a target=\"_blank\" href=https://colab.research.google.com/notebooks/data_table.ipynb>data table notebook</a>'\n",
              "            + ' to learn more about interactive tables.';\n",
              "          element.innerHTML = '';\n",
              "          dataTable['output_type'] = 'display_data';\n",
              "          await google.colab.output.renderOutput(dataTable, element);\n",
              "          const docLink = document.createElement('div');\n",
              "          docLink.innerHTML = docLinkHtml;\n",
              "          element.appendChild(docLink);\n",
              "        }\n",
              "      </script>\n",
              "    </div>\n",
              "  </div>\n",
              "  "
            ]
          },
          "metadata": {},
          "execution_count": 10
        }
      ],
      "source": [
        "receipt_df.tail()"
      ]
    },
    {
      "cell_type": "markdown",
      "source": [
        "# тест1"
      ],
      "metadata": {
        "id": "c-m5xW-aWJYQ"
      },
      "id": "c-m5xW-aWJYQ"
    },
    {
      "cell_type": "code",
      "source": [
        "user_map_to_arti = {i[1]: i[0] for i in enumerate(receipt_df['contact_id'].unique())}\n",
        "user_map_to_real = {i[0]: i[1] for i in enumerate(receipt_df['contact_id'].unique())}"
      ],
      "metadata": {
        "id": "Zxg2Uh9J3aWe"
      },
      "id": "Zxg2Uh9J3aWe",
      "execution_count": 71,
      "outputs": []
    },
    {
      "cell_type": "code",
      "source": [
        "shop_map_to_arti = {i[1]: i[0] for i in enumerate(receipt_df['shop_id'].unique())}\n",
        "shop_map_to_real = {i[0]: i[1] for i in enumerate(receipt_df['shop_id'].unique())}"
      ],
      "metadata": {
        "id": "kzKAfwNX9jGE"
      },
      "id": "kzKAfwNX9jGE",
      "execution_count": 74,
      "outputs": []
    },
    {
      "cell_type": "code",
      "source": [
        "item_map_to_arti = {i[1]: i[0] for i in enumerate(receipt_df['product_id'].unique())}\n",
        "item_map_to_real = {i[0]: i[1] for i in enumerate(receipt_df['product_id'].unique())}"
      ],
      "metadata": {
        "id": "uCwxXqyL9uFT"
      },
      "id": "uCwxXqyL9uFT",
      "execution_count": 76,
      "outputs": []
    },
    {
      "cell_type": "code",
      "source": [
        "receipt_df['contact_id'] = [user_map_to_arti[user] for user in receipt_df['contact_id']]"
      ],
      "metadata": {
        "id": "y8J7oHph-U4C"
      },
      "id": "y8J7oHph-U4C",
      "execution_count": 78,
      "outputs": []
    },
    {
      "cell_type": "code",
      "source": [
        "receipt_df['shop_id'] = [shop_map_to_arti[shop] for shop in receipt_df['shop_id']]"
      ],
      "metadata": {
        "id": "zWQuCEF3-4P3"
      },
      "id": "zWQuCEF3-4P3",
      "execution_count": 80,
      "outputs": []
    },
    {
      "cell_type": "code",
      "source": [
        "receipt_df['product_id'] = [item_map_to_arti[item] for item in receipt_df['product_id']]"
      ],
      "metadata": {
        "id": "HZCRa7Dq-_Yp"
      },
      "id": "HZCRa7Dq-_Yp",
      "execution_count": 82,
      "outputs": []
    },
    {
      "cell_type": "code",
      "source": [
        "receipt_df.columns = ['sale_date', 'user', 'shop', 'item', 'name',\n",
        "       'item_sub_cat', 'item_cat', 'brand',\n",
        "       'quantity']"
      ],
      "metadata": {
        "id": "-giTYnxl_PnW"
      },
      "id": "-giTYnxl_PnW",
      "execution_count": 86,
      "outputs": []
    },
    {
      "cell_type": "code",
      "source": [
        "df_for_item_item = receipt_df.sort_values(by=['user', 'shop', 'sale_date'])[['sale_date', 'user', 'shop', 'item', 'quantity']].reset_index(drop=True)\n",
        "df_for_item_item"
      ],
      "metadata": {
        "colab": {
          "base_uri": "https://localhost:8080/",
          "height": 424
        },
        "id": "GPRp2AjC_3Se",
        "outputId": "1b9c9d58-bf72-4c0f-f69e-58ea52439fdf"
      },
      "id": "GPRp2AjC_3Se",
      "execution_count": 192,
      "outputs": [
        {
          "output_type": "execute_result",
          "data": {
            "text/plain": [
              "       sale_date   user  shop  item quantity\n",
              "0     2018-12-07      0     0     0     1,00\n",
              "1     2018-12-07      0     0  4736     1,00\n",
              "2     2018-12-07      0     0   211     1,00\n",
              "3     2018-12-07      1     1     1     1,00\n",
              "4     2018-12-07      2     2     2     1,00\n",
              "...          ...    ...   ...   ...      ...\n",
              "99995 2018-12-07  40657   311   533     1,00\n",
              "99996 2018-12-07  40658   554   519     1,00\n",
              "99997 2018-12-07  40659   457  2051     1,00\n",
              "99998 2018-12-07  40660    20  1024     1,00\n",
              "99999 2018-12-07  40661   256  1981     1,00\n",
              "\n",
              "[100000 rows x 5 columns]"
            ],
            "text/html": [
              "\n",
              "  <div id=\"df-690c8d16-79ce-48f8-ae01-aa2bf3aa728f\">\n",
              "    <div class=\"colab-df-container\">\n",
              "      <div>\n",
              "<style scoped>\n",
              "    .dataframe tbody tr th:only-of-type {\n",
              "        vertical-align: middle;\n",
              "    }\n",
              "\n",
              "    .dataframe tbody tr th {\n",
              "        vertical-align: top;\n",
              "    }\n",
              "\n",
              "    .dataframe thead th {\n",
              "        text-align: right;\n",
              "    }\n",
              "</style>\n",
              "<table border=\"1\" class=\"dataframe\">\n",
              "  <thead>\n",
              "    <tr style=\"text-align: right;\">\n",
              "      <th></th>\n",
              "      <th>sale_date</th>\n",
              "      <th>user</th>\n",
              "      <th>shop</th>\n",
              "      <th>item</th>\n",
              "      <th>quantity</th>\n",
              "    </tr>\n",
              "  </thead>\n",
              "  <tbody>\n",
              "    <tr>\n",
              "      <th>0</th>\n",
              "      <td>2018-12-07</td>\n",
              "      <td>0</td>\n",
              "      <td>0</td>\n",
              "      <td>0</td>\n",
              "      <td>1,00</td>\n",
              "    </tr>\n",
              "    <tr>\n",
              "      <th>1</th>\n",
              "      <td>2018-12-07</td>\n",
              "      <td>0</td>\n",
              "      <td>0</td>\n",
              "      <td>4736</td>\n",
              "      <td>1,00</td>\n",
              "    </tr>\n",
              "    <tr>\n",
              "      <th>2</th>\n",
              "      <td>2018-12-07</td>\n",
              "      <td>0</td>\n",
              "      <td>0</td>\n",
              "      <td>211</td>\n",
              "      <td>1,00</td>\n",
              "    </tr>\n",
              "    <tr>\n",
              "      <th>3</th>\n",
              "      <td>2018-12-07</td>\n",
              "      <td>1</td>\n",
              "      <td>1</td>\n",
              "      <td>1</td>\n",
              "      <td>1,00</td>\n",
              "    </tr>\n",
              "    <tr>\n",
              "      <th>4</th>\n",
              "      <td>2018-12-07</td>\n",
              "      <td>2</td>\n",
              "      <td>2</td>\n",
              "      <td>2</td>\n",
              "      <td>1,00</td>\n",
              "    </tr>\n",
              "    <tr>\n",
              "      <th>...</th>\n",
              "      <td>...</td>\n",
              "      <td>...</td>\n",
              "      <td>...</td>\n",
              "      <td>...</td>\n",
              "      <td>...</td>\n",
              "    </tr>\n",
              "    <tr>\n",
              "      <th>99995</th>\n",
              "      <td>2018-12-07</td>\n",
              "      <td>40657</td>\n",
              "      <td>311</td>\n",
              "      <td>533</td>\n",
              "      <td>1,00</td>\n",
              "    </tr>\n",
              "    <tr>\n",
              "      <th>99996</th>\n",
              "      <td>2018-12-07</td>\n",
              "      <td>40658</td>\n",
              "      <td>554</td>\n",
              "      <td>519</td>\n",
              "      <td>1,00</td>\n",
              "    </tr>\n",
              "    <tr>\n",
              "      <th>99997</th>\n",
              "      <td>2018-12-07</td>\n",
              "      <td>40659</td>\n",
              "      <td>457</td>\n",
              "      <td>2051</td>\n",
              "      <td>1,00</td>\n",
              "    </tr>\n",
              "    <tr>\n",
              "      <th>99998</th>\n",
              "      <td>2018-12-07</td>\n",
              "      <td>40660</td>\n",
              "      <td>20</td>\n",
              "      <td>1024</td>\n",
              "      <td>1,00</td>\n",
              "    </tr>\n",
              "    <tr>\n",
              "      <th>99999</th>\n",
              "      <td>2018-12-07</td>\n",
              "      <td>40661</td>\n",
              "      <td>256</td>\n",
              "      <td>1981</td>\n",
              "      <td>1,00</td>\n",
              "    </tr>\n",
              "  </tbody>\n",
              "</table>\n",
              "<p>100000 rows × 5 columns</p>\n",
              "</div>\n",
              "      <button class=\"colab-df-convert\" onclick=\"convertToInteractive('df-690c8d16-79ce-48f8-ae01-aa2bf3aa728f')\"\n",
              "              title=\"Convert this dataframe to an interactive table.\"\n",
              "              style=\"display:none;\">\n",
              "        \n",
              "  <svg xmlns=\"http://www.w3.org/2000/svg\" height=\"24px\"viewBox=\"0 0 24 24\"\n",
              "       width=\"24px\">\n",
              "    <path d=\"M0 0h24v24H0V0z\" fill=\"none\"/>\n",
              "    <path d=\"M18.56 5.44l.94 2.06.94-2.06 2.06-.94-2.06-.94-.94-2.06-.94 2.06-2.06.94zm-11 1L8.5 8.5l.94-2.06 2.06-.94-2.06-.94L8.5 2.5l-.94 2.06-2.06.94zm10 10l.94 2.06.94-2.06 2.06-.94-2.06-.94-.94-2.06-.94 2.06-2.06.94z\"/><path d=\"M17.41 7.96l-1.37-1.37c-.4-.4-.92-.59-1.43-.59-.52 0-1.04.2-1.43.59L10.3 9.45l-7.72 7.72c-.78.78-.78 2.05 0 2.83L4 21.41c.39.39.9.59 1.41.59.51 0 1.02-.2 1.41-.59l7.78-7.78 2.81-2.81c.8-.78.8-2.07 0-2.86zM5.41 20L4 18.59l7.72-7.72 1.47 1.35L5.41 20z\"/>\n",
              "  </svg>\n",
              "      </button>\n",
              "      \n",
              "  <style>\n",
              "    .colab-df-container {\n",
              "      display:flex;\n",
              "      flex-wrap:wrap;\n",
              "      gap: 12px;\n",
              "    }\n",
              "\n",
              "    .colab-df-convert {\n",
              "      background-color: #E8F0FE;\n",
              "      border: none;\n",
              "      border-radius: 50%;\n",
              "      cursor: pointer;\n",
              "      display: none;\n",
              "      fill: #1967D2;\n",
              "      height: 32px;\n",
              "      padding: 0 0 0 0;\n",
              "      width: 32px;\n",
              "    }\n",
              "\n",
              "    .colab-df-convert:hover {\n",
              "      background-color: #E2EBFA;\n",
              "      box-shadow: 0px 1px 2px rgba(60, 64, 67, 0.3), 0px 1px 3px 1px rgba(60, 64, 67, 0.15);\n",
              "      fill: #174EA6;\n",
              "    }\n",
              "\n",
              "    [theme=dark] .colab-df-convert {\n",
              "      background-color: #3B4455;\n",
              "      fill: #D2E3FC;\n",
              "    }\n",
              "\n",
              "    [theme=dark] .colab-df-convert:hover {\n",
              "      background-color: #434B5C;\n",
              "      box-shadow: 0px 1px 3px 1px rgba(0, 0, 0, 0.15);\n",
              "      filter: drop-shadow(0px 1px 2px rgba(0, 0, 0, 0.3));\n",
              "      fill: #FFFFFF;\n",
              "    }\n",
              "  </style>\n",
              "\n",
              "      <script>\n",
              "        const buttonEl =\n",
              "          document.querySelector('#df-690c8d16-79ce-48f8-ae01-aa2bf3aa728f button.colab-df-convert');\n",
              "        buttonEl.style.display =\n",
              "          google.colab.kernel.accessAllowed ? 'block' : 'none';\n",
              "\n",
              "        async function convertToInteractive(key) {\n",
              "          const element = document.querySelector('#df-690c8d16-79ce-48f8-ae01-aa2bf3aa728f');\n",
              "          const dataTable =\n",
              "            await google.colab.kernel.invokeFunction('convertToInteractive',\n",
              "                                                     [key], {});\n",
              "          if (!dataTable) return;\n",
              "\n",
              "          const docLinkHtml = 'Like what you see? Visit the ' +\n",
              "            '<a target=\"_blank\" href=https://colab.research.google.com/notebooks/data_table.ipynb>data table notebook</a>'\n",
              "            + ' to learn more about interactive tables.';\n",
              "          element.innerHTML = '';\n",
              "          dataTable['output_type'] = 'display_data';\n",
              "          await google.colab.output.renderOutput(dataTable, element);\n",
              "          const docLink = document.createElement('div');\n",
              "          docLink.innerHTML = docLinkHtml;\n",
              "          element.appendChild(docLink);\n",
              "        }\n",
              "      </script>\n",
              "    </div>\n",
              "  </div>\n",
              "  "
            ]
          },
          "metadata": {},
          "execution_count": 192
        }
      ]
    },
    {
      "cell_type": "code",
      "source": [
        "df_for_item_item['quantity'] = df_for_item_item['quantity'].apply(lambda x: x.replace(\",\", \".\")).apply(float)"
      ],
      "metadata": {
        "id": "fN2Ia-knvsAE"
      },
      "id": "fN2Ia-knvsAE",
      "execution_count": 219,
      "outputs": []
    },
    {
      "cell_type": "code",
      "source": [
        "df_for_item_item['item'].max()"
      ],
      "metadata": {
        "colab": {
          "base_uri": "https://localhost:8080/"
        },
        "id": "UPEku7DCPsgK",
        "outputId": "ef89943b-16b2-4b24-a74c-b607bd10ea7c"
      },
      "id": "UPEku7DCPsgK",
      "execution_count": 145,
      "outputs": [
        {
          "output_type": "execute_result",
          "data": {
            "text/plain": [
              "8761"
            ]
          },
          "metadata": {},
          "execution_count": 145
        }
      ]
    },
    {
      "cell_type": "code",
      "source": [
        "item_item = np.zeros((df_for_item_item['item'].nunique(), df_for_item_item['item'].nunique()))\n",
        "item_item.shape"
      ],
      "metadata": {
        "colab": {
          "base_uri": "https://localhost:8080/"
        },
        "id": "H1bH82oEB4GS",
        "outputId": "b69615a7-2212-4eb2-920c-908de0cc6ab8"
      },
      "id": "H1bH82oEB4GS",
      "execution_count": 167,
      "outputs": [
        {
          "output_type": "execute_result",
          "data": {
            "text/plain": [
              "(8762, 8762)"
            ]
          },
          "metadata": {},
          "execution_count": 167
        }
      ]
    },
    {
      "cell_type": "code",
      "source": [
        "item_item"
      ],
      "metadata": {
        "colab": {
          "base_uri": "https://localhost:8080/"
        },
        "id": "1m5Jw6yjQqLo",
        "outputId": "2dfcf137-1c56-49d7-a845-14c9b6eb8867"
      },
      "id": "1m5Jw6yjQqLo",
      "execution_count": 177,
      "outputs": [
        {
          "output_type": "execute_result",
          "data": {
            "text/plain": [
              "array([[7.875e+03, 2.500e+01, 1.000e+00, ..., 0.000e+00, 0.000e+00,\n",
              "        0.000e+00],\n",
              "       [1.400e+01, 1.961e+03, 5.000e+00, ..., 0.000e+00, 0.000e+00,\n",
              "        0.000e+00],\n",
              "       [8.000e+00, 9.000e+00, 1.044e+03, ..., 0.000e+00, 0.000e+00,\n",
              "        0.000e+00],\n",
              "       ...,\n",
              "       [0.000e+00, 0.000e+00, 0.000e+00, ..., 0.000e+00, 0.000e+00,\n",
              "        0.000e+00],\n",
              "       [0.000e+00, 0.000e+00, 0.000e+00, ..., 0.000e+00, 0.000e+00,\n",
              "        0.000e+00],\n",
              "       [0.000e+00, 0.000e+00, 0.000e+00, ..., 0.000e+00, 0.000e+00,\n",
              "        0.000e+00]])"
            ]
          },
          "metadata": {},
          "execution_count": 177
        }
      ]
    },
    {
      "cell_type": "code",
      "source": [
        "np.sum(item_item)"
      ],
      "metadata": {
        "colab": {
          "base_uri": "https://localhost:8080/"
        },
        "id": "Q3923DJ6C8JQ",
        "outputId": "3e56c3bf-dd9d-4a9b-9b42-31db722fc6e3"
      },
      "id": "Q3923DJ6C8JQ",
      "execution_count": 170,
      "outputs": [
        {
          "output_type": "execute_result",
          "data": {
            "text/plain": [
              "157921.0"
            ]
          },
          "metadata": {},
          "execution_count": 170
        }
      ]
    },
    {
      "cell_type": "code",
      "source": [
        "sale_id = 0\n",
        "sale_id_list = [0]\n",
        "\n",
        "for i in range(1, df_for_item_item.shape[0]):\n",
        "\n",
        "    if ((df_for_item_item['sale_date'].iloc[i-1] == df_for_item_item['sale_date'].iloc[i]) & \\\n",
        "                 (df_for_item_item['user'].iloc[i-1] == df_for_item_item['user'].iloc[i]) & \\\n",
        "                 (df_for_item_item['shop'].iloc[i-1] == df_for_item_item['shop'].iloc[i])):\n",
        "        sale_id_list.append(sale_id)\n",
        "    else:\n",
        "        sale_id += 1\n",
        "        sale_id_list.append(sale_id)"
      ],
      "metadata": {
        "id": "-Qp3ssjNCPAC"
      },
      "id": "-Qp3ssjNCPAC",
      "execution_count": 138,
      "outputs": []
    },
    {
      "cell_type": "code",
      "source": [
        "items = [df_for_item_item['item'].iloc[0]]\n",
        "\n",
        "for i in range(1, df_for_item_item.shape[0]):\n",
        "\n",
        "    if df_for_item_item['sale_id'].iloc[i-1]==df_for_item_item['sale_id'].iloc[i]:\n",
        "        items.append(df_for_item_item['item'].iloc[i])\n",
        "\n",
        "    else:\n",
        "\n",
        "        for i in range(0, len(items) - 1):\n",
        "    \n",
        "            for j in range(i, len(items) - 1):\n",
        "        \n",
        "                idx1 = items[i]\n",
        "                idx2 = items[j]\n",
        "                item_item[idx1, idx2] += 1\n",
        "        \n",
        "        items = [df_for_item_item['item'].iloc[i]]"
      ],
      "metadata": {
        "id": "IJmsEnNJJ3ZZ"
      },
      "id": "IJmsEnNJJ3ZZ",
      "execution_count": 168,
      "outputs": []
    },
    {
      "cell_type": "code",
      "source": [
        "len(sale_id_list)"
      ],
      "metadata": {
        "colab": {
          "base_uri": "https://localhost:8080/"
        },
        "id": "NmXA7p4ZId6F",
        "outputId": "e05f3fbf-5d1c-4d61-a3e2-536feba43797"
      },
      "id": "NmXA7p4ZId6F",
      "execution_count": 134,
      "outputs": [
        {
          "output_type": "execute_result",
          "data": {
            "text/plain": [
              "100000"
            ]
          },
          "metadata": {},
          "execution_count": 134
        }
      ]
    },
    {
      "cell_type": "code",
      "source": [
        "df_for_item_item['sale_id'] = sale_id_list\n",
        "df_for_item_item"
      ],
      "metadata": {
        "colab": {
          "base_uri": "https://localhost:8080/",
          "height": 424
        },
        "id": "AM5ITGFJIWjM",
        "outputId": "33f1ee6a-f7e8-4df4-a4ea-be4859754ebc"
      },
      "id": "AM5ITGFJIWjM",
      "execution_count": 139,
      "outputs": [
        {
          "output_type": "execute_result",
          "data": {
            "text/plain": [
              "       sale_date   user  shop  item  sale_id\n",
              "0     2018-12-07      0     0     0        0\n",
              "1     2018-12-07      0     0  4736        0\n",
              "2     2018-12-07      0     0   211        0\n",
              "3     2018-12-07      1     1     1        1\n",
              "4     2018-12-07      2     2     2        2\n",
              "...          ...    ...   ...   ...      ...\n",
              "99995 2018-12-07  40657   311   533    41101\n",
              "99996 2018-12-07  40658   554   519    41102\n",
              "99997 2018-12-07  40659   457  2051    41103\n",
              "99998 2018-12-07  40660    20  1024    41104\n",
              "99999 2018-12-07  40661   256  1981    41105\n",
              "\n",
              "[100000 rows x 5 columns]"
            ],
            "text/html": [
              "\n",
              "  <div id=\"df-1ee3db24-2fb7-4623-86a4-757a5c470bc5\">\n",
              "    <div class=\"colab-df-container\">\n",
              "      <div>\n",
              "<style scoped>\n",
              "    .dataframe tbody tr th:only-of-type {\n",
              "        vertical-align: middle;\n",
              "    }\n",
              "\n",
              "    .dataframe tbody tr th {\n",
              "        vertical-align: top;\n",
              "    }\n",
              "\n",
              "    .dataframe thead th {\n",
              "        text-align: right;\n",
              "    }\n",
              "</style>\n",
              "<table border=\"1\" class=\"dataframe\">\n",
              "  <thead>\n",
              "    <tr style=\"text-align: right;\">\n",
              "      <th></th>\n",
              "      <th>sale_date</th>\n",
              "      <th>user</th>\n",
              "      <th>shop</th>\n",
              "      <th>item</th>\n",
              "      <th>sale_id</th>\n",
              "    </tr>\n",
              "  </thead>\n",
              "  <tbody>\n",
              "    <tr>\n",
              "      <th>0</th>\n",
              "      <td>2018-12-07</td>\n",
              "      <td>0</td>\n",
              "      <td>0</td>\n",
              "      <td>0</td>\n",
              "      <td>0</td>\n",
              "    </tr>\n",
              "    <tr>\n",
              "      <th>1</th>\n",
              "      <td>2018-12-07</td>\n",
              "      <td>0</td>\n",
              "      <td>0</td>\n",
              "      <td>4736</td>\n",
              "      <td>0</td>\n",
              "    </tr>\n",
              "    <tr>\n",
              "      <th>2</th>\n",
              "      <td>2018-12-07</td>\n",
              "      <td>0</td>\n",
              "      <td>0</td>\n",
              "      <td>211</td>\n",
              "      <td>0</td>\n",
              "    </tr>\n",
              "    <tr>\n",
              "      <th>3</th>\n",
              "      <td>2018-12-07</td>\n",
              "      <td>1</td>\n",
              "      <td>1</td>\n",
              "      <td>1</td>\n",
              "      <td>1</td>\n",
              "    </tr>\n",
              "    <tr>\n",
              "      <th>4</th>\n",
              "      <td>2018-12-07</td>\n",
              "      <td>2</td>\n",
              "      <td>2</td>\n",
              "      <td>2</td>\n",
              "      <td>2</td>\n",
              "    </tr>\n",
              "    <tr>\n",
              "      <th>...</th>\n",
              "      <td>...</td>\n",
              "      <td>...</td>\n",
              "      <td>...</td>\n",
              "      <td>...</td>\n",
              "      <td>...</td>\n",
              "    </tr>\n",
              "    <tr>\n",
              "      <th>99995</th>\n",
              "      <td>2018-12-07</td>\n",
              "      <td>40657</td>\n",
              "      <td>311</td>\n",
              "      <td>533</td>\n",
              "      <td>41101</td>\n",
              "    </tr>\n",
              "    <tr>\n",
              "      <th>99996</th>\n",
              "      <td>2018-12-07</td>\n",
              "      <td>40658</td>\n",
              "      <td>554</td>\n",
              "      <td>519</td>\n",
              "      <td>41102</td>\n",
              "    </tr>\n",
              "    <tr>\n",
              "      <th>99997</th>\n",
              "      <td>2018-12-07</td>\n",
              "      <td>40659</td>\n",
              "      <td>457</td>\n",
              "      <td>2051</td>\n",
              "      <td>41103</td>\n",
              "    </tr>\n",
              "    <tr>\n",
              "      <th>99998</th>\n",
              "      <td>2018-12-07</td>\n",
              "      <td>40660</td>\n",
              "      <td>20</td>\n",
              "      <td>1024</td>\n",
              "      <td>41104</td>\n",
              "    </tr>\n",
              "    <tr>\n",
              "      <th>99999</th>\n",
              "      <td>2018-12-07</td>\n",
              "      <td>40661</td>\n",
              "      <td>256</td>\n",
              "      <td>1981</td>\n",
              "      <td>41105</td>\n",
              "    </tr>\n",
              "  </tbody>\n",
              "</table>\n",
              "<p>100000 rows × 5 columns</p>\n",
              "</div>\n",
              "      <button class=\"colab-df-convert\" onclick=\"convertToInteractive('df-1ee3db24-2fb7-4623-86a4-757a5c470bc5')\"\n",
              "              title=\"Convert this dataframe to an interactive table.\"\n",
              "              style=\"display:none;\">\n",
              "        \n",
              "  <svg xmlns=\"http://www.w3.org/2000/svg\" height=\"24px\"viewBox=\"0 0 24 24\"\n",
              "       width=\"24px\">\n",
              "    <path d=\"M0 0h24v24H0V0z\" fill=\"none\"/>\n",
              "    <path d=\"M18.56 5.44l.94 2.06.94-2.06 2.06-.94-2.06-.94-.94-2.06-.94 2.06-2.06.94zm-11 1L8.5 8.5l.94-2.06 2.06-.94-2.06-.94L8.5 2.5l-.94 2.06-2.06.94zm10 10l.94 2.06.94-2.06 2.06-.94-2.06-.94-.94-2.06-.94 2.06-2.06.94z\"/><path d=\"M17.41 7.96l-1.37-1.37c-.4-.4-.92-.59-1.43-.59-.52 0-1.04.2-1.43.59L10.3 9.45l-7.72 7.72c-.78.78-.78 2.05 0 2.83L4 21.41c.39.39.9.59 1.41.59.51 0 1.02-.2 1.41-.59l7.78-7.78 2.81-2.81c.8-.78.8-2.07 0-2.86zM5.41 20L4 18.59l7.72-7.72 1.47 1.35L5.41 20z\"/>\n",
              "  </svg>\n",
              "      </button>\n",
              "      \n",
              "  <style>\n",
              "    .colab-df-container {\n",
              "      display:flex;\n",
              "      flex-wrap:wrap;\n",
              "      gap: 12px;\n",
              "    }\n",
              "\n",
              "    .colab-df-convert {\n",
              "      background-color: #E8F0FE;\n",
              "      border: none;\n",
              "      border-radius: 50%;\n",
              "      cursor: pointer;\n",
              "      display: none;\n",
              "      fill: #1967D2;\n",
              "      height: 32px;\n",
              "      padding: 0 0 0 0;\n",
              "      width: 32px;\n",
              "    }\n",
              "\n",
              "    .colab-df-convert:hover {\n",
              "      background-color: #E2EBFA;\n",
              "      box-shadow: 0px 1px 2px rgba(60, 64, 67, 0.3), 0px 1px 3px 1px rgba(60, 64, 67, 0.15);\n",
              "      fill: #174EA6;\n",
              "    }\n",
              "\n",
              "    [theme=dark] .colab-df-convert {\n",
              "      background-color: #3B4455;\n",
              "      fill: #D2E3FC;\n",
              "    }\n",
              "\n",
              "    [theme=dark] .colab-df-convert:hover {\n",
              "      background-color: #434B5C;\n",
              "      box-shadow: 0px 1px 3px 1px rgba(0, 0, 0, 0.15);\n",
              "      filter: drop-shadow(0px 1px 2px rgba(0, 0, 0, 0.3));\n",
              "      fill: #FFFFFF;\n",
              "    }\n",
              "  </style>\n",
              "\n",
              "      <script>\n",
              "        const buttonEl =\n",
              "          document.querySelector('#df-1ee3db24-2fb7-4623-86a4-757a5c470bc5 button.colab-df-convert');\n",
              "        buttonEl.style.display =\n",
              "          google.colab.kernel.accessAllowed ? 'block' : 'none';\n",
              "\n",
              "        async function convertToInteractive(key) {\n",
              "          const element = document.querySelector('#df-1ee3db24-2fb7-4623-86a4-757a5c470bc5');\n",
              "          const dataTable =\n",
              "            await google.colab.kernel.invokeFunction('convertToInteractive',\n",
              "                                                     [key], {});\n",
              "          if (!dataTable) return;\n",
              "\n",
              "          const docLinkHtml = 'Like what you see? Visit the ' +\n",
              "            '<a target=\"_blank\" href=https://colab.research.google.com/notebooks/data_table.ipynb>data table notebook</a>'\n",
              "            + ' to learn more about interactive tables.';\n",
              "          element.innerHTML = '';\n",
              "          dataTable['output_type'] = 'display_data';\n",
              "          await google.colab.output.renderOutput(dataTable, element);\n",
              "          const docLink = document.createElement('div');\n",
              "          docLink.innerHTML = docLinkHtml;\n",
              "          element.appendChild(docLink);\n",
              "        }\n",
              "      </script>\n",
              "    </div>\n",
              "  </div>\n",
              "  "
            ]
          },
          "metadata": {},
          "execution_count": 139
        }
      ]
    },
    {
      "cell_type": "code",
      "source": [
        "user_item = np.zeros((df_for_item_item['user'].nunique(), df_for_item_item['item'].nunique()))\n",
        "user_item.shape"
      ],
      "metadata": {
        "colab": {
          "base_uri": "https://localhost:8080/"
        },
        "id": "txk1JI7KDSVn",
        "outputId": "47c5ec28-9246-466f-bc07-70a583a30644"
      },
      "id": "txk1JI7KDSVn",
      "execution_count": 215,
      "outputs": [
        {
          "output_type": "execute_result",
          "data": {
            "text/plain": [
              "(40662, 8762)"
            ]
          },
          "metadata": {},
          "execution_count": 215
        }
      ]
    },
    {
      "cell_type": "code",
      "source": [
        "user_item.sum()"
      ],
      "metadata": {
        "colab": {
          "base_uri": "https://localhost:8080/"
        },
        "id": "hTUhmZ73hP1Z",
        "outputId": "664d53b2-0748-4ebd-9b80-2cd1a8c2e35d"
      },
      "id": "hTUhmZ73hP1Z",
      "execution_count": 221,
      "outputs": [
        {
          "output_type": "execute_result",
          "data": {
            "text/plain": [
              "171155.16599999985"
            ]
          },
          "metadata": {},
          "execution_count": 221
        }
      ]
    },
    {
      "cell_type": "code",
      "source": [
        "for i in range(df_for_item_item.shape[0]):\n",
        "    idx1 = df_for_item_item['user'].iloc[i]\n",
        "    idx2 = df_for_item_item['item'].iloc[i]\n",
        "    user_item[idx1, idx2] += df_for_item_item['quantity'].iloc[i]"
      ],
      "metadata": {
        "id": "7yP-M1EnSoSc"
      },
      "id": "7yP-M1EnSoSc",
      "execution_count": 220,
      "outputs": []
    },
    {
      "cell_type": "code",
      "source": [
        "df_for_item_item.query('user == 9873')"
      ],
      "metadata": {
        "colab": {
          "base_uri": "https://localhost:8080/",
          "height": 175
        },
        "id": "inuzJ1vlAo5A",
        "outputId": "bf302584-9527-4938-81b3-bb47676c286c"
      },
      "id": "inuzJ1vlAo5A",
      "execution_count": 96,
      "outputs": [
        {
          "output_type": "execute_result",
          "data": {
            "text/plain": [
              "       sale_date  user  shop  item\n",
              "14561 2018-12-09  9873    32    12\n",
              "14562 2018-12-09  9873    32    12\n",
              "14563 2018-12-09  9873    32   566\n",
              "14564 2018-12-09  9873    32   279"
            ],
            "text/html": [
              "\n",
              "  <div id=\"df-1d8fbdc7-7f1c-4cd6-8d72-02746b36fe03\">\n",
              "    <div class=\"colab-df-container\">\n",
              "      <div>\n",
              "<style scoped>\n",
              "    .dataframe tbody tr th:only-of-type {\n",
              "        vertical-align: middle;\n",
              "    }\n",
              "\n",
              "    .dataframe tbody tr th {\n",
              "        vertical-align: top;\n",
              "    }\n",
              "\n",
              "    .dataframe thead th {\n",
              "        text-align: right;\n",
              "    }\n",
              "</style>\n",
              "<table border=\"1\" class=\"dataframe\">\n",
              "  <thead>\n",
              "    <tr style=\"text-align: right;\">\n",
              "      <th></th>\n",
              "      <th>sale_date</th>\n",
              "      <th>user</th>\n",
              "      <th>shop</th>\n",
              "      <th>item</th>\n",
              "    </tr>\n",
              "  </thead>\n",
              "  <tbody>\n",
              "    <tr>\n",
              "      <th>14561</th>\n",
              "      <td>2018-12-09</td>\n",
              "      <td>9873</td>\n",
              "      <td>32</td>\n",
              "      <td>12</td>\n",
              "    </tr>\n",
              "    <tr>\n",
              "      <th>14562</th>\n",
              "      <td>2018-12-09</td>\n",
              "      <td>9873</td>\n",
              "      <td>32</td>\n",
              "      <td>12</td>\n",
              "    </tr>\n",
              "    <tr>\n",
              "      <th>14563</th>\n",
              "      <td>2018-12-09</td>\n",
              "      <td>9873</td>\n",
              "      <td>32</td>\n",
              "      <td>566</td>\n",
              "    </tr>\n",
              "    <tr>\n",
              "      <th>14564</th>\n",
              "      <td>2018-12-09</td>\n",
              "      <td>9873</td>\n",
              "      <td>32</td>\n",
              "      <td>279</td>\n",
              "    </tr>\n",
              "  </tbody>\n",
              "</table>\n",
              "</div>\n",
              "      <button class=\"colab-df-convert\" onclick=\"convertToInteractive('df-1d8fbdc7-7f1c-4cd6-8d72-02746b36fe03')\"\n",
              "              title=\"Convert this dataframe to an interactive table.\"\n",
              "              style=\"display:none;\">\n",
              "        \n",
              "  <svg xmlns=\"http://www.w3.org/2000/svg\" height=\"24px\"viewBox=\"0 0 24 24\"\n",
              "       width=\"24px\">\n",
              "    <path d=\"M0 0h24v24H0V0z\" fill=\"none\"/>\n",
              "    <path d=\"M18.56 5.44l.94 2.06.94-2.06 2.06-.94-2.06-.94-.94-2.06-.94 2.06-2.06.94zm-11 1L8.5 8.5l.94-2.06 2.06-.94-2.06-.94L8.5 2.5l-.94 2.06-2.06.94zm10 10l.94 2.06.94-2.06 2.06-.94-2.06-.94-.94-2.06-.94 2.06-2.06.94z\"/><path d=\"M17.41 7.96l-1.37-1.37c-.4-.4-.92-.59-1.43-.59-.52 0-1.04.2-1.43.59L10.3 9.45l-7.72 7.72c-.78.78-.78 2.05 0 2.83L4 21.41c.39.39.9.59 1.41.59.51 0 1.02-.2 1.41-.59l7.78-7.78 2.81-2.81c.8-.78.8-2.07 0-2.86zM5.41 20L4 18.59l7.72-7.72 1.47 1.35L5.41 20z\"/>\n",
              "  </svg>\n",
              "      </button>\n",
              "      \n",
              "  <style>\n",
              "    .colab-df-container {\n",
              "      display:flex;\n",
              "      flex-wrap:wrap;\n",
              "      gap: 12px;\n",
              "    }\n",
              "\n",
              "    .colab-df-convert {\n",
              "      background-color: #E8F0FE;\n",
              "      border: none;\n",
              "      border-radius: 50%;\n",
              "      cursor: pointer;\n",
              "      display: none;\n",
              "      fill: #1967D2;\n",
              "      height: 32px;\n",
              "      padding: 0 0 0 0;\n",
              "      width: 32px;\n",
              "    }\n",
              "\n",
              "    .colab-df-convert:hover {\n",
              "      background-color: #E2EBFA;\n",
              "      box-shadow: 0px 1px 2px rgba(60, 64, 67, 0.3), 0px 1px 3px 1px rgba(60, 64, 67, 0.15);\n",
              "      fill: #174EA6;\n",
              "    }\n",
              "\n",
              "    [theme=dark] .colab-df-convert {\n",
              "      background-color: #3B4455;\n",
              "      fill: #D2E3FC;\n",
              "    }\n",
              "\n",
              "    [theme=dark] .colab-df-convert:hover {\n",
              "      background-color: #434B5C;\n",
              "      box-shadow: 0px 1px 3px 1px rgba(0, 0, 0, 0.15);\n",
              "      filter: drop-shadow(0px 1px 2px rgba(0, 0, 0, 0.3));\n",
              "      fill: #FFFFFF;\n",
              "    }\n",
              "  </style>\n",
              "\n",
              "      <script>\n",
              "        const buttonEl =\n",
              "          document.querySelector('#df-1d8fbdc7-7f1c-4cd6-8d72-02746b36fe03 button.colab-df-convert');\n",
              "        buttonEl.style.display =\n",
              "          google.colab.kernel.accessAllowed ? 'block' : 'none';\n",
              "\n",
              "        async function convertToInteractive(key) {\n",
              "          const element = document.querySelector('#df-1d8fbdc7-7f1c-4cd6-8d72-02746b36fe03');\n",
              "          const dataTable =\n",
              "            await google.colab.kernel.invokeFunction('convertToInteractive',\n",
              "                                                     [key], {});\n",
              "          if (!dataTable) return;\n",
              "\n",
              "          const docLinkHtml = 'Like what you see? Visit the ' +\n",
              "            '<a target=\"_blank\" href=https://colab.research.google.com/notebooks/data_table.ipynb>data table notebook</a>'\n",
              "            + ' to learn more about interactive tables.';\n",
              "          element.innerHTML = '';\n",
              "          dataTable['output_type'] = 'display_data';\n",
              "          await google.colab.output.renderOutput(dataTable, element);\n",
              "          const docLink = document.createElement('div');\n",
              "          docLink.innerHTML = docLinkHtml;\n",
              "          element.appendChild(docLink);\n",
              "        }\n",
              "      </script>\n",
              "    </div>\n",
              "  </div>\n",
              "  "
            ]
          },
          "metadata": {},
          "execution_count": 96
        }
      ]
    },
    {
      "cell_type": "code",
      "source": [
        "receipt_df.head()"
      ],
      "metadata": {
        "colab": {
          "base_uri": "https://localhost:8080/",
          "height": 206
        },
        "id": "lM-mqIBN-yUP",
        "outputId": "4335baea-a73c-4682-fcc3-ad49b0cd1647"
      },
      "id": "lM-mqIBN-yUP",
      "execution_count": 110,
      "outputs": [
        {
          "output_type": "execute_result",
          "data": {
            "text/plain": [
              "   sale_date  user  shop  item  \\\n",
              "0 2018-12-07     0     0     0   \n",
              "1 2018-12-07     1     1     1   \n",
              "2 2018-12-07     2     2     2   \n",
              "3 2018-12-07     3     3     3   \n",
              "4 2018-12-07     4     4     4   \n",
              "\n",
              "                                                name  item_sub_cat  item_cat  \\\n",
              "0                   (197312) Пакет-майка 25см х 45см           906       205   \n",
              "1  (62448) Перекись водорода р-р наружн. 3% фл.по...           404        93   \n",
              "2  (72183) Салициловая кислота р-р спирт 2% фл 40...           404        93   \n",
              "3                         (197309) Пакет 28см х 50см           906       205   \n",
              "4                         (197310) Пакет 30см х 60см           906       205   \n",
              "\n",
              "   brand quantity  \n",
              "0     -1     1,00  \n",
              "1     -1     1,00  \n",
              "2     -1     1,00  \n",
              "3     -1     1,00  \n",
              "4     -1     1,00  "
            ],
            "text/html": [
              "\n",
              "  <div id=\"df-5768cfe1-0f56-4152-8e13-9098f48b0143\">\n",
              "    <div class=\"colab-df-container\">\n",
              "      <div>\n",
              "<style scoped>\n",
              "    .dataframe tbody tr th:only-of-type {\n",
              "        vertical-align: middle;\n",
              "    }\n",
              "\n",
              "    .dataframe tbody tr th {\n",
              "        vertical-align: top;\n",
              "    }\n",
              "\n",
              "    .dataframe thead th {\n",
              "        text-align: right;\n",
              "    }\n",
              "</style>\n",
              "<table border=\"1\" class=\"dataframe\">\n",
              "  <thead>\n",
              "    <tr style=\"text-align: right;\">\n",
              "      <th></th>\n",
              "      <th>sale_date</th>\n",
              "      <th>user</th>\n",
              "      <th>shop</th>\n",
              "      <th>item</th>\n",
              "      <th>name</th>\n",
              "      <th>item_sub_cat</th>\n",
              "      <th>item_cat</th>\n",
              "      <th>brand</th>\n",
              "      <th>quantity</th>\n",
              "    </tr>\n",
              "  </thead>\n",
              "  <tbody>\n",
              "    <tr>\n",
              "      <th>0</th>\n",
              "      <td>2018-12-07</td>\n",
              "      <td>0</td>\n",
              "      <td>0</td>\n",
              "      <td>0</td>\n",
              "      <td>(197312) Пакет-майка 25см х 45см</td>\n",
              "      <td>906</td>\n",
              "      <td>205</td>\n",
              "      <td>-1</td>\n",
              "      <td>1,00</td>\n",
              "    </tr>\n",
              "    <tr>\n",
              "      <th>1</th>\n",
              "      <td>2018-12-07</td>\n",
              "      <td>1</td>\n",
              "      <td>1</td>\n",
              "      <td>1</td>\n",
              "      <td>(62448) Перекись водорода р-р наружн. 3% фл.по...</td>\n",
              "      <td>404</td>\n",
              "      <td>93</td>\n",
              "      <td>-1</td>\n",
              "      <td>1,00</td>\n",
              "    </tr>\n",
              "    <tr>\n",
              "      <th>2</th>\n",
              "      <td>2018-12-07</td>\n",
              "      <td>2</td>\n",
              "      <td>2</td>\n",
              "      <td>2</td>\n",
              "      <td>(72183) Салициловая кислота р-р спирт 2% фл 40...</td>\n",
              "      <td>404</td>\n",
              "      <td>93</td>\n",
              "      <td>-1</td>\n",
              "      <td>1,00</td>\n",
              "    </tr>\n",
              "    <tr>\n",
              "      <th>3</th>\n",
              "      <td>2018-12-07</td>\n",
              "      <td>3</td>\n",
              "      <td>3</td>\n",
              "      <td>3</td>\n",
              "      <td>(197309) Пакет 28см х 50см</td>\n",
              "      <td>906</td>\n",
              "      <td>205</td>\n",
              "      <td>-1</td>\n",
              "      <td>1,00</td>\n",
              "    </tr>\n",
              "    <tr>\n",
              "      <th>4</th>\n",
              "      <td>2018-12-07</td>\n",
              "      <td>4</td>\n",
              "      <td>4</td>\n",
              "      <td>4</td>\n",
              "      <td>(197310) Пакет 30см х 60см</td>\n",
              "      <td>906</td>\n",
              "      <td>205</td>\n",
              "      <td>-1</td>\n",
              "      <td>1,00</td>\n",
              "    </tr>\n",
              "  </tbody>\n",
              "</table>\n",
              "</div>\n",
              "      <button class=\"colab-df-convert\" onclick=\"convertToInteractive('df-5768cfe1-0f56-4152-8e13-9098f48b0143')\"\n",
              "              title=\"Convert this dataframe to an interactive table.\"\n",
              "              style=\"display:none;\">\n",
              "        \n",
              "  <svg xmlns=\"http://www.w3.org/2000/svg\" height=\"24px\"viewBox=\"0 0 24 24\"\n",
              "       width=\"24px\">\n",
              "    <path d=\"M0 0h24v24H0V0z\" fill=\"none\"/>\n",
              "    <path d=\"M18.56 5.44l.94 2.06.94-2.06 2.06-.94-2.06-.94-.94-2.06-.94 2.06-2.06.94zm-11 1L8.5 8.5l.94-2.06 2.06-.94-2.06-.94L8.5 2.5l-.94 2.06-2.06.94zm10 10l.94 2.06.94-2.06 2.06-.94-2.06-.94-.94-2.06-.94 2.06-2.06.94z\"/><path d=\"M17.41 7.96l-1.37-1.37c-.4-.4-.92-.59-1.43-.59-.52 0-1.04.2-1.43.59L10.3 9.45l-7.72 7.72c-.78.78-.78 2.05 0 2.83L4 21.41c.39.39.9.59 1.41.59.51 0 1.02-.2 1.41-.59l7.78-7.78 2.81-2.81c.8-.78.8-2.07 0-2.86zM5.41 20L4 18.59l7.72-7.72 1.47 1.35L5.41 20z\"/>\n",
              "  </svg>\n",
              "      </button>\n",
              "      \n",
              "  <style>\n",
              "    .colab-df-container {\n",
              "      display:flex;\n",
              "      flex-wrap:wrap;\n",
              "      gap: 12px;\n",
              "    }\n",
              "\n",
              "    .colab-df-convert {\n",
              "      background-color: #E8F0FE;\n",
              "      border: none;\n",
              "      border-radius: 50%;\n",
              "      cursor: pointer;\n",
              "      display: none;\n",
              "      fill: #1967D2;\n",
              "      height: 32px;\n",
              "      padding: 0 0 0 0;\n",
              "      width: 32px;\n",
              "    }\n",
              "\n",
              "    .colab-df-convert:hover {\n",
              "      background-color: #E2EBFA;\n",
              "      box-shadow: 0px 1px 2px rgba(60, 64, 67, 0.3), 0px 1px 3px 1px rgba(60, 64, 67, 0.15);\n",
              "      fill: #174EA6;\n",
              "    }\n",
              "\n",
              "    [theme=dark] .colab-df-convert {\n",
              "      background-color: #3B4455;\n",
              "      fill: #D2E3FC;\n",
              "    }\n",
              "\n",
              "    [theme=dark] .colab-df-convert:hover {\n",
              "      background-color: #434B5C;\n",
              "      box-shadow: 0px 1px 3px 1px rgba(0, 0, 0, 0.15);\n",
              "      filter: drop-shadow(0px 1px 2px rgba(0, 0, 0, 0.3));\n",
              "      fill: #FFFFFF;\n",
              "    }\n",
              "  </style>\n",
              "\n",
              "      <script>\n",
              "        const buttonEl =\n",
              "          document.querySelector('#df-5768cfe1-0f56-4152-8e13-9098f48b0143 button.colab-df-convert');\n",
              "        buttonEl.style.display =\n",
              "          google.colab.kernel.accessAllowed ? 'block' : 'none';\n",
              "\n",
              "        async function convertToInteractive(key) {\n",
              "          const element = document.querySelector('#df-5768cfe1-0f56-4152-8e13-9098f48b0143');\n",
              "          const dataTable =\n",
              "            await google.colab.kernel.invokeFunction('convertToInteractive',\n",
              "                                                     [key], {});\n",
              "          if (!dataTable) return;\n",
              "\n",
              "          const docLinkHtml = 'Like what you see? Visit the ' +\n",
              "            '<a target=\"_blank\" href=https://colab.research.google.com/notebooks/data_table.ipynb>data table notebook</a>'\n",
              "            + ' to learn more about interactive tables.';\n",
              "          element.innerHTML = '';\n",
              "          dataTable['output_type'] = 'display_data';\n",
              "          await google.colab.output.renderOutput(dataTable, element);\n",
              "          const docLink = document.createElement('div');\n",
              "          docLink.innerHTML = docLinkHtml;\n",
              "          element.appendChild(docLink);\n",
              "        }\n",
              "      </script>\n",
              "    </div>\n",
              "  </div>\n",
              "  "
            ]
          },
          "metadata": {},
          "execution_count": 110
        }
      ]
    },
    {
      "cell_type": "code",
      "source": [
        "print(receipt_df['contact_id'].value_counts())"
      ],
      "metadata": {
        "colab": {
          "base_uri": "https://localhost:8080/"
        },
        "id": "C0xkh_nGWXJu",
        "outputId": "2fc169c1-d10e-486c-d8d7-a28c26ae2e7b"
      },
      "id": "C0xkh_nGWXJu",
      "execution_count": 23,
      "outputs": [
        {
          "output_type": "stream",
          "name": "stdout",
          "text": [
            "2447312    48\n",
            "1038470    34\n",
            "1155419    32\n",
            "960440     27\n",
            "1183431    26\n",
            "           ..\n",
            "1988360     1\n",
            "2693797     1\n",
            "100962      1\n",
            "2520632     1\n",
            "336647      1\n",
            "Name: contact_id, Length: 40662, dtype: int64\n"
          ]
        }
      ]
    },
    {
      "cell_type": "code",
      "source": [
        "receipt_df"
      ],
      "metadata": {
        "colab": {
          "base_uri": "https://localhost:8080/",
          "height": 424
        },
        "id": "jBYMKcPBhZey",
        "outputId": "c5f8924a-1f30-4c1d-bbc7-79462f4e26a6"
      },
      "id": "jBYMKcPBhZey",
      "execution_count": 28,
      "outputs": [
        {
          "output_type": "execute_result",
          "data": {
            "text/plain": [
              "      sale_date_date  contact_id  shop_id  product_id  \\\n",
              "0         2018-12-07     1260627     1455      168308   \n",
              "1         2018-12-07      198287      279      134832   \n",
              "2         2018-12-07     2418385      848      101384   \n",
              "3         2018-12-07     1285774     1511      168570   \n",
              "4         2018-12-07     1810323     1501      168319   \n",
              "...              ...         ...      ...         ...   \n",
              "99995     2018-12-07      201801      321      135428   \n",
              "99996     2018-12-07     2610369      907      143610   \n",
              "99997     2018-12-07     2454531      596      150460   \n",
              "99998     2018-12-07     2025602      110      148081   \n",
              "99999     2018-12-07      336647      849       62393   \n",
              "\n",
              "                                                    name  \\\n",
              "0                       (197312) Пакет-майка 25см х 45см   \n",
              "1      (62448) Перекись водорода р-р наружн. 3% фл.по...   \n",
              "2      (72183) Салициловая кислота р-р спирт 2% фл 40...   \n",
              "3                             (197309) Пакет 28см х 50см   \n",
              "4                             (197310) Пакет 30см х 60см   \n",
              "...                                                  ...   \n",
              "99995       (64220) Фокусин капс.с модиф.высв. 0,4мг №90   \n",
              "99996              (24701) Тирозол табл. п.о. 10 мг. №50   \n",
              "99997  (14295) Деринат (натрия дезоксирибонуклеат) р-...   \n",
              "99998                        (39201) Хофитол тб 0.2г N60   \n",
              "99999  (115435) Бронхо Веда леденцы на травяной основ...   \n",
              "\n",
              "       product_sub_category_id  product_category_id  brand_id quantity  \n",
              "0                          906                  205        -1     1,00  \n",
              "1                          404                   93        -1     1,00  \n",
              "2                          404                   93        -1     1,00  \n",
              "3                          906                  205        -1     1,00  \n",
              "4                          906                  205        -1     1,00  \n",
              "...                        ...                  ...       ...      ...  \n",
              "99995                      627                  144        -1     1,00  \n",
              "99996                      459                  108        -1     1,00  \n",
              "99997                      583                  130        -1     1,00  \n",
              "99998                      595                  135        -1     1,00  \n",
              "99999                      700                  162      2883     1,00  \n",
              "\n",
              "[100000 rows x 9 columns]"
            ],
            "text/html": [
              "\n",
              "  <div id=\"df-741b5ef6-2c1a-4770-83d6-cb77aee30d24\">\n",
              "    <div class=\"colab-df-container\">\n",
              "      <div>\n",
              "<style scoped>\n",
              "    .dataframe tbody tr th:only-of-type {\n",
              "        vertical-align: middle;\n",
              "    }\n",
              "\n",
              "    .dataframe tbody tr th {\n",
              "        vertical-align: top;\n",
              "    }\n",
              "\n",
              "    .dataframe thead th {\n",
              "        text-align: right;\n",
              "    }\n",
              "</style>\n",
              "<table border=\"1\" class=\"dataframe\">\n",
              "  <thead>\n",
              "    <tr style=\"text-align: right;\">\n",
              "      <th></th>\n",
              "      <th>sale_date_date</th>\n",
              "      <th>contact_id</th>\n",
              "      <th>shop_id</th>\n",
              "      <th>product_id</th>\n",
              "      <th>name</th>\n",
              "      <th>product_sub_category_id</th>\n",
              "      <th>product_category_id</th>\n",
              "      <th>brand_id</th>\n",
              "      <th>quantity</th>\n",
              "    </tr>\n",
              "  </thead>\n",
              "  <tbody>\n",
              "    <tr>\n",
              "      <th>0</th>\n",
              "      <td>2018-12-07</td>\n",
              "      <td>1260627</td>\n",
              "      <td>1455</td>\n",
              "      <td>168308</td>\n",
              "      <td>(197312) Пакет-майка 25см х 45см</td>\n",
              "      <td>906</td>\n",
              "      <td>205</td>\n",
              "      <td>-1</td>\n",
              "      <td>1,00</td>\n",
              "    </tr>\n",
              "    <tr>\n",
              "      <th>1</th>\n",
              "      <td>2018-12-07</td>\n",
              "      <td>198287</td>\n",
              "      <td>279</td>\n",
              "      <td>134832</td>\n",
              "      <td>(62448) Перекись водорода р-р наружн. 3% фл.по...</td>\n",
              "      <td>404</td>\n",
              "      <td>93</td>\n",
              "      <td>-1</td>\n",
              "      <td>1,00</td>\n",
              "    </tr>\n",
              "    <tr>\n",
              "      <th>2</th>\n",
              "      <td>2018-12-07</td>\n",
              "      <td>2418385</td>\n",
              "      <td>848</td>\n",
              "      <td>101384</td>\n",
              "      <td>(72183) Салициловая кислота р-р спирт 2% фл 40...</td>\n",
              "      <td>404</td>\n",
              "      <td>93</td>\n",
              "      <td>-1</td>\n",
              "      <td>1,00</td>\n",
              "    </tr>\n",
              "    <tr>\n",
              "      <th>3</th>\n",
              "      <td>2018-12-07</td>\n",
              "      <td>1285774</td>\n",
              "      <td>1511</td>\n",
              "      <td>168570</td>\n",
              "      <td>(197309) Пакет 28см х 50см</td>\n",
              "      <td>906</td>\n",
              "      <td>205</td>\n",
              "      <td>-1</td>\n",
              "      <td>1,00</td>\n",
              "    </tr>\n",
              "    <tr>\n",
              "      <th>4</th>\n",
              "      <td>2018-12-07</td>\n",
              "      <td>1810323</td>\n",
              "      <td>1501</td>\n",
              "      <td>168319</td>\n",
              "      <td>(197310) Пакет 30см х 60см</td>\n",
              "      <td>906</td>\n",
              "      <td>205</td>\n",
              "      <td>-1</td>\n",
              "      <td>1,00</td>\n",
              "    </tr>\n",
              "    <tr>\n",
              "      <th>...</th>\n",
              "      <td>...</td>\n",
              "      <td>...</td>\n",
              "      <td>...</td>\n",
              "      <td>...</td>\n",
              "      <td>...</td>\n",
              "      <td>...</td>\n",
              "      <td>...</td>\n",
              "      <td>...</td>\n",
              "      <td>...</td>\n",
              "    </tr>\n",
              "    <tr>\n",
              "      <th>99995</th>\n",
              "      <td>2018-12-07</td>\n",
              "      <td>201801</td>\n",
              "      <td>321</td>\n",
              "      <td>135428</td>\n",
              "      <td>(64220) Фокусин капс.с модиф.высв. 0,4мг №90</td>\n",
              "      <td>627</td>\n",
              "      <td>144</td>\n",
              "      <td>-1</td>\n",
              "      <td>1,00</td>\n",
              "    </tr>\n",
              "    <tr>\n",
              "      <th>99996</th>\n",
              "      <td>2018-12-07</td>\n",
              "      <td>2610369</td>\n",
              "      <td>907</td>\n",
              "      <td>143610</td>\n",
              "      <td>(24701) Тирозол табл. п.о. 10 мг. №50</td>\n",
              "      <td>459</td>\n",
              "      <td>108</td>\n",
              "      <td>-1</td>\n",
              "      <td>1,00</td>\n",
              "    </tr>\n",
              "    <tr>\n",
              "      <th>99997</th>\n",
              "      <td>2018-12-07</td>\n",
              "      <td>2454531</td>\n",
              "      <td>596</td>\n",
              "      <td>150460</td>\n",
              "      <td>(14295) Деринат (натрия дезоксирибонуклеат) р-...</td>\n",
              "      <td>583</td>\n",
              "      <td>130</td>\n",
              "      <td>-1</td>\n",
              "      <td>1,00</td>\n",
              "    </tr>\n",
              "    <tr>\n",
              "      <th>99998</th>\n",
              "      <td>2018-12-07</td>\n",
              "      <td>2025602</td>\n",
              "      <td>110</td>\n",
              "      <td>148081</td>\n",
              "      <td>(39201) Хофитол тб 0.2г N60</td>\n",
              "      <td>595</td>\n",
              "      <td>135</td>\n",
              "      <td>-1</td>\n",
              "      <td>1,00</td>\n",
              "    </tr>\n",
              "    <tr>\n",
              "      <th>99999</th>\n",
              "      <td>2018-12-07</td>\n",
              "      <td>336647</td>\n",
              "      <td>849</td>\n",
              "      <td>62393</td>\n",
              "      <td>(115435) Бронхо Веда леденцы на травяной основ...</td>\n",
              "      <td>700</td>\n",
              "      <td>162</td>\n",
              "      <td>2883</td>\n",
              "      <td>1,00</td>\n",
              "    </tr>\n",
              "  </tbody>\n",
              "</table>\n",
              "<p>100000 rows × 9 columns</p>\n",
              "</div>\n",
              "      <button class=\"colab-df-convert\" onclick=\"convertToInteractive('df-741b5ef6-2c1a-4770-83d6-cb77aee30d24')\"\n",
              "              title=\"Convert this dataframe to an interactive table.\"\n",
              "              style=\"display:none;\">\n",
              "        \n",
              "  <svg xmlns=\"http://www.w3.org/2000/svg\" height=\"24px\"viewBox=\"0 0 24 24\"\n",
              "       width=\"24px\">\n",
              "    <path d=\"M0 0h24v24H0V0z\" fill=\"none\"/>\n",
              "    <path d=\"M18.56 5.44l.94 2.06.94-2.06 2.06-.94-2.06-.94-.94-2.06-.94 2.06-2.06.94zm-11 1L8.5 8.5l.94-2.06 2.06-.94-2.06-.94L8.5 2.5l-.94 2.06-2.06.94zm10 10l.94 2.06.94-2.06 2.06-.94-2.06-.94-.94-2.06-.94 2.06-2.06.94z\"/><path d=\"M17.41 7.96l-1.37-1.37c-.4-.4-.92-.59-1.43-.59-.52 0-1.04.2-1.43.59L10.3 9.45l-7.72 7.72c-.78.78-.78 2.05 0 2.83L4 21.41c.39.39.9.59 1.41.59.51 0 1.02-.2 1.41-.59l7.78-7.78 2.81-2.81c.8-.78.8-2.07 0-2.86zM5.41 20L4 18.59l7.72-7.72 1.47 1.35L5.41 20z\"/>\n",
              "  </svg>\n",
              "      </button>\n",
              "      \n",
              "  <style>\n",
              "    .colab-df-container {\n",
              "      display:flex;\n",
              "      flex-wrap:wrap;\n",
              "      gap: 12px;\n",
              "    }\n",
              "\n",
              "    .colab-df-convert {\n",
              "      background-color: #E8F0FE;\n",
              "      border: none;\n",
              "      border-radius: 50%;\n",
              "      cursor: pointer;\n",
              "      display: none;\n",
              "      fill: #1967D2;\n",
              "      height: 32px;\n",
              "      padding: 0 0 0 0;\n",
              "      width: 32px;\n",
              "    }\n",
              "\n",
              "    .colab-df-convert:hover {\n",
              "      background-color: #E2EBFA;\n",
              "      box-shadow: 0px 1px 2px rgba(60, 64, 67, 0.3), 0px 1px 3px 1px rgba(60, 64, 67, 0.15);\n",
              "      fill: #174EA6;\n",
              "    }\n",
              "\n",
              "    [theme=dark] .colab-df-convert {\n",
              "      background-color: #3B4455;\n",
              "      fill: #D2E3FC;\n",
              "    }\n",
              "\n",
              "    [theme=dark] .colab-df-convert:hover {\n",
              "      background-color: #434B5C;\n",
              "      box-shadow: 0px 1px 3px 1px rgba(0, 0, 0, 0.15);\n",
              "      filter: drop-shadow(0px 1px 2px rgba(0, 0, 0, 0.3));\n",
              "      fill: #FFFFFF;\n",
              "    }\n",
              "  </style>\n",
              "\n",
              "      <script>\n",
              "        const buttonEl =\n",
              "          document.querySelector('#df-741b5ef6-2c1a-4770-83d6-cb77aee30d24 button.colab-df-convert');\n",
              "        buttonEl.style.display =\n",
              "          google.colab.kernel.accessAllowed ? 'block' : 'none';\n",
              "\n",
              "        async function convertToInteractive(key) {\n",
              "          const element = document.querySelector('#df-741b5ef6-2c1a-4770-83d6-cb77aee30d24');\n",
              "          const dataTable =\n",
              "            await google.colab.kernel.invokeFunction('convertToInteractive',\n",
              "                                                     [key], {});\n",
              "          if (!dataTable) return;\n",
              "\n",
              "          const docLinkHtml = 'Like what you see? Visit the ' +\n",
              "            '<a target=\"_blank\" href=https://colab.research.google.com/notebooks/data_table.ipynb>data table notebook</a>'\n",
              "            + ' to learn more about interactive tables.';\n",
              "          element.innerHTML = '';\n",
              "          dataTable['output_type'] = 'display_data';\n",
              "          await google.colab.output.renderOutput(dataTable, element);\n",
              "          const docLink = document.createElement('div');\n",
              "          docLink.innerHTML = docLinkHtml;\n",
              "          element.appendChild(docLink);\n",
              "        }\n",
              "      </script>\n",
              "    </div>\n",
              "  </div>\n",
              "  "
            ]
          },
          "metadata": {},
          "execution_count": 28
        }
      ]
    },
    {
      "cell_type": "markdown",
      "source": [
        "# остальное"
      ],
      "metadata": {
        "id": "nNwTkzPzWOFo"
      },
      "id": "nNwTkzPzWOFo"
    },
    {
      "cell_type": "code",
      "source": [],
      "metadata": {
        "id": "DUZ_HZoGWJE4"
      },
      "id": "DUZ_HZoGWJE4",
      "execution_count": null,
      "outputs": []
    },
    {
      "cell_type": "code",
      "execution_count": null,
      "id": "8e9f4aa6-f70b-4c34-a7fd-5705b1b94254",
      "metadata": {
        "execution": {
          "iopub.execute_input": "2023-04-26T04:21:30.269313Z",
          "iopub.status.busy": "2023-04-26T04:21:30.269313Z",
          "iopub.status.idle": "2023-04-26T04:21:30.284316Z",
          "shell.execute_reply": "2023-04-26T04:21:30.284316Z",
          "shell.execute_reply.started": "2023-04-26T04:21:30.269313Z"
        },
        "tags": [],
        "id": "8e9f4aa6-f70b-4c34-a7fd-5705b1b94254",
        "outputId": "4ae16e09-2677-45aa-921d-fcc74f38b929"
      },
      "outputs": [
        {
          "data": {
            "text/plain": [
              "(20000000, 9)"
            ]
          },
          "execution_count": 9,
          "metadata": {},
          "output_type": "execute_result"
        }
      ],
      "source": [
        "receipt_df.shape"
      ]
    },
    {
      "cell_type": "code",
      "execution_count": null,
      "id": "d2956192-41ea-4c1f-9b06-77645842ade5",
      "metadata": {
        "execution": {
          "iopub.execute_input": "2023-04-26T04:21:34.002022Z",
          "iopub.status.busy": "2023-04-26T04:21:34.002022Z",
          "iopub.status.idle": "2023-04-26T04:21:34.020021Z",
          "shell.execute_reply": "2023-04-26T04:21:34.019021Z",
          "shell.execute_reply.started": "2023-04-26T04:21:34.002022Z"
        },
        "tags": [],
        "id": "d2956192-41ea-4c1f-9b06-77645842ade5",
        "outputId": "610d9a6a-af65-4c59-d2bb-b092fe8664fe"
      },
      "outputs": [
        {
          "name": "stdout",
          "output_type": "stream",
          "text": [
            "<class 'pandas.core.frame.DataFrame'>\n",
            "RangeIndex: 20000000 entries, 0 to 19999999\n",
            "Data columns (total 9 columns):\n",
            " #   Column                   Dtype \n",
            "---  ------                   ----- \n",
            " 0   sale_date_date           object\n",
            " 1   contact_id               int64 \n",
            " 2   shop_id                  int64 \n",
            " 3   product_id               int64 \n",
            " 4   name                     object\n",
            " 5   product_sub_category_id  int64 \n",
            " 6   product_category_id      int64 \n",
            " 7   brand_id                 int64 \n",
            " 8   quantity                 object\n",
            "dtypes: int64(6), object(3)\n",
            "memory usage: 1.3+ GB\n"
          ]
        }
      ],
      "source": [
        "receipt_df.info()"
      ]
    },
    {
      "cell_type": "code",
      "execution_count": null,
      "id": "a071b418-f724-4497-916d-661b3c8a99b5",
      "metadata": {
        "execution": {
          "iopub.execute_input": "2023-04-25T20:02:39.048825Z",
          "iopub.status.busy": "2023-04-25T20:02:39.048825Z",
          "iopub.status.idle": "2023-04-25T20:02:39.055832Z",
          "shell.execute_reply": "2023-04-25T20:02:39.055832Z",
          "shell.execute_reply.started": "2023-04-25T20:02:39.048825Z"
        },
        "tags": [],
        "id": "a071b418-f724-4497-916d-661b3c8a99b5",
        "outputId": "c90fdab8-6a8a-49f1-92a8-1f71f2e5e9db"
      },
      "outputs": [
        {
          "data": {
            "text/plain": [
              "Index(['sale_date_date', 'contact_id', 'shop_id', 'product_id', 'name',\n",
              "       'product_sub_category_id', 'product_category_id', 'brand_id',\n",
              "       'quantity'],\n",
              "      dtype='object')"
            ]
          },
          "execution_count": 82,
          "metadata": {},
          "output_type": "execute_result"
        }
      ],
      "source": [
        "receipt_df.columns"
      ]
    },
    {
      "cell_type": "code",
      "execution_count": null,
      "id": "f5a25bb8-8b1f-4792-ad2a-04af42880804",
      "metadata": {
        "execution": {
          "iopub.execute_input": "2023-04-25T20:31:58.638318Z",
          "iopub.status.busy": "2023-04-25T20:31:58.638318Z",
          "iopub.status.idle": "2023-04-25T20:31:59.964371Z",
          "shell.execute_reply": "2023-04-25T20:31:59.964371Z",
          "shell.execute_reply.started": "2023-04-25T20:31:58.638318Z"
        },
        "tags": [],
        "id": "f5a25bb8-8b1f-4792-ad2a-04af42880804",
        "outputId": "7dcc897f-4850-4ef5-dca8-e563de60623d"
      },
      "outputs": [
        {
          "data": {
            "text/html": [
              "<div>\n",
              "<style scoped>\n",
              "    .dataframe tbody tr th:only-of-type {\n",
              "        vertical-align: middle;\n",
              "    }\n",
              "\n",
              "    .dataframe tbody tr th {\n",
              "        vertical-align: top;\n",
              "    }\n",
              "\n",
              "    .dataframe thead th {\n",
              "        text-align: right;\n",
              "    }\n",
              "</style>\n",
              "<table border=\"1\" class=\"dataframe\">\n",
              "  <thead>\n",
              "    <tr style=\"text-align: right;\">\n",
              "      <th></th>\n",
              "      <th>sale_date_date</th>\n",
              "      <th>contact_id</th>\n",
              "      <th>shop_id</th>\n",
              "      <th>product_id</th>\n",
              "      <th>name</th>\n",
              "      <th>product_sub_category_id</th>\n",
              "      <th>product_category_id</th>\n",
              "      <th>brand_id</th>\n",
              "      <th>quantity</th>\n",
              "    </tr>\n",
              "  </thead>\n",
              "  <tbody>\n",
              "    <tr>\n",
              "      <th>4732950</th>\n",
              "      <td>2018-01-08</td>\n",
              "      <td>730404</td>\n",
              "      <td>862.0</td>\n",
              "      <td>80944.0</td>\n",
              "      <td>(67303) Панкреатин таб.п.о.кишечнораств. 30 ЕД...</td>\n",
              "      <td>601.0</td>\n",
              "      <td>135.0</td>\n",
              "      <td>-1.0</td>\n",
              "      <td>1,00</td>\n",
              "    </tr>\n",
              "    <tr>\n",
              "      <th>4735089</th>\n",
              "      <td>2018-01-05</td>\n",
              "      <td>730404</td>\n",
              "      <td>862.0</td>\n",
              "      <td>156136.0</td>\n",
              "      <td>(180238) PL Бахилы медицинские №10 (5 пар)</td>\n",
              "      <td>414.0</td>\n",
              "      <td>97.0</td>\n",
              "      <td>1520.0</td>\n",
              "      <td>1,00</td>\n",
              "    </tr>\n",
              "    <tr>\n",
              "      <th>4757734</th>\n",
              "      <td>2018-01-08</td>\n",
              "      <td>730404</td>\n",
              "      <td>862.0</td>\n",
              "      <td>106860.0</td>\n",
              "      <td>(103180) PL Контейнер д/биопроб универс. 120мл...</td>\n",
              "      <td>711.0</td>\n",
              "      <td>165.0</td>\n",
              "      <td>1520.0</td>\n",
              "      <td>1,00</td>\n",
              "    </tr>\n",
              "    <tr>\n",
              "      <th>4757795</th>\n",
              "      <td>2018-01-08</td>\n",
              "      <td>730404</td>\n",
              "      <td>862.0</td>\n",
              "      <td>135702.0</td>\n",
              "      <td>(64773) Ацикловир Белупо крем наружн. 5% туба 10г</td>\n",
              "      <td>705.0</td>\n",
              "      <td>162.0</td>\n",
              "      <td>-1.0</td>\n",
              "      <td>1,00</td>\n",
              "    </tr>\n",
              "    <tr>\n",
              "      <th>4760317</th>\n",
              "      <td>2018-01-05</td>\n",
              "      <td>730404</td>\n",
              "      <td>862.0</td>\n",
              "      <td>43759.0</td>\n",
              "      <td>(33169) Гидроперит тб 1.5г N8</td>\n",
              "      <td>404.0</td>\n",
              "      <td>93.0</td>\n",
              "      <td>-1.0</td>\n",
              "      <td>1,00</td>\n",
              "    </tr>\n",
              "    <tr>\n",
              "      <th>...</th>\n",
              "      <td>...</td>\n",
              "      <td>...</td>\n",
              "      <td>...</td>\n",
              "      <td>...</td>\n",
              "      <td>...</td>\n",
              "      <td>...</td>\n",
              "      <td>...</td>\n",
              "      <td>...</td>\n",
              "      <td>...</td>\n",
              "    </tr>\n",
              "    <tr>\n",
              "      <th>19980298</th>\n",
              "      <td>2018-06-13</td>\n",
              "      <td>730404</td>\n",
              "      <td>862.0</td>\n",
              "      <td>113441.0</td>\n",
              "      <td>(106829) Натрия хлорид 0.9% р-р д/инфуз фл 200...</td>\n",
              "      <td>720.0</td>\n",
              "      <td>166.0</td>\n",
              "      <td>-1.0</td>\n",
              "      <td>2,00</td>\n",
              "    </tr>\n",
              "    <tr>\n",
              "      <th>19980302</th>\n",
              "      <td>2018-06-13</td>\n",
              "      <td>730404</td>\n",
              "      <td>862.0</td>\n",
              "      <td>78795.0</td>\n",
              "      <td>(10339) Система для переливания инфузионных ра...</td>\n",
              "      <td>761.0</td>\n",
              "      <td>176.0</td>\n",
              "      <td>879.0</td>\n",
              "      <td>2,00</td>\n",
              "    </tr>\n",
              "    <tr>\n",
              "      <th>19980607</th>\n",
              "      <td>2018-06-13</td>\n",
              "      <td>730404</td>\n",
              "      <td>862.0</td>\n",
              "      <td>158600.0</td>\n",
              "      <td>(181232) PL Шприц одноразовый 3-комп. 5мл №1</td>\n",
              "      <td>762.0</td>\n",
              "      <td>176.0</td>\n",
              "      <td>1520.0</td>\n",
              "      <td>8,00</td>\n",
              "    </tr>\n",
              "    <tr>\n",
              "      <th>19981747</th>\n",
              "      <td>2018-06-14</td>\n",
              "      <td>730404</td>\n",
              "      <td>862.0</td>\n",
              "      <td>115538.0</td>\n",
              "      <td>(42780) Анузол суппоз.рект.№10</td>\n",
              "      <td>445.0</td>\n",
              "      <td>103.0</td>\n",
              "      <td>-1.0</td>\n",
              "      <td>2,00</td>\n",
              "    </tr>\n",
              "    <tr>\n",
              "      <th>19981756</th>\n",
              "      <td>2018-06-14</td>\n",
              "      <td>730404</td>\n",
              "      <td>862.0</td>\n",
              "      <td>41096.0</td>\n",
              "      <td>(81509) PL Хлоргексидин биглюконат р-р 0.05% ф...</td>\n",
              "      <td>404.0</td>\n",
              "      <td>93.0</td>\n",
              "      <td>1520.0</td>\n",
              "      <td>2,00</td>\n",
              "    </tr>\n",
              "  </tbody>\n",
              "</table>\n",
              "<p>13905 rows × 9 columns</p>\n",
              "</div>"
            ],
            "text/plain": [
              "         sale_date_date contact_id  shop_id  product_id  \\\n",
              "4732950      2018-01-08     730404    862.0     80944.0   \n",
              "4735089      2018-01-05     730404    862.0    156136.0   \n",
              "4757734      2018-01-08     730404    862.0    106860.0   \n",
              "4757795      2018-01-08     730404    862.0    135702.0   \n",
              "4760317      2018-01-05     730404    862.0     43759.0   \n",
              "...                 ...        ...      ...         ...   \n",
              "19980298     2018-06-13     730404    862.0    113441.0   \n",
              "19980302     2018-06-13     730404    862.0     78795.0   \n",
              "19980607     2018-06-13     730404    862.0    158600.0   \n",
              "19981747     2018-06-14     730404    862.0    115538.0   \n",
              "19981756     2018-06-14     730404    862.0     41096.0   \n",
              "\n",
              "                                                       name  \\\n",
              "4732950   (67303) Панкреатин таб.п.о.кишечнораств. 30 ЕД...   \n",
              "4735089          (180238) PL Бахилы медицинские №10 (5 пар)   \n",
              "4757734   (103180) PL Контейнер д/биопроб универс. 120мл...   \n",
              "4757795   (64773) Ацикловир Белупо крем наружн. 5% туба 10г   \n",
              "4760317                       (33169) Гидроперит тб 1.5г N8   \n",
              "...                                                     ...   \n",
              "19980298  (106829) Натрия хлорид 0.9% р-р д/инфуз фл 200...   \n",
              "19980302  (10339) Система для переливания инфузионных ра...   \n",
              "19980607       (181232) PL Шприц одноразовый 3-комп. 5мл №1   \n",
              "19981747                     (42780) Анузол суппоз.рект.№10   \n",
              "19981756  (81509) PL Хлоргексидин биглюконат р-р 0.05% ф...   \n",
              "\n",
              "          product_sub_category_id  product_category_id  brand_id quantity  \n",
              "4732950                     601.0                135.0      -1.0     1,00  \n",
              "4735089                     414.0                 97.0    1520.0     1,00  \n",
              "4757734                     711.0                165.0    1520.0     1,00  \n",
              "4757795                     705.0                162.0      -1.0     1,00  \n",
              "4760317                     404.0                 93.0      -1.0     1,00  \n",
              "...                           ...                  ...       ...      ...  \n",
              "19980298                    720.0                166.0      -1.0     2,00  \n",
              "19980302                    761.0                176.0     879.0     2,00  \n",
              "19980607                    762.0                176.0    1520.0     8,00  \n",
              "19981747                    445.0                103.0      -1.0     2,00  \n",
              "19981756                    404.0                 93.0    1520.0     2,00  \n",
              "\n",
              "[13905 rows x 9 columns]"
            ]
          },
          "execution_count": 138,
          "metadata": {},
          "output_type": "execute_result"
        }
      ],
      "source": [
        "receipt_df[receipt_df['contact_id']=='730404']"
      ]
    },
    {
      "cell_type": "code",
      "execution_count": null,
      "id": "e273c463-0ed3-4b7c-8cc0-d309d6a1c4cb",
      "metadata": {
        "execution": {
          "iopub.execute_input": "2023-04-25T20:35:38.977361Z",
          "iopub.status.busy": "2023-04-25T20:35:38.977361Z",
          "iopub.status.idle": "2023-04-25T20:35:42.365613Z",
          "shell.execute_reply": "2023-04-25T20:35:42.365613Z",
          "shell.execute_reply.started": "2023-04-25T20:35:38.977361Z"
        },
        "tags": [],
        "id": "e273c463-0ed3-4b7c-8cc0-d309d6a1c4cb",
        "outputId": "98155198-cb09-44e3-91f4-f1cc10d1f06c"
      },
      "outputs": [
        {
          "data": {
            "text/plain": [
              "730404     13905\n",
              "665607      8677\n",
              "795400      8264\n",
              "995207      7455\n",
              "749095      7377\n",
              "           ...  \n",
              "2474875        1\n",
              "410505         1\n",
              "1900877        1\n",
              "1885766        1\n",
              "1579612        1\n",
              "Name: contact_id, Length: 1642379, dtype: int64"
            ]
          },
          "execution_count": 146,
          "metadata": {},
          "output_type": "execute_result"
        }
      ],
      "source": [
        "receipt_df['contact_id'].value_counts()"
      ]
    },
    {
      "cell_type": "code",
      "execution_count": null,
      "id": "a65b068f-7c80-4a12-8288-be579f7ac9ad",
      "metadata": {
        "execution": {
          "iopub.execute_input": "2023-04-25T20:30:24.084342Z",
          "iopub.status.busy": "2023-04-25T20:30:24.084342Z",
          "iopub.status.idle": "2023-04-25T20:30:24.688593Z",
          "shell.execute_reply": "2023-04-25T20:30:24.688593Z",
          "shell.execute_reply.started": "2023-04-25T20:30:24.084342Z"
        },
        "id": "a65b068f-7c80-4a12-8288-be579f7ac9ad",
        "outputId": "3276c54a-6330-4e04-9ebc-cd2fea1bcd12"
      },
      "outputs": [
        {
          "name": "stdout",
          "output_type": "stream",
          "text": [
            "Пропусков в столбце: 0\n"
          ]
        }
      ],
      "source": [
        "print(f\"Пропусков в столбце: {sum(receipt_df['shop_id'].isnull())}\")"
      ]
    },
    {
      "cell_type": "code",
      "execution_count": null,
      "id": "5d03a147-3ffc-4303-9920-9221a982c9d6",
      "metadata": {
        "execution": {
          "iopub.execute_input": "2023-04-25T20:29:44.496336Z",
          "iopub.status.busy": "2023-04-25T20:29:44.496336Z",
          "iopub.status.idle": "2023-04-25T20:29:44.663649Z",
          "shell.execute_reply": "2023-04-25T20:29:44.663649Z",
          "shell.execute_reply.started": "2023-04-25T20:29:44.496336Z"
        },
        "tags": [],
        "id": "5d03a147-3ffc-4303-9920-9221a982c9d6",
        "outputId": "7455c2d6-722b-4fa9-a76c-f6931cb14855"
      },
      "outputs": [
        {
          "data": {
            "text/plain": [
              "313.0     267255\n",
              "323.0     259413\n",
              "350.0     255904\n",
              "316.0     251810\n",
              "269.0     242599\n",
              "           ...  \n",
              "2081.0         1\n",
              "719.0          1\n",
              "1202.0         1\n",
              "1688.0         1\n",
              "1640.0         1\n",
              "Name: shop_id, Length: 851, dtype: int64"
            ]
          },
          "execution_count": 132,
          "metadata": {},
          "output_type": "execute_result"
        }
      ],
      "source": [
        "receipt_df['shop_id'].value_counts()"
      ]
    },
    {
      "cell_type": "code",
      "execution_count": null,
      "id": "ea510c9d-247d-4e69-b286-b5b7c0d50a11",
      "metadata": {
        "execution": {
          "iopub.execute_input": "2023-04-25T20:28:41.380787Z",
          "iopub.status.busy": "2023-04-25T20:28:41.380787Z",
          "iopub.status.idle": "2023-04-25T20:28:41.976035Z",
          "shell.execute_reply": "2023-04-25T20:28:41.975526Z",
          "shell.execute_reply.started": "2023-04-25T20:28:41.380787Z"
        },
        "id": "ea510c9d-247d-4e69-b286-b5b7c0d50a11",
        "outputId": "ca07001d-ef9e-4463-b53d-f84a90a4da50"
      },
      "outputs": [
        {
          "name": "stdout",
          "output_type": "stream",
          "text": [
            "Пропусков в столбце: 0\n"
          ]
        }
      ],
      "source": [
        "print(f\"Пропусков в столбце: {sum(receipt_df['shop_id'].isnull())}\")"
      ]
    },
    {
      "cell_type": "markdown",
      "id": "4e61e6a4-1c0a-4c44-901b-260ce8f0046d",
      "metadata": {
        "id": "4e61e6a4-1c0a-4c44-901b-260ce8f0046d"
      },
      "source": [
        "### Анализ столбца product_category_id"
      ]
    },
    {
      "cell_type": "code",
      "execution_count": null,
      "id": "c29824e7-52b6-4a93-8959-80cfc651e201",
      "metadata": {
        "execution": {
          "iopub.execute_input": "2023-04-25T20:28:06.006163Z",
          "iopub.status.busy": "2023-04-25T20:28:06.006163Z",
          "iopub.status.idle": "2023-04-25T20:28:06.143471Z",
          "shell.execute_reply": "2023-04-25T20:28:06.143471Z",
          "shell.execute_reply.started": "2023-04-25T20:28:06.006163Z"
        },
        "tags": [],
        "id": "c29824e7-52b6-4a93-8959-80cfc651e201",
        "outputId": "641e8770-a61d-4c7c-c73f-9852e40e653a"
      },
      "outputs": [
        {
          "data": {
            "text/plain": [
              "170.0    2969444\n",
              "162.0    1906617\n",
              "135.0    1890878\n",
              "101.0    1363400\n",
              "146.0    1009485\n",
              "          ...   \n",
              "184.0          8\n",
              "203.0          6\n",
              "149.0          5\n",
              "207.0          4\n",
              "145.0          4\n",
              "Name: product_category_id, Length: 112, dtype: int64"
            ]
          },
          "execution_count": 126,
          "metadata": {},
          "output_type": "execute_result"
        }
      ],
      "source": [
        "receipt_df['product_category_id'].value_counts()"
      ]
    },
    {
      "cell_type": "code",
      "execution_count": null,
      "id": "e7e46ff5-f27b-4375-b6c0-26c84e6d09c8",
      "metadata": {
        "execution": {
          "iopub.execute_input": "2023-04-25T20:15:56.130648Z",
          "iopub.status.busy": "2023-04-25T20:15:56.130648Z",
          "iopub.status.idle": "2023-04-25T20:15:56.710305Z",
          "shell.execute_reply": "2023-04-25T20:15:56.709306Z",
          "shell.execute_reply.started": "2023-04-25T20:15:56.130648Z"
        },
        "tags": [],
        "id": "e7e46ff5-f27b-4375-b6c0-26c84e6d09c8",
        "outputId": "0ce1e234-c41f-413a-e3c9-98d44c744718"
      },
      "outputs": [
        {
          "name": "stdout",
          "output_type": "stream",
          "text": [
            "Пропусков в столбце: 0\n"
          ]
        }
      ],
      "source": [
        "print(f\"Пропусков в столбце: {sum(receipt_df['product_category_id'].isnull())}\")"
      ]
    },
    {
      "cell_type": "code",
      "execution_count": null,
      "id": "e643e3fc-6d04-480e-bf1d-d1b9b6188a36",
      "metadata": {
        "execution": {
          "iopub.execute_input": "2023-04-25T20:16:34.745827Z",
          "iopub.status.busy": "2023-04-25T20:16:34.744825Z",
          "iopub.status.idle": "2023-04-25T20:16:34.888909Z",
          "shell.execute_reply": "2023-04-25T20:16:34.888909Z",
          "shell.execute_reply.started": "2023-04-25T20:16:34.745827Z"
        },
        "id": "e643e3fc-6d04-480e-bf1d-d1b9b6188a36",
        "outputId": "e6bd9768-8b18-4fff-f711-ec658258c589"
      },
      "outputs": [
        {
          "data": {
            "text/plain": [
              " 738.0    2555316\n",
              " 397.0     841103\n",
              " 595.0     749197\n",
              "-1.0       652908\n",
              " 404.0     588604\n",
              "           ...   \n",
              " 832.0          1\n",
              " 886.0          1\n",
              " 809.0          1\n",
              " 483.0          1\n",
              " 660.0          1\n",
              "Name: product_sub_category_id, Length: 440, dtype: int64"
            ]
          },
          "execution_count": 110,
          "metadata": {},
          "output_type": "execute_result"
        }
      ],
      "source": [
        "receipt_df['product_sub_category_id'].value_counts()"
      ]
    },
    {
      "cell_type": "markdown",
      "id": "b381f254-dfd5-41ba-a115-39885b50d5a3",
      "metadata": {
        "jp-MarkdownHeadingCollapsed": true,
        "tags": [],
        "id": "b381f254-dfd5-41ba-a115-39885b50d5a3"
      },
      "source": [
        "### Анализ столбца 'brand_id'"
      ]
    },
    {
      "cell_type": "code",
      "execution_count": null,
      "id": "4d73e204-951c-446a-a9fe-6430e4a86c3f",
      "metadata": {
        "execution": {
          "iopub.execute_input": "2023-04-25T20:05:10.558193Z",
          "iopub.status.busy": "2023-04-25T20:05:10.557195Z",
          "iopub.status.idle": "2023-04-25T20:05:10.703581Z",
          "shell.execute_reply": "2023-04-25T20:05:10.702581Z",
          "shell.execute_reply.started": "2023-04-25T20:05:10.558193Z"
        },
        "tags": [],
        "id": "4d73e204-951c-446a-a9fe-6430e4a86c3f",
        "outputId": "7fea6cdb-474c-4308-c6f8-503748d15e8a"
      },
      "outputs": [
        {
          "data": {
            "text/plain": [
              "-1.0       16176371\n",
              " 1520.0      881070\n",
              " 1348.0      151294\n",
              " 2038.0      105401\n",
              " 4538.0       97269\n",
              "             ...   \n",
              " 1433.0           1\n",
              " 4877.0           1\n",
              " 932.0            1\n",
              " 1539.0           1\n",
              " 4529.0           1\n",
              "Name: brand_id, Length: 1631, dtype: int64"
            ]
          },
          "execution_count": 89,
          "metadata": {},
          "output_type": "execute_result"
        }
      ],
      "source": [
        "receipt_df['brand_id'].value_counts()"
      ]
    },
    {
      "cell_type": "code",
      "execution_count": null,
      "id": "f6c34dad-e2f2-47de-8452-c4abc155f4ed",
      "metadata": {
        "execution": {
          "iopub.execute_input": "2023-04-25T20:15:18.946847Z",
          "iopub.status.busy": "2023-04-25T20:15:18.946847Z",
          "iopub.status.idle": "2023-04-25T20:15:19.531835Z",
          "shell.execute_reply": "2023-04-25T20:15:19.531835Z",
          "shell.execute_reply.started": "2023-04-25T20:15:18.946847Z"
        },
        "tags": [],
        "id": "f6c34dad-e2f2-47de-8452-c4abc155f4ed",
        "outputId": "14334ab2-a1bb-43e2-8791-7bf09507b8a8"
      },
      "outputs": [
        {
          "name": "stdout",
          "output_type": "stream",
          "text": [
            "Пропусков в столбце: 0\n"
          ]
        }
      ],
      "source": [
        "print(f\"Пропусков в столбце: {sum(receipt_df['brand_id'].isnull())}\")"
      ]
    },
    {
      "cell_type": "markdown",
      "id": "cc922e27-635b-4903-a422-40758e316adb",
      "metadata": {
        "id": "cc922e27-635b-4903-a422-40758e316adb"
      },
      "source": [
        "**ВЫВОД: более чем у 75 % записей, судя по всему, отсутствует указание бренда (лейбл '-1'), поэтому данный столбец в рекоммендациях учитывать не будем.**"
      ]
    },
    {
      "cell_type": "markdown",
      "id": "6362497c-53fe-4a0e-b024-7b282ae50643",
      "metadata": {
        "tags": [],
        "id": "6362497c-53fe-4a0e-b024-7b282ae50643"
      },
      "source": [
        "### Анализ столбца 'sale_date_date'"
      ]
    },
    {
      "cell_type": "code",
      "execution_count": 11,
      "id": "9c54a09c-fc5f-42d3-9a29-f9b78133b6c5",
      "metadata": {
        "execution": {
          "iopub.execute_input": "2023-04-26T04:21:57.155316Z",
          "iopub.status.busy": "2023-04-26T04:21:57.154315Z",
          "iopub.status.idle": "2023-04-26T04:21:58.242541Z",
          "shell.execute_reply": "2023-04-26T04:21:58.242541Z",
          "shell.execute_reply.started": "2023-04-26T04:21:57.155316Z"
        },
        "tags": [],
        "id": "9c54a09c-fc5f-42d3-9a29-f9b78133b6c5"
      },
      "outputs": [],
      "source": [
        "# приводим столбец с датами к формату pandas Timestamp\n",
        "receipt_df['sale_date_date'] = pd.to_datetime(receipt_df['sale_date_date'])"
      ]
    },
    {
      "cell_type": "code",
      "execution_count": 12,
      "id": "5c47742b-8b39-47dd-aff3-d52dc6d9f26c",
      "metadata": {
        "execution": {
          "iopub.execute_input": "2023-04-26T04:22:00.434103Z",
          "iopub.status.busy": "2023-04-26T04:22:00.434103Z",
          "iopub.status.idle": "2023-04-26T04:22:00.443099Z",
          "shell.execute_reply": "2023-04-26T04:22:00.443099Z",
          "shell.execute_reply.started": "2023-04-26T04:22:00.434103Z"
        },
        "tags": [],
        "colab": {
          "base_uri": "https://localhost:8080/"
        },
        "id": "5c47742b-8b39-47dd-aff3-d52dc6d9f26c",
        "outputId": "b62dd2b0-52d6-4d26-e837-b4c5e1a3371b"
      },
      "outputs": [
        {
          "output_type": "stream",
          "name": "stdout",
          "text": [
            "<class 'pandas.core.frame.DataFrame'>\n",
            "Int64Index: 100000 entries, 0 to 99999\n",
            "Data columns (total 9 columns):\n",
            " #   Column                   Non-Null Count   Dtype         \n",
            "---  ------                   --------------   -----         \n",
            " 0   sale_date_date           100000 non-null  datetime64[ns]\n",
            " 1   contact_id               100000 non-null  int64         \n",
            " 2   shop_id                  100000 non-null  int64         \n",
            " 3   product_id               100000 non-null  int64         \n",
            " 4   name                     99999 non-null   object        \n",
            " 5   product_sub_category_id  100000 non-null  int64         \n",
            " 6   product_category_id      100000 non-null  int64         \n",
            " 7   brand_id                 100000 non-null  int64         \n",
            " 8   quantity                 100000 non-null  object        \n",
            "dtypes: datetime64[ns](1), int64(6), object(2)\n",
            "memory usage: 7.6+ MB\n"
          ]
        }
      ],
      "source": [
        "receipt_df.info()"
      ]
    },
    {
      "cell_type": "code",
      "execution_count": 13,
      "id": "a295791f-13a6-4323-a08e-cfd7f9aa10e0",
      "metadata": {
        "execution": {
          "iopub.execute_input": "2023-04-26T04:22:03.244843Z",
          "iopub.status.busy": "2023-04-26T04:22:03.244843Z",
          "iopub.status.idle": "2023-04-26T04:22:32.183893Z",
          "shell.execute_reply": "2023-04-26T04:22:32.183893Z",
          "shell.execute_reply.started": "2023-04-26T04:22:03.244843Z"
        },
        "tags": [],
        "colab": {
          "base_uri": "https://localhost:8080/"
        },
        "id": "a295791f-13a6-4323-a08e-cfd7f9aa10e0",
        "outputId": "8945c223-c6b2-4b8c-c7b3-0fd432a0b150"
      },
      "outputs": [
        {
          "output_type": "stream",
          "name": "stdout",
          "text": [
            "Min дата: 2018-12-07 00:00:00\n",
            "Max дата: 2018-12-09 00:00:00\n"
          ]
        }
      ],
      "source": [
        "print(f'Min дата: {min(receipt_df[\"sale_date_date\"])}')\n",
        "print(f'Max дата: {max(receipt_df[\"sale_date_date\"])}')"
      ]
    },
    {
      "cell_type": "code",
      "execution_count": 14,
      "id": "ac8d98ef-9316-48a5-921f-5e099c0ca293",
      "metadata": {
        "execution": {
          "iopub.execute_input": "2023-04-26T04:22:57.813314Z",
          "iopub.status.busy": "2023-04-26T04:22:57.813314Z",
          "iopub.status.idle": "2023-04-26T04:23:05.421120Z",
          "shell.execute_reply": "2023-04-26T04:23:05.420726Z",
          "shell.execute_reply.started": "2023-04-26T04:22:57.813314Z"
        },
        "tags": [],
        "colab": {
          "base_uri": "https://localhost:8080/"
        },
        "id": "ac8d98ef-9316-48a5-921f-5e099c0ca293",
        "outputId": "0599d854-daf3-4f07-b751-339539d5e1d4"
      },
      "outputs": [
        {
          "output_type": "stream",
          "name": "stdout",
          "text": [
            "1 mounth: 0\n",
            "2 mounth: 0\n",
            "3 mounth: 0\n",
            "4 mounth: 0\n",
            "5 mounth: 0\n",
            "6 mounth: 0\n",
            "7 mounth: 0\n",
            "8 mounth: 0\n",
            "9 mounth: 0\n",
            "10 mounth: 0\n",
            "11 mounth: 0\n",
            "12 mounth: 100000\n",
            "Check: 100000\n"
          ]
        }
      ],
      "source": [
        "by_mounthes = []\n",
        "\n",
        "# с января по август\n",
        "for i in range(1, 9):\n",
        "    cur_per = sum((receipt_df['sale_date_date']<f'2018-0{i+1}-01 00:00:00')&(receipt_df['sale_date_date']>=f'2018-0{i}-01 00:00:00'))\n",
        "    by_mounthes.append(cur_per)\n",
        "    print(f'{i} mounth:', cur_per)\n",
        "\n",
        "# сентябрь\n",
        "cur_per = sum((receipt_df['sale_date_date']<f'2018-10-01 00:00:00')&(receipt_df['sale_date_date']>=f'2018-09-01 00:00:00'))\n",
        "by_mounthes.append(cur_per)\n",
        "print(f'{9} mounth:', cur_per)\n",
        "\n",
        "# с октября по н0ябрь\n",
        "for i in range(10, 12):\n",
        "    cur_per = sum((receipt_df['sale_date_date']<f'2018-{i+1}-01 00:00:00')&(receipt_df['sale_date_date']>=f'2018-{i}-01 00:00:00'))\n",
        "    by_mounthes.append(cur_per)\n",
        "    print(f'{i} mounth:', cur_per)\n",
        "\n",
        "# декабрь\n",
        "cur_per = sum(receipt_df['sale_date_date']>=f'2018-12-01 00:00:00')\n",
        "by_mounthes.append(cur_per)\n",
        "print(f'{12} mounth:', cur_per)\n",
        "\n",
        "# проверим по сумме\n",
        "print(f'Check: {sum(by_mounthes)}')"
      ]
    },
    {
      "cell_type": "code",
      "execution_count": null,
      "id": "8d06db10-e003-4833-a6de-56e012926ed4",
      "metadata": {
        "execution": {
          "iopub.execute_input": "2023-04-26T04:23:10.104865Z",
          "iopub.status.busy": "2023-04-26T04:23:10.103866Z",
          "iopub.status.idle": "2023-04-26T04:23:10.288899Z",
          "shell.execute_reply": "2023-04-26T04:23:10.288899Z",
          "shell.execute_reply.started": "2023-04-26T04:23:10.104865Z"
        },
        "tags": [],
        "id": "8d06db10-e003-4833-a6de-56e012926ed4",
        "outputId": "b58a65f6-8afb-4e3c-b2b4-da69756c02f4"
      },
      "outputs": [
        {
          "data": {
            "text/plain": [
              "[<matplotlib.lines.Line2D at 0x25a80fceb20>]"
            ]
          },
          "execution_count": 16,
          "metadata": {},
          "output_type": "execute_result"
        },
        {
          "data": {
            "image/png": "[encoded data removed]",
            "text/plain": [
              "<Figure size 640x480 with 1 Axes>"
            ]
          },
          "metadata": {},
          "output_type": "display_data"
        }
      ],
      "source": [
        "# визуализация распределения чековых данных по месяцам\n",
        "plt.plot(by_mounthes)"
      ]
    },
    {
      "cell_type": "markdown",
      "id": "e9373976-87b0-43cf-a370-4aaf6f8a4a9b",
      "metadata": {
        "id": "e9373976-87b0-43cf-a370-4aaf6f8a4a9b"
      },
      "source": [
        "1. Распределение по году сильно неравномерное (в течение нескольких месяцев данные и вовсе отсутствуют), и этот факт может осложнить деление данных на выборки с учетом временного периода.\n",
        "\n",
        "2. Продажи в аптеках могут быть скоррелированы с сезонными вспышками заболеваний (осень, зима - простудные заболевания, а поздней весной и летом, например, аллергия), что, вероятно, могло бы пригодиться при выдаче рекоммендаций, однако данную \"сезонность\" заболеваний можно учесть при item-based подходе, ориентируясь на товары в чеке. Ведь основная цель наших рекоммендаций: предложить дополнительные лекарства к приобретению в момент покупки, т.е. когда уже ясно, что покупатель приобретает.\n",
        "\n",
        "**ВЫВОД: с учетом вышесказанного нет смысла делить данные на части с учетом временного периода.**"
      ]
    },
    {
      "cell_type": "code",
      "execution_count": null,
      "id": "e2024191-9567-42ea-9919-da7391ce3082",
      "metadata": {
        "execution": {
          "iopub.execute_input": "2023-04-26T04:26:23.333320Z",
          "iopub.status.busy": "2023-04-26T04:26:23.333320Z",
          "iopub.status.idle": "2023-04-26T04:26:23.345319Z",
          "shell.execute_reply": "2023-04-26T04:26:23.345319Z",
          "shell.execute_reply.started": "2023-04-26T04:26:23.333320Z"
        },
        "tags": [],
        "id": "e2024191-9567-42ea-9919-da7391ce3082",
        "outputId": "820212be-a9d3-474e-930c-dfdc8136566c"
      },
      "outputs": [
        {
          "data": {
            "text/html": [
              "<div>\n",
              "<style scoped>\n",
              "    .dataframe tbody tr th:only-of-type {\n",
              "        vertical-align: middle;\n",
              "    }\n",
              "\n",
              "    .dataframe tbody tr th {\n",
              "        vertical-align: top;\n",
              "    }\n",
              "\n",
              "    .dataframe thead th {\n",
              "        text-align: right;\n",
              "    }\n",
              "</style>\n",
              "<table border=\"1\" class=\"dataframe\">\n",
              "  <thead>\n",
              "    <tr style=\"text-align: right;\">\n",
              "      <th></th>\n",
              "      <th>sale_date_date</th>\n",
              "      <th>contact_id</th>\n",
              "      <th>shop_id</th>\n",
              "      <th>product_id</th>\n",
              "      <th>name</th>\n",
              "      <th>product_sub_category_id</th>\n",
              "      <th>product_category_id</th>\n",
              "      <th>brand_id</th>\n",
              "      <th>quantity</th>\n",
              "    </tr>\n",
              "  </thead>\n",
              "  <tbody>\n",
              "    <tr>\n",
              "      <th>0</th>\n",
              "      <td>2018-12-07</td>\n",
              "      <td>1260627</td>\n",
              "      <td>1455</td>\n",
              "      <td>168308</td>\n",
              "      <td>(197312) Пакет-майка 25см х 45см</td>\n",
              "      <td>906</td>\n",
              "      <td>205</td>\n",
              "      <td>-1</td>\n",
              "      <td>1,00</td>\n",
              "    </tr>\n",
              "    <tr>\n",
              "      <th>1</th>\n",
              "      <td>2018-12-07</td>\n",
              "      <td>198287</td>\n",
              "      <td>279</td>\n",
              "      <td>134832</td>\n",
              "      <td>(62448) Перекись водорода р-р наружн. 3% фл.по...</td>\n",
              "      <td>404</td>\n",
              "      <td>93</td>\n",
              "      <td>-1</td>\n",
              "      <td>1,00</td>\n",
              "    </tr>\n",
              "    <tr>\n",
              "      <th>2</th>\n",
              "      <td>2018-12-07</td>\n",
              "      <td>2418385</td>\n",
              "      <td>848</td>\n",
              "      <td>101384</td>\n",
              "      <td>(72183) Салициловая кислота р-р спирт 2% фл 40...</td>\n",
              "      <td>404</td>\n",
              "      <td>93</td>\n",
              "      <td>-1</td>\n",
              "      <td>1,00</td>\n",
              "    </tr>\n",
              "    <tr>\n",
              "      <th>3</th>\n",
              "      <td>2018-12-07</td>\n",
              "      <td>1285774</td>\n",
              "      <td>1511</td>\n",
              "      <td>168570</td>\n",
              "      <td>(197309) Пакет 28см х 50см</td>\n",
              "      <td>906</td>\n",
              "      <td>205</td>\n",
              "      <td>-1</td>\n",
              "      <td>1,00</td>\n",
              "    </tr>\n",
              "    <tr>\n",
              "      <th>4</th>\n",
              "      <td>2018-12-07</td>\n",
              "      <td>1810323</td>\n",
              "      <td>1501</td>\n",
              "      <td>168319</td>\n",
              "      <td>(197310) Пакет 30см х 60см</td>\n",
              "      <td>906</td>\n",
              "      <td>205</td>\n",
              "      <td>-1</td>\n",
              "      <td>1,00</td>\n",
              "    </tr>\n",
              "    <tr>\n",
              "      <th>...</th>\n",
              "      <td>...</td>\n",
              "      <td>...</td>\n",
              "      <td>...</td>\n",
              "      <td>...</td>\n",
              "      <td>...</td>\n",
              "      <td>...</td>\n",
              "      <td>...</td>\n",
              "      <td>...</td>\n",
              "      <td>...</td>\n",
              "    </tr>\n",
              "    <tr>\n",
              "      <th>99995</th>\n",
              "      <td>2018-12-07</td>\n",
              "      <td>201801</td>\n",
              "      <td>321</td>\n",
              "      <td>135428</td>\n",
              "      <td>(64220) Фокусин капс.с модиф.высв. 0,4мг №90</td>\n",
              "      <td>627</td>\n",
              "      <td>144</td>\n",
              "      <td>-1</td>\n",
              "      <td>1,00</td>\n",
              "    </tr>\n",
              "    <tr>\n",
              "      <th>99996</th>\n",
              "      <td>2018-12-07</td>\n",
              "      <td>2610369</td>\n",
              "      <td>907</td>\n",
              "      <td>143610</td>\n",
              "      <td>(24701) Тирозол табл. п.о. 10 мг. №50</td>\n",
              "      <td>459</td>\n",
              "      <td>108</td>\n",
              "      <td>-1</td>\n",
              "      <td>1,00</td>\n",
              "    </tr>\n",
              "    <tr>\n",
              "      <th>99997</th>\n",
              "      <td>2018-12-07</td>\n",
              "      <td>2454531</td>\n",
              "      <td>596</td>\n",
              "      <td>150460</td>\n",
              "      <td>(14295) Деринат (натрия дезоксирибонуклеат) р-...</td>\n",
              "      <td>583</td>\n",
              "      <td>130</td>\n",
              "      <td>-1</td>\n",
              "      <td>1,00</td>\n",
              "    </tr>\n",
              "    <tr>\n",
              "      <th>99998</th>\n",
              "      <td>2018-12-07</td>\n",
              "      <td>2025602</td>\n",
              "      <td>110</td>\n",
              "      <td>148081</td>\n",
              "      <td>(39201) Хофитол тб 0.2г N60</td>\n",
              "      <td>595</td>\n",
              "      <td>135</td>\n",
              "      <td>-1</td>\n",
              "      <td>1,00</td>\n",
              "    </tr>\n",
              "    <tr>\n",
              "      <th>99999</th>\n",
              "      <td>2018-12-07</td>\n",
              "      <td>336647</td>\n",
              "      <td>849</td>\n",
              "      <td>62393</td>\n",
              "      <td>(115435) Бронхо Веда леденцы на травяной основ...</td>\n",
              "      <td>700</td>\n",
              "      <td>162</td>\n",
              "      <td>2883</td>\n",
              "      <td>1,00</td>\n",
              "    </tr>\n",
              "  </tbody>\n",
              "</table>\n",
              "<p>100000 rows × 9 columns</p>\n",
              "</div>"
            ],
            "text/plain": [
              "      sale_date_date  contact_id  shop_id  product_id  \\\n",
              "0         2018-12-07     1260627     1455      168308   \n",
              "1         2018-12-07      198287      279      134832   \n",
              "2         2018-12-07     2418385      848      101384   \n",
              "3         2018-12-07     1285774     1511      168570   \n",
              "4         2018-12-07     1810323     1501      168319   \n",
              "...              ...         ...      ...         ...   \n",
              "99995     2018-12-07      201801      321      135428   \n",
              "99996     2018-12-07     2610369      907      143610   \n",
              "99997     2018-12-07     2454531      596      150460   \n",
              "99998     2018-12-07     2025602      110      148081   \n",
              "99999     2018-12-07      336647      849       62393   \n",
              "\n",
              "                                                    name  \\\n",
              "0                       (197312) Пакет-майка 25см х 45см   \n",
              "1      (62448) Перекись водорода р-р наружн. 3% фл.по...   \n",
              "2      (72183) Салициловая кислота р-р спирт 2% фл 40...   \n",
              "3                             (197309) Пакет 28см х 50см   \n",
              "4                             (197310) Пакет 30см х 60см   \n",
              "...                                                  ...   \n",
              "99995       (64220) Фокусин капс.с модиф.высв. 0,4мг №90   \n",
              "99996              (24701) Тирозол табл. п.о. 10 мг. №50   \n",
              "99997  (14295) Деринат (натрия дезоксирибонуклеат) р-...   \n",
              "99998                        (39201) Хофитол тб 0.2г N60   \n",
              "99999  (115435) Бронхо Веда леденцы на травяной основ...   \n",
              "\n",
              "       product_sub_category_id  product_category_id  brand_id quantity  \n",
              "0                          906                  205        -1     1,00  \n",
              "1                          404                   93        -1     1,00  \n",
              "2                          404                   93        -1     1,00  \n",
              "3                          906                  205        -1     1,00  \n",
              "4                          906                  205        -1     1,00  \n",
              "...                        ...                  ...       ...      ...  \n",
              "99995                      627                  144        -1     1,00  \n",
              "99996                      459                  108        -1     1,00  \n",
              "99997                      583                  130        -1     1,00  \n",
              "99998                      595                  135        -1     1,00  \n",
              "99999                      700                  162      2883     1,00  \n",
              "\n",
              "[100000 rows x 9 columns]"
            ]
          },
          "execution_count": 23,
          "metadata": {},
          "output_type": "execute_result"
        }
      ],
      "source": [
        "receipt_df.iloc[:100000,:]"
      ]
    },
    {
      "cell_type": "code",
      "execution_count": null,
      "id": "45cf253b-e578-4ba1-98f0-7296b76e5236",
      "metadata": {
        "execution": {
          "iopub.execute_input": "2023-04-26T04:26:23.960297Z",
          "iopub.status.busy": "2023-04-26T04:26:23.959298Z",
          "iopub.status.idle": "2023-04-26T04:26:24.268543Z",
          "shell.execute_reply": "2023-04-26T04:26:24.268543Z",
          "shell.execute_reply.started": "2023-04-26T04:26:23.960297Z"
        },
        "tags": [],
        "id": "45cf253b-e578-4ba1-98f0-7296b76e5236"
      },
      "outputs": [],
      "source": [
        "receipt_df.iloc[:100000,:].to_csv('data.csv')"
      ]
    },
    {
      "cell_type": "code",
      "execution_count": null,
      "id": "fbe737ba-df39-4534-a654-71869e63fb7e",
      "metadata": {
        "id": "fbe737ba-df39-4534-a654-71869e63fb7e"
      },
      "outputs": [],
      "source": []
    }
  ],
  "metadata": {
    "kernelspec": {
      "display_name": "Python 3 (ipykernel)",
      "language": "python",
      "name": "python3"
    },
    "language_info": {
      "codemirror_mode": {
        "name": "ipython",
        "version": 3
      },
      "file_extension": ".py",
      "mimetype": "text/x-python",
      "name": "python",
      "nbconvert_exporter": "python",
      "pygments_lexer": "ipython3",
      "version": "3.9.16"
    },
    "colab": {
      "provenance": [],
      "toc_visible": true,
      "include_colab_link": true
    }
  },
  "nbformat": 4,
  "nbformat_minor": 5
}