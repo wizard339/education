{
 "cells": [
  {
   "cell_type": "markdown",
   "metadata": {
    "colab_type": "text",
    "id": "view-in-github"
   },
   "source": [
    "<a href=\"https://colab.research.google.com/github/wizard339/education/blob/main/qa_test.ipynb\" target=\"_parent\"><img src=\"https://colab.research.google.com/assets/colab-badge.svg\" alt=\"Open In Colab\"/></a>"
   ]
  },
  {
   "cell_type": "code",
   "execution_count": 2,
   "metadata": {
    "collapsed": true,
    "id": "5Cvsyxta0ZUq",
    "jupyter": {
     "outputs_hidden": true
    },
    "tags": []
   },
   "outputs": [
    {
     "name": "stdout",
     "output_type": "stream",
     "text": [
      "Requirement already satisfied: transformers in c:\\programdata\\anaconda3\\envs\\pytorch_1\\lib\\site-packages (4.26.1)\n",
      "Requirement already satisfied: evaluate in c:\\programdata\\anaconda3\\envs\\pytorch_1\\lib\\site-packages (0.4.0)\n",
      "Requirement already satisfied: datasets in c:\\programdata\\anaconda3\\envs\\pytorch_1\\lib\\site-packages (2.10.1)\n",
      "Requirement already satisfied: packaging>=20.0 in c:\\programdata\\anaconda3\\envs\\pytorch_1\\lib\\site-packages (from transformers) (22.0)\n",
      "Requirement already satisfied: tqdm>=4.27 in c:\\programdata\\anaconda3\\envs\\pytorch_1\\lib\\site-packages (from transformers) (4.65.0)\n",
      "Requirement already satisfied: pyyaml>=5.1 in c:\\programdata\\anaconda3\\envs\\pytorch_1\\lib\\site-packages (from transformers) (6.0)\n",
      "Requirement already satisfied: tokenizers!=0.11.3,<0.14,>=0.11.1 in c:\\programdata\\anaconda3\\envs\\pytorch_1\\lib\\site-packages (from transformers) (0.13.2)\n",
      "Requirement already satisfied: regex!=2019.12.17 in c:\\programdata\\anaconda3\\envs\\pytorch_1\\lib\\site-packages (from transformers) (2022.10.31)\n",
      "Requirement already satisfied: requests in c:\\programdata\\anaconda3\\envs\\pytorch_1\\lib\\site-packages (from transformers) (2.28.1)\n",
      "Requirement already satisfied: filelock in c:\\programdata\\anaconda3\\envs\\pytorch_1\\lib\\site-packages (from transformers) (3.9.0)\n",
      "Requirement already satisfied: numpy>=1.17 in c:\\programdata\\anaconda3\\envs\\pytorch_1\\lib\\site-packages (from transformers) (1.23.5)\n",
      "Requirement already satisfied: huggingface-hub<1.0,>=0.11.0 in c:\\programdata\\anaconda3\\envs\\pytorch_1\\lib\\site-packages (from transformers) (0.12.1)\n",
      "Requirement already satisfied: xxhash in c:\\programdata\\anaconda3\\envs\\pytorch_1\\lib\\site-packages (from evaluate) (3.2.0)\n",
      "Requirement already satisfied: responses<0.19 in c:\\programdata\\anaconda3\\envs\\pytorch_1\\lib\\site-packages (from evaluate) (0.18.0)\n",
      "Requirement already satisfied: multiprocess in c:\\programdata\\anaconda3\\envs\\pytorch_1\\lib\\site-packages (from evaluate) (0.70.14)\n",
      "Requirement already satisfied: dill in c:\\programdata\\anaconda3\\envs\\pytorch_1\\lib\\site-packages (from evaluate) (0.3.6)\n",
      "Requirement already satisfied: pandas in c:\\programdata\\anaconda3\\envs\\pytorch_1\\lib\\site-packages (from evaluate) (1.5.3)\n",
      "Requirement already satisfied: fsspec[http]>=2021.05.0 in c:\\programdata\\anaconda3\\envs\\pytorch_1\\lib\\site-packages (from evaluate) (2023.3.0)\n",
      "Requirement already satisfied: aiohttp in c:\\programdata\\anaconda3\\envs\\pytorch_1\\lib\\site-packages (from datasets) (3.8.4)\n",
      "Requirement already satisfied: pyarrow>=6.0.0 in c:\\programdata\\anaconda3\\envs\\pytorch_1\\lib\\site-packages (from datasets) (11.0.0)\n",
      "Requirement already satisfied: frozenlist>=1.1.1 in c:\\programdata\\anaconda3\\envs\\pytorch_1\\lib\\site-packages (from aiohttp->datasets) (1.3.3)\n",
      "Requirement already satisfied: charset-normalizer<4.0,>=2.0 in c:\\programdata\\anaconda3\\envs\\pytorch_1\\lib\\site-packages (from aiohttp->datasets) (2.0.4)\n",
      "Requirement already satisfied: yarl<2.0,>=1.0 in c:\\programdata\\anaconda3\\envs\\pytorch_1\\lib\\site-packages (from aiohttp->datasets) (1.8.2)\n",
      "Requirement already satisfied: async-timeout<5.0,>=4.0.0a3 in c:\\programdata\\anaconda3\\envs\\pytorch_1\\lib\\site-packages (from aiohttp->datasets) (4.0.2)\n",
      "Requirement already satisfied: aiosignal>=1.1.2 in c:\\programdata\\anaconda3\\envs\\pytorch_1\\lib\\site-packages (from aiohttp->datasets) (1.3.1)\n",
      "Requirement already satisfied: multidict<7.0,>=4.5 in c:\\programdata\\anaconda3\\envs\\pytorch_1\\lib\\site-packages (from aiohttp->datasets) (6.0.4)\n",
      "Requirement already satisfied: attrs>=17.3.0 in c:\\programdata\\anaconda3\\envs\\pytorch_1\\lib\\site-packages (from aiohttp->datasets) (22.1.0)\n",
      "Requirement already satisfied: typing-extensions>=3.7.4.3 in c:\\programdata\\anaconda3\\envs\\pytorch_1\\lib\\site-packages (from huggingface-hub<1.0,>=0.11.0->transformers) (4.5.0)\n",
      "Requirement already satisfied: certifi>=2017.4.17 in c:\\programdata\\anaconda3\\envs\\pytorch_1\\lib\\site-packages (from requests->transformers) (2022.12.7)\n",
      "Requirement already satisfied: urllib3<1.27,>=1.21.1 in c:\\programdata\\anaconda3\\envs\\pytorch_1\\lib\\site-packages (from requests->transformers) (1.26.14)\n",
      "Requirement already satisfied: idna<4,>=2.5 in c:\\programdata\\anaconda3\\envs\\pytorch_1\\lib\\site-packages (from requests->transformers) (3.4)\n",
      "Requirement already satisfied: colorama in c:\\programdata\\anaconda3\\envs\\pytorch_1\\lib\\site-packages (from tqdm>=4.27->transformers) (0.4.6)\n",
      "Requirement already satisfied: pytz>=2020.1 in c:\\programdata\\anaconda3\\envs\\pytorch_1\\lib\\site-packages (from pandas->evaluate) (2022.7)\n",
      "Requirement already satisfied: python-dateutil>=2.8.1 in c:\\programdata\\anaconda3\\envs\\pytorch_1\\lib\\site-packages (from pandas->evaluate) (2.8.2)\n",
      "Requirement already satisfied: six>=1.5 in c:\\programdata\\anaconda3\\envs\\pytorch_1\\lib\\site-packages (from python-dateutil>=2.8.1->pandas->evaluate) (1.16.0)\n"
     ]
    }
   ],
   "source": [
    "!pip install transformers evaluate datasets"
   ]
  },
  {
   "cell_type": "code",
   "execution_count": 1,
   "metadata": {
    "id": "bdfksrqTh-wz"
   },
   "outputs": [],
   "source": [
    "import os\n",
    "import torch\n",
    "from datasets import load_dataset, Dataset, DatasetDict\n",
    "from transformers import (\n",
    "    AutoTokenizer,\n",
    "    AutoModelForQuestionAnswering,\n",
    "    TrainingArguments,\n",
    "    Trainer,\n",
    "    )\n",
    "import evaluate\n",
    "from tqdm.auto import tqdm\n",
    "import collections\n",
    "import numpy as np"
   ]
  },
  {
   "cell_type": "code",
   "execution_count": 2,
   "metadata": {},
   "outputs": [
    {
     "name": "stdout",
     "output_type": "stream",
     "text": [
      "cuda\n"
     ]
    }
   ],
   "source": [
    "device = torch.device(\"cuda\") if torch.cuda.is_available() else torch.device(\"cpu\")\n",
    "print(device)"
   ]
  },
  {
   "cell_type": "code",
   "execution_count": 3,
   "metadata": {
    "colab": {
     "base_uri": "https://localhost:8080/",
     "height": 138,
     "referenced_widgets": [
      "ef6d028a350a4ffaa599d7ac7f47f303",
      "cd631b39c7b64adaa7791d94fec7626e",
      "765cdf02689945cbbfdd0ab651c13421",
      "5a07e6a2f41249889ac59bd1ed8c028d",
      "053bb73e10644128925ea062bf7dffa0",
      "3f0ed7bb97fa4419bbb70b528ad6ad0a",
      "01ce4f34f34545788dd14bb5c7c9f8a9",
      "f862f8cdf4a44fee93ff8f72562ab6ca",
      "3f7018721bed49369adcc946c61149a1",
      "2c4570e39aea41f6a6ade0f63c787ded",
      "4f63639c4b5e4eff8e4a18adba3530f3"
     ]
    },
    "id": "eWHu8b230Lyr",
    "outputId": "2e32a7d3-a2c3-4539-a6c6-146cdcf1a179"
   },
   "outputs": [
    {
     "name": "stderr",
     "output_type": "stream",
     "text": [
      "Found cached dataset sberquad (C:/Users/Home/.cache/huggingface/datasets/sberquad/sberquad/1.0.0/62115d937acf2634cfacbfee10c13a7ee39df3ce345bb45af7088676f9811e77)\n"
     ]
    },
    {
     "data": {
      "application/vnd.jupyter.widget-view+json": {
       "model_id": "0ea2201c5fbf4874a71d466119bdf6fe",
       "version_major": 2,
       "version_minor": 0
      },
      "text/plain": [
       "  0%|          | 0/3 [00:00<?, ?it/s]"
      ]
     },
     "metadata": {},
     "output_type": "display_data"
    },
    {
     "name": "stdout",
     "output_type": "stream",
     "text": [
      "Context:  В протерозойских отложениях органические остатки встречаются намного чаще, чем в архейских. Они представлены известковыми выделениями сине-зелёных водорослей, ходами червей, остатками кишечнополостных. Кроме известковых водорослей, к числу древнейших растительных остатков относятся скопления графито-углистого вещества, образовавшегося в результате разложения Corycium enigmaticum. В кремнистых сланцах железорудной формации Канады найдены нитевидные водоросли, грибные нити и формы, близкие современным кокколитофоридам. В железистых кварцитах Северной Америки и Сибири обнаружены железистые продукты жизнедеятельности бактерий.\n",
      "Question:  чем представлены органические остатки?\n",
      "Answer:  {'text': ['известковыми выделениями сине-зелёных водорослей'], 'answer_start': [109]}\n"
     ]
    }
   ],
   "source": [
    "raw_datasets = load_dataset(\"sberquad\")\n",
    "print(\"Context: \", raw_datasets[\"train\"][0][\"context\"])\n",
    "print(\"Question: \", raw_datasets[\"train\"][0][\"question\"])\n",
    "print(\"Answer: \", raw_datasets[\"train\"][0][\"answers\"])"
   ]
  },
  {
   "cell_type": "markdown",
   "metadata": {},
   "source": [
    "# Model ?"
   ]
  },
  {
   "cell_type": "code",
   "execution_count": 4,
   "metadata": {},
   "outputs": [],
   "source": [
    "# MODEL_NAME = \"DeepPavlov/rubert-base-cased\"\n",
    "MODEL_NAME = './/DeepPavlovrubert-base-cased'\n",
    "tokenizer = AutoTokenizer.from_pretrained(MODEL_NAME)"
   ]
  },
  {
   "cell_type": "code",
   "execution_count": 5,
   "metadata": {},
   "outputs": [],
   "source": [
    "stride=128\n",
    "max_seq_length = 384\n",
    "\n",
    "def preprocess_examples(examples):\n",
    "    questions = [q.strip() for q in examples['question']]\n",
    "    inputs = tokenizer(\n",
    "        questions,\n",
    "        examples['context'],\n",
    "        max_length=max_seq_length,\n",
    "        truncation='only_second',\n",
    "        stride=stride,\n",
    "        return_offsets_mapping=True,\n",
    "        padding='max_length',\n",
    "        )\n",
    "\n",
    "    offset_mapping = inputs['offset_mapping']\n",
    "    answers = examples['answers']\n",
    "    start_positions = []\n",
    "    end_positions = []\n",
    "\n",
    "    for i, offset in enumerate(offset_mapping):\n",
    "        answer = answers[i]\n",
    "        start_char = answer['answer_start'][0]\n",
    "        end_char = answer['answer_start'][0] + len(answer['text'][0])\n",
    "        sequence_ids = inputs.sequence_ids(i)\n",
    "\n",
    "    # Find the start and end of the context\n",
    "\n",
    "        idx = 0\n",
    "        while sequence_ids[idx] != 1:\n",
    "            idx += 1\n",
    "        context_start = idx\n",
    "        while sequence_ids[idx] == 1:\n",
    "            idx += 1\n",
    "        context_end = idx - 1\n",
    "\n",
    "    # If the answer is not fully inside the context, label is (0, 0)\n",
    "\n",
    "        if offset[context_start][0] > end_char \\\n",
    "            or offset[context_end][1] < start_char:\n",
    "            start_positions.append(0)\n",
    "            end_positions.append(0)\n",
    "        else:\n",
    "\n",
    "      # Otherwise it's the start and end token positions\n",
    "\n",
    "            idx = context_start\n",
    "            while idx <= context_end and offset[idx][0] <= start_char:\n",
    "                idx += 1\n",
    "            start_positions.append(idx - 1)\n",
    "\n",
    "            idx = context_end\n",
    "            while idx >= context_start and offset[idx][1] >= end_char:\n",
    "                idx -= 1\n",
    "            end_positions.append(idx + 1)\n",
    "\n",
    "    inputs['start_positions'] = start_positions\n",
    "    inputs['end_positions'] = end_positions\n",
    "    return inputs"
   ]
  },
  {
   "cell_type": "code",
   "execution_count": 8,
   "metadata": {},
   "outputs": [
    {
     "name": "stderr",
     "output_type": "stream",
     "text": [
      "Loading cached processed dataset at C:\\Users\\Home\\.cache\\huggingface\\datasets\\sberquad\\sberquad\\1.0.0\\62115d937acf2634cfacbfee10c13a7ee39df3ce345bb45af7088676f9811e77\\cache-7e93bb1453060460.arrow\n",
      "Loading cached processed dataset at C:\\Users\\Home\\.cache\\huggingface\\datasets\\sberquad\\sberquad\\1.0.0\\62115d937acf2634cfacbfee10c13a7ee39df3ce345bb45af7088676f9811e77\\cache-de0abfa559edd956.arrow\n",
      "Loading cached processed dataset at C:\\Users\\Home\\.cache\\huggingface\\datasets\\sberquad\\sberquad\\1.0.0\\62115d937acf2634cfacbfee10c13a7ee39df3ce345bb45af7088676f9811e77\\cache-83b4229ca7299d2b.arrow\n"
     ]
    },
    {
     "data": {
      "text/plain": [
       "DatasetDict({\n",
       "    train: Dataset({\n",
       "        features: ['id', 'title', 'context', 'question', 'answers', 'input_ids', 'token_type_ids', 'attention_mask', 'offset_mapping', 'start_positions', 'end_positions'],\n",
       "        num_rows: 45328\n",
       "    })\n",
       "    validation: Dataset({\n",
       "        features: ['id', 'title', 'context', 'question', 'answers', 'input_ids', 'token_type_ids', 'attention_mask', 'offset_mapping', 'start_positions', 'end_positions'],\n",
       "        num_rows: 5036\n",
       "    })\n",
       "    test: Dataset({\n",
       "        features: ['id', 'title', 'context', 'question', 'answers', 'input_ids', 'token_type_ids', 'attention_mask', 'offset_mapping', 'start_positions', 'end_positions'],\n",
       "        num_rows: 23936\n",
       "    })\n",
       "})"
      ]
     },
     "execution_count": 8,
     "metadata": {},
     "output_type": "execute_result"
    }
   ],
   "source": [
    "DATASETS = DatasetDict({\n",
    "    'train': raw_datasets[\"train\"].map(\n",
    "        preprocess_examples,\n",
    "        batched=True).select(\n",
    "            np.random.choice(range(len(raw_datasets[\"train\"])), int(len(raw_datasets[\"train\"])), replace=False)\n",
    "        ),\n",
    "    'validation': raw_datasets[\"validation\"].map(\n",
    "        preprocess_examples,\n",
    "        batched=True),\n",
    "    # .select(\n",
    "    #         np.random.choice(range(len(raw_datasets[\"validation\"])), int(len(raw_datasets[\"validation\"])*0.3), replace=False)\n",
    "    #     ),\n",
    "    'test': raw_datasets[\"test\"].map(\n",
    "        preprocess_examples,\n",
    "        batched=True)\n",
    "        # .select(\n",
    "        #     np.random.choice(range(len(raw_datasets[\"test\"])), int(len(raw_datasets[\"test\"])*0.3), replace=False)\n",
    "        # )\n",
    "})\n",
    "DATASETS"
   ]
  },
  {
   "cell_type": "code",
   "execution_count": 9,
   "metadata": {},
   "outputs": [
    {
     "name": "stderr",
     "output_type": "stream",
     "text": [
      "Some weights of the model checkpoint at .//DeepPavlovrubert-base-cased were not used when initializing BertForQuestionAnswering: ['cls.predictions.decoder.bias', 'cls.predictions.bias', 'cls.seq_relationship.weight', 'cls.seq_relationship.bias', 'cls.predictions.transform.dense.bias', 'cls.predictions.transform.LayerNorm.bias', 'cls.predictions.transform.LayerNorm.weight', 'cls.predictions.decoder.weight', 'cls.predictions.transform.dense.weight']\n",
      "- This IS expected if you are initializing BertForQuestionAnswering from the checkpoint of a model trained on another task or with another architecture (e.g. initializing a BertForSequenceClassification model from a BertForPreTraining model).\n",
      "- This IS NOT expected if you are initializing BertForQuestionAnswering from the checkpoint of a model that you expect to be exactly identical (initializing a BertForSequenceClassification model from a BertForSequenceClassification model).\n",
      "Some weights of BertForQuestionAnswering were not initialized from the model checkpoint at .//DeepPavlovrubert-base-cased and are newly initialized: ['qa_outputs.bias', 'qa_outputs.weight']\n",
      "You should probably TRAIN this model on a down-stream task to be able to use it for predictions and inference.\n"
     ]
    }
   ],
   "source": [
    "model = AutoModelForQuestionAnswering.from_pretrained(MODEL_NAME)"
   ]
  },
  {
   "cell_type": "code",
   "execution_count": 10,
   "metadata": {},
   "outputs": [],
   "source": [
    "metric = evaluate.load(\"squad\")"
   ]
  },
  {
   "cell_type": "code",
   "execution_count": 11,
   "metadata": {},
   "outputs": [],
   "source": [
    "def compute_metrics(eval_preds):\n",
    "    y_pred = np.argmax(eval_preds[0], -1).T\n",
    "\n",
    "    f1_score = 0\n",
    "    exact_match = 0\n",
    "    for data, pred in zip(DATASETS['validation'], y_pred):\n",
    "        # Convert answer start and end into characters positions in\n",
    "        # original text using the offset mapping list\n",
    "        start_char = data['offset_mapping'][pred[0]][0]\n",
    "        end_char = data['offset_mapping'][pred[1]][1]\n",
    "        # Create predictions and references dictionaries for metric function\n",
    "        predictions = [{'prediction_text': data['context'][start_char:end_char],\n",
    "                        'id': str(data['id'])}]\n",
    "        references = [{'answers': data['answers'],\n",
    "                       'id': str(data['id'])}]\n",
    "        results = metric.compute(predictions=predictions,\n",
    "                                 references=references)\n",
    "        # Add metric to running sum variable to calculate average after,\n",
    "        # change outputs from 0-100 range to 0-1 range\n",
    "        f1_score += results['f1'] / 100\n",
    "        exact_match += results['exact_match'] / 100\n",
    "    # Calculate the average\n",
    "    f1_score /= len(DATASETS['validation'])\n",
    "    exact_match /= len(DATASETS['validation'])\n",
    "    return {'f1': f1_score, 'exact_match': exact_match}"
   ]
  },
  {
   "cell_type": "code",
   "execution_count": 12,
   "metadata": {},
   "outputs": [],
   "source": [
    "LR = 2e-5\n",
    "STEPS_NUMBER = 200  # for logging and saving\n",
    "EPOCHS_NUM = 2\n",
    "BATCH_SIZE = 16"
   ]
  },
  {
   "cell_type": "code",
   "execution_count": 13,
   "metadata": {},
   "outputs": [],
   "source": [
    "training_args = TrainingArguments(\"test-trainer\",\n",
    "                                  evaluation_strategy=\"steps\",\n",
    "                                  eval_steps=STEPS_NUMBER,\n",
    "                                  logging_steps=STEPS_NUMBER,\n",
    "                                  save_steps=STEPS_NUMBER,\n",
    "                                  optim=\"adamw_torch\",\n",
    "                                  learning_rate=LR,\n",
    "                                  per_device_train_batch_size=BATCH_SIZE,\n",
    "                                  per_device_eval_batch_size=BATCH_SIZE,\n",
    "                                  warmup_steps=150,\n",
    "                                  num_train_epochs=EPOCHS_NUM,\n",
    "                                  load_best_model_at_end=True,\n",
    "                                  metric_for_best_model='eval_f1')\n",
    "\n",
    "trainer = Trainer(model,\n",
    "                  training_args,\n",
    "                  train_dataset=DATASETS['train'],\n",
    "                  eval_dataset=DATASETS['validation'],\n",
    "                  compute_metrics=compute_metrics)"
   ]
  },
  {
   "cell_type": "code",
   "execution_count": 14,
   "metadata": {},
   "outputs": [
    {
     "name": "stderr",
     "output_type": "stream",
     "text": [
      "The following columns in the training set don't have a corresponding argument in `BertForQuestionAnswering.forward` and have been ignored: offset_mapping, context, id, question, title, answers. If offset_mapping, context, id, question, title, answers are not expected by `BertForQuestionAnswering.forward`,  you can safely ignore this message.\n",
      "***** Running training *****\n",
      "  Num examples = 45328\n",
      "  Num Epochs = 2\n",
      "  Instantaneous batch size per device = 16\n",
      "  Total train batch size (w. parallel, distributed & accumulation) = 16\n",
      "  Gradient Accumulation steps = 1\n",
      "  Total optimization steps = 5666\n",
      "  Number of trainable parameters = 177264386\n"
     ]
    },
    {
     "data": {
      "text/html": [
       "\n",
       "    <div>\n",
       "      \n",
       "      <progress value='5666' max='5666' style='width:300px; height:20px; vertical-align: middle;'></progress>\n",
       "      [5666/5666 1:51:13, Epoch 2/2]\n",
       "    </div>\n",
       "    <table border=\"1\" class=\"dataframe\">\n",
       "  <thead>\n",
       " <tr style=\"text-align: left;\">\n",
       "      <th>Step</th>\n",
       "      <th>Training Loss</th>\n",
       "      <th>Validation Loss</th>\n",
       "      <th>F1</th>\n",
       "      <th>Exact Match</th>\n",
       "    </tr>\n",
       "  </thead>\n",
       "  <tbody>\n",
       "    <tr>\n",
       "      <td>200</td>\n",
       "      <td>4.126500</td>\n",
       "      <td>2.466181</td>\n",
       "      <td>0.627418</td>\n",
       "      <td>0.436060</td>\n",
       "    </tr>\n",
       "    <tr>\n",
       "      <td>400</td>\n",
       "      <td>2.350200</td>\n",
       "      <td>2.100603</td>\n",
       "      <td>0.721188</td>\n",
       "      <td>0.522637</td>\n",
       "    </tr>\n",
       "    <tr>\n",
       "      <td>600</td>\n",
       "      <td>2.161600</td>\n",
       "      <td>1.887294</td>\n",
       "      <td>0.763472</td>\n",
       "      <td>0.559968</td>\n",
       "    </tr>\n",
       "    <tr>\n",
       "      <td>800</td>\n",
       "      <td>1.989600</td>\n",
       "      <td>1.822898</td>\n",
       "      <td>0.771486</td>\n",
       "      <td>0.570095</td>\n",
       "    </tr>\n",
       "    <tr>\n",
       "      <td>1000</td>\n",
       "      <td>1.873900</td>\n",
       "      <td>1.774205</td>\n",
       "      <td>0.780726</td>\n",
       "      <td>0.578038</td>\n",
       "    </tr>\n",
       "    <tr>\n",
       "      <td>1200</td>\n",
       "      <td>1.829100</td>\n",
       "      <td>1.746154</td>\n",
       "      <td>0.798388</td>\n",
       "      <td>0.601072</td>\n",
       "    </tr>\n",
       "    <tr>\n",
       "      <td>1400</td>\n",
       "      <td>1.825000</td>\n",
       "      <td>1.702170</td>\n",
       "      <td>0.765160</td>\n",
       "      <td>0.558181</td>\n",
       "    </tr>\n",
       "    <tr>\n",
       "      <td>1600</td>\n",
       "      <td>1.802000</td>\n",
       "      <td>1.659087</td>\n",
       "      <td>0.806170</td>\n",
       "      <td>0.611199</td>\n",
       "    </tr>\n",
       "    <tr>\n",
       "      <td>1800</td>\n",
       "      <td>1.753300</td>\n",
       "      <td>1.657937</td>\n",
       "      <td>0.791002</td>\n",
       "      <td>0.591739</td>\n",
       "    </tr>\n",
       "    <tr>\n",
       "      <td>2000</td>\n",
       "      <td>1.703000</td>\n",
       "      <td>1.620858</td>\n",
       "      <td>0.802134</td>\n",
       "      <td>0.605838</td>\n",
       "    </tr>\n",
       "    <tr>\n",
       "      <td>2200</td>\n",
       "      <td>1.678200</td>\n",
       "      <td>1.606250</td>\n",
       "      <td>0.815828</td>\n",
       "      <td>0.623312</td>\n",
       "    </tr>\n",
       "    <tr>\n",
       "      <td>2400</td>\n",
       "      <td>1.655600</td>\n",
       "      <td>1.601588</td>\n",
       "      <td>0.811108</td>\n",
       "      <td>0.615568</td>\n",
       "    </tr>\n",
       "    <tr>\n",
       "      <td>2600</td>\n",
       "      <td>1.715900</td>\n",
       "      <td>1.631019</td>\n",
       "      <td>0.823830</td>\n",
       "      <td>0.632446</td>\n",
       "    </tr>\n",
       "    <tr>\n",
       "      <td>2800</td>\n",
       "      <td>1.683300</td>\n",
       "      <td>1.575592</td>\n",
       "      <td>0.810572</td>\n",
       "      <td>0.613185</td>\n",
       "    </tr>\n",
       "    <tr>\n",
       "      <td>3000</td>\n",
       "      <td>1.476600</td>\n",
       "      <td>1.627477</td>\n",
       "      <td>0.809905</td>\n",
       "      <td>0.615171</td>\n",
       "    </tr>\n",
       "    <tr>\n",
       "      <td>3200</td>\n",
       "      <td>1.453200</td>\n",
       "      <td>1.631770</td>\n",
       "      <td>0.817168</td>\n",
       "      <td>0.618745</td>\n",
       "    </tr>\n",
       "    <tr>\n",
       "      <td>3400</td>\n",
       "      <td>1.440500</td>\n",
       "      <td>1.596137</td>\n",
       "      <td>0.798807</td>\n",
       "      <td>0.601867</td>\n",
       "    </tr>\n",
       "    <tr>\n",
       "      <td>3600</td>\n",
       "      <td>1.401900</td>\n",
       "      <td>1.569655</td>\n",
       "      <td>0.805293</td>\n",
       "      <td>0.603654</td>\n",
       "    </tr>\n",
       "    <tr>\n",
       "      <td>3800</td>\n",
       "      <td>1.370600</td>\n",
       "      <td>1.573303</td>\n",
       "      <td>0.809261</td>\n",
       "      <td>0.613582</td>\n",
       "    </tr>\n",
       "    <tr>\n",
       "      <td>4000</td>\n",
       "      <td>1.371200</td>\n",
       "      <td>1.572185</td>\n",
       "      <td>0.809757</td>\n",
       "      <td>0.616958</td>\n",
       "    </tr>\n",
       "    <tr>\n",
       "      <td>4200</td>\n",
       "      <td>1.367800</td>\n",
       "      <td>1.564994</td>\n",
       "      <td>0.803038</td>\n",
       "      <td>0.610008</td>\n",
       "    </tr>\n",
       "    <tr>\n",
       "      <td>4400</td>\n",
       "      <td>1.419300</td>\n",
       "      <td>1.552238</td>\n",
       "      <td>0.802903</td>\n",
       "      <td>0.605838</td>\n",
       "    </tr>\n",
       "    <tr>\n",
       "      <td>4600</td>\n",
       "      <td>1.406100</td>\n",
       "      <td>1.552394</td>\n",
       "      <td>0.811704</td>\n",
       "      <td>0.618149</td>\n",
       "    </tr>\n",
       "    <tr>\n",
       "      <td>4800</td>\n",
       "      <td>1.377600</td>\n",
       "      <td>1.567612</td>\n",
       "      <td>0.792810</td>\n",
       "      <td>0.597697</td>\n",
       "    </tr>\n",
       "    <tr>\n",
       "      <td>5000</td>\n",
       "      <td>1.389800</td>\n",
       "      <td>1.573276</td>\n",
       "      <td>0.766278</td>\n",
       "      <td>0.561358</td>\n",
       "    </tr>\n",
       "    <tr>\n",
       "      <td>5200</td>\n",
       "      <td>1.362000</td>\n",
       "      <td>1.561358</td>\n",
       "      <td>0.792463</td>\n",
       "      <td>0.593924</td>\n",
       "    </tr>\n",
       "    <tr>\n",
       "      <td>5400</td>\n",
       "      <td>1.377300</td>\n",
       "      <td>1.545448</td>\n",
       "      <td>0.811720</td>\n",
       "      <td>0.616561</td>\n",
       "    </tr>\n",
       "    <tr>\n",
       "      <td>5600</td>\n",
       "      <td>1.383800</td>\n",
       "      <td>1.543091</td>\n",
       "      <td>0.798297</td>\n",
       "      <td>0.601072</td>\n",
       "    </tr>\n",
       "  </tbody>\n",
       "</table><p>"
      ],
      "text/plain": [
       "<IPython.core.display.HTML object>"
      ]
     },
     "metadata": {},
     "output_type": "display_data"
    },
    {
     "name": "stderr",
     "output_type": "stream",
     "text": [
      "The following columns in the evaluation set don't have a corresponding argument in `BertForQuestionAnswering.forward` and have been ignored: offset_mapping, context, id, question, title, answers. If offset_mapping, context, id, question, title, answers are not expected by `BertForQuestionAnswering.forward`,  you can safely ignore this message.\n",
      "***** Running Evaluation *****\n",
      "  Num examples = 5036\n",
      "  Batch size = 16\n",
      "Saving model checkpoint to test-trainer\\checkpoint-200\n",
      "Configuration saved in test-trainer\\checkpoint-200\\config.json\n",
      "Model weights saved in test-trainer\\checkpoint-200\\pytorch_model.bin\n",
      "The following columns in the evaluation set don't have a corresponding argument in `BertForQuestionAnswering.forward` and have been ignored: offset_mapping, context, id, question, title, answers. If offset_mapping, context, id, question, title, answers are not expected by `BertForQuestionAnswering.forward`,  you can safely ignore this message.\n",
      "***** Running Evaluation *****\n",
      "  Num examples = 5036\n",
      "  Batch size = 16\n",
      "Saving model checkpoint to test-trainer\\checkpoint-400\n",
      "Configuration saved in test-trainer\\checkpoint-400\\config.json\n",
      "Model weights saved in test-trainer\\checkpoint-400\\pytorch_model.bin\n",
      "The following columns in the evaluation set don't have a corresponding argument in `BertForQuestionAnswering.forward` and have been ignored: offset_mapping, context, id, question, title, answers. If offset_mapping, context, id, question, title, answers are not expected by `BertForQuestionAnswering.forward`,  you can safely ignore this message.\n",
      "***** Running Evaluation *****\n",
      "  Num examples = 5036\n",
      "  Batch size = 16\n",
      "Saving model checkpoint to test-trainer\\checkpoint-600\n",
      "Configuration saved in test-trainer\\checkpoint-600\\config.json\n",
      "Model weights saved in test-trainer\\checkpoint-600\\pytorch_model.bin\n",
      "The following columns in the evaluation set don't have a corresponding argument in `BertForQuestionAnswering.forward` and have been ignored: offset_mapping, context, id, question, title, answers. If offset_mapping, context, id, question, title, answers are not expected by `BertForQuestionAnswering.forward`,  you can safely ignore this message.\n",
      "***** Running Evaluation *****\n",
      "  Num examples = 5036\n",
      "  Batch size = 16\n",
      "Saving model checkpoint to test-trainer\\checkpoint-800\n",
      "Configuration saved in test-trainer\\checkpoint-800\\config.json\n",
      "Model weights saved in test-trainer\\checkpoint-800\\pytorch_model.bin\n",
      "The following columns in the evaluation set don't have a corresponding argument in `BertForQuestionAnswering.forward` and have been ignored: offset_mapping, context, id, question, title, answers. If offset_mapping, context, id, question, title, answers are not expected by `BertForQuestionAnswering.forward`,  you can safely ignore this message.\n",
      "***** Running Evaluation *****\n",
      "  Num examples = 5036\n",
      "  Batch size = 16\n",
      "Saving model checkpoint to test-trainer\\checkpoint-1000\n",
      "Configuration saved in test-trainer\\checkpoint-1000\\config.json\n",
      "Model weights saved in test-trainer\\checkpoint-1000\\pytorch_model.bin\n",
      "The following columns in the evaluation set don't have a corresponding argument in `BertForQuestionAnswering.forward` and have been ignored: offset_mapping, context, id, question, title, answers. If offset_mapping, context, id, question, title, answers are not expected by `BertForQuestionAnswering.forward`,  you can safely ignore this message.\n",
      "***** Running Evaluation *****\n",
      "  Num examples = 5036\n",
      "  Batch size = 16\n",
      "Saving model checkpoint to test-trainer\\checkpoint-1200\n",
      "Configuration saved in test-trainer\\checkpoint-1200\\config.json\n",
      "Model weights saved in test-trainer\\checkpoint-1200\\pytorch_model.bin\n",
      "The following columns in the evaluation set don't have a corresponding argument in `BertForQuestionAnswering.forward` and have been ignored: offset_mapping, context, id, question, title, answers. If offset_mapping, context, id, question, title, answers are not expected by `BertForQuestionAnswering.forward`,  you can safely ignore this message.\n",
      "***** Running Evaluation *****\n",
      "  Num examples = 5036\n",
      "  Batch size = 16\n",
      "Saving model checkpoint to test-trainer\\checkpoint-1400\n",
      "Configuration saved in test-trainer\\checkpoint-1400\\config.json\n",
      "Model weights saved in test-trainer\\checkpoint-1400\\pytorch_model.bin\n",
      "The following columns in the evaluation set don't have a corresponding argument in `BertForQuestionAnswering.forward` and have been ignored: offset_mapping, context, id, question, title, answers. If offset_mapping, context, id, question, title, answers are not expected by `BertForQuestionAnswering.forward`,  you can safely ignore this message.\n",
      "***** Running Evaluation *****\n",
      "  Num examples = 5036\n",
      "  Batch size = 16\n",
      "Saving model checkpoint to test-trainer\\checkpoint-1600\n",
      "Configuration saved in test-trainer\\checkpoint-1600\\config.json\n",
      "Model weights saved in test-trainer\\checkpoint-1600\\pytorch_model.bin\n",
      "The following columns in the evaluation set don't have a corresponding argument in `BertForQuestionAnswering.forward` and have been ignored: offset_mapping, context, id, question, title, answers. If offset_mapping, context, id, question, title, answers are not expected by `BertForQuestionAnswering.forward`,  you can safely ignore this message.\n",
      "***** Running Evaluation *****\n",
      "  Num examples = 5036\n",
      "  Batch size = 16\n",
      "Saving model checkpoint to test-trainer\\checkpoint-1800\n",
      "Configuration saved in test-trainer\\checkpoint-1800\\config.json\n",
      "Model weights saved in test-trainer\\checkpoint-1800\\pytorch_model.bin\n",
      "The following columns in the evaluation set don't have a corresponding argument in `BertForQuestionAnswering.forward` and have been ignored: offset_mapping, context, id, question, title, answers. If offset_mapping, context, id, question, title, answers are not expected by `BertForQuestionAnswering.forward`,  you can safely ignore this message.\n",
      "***** Running Evaluation *****\n",
      "  Num examples = 5036\n",
      "  Batch size = 16\n",
      "Saving model checkpoint to test-trainer\\checkpoint-2000\n",
      "Configuration saved in test-trainer\\checkpoint-2000\\config.json\n",
      "Model weights saved in test-trainer\\checkpoint-2000\\pytorch_model.bin\n",
      "The following columns in the evaluation set don't have a corresponding argument in `BertForQuestionAnswering.forward` and have been ignored: offset_mapping, context, id, question, title, answers. If offset_mapping, context, id, question, title, answers are not expected by `BertForQuestionAnswering.forward`,  you can safely ignore this message.\n",
      "***** Running Evaluation *****\n",
      "  Num examples = 5036\n",
      "  Batch size = 16\n",
      "Saving model checkpoint to test-trainer\\checkpoint-2200\n",
      "Configuration saved in test-trainer\\checkpoint-2200\\config.json\n",
      "Model weights saved in test-trainer\\checkpoint-2200\\pytorch_model.bin\n",
      "The following columns in the evaluation set don't have a corresponding argument in `BertForQuestionAnswering.forward` and have been ignored: offset_mapping, context, id, question, title, answers. If offset_mapping, context, id, question, title, answers are not expected by `BertForQuestionAnswering.forward`,  you can safely ignore this message.\n",
      "***** Running Evaluation *****\n",
      "  Num examples = 5036\n",
      "  Batch size = 16\n",
      "Saving model checkpoint to test-trainer\\checkpoint-2400\n",
      "Configuration saved in test-trainer\\checkpoint-2400\\config.json\n",
      "Model weights saved in test-trainer\\checkpoint-2400\\pytorch_model.bin\n",
      "The following columns in the evaluation set don't have a corresponding argument in `BertForQuestionAnswering.forward` and have been ignored: offset_mapping, context, id, question, title, answers. If offset_mapping, context, id, question, title, answers are not expected by `BertForQuestionAnswering.forward`,  you can safely ignore this message.\n",
      "***** Running Evaluation *****\n",
      "  Num examples = 5036\n",
      "  Batch size = 16\n",
      "Saving model checkpoint to test-trainer\\checkpoint-2600\n",
      "Configuration saved in test-trainer\\checkpoint-2600\\config.json\n",
      "Model weights saved in test-trainer\\checkpoint-2600\\pytorch_model.bin\n",
      "The following columns in the evaluation set don't have a corresponding argument in `BertForQuestionAnswering.forward` and have been ignored: offset_mapping, context, id, question, title, answers. If offset_mapping, context, id, question, title, answers are not expected by `BertForQuestionAnswering.forward`,  you can safely ignore this message.\n",
      "***** Running Evaluation *****\n",
      "  Num examples = 5036\n",
      "  Batch size = 16\n",
      "Saving model checkpoint to test-trainer\\checkpoint-2800\n",
      "Configuration saved in test-trainer\\checkpoint-2800\\config.json\n",
      "Model weights saved in test-trainer\\checkpoint-2800\\pytorch_model.bin\n",
      "The following columns in the evaluation set don't have a corresponding argument in `BertForQuestionAnswering.forward` and have been ignored: offset_mapping, context, id, question, title, answers. If offset_mapping, context, id, question, title, answers are not expected by `BertForQuestionAnswering.forward`,  you can safely ignore this message.\n",
      "***** Running Evaluation *****\n",
      "  Num examples = 5036\n",
      "  Batch size = 16\n",
      "Saving model checkpoint to test-trainer\\checkpoint-3000\n",
      "Configuration saved in test-trainer\\checkpoint-3000\\config.json\n",
      "Model weights saved in test-trainer\\checkpoint-3000\\pytorch_model.bin\n",
      "The following columns in the evaluation set don't have a corresponding argument in `BertForQuestionAnswering.forward` and have been ignored: offset_mapping, context, id, question, title, answers. If offset_mapping, context, id, question, title, answers are not expected by `BertForQuestionAnswering.forward`,  you can safely ignore this message.\n",
      "***** Running Evaluation *****\n",
      "  Num examples = 5036\n",
      "  Batch size = 16\n",
      "Saving model checkpoint to test-trainer\\checkpoint-3200\n",
      "Configuration saved in test-trainer\\checkpoint-3200\\config.json\n",
      "Model weights saved in test-trainer\\checkpoint-3200\\pytorch_model.bin\n",
      "The following columns in the evaluation set don't have a corresponding argument in `BertForQuestionAnswering.forward` and have been ignored: offset_mapping, context, id, question, title, answers. If offset_mapping, context, id, question, title, answers are not expected by `BertForQuestionAnswering.forward`,  you can safely ignore this message.\n",
      "***** Running Evaluation *****\n",
      "  Num examples = 5036\n",
      "  Batch size = 16\n",
      "Saving model checkpoint to test-trainer\\checkpoint-3400\n",
      "Configuration saved in test-trainer\\checkpoint-3400\\config.json\n",
      "Model weights saved in test-trainer\\checkpoint-3400\\pytorch_model.bin\n",
      "The following columns in the evaluation set don't have a corresponding argument in `BertForQuestionAnswering.forward` and have been ignored: offset_mapping, context, id, question, title, answers. If offset_mapping, context, id, question, title, answers are not expected by `BertForQuestionAnswering.forward`,  you can safely ignore this message.\n",
      "***** Running Evaluation *****\n",
      "  Num examples = 5036\n",
      "  Batch size = 16\n",
      "Saving model checkpoint to test-trainer\\checkpoint-3600\n",
      "Configuration saved in test-trainer\\checkpoint-3600\\config.json\n",
      "Model weights saved in test-trainer\\checkpoint-3600\\pytorch_model.bin\n",
      "The following columns in the evaluation set don't have a corresponding argument in `BertForQuestionAnswering.forward` and have been ignored: offset_mapping, context, id, question, title, answers. If offset_mapping, context, id, question, title, answers are not expected by `BertForQuestionAnswering.forward`,  you can safely ignore this message.\n",
      "***** Running Evaluation *****\n",
      "  Num examples = 5036\n",
      "  Batch size = 16\n",
      "Saving model checkpoint to test-trainer\\checkpoint-3800\n",
      "Configuration saved in test-trainer\\checkpoint-3800\\config.json\n",
      "Model weights saved in test-trainer\\checkpoint-3800\\pytorch_model.bin\n",
      "The following columns in the evaluation set don't have a corresponding argument in `BertForQuestionAnswering.forward` and have been ignored: offset_mapping, context, id, question, title, answers. If offset_mapping, context, id, question, title, answers are not expected by `BertForQuestionAnswering.forward`,  you can safely ignore this message.\n",
      "***** Running Evaluation *****\n",
      "  Num examples = 5036\n",
      "  Batch size = 16\n",
      "Saving model checkpoint to test-trainer\\checkpoint-4000\n",
      "Configuration saved in test-trainer\\checkpoint-4000\\config.json\n",
      "Model weights saved in test-trainer\\checkpoint-4000\\pytorch_model.bin\n",
      "The following columns in the evaluation set don't have a corresponding argument in `BertForQuestionAnswering.forward` and have been ignored: offset_mapping, context, id, question, title, answers. If offset_mapping, context, id, question, title, answers are not expected by `BertForQuestionAnswering.forward`,  you can safely ignore this message.\n",
      "***** Running Evaluation *****\n",
      "  Num examples = 5036\n",
      "  Batch size = 16\n",
      "Saving model checkpoint to test-trainer\\checkpoint-4200\n",
      "Configuration saved in test-trainer\\checkpoint-4200\\config.json\n",
      "Model weights saved in test-trainer\\checkpoint-4200\\pytorch_model.bin\n",
      "The following columns in the evaluation set don't have a corresponding argument in `BertForQuestionAnswering.forward` and have been ignored: offset_mapping, context, id, question, title, answers. If offset_mapping, context, id, question, title, answers are not expected by `BertForQuestionAnswering.forward`,  you can safely ignore this message.\n",
      "***** Running Evaluation *****\n",
      "  Num examples = 5036\n",
      "  Batch size = 16\n",
      "Saving model checkpoint to test-trainer\\checkpoint-4400\n",
      "Configuration saved in test-trainer\\checkpoint-4400\\config.json\n",
      "Model weights saved in test-trainer\\checkpoint-4400\\pytorch_model.bin\n",
      "The following columns in the evaluation set don't have a corresponding argument in `BertForQuestionAnswering.forward` and have been ignored: offset_mapping, context, id, question, title, answers. If offset_mapping, context, id, question, title, answers are not expected by `BertForQuestionAnswering.forward`,  you can safely ignore this message.\n",
      "***** Running Evaluation *****\n",
      "  Num examples = 5036\n",
      "  Batch size = 16\n",
      "Saving model checkpoint to test-trainer\\checkpoint-4600\n",
      "Configuration saved in test-trainer\\checkpoint-4600\\config.json\n",
      "Model weights saved in test-trainer\\checkpoint-4600\\pytorch_model.bin\n",
      "The following columns in the evaluation set don't have a corresponding argument in `BertForQuestionAnswering.forward` and have been ignored: offset_mapping, context, id, question, title, answers. If offset_mapping, context, id, question, title, answers are not expected by `BertForQuestionAnswering.forward`,  you can safely ignore this message.\n",
      "***** Running Evaluation *****\n",
      "  Num examples = 5036\n",
      "  Batch size = 16\n",
      "Saving model checkpoint to test-trainer\\checkpoint-4800\n",
      "Configuration saved in test-trainer\\checkpoint-4800\\config.json\n",
      "Model weights saved in test-trainer\\checkpoint-4800\\pytorch_model.bin\n",
      "The following columns in the evaluation set don't have a corresponding argument in `BertForQuestionAnswering.forward` and have been ignored: offset_mapping, context, id, question, title, answers. If offset_mapping, context, id, question, title, answers are not expected by `BertForQuestionAnswering.forward`,  you can safely ignore this message.\n",
      "***** Running Evaluation *****\n",
      "  Num examples = 5036\n",
      "  Batch size = 16\n",
      "Saving model checkpoint to test-trainer\\checkpoint-5000\n",
      "Configuration saved in test-trainer\\checkpoint-5000\\config.json\n",
      "Model weights saved in test-trainer\\checkpoint-5000\\pytorch_model.bin\n",
      "The following columns in the evaluation set don't have a corresponding argument in `BertForQuestionAnswering.forward` and have been ignored: offset_mapping, context, id, question, title, answers. If offset_mapping, context, id, question, title, answers are not expected by `BertForQuestionAnswering.forward`,  you can safely ignore this message.\n",
      "***** Running Evaluation *****\n",
      "  Num examples = 5036\n",
      "  Batch size = 16\n",
      "Saving model checkpoint to test-trainer\\checkpoint-5200\n",
      "Configuration saved in test-trainer\\checkpoint-5200\\config.json\n",
      "Model weights saved in test-trainer\\checkpoint-5200\\pytorch_model.bin\n",
      "The following columns in the evaluation set don't have a corresponding argument in `BertForQuestionAnswering.forward` and have been ignored: offset_mapping, context, id, question, title, answers. If offset_mapping, context, id, question, title, answers are not expected by `BertForQuestionAnswering.forward`,  you can safely ignore this message.\n",
      "***** Running Evaluation *****\n",
      "  Num examples = 5036\n",
      "  Batch size = 16\n",
      "Saving model checkpoint to test-trainer\\checkpoint-5400\n",
      "Configuration saved in test-trainer\\checkpoint-5400\\config.json\n",
      "Model weights saved in test-trainer\\checkpoint-5400\\pytorch_model.bin\n",
      "The following columns in the evaluation set don't have a corresponding argument in `BertForQuestionAnswering.forward` and have been ignored: offset_mapping, context, id, question, title, answers. If offset_mapping, context, id, question, title, answers are not expected by `BertForQuestionAnswering.forward`,  you can safely ignore this message.\n",
      "***** Running Evaluation *****\n",
      "  Num examples = 5036\n",
      "  Batch size = 16\n",
      "Saving model checkpoint to test-trainer\\checkpoint-5600\n",
      "Configuration saved in test-trainer\\checkpoint-5600\\config.json\n",
      "Model weights saved in test-trainer\\checkpoint-5600\\pytorch_model.bin\n",
      "\n",
      "\n",
      "Training completed. Do not forget to share your model on huggingface.co/models =)\n",
      "\n",
      "\n",
      "Loading best model from test-trainer\\checkpoint-2600 (score: 0.8238302971127488).\n"
     ]
    },
    {
     "data": {
      "text/plain": [
       "TrainOutput(global_step=5666, training_loss=1.7012138851447194, metrics={'train_runtime': 6676.0023, 'train_samples_per_second': 13.579, 'train_steps_per_second': 0.849, 'total_flos': 1.7766089083994112e+16, 'train_loss': 1.7012138851447194, 'epoch': 2.0})"
      ]
     },
     "execution_count": 14,
     "metadata": {},
     "output_type": "execute_result"
    }
   ],
   "source": [
    "torch.cuda.empty_cache()\n",
    "os.environ[\"WANDB_DISABLED\"] = \"true\"\n",
    "# transformers.logging.set_verbosity('CRITICAL')\n",
    "\n",
    "trainer.train()"
   ]
  },
  {
   "cell_type": "code",
   "execution_count": 15,
   "metadata": {},
   "outputs": [
    {
     "name": "stderr",
     "output_type": "stream",
     "text": [
      "The following columns in the test set don't have a corresponding argument in `BertForQuestionAnswering.forward` and have been ignored: offset_mapping, context, id, question, title, answers. If offset_mapping, context, id, question, title, answers are not expected by `BertForQuestionAnswering.forward`,  you can safely ignore this message.\n",
      "***** Running Prediction *****\n",
      "  Num examples = 23936\n",
      "  Batch size = 16\n"
     ]
    },
    {
     "data": {
      "text/html": [],
      "text/plain": [
       "<IPython.core.display.HTML object>"
      ]
     },
     "metadata": {},
     "output_type": "display_data"
    }
   ],
   "source": [
    "predictions, _, _ = trainer.predict(DATASETS['test'])"
   ]
  },
  {
   "cell_type": "code",
   "execution_count": 19,
   "metadata": {},
   "outputs": [
    {
     "name": "stderr",
     "output_type": "stream",
     "text": [
      "The following columns in the test set don't have a corresponding argument in `BertForQuestionAnswering.forward` and have been ignored: offset_mapping, context, id, question, title, answers. If offset_mapping, context, id, question, title, answers are not expected by `BertForQuestionAnswering.forward`,  you can safely ignore this message.\n",
      "***** Running Prediction *****\n",
      "  Num examples = 23936\n",
      "  Batch size = 16\n"
     ]
    },
    {
     "data": {
      "text/html": [],
      "text/plain": [
       "<IPython.core.display.HTML object>"
      ]
     },
     "metadata": {},
     "output_type": "display_data"
    }
   ],
   "source": [
    "preds = trainer.predict(DATASETS['test'])"
   ]
  },
  {
   "cell_type": "code",
   "execution_count": 23,
   "metadata": {},
   "outputs": [],
   "source": [
    "start_logits, end_logits = predictions"
   ]
  },
  {
   "cell_type": "code",
   "execution_count": 17,
   "metadata": {},
   "outputs": [],
   "source": [
    "def compute_metrics_test(eval_preds):\n",
    "    y_pred = np.argmax(eval_preds[0], -1).T\n",
    "\n",
    "    f1_score = 0\n",
    "    exact_match = 0\n",
    "    for data, pred in zip(DATASETS['test'], y_pred):\n",
    "        # Convert answer start and end into characters positions in\n",
    "        # original text using the offset mapping list\n",
    "        start_char = data['offset_mapping'][pred[0]][0]\n",
    "        end_char = data['offset_mapping'][pred[1]][1]\n",
    "        # Create predictions and references dictionaries for metric function\n",
    "        predictions = [{'prediction_text': data['context'][start_char:end_char],\n",
    "                        'id': str(data['id'])}]\n",
    "        references = [{'answers': data['answers'],\n",
    "                       'id': str(data['id'])}]\n",
    "        results = metric.compute(predictions=predictions,\n",
    "                                 references=references)\n",
    "        # Add metric to running sum variable to calculate average after,\n",
    "        # change outputs from 0-100 range to 0-1 range\n",
    "        f1_score += results['f1'] / 100\n",
    "        exact_match += results['exact_match'] / 100\n",
    "    # Calculate the average\n",
    "    f1_score /= len(DATASETS['test'])\n",
    "    exact_match /= len(DATASETS['test'])\n",
    "    return {'f1': f1_score, 'exact_match': exact_match}"
   ]
  },
  {
   "cell_type": "code",
   "execution_count": 29,
   "metadata": {},
   "outputs": [
    {
     "data": {
      "text/plain": [
       "Dataset({\n",
       "    features: ['id', 'title', 'context', 'question', 'answers', 'input_ids', 'token_type_ids', 'attention_mask', 'offset_mapping', 'start_positions', 'end_positions'],\n",
       "    num_rows: 23936\n",
       "})"
      ]
     },
     "execution_count": 29,
     "metadata": {},
     "output_type": "execute_result"
    }
   ],
   "source": [
    "DATASETS['test']"
   ]
  },
  {
   "cell_type": "code",
   "execution_count": 24,
   "metadata": {},
   "outputs": [
    {
     "data": {
      "text/plain": [
       "'Многоклеточный организм — внесистематическая категория живых организмов, тело которых состоит из многих клеток, большая часть которых (кроме стволовых, например, клеток камбия у растений) дифференцированы, то есть различаются по строению и выполняемым функциям. Следует отличать многоклеточность и колониальность. У колониальных организмов отсутствуют настоящие дифференцированные клетки, а следовательно, и разделение тела на ткани. Граница между многоклеточностью и колониальностью нечёткая. Например, вольвокс часто относят к колониальным организмам, хотя в его колониях есть чёткое деление клеток на генеративные и соматические. Кроме дифференциации клеток, для многоклеточных характерен и более высокий уровень интеграции, чем для колониальных форм. Многоклеточные животные, возможно, появились на Земле 2,1 миллиарда лет назад, вскоре после кислородной революции .'"
      ]
     },
     "execution_count": 24,
     "metadata": {},
     "output_type": "execute_result"
    }
   ],
   "source": [
    "ct = DATASETS['test']['context'][0]\n",
    "ct"
   ]
  },
  {
   "cell_type": "code",
   "execution_count": 26,
   "metadata": {},
   "outputs": [
    {
     "data": {
      "text/plain": [
       "'У каких организмов отсутствуют настоящие дифференцированные клетки?'"
      ]
     },
     "execution_count": 26,
     "metadata": {},
     "output_type": "execute_result"
    }
   ],
   "source": [
    "que = DATASETS['test']['question'][0]\n",
    "que"
   ]
  },
  {
   "cell_type": "code",
   "execution_count": 33,
   "metadata": {},
   "outputs": [
    {
     "data": {
      "text/plain": [
       "{'text': [''], 'answer_start': [-1]}"
      ]
     },
     "execution_count": 33,
     "metadata": {},
     "output_type": "execute_result"
    }
   ],
   "source": [
    "ans = DATASETS['test']['answers'][1000]\n",
    "ans"
   ]
  },
  {
   "cell_type": "code",
   "execution_count": 20,
   "metadata": {},
   "outputs": [
    {
     "data": {
      "text/plain": [
       "{'f1': 0.0, 'exact_match': 0.015040106951871657}"
      ]
     },
     "execution_count": 20,
     "metadata": {},
     "output_type": "execute_result"
    }
   ],
   "source": [
    "compute_metrics_test(preds)"
   ]
  },
  {
   "cell_type": "code",
   "execution_count": 26,
   "metadata": {},
   "outputs": [],
   "source": [
    "def compute_metrics_test(start_logits, end_logits, features, examples):\n",
    "    example_to_features = collections.defaultdict(list)\n",
    "    for idx, feature in enumerate(features):\n",
    "        example_to_features[feature[\"example_id\"]].append(idx)\n",
    "\n",
    "    predicted_answers = []\n",
    "    for example in tqdm(examples):\n",
    "        example_id = example[\"id\"]\n",
    "        context = example[\"context\"]\n",
    "        answers = []\n",
    "\n",
    "        # Loop through all features associated with that example\n",
    "        for feature_index in example_to_features[example_id]:\n",
    "            start_logit = start_logits[feature_index]\n",
    "            end_logit = end_logits[feature_index]\n",
    "            offsets = features[feature_index][\"offset_mapping\"]\n",
    "\n",
    "            start_indexes = np.argsort(start_logit)[-1 : -n_best - 1 : -1].tolist()\n",
    "            end_indexes = np.argsort(end_logit)[-1 : -n_best - 1 : -1].tolist()\n",
    "            for start_index in start_indexes:\n",
    "                for end_index in end_indexes:\n",
    "                    # Skip answers that are not fully in the context\n",
    "                    if offsets[start_index] is None or offsets[end_index] is None:\n",
    "                        continue\n",
    "                    # Skip answers with a length that is either < 0 or > max_answer_length\n",
    "                    if (\n",
    "                        end_index < start_index\n",
    "                        or end_index - start_index + 1 > max_answer_length\n",
    "                    ):\n",
    "                        continue\n",
    "\n",
    "                    answer = {\n",
    "                        \"text\": context[offsets[start_index][0] : offsets[end_index][1]],\n",
    "                        \"logit_score\": start_logit[start_index] + end_logit[end_index],\n",
    "                    }\n",
    "                    answers.append(answer)\n",
    "\n",
    "        # Select the answer with the best score\n",
    "        if len(answers) > 0:\n",
    "            best_answer = max(answers, key=lambda x: x[\"logit_score\"])\n",
    "            predicted_answers.append(\n",
    "                {\"id\": str(example_id), \"prediction_text\": best_answer[\"text\"]}\n",
    "            )\n",
    "        else:\n",
    "            predicted_answers.append({\"id\": str(example_id), \"prediction_text\": \"\"})\n",
    "\n",
    "    theoretical_answers = [{\"id\": str(ex[\"id\"]), \"answers\": ex[\"answers\"]} for ex in examples]\n",
    "    return metric.compute(predictions=predicted_answers, references=theoretical_answers)"
   ]
  },
  {
   "cell_type": "code",
   "execution_count": 27,
   "metadata": {},
   "outputs": [
    {
     "ename": "KeyError",
     "evalue": "'example_id'",
     "output_type": "error",
     "traceback": [
      "\u001b[1;31m---------------------------------------------------------------------------\u001b[0m",
      "\u001b[1;31mKeyError\u001b[0m                                  Traceback (most recent call last)",
      "Cell \u001b[1;32mIn[27], line 1\u001b[0m\n\u001b[1;32m----> 1\u001b[0m \u001b[43mcompute_metrics_test\u001b[49m\u001b[43m(\u001b[49m\u001b[43mstart_logits\u001b[49m\u001b[43m,\u001b[49m\u001b[43m \u001b[49m\u001b[43mend_logits\u001b[49m\u001b[43m,\u001b[49m\u001b[43m \u001b[49m\u001b[43mDATASETS\u001b[49m\u001b[43m[\u001b[49m\u001b[38;5;124;43m'\u001b[39;49m\u001b[38;5;124;43mtest\u001b[39;49m\u001b[38;5;124;43m'\u001b[39;49m\u001b[43m]\u001b[49m\u001b[43m,\u001b[49m\u001b[43m \u001b[49m\u001b[43mraw_datasets\u001b[49m\u001b[43m[\u001b[49m\u001b[38;5;124;43m\"\u001b[39;49m\u001b[38;5;124;43mtest\u001b[39;49m\u001b[38;5;124;43m\"\u001b[39;49m\u001b[43m]\u001b[49m\u001b[43m)\u001b[49m\n",
      "Cell \u001b[1;32mIn[26], line 4\u001b[0m, in \u001b[0;36mcompute_metrics_test\u001b[1;34m(start_logits, end_logits, features, examples)\u001b[0m\n\u001b[0;32m      2\u001b[0m example_to_features \u001b[38;5;241m=\u001b[39m collections\u001b[38;5;241m.\u001b[39mdefaultdict(\u001b[38;5;28mlist\u001b[39m)\n\u001b[0;32m      3\u001b[0m \u001b[38;5;28;01mfor\u001b[39;00m idx, feature \u001b[38;5;129;01min\u001b[39;00m \u001b[38;5;28menumerate\u001b[39m(features):\n\u001b[1;32m----> 4\u001b[0m     example_to_features[\u001b[43mfeature\u001b[49m\u001b[43m[\u001b[49m\u001b[38;5;124;43m\"\u001b[39;49m\u001b[38;5;124;43mexample_id\u001b[39;49m\u001b[38;5;124;43m\"\u001b[39;49m\u001b[43m]\u001b[49m]\u001b[38;5;241m.\u001b[39mappend(idx)\n\u001b[0;32m      6\u001b[0m predicted_answers \u001b[38;5;241m=\u001b[39m []\n\u001b[0;32m      7\u001b[0m \u001b[38;5;28;01mfor\u001b[39;00m example \u001b[38;5;129;01min\u001b[39;00m tqdm(examples):\n",
      "\u001b[1;31mKeyError\u001b[0m: 'example_id'"
     ]
    }
   ],
   "source": [
    "compute_metrics_test(start_logits, end_logits, DATASETS['test'], raw_datasets[\"test\"])"
   ]
  },
  {
   "cell_type": "markdown",
   "metadata": {
    "tags": []
   },
   "source": [
    "# Model 1: fine-tuning 'DeepPavlov/rubert-base-cased'"
   ]
  },
  {
   "cell_type": "code",
   "execution_count": 4,
   "metadata": {
    "id": "EtcCXR820Vty"
   },
   "outputs": [
    {
     "data": {
      "application/vnd.jupyter.widget-view+json": {
       "model_id": "04628605a38c44bea71f44739178fb43",
       "version_major": 2,
       "version_minor": 0
      },
      "text/plain": [
       "Downloading (…)okenizer_config.json:   0%|          | 0.00/24.0 [00:00<?, ?B/s]"
      ]
     },
     "metadata": {},
     "output_type": "display_data"
    },
    {
     "data": {
      "application/vnd.jupyter.widget-view+json": {
       "model_id": "6fd1d521cbc8417182d4736c5c70b004",
       "version_major": 2,
       "version_minor": 0
      },
      "text/plain": [
       "Downloading (…)lve/main/config.json:   0%|          | 0.00/642 [00:00<?, ?B/s]"
      ]
     },
     "metadata": {},
     "output_type": "display_data"
    },
    {
     "data": {
      "application/vnd.jupyter.widget-view+json": {
       "model_id": "7f6f669824e94fe7b21de4f3faaf4366",
       "version_major": 2,
       "version_minor": 0
      },
      "text/plain": [
       "Downloading (…)solve/main/vocab.txt:   0%|          | 0.00/1.65M [00:00<?, ?B/s]"
      ]
     },
     "metadata": {},
     "output_type": "display_data"
    },
    {
     "data": {
      "application/vnd.jupyter.widget-view+json": {
       "model_id": "26cd1ed6694e46eb8b0e70ba830c5ee1",
       "version_major": 2,
       "version_minor": 0
      },
      "text/plain": [
       "Downloading (…)cial_tokens_map.json:   0%|          | 0.00/112 [00:00<?, ?B/s]"
      ]
     },
     "metadata": {},
     "output_type": "display_data"
    }
   ],
   "source": [
    "model_checkpoint = 'DeepPavlov/rubert-base-cased'\n",
    "tokenizer = AutoTokenizer.from_pretrained(model_checkpoint)"
   ]
  },
  {
   "cell_type": "code",
   "execution_count": 5,
   "metadata": {
    "colab": {
     "base_uri": "https://localhost:8080/",
     "height": 174
    },
    "id": "PBcEmZla1g3w",
    "outputId": "6d5bbc42-06e9-4415-cc9a-6ae23d51274f"
   },
   "outputs": [
    {
     "data": {
      "text/plain": [
       "'[CLS] чем представлены органические остатки? [SEP] В протерозойских отложениях органические остатки встречаются намного чаще, чем в архейских. Они представлены известковыми выделениями сине - зелёных водорослей, ходами червей, остатками кишечнополостных. Кроме известковых водорослей, к числу древнейших растительных остатков относятся скопления графито - углистого вещества, образовавшегося в результате разложения Corycium enigmaticum. В кремнистых сланцах железорудной формации Канады найдены нитевидные водоросли, грибные нити и формы, близкие современным кокколитофоридам. В железистых кварцитах Северной Америки и Сибири обнаружены железистые продукты жизнедеятельности бактерий. [SEP]'"
      ]
     },
     "execution_count": 5,
     "metadata": {},
     "output_type": "execute_result"
    }
   ],
   "source": [
    "context = raw_datasets[\"train\"][0][\"context\"]\n",
    "question = raw_datasets[\"train\"][0][\"question\"]\n",
    "\n",
    "inputs = tokenizer(question, context)\n",
    "tokenizer.decode(inputs[\"input_ids\"])"
   ]
  },
  {
   "cell_type": "markdown",
   "metadata": {
    "id": "d2O2koUhM01s"
   },
   "source": [
    "Как в данном случае можно сформировать метки классов? Обычно поступают так: для каждого токена мы имеем два бинарных класса (является данный токен началом ответа или его окончанием). Выглядит это следующим образом:\n"
   ]
  },
  {
   "cell_type": "markdown",
   "metadata": {
    "id": "JY549Im0M520"
   },
   "source": [
    "![image.png](data:image/png;base64,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)"
   ]
  },
  {
   "cell_type": "code",
   "execution_count": 6,
   "metadata": {
    "id": "oVmpdLad1zUg"
   },
   "outputs": [],
   "source": [
    "max_length = 384\n",
    "stride = 128\n",
    "\n",
    "def preprocess_training_examples(examples):\n",
    "    questions = [q.strip() for q in examples['question']]\n",
    "    inputs = tokenizer(\n",
    "        questions,\n",
    "        examples['context'],\n",
    "        max_length=max_length,\n",
    "        truncation='only_second',\n",
    "        stride=stride,\n",
    "        return_overflowing_tokens=True,\n",
    "        return_offsets_mapping=True,\n",
    "        padding='max_length',\n",
    "        )\n",
    "\n",
    "    offset_mapping = inputs.pop('offset_mapping')\n",
    "    sample_map = inputs.pop('overflow_to_sample_mapping')\n",
    "    answers = examples['answers']\n",
    "    start_positions = []\n",
    "    end_positions = []\n",
    "\n",
    "    for (i, offset) in enumerate(offset_mapping):\n",
    "        sample_idx = sample_map[i]\n",
    "        answer = answers[sample_idx]\n",
    "        # answer = answers[i]\n",
    "        start_char = answer['answer_start'][0]\n",
    "        end_char = answer['answer_start'][0] + len(answer['text'][0])\n",
    "        sequence_ids = inputs.sequence_ids(i)\n",
    "\n",
    "    # Find the start and end of the context\n",
    "\n",
    "        idx = 0\n",
    "        while sequence_ids[idx] != 1:\n",
    "            idx += 1\n",
    "        context_start = idx\n",
    "        while sequence_ids[idx] == 1:\n",
    "            idx += 1\n",
    "        context_end = idx - 1\n",
    "\n",
    "    # If the answer is not fully inside the context, label is (0, 0)\n",
    "\n",
    "        if offset[context_start][0] > start_char \\\n",
    "            or offset[context_end][1] < end_char:\n",
    "        # if offset[context_start][0] > end_char \\\n",
    "        # or offset[context_end][1] < start_char:\n",
    "            start_positions.append(0)\n",
    "            end_positions.append(0)\n",
    "        else:\n",
    "\n",
    "      # Otherwise it's the start and end token positions\n",
    "\n",
    "            idx = context_start\n",
    "            while idx <= context_end and offset[idx][0] <= start_char:\n",
    "                idx += 1\n",
    "            start_positions.append(idx - 1)\n",
    "\n",
    "            idx = context_end\n",
    "            while idx >= context_start and offset[idx][1] >= end_char:\n",
    "                idx -= 1\n",
    "            end_positions.append(idx + 1)\n",
    "\n",
    "    inputs['start_positions'] = start_positions\n",
    "    inputs['end_positions'] = end_positions\n",
    "    return inputs"
   ]
  },
  {
   "cell_type": "code",
   "execution_count": 7,
   "metadata": {
    "id": "z03N-m7FGkgC"
   },
   "outputs": [],
   "source": [
    "def preprocess_validation_examples(examples):\n",
    "    questions = [q.strip() for q in examples['question']]\n",
    "    inputs = tokenizer(\n",
    "        questions,\n",
    "        examples['context'],\n",
    "        max_length=max_length,\n",
    "        truncation='only_second',\n",
    "        stride=stride,\n",
    "        return_overflowing_tokens=True,\n",
    "        return_offsets_mapping=True,\n",
    "        padding='max_length',\n",
    "        )\n",
    "\n",
    "    sample_map = inputs.pop('overflow_to_sample_mapping')\n",
    "    example_ids = []\n",
    "\n",
    "    for i in range(len(inputs['input_ids'])):\n",
    "        sample_idx = sample_map[i]\n",
    "        example_ids.append(examples['id'][sample_idx])\n",
    "\n",
    "        sequence_ids = inputs.sequence_ids(i)\n",
    "        offset = inputs['offset_mapping'][i]\n",
    "        inputs['offset_mapping'][i] = [(o if sequence_ids[k]\n",
    "                == 1 else None) for (k, o) in enumerate(offset)]\n",
    "\n",
    "    inputs['example_id'] = example_ids\n",
    "    return inputs"
   ]
  },
  {
   "cell_type": "code",
   "execution_count": 8,
   "metadata": {
    "colab": {
     "base_uri": "https://localhost:8080/",
     "height": 89,
     "referenced_widgets": [
      "48fb6e2da37944d38b03244c9c4b6081",
      "134bc3e8beb344fd9731086a701cbdf4",
      "d43b0c7c6df7419ca2e9ebf9450e8245",
      "1d32a7579c2942d1a5e262c527310910",
      "b3ad962368fe4ee18a5010eccc3c5e8f",
      "1a6892744df74f458990f76732081123",
      "384aea4aad7a49f597a31f7556dfc49f",
      "80da410765204d2c9281e86dece51cf6",
      "758acb7edc1b44ccb191a0bffb2d0f16",
      "5b6f9314f6de4a79ab9367801c04b5c4",
      "3a0906b81a954e6f95675b6a76c2d8a3"
     ]
    },
    "id": "ObX11psjLN-7",
    "outputId": "ea99b044-a041-46fb-c28a-1ef380005244"
   },
   "outputs": [
    {
     "data": {
      "application/vnd.jupyter.widget-view+json": {
       "model_id": "",
       "version_major": 2,
       "version_minor": 0
      },
      "text/plain": [
       "Map:   0%|          | 0/45328 [00:00<?, ? examples/s]"
      ]
     },
     "metadata": {},
     "output_type": "display_data"
    },
    {
     "data": {
      "application/vnd.jupyter.widget-view+json": {
       "model_id": "",
       "version_major": 2,
       "version_minor": 0
      },
      "text/plain": [
       "Map:   0%|          | 0/5036 [00:00<?, ? examples/s]"
      ]
     },
     "metadata": {},
     "output_type": "display_data"
    },
    {
     "name": "stdout",
     "output_type": "stream",
     "text": [
      "Train before preprocessing: 45328, after: 45544\n",
      "Validation before preprocessing: 5036, after: 5063\n"
     ]
    }
   ],
   "source": [
    "train_dataset = raw_datasets[\"train\"].map(\n",
    "    preprocess_training_examples,\n",
    "    batched=True,\n",
    "    remove_columns=raw_datasets[\"train\"].column_names,\n",
    ")\n",
    "\n",
    "validation_dataset = raw_datasets[\"validation\"].map(\n",
    "    preprocess_validation_examples,\n",
    "    batched=True,\n",
    "    remove_columns=raw_datasets[\"validation\"].column_names,\n",
    ")\n",
    "\n",
    "print(f'Train before preprocessing: {len(raw_datasets[\"train\"])}, after: {len(train_dataset)}')\n",
    "print(f'Validation before preprocessing: {len(raw_datasets[\"validation\"])}, after: {len(validation_dataset)}')"
   ]
  },
  {
   "cell_type": "markdown",
   "metadata": {
    "id": "sRCI-Vloj7k2",
    "tags": []
   },
   "source": [
    "## Post-processing"
   ]
  },
  {
   "cell_type": "code",
   "execution_count": 11,
   "metadata": {
    "colab": {
     "base_uri": "https://localhost:8080/",
     "height": 137,
     "referenced_widgets": [
      "f70b9d8e7e524e27bb56338377c863b8",
      "5d46db3578a64940adc9404c1e4aeadc",
      "7444e53f03eb42299151dd81adefa8ac",
      "7fe92f29076a47d49b4887ded4f94de3",
      "f7e56deaf1794c70ba0742cc2319fae1",
      "7b21a4f921b741b3be6586bdb6085350",
      "3c71bc12e136415d9ef5cc91ce7bb9f0",
      "e15b2d73f655435aba01b44005fa0f44",
      "558fece7d53442478da8a688a5beed43",
      "9c0f4a12f9fd40c495a2a7d441a7133a",
      "72d6883acf5349b68e3335d98f0d49ec",
      "8f612d3e5c5c42b087b9ab21bd34e345",
      "ea5ead687b79408d81d047aabfd57857",
      "03628c3dac0b480cad86b817a9812d88",
      "30b74fa2525b4a8d938383e81f8f567d",
      "cab2afe4315a43ef8339d0ac2e9f1173",
      "b8a9e49e4dad4ac080a9bd10c06bb98d",
      "c6e20e0fc242492e957b39d61fd199e0",
      "582dd78763fc44ee9674c7333e27d48e",
      "4a5a7f989417400086f04115d7c4b3a9",
      "ce8e063c273b41a2a775e6b9c6268ff6",
      "4205ccc162a54c54b375020a285e1ecb"
     ]
    },
    "id": "G9YEyj74cpts",
    "outputId": "574942cc-5ecf-462d-f612-d50cf3e5cadc"
   },
   "outputs": [
    {
     "data": {
      "application/vnd.jupyter.widget-view+json": {
       "model_id": "0899ae95011b47d8a2409339f083e9a7",
       "version_major": 2,
       "version_minor": 0
      },
      "text/plain": [
       "Downloading builder script:   0%|          | 0.00/4.53k [00:00<?, ?B/s]"
      ]
     },
     "metadata": {},
     "output_type": "display_data"
    },
    {
     "data": {
      "application/vnd.jupyter.widget-view+json": {
       "model_id": "b604de50131b4bf894341f4a7a8871e9",
       "version_major": 2,
       "version_minor": 0
      },
      "text/plain": [
       "Downloading extra modules:   0%|          | 0.00/3.32k [00:00<?, ?B/s]"
      ]
     },
     "metadata": {},
     "output_type": "display_data"
    }
   ],
   "source": [
    "metric = evaluate.load(\"squad\")"
   ]
  },
  {
   "cell_type": "code",
   "execution_count": 29,
   "metadata": {
    "id": "vdGV_AlknlNm"
   },
   "outputs": [],
   "source": [
    "n_best = 20\n",
    "max_answer_length = 30\n",
    "\n",
    "def compute_metrics(start_logits, end_logits, features, examples):\n",
    "    example_to_features = collections.defaultdict(list)\n",
    "    for idx, feature in enumerate(features):\n",
    "        example_to_features[feature[\"example_id\"]].append(idx)\n",
    "\n",
    "    predicted_answers = []\n",
    "    for example in tqdm(examples):\n",
    "        example_id = example[\"id\"]\n",
    "        context = example[\"context\"]\n",
    "        answers = []\n",
    "\n",
    "        # Loop through all features associated with that example\n",
    "        for feature_index in example_to_features[example_id]:\n",
    "            start_logit = start_logits[feature_index]\n",
    "            end_logit = end_logits[feature_index]\n",
    "            offsets = features[feature_index][\"offset_mapping\"]\n",
    "\n",
    "            start_indexes = np.argsort(start_logit)[-1 : -n_best - 1 : -1].tolist()\n",
    "            end_indexes = np.argsort(end_logit)[-1 : -n_best - 1 : -1].tolist()\n",
    "            for start_index in start_indexes:\n",
    "                for end_index in end_indexes:\n",
    "                    # Skip answers that are not fully in the context\n",
    "                    if offsets[start_index] is None or offsets[end_index] is None:\n",
    "                        continue\n",
    "                    # Skip answers with a length that is either < 0 or > max_answer_length\n",
    "                    if (\n",
    "                        end_index < start_index\n",
    "                        or end_index - start_index + 1 > max_answer_length\n",
    "                    ):\n",
    "                        continue\n",
    "\n",
    "                    answer = {\n",
    "                        \"text\": context[offsets[start_index][0] : offsets[end_index][1]],\n",
    "                        \"logit_score\": start_logit[start_index] + end_logit[end_index],\n",
    "                    }\n",
    "                    answers.append(answer)\n",
    "\n",
    "        # Select the answer with the best score\n",
    "        if len(answers) > 0:\n",
    "            best_answer = max(answers, key=lambda x: x[\"logit_score\"])\n",
    "            predicted_answers.append(\n",
    "                {\"id\": str(example_id), \"prediction_text\": best_answer[\"text\"]}\n",
    "            )\n",
    "        else:\n",
    "            predicted_answers.append({\"id\": str(example_id), \"prediction_text\": \"\"})\n",
    "\n",
    "    theoretical_answers = [{\"id\": str(ex[\"id\"]), \"answers\": ex[\"answers\"]} for ex in examples]\n",
    "    return metric.compute(predictions=predicted_answers, references=theoretical_answers)"
   ]
  },
  {
   "cell_type": "code",
   "execution_count": 13,
   "metadata": {
    "colab": {
     "base_uri": "https://localhost:8080/",
     "height": 184,
     "referenced_widgets": [
      "c3591c18ef0241b088ac579513f94c13",
      "92b9b11dfb65448584a5f18c97b0ccba",
      "f5ff5da8fc414b2ebc1d3547751fee4f",
      "51bc1a0fa37f44c699794dd3b8871301",
      "21fabb096fe94ee199b5349c93dc35e0",
      "4380aa034ed84319bbd45c7cee32425b",
      "d8d8ef4bce7e4d5a956e17911efb48ac",
      "dd8d675ac1bc461e9c0c4672fdd57db1",
      "afbe53b92ef2459db69819f2b82e0d80",
      "c25c36615a9a43c4a5eac581ca18393e",
      "fe88178707124669ba624e2343bbf729"
     ]
    },
    "id": "ZPej0cdRp5Wx",
    "outputId": "6ebeae20-6b0e-4d66-c6c5-146adacf1908"
   },
   "outputs": [
    {
     "data": {
      "application/vnd.jupyter.widget-view+json": {
       "model_id": "52c9d2348fb34a0484618b81df3da59b",
       "version_major": 2,
       "version_minor": 0
      },
      "text/plain": [
       "Downloading (…)\"pytorch_model.bin\";:   0%|          | 0.00/714M [00:00<?, ?B/s]"
      ]
     },
     "metadata": {},
     "output_type": "display_data"
    },
    {
     "name": "stderr",
     "output_type": "stream",
     "text": [
      "Some weights of the model checkpoint at DeepPavlov/rubert-base-cased were not used when initializing BertForQuestionAnswering: ['cls.predictions.transform.dense.bias', 'cls.predictions.bias', 'cls.predictions.decoder.bias', 'cls.predictions.decoder.weight', 'cls.predictions.transform.LayerNorm.weight', 'cls.predictions.transform.dense.weight', 'cls.seq_relationship.bias', 'cls.seq_relationship.weight', 'cls.predictions.transform.LayerNorm.bias']\n",
      "- This IS expected if you are initializing BertForQuestionAnswering from the checkpoint of a model trained on another task or with another architecture (e.g. initializing a BertForSequenceClassification model from a BertForPreTraining model).\n",
      "- This IS NOT expected if you are initializing BertForQuestionAnswering from the checkpoint of a model that you expect to be exactly identical (initializing a BertForSequenceClassification model from a BertForSequenceClassification model).\n",
      "Some weights of BertForQuestionAnswering were not initialized from the model checkpoint at DeepPavlov/rubert-base-cased and are newly initialized: ['qa_outputs.bias', 'qa_outputs.weight']\n",
      "You should probably TRAIN this model on a down-stream task to be able to use it for predictions and inference.\n"
     ]
    }
   ],
   "source": [
    "model = AutoModelForQuestionAnswering.from_pretrained(model_checkpoint)"
   ]
  },
  {
   "cell_type": "code",
   "execution_count": 14,
   "metadata": {
    "id": "wlflxN4hpzfc"
   },
   "outputs": [],
   "source": [
    "args = TrainingArguments(\n",
    "    \"DeepPavlov/rubert-base-cased\",\n",
    "    evaluation_strategy=\"no\",\n",
    "    save_strategy=\"epoch\",\n",
    "    learning_rate=2e-5,\n",
    "    num_train_epochs=3,\n",
    "    weight_decay=0.01,\n",
    "    fp16=True,\n",
    ")"
   ]
  },
  {
   "cell_type": "code",
   "execution_count": 15,
   "metadata": {
    "colab": {
     "base_uri": "https://localhost:8080/",
     "height": 165
    },
    "id": "PLu6n8xPq-qW",
    "outputId": "c9cf5c0b-e7b8-4515-ca96-32dfd7988155"
   },
   "outputs": [
    {
     "name": "stderr",
     "output_type": "stream",
     "text": [
      "Using cuda_amp half precision backend\n",
      "C:\\ProgramData\\Anaconda3\\envs\\pytorch_1\\lib\\site-packages\\transformers\\optimization.py:306: FutureWarning: This implementation of AdamW is deprecated and will be removed in a future version. Use the PyTorch implementation torch.optim.AdamW instead, or set `no_deprecation_warning=True` to disable this warning\n",
      "  warnings.warn(\n",
      "***** Running training *****\n",
      "  Num examples = 45544\n",
      "  Num Epochs = 3\n",
      "  Instantaneous batch size per device = 8\n",
      "  Total train batch size (w. parallel, distributed & accumulation) = 8\n",
      "  Gradient Accumulation steps = 1\n",
      "  Total optimization steps = 17079\n",
      "  Number of trainable parameters = 177264386\n",
      "You're using a BertTokenizerFast tokenizer. Please note that with a fast tokenizer, using the `__call__` method is faster than using a method to encode the text followed by a call to the `pad` method to get a padded encoding.\n"
     ]
    },
    {
     "data": {
      "text/html": [
       "\n",
       "    <div>\n",
       "      \n",
       "      <progress value='17079' max='17079' style='width:300px; height:20px; vertical-align: middle;'></progress>\n",
       "      [17079/17079 1:07:49, Epoch 3/3]\n",
       "    </div>\n",
       "    <table border=\"1\" class=\"dataframe\">\n",
       "  <thead>\n",
       " <tr style=\"text-align: left;\">\n",
       "      <th>Step</th>\n",
       "      <th>Training Loss</th>\n",
       "    </tr>\n",
       "  </thead>\n",
       "  <tbody>\n",
       "    <tr>\n",
       "      <td>500</td>\n",
       "      <td>2.672100</td>\n",
       "    </tr>\n",
       "    <tr>\n",
       "      <td>1000</td>\n",
       "      <td>2.027800</td>\n",
       "    </tr>\n",
       "    <tr>\n",
       "      <td>1500</td>\n",
       "      <td>1.897700</td>\n",
       "    </tr>\n",
       "    <tr>\n",
       "      <td>2000</td>\n",
       "      <td>1.771800</td>\n",
       "    </tr>\n",
       "    <tr>\n",
       "      <td>2500</td>\n",
       "      <td>1.687400</td>\n",
       "    </tr>\n",
       "    <tr>\n",
       "      <td>3000</td>\n",
       "      <td>1.674000</td>\n",
       "    </tr>\n",
       "    <tr>\n",
       "      <td>3500</td>\n",
       "      <td>1.638200</td>\n",
       "    </tr>\n",
       "    <tr>\n",
       "      <td>4000</td>\n",
       "      <td>1.617100</td>\n",
       "    </tr>\n",
       "    <tr>\n",
       "      <td>4500</td>\n",
       "      <td>1.598100</td>\n",
       "    </tr>\n",
       "    <tr>\n",
       "      <td>5000</td>\n",
       "      <td>1.591900</td>\n",
       "    </tr>\n",
       "    <tr>\n",
       "      <td>5500</td>\n",
       "      <td>1.562200</td>\n",
       "    </tr>\n",
       "    <tr>\n",
       "      <td>6000</td>\n",
       "      <td>1.401600</td>\n",
       "    </tr>\n",
       "    <tr>\n",
       "      <td>6500</td>\n",
       "      <td>1.251500</td>\n",
       "    </tr>\n",
       "    <tr>\n",
       "      <td>7000</td>\n",
       "      <td>1.292400</td>\n",
       "    </tr>\n",
       "    <tr>\n",
       "      <td>7500</td>\n",
       "      <td>1.240900</td>\n",
       "    </tr>\n",
       "    <tr>\n",
       "      <td>8000</td>\n",
       "      <td>1.239200</td>\n",
       "    </tr>\n",
       "    <tr>\n",
       "      <td>8500</td>\n",
       "      <td>1.226300</td>\n",
       "    </tr>\n",
       "    <tr>\n",
       "      <td>9000</td>\n",
       "      <td>1.219800</td>\n",
       "    </tr>\n",
       "    <tr>\n",
       "      <td>9500</td>\n",
       "      <td>1.241300</td>\n",
       "    </tr>\n",
       "    <tr>\n",
       "      <td>10000</td>\n",
       "      <td>1.241400</td>\n",
       "    </tr>\n",
       "    <tr>\n",
       "      <td>10500</td>\n",
       "      <td>1.217200</td>\n",
       "    </tr>\n",
       "    <tr>\n",
       "      <td>11000</td>\n",
       "      <td>1.225400</td>\n",
       "    </tr>\n",
       "    <tr>\n",
       "      <td>11500</td>\n",
       "      <td>1.136300</td>\n",
       "    </tr>\n",
       "    <tr>\n",
       "      <td>12000</td>\n",
       "      <td>0.937500</td>\n",
       "    </tr>\n",
       "    <tr>\n",
       "      <td>12500</td>\n",
       "      <td>0.890200</td>\n",
       "    </tr>\n",
       "    <tr>\n",
       "      <td>13000</td>\n",
       "      <td>0.876700</td>\n",
       "    </tr>\n",
       "    <tr>\n",
       "      <td>13500</td>\n",
       "      <td>0.901900</td>\n",
       "    </tr>\n",
       "    <tr>\n",
       "      <td>14000</td>\n",
       "      <td>0.870100</td>\n",
       "    </tr>\n",
       "    <tr>\n",
       "      <td>14500</td>\n",
       "      <td>0.910600</td>\n",
       "    </tr>\n",
       "    <tr>\n",
       "      <td>15000</td>\n",
       "      <td>0.859100</td>\n",
       "    </tr>\n",
       "    <tr>\n",
       "      <td>15500</td>\n",
       "      <td>0.890600</td>\n",
       "    </tr>\n",
       "    <tr>\n",
       "      <td>16000</td>\n",
       "      <td>0.877200</td>\n",
       "    </tr>\n",
       "    <tr>\n",
       "      <td>16500</td>\n",
       "      <td>0.890400</td>\n",
       "    </tr>\n",
       "    <tr>\n",
       "      <td>17000</td>\n",
       "      <td>0.865600</td>\n",
       "    </tr>\n",
       "  </tbody>\n",
       "</table><p>"
      ],
      "text/plain": [
       "<IPython.core.display.HTML object>"
      ]
     },
     "metadata": {},
     "output_type": "display_data"
    },
    {
     "name": "stderr",
     "output_type": "stream",
     "text": [
      "Saving model checkpoint to DeepPavlov/rubert-base-cased\\checkpoint-5693\n",
      "Configuration saved in DeepPavlov/rubert-base-cased\\checkpoint-5693\\config.json\n",
      "Model weights saved in DeepPavlov/rubert-base-cased\\checkpoint-5693\\pytorch_model.bin\n",
      "tokenizer config file saved in DeepPavlov/rubert-base-cased\\checkpoint-5693\\tokenizer_config.json\n",
      "Special tokens file saved in DeepPavlov/rubert-base-cased\\checkpoint-5693\\special_tokens_map.json\n",
      "Saving model checkpoint to DeepPavlov/rubert-base-cased\\checkpoint-11386\n",
      "Configuration saved in DeepPavlov/rubert-base-cased\\checkpoint-11386\\config.json\n",
      "Model weights saved in DeepPavlov/rubert-base-cased\\checkpoint-11386\\pytorch_model.bin\n",
      "tokenizer config file saved in DeepPavlov/rubert-base-cased\\checkpoint-11386\\tokenizer_config.json\n",
      "Special tokens file saved in DeepPavlov/rubert-base-cased\\checkpoint-11386\\special_tokens_map.json\n",
      "Saving model checkpoint to DeepPavlov/rubert-base-cased\\checkpoint-17079\n",
      "Configuration saved in DeepPavlov/rubert-base-cased\\checkpoint-17079\\config.json\n",
      "Model weights saved in DeepPavlov/rubert-base-cased\\checkpoint-17079\\pytorch_model.bin\n",
      "tokenizer config file saved in DeepPavlov/rubert-base-cased\\checkpoint-17079\\tokenizer_config.json\n",
      "Special tokens file saved in DeepPavlov/rubert-base-cased\\checkpoint-17079\\special_tokens_map.json\n",
      "\n",
      "\n",
      "Training completed. Do not forget to share your model on huggingface.co/models =)\n",
      "\n",
      "\n"
     ]
    },
    {
     "data": {
      "text/plain": [
       "TrainOutput(global_step=17079, training_loss=1.3047743794566136, metrics={'train_runtime': 4072.8447, 'train_samples_per_second': 33.547, 'train_steps_per_second': 4.193, 'total_flos': 2.6776123849764864e+16, 'train_loss': 1.3047743794566136, 'epoch': 3.0})"
      ]
     },
     "execution_count": 15,
     "metadata": {},
     "output_type": "execute_result"
    }
   ],
   "source": [
    "trainer = Trainer(\n",
    "    model=model,\n",
    "    args=args,\n",
    "    train_dataset=train_dataset,\n",
    "    eval_dataset=validation_dataset,\n",
    "    tokenizer=tokenizer,\n",
    ")\n",
    "\n",
    "trainer.train()"
   ]
  },
  {
   "cell_type": "code",
   "execution_count": 17,
   "metadata": {
    "id": "wjN1qGwJrWg2"
   },
   "outputs": [
    {
     "name": "stderr",
     "output_type": "stream",
     "text": [
      "The following columns in the test set don't have a corresponding argument in `BertForQuestionAnswering.forward` and have been ignored: offset_mapping, example_id. If offset_mapping, example_id are not expected by `BertForQuestionAnswering.forward`,  you can safely ignore this message.\n",
      "***** Running Prediction *****\n",
      "  Num examples = 5063\n",
      "  Batch size = 8\n"
     ]
    },
    {
     "data": {
      "text/html": [],
      "text/plain": [
       "<IPython.core.display.HTML object>"
      ]
     },
     "metadata": {},
     "output_type": "display_data"
    }
   ],
   "source": [
    "predictions, _, _ = trainer.predict(validation_dataset)"
   ]
  },
  {
   "cell_type": "code",
   "execution_count": 22,
   "metadata": {},
   "outputs": [],
   "source": [
    "start_logits, end_logits = predictions"
   ]
  },
  {
   "cell_type": "code",
   "execution_count": 30,
   "metadata": {},
   "outputs": [
    {
     "data": {
      "application/vnd.jupyter.widget-view+json": {
       "model_id": "d19176a27c6446fe824274d4cd396094",
       "version_major": 2,
       "version_minor": 0
      },
      "text/plain": [
       "  0%|          | 0/5036 [00:00<?, ?it/s]"
      ]
     },
     "metadata": {},
     "output_type": "display_data"
    },
    {
     "data": {
      "text/plain": [
       "{'exact_match': 57.267672756155676, 'f1': 77.41556164785062}"
      ]
     },
     "execution_count": 30,
     "metadata": {},
     "output_type": "execute_result"
    }
   ],
   "source": [
    "compute_metrics(start_logits, end_logits, validation_dataset, raw_datasets[\"validation\"])"
   ]
  },
  {
   "cell_type": "code",
   "execution_count": null,
   "metadata": {},
   "outputs": [],
   "source": []
  }
 ],
 "metadata": {
  "colab": {
   "include_colab_link": true,
   "provenance": []
  },
  "kernelspec": {
   "display_name": "Python 3 (ipykernel)",
   "language": "python",
   "name": "python3"
  },
  "language_info": {
   "codemirror_mode": {
    "name": "ipython",
    "version": 3
   },
   "file_extension": ".py",
   "mimetype": "text/x-python",
   "name": "python",
   "nbconvert_exporter": "python",
   "pygments_lexer": "ipython3",
   "version": "3.9.16"
  },
  "widgets": {
   "application/vnd.jupyter.widget-state+json": {
    "01ce4f34f34545788dd14bb5c7c9f8a9": {
     "model_module": "@jupyter-widgets/controls",
     "model_module_version": "1.5.0",
     "model_name": "DescriptionStyleModel",
     "state": {
      "_model_module": "@jupyter-widgets/controls",
      "_model_module_version": "1.5.0",
      "_model_name": "DescriptionStyleModel",
      "_view_count": null,
      "_view_module": "@jupyter-widgets/base",
      "_view_module_version": "1.2.0",
      "_view_name": "StyleView",
      "description_width": ""
     }
    },
    "03628c3dac0b480cad86b817a9812d88": {
     "model_module": "@jupyter-widgets/controls",
     "model_module_version": "1.5.0",
     "model_name": "FloatProgressModel",
     "state": {
      "_dom_classes": [],
      "_model_module": "@jupyter-widgets/controls",
      "_model_module_version": "1.5.0",
      "_model_name": "FloatProgressModel",
      "_view_count": null,
      "_view_module": "@jupyter-widgets/controls",
      "_view_module_version": "1.5.0",
      "_view_name": "ProgressView",
      "bar_style": "success",
      "description": "",
      "description_tooltip": null,
      "layout": "IPY_MODEL_582dd78763fc44ee9674c7333e27d48e",
      "max": 3317,
      "min": 0,
      "orientation": "horizontal",
      "style": "IPY_MODEL_4a5a7f989417400086f04115d7c4b3a9",
      "value": 3317
     }
    },
    "053bb73e10644128925ea062bf7dffa0": {
     "model_module": "@jupyter-widgets/base",
     "model_module_version": "1.2.0",
     "model_name": "LayoutModel",
     "state": {
      "_model_module": "@jupyter-widgets/base",
      "_model_module_version": "1.2.0",
      "_model_name": "LayoutModel",
      "_view_count": null,
      "_view_module": "@jupyter-widgets/base",
      "_view_module_version": "1.2.0",
      "_view_name": "LayoutView",
      "align_content": null,
      "align_items": null,
      "align_self": null,
      "border": null,
      "bottom": null,
      "display": null,
      "flex": null,
      "flex_flow": null,
      "grid_area": null,
      "grid_auto_columns": null,
      "grid_auto_flow": null,
      "grid_auto_rows": null,
      "grid_column": null,
      "grid_gap": null,
      "grid_row": null,
      "grid_template_areas": null,
      "grid_template_columns": null,
      "grid_template_rows": null,
      "height": null,
      "justify_content": null,
      "justify_items": null,
      "left": null,
      "margin": null,
      "max_height": null,
      "max_width": null,
      "min_height": null,
      "min_width": null,
      "object_fit": null,
      "object_position": null,
      "order": null,
      "overflow": null,
      "overflow_x": null,
      "overflow_y": null,
      "padding": null,
      "right": null,
      "top": null,
      "visibility": null,
      "width": null
     }
    },
    "134bc3e8beb344fd9731086a701cbdf4": {
     "model_module": "@jupyter-widgets/controls",
     "model_module_version": "1.5.0",
     "model_name": "HTMLModel",
     "state": {
      "_dom_classes": [],
      "_model_module": "@jupyter-widgets/controls",
      "_model_module_version": "1.5.0",
      "_model_name": "HTMLModel",
      "_view_count": null,
      "_view_module": "@jupyter-widgets/controls",
      "_view_module_version": "1.5.0",
      "_view_name": "HTMLView",
      "description": "",
      "description_tooltip": null,
      "layout": "IPY_MODEL_1a6892744df74f458990f76732081123",
      "placeholder": "​",
      "style": "IPY_MODEL_384aea4aad7a49f597a31f7556dfc49f",
      "value": "Map:  99%"
     }
    },
    "1a6892744df74f458990f76732081123": {
     "model_module": "@jupyter-widgets/base",
     "model_module_version": "1.2.0",
     "model_name": "LayoutModel",
     "state": {
      "_model_module": "@jupyter-widgets/base",
      "_model_module_version": "1.2.0",
      "_model_name": "LayoutModel",
      "_view_count": null,
      "_view_module": "@jupyter-widgets/base",
      "_view_module_version": "1.2.0",
      "_view_name": "LayoutView",
      "align_content": null,
      "align_items": null,
      "align_self": null,
      "border": null,
      "bottom": null,
      "display": null,
      "flex": null,
      "flex_flow": null,
      "grid_area": null,
      "grid_auto_columns": null,
      "grid_auto_flow": null,
      "grid_auto_rows": null,
      "grid_column": null,
      "grid_gap": null,
      "grid_row": null,
      "grid_template_areas": null,
      "grid_template_columns": null,
      "grid_template_rows": null,
      "height": null,
      "justify_content": null,
      "justify_items": null,
      "left": null,
      "margin": null,
      "max_height": null,
      "max_width": null,
      "min_height": null,
      "min_width": null,
      "object_fit": null,
      "object_position": null,
      "order": null,
      "overflow": null,
      "overflow_x": null,
      "overflow_y": null,
      "padding": null,
      "right": null,
      "top": null,
      "visibility": null,
      "width": null
     }
    },
    "1d32a7579c2942d1a5e262c527310910": {
     "model_module": "@jupyter-widgets/controls",
     "model_module_version": "1.5.0",
     "model_name": "HTMLModel",
     "state": {
      "_dom_classes": [],
      "_model_module": "@jupyter-widgets/controls",
      "_model_module_version": "1.5.0",
      "_model_name": "HTMLModel",
      "_view_count": null,
      "_view_module": "@jupyter-widgets/controls",
      "_view_module_version": "1.5.0",
      "_view_name": "HTMLView",
      "description": "",
      "description_tooltip": null,
      "layout": "IPY_MODEL_5b6f9314f6de4a79ab9367801c04b5c4",
      "placeholder": "​",
      "style": "IPY_MODEL_3a0906b81a954e6f95675b6a76c2d8a3",
      "value": " 5000/5036 [00:05&lt;00:00, 1015.50 examples/s]"
     }
    },
    "21fabb096fe94ee199b5349c93dc35e0": {
     "model_module": "@jupyter-widgets/base",
     "model_module_version": "1.2.0",
     "model_name": "LayoutModel",
     "state": {
      "_model_module": "@jupyter-widgets/base",
      "_model_module_version": "1.2.0",
      "_model_name": "LayoutModel",
      "_view_count": null,
      "_view_module": "@jupyter-widgets/base",
      "_view_module_version": "1.2.0",
      "_view_name": "LayoutView",
      "align_content": null,
      "align_items": null,
      "align_self": null,
      "border": null,
      "bottom": null,
      "display": null,
      "flex": null,
      "flex_flow": null,
      "grid_area": null,
      "grid_auto_columns": null,
      "grid_auto_flow": null,
      "grid_auto_rows": null,
      "grid_column": null,
      "grid_gap": null,
      "grid_row": null,
      "grid_template_areas": null,
      "grid_template_columns": null,
      "grid_template_rows": null,
      "height": null,
      "justify_content": null,
      "justify_items": null,
      "left": null,
      "margin": null,
      "max_height": null,
      "max_width": null,
      "min_height": null,
      "min_width": null,
      "object_fit": null,
      "object_position": null,
      "order": null,
      "overflow": null,
      "overflow_x": null,
      "overflow_y": null,
      "padding": null,
      "right": null,
      "top": null,
      "visibility": null,
      "width": null
     }
    },
    "2c4570e39aea41f6a6ade0f63c787ded": {
     "model_module": "@jupyter-widgets/base",
     "model_module_version": "1.2.0",
     "model_name": "LayoutModel",
     "state": {
      "_model_module": "@jupyter-widgets/base",
      "_model_module_version": "1.2.0",
      "_model_name": "LayoutModel",
      "_view_count": null,
      "_view_module": "@jupyter-widgets/base",
      "_view_module_version": "1.2.0",
      "_view_name": "LayoutView",
      "align_content": null,
      "align_items": null,
      "align_self": null,
      "border": null,
      "bottom": null,
      "display": null,
      "flex": null,
      "flex_flow": null,
      "grid_area": null,
      "grid_auto_columns": null,
      "grid_auto_flow": null,
      "grid_auto_rows": null,
      "grid_column": null,
      "grid_gap": null,
      "grid_row": null,
      "grid_template_areas": null,
      "grid_template_columns": null,
      "grid_template_rows": null,
      "height": null,
      "justify_content": null,
      "justify_items": null,
      "left": null,
      "margin": null,
      "max_height": null,
      "max_width": null,
      "min_height": null,
      "min_width": null,
      "object_fit": null,
      "object_position": null,
      "order": null,
      "overflow": null,
      "overflow_x": null,
      "overflow_y": null,
      "padding": null,
      "right": null,
      "top": null,
      "visibility": null,
      "width": null
     }
    },
    "30b74fa2525b4a8d938383e81f8f567d": {
     "model_module": "@jupyter-widgets/controls",
     "model_module_version": "1.5.0",
     "model_name": "HTMLModel",
     "state": {
      "_dom_classes": [],
      "_model_module": "@jupyter-widgets/controls",
      "_model_module_version": "1.5.0",
      "_model_name": "HTMLModel",
      "_view_count": null,
      "_view_module": "@jupyter-widgets/controls",
      "_view_module_version": "1.5.0",
      "_view_name": "HTMLView",
      "description": "",
      "description_tooltip": null,
      "layout": "IPY_MODEL_ce8e063c273b41a2a775e6b9c6268ff6",
      "placeholder": "​",
      "style": "IPY_MODEL_4205ccc162a54c54b375020a285e1ecb",
      "value": " 3.32k/3.32k [00:00&lt;00:00, 97.7kB/s]"
     }
    },
    "384aea4aad7a49f597a31f7556dfc49f": {
     "model_module": "@jupyter-widgets/controls",
     "model_module_version": "1.5.0",
     "model_name": "DescriptionStyleModel",
     "state": {
      "_model_module": "@jupyter-widgets/controls",
      "_model_module_version": "1.5.0",
      "_model_name": "DescriptionStyleModel",
      "_view_count": null,
      "_view_module": "@jupyter-widgets/base",
      "_view_module_version": "1.2.0",
      "_view_name": "StyleView",
      "description_width": ""
     }
    },
    "3a0906b81a954e6f95675b6a76c2d8a3": {
     "model_module": "@jupyter-widgets/controls",
     "model_module_version": "1.5.0",
     "model_name": "DescriptionStyleModel",
     "state": {
      "_model_module": "@jupyter-widgets/controls",
      "_model_module_version": "1.5.0",
      "_model_name": "DescriptionStyleModel",
      "_view_count": null,
      "_view_module": "@jupyter-widgets/base",
      "_view_module_version": "1.2.0",
      "_view_name": "StyleView",
      "description_width": ""
     }
    },
    "3c71bc12e136415d9ef5cc91ce7bb9f0": {
     "model_module": "@jupyter-widgets/controls",
     "model_module_version": "1.5.0",
     "model_name": "DescriptionStyleModel",
     "state": {
      "_model_module": "@jupyter-widgets/controls",
      "_model_module_version": "1.5.0",
      "_model_name": "DescriptionStyleModel",
      "_view_count": null,
      "_view_module": "@jupyter-widgets/base",
      "_view_module_version": "1.2.0",
      "_view_name": "StyleView",
      "description_width": ""
     }
    },
    "3f0ed7bb97fa4419bbb70b528ad6ad0a": {
     "model_module": "@jupyter-widgets/base",
     "model_module_version": "1.2.0",
     "model_name": "LayoutModel",
     "state": {
      "_model_module": "@jupyter-widgets/base",
      "_model_module_version": "1.2.0",
      "_model_name": "LayoutModel",
      "_view_count": null,
      "_view_module": "@jupyter-widgets/base",
      "_view_module_version": "1.2.0",
      "_view_name": "LayoutView",
      "align_content": null,
      "align_items": null,
      "align_self": null,
      "border": null,
      "bottom": null,
      "display": null,
      "flex": null,
      "flex_flow": null,
      "grid_area": null,
      "grid_auto_columns": null,
      "grid_auto_flow": null,
      "grid_auto_rows": null,
      "grid_column": null,
      "grid_gap": null,
      "grid_row": null,
      "grid_template_areas": null,
      "grid_template_columns": null,
      "grid_template_rows": null,
      "height": null,
      "justify_content": null,
      "justify_items": null,
      "left": null,
      "margin": null,
      "max_height": null,
      "max_width": null,
      "min_height": null,
      "min_width": null,
      "object_fit": null,
      "object_position": null,
      "order": null,
      "overflow": null,
      "overflow_x": null,
      "overflow_y": null,
      "padding": null,
      "right": null,
      "top": null,
      "visibility": null,
      "width": null
     }
    },
    "3f7018721bed49369adcc946c61149a1": {
     "model_module": "@jupyter-widgets/controls",
     "model_module_version": "1.5.0",
     "model_name": "ProgressStyleModel",
     "state": {
      "_model_module": "@jupyter-widgets/controls",
      "_model_module_version": "1.5.0",
      "_model_name": "ProgressStyleModel",
      "_view_count": null,
      "_view_module": "@jupyter-widgets/base",
      "_view_module_version": "1.2.0",
      "_view_name": "StyleView",
      "bar_color": null,
      "description_width": ""
     }
    },
    "4205ccc162a54c54b375020a285e1ecb": {
     "model_module": "@jupyter-widgets/controls",
     "model_module_version": "1.5.0",
     "model_name": "DescriptionStyleModel",
     "state": {
      "_model_module": "@jupyter-widgets/controls",
      "_model_module_version": "1.5.0",
      "_model_name": "DescriptionStyleModel",
      "_view_count": null,
      "_view_module": "@jupyter-widgets/base",
      "_view_module_version": "1.2.0",
      "_view_name": "StyleView",
      "description_width": ""
     }
    },
    "4380aa034ed84319bbd45c7cee32425b": {
     "model_module": "@jupyter-widgets/base",
     "model_module_version": "1.2.0",
     "model_name": "LayoutModel",
     "state": {
      "_model_module": "@jupyter-widgets/base",
      "_model_module_version": "1.2.0",
      "_model_name": "LayoutModel",
      "_view_count": null,
      "_view_module": "@jupyter-widgets/base",
      "_view_module_version": "1.2.0",
      "_view_name": "LayoutView",
      "align_content": null,
      "align_items": null,
      "align_self": null,
      "border": null,
      "bottom": null,
      "display": null,
      "flex": null,
      "flex_flow": null,
      "grid_area": null,
      "grid_auto_columns": null,
      "grid_auto_flow": null,
      "grid_auto_rows": null,
      "grid_column": null,
      "grid_gap": null,
      "grid_row": null,
      "grid_template_areas": null,
      "grid_template_columns": null,
      "grid_template_rows": null,
      "height": null,
      "justify_content": null,
      "justify_items": null,
      "left": null,
      "margin": null,
      "max_height": null,
      "max_width": null,
      "min_height": null,
      "min_width": null,
      "object_fit": null,
      "object_position": null,
      "order": null,
      "overflow": null,
      "overflow_x": null,
      "overflow_y": null,
      "padding": null,
      "right": null,
      "top": null,
      "visibility": null,
      "width": null
     }
    },
    "48fb6e2da37944d38b03244c9c4b6081": {
     "model_module": "@jupyter-widgets/controls",
     "model_module_version": "1.5.0",
     "model_name": "HBoxModel",
     "state": {
      "_dom_classes": [],
      "_model_module": "@jupyter-widgets/controls",
      "_model_module_version": "1.5.0",
      "_model_name": "HBoxModel",
      "_view_count": null,
      "_view_module": "@jupyter-widgets/controls",
      "_view_module_version": "1.5.0",
      "_view_name": "HBoxView",
      "box_style": "",
      "children": [
       "IPY_MODEL_134bc3e8beb344fd9731086a701cbdf4",
       "IPY_MODEL_d43b0c7c6df7419ca2e9ebf9450e8245",
       "IPY_MODEL_1d32a7579c2942d1a5e262c527310910"
      ],
      "layout": "IPY_MODEL_b3ad962368fe4ee18a5010eccc3c5e8f"
     }
    },
    "4a5a7f989417400086f04115d7c4b3a9": {
     "model_module": "@jupyter-widgets/controls",
     "model_module_version": "1.5.0",
     "model_name": "ProgressStyleModel",
     "state": {
      "_model_module": "@jupyter-widgets/controls",
      "_model_module_version": "1.5.0",
      "_model_name": "ProgressStyleModel",
      "_view_count": null,
      "_view_module": "@jupyter-widgets/base",
      "_view_module_version": "1.2.0",
      "_view_name": "StyleView",
      "bar_color": null,
      "description_width": ""
     }
    },
    "4f63639c4b5e4eff8e4a18adba3530f3": {
     "model_module": "@jupyter-widgets/controls",
     "model_module_version": "1.5.0",
     "model_name": "DescriptionStyleModel",
     "state": {
      "_model_module": "@jupyter-widgets/controls",
      "_model_module_version": "1.5.0",
      "_model_name": "DescriptionStyleModel",
      "_view_count": null,
      "_view_module": "@jupyter-widgets/base",
      "_view_module_version": "1.2.0",
      "_view_name": "StyleView",
      "description_width": ""
     }
    },
    "51bc1a0fa37f44c699794dd3b8871301": {
     "model_module": "@jupyter-widgets/controls",
     "model_module_version": "1.5.0",
     "model_name": "HTMLModel",
     "state": {
      "_dom_classes": [],
      "_model_module": "@jupyter-widgets/controls",
      "_model_module_version": "1.5.0",
      "_model_name": "HTMLModel",
      "_view_count": null,
      "_view_module": "@jupyter-widgets/controls",
      "_view_module_version": "1.5.0",
      "_view_name": "HTMLView",
      "description": "",
      "description_tooltip": null,
      "layout": "IPY_MODEL_c25c36615a9a43c4a5eac581ca18393e",
      "placeholder": "​",
      "style": "IPY_MODEL_fe88178707124669ba624e2343bbf729",
      "value": " 714M/714M [00:09&lt;00:00, 61.3MB/s]"
     }
    },
    "558fece7d53442478da8a688a5beed43": {
     "model_module": "@jupyter-widgets/controls",
     "model_module_version": "1.5.0",
     "model_name": "ProgressStyleModel",
     "state": {
      "_model_module": "@jupyter-widgets/controls",
      "_model_module_version": "1.5.0",
      "_model_name": "ProgressStyleModel",
      "_view_count": null,
      "_view_module": "@jupyter-widgets/base",
      "_view_module_version": "1.2.0",
      "_view_name": "StyleView",
      "bar_color": null,
      "description_width": ""
     }
    },
    "582dd78763fc44ee9674c7333e27d48e": {
     "model_module": "@jupyter-widgets/base",
     "model_module_version": "1.2.0",
     "model_name": "LayoutModel",
     "state": {
      "_model_module": "@jupyter-widgets/base",
      "_model_module_version": "1.2.0",
      "_model_name": "LayoutModel",
      "_view_count": null,
      "_view_module": "@jupyter-widgets/base",
      "_view_module_version": "1.2.0",
      "_view_name": "LayoutView",
      "align_content": null,
      "align_items": null,
      "align_self": null,
      "border": null,
      "bottom": null,
      "display": null,
      "flex": null,
      "flex_flow": null,
      "grid_area": null,
      "grid_auto_columns": null,
      "grid_auto_flow": null,
      "grid_auto_rows": null,
      "grid_column": null,
      "grid_gap": null,
      "grid_row": null,
      "grid_template_areas": null,
      "grid_template_columns": null,
      "grid_template_rows": null,
      "height": null,
      "justify_content": null,
      "justify_items": null,
      "left": null,
      "margin": null,
      "max_height": null,
      "max_width": null,
      "min_height": null,
      "min_width": null,
      "object_fit": null,
      "object_position": null,
      "order": null,
      "overflow": null,
      "overflow_x": null,
      "overflow_y": null,
      "padding": null,
      "right": null,
      "top": null,
      "visibility": null,
      "width": null
     }
    },
    "5a07e6a2f41249889ac59bd1ed8c028d": {
     "model_module": "@jupyter-widgets/controls",
     "model_module_version": "1.5.0",
     "model_name": "HTMLModel",
     "state": {
      "_dom_classes": [],
      "_model_module": "@jupyter-widgets/controls",
      "_model_module_version": "1.5.0",
      "_model_name": "HTMLModel",
      "_view_count": null,
      "_view_module": "@jupyter-widgets/controls",
      "_view_module_version": "1.5.0",
      "_view_name": "HTMLView",
      "description": "",
      "description_tooltip": null,
      "layout": "IPY_MODEL_2c4570e39aea41f6a6ade0f63c787ded",
      "placeholder": "​",
      "style": "IPY_MODEL_4f63639c4b5e4eff8e4a18adba3530f3",
      "value": " 3/3 [00:00&lt;00:00, 86.72it/s]"
     }
    },
    "5b6f9314f6de4a79ab9367801c04b5c4": {
     "model_module": "@jupyter-widgets/base",
     "model_module_version": "1.2.0",
     "model_name": "LayoutModel",
     "state": {
      "_model_module": "@jupyter-widgets/base",
      "_model_module_version": "1.2.0",
      "_model_name": "LayoutModel",
      "_view_count": null,
      "_view_module": "@jupyter-widgets/base",
      "_view_module_version": "1.2.0",
      "_view_name": "LayoutView",
      "align_content": null,
      "align_items": null,
      "align_self": null,
      "border": null,
      "bottom": null,
      "display": null,
      "flex": null,
      "flex_flow": null,
      "grid_area": null,
      "grid_auto_columns": null,
      "grid_auto_flow": null,
      "grid_auto_rows": null,
      "grid_column": null,
      "grid_gap": null,
      "grid_row": null,
      "grid_template_areas": null,
      "grid_template_columns": null,
      "grid_template_rows": null,
      "height": null,
      "justify_content": null,
      "justify_items": null,
      "left": null,
      "margin": null,
      "max_height": null,
      "max_width": null,
      "min_height": null,
      "min_width": null,
      "object_fit": null,
      "object_position": null,
      "order": null,
      "overflow": null,
      "overflow_x": null,
      "overflow_y": null,
      "padding": null,
      "right": null,
      "top": null,
      "visibility": null,
      "width": null
     }
    },
    "5d46db3578a64940adc9404c1e4aeadc": {
     "model_module": "@jupyter-widgets/controls",
     "model_module_version": "1.5.0",
     "model_name": "HTMLModel",
     "state": {
      "_dom_classes": [],
      "_model_module": "@jupyter-widgets/controls",
      "_model_module_version": "1.5.0",
      "_model_name": "HTMLModel",
      "_view_count": null,
      "_view_module": "@jupyter-widgets/controls",
      "_view_module_version": "1.5.0",
      "_view_name": "HTMLView",
      "description": "",
      "description_tooltip": null,
      "layout": "IPY_MODEL_7b21a4f921b741b3be6586bdb6085350",
      "placeholder": "​",
      "style": "IPY_MODEL_3c71bc12e136415d9ef5cc91ce7bb9f0",
      "value": "Downloading builder script: 100%"
     }
    },
    "72d6883acf5349b68e3335d98f0d49ec": {
     "model_module": "@jupyter-widgets/controls",
     "model_module_version": "1.5.0",
     "model_name": "DescriptionStyleModel",
     "state": {
      "_model_module": "@jupyter-widgets/controls",
      "_model_module_version": "1.5.0",
      "_model_name": "DescriptionStyleModel",
      "_view_count": null,
      "_view_module": "@jupyter-widgets/base",
      "_view_module_version": "1.2.0",
      "_view_name": "StyleView",
      "description_width": ""
     }
    },
    "7444e53f03eb42299151dd81adefa8ac": {
     "model_module": "@jupyter-widgets/controls",
     "model_module_version": "1.5.0",
     "model_name": "FloatProgressModel",
     "state": {
      "_dom_classes": [],
      "_model_module": "@jupyter-widgets/controls",
      "_model_module_version": "1.5.0",
      "_model_name": "FloatProgressModel",
      "_view_count": null,
      "_view_module": "@jupyter-widgets/controls",
      "_view_module_version": "1.5.0",
      "_view_name": "ProgressView",
      "bar_style": "success",
      "description": "",
      "description_tooltip": null,
      "layout": "IPY_MODEL_e15b2d73f655435aba01b44005fa0f44",
      "max": 4525,
      "min": 0,
      "orientation": "horizontal",
      "style": "IPY_MODEL_558fece7d53442478da8a688a5beed43",
      "value": 4525
     }
    },
    "758acb7edc1b44ccb191a0bffb2d0f16": {
     "model_module": "@jupyter-widgets/controls",
     "model_module_version": "1.5.0",
     "model_name": "ProgressStyleModel",
     "state": {
      "_model_module": "@jupyter-widgets/controls",
      "_model_module_version": "1.5.0",
      "_model_name": "ProgressStyleModel",
      "_view_count": null,
      "_view_module": "@jupyter-widgets/base",
      "_view_module_version": "1.2.0",
      "_view_name": "StyleView",
      "bar_color": null,
      "description_width": ""
     }
    },
    "765cdf02689945cbbfdd0ab651c13421": {
     "model_module": "@jupyter-widgets/controls",
     "model_module_version": "1.5.0",
     "model_name": "FloatProgressModel",
     "state": {
      "_dom_classes": [],
      "_model_module": "@jupyter-widgets/controls",
      "_model_module_version": "1.5.0",
      "_model_name": "FloatProgressModel",
      "_view_count": null,
      "_view_module": "@jupyter-widgets/controls",
      "_view_module_version": "1.5.0",
      "_view_name": "ProgressView",
      "bar_style": "success",
      "description": "",
      "description_tooltip": null,
      "layout": "IPY_MODEL_f862f8cdf4a44fee93ff8f72562ab6ca",
      "max": 3,
      "min": 0,
      "orientation": "horizontal",
      "style": "IPY_MODEL_3f7018721bed49369adcc946c61149a1",
      "value": 3
     }
    },
    "7b21a4f921b741b3be6586bdb6085350": {
     "model_module": "@jupyter-widgets/base",
     "model_module_version": "1.2.0",
     "model_name": "LayoutModel",
     "state": {
      "_model_module": "@jupyter-widgets/base",
      "_model_module_version": "1.2.0",
      "_model_name": "LayoutModel",
      "_view_count": null,
      "_view_module": "@jupyter-widgets/base",
      "_view_module_version": "1.2.0",
      "_view_name": "LayoutView",
      "align_content": null,
      "align_items": null,
      "align_self": null,
      "border": null,
      "bottom": null,
      "display": null,
      "flex": null,
      "flex_flow": null,
      "grid_area": null,
      "grid_auto_columns": null,
      "grid_auto_flow": null,
      "grid_auto_rows": null,
      "grid_column": null,
      "grid_gap": null,
      "grid_row": null,
      "grid_template_areas": null,
      "grid_template_columns": null,
      "grid_template_rows": null,
      "height": null,
      "justify_content": null,
      "justify_items": null,
      "left": null,
      "margin": null,
      "max_height": null,
      "max_width": null,
      "min_height": null,
      "min_width": null,
      "object_fit": null,
      "object_position": null,
      "order": null,
      "overflow": null,
      "overflow_x": null,
      "overflow_y": null,
      "padding": null,
      "right": null,
      "top": null,
      "visibility": null,
      "width": null
     }
    },
    "7fe92f29076a47d49b4887ded4f94de3": {
     "model_module": "@jupyter-widgets/controls",
     "model_module_version": "1.5.0",
     "model_name": "HTMLModel",
     "state": {
      "_dom_classes": [],
      "_model_module": "@jupyter-widgets/controls",
      "_model_module_version": "1.5.0",
      "_model_name": "HTMLModel",
      "_view_count": null,
      "_view_module": "@jupyter-widgets/controls",
      "_view_module_version": "1.5.0",
      "_view_name": "HTMLView",
      "description": "",
      "description_tooltip": null,
      "layout": "IPY_MODEL_9c0f4a12f9fd40c495a2a7d441a7133a",
      "placeholder": "​",
      "style": "IPY_MODEL_72d6883acf5349b68e3335d98f0d49ec",
      "value": " 4.53k/4.53k [00:00&lt;00:00, 104kB/s]"
     }
    },
    "80da410765204d2c9281e86dece51cf6": {
     "model_module": "@jupyter-widgets/base",
     "model_module_version": "1.2.0",
     "model_name": "LayoutModel",
     "state": {
      "_model_module": "@jupyter-widgets/base",
      "_model_module_version": "1.2.0",
      "_model_name": "LayoutModel",
      "_view_count": null,
      "_view_module": "@jupyter-widgets/base",
      "_view_module_version": "1.2.0",
      "_view_name": "LayoutView",
      "align_content": null,
      "align_items": null,
      "align_self": null,
      "border": null,
      "bottom": null,
      "display": null,
      "flex": null,
      "flex_flow": null,
      "grid_area": null,
      "grid_auto_columns": null,
      "grid_auto_flow": null,
      "grid_auto_rows": null,
      "grid_column": null,
      "grid_gap": null,
      "grid_row": null,
      "grid_template_areas": null,
      "grid_template_columns": null,
      "grid_template_rows": null,
      "height": null,
      "justify_content": null,
      "justify_items": null,
      "left": null,
      "margin": null,
      "max_height": null,
      "max_width": null,
      "min_height": null,
      "min_width": null,
      "object_fit": null,
      "object_position": null,
      "order": null,
      "overflow": null,
      "overflow_x": null,
      "overflow_y": null,
      "padding": null,
      "right": null,
      "top": null,
      "visibility": null,
      "width": null
     }
    },
    "8f612d3e5c5c42b087b9ab21bd34e345": {
     "model_module": "@jupyter-widgets/controls",
     "model_module_version": "1.5.0",
     "model_name": "HBoxModel",
     "state": {
      "_dom_classes": [],
      "_model_module": "@jupyter-widgets/controls",
      "_model_module_version": "1.5.0",
      "_model_name": "HBoxModel",
      "_view_count": null,
      "_view_module": "@jupyter-widgets/controls",
      "_view_module_version": "1.5.0",
      "_view_name": "HBoxView",
      "box_style": "",
      "children": [
       "IPY_MODEL_ea5ead687b79408d81d047aabfd57857",
       "IPY_MODEL_03628c3dac0b480cad86b817a9812d88",
       "IPY_MODEL_30b74fa2525b4a8d938383e81f8f567d"
      ],
      "layout": "IPY_MODEL_cab2afe4315a43ef8339d0ac2e9f1173"
     }
    },
    "92b9b11dfb65448584a5f18c97b0ccba": {
     "model_module": "@jupyter-widgets/controls",
     "model_module_version": "1.5.0",
     "model_name": "HTMLModel",
     "state": {
      "_dom_classes": [],
      "_model_module": "@jupyter-widgets/controls",
      "_model_module_version": "1.5.0",
      "_model_name": "HTMLModel",
      "_view_count": null,
      "_view_module": "@jupyter-widgets/controls",
      "_view_module_version": "1.5.0",
      "_view_name": "HTMLView",
      "description": "",
      "description_tooltip": null,
      "layout": "IPY_MODEL_4380aa034ed84319bbd45c7cee32425b",
      "placeholder": "​",
      "style": "IPY_MODEL_d8d8ef4bce7e4d5a956e17911efb48ac",
      "value": "Downloading pytorch_model.bin: 100%"
     }
    },
    "9c0f4a12f9fd40c495a2a7d441a7133a": {
     "model_module": "@jupyter-widgets/base",
     "model_module_version": "1.2.0",
     "model_name": "LayoutModel",
     "state": {
      "_model_module": "@jupyter-widgets/base",
      "_model_module_version": "1.2.0",
      "_model_name": "LayoutModel",
      "_view_count": null,
      "_view_module": "@jupyter-widgets/base",
      "_view_module_version": "1.2.0",
      "_view_name": "LayoutView",
      "align_content": null,
      "align_items": null,
      "align_self": null,
      "border": null,
      "bottom": null,
      "display": null,
      "flex": null,
      "flex_flow": null,
      "grid_area": null,
      "grid_auto_columns": null,
      "grid_auto_flow": null,
      "grid_auto_rows": null,
      "grid_column": null,
      "grid_gap": null,
      "grid_row": null,
      "grid_template_areas": null,
      "grid_template_columns": null,
      "grid_template_rows": null,
      "height": null,
      "justify_content": null,
      "justify_items": null,
      "left": null,
      "margin": null,
      "max_height": null,
      "max_width": null,
      "min_height": null,
      "min_width": null,
      "object_fit": null,
      "object_position": null,
      "order": null,
      "overflow": null,
      "overflow_x": null,
      "overflow_y": null,
      "padding": null,
      "right": null,
      "top": null,
      "visibility": null,
      "width": null
     }
    },
    "afbe53b92ef2459db69819f2b82e0d80": {
     "model_module": "@jupyter-widgets/controls",
     "model_module_version": "1.5.0",
     "model_name": "ProgressStyleModel",
     "state": {
      "_model_module": "@jupyter-widgets/controls",
      "_model_module_version": "1.5.0",
      "_model_name": "ProgressStyleModel",
      "_view_count": null,
      "_view_module": "@jupyter-widgets/base",
      "_view_module_version": "1.2.0",
      "_view_name": "StyleView",
      "bar_color": null,
      "description_width": ""
     }
    },
    "b3ad962368fe4ee18a5010eccc3c5e8f": {
     "model_module": "@jupyter-widgets/base",
     "model_module_version": "1.2.0",
     "model_name": "LayoutModel",
     "state": {
      "_model_module": "@jupyter-widgets/base",
      "_model_module_version": "1.2.0",
      "_model_name": "LayoutModel",
      "_view_count": null,
      "_view_module": "@jupyter-widgets/base",
      "_view_module_version": "1.2.0",
      "_view_name": "LayoutView",
      "align_content": null,
      "align_items": null,
      "align_self": null,
      "border": null,
      "bottom": null,
      "display": null,
      "flex": null,
      "flex_flow": null,
      "grid_area": null,
      "grid_auto_columns": null,
      "grid_auto_flow": null,
      "grid_auto_rows": null,
      "grid_column": null,
      "grid_gap": null,
      "grid_row": null,
      "grid_template_areas": null,
      "grid_template_columns": null,
      "grid_template_rows": null,
      "height": null,
      "justify_content": null,
      "justify_items": null,
      "left": null,
      "margin": null,
      "max_height": null,
      "max_width": null,
      "min_height": null,
      "min_width": null,
      "object_fit": null,
      "object_position": null,
      "order": null,
      "overflow": null,
      "overflow_x": null,
      "overflow_y": null,
      "padding": null,
      "right": null,
      "top": null,
      "visibility": "hidden",
      "width": null
     }
    },
    "b8a9e49e4dad4ac080a9bd10c06bb98d": {
     "model_module": "@jupyter-widgets/base",
     "model_module_version": "1.2.0",
     "model_name": "LayoutModel",
     "state": {
      "_model_module": "@jupyter-widgets/base",
      "_model_module_version": "1.2.0",
      "_model_name": "LayoutModel",
      "_view_count": null,
      "_view_module": "@jupyter-widgets/base",
      "_view_module_version": "1.2.0",
      "_view_name": "LayoutView",
      "align_content": null,
      "align_items": null,
      "align_self": null,
      "border": null,
      "bottom": null,
      "display": null,
      "flex": null,
      "flex_flow": null,
      "grid_area": null,
      "grid_auto_columns": null,
      "grid_auto_flow": null,
      "grid_auto_rows": null,
      "grid_column": null,
      "grid_gap": null,
      "grid_row": null,
      "grid_template_areas": null,
      "grid_template_columns": null,
      "grid_template_rows": null,
      "height": null,
      "justify_content": null,
      "justify_items": null,
      "left": null,
      "margin": null,
      "max_height": null,
      "max_width": null,
      "min_height": null,
      "min_width": null,
      "object_fit": null,
      "object_position": null,
      "order": null,
      "overflow": null,
      "overflow_x": null,
      "overflow_y": null,
      "padding": null,
      "right": null,
      "top": null,
      "visibility": null,
      "width": null
     }
    },
    "c25c36615a9a43c4a5eac581ca18393e": {
     "model_module": "@jupyter-widgets/base",
     "model_module_version": "1.2.0",
     "model_name": "LayoutModel",
     "state": {
      "_model_module": "@jupyter-widgets/base",
      "_model_module_version": "1.2.0",
      "_model_name": "LayoutModel",
      "_view_count": null,
      "_view_module": "@jupyter-widgets/base",
      "_view_module_version": "1.2.0",
      "_view_name": "LayoutView",
      "align_content": null,
      "align_items": null,
      "align_self": null,
      "border": null,
      "bottom": null,
      "display": null,
      "flex": null,
      "flex_flow": null,
      "grid_area": null,
      "grid_auto_columns": null,
      "grid_auto_flow": null,
      "grid_auto_rows": null,
      "grid_column": null,
      "grid_gap": null,
      "grid_row": null,
      "grid_template_areas": null,
      "grid_template_columns": null,
      "grid_template_rows": null,
      "height": null,
      "justify_content": null,
      "justify_items": null,
      "left": null,
      "margin": null,
      "max_height": null,
      "max_width": null,
      "min_height": null,
      "min_width": null,
      "object_fit": null,
      "object_position": null,
      "order": null,
      "overflow": null,
      "overflow_x": null,
      "overflow_y": null,
      "padding": null,
      "right": null,
      "top": null,
      "visibility": null,
      "width": null
     }
    },
    "c3591c18ef0241b088ac579513f94c13": {
     "model_module": "@jupyter-widgets/controls",
     "model_module_version": "1.5.0",
     "model_name": "HBoxModel",
     "state": {
      "_dom_classes": [],
      "_model_module": "@jupyter-widgets/controls",
      "_model_module_version": "1.5.0",
      "_model_name": "HBoxModel",
      "_view_count": null,
      "_view_module": "@jupyter-widgets/controls",
      "_view_module_version": "1.5.0",
      "_view_name": "HBoxView",
      "box_style": "",
      "children": [
       "IPY_MODEL_92b9b11dfb65448584a5f18c97b0ccba",
       "IPY_MODEL_f5ff5da8fc414b2ebc1d3547751fee4f",
       "IPY_MODEL_51bc1a0fa37f44c699794dd3b8871301"
      ],
      "layout": "IPY_MODEL_21fabb096fe94ee199b5349c93dc35e0"
     }
    },
    "c6e20e0fc242492e957b39d61fd199e0": {
     "model_module": "@jupyter-widgets/controls",
     "model_module_version": "1.5.0",
     "model_name": "DescriptionStyleModel",
     "state": {
      "_model_module": "@jupyter-widgets/controls",
      "_model_module_version": "1.5.0",
      "_model_name": "DescriptionStyleModel",
      "_view_count": null,
      "_view_module": "@jupyter-widgets/base",
      "_view_module_version": "1.2.0",
      "_view_name": "StyleView",
      "description_width": ""
     }
    },
    "cab2afe4315a43ef8339d0ac2e9f1173": {
     "model_module": "@jupyter-widgets/base",
     "model_module_version": "1.2.0",
     "model_name": "LayoutModel",
     "state": {
      "_model_module": "@jupyter-widgets/base",
      "_model_module_version": "1.2.0",
      "_model_name": "LayoutModel",
      "_view_count": null,
      "_view_module": "@jupyter-widgets/base",
      "_view_module_version": "1.2.0",
      "_view_name": "LayoutView",
      "align_content": null,
      "align_items": null,
      "align_self": null,
      "border": null,
      "bottom": null,
      "display": null,
      "flex": null,
      "flex_flow": null,
      "grid_area": null,
      "grid_auto_columns": null,
      "grid_auto_flow": null,
      "grid_auto_rows": null,
      "grid_column": null,
      "grid_gap": null,
      "grid_row": null,
      "grid_template_areas": null,
      "grid_template_columns": null,
      "grid_template_rows": null,
      "height": null,
      "justify_content": null,
      "justify_items": null,
      "left": null,
      "margin": null,
      "max_height": null,
      "max_width": null,
      "min_height": null,
      "min_width": null,
      "object_fit": null,
      "object_position": null,
      "order": null,
      "overflow": null,
      "overflow_x": null,
      "overflow_y": null,
      "padding": null,
      "right": null,
      "top": null,
      "visibility": null,
      "width": null
     }
    },
    "cd631b39c7b64adaa7791d94fec7626e": {
     "model_module": "@jupyter-widgets/controls",
     "model_module_version": "1.5.0",
     "model_name": "HTMLModel",
     "state": {
      "_dom_classes": [],
      "_model_module": "@jupyter-widgets/controls",
      "_model_module_version": "1.5.0",
      "_model_name": "HTMLModel",
      "_view_count": null,
      "_view_module": "@jupyter-widgets/controls",
      "_view_module_version": "1.5.0",
      "_view_name": "HTMLView",
      "description": "",
      "description_tooltip": null,
      "layout": "IPY_MODEL_3f0ed7bb97fa4419bbb70b528ad6ad0a",
      "placeholder": "​",
      "style": "IPY_MODEL_01ce4f34f34545788dd14bb5c7c9f8a9",
      "value": "100%"
     }
    },
    "ce8e063c273b41a2a775e6b9c6268ff6": {
     "model_module": "@jupyter-widgets/base",
     "model_module_version": "1.2.0",
     "model_name": "LayoutModel",
     "state": {
      "_model_module": "@jupyter-widgets/base",
      "_model_module_version": "1.2.0",
      "_model_name": "LayoutModel",
      "_view_count": null,
      "_view_module": "@jupyter-widgets/base",
      "_view_module_version": "1.2.0",
      "_view_name": "LayoutView",
      "align_content": null,
      "align_items": null,
      "align_self": null,
      "border": null,
      "bottom": null,
      "display": null,
      "flex": null,
      "flex_flow": null,
      "grid_area": null,
      "grid_auto_columns": null,
      "grid_auto_flow": null,
      "grid_auto_rows": null,
      "grid_column": null,
      "grid_gap": null,
      "grid_row": null,
      "grid_template_areas": null,
      "grid_template_columns": null,
      "grid_template_rows": null,
      "height": null,
      "justify_content": null,
      "justify_items": null,
      "left": null,
      "margin": null,
      "max_height": null,
      "max_width": null,
      "min_height": null,
      "min_width": null,
      "object_fit": null,
      "object_position": null,
      "order": null,
      "overflow": null,
      "overflow_x": null,
      "overflow_y": null,
      "padding": null,
      "right": null,
      "top": null,
      "visibility": null,
      "width": null
     }
    },
    "d43b0c7c6df7419ca2e9ebf9450e8245": {
     "model_module": "@jupyter-widgets/controls",
     "model_module_version": "1.5.0",
     "model_name": "FloatProgressModel",
     "state": {
      "_dom_classes": [],
      "_model_module": "@jupyter-widgets/controls",
      "_model_module_version": "1.5.0",
      "_model_name": "FloatProgressModel",
      "_view_count": null,
      "_view_module": "@jupyter-widgets/controls",
      "_view_module_version": "1.5.0",
      "_view_name": "ProgressView",
      "bar_style": "",
      "description": "",
      "description_tooltip": null,
      "layout": "IPY_MODEL_80da410765204d2c9281e86dece51cf6",
      "max": 5036,
      "min": 0,
      "orientation": "horizontal",
      "style": "IPY_MODEL_758acb7edc1b44ccb191a0bffb2d0f16",
      "value": 5036
     }
    },
    "d8d8ef4bce7e4d5a956e17911efb48ac": {
     "model_module": "@jupyter-widgets/controls",
     "model_module_version": "1.5.0",
     "model_name": "DescriptionStyleModel",
     "state": {
      "_model_module": "@jupyter-widgets/controls",
      "_model_module_version": "1.5.0",
      "_model_name": "DescriptionStyleModel",
      "_view_count": null,
      "_view_module": "@jupyter-widgets/base",
      "_view_module_version": "1.2.0",
      "_view_name": "StyleView",
      "description_width": ""
     }
    },
    "dd8d675ac1bc461e9c0c4672fdd57db1": {
     "model_module": "@jupyter-widgets/base",
     "model_module_version": "1.2.0",
     "model_name": "LayoutModel",
     "state": {
      "_model_module": "@jupyter-widgets/base",
      "_model_module_version": "1.2.0",
      "_model_name": "LayoutModel",
      "_view_count": null,
      "_view_module": "@jupyter-widgets/base",
      "_view_module_version": "1.2.0",
      "_view_name": "LayoutView",
      "align_content": null,
      "align_items": null,
      "align_self": null,
      "border": null,
      "bottom": null,
      "display": null,
      "flex": null,
      "flex_flow": null,
      "grid_area": null,
      "grid_auto_columns": null,
      "grid_auto_flow": null,
      "grid_auto_rows": null,
      "grid_column": null,
      "grid_gap": null,
      "grid_row": null,
      "grid_template_areas": null,
      "grid_template_columns": null,
      "grid_template_rows": null,
      "height": null,
      "justify_content": null,
      "justify_items": null,
      "left": null,
      "margin": null,
      "max_height": null,
      "max_width": null,
      "min_height": null,
      "min_width": null,
      "object_fit": null,
      "object_position": null,
      "order": null,
      "overflow": null,
      "overflow_x": null,
      "overflow_y": null,
      "padding": null,
      "right": null,
      "top": null,
      "visibility": null,
      "width": null
     }
    },
    "e15b2d73f655435aba01b44005fa0f44": {
     "model_module": "@jupyter-widgets/base",
     "model_module_version": "1.2.0",
     "model_name": "LayoutModel",
     "state": {
      "_model_module": "@jupyter-widgets/base",
      "_model_module_version": "1.2.0",
      "_model_name": "LayoutModel",
      "_view_count": null,
      "_view_module": "@jupyter-widgets/base",
      "_view_module_version": "1.2.0",
      "_view_name": "LayoutView",
      "align_content": null,
      "align_items": null,
      "align_self": null,
      "border": null,
      "bottom": null,
      "display": null,
      "flex": null,
      "flex_flow": null,
      "grid_area": null,
      "grid_auto_columns": null,
      "grid_auto_flow": null,
      "grid_auto_rows": null,
      "grid_column": null,
      "grid_gap": null,
      "grid_row": null,
      "grid_template_areas": null,
      "grid_template_columns": null,
      "grid_template_rows": null,
      "height": null,
      "justify_content": null,
      "justify_items": null,
      "left": null,
      "margin": null,
      "max_height": null,
      "max_width": null,
      "min_height": null,
      "min_width": null,
      "object_fit": null,
      "object_position": null,
      "order": null,
      "overflow": null,
      "overflow_x": null,
      "overflow_y": null,
      "padding": null,
      "right": null,
      "top": null,
      "visibility": null,
      "width": null
     }
    },
    "ea5ead687b79408d81d047aabfd57857": {
     "model_module": "@jupyter-widgets/controls",
     "model_module_version": "1.5.0",
     "model_name": "HTMLModel",
     "state": {
      "_dom_classes": [],
      "_model_module": "@jupyter-widgets/controls",
      "_model_module_version": "1.5.0",
      "_model_name": "HTMLModel",
      "_view_count": null,
      "_view_module": "@jupyter-widgets/controls",
      "_view_module_version": "1.5.0",
      "_view_name": "HTMLView",
      "description": "",
      "description_tooltip": null,
      "layout": "IPY_MODEL_b8a9e49e4dad4ac080a9bd10c06bb98d",
      "placeholder": "​",
      "style": "IPY_MODEL_c6e20e0fc242492e957b39d61fd199e0",
      "value": "Downloading extra modules: 100%"
     }
    },
    "ef6d028a350a4ffaa599d7ac7f47f303": {
     "model_module": "@jupyter-widgets/controls",
     "model_module_version": "1.5.0",
     "model_name": "HBoxModel",
     "state": {
      "_dom_classes": [],
      "_model_module": "@jupyter-widgets/controls",
      "_model_module_version": "1.5.0",
      "_model_name": "HBoxModel",
      "_view_count": null,
      "_view_module": "@jupyter-widgets/controls",
      "_view_module_version": "1.5.0",
      "_view_name": "HBoxView",
      "box_style": "",
      "children": [
       "IPY_MODEL_cd631b39c7b64adaa7791d94fec7626e",
       "IPY_MODEL_765cdf02689945cbbfdd0ab651c13421",
       "IPY_MODEL_5a07e6a2f41249889ac59bd1ed8c028d"
      ],
      "layout": "IPY_MODEL_053bb73e10644128925ea062bf7dffa0"
     }
    },
    "f5ff5da8fc414b2ebc1d3547751fee4f": {
     "model_module": "@jupyter-widgets/controls",
     "model_module_version": "1.5.0",
     "model_name": "FloatProgressModel",
     "state": {
      "_dom_classes": [],
      "_model_module": "@jupyter-widgets/controls",
      "_model_module_version": "1.5.0",
      "_model_name": "FloatProgressModel",
      "_view_count": null,
      "_view_module": "@jupyter-widgets/controls",
      "_view_module_version": "1.5.0",
      "_view_name": "ProgressView",
      "bar_style": "success",
      "description": "",
      "description_tooltip": null,
      "layout": "IPY_MODEL_dd8d675ac1bc461e9c0c4672fdd57db1",
      "max": 714355318,
      "min": 0,
      "orientation": "horizontal",
      "style": "IPY_MODEL_afbe53b92ef2459db69819f2b82e0d80",
      "value": 714355318
     }
    },
    "f70b9d8e7e524e27bb56338377c863b8": {
     "model_module": "@jupyter-widgets/controls",
     "model_module_version": "1.5.0",
     "model_name": "HBoxModel",
     "state": {
      "_dom_classes": [],
      "_model_module": "@jupyter-widgets/controls",
      "_model_module_version": "1.5.0",
      "_model_name": "HBoxModel",
      "_view_count": null,
      "_view_module": "@jupyter-widgets/controls",
      "_view_module_version": "1.5.0",
      "_view_name": "HBoxView",
      "box_style": "",
      "children": [
       "IPY_MODEL_5d46db3578a64940adc9404c1e4aeadc",
       "IPY_MODEL_7444e53f03eb42299151dd81adefa8ac",
       "IPY_MODEL_7fe92f29076a47d49b4887ded4f94de3"
      ],
      "layout": "IPY_MODEL_f7e56deaf1794c70ba0742cc2319fae1"
     }
    },
    "f7e56deaf1794c70ba0742cc2319fae1": {
     "model_module": "@jupyter-widgets/base",
     "model_module_version": "1.2.0",
     "model_name": "LayoutModel",
     "state": {
      "_model_module": "@jupyter-widgets/base",
      "_model_module_version": "1.2.0",
      "_model_name": "LayoutModel",
      "_view_count": null,
      "_view_module": "@jupyter-widgets/base",
      "_view_module_version": "1.2.0",
      "_view_name": "LayoutView",
      "align_content": null,
      "align_items": null,
      "align_self": null,
      "border": null,
      "bottom": null,
      "display": null,
      "flex": null,
      "flex_flow": null,
      "grid_area": null,
      "grid_auto_columns": null,
      "grid_auto_flow": null,
      "grid_auto_rows": null,
      "grid_column": null,
      "grid_gap": null,
      "grid_row": null,
      "grid_template_areas": null,
      "grid_template_columns": null,
      "grid_template_rows": null,
      "height": null,
      "justify_content": null,
      "justify_items": null,
      "left": null,
      "margin": null,
      "max_height": null,
      "max_width": null,
      "min_height": null,
      "min_width": null,
      "object_fit": null,
      "object_position": null,
      "order": null,
      "overflow": null,
      "overflow_x": null,
      "overflow_y": null,
      "padding": null,
      "right": null,
      "top": null,
      "visibility": null,
      "width": null
     }
    },
    "f862f8cdf4a44fee93ff8f72562ab6ca": {
     "model_module": "@jupyter-widgets/base",
     "model_module_version": "1.2.0",
     "model_name": "LayoutModel",
     "state": {
      "_model_module": "@jupyter-widgets/base",
      "_model_module_version": "1.2.0",
      "_model_name": "LayoutModel",
      "_view_count": null,
      "_view_module": "@jupyter-widgets/base",
      "_view_module_version": "1.2.0",
      "_view_name": "LayoutView",
      "align_content": null,
      "align_items": null,
      "align_self": null,
      "border": null,
      "bottom": null,
      "display": null,
      "flex": null,
      "flex_flow": null,
      "grid_area": null,
      "grid_auto_columns": null,
      "grid_auto_flow": null,
      "grid_auto_rows": null,
      "grid_column": null,
      "grid_gap": null,
      "grid_row": null,
      "grid_template_areas": null,
      "grid_template_columns": null,
      "grid_template_rows": null,
      "height": null,
      "justify_content": null,
      "justify_items": null,
      "left": null,
      "margin": null,
      "max_height": null,
      "max_width": null,
      "min_height": null,
      "min_width": null,
      "object_fit": null,
      "object_position": null,
      "order": null,
      "overflow": null,
      "overflow_x": null,
      "overflow_y": null,
      "padding": null,
      "right": null,
      "top": null,
      "visibility": null,
      "width": null
     }
    },
    "fe88178707124669ba624e2343bbf729": {
     "model_module": "@jupyter-widgets/controls",
     "model_module_version": "1.5.0",
     "model_name": "DescriptionStyleModel",
     "state": {
      "_model_module": "@jupyter-widgets/controls",
      "_model_module_version": "1.5.0",
      "_model_name": "DescriptionStyleModel",
      "_view_count": null,
      "_view_module": "@jupyter-widgets/base",
      "_view_module_version": "1.2.0",
      "_view_name": "StyleView",
      "description_width": ""
     }
    }
   }
  }
 },
 "nbformat": 4,
 "nbformat_minor": 4
}
