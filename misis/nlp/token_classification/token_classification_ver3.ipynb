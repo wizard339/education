{
 "cells": [
  {
   "cell_type": "code",
   "execution_count": 33,
   "metadata": {
    "collapsed": true,
    "id": "TU8dn4gWRaLo",
    "jupyter": {
     "outputs_hidden": true
    },
    "tags": []
   },
   "outputs": [
    {
     "name": "stdout",
     "output_type": "stream",
     "text": [
      "Requirement already satisfied: transformers in c:\\programdata\\anaconda3\\envs\\pytorch_1\\lib\\site-packages (4.26.1)\n",
      "Requirement already satisfied: datasets in c:\\programdata\\anaconda3\\envs\\pytorch_1\\lib\\site-packages (2.10.1)\n",
      "Requirement already satisfied: evaluate in c:\\programdata\\anaconda3\\envs\\pytorch_1\\lib\\site-packages (0.4.0)\n",
      "Requirement already satisfied: seqeval in c:\\programdata\\anaconda3\\envs\\pytorch_1\\lib\\site-packages (1.2.2)\n",
      "Collecting sklearn_crfsuite\n",
      "  Downloading sklearn_crfsuite-0.3.6-py2.py3-none-any.whl (12 kB)\n",
      "Requirement already satisfied: numpy>=1.17 in c:\\programdata\\anaconda3\\envs\\pytorch_1\\lib\\site-packages (from transformers) (1.23.5)\n",
      "Requirement already satisfied: pyyaml>=5.1 in c:\\programdata\\anaconda3\\envs\\pytorch_1\\lib\\site-packages (from transformers) (6.0)\n",
      "Requirement already satisfied: huggingface-hub<1.0,>=0.11.0 in c:\\programdata\\anaconda3\\envs\\pytorch_1\\lib\\site-packages (from transformers) (0.12.1)\n",
      "Requirement already satisfied: packaging>=20.0 in c:\\programdata\\anaconda3\\envs\\pytorch_1\\lib\\site-packages (from transformers) (22.0)\n",
      "Requirement already satisfied: requests in c:\\programdata\\anaconda3\\envs\\pytorch_1\\lib\\site-packages (from transformers) (2.28.1)\n",
      "Requirement already satisfied: regex!=2019.12.17 in c:\\programdata\\anaconda3\\envs\\pytorch_1\\lib\\site-packages (from transformers) (2022.10.31)\n",
      "Requirement already satisfied: tokenizers!=0.11.3,<0.14,>=0.11.1 in c:\\programdata\\anaconda3\\envs\\pytorch_1\\lib\\site-packages (from transformers) (0.13.2)\n",
      "Requirement already satisfied: tqdm>=4.27 in c:\\programdata\\anaconda3\\envs\\pytorch_1\\lib\\site-packages (from transformers) (4.65.0)\n",
      "Requirement already satisfied: filelock in c:\\programdata\\anaconda3\\envs\\pytorch_1\\lib\\site-packages (from transformers) (3.9.0)\n",
      "Requirement already satisfied: dill<0.3.7,>=0.3.0 in c:\\programdata\\anaconda3\\envs\\pytorch_1\\lib\\site-packages (from datasets) (0.3.6)\n",
      "Requirement already satisfied: aiohttp in c:\\programdata\\anaconda3\\envs\\pytorch_1\\lib\\site-packages (from datasets) (3.8.4)\n",
      "Requirement already satisfied: pandas in c:\\programdata\\anaconda3\\envs\\pytorch_1\\lib\\site-packages (from datasets) (1.5.3)\n",
      "Requirement already satisfied: pyarrow>=6.0.0 in c:\\programdata\\anaconda3\\envs\\pytorch_1\\lib\\site-packages (from datasets) (11.0.0)\n",
      "Requirement already satisfied: xxhash in c:\\programdata\\anaconda3\\envs\\pytorch_1\\lib\\site-packages (from datasets) (3.2.0)\n",
      "Requirement already satisfied: responses<0.19 in c:\\programdata\\anaconda3\\envs\\pytorch_1\\lib\\site-packages (from datasets) (0.18.0)\n",
      "Requirement already satisfied: fsspec[http]>=2021.11.1 in c:\\programdata\\anaconda3\\envs\\pytorch_1\\lib\\site-packages (from datasets) (2023.3.0)\n",
      "Requirement already satisfied: multiprocess in c:\\programdata\\anaconda3\\envs\\pytorch_1\\lib\\site-packages (from datasets) (0.70.14)\n",
      "Requirement already satisfied: scikit-learn>=0.21.3 in c:\\programdata\\anaconda3\\envs\\pytorch_1\\lib\\site-packages (from seqeval) (1.2.1)\n",
      "Requirement already satisfied: six in c:\\programdata\\anaconda3\\envs\\pytorch_1\\lib\\site-packages (from sklearn_crfsuite) (1.16.0)\n",
      "Collecting tabulate\n",
      "  Downloading tabulate-0.9.0-py3-none-any.whl (35 kB)\n",
      "Collecting python-crfsuite>=0.8.3\n",
      "  Downloading python_crfsuite-0.9.9-cp39-cp39-win_amd64.whl (139 kB)\n",
      "     -------------------------------------- 139.2/139.2 kB 2.7 MB/s eta 0:00:00\n",
      "Requirement already satisfied: async-timeout<5.0,>=4.0.0a3 in c:\\programdata\\anaconda3\\envs\\pytorch_1\\lib\\site-packages (from aiohttp->datasets) (4.0.2)\n",
      "Requirement already satisfied: charset-normalizer<4.0,>=2.0 in c:\\programdata\\anaconda3\\envs\\pytorch_1\\lib\\site-packages (from aiohttp->datasets) (2.0.4)\n",
      "Requirement already satisfied: multidict<7.0,>=4.5 in c:\\programdata\\anaconda3\\envs\\pytorch_1\\lib\\site-packages (from aiohttp->datasets) (6.0.4)\n",
      "Requirement already satisfied: attrs>=17.3.0 in c:\\programdata\\anaconda3\\envs\\pytorch_1\\lib\\site-packages (from aiohttp->datasets) (22.1.0)\n",
      "Requirement already satisfied: yarl<2.0,>=1.0 in c:\\programdata\\anaconda3\\envs\\pytorch_1\\lib\\site-packages (from aiohttp->datasets) (1.8.2)\n",
      "Requirement already satisfied: aiosignal>=1.1.2 in c:\\programdata\\anaconda3\\envs\\pytorch_1\\lib\\site-packages (from aiohttp->datasets) (1.3.1)\n",
      "Requirement already satisfied: frozenlist>=1.1.1 in c:\\programdata\\anaconda3\\envs\\pytorch_1\\lib\\site-packages (from aiohttp->datasets) (1.3.3)\n",
      "Requirement already satisfied: typing-extensions>=3.7.4.3 in c:\\programdata\\anaconda3\\envs\\pytorch_1\\lib\\site-packages (from huggingface-hub<1.0,>=0.11.0->transformers) (4.5.0)\n",
      "Requirement already satisfied: urllib3<1.27,>=1.21.1 in c:\\programdata\\anaconda3\\envs\\pytorch_1\\lib\\site-packages (from requests->transformers) (1.26.14)\n",
      "Requirement already satisfied: idna<4,>=2.5 in c:\\programdata\\anaconda3\\envs\\pytorch_1\\lib\\site-packages (from requests->transformers) (3.4)\n",
      "Requirement already satisfied: certifi>=2017.4.17 in c:\\programdata\\anaconda3\\envs\\pytorch_1\\lib\\site-packages (from requests->transformers) (2022.12.7)\n",
      "Requirement already satisfied: scipy>=1.3.2 in c:\\programdata\\anaconda3\\envs\\pytorch_1\\lib\\site-packages (from scikit-learn>=0.21.3->seqeval) (1.10.1)\n",
      "Requirement already satisfied: threadpoolctl>=2.0.0 in c:\\programdata\\anaconda3\\envs\\pytorch_1\\lib\\site-packages (from scikit-learn>=0.21.3->seqeval) (3.1.0)\n",
      "Requirement already satisfied: joblib>=1.1.1 in c:\\programdata\\anaconda3\\envs\\pytorch_1\\lib\\site-packages (from scikit-learn>=0.21.3->seqeval) (1.2.0)\n",
      "Requirement already satisfied: colorama in c:\\programdata\\anaconda3\\envs\\pytorch_1\\lib\\site-packages (from tqdm>=4.27->transformers) (0.4.6)\n",
      "Requirement already satisfied: python-dateutil>=2.8.1 in c:\\programdata\\anaconda3\\envs\\pytorch_1\\lib\\site-packages (from pandas->datasets) (2.8.2)\n",
      "Requirement already satisfied: pytz>=2020.1 in c:\\programdata\\anaconda3\\envs\\pytorch_1\\lib\\site-packages (from pandas->datasets) (2022.7)\n",
      "Installing collected packages: python-crfsuite, tabulate, sklearn_crfsuite\n",
      "Successfully installed python-crfsuite-0.9.9 sklearn_crfsuite-0.3.6 tabulate-0.9.0\n"
     ]
    }
   ],
   "source": [
    "!pip install transformers datasets evaluate seqeval sklearn_crfsuite"
   ]
  },
  {
   "cell_type": "code",
   "execution_count": 57,
   "metadata": {
    "id": "06kWsWptgbLI"
   },
   "outputs": [],
   "source": [
    "import pandas as pd\n",
    "import numpy as np\n",
    "import evaluate\n",
    "import requests\n",
    "import pytest\n",
    "import time\n",
    "from collections import Counter, defaultdict\n",
    "from sklearn import metrics\n",
    "from matplotlib import pyplot as plt\n",
    "from tqdm.auto import tqdm\n",
    "\n",
    "import sklearn\n",
    "import sklearn_crfsuite\n",
    "from sklearn_crfsuite import scorers\n",
    "from sklearn_crfsuite import metrics as crf_metrics\n",
    "\n",
    "import torch\n",
    "import torch.nn as nn\n",
    "from torch import LongTensor, FloatTensor\n",
    "from torch.nn import functional as F\n",
    "from typing import List, Dict, Tuple, Optional\n",
    "from torch.utils.data import Dataset\n",
    "from torch.optim import Adam\n",
    "\n",
    "from datasets import Dataset, load_dataset\n",
    "from transformers import AutoTokenizer, AutoModelForTokenClassification, DataCollatorForTokenClassification, TrainingArguments, Trainer"
   ]
  },
  {
   "cell_type": "code",
   "execution_count": 22,
   "metadata": {
    "id": "I4xpgAxL3i46",
    "outputId": "393b2841-21fa-4349-b5ed-9c3135185c81"
   },
   "outputs": [
    {
     "name": "stdout",
     "output_type": "stream",
     "text": [
      "cuda\n"
     ]
    }
   ],
   "source": [
    "device = torch.device(\"cuda\") if torch.cuda.is_available() else torch.device(\"cpu\")\n",
    "print(device)"
   ]
  },
  {
   "cell_type": "markdown",
   "metadata": {
    "id": "A9mi8NYSOcDS",
    "jp-MarkdownHeadingCollapsed": true,
    "tags": []
   },
   "source": [
    "# Loading data and preprocessing"
   ]
  },
  {
   "cell_type": "code",
   "execution_count": 23,
   "metadata": {
    "id": "-ges5XjD3i47"
   },
   "outputs": [],
   "source": [
    "train_txt = requests.get('https://raw.githubusercontent.com/wizard339/education/main/misis/nlp/token_classification/train.txt').text\n",
    "val_txt   = requests.get('https://raw.githubusercontent.com/wizard339/education/main/misis/nlp/token_classification/dev.txt')  .text\n",
    "test_txt  = requests.get('https://raw.githubusercontent.com/wizard339/education/main/misis/nlp/token_classification/test.txt') .text"
   ]
  },
  {
   "cell_type": "code",
   "execution_count": 24,
   "metadata": {
    "id": "n6yRUD5O0dIP"
   },
   "outputs": [],
   "source": [
    "def text_preproc(text: str) -> pd.DataFrame:\n",
    "    '''\n",
    "    preprocessing input texts \n",
    "    '''\n",
    "    splitted_text = text.split('\\n')\n",
    "    sentences, tags = [], []\n",
    "    sentence, tag = [], []\n",
    "    \n",
    "    for text in splitted_text:\n",
    "\n",
    "        if text != '':\n",
    "            text = text.split(' ')\n",
    "            sentence.append(text[0])\n",
    "            tag.append(text[1])\n",
    "        else:\n",
    "            sentences.append(sentence)\n",
    "            tags.append(tag)\n",
    "            sentence, tag = [], []\n",
    "    \n",
    "    df = pd.DataFrame({'Text': sentences,\n",
    "                       'Labels': tags})\n",
    "\n",
    "    return df"
   ]
  },
  {
   "cell_type": "code",
   "execution_count": 25,
   "metadata": {
    "colab": {
     "base_uri": "https://localhost:8080/",
     "height": 224
    },
    "id": "1m6ys2Mk2ndm",
    "outputId": "d6f95c7c-059a-4a55-d76f-75dbb363009f"
   },
   "outputs": [
    {
     "name": "stdout",
     "output_type": "stream",
     "text": [
      "(7747, 2)\n"
     ]
    },
    {
     "data": {
      "text/html": [
       "<div>\n",
       "<style scoped>\n",
       "    .dataframe tbody tr th:only-of-type {\n",
       "        vertical-align: middle;\n",
       "    }\n",
       "\n",
       "    .dataframe tbody tr th {\n",
       "        vertical-align: top;\n",
       "    }\n",
       "\n",
       "    .dataframe thead th {\n",
       "        text-align: right;\n",
       "    }\n",
       "</style>\n",
       "<table border=\"1\" class=\"dataframe\">\n",
       "  <thead>\n",
       "    <tr style=\"text-align: right;\">\n",
       "      <th></th>\n",
       "      <th>Text</th>\n",
       "      <th>Labels</th>\n",
       "    </tr>\n",
       "  </thead>\n",
       "  <tbody>\n",
       "    <tr>\n",
       "      <th>0</th>\n",
       "      <td>[\", Если, Миронов, занял, столь, оппозиционную...</td>\n",
       "      <td>[O, O, B-PER, O, O, O, O, O, O, O, O, O, O, O,...</td>\n",
       "    </tr>\n",
       "    <tr>\n",
       "      <th>1</th>\n",
       "      <td>[Источник, \", Ъ, '', в, руководстве, столичной...</td>\n",
       "      <td>[O, O, B-ORG, O, O, O, O, O, O, O, O, O, O, B-...</td>\n",
       "    </tr>\n",
       "    <tr>\n",
       "      <th>2</th>\n",
       "      <td>[В, Ханты-Мансийском, автономном, округе, с, д...</td>\n",
       "      <td>[O, B-LOC, I-LOC, I-LOC, O, O, O, O, B-ORG, B-...</td>\n",
       "    </tr>\n",
       "    <tr>\n",
       "      <th>3</th>\n",
       "      <td>[С, 1992, года, по, настоящее, время, является...</td>\n",
       "      <td>[O, O, O, O, O, O, O, O, B-ORG, I-ORG, I-ORG, ...</td>\n",
       "    </tr>\n",
       "    <tr>\n",
       "      <th>4</th>\n",
       "      <td>[Для, этого, ей, пришлось, выиграть, выборы, в...</td>\n",
       "      <td>[O, O, O, O, O, O, O, O, O, O, B-LOC, I-LOC, O...</td>\n",
       "    </tr>\n",
       "  </tbody>\n",
       "</table>\n",
       "</div>"
      ],
      "text/plain": [
       "                                                Text  \\\n",
       "0  [\", Если, Миронов, занял, столь, оппозиционную...   \n",
       "1  [Источник, \", Ъ, '', в, руководстве, столичной...   \n",
       "2  [В, Ханты-Мансийском, автономном, округе, с, д...   \n",
       "3  [С, 1992, года, по, настоящее, время, является...   \n",
       "4  [Для, этого, ей, пришлось, выиграть, выборы, в...   \n",
       "\n",
       "                                              Labels  \n",
       "0  [O, O, B-PER, O, O, O, O, O, O, O, O, O, O, O,...  \n",
       "1  [O, O, B-ORG, O, O, O, O, O, O, O, O, O, O, B-...  \n",
       "2  [O, B-LOC, I-LOC, I-LOC, O, O, O, O, B-ORG, B-...  \n",
       "3  [O, O, O, O, O, O, O, O, B-ORG, I-ORG, I-ORG, ...  \n",
       "4  [O, O, O, O, O, O, O, O, O, O, B-LOC, I-LOC, O...  "
      ]
     },
     "execution_count": 25,
     "metadata": {},
     "output_type": "execute_result"
    }
   ],
   "source": [
    "train_data = text_preproc(train_txt)\n",
    "print(train_data.shape)\n",
    "train_data.head()"
   ]
  },
  {
   "cell_type": "code",
   "execution_count": 26,
   "metadata": {
    "colab": {
     "base_uri": "https://localhost:8080/",
     "height": 224
    },
    "id": "U1sV-f-1kCDf",
    "outputId": "d327fe00-d0a5-4a55-e443-0fa89140b110"
   },
   "outputs": [
    {
     "name": "stdout",
     "output_type": "stream",
     "text": [
      "(2583, 2)\n"
     ]
    },
    {
     "data": {
      "text/html": [
       "<div>\n",
       "<style scoped>\n",
       "    .dataframe tbody tr th:only-of-type {\n",
       "        vertical-align: middle;\n",
       "    }\n",
       "\n",
       "    .dataframe tbody tr th {\n",
       "        vertical-align: top;\n",
       "    }\n",
       "\n",
       "    .dataframe thead th {\n",
       "        text-align: right;\n",
       "    }\n",
       "</style>\n",
       "<table border=\"1\" class=\"dataframe\">\n",
       "  <thead>\n",
       "    <tr style=\"text-align: right;\">\n",
       "      <th></th>\n",
       "      <th>Text</th>\n",
       "      <th>Labels</th>\n",
       "    </tr>\n",
       "  </thead>\n",
       "  <tbody>\n",
       "    <tr>\n",
       "      <th>0</th>\n",
       "      <td>[как, акционерный, коммерческий, Московский, м...</td>\n",
       "      <td>[O, O, O, B-ORG, I-ORG, I-ORG, I-ORG, I-ORG, I...</td>\n",
       "    </tr>\n",
       "    <tr>\n",
       "      <th>1</th>\n",
       "      <td>[Управлять, ЦАО, и, САО, вместо, Алексея, Алек...</td>\n",
       "      <td>[O, B-LOC, O, B-LOC, O, B-PER, I-PER, O, B-PER...</td>\n",
       "    </tr>\n",
       "    <tr>\n",
       "      <th>2</th>\n",
       "      <td>[О, задержании, Шакирьянова, стало, известно, ...</td>\n",
       "      <td>[O, O, B-PER, O, O, O, O, O, O, O]</td>\n",
       "    </tr>\n",
       "    <tr>\n",
       "      <th>3</th>\n",
       "      <td>[После, майского, ухода, вице-премьера, Владис...</td>\n",
       "      <td>[O, O, O, O, B-PER, I-PER, O, O, O, O, O, B-PE...</td>\n",
       "    </tr>\n",
       "    <tr>\n",
       "      <th>4</th>\n",
       "      <td>[Армяне, со, мной, согласились, ,, с, Ильхамом...</td>\n",
       "      <td>[O, O, O, O, O, O, B-PER, I-PER, O, O, O, O, O...</td>\n",
       "    </tr>\n",
       "  </tbody>\n",
       "</table>\n",
       "</div>"
      ],
      "text/plain": [
       "                                                Text  \\\n",
       "0  [как, акционерный, коммерческий, Московский, м...   \n",
       "1  [Управлять, ЦАО, и, САО, вместо, Алексея, Алек...   \n",
       "2  [О, задержании, Шакирьянова, стало, известно, ...   \n",
       "3  [После, майского, ухода, вице-премьера, Владис...   \n",
       "4  [Армяне, со, мной, согласились, ,, с, Ильхамом...   \n",
       "\n",
       "                                              Labels  \n",
       "0  [O, O, O, B-ORG, I-ORG, I-ORG, I-ORG, I-ORG, I...  \n",
       "1  [O, B-LOC, O, B-LOC, O, B-PER, I-PER, O, B-PER...  \n",
       "2                 [O, O, B-PER, O, O, O, O, O, O, O]  \n",
       "3  [O, O, O, O, B-PER, I-PER, O, O, O, O, O, B-PE...  \n",
       "4  [O, O, O, O, O, O, B-PER, I-PER, O, O, O, O, O...  "
      ]
     },
     "execution_count": 26,
     "metadata": {},
     "output_type": "execute_result"
    }
   ],
   "source": [
    "val_data = text_preproc(val_txt)\n",
    "print(val_data.shape)\n",
    "val_data.head()"
   ]
  },
  {
   "cell_type": "code",
   "execution_count": 27,
   "metadata": {
    "colab": {
     "base_uri": "https://localhost:8080/",
     "height": 224
    },
    "id": "XduKiaVY5ZFW",
    "outputId": "43d67355-5290-4159-e001-e95c2a036ed9"
   },
   "outputs": [
    {
     "name": "stdout",
     "output_type": "stream",
     "text": [
      "(2583, 2)\n"
     ]
    },
    {
     "data": {
      "text/html": [
       "<div>\n",
       "<style scoped>\n",
       "    .dataframe tbody tr th:only-of-type {\n",
       "        vertical-align: middle;\n",
       "    }\n",
       "\n",
       "    .dataframe tbody tr th {\n",
       "        vertical-align: top;\n",
       "    }\n",
       "\n",
       "    .dataframe thead th {\n",
       "        text-align: right;\n",
       "    }\n",
       "</style>\n",
       "<table border=\"1\" class=\"dataframe\">\n",
       "  <thead>\n",
       "    <tr style=\"text-align: right;\">\n",
       "      <th></th>\n",
       "      <th>Text</th>\n",
       "      <th>Labels</th>\n",
       "    </tr>\n",
       "  </thead>\n",
       "  <tbody>\n",
       "    <tr>\n",
       "      <th>0</th>\n",
       "      <td>[Тогда, замешанные, в, скандале, прокуроры, от...</td>\n",
       "      <td>[O, O, O, O, O, O, O, O, O, O, O, O, O]</td>\n",
       "    </tr>\n",
       "    <tr>\n",
       "      <th>1</th>\n",
       "      <td>[Символичным, назвал, председатель, РФМ, ,, де...</td>\n",
       "      <td>[O, O, O, B-ORG, O, O, B-ORG, I-ORG, B-LOC, B-...</td>\n",
       "    </tr>\n",
       "    <tr>\n",
       "      <th>2</th>\n",
       "      <td>[На, посту, гендиректора, Yahoo, !, B-ORG, Кэр...</td>\n",
       "      <td>[O, O, O, O, O, O, B-PER, I-PER, O, B-PER, I-P...</td>\n",
       "    </tr>\n",
       "    <tr>\n",
       "      <th>3</th>\n",
       "      <td>[Считаю, невозможным, руководить, областью, с,...</td>\n",
       "      <td>[O, O, O, O, O, O, O, O, O, O, O, O, O, O, O, ...</td>\n",
       "    </tr>\n",
       "    <tr>\n",
       "      <th>4</th>\n",
       "      <td>[Боксер, победила, Карли, Фиорину, (, Carly, F...</td>\n",
       "      <td>[B-PER, O, B-PER, I-PER, O, I-PER, O, O, O, O,...</td>\n",
       "    </tr>\n",
       "  </tbody>\n",
       "</table>\n",
       "</div>"
      ],
      "text/plain": [
       "                                                Text  \\\n",
       "0  [Тогда, замешанные, в, скандале, прокуроры, от...   \n",
       "1  [Символичным, назвал, председатель, РФМ, ,, де...   \n",
       "2  [На, посту, гендиректора, Yahoo, !, B-ORG, Кэр...   \n",
       "3  [Считаю, невозможным, руководить, областью, с,...   \n",
       "4  [Боксер, победила, Карли, Фиорину, (, Carly, F...   \n",
       "\n",
       "                                              Labels  \n",
       "0            [O, O, O, O, O, O, O, O, O, O, O, O, O]  \n",
       "1  [O, O, O, B-ORG, O, O, B-ORG, I-ORG, B-LOC, B-...  \n",
       "2  [O, O, O, O, O, O, B-PER, I-PER, O, B-PER, I-P...  \n",
       "3  [O, O, O, O, O, O, O, O, O, O, O, O, O, O, O, ...  \n",
       "4  [B-PER, O, B-PER, I-PER, O, I-PER, O, O, O, O,...  "
      ]
     },
     "execution_count": 27,
     "metadata": {},
     "output_type": "execute_result"
    }
   ],
   "source": [
    "test_data = text_preproc(test_txt)\n",
    "print(test_data.shape)\n",
    "test_data.head()"
   ]
  },
  {
   "cell_type": "code",
   "execution_count": 28,
   "metadata": {
    "colab": {
     "base_uri": "https://localhost:8080/"
    },
    "id": "Q14NR8p9mBhE",
    "outputId": "b0738544-815b-40b7-8cd4-1dad83b4d9b1"
   },
   "outputs": [
    {
     "name": "stdout",
     "output_type": "stream",
     "text": [
      "['B-PER', 'B-ORG', 'I-LOC', 'B-LOC', 'O', 'I-ORG', 'I-PER']\n"
     ]
    }
   ],
   "source": [
    "ner_tags = []\n",
    "for labels_list in train_data['Labels']:\n",
    "    for label in labels_list:\n",
    "        ner_tags.append(label)\n",
    "ner_tags = list(set(ner_tags))\n",
    "print(ner_tags)"
   ]
  },
  {
   "cell_type": "code",
   "execution_count": 29,
   "metadata": {
    "colab": {
     "base_uri": "https://localhost:8080/"
    },
    "id": "fvhFjYlymWBR",
    "outputId": "97705499-435f-4d52-beae-996f7a6b9c1a"
   },
   "outputs": [
    {
     "name": "stdout",
     "output_type": "stream",
     "text": [
      "{'O': 0, 'B-LOC': 1, 'I-LOC': 2, 'B-ORG': 3, 'I-ORG': 4, 'B-PER': 5, 'I-PER': 6}\n",
      "{0: 'O', 1: 'B-LOC', 2: 'I-LOC', 3: 'B-ORG', 4: 'I-ORG', 5: 'B-PER', 6: 'I-PER'}\n"
     ]
    }
   ],
   "source": [
    "# creating а mapping in this order of labels (the order will come in handy in the future)\n",
    "label2id = dict(zip(['O', 'B-LOC', 'I-LOC', 'B-ORG', 'I-ORG', 'B-PER', 'I-PER'], list(range(7))))\n",
    "print(label2id)\n",
    "\n",
    "id2label = {v: k for k, v in label2id.items()}\n",
    "print(id2label)"
   ]
  },
  {
   "cell_type": "code",
   "execution_count": 31,
   "metadata": {},
   "outputs": [
    {
     "data": {
      "text/plain": [
       "defaultdict(int,\n",
       "            {'O': 132788,\n",
       "             'B-PER': 6359,\n",
       "             'B-ORG': 5084,\n",
       "             'I-ORG': 3227,\n",
       "             'B-LOC': 4335,\n",
       "             'I-LOC': 972,\n",
       "             'I-PER': 3925})"
      ]
     },
     "execution_count": 31,
     "metadata": {},
     "output_type": "execute_result"
    }
   ],
   "source": [
    "def_dict_counter = defaultdict(int)\n",
    "\n",
    "for tags in train_data['Labels']:\n",
    "  for tag in tags:\n",
    "    def_dict_counter[tag] += 1\n",
    "\n",
    "def_dict_counter"
   ]
  },
  {
   "cell_type": "markdown",
   "metadata": {},
   "source": [
    "As we see, we have dominating number of class 'O'. Our main goal is to make such model, that will not overfit to predict always O token.\n",
    "\n",
    "We will use f1-score and then estimate classification_report after excluding the class 'O'."
   ]
  },
  {
   "cell_type": "markdown",
   "metadata": {
    "id": "2bNEQ956T6df",
    "jp-MarkdownHeadingCollapsed": true,
    "tags": []
   },
   "source": [
    "# Model 1: Sklearn CRF (Conditional Random Fields)"
   ]
  },
  {
   "cell_type": "markdown",
   "metadata": {
    "jp-MarkdownHeadingCollapsed": true,
    "tags": []
   },
   "source": [
    "## Additional preprocessing"
   ]
  },
  {
   "cell_type": "code",
   "execution_count": 32,
   "metadata": {},
   "outputs": [
    {
     "data": {
      "text/html": [
       "<div>\n",
       "<style scoped>\n",
       "    .dataframe tbody tr th:only-of-type {\n",
       "        vertical-align: middle;\n",
       "    }\n",
       "\n",
       "    .dataframe tbody tr th {\n",
       "        vertical-align: top;\n",
       "    }\n",
       "\n",
       "    .dataframe thead th {\n",
       "        text-align: right;\n",
       "    }\n",
       "</style>\n",
       "<table border=\"1\" class=\"dataframe\">\n",
       "  <thead>\n",
       "    <tr style=\"text-align: right;\">\n",
       "      <th></th>\n",
       "      <th>Text</th>\n",
       "      <th>Labels</th>\n",
       "    </tr>\n",
       "  </thead>\n",
       "  <tbody>\n",
       "    <tr>\n",
       "      <th>0</th>\n",
       "      <td>[\", Если, Миронов, занял, столь, оппозиционную...</td>\n",
       "      <td>[0, 0, 5, 0, 0, 0, 0, 0, 0, 0, 0, 0, 0, 0, 0, ...</td>\n",
       "    </tr>\n",
       "    <tr>\n",
       "      <th>1</th>\n",
       "      <td>[Источник, \", Ъ, '', в, руководстве, столичной...</td>\n",
       "      <td>[0, 0, 3, 0, 0, 0, 0, 0, 0, 0, 0, 0, 0, 5, 0, ...</td>\n",
       "    </tr>\n",
       "    <tr>\n",
       "      <th>2</th>\n",
       "      <td>[В, Ханты-Мансийском, автономном, округе, с, д...</td>\n",
       "      <td>[0, 1, 2, 2, 0, 0, 0, 0, 3, 5, 6, 0]</td>\n",
       "    </tr>\n",
       "    <tr>\n",
       "      <th>3</th>\n",
       "      <td>[С, 1992, года, по, настоящее, время, является...</td>\n",
       "      <td>[0, 0, 0, 0, 0, 0, 0, 0, 3, 4, 4, 0, 4, 0, 0, ...</td>\n",
       "    </tr>\n",
       "    <tr>\n",
       "      <th>4</th>\n",
       "      <td>[Для, этого, ей, пришлось, выиграть, выборы, в...</td>\n",
       "      <td>[0, 0, 0, 0, 0, 0, 0, 0, 0, 0, 1, 2, 0, 0]</td>\n",
       "    </tr>\n",
       "  </tbody>\n",
       "</table>\n",
       "</div>"
      ],
      "text/plain": [
       "                                                Text  \\\n",
       "0  [\", Если, Миронов, занял, столь, оппозиционную...   \n",
       "1  [Источник, \", Ъ, '', в, руководстве, столичной...   \n",
       "2  [В, Ханты-Мансийском, автономном, округе, с, д...   \n",
       "3  [С, 1992, года, по, настоящее, время, является...   \n",
       "4  [Для, этого, ей, пришлось, выиграть, выборы, в...   \n",
       "\n",
       "                                              Labels  \n",
       "0  [0, 0, 5, 0, 0, 0, 0, 0, 0, 0, 0, 0, 0, 0, 0, ...  \n",
       "1  [0, 0, 3, 0, 0, 0, 0, 0, 0, 0, 0, 0, 0, 5, 0, ...  \n",
       "2               [0, 1, 2, 2, 0, 0, 0, 0, 3, 5, 6, 0]  \n",
       "3  [0, 0, 0, 0, 0, 0, 0, 0, 3, 4, 4, 0, 4, 0, 0, ...  \n",
       "4         [0, 0, 0, 0, 0, 0, 0, 0, 0, 0, 1, 2, 0, 0]  "
      ]
     },
     "execution_count": 32,
     "metadata": {},
     "output_type": "execute_result"
    }
   ],
   "source": [
    "def label_encode(labels):\n",
    "    new_labels = []\n",
    "    for label in labels:\n",
    "        new_labels.append(label2id[label])\n",
    "    return new_labels\n",
    "\n",
    "train_data['Labels'] = train_data['Labels'].apply(label_encode)\n",
    "val_data['Labels']   = val_data['Labels']  .apply(label_encode)\n",
    "test_data['Labels']  = test_data ['Labels'].apply(label_encode)\n",
    "\n",
    "train_data.head()"
   ]
  },
  {
   "cell_type": "markdown",
   "metadata": {},
   "source": [
    "As all sklearn-like libraries we need to get pandas.DataFrame as an input for this model. Let's create it.\n",
    "\n",
    "In our DataFrame we will make each word, entity and sentence_id on each row:\n",
    "\n",
    "sentense_id - which mark each word belonging to each sentence;\n",
    "data - contains words on each row;\n",
    "entities - marks which entity does each word refer to."
   ]
  },
  {
   "cell_type": "code",
   "execution_count": 40,
   "metadata": {},
   "outputs": [
    {
     "data": {
      "text/html": [
       "<div>\n",
       "<style scoped>\n",
       "    .dataframe tbody tr th:only-of-type {\n",
       "        vertical-align: middle;\n",
       "    }\n",
       "\n",
       "    .dataframe tbody tr th {\n",
       "        vertical-align: top;\n",
       "    }\n",
       "\n",
       "    .dataframe thead th {\n",
       "        text-align: right;\n",
       "    }\n",
       "</style>\n",
       "<table border=\"1\" class=\"dataframe\">\n",
       "  <thead>\n",
       "    <tr style=\"text-align: right;\">\n",
       "      <th></th>\n",
       "      <th>sent_id</th>\n",
       "      <th>data</th>\n",
       "      <th>entities</th>\n",
       "    </tr>\n",
       "  </thead>\n",
       "  <tbody>\n",
       "    <tr>\n",
       "      <th>0</th>\n",
       "      <td>0</td>\n",
       "      <td>\"</td>\n",
       "      <td>O</td>\n",
       "    </tr>\n",
       "    <tr>\n",
       "      <th>1</th>\n",
       "      <td>0</td>\n",
       "      <td>Если</td>\n",
       "      <td>O</td>\n",
       "    </tr>\n",
       "    <tr>\n",
       "      <th>2</th>\n",
       "      <td>0</td>\n",
       "      <td>Миронов</td>\n",
       "      <td>B-PER</td>\n",
       "    </tr>\n",
       "    <tr>\n",
       "      <th>3</th>\n",
       "      <td>0</td>\n",
       "      <td>занял</td>\n",
       "      <td>O</td>\n",
       "    </tr>\n",
       "    <tr>\n",
       "      <th>4</th>\n",
       "      <td>0</td>\n",
       "      <td>столь</td>\n",
       "      <td>O</td>\n",
       "    </tr>\n",
       "  </tbody>\n",
       "</table>\n",
       "</div>"
      ],
      "text/plain": [
       "   sent_id     data entities\n",
       "0        0        \"        O\n",
       "1        0     Если        O\n",
       "2        0  Миронов    B-PER\n",
       "3        0    занял        O\n",
       "4        0    столь        O"
      ]
     },
     "execution_count": 40,
     "metadata": {},
     "output_type": "execute_result"
    }
   ],
   "source": [
    "train_crf_data = pd.DataFrame({\n",
    "    'sent_id':  [i for j in [[i] * len(s) for i, s in enumerate(train_data['Text'])] for i in j],\n",
    "    'data':     [i for j in train_data['Text'] for i in j],\n",
    "    'entities': [id2label[i] for j in train_data['Labels'] for i in j],\n",
    "})\n",
    "train_crf_data.head()"
   ]
  },
  {
   "cell_type": "code",
   "execution_count": 41,
   "metadata": {},
   "outputs": [
    {
     "data": {
      "text/html": [
       "<div>\n",
       "<style scoped>\n",
       "    .dataframe tbody tr th:only-of-type {\n",
       "        vertical-align: middle;\n",
       "    }\n",
       "\n",
       "    .dataframe tbody tr th {\n",
       "        vertical-align: top;\n",
       "    }\n",
       "\n",
       "    .dataframe thead th {\n",
       "        text-align: right;\n",
       "    }\n",
       "</style>\n",
       "<table border=\"1\" class=\"dataframe\">\n",
       "  <thead>\n",
       "    <tr style=\"text-align: right;\">\n",
       "      <th></th>\n",
       "      <th>sent_id</th>\n",
       "      <th>data</th>\n",
       "      <th>entities</th>\n",
       "    </tr>\n",
       "  </thead>\n",
       "  <tbody>\n",
       "    <tr>\n",
       "      <th>0</th>\n",
       "      <td>0</td>\n",
       "      <td>как</td>\n",
       "      <td>O</td>\n",
       "    </tr>\n",
       "    <tr>\n",
       "      <th>1</th>\n",
       "      <td>0</td>\n",
       "      <td>акционерный</td>\n",
       "      <td>O</td>\n",
       "    </tr>\n",
       "    <tr>\n",
       "      <th>2</th>\n",
       "      <td>0</td>\n",
       "      <td>коммерческий</td>\n",
       "      <td>O</td>\n",
       "    </tr>\n",
       "    <tr>\n",
       "      <th>3</th>\n",
       "      <td>0</td>\n",
       "      <td>Московский</td>\n",
       "      <td>B-ORG</td>\n",
       "    </tr>\n",
       "    <tr>\n",
       "      <th>4</th>\n",
       "      <td>0</td>\n",
       "      <td>муниципальный</td>\n",
       "      <td>I-ORG</td>\n",
       "    </tr>\n",
       "  </tbody>\n",
       "</table>\n",
       "</div>"
      ],
      "text/plain": [
       "   sent_id           data entities\n",
       "0        0            как        O\n",
       "1        0    акционерный        O\n",
       "2        0   коммерческий        O\n",
       "3        0     Московский    B-ORG\n",
       "4        0  муниципальный    I-ORG"
      ]
     },
     "execution_count": 41,
     "metadata": {},
     "output_type": "execute_result"
    }
   ],
   "source": [
    "val_crf_data = pd.DataFrame({\n",
    "    'sent_id':  [i for j in [[i] * len(s) for i, s in enumerate(val_data['Text'])] for i in j],\n",
    "    'data':     [i for j in val_data['Text'] for i in j],\n",
    "    'entities': [id2label[i] for j in val_data['Labels'] for i in j],\n",
    "})\n",
    "val_crf_data.head()"
   ]
  },
  {
   "cell_type": "code",
   "execution_count": 42,
   "metadata": {},
   "outputs": [
    {
     "data": {
      "text/html": [
       "<div>\n",
       "<style scoped>\n",
       "    .dataframe tbody tr th:only-of-type {\n",
       "        vertical-align: middle;\n",
       "    }\n",
       "\n",
       "    .dataframe tbody tr th {\n",
       "        vertical-align: top;\n",
       "    }\n",
       "\n",
       "    .dataframe thead th {\n",
       "        text-align: right;\n",
       "    }\n",
       "</style>\n",
       "<table border=\"1\" class=\"dataframe\">\n",
       "  <thead>\n",
       "    <tr style=\"text-align: right;\">\n",
       "      <th></th>\n",
       "      <th>sent_id</th>\n",
       "      <th>data</th>\n",
       "      <th>entities</th>\n",
       "    </tr>\n",
       "  </thead>\n",
       "  <tbody>\n",
       "    <tr>\n",
       "      <th>0</th>\n",
       "      <td>0</td>\n",
       "      <td>Тогда</td>\n",
       "      <td>O</td>\n",
       "    </tr>\n",
       "    <tr>\n",
       "      <th>1</th>\n",
       "      <td>0</td>\n",
       "      <td>замешанные</td>\n",
       "      <td>O</td>\n",
       "    </tr>\n",
       "    <tr>\n",
       "      <th>2</th>\n",
       "      <td>0</td>\n",
       "      <td>в</td>\n",
       "      <td>O</td>\n",
       "    </tr>\n",
       "    <tr>\n",
       "      <th>3</th>\n",
       "      <td>0</td>\n",
       "      <td>скандале</td>\n",
       "      <td>O</td>\n",
       "    </tr>\n",
       "    <tr>\n",
       "      <th>4</th>\n",
       "      <td>0</td>\n",
       "      <td>прокуроры</td>\n",
       "      <td>O</td>\n",
       "    </tr>\n",
       "  </tbody>\n",
       "</table>\n",
       "</div>"
      ],
      "text/plain": [
       "   sent_id        data entities\n",
       "0        0       Тогда        O\n",
       "1        0  замешанные        O\n",
       "2        0           в        O\n",
       "3        0    скандале        O\n",
       "4        0   прокуроры        O"
      ]
     },
     "execution_count": 42,
     "metadata": {},
     "output_type": "execute_result"
    }
   ],
   "source": [
    "test_crf_data = pd.DataFrame({\n",
    "    'sent_id':  [i for j in [[i] * len(s) for i, s in enumerate(test_data['Text'])] for i in j],\n",
    "    'data':     [i for j in test_data['Text'] for i in j],\n",
    "    'entities': [id2label[i] for j in test_data['Labels'] for i in j],\n",
    "})\n",
    "test_crf_data.head()"
   ]
  },
  {
   "cell_type": "code",
   "execution_count": 43,
   "metadata": {},
   "outputs": [],
   "source": [
    "class SentenceGetter(object):\n",
    "    \n",
    "    def __init__(self, data):\n",
    "        self.n_sent = 1\n",
    "        self.data = data\n",
    "        self.empty = False\n",
    "        agg_func = lambda s: [(w, t) for w, t in zip(s['data'].values.tolist(), \n",
    "                                                     s['entities'].values.tolist())]\n",
    "        self.grouped = self.data.groupby('sent_id').apply(agg_func)\n",
    "        self.sentences = [s for s in self.grouped]\n",
    "        \n",
    "    def get_next(self):\n",
    "        try: \n",
    "            s = self.grouped['Sentence: {}'.format(self.n_sent)]\n",
    "            self.n_sent += 1\n",
    "            return s \n",
    "        except:\n",
    "            return None\n",
    "     "
   ]
  },
  {
   "cell_type": "code",
   "execution_count": 47,
   "metadata": {},
   "outputs": [
    {
     "data": {
      "text/plain": [
       "[('В', 'O'),\n",
       " ('Ханты-Мансийском', 'B-LOC'),\n",
       " ('автономном', 'I-LOC'),\n",
       " ('округе', 'I-LOC'),\n",
       " ('с', 'O'),\n",
       " ('должности', 'O'),\n",
       " ('снят', 'O'),\n",
       " ('начальник', 'O'),\n",
       " ('УВД', 'B-ORG'),\n",
       " ('Николай', 'B-PER'),\n",
       " ('Гудожников', 'I-PER'),\n",
       " ('.', 'O')]"
      ]
     },
     "execution_count": 47,
     "metadata": {},
     "output_type": "execute_result"
    }
   ],
   "source": [
    "train_getter = SentenceGetter(train_crf_data)\n",
    "val_getter   = SentenceGetter(val_crf_data)\n",
    "test_getter  = SentenceGetter(test_crf_data)\n",
    "\n",
    "train_getter.sentences[2]"
   ]
  },
  {
   "cell_type": "code",
   "execution_count": 48,
   "metadata": {},
   "outputs": [],
   "source": [
    "def word2features(sent, i):\n",
    "    word = sent[i][0]\n",
    "    postag = sent[i][1]\n",
    "    \n",
    "    features = {\n",
    "        'bias': 1.0,\n",
    "        'word.lower()': word.lower(),\n",
    "        'word[-3:]': word[-3:],\n",
    "        'word[-2:]': word[-2:],\n",
    "        'word.isupper()': word.isupper(),\n",
    "        'word.istitle()': word.istitle(),\n",
    "        'word.isdigit()': word.isdigit(),\n",
    "    }\n",
    "    if i > 0:\n",
    "        word1 = sent[i-1][0]\n",
    "        features.update({\n",
    "            '-1:word.lower()': word1.lower(),\n",
    "            '-1:word.istitle()': word1.istitle(),\n",
    "            '-1:word.isupper()': word1.isupper(),\n",
    "        })\n",
    "    else:\n",
    "        features['BOS'] = True\n",
    "    if i < len(sent)-1:\n",
    "        word1 = sent[i+1][0]\n",
    "        features.update({\n",
    "            '+1:word.lower()': word1.lower(),\n",
    "            '+1:word.istitle()': word1.istitle(),\n",
    "            '+1:word.isupper()': word1.isupper(),\n",
    "        })\n",
    "    else:\n",
    "        features['EOS'] = True\n",
    "\n",
    "    return features\n",
    "\n",
    "def sent2features(sent):\n",
    "    return [word2features(sent, i) for i in range(len(sent))]\n",
    "\n",
    "def sent2labels(sent):\n",
    "    return [label for token, label in sent]\n",
    "\n",
    "def sent2tokens(sent):\n",
    "    return [token for token, label in sent]\n",
    "     "
   ]
  },
  {
   "cell_type": "code",
   "execution_count": 49,
   "metadata": {},
   "outputs": [
    {
     "name": "stdout",
     "output_type": "stream",
     "text": [
      "Length train: 7746\n",
      "Length valid: 2582\n",
      "Length test: 2582\n"
     ]
    }
   ],
   "source": [
    "X_train = [sent2features(s) for s in train_getter.sentences]\n",
    "y_train = [sent2labels(s) for s in train_getter.sentences]\n",
    "print(f'Length train: {len(X_train)}')\n",
    "\n",
    "X_val   = [sent2features(s) for s in val_getter.sentences]\n",
    "y_val   = [sent2labels(s) for s in val_getter.sentences]\n",
    "print(f'Length valid: {len(X_val)}')\n",
    "\n",
    "X_test  = [sent2features(s) for s in test_getter.sentences]\n",
    "y_test  = [sent2labels(s) for s in test_getter.sentences]\n",
    "print(f'Length test: {len(X_test)}')"
   ]
  },
  {
   "cell_type": "markdown",
   "metadata": {
    "jp-MarkdownHeadingCollapsed": true,
    "tags": []
   },
   "source": [
    "## Training and evaluating"
   ]
  },
  {
   "cell_type": "code",
   "execution_count": 51,
   "metadata": {},
   "outputs": [
    {
     "name": "stderr",
     "output_type": "stream",
     "text": [
      "loading training data to CRFsuite: 100%|██████████| 7746/7746 [00:00<00:00, 8273.09it/s]\n"
     ]
    },
    {
     "name": "stdout",
     "output_type": "stream",
     "text": [
      "\n"
     ]
    },
    {
     "name": "stderr",
     "output_type": "stream",
     "text": [
      "loading dev data to CRFsuite: 100%|██████████| 2582/2582 [00:00<00:00, 8689.08it/s]\n"
     ]
    },
    {
     "name": "stdout",
     "output_type": "stream",
     "text": [
      "\n",
      "Holdout group: 2\n",
      "\n",
      "Feature generation\n",
      "type: CRF1d\n",
      "feature.minfreq: 0.000000\n",
      "feature.possible_states: 0\n",
      "feature.possible_transitions: 1\n",
      "0....1....2....3....4....5....6....7....8....9....10\n",
      "Number of features: 94630\n",
      "Seconds required: 0.211\n",
      "\n",
      "L-BFGS optimization\n",
      "c1: 0.100000\n",
      "c2: 0.100000\n",
      "num_memories: 6\n",
      "max_iterations: 100\n",
      "epsilon: 0.000010\n",
      "stop: 10\n",
      "delta: 0.000010\n",
      "linesearch: MoreThuente\n",
      "linesearch.max_iterations: 20\n",
      "\n",
      "Iter 1   time=0.11  loss=157904.52 active=94282 precision=0.121  recall=0.143  F1=0.131  Acc(item/seq)=0.845 0.246  feature_norm=1.00\n",
      "Iter 2   time=0.07  loss=156786.63 active=92364 precision=0.121  recall=0.143  F1=0.131  Acc(item/seq)=0.845 0.246  feature_norm=3.54\n",
      "Iter 3   time=0.07  loss=122095.20 active=91424 precision=0.121  recall=0.143  F1=0.131  Acc(item/seq)=0.845 0.246  feature_norm=2.92\n",
      "Iter 4   time=0.24  loss=87087.62 active=92329 precision=0.121  recall=0.143  F1=0.131  Acc(item/seq)=0.845 0.246  feature_norm=2.35\n",
      "Iter 5   time=0.07  loss=80080.08 active=93620 precision=0.121  recall=0.143  F1=0.131  Acc(item/seq)=0.845 0.246  feature_norm=2.70\n",
      "Iter 6   time=0.07  loss=67014.99 active=93838 precision=0.314  recall=0.358  F1=0.333  Acc(item/seq)=0.886 0.291  feature_norm=3.92\n",
      "Iter 7   time=0.07  loss=55894.81 active=92413 precision=0.508  recall=0.320  F1=0.327  Acc(item/seq)=0.881 0.285  feature_norm=5.06\n",
      "Iter 8   time=0.07  loss=46867.95 active=87093 precision=0.547  recall=0.464  F1=0.465  Acc(item/seq)=0.903 0.337  feature_norm=7.49\n",
      "Iter 9   time=0.07  loss=39625.50 active=74379 precision=0.578  recall=0.442  F1=0.463  Acc(item/seq)=0.901 0.332  feature_norm=8.65\n",
      "Iter 10  time=0.07  loss=34906.23 active=71251 precision=0.594  recall=0.483  F1=0.504  Acc(item/seq)=0.909 0.357  feature_norm=10.62\n",
      "Iter 11  time=0.07  loss=31104.28 active=66053 precision=0.744  recall=0.607  F1=0.624  Acc(item/seq)=0.924 0.452  feature_norm=13.20\n",
      "Iter 12  time=0.07  loss=28066.65 active=64932 precision=0.754  recall=0.629  F1=0.664  Acc(item/seq)=0.933 0.491  feature_norm=14.59\n",
      "Iter 13  time=0.07  loss=25747.54 active=62495 precision=0.758  recall=0.635  F1=0.668  Acc(item/seq)=0.932 0.488  feature_norm=16.05\n",
      "Iter 14  time=0.07  loss=23478.15 active=57930 precision=0.775  recall=0.660  F1=0.686  Acc(item/seq)=0.937 0.501  feature_norm=19.04\n",
      "Iter 15  time=0.07  loss=23102.80 active=55547 precision=0.753  recall=0.715  F1=0.702  Acc(item/seq)=0.923 0.525  feature_norm=23.14\n",
      "Iter 16  time=0.07  loss=20429.18 active=56621 precision=0.789  recall=0.700  F1=0.725  Acc(item/seq)=0.944 0.541  feature_norm=23.79\n",
      "Iter 17  time=0.07  loss=19419.33 active=55714 precision=0.786  recall=0.732  F1=0.750  Acc(item/seq)=0.947 0.560  feature_norm=25.19\n",
      "Iter 18  time=0.07  loss=18162.86 active=54086 precision=0.810  recall=0.756  F1=0.775  Acc(item/seq)=0.949 0.580  feature_norm=28.54\n",
      "Iter 19  time=0.07  loss=16865.52 active=52529 precision=0.799  recall=0.810  F1=0.802  Acc(item/seq)=0.953 0.594  feature_norm=32.37\n",
      "Iter 20  time=0.07  loss=15484.40 active=51705 precision=0.850  recall=0.801  F1=0.820  Acc(item/seq)=0.958 0.620  feature_norm=35.45\n",
      "Iter 21  time=0.07  loss=14201.06 active=50612 precision=0.848  recall=0.832  F1=0.839  Acc(item/seq)=0.961 0.644  feature_norm=39.92\n",
      "Iter 22  time=0.07  loss=12777.41 active=49207 precision=0.866  recall=0.825  F1=0.842  Acc(item/seq)=0.963 0.665  feature_norm=46.26\n",
      "Iter 23  time=0.07  loss=11736.57 active=47459 precision=0.879  recall=0.847  F1=0.861  Acc(item/seq)=0.966 0.692  feature_norm=50.66\n",
      "Iter 24  time=0.07  loss=10637.49 active=45464 precision=0.885  recall=0.860  F1=0.871  Acc(item/seq)=0.969 0.715  feature_norm=57.37\n",
      "Iter 25  time=0.07  loss=9863.25  active=42514 precision=0.901  recall=0.862  F1=0.879  Acc(item/seq)=0.971 0.734  feature_norm=65.13\n",
      "Iter 26  time=0.07  loss=9106.38  active=41549 precision=0.907  recall=0.865  F1=0.883  Acc(item/seq)=0.972 0.746  feature_norm=69.03\n",
      "Iter 27  time=0.07  loss=8511.99  active=40553 precision=0.905  recall=0.882  F1=0.893  Acc(item/seq)=0.975 0.761  feature_norm=74.45\n",
      "Iter 28  time=0.07  loss=7971.65  active=38312 precision=0.921  recall=0.875  F1=0.896  Acc(item/seq)=0.975 0.765  feature_norm=80.73\n",
      "Iter 29  time=0.07  loss=7423.31  active=36685 precision=0.920  recall=0.895  F1=0.907  Acc(item/seq)=0.977 0.777  feature_norm=86.35\n",
      "Iter 30  time=0.07  loss=6980.79  active=35944 precision=0.923  recall=0.895  F1=0.907  Acc(item/seq)=0.978 0.785  feature_norm=90.79\n",
      "Iter 31  time=0.07  loss=6709.34  active=33170 precision=0.916  recall=0.907  F1=0.911  Acc(item/seq)=0.977 0.789  feature_norm=97.42\n",
      "Iter 32  time=0.07  loss=6347.79  active=33563 precision=0.927  recall=0.897  F1=0.911  Acc(item/seq)=0.978 0.787  feature_norm=98.97\n",
      "Iter 33  time=0.07  loss=6225.70  active=33379 precision=0.930  recall=0.896  F1=0.912  Acc(item/seq)=0.978 0.790  feature_norm=100.42\n",
      "Iter 34  time=0.07  loss=5875.08  active=31938 precision=0.926  recall=0.906  F1=0.915  Acc(item/seq)=0.979 0.797  feature_norm=106.79\n",
      "Iter 35  time=0.07  loss=5832.66  active=31337 precision=0.937  recall=0.883  F1=0.907  Acc(item/seq)=0.977 0.782  feature_norm=109.73\n",
      "Iter 36  time=0.09  loss=5682.10  active=31405 precision=0.932  recall=0.900  F1=0.915  Acc(item/seq)=0.979 0.799  feature_norm=110.39\n",
      "Iter 37  time=0.07  loss=5614.97  active=31211 precision=0.931  recall=0.903  F1=0.916  Acc(item/seq)=0.979 0.799  feature_norm=111.28\n",
      "Iter 38  time=0.08  loss=5483.58  active=29755 precision=0.932  recall=0.905  F1=0.917  Acc(item/seq)=0.980 0.804  feature_norm=113.11\n",
      "Iter 39  time=0.07  loss=5461.32  active=28610 precision=0.935  recall=0.897  F1=0.914  Acc(item/seq)=0.979 0.794  feature_norm=114.63\n",
      "Iter 40  time=0.07  loss=5339.96  active=28650 precision=0.934  recall=0.905  F1=0.918  Acc(item/seq)=0.980 0.807  feature_norm=115.17\n",
      "Iter 41  time=0.07  loss=5307.35  active=28374 precision=0.934  recall=0.906  F1=0.918  Acc(item/seq)=0.980 0.808  feature_norm=115.51\n",
      "Iter 42  time=0.08  loss=5241.61  active=27701 precision=0.935  recall=0.903  F1=0.918  Acc(item/seq)=0.980 0.807  feature_norm=116.34\n",
      "Iter 43  time=0.13  loss=5213.51  active=27347 precision=0.935  recall=0.904  F1=0.918  Acc(item/seq)=0.980 0.807  feature_norm=117.31\n",
      "Iter 44  time=0.07  loss=5174.45  active=27021 precision=0.932  recall=0.907  F1=0.919  Acc(item/seq)=0.980 0.808  feature_norm=117.61\n",
      "Iter 45  time=0.07  loss=5144.24  active=26974 precision=0.936  recall=0.902  F1=0.917  Acc(item/seq)=0.980 0.807  feature_norm=117.78\n",
      "Iter 46  time=0.07  loss=5127.65  active=26488 precision=0.935  recall=0.903  F1=0.918  Acc(item/seq)=0.980 0.808  feature_norm=118.08\n",
      "Iter 47  time=0.07  loss=5097.23  active=25727 precision=0.936  recall=0.901  F1=0.917  Acc(item/seq)=0.980 0.806  feature_norm=118.85\n",
      "Iter 48  time=0.07  loss=5080.27  active=25609 precision=0.935  recall=0.906  F1=0.919  Acc(item/seq)=0.980 0.809  feature_norm=119.10\n",
      "Iter 49  time=0.07  loss=5066.92  active=25400 precision=0.936  recall=0.906  F1=0.920  Acc(item/seq)=0.980 0.810  feature_norm=119.33\n",
      "Iter 50  time=0.08  loss=5049.98  active=24763 precision=0.934  recall=0.908  F1=0.920  Acc(item/seq)=0.980 0.808  feature_norm=119.80\n",
      "Iter 51  time=0.07  loss=5032.48  active=24646 precision=0.935  recall=0.906  F1=0.919  Acc(item/seq)=0.980 0.808  feature_norm=119.96\n",
      "Iter 52  time=0.07  loss=5023.47  active=24436 precision=0.935  recall=0.906  F1=0.919  Acc(item/seq)=0.980 0.808  feature_norm=120.17\n",
      "Iter 53  time=0.07  loss=5008.61  active=24009 precision=0.935  recall=0.904  F1=0.918  Acc(item/seq)=0.980 0.807  feature_norm=120.81\n",
      "Iter 54  time=0.07  loss=4995.81  active=23894 precision=0.935  recall=0.907  F1=0.920  Acc(item/seq)=0.980 0.807  feature_norm=121.03\n",
      "Iter 55  time=0.07  loss=4990.51  active=23732 precision=0.937  recall=0.903  F1=0.918  Acc(item/seq)=0.980 0.806  feature_norm=121.14\n",
      "Iter 56  time=0.07  loss=4979.90  active=23631 precision=0.935  recall=0.907  F1=0.920  Acc(item/seq)=0.980 0.806  feature_norm=121.39\n",
      "Iter 57  time=0.07  loss=4974.25  active=23461 precision=0.936  recall=0.904  F1=0.918  Acc(item/seq)=0.980 0.806  feature_norm=121.54\n",
      "Iter 58  time=0.07  loss=4966.91  active=23257 precision=0.934  recall=0.908  F1=0.920  Acc(item/seq)=0.980 0.808  feature_norm=121.80\n",
      "Iter 59  time=0.07  loss=4960.78  active=23148 precision=0.935  recall=0.904  F1=0.918  Acc(item/seq)=0.980 0.806  feature_norm=121.91\n",
      "Iter 60  time=0.07  loss=4954.75  active=23069 precision=0.934  recall=0.907  F1=0.919  Acc(item/seq)=0.980 0.809  feature_norm=122.12\n",
      "Iter 61  time=0.07  loss=4950.04  active=22969 precision=0.934  recall=0.904  F1=0.918  Acc(item/seq)=0.980 0.806  feature_norm=122.19\n",
      "Iter 62  time=0.07  loss=4944.43  active=22792 precision=0.935  recall=0.907  F1=0.920  Acc(item/seq)=0.980 0.808  feature_norm=122.32\n",
      "Iter 63  time=0.07  loss=4939.92  active=22641 precision=0.934  recall=0.904  F1=0.918  Acc(item/seq)=0.980 0.807  feature_norm=122.35\n",
      "Iter 64  time=0.07  loss=4934.85  active=22527 precision=0.934  recall=0.907  F1=0.919  Acc(item/seq)=0.980 0.808  feature_norm=122.44\n",
      "Iter 65  time=0.07  loss=4930.89  active=22399 precision=0.934  recall=0.906  F1=0.919  Acc(item/seq)=0.980 0.807  feature_norm=122.44\n",
      "Iter 66  time=0.07  loss=4926.21  active=22277 precision=0.934  recall=0.907  F1=0.919  Acc(item/seq)=0.980 0.808  feature_norm=122.47\n",
      "Iter 67  time=0.07  loss=4922.36  active=22167 precision=0.934  recall=0.905  F1=0.919  Acc(item/seq)=0.980 0.807  feature_norm=122.44\n",
      "Iter 68  time=0.07  loss=4918.58  active=22079 precision=0.934  recall=0.906  F1=0.919  Acc(item/seq)=0.980 0.808  feature_norm=122.44\n",
      "Iter 69  time=0.07  loss=4915.65  active=22007 precision=0.935  recall=0.906  F1=0.919  Acc(item/seq)=0.980 0.808  feature_norm=122.36\n",
      "Iter 70  time=0.07  loss=4912.61  active=21972 precision=0.933  recall=0.906  F1=0.918  Acc(item/seq)=0.980 0.807  feature_norm=122.34\n",
      "Iter 71  time=0.07  loss=4909.72  active=21887 precision=0.934  recall=0.906  F1=0.919  Acc(item/seq)=0.980 0.808  feature_norm=122.25\n",
      "Iter 72  time=0.07  loss=4906.66  active=21792 precision=0.934  recall=0.906  F1=0.919  Acc(item/seq)=0.980 0.806  feature_norm=122.19\n",
      "Iter 73  time=0.07  loss=4904.04  active=21717 precision=0.934  recall=0.906  F1=0.919  Acc(item/seq)=0.980 0.806  feature_norm=122.07\n",
      "Iter 74  time=0.07  loss=4901.77  active=21666 precision=0.933  recall=0.906  F1=0.918  Acc(item/seq)=0.980 0.806  feature_norm=122.05\n",
      "Iter 75  time=0.07  loss=4899.37  active=21612 precision=0.934  recall=0.906  F1=0.918  Acc(item/seq)=0.980 0.806  feature_norm=121.98\n",
      "Iter 76  time=0.07  loss=4896.64  active=21552 precision=0.933  recall=0.907  F1=0.919  Acc(item/seq)=0.980 0.808  feature_norm=121.95\n",
      "Iter 77  time=0.07  loss=4894.81  active=21476 precision=0.934  recall=0.906  F1=0.918  Acc(item/seq)=0.980 0.808  feature_norm=121.92\n",
      "Iter 78  time=0.07  loss=4893.10  active=21465 precision=0.933  recall=0.906  F1=0.918  Acc(item/seq)=0.980 0.808  feature_norm=121.91\n",
      "Iter 79  time=0.07  loss=4891.52  active=21405 precision=0.933  recall=0.906  F1=0.918  Acc(item/seq)=0.980 0.808  feature_norm=121.89\n",
      "Iter 80  time=0.07  loss=4889.95  active=21343 precision=0.933  recall=0.907  F1=0.919  Acc(item/seq)=0.980 0.809  feature_norm=121.88\n",
      "Iter 81  time=0.08  loss=4888.58  active=21299 precision=0.934  recall=0.906  F1=0.918  Acc(item/seq)=0.980 0.809  feature_norm=121.86\n",
      "Iter 82  time=0.07  loss=4887.37  active=21255 precision=0.933  recall=0.907  F1=0.919  Acc(item/seq)=0.980 0.809  feature_norm=121.85\n",
      "Iter 83  time=0.07  loss=4886.14  active=21204 precision=0.933  recall=0.905  F1=0.918  Acc(item/seq)=0.980 0.808  feature_norm=121.82\n",
      "Iter 84  time=0.07  loss=4884.95  active=21174 precision=0.933  recall=0.907  F1=0.919  Acc(item/seq)=0.980 0.809  feature_norm=121.82\n",
      "Iter 85  time=0.07  loss=4883.85  active=21157 precision=0.933  recall=0.905  F1=0.918  Acc(item/seq)=0.980 0.807  feature_norm=121.81\n",
      "Iter 86  time=0.08  loss=4882.86  active=21152 precision=0.932  recall=0.906  F1=0.918  Acc(item/seq)=0.980 0.808  feature_norm=121.80\n",
      "Iter 87  time=0.07  loss=4881.98  active=21139 precision=0.933  recall=0.906  F1=0.918  Acc(item/seq)=0.980 0.807  feature_norm=121.79\n",
      "Iter 88  time=0.08  loss=4881.04  active=21125 precision=0.932  recall=0.907  F1=0.918  Acc(item/seq)=0.980 0.808  feature_norm=121.79\n",
      "Iter 89  time=0.07  loss=4880.25  active=21107 precision=0.933  recall=0.906  F1=0.918  Acc(item/seq)=0.980 0.806  feature_norm=121.78\n",
      "Iter 90  time=0.07  loss=4879.47  active=21089 precision=0.932  recall=0.907  F1=0.918  Acc(item/seq)=0.980 0.807  feature_norm=121.79\n",
      "Iter 91  time=0.07  loss=4878.73  active=21064 precision=0.933  recall=0.906  F1=0.918  Acc(item/seq)=0.980 0.808  feature_norm=121.79\n",
      "Iter 92  time=0.08  loss=4878.07  active=21051 precision=0.932  recall=0.907  F1=0.918  Acc(item/seq)=0.980 0.808  feature_norm=121.80\n",
      "Iter 93  time=0.07  loss=4877.35  active=21026 precision=0.933  recall=0.906  F1=0.918  Acc(item/seq)=0.980 0.808  feature_norm=121.81\n",
      "Iter 94  time=0.07  loss=4876.69  active=21021 precision=0.932  recall=0.907  F1=0.918  Acc(item/seq)=0.980 0.808  feature_norm=121.83\n",
      "Iter 95  time=0.07  loss=4876.01  active=20999 precision=0.933  recall=0.906  F1=0.918  Acc(item/seq)=0.980 0.808  feature_norm=121.84\n",
      "Iter 96  time=0.07  loss=4875.37  active=20992 precision=0.931  recall=0.907  F1=0.918  Acc(item/seq)=0.980 0.807  feature_norm=121.86\n",
      "Iter 97  time=0.07  loss=4874.77  active=20980 precision=0.932  recall=0.905  F1=0.917  Acc(item/seq)=0.980 0.807  feature_norm=121.87\n",
      "Iter 98  time=0.07  loss=4874.31  active=20974 precision=0.932  recall=0.907  F1=0.918  Acc(item/seq)=0.980 0.809  feature_norm=121.89\n",
      "Iter 99  time=0.07  loss=4873.68  active=20952 precision=0.932  recall=0.905  F1=0.917  Acc(item/seq)=0.980 0.808  feature_norm=121.90\n",
      "Iter 100 time=0.07  loss=4873.15  active=20943 precision=0.932  recall=0.908  F1=0.918  Acc(item/seq)=0.980 0.809  feature_norm=121.92\n",
      "================================================\n",
      "Label      Precision    Recall     F1    Support\n",
      "-------  -----------  --------  -----  ---------\n",
      "B-LOC          0.926     0.922  0.924       1394\n",
      "B-ORG          0.931     0.877  0.903       1629\n",
      "B-PER          0.933     0.951  0.942       2110\n",
      "I-LOC          0.934     0.876  0.904        307\n",
      "I-ORG          0.879     0.745  0.806       1186\n",
      "I-PER          0.929     0.988  0.957       1321\n",
      "O              0.990     0.994  0.992      43239\n",
      "------------------------------------------------\n",
      "L-BFGS terminated with the maximum number of iterations\n",
      "Total seconds required for training: 7.520\n",
      "\n",
      "Storing the model\n",
      "Number of active features: 20943 (94630)\n",
      "Number of active attributes: 15024 (94433)\n",
      "Number of active labels: 7 (7)\n",
      "Writing labels\n",
      "Writing attributes\n",
      "Writing feature references for transitions\n",
      "Writing feature references for attributes\n",
      "Seconds required: 0.016\n",
      "\n",
      "CPU times: total: 3.31 s\n",
      "Wall time: 9.01 s\n"
     ]
    }
   ],
   "source": [
    "%%time\n",
    "crf = sklearn_crfsuite.CRF(\n",
    "    algorithm='lbfgs',\n",
    "    c1=0.1,\n",
    "    c2=0.1,\n",
    "    max_iterations=100,\n",
    "    all_possible_transitions=True,\n",
    "    verbose=True\n",
    ")\n",
    "\n",
    "# if we start the learning process, the training will be completed\n",
    "# successfully, but the next error will appear:\n",
    "# AttributeError: 'CRF' object has no attribute 'keep_tempfiles'\n",
    "# https://stackoverflow.com/questions/66059532/attributeerror-crf-object-has-no-attribute-keep-tempfiles\n",
    "\n",
    "try:\n",
    "    crf.fit(X_train, y_train, X_val, y_val)\n",
    "except AttributeError:\n",
    "    pass"
   ]
  },
  {
   "cell_type": "code",
   "execution_count": 55,
   "metadata": {},
   "outputs": [
    {
     "data": {
      "text/plain": [
       "['O', 'B-LOC', 'I-LOC', 'B-ORG', 'I-ORG', 'B-PER', 'I-PER']"
      ]
     },
     "execution_count": 55,
     "metadata": {},
     "output_type": "execute_result"
    }
   ],
   "source": [
    "list(label2id.keys())"
   ]
  },
  {
   "cell_type": "code",
   "execution_count": 58,
   "metadata": {},
   "outputs": [
    {
     "name": "stdout",
     "output_type": "stream",
     "text": [
      "all_entities: ['O', 'B-LOC', 'I-LOC', 'B-ORG', 'I-ORG', 'B-PER', 'I-PER']\n"
     ]
    },
    {
     "data": {
      "text/plain": [
       "0.9786359118090925"
      ]
     },
     "execution_count": 58,
     "metadata": {},
     "output_type": "execute_result"
    }
   ],
   "source": [
    "all_entities = list(label2id.keys())\n",
    "print(f'all_entities: {all_entities}')\n",
    "\n",
    "y_pred = crf.predict(X_test)\n",
    "crf_metrics.flat_f1_score(y_test, y_pred, average='weighted', labels=all_entities)"
   ]
  },
  {
   "cell_type": "markdown",
   "metadata": {},
   "source": [
    "But our classes are disbalanced. \n",
    "\n",
    "Printing a classification report for all useful tokens (exluding token 'O')."
   ]
  },
  {
   "cell_type": "code",
   "execution_count": 65,
   "metadata": {},
   "outputs": [],
   "source": [
    "# classification_report from sklearn.metrics doesn't support sequence of\n",
    "# secuences, so first we transform our data into one sequence\n",
    "y_pred_flatten = [l for s in y_pred for l in s]\n",
    "y_test_flatten = [l for s in y_test for l in s]"
   ]
  },
  {
   "cell_type": "code",
   "execution_count": 66,
   "metadata": {},
   "outputs": [
    {
     "name": "stdout",
     "output_type": "stream",
     "text": [
      "              precision    recall  f1-score   support\n",
      "\n",
      "       B-LOC       0.93      0.93      0.93      1508\n",
      "       I-LOC       0.95      0.92      0.93       342\n",
      "       B-ORG       0.92      0.87      0.89      1734\n",
      "       I-ORG       0.85      0.74      0.79      1090\n",
      "       B-PER       0.92      0.94      0.93      2150\n",
      "       I-PER       0.94      0.97      0.95      1367\n",
      "\n",
      "   micro avg       0.92      0.90      0.91      8191\n",
      "   macro avg       0.92      0.89      0.91      8191\n",
      "weighted avg       0.92      0.90      0.91      8191\n",
      "\n"
     ]
    }
   ],
   "source": [
    "print(metrics.classification_report(y_test_flatten, y_pred_flatten, labels=all_entities[1:]))"
   ]
  },
  {
   "cell_type": "markdown",
   "metadata": {},
   "source": [
    "As we see, our results after excluding useless label 'O' are fallen."
   ]
  },
  {
   "cell_type": "markdown",
   "metadata": {
    "jp-MarkdownHeadingCollapsed": true,
    "tags": []
   },
   "source": [
    "# Model 2: based on RNN"
   ]
  },
  {
   "cell_type": "code",
   "execution_count": null,
   "metadata": {},
   "outputs": [],
   "source": []
  },
  {
   "cell_type": "markdown",
   "metadata": {
    "id": "WfmYrT96UPjH",
    "jp-MarkdownHeadingCollapsed": true,
    "tags": []
   },
   "source": [
    "# Model 3: Fine-tuning HuggingFace pretrained LaBSE model (BERT architecture)"
   ]
  },
  {
   "cell_type": "markdown",
   "metadata": {
    "id": "x-yK-MynU_lN"
   },
   "source": [
    "https://huggingface.co/surdan/LaBSE_ner_nerel"
   ]
  },
  {
   "cell_type": "markdown",
   "metadata": {
    "id": "jJ9i0W6NVFRj",
    "jp-MarkdownHeadingCollapsed": true,
    "tags": []
   },
   "source": [
    "## Additional preprocessing"
   ]
  },
  {
   "cell_type": "code",
   "execution_count": 16,
   "metadata": {
    "colab": {
     "base_uri": "https://localhost:8080/",
     "height": 206
    },
    "id": "0stiQfLSmclK",
    "outputId": "ee077ca0-10f5-4a6e-e951-9a0d13ebfcd6"
   },
   "outputs": [
    {
     "data": {
      "text/html": [
       "<div>\n",
       "<style scoped>\n",
       "    .dataframe tbody tr th:only-of-type {\n",
       "        vertical-align: middle;\n",
       "    }\n",
       "\n",
       "    .dataframe tbody tr th {\n",
       "        vertical-align: top;\n",
       "    }\n",
       "\n",
       "    .dataframe thead th {\n",
       "        text-align: right;\n",
       "    }\n",
       "</style>\n",
       "<table border=\"1\" class=\"dataframe\">\n",
       "  <thead>\n",
       "    <tr style=\"text-align: right;\">\n",
       "      <th></th>\n",
       "      <th>Text</th>\n",
       "      <th>Labels</th>\n",
       "    </tr>\n",
       "  </thead>\n",
       "  <tbody>\n",
       "    <tr>\n",
       "      <th>0</th>\n",
       "      <td>[\", Если, Миронов, занял, столь, оппозиционную...</td>\n",
       "      <td>[0, 0, 5, 0, 0, 0, 0, 0, 0, 0, 0, 0, 0, 0, 0, ...</td>\n",
       "    </tr>\n",
       "    <tr>\n",
       "      <th>1</th>\n",
       "      <td>[Источник, \", Ъ, '', в, руководстве, столичной...</td>\n",
       "      <td>[0, 0, 3, 0, 0, 0, 0, 0, 0, 0, 0, 0, 0, 5, 0, ...</td>\n",
       "    </tr>\n",
       "    <tr>\n",
       "      <th>2</th>\n",
       "      <td>[В, Ханты-Мансийском, автономном, округе, с, д...</td>\n",
       "      <td>[0, 1, 2, 2, 0, 0, 0, 0, 3, 5, 6, 0]</td>\n",
       "    </tr>\n",
       "    <tr>\n",
       "      <th>3</th>\n",
       "      <td>[С, 1992, года, по, настоящее, время, является...</td>\n",
       "      <td>[0, 0, 0, 0, 0, 0, 0, 0, 3, 4, 4, 0, 4, 0, 0, ...</td>\n",
       "    </tr>\n",
       "    <tr>\n",
       "      <th>4</th>\n",
       "      <td>[Для, этого, ей, пришлось, выиграть, выборы, в...</td>\n",
       "      <td>[0, 0, 0, 0, 0, 0, 0, 0, 0, 0, 1, 2, 0, 0]</td>\n",
       "    </tr>\n",
       "  </tbody>\n",
       "</table>\n",
       "</div>"
      ],
      "text/plain": [
       "                                                Text  \\\n",
       "0  [\", Если, Миронов, занял, столь, оппозиционную...   \n",
       "1  [Источник, \", Ъ, '', в, руководстве, столичной...   \n",
       "2  [В, Ханты-Мансийском, автономном, округе, с, д...   \n",
       "3  [С, 1992, года, по, настоящее, время, является...   \n",
       "4  [Для, этого, ей, пришлось, выиграть, выборы, в...   \n",
       "\n",
       "                                              Labels  \n",
       "0  [0, 0, 5, 0, 0, 0, 0, 0, 0, 0, 0, 0, 0, 0, 0, ...  \n",
       "1  [0, 0, 3, 0, 0, 0, 0, 0, 0, 0, 0, 0, 0, 5, 0, ...  \n",
       "2               [0, 1, 2, 2, 0, 0, 0, 0, 3, 5, 6, 0]  \n",
       "3  [0, 0, 0, 0, 0, 0, 0, 0, 3, 4, 4, 0, 4, 0, 0, ...  \n",
       "4         [0, 0, 0, 0, 0, 0, 0, 0, 0, 0, 1, 2, 0, 0]  "
      ]
     },
     "execution_count": 16,
     "metadata": {},
     "output_type": "execute_result"
    }
   ],
   "source": [
    "def label_encode(labels):\n",
    "    new_labels = []\n",
    "    for label in labels:\n",
    "        new_labels.append(label2id[label])\n",
    "    return new_labels\n",
    "\n",
    "train_data['Labels'] = train_data['Labels'].apply(label_encode)\n",
    "val_data['Labels']   = val_data['Labels']  .apply(label_encode)\n",
    "test_data['Labels']  = test_data ['Labels'].apply(label_encode)\n",
    "\n",
    "train_data.head()"
   ]
  },
  {
   "cell_type": "code",
   "execution_count": 12,
   "metadata": {
    "colab": {
     "base_uri": "https://localhost:8080/"
    },
    "id": "kkyMa9n87uvU",
    "outputId": "211ce762-049e-4127-d815-c9ece7283332"
   },
   "outputs": [
    {
     "name": "stdout",
     "output_type": "stream",
     "text": [
      "Train shape: (7747, 2)\n",
      "Valid shape: (2583, 2)\n",
      "Test shape: (2583, 2)\n",
      "Dataset({\n",
      "    features: ['Text', 'Labels'],\n",
      "    num_rows: 7747\n",
      "})\n",
      "Dataset({\n",
      "    features: ['Text', 'Labels'],\n",
      "    num_rows: 2583\n",
      "})\n",
      "Dataset({\n",
      "    features: ['Text', 'Labels'],\n",
      "    num_rows: 2583\n",
      "})\n"
     ]
    }
   ],
   "source": [
    "hg_train = Dataset.from_pandas(train_data)\n",
    "assert hg_train.shape == train_data.shape\n",
    "print(f'Train shape: {hg_train.shape}')\n",
    "\n",
    "hg_val = Dataset.from_pandas(val_data)\n",
    "assert hg_val.shape == val_data.shape\n",
    "print(f'Valid shape: {hg_val.shape}')\n",
    "\n",
    "hg_test = Dataset.from_pandas(test_data)\n",
    "assert hg_test.shape == test_data.shape\n",
    "print(f'Test shape: {hg_test.shape}')\n",
    "\n",
    "print(hg_train)\n",
    "print(hg_val)\n",
    "print(hg_test)"
   ]
  },
  {
   "cell_type": "code",
   "execution_count": 17,
   "metadata": {
    "id": "wtuyH2mgTI6g"
   },
   "outputs": [],
   "source": [
    "# model_checkpoint = 'surdan/LaBSE_ner_nerel'\n",
    "model_checkpoint = './LaBSE_ner_nerel'\n",
    "tokenizer = AutoTokenizer.from_pretrained(model_checkpoint)"
   ]
  },
  {
   "cell_type": "code",
   "execution_count": 18,
   "metadata": {
    "colab": {
     "base_uri": "https://localhost:8080/"
    },
    "id": "FTYT_p3Td9oT",
    "outputId": "45716630-37b3-4d48-c185-df6e5384c468"
   },
   "outputs": [
    {
     "data": {
      "text/plain": [
       "True"
      ]
     },
     "execution_count": 18,
     "metadata": {},
     "output_type": "execute_result"
    }
   ],
   "source": [
    "tokenizer.is_fast"
   ]
  },
  {
   "cell_type": "code",
   "execution_count": 19,
   "metadata": {
    "colab": {
     "base_uri": "https://localhost:8080/"
    },
    "id": "QxD4Rt3BeHIB",
    "outputId": "48ee7e36-6334-4421-ab43-8e83704de22a"
   },
   "outputs": [
    {
     "name": "stdout",
     "output_type": "stream",
     "text": [
      "['[CLS]', '\"', 'Если', 'Мир', '##онов', 'занял', 'столь', 'оп', '##по', '##зици', '##он', '##ную', 'позицию', ',', 'то', 'мне', 'представляется', ',', 'что', 'для', 'него', 'было', 'бы', 'поряд', '##очным', 'и', 'правил', '##ьным', 'уйти', 'в', 'отставку', 'с', 'зани', '##ма', '##емого', 'им', 'поста', ',', 'поста', ',', 'который', 'пред', '##оста', '##влен', 'ему', 'сегодня', '\"', 'Единой', 'Россией', \"'\", \"'\", 'и', 'ник', '##ем', 'больше', \"'\", \"'\", ',', '-', 'за', '##кл', '##юча', '##ет', 'Иса', '##ев', '.', '[SEP]']\n"
     ]
    }
   ],
   "source": [
    "inputs = tokenizer(hg_train['Text'][0], is_split_into_words=True)\n",
    "print(inputs.tokens())"
   ]
  },
  {
   "cell_type": "code",
   "execution_count": 20,
   "metadata": {
    "colab": {
     "base_uri": "https://localhost:8080/"
    },
    "id": "rfjm4mubegS8",
    "outputId": "bec8c5c7-85fb-461f-dbef-4efc74f7e9d1"
   },
   "outputs": [
    {
     "name": "stdout",
     "output_type": "stream",
     "text": [
      "[None, 0, 1, 2, 2, 3, 4, 5, 5, 5, 5, 5, 6, 7, 8, 9, 10, 11, 12, 13, 14, 15, 16, 17, 17, 18, 19, 19, 20, 21, 22, 23, 24, 24, 24, 25, 26, 27, 28, 29, 30, 31, 31, 31, 32, 33, 34, 35, 36, 37, 37, 38, 39, 39, 40, 41, 41, 42, 43, 44, 44, 44, 44, 45, 45, 46, None]\n"
     ]
    }
   ],
   "source": [
    "print(inputs.word_ids())"
   ]
  },
  {
   "cell_type": "code",
   "execution_count": 21,
   "metadata": {
    "id": "0R_tNf4AeYgP"
   },
   "outputs": [],
   "source": [
    "def align_labels_with_tokens(labels, word_ids):\n",
    "    new_labels = []\n",
    "    current_word = None\n",
    "    for word_id in word_ids:\n",
    "        if word_id != current_word:\n",
    "            # Start of a new word\n",
    "            current_word = word_id\n",
    "            label = -100 if word_id is None else labels[word_id]\n",
    "            new_labels.append(label)\n",
    "        elif word_id is None:\n",
    "            # Special token\n",
    "            new_labels.append(-100)\n",
    "        else:\n",
    "            # Same word as precious token\n",
    "            label = labels[word_id]\n",
    "            # If the label is B-XXX we change it to I-XXX\n",
    "            if label % 2 == 1:\n",
    "                label += 1\n",
    "            new_labels.append(label)\n",
    "\n",
    "    return new_labels"
   ]
  },
  {
   "cell_type": "code",
   "execution_count": 22,
   "metadata": {
    "colab": {
     "base_uri": "https://localhost:8080/"
    },
    "id": "OKIHXDQ_oHop",
    "outputId": "8b99064a-6dbf-4b8f-d67e-7349715265d6"
   },
   "outputs": [
    {
     "name": "stdout",
     "output_type": "stream",
     "text": [
      "[0, 0, 5, 0, 0, 0, 0, 0, 0, 0, 0, 0, 0, 0, 0, 0, 0, 0, 0, 0, 0, 0, 0, 0, 0, 0, 0, 0, 0, 0, 0, 0, 0, 0, 0, 3, 4, 0, 0, 0, 0, 0, 0, 0, 0, 5, 0]\n",
      "[-100, 0, 0, 5, 6, 0, 0, 0, 0, 0, 0, 0, 0, 0, 0, 0, 0, 0, 0, 0, 0, 0, 0, 0, 0, 0, 0, 0, 0, 0, 0, 0, 0, 0, 0, 0, 0, 0, 0, 0, 0, 0, 0, 0, 0, 0, 0, 3, 4, 0, 0, 0, 0, 0, 0, 0, 0, 0, 0, 0, 0, 0, 0, 5, 6, 0, -100]\n"
     ]
    }
   ],
   "source": [
    "labels = hg_train['Labels'][0]\n",
    "word_ids = inputs.word_ids()\n",
    "print(labels)\n",
    "print(align_labels_with_tokens(labels, word_ids))"
   ]
  },
  {
   "cell_type": "code",
   "execution_count": 23,
   "metadata": {
    "id": "w0i8P2fFp93C"
   },
   "outputs": [],
   "source": [
    "def tokenize_and_align_labels(examples):\n",
    "    tokenized_inputs = tokenizer(\n",
    "        examples['Text'], truncation=True, is_split_into_words=True\n",
    "    )\n",
    "    all_labels = examples['Labels']\n",
    "    new_labels = []\n",
    "    for i, labels in enumerate(all_labels):\n",
    "        word_ids = tokenized_inputs.word_ids(i)\n",
    "        new_labels.append(align_labels_with_tokens(labels, word_ids))\n",
    "\n",
    "    tokenized_inputs['labels'] = new_labels\n",
    "    return tokenized_inputs"
   ]
  },
  {
   "cell_type": "code",
   "execution_count": 24,
   "metadata": {
    "colab": {
     "base_uri": "https://localhost:8080/",
     "height": 236,
     "referenced_widgets": [
      "64e133e156054076808b8ae0ff26e7d9",
      "bf0ec387c6db4bce9bcd6dc86b676b34",
      "ef9918863a0242fa9509dcf806da5d75",
      "800ef77cf93e419992a34abd90cedfc9",
      "eabf88d9ea0f4091be8b432148f6993e",
      "9cae81f2408849e9bd85b3ad8e353d56",
      "c4f9d65b7d994ddca0d7de03d692fc42",
      "d4d751317c3f46948d6b228de323e04e",
      "143c403ae3a249509bc53044eb0a2e29",
      "61cecc03760a481eb878b2e557524131",
      "c730a79f1bcb48a38647b29da85778d4",
      "927bf83adb4c4e158e077f3b272bec87",
      "9fca9755549f4d19838ce0d643abe7d2",
      "a3a153eded014798a60e60a4db541b40",
      "821d81dfa9b14695a54ecb11f6c0c22d",
      "b149439d5bf44ba0a62c90fa5fc359f3",
      "e29ffef6ef134bfba9ef2b31960ab5d4",
      "5c39fe1d398a4c91a44be62ee218be22",
      "e8f601a5048f4920be293213c4f0dd7b",
      "6efe0a0250814e0c8cc4a6f2a0420e33",
      "58de25ddd253422989b9e79f1e80739b",
      "9089b8618c77418dab68034da770c9ab",
      "f8e3fe80e33e42fab5448edd4135fa87",
      "342ba0f7abb24a1d93baa91968a2fb59",
      "9de159224ee84b2d9bca8e3402208e40",
      "a03a0c0027a646b59219e56cd07017cc",
      "b9318f15b9804b42a03dce7315d1c054",
      "ed6a619c83644f97b9ed5e96630a3f91",
      "73dcd0e7ddff4d358381b0082c7457f4",
      "4013884e349b4484919c3673a11f9c37",
      "2c0c0ab6ebc649baa904ef4297568aa8",
      "dcc4cb23bc4e4f9196377308b1ab020f",
      "3491ca3ce9cd4128a112fc382be8b853"
     ]
    },
    "id": "d_wjTTK7uoJ6",
    "outputId": "182cfa02-1ee4-4006-9b4c-ce1d67bef651"
   },
   "outputs": [
    {
     "data": {
      "application/vnd.jupyter.widget-view+json": {
       "model_id": "",
       "version_major": 2,
       "version_minor": 0
      },
      "text/plain": [
       "Map:   0%|          | 0/7747 [00:00<?, ? examples/s]"
      ]
     },
     "metadata": {},
     "output_type": "display_data"
    },
    {
     "data": {
      "application/vnd.jupyter.widget-view+json": {
       "model_id": "",
       "version_major": 2,
       "version_minor": 0
      },
      "text/plain": [
       "Map:   0%|          | 0/2583 [00:00<?, ? examples/s]"
      ]
     },
     "metadata": {},
     "output_type": "display_data"
    },
    {
     "data": {
      "application/vnd.jupyter.widget-view+json": {
       "model_id": "",
       "version_major": 2,
       "version_minor": 0
      },
      "text/plain": [
       "Map:   0%|          | 0/2583 [00:00<?, ? examples/s]"
      ]
     },
     "metadata": {},
     "output_type": "display_data"
    },
    {
     "name": "stdout",
     "output_type": "stream",
     "text": [
      "Dataset({\n",
      "    features: ['input_ids', 'token_type_ids', 'attention_mask', 'labels'],\n",
      "    num_rows: 7747\n",
      "})\n",
      "Dataset({\n",
      "    features: ['input_ids', 'token_type_ids', 'attention_mask', 'labels'],\n",
      "    num_rows: 2583\n",
      "})\n",
      "Dataset({\n",
      "    features: ['input_ids', 'token_type_ids', 'attention_mask', 'labels'],\n",
      "    num_rows: 2583\n",
      "})\n"
     ]
    }
   ],
   "source": [
    "tokenized_train = hg_train.map(\n",
    "    tokenize_and_align_labels,\n",
    "    batched=True,\n",
    "    remove_columns=hg_train.column_names\n",
    ")\n",
    "\n",
    "tokenized_val = hg_val.map(\n",
    "    tokenize_and_align_labels,\n",
    "    batched=True,\n",
    "    remove_columns=hg_val.column_names\n",
    ")\n",
    "\n",
    "tokenized_test = hg_test.map(\n",
    "    tokenize_and_align_labels,\n",
    "    batched=True,\n",
    "    remove_columns=hg_test.column_names\n",
    ")\n",
    "\n",
    "print(tokenized_train)\n",
    "print(tokenized_val)\n",
    "print(tokenized_test)"
   ]
  },
  {
   "cell_type": "code",
   "execution_count": 25,
   "metadata": {
    "id": "d0e8Xs8qvY5i"
   },
   "outputs": [],
   "source": [
    "data_collator = DataCollatorForTokenClassification(tokenizer=tokenizer)"
   ]
  },
  {
   "cell_type": "code",
   "execution_count": 26,
   "metadata": {
    "colab": {
     "base_uri": "https://localhost:8080/"
    },
    "id": "qYy0v67bwiyp",
    "outputId": "39c56f2e-2b97-4026-95da-f52edac749e9"
   },
   "outputs": [
    {
     "name": "stderr",
     "output_type": "stream",
     "text": [
      "You're using a BertTokenizerFast tokenizer. Please note that with a fast tokenizer, using the `__call__` method is faster than using a method to encode the text followed by a call to the `pad` method to get a padded encoding.\n"
     ]
    },
    {
     "data": {
      "text/plain": [
       "tensor([[-100,    0,    0,    5,    6,    0,    0,    0,    0,    0,    0,    0,\n",
       "            0,    0,    0,    0,    0,    0,    0,    0,    0,    0,    0,    0,\n",
       "            0,    0,    0,    0,    0,    0,    0,    0,    0,    0,    0,    0,\n",
       "            0,    0,    0,    0,    0,    0,    0,    0,    0,    0,    0,    3,\n",
       "            4,    0,    0,    0,    0,    0,    0,    0,    0,    0,    0,    0,\n",
       "            0,    0,    0,    5,    6,    0, -100],\n",
       "        [-100,    0,    0,    3,    0,    0,    0,    0,    0,    0,    0,    0,\n",
       "            0,    0,    0,    0,    0,    0,    0,    0,    0,    0,    0,    5,\n",
       "            6,    6,    0,    0,    0,    0,    0,    0,    0,    0,    1,    2,\n",
       "            0,    0,    0, -100, -100, -100, -100, -100, -100, -100, -100, -100,\n",
       "         -100, -100, -100, -100, -100, -100, -100, -100, -100, -100, -100, -100,\n",
       "         -100, -100, -100, -100, -100, -100, -100]])"
      ]
     },
     "execution_count": 26,
     "metadata": {},
     "output_type": "execute_result"
    }
   ],
   "source": [
    "batch = data_collator([tokenized_train[i] for i in range(2)])\n",
    "batch['labels']"
   ]
  },
  {
   "cell_type": "code",
   "execution_count": 27,
   "metadata": {
    "colab": {
     "base_uri": "https://localhost:8080/",
     "height": 49,
     "referenced_widgets": [
      "852b11f0b562400d8d467e97fa8094d9",
      "2c6c22d7392c4434ae4db68ccfb8ed37",
      "6a25b3d300334307af0d3fb865caa1d3",
      "d43a50d7cf694ce8ae5bf3052f2c767b",
      "75cc90442fd345c88607d8ca66770902",
      "38c7a29a2cd44ece832f964f7ca448d1",
      "793656b83c724ec3bd85b223609db2a8",
      "66ada2bb49ea4808b6d2427127d00fbb",
      "3d837e716bbf4bd48df3c7e721918acb",
      "6069da3e2670469a99260517bbe61b89",
      "ad1603e3143f4d918b7ede6534dbb7bd"
     ]
    },
    "id": "FHD2_SMYw-AR",
    "outputId": "daea7e7f-9601-4654-f677-c2dbd874a791"
   },
   "outputs": [],
   "source": [
    "metric = evaluate.load('seqeval')"
   ]
  },
  {
   "cell_type": "code",
   "execution_count": 28,
   "metadata": {
    "colab": {
     "base_uri": "https://localhost:8080/"
    },
    "id": "6sQ22SPBx2E8",
    "outputId": "a29fc7b3-8a0a-4867-d58a-f94681b959e8"
   },
   "outputs": [
    {
     "name": "stdout",
     "output_type": "stream",
     "text": [
      "['O', 'O', 'B-PER', 'O', 'O', 'O', 'O', 'O', 'O', 'O', 'O', 'O', 'O', 'O', 'O', 'O', 'O', 'O', 'O', 'O', 'O', 'O', 'O', 'O', 'O', 'O', 'O', 'O', 'O', 'O', 'O', 'O', 'O', 'O', 'O', 'B-ORG', 'I-ORG', 'O', 'O', 'O', 'O', 'O', 'O', 'O', 'O', 'B-PER', 'O']\n"
     ]
    }
   ],
   "source": [
    "labels = train_data['Labels'][0]\n",
    "labels = [id2label[i] for i in labels]\n",
    "print(labels)"
   ]
  },
  {
   "cell_type": "code",
   "execution_count": 29,
   "metadata": {
    "colab": {
     "base_uri": "https://localhost:8080/"
    },
    "id": "nFiFwrmpyMVL",
    "outputId": "999b8d06-5169-4e86-fc2d-cdd4051fe058"
   },
   "outputs": [
    {
     "data": {
      "text/plain": [
       "{'ORG': {'precision': 1.0, 'recall': 1.0, 'f1': 1.0, 'number': 1},\n",
       " 'PER': {'precision': 1.0,\n",
       "  'recall': 0.5,\n",
       "  'f1': 0.6666666666666666,\n",
       "  'number': 2},\n",
       " 'overall_precision': 1.0,\n",
       " 'overall_recall': 0.6666666666666666,\n",
       " 'overall_f1': 0.8,\n",
       " 'overall_accuracy': 0.9787234042553191}"
      ]
     },
     "execution_count": 29,
     "metadata": {},
     "output_type": "execute_result"
    }
   ],
   "source": [
    "fake_predictions = labels.copy()\n",
    "fake_predictions[2] = 'O'\n",
    "metric.compute(predictions=[fake_predictions], references=[labels])"
   ]
  },
  {
   "cell_type": "markdown",
   "metadata": {
    "tags": []
   },
   "source": [
    "## Training and evaluating"
   ]
  },
  {
   "cell_type": "code",
   "execution_count": 30,
   "metadata": {
    "id": "fXDibbunzY8m"
   },
   "outputs": [],
   "source": [
    "def compute_metric(eval_preds):\n",
    "    logits, labels = eval_preds\n",
    "    predictions = np.argmax(logits, axis=-1)\n",
    "\n",
    "    # Remove ignored index (special tokens) and convert to labels\n",
    "    true_labels = [[id2label[l] for l in label if l != -100] for label in labels]\n",
    "    true_predictions = [\n",
    "        [id2label[p] for (p, l) in zip(prediction, label) if l != -100]\n",
    "        for prediction, label in zip(predictions, labels)\n",
    "    ]\n",
    "    all_metrics = metric.compute(predictions=true_predictions, references=true_labels)\n",
    "    return {\n",
    "        'precision': all_metrics['overall_precision'],\n",
    "        'recall'   : all_metrics['overall_recall'],\n",
    "        'f1'       : all_metrics['overall_f1'],\n",
    "        'accuracy' : all_metrics['overall_accuracy'],\n",
    "    }"
   ]
  },
  {
   "cell_type": "code",
   "execution_count": 32,
   "metadata": {
    "colab": {
     "base_uri": "https://localhost:8080/",
     "height": 154,
     "referenced_widgets": [
      "783508a466934242b3ed0777ba1df699",
      "c585b096abbe4022aadef21fbc2eb7bd",
      "913fdd9345b9487cb7744afc45ccc83b",
      "3ae6f304afab404da7961726e952d625",
      "d9168c28ff9540b59f79caf57a5692e1",
      "f3505b30977144068d5c4b05b3125858",
      "5b785dfd2e0444a495de01dd5c622442",
      "714a88099a294abeb898b7f86cd489ec",
      "d10fdd7b12c643bba0c151348c13b8c6",
      "e6e47401ce474f49bc6b1aa18de523fd",
      "600b396acb6e4bbbab482289619678e8",
      "580b51e3deeb454fabf9ab063533ba05",
      "0c0663596373468491fb3231471d9ed0",
      "97ec3616c1fc453084a7edcada6cdfa2",
      "072d6e07be39425e87ce0e1578655eda",
      "3256f1f9421849b993c6733f5fb47e1d",
      "bf6913890f1149d6a2adf0e34284f91d",
      "2b09215cf4f74ec2b77bc95199e3853c",
      "33937ffbea4c47c6b0ffb1acf82c3422",
      "c2cbba032a75427ebb4f4d468d300d48",
      "a18e746bc47c4d3cad7adb63d96b12c3",
      "45137ad8f1ed45d5a488a534015d469d"
     ]
    },
    "id": "XjQalSUW4ojM",
    "outputId": "279569e2-bf3e-4fda-c037-e815feada4b3"
   },
   "outputs": [
    {
     "name": "stderr",
     "output_type": "stream",
     "text": [
      "Some weights of BertForTokenClassification were not initialized from the model checkpoint at ./LaBSE_ner_nerel and are newly initialized because the shapes did not match:\n",
      "- classifier.weight: found shape torch.Size([58, 768]) in the checkpoint and torch.Size([7, 768]) in the model instantiated\n",
      "- classifier.bias: found shape torch.Size([58]) in the checkpoint and torch.Size([7]) in the model instantiated\n",
      "You should probably TRAIN this model on a down-stream task to be able to use it for predictions and inference.\n"
     ]
    }
   ],
   "source": [
    "model = AutoModelForTokenClassification.from_pretrained(\n",
    "    model_checkpoint,\n",
    "    id2label=id2label,\n",
    "    label2id=label2id,\n",
    "    ignore_mismatched_sizes=True,\n",
    ")"
   ]
  },
  {
   "cell_type": "code",
   "execution_count": 33,
   "metadata": {
    "colab": {
     "base_uri": "https://localhost:8080/"
    },
    "id": "2LTHmmbm43QA",
    "outputId": "aef05f63-28db-4ab3-861a-127904e4150c"
   },
   "outputs": [],
   "source": [
    "args = TrainingArguments(\n",
    "    model_checkpoint,\n",
    "    evaluation_strategy='epoch',\n",
    "    save_strategy='epoch',\n",
    "    learning_rate=2e-5,\n",
    "    num_train_epochs=3,\n",
    "    weight_decay=0.01,\n",
    "    # per_device_train_batch_size=2,\n",
    "    # per_device_eval_batch_size=2,\n",
    "    # per_gpu_train_batch_size=8\n",
    ")"
   ]
  },
  {
   "cell_type": "code",
   "execution_count": 34,
   "metadata": {
    "colab": {
     "base_uri": "https://localhost:8080/",
     "height": 474
    },
    "id": "XOQfRaiO7nW2",
    "outputId": "36c48d0a-e925-4583-8870-c7bc0ecb0ac5"
   },
   "outputs": [
    {
     "name": "stderr",
     "output_type": "stream",
     "text": [
      "C:\\ProgramData\\Anaconda3\\envs\\pytorch_1\\lib\\site-packages\\transformers\\optimization.py:306: FutureWarning: This implementation of AdamW is deprecated and will be removed in a future version. Use the PyTorch implementation torch.optim.AdamW instead, or set `no_deprecation_warning=True` to disable this warning\n",
      "  warnings.warn(\n",
      "***** Running training *****\n",
      "  Num examples = 7747\n",
      "  Num Epochs = 3\n",
      "  Instantaneous batch size per device = 8\n",
      "  Total train batch size (w. parallel, distributed & accumulation) = 8\n",
      "  Gradient Accumulation steps = 1\n",
      "  Total optimization steps = 2907\n",
      "  Number of trainable parameters = 127759879\n"
     ]
    },
    {
     "data": {
      "text/html": [
       "\n",
       "    <div>\n",
       "      \n",
       "      <progress value='2907' max='2907' style='width:300px; height:20px; vertical-align: middle;'></progress>\n",
       "      [2907/2907 05:34, Epoch 3/3]\n",
       "    </div>\n",
       "    <table border=\"1\" class=\"dataframe\">\n",
       "  <thead>\n",
       " <tr style=\"text-align: left;\">\n",
       "      <th>Epoch</th>\n",
       "      <th>Training Loss</th>\n",
       "      <th>Validation Loss</th>\n",
       "      <th>Precision</th>\n",
       "      <th>Recall</th>\n",
       "      <th>F1</th>\n",
       "      <th>Accuracy</th>\n",
       "    </tr>\n",
       "  </thead>\n",
       "  <tbody>\n",
       "    <tr>\n",
       "      <td>1</td>\n",
       "      <td>0.089100</td>\n",
       "      <td>0.035708</td>\n",
       "      <td>0.962553</td>\n",
       "      <td>0.966616</td>\n",
       "      <td>0.964580</td>\n",
       "      <td>0.991950</td>\n",
       "    </tr>\n",
       "    <tr>\n",
       "      <td>2</td>\n",
       "      <td>0.018300</td>\n",
       "      <td>0.028382</td>\n",
       "      <td>0.972896</td>\n",
       "      <td>0.977936</td>\n",
       "      <td>0.975409</td>\n",
       "      <td>0.993894</td>\n",
       "    </tr>\n",
       "    <tr>\n",
       "      <td>3</td>\n",
       "      <td>0.006400</td>\n",
       "      <td>0.026965</td>\n",
       "      <td>0.971957</td>\n",
       "      <td>0.977552</td>\n",
       "      <td>0.974747</td>\n",
       "      <td>0.994646</td>\n",
       "    </tr>\n",
       "  </tbody>\n",
       "</table><p>"
      ],
      "text/plain": [
       "<IPython.core.display.HTML object>"
      ]
     },
     "metadata": {},
     "output_type": "display_data"
    },
    {
     "name": "stderr",
     "output_type": "stream",
     "text": [
      "***** Running Evaluation *****\n",
      "  Num examples = 2583\n",
      "  Batch size = 8\n",
      "Saving model checkpoint to ./LaBSE_ner_nerel\\checkpoint-969\n",
      "Configuration saved in ./LaBSE_ner_nerel\\checkpoint-969\\config.json\n",
      "Model weights saved in ./LaBSE_ner_nerel\\checkpoint-969\\pytorch_model.bin\n",
      "tokenizer config file saved in ./LaBSE_ner_nerel\\checkpoint-969\\tokenizer_config.json\n",
      "Special tokens file saved in ./LaBSE_ner_nerel\\checkpoint-969\\special_tokens_map.json\n",
      "***** Running Evaluation *****\n",
      "  Num examples = 2583\n",
      "  Batch size = 8\n",
      "Saving model checkpoint to ./LaBSE_ner_nerel\\checkpoint-1938\n",
      "Configuration saved in ./LaBSE_ner_nerel\\checkpoint-1938\\config.json\n",
      "Model weights saved in ./LaBSE_ner_nerel\\checkpoint-1938\\pytorch_model.bin\n",
      "tokenizer config file saved in ./LaBSE_ner_nerel\\checkpoint-1938\\tokenizer_config.json\n",
      "Special tokens file saved in ./LaBSE_ner_nerel\\checkpoint-1938\\special_tokens_map.json\n",
      "***** Running Evaluation *****\n",
      "  Num examples = 2583\n",
      "  Batch size = 8\n",
      "Saving model checkpoint to ./LaBSE_ner_nerel\\checkpoint-2907\n",
      "Configuration saved in ./LaBSE_ner_nerel\\checkpoint-2907\\config.json\n",
      "Model weights saved in ./LaBSE_ner_nerel\\checkpoint-2907\\pytorch_model.bin\n",
      "tokenizer config file saved in ./LaBSE_ner_nerel\\checkpoint-2907\\tokenizer_config.json\n",
      "Special tokens file saved in ./LaBSE_ner_nerel\\checkpoint-2907\\special_tokens_map.json\n",
      "\n",
      "\n",
      "Training completed. Do not forget to share your model on huggingface.co/models =)\n",
      "\n",
      "\n"
     ]
    },
    {
     "data": {
      "text/plain": [
       "TrainOutput(global_step=2907, training_loss=0.029457506544613783, metrics={'train_runtime': 336.9097, 'train_samples_per_second': 68.983, 'train_steps_per_second': 8.628, 'total_flos': 723405212214564.0, 'train_loss': 0.029457506544613783, 'epoch': 3.0})"
      ]
     },
     "execution_count": 34,
     "metadata": {},
     "output_type": "execute_result"
    }
   ],
   "source": [
    "trainer = Trainer(\n",
    "    model=model,\n",
    "    args=args,\n",
    "    train_dataset=tokenized_train,\n",
    "    eval_dataset=tokenized_val,\n",
    "    data_collator=data_collator,\n",
    "    compute_metrics=compute_metric,\n",
    "    tokenizer=tokenizer,\n",
    ")\n",
    "\n",
    "trainer.train()"
   ]
  },
  {
   "cell_type": "code",
   "execution_count": 35,
   "metadata": {
    "id": "gth0qP-Z8QaO",
    "outputId": "cd152210-e92a-42cc-9840-dd48371ac518"
   },
   "outputs": [
    {
     "name": "stderr",
     "output_type": "stream",
     "text": [
      "***** Running Prediction *****\n",
      "  Num examples = 2583\n",
      "  Batch size = 8\n"
     ]
    },
    {
     "data": {
      "text/html": [],
      "text/plain": [
       "<IPython.core.display.HTML object>"
      ]
     },
     "metadata": {},
     "output_type": "display_data"
    }
   ],
   "source": [
    "predictions = trainer.predict(tokenized_test)"
   ]
  },
  {
   "cell_type": "code",
   "execution_count": null,
   "metadata": {
    "id": "gqyzjp3A3i5H",
    "outputId": "1437898c-6d84-48df-88af-1ac92e27bf08"
   },
   "outputs": [
    {
     "data": {
      "text/plain": [
       "Dataset({\n",
       "    features: ['input_ids', 'token_type_ids', 'attention_mask', 'labels'],\n",
       "    num_rows: 2583\n",
       "})"
      ]
     },
     "execution_count": 48,
     "metadata": {},
     "output_type": "execute_result"
    }
   ],
   "source": [
    "tokenized_test"
   ]
  },
  {
   "cell_type": "code",
   "execution_count": 36,
   "metadata": {
    "id": "1aW-DpLR3i5I",
    "outputId": "515e5f46-4b75-4cd8-ecfb-081190817584"
   },
   "outputs": [
    {
     "data": {
      "text/plain": [
       "{'test_loss': 0.02278028428554535,\n",
       " 'test_precision': 0.97513160283173,\n",
       " 'test_recall': 0.979219832300401,\n",
       " 'test_f1': 0.9771714415643474,\n",
       " 'test_accuracy': 0.9952530654676169,\n",
       " 'test_runtime': 7.3641,\n",
       " 'test_samples_per_second': 350.755,\n",
       " 'test_steps_per_second': 43.861}"
      ]
     },
     "execution_count": 36,
     "metadata": {},
     "output_type": "execute_result"
    }
   ],
   "source": [
    "(predictions[2])"
   ]
  },
  {
   "cell_type": "code",
   "execution_count": 73,
   "metadata": {},
   "outputs": [
    {
     "data": {
      "text/plain": [
       "(2583, 368, 7)"
      ]
     },
     "execution_count": 73,
     "metadata": {},
     "output_type": "execute_result"
    }
   ],
   "source": [
    "predictions[0].shape"
   ]
  },
  {
   "cell_type": "code",
   "execution_count": 76,
   "metadata": {},
   "outputs": [
    {
     "name": "stdout",
     "output_type": "stream",
     "text": [
      "950544\n"
     ]
    }
   ],
   "source": [
    "labels_true = [l for s in tokenized_test['labels'] for l in s+[-100]*(predictions[0].shape[1] - len(s))]\n",
    "labels_true = [0 if l==-100 else l for l in labels_true]\n",
    "print(len(labels_true))\n",
    "\n",
    "labels_pred = [np.argmax(l) for s in predictions[0] for l in s]\n",
    "\n",
    "assert len(labels_true)==len(labels_pred)"
   ]
  },
  {
   "cell_type": "code",
   "execution_count": 77,
   "metadata": {},
   "outputs": [
    {
     "name": "stdout",
     "output_type": "stream",
     "text": [
      "labels_true: Counter({0: 933118, 6: 6501, 4: 3735, 5: 2150, 2: 1798, 3: 1734, 1: 1508})\n",
      "labels_pred: Counter({0: 932652, 6: 6785, 4: 3859, 5: 2159, 2: 1831, 3: 1746, 1: 1512})\n"
     ]
    }
   ],
   "source": [
    "print(f'labels_true: {Counter(labels_true)}')\n",
    "print(f'labels_pred: {Counter(labels_pred)}')"
   ]
  },
  {
   "cell_type": "code",
   "execution_count": 78,
   "metadata": {
    "id": "s3T0v6Z03i5I"
   },
   "outputs": [
    {
     "name": "stdout",
     "output_type": "stream",
     "text": [
      "              precision    recall  f1-score   support\n",
      "\n",
      "           1       0.98      0.98      0.98      1508\n",
      "           2       0.96      0.98      0.97      1798\n",
      "           3       0.97      0.98      0.98      1734\n",
      "           4       0.94      0.97      0.95      3735\n",
      "           5       0.99      0.99      0.99      2150\n",
      "           6       0.95      1.00      0.98      6501\n",
      "\n",
      "   micro avg       0.96      0.99      0.97     17426\n",
      "   macro avg       0.97      0.98      0.97     17426\n",
      "weighted avg       0.96      0.99      0.97     17426\n",
      "\n"
     ]
    }
   ],
   "source": [
    "print(metrics.classification_report(labels_true, labels_pred, labels=list(id2label.keys())[1:]))"
   ]
  },
  {
   "cell_type": "markdown",
   "metadata": {},
   "source": [
    "In comparison with first model based on CRF our f1-score (weighted avg) significantly improved from 0.91 to 0.97 "
   ]
  },
  {
   "cell_type": "code",
   "execution_count": null,
   "metadata": {},
   "outputs": [],
   "source": []
  }
 ],
 "metadata": {
  "colab": {
   "provenance": []
  },
  "kernelspec": {
   "display_name": "Python 3 (ipykernel)",
   "language": "python",
   "name": "python3"
  },
  "language_info": {
   "codemirror_mode": {
    "name": "ipython",
    "version": 3
   },
   "file_extension": ".py",
   "mimetype": "text/x-python",
   "name": "python",
   "nbconvert_exporter": "python",
   "pygments_lexer": "ipython3",
   "version": "3.9.16"
  },
  "widgets": {
   "application/vnd.jupyter.widget-state+json": {
    "072d6e07be39425e87ce0e1578655eda": {
     "model_module": "@jupyter-widgets/controls",
     "model_module_version": "1.5.0",
     "model_name": "HTMLModel",
     "state": {
      "_dom_classes": [],
      "_model_module": "@jupyter-widgets/controls",
      "_model_module_version": "1.5.0",
      "_model_name": "HTMLModel",
      "_view_count": null,
      "_view_module": "@jupyter-widgets/controls",
      "_view_module_version": "1.5.0",
      "_view_name": "HTMLView",
      "description": "",
      "description_tooltip": null,
      "layout": "IPY_MODEL_a18e746bc47c4d3cad7adb63d96b12c3",
      "placeholder": "​",
      "style": "IPY_MODEL_45137ad8f1ed45d5a488a534015d469d",
      "value": " 511M/511M [00:08&lt;00:00, 66.6MB/s]"
     }
    },
    "0c0663596373468491fb3231471d9ed0": {
     "model_module": "@jupyter-widgets/controls",
     "model_module_version": "1.5.0",
     "model_name": "HTMLModel",
     "state": {
      "_dom_classes": [],
      "_model_module": "@jupyter-widgets/controls",
      "_model_module_version": "1.5.0",
      "_model_name": "HTMLModel",
      "_view_count": null,
      "_view_module": "@jupyter-widgets/controls",
      "_view_module_version": "1.5.0",
      "_view_name": "HTMLView",
      "description": "",
      "description_tooltip": null,
      "layout": "IPY_MODEL_bf6913890f1149d6a2adf0e34284f91d",
      "placeholder": "​",
      "style": "IPY_MODEL_2b09215cf4f74ec2b77bc95199e3853c",
      "value": "Downloading pytorch_model.bin: 100%"
     }
    },
    "143c403ae3a249509bc53044eb0a2e29": {
     "model_module": "@jupyter-widgets/controls",
     "model_module_version": "1.5.0",
     "model_name": "ProgressStyleModel",
     "state": {
      "_model_module": "@jupyter-widgets/controls",
      "_model_module_version": "1.5.0",
      "_model_name": "ProgressStyleModel",
      "_view_count": null,
      "_view_module": "@jupyter-widgets/base",
      "_view_module_version": "1.2.0",
      "_view_name": "StyleView",
      "bar_color": null,
      "description_width": ""
     }
    },
    "2b09215cf4f74ec2b77bc95199e3853c": {
     "model_module": "@jupyter-widgets/controls",
     "model_module_version": "1.5.0",
     "model_name": "DescriptionStyleModel",
     "state": {
      "_model_module": "@jupyter-widgets/controls",
      "_model_module_version": "1.5.0",
      "_model_name": "DescriptionStyleModel",
      "_view_count": null,
      "_view_module": "@jupyter-widgets/base",
      "_view_module_version": "1.2.0",
      "_view_name": "StyleView",
      "description_width": ""
     }
    },
    "2c0c0ab6ebc649baa904ef4297568aa8": {
     "model_module": "@jupyter-widgets/controls",
     "model_module_version": "1.5.0",
     "model_name": "ProgressStyleModel",
     "state": {
      "_model_module": "@jupyter-widgets/controls",
      "_model_module_version": "1.5.0",
      "_model_name": "ProgressStyleModel",
      "_view_count": null,
      "_view_module": "@jupyter-widgets/base",
      "_view_module_version": "1.2.0",
      "_view_name": "StyleView",
      "bar_color": null,
      "description_width": ""
     }
    },
    "2c6c22d7392c4434ae4db68ccfb8ed37": {
     "model_module": "@jupyter-widgets/controls",
     "model_module_version": "1.5.0",
     "model_name": "HTMLModel",
     "state": {
      "_dom_classes": [],
      "_model_module": "@jupyter-widgets/controls",
      "_model_module_version": "1.5.0",
      "_model_name": "HTMLModel",
      "_view_count": null,
      "_view_module": "@jupyter-widgets/controls",
      "_view_module_version": "1.5.0",
      "_view_name": "HTMLView",
      "description": "",
      "description_tooltip": null,
      "layout": "IPY_MODEL_38c7a29a2cd44ece832f964f7ca448d1",
      "placeholder": "​",
      "style": "IPY_MODEL_793656b83c724ec3bd85b223609db2a8",
      "value": "Downloading builder script: 100%"
     }
    },
    "3256f1f9421849b993c6733f5fb47e1d": {
     "model_module": "@jupyter-widgets/base",
     "model_module_version": "1.2.0",
     "model_name": "LayoutModel",
     "state": {
      "_model_module": "@jupyter-widgets/base",
      "_model_module_version": "1.2.0",
      "_model_name": "LayoutModel",
      "_view_count": null,
      "_view_module": "@jupyter-widgets/base",
      "_view_module_version": "1.2.0",
      "_view_name": "LayoutView",
      "align_content": null,
      "align_items": null,
      "align_self": null,
      "border": null,
      "bottom": null,
      "display": null,
      "flex": null,
      "flex_flow": null,
      "grid_area": null,
      "grid_auto_columns": null,
      "grid_auto_flow": null,
      "grid_auto_rows": null,
      "grid_column": null,
      "grid_gap": null,
      "grid_row": null,
      "grid_template_areas": null,
      "grid_template_columns": null,
      "grid_template_rows": null,
      "height": null,
      "justify_content": null,
      "justify_items": null,
      "left": null,
      "margin": null,
      "max_height": null,
      "max_width": null,
      "min_height": null,
      "min_width": null,
      "object_fit": null,
      "object_position": null,
      "order": null,
      "overflow": null,
      "overflow_x": null,
      "overflow_y": null,
      "padding": null,
      "right": null,
      "top": null,
      "visibility": null,
      "width": null
     }
    },
    "33937ffbea4c47c6b0ffb1acf82c3422": {
     "model_module": "@jupyter-widgets/base",
     "model_module_version": "1.2.0",
     "model_name": "LayoutModel",
     "state": {
      "_model_module": "@jupyter-widgets/base",
      "_model_module_version": "1.2.0",
      "_model_name": "LayoutModel",
      "_view_count": null,
      "_view_module": "@jupyter-widgets/base",
      "_view_module_version": "1.2.0",
      "_view_name": "LayoutView",
      "align_content": null,
      "align_items": null,
      "align_self": null,
      "border": null,
      "bottom": null,
      "display": null,
      "flex": null,
      "flex_flow": null,
      "grid_area": null,
      "grid_auto_columns": null,
      "grid_auto_flow": null,
      "grid_auto_rows": null,
      "grid_column": null,
      "grid_gap": null,
      "grid_row": null,
      "grid_template_areas": null,
      "grid_template_columns": null,
      "grid_template_rows": null,
      "height": null,
      "justify_content": null,
      "justify_items": null,
      "left": null,
      "margin": null,
      "max_height": null,
      "max_width": null,
      "min_height": null,
      "min_width": null,
      "object_fit": null,
      "object_position": null,
      "order": null,
      "overflow": null,
      "overflow_x": null,
      "overflow_y": null,
      "padding": null,
      "right": null,
      "top": null,
      "visibility": null,
      "width": null
     }
    },
    "342ba0f7abb24a1d93baa91968a2fb59": {
     "model_module": "@jupyter-widgets/controls",
     "model_module_version": "1.5.0",
     "model_name": "HTMLModel",
     "state": {
      "_dom_classes": [],
      "_model_module": "@jupyter-widgets/controls",
      "_model_module_version": "1.5.0",
      "_model_name": "HTMLModel",
      "_view_count": null,
      "_view_module": "@jupyter-widgets/controls",
      "_view_module_version": "1.5.0",
      "_view_name": "HTMLView",
      "description": "",
      "description_tooltip": null,
      "layout": "IPY_MODEL_ed6a619c83644f97b9ed5e96630a3f91",
      "placeholder": "​",
      "style": "IPY_MODEL_73dcd0e7ddff4d358381b0082c7457f4",
      "value": "Map: 100%"
     }
    },
    "3491ca3ce9cd4128a112fc382be8b853": {
     "model_module": "@jupyter-widgets/controls",
     "model_module_version": "1.5.0",
     "model_name": "DescriptionStyleModel",
     "state": {
      "_model_module": "@jupyter-widgets/controls",
      "_model_module_version": "1.5.0",
      "_model_name": "DescriptionStyleModel",
      "_view_count": null,
      "_view_module": "@jupyter-widgets/base",
      "_view_module_version": "1.2.0",
      "_view_name": "StyleView",
      "description_width": ""
     }
    },
    "38c7a29a2cd44ece832f964f7ca448d1": {
     "model_module": "@jupyter-widgets/base",
     "model_module_version": "1.2.0",
     "model_name": "LayoutModel",
     "state": {
      "_model_module": "@jupyter-widgets/base",
      "_model_module_version": "1.2.0",
      "_model_name": "LayoutModel",
      "_view_count": null,
      "_view_module": "@jupyter-widgets/base",
      "_view_module_version": "1.2.0",
      "_view_name": "LayoutView",
      "align_content": null,
      "align_items": null,
      "align_self": null,
      "border": null,
      "bottom": null,
      "display": null,
      "flex": null,
      "flex_flow": null,
      "grid_area": null,
      "grid_auto_columns": null,
      "grid_auto_flow": null,
      "grid_auto_rows": null,
      "grid_column": null,
      "grid_gap": null,
      "grid_row": null,
      "grid_template_areas": null,
      "grid_template_columns": null,
      "grid_template_rows": null,
      "height": null,
      "justify_content": null,
      "justify_items": null,
      "left": null,
      "margin": null,
      "max_height": null,
      "max_width": null,
      "min_height": null,
      "min_width": null,
      "object_fit": null,
      "object_position": null,
      "order": null,
      "overflow": null,
      "overflow_x": null,
      "overflow_y": null,
      "padding": null,
      "right": null,
      "top": null,
      "visibility": null,
      "width": null
     }
    },
    "3ae6f304afab404da7961726e952d625": {
     "model_module": "@jupyter-widgets/controls",
     "model_module_version": "1.5.0",
     "model_name": "HTMLModel",
     "state": {
      "_dom_classes": [],
      "_model_module": "@jupyter-widgets/controls",
      "_model_module_version": "1.5.0",
      "_model_name": "HTMLModel",
      "_view_count": null,
      "_view_module": "@jupyter-widgets/controls",
      "_view_module_version": "1.5.0",
      "_view_name": "HTMLView",
      "description": "",
      "description_tooltip": null,
      "layout": "IPY_MODEL_e6e47401ce474f49bc6b1aa18de523fd",
      "placeholder": "​",
      "style": "IPY_MODEL_600b396acb6e4bbbab482289619678e8",
      "value": " 3.55k/3.55k [00:00&lt;00:00, 123kB/s]"
     }
    },
    "3d837e716bbf4bd48df3c7e721918acb": {
     "model_module": "@jupyter-widgets/controls",
     "model_module_version": "1.5.0",
     "model_name": "ProgressStyleModel",
     "state": {
      "_model_module": "@jupyter-widgets/controls",
      "_model_module_version": "1.5.0",
      "_model_name": "ProgressStyleModel",
      "_view_count": null,
      "_view_module": "@jupyter-widgets/base",
      "_view_module_version": "1.2.0",
      "_view_name": "StyleView",
      "bar_color": null,
      "description_width": ""
     }
    },
    "4013884e349b4484919c3673a11f9c37": {
     "model_module": "@jupyter-widgets/base",
     "model_module_version": "1.2.0",
     "model_name": "LayoutModel",
     "state": {
      "_model_module": "@jupyter-widgets/base",
      "_model_module_version": "1.2.0",
      "_model_name": "LayoutModel",
      "_view_count": null,
      "_view_module": "@jupyter-widgets/base",
      "_view_module_version": "1.2.0",
      "_view_name": "LayoutView",
      "align_content": null,
      "align_items": null,
      "align_self": null,
      "border": null,
      "bottom": null,
      "display": null,
      "flex": null,
      "flex_flow": null,
      "grid_area": null,
      "grid_auto_columns": null,
      "grid_auto_flow": null,
      "grid_auto_rows": null,
      "grid_column": null,
      "grid_gap": null,
      "grid_row": null,
      "grid_template_areas": null,
      "grid_template_columns": null,
      "grid_template_rows": null,
      "height": null,
      "justify_content": null,
      "justify_items": null,
      "left": null,
      "margin": null,
      "max_height": null,
      "max_width": null,
      "min_height": null,
      "min_width": null,
      "object_fit": null,
      "object_position": null,
      "order": null,
      "overflow": null,
      "overflow_x": null,
      "overflow_y": null,
      "padding": null,
      "right": null,
      "top": null,
      "visibility": null,
      "width": null
     }
    },
    "45137ad8f1ed45d5a488a534015d469d": {
     "model_module": "@jupyter-widgets/controls",
     "model_module_version": "1.5.0",
     "model_name": "DescriptionStyleModel",
     "state": {
      "_model_module": "@jupyter-widgets/controls",
      "_model_module_version": "1.5.0",
      "_model_name": "DescriptionStyleModel",
      "_view_count": null,
      "_view_module": "@jupyter-widgets/base",
      "_view_module_version": "1.2.0",
      "_view_name": "StyleView",
      "description_width": ""
     }
    },
    "580b51e3deeb454fabf9ab063533ba05": {
     "model_module": "@jupyter-widgets/controls",
     "model_module_version": "1.5.0",
     "model_name": "HBoxModel",
     "state": {
      "_dom_classes": [],
      "_model_module": "@jupyter-widgets/controls",
      "_model_module_version": "1.5.0",
      "_model_name": "HBoxModel",
      "_view_count": null,
      "_view_module": "@jupyter-widgets/controls",
      "_view_module_version": "1.5.0",
      "_view_name": "HBoxView",
      "box_style": "",
      "children": [
       "IPY_MODEL_0c0663596373468491fb3231471d9ed0",
       "IPY_MODEL_97ec3616c1fc453084a7edcada6cdfa2",
       "IPY_MODEL_072d6e07be39425e87ce0e1578655eda"
      ],
      "layout": "IPY_MODEL_3256f1f9421849b993c6733f5fb47e1d"
     }
    },
    "58de25ddd253422989b9e79f1e80739b": {
     "model_module": "@jupyter-widgets/base",
     "model_module_version": "1.2.0",
     "model_name": "LayoutModel",
     "state": {
      "_model_module": "@jupyter-widgets/base",
      "_model_module_version": "1.2.0",
      "_model_name": "LayoutModel",
      "_view_count": null,
      "_view_module": "@jupyter-widgets/base",
      "_view_module_version": "1.2.0",
      "_view_name": "LayoutView",
      "align_content": null,
      "align_items": null,
      "align_self": null,
      "border": null,
      "bottom": null,
      "display": null,
      "flex": null,
      "flex_flow": null,
      "grid_area": null,
      "grid_auto_columns": null,
      "grid_auto_flow": null,
      "grid_auto_rows": null,
      "grid_column": null,
      "grid_gap": null,
      "grid_row": null,
      "grid_template_areas": null,
      "grid_template_columns": null,
      "grid_template_rows": null,
      "height": null,
      "justify_content": null,
      "justify_items": null,
      "left": null,
      "margin": null,
      "max_height": null,
      "max_width": null,
      "min_height": null,
      "min_width": null,
      "object_fit": null,
      "object_position": null,
      "order": null,
      "overflow": null,
      "overflow_x": null,
      "overflow_y": null,
      "padding": null,
      "right": null,
      "top": null,
      "visibility": null,
      "width": null
     }
    },
    "5b785dfd2e0444a495de01dd5c622442": {
     "model_module": "@jupyter-widgets/controls",
     "model_module_version": "1.5.0",
     "model_name": "DescriptionStyleModel",
     "state": {
      "_model_module": "@jupyter-widgets/controls",
      "_model_module_version": "1.5.0",
      "_model_name": "DescriptionStyleModel",
      "_view_count": null,
      "_view_module": "@jupyter-widgets/base",
      "_view_module_version": "1.2.0",
      "_view_name": "StyleView",
      "description_width": ""
     }
    },
    "5c39fe1d398a4c91a44be62ee218be22": {
     "model_module": "@jupyter-widgets/controls",
     "model_module_version": "1.5.0",
     "model_name": "DescriptionStyleModel",
     "state": {
      "_model_module": "@jupyter-widgets/controls",
      "_model_module_version": "1.5.0",
      "_model_name": "DescriptionStyleModel",
      "_view_count": null,
      "_view_module": "@jupyter-widgets/base",
      "_view_module_version": "1.2.0",
      "_view_name": "StyleView",
      "description_width": ""
     }
    },
    "600b396acb6e4bbbab482289619678e8": {
     "model_module": "@jupyter-widgets/controls",
     "model_module_version": "1.5.0",
     "model_name": "DescriptionStyleModel",
     "state": {
      "_model_module": "@jupyter-widgets/controls",
      "_model_module_version": "1.5.0",
      "_model_name": "DescriptionStyleModel",
      "_view_count": null,
      "_view_module": "@jupyter-widgets/base",
      "_view_module_version": "1.2.0",
      "_view_name": "StyleView",
      "description_width": ""
     }
    },
    "6069da3e2670469a99260517bbe61b89": {
     "model_module": "@jupyter-widgets/base",
     "model_module_version": "1.2.0",
     "model_name": "LayoutModel",
     "state": {
      "_model_module": "@jupyter-widgets/base",
      "_model_module_version": "1.2.0",
      "_model_name": "LayoutModel",
      "_view_count": null,
      "_view_module": "@jupyter-widgets/base",
      "_view_module_version": "1.2.0",
      "_view_name": "LayoutView",
      "align_content": null,
      "align_items": null,
      "align_self": null,
      "border": null,
      "bottom": null,
      "display": null,
      "flex": null,
      "flex_flow": null,
      "grid_area": null,
      "grid_auto_columns": null,
      "grid_auto_flow": null,
      "grid_auto_rows": null,
      "grid_column": null,
      "grid_gap": null,
      "grid_row": null,
      "grid_template_areas": null,
      "grid_template_columns": null,
      "grid_template_rows": null,
      "height": null,
      "justify_content": null,
      "justify_items": null,
      "left": null,
      "margin": null,
      "max_height": null,
      "max_width": null,
      "min_height": null,
      "min_width": null,
      "object_fit": null,
      "object_position": null,
      "order": null,
      "overflow": null,
      "overflow_x": null,
      "overflow_y": null,
      "padding": null,
      "right": null,
      "top": null,
      "visibility": null,
      "width": null
     }
    },
    "61cecc03760a481eb878b2e557524131": {
     "model_module": "@jupyter-widgets/base",
     "model_module_version": "1.2.0",
     "model_name": "LayoutModel",
     "state": {
      "_model_module": "@jupyter-widgets/base",
      "_model_module_version": "1.2.0",
      "_model_name": "LayoutModel",
      "_view_count": null,
      "_view_module": "@jupyter-widgets/base",
      "_view_module_version": "1.2.0",
      "_view_name": "LayoutView",
      "align_content": null,
      "align_items": null,
      "align_self": null,
      "border": null,
      "bottom": null,
      "display": null,
      "flex": null,
      "flex_flow": null,
      "grid_area": null,
      "grid_auto_columns": null,
      "grid_auto_flow": null,
      "grid_auto_rows": null,
      "grid_column": null,
      "grid_gap": null,
      "grid_row": null,
      "grid_template_areas": null,
      "grid_template_columns": null,
      "grid_template_rows": null,
      "height": null,
      "justify_content": null,
      "justify_items": null,
      "left": null,
      "margin": null,
      "max_height": null,
      "max_width": null,
      "min_height": null,
      "min_width": null,
      "object_fit": null,
      "object_position": null,
      "order": null,
      "overflow": null,
      "overflow_x": null,
      "overflow_y": null,
      "padding": null,
      "right": null,
      "top": null,
      "visibility": null,
      "width": null
     }
    },
    "64e133e156054076808b8ae0ff26e7d9": {
     "model_module": "@jupyter-widgets/controls",
     "model_module_version": "1.5.0",
     "model_name": "HBoxModel",
     "state": {
      "_dom_classes": [],
      "_model_module": "@jupyter-widgets/controls",
      "_model_module_version": "1.5.0",
      "_model_name": "HBoxModel",
      "_view_count": null,
      "_view_module": "@jupyter-widgets/controls",
      "_view_module_version": "1.5.0",
      "_view_name": "HBoxView",
      "box_style": "",
      "children": [
       "IPY_MODEL_bf0ec387c6db4bce9bcd6dc86b676b34",
       "IPY_MODEL_ef9918863a0242fa9509dcf806da5d75",
       "IPY_MODEL_800ef77cf93e419992a34abd90cedfc9"
      ],
      "layout": "IPY_MODEL_eabf88d9ea0f4091be8b432148f6993e"
     }
    },
    "66ada2bb49ea4808b6d2427127d00fbb": {
     "model_module": "@jupyter-widgets/base",
     "model_module_version": "1.2.0",
     "model_name": "LayoutModel",
     "state": {
      "_model_module": "@jupyter-widgets/base",
      "_model_module_version": "1.2.0",
      "_model_name": "LayoutModel",
      "_view_count": null,
      "_view_module": "@jupyter-widgets/base",
      "_view_module_version": "1.2.0",
      "_view_name": "LayoutView",
      "align_content": null,
      "align_items": null,
      "align_self": null,
      "border": null,
      "bottom": null,
      "display": null,
      "flex": null,
      "flex_flow": null,
      "grid_area": null,
      "grid_auto_columns": null,
      "grid_auto_flow": null,
      "grid_auto_rows": null,
      "grid_column": null,
      "grid_gap": null,
      "grid_row": null,
      "grid_template_areas": null,
      "grid_template_columns": null,
      "grid_template_rows": null,
      "height": null,
      "justify_content": null,
      "justify_items": null,
      "left": null,
      "margin": null,
      "max_height": null,
      "max_width": null,
      "min_height": null,
      "min_width": null,
      "object_fit": null,
      "object_position": null,
      "order": null,
      "overflow": null,
      "overflow_x": null,
      "overflow_y": null,
      "padding": null,
      "right": null,
      "top": null,
      "visibility": null,
      "width": null
     }
    },
    "6a25b3d300334307af0d3fb865caa1d3": {
     "model_module": "@jupyter-widgets/controls",
     "model_module_version": "1.5.0",
     "model_name": "FloatProgressModel",
     "state": {
      "_dom_classes": [],
      "_model_module": "@jupyter-widgets/controls",
      "_model_module_version": "1.5.0",
      "_model_name": "FloatProgressModel",
      "_view_count": null,
      "_view_module": "@jupyter-widgets/controls",
      "_view_module_version": "1.5.0",
      "_view_name": "ProgressView",
      "bar_style": "success",
      "description": "",
      "description_tooltip": null,
      "layout": "IPY_MODEL_66ada2bb49ea4808b6d2427127d00fbb",
      "max": 6338,
      "min": 0,
      "orientation": "horizontal",
      "style": "IPY_MODEL_3d837e716bbf4bd48df3c7e721918acb",
      "value": 6338
     }
    },
    "6efe0a0250814e0c8cc4a6f2a0420e33": {
     "model_module": "@jupyter-widgets/controls",
     "model_module_version": "1.5.0",
     "model_name": "ProgressStyleModel",
     "state": {
      "_model_module": "@jupyter-widgets/controls",
      "_model_module_version": "1.5.0",
      "_model_name": "ProgressStyleModel",
      "_view_count": null,
      "_view_module": "@jupyter-widgets/base",
      "_view_module_version": "1.2.0",
      "_view_name": "StyleView",
      "bar_color": null,
      "description_width": ""
     }
    },
    "714a88099a294abeb898b7f86cd489ec": {
     "model_module": "@jupyter-widgets/base",
     "model_module_version": "1.2.0",
     "model_name": "LayoutModel",
     "state": {
      "_model_module": "@jupyter-widgets/base",
      "_model_module_version": "1.2.0",
      "_model_name": "LayoutModel",
      "_view_count": null,
      "_view_module": "@jupyter-widgets/base",
      "_view_module_version": "1.2.0",
      "_view_name": "LayoutView",
      "align_content": null,
      "align_items": null,
      "align_self": null,
      "border": null,
      "bottom": null,
      "display": null,
      "flex": null,
      "flex_flow": null,
      "grid_area": null,
      "grid_auto_columns": null,
      "grid_auto_flow": null,
      "grid_auto_rows": null,
      "grid_column": null,
      "grid_gap": null,
      "grid_row": null,
      "grid_template_areas": null,
      "grid_template_columns": null,
      "grid_template_rows": null,
      "height": null,
      "justify_content": null,
      "justify_items": null,
      "left": null,
      "margin": null,
      "max_height": null,
      "max_width": null,
      "min_height": null,
      "min_width": null,
      "object_fit": null,
      "object_position": null,
      "order": null,
      "overflow": null,
      "overflow_x": null,
      "overflow_y": null,
      "padding": null,
      "right": null,
      "top": null,
      "visibility": null,
      "width": null
     }
    },
    "73dcd0e7ddff4d358381b0082c7457f4": {
     "model_module": "@jupyter-widgets/controls",
     "model_module_version": "1.5.0",
     "model_name": "DescriptionStyleModel",
     "state": {
      "_model_module": "@jupyter-widgets/controls",
      "_model_module_version": "1.5.0",
      "_model_name": "DescriptionStyleModel",
      "_view_count": null,
      "_view_module": "@jupyter-widgets/base",
      "_view_module_version": "1.2.0",
      "_view_name": "StyleView",
      "description_width": ""
     }
    },
    "75cc90442fd345c88607d8ca66770902": {
     "model_module": "@jupyter-widgets/base",
     "model_module_version": "1.2.0",
     "model_name": "LayoutModel",
     "state": {
      "_model_module": "@jupyter-widgets/base",
      "_model_module_version": "1.2.0",
      "_model_name": "LayoutModel",
      "_view_count": null,
      "_view_module": "@jupyter-widgets/base",
      "_view_module_version": "1.2.0",
      "_view_name": "LayoutView",
      "align_content": null,
      "align_items": null,
      "align_self": null,
      "border": null,
      "bottom": null,
      "display": null,
      "flex": null,
      "flex_flow": null,
      "grid_area": null,
      "grid_auto_columns": null,
      "grid_auto_flow": null,
      "grid_auto_rows": null,
      "grid_column": null,
      "grid_gap": null,
      "grid_row": null,
      "grid_template_areas": null,
      "grid_template_columns": null,
      "grid_template_rows": null,
      "height": null,
      "justify_content": null,
      "justify_items": null,
      "left": null,
      "margin": null,
      "max_height": null,
      "max_width": null,
      "min_height": null,
      "min_width": null,
      "object_fit": null,
      "object_position": null,
      "order": null,
      "overflow": null,
      "overflow_x": null,
      "overflow_y": null,
      "padding": null,
      "right": null,
      "top": null,
      "visibility": null,
      "width": null
     }
    },
    "783508a466934242b3ed0777ba1df699": {
     "model_module": "@jupyter-widgets/controls",
     "model_module_version": "1.5.0",
     "model_name": "HBoxModel",
     "state": {
      "_dom_classes": [],
      "_model_module": "@jupyter-widgets/controls",
      "_model_module_version": "1.5.0",
      "_model_name": "HBoxModel",
      "_view_count": null,
      "_view_module": "@jupyter-widgets/controls",
      "_view_module_version": "1.5.0",
      "_view_name": "HBoxView",
      "box_style": "",
      "children": [
       "IPY_MODEL_c585b096abbe4022aadef21fbc2eb7bd",
       "IPY_MODEL_913fdd9345b9487cb7744afc45ccc83b",
       "IPY_MODEL_3ae6f304afab404da7961726e952d625"
      ],
      "layout": "IPY_MODEL_d9168c28ff9540b59f79caf57a5692e1"
     }
    },
    "793656b83c724ec3bd85b223609db2a8": {
     "model_module": "@jupyter-widgets/controls",
     "model_module_version": "1.5.0",
     "model_name": "DescriptionStyleModel",
     "state": {
      "_model_module": "@jupyter-widgets/controls",
      "_model_module_version": "1.5.0",
      "_model_name": "DescriptionStyleModel",
      "_view_count": null,
      "_view_module": "@jupyter-widgets/base",
      "_view_module_version": "1.2.0",
      "_view_name": "StyleView",
      "description_width": ""
     }
    },
    "800ef77cf93e419992a34abd90cedfc9": {
     "model_module": "@jupyter-widgets/controls",
     "model_module_version": "1.5.0",
     "model_name": "HTMLModel",
     "state": {
      "_dom_classes": [],
      "_model_module": "@jupyter-widgets/controls",
      "_model_module_version": "1.5.0",
      "_model_name": "HTMLModel",
      "_view_count": null,
      "_view_module": "@jupyter-widgets/controls",
      "_view_module_version": "1.5.0",
      "_view_name": "HTMLView",
      "description": "",
      "description_tooltip": null,
      "layout": "IPY_MODEL_61cecc03760a481eb878b2e557524131",
      "placeholder": "​",
      "style": "IPY_MODEL_c730a79f1bcb48a38647b29da85778d4",
      "value": " 7747/7747 [00:01&lt;00:00, 4417.26 examples/s]"
     }
    },
    "821d81dfa9b14695a54ecb11f6c0c22d": {
     "model_module": "@jupyter-widgets/controls",
     "model_module_version": "1.5.0",
     "model_name": "HTMLModel",
     "state": {
      "_dom_classes": [],
      "_model_module": "@jupyter-widgets/controls",
      "_model_module_version": "1.5.0",
      "_model_name": "HTMLModel",
      "_view_count": null,
      "_view_module": "@jupyter-widgets/controls",
      "_view_module_version": "1.5.0",
      "_view_name": "HTMLView",
      "description": "",
      "description_tooltip": null,
      "layout": "IPY_MODEL_58de25ddd253422989b9e79f1e80739b",
      "placeholder": "​",
      "style": "IPY_MODEL_9089b8618c77418dab68034da770c9ab",
      "value": " 2583/2583 [00:00&lt;00:00, 4259.01 examples/s]"
     }
    },
    "852b11f0b562400d8d467e97fa8094d9": {
     "model_module": "@jupyter-widgets/controls",
     "model_module_version": "1.5.0",
     "model_name": "HBoxModel",
     "state": {
      "_dom_classes": [],
      "_model_module": "@jupyter-widgets/controls",
      "_model_module_version": "1.5.0",
      "_model_name": "HBoxModel",
      "_view_count": null,
      "_view_module": "@jupyter-widgets/controls",
      "_view_module_version": "1.5.0",
      "_view_name": "HBoxView",
      "box_style": "",
      "children": [
       "IPY_MODEL_2c6c22d7392c4434ae4db68ccfb8ed37",
       "IPY_MODEL_6a25b3d300334307af0d3fb865caa1d3",
       "IPY_MODEL_d43a50d7cf694ce8ae5bf3052f2c767b"
      ],
      "layout": "IPY_MODEL_75cc90442fd345c88607d8ca66770902"
     }
    },
    "9089b8618c77418dab68034da770c9ab": {
     "model_module": "@jupyter-widgets/controls",
     "model_module_version": "1.5.0",
     "model_name": "DescriptionStyleModel",
     "state": {
      "_model_module": "@jupyter-widgets/controls",
      "_model_module_version": "1.5.0",
      "_model_name": "DescriptionStyleModel",
      "_view_count": null,
      "_view_module": "@jupyter-widgets/base",
      "_view_module_version": "1.2.0",
      "_view_name": "StyleView",
      "description_width": ""
     }
    },
    "913fdd9345b9487cb7744afc45ccc83b": {
     "model_module": "@jupyter-widgets/controls",
     "model_module_version": "1.5.0",
     "model_name": "FloatProgressModel",
     "state": {
      "_dom_classes": [],
      "_model_module": "@jupyter-widgets/controls",
      "_model_module_version": "1.5.0",
      "_model_name": "FloatProgressModel",
      "_view_count": null,
      "_view_module": "@jupyter-widgets/controls",
      "_view_module_version": "1.5.0",
      "_view_name": "ProgressView",
      "bar_style": "success",
      "description": "",
      "description_tooltip": null,
      "layout": "IPY_MODEL_714a88099a294abeb898b7f86cd489ec",
      "max": 3550,
      "min": 0,
      "orientation": "horizontal",
      "style": "IPY_MODEL_d10fdd7b12c643bba0c151348c13b8c6",
      "value": 3550
     }
    },
    "927bf83adb4c4e158e077f3b272bec87": {
     "model_module": "@jupyter-widgets/controls",
     "model_module_version": "1.5.0",
     "model_name": "HBoxModel",
     "state": {
      "_dom_classes": [],
      "_model_module": "@jupyter-widgets/controls",
      "_model_module_version": "1.5.0",
      "_model_name": "HBoxModel",
      "_view_count": null,
      "_view_module": "@jupyter-widgets/controls",
      "_view_module_version": "1.5.0",
      "_view_name": "HBoxView",
      "box_style": "",
      "children": [
       "IPY_MODEL_9fca9755549f4d19838ce0d643abe7d2",
       "IPY_MODEL_a3a153eded014798a60e60a4db541b40",
       "IPY_MODEL_821d81dfa9b14695a54ecb11f6c0c22d"
      ],
      "layout": "IPY_MODEL_b149439d5bf44ba0a62c90fa5fc359f3"
     }
    },
    "97ec3616c1fc453084a7edcada6cdfa2": {
     "model_module": "@jupyter-widgets/controls",
     "model_module_version": "1.5.0",
     "model_name": "FloatProgressModel",
     "state": {
      "_dom_classes": [],
      "_model_module": "@jupyter-widgets/controls",
      "_model_module_version": "1.5.0",
      "_model_name": "FloatProgressModel",
      "_view_count": null,
      "_view_module": "@jupyter-widgets/controls",
      "_view_module_version": "1.5.0",
      "_view_name": "ProgressView",
      "bar_style": "success",
      "description": "",
      "description_tooltip": null,
      "layout": "IPY_MODEL_33937ffbea4c47c6b0ffb1acf82c3422",
      "max": 511263985,
      "min": 0,
      "orientation": "horizontal",
      "style": "IPY_MODEL_c2cbba032a75427ebb4f4d468d300d48",
      "value": 511263985
     }
    },
    "9cae81f2408849e9bd85b3ad8e353d56": {
     "model_module": "@jupyter-widgets/base",
     "model_module_version": "1.2.0",
     "model_name": "LayoutModel",
     "state": {
      "_model_module": "@jupyter-widgets/base",
      "_model_module_version": "1.2.0",
      "_model_name": "LayoutModel",
      "_view_count": null,
      "_view_module": "@jupyter-widgets/base",
      "_view_module_version": "1.2.0",
      "_view_name": "LayoutView",
      "align_content": null,
      "align_items": null,
      "align_self": null,
      "border": null,
      "bottom": null,
      "display": null,
      "flex": null,
      "flex_flow": null,
      "grid_area": null,
      "grid_auto_columns": null,
      "grid_auto_flow": null,
      "grid_auto_rows": null,
      "grid_column": null,
      "grid_gap": null,
      "grid_row": null,
      "grid_template_areas": null,
      "grid_template_columns": null,
      "grid_template_rows": null,
      "height": null,
      "justify_content": null,
      "justify_items": null,
      "left": null,
      "margin": null,
      "max_height": null,
      "max_width": null,
      "min_height": null,
      "min_width": null,
      "object_fit": null,
      "object_position": null,
      "order": null,
      "overflow": null,
      "overflow_x": null,
      "overflow_y": null,
      "padding": null,
      "right": null,
      "top": null,
      "visibility": null,
      "width": null
     }
    },
    "9de159224ee84b2d9bca8e3402208e40": {
     "model_module": "@jupyter-widgets/controls",
     "model_module_version": "1.5.0",
     "model_name": "FloatProgressModel",
     "state": {
      "_dom_classes": [],
      "_model_module": "@jupyter-widgets/controls",
      "_model_module_version": "1.5.0",
      "_model_name": "FloatProgressModel",
      "_view_count": null,
      "_view_module": "@jupyter-widgets/controls",
      "_view_module_version": "1.5.0",
      "_view_name": "ProgressView",
      "bar_style": "",
      "description": "",
      "description_tooltip": null,
      "layout": "IPY_MODEL_4013884e349b4484919c3673a11f9c37",
      "max": 2583,
      "min": 0,
      "orientation": "horizontal",
      "style": "IPY_MODEL_2c0c0ab6ebc649baa904ef4297568aa8",
      "value": 2583
     }
    },
    "9fca9755549f4d19838ce0d643abe7d2": {
     "model_module": "@jupyter-widgets/controls",
     "model_module_version": "1.5.0",
     "model_name": "HTMLModel",
     "state": {
      "_dom_classes": [],
      "_model_module": "@jupyter-widgets/controls",
      "_model_module_version": "1.5.0",
      "_model_name": "HTMLModel",
      "_view_count": null,
      "_view_module": "@jupyter-widgets/controls",
      "_view_module_version": "1.5.0",
      "_view_name": "HTMLView",
      "description": "",
      "description_tooltip": null,
      "layout": "IPY_MODEL_e29ffef6ef134bfba9ef2b31960ab5d4",
      "placeholder": "​",
      "style": "IPY_MODEL_5c39fe1d398a4c91a44be62ee218be22",
      "value": "Map: 100%"
     }
    },
    "a03a0c0027a646b59219e56cd07017cc": {
     "model_module": "@jupyter-widgets/controls",
     "model_module_version": "1.5.0",
     "model_name": "HTMLModel",
     "state": {
      "_dom_classes": [],
      "_model_module": "@jupyter-widgets/controls",
      "_model_module_version": "1.5.0",
      "_model_name": "HTMLModel",
      "_view_count": null,
      "_view_module": "@jupyter-widgets/controls",
      "_view_module_version": "1.5.0",
      "_view_name": "HTMLView",
      "description": "",
      "description_tooltip": null,
      "layout": "IPY_MODEL_dcc4cb23bc4e4f9196377308b1ab020f",
      "placeholder": "​",
      "style": "IPY_MODEL_3491ca3ce9cd4128a112fc382be8b853",
      "value": " 2583/2583 [00:01&lt;00:00, 2763.89 examples/s]"
     }
    },
    "a18e746bc47c4d3cad7adb63d96b12c3": {
     "model_module": "@jupyter-widgets/base",
     "model_module_version": "1.2.0",
     "model_name": "LayoutModel",
     "state": {
      "_model_module": "@jupyter-widgets/base",
      "_model_module_version": "1.2.0",
      "_model_name": "LayoutModel",
      "_view_count": null,
      "_view_module": "@jupyter-widgets/base",
      "_view_module_version": "1.2.0",
      "_view_name": "LayoutView",
      "align_content": null,
      "align_items": null,
      "align_self": null,
      "border": null,
      "bottom": null,
      "display": null,
      "flex": null,
      "flex_flow": null,
      "grid_area": null,
      "grid_auto_columns": null,
      "grid_auto_flow": null,
      "grid_auto_rows": null,
      "grid_column": null,
      "grid_gap": null,
      "grid_row": null,
      "grid_template_areas": null,
      "grid_template_columns": null,
      "grid_template_rows": null,
      "height": null,
      "justify_content": null,
      "justify_items": null,
      "left": null,
      "margin": null,
      "max_height": null,
      "max_width": null,
      "min_height": null,
      "min_width": null,
      "object_fit": null,
      "object_position": null,
      "order": null,
      "overflow": null,
      "overflow_x": null,
      "overflow_y": null,
      "padding": null,
      "right": null,
      "top": null,
      "visibility": null,
      "width": null
     }
    },
    "a3a153eded014798a60e60a4db541b40": {
     "model_module": "@jupyter-widgets/controls",
     "model_module_version": "1.5.0",
     "model_name": "FloatProgressModel",
     "state": {
      "_dom_classes": [],
      "_model_module": "@jupyter-widgets/controls",
      "_model_module_version": "1.5.0",
      "_model_name": "FloatProgressModel",
      "_view_count": null,
      "_view_module": "@jupyter-widgets/controls",
      "_view_module_version": "1.5.0",
      "_view_name": "ProgressView",
      "bar_style": "",
      "description": "",
      "description_tooltip": null,
      "layout": "IPY_MODEL_e8f601a5048f4920be293213c4f0dd7b",
      "max": 2583,
      "min": 0,
      "orientation": "horizontal",
      "style": "IPY_MODEL_6efe0a0250814e0c8cc4a6f2a0420e33",
      "value": 2583
     }
    },
    "ad1603e3143f4d918b7ede6534dbb7bd": {
     "model_module": "@jupyter-widgets/controls",
     "model_module_version": "1.5.0",
     "model_name": "DescriptionStyleModel",
     "state": {
      "_model_module": "@jupyter-widgets/controls",
      "_model_module_version": "1.5.0",
      "_model_name": "DescriptionStyleModel",
      "_view_count": null,
      "_view_module": "@jupyter-widgets/base",
      "_view_module_version": "1.2.0",
      "_view_name": "StyleView",
      "description_width": ""
     }
    },
    "b149439d5bf44ba0a62c90fa5fc359f3": {
     "model_module": "@jupyter-widgets/base",
     "model_module_version": "1.2.0",
     "model_name": "LayoutModel",
     "state": {
      "_model_module": "@jupyter-widgets/base",
      "_model_module_version": "1.2.0",
      "_model_name": "LayoutModel",
      "_view_count": null,
      "_view_module": "@jupyter-widgets/base",
      "_view_module_version": "1.2.0",
      "_view_name": "LayoutView",
      "align_content": null,
      "align_items": null,
      "align_self": null,
      "border": null,
      "bottom": null,
      "display": null,
      "flex": null,
      "flex_flow": null,
      "grid_area": null,
      "grid_auto_columns": null,
      "grid_auto_flow": null,
      "grid_auto_rows": null,
      "grid_column": null,
      "grid_gap": null,
      "grid_row": null,
      "grid_template_areas": null,
      "grid_template_columns": null,
      "grid_template_rows": null,
      "height": null,
      "justify_content": null,
      "justify_items": null,
      "left": null,
      "margin": null,
      "max_height": null,
      "max_width": null,
      "min_height": null,
      "min_width": null,
      "object_fit": null,
      "object_position": null,
      "order": null,
      "overflow": null,
      "overflow_x": null,
      "overflow_y": null,
      "padding": null,
      "right": null,
      "top": null,
      "visibility": "hidden",
      "width": null
     }
    },
    "b9318f15b9804b42a03dce7315d1c054": {
     "model_module": "@jupyter-widgets/base",
     "model_module_version": "1.2.0",
     "model_name": "LayoutModel",
     "state": {
      "_model_module": "@jupyter-widgets/base",
      "_model_module_version": "1.2.0",
      "_model_name": "LayoutModel",
      "_view_count": null,
      "_view_module": "@jupyter-widgets/base",
      "_view_module_version": "1.2.0",
      "_view_name": "LayoutView",
      "align_content": null,
      "align_items": null,
      "align_self": null,
      "border": null,
      "bottom": null,
      "display": null,
      "flex": null,
      "flex_flow": null,
      "grid_area": null,
      "grid_auto_columns": null,
      "grid_auto_flow": null,
      "grid_auto_rows": null,
      "grid_column": null,
      "grid_gap": null,
      "grid_row": null,
      "grid_template_areas": null,
      "grid_template_columns": null,
      "grid_template_rows": null,
      "height": null,
      "justify_content": null,
      "justify_items": null,
      "left": null,
      "margin": null,
      "max_height": null,
      "max_width": null,
      "min_height": null,
      "min_width": null,
      "object_fit": null,
      "object_position": null,
      "order": null,
      "overflow": null,
      "overflow_x": null,
      "overflow_y": null,
      "padding": null,
      "right": null,
      "top": null,
      "visibility": "hidden",
      "width": null
     }
    },
    "bf0ec387c6db4bce9bcd6dc86b676b34": {
     "model_module": "@jupyter-widgets/controls",
     "model_module_version": "1.5.0",
     "model_name": "HTMLModel",
     "state": {
      "_dom_classes": [],
      "_model_module": "@jupyter-widgets/controls",
      "_model_module_version": "1.5.0",
      "_model_name": "HTMLModel",
      "_view_count": null,
      "_view_module": "@jupyter-widgets/controls",
      "_view_module_version": "1.5.0",
      "_view_name": "HTMLView",
      "description": "",
      "description_tooltip": null,
      "layout": "IPY_MODEL_9cae81f2408849e9bd85b3ad8e353d56",
      "placeholder": "​",
      "style": "IPY_MODEL_c4f9d65b7d994ddca0d7de03d692fc42",
      "value": "Map: 100%"
     }
    },
    "bf6913890f1149d6a2adf0e34284f91d": {
     "model_module": "@jupyter-widgets/base",
     "model_module_version": "1.2.0",
     "model_name": "LayoutModel",
     "state": {
      "_model_module": "@jupyter-widgets/base",
      "_model_module_version": "1.2.0",
      "_model_name": "LayoutModel",
      "_view_count": null,
      "_view_module": "@jupyter-widgets/base",
      "_view_module_version": "1.2.0",
      "_view_name": "LayoutView",
      "align_content": null,
      "align_items": null,
      "align_self": null,
      "border": null,
      "bottom": null,
      "display": null,
      "flex": null,
      "flex_flow": null,
      "grid_area": null,
      "grid_auto_columns": null,
      "grid_auto_flow": null,
      "grid_auto_rows": null,
      "grid_column": null,
      "grid_gap": null,
      "grid_row": null,
      "grid_template_areas": null,
      "grid_template_columns": null,
      "grid_template_rows": null,
      "height": null,
      "justify_content": null,
      "justify_items": null,
      "left": null,
      "margin": null,
      "max_height": null,
      "max_width": null,
      "min_height": null,
      "min_width": null,
      "object_fit": null,
      "object_position": null,
      "order": null,
      "overflow": null,
      "overflow_x": null,
      "overflow_y": null,
      "padding": null,
      "right": null,
      "top": null,
      "visibility": null,
      "width": null
     }
    },
    "c2cbba032a75427ebb4f4d468d300d48": {
     "model_module": "@jupyter-widgets/controls",
     "model_module_version": "1.5.0",
     "model_name": "ProgressStyleModel",
     "state": {
      "_model_module": "@jupyter-widgets/controls",
      "_model_module_version": "1.5.0",
      "_model_name": "ProgressStyleModel",
      "_view_count": null,
      "_view_module": "@jupyter-widgets/base",
      "_view_module_version": "1.2.0",
      "_view_name": "StyleView",
      "bar_color": null,
      "description_width": ""
     }
    },
    "c4f9d65b7d994ddca0d7de03d692fc42": {
     "model_module": "@jupyter-widgets/controls",
     "model_module_version": "1.5.0",
     "model_name": "DescriptionStyleModel",
     "state": {
      "_model_module": "@jupyter-widgets/controls",
      "_model_module_version": "1.5.0",
      "_model_name": "DescriptionStyleModel",
      "_view_count": null,
      "_view_module": "@jupyter-widgets/base",
      "_view_module_version": "1.2.0",
      "_view_name": "StyleView",
      "description_width": ""
     }
    },
    "c585b096abbe4022aadef21fbc2eb7bd": {
     "model_module": "@jupyter-widgets/controls",
     "model_module_version": "1.5.0",
     "model_name": "HTMLModel",
     "state": {
      "_dom_classes": [],
      "_model_module": "@jupyter-widgets/controls",
      "_model_module_version": "1.5.0",
      "_model_name": "HTMLModel",
      "_view_count": null,
      "_view_module": "@jupyter-widgets/controls",
      "_view_module_version": "1.5.0",
      "_view_name": "HTMLView",
      "description": "",
      "description_tooltip": null,
      "layout": "IPY_MODEL_f3505b30977144068d5c4b05b3125858",
      "placeholder": "​",
      "style": "IPY_MODEL_5b785dfd2e0444a495de01dd5c622442",
      "value": "Downloading (…)lve/main/config.json: 100%"
     }
    },
    "c730a79f1bcb48a38647b29da85778d4": {
     "model_module": "@jupyter-widgets/controls",
     "model_module_version": "1.5.0",
     "model_name": "DescriptionStyleModel",
     "state": {
      "_model_module": "@jupyter-widgets/controls",
      "_model_module_version": "1.5.0",
      "_model_name": "DescriptionStyleModel",
      "_view_count": null,
      "_view_module": "@jupyter-widgets/base",
      "_view_module_version": "1.2.0",
      "_view_name": "StyleView",
      "description_width": ""
     }
    },
    "d10fdd7b12c643bba0c151348c13b8c6": {
     "model_module": "@jupyter-widgets/controls",
     "model_module_version": "1.5.0",
     "model_name": "ProgressStyleModel",
     "state": {
      "_model_module": "@jupyter-widgets/controls",
      "_model_module_version": "1.5.0",
      "_model_name": "ProgressStyleModel",
      "_view_count": null,
      "_view_module": "@jupyter-widgets/base",
      "_view_module_version": "1.2.0",
      "_view_name": "StyleView",
      "bar_color": null,
      "description_width": ""
     }
    },
    "d43a50d7cf694ce8ae5bf3052f2c767b": {
     "model_module": "@jupyter-widgets/controls",
     "model_module_version": "1.5.0",
     "model_name": "HTMLModel",
     "state": {
      "_dom_classes": [],
      "_model_module": "@jupyter-widgets/controls",
      "_model_module_version": "1.5.0",
      "_model_name": "HTMLModel",
      "_view_count": null,
      "_view_module": "@jupyter-widgets/controls",
      "_view_module_version": "1.5.0",
      "_view_name": "HTMLView",
      "description": "",
      "description_tooltip": null,
      "layout": "IPY_MODEL_6069da3e2670469a99260517bbe61b89",
      "placeholder": "​",
      "style": "IPY_MODEL_ad1603e3143f4d918b7ede6534dbb7bd",
      "value": " 6.34k/6.34k [00:00&lt;00:00, 179kB/s]"
     }
    },
    "d4d751317c3f46948d6b228de323e04e": {
     "model_module": "@jupyter-widgets/base",
     "model_module_version": "1.2.0",
     "model_name": "LayoutModel",
     "state": {
      "_model_module": "@jupyter-widgets/base",
      "_model_module_version": "1.2.0",
      "_model_name": "LayoutModel",
      "_view_count": null,
      "_view_module": "@jupyter-widgets/base",
      "_view_module_version": "1.2.0",
      "_view_name": "LayoutView",
      "align_content": null,
      "align_items": null,
      "align_self": null,
      "border": null,
      "bottom": null,
      "display": null,
      "flex": null,
      "flex_flow": null,
      "grid_area": null,
      "grid_auto_columns": null,
      "grid_auto_flow": null,
      "grid_auto_rows": null,
      "grid_column": null,
      "grid_gap": null,
      "grid_row": null,
      "grid_template_areas": null,
      "grid_template_columns": null,
      "grid_template_rows": null,
      "height": null,
      "justify_content": null,
      "justify_items": null,
      "left": null,
      "margin": null,
      "max_height": null,
      "max_width": null,
      "min_height": null,
      "min_width": null,
      "object_fit": null,
      "object_position": null,
      "order": null,
      "overflow": null,
      "overflow_x": null,
      "overflow_y": null,
      "padding": null,
      "right": null,
      "top": null,
      "visibility": null,
      "width": null
     }
    },
    "d9168c28ff9540b59f79caf57a5692e1": {
     "model_module": "@jupyter-widgets/base",
     "model_module_version": "1.2.0",
     "model_name": "LayoutModel",
     "state": {
      "_model_module": "@jupyter-widgets/base",
      "_model_module_version": "1.2.0",
      "_model_name": "LayoutModel",
      "_view_count": null,
      "_view_module": "@jupyter-widgets/base",
      "_view_module_version": "1.2.0",
      "_view_name": "LayoutView",
      "align_content": null,
      "align_items": null,
      "align_self": null,
      "border": null,
      "bottom": null,
      "display": null,
      "flex": null,
      "flex_flow": null,
      "grid_area": null,
      "grid_auto_columns": null,
      "grid_auto_flow": null,
      "grid_auto_rows": null,
      "grid_column": null,
      "grid_gap": null,
      "grid_row": null,
      "grid_template_areas": null,
      "grid_template_columns": null,
      "grid_template_rows": null,
      "height": null,
      "justify_content": null,
      "justify_items": null,
      "left": null,
      "margin": null,
      "max_height": null,
      "max_width": null,
      "min_height": null,
      "min_width": null,
      "object_fit": null,
      "object_position": null,
      "order": null,
      "overflow": null,
      "overflow_x": null,
      "overflow_y": null,
      "padding": null,
      "right": null,
      "top": null,
      "visibility": null,
      "width": null
     }
    },
    "dcc4cb23bc4e4f9196377308b1ab020f": {
     "model_module": "@jupyter-widgets/base",
     "model_module_version": "1.2.0",
     "model_name": "LayoutModel",
     "state": {
      "_model_module": "@jupyter-widgets/base",
      "_model_module_version": "1.2.0",
      "_model_name": "LayoutModel",
      "_view_count": null,
      "_view_module": "@jupyter-widgets/base",
      "_view_module_version": "1.2.0",
      "_view_name": "LayoutView",
      "align_content": null,
      "align_items": null,
      "align_self": null,
      "border": null,
      "bottom": null,
      "display": null,
      "flex": null,
      "flex_flow": null,
      "grid_area": null,
      "grid_auto_columns": null,
      "grid_auto_flow": null,
      "grid_auto_rows": null,
      "grid_column": null,
      "grid_gap": null,
      "grid_row": null,
      "grid_template_areas": null,
      "grid_template_columns": null,
      "grid_template_rows": null,
      "height": null,
      "justify_content": null,
      "justify_items": null,
      "left": null,
      "margin": null,
      "max_height": null,
      "max_width": null,
      "min_height": null,
      "min_width": null,
      "object_fit": null,
      "object_position": null,
      "order": null,
      "overflow": null,
      "overflow_x": null,
      "overflow_y": null,
      "padding": null,
      "right": null,
      "top": null,
      "visibility": null,
      "width": null
     }
    },
    "e29ffef6ef134bfba9ef2b31960ab5d4": {
     "model_module": "@jupyter-widgets/base",
     "model_module_version": "1.2.0",
     "model_name": "LayoutModel",
     "state": {
      "_model_module": "@jupyter-widgets/base",
      "_model_module_version": "1.2.0",
      "_model_name": "LayoutModel",
      "_view_count": null,
      "_view_module": "@jupyter-widgets/base",
      "_view_module_version": "1.2.0",
      "_view_name": "LayoutView",
      "align_content": null,
      "align_items": null,
      "align_self": null,
      "border": null,
      "bottom": null,
      "display": null,
      "flex": null,
      "flex_flow": null,
      "grid_area": null,
      "grid_auto_columns": null,
      "grid_auto_flow": null,
      "grid_auto_rows": null,
      "grid_column": null,
      "grid_gap": null,
      "grid_row": null,
      "grid_template_areas": null,
      "grid_template_columns": null,
      "grid_template_rows": null,
      "height": null,
      "justify_content": null,
      "justify_items": null,
      "left": null,
      "margin": null,
      "max_height": null,
      "max_width": null,
      "min_height": null,
      "min_width": null,
      "object_fit": null,
      "object_position": null,
      "order": null,
      "overflow": null,
      "overflow_x": null,
      "overflow_y": null,
      "padding": null,
      "right": null,
      "top": null,
      "visibility": null,
      "width": null
     }
    },
    "e6e47401ce474f49bc6b1aa18de523fd": {
     "model_module": "@jupyter-widgets/base",
     "model_module_version": "1.2.0",
     "model_name": "LayoutModel",
     "state": {
      "_model_module": "@jupyter-widgets/base",
      "_model_module_version": "1.2.0",
      "_model_name": "LayoutModel",
      "_view_count": null,
      "_view_module": "@jupyter-widgets/base",
      "_view_module_version": "1.2.0",
      "_view_name": "LayoutView",
      "align_content": null,
      "align_items": null,
      "align_self": null,
      "border": null,
      "bottom": null,
      "display": null,
      "flex": null,
      "flex_flow": null,
      "grid_area": null,
      "grid_auto_columns": null,
      "grid_auto_flow": null,
      "grid_auto_rows": null,
      "grid_column": null,
      "grid_gap": null,
      "grid_row": null,
      "grid_template_areas": null,
      "grid_template_columns": null,
      "grid_template_rows": null,
      "height": null,
      "justify_content": null,
      "justify_items": null,
      "left": null,
      "margin": null,
      "max_height": null,
      "max_width": null,
      "min_height": null,
      "min_width": null,
      "object_fit": null,
      "object_position": null,
      "order": null,
      "overflow": null,
      "overflow_x": null,
      "overflow_y": null,
      "padding": null,
      "right": null,
      "top": null,
      "visibility": null,
      "width": null
     }
    },
    "e8f601a5048f4920be293213c4f0dd7b": {
     "model_module": "@jupyter-widgets/base",
     "model_module_version": "1.2.0",
     "model_name": "LayoutModel",
     "state": {
      "_model_module": "@jupyter-widgets/base",
      "_model_module_version": "1.2.0",
      "_model_name": "LayoutModel",
      "_view_count": null,
      "_view_module": "@jupyter-widgets/base",
      "_view_module_version": "1.2.0",
      "_view_name": "LayoutView",
      "align_content": null,
      "align_items": null,
      "align_self": null,
      "border": null,
      "bottom": null,
      "display": null,
      "flex": null,
      "flex_flow": null,
      "grid_area": null,
      "grid_auto_columns": null,
      "grid_auto_flow": null,
      "grid_auto_rows": null,
      "grid_column": null,
      "grid_gap": null,
      "grid_row": null,
      "grid_template_areas": null,
      "grid_template_columns": null,
      "grid_template_rows": null,
      "height": null,
      "justify_content": null,
      "justify_items": null,
      "left": null,
      "margin": null,
      "max_height": null,
      "max_width": null,
      "min_height": null,
      "min_width": null,
      "object_fit": null,
      "object_position": null,
      "order": null,
      "overflow": null,
      "overflow_x": null,
      "overflow_y": null,
      "padding": null,
      "right": null,
      "top": null,
      "visibility": null,
      "width": null
     }
    },
    "eabf88d9ea0f4091be8b432148f6993e": {
     "model_module": "@jupyter-widgets/base",
     "model_module_version": "1.2.0",
     "model_name": "LayoutModel",
     "state": {
      "_model_module": "@jupyter-widgets/base",
      "_model_module_version": "1.2.0",
      "_model_name": "LayoutModel",
      "_view_count": null,
      "_view_module": "@jupyter-widgets/base",
      "_view_module_version": "1.2.0",
      "_view_name": "LayoutView",
      "align_content": null,
      "align_items": null,
      "align_self": null,
      "border": null,
      "bottom": null,
      "display": null,
      "flex": null,
      "flex_flow": null,
      "grid_area": null,
      "grid_auto_columns": null,
      "grid_auto_flow": null,
      "grid_auto_rows": null,
      "grid_column": null,
      "grid_gap": null,
      "grid_row": null,
      "grid_template_areas": null,
      "grid_template_columns": null,
      "grid_template_rows": null,
      "height": null,
      "justify_content": null,
      "justify_items": null,
      "left": null,
      "margin": null,
      "max_height": null,
      "max_width": null,
      "min_height": null,
      "min_width": null,
      "object_fit": null,
      "object_position": null,
      "order": null,
      "overflow": null,
      "overflow_x": null,
      "overflow_y": null,
      "padding": null,
      "right": null,
      "top": null,
      "visibility": "hidden",
      "width": null
     }
    },
    "ed6a619c83644f97b9ed5e96630a3f91": {
     "model_module": "@jupyter-widgets/base",
     "model_module_version": "1.2.0",
     "model_name": "LayoutModel",
     "state": {
      "_model_module": "@jupyter-widgets/base",
      "_model_module_version": "1.2.0",
      "_model_name": "LayoutModel",
      "_view_count": null,
      "_view_module": "@jupyter-widgets/base",
      "_view_module_version": "1.2.0",
      "_view_name": "LayoutView",
      "align_content": null,
      "align_items": null,
      "align_self": null,
      "border": null,
      "bottom": null,
      "display": null,
      "flex": null,
      "flex_flow": null,
      "grid_area": null,
      "grid_auto_columns": null,
      "grid_auto_flow": null,
      "grid_auto_rows": null,
      "grid_column": null,
      "grid_gap": null,
      "grid_row": null,
      "grid_template_areas": null,
      "grid_template_columns": null,
      "grid_template_rows": null,
      "height": null,
      "justify_content": null,
      "justify_items": null,
      "left": null,
      "margin": null,
      "max_height": null,
      "max_width": null,
      "min_height": null,
      "min_width": null,
      "object_fit": null,
      "object_position": null,
      "order": null,
      "overflow": null,
      "overflow_x": null,
      "overflow_y": null,
      "padding": null,
      "right": null,
      "top": null,
      "visibility": null,
      "width": null
     }
    },
    "ef9918863a0242fa9509dcf806da5d75": {
     "model_module": "@jupyter-widgets/controls",
     "model_module_version": "1.5.0",
     "model_name": "FloatProgressModel",
     "state": {
      "_dom_classes": [],
      "_model_module": "@jupyter-widgets/controls",
      "_model_module_version": "1.5.0",
      "_model_name": "FloatProgressModel",
      "_view_count": null,
      "_view_module": "@jupyter-widgets/controls",
      "_view_module_version": "1.5.0",
      "_view_name": "ProgressView",
      "bar_style": "",
      "description": "",
      "description_tooltip": null,
      "layout": "IPY_MODEL_d4d751317c3f46948d6b228de323e04e",
      "max": 7747,
      "min": 0,
      "orientation": "horizontal",
      "style": "IPY_MODEL_143c403ae3a249509bc53044eb0a2e29",
      "value": 7747
     }
    },
    "f3505b30977144068d5c4b05b3125858": {
     "model_module": "@jupyter-widgets/base",
     "model_module_version": "1.2.0",
     "model_name": "LayoutModel",
     "state": {
      "_model_module": "@jupyter-widgets/base",
      "_model_module_version": "1.2.0",
      "_model_name": "LayoutModel",
      "_view_count": null,
      "_view_module": "@jupyter-widgets/base",
      "_view_module_version": "1.2.0",
      "_view_name": "LayoutView",
      "align_content": null,
      "align_items": null,
      "align_self": null,
      "border": null,
      "bottom": null,
      "display": null,
      "flex": null,
      "flex_flow": null,
      "grid_area": null,
      "grid_auto_columns": null,
      "grid_auto_flow": null,
      "grid_auto_rows": null,
      "grid_column": null,
      "grid_gap": null,
      "grid_row": null,
      "grid_template_areas": null,
      "grid_template_columns": null,
      "grid_template_rows": null,
      "height": null,
      "justify_content": null,
      "justify_items": null,
      "left": null,
      "margin": null,
      "max_height": null,
      "max_width": null,
      "min_height": null,
      "min_width": null,
      "object_fit": null,
      "object_position": null,
      "order": null,
      "overflow": null,
      "overflow_x": null,
      "overflow_y": null,
      "padding": null,
      "right": null,
      "top": null,
      "visibility": null,
      "width": null
     }
    },
    "f8e3fe80e33e42fab5448edd4135fa87": {
     "model_module": "@jupyter-widgets/controls",
     "model_module_version": "1.5.0",
     "model_name": "HBoxModel",
     "state": {
      "_dom_classes": [],
      "_model_module": "@jupyter-widgets/controls",
      "_model_module_version": "1.5.0",
      "_model_name": "HBoxModel",
      "_view_count": null,
      "_view_module": "@jupyter-widgets/controls",
      "_view_module_version": "1.5.0",
      "_view_name": "HBoxView",
      "box_style": "",
      "children": [
       "IPY_MODEL_342ba0f7abb24a1d93baa91968a2fb59",
       "IPY_MODEL_9de159224ee84b2d9bca8e3402208e40",
       "IPY_MODEL_a03a0c0027a646b59219e56cd07017cc"
      ],
      "layout": "IPY_MODEL_b9318f15b9804b42a03dce7315d1c054"
     }
    }
   }
  }
 },
 "nbformat": 4,
 "nbformat_minor": 4
}
