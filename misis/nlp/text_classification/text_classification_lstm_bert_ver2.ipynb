{
  "cells": [
    {
      "cell_type": "markdown",
      "metadata": {
        "id": "view-in-github",
        "colab_type": "text"
      },
      "source": [
        "<a href=\"https://colab.research.google.com/github/wizard339/education/blob/main/misis/nlp/text_classification/text_classification_lstm_bert_ver2.ipynb\" target=\"_parent\"><img src=\"https://colab.research.google.com/assets/colab-badge.svg\" alt=\"Open In Colab\"/></a>"
      ]
    },
    {
      "cell_type": "code",
      "execution_count": 1,
      "metadata": {
        "id": "IPhGBcHg58X6",
        "colab": {
          "base_uri": "https://localhost:8080/"
        },
        "outputId": "4e1b96a5-6181-4950-b498-a88fbb47cf9e"
      },
      "outputs": [
        {
          "output_type": "stream",
          "name": "stdout",
          "text": [
            "Looking in indexes: https://pypi.org/simple, https://us-python.pkg.dev/colab-wheels/public/simple/\n",
            "Collecting transformers\n",
            "  Downloading transformers-4.26.1-py3-none-any.whl (6.3 MB)\n",
            "\u001b[2K     \u001b[90m━━━━━━━━━━━━━━━━━━━━━━━━━━━━━━━━━━━━━━━━\u001b[0m \u001b[32m6.3/6.3 MB\u001b[0m \u001b[31m26.8 MB/s\u001b[0m eta \u001b[36m0:00:00\u001b[0m\n",
            "\u001b[?25hCollecting datasets\n",
            "  Downloading datasets-2.10.1-py3-none-any.whl (469 kB)\n",
            "\u001b[2K     \u001b[90m━━━━━━━━━━━━━━━━━━━━━━━━━━━━━━━━━━━━━━\u001b[0m \u001b[32m469.0/469.0 KB\u001b[0m \u001b[31m25.8 MB/s\u001b[0m eta \u001b[36m0:00:00\u001b[0m\n",
            "\u001b[?25hCollecting evaluate\n",
            "  Downloading evaluate-0.4.0-py3-none-any.whl (81 kB)\n",
            "\u001b[2K     \u001b[90m━━━━━━━━━━━━━━━━━━━━━━━━━━━━━━━━━━━━━━━━\u001b[0m \u001b[32m81.4/81.4 KB\u001b[0m \u001b[31m4.8 MB/s\u001b[0m eta \u001b[36m0:00:00\u001b[0m\n",
            "\u001b[?25hRequirement already satisfied: numpy>=1.17 in /usr/local/lib/python3.9/dist-packages (from transformers) (1.22.4)\n",
            "Requirement already satisfied: pyyaml>=5.1 in /usr/local/lib/python3.9/dist-packages (from transformers) (6.0)\n",
            "Collecting huggingface-hub<1.0,>=0.11.0\n",
            "  Downloading huggingface_hub-0.13.1-py3-none-any.whl (199 kB)\n",
            "\u001b[2K     \u001b[90m━━━━━━━━━━━━━━━━━━━━━━━━━━━━━━━━━━━━━━\u001b[0m \u001b[32m199.2/199.2 KB\u001b[0m \u001b[31m12.4 MB/s\u001b[0m eta \u001b[36m0:00:00\u001b[0m\n",
            "\u001b[?25hRequirement already satisfied: filelock in /usr/local/lib/python3.9/dist-packages (from transformers) (3.9.0)\n",
            "Collecting tokenizers!=0.11.3,<0.14,>=0.11.1\n",
            "  Downloading tokenizers-0.13.2-cp39-cp39-manylinux_2_17_x86_64.manylinux2014_x86_64.whl (7.6 MB)\n",
            "\u001b[2K     \u001b[90m━━━━━━━━━━━━━━━━━━━━━━━━━━━━━━━━━━━━━━━━\u001b[0m \u001b[32m7.6/7.6 MB\u001b[0m \u001b[31m50.2 MB/s\u001b[0m eta \u001b[36m0:00:00\u001b[0m\n",
            "\u001b[?25hRequirement already satisfied: regex!=2019.12.17 in /usr/local/lib/python3.9/dist-packages (from transformers) (2022.6.2)\n",
            "Requirement already satisfied: packaging>=20.0 in /usr/local/lib/python3.9/dist-packages (from transformers) (23.0)\n",
            "Requirement already satisfied: requests in /usr/local/lib/python3.9/dist-packages (from transformers) (2.25.1)\n",
            "Requirement already satisfied: tqdm>=4.27 in /usr/local/lib/python3.9/dist-packages (from transformers) (4.65.0)\n",
            "Collecting responses<0.19\n",
            "  Downloading responses-0.18.0-py3-none-any.whl (38 kB)\n",
            "Collecting multiprocess\n",
            "  Downloading multiprocess-0.70.14-py39-none-any.whl (132 kB)\n",
            "\u001b[2K     \u001b[90m━━━━━━━━━━━━━━━━━━━━━━━━━━━━━━━━━━━━━━━\u001b[0m \u001b[32m132.9/132.9 KB\u001b[0m \u001b[31m7.2 MB/s\u001b[0m eta \u001b[36m0:00:00\u001b[0m\n",
            "\u001b[?25hRequirement already satisfied: fsspec[http]>=2021.11.1 in /usr/local/lib/python3.9/dist-packages (from datasets) (2023.3.0)\n",
            "Requirement already satisfied: pyarrow>=6.0.0 in /usr/local/lib/python3.9/dist-packages (from datasets) (9.0.0)\n",
            "Collecting xxhash\n",
            "  Downloading xxhash-3.2.0-cp39-cp39-manylinux_2_17_x86_64.manylinux2014_x86_64.whl (212 kB)\n",
            "\u001b[2K     \u001b[90m━━━━━━━━━━━━━━━━━━━━━━━━━━━━━━━━━━━━━━━\u001b[0m \u001b[32m212.2/212.2 KB\u001b[0m \u001b[31m4.6 MB/s\u001b[0m eta \u001b[36m0:00:00\u001b[0m\n",
            "\u001b[?25hCollecting dill<0.3.7,>=0.3.0\n",
            "  Downloading dill-0.3.6-py3-none-any.whl (110 kB)\n",
            "\u001b[2K     \u001b[90m━━━━━━━━━━━━━━━━━━━━━━━━━━━━━━━━━━━━━━━\u001b[0m \u001b[32m110.5/110.5 KB\u001b[0m \u001b[31m4.0 MB/s\u001b[0m eta \u001b[36m0:00:00\u001b[0m\n",
            "\u001b[?25hCollecting aiohttp\n",
            "  Downloading aiohttp-3.8.4-cp39-cp39-manylinux_2_17_x86_64.manylinux2014_x86_64.whl (1.0 MB)\n",
            "\u001b[2K     \u001b[90m━━━━━━━━━━━━━━━━━━━━━━━━━━━━━━━━━━━━━━━━\u001b[0m \u001b[32m1.0/1.0 MB\u001b[0m \u001b[31m13.3 MB/s\u001b[0m eta \u001b[36m0:00:00\u001b[0m\n",
            "\u001b[?25hRequirement already satisfied: pandas in /usr/local/lib/python3.9/dist-packages (from datasets) (1.3.5)\n",
            "Collecting frozenlist>=1.1.1\n",
            "  Downloading frozenlist-1.3.3-cp39-cp39-manylinux_2_5_x86_64.manylinux1_x86_64.manylinux_2_17_x86_64.manylinux2014_x86_64.whl (158 kB)\n",
            "\u001b[2K     \u001b[90m━━━━━━━━━━━━━━━━━━━━━━━━━━━━━━━━━━━━━━━\u001b[0m \u001b[32m158.8/158.8 KB\u001b[0m \u001b[31m5.7 MB/s\u001b[0m eta \u001b[36m0:00:00\u001b[0m\n",
            "\u001b[?25hRequirement already satisfied: attrs>=17.3.0 in /usr/local/lib/python3.9/dist-packages (from aiohttp->datasets) (22.2.0)\n",
            "Collecting multidict<7.0,>=4.5\n",
            "  Downloading multidict-6.0.4-cp39-cp39-manylinux_2_17_x86_64.manylinux2014_x86_64.whl (114 kB)\n",
            "\u001b[2K     \u001b[90m━━━━━━━━━━━━━━━━━━━━━━━━━━━━━━━━━━━━━━━\u001b[0m \u001b[32m114.2/114.2 KB\u001b[0m \u001b[31m1.1 MB/s\u001b[0m eta \u001b[36m0:00:00\u001b[0m\n",
            "\u001b[?25hCollecting aiosignal>=1.1.2\n",
            "  Downloading aiosignal-1.3.1-py3-none-any.whl (7.6 kB)\n",
            "Collecting yarl<2.0,>=1.0\n",
            "  Downloading yarl-1.8.2-cp39-cp39-manylinux_2_17_x86_64.manylinux2014_x86_64.whl (264 kB)\n",
            "\u001b[2K     \u001b[90m━━━━━━━━━━━━━━━━━━━━━━━━━━━━━━━━━━━━━━━\u001b[0m \u001b[32m264.6/264.6 KB\u001b[0m \u001b[31m6.1 MB/s\u001b[0m eta \u001b[36m0:00:00\u001b[0m\n",
            "\u001b[?25hCollecting charset-normalizer<4.0,>=2.0\n",
            "  Downloading charset_normalizer-3.1.0-cp39-cp39-manylinux_2_17_x86_64.manylinux2014_x86_64.whl (199 kB)\n",
            "\u001b[2K     \u001b[90m━━━━━━━━━━━━━━━━━━━━━━━━━━━━━━━━━━━━━━━\u001b[0m \u001b[32m199.2/199.2 KB\u001b[0m \u001b[31m5.7 MB/s\u001b[0m eta \u001b[36m0:00:00\u001b[0m\n",
            "\u001b[?25hCollecting async-timeout<5.0,>=4.0.0a3\n",
            "  Downloading async_timeout-4.0.2-py3-none-any.whl (5.8 kB)\n",
            "Requirement already satisfied: typing-extensions>=3.7.4.3 in /usr/local/lib/python3.9/dist-packages (from huggingface-hub<1.0,>=0.11.0->transformers) (4.5.0)\n",
            "Requirement already satisfied: chardet<5,>=3.0.2 in /usr/local/lib/python3.9/dist-packages (from requests->transformers) (4.0.0)\n",
            "Requirement already satisfied: idna<3,>=2.5 in /usr/local/lib/python3.9/dist-packages (from requests->transformers) (2.10)\n",
            "Requirement already satisfied: urllib3<1.27,>=1.21.1 in /usr/local/lib/python3.9/dist-packages (from requests->transformers) (1.26.14)\n",
            "Requirement already satisfied: certifi>=2017.4.17 in /usr/local/lib/python3.9/dist-packages (from requests->transformers) (2022.12.7)\n",
            "Requirement already satisfied: pytz>=2017.3 in /usr/local/lib/python3.9/dist-packages (from pandas->datasets) (2022.7.1)\n",
            "Requirement already satisfied: python-dateutil>=2.7.3 in /usr/local/lib/python3.9/dist-packages (from pandas->datasets) (2.8.2)\n",
            "Requirement already satisfied: six>=1.5 in /usr/local/lib/python3.9/dist-packages (from python-dateutil>=2.7.3->pandas->datasets) (1.15.0)\n",
            "Installing collected packages: tokenizers, xxhash, multidict, frozenlist, dill, charset-normalizer, async-timeout, yarl, responses, multiprocess, huggingface-hub, aiosignal, transformers, aiohttp, datasets, evaluate\n",
            "Successfully installed aiohttp-3.8.4 aiosignal-1.3.1 async-timeout-4.0.2 charset-normalizer-3.1.0 datasets-2.10.1 dill-0.3.6 evaluate-0.4.0 frozenlist-1.3.3 huggingface-hub-0.13.1 multidict-6.0.4 multiprocess-0.70.14 responses-0.18.0 tokenizers-0.13.2 transformers-4.26.1 xxhash-3.2.0 yarl-1.8.2\n"
          ]
        }
      ],
      "source": [
        "!pip install transformers datasets evaluate"
      ]
    },
    {
      "cell_type": "code",
      "execution_count": 2,
      "metadata": {
        "id": "4QrD0qmKkiRL"
      },
      "outputs": [],
      "source": [
        "import pandas as pd\n",
        "import numpy as np\n",
        "import matplotlib.pyplot as plt\n",
        "import math\n",
        "import re\n",
        "import torch\n",
        "import torchtext\n",
        "import gensim.downloader\n",
        "from torch.utils.data import DataLoader\n",
        "from torchtext.data import get_tokenizer\n",
        "from torchtext.vocab import build_vocab_from_iterator\n",
        "from torch.types import Device\n",
        "from torch.utils.data import DataLoader\n",
        "from torchtext.data.functional import to_map_style_dataset\n",
        "from prompt_toolkit import output\n",
        "from torch import nn\n",
        "from torch.nn import functional as F\n",
        "from torch.optim import Adam, AdamW\n",
        "from torch.optim.lr_scheduler import LinearLR\n",
        "from torch.nn.init import xavier_uniform_\n",
        "from tqdm import tqdm\n",
        "from transformers import AutoTokenizer, AutoModelForSequenceClassification, DataCollatorWithPadding, get_scheduler\n",
        "from sklearn.metrics import accuracy_score, classification_report, confusion_matrix\n",
        "import gc\n",
        "# Hugging Face Dataset\n",
        "from datasets import Dataset\n",
        "\n",
        "# Model performance evaluation\n",
        "import evaluate\n",
        "\n",
        "from sklearn.preprocessing import LabelEncoder\n",
        "from sklearn.model_selection import train_test_split\n",
        "\n",
        "# Data processing\n",
        "import pandas as pd\n",
        "import numpy as np\n",
        "\n",
        "# Modeling\n",
        "import torch\n",
        "from torch.utils.data import DataLoader\n",
        "from torch.optim import AdamW\n",
        "from transformers import AutoTokenizer, AutoModelForSequenceClassification, get_scheduler\n",
        "\n",
        "# Progress bar\n",
        "from tqdm.auto import tqdm\n",
        "\n",
        "# Hugging Face Dataset\n",
        "from datasets import Dataset\n",
        "\n",
        "# Model performance evaluation\n",
        "import evaluate\n",
        "\n",
        "#Seed for reproducibility\n",
        "import random\n",
        "\n",
        "seed_value=42\n",
        "random.seed(seed_value)\n",
        "np.random.seed(seed_value)\n",
        "torch.manual_seed(seed_value)\n",
        "torch.cuda.manual_seed_all(seed_value)\n",
        "\n",
        "%matplotlib inline\n",
        "plt.style.use('ggplot')"
      ]
    },
    {
      "cell_type": "code",
      "execution_count": 3,
      "metadata": {
        "colab": {
          "base_uri": "https://localhost:8080/"
        },
        "id": "FKV7dOOg9tLM",
        "outputId": "f7ac17e8-da70-4613-8f82-75c1953839e2"
      },
      "outputs": [
        {
          "output_type": "stream",
          "name": "stdout",
          "text": [
            "Training on the cpu.\n"
          ]
        }
      ],
      "source": [
        "device = torch.device('cuda' if torch.cuda.is_available() else 'cpu')\n",
        "print(f'Training on the {device}.')"
      ]
    },
    {
      "cell_type": "markdown",
      "metadata": {
        "id": "pSRRIo1JlDyH"
      },
      "source": [
        "# Loading data, EDA, data preprocessing"
      ]
    },
    {
      "cell_type": "markdown",
      "metadata": {
        "id": "zASd3CbiAtx7"
      },
      "source": [
        "### Loading data"
      ]
    },
    {
      "cell_type": "code",
      "execution_count": 4,
      "metadata": {
        "colab": {
          "base_uri": "https://localhost:8080/"
        },
        "id": "XI6DAnfpk7rv",
        "outputId": "159dcb2d-3db3-4737-d181-85de8438e26f"
      },
      "outputs": [
        {
          "output_type": "stream",
          "name": "stdout",
          "text": [
            "Shape of train: (41159, 2)\n",
            "Shape of test: (3798, 2)\n"
          ]
        }
      ],
      "source": [
        "train_raw_data = pd.read_csv(filepath_or_buffer='https://raw.githubusercontent.com/wizard339/education/main/misis/nlp/text_classification/train.csv', index_col=0)\n",
        "subm_raw_data = pd.read_csv(filepath_or_buffer='https://raw.githubusercontent.com/wizard339/education/main/misis/nlp/text_classification/test.csv')\n",
        "\n",
        "print(f'Shape of train: {train_raw_data.shape}')\n",
        "print(f'Shape of test: {subm_raw_data.shape}')"
      ]
    },
    {
      "cell_type": "code",
      "execution_count": 5,
      "metadata": {
        "colab": {
          "base_uri": "https://localhost:8080/",
          "height": 0
        },
        "id": "CmFHCY0RcchW",
        "outputId": "d1cd1363-18a6-4d94-d016-5d6c5d9c302c"
      },
      "outputs": [
        {
          "output_type": "execute_result",
          "data": {
            "text/plain": [
              "                                                Text\n",
              "0  TRENDING: New Yorkers encounter empty supermar...\n",
              "1  When I couldn't find hand sanitizer at Fred Me...\n",
              "2  Find out how you can protect yourself and love...\n",
              "3  #Panic buying hits #NewYork City as anxious sh...\n",
              "4  #toiletpaper #dunnypaper #coronavirus #coronav..."
            ],
            "text/html": [
              "\n",
              "  <div id=\"df-584c2c2a-71cb-4ee1-991e-4b37df74237d\">\n",
              "    <div class=\"colab-df-container\">\n",
              "      <div>\n",
              "<style scoped>\n",
              "    .dataframe tbody tr th:only-of-type {\n",
              "        vertical-align: middle;\n",
              "    }\n",
              "\n",
              "    .dataframe tbody tr th {\n",
              "        vertical-align: top;\n",
              "    }\n",
              "\n",
              "    .dataframe thead th {\n",
              "        text-align: right;\n",
              "    }\n",
              "</style>\n",
              "<table border=\"1\" class=\"dataframe\">\n",
              "  <thead>\n",
              "    <tr style=\"text-align: right;\">\n",
              "      <th></th>\n",
              "      <th>Text</th>\n",
              "    </tr>\n",
              "  </thead>\n",
              "  <tbody>\n",
              "    <tr>\n",
              "      <th>0</th>\n",
              "      <td>TRENDING: New Yorkers encounter empty supermar...</td>\n",
              "    </tr>\n",
              "    <tr>\n",
              "      <th>1</th>\n",
              "      <td>When I couldn't find hand sanitizer at Fred Me...</td>\n",
              "    </tr>\n",
              "    <tr>\n",
              "      <th>2</th>\n",
              "      <td>Find out how you can protect yourself and love...</td>\n",
              "    </tr>\n",
              "    <tr>\n",
              "      <th>3</th>\n",
              "      <td>#Panic buying hits #NewYork City as anxious sh...</td>\n",
              "    </tr>\n",
              "    <tr>\n",
              "      <th>4</th>\n",
              "      <td>#toiletpaper #dunnypaper #coronavirus #coronav...</td>\n",
              "    </tr>\n",
              "  </tbody>\n",
              "</table>\n",
              "</div>\n",
              "      <button class=\"colab-df-convert\" onclick=\"convertToInteractive('df-584c2c2a-71cb-4ee1-991e-4b37df74237d')\"\n",
              "              title=\"Convert this dataframe to an interactive table.\"\n",
              "              style=\"display:none;\">\n",
              "        \n",
              "  <svg xmlns=\"http://www.w3.org/2000/svg\" height=\"24px\"viewBox=\"0 0 24 24\"\n",
              "       width=\"24px\">\n",
              "    <path d=\"M0 0h24v24H0V0z\" fill=\"none\"/>\n",
              "    <path d=\"M18.56 5.44l.94 2.06.94-2.06 2.06-.94-2.06-.94-.94-2.06-.94 2.06-2.06.94zm-11 1L8.5 8.5l.94-2.06 2.06-.94-2.06-.94L8.5 2.5l-.94 2.06-2.06.94zm10 10l.94 2.06.94-2.06 2.06-.94-2.06-.94-.94-2.06-.94 2.06-2.06.94z\"/><path d=\"M17.41 7.96l-1.37-1.37c-.4-.4-.92-.59-1.43-.59-.52 0-1.04.2-1.43.59L10.3 9.45l-7.72 7.72c-.78.78-.78 2.05 0 2.83L4 21.41c.39.39.9.59 1.41.59.51 0 1.02-.2 1.41-.59l7.78-7.78 2.81-2.81c.8-.78.8-2.07 0-2.86zM5.41 20L4 18.59l7.72-7.72 1.47 1.35L5.41 20z\"/>\n",
              "  </svg>\n",
              "      </button>\n",
              "      \n",
              "  <style>\n",
              "    .colab-df-container {\n",
              "      display:flex;\n",
              "      flex-wrap:wrap;\n",
              "      gap: 12px;\n",
              "    }\n",
              "\n",
              "    .colab-df-convert {\n",
              "      background-color: #E8F0FE;\n",
              "      border: none;\n",
              "      border-radius: 50%;\n",
              "      cursor: pointer;\n",
              "      display: none;\n",
              "      fill: #1967D2;\n",
              "      height: 32px;\n",
              "      padding: 0 0 0 0;\n",
              "      width: 32px;\n",
              "    }\n",
              "\n",
              "    .colab-df-convert:hover {\n",
              "      background-color: #E2EBFA;\n",
              "      box-shadow: 0px 1px 2px rgba(60, 64, 67, 0.3), 0px 1px 3px 1px rgba(60, 64, 67, 0.15);\n",
              "      fill: #174EA6;\n",
              "    }\n",
              "\n",
              "    [theme=dark] .colab-df-convert {\n",
              "      background-color: #3B4455;\n",
              "      fill: #D2E3FC;\n",
              "    }\n",
              "\n",
              "    [theme=dark] .colab-df-convert:hover {\n",
              "      background-color: #434B5C;\n",
              "      box-shadow: 0px 1px 3px 1px rgba(0, 0, 0, 0.15);\n",
              "      filter: drop-shadow(0px 1px 2px rgba(0, 0, 0, 0.3));\n",
              "      fill: #FFFFFF;\n",
              "    }\n",
              "  </style>\n",
              "\n",
              "      <script>\n",
              "        const buttonEl =\n",
              "          document.querySelector('#df-584c2c2a-71cb-4ee1-991e-4b37df74237d button.colab-df-convert');\n",
              "        buttonEl.style.display =\n",
              "          google.colab.kernel.accessAllowed ? 'block' : 'none';\n",
              "\n",
              "        async function convertToInteractive(key) {\n",
              "          const element = document.querySelector('#df-584c2c2a-71cb-4ee1-991e-4b37df74237d');\n",
              "          const dataTable =\n",
              "            await google.colab.kernel.invokeFunction('convertToInteractive',\n",
              "                                                     [key], {});\n",
              "          if (!dataTable) return;\n",
              "\n",
              "          const docLinkHtml = 'Like what you see? Visit the ' +\n",
              "            '<a target=\"_blank\" href=https://colab.research.google.com/notebooks/data_table.ipynb>data table notebook</a>'\n",
              "            + ' to learn more about interactive tables.';\n",
              "          element.innerHTML = '';\n",
              "          dataTable['output_type'] = 'display_data';\n",
              "          await google.colab.output.renderOutput(dataTable, element);\n",
              "          const docLink = document.createElement('div');\n",
              "          docLink.innerHTML = docLinkHtml;\n",
              "          element.appendChild(docLink);\n",
              "        }\n",
              "      </script>\n",
              "    </div>\n",
              "  </div>\n",
              "  "
            ]
          },
          "metadata": {},
          "execution_count": 5
        }
      ],
      "source": [
        "subm_raw_data = subm_raw_data.drop('id', axis=1)\n",
        "subm_raw_data.head()"
      ]
    },
    {
      "cell_type": "markdown",
      "metadata": {
        "id": "JWrgde2Lucb5"
      },
      "source": [
        "### Working with missing data"
      ]
    },
    {
      "cell_type": "markdown",
      "metadata": {
        "id": "RUiEV9aau6qo"
      },
      "source": [
        "Let's look at the data:\n"
      ]
    },
    {
      "cell_type": "code",
      "execution_count": 6,
      "metadata": {
        "colab": {
          "base_uri": "https://localhost:8080/",
          "height": 0
        },
        "id": "1sa0Mvfzlx1Z",
        "outputId": "6038c0a7-cb6a-462e-ddfe-7b931570cedd"
      },
      "outputs": [
        {
          "output_type": "execute_result",
          "data": {
            "text/plain": [
              "                                                Text           Sentiment\n",
              "0  @MeNyrbie @Phil_Gahan @Chrisitv https://t.co/i...             Neutral\n",
              "1  advice Talk to your neighbours family to excha...            Positive\n",
              "2  Coronavirus Australia: Woolworths to give elde...            Positive\n",
              "3  My food stock is not the only one which is emp...            Positive\n",
              "4  Me, ready to go at supermarket during the #COV...  Extremely Negative"
            ],
            "text/html": [
              "\n",
              "  <div id=\"df-840b4a9f-4fa4-40b3-90a3-2db5d14617b6\">\n",
              "    <div class=\"colab-df-container\">\n",
              "      <div>\n",
              "<style scoped>\n",
              "    .dataframe tbody tr th:only-of-type {\n",
              "        vertical-align: middle;\n",
              "    }\n",
              "\n",
              "    .dataframe tbody tr th {\n",
              "        vertical-align: top;\n",
              "    }\n",
              "\n",
              "    .dataframe thead th {\n",
              "        text-align: right;\n",
              "    }\n",
              "</style>\n",
              "<table border=\"1\" class=\"dataframe\">\n",
              "  <thead>\n",
              "    <tr style=\"text-align: right;\">\n",
              "      <th></th>\n",
              "      <th>Text</th>\n",
              "      <th>Sentiment</th>\n",
              "    </tr>\n",
              "  </thead>\n",
              "  <tbody>\n",
              "    <tr>\n",
              "      <th>0</th>\n",
              "      <td>@MeNyrbie @Phil_Gahan @Chrisitv https://t.co/i...</td>\n",
              "      <td>Neutral</td>\n",
              "    </tr>\n",
              "    <tr>\n",
              "      <th>1</th>\n",
              "      <td>advice Talk to your neighbours family to excha...</td>\n",
              "      <td>Positive</td>\n",
              "    </tr>\n",
              "    <tr>\n",
              "      <th>2</th>\n",
              "      <td>Coronavirus Australia: Woolworths to give elde...</td>\n",
              "      <td>Positive</td>\n",
              "    </tr>\n",
              "    <tr>\n",
              "      <th>3</th>\n",
              "      <td>My food stock is not the only one which is emp...</td>\n",
              "      <td>Positive</td>\n",
              "    </tr>\n",
              "    <tr>\n",
              "      <th>4</th>\n",
              "      <td>Me, ready to go at supermarket during the #COV...</td>\n",
              "      <td>Extremely Negative</td>\n",
              "    </tr>\n",
              "  </tbody>\n",
              "</table>\n",
              "</div>\n",
              "      <button class=\"colab-df-convert\" onclick=\"convertToInteractive('df-840b4a9f-4fa4-40b3-90a3-2db5d14617b6')\"\n",
              "              title=\"Convert this dataframe to an interactive table.\"\n",
              "              style=\"display:none;\">\n",
              "        \n",
              "  <svg xmlns=\"http://www.w3.org/2000/svg\" height=\"24px\"viewBox=\"0 0 24 24\"\n",
              "       width=\"24px\">\n",
              "    <path d=\"M0 0h24v24H0V0z\" fill=\"none\"/>\n",
              "    <path d=\"M18.56 5.44l.94 2.06.94-2.06 2.06-.94-2.06-.94-.94-2.06-.94 2.06-2.06.94zm-11 1L8.5 8.5l.94-2.06 2.06-.94-2.06-.94L8.5 2.5l-.94 2.06-2.06.94zm10 10l.94 2.06.94-2.06 2.06-.94-2.06-.94-.94-2.06-.94 2.06-2.06.94z\"/><path d=\"M17.41 7.96l-1.37-1.37c-.4-.4-.92-.59-1.43-.59-.52 0-1.04.2-1.43.59L10.3 9.45l-7.72 7.72c-.78.78-.78 2.05 0 2.83L4 21.41c.39.39.9.59 1.41.59.51 0 1.02-.2 1.41-.59l7.78-7.78 2.81-2.81c.8-.78.8-2.07 0-2.86zM5.41 20L4 18.59l7.72-7.72 1.47 1.35L5.41 20z\"/>\n",
              "  </svg>\n",
              "      </button>\n",
              "      \n",
              "  <style>\n",
              "    .colab-df-container {\n",
              "      display:flex;\n",
              "      flex-wrap:wrap;\n",
              "      gap: 12px;\n",
              "    }\n",
              "\n",
              "    .colab-df-convert {\n",
              "      background-color: #E8F0FE;\n",
              "      border: none;\n",
              "      border-radius: 50%;\n",
              "      cursor: pointer;\n",
              "      display: none;\n",
              "      fill: #1967D2;\n",
              "      height: 32px;\n",
              "      padding: 0 0 0 0;\n",
              "      width: 32px;\n",
              "    }\n",
              "\n",
              "    .colab-df-convert:hover {\n",
              "      background-color: #E2EBFA;\n",
              "      box-shadow: 0px 1px 2px rgba(60, 64, 67, 0.3), 0px 1px 3px 1px rgba(60, 64, 67, 0.15);\n",
              "      fill: #174EA6;\n",
              "    }\n",
              "\n",
              "    [theme=dark] .colab-df-convert {\n",
              "      background-color: #3B4455;\n",
              "      fill: #D2E3FC;\n",
              "    }\n",
              "\n",
              "    [theme=dark] .colab-df-convert:hover {\n",
              "      background-color: #434B5C;\n",
              "      box-shadow: 0px 1px 3px 1px rgba(0, 0, 0, 0.15);\n",
              "      filter: drop-shadow(0px 1px 2px rgba(0, 0, 0, 0.3));\n",
              "      fill: #FFFFFF;\n",
              "    }\n",
              "  </style>\n",
              "\n",
              "      <script>\n",
              "        const buttonEl =\n",
              "          document.querySelector('#df-840b4a9f-4fa4-40b3-90a3-2db5d14617b6 button.colab-df-convert');\n",
              "        buttonEl.style.display =\n",
              "          google.colab.kernel.accessAllowed ? 'block' : 'none';\n",
              "\n",
              "        async function convertToInteractive(key) {\n",
              "          const element = document.querySelector('#df-840b4a9f-4fa4-40b3-90a3-2db5d14617b6');\n",
              "          const dataTable =\n",
              "            await google.colab.kernel.invokeFunction('convertToInteractive',\n",
              "                                                     [key], {});\n",
              "          if (!dataTable) return;\n",
              "\n",
              "          const docLinkHtml = 'Like what you see? Visit the ' +\n",
              "            '<a target=\"_blank\" href=https://colab.research.google.com/notebooks/data_table.ipynb>data table notebook</a>'\n",
              "            + ' to learn more about interactive tables.';\n",
              "          element.innerHTML = '';\n",
              "          dataTable['output_type'] = 'display_data';\n",
              "          await google.colab.output.renderOutput(dataTable, element);\n",
              "          const docLink = document.createElement('div');\n",
              "          docLink.innerHTML = docLinkHtml;\n",
              "          element.appendChild(docLink);\n",
              "        }\n",
              "      </script>\n",
              "    </div>\n",
              "  </div>\n",
              "  "
            ]
          },
          "metadata": {},
          "execution_count": 6
        }
      ],
      "source": [
        "train_raw_data.head()"
      ]
    },
    {
      "cell_type": "code",
      "execution_count": 7,
      "metadata": {
        "colab": {
          "base_uri": "https://localhost:8080/"
        },
        "id": "vEOVFQHdmsiE",
        "outputId": "cc41cbfd-478f-4904-e09b-037a6ceb0744"
      },
      "outputs": [
        {
          "output_type": "stream",
          "name": "stdout",
          "text": [
            "<class 'pandas.core.frame.DataFrame'>\n",
            "Index: 41159 entries, 0 to 41156\n",
            "Data columns (total 2 columns):\n",
            " #   Column     Non-Null Count  Dtype \n",
            "---  ------     --------------  ----- \n",
            " 0   Text       41158 non-null  object\n",
            " 1   Sentiment  41155 non-null  object\n",
            "dtypes: object(2)\n",
            "memory usage: 964.7+ KB\n"
          ]
        }
      ],
      "source": [
        "train_raw_data.info()"
      ]
    },
    {
      "cell_type": "markdown",
      "metadata": {
        "id": "0_CvsTtvvN2O"
      },
      "source": [
        "We can see that there are rows with missing data. Let's look at them:"
      ]
    },
    {
      "cell_type": "code",
      "execution_count": 8,
      "metadata": {
        "colab": {
          "base_uri": "https://localhost:8080/",
          "height": 0
        },
        "id": "ZUENGV0Hpwzj",
        "outputId": "910f7894-775f-479d-de1b-5f01c410a25e"
      },
      "outputs": [
        {
          "output_type": "execute_result",
          "data": {
            "text/plain": [
              "                                                      Text Sentiment\n",
              "33122    @PrivyCouncilCA #SocialDistancing isnÂt enoug...       NaN\n",
              "NaN                                                Neutral       NaN\n",
              "39204    @TanDhesi @foreignoffice @Afzal4Gorton @Expres...       NaN\n",
              "Neutral                                                NaN       NaN"
            ],
            "text/html": [
              "\n",
              "  <div id=\"df-4efe51f9-89c4-4e22-a84c-239521bd0b37\">\n",
              "    <div class=\"colab-df-container\">\n",
              "      <div>\n",
              "<style scoped>\n",
              "    .dataframe tbody tr th:only-of-type {\n",
              "        vertical-align: middle;\n",
              "    }\n",
              "\n",
              "    .dataframe tbody tr th {\n",
              "        vertical-align: top;\n",
              "    }\n",
              "\n",
              "    .dataframe thead th {\n",
              "        text-align: right;\n",
              "    }\n",
              "</style>\n",
              "<table border=\"1\" class=\"dataframe\">\n",
              "  <thead>\n",
              "    <tr style=\"text-align: right;\">\n",
              "      <th></th>\n",
              "      <th>Text</th>\n",
              "      <th>Sentiment</th>\n",
              "    </tr>\n",
              "  </thead>\n",
              "  <tbody>\n",
              "    <tr>\n",
              "      <th>33122</th>\n",
              "      <td>@PrivyCouncilCA #SocialDistancing isnÂt enoug...</td>\n",
              "      <td>NaN</td>\n",
              "    </tr>\n",
              "    <tr>\n",
              "      <th>NaN</th>\n",
              "      <td>Neutral</td>\n",
              "      <td>NaN</td>\n",
              "    </tr>\n",
              "    <tr>\n",
              "      <th>39204</th>\n",
              "      <td>@TanDhesi @foreignoffice @Afzal4Gorton @Expres...</td>\n",
              "      <td>NaN</td>\n",
              "    </tr>\n",
              "    <tr>\n",
              "      <th>Neutral</th>\n",
              "      <td>NaN</td>\n",
              "      <td>NaN</td>\n",
              "    </tr>\n",
              "  </tbody>\n",
              "</table>\n",
              "</div>\n",
              "      <button class=\"colab-df-convert\" onclick=\"convertToInteractive('df-4efe51f9-89c4-4e22-a84c-239521bd0b37')\"\n",
              "              title=\"Convert this dataframe to an interactive table.\"\n",
              "              style=\"display:none;\">\n",
              "        \n",
              "  <svg xmlns=\"http://www.w3.org/2000/svg\" height=\"24px\"viewBox=\"0 0 24 24\"\n",
              "       width=\"24px\">\n",
              "    <path d=\"M0 0h24v24H0V0z\" fill=\"none\"/>\n",
              "    <path d=\"M18.56 5.44l.94 2.06.94-2.06 2.06-.94-2.06-.94-.94-2.06-.94 2.06-2.06.94zm-11 1L8.5 8.5l.94-2.06 2.06-.94-2.06-.94L8.5 2.5l-.94 2.06-2.06.94zm10 10l.94 2.06.94-2.06 2.06-.94-2.06-.94-.94-2.06-.94 2.06-2.06.94z\"/><path d=\"M17.41 7.96l-1.37-1.37c-.4-.4-.92-.59-1.43-.59-.52 0-1.04.2-1.43.59L10.3 9.45l-7.72 7.72c-.78.78-.78 2.05 0 2.83L4 21.41c.39.39.9.59 1.41.59.51 0 1.02-.2 1.41-.59l7.78-7.78 2.81-2.81c.8-.78.8-2.07 0-2.86zM5.41 20L4 18.59l7.72-7.72 1.47 1.35L5.41 20z\"/>\n",
              "  </svg>\n",
              "      </button>\n",
              "      \n",
              "  <style>\n",
              "    .colab-df-container {\n",
              "      display:flex;\n",
              "      flex-wrap:wrap;\n",
              "      gap: 12px;\n",
              "    }\n",
              "\n",
              "    .colab-df-convert {\n",
              "      background-color: #E8F0FE;\n",
              "      border: none;\n",
              "      border-radius: 50%;\n",
              "      cursor: pointer;\n",
              "      display: none;\n",
              "      fill: #1967D2;\n",
              "      height: 32px;\n",
              "      padding: 0 0 0 0;\n",
              "      width: 32px;\n",
              "    }\n",
              "\n",
              "    .colab-df-convert:hover {\n",
              "      background-color: #E2EBFA;\n",
              "      box-shadow: 0px 1px 2px rgba(60, 64, 67, 0.3), 0px 1px 3px 1px rgba(60, 64, 67, 0.15);\n",
              "      fill: #174EA6;\n",
              "    }\n",
              "\n",
              "    [theme=dark] .colab-df-convert {\n",
              "      background-color: #3B4455;\n",
              "      fill: #D2E3FC;\n",
              "    }\n",
              "\n",
              "    [theme=dark] .colab-df-convert:hover {\n",
              "      background-color: #434B5C;\n",
              "      box-shadow: 0px 1px 3px 1px rgba(0, 0, 0, 0.15);\n",
              "      filter: drop-shadow(0px 1px 2px rgba(0, 0, 0, 0.3));\n",
              "      fill: #FFFFFF;\n",
              "    }\n",
              "  </style>\n",
              "\n",
              "      <script>\n",
              "        const buttonEl =\n",
              "          document.querySelector('#df-4efe51f9-89c4-4e22-a84c-239521bd0b37 button.colab-df-convert');\n",
              "        buttonEl.style.display =\n",
              "          google.colab.kernel.accessAllowed ? 'block' : 'none';\n",
              "\n",
              "        async function convertToInteractive(key) {\n",
              "          const element = document.querySelector('#df-4efe51f9-89c4-4e22-a84c-239521bd0b37');\n",
              "          const dataTable =\n",
              "            await google.colab.kernel.invokeFunction('convertToInteractive',\n",
              "                                                     [key], {});\n",
              "          if (!dataTable) return;\n",
              "\n",
              "          const docLinkHtml = 'Like what you see? Visit the ' +\n",
              "            '<a target=\"_blank\" href=https://colab.research.google.com/notebooks/data_table.ipynb>data table notebook</a>'\n",
              "            + ' to learn more about interactive tables.';\n",
              "          element.innerHTML = '';\n",
              "          dataTable['output_type'] = 'display_data';\n",
              "          await google.colab.output.renderOutput(dataTable, element);\n",
              "          const docLink = document.createElement('div');\n",
              "          docLink.innerHTML = docLinkHtml;\n",
              "          element.appendChild(docLink);\n",
              "        }\n",
              "      </script>\n",
              "    </div>\n",
              "  </div>\n",
              "  "
            ]
          },
          "metadata": {},
          "execution_count": 8
        }
      ],
      "source": [
        "train_raw_data[train_raw_data['Sentiment'].isnull() == True]"
      ]
    },
    {
      "cell_type": "markdown",
      "metadata": {
        "id": "AdeIHPFjv-Kv"
      },
      "source": [
        "Let's drop these rows from our DataFrame because they don't carry much value and let's look at the data again:"
      ]
    },
    {
      "cell_type": "code",
      "execution_count": 9,
      "metadata": {
        "colab": {
          "base_uri": "https://localhost:8080/"
        },
        "id": "I_S2wW1Ov52V",
        "outputId": "71e23946-7b14-44c1-8aae-70df9f9026ba"
      },
      "outputs": [
        {
          "output_type": "stream",
          "name": "stdout",
          "text": [
            "New shape of train: (41155, 2)\n"
          ]
        }
      ],
      "source": [
        "train_raw_data = train_raw_data.dropna().reset_index(drop=True)\n",
        "print(f'New shape of train: {train_raw_data.shape}')"
      ]
    },
    {
      "cell_type": "code",
      "execution_count": 10,
      "metadata": {
        "colab": {
          "base_uri": "https://localhost:8080/"
        },
        "id": "4ysjsa6gw-hr",
        "outputId": "d4e8d42a-67a9-463a-b7c5-1efdc8e24761"
      },
      "outputs": [
        {
          "output_type": "stream",
          "name": "stdout",
          "text": [
            "<class 'pandas.core.frame.DataFrame'>\n",
            "RangeIndex: 41155 entries, 0 to 41154\n",
            "Data columns (total 2 columns):\n",
            " #   Column     Non-Null Count  Dtype \n",
            "---  ------     --------------  ----- \n",
            " 0   Text       41155 non-null  object\n",
            " 1   Sentiment  41155 non-null  object\n",
            "dtypes: object(2)\n",
            "memory usage: 643.2+ KB\n"
          ]
        }
      ],
      "source": [
        "train_raw_data.info()"
      ]
    },
    {
      "cell_type": "markdown",
      "metadata": {
        "id": "C4C_C1RIidNW"
      },
      "source": [
        "Let's look at the lines of texts:"
      ]
    },
    {
      "cell_type": "code",
      "execution_count": 11,
      "metadata": {
        "colab": {
          "base_uri": "https://localhost:8080/",
          "height": 0
        },
        "id": "lFX68FAAiUEF",
        "outputId": "7b643796-d1b0-48a9-d154-12c5e1ad473f"
      },
      "outputs": [
        {
          "output_type": "execute_result",
          "data": {
            "text/plain": [
              "(array([ 530., 3268., 4924., 6560., 6257., 7495., 8516., 3053.,  529.,\n",
              "          23.]),\n",
              " array([ 1. ,  7.3, 13.6, 19.9, 26.2, 32.5, 38.8, 45.1, 51.4, 57.7, 64. ]),\n",
              " <BarContainer object of 10 artists>)"
            ]
          },
          "metadata": {},
          "execution_count": 11
        },
        {
          "output_type": "display_data",
          "data": {
            "text/plain": [
              "<Figure size 432x288 with 1 Axes>"
            ],
            "image/png": "[encoded data removed]"
          },
          "metadata": {}
        }
      ],
      "source": [
        "plt.hist([len(text.split()) for text in train_raw_data['Text']])"
      ]
    },
    {
      "cell_type": "code",
      "execution_count": 12,
      "metadata": {
        "colab": {
          "base_uri": "https://localhost:8080/",
          "height": 0
        },
        "id": "LEfqHImMiRqL",
        "outputId": "07b6244a-88f5-4c8f-b997-ec8b18ec6faf"
      },
      "outputs": [
        {
          "output_type": "execute_result",
          "data": {
            "text/plain": [
              "(array([ 24., 231., 356., 477., 543., 623., 701., 629., 199.,  15.]),\n",
              " array([ 2.,  8., 14., 20., 26., 32., 38., 44., 50., 56., 62.]),\n",
              " <BarContainer object of 10 artists>)"
            ]
          },
          "metadata": {},
          "execution_count": 12
        },
        {
          "output_type": "display_data",
          "data": {
            "text/plain": [
              "<Figure size 432x288 with 1 Axes>"
            ],
            "image/png": "[encoded data removed]"
          },
          "metadata": {}
        }
      ],
      "source": [
        "plt.hist([len(text.split()) for text in subm_raw_data['Text']])"
      ]
    },
    {
      "cell_type": "markdown",
      "metadata": {
        "id": "gR7OO311irog"
      },
      "source": [
        "There are no sequences that are too long and the distributions in the training and test samples are similar. It is good."
      ]
    },
    {
      "cell_type": "markdown",
      "metadata": {
        "id": "qR5dBpDmBOto"
      },
      "source": [
        "### Label encoding of target column"
      ]
    },
    {
      "cell_type": "code",
      "execution_count": 13,
      "metadata": {
        "colab": {
          "base_uri": "https://localhost:8080/"
        },
        "id": "N7zW7Diayv0I",
        "outputId": "4b64c85b-619c-4fd8-8504-71134ba107a2"
      },
      "outputs": [
        {
          "output_type": "execute_result",
          "data": {
            "text/plain": [
              "Positive              11422\n",
              "Negative               9917\n",
              "Neutral                7711\n",
              "Extremely Positive     6624\n",
              "Extremely Negative     5481\n",
              "Name: Sentiment, dtype: int64"
            ]
          },
          "metadata": {},
          "execution_count": 13
        }
      ],
      "source": [
        "train_raw_data['Sentiment'].value_counts()"
      ]
    },
    {
      "cell_type": "code",
      "execution_count": 14,
      "metadata": {
        "colab": {
          "base_uri": "https://localhost:8080/",
          "height": 0
        },
        "id": "8CVn5RlO9H1D",
        "outputId": "91008cd7-4279-4e7e-d216-dab0dc9611d5"
      },
      "outputs": [
        {
          "output_type": "execute_result",
          "data": {
            "text/plain": [
              "                                                Text  Sentiment\n",
              "0  @MeNyrbie @Phil_Gahan @Chrisitv https://t.co/i...          3\n",
              "1  advice Talk to your neighbours family to excha...          4\n",
              "2  Coronavirus Australia: Woolworths to give elde...          4\n",
              "3  My food stock is not the only one which is emp...          4\n",
              "4  Me, ready to go at supermarket during the #COV...          0"
            ],
            "text/html": [
              "\n",
              "  <div id=\"df-2aa47f6e-d948-4224-aaa9-b80d4b84530f\">\n",
              "    <div class=\"colab-df-container\">\n",
              "      <div>\n",
              "<style scoped>\n",
              "    .dataframe tbody tr th:only-of-type {\n",
              "        vertical-align: middle;\n",
              "    }\n",
              "\n",
              "    .dataframe tbody tr th {\n",
              "        vertical-align: top;\n",
              "    }\n",
              "\n",
              "    .dataframe thead th {\n",
              "        text-align: right;\n",
              "    }\n",
              "</style>\n",
              "<table border=\"1\" class=\"dataframe\">\n",
              "  <thead>\n",
              "    <tr style=\"text-align: right;\">\n",
              "      <th></th>\n",
              "      <th>Text</th>\n",
              "      <th>Sentiment</th>\n",
              "    </tr>\n",
              "  </thead>\n",
              "  <tbody>\n",
              "    <tr>\n",
              "      <th>0</th>\n",
              "      <td>@MeNyrbie @Phil_Gahan @Chrisitv https://t.co/i...</td>\n",
              "      <td>3</td>\n",
              "    </tr>\n",
              "    <tr>\n",
              "      <th>1</th>\n",
              "      <td>advice Talk to your neighbours family to excha...</td>\n",
              "      <td>4</td>\n",
              "    </tr>\n",
              "    <tr>\n",
              "      <th>2</th>\n",
              "      <td>Coronavirus Australia: Woolworths to give elde...</td>\n",
              "      <td>4</td>\n",
              "    </tr>\n",
              "    <tr>\n",
              "      <th>3</th>\n",
              "      <td>My food stock is not the only one which is emp...</td>\n",
              "      <td>4</td>\n",
              "    </tr>\n",
              "    <tr>\n",
              "      <th>4</th>\n",
              "      <td>Me, ready to go at supermarket during the #COV...</td>\n",
              "      <td>0</td>\n",
              "    </tr>\n",
              "  </tbody>\n",
              "</table>\n",
              "</div>\n",
              "      <button class=\"colab-df-convert\" onclick=\"convertToInteractive('df-2aa47f6e-d948-4224-aaa9-b80d4b84530f')\"\n",
              "              title=\"Convert this dataframe to an interactive table.\"\n",
              "              style=\"display:none;\">\n",
              "        \n",
              "  <svg xmlns=\"http://www.w3.org/2000/svg\" height=\"24px\"viewBox=\"0 0 24 24\"\n",
              "       width=\"24px\">\n",
              "    <path d=\"M0 0h24v24H0V0z\" fill=\"none\"/>\n",
              "    <path d=\"M18.56 5.44l.94 2.06.94-2.06 2.06-.94-2.06-.94-.94-2.06-.94 2.06-2.06.94zm-11 1L8.5 8.5l.94-2.06 2.06-.94-2.06-.94L8.5 2.5l-.94 2.06-2.06.94zm10 10l.94 2.06.94-2.06 2.06-.94-2.06-.94-.94-2.06-.94 2.06-2.06.94z\"/><path d=\"M17.41 7.96l-1.37-1.37c-.4-.4-.92-.59-1.43-.59-.52 0-1.04.2-1.43.59L10.3 9.45l-7.72 7.72c-.78.78-.78 2.05 0 2.83L4 21.41c.39.39.9.59 1.41.59.51 0 1.02-.2 1.41-.59l7.78-7.78 2.81-2.81c.8-.78.8-2.07 0-2.86zM5.41 20L4 18.59l7.72-7.72 1.47 1.35L5.41 20z\"/>\n",
              "  </svg>\n",
              "      </button>\n",
              "      \n",
              "  <style>\n",
              "    .colab-df-container {\n",
              "      display:flex;\n",
              "      flex-wrap:wrap;\n",
              "      gap: 12px;\n",
              "    }\n",
              "\n",
              "    .colab-df-convert {\n",
              "      background-color: #E8F0FE;\n",
              "      border: none;\n",
              "      border-radius: 50%;\n",
              "      cursor: pointer;\n",
              "      display: none;\n",
              "      fill: #1967D2;\n",
              "      height: 32px;\n",
              "      padding: 0 0 0 0;\n",
              "      width: 32px;\n",
              "    }\n",
              "\n",
              "    .colab-df-convert:hover {\n",
              "      background-color: #E2EBFA;\n",
              "      box-shadow: 0px 1px 2px rgba(60, 64, 67, 0.3), 0px 1px 3px 1px rgba(60, 64, 67, 0.15);\n",
              "      fill: #174EA6;\n",
              "    }\n",
              "\n",
              "    [theme=dark] .colab-df-convert {\n",
              "      background-color: #3B4455;\n",
              "      fill: #D2E3FC;\n",
              "    }\n",
              "\n",
              "    [theme=dark] .colab-df-convert:hover {\n",
              "      background-color: #434B5C;\n",
              "      box-shadow: 0px 1px 3px 1px rgba(0, 0, 0, 0.15);\n",
              "      filter: drop-shadow(0px 1px 2px rgba(0, 0, 0, 0.3));\n",
              "      fill: #FFFFFF;\n",
              "    }\n",
              "  </style>\n",
              "\n",
              "      <script>\n",
              "        const buttonEl =\n",
              "          document.querySelector('#df-2aa47f6e-d948-4224-aaa9-b80d4b84530f button.colab-df-convert');\n",
              "        buttonEl.style.display =\n",
              "          google.colab.kernel.accessAllowed ? 'block' : 'none';\n",
              "\n",
              "        async function convertToInteractive(key) {\n",
              "          const element = document.querySelector('#df-2aa47f6e-d948-4224-aaa9-b80d4b84530f');\n",
              "          const dataTable =\n",
              "            await google.colab.kernel.invokeFunction('convertToInteractive',\n",
              "                                                     [key], {});\n",
              "          if (!dataTable) return;\n",
              "\n",
              "          const docLinkHtml = 'Like what you see? Visit the ' +\n",
              "            '<a target=\"_blank\" href=https://colab.research.google.com/notebooks/data_table.ipynb>data table notebook</a>'\n",
              "            + ' to learn more about interactive tables.';\n",
              "          element.innerHTML = '';\n",
              "          dataTable['output_type'] = 'display_data';\n",
              "          await google.colab.output.renderOutput(dataTable, element);\n",
              "          const docLink = document.createElement('div');\n",
              "          docLink.innerHTML = docLinkHtml;\n",
              "          element.appendChild(docLink);\n",
              "        }\n",
              "      </script>\n",
              "    </div>\n",
              "  </div>\n",
              "  "
            ]
          },
          "metadata": {},
          "execution_count": 14
        }
      ],
      "source": [
        "le = LabelEncoder()\n",
        "le.fit(train_raw_data['Sentiment'])\n",
        "train_raw_data['Sentiment'] = le.transform(train_raw_data['Sentiment'])\n",
        "train_raw_data.head(5)"
      ]
    },
    {
      "cell_type": "markdown",
      "metadata": {
        "id": "_n-QE9eEsNSo",
        "tags": []
      },
      "source": [
        "## For LSTM model"
      ]
    },
    {
      "cell_type": "markdown",
      "metadata": {
        "id": "0AMv6PmTBj8t",
        "tags": []
      },
      "source": [
        "### Сleaning text from useless data"
      ]
    },
    {
      "cell_type": "markdown",
      "metadata": {
        "id": "lrE0m0XYCMO9"
      },
      "source": [
        "Let's look at the text more closely:"
      ]
    },
    {
      "cell_type": "code",
      "execution_count": null,
      "metadata": {
        "colab": {
          "base_uri": "https://localhost:8080/"
        },
        "id": "ONquVuGj-YRd",
        "outputId": "357ed35c-0ebc-4b95-d069-d30ac880cbc6"
      },
      "outputs": [
        {
          "data": {
            "text/plain": [
              "array(['So panic buying of soaps and toilet roll was bad enough, now the idiots are stockpiling alcohol ? whats wrong with people #CoronaVirus #StopPanicBuying #Covid_19',\n",
              "       'I would place a large amount of money this is the guy buying 90 of the toilet paper',\n",
              "       '\"Saudi Arabia is bracing for an economic downturn as oil prices plummet due to the #coronavirus pandemic\" https://t.co/PQ3eRX9euZ',\n",
              "       '#Foodsecurity #coronavirus #covid19 \\r\\r\\n1.Smooth flow of global trade will help secure food supply\\r\\r\\n2.Monitoring food prices and markets\\r\\r\\n3.Sharing relevant information transparently\\r\\r\\n4.Supporting the vulnerable countries and populationsÂ\\x85https://t.co/tTPmInVVgS https://t.co/Ums3Eueu6J',\n",
              "       'I d like to know who is stockpiling eggs cheese and ice cream and why I m used to going without as our local Lidl has been running out of all kinds of stuff for years way before Drives me potty Going to the supermarket is like entering a lottery',\n",
              "       'Whenever you touch any object or surface outside your abode #washyourhands with #soapandwater\\r\\r\\n\\r\\r\\n#staysafe #stayhome\\r\\r\\n#sanitizer #socialdistancing \\r\\r\\n#covid19 #sd\\r\\r\\n#coronavirus \\r\\r\\n#chinesevirus\\r\\r\\n#asiegercares \\r\\r\\n#who #asieger https://t.co/UYM6i83PeP',\n",
              "       'P.S.A for those buying ?. The human body can survive upwards of 40 days with no food. Water is the most important thing during these times; especially since you canÂ\\x92t go more then 3 days without it before death. Think wise and not in a panic induced state. Stay safe. #Covid_19',\n",
              "       'Publix. Walmart. Thats how its spreading through our community. You may stay home all week, then go get a gallon of milk with a side of Covid-19Why would you set limits of boats in the waters to stay 50ft apart, But not regulate the amount of people in a supermarket.#coronavirus',\n",
              "       'Our healthcare community is the backbone of the response to #Coronavirus. @marty_walsh is committed to supporting them, so certain garages in the @CityOfBoston are now offering reduced prices for hospital staff. \\r\\r\\n\\r\\r\\nhttps://t.co/VFpW5FXObJ',\n",
              "       'Lilliesleaf clapped as Alan played for  NHS workers, delivery people, supermarket staff, carers and everyone out there taking care of the sick and keeping the country going. You have to squint to see the people at their houses but they are there. #clapforkeyworkers #coronavirus https://t.co/VqIZSCKCvE'],\n",
              "      dtype=object)"
            ]
          },
          "execution_count": 15,
          "metadata": {},
          "output_type": "execute_result"
        }
      ],
      "source": [
        "train_raw_data['Text'].sample(10, random_state=42).values"
      ]
    },
    {
      "cell_type": "code",
      "execution_count": 73,
      "metadata": {
        "id": "VljsoMJbB_qy"
      },
      "outputs": [],
      "source": [
        "def text_cleaner(text: str) -> str:\n",
        "    '''will clean from unicode, url, hashtags, numbers,\n",
        "    nicknames, lower'''\n",
        "    # text = re.sub(r'[.,#!$%\\^&\\*;:{}=\\-_`~()]',r'',text) # punct.\n",
        "    \n",
        "    # text = re.sub(r'(\\\\u[0-9A-Fa-f]+)',r'', text)       \n",
        "    text = re.sub(r'[^\\x00-\\x7f]', r'', text)# unicode\n",
        "\n",
        "    text = re.sub(r'(\\\\[a-z])', r'', text)\n",
        "    \n",
        "    text = re.sub(r'http\\S+', r'', text)# url\n",
        "    \n",
        "    # text = re.sub('@[A-Za-z0-9_-]+', r'', text)# nickname\n",
        "    \n",
        "    # text = re.sub(r'#([^\\s]+)', r'\\1', text)# hashtag symbol\n",
        "    \n",
        "    text = re.sub(':\\)|;\\)|:-\\)|\\(-:|:-D|=D|:P|xD|X-p|\\^\\^|:-*|\\^\\.\\^|\\^\\-\\^|\\^\\_\\^|\\,-\\)|\\)-:|:\\'\\(|:\\(|:-\\(|:\\S|T\\.T|\\.\\_\\.|:<|:-\\S|:-<|\\*\\-\\*|:O|=O|=\\-O|O\\.o|XO|O\\_O|:-\\@|=/|:/|X\\-\\(|>\\.<|>=\\(|D:',\n",
        "                  '', text) # emoji\n",
        "    \n",
        "    text = ''.join([i for i in text if not i.isdigit()])# int.\n",
        "    \n",
        "    text = text.lower()\n",
        "    return text"
      ]
    },
    {
      "cell_type": "code",
      "execution_count": 74,
      "metadata": {
        "colab": {
          "base_uri": "https://localhost:8080/"
        },
        "id": "UYTDnZvKSFoF",
        "outputId": "3316a931-3091-47da-b054-aeff0b68e1fc"
      },
      "outputs": [
        {
          "output_type": "execute_result",
          "data": {
            "text/plain": [
              "array(['so panic buying of soaps and toilet roll was bad enough, now the idiots are stockpiling alcohol ? whats wrong with people #coronavirus #stoppanicbuying #covid_',\n",
              "       'i would place a large amount of money this is the guy buying  of the toilet paper',\n",
              "       '\"saudi arabia is bracing for an economic downturn as oil prices plummet due to the #coronavirus pandemic\" ',\n",
              "       '#foodsecurity #coronavirus #covid \\r\\r\\n.smooth flow of global trade will help secure food supply\\r\\r\\n.monitoring food prices and markets\\r\\r\\n.sharing relevant information transparently\\r\\r\\n.supporting the vulnerable countries and populations ',\n",
              "       'i d like to know who is stockpiling eggs cheese and ice cream and why i m used to going without as our local lidl has been running out of all kinds of stuff for years way before drives me potty going to the supermarket is like entering a lottery',\n",
              "       'whenever you touch any object or surface outside your abode #washyourhands with #soapandwater\\r\\r\\n\\r\\r\\n#staysafe #stayhome\\r\\r\\n#sanitizer #socialdistancing \\r\\r\\n#covid #sd\\r\\r\\n#coronavirus \\r\\r\\n#chinesevirus\\r\\r\\n#asiegercares \\r\\r\\n#who #asieger ',\n",
              "       'p.s.a for those buying ?. the human body can survive upwards of  days with no food. water is the most important thing during these times; especially since you cant go more then  days without it before death. think wise and not in a panic induced state. stay safe. #covid_',\n",
              "       'publix. walmart. thats how its spreading through our community. you may stay home all week, then go get a gallon of milk with a side of covid-why would you set limits of boats in the waters to stay ft apart, but not regulate the amount of people in a supermarket.#coronavirus',\n",
              "       'our healthcare community is the backbone of the response to #coronavirus. @marty_walsh is committed to supporting them, so certain garages in the @cityofboston are now offering reduced prices for hospital staff. \\r\\r\\n\\r\\r\\n',\n",
              "       'lilliesleaf clapped as alan played for  nhs workers, delivery people, supermarket staff, carers and everyone out there taking care of the sick and keeping the country going. you have to squint to see the people at their houses but they are there. #clapforkeyworkers #coronavirus '],\n",
              "      dtype=object)"
            ]
          },
          "metadata": {},
          "execution_count": 74
        }
      ],
      "source": [
        "train_raw_data['Text'] = train_raw_data['Text'].apply(text_cleaner)\n",
        "subm_raw_data['Text'] = subm_raw_data['Text'].apply(text_cleaner)\n",
        "train_raw_data['Text'].sample(10, random_state=42).values"
      ]
    },
    {
      "cell_type": "markdown",
      "metadata": {
        "id": "7tWDMRnGjanh",
        "jp-MarkdownHeadingCollapsed": true,
        "tags": []
      },
      "source": [
        "### Tokenization"
      ]
    },
    {
      "cell_type": "code",
      "execution_count": null,
      "metadata": {
        "id": "88kvuR7RjZpC"
      },
      "outputs": [],
      "source": [
        "tokenizer = get_tokenizer('basic_english')\n",
        "\n",
        "def build_vocabulary(datasets):\n",
        "  for dataset in datasets:\n",
        "    for text in dataset['Text']:\n",
        "      yield tokenizer(text)\n",
        "\n",
        "vocab = build_vocab_from_iterator(build_vocabulary([train_raw_data, subm_raw_data]), specials=['<UNK>'])\n",
        "vocab.set_default_index(vocab['<UNK>'])"
      ]
    },
    {
      "cell_type": "code",
      "execution_count": null,
      "metadata": {
        "colab": {
          "base_uri": "https://localhost:8080/"
        },
        "id": "OrnCeVg1s-8S",
        "outputId": "0a73452b-d94a-4734-894e-778905bf76b1"
      },
      "outputs": [
        {
          "name": "stdout",
          "output_type": "stream",
          "text": [
            "Vocabulary length: 50653\n"
          ]
        }
      ],
      "source": [
        "print(f'Vocabulary length: {vocab.__len__()}')"
      ]
    },
    {
      "cell_type": "markdown",
      "metadata": {
        "id": "ThzzFC5jXcAj",
        "tags": []
      },
      "source": [
        "### Splitting of training data"
      ]
    },
    {
      "cell_type": "markdown",
      "metadata": {
        "id": "dZenBWDaYCyG"
      },
      "source": [
        "We need to split our train_raw_data by train, validation and test samples in the proportions of 80:10:10.\n",
        "\n",
        "However, our data contain texts for 5 classes, so it is necessary to keep stratification after their splitting."
      ]
    },
    {
      "cell_type": "code",
      "execution_count": null,
      "metadata": {
        "id": "S7oQ4XouXB2O"
      },
      "outputs": [],
      "source": [
        "# first, we will split data by two samples: train and test in the proportion of 80:20\n",
        "train_data, test_data = train_test_split(train_raw_data, test_size=0.2, stratify=train_raw_data['Sentiment'], random_state=42)\n",
        "# then, we will split test data by two samples: validation and test in the proportion of 50:50 \n",
        "val_data, test_data = train_test_split(test_data, test_size=0.5, stratify=test_data['Sentiment'], random_state=42)"
      ]
    },
    {
      "cell_type": "markdown",
      "metadata": {
        "id": "I8GaEeMceLD8"
      },
      "source": [
        "Check the stratification:"
      ]
    },
    {
      "cell_type": "code",
      "execution_count": null,
      "metadata": {
        "colab": {
          "base_uri": "https://localhost:8080/"
        },
        "id": "qqZHawm1cWVX",
        "outputId": "d3b8a0b2-fb94-4860-deff-04bd74693984"
      },
      "outputs": [
        {
          "data": {
            "text/plain": [
              "4    0.277536\n",
              "2    0.240967\n",
              "3    0.187365\n",
              "1    0.160952\n",
              "0    0.133179\n",
              "Name: Sentiment, dtype: float64"
            ]
          },
          "execution_count": 26,
          "metadata": {},
          "output_type": "execute_result"
        }
      ],
      "source": [
        "train_raw_data['Sentiment'].value_counts(normalize=True)"
      ]
    },
    {
      "cell_type": "code",
      "execution_count": null,
      "metadata": {
        "colab": {
          "base_uri": "https://localhost:8080/"
        },
        "id": "zyY-tnNOb7Op",
        "outputId": "ec031d49-5b5a-4453-e5cb-f682b44aa16f"
      },
      "outputs": [
        {
          "data": {
            "text/plain": [
              "4    0.277518\n",
              "2    0.240979\n",
              "3    0.187371\n",
              "1    0.160946\n",
              "0    0.133186\n",
              "Name: Sentiment, dtype: float64"
            ]
          },
          "execution_count": 27,
          "metadata": {},
          "output_type": "execute_result"
        }
      ],
      "source": [
        "train_data['Sentiment'].value_counts(normalize=True)"
      ]
    },
    {
      "cell_type": "code",
      "execution_count": null,
      "metadata": {
        "colab": {
          "base_uri": "https://localhost:8080/"
        },
        "id": "sH7m85vfcD5T",
        "outputId": "cb955216-0e4c-4a5b-acb0-f0ad5f17ab96"
      },
      "outputs": [
        {
          "data": {
            "text/plain": [
              "4    0.277521\n",
              "2    0.240826\n",
              "3    0.187363\n",
              "1    0.161118\n",
              "0    0.133171\n",
              "Name: Sentiment, dtype: float64"
            ]
          },
          "execution_count": 28,
          "metadata": {},
          "output_type": "execute_result"
        }
      ],
      "source": [
        "val_data['Sentiment'].value_counts(normalize=True)"
      ]
    },
    {
      "cell_type": "code",
      "execution_count": null,
      "metadata": {
        "colab": {
          "base_uri": "https://localhost:8080/"
        },
        "id": "JbB208eCcuG4",
        "outputId": "b503167d-2fbf-4761-c058-01a8cbc62e4c"
      },
      "outputs": [
        {
          "data": {
            "text/plain": [
              "4    0.277697\n",
              "2    0.241011\n",
              "3    0.187318\n",
              "1    0.160836\n",
              "0    0.133139\n",
              "Name: Sentiment, dtype: float64"
            ]
          },
          "execution_count": 29,
          "metadata": {},
          "output_type": "execute_result"
        }
      ],
      "source": [
        "test_data['Sentiment'].value_counts(normalize=True)"
      ]
    },
    {
      "cell_type": "code",
      "execution_count": null,
      "metadata": {
        "colab": {
          "base_uri": "https://localhost:8080/"
        },
        "id": "4vxoU9e5cvtM",
        "outputId": "6813dd1d-510e-4882-9b02-a9fe3025697d"
      },
      "outputs": [
        {
          "name": "stdout",
          "output_type": "stream",
          "text": [
            "Shape of the train_data: (32924, 2)\n",
            "Shape of the val_data: (4115, 2)\n",
            "Shape of the test_data: (4116, 2)\n",
            "Shape of the finel_test_raw_data: (3798, 1)\n"
          ]
        }
      ],
      "source": [
        "print(f'Shape of the train_data: {train_data.shape}')\n",
        "print(f'Shape of the val_data: {val_data.shape}')\n",
        "print(f'Shape of the test_data: {test_data.shape}')\n",
        "print(f'Shape of the finel_test_raw_data: {subm_raw_data.shape}')"
      ]
    },
    {
      "cell_type": "markdown",
      "metadata": {
        "id": "Ebzk5wBB9LrY",
        "tags": []
      },
      "source": [
        "# LSTM model"
      ]
    },
    {
      "cell_type": "markdown",
      "metadata": {
        "id": "8uhNWeZl-ZlJ"
      },
      "source": [
        "### Creating datasets"
      ]
    },
    {
      "cell_type": "code",
      "execution_count": null,
      "metadata": {
        "id": "u4m3ETqc9IX7"
      },
      "outputs": [],
      "source": [
        "train_dataset, val_dataset, test_dataset, subm_dataset = to_map_style_dataset(train_data.values), \\\n",
        "                                                               to_map_style_dataset(val_data.values), \\\n",
        "                                                               to_map_style_dataset(test_data.values), \\\n",
        "                                                               to_map_style_dataset(subm_raw_data.values)\n",
        "\n",
        "MAX_WORDS  = 50\n",
        "BATCH_SIZE = 1024\n",
        "\n",
        "def vectorize_batch(batch):\n",
        "  X, Y = list(zip(*batch))\n",
        "  X = [vocab(tokenizer(text)) for text in X] # tokenize and map tokens to indexes\n",
        "  X = [tokens+([0]*(MAX_WORDS - len(tokens))) if len(tokens) < MAX_WORDS else tokens[:MAX_WORDS] for tokens in X]\n",
        "  return torch.tensor(X, dtype=torch.int32, device=device), torch.tensor(Y, device=device)\n",
        "\n",
        "def vectorize_batch_for_submission(batch):\n",
        "  X = [vocab(tokenizer(text[0])) for text in batch] # tokenize and map tokens to indexes\n",
        "  X = [tokens+([0]*(MAX_WORDS - len(tokens))) if len(tokens) < MAX_WORDS else tokens[:MAX_WORDS] for tokens in X]\n",
        "  return torch.tensor(X, dtype=torch.int32, device=device)\n",
        "\n",
        "\n",
        "train_loader = DataLoader(train_dataset, batch_size=BATCH_SIZE, collate_fn=vectorize_batch, shuffle=True)\n",
        "val_loader   = DataLoader(val_dataset,   batch_size=BATCH_SIZE, collate_fn=vectorize_batch, shuffle=True)\n",
        "test_loader  = DataLoader(test_dataset , batch_size=BATCH_SIZE, collate_fn=vectorize_batch, shuffle=True)\n",
        "subm_loader  = DataLoader(subm_dataset , batch_size=BATCH_SIZE, collate_fn=vectorize_batch_for_submission)"
      ]
    },
    {
      "cell_type": "markdown",
      "metadata": {
        "id": "uFtyhwbv-k8z"
      },
      "source": [
        "### Building model"
      ]
    },
    {
      "cell_type": "markdown",
      "metadata": {
        "id": "XiSOLVDj-oh-"
      },
      "source": [
        "We are building a variation of the RNN: LSTM model.\n",
        "\n",
        "After many attempts of training, our model will be multilayerd (the results are better only with regularization in the optimizer), bidirectional, with dropout and initialization of the hidden state using a Xavier's uniform distribution. LogSoftmax will be used as the activation function at the last level.\n",
        "\n",
        "Adam with regularization will be used as an optimizer (the results without regularization were worse, and overfitting begins much early).\n",
        "\n",
        "![image.png](data:image/png;base64,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)"
      ]
    },
    {
      "cell_type": "code",
      "execution_count": null,
      "metadata": {
        "id": "nNxy1RfY-dMJ"
      },
      "outputs": [],
      "source": [
        "EMBED_LEN  = 50\n",
        "HIDDEN_DIM = 75\n",
        "N_LAYERS   = 3\n",
        "\n",
        "target_classes = train_raw_data['Sentiment'].unique()\n",
        "train_on_gpu = torch.cuda.is_available()\n",
        "\n",
        "class LSTMClassifier(nn.Module):\n",
        "  def __init__(self):\n",
        "    super(LSTMClassifier, self).__init__()\n",
        "    self.emb_layer = nn.Embedding(num_embeddings=len(vocab), embedding_dim=EMBED_LEN)\n",
        "    self.lstm = nn.LSTM(input_size=EMBED_LEN, hidden_size=HIDDEN_DIM, num_layers=N_LAYERS, dropout=0.5, batch_first=True, bidirectional=True)\n",
        "    self.fc = nn.Linear(in_features=HIDDEN_DIM*2, out_features=len(target_classes))\n",
        "    self.softmax = nn.LogSoftmax(dim=1)\n",
        "  \n",
        "  def init_hidden(self, batch_size):\n",
        "    '''Initializes hidden state'''\n",
        "    # Create two new tensors with sizes n_layers x batch_size x n_hidden,\n",
        "    # initialized to zero, for hidden state and cell state of LSTM\n",
        "    weight = next(self.parameters()).data\n",
        "    \n",
        "    if (train_on_gpu):\n",
        "      # 2*NUM_LAYERS is num_directions*num_layers (2 if bidirectional, else 1)\n",
        "      hidden = (xavier_uniform_(weight.new(2*N_LAYERS, batch_size, HIDDEN_DIM)).cuda(),\n",
        "                xavier_uniform_(weight.new(2*N_LAYERS, batch_size, HIDDEN_DIM)).cuda())\n",
        "    else:\n",
        "      # 2*NUM_LAYERS is num_directions*num_layers (2 if bidirectional, else 1)\n",
        "      hidden = (xavier_uniform_(weight.new(2*N_LAYERS, batch_size, HIDDEN_DIM)),\n",
        "                xavier_uniform_(weight.new(2*N_LAYERS, batch_size, HIDDEN_DIM)))\n",
        "    return hidden\n",
        "\n",
        "  def forward(self, X_batch, hidden):\n",
        "    emb = self.emb_layer(X_batch)\n",
        "    output, hidden = self.lstm(emb, hidden)\n",
        "    output = self.fc(output[:, -1])\n",
        "    output = self.softmax(output)\n",
        "    return output, hidden"
      ]
    },
    {
      "cell_type": "code",
      "execution_count": null,
      "metadata": {
        "id": "WceY0n36-dIv",
        "outputId": "e2ad4d5d-9182-412f-97c0-0c9a15ceb4a6"
      },
      "outputs": [
        {
          "data": {
            "text/plain": [
              "LSTMClassifier(\n",
              "  (emb_layer): Embedding(50653, 50)\n",
              "  (lstm): LSTM(50, 75, num_layers=3, batch_first=True, dropout=0.5, bidirectional=True)\n",
              "  (fc): Linear(in_features=150, out_features=5, bias=True)\n",
              "  (softmax): LogSoftmax(dim=1)\n",
              ")"
            ]
          },
          "execution_count": 29,
          "metadata": {},
          "output_type": "execute_result"
        }
      ],
      "source": [
        "lstm_classifier = LSTMClassifier()\n",
        "\n",
        "lstm_classifier"
      ]
    },
    {
      "cell_type": "code",
      "execution_count": null,
      "metadata": {
        "id": "BGJmlq6Y-c9k",
        "outputId": "013a2722-2e4d-42a1-bd3a-35515c8342b3"
      },
      "outputs": [
        {
          "name": "stdout",
          "output_type": "stream",
          "text": [
            "Layer: Embedding(50653, 50)\n",
            "Parameters: \n",
            "torch.Size([50653, 50])\n",
            "\n",
            "Layer: LSTM(50, 75, num_layers=3, batch_first=True, dropout=0.5, bidirectional=True)\n",
            "Parameters: \n",
            "torch.Size([300, 50])\n",
            "torch.Size([300, 75])\n",
            "torch.Size([300])\n",
            "torch.Size([300])\n",
            "torch.Size([300, 50])\n",
            "torch.Size([300, 75])\n",
            "torch.Size([300])\n",
            "torch.Size([300])\n",
            "torch.Size([300, 150])\n",
            "torch.Size([300, 75])\n",
            "torch.Size([300])\n",
            "torch.Size([300])\n",
            "torch.Size([300, 150])\n",
            "torch.Size([300, 75])\n",
            "torch.Size([300])\n",
            "torch.Size([300])\n",
            "torch.Size([300, 150])\n",
            "torch.Size([300, 75])\n",
            "torch.Size([300])\n",
            "torch.Size([300])\n",
            "torch.Size([300, 150])\n",
            "torch.Size([300, 75])\n",
            "torch.Size([300])\n",
            "torch.Size([300])\n",
            "\n",
            "Layer: Linear(in_features=150, out_features=5, bias=True)\n",
            "Parameters: \n",
            "torch.Size([5, 150])\n",
            "torch.Size([5])\n",
            "\n",
            "Layer: LogSoftmax(dim=1)\n",
            "Parameters: \n",
            "\n"
          ]
        }
      ],
      "source": [
        "for layer in lstm_classifier.children():\n",
        "  print(f'Layer: {layer}')\n",
        "  print('Parameters: ')\n",
        "  for param in layer.parameters():\n",
        "    print(param.shape)\n",
        "  print()"
      ]
    },
    {
      "cell_type": "markdown",
      "metadata": {
        "id": "baBviZ8d_Ap9"
      },
      "source": [
        "### Class for saving model and plots"
      ]
    },
    {
      "cell_type": "code",
      "execution_count": null,
      "metadata": {
        "id": "-YYdq0Ww_BeY"
      },
      "outputs": [],
      "source": [
        "class SaveBestModel:\n",
        "    \"\"\"\n",
        "    Class to save the best model while training. If the current epoch's \n",
        "    validation loss is less than the previous least less, then save the\n",
        "    model state.\n",
        "    \"\"\"\n",
        "    def __init__(\n",
        "        self, best_valid_loss=float('inf')\n",
        "    ):\n",
        "        self.best_valid_loss = best_valid_loss\n",
        "        \n",
        "    def __call__(\n",
        "        self, current_valid_loss, \n",
        "        epoch, model, optimizer, criterion, path\n",
        "    ):\n",
        "        if current_valid_loss < self.best_valid_loss:\n",
        "            self.best_valid_loss = current_valid_loss\n",
        "            print(f\"\\nBest validation loss: {self.best_valid_loss}\")\n",
        "            print(f\"\\nSaving best model for epoch: {epoch}\\n\")\n",
        "            torch.save({\n",
        "                'epoch': epoch,\n",
        "                'model_state_dict': model.state_dict(),\n",
        "                'optimizer_state_dict': optimizer.state_dict(),\n",
        "                'loss': criterion,\n",
        "                }, path + 'best_model.pth')\n",
        "            \n",
        "\n",
        "def save_model(epochs, model, optimizer, criterion, path):\n",
        "    \"\"\"\n",
        "    Function to save the trained model to disk.\n",
        "    \"\"\"\n",
        "    print(f\"Saving final model...\")\n",
        "    torch.save({\n",
        "                'epoch': epochs,\n",
        "                'model_state_dict': model.state_dict(),\n",
        "                'optimizer_state_dict': optimizer.state_dict(),\n",
        "                'loss': criterion,\n",
        "                }, path + 'final_model.pth')\n",
        "    \n",
        "\n",
        "def save_plots(valid_acc, train_loss, valid_loss, path):\n",
        "    \"\"\"\n",
        "    Function to save the loss and accuracy plots to disk.\n",
        "    \"\"\"\n",
        "    # accuracy plots\n",
        "    plt.figure(figsize=(10, 7))\n",
        "    plt.plot(\n",
        "        valid_acc, color='blue', linestyle='-', \n",
        "        label='validataion accuracy'\n",
        "    )\n",
        "    plt.xlabel('Epochs')\n",
        "    plt.ylabel('Accuracy')\n",
        "    plt.legend()\n",
        "    plt.savefig(path + 'accuracy.png')\n",
        "    \n",
        "    # loss plots\n",
        "    plt.figure(figsize=(10, 7))\n",
        "    plt.plot(\n",
        "        train_loss, color='orange', linestyle='-', \n",
        "        label='train loss'\n",
        "    )\n",
        "    plt.plot(\n",
        "        valid_loss, color='red', linestyle='-', \n",
        "        label='validataion loss'\n",
        "    )\n",
        "    plt.xlabel('Epochs')\n",
        "    plt.ylabel('Loss')\n",
        "    plt.legend()\n",
        "    plt.savefig(path + 'loss.png')\n",
        "\n",
        "\n",
        "save_best_model = SaveBestModel()"
      ]
    },
    {
      "cell_type": "markdown",
      "metadata": {
        "id": "oD69aZ5p_Pqq"
      },
      "source": [
        "### Training loop and calculation validation loss and accuracy\n"
      ]
    },
    {
      "cell_type": "code",
      "execution_count": null,
      "metadata": {
        "id": "CBvtEtUO_QmN"
      },
      "outputs": [],
      "source": [
        "def CalcValLossAndAccuracy(model, loss_fn, val_loader):\n",
        "  with torch.no_grad():\n",
        "    Y_shuffled, Y_preds, losses = [], [], []\n",
        "    for X, Y in val_loader:\n",
        "\n",
        "      # initialise hidden state\n",
        "      h = model.init_hidden(X.shape[0])\n",
        "\n",
        "      preds, h = model(X, h)\n",
        "      loss = loss_fn(preds, Y)\n",
        "      losses.append(loss.item())\n",
        "\n",
        "      Y_shuffled.append(Y)\n",
        "      Y_preds.append(preds.argmax(dim=-1))\n",
        "\n",
        "    Y_shuffled = torch.cat(Y_shuffled)\n",
        "    Y_preds = torch.cat(Y_preds)\n",
        "\n",
        "    valid_loss = torch.tensor(losses).cpu().mean()\n",
        "    valid_acc = accuracy_score(Y_shuffled.cpu().detach().numpy(), Y_preds.cpu().detach().numpy())\n",
        "\n",
        "    print(f'Valid Loss: {valid_loss:.3f}')\n",
        "    print(f'Valid Acc : {valid_acc:.3f}')\n",
        "\n",
        "    return valid_loss, valid_acc\n",
        "\n",
        "\n",
        "def TrainModel(model, loss_fn, optimizer, train_loader, val_loader, device, epochs=10, path='/checkpoints/'):\n",
        "  train_losses, val_losses, val_accs = [], [], []\n",
        "  for i in range(1, epochs+1):\n",
        "    losses = []\n",
        "    for X, Y in tqdm(train_loader):\n",
        "      X.to(device)\n",
        "      Y.to(device)\n",
        "      model.to(device)\n",
        "\n",
        "      # initialise hidden state\n",
        "      h = model.init_hidden(X.shape[0])\n",
        "\n",
        "      Y_preds, h = model(X, h)\n",
        "\n",
        "      loss = loss_fn(Y_preds, Y)\n",
        "      losses.append(loss.item())\n",
        "\n",
        "      optimizer.zero_grad()\n",
        "\n",
        "      loss.backward()\n",
        "      optimizer.step()\n",
        "\n",
        "    train_loss = torch.tensor(losses).mean()\n",
        "    print(f'Train Loss: {train_loss:.3f}')\n",
        "    valid_loss, valid_acc = CalcValLossAndAccuracy(model, loss_fn, val_loader)\n",
        "\n",
        "    # save the best model\n",
        "    save_best_model(valid_loss, i, model, optimizer, loss_fn, path)\n",
        "\n",
        "    # append losses and accuracy to lists\n",
        "    train_losses.append(train_loss)\n",
        "    val_losses.append(valid_loss)\n",
        "    val_accs.append(valid_acc)\n",
        "\n",
        "  # save the trained model weights for a final time\n",
        "  save_model(i, model, optimizer, loss_fn, path)\n",
        "  # save the loss and accuracy plots\n",
        "  save_plots(val_accs, train_losses, val_losses, path)"
      ]
    },
    {
      "cell_type": "markdown",
      "metadata": {
        "id": "CuDf3DTF_vjD"
      },
      "source": [
        "### Launching the model\n",
        "\n"
      ]
    },
    {
      "cell_type": "code",
      "execution_count": null,
      "metadata": {
        "id": "5T6UqZhy_w0p",
        "outputId": "9fea50ca-7fd3-495c-d6c9-e0369a2879c2"
      },
      "outputs": [
        {
          "name": "stderr",
          "output_type": "stream",
          "text": [
            "100%|██████████| 33/33 [00:03<00:00,  8.61it/s]\n"
          ]
        },
        {
          "name": "stdout",
          "output_type": "stream",
          "text": [
            "Train Loss: 1.557\n",
            "Valid Loss: 1.561\n",
            "Valid Acc : 0.301\n",
            "\n",
            "Best validation loss: 1.5608524084091187\n",
            "\n",
            "Saving best model for epoch: 1\n",
            "\n"
          ]
        },
        {
          "name": "stderr",
          "output_type": "stream",
          "text": [
            "100%|██████████| 33/33 [00:02<00:00, 16.05it/s]\n"
          ]
        },
        {
          "name": "stdout",
          "output_type": "stream",
          "text": [
            "Train Loss: 1.516\n",
            "Valid Loss: 1.509\n",
            "Valid Acc : 0.316\n",
            "\n",
            "Best validation loss: 1.509476900100708\n",
            "\n",
            "Saving best model for epoch: 2\n",
            "\n"
          ]
        },
        {
          "name": "stderr",
          "output_type": "stream",
          "text": [
            "100%|██████████| 33/33 [00:02<00:00, 16.09it/s]\n"
          ]
        },
        {
          "name": "stdout",
          "output_type": "stream",
          "text": [
            "Train Loss: 1.470\n",
            "Valid Loss: 1.411\n",
            "Valid Acc : 0.362\n",
            "\n",
            "Best validation loss: 1.4106650352478027\n",
            "\n",
            "Saving best model for epoch: 3\n",
            "\n"
          ]
        },
        {
          "name": "stderr",
          "output_type": "stream",
          "text": [
            "100%|██████████| 33/33 [00:02<00:00, 15.99it/s]\n"
          ]
        },
        {
          "name": "stdout",
          "output_type": "stream",
          "text": [
            "Train Loss: 1.321\n",
            "Valid Loss: 1.301\n",
            "Valid Acc : 0.488\n",
            "\n",
            "Best validation loss: 1.3010938167572021\n",
            "\n",
            "Saving best model for epoch: 4\n",
            "\n"
          ]
        },
        {
          "name": "stderr",
          "output_type": "stream",
          "text": [
            "100%|██████████| 33/33 [00:02<00:00, 16.29it/s]\n"
          ]
        },
        {
          "name": "stdout",
          "output_type": "stream",
          "text": [
            "Train Loss: 1.083\n",
            "Valid Loss: 1.018\n",
            "Valid Acc : 0.609\n",
            "\n",
            "Best validation loss: 1.0181021690368652\n",
            "\n",
            "Saving best model for epoch: 5\n",
            "\n"
          ]
        },
        {
          "name": "stderr",
          "output_type": "stream",
          "text": [
            "100%|██████████| 33/33 [00:02<00:00, 16.25it/s]\n"
          ]
        },
        {
          "name": "stdout",
          "output_type": "stream",
          "text": [
            "Train Loss: 0.880\n",
            "Valid Loss: 0.841\n",
            "Valid Acc : 0.675\n",
            "\n",
            "Best validation loss: 0.8411420583724976\n",
            "\n",
            "Saving best model for epoch: 6\n",
            "\n"
          ]
        },
        {
          "name": "stderr",
          "output_type": "stream",
          "text": [
            "100%|██████████| 33/33 [00:02<00:00, 15.47it/s]\n"
          ]
        },
        {
          "name": "stdout",
          "output_type": "stream",
          "text": [
            "Train Loss: 0.723\n",
            "Valid Loss: 0.873\n",
            "Valid Acc : 0.686\n"
          ]
        },
        {
          "name": "stderr",
          "output_type": "stream",
          "text": [
            "100%|██████████| 33/33 [00:02<00:00, 16.31it/s]\n"
          ]
        },
        {
          "name": "stdout",
          "output_type": "stream",
          "text": [
            "Train Loss: 0.628\n",
            "Valid Loss: 0.666\n",
            "Valid Acc : 0.737\n",
            "\n",
            "Best validation loss: 0.6664022207260132\n",
            "\n",
            "Saving best model for epoch: 8\n",
            "\n"
          ]
        },
        {
          "name": "stderr",
          "output_type": "stream",
          "text": [
            "100%|██████████| 33/33 [00:02<00:00, 16.34it/s]\n"
          ]
        },
        {
          "name": "stdout",
          "output_type": "stream",
          "text": [
            "Train Loss: 0.527\n",
            "Valid Loss: 0.729\n",
            "Valid Acc : 0.757\n"
          ]
        },
        {
          "name": "stderr",
          "output_type": "stream",
          "text": [
            "100%|██████████| 33/33 [00:02<00:00, 16.27it/s]\n"
          ]
        },
        {
          "name": "stdout",
          "output_type": "stream",
          "text": [
            "Train Loss: 0.449\n",
            "Valid Loss: 0.591\n",
            "Valid Acc : 0.777\n",
            "\n",
            "Best validation loss: 0.5907188653945923\n",
            "\n",
            "Saving best model for epoch: 10\n",
            "\n"
          ]
        },
        {
          "name": "stderr",
          "output_type": "stream",
          "text": [
            "100%|██████████| 33/33 [00:02<00:00, 15.95it/s]\n"
          ]
        },
        {
          "name": "stdout",
          "output_type": "stream",
          "text": [
            "Train Loss: 0.399\n",
            "Valid Loss: 0.750\n",
            "Valid Acc : 0.773\n"
          ]
        },
        {
          "name": "stderr",
          "output_type": "stream",
          "text": [
            "100%|██████████| 33/33 [00:02<00:00, 16.28it/s]\n"
          ]
        },
        {
          "name": "stdout",
          "output_type": "stream",
          "text": [
            "Train Loss: 0.370\n",
            "Valid Loss: 0.681\n",
            "Valid Acc : 0.787\n"
          ]
        },
        {
          "name": "stderr",
          "output_type": "stream",
          "text": [
            "100%|██████████| 33/33 [00:02<00:00, 16.42it/s]\n"
          ]
        },
        {
          "name": "stdout",
          "output_type": "stream",
          "text": [
            "Train Loss: 0.314\n",
            "Valid Loss: 0.724\n",
            "Valid Acc : 0.794\n"
          ]
        },
        {
          "name": "stderr",
          "output_type": "stream",
          "text": [
            "100%|██████████| 33/33 [00:02<00:00, 16.36it/s]\n"
          ]
        },
        {
          "name": "stdout",
          "output_type": "stream",
          "text": [
            "Train Loss: 0.292\n",
            "Valid Loss: 0.610\n",
            "Valid Acc : 0.791\n"
          ]
        },
        {
          "name": "stderr",
          "output_type": "stream",
          "text": [
            "100%|██████████| 33/33 [00:02<00:00, 16.25it/s]\n"
          ]
        },
        {
          "name": "stdout",
          "output_type": "stream",
          "text": [
            "Train Loss: 0.272\n",
            "Valid Loss: 0.732\n",
            "Valid Acc : 0.793\n",
            "Saving final model...\n"
          ]
        },
        {
          "data": {
            "image/png": "[encoded data removed]",
            "text/plain": [
              "<Figure size 1000x700 with 1 Axes>"
            ]
          },
          "metadata": {},
          "output_type": "display_data"
        },
        {
          "data": {
            "image/png": "[encoded data removed]",
            "text/plain": [
              "<Figure size 1000x700 with 1 Axes>"
            ]
          },
          "metadata": {},
          "output_type": "display_data"
        }
      ],
      "source": [
        "EPOCHS  = 15\n",
        "LR      = 1e-2\n",
        "OPT     = Adam(lstm_classifier.parameters(), lr=LR, weight_decay=5e-5)\n",
        "LOSS_FN = nn.CrossEntropyLoss()\n",
        "MODEL   = lstm_classifier\n",
        "PATH    = 'C:\\\\Users\\\\Home\\\\misis_projects\\\\classification_text_nlp\\\\checkpoints_lstm\\\\'\n",
        "\n",
        "TrainModel(model=MODEL, loss_fn=LOSS_FN, optimizer=OPT, train_loader=train_loader, val_loader=val_loader, device=device, epochs=EPOCHS, path=PATH)"
      ]
    },
    {
      "cell_type": "markdown",
      "metadata": {
        "id": "nclSmfKi_9zE"
      },
      "source": [
        "### Loading the saved model"
      ]
    },
    {
      "cell_type": "code",
      "execution_count": null,
      "metadata": {
        "id": "rdYivzAF_-tx",
        "outputId": "8ccad24f-4ff7-4606-e963-a79570d6cbd2"
      },
      "outputs": [
        {
          "data": {
            "text/plain": [
              "LSTMClassifier(\n",
              "  (emb_layer): Embedding(50653, 50)\n",
              "  (lstm): LSTM(50, 75, num_layers=3, batch_first=True, dropout=0.5, bidirectional=True)\n",
              "  (fc): Linear(in_features=150, out_features=5, bias=True)\n",
              "  (softmax): LogSoftmax(dim=1)\n",
              ")"
            ]
          },
          "execution_count": 34,
          "metadata": {},
          "output_type": "execute_result"
        }
      ],
      "source": [
        "checkpoint = torch.load('C:\\\\Users\\\\Home\\\\misis_projects\\\\classification_text_nlp\\\\checkpoints_lstm\\\\final_model.pth')\n",
        "MODEL.load_state_dict(checkpoint['model_state_dict'])\n",
        "OPT.load_state_dict(checkpoint['optimizer_state_dict'])\n",
        "EPOCHS = checkpoint['epoch']\n",
        "LOSS_FN = checkpoint['loss']\n",
        "\n",
        "# if we need to continue training\n",
        "# MODEL.train()\n",
        "# if we need to inference\n",
        "MODEL.eval()"
      ]
    },
    {
      "cell_type": "markdown",
      "metadata": {
        "id": "eOIlXvXQAIK7"
      },
      "source": [
        "### Test accuracy"
      ]
    },
    {
      "cell_type": "code",
      "execution_count": null,
      "metadata": {
        "id": "wza4WpskAHYf",
        "outputId": "dfc6cbf6-ee86-4a49-ac65-ba6232e3d99d"
      },
      "outputs": [
        {
          "name": "stderr",
          "output_type": "stream",
          "text": [
            "C:\\Users\\Home\\AppData\\Local\\Temp\\ipykernel_11340\\3140604675.py:17: UserWarning: To copy construct from a tensor, it is recommended to use sourceTensor.clone().detach() or sourceTensor.clone().detach().requires_grad_(True), rather than torch.tensor(sourceTensor).\n",
            "  Y_actual, Y_preds = torch.tensor(Y_actual).cpu(), torch.tensor(Y_preds).cpu()\n"
          ]
        }
      ],
      "source": [
        "def MakePredictions(model, loader, device):\n",
        "  Y_shuffled, Y_preds= [], []\n",
        "  for X, Y in loader:\n",
        "    X.to(device)\n",
        "    Y.to(device)\n",
        "    # initialise hidden state\n",
        "    h = model.init_hidden(X.shape[0])\n",
        "    preds, h = model(X, h)\n",
        "    Y_preds.append(preds)\n",
        "    Y_shuffled.append(Y)\n",
        "  gc.collect()\n",
        "  Y_preds, Y_shuffled = torch.cat(Y_preds), torch.cat(Y_shuffled)\n",
        "\n",
        "  return Y_shuffled.cpu().detach().numpy(), F.softmax(Y_preds, dim=-1).argmax(dim=-1)\n",
        "\n",
        "Y_actual, Y_preds = MakePredictions(lstm_classifier, test_loader, device)\n",
        "Y_actual, Y_preds = torch.tensor(Y_actual).cpu(), torch.tensor(Y_preds).cpu()"
      ]
    },
    {
      "cell_type": "code",
      "execution_count": null,
      "metadata": {
        "id": "-n4bNQKpAOPp",
        "outputId": "f68c2e3e-945c-402e-b006-18df5c7c0e75"
      },
      "outputs": [
        {
          "name": "stdout",
          "output_type": "stream",
          "text": [
            "Test Accuracy: 0.8124392614188533\n",
            "\n",
            "Classification report: \n",
            "                    precision    recall  f1-score   support\n",
            "\n",
            "           Neutral       0.86      0.76      0.81       548\n",
            "          Positive       0.86      0.86      0.86       662\n",
            "Extremely Negative       0.76      0.78      0.77       992\n",
            "          Negative       0.89      0.84      0.86       771\n",
            "Extremely Positive       0.76      0.82      0.79      1143\n",
            "\n",
            "          accuracy                           0.81      4116\n",
            "         macro avg       0.83      0.81      0.82      4116\n",
            "      weighted avg       0.82      0.81      0.81      4116\n",
            "\n",
            "\n",
            "Confusion Matrix: \n",
            "[[418   0 120   4   6]\n",
            " [  0 572   3   2  85]\n",
            " [ 63   3 770  27 129]\n",
            " [  3   4  51 644  69]\n",
            " [  2  88  64  49 940]]\n"
          ]
        }
      ],
      "source": [
        "target_classes_ = le.inverse_transform(target_classes)\n",
        "print(f'Test Accuracy: {accuracy_score(Y_actual, Y_preds)}')\n",
        "print('\\nClassification report: ')\n",
        "print(classification_report(Y_actual, Y_preds, target_names=target_classes_))\n",
        "print('\\nConfusion Matrix: ')\n",
        "print(confusion_matrix(Y_actual, Y_preds))"
      ]
    },
    {
      "cell_type": "markdown",
      "metadata": {
        "id": "uFz_ysutAwqE"
      },
      "source": [
        "### Final submissions"
      ]
    },
    {
      "cell_type": "markdown",
      "metadata": {
        "id": "70H7gSZLC8vw"
      },
      "source": [
        "Making predictions for final submissions:"
      ]
    },
    {
      "cell_type": "code",
      "execution_count": null,
      "metadata": {
        "id": "lCQmcXNwAzxY",
        "outputId": "ed734e53-35b4-4e14-a667-0f5857d137cb"
      },
      "outputs": [
        {
          "name": "stderr",
          "output_type": "stream",
          "text": [
            "C:\\Users\\Home\\AppData\\Local\\Temp\\ipykernel_11340\\2529566700.py:18: UserWarning: To copy construct from a tensor, it is recommended to use sourceTensor.clone().detach() or sourceTensor.clone().detach().requires_grad_(True), rather than torch.tensor(sourceTensor).\n",
            "  submission['Sentiment'] = le.inverse_transform(torch.tensor(Y_preds).cpu())\n"
          ]
        },
        {
          "data": {
            "text/html": [
              "<div>\n",
              "<style scoped>\n",
              "    .dataframe tbody tr th:only-of-type {\n",
              "        vertical-align: middle;\n",
              "    }\n",
              "\n",
              "    .dataframe tbody tr th {\n",
              "        vertical-align: top;\n",
              "    }\n",
              "\n",
              "    .dataframe thead th {\n",
              "        text-align: right;\n",
              "    }\n",
              "</style>\n",
              "<table border=\"1\" class=\"dataframe\">\n",
              "  <thead>\n",
              "    <tr style=\"text-align: right;\">\n",
              "      <th></th>\n",
              "      <th>id</th>\n",
              "      <th>Sentiment</th>\n",
              "    </tr>\n",
              "  </thead>\n",
              "  <tbody>\n",
              "    <tr>\n",
              "      <th>0</th>\n",
              "      <td>787bc85b-20d4-46d8-84a0-562a2527f684</td>\n",
              "      <td>Negative</td>\n",
              "    </tr>\n",
              "    <tr>\n",
              "      <th>1</th>\n",
              "      <td>17e934cd-ba94-4d4f-9ac0-ead202abe241</td>\n",
              "      <td>Positive</td>\n",
              "    </tr>\n",
              "    <tr>\n",
              "      <th>2</th>\n",
              "      <td>5914534b-2b0f-4de8-bb8a-e25587697e0d</td>\n",
              "      <td>Extremely Positive</td>\n",
              "    </tr>\n",
              "    <tr>\n",
              "      <th>3</th>\n",
              "      <td>cdf06cfe-29ae-48ee-ac6d-be448103ba45</td>\n",
              "      <td>Extremely Negative</td>\n",
              "    </tr>\n",
              "    <tr>\n",
              "      <th>4</th>\n",
              "      <td>aff63979-0256-4fb9-a2d9-86a3d3ca5470</td>\n",
              "      <td>Neutral</td>\n",
              "    </tr>\n",
              "  </tbody>\n",
              "</table>\n",
              "</div>"
            ],
            "text/plain": [
              "                                     id           Sentiment\n",
              "0  787bc85b-20d4-46d8-84a0-562a2527f684            Negative\n",
              "1  17e934cd-ba94-4d4f-9ac0-ead202abe241            Positive\n",
              "2  5914534b-2b0f-4de8-bb8a-e25587697e0d  Extremely Positive\n",
              "3  cdf06cfe-29ae-48ee-ac6d-be448103ba45  Extremely Negative\n",
              "4  aff63979-0256-4fb9-a2d9-86a3d3ca5470             Neutral"
            ]
          },
          "execution_count": 41,
          "metadata": {},
          "output_type": "execute_result"
        }
      ],
      "source": [
        "def MakeSubmissions(model, loader, device):\n",
        "    with torch.no_grad():\n",
        "        Y_shuffled, Y_preds= [], []\n",
        "        for X in loader:\n",
        "            X.to(device)\n",
        "            # initialise hidden state\n",
        "            h = model.init_hidden(X.shape[0])\n",
        "            preds, h = model(X, h)\n",
        "            Y_preds.append(preds)\n",
        "        gc.collect()\n",
        "        Y_preds = torch.cat(Y_preds)\n",
        "\n",
        "        return F.softmax(Y_preds, dim=-1).argmax(dim=-1)\n",
        "    torch.cuda.empty_cache()\n",
        "\n",
        "Y_preds = MakeSubmissions(lstm_classifier, subm_loader, device)\n",
        "submission = pd.read_csv(filepath_or_buffer='https://raw.githubusercontent.com/wizard339/education/main/misis/nlp/text_classification/sample_submission.csv')\n",
        "submission['Sentiment'] = le.inverse_transform(torch.tensor(Y_preds).cpu())\n",
        "submission.head()"
      ]
    },
    {
      "cell_type": "code",
      "execution_count": null,
      "metadata": {
        "id": "zDzwh9uIFv3G"
      },
      "outputs": [],
      "source": [
        "# saving sabmission to '.csv' file\n",
        "submission.to_csv('submission_lstm.csv', index=False, header=True)"
      ]
    },
    {
      "cell_type": "markdown",
      "metadata": {
        "id": "BLdpuoSmAZDB"
      },
      "source": [
        "### What else can be done to improve?"
      ]
    },
    {
      "cell_type": "markdown",
      "metadata": {
        "id": "JgYJzQczAclZ"
      },
      "source": [
        "\n",
        "\n",
        "1.   Experiment with the regularization of the optimizer or try another optimizer.\n",
        "2.   Experiment with the 'gain' parameter of the Xavier's initialization or try another method of the initialization hidden state.\n",
        "3. Try another activation function.\n",
        "4. Try using some pretrained embeddings.\n",
        "5. Try using another tokenizators.\n",
        "6. Try changing the text cleaning method.\n",
        "7. Try deleting the stopwords.\n",
        "\n"
      ]
    },
    {
      "cell_type": "markdown",
      "metadata": {
        "id": "MrRww6ZqsYgS",
        "tags": []
      },
      "source": [
        "## For transfer learning"
      ]
    },
    {
      "cell_type": "code",
      "execution_count": null,
      "metadata": {
        "id": "Bux0u851sdbc"
      },
      "outputs": [],
      "source": [
        "def text_cleaner(text: str) -> str:\n",
        "    '''will clean from unicode, url, hashtags, numbers,\n",
        "    nicknames, lower'''\n",
        "    # text = re.sub(r'[.,#!$%\\^&\\*;:{}=\\-_`~()]',r'',text) # punct.\n",
        "    \n",
        "    # text = re.sub(r'(\\\\u[0-9A-Fa-f]+)',r'', text)       \n",
        "    text = re.sub(r'[^\\x00-\\x7f]', r'', text)# unicode\n",
        "\n",
        "    text = re.sub(r'(\\\\[a-z])', r'', text)\n",
        "    \n",
        "    text = re.sub(r'http\\S+', r'', text)# url\n",
        "    \n",
        "    text = re.sub('@[A-Za-z0-9_-]+', r'', text)# nickname\n",
        "    \n",
        "    text = re.sub(r'#([^\\s]+)', r'\\1', text)# hashtag symbol\n",
        "    \n",
        "    text = re.sub(':\\)|;\\)|:-\\)|\\(-:|:-D|=D|:P|xD|X-p|\\^\\^|:-*|\\^\\.\\^|\\^\\-\\^|\\^\\_\\^|\\,-\\)|\\)-:|:\\'\\(|:\\(|:-\\(|:\\S|T\\.T|\\.\\_\\.|:<|:-\\S|:-<|\\*\\-\\*|:O|=O|=\\-O|O\\.o|XO|O\\_O|:-\\@|=/|:/|X\\-\\(|>\\.<|>=\\(|D:',\n",
        "                  '', text) # emoji\n",
        "    \n",
        "    text = ''.join([i for i in text if not i.isdigit()])# int.\n",
        "    \n",
        "    text = text.lower()\n",
        "    return text"
      ]
    },
    {
      "cell_type": "code",
      "execution_count": null,
      "metadata": {
        "colab": {
          "base_uri": "https://localhost:8080/"
        },
        "id": "hDFia8-auEpk",
        "outputId": "0e31fef6-bd42-45ed-9ac4-9314c0bea182"
      },
      "outputs": [
        {
          "data": {
            "text/plain": [
              "array(['so panic buying of soaps and toilet roll was bad enough, now the idiots are stockpiling alcohol ? whats wrong with people coronavirus stoppanicbuying covid_',\n",
              "       'i would place a large amount of money this is the guy buying  of the toilet paper',\n",
              "       '\"saudi arabia is bracing for an economic downturn as oil prices plummet due to the coronavirus pandemic\" ',\n",
              "       'foodsecurity coronavirus covid \\r\\r\\n.smooth flow of global trade will help secure food supply\\r\\r\\n.monitoring food prices and markets\\r\\r\\n.sharing relevant information transparently\\r\\r\\n.supporting the vulnerable countries and populations ',\n",
              "       'i d like to know who is stockpiling eggs cheese and ice cream and why i m used to going without as our local lidl has been running out of all kinds of stuff for years way before drives me potty going to the supermarket is like entering a lottery',\n",
              "       'whenever you touch any object or surface outside your abode washyourhands with soapandwater\\r\\r\\n\\r\\r\\nstaysafe stayhome\\r\\r\\nsanitizer socialdistancing \\r\\r\\ncovid sd\\r\\r\\ncoronavirus \\r\\r\\nchinesevirus\\r\\r\\nasiegercares \\r\\r\\nwho asieger ',\n",
              "       'p.s.a for those buying ?. the human body can survive upwards of  days with no food. water is the most important thing during these times; especially since you cant go more then  days without it before death. think wise and not in a panic induced state. stay safe. covid_',\n",
              "       'publix. walmart. thats how its spreading through our community. you may stay home all week, then go get a gallon of milk with a side of covid-why would you set limits of boats in the waters to stay ft apart, but not regulate the amount of people in a supermarket.coronavirus',\n",
              "       'our healthcare community is the backbone of the response to coronavirus.  is committed to supporting them, so certain garages in the  are now offering reduced prices for hospital staff. \\r\\r\\n\\r\\r\\n',\n",
              "       'lilliesleaf clapped as alan played for  nhs workers, delivery people, supermarket staff, carers and everyone out there taking care of the sick and keeping the country going. you have to squint to see the people at their houses but they are there. clapforkeyworkers coronavirus '],\n",
              "      dtype=object)"
            ]
          },
          "execution_count": 78,
          "metadata": {},
          "output_type": "execute_result"
        }
      ],
      "source": [
        "train_raw_data['Text'] = train_raw_data['Text'].apply(text_cleaner)\n",
        "final_test_raw_data['Text'] = final_test_raw_data['Text'].apply(text_cleaner)\n",
        "train_raw_data['Text'].sample(10, random_state=42).values"
      ]
    },
    {
      "cell_type": "code",
      "execution_count": null,
      "metadata": {
        "id": "TIsAUmQYuNFI"
      },
      "outputs": [],
      "source": [
        "# first, we will split data by two samples: train and test in the proportion of 60:40\n",
        "train_data, test_data = train_test_split(train_raw_data, test_size=0.2, stratify=train_raw_data['Sentiment'], random_state=42)\n",
        "# then, we will split test data by two samples: validation and test in the proportion of 50:50 \n",
        "val_data, test_data = train_test_split(test_data, test_size=0.5, stratify=test_data['Sentiment'], random_state=42)"
      ]
    },
    {
      "cell_type": "code",
      "execution_count": null,
      "metadata": {
        "id": "SXW5-iyPui14"
      },
      "outputs": [],
      "source": [
        "# Convert pyhton dataframe to Hugging Face arrow dataset\n",
        "hg_train_data = Dataset.from_pandas(train_data)\n",
        "hg_val_data = Dataset.from_pandas(val_data)\n",
        "hg_test_data = Dataset.from_pandas(test_data)\n",
        "hg_final_test_data = Dataset.from_pandas(final_test_raw_data)"
      ]
    },
    {
      "cell_type": "code",
      "execution_count": null,
      "metadata": {
        "colab": {
          "base_uri": "https://localhost:8080/",
          "height": 206
        },
        "id": "7ixu22PF2JSh",
        "outputId": "e29dc7d9-74ec-4008-cd50-a0424e7da298"
      },
      "outputs": [
        {
          "data": {
            "text/html": [
              "\n",
              "  <div id=\"df-7273bad1-6722-4109-9c84-736c8329d9d0\">\n",
              "    <div class=\"colab-df-container\">\n",
              "      <div>\n",
              "<style scoped>\n",
              "    .dataframe tbody tr th:only-of-type {\n",
              "        vertical-align: middle;\n",
              "    }\n",
              "\n",
              "    .dataframe tbody tr th {\n",
              "        vertical-align: top;\n",
              "    }\n",
              "\n",
              "    .dataframe thead th {\n",
              "        text-align: right;\n",
              "    }\n",
              "</style>\n",
              "<table border=\"1\" class=\"dataframe\">\n",
              "  <thead>\n",
              "    <tr style=\"text-align: right;\">\n",
              "      <th></th>\n",
              "      <th>id</th>\n",
              "      <th>Text</th>\n",
              "    </tr>\n",
              "  </thead>\n",
              "  <tbody>\n",
              "    <tr>\n",
              "      <th>0</th>\n",
              "      <td>787bc85b-20d4-46d8-84a0-562a2527f684</td>\n",
              "      <td>trending new yorkers encounter empty supermark...</td>\n",
              "    </tr>\n",
              "    <tr>\n",
              "      <th>1</th>\n",
              "      <td>17e934cd-ba94-4d4f-9ac0-ead202abe241</td>\n",
              "      <td>when i couldn't find hand sanitizer at fred me...</td>\n",
              "    </tr>\n",
              "    <tr>\n",
              "      <th>2</th>\n",
              "      <td>5914534b-2b0f-4de8-bb8a-e25587697e0d</td>\n",
              "      <td>find out how you can protect yourself and love...</td>\n",
              "    </tr>\n",
              "    <tr>\n",
              "      <th>3</th>\n",
              "      <td>cdf06cfe-29ae-48ee-ac6d-be448103ba45</td>\n",
              "      <td>panic buying hits newyork city as anxious shop...</td>\n",
              "    </tr>\n",
              "    <tr>\n",
              "      <th>4</th>\n",
              "      <td>aff63979-0256-4fb9-a2d9-86a3d3ca5470</td>\n",
              "      <td>toiletpaper dunnypaper coronavirus coronavirus...</td>\n",
              "    </tr>\n",
              "  </tbody>\n",
              "</table>\n",
              "</div>\n",
              "      <button class=\"colab-df-convert\" onclick=\"convertToInteractive('df-7273bad1-6722-4109-9c84-736c8329d9d0')\"\n",
              "              title=\"Convert this dataframe to an interactive table.\"\n",
              "              style=\"display:none;\">\n",
              "        \n",
              "  <svg xmlns=\"http://www.w3.org/2000/svg\" height=\"24px\"viewBox=\"0 0 24 24\"\n",
              "       width=\"24px\">\n",
              "    <path d=\"M0 0h24v24H0V0z\" fill=\"none\"/>\n",
              "    <path d=\"M18.56 5.44l.94 2.06.94-2.06 2.06-.94-2.06-.94-.94-2.06-.94 2.06-2.06.94zm-11 1L8.5 8.5l.94-2.06 2.06-.94-2.06-.94L8.5 2.5l-.94 2.06-2.06.94zm10 10l.94 2.06.94-2.06 2.06-.94-2.06-.94-.94-2.06-.94 2.06-2.06.94z\"/><path d=\"M17.41 7.96l-1.37-1.37c-.4-.4-.92-.59-1.43-.59-.52 0-1.04.2-1.43.59L10.3 9.45l-7.72 7.72c-.78.78-.78 2.05 0 2.83L4 21.41c.39.39.9.59 1.41.59.51 0 1.02-.2 1.41-.59l7.78-7.78 2.81-2.81c.8-.78.8-2.07 0-2.86zM5.41 20L4 18.59l7.72-7.72 1.47 1.35L5.41 20z\"/>\n",
              "  </svg>\n",
              "      </button>\n",
              "      \n",
              "  <style>\n",
              "    .colab-df-container {\n",
              "      display:flex;\n",
              "      flex-wrap:wrap;\n",
              "      gap: 12px;\n",
              "    }\n",
              "\n",
              "    .colab-df-convert {\n",
              "      background-color: #E8F0FE;\n",
              "      border: none;\n",
              "      border-radius: 50%;\n",
              "      cursor: pointer;\n",
              "      display: none;\n",
              "      fill: #1967D2;\n",
              "      height: 32px;\n",
              "      padding: 0 0 0 0;\n",
              "      width: 32px;\n",
              "    }\n",
              "\n",
              "    .colab-df-convert:hover {\n",
              "      background-color: #E2EBFA;\n",
              "      box-shadow: 0px 1px 2px rgba(60, 64, 67, 0.3), 0px 1px 3px 1px rgba(60, 64, 67, 0.15);\n",
              "      fill: #174EA6;\n",
              "    }\n",
              "\n",
              "    [theme=dark] .colab-df-convert {\n",
              "      background-color: #3B4455;\n",
              "      fill: #D2E3FC;\n",
              "    }\n",
              "\n",
              "    [theme=dark] .colab-df-convert:hover {\n",
              "      background-color: #434B5C;\n",
              "      box-shadow: 0px 1px 3px 1px rgba(0, 0, 0, 0.15);\n",
              "      filter: drop-shadow(0px 1px 2px rgba(0, 0, 0, 0.3));\n",
              "      fill: #FFFFFF;\n",
              "    }\n",
              "  </style>\n",
              "\n",
              "      <script>\n",
              "        const buttonEl =\n",
              "          document.querySelector('#df-7273bad1-6722-4109-9c84-736c8329d9d0 button.colab-df-convert');\n",
              "        buttonEl.style.display =\n",
              "          google.colab.kernel.accessAllowed ? 'block' : 'none';\n",
              "\n",
              "        async function convertToInteractive(key) {\n",
              "          const element = document.querySelector('#df-7273bad1-6722-4109-9c84-736c8329d9d0');\n",
              "          const dataTable =\n",
              "            await google.colab.kernel.invokeFunction('convertToInteractive',\n",
              "                                                     [key], {});\n",
              "          if (!dataTable) return;\n",
              "\n",
              "          const docLinkHtml = 'Like what you see? Visit the ' +\n",
              "            '<a target=\"_blank\" href=https://colab.research.google.com/notebooks/data_table.ipynb>data table notebook</a>'\n",
              "            + ' to learn more about interactive tables.';\n",
              "          element.innerHTML = '';\n",
              "          dataTable['output_type'] = 'display_data';\n",
              "          await google.colab.output.renderOutput(dataTable, element);\n",
              "          const docLink = document.createElement('div');\n",
              "          docLink.innerHTML = docLinkHtml;\n",
              "          element.appendChild(docLink);\n",
              "        }\n",
              "      </script>\n",
              "    </div>\n",
              "  </div>\n",
              "  "
            ],
            "text/plain": [
              "                                     id  \\\n",
              "0  787bc85b-20d4-46d8-84a0-562a2527f684   \n",
              "1  17e934cd-ba94-4d4f-9ac0-ead202abe241   \n",
              "2  5914534b-2b0f-4de8-bb8a-e25587697e0d   \n",
              "3  cdf06cfe-29ae-48ee-ac6d-be448103ba45   \n",
              "4  aff63979-0256-4fb9-a2d9-86a3d3ca5470   \n",
              "\n",
              "                                                Text  \n",
              "0  trending new yorkers encounter empty supermark...  \n",
              "1  when i couldn't find hand sanitizer at fred me...  \n",
              "2  find out how you can protect yourself and love...  \n",
              "3  panic buying hits newyork city as anxious shop...  \n",
              "4  toiletpaper dunnypaper coronavirus coronavirus...  "
            ]
          },
          "execution_count": 99,
          "metadata": {},
          "output_type": "execute_result"
        }
      ],
      "source": [
        "final_test_raw_data.head()"
      ]
    },
    {
      "cell_type": "code",
      "execution_count": null,
      "metadata": {
        "colab": {
          "base_uri": "https://localhost:8080/"
        },
        "id": "Y9jMtGQo2PtI",
        "outputId": "572e7097-0ac5-446f-c0ca-bd3e919956a1"
      },
      "outputs": [
        {
          "data": {
            "text/plain": [
              "{'id': '787bc85b-20d4-46d8-84a0-562a2527f684',\n",
              " 'Text': 'trending new yorkers encounter empty supermarket shelves (pictured, wegmans in brooklyn), sold-out online grocers (foodkick, maelivery) as coronavirus-fearing shoppers stock up  '}"
            ]
          },
          "execution_count": 100,
          "metadata": {},
          "output_type": "execute_result"
        }
      ],
      "source": [
        "hg_final_test_data[0]"
      ]
    },
    {
      "cell_type": "code",
      "execution_count": null,
      "metadata": {
        "colab": {
          "base_uri": "https://localhost:8080/"
        },
        "id": "Q9cIQfD7x91u",
        "outputId": "a6ce3f28-3ef4-47c2-bc9d-927290c108f7"
      },
      "outputs": [
        {
          "data": {
            "text/plain": [
              "{'Text': ' to everyone hoarding rice who until now doesnt eat rice, remember to donate it and all left over food youve hoarded to a food bank near you.  food waste should not be a side effect of covid- as a result of irrational panic buying.  coronavir',\n",
              " 'Sentiment': 0,\n",
              " '__index_level_0__': 3730}"
            ]
          },
          "execution_count": 98,
          "metadata": {},
          "output_type": "execute_result"
        }
      ],
      "source": [
        "hg_train_data[0]"
      ]
    },
    {
      "cell_type": "code",
      "execution_count": null,
      "metadata": {
        "colab": {
          "base_uri": "https://localhost:8080/",
          "height": 181,
          "referenced_widgets": [
            "5df7f3fa2fc44c4cb7807c5114146404",
            "a4fa8cf376bf4fdb95c6cb5446c75148",
            "33d8e9ce0e9e444aa98d820a6f85b75a",
            "c3e960f1e2894dd8ac0ff08f6c92c0cd",
            "e68f77ca1e2c49a7ae3a83021690e08d",
            "4433cff3ef6b4eeb802eebbe579149d8",
            "8cbd990d82d549419b97360445f77d75",
            "c7507946b59b409cad4b06429cd0a53d",
            "48e9739a1f36426884e2c4c50d71891e",
            "582edf469dec4b2dae01b31d32ef5f8e",
            "c68ef97722444d65b965b554650a3970",
            "2aefcb8581aa4302a58a54477a33cee6",
            "66c0f031daf54ebbbf9e10f2ccf3a7f5",
            "701a99fda5954142a5004865ea93b68e",
            "65ea8086607b4bd3b547045bc55db824",
            "02b041c262614a76add484340f4e831a",
            "fcb9704dcffe4edabee12a5c2dfea3a5",
            "3e1f0903f02142c3a2d22894db96bbfb",
            "d59e1a25bcbb4cb9b7e86610c2362b68",
            "ad2e19b6745142c89cd21aa00ac0a75f",
            "7497d194051243268003a23d8cb7b6ef",
            "4694c6ec303f44a0b00a1ff9d0a14cc2",
            "0d9569542f4a41b4b917362efdf68649",
            "788489aeef674851a64f00814345537e",
            "3a77c9756d9745f39c35bf2816582805",
            "18ec069293574d538dc00906ed675dee",
            "cb331475a1064a629285fca3d9b1be50",
            "aa38c070417f40249cd0a30c7ce64749",
            "b13ac9dff68d47138395f6b7665ca6be",
            "8c2d36bc800a4b069c51c160d1ddf97a",
            "d98f572549a740b4bad51bafbbb3410e",
            "d4901d4b5db7495594ddde1fdd5f7217",
            "cc7703f87f994755b884da02dfb7cdba",
            "cc3c2cbb66e04a63bf707776097e3747",
            "7bf45c6cc10347f9b47247b72618d55f",
            "3888745bd84a43b5b02279bbc36398d3",
            "808f01558195434fa11fcbe2b7db6d97",
            "deecde0ef4bd408ebb8454b517bb8e29",
            "9043ee956c5b478b96cad2aa5688bb87",
            "ce948ff47c084716a00924327e0a3fe4",
            "c6f1a689d7b64ec79b24a28084655e93",
            "db058a81df9a498ca4ba2d5e595e0792",
            "01be3734cee04789932f5b98015274ab",
            "cec9e289061c4689b21e04a37a157e0e"
          ]
        },
        "id": "pVS2ZQ92yiiU",
        "outputId": "8f0dac3a-3235-4b2a-aa62-a0d1f48eb65e"
      },
      "outputs": [
        {
          "data": {
            "application/vnd.jupyter.widget-view+json": {
              "model_id": "5df7f3fa2fc44c4cb7807c5114146404",
              "version_major": 2,
              "version_minor": 0
            },
            "text/plain": [
              "Downloading (…)okenizer_config.json:   0%|          | 0.00/29.0 [00:00<?, ?B/s]"
            ]
          },
          "metadata": {},
          "output_type": "display_data"
        },
        {
          "data": {
            "application/vnd.jupyter.widget-view+json": {
              "model_id": "2aefcb8581aa4302a58a54477a33cee6",
              "version_major": 2,
              "version_minor": 0
            },
            "text/plain": [
              "Downloading (…)lve/main/config.json:   0%|          | 0.00/570 [00:00<?, ?B/s]"
            ]
          },
          "metadata": {},
          "output_type": "display_data"
        },
        {
          "data": {
            "application/vnd.jupyter.widget-view+json": {
              "model_id": "0d9569542f4a41b4b917362efdf68649",
              "version_major": 2,
              "version_minor": 0
            },
            "text/plain": [
              "Downloading (…)solve/main/vocab.txt:   0%|          | 0.00/213k [00:00<?, ?B/s]"
            ]
          },
          "metadata": {},
          "output_type": "display_data"
        },
        {
          "data": {
            "application/vnd.jupyter.widget-view+json": {
              "model_id": "cc3c2cbb66e04a63bf707776097e3747",
              "version_major": 2,
              "version_minor": 0
            },
            "text/plain": [
              "Downloading (…)/main/tokenizer.json:   0%|          | 0.00/436k [00:00<?, ?B/s]"
            ]
          },
          "metadata": {},
          "output_type": "display_data"
        },
        {
          "data": {
            "text/plain": [
              "BertTokenizerFast(name_or_path='bert-base-cased', vocab_size=28996, model_max_length=512, is_fast=True, padding_side='right', truncation_side='right', special_tokens={'unk_token': '[UNK]', 'sep_token': '[SEP]', 'pad_token': '[PAD]', 'cls_token': '[CLS]', 'mask_token': '[MASK]'})"
            ]
          },
          "execution_count": 90,
          "metadata": {},
          "output_type": "execute_result"
        }
      ],
      "source": [
        "# Tokenizer from a pretrained model\n",
        "tokenizer = AutoTokenizer.from_pretrained(\"bert-base-cased\")\n",
        "\n",
        "# Take a look at the tokenizer\n",
        "tokenizer"
      ]
    },
    {
      "cell_type": "code",
      "execution_count": null,
      "metadata": {
        "colab": {
          "base_uri": "https://localhost:8080/"
        },
        "id": "RvJCjHFLywYn",
        "outputId": "c5b23cf4-bdbe-446f-96a6-4653bbef50c3"
      },
      "outputs": [
        {
          "name": "stdout",
          "output_type": "stream",
          "text": [
            "The unknown token is [UNK] and the ID for the unknown token is 100.\n",
            "The seperator token is [SEP] and the ID for the seperator token is 102.\n",
            "The pad token is [PAD] and the ID for the pad token is 0.\n",
            "The sentence level classification token is [CLS] and the ID for the classification token is 101.\n",
            "The mask token is [MASK] and the ID for the mask token is 103.\n"
          ]
        }
      ],
      "source": [
        "# Mapping between special tokens and their IDs.\n",
        "print(f'The unknown token is {tokenizer.unk_token} and the ID for the unknown token is {tokenizer.unk_token_id}.')\n",
        "print(f'The seperator token is {tokenizer.sep_token} and the ID for the seperator token is {tokenizer.sep_token_id}.')\n",
        "print(f'The pad token is {tokenizer.pad_token} and the ID for the pad token is {tokenizer.pad_token_id}.')\n",
        "print(f'The sentence level classification token is {tokenizer.cls_token} and the ID for the classification token is {tokenizer.cls_token_id}.')\n",
        "print(f'The mask token is {tokenizer.mask_token} and the ID for the mask token is {tokenizer.mask_token_id}.')"
      ]
    },
    {
      "cell_type": "code",
      "execution_count": null,
      "metadata": {
        "colab": {
          "base_uri": "https://localhost:8080/",
          "height": 17,
          "referenced_widgets": [
            "2aeac73d31564385af6aca84bc935d92",
            "4ee2cdda336241ba85632a1b65595593",
            "53a60d090b1147518816ef0b81108d50",
            "990bebcafdc84a16ace079c3c2e8baec",
            "8a6717b6ef9e48e4b29eb4b292a85898",
            "384c42da55cd47d0b3ad54cd417110d8",
            "0f77724abe3949fe938c210900543ef9",
            "5adf4684ec4f4185a4a012595a861cc7",
            "f3240ae9600a4e0385be9003f0c5597d",
            "529e100915954230a92d7625e22e3343",
            "c35be708461d4594a52ad53c384d4023",
            "aff6e255ae7f4f81b8f6e40b7b8c26ad",
            "37e6e86114774422b8429a6258026eda",
            "747c8e9e9c574c64bbe3df1bcee04760",
            "6f6aad7b0da94817a806a0d1bfaf2437",
            "c2cbc01839dd429a8076aff41d3f1c31",
            "f3ca911f7ed64a0abf5eae5beffc9cb1",
            "4a815564fb4648cbb3e107aa35b24e6a",
            "11078d7279284b7f9401384c73908ed2",
            "ad1000fedde045fe9694d1c4ac820602",
            "fca92babec7d4235b8d8f27436093fec",
            "d46f8d1e9e76478fab6dd656a8983ecf",
            "05683e6966044eef87a69142ef5cf6ca",
            "43ac341f3fe845a2815253de629c4c56",
            "f62a376a398a42eca6f3746a438b918f",
            "41bd2d9748a7499da3da6b703c33ec30",
            "33ee5f0c6a324bb4a253cdfc018a5860",
            "db57478597bc4914ba2f794af10af98f",
            "b25a5429eb4647deaaa6c538eea0f123",
            "00b0f8d5d7ca471d9bc92bc1cff4de4c",
            "5ba8e2ebff2c45b883c24d4d783e8c40",
            "39c30c8fcfed4df4acf0018ffb65b57c",
            "b355cad3d007490889bd01f054478eae",
            "f9414c9880ee4e20b0ee99ff8e8c1460",
            "eabd7b94f3844007bd291c31a69355b6",
            "4c871ff71f36482094ef9ff93d0d3633",
            "8b0688a2fdb0483b8573b1872413119d",
            "2610078c70104950857c354455ea115d",
            "03da28e1776c468a92855184ff123a19",
            "f38e7be450b8408fa6cdbf33a61a268d",
            "8c74198dee1843a381fbab3ba1c62e07",
            "5a0e031118e94a7796a960600ddeb1c9",
            "73bd6b65802b41198d8865848fbf1191",
            "ead802c8fd584d01ab5effc54dea1110"
          ]
        },
        "id": "xMkxC7rYy70Q",
        "outputId": "54089951-e079-4f12-f23c-2c8acafa513b"
      },
      "outputs": [
        {
          "data": {
            "application/vnd.jupyter.widget-view+json": {
              "model_id": "2aeac73d31564385af6aca84bc935d92",
              "version_major": 2,
              "version_minor": 0
            },
            "text/plain": [
              "Map:   0%|          | 0/32924 [00:00<?, ? examples/s]"
            ]
          },
          "metadata": {},
          "output_type": "display_data"
        },
        {
          "data": {
            "application/vnd.jupyter.widget-view+json": {
              "model_id": "aff6e255ae7f4f81b8f6e40b7b8c26ad",
              "version_major": 2,
              "version_minor": 0
            },
            "text/plain": [
              "Map:   0%|          | 0/4115 [00:00<?, ? examples/s]"
            ]
          },
          "metadata": {},
          "output_type": "display_data"
        },
        {
          "data": {
            "application/vnd.jupyter.widget-view+json": {
              "model_id": "05683e6966044eef87a69142ef5cf6ca",
              "version_major": 2,
              "version_minor": 0
            },
            "text/plain": [
              "Map:   0%|          | 0/4116 [00:00<?, ? examples/s]"
            ]
          },
          "metadata": {},
          "output_type": "display_data"
        },
        {
          "data": {
            "application/vnd.jupyter.widget-view+json": {
              "model_id": "f9414c9880ee4e20b0ee99ff8e8c1460",
              "version_major": 2,
              "version_minor": 0
            },
            "text/plain": [
              "Map:   0%|          | 0/3798 [00:00<?, ? examples/s]"
            ]
          },
          "metadata": {},
          "output_type": "display_data"
        }
      ],
      "source": [
        "# Funtion to tokenize data\n",
        "def tokenize_dataset(data):\n",
        "    return tokenizer(data[\"Text\"], \n",
        "                     max_length=50, \n",
        "                     truncation=True, \n",
        "                     padding=\"max_length\")\n",
        "\n",
        "# Tokenize the dataset\n",
        "dataset_train = hg_train_data.map(tokenize_dataset)\n",
        "dataset_val = hg_val_data.map(tokenize_dataset)\n",
        "dataset_test = hg_test_data.map(tokenize_dataset)\n",
        "dataset_final_test = hg_final_test_data.map(tokenize_dataset)"
      ]
    },
    {
      "cell_type": "code",
      "execution_count": null,
      "metadata": {
        "colab": {
          "base_uri": "https://localhost:8080/"
        },
        "id": "E3WdxG2_0rY8",
        "outputId": "fb059b0a-aeb9-4744-9c11-d7203bb115c2"
      },
      "outputs": [
        {
          "name": "stdout",
          "output_type": "stream",
          "text": [
            "Dataset({\n",
            "    features: ['Text', 'Sentiment', '__index_level_0__', 'input_ids', 'token_type_ids', 'attention_mask'],\n",
            "    num_rows: 32924\n",
            "})\n",
            "Dataset({\n",
            "    features: ['Text', 'Sentiment', '__index_level_0__', 'input_ids', 'token_type_ids', 'attention_mask'],\n",
            "    num_rows: 4115\n",
            "})\n",
            "Dataset({\n",
            "    features: ['Text', 'Sentiment', '__index_level_0__', 'input_ids', 'token_type_ids', 'attention_mask'],\n",
            "    num_rows: 4116\n",
            "})\n",
            "Dataset({\n",
            "    features: ['id', 'Text', 'input_ids', 'token_type_ids', 'attention_mask'],\n",
            "    num_rows: 3798\n",
            "})\n"
          ]
        }
      ],
      "source": [
        "# Take a look at the data\n",
        "print(dataset_train)\n",
        "print(dataset_val)\n",
        "print(dataset_test)\n",
        "print(dataset_final_test)"
      ]
    },
    {
      "cell_type": "code",
      "execution_count": null,
      "metadata": {
        "colab": {
          "base_uri": "https://localhost:8080/"
        },
        "id": "F6Wb2lyY1Lwj",
        "outputId": "066e6585-86fa-4dbf-ccaf-59265677087e"
      },
      "outputs": [
        {
          "name": "stdout",
          "output_type": "stream",
          "text": [
            "Dataset({\n",
            "    features: ['labels', 'input_ids', 'token_type_ids', 'attention_mask'],\n",
            "    num_rows: 32924\n",
            "})\n",
            "Dataset({\n",
            "    features: ['labels', 'input_ids', 'token_type_ids', 'attention_mask'],\n",
            "    num_rows: 4115\n",
            "})\n",
            "Dataset({\n",
            "    features: ['labels', 'input_ids', 'token_type_ids', 'attention_mask'],\n",
            "    num_rows: 4116\n",
            "})\n",
            "Dataset({\n",
            "    features: ['input_ids', 'token_type_ids', 'attention_mask'],\n",
            "    num_rows: 3798\n",
            "})\n"
          ]
        }
      ],
      "source": [
        "# Remove the review and index columns because it will not be used in the model\n",
        "dataset_train = dataset_train.remove_columns([\"Text\", \"__index_level_0__\"])\n",
        "dataset_val = dataset_val.remove_columns([\"Text\", \"__index_level_0__\"])\n",
        "dataset_test = dataset_test.remove_columns([\"Text\", \"__index_level_0__\"])\n",
        "dataset_final_test = dataset_final_test.remove_columns([\"Text\", \"id\"])\n",
        "\n",
        "# Rename label to labels because the model expects the name labels\n",
        "dataset_train = dataset_train.rename_column(\"Sentiment\", \"labels\")\n",
        "dataset_val = dataset_val.rename_column(\"Sentiment\", \"labels\")\n",
        "dataset_test = dataset_test.rename_column(\"Sentiment\", \"labels\")\n",
        "\n",
        "# Change the format to PyTorch tensors\n",
        "dataset_train.set_format(\"torch\")\n",
        "dataset_val.set_format(\"torch\")\n",
        "dataset_test.set_format(\"torch\")\n",
        "dataset_final_test.set_format(\"torch\")\n",
        "\n",
        "# Take a look at the data\n",
        "print(dataset_train)\n",
        "print(dataset_val)\n",
        "print(dataset_test)\n",
        "print(dataset_final_test)"
      ]
    },
    {
      "cell_type": "code",
      "execution_count": null,
      "metadata": {
        "colab": {
          "base_uri": "https://localhost:8080/"
        },
        "id": "GDRNWUgy64we",
        "outputId": "928eca26-d4e8-4c57-b63d-c9680c69688c"
      },
      "outputs": [
        {
          "data": {
            "text/plain": [
              "{'labels': tensor(0),\n",
              " 'input_ids': tensor([  101,  1106,  2490, 16358,  2881,  1158,  7738,  1150,  1235,  1208,\n",
              "          2144,  1204,  3940,  7738,   117,  2676,  1106, 23969,  1122,  1105,\n",
              "          1155,  1286,  1166,  2094,  1128,  2707, 16358, 26541,  1106,   170,\n",
              "          2094,  3085,  1485,  1128,   119,  2094,  5671,  1431,  1136,  1129,\n",
              "           170,  1334,  2629,  1104,  1884, 18312,   118,  1112,   170,   102]),\n",
              " 'token_type_ids': tensor([0, 0, 0, 0, 0, 0, 0, 0, 0, 0, 0, 0, 0, 0, 0, 0, 0, 0, 0, 0, 0, 0, 0, 0,\n",
              "         0, 0, 0, 0, 0, 0, 0, 0, 0, 0, 0, 0, 0, 0, 0, 0, 0, 0, 0, 0, 0, 0, 0, 0,\n",
              "         0, 0]),\n",
              " 'attention_mask': tensor([1, 1, 1, 1, 1, 1, 1, 1, 1, 1, 1, 1, 1, 1, 1, 1, 1, 1, 1, 1, 1, 1, 1, 1,\n",
              "         1, 1, 1, 1, 1, 1, 1, 1, 1, 1, 1, 1, 1, 1, 1, 1, 1, 1, 1, 1, 1, 1, 1, 1,\n",
              "         1, 1])}"
            ]
          },
          "execution_count": 103,
          "metadata": {},
          "output_type": "execute_result"
        }
      ],
      "source": [
        "dataset_train[0]"
      ]
    },
    {
      "cell_type": "code",
      "execution_count": null,
      "metadata": {
        "id": "L8hSdKhr7SfO"
      },
      "outputs": [],
      "source": [
        "# Empty cache\n",
        "torch.cuda.empty_cache()\n",
        "\n",
        "BATCH_SIZE = 1024\n",
        "\n",
        "# DataLoader\n",
        "train_dataloader = DataLoader(dataset=dataset_train, shuffle=True, batch_size=BATCH_SIZE)\n",
        "val_dataloader = DataLoader(dataset=dataset_val, batch_size=BATCH_SIZE)\n",
        "test_dataloader = DataLoader(dataset=dataset_test, batch_size=BATCH_SIZE)\n",
        "final_test_dataloader = DataLoader(dataset=dataset_final_test, batch_size=BATCH_SIZE)"
      ]
    },
    {
      "cell_type": "code",
      "execution_count": null,
      "metadata": {
        "colab": {
          "base_uri": "https://localhost:8080/",
          "height": 160,
          "referenced_widgets": [
            "87b49c79e8964a98a648966efdfd7572",
            "9e503f488c374618a9202738b4c952a5",
            "1d4d5a503d1c4112b580f0e0216d2719",
            "8c89bb640bb543f2baf2cf14165ceb8f",
            "28d1cb2de94344f4bb6982ac3cc166a3",
            "244bec7298844a8ba1ab7115183292cb",
            "25dfb21fa84b45b08152bcb3c0e79f79",
            "f530a311fa2b4699be8540ad732105df",
            "eea27ce9da184779809182e776ea98d4",
            "95e1b682b9ba47d594bbbe30b70c3f5d",
            "531ba594a64f45c68dd14e1f366bbabc"
          ]
        },
        "id": "8VKFTvZ7785d",
        "outputId": "8b35f201-268c-4804-f06c-e0b416c2d158"
      },
      "outputs": [
        {
          "data": {
            "application/vnd.jupyter.widget-view+json": {
              "model_id": "87b49c79e8964a98a648966efdfd7572",
              "version_major": 2,
              "version_minor": 0
            },
            "text/plain": [
              "Downloading (…)\"pytorch_model.bin\";:   0%|          | 0.00/436M [00:00<?, ?B/s]"
            ]
          },
          "metadata": {},
          "output_type": "display_data"
        },
        {
          "name": "stderr",
          "output_type": "stream",
          "text": [
            "Some weights of the model checkpoint at bert-base-cased were not used when initializing BertForSequenceClassification: ['cls.predictions.bias', 'cls.predictions.transform.LayerNorm.weight', 'cls.predictions.decoder.weight', 'cls.predictions.transform.dense.bias', 'cls.predictions.transform.LayerNorm.bias', 'cls.seq_relationship.bias', 'cls.seq_relationship.weight', 'cls.predictions.transform.dense.weight']\n",
            "- This IS expected if you are initializing BertForSequenceClassification from the checkpoint of a model trained on another task or with another architecture (e.g. initializing a BertForSequenceClassification model from a BertForPreTraining model).\n",
            "- This IS NOT expected if you are initializing BertForSequenceClassification from the checkpoint of a model that you expect to be exactly identical (initializing a BertForSequenceClassification model from a BertForSequenceClassification model).\n",
            "Some weights of BertForSequenceClassification were not initialized from the model checkpoint at bert-base-cased and are newly initialized: ['classifier.bias', 'classifier.weight']\n",
            "You should probably TRAIN this model on a down-stream task to be able to use it for predictions and inference.\n"
          ]
        }
      ],
      "source": [
        "# Load model\n",
        "model = AutoModelForSequenceClassification.from_pretrained(\"bert-base-cased\", num_labels=5)"
      ]
    },
    {
      "cell_type": "code",
      "execution_count": null,
      "metadata": {
        "colab": {
          "base_uri": "https://localhost:8080/"
        },
        "id": "nyzEsft78bdU",
        "outputId": "e8aef999-c206-4cca-d4e4-f67303f10419"
      },
      "outputs": [
        {
          "data": {
            "text/plain": [
              "BertForSequenceClassification(\n",
              "  (bert): BertModel(\n",
              "    (embeddings): BertEmbeddings(\n",
              "      (word_embeddings): Embedding(28996, 768, padding_idx=0)\n",
              "      (position_embeddings): Embedding(512, 768)\n",
              "      (token_type_embeddings): Embedding(2, 768)\n",
              "      (LayerNorm): LayerNorm((768,), eps=1e-12, elementwise_affine=True)\n",
              "      (dropout): Dropout(p=0.1, inplace=False)\n",
              "    )\n",
              "    (encoder): BertEncoder(\n",
              "      (layer): ModuleList(\n",
              "        (0): BertLayer(\n",
              "          (attention): BertAttention(\n",
              "            (self): BertSelfAttention(\n",
              "              (query): Linear(in_features=768, out_features=768, bias=True)\n",
              "              (key): Linear(in_features=768, out_features=768, bias=True)\n",
              "              (value): Linear(in_features=768, out_features=768, bias=True)\n",
              "              (dropout): Dropout(p=0.1, inplace=False)\n",
              "            )\n",
              "            (output): BertSelfOutput(\n",
              "              (dense): Linear(in_features=768, out_features=768, bias=True)\n",
              "              (LayerNorm): LayerNorm((768,), eps=1e-12, elementwise_affine=True)\n",
              "              (dropout): Dropout(p=0.1, inplace=False)\n",
              "            )\n",
              "          )\n",
              "          (intermediate): BertIntermediate(\n",
              "            (dense): Linear(in_features=768, out_features=3072, bias=True)\n",
              "            (intermediate_act_fn): GELUActivation()\n",
              "          )\n",
              "          (output): BertOutput(\n",
              "            (dense): Linear(in_features=3072, out_features=768, bias=True)\n",
              "            (LayerNorm): LayerNorm((768,), eps=1e-12, elementwise_affine=True)\n",
              "            (dropout): Dropout(p=0.1, inplace=False)\n",
              "          )\n",
              "        )\n",
              "        (1): BertLayer(\n",
              "          (attention): BertAttention(\n",
              "            (self): BertSelfAttention(\n",
              "              (query): Linear(in_features=768, out_features=768, bias=True)\n",
              "              (key): Linear(in_features=768, out_features=768, bias=True)\n",
              "              (value): Linear(in_features=768, out_features=768, bias=True)\n",
              "              (dropout): Dropout(p=0.1, inplace=False)\n",
              "            )\n",
              "            (output): BertSelfOutput(\n",
              "              (dense): Linear(in_features=768, out_features=768, bias=True)\n",
              "              (LayerNorm): LayerNorm((768,), eps=1e-12, elementwise_affine=True)\n",
              "              (dropout): Dropout(p=0.1, inplace=False)\n",
              "            )\n",
              "          )\n",
              "          (intermediate): BertIntermediate(\n",
              "            (dense): Linear(in_features=768, out_features=3072, bias=True)\n",
              "            (intermediate_act_fn): GELUActivation()\n",
              "          )\n",
              "          (output): BertOutput(\n",
              "            (dense): Linear(in_features=3072, out_features=768, bias=True)\n",
              "            (LayerNorm): LayerNorm((768,), eps=1e-12, elementwise_affine=True)\n",
              "            (dropout): Dropout(p=0.1, inplace=False)\n",
              "          )\n",
              "        )\n",
              "        (2): BertLayer(\n",
              "          (attention): BertAttention(\n",
              "            (self): BertSelfAttention(\n",
              "              (query): Linear(in_features=768, out_features=768, bias=True)\n",
              "              (key): Linear(in_features=768, out_features=768, bias=True)\n",
              "              (value): Linear(in_features=768, out_features=768, bias=True)\n",
              "              (dropout): Dropout(p=0.1, inplace=False)\n",
              "            )\n",
              "            (output): BertSelfOutput(\n",
              "              (dense): Linear(in_features=768, out_features=768, bias=True)\n",
              "              (LayerNorm): LayerNorm((768,), eps=1e-12, elementwise_affine=True)\n",
              "              (dropout): Dropout(p=0.1, inplace=False)\n",
              "            )\n",
              "          )\n",
              "          (intermediate): BertIntermediate(\n",
              "            (dense): Linear(in_features=768, out_features=3072, bias=True)\n",
              "            (intermediate_act_fn): GELUActivation()\n",
              "          )\n",
              "          (output): BertOutput(\n",
              "            (dense): Linear(in_features=3072, out_features=768, bias=True)\n",
              "            (LayerNorm): LayerNorm((768,), eps=1e-12, elementwise_affine=True)\n",
              "            (dropout): Dropout(p=0.1, inplace=False)\n",
              "          )\n",
              "        )\n",
              "        (3): BertLayer(\n",
              "          (attention): BertAttention(\n",
              "            (self): BertSelfAttention(\n",
              "              (query): Linear(in_features=768, out_features=768, bias=True)\n",
              "              (key): Linear(in_features=768, out_features=768, bias=True)\n",
              "              (value): Linear(in_features=768, out_features=768, bias=True)\n",
              "              (dropout): Dropout(p=0.1, inplace=False)\n",
              "            )\n",
              "            (output): BertSelfOutput(\n",
              "              (dense): Linear(in_features=768, out_features=768, bias=True)\n",
              "              (LayerNorm): LayerNorm((768,), eps=1e-12, elementwise_affine=True)\n",
              "              (dropout): Dropout(p=0.1, inplace=False)\n",
              "            )\n",
              "          )\n",
              "          (intermediate): BertIntermediate(\n",
              "            (dense): Linear(in_features=768, out_features=3072, bias=True)\n",
              "            (intermediate_act_fn): GELUActivation()\n",
              "          )\n",
              "          (output): BertOutput(\n",
              "            (dense): Linear(in_features=3072, out_features=768, bias=True)\n",
              "            (LayerNorm): LayerNorm((768,), eps=1e-12, elementwise_affine=True)\n",
              "            (dropout): Dropout(p=0.1, inplace=False)\n",
              "          )\n",
              "        )\n",
              "        (4): BertLayer(\n",
              "          (attention): BertAttention(\n",
              "            (self): BertSelfAttention(\n",
              "              (query): Linear(in_features=768, out_features=768, bias=True)\n",
              "              (key): Linear(in_features=768, out_features=768, bias=True)\n",
              "              (value): Linear(in_features=768, out_features=768, bias=True)\n",
              "              (dropout): Dropout(p=0.1, inplace=False)\n",
              "            )\n",
              "            (output): BertSelfOutput(\n",
              "              (dense): Linear(in_features=768, out_features=768, bias=True)\n",
              "              (LayerNorm): LayerNorm((768,), eps=1e-12, elementwise_affine=True)\n",
              "              (dropout): Dropout(p=0.1, inplace=False)\n",
              "            )\n",
              "          )\n",
              "          (intermediate): BertIntermediate(\n",
              "            (dense): Linear(in_features=768, out_features=3072, bias=True)\n",
              "            (intermediate_act_fn): GELUActivation()\n",
              "          )\n",
              "          (output): BertOutput(\n",
              "            (dense): Linear(in_features=3072, out_features=768, bias=True)\n",
              "            (LayerNorm): LayerNorm((768,), eps=1e-12, elementwise_affine=True)\n",
              "            (dropout): Dropout(p=0.1, inplace=False)\n",
              "          )\n",
              "        )\n",
              "        (5): BertLayer(\n",
              "          (attention): BertAttention(\n",
              "            (self): BertSelfAttention(\n",
              "              (query): Linear(in_features=768, out_features=768, bias=True)\n",
              "              (key): Linear(in_features=768, out_features=768, bias=True)\n",
              "              (value): Linear(in_features=768, out_features=768, bias=True)\n",
              "              (dropout): Dropout(p=0.1, inplace=False)\n",
              "            )\n",
              "            (output): BertSelfOutput(\n",
              "              (dense): Linear(in_features=768, out_features=768, bias=True)\n",
              "              (LayerNorm): LayerNorm((768,), eps=1e-12, elementwise_affine=True)\n",
              "              (dropout): Dropout(p=0.1, inplace=False)\n",
              "            )\n",
              "          )\n",
              "          (intermediate): BertIntermediate(\n",
              "            (dense): Linear(in_features=768, out_features=3072, bias=True)\n",
              "            (intermediate_act_fn): GELUActivation()\n",
              "          )\n",
              "          (output): BertOutput(\n",
              "            (dense): Linear(in_features=3072, out_features=768, bias=True)\n",
              "            (LayerNorm): LayerNorm((768,), eps=1e-12, elementwise_affine=True)\n",
              "            (dropout): Dropout(p=0.1, inplace=False)\n",
              "          )\n",
              "        )\n",
              "        (6): BertLayer(\n",
              "          (attention): BertAttention(\n",
              "            (self): BertSelfAttention(\n",
              "              (query): Linear(in_features=768, out_features=768, bias=True)\n",
              "              (key): Linear(in_features=768, out_features=768, bias=True)\n",
              "              (value): Linear(in_features=768, out_features=768, bias=True)\n",
              "              (dropout): Dropout(p=0.1, inplace=False)\n",
              "            )\n",
              "            (output): BertSelfOutput(\n",
              "              (dense): Linear(in_features=768, out_features=768, bias=True)\n",
              "              (LayerNorm): LayerNorm((768,), eps=1e-12, elementwise_affine=True)\n",
              "              (dropout): Dropout(p=0.1, inplace=False)\n",
              "            )\n",
              "          )\n",
              "          (intermediate): BertIntermediate(\n",
              "            (dense): Linear(in_features=768, out_features=3072, bias=True)\n",
              "            (intermediate_act_fn): GELUActivation()\n",
              "          )\n",
              "          (output): BertOutput(\n",
              "            (dense): Linear(in_features=3072, out_features=768, bias=True)\n",
              "            (LayerNorm): LayerNorm((768,), eps=1e-12, elementwise_affine=True)\n",
              "            (dropout): Dropout(p=0.1, inplace=False)\n",
              "          )\n",
              "        )\n",
              "        (7): BertLayer(\n",
              "          (attention): BertAttention(\n",
              "            (self): BertSelfAttention(\n",
              "              (query): Linear(in_features=768, out_features=768, bias=True)\n",
              "              (key): Linear(in_features=768, out_features=768, bias=True)\n",
              "              (value): Linear(in_features=768, out_features=768, bias=True)\n",
              "              (dropout): Dropout(p=0.1, inplace=False)\n",
              "            )\n",
              "            (output): BertSelfOutput(\n",
              "              (dense): Linear(in_features=768, out_features=768, bias=True)\n",
              "              (LayerNorm): LayerNorm((768,), eps=1e-12, elementwise_affine=True)\n",
              "              (dropout): Dropout(p=0.1, inplace=False)\n",
              "            )\n",
              "          )\n",
              "          (intermediate): BertIntermediate(\n",
              "            (dense): Linear(in_features=768, out_features=3072, bias=True)\n",
              "            (intermediate_act_fn): GELUActivation()\n",
              "          )\n",
              "          (output): BertOutput(\n",
              "            (dense): Linear(in_features=3072, out_features=768, bias=True)\n",
              "            (LayerNorm): LayerNorm((768,), eps=1e-12, elementwise_affine=True)\n",
              "            (dropout): Dropout(p=0.1, inplace=False)\n",
              "          )\n",
              "        )\n",
              "        (8): BertLayer(\n",
              "          (attention): BertAttention(\n",
              "            (self): BertSelfAttention(\n",
              "              (query): Linear(in_features=768, out_features=768, bias=True)\n",
              "              (key): Linear(in_features=768, out_features=768, bias=True)\n",
              "              (value): Linear(in_features=768, out_features=768, bias=True)\n",
              "              (dropout): Dropout(p=0.1, inplace=False)\n",
              "            )\n",
              "            (output): BertSelfOutput(\n",
              "              (dense): Linear(in_features=768, out_features=768, bias=True)\n",
              "              (LayerNorm): LayerNorm((768,), eps=1e-12, elementwise_affine=True)\n",
              "              (dropout): Dropout(p=0.1, inplace=False)\n",
              "            )\n",
              "          )\n",
              "          (intermediate): BertIntermediate(\n",
              "            (dense): Linear(in_features=768, out_features=3072, bias=True)\n",
              "            (intermediate_act_fn): GELUActivation()\n",
              "          )\n",
              "          (output): BertOutput(\n",
              "            (dense): Linear(in_features=3072, out_features=768, bias=True)\n",
              "            (LayerNorm): LayerNorm((768,), eps=1e-12, elementwise_affine=True)\n",
              "            (dropout): Dropout(p=0.1, inplace=False)\n",
              "          )\n",
              "        )\n",
              "        (9): BertLayer(\n",
              "          (attention): BertAttention(\n",
              "            (self): BertSelfAttention(\n",
              "              (query): Linear(in_features=768, out_features=768, bias=True)\n",
              "              (key): Linear(in_features=768, out_features=768, bias=True)\n",
              "              (value): Linear(in_features=768, out_features=768, bias=True)\n",
              "              (dropout): Dropout(p=0.1, inplace=False)\n",
              "            )\n",
              "            (output): BertSelfOutput(\n",
              "              (dense): Linear(in_features=768, out_features=768, bias=True)\n",
              "              (LayerNorm): LayerNorm((768,), eps=1e-12, elementwise_affine=True)\n",
              "              (dropout): Dropout(p=0.1, inplace=False)\n",
              "            )\n",
              "          )\n",
              "          (intermediate): BertIntermediate(\n",
              "            (dense): Linear(in_features=768, out_features=3072, bias=True)\n",
              "            (intermediate_act_fn): GELUActivation()\n",
              "          )\n",
              "          (output): BertOutput(\n",
              "            (dense): Linear(in_features=3072, out_features=768, bias=True)\n",
              "            (LayerNorm): LayerNorm((768,), eps=1e-12, elementwise_affine=True)\n",
              "            (dropout): Dropout(p=0.1, inplace=False)\n",
              "          )\n",
              "        )\n",
              "        (10): BertLayer(\n",
              "          (attention): BertAttention(\n",
              "            (self): BertSelfAttention(\n",
              "              (query): Linear(in_features=768, out_features=768, bias=True)\n",
              "              (key): Linear(in_features=768, out_features=768, bias=True)\n",
              "              (value): Linear(in_features=768, out_features=768, bias=True)\n",
              "              (dropout): Dropout(p=0.1, inplace=False)\n",
              "            )\n",
              "            (output): BertSelfOutput(\n",
              "              (dense): Linear(in_features=768, out_features=768, bias=True)\n",
              "              (LayerNorm): LayerNorm((768,), eps=1e-12, elementwise_affine=True)\n",
              "              (dropout): Dropout(p=0.1, inplace=False)\n",
              "            )\n",
              "          )\n",
              "          (intermediate): BertIntermediate(\n",
              "            (dense): Linear(in_features=768, out_features=3072, bias=True)\n",
              "            (intermediate_act_fn): GELUActivation()\n",
              "          )\n",
              "          (output): BertOutput(\n",
              "            (dense): Linear(in_features=3072, out_features=768, bias=True)\n",
              "            (LayerNorm): LayerNorm((768,), eps=1e-12, elementwise_affine=True)\n",
              "            (dropout): Dropout(p=0.1, inplace=False)\n",
              "          )\n",
              "        )\n",
              "        (11): BertLayer(\n",
              "          (attention): BertAttention(\n",
              "            (self): BertSelfAttention(\n",
              "              (query): Linear(in_features=768, out_features=768, bias=True)\n",
              "              (key): Linear(in_features=768, out_features=768, bias=True)\n",
              "              (value): Linear(in_features=768, out_features=768, bias=True)\n",
              "              (dropout): Dropout(p=0.1, inplace=False)\n",
              "            )\n",
              "            (output): BertSelfOutput(\n",
              "              (dense): Linear(in_features=768, out_features=768, bias=True)\n",
              "              (LayerNorm): LayerNorm((768,), eps=1e-12, elementwise_affine=True)\n",
              "              (dropout): Dropout(p=0.1, inplace=False)\n",
              "            )\n",
              "          )\n",
              "          (intermediate): BertIntermediate(\n",
              "            (dense): Linear(in_features=768, out_features=3072, bias=True)\n",
              "            (intermediate_act_fn): GELUActivation()\n",
              "          )\n",
              "          (output): BertOutput(\n",
              "            (dense): Linear(in_features=3072, out_features=768, bias=True)\n",
              "            (LayerNorm): LayerNorm((768,), eps=1e-12, elementwise_affine=True)\n",
              "            (dropout): Dropout(p=0.1, inplace=False)\n",
              "          )\n",
              "        )\n",
              "      )\n",
              "    )\n",
              "    (pooler): BertPooler(\n",
              "      (dense): Linear(in_features=768, out_features=768, bias=True)\n",
              "      (activation): Tanh()\n",
              "    )\n",
              "  )\n",
              "  (dropout): Dropout(p=0.1, inplace=False)\n",
              "  (classifier): Linear(in_features=768, out_features=5, bias=True)\n",
              ")"
            ]
          },
          "execution_count": 108,
          "metadata": {},
          "output_type": "execute_result"
        }
      ],
      "source": [
        "# Number of epochs\n",
        "num_epochs = 5\n",
        "\n",
        "# Number of training steps\n",
        "num_training_steps = num_epochs * len(train_dataloader)\n",
        "\n",
        "# Optimizer\n",
        "optimizer = AdamW(params=model.parameters(), lr=5e-6)\n",
        "\n",
        "# Set up the learning rate scheduler\n",
        "lr_scheduler = get_scheduler(name=\"linear\", \n",
        "                             optimizer=optimizer, \n",
        "                             num_warmup_steps=0, \n",
        "                             num_training_steps=num_training_steps)\n",
        "\n",
        "# Use GPU if it is available\n",
        "device = torch.device(\"cuda\") if torch.cuda.is_available() else torch.device(\"cpu\")\n",
        "model.to(device)"
      ]
    },
    {
      "cell_type": "code",
      "execution_count": null,
      "metadata": {
        "colab": {
          "base_uri": "https://localhost:8080/",
          "height": 49,
          "referenced_widgets": [
            "e41da80cecda491db2472245a51493fb",
            "03ddcbb8e4f44841916433e0f95051b8",
            "783345d4e1094bdf854b84220cd43231",
            "4bab330562794b118e05e2f8dbbe4bbc",
            "7babed65cb614de6a9475e019033c700",
            "785fb0702c85421b93d2b5be78a545de",
            "8b8f6151000e4aa3995a884a665e1169",
            "725ed2ea5cb244e8ad6633c163a5b431",
            "f8946c5df37d48d291b50dbf5db6c331",
            "a5f94b3d4db34238be8e7f3dadc7b3af",
            "10b3048e157747b9b53b634f252fe443"
          ]
        },
        "id": "vIIRddqM867b",
        "outputId": "6132a5cc-b04b-40fd-ce51-5b55b61894dd"
      },
      "outputs": [
        {
          "data": {
            "application/vnd.jupyter.widget-view+json": {
              "model_id": "e41da80cecda491db2472245a51493fb",
              "version_major": 2,
              "version_minor": 0
            },
            "text/plain": [
              "  0%|          | 0/165 [00:00<?, ?it/s]"
            ]
          },
          "metadata": {},
          "output_type": "display_data"
        }
      ],
      "source": [
        "# Set the progress bar\n",
        "progress_bar = tqdm(range(num_training_steps))\n",
        "\n",
        "# Tells the model that we are training the model\n",
        "model.train()\n",
        "# Loop through the epochs\n",
        "for epoch in range(num_epochs):\n",
        "    # Loop through the batches\n",
        "    for batch in train_dataloader:\n",
        "        # Get the batch\n",
        "        batch = {k: v.to(device) for k, v in batch.items()}\n",
        "        # Compute the model output for the batch\n",
        "        outputs = model(**batch)\n",
        "        # Loss computed by the model\n",
        "        loss = outputs.loss\n",
        "        # backpropagates the error to calculate gradients\n",
        "        loss.backward()\n",
        "        # Update the model weights\n",
        "        optimizer.step()\n",
        "        # Learning rate scheduler\n",
        "        lr_scheduler.step()\n",
        "        # Clear the gradients\n",
        "        optimizer.zero_grad()\n",
        "        # Update the progress bar\n",
        "        progress_bar.update(1)"
      ]
    },
    {
      "cell_type": "markdown",
      "metadata": {
        "id": "ER5aqMtt9vau"
      },
      "source": [
        "https://medium.com/grabngoinfo/transfer-learning-for-text-classification-using-pytorch-5e52045d55f8"
      ]
    },
    {
      "cell_type": "markdown",
      "metadata": {
        "id": "fCJJVARHxQ3D",
        "tags": []
      },
      "source": [
        "# A simple transformer"
      ]
    },
    {
      "cell_type": "markdown",
      "metadata": {
        "id": "0DVJrWtZLS6x"
      },
      "source": [
        "### Preprocessing"
      ]
    },
    {
      "cell_type": "markdown",
      "metadata": {
        "id": "bPDUaAl0L4Z7"
      },
      "source": [
        "Repeat some of the steps that were perfomed early:"
      ]
    },
    {
      "cell_type": "code",
      "execution_count": null,
      "metadata": {
        "id": "PKqKdekScchl"
      },
      "outputs": [],
      "source": [
        "# Empty cache\n",
        "torch.cuda.empty_cache()"
      ]
    },
    {
      "cell_type": "code",
      "execution_count": null,
      "metadata": {
        "id": "7_yaSMvsLH1p",
        "outputId": "b93793eb-9a42-4d62-9348-52e525a906e9"
      },
      "outputs": [
        {
          "name": "stdout",
          "output_type": "stream",
          "text": [
            "Shape of the train_data: (32924, 2)\n",
            "Shape of the val_data: (4115, 2)\n",
            "Shape of the test_data: (4116, 2)\n",
            "Shape of the finel_test_raw_data: (3798, 1)\n"
          ]
        }
      ],
      "source": [
        "# first, we will split data by two samples: train and test in the proportion of 80:20\n",
        "train_data, test_data = train_test_split(train_raw_data, test_size=0.2, stratify=train_raw_data['Sentiment'], random_state=42)\n",
        "# then, we will split test data by two samples: validation and test in the proportion of 50:50 \n",
        "val_data, test_data = train_test_split(test_data, test_size=0.5, stratify=test_data['Sentiment'], random_state=42)\n",
        "\n",
        "print(f'Shape of the train_data: {train_data.shape}')\n",
        "print(f'Shape of the val_data: {val_data.shape}')\n",
        "print(f'Shape of the test_data: {test_data.shape}')\n",
        "print(f'Shape of the finel_test_raw_data: {subm_raw_data.shape}')\n",
        "\n",
        "train_dataset, val_dataset, test_dataset, subm_dataset = to_map_style_dataset(train_data.values), \\\n",
        "                                                               to_map_style_dataset(val_data.values), \\\n",
        "                                                               to_map_style_dataset(test_data.values), \\\n",
        "                                                               to_map_style_dataset(subm_raw_data.values)\n",
        "\n",
        "MAX_WORDS  = 40\n",
        "BATCH_SIZE = 1024\n",
        "\n",
        "def vectorize_batch(batch):\n",
        "  X, Y = list(zip(*batch))\n",
        "  X = [vocab(tokenizer(text)) for text in X] # tokenize and map tokens to indexes\n",
        "  X = [tokens+([0]*(MAX_WORDS - len(tokens))) if len(tokens) < MAX_WORDS else tokens[:MAX_WORDS] for tokens in X]\n",
        "  return torch.tensor(X, dtype=torch.int32, device=device), torch.tensor(Y, device=device)\n",
        "\n",
        "def vectorize_batch_for_submission(batch):\n",
        "  X = [vocab(tokenizer(text[0])) for text in batch] # tokenize and map tokens to indexes\n",
        "  X = [tokens+([0]*(MAX_WORDS - len(tokens))) if len(tokens) < MAX_WORDS else tokens[:MAX_WORDS] for tokens in X]\n",
        "  return torch.tensor(X, dtype=torch.int32, device=device), torch.tensor(Y, device=device)\n",
        "\n",
        "train_loader = DataLoader(train_dataset, batch_size=BATCH_SIZE, collate_fn=vectorize_batch, shuffle=True)\n",
        "val_loader   = DataLoader(val_dataset,   batch_size=BATCH_SIZE, collate_fn=vectorize_batch, shuffle=True)\n",
        "test_loader  = DataLoader(test_dataset , batch_size=BATCH_SIZE, collate_fn=vectorize_batch, shuffle=True)\n",
        "subm_loader  = DataLoader(subm_dataset , batch_size=BATCH_SIZE, collate_fn=vectorize_batch_for_submission)"
      ]
    },
    {
      "cell_type": "markdown",
      "metadata": {
        "id": "rX8rlkOJMezY"
      },
      "source": [
        "### Creating model"
      ]
    },
    {
      "cell_type": "code",
      "execution_count": null,
      "metadata": {
        "id": "O5Aig4gfgsAp"
      },
      "outputs": [],
      "source": [
        "class ClsTransformer(nn.Module):\n",
        "    \"\"\"\n",
        "    Transformer for classifying sequences\n",
        "    \"\"\"\n",
        "\n",
        "    def __init__(self, emb, heads, depth, seq_length, num_tokens, num_classes, max_pool=True, dropout=0.0):\n",
        "        \"\"\"\n",
        "        :param emb: Embedding dimension\n",
        "        :param heads: nr. of attention heads\n",
        "        :param depth: Number of transformer blocks\n",
        "        :param seq_length: Expected maximum sequence length\n",
        "        :param num_tokens: Number of tokens (usually words) in the vocabulary\n",
        "        :param num_classes: Number of classes.\n",
        "        :param max_pool: If true, use global max pooling in the last layer. If false, use global\n",
        "                         average pooling.\n",
        "        \"\"\"\n",
        "        super().__init__()\n",
        "        self.num_tokens, self.max_pool = num_tokens, max_pool\n",
        "        self.token_embedding = nn.Embedding(num_embeddings=num_tokens, embedding_dim=emb)\n",
        "        self.pos_embedding = nn.Embedding(num_embeddings=seq_length, embedding_dim=emb)\n",
        "        self.unify_embeddings = nn.Linear(2 * emb, emb)\n",
        "\n",
        "        tblocks = []\n",
        "        for i in range(depth):\n",
        "            tblocks.append(\n",
        "                TransformerBlock(emb=emb, heads=heads, seq_length=seq_length, dropout=dropout))\n",
        "            \n",
        "        self.tblocks = nn.Sequential(*tblocks)\n",
        "        self.toprobs = nn.Linear(emb, num_classes)\n",
        "        self.do = nn.Dropout(dropout)\n",
        "\n",
        "    def forward(self, x):\n",
        "        \"\"\"\n",
        "        :param x: A batch by sequence length integer tensor of token indices.\n",
        "        :return: predicted log-probability vectors for each token based on the preceding tokens.\n",
        "        \"\"\"\n",
        "        tokens = self.token_embedding(x)\n",
        "        b, t, e = tokens.size()\n",
        "        positions = self.pos_embedding(torch.arange(t, device=device))[None, :, :].expand(b, t, e)\n",
        "        x = self.unify_embeddings(torch.cat((tokens, positions), dim=2).view(-1, 2 * e)).view(b, t, e)\n",
        "        x = self.do(x)\n",
        "        x = self.tblocks(x)\n",
        "        x = x.max(dim=1)[0] if self.max_pool else x.mean(dim=1) # pool over the time dimension\n",
        "        x = self.toprobs(x)\n",
        "        return F.log_softmax(x, dim=1)\n",
        "\n",
        "\n",
        "class SelfAttention(nn.Module):\n",
        "    def __init__(self, emb, heads=8):\n",
        "        \"\"\"\n",
        "        :param emb:\n",
        "        :param heads:\n",
        "        :param mask:\n",
        "        \"\"\"\n",
        "        super().__init__()\n",
        "\n",
        "        self.emb = emb\n",
        "        self.heads = heads\n",
        "\n",
        "        self.tokeys = nn.Linear(emb, emb * heads, bias=False)\n",
        "        self.toqueries = nn.Linear(emb, emb * heads, bias=False)\n",
        "        self.tovalues = nn.Linear(emb, emb * heads, bias=False)\n",
        "\n",
        "        self.unifyheads = nn.Linear(heads * emb, emb)\n",
        "\n",
        "    def forward(self, x):\n",
        "\n",
        "        b, t, e = x.size()\n",
        "        h = self.heads\n",
        "        assert e == self.emb, f'Input embedding dim ({e}) should match layer embedding dim ({self.emb})'\n",
        "\n",
        "        keys    = self.tokeys(x)   .view(b, t, h, e)\n",
        "        queries = self.toqueries(x).view(b, t, h, e)\n",
        "        values  = self.tovalues(x) .view(b, t, h, e)\n",
        "\n",
        "        # compute scaled dot-product self-attention\n",
        "\n",
        "        # - fold heads into the batch dimension\n",
        "        keys = keys.transpose(1, 2).contiguous().view(b * h, t, e)\n",
        "        queries = queries.transpose(1, 2).contiguous().view(b * h, t, e)\n",
        "        values = values.transpose(1, 2).contiguous().view(b * h, t, e)\n",
        "\n",
        "        # - get dot product of queries and keys, and scale\n",
        "        dot = torch.bmm(queries, keys.transpose(1, 2))\n",
        "        dot = dot / math.sqrt(e) # dot contains b*h  t-by-t matrices with raw self-attention logits\n",
        "\n",
        "        assert dot.size() == (b*h, t, t), f'Matrix has size {dot.size()}, expected {(b*h, t, t)}.'\n",
        "\n",
        "        dot = F.softmax(dot, dim=2) # dot now has row-wise self-attention probabilities\n",
        "\n",
        "        # apply the self attention to the values\n",
        "        out = torch.bmm(dot, values).view(b, h, t, e)\n",
        "\n",
        "        # swap h, t back, unify heads\n",
        "        out = out.transpose(1, 2).contiguous().view(b, t, h * e)\n",
        "\n",
        "        return self.unifyheads(out)\n",
        "\n",
        "\n",
        "class TransformerBlock(nn.Module):\n",
        "    def __init__(self, emb, heads, seq_length, ff_hidden_mult=5, dropout=0.4):\n",
        "        super().__init__()\n",
        "        self.attention = SelfAttention(emb, heads=heads)\n",
        "        self.norm1 = nn.LayerNorm(emb)\n",
        "        self.norm2 = nn.LayerNorm(emb)\n",
        "        self.ff = nn.Sequential(\n",
        "            nn.Linear(emb, ff_hidden_mult * emb),\n",
        "            nn.ReLU(),\n",
        "            nn.Linear(ff_hidden_mult * emb, emb),\n",
        "            nn.Linear(emb, ff_hidden_mult * emb),\n",
        "            nn.ReLU(),\n",
        "            nn.Linear(ff_hidden_mult * emb, emb),\n",
        "        )\n",
        "        self.do = nn.Dropout(dropout)\n",
        "\n",
        "    def forward(self, x):\n",
        "        attended = self.attention(x)\n",
        "        x = self.norm1(attended + x)\n",
        "        x = self.do(x)\n",
        "        feedforward = self.ff(x)\n",
        "        x = self.norm2(feedforward + x)\n",
        "        x = self.do(x)\n",
        "        return x       "
      ]
    },
    {
      "cell_type": "markdown",
      "metadata": {
        "id": "ltdCCbnlMpKT"
      },
      "source": [
        "### Training and evaluating"
      ]
    },
    {
      "cell_type": "code",
      "execution_count": null,
      "metadata": {
        "id": "6ie6SHCoIIj8",
        "outputId": "c3a1af47-f3bf-4621-b538-f4d5bc69325c"
      },
      "outputs": [
        {
          "name": "stderr",
          "output_type": "stream",
          "text": [
            "100%|██████████| 33/33 [00:04<00:00,  7.12it/s]\n"
          ]
        },
        {
          "name": "stdout",
          "output_type": "stream",
          "text": [
            "Train Loss: 1.564\n"
          ]
        },
        {
          "name": "stderr",
          "output_type": "stream",
          "text": [
            "100%|██████████| 5/5 [00:00<00:00, 19.81it/s]\n"
          ]
        },
        {
          "name": "stdout",
          "output_type": "stream",
          "text": [
            "Valid Loss: 1.515\n",
            "Epoch: 1, Valid Acc : 0.313\n"
          ]
        },
        {
          "name": "stderr",
          "output_type": "stream",
          "text": [
            "100%|██████████| 33/33 [00:03<00:00, 10.52it/s]\n"
          ]
        },
        {
          "name": "stdout",
          "output_type": "stream",
          "text": [
            "Train Loss: 1.470\n"
          ]
        },
        {
          "name": "stderr",
          "output_type": "stream",
          "text": [
            "100%|██████████| 5/5 [00:00<00:00, 32.05it/s]\n"
          ]
        },
        {
          "name": "stdout",
          "output_type": "stream",
          "text": [
            "Valid Loss: 1.420\n",
            "Epoch: 2, Valid Acc : 0.372\n"
          ]
        },
        {
          "name": "stderr",
          "output_type": "stream",
          "text": [
            "100%|██████████| 33/33 [00:03<00:00, 10.43it/s]\n"
          ]
        },
        {
          "name": "stdout",
          "output_type": "stream",
          "text": [
            "Train Loss: 1.308\n"
          ]
        },
        {
          "name": "stderr",
          "output_type": "stream",
          "text": [
            "100%|██████████| 5/5 [00:00<00:00, 32.23it/s]\n"
          ]
        },
        {
          "name": "stdout",
          "output_type": "stream",
          "text": [
            "Valid Loss: 1.268\n",
            "Epoch: 3, Valid Acc : 0.453\n"
          ]
        },
        {
          "name": "stderr",
          "output_type": "stream",
          "text": [
            "100%|██████████| 33/33 [00:03<00:00, 10.54it/s]\n"
          ]
        },
        {
          "name": "stdout",
          "output_type": "stream",
          "text": [
            "Train Loss: 1.126\n"
          ]
        },
        {
          "name": "stderr",
          "output_type": "stream",
          "text": [
            "100%|██████████| 5/5 [00:00<00:00, 32.67it/s]\n"
          ]
        },
        {
          "name": "stdout",
          "output_type": "stream",
          "text": [
            "Valid Loss: 1.097\n",
            "Epoch: 4, Valid Acc : 0.522\n"
          ]
        },
        {
          "name": "stderr",
          "output_type": "stream",
          "text": [
            "100%|██████████| 33/33 [00:03<00:00, 10.47it/s]\n"
          ]
        },
        {
          "name": "stdout",
          "output_type": "stream",
          "text": [
            "Train Loss: 0.964\n"
          ]
        },
        {
          "name": "stderr",
          "output_type": "stream",
          "text": [
            "100%|██████████| 5/5 [00:00<00:00, 32.25it/s]\n"
          ]
        },
        {
          "name": "stdout",
          "output_type": "stream",
          "text": [
            "Valid Loss: 1.074\n",
            "Epoch: 5, Valid Acc : 0.582\n"
          ]
        },
        {
          "name": "stderr",
          "output_type": "stream",
          "text": [
            "100%|██████████| 33/33 [00:03<00:00, 10.42it/s]\n"
          ]
        },
        {
          "name": "stdout",
          "output_type": "stream",
          "text": [
            "Train Loss: 0.819\n"
          ]
        },
        {
          "name": "stderr",
          "output_type": "stream",
          "text": [
            "100%|██████████| 5/5 [00:00<00:00, 32.15it/s]\n"
          ]
        },
        {
          "name": "stdout",
          "output_type": "stream",
          "text": [
            "Valid Loss: 1.016\n",
            "Epoch: 6, Valid Acc : 0.610\n"
          ]
        },
        {
          "name": "stderr",
          "output_type": "stream",
          "text": [
            "100%|██████████| 33/33 [00:03<00:00, 10.53it/s]\n"
          ]
        },
        {
          "name": "stdout",
          "output_type": "stream",
          "text": [
            "Train Loss: 0.706\n"
          ]
        },
        {
          "name": "stderr",
          "output_type": "stream",
          "text": [
            "100%|██████████| 5/5 [00:00<00:00, 32.78it/s]\n"
          ]
        },
        {
          "name": "stdout",
          "output_type": "stream",
          "text": [
            "Valid Loss: 0.883\n",
            "Epoch: 7, Valid Acc : 0.641\n"
          ]
        },
        {
          "name": "stderr",
          "output_type": "stream",
          "text": [
            "100%|██████████| 33/33 [00:03<00:00, 10.56it/s]\n"
          ]
        },
        {
          "name": "stdout",
          "output_type": "stream",
          "text": [
            "Train Loss: 0.602\n"
          ]
        },
        {
          "name": "stderr",
          "output_type": "stream",
          "text": [
            "100%|██████████| 5/5 [00:00<00:00, 32.46it/s]\n"
          ]
        },
        {
          "name": "stdout",
          "output_type": "stream",
          "text": [
            "Valid Loss: 0.964\n",
            "Epoch: 8, Valid Acc : 0.635\n"
          ]
        },
        {
          "name": "stderr",
          "output_type": "stream",
          "text": [
            "100%|██████████| 33/33 [00:03<00:00, 10.46it/s]\n"
          ]
        },
        {
          "name": "stdout",
          "output_type": "stream",
          "text": [
            "Train Loss: 0.538\n"
          ]
        },
        {
          "name": "stderr",
          "output_type": "stream",
          "text": [
            "100%|██████████| 5/5 [00:00<00:00, 32.23it/s]\n"
          ]
        },
        {
          "name": "stdout",
          "output_type": "stream",
          "text": [
            "Valid Loss: 0.992\n",
            "Epoch: 9, Valid Acc : 0.658\n"
          ]
        },
        {
          "name": "stderr",
          "output_type": "stream",
          "text": [
            "100%|██████████| 33/33 [00:03<00:00, 10.56it/s]\n"
          ]
        },
        {
          "name": "stdout",
          "output_type": "stream",
          "text": [
            "Train Loss: 0.452\n"
          ]
        },
        {
          "name": "stderr",
          "output_type": "stream",
          "text": [
            "100%|██████████| 5/5 [00:00<00:00, 32.46it/s]\n"
          ]
        },
        {
          "name": "stdout",
          "output_type": "stream",
          "text": [
            "Valid Loss: 1.066\n",
            "Epoch: 10, Valid Acc : 0.636\n"
          ]
        },
        {
          "name": "stderr",
          "output_type": "stream",
          "text": [
            "100%|██████████| 33/33 [00:03<00:00, 10.45it/s]\n"
          ]
        },
        {
          "name": "stdout",
          "output_type": "stream",
          "text": [
            "Train Loss: 0.397\n"
          ]
        },
        {
          "name": "stderr",
          "output_type": "stream",
          "text": [
            "100%|██████████| 5/5 [00:00<00:00, 32.15it/s]\n"
          ]
        },
        {
          "name": "stdout",
          "output_type": "stream",
          "text": [
            "Valid Loss: 0.986\n",
            "Epoch: 11, Valid Acc : 0.671\n"
          ]
        },
        {
          "name": "stderr",
          "output_type": "stream",
          "text": [
            "100%|██████████| 33/33 [00:03<00:00, 10.48it/s]\n"
          ]
        },
        {
          "name": "stdout",
          "output_type": "stream",
          "text": [
            "Train Loss: 0.320\n"
          ]
        },
        {
          "name": "stderr",
          "output_type": "stream",
          "text": [
            "100%|██████████| 5/5 [00:00<00:00, 31.95it/s]\n"
          ]
        },
        {
          "name": "stdout",
          "output_type": "stream",
          "text": [
            "Valid Loss: 1.105\n",
            "Epoch: 12, Valid Acc : 0.660\n"
          ]
        },
        {
          "name": "stderr",
          "output_type": "stream",
          "text": [
            "100%|██████████| 33/33 [00:03<00:00, 10.57it/s]\n"
          ]
        },
        {
          "name": "stdout",
          "output_type": "stream",
          "text": [
            "Train Loss: 0.291\n"
          ]
        },
        {
          "name": "stderr",
          "output_type": "stream",
          "text": [
            "100%|██████████| 5/5 [00:00<00:00, 32.86it/s]\n"
          ]
        },
        {
          "name": "stdout",
          "output_type": "stream",
          "text": [
            "Valid Loss: 1.112\n",
            "Epoch: 13, Valid Acc : 0.662\n"
          ]
        },
        {
          "name": "stderr",
          "output_type": "stream",
          "text": [
            "100%|██████████| 33/33 [00:03<00:00, 10.56it/s]\n"
          ]
        },
        {
          "name": "stdout",
          "output_type": "stream",
          "text": [
            "Train Loss: 0.234\n"
          ]
        },
        {
          "name": "stderr",
          "output_type": "stream",
          "text": [
            "100%|██████████| 5/5 [00:00<00:00, 32.27it/s]\n"
          ]
        },
        {
          "name": "stdout",
          "output_type": "stream",
          "text": [
            "Valid Loss: 1.028\n",
            "Epoch: 14, Valid Acc : 0.665\n"
          ]
        },
        {
          "name": "stderr",
          "output_type": "stream",
          "text": [
            "100%|██████████| 33/33 [00:03<00:00, 10.22it/s]\n"
          ]
        },
        {
          "name": "stdout",
          "output_type": "stream",
          "text": [
            "Train Loss: 0.214\n"
          ]
        },
        {
          "name": "stderr",
          "output_type": "stream",
          "text": [
            "100%|██████████| 5/5 [00:00<00:00, 31.84it/s]"
          ]
        },
        {
          "name": "stdout",
          "output_type": "stream",
          "text": [
            "Valid Loss: 1.280\n",
            "Epoch: 15, Valid Acc : 0.657\n"
          ]
        },
        {
          "name": "stderr",
          "output_type": "stream",
          "text": [
            "\n"
          ]
        }
      ],
      "source": [
        "EPOCHS  = 15\n",
        "MODEL   = ClsTransformer(\n",
        "                emb=50,\n",
        "                heads=1,\n",
        "                depth=6,\n",
        "                seq_length=MAX_WORDS, \n",
        "                num_tokens=len(vocab),\n",
        "                num_classes=5\n",
        "            )\n",
        "LR      = 1e-2\n",
        "OPT     = AdamW(MODEL.parameters(), lr=LR, weight_decay=5e-2)\n",
        "LR_SCHD = LinearLR(OPT, total_iters=(EPOCHS * len(train_loader)))\n",
        "LOSS_FN = nn.CrossEntropyLoss()\n",
        "PATH    = '/content/checkpoints/simple_transformer'\n",
        "\n",
        "for epoch in range(1, EPOCHS + 1):\n",
        "    # Training\n",
        "    train_losses, val_losses, val_accs = [], [], []\n",
        "    MODEL.train()\n",
        "    for X, Y in tqdm(train_loader):\n",
        "        X, Y, MODEL = X.to(device), Y.to(device), MODEL.to(device)\n",
        "\n",
        "        Y_preds = MODEL(X)\n",
        "\n",
        "        loss = LOSS_FN(Y_preds, Y)\n",
        "        train_losses.append(loss)\n",
        "\n",
        "        OPT.zero_grad()\n",
        "\n",
        "        loss.backward()\n",
        "        OPT.step()\n",
        "    train_loss = torch.tensor(train_losses).mean()\n",
        "    print(f'Train Loss: {train_loss:.3f}')\n",
        "\n",
        "    # Evaluation\n",
        "    MODEL.eval()\n",
        "    with torch.no_grad():\n",
        "        Y_shuffled, Y_preds, losses = [], [], []\n",
        "        for X, Y in tqdm(val_loader):\n",
        "            preds = MODEL(X)\n",
        "            loss = LOSS_FN(preds, Y)\n",
        "            losses.append(loss)\n",
        "\n",
        "            Y_shuffled.append(Y)\n",
        "            Y_preds.append(preds.argmax(dim=-1))\n",
        "\n",
        "        Y_shuffled = torch.cat(Y_shuffled)\n",
        "        Y_preds    = torch.cat(Y_preds)\n",
        "\n",
        "        valid_loss = torch.tensor(losses).to(device).mean()\n",
        "        valid_acc  = accuracy_score(\n",
        "                        Y_shuffled.cpu().detach().numpy(),\n",
        "                        Y_preds.cpu().detach().numpy()\n",
        "                        )\n",
        "        print(f'Valid Loss: {valid_loss:.3f}')\n",
        "        print(f'Epoch: {epoch}, Valid Acc : {valid_acc:.3f}')\n",
        "    \n",
        "    LR_SCHD.step()\n",
        "\n",
        "    train_losses.append(train_loss)\n",
        "    val_losses.append(valid_loss)\n",
        "    val_accs.append(valid_acc)"
      ]
    },
    {
      "cell_type": "code",
      "execution_count": null,
      "metadata": {
        "id": "dRScDGmBK__F"
      },
      "outputs": [],
      "source": []
    },
    {
      "cell_type": "markdown",
      "metadata": {
        "id": "cUHWfWK5OQg6"
      },
      "source": [
        "# HuggingFace BERT transformer"
      ]
    },
    {
      "cell_type": "code",
      "execution_count": 75,
      "metadata": {
        "id": "bNAVkSkmOV_G",
        "colab": {
          "base_uri": "https://localhost:8080/"
        },
        "outputId": "15caa3ee-f1c9-44a0-f1d5-e28238bf66b6"
      },
      "outputs": [
        {
          "output_type": "stream",
          "name": "stdout",
          "text": [
            "Shape of the train_data: (32924, 2)\n",
            "Shape of the val_data: (4115, 2)\n",
            "Shape of the test_data: (4116, 2)\n",
            "Shape of the finel_test_raw_data: (3798, 1)\n"
          ]
        }
      ],
      "source": [
        "# first, we will split data by two samples: train and test in the proportion of 80:20\n",
        "train_data, test_data = train_test_split(train_raw_data, test_size=0.2, stratify=train_raw_data['Sentiment'], random_state=42)\n",
        "# then, we will split test data by two samples: validation and test in the proportion of 50:50 \n",
        "val_data, test_data = train_test_split(test_data, test_size=0.5, stratify=test_data['Sentiment'], random_state=42)\n",
        "\n",
        "print(f'Shape of the train_data: {train_data.shape}')\n",
        "print(f'Shape of the val_data: {val_data.shape}')\n",
        "print(f'Shape of the test_data: {test_data.shape}')\n",
        "print(f'Shape of the finel_test_raw_data: {subm_raw_data.shape}')"
      ]
    },
    {
      "cell_type": "code",
      "execution_count": 76,
      "metadata": {
        "id": "eCi7Ey3uOyYa",
        "colab": {
          "base_uri": "https://localhost:8080/"
        },
        "outputId": "d7d62015-62f3-424b-a031-3dbd0aa789b6"
      },
      "outputs": [
        {
          "output_type": "stream",
          "name": "stdout",
          "text": [
            "Dataset({\n",
            "    features: ['Text', 'Sentiment', '__index_level_0__'],\n",
            "    num_rows: 32924\n",
            "})\n",
            "Dataset({\n",
            "    features: ['Text', 'Sentiment', '__index_level_0__'],\n",
            "    num_rows: 4115\n",
            "})\n",
            "Dataset({\n",
            "    features: ['Text', 'Sentiment', '__index_level_0__'],\n",
            "    num_rows: 4116\n",
            "})\n",
            "Dataset({\n",
            "    features: ['Text'],\n",
            "    num_rows: 3798\n",
            "})\n"
          ]
        }
      ],
      "source": [
        "# Convert pandas dataframe to Hugging Face arrow dataset\n",
        "hg_train_data = Dataset.from_pandas(train_data)\n",
        "hg_val_data = Dataset.from_pandas(val_data)\n",
        "hg_test_data = Dataset.from_pandas(test_data)\n",
        "hg_subm_data = Dataset.from_pandas(subm_raw_data)\n",
        "\n",
        "print(hg_train_data)\n",
        "print(hg_val_data)\n",
        "print(hg_test_data)\n",
        "print(hg_subm_data)"
      ]
    },
    {
      "cell_type": "code",
      "execution_count": null,
      "metadata": {
        "id": "bTkWhIL5PSvf",
        "outputId": "e1b9a012-0a46-4137-9a93-8859084b6474"
      },
      "outputs": [
        {
          "data": {
            "text/plain": [
              "BertTokenizerFast(name_or_path='LIALLIES/finetune-bert-base-cased', vocab_size=28996, model_max_length=512, is_fast=True, padding_side='right', truncation_side='right', special_tokens={'unk_token': '[UNK]', 'sep_token': '[SEP]', 'pad_token': '[PAD]', 'cls_token': '[CLS]', 'mask_token': '[MASK]'})"
            ]
          },
          "execution_count": 20,
          "metadata": {},
          "output_type": "execute_result"
        }
      ],
      "source": [
        "checkpoint = \"LIALLIES/finetune-bert-base-cased\"\n",
        "\n",
        "# Tokenizer from a pretrained model\n",
        "tokenizer = AutoTokenizer.from_pretrained(checkpoint)\n",
        "\n",
        "# Take a look at the tokenizer\n",
        "tokenizer"
      ]
    },
    {
      "cell_type": "code",
      "execution_count": null,
      "metadata": {
        "id": "2rXr_UPJPWC7",
        "outputId": "107e2d0e-10ef-4429-b479-8f20ed24422d"
      },
      "outputs": [
        {
          "name": "stdout",
          "output_type": "stream",
          "text": [
            "The unknown token is [UNK] and the ID for the unknown token is 100.\n",
            "The seperator token is [SEP] and the ID for the seperator token is 102.\n",
            "The pad token is [PAD] and the ID for the pad token is 0.\n",
            "The sentence level classification token is [CLS] and the ID for the classification token is 101.\n",
            "The mask token is [MASK] and the ID for the mask token is 103.\n"
          ]
        }
      ],
      "source": [
        "# Mapping between special tokens and their IDs.\n",
        "print(f'The unknown token is {tokenizer.unk_token} and the ID for the unknown token is {tokenizer.unk_token_id}.')\n",
        "print(f'The seperator token is {tokenizer.sep_token} and the ID for the seperator token is {tokenizer.sep_token_id}.')\n",
        "print(f'The pad token is {tokenizer.pad_token} and the ID for the pad token is {tokenizer.pad_token_id}.')\n",
        "print(f'The sentence level classification token is {tokenizer.cls_token} and the ID for the classification token is {tokenizer.cls_token_id}.')\n",
        "print(f'The mask token is {tokenizer.mask_token} and the ID for the mask token is {tokenizer.mask_token_id}.')"
      ]
    },
    {
      "cell_type": "code",
      "execution_count": null,
      "metadata": {
        "id": "F5z8gg69PZtB",
        "outputId": "69b151db-9307-4ce9-de81-e9c858b68c9a"
      },
      "outputs": [
        {
          "name": "stderr",
          "output_type": "stream",
          "text": [
            "                                                                    \r"
          ]
        }
      ],
      "source": [
        "# Funtion to tokenize data\n",
        "def tokenize_function(data):\n",
        "    return tokenizer(data[\"Text\"],\n",
        "                     max_length=40,\n",
        "                     truncation=True)\n",
        "\n",
        "# Tokenize the dataset\n",
        "dataset_train = hg_train_data.map(tokenize_function, batched=True)\n",
        "dataset_val = hg_val_data.map(tokenize_function, batched=True)\n",
        "dataset_test = hg_test_data.map(tokenize_function, batched=True)\n",
        "dataset_subm = hg_subm_data.map(tokenize_function, batched=True)\n",
        "\n",
        "data_collator = DataCollatorWithPadding(tokenizer=tokenizer)"
      ]
    },
    {
      "cell_type": "code",
      "execution_count": null,
      "metadata": {
        "id": "iTdWMMXMPgKt",
        "outputId": "1c1a9891-cd0f-4045-e504-c7f0cd856bd6"
      },
      "outputs": [
        {
          "name": "stdout",
          "output_type": "stream",
          "text": [
            "Dataset({\n",
            "    features: ['Text', 'Sentiment', '__index_level_0__', 'input_ids', 'token_type_ids', 'attention_mask'],\n",
            "    num_rows: 32924\n",
            "})\n",
            "Dataset({\n",
            "    features: ['Text', 'Sentiment', '__index_level_0__', 'input_ids', 'token_type_ids', 'attention_mask'],\n",
            "    num_rows: 4115\n",
            "})\n",
            "Dataset({\n",
            "    features: ['Text', 'Sentiment', '__index_level_0__', 'input_ids', 'token_type_ids', 'attention_mask'],\n",
            "    num_rows: 4116\n",
            "})\n",
            "Dataset({\n",
            "    features: ['Text', 'input_ids', 'token_type_ids', 'attention_mask'],\n",
            "    num_rows: 3798\n",
            "})\n"
          ]
        }
      ],
      "source": [
        "# Take a look at the data\n",
        "print(dataset_train)\n",
        "print(dataset_val)\n",
        "print(dataset_test)\n",
        "print(dataset_subm)"
      ]
    },
    {
      "cell_type": "code",
      "execution_count": null,
      "metadata": {
        "id": "vMGyJ2R_PhFT",
        "outputId": "ba4e7aa1-f47f-4b1d-8f7d-8d2715ee355a"
      },
      "outputs": [
        {
          "name": "stdout",
          "output_type": "stream",
          "text": [
            "Dataset({\n",
            "    features: ['labels', 'input_ids', 'token_type_ids', 'attention_mask'],\n",
            "    num_rows: 32924\n",
            "})\n",
            "Dataset({\n",
            "    features: ['labels', 'input_ids', 'token_type_ids', 'attention_mask'],\n",
            "    num_rows: 4115\n",
            "})\n",
            "Dataset({\n",
            "    features: ['labels', 'input_ids', 'token_type_ids', 'attention_mask'],\n",
            "    num_rows: 4116\n",
            "})\n",
            "Dataset({\n",
            "    features: ['input_ids', 'token_type_ids', 'attention_mask'],\n",
            "    num_rows: 3798\n",
            "})\n"
          ]
        }
      ],
      "source": [
        "# Remove the review and index columns because it will not be used in the model\n",
        "dataset_train = dataset_train.remove_columns([\"Text\", \"__index_level_0__\"])\n",
        "dataset_val = dataset_val.remove_columns([\"Text\", \"__index_level_0__\"])\n",
        "dataset_test = dataset_test.remove_columns([\"Text\", \"__index_level_0__\"])\n",
        "dataset_subm = dataset_subm.remove_columns([\"Text\"])\n",
        "\n",
        "# Rename label to labels because the model expects the name labels\n",
        "dataset_train = dataset_train.rename_column(\"Sentiment\", \"labels\")\n",
        "dataset_val = dataset_val.rename_column(\"Sentiment\", \"labels\")\n",
        "dataset_test = dataset_test.rename_column(\"Sentiment\", \"labels\")\n",
        "\n",
        "# Change the format to PyTorch tensors\n",
        "dataset_train.set_format(\"torch\")\n",
        "dataset_val.set_format(\"torch\")\n",
        "dataset_test.set_format(\"torch\")\n",
        "dataset_subm.set_format(\"torch\")\n",
        "\n",
        "# Take a look at the data\n",
        "print(dataset_train)\n",
        "print(dataset_val)\n",
        "print(dataset_test)\n",
        "print(dataset_subm)"
      ]
    },
    {
      "cell_type": "code",
      "execution_count": null,
      "metadata": {
        "id": "l_H0tB46PlcN"
      },
      "outputs": [],
      "source": [
        "# Empty cache\n",
        "torch.cuda.empty_cache()\n",
        "\n",
        "BATCH_SIZE = 128\n",
        "\n",
        "# DataLoader\n",
        "train_dataloader = DataLoader(dataset=dataset_train, batch_size=BATCH_SIZE, collate_fn=data_collator,  shuffle=True)\n",
        "val_dataloader   = DataLoader(dataset=dataset_val,   batch_size=BATCH_SIZE, collate_fn=data_collator)\n",
        "test_dataloader  = DataLoader(dataset=dataset_test,  batch_size=BATCH_SIZE, collate_fn=data_collator)\n",
        "subm_dataloader  = DataLoader(dataset=dataset_subm,  batch_size=BATCH_SIZE, collate_fn=data_collator)"
      ]
    },
    {
      "cell_type": "code",
      "execution_count": null,
      "metadata": {
        "id": "IoI2gX6zPv8U",
        "outputId": "35d45dd0-02bd-4842-dc62-1318510fa478"
      },
      "outputs": [
        {
          "name": "stderr",
          "output_type": "stream",
          "text": [
            "You're using a BertTokenizerFast tokenizer. Please note that with a fast tokenizer, using the `__call__` method is faster than using a method to encode the text followed by a call to the `pad` method to get a padded encoding.\n"
          ]
        },
        {
          "data": {
            "text/plain": [
              "{'labels': torch.Size([128]),\n",
              " 'input_ids': torch.Size([128, 40]),\n",
              " 'token_type_ids': torch.Size([128, 40]),\n",
              " 'attention_mask': torch.Size([128, 40])}"
            ]
          },
          "execution_count": 26,
          "metadata": {},
          "output_type": "execute_result"
        }
      ],
      "source": [
        "# inspect the batch\n",
        "for batch in train_dataloader:\n",
        "  break\n",
        "{k: v.shape for k, v in batch.items()}"
      ]
    },
    {
      "cell_type": "code",
      "execution_count": null,
      "metadata": {
        "id": "tTSmPBenPy6B",
        "tags": []
      },
      "outputs": [],
      "source": [
        "# Load model\n",
        "model = AutoModelForSequenceClassification.from_pretrained(checkpoint, num_labels=5)\n",
        "# model.to(device)"
      ]
    },
    {
      "cell_type": "code",
      "execution_count": null,
      "metadata": {
        "id": "_J-YDrmlP2aQ",
        "outputId": "5e8c7a3d-19a3-45b0-c3d2-03eef383aa2e"
      },
      "outputs": [
        {
          "name": "stdout",
          "output_type": "stream",
          "text": [
            "tensor(1.6408, grad_fn=<NllLossBackward0>) torch.Size([128, 5])\n"
          ]
        }
      ],
      "source": [
        "# pass one batch to this model to make sure that everything is ok\n",
        "outputs = model(**batch)\n",
        "print(outputs.loss, outputs.logits.shape)"
      ]
    },
    {
      "cell_type": "code",
      "execution_count": null,
      "metadata": {
        "id": "Yr2TIEfQP6uH",
        "outputId": "62d6ea03-1d7d-4e8f-a7b5-4f611a006025"
      },
      "outputs": [
        {
          "name": "stdout",
          "output_type": "stream",
          "text": [
            "Number of the training steps: 1290\n"
          ]
        }
      ],
      "source": [
        "# Number of epochs\n",
        "num_epochs = 5\n",
        "\n",
        "# Number of training steps\n",
        "num_training_steps = num_epochs * len(train_dataloader)\n",
        "\n",
        "# Optimizer\n",
        "optimizer = AdamW(params=model.parameters(), lr=3e-5)\n",
        "\n",
        "# Set up the learning rate scheduler\n",
        "lr_scheduler = get_scheduler(name=\"linear\", \n",
        "                             optimizer=optimizer, \n",
        "                             num_warmup_steps=0, \n",
        "                             num_training_steps=num_training_steps)\n",
        "\n",
        "print(f'Number of the training steps: {num_training_steps}')"
      ]
    },
    {
      "cell_type": "code",
      "execution_count": null,
      "metadata": {
        "id": "YJN3SMBLccho",
        "outputId": "b078b0f0-efc8-4287-f041-316cf798562b"
      },
      "outputs": [
        {
          "name": "stdout",
          "output_type": "stream",
          "text": [
            "cuda\n"
          ]
        }
      ],
      "source": [
        "# Use GPU if it is available\n",
        "device = torch.device(\"cuda\") if torch.cuda.is_available() else torch.device(\"cpu\")\n",
        "model.to(device)\n",
        "print(device)"
      ]
    },
    {
      "cell_type": "code",
      "execution_count": null,
      "metadata": {
        "id": "joXPzr99QAvZ",
        "outputId": "f6dbdd4c-66ad-481b-ac42-c09f734b0886"
      },
      "outputs": [
        {
          "name": "stderr",
          "output_type": "stream",
          "text": [
            " 20%|██        | 258/1290 [02:05<06:31,  2.64it/s]"
          ]
        },
        {
          "name": "stdout",
          "output_type": "stream",
          "text": [
            "Epoch: 1: {'recall': {'recall': 0.6942891859052248}, 'precision': {'precision': 0.6996470175668906}, 'f1': {'f1': 0.6948410849999913}, 'accuracy': {'accuracy': 0.6942891859052248}}\n"
          ]
        },
        {
          "name": "stderr",
          "output_type": "stream",
          "text": [
            " 40%|████      | 516/1290 [04:16<04:55,  2.62it/s]"
          ]
        },
        {
          "name": "stdout",
          "output_type": "stream",
          "text": [
            "Epoch: 2: {'recall': {'recall': 0.7285540704738761}, 'precision': {'precision': 0.7380199443649433}, 'f1': {'f1': 0.7287575781882405}, 'accuracy': {'accuracy': 0.7285540704738761}}\n"
          ]
        },
        {
          "name": "stderr",
          "output_type": "stream",
          "text": [
            " 60%|██████    | 774/1290 [06:26<03:17,  2.62it/s]"
          ]
        },
        {
          "name": "stdout",
          "output_type": "stream",
          "text": [
            "Epoch: 3: {'recall': {'recall': 0.732442284325638}, 'precision': {'precision': 0.7381027544557097}, 'f1': {'f1': 0.7339154430399957}, 'accuracy': {'accuracy': 0.732442284325638}}\n"
          ]
        },
        {
          "name": "stderr",
          "output_type": "stream",
          "text": [
            " 80%|████████  | 1032/1290 [08:46<01:38,  2.61it/s]"
          ]
        },
        {
          "name": "stdout",
          "output_type": "stream",
          "text": [
            "Epoch: 4: {'recall': {'recall': 0.740947752126367}, 'precision': {'precision': 0.7453086324837828}, 'f1': {'f1': 0.741729210924675}, 'accuracy': {'accuracy': 0.740947752126367}}\n"
          ]
        },
        {
          "name": "stderr",
          "output_type": "stream",
          "text": [
            "100%|██████████| 1290/1290 [12:03<00:00,  1.69it/s]"
          ]
        },
        {
          "name": "stdout",
          "output_type": "stream",
          "text": [
            "Epoch: 5: {'recall': {'recall': 0.7407047387606318}, 'precision': {'precision': 0.7432819122312416}, 'f1': {'f1': 0.7414850695279216}, 'accuracy': {'accuracy': 0.7407047387606318}}\n"
          ]
        },
        {
          "data": {
            "image/png": "[encoded data removed]",
            "text/plain": [
              "<Figure size 1000x700 with 1 Axes>"
            ]
          },
          "metadata": {},
          "output_type": "display_data"
        }
      ],
      "source": [
        "recall_metric = evaluate.load('recall')\n",
        "precision_metric = evaluate.load('precision')\n",
        "f1_metric = evaluate.load('f1')\n",
        "accuracy_metric = evaluate.load('accuracy')\n",
        "\n",
        "# Set the progress bar\n",
        "progress_bar = tqdm(range(num_training_steps))\n",
        "\n",
        "best_accuracy = 0\n",
        "prec_list_to_plot = []\n",
        "rec_list_to_plot = []\n",
        "f1_list_to_plot = []\n",
        "acc_list_to_plot = []\n",
        "\n",
        "# Loop through the epochs\n",
        "for epoch in range(1, num_epochs + 1):\n",
        "    # Tells the model that we are training the model\n",
        "    model.train()\n",
        "    # Loop through the batches\n",
        "    for batch in train_dataloader:\n",
        "        # Get the batch\n",
        "        batch = {k: v.to(device) for k, v in batch.items()}\n",
        "        # Compute the model output for the batch\n",
        "        outputs = model(**batch)\n",
        "        # Loss computed by the model\n",
        "        loss = outputs.loss\n",
        "        # backpropagates the error to calculate gradients\n",
        "        loss.backward()\n",
        "        # Update the model weights\n",
        "        optimizer.step()\n",
        "        # Learning rate scheduler\n",
        "        lr_scheduler.step()\n",
        "        # Clear the gradients\n",
        "        optimizer.zero_grad()\n",
        "        # Update the progress bar\n",
        "        progress_bar.update(1)\n",
        "\n",
        "    # Evaluation\n",
        "    model.eval()\n",
        "    for batch in val_dataloader:\n",
        "        batch = {k: v.to(device) for k, v in batch.items()}\n",
        "        with torch.no_grad():\n",
        "          outputs = model(**batch)\n",
        "\n",
        "        logits = outputs.logits\n",
        "        predictions = torch.argmax(logits, dim=-1)\n",
        "\n",
        "        recall_metric.add_batch(predictions=predictions, references=batch['labels'])\n",
        "        precision_metric.add_batch(predictions=predictions, references=batch['labels'])\n",
        "        f1_metric.add_batch(predictions=predictions, references=batch['labels'])\n",
        "        accuracy_metric.add_batch(predictions=predictions, references=batch['labels'])\n",
        "    \n",
        "    results = {\n",
        "        'recall': recall_metric.compute(average='weighted'),\n",
        "        'precision': precision_metric.compute(average='weighted'),\n",
        "        'f1': f1_metric.compute(average='weighted'),\n",
        "        'accuracy': accuracy_metric.compute()\n",
        "    }\n",
        "    \n",
        "    print(\n",
        "        f'Epoch: {epoch}:',\n",
        "        {\n",
        "            key: value\n",
        "            for key, value in results.items()\n",
        "        },\n",
        "    )\n",
        "\n",
        "    prec_list_to_plot.append(results['recall'])\n",
        "    rec_list_to_plot.append(results['precision'])\n",
        "    f1_list_to_plot.append(results['f1'])\n",
        "    acc_list_to_plot.append(results['accuracy']['accuracy'])\n",
        "\n",
        "    if results['accuracy']['accuracy'] > best_accuracy:\n",
        "        best_accuracy = results['accuracy']['accuracy']\n",
        "        model.save_pretrained('best_model')\n",
        "    \n",
        "model.save_pretrained('final_model')\n",
        "\n",
        "# accuracy plots\n",
        "plt.figure(figsize=(10, 7))\n",
        "plt.plot(\n",
        "    acc_list_to_plot, color='blue',\n",
        "    linestyle='-', label='validataion accuracy'\n",
        ")\n",
        "plt.xlabel('Epochs')\n",
        "plt.ylabel('Accuracy')\n",
        "plt.legend()\n",
        "plt.savefig('accuracy.png')"
      ]
    },
    {
      "cell_type": "code",
      "execution_count": null,
      "metadata": {
        "id": "D8n4iqPYQHDZ",
        "outputId": "aee6e9c8-569c-43e9-f660-8efb9bff203f"
      },
      "outputs": [
        {
          "name": "stderr",
          "output_type": "stream",
          "text": [
            "\n",
            "100%|██████████| 1290/1290 [37:50<00:00,  1.76s/it]\n",
            "\n",
            "  3%|▎         | 1/33 [00:00<00:14,  2.21it/s]\u001b[A\n",
            "  6%|▌         | 2/33 [00:00<00:08,  3.46it/s]\u001b[A\n",
            "  9%|▉         | 3/33 [00:00<00:07,  4.26it/s]\u001b[A\n",
            " 12%|█▏        | 4/33 [00:00<00:06,  4.77it/s]\u001b[A\n",
            " 15%|█▌        | 5/33 [00:01<00:05,  5.11it/s]\u001b[A\n",
            " 18%|█▊        | 6/33 [00:01<00:05,  5.35it/s]\u001b[A\n",
            " 21%|██        | 7/33 [00:01<00:04,  5.50it/s]\u001b[A\n",
            " 24%|██▍       | 8/33 [00:01<00:04,  5.61it/s]\u001b[A\n",
            " 27%|██▋       | 9/33 [00:01<00:04,  5.70it/s]\u001b[A\n",
            " 30%|███       | 10/33 [00:01<00:04,  5.68it/s]\u001b[A\n",
            " 33%|███▎      | 11/33 [00:02<00:03,  5.73it/s]\u001b[A\n",
            " 36%|███▋      | 12/33 [00:02<00:03,  5.77it/s]\u001b[A\n",
            " 39%|███▉      | 13/33 [00:02<00:03,  5.80it/s]\u001b[A\n",
            " 42%|████▏     | 14/33 [00:02<00:03,  5.79it/s]\u001b[A\n",
            " 45%|████▌     | 15/33 [00:02<00:03,  5.81it/s]\u001b[A\n",
            " 48%|████▊     | 16/33 [00:03<00:02,  5.82it/s]\u001b[A\n",
            " 52%|█████▏    | 17/33 [00:03<00:02,  5.83it/s]\u001b[A\n",
            " 55%|█████▍    | 18/33 [00:03<00:02,  5.80it/s]\u001b[A\n",
            " 58%|█████▊    | 19/33 [00:03<00:02,  5.79it/s]\u001b[A\n",
            " 61%|██████    | 20/33 [00:03<00:02,  5.80it/s]\u001b[A\n",
            " 64%|██████▎   | 21/33 [00:03<00:02,  5.82it/s]\u001b[A\n",
            " 67%|██████▋   | 22/33 [00:04<00:01,  5.83it/s]\u001b[A\n",
            " 70%|██████▉   | 23/33 [00:04<00:01,  5.82it/s]\u001b[A\n",
            " 73%|███████▎  | 24/33 [00:04<00:01,  5.84it/s]\u001b[A\n",
            " 76%|███████▌  | 25/33 [00:04<00:01,  5.83it/s]\u001b[A\n",
            " 79%|███████▉  | 26/33 [00:04<00:01,  5.81it/s]\u001b[A\n",
            " 82%|████████▏ | 27/33 [00:04<00:01,  5.79it/s]\u001b[A\n",
            " 85%|████████▍ | 28/33 [00:05<00:00,  5.79it/s]\u001b[A\n",
            " 88%|████████▊ | 29/33 [00:05<00:00,  5.83it/s]\u001b[A\n",
            " 91%|█████████ | 30/33 [00:05<00:00,  5.83it/s]\u001b[A\n",
            " 94%|█████████▍| 31/33 [00:05<00:00,  5.84it/s]\u001b[A\n",
            " 97%|█████████▋| 32/33 [00:05<00:00,  5.83it/s]\u001b[A"
          ]
        },
        {
          "name": "stdout",
          "output_type": "stream",
          "text": [
            "{'recall': {'recall': 0.7405247813411079}, 'precision': {'precision': 0.742087036309162}, 'f1': {'f1': 0.740972533116875}, 'accuracy': {'accuracy': 0.7405247813411079}}\n"
          ]
        }
      ],
      "source": [
        "progress_bar = tqdm(range(len(test_dataloader)))\n",
        "\n",
        "# Evaluation\n",
        "model.eval()\n",
        "for batch in test_dataloader:\n",
        "    batch = {k: v.to(device) for k, v in batch.items()}\n",
        "    with torch.no_grad():\n",
        "        outputs = model(**batch)\n",
        "\n",
        "    logits = outputs.logits\n",
        "    predictions = torch.argmax(logits, dim=-1)\n",
        "        \n",
        "    recall_metric.add_batch(predictions=predictions, references=batch['labels'])\n",
        "    precision_metric.add_batch(predictions=predictions, references=batch['labels'])\n",
        "    f1_metric.add_batch(predictions=predictions, references=batch['labels'])\n",
        "    accuracy_metric.add_batch(predictions=predictions, references=batch['labels'])\n",
        "    progress_bar.update(1)\n",
        "    \n",
        "results = {\n",
        "        'recall': recall_metric.compute(average='weighted'),\n",
        "        'precision': precision_metric.compute(average='weighted'),\n",
        "        'f1': f1_metric.compute(average='weighted'),\n",
        "        'accuracy': accuracy_metric.compute()\n",
        "    }\n",
        "    \n",
        "print(\n",
        "        {\n",
        "            key: value\n",
        "            for key, value in results.items()\n",
        "        },\n",
        "    )"
      ]
    },
    {
      "cell_type": "code",
      "execution_count": null,
      "metadata": {
        "id": "PQ-VFz8DQJSu",
        "outputId": "2f277505-6492-414b-f4fd-241ce29ff684"
      },
      "outputs": [
        {
          "data": {
            "text/plain": [
              "{'input_ids': torch.Size([128, 40]),\n",
              " 'token_type_ids': torch.Size([128, 40]),\n",
              " 'attention_mask': torch.Size([128, 40])}"
            ]
          },
          "execution_count": 34,
          "metadata": {},
          "output_type": "execute_result"
        }
      ],
      "source": [
        "# inspect the batch\n",
        "for batch in subm_dataloader:\n",
        "  break\n",
        "{k: v.shape for k, v in batch.items()}"
      ]
    },
    {
      "cell_type": "code",
      "execution_count": null,
      "metadata": {
        "id": "34GmMFKFQOsq",
        "outputId": "c377df75-c448-4019-f044-2f97811eeb80"
      },
      "outputs": [
        {
          "name": "stderr",
          "output_type": "stream",
          "text": [
            "100%|██████████| 33/33 [00:13<00:00,  2.38it/s]\n",
            "100%|██████████| 30/30 [00:04<00:00,  6.30it/s]"
          ]
        }
      ],
      "source": [
        "progress_bar = tqdm(range(len(subm_dataloader)))\n",
        "# Submission\n",
        "model.eval()\n",
        "submissions = []\n",
        "for batch in subm_dataloader:\n",
        "    batch = {k: v.to(device) for k, v in batch.items()}\n",
        "    with torch.no_grad():\n",
        "        outputs = model(**batch)\n",
        "\n",
        "    logits = outputs.logits\n",
        "    predictions = torch.argmax(logits, dim=-1)\n",
        "    submissions.append(predictions)\n",
        "    progress_bar.update(1)"
      ]
    },
    {
      "cell_type": "code",
      "execution_count": null,
      "metadata": {
        "id": "WN6-97-JQvhJ",
        "outputId": "5c425da1-f0de-42be-be97-2e7f8ecc06b6"
      },
      "outputs": [
        {
          "data": {
            "text/html": [
              "<div>\n",
              "<style scoped>\n",
              "    .dataframe tbody tr th:only-of-type {\n",
              "        vertical-align: middle;\n",
              "    }\n",
              "\n",
              "    .dataframe tbody tr th {\n",
              "        vertical-align: top;\n",
              "    }\n",
              "\n",
              "    .dataframe thead th {\n",
              "        text-align: right;\n",
              "    }\n",
              "</style>\n",
              "<table border=\"1\" class=\"dataframe\">\n",
              "  <thead>\n",
              "    <tr style=\"text-align: right;\">\n",
              "      <th></th>\n",
              "      <th>id</th>\n",
              "      <th>Sentiment</th>\n",
              "    </tr>\n",
              "  </thead>\n",
              "  <tbody>\n",
              "    <tr>\n",
              "      <th>0</th>\n",
              "      <td>787bc85b-20d4-46d8-84a0-562a2527f684</td>\n",
              "      <td>Negative</td>\n",
              "    </tr>\n",
              "    <tr>\n",
              "      <th>1</th>\n",
              "      <td>17e934cd-ba94-4d4f-9ac0-ead202abe241</td>\n",
              "      <td>Positive</td>\n",
              "    </tr>\n",
              "    <tr>\n",
              "      <th>2</th>\n",
              "      <td>5914534b-2b0f-4de8-bb8a-e25587697e0d</td>\n",
              "      <td>Extremely Positive</td>\n",
              "    </tr>\n",
              "    <tr>\n",
              "      <th>3</th>\n",
              "      <td>cdf06cfe-29ae-48ee-ac6d-be448103ba45</td>\n",
              "      <td>Extremely Negative</td>\n",
              "    </tr>\n",
              "    <tr>\n",
              "      <th>4</th>\n",
              "      <td>aff63979-0256-4fb9-a2d9-86a3d3ca5470</td>\n",
              "      <td>Neutral</td>\n",
              "    </tr>\n",
              "  </tbody>\n",
              "</table>\n",
              "</div>"
            ],
            "text/plain": [
              "                                     id           Sentiment\n",
              "0  787bc85b-20d4-46d8-84a0-562a2527f684            Negative\n",
              "1  17e934cd-ba94-4d4f-9ac0-ead202abe241            Positive\n",
              "2  5914534b-2b0f-4de8-bb8a-e25587697e0d  Extremely Positive\n",
              "3  cdf06cfe-29ae-48ee-ac6d-be448103ba45  Extremely Negative\n",
              "4  aff63979-0256-4fb9-a2d9-86a3d3ca5470             Neutral"
            ]
          },
          "execution_count": 44,
          "metadata": {},
          "output_type": "execute_result"
        }
      ],
      "source": [
        "submission = pd.read_csv(filepath_or_buffer='https://raw.githubusercontent.com/wizard339/education/main/misis/nlp/text_classification/sample_submission.csv')\n",
        "submission['Sentiment'] = le.inverse_transform(torch.cat(submissions).cpu())\n",
        "submission.head()"
      ]
    },
    {
      "cell_type": "code",
      "execution_count": null,
      "metadata": {
        "id": "vYEFT0GyQ0oV"
      },
      "outputs": [],
      "source": [
        "# saving sabmission to '.csv' file\n",
        "submission.to_csv('submission_bert.csv', index=False, header=True)"
      ]
    },
    {
      "cell_type": "markdown",
      "source": [
        "# Ensemble"
      ],
      "metadata": {
        "id": "kCbBWI62dkXX"
      }
    },
    {
      "cell_type": "code",
      "source": [
        "def text_cleaner(text: str) -> str:\n",
        "    '''will clean from unicode, url, hashtags, numbers,\n",
        "    nicknames, lower'''\n",
        "    # text = re.sub(r'[.,#!$%\\^&\\*;:{}=\\-_`~()]',r'',text) # punct.\n",
        "    \n",
        "    # text = re.sub(r'(\\\\u[0-9A-Fa-f]+)',r'', text)       \n",
        "    text = re.sub(r'[^\\x00-\\x7f]', r'', text)# unicode\n",
        "\n",
        "    text = re.sub(r'(\\\\[a-z])', r'', text)\n",
        "    \n",
        "    text = re.sub(r'http\\S+', r'', text)# url\n",
        "    \n",
        "    # text = re.sub('@[A-Za-z0-9_-]+', r'', text)# nickname\n",
        "    \n",
        "    # text = re.sub(r'#([^\\s]+)', r'\\1', text)# hashtag symbol\n",
        "    \n",
        "    text = re.sub(':\\)|;\\)|:-\\)|\\(-:|:-D|=D|:P|xD|X-p|\\^\\^|:-*|\\^\\.\\^|\\^\\-\\^|\\^\\_\\^|\\,-\\)|\\)-:|:\\'\\(|:\\(|:-\\(|:\\S|T\\.T|\\.\\_\\.|:<|:-\\S|:-<|\\*\\-\\*|:O|=O|=\\-O|O\\.o|XO|O\\_O|:-\\@|=/|:/|X\\-\\(|>\\.<|>=\\(|D:',\n",
        "                  '', text) # emoji\n",
        "    \n",
        "    text = ''.join([i for i in text if not i.isdigit()])# int.\n",
        "    \n",
        "    text = text.lower()\n",
        "    return text"
      ],
      "metadata": {
        "id": "4gj9i6ixATjV"
      },
      "execution_count": null,
      "outputs": []
    },
    {
      "cell_type": "code",
      "source": [
        "train_raw_data['Text'] = train_raw_data['Text'].apply(text_cleaner)\n",
        "subm_raw_data['Text'] = subm_raw_data['Text'].apply(text_cleaner)\n",
        "train_raw_data['Text'].sample(10, random_state=42).values"
      ],
      "metadata": {
        "id": "2cBDtzaaAYCX"
      },
      "execution_count": null,
      "outputs": []
    },
    {
      "cell_type": "code",
      "source": [
        "# first, we will split data by two samples: train and test in the proportion of 80:20\n",
        "train_data, test_data = train_test_split(train_raw_data, test_size=0.2, stratify=train_raw_data['Sentiment'], random_state=42)\n",
        "# then, we will split test data by two samples: validation and test in the proportion of 50:50 \n",
        "val_data, test_data = train_test_split(test_data, test_size=0.5, stratify=test_data['Sentiment'], random_state=42)\n",
        "\n",
        "print(f'Shape of the train_data: {train_data.shape}')\n",
        "print(f'Shape of the val_data: {val_data.shape}')\n",
        "print(f'Shape of the test_data: {test_data.shape}')\n",
        "print(f'Shape of the finel_test_raw_data: {subm_raw_data.shape}')"
      ],
      "metadata": {
        "colab": {
          "base_uri": "https://localhost:8080/"
        },
        "id": "fAaUMhIdjM0q",
        "outputId": "1e58bab4-d3c4-40dd-b57e-e1bafea03b89"
      },
      "execution_count": 77,
      "outputs": [
        {
          "output_type": "stream",
          "name": "stdout",
          "text": [
            "Shape of the train_data: (32924, 2)\n",
            "Shape of the val_data: (4115, 2)\n",
            "Shape of the test_data: (4116, 2)\n",
            "Shape of the finel_test_raw_data: (3798, 1)\n"
          ]
        }
      ]
    },
    {
      "cell_type": "code",
      "source": [
        "# Convert pandas dataframe to Hugging Face arrow dataset\n",
        "hg_train_data = Dataset.from_pandas(train_data)\n",
        "hg_val_data = Dataset.from_pandas(val_data)\n",
        "hg_test_data = Dataset.from_pandas(test_data)\n",
        "hg_subm_data = Dataset.from_pandas(subm_raw_data)\n",
        "\n",
        "print(hg_train_data)\n",
        "print(hg_val_data)\n",
        "print(hg_test_data)\n",
        "print(hg_subm_data)"
      ],
      "metadata": {
        "colab": {
          "base_uri": "https://localhost:8080/"
        },
        "id": "l72Gs1pajRhl",
        "outputId": "734dc7dd-011b-49e3-80ed-183c1cbbb7ee"
      },
      "execution_count": 78,
      "outputs": [
        {
          "output_type": "stream",
          "name": "stdout",
          "text": [
            "Dataset({\n",
            "    features: ['Text', 'Sentiment', '__index_level_0__'],\n",
            "    num_rows: 32924\n",
            "})\n",
            "Dataset({\n",
            "    features: ['Text', 'Sentiment', '__index_level_0__'],\n",
            "    num_rows: 4115\n",
            "})\n",
            "Dataset({\n",
            "    features: ['Text', 'Sentiment', '__index_level_0__'],\n",
            "    num_rows: 4116\n",
            "})\n",
            "Dataset({\n",
            "    features: ['Text'],\n",
            "    num_rows: 3798\n",
            "})\n"
          ]
        }
      ]
    },
    {
      "cell_type": "code",
      "source": [
        "from transformers import AutoModelForMaskedLM\n",
        "\n",
        "model_checkpoint = \"bert-base-uncased\"\n",
        "model = AutoModelForMaskedLM.from_pretrained(model_checkpoint)"
      ],
      "metadata": {
        "colab": {
          "base_uri": "https://localhost:8080/"
        },
        "id": "sFWyQvi4dzpt",
        "outputId": "563af3fb-f87f-42c3-865e-041dd4d904fa"
      },
      "execution_count": 79,
      "outputs": [
        {
          "output_type": "stream",
          "name": "stderr",
          "text": [
            "loading configuration file config.json from cache at /root/.cache/huggingface/hub/models--bert-base-uncased/snapshots/0a6aa9128b6194f4f3c4db429b6cb4891cdb421b/config.json\n",
            "Model config BertConfig {\n",
            "  \"_name_or_path\": \"bert-base-uncased\",\n",
            "  \"architectures\": [\n",
            "    \"BertForMaskedLM\"\n",
            "  ],\n",
            "  \"attention_probs_dropout_prob\": 0.1,\n",
            "  \"classifier_dropout\": null,\n",
            "  \"gradient_checkpointing\": false,\n",
            "  \"hidden_act\": \"gelu\",\n",
            "  \"hidden_dropout_prob\": 0.1,\n",
            "  \"hidden_size\": 768,\n",
            "  \"initializer_range\": 0.02,\n",
            "  \"intermediate_size\": 3072,\n",
            "  \"layer_norm_eps\": 1e-12,\n",
            "  \"max_position_embeddings\": 512,\n",
            "  \"model_type\": \"bert\",\n",
            "  \"num_attention_heads\": 12,\n",
            "  \"num_hidden_layers\": 12,\n",
            "  \"pad_token_id\": 0,\n",
            "  \"position_embedding_type\": \"absolute\",\n",
            "  \"transformers_version\": \"4.26.1\",\n",
            "  \"type_vocab_size\": 2,\n",
            "  \"use_cache\": true,\n",
            "  \"vocab_size\": 30522\n",
            "}\n",
            "\n",
            "loading weights file pytorch_model.bin from cache at /root/.cache/huggingface/hub/models--bert-base-uncased/snapshots/0a6aa9128b6194f4f3c4db429b6cb4891cdb421b/pytorch_model.bin\n",
            "Generate config GenerationConfig {\n",
            "  \"pad_token_id\": 0,\n",
            "  \"transformers_version\": \"4.26.1\"\n",
            "}\n",
            "\n",
            "Some weights of the model checkpoint at bert-base-uncased were not used when initializing BertForMaskedLM: ['cls.seq_relationship.bias', 'cls.seq_relationship.weight']\n",
            "- This IS expected if you are initializing BertForMaskedLM from the checkpoint of a model trained on another task or with another architecture (e.g. initializing a BertForSequenceClassification model from a BertForPreTraining model).\n",
            "- This IS NOT expected if you are initializing BertForMaskedLM from the checkpoint of a model that you expect to be exactly identical (initializing a BertForSequenceClassification model from a BertForSequenceClassification model).\n",
            "All the weights of BertForMaskedLM were initialized from the model checkpoint at bert-base-uncased.\n",
            "If your task is similar to the task the model of the checkpoint was trained on, you can already use BertForMaskedLM for predictions without further training.\n",
            "Generation config file not found, using a generation config created from the model config.\n"
          ]
        }
      ]
    },
    {
      "cell_type": "code",
      "source": [
        "tokenizer = AutoTokenizer.from_pretrained(model_checkpoint)"
      ],
      "metadata": {
        "colab": {
          "base_uri": "https://localhost:8080/"
        },
        "id": "_noMgnAIdzcR",
        "outputId": "e86f73c9-164f-492f-b7bb-28b09deaa28a"
      },
      "execution_count": 80,
      "outputs": [
        {
          "output_type": "stream",
          "name": "stderr",
          "text": [
            "loading configuration file config.json from cache at /root/.cache/huggingface/hub/models--bert-base-uncased/snapshots/0a6aa9128b6194f4f3c4db429b6cb4891cdb421b/config.json\n",
            "Model config BertConfig {\n",
            "  \"_name_or_path\": \"bert-base-uncased\",\n",
            "  \"architectures\": [\n",
            "    \"BertForMaskedLM\"\n",
            "  ],\n",
            "  \"attention_probs_dropout_prob\": 0.1,\n",
            "  \"classifier_dropout\": null,\n",
            "  \"gradient_checkpointing\": false,\n",
            "  \"hidden_act\": \"gelu\",\n",
            "  \"hidden_dropout_prob\": 0.1,\n",
            "  \"hidden_size\": 768,\n",
            "  \"initializer_range\": 0.02,\n",
            "  \"intermediate_size\": 3072,\n",
            "  \"layer_norm_eps\": 1e-12,\n",
            "  \"max_position_embeddings\": 512,\n",
            "  \"model_type\": \"bert\",\n",
            "  \"num_attention_heads\": 12,\n",
            "  \"num_hidden_layers\": 12,\n",
            "  \"pad_token_id\": 0,\n",
            "  \"position_embedding_type\": \"absolute\",\n",
            "  \"transformers_version\": \"4.26.1\",\n",
            "  \"type_vocab_size\": 2,\n",
            "  \"use_cache\": true,\n",
            "  \"vocab_size\": 30522\n",
            "}\n",
            "\n",
            "loading file vocab.txt from cache at /root/.cache/huggingface/hub/models--bert-base-uncased/snapshots/0a6aa9128b6194f4f3c4db429b6cb4891cdb421b/vocab.txt\n",
            "loading file tokenizer.json from cache at /root/.cache/huggingface/hub/models--bert-base-uncased/snapshots/0a6aa9128b6194f4f3c4db429b6cb4891cdb421b/tokenizer.json\n",
            "loading file added_tokens.json from cache at None\n",
            "loading file special_tokens_map.json from cache at None\n",
            "loading file tokenizer_config.json from cache at /root/.cache/huggingface/hub/models--bert-base-uncased/snapshots/0a6aa9128b6194f4f3c4db429b6cb4891cdb421b/tokenizer_config.json\n",
            "loading configuration file config.json from cache at /root/.cache/huggingface/hub/models--bert-base-uncased/snapshots/0a6aa9128b6194f4f3c4db429b6cb4891cdb421b/config.json\n",
            "Model config BertConfig {\n",
            "  \"_name_or_path\": \"bert-base-uncased\",\n",
            "  \"architectures\": [\n",
            "    \"BertForMaskedLM\"\n",
            "  ],\n",
            "  \"attention_probs_dropout_prob\": 0.1,\n",
            "  \"classifier_dropout\": null,\n",
            "  \"gradient_checkpointing\": false,\n",
            "  \"hidden_act\": \"gelu\",\n",
            "  \"hidden_dropout_prob\": 0.1,\n",
            "  \"hidden_size\": 768,\n",
            "  \"initializer_range\": 0.02,\n",
            "  \"intermediate_size\": 3072,\n",
            "  \"layer_norm_eps\": 1e-12,\n",
            "  \"max_position_embeddings\": 512,\n",
            "  \"model_type\": \"bert\",\n",
            "  \"num_attention_heads\": 12,\n",
            "  \"num_hidden_layers\": 12,\n",
            "  \"pad_token_id\": 0,\n",
            "  \"position_embedding_type\": \"absolute\",\n",
            "  \"transformers_version\": \"4.26.1\",\n",
            "  \"type_vocab_size\": 2,\n",
            "  \"use_cache\": true,\n",
            "  \"vocab_size\": 30522\n",
            "}\n",
            "\n"
          ]
        }
      ]
    },
    {
      "cell_type": "code",
      "source": [
        "text = \"This is a great [MASK].\"\n",
        "\n",
        "inputs = tokenizer(text, return_tensors=\"pt\")\n",
        "token_logits = model(**inputs).logits\n",
        "# Find the location of [MASK] and extract its logits\n",
        "mask_token_index = torch.where(inputs[\"input_ids\"] == tokenizer.mask_token_id)[1]\n",
        "mask_token_logits = token_logits[0, mask_token_index, :]\n",
        "# Pick the [MASK] candidates with the highest logits\n",
        "top_5_tokens = torch.topk(mask_token_logits, 5, dim=1).indices[0].tolist()\n",
        "\n",
        "for token in top_5_tokens:\n",
        "    print(f\"'>>> {text.replace(tokenizer.mask_token, tokenizer.decode([token]))}'\")"
      ],
      "metadata": {
        "colab": {
          "base_uri": "https://localhost:8080/"
        },
        "id": "-VjfTW-edzN-",
        "outputId": "dce19a80-1578-4d2b-e519-04377e11e989"
      },
      "execution_count": 81,
      "outputs": [
        {
          "output_type": "stream",
          "name": "stdout",
          "text": [
            "'>>> This is a great idea.'\n",
            "'>>> This is a great day.'\n",
            "'>>> This is a great place.'\n",
            "'>>> This is a great time.'\n",
            "'>>> This is a great thing.'\n"
          ]
        }
      ]
    },
    {
      "cell_type": "code",
      "source": [
        "# Funtion to tokenize data\n",
        "def tokenize_function(data):\n",
        "    result = tokenizer(data[\"Text\"],\n",
        "                    #  max_length=40,\n",
        "                     truncation=True)\n",
        "    if tokenizer.is_fast:\n",
        "        result[\"word_ids\"] = [result.word_ids(i) for i in range(len(result[\"input_ids\"]))]\n",
        "    \n",
        "    return result\n",
        "\n",
        "# Tokenize the dataset\n",
        "dataset_train = hg_train_data.map(tokenize_function, batched=True, remove_columns=['__index_level_0__', 'Sentiment', 'Text'])\n",
        "dataset_val = hg_val_data.map(tokenize_function, batched=True, remove_columns=['__index_level_0__', 'Sentiment', 'Text'])\n",
        "dataset_test = hg_test_data.map(tokenize_function, batched=True, remove_columns=['__index_level_0__', 'Sentiment', 'Text'])\n",
        "dataset_subm = hg_subm_data.map(tokenize_function, batched=True, remove_columns=['Text'])\n",
        "\n",
        "data_collator = DataCollatorWithPadding(tokenizer=tokenizer)"
      ],
      "metadata": {
        "colab": {
          "base_uri": "https://localhost:8080/",
          "height": 17,
          "referenced_widgets": [
            "ec3b11d2c6f04cbf81a937163ae872e4",
            "19a37c7d52dd4aadbc0e61dff8b2a4f2",
            "1dc8006b65ef44ab8d04d264e6620996",
            "c23b1ec0399e417b9a3bf96313990ab4",
            "a506777a0bfa45aba1ee8618e74e6c9a",
            "7526b7e11aa24740be56349703af34b0",
            "e006789671bd4419991cd01d57ee8203",
            "bc47a578bf4f451cb3b7ec22dc816ad5",
            "9cdc9a20bf24408fb1f25f9886ef9bbc",
            "2d8d2ab49c7f4d91b466669ee0713dbb",
            "a542a3a7340242438d90400618219578",
            "a22a3e5225384945b84805a85e85b943",
            "1922700251994205a1e5d7570cd8f000",
            "c9982cd952fb4ab38f8c00779a2a550d",
            "2f0e745b9401494180173a5f721e7bca",
            "8229936012734c6e96b40740349deb46",
            "142f1e0610c64df793439e279857dbab",
            "6864d94c415c40c98832ec52852ef108",
            "157734a090b84ebfbb2748a734638e66",
            "111801f2b7eb476bb78aa8542225f435",
            "1d96f74706ff40e39b0acb1ad1fac909",
            "f3f9dafa73f847f3ba4795716de2af55",
            "a05f97458e994052a94fe24ab439a234",
            "11ed170170274d6fb0a3732221fd129d",
            "5aef77a7cf924fd89d824f2267ae22f9",
            "45a2a5a2d5d349e48067ab6cb512f26a",
            "8736add452684423861582ab07814018",
            "b5f66ef1ec99476ca3f40a42e1d8f3fd",
            "91094e57d8e9435d8be15e6f2c3630b5",
            "2c2caa5b8ac64d4b8b760320fab7b3dd",
            "03238e235c5949f892f92a6cbaef0408",
            "ba7555b1a5004de39722b44dde0c2421",
            "c2fd17542dd049ce8ee7a1b4e82c172f",
            "fb452960f3e04283abb9256f10b3e8e3",
            "e90de7a1e846456883a1615894c2df41",
            "0733fb487c3a4d0c884b284a5ffee152",
            "4d384476c377468d84f11c2b06113e1f",
            "ecee8df590874396b4e6c2d0584861ad",
            "d3214623dfe249ab9ecd4044d72d3b35",
            "144cb8f6a6ab45c386cd8cc4ee47c91d",
            "b508d16bea8b44c3a8694e2c952d1f88",
            "df0336a9e9dd4561bbc3d52c0b002ea1",
            "dead5abc9bc94e4294ccd3a5f949e751",
            "dd869d89734447c9aeedff31bb7d87a7"
          ]
        },
        "id": "UUAbNAZre6o2",
        "outputId": "f6d9f1ec-ae4e-4202-e66b-e2be67e8a8e7"
      },
      "execution_count": 82,
      "outputs": [
        {
          "output_type": "display_data",
          "data": {
            "text/plain": [
              "Map:   0%|          | 0/32924 [00:00<?, ? examples/s]"
            ],
            "application/vnd.jupyter.widget-view+json": {
              "version_major": 2,
              "version_minor": 0,
              "model_id": "ec3b11d2c6f04cbf81a937163ae872e4"
            }
          },
          "metadata": {}
        },
        {
          "output_type": "display_data",
          "data": {
            "text/plain": [
              "Map:   0%|          | 0/4115 [00:00<?, ? examples/s]"
            ],
            "application/vnd.jupyter.widget-view+json": {
              "version_major": 2,
              "version_minor": 0,
              "model_id": "a22a3e5225384945b84805a85e85b943"
            }
          },
          "metadata": {}
        },
        {
          "output_type": "display_data",
          "data": {
            "text/plain": [
              "Map:   0%|          | 0/4116 [00:00<?, ? examples/s]"
            ],
            "application/vnd.jupyter.widget-view+json": {
              "version_major": 2,
              "version_minor": 0,
              "model_id": "a05f97458e994052a94fe24ab439a234"
            }
          },
          "metadata": {}
        },
        {
          "output_type": "display_data",
          "data": {
            "text/plain": [
              "Map:   0%|          | 0/3798 [00:00<?, ? examples/s]"
            ],
            "application/vnd.jupyter.widget-view+json": {
              "version_major": 2,
              "version_minor": 0,
              "model_id": "fb452960f3e04283abb9256f10b3e8e3"
            }
          },
          "metadata": {}
        }
      ]
    },
    {
      "cell_type": "code",
      "source": [
        "# Take a look at the data\n",
        "print(dataset_train)\n",
        "print(dataset_val)\n",
        "print(dataset_test)\n",
        "print(dataset_subm)"
      ],
      "metadata": {
        "colab": {
          "base_uri": "https://localhost:8080/"
        },
        "id": "v7JUir60jiM0",
        "outputId": "7d7b9faf-5006-4e90-c68c-7447f6b0da0c"
      },
      "execution_count": 83,
      "outputs": [
        {
          "output_type": "stream",
          "name": "stdout",
          "text": [
            "Dataset({\n",
            "    features: ['input_ids', 'token_type_ids', 'attention_mask', 'word_ids'],\n",
            "    num_rows: 32924\n",
            "})\n",
            "Dataset({\n",
            "    features: ['input_ids', 'token_type_ids', 'attention_mask', 'word_ids'],\n",
            "    num_rows: 4115\n",
            "})\n",
            "Dataset({\n",
            "    features: ['input_ids', 'token_type_ids', 'attention_mask', 'word_ids'],\n",
            "    num_rows: 4116\n",
            "})\n",
            "Dataset({\n",
            "    features: ['input_ids', 'token_type_ids', 'attention_mask', 'word_ids'],\n",
            "    num_rows: 3798\n",
            "})\n"
          ]
        }
      ]
    },
    {
      "cell_type": "code",
      "source": [
        "tokenizer.model_max_length"
      ],
      "metadata": {
        "colab": {
          "base_uri": "https://localhost:8080/"
        },
        "id": "mZiZxBj7oEUp",
        "outputId": "053c8d6f-aebc-4bd5-bf12-44b0c70fcccd"
      },
      "execution_count": 84,
      "outputs": [
        {
          "output_type": "execute_result",
          "data": {
            "text/plain": [
              "512"
            ]
          },
          "metadata": {},
          "execution_count": 84
        }
      ]
    },
    {
      "cell_type": "code",
      "source": [
        "# Slicing produces a list of lists for each feature\n",
        "tokenized_samples = dataset_train[:3]\n",
        "\n",
        "for idx, sample in enumerate(tokenized_samples[\"input_ids\"]):\n",
        "    print(f\"'>>> Review {idx} length: {len(sample)}'\")"
      ],
      "metadata": {
        "colab": {
          "base_uri": "https://localhost:8080/"
        },
        "id": "wgXRQP4GoOpC",
        "outputId": "0ff84d9c-9c3e-4841-f510-845f0c3fccfe"
      },
      "execution_count": 85,
      "outputs": [
        {
          "output_type": "stream",
          "name": "stdout",
          "text": [
            "'>>> Review 0 length: 60'\n",
            "'>>> Review 1 length: 49'\n",
            "'>>> Review 2 length: 35'\n"
          ]
        }
      ]
    },
    {
      "cell_type": "code",
      "source": [
        "concatenated_examples = {\n",
        "    k: sum(tokenized_samples[k], []) for k in tokenized_samples.keys()\n",
        "}\n",
        "total_length = len(concatenated_examples[\"input_ids\"])\n",
        "print(f\"'>>> Concatenated reviews length: {total_length}'\")"
      ],
      "metadata": {
        "colab": {
          "base_uri": "https://localhost:8080/"
        },
        "id": "7DjuMYE1p5iY",
        "outputId": "dc1fa69e-bbad-4ab5-ab3f-e286283d9876"
      },
      "execution_count": 86,
      "outputs": [
        {
          "output_type": "stream",
          "name": "stdout",
          "text": [
            "'>>> Concatenated reviews length: 144'\n"
          ]
        }
      ]
    },
    {
      "cell_type": "code",
      "source": [
        "chunk_size = 128"
      ],
      "metadata": {
        "id": "8L1oLyo_qv31"
      },
      "execution_count": 87,
      "outputs": []
    },
    {
      "cell_type": "code",
      "source": [
        "chunks = {\n",
        "    k: [t[i : i + chunk_size] for i in range(0, total_length, chunk_size)]\n",
        "    for k, t in concatenated_examples.items()\n",
        "}\n",
        "\n",
        "for chunk in chunks[\"input_ids\"]:\n",
        "    print(f\"'>>> Chunk length: {len(chunk)}'\")"
      ],
      "metadata": {
        "colab": {
          "base_uri": "https://localhost:8080/"
        },
        "id": "BiiAbjllq38O",
        "outputId": "31abc610-8af4-4c61-c003-552630326dc2"
      },
      "execution_count": 88,
      "outputs": [
        {
          "output_type": "stream",
          "name": "stdout",
          "text": [
            "'>>> Chunk length: 128'\n",
            "'>>> Chunk length: 16'\n"
          ]
        }
      ]
    },
    {
      "cell_type": "code",
      "source": [
        "def group_texts(examples):\n",
        "    # Concatenate all texts\n",
        "    concatenated_examples = {k: sum(examples[k], []) for k in examples.keys()}\n",
        "    # Compute length of concatenated texts\n",
        "    total_length = len(concatenated_examples[list(examples.keys())[0]])\n",
        "    # We drop the last chunk if it's smaller than chunk_size\n",
        "    total_length = (total_length // chunk_size) * chunk_size\n",
        "    # Split by chunks of max_len\n",
        "    result = {\n",
        "        k: [t[i : i + chunk_size] for i in range(0, total_length, chunk_size)]\n",
        "        for k, t in concatenated_examples.items()\n",
        "    }\n",
        "    # Create a new labels column\n",
        "    result[\"labels\"] = result[\"input_ids\"].copy()\n",
        "    return result"
      ],
      "metadata": {
        "id": "rhcEyrDErRSr"
      },
      "execution_count": 89,
      "outputs": []
    },
    {
      "cell_type": "code",
      "source": [
        "lm_train_dataset = dataset_train.map(group_texts, batched=True)\n",
        "lm_val_dataset = dataset_val.map(group_texts, batched=True)\n",
        "lm_test_dataset = dataset_test.map(group_texts, batched=True)\n",
        "lm_subm_dataset = dataset_subm.map(group_texts, batched=True)"
      ],
      "metadata": {
        "colab": {
          "base_uri": "https://localhost:8080/",
          "height": 17,
          "referenced_widgets": [
            "73dd1724bc3a4fad875b2e636f575c40",
            "76a2426a8419474bba41d223640ce8bd",
            "1895a03e0809497f8b4a17a97dc77baf",
            "7a5ec45d7272436398cbed44d2fc6c6a",
            "1c30c0360b494356b9decdceb7e64e01",
            "d6d364a2593341eb89ba69d562b22495",
            "a7b74a77e85045de9b517b258e5cb1f7",
            "104083f2c3a346a7a9af35456f3fa2d7",
            "554e3e16803c4985ac05a7c0a20d06a8",
            "b01a8cf787f04c39aa5ed53160d6f227",
            "c15a8cba88e14900820cc8600a541d0b",
            "1a2d1fc5d0e546e695360fec08c4d6b5",
            "dd401128ec1c4272a9dea9e39b5edd62",
            "24baef1463964304bc9b2154e3234113",
            "9b28a01f44154cccb422d98669b176e9",
            "266c75f49e9141699dae88dba4530d40",
            "f2daf9739ef048e9a5392beaaf3c90b5",
            "4700e0447b464512b625ef72805f8f91",
            "b5e6ca3e877b4480878bc2ff8c8db8eb",
            "ccf4ba2347874ff9a6867211427f970d",
            "ce346d68aa6a46fbb10c17dcfcf6193b",
            "a6a331ec3f384bf486a0dd1e25725d34",
            "a217fb3f6c6941bb8a42a60c6bbc74df",
            "ae085809f473413e98038743ddaae2bb",
            "4a3d3e209d744e82b6e057663c36b2af",
            "5be704471e4743778ee4acd520ea959f",
            "9907f87e5bb94ed7955bf1f951f84772",
            "d96b9cbf70b7469c9b4c25213ed3d21c",
            "b4974996e53342f78e6c9f55153ce333",
            "64899269c5674a06b6cc670755e628bb",
            "b76dc0e1d18043b6a204bacb3dd9292a",
            "262df5daa9d94bcb902a9a70668c2ab7",
            "bb9b8de77d884d51811233fe65a87321",
            "153eacbfb16e47a7b243ec09d5e4361c",
            "809c7f9335e841758860c0519cedc460",
            "5fc46932f5974a57b6b57afa8f2e5ba7",
            "0a9785a5725d499687e660d869fe8c91",
            "053134d8730d435dacd8e925af292b17",
            "0ce1955e3f4f4f89a06fd306f4fc0c35",
            "0e7f6472c6c647b3bbcaf0e141e4908a",
            "7eba6220ab7941c7b1d986bf2c361e84",
            "b9fddbe1805e4482b05144437e0dc486",
            "34666e82046c4eccb14f8a70a0ae971e",
            "134009bfc4cc4296b0c9ed53d05a1e00"
          ]
        },
        "id": "95STnp0TrVuo",
        "outputId": "9a941ab5-ebfc-4eac-a52b-2f4b9bd34e8a"
      },
      "execution_count": 90,
      "outputs": [
        {
          "output_type": "display_data",
          "data": {
            "text/plain": [
              "Map:   0%|          | 0/32924 [00:00<?, ? examples/s]"
            ],
            "application/vnd.jupyter.widget-view+json": {
              "version_major": 2,
              "version_minor": 0,
              "model_id": "73dd1724bc3a4fad875b2e636f575c40"
            }
          },
          "metadata": {}
        },
        {
          "output_type": "display_data",
          "data": {
            "text/plain": [
              "Map:   0%|          | 0/4115 [00:00<?, ? examples/s]"
            ],
            "application/vnd.jupyter.widget-view+json": {
              "version_major": 2,
              "version_minor": 0,
              "model_id": "1a2d1fc5d0e546e695360fec08c4d6b5"
            }
          },
          "metadata": {}
        },
        {
          "output_type": "display_data",
          "data": {
            "text/plain": [
              "Map:   0%|          | 0/4116 [00:00<?, ? examples/s]"
            ],
            "application/vnd.jupyter.widget-view+json": {
              "version_major": 2,
              "version_minor": 0,
              "model_id": "a217fb3f6c6941bb8a42a60c6bbc74df"
            }
          },
          "metadata": {}
        },
        {
          "output_type": "display_data",
          "data": {
            "text/plain": [
              "Map:   0%|          | 0/3798 [00:00<?, ? examples/s]"
            ],
            "application/vnd.jupyter.widget-view+json": {
              "version_major": 2,
              "version_minor": 0,
              "model_id": "153eacbfb16e47a7b243ec09d5e4361c"
            }
          },
          "metadata": {}
        }
      ]
    },
    {
      "cell_type": "code",
      "source": [
        "print(lm_train_dataset)\n",
        "print(lm_val_dataset)\n",
        "print(lm_test_dataset)\n",
        "print(lm_subm_dataset)"
      ],
      "metadata": {
        "colab": {
          "base_uri": "https://localhost:8080/"
        },
        "id": "h7FVoewMsMsl",
        "outputId": "31988130-0490-40f6-fe65-8b9dbfd53100"
      },
      "execution_count": 91,
      "outputs": [
        {
          "output_type": "stream",
          "name": "stdout",
          "text": [
            "Dataset({\n",
            "    features: ['input_ids', 'token_type_ids', 'attention_mask', 'word_ids', 'labels'],\n",
            "    num_rows: 11461\n",
            "})\n",
            "Dataset({\n",
            "    features: ['input_ids', 'token_type_ids', 'attention_mask', 'word_ids', 'labels'],\n",
            "    num_rows: 1430\n",
            "})\n",
            "Dataset({\n",
            "    features: ['input_ids', 'token_type_ids', 'attention_mask', 'word_ids', 'labels'],\n",
            "    num_rows: 1418\n",
            "})\n",
            "Dataset({\n",
            "    features: ['input_ids', 'token_type_ids', 'attention_mask', 'word_ids', 'labels'],\n",
            "    num_rows: 1441\n",
            "})\n"
          ]
        }
      ]
    },
    {
      "cell_type": "code",
      "source": [
        "tokenizer.decode(lm_train_dataset[1]['input_ids'])"
      ],
      "metadata": {
        "colab": {
          "base_uri": "https://localhost:8080/",
          "height": 139
        },
        "id": "l8Wt8DfuuYr9",
        "outputId": "70beddca-1997-4849-e47b-9939c158fb62"
      },
      "execution_count": 92,
      "outputs": [
        {
          "output_type": "execute_result",
          "data": {
            "text/plain": [
              "\"##others # coronavirus nurse's despair as panic - buyers clear shelves [SEP] [CLS] pivoting quickly to changes is key to digital transformation. gearing up for more delivery demand & amp ; making it simple with call center & amp ; food parcels. big respect @ morrisons. # coronavirus # retail # omnichannel # grocery # digitaltransformation [SEP] [CLS] pm @ borisjohnson gives an important update on # coronavirus # stayhomesavelives [SEP] [CLS] grocery stores should be spacing checkout lines, every other line should be closed at min, # covid rule. many store have checkers\""
            ],
            "application/vnd.google.colaboratory.intrinsic+json": {
              "type": "string"
            }
          },
          "metadata": {},
          "execution_count": 92
        }
      ]
    },
    {
      "cell_type": "code",
      "source": [
        "tokenizer.decode(lm_train_dataset[1]['labels'])"
      ],
      "metadata": {
        "colab": {
          "base_uri": "https://localhost:8080/",
          "height": 139
        },
        "id": "8h_gqbJCvAzx",
        "outputId": "5a920c94-1ac5-4056-d778-0d888bf3a344"
      },
      "execution_count": 93,
      "outputs": [
        {
          "output_type": "execute_result",
          "data": {
            "text/plain": [
              "\"##others # coronavirus nurse's despair as panic - buyers clear shelves [SEP] [CLS] pivoting quickly to changes is key to digital transformation. gearing up for more delivery demand & amp ; making it simple with call center & amp ; food parcels. big respect @ morrisons. # coronavirus # retail # omnichannel # grocery # digitaltransformation [SEP] [CLS] pm @ borisjohnson gives an important update on # coronavirus # stayhomesavelives [SEP] [CLS] grocery stores should be spacing checkout lines, every other line should be closed at min, # covid rule. many store have checkers\""
            ],
            "application/vnd.google.colaboratory.intrinsic+json": {
              "type": "string"
            }
          },
          "metadata": {},
          "execution_count": 93
        }
      ]
    },
    {
      "cell_type": "code",
      "source": [
        "from transformers import DataCollatorForLanguageModeling\n",
        "\n",
        "data_collator = DataCollatorForLanguageModeling(tokenizer=tokenizer, mlm_probability=0.15)"
      ],
      "metadata": {
        "id": "-fTJu0gfvTsT"
      },
      "execution_count": 94,
      "outputs": []
    },
    {
      "cell_type": "code",
      "source": [
        "samples = [lm_train_dataset[i] for i in range(2)]\n",
        "for sample in samples:\n",
        "    _ = sample.pop(\"word_ids\")\n",
        "\n",
        "for chunk in data_collator(samples)[\"input_ids\"]:\n",
        "    print(f\"\\n'>>> {tokenizer.decode(chunk)}'\")"
      ],
      "metadata": {
        "colab": {
          "base_uri": "https://localhost:8080/"
        },
        "id": "xJvrlXzIvVU-",
        "outputId": "93380d07-ceb0-4057-96bc-fcd2c885bb9d"
      },
      "execution_count": 95,
      "outputs": [
        {
          "output_type": "stream",
          "name": "stderr",
          "text": [
            "You're using a BertTokenizerFast tokenizer. Please note that with a fast tokenizer, using the `__call__` method is faster than using a method to encode the text followed by a call to the `pad` method to get a padded encoding.\n"
          ]
        },
        {
          "output_type": "stream",
          "name": "stdout",
          "text": [
            "\n",
            "'>>> [CLS] @ eater to everyone hoarding rice [MASK] [MASK] now doesnt eat rice, remember to donate it [MASK] all left over food youve hoarded to a food bank near you. food waste should not be a side effect of covid - as a result of irrational panic buying. # [MASK]vir [SEP] [CLS] if your going to eat @ chickfila they have complementary wet naps that have hand saniti [MASK] on them. [unused841] ask for one or two in [MASK] [MASK]! # [MASK]vid? # coronavirus thank you chick fil a [SEP] [CLS] watch this if you are one of those idiots who is panic buying food. # thinkof'\n",
            "\n",
            "'>>> [MASK]ers # coronavirus nurse's despair as panic - buyers clear shelves [SEP] [CLS] pivoting quickly to changes is [MASK] to digital transformation. gear [MASK] up for more delivery [MASK] & [MASK] ; making it simple with call center & amp ; food parcels. big respect @ morrisons. identical coronavirus # [MASK] # omnichannel # [MASK] # digitaltra [MASK]formation [SEP] [CLS] pm @ borisjo [MASK]son gives an important update on # guyvirus # stayhom [MASK]vel 1844 [SEP] [CLS] grocery stores should guangdong spacing checkout lines, [MASK] other [MASK] should be closed at [MASK], # covid rule. many store have [MASK]ers'\n"
          ]
        }
      ]
    },
    {
      "cell_type": "code",
      "source": [
        "import collections\n",
        "import numpy as np\n",
        "\n",
        "from transformers import default_data_collator\n",
        "\n",
        "wwm_probability = 0.2\n",
        "\n",
        "\n",
        "def whole_word_masking_data_collator(features):\n",
        "    for feature in features:\n",
        "        word_ids = feature.pop(\"word_ids\")\n",
        "\n",
        "        # Create a map between words and corresponding token indices\n",
        "        mapping = collections.defaultdict(list)\n",
        "        current_word_index = -1\n",
        "        current_word = None\n",
        "        for idx, word_id in enumerate(word_ids):\n",
        "            if word_id is not None:\n",
        "                if word_id != current_word:\n",
        "                    current_word = word_id\n",
        "                    current_word_index += 1\n",
        "                mapping[current_word_index].append(idx)\n",
        "\n",
        "        # Randomly mask words\n",
        "        mask = np.random.binomial(1, wwm_probability, (len(mapping),))\n",
        "        input_ids = feature[\"input_ids\"]\n",
        "        labels = feature[\"labels\"]\n",
        "        new_labels = [-100] * len(labels)\n",
        "        for word_id in np.where(mask)[0]:\n",
        "            word_id = word_id.item()\n",
        "            for idx in mapping[word_id]:\n",
        "                new_labels[idx] = labels[idx]\n",
        "                input_ids[idx] = tokenizer.mask_token_id\n",
        "        feature[\"labels\"] = new_labels\n",
        "\n",
        "    return default_data_collator(features)"
      ],
      "metadata": {
        "id": "OKwD0Za1vlSA"
      },
      "execution_count": 96,
      "outputs": []
    },
    {
      "cell_type": "code",
      "source": [
        "samples = [lm_train_dataset[i] for i in range(2)]\n",
        "batch = whole_word_masking_data_collator(samples)\n",
        "\n",
        "for chunk in batch[\"input_ids\"]:\n",
        "    print(f\"\\n'>>> {tokenizer.decode(chunk)}'\")"
      ],
      "metadata": {
        "colab": {
          "base_uri": "https://localhost:8080/"
        },
        "id": "K5BJfgXQwOFX",
        "outputId": "a2cd63d3-43fc-4aca-ebf9-cb010192fe0e"
      },
      "execution_count": 97,
      "outputs": [
        {
          "output_type": "stream",
          "name": "stdout",
          "text": [
            "\n",
            "'>>> [CLS] @ [MASK] to everyone hoarding rice who [MASK] now doesnt eat [MASK] [MASK] remember to donate it and all left over food youve hoarded to a food bank near you. food waste [MASK] [MASK] [MASK] a side effect of covid - as [MASK] result of irrational panic buying. [MASK] coronavir [SEP] [CLS] [MASK] [MASK] going [MASK] eat @ chickfila they have complementary [MASK] naps that have hand [MASK] [MASK] [MASK] on [MASK]. so ask [MASK] one or two in this time [MASK] # covid? # coronavirus thank you [MASK] fil a [SEP] [CLS] watch this if you are one of those idiots who is panic buying [MASK]. # thinkof'\n",
            "\n",
            "'>>> ##others # coronavirus nurse [MASK] [MASK] despair [MASK] [MASK] - [MASK] clear [MASK] [SEP] [CLS] [MASK] [MASK] [MASK] quickly to changes is [MASK] [MASK] digital transformation. gearing up for [MASK] delivery demand & amp [MASK] [MASK] it simple with call center & amp ; food [MASK]. big respect [MASK] morrisons. # coronavirus # retail # omnichannel # grocery [MASK] digitaltransformation [SEP] [CLS] pm @ borisjohnson gives an important update on # coronavirus # [MASK] [MASK] [MASK] [MASK] [MASK] [SEP] [CLS] grocery stores should [MASK] [MASK] [MASK] checkout lines [MASK] every other line should [MASK] [MASK] at min, # [MASK] [MASK] [MASK]. many store have [MASK] [MASK]'\n"
          ]
        }
      ]
    },
    {
      "cell_type": "code",
      "source": [
        "from transformers import TrainingArguments\n",
        "\n",
        "batch_size = 64\n",
        "# Show the training loss with every epoch\n",
        "logging_steps = len(lm_train_dataset) // batch_size\n",
        "model_name = model_checkpoint.split(\"/\")[-1]\n",
        "\n",
        "training_args = TrainingArguments(\n",
        "    output_dir=f\"{model_name}-finetuned-clf\",\n",
        "    overwrite_output_dir=True,\n",
        "    evaluation_strategy=\"epoch\",\n",
        "    learning_rate=2e-5,\n",
        "    weight_decay=0.01,\n",
        "    per_device_train_batch_size=batch_size,\n",
        "    per_device_eval_batch_size=batch_size,\n",
        "    # push_to_hub=True,\n",
        "    # fp16=True,\n",
        "    logging_steps=logging_steps,\n",
        ")"
      ],
      "metadata": {
        "colab": {
          "base_uri": "https://localhost:8080/"
        },
        "id": "3SRq7Swqwib4",
        "outputId": "8e5dd9cf-3cf3-4b94-badd-9b24b4078187"
      },
      "execution_count": 98,
      "outputs": [
        {
          "output_type": "stream",
          "name": "stderr",
          "text": [
            "PyTorch: setting up devices\n",
            "The default value for the training argument `--report_to` will change in v5 (from all installed integrations to none). In v5, you will need to use `--report_to all` to get the same behavior as now. You should start updating your code and make this info disappear :-).\n"
          ]
        }
      ]
    },
    {
      "cell_type": "code",
      "source": [
        "from transformers import Trainer\n",
        "\n",
        "trainer = Trainer(\n",
        "    model=model,\n",
        "    args=training_args,\n",
        "    train_dataset=lm_train_dataset,\n",
        "    eval_dataset=lm_val_dataset,\n",
        "    data_collator=data_collator,\n",
        "    tokenizer=tokenizer,\n",
        ")"
      ],
      "metadata": {
        "id": "xS3-YIYXxir1"
      },
      "execution_count": 99,
      "outputs": []
    },
    {
      "cell_type": "code",
      "source": [
        "eval_results = trainer.evaluate()\n",
        "print(f\">>> Perplexity: {math.exp(eval_results['eval_loss']):.2f}\")"
      ],
      "metadata": {
        "colab": {
          "base_uri": "https://localhost:8080/",
          "height": 144
        },
        "id": "W55ywztnxsR1",
        "outputId": "4f0fbbf5-0d69-4f22-c3fc-9b7db3517c93"
      },
      "execution_count": 100,
      "outputs": [
        {
          "output_type": "stream",
          "name": "stderr",
          "text": [
            "The following columns in the evaluation set don't have a corresponding argument in `BertForMaskedLM.forward` and have been ignored: word_ids. If word_ids are not expected by `BertForMaskedLM.forward`,  you can safely ignore this message.\n",
            "***** Running Evaluation *****\n",
            "  Num examples = 1430\n",
            "  Batch size = 64\n"
          ]
        },
        {
          "output_type": "display_data",
          "data": {
            "text/plain": [
              "<IPython.core.display.HTML object>"
            ],
            "text/html": [
              "\n",
              "    <div>\n",
              "      \n",
              "      <progress value='23' max='23' style='width:300px; height:20px; vertical-align: middle;'></progress>\n",
              "      [23/23 11:59]\n",
              "    </div>\n",
              "    "
            ]
          },
          "metadata": {}
        },
        {
          "output_type": "stream",
          "name": "stdout",
          "text": [
            ">>> Perplexity: 53.69\n"
          ]
        }
      ]
    },
    {
      "cell_type": "code",
      "source": [
        "trainer.train()"
      ],
      "metadata": {
        "colab": {
          "base_uri": "https://localhost:8080/"
        },
        "id": "6r-7Wr8mx8zh",
        "outputId": "e996dae4-5fb1-445b-da01-5b0ae15c6553"
      },
      "execution_count": null,
      "outputs": [
        {
          "output_type": "stream",
          "name": "stderr",
          "text": [
            "The following columns in the training set don't have a corresponding argument in `BertForMaskedLM.forward` and have been ignored: word_ids. If word_ids are not expected by `BertForMaskedLM.forward`,  you can safely ignore this message.\n",
            "/usr/local/lib/python3.9/dist-packages/transformers/optimization.py:306: FutureWarning: This implementation of AdamW is deprecated and will be removed in a future version. Use the PyTorch implementation torch.optim.AdamW instead, or set `no_deprecation_warning=True` to disable this warning\n",
            "  warnings.warn(\n",
            "***** Running training *****\n",
            "  Num examples = 11461\n",
            "  Num Epochs = 3\n",
            "  Instantaneous batch size per device = 64\n",
            "  Total train batch size (w. parallel, distributed & accumulation) = 64\n",
            "  Gradient Accumulation steps = 1\n",
            "  Total optimization steps = 540\n",
            "  Number of trainable parameters = 109514298\n"
          ]
        }
      ]
    },
    {
      "cell_type": "code",
      "source": [
        "eval_results = trainer.evaluate()\n",
        "print(f\">>> Perplexity: {math.exp(eval_results['eval_loss']):.2f}\")"
      ],
      "metadata": {
        "id": "W5MrqMrnyAYE"
      },
      "execution_count": null,
      "outputs": []
    },
    {
      "cell_type": "markdown",
      "metadata": {
        "id": "-B2zbOsaPcg_"
      },
      "source": []
    },
    {
      "cell_type": "markdown",
      "source": [
        "## Fine-tuning BERT"
      ],
      "metadata": {
        "id": "3NuBl6n4_04d"
      }
    },
    {
      "cell_type": "code",
      "execution_count": null,
      "metadata": {
        "colab": {
          "base_uri": "https://localhost:8080/"
        },
        "outputId": "15caa3ee-f1c9-44a0-f1d5-e28238bf66b6",
        "id": "jOBbDigi_7IT"
      },
      "outputs": [
        {
          "output_type": "stream",
          "name": "stdout",
          "text": [
            "Shape of the train_data: (32924, 2)\n",
            "Shape of the val_data: (4115, 2)\n",
            "Shape of the test_data: (4116, 2)\n",
            "Shape of the finel_test_raw_data: (3798, 1)\n"
          ]
        }
      ],
      "source": [
        "# first, we will split data by two samples: train and test in the proportion of 80:20\n",
        "train_data, test_data = train_test_split(train_raw_data, test_size=0.2, stratify=train_raw_data['Sentiment'], random_state=42)\n",
        "# then, we will split test data by two samples: validation and test in the proportion of 50:50 \n",
        "val_data, test_data = train_test_split(test_data, test_size=0.5, stratify=test_data['Sentiment'], random_state=42)\n",
        "\n",
        "print(f'Shape of the train_data: {train_data.shape}')\n",
        "print(f'Shape of the val_data: {val_data.shape}')\n",
        "print(f'Shape of the test_data: {test_data.shape}')\n",
        "print(f'Shape of the finel_test_raw_data: {subm_raw_data.shape}')"
      ]
    },
    {
      "cell_type": "code",
      "execution_count": null,
      "metadata": {
        "colab": {
          "base_uri": "https://localhost:8080/"
        },
        "outputId": "d7d62015-62f3-424b-a031-3dbd0aa789b6",
        "id": "RIyWgm2v_7IU"
      },
      "outputs": [
        {
          "output_type": "stream",
          "name": "stdout",
          "text": [
            "Dataset({\n",
            "    features: ['Text', 'Sentiment', '__index_level_0__'],\n",
            "    num_rows: 32924\n",
            "})\n",
            "Dataset({\n",
            "    features: ['Text', 'Sentiment', '__index_level_0__'],\n",
            "    num_rows: 4115\n",
            "})\n",
            "Dataset({\n",
            "    features: ['Text', 'Sentiment', '__index_level_0__'],\n",
            "    num_rows: 4116\n",
            "})\n",
            "Dataset({\n",
            "    features: ['Text'],\n",
            "    num_rows: 3798\n",
            "})\n"
          ]
        }
      ],
      "source": [
        "# Convert pandas dataframe to Hugging Face arrow dataset\n",
        "hg_train_data = Dataset.from_pandas(train_data)\n",
        "hg_val_data = Dataset.from_pandas(val_data)\n",
        "hg_test_data = Dataset.from_pandas(test_data)\n",
        "hg_subm_data = Dataset.from_pandas(subm_raw_data)\n",
        "\n",
        "print(hg_train_data)\n",
        "print(hg_val_data)\n",
        "print(hg_test_data)\n",
        "print(hg_subm_data)"
      ]
    },
    {
      "cell_type": "code",
      "execution_count": null,
      "metadata": {
        "outputId": "e1b9a012-0a46-4137-9a93-8859084b6474",
        "id": "RlV-aQ8X_7IU"
      },
      "outputs": [
        {
          "data": {
            "text/plain": [
              "BertTokenizerFast(name_or_path='LIALLIES/finetune-bert-base-cased', vocab_size=28996, model_max_length=512, is_fast=True, padding_side='right', truncation_side='right', special_tokens={'unk_token': '[UNK]', 'sep_token': '[SEP]', 'pad_token': '[PAD]', 'cls_token': '[CLS]', 'mask_token': '[MASK]'})"
            ]
          },
          "execution_count": 20,
          "metadata": {},
          "output_type": "execute_result"
        }
      ],
      "source": [
        "checkpoint = \"LIALLIES/finetune-bert-base-cased\"\n",
        "\n",
        "# Tokenizer from a pretrained model\n",
        "tokenizer = AutoTokenizer.from_pretrained(checkpoint)\n",
        "\n",
        "# Take a look at the tokenizer\n",
        "tokenizer"
      ]
    },
    {
      "cell_type": "code",
      "execution_count": null,
      "metadata": {
        "outputId": "107e2d0e-10ef-4429-b479-8f20ed24422d",
        "id": "gGkL8jpT_7IU"
      },
      "outputs": [
        {
          "name": "stdout",
          "output_type": "stream",
          "text": [
            "The unknown token is [UNK] and the ID for the unknown token is 100.\n",
            "The seperator token is [SEP] and the ID for the seperator token is 102.\n",
            "The pad token is [PAD] and the ID for the pad token is 0.\n",
            "The sentence level classification token is [CLS] and the ID for the classification token is 101.\n",
            "The mask token is [MASK] and the ID for the mask token is 103.\n"
          ]
        }
      ],
      "source": [
        "# Mapping between special tokens and their IDs.\n",
        "print(f'The unknown token is {tokenizer.unk_token} and the ID for the unknown token is {tokenizer.unk_token_id}.')\n",
        "print(f'The seperator token is {tokenizer.sep_token} and the ID for the seperator token is {tokenizer.sep_token_id}.')\n",
        "print(f'The pad token is {tokenizer.pad_token} and the ID for the pad token is {tokenizer.pad_token_id}.')\n",
        "print(f'The sentence level classification token is {tokenizer.cls_token} and the ID for the classification token is {tokenizer.cls_token_id}.')\n",
        "print(f'The mask token is {tokenizer.mask_token} and the ID for the mask token is {tokenizer.mask_token_id}.')"
      ]
    },
    {
      "cell_type": "code",
      "execution_count": null,
      "metadata": {
        "outputId": "69b151db-9307-4ce9-de81-e9c858b68c9a",
        "id": "uO_trLVt_7IV"
      },
      "outputs": [
        {
          "name": "stderr",
          "output_type": "stream",
          "text": [
            "                                                                    \r"
          ]
        }
      ],
      "source": [
        "# Funtion to tokenize data\n",
        "def tokenize_function(data):\n",
        "    return tokenizer(data[\"Text\"],\n",
        "                     max_length=40,\n",
        "                     truncation=True)\n",
        "\n",
        "# Tokenize the dataset\n",
        "dataset_train = hg_train_data.map(tokenize_function, batched=True)\n",
        "dataset_val = hg_val_data.map(tokenize_function, batched=True)\n",
        "dataset_test = hg_test_data.map(tokenize_function, batched=True)\n",
        "dataset_subm = hg_subm_data.map(tokenize_function, batched=True)\n",
        "\n",
        "data_collator = DataCollatorWithPadding(tokenizer=tokenizer)"
      ]
    },
    {
      "cell_type": "code",
      "execution_count": null,
      "metadata": {
        "outputId": "1c1a9891-cd0f-4045-e504-c7f0cd856bd6",
        "id": "PYFt2cb2_7IV"
      },
      "outputs": [
        {
          "name": "stdout",
          "output_type": "stream",
          "text": [
            "Dataset({\n",
            "    features: ['Text', 'Sentiment', '__index_level_0__', 'input_ids', 'token_type_ids', 'attention_mask'],\n",
            "    num_rows: 32924\n",
            "})\n",
            "Dataset({\n",
            "    features: ['Text', 'Sentiment', '__index_level_0__', 'input_ids', 'token_type_ids', 'attention_mask'],\n",
            "    num_rows: 4115\n",
            "})\n",
            "Dataset({\n",
            "    features: ['Text', 'Sentiment', '__index_level_0__', 'input_ids', 'token_type_ids', 'attention_mask'],\n",
            "    num_rows: 4116\n",
            "})\n",
            "Dataset({\n",
            "    features: ['Text', 'input_ids', 'token_type_ids', 'attention_mask'],\n",
            "    num_rows: 3798\n",
            "})\n"
          ]
        }
      ],
      "source": [
        "# Take a look at the data\n",
        "print(dataset_train)\n",
        "print(dataset_val)\n",
        "print(dataset_test)\n",
        "print(dataset_subm)"
      ]
    },
    {
      "cell_type": "code",
      "execution_count": null,
      "metadata": {
        "outputId": "ba4e7aa1-f47f-4b1d-8f7d-8d2715ee355a",
        "id": "guzAWVUD_7IV"
      },
      "outputs": [
        {
          "name": "stdout",
          "output_type": "stream",
          "text": [
            "Dataset({\n",
            "    features: ['labels', 'input_ids', 'token_type_ids', 'attention_mask'],\n",
            "    num_rows: 32924\n",
            "})\n",
            "Dataset({\n",
            "    features: ['labels', 'input_ids', 'token_type_ids', 'attention_mask'],\n",
            "    num_rows: 4115\n",
            "})\n",
            "Dataset({\n",
            "    features: ['labels', 'input_ids', 'token_type_ids', 'attention_mask'],\n",
            "    num_rows: 4116\n",
            "})\n",
            "Dataset({\n",
            "    features: ['input_ids', 'token_type_ids', 'attention_mask'],\n",
            "    num_rows: 3798\n",
            "})\n"
          ]
        }
      ],
      "source": [
        "# Remove the review and index columns because it will not be used in the model\n",
        "dataset_train = dataset_train.remove_columns([\"Text\", \"__index_level_0__\"])\n",
        "dataset_val = dataset_val.remove_columns([\"Text\", \"__index_level_0__\"])\n",
        "dataset_test = dataset_test.remove_columns([\"Text\", \"__index_level_0__\"])\n",
        "dataset_subm = dataset_subm.remove_columns([\"Text\"])\n",
        "\n",
        "# Rename label to labels because the model expects the name labels\n",
        "dataset_train = dataset_train.rename_column(\"Sentiment\", \"labels\")\n",
        "dataset_val = dataset_val.rename_column(\"Sentiment\", \"labels\")\n",
        "dataset_test = dataset_test.rename_column(\"Sentiment\", \"labels\")\n",
        "\n",
        "# Change the format to PyTorch tensors\n",
        "dataset_train.set_format(\"torch\")\n",
        "dataset_val.set_format(\"torch\")\n",
        "dataset_test.set_format(\"torch\")\n",
        "dataset_subm.set_format(\"torch\")\n",
        "\n",
        "# Take a look at the data\n",
        "print(dataset_train)\n",
        "print(dataset_val)\n",
        "print(dataset_test)\n",
        "print(dataset_subm)"
      ]
    },
    {
      "cell_type": "code",
      "execution_count": null,
      "metadata": {
        "id": "B0oo9Pm4_7IW"
      },
      "outputs": [],
      "source": [
        "# Empty cache\n",
        "torch.cuda.empty_cache()\n",
        "\n",
        "BATCH_SIZE = 128\n",
        "\n",
        "# DataLoader\n",
        "train_dataloader = DataLoader(dataset=dataset_train, batch_size=BATCH_SIZE, collate_fn=data_collator,  shuffle=True)\n",
        "val_dataloader   = DataLoader(dataset=dataset_val,   batch_size=BATCH_SIZE, collate_fn=data_collator)\n",
        "test_dataloader  = DataLoader(dataset=dataset_test,  batch_size=BATCH_SIZE, collate_fn=data_collator)\n",
        "subm_dataloader  = DataLoader(dataset=dataset_subm,  batch_size=BATCH_SIZE, collate_fn=data_collator)"
      ]
    },
    {
      "cell_type": "code",
      "execution_count": null,
      "metadata": {
        "outputId": "35d45dd0-02bd-4842-dc62-1318510fa478",
        "id": "LXpFz5Up_7IW"
      },
      "outputs": [
        {
          "name": "stderr",
          "output_type": "stream",
          "text": [
            "You're using a BertTokenizerFast tokenizer. Please note that with a fast tokenizer, using the `__call__` method is faster than using a method to encode the text followed by a call to the `pad` method to get a padded encoding.\n"
          ]
        },
        {
          "data": {
            "text/plain": [
              "{'labels': torch.Size([128]),\n",
              " 'input_ids': torch.Size([128, 40]),\n",
              " 'token_type_ids': torch.Size([128, 40]),\n",
              " 'attention_mask': torch.Size([128, 40])}"
            ]
          },
          "execution_count": 26,
          "metadata": {},
          "output_type": "execute_result"
        }
      ],
      "source": [
        "# inspect the batch\n",
        "for batch in train_dataloader:\n",
        "  break\n",
        "{k: v.shape for k, v in batch.items()}"
      ]
    },
    {
      "cell_type": "code",
      "execution_count": null,
      "metadata": {
        "tags": [],
        "id": "9hUL-3T2_7IX"
      },
      "outputs": [],
      "source": [
        "# Load model\n",
        "model = AutoModelForSequenceClassification.from_pretrained(checkpoint, num_labels=5)\n",
        "# model.to(device)"
      ]
    },
    {
      "cell_type": "code",
      "execution_count": null,
      "metadata": {
        "outputId": "5e8c7a3d-19a3-45b0-c3d2-03eef383aa2e",
        "id": "7Nb81lxf_7IX"
      },
      "outputs": [
        {
          "name": "stdout",
          "output_type": "stream",
          "text": [
            "tensor(1.6408, grad_fn=<NllLossBackward0>) torch.Size([128, 5])\n"
          ]
        }
      ],
      "source": [
        "# pass one batch to this model to make sure that everything is ok\n",
        "outputs = model(**batch)\n",
        "print(outputs.loss, outputs.logits.shape)"
      ]
    },
    {
      "cell_type": "code",
      "execution_count": null,
      "metadata": {
        "outputId": "62d6ea03-1d7d-4e8f-a7b5-4f611a006025",
        "id": "9_AgFJu1_7IZ"
      },
      "outputs": [
        {
          "name": "stdout",
          "output_type": "stream",
          "text": [
            "Number of the training steps: 1290\n"
          ]
        }
      ],
      "source": [
        "# Number of epochs\n",
        "num_epochs = 5\n",
        "\n",
        "# Number of training steps\n",
        "num_training_steps = num_epochs * len(train_dataloader)\n",
        "\n",
        "# Optimizer\n",
        "optimizer = AdamW(params=model.parameters(), lr=3e-5)\n",
        "\n",
        "# Set up the learning rate scheduler\n",
        "lr_scheduler = get_scheduler(name=\"linear\", \n",
        "                             optimizer=optimizer, \n",
        "                             num_warmup_steps=0, \n",
        "                             num_training_steps=num_training_steps)\n",
        "\n",
        "print(f'Number of the training steps: {num_training_steps}')"
      ]
    },
    {
      "cell_type": "code",
      "execution_count": null,
      "metadata": {
        "outputId": "b078b0f0-efc8-4287-f041-316cf798562b",
        "id": "c_ZeOmf__7Ia"
      },
      "outputs": [
        {
          "name": "stdout",
          "output_type": "stream",
          "text": [
            "cuda\n"
          ]
        }
      ],
      "source": [
        "# Use GPU if it is available\n",
        "device = torch.device(\"cuda\") if torch.cuda.is_available() else torch.device(\"cpu\")\n",
        "model.to(device)\n",
        "print(device)"
      ]
    },
    {
      "cell_type": "code",
      "execution_count": null,
      "metadata": {
        "outputId": "f6dbdd4c-66ad-481b-ac42-c09f734b0886",
        "id": "YmjRADEe_7Ia"
      },
      "outputs": [
        {
          "name": "stderr",
          "output_type": "stream",
          "text": [
            " 20%|██        | 258/1290 [02:05<06:31,  2.64it/s]"
          ]
        },
        {
          "name": "stdout",
          "output_type": "stream",
          "text": [
            "Epoch: 1: {'recall': {'recall': 0.6942891859052248}, 'precision': {'precision': 0.6996470175668906}, 'f1': {'f1': 0.6948410849999913}, 'accuracy': {'accuracy': 0.6942891859052248}}\n"
          ]
        },
        {
          "name": "stderr",
          "output_type": "stream",
          "text": [
            " 40%|████      | 516/1290 [04:16<04:55,  2.62it/s]"
          ]
        },
        {
          "name": "stdout",
          "output_type": "stream",
          "text": [
            "Epoch: 2: {'recall': {'recall': 0.7285540704738761}, 'precision': {'precision': 0.7380199443649433}, 'f1': {'f1': 0.7287575781882405}, 'accuracy': {'accuracy': 0.7285540704738761}}\n"
          ]
        },
        {
          "name": "stderr",
          "output_type": "stream",
          "text": [
            " 60%|██████    | 774/1290 [06:26<03:17,  2.62it/s]"
          ]
        },
        {
          "name": "stdout",
          "output_type": "stream",
          "text": [
            "Epoch: 3: {'recall': {'recall': 0.732442284325638}, 'precision': {'precision': 0.7381027544557097}, 'f1': {'f1': 0.7339154430399957}, 'accuracy': {'accuracy': 0.732442284325638}}\n"
          ]
        },
        {
          "name": "stderr",
          "output_type": "stream",
          "text": [
            " 80%|████████  | 1032/1290 [08:46<01:38,  2.61it/s]"
          ]
        },
        {
          "name": "stdout",
          "output_type": "stream",
          "text": [
            "Epoch: 4: {'recall': {'recall': 0.740947752126367}, 'precision': {'precision': 0.7453086324837828}, 'f1': {'f1': 0.741729210924675}, 'accuracy': {'accuracy': 0.740947752126367}}\n"
          ]
        },
        {
          "name": "stderr",
          "output_type": "stream",
          "text": [
            "100%|██████████| 1290/1290 [12:03<00:00,  1.69it/s]"
          ]
        },
        {
          "name": "stdout",
          "output_type": "stream",
          "text": [
            "Epoch: 5: {'recall': {'recall': 0.7407047387606318}, 'precision': {'precision': 0.7432819122312416}, 'f1': {'f1': 0.7414850695279216}, 'accuracy': {'accuracy': 0.7407047387606318}}\n"
          ]
        },
        {
          "data": {
            "image/png": "[encoded data removed]",
            "text/plain": [
              "<Figure size 1000x700 with 1 Axes>"
            ]
          },
          "metadata": {},
          "output_type": "display_data"
        }
      ],
      "source": [
        "recall_metric = evaluate.load('recall')\n",
        "precision_metric = evaluate.load('precision')\n",
        "f1_metric = evaluate.load('f1')\n",
        "accuracy_metric = evaluate.load('accuracy')\n",
        "\n",
        "# Set the progress bar\n",
        "progress_bar = tqdm(range(num_training_steps))\n",
        "\n",
        "best_accuracy = 0\n",
        "prec_list_to_plot = []\n",
        "rec_list_to_plot = []\n",
        "f1_list_to_plot = []\n",
        "acc_list_to_plot = []\n",
        "\n",
        "# Loop through the epochs\n",
        "for epoch in range(1, num_epochs + 1):\n",
        "    # Tells the model that we are training the model\n",
        "    model.train()\n",
        "    # Loop through the batches\n",
        "    for batch in train_dataloader:\n",
        "        # Get the batch\n",
        "        batch = {k: v.to(device) for k, v in batch.items()}\n",
        "        # Compute the model output for the batch\n",
        "        outputs = model(**batch)\n",
        "        # Loss computed by the model\n",
        "        loss = outputs.loss\n",
        "        # backpropagates the error to calculate gradients\n",
        "        loss.backward()\n",
        "        # Update the model weights\n",
        "        optimizer.step()\n",
        "        # Learning rate scheduler\n",
        "        lr_scheduler.step()\n",
        "        # Clear the gradients\n",
        "        optimizer.zero_grad()\n",
        "        # Update the progress bar\n",
        "        progress_bar.update(1)\n",
        "\n",
        "    # Evaluation\n",
        "    model.eval()\n",
        "    for batch in val_dataloader:\n",
        "        batch = {k: v.to(device) for k, v in batch.items()}\n",
        "        with torch.no_grad():\n",
        "          outputs = model(**batch)\n",
        "\n",
        "        logits = outputs.logits\n",
        "        predictions = torch.argmax(logits, dim=-1)\n",
        "\n",
        "        recall_metric.add_batch(predictions=predictions, references=batch['labels'])\n",
        "        precision_metric.add_batch(predictions=predictions, references=batch['labels'])\n",
        "        f1_metric.add_batch(predictions=predictions, references=batch['labels'])\n",
        "        accuracy_metric.add_batch(predictions=predictions, references=batch['labels'])\n",
        "    \n",
        "    results = {\n",
        "        'recall': recall_metric.compute(average='weighted'),\n",
        "        'precision': precision_metric.compute(average='weighted'),\n",
        "        'f1': f1_metric.compute(average='weighted'),\n",
        "        'accuracy': accuracy_metric.compute()\n",
        "    }\n",
        "    \n",
        "    print(\n",
        "        f'Epoch: {epoch}:',\n",
        "        {\n",
        "            key: value\n",
        "            for key, value in results.items()\n",
        "        },\n",
        "    )\n",
        "\n",
        "    prec_list_to_plot.append(results['recall'])\n",
        "    rec_list_to_plot.append(results['precision'])\n",
        "    f1_list_to_plot.append(results['f1'])\n",
        "    acc_list_to_plot.append(results['accuracy']['accuracy'])\n",
        "\n",
        "    if results['accuracy']['accuracy'] > best_accuracy:\n",
        "        best_accuracy = results['accuracy']['accuracy']\n",
        "        model.save_pretrained('best_model')\n",
        "    \n",
        "model.save_pretrained('final_model')\n",
        "\n",
        "# accuracy plots\n",
        "plt.figure(figsize=(10, 7))\n",
        "plt.plot(\n",
        "    acc_list_to_plot, color='blue',\n",
        "    linestyle='-', label='validataion accuracy'\n",
        ")\n",
        "plt.xlabel('Epochs')\n",
        "plt.ylabel('Accuracy')\n",
        "plt.legend()\n",
        "plt.savefig('accuracy.png')"
      ]
    },
    {
      "cell_type": "code",
      "execution_count": null,
      "metadata": {
        "outputId": "aee6e9c8-569c-43e9-f660-8efb9bff203f",
        "id": "64dSjB0O_7Ib"
      },
      "outputs": [
        {
          "name": "stderr",
          "output_type": "stream",
          "text": [
            "\n",
            "100%|██████████| 1290/1290 [37:50<00:00,  1.76s/it]\n",
            "\n",
            "  3%|▎         | 1/33 [00:00<00:14,  2.21it/s]\u001b[A\n",
            "  6%|▌         | 2/33 [00:00<00:08,  3.46it/s]\u001b[A\n",
            "  9%|▉         | 3/33 [00:00<00:07,  4.26it/s]\u001b[A\n",
            " 12%|█▏        | 4/33 [00:00<00:06,  4.77it/s]\u001b[A\n",
            " 15%|█▌        | 5/33 [00:01<00:05,  5.11it/s]\u001b[A\n",
            " 18%|█▊        | 6/33 [00:01<00:05,  5.35it/s]\u001b[A\n",
            " 21%|██        | 7/33 [00:01<00:04,  5.50it/s]\u001b[A\n",
            " 24%|██▍       | 8/33 [00:01<00:04,  5.61it/s]\u001b[A\n",
            " 27%|██▋       | 9/33 [00:01<00:04,  5.70it/s]\u001b[A\n",
            " 30%|███       | 10/33 [00:01<00:04,  5.68it/s]\u001b[A\n",
            " 33%|███▎      | 11/33 [00:02<00:03,  5.73it/s]\u001b[A\n",
            " 36%|███▋      | 12/33 [00:02<00:03,  5.77it/s]\u001b[A\n",
            " 39%|███▉      | 13/33 [00:02<00:03,  5.80it/s]\u001b[A\n",
            " 42%|████▏     | 14/33 [00:02<00:03,  5.79it/s]\u001b[A\n",
            " 45%|████▌     | 15/33 [00:02<00:03,  5.81it/s]\u001b[A\n",
            " 48%|████▊     | 16/33 [00:03<00:02,  5.82it/s]\u001b[A\n",
            " 52%|█████▏    | 17/33 [00:03<00:02,  5.83it/s]\u001b[A\n",
            " 55%|█████▍    | 18/33 [00:03<00:02,  5.80it/s]\u001b[A\n",
            " 58%|█████▊    | 19/33 [00:03<00:02,  5.79it/s]\u001b[A\n",
            " 61%|██████    | 20/33 [00:03<00:02,  5.80it/s]\u001b[A\n",
            " 64%|██████▎   | 21/33 [00:03<00:02,  5.82it/s]\u001b[A\n",
            " 67%|██████▋   | 22/33 [00:04<00:01,  5.83it/s]\u001b[A\n",
            " 70%|██████▉   | 23/33 [00:04<00:01,  5.82it/s]\u001b[A\n",
            " 73%|███████▎  | 24/33 [00:04<00:01,  5.84it/s]\u001b[A\n",
            " 76%|███████▌  | 25/33 [00:04<00:01,  5.83it/s]\u001b[A\n",
            " 79%|███████▉  | 26/33 [00:04<00:01,  5.81it/s]\u001b[A\n",
            " 82%|████████▏ | 27/33 [00:04<00:01,  5.79it/s]\u001b[A\n",
            " 85%|████████▍ | 28/33 [00:05<00:00,  5.79it/s]\u001b[A\n",
            " 88%|████████▊ | 29/33 [00:05<00:00,  5.83it/s]\u001b[A\n",
            " 91%|█████████ | 30/33 [00:05<00:00,  5.83it/s]\u001b[A\n",
            " 94%|█████████▍| 31/33 [00:05<00:00,  5.84it/s]\u001b[A\n",
            " 97%|█████████▋| 32/33 [00:05<00:00,  5.83it/s]\u001b[A"
          ]
        },
        {
          "name": "stdout",
          "output_type": "stream",
          "text": [
            "{'recall': {'recall': 0.7405247813411079}, 'precision': {'precision': 0.742087036309162}, 'f1': {'f1': 0.740972533116875}, 'accuracy': {'accuracy': 0.7405247813411079}}\n"
          ]
        }
      ],
      "source": [
        "progress_bar = tqdm(range(len(test_dataloader)))\n",
        "\n",
        "# Evaluation\n",
        "model.eval()\n",
        "for batch in test_dataloader:\n",
        "    batch = {k: v.to(device) for k, v in batch.items()}\n",
        "    with torch.no_grad():\n",
        "        outputs = model(**batch)\n",
        "\n",
        "    logits = outputs.logits\n",
        "    predictions = torch.argmax(logits, dim=-1)\n",
        "        \n",
        "    recall_metric.add_batch(predictions=predictions, references=batch['labels'])\n",
        "    precision_metric.add_batch(predictions=predictions, references=batch['labels'])\n",
        "    f1_metric.add_batch(predictions=predictions, references=batch['labels'])\n",
        "    accuracy_metric.add_batch(predictions=predictions, references=batch['labels'])\n",
        "    progress_bar.update(1)\n",
        "    \n",
        "results = {\n",
        "        'recall': recall_metric.compute(average='weighted'),\n",
        "        'precision': precision_metric.compute(average='weighted'),\n",
        "        'f1': f1_metric.compute(average='weighted'),\n",
        "        'accuracy': accuracy_metric.compute()\n",
        "    }\n",
        "    \n",
        "print(\n",
        "        {\n",
        "            key: value\n",
        "            for key, value in results.items()\n",
        "        },\n",
        "    )"
      ]
    },
    {
      "cell_type": "code",
      "execution_count": null,
      "metadata": {
        "outputId": "2f277505-6492-414b-f4fd-241ce29ff684",
        "id": "ZLL0ViQ9_7Ib"
      },
      "outputs": [
        {
          "data": {
            "text/plain": [
              "{'input_ids': torch.Size([128, 40]),\n",
              " 'token_type_ids': torch.Size([128, 40]),\n",
              " 'attention_mask': torch.Size([128, 40])}"
            ]
          },
          "execution_count": 34,
          "metadata": {},
          "output_type": "execute_result"
        }
      ],
      "source": [
        "# inspect the batch\n",
        "for batch in subm_dataloader:\n",
        "  break\n",
        "{k: v.shape for k, v in batch.items()}"
      ]
    },
    {
      "cell_type": "code",
      "execution_count": null,
      "metadata": {
        "outputId": "c377df75-c448-4019-f044-2f97811eeb80",
        "id": "wXZv4sD1_7Ic"
      },
      "outputs": [
        {
          "name": "stderr",
          "output_type": "stream",
          "text": [
            "100%|██████████| 33/33 [00:13<00:00,  2.38it/s]\n",
            "100%|██████████| 30/30 [00:04<00:00,  6.30it/s]"
          ]
        }
      ],
      "source": [
        "progress_bar = tqdm(range(len(subm_dataloader)))\n",
        "# Submission\n",
        "model.eval()\n",
        "submissions = []\n",
        "for batch in subm_dataloader:\n",
        "    batch = {k: v.to(device) for k, v in batch.items()}\n",
        "    with torch.no_grad():\n",
        "        outputs = model(**batch)\n",
        "\n",
        "    logits = outputs.logits\n",
        "    predictions = torch.argmax(logits, dim=-1)\n",
        "    submissions.append(predictions)\n",
        "    progress_bar.update(1)"
      ]
    },
    {
      "cell_type": "code",
      "execution_count": null,
      "metadata": {
        "outputId": "5c425da1-f0de-42be-be97-2e7f8ecc06b6",
        "id": "cOSpx9HM_7Ic"
      },
      "outputs": [
        {
          "data": {
            "text/html": [
              "<div>\n",
              "<style scoped>\n",
              "    .dataframe tbody tr th:only-of-type {\n",
              "        vertical-align: middle;\n",
              "    }\n",
              "\n",
              "    .dataframe tbody tr th {\n",
              "        vertical-align: top;\n",
              "    }\n",
              "\n",
              "    .dataframe thead th {\n",
              "        text-align: right;\n",
              "    }\n",
              "</style>\n",
              "<table border=\"1\" class=\"dataframe\">\n",
              "  <thead>\n",
              "    <tr style=\"text-align: right;\">\n",
              "      <th></th>\n",
              "      <th>id</th>\n",
              "      <th>Sentiment</th>\n",
              "    </tr>\n",
              "  </thead>\n",
              "  <tbody>\n",
              "    <tr>\n",
              "      <th>0</th>\n",
              "      <td>787bc85b-20d4-46d8-84a0-562a2527f684</td>\n",
              "      <td>Negative</td>\n",
              "    </tr>\n",
              "    <tr>\n",
              "      <th>1</th>\n",
              "      <td>17e934cd-ba94-4d4f-9ac0-ead202abe241</td>\n",
              "      <td>Positive</td>\n",
              "    </tr>\n",
              "    <tr>\n",
              "      <th>2</th>\n",
              "      <td>5914534b-2b0f-4de8-bb8a-e25587697e0d</td>\n",
              "      <td>Extremely Positive</td>\n",
              "    </tr>\n",
              "    <tr>\n",
              "      <th>3</th>\n",
              "      <td>cdf06cfe-29ae-48ee-ac6d-be448103ba45</td>\n",
              "      <td>Extremely Negative</td>\n",
              "    </tr>\n",
              "    <tr>\n",
              "      <th>4</th>\n",
              "      <td>aff63979-0256-4fb9-a2d9-86a3d3ca5470</td>\n",
              "      <td>Neutral</td>\n",
              "    </tr>\n",
              "  </tbody>\n",
              "</table>\n",
              "</div>"
            ],
            "text/plain": [
              "                                     id           Sentiment\n",
              "0  787bc85b-20d4-46d8-84a0-562a2527f684            Negative\n",
              "1  17e934cd-ba94-4d4f-9ac0-ead202abe241            Positive\n",
              "2  5914534b-2b0f-4de8-bb8a-e25587697e0d  Extremely Positive\n",
              "3  cdf06cfe-29ae-48ee-ac6d-be448103ba45  Extremely Negative\n",
              "4  aff63979-0256-4fb9-a2d9-86a3d3ca5470             Neutral"
            ]
          },
          "execution_count": 44,
          "metadata": {},
          "output_type": "execute_result"
        }
      ],
      "source": [
        "submission = pd.read_csv(filepath_or_buffer='https://raw.githubusercontent.com/wizard339/education/main/misis/nlp/text_classification/sample_submission.csv')\n",
        "submission['Sentiment'] = le.inverse_transform(torch.cat(submissions).cpu())\n",
        "submission.head()"
      ]
    },
    {
      "cell_type": "code",
      "execution_count": null,
      "metadata": {
        "id": "sYeaVZgj_7Ic"
      },
      "outputs": [],
      "source": [
        "# saving sabmission to '.csv' file\n",
        "submission.to_csv('submission_bert.csv', index=False, header=True)"
      ]
    }
  ],
  "metadata": {
    "colab": {
      "provenance": [],
      "include_colab_link": true
    },
    "kernelspec": {
      "display_name": "Python 3 (ipykernel)",
      "language": "python",
      "name": "python3"
    },
    "language_info": {
      "codemirror_mode": {
        "name": "ipython",
        "version": 3
      },
      "file_extension": ".py",
      "mimetype": "text/x-python",
      "name": "python",
      "nbconvert_exporter": "python",
      "pygments_lexer": "ipython3",
      "version": "3.9.16"
    },
    "widgets": {
      "application/vnd.jupyter.widget-state+json": {
        "00b0f8d5d7ca471d9bc92bc1cff4de4c": {
          "model_module": "@jupyter-widgets/base",
          "model_module_version": "1.2.0",
          "model_name": "LayoutModel",
          "state": {
            "_model_module": "@jupyter-widgets/base",
            "_model_module_version": "1.2.0",
            "_model_name": "LayoutModel",
            "_view_count": null,
            "_view_module": "@jupyter-widgets/base",
            "_view_module_version": "1.2.0",
            "_view_name": "LayoutView",
            "align_content": null,
            "align_items": null,
            "align_self": null,
            "border": null,
            "bottom": null,
            "display": null,
            "flex": null,
            "flex_flow": null,
            "grid_area": null,
            "grid_auto_columns": null,
            "grid_auto_flow": null,
            "grid_auto_rows": null,
            "grid_column": null,
            "grid_gap": null,
            "grid_row": null,
            "grid_template_areas": null,
            "grid_template_columns": null,
            "grid_template_rows": null,
            "height": null,
            "justify_content": null,
            "justify_items": null,
            "left": null,
            "margin": null,
            "max_height": null,
            "max_width": null,
            "min_height": null,
            "min_width": null,
            "object_fit": null,
            "object_position": null,
            "order": null,
            "overflow": null,
            "overflow_x": null,
            "overflow_y": null,
            "padding": null,
            "right": null,
            "top": null,
            "visibility": null,
            "width": null
          }
        },
        "01be3734cee04789932f5b98015274ab": {
          "model_module": "@jupyter-widgets/base",
          "model_module_version": "1.2.0",
          "model_name": "LayoutModel",
          "state": {
            "_model_module": "@jupyter-widgets/base",
            "_model_module_version": "1.2.0",
            "_model_name": "LayoutModel",
            "_view_count": null,
            "_view_module": "@jupyter-widgets/base",
            "_view_module_version": "1.2.0",
            "_view_name": "LayoutView",
            "align_content": null,
            "align_items": null,
            "align_self": null,
            "border": null,
            "bottom": null,
            "display": null,
            "flex": null,
            "flex_flow": null,
            "grid_area": null,
            "grid_auto_columns": null,
            "grid_auto_flow": null,
            "grid_auto_rows": null,
            "grid_column": null,
            "grid_gap": null,
            "grid_row": null,
            "grid_template_areas": null,
            "grid_template_columns": null,
            "grid_template_rows": null,
            "height": null,
            "justify_content": null,
            "justify_items": null,
            "left": null,
            "margin": null,
            "max_height": null,
            "max_width": null,
            "min_height": null,
            "min_width": null,
            "object_fit": null,
            "object_position": null,
            "order": null,
            "overflow": null,
            "overflow_x": null,
            "overflow_y": null,
            "padding": null,
            "right": null,
            "top": null,
            "visibility": null,
            "width": null
          }
        },
        "02b041c262614a76add484340f4e831a": {
          "model_module": "@jupyter-widgets/base",
          "model_module_version": "1.2.0",
          "model_name": "LayoutModel",
          "state": {
            "_model_module": "@jupyter-widgets/base",
            "_model_module_version": "1.2.0",
            "_model_name": "LayoutModel",
            "_view_count": null,
            "_view_module": "@jupyter-widgets/base",
            "_view_module_version": "1.2.0",
            "_view_name": "LayoutView",
            "align_content": null,
            "align_items": null,
            "align_self": null,
            "border": null,
            "bottom": null,
            "display": null,
            "flex": null,
            "flex_flow": null,
            "grid_area": null,
            "grid_auto_columns": null,
            "grid_auto_flow": null,
            "grid_auto_rows": null,
            "grid_column": null,
            "grid_gap": null,
            "grid_row": null,
            "grid_template_areas": null,
            "grid_template_columns": null,
            "grid_template_rows": null,
            "height": null,
            "justify_content": null,
            "justify_items": null,
            "left": null,
            "margin": null,
            "max_height": null,
            "max_width": null,
            "min_height": null,
            "min_width": null,
            "object_fit": null,
            "object_position": null,
            "order": null,
            "overflow": null,
            "overflow_x": null,
            "overflow_y": null,
            "padding": null,
            "right": null,
            "top": null,
            "visibility": null,
            "width": null
          }
        },
        "03da28e1776c468a92855184ff123a19": {
          "model_module": "@jupyter-widgets/base",
          "model_module_version": "1.2.0",
          "model_name": "LayoutModel",
          "state": {
            "_model_module": "@jupyter-widgets/base",
            "_model_module_version": "1.2.0",
            "_model_name": "LayoutModel",
            "_view_count": null,
            "_view_module": "@jupyter-widgets/base",
            "_view_module_version": "1.2.0",
            "_view_name": "LayoutView",
            "align_content": null,
            "align_items": null,
            "align_self": null,
            "border": null,
            "bottom": null,
            "display": null,
            "flex": null,
            "flex_flow": null,
            "grid_area": null,
            "grid_auto_columns": null,
            "grid_auto_flow": null,
            "grid_auto_rows": null,
            "grid_column": null,
            "grid_gap": null,
            "grid_row": null,
            "grid_template_areas": null,
            "grid_template_columns": null,
            "grid_template_rows": null,
            "height": null,
            "justify_content": null,
            "justify_items": null,
            "left": null,
            "margin": null,
            "max_height": null,
            "max_width": null,
            "min_height": null,
            "min_width": null,
            "object_fit": null,
            "object_position": null,
            "order": null,
            "overflow": null,
            "overflow_x": null,
            "overflow_y": null,
            "padding": null,
            "right": null,
            "top": null,
            "visibility": null,
            "width": null
          }
        },
        "03ddcbb8e4f44841916433e0f95051b8": {
          "model_module": "@jupyter-widgets/controls",
          "model_module_version": "1.5.0",
          "model_name": "HTMLModel",
          "state": {
            "_dom_classes": [],
            "_model_module": "@jupyter-widgets/controls",
            "_model_module_version": "1.5.0",
            "_model_name": "HTMLModel",
            "_view_count": null,
            "_view_module": "@jupyter-widgets/controls",
            "_view_module_version": "1.5.0",
            "_view_name": "HTMLView",
            "description": "",
            "description_tooltip": null,
            "layout": "IPY_MODEL_785fb0702c85421b93d2b5be78a545de",
            "placeholder": "​",
            "style": "IPY_MODEL_8b8f6151000e4aa3995a884a665e1169",
            "value": "  0%"
          }
        },
        "05683e6966044eef87a69142ef5cf6ca": {
          "model_module": "@jupyter-widgets/controls",
          "model_module_version": "1.5.0",
          "model_name": "HBoxModel",
          "state": {
            "_dom_classes": [],
            "_model_module": "@jupyter-widgets/controls",
            "_model_module_version": "1.5.0",
            "_model_name": "HBoxModel",
            "_view_count": null,
            "_view_module": "@jupyter-widgets/controls",
            "_view_module_version": "1.5.0",
            "_view_name": "HBoxView",
            "box_style": "",
            "children": [
              "IPY_MODEL_43ac341f3fe845a2815253de629c4c56",
              "IPY_MODEL_f62a376a398a42eca6f3746a438b918f",
              "IPY_MODEL_41bd2d9748a7499da3da6b703c33ec30"
            ],
            "layout": "IPY_MODEL_33ee5f0c6a324bb4a253cdfc018a5860"
          }
        },
        "0d9569542f4a41b4b917362efdf68649": {
          "model_module": "@jupyter-widgets/controls",
          "model_module_version": "1.5.0",
          "model_name": "HBoxModel",
          "state": {
            "_dom_classes": [],
            "_model_module": "@jupyter-widgets/controls",
            "_model_module_version": "1.5.0",
            "_model_name": "HBoxModel",
            "_view_count": null,
            "_view_module": "@jupyter-widgets/controls",
            "_view_module_version": "1.5.0",
            "_view_name": "HBoxView",
            "box_style": "",
            "children": [
              "IPY_MODEL_788489aeef674851a64f00814345537e",
              "IPY_MODEL_3a77c9756d9745f39c35bf2816582805",
              "IPY_MODEL_18ec069293574d538dc00906ed675dee"
            ],
            "layout": "IPY_MODEL_cb331475a1064a629285fca3d9b1be50"
          }
        },
        "0f77724abe3949fe938c210900543ef9": {
          "model_module": "@jupyter-widgets/controls",
          "model_module_version": "1.5.0",
          "model_name": "DescriptionStyleModel",
          "state": {
            "_model_module": "@jupyter-widgets/controls",
            "_model_module_version": "1.5.0",
            "_model_name": "DescriptionStyleModel",
            "_view_count": null,
            "_view_module": "@jupyter-widgets/base",
            "_view_module_version": "1.2.0",
            "_view_name": "StyleView",
            "description_width": ""
          }
        },
        "10b3048e157747b9b53b634f252fe443": {
          "model_module": "@jupyter-widgets/controls",
          "model_module_version": "1.5.0",
          "model_name": "DescriptionStyleModel",
          "state": {
            "_model_module": "@jupyter-widgets/controls",
            "_model_module_version": "1.5.0",
            "_model_name": "DescriptionStyleModel",
            "_view_count": null,
            "_view_module": "@jupyter-widgets/base",
            "_view_module_version": "1.2.0",
            "_view_name": "StyleView",
            "description_width": ""
          }
        },
        "11078d7279284b7f9401384c73908ed2": {
          "model_module": "@jupyter-widgets/base",
          "model_module_version": "1.2.0",
          "model_name": "LayoutModel",
          "state": {
            "_model_module": "@jupyter-widgets/base",
            "_model_module_version": "1.2.0",
            "_model_name": "LayoutModel",
            "_view_count": null,
            "_view_module": "@jupyter-widgets/base",
            "_view_module_version": "1.2.0",
            "_view_name": "LayoutView",
            "align_content": null,
            "align_items": null,
            "align_self": null,
            "border": null,
            "bottom": null,
            "display": null,
            "flex": null,
            "flex_flow": null,
            "grid_area": null,
            "grid_auto_columns": null,
            "grid_auto_flow": null,
            "grid_auto_rows": null,
            "grid_column": null,
            "grid_gap": null,
            "grid_row": null,
            "grid_template_areas": null,
            "grid_template_columns": null,
            "grid_template_rows": null,
            "height": null,
            "justify_content": null,
            "justify_items": null,
            "left": null,
            "margin": null,
            "max_height": null,
            "max_width": null,
            "min_height": null,
            "min_width": null,
            "object_fit": null,
            "object_position": null,
            "order": null,
            "overflow": null,
            "overflow_x": null,
            "overflow_y": null,
            "padding": null,
            "right": null,
            "top": null,
            "visibility": null,
            "width": null
          }
        },
        "18ec069293574d538dc00906ed675dee": {
          "model_module": "@jupyter-widgets/controls",
          "model_module_version": "1.5.0",
          "model_name": "HTMLModel",
          "state": {
            "_dom_classes": [],
            "_model_module": "@jupyter-widgets/controls",
            "_model_module_version": "1.5.0",
            "_model_name": "HTMLModel",
            "_view_count": null,
            "_view_module": "@jupyter-widgets/controls",
            "_view_module_version": "1.5.0",
            "_view_name": "HTMLView",
            "description": "",
            "description_tooltip": null,
            "layout": "IPY_MODEL_d4901d4b5db7495594ddde1fdd5f7217",
            "placeholder": "​",
            "style": "IPY_MODEL_cc7703f87f994755b884da02dfb7cdba",
            "value": " 213k/213k [00:00&lt;00:00, 2.29MB/s]"
          }
        },
        "1d4d5a503d1c4112b580f0e0216d2719": {
          "model_module": "@jupyter-widgets/controls",
          "model_module_version": "1.5.0",
          "model_name": "FloatProgressModel",
          "state": {
            "_dom_classes": [],
            "_model_module": "@jupyter-widgets/controls",
            "_model_module_version": "1.5.0",
            "_model_name": "FloatProgressModel",
            "_view_count": null,
            "_view_module": "@jupyter-widgets/controls",
            "_view_module_version": "1.5.0",
            "_view_name": "ProgressView",
            "bar_style": "success",
            "description": "",
            "description_tooltip": null,
            "layout": "IPY_MODEL_f530a311fa2b4699be8540ad732105df",
            "max": 435779157,
            "min": 0,
            "orientation": "horizontal",
            "style": "IPY_MODEL_eea27ce9da184779809182e776ea98d4",
            "value": 435779157
          }
        },
        "244bec7298844a8ba1ab7115183292cb": {
          "model_module": "@jupyter-widgets/base",
          "model_module_version": "1.2.0",
          "model_name": "LayoutModel",
          "state": {
            "_model_module": "@jupyter-widgets/base",
            "_model_module_version": "1.2.0",
            "_model_name": "LayoutModel",
            "_view_count": null,
            "_view_module": "@jupyter-widgets/base",
            "_view_module_version": "1.2.0",
            "_view_name": "LayoutView",
            "align_content": null,
            "align_items": null,
            "align_self": null,
            "border": null,
            "bottom": null,
            "display": null,
            "flex": null,
            "flex_flow": null,
            "grid_area": null,
            "grid_auto_columns": null,
            "grid_auto_flow": null,
            "grid_auto_rows": null,
            "grid_column": null,
            "grid_gap": null,
            "grid_row": null,
            "grid_template_areas": null,
            "grid_template_columns": null,
            "grid_template_rows": null,
            "height": null,
            "justify_content": null,
            "justify_items": null,
            "left": null,
            "margin": null,
            "max_height": null,
            "max_width": null,
            "min_height": null,
            "min_width": null,
            "object_fit": null,
            "object_position": null,
            "order": null,
            "overflow": null,
            "overflow_x": null,
            "overflow_y": null,
            "padding": null,
            "right": null,
            "top": null,
            "visibility": null,
            "width": null
          }
        },
        "25dfb21fa84b45b08152bcb3c0e79f79": {
          "model_module": "@jupyter-widgets/controls",
          "model_module_version": "1.5.0",
          "model_name": "DescriptionStyleModel",
          "state": {
            "_model_module": "@jupyter-widgets/controls",
            "_model_module_version": "1.5.0",
            "_model_name": "DescriptionStyleModel",
            "_view_count": null,
            "_view_module": "@jupyter-widgets/base",
            "_view_module_version": "1.2.0",
            "_view_name": "StyleView",
            "description_width": ""
          }
        },
        "2610078c70104950857c354455ea115d": {
          "model_module": "@jupyter-widgets/base",
          "model_module_version": "1.2.0",
          "model_name": "LayoutModel",
          "state": {
            "_model_module": "@jupyter-widgets/base",
            "_model_module_version": "1.2.0",
            "_model_name": "LayoutModel",
            "_view_count": null,
            "_view_module": "@jupyter-widgets/base",
            "_view_module_version": "1.2.0",
            "_view_name": "LayoutView",
            "align_content": null,
            "align_items": null,
            "align_self": null,
            "border": null,
            "bottom": null,
            "display": null,
            "flex": null,
            "flex_flow": null,
            "grid_area": null,
            "grid_auto_columns": null,
            "grid_auto_flow": null,
            "grid_auto_rows": null,
            "grid_column": null,
            "grid_gap": null,
            "grid_row": null,
            "grid_template_areas": null,
            "grid_template_columns": null,
            "grid_template_rows": null,
            "height": null,
            "justify_content": null,
            "justify_items": null,
            "left": null,
            "margin": null,
            "max_height": null,
            "max_width": null,
            "min_height": null,
            "min_width": null,
            "object_fit": null,
            "object_position": null,
            "order": null,
            "overflow": null,
            "overflow_x": null,
            "overflow_y": null,
            "padding": null,
            "right": null,
            "top": null,
            "visibility": "hidden",
            "width": null
          }
        },
        "28d1cb2de94344f4bb6982ac3cc166a3": {
          "model_module": "@jupyter-widgets/base",
          "model_module_version": "1.2.0",
          "model_name": "LayoutModel",
          "state": {
            "_model_module": "@jupyter-widgets/base",
            "_model_module_version": "1.2.0",
            "_model_name": "LayoutModel",
            "_view_count": null,
            "_view_module": "@jupyter-widgets/base",
            "_view_module_version": "1.2.0",
            "_view_name": "LayoutView",
            "align_content": null,
            "align_items": null,
            "align_self": null,
            "border": null,
            "bottom": null,
            "display": null,
            "flex": null,
            "flex_flow": null,
            "grid_area": null,
            "grid_auto_columns": null,
            "grid_auto_flow": null,
            "grid_auto_rows": null,
            "grid_column": null,
            "grid_gap": null,
            "grid_row": null,
            "grid_template_areas": null,
            "grid_template_columns": null,
            "grid_template_rows": null,
            "height": null,
            "justify_content": null,
            "justify_items": null,
            "left": null,
            "margin": null,
            "max_height": null,
            "max_width": null,
            "min_height": null,
            "min_width": null,
            "object_fit": null,
            "object_position": null,
            "order": null,
            "overflow": null,
            "overflow_x": null,
            "overflow_y": null,
            "padding": null,
            "right": null,
            "top": null,
            "visibility": null,
            "width": null
          }
        },
        "2aeac73d31564385af6aca84bc935d92": {
          "model_module": "@jupyter-widgets/controls",
          "model_module_version": "1.5.0",
          "model_name": "HBoxModel",
          "state": {
            "_dom_classes": [],
            "_model_module": "@jupyter-widgets/controls",
            "_model_module_version": "1.5.0",
            "_model_name": "HBoxModel",
            "_view_count": null,
            "_view_module": "@jupyter-widgets/controls",
            "_view_module_version": "1.5.0",
            "_view_name": "HBoxView",
            "box_style": "",
            "children": [
              "IPY_MODEL_4ee2cdda336241ba85632a1b65595593",
              "IPY_MODEL_53a60d090b1147518816ef0b81108d50",
              "IPY_MODEL_990bebcafdc84a16ace079c3c2e8baec"
            ],
            "layout": "IPY_MODEL_8a6717b6ef9e48e4b29eb4b292a85898"
          }
        },
        "2aefcb8581aa4302a58a54477a33cee6": {
          "model_module": "@jupyter-widgets/controls",
          "model_module_version": "1.5.0",
          "model_name": "HBoxModel",
          "state": {
            "_dom_classes": [],
            "_model_module": "@jupyter-widgets/controls",
            "_model_module_version": "1.5.0",
            "_model_name": "HBoxModel",
            "_view_count": null,
            "_view_module": "@jupyter-widgets/controls",
            "_view_module_version": "1.5.0",
            "_view_name": "HBoxView",
            "box_style": "",
            "children": [
              "IPY_MODEL_66c0f031daf54ebbbf9e10f2ccf3a7f5",
              "IPY_MODEL_701a99fda5954142a5004865ea93b68e",
              "IPY_MODEL_65ea8086607b4bd3b547045bc55db824"
            ],
            "layout": "IPY_MODEL_02b041c262614a76add484340f4e831a"
          }
        },
        "33d8e9ce0e9e444aa98d820a6f85b75a": {
          "model_module": "@jupyter-widgets/controls",
          "model_module_version": "1.5.0",
          "model_name": "FloatProgressModel",
          "state": {
            "_dom_classes": [],
            "_model_module": "@jupyter-widgets/controls",
            "_model_module_version": "1.5.0",
            "_model_name": "FloatProgressModel",
            "_view_count": null,
            "_view_module": "@jupyter-widgets/controls",
            "_view_module_version": "1.5.0",
            "_view_name": "ProgressView",
            "bar_style": "success",
            "description": "",
            "description_tooltip": null,
            "layout": "IPY_MODEL_c7507946b59b409cad4b06429cd0a53d",
            "max": 29,
            "min": 0,
            "orientation": "horizontal",
            "style": "IPY_MODEL_48e9739a1f36426884e2c4c50d71891e",
            "value": 29
          }
        },
        "33ee5f0c6a324bb4a253cdfc018a5860": {
          "model_module": "@jupyter-widgets/base",
          "model_module_version": "1.2.0",
          "model_name": "LayoutModel",
          "state": {
            "_model_module": "@jupyter-widgets/base",
            "_model_module_version": "1.2.0",
            "_model_name": "LayoutModel",
            "_view_count": null,
            "_view_module": "@jupyter-widgets/base",
            "_view_module_version": "1.2.0",
            "_view_name": "LayoutView",
            "align_content": null,
            "align_items": null,
            "align_self": null,
            "border": null,
            "bottom": null,
            "display": null,
            "flex": null,
            "flex_flow": null,
            "grid_area": null,
            "grid_auto_columns": null,
            "grid_auto_flow": null,
            "grid_auto_rows": null,
            "grid_column": null,
            "grid_gap": null,
            "grid_row": null,
            "grid_template_areas": null,
            "grid_template_columns": null,
            "grid_template_rows": null,
            "height": null,
            "justify_content": null,
            "justify_items": null,
            "left": null,
            "margin": null,
            "max_height": null,
            "max_width": null,
            "min_height": null,
            "min_width": null,
            "object_fit": null,
            "object_position": null,
            "order": null,
            "overflow": null,
            "overflow_x": null,
            "overflow_y": null,
            "padding": null,
            "right": null,
            "top": null,
            "visibility": "hidden",
            "width": null
          }
        },
        "37e6e86114774422b8429a6258026eda": {
          "model_module": "@jupyter-widgets/controls",
          "model_module_version": "1.5.0",
          "model_name": "HTMLModel",
          "state": {
            "_dom_classes": [],
            "_model_module": "@jupyter-widgets/controls",
            "_model_module_version": "1.5.0",
            "_model_name": "HTMLModel",
            "_view_count": null,
            "_view_module": "@jupyter-widgets/controls",
            "_view_module_version": "1.5.0",
            "_view_name": "HTMLView",
            "description": "",
            "description_tooltip": null,
            "layout": "IPY_MODEL_f3ca911f7ed64a0abf5eae5beffc9cb1",
            "placeholder": "​",
            "style": "IPY_MODEL_4a815564fb4648cbb3e107aa35b24e6a",
            "value": "Map:  96%"
          }
        },
        "384c42da55cd47d0b3ad54cd417110d8": {
          "model_module": "@jupyter-widgets/base",
          "model_module_version": "1.2.0",
          "model_name": "LayoutModel",
          "state": {
            "_model_module": "@jupyter-widgets/base",
            "_model_module_version": "1.2.0",
            "_model_name": "LayoutModel",
            "_view_count": null,
            "_view_module": "@jupyter-widgets/base",
            "_view_module_version": "1.2.0",
            "_view_name": "LayoutView",
            "align_content": null,
            "align_items": null,
            "align_self": null,
            "border": null,
            "bottom": null,
            "display": null,
            "flex": null,
            "flex_flow": null,
            "grid_area": null,
            "grid_auto_columns": null,
            "grid_auto_flow": null,
            "grid_auto_rows": null,
            "grid_column": null,
            "grid_gap": null,
            "grid_row": null,
            "grid_template_areas": null,
            "grid_template_columns": null,
            "grid_template_rows": null,
            "height": null,
            "justify_content": null,
            "justify_items": null,
            "left": null,
            "margin": null,
            "max_height": null,
            "max_width": null,
            "min_height": null,
            "min_width": null,
            "object_fit": null,
            "object_position": null,
            "order": null,
            "overflow": null,
            "overflow_x": null,
            "overflow_y": null,
            "padding": null,
            "right": null,
            "top": null,
            "visibility": null,
            "width": null
          }
        },
        "3888745bd84a43b5b02279bbc36398d3": {
          "model_module": "@jupyter-widgets/controls",
          "model_module_version": "1.5.0",
          "model_name": "FloatProgressModel",
          "state": {
            "_dom_classes": [],
            "_model_module": "@jupyter-widgets/controls",
            "_model_module_version": "1.5.0",
            "_model_name": "FloatProgressModel",
            "_view_count": null,
            "_view_module": "@jupyter-widgets/controls",
            "_view_module_version": "1.5.0",
            "_view_name": "ProgressView",
            "bar_style": "success",
            "description": "",
            "description_tooltip": null,
            "layout": "IPY_MODEL_c6f1a689d7b64ec79b24a28084655e93",
            "max": 435797,
            "min": 0,
            "orientation": "horizontal",
            "style": "IPY_MODEL_db058a81df9a498ca4ba2d5e595e0792",
            "value": 435797
          }
        },
        "39c30c8fcfed4df4acf0018ffb65b57c": {
          "model_module": "@jupyter-widgets/base",
          "model_module_version": "1.2.0",
          "model_name": "LayoutModel",
          "state": {
            "_model_module": "@jupyter-widgets/base",
            "_model_module_version": "1.2.0",
            "_model_name": "LayoutModel",
            "_view_count": null,
            "_view_module": "@jupyter-widgets/base",
            "_view_module_version": "1.2.0",
            "_view_name": "LayoutView",
            "align_content": null,
            "align_items": null,
            "align_self": null,
            "border": null,
            "bottom": null,
            "display": null,
            "flex": null,
            "flex_flow": null,
            "grid_area": null,
            "grid_auto_columns": null,
            "grid_auto_flow": null,
            "grid_auto_rows": null,
            "grid_column": null,
            "grid_gap": null,
            "grid_row": null,
            "grid_template_areas": null,
            "grid_template_columns": null,
            "grid_template_rows": null,
            "height": null,
            "justify_content": null,
            "justify_items": null,
            "left": null,
            "margin": null,
            "max_height": null,
            "max_width": null,
            "min_height": null,
            "min_width": null,
            "object_fit": null,
            "object_position": null,
            "order": null,
            "overflow": null,
            "overflow_x": null,
            "overflow_y": null,
            "padding": null,
            "right": null,
            "top": null,
            "visibility": null,
            "width": null
          }
        },
        "3a77c9756d9745f39c35bf2816582805": {
          "model_module": "@jupyter-widgets/controls",
          "model_module_version": "1.5.0",
          "model_name": "FloatProgressModel",
          "state": {
            "_dom_classes": [],
            "_model_module": "@jupyter-widgets/controls",
            "_model_module_version": "1.5.0",
            "_model_name": "FloatProgressModel",
            "_view_count": null,
            "_view_module": "@jupyter-widgets/controls",
            "_view_module_version": "1.5.0",
            "_view_name": "ProgressView",
            "bar_style": "success",
            "description": "",
            "description_tooltip": null,
            "layout": "IPY_MODEL_8c2d36bc800a4b069c51c160d1ddf97a",
            "max": 213450,
            "min": 0,
            "orientation": "horizontal",
            "style": "IPY_MODEL_d98f572549a740b4bad51bafbbb3410e",
            "value": 213450
          }
        },
        "3e1f0903f02142c3a2d22894db96bbfb": {
          "model_module": "@jupyter-widgets/controls",
          "model_module_version": "1.5.0",
          "model_name": "DescriptionStyleModel",
          "state": {
            "_model_module": "@jupyter-widgets/controls",
            "_model_module_version": "1.5.0",
            "_model_name": "DescriptionStyleModel",
            "_view_count": null,
            "_view_module": "@jupyter-widgets/base",
            "_view_module_version": "1.2.0",
            "_view_name": "StyleView",
            "description_width": ""
          }
        },
        "41bd2d9748a7499da3da6b703c33ec30": {
          "model_module": "@jupyter-widgets/controls",
          "model_module_version": "1.5.0",
          "model_name": "HTMLModel",
          "state": {
            "_dom_classes": [],
            "_model_module": "@jupyter-widgets/controls",
            "_model_module_version": "1.5.0",
            "_model_name": "HTMLModel",
            "_view_count": null,
            "_view_module": "@jupyter-widgets/controls",
            "_view_module_version": "1.5.0",
            "_view_name": "HTMLView",
            "description": "",
            "description_tooltip": null,
            "layout": "IPY_MODEL_39c30c8fcfed4df4acf0018ffb65b57c",
            "placeholder": "​",
            "style": "IPY_MODEL_b355cad3d007490889bd01f054478eae",
            "value": " 4000/4116 [00:01&lt;00:00, 1936.85 examples/s]"
          }
        },
        "43ac341f3fe845a2815253de629c4c56": {
          "model_module": "@jupyter-widgets/controls",
          "model_module_version": "1.5.0",
          "model_name": "HTMLModel",
          "state": {
            "_dom_classes": [],
            "_model_module": "@jupyter-widgets/controls",
            "_model_module_version": "1.5.0",
            "_model_name": "HTMLModel",
            "_view_count": null,
            "_view_module": "@jupyter-widgets/controls",
            "_view_module_version": "1.5.0",
            "_view_name": "HTMLView",
            "description": "",
            "description_tooltip": null,
            "layout": "IPY_MODEL_db57478597bc4914ba2f794af10af98f",
            "placeholder": "​",
            "style": "IPY_MODEL_b25a5429eb4647deaaa6c538eea0f123",
            "value": "Map:  97%"
          }
        },
        "4433cff3ef6b4eeb802eebbe579149d8": {
          "model_module": "@jupyter-widgets/base",
          "model_module_version": "1.2.0",
          "model_name": "LayoutModel",
          "state": {
            "_model_module": "@jupyter-widgets/base",
            "_model_module_version": "1.2.0",
            "_model_name": "LayoutModel",
            "_view_count": null,
            "_view_module": "@jupyter-widgets/base",
            "_view_module_version": "1.2.0",
            "_view_name": "LayoutView",
            "align_content": null,
            "align_items": null,
            "align_self": null,
            "border": null,
            "bottom": null,
            "display": null,
            "flex": null,
            "flex_flow": null,
            "grid_area": null,
            "grid_auto_columns": null,
            "grid_auto_flow": null,
            "grid_auto_rows": null,
            "grid_column": null,
            "grid_gap": null,
            "grid_row": null,
            "grid_template_areas": null,
            "grid_template_columns": null,
            "grid_template_rows": null,
            "height": null,
            "justify_content": null,
            "justify_items": null,
            "left": null,
            "margin": null,
            "max_height": null,
            "max_width": null,
            "min_height": null,
            "min_width": null,
            "object_fit": null,
            "object_position": null,
            "order": null,
            "overflow": null,
            "overflow_x": null,
            "overflow_y": null,
            "padding": null,
            "right": null,
            "top": null,
            "visibility": null,
            "width": null
          }
        },
        "4694c6ec303f44a0b00a1ff9d0a14cc2": {
          "model_module": "@jupyter-widgets/controls",
          "model_module_version": "1.5.0",
          "model_name": "DescriptionStyleModel",
          "state": {
            "_model_module": "@jupyter-widgets/controls",
            "_model_module_version": "1.5.0",
            "_model_name": "DescriptionStyleModel",
            "_view_count": null,
            "_view_module": "@jupyter-widgets/base",
            "_view_module_version": "1.2.0",
            "_view_name": "StyleView",
            "description_width": ""
          }
        },
        "48e9739a1f36426884e2c4c50d71891e": {
          "model_module": "@jupyter-widgets/controls",
          "model_module_version": "1.5.0",
          "model_name": "ProgressStyleModel",
          "state": {
            "_model_module": "@jupyter-widgets/controls",
            "_model_module_version": "1.5.0",
            "_model_name": "ProgressStyleModel",
            "_view_count": null,
            "_view_module": "@jupyter-widgets/base",
            "_view_module_version": "1.2.0",
            "_view_name": "StyleView",
            "bar_color": null,
            "description_width": ""
          }
        },
        "4a815564fb4648cbb3e107aa35b24e6a": {
          "model_module": "@jupyter-widgets/controls",
          "model_module_version": "1.5.0",
          "model_name": "DescriptionStyleModel",
          "state": {
            "_model_module": "@jupyter-widgets/controls",
            "_model_module_version": "1.5.0",
            "_model_name": "DescriptionStyleModel",
            "_view_count": null,
            "_view_module": "@jupyter-widgets/base",
            "_view_module_version": "1.2.0",
            "_view_name": "StyleView",
            "description_width": ""
          }
        },
        "4bab330562794b118e05e2f8dbbe4bbc": {
          "model_module": "@jupyter-widgets/controls",
          "model_module_version": "1.5.0",
          "model_name": "HTMLModel",
          "state": {
            "_dom_classes": [],
            "_model_module": "@jupyter-widgets/controls",
            "_model_module_version": "1.5.0",
            "_model_name": "HTMLModel",
            "_view_count": null,
            "_view_module": "@jupyter-widgets/controls",
            "_view_module_version": "1.5.0",
            "_view_name": "HTMLView",
            "description": "",
            "description_tooltip": null,
            "layout": "IPY_MODEL_a5f94b3d4db34238be8e7f3dadc7b3af",
            "placeholder": "​",
            "style": "IPY_MODEL_10b3048e157747b9b53b634f252fe443",
            "value": " 0/165 [00:00&lt;?, ?it/s]"
          }
        },
        "4c871ff71f36482094ef9ff93d0d3633": {
          "model_module": "@jupyter-widgets/controls",
          "model_module_version": "1.5.0",
          "model_name": "FloatProgressModel",
          "state": {
            "_dom_classes": [],
            "_model_module": "@jupyter-widgets/controls",
            "_model_module_version": "1.5.0",
            "_model_name": "FloatProgressModel",
            "_view_count": null,
            "_view_module": "@jupyter-widgets/controls",
            "_view_module_version": "1.5.0",
            "_view_name": "ProgressView",
            "bar_style": "",
            "description": "",
            "description_tooltip": null,
            "layout": "IPY_MODEL_8c74198dee1843a381fbab3ba1c62e07",
            "max": 3798,
            "min": 0,
            "orientation": "horizontal",
            "style": "IPY_MODEL_5a0e031118e94a7796a960600ddeb1c9",
            "value": 3798
          }
        },
        "4ee2cdda336241ba85632a1b65595593": {
          "model_module": "@jupyter-widgets/controls",
          "model_module_version": "1.5.0",
          "model_name": "HTMLModel",
          "state": {
            "_dom_classes": [],
            "_model_module": "@jupyter-widgets/controls",
            "_model_module_version": "1.5.0",
            "_model_name": "HTMLModel",
            "_view_count": null,
            "_view_module": "@jupyter-widgets/controls",
            "_view_module_version": "1.5.0",
            "_view_name": "HTMLView",
            "description": "",
            "description_tooltip": null,
            "layout": "IPY_MODEL_384c42da55cd47d0b3ad54cd417110d8",
            "placeholder": "​",
            "style": "IPY_MODEL_0f77724abe3949fe938c210900543ef9",
            "value": "Map:  99%"
          }
        },
        "529e100915954230a92d7625e22e3343": {
          "model_module": "@jupyter-widgets/base",
          "model_module_version": "1.2.0",
          "model_name": "LayoutModel",
          "state": {
            "_model_module": "@jupyter-widgets/base",
            "_model_module_version": "1.2.0",
            "_model_name": "LayoutModel",
            "_view_count": null,
            "_view_module": "@jupyter-widgets/base",
            "_view_module_version": "1.2.0",
            "_view_name": "LayoutView",
            "align_content": null,
            "align_items": null,
            "align_self": null,
            "border": null,
            "bottom": null,
            "display": null,
            "flex": null,
            "flex_flow": null,
            "grid_area": null,
            "grid_auto_columns": null,
            "grid_auto_flow": null,
            "grid_auto_rows": null,
            "grid_column": null,
            "grid_gap": null,
            "grid_row": null,
            "grid_template_areas": null,
            "grid_template_columns": null,
            "grid_template_rows": null,
            "height": null,
            "justify_content": null,
            "justify_items": null,
            "left": null,
            "margin": null,
            "max_height": null,
            "max_width": null,
            "min_height": null,
            "min_width": null,
            "object_fit": null,
            "object_position": null,
            "order": null,
            "overflow": null,
            "overflow_x": null,
            "overflow_y": null,
            "padding": null,
            "right": null,
            "top": null,
            "visibility": null,
            "width": null
          }
        },
        "531ba594a64f45c68dd14e1f366bbabc": {
          "model_module": "@jupyter-widgets/controls",
          "model_module_version": "1.5.0",
          "model_name": "DescriptionStyleModel",
          "state": {
            "_model_module": "@jupyter-widgets/controls",
            "_model_module_version": "1.5.0",
            "_model_name": "DescriptionStyleModel",
            "_view_count": null,
            "_view_module": "@jupyter-widgets/base",
            "_view_module_version": "1.2.0",
            "_view_name": "StyleView",
            "description_width": ""
          }
        },
        "53a60d090b1147518816ef0b81108d50": {
          "model_module": "@jupyter-widgets/controls",
          "model_module_version": "1.5.0",
          "model_name": "FloatProgressModel",
          "state": {
            "_dom_classes": [],
            "_model_module": "@jupyter-widgets/controls",
            "_model_module_version": "1.5.0",
            "_model_name": "FloatProgressModel",
            "_view_count": null,
            "_view_module": "@jupyter-widgets/controls",
            "_view_module_version": "1.5.0",
            "_view_name": "ProgressView",
            "bar_style": "",
            "description": "",
            "description_tooltip": null,
            "layout": "IPY_MODEL_5adf4684ec4f4185a4a012595a861cc7",
            "max": 32924,
            "min": 0,
            "orientation": "horizontal",
            "style": "IPY_MODEL_f3240ae9600a4e0385be9003f0c5597d",
            "value": 32924
          }
        },
        "582edf469dec4b2dae01b31d32ef5f8e": {
          "model_module": "@jupyter-widgets/base",
          "model_module_version": "1.2.0",
          "model_name": "LayoutModel",
          "state": {
            "_model_module": "@jupyter-widgets/base",
            "_model_module_version": "1.2.0",
            "_model_name": "LayoutModel",
            "_view_count": null,
            "_view_module": "@jupyter-widgets/base",
            "_view_module_version": "1.2.0",
            "_view_name": "LayoutView",
            "align_content": null,
            "align_items": null,
            "align_self": null,
            "border": null,
            "bottom": null,
            "display": null,
            "flex": null,
            "flex_flow": null,
            "grid_area": null,
            "grid_auto_columns": null,
            "grid_auto_flow": null,
            "grid_auto_rows": null,
            "grid_column": null,
            "grid_gap": null,
            "grid_row": null,
            "grid_template_areas": null,
            "grid_template_columns": null,
            "grid_template_rows": null,
            "height": null,
            "justify_content": null,
            "justify_items": null,
            "left": null,
            "margin": null,
            "max_height": null,
            "max_width": null,
            "min_height": null,
            "min_width": null,
            "object_fit": null,
            "object_position": null,
            "order": null,
            "overflow": null,
            "overflow_x": null,
            "overflow_y": null,
            "padding": null,
            "right": null,
            "top": null,
            "visibility": null,
            "width": null
          }
        },
        "5a0e031118e94a7796a960600ddeb1c9": {
          "model_module": "@jupyter-widgets/controls",
          "model_module_version": "1.5.0",
          "model_name": "ProgressStyleModel",
          "state": {
            "_model_module": "@jupyter-widgets/controls",
            "_model_module_version": "1.5.0",
            "_model_name": "ProgressStyleModel",
            "_view_count": null,
            "_view_module": "@jupyter-widgets/base",
            "_view_module_version": "1.2.0",
            "_view_name": "StyleView",
            "bar_color": null,
            "description_width": ""
          }
        },
        "5adf4684ec4f4185a4a012595a861cc7": {
          "model_module": "@jupyter-widgets/base",
          "model_module_version": "1.2.0",
          "model_name": "LayoutModel",
          "state": {
            "_model_module": "@jupyter-widgets/base",
            "_model_module_version": "1.2.0",
            "_model_name": "LayoutModel",
            "_view_count": null,
            "_view_module": "@jupyter-widgets/base",
            "_view_module_version": "1.2.0",
            "_view_name": "LayoutView",
            "align_content": null,
            "align_items": null,
            "align_self": null,
            "border": null,
            "bottom": null,
            "display": null,
            "flex": null,
            "flex_flow": null,
            "grid_area": null,
            "grid_auto_columns": null,
            "grid_auto_flow": null,
            "grid_auto_rows": null,
            "grid_column": null,
            "grid_gap": null,
            "grid_row": null,
            "grid_template_areas": null,
            "grid_template_columns": null,
            "grid_template_rows": null,
            "height": null,
            "justify_content": null,
            "justify_items": null,
            "left": null,
            "margin": null,
            "max_height": null,
            "max_width": null,
            "min_height": null,
            "min_width": null,
            "object_fit": null,
            "object_position": null,
            "order": null,
            "overflow": null,
            "overflow_x": null,
            "overflow_y": null,
            "padding": null,
            "right": null,
            "top": null,
            "visibility": null,
            "width": null
          }
        },
        "5ba8e2ebff2c45b883c24d4d783e8c40": {
          "model_module": "@jupyter-widgets/controls",
          "model_module_version": "1.5.0",
          "model_name": "ProgressStyleModel",
          "state": {
            "_model_module": "@jupyter-widgets/controls",
            "_model_module_version": "1.5.0",
            "_model_name": "ProgressStyleModel",
            "_view_count": null,
            "_view_module": "@jupyter-widgets/base",
            "_view_module_version": "1.2.0",
            "_view_name": "StyleView",
            "bar_color": null,
            "description_width": ""
          }
        },
        "5df7f3fa2fc44c4cb7807c5114146404": {
          "model_module": "@jupyter-widgets/controls",
          "model_module_version": "1.5.0",
          "model_name": "HBoxModel",
          "state": {
            "_dom_classes": [],
            "_model_module": "@jupyter-widgets/controls",
            "_model_module_version": "1.5.0",
            "_model_name": "HBoxModel",
            "_view_count": null,
            "_view_module": "@jupyter-widgets/controls",
            "_view_module_version": "1.5.0",
            "_view_name": "HBoxView",
            "box_style": "",
            "children": [
              "IPY_MODEL_a4fa8cf376bf4fdb95c6cb5446c75148",
              "IPY_MODEL_33d8e9ce0e9e444aa98d820a6f85b75a",
              "IPY_MODEL_c3e960f1e2894dd8ac0ff08f6c92c0cd"
            ],
            "layout": "IPY_MODEL_e68f77ca1e2c49a7ae3a83021690e08d"
          }
        },
        "65ea8086607b4bd3b547045bc55db824": {
          "model_module": "@jupyter-widgets/controls",
          "model_module_version": "1.5.0",
          "model_name": "HTMLModel",
          "state": {
            "_dom_classes": [],
            "_model_module": "@jupyter-widgets/controls",
            "_model_module_version": "1.5.0",
            "_model_name": "HTMLModel",
            "_view_count": null,
            "_view_module": "@jupyter-widgets/controls",
            "_view_module_version": "1.5.0",
            "_view_name": "HTMLView",
            "description": "",
            "description_tooltip": null,
            "layout": "IPY_MODEL_7497d194051243268003a23d8cb7b6ef",
            "placeholder": "​",
            "style": "IPY_MODEL_4694c6ec303f44a0b00a1ff9d0a14cc2",
            "value": " 570/570 [00:00&lt;00:00, 19.2kB/s]"
          }
        },
        "66c0f031daf54ebbbf9e10f2ccf3a7f5": {
          "model_module": "@jupyter-widgets/controls",
          "model_module_version": "1.5.0",
          "model_name": "HTMLModel",
          "state": {
            "_dom_classes": [],
            "_model_module": "@jupyter-widgets/controls",
            "_model_module_version": "1.5.0",
            "_model_name": "HTMLModel",
            "_view_count": null,
            "_view_module": "@jupyter-widgets/controls",
            "_view_module_version": "1.5.0",
            "_view_name": "HTMLView",
            "description": "",
            "description_tooltip": null,
            "layout": "IPY_MODEL_fcb9704dcffe4edabee12a5c2dfea3a5",
            "placeholder": "​",
            "style": "IPY_MODEL_3e1f0903f02142c3a2d22894db96bbfb",
            "value": "Downloading (…)lve/main/config.json: 100%"
          }
        },
        "6f6aad7b0da94817a806a0d1bfaf2437": {
          "model_module": "@jupyter-widgets/controls",
          "model_module_version": "1.5.0",
          "model_name": "HTMLModel",
          "state": {
            "_dom_classes": [],
            "_model_module": "@jupyter-widgets/controls",
            "_model_module_version": "1.5.0",
            "_model_name": "HTMLModel",
            "_view_count": null,
            "_view_module": "@jupyter-widgets/controls",
            "_view_module_version": "1.5.0",
            "_view_name": "HTMLView",
            "description": "",
            "description_tooltip": null,
            "layout": "IPY_MODEL_fca92babec7d4235b8d8f27436093fec",
            "placeholder": "​",
            "style": "IPY_MODEL_d46f8d1e9e76478fab6dd656a8983ecf",
            "value": " 3937/4115 [00:02&lt;00:00, 2009.87 examples/s]"
          }
        },
        "701a99fda5954142a5004865ea93b68e": {
          "model_module": "@jupyter-widgets/controls",
          "model_module_version": "1.5.0",
          "model_name": "FloatProgressModel",
          "state": {
            "_dom_classes": [],
            "_model_module": "@jupyter-widgets/controls",
            "_model_module_version": "1.5.0",
            "_model_name": "FloatProgressModel",
            "_view_count": null,
            "_view_module": "@jupyter-widgets/controls",
            "_view_module_version": "1.5.0",
            "_view_name": "ProgressView",
            "bar_style": "success",
            "description": "",
            "description_tooltip": null,
            "layout": "IPY_MODEL_d59e1a25bcbb4cb9b7e86610c2362b68",
            "max": 570,
            "min": 0,
            "orientation": "horizontal",
            "style": "IPY_MODEL_ad2e19b6745142c89cd21aa00ac0a75f",
            "value": 570
          }
        },
        "725ed2ea5cb244e8ad6633c163a5b431": {
          "model_module": "@jupyter-widgets/base",
          "model_module_version": "1.2.0",
          "model_name": "LayoutModel",
          "state": {
            "_model_module": "@jupyter-widgets/base",
            "_model_module_version": "1.2.0",
            "_model_name": "LayoutModel",
            "_view_count": null,
            "_view_module": "@jupyter-widgets/base",
            "_view_module_version": "1.2.0",
            "_view_name": "LayoutView",
            "align_content": null,
            "align_items": null,
            "align_self": null,
            "border": null,
            "bottom": null,
            "display": null,
            "flex": null,
            "flex_flow": null,
            "grid_area": null,
            "grid_auto_columns": null,
            "grid_auto_flow": null,
            "grid_auto_rows": null,
            "grid_column": null,
            "grid_gap": null,
            "grid_row": null,
            "grid_template_areas": null,
            "grid_template_columns": null,
            "grid_template_rows": null,
            "height": null,
            "justify_content": null,
            "justify_items": null,
            "left": null,
            "margin": null,
            "max_height": null,
            "max_width": null,
            "min_height": null,
            "min_width": null,
            "object_fit": null,
            "object_position": null,
            "order": null,
            "overflow": null,
            "overflow_x": null,
            "overflow_y": null,
            "padding": null,
            "right": null,
            "top": null,
            "visibility": null,
            "width": null
          }
        },
        "73bd6b65802b41198d8865848fbf1191": {
          "model_module": "@jupyter-widgets/base",
          "model_module_version": "1.2.0",
          "model_name": "LayoutModel",
          "state": {
            "_model_module": "@jupyter-widgets/base",
            "_model_module_version": "1.2.0",
            "_model_name": "LayoutModel",
            "_view_count": null,
            "_view_module": "@jupyter-widgets/base",
            "_view_module_version": "1.2.0",
            "_view_name": "LayoutView",
            "align_content": null,
            "align_items": null,
            "align_self": null,
            "border": null,
            "bottom": null,
            "display": null,
            "flex": null,
            "flex_flow": null,
            "grid_area": null,
            "grid_auto_columns": null,
            "grid_auto_flow": null,
            "grid_auto_rows": null,
            "grid_column": null,
            "grid_gap": null,
            "grid_row": null,
            "grid_template_areas": null,
            "grid_template_columns": null,
            "grid_template_rows": null,
            "height": null,
            "justify_content": null,
            "justify_items": null,
            "left": null,
            "margin": null,
            "max_height": null,
            "max_width": null,
            "min_height": null,
            "min_width": null,
            "object_fit": null,
            "object_position": null,
            "order": null,
            "overflow": null,
            "overflow_x": null,
            "overflow_y": null,
            "padding": null,
            "right": null,
            "top": null,
            "visibility": null,
            "width": null
          }
        },
        "747c8e9e9c574c64bbe3df1bcee04760": {
          "model_module": "@jupyter-widgets/controls",
          "model_module_version": "1.5.0",
          "model_name": "FloatProgressModel",
          "state": {
            "_dom_classes": [],
            "_model_module": "@jupyter-widgets/controls",
            "_model_module_version": "1.5.0",
            "_model_name": "FloatProgressModel",
            "_view_count": null,
            "_view_module": "@jupyter-widgets/controls",
            "_view_module_version": "1.5.0",
            "_view_name": "ProgressView",
            "bar_style": "",
            "description": "",
            "description_tooltip": null,
            "layout": "IPY_MODEL_11078d7279284b7f9401384c73908ed2",
            "max": 4115,
            "min": 0,
            "orientation": "horizontal",
            "style": "IPY_MODEL_ad1000fedde045fe9694d1c4ac820602",
            "value": 4115
          }
        },
        "7497d194051243268003a23d8cb7b6ef": {
          "model_module": "@jupyter-widgets/base",
          "model_module_version": "1.2.0",
          "model_name": "LayoutModel",
          "state": {
            "_model_module": "@jupyter-widgets/base",
            "_model_module_version": "1.2.0",
            "_model_name": "LayoutModel",
            "_view_count": null,
            "_view_module": "@jupyter-widgets/base",
            "_view_module_version": "1.2.0",
            "_view_name": "LayoutView",
            "align_content": null,
            "align_items": null,
            "align_self": null,
            "border": null,
            "bottom": null,
            "display": null,
            "flex": null,
            "flex_flow": null,
            "grid_area": null,
            "grid_auto_columns": null,
            "grid_auto_flow": null,
            "grid_auto_rows": null,
            "grid_column": null,
            "grid_gap": null,
            "grid_row": null,
            "grid_template_areas": null,
            "grid_template_columns": null,
            "grid_template_rows": null,
            "height": null,
            "justify_content": null,
            "justify_items": null,
            "left": null,
            "margin": null,
            "max_height": null,
            "max_width": null,
            "min_height": null,
            "min_width": null,
            "object_fit": null,
            "object_position": null,
            "order": null,
            "overflow": null,
            "overflow_x": null,
            "overflow_y": null,
            "padding": null,
            "right": null,
            "top": null,
            "visibility": null,
            "width": null
          }
        },
        "783345d4e1094bdf854b84220cd43231": {
          "model_module": "@jupyter-widgets/controls",
          "model_module_version": "1.5.0",
          "model_name": "FloatProgressModel",
          "state": {
            "_dom_classes": [],
            "_model_module": "@jupyter-widgets/controls",
            "_model_module_version": "1.5.0",
            "_model_name": "FloatProgressModel",
            "_view_count": null,
            "_view_module": "@jupyter-widgets/controls",
            "_view_module_version": "1.5.0",
            "_view_name": "ProgressView",
            "bar_style": "",
            "description": "",
            "description_tooltip": null,
            "layout": "IPY_MODEL_725ed2ea5cb244e8ad6633c163a5b431",
            "max": 165,
            "min": 0,
            "orientation": "horizontal",
            "style": "IPY_MODEL_f8946c5df37d48d291b50dbf5db6c331",
            "value": 0
          }
        },
        "785fb0702c85421b93d2b5be78a545de": {
          "model_module": "@jupyter-widgets/base",
          "model_module_version": "1.2.0",
          "model_name": "LayoutModel",
          "state": {
            "_model_module": "@jupyter-widgets/base",
            "_model_module_version": "1.2.0",
            "_model_name": "LayoutModel",
            "_view_count": null,
            "_view_module": "@jupyter-widgets/base",
            "_view_module_version": "1.2.0",
            "_view_name": "LayoutView",
            "align_content": null,
            "align_items": null,
            "align_self": null,
            "border": null,
            "bottom": null,
            "display": null,
            "flex": null,
            "flex_flow": null,
            "grid_area": null,
            "grid_auto_columns": null,
            "grid_auto_flow": null,
            "grid_auto_rows": null,
            "grid_column": null,
            "grid_gap": null,
            "grid_row": null,
            "grid_template_areas": null,
            "grid_template_columns": null,
            "grid_template_rows": null,
            "height": null,
            "justify_content": null,
            "justify_items": null,
            "left": null,
            "margin": null,
            "max_height": null,
            "max_width": null,
            "min_height": null,
            "min_width": null,
            "object_fit": null,
            "object_position": null,
            "order": null,
            "overflow": null,
            "overflow_x": null,
            "overflow_y": null,
            "padding": null,
            "right": null,
            "top": null,
            "visibility": null,
            "width": null
          }
        },
        "788489aeef674851a64f00814345537e": {
          "model_module": "@jupyter-widgets/controls",
          "model_module_version": "1.5.0",
          "model_name": "HTMLModel",
          "state": {
            "_dom_classes": [],
            "_model_module": "@jupyter-widgets/controls",
            "_model_module_version": "1.5.0",
            "_model_name": "HTMLModel",
            "_view_count": null,
            "_view_module": "@jupyter-widgets/controls",
            "_view_module_version": "1.5.0",
            "_view_name": "HTMLView",
            "description": "",
            "description_tooltip": null,
            "layout": "IPY_MODEL_aa38c070417f40249cd0a30c7ce64749",
            "placeholder": "​",
            "style": "IPY_MODEL_b13ac9dff68d47138395f6b7665ca6be",
            "value": "Downloading (…)solve/main/vocab.txt: 100%"
          }
        },
        "7babed65cb614de6a9475e019033c700": {
          "model_module": "@jupyter-widgets/base",
          "model_module_version": "1.2.0",
          "model_name": "LayoutModel",
          "state": {
            "_model_module": "@jupyter-widgets/base",
            "_model_module_version": "1.2.0",
            "_model_name": "LayoutModel",
            "_view_count": null,
            "_view_module": "@jupyter-widgets/base",
            "_view_module_version": "1.2.0",
            "_view_name": "LayoutView",
            "align_content": null,
            "align_items": null,
            "align_self": null,
            "border": null,
            "bottom": null,
            "display": null,
            "flex": null,
            "flex_flow": null,
            "grid_area": null,
            "grid_auto_columns": null,
            "grid_auto_flow": null,
            "grid_auto_rows": null,
            "grid_column": null,
            "grid_gap": null,
            "grid_row": null,
            "grid_template_areas": null,
            "grid_template_columns": null,
            "grid_template_rows": null,
            "height": null,
            "justify_content": null,
            "justify_items": null,
            "left": null,
            "margin": null,
            "max_height": null,
            "max_width": null,
            "min_height": null,
            "min_width": null,
            "object_fit": null,
            "object_position": null,
            "order": null,
            "overflow": null,
            "overflow_x": null,
            "overflow_y": null,
            "padding": null,
            "right": null,
            "top": null,
            "visibility": null,
            "width": null
          }
        },
        "7bf45c6cc10347f9b47247b72618d55f": {
          "model_module": "@jupyter-widgets/controls",
          "model_module_version": "1.5.0",
          "model_name": "HTMLModel",
          "state": {
            "_dom_classes": [],
            "_model_module": "@jupyter-widgets/controls",
            "_model_module_version": "1.5.0",
            "_model_name": "HTMLModel",
            "_view_count": null,
            "_view_module": "@jupyter-widgets/controls",
            "_view_module_version": "1.5.0",
            "_view_name": "HTMLView",
            "description": "",
            "description_tooltip": null,
            "layout": "IPY_MODEL_9043ee956c5b478b96cad2aa5688bb87",
            "placeholder": "​",
            "style": "IPY_MODEL_ce948ff47c084716a00924327e0a3fe4",
            "value": "Downloading (…)/main/tokenizer.json: 100%"
          }
        },
        "808f01558195434fa11fcbe2b7db6d97": {
          "model_module": "@jupyter-widgets/controls",
          "model_module_version": "1.5.0",
          "model_name": "HTMLModel",
          "state": {
            "_dom_classes": [],
            "_model_module": "@jupyter-widgets/controls",
            "_model_module_version": "1.5.0",
            "_model_name": "HTMLModel",
            "_view_count": null,
            "_view_module": "@jupyter-widgets/controls",
            "_view_module_version": "1.5.0",
            "_view_name": "HTMLView",
            "description": "",
            "description_tooltip": null,
            "layout": "IPY_MODEL_01be3734cee04789932f5b98015274ab",
            "placeholder": "​",
            "style": "IPY_MODEL_cec9e289061c4689b21e04a37a157e0e",
            "value": " 436k/436k [00:00&lt;00:00, 4.05MB/s]"
          }
        },
        "87b49c79e8964a98a648966efdfd7572": {
          "model_module": "@jupyter-widgets/controls",
          "model_module_version": "1.5.0",
          "model_name": "HBoxModel",
          "state": {
            "_dom_classes": [],
            "_model_module": "@jupyter-widgets/controls",
            "_model_module_version": "1.5.0",
            "_model_name": "HBoxModel",
            "_view_count": null,
            "_view_module": "@jupyter-widgets/controls",
            "_view_module_version": "1.5.0",
            "_view_name": "HBoxView",
            "box_style": "",
            "children": [
              "IPY_MODEL_9e503f488c374618a9202738b4c952a5",
              "IPY_MODEL_1d4d5a503d1c4112b580f0e0216d2719",
              "IPY_MODEL_8c89bb640bb543f2baf2cf14165ceb8f"
            ],
            "layout": "IPY_MODEL_28d1cb2de94344f4bb6982ac3cc166a3"
          }
        },
        "8a6717b6ef9e48e4b29eb4b292a85898": {
          "model_module": "@jupyter-widgets/base",
          "model_module_version": "1.2.0",
          "model_name": "LayoutModel",
          "state": {
            "_model_module": "@jupyter-widgets/base",
            "_model_module_version": "1.2.0",
            "_model_name": "LayoutModel",
            "_view_count": null,
            "_view_module": "@jupyter-widgets/base",
            "_view_module_version": "1.2.0",
            "_view_name": "LayoutView",
            "align_content": null,
            "align_items": null,
            "align_self": null,
            "border": null,
            "bottom": null,
            "display": null,
            "flex": null,
            "flex_flow": null,
            "grid_area": null,
            "grid_auto_columns": null,
            "grid_auto_flow": null,
            "grid_auto_rows": null,
            "grid_column": null,
            "grid_gap": null,
            "grid_row": null,
            "grid_template_areas": null,
            "grid_template_columns": null,
            "grid_template_rows": null,
            "height": null,
            "justify_content": null,
            "justify_items": null,
            "left": null,
            "margin": null,
            "max_height": null,
            "max_width": null,
            "min_height": null,
            "min_width": null,
            "object_fit": null,
            "object_position": null,
            "order": null,
            "overflow": null,
            "overflow_x": null,
            "overflow_y": null,
            "padding": null,
            "right": null,
            "top": null,
            "visibility": "hidden",
            "width": null
          }
        },
        "8b0688a2fdb0483b8573b1872413119d": {
          "model_module": "@jupyter-widgets/controls",
          "model_module_version": "1.5.0",
          "model_name": "HTMLModel",
          "state": {
            "_dom_classes": [],
            "_model_module": "@jupyter-widgets/controls",
            "_model_module_version": "1.5.0",
            "_model_name": "HTMLModel",
            "_view_count": null,
            "_view_module": "@jupyter-widgets/controls",
            "_view_module_version": "1.5.0",
            "_view_name": "HTMLView",
            "description": "",
            "description_tooltip": null,
            "layout": "IPY_MODEL_73bd6b65802b41198d8865848fbf1191",
            "placeholder": "​",
            "style": "IPY_MODEL_ead802c8fd584d01ab5effc54dea1110",
            "value": " 3785/3798 [00:02&lt;00:00, 1422.23 examples/s]"
          }
        },
        "8b8f6151000e4aa3995a884a665e1169": {
          "model_module": "@jupyter-widgets/controls",
          "model_module_version": "1.5.0",
          "model_name": "DescriptionStyleModel",
          "state": {
            "_model_module": "@jupyter-widgets/controls",
            "_model_module_version": "1.5.0",
            "_model_name": "DescriptionStyleModel",
            "_view_count": null,
            "_view_module": "@jupyter-widgets/base",
            "_view_module_version": "1.2.0",
            "_view_name": "StyleView",
            "description_width": ""
          }
        },
        "8c2d36bc800a4b069c51c160d1ddf97a": {
          "model_module": "@jupyter-widgets/base",
          "model_module_version": "1.2.0",
          "model_name": "LayoutModel",
          "state": {
            "_model_module": "@jupyter-widgets/base",
            "_model_module_version": "1.2.0",
            "_model_name": "LayoutModel",
            "_view_count": null,
            "_view_module": "@jupyter-widgets/base",
            "_view_module_version": "1.2.0",
            "_view_name": "LayoutView",
            "align_content": null,
            "align_items": null,
            "align_self": null,
            "border": null,
            "bottom": null,
            "display": null,
            "flex": null,
            "flex_flow": null,
            "grid_area": null,
            "grid_auto_columns": null,
            "grid_auto_flow": null,
            "grid_auto_rows": null,
            "grid_column": null,
            "grid_gap": null,
            "grid_row": null,
            "grid_template_areas": null,
            "grid_template_columns": null,
            "grid_template_rows": null,
            "height": null,
            "justify_content": null,
            "justify_items": null,
            "left": null,
            "margin": null,
            "max_height": null,
            "max_width": null,
            "min_height": null,
            "min_width": null,
            "object_fit": null,
            "object_position": null,
            "order": null,
            "overflow": null,
            "overflow_x": null,
            "overflow_y": null,
            "padding": null,
            "right": null,
            "top": null,
            "visibility": null,
            "width": null
          }
        },
        "8c74198dee1843a381fbab3ba1c62e07": {
          "model_module": "@jupyter-widgets/base",
          "model_module_version": "1.2.0",
          "model_name": "LayoutModel",
          "state": {
            "_model_module": "@jupyter-widgets/base",
            "_model_module_version": "1.2.0",
            "_model_name": "LayoutModel",
            "_view_count": null,
            "_view_module": "@jupyter-widgets/base",
            "_view_module_version": "1.2.0",
            "_view_name": "LayoutView",
            "align_content": null,
            "align_items": null,
            "align_self": null,
            "border": null,
            "bottom": null,
            "display": null,
            "flex": null,
            "flex_flow": null,
            "grid_area": null,
            "grid_auto_columns": null,
            "grid_auto_flow": null,
            "grid_auto_rows": null,
            "grid_column": null,
            "grid_gap": null,
            "grid_row": null,
            "grid_template_areas": null,
            "grid_template_columns": null,
            "grid_template_rows": null,
            "height": null,
            "justify_content": null,
            "justify_items": null,
            "left": null,
            "margin": null,
            "max_height": null,
            "max_width": null,
            "min_height": null,
            "min_width": null,
            "object_fit": null,
            "object_position": null,
            "order": null,
            "overflow": null,
            "overflow_x": null,
            "overflow_y": null,
            "padding": null,
            "right": null,
            "top": null,
            "visibility": null,
            "width": null
          }
        },
        "8c89bb640bb543f2baf2cf14165ceb8f": {
          "model_module": "@jupyter-widgets/controls",
          "model_module_version": "1.5.0",
          "model_name": "HTMLModel",
          "state": {
            "_dom_classes": [],
            "_model_module": "@jupyter-widgets/controls",
            "_model_module_version": "1.5.0",
            "_model_name": "HTMLModel",
            "_view_count": null,
            "_view_module": "@jupyter-widgets/controls",
            "_view_module_version": "1.5.0",
            "_view_name": "HTMLView",
            "description": "",
            "description_tooltip": null,
            "layout": "IPY_MODEL_95e1b682b9ba47d594bbbe30b70c3f5d",
            "placeholder": "​",
            "style": "IPY_MODEL_531ba594a64f45c68dd14e1f366bbabc",
            "value": " 436M/436M [00:38&lt;00:00, 12.1MB/s]"
          }
        },
        "8cbd990d82d549419b97360445f77d75": {
          "model_module": "@jupyter-widgets/controls",
          "model_module_version": "1.5.0",
          "model_name": "DescriptionStyleModel",
          "state": {
            "_model_module": "@jupyter-widgets/controls",
            "_model_module_version": "1.5.0",
            "_model_name": "DescriptionStyleModel",
            "_view_count": null,
            "_view_module": "@jupyter-widgets/base",
            "_view_module_version": "1.2.0",
            "_view_name": "StyleView",
            "description_width": ""
          }
        },
        "9043ee956c5b478b96cad2aa5688bb87": {
          "model_module": "@jupyter-widgets/base",
          "model_module_version": "1.2.0",
          "model_name": "LayoutModel",
          "state": {
            "_model_module": "@jupyter-widgets/base",
            "_model_module_version": "1.2.0",
            "_model_name": "LayoutModel",
            "_view_count": null,
            "_view_module": "@jupyter-widgets/base",
            "_view_module_version": "1.2.0",
            "_view_name": "LayoutView",
            "align_content": null,
            "align_items": null,
            "align_self": null,
            "border": null,
            "bottom": null,
            "display": null,
            "flex": null,
            "flex_flow": null,
            "grid_area": null,
            "grid_auto_columns": null,
            "grid_auto_flow": null,
            "grid_auto_rows": null,
            "grid_column": null,
            "grid_gap": null,
            "grid_row": null,
            "grid_template_areas": null,
            "grid_template_columns": null,
            "grid_template_rows": null,
            "height": null,
            "justify_content": null,
            "justify_items": null,
            "left": null,
            "margin": null,
            "max_height": null,
            "max_width": null,
            "min_height": null,
            "min_width": null,
            "object_fit": null,
            "object_position": null,
            "order": null,
            "overflow": null,
            "overflow_x": null,
            "overflow_y": null,
            "padding": null,
            "right": null,
            "top": null,
            "visibility": null,
            "width": null
          }
        },
        "95e1b682b9ba47d594bbbe30b70c3f5d": {
          "model_module": "@jupyter-widgets/base",
          "model_module_version": "1.2.0",
          "model_name": "LayoutModel",
          "state": {
            "_model_module": "@jupyter-widgets/base",
            "_model_module_version": "1.2.0",
            "_model_name": "LayoutModel",
            "_view_count": null,
            "_view_module": "@jupyter-widgets/base",
            "_view_module_version": "1.2.0",
            "_view_name": "LayoutView",
            "align_content": null,
            "align_items": null,
            "align_self": null,
            "border": null,
            "bottom": null,
            "display": null,
            "flex": null,
            "flex_flow": null,
            "grid_area": null,
            "grid_auto_columns": null,
            "grid_auto_flow": null,
            "grid_auto_rows": null,
            "grid_column": null,
            "grid_gap": null,
            "grid_row": null,
            "grid_template_areas": null,
            "grid_template_columns": null,
            "grid_template_rows": null,
            "height": null,
            "justify_content": null,
            "justify_items": null,
            "left": null,
            "margin": null,
            "max_height": null,
            "max_width": null,
            "min_height": null,
            "min_width": null,
            "object_fit": null,
            "object_position": null,
            "order": null,
            "overflow": null,
            "overflow_x": null,
            "overflow_y": null,
            "padding": null,
            "right": null,
            "top": null,
            "visibility": null,
            "width": null
          }
        },
        "990bebcafdc84a16ace079c3c2e8baec": {
          "model_module": "@jupyter-widgets/controls",
          "model_module_version": "1.5.0",
          "model_name": "HTMLModel",
          "state": {
            "_dom_classes": [],
            "_model_module": "@jupyter-widgets/controls",
            "_model_module_version": "1.5.0",
            "_model_name": "HTMLModel",
            "_view_count": null,
            "_view_module": "@jupyter-widgets/controls",
            "_view_module_version": "1.5.0",
            "_view_name": "HTMLView",
            "description": "",
            "description_tooltip": null,
            "layout": "IPY_MODEL_529e100915954230a92d7625e22e3343",
            "placeholder": "​",
            "style": "IPY_MODEL_c35be708461d4594a52ad53c384d4023",
            "value": " 32725/32924 [00:18&lt;00:00, 2009.84 examples/s]"
          }
        },
        "9e503f488c374618a9202738b4c952a5": {
          "model_module": "@jupyter-widgets/controls",
          "model_module_version": "1.5.0",
          "model_name": "HTMLModel",
          "state": {
            "_dom_classes": [],
            "_model_module": "@jupyter-widgets/controls",
            "_model_module_version": "1.5.0",
            "_model_name": "HTMLModel",
            "_view_count": null,
            "_view_module": "@jupyter-widgets/controls",
            "_view_module_version": "1.5.0",
            "_view_name": "HTMLView",
            "description": "",
            "description_tooltip": null,
            "layout": "IPY_MODEL_244bec7298844a8ba1ab7115183292cb",
            "placeholder": "​",
            "style": "IPY_MODEL_25dfb21fa84b45b08152bcb3c0e79f79",
            "value": "Downloading (…)&quot;pytorch_model.bin&quot;;: 100%"
          }
        },
        "a4fa8cf376bf4fdb95c6cb5446c75148": {
          "model_module": "@jupyter-widgets/controls",
          "model_module_version": "1.5.0",
          "model_name": "HTMLModel",
          "state": {
            "_dom_classes": [],
            "_model_module": "@jupyter-widgets/controls",
            "_model_module_version": "1.5.0",
            "_model_name": "HTMLModel",
            "_view_count": null,
            "_view_module": "@jupyter-widgets/controls",
            "_view_module_version": "1.5.0",
            "_view_name": "HTMLView",
            "description": "",
            "description_tooltip": null,
            "layout": "IPY_MODEL_4433cff3ef6b4eeb802eebbe579149d8",
            "placeholder": "​",
            "style": "IPY_MODEL_8cbd990d82d549419b97360445f77d75",
            "value": "Downloading (…)okenizer_config.json: 100%"
          }
        },
        "a5f94b3d4db34238be8e7f3dadc7b3af": {
          "model_module": "@jupyter-widgets/base",
          "model_module_version": "1.2.0",
          "model_name": "LayoutModel",
          "state": {
            "_model_module": "@jupyter-widgets/base",
            "_model_module_version": "1.2.0",
            "_model_name": "LayoutModel",
            "_view_count": null,
            "_view_module": "@jupyter-widgets/base",
            "_view_module_version": "1.2.0",
            "_view_name": "LayoutView",
            "align_content": null,
            "align_items": null,
            "align_self": null,
            "border": null,
            "bottom": null,
            "display": null,
            "flex": null,
            "flex_flow": null,
            "grid_area": null,
            "grid_auto_columns": null,
            "grid_auto_flow": null,
            "grid_auto_rows": null,
            "grid_column": null,
            "grid_gap": null,
            "grid_row": null,
            "grid_template_areas": null,
            "grid_template_columns": null,
            "grid_template_rows": null,
            "height": null,
            "justify_content": null,
            "justify_items": null,
            "left": null,
            "margin": null,
            "max_height": null,
            "max_width": null,
            "min_height": null,
            "min_width": null,
            "object_fit": null,
            "object_position": null,
            "order": null,
            "overflow": null,
            "overflow_x": null,
            "overflow_y": null,
            "padding": null,
            "right": null,
            "top": null,
            "visibility": null,
            "width": null
          }
        },
        "aa38c070417f40249cd0a30c7ce64749": {
          "model_module": "@jupyter-widgets/base",
          "model_module_version": "1.2.0",
          "model_name": "LayoutModel",
          "state": {
            "_model_module": "@jupyter-widgets/base",
            "_model_module_version": "1.2.0",
            "_model_name": "LayoutModel",
            "_view_count": null,
            "_view_module": "@jupyter-widgets/base",
            "_view_module_version": "1.2.0",
            "_view_name": "LayoutView",
            "align_content": null,
            "align_items": null,
            "align_self": null,
            "border": null,
            "bottom": null,
            "display": null,
            "flex": null,
            "flex_flow": null,
            "grid_area": null,
            "grid_auto_columns": null,
            "grid_auto_flow": null,
            "grid_auto_rows": null,
            "grid_column": null,
            "grid_gap": null,
            "grid_row": null,
            "grid_template_areas": null,
            "grid_template_columns": null,
            "grid_template_rows": null,
            "height": null,
            "justify_content": null,
            "justify_items": null,
            "left": null,
            "margin": null,
            "max_height": null,
            "max_width": null,
            "min_height": null,
            "min_width": null,
            "object_fit": null,
            "object_position": null,
            "order": null,
            "overflow": null,
            "overflow_x": null,
            "overflow_y": null,
            "padding": null,
            "right": null,
            "top": null,
            "visibility": null,
            "width": null
          }
        },
        "ad1000fedde045fe9694d1c4ac820602": {
          "model_module": "@jupyter-widgets/controls",
          "model_module_version": "1.5.0",
          "model_name": "ProgressStyleModel",
          "state": {
            "_model_module": "@jupyter-widgets/controls",
            "_model_module_version": "1.5.0",
            "_model_name": "ProgressStyleModel",
            "_view_count": null,
            "_view_module": "@jupyter-widgets/base",
            "_view_module_version": "1.2.0",
            "_view_name": "StyleView",
            "bar_color": null,
            "description_width": ""
          }
        },
        "ad2e19b6745142c89cd21aa00ac0a75f": {
          "model_module": "@jupyter-widgets/controls",
          "model_module_version": "1.5.0",
          "model_name": "ProgressStyleModel",
          "state": {
            "_model_module": "@jupyter-widgets/controls",
            "_model_module_version": "1.5.0",
            "_model_name": "ProgressStyleModel",
            "_view_count": null,
            "_view_module": "@jupyter-widgets/base",
            "_view_module_version": "1.2.0",
            "_view_name": "StyleView",
            "bar_color": null,
            "description_width": ""
          }
        },
        "aff6e255ae7f4f81b8f6e40b7b8c26ad": {
          "model_module": "@jupyter-widgets/controls",
          "model_module_version": "1.5.0",
          "model_name": "HBoxModel",
          "state": {
            "_dom_classes": [],
            "_model_module": "@jupyter-widgets/controls",
            "_model_module_version": "1.5.0",
            "_model_name": "HBoxModel",
            "_view_count": null,
            "_view_module": "@jupyter-widgets/controls",
            "_view_module_version": "1.5.0",
            "_view_name": "HBoxView",
            "box_style": "",
            "children": [
              "IPY_MODEL_37e6e86114774422b8429a6258026eda",
              "IPY_MODEL_747c8e9e9c574c64bbe3df1bcee04760",
              "IPY_MODEL_6f6aad7b0da94817a806a0d1bfaf2437"
            ],
            "layout": "IPY_MODEL_c2cbc01839dd429a8076aff41d3f1c31"
          }
        },
        "b13ac9dff68d47138395f6b7665ca6be": {
          "model_module": "@jupyter-widgets/controls",
          "model_module_version": "1.5.0",
          "model_name": "DescriptionStyleModel",
          "state": {
            "_model_module": "@jupyter-widgets/controls",
            "_model_module_version": "1.5.0",
            "_model_name": "DescriptionStyleModel",
            "_view_count": null,
            "_view_module": "@jupyter-widgets/base",
            "_view_module_version": "1.2.0",
            "_view_name": "StyleView",
            "description_width": ""
          }
        },
        "b25a5429eb4647deaaa6c538eea0f123": {
          "model_module": "@jupyter-widgets/controls",
          "model_module_version": "1.5.0",
          "model_name": "DescriptionStyleModel",
          "state": {
            "_model_module": "@jupyter-widgets/controls",
            "_model_module_version": "1.5.0",
            "_model_name": "DescriptionStyleModel",
            "_view_count": null,
            "_view_module": "@jupyter-widgets/base",
            "_view_module_version": "1.2.0",
            "_view_name": "StyleView",
            "description_width": ""
          }
        },
        "b355cad3d007490889bd01f054478eae": {
          "model_module": "@jupyter-widgets/controls",
          "model_module_version": "1.5.0",
          "model_name": "DescriptionStyleModel",
          "state": {
            "_model_module": "@jupyter-widgets/controls",
            "_model_module_version": "1.5.0",
            "_model_name": "DescriptionStyleModel",
            "_view_count": null,
            "_view_module": "@jupyter-widgets/base",
            "_view_module_version": "1.2.0",
            "_view_name": "StyleView",
            "description_width": ""
          }
        },
        "c2cbc01839dd429a8076aff41d3f1c31": {
          "model_module": "@jupyter-widgets/base",
          "model_module_version": "1.2.0",
          "model_name": "LayoutModel",
          "state": {
            "_model_module": "@jupyter-widgets/base",
            "_model_module_version": "1.2.0",
            "_model_name": "LayoutModel",
            "_view_count": null,
            "_view_module": "@jupyter-widgets/base",
            "_view_module_version": "1.2.0",
            "_view_name": "LayoutView",
            "align_content": null,
            "align_items": null,
            "align_self": null,
            "border": null,
            "bottom": null,
            "display": null,
            "flex": null,
            "flex_flow": null,
            "grid_area": null,
            "grid_auto_columns": null,
            "grid_auto_flow": null,
            "grid_auto_rows": null,
            "grid_column": null,
            "grid_gap": null,
            "grid_row": null,
            "grid_template_areas": null,
            "grid_template_columns": null,
            "grid_template_rows": null,
            "height": null,
            "justify_content": null,
            "justify_items": null,
            "left": null,
            "margin": null,
            "max_height": null,
            "max_width": null,
            "min_height": null,
            "min_width": null,
            "object_fit": null,
            "object_position": null,
            "order": null,
            "overflow": null,
            "overflow_x": null,
            "overflow_y": null,
            "padding": null,
            "right": null,
            "top": null,
            "visibility": "hidden",
            "width": null
          }
        },
        "c35be708461d4594a52ad53c384d4023": {
          "model_module": "@jupyter-widgets/controls",
          "model_module_version": "1.5.0",
          "model_name": "DescriptionStyleModel",
          "state": {
            "_model_module": "@jupyter-widgets/controls",
            "_model_module_version": "1.5.0",
            "_model_name": "DescriptionStyleModel",
            "_view_count": null,
            "_view_module": "@jupyter-widgets/base",
            "_view_module_version": "1.2.0",
            "_view_name": "StyleView",
            "description_width": ""
          }
        },
        "c3e960f1e2894dd8ac0ff08f6c92c0cd": {
          "model_module": "@jupyter-widgets/controls",
          "model_module_version": "1.5.0",
          "model_name": "HTMLModel",
          "state": {
            "_dom_classes": [],
            "_model_module": "@jupyter-widgets/controls",
            "_model_module_version": "1.5.0",
            "_model_name": "HTMLModel",
            "_view_count": null,
            "_view_module": "@jupyter-widgets/controls",
            "_view_module_version": "1.5.0",
            "_view_name": "HTMLView",
            "description": "",
            "description_tooltip": null,
            "layout": "IPY_MODEL_582edf469dec4b2dae01b31d32ef5f8e",
            "placeholder": "​",
            "style": "IPY_MODEL_c68ef97722444d65b965b554650a3970",
            "value": " 29.0/29.0 [00:00&lt;00:00, 535B/s]"
          }
        },
        "c68ef97722444d65b965b554650a3970": {
          "model_module": "@jupyter-widgets/controls",
          "model_module_version": "1.5.0",
          "model_name": "DescriptionStyleModel",
          "state": {
            "_model_module": "@jupyter-widgets/controls",
            "_model_module_version": "1.5.0",
            "_model_name": "DescriptionStyleModel",
            "_view_count": null,
            "_view_module": "@jupyter-widgets/base",
            "_view_module_version": "1.2.0",
            "_view_name": "StyleView",
            "description_width": ""
          }
        },
        "c6f1a689d7b64ec79b24a28084655e93": {
          "model_module": "@jupyter-widgets/base",
          "model_module_version": "1.2.0",
          "model_name": "LayoutModel",
          "state": {
            "_model_module": "@jupyter-widgets/base",
            "_model_module_version": "1.2.0",
            "_model_name": "LayoutModel",
            "_view_count": null,
            "_view_module": "@jupyter-widgets/base",
            "_view_module_version": "1.2.0",
            "_view_name": "LayoutView",
            "align_content": null,
            "align_items": null,
            "align_self": null,
            "border": null,
            "bottom": null,
            "display": null,
            "flex": null,
            "flex_flow": null,
            "grid_area": null,
            "grid_auto_columns": null,
            "grid_auto_flow": null,
            "grid_auto_rows": null,
            "grid_column": null,
            "grid_gap": null,
            "grid_row": null,
            "grid_template_areas": null,
            "grid_template_columns": null,
            "grid_template_rows": null,
            "height": null,
            "justify_content": null,
            "justify_items": null,
            "left": null,
            "margin": null,
            "max_height": null,
            "max_width": null,
            "min_height": null,
            "min_width": null,
            "object_fit": null,
            "object_position": null,
            "order": null,
            "overflow": null,
            "overflow_x": null,
            "overflow_y": null,
            "padding": null,
            "right": null,
            "top": null,
            "visibility": null,
            "width": null
          }
        },
        "c7507946b59b409cad4b06429cd0a53d": {
          "model_module": "@jupyter-widgets/base",
          "model_module_version": "1.2.0",
          "model_name": "LayoutModel",
          "state": {
            "_model_module": "@jupyter-widgets/base",
            "_model_module_version": "1.2.0",
            "_model_name": "LayoutModel",
            "_view_count": null,
            "_view_module": "@jupyter-widgets/base",
            "_view_module_version": "1.2.0",
            "_view_name": "LayoutView",
            "align_content": null,
            "align_items": null,
            "align_self": null,
            "border": null,
            "bottom": null,
            "display": null,
            "flex": null,
            "flex_flow": null,
            "grid_area": null,
            "grid_auto_columns": null,
            "grid_auto_flow": null,
            "grid_auto_rows": null,
            "grid_column": null,
            "grid_gap": null,
            "grid_row": null,
            "grid_template_areas": null,
            "grid_template_columns": null,
            "grid_template_rows": null,
            "height": null,
            "justify_content": null,
            "justify_items": null,
            "left": null,
            "margin": null,
            "max_height": null,
            "max_width": null,
            "min_height": null,
            "min_width": null,
            "object_fit": null,
            "object_position": null,
            "order": null,
            "overflow": null,
            "overflow_x": null,
            "overflow_y": null,
            "padding": null,
            "right": null,
            "top": null,
            "visibility": null,
            "width": null
          }
        },
        "cb331475a1064a629285fca3d9b1be50": {
          "model_module": "@jupyter-widgets/base",
          "model_module_version": "1.2.0",
          "model_name": "LayoutModel",
          "state": {
            "_model_module": "@jupyter-widgets/base",
            "_model_module_version": "1.2.0",
            "_model_name": "LayoutModel",
            "_view_count": null,
            "_view_module": "@jupyter-widgets/base",
            "_view_module_version": "1.2.0",
            "_view_name": "LayoutView",
            "align_content": null,
            "align_items": null,
            "align_self": null,
            "border": null,
            "bottom": null,
            "display": null,
            "flex": null,
            "flex_flow": null,
            "grid_area": null,
            "grid_auto_columns": null,
            "grid_auto_flow": null,
            "grid_auto_rows": null,
            "grid_column": null,
            "grid_gap": null,
            "grid_row": null,
            "grid_template_areas": null,
            "grid_template_columns": null,
            "grid_template_rows": null,
            "height": null,
            "justify_content": null,
            "justify_items": null,
            "left": null,
            "margin": null,
            "max_height": null,
            "max_width": null,
            "min_height": null,
            "min_width": null,
            "object_fit": null,
            "object_position": null,
            "order": null,
            "overflow": null,
            "overflow_x": null,
            "overflow_y": null,
            "padding": null,
            "right": null,
            "top": null,
            "visibility": null,
            "width": null
          }
        },
        "cc3c2cbb66e04a63bf707776097e3747": {
          "model_module": "@jupyter-widgets/controls",
          "model_module_version": "1.5.0",
          "model_name": "HBoxModel",
          "state": {
            "_dom_classes": [],
            "_model_module": "@jupyter-widgets/controls",
            "_model_module_version": "1.5.0",
            "_model_name": "HBoxModel",
            "_view_count": null,
            "_view_module": "@jupyter-widgets/controls",
            "_view_module_version": "1.5.0",
            "_view_name": "HBoxView",
            "box_style": "",
            "children": [
              "IPY_MODEL_7bf45c6cc10347f9b47247b72618d55f",
              "IPY_MODEL_3888745bd84a43b5b02279bbc36398d3",
              "IPY_MODEL_808f01558195434fa11fcbe2b7db6d97"
            ],
            "layout": "IPY_MODEL_deecde0ef4bd408ebb8454b517bb8e29"
          }
        },
        "cc7703f87f994755b884da02dfb7cdba": {
          "model_module": "@jupyter-widgets/controls",
          "model_module_version": "1.5.0",
          "model_name": "DescriptionStyleModel",
          "state": {
            "_model_module": "@jupyter-widgets/controls",
            "_model_module_version": "1.5.0",
            "_model_name": "DescriptionStyleModel",
            "_view_count": null,
            "_view_module": "@jupyter-widgets/base",
            "_view_module_version": "1.2.0",
            "_view_name": "StyleView",
            "description_width": ""
          }
        },
        "ce948ff47c084716a00924327e0a3fe4": {
          "model_module": "@jupyter-widgets/controls",
          "model_module_version": "1.5.0",
          "model_name": "DescriptionStyleModel",
          "state": {
            "_model_module": "@jupyter-widgets/controls",
            "_model_module_version": "1.5.0",
            "_model_name": "DescriptionStyleModel",
            "_view_count": null,
            "_view_module": "@jupyter-widgets/base",
            "_view_module_version": "1.2.0",
            "_view_name": "StyleView",
            "description_width": ""
          }
        },
        "cec9e289061c4689b21e04a37a157e0e": {
          "model_module": "@jupyter-widgets/controls",
          "model_module_version": "1.5.0",
          "model_name": "DescriptionStyleModel",
          "state": {
            "_model_module": "@jupyter-widgets/controls",
            "_model_module_version": "1.5.0",
            "_model_name": "DescriptionStyleModel",
            "_view_count": null,
            "_view_module": "@jupyter-widgets/base",
            "_view_module_version": "1.2.0",
            "_view_name": "StyleView",
            "description_width": ""
          }
        },
        "d46f8d1e9e76478fab6dd656a8983ecf": {
          "model_module": "@jupyter-widgets/controls",
          "model_module_version": "1.5.0",
          "model_name": "DescriptionStyleModel",
          "state": {
            "_model_module": "@jupyter-widgets/controls",
            "_model_module_version": "1.5.0",
            "_model_name": "DescriptionStyleModel",
            "_view_count": null,
            "_view_module": "@jupyter-widgets/base",
            "_view_module_version": "1.2.0",
            "_view_name": "StyleView",
            "description_width": ""
          }
        },
        "d4901d4b5db7495594ddde1fdd5f7217": {
          "model_module": "@jupyter-widgets/base",
          "model_module_version": "1.2.0",
          "model_name": "LayoutModel",
          "state": {
            "_model_module": "@jupyter-widgets/base",
            "_model_module_version": "1.2.0",
            "_model_name": "LayoutModel",
            "_view_count": null,
            "_view_module": "@jupyter-widgets/base",
            "_view_module_version": "1.2.0",
            "_view_name": "LayoutView",
            "align_content": null,
            "align_items": null,
            "align_self": null,
            "border": null,
            "bottom": null,
            "display": null,
            "flex": null,
            "flex_flow": null,
            "grid_area": null,
            "grid_auto_columns": null,
            "grid_auto_flow": null,
            "grid_auto_rows": null,
            "grid_column": null,
            "grid_gap": null,
            "grid_row": null,
            "grid_template_areas": null,
            "grid_template_columns": null,
            "grid_template_rows": null,
            "height": null,
            "justify_content": null,
            "justify_items": null,
            "left": null,
            "margin": null,
            "max_height": null,
            "max_width": null,
            "min_height": null,
            "min_width": null,
            "object_fit": null,
            "object_position": null,
            "order": null,
            "overflow": null,
            "overflow_x": null,
            "overflow_y": null,
            "padding": null,
            "right": null,
            "top": null,
            "visibility": null,
            "width": null
          }
        },
        "d59e1a25bcbb4cb9b7e86610c2362b68": {
          "model_module": "@jupyter-widgets/base",
          "model_module_version": "1.2.0",
          "model_name": "LayoutModel",
          "state": {
            "_model_module": "@jupyter-widgets/base",
            "_model_module_version": "1.2.0",
            "_model_name": "LayoutModel",
            "_view_count": null,
            "_view_module": "@jupyter-widgets/base",
            "_view_module_version": "1.2.0",
            "_view_name": "LayoutView",
            "align_content": null,
            "align_items": null,
            "align_self": null,
            "border": null,
            "bottom": null,
            "display": null,
            "flex": null,
            "flex_flow": null,
            "grid_area": null,
            "grid_auto_columns": null,
            "grid_auto_flow": null,
            "grid_auto_rows": null,
            "grid_column": null,
            "grid_gap": null,
            "grid_row": null,
            "grid_template_areas": null,
            "grid_template_columns": null,
            "grid_template_rows": null,
            "height": null,
            "justify_content": null,
            "justify_items": null,
            "left": null,
            "margin": null,
            "max_height": null,
            "max_width": null,
            "min_height": null,
            "min_width": null,
            "object_fit": null,
            "object_position": null,
            "order": null,
            "overflow": null,
            "overflow_x": null,
            "overflow_y": null,
            "padding": null,
            "right": null,
            "top": null,
            "visibility": null,
            "width": null
          }
        },
        "d98f572549a740b4bad51bafbbb3410e": {
          "model_module": "@jupyter-widgets/controls",
          "model_module_version": "1.5.0",
          "model_name": "ProgressStyleModel",
          "state": {
            "_model_module": "@jupyter-widgets/controls",
            "_model_module_version": "1.5.0",
            "_model_name": "ProgressStyleModel",
            "_view_count": null,
            "_view_module": "@jupyter-widgets/base",
            "_view_module_version": "1.2.0",
            "_view_name": "StyleView",
            "bar_color": null,
            "description_width": ""
          }
        },
        "db058a81df9a498ca4ba2d5e595e0792": {
          "model_module": "@jupyter-widgets/controls",
          "model_module_version": "1.5.0",
          "model_name": "ProgressStyleModel",
          "state": {
            "_model_module": "@jupyter-widgets/controls",
            "_model_module_version": "1.5.0",
            "_model_name": "ProgressStyleModel",
            "_view_count": null,
            "_view_module": "@jupyter-widgets/base",
            "_view_module_version": "1.2.0",
            "_view_name": "StyleView",
            "bar_color": null,
            "description_width": ""
          }
        },
        "db57478597bc4914ba2f794af10af98f": {
          "model_module": "@jupyter-widgets/base",
          "model_module_version": "1.2.0",
          "model_name": "LayoutModel",
          "state": {
            "_model_module": "@jupyter-widgets/base",
            "_model_module_version": "1.2.0",
            "_model_name": "LayoutModel",
            "_view_count": null,
            "_view_module": "@jupyter-widgets/base",
            "_view_module_version": "1.2.0",
            "_view_name": "LayoutView",
            "align_content": null,
            "align_items": null,
            "align_self": null,
            "border": null,
            "bottom": null,
            "display": null,
            "flex": null,
            "flex_flow": null,
            "grid_area": null,
            "grid_auto_columns": null,
            "grid_auto_flow": null,
            "grid_auto_rows": null,
            "grid_column": null,
            "grid_gap": null,
            "grid_row": null,
            "grid_template_areas": null,
            "grid_template_columns": null,
            "grid_template_rows": null,
            "height": null,
            "justify_content": null,
            "justify_items": null,
            "left": null,
            "margin": null,
            "max_height": null,
            "max_width": null,
            "min_height": null,
            "min_width": null,
            "object_fit": null,
            "object_position": null,
            "order": null,
            "overflow": null,
            "overflow_x": null,
            "overflow_y": null,
            "padding": null,
            "right": null,
            "top": null,
            "visibility": null,
            "width": null
          }
        },
        "deecde0ef4bd408ebb8454b517bb8e29": {
          "model_module": "@jupyter-widgets/base",
          "model_module_version": "1.2.0",
          "model_name": "LayoutModel",
          "state": {
            "_model_module": "@jupyter-widgets/base",
            "_model_module_version": "1.2.0",
            "_model_name": "LayoutModel",
            "_view_count": null,
            "_view_module": "@jupyter-widgets/base",
            "_view_module_version": "1.2.0",
            "_view_name": "LayoutView",
            "align_content": null,
            "align_items": null,
            "align_self": null,
            "border": null,
            "bottom": null,
            "display": null,
            "flex": null,
            "flex_flow": null,
            "grid_area": null,
            "grid_auto_columns": null,
            "grid_auto_flow": null,
            "grid_auto_rows": null,
            "grid_column": null,
            "grid_gap": null,
            "grid_row": null,
            "grid_template_areas": null,
            "grid_template_columns": null,
            "grid_template_rows": null,
            "height": null,
            "justify_content": null,
            "justify_items": null,
            "left": null,
            "margin": null,
            "max_height": null,
            "max_width": null,
            "min_height": null,
            "min_width": null,
            "object_fit": null,
            "object_position": null,
            "order": null,
            "overflow": null,
            "overflow_x": null,
            "overflow_y": null,
            "padding": null,
            "right": null,
            "top": null,
            "visibility": null,
            "width": null
          }
        },
        "e41da80cecda491db2472245a51493fb": {
          "model_module": "@jupyter-widgets/controls",
          "model_module_version": "1.5.0",
          "model_name": "HBoxModel",
          "state": {
            "_dom_classes": [],
            "_model_module": "@jupyter-widgets/controls",
            "_model_module_version": "1.5.0",
            "_model_name": "HBoxModel",
            "_view_count": null,
            "_view_module": "@jupyter-widgets/controls",
            "_view_module_version": "1.5.0",
            "_view_name": "HBoxView",
            "box_style": "",
            "children": [
              "IPY_MODEL_03ddcbb8e4f44841916433e0f95051b8",
              "IPY_MODEL_783345d4e1094bdf854b84220cd43231",
              "IPY_MODEL_4bab330562794b118e05e2f8dbbe4bbc"
            ],
            "layout": "IPY_MODEL_7babed65cb614de6a9475e019033c700"
          }
        },
        "e68f77ca1e2c49a7ae3a83021690e08d": {
          "model_module": "@jupyter-widgets/base",
          "model_module_version": "1.2.0",
          "model_name": "LayoutModel",
          "state": {
            "_model_module": "@jupyter-widgets/base",
            "_model_module_version": "1.2.0",
            "_model_name": "LayoutModel",
            "_view_count": null,
            "_view_module": "@jupyter-widgets/base",
            "_view_module_version": "1.2.0",
            "_view_name": "LayoutView",
            "align_content": null,
            "align_items": null,
            "align_self": null,
            "border": null,
            "bottom": null,
            "display": null,
            "flex": null,
            "flex_flow": null,
            "grid_area": null,
            "grid_auto_columns": null,
            "grid_auto_flow": null,
            "grid_auto_rows": null,
            "grid_column": null,
            "grid_gap": null,
            "grid_row": null,
            "grid_template_areas": null,
            "grid_template_columns": null,
            "grid_template_rows": null,
            "height": null,
            "justify_content": null,
            "justify_items": null,
            "left": null,
            "margin": null,
            "max_height": null,
            "max_width": null,
            "min_height": null,
            "min_width": null,
            "object_fit": null,
            "object_position": null,
            "order": null,
            "overflow": null,
            "overflow_x": null,
            "overflow_y": null,
            "padding": null,
            "right": null,
            "top": null,
            "visibility": null,
            "width": null
          }
        },
        "eabd7b94f3844007bd291c31a69355b6": {
          "model_module": "@jupyter-widgets/controls",
          "model_module_version": "1.5.0",
          "model_name": "HTMLModel",
          "state": {
            "_dom_classes": [],
            "_model_module": "@jupyter-widgets/controls",
            "_model_module_version": "1.5.0",
            "_model_name": "HTMLModel",
            "_view_count": null,
            "_view_module": "@jupyter-widgets/controls",
            "_view_module_version": "1.5.0",
            "_view_name": "HTMLView",
            "description": "",
            "description_tooltip": null,
            "layout": "IPY_MODEL_03da28e1776c468a92855184ff123a19",
            "placeholder": "​",
            "style": "IPY_MODEL_f38e7be450b8408fa6cdbf33a61a268d",
            "value": "Map: 100%"
          }
        },
        "ead802c8fd584d01ab5effc54dea1110": {
          "model_module": "@jupyter-widgets/controls",
          "model_module_version": "1.5.0",
          "model_name": "DescriptionStyleModel",
          "state": {
            "_model_module": "@jupyter-widgets/controls",
            "_model_module_version": "1.5.0",
            "_model_name": "DescriptionStyleModel",
            "_view_count": null,
            "_view_module": "@jupyter-widgets/base",
            "_view_module_version": "1.2.0",
            "_view_name": "StyleView",
            "description_width": ""
          }
        },
        "eea27ce9da184779809182e776ea98d4": {
          "model_module": "@jupyter-widgets/controls",
          "model_module_version": "1.5.0",
          "model_name": "ProgressStyleModel",
          "state": {
            "_model_module": "@jupyter-widgets/controls",
            "_model_module_version": "1.5.0",
            "_model_name": "ProgressStyleModel",
            "_view_count": null,
            "_view_module": "@jupyter-widgets/base",
            "_view_module_version": "1.2.0",
            "_view_name": "StyleView",
            "bar_color": null,
            "description_width": ""
          }
        },
        "f3240ae9600a4e0385be9003f0c5597d": {
          "model_module": "@jupyter-widgets/controls",
          "model_module_version": "1.5.0",
          "model_name": "ProgressStyleModel",
          "state": {
            "_model_module": "@jupyter-widgets/controls",
            "_model_module_version": "1.5.0",
            "_model_name": "ProgressStyleModel",
            "_view_count": null,
            "_view_module": "@jupyter-widgets/base",
            "_view_module_version": "1.2.0",
            "_view_name": "StyleView",
            "bar_color": null,
            "description_width": ""
          }
        },
        "f38e7be450b8408fa6cdbf33a61a268d": {
          "model_module": "@jupyter-widgets/controls",
          "model_module_version": "1.5.0",
          "model_name": "DescriptionStyleModel",
          "state": {
            "_model_module": "@jupyter-widgets/controls",
            "_model_module_version": "1.5.0",
            "_model_name": "DescriptionStyleModel",
            "_view_count": null,
            "_view_module": "@jupyter-widgets/base",
            "_view_module_version": "1.2.0",
            "_view_name": "StyleView",
            "description_width": ""
          }
        },
        "f3ca911f7ed64a0abf5eae5beffc9cb1": {
          "model_module": "@jupyter-widgets/base",
          "model_module_version": "1.2.0",
          "model_name": "LayoutModel",
          "state": {
            "_model_module": "@jupyter-widgets/base",
            "_model_module_version": "1.2.0",
            "_model_name": "LayoutModel",
            "_view_count": null,
            "_view_module": "@jupyter-widgets/base",
            "_view_module_version": "1.2.0",
            "_view_name": "LayoutView",
            "align_content": null,
            "align_items": null,
            "align_self": null,
            "border": null,
            "bottom": null,
            "display": null,
            "flex": null,
            "flex_flow": null,
            "grid_area": null,
            "grid_auto_columns": null,
            "grid_auto_flow": null,
            "grid_auto_rows": null,
            "grid_column": null,
            "grid_gap": null,
            "grid_row": null,
            "grid_template_areas": null,
            "grid_template_columns": null,
            "grid_template_rows": null,
            "height": null,
            "justify_content": null,
            "justify_items": null,
            "left": null,
            "margin": null,
            "max_height": null,
            "max_width": null,
            "min_height": null,
            "min_width": null,
            "object_fit": null,
            "object_position": null,
            "order": null,
            "overflow": null,
            "overflow_x": null,
            "overflow_y": null,
            "padding": null,
            "right": null,
            "top": null,
            "visibility": null,
            "width": null
          }
        },
        "f530a311fa2b4699be8540ad732105df": {
          "model_module": "@jupyter-widgets/base",
          "model_module_version": "1.2.0",
          "model_name": "LayoutModel",
          "state": {
            "_model_module": "@jupyter-widgets/base",
            "_model_module_version": "1.2.0",
            "_model_name": "LayoutModel",
            "_view_count": null,
            "_view_module": "@jupyter-widgets/base",
            "_view_module_version": "1.2.0",
            "_view_name": "LayoutView",
            "align_content": null,
            "align_items": null,
            "align_self": null,
            "border": null,
            "bottom": null,
            "display": null,
            "flex": null,
            "flex_flow": null,
            "grid_area": null,
            "grid_auto_columns": null,
            "grid_auto_flow": null,
            "grid_auto_rows": null,
            "grid_column": null,
            "grid_gap": null,
            "grid_row": null,
            "grid_template_areas": null,
            "grid_template_columns": null,
            "grid_template_rows": null,
            "height": null,
            "justify_content": null,
            "justify_items": null,
            "left": null,
            "margin": null,
            "max_height": null,
            "max_width": null,
            "min_height": null,
            "min_width": null,
            "object_fit": null,
            "object_position": null,
            "order": null,
            "overflow": null,
            "overflow_x": null,
            "overflow_y": null,
            "padding": null,
            "right": null,
            "top": null,
            "visibility": null,
            "width": null
          }
        },
        "f62a376a398a42eca6f3746a438b918f": {
          "model_module": "@jupyter-widgets/controls",
          "model_module_version": "1.5.0",
          "model_name": "FloatProgressModel",
          "state": {
            "_dom_classes": [],
            "_model_module": "@jupyter-widgets/controls",
            "_model_module_version": "1.5.0",
            "_model_name": "FloatProgressModel",
            "_view_count": null,
            "_view_module": "@jupyter-widgets/controls",
            "_view_module_version": "1.5.0",
            "_view_name": "ProgressView",
            "bar_style": "",
            "description": "",
            "description_tooltip": null,
            "layout": "IPY_MODEL_00b0f8d5d7ca471d9bc92bc1cff4de4c",
            "max": 4116,
            "min": 0,
            "orientation": "horizontal",
            "style": "IPY_MODEL_5ba8e2ebff2c45b883c24d4d783e8c40",
            "value": 4116
          }
        },
        "f8946c5df37d48d291b50dbf5db6c331": {
          "model_module": "@jupyter-widgets/controls",
          "model_module_version": "1.5.0",
          "model_name": "ProgressStyleModel",
          "state": {
            "_model_module": "@jupyter-widgets/controls",
            "_model_module_version": "1.5.0",
            "_model_name": "ProgressStyleModel",
            "_view_count": null,
            "_view_module": "@jupyter-widgets/base",
            "_view_module_version": "1.2.0",
            "_view_name": "StyleView",
            "bar_color": null,
            "description_width": ""
          }
        },
        "f9414c9880ee4e20b0ee99ff8e8c1460": {
          "model_module": "@jupyter-widgets/controls",
          "model_module_version": "1.5.0",
          "model_name": "HBoxModel",
          "state": {
            "_dom_classes": [],
            "_model_module": "@jupyter-widgets/controls",
            "_model_module_version": "1.5.0",
            "_model_name": "HBoxModel",
            "_view_count": null,
            "_view_module": "@jupyter-widgets/controls",
            "_view_module_version": "1.5.0",
            "_view_name": "HBoxView",
            "box_style": "",
            "children": [
              "IPY_MODEL_eabd7b94f3844007bd291c31a69355b6",
              "IPY_MODEL_4c871ff71f36482094ef9ff93d0d3633",
              "IPY_MODEL_8b0688a2fdb0483b8573b1872413119d"
            ],
            "layout": "IPY_MODEL_2610078c70104950857c354455ea115d"
          }
        },
        "fca92babec7d4235b8d8f27436093fec": {
          "model_module": "@jupyter-widgets/base",
          "model_module_version": "1.2.0",
          "model_name": "LayoutModel",
          "state": {
            "_model_module": "@jupyter-widgets/base",
            "_model_module_version": "1.2.0",
            "_model_name": "LayoutModel",
            "_view_count": null,
            "_view_module": "@jupyter-widgets/base",
            "_view_module_version": "1.2.0",
            "_view_name": "LayoutView",
            "align_content": null,
            "align_items": null,
            "align_self": null,
            "border": null,
            "bottom": null,
            "display": null,
            "flex": null,
            "flex_flow": null,
            "grid_area": null,
            "grid_auto_columns": null,
            "grid_auto_flow": null,
            "grid_auto_rows": null,
            "grid_column": null,
            "grid_gap": null,
            "grid_row": null,
            "grid_template_areas": null,
            "grid_template_columns": null,
            "grid_template_rows": null,
            "height": null,
            "justify_content": null,
            "justify_items": null,
            "left": null,
            "margin": null,
            "max_height": null,
            "max_width": null,
            "min_height": null,
            "min_width": null,
            "object_fit": null,
            "object_position": null,
            "order": null,
            "overflow": null,
            "overflow_x": null,
            "overflow_y": null,
            "padding": null,
            "right": null,
            "top": null,
            "visibility": null,
            "width": null
          }
        },
        "fcb9704dcffe4edabee12a5c2dfea3a5": {
          "model_module": "@jupyter-widgets/base",
          "model_module_version": "1.2.0",
          "model_name": "LayoutModel",
          "state": {
            "_model_module": "@jupyter-widgets/base",
            "_model_module_version": "1.2.0",
            "_model_name": "LayoutModel",
            "_view_count": null,
            "_view_module": "@jupyter-widgets/base",
            "_view_module_version": "1.2.0",
            "_view_name": "LayoutView",
            "align_content": null,
            "align_items": null,
            "align_self": null,
            "border": null,
            "bottom": null,
            "display": null,
            "flex": null,
            "flex_flow": null,
            "grid_area": null,
            "grid_auto_columns": null,
            "grid_auto_flow": null,
            "grid_auto_rows": null,
            "grid_column": null,
            "grid_gap": null,
            "grid_row": null,
            "grid_template_areas": null,
            "grid_template_columns": null,
            "grid_template_rows": null,
            "height": null,
            "justify_content": null,
            "justify_items": null,
            "left": null,
            "margin": null,
            "max_height": null,
            "max_width": null,
            "min_height": null,
            "min_width": null,
            "object_fit": null,
            "object_position": null,
            "order": null,
            "overflow": null,
            "overflow_x": null,
            "overflow_y": null,
            "padding": null,
            "right": null,
            "top": null,
            "visibility": null,
            "width": null
          }
        },
        "ec3b11d2c6f04cbf81a937163ae872e4": {
          "model_module": "@jupyter-widgets/controls",
          "model_name": "HBoxModel",
          "model_module_version": "1.5.0",
          "state": {
            "_dom_classes": [],
            "_model_module": "@jupyter-widgets/controls",
            "_model_module_version": "1.5.0",
            "_model_name": "HBoxModel",
            "_view_count": null,
            "_view_module": "@jupyter-widgets/controls",
            "_view_module_version": "1.5.0",
            "_view_name": "HBoxView",
            "box_style": "",
            "children": [
              "IPY_MODEL_19a37c7d52dd4aadbc0e61dff8b2a4f2",
              "IPY_MODEL_1dc8006b65ef44ab8d04d264e6620996",
              "IPY_MODEL_c23b1ec0399e417b9a3bf96313990ab4"
            ],
            "layout": "IPY_MODEL_a506777a0bfa45aba1ee8618e74e6c9a"
          }
        },
        "19a37c7d52dd4aadbc0e61dff8b2a4f2": {
          "model_module": "@jupyter-widgets/controls",
          "model_name": "HTMLModel",
          "model_module_version": "1.5.0",
          "state": {
            "_dom_classes": [],
            "_model_module": "@jupyter-widgets/controls",
            "_model_module_version": "1.5.0",
            "_model_name": "HTMLModel",
            "_view_count": null,
            "_view_module": "@jupyter-widgets/controls",
            "_view_module_version": "1.5.0",
            "_view_name": "HTMLView",
            "description": "",
            "description_tooltip": null,
            "layout": "IPY_MODEL_7526b7e11aa24740be56349703af34b0",
            "placeholder": "​",
            "style": "IPY_MODEL_e006789671bd4419991cd01d57ee8203",
            "value": "Map: 100%"
          }
        },
        "1dc8006b65ef44ab8d04d264e6620996": {
          "model_module": "@jupyter-widgets/controls",
          "model_name": "FloatProgressModel",
          "model_module_version": "1.5.0",
          "state": {
            "_dom_classes": [],
            "_model_module": "@jupyter-widgets/controls",
            "_model_module_version": "1.5.0",
            "_model_name": "FloatProgressModel",
            "_view_count": null,
            "_view_module": "@jupyter-widgets/controls",
            "_view_module_version": "1.5.0",
            "_view_name": "ProgressView",
            "bar_style": "",
            "description": "",
            "description_tooltip": null,
            "layout": "IPY_MODEL_bc47a578bf4f451cb3b7ec22dc816ad5",
            "max": 32924,
            "min": 0,
            "orientation": "horizontal",
            "style": "IPY_MODEL_9cdc9a20bf24408fb1f25f9886ef9bbc",
            "value": 32924
          }
        },
        "c23b1ec0399e417b9a3bf96313990ab4": {
          "model_module": "@jupyter-widgets/controls",
          "model_name": "HTMLModel",
          "model_module_version": "1.5.0",
          "state": {
            "_dom_classes": [],
            "_model_module": "@jupyter-widgets/controls",
            "_model_module_version": "1.5.0",
            "_model_name": "HTMLModel",
            "_view_count": null,
            "_view_module": "@jupyter-widgets/controls",
            "_view_module_version": "1.5.0",
            "_view_name": "HTMLView",
            "description": "",
            "description_tooltip": null,
            "layout": "IPY_MODEL_2d8d2ab49c7f4d91b466669ee0713dbb",
            "placeholder": "​",
            "style": "IPY_MODEL_a542a3a7340242438d90400618219578",
            "value": " 32924/32924 [00:11&lt;00:00, 3098.19 examples/s]"
          }
        },
        "a506777a0bfa45aba1ee8618e74e6c9a": {
          "model_module": "@jupyter-widgets/base",
          "model_name": "LayoutModel",
          "model_module_version": "1.2.0",
          "state": {
            "_model_module": "@jupyter-widgets/base",
            "_model_module_version": "1.2.0",
            "_model_name": "LayoutModel",
            "_view_count": null,
            "_view_module": "@jupyter-widgets/base",
            "_view_module_version": "1.2.0",
            "_view_name": "LayoutView",
            "align_content": null,
            "align_items": null,
            "align_self": null,
            "border": null,
            "bottom": null,
            "display": null,
            "flex": null,
            "flex_flow": null,
            "grid_area": null,
            "grid_auto_columns": null,
            "grid_auto_flow": null,
            "grid_auto_rows": null,
            "grid_column": null,
            "grid_gap": null,
            "grid_row": null,
            "grid_template_areas": null,
            "grid_template_columns": null,
            "grid_template_rows": null,
            "height": null,
            "justify_content": null,
            "justify_items": null,
            "left": null,
            "margin": null,
            "max_height": null,
            "max_width": null,
            "min_height": null,
            "min_width": null,
            "object_fit": null,
            "object_position": null,
            "order": null,
            "overflow": null,
            "overflow_x": null,
            "overflow_y": null,
            "padding": null,
            "right": null,
            "top": null,
            "visibility": "hidden",
            "width": null
          }
        },
        "7526b7e11aa24740be56349703af34b0": {
          "model_module": "@jupyter-widgets/base",
          "model_name": "LayoutModel",
          "model_module_version": "1.2.0",
          "state": {
            "_model_module": "@jupyter-widgets/base",
            "_model_module_version": "1.2.0",
            "_model_name": "LayoutModel",
            "_view_count": null,
            "_view_module": "@jupyter-widgets/base",
            "_view_module_version": "1.2.0",
            "_view_name": "LayoutView",
            "align_content": null,
            "align_items": null,
            "align_self": null,
            "border": null,
            "bottom": null,
            "display": null,
            "flex": null,
            "flex_flow": null,
            "grid_area": null,
            "grid_auto_columns": null,
            "grid_auto_flow": null,
            "grid_auto_rows": null,
            "grid_column": null,
            "grid_gap": null,
            "grid_row": null,
            "grid_template_areas": null,
            "grid_template_columns": null,
            "grid_template_rows": null,
            "height": null,
            "justify_content": null,
            "justify_items": null,
            "left": null,
            "margin": null,
            "max_height": null,
            "max_width": null,
            "min_height": null,
            "min_width": null,
            "object_fit": null,
            "object_position": null,
            "order": null,
            "overflow": null,
            "overflow_x": null,
            "overflow_y": null,
            "padding": null,
            "right": null,
            "top": null,
            "visibility": null,
            "width": null
          }
        },
        "e006789671bd4419991cd01d57ee8203": {
          "model_module": "@jupyter-widgets/controls",
          "model_name": "DescriptionStyleModel",
          "model_module_version": "1.5.0",
          "state": {
            "_model_module": "@jupyter-widgets/controls",
            "_model_module_version": "1.5.0",
            "_model_name": "DescriptionStyleModel",
            "_view_count": null,
            "_view_module": "@jupyter-widgets/base",
            "_view_module_version": "1.2.0",
            "_view_name": "StyleView",
            "description_width": ""
          }
        },
        "bc47a578bf4f451cb3b7ec22dc816ad5": {
          "model_module": "@jupyter-widgets/base",
          "model_name": "LayoutModel",
          "model_module_version": "1.2.0",
          "state": {
            "_model_module": "@jupyter-widgets/base",
            "_model_module_version": "1.2.0",
            "_model_name": "LayoutModel",
            "_view_count": null,
            "_view_module": "@jupyter-widgets/base",
            "_view_module_version": "1.2.0",
            "_view_name": "LayoutView",
            "align_content": null,
            "align_items": null,
            "align_self": null,
            "border": null,
            "bottom": null,
            "display": null,
            "flex": null,
            "flex_flow": null,
            "grid_area": null,
            "grid_auto_columns": null,
            "grid_auto_flow": null,
            "grid_auto_rows": null,
            "grid_column": null,
            "grid_gap": null,
            "grid_row": null,
            "grid_template_areas": null,
            "grid_template_columns": null,
            "grid_template_rows": null,
            "height": null,
            "justify_content": null,
            "justify_items": null,
            "left": null,
            "margin": null,
            "max_height": null,
            "max_width": null,
            "min_height": null,
            "min_width": null,
            "object_fit": null,
            "object_position": null,
            "order": null,
            "overflow": null,
            "overflow_x": null,
            "overflow_y": null,
            "padding": null,
            "right": null,
            "top": null,
            "visibility": null,
            "width": null
          }
        },
        "9cdc9a20bf24408fb1f25f9886ef9bbc": {
          "model_module": "@jupyter-widgets/controls",
          "model_name": "ProgressStyleModel",
          "model_module_version": "1.5.0",
          "state": {
            "_model_module": "@jupyter-widgets/controls",
            "_model_module_version": "1.5.0",
            "_model_name": "ProgressStyleModel",
            "_view_count": null,
            "_view_module": "@jupyter-widgets/base",
            "_view_module_version": "1.2.0",
            "_view_name": "StyleView",
            "bar_color": null,
            "description_width": ""
          }
        },
        "2d8d2ab49c7f4d91b466669ee0713dbb": {
          "model_module": "@jupyter-widgets/base",
          "model_name": "LayoutModel",
          "model_module_version": "1.2.0",
          "state": {
            "_model_module": "@jupyter-widgets/base",
            "_model_module_version": "1.2.0",
            "_model_name": "LayoutModel",
            "_view_count": null,
            "_view_module": "@jupyter-widgets/base",
            "_view_module_version": "1.2.0",
            "_view_name": "LayoutView",
            "align_content": null,
            "align_items": null,
            "align_self": null,
            "border": null,
            "bottom": null,
            "display": null,
            "flex": null,
            "flex_flow": null,
            "grid_area": null,
            "grid_auto_columns": null,
            "grid_auto_flow": null,
            "grid_auto_rows": null,
            "grid_column": null,
            "grid_gap": null,
            "grid_row": null,
            "grid_template_areas": null,
            "grid_template_columns": null,
            "grid_template_rows": null,
            "height": null,
            "justify_content": null,
            "justify_items": null,
            "left": null,
            "margin": null,
            "max_height": null,
            "max_width": null,
            "min_height": null,
            "min_width": null,
            "object_fit": null,
            "object_position": null,
            "order": null,
            "overflow": null,
            "overflow_x": null,
            "overflow_y": null,
            "padding": null,
            "right": null,
            "top": null,
            "visibility": null,
            "width": null
          }
        },
        "a542a3a7340242438d90400618219578": {
          "model_module": "@jupyter-widgets/controls",
          "model_name": "DescriptionStyleModel",
          "model_module_version": "1.5.0",
          "state": {
            "_model_module": "@jupyter-widgets/controls",
            "_model_module_version": "1.5.0",
            "_model_name": "DescriptionStyleModel",
            "_view_count": null,
            "_view_module": "@jupyter-widgets/base",
            "_view_module_version": "1.2.0",
            "_view_name": "StyleView",
            "description_width": ""
          }
        },
        "a22a3e5225384945b84805a85e85b943": {
          "model_module": "@jupyter-widgets/controls",
          "model_name": "HBoxModel",
          "model_module_version": "1.5.0",
          "state": {
            "_dom_classes": [],
            "_model_module": "@jupyter-widgets/controls",
            "_model_module_version": "1.5.0",
            "_model_name": "HBoxModel",
            "_view_count": null,
            "_view_module": "@jupyter-widgets/controls",
            "_view_module_version": "1.5.0",
            "_view_name": "HBoxView",
            "box_style": "",
            "children": [
              "IPY_MODEL_1922700251994205a1e5d7570cd8f000",
              "IPY_MODEL_c9982cd952fb4ab38f8c00779a2a550d",
              "IPY_MODEL_2f0e745b9401494180173a5f721e7bca"
            ],
            "layout": "IPY_MODEL_8229936012734c6e96b40740349deb46"
          }
        },
        "1922700251994205a1e5d7570cd8f000": {
          "model_module": "@jupyter-widgets/controls",
          "model_name": "HTMLModel",
          "model_module_version": "1.5.0",
          "state": {
            "_dom_classes": [],
            "_model_module": "@jupyter-widgets/controls",
            "_model_module_version": "1.5.0",
            "_model_name": "HTMLModel",
            "_view_count": null,
            "_view_module": "@jupyter-widgets/controls",
            "_view_module_version": "1.5.0",
            "_view_name": "HTMLView",
            "description": "",
            "description_tooltip": null,
            "layout": "IPY_MODEL_142f1e0610c64df793439e279857dbab",
            "placeholder": "​",
            "style": "IPY_MODEL_6864d94c415c40c98832ec52852ef108",
            "value": "Map:  97%"
          }
        },
        "c9982cd952fb4ab38f8c00779a2a550d": {
          "model_module": "@jupyter-widgets/controls",
          "model_name": "FloatProgressModel",
          "model_module_version": "1.5.0",
          "state": {
            "_dom_classes": [],
            "_model_module": "@jupyter-widgets/controls",
            "_model_module_version": "1.5.0",
            "_model_name": "FloatProgressModel",
            "_view_count": null,
            "_view_module": "@jupyter-widgets/controls",
            "_view_module_version": "1.5.0",
            "_view_name": "ProgressView",
            "bar_style": "",
            "description": "",
            "description_tooltip": null,
            "layout": "IPY_MODEL_157734a090b84ebfbb2748a734638e66",
            "max": 4115,
            "min": 0,
            "orientation": "horizontal",
            "style": "IPY_MODEL_111801f2b7eb476bb78aa8542225f435",
            "value": 4115
          }
        },
        "2f0e745b9401494180173a5f721e7bca": {
          "model_module": "@jupyter-widgets/controls",
          "model_name": "HTMLModel",
          "model_module_version": "1.5.0",
          "state": {
            "_dom_classes": [],
            "_model_module": "@jupyter-widgets/controls",
            "_model_module_version": "1.5.0",
            "_model_name": "HTMLModel",
            "_view_count": null,
            "_view_module": "@jupyter-widgets/controls",
            "_view_module_version": "1.5.0",
            "_view_name": "HTMLView",
            "description": "",
            "description_tooltip": null,
            "layout": "IPY_MODEL_1d96f74706ff40e39b0acb1ad1fac909",
            "placeholder": "​",
            "style": "IPY_MODEL_f3f9dafa73f847f3ba4795716de2af55",
            "value": " 4000/4115 [00:01&lt;00:00, 3750.54 examples/s]"
          }
        },
        "8229936012734c6e96b40740349deb46": {
          "model_module": "@jupyter-widgets/base",
          "model_name": "LayoutModel",
          "model_module_version": "1.2.0",
          "state": {
            "_model_module": "@jupyter-widgets/base",
            "_model_module_version": "1.2.0",
            "_model_name": "LayoutModel",
            "_view_count": null,
            "_view_module": "@jupyter-widgets/base",
            "_view_module_version": "1.2.0",
            "_view_name": "LayoutView",
            "align_content": null,
            "align_items": null,
            "align_self": null,
            "border": null,
            "bottom": null,
            "display": null,
            "flex": null,
            "flex_flow": null,
            "grid_area": null,
            "grid_auto_columns": null,
            "grid_auto_flow": null,
            "grid_auto_rows": null,
            "grid_column": null,
            "grid_gap": null,
            "grid_row": null,
            "grid_template_areas": null,
            "grid_template_columns": null,
            "grid_template_rows": null,
            "height": null,
            "justify_content": null,
            "justify_items": null,
            "left": null,
            "margin": null,
            "max_height": null,
            "max_width": null,
            "min_height": null,
            "min_width": null,
            "object_fit": null,
            "object_position": null,
            "order": null,
            "overflow": null,
            "overflow_x": null,
            "overflow_y": null,
            "padding": null,
            "right": null,
            "top": null,
            "visibility": "hidden",
            "width": null
          }
        },
        "142f1e0610c64df793439e279857dbab": {
          "model_module": "@jupyter-widgets/base",
          "model_name": "LayoutModel",
          "model_module_version": "1.2.0",
          "state": {
            "_model_module": "@jupyter-widgets/base",
            "_model_module_version": "1.2.0",
            "_model_name": "LayoutModel",
            "_view_count": null,
            "_view_module": "@jupyter-widgets/base",
            "_view_module_version": "1.2.0",
            "_view_name": "LayoutView",
            "align_content": null,
            "align_items": null,
            "align_self": null,
            "border": null,
            "bottom": null,
            "display": null,
            "flex": null,
            "flex_flow": null,
            "grid_area": null,
            "grid_auto_columns": null,
            "grid_auto_flow": null,
            "grid_auto_rows": null,
            "grid_column": null,
            "grid_gap": null,
            "grid_row": null,
            "grid_template_areas": null,
            "grid_template_columns": null,
            "grid_template_rows": null,
            "height": null,
            "justify_content": null,
            "justify_items": null,
            "left": null,
            "margin": null,
            "max_height": null,
            "max_width": null,
            "min_height": null,
            "min_width": null,
            "object_fit": null,
            "object_position": null,
            "order": null,
            "overflow": null,
            "overflow_x": null,
            "overflow_y": null,
            "padding": null,
            "right": null,
            "top": null,
            "visibility": null,
            "width": null
          }
        },
        "6864d94c415c40c98832ec52852ef108": {
          "model_module": "@jupyter-widgets/controls",
          "model_name": "DescriptionStyleModel",
          "model_module_version": "1.5.0",
          "state": {
            "_model_module": "@jupyter-widgets/controls",
            "_model_module_version": "1.5.0",
            "_model_name": "DescriptionStyleModel",
            "_view_count": null,
            "_view_module": "@jupyter-widgets/base",
            "_view_module_version": "1.2.0",
            "_view_name": "StyleView",
            "description_width": ""
          }
        },
        "157734a090b84ebfbb2748a734638e66": {
          "model_module": "@jupyter-widgets/base",
          "model_name": "LayoutModel",
          "model_module_version": "1.2.0",
          "state": {
            "_model_module": "@jupyter-widgets/base",
            "_model_module_version": "1.2.0",
            "_model_name": "LayoutModel",
            "_view_count": null,
            "_view_module": "@jupyter-widgets/base",
            "_view_module_version": "1.2.0",
            "_view_name": "LayoutView",
            "align_content": null,
            "align_items": null,
            "align_self": null,
            "border": null,
            "bottom": null,
            "display": null,
            "flex": null,
            "flex_flow": null,
            "grid_area": null,
            "grid_auto_columns": null,
            "grid_auto_flow": null,
            "grid_auto_rows": null,
            "grid_column": null,
            "grid_gap": null,
            "grid_row": null,
            "grid_template_areas": null,
            "grid_template_columns": null,
            "grid_template_rows": null,
            "height": null,
            "justify_content": null,
            "justify_items": null,
            "left": null,
            "margin": null,
            "max_height": null,
            "max_width": null,
            "min_height": null,
            "min_width": null,
            "object_fit": null,
            "object_position": null,
            "order": null,
            "overflow": null,
            "overflow_x": null,
            "overflow_y": null,
            "padding": null,
            "right": null,
            "top": null,
            "visibility": null,
            "width": null
          }
        },
        "111801f2b7eb476bb78aa8542225f435": {
          "model_module": "@jupyter-widgets/controls",
          "model_name": "ProgressStyleModel",
          "model_module_version": "1.5.0",
          "state": {
            "_model_module": "@jupyter-widgets/controls",
            "_model_module_version": "1.5.0",
            "_model_name": "ProgressStyleModel",
            "_view_count": null,
            "_view_module": "@jupyter-widgets/base",
            "_view_module_version": "1.2.0",
            "_view_name": "StyleView",
            "bar_color": null,
            "description_width": ""
          }
        },
        "1d96f74706ff40e39b0acb1ad1fac909": {
          "model_module": "@jupyter-widgets/base",
          "model_name": "LayoutModel",
          "model_module_version": "1.2.0",
          "state": {
            "_model_module": "@jupyter-widgets/base",
            "_model_module_version": "1.2.0",
            "_model_name": "LayoutModel",
            "_view_count": null,
            "_view_module": "@jupyter-widgets/base",
            "_view_module_version": "1.2.0",
            "_view_name": "LayoutView",
            "align_content": null,
            "align_items": null,
            "align_self": null,
            "border": null,
            "bottom": null,
            "display": null,
            "flex": null,
            "flex_flow": null,
            "grid_area": null,
            "grid_auto_columns": null,
            "grid_auto_flow": null,
            "grid_auto_rows": null,
            "grid_column": null,
            "grid_gap": null,
            "grid_row": null,
            "grid_template_areas": null,
            "grid_template_columns": null,
            "grid_template_rows": null,
            "height": null,
            "justify_content": null,
            "justify_items": null,
            "left": null,
            "margin": null,
            "max_height": null,
            "max_width": null,
            "min_height": null,
            "min_width": null,
            "object_fit": null,
            "object_position": null,
            "order": null,
            "overflow": null,
            "overflow_x": null,
            "overflow_y": null,
            "padding": null,
            "right": null,
            "top": null,
            "visibility": null,
            "width": null
          }
        },
        "f3f9dafa73f847f3ba4795716de2af55": {
          "model_module": "@jupyter-widgets/controls",
          "model_name": "DescriptionStyleModel",
          "model_module_version": "1.5.0",
          "state": {
            "_model_module": "@jupyter-widgets/controls",
            "_model_module_version": "1.5.0",
            "_model_name": "DescriptionStyleModel",
            "_view_count": null,
            "_view_module": "@jupyter-widgets/base",
            "_view_module_version": "1.2.0",
            "_view_name": "StyleView",
            "description_width": ""
          }
        },
        "a05f97458e994052a94fe24ab439a234": {
          "model_module": "@jupyter-widgets/controls",
          "model_name": "HBoxModel",
          "model_module_version": "1.5.0",
          "state": {
            "_dom_classes": [],
            "_model_module": "@jupyter-widgets/controls",
            "_model_module_version": "1.5.0",
            "_model_name": "HBoxModel",
            "_view_count": null,
            "_view_module": "@jupyter-widgets/controls",
            "_view_module_version": "1.5.0",
            "_view_name": "HBoxView",
            "box_style": "",
            "children": [
              "IPY_MODEL_11ed170170274d6fb0a3732221fd129d",
              "IPY_MODEL_5aef77a7cf924fd89d824f2267ae22f9",
              "IPY_MODEL_45a2a5a2d5d349e48067ab6cb512f26a"
            ],
            "layout": "IPY_MODEL_8736add452684423861582ab07814018"
          }
        },
        "11ed170170274d6fb0a3732221fd129d": {
          "model_module": "@jupyter-widgets/controls",
          "model_name": "HTMLModel",
          "model_module_version": "1.5.0",
          "state": {
            "_dom_classes": [],
            "_model_module": "@jupyter-widgets/controls",
            "_model_module_version": "1.5.0",
            "_model_name": "HTMLModel",
            "_view_count": null,
            "_view_module": "@jupyter-widgets/controls",
            "_view_module_version": "1.5.0",
            "_view_name": "HTMLView",
            "description": "",
            "description_tooltip": null,
            "layout": "IPY_MODEL_b5f66ef1ec99476ca3f40a42e1d8f3fd",
            "placeholder": "​",
            "style": "IPY_MODEL_91094e57d8e9435d8be15e6f2c3630b5",
            "value": "Map:  97%"
          }
        },
        "5aef77a7cf924fd89d824f2267ae22f9": {
          "model_module": "@jupyter-widgets/controls",
          "model_name": "FloatProgressModel",
          "model_module_version": "1.5.0",
          "state": {
            "_dom_classes": [],
            "_model_module": "@jupyter-widgets/controls",
            "_model_module_version": "1.5.0",
            "_model_name": "FloatProgressModel",
            "_view_count": null,
            "_view_module": "@jupyter-widgets/controls",
            "_view_module_version": "1.5.0",
            "_view_name": "ProgressView",
            "bar_style": "",
            "description": "",
            "description_tooltip": null,
            "layout": "IPY_MODEL_2c2caa5b8ac64d4b8b760320fab7b3dd",
            "max": 4116,
            "min": 0,
            "orientation": "horizontal",
            "style": "IPY_MODEL_03238e235c5949f892f92a6cbaef0408",
            "value": 4116
          }
        },
        "45a2a5a2d5d349e48067ab6cb512f26a": {
          "model_module": "@jupyter-widgets/controls",
          "model_name": "HTMLModel",
          "model_module_version": "1.5.0",
          "state": {
            "_dom_classes": [],
            "_model_module": "@jupyter-widgets/controls",
            "_model_module_version": "1.5.0",
            "_model_name": "HTMLModel",
            "_view_count": null,
            "_view_module": "@jupyter-widgets/controls",
            "_view_module_version": "1.5.0",
            "_view_name": "HTMLView",
            "description": "",
            "description_tooltip": null,
            "layout": "IPY_MODEL_ba7555b1a5004de39722b44dde0c2421",
            "placeholder": "​",
            "style": "IPY_MODEL_c2fd17542dd049ce8ee7a1b4e82c172f",
            "value": " 4000/4116 [00:01&lt;00:00, 2048.73 examples/s]"
          }
        },
        "8736add452684423861582ab07814018": {
          "model_module": "@jupyter-widgets/base",
          "model_name": "LayoutModel",
          "model_module_version": "1.2.0",
          "state": {
            "_model_module": "@jupyter-widgets/base",
            "_model_module_version": "1.2.0",
            "_model_name": "LayoutModel",
            "_view_count": null,
            "_view_module": "@jupyter-widgets/base",
            "_view_module_version": "1.2.0",
            "_view_name": "LayoutView",
            "align_content": null,
            "align_items": null,
            "align_self": null,
            "border": null,
            "bottom": null,
            "display": null,
            "flex": null,
            "flex_flow": null,
            "grid_area": null,
            "grid_auto_columns": null,
            "grid_auto_flow": null,
            "grid_auto_rows": null,
            "grid_column": null,
            "grid_gap": null,
            "grid_row": null,
            "grid_template_areas": null,
            "grid_template_columns": null,
            "grid_template_rows": null,
            "height": null,
            "justify_content": null,
            "justify_items": null,
            "left": null,
            "margin": null,
            "max_height": null,
            "max_width": null,
            "min_height": null,
            "min_width": null,
            "object_fit": null,
            "object_position": null,
            "order": null,
            "overflow": null,
            "overflow_x": null,
            "overflow_y": null,
            "padding": null,
            "right": null,
            "top": null,
            "visibility": "hidden",
            "width": null
          }
        },
        "b5f66ef1ec99476ca3f40a42e1d8f3fd": {
          "model_module": "@jupyter-widgets/base",
          "model_name": "LayoutModel",
          "model_module_version": "1.2.0",
          "state": {
            "_model_module": "@jupyter-widgets/base",
            "_model_module_version": "1.2.0",
            "_model_name": "LayoutModel",
            "_view_count": null,
            "_view_module": "@jupyter-widgets/base",
            "_view_module_version": "1.2.0",
            "_view_name": "LayoutView",
            "align_content": null,
            "align_items": null,
            "align_self": null,
            "border": null,
            "bottom": null,
            "display": null,
            "flex": null,
            "flex_flow": null,
            "grid_area": null,
            "grid_auto_columns": null,
            "grid_auto_flow": null,
            "grid_auto_rows": null,
            "grid_column": null,
            "grid_gap": null,
            "grid_row": null,
            "grid_template_areas": null,
            "grid_template_columns": null,
            "grid_template_rows": null,
            "height": null,
            "justify_content": null,
            "justify_items": null,
            "left": null,
            "margin": null,
            "max_height": null,
            "max_width": null,
            "min_height": null,
            "min_width": null,
            "object_fit": null,
            "object_position": null,
            "order": null,
            "overflow": null,
            "overflow_x": null,
            "overflow_y": null,
            "padding": null,
            "right": null,
            "top": null,
            "visibility": null,
            "width": null
          }
        },
        "91094e57d8e9435d8be15e6f2c3630b5": {
          "model_module": "@jupyter-widgets/controls",
          "model_name": "DescriptionStyleModel",
          "model_module_version": "1.5.0",
          "state": {
            "_model_module": "@jupyter-widgets/controls",
            "_model_module_version": "1.5.0",
            "_model_name": "DescriptionStyleModel",
            "_view_count": null,
            "_view_module": "@jupyter-widgets/base",
            "_view_module_version": "1.2.0",
            "_view_name": "StyleView",
            "description_width": ""
          }
        },
        "2c2caa5b8ac64d4b8b760320fab7b3dd": {
          "model_module": "@jupyter-widgets/base",
          "model_name": "LayoutModel",
          "model_module_version": "1.2.0",
          "state": {
            "_model_module": "@jupyter-widgets/base",
            "_model_module_version": "1.2.0",
            "_model_name": "LayoutModel",
            "_view_count": null,
            "_view_module": "@jupyter-widgets/base",
            "_view_module_version": "1.2.0",
            "_view_name": "LayoutView",
            "align_content": null,
            "align_items": null,
            "align_self": null,
            "border": null,
            "bottom": null,
            "display": null,
            "flex": null,
            "flex_flow": null,
            "grid_area": null,
            "grid_auto_columns": null,
            "grid_auto_flow": null,
            "grid_auto_rows": null,
            "grid_column": null,
            "grid_gap": null,
            "grid_row": null,
            "grid_template_areas": null,
            "grid_template_columns": null,
            "grid_template_rows": null,
            "height": null,
            "justify_content": null,
            "justify_items": null,
            "left": null,
            "margin": null,
            "max_height": null,
            "max_width": null,
            "min_height": null,
            "min_width": null,
            "object_fit": null,
            "object_position": null,
            "order": null,
            "overflow": null,
            "overflow_x": null,
            "overflow_y": null,
            "padding": null,
            "right": null,
            "top": null,
            "visibility": null,
            "width": null
          }
        },
        "03238e235c5949f892f92a6cbaef0408": {
          "model_module": "@jupyter-widgets/controls",
          "model_name": "ProgressStyleModel",
          "model_module_version": "1.5.0",
          "state": {
            "_model_module": "@jupyter-widgets/controls",
            "_model_module_version": "1.5.0",
            "_model_name": "ProgressStyleModel",
            "_view_count": null,
            "_view_module": "@jupyter-widgets/base",
            "_view_module_version": "1.2.0",
            "_view_name": "StyleView",
            "bar_color": null,
            "description_width": ""
          }
        },
        "ba7555b1a5004de39722b44dde0c2421": {
          "model_module": "@jupyter-widgets/base",
          "model_name": "LayoutModel",
          "model_module_version": "1.2.0",
          "state": {
            "_model_module": "@jupyter-widgets/base",
            "_model_module_version": "1.2.0",
            "_model_name": "LayoutModel",
            "_view_count": null,
            "_view_module": "@jupyter-widgets/base",
            "_view_module_version": "1.2.0",
            "_view_name": "LayoutView",
            "align_content": null,
            "align_items": null,
            "align_self": null,
            "border": null,
            "bottom": null,
            "display": null,
            "flex": null,
            "flex_flow": null,
            "grid_area": null,
            "grid_auto_columns": null,
            "grid_auto_flow": null,
            "grid_auto_rows": null,
            "grid_column": null,
            "grid_gap": null,
            "grid_row": null,
            "grid_template_areas": null,
            "grid_template_columns": null,
            "grid_template_rows": null,
            "height": null,
            "justify_content": null,
            "justify_items": null,
            "left": null,
            "margin": null,
            "max_height": null,
            "max_width": null,
            "min_height": null,
            "min_width": null,
            "object_fit": null,
            "object_position": null,
            "order": null,
            "overflow": null,
            "overflow_x": null,
            "overflow_y": null,
            "padding": null,
            "right": null,
            "top": null,
            "visibility": null,
            "width": null
          }
        },
        "c2fd17542dd049ce8ee7a1b4e82c172f": {
          "model_module": "@jupyter-widgets/controls",
          "model_name": "DescriptionStyleModel",
          "model_module_version": "1.5.0",
          "state": {
            "_model_module": "@jupyter-widgets/controls",
            "_model_module_version": "1.5.0",
            "_model_name": "DescriptionStyleModel",
            "_view_count": null,
            "_view_module": "@jupyter-widgets/base",
            "_view_module_version": "1.2.0",
            "_view_name": "StyleView",
            "description_width": ""
          }
        },
        "fb452960f3e04283abb9256f10b3e8e3": {
          "model_module": "@jupyter-widgets/controls",
          "model_name": "HBoxModel",
          "model_module_version": "1.5.0",
          "state": {
            "_dom_classes": [],
            "_model_module": "@jupyter-widgets/controls",
            "_model_module_version": "1.5.0",
            "_model_name": "HBoxModel",
            "_view_count": null,
            "_view_module": "@jupyter-widgets/controls",
            "_view_module_version": "1.5.0",
            "_view_name": "HBoxView",
            "box_style": "",
            "children": [
              "IPY_MODEL_e90de7a1e846456883a1615894c2df41",
              "IPY_MODEL_0733fb487c3a4d0c884b284a5ffee152",
              "IPY_MODEL_4d384476c377468d84f11c2b06113e1f"
            ],
            "layout": "IPY_MODEL_ecee8df590874396b4e6c2d0584861ad"
          }
        },
        "e90de7a1e846456883a1615894c2df41": {
          "model_module": "@jupyter-widgets/controls",
          "model_name": "HTMLModel",
          "model_module_version": "1.5.0",
          "state": {
            "_dom_classes": [],
            "_model_module": "@jupyter-widgets/controls",
            "_model_module_version": "1.5.0",
            "_model_name": "HTMLModel",
            "_view_count": null,
            "_view_module": "@jupyter-widgets/controls",
            "_view_module_version": "1.5.0",
            "_view_name": "HTMLView",
            "description": "",
            "description_tooltip": null,
            "layout": "IPY_MODEL_d3214623dfe249ab9ecd4044d72d3b35",
            "placeholder": "​",
            "style": "IPY_MODEL_144cb8f6a6ab45c386cd8cc4ee47c91d",
            "value": "Map: 100%"
          }
        },
        "0733fb487c3a4d0c884b284a5ffee152": {
          "model_module": "@jupyter-widgets/controls",
          "model_name": "FloatProgressModel",
          "model_module_version": "1.5.0",
          "state": {
            "_dom_classes": [],
            "_model_module": "@jupyter-widgets/controls",
            "_model_module_version": "1.5.0",
            "_model_name": "FloatProgressModel",
            "_view_count": null,
            "_view_module": "@jupyter-widgets/controls",
            "_view_module_version": "1.5.0",
            "_view_name": "ProgressView",
            "bar_style": "",
            "description": "",
            "description_tooltip": null,
            "layout": "IPY_MODEL_b508d16bea8b44c3a8694e2c952d1f88",
            "max": 3798,
            "min": 0,
            "orientation": "horizontal",
            "style": "IPY_MODEL_df0336a9e9dd4561bbc3d52c0b002ea1",
            "value": 3798
          }
        },
        "4d384476c377468d84f11c2b06113e1f": {
          "model_module": "@jupyter-widgets/controls",
          "model_name": "HTMLModel",
          "model_module_version": "1.5.0",
          "state": {
            "_dom_classes": [],
            "_model_module": "@jupyter-widgets/controls",
            "_model_module_version": "1.5.0",
            "_model_name": "HTMLModel",
            "_view_count": null,
            "_view_module": "@jupyter-widgets/controls",
            "_view_module_version": "1.5.0",
            "_view_name": "HTMLView",
            "description": "",
            "description_tooltip": null,
            "layout": "IPY_MODEL_dead5abc9bc94e4294ccd3a5f949e751",
            "placeholder": "​",
            "style": "IPY_MODEL_dd869d89734447c9aeedff31bb7d87a7",
            "value": " 3798/3798 [00:02&lt;00:00, 1374.30 examples/s]"
          }
        },
        "ecee8df590874396b4e6c2d0584861ad": {
          "model_module": "@jupyter-widgets/base",
          "model_name": "LayoutModel",
          "model_module_version": "1.2.0",
          "state": {
            "_model_module": "@jupyter-widgets/base",
            "_model_module_version": "1.2.0",
            "_model_name": "LayoutModel",
            "_view_count": null,
            "_view_module": "@jupyter-widgets/base",
            "_view_module_version": "1.2.0",
            "_view_name": "LayoutView",
            "align_content": null,
            "align_items": null,
            "align_self": null,
            "border": null,
            "bottom": null,
            "display": null,
            "flex": null,
            "flex_flow": null,
            "grid_area": null,
            "grid_auto_columns": null,
            "grid_auto_flow": null,
            "grid_auto_rows": null,
            "grid_column": null,
            "grid_gap": null,
            "grid_row": null,
            "grid_template_areas": null,
            "grid_template_columns": null,
            "grid_template_rows": null,
            "height": null,
            "justify_content": null,
            "justify_items": null,
            "left": null,
            "margin": null,
            "max_height": null,
            "max_width": null,
            "min_height": null,
            "min_width": null,
            "object_fit": null,
            "object_position": null,
            "order": null,
            "overflow": null,
            "overflow_x": null,
            "overflow_y": null,
            "padding": null,
            "right": null,
            "top": null,
            "visibility": "hidden",
            "width": null
          }
        },
        "d3214623dfe249ab9ecd4044d72d3b35": {
          "model_module": "@jupyter-widgets/base",
          "model_name": "LayoutModel",
          "model_module_version": "1.2.0",
          "state": {
            "_model_module": "@jupyter-widgets/base",
            "_model_module_version": "1.2.0",
            "_model_name": "LayoutModel",
            "_view_count": null,
            "_view_module": "@jupyter-widgets/base",
            "_view_module_version": "1.2.0",
            "_view_name": "LayoutView",
            "align_content": null,
            "align_items": null,
            "align_self": null,
            "border": null,
            "bottom": null,
            "display": null,
            "flex": null,
            "flex_flow": null,
            "grid_area": null,
            "grid_auto_columns": null,
            "grid_auto_flow": null,
            "grid_auto_rows": null,
            "grid_column": null,
            "grid_gap": null,
            "grid_row": null,
            "grid_template_areas": null,
            "grid_template_columns": null,
            "grid_template_rows": null,
            "height": null,
            "justify_content": null,
            "justify_items": null,
            "left": null,
            "margin": null,
            "max_height": null,
            "max_width": null,
            "min_height": null,
            "min_width": null,
            "object_fit": null,
            "object_position": null,
            "order": null,
            "overflow": null,
            "overflow_x": null,
            "overflow_y": null,
            "padding": null,
            "right": null,
            "top": null,
            "visibility": null,
            "width": null
          }
        },
        "144cb8f6a6ab45c386cd8cc4ee47c91d": {
          "model_module": "@jupyter-widgets/controls",
          "model_name": "DescriptionStyleModel",
          "model_module_version": "1.5.0",
          "state": {
            "_model_module": "@jupyter-widgets/controls",
            "_model_module_version": "1.5.0",
            "_model_name": "DescriptionStyleModel",
            "_view_count": null,
            "_view_module": "@jupyter-widgets/base",
            "_view_module_version": "1.2.0",
            "_view_name": "StyleView",
            "description_width": ""
          }
        },
        "b508d16bea8b44c3a8694e2c952d1f88": {
          "model_module": "@jupyter-widgets/base",
          "model_name": "LayoutModel",
          "model_module_version": "1.2.0",
          "state": {
            "_model_module": "@jupyter-widgets/base",
            "_model_module_version": "1.2.0",
            "_model_name": "LayoutModel",
            "_view_count": null,
            "_view_module": "@jupyter-widgets/base",
            "_view_module_version": "1.2.0",
            "_view_name": "LayoutView",
            "align_content": null,
            "align_items": null,
            "align_self": null,
            "border": null,
            "bottom": null,
            "display": null,
            "flex": null,
            "flex_flow": null,
            "grid_area": null,
            "grid_auto_columns": null,
            "grid_auto_flow": null,
            "grid_auto_rows": null,
            "grid_column": null,
            "grid_gap": null,
            "grid_row": null,
            "grid_template_areas": null,
            "grid_template_columns": null,
            "grid_template_rows": null,
            "height": null,
            "justify_content": null,
            "justify_items": null,
            "left": null,
            "margin": null,
            "max_height": null,
            "max_width": null,
            "min_height": null,
            "min_width": null,
            "object_fit": null,
            "object_position": null,
            "order": null,
            "overflow": null,
            "overflow_x": null,
            "overflow_y": null,
            "padding": null,
            "right": null,
            "top": null,
            "visibility": null,
            "width": null
          }
        },
        "df0336a9e9dd4561bbc3d52c0b002ea1": {
          "model_module": "@jupyter-widgets/controls",
          "model_name": "ProgressStyleModel",
          "model_module_version": "1.5.0",
          "state": {
            "_model_module": "@jupyter-widgets/controls",
            "_model_module_version": "1.5.0",
            "_model_name": "ProgressStyleModel",
            "_view_count": null,
            "_view_module": "@jupyter-widgets/base",
            "_view_module_version": "1.2.0",
            "_view_name": "StyleView",
            "bar_color": null,
            "description_width": ""
          }
        },
        "dead5abc9bc94e4294ccd3a5f949e751": {
          "model_module": "@jupyter-widgets/base",
          "model_name": "LayoutModel",
          "model_module_version": "1.2.0",
          "state": {
            "_model_module": "@jupyter-widgets/base",
            "_model_module_version": "1.2.0",
            "_model_name": "LayoutModel",
            "_view_count": null,
            "_view_module": "@jupyter-widgets/base",
            "_view_module_version": "1.2.0",
            "_view_name": "LayoutView",
            "align_content": null,
            "align_items": null,
            "align_self": null,
            "border": null,
            "bottom": null,
            "display": null,
            "flex": null,
            "flex_flow": null,
            "grid_area": null,
            "grid_auto_columns": null,
            "grid_auto_flow": null,
            "grid_auto_rows": null,
            "grid_column": null,
            "grid_gap": null,
            "grid_row": null,
            "grid_template_areas": null,
            "grid_template_columns": null,
            "grid_template_rows": null,
            "height": null,
            "justify_content": null,
            "justify_items": null,
            "left": null,
            "margin": null,
            "max_height": null,
            "max_width": null,
            "min_height": null,
            "min_width": null,
            "object_fit": null,
            "object_position": null,
            "order": null,
            "overflow": null,
            "overflow_x": null,
            "overflow_y": null,
            "padding": null,
            "right": null,
            "top": null,
            "visibility": null,
            "width": null
          }
        },
        "dd869d89734447c9aeedff31bb7d87a7": {
          "model_module": "@jupyter-widgets/controls",
          "model_name": "DescriptionStyleModel",
          "model_module_version": "1.5.0",
          "state": {
            "_model_module": "@jupyter-widgets/controls",
            "_model_module_version": "1.5.0",
            "_model_name": "DescriptionStyleModel",
            "_view_count": null,
            "_view_module": "@jupyter-widgets/base",
            "_view_module_version": "1.2.0",
            "_view_name": "StyleView",
            "description_width": ""
          }
        },
        "73dd1724bc3a4fad875b2e636f575c40": {
          "model_module": "@jupyter-widgets/controls",
          "model_name": "HBoxModel",
          "model_module_version": "1.5.0",
          "state": {
            "_dom_classes": [],
            "_model_module": "@jupyter-widgets/controls",
            "_model_module_version": "1.5.0",
            "_model_name": "HBoxModel",
            "_view_count": null,
            "_view_module": "@jupyter-widgets/controls",
            "_view_module_version": "1.5.0",
            "_view_name": "HBoxView",
            "box_style": "",
            "children": [
              "IPY_MODEL_76a2426a8419474bba41d223640ce8bd",
              "IPY_MODEL_1895a03e0809497f8b4a17a97dc77baf",
              "IPY_MODEL_7a5ec45d7272436398cbed44d2fc6c6a"
            ],
            "layout": "IPY_MODEL_1c30c0360b494356b9decdceb7e64e01"
          }
        },
        "76a2426a8419474bba41d223640ce8bd": {
          "model_module": "@jupyter-widgets/controls",
          "model_name": "HTMLModel",
          "model_module_version": "1.5.0",
          "state": {
            "_dom_classes": [],
            "_model_module": "@jupyter-widgets/controls",
            "_model_module_version": "1.5.0",
            "_model_name": "HTMLModel",
            "_view_count": null,
            "_view_module": "@jupyter-widgets/controls",
            "_view_module_version": "1.5.0",
            "_view_name": "HTMLView",
            "description": "",
            "description_tooltip": null,
            "layout": "IPY_MODEL_d6d364a2593341eb89ba69d562b22495",
            "placeholder": "​",
            "style": "IPY_MODEL_a7b74a77e85045de9b517b258e5cb1f7",
            "value": "Map: 100%"
          }
        },
        "1895a03e0809497f8b4a17a97dc77baf": {
          "model_module": "@jupyter-widgets/controls",
          "model_name": "FloatProgressModel",
          "model_module_version": "1.5.0",
          "state": {
            "_dom_classes": [],
            "_model_module": "@jupyter-widgets/controls",
            "_model_module_version": "1.5.0",
            "_model_name": "FloatProgressModel",
            "_view_count": null,
            "_view_module": "@jupyter-widgets/controls",
            "_view_module_version": "1.5.0",
            "_view_name": "ProgressView",
            "bar_style": "",
            "description": "",
            "description_tooltip": null,
            "layout": "IPY_MODEL_104083f2c3a346a7a9af35456f3fa2d7",
            "max": 32924,
            "min": 0,
            "orientation": "horizontal",
            "style": "IPY_MODEL_554e3e16803c4985ac05a7c0a20d06a8",
            "value": 32924
          }
        },
        "7a5ec45d7272436398cbed44d2fc6c6a": {
          "model_module": "@jupyter-widgets/controls",
          "model_name": "HTMLModel",
          "model_module_version": "1.5.0",
          "state": {
            "_dom_classes": [],
            "_model_module": "@jupyter-widgets/controls",
            "_model_module_version": "1.5.0",
            "_model_name": "HTMLModel",
            "_view_count": null,
            "_view_module": "@jupyter-widgets/controls",
            "_view_module_version": "1.5.0",
            "_view_name": "HTMLView",
            "description": "",
            "description_tooltip": null,
            "layout": "IPY_MODEL_b01a8cf787f04c39aa5ed53160d6f227",
            "placeholder": "​",
            "style": "IPY_MODEL_c15a8cba88e14900820cc8600a541d0b",
            "value": " 32924/32924 [00:18&lt;00:00, 1536.96 examples/s]"
          }
        },
        "1c30c0360b494356b9decdceb7e64e01": {
          "model_module": "@jupyter-widgets/base",
          "model_name": "LayoutModel",
          "model_module_version": "1.2.0",
          "state": {
            "_model_module": "@jupyter-widgets/base",
            "_model_module_version": "1.2.0",
            "_model_name": "LayoutModel",
            "_view_count": null,
            "_view_module": "@jupyter-widgets/base",
            "_view_module_version": "1.2.0",
            "_view_name": "LayoutView",
            "align_content": null,
            "align_items": null,
            "align_self": null,
            "border": null,
            "bottom": null,
            "display": null,
            "flex": null,
            "flex_flow": null,
            "grid_area": null,
            "grid_auto_columns": null,
            "grid_auto_flow": null,
            "grid_auto_rows": null,
            "grid_column": null,
            "grid_gap": null,
            "grid_row": null,
            "grid_template_areas": null,
            "grid_template_columns": null,
            "grid_template_rows": null,
            "height": null,
            "justify_content": null,
            "justify_items": null,
            "left": null,
            "margin": null,
            "max_height": null,
            "max_width": null,
            "min_height": null,
            "min_width": null,
            "object_fit": null,
            "object_position": null,
            "order": null,
            "overflow": null,
            "overflow_x": null,
            "overflow_y": null,
            "padding": null,
            "right": null,
            "top": null,
            "visibility": "hidden",
            "width": null
          }
        },
        "d6d364a2593341eb89ba69d562b22495": {
          "model_module": "@jupyter-widgets/base",
          "model_name": "LayoutModel",
          "model_module_version": "1.2.0",
          "state": {
            "_model_module": "@jupyter-widgets/base",
            "_model_module_version": "1.2.0",
            "_model_name": "LayoutModel",
            "_view_count": null,
            "_view_module": "@jupyter-widgets/base",
            "_view_module_version": "1.2.0",
            "_view_name": "LayoutView",
            "align_content": null,
            "align_items": null,
            "align_self": null,
            "border": null,
            "bottom": null,
            "display": null,
            "flex": null,
            "flex_flow": null,
            "grid_area": null,
            "grid_auto_columns": null,
            "grid_auto_flow": null,
            "grid_auto_rows": null,
            "grid_column": null,
            "grid_gap": null,
            "grid_row": null,
            "grid_template_areas": null,
            "grid_template_columns": null,
            "grid_template_rows": null,
            "height": null,
            "justify_content": null,
            "justify_items": null,
            "left": null,
            "margin": null,
            "max_height": null,
            "max_width": null,
            "min_height": null,
            "min_width": null,
            "object_fit": null,
            "object_position": null,
            "order": null,
            "overflow": null,
            "overflow_x": null,
            "overflow_y": null,
            "padding": null,
            "right": null,
            "top": null,
            "visibility": null,
            "width": null
          }
        },
        "a7b74a77e85045de9b517b258e5cb1f7": {
          "model_module": "@jupyter-widgets/controls",
          "model_name": "DescriptionStyleModel",
          "model_module_version": "1.5.0",
          "state": {
            "_model_module": "@jupyter-widgets/controls",
            "_model_module_version": "1.5.0",
            "_model_name": "DescriptionStyleModel",
            "_view_count": null,
            "_view_module": "@jupyter-widgets/base",
            "_view_module_version": "1.2.0",
            "_view_name": "StyleView",
            "description_width": ""
          }
        },
        "104083f2c3a346a7a9af35456f3fa2d7": {
          "model_module": "@jupyter-widgets/base",
          "model_name": "LayoutModel",
          "model_module_version": "1.2.0",
          "state": {
            "_model_module": "@jupyter-widgets/base",
            "_model_module_version": "1.2.0",
            "_model_name": "LayoutModel",
            "_view_count": null,
            "_view_module": "@jupyter-widgets/base",
            "_view_module_version": "1.2.0",
            "_view_name": "LayoutView",
            "align_content": null,
            "align_items": null,
            "align_self": null,
            "border": null,
            "bottom": null,
            "display": null,
            "flex": null,
            "flex_flow": null,
            "grid_area": null,
            "grid_auto_columns": null,
            "grid_auto_flow": null,
            "grid_auto_rows": null,
            "grid_column": null,
            "grid_gap": null,
            "grid_row": null,
            "grid_template_areas": null,
            "grid_template_columns": null,
            "grid_template_rows": null,
            "height": null,
            "justify_content": null,
            "justify_items": null,
            "left": null,
            "margin": null,
            "max_height": null,
            "max_width": null,
            "min_height": null,
            "min_width": null,
            "object_fit": null,
            "object_position": null,
            "order": null,
            "overflow": null,
            "overflow_x": null,
            "overflow_y": null,
            "padding": null,
            "right": null,
            "top": null,
            "visibility": null,
            "width": null
          }
        },
        "554e3e16803c4985ac05a7c0a20d06a8": {
          "model_module": "@jupyter-widgets/controls",
          "model_name": "ProgressStyleModel",
          "model_module_version": "1.5.0",
          "state": {
            "_model_module": "@jupyter-widgets/controls",
            "_model_module_version": "1.5.0",
            "_model_name": "ProgressStyleModel",
            "_view_count": null,
            "_view_module": "@jupyter-widgets/base",
            "_view_module_version": "1.2.0",
            "_view_name": "StyleView",
            "bar_color": null,
            "description_width": ""
          }
        },
        "b01a8cf787f04c39aa5ed53160d6f227": {
          "model_module": "@jupyter-widgets/base",
          "model_name": "LayoutModel",
          "model_module_version": "1.2.0",
          "state": {
            "_model_module": "@jupyter-widgets/base",
            "_model_module_version": "1.2.0",
            "_model_name": "LayoutModel",
            "_view_count": null,
            "_view_module": "@jupyter-widgets/base",
            "_view_module_version": "1.2.0",
            "_view_name": "LayoutView",
            "align_content": null,
            "align_items": null,
            "align_self": null,
            "border": null,
            "bottom": null,
            "display": null,
            "flex": null,
            "flex_flow": null,
            "grid_area": null,
            "grid_auto_columns": null,
            "grid_auto_flow": null,
            "grid_auto_rows": null,
            "grid_column": null,
            "grid_gap": null,
            "grid_row": null,
            "grid_template_areas": null,
            "grid_template_columns": null,
            "grid_template_rows": null,
            "height": null,
            "justify_content": null,
            "justify_items": null,
            "left": null,
            "margin": null,
            "max_height": null,
            "max_width": null,
            "min_height": null,
            "min_width": null,
            "object_fit": null,
            "object_position": null,
            "order": null,
            "overflow": null,
            "overflow_x": null,
            "overflow_y": null,
            "padding": null,
            "right": null,
            "top": null,
            "visibility": null,
            "width": null
          }
        },
        "c15a8cba88e14900820cc8600a541d0b": {
          "model_module": "@jupyter-widgets/controls",
          "model_name": "DescriptionStyleModel",
          "model_module_version": "1.5.0",
          "state": {
            "_model_module": "@jupyter-widgets/controls",
            "_model_module_version": "1.5.0",
            "_model_name": "DescriptionStyleModel",
            "_view_count": null,
            "_view_module": "@jupyter-widgets/base",
            "_view_module_version": "1.2.0",
            "_view_name": "StyleView",
            "description_width": ""
          }
        },
        "1a2d1fc5d0e546e695360fec08c4d6b5": {
          "model_module": "@jupyter-widgets/controls",
          "model_name": "HBoxModel",
          "model_module_version": "1.5.0",
          "state": {
            "_dom_classes": [],
            "_model_module": "@jupyter-widgets/controls",
            "_model_module_version": "1.5.0",
            "_model_name": "HBoxModel",
            "_view_count": null,
            "_view_module": "@jupyter-widgets/controls",
            "_view_module_version": "1.5.0",
            "_view_name": "HBoxView",
            "box_style": "",
            "children": [
              "IPY_MODEL_dd401128ec1c4272a9dea9e39b5edd62",
              "IPY_MODEL_24baef1463964304bc9b2154e3234113",
              "IPY_MODEL_9b28a01f44154cccb422d98669b176e9"
            ],
            "layout": "IPY_MODEL_266c75f49e9141699dae88dba4530d40"
          }
        },
        "dd401128ec1c4272a9dea9e39b5edd62": {
          "model_module": "@jupyter-widgets/controls",
          "model_name": "HTMLModel",
          "model_module_version": "1.5.0",
          "state": {
            "_dom_classes": [],
            "_model_module": "@jupyter-widgets/controls",
            "_model_module_version": "1.5.0",
            "_model_name": "HTMLModel",
            "_view_count": null,
            "_view_module": "@jupyter-widgets/controls",
            "_view_module_version": "1.5.0",
            "_view_name": "HTMLView",
            "description": "",
            "description_tooltip": null,
            "layout": "IPY_MODEL_f2daf9739ef048e9a5392beaaf3c90b5",
            "placeholder": "​",
            "style": "IPY_MODEL_4700e0447b464512b625ef72805f8f91",
            "value": "Map:  97%"
          }
        },
        "24baef1463964304bc9b2154e3234113": {
          "model_module": "@jupyter-widgets/controls",
          "model_name": "FloatProgressModel",
          "model_module_version": "1.5.0",
          "state": {
            "_dom_classes": [],
            "_model_module": "@jupyter-widgets/controls",
            "_model_module_version": "1.5.0",
            "_model_name": "FloatProgressModel",
            "_view_count": null,
            "_view_module": "@jupyter-widgets/controls",
            "_view_module_version": "1.5.0",
            "_view_name": "ProgressView",
            "bar_style": "",
            "description": "",
            "description_tooltip": null,
            "layout": "IPY_MODEL_b5e6ca3e877b4480878bc2ff8c8db8eb",
            "max": 4115,
            "min": 0,
            "orientation": "horizontal",
            "style": "IPY_MODEL_ccf4ba2347874ff9a6867211427f970d",
            "value": 4115
          }
        },
        "9b28a01f44154cccb422d98669b176e9": {
          "model_module": "@jupyter-widgets/controls",
          "model_name": "HTMLModel",
          "model_module_version": "1.5.0",
          "state": {
            "_dom_classes": [],
            "_model_module": "@jupyter-widgets/controls",
            "_model_module_version": "1.5.0",
            "_model_name": "HTMLModel",
            "_view_count": null,
            "_view_module": "@jupyter-widgets/controls",
            "_view_module_version": "1.5.0",
            "_view_name": "HTMLView",
            "description": "",
            "description_tooltip": null,
            "layout": "IPY_MODEL_ce346d68aa6a46fbb10c17dcfcf6193b",
            "placeholder": "​",
            "style": "IPY_MODEL_a6a331ec3f384bf486a0dd1e25725d34",
            "value": " 4000/4115 [00:02&lt;00:00, 2064.92 examples/s]"
          }
        },
        "266c75f49e9141699dae88dba4530d40": {
          "model_module": "@jupyter-widgets/base",
          "model_name": "LayoutModel",
          "model_module_version": "1.2.0",
          "state": {
            "_model_module": "@jupyter-widgets/base",
            "_model_module_version": "1.2.0",
            "_model_name": "LayoutModel",
            "_view_count": null,
            "_view_module": "@jupyter-widgets/base",
            "_view_module_version": "1.2.0",
            "_view_name": "LayoutView",
            "align_content": null,
            "align_items": null,
            "align_self": null,
            "border": null,
            "bottom": null,
            "display": null,
            "flex": null,
            "flex_flow": null,
            "grid_area": null,
            "grid_auto_columns": null,
            "grid_auto_flow": null,
            "grid_auto_rows": null,
            "grid_column": null,
            "grid_gap": null,
            "grid_row": null,
            "grid_template_areas": null,
            "grid_template_columns": null,
            "grid_template_rows": null,
            "height": null,
            "justify_content": null,
            "justify_items": null,
            "left": null,
            "margin": null,
            "max_height": null,
            "max_width": null,
            "min_height": null,
            "min_width": null,
            "object_fit": null,
            "object_position": null,
            "order": null,
            "overflow": null,
            "overflow_x": null,
            "overflow_y": null,
            "padding": null,
            "right": null,
            "top": null,
            "visibility": "hidden",
            "width": null
          }
        },
        "f2daf9739ef048e9a5392beaaf3c90b5": {
          "model_module": "@jupyter-widgets/base",
          "model_name": "LayoutModel",
          "model_module_version": "1.2.0",
          "state": {
            "_model_module": "@jupyter-widgets/base",
            "_model_module_version": "1.2.0",
            "_model_name": "LayoutModel",
            "_view_count": null,
            "_view_module": "@jupyter-widgets/base",
            "_view_module_version": "1.2.0",
            "_view_name": "LayoutView",
            "align_content": null,
            "align_items": null,
            "align_self": null,
            "border": null,
            "bottom": null,
            "display": null,
            "flex": null,
            "flex_flow": null,
            "grid_area": null,
            "grid_auto_columns": null,
            "grid_auto_flow": null,
            "grid_auto_rows": null,
            "grid_column": null,
            "grid_gap": null,
            "grid_row": null,
            "grid_template_areas": null,
            "grid_template_columns": null,
            "grid_template_rows": null,
            "height": null,
            "justify_content": null,
            "justify_items": null,
            "left": null,
            "margin": null,
            "max_height": null,
            "max_width": null,
            "min_height": null,
            "min_width": null,
            "object_fit": null,
            "object_position": null,
            "order": null,
            "overflow": null,
            "overflow_x": null,
            "overflow_y": null,
            "padding": null,
            "right": null,
            "top": null,
            "visibility": null,
            "width": null
          }
        },
        "4700e0447b464512b625ef72805f8f91": {
          "model_module": "@jupyter-widgets/controls",
          "model_name": "DescriptionStyleModel",
          "model_module_version": "1.5.0",
          "state": {
            "_model_module": "@jupyter-widgets/controls",
            "_model_module_version": "1.5.0",
            "_model_name": "DescriptionStyleModel",
            "_view_count": null,
            "_view_module": "@jupyter-widgets/base",
            "_view_module_version": "1.2.0",
            "_view_name": "StyleView",
            "description_width": ""
          }
        },
        "b5e6ca3e877b4480878bc2ff8c8db8eb": {
          "model_module": "@jupyter-widgets/base",
          "model_name": "LayoutModel",
          "model_module_version": "1.2.0",
          "state": {
            "_model_module": "@jupyter-widgets/base",
            "_model_module_version": "1.2.0",
            "_model_name": "LayoutModel",
            "_view_count": null,
            "_view_module": "@jupyter-widgets/base",
            "_view_module_version": "1.2.0",
            "_view_name": "LayoutView",
            "align_content": null,
            "align_items": null,
            "align_self": null,
            "border": null,
            "bottom": null,
            "display": null,
            "flex": null,
            "flex_flow": null,
            "grid_area": null,
            "grid_auto_columns": null,
            "grid_auto_flow": null,
            "grid_auto_rows": null,
            "grid_column": null,
            "grid_gap": null,
            "grid_row": null,
            "grid_template_areas": null,
            "grid_template_columns": null,
            "grid_template_rows": null,
            "height": null,
            "justify_content": null,
            "justify_items": null,
            "left": null,
            "margin": null,
            "max_height": null,
            "max_width": null,
            "min_height": null,
            "min_width": null,
            "object_fit": null,
            "object_position": null,
            "order": null,
            "overflow": null,
            "overflow_x": null,
            "overflow_y": null,
            "padding": null,
            "right": null,
            "top": null,
            "visibility": null,
            "width": null
          }
        },
        "ccf4ba2347874ff9a6867211427f970d": {
          "model_module": "@jupyter-widgets/controls",
          "model_name": "ProgressStyleModel",
          "model_module_version": "1.5.0",
          "state": {
            "_model_module": "@jupyter-widgets/controls",
            "_model_module_version": "1.5.0",
            "_model_name": "ProgressStyleModel",
            "_view_count": null,
            "_view_module": "@jupyter-widgets/base",
            "_view_module_version": "1.2.0",
            "_view_name": "StyleView",
            "bar_color": null,
            "description_width": ""
          }
        },
        "ce346d68aa6a46fbb10c17dcfcf6193b": {
          "model_module": "@jupyter-widgets/base",
          "model_name": "LayoutModel",
          "model_module_version": "1.2.0",
          "state": {
            "_model_module": "@jupyter-widgets/base",
            "_model_module_version": "1.2.0",
            "_model_name": "LayoutModel",
            "_view_count": null,
            "_view_module": "@jupyter-widgets/base",
            "_view_module_version": "1.2.0",
            "_view_name": "LayoutView",
            "align_content": null,
            "align_items": null,
            "align_self": null,
            "border": null,
            "bottom": null,
            "display": null,
            "flex": null,
            "flex_flow": null,
            "grid_area": null,
            "grid_auto_columns": null,
            "grid_auto_flow": null,
            "grid_auto_rows": null,
            "grid_column": null,
            "grid_gap": null,
            "grid_row": null,
            "grid_template_areas": null,
            "grid_template_columns": null,
            "grid_template_rows": null,
            "height": null,
            "justify_content": null,
            "justify_items": null,
            "left": null,
            "margin": null,
            "max_height": null,
            "max_width": null,
            "min_height": null,
            "min_width": null,
            "object_fit": null,
            "object_position": null,
            "order": null,
            "overflow": null,
            "overflow_x": null,
            "overflow_y": null,
            "padding": null,
            "right": null,
            "top": null,
            "visibility": null,
            "width": null
          }
        },
        "a6a331ec3f384bf486a0dd1e25725d34": {
          "model_module": "@jupyter-widgets/controls",
          "model_name": "DescriptionStyleModel",
          "model_module_version": "1.5.0",
          "state": {
            "_model_module": "@jupyter-widgets/controls",
            "_model_module_version": "1.5.0",
            "_model_name": "DescriptionStyleModel",
            "_view_count": null,
            "_view_module": "@jupyter-widgets/base",
            "_view_module_version": "1.2.0",
            "_view_name": "StyleView",
            "description_width": ""
          }
        },
        "a217fb3f6c6941bb8a42a60c6bbc74df": {
          "model_module": "@jupyter-widgets/controls",
          "model_name": "HBoxModel",
          "model_module_version": "1.5.0",
          "state": {
            "_dom_classes": [],
            "_model_module": "@jupyter-widgets/controls",
            "_model_module_version": "1.5.0",
            "_model_name": "HBoxModel",
            "_view_count": null,
            "_view_module": "@jupyter-widgets/controls",
            "_view_module_version": "1.5.0",
            "_view_name": "HBoxView",
            "box_style": "",
            "children": [
              "IPY_MODEL_ae085809f473413e98038743ddaae2bb",
              "IPY_MODEL_4a3d3e209d744e82b6e057663c36b2af",
              "IPY_MODEL_5be704471e4743778ee4acd520ea959f"
            ],
            "layout": "IPY_MODEL_9907f87e5bb94ed7955bf1f951f84772"
          }
        },
        "ae085809f473413e98038743ddaae2bb": {
          "model_module": "@jupyter-widgets/controls",
          "model_name": "HTMLModel",
          "model_module_version": "1.5.0",
          "state": {
            "_dom_classes": [],
            "_model_module": "@jupyter-widgets/controls",
            "_model_module_version": "1.5.0",
            "_model_name": "HTMLModel",
            "_view_count": null,
            "_view_module": "@jupyter-widgets/controls",
            "_view_module_version": "1.5.0",
            "_view_name": "HTMLView",
            "description": "",
            "description_tooltip": null,
            "layout": "IPY_MODEL_d96b9cbf70b7469c9b4c25213ed3d21c",
            "placeholder": "​",
            "style": "IPY_MODEL_b4974996e53342f78e6c9f55153ce333",
            "value": "Map:  97%"
          }
        },
        "4a3d3e209d744e82b6e057663c36b2af": {
          "model_module": "@jupyter-widgets/controls",
          "model_name": "FloatProgressModel",
          "model_module_version": "1.5.0",
          "state": {
            "_dom_classes": [],
            "_model_module": "@jupyter-widgets/controls",
            "_model_module_version": "1.5.0",
            "_model_name": "FloatProgressModel",
            "_view_count": null,
            "_view_module": "@jupyter-widgets/controls",
            "_view_module_version": "1.5.0",
            "_view_name": "ProgressView",
            "bar_style": "",
            "description": "",
            "description_tooltip": null,
            "layout": "IPY_MODEL_64899269c5674a06b6cc670755e628bb",
            "max": 4116,
            "min": 0,
            "orientation": "horizontal",
            "style": "IPY_MODEL_b76dc0e1d18043b6a204bacb3dd9292a",
            "value": 4116
          }
        },
        "5be704471e4743778ee4acd520ea959f": {
          "model_module": "@jupyter-widgets/controls",
          "model_name": "HTMLModel",
          "model_module_version": "1.5.0",
          "state": {
            "_dom_classes": [],
            "_model_module": "@jupyter-widgets/controls",
            "_model_module_version": "1.5.0",
            "_model_name": "HTMLModel",
            "_view_count": null,
            "_view_module": "@jupyter-widgets/controls",
            "_view_module_version": "1.5.0",
            "_view_name": "HTMLView",
            "description": "",
            "description_tooltip": null,
            "layout": "IPY_MODEL_262df5daa9d94bcb902a9a70668c2ab7",
            "placeholder": "​",
            "style": "IPY_MODEL_bb9b8de77d884d51811233fe65a87321",
            "value": " 4000/4116 [00:01&lt;00:00, 2184.78 examples/s]"
          }
        },
        "9907f87e5bb94ed7955bf1f951f84772": {
          "model_module": "@jupyter-widgets/base",
          "model_name": "LayoutModel",
          "model_module_version": "1.2.0",
          "state": {
            "_model_module": "@jupyter-widgets/base",
            "_model_module_version": "1.2.0",
            "_model_name": "LayoutModel",
            "_view_count": null,
            "_view_module": "@jupyter-widgets/base",
            "_view_module_version": "1.2.0",
            "_view_name": "LayoutView",
            "align_content": null,
            "align_items": null,
            "align_self": null,
            "border": null,
            "bottom": null,
            "display": null,
            "flex": null,
            "flex_flow": null,
            "grid_area": null,
            "grid_auto_columns": null,
            "grid_auto_flow": null,
            "grid_auto_rows": null,
            "grid_column": null,
            "grid_gap": null,
            "grid_row": null,
            "grid_template_areas": null,
            "grid_template_columns": null,
            "grid_template_rows": null,
            "height": null,
            "justify_content": null,
            "justify_items": null,
            "left": null,
            "margin": null,
            "max_height": null,
            "max_width": null,
            "min_height": null,
            "min_width": null,
            "object_fit": null,
            "object_position": null,
            "order": null,
            "overflow": null,
            "overflow_x": null,
            "overflow_y": null,
            "padding": null,
            "right": null,
            "top": null,
            "visibility": "hidden",
            "width": null
          }
        },
        "d96b9cbf70b7469c9b4c25213ed3d21c": {
          "model_module": "@jupyter-widgets/base",
          "model_name": "LayoutModel",
          "model_module_version": "1.2.0",
          "state": {
            "_model_module": "@jupyter-widgets/base",
            "_model_module_version": "1.2.0",
            "_model_name": "LayoutModel",
            "_view_count": null,
            "_view_module": "@jupyter-widgets/base",
            "_view_module_version": "1.2.0",
            "_view_name": "LayoutView",
            "align_content": null,
            "align_items": null,
            "align_self": null,
            "border": null,
            "bottom": null,
            "display": null,
            "flex": null,
            "flex_flow": null,
            "grid_area": null,
            "grid_auto_columns": null,
            "grid_auto_flow": null,
            "grid_auto_rows": null,
            "grid_column": null,
            "grid_gap": null,
            "grid_row": null,
            "grid_template_areas": null,
            "grid_template_columns": null,
            "grid_template_rows": null,
            "height": null,
            "justify_content": null,
            "justify_items": null,
            "left": null,
            "margin": null,
            "max_height": null,
            "max_width": null,
            "min_height": null,
            "min_width": null,
            "object_fit": null,
            "object_position": null,
            "order": null,
            "overflow": null,
            "overflow_x": null,
            "overflow_y": null,
            "padding": null,
            "right": null,
            "top": null,
            "visibility": null,
            "width": null
          }
        },
        "b4974996e53342f78e6c9f55153ce333": {
          "model_module": "@jupyter-widgets/controls",
          "model_name": "DescriptionStyleModel",
          "model_module_version": "1.5.0",
          "state": {
            "_model_module": "@jupyter-widgets/controls",
            "_model_module_version": "1.5.0",
            "_model_name": "DescriptionStyleModel",
            "_view_count": null,
            "_view_module": "@jupyter-widgets/base",
            "_view_module_version": "1.2.0",
            "_view_name": "StyleView",
            "description_width": ""
          }
        },
        "64899269c5674a06b6cc670755e628bb": {
          "model_module": "@jupyter-widgets/base",
          "model_name": "LayoutModel",
          "model_module_version": "1.2.0",
          "state": {
            "_model_module": "@jupyter-widgets/base",
            "_model_module_version": "1.2.0",
            "_model_name": "LayoutModel",
            "_view_count": null,
            "_view_module": "@jupyter-widgets/base",
            "_view_module_version": "1.2.0",
            "_view_name": "LayoutView",
            "align_content": null,
            "align_items": null,
            "align_self": null,
            "border": null,
            "bottom": null,
            "display": null,
            "flex": null,
            "flex_flow": null,
            "grid_area": null,
            "grid_auto_columns": null,
            "grid_auto_flow": null,
            "grid_auto_rows": null,
            "grid_column": null,
            "grid_gap": null,
            "grid_row": null,
            "grid_template_areas": null,
            "grid_template_columns": null,
            "grid_template_rows": null,
            "height": null,
            "justify_content": null,
            "justify_items": null,
            "left": null,
            "margin": null,
            "max_height": null,
            "max_width": null,
            "min_height": null,
            "min_width": null,
            "object_fit": null,
            "object_position": null,
            "order": null,
            "overflow": null,
            "overflow_x": null,
            "overflow_y": null,
            "padding": null,
            "right": null,
            "top": null,
            "visibility": null,
            "width": null
          }
        },
        "b76dc0e1d18043b6a204bacb3dd9292a": {
          "model_module": "@jupyter-widgets/controls",
          "model_name": "ProgressStyleModel",
          "model_module_version": "1.5.0",
          "state": {
            "_model_module": "@jupyter-widgets/controls",
            "_model_module_version": "1.5.0",
            "_model_name": "ProgressStyleModel",
            "_view_count": null,
            "_view_module": "@jupyter-widgets/base",
            "_view_module_version": "1.2.0",
            "_view_name": "StyleView",
            "bar_color": null,
            "description_width": ""
          }
        },
        "262df5daa9d94bcb902a9a70668c2ab7": {
          "model_module": "@jupyter-widgets/base",
          "model_name": "LayoutModel",
          "model_module_version": "1.2.0",
          "state": {
            "_model_module": "@jupyter-widgets/base",
            "_model_module_version": "1.2.0",
            "_model_name": "LayoutModel",
            "_view_count": null,
            "_view_module": "@jupyter-widgets/base",
            "_view_module_version": "1.2.0",
            "_view_name": "LayoutView",
            "align_content": null,
            "align_items": null,
            "align_self": null,
            "border": null,
            "bottom": null,
            "display": null,
            "flex": null,
            "flex_flow": null,
            "grid_area": null,
            "grid_auto_columns": null,
            "grid_auto_flow": null,
            "grid_auto_rows": null,
            "grid_column": null,
            "grid_gap": null,
            "grid_row": null,
            "grid_template_areas": null,
            "grid_template_columns": null,
            "grid_template_rows": null,
            "height": null,
            "justify_content": null,
            "justify_items": null,
            "left": null,
            "margin": null,
            "max_height": null,
            "max_width": null,
            "min_height": null,
            "min_width": null,
            "object_fit": null,
            "object_position": null,
            "order": null,
            "overflow": null,
            "overflow_x": null,
            "overflow_y": null,
            "padding": null,
            "right": null,
            "top": null,
            "visibility": null,
            "width": null
          }
        },
        "bb9b8de77d884d51811233fe65a87321": {
          "model_module": "@jupyter-widgets/controls",
          "model_name": "DescriptionStyleModel",
          "model_module_version": "1.5.0",
          "state": {
            "_model_module": "@jupyter-widgets/controls",
            "_model_module_version": "1.5.0",
            "_model_name": "DescriptionStyleModel",
            "_view_count": null,
            "_view_module": "@jupyter-widgets/base",
            "_view_module_version": "1.2.0",
            "_view_name": "StyleView",
            "description_width": ""
          }
        },
        "153eacbfb16e47a7b243ec09d5e4361c": {
          "model_module": "@jupyter-widgets/controls",
          "model_name": "HBoxModel",
          "model_module_version": "1.5.0",
          "state": {
            "_dom_classes": [],
            "_model_module": "@jupyter-widgets/controls",
            "_model_module_version": "1.5.0",
            "_model_name": "HBoxModel",
            "_view_count": null,
            "_view_module": "@jupyter-widgets/controls",
            "_view_module_version": "1.5.0",
            "_view_name": "HBoxView",
            "box_style": "",
            "children": [
              "IPY_MODEL_809c7f9335e841758860c0519cedc460",
              "IPY_MODEL_5fc46932f5974a57b6b57afa8f2e5ba7",
              "IPY_MODEL_0a9785a5725d499687e660d869fe8c91"
            ],
            "layout": "IPY_MODEL_053134d8730d435dacd8e925af292b17"
          }
        },
        "809c7f9335e841758860c0519cedc460": {
          "model_module": "@jupyter-widgets/controls",
          "model_name": "HTMLModel",
          "model_module_version": "1.5.0",
          "state": {
            "_dom_classes": [],
            "_model_module": "@jupyter-widgets/controls",
            "_model_module_version": "1.5.0",
            "_model_name": "HTMLModel",
            "_view_count": null,
            "_view_module": "@jupyter-widgets/controls",
            "_view_module_version": "1.5.0",
            "_view_name": "HTMLView",
            "description": "",
            "description_tooltip": null,
            "layout": "IPY_MODEL_0ce1955e3f4f4f89a06fd306f4fc0c35",
            "placeholder": "​",
            "style": "IPY_MODEL_0e7f6472c6c647b3bbcaf0e141e4908a",
            "value": "Map: 100%"
          }
        },
        "5fc46932f5974a57b6b57afa8f2e5ba7": {
          "model_module": "@jupyter-widgets/controls",
          "model_name": "FloatProgressModel",
          "model_module_version": "1.5.0",
          "state": {
            "_dom_classes": [],
            "_model_module": "@jupyter-widgets/controls",
            "_model_module_version": "1.5.0",
            "_model_name": "FloatProgressModel",
            "_view_count": null,
            "_view_module": "@jupyter-widgets/controls",
            "_view_module_version": "1.5.0",
            "_view_name": "ProgressView",
            "bar_style": "",
            "description": "",
            "description_tooltip": null,
            "layout": "IPY_MODEL_7eba6220ab7941c7b1d986bf2c361e84",
            "max": 3798,
            "min": 0,
            "orientation": "horizontal",
            "style": "IPY_MODEL_b9fddbe1805e4482b05144437e0dc486",
            "value": 3798
          }
        },
        "0a9785a5725d499687e660d869fe8c91": {
          "model_module": "@jupyter-widgets/controls",
          "model_name": "HTMLModel",
          "model_module_version": "1.5.0",
          "state": {
            "_dom_classes": [],
            "_model_module": "@jupyter-widgets/controls",
            "_model_module_version": "1.5.0",
            "_model_name": "HTMLModel",
            "_view_count": null,
            "_view_module": "@jupyter-widgets/controls",
            "_view_module_version": "1.5.0",
            "_view_name": "HTMLView",
            "description": "",
            "description_tooltip": null,
            "layout": "IPY_MODEL_34666e82046c4eccb14f8a70a0ae971e",
            "placeholder": "​",
            "style": "IPY_MODEL_134009bfc4cc4296b0c9ed53d05a1e00",
            "value": " 3798/3798 [00:01&lt;00:00, 2052.30 examples/s]"
          }
        },
        "053134d8730d435dacd8e925af292b17": {
          "model_module": "@jupyter-widgets/base",
          "model_name": "LayoutModel",
          "model_module_version": "1.2.0",
          "state": {
            "_model_module": "@jupyter-widgets/base",
            "_model_module_version": "1.2.0",
            "_model_name": "LayoutModel",
            "_view_count": null,
            "_view_module": "@jupyter-widgets/base",
            "_view_module_version": "1.2.0",
            "_view_name": "LayoutView",
            "align_content": null,
            "align_items": null,
            "align_self": null,
            "border": null,
            "bottom": null,
            "display": null,
            "flex": null,
            "flex_flow": null,
            "grid_area": null,
            "grid_auto_columns": null,
            "grid_auto_flow": null,
            "grid_auto_rows": null,
            "grid_column": null,
            "grid_gap": null,
            "grid_row": null,
            "grid_template_areas": null,
            "grid_template_columns": null,
            "grid_template_rows": null,
            "height": null,
            "justify_content": null,
            "justify_items": null,
            "left": null,
            "margin": null,
            "max_height": null,
            "max_width": null,
            "min_height": null,
            "min_width": null,
            "object_fit": null,
            "object_position": null,
            "order": null,
            "overflow": null,
            "overflow_x": null,
            "overflow_y": null,
            "padding": null,
            "right": null,
            "top": null,
            "visibility": "hidden",
            "width": null
          }
        },
        "0ce1955e3f4f4f89a06fd306f4fc0c35": {
          "model_module": "@jupyter-widgets/base",
          "model_name": "LayoutModel",
          "model_module_version": "1.2.0",
          "state": {
            "_model_module": "@jupyter-widgets/base",
            "_model_module_version": "1.2.0",
            "_model_name": "LayoutModel",
            "_view_count": null,
            "_view_module": "@jupyter-widgets/base",
            "_view_module_version": "1.2.0",
            "_view_name": "LayoutView",
            "align_content": null,
            "align_items": null,
            "align_self": null,
            "border": null,
            "bottom": null,
            "display": null,
            "flex": null,
            "flex_flow": null,
            "grid_area": null,
            "grid_auto_columns": null,
            "grid_auto_flow": null,
            "grid_auto_rows": null,
            "grid_column": null,
            "grid_gap": null,
            "grid_row": null,
            "grid_template_areas": null,
            "grid_template_columns": null,
            "grid_template_rows": null,
            "height": null,
            "justify_content": null,
            "justify_items": null,
            "left": null,
            "margin": null,
            "max_height": null,
            "max_width": null,
            "min_height": null,
            "min_width": null,
            "object_fit": null,
            "object_position": null,
            "order": null,
            "overflow": null,
            "overflow_x": null,
            "overflow_y": null,
            "padding": null,
            "right": null,
            "top": null,
            "visibility": null,
            "width": null
          }
        },
        "0e7f6472c6c647b3bbcaf0e141e4908a": {
          "model_module": "@jupyter-widgets/controls",
          "model_name": "DescriptionStyleModel",
          "model_module_version": "1.5.0",
          "state": {
            "_model_module": "@jupyter-widgets/controls",
            "_model_module_version": "1.5.0",
            "_model_name": "DescriptionStyleModel",
            "_view_count": null,
            "_view_module": "@jupyter-widgets/base",
            "_view_module_version": "1.2.0",
            "_view_name": "StyleView",
            "description_width": ""
          }
        },
        "7eba6220ab7941c7b1d986bf2c361e84": {
          "model_module": "@jupyter-widgets/base",
          "model_name": "LayoutModel",
          "model_module_version": "1.2.0",
          "state": {
            "_model_module": "@jupyter-widgets/base",
            "_model_module_version": "1.2.0",
            "_model_name": "LayoutModel",
            "_view_count": null,
            "_view_module": "@jupyter-widgets/base",
            "_view_module_version": "1.2.0",
            "_view_name": "LayoutView",
            "align_content": null,
            "align_items": null,
            "align_self": null,
            "border": null,
            "bottom": null,
            "display": null,
            "flex": null,
            "flex_flow": null,
            "grid_area": null,
            "grid_auto_columns": null,
            "grid_auto_flow": null,
            "grid_auto_rows": null,
            "grid_column": null,
            "grid_gap": null,
            "grid_row": null,
            "grid_template_areas": null,
            "grid_template_columns": null,
            "grid_template_rows": null,
            "height": null,
            "justify_content": null,
            "justify_items": null,
            "left": null,
            "margin": null,
            "max_height": null,
            "max_width": null,
            "min_height": null,
            "min_width": null,
            "object_fit": null,
            "object_position": null,
            "order": null,
            "overflow": null,
            "overflow_x": null,
            "overflow_y": null,
            "padding": null,
            "right": null,
            "top": null,
            "visibility": null,
            "width": null
          }
        },
        "b9fddbe1805e4482b05144437e0dc486": {
          "model_module": "@jupyter-widgets/controls",
          "model_name": "ProgressStyleModel",
          "model_module_version": "1.5.0",
          "state": {
            "_model_module": "@jupyter-widgets/controls",
            "_model_module_version": "1.5.0",
            "_model_name": "ProgressStyleModel",
            "_view_count": null,
            "_view_module": "@jupyter-widgets/base",
            "_view_module_version": "1.2.0",
            "_view_name": "StyleView",
            "bar_color": null,
            "description_width": ""
          }
        },
        "34666e82046c4eccb14f8a70a0ae971e": {
          "model_module": "@jupyter-widgets/base",
          "model_name": "LayoutModel",
          "model_module_version": "1.2.0",
          "state": {
            "_model_module": "@jupyter-widgets/base",
            "_model_module_version": "1.2.0",
            "_model_name": "LayoutModel",
            "_view_count": null,
            "_view_module": "@jupyter-widgets/base",
            "_view_module_version": "1.2.0",
            "_view_name": "LayoutView",
            "align_content": null,
            "align_items": null,
            "align_self": null,
            "border": null,
            "bottom": null,
            "display": null,
            "flex": null,
            "flex_flow": null,
            "grid_area": null,
            "grid_auto_columns": null,
            "grid_auto_flow": null,
            "grid_auto_rows": null,
            "grid_column": null,
            "grid_gap": null,
            "grid_row": null,
            "grid_template_areas": null,
            "grid_template_columns": null,
            "grid_template_rows": null,
            "height": null,
            "justify_content": null,
            "justify_items": null,
            "left": null,
            "margin": null,
            "max_height": null,
            "max_width": null,
            "min_height": null,
            "min_width": null,
            "object_fit": null,
            "object_position": null,
            "order": null,
            "overflow": null,
            "overflow_x": null,
            "overflow_y": null,
            "padding": null,
            "right": null,
            "top": null,
            "visibility": null,
            "width": null
          }
        },
        "134009bfc4cc4296b0c9ed53d05a1e00": {
          "model_module": "@jupyter-widgets/controls",
          "model_name": "DescriptionStyleModel",
          "model_module_version": "1.5.0",
          "state": {
            "_model_module": "@jupyter-widgets/controls",
            "_model_module_version": "1.5.0",
            "_model_name": "DescriptionStyleModel",
            "_view_count": null,
            "_view_module": "@jupyter-widgets/base",
            "_view_module_version": "1.2.0",
            "_view_name": "StyleView",
            "description_width": ""
          }
        }
      }
    }
  },
  "nbformat": 4,
  "nbformat_minor": 0
}