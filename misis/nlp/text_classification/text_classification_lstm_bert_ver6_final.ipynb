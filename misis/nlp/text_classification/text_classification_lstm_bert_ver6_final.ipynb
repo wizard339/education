{
 "cells": [
  {
   "cell_type": "code",
   "execution_count": 1,
   "metadata": {
    "id": "IPhGBcHg58X6"
   },
   "outputs": [
    {
     "name": "stdout",
     "output_type": "stream",
     "text": [
      "Requirement already satisfied: transformers in c:\\programdata\\anaconda3\\envs\\pytorch_1\\lib\\site-packages (4.26.1)\n",
      "Requirement already satisfied: datasets in c:\\programdata\\anaconda3\\envs\\pytorch_1\\lib\\site-packages (2.10.1)\n",
      "Requirement already satisfied: evaluate in c:\\programdata\\anaconda3\\envs\\pytorch_1\\lib\\site-packages (0.4.0)\n",
      "Requirement already satisfied: packaging>=20.0 in c:\\programdata\\anaconda3\\envs\\pytorch_1\\lib\\site-packages (from transformers) (22.0)\n",
      "Requirement already satisfied: requests in c:\\programdata\\anaconda3\\envs\\pytorch_1\\lib\\site-packages (from transformers) (2.28.1)\n",
      "Requirement already satisfied: tokenizers!=0.11.3,<0.14,>=0.11.1 in c:\\programdata\\anaconda3\\envs\\pytorch_1\\lib\\site-packages (from transformers) (0.13.2)\n",
      "Requirement already satisfied: huggingface-hub<1.0,>=0.11.0 in c:\\programdata\\anaconda3\\envs\\pytorch_1\\lib\\site-packages (from transformers) (0.12.1)\n",
      "Requirement already satisfied: pyyaml>=5.1 in c:\\programdata\\anaconda3\\envs\\pytorch_1\\lib\\site-packages (from transformers) (6.0)\n",
      "Requirement already satisfied: filelock in c:\\programdata\\anaconda3\\envs\\pytorch_1\\lib\\site-packages (from transformers) (3.9.0)\n",
      "Requirement already satisfied: tqdm>=4.27 in c:\\programdata\\anaconda3\\envs\\pytorch_1\\lib\\site-packages (from transformers) (4.65.0)\n",
      "Requirement already satisfied: numpy>=1.17 in c:\\programdata\\anaconda3\\envs\\pytorch_1\\lib\\site-packages (from transformers) (1.23.5)\n",
      "Requirement already satisfied: regex!=2019.12.17 in c:\\programdata\\anaconda3\\envs\\pytorch_1\\lib\\site-packages (from transformers) (2022.10.31)\n",
      "Requirement already satisfied: pandas in c:\\programdata\\anaconda3\\envs\\pytorch_1\\lib\\site-packages (from datasets) (1.5.3)\n",
      "Requirement already satisfied: aiohttp in c:\\programdata\\anaconda3\\envs\\pytorch_1\\lib\\site-packages (from datasets) (3.8.4)\n",
      "Requirement already satisfied: responses<0.19 in c:\\programdata\\anaconda3\\envs\\pytorch_1\\lib\\site-packages (from datasets) (0.18.0)\n",
      "Requirement already satisfied: xxhash in c:\\programdata\\anaconda3\\envs\\pytorch_1\\lib\\site-packages (from datasets) (3.2.0)\n",
      "Requirement already satisfied: multiprocess in c:\\programdata\\anaconda3\\envs\\pytorch_1\\lib\\site-packages (from datasets) (0.70.14)\n",
      "Requirement already satisfied: pyarrow>=6.0.0 in c:\\programdata\\anaconda3\\envs\\pytorch_1\\lib\\site-packages (from datasets) (11.0.0)\n",
      "Requirement already satisfied: fsspec[http]>=2021.11.1 in c:\\programdata\\anaconda3\\envs\\pytorch_1\\lib\\site-packages (from datasets) (2023.3.0)\n",
      "Requirement already satisfied: dill<0.3.7,>=0.3.0 in c:\\programdata\\anaconda3\\envs\\pytorch_1\\lib\\site-packages (from datasets) (0.3.6)\n",
      "Requirement already satisfied: frozenlist>=1.1.1 in c:\\programdata\\anaconda3\\envs\\pytorch_1\\lib\\site-packages (from aiohttp->datasets) (1.3.3)\n",
      "Requirement already satisfied: multidict<7.0,>=4.5 in c:\\programdata\\anaconda3\\envs\\pytorch_1\\lib\\site-packages (from aiohttp->datasets) (6.0.4)\n",
      "Requirement already satisfied: yarl<2.0,>=1.0 in c:\\programdata\\anaconda3\\envs\\pytorch_1\\lib\\site-packages (from aiohttp->datasets) (1.8.2)\n",
      "Requirement already satisfied: attrs>=17.3.0 in c:\\programdata\\anaconda3\\envs\\pytorch_1\\lib\\site-packages (from aiohttp->datasets) (22.1.0)\n",
      "Requirement already satisfied: charset-normalizer<4.0,>=2.0 in c:\\programdata\\anaconda3\\envs\\pytorch_1\\lib\\site-packages (from aiohttp->datasets) (2.0.4)\n",
      "Requirement already satisfied: async-timeout<5.0,>=4.0.0a3 in c:\\programdata\\anaconda3\\envs\\pytorch_1\\lib\\site-packages (from aiohttp->datasets) (4.0.2)\n",
      "Requirement already satisfied: aiosignal>=1.1.2 in c:\\programdata\\anaconda3\\envs\\pytorch_1\\lib\\site-packages (from aiohttp->datasets) (1.3.1)\n",
      "Requirement already satisfied: typing-extensions>=3.7.4.3 in c:\\programdata\\anaconda3\\envs\\pytorch_1\\lib\\site-packages (from huggingface-hub<1.0,>=0.11.0->transformers) (4.5.0)\n",
      "Requirement already satisfied: certifi>=2017.4.17 in c:\\programdata\\anaconda3\\envs\\pytorch_1\\lib\\site-packages (from requests->transformers) (2022.12.7)\n",
      "Requirement already satisfied: idna<4,>=2.5 in c:\\programdata\\anaconda3\\envs\\pytorch_1\\lib\\site-packages (from requests->transformers) (3.4)\n",
      "Requirement already satisfied: urllib3<1.27,>=1.21.1 in c:\\programdata\\anaconda3\\envs\\pytorch_1\\lib\\site-packages (from requests->transformers) (1.26.14)\n",
      "Requirement already satisfied: colorama in c:\\programdata\\anaconda3\\envs\\pytorch_1\\lib\\site-packages (from tqdm>=4.27->transformers) (0.4.6)\n",
      "Requirement already satisfied: python-dateutil>=2.8.1 in c:\\programdata\\anaconda3\\envs\\pytorch_1\\lib\\site-packages (from pandas->datasets) (2.8.2)\n",
      "Requirement already satisfied: pytz>=2020.1 in c:\\programdata\\anaconda3\\envs\\pytorch_1\\lib\\site-packages (from pandas->datasets) (2022.7)\n",
      "Requirement already satisfied: six>=1.5 in c:\\programdata\\anaconda3\\envs\\pytorch_1\\lib\\site-packages (from python-dateutil>=2.8.1->pandas->datasets) (1.16.0)\n"
     ]
    }
   ],
   "source": [
    "!pip install transformers datasets evaluate"
   ]
  },
  {
   "cell_type": "code",
   "execution_count": 2,
   "metadata": {
    "colab": {
     "base_uri": "https://localhost:8080/"
    },
    "id": "4QrD0qmKkiRL",
    "outputId": "b06fbcaa-5a94-410f-80c2-b76a6e5aa721"
   },
   "outputs": [
    {
     "name": "stderr",
     "output_type": "stream",
     "text": [
      "[nltk_data] Downloading package stopwords to\n",
      "[nltk_data]     C:\\Users\\Home\\AppData\\Roaming\\nltk_data...\n",
      "[nltk_data]   Package stopwords is already up-to-date!\n"
     ]
    }
   ],
   "source": [
    "# Data processing\n",
    "import pandas as pd\n",
    "import numpy as np\n",
    "import re\n",
    "import nltk\n",
    "from nltk.corpus import stopwords\n",
    "nltk.download('stopwords')\n",
    "from sklearn.preprocessing import LabelEncoder\n",
    "from sklearn.model_selection import train_test_split\n",
    "from transformers import default_data_collator, DataCollatorWithPadding, DataCollatorForLanguageModeling\n",
    "from torchtext.data import get_tokenizer\n",
    "from torchtext.vocab import build_vocab_from_iterator\n",
    "from torchtext.data.functional import to_map_style_dataset\n",
    "# Hugging Face Dataset\n",
    "from datasets import Dataset\n",
    "\n",
    "# Modeling\n",
    "import torch\n",
    "from torch import nn\n",
    "from torch.nn import functional as F\n",
    "from torch.optim import Adam, AdamW\n",
    "from torch.optim.lr_scheduler import LinearLR\n",
    "from torch.nn.init import xavier_uniform_\n",
    "from transformers import AutoTokenizer, AutoModelForSequenceClassification, AutoModelForMaskedLM\n",
    "from transformers import Trainer, TrainingArguments, get_scheduler\n",
    "\n",
    "# Model performance evaluation\n",
    "import evaluate\n",
    "from sklearn.metrics import accuracy_score, classification_report, confusion_matrix\n",
    "\n",
    "# Working with path\n",
    "import os\n",
    "import pathlib\n",
    "from pathlib import Path \n",
    "\n",
    "#Seed for reproducibility\n",
    "import random\n",
    "seed_value=42\n",
    "random.seed(seed_value)\n",
    "np.random.seed(seed_value)\n",
    "torch.manual_seed(seed_value)\n",
    "torch.cuda.manual_seed_all(seed_value)\n",
    "\n",
    "# Other useful\n",
    "import math\n",
    "import collections\n",
    "import gc\n",
    "from torch.types import Device\n",
    "from prompt_toolkit import output\n",
    "\n",
    "# Visualization\n",
    "from tqdm.auto import tqdm\n",
    "import matplotlib.pyplot as plt\n",
    "%matplotlib inline\n",
    "plt.style.use('ggplot')"
   ]
  },
  {
   "cell_type": "code",
   "execution_count": 3,
   "metadata": {
    "colab": {
     "base_uri": "https://localhost:8080/"
    },
    "id": "FKV7dOOg9tLM",
    "outputId": "f7ac17e8-da70-4613-8f82-75c1953839e2"
   },
   "outputs": [
    {
     "name": "stdout",
     "output_type": "stream",
     "text": [
      "Training on the cuda.\n"
     ]
    }
   ],
   "source": [
    "device = torch.device('cuda' if torch.cuda.is_available() else 'cpu')\n",
    "print(f'Training on the {device}.')"
   ]
  },
  {
   "cell_type": "markdown",
   "metadata": {
    "id": "pSRRIo1JlDyH",
    "tags": []
   },
   "source": [
    "# Loading data, EDA, data preprocessing"
   ]
  },
  {
   "cell_type": "markdown",
   "metadata": {
    "id": "zASd3CbiAtx7",
    "jp-MarkdownHeadingCollapsed": true,
    "tags": []
   },
   "source": [
    "### Loading data"
   ]
  },
  {
   "cell_type": "code",
   "execution_count": 4,
   "metadata": {
    "colab": {
     "base_uri": "https://localhost:8080/"
    },
    "id": "XI6DAnfpk7rv",
    "outputId": "6414131a-5c18-4e45-c625-37928a10ca93"
   },
   "outputs": [
    {
     "name": "stdout",
     "output_type": "stream",
     "text": [
      "Shape of train: (41159, 2)\n",
      "Shape of test: (3798, 2)\n"
     ]
    }
   ],
   "source": [
    "train_raw_data = pd.read_csv(filepath_or_buffer='https://raw.githubusercontent.com/wizard339/education/main/misis/nlp/text_classification/train.csv', index_col=0)\n",
    "subm_raw_data = pd.read_csv(filepath_or_buffer='https://raw.githubusercontent.com/wizard339/education/main/misis/nlp/text_classification/test.csv')\n",
    "\n",
    "print(f'Shape of train: {train_raw_data.shape}')\n",
    "print(f'Shape of test: {subm_raw_data.shape}')"
   ]
  },
  {
   "cell_type": "code",
   "execution_count": 5,
   "metadata": {
    "colab": {
     "base_uri": "https://localhost:8080/",
     "height": 206
    },
    "id": "CmFHCY0RcchW",
    "outputId": "aa94ca68-1eb1-4e40-894a-4e072d4951e1"
   },
   "outputs": [
    {
     "data": {
      "text/html": [
       "<div>\n",
       "<style scoped>\n",
       "    .dataframe tbody tr th:only-of-type {\n",
       "        vertical-align: middle;\n",
       "    }\n",
       "\n",
       "    .dataframe tbody tr th {\n",
       "        vertical-align: top;\n",
       "    }\n",
       "\n",
       "    .dataframe thead th {\n",
       "        text-align: right;\n",
       "    }\n",
       "</style>\n",
       "<table border=\"1\" class=\"dataframe\">\n",
       "  <thead>\n",
       "    <tr style=\"text-align: right;\">\n",
       "      <th></th>\n",
       "      <th>Text</th>\n",
       "    </tr>\n",
       "  </thead>\n",
       "  <tbody>\n",
       "    <tr>\n",
       "      <th>0</th>\n",
       "      <td>TRENDING: New Yorkers encounter empty supermar...</td>\n",
       "    </tr>\n",
       "    <tr>\n",
       "      <th>1</th>\n",
       "      <td>When I couldn't find hand sanitizer at Fred Me...</td>\n",
       "    </tr>\n",
       "    <tr>\n",
       "      <th>2</th>\n",
       "      <td>Find out how you can protect yourself and love...</td>\n",
       "    </tr>\n",
       "    <tr>\n",
       "      <th>3</th>\n",
       "      <td>#Panic buying hits #NewYork City as anxious sh...</td>\n",
       "    </tr>\n",
       "    <tr>\n",
       "      <th>4</th>\n",
       "      <td>#toiletpaper #dunnypaper #coronavirus #coronav...</td>\n",
       "    </tr>\n",
       "  </tbody>\n",
       "</table>\n",
       "</div>"
      ],
      "text/plain": [
       "                                                Text\n",
       "0  TRENDING: New Yorkers encounter empty supermar...\n",
       "1  When I couldn't find hand sanitizer at Fred Me...\n",
       "2  Find out how you can protect yourself and love...\n",
       "3  #Panic buying hits #NewYork City as anxious sh...\n",
       "4  #toiletpaper #dunnypaper #coronavirus #coronav..."
      ]
     },
     "execution_count": 5,
     "metadata": {},
     "output_type": "execute_result"
    }
   ],
   "source": [
    "# delete the useles column 'id' for us\n",
    "subm_raw_data = subm_raw_data.drop('id', axis=1)\n",
    "subm_raw_data.head()"
   ]
  },
  {
   "cell_type": "markdown",
   "metadata": {
    "id": "JWrgde2Lucb5",
    "jp-MarkdownHeadingCollapsed": true,
    "tags": []
   },
   "source": [
    "### Working with missing data"
   ]
  },
  {
   "cell_type": "markdown",
   "metadata": {
    "id": "RUiEV9aau6qo"
   },
   "source": [
    "Let's look at the data:\n"
   ]
  },
  {
   "cell_type": "code",
   "execution_count": 6,
   "metadata": {
    "colab": {
     "base_uri": "https://localhost:8080/",
     "height": 0
    },
    "id": "1sa0Mvfzlx1Z",
    "outputId": "65eff05b-b440-4803-d4e5-f95b323275fa"
   },
   "outputs": [
    {
     "data": {
      "text/html": [
       "<div>\n",
       "<style scoped>\n",
       "    .dataframe tbody tr th:only-of-type {\n",
       "        vertical-align: middle;\n",
       "    }\n",
       "\n",
       "    .dataframe tbody tr th {\n",
       "        vertical-align: top;\n",
       "    }\n",
       "\n",
       "    .dataframe thead th {\n",
       "        text-align: right;\n",
       "    }\n",
       "</style>\n",
       "<table border=\"1\" class=\"dataframe\">\n",
       "  <thead>\n",
       "    <tr style=\"text-align: right;\">\n",
       "      <th></th>\n",
       "      <th>Text</th>\n",
       "      <th>Sentiment</th>\n",
       "    </tr>\n",
       "  </thead>\n",
       "  <tbody>\n",
       "    <tr>\n",
       "      <th>0</th>\n",
       "      <td>@MeNyrbie @Phil_Gahan @Chrisitv https://t.co/i...</td>\n",
       "      <td>Neutral</td>\n",
       "    </tr>\n",
       "    <tr>\n",
       "      <th>1</th>\n",
       "      <td>advice Talk to your neighbours family to excha...</td>\n",
       "      <td>Positive</td>\n",
       "    </tr>\n",
       "    <tr>\n",
       "      <th>2</th>\n",
       "      <td>Coronavirus Australia: Woolworths to give elde...</td>\n",
       "      <td>Positive</td>\n",
       "    </tr>\n",
       "    <tr>\n",
       "      <th>3</th>\n",
       "      <td>My food stock is not the only one which is emp...</td>\n",
       "      <td>Positive</td>\n",
       "    </tr>\n",
       "    <tr>\n",
       "      <th>4</th>\n",
       "      <td>Me, ready to go at supermarket during the #COV...</td>\n",
       "      <td>Extremely Negative</td>\n",
       "    </tr>\n",
       "  </tbody>\n",
       "</table>\n",
       "</div>"
      ],
      "text/plain": [
       "                                                Text           Sentiment\n",
       "0  @MeNyrbie @Phil_Gahan @Chrisitv https://t.co/i...             Neutral\n",
       "1  advice Talk to your neighbours family to excha...            Positive\n",
       "2  Coronavirus Australia: Woolworths to give elde...            Positive\n",
       "3  My food stock is not the only one which is emp...            Positive\n",
       "4  Me, ready to go at supermarket during the #COV...  Extremely Negative"
      ]
     },
     "execution_count": 6,
     "metadata": {},
     "output_type": "execute_result"
    }
   ],
   "source": [
    "train_raw_data.head()"
   ]
  },
  {
   "cell_type": "code",
   "execution_count": 7,
   "metadata": {
    "colab": {
     "base_uri": "https://localhost:8080/"
    },
    "id": "vEOVFQHdmsiE",
    "outputId": "16538341-0ebe-48de-993b-dc6ce820aba2"
   },
   "outputs": [
    {
     "name": "stdout",
     "output_type": "stream",
     "text": [
      "<class 'pandas.core.frame.DataFrame'>\n",
      "Index: 41159 entries, 0 to 41156\n",
      "Data columns (total 2 columns):\n",
      " #   Column     Non-Null Count  Dtype \n",
      "---  ------     --------------  ----- \n",
      " 0   Text       41158 non-null  object\n",
      " 1   Sentiment  41155 non-null  object\n",
      "dtypes: object(2)\n",
      "memory usage: 964.7+ KB\n"
     ]
    }
   ],
   "source": [
    "train_raw_data.info()"
   ]
  },
  {
   "cell_type": "markdown",
   "metadata": {
    "id": "0_CvsTtvvN2O"
   },
   "source": [
    "We can see that there are rows with missing data. Let's look at them:"
   ]
  },
  {
   "cell_type": "code",
   "execution_count": 8,
   "metadata": {
    "colab": {
     "base_uri": "https://localhost:8080/",
     "height": 0
    },
    "id": "ZUENGV0Hpwzj",
    "outputId": "3204ea46-b45a-4d24-9f32-db3c56dac399"
   },
   "outputs": [
    {
     "data": {
      "text/html": [
       "<div>\n",
       "<style scoped>\n",
       "    .dataframe tbody tr th:only-of-type {\n",
       "        vertical-align: middle;\n",
       "    }\n",
       "\n",
       "    .dataframe tbody tr th {\n",
       "        vertical-align: top;\n",
       "    }\n",
       "\n",
       "    .dataframe thead th {\n",
       "        text-align: right;\n",
       "    }\n",
       "</style>\n",
       "<table border=\"1\" class=\"dataframe\">\n",
       "  <thead>\n",
       "    <tr style=\"text-align: right;\">\n",
       "      <th></th>\n",
       "      <th>Text</th>\n",
       "      <th>Sentiment</th>\n",
       "    </tr>\n",
       "  </thead>\n",
       "  <tbody>\n",
       "    <tr>\n",
       "      <th>33122</th>\n",
       "      <td>@PrivyCouncilCA #SocialDistancing isnÂt enoug...</td>\n",
       "      <td>NaN</td>\n",
       "    </tr>\n",
       "    <tr>\n",
       "      <th>NaN</th>\n",
       "      <td>Neutral</td>\n",
       "      <td>NaN</td>\n",
       "    </tr>\n",
       "    <tr>\n",
       "      <th>39204</th>\n",
       "      <td>@TanDhesi @foreignoffice @Afzal4Gorton @Expres...</td>\n",
       "      <td>NaN</td>\n",
       "    </tr>\n",
       "    <tr>\n",
       "      <th>Neutral</th>\n",
       "      <td>NaN</td>\n",
       "      <td>NaN</td>\n",
       "    </tr>\n",
       "  </tbody>\n",
       "</table>\n",
       "</div>"
      ],
      "text/plain": [
       "                                                      Text Sentiment\n",
       "33122    @PrivyCouncilCA #SocialDistancing isnÂt enoug...       NaN\n",
       "NaN                                                Neutral       NaN\n",
       "39204    @TanDhesi @foreignoffice @Afzal4Gorton @Expres...       NaN\n",
       "Neutral                                                NaN       NaN"
      ]
     },
     "execution_count": 8,
     "metadata": {},
     "output_type": "execute_result"
    }
   ],
   "source": [
    "train_raw_data[train_raw_data['Sentiment'].isnull() == True]"
   ]
  },
  {
   "cell_type": "markdown",
   "metadata": {
    "id": "AdeIHPFjv-Kv"
   },
   "source": [
    "Let's drop these rows from our DataFrame because they don't carry much value and let's look at the data again:"
   ]
  },
  {
   "cell_type": "code",
   "execution_count": 9,
   "metadata": {
    "colab": {
     "base_uri": "https://localhost:8080/"
    },
    "id": "I_S2wW1Ov52V",
    "outputId": "750dbe94-b03f-4cb1-e3e8-915cf7a83886"
   },
   "outputs": [
    {
     "name": "stdout",
     "output_type": "stream",
     "text": [
      "New shape of train: (41155, 2)\n"
     ]
    }
   ],
   "source": [
    "train_raw_data = train_raw_data.dropna().reset_index(drop=True)\n",
    "print(f'New shape of train: {train_raw_data.shape}')"
   ]
  },
  {
   "cell_type": "code",
   "execution_count": 10,
   "metadata": {
    "colab": {
     "base_uri": "https://localhost:8080/"
    },
    "id": "4ysjsa6gw-hr",
    "outputId": "1439f0d1-3c40-4e6f-a980-1a8aa0a21ba2"
   },
   "outputs": [
    {
     "name": "stdout",
     "output_type": "stream",
     "text": [
      "<class 'pandas.core.frame.DataFrame'>\n",
      "RangeIndex: 41155 entries, 0 to 41154\n",
      "Data columns (total 2 columns):\n",
      " #   Column     Non-Null Count  Dtype \n",
      "---  ------     --------------  ----- \n",
      " 0   Text       41155 non-null  object\n",
      " 1   Sentiment  41155 non-null  object\n",
      "dtypes: object(2)\n",
      "memory usage: 643.2+ KB\n"
     ]
    }
   ],
   "source": [
    "train_raw_data.info()"
   ]
  },
  {
   "cell_type": "markdown",
   "metadata": {
    "id": "C4C_C1RIidNW"
   },
   "source": [
    "Let's look at the lengths of texts:"
   ]
  },
  {
   "cell_type": "code",
   "execution_count": 11,
   "metadata": {
    "colab": {
     "base_uri": "https://localhost:8080/",
     "height": 0
    },
    "id": "lFX68FAAiUEF",
    "outputId": "82ba9935-8719-4ddc-f299-2b0476df3098"
   },
   "outputs": [
    {
     "data": {
      "text/plain": [
       "(array([ 530., 3268., 4924., 6560., 6257., 7495., 8516., 3053.,  529.,\n",
       "          23.]),\n",
       " array([ 1. ,  7.3, 13.6, 19.9, 26.2, 32.5, 38.8, 45.1, 51.4, 57.7, 64. ]),\n",
       " <BarContainer object of 10 artists>)"
      ]
     },
     "execution_count": 11,
     "metadata": {},
     "output_type": "execute_result"
    },
    {
     "data": {
      "image/png": "[encoded data removed]",
      "text/plain": [
       "<Figure size 640x480 with 1 Axes>"
      ]
     },
     "metadata": {},
     "output_type": "display_data"
    }
   ],
   "source": [
    "plt.hist([len(text.split()) for text in train_raw_data['Text']])"
   ]
  },
  {
   "cell_type": "code",
   "execution_count": 12,
   "metadata": {
    "colab": {
     "base_uri": "https://localhost:8080/",
     "height": 0
    },
    "id": "LEfqHImMiRqL",
    "outputId": "a16f7189-db62-4621-d119-843020400972"
   },
   "outputs": [
    {
     "data": {
      "text/plain": [
       "(array([ 24., 231., 356., 477., 543., 623., 701., 629., 199.,  15.]),\n",
       " array([ 2.,  8., 14., 20., 26., 32., 38., 44., 50., 56., 62.]),\n",
       " <BarContainer object of 10 artists>)"
      ]
     },
     "execution_count": 12,
     "metadata": {},
     "output_type": "execute_result"
    },
    {
     "data": {
      "image/png": "[encoded data removed]",
      "text/plain": [
       "<Figure size 640x480 with 1 Axes>"
      ]
     },
     "metadata": {},
     "output_type": "display_data"
    }
   ],
   "source": [
    "plt.hist([len(text.split()) for text in subm_raw_data['Text']])"
   ]
  },
  {
   "cell_type": "markdown",
   "metadata": {
    "id": "gR7OO311irog"
   },
   "source": [
    "As we can see, almost all texts are 50 words or less in length and the largest distribution in length is about 40 words.\n",
    "\n",
    "There are no sequences that are too long and the distributions in the training and test samples are similar. It is good."
   ]
  },
  {
   "cell_type": "markdown",
   "metadata": {
    "id": "qR5dBpDmBOto",
    "jp-MarkdownHeadingCollapsed": true,
    "tags": []
   },
   "source": [
    "### Label encoding of target column"
   ]
  },
  {
   "cell_type": "code",
   "execution_count": 13,
   "metadata": {
    "colab": {
     "base_uri": "https://localhost:8080/"
    },
    "id": "N7zW7Diayv0I",
    "outputId": "7d951e44-f4f0-4d52-a6cc-b867f662c604"
   },
   "outputs": [
    {
     "data": {
      "text/plain": [
       "Positive              11422\n",
       "Negative               9917\n",
       "Neutral                7711\n",
       "Extremely Positive     6624\n",
       "Extremely Negative     5481\n",
       "Name: Sentiment, dtype: int64"
      ]
     },
     "execution_count": 13,
     "metadata": {},
     "output_type": "execute_result"
    }
   ],
   "source": [
    "train_raw_data['Sentiment'].value_counts()"
   ]
  },
  {
   "cell_type": "code",
   "execution_count": 14,
   "metadata": {
    "colab": {
     "base_uri": "https://localhost:8080/",
     "height": 0
    },
    "id": "8CVn5RlO9H1D",
    "outputId": "b90ca680-dfc8-4863-cd89-cd48b58b0ad5"
   },
   "outputs": [
    {
     "data": {
      "text/html": [
       "<div>\n",
       "<style scoped>\n",
       "    .dataframe tbody tr th:only-of-type {\n",
       "        vertical-align: middle;\n",
       "    }\n",
       "\n",
       "    .dataframe tbody tr th {\n",
       "        vertical-align: top;\n",
       "    }\n",
       "\n",
       "    .dataframe thead th {\n",
       "        text-align: right;\n",
       "    }\n",
       "</style>\n",
       "<table border=\"1\" class=\"dataframe\">\n",
       "  <thead>\n",
       "    <tr style=\"text-align: right;\">\n",
       "      <th></th>\n",
       "      <th>Text</th>\n",
       "      <th>Sentiment</th>\n",
       "    </tr>\n",
       "  </thead>\n",
       "  <tbody>\n",
       "    <tr>\n",
       "      <th>0</th>\n",
       "      <td>@MeNyrbie @Phil_Gahan @Chrisitv https://t.co/i...</td>\n",
       "      <td>3</td>\n",
       "    </tr>\n",
       "    <tr>\n",
       "      <th>1</th>\n",
       "      <td>advice Talk to your neighbours family to excha...</td>\n",
       "      <td>4</td>\n",
       "    </tr>\n",
       "    <tr>\n",
       "      <th>2</th>\n",
       "      <td>Coronavirus Australia: Woolworths to give elde...</td>\n",
       "      <td>4</td>\n",
       "    </tr>\n",
       "    <tr>\n",
       "      <th>3</th>\n",
       "      <td>My food stock is not the only one which is emp...</td>\n",
       "      <td>4</td>\n",
       "    </tr>\n",
       "    <tr>\n",
       "      <th>4</th>\n",
       "      <td>Me, ready to go at supermarket during the #COV...</td>\n",
       "      <td>0</td>\n",
       "    </tr>\n",
       "  </tbody>\n",
       "</table>\n",
       "</div>"
      ],
      "text/plain": [
       "                                                Text  Sentiment\n",
       "0  @MeNyrbie @Phil_Gahan @Chrisitv https://t.co/i...          3\n",
       "1  advice Talk to your neighbours family to excha...          4\n",
       "2  Coronavirus Australia: Woolworths to give elde...          4\n",
       "3  My food stock is not the only one which is emp...          4\n",
       "4  Me, ready to go at supermarket during the #COV...          0"
      ]
     },
     "execution_count": 14,
     "metadata": {},
     "output_type": "execute_result"
    }
   ],
   "source": [
    "le = LabelEncoder()\n",
    "le.fit(train_raw_data['Sentiment'])\n",
    "train_raw_data['Sentiment'] = le.transform(train_raw_data['Sentiment'])\n",
    "train_raw_data.head(5)"
   ]
  },
  {
   "cell_type": "markdown",
   "metadata": {
    "id": "0AMv6PmTBj8t",
    "jp-MarkdownHeadingCollapsed": true,
    "tags": []
   },
   "source": [
    "### Сleaning text from useless data"
   ]
  },
  {
   "cell_type": "markdown",
   "metadata": {
    "id": "lrE0m0XYCMO9"
   },
   "source": [
    "Let's look at the text more closely:"
   ]
  },
  {
   "cell_type": "code",
   "execution_count": 15,
   "metadata": {
    "colab": {
     "base_uri": "https://localhost:8080/"
    },
    "id": "ONquVuGj-YRd",
    "outputId": "049eb393-4c41-4639-fa46-98cc9f32ca6b"
   },
   "outputs": [
    {
     "name": "stdout",
     "output_type": "stream",
     "text": [
      "['So panic buying of soaps and toilet roll was bad enough, now the idiots are stockpiling alcohol ? whats wrong with people #CoronaVirus #StopPanicBuying #Covid_19'\n",
      " 'I would place a large amount of money this is the guy buying 90 of the toilet paper'\n",
      " '\"Saudi Arabia is bracing for an economic downturn as oil prices plummet due to the #coronavirus pandemic\" https://t.co/PQ3eRX9euZ'\n",
      " '#Foodsecurity #coronavirus #covid19 \\r\\r\\n1.Smooth flow of global trade will help secure food supply\\r\\r\\n2.Monitoring food prices and markets\\r\\r\\n3.Sharing relevant information transparently\\r\\r\\n4.Supporting the vulnerable countries and populationsÂ\\x85https://t.co/tTPmInVVgS https://t.co/Ums3Eueu6J'\n",
      " 'I d like to know who is stockpiling eggs cheese and ice cream and why I m used to going without as our local Lidl has been running out of all kinds of stuff for years way before Drives me potty Going to the supermarket is like entering a lottery'\n",
      " 'Whenever you touch any object or surface outside your abode #washyourhands with #soapandwater\\r\\r\\n\\r\\r\\n#staysafe #stayhome\\r\\r\\n#sanitizer #socialdistancing \\r\\r\\n#covid19 #sd\\r\\r\\n#coronavirus \\r\\r\\n#chinesevirus\\r\\r\\n#asiegercares \\r\\r\\n#who #asieger https://t.co/UYM6i83PeP'\n",
      " 'P.S.A for those buying ?. The human body can survive upwards of 40 days with no food. Water is the most important thing during these times; especially since you canÂ\\x92t go more then 3 days without it before death. Think wise and not in a panic induced state. Stay safe. #Covid_19'\n",
      " 'Publix. Walmart. Thats how its spreading through our community. You may stay home all week, then go get a gallon of milk with a side of Covid-19Why would you set limits of boats in the waters to stay 50ft apart, But not regulate the amount of people in a supermarket.#coronavirus'\n",
      " 'Our healthcare community is the backbone of the response to #Coronavirus. @marty_walsh is committed to supporting them, so certain garages in the @CityOfBoston are now offering reduced prices for hospital staff. \\r\\r\\n\\r\\r\\nhttps://t.co/VFpW5FXObJ'\n",
      " 'Lilliesleaf clapped as Alan played for  NHS workers, delivery people, supermarket staff, carers and everyone out there taking care of the sick and keeping the country going. You have to squint to see the people at their houses but they are there. #clapforkeyworkers #coronavirus https://t.co/VqIZSCKCvE']\n"
     ]
    }
   ],
   "source": [
    "print(train_raw_data['Text'].sample(10, random_state=42).values)"
   ]
  },
  {
   "cell_type": "code",
   "execution_count": 16,
   "metadata": {
    "id": "VljsoMJbB_qy"
   },
   "outputs": [],
   "source": [
    "def text_cleaner(text: str) -> str:\n",
    "    '''will clean from unicode, url, hashtags, numbers,\n",
    "    nicknames, lower'''\n",
    "    # text = re.sub(r'[.,#!$%\\^&\\*;:{}=\\-_`~()]',r'',text) # punct.\n",
    "    \n",
    "    # text = re.sub(r'(\\\\u[0-9A-Fa-f]+)',r'', text)       \n",
    "    text = re.sub(r'[^\\x00-\\x7f]', r'', text)# unicode\n",
    "\n",
    "    text = re.sub(r'(\\\\[a-z])', r'', text)\n",
    "    \n",
    "    text = re.sub(r'http\\S+', r'', text)# url\n",
    "    \n",
    "    text = re.sub('@[A-Za-z0-9_-]+', r'', text)# nickname\n",
    "    \n",
    "    text = re.sub(r'#([^\\s]+)', r'\\1', text)# hashtag symbol\n",
    "    \n",
    "    text = re.sub(':\\)|;\\)|:-\\)|\\(-:|:-D|=D|:P|xD|X-p|\\^\\^|:-*|\\^\\.\\^|\\^\\-\\^|\\^\\_\\^|\\,-\\)|\\)-:|:\\'\\(|:\\(|:-\\(|:\\S|T\\.T|\\.\\_\\.|:<|:-\\S|:-<|\\*\\-\\*|:O|=O|=\\-O|O\\.o|XO|O\\_O|:-\\@|=/|:/|X\\-\\(|>\\.<|>=\\(|D:',\n",
    "                  '', text) # emoji\n",
    "    \n",
    "    text = ''.join([i for i in text if not i.isdigit()])# int.\n",
    "    \n",
    "    text = text.lower()\n",
    "    return text"
   ]
  },
  {
   "cell_type": "code",
   "execution_count": 17,
   "metadata": {
    "id": "JPx2u0gH_ncA"
   },
   "outputs": [],
   "source": [
    "# Thanks to https://www.kaggle.com/rftexas/text-only-kfold-bert\n",
    "abbreviations = {\n",
    "    \"$\" : \" dollar \",\n",
    "    \"€\" : \" euro \",\n",
    "    \"4ao\" : \"for adults only\",\n",
    "    \"a.m\" : \"before midday\",\n",
    "    \"a3\" : \"anytime anywhere anyplace\",\n",
    "    \"aamof\" : \"as a matter of fact\",\n",
    "    \"acct\" : \"account\",\n",
    "    \"adih\" : \"another day in hell\",\n",
    "    \"afaic\" : \"as far as i am concerned\",\n",
    "    \"afaict\" : \"as far as i can tell\",\n",
    "    \"afaik\" : \"as far as i know\",\n",
    "    \"afair\" : \"as far as i remember\",\n",
    "    \"afk\" : \"away from keyboard\",\n",
    "    \"app\" : \"application\",\n",
    "    \"approx\" : \"approximately\",\n",
    "    \"apps\" : \"applications\",\n",
    "    \"asap\" : \"as soon as possible\",\n",
    "    \"asl\" : \"age, sex, location\",\n",
    "    \"atk\" : \"at the keyboard\",\n",
    "    \"ave.\" : \"avenue\",\n",
    "    \"aymm\" : \"are you my mother\",\n",
    "    \"ayor\" : \"at your own risk\", \n",
    "    \"b&b\" : \"bed and breakfast\",\n",
    "    \"b+b\" : \"bed and breakfast\",\n",
    "    \"b.c\" : \"before christ\",\n",
    "    \"b2b\" : \"business to business\",\n",
    "    \"b2c\" : \"business to customer\",\n",
    "    \"b4\" : \"before\",\n",
    "    \"b4n\" : \"bye for now\",\n",
    "    \"b@u\" : \"back at you\",\n",
    "    \"bae\" : \"before anyone else\",\n",
    "    \"bak\" : \"back at keyboard\",\n",
    "    \"bbbg\" : \"bye bye be good\",\n",
    "    \"bbc\" : \"british broadcasting corporation\",\n",
    "    \"bbias\" : \"be back in a second\",\n",
    "    \"bbl\" : \"be back later\",\n",
    "    \"bbs\" : \"be back soon\",\n",
    "    \"be4\" : \"before\",\n",
    "    \"bfn\" : \"bye for now\",\n",
    "    \"blvd\" : \"boulevard\",\n",
    "    \"bout\" : \"about\",\n",
    "    \"brb\" : \"be right back\",\n",
    "    \"bros\" : \"brothers\",\n",
    "    \"brt\" : \"be right there\",\n",
    "    \"bsaaw\" : \"big smile and a wink\",\n",
    "    \"btw\" : \"by the way\",\n",
    "    \"bwl\" : \"bursting with laughter\",\n",
    "    \"c/o\" : \"care of\",\n",
    "    \"cet\" : \"central european time\",\n",
    "    \"cf\" : \"compare\",\n",
    "    \"cia\" : \"central intelligence agency\",\n",
    "    \"csl\" : \"can not stop laughing\",\n",
    "    \"cu\" : \"see you\",\n",
    "    \"cul8r\" : \"see you later\",\n",
    "    \"cv\" : \"curriculum vitae\",\n",
    "    \"cwot\" : \"complete waste of time\",\n",
    "    \"cya\" : \"see you\",\n",
    "    \"cyt\" : \"see you tomorrow\",\n",
    "    \"dae\" : \"does anyone else\",\n",
    "    \"dbmib\" : \"do not bother me i am busy\",\n",
    "    \"diy\" : \"do it yourself\",\n",
    "    \"dm\" : \"direct message\",\n",
    "    \"dwh\" : \"during work hours\",\n",
    "    \"e123\" : \"easy as one two three\",\n",
    "    \"eet\" : \"eastern european time\",\n",
    "    \"eg\" : \"example\",\n",
    "    \"embm\" : \"early morning business meeting\",\n",
    "    \"encl\" : \"enclosed\",\n",
    "    \"encl.\" : \"enclosed\",\n",
    "    \"etc\" : \"and so on\",\n",
    "    \"faq\" : \"frequently asked questions\",\n",
    "    \"fawc\" : \"for anyone who cares\",\n",
    "    \"fb\" : \"facebook\",\n",
    "    \"fc\" : \"fingers crossed\",\n",
    "    \"fig\" : \"figure\",\n",
    "    \"fimh\" : \"forever in my heart\", \n",
    "    \"ft.\" : \"feet\",\n",
    "    \"ft\" : \"featuring\",\n",
    "    \"ftl\" : \"for the loss\",\n",
    "    \"ftw\" : \"for the win\",\n",
    "    \"fwiw\" : \"for what it is worth\",\n",
    "    \"fyi\" : \"for your information\",\n",
    "    \"g9\" : \"genius\",\n",
    "    \"gahoy\" : \"get a hold of yourself\",\n",
    "    \"gal\" : \"get a life\",\n",
    "    \"gcse\" : \"general certificate of secondary education\",\n",
    "    \"gfn\" : \"gone for now\",\n",
    "    \"gg\" : \"good game\",\n",
    "    \"gl\" : \"good luck\",\n",
    "    \"glhf\" : \"good luck have fun\",\n",
    "    \"gmt\" : \"greenwich mean time\",\n",
    "    \"gmta\" : \"great minds think alike\",\n",
    "    \"gn\" : \"good night\",\n",
    "    \"g.o.a.t\" : \"greatest of all time\",\n",
    "    \"goat\" : \"greatest of all time\",\n",
    "    \"goi\" : \"get over it\",\n",
    "    \"gps\" : \"global positioning system\",\n",
    "    \"gr8\" : \"great\",\n",
    "    \"gratz\" : \"congratulations\",\n",
    "    \"gyal\" : \"girl\",\n",
    "    \"h&c\" : \"hot and cold\",\n",
    "    \"hp\" : \"horsepower\",\n",
    "    \"hr\" : \"hour\",\n",
    "    \"hrh\" : \"his royal highness\",\n",
    "    \"ht\" : \"height\",\n",
    "    \"ibrb\" : \"i will be right back\",\n",
    "    \"ic\" : \"i see\",\n",
    "    \"icq\" : \"i seek you\",\n",
    "    \"icymi\" : \"in case you missed it\",\n",
    "    \"idc\" : \"i do not care\",\n",
    "    \"idgadf\" : \"i do not give a damn fuck\",\n",
    "    \"idgaf\" : \"i do not give a fuck\",\n",
    "    \"idk\" : \"i do not know\",\n",
    "    \"ie\" : \"that is\",\n",
    "    \"i.e\" : \"that is\",\n",
    "    \"ifyp\" : \"i feel your pain\",\n",
    "    \"IG\" : \"instagram\",\n",
    "    \"iirc\" : \"if i remember correctly\",\n",
    "    \"ilu\" : \"i love you\",\n",
    "    \"ily\" : \"i love you\",\n",
    "    \"imho\" : \"in my humble opinion\",\n",
    "    \"imo\" : \"in my opinion\",\n",
    "    \"imu\" : \"i miss you\",\n",
    "    \"iow\" : \"in other words\",\n",
    "    \"irl\" : \"in real life\",\n",
    "    \"j4f\" : \"just for fun\",\n",
    "    \"jic\" : \"just in case\",\n",
    "    \"jk\" : \"just kidding\",\n",
    "    \"jsyk\" : \"just so you know\",\n",
    "    \"l8r\" : \"later\",\n",
    "    \"lb\" : \"pound\",\n",
    "    \"lbs\" : \"pounds\",\n",
    "    \"ldr\" : \"long distance relationship\",\n",
    "    \"lmao\" : \"laugh my ass off\",\n",
    "    \"lmfao\" : \"laugh my fucking ass off\",\n",
    "    \"lol\" : \"laughing out loud\",\n",
    "    \"ltd\" : \"limited\",\n",
    "    \"ltns\" : \"long time no see\",\n",
    "    \"m8\" : \"mate\",\n",
    "    \"mf\" : \"motherfucker\",\n",
    "    \"mfs\" : \"motherfuckers\",\n",
    "    \"mfw\" : \"my face when\",\n",
    "    \"mofo\" : \"motherfucker\",\n",
    "    \"mph\" : \"miles per hour\",\n",
    "    \"mr\" : \"mister\",\n",
    "    \"mrw\" : \"my reaction when\",\n",
    "    \"ms\" : \"miss\",\n",
    "    \"mte\" : \"my thoughts exactly\",\n",
    "    \"nagi\" : \"not a good idea\",\n",
    "    \"nbc\" : \"national broadcasting company\",\n",
    "    \"nbd\" : \"not big deal\",\n",
    "    \"nfs\" : \"not for sale\",\n",
    "    \"ngl\" : \"not going to lie\",\n",
    "    \"nhs\" : \"national health service\",\n",
    "    \"nrn\" : \"no reply necessary\",\n",
    "    \"nsfl\" : \"not safe for life\",\n",
    "    \"nsfw\" : \"not safe for work\",\n",
    "    \"nth\" : \"nice to have\",\n",
    "    \"nvr\" : \"never\",\n",
    "    \"nyc\" : \"new york city\",\n",
    "    \"oc\" : \"original content\",\n",
    "    \"og\" : \"original\",\n",
    "    \"ohp\" : \"overhead projector\",\n",
    "    \"oic\" : \"oh i see\",\n",
    "    \"omdb\" : \"over my dead body\",\n",
    "    \"omg\" : \"oh my god\",\n",
    "    \"omw\" : \"on my way\",\n",
    "    \"p.a\" : \"per annum\",\n",
    "    \"p.m\" : \"after midday\",\n",
    "    \"pm\" : \"prime minister\",\n",
    "    \"poc\" : \"people of color\",\n",
    "    \"pov\" : \"point of view\",\n",
    "    \"pp\" : \"pages\",\n",
    "    \"ppl\" : \"people\",\n",
    "    \"prw\" : \"parents are watching\",\n",
    "    \"ps\" : \"postscript\",\n",
    "    \"pt\" : \"point\",\n",
    "    \"ptb\" : \"please text back\",\n",
    "    \"pto\" : \"please turn over\",\n",
    "    \"qpsa\" : \"what happens\", #\"que pasa\",\n",
    "    \"ratchet\" : \"rude\",\n",
    "    \"rbtl\" : \"read between the lines\",\n",
    "    \"rlrt\" : \"real life retweet\", \n",
    "    \"rofl\" : \"rolling on the floor laughing\",\n",
    "    \"roflol\" : \"rolling on the floor laughing out loud\",\n",
    "    \"rotflmao\" : \"rolling on the floor laughing my ass off\",\n",
    "    \"rt\" : \"retweet\",\n",
    "    \"ruok\" : \"are you ok\",\n",
    "    \"sfw\" : \"safe for work\",\n",
    "    \"sk8\" : \"skate\",\n",
    "    \"smh\" : \"shake my head\",\n",
    "    \"sq\" : \"square\",\n",
    "    \"srsly\" : \"seriously\", \n",
    "    \"ssdd\" : \"same stuff different day\",\n",
    "    \"tbh\" : \"to be honest\",\n",
    "    \"tbs\" : \"tablespooful\",\n",
    "    \"tbsp\" : \"tablespooful\",\n",
    "    \"tfw\" : \"that feeling when\",\n",
    "    \"thks\" : \"thank you\",\n",
    "    \"tho\" : \"though\",\n",
    "    \"thx\" : \"thank you\",\n",
    "    \"tia\" : \"thanks in advance\",\n",
    "    \"til\" : \"today i learned\",\n",
    "    \"tl;dr\" : \"too long i did not read\",\n",
    "    \"tldr\" : \"too long i did not read\",\n",
    "    \"tmb\" : \"tweet me back\",\n",
    "    \"tntl\" : \"trying not to laugh\",\n",
    "    \"ttyl\" : \"talk to you later\",\n",
    "    \"u\" : \"you\",\n",
    "    \"u2\" : \"you too\",\n",
    "    \"u4e\" : \"yours for ever\",\n",
    "    \"utc\" : \"coordinated universal time\",\n",
    "    \"w/\" : \"with\",\n",
    "    \"w/o\" : \"without\",\n",
    "    \"w8\" : \"wait\",\n",
    "    \"wassup\" : \"what is up\",\n",
    "    \"wb\" : \"welcome back\",\n",
    "    \"wtf\" : \"what the fuck\",\n",
    "    \"wtg\" : \"way to go\",\n",
    "    \"wtpa\" : \"where the party at\",\n",
    "    \"wuf\" : \"where are you from\",\n",
    "    \"wuzup\" : \"what is up\",\n",
    "    \"wywh\" : \"wish you were here\",\n",
    "    \"yd\" : \"yard\",\n",
    "    \"ygtr\" : \"you got that right\",\n",
    "    \"ynk\" : \"you never know\",\n",
    "    \"zzz\" : \"sleeping bored and tired\"\n",
    "}"
   ]
  },
  {
   "cell_type": "code",
   "execution_count": 18,
   "metadata": {
    "id": "y5ffyZGGajoI"
   },
   "outputs": [],
   "source": [
    "stopword = nltk.corpus.stopwords.words('english')\n",
    "\n",
    "def text_cleaner2(text: str) -> str:\n",
    "    '''will clean from unicode, url, hashtags, numbers,\n",
    "    nicknames, lower'''\n",
    "    # text = re.sub(r'[.,#!$%\\^&\\*;:{}=\\-_`~()]',r'',text) # punct.\n",
    "    \n",
    "    text = re.sub(r'(\\\\u[0-9A-Fa-f]+)',r'', text)       \n",
    "    text = re.sub(r'[^\\x00-\\x7f]', r'', text)# unicode\n",
    "\n",
    "    # text = re.sub(r'(\\\\[a-z])', r'', text)\n",
    "\n",
    "    text = text.replace('\\n', '')\n",
    "    text = text.replace('\\r', '')\n",
    "    \n",
    "    text = re.sub(r'http\\S+', r'', text)# url\n",
    "    \n",
    "    text = re.sub('@[A-Za-z0-9_-]+', r'', text)# nickname\n",
    "    \n",
    "    text = re.sub('#([^\\s]+)', r'\\1', text)# hashtag symbol\n",
    "    \n",
    "    text = re.sub(':\\)|;\\)|:-\\)|\\(-:|:-D|=D|:P|xD|X-p|\\^\\^|:-*|\\^\\.\\^|\\^\\-\\^|\\^\\_\\^|\\,-\\)|\\)-:|:\\'\\(|:\\(|:-\\(|:\\S|T\\.T|\\.\\_\\.|:<|:-\\S|:-<|\\*\\-\\*|:O|=O|=\\-O|O\\.o|XO|O\\_O|:-\\@|=/|:/|X\\-\\(|>\\.<|>=\\(|D:',\n",
    "                  '', text) # emoji\n",
    "    \n",
    "    text = ''.join([i for i in text if not i.isdigit()])# int.\n",
    "\n",
    "    text = re.sub(r\"can\\'t\", \"can not\", text)\n",
    "    text = re.sub(r\" cant\", \" can not\", text)\n",
    "    text = re.sub(r\"n\\'t\", \" not\", text)\n",
    "    text = re.sub(r\"\\'re\", \" are\", text)\n",
    "    text = re.sub(r\"\\'s\", \" is\", text)\n",
    "    text = re.sub(r\"\\'d\", \" would\", text)\n",
    "    text = re.sub(r\"\\'ll\", \" will\", text)\n",
    "    text = re.sub(r\"\\'t\", \" not\", text)\n",
    "    text = re.sub(r\"\\'ve\", \" have\", text)\n",
    "    text = re.sub(r\"\\'m\", \" am\", text)\n",
    "    \n",
    "    text = text.lower()\n",
    "    text = [abbreviations[word] if word in abbreviations.keys() else word for word in text.split()]\n",
    "    # text = ' '.join(text)\n",
    "    # text = [word for word in text if word not in stopword]\n",
    "    text = ' '.join(text)\n",
    "    text = text.strip()\n",
    "    return text"
   ]
  },
  {
   "cell_type": "markdown",
   "metadata": {
    "id": "ix-E_pL1T2Fl"
   },
   "source": [
    "Let's check what the text will look like after cleaning the data in different versions:"
   ]
  },
  {
   "cell_type": "code",
   "execution_count": 19,
   "metadata": {
    "colab": {
     "base_uri": "https://localhost:8080/"
    },
    "id": "bMiCGotecuEW",
    "outputId": "ff53c7bb-ede1-4e62-d34f-a3f24b76f838"
   },
   "outputs": [
    {
     "name": "stdout",
     "output_type": "stream",
     "text": [
      "['So panic buying of soaps and toilet roll was bad enough, now the idiots are stockpiling alcohol ? whats wrong with people #CoronaVirus #StopPanicBuying #Covid_19'\n",
      " 'I would place a large amount of money this is the guy buying 90 of the toilet paper'\n",
      " '\"Saudi Arabia is bracing for an economic downturn as oil prices plummet due to the #coronavirus pandemic\" https://t.co/PQ3eRX9euZ'\n",
      " '#Foodsecurity #coronavirus #covid19 \\r\\r\\n1.Smooth flow of global trade will help secure food supply\\r\\r\\n2.Monitoring food prices and markets\\r\\r\\n3.Sharing relevant information transparently\\r\\r\\n4.Supporting the vulnerable countries and populationsÂ\\x85https://t.co/tTPmInVVgS https://t.co/Ums3Eueu6J'\n",
      " 'I d like to know who is stockpiling eggs cheese and ice cream and why I m used to going without as our local Lidl has been running out of all kinds of stuff for years way before Drives me potty Going to the supermarket is like entering a lottery'\n",
      " 'Whenever you touch any object or surface outside your abode #washyourhands with #soapandwater\\r\\r\\n\\r\\r\\n#staysafe #stayhome\\r\\r\\n#sanitizer #socialdistancing \\r\\r\\n#covid19 #sd\\r\\r\\n#coronavirus \\r\\r\\n#chinesevirus\\r\\r\\n#asiegercares \\r\\r\\n#who #asieger https://t.co/UYM6i83PeP'\n",
      " 'P.S.A for those buying ?. The human body can survive upwards of 40 days with no food. Water is the most important thing during these times; especially since you canÂ\\x92t go more then 3 days without it before death. Think wise and not in a panic induced state. Stay safe. #Covid_19'\n",
      " 'Publix. Walmart. Thats how its spreading through our community. You may stay home all week, then go get a gallon of milk with a side of Covid-19Why would you set limits of boats in the waters to stay 50ft apart, But not regulate the amount of people in a supermarket.#coronavirus'\n",
      " 'Our healthcare community is the backbone of the response to #Coronavirus. @marty_walsh is committed to supporting them, so certain garages in the @CityOfBoston are now offering reduced prices for hospital staff. \\r\\r\\n\\r\\r\\nhttps://t.co/VFpW5FXObJ'\n",
      " 'Lilliesleaf clapped as Alan played for  NHS workers, delivery people, supermarket staff, carers and everyone out there taking care of the sick and keeping the country going. You have to squint to see the people at their houses but they are there. #clapforkeyworkers #coronavirus https://t.co/VqIZSCKCvE']\n",
      "\n",
      "['so panic buying of soaps and toilet roll was bad enough, now the idiots are stockpiling alcohol ? whats wrong with people coronavirus stoppanicbuying covid_'\n",
      " 'i would place a large amount of money this is the guy buying  of the toilet paper'\n",
      " '\"saudi arabia is bracing for an economic downturn as oil prices plummet due to the coronavirus pandemic\" '\n",
      " 'foodsecurity coronavirus covid \\r\\r\\n.smooth flow of global trade will help secure food supply\\r\\r\\n.monitoring food prices and markets\\r\\r\\n.sharing relevant information transparently\\r\\r\\n.supporting the vulnerable countries and populations '\n",
      " 'i d like to know who is stockpiling eggs cheese and ice cream and why i m used to going without as our local lidl has been running out of all kinds of stuff for years way before drives me potty going to the supermarket is like entering a lottery'\n",
      " 'whenever you touch any object or surface outside your abode washyourhands with soapandwater\\r\\r\\n\\r\\r\\nstaysafe stayhome\\r\\r\\nsanitizer socialdistancing \\r\\r\\ncovid sd\\r\\r\\ncoronavirus \\r\\r\\nchinesevirus\\r\\r\\nasiegercares \\r\\r\\nwho asieger '\n",
      " 'p.s.a for those buying ?. the human body can survive upwards of  days with no food. water is the most important thing during these times; especially since you cant go more then  days without it before death. think wise and not in a panic induced state. stay safe. covid_'\n",
      " 'publix. walmart. thats how its spreading through our community. you may stay home all week, then go get a gallon of milk with a side of covid-why would you set limits of boats in the waters to stay ft apart, but not regulate the amount of people in a supermarket.coronavirus'\n",
      " 'our healthcare community is the backbone of the response to coronavirus.  is committed to supporting them, so certain garages in the  are now offering reduced prices for hospital staff. \\r\\r\\n\\r\\r\\n'\n",
      " 'lilliesleaf clapped as alan played for  nhs workers, delivery people, supermarket staff, carers and everyone out there taking care of the sick and keeping the country going. you have to squint to see the people at their houses but they are there. clapforkeyworkers coronavirus ']\n",
      "\n",
      "['so panic buying of soaps and toilet roll was bad enough, now the idiots are stockpiling alcohol ? whats wrong with people coronavirus stoppanicbuying covid_'\n",
      " 'i would place a large amount of money this is the guy buying of the toilet paper'\n",
      " '\"saudi arabia is bracing for an economic downturn as oil prices plummet due to the coronavirus pandemic\"'\n",
      " 'foodsecurity coronavirus covid .smooth flow of global trade will help secure food supply.monitoring food prices and markets.sharing relevant information transparently.supporting the vulnerable countries and populations'\n",
      " 'i d like to know who is stockpiling eggs cheese and ice cream and why i m used to going without as our local lidl has been running out of all kinds of stuff for years way before drives me potty going to the supermarket is like entering a lottery'\n",
      " 'whenever you touch any object or surface outside your abode washyourhands with soapandwater#staysafe stayhome#sanitizer socialdistancing covid sd#coronavirus chinesevirus#asiegercares who asieger'\n",
      " 'p.s.a for those buying ?. the human body can survive upwards of days with no food. water is the most important thing during these times; especially since you can not go more then days without it before death. think wise and not in a panic induced state. stay safe. covid_'\n",
      " 'publix. walmart. thats how its spreading through our community. you may stay home all week, then go get a gallon of milk with a side of covid-why would you set limits of boats in the waters to stay featuring apart, but not regulate the amount of people in a supermarket.coronavirus'\n",
      " 'our healthcare community is the backbone of the response to coronavirus. is committed to supporting them, so certain garages in the are now offering reduced prices for hospital staff.'\n",
      " 'lilliesleaf clapped as alan played for national health service workers, delivery people, supermarket staff, carers and everyone out there taking care of the sick and keeping the country going. you have to squint to see the people at their houses but they are there. clapforkeyworkers coronavirus']\n"
     ]
    }
   ],
   "source": [
    "after_cleaner = train_raw_data['Text'].apply(text_cleaner)\n",
    "after_cleaner2 = train_raw_data['Text'].apply(text_cleaner2)\n",
    "\n",
    "print(train_raw_data['Text'].sample(10, random_state=42).values)\n",
    "print()\n",
    "print(after_cleaner.sample(10, random_state=42).values)\n",
    "print()\n",
    "print(after_cleaner2.sample(10, random_state=42).values)"
   ]
  },
  {
   "cell_type": "markdown",
   "metadata": {
    "id": "7IxwD7jcUZeG"
   },
   "source": [
    "Apply the chhosen data cleaner:"
   ]
  },
  {
   "cell_type": "code",
   "execution_count": 20,
   "metadata": {
    "colab": {
     "base_uri": "https://localhost:8080/"
    },
    "id": "UYTDnZvKSFoF",
    "outputId": "c2811277-262a-45a2-ab28-e9739e99bc5f"
   },
   "outputs": [
    {
     "name": "stdout",
     "output_type": "stream",
     "text": [
      "['so panic buying of soaps and toilet roll was bad enough, now the idiots are stockpiling alcohol ? whats wrong with people coronavirus stoppanicbuying covid_'\n",
      " 'i would place a large amount of money this is the guy buying  of the toilet paper'\n",
      " '\"saudi arabia is bracing for an economic downturn as oil prices plummet due to the coronavirus pandemic\" '\n",
      " 'foodsecurity coronavirus covid \\r\\r\\n.smooth flow of global trade will help secure food supply\\r\\r\\n.monitoring food prices and markets\\r\\r\\n.sharing relevant information transparently\\r\\r\\n.supporting the vulnerable countries and populations '\n",
      " 'i d like to know who is stockpiling eggs cheese and ice cream and why i m used to going without as our local lidl has been running out of all kinds of stuff for years way before drives me potty going to the supermarket is like entering a lottery'\n",
      " 'whenever you touch any object or surface outside your abode washyourhands with soapandwater\\r\\r\\n\\r\\r\\nstaysafe stayhome\\r\\r\\nsanitizer socialdistancing \\r\\r\\ncovid sd\\r\\r\\ncoronavirus \\r\\r\\nchinesevirus\\r\\r\\nasiegercares \\r\\r\\nwho asieger '\n",
      " 'p.s.a for those buying ?. the human body can survive upwards of  days with no food. water is the most important thing during these times; especially since you cant go more then  days without it before death. think wise and not in a panic induced state. stay safe. covid_'\n",
      " 'publix. walmart. thats how its spreading through our community. you may stay home all week, then go get a gallon of milk with a side of covid-why would you set limits of boats in the waters to stay ft apart, but not regulate the amount of people in a supermarket.coronavirus'\n",
      " 'our healthcare community is the backbone of the response to coronavirus.  is committed to supporting them, so certain garages in the  are now offering reduced prices for hospital staff. \\r\\r\\n\\r\\r\\n'\n",
      " 'lilliesleaf clapped as alan played for  nhs workers, delivery people, supermarket staff, carers and everyone out there taking care of the sick and keeping the country going. you have to squint to see the people at their houses but they are there. clapforkeyworkers coronavirus ']\n"
     ]
    }
   ],
   "source": [
    "train_raw_data['Text'] = train_raw_data['Text'].apply(text_cleaner)\n",
    "subm_raw_data['Text'] = subm_raw_data['Text'].apply(text_cleaner)\n",
    "print(train_raw_data['Text'].sample(10, random_state=42).values)"
   ]
  },
  {
   "cell_type": "markdown",
   "metadata": {
    "id": "Ebzk5wBB9LrY",
    "jp-MarkdownHeadingCollapsed": true,
    "tags": []
   },
   "source": [
    "# Model 1: LSTM"
   ]
  },
  {
   "cell_type": "code",
   "execution_count": 21,
   "metadata": {
    "id": "Wh3nM7KXVLzI"
   },
   "outputs": [],
   "source": [
    "# PARAMETERS\n",
    "\n",
    "# for data_loader\n",
    "MAX_WORDS  = 50\n",
    "BATCH_SIZE = 1024\n",
    "\n",
    "# for model\n",
    "EMBED_LEN    = 50\n",
    "HIDDEN_DIM   = 75\n",
    "N_LAYERS     = 3\n",
    "TRAIN_ON_GPU = torch.cuda.is_available()\n",
    "EPOCHS       = 20\n",
    "LR           = 1e-2\n",
    "\n",
    "# for saving checkpoints\n",
    "PATH = Path('checkpoints_lstm')\n",
    "PATH.mkdir(exist_ok=True)"
   ]
  },
  {
   "cell_type": "markdown",
   "metadata": {
    "id": "7tWDMRnGjanh",
    "jp-MarkdownHeadingCollapsed": true,
    "tags": []
   },
   "source": [
    "### Tokenization"
   ]
  },
  {
   "cell_type": "code",
   "execution_count": 22,
   "metadata": {
    "id": "88kvuR7RjZpC"
   },
   "outputs": [],
   "source": [
    "tokenizer = get_tokenizer('basic_english')\n",
    "\n",
    "def build_vocabulary(datasets):\n",
    "  for dataset in datasets:\n",
    "    for text in dataset['Text']:\n",
    "      yield tokenizer(text)\n",
    "\n",
    "vocab = build_vocab_from_iterator(build_vocabulary([train_raw_data, subm_raw_data]), specials=['<UNK>'])\n",
    "vocab.set_default_index(vocab['<UNK>'])"
   ]
  },
  {
   "cell_type": "code",
   "execution_count": 23,
   "metadata": {
    "colab": {
     "base_uri": "https://localhost:8080/"
    },
    "id": "OrnCeVg1s-8S",
    "outputId": "0a73452b-d94a-4734-894e-778905bf76b1"
   },
   "outputs": [
    {
     "name": "stdout",
     "output_type": "stream",
     "text": [
      "Vocabulary length: 50653\n"
     ]
    }
   ],
   "source": [
    "print(f'Vocabulary length: {vocab.__len__()}')"
   ]
  },
  {
   "cell_type": "markdown",
   "metadata": {
    "id": "ThzzFC5jXcAj",
    "jp-MarkdownHeadingCollapsed": true,
    "tags": []
   },
   "source": [
    "### Splitting of training data"
   ]
  },
  {
   "cell_type": "markdown",
   "metadata": {
    "id": "dZenBWDaYCyG"
   },
   "source": [
    "We need to split our train_raw_data by train, validation and test samples in the proportions of 80:10:10.\n",
    "\n",
    "However, our data contain texts for 5 classes, so it is necessary to keep stratification after their splitting."
   ]
  },
  {
   "cell_type": "code",
   "execution_count": 24,
   "metadata": {
    "id": "S7oQ4XouXB2O"
   },
   "outputs": [],
   "source": [
    "# first, we will split data by two samples: train and test in the proportion of 80:20\n",
    "train_data, test_data = train_test_split(train_raw_data, test_size=0.2, stratify=train_raw_data['Sentiment'], random_state=42)\n",
    "# then, we will split test data by two samples: validation and test in the proportion of 50:50 \n",
    "val_data, test_data = train_test_split(test_data, test_size=0.5, stratify=test_data['Sentiment'], random_state=42)"
   ]
  },
  {
   "cell_type": "markdown",
   "metadata": {
    "id": "I8GaEeMceLD8"
   },
   "source": [
    "Check the stratification:"
   ]
  },
  {
   "cell_type": "code",
   "execution_count": 25,
   "metadata": {
    "colab": {
     "base_uri": "https://localhost:8080/"
    },
    "id": "qqZHawm1cWVX",
    "outputId": "d3b8a0b2-fb94-4860-deff-04bd74693984"
   },
   "outputs": [
    {
     "data": {
      "text/plain": [
       "4    0.277536\n",
       "2    0.240967\n",
       "3    0.187365\n",
       "1    0.160952\n",
       "0    0.133179\n",
       "Name: Sentiment, dtype: float64"
      ]
     },
     "execution_count": 25,
     "metadata": {},
     "output_type": "execute_result"
    }
   ],
   "source": [
    "train_raw_data['Sentiment'].value_counts(normalize=True)"
   ]
  },
  {
   "cell_type": "code",
   "execution_count": 26,
   "metadata": {
    "colab": {
     "base_uri": "https://localhost:8080/"
    },
    "id": "zyY-tnNOb7Op",
    "outputId": "ec031d49-5b5a-4453-e5cb-f682b44aa16f"
   },
   "outputs": [
    {
     "data": {
      "text/plain": [
       "4    0.277518\n",
       "2    0.240979\n",
       "3    0.187371\n",
       "1    0.160946\n",
       "0    0.133186\n",
       "Name: Sentiment, dtype: float64"
      ]
     },
     "execution_count": 26,
     "metadata": {},
     "output_type": "execute_result"
    }
   ],
   "source": [
    "train_data['Sentiment'].value_counts(normalize=True)"
   ]
  },
  {
   "cell_type": "code",
   "execution_count": 27,
   "metadata": {
    "colab": {
     "base_uri": "https://localhost:8080/"
    },
    "id": "sH7m85vfcD5T",
    "outputId": "cb955216-0e4c-4a5b-acb0-f0ad5f17ab96"
   },
   "outputs": [
    {
     "data": {
      "text/plain": [
       "4    0.277521\n",
       "2    0.240826\n",
       "3    0.187363\n",
       "1    0.161118\n",
       "0    0.133171\n",
       "Name: Sentiment, dtype: float64"
      ]
     },
     "execution_count": 27,
     "metadata": {},
     "output_type": "execute_result"
    }
   ],
   "source": [
    "val_data['Sentiment'].value_counts(normalize=True)"
   ]
  },
  {
   "cell_type": "code",
   "execution_count": 28,
   "metadata": {
    "colab": {
     "base_uri": "https://localhost:8080/"
    },
    "id": "JbB208eCcuG4",
    "outputId": "b503167d-2fbf-4761-c058-01a8cbc62e4c"
   },
   "outputs": [
    {
     "data": {
      "text/plain": [
       "4    0.277697\n",
       "2    0.241011\n",
       "3    0.187318\n",
       "1    0.160836\n",
       "0    0.133139\n",
       "Name: Sentiment, dtype: float64"
      ]
     },
     "execution_count": 28,
     "metadata": {},
     "output_type": "execute_result"
    }
   ],
   "source": [
    "test_data['Sentiment'].value_counts(normalize=True)"
   ]
  },
  {
   "cell_type": "code",
   "execution_count": 29,
   "metadata": {
    "colab": {
     "base_uri": "https://localhost:8080/"
    },
    "id": "4vxoU9e5cvtM",
    "outputId": "6813dd1d-510e-4882-9b02-a9fe3025697d"
   },
   "outputs": [
    {
     "name": "stdout",
     "output_type": "stream",
     "text": [
      "Shape of the train_data: (32924, 2)\n",
      "Shape of the val_data: (4115, 2)\n",
      "Shape of the test_data: (4116, 2)\n",
      "Shape of the finel_test_raw_data: (3798, 1)\n"
     ]
    }
   ],
   "source": [
    "print(f'Shape of the train_data: {train_data.shape}')\n",
    "print(f'Shape of the val_data: {val_data.shape}')\n",
    "print(f'Shape of the test_data: {test_data.shape}')\n",
    "print(f'Shape of the finel_test_raw_data: {subm_raw_data.shape}')"
   ]
  },
  {
   "cell_type": "markdown",
   "metadata": {
    "id": "8uhNWeZl-ZlJ",
    "jp-MarkdownHeadingCollapsed": true,
    "tags": []
   },
   "source": [
    "### Creating datasets"
   ]
  },
  {
   "cell_type": "code",
   "execution_count": 30,
   "metadata": {
    "id": "u4m3ETqc9IX7"
   },
   "outputs": [],
   "source": [
    "train_dataset, val_dataset, test_dataset, subm_dataset = to_map_style_dataset(train_data.values), \\\n",
    "                                                               to_map_style_dataset(val_data.values), \\\n",
    "                                                               to_map_style_dataset(test_data.values), \\\n",
    "                                                               to_map_style_dataset(subm_raw_data.values)\n",
    "\n",
    "def vectorize_batch(batch):\n",
    "  X, Y = list(zip(*batch))\n",
    "  X = [vocab(tokenizer(text)) for text in X] # tokenize and map tokens to indexes\n",
    "  X = [tokens+([0]*(MAX_WORDS - len(tokens))) if len(tokens) < MAX_WORDS else tokens[:MAX_WORDS] for tokens in X]\n",
    "  return torch.tensor(X, dtype=torch.int32, device=device), torch.tensor(Y, device=device)\n",
    "\n",
    "def vectorize_batch_for_submission(batch):\n",
    "  X = [vocab(tokenizer(text[0])) for text in batch] # tokenize and map tokens to indexes\n",
    "  X = [tokens+([0]*(MAX_WORDS - len(tokens))) if len(tokens) < MAX_WORDS else tokens[:MAX_WORDS] for tokens in X]\n",
    "  return torch.tensor(X, dtype=torch.int32, device=device)\n",
    "\n",
    "train_loader = DataLoader(train_dataset, batch_size=BATCH_SIZE, collate_fn=vectorize_batch, shuffle=True)\n",
    "val_loader   = DataLoader(val_dataset,   batch_size=BATCH_SIZE, collate_fn=vectorize_batch, shuffle=True)\n",
    "test_loader  = DataLoader(test_dataset , batch_size=BATCH_SIZE, collate_fn=vectorize_batch, shuffle=True)\n",
    "subm_loader  = DataLoader(subm_dataset , batch_size=BATCH_SIZE, collate_fn=vectorize_batch_for_submission)"
   ]
  },
  {
   "cell_type": "markdown",
   "metadata": {
    "id": "uFtyhwbv-k8z",
    "tags": []
   },
   "source": [
    "### Building model"
   ]
  },
  {
   "cell_type": "markdown",
   "metadata": {
    "id": "XiSOLVDj-oh-"
   },
   "source": [
    "We are building a variation of the RNN: LSTM model.\n",
    "\n",
    "After many attempts of training, our model will be multilayerd (the results are better only with regularization in the optimizer), bidirectional, with dropout and initialization of the hidden state using a Xavier's uniform distribution. LogSoftmax will be used as the activation function at the last level.\n",
    "\n",
    "Adam with regularization will be used as an optimizer (the results without regularization were worse, and overfitting begins much early).\n",
    "\n",
    "![image.png](data:image/png;base64,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)"
   ]
  },
  {
   "cell_type": "code",
   "execution_count": 31,
   "metadata": {
    "id": "nNxy1RfY-dMJ"
   },
   "outputs": [],
   "source": [
    "target_classes = train_raw_data['Sentiment'].unique()\n",
    "\n",
    "\n",
    "class LSTMClassifier(nn.Module):\n",
    "  def __init__(self):\n",
    "    super(LSTMClassifier, self).__init__()\n",
    "    self.emb_layer = nn.Embedding(num_embeddings=len(vocab), embedding_dim=EMBED_LEN)\n",
    "    self.lstm = nn.LSTM(input_size=EMBED_LEN, hidden_size=HIDDEN_DIM, num_layers=N_LAYERS, dropout=0.5, batch_first=True, bidirectional=True)\n",
    "    self.fc = nn.Linear(in_features=HIDDEN_DIM*2, out_features=len(target_classes))\n",
    "    self.softmax = nn.LogSoftmax(dim=1)\n",
    "  \n",
    "  def init_hidden(self, batch_size):\n",
    "    '''Initializes hidden state'''\n",
    "    # Create two new tensors with sizes n_layers x batch_size x n_hidden,\n",
    "    # initialized to zero, for hidden state and cell state of LSTM\n",
    "    weight = next(self.parameters()).data\n",
    "    \n",
    "    if (TRAIN_ON_GPU):\n",
    "      # 2*NUM_LAYERS is num_directions*num_layers (2 if bidirectional, else 1)\n",
    "      hidden = (xavier_uniform_(weight.new(2*N_LAYERS, batch_size, HIDDEN_DIM)).cuda(),\n",
    "                xavier_uniform_(weight.new(2*N_LAYERS, batch_size, HIDDEN_DIM)).cuda())\n",
    "    else:\n",
    "      # 2*NUM_LAYERS is num_directions*num_layers (2 if bidirectional, else 1)\n",
    "      hidden = (xavier_uniform_(weight.new(2*N_LAYERS, batch_size, HIDDEN_DIM)),\n",
    "                xavier_uniform_(weight.new(2*N_LAYERS, batch_size, HIDDEN_DIM)))\n",
    "    return hidden\n",
    "\n",
    "  def forward(self, X_batch, hidden):\n",
    "    emb = self.emb_layer(X_batch)\n",
    "    output, hidden = self.lstm(emb, hidden)\n",
    "    output = self.fc(output[:, -1])\n",
    "    output = self.softmax(output)\n",
    "    return output, hidden"
   ]
  },
  {
   "cell_type": "code",
   "execution_count": 32,
   "metadata": {
    "id": "WceY0n36-dIv",
    "outputId": "e2ad4d5d-9182-412f-97c0-0c9a15ceb4a6"
   },
   "outputs": [
    {
     "data": {
      "text/plain": [
       "LSTMClassifier(\n",
       "  (emb_layer): Embedding(50653, 50)\n",
       "  (lstm): LSTM(50, 75, num_layers=3, batch_first=True, dropout=0.5, bidirectional=True)\n",
       "  (fc): Linear(in_features=150, out_features=5, bias=True)\n",
       "  (softmax): LogSoftmax(dim=1)\n",
       ")"
      ]
     },
     "execution_count": 32,
     "metadata": {},
     "output_type": "execute_result"
    }
   ],
   "source": [
    "lstm_classifier = LSTMClassifier()\n",
    "\n",
    "lstm_classifier"
   ]
  },
  {
   "cell_type": "code",
   "execution_count": 33,
   "metadata": {
    "id": "BGJmlq6Y-c9k",
    "outputId": "013a2722-2e4d-42a1-bd3a-35515c8342b3"
   },
   "outputs": [
    {
     "name": "stdout",
     "output_type": "stream",
     "text": [
      "Layer: Embedding(50653, 50)\n",
      "Parameters: \n",
      "torch.Size([50653, 50])\n",
      "\n",
      "Layer: LSTM(50, 75, num_layers=3, batch_first=True, dropout=0.5, bidirectional=True)\n",
      "Parameters: \n",
      "torch.Size([300, 50])\n",
      "torch.Size([300, 75])\n",
      "torch.Size([300])\n",
      "torch.Size([300])\n",
      "torch.Size([300, 50])\n",
      "torch.Size([300, 75])\n",
      "torch.Size([300])\n",
      "torch.Size([300])\n",
      "torch.Size([300, 150])\n",
      "torch.Size([300, 75])\n",
      "torch.Size([300])\n",
      "torch.Size([300])\n",
      "torch.Size([300, 150])\n",
      "torch.Size([300, 75])\n",
      "torch.Size([300])\n",
      "torch.Size([300])\n",
      "torch.Size([300, 150])\n",
      "torch.Size([300, 75])\n",
      "torch.Size([300])\n",
      "torch.Size([300])\n",
      "torch.Size([300, 150])\n",
      "torch.Size([300, 75])\n",
      "torch.Size([300])\n",
      "torch.Size([300])\n",
      "\n",
      "Layer: Linear(in_features=150, out_features=5, bias=True)\n",
      "Parameters: \n",
      "torch.Size([5, 150])\n",
      "torch.Size([5])\n",
      "\n",
      "Layer: LogSoftmax(dim=1)\n",
      "Parameters: \n",
      "\n"
     ]
    }
   ],
   "source": [
    "for layer in lstm_classifier.children():\n",
    "  print(f'Layer: {layer}')\n",
    "  print('Parameters: ')\n",
    "  for param in layer.parameters():\n",
    "    print(param.shape)\n",
    "  print()"
   ]
  },
  {
   "cell_type": "markdown",
   "metadata": {
    "id": "baBviZ8d_Ap9",
    "jp-MarkdownHeadingCollapsed": true,
    "tags": []
   },
   "source": [
    "### Class for saving model and plots"
   ]
  },
  {
   "cell_type": "code",
   "execution_count": 34,
   "metadata": {
    "id": "-YYdq0Ww_BeY"
   },
   "outputs": [],
   "source": [
    "class SaveBestModel:\n",
    "    \"\"\"\n",
    "    Class to save the best model while training. If the current epoch's \n",
    "    validation loss is less than the previous least less, then save the\n",
    "    model state.\n",
    "    \"\"\"\n",
    "    def __init__(\n",
    "        self, best_valid_loss=float('inf')\n",
    "    ):\n",
    "        self.best_valid_loss = best_valid_loss\n",
    "        \n",
    "    def __call__(\n",
    "        self, current_valid_loss, \n",
    "        epoch, model, optimizer, criterion, path\n",
    "    ):\n",
    "        if current_valid_loss < self.best_valid_loss:\n",
    "            self.best_valid_loss = current_valid_loss\n",
    "            print(f\"\\nBest validation loss: {self.best_valid_loss}\")\n",
    "            print(f\"\\nSaving best model for epoch: {epoch}\\n\")\n",
    "            torch.save({\n",
    "                'epoch': epoch,\n",
    "                'model_state_dict': model.state_dict(),\n",
    "                'optimizer_state_dict': optimizer.state_dict(),\n",
    "                'loss': criterion,\n",
    "                }, os.path.join(PATH, 'best_model.pth'))\n",
    "            \n",
    "\n",
    "def save_model(epochs, model, optimizer, criterion, path):\n",
    "    \"\"\"\n",
    "    Function to save the trained model to disk.\n",
    "    \"\"\"\n",
    "    print(f\"Saving final model...\")\n",
    "    torch.save({\n",
    "                'epoch': epochs,\n",
    "                'model_state_dict': model.state_dict(),\n",
    "                'optimizer_state_dict': optimizer.state_dict(),\n",
    "                'loss': criterion,\n",
    "                }, os.path.join(PATH, 'final_model.pth'))\n",
    "    \n",
    "\n",
    "def save_plots(valid_acc, train_loss, valid_loss, path):\n",
    "    \"\"\"\n",
    "    Function to save the loss and accuracy plots to disk.\n",
    "    \"\"\"\n",
    "    # accuracy plots\n",
    "    plt.figure(figsize=(10, 7))\n",
    "    plt.plot(\n",
    "        valid_acc, color='blue', linestyle='-', \n",
    "        label='validataion accuracy'\n",
    "    )\n",
    "    plt.xlabel('Epochs')\n",
    "    plt.ylabel('Accuracy')\n",
    "    plt.legend()\n",
    "    plt.savefig(os.path.join(PATH, 'accuracy.png'))\n",
    "    \n",
    "    # loss plots\n",
    "    plt.figure(figsize=(10, 7))\n",
    "    plt.plot(\n",
    "        train_loss, color='orange', linestyle='-', \n",
    "        label='train loss'\n",
    "    )\n",
    "    plt.plot(\n",
    "        valid_loss, color='red', linestyle='-', \n",
    "        label='validataion loss'\n",
    "    )\n",
    "    plt.xlabel('Epochs')\n",
    "    plt.ylabel('Loss')\n",
    "    plt.legend()\n",
    "    plt.savefig(os.path.join(PATH, 'loss.png'))\n",
    "\n",
    "\n",
    "save_best_model = SaveBestModel()"
   ]
  },
  {
   "cell_type": "markdown",
   "metadata": {
    "id": "oD69aZ5p_Pqq",
    "jp-MarkdownHeadingCollapsed": true,
    "tags": []
   },
   "source": [
    "### Training loop and calculation validation loss and accuracy\n"
   ]
  },
  {
   "cell_type": "code",
   "execution_count": 35,
   "metadata": {
    "id": "CBvtEtUO_QmN"
   },
   "outputs": [],
   "source": [
    "def CalcValLossAndAccuracy(model, loss_fn, val_loader):\n",
    "  with torch.no_grad():\n",
    "    Y_shuffled, Y_preds, losses = [], [], []\n",
    "    for X, Y in val_loader:\n",
    "\n",
    "      # initialise hidden state\n",
    "      h = model.init_hidden(X.shape[0])\n",
    "\n",
    "      preds, h = model(X, h)\n",
    "      loss = loss_fn(preds, Y)\n",
    "      losses.append(loss.item())\n",
    "\n",
    "      Y_shuffled.append(Y)\n",
    "      Y_preds.append(preds.argmax(dim=-1))\n",
    "\n",
    "    Y_shuffled = torch.cat(Y_shuffled)\n",
    "    Y_preds = torch.cat(Y_preds)\n",
    "\n",
    "    valid_loss = torch.tensor(losses).cpu().mean()\n",
    "    valid_acc = accuracy_score(Y_shuffled.cpu().detach().numpy(), Y_preds.cpu().detach().numpy())\n",
    "\n",
    "    print(f'Valid Loss: {valid_loss:.3f}')\n",
    "    print(f'Valid Acc : {valid_acc:.3f}')\n",
    "\n",
    "    return valid_loss, valid_acc\n",
    "\n",
    "\n",
    "def TrainModel(model, loss_fn, optimizer, train_loader, val_loader, device, epochs=10, path=PATH):\n",
    "  train_losses, val_losses, val_accs = [], [], []\n",
    "  for i in range(1, epochs+1):\n",
    "    losses = []\n",
    "    for X, Y in tqdm(train_loader):\n",
    "      X.to(device)\n",
    "      Y.to(device)\n",
    "      model.to(device)\n",
    "\n",
    "      # initialise hidden state\n",
    "      h = model.init_hidden(X.shape[0])\n",
    "\n",
    "      Y_preds, h = model(X, h)\n",
    "\n",
    "      loss = loss_fn(Y_preds, Y)\n",
    "      losses.append(loss.item())\n",
    "\n",
    "      optimizer.zero_grad()\n",
    "\n",
    "      loss.backward()\n",
    "      optimizer.step()\n",
    "\n",
    "    train_loss = torch.tensor(losses).mean()\n",
    "    print(f'Train Loss: {train_loss:.3f}')\n",
    "    valid_loss, valid_acc = CalcValLossAndAccuracy(model, loss_fn, val_loader)\n",
    "\n",
    "    # save the best model\n",
    "    save_best_model(valid_loss, i, model, optimizer, loss_fn, path)\n",
    "\n",
    "    # append losses and accuracy to lists\n",
    "    train_losses.append(train_loss)\n",
    "    val_losses.append(valid_loss)\n",
    "    val_accs.append(valid_acc)\n",
    "\n",
    "  # save the trained model weights for a final time\n",
    "  save_model(i, model, optimizer, loss_fn, path)\n",
    "  # save the loss and accuracy plots\n",
    "  save_plots(val_accs, train_losses, val_losses, path)"
   ]
  },
  {
   "cell_type": "markdown",
   "metadata": {
    "id": "CuDf3DTF_vjD",
    "jp-MarkdownHeadingCollapsed": true,
    "tags": []
   },
   "source": [
    "### Launching the model\n",
    "\n"
   ]
  },
  {
   "cell_type": "code",
   "execution_count": 36,
   "metadata": {
    "id": "5T6UqZhy_w0p",
    "outputId": "9fea50ca-7fd3-495c-d6c9-e0369a2879c2"
   },
   "outputs": [
    {
     "data": {
      "application/vnd.jupyter.widget-view+json": {
       "model_id": "28800c65d9b642b7a118acdc011a745a",
       "version_major": 2,
       "version_minor": 0
      },
      "text/plain": [
       "  0%|          | 0/33 [00:00<?, ?it/s]"
      ]
     },
     "metadata": {},
     "output_type": "display_data"
    },
    {
     "name": "stdout",
     "output_type": "stream",
     "text": [
      "Train Loss: 1.557\n",
      "Valid Loss: 1.561\n",
      "Valid Acc : 0.301\n",
      "\n",
      "Best validation loss: 1.5608524084091187\n",
      "\n",
      "Saving best model for epoch: 1\n",
      "\n"
     ]
    },
    {
     "data": {
      "application/vnd.jupyter.widget-view+json": {
       "model_id": "30fdfcca5f3f4d29b4aa722af11ffc3a",
       "version_major": 2,
       "version_minor": 0
      },
      "text/plain": [
       "  0%|          | 0/33 [00:00<?, ?it/s]"
      ]
     },
     "metadata": {},
     "output_type": "display_data"
    },
    {
     "name": "stdout",
     "output_type": "stream",
     "text": [
      "Train Loss: 1.516\n",
      "Valid Loss: 1.509\n",
      "Valid Acc : 0.316\n",
      "\n",
      "Best validation loss: 1.509476900100708\n",
      "\n",
      "Saving best model for epoch: 2\n",
      "\n"
     ]
    },
    {
     "data": {
      "application/vnd.jupyter.widget-view+json": {
       "model_id": "d218c968662d4b20899ea362f6aa35db",
       "version_major": 2,
       "version_minor": 0
      },
      "text/plain": [
       "  0%|          | 0/33 [00:00<?, ?it/s]"
      ]
     },
     "metadata": {},
     "output_type": "display_data"
    },
    {
     "name": "stdout",
     "output_type": "stream",
     "text": [
      "Train Loss: 1.470\n",
      "Valid Loss: 1.411\n",
      "Valid Acc : 0.362\n",
      "\n",
      "Best validation loss: 1.4106650352478027\n",
      "\n",
      "Saving best model for epoch: 3\n",
      "\n"
     ]
    },
    {
     "data": {
      "application/vnd.jupyter.widget-view+json": {
       "model_id": "cf4584241cba403cb898acf518bfc6df",
       "version_major": 2,
       "version_minor": 0
      },
      "text/plain": [
       "  0%|          | 0/33 [00:00<?, ?it/s]"
      ]
     },
     "metadata": {},
     "output_type": "display_data"
    },
    {
     "name": "stdout",
     "output_type": "stream",
     "text": [
      "Train Loss: 1.321\n",
      "Valid Loss: 1.301\n",
      "Valid Acc : 0.488\n",
      "\n",
      "Best validation loss: 1.3010938167572021\n",
      "\n",
      "Saving best model for epoch: 4\n",
      "\n"
     ]
    },
    {
     "data": {
      "application/vnd.jupyter.widget-view+json": {
       "model_id": "8ff1595150df4fb6a43218d19ca4226c",
       "version_major": 2,
       "version_minor": 0
      },
      "text/plain": [
       "  0%|          | 0/33 [00:00<?, ?it/s]"
      ]
     },
     "metadata": {},
     "output_type": "display_data"
    },
    {
     "name": "stdout",
     "output_type": "stream",
     "text": [
      "Train Loss: 1.083\n",
      "Valid Loss: 1.018\n",
      "Valid Acc : 0.609\n",
      "\n",
      "Best validation loss: 1.0181021690368652\n",
      "\n",
      "Saving best model for epoch: 5\n",
      "\n"
     ]
    },
    {
     "data": {
      "application/vnd.jupyter.widget-view+json": {
       "model_id": "1311535c7f7d47c9be807b0a15b457e9",
       "version_major": 2,
       "version_minor": 0
      },
      "text/plain": [
       "  0%|          | 0/33 [00:00<?, ?it/s]"
      ]
     },
     "metadata": {},
     "output_type": "display_data"
    },
    {
     "name": "stdout",
     "output_type": "stream",
     "text": [
      "Train Loss: 0.880\n",
      "Valid Loss: 0.841\n",
      "Valid Acc : 0.675\n",
      "\n",
      "Best validation loss: 0.8411420583724976\n",
      "\n",
      "Saving best model for epoch: 6\n",
      "\n"
     ]
    },
    {
     "data": {
      "application/vnd.jupyter.widget-view+json": {
       "model_id": "e60bd8187d7f4e1c9738f714d3ac0bd4",
       "version_major": 2,
       "version_minor": 0
      },
      "text/plain": [
       "  0%|          | 0/33 [00:00<?, ?it/s]"
      ]
     },
     "metadata": {},
     "output_type": "display_data"
    },
    {
     "name": "stdout",
     "output_type": "stream",
     "text": [
      "Train Loss: 0.723\n",
      "Valid Loss: 0.873\n",
      "Valid Acc : 0.686\n"
     ]
    },
    {
     "data": {
      "application/vnd.jupyter.widget-view+json": {
       "model_id": "b7add94206b14a1bb277e00043073df5",
       "version_major": 2,
       "version_minor": 0
      },
      "text/plain": [
       "  0%|          | 0/33 [00:00<?, ?it/s]"
      ]
     },
     "metadata": {},
     "output_type": "display_data"
    },
    {
     "name": "stdout",
     "output_type": "stream",
     "text": [
      "Train Loss: 0.628\n",
      "Valid Loss: 0.666\n",
      "Valid Acc : 0.737\n",
      "\n",
      "Best validation loss: 0.6664022207260132\n",
      "\n",
      "Saving best model for epoch: 8\n",
      "\n"
     ]
    },
    {
     "data": {
      "application/vnd.jupyter.widget-view+json": {
       "model_id": "7b855cbe72c4494a86008cafcaae2543",
       "version_major": 2,
       "version_minor": 0
      },
      "text/plain": [
       "  0%|          | 0/33 [00:00<?, ?it/s]"
      ]
     },
     "metadata": {},
     "output_type": "display_data"
    },
    {
     "name": "stdout",
     "output_type": "stream",
     "text": [
      "Train Loss: 0.527\n",
      "Valid Loss: 0.729\n",
      "Valid Acc : 0.757\n"
     ]
    },
    {
     "data": {
      "application/vnd.jupyter.widget-view+json": {
       "model_id": "780b3fe818f44339ae4390d5ea467458",
       "version_major": 2,
       "version_minor": 0
      },
      "text/plain": [
       "  0%|          | 0/33 [00:00<?, ?it/s]"
      ]
     },
     "metadata": {},
     "output_type": "display_data"
    },
    {
     "name": "stdout",
     "output_type": "stream",
     "text": [
      "Train Loss: 0.449\n",
      "Valid Loss: 0.591\n",
      "Valid Acc : 0.777\n",
      "\n",
      "Best validation loss: 0.5907188653945923\n",
      "\n",
      "Saving best model for epoch: 10\n",
      "\n"
     ]
    },
    {
     "data": {
      "application/vnd.jupyter.widget-view+json": {
       "model_id": "b5e4bcb5c4e84e1595d21f23be650069",
       "version_major": 2,
       "version_minor": 0
      },
      "text/plain": [
       "  0%|          | 0/33 [00:00<?, ?it/s]"
      ]
     },
     "metadata": {},
     "output_type": "display_data"
    },
    {
     "name": "stdout",
     "output_type": "stream",
     "text": [
      "Train Loss: 0.399\n",
      "Valid Loss: 0.750\n",
      "Valid Acc : 0.773\n"
     ]
    },
    {
     "data": {
      "application/vnd.jupyter.widget-view+json": {
       "model_id": "54bbbcaae3a5400d82df5a260fc50721",
       "version_major": 2,
       "version_minor": 0
      },
      "text/plain": [
       "  0%|          | 0/33 [00:00<?, ?it/s]"
      ]
     },
     "metadata": {},
     "output_type": "display_data"
    },
    {
     "name": "stdout",
     "output_type": "stream",
     "text": [
      "Train Loss: 0.370\n",
      "Valid Loss: 0.681\n",
      "Valid Acc : 0.787\n"
     ]
    },
    {
     "data": {
      "application/vnd.jupyter.widget-view+json": {
       "model_id": "cea2108dc7db424696111455989172bd",
       "version_major": 2,
       "version_minor": 0
      },
      "text/plain": [
       "  0%|          | 0/33 [00:00<?, ?it/s]"
      ]
     },
     "metadata": {},
     "output_type": "display_data"
    },
    {
     "name": "stdout",
     "output_type": "stream",
     "text": [
      "Train Loss: 0.314\n",
      "Valid Loss: 0.724\n",
      "Valid Acc : 0.794\n"
     ]
    },
    {
     "data": {
      "application/vnd.jupyter.widget-view+json": {
       "model_id": "f328db233f484a61922c873152dc0c02",
       "version_major": 2,
       "version_minor": 0
      },
      "text/plain": [
       "  0%|          | 0/33 [00:00<?, ?it/s]"
      ]
     },
     "metadata": {},
     "output_type": "display_data"
    },
    {
     "name": "stdout",
     "output_type": "stream",
     "text": [
      "Train Loss: 0.292\n",
      "Valid Loss: 0.610\n",
      "Valid Acc : 0.791\n"
     ]
    },
    {
     "data": {
      "application/vnd.jupyter.widget-view+json": {
       "model_id": "f44bfcbd695b45c1aeef71969c85e3ce",
       "version_major": 2,
       "version_minor": 0
      },
      "text/plain": [
       "  0%|          | 0/33 [00:00<?, ?it/s]"
      ]
     },
     "metadata": {},
     "output_type": "display_data"
    },
    {
     "name": "stdout",
     "output_type": "stream",
     "text": [
      "Train Loss: 0.272\n",
      "Valid Loss: 0.732\n",
      "Valid Acc : 0.793\n"
     ]
    },
    {
     "data": {
      "application/vnd.jupyter.widget-view+json": {
       "model_id": "518fbbd123714667ad2c0daeaf2fa084",
       "version_major": 2,
       "version_minor": 0
      },
      "text/plain": [
       "  0%|          | 0/33 [00:00<?, ?it/s]"
      ]
     },
     "metadata": {},
     "output_type": "display_data"
    },
    {
     "name": "stdout",
     "output_type": "stream",
     "text": [
      "Train Loss: 0.238\n",
      "Valid Loss: 0.788\n",
      "Valid Acc : 0.787\n"
     ]
    },
    {
     "data": {
      "application/vnd.jupyter.widget-view+json": {
       "model_id": "14c7d5f5093b4006965745484b7b56c7",
       "version_major": 2,
       "version_minor": 0
      },
      "text/plain": [
       "  0%|          | 0/33 [00:00<?, ?it/s]"
      ]
     },
     "metadata": {},
     "output_type": "display_data"
    },
    {
     "name": "stdout",
     "output_type": "stream",
     "text": [
      "Train Loss: 0.231\n",
      "Valid Loss: 0.839\n",
      "Valid Acc : 0.786\n"
     ]
    },
    {
     "data": {
      "application/vnd.jupyter.widget-view+json": {
       "model_id": "ddc52427ddfd448e91a68f223c656651",
       "version_major": 2,
       "version_minor": 0
      },
      "text/plain": [
       "  0%|          | 0/33 [00:00<?, ?it/s]"
      ]
     },
     "metadata": {},
     "output_type": "display_data"
    },
    {
     "name": "stdout",
     "output_type": "stream",
     "text": [
      "Train Loss: 0.241\n",
      "Valid Loss: 0.708\n",
      "Valid Acc : 0.794\n"
     ]
    },
    {
     "data": {
      "application/vnd.jupyter.widget-view+json": {
       "model_id": "74a8ae95d5fa4eb1aa083e6792bb3f7b",
       "version_major": 2,
       "version_minor": 0
      },
      "text/plain": [
       "  0%|          | 0/33 [00:00<?, ?it/s]"
      ]
     },
     "metadata": {},
     "output_type": "display_data"
    },
    {
     "name": "stdout",
     "output_type": "stream",
     "text": [
      "Train Loss: 0.210\n",
      "Valid Loss: 0.814\n",
      "Valid Acc : 0.791\n"
     ]
    },
    {
     "data": {
      "application/vnd.jupyter.widget-view+json": {
       "model_id": "5ad94c4e43134d4f8ebdd4993f34f11b",
       "version_major": 2,
       "version_minor": 0
      },
      "text/plain": [
       "  0%|          | 0/33 [00:00<?, ?it/s]"
      ]
     },
     "metadata": {},
     "output_type": "display_data"
    },
    {
     "name": "stdout",
     "output_type": "stream",
     "text": [
      "Train Loss: 0.197\n",
      "Valid Loss: 0.744\n",
      "Valid Acc : 0.796\n",
      "Saving final model...\n"
     ]
    },
    {
     "data": {
      "image/png": "[encoded data removed]",
      "text/plain": [
       "<Figure size 1000x700 with 1 Axes>"
      ]
     },
     "metadata": {},
     "output_type": "display_data"
    },
    {
     "data": {
      "image/png": "[encoded data removed]",
      "text/plain": [
       "<Figure size 1000x700 with 1 Axes>"
      ]
     },
     "metadata": {},
     "output_type": "display_data"
    }
   ],
   "source": [
    "OPT     = Adam(lstm_classifier.parameters(), lr=LR, weight_decay=5e-5)\n",
    "LOSS_FN = nn.CrossEntropyLoss()\n",
    "MODEL   = lstm_classifier\n",
    "\n",
    "TrainModel(model=MODEL, loss_fn=LOSS_FN, optimizer=OPT, train_loader=train_loader, val_loader=val_loader, device=device, epochs=EPOCHS, path=PATH)"
   ]
  },
  {
   "cell_type": "markdown",
   "metadata": {
    "id": "nclSmfKi_9zE",
    "jp-MarkdownHeadingCollapsed": true,
    "tags": []
   },
   "source": [
    "### Loading the saved model"
   ]
  },
  {
   "cell_type": "code",
   "execution_count": 43,
   "metadata": {
    "id": "rdYivzAF_-tx",
    "outputId": "8ccad24f-4ff7-4606-e963-a79570d6cbd2"
   },
   "outputs": [
    {
     "data": {
      "text/plain": [
       "LSTMClassifier(\n",
       "  (emb_layer): Embedding(50653, 50)\n",
       "  (lstm): LSTM(50, 75, num_layers=3, batch_first=True, dropout=0.5, bidirectional=True)\n",
       "  (fc): Linear(in_features=150, out_features=5, bias=True)\n",
       "  (softmax): LogSoftmax(dim=1)\n",
       ")"
      ]
     },
     "execution_count": 43,
     "metadata": {},
     "output_type": "execute_result"
    }
   ],
   "source": [
    "checkpoint = torch.load(os.path.join(PATH, 'final_model.pth'))\n",
    "MODEL.load_state_dict(checkpoint['model_state_dict'])\n",
    "OPT.load_state_dict(checkpoint['optimizer_state_dict'])\n",
    "EPOCHS = checkpoint['epoch']\n",
    "LOSS_FN = checkpoint['loss']\n",
    "\n",
    "# if we need to continue training\n",
    "# MODEL.train()\n",
    "# if we need to inference\n",
    "MODEL.eval()"
   ]
  },
  {
   "cell_type": "markdown",
   "metadata": {
    "id": "eOIlXvXQAIK7",
    "tags": []
   },
   "source": [
    "### Test accuracy"
   ]
  },
  {
   "cell_type": "code",
   "execution_count": 44,
   "metadata": {
    "id": "wza4WpskAHYf",
    "outputId": "dfc6cbf6-ee86-4a49-ac65-ba6232e3d99d"
   },
   "outputs": [
    {
     "name": "stderr",
     "output_type": "stream",
     "text": [
      "C:\\Users\\Home\\AppData\\Local\\Temp\\ipykernel_4892\\167439953.py:17: UserWarning: To copy construct from a tensor, it is recommended to use sourceTensor.clone().detach() or sourceTensor.clone().detach().requires_grad_(True), rather than torch.tensor(sourceTensor).\n",
      "  Y_actual, Y_preds = torch.tensor(Y_actual).cpu(), torch.tensor(Y_preds).cpu()\n"
     ]
    }
   ],
   "source": [
    "def MakePredictions(model, loader, device):\n",
    "  Y_shuffled, Y_preds= [], []\n",
    "  for X, Y in loader:\n",
    "    X.to(device)\n",
    "    Y.to(device)\n",
    "    # initialize hidden state\n",
    "    h = model.init_hidden(X.shape[0])\n",
    "    preds, h = model(X, h)\n",
    "    Y_preds.append(preds)\n",
    "    Y_shuffled.append(Y)\n",
    "  gc.collect()\n",
    "  Y_preds, Y_shuffled = torch.cat(Y_preds), torch.cat(Y_shuffled)\n",
    "\n",
    "  return Y_shuffled.cpu().detach().numpy(), F.softmax(Y_preds, dim=-1).argmax(dim=-1)\n",
    "\n",
    "Y_actual, Y_preds = MakePredictions(lstm_classifier, test_loader, device)\n",
    "Y_actual, Y_preds = torch.tensor(Y_actual).cpu(), torch.tensor(Y_preds).cpu()"
   ]
  },
  {
   "cell_type": "code",
   "execution_count": 45,
   "metadata": {
    "id": "-n4bNQKpAOPp",
    "outputId": "f68c2e3e-945c-402e-b006-18df5c7c0e75"
   },
   "outputs": [
    {
     "name": "stdout",
     "output_type": "stream",
     "text": [
      "Test Accuracy: 0.8104956268221575\n",
      "\n",
      "Classification report: \n",
      "                    precision    recall  f1-score   support\n",
      "\n",
      "           Neutral       0.88      0.74      0.80       548\n",
      "          Positive       0.93      0.76      0.84       662\n",
      "Extremely Negative       0.72      0.84      0.78       992\n",
      "          Negative       0.89      0.82      0.85       771\n",
      "Extremely Positive       0.77      0.84      0.81      1143\n",
      "\n",
      "          accuracy                           0.81      4116\n",
      "         macro avg       0.84      0.80      0.81      4116\n",
      "      weighted avg       0.82      0.81      0.81      4116\n",
      "\n",
      "\n",
      "Confusion Matrix: \n",
      "[[406   0 136   3   3]\n",
      " [  0 504   5   3 150]\n",
      " [ 51   1 832  26  82]\n",
      " [  3   1  84 629  54]\n",
      " [  2  34  95  47 965]]\n"
     ]
    }
   ],
   "source": [
    "target_classes_ = le.inverse_transform(target_classes)\n",
    "print(f'Test Accuracy: {accuracy_score(Y_actual, Y_preds)}')\n",
    "print('\\nClassification report: ')\n",
    "print(classification_report(Y_actual, Y_preds, target_names=target_classes_))\n",
    "print('\\nConfusion Matrix: ')\n",
    "print(confusion_matrix(Y_actual, Y_preds))"
   ]
  },
  {
   "cell_type": "markdown",
   "metadata": {
    "id": "uFz_ysutAwqE",
    "tags": []
   },
   "source": [
    "### Final submissions"
   ]
  },
  {
   "cell_type": "markdown",
   "metadata": {
    "id": "70H7gSZLC8vw"
   },
   "source": [
    "Making predictions for final submissions:"
   ]
  },
  {
   "cell_type": "code",
   "execution_count": 46,
   "metadata": {
    "id": "lCQmcXNwAzxY",
    "outputId": "ed734e53-35b4-4e14-a667-0f5857d137cb"
   },
   "outputs": [
    {
     "name": "stderr",
     "output_type": "stream",
     "text": [
      "C:\\Users\\Home\\AppData\\Local\\Temp\\ipykernel_4892\\2529566700.py:18: UserWarning: To copy construct from a tensor, it is recommended to use sourceTensor.clone().detach() or sourceTensor.clone().detach().requires_grad_(True), rather than torch.tensor(sourceTensor).\n",
      "  submission['Sentiment'] = le.inverse_transform(torch.tensor(Y_preds).cpu())\n"
     ]
    },
    {
     "data": {
      "text/html": [
       "<div>\n",
       "<style scoped>\n",
       "    .dataframe tbody tr th:only-of-type {\n",
       "        vertical-align: middle;\n",
       "    }\n",
       "\n",
       "    .dataframe tbody tr th {\n",
       "        vertical-align: top;\n",
       "    }\n",
       "\n",
       "    .dataframe thead th {\n",
       "        text-align: right;\n",
       "    }\n",
       "</style>\n",
       "<table border=\"1\" class=\"dataframe\">\n",
       "  <thead>\n",
       "    <tr style=\"text-align: right;\">\n",
       "      <th></th>\n",
       "      <th>id</th>\n",
       "      <th>Sentiment</th>\n",
       "    </tr>\n",
       "  </thead>\n",
       "  <tbody>\n",
       "    <tr>\n",
       "      <th>0</th>\n",
       "      <td>787bc85b-20d4-46d8-84a0-562a2527f684</td>\n",
       "      <td>Negative</td>\n",
       "    </tr>\n",
       "    <tr>\n",
       "      <th>1</th>\n",
       "      <td>17e934cd-ba94-4d4f-9ac0-ead202abe241</td>\n",
       "      <td>Positive</td>\n",
       "    </tr>\n",
       "    <tr>\n",
       "      <th>2</th>\n",
       "      <td>5914534b-2b0f-4de8-bb8a-e25587697e0d</td>\n",
       "      <td>Extremely Positive</td>\n",
       "    </tr>\n",
       "    <tr>\n",
       "      <th>3</th>\n",
       "      <td>cdf06cfe-29ae-48ee-ac6d-be448103ba45</td>\n",
       "      <td>Extremely Negative</td>\n",
       "    </tr>\n",
       "    <tr>\n",
       "      <th>4</th>\n",
       "      <td>aff63979-0256-4fb9-a2d9-86a3d3ca5470</td>\n",
       "      <td>Neutral</td>\n",
       "    </tr>\n",
       "  </tbody>\n",
       "</table>\n",
       "</div>"
      ],
      "text/plain": [
       "                                     id           Sentiment\n",
       "0  787bc85b-20d4-46d8-84a0-562a2527f684            Negative\n",
       "1  17e934cd-ba94-4d4f-9ac0-ead202abe241            Positive\n",
       "2  5914534b-2b0f-4de8-bb8a-e25587697e0d  Extremely Positive\n",
       "3  cdf06cfe-29ae-48ee-ac6d-be448103ba45  Extremely Negative\n",
       "4  aff63979-0256-4fb9-a2d9-86a3d3ca5470             Neutral"
      ]
     },
     "execution_count": 46,
     "metadata": {},
     "output_type": "execute_result"
    }
   ],
   "source": [
    "def MakeSubmissions(model, loader, device):\n",
    "    with torch.no_grad():\n",
    "        Y_shuffled, Y_preds= [], []\n",
    "        for X in loader:\n",
    "            X.to(device)\n",
    "            # initialise hidden state\n",
    "            h = model.init_hidden(X.shape[0])\n",
    "            preds, h = model(X, h)\n",
    "            Y_preds.append(preds)\n",
    "        gc.collect()\n",
    "        Y_preds = torch.cat(Y_preds)\n",
    "\n",
    "        return F.softmax(Y_preds, dim=-1).argmax(dim=-1)\n",
    "    torch.cuda.empty_cache()\n",
    "\n",
    "Y_preds = MakeSubmissions(lstm_classifier, subm_loader, device)\n",
    "submission = pd.read_csv(filepath_or_buffer='https://raw.githubusercontent.com/wizard339/education/main/misis/nlp/text_classification/sample_submission.csv')\n",
    "submission['Sentiment'] = le.inverse_transform(torch.tensor(Y_preds).cpu())\n",
    "submission.head()"
   ]
  },
  {
   "cell_type": "code",
   "execution_count": 47,
   "metadata": {
    "id": "zDzwh9uIFv3G"
   },
   "outputs": [],
   "source": [
    "# saving sabmission to '.csv' file\n",
    "submission.to_csv('submission_lstm.csv', index=False, header=True)"
   ]
  },
  {
   "cell_type": "markdown",
   "metadata": {
    "id": "BLdpuoSmAZDB",
    "jp-MarkdownHeadingCollapsed": true,
    "tags": []
   },
   "source": [
    "### What else can be done to improve?"
   ]
  },
  {
   "cell_type": "markdown",
   "metadata": {
    "id": "JgYJzQczAclZ"
   },
   "source": [
    "\n",
    "\n",
    "1.   Experiment with the regularization of the optimizer or try another optimizer.\n",
    "2.   Experiment with the 'gain' parameter of the Xavier's initialization or try another method of the initialization hidden state.\n",
    "3. Try another activation function.\n",
    "4. Try using some pretrained embeddings.\n",
    "5. Try using another tokenizators.\n",
    "6. Try changing the text cleaning method.\n",
    "7. Try deleting the stopwords.\n",
    "\n"
   ]
  },
  {
   "cell_type": "markdown",
   "metadata": {
    "id": "fCJJVARHxQ3D",
    "jp-MarkdownHeadingCollapsed": true,
    "tags": []
   },
   "source": [
    "# Model 2: A simple transformer"
   ]
  },
  {
   "cell_type": "code",
   "execution_count": 49,
   "metadata": {
    "id": "TXFJX_Clfhdy"
   },
   "outputs": [],
   "source": [
    "# PARAMETERS\n",
    "MAX_WORDS  = 40\n",
    "BATCH_SIZE = 1024\n",
    "EPOCHS     = 15\n",
    "LR         = 1e-2\n",
    "PATH       = Path('checkpoints_simple_transformer')\n",
    "\n",
    "EMBED_LEN  = 50\n",
    "HEADS      = 1\n",
    "DEPTH      = 6\n",
    "\n",
    "PATH.mkdir(exist_ok=True)"
   ]
  },
  {
   "cell_type": "markdown",
   "metadata": {
    "id": "0DVJrWtZLS6x"
   },
   "source": [
    "### Preprocessing"
   ]
  },
  {
   "cell_type": "markdown",
   "metadata": {
    "id": "bPDUaAl0L4Z7"
   },
   "source": [
    "Repeat some of the steps that were perfomed early:"
   ]
  },
  {
   "cell_type": "code",
   "execution_count": 50,
   "metadata": {
    "id": "PKqKdekScchl"
   },
   "outputs": [],
   "source": [
    "# Empty cache\n",
    "torch.cuda.empty_cache()"
   ]
  },
  {
   "cell_type": "code",
   "execution_count": 51,
   "metadata": {
    "id": "7_yaSMvsLH1p",
    "outputId": "b93793eb-9a42-4d62-9348-52e525a906e9"
   },
   "outputs": [
    {
     "name": "stdout",
     "output_type": "stream",
     "text": [
      "Shape of the train_data: (32924, 2)\n",
      "Shape of the val_data: (4115, 2)\n",
      "Shape of the test_data: (4116, 2)\n",
      "Shape of the finel_test_raw_data: (3798, 1)\n"
     ]
    }
   ],
   "source": [
    "# first, we will split data by two samples: train and test in the proportion of 80:20\n",
    "train_data, test_data = train_test_split(train_raw_data, test_size=0.2, stratify=train_raw_data['Sentiment'], random_state=42)\n",
    "# then, we will split test data by two samples: validation and test in the proportion of 50:50 \n",
    "val_data, test_data = train_test_split(test_data, test_size=0.5, stratify=test_data['Sentiment'], random_state=42)\n",
    "\n",
    "print(f'Shape of the train_data: {train_data.shape}')\n",
    "print(f'Shape of the val_data: {val_data.shape}')\n",
    "print(f'Shape of the test_data: {test_data.shape}')\n",
    "print(f'Shape of the finel_test_raw_data: {subm_raw_data.shape}')\n",
    "\n",
    "train_dataset, val_dataset, test_dataset, subm_dataset = to_map_style_dataset(train_data.values), \\\n",
    "                                                               to_map_style_dataset(val_data.values), \\\n",
    "                                                               to_map_style_dataset(test_data.values), \\\n",
    "                                                               to_map_style_dataset(subm_raw_data.values)\n",
    "\n",
    "def vectorize_batch(batch):\n",
    "  X, Y = list(zip(*batch))\n",
    "  X = [vocab(tokenizer(text)) for text in X] # tokenize and map tokens to indexes\n",
    "  X = [tokens+([0]*(MAX_WORDS - len(tokens))) if len(tokens) < MAX_WORDS else tokens[:MAX_WORDS] for tokens in X]\n",
    "  return torch.tensor(X, dtype=torch.int32, device=device), torch.tensor(Y, device=device)\n",
    "\n",
    "def vectorize_batch_for_submission(batch):\n",
    "  X = [vocab(tokenizer(text[0])) for text in batch] # tokenize and map tokens to indexes\n",
    "  X = [tokens+([0]*(MAX_WORDS - len(tokens))) if len(tokens) < MAX_WORDS else tokens[:MAX_WORDS] for tokens in X]\n",
    "  return torch.tensor(X, dtype=torch.int32, device=device), torch.tensor(Y, device=device)\n",
    "\n",
    "train_loader = DataLoader(train_dataset, batch_size=BATCH_SIZE, collate_fn=vectorize_batch, shuffle=True)\n",
    "val_loader   = DataLoader(val_dataset,   batch_size=BATCH_SIZE, collate_fn=vectorize_batch, shuffle=True)\n",
    "test_loader  = DataLoader(test_dataset , batch_size=BATCH_SIZE, collate_fn=vectorize_batch, shuffle=True)\n",
    "subm_loader  = DataLoader(subm_dataset , batch_size=BATCH_SIZE, collate_fn=vectorize_batch_for_submission)"
   ]
  },
  {
   "cell_type": "markdown",
   "metadata": {
    "id": "rX8rlkOJMezY"
   },
   "source": [
    "### Creating model"
   ]
  },
  {
   "cell_type": "code",
   "execution_count": 52,
   "metadata": {
    "id": "O5Aig4gfgsAp"
   },
   "outputs": [],
   "source": [
    "class ClsTransformer(nn.Module):\n",
    "    \"\"\"\n",
    "    Transformer for classifying sequences\n",
    "    \"\"\"\n",
    "\n",
    "    def __init__(self, emb, heads, depth, seq_length, num_tokens, num_classes, max_pool=True, dropout=0.0):\n",
    "        \"\"\"\n",
    "        :param emb: Embedding dimension\n",
    "        :param heads: nr. of attention heads\n",
    "        :param depth: Number of transformer blocks\n",
    "        :param seq_length: Expected maximum sequence length\n",
    "        :param num_tokens: Number of tokens (usually words) in the vocabulary\n",
    "        :param num_classes: Number of classes.\n",
    "        :param max_pool: If true, use global max pooling in the last layer. If false, use global\n",
    "                         average pooling.\n",
    "        \"\"\"\n",
    "        super().__init__()\n",
    "        self.num_tokens, self.max_pool = num_tokens, max_pool\n",
    "        self.token_embedding = nn.Embedding(num_embeddings=num_tokens, embedding_dim=emb)\n",
    "        self.pos_embedding = nn.Embedding(num_embeddings=seq_length, embedding_dim=emb)\n",
    "        self.unify_embeddings = nn.Linear(2 * emb, emb)\n",
    "\n",
    "        tblocks = []\n",
    "        for i in range(depth):\n",
    "            tblocks.append(\n",
    "                TransformerBlock(emb=emb, heads=heads, seq_length=seq_length, dropout=dropout))\n",
    "            \n",
    "        self.tblocks = nn.Sequential(*tblocks)\n",
    "        self.toprobs = nn.Linear(emb, num_classes)\n",
    "        self.do = nn.Dropout(dropout)\n",
    "\n",
    "    def forward(self, x):\n",
    "        \"\"\"\n",
    "        :param x: A batch by sequence length integer tensor of token indices.\n",
    "        :return: predicted log-probability vectors for each token based on the preceding tokens.\n",
    "        \"\"\"\n",
    "        tokens = self.token_embedding(x)\n",
    "        b, t, e = tokens.size()\n",
    "        positions = self.pos_embedding(torch.arange(t, device=device))[None, :, :].expand(b, t, e)\n",
    "        x = self.unify_embeddings(torch.cat((tokens, positions), dim=2).view(-1, 2 * e)).view(b, t, e)\n",
    "        x = self.do(x)\n",
    "        x = self.tblocks(x)\n",
    "        x = x.max(dim=1)[0] if self.max_pool else x.mean(dim=1) # pool over the time dimension\n",
    "        x = self.toprobs(x)\n",
    "        return F.log_softmax(x, dim=1)\n",
    "\n",
    "\n",
    "class SelfAttention(nn.Module):\n",
    "    def __init__(self, emb, heads=8):\n",
    "        \"\"\"\n",
    "        :param emb:\n",
    "        :param heads:\n",
    "        :param mask:\n",
    "        \"\"\"\n",
    "        super().__init__()\n",
    "\n",
    "        self.emb = emb\n",
    "        self.heads = heads\n",
    "\n",
    "        self.tokeys = nn.Linear(emb, emb * heads, bias=False)\n",
    "        self.toqueries = nn.Linear(emb, emb * heads, bias=False)\n",
    "        self.tovalues = nn.Linear(emb, emb * heads, bias=False)\n",
    "\n",
    "        self.unifyheads = nn.Linear(heads * emb, emb)\n",
    "\n",
    "    def forward(self, x):\n",
    "\n",
    "        b, t, e = x.size()\n",
    "        h = self.heads\n",
    "        assert e == self.emb, f'Input embedding dim ({e}) should match layer embedding dim ({self.emb})'\n",
    "\n",
    "        keys    = self.tokeys(x)   .view(b, t, h, e)\n",
    "        queries = self.toqueries(x).view(b, t, h, e)\n",
    "        values  = self.tovalues(x) .view(b, t, h, e)\n",
    "\n",
    "        # compute scaled dot-product self-attention\n",
    "\n",
    "        # - fold heads into the batch dimension\n",
    "        keys    = keys   .transpose(1, 2).contiguous().view(b * h, t, e)\n",
    "        queries = queries.transpose(1, 2).contiguous().view(b * h, t, e)\n",
    "        values  = values .transpose(1, 2).contiguous().view(b * h, t, e)\n",
    "\n",
    "        # - get dot product of queries and keys, and scale\n",
    "        dot = torch.bmm(queries, keys.transpose(1, 2))\n",
    "        dot = dot / math.sqrt(e) # dot contains b*h  t-by-t matrices with raw self-attention logits\n",
    "\n",
    "        assert dot.size() == (b*h, t, t), f'Matrix has size {dot.size()}, expected {(b*h, t, t)}.'\n",
    "\n",
    "        dot = F.softmax(dot, dim=2) # dot now has row-wise self-attention probabilities\n",
    "\n",
    "        # apply the self attention to the values\n",
    "        out = torch.bmm(dot, values).view(b, h, t, e)\n",
    "\n",
    "        # swap h, t back, unify heads\n",
    "        out = out.transpose(1, 2).contiguous().view(b, t, h * e)\n",
    "\n",
    "        return self.unifyheads(out)\n",
    "\n",
    "\n",
    "class TransformerBlock(nn.Module):\n",
    "    def __init__(self, emb, heads, seq_length, ff_hidden_mult=5, dropout=0.4):\n",
    "        super().__init__()\n",
    "        self.attention = SelfAttention(emb, heads=heads)\n",
    "        self.norm1 = nn.LayerNorm(emb)\n",
    "        self.norm2 = nn.LayerNorm(emb)\n",
    "        self.ff = nn.Sequential(\n",
    "            nn.Linear(emb, ff_hidden_mult * emb),\n",
    "            nn.ReLU(),\n",
    "            nn.Linear(ff_hidden_mult * emb, emb),\n",
    "            nn.Linear(emb, ff_hidden_mult * emb),\n",
    "            nn.ReLU(),\n",
    "            nn.Linear(ff_hidden_mult * emb, emb),\n",
    "        )\n",
    "        self.do = nn.Dropout(dropout)\n",
    "\n",
    "    def forward(self, x):\n",
    "        attended = self.attention(x)\n",
    "        x = self.norm1(attended + x)\n",
    "        x = self.do(x)\n",
    "        feedforward = self.ff(x)\n",
    "        x = self.norm2(feedforward + x)\n",
    "        x = self.do(x)\n",
    "        return x       "
   ]
  },
  {
   "cell_type": "markdown",
   "metadata": {
    "id": "ltdCCbnlMpKT"
   },
   "source": [
    "### Training and evaluating"
   ]
  },
  {
   "cell_type": "code",
   "execution_count": 53,
   "metadata": {
    "id": "6ie6SHCoIIj8",
    "outputId": "c3a1af47-f3bf-4621-b538-f4d5bc69325c"
   },
   "outputs": [
    {
     "data": {
      "application/vnd.jupyter.widget-view+json": {
       "model_id": "734651b7ee514966bf47ba4cee49092d",
       "version_major": 2,
       "version_minor": 0
      },
      "text/plain": [
       "  0%|          | 0/33 [00:00<?, ?it/s]"
      ]
     },
     "metadata": {},
     "output_type": "display_data"
    },
    {
     "name": "stdout",
     "output_type": "stream",
     "text": [
      "Train Loss: 1.589\n"
     ]
    },
    {
     "data": {
      "application/vnd.jupyter.widget-view+json": {
       "model_id": "87ecafd8370043328592e29a4c856c37",
       "version_major": 2,
       "version_minor": 0
      },
      "text/plain": [
       "  0%|          | 0/5 [00:00<?, ?it/s]"
      ]
     },
     "metadata": {},
     "output_type": "display_data"
    },
    {
     "name": "stdout",
     "output_type": "stream",
     "text": [
      "Valid Loss: 1.498\n",
      "Epoch: 1, Valid Acc : 0.306\n"
     ]
    },
    {
     "data": {
      "application/vnd.jupyter.widget-view+json": {
       "model_id": "08aaedd9457544d68af3289177478e28",
       "version_major": 2,
       "version_minor": 0
      },
      "text/plain": [
       "  0%|          | 0/33 [00:00<?, ?it/s]"
      ]
     },
     "metadata": {},
     "output_type": "display_data"
    },
    {
     "name": "stdout",
     "output_type": "stream",
     "text": [
      "Train Loss: 1.499\n"
     ]
    },
    {
     "data": {
      "application/vnd.jupyter.widget-view+json": {
       "model_id": "cc1d591fbb1141658936b6a0318e6154",
       "version_major": 2,
       "version_minor": 0
      },
      "text/plain": [
       "  0%|          | 0/5 [00:00<?, ?it/s]"
      ]
     },
     "metadata": {},
     "output_type": "display_data"
    },
    {
     "name": "stdout",
     "output_type": "stream",
     "text": [
      "Valid Loss: 1.465\n",
      "Epoch: 2, Valid Acc : 0.334\n"
     ]
    },
    {
     "data": {
      "application/vnd.jupyter.widget-view+json": {
       "model_id": "71ac8bcfa5be415b84ab4a6047e60740",
       "version_major": 2,
       "version_minor": 0
      },
      "text/plain": [
       "  0%|          | 0/33 [00:00<?, ?it/s]"
      ]
     },
     "metadata": {},
     "output_type": "display_data"
    },
    {
     "name": "stdout",
     "output_type": "stream",
     "text": [
      "Train Loss: 1.385\n"
     ]
    },
    {
     "data": {
      "application/vnd.jupyter.widget-view+json": {
       "model_id": "119bdfc757204253a4676fab512f1dfa",
       "version_major": 2,
       "version_minor": 0
      },
      "text/plain": [
       "  0%|          | 0/5 [00:00<?, ?it/s]"
      ]
     },
     "metadata": {},
     "output_type": "display_data"
    },
    {
     "name": "stdout",
     "output_type": "stream",
     "text": [
      "Valid Loss: 1.316\n",
      "Epoch: 3, Valid Acc : 0.435\n"
     ]
    },
    {
     "data": {
      "application/vnd.jupyter.widget-view+json": {
       "model_id": "5857955a39d24ee58c5accd7a66f1577",
       "version_major": 2,
       "version_minor": 0
      },
      "text/plain": [
       "  0%|          | 0/33 [00:00<?, ?it/s]"
      ]
     },
     "metadata": {},
     "output_type": "display_data"
    },
    {
     "name": "stdout",
     "output_type": "stream",
     "text": [
      "Train Loss: 1.196\n"
     ]
    },
    {
     "data": {
      "application/vnd.jupyter.widget-view+json": {
       "model_id": "b75cf96bb4f746b09b6298a7d794422b",
       "version_major": 2,
       "version_minor": 0
      },
      "text/plain": [
       "  0%|          | 0/5 [00:00<?, ?it/s]"
      ]
     },
     "metadata": {},
     "output_type": "display_data"
    },
    {
     "name": "stdout",
     "output_type": "stream",
     "text": [
      "Valid Loss: 1.181\n",
      "Epoch: 4, Valid Acc : 0.501\n"
     ]
    },
    {
     "data": {
      "application/vnd.jupyter.widget-view+json": {
       "model_id": "645e3a7441c742e68a046d0022338703",
       "version_major": 2,
       "version_minor": 0
      },
      "text/plain": [
       "  0%|          | 0/33 [00:00<?, ?it/s]"
      ]
     },
     "metadata": {},
     "output_type": "display_data"
    },
    {
     "name": "stdout",
     "output_type": "stream",
     "text": [
      "Train Loss: 1.016\n"
     ]
    },
    {
     "data": {
      "application/vnd.jupyter.widget-view+json": {
       "model_id": "e0d7254d28424f8488de5f3183af352d",
       "version_major": 2,
       "version_minor": 0
      },
      "text/plain": [
       "  0%|          | 0/5 [00:00<?, ?it/s]"
      ]
     },
     "metadata": {},
     "output_type": "display_data"
    },
    {
     "name": "stdout",
     "output_type": "stream",
     "text": [
      "Valid Loss: 1.006\n",
      "Epoch: 5, Valid Acc : 0.568\n"
     ]
    },
    {
     "data": {
      "application/vnd.jupyter.widget-view+json": {
       "model_id": "f5257dbe6c4849a58794ca1a57e30757",
       "version_major": 2,
       "version_minor": 0
      },
      "text/plain": [
       "  0%|          | 0/33 [00:00<?, ?it/s]"
      ]
     },
     "metadata": {},
     "output_type": "display_data"
    },
    {
     "name": "stdout",
     "output_type": "stream",
     "text": [
      "Train Loss: 0.854\n"
     ]
    },
    {
     "data": {
      "application/vnd.jupyter.widget-view+json": {
       "model_id": "34a704e1044d43949df5e04fab659008",
       "version_major": 2,
       "version_minor": 0
      },
      "text/plain": [
       "  0%|          | 0/5 [00:00<?, ?it/s]"
      ]
     },
     "metadata": {},
     "output_type": "display_data"
    },
    {
     "name": "stdout",
     "output_type": "stream",
     "text": [
      "Valid Loss: 0.971\n",
      "Epoch: 6, Valid Acc : 0.608\n"
     ]
    },
    {
     "data": {
      "application/vnd.jupyter.widget-view+json": {
       "model_id": "3ba9d9533dc34a229399b671a8933fc3",
       "version_major": 2,
       "version_minor": 0
      },
      "text/plain": [
       "  0%|          | 0/33 [00:00<?, ?it/s]"
      ]
     },
     "metadata": {},
     "output_type": "display_data"
    },
    {
     "name": "stdout",
     "output_type": "stream",
     "text": [
      "Train Loss: 0.738\n"
     ]
    },
    {
     "data": {
      "application/vnd.jupyter.widget-view+json": {
       "model_id": "644995d3c8f54ecc96107b581fcebeb5",
       "version_major": 2,
       "version_minor": 0
      },
      "text/plain": [
       "  0%|          | 0/5 [00:00<?, ?it/s]"
      ]
     },
     "metadata": {},
     "output_type": "display_data"
    },
    {
     "name": "stdout",
     "output_type": "stream",
     "text": [
      "Valid Loss: 0.993\n",
      "Epoch: 7, Valid Acc : 0.633\n"
     ]
    },
    {
     "data": {
      "application/vnd.jupyter.widget-view+json": {
       "model_id": "453408f09b7143f6a905e4b15b255b2a",
       "version_major": 2,
       "version_minor": 0
      },
      "text/plain": [
       "  0%|          | 0/33 [00:00<?, ?it/s]"
      ]
     },
     "metadata": {},
     "output_type": "display_data"
    },
    {
     "name": "stdout",
     "output_type": "stream",
     "text": [
      "Train Loss: 0.625\n"
     ]
    },
    {
     "data": {
      "application/vnd.jupyter.widget-view+json": {
       "model_id": "82c0941325444198b5da1b6eb5438ff9",
       "version_major": 2,
       "version_minor": 0
      },
      "text/plain": [
       "  0%|          | 0/5 [00:00<?, ?it/s]"
      ]
     },
     "metadata": {},
     "output_type": "display_data"
    },
    {
     "name": "stdout",
     "output_type": "stream",
     "text": [
      "Valid Loss: 0.913\n",
      "Epoch: 8, Valid Acc : 0.642\n"
     ]
    },
    {
     "data": {
      "application/vnd.jupyter.widget-view+json": {
       "model_id": "649c06ec85084d2c8951a65e9cb05e33",
       "version_major": 2,
       "version_minor": 0
      },
      "text/plain": [
       "  0%|          | 0/33 [00:00<?, ?it/s]"
      ]
     },
     "metadata": {},
     "output_type": "display_data"
    },
    {
     "name": "stdout",
     "output_type": "stream",
     "text": [
      "Train Loss: 0.538\n"
     ]
    },
    {
     "data": {
      "application/vnd.jupyter.widget-view+json": {
       "model_id": "46611256d9ce4097ba571c9edbb6e28f",
       "version_major": 2,
       "version_minor": 0
      },
      "text/plain": [
       "  0%|          | 0/5 [00:00<?, ?it/s]"
      ]
     },
     "metadata": {},
     "output_type": "display_data"
    },
    {
     "name": "stdout",
     "output_type": "stream",
     "text": [
      "Valid Loss: 1.075\n",
      "Epoch: 9, Valid Acc : 0.635\n"
     ]
    },
    {
     "data": {
      "application/vnd.jupyter.widget-view+json": {
       "model_id": "6b06ec92c6d5491e973eeafda9b685fe",
       "version_major": 2,
       "version_minor": 0
      },
      "text/plain": [
       "  0%|          | 0/33 [00:00<?, ?it/s]"
      ]
     },
     "metadata": {},
     "output_type": "display_data"
    },
    {
     "name": "stdout",
     "output_type": "stream",
     "text": [
      "Train Loss: 0.476\n"
     ]
    },
    {
     "data": {
      "application/vnd.jupyter.widget-view+json": {
       "model_id": "3a7d25c9ee154787bd3069400d83bbc0",
       "version_major": 2,
       "version_minor": 0
      },
      "text/plain": [
       "  0%|          | 0/5 [00:00<?, ?it/s]"
      ]
     },
     "metadata": {},
     "output_type": "display_data"
    },
    {
     "name": "stdout",
     "output_type": "stream",
     "text": [
      "Valid Loss: 1.023\n",
      "Epoch: 10, Valid Acc : 0.648\n"
     ]
    },
    {
     "data": {
      "application/vnd.jupyter.widget-view+json": {
       "model_id": "24d3f49121ce4518ac9cdad284fb0424",
       "version_major": 2,
       "version_minor": 0
      },
      "text/plain": [
       "  0%|          | 0/33 [00:00<?, ?it/s]"
      ]
     },
     "metadata": {},
     "output_type": "display_data"
    },
    {
     "name": "stdout",
     "output_type": "stream",
     "text": [
      "Train Loss: 0.395\n"
     ]
    },
    {
     "data": {
      "application/vnd.jupyter.widget-view+json": {
       "model_id": "be163d7ad8d34681b8155243b002a40a",
       "version_major": 2,
       "version_minor": 0
      },
      "text/plain": [
       "  0%|          | 0/5 [00:00<?, ?it/s]"
      ]
     },
     "metadata": {},
     "output_type": "display_data"
    },
    {
     "name": "stdout",
     "output_type": "stream",
     "text": [
      "Valid Loss: 1.076\n",
      "Epoch: 11, Valid Acc : 0.666\n"
     ]
    },
    {
     "data": {
      "application/vnd.jupyter.widget-view+json": {
       "model_id": "32f3178e9913440e858726bd15af5b2c",
       "version_major": 2,
       "version_minor": 0
      },
      "text/plain": [
       "  0%|          | 0/33 [00:00<?, ?it/s]"
      ]
     },
     "metadata": {},
     "output_type": "display_data"
    },
    {
     "name": "stdout",
     "output_type": "stream",
     "text": [
      "Train Loss: 0.337\n"
     ]
    },
    {
     "data": {
      "application/vnd.jupyter.widget-view+json": {
       "model_id": "3999e60785f84840a9b65a61f6ef15fd",
       "version_major": 2,
       "version_minor": 0
      },
      "text/plain": [
       "  0%|          | 0/5 [00:00<?, ?it/s]"
      ]
     },
     "metadata": {},
     "output_type": "display_data"
    },
    {
     "name": "stdout",
     "output_type": "stream",
     "text": [
      "Valid Loss: 1.119\n",
      "Epoch: 12, Valid Acc : 0.632\n"
     ]
    },
    {
     "data": {
      "application/vnd.jupyter.widget-view+json": {
       "model_id": "d73d38db8cfa405d979f35017307bab1",
       "version_major": 2,
       "version_minor": 0
      },
      "text/plain": [
       "  0%|          | 0/33 [00:00<?, ?it/s]"
      ]
     },
     "metadata": {},
     "output_type": "display_data"
    },
    {
     "name": "stdout",
     "output_type": "stream",
     "text": [
      "Train Loss: 0.321\n"
     ]
    },
    {
     "data": {
      "application/vnd.jupyter.widget-view+json": {
       "model_id": "f00809654cad481780af9b1e49dbfad1",
       "version_major": 2,
       "version_minor": 0
      },
      "text/plain": [
       "  0%|          | 0/5 [00:00<?, ?it/s]"
      ]
     },
     "metadata": {},
     "output_type": "display_data"
    },
    {
     "name": "stdout",
     "output_type": "stream",
     "text": [
      "Valid Loss: 1.085\n",
      "Epoch: 13, Valid Acc : 0.644\n"
     ]
    },
    {
     "data": {
      "application/vnd.jupyter.widget-view+json": {
       "model_id": "d58f92dc084d4f8b9f0d4c4b809b96ac",
       "version_major": 2,
       "version_minor": 0
      },
      "text/plain": [
       "  0%|          | 0/33 [00:00<?, ?it/s]"
      ]
     },
     "metadata": {},
     "output_type": "display_data"
    },
    {
     "name": "stdout",
     "output_type": "stream",
     "text": [
      "Train Loss: 0.276\n"
     ]
    },
    {
     "data": {
      "application/vnd.jupyter.widget-view+json": {
       "model_id": "814dc3b4f19248afafe48e7d7a182adc",
       "version_major": 2,
       "version_minor": 0
      },
      "text/plain": [
       "  0%|          | 0/5 [00:00<?, ?it/s]"
      ]
     },
     "metadata": {},
     "output_type": "display_data"
    },
    {
     "name": "stdout",
     "output_type": "stream",
     "text": [
      "Valid Loss: 1.249\n",
      "Epoch: 14, Valid Acc : 0.656\n"
     ]
    },
    {
     "data": {
      "application/vnd.jupyter.widget-view+json": {
       "model_id": "88d3a2bd540e444b8c628a59052e65cc",
       "version_major": 2,
       "version_minor": 0
      },
      "text/plain": [
       "  0%|          | 0/33 [00:00<?, ?it/s]"
      ]
     },
     "metadata": {},
     "output_type": "display_data"
    },
    {
     "name": "stdout",
     "output_type": "stream",
     "text": [
      "Train Loss: 0.222\n"
     ]
    },
    {
     "data": {
      "application/vnd.jupyter.widget-view+json": {
       "model_id": "9907354c8f6b412f828bf261683ab764",
       "version_major": 2,
       "version_minor": 0
      },
      "text/plain": [
       "  0%|          | 0/5 [00:00<?, ?it/s]"
      ]
     },
     "metadata": {},
     "output_type": "display_data"
    },
    {
     "name": "stdout",
     "output_type": "stream",
     "text": [
      "Valid Loss: 1.231\n",
      "Epoch: 15, Valid Acc : 0.650\n"
     ]
    }
   ],
   "source": [
    "MODEL   = ClsTransformer(\n",
    "                emb=EMBED_LEN,\n",
    "                heads=HEADS,\n",
    "                depth=DEPTH,\n",
    "                seq_length=MAX_WORDS, \n",
    "                num_tokens=len(vocab),\n",
    "                num_classes=5\n",
    "            )\n",
    "OPT     = AdamW(MODEL.parameters(), lr=LR, weight_decay=5e-2)\n",
    "LR_SCHD = LinearLR(OPT, total_iters=(EPOCHS * len(train_loader)))\n",
    "LOSS_FN = nn.CrossEntropyLoss()\n",
    "\n",
    "for epoch in range(1, EPOCHS + 1):\n",
    "    # Training\n",
    "    train_losses, val_losses, val_accs = [], [], []\n",
    "    MODEL.train()\n",
    "    for X, Y in tqdm(train_loader):\n",
    "        X, Y, MODEL = X.to(device), Y.to(device), MODEL.to(device)\n",
    "\n",
    "        Y_preds = MODEL(X)\n",
    "\n",
    "        loss = LOSS_FN(Y_preds, Y)\n",
    "        train_losses.append(loss)\n",
    "\n",
    "        OPT.zero_grad()\n",
    "\n",
    "        loss.backward()\n",
    "        OPT.step()\n",
    "    train_loss = torch.tensor(train_losses).mean()\n",
    "    print(f'Train Loss: {train_loss:.3f}')\n",
    "\n",
    "    # Evaluation\n",
    "    MODEL.eval()\n",
    "    with torch.no_grad():\n",
    "        Y_shuffled, Y_preds, losses = [], [], []\n",
    "        for X, Y in tqdm(val_loader):\n",
    "            preds = MODEL(X)\n",
    "            loss = LOSS_FN(preds, Y)\n",
    "            losses.append(loss)\n",
    "\n",
    "            Y_shuffled.append(Y)\n",
    "            Y_preds.append(preds.argmax(dim=-1))\n",
    "\n",
    "        Y_shuffled = torch.cat(Y_shuffled)\n",
    "        Y_preds    = torch.cat(Y_preds)\n",
    "\n",
    "        valid_loss = torch.tensor(losses).to(device).mean()\n",
    "        valid_acc  = accuracy_score(\n",
    "                        Y_shuffled.cpu().detach().numpy(),\n",
    "                        Y_preds.cpu().detach().numpy()\n",
    "                        )\n",
    "        print(f'Valid Loss: {valid_loss:.3f}')\n",
    "        print(f'Epoch: {epoch}, Valid Acc : {valid_acc:.3f}')\n",
    "    \n",
    "    LR_SCHD.step()\n",
    "\n",
    "    train_losses.append(train_loss)\n",
    "    val_losses.append(valid_loss)\n",
    "    val_accs.append(valid_acc)"
   ]
  },
  {
   "cell_type": "markdown",
   "metadata": {
    "id": "cUHWfWK5OQg6",
    "jp-MarkdownHeadingCollapsed": true,
    "tags": []
   },
   "source": [
    "# Model 3: HuggingFace BERT transformer"
   ]
  },
  {
   "cell_type": "code",
   "execution_count": 54,
   "metadata": {
    "id": "Y63CKAXah5jZ"
   },
   "outputs": [],
   "source": [
    "# PARAMETERS\n",
    "CHECKPOINT = \"bert-base-uncased\"\n",
    "\n",
    "BATCH_SIZE = 128\n",
    "NUM_EPOCHS = 5\n",
    "LR         = 3e-5"
   ]
  },
  {
   "cell_type": "markdown",
   "metadata": {
    "id": "NdSJ4mg9h_po"
   },
   "source": [
    "### Preprocessing"
   ]
  },
  {
   "cell_type": "code",
   "execution_count": 55,
   "metadata": {
    "colab": {
     "base_uri": "https://localhost:8080/"
    },
    "id": "bNAVkSkmOV_G",
    "outputId": "15caa3ee-f1c9-44a0-f1d5-e28238bf66b6"
   },
   "outputs": [
    {
     "name": "stdout",
     "output_type": "stream",
     "text": [
      "Shape of the train_data: (32924, 2)\n",
      "Shape of the val_data: (4115, 2)\n",
      "Shape of the test_data: (4116, 2)\n",
      "Shape of the finel_test_raw_data: (3798, 1)\n"
     ]
    }
   ],
   "source": [
    "# first, we will split data by two samples: train and test in the proportion of 80:20\n",
    "train_data, test_data = train_test_split(train_raw_data, test_size=0.2, stratify=train_raw_data['Sentiment'], random_state=42)\n",
    "# then, we will split test data by two samples: validation and test in the proportion of 50:50 \n",
    "val_data, test_data = train_test_split(test_data, test_size=0.5, stratify=test_data['Sentiment'], random_state=42)\n",
    "\n",
    "print(f'Shape of the train_data: {train_data.shape}')\n",
    "print(f'Shape of the val_data: {val_data.shape}')\n",
    "print(f'Shape of the test_data: {test_data.shape}')\n",
    "print(f'Shape of the finel_test_raw_data: {subm_raw_data.shape}')"
   ]
  },
  {
   "cell_type": "code",
   "execution_count": 56,
   "metadata": {
    "colab": {
     "base_uri": "https://localhost:8080/"
    },
    "id": "eCi7Ey3uOyYa",
    "outputId": "d7d62015-62f3-424b-a031-3dbd0aa789b6"
   },
   "outputs": [
    {
     "name": "stdout",
     "output_type": "stream",
     "text": [
      "Dataset({\n",
      "    features: ['Text', 'Sentiment', '__index_level_0__'],\n",
      "    num_rows: 32924\n",
      "})\n",
      "Dataset({\n",
      "    features: ['Text', 'Sentiment', '__index_level_0__'],\n",
      "    num_rows: 4115\n",
      "})\n",
      "Dataset({\n",
      "    features: ['Text', 'Sentiment', '__index_level_0__'],\n",
      "    num_rows: 4116\n",
      "})\n",
      "Dataset({\n",
      "    features: ['Text'],\n",
      "    num_rows: 3798\n",
      "})\n"
     ]
    }
   ],
   "source": [
    "# Convert pandas dataframe to Hugging Face arrow dataset\n",
    "hg_train_data = Dataset.from_pandas(train_data)\n",
    "hg_val_data = Dataset.from_pandas(val_data)\n",
    "hg_test_data = Dataset.from_pandas(test_data)\n",
    "hg_subm_data = Dataset.from_pandas(subm_raw_data)\n",
    "\n",
    "print(hg_train_data)\n",
    "print(hg_val_data)\n",
    "print(hg_test_data)\n",
    "print(hg_subm_data)"
   ]
  },
  {
   "cell_type": "code",
   "execution_count": 57,
   "metadata": {
    "id": "bTkWhIL5PSvf",
    "outputId": "e1b9a012-0a46-4137-9a93-8859084b6474"
   },
   "outputs": [
    {
     "data": {
      "text/plain": [
       "BertTokenizerFast(name_or_path='bert-base-uncased', vocab_size=30522, model_max_length=512, is_fast=True, padding_side='right', truncation_side='right', special_tokens={'unk_token': '[UNK]', 'sep_token': '[SEP]', 'pad_token': '[PAD]', 'cls_token': '[CLS]', 'mask_token': '[MASK]'})"
      ]
     },
     "execution_count": 57,
     "metadata": {},
     "output_type": "execute_result"
    }
   ],
   "source": [
    "# Tokenizer from a pretrained model\n",
    "tokenizer = AutoTokenizer.from_pretrained(CHECKPOINT)\n",
    "\n",
    "# Take a look at the tokenizer\n",
    "tokenizer"
   ]
  },
  {
   "cell_type": "code",
   "execution_count": 58,
   "metadata": {
    "id": "2rXr_UPJPWC7",
    "outputId": "107e2d0e-10ef-4429-b479-8f20ed24422d"
   },
   "outputs": [
    {
     "name": "stdout",
     "output_type": "stream",
     "text": [
      "The unknown token is [UNK] and the ID for the unknown token is 100.\n",
      "The seperator token is [SEP] and the ID for the seperator token is 102.\n",
      "The pad token is [PAD] and the ID for the pad token is 0.\n",
      "The sentence level classification token is [CLS] and the ID for the classification token is 101.\n",
      "The mask token is [MASK] and the ID for the mask token is 103.\n"
     ]
    }
   ],
   "source": [
    "# Mapping between special tokens and their IDs.\n",
    "print(f'The unknown token is {tokenizer.unk_token} and the ID for the unknown token is {tokenizer.unk_token_id}.')\n",
    "print(f'The seperator token is {tokenizer.sep_token} and the ID for the seperator token is {tokenizer.sep_token_id}.')\n",
    "print(f'The pad token is {tokenizer.pad_token} and the ID for the pad token is {tokenizer.pad_token_id}.')\n",
    "print(f'The sentence level classification token is {tokenizer.cls_token} and the ID for the classification token is {tokenizer.cls_token_id}.')\n",
    "print(f'The mask token is {tokenizer.mask_token} and the ID for the mask token is {tokenizer.mask_token_id}.')"
   ]
  },
  {
   "cell_type": "code",
   "execution_count": 59,
   "metadata": {
    "id": "F5z8gg69PZtB",
    "outputId": "69b151db-9307-4ce9-de81-e9c858b68c9a"
   },
   "outputs": [
    {
     "data": {
      "application/vnd.jupyter.widget-view+json": {
       "model_id": "",
       "version_major": 2,
       "version_minor": 0
      },
      "text/plain": [
       "Map:   0%|          | 0/32924 [00:00<?, ? examples/s]"
      ]
     },
     "metadata": {},
     "output_type": "display_data"
    },
    {
     "data": {
      "application/vnd.jupyter.widget-view+json": {
       "model_id": "",
       "version_major": 2,
       "version_minor": 0
      },
      "text/plain": [
       "Map:   0%|          | 0/4115 [00:00<?, ? examples/s]"
      ]
     },
     "metadata": {},
     "output_type": "display_data"
    },
    {
     "data": {
      "application/vnd.jupyter.widget-view+json": {
       "model_id": "",
       "version_major": 2,
       "version_minor": 0
      },
      "text/plain": [
       "Map:   0%|          | 0/4116 [00:00<?, ? examples/s]"
      ]
     },
     "metadata": {},
     "output_type": "display_data"
    },
    {
     "data": {
      "application/vnd.jupyter.widget-view+json": {
       "model_id": "",
       "version_major": 2,
       "version_minor": 0
      },
      "text/plain": [
       "Map:   0%|          | 0/3798 [00:00<?, ? examples/s]"
      ]
     },
     "metadata": {},
     "output_type": "display_data"
    },
    {
     "name": "stdout",
     "output_type": "stream",
     "text": [
      "Dataset({\n",
      "    features: ['Text', 'Sentiment', '__index_level_0__', 'input_ids', 'token_type_ids', 'attention_mask'],\n",
      "    num_rows: 32924\n",
      "})\n",
      "Dataset({\n",
      "    features: ['Text', 'Sentiment', '__index_level_0__', 'input_ids', 'token_type_ids', 'attention_mask'],\n",
      "    num_rows: 4115\n",
      "})\n",
      "Dataset({\n",
      "    features: ['Text', 'Sentiment', '__index_level_0__', 'input_ids', 'token_type_ids', 'attention_mask'],\n",
      "    num_rows: 4116\n",
      "})\n",
      "Dataset({\n",
      "    features: ['Text', 'input_ids', 'token_type_ids', 'attention_mask'],\n",
      "    num_rows: 3798\n",
      "})\n"
     ]
    }
   ],
   "source": [
    "# Funtion to tokenize data\n",
    "def tokenize_function(data):\n",
    "    return tokenizer(data[\"Text\"],\n",
    "                     max_length=40,\n",
    "                     truncation=True)\n",
    "\n",
    "# Tokenize the dataset\n",
    "dataset_train = hg_train_data.map(tokenize_function, batched=True)\n",
    "dataset_val   = hg_val_data  .map(tokenize_function, batched=True)\n",
    "dataset_test  = hg_test_data .map(tokenize_function, batched=True)\n",
    "dataset_subm  = hg_subm_data .map(tokenize_function, batched=True)\n",
    "\n",
    "data_collator = DataCollatorWithPadding(tokenizer=tokenizer)\n",
    "\n",
    "# Take a look at the data\n",
    "print(dataset_train)\n",
    "print(dataset_val)\n",
    "print(dataset_test)\n",
    "print(dataset_subm)"
   ]
  },
  {
   "cell_type": "code",
   "execution_count": 60,
   "metadata": {
    "id": "vMGyJ2R_PhFT",
    "outputId": "ba4e7aa1-f47f-4b1d-8f7d-8d2715ee355a"
   },
   "outputs": [
    {
     "name": "stdout",
     "output_type": "stream",
     "text": [
      "Dataset({\n",
      "    features: ['labels', 'input_ids', 'token_type_ids', 'attention_mask'],\n",
      "    num_rows: 32924\n",
      "})\n",
      "Dataset({\n",
      "    features: ['labels', 'input_ids', 'token_type_ids', 'attention_mask'],\n",
      "    num_rows: 4115\n",
      "})\n",
      "Dataset({\n",
      "    features: ['labels', 'input_ids', 'token_type_ids', 'attention_mask'],\n",
      "    num_rows: 4116\n",
      "})\n",
      "Dataset({\n",
      "    features: ['input_ids', 'token_type_ids', 'attention_mask'],\n",
      "    num_rows: 3798\n",
      "})\n"
     ]
    }
   ],
   "source": [
    "# Remove the review and index columns because it will not be used in the model\n",
    "dataset_train = dataset_train.remove_columns([\"Text\", \"__index_level_0__\"])\n",
    "dataset_val   = dataset_val  .remove_columns([\"Text\", \"__index_level_0__\"])\n",
    "dataset_test  = dataset_test .remove_columns([\"Text\", \"__index_level_0__\"])\n",
    "dataset_subm  = dataset_subm .remove_columns([\"Text\"])\n",
    "\n",
    "# Rename label to labels because the model expects the name labels\n",
    "dataset_train = dataset_train.rename_column(\"Sentiment\", \"labels\")\n",
    "dataset_val   = dataset_val  .rename_column(\"Sentiment\", \"labels\")\n",
    "dataset_test  = dataset_test .rename_column(\"Sentiment\", \"labels\")\n",
    "\n",
    "# Change the format to PyTorch tensors\n",
    "dataset_train.set_format(\"torch\")\n",
    "dataset_val  .set_format(\"torch\")\n",
    "dataset_test .set_format(\"torch\")\n",
    "dataset_subm .set_format(\"torch\")\n",
    "\n",
    "# Take a look at the data\n",
    "print(dataset_train)\n",
    "print(dataset_val)\n",
    "print(dataset_test)\n",
    "print(dataset_subm)"
   ]
  },
  {
   "cell_type": "code",
   "execution_count": 61,
   "metadata": {
    "id": "l_H0tB46PlcN"
   },
   "outputs": [],
   "source": [
    "# Empty cache\n",
    "torch.cuda.empty_cache()\n",
    "\n",
    "# DataLoader\n",
    "train_dataloader = DataLoader(dataset=dataset_train, batch_size=BATCH_SIZE, collate_fn=data_collator,  shuffle=True)\n",
    "val_dataloader   = DataLoader(dataset=dataset_val,   batch_size=BATCH_SIZE, collate_fn=data_collator)\n",
    "test_dataloader  = DataLoader(dataset=dataset_test,  batch_size=BATCH_SIZE, collate_fn=data_collator)\n",
    "subm_dataloader  = DataLoader(dataset=dataset_subm,  batch_size=BATCH_SIZE, collate_fn=data_collator)"
   ]
  },
  {
   "cell_type": "code",
   "execution_count": 62,
   "metadata": {
    "id": "IoI2gX6zPv8U",
    "outputId": "35d45dd0-02bd-4842-dc62-1318510fa478"
   },
   "outputs": [
    {
     "name": "stderr",
     "output_type": "stream",
     "text": [
      "You're using a BertTokenizerFast tokenizer. Please note that with a fast tokenizer, using the `__call__` method is faster than using a method to encode the text followed by a call to the `pad` method to get a padded encoding.\n"
     ]
    },
    {
     "data": {
      "text/plain": [
       "{'labels': torch.Size([128]),\n",
       " 'input_ids': torch.Size([128, 40]),\n",
       " 'token_type_ids': torch.Size([128, 40]),\n",
       " 'attention_mask': torch.Size([128, 40])}"
      ]
     },
     "execution_count": 62,
     "metadata": {},
     "output_type": "execute_result"
    }
   ],
   "source": [
    "# inspect the batch\n",
    "for batch in train_dataloader:\n",
    "  break\n",
    "{k: v.shape for k, v in batch.items()}"
   ]
  },
  {
   "cell_type": "markdown",
   "metadata": {
    "id": "KF6Su2p8i-bl"
   },
   "source": [
    "### Creating model"
   ]
  },
  {
   "cell_type": "code",
   "execution_count": 63,
   "metadata": {
    "id": "tTSmPBenPy6B",
    "outputId": "b4712816-b18a-4533-ecfb-738d51009a2e",
    "tags": []
   },
   "outputs": [
    {
     "name": "stderr",
     "output_type": "stream",
     "text": [
      "Some weights of the model checkpoint at bert-base-uncased were not used when initializing BertForSequenceClassification: ['cls.predictions.transform.dense.weight', 'cls.seq_relationship.weight', 'cls.predictions.decoder.weight', 'cls.predictions.transform.LayerNorm.weight', 'cls.seq_relationship.bias', 'cls.predictions.transform.LayerNorm.bias', 'cls.predictions.transform.dense.bias', 'cls.predictions.bias']\n",
      "- This IS expected if you are initializing BertForSequenceClassification from the checkpoint of a model trained on another task or with another architecture (e.g. initializing a BertForSequenceClassification model from a BertForPreTraining model).\n",
      "- This IS NOT expected if you are initializing BertForSequenceClassification from the checkpoint of a model that you expect to be exactly identical (initializing a BertForSequenceClassification model from a BertForSequenceClassification model).\n",
      "Some weights of BertForSequenceClassification were not initialized from the model checkpoint at bert-base-uncased and are newly initialized: ['classifier.weight', 'classifier.bias']\n",
      "You should probably TRAIN this model on a down-stream task to be able to use it for predictions and inference.\n"
     ]
    }
   ],
   "source": [
    "# Load model\n",
    "model = AutoModelForSequenceClassification.from_pretrained(CHECKPOINT, num_labels=5)\n",
    "# model.to(device)"
   ]
  },
  {
   "cell_type": "code",
   "execution_count": 64,
   "metadata": {
    "id": "_J-YDrmlP2aQ",
    "outputId": "5e8c7a3d-19a3-45b0-c3d2-03eef383aa2e"
   },
   "outputs": [
    {
     "name": "stdout",
     "output_type": "stream",
     "text": [
      "tensor(1.6535, grad_fn=<NllLossBackward0>) torch.Size([128, 5])\n"
     ]
    }
   ],
   "source": [
    "# pass one batch to this model to make sure that everything is ok\n",
    "outputs = model(**batch)\n",
    "print(outputs.loss, outputs.logits.shape)"
   ]
  },
  {
   "cell_type": "code",
   "execution_count": 65,
   "metadata": {
    "id": "Yr2TIEfQP6uH",
    "outputId": "62d6ea03-1d7d-4e8f-a7b5-4f611a006025"
   },
   "outputs": [
    {
     "name": "stdout",
     "output_type": "stream",
     "text": [
      "Number of the training steps: 1290\n"
     ]
    }
   ],
   "source": [
    "# Number of training steps\n",
    "num_training_steps = NUM_EPOCHS * len(train_dataloader)\n",
    "\n",
    "# Optimizer\n",
    "optimizer = AdamW(params=model.parameters(), lr=LR)\n",
    "\n",
    "# Set up the learning rate scheduler\n",
    "lr_scheduler = get_scheduler(name=\"linear\", \n",
    "                             optimizer=optimizer, \n",
    "                             num_warmup_steps=0, \n",
    "                             num_training_steps=num_training_steps)\n",
    "\n",
    "print(f'Number of the training steps: {num_training_steps}')"
   ]
  },
  {
   "cell_type": "markdown",
   "metadata": {
    "id": "MebFlOW_jPSE"
   },
   "source": [
    "### Training and evaluating"
   ]
  },
  {
   "cell_type": "code",
   "execution_count": 66,
   "metadata": {
    "id": "YJN3SMBLccho",
    "outputId": "b078b0f0-efc8-4287-f041-316cf798562b"
   },
   "outputs": [
    {
     "name": "stdout",
     "output_type": "stream",
     "text": [
      "cuda\n"
     ]
    }
   ],
   "source": [
    "# Use GPU if it is available\n",
    "device = torch.device(\"cuda\") if torch.cuda.is_available() else torch.device(\"cpu\")\n",
    "model.to(device)\n",
    "print(device)"
   ]
  },
  {
   "cell_type": "code",
   "execution_count": 67,
   "metadata": {
    "id": "joXPzr99QAvZ",
    "outputId": "f6dbdd4c-66ad-481b-ac42-c09f734b0886"
   },
   "outputs": [
    {
     "data": {
      "application/vnd.jupyter.widget-view+json": {
       "model_id": "0228512cbde14017be1643323e2208d6",
       "version_major": 2,
       "version_minor": 0
      },
      "text/plain": [
       "  0%|          | 0/1290 [00:00<?, ?it/s]"
      ]
     },
     "metadata": {},
     "output_type": "display_data"
    },
    {
     "name": "stdout",
     "output_type": "stream",
     "text": [
      "Epoch: 1: {'recall': {'recall': 0.6857837181044958}, 'precision': {'precision': 0.6911753653370201}, 'f1': {'f1': 0.6863729397383005}, 'accuracy': {'accuracy': 0.6857837181044958}}\n",
      "Epoch: 2: {'recall': {'recall': 0.7460510328068044}, 'precision': {'precision': 0.7506192667767584}, 'f1': {'f1': 0.7465890235379715}, 'accuracy': {'accuracy': 0.7460510328068044}}\n",
      "Epoch: 3: {'recall': {'recall': 0.7511543134872418}, 'precision': {'precision': 0.7567861357891276}, 'f1': {'f1': 0.7509130883144394}, 'accuracy': {'accuracy': 0.7511543134872418}}\n",
      "Epoch: 4: {'recall': {'recall': 0.757958687727825}, 'precision': {'precision': 0.7619057217844633}, 'f1': {'f1': 0.7585881019629538}, 'accuracy': {'accuracy': 0.757958687727825}}\n",
      "Epoch: 5: {'recall': {'recall': 0.7523693803159174}, 'precision': {'precision': 0.7559185681133224}, 'f1': {'f1': 0.7531667894133834}, 'accuracy': {'accuracy': 0.7523693803159174}}\n"
     ]
    },
    {
     "data": {
      "image/png": "[encoded data removed]",
      "text/plain": [
       "<Figure size 1000x700 with 1 Axes>"
      ]
     },
     "metadata": {},
     "output_type": "display_data"
    }
   ],
   "source": [
    "recall_metric    = evaluate.load('recall')\n",
    "precision_metric = evaluate.load('precision')\n",
    "f1_metric        = evaluate.load('f1')\n",
    "accuracy_metric  = evaluate.load('accuracy')\n",
    "\n",
    "# Set the progress bar\n",
    "progress_bar = tqdm(range(num_training_steps))\n",
    "\n",
    "best_accuracy = 0\n",
    "prec_list_to_plot = []\n",
    "rec_list_to_plot  = []\n",
    "f1_list_to_plot   = []\n",
    "acc_list_to_plot  = []\n",
    "\n",
    "# Loop through the epochs\n",
    "for epoch in range(1, NUM_EPOCHS + 1):\n",
    "    # Tells the model that we are training the model\n",
    "    model.train()\n",
    "    # Loop through the batches\n",
    "    for batch in train_dataloader:\n",
    "        # Get the batch\n",
    "        batch = {k: v.to(device) for k, v in batch.items()}\n",
    "        # Compute the model output for the batch\n",
    "        outputs = model(**batch)\n",
    "        # Loss computed by the model\n",
    "        loss = outputs.loss\n",
    "        # backpropagates the error to calculate gradients\n",
    "        loss.backward()\n",
    "        # Update the model weights\n",
    "        optimizer.step()\n",
    "        # Learning rate scheduler\n",
    "        lr_scheduler.step()\n",
    "        # Clear the gradients\n",
    "        optimizer.zero_grad()\n",
    "        # Update the progress bar\n",
    "        progress_bar.update(1)\n",
    "\n",
    "    # Evaluation\n",
    "    model.eval()\n",
    "    for batch in val_dataloader:\n",
    "        batch = {k: v.to(device) for k, v in batch.items()}\n",
    "        with torch.no_grad():\n",
    "          outputs = model(**batch)\n",
    "\n",
    "        logits = outputs.logits\n",
    "        predictions = torch.argmax(logits, dim=-1)\n",
    "\n",
    "        recall_metric   .add_batch(predictions=predictions, references=batch['labels'])\n",
    "        precision_metric.add_batch(predictions=predictions, references=batch['labels'])\n",
    "        f1_metric       .add_batch(predictions=predictions, references=batch['labels'])\n",
    "        accuracy_metric .add_batch(predictions=predictions, references=batch['labels'])\n",
    "    \n",
    "    results = {\n",
    "        'recall':    recall_metric   .compute(average='weighted'),\n",
    "        'precision': precision_metric.compute(average='weighted'),\n",
    "        'f1':        f1_metric       .compute(average='weighted'),\n",
    "        'accuracy':  accuracy_metric .compute()\n",
    "    }\n",
    "    \n",
    "    print(\n",
    "        f'Epoch: {epoch}:',\n",
    "        {\n",
    "            key: value\n",
    "            for key, value in results.items()\n",
    "        },\n",
    "    )\n",
    "\n",
    "    prec_list_to_plot.append(results['recall'])\n",
    "    rec_list_to_plot .append(results['precision'])\n",
    "    f1_list_to_plot  .append(results['f1'])\n",
    "    acc_list_to_plot .append(results['accuracy']['accuracy'])\n",
    "\n",
    "    if results['accuracy']['accuracy'] > best_accuracy:\n",
    "        best_accuracy = results['accuracy']['accuracy']\n",
    "        model.save_pretrained('best_model')\n",
    "    \n",
    "model.save_pretrained('final_model')\n",
    "\n",
    "# accuracy plots\n",
    "plt.figure(figsize=(10, 7))\n",
    "plt.plot(\n",
    "    acc_list_to_plot, color='blue',\n",
    "    linestyle='-', label='validataion accuracy'\n",
    ")\n",
    "plt.xlabel('Epochs')\n",
    "plt.ylabel('Accuracy')\n",
    "plt.legend()\n",
    "plt.savefig('accuracy.png')"
   ]
  },
  {
   "cell_type": "code",
   "execution_count": 68,
   "metadata": {
    "id": "D8n4iqPYQHDZ",
    "outputId": "aee6e9c8-569c-43e9-f660-8efb9bff203f"
   },
   "outputs": [
    {
     "data": {
      "application/vnd.jupyter.widget-view+json": {
       "model_id": "78f4cd6e01d84b79a0a807672249fd4f",
       "version_major": 2,
       "version_minor": 0
      },
      "text/plain": [
       "  0%|          | 0/33 [00:00<?, ?it/s]"
      ]
     },
     "metadata": {},
     "output_type": "display_data"
    },
    {
     "name": "stdout",
     "output_type": "stream",
     "text": [
      "{'recall': {'recall': 0.7546161321671526}, 'precision': {'precision': 0.7564266150587623}, 'f1': {'f1': 0.7550595377370306}, 'accuracy': {'accuracy': 0.7546161321671526}}\n"
     ]
    }
   ],
   "source": [
    "progress_bar = tqdm(range(len(test_dataloader)))\n",
    "\n",
    "# Evaluation\n",
    "model.eval()\n",
    "for batch in test_dataloader:\n",
    "    batch = {k: v.to(device) for k, v in batch.items()}\n",
    "    with torch.no_grad():\n",
    "        outputs = model(**batch)\n",
    "\n",
    "    logits = outputs.logits\n",
    "    predictions = torch.argmax(logits, dim=-1)\n",
    "        \n",
    "    recall_metric   .add_batch(predictions=predictions, references=batch['labels'])\n",
    "    precision_metric.add_batch(predictions=predictions, references=batch['labels'])\n",
    "    f1_metric       .add_batch(predictions=predictions, references=batch['labels'])\n",
    "    accuracy_metric .add_batch(predictions=predictions, references=batch['labels'])\n",
    "\n",
    "    progress_bar.update(1)\n",
    "    \n",
    "results = {\n",
    "        'recall':    recall_metric   .compute(average='weighted'),\n",
    "        'precision': precision_metric.compute(average='weighted'),\n",
    "        'f1':        f1_metric       .compute(average='weighted'),\n",
    "        'accuracy':  accuracy_metric .compute()\n",
    "    }\n",
    "    \n",
    "print(\n",
    "        {\n",
    "            key: value\n",
    "            for key, value in results.items()\n",
    "        },\n",
    "    )"
   ]
  },
  {
   "cell_type": "code",
   "execution_count": 71,
   "metadata": {
    "id": "PQ-VFz8DQJSu",
    "outputId": "2f277505-6492-414b-f4fd-241ce29ff684"
   },
   "outputs": [
    {
     "data": {
      "text/plain": [
       "{'input_ids': torch.Size([128, 40]),\n",
       " 'token_type_ids': torch.Size([128, 40]),\n",
       " 'attention_mask': torch.Size([128, 40])}"
      ]
     },
     "execution_count": 71,
     "metadata": {},
     "output_type": "execute_result"
    }
   ],
   "source": [
    "# inspect the batch\n",
    "for batch in subm_dataloader:\n",
    "  break\n",
    "  \n",
    "{k: v.shape for k, v in batch.items()}"
   ]
  },
  {
   "cell_type": "code",
   "execution_count": 72,
   "metadata": {
    "id": "34GmMFKFQOsq",
    "outputId": "c377df75-c448-4019-f044-2f97811eeb80"
   },
   "outputs": [
    {
     "data": {
      "application/vnd.jupyter.widget-view+json": {
       "model_id": "92cd5f72183d4f8590be392d1a245f9f",
       "version_major": 2,
       "version_minor": 0
      },
      "text/plain": [
       "  0%|          | 0/30 [00:00<?, ?it/s]"
      ]
     },
     "metadata": {},
     "output_type": "display_data"
    }
   ],
   "source": [
    "progress_bar = tqdm(range(len(subm_dataloader)))\n",
    "\n",
    "# Submission\n",
    "model.eval()\n",
    "submissions = []\n",
    "\n",
    "for batch in subm_dataloader:\n",
    "    batch = {k: v.to(device) for k, v in batch.items()}\n",
    "    with torch.no_grad():\n",
    "        outputs = model(**batch)\n",
    "\n",
    "    logits = outputs.logits\n",
    "    predictions = torch.argmax(logits, dim=-1)\n",
    "    submissions.append(predictions)\n",
    "\n",
    "    progress_bar.update(1)"
   ]
  },
  {
   "cell_type": "code",
   "execution_count": 73,
   "metadata": {
    "id": "WN6-97-JQvhJ",
    "outputId": "5c425da1-f0de-42be-be97-2e7f8ecc06b6"
   },
   "outputs": [
    {
     "data": {
      "text/html": [
       "<div>\n",
       "<style scoped>\n",
       "    .dataframe tbody tr th:only-of-type {\n",
       "        vertical-align: middle;\n",
       "    }\n",
       "\n",
       "    .dataframe tbody tr th {\n",
       "        vertical-align: top;\n",
       "    }\n",
       "\n",
       "    .dataframe thead th {\n",
       "        text-align: right;\n",
       "    }\n",
       "</style>\n",
       "<table border=\"1\" class=\"dataframe\">\n",
       "  <thead>\n",
       "    <tr style=\"text-align: right;\">\n",
       "      <th></th>\n",
       "      <th>id</th>\n",
       "      <th>Sentiment</th>\n",
       "    </tr>\n",
       "  </thead>\n",
       "  <tbody>\n",
       "    <tr>\n",
       "      <th>0</th>\n",
       "      <td>787bc85b-20d4-46d8-84a0-562a2527f684</td>\n",
       "      <td>Negative</td>\n",
       "    </tr>\n",
       "    <tr>\n",
       "      <th>1</th>\n",
       "      <td>17e934cd-ba94-4d4f-9ac0-ead202abe241</td>\n",
       "      <td>Positive</td>\n",
       "    </tr>\n",
       "    <tr>\n",
       "      <th>2</th>\n",
       "      <td>5914534b-2b0f-4de8-bb8a-e25587697e0d</td>\n",
       "      <td>Extremely Positive</td>\n",
       "    </tr>\n",
       "    <tr>\n",
       "      <th>3</th>\n",
       "      <td>cdf06cfe-29ae-48ee-ac6d-be448103ba45</td>\n",
       "      <td>Negative</td>\n",
       "    </tr>\n",
       "    <tr>\n",
       "      <th>4</th>\n",
       "      <td>aff63979-0256-4fb9-a2d9-86a3d3ca5470</td>\n",
       "      <td>Neutral</td>\n",
       "    </tr>\n",
       "  </tbody>\n",
       "</table>\n",
       "</div>"
      ],
      "text/plain": [
       "                                     id           Sentiment\n",
       "0  787bc85b-20d4-46d8-84a0-562a2527f684            Negative\n",
       "1  17e934cd-ba94-4d4f-9ac0-ead202abe241            Positive\n",
       "2  5914534b-2b0f-4de8-bb8a-e25587697e0d  Extremely Positive\n",
       "3  cdf06cfe-29ae-48ee-ac6d-be448103ba45            Negative\n",
       "4  aff63979-0256-4fb9-a2d9-86a3d3ca5470             Neutral"
      ]
     },
     "execution_count": 73,
     "metadata": {},
     "output_type": "execute_result"
    }
   ],
   "source": [
    "submission = pd.read_csv(filepath_or_buffer='https://raw.githubusercontent.com/wizard339/education/main/misis/nlp/text_classification/sample_submission.csv')\n",
    "submission['Sentiment'] = le.inverse_transform(torch.cat(submissions).cpu())\n",
    "submission.head()"
   ]
  },
  {
   "cell_type": "code",
   "execution_count": 74,
   "metadata": {
    "id": "vYEFT0GyQ0oV"
   },
   "outputs": [],
   "source": [
    "# saving sabmission to '.csv' file\n",
    "submission.to_csv('submission_bert.csv', index=False, header=True)"
   ]
  },
  {
   "cell_type": "markdown",
   "metadata": {
    "id": "kCbBWI62dkXX",
    "jp-MarkdownHeadingCollapsed": true,
    "tags": []
   },
   "source": [
    "# Model 4: Ensemble (HG BERT finetuned on MLM + HG BERT finetuned)"
   ]
  },
  {
   "cell_type": "markdown",
   "metadata": {
    "id": "2bS0ZFHypt82",
    "tags": []
   },
   "source": [
    "## Fine-tuning BERT on the MLM"
   ]
  },
  {
   "cell_type": "code",
   "execution_count": 75,
   "metadata": {
    "id": "jLbHyPI7lpn2"
   },
   "outputs": [],
   "source": [
    "# PARAMETERS\n",
    "CHECKPOINT = \"bert-base-uncased\"\n",
    "CHUNK_SIZE = 128\n",
    "BATCH_SIZE = 32"
   ]
  },
  {
   "cell_type": "markdown",
   "metadata": {
    "id": "HRLdF0wMliYR"
   },
   "source": [
    "### Preprocessing"
   ]
  },
  {
   "cell_type": "code",
   "execution_count": 76,
   "metadata": {
    "colab": {
     "base_uri": "https://localhost:8080/"
    },
    "id": "fAaUMhIdjM0q",
    "outputId": "1e58bab4-d3c4-40dd-b57e-e1bafea03b89"
   },
   "outputs": [
    {
     "name": "stdout",
     "output_type": "stream",
     "text": [
      "Shape of the train_data: (32924, 2)\n",
      "Shape of the val_data: (4115, 2)\n",
      "Shape of the test_data: (4116, 2)\n",
      "Shape of the finel_test_raw_data: (3798, 1)\n"
     ]
    }
   ],
   "source": [
    "# first, we will split data by two samples: train and test in the proportion of 80:20\n",
    "train_data, test_data = train_test_split(train_raw_data, test_size=0.2, stratify=train_raw_data['Sentiment'], random_state=42)\n",
    "# then, we will split test data by two samples: validation and test in the proportion of 50:50 \n",
    "val_data, test_data = train_test_split(test_data, test_size=0.5, stratify=test_data['Sentiment'], random_state=42)\n",
    "\n",
    "print(f'Shape of the train_data: {train_data.shape}')\n",
    "print(f'Shape of the val_data: {val_data.shape}')\n",
    "print(f'Shape of the test_data: {test_data.shape}')\n",
    "print(f'Shape of the finel_test_raw_data: {subm_raw_data.shape}')"
   ]
  },
  {
   "cell_type": "code",
   "execution_count": 77,
   "metadata": {
    "colab": {
     "base_uri": "https://localhost:8080/"
    },
    "id": "l72Gs1pajRhl",
    "outputId": "734dc7dd-011b-49e3-80ed-183c1cbbb7ee"
   },
   "outputs": [
    {
     "name": "stdout",
     "output_type": "stream",
     "text": [
      "Dataset({\n",
      "    features: ['Text', 'Sentiment', '__index_level_0__'],\n",
      "    num_rows: 32924\n",
      "})\n",
      "Dataset({\n",
      "    features: ['Text', 'Sentiment', '__index_level_0__'],\n",
      "    num_rows: 4115\n",
      "})\n",
      "Dataset({\n",
      "    features: ['Text', 'Sentiment', '__index_level_0__'],\n",
      "    num_rows: 4116\n",
      "})\n",
      "Dataset({\n",
      "    features: ['Text'],\n",
      "    num_rows: 3798\n",
      "})\n"
     ]
    }
   ],
   "source": [
    "# Convert pandas dataframe to Hugging Face arrow dataset\n",
    "hg_train_data = Dataset.from_pandas(train_data)\n",
    "hg_val_data   = Dataset.from_pandas(val_data)\n",
    "hg_test_data  = Dataset.from_pandas(test_data)\n",
    "hg_subm_data  = Dataset.from_pandas(subm_raw_data)\n",
    "\n",
    "print(hg_train_data)\n",
    "print(hg_val_data)\n",
    "print(hg_test_data)\n",
    "print(hg_subm_data)"
   ]
  },
  {
   "cell_type": "code",
   "execution_count": 78,
   "metadata": {
    "colab": {
     "base_uri": "https://localhost:8080/"
    },
    "id": "sFWyQvi4dzpt",
    "outputId": "563af3fb-f87f-42c3-865e-041dd4d904fa"
   },
   "outputs": [
    {
     "name": "stderr",
     "output_type": "stream",
     "text": [
      "Some weights of the model checkpoint at bert-base-uncased were not used when initializing BertForMaskedLM: ['cls.seq_relationship.weight', 'cls.seq_relationship.bias']\n",
      "- This IS expected if you are initializing BertForMaskedLM from the checkpoint of a model trained on another task or with another architecture (e.g. initializing a BertForSequenceClassification model from a BertForPreTraining model).\n",
      "- This IS NOT expected if you are initializing BertForMaskedLM from the checkpoint of a model that you expect to be exactly identical (initializing a BertForSequenceClassification model from a BertForSequenceClassification model).\n"
     ]
    }
   ],
   "source": [
    "model = AutoModelForMaskedLM.from_pretrained(CHECKPOINT)"
   ]
  },
  {
   "cell_type": "code",
   "execution_count": 79,
   "metadata": {
    "id": "_noMgnAIdzcR"
   },
   "outputs": [],
   "source": [
    "tokenizer = AutoTokenizer.from_pretrained(CHECKPOINT)"
   ]
  },
  {
   "cell_type": "markdown",
   "metadata": {
    "id": "cDiLwwc_mTYt"
   },
   "source": [
    "Let's look how the tokenizer works:"
   ]
  },
  {
   "cell_type": "code",
   "execution_count": 80,
   "metadata": {
    "colab": {
     "base_uri": "https://localhost:8080/"
    },
    "id": "-VjfTW-edzN-",
    "outputId": "dce19a80-1578-4d2b-e519-04377e11e989"
   },
   "outputs": [
    {
     "name": "stdout",
     "output_type": "stream",
     "text": [
      "'>>> This is a great idea.'\n",
      "'>>> This is a great day.'\n",
      "'>>> This is a great place.'\n",
      "'>>> This is a great time.'\n",
      "'>>> This is a great thing.'\n"
     ]
    }
   ],
   "source": [
    "text = \"This is a great [MASK].\"\n",
    "\n",
    "inputs = tokenizer(text, return_tensors=\"pt\")\n",
    "token_logits = model(**inputs).logits\n",
    "# Find the location of [MASK] and extract its logits\n",
    "mask_token_index = torch.where(inputs[\"input_ids\"] == tokenizer.mask_token_id)[1]\n",
    "mask_token_logits = token_logits[0, mask_token_index, :]\n",
    "# Pick the [MASK] candidates with the highest logits\n",
    "top_5_tokens = torch.topk(mask_token_logits, 5, dim=1).indices[0].tolist()\n",
    "\n",
    "for token in top_5_tokens:\n",
    "    print(f\"'>>> {text.replace(tokenizer.mask_token, tokenizer.decode([token]))}'\")"
   ]
  },
  {
   "cell_type": "code",
   "execution_count": 81,
   "metadata": {
    "colab": {
     "base_uri": "https://localhost:8080/",
     "height": 17,
     "referenced_widgets": [
      "ec3b11d2c6f04cbf81a937163ae872e4",
      "19a37c7d52dd4aadbc0e61dff8b2a4f2",
      "1dc8006b65ef44ab8d04d264e6620996",
      "c23b1ec0399e417b9a3bf96313990ab4",
      "a506777a0bfa45aba1ee8618e74e6c9a",
      "7526b7e11aa24740be56349703af34b0",
      "e006789671bd4419991cd01d57ee8203",
      "bc47a578bf4f451cb3b7ec22dc816ad5",
      "9cdc9a20bf24408fb1f25f9886ef9bbc",
      "2d8d2ab49c7f4d91b466669ee0713dbb",
      "a542a3a7340242438d90400618219578",
      "a22a3e5225384945b84805a85e85b943",
      "1922700251994205a1e5d7570cd8f000",
      "c9982cd952fb4ab38f8c00779a2a550d",
      "2f0e745b9401494180173a5f721e7bca",
      "8229936012734c6e96b40740349deb46",
      "142f1e0610c64df793439e279857dbab",
      "6864d94c415c40c98832ec52852ef108",
      "157734a090b84ebfbb2748a734638e66",
      "111801f2b7eb476bb78aa8542225f435",
      "1d96f74706ff40e39b0acb1ad1fac909",
      "f3f9dafa73f847f3ba4795716de2af55",
      "a05f97458e994052a94fe24ab439a234",
      "11ed170170274d6fb0a3732221fd129d",
      "5aef77a7cf924fd89d824f2267ae22f9",
      "45a2a5a2d5d349e48067ab6cb512f26a",
      "8736add452684423861582ab07814018",
      "b5f66ef1ec99476ca3f40a42e1d8f3fd",
      "91094e57d8e9435d8be15e6f2c3630b5",
      "2c2caa5b8ac64d4b8b760320fab7b3dd",
      "03238e235c5949f892f92a6cbaef0408",
      "ba7555b1a5004de39722b44dde0c2421",
      "c2fd17542dd049ce8ee7a1b4e82c172f",
      "fb452960f3e04283abb9256f10b3e8e3",
      "e90de7a1e846456883a1615894c2df41",
      "0733fb487c3a4d0c884b284a5ffee152",
      "4d384476c377468d84f11c2b06113e1f",
      "ecee8df590874396b4e6c2d0584861ad",
      "d3214623dfe249ab9ecd4044d72d3b35",
      "144cb8f6a6ab45c386cd8cc4ee47c91d",
      "b508d16bea8b44c3a8694e2c952d1f88",
      "df0336a9e9dd4561bbc3d52c0b002ea1",
      "dead5abc9bc94e4294ccd3a5f949e751",
      "dd869d89734447c9aeedff31bb7d87a7"
     ]
    },
    "id": "UUAbNAZre6o2",
    "outputId": "f6d9f1ec-ae4e-4202-e66b-e2be67e8a8e7"
   },
   "outputs": [
    {
     "data": {
      "application/vnd.jupyter.widget-view+json": {
       "model_id": "",
       "version_major": 2,
       "version_minor": 0
      },
      "text/plain": [
       "Map:   0%|          | 0/32924 [00:00<?, ? examples/s]"
      ]
     },
     "metadata": {},
     "output_type": "display_data"
    },
    {
     "data": {
      "application/vnd.jupyter.widget-view+json": {
       "model_id": "",
       "version_major": 2,
       "version_minor": 0
      },
      "text/plain": [
       "Map:   0%|          | 0/4115 [00:00<?, ? examples/s]"
      ]
     },
     "metadata": {},
     "output_type": "display_data"
    },
    {
     "data": {
      "application/vnd.jupyter.widget-view+json": {
       "model_id": "",
       "version_major": 2,
       "version_minor": 0
      },
      "text/plain": [
       "Map:   0%|          | 0/4116 [00:00<?, ? examples/s]"
      ]
     },
     "metadata": {},
     "output_type": "display_data"
    },
    {
     "data": {
      "application/vnd.jupyter.widget-view+json": {
       "model_id": "",
       "version_major": 2,
       "version_minor": 0
      },
      "text/plain": [
       "Map:   0%|          | 0/3798 [00:00<?, ? examples/s]"
      ]
     },
     "metadata": {},
     "output_type": "display_data"
    },
    {
     "name": "stdout",
     "output_type": "stream",
     "text": [
      "Dataset({\n",
      "    features: ['input_ids', 'token_type_ids', 'attention_mask', 'word_ids'],\n",
      "    num_rows: 32924\n",
      "})\n",
      "Dataset({\n",
      "    features: ['input_ids', 'token_type_ids', 'attention_mask', 'word_ids'],\n",
      "    num_rows: 4115\n",
      "})\n",
      "Dataset({\n",
      "    features: ['input_ids', 'token_type_ids', 'attention_mask', 'word_ids'],\n",
      "    num_rows: 4116\n",
      "})\n",
      "Dataset({\n",
      "    features: ['input_ids', 'token_type_ids', 'attention_mask', 'word_ids'],\n",
      "    num_rows: 3798\n",
      "})\n"
     ]
    }
   ],
   "source": [
    "# Funtion to tokenize data\n",
    "def tokenize_function(data):\n",
    "    result = tokenizer(data[\"Text\"],\n",
    "                    #  max_length=40,\n",
    "                     truncation=True)\n",
    "    if tokenizer.is_fast:\n",
    "        result[\"word_ids\"] = [result.word_ids(i) for i in range(len(result[\"input_ids\"]))]\n",
    "    \n",
    "    return result\n",
    "\n",
    "# Tokenize the dataset\n",
    "dataset_train = hg_train_data.map(tokenize_function, batched=True, remove_columns=['__index_level_0__', 'Sentiment', 'Text'])\n",
    "dataset_val   = hg_val_data  .map(tokenize_function, batched=True, remove_columns=['__index_level_0__', 'Sentiment', 'Text'])\n",
    "dataset_test  = hg_test_data .map(tokenize_function, batched=True, remove_columns=['__index_level_0__', 'Sentiment', 'Text'])\n",
    "dataset_subm  = hg_subm_data .map(tokenize_function, batched=True, remove_columns=['Text'])\n",
    "\n",
    "data_collator = DataCollatorWithPadding(tokenizer=tokenizer)\n",
    "\n",
    "# Take a look at the data\n",
    "print(dataset_train)\n",
    "print(dataset_val)\n",
    "print(dataset_test)\n",
    "print(dataset_subm)"
   ]
  },
  {
   "cell_type": "code",
   "execution_count": 82,
   "metadata": {
    "colab": {
     "base_uri": "https://localhost:8080/"
    },
    "id": "mZiZxBj7oEUp",
    "outputId": "053c8d6f-aebc-4bd5-bf12-44b0c70fcccd"
   },
   "outputs": [
    {
     "data": {
      "text/plain": [
       "512"
      ]
     },
     "execution_count": 82,
     "metadata": {},
     "output_type": "execute_result"
    }
   ],
   "source": [
    "tokenizer.model_max_length"
   ]
  },
  {
   "cell_type": "markdown",
   "metadata": {
    "id": "fNJD2cusmtRU"
   },
   "source": [
    "Let's look at the text lengths:"
   ]
  },
  {
   "cell_type": "code",
   "execution_count": 83,
   "metadata": {
    "colab": {
     "base_uri": "https://localhost:8080/"
    },
    "id": "wgXRQP4GoOpC",
    "outputId": "0ff84d9c-9c3e-4841-f510-845f0c3fccfe"
   },
   "outputs": [
    {
     "name": "stdout",
     "output_type": "stream",
     "text": [
      "'>>> Review 0 length: 57'\n",
      "'>>> Review 1 length: 43'\n",
      "'>>> Review 2 length: 33'\n"
     ]
    }
   ],
   "source": [
    "# Slicing produces a list of lists for each feature\n",
    "tokenized_samples = dataset_train[:3]\n",
    "\n",
    "for idx, sample in enumerate(tokenized_samples[\"input_ids\"]):\n",
    "    print(f\"'>>> Review {idx} length: {len(sample)}'\")"
   ]
  },
  {
   "cell_type": "code",
   "execution_count": 84,
   "metadata": {
    "colab": {
     "base_uri": "https://localhost:8080/"
    },
    "id": "7DjuMYE1p5iY",
    "outputId": "dc1fa69e-bbad-4ab5-ab3f-e286283d9876"
   },
   "outputs": [
    {
     "name": "stdout",
     "output_type": "stream",
     "text": [
      "'>>> Concatenated reviews length: 133'\n"
     ]
    }
   ],
   "source": [
    "concatenated_examples = {\n",
    "    k: sum(tokenized_samples[k], []) for k in tokenized_samples.keys()\n",
    "}\n",
    "total_length = len(concatenated_examples[\"input_ids\"])\n",
    "print(f\"'>>> Concatenated reviews length: {total_length}'\")"
   ]
  },
  {
   "cell_type": "code",
   "execution_count": 85,
   "metadata": {
    "colab": {
     "base_uri": "https://localhost:8080/"
    },
    "id": "BiiAbjllq38O",
    "outputId": "31abc610-8af4-4c61-c003-552630326dc2"
   },
   "outputs": [
    {
     "name": "stdout",
     "output_type": "stream",
     "text": [
      "'>>> Chunk length: 128'\n",
      "'>>> Chunk length: 5'\n"
     ]
    }
   ],
   "source": [
    "chunks = {\n",
    "    k: [t[i : i + CHUNK_SIZE] for i in range(0, total_length, CHUNK_SIZE)]\n",
    "    for k, t in concatenated_examples.items()\n",
    "}\n",
    "\n",
    "for chunk in chunks[\"input_ids\"]:\n",
    "    print(f\"'>>> Chunk length: {len(chunk)}'\")"
   ]
  },
  {
   "cell_type": "code",
   "execution_count": 86,
   "metadata": {
    "id": "rhcEyrDErRSr"
   },
   "outputs": [],
   "source": [
    "def group_texts(examples):\n",
    "    # Concatenate all texts\n",
    "    concatenated_examples = {k: sum(examples[k], []) for k in examples.keys()}\n",
    "    # Compute length of concatenated texts\n",
    "    total_length = len(concatenated_examples[list(examples.keys())[0]])\n",
    "    # We drop the last chunk if it's smaller than CHUNK_SIZE\n",
    "    total_length = (total_length // CHUNK_SIZE) * CHUNK_SIZE\n",
    "    # Split by chunks of max_len\n",
    "    result = {\n",
    "        k: [t[i : i + CHUNK_SIZE] for i in range(0, total_length, CHUNK_SIZE)]\n",
    "        for k, t in concatenated_examples.items()\n",
    "    }\n",
    "    # Create a new labels column\n",
    "    result[\"labels\"] = result[\"input_ids\"].copy()\n",
    "    return result"
   ]
  },
  {
   "cell_type": "code",
   "execution_count": 87,
   "metadata": {
    "colab": {
     "base_uri": "https://localhost:8080/",
     "height": 17,
     "referenced_widgets": [
      "73dd1724bc3a4fad875b2e636f575c40",
      "76a2426a8419474bba41d223640ce8bd",
      "1895a03e0809497f8b4a17a97dc77baf",
      "7a5ec45d7272436398cbed44d2fc6c6a",
      "1c30c0360b494356b9decdceb7e64e01",
      "d6d364a2593341eb89ba69d562b22495",
      "a7b74a77e85045de9b517b258e5cb1f7",
      "104083f2c3a346a7a9af35456f3fa2d7",
      "554e3e16803c4985ac05a7c0a20d06a8",
      "b01a8cf787f04c39aa5ed53160d6f227",
      "c15a8cba88e14900820cc8600a541d0b",
      "1a2d1fc5d0e546e695360fec08c4d6b5",
      "dd401128ec1c4272a9dea9e39b5edd62",
      "24baef1463964304bc9b2154e3234113",
      "9b28a01f44154cccb422d98669b176e9",
      "266c75f49e9141699dae88dba4530d40",
      "f2daf9739ef048e9a5392beaaf3c90b5",
      "4700e0447b464512b625ef72805f8f91",
      "b5e6ca3e877b4480878bc2ff8c8db8eb",
      "ccf4ba2347874ff9a6867211427f970d",
      "ce346d68aa6a46fbb10c17dcfcf6193b",
      "a6a331ec3f384bf486a0dd1e25725d34",
      "a217fb3f6c6941bb8a42a60c6bbc74df",
      "ae085809f473413e98038743ddaae2bb",
      "4a3d3e209d744e82b6e057663c36b2af",
      "5be704471e4743778ee4acd520ea959f",
      "9907f87e5bb94ed7955bf1f951f84772",
      "d96b9cbf70b7469c9b4c25213ed3d21c",
      "b4974996e53342f78e6c9f55153ce333",
      "64899269c5674a06b6cc670755e628bb",
      "b76dc0e1d18043b6a204bacb3dd9292a",
      "262df5daa9d94bcb902a9a70668c2ab7",
      "bb9b8de77d884d51811233fe65a87321",
      "153eacbfb16e47a7b243ec09d5e4361c",
      "809c7f9335e841758860c0519cedc460",
      "5fc46932f5974a57b6b57afa8f2e5ba7",
      "0a9785a5725d499687e660d869fe8c91",
      "053134d8730d435dacd8e925af292b17",
      "0ce1955e3f4f4f89a06fd306f4fc0c35",
      "0e7f6472c6c647b3bbcaf0e141e4908a",
      "7eba6220ab7941c7b1d986bf2c361e84",
      "b9fddbe1805e4482b05144437e0dc486",
      "34666e82046c4eccb14f8a70a0ae971e",
      "134009bfc4cc4296b0c9ed53d05a1e00"
     ]
    },
    "id": "95STnp0TrVuo",
    "outputId": "9a941ab5-ebfc-4eac-a52b-2f4b9bd34e8a"
   },
   "outputs": [
    {
     "data": {
      "application/vnd.jupyter.widget-view+json": {
       "model_id": "",
       "version_major": 2,
       "version_minor": 0
      },
      "text/plain": [
       "Map:   0%|          | 0/32924 [00:00<?, ? examples/s]"
      ]
     },
     "metadata": {},
     "output_type": "display_data"
    },
    {
     "data": {
      "application/vnd.jupyter.widget-view+json": {
       "model_id": "",
       "version_major": 2,
       "version_minor": 0
      },
      "text/plain": [
       "Map:   0%|          | 0/4115 [00:00<?, ? examples/s]"
      ]
     },
     "metadata": {},
     "output_type": "display_data"
    },
    {
     "data": {
      "application/vnd.jupyter.widget-view+json": {
       "model_id": "",
       "version_major": 2,
       "version_minor": 0
      },
      "text/plain": [
       "Map:   0%|          | 0/4116 [00:00<?, ? examples/s]"
      ]
     },
     "metadata": {},
     "output_type": "display_data"
    },
    {
     "data": {
      "application/vnd.jupyter.widget-view+json": {
       "model_id": "",
       "version_major": 2,
       "version_minor": 0
      },
      "text/plain": [
       "Map:   0%|          | 0/3798 [00:00<?, ? examples/s]"
      ]
     },
     "metadata": {},
     "output_type": "display_data"
    },
    {
     "name": "stdout",
     "output_type": "stream",
     "text": [
      "Dataset({\n",
      "    features: ['input_ids', 'token_type_ids', 'attention_mask', 'word_ids', 'labels'],\n",
      "    num_rows: 10461\n",
      "})\n",
      "Dataset({\n",
      "    features: ['input_ids', 'token_type_ids', 'attention_mask', 'word_ids', 'labels'],\n",
      "    num_rows: 1304\n",
      "})\n",
      "Dataset({\n",
      "    features: ['input_ids', 'token_type_ids', 'attention_mask', 'word_ids', 'labels'],\n",
      "    num_rows: 1295\n",
      "})\n",
      "Dataset({\n",
      "    features: ['input_ids', 'token_type_ids', 'attention_mask', 'word_ids', 'labels'],\n",
      "    num_rows: 1337\n",
      "})\n"
     ]
    }
   ],
   "source": [
    "lm_train_dataset = dataset_train.map(group_texts, batched=True)\n",
    "lm_val_dataset   = dataset_val  .map(group_texts, batched=True)\n",
    "lm_test_dataset  = dataset_test .map(group_texts, batched=True)\n",
    "lm_subm_dataset  = dataset_subm .map(group_texts, batched=True)\n",
    "\n",
    "print(lm_train_dataset)\n",
    "print(lm_val_dataset)\n",
    "print(lm_test_dataset)\n",
    "print(lm_subm_dataset)"
   ]
  },
  {
   "cell_type": "code",
   "execution_count": 88,
   "metadata": {
    "id": "-fTJu0gfvTsT"
   },
   "outputs": [],
   "source": [
    "data_collator = DataCollatorForLanguageModeling(tokenizer=tokenizer, mlm_probability=0.15)"
   ]
  },
  {
   "cell_type": "code",
   "execution_count": 89,
   "metadata": {
    "colab": {
     "base_uri": "https://localhost:8080/"
    },
    "id": "xJvrlXzIvVU-",
    "outputId": "93380d07-ceb0-4057-96bc-fcd2c885bb9d"
   },
   "outputs": [
    {
     "name": "stderr",
     "output_type": "stream",
     "text": [
      "You're using a BertTokenizerFast tokenizer. Please note that with a fast tokenizer, using the `__call__` method is faster than using a method to encode the text followed by a call to the `pad` method to get a padded encoding.\n"
     ]
    },
    {
     "name": "stdout",
     "output_type": "stream",
     "text": [
      "\n",
      "'>>> [CLS] to [MASK] hoarding rice [MASK] until [MASK] doesnt [MASK] rice, remember to [MASK] it and [MASK] left over food youve hoarded to [MASK] food bank near [MASK]. food waste should not be a [MASK] effect of covid - as a result [MASK] [MASK] panic buying. coronavir [SEP] [CLS] [MASK] your milos [MASK] [MASK] they have complementary wet naps that have hand sanitizer on them [MASK] [MASK] ask for one or two in this timehearted co plata? coronavirus thank you chick fil a [SEP] [CLS] watch this if you are one of those idiots who is [MASK] buying food [MASK] thinkofoth [MASK] coronavirus nurse's despair as panic'\n",
      "\n",
      "'>>> - buyers clear shelves [SEP] [CLS] pivoting [MASK] [MASK] changes is key to digital transformation. gearing up for [MASK] delivery [MASK] & [MASK] ; making it simple with call center & [MASK] ; food parcels. big respect. coronavirus retail omnichannel grocery digitaltransform [MASK] [SEP] [CLS] pm gives an important update on [MASK]virus stayhomesavelives [SEP] [CLS] grocery [MASK] should be [MASK]cing checkout lines [MASK] every other line should be [MASK] at [MASK], covid rule. many [MASK] have checkers backback, forcing customers w / in [MASK] [MASK] frontlinetropicalers - this bad socialdis [MASK]cing bend [MASK]curve [SEP]'\n"
     ]
    }
   ],
   "source": [
    "samples = [lm_train_dataset[i] for i in range(2)]\n",
    "for sample in samples:\n",
    "    _ = sample.pop(\"word_ids\")\n",
    "\n",
    "for chunk in data_collator(samples)[\"input_ids\"]:\n",
    "    print(f\"\\n'>>> {tokenizer.decode(chunk)}'\")"
   ]
  },
  {
   "cell_type": "code",
   "execution_count": 90,
   "metadata": {
    "id": "OKwD0Za1vlSA"
   },
   "outputs": [],
   "source": [
    "wwm_probability = 0.2\n",
    "\n",
    "def whole_word_masking_data_collator(features):\n",
    "    for feature in features:\n",
    "        word_ids = feature.pop(\"word_ids\")\n",
    "\n",
    "        # Create a map between words and corresponding token indices\n",
    "        mapping = collections.defaultdict(list)\n",
    "        current_word_index = -1\n",
    "        current_word = None\n",
    "        for idx, word_id in enumerate(word_ids):\n",
    "            if word_id is not None:\n",
    "                if word_id != current_word:\n",
    "                    current_word = word_id\n",
    "                    current_word_index += 1\n",
    "                mapping[current_word_index].append(idx)\n",
    "\n",
    "        # Randomly mask words\n",
    "        mask = np.random.binomial(1, wwm_probability, (len(mapping),))\n",
    "        input_ids = feature[\"input_ids\"]\n",
    "        labels = feature[\"labels\"]\n",
    "        new_labels = [-100] * len(labels)\n",
    "        for word_id in np.where(mask)[0]:\n",
    "            word_id = word_id.item()\n",
    "            for idx in mapping[word_id]:\n",
    "                new_labels[idx] = labels[idx]\n",
    "                input_ids[idx] = tokenizer.mask_token_id\n",
    "        feature[\"labels\"] = new_labels\n",
    "\n",
    "    return default_data_collator(features)"
   ]
  },
  {
   "cell_type": "code",
   "execution_count": 91,
   "metadata": {
    "colab": {
     "base_uri": "https://localhost:8080/"
    },
    "id": "K5BJfgXQwOFX",
    "outputId": "a2cd63d3-43fc-4aca-ebf9-cb010192fe0e"
   },
   "outputs": [
    {
     "name": "stdout",
     "output_type": "stream",
     "text": [
      "\n",
      "'>>> [CLS] to [MASK] hoarding rice who until now [MASK] [MASK] eat rice, [MASK] [MASK] donate it and all left over food youve hoarded to a food bank near you. food waste should not [MASK] [MASK] [MASK] effect of covid - as a result [MASK] irrational panic buying. coronavir [SEP] [CLS] if [MASK] going [MASK] [MASK] they [MASK] complementary wet naps that have hand [MASK] [MASK] [MASK] on them. so [MASK] for [MASK] or two in [MASK] time! covid? coronavirus thank [MASK] chick fil a [SEP] [CLS] watch this if you [MASK] one of those idiots who is panic buying food. thinkofothers coronavirus nurse's [MASK] as panic'\n",
      "\n",
      "'>>> - buyers clear shelves [SEP] [CLS] pivoting [MASK] [MASK] changes [MASK] [MASK] to [MASK] transformation [MASK] [MASK] [MASK] up for more delivery [MASK] [MASK] amp ; making it simple with [MASK] center & amp ; [MASK] [MASK]. big respect. coronavirus retail omnichannel grocery digitaltransformation [SEP] [CLS] [MASK] gives an important [MASK] on coronavirus stayhomesavelives [SEP] [CLS] grocery stores should be spacing checkout lines [MASK] every other line should be closed at min, covid rule. [MASK] store have checkers [MASK] [MASK] [MASK] forcing customers [MASK] / in radius of [MASK] [MASK] [MASK] [MASK] [MASK] this bad socialdistancing bendthecurve [SEP]'\n"
     ]
    }
   ],
   "source": [
    "samples = [lm_train_dataset[i] for i in range(2)]\n",
    "batch = whole_word_masking_data_collator(samples)\n",
    "\n",
    "for chunk in batch[\"input_ids\"]:\n",
    "    print(f\"\\n'>>> {tokenizer.decode(chunk)}'\")"
   ]
  },
  {
   "cell_type": "markdown",
   "metadata": {
    "id": "S5AAYdJmpDvn",
    "tags": []
   },
   "source": [
    "### Training and evaluation"
   ]
  },
  {
   "cell_type": "code",
   "execution_count": 92,
   "metadata": {
    "id": "3SRq7Swqwib4"
   },
   "outputs": [],
   "source": [
    "# Show the training loss with every epoch\n",
    "logging_steps = len(lm_train_dataset) // BATCH_SIZE\n",
    "model_name = CHECKPOINT.split(\"/\")[-1]\n",
    "\n",
    "training_args = TrainingArguments(\n",
    "    output_dir=f\"{model_name}-finetuned-maskedlm\",\n",
    "    overwrite_output_dir=True,\n",
    "    evaluation_strategy=\"epoch\",\n",
    "    num_train_epochs=5,\n",
    "    learning_rate=2e-5,\n",
    "    weight_decay=0.01,\n",
    "    per_device_train_batch_size=BATCH_SIZE,\n",
    "    per_device_eval_batch_size=BATCH_SIZE,\n",
    "    save_strategy='epoch',\n",
    "    # push_to_hub=True,\n",
    "    fp16=True,\n",
    "    logging_steps=logging_steps,\n",
    "    # remove_unused_columns=False,\n",
    ")"
   ]
  },
  {
   "cell_type": "code",
   "execution_count": 93,
   "metadata": {
    "id": "xS3-YIYXxir1",
    "outputId": "24b1f572-63d5-45b4-a630-f32f5b07dca5"
   },
   "outputs": [
    {
     "name": "stderr",
     "output_type": "stream",
     "text": [
      "Using cuda_amp half precision backend\n"
     ]
    }
   ],
   "source": [
    "trainer = Trainer(\n",
    "    model=model,\n",
    "    args=training_args,\n",
    "    train_dataset=lm_train_dataset,\n",
    "    eval_dataset=lm_val_dataset,\n",
    "    data_collator=data_collator,\n",
    "    tokenizer=tokenizer,\n",
    ")"
   ]
  },
  {
   "cell_type": "code",
   "execution_count": 94,
   "metadata": {
    "colab": {
     "base_uri": "https://localhost:8080/",
     "height": 144
    },
    "id": "W55ywztnxsR1",
    "outputId": "4f0fbbf5-0d69-4f22-c3fc-9b7db3517c93"
   },
   "outputs": [
    {
     "name": "stderr",
     "output_type": "stream",
     "text": [
      "The following columns in the evaluation set don't have a corresponding argument in `BertForMaskedLM.forward` and have been ignored: word_ids. If word_ids are not expected by `BertForMaskedLM.forward`,  you can safely ignore this message.\n",
      "***** Running Evaluation *****\n",
      "  Num examples = 1304\n",
      "  Batch size = 32\n"
     ]
    },
    {
     "data": {
      "text/html": [
       "\n",
       "    <div>\n",
       "      \n",
       "      <progress value='82' max='41' style='width:300px; height:20px; vertical-align: middle;'></progress>\n",
       "      [41/41 01:32]\n",
       "    </div>\n",
       "    "
      ],
      "text/plain": [
       "<IPython.core.display.HTML object>"
      ]
     },
     "metadata": {},
     "output_type": "display_data"
    },
    {
     "name": "stdout",
     "output_type": "stream",
     "text": [
      ">>> Perplexity: 60.93\n"
     ]
    }
   ],
   "source": [
    "eval_results = trainer.evaluate()\n",
    "print(f\">>> Perplexity: {math.exp(eval_results['eval_loss']):.2f}\")"
   ]
  },
  {
   "cell_type": "code",
   "execution_count": 95,
   "metadata": {
    "colab": {
     "base_uri": "https://localhost:8080/"
    },
    "id": "6r-7Wr8mx8zh",
    "outputId": "e996dae4-5fb1-445b-da01-5b0ae15c6553"
   },
   "outputs": [
    {
     "name": "stderr",
     "output_type": "stream",
     "text": [
      "The following columns in the training set don't have a corresponding argument in `BertForMaskedLM.forward` and have been ignored: word_ids. If word_ids are not expected by `BertForMaskedLM.forward`,  you can safely ignore this message.\n",
      "C:\\ProgramData\\Anaconda3\\envs\\pytorch_1\\lib\\site-packages\\transformers\\optimization.py:306: FutureWarning: This implementation of AdamW is deprecated and will be removed in a future version. Use the PyTorch implementation torch.optim.AdamW instead, or set `no_deprecation_warning=True` to disable this warning\n",
      "  warnings.warn(\n",
      "***** Running training *****\n",
      "  Num examples = 10461\n",
      "  Num Epochs = 5\n",
      "  Instantaneous batch size per device = 32\n",
      "  Total train batch size (w. parallel, distributed & accumulation) = 32\n",
      "  Gradient Accumulation steps = 1\n",
      "  Total optimization steps = 1635\n",
      "  Number of trainable parameters = 109514298\n"
     ]
    },
    {
     "data": {
      "text/html": [
       "\n",
       "    <div>\n",
       "      \n",
       "      <progress value='1635' max='1635' style='width:300px; height:20px; vertical-align: middle;'></progress>\n",
       "      [1635/1635 07:28, Epoch 5/5]\n",
       "    </div>\n",
       "    <table border=\"1\" class=\"dataframe\">\n",
       "  <thead>\n",
       " <tr style=\"text-align: left;\">\n",
       "      <th>Epoch</th>\n",
       "      <th>Training Loss</th>\n",
       "      <th>Validation Loss</th>\n",
       "    </tr>\n",
       "  </thead>\n",
       "  <tbody>\n",
       "    <tr>\n",
       "      <td>1</td>\n",
       "      <td>3.250700</td>\n",
       "      <td>2.923913</td>\n",
       "    </tr>\n",
       "    <tr>\n",
       "      <td>2</td>\n",
       "      <td>2.935200</td>\n",
       "      <td>2.777569</td>\n",
       "    </tr>\n",
       "    <tr>\n",
       "      <td>3</td>\n",
       "      <td>2.838400</td>\n",
       "      <td>2.745383</td>\n",
       "    </tr>\n",
       "    <tr>\n",
       "      <td>4</td>\n",
       "      <td>2.791300</td>\n",
       "      <td>2.702296</td>\n",
       "    </tr>\n",
       "    <tr>\n",
       "      <td>5</td>\n",
       "      <td>2.747000</td>\n",
       "      <td>2.710962</td>\n",
       "    </tr>\n",
       "  </tbody>\n",
       "</table><p>"
      ],
      "text/plain": [
       "<IPython.core.display.HTML object>"
      ]
     },
     "metadata": {},
     "output_type": "display_data"
    },
    {
     "name": "stderr",
     "output_type": "stream",
     "text": [
      "The following columns in the evaluation set don't have a corresponding argument in `BertForMaskedLM.forward` and have been ignored: word_ids. If word_ids are not expected by `BertForMaskedLM.forward`,  you can safely ignore this message.\n",
      "***** Running Evaluation *****\n",
      "  Num examples = 1304\n",
      "  Batch size = 32\n",
      "Saving model checkpoint to bert-base-uncased-finetuned-maskedlm\\checkpoint-327\n",
      "Configuration saved in bert-base-uncased-finetuned-maskedlm\\checkpoint-327\\config.json\n",
      "Configuration saved in bert-base-uncased-finetuned-maskedlm\\checkpoint-327\\generation_config.json\n",
      "Model weights saved in bert-base-uncased-finetuned-maskedlm\\checkpoint-327\\pytorch_model.bin\n",
      "tokenizer config file saved in bert-base-uncased-finetuned-maskedlm\\checkpoint-327\\tokenizer_config.json\n",
      "Special tokens file saved in bert-base-uncased-finetuned-maskedlm\\checkpoint-327\\special_tokens_map.json\n",
      "The following columns in the evaluation set don't have a corresponding argument in `BertForMaskedLM.forward` and have been ignored: word_ids. If word_ids are not expected by `BertForMaskedLM.forward`,  you can safely ignore this message.\n",
      "***** Running Evaluation *****\n",
      "  Num examples = 1304\n",
      "  Batch size = 32\n",
      "Saving model checkpoint to bert-base-uncased-finetuned-maskedlm\\checkpoint-654\n",
      "Configuration saved in bert-base-uncased-finetuned-maskedlm\\checkpoint-654\\config.json\n",
      "Configuration saved in bert-base-uncased-finetuned-maskedlm\\checkpoint-654\\generation_config.json\n",
      "Model weights saved in bert-base-uncased-finetuned-maskedlm\\checkpoint-654\\pytorch_model.bin\n",
      "tokenizer config file saved in bert-base-uncased-finetuned-maskedlm\\checkpoint-654\\tokenizer_config.json\n",
      "Special tokens file saved in bert-base-uncased-finetuned-maskedlm\\checkpoint-654\\special_tokens_map.json\n",
      "The following columns in the evaluation set don't have a corresponding argument in `BertForMaskedLM.forward` and have been ignored: word_ids. If word_ids are not expected by `BertForMaskedLM.forward`,  you can safely ignore this message.\n",
      "***** Running Evaluation *****\n",
      "  Num examples = 1304\n",
      "  Batch size = 32\n",
      "Saving model checkpoint to bert-base-uncased-finetuned-maskedlm\\checkpoint-981\n",
      "Configuration saved in bert-base-uncased-finetuned-maskedlm\\checkpoint-981\\config.json\n",
      "Configuration saved in bert-base-uncased-finetuned-maskedlm\\checkpoint-981\\generation_config.json\n",
      "Model weights saved in bert-base-uncased-finetuned-maskedlm\\checkpoint-981\\pytorch_model.bin\n",
      "tokenizer config file saved in bert-base-uncased-finetuned-maskedlm\\checkpoint-981\\tokenizer_config.json\n",
      "Special tokens file saved in bert-base-uncased-finetuned-maskedlm\\checkpoint-981\\special_tokens_map.json\n",
      "The following columns in the evaluation set don't have a corresponding argument in `BertForMaskedLM.forward` and have been ignored: word_ids. If word_ids are not expected by `BertForMaskedLM.forward`,  you can safely ignore this message.\n",
      "***** Running Evaluation *****\n",
      "  Num examples = 1304\n",
      "  Batch size = 32\n",
      "Saving model checkpoint to bert-base-uncased-finetuned-maskedlm\\checkpoint-1308\n",
      "Configuration saved in bert-base-uncased-finetuned-maskedlm\\checkpoint-1308\\config.json\n",
      "Configuration saved in bert-base-uncased-finetuned-maskedlm\\checkpoint-1308\\generation_config.json\n",
      "Model weights saved in bert-base-uncased-finetuned-maskedlm\\checkpoint-1308\\pytorch_model.bin\n",
      "tokenizer config file saved in bert-base-uncased-finetuned-maskedlm\\checkpoint-1308\\tokenizer_config.json\n",
      "Special tokens file saved in bert-base-uncased-finetuned-maskedlm\\checkpoint-1308\\special_tokens_map.json\n",
      "The following columns in the evaluation set don't have a corresponding argument in `BertForMaskedLM.forward` and have been ignored: word_ids. If word_ids are not expected by `BertForMaskedLM.forward`,  you can safely ignore this message.\n",
      "***** Running Evaluation *****\n",
      "  Num examples = 1304\n",
      "  Batch size = 32\n",
      "Saving model checkpoint to bert-base-uncased-finetuned-maskedlm\\checkpoint-1635\n",
      "Configuration saved in bert-base-uncased-finetuned-maskedlm\\checkpoint-1635\\config.json\n",
      "Configuration saved in bert-base-uncased-finetuned-maskedlm\\checkpoint-1635\\generation_config.json\n",
      "Model weights saved in bert-base-uncased-finetuned-maskedlm\\checkpoint-1635\\pytorch_model.bin\n",
      "tokenizer config file saved in bert-base-uncased-finetuned-maskedlm\\checkpoint-1635\\tokenizer_config.json\n",
      "Special tokens file saved in bert-base-uncased-finetuned-maskedlm\\checkpoint-1635\\special_tokens_map.json\n",
      "\n",
      "\n",
      "Training completed. Do not forget to share your model on huggingface.co/models =)\n",
      "\n",
      "\n"
     ]
    },
    {
     "data": {
      "text/plain": [
       "TrainOutput(global_step=1635, training_loss=2.912084509473328, metrics={'train_runtime': 448.6523, 'train_samples_per_second': 116.582, 'train_steps_per_second': 3.644, 'total_flos': 3441731933376000.0, 'train_loss': 2.912084509473328, 'epoch': 5.0})"
      ]
     },
     "execution_count": 95,
     "metadata": {},
     "output_type": "execute_result"
    }
   ],
   "source": [
    "trainer.train()"
   ]
  },
  {
   "cell_type": "code",
   "execution_count": 97,
   "metadata": {
    "id": "W5MrqMrnyAYE",
    "outputId": "ddcc2495-7d79-4362-82d0-aa6448f70b70"
   },
   "outputs": [
    {
     "name": "stderr",
     "output_type": "stream",
     "text": [
      "The following columns in the evaluation set don't have a corresponding argument in `BertForMaskedLM.forward` and have been ignored: word_ids. If word_ids are not expected by `BertForMaskedLM.forward`,  you can safely ignore this message.\n",
      "***** Running Evaluation *****\n",
      "  Num examples = 1304\n",
      "  Batch size = 32\n"
     ]
    },
    {
     "name": "stdout",
     "output_type": "stream",
     "text": [
      ">>> Perplexity: 14.58\n"
     ]
    }
   ],
   "source": [
    "eval_results = trainer.evaluate()\n",
    "print(f\">>> Perplexity: {math.exp(eval_results['eval_loss']):.2f}\")"
   ]
  },
  {
   "cell_type": "markdown",
   "metadata": {
    "id": "-B2zbOsaPcg_"
   },
   "source": []
  },
  {
   "cell_type": "markdown",
   "metadata": {
    "id": "3NuBl6n4_04d",
    "tags": []
   },
   "source": [
    "## Fine-tuning BERT on the classificator"
   ]
  },
  {
   "cell_type": "code",
   "execution_count": 98,
   "metadata": {
    "id": "SsYXj9f1prnY"
   },
   "outputs": [],
   "source": [
    "# PARAMETERS\n",
    "CHECKPOINT = Path('bert-base-uncased-finetuned-maskedlm', 'checkpoint-1635')\n",
    "BATCH_SIZE = 128\n",
    "NUM_EPOCHS = 5\n",
    "LR         = 3e-5"
   ]
  },
  {
   "cell_type": "markdown",
   "metadata": {
    "id": "sn8S9NryqLKM"
   },
   "source": [
    "### Preprocessing"
   ]
  },
  {
   "cell_type": "code",
   "execution_count": 99,
   "metadata": {
    "colab": {
     "base_uri": "https://localhost:8080/"
    },
    "id": "jOBbDigi_7IT",
    "outputId": "15caa3ee-f1c9-44a0-f1d5-e28238bf66b6"
   },
   "outputs": [
    {
     "name": "stdout",
     "output_type": "stream",
     "text": [
      "Shape of the train_data: (32924, 2)\n",
      "Shape of the val_data: (4115, 2)\n",
      "Shape of the test_data: (4116, 2)\n",
      "Shape of the finel_test_raw_data: (3798, 1)\n"
     ]
    }
   ],
   "source": [
    "# first, we will split data by two samples: train and test in the proportion of 80:20\n",
    "train_data, test_data = train_test_split(train_raw_data, test_size=0.2, stratify=train_raw_data['Sentiment'], random_state=42)\n",
    "# then, we will split test data by two samples: validation and test in the proportion of 50:50 \n",
    "val_data, test_data = train_test_split(test_data, test_size=0.5, stratify=test_data['Sentiment'], random_state=42)\n",
    "\n",
    "print(f'Shape of the train_data: {train_data.shape}')\n",
    "print(f'Shape of the val_data: {val_data.shape}')\n",
    "print(f'Shape of the test_data: {test_data.shape}')\n",
    "print(f'Shape of the finel_test_raw_data: {subm_raw_data.shape}')"
   ]
  },
  {
   "cell_type": "code",
   "execution_count": 100,
   "metadata": {
    "colab": {
     "base_uri": "https://localhost:8080/"
    },
    "id": "RIyWgm2v_7IU",
    "outputId": "d7d62015-62f3-424b-a031-3dbd0aa789b6"
   },
   "outputs": [
    {
     "name": "stdout",
     "output_type": "stream",
     "text": [
      "Dataset({\n",
      "    features: ['Text', 'Sentiment', '__index_level_0__'],\n",
      "    num_rows: 32924\n",
      "})\n",
      "Dataset({\n",
      "    features: ['Text', 'Sentiment', '__index_level_0__'],\n",
      "    num_rows: 4115\n",
      "})\n",
      "Dataset({\n",
      "    features: ['Text', 'Sentiment', '__index_level_0__'],\n",
      "    num_rows: 4116\n",
      "})\n",
      "Dataset({\n",
      "    features: ['Text'],\n",
      "    num_rows: 3798\n",
      "})\n"
     ]
    }
   ],
   "source": [
    "# Convert pandas dataframe to Hugging Face arrow dataset\n",
    "hg_train_data = Dataset.from_pandas(train_data)\n",
    "hg_val_data   = Dataset.from_pandas(val_data)\n",
    "hg_test_data  = Dataset.from_pandas(test_data)\n",
    "hg_subm_data  = Dataset.from_pandas(subm_raw_data)\n",
    "\n",
    "print(hg_train_data)\n",
    "print(hg_val_data)\n",
    "print(hg_test_data)\n",
    "print(hg_subm_data)"
   ]
  },
  {
   "cell_type": "code",
   "execution_count": 101,
   "metadata": {
    "id": "RlV-aQ8X_7IU",
    "outputId": "e1b9a012-0a46-4137-9a93-8859084b6474"
   },
   "outputs": [
    {
     "name": "stderr",
     "output_type": "stream",
     "text": [
      "loading file vocab.txt\n",
      "loading file tokenizer.json\n",
      "loading file added_tokens.json\n",
      "loading file special_tokens_map.json\n",
      "loading file tokenizer_config.json\n"
     ]
    },
    {
     "data": {
      "text/plain": [
       "BertTokenizerFast(name_or_path='bert-base-uncased-finetuned-maskedlm\\checkpoint-1635', vocab_size=30522, model_max_length=512, is_fast=True, padding_side='right', truncation_side='right', special_tokens={'unk_token': '[UNK]', 'sep_token': '[SEP]', 'pad_token': '[PAD]', 'cls_token': '[CLS]', 'mask_token': '[MASK]'})"
      ]
     },
     "execution_count": 101,
     "metadata": {},
     "output_type": "execute_result"
    }
   ],
   "source": [
    "# Tokenizer from a pretrained model\n",
    "tokenizer = AutoTokenizer.from_pretrained(CHECKPOINT)\n",
    "\n",
    "# Take a look at the tokenizer\n",
    "tokenizer"
   ]
  },
  {
   "cell_type": "code",
   "execution_count": 102,
   "metadata": {
    "id": "gGkL8jpT_7IU",
    "outputId": "107e2d0e-10ef-4429-b479-8f20ed24422d"
   },
   "outputs": [
    {
     "name": "stdout",
     "output_type": "stream",
     "text": [
      "The unknown token is [UNK] and the ID for the unknown token is 100.\n",
      "The seperator token is [SEP] and the ID for the seperator token is 102.\n",
      "The pad token is [PAD] and the ID for the pad token is 0.\n",
      "The sentence level classification token is [CLS] and the ID for the classification token is 101.\n",
      "The mask token is [MASK] and the ID for the mask token is 103.\n"
     ]
    }
   ],
   "source": [
    "# Mapping between special tokens and their IDs.\n",
    "print(f'The unknown token is {tokenizer.unk_token} and the ID for the unknown token is {tokenizer.unk_token_id}.')\n",
    "print(f'The seperator token is {tokenizer.sep_token} and the ID for the seperator token is {tokenizer.sep_token_id}.')\n",
    "print(f'The pad token is {tokenizer.pad_token} and the ID for the pad token is {tokenizer.pad_token_id}.')\n",
    "print(f'The sentence level classification token is {tokenizer.cls_token} and the ID for the classification token is {tokenizer.cls_token_id}.')\n",
    "print(f'The mask token is {tokenizer.mask_token} and the ID for the mask token is {tokenizer.mask_token_id}.')"
   ]
  },
  {
   "cell_type": "code",
   "execution_count": 103,
   "metadata": {
    "id": "uO_trLVt_7IV",
    "outputId": "69b151db-9307-4ce9-de81-e9c858b68c9a"
   },
   "outputs": [
    {
     "data": {
      "application/vnd.jupyter.widget-view+json": {
       "model_id": "",
       "version_major": 2,
       "version_minor": 0
      },
      "text/plain": [
       "Map:   0%|          | 0/32924 [00:00<?, ? examples/s]"
      ]
     },
     "metadata": {},
     "output_type": "display_data"
    },
    {
     "data": {
      "application/vnd.jupyter.widget-view+json": {
       "model_id": "",
       "version_major": 2,
       "version_minor": 0
      },
      "text/plain": [
       "Map:   0%|          | 0/4115 [00:00<?, ? examples/s]"
      ]
     },
     "metadata": {},
     "output_type": "display_data"
    },
    {
     "data": {
      "application/vnd.jupyter.widget-view+json": {
       "model_id": "",
       "version_major": 2,
       "version_minor": 0
      },
      "text/plain": [
       "Map:   0%|          | 0/4116 [00:00<?, ? examples/s]"
      ]
     },
     "metadata": {},
     "output_type": "display_data"
    },
    {
     "data": {
      "application/vnd.jupyter.widget-view+json": {
       "model_id": "",
       "version_major": 2,
       "version_minor": 0
      },
      "text/plain": [
       "Map:   0%|          | 0/3798 [00:00<?, ? examples/s]"
      ]
     },
     "metadata": {},
     "output_type": "display_data"
    },
    {
     "name": "stdout",
     "output_type": "stream",
     "text": [
      "Dataset({\n",
      "    features: ['Text', 'Sentiment', '__index_level_0__', 'input_ids', 'token_type_ids', 'attention_mask'],\n",
      "    num_rows: 32924\n",
      "})\n",
      "Dataset({\n",
      "    features: ['Text', 'Sentiment', '__index_level_0__', 'input_ids', 'token_type_ids', 'attention_mask'],\n",
      "    num_rows: 4115\n",
      "})\n",
      "Dataset({\n",
      "    features: ['Text', 'Sentiment', '__index_level_0__', 'input_ids', 'token_type_ids', 'attention_mask'],\n",
      "    num_rows: 4116\n",
      "})\n",
      "Dataset({\n",
      "    features: ['Text', 'input_ids', 'token_type_ids', 'attention_mask'],\n",
      "    num_rows: 3798\n",
      "})\n"
     ]
    }
   ],
   "source": [
    "# Funtion to tokenize data\n",
    "def tokenize_function(data):\n",
    "    return tokenizer(data[\"Text\"],\n",
    "                     max_length=40,\n",
    "                     truncation=True)\n",
    "\n",
    "# Tokenize the dataset\n",
    "dataset_train = hg_train_data.map(tokenize_function, batched=True)\n",
    "dataset_val   = hg_val_data  .map(tokenize_function, batched=True)\n",
    "dataset_test  = hg_test_data .map(tokenize_function, batched=True)\n",
    "dataset_subm  = hg_subm_data .map(tokenize_function, batched=True)\n",
    "\n",
    "data_collator = DataCollatorWithPadding(tokenizer=tokenizer)\n",
    "\n",
    "# Take a look at the data\n",
    "print(dataset_train)\n",
    "print(dataset_val)\n",
    "print(dataset_test)\n",
    "print(dataset_subm)"
   ]
  },
  {
   "cell_type": "code",
   "execution_count": 104,
   "metadata": {
    "id": "guzAWVUD_7IV",
    "outputId": "ba4e7aa1-f47f-4b1d-8f7d-8d2715ee355a"
   },
   "outputs": [
    {
     "name": "stdout",
     "output_type": "stream",
     "text": [
      "Dataset({\n",
      "    features: ['labels', 'input_ids', 'token_type_ids', 'attention_mask'],\n",
      "    num_rows: 32924\n",
      "})\n",
      "Dataset({\n",
      "    features: ['labels', 'input_ids', 'token_type_ids', 'attention_mask'],\n",
      "    num_rows: 4115\n",
      "})\n",
      "Dataset({\n",
      "    features: ['labels', 'input_ids', 'token_type_ids', 'attention_mask'],\n",
      "    num_rows: 4116\n",
      "})\n",
      "Dataset({\n",
      "    features: ['input_ids', 'token_type_ids', 'attention_mask'],\n",
      "    num_rows: 3798\n",
      "})\n"
     ]
    }
   ],
   "source": [
    "# Remove the review and index columns because it will not be used in the model\n",
    "dataset_train = dataset_train.remove_columns([\"Text\", \"__index_level_0__\"])\n",
    "dataset_val = dataset_val.remove_columns([\"Text\", \"__index_level_0__\"])\n",
    "dataset_test = dataset_test.remove_columns([\"Text\", \"__index_level_0__\"])\n",
    "dataset_subm = dataset_subm.remove_columns([\"Text\"])\n",
    "\n",
    "# Rename label to labels because the model expects the name labels\n",
    "dataset_train = dataset_train.rename_column(\"Sentiment\", \"labels\")\n",
    "dataset_val = dataset_val.rename_column(\"Sentiment\", \"labels\")\n",
    "dataset_test = dataset_test.rename_column(\"Sentiment\", \"labels\")\n",
    "\n",
    "# Change the format to PyTorch tensors\n",
    "dataset_train.set_format(\"torch\")\n",
    "dataset_val.set_format(\"torch\")\n",
    "dataset_test.set_format(\"torch\")\n",
    "dataset_subm.set_format(\"torch\")\n",
    "\n",
    "# Take a look at the data\n",
    "print(dataset_train)\n",
    "print(dataset_val)\n",
    "print(dataset_test)\n",
    "print(dataset_subm)"
   ]
  },
  {
   "cell_type": "code",
   "execution_count": 105,
   "metadata": {
    "id": "B0oo9Pm4_7IW"
   },
   "outputs": [],
   "source": [
    "# Empty cache\n",
    "torch.cuda.empty_cache()\n",
    "\n",
    "# DataLoader\n",
    "train_dataloader = DataLoader(dataset=dataset_train, batch_size=BATCH_SIZE, collate_fn=data_collator, shuffle=True)\n",
    "val_dataloader   = DataLoader(dataset=dataset_val,   batch_size=BATCH_SIZE, collate_fn=data_collator)\n",
    "test_dataloader  = DataLoader(dataset=dataset_test,  batch_size=BATCH_SIZE, collate_fn=data_collator)\n",
    "subm_dataloader  = DataLoader(dataset=dataset_subm,  batch_size=BATCH_SIZE, collate_fn=data_collator)"
   ]
  },
  {
   "cell_type": "code",
   "execution_count": 106,
   "metadata": {
    "id": "LXpFz5Up_7IW",
    "outputId": "35d45dd0-02bd-4842-dc62-1318510fa478"
   },
   "outputs": [
    {
     "name": "stderr",
     "output_type": "stream",
     "text": [
      "You're using a BertTokenizerFast tokenizer. Please note that with a fast tokenizer, using the `__call__` method is faster than using a method to encode the text followed by a call to the `pad` method to get a padded encoding.\n"
     ]
    },
    {
     "data": {
      "text/plain": [
       "{'labels': torch.Size([128]),\n",
       " 'input_ids': torch.Size([128, 40]),\n",
       " 'token_type_ids': torch.Size([128, 40]),\n",
       " 'attention_mask': torch.Size([128, 40])}"
      ]
     },
     "execution_count": 106,
     "metadata": {},
     "output_type": "execute_result"
    }
   ],
   "source": [
    "# inspect the batch\n",
    "for batch in train_dataloader:\n",
    "  break\n",
    "{k: v.shape for k, v in batch.items()}"
   ]
  },
  {
   "cell_type": "markdown",
   "metadata": {
    "id": "mm8F0Ejsqr9r"
   },
   "source": [
    "### Creating model"
   ]
  },
  {
   "cell_type": "code",
   "execution_count": 107,
   "metadata": {
    "id": "9hUL-3T2_7IX",
    "outputId": "aa3374a6-9f8e-4af0-e21e-071ea3c7eb6f",
    "tags": []
   },
   "outputs": [
    {
     "name": "stderr",
     "output_type": "stream",
     "text": [
      "loading configuration file bert-base-uncased-finetuned-maskedlm\\checkpoint-1635\\config.json\n",
      "Model config BertConfig {\n",
      "  \"_name_or_path\": \"bert-base-uncased-finetuned-maskedlm\\\\checkpoint-1635\",\n",
      "  \"architectures\": [\n",
      "    \"BertForMaskedLM\"\n",
      "  ],\n",
      "  \"attention_probs_dropout_prob\": 0.1,\n",
      "  \"classifier_dropout\": null,\n",
      "  \"gradient_checkpointing\": false,\n",
      "  \"hidden_act\": \"gelu\",\n",
      "  \"hidden_dropout_prob\": 0.1,\n",
      "  \"hidden_size\": 768,\n",
      "  \"id2label\": {\n",
      "    \"0\": \"LABEL_0\",\n",
      "    \"1\": \"LABEL_1\",\n",
      "    \"2\": \"LABEL_2\",\n",
      "    \"3\": \"LABEL_3\",\n",
      "    \"4\": \"LABEL_4\"\n",
      "  },\n",
      "  \"initializer_range\": 0.02,\n",
      "  \"intermediate_size\": 3072,\n",
      "  \"label2id\": {\n",
      "    \"LABEL_0\": 0,\n",
      "    \"LABEL_1\": 1,\n",
      "    \"LABEL_2\": 2,\n",
      "    \"LABEL_3\": 3,\n",
      "    \"LABEL_4\": 4\n",
      "  },\n",
      "  \"layer_norm_eps\": 1e-12,\n",
      "  \"max_position_embeddings\": 512,\n",
      "  \"model_type\": \"bert\",\n",
      "  \"num_attention_heads\": 12,\n",
      "  \"num_hidden_layers\": 12,\n",
      "  \"pad_token_id\": 0,\n",
      "  \"position_embedding_type\": \"absolute\",\n",
      "  \"torch_dtype\": \"float32\",\n",
      "  \"transformers_version\": \"4.26.1\",\n",
      "  \"type_vocab_size\": 2,\n",
      "  \"use_cache\": true,\n",
      "  \"vocab_size\": 30522\n",
      "}\n",
      "\n",
      "loading weights file bert-base-uncased-finetuned-maskedlm\\checkpoint-1635\\pytorch_model.bin\n",
      "Some weights of the model checkpoint at bert-base-uncased-finetuned-maskedlm\\checkpoint-1635 were not used when initializing BertForSequenceClassification: ['cls.predictions.transform.dense.weight', 'cls.predictions.decoder.bias', 'cls.predictions.decoder.weight', 'cls.predictions.transform.LayerNorm.weight', 'cls.predictions.transform.LayerNorm.bias', 'cls.predictions.transform.dense.bias', 'cls.predictions.bias']\n",
      "- This IS expected if you are initializing BertForSequenceClassification from the checkpoint of a model trained on another task or with another architecture (e.g. initializing a BertForSequenceClassification model from a BertForPreTraining model).\n",
      "- This IS NOT expected if you are initializing BertForSequenceClassification from the checkpoint of a model that you expect to be exactly identical (initializing a BertForSequenceClassification model from a BertForSequenceClassification model).\n",
      "Some weights of BertForSequenceClassification were not initialized from the model checkpoint at bert-base-uncased-finetuned-maskedlm\\checkpoint-1635 and are newly initialized: ['bert.pooler.dense.weight', 'bert.pooler.dense.bias', 'classifier.weight', 'classifier.bias']\n",
      "You should probably TRAIN this model on a down-stream task to be able to use it for predictions and inference.\n"
     ]
    }
   ],
   "source": [
    "# Load model\n",
    "model = AutoModelForSequenceClassification.from_pretrained(CHECKPOINT, num_labels=5)\n",
    "# model.to(device)"
   ]
  },
  {
   "cell_type": "code",
   "execution_count": 108,
   "metadata": {
    "id": "7Nb81lxf_7IX",
    "outputId": "5e8c7a3d-19a3-45b0-c3d2-03eef383aa2e"
   },
   "outputs": [
    {
     "name": "stdout",
     "output_type": "stream",
     "text": [
      "tensor(1.6142, grad_fn=<NllLossBackward0>) torch.Size([128, 5])\n"
     ]
    }
   ],
   "source": [
    "# pass one batch to this model to make sure that everything is ok\n",
    "outputs = model(**batch)\n",
    "print(outputs.loss, outputs.logits.shape)"
   ]
  },
  {
   "cell_type": "markdown",
   "metadata": {
    "id": "doyuM0jnqmI2"
   },
   "source": [
    "### Training end evaluation"
   ]
  },
  {
   "cell_type": "code",
   "execution_count": 109,
   "metadata": {
    "id": "9_AgFJu1_7IZ",
    "outputId": "62d6ea03-1d7d-4e8f-a7b5-4f611a006025"
   },
   "outputs": [
    {
     "name": "stdout",
     "output_type": "stream",
     "text": [
      "Number of the training steps: 1290\n"
     ]
    }
   ],
   "source": [
    "# Number of training steps\n",
    "num_training_steps = NUM_EPOCHS * len(train_dataloader)\n",
    "\n",
    "# Optimizer\n",
    "optimizer = AdamW(params=model.parameters(), lr=LR)\n",
    "\n",
    "# Set up the learning rate scheduler\n",
    "lr_scheduler = get_scheduler(name=\"linear\", \n",
    "                             optimizer=optimizer, \n",
    "                             num_warmup_steps=0, \n",
    "                             num_training_steps=num_training_steps)\n",
    "\n",
    "print(f'Number of the training steps: {num_training_steps}')"
   ]
  },
  {
   "cell_type": "code",
   "execution_count": 110,
   "metadata": {
    "id": "c_ZeOmf__7Ia",
    "outputId": "b078b0f0-efc8-4287-f041-316cf798562b"
   },
   "outputs": [
    {
     "name": "stdout",
     "output_type": "stream",
     "text": [
      "cuda\n"
     ]
    }
   ],
   "source": [
    "# Use GPU if it is available\n",
    "device = torch.device(\"cuda\") if torch.cuda.is_available() else torch.device(\"cpu\")\n",
    "model.to(device)\n",
    "print(device)"
   ]
  },
  {
   "cell_type": "code",
   "execution_count": 111,
   "metadata": {
    "id": "YmjRADEe_7Ia",
    "outputId": "f6dbdd4c-66ad-481b-ac42-c09f734b0886"
   },
   "outputs": [
    {
     "data": {
      "application/vnd.jupyter.widget-view+json": {
       "model_id": "90d1bd6dc239494fac83b4cfb5eade95",
       "version_major": 2,
       "version_minor": 0
      },
      "text/plain": [
       "  0%|          | 0/1290 [00:00<?, ?it/s]"
      ]
     },
     "metadata": {},
     "output_type": "display_data"
    },
    {
     "name": "stderr",
     "output_type": "stream",
     "text": [
      "Configuration saved in ./bert-base-uncased-finetuned-mlm-clf/best_model\\config.json\n"
     ]
    },
    {
     "name": "stdout",
     "output_type": "stream",
     "text": [
      "Epoch: 1: {'recall': {'recall': 0.7032806804374241}, 'precision': {'precision': 0.7226515324229202}, 'f1': {'f1': 0.7034569985417394}, 'accuracy': {'accuracy': 0.7032806804374241}}\n"
     ]
    },
    {
     "name": "stderr",
     "output_type": "stream",
     "text": [
      "Model weights saved in ./bert-base-uncased-finetuned-mlm-clf/best_model\\pytorch_model.bin\n",
      "Configuration saved in ./bert-base-uncased-finetuned-mlm-clf/best_model\\config.json\n"
     ]
    },
    {
     "name": "stdout",
     "output_type": "stream",
     "text": [
      "Epoch: 2: {'recall': {'recall': 0.72636695018226}, 'precision': {'precision': 0.7349183698102868}, 'f1': {'f1': 0.7274133596511337}, 'accuracy': {'accuracy': 0.72636695018226}}\n"
     ]
    },
    {
     "name": "stderr",
     "output_type": "stream",
     "text": [
      "Model weights saved in ./bert-base-uncased-finetuned-mlm-clf/best_model\\pytorch_model.bin\n",
      "Configuration saved in ./bert-base-uncased-finetuned-mlm-clf/best_model\\config.json\n"
     ]
    },
    {
     "name": "stdout",
     "output_type": "stream",
     "text": [
      "Epoch: 3: {'recall': {'recall': 0.7567436208991495}, 'precision': {'precision': 0.7633258868922246}, 'f1': {'f1': 0.7579194159752348}, 'accuracy': {'accuracy': 0.7567436208991495}}\n"
     ]
    },
    {
     "name": "stderr",
     "output_type": "stream",
     "text": [
      "Model weights saved in ./bert-base-uncased-finetuned-mlm-clf/best_model\\pytorch_model.bin\n",
      "Configuration saved in ./bert-base-uncased-finetuned-mlm-clf/best_model\\config.json\n"
     ]
    },
    {
     "name": "stdout",
     "output_type": "stream",
     "text": [
      "Epoch: 4: {'recall': {'recall': 0.7572296476306197}, 'precision': {'precision': 0.7605246216855858}, 'f1': {'f1': 0.758125113779294}, 'accuracy': {'accuracy': 0.7572296476306197}}\n"
     ]
    },
    {
     "name": "stderr",
     "output_type": "stream",
     "text": [
      "Model weights saved in ./bert-base-uncased-finetuned-mlm-clf/best_model\\pytorch_model.bin\n",
      "Configuration saved in ./bert-base-uncased-finetuned-mlm-clf/best_model\\config.json\n"
     ]
    },
    {
     "name": "stdout",
     "output_type": "stream",
     "text": [
      "Epoch: 5: {'recall': {'recall': 0.7574726609963548}, 'precision': {'precision': 0.7604696648535126}, 'f1': {'f1': 0.75828061519453}, 'accuracy': {'accuracy': 0.7574726609963548}}\n"
     ]
    },
    {
     "name": "stderr",
     "output_type": "stream",
     "text": [
      "Model weights saved in ./bert-base-uncased-finetuned-mlm-clf/best_model\\pytorch_model.bin\n",
      "Configuration saved in ./bert-base-uncased-finetuned-mlm-clf/final_model\\config.json\n",
      "Model weights saved in ./bert-base-uncased-finetuned-mlm-clf/final_model\\pytorch_model.bin\n"
     ]
    },
    {
     "data": {
      "image/png": "[encoded data removed]",
      "text/plain": [
       "<Figure size 1000x700 with 1 Axes>"
      ]
     },
     "metadata": {},
     "output_type": "display_data"
    }
   ],
   "source": [
    "recall_metric    = evaluate.load('recall')\n",
    "precision_metric = evaluate.load('precision')\n",
    "f1_metric        = evaluate.load('f1')\n",
    "accuracy_metric  = evaluate.load('accuracy')\n",
    "\n",
    "# Set the progress bar\n",
    "progress_bar = tqdm(range(num_training_steps))\n",
    "\n",
    "best_accuracy = 0\n",
    "prec_list_to_plot = []\n",
    "rec_list_to_plot = []\n",
    "f1_list_to_plot = []\n",
    "acc_list_to_plot = []\n",
    "\n",
    "# Loop through the epochs\n",
    "for epoch in range(1, NUM_EPOCHS + 1):\n",
    "    # Tells the model that we are training the model\n",
    "    model.train()\n",
    "    # Loop through the batches\n",
    "    for batch in train_dataloader:\n",
    "        # Get the batch\n",
    "        batch = {k: v.to(device) for k, v in batch.items()}\n",
    "        # Compute the model output for the batch\n",
    "        outputs = model(**batch)\n",
    "        # Loss computed by the model\n",
    "        loss = outputs.loss\n",
    "        # backpropagates the error to calculate gradients\n",
    "        loss.backward()\n",
    "        # Update the model weights\n",
    "        optimizer.step()\n",
    "        # Learning rate scheduler\n",
    "        lr_scheduler.step()\n",
    "        # Clear the gradients\n",
    "        optimizer.zero_grad()\n",
    "        # Update the progress bar\n",
    "        progress_bar.update(1)\n",
    "\n",
    "    # Evaluation\n",
    "    model.eval()\n",
    "    for batch in val_dataloader:\n",
    "        batch = {k: v.to(device) for k, v in batch.items()}\n",
    "        with torch.no_grad():\n",
    "          outputs = model(**batch)\n",
    "\n",
    "        logits = outputs.logits\n",
    "        predictions = torch.argmax(logits, dim=-1)\n",
    "\n",
    "        recall_metric   .add_batch(predictions=predictions, references=batch['labels'])\n",
    "        precision_metric.add_batch(predictions=predictions, references=batch['labels'])\n",
    "        f1_metric       .add_batch(predictions=predictions, references=batch['labels'])\n",
    "        accuracy_metric .add_batch(predictions=predictions, references=batch['labels'])\n",
    "    \n",
    "    results = {\n",
    "        'recall':    recall_metric   .compute(average='weighted'),\n",
    "        'precision': precision_metric.compute(average='weighted'),\n",
    "        'f1':        f1_metric       .compute(average='weighted'),\n",
    "        'accuracy':  accuracy_metric .compute(),\n",
    "    }\n",
    "    \n",
    "    print(\n",
    "        f'Epoch: {epoch}:',\n",
    "        {\n",
    "            key: value\n",
    "            for key, value in results.items()\n",
    "        },\n",
    "    )\n",
    "\n",
    "    prec_list_to_plot.append(results['recall'])\n",
    "    rec_list_to_plot .append(results['precision'])\n",
    "    f1_list_to_plot  .append(results['f1'])\n",
    "    acc_list_to_plot .append(results['accuracy']['accuracy'])\n",
    "\n",
    "    if results['accuracy']['accuracy'] > best_accuracy:\n",
    "        best_accuracy = results['accuracy']['accuracy']\n",
    "        model.save_pretrained('./bert-base-uncased-finetuned-mlm-clf/best_model')\n",
    "    \n",
    "model.save_pretrained('./bert-base-uncased-finetuned-mlm-clf/final_model')\n",
    "\n",
    "# accuracy plots\n",
    "plt.figure(figsize=(10, 7))\n",
    "plt.plot(\n",
    "    acc_list_to_plot, color='blue',\n",
    "    linestyle='-', label='validataion accuracy'\n",
    ")\n",
    "plt.xlabel('Epochs')\n",
    "plt.ylabel('Accuracy')\n",
    "plt.legend()\n",
    "plt.savefig('./bert-base-uncased-finetuned-mlm-clf/accuracy.png')"
   ]
  },
  {
   "cell_type": "code",
   "execution_count": 112,
   "metadata": {
    "id": "64dSjB0O_7Ib",
    "outputId": "aee6e9c8-569c-43e9-f660-8efb9bff203f"
   },
   "outputs": [
    {
     "data": {
      "application/vnd.jupyter.widget-view+json": {
       "model_id": "1f7ce824cd484811b62eac02cc96c094",
       "version_major": 2,
       "version_minor": 0
      },
      "text/plain": [
       "  0%|          | 0/33 [00:00<?, ?it/s]"
      ]
     },
     "metadata": {},
     "output_type": "display_data"
    },
    {
     "name": "stdout",
     "output_type": "stream",
     "text": [
      "{'recall': {'recall': 0.7580174927113703}, 'precision': {'precision': 0.7594035152818372}, 'f1': {'f1': 0.7585044072254401}, 'accuracy': {'accuracy': 0.7580174927113703}}\n"
     ]
    }
   ],
   "source": [
    "progress_bar = tqdm(range(len(test_dataloader)))\n",
    "\n",
    "# Evaluation\n",
    "model.eval()\n",
    "for batch in test_dataloader:\n",
    "    batch = {k: v.to(device) for k, v in batch.items()}\n",
    "    with torch.no_grad():\n",
    "        outputs = model(**batch)\n",
    "\n",
    "    logits = outputs.logits\n",
    "    predictions = torch.argmax(logits, dim=-1)\n",
    "        \n",
    "    recall_metric   .add_batch(predictions=predictions, references=batch['labels'])\n",
    "    precision_metric.add_batch(predictions=predictions, references=batch['labels'])\n",
    "    f1_metric       .add_batch(predictions=predictions, references=batch['labels'])\n",
    "    accuracy_metric .add_batch(predictions=predictions, references=batch['labels'])\n",
    "    progress_bar.update(1)\n",
    "    \n",
    "results = {\n",
    "        'recall':    recall_metric   .compute(average='weighted'),\n",
    "        'precision': precision_metric.compute(average='weighted'),\n",
    "        'f1':        f1_metric       .compute(average='weighted'),\n",
    "        'accuracy':  accuracy_metric .compute(),\n",
    "    }\n",
    "    \n",
    "print(\n",
    "        {\n",
    "            key: value\n",
    "            for key, value in results.items()\n",
    "        },\n",
    "    )"
   ]
  },
  {
   "cell_type": "code",
   "execution_count": 113,
   "metadata": {
    "id": "ZLL0ViQ9_7Ib",
    "outputId": "2f277505-6492-414b-f4fd-241ce29ff684"
   },
   "outputs": [
    {
     "data": {
      "text/plain": [
       "{'input_ids': torch.Size([128, 40]),\n",
       " 'token_type_ids': torch.Size([128, 40]),\n",
       " 'attention_mask': torch.Size([128, 40])}"
      ]
     },
     "execution_count": 113,
     "metadata": {},
     "output_type": "execute_result"
    }
   ],
   "source": [
    "# inspect the batch\n",
    "for batch in subm_dataloader:\n",
    "  break\n",
    "{k: v.shape for k, v in batch.items()}"
   ]
  },
  {
   "cell_type": "code",
   "execution_count": 114,
   "metadata": {
    "id": "wXZv4sD1_7Ic",
    "outputId": "c377df75-c448-4019-f044-2f97811eeb80"
   },
   "outputs": [
    {
     "data": {
      "application/vnd.jupyter.widget-view+json": {
       "model_id": "c159f823d4a54deb86b49033e152b83e",
       "version_major": 2,
       "version_minor": 0
      },
      "text/plain": [
       "  0%|          | 0/30 [00:00<?, ?it/s]"
      ]
     },
     "metadata": {},
     "output_type": "display_data"
    }
   ],
   "source": [
    "progress_bar = tqdm(range(len(subm_dataloader)))\n",
    "\n",
    "# Submission\n",
    "model.eval()\n",
    "submissions = []\n",
    "\n",
    "for batch in subm_dataloader:\n",
    "    batch = {k: v.to(device) for k, v in batch.items()}\n",
    "    with torch.no_grad():\n",
    "        outputs = model(**batch)\n",
    "\n",
    "    logits = outputs.logits\n",
    "    predictions = torch.argmax(logits, dim=-1)\n",
    "    submissions.append(predictions)\n",
    "    progress_bar.update(1)"
   ]
  },
  {
   "cell_type": "code",
   "execution_count": 115,
   "metadata": {
    "id": "cOSpx9HM_7Ic",
    "outputId": "5c425da1-f0de-42be-be97-2e7f8ecc06b6"
   },
   "outputs": [
    {
     "data": {
      "text/html": [
       "<div>\n",
       "<style scoped>\n",
       "    .dataframe tbody tr th:only-of-type {\n",
       "        vertical-align: middle;\n",
       "    }\n",
       "\n",
       "    .dataframe tbody tr th {\n",
       "        vertical-align: top;\n",
       "    }\n",
       "\n",
       "    .dataframe thead th {\n",
       "        text-align: right;\n",
       "    }\n",
       "</style>\n",
       "<table border=\"1\" class=\"dataframe\">\n",
       "  <thead>\n",
       "    <tr style=\"text-align: right;\">\n",
       "      <th></th>\n",
       "      <th>id</th>\n",
       "      <th>Sentiment</th>\n",
       "    </tr>\n",
       "  </thead>\n",
       "  <tbody>\n",
       "    <tr>\n",
       "      <th>0</th>\n",
       "      <td>787bc85b-20d4-46d8-84a0-562a2527f684</td>\n",
       "      <td>Negative</td>\n",
       "    </tr>\n",
       "    <tr>\n",
       "      <th>1</th>\n",
       "      <td>17e934cd-ba94-4d4f-9ac0-ead202abe241</td>\n",
       "      <td>Positive</td>\n",
       "    </tr>\n",
       "    <tr>\n",
       "      <th>2</th>\n",
       "      <td>5914534b-2b0f-4de8-bb8a-e25587697e0d</td>\n",
       "      <td>Extremely Positive</td>\n",
       "    </tr>\n",
       "    <tr>\n",
       "      <th>3</th>\n",
       "      <td>cdf06cfe-29ae-48ee-ac6d-be448103ba45</td>\n",
       "      <td>Negative</td>\n",
       "    </tr>\n",
       "    <tr>\n",
       "      <th>4</th>\n",
       "      <td>aff63979-0256-4fb9-a2d9-86a3d3ca5470</td>\n",
       "      <td>Neutral</td>\n",
       "    </tr>\n",
       "  </tbody>\n",
       "</table>\n",
       "</div>"
      ],
      "text/plain": [
       "                                     id           Sentiment\n",
       "0  787bc85b-20d4-46d8-84a0-562a2527f684            Negative\n",
       "1  17e934cd-ba94-4d4f-9ac0-ead202abe241            Positive\n",
       "2  5914534b-2b0f-4de8-bb8a-e25587697e0d  Extremely Positive\n",
       "3  cdf06cfe-29ae-48ee-ac6d-be448103ba45            Negative\n",
       "4  aff63979-0256-4fb9-a2d9-86a3d3ca5470             Neutral"
      ]
     },
     "execution_count": 115,
     "metadata": {},
     "output_type": "execute_result"
    }
   ],
   "source": [
    "submission = pd.read_csv(filepath_or_buffer='https://raw.githubusercontent.com/wizard339/education/main/misis/nlp/text_classification/sample_submission.csv')\n",
    "submission['Sentiment'] = le.inverse_transform(torch.cat(submissions).cpu())\n",
    "submission.head()"
   ]
  },
  {
   "cell_type": "code",
   "execution_count": 116,
   "metadata": {
    "id": "sYeaVZgj_7Ic"
   },
   "outputs": [],
   "source": [
    "# saving sabmission to '.csv' file\n",
    "submission.to_csv('submission_bert_mlm_clf.csv', index=False, header=True)"
   ]
  },
  {
   "cell_type": "code",
   "execution_count": null,
   "metadata": {
    "id": "YZUNuiC5UjLV"
   },
   "outputs": [],
   "source": []
  }
 ],
 "metadata": {
  "colab": {
   "provenance": []
  },
  "kernelspec": {
   "display_name": "Python 3 (ipykernel)",
   "language": "python",
   "name": "python3"
  },
  "language_info": {
   "codemirror_mode": {
    "name": "ipython",
    "version": 3
   },
   "file_extension": ".py",
   "mimetype": "text/x-python",
   "name": "python",
   "nbconvert_exporter": "python",
   "pygments_lexer": "ipython3",
   "version": "3.9.16"
  },
  "widgets": {
   "application/vnd.jupyter.widget-state+json": {
    "03238e235c5949f892f92a6cbaef0408": {
     "model_module": "@jupyter-widgets/controls",
     "model_module_version": "1.5.0",
     "model_name": "ProgressStyleModel",
     "state": {
      "_model_module": "@jupyter-widgets/controls",
      "_model_module_version": "1.5.0",
      "_model_name": "ProgressStyleModel",
      "_view_count": null,
      "_view_module": "@jupyter-widgets/base",
      "_view_module_version": "1.2.0",
      "_view_name": "StyleView",
      "bar_color": null,
      "description_width": ""
     }
    },
    "053134d8730d435dacd8e925af292b17": {
     "model_module": "@jupyter-widgets/base",
     "model_module_version": "1.2.0",
     "model_name": "LayoutModel",
     "state": {
      "_model_module": "@jupyter-widgets/base",
      "_model_module_version": "1.2.0",
      "_model_name": "LayoutModel",
      "_view_count": null,
      "_view_module": "@jupyter-widgets/base",
      "_view_module_version": "1.2.0",
      "_view_name": "LayoutView",
      "align_content": null,
      "align_items": null,
      "align_self": null,
      "border": null,
      "bottom": null,
      "display": null,
      "flex": null,
      "flex_flow": null,
      "grid_area": null,
      "grid_auto_columns": null,
      "grid_auto_flow": null,
      "grid_auto_rows": null,
      "grid_column": null,
      "grid_gap": null,
      "grid_row": null,
      "grid_template_areas": null,
      "grid_template_columns": null,
      "grid_template_rows": null,
      "height": null,
      "justify_content": null,
      "justify_items": null,
      "left": null,
      "margin": null,
      "max_height": null,
      "max_width": null,
      "min_height": null,
      "min_width": null,
      "object_fit": null,
      "object_position": null,
      "order": null,
      "overflow": null,
      "overflow_x": null,
      "overflow_y": null,
      "padding": null,
      "right": null,
      "top": null,
      "visibility": "hidden",
      "width": null
     }
    },
    "0733fb487c3a4d0c884b284a5ffee152": {
     "model_module": "@jupyter-widgets/controls",
     "model_module_version": "1.5.0",
     "model_name": "FloatProgressModel",
     "state": {
      "_dom_classes": [],
      "_model_module": "@jupyter-widgets/controls",
      "_model_module_version": "1.5.0",
      "_model_name": "FloatProgressModel",
      "_view_count": null,
      "_view_module": "@jupyter-widgets/controls",
      "_view_module_version": "1.5.0",
      "_view_name": "ProgressView",
      "bar_style": "",
      "description": "",
      "description_tooltip": null,
      "layout": "IPY_MODEL_b508d16bea8b44c3a8694e2c952d1f88",
      "max": 3798,
      "min": 0,
      "orientation": "horizontal",
      "style": "IPY_MODEL_df0336a9e9dd4561bbc3d52c0b002ea1",
      "value": 3798
     }
    },
    "0a9785a5725d499687e660d869fe8c91": {
     "model_module": "@jupyter-widgets/controls",
     "model_module_version": "1.5.0",
     "model_name": "HTMLModel",
     "state": {
      "_dom_classes": [],
      "_model_module": "@jupyter-widgets/controls",
      "_model_module_version": "1.5.0",
      "_model_name": "HTMLModel",
      "_view_count": null,
      "_view_module": "@jupyter-widgets/controls",
      "_view_module_version": "1.5.0",
      "_view_name": "HTMLView",
      "description": "",
      "description_tooltip": null,
      "layout": "IPY_MODEL_34666e82046c4eccb14f8a70a0ae971e",
      "placeholder": "​",
      "style": "IPY_MODEL_134009bfc4cc4296b0c9ed53d05a1e00",
      "value": " 3798/3798 [00:01&lt;00:00, 2052.30 examples/s]"
     }
    },
    "0ce1955e3f4f4f89a06fd306f4fc0c35": {
     "model_module": "@jupyter-widgets/base",
     "model_module_version": "1.2.0",
     "model_name": "LayoutModel",
     "state": {
      "_model_module": "@jupyter-widgets/base",
      "_model_module_version": "1.2.0",
      "_model_name": "LayoutModel",
      "_view_count": null,
      "_view_module": "@jupyter-widgets/base",
      "_view_module_version": "1.2.0",
      "_view_name": "LayoutView",
      "align_content": null,
      "align_items": null,
      "align_self": null,
      "border": null,
      "bottom": null,
      "display": null,
      "flex": null,
      "flex_flow": null,
      "grid_area": null,
      "grid_auto_columns": null,
      "grid_auto_flow": null,
      "grid_auto_rows": null,
      "grid_column": null,
      "grid_gap": null,
      "grid_row": null,
      "grid_template_areas": null,
      "grid_template_columns": null,
      "grid_template_rows": null,
      "height": null,
      "justify_content": null,
      "justify_items": null,
      "left": null,
      "margin": null,
      "max_height": null,
      "max_width": null,
      "min_height": null,
      "min_width": null,
      "object_fit": null,
      "object_position": null,
      "order": null,
      "overflow": null,
      "overflow_x": null,
      "overflow_y": null,
      "padding": null,
      "right": null,
      "top": null,
      "visibility": null,
      "width": null
     }
    },
    "0e7f6472c6c647b3bbcaf0e141e4908a": {
     "model_module": "@jupyter-widgets/controls",
     "model_module_version": "1.5.0",
     "model_name": "DescriptionStyleModel",
     "state": {
      "_model_module": "@jupyter-widgets/controls",
      "_model_module_version": "1.5.0",
      "_model_name": "DescriptionStyleModel",
      "_view_count": null,
      "_view_module": "@jupyter-widgets/base",
      "_view_module_version": "1.2.0",
      "_view_name": "StyleView",
      "description_width": ""
     }
    },
    "104083f2c3a346a7a9af35456f3fa2d7": {
     "model_module": "@jupyter-widgets/base",
     "model_module_version": "1.2.0",
     "model_name": "LayoutModel",
     "state": {
      "_model_module": "@jupyter-widgets/base",
      "_model_module_version": "1.2.0",
      "_model_name": "LayoutModel",
      "_view_count": null,
      "_view_module": "@jupyter-widgets/base",
      "_view_module_version": "1.2.0",
      "_view_name": "LayoutView",
      "align_content": null,
      "align_items": null,
      "align_self": null,
      "border": null,
      "bottom": null,
      "display": null,
      "flex": null,
      "flex_flow": null,
      "grid_area": null,
      "grid_auto_columns": null,
      "grid_auto_flow": null,
      "grid_auto_rows": null,
      "grid_column": null,
      "grid_gap": null,
      "grid_row": null,
      "grid_template_areas": null,
      "grid_template_columns": null,
      "grid_template_rows": null,
      "height": null,
      "justify_content": null,
      "justify_items": null,
      "left": null,
      "margin": null,
      "max_height": null,
      "max_width": null,
      "min_height": null,
      "min_width": null,
      "object_fit": null,
      "object_position": null,
      "order": null,
      "overflow": null,
      "overflow_x": null,
      "overflow_y": null,
      "padding": null,
      "right": null,
      "top": null,
      "visibility": null,
      "width": null
     }
    },
    "111801f2b7eb476bb78aa8542225f435": {
     "model_module": "@jupyter-widgets/controls",
     "model_module_version": "1.5.0",
     "model_name": "ProgressStyleModel",
     "state": {
      "_model_module": "@jupyter-widgets/controls",
      "_model_module_version": "1.5.0",
      "_model_name": "ProgressStyleModel",
      "_view_count": null,
      "_view_module": "@jupyter-widgets/base",
      "_view_module_version": "1.2.0",
      "_view_name": "StyleView",
      "bar_color": null,
      "description_width": ""
     }
    },
    "11ed170170274d6fb0a3732221fd129d": {
     "model_module": "@jupyter-widgets/controls",
     "model_module_version": "1.5.0",
     "model_name": "HTMLModel",
     "state": {
      "_dom_classes": [],
      "_model_module": "@jupyter-widgets/controls",
      "_model_module_version": "1.5.0",
      "_model_name": "HTMLModel",
      "_view_count": null,
      "_view_module": "@jupyter-widgets/controls",
      "_view_module_version": "1.5.0",
      "_view_name": "HTMLView",
      "description": "",
      "description_tooltip": null,
      "layout": "IPY_MODEL_b5f66ef1ec99476ca3f40a42e1d8f3fd",
      "placeholder": "​",
      "style": "IPY_MODEL_91094e57d8e9435d8be15e6f2c3630b5",
      "value": "Map:  97%"
     }
    },
    "134009bfc4cc4296b0c9ed53d05a1e00": {
     "model_module": "@jupyter-widgets/controls",
     "model_module_version": "1.5.0",
     "model_name": "DescriptionStyleModel",
     "state": {
      "_model_module": "@jupyter-widgets/controls",
      "_model_module_version": "1.5.0",
      "_model_name": "DescriptionStyleModel",
      "_view_count": null,
      "_view_module": "@jupyter-widgets/base",
      "_view_module_version": "1.2.0",
      "_view_name": "StyleView",
      "description_width": ""
     }
    },
    "142f1e0610c64df793439e279857dbab": {
     "model_module": "@jupyter-widgets/base",
     "model_module_version": "1.2.0",
     "model_name": "LayoutModel",
     "state": {
      "_model_module": "@jupyter-widgets/base",
      "_model_module_version": "1.2.0",
      "_model_name": "LayoutModel",
      "_view_count": null,
      "_view_module": "@jupyter-widgets/base",
      "_view_module_version": "1.2.0",
      "_view_name": "LayoutView",
      "align_content": null,
      "align_items": null,
      "align_self": null,
      "border": null,
      "bottom": null,
      "display": null,
      "flex": null,
      "flex_flow": null,
      "grid_area": null,
      "grid_auto_columns": null,
      "grid_auto_flow": null,
      "grid_auto_rows": null,
      "grid_column": null,
      "grid_gap": null,
      "grid_row": null,
      "grid_template_areas": null,
      "grid_template_columns": null,
      "grid_template_rows": null,
      "height": null,
      "justify_content": null,
      "justify_items": null,
      "left": null,
      "margin": null,
      "max_height": null,
      "max_width": null,
      "min_height": null,
      "min_width": null,
      "object_fit": null,
      "object_position": null,
      "order": null,
      "overflow": null,
      "overflow_x": null,
      "overflow_y": null,
      "padding": null,
      "right": null,
      "top": null,
      "visibility": null,
      "width": null
     }
    },
    "144cb8f6a6ab45c386cd8cc4ee47c91d": {
     "model_module": "@jupyter-widgets/controls",
     "model_module_version": "1.5.0",
     "model_name": "DescriptionStyleModel",
     "state": {
      "_model_module": "@jupyter-widgets/controls",
      "_model_module_version": "1.5.0",
      "_model_name": "DescriptionStyleModel",
      "_view_count": null,
      "_view_module": "@jupyter-widgets/base",
      "_view_module_version": "1.2.0",
      "_view_name": "StyleView",
      "description_width": ""
     }
    },
    "153eacbfb16e47a7b243ec09d5e4361c": {
     "model_module": "@jupyter-widgets/controls",
     "model_module_version": "1.5.0",
     "model_name": "HBoxModel",
     "state": {
      "_dom_classes": [],
      "_model_module": "@jupyter-widgets/controls",
      "_model_module_version": "1.5.0",
      "_model_name": "HBoxModel",
      "_view_count": null,
      "_view_module": "@jupyter-widgets/controls",
      "_view_module_version": "1.5.0",
      "_view_name": "HBoxView",
      "box_style": "",
      "children": [
       "IPY_MODEL_809c7f9335e841758860c0519cedc460",
       "IPY_MODEL_5fc46932f5974a57b6b57afa8f2e5ba7",
       "IPY_MODEL_0a9785a5725d499687e660d869fe8c91"
      ],
      "layout": "IPY_MODEL_053134d8730d435dacd8e925af292b17"
     }
    },
    "157734a090b84ebfbb2748a734638e66": {
     "model_module": "@jupyter-widgets/base",
     "model_module_version": "1.2.0",
     "model_name": "LayoutModel",
     "state": {
      "_model_module": "@jupyter-widgets/base",
      "_model_module_version": "1.2.0",
      "_model_name": "LayoutModel",
      "_view_count": null,
      "_view_module": "@jupyter-widgets/base",
      "_view_module_version": "1.2.0",
      "_view_name": "LayoutView",
      "align_content": null,
      "align_items": null,
      "align_self": null,
      "border": null,
      "bottom": null,
      "display": null,
      "flex": null,
      "flex_flow": null,
      "grid_area": null,
      "grid_auto_columns": null,
      "grid_auto_flow": null,
      "grid_auto_rows": null,
      "grid_column": null,
      "grid_gap": null,
      "grid_row": null,
      "grid_template_areas": null,
      "grid_template_columns": null,
      "grid_template_rows": null,
      "height": null,
      "justify_content": null,
      "justify_items": null,
      "left": null,
      "margin": null,
      "max_height": null,
      "max_width": null,
      "min_height": null,
      "min_width": null,
      "object_fit": null,
      "object_position": null,
      "order": null,
      "overflow": null,
      "overflow_x": null,
      "overflow_y": null,
      "padding": null,
      "right": null,
      "top": null,
      "visibility": null,
      "width": null
     }
    },
    "1895a03e0809497f8b4a17a97dc77baf": {
     "model_module": "@jupyter-widgets/controls",
     "model_module_version": "1.5.0",
     "model_name": "FloatProgressModel",
     "state": {
      "_dom_classes": [],
      "_model_module": "@jupyter-widgets/controls",
      "_model_module_version": "1.5.0",
      "_model_name": "FloatProgressModel",
      "_view_count": null,
      "_view_module": "@jupyter-widgets/controls",
      "_view_module_version": "1.5.0",
      "_view_name": "ProgressView",
      "bar_style": "",
      "description": "",
      "description_tooltip": null,
      "layout": "IPY_MODEL_104083f2c3a346a7a9af35456f3fa2d7",
      "max": 32924,
      "min": 0,
      "orientation": "horizontal",
      "style": "IPY_MODEL_554e3e16803c4985ac05a7c0a20d06a8",
      "value": 32924
     }
    },
    "1922700251994205a1e5d7570cd8f000": {
     "model_module": "@jupyter-widgets/controls",
     "model_module_version": "1.5.0",
     "model_name": "HTMLModel",
     "state": {
      "_dom_classes": [],
      "_model_module": "@jupyter-widgets/controls",
      "_model_module_version": "1.5.0",
      "_model_name": "HTMLModel",
      "_view_count": null,
      "_view_module": "@jupyter-widgets/controls",
      "_view_module_version": "1.5.0",
      "_view_name": "HTMLView",
      "description": "",
      "description_tooltip": null,
      "layout": "IPY_MODEL_142f1e0610c64df793439e279857dbab",
      "placeholder": "​",
      "style": "IPY_MODEL_6864d94c415c40c98832ec52852ef108",
      "value": "Map:  97%"
     }
    },
    "19a37c7d52dd4aadbc0e61dff8b2a4f2": {
     "model_module": "@jupyter-widgets/controls",
     "model_module_version": "1.5.0",
     "model_name": "HTMLModel",
     "state": {
      "_dom_classes": [],
      "_model_module": "@jupyter-widgets/controls",
      "_model_module_version": "1.5.0",
      "_model_name": "HTMLModel",
      "_view_count": null,
      "_view_module": "@jupyter-widgets/controls",
      "_view_module_version": "1.5.0",
      "_view_name": "HTMLView",
      "description": "",
      "description_tooltip": null,
      "layout": "IPY_MODEL_7526b7e11aa24740be56349703af34b0",
      "placeholder": "​",
      "style": "IPY_MODEL_e006789671bd4419991cd01d57ee8203",
      "value": "Map: 100%"
     }
    },
    "1a2d1fc5d0e546e695360fec08c4d6b5": {
     "model_module": "@jupyter-widgets/controls",
     "model_module_version": "1.5.0",
     "model_name": "HBoxModel",
     "state": {
      "_dom_classes": [],
      "_model_module": "@jupyter-widgets/controls",
      "_model_module_version": "1.5.0",
      "_model_name": "HBoxModel",
      "_view_count": null,
      "_view_module": "@jupyter-widgets/controls",
      "_view_module_version": "1.5.0",
      "_view_name": "HBoxView",
      "box_style": "",
      "children": [
       "IPY_MODEL_dd401128ec1c4272a9dea9e39b5edd62",
       "IPY_MODEL_24baef1463964304bc9b2154e3234113",
       "IPY_MODEL_9b28a01f44154cccb422d98669b176e9"
      ],
      "layout": "IPY_MODEL_266c75f49e9141699dae88dba4530d40"
     }
    },
    "1c30c0360b494356b9decdceb7e64e01": {
     "model_module": "@jupyter-widgets/base",
     "model_module_version": "1.2.0",
     "model_name": "LayoutModel",
     "state": {
      "_model_module": "@jupyter-widgets/base",
      "_model_module_version": "1.2.0",
      "_model_name": "LayoutModel",
      "_view_count": null,
      "_view_module": "@jupyter-widgets/base",
      "_view_module_version": "1.2.0",
      "_view_name": "LayoutView",
      "align_content": null,
      "align_items": null,
      "align_self": null,
      "border": null,
      "bottom": null,
      "display": null,
      "flex": null,
      "flex_flow": null,
      "grid_area": null,
      "grid_auto_columns": null,
      "grid_auto_flow": null,
      "grid_auto_rows": null,
      "grid_column": null,
      "grid_gap": null,
      "grid_row": null,
      "grid_template_areas": null,
      "grid_template_columns": null,
      "grid_template_rows": null,
      "height": null,
      "justify_content": null,
      "justify_items": null,
      "left": null,
      "margin": null,
      "max_height": null,
      "max_width": null,
      "min_height": null,
      "min_width": null,
      "object_fit": null,
      "object_position": null,
      "order": null,
      "overflow": null,
      "overflow_x": null,
      "overflow_y": null,
      "padding": null,
      "right": null,
      "top": null,
      "visibility": "hidden",
      "width": null
     }
    },
    "1d96f74706ff40e39b0acb1ad1fac909": {
     "model_module": "@jupyter-widgets/base",
     "model_module_version": "1.2.0",
     "model_name": "LayoutModel",
     "state": {
      "_model_module": "@jupyter-widgets/base",
      "_model_module_version": "1.2.0",
      "_model_name": "LayoutModel",
      "_view_count": null,
      "_view_module": "@jupyter-widgets/base",
      "_view_module_version": "1.2.0",
      "_view_name": "LayoutView",
      "align_content": null,
      "align_items": null,
      "align_self": null,
      "border": null,
      "bottom": null,
      "display": null,
      "flex": null,
      "flex_flow": null,
      "grid_area": null,
      "grid_auto_columns": null,
      "grid_auto_flow": null,
      "grid_auto_rows": null,
      "grid_column": null,
      "grid_gap": null,
      "grid_row": null,
      "grid_template_areas": null,
      "grid_template_columns": null,
      "grid_template_rows": null,
      "height": null,
      "justify_content": null,
      "justify_items": null,
      "left": null,
      "margin": null,
      "max_height": null,
      "max_width": null,
      "min_height": null,
      "min_width": null,
      "object_fit": null,
      "object_position": null,
      "order": null,
      "overflow": null,
      "overflow_x": null,
      "overflow_y": null,
      "padding": null,
      "right": null,
      "top": null,
      "visibility": null,
      "width": null
     }
    },
    "1dc8006b65ef44ab8d04d264e6620996": {
     "model_module": "@jupyter-widgets/controls",
     "model_module_version": "1.5.0",
     "model_name": "FloatProgressModel",
     "state": {
      "_dom_classes": [],
      "_model_module": "@jupyter-widgets/controls",
      "_model_module_version": "1.5.0",
      "_model_name": "FloatProgressModel",
      "_view_count": null,
      "_view_module": "@jupyter-widgets/controls",
      "_view_module_version": "1.5.0",
      "_view_name": "ProgressView",
      "bar_style": "",
      "description": "",
      "description_tooltip": null,
      "layout": "IPY_MODEL_bc47a578bf4f451cb3b7ec22dc816ad5",
      "max": 32924,
      "min": 0,
      "orientation": "horizontal",
      "style": "IPY_MODEL_9cdc9a20bf24408fb1f25f9886ef9bbc",
      "value": 32924
     }
    },
    "24baef1463964304bc9b2154e3234113": {
     "model_module": "@jupyter-widgets/controls",
     "model_module_version": "1.5.0",
     "model_name": "FloatProgressModel",
     "state": {
      "_dom_classes": [],
      "_model_module": "@jupyter-widgets/controls",
      "_model_module_version": "1.5.0",
      "_model_name": "FloatProgressModel",
      "_view_count": null,
      "_view_module": "@jupyter-widgets/controls",
      "_view_module_version": "1.5.0",
      "_view_name": "ProgressView",
      "bar_style": "",
      "description": "",
      "description_tooltip": null,
      "layout": "IPY_MODEL_b5e6ca3e877b4480878bc2ff8c8db8eb",
      "max": 4115,
      "min": 0,
      "orientation": "horizontal",
      "style": "IPY_MODEL_ccf4ba2347874ff9a6867211427f970d",
      "value": 4115
     }
    },
    "262df5daa9d94bcb902a9a70668c2ab7": {
     "model_module": "@jupyter-widgets/base",
     "model_module_version": "1.2.0",
     "model_name": "LayoutModel",
     "state": {
      "_model_module": "@jupyter-widgets/base",
      "_model_module_version": "1.2.0",
      "_model_name": "LayoutModel",
      "_view_count": null,
      "_view_module": "@jupyter-widgets/base",
      "_view_module_version": "1.2.0",
      "_view_name": "LayoutView",
      "align_content": null,
      "align_items": null,
      "align_self": null,
      "border": null,
      "bottom": null,
      "display": null,
      "flex": null,
      "flex_flow": null,
      "grid_area": null,
      "grid_auto_columns": null,
      "grid_auto_flow": null,
      "grid_auto_rows": null,
      "grid_column": null,
      "grid_gap": null,
      "grid_row": null,
      "grid_template_areas": null,
      "grid_template_columns": null,
      "grid_template_rows": null,
      "height": null,
      "justify_content": null,
      "justify_items": null,
      "left": null,
      "margin": null,
      "max_height": null,
      "max_width": null,
      "min_height": null,
      "min_width": null,
      "object_fit": null,
      "object_position": null,
      "order": null,
      "overflow": null,
      "overflow_x": null,
      "overflow_y": null,
      "padding": null,
      "right": null,
      "top": null,
      "visibility": null,
      "width": null
     }
    },
    "266c75f49e9141699dae88dba4530d40": {
     "model_module": "@jupyter-widgets/base",
     "model_module_version": "1.2.0",
     "model_name": "LayoutModel",
     "state": {
      "_model_module": "@jupyter-widgets/base",
      "_model_module_version": "1.2.0",
      "_model_name": "LayoutModel",
      "_view_count": null,
      "_view_module": "@jupyter-widgets/base",
      "_view_module_version": "1.2.0",
      "_view_name": "LayoutView",
      "align_content": null,
      "align_items": null,
      "align_self": null,
      "border": null,
      "bottom": null,
      "display": null,
      "flex": null,
      "flex_flow": null,
      "grid_area": null,
      "grid_auto_columns": null,
      "grid_auto_flow": null,
      "grid_auto_rows": null,
      "grid_column": null,
      "grid_gap": null,
      "grid_row": null,
      "grid_template_areas": null,
      "grid_template_columns": null,
      "grid_template_rows": null,
      "height": null,
      "justify_content": null,
      "justify_items": null,
      "left": null,
      "margin": null,
      "max_height": null,
      "max_width": null,
      "min_height": null,
      "min_width": null,
      "object_fit": null,
      "object_position": null,
      "order": null,
      "overflow": null,
      "overflow_x": null,
      "overflow_y": null,
      "padding": null,
      "right": null,
      "top": null,
      "visibility": "hidden",
      "width": null
     }
    },
    "2c2caa5b8ac64d4b8b760320fab7b3dd": {
     "model_module": "@jupyter-widgets/base",
     "model_module_version": "1.2.0",
     "model_name": "LayoutModel",
     "state": {
      "_model_module": "@jupyter-widgets/base",
      "_model_module_version": "1.2.0",
      "_model_name": "LayoutModel",
      "_view_count": null,
      "_view_module": "@jupyter-widgets/base",
      "_view_module_version": "1.2.0",
      "_view_name": "LayoutView",
      "align_content": null,
      "align_items": null,
      "align_self": null,
      "border": null,
      "bottom": null,
      "display": null,
      "flex": null,
      "flex_flow": null,
      "grid_area": null,
      "grid_auto_columns": null,
      "grid_auto_flow": null,
      "grid_auto_rows": null,
      "grid_column": null,
      "grid_gap": null,
      "grid_row": null,
      "grid_template_areas": null,
      "grid_template_columns": null,
      "grid_template_rows": null,
      "height": null,
      "justify_content": null,
      "justify_items": null,
      "left": null,
      "margin": null,
      "max_height": null,
      "max_width": null,
      "min_height": null,
      "min_width": null,
      "object_fit": null,
      "object_position": null,
      "order": null,
      "overflow": null,
      "overflow_x": null,
      "overflow_y": null,
      "padding": null,
      "right": null,
      "top": null,
      "visibility": null,
      "width": null
     }
    },
    "2d8d2ab49c7f4d91b466669ee0713dbb": {
     "model_module": "@jupyter-widgets/base",
     "model_module_version": "1.2.0",
     "model_name": "LayoutModel",
     "state": {
      "_model_module": "@jupyter-widgets/base",
      "_model_module_version": "1.2.0",
      "_model_name": "LayoutModel",
      "_view_count": null,
      "_view_module": "@jupyter-widgets/base",
      "_view_module_version": "1.2.0",
      "_view_name": "LayoutView",
      "align_content": null,
      "align_items": null,
      "align_self": null,
      "border": null,
      "bottom": null,
      "display": null,
      "flex": null,
      "flex_flow": null,
      "grid_area": null,
      "grid_auto_columns": null,
      "grid_auto_flow": null,
      "grid_auto_rows": null,
      "grid_column": null,
      "grid_gap": null,
      "grid_row": null,
      "grid_template_areas": null,
      "grid_template_columns": null,
      "grid_template_rows": null,
      "height": null,
      "justify_content": null,
      "justify_items": null,
      "left": null,
      "margin": null,
      "max_height": null,
      "max_width": null,
      "min_height": null,
      "min_width": null,
      "object_fit": null,
      "object_position": null,
      "order": null,
      "overflow": null,
      "overflow_x": null,
      "overflow_y": null,
      "padding": null,
      "right": null,
      "top": null,
      "visibility": null,
      "width": null
     }
    },
    "2f0e745b9401494180173a5f721e7bca": {
     "model_module": "@jupyter-widgets/controls",
     "model_module_version": "1.5.0",
     "model_name": "HTMLModel",
     "state": {
      "_dom_classes": [],
      "_model_module": "@jupyter-widgets/controls",
      "_model_module_version": "1.5.0",
      "_model_name": "HTMLModel",
      "_view_count": null,
      "_view_module": "@jupyter-widgets/controls",
      "_view_module_version": "1.5.0",
      "_view_name": "HTMLView",
      "description": "",
      "description_tooltip": null,
      "layout": "IPY_MODEL_1d96f74706ff40e39b0acb1ad1fac909",
      "placeholder": "​",
      "style": "IPY_MODEL_f3f9dafa73f847f3ba4795716de2af55",
      "value": " 4000/4115 [00:01&lt;00:00, 3750.54 examples/s]"
     }
    },
    "34666e82046c4eccb14f8a70a0ae971e": {
     "model_module": "@jupyter-widgets/base",
     "model_module_version": "1.2.0",
     "model_name": "LayoutModel",
     "state": {
      "_model_module": "@jupyter-widgets/base",
      "_model_module_version": "1.2.0",
      "_model_name": "LayoutModel",
      "_view_count": null,
      "_view_module": "@jupyter-widgets/base",
      "_view_module_version": "1.2.0",
      "_view_name": "LayoutView",
      "align_content": null,
      "align_items": null,
      "align_self": null,
      "border": null,
      "bottom": null,
      "display": null,
      "flex": null,
      "flex_flow": null,
      "grid_area": null,
      "grid_auto_columns": null,
      "grid_auto_flow": null,
      "grid_auto_rows": null,
      "grid_column": null,
      "grid_gap": null,
      "grid_row": null,
      "grid_template_areas": null,
      "grid_template_columns": null,
      "grid_template_rows": null,
      "height": null,
      "justify_content": null,
      "justify_items": null,
      "left": null,
      "margin": null,
      "max_height": null,
      "max_width": null,
      "min_height": null,
      "min_width": null,
      "object_fit": null,
      "object_position": null,
      "order": null,
      "overflow": null,
      "overflow_x": null,
      "overflow_y": null,
      "padding": null,
      "right": null,
      "top": null,
      "visibility": null,
      "width": null
     }
    },
    "45a2a5a2d5d349e48067ab6cb512f26a": {
     "model_module": "@jupyter-widgets/controls",
     "model_module_version": "1.5.0",
     "model_name": "HTMLModel",
     "state": {
      "_dom_classes": [],
      "_model_module": "@jupyter-widgets/controls",
      "_model_module_version": "1.5.0",
      "_model_name": "HTMLModel",
      "_view_count": null,
      "_view_module": "@jupyter-widgets/controls",
      "_view_module_version": "1.5.0",
      "_view_name": "HTMLView",
      "description": "",
      "description_tooltip": null,
      "layout": "IPY_MODEL_ba7555b1a5004de39722b44dde0c2421",
      "placeholder": "​",
      "style": "IPY_MODEL_c2fd17542dd049ce8ee7a1b4e82c172f",
      "value": " 4000/4116 [00:01&lt;00:00, 2048.73 examples/s]"
     }
    },
    "4700e0447b464512b625ef72805f8f91": {
     "model_module": "@jupyter-widgets/controls",
     "model_module_version": "1.5.0",
     "model_name": "DescriptionStyleModel",
     "state": {
      "_model_module": "@jupyter-widgets/controls",
      "_model_module_version": "1.5.0",
      "_model_name": "DescriptionStyleModel",
      "_view_count": null,
      "_view_module": "@jupyter-widgets/base",
      "_view_module_version": "1.2.0",
      "_view_name": "StyleView",
      "description_width": ""
     }
    },
    "4a3d3e209d744e82b6e057663c36b2af": {
     "model_module": "@jupyter-widgets/controls",
     "model_module_version": "1.5.0",
     "model_name": "FloatProgressModel",
     "state": {
      "_dom_classes": [],
      "_model_module": "@jupyter-widgets/controls",
      "_model_module_version": "1.5.0",
      "_model_name": "FloatProgressModel",
      "_view_count": null,
      "_view_module": "@jupyter-widgets/controls",
      "_view_module_version": "1.5.0",
      "_view_name": "ProgressView",
      "bar_style": "",
      "description": "",
      "description_tooltip": null,
      "layout": "IPY_MODEL_64899269c5674a06b6cc670755e628bb",
      "max": 4116,
      "min": 0,
      "orientation": "horizontal",
      "style": "IPY_MODEL_b76dc0e1d18043b6a204bacb3dd9292a",
      "value": 4116
     }
    },
    "4d384476c377468d84f11c2b06113e1f": {
     "model_module": "@jupyter-widgets/controls",
     "model_module_version": "1.5.0",
     "model_name": "HTMLModel",
     "state": {
      "_dom_classes": [],
      "_model_module": "@jupyter-widgets/controls",
      "_model_module_version": "1.5.0",
      "_model_name": "HTMLModel",
      "_view_count": null,
      "_view_module": "@jupyter-widgets/controls",
      "_view_module_version": "1.5.0",
      "_view_name": "HTMLView",
      "description": "",
      "description_tooltip": null,
      "layout": "IPY_MODEL_dead5abc9bc94e4294ccd3a5f949e751",
      "placeholder": "​",
      "style": "IPY_MODEL_dd869d89734447c9aeedff31bb7d87a7",
      "value": " 3798/3798 [00:02&lt;00:00, 1374.30 examples/s]"
     }
    },
    "554e3e16803c4985ac05a7c0a20d06a8": {
     "model_module": "@jupyter-widgets/controls",
     "model_module_version": "1.5.0",
     "model_name": "ProgressStyleModel",
     "state": {
      "_model_module": "@jupyter-widgets/controls",
      "_model_module_version": "1.5.0",
      "_model_name": "ProgressStyleModel",
      "_view_count": null,
      "_view_module": "@jupyter-widgets/base",
      "_view_module_version": "1.2.0",
      "_view_name": "StyleView",
      "bar_color": null,
      "description_width": ""
     }
    },
    "5aef77a7cf924fd89d824f2267ae22f9": {
     "model_module": "@jupyter-widgets/controls",
     "model_module_version": "1.5.0",
     "model_name": "FloatProgressModel",
     "state": {
      "_dom_classes": [],
      "_model_module": "@jupyter-widgets/controls",
      "_model_module_version": "1.5.0",
      "_model_name": "FloatProgressModel",
      "_view_count": null,
      "_view_module": "@jupyter-widgets/controls",
      "_view_module_version": "1.5.0",
      "_view_name": "ProgressView",
      "bar_style": "",
      "description": "",
      "description_tooltip": null,
      "layout": "IPY_MODEL_2c2caa5b8ac64d4b8b760320fab7b3dd",
      "max": 4116,
      "min": 0,
      "orientation": "horizontal",
      "style": "IPY_MODEL_03238e235c5949f892f92a6cbaef0408",
      "value": 4116
     }
    },
    "5be704471e4743778ee4acd520ea959f": {
     "model_module": "@jupyter-widgets/controls",
     "model_module_version": "1.5.0",
     "model_name": "HTMLModel",
     "state": {
      "_dom_classes": [],
      "_model_module": "@jupyter-widgets/controls",
      "_model_module_version": "1.5.0",
      "_model_name": "HTMLModel",
      "_view_count": null,
      "_view_module": "@jupyter-widgets/controls",
      "_view_module_version": "1.5.0",
      "_view_name": "HTMLView",
      "description": "",
      "description_tooltip": null,
      "layout": "IPY_MODEL_262df5daa9d94bcb902a9a70668c2ab7",
      "placeholder": "​",
      "style": "IPY_MODEL_bb9b8de77d884d51811233fe65a87321",
      "value": " 4000/4116 [00:01&lt;00:00, 2184.78 examples/s]"
     }
    },
    "5fc46932f5974a57b6b57afa8f2e5ba7": {
     "model_module": "@jupyter-widgets/controls",
     "model_module_version": "1.5.0",
     "model_name": "FloatProgressModel",
     "state": {
      "_dom_classes": [],
      "_model_module": "@jupyter-widgets/controls",
      "_model_module_version": "1.5.0",
      "_model_name": "FloatProgressModel",
      "_view_count": null,
      "_view_module": "@jupyter-widgets/controls",
      "_view_module_version": "1.5.0",
      "_view_name": "ProgressView",
      "bar_style": "",
      "description": "",
      "description_tooltip": null,
      "layout": "IPY_MODEL_7eba6220ab7941c7b1d986bf2c361e84",
      "max": 3798,
      "min": 0,
      "orientation": "horizontal",
      "style": "IPY_MODEL_b9fddbe1805e4482b05144437e0dc486",
      "value": 3798
     }
    },
    "64899269c5674a06b6cc670755e628bb": {
     "model_module": "@jupyter-widgets/base",
     "model_module_version": "1.2.0",
     "model_name": "LayoutModel",
     "state": {
      "_model_module": "@jupyter-widgets/base",
      "_model_module_version": "1.2.0",
      "_model_name": "LayoutModel",
      "_view_count": null,
      "_view_module": "@jupyter-widgets/base",
      "_view_module_version": "1.2.0",
      "_view_name": "LayoutView",
      "align_content": null,
      "align_items": null,
      "align_self": null,
      "border": null,
      "bottom": null,
      "display": null,
      "flex": null,
      "flex_flow": null,
      "grid_area": null,
      "grid_auto_columns": null,
      "grid_auto_flow": null,
      "grid_auto_rows": null,
      "grid_column": null,
      "grid_gap": null,
      "grid_row": null,
      "grid_template_areas": null,
      "grid_template_columns": null,
      "grid_template_rows": null,
      "height": null,
      "justify_content": null,
      "justify_items": null,
      "left": null,
      "margin": null,
      "max_height": null,
      "max_width": null,
      "min_height": null,
      "min_width": null,
      "object_fit": null,
      "object_position": null,
      "order": null,
      "overflow": null,
      "overflow_x": null,
      "overflow_y": null,
      "padding": null,
      "right": null,
      "top": null,
      "visibility": null,
      "width": null
     }
    },
    "6864d94c415c40c98832ec52852ef108": {
     "model_module": "@jupyter-widgets/controls",
     "model_module_version": "1.5.0",
     "model_name": "DescriptionStyleModel",
     "state": {
      "_model_module": "@jupyter-widgets/controls",
      "_model_module_version": "1.5.0",
      "_model_name": "DescriptionStyleModel",
      "_view_count": null,
      "_view_module": "@jupyter-widgets/base",
      "_view_module_version": "1.2.0",
      "_view_name": "StyleView",
      "description_width": ""
     }
    },
    "73dd1724bc3a4fad875b2e636f575c40": {
     "model_module": "@jupyter-widgets/controls",
     "model_module_version": "1.5.0",
     "model_name": "HBoxModel",
     "state": {
      "_dom_classes": [],
      "_model_module": "@jupyter-widgets/controls",
      "_model_module_version": "1.5.0",
      "_model_name": "HBoxModel",
      "_view_count": null,
      "_view_module": "@jupyter-widgets/controls",
      "_view_module_version": "1.5.0",
      "_view_name": "HBoxView",
      "box_style": "",
      "children": [
       "IPY_MODEL_76a2426a8419474bba41d223640ce8bd",
       "IPY_MODEL_1895a03e0809497f8b4a17a97dc77baf",
       "IPY_MODEL_7a5ec45d7272436398cbed44d2fc6c6a"
      ],
      "layout": "IPY_MODEL_1c30c0360b494356b9decdceb7e64e01"
     }
    },
    "7526b7e11aa24740be56349703af34b0": {
     "model_module": "@jupyter-widgets/base",
     "model_module_version": "1.2.0",
     "model_name": "LayoutModel",
     "state": {
      "_model_module": "@jupyter-widgets/base",
      "_model_module_version": "1.2.0",
      "_model_name": "LayoutModel",
      "_view_count": null,
      "_view_module": "@jupyter-widgets/base",
      "_view_module_version": "1.2.0",
      "_view_name": "LayoutView",
      "align_content": null,
      "align_items": null,
      "align_self": null,
      "border": null,
      "bottom": null,
      "display": null,
      "flex": null,
      "flex_flow": null,
      "grid_area": null,
      "grid_auto_columns": null,
      "grid_auto_flow": null,
      "grid_auto_rows": null,
      "grid_column": null,
      "grid_gap": null,
      "grid_row": null,
      "grid_template_areas": null,
      "grid_template_columns": null,
      "grid_template_rows": null,
      "height": null,
      "justify_content": null,
      "justify_items": null,
      "left": null,
      "margin": null,
      "max_height": null,
      "max_width": null,
      "min_height": null,
      "min_width": null,
      "object_fit": null,
      "object_position": null,
      "order": null,
      "overflow": null,
      "overflow_x": null,
      "overflow_y": null,
      "padding": null,
      "right": null,
      "top": null,
      "visibility": null,
      "width": null
     }
    },
    "76a2426a8419474bba41d223640ce8bd": {
     "model_module": "@jupyter-widgets/controls",
     "model_module_version": "1.5.0",
     "model_name": "HTMLModel",
     "state": {
      "_dom_classes": [],
      "_model_module": "@jupyter-widgets/controls",
      "_model_module_version": "1.5.0",
      "_model_name": "HTMLModel",
      "_view_count": null,
      "_view_module": "@jupyter-widgets/controls",
      "_view_module_version": "1.5.0",
      "_view_name": "HTMLView",
      "description": "",
      "description_tooltip": null,
      "layout": "IPY_MODEL_d6d364a2593341eb89ba69d562b22495",
      "placeholder": "​",
      "style": "IPY_MODEL_a7b74a77e85045de9b517b258e5cb1f7",
      "value": "Map: 100%"
     }
    },
    "7a5ec45d7272436398cbed44d2fc6c6a": {
     "model_module": "@jupyter-widgets/controls",
     "model_module_version": "1.5.0",
     "model_name": "HTMLModel",
     "state": {
      "_dom_classes": [],
      "_model_module": "@jupyter-widgets/controls",
      "_model_module_version": "1.5.0",
      "_model_name": "HTMLModel",
      "_view_count": null,
      "_view_module": "@jupyter-widgets/controls",
      "_view_module_version": "1.5.0",
      "_view_name": "HTMLView",
      "description": "",
      "description_tooltip": null,
      "layout": "IPY_MODEL_b01a8cf787f04c39aa5ed53160d6f227",
      "placeholder": "​",
      "style": "IPY_MODEL_c15a8cba88e14900820cc8600a541d0b",
      "value": " 32924/32924 [00:18&lt;00:00, 1536.96 examples/s]"
     }
    },
    "7eba6220ab7941c7b1d986bf2c361e84": {
     "model_module": "@jupyter-widgets/base",
     "model_module_version": "1.2.0",
     "model_name": "LayoutModel",
     "state": {
      "_model_module": "@jupyter-widgets/base",
      "_model_module_version": "1.2.0",
      "_model_name": "LayoutModel",
      "_view_count": null,
      "_view_module": "@jupyter-widgets/base",
      "_view_module_version": "1.2.0",
      "_view_name": "LayoutView",
      "align_content": null,
      "align_items": null,
      "align_self": null,
      "border": null,
      "bottom": null,
      "display": null,
      "flex": null,
      "flex_flow": null,
      "grid_area": null,
      "grid_auto_columns": null,
      "grid_auto_flow": null,
      "grid_auto_rows": null,
      "grid_column": null,
      "grid_gap": null,
      "grid_row": null,
      "grid_template_areas": null,
      "grid_template_columns": null,
      "grid_template_rows": null,
      "height": null,
      "justify_content": null,
      "justify_items": null,
      "left": null,
      "margin": null,
      "max_height": null,
      "max_width": null,
      "min_height": null,
      "min_width": null,
      "object_fit": null,
      "object_position": null,
      "order": null,
      "overflow": null,
      "overflow_x": null,
      "overflow_y": null,
      "padding": null,
      "right": null,
      "top": null,
      "visibility": null,
      "width": null
     }
    },
    "809c7f9335e841758860c0519cedc460": {
     "model_module": "@jupyter-widgets/controls",
     "model_module_version": "1.5.0",
     "model_name": "HTMLModel",
     "state": {
      "_dom_classes": [],
      "_model_module": "@jupyter-widgets/controls",
      "_model_module_version": "1.5.0",
      "_model_name": "HTMLModel",
      "_view_count": null,
      "_view_module": "@jupyter-widgets/controls",
      "_view_module_version": "1.5.0",
      "_view_name": "HTMLView",
      "description": "",
      "description_tooltip": null,
      "layout": "IPY_MODEL_0ce1955e3f4f4f89a06fd306f4fc0c35",
      "placeholder": "​",
      "style": "IPY_MODEL_0e7f6472c6c647b3bbcaf0e141e4908a",
      "value": "Map: 100%"
     }
    },
    "8229936012734c6e96b40740349deb46": {
     "model_module": "@jupyter-widgets/base",
     "model_module_version": "1.2.0",
     "model_name": "LayoutModel",
     "state": {
      "_model_module": "@jupyter-widgets/base",
      "_model_module_version": "1.2.0",
      "_model_name": "LayoutModel",
      "_view_count": null,
      "_view_module": "@jupyter-widgets/base",
      "_view_module_version": "1.2.0",
      "_view_name": "LayoutView",
      "align_content": null,
      "align_items": null,
      "align_self": null,
      "border": null,
      "bottom": null,
      "display": null,
      "flex": null,
      "flex_flow": null,
      "grid_area": null,
      "grid_auto_columns": null,
      "grid_auto_flow": null,
      "grid_auto_rows": null,
      "grid_column": null,
      "grid_gap": null,
      "grid_row": null,
      "grid_template_areas": null,
      "grid_template_columns": null,
      "grid_template_rows": null,
      "height": null,
      "justify_content": null,
      "justify_items": null,
      "left": null,
      "margin": null,
      "max_height": null,
      "max_width": null,
      "min_height": null,
      "min_width": null,
      "object_fit": null,
      "object_position": null,
      "order": null,
      "overflow": null,
      "overflow_x": null,
      "overflow_y": null,
      "padding": null,
      "right": null,
      "top": null,
      "visibility": "hidden",
      "width": null
     }
    },
    "8736add452684423861582ab07814018": {
     "model_module": "@jupyter-widgets/base",
     "model_module_version": "1.2.0",
     "model_name": "LayoutModel",
     "state": {
      "_model_module": "@jupyter-widgets/base",
      "_model_module_version": "1.2.0",
      "_model_name": "LayoutModel",
      "_view_count": null,
      "_view_module": "@jupyter-widgets/base",
      "_view_module_version": "1.2.0",
      "_view_name": "LayoutView",
      "align_content": null,
      "align_items": null,
      "align_self": null,
      "border": null,
      "bottom": null,
      "display": null,
      "flex": null,
      "flex_flow": null,
      "grid_area": null,
      "grid_auto_columns": null,
      "grid_auto_flow": null,
      "grid_auto_rows": null,
      "grid_column": null,
      "grid_gap": null,
      "grid_row": null,
      "grid_template_areas": null,
      "grid_template_columns": null,
      "grid_template_rows": null,
      "height": null,
      "justify_content": null,
      "justify_items": null,
      "left": null,
      "margin": null,
      "max_height": null,
      "max_width": null,
      "min_height": null,
      "min_width": null,
      "object_fit": null,
      "object_position": null,
      "order": null,
      "overflow": null,
      "overflow_x": null,
      "overflow_y": null,
      "padding": null,
      "right": null,
      "top": null,
      "visibility": "hidden",
      "width": null
     }
    },
    "91094e57d8e9435d8be15e6f2c3630b5": {
     "model_module": "@jupyter-widgets/controls",
     "model_module_version": "1.5.0",
     "model_name": "DescriptionStyleModel",
     "state": {
      "_model_module": "@jupyter-widgets/controls",
      "_model_module_version": "1.5.0",
      "_model_name": "DescriptionStyleModel",
      "_view_count": null,
      "_view_module": "@jupyter-widgets/base",
      "_view_module_version": "1.2.0",
      "_view_name": "StyleView",
      "description_width": ""
     }
    },
    "9907f87e5bb94ed7955bf1f951f84772": {
     "model_module": "@jupyter-widgets/base",
     "model_module_version": "1.2.0",
     "model_name": "LayoutModel",
     "state": {
      "_model_module": "@jupyter-widgets/base",
      "_model_module_version": "1.2.0",
      "_model_name": "LayoutModel",
      "_view_count": null,
      "_view_module": "@jupyter-widgets/base",
      "_view_module_version": "1.2.0",
      "_view_name": "LayoutView",
      "align_content": null,
      "align_items": null,
      "align_self": null,
      "border": null,
      "bottom": null,
      "display": null,
      "flex": null,
      "flex_flow": null,
      "grid_area": null,
      "grid_auto_columns": null,
      "grid_auto_flow": null,
      "grid_auto_rows": null,
      "grid_column": null,
      "grid_gap": null,
      "grid_row": null,
      "grid_template_areas": null,
      "grid_template_columns": null,
      "grid_template_rows": null,
      "height": null,
      "justify_content": null,
      "justify_items": null,
      "left": null,
      "margin": null,
      "max_height": null,
      "max_width": null,
      "min_height": null,
      "min_width": null,
      "object_fit": null,
      "object_position": null,
      "order": null,
      "overflow": null,
      "overflow_x": null,
      "overflow_y": null,
      "padding": null,
      "right": null,
      "top": null,
      "visibility": "hidden",
      "width": null
     }
    },
    "9b28a01f44154cccb422d98669b176e9": {
     "model_module": "@jupyter-widgets/controls",
     "model_module_version": "1.5.0",
     "model_name": "HTMLModel",
     "state": {
      "_dom_classes": [],
      "_model_module": "@jupyter-widgets/controls",
      "_model_module_version": "1.5.0",
      "_model_name": "HTMLModel",
      "_view_count": null,
      "_view_module": "@jupyter-widgets/controls",
      "_view_module_version": "1.5.0",
      "_view_name": "HTMLView",
      "description": "",
      "description_tooltip": null,
      "layout": "IPY_MODEL_ce346d68aa6a46fbb10c17dcfcf6193b",
      "placeholder": "​",
      "style": "IPY_MODEL_a6a331ec3f384bf486a0dd1e25725d34",
      "value": " 4000/4115 [00:02&lt;00:00, 2064.92 examples/s]"
     }
    },
    "9cdc9a20bf24408fb1f25f9886ef9bbc": {
     "model_module": "@jupyter-widgets/controls",
     "model_module_version": "1.5.0",
     "model_name": "ProgressStyleModel",
     "state": {
      "_model_module": "@jupyter-widgets/controls",
      "_model_module_version": "1.5.0",
      "_model_name": "ProgressStyleModel",
      "_view_count": null,
      "_view_module": "@jupyter-widgets/base",
      "_view_module_version": "1.2.0",
      "_view_name": "StyleView",
      "bar_color": null,
      "description_width": ""
     }
    },
    "a05f97458e994052a94fe24ab439a234": {
     "model_module": "@jupyter-widgets/controls",
     "model_module_version": "1.5.0",
     "model_name": "HBoxModel",
     "state": {
      "_dom_classes": [],
      "_model_module": "@jupyter-widgets/controls",
      "_model_module_version": "1.5.0",
      "_model_name": "HBoxModel",
      "_view_count": null,
      "_view_module": "@jupyter-widgets/controls",
      "_view_module_version": "1.5.0",
      "_view_name": "HBoxView",
      "box_style": "",
      "children": [
       "IPY_MODEL_11ed170170274d6fb0a3732221fd129d",
       "IPY_MODEL_5aef77a7cf924fd89d824f2267ae22f9",
       "IPY_MODEL_45a2a5a2d5d349e48067ab6cb512f26a"
      ],
      "layout": "IPY_MODEL_8736add452684423861582ab07814018"
     }
    },
    "a217fb3f6c6941bb8a42a60c6bbc74df": {
     "model_module": "@jupyter-widgets/controls",
     "model_module_version": "1.5.0",
     "model_name": "HBoxModel",
     "state": {
      "_dom_classes": [],
      "_model_module": "@jupyter-widgets/controls",
      "_model_module_version": "1.5.0",
      "_model_name": "HBoxModel",
      "_view_count": null,
      "_view_module": "@jupyter-widgets/controls",
      "_view_module_version": "1.5.0",
      "_view_name": "HBoxView",
      "box_style": "",
      "children": [
       "IPY_MODEL_ae085809f473413e98038743ddaae2bb",
       "IPY_MODEL_4a3d3e209d744e82b6e057663c36b2af",
       "IPY_MODEL_5be704471e4743778ee4acd520ea959f"
      ],
      "layout": "IPY_MODEL_9907f87e5bb94ed7955bf1f951f84772"
     }
    },
    "a22a3e5225384945b84805a85e85b943": {
     "model_module": "@jupyter-widgets/controls",
     "model_module_version": "1.5.0",
     "model_name": "HBoxModel",
     "state": {
      "_dom_classes": [],
      "_model_module": "@jupyter-widgets/controls",
      "_model_module_version": "1.5.0",
      "_model_name": "HBoxModel",
      "_view_count": null,
      "_view_module": "@jupyter-widgets/controls",
      "_view_module_version": "1.5.0",
      "_view_name": "HBoxView",
      "box_style": "",
      "children": [
       "IPY_MODEL_1922700251994205a1e5d7570cd8f000",
       "IPY_MODEL_c9982cd952fb4ab38f8c00779a2a550d",
       "IPY_MODEL_2f0e745b9401494180173a5f721e7bca"
      ],
      "layout": "IPY_MODEL_8229936012734c6e96b40740349deb46"
     }
    },
    "a506777a0bfa45aba1ee8618e74e6c9a": {
     "model_module": "@jupyter-widgets/base",
     "model_module_version": "1.2.0",
     "model_name": "LayoutModel",
     "state": {
      "_model_module": "@jupyter-widgets/base",
      "_model_module_version": "1.2.0",
      "_model_name": "LayoutModel",
      "_view_count": null,
      "_view_module": "@jupyter-widgets/base",
      "_view_module_version": "1.2.0",
      "_view_name": "LayoutView",
      "align_content": null,
      "align_items": null,
      "align_self": null,
      "border": null,
      "bottom": null,
      "display": null,
      "flex": null,
      "flex_flow": null,
      "grid_area": null,
      "grid_auto_columns": null,
      "grid_auto_flow": null,
      "grid_auto_rows": null,
      "grid_column": null,
      "grid_gap": null,
      "grid_row": null,
      "grid_template_areas": null,
      "grid_template_columns": null,
      "grid_template_rows": null,
      "height": null,
      "justify_content": null,
      "justify_items": null,
      "left": null,
      "margin": null,
      "max_height": null,
      "max_width": null,
      "min_height": null,
      "min_width": null,
      "object_fit": null,
      "object_position": null,
      "order": null,
      "overflow": null,
      "overflow_x": null,
      "overflow_y": null,
      "padding": null,
      "right": null,
      "top": null,
      "visibility": "hidden",
      "width": null
     }
    },
    "a542a3a7340242438d90400618219578": {
     "model_module": "@jupyter-widgets/controls",
     "model_module_version": "1.5.0",
     "model_name": "DescriptionStyleModel",
     "state": {
      "_model_module": "@jupyter-widgets/controls",
      "_model_module_version": "1.5.0",
      "_model_name": "DescriptionStyleModel",
      "_view_count": null,
      "_view_module": "@jupyter-widgets/base",
      "_view_module_version": "1.2.0",
      "_view_name": "StyleView",
      "description_width": ""
     }
    },
    "a6a331ec3f384bf486a0dd1e25725d34": {
     "model_module": "@jupyter-widgets/controls",
     "model_module_version": "1.5.0",
     "model_name": "DescriptionStyleModel",
     "state": {
      "_model_module": "@jupyter-widgets/controls",
      "_model_module_version": "1.5.0",
      "_model_name": "DescriptionStyleModel",
      "_view_count": null,
      "_view_module": "@jupyter-widgets/base",
      "_view_module_version": "1.2.0",
      "_view_name": "StyleView",
      "description_width": ""
     }
    },
    "a7b74a77e85045de9b517b258e5cb1f7": {
     "model_module": "@jupyter-widgets/controls",
     "model_module_version": "1.5.0",
     "model_name": "DescriptionStyleModel",
     "state": {
      "_model_module": "@jupyter-widgets/controls",
      "_model_module_version": "1.5.0",
      "_model_name": "DescriptionStyleModel",
      "_view_count": null,
      "_view_module": "@jupyter-widgets/base",
      "_view_module_version": "1.2.0",
      "_view_name": "StyleView",
      "description_width": ""
     }
    },
    "ae085809f473413e98038743ddaae2bb": {
     "model_module": "@jupyter-widgets/controls",
     "model_module_version": "1.5.0",
     "model_name": "HTMLModel",
     "state": {
      "_dom_classes": [],
      "_model_module": "@jupyter-widgets/controls",
      "_model_module_version": "1.5.0",
      "_model_name": "HTMLModel",
      "_view_count": null,
      "_view_module": "@jupyter-widgets/controls",
      "_view_module_version": "1.5.0",
      "_view_name": "HTMLView",
      "description": "",
      "description_tooltip": null,
      "layout": "IPY_MODEL_d96b9cbf70b7469c9b4c25213ed3d21c",
      "placeholder": "​",
      "style": "IPY_MODEL_b4974996e53342f78e6c9f55153ce333",
      "value": "Map:  97%"
     }
    },
    "b01a8cf787f04c39aa5ed53160d6f227": {
     "model_module": "@jupyter-widgets/base",
     "model_module_version": "1.2.0",
     "model_name": "LayoutModel",
     "state": {
      "_model_module": "@jupyter-widgets/base",
      "_model_module_version": "1.2.0",
      "_model_name": "LayoutModel",
      "_view_count": null,
      "_view_module": "@jupyter-widgets/base",
      "_view_module_version": "1.2.0",
      "_view_name": "LayoutView",
      "align_content": null,
      "align_items": null,
      "align_self": null,
      "border": null,
      "bottom": null,
      "display": null,
      "flex": null,
      "flex_flow": null,
      "grid_area": null,
      "grid_auto_columns": null,
      "grid_auto_flow": null,
      "grid_auto_rows": null,
      "grid_column": null,
      "grid_gap": null,
      "grid_row": null,
      "grid_template_areas": null,
      "grid_template_columns": null,
      "grid_template_rows": null,
      "height": null,
      "justify_content": null,
      "justify_items": null,
      "left": null,
      "margin": null,
      "max_height": null,
      "max_width": null,
      "min_height": null,
      "min_width": null,
      "object_fit": null,
      "object_position": null,
      "order": null,
      "overflow": null,
      "overflow_x": null,
      "overflow_y": null,
      "padding": null,
      "right": null,
      "top": null,
      "visibility": null,
      "width": null
     }
    },
    "b4974996e53342f78e6c9f55153ce333": {
     "model_module": "@jupyter-widgets/controls",
     "model_module_version": "1.5.0",
     "model_name": "DescriptionStyleModel",
     "state": {
      "_model_module": "@jupyter-widgets/controls",
      "_model_module_version": "1.5.0",
      "_model_name": "DescriptionStyleModel",
      "_view_count": null,
      "_view_module": "@jupyter-widgets/base",
      "_view_module_version": "1.2.0",
      "_view_name": "StyleView",
      "description_width": ""
     }
    },
    "b508d16bea8b44c3a8694e2c952d1f88": {
     "model_module": "@jupyter-widgets/base",
     "model_module_version": "1.2.0",
     "model_name": "LayoutModel",
     "state": {
      "_model_module": "@jupyter-widgets/base",
      "_model_module_version": "1.2.0",
      "_model_name": "LayoutModel",
      "_view_count": null,
      "_view_module": "@jupyter-widgets/base",
      "_view_module_version": "1.2.0",
      "_view_name": "LayoutView",
      "align_content": null,
      "align_items": null,
      "align_self": null,
      "border": null,
      "bottom": null,
      "display": null,
      "flex": null,
      "flex_flow": null,
      "grid_area": null,
      "grid_auto_columns": null,
      "grid_auto_flow": null,
      "grid_auto_rows": null,
      "grid_column": null,
      "grid_gap": null,
      "grid_row": null,
      "grid_template_areas": null,
      "grid_template_columns": null,
      "grid_template_rows": null,
      "height": null,
      "justify_content": null,
      "justify_items": null,
      "left": null,
      "margin": null,
      "max_height": null,
      "max_width": null,
      "min_height": null,
      "min_width": null,
      "object_fit": null,
      "object_position": null,
      "order": null,
      "overflow": null,
      "overflow_x": null,
      "overflow_y": null,
      "padding": null,
      "right": null,
      "top": null,
      "visibility": null,
      "width": null
     }
    },
    "b5e6ca3e877b4480878bc2ff8c8db8eb": {
     "model_module": "@jupyter-widgets/base",
     "model_module_version": "1.2.0",
     "model_name": "LayoutModel",
     "state": {
      "_model_module": "@jupyter-widgets/base",
      "_model_module_version": "1.2.0",
      "_model_name": "LayoutModel",
      "_view_count": null,
      "_view_module": "@jupyter-widgets/base",
      "_view_module_version": "1.2.0",
      "_view_name": "LayoutView",
      "align_content": null,
      "align_items": null,
      "align_self": null,
      "border": null,
      "bottom": null,
      "display": null,
      "flex": null,
      "flex_flow": null,
      "grid_area": null,
      "grid_auto_columns": null,
      "grid_auto_flow": null,
      "grid_auto_rows": null,
      "grid_column": null,
      "grid_gap": null,
      "grid_row": null,
      "grid_template_areas": null,
      "grid_template_columns": null,
      "grid_template_rows": null,
      "height": null,
      "justify_content": null,
      "justify_items": null,
      "left": null,
      "margin": null,
      "max_height": null,
      "max_width": null,
      "min_height": null,
      "min_width": null,
      "object_fit": null,
      "object_position": null,
      "order": null,
      "overflow": null,
      "overflow_x": null,
      "overflow_y": null,
      "padding": null,
      "right": null,
      "top": null,
      "visibility": null,
      "width": null
     }
    },
    "b5f66ef1ec99476ca3f40a42e1d8f3fd": {
     "model_module": "@jupyter-widgets/base",
     "model_module_version": "1.2.0",
     "model_name": "LayoutModel",
     "state": {
      "_model_module": "@jupyter-widgets/base",
      "_model_module_version": "1.2.0",
      "_model_name": "LayoutModel",
      "_view_count": null,
      "_view_module": "@jupyter-widgets/base",
      "_view_module_version": "1.2.0",
      "_view_name": "LayoutView",
      "align_content": null,
      "align_items": null,
      "align_self": null,
      "border": null,
      "bottom": null,
      "display": null,
      "flex": null,
      "flex_flow": null,
      "grid_area": null,
      "grid_auto_columns": null,
      "grid_auto_flow": null,
      "grid_auto_rows": null,
      "grid_column": null,
      "grid_gap": null,
      "grid_row": null,
      "grid_template_areas": null,
      "grid_template_columns": null,
      "grid_template_rows": null,
      "height": null,
      "justify_content": null,
      "justify_items": null,
      "left": null,
      "margin": null,
      "max_height": null,
      "max_width": null,
      "min_height": null,
      "min_width": null,
      "object_fit": null,
      "object_position": null,
      "order": null,
      "overflow": null,
      "overflow_x": null,
      "overflow_y": null,
      "padding": null,
      "right": null,
      "top": null,
      "visibility": null,
      "width": null
     }
    },
    "b76dc0e1d18043b6a204bacb3dd9292a": {
     "model_module": "@jupyter-widgets/controls",
     "model_module_version": "1.5.0",
     "model_name": "ProgressStyleModel",
     "state": {
      "_model_module": "@jupyter-widgets/controls",
      "_model_module_version": "1.5.0",
      "_model_name": "ProgressStyleModel",
      "_view_count": null,
      "_view_module": "@jupyter-widgets/base",
      "_view_module_version": "1.2.0",
      "_view_name": "StyleView",
      "bar_color": null,
      "description_width": ""
     }
    },
    "b9fddbe1805e4482b05144437e0dc486": {
     "model_module": "@jupyter-widgets/controls",
     "model_module_version": "1.5.0",
     "model_name": "ProgressStyleModel",
     "state": {
      "_model_module": "@jupyter-widgets/controls",
      "_model_module_version": "1.5.0",
      "_model_name": "ProgressStyleModel",
      "_view_count": null,
      "_view_module": "@jupyter-widgets/base",
      "_view_module_version": "1.2.0",
      "_view_name": "StyleView",
      "bar_color": null,
      "description_width": ""
     }
    },
    "ba7555b1a5004de39722b44dde0c2421": {
     "model_module": "@jupyter-widgets/base",
     "model_module_version": "1.2.0",
     "model_name": "LayoutModel",
     "state": {
      "_model_module": "@jupyter-widgets/base",
      "_model_module_version": "1.2.0",
      "_model_name": "LayoutModel",
      "_view_count": null,
      "_view_module": "@jupyter-widgets/base",
      "_view_module_version": "1.2.0",
      "_view_name": "LayoutView",
      "align_content": null,
      "align_items": null,
      "align_self": null,
      "border": null,
      "bottom": null,
      "display": null,
      "flex": null,
      "flex_flow": null,
      "grid_area": null,
      "grid_auto_columns": null,
      "grid_auto_flow": null,
      "grid_auto_rows": null,
      "grid_column": null,
      "grid_gap": null,
      "grid_row": null,
      "grid_template_areas": null,
      "grid_template_columns": null,
      "grid_template_rows": null,
      "height": null,
      "justify_content": null,
      "justify_items": null,
      "left": null,
      "margin": null,
      "max_height": null,
      "max_width": null,
      "min_height": null,
      "min_width": null,
      "object_fit": null,
      "object_position": null,
      "order": null,
      "overflow": null,
      "overflow_x": null,
      "overflow_y": null,
      "padding": null,
      "right": null,
      "top": null,
      "visibility": null,
      "width": null
     }
    },
    "bb9b8de77d884d51811233fe65a87321": {
     "model_module": "@jupyter-widgets/controls",
     "model_module_version": "1.5.0",
     "model_name": "DescriptionStyleModel",
     "state": {
      "_model_module": "@jupyter-widgets/controls",
      "_model_module_version": "1.5.0",
      "_model_name": "DescriptionStyleModel",
      "_view_count": null,
      "_view_module": "@jupyter-widgets/base",
      "_view_module_version": "1.2.0",
      "_view_name": "StyleView",
      "description_width": ""
     }
    },
    "bc47a578bf4f451cb3b7ec22dc816ad5": {
     "model_module": "@jupyter-widgets/base",
     "model_module_version": "1.2.0",
     "model_name": "LayoutModel",
     "state": {
      "_model_module": "@jupyter-widgets/base",
      "_model_module_version": "1.2.0",
      "_model_name": "LayoutModel",
      "_view_count": null,
      "_view_module": "@jupyter-widgets/base",
      "_view_module_version": "1.2.0",
      "_view_name": "LayoutView",
      "align_content": null,
      "align_items": null,
      "align_self": null,
      "border": null,
      "bottom": null,
      "display": null,
      "flex": null,
      "flex_flow": null,
      "grid_area": null,
      "grid_auto_columns": null,
      "grid_auto_flow": null,
      "grid_auto_rows": null,
      "grid_column": null,
      "grid_gap": null,
      "grid_row": null,
      "grid_template_areas": null,
      "grid_template_columns": null,
      "grid_template_rows": null,
      "height": null,
      "justify_content": null,
      "justify_items": null,
      "left": null,
      "margin": null,
      "max_height": null,
      "max_width": null,
      "min_height": null,
      "min_width": null,
      "object_fit": null,
      "object_position": null,
      "order": null,
      "overflow": null,
      "overflow_x": null,
      "overflow_y": null,
      "padding": null,
      "right": null,
      "top": null,
      "visibility": null,
      "width": null
     }
    },
    "c15a8cba88e14900820cc8600a541d0b": {
     "model_module": "@jupyter-widgets/controls",
     "model_module_version": "1.5.0",
     "model_name": "DescriptionStyleModel",
     "state": {
      "_model_module": "@jupyter-widgets/controls",
      "_model_module_version": "1.5.0",
      "_model_name": "DescriptionStyleModel",
      "_view_count": null,
      "_view_module": "@jupyter-widgets/base",
      "_view_module_version": "1.2.0",
      "_view_name": "StyleView",
      "description_width": ""
     }
    },
    "c23b1ec0399e417b9a3bf96313990ab4": {
     "model_module": "@jupyter-widgets/controls",
     "model_module_version": "1.5.0",
     "model_name": "HTMLModel",
     "state": {
      "_dom_classes": [],
      "_model_module": "@jupyter-widgets/controls",
      "_model_module_version": "1.5.0",
      "_model_name": "HTMLModel",
      "_view_count": null,
      "_view_module": "@jupyter-widgets/controls",
      "_view_module_version": "1.5.0",
      "_view_name": "HTMLView",
      "description": "",
      "description_tooltip": null,
      "layout": "IPY_MODEL_2d8d2ab49c7f4d91b466669ee0713dbb",
      "placeholder": "​",
      "style": "IPY_MODEL_a542a3a7340242438d90400618219578",
      "value": " 32924/32924 [00:11&lt;00:00, 3098.19 examples/s]"
     }
    },
    "c2fd17542dd049ce8ee7a1b4e82c172f": {
     "model_module": "@jupyter-widgets/controls",
     "model_module_version": "1.5.0",
     "model_name": "DescriptionStyleModel",
     "state": {
      "_model_module": "@jupyter-widgets/controls",
      "_model_module_version": "1.5.0",
      "_model_name": "DescriptionStyleModel",
      "_view_count": null,
      "_view_module": "@jupyter-widgets/base",
      "_view_module_version": "1.2.0",
      "_view_name": "StyleView",
      "description_width": ""
     }
    },
    "c9982cd952fb4ab38f8c00779a2a550d": {
     "model_module": "@jupyter-widgets/controls",
     "model_module_version": "1.5.0",
     "model_name": "FloatProgressModel",
     "state": {
      "_dom_classes": [],
      "_model_module": "@jupyter-widgets/controls",
      "_model_module_version": "1.5.0",
      "_model_name": "FloatProgressModel",
      "_view_count": null,
      "_view_module": "@jupyter-widgets/controls",
      "_view_module_version": "1.5.0",
      "_view_name": "ProgressView",
      "bar_style": "",
      "description": "",
      "description_tooltip": null,
      "layout": "IPY_MODEL_157734a090b84ebfbb2748a734638e66",
      "max": 4115,
      "min": 0,
      "orientation": "horizontal",
      "style": "IPY_MODEL_111801f2b7eb476bb78aa8542225f435",
      "value": 4115
     }
    },
    "ccf4ba2347874ff9a6867211427f970d": {
     "model_module": "@jupyter-widgets/controls",
     "model_module_version": "1.5.0",
     "model_name": "ProgressStyleModel",
     "state": {
      "_model_module": "@jupyter-widgets/controls",
      "_model_module_version": "1.5.0",
      "_model_name": "ProgressStyleModel",
      "_view_count": null,
      "_view_module": "@jupyter-widgets/base",
      "_view_module_version": "1.2.0",
      "_view_name": "StyleView",
      "bar_color": null,
      "description_width": ""
     }
    },
    "ce346d68aa6a46fbb10c17dcfcf6193b": {
     "model_module": "@jupyter-widgets/base",
     "model_module_version": "1.2.0",
     "model_name": "LayoutModel",
     "state": {
      "_model_module": "@jupyter-widgets/base",
      "_model_module_version": "1.2.0",
      "_model_name": "LayoutModel",
      "_view_count": null,
      "_view_module": "@jupyter-widgets/base",
      "_view_module_version": "1.2.0",
      "_view_name": "LayoutView",
      "align_content": null,
      "align_items": null,
      "align_self": null,
      "border": null,
      "bottom": null,
      "display": null,
      "flex": null,
      "flex_flow": null,
      "grid_area": null,
      "grid_auto_columns": null,
      "grid_auto_flow": null,
      "grid_auto_rows": null,
      "grid_column": null,
      "grid_gap": null,
      "grid_row": null,
      "grid_template_areas": null,
      "grid_template_columns": null,
      "grid_template_rows": null,
      "height": null,
      "justify_content": null,
      "justify_items": null,
      "left": null,
      "margin": null,
      "max_height": null,
      "max_width": null,
      "min_height": null,
      "min_width": null,
      "object_fit": null,
      "object_position": null,
      "order": null,
      "overflow": null,
      "overflow_x": null,
      "overflow_y": null,
      "padding": null,
      "right": null,
      "top": null,
      "visibility": null,
      "width": null
     }
    },
    "d3214623dfe249ab9ecd4044d72d3b35": {
     "model_module": "@jupyter-widgets/base",
     "model_module_version": "1.2.0",
     "model_name": "LayoutModel",
     "state": {
      "_model_module": "@jupyter-widgets/base",
      "_model_module_version": "1.2.0",
      "_model_name": "LayoutModel",
      "_view_count": null,
      "_view_module": "@jupyter-widgets/base",
      "_view_module_version": "1.2.0",
      "_view_name": "LayoutView",
      "align_content": null,
      "align_items": null,
      "align_self": null,
      "border": null,
      "bottom": null,
      "display": null,
      "flex": null,
      "flex_flow": null,
      "grid_area": null,
      "grid_auto_columns": null,
      "grid_auto_flow": null,
      "grid_auto_rows": null,
      "grid_column": null,
      "grid_gap": null,
      "grid_row": null,
      "grid_template_areas": null,
      "grid_template_columns": null,
      "grid_template_rows": null,
      "height": null,
      "justify_content": null,
      "justify_items": null,
      "left": null,
      "margin": null,
      "max_height": null,
      "max_width": null,
      "min_height": null,
      "min_width": null,
      "object_fit": null,
      "object_position": null,
      "order": null,
      "overflow": null,
      "overflow_x": null,
      "overflow_y": null,
      "padding": null,
      "right": null,
      "top": null,
      "visibility": null,
      "width": null
     }
    },
    "d6d364a2593341eb89ba69d562b22495": {
     "model_module": "@jupyter-widgets/base",
     "model_module_version": "1.2.0",
     "model_name": "LayoutModel",
     "state": {
      "_model_module": "@jupyter-widgets/base",
      "_model_module_version": "1.2.0",
      "_model_name": "LayoutModel",
      "_view_count": null,
      "_view_module": "@jupyter-widgets/base",
      "_view_module_version": "1.2.0",
      "_view_name": "LayoutView",
      "align_content": null,
      "align_items": null,
      "align_self": null,
      "border": null,
      "bottom": null,
      "display": null,
      "flex": null,
      "flex_flow": null,
      "grid_area": null,
      "grid_auto_columns": null,
      "grid_auto_flow": null,
      "grid_auto_rows": null,
      "grid_column": null,
      "grid_gap": null,
      "grid_row": null,
      "grid_template_areas": null,
      "grid_template_columns": null,
      "grid_template_rows": null,
      "height": null,
      "justify_content": null,
      "justify_items": null,
      "left": null,
      "margin": null,
      "max_height": null,
      "max_width": null,
      "min_height": null,
      "min_width": null,
      "object_fit": null,
      "object_position": null,
      "order": null,
      "overflow": null,
      "overflow_x": null,
      "overflow_y": null,
      "padding": null,
      "right": null,
      "top": null,
      "visibility": null,
      "width": null
     }
    },
    "d96b9cbf70b7469c9b4c25213ed3d21c": {
     "model_module": "@jupyter-widgets/base",
     "model_module_version": "1.2.0",
     "model_name": "LayoutModel",
     "state": {
      "_model_module": "@jupyter-widgets/base",
      "_model_module_version": "1.2.0",
      "_model_name": "LayoutModel",
      "_view_count": null,
      "_view_module": "@jupyter-widgets/base",
      "_view_module_version": "1.2.0",
      "_view_name": "LayoutView",
      "align_content": null,
      "align_items": null,
      "align_self": null,
      "border": null,
      "bottom": null,
      "display": null,
      "flex": null,
      "flex_flow": null,
      "grid_area": null,
      "grid_auto_columns": null,
      "grid_auto_flow": null,
      "grid_auto_rows": null,
      "grid_column": null,
      "grid_gap": null,
      "grid_row": null,
      "grid_template_areas": null,
      "grid_template_columns": null,
      "grid_template_rows": null,
      "height": null,
      "justify_content": null,
      "justify_items": null,
      "left": null,
      "margin": null,
      "max_height": null,
      "max_width": null,
      "min_height": null,
      "min_width": null,
      "object_fit": null,
      "object_position": null,
      "order": null,
      "overflow": null,
      "overflow_x": null,
      "overflow_y": null,
      "padding": null,
      "right": null,
      "top": null,
      "visibility": null,
      "width": null
     }
    },
    "dd401128ec1c4272a9dea9e39b5edd62": {
     "model_module": "@jupyter-widgets/controls",
     "model_module_version": "1.5.0",
     "model_name": "HTMLModel",
     "state": {
      "_dom_classes": [],
      "_model_module": "@jupyter-widgets/controls",
      "_model_module_version": "1.5.0",
      "_model_name": "HTMLModel",
      "_view_count": null,
      "_view_module": "@jupyter-widgets/controls",
      "_view_module_version": "1.5.0",
      "_view_name": "HTMLView",
      "description": "",
      "description_tooltip": null,
      "layout": "IPY_MODEL_f2daf9739ef048e9a5392beaaf3c90b5",
      "placeholder": "​",
      "style": "IPY_MODEL_4700e0447b464512b625ef72805f8f91",
      "value": "Map:  97%"
     }
    },
    "dd869d89734447c9aeedff31bb7d87a7": {
     "model_module": "@jupyter-widgets/controls",
     "model_module_version": "1.5.0",
     "model_name": "DescriptionStyleModel",
     "state": {
      "_model_module": "@jupyter-widgets/controls",
      "_model_module_version": "1.5.0",
      "_model_name": "DescriptionStyleModel",
      "_view_count": null,
      "_view_module": "@jupyter-widgets/base",
      "_view_module_version": "1.2.0",
      "_view_name": "StyleView",
      "description_width": ""
     }
    },
    "dead5abc9bc94e4294ccd3a5f949e751": {
     "model_module": "@jupyter-widgets/base",
     "model_module_version": "1.2.0",
     "model_name": "LayoutModel",
     "state": {
      "_model_module": "@jupyter-widgets/base",
      "_model_module_version": "1.2.0",
      "_model_name": "LayoutModel",
      "_view_count": null,
      "_view_module": "@jupyter-widgets/base",
      "_view_module_version": "1.2.0",
      "_view_name": "LayoutView",
      "align_content": null,
      "align_items": null,
      "align_self": null,
      "border": null,
      "bottom": null,
      "display": null,
      "flex": null,
      "flex_flow": null,
      "grid_area": null,
      "grid_auto_columns": null,
      "grid_auto_flow": null,
      "grid_auto_rows": null,
      "grid_column": null,
      "grid_gap": null,
      "grid_row": null,
      "grid_template_areas": null,
      "grid_template_columns": null,
      "grid_template_rows": null,
      "height": null,
      "justify_content": null,
      "justify_items": null,
      "left": null,
      "margin": null,
      "max_height": null,
      "max_width": null,
      "min_height": null,
      "min_width": null,
      "object_fit": null,
      "object_position": null,
      "order": null,
      "overflow": null,
      "overflow_x": null,
      "overflow_y": null,
      "padding": null,
      "right": null,
      "top": null,
      "visibility": null,
      "width": null
     }
    },
    "df0336a9e9dd4561bbc3d52c0b002ea1": {
     "model_module": "@jupyter-widgets/controls",
     "model_module_version": "1.5.0",
     "model_name": "ProgressStyleModel",
     "state": {
      "_model_module": "@jupyter-widgets/controls",
      "_model_module_version": "1.5.0",
      "_model_name": "ProgressStyleModel",
      "_view_count": null,
      "_view_module": "@jupyter-widgets/base",
      "_view_module_version": "1.2.0",
      "_view_name": "StyleView",
      "bar_color": null,
      "description_width": ""
     }
    },
    "e006789671bd4419991cd01d57ee8203": {
     "model_module": "@jupyter-widgets/controls",
     "model_module_version": "1.5.0",
     "model_name": "DescriptionStyleModel",
     "state": {
      "_model_module": "@jupyter-widgets/controls",
      "_model_module_version": "1.5.0",
      "_model_name": "DescriptionStyleModel",
      "_view_count": null,
      "_view_module": "@jupyter-widgets/base",
      "_view_module_version": "1.2.0",
      "_view_name": "StyleView",
      "description_width": ""
     }
    },
    "e90de7a1e846456883a1615894c2df41": {
     "model_module": "@jupyter-widgets/controls",
     "model_module_version": "1.5.0",
     "model_name": "HTMLModel",
     "state": {
      "_dom_classes": [],
      "_model_module": "@jupyter-widgets/controls",
      "_model_module_version": "1.5.0",
      "_model_name": "HTMLModel",
      "_view_count": null,
      "_view_module": "@jupyter-widgets/controls",
      "_view_module_version": "1.5.0",
      "_view_name": "HTMLView",
      "description": "",
      "description_tooltip": null,
      "layout": "IPY_MODEL_d3214623dfe249ab9ecd4044d72d3b35",
      "placeholder": "​",
      "style": "IPY_MODEL_144cb8f6a6ab45c386cd8cc4ee47c91d",
      "value": "Map: 100%"
     }
    },
    "ec3b11d2c6f04cbf81a937163ae872e4": {
     "model_module": "@jupyter-widgets/controls",
     "model_module_version": "1.5.0",
     "model_name": "HBoxModel",
     "state": {
      "_dom_classes": [],
      "_model_module": "@jupyter-widgets/controls",
      "_model_module_version": "1.5.0",
      "_model_name": "HBoxModel",
      "_view_count": null,
      "_view_module": "@jupyter-widgets/controls",
      "_view_module_version": "1.5.0",
      "_view_name": "HBoxView",
      "box_style": "",
      "children": [
       "IPY_MODEL_19a37c7d52dd4aadbc0e61dff8b2a4f2",
       "IPY_MODEL_1dc8006b65ef44ab8d04d264e6620996",
       "IPY_MODEL_c23b1ec0399e417b9a3bf96313990ab4"
      ],
      "layout": "IPY_MODEL_a506777a0bfa45aba1ee8618e74e6c9a"
     }
    },
    "ecee8df590874396b4e6c2d0584861ad": {
     "model_module": "@jupyter-widgets/base",
     "model_module_version": "1.2.0",
     "model_name": "LayoutModel",
     "state": {
      "_model_module": "@jupyter-widgets/base",
      "_model_module_version": "1.2.0",
      "_model_name": "LayoutModel",
      "_view_count": null,
      "_view_module": "@jupyter-widgets/base",
      "_view_module_version": "1.2.0",
      "_view_name": "LayoutView",
      "align_content": null,
      "align_items": null,
      "align_self": null,
      "border": null,
      "bottom": null,
      "display": null,
      "flex": null,
      "flex_flow": null,
      "grid_area": null,
      "grid_auto_columns": null,
      "grid_auto_flow": null,
      "grid_auto_rows": null,
      "grid_column": null,
      "grid_gap": null,
      "grid_row": null,
      "grid_template_areas": null,
      "grid_template_columns": null,
      "grid_template_rows": null,
      "height": null,
      "justify_content": null,
      "justify_items": null,
      "left": null,
      "margin": null,
      "max_height": null,
      "max_width": null,
      "min_height": null,
      "min_width": null,
      "object_fit": null,
      "object_position": null,
      "order": null,
      "overflow": null,
      "overflow_x": null,
      "overflow_y": null,
      "padding": null,
      "right": null,
      "top": null,
      "visibility": "hidden",
      "width": null
     }
    },
    "f2daf9739ef048e9a5392beaaf3c90b5": {
     "model_module": "@jupyter-widgets/base",
     "model_module_version": "1.2.0",
     "model_name": "LayoutModel",
     "state": {
      "_model_module": "@jupyter-widgets/base",
      "_model_module_version": "1.2.0",
      "_model_name": "LayoutModel",
      "_view_count": null,
      "_view_module": "@jupyter-widgets/base",
      "_view_module_version": "1.2.0",
      "_view_name": "LayoutView",
      "align_content": null,
      "align_items": null,
      "align_self": null,
      "border": null,
      "bottom": null,
      "display": null,
      "flex": null,
      "flex_flow": null,
      "grid_area": null,
      "grid_auto_columns": null,
      "grid_auto_flow": null,
      "grid_auto_rows": null,
      "grid_column": null,
      "grid_gap": null,
      "grid_row": null,
      "grid_template_areas": null,
      "grid_template_columns": null,
      "grid_template_rows": null,
      "height": null,
      "justify_content": null,
      "justify_items": null,
      "left": null,
      "margin": null,
      "max_height": null,
      "max_width": null,
      "min_height": null,
      "min_width": null,
      "object_fit": null,
      "object_position": null,
      "order": null,
      "overflow": null,
      "overflow_x": null,
      "overflow_y": null,
      "padding": null,
      "right": null,
      "top": null,
      "visibility": null,
      "width": null
     }
    },
    "f3f9dafa73f847f3ba4795716de2af55": {
     "model_module": "@jupyter-widgets/controls",
     "model_module_version": "1.5.0",
     "model_name": "DescriptionStyleModel",
     "state": {
      "_model_module": "@jupyter-widgets/controls",
      "_model_module_version": "1.5.0",
      "_model_name": "DescriptionStyleModel",
      "_view_count": null,
      "_view_module": "@jupyter-widgets/base",
      "_view_module_version": "1.2.0",
      "_view_name": "StyleView",
      "description_width": ""
     }
    },
    "fb452960f3e04283abb9256f10b3e8e3": {
     "model_module": "@jupyter-widgets/controls",
     "model_module_version": "1.5.0",
     "model_name": "HBoxModel",
     "state": {
      "_dom_classes": [],
      "_model_module": "@jupyter-widgets/controls",
      "_model_module_version": "1.5.0",
      "_model_name": "HBoxModel",
      "_view_count": null,
      "_view_module": "@jupyter-widgets/controls",
      "_view_module_version": "1.5.0",
      "_view_name": "HBoxView",
      "box_style": "",
      "children": [
       "IPY_MODEL_e90de7a1e846456883a1615894c2df41",
       "IPY_MODEL_0733fb487c3a4d0c884b284a5ffee152",
       "IPY_MODEL_4d384476c377468d84f11c2b06113e1f"
      ],
      "layout": "IPY_MODEL_ecee8df590874396b4e6c2d0584861ad"
     }
    }
   }
  }
 },
 "nbformat": 4,
 "nbformat_minor": 4
}
