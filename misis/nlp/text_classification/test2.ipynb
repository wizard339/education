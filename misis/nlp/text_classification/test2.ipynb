{
 "cells": [
  {
   "cell_type": "code",
   "execution_count": 1,
   "metadata": {
    "id": "546Hr8Fl2eOD"
   },
   "outputs": [
    {
     "name": "stdout",
     "output_type": "stream",
     "text": [
      "Requirement already satisfied: transformers in c:\\programdata\\anaconda3\\envs\\pytorch_1\\lib\\site-packages (4.26.1)\n",
      "Requirement already satisfied: datasets in c:\\programdata\\anaconda3\\envs\\pytorch_1\\lib\\site-packages (2.10.1)\n",
      "Requirement already satisfied: evaluate in c:\\programdata\\anaconda3\\envs\\pytorch_1\\lib\\site-packages (0.4.0)\n",
      "Requirement already satisfied: packaging>=20.0 in c:\\programdata\\anaconda3\\envs\\pytorch_1\\lib\\site-packages (from transformers) (22.0)\n",
      "Requirement already satisfied: tqdm>=4.27 in c:\\programdata\\anaconda3\\envs\\pytorch_1\\lib\\site-packages (from transformers) (4.65.0)\n",
      "Requirement already satisfied: tokenizers!=0.11.3,<0.14,>=0.11.1 in c:\\programdata\\anaconda3\\envs\\pytorch_1\\lib\\site-packages (from transformers) (0.13.2)\n",
      "Requirement already satisfied: pyyaml>=5.1 in c:\\programdata\\anaconda3\\envs\\pytorch_1\\lib\\site-packages (from transformers) (6.0)\n",
      "Requirement already satisfied: huggingface-hub<1.0,>=0.11.0 in c:\\programdata\\anaconda3\\envs\\pytorch_1\\lib\\site-packages (from transformers) (0.12.1)\n",
      "Requirement already satisfied: regex!=2019.12.17 in c:\\programdata\\anaconda3\\envs\\pytorch_1\\lib\\site-packages (from transformers) (2022.10.31)\n",
      "Requirement already satisfied: filelock in c:\\programdata\\anaconda3\\envs\\pytorch_1\\lib\\site-packages (from transformers) (3.9.0)\n",
      "Requirement already satisfied: requests in c:\\programdata\\anaconda3\\envs\\pytorch_1\\lib\\site-packages (from transformers) (2.28.1)\n",
      "Requirement already satisfied: numpy>=1.17 in c:\\programdata\\anaconda3\\envs\\pytorch_1\\lib\\site-packages (from transformers) (1.23.5)\n",
      "Requirement already satisfied: multiprocess in c:\\programdata\\anaconda3\\envs\\pytorch_1\\lib\\site-packages (from datasets) (0.70.14)\n",
      "Requirement already satisfied: fsspec[http]>=2021.11.1 in c:\\programdata\\anaconda3\\envs\\pytorch_1\\lib\\site-packages (from datasets) (2023.3.0)\n",
      "Requirement already satisfied: pyarrow>=6.0.0 in c:\\programdata\\anaconda3\\envs\\pytorch_1\\lib\\site-packages (from datasets) (11.0.0)\n",
      "Requirement already satisfied: pandas in c:\\programdata\\anaconda3\\envs\\pytorch_1\\lib\\site-packages (from datasets) (1.5.3)\n",
      "Requirement already satisfied: xxhash in c:\\programdata\\anaconda3\\envs\\pytorch_1\\lib\\site-packages (from datasets) (3.2.0)\n",
      "Requirement already satisfied: responses<0.19 in c:\\programdata\\anaconda3\\envs\\pytorch_1\\lib\\site-packages (from datasets) (0.18.0)\n",
      "Requirement already satisfied: dill<0.3.7,>=0.3.0 in c:\\programdata\\anaconda3\\envs\\pytorch_1\\lib\\site-packages (from datasets) (0.3.6)\n",
      "Requirement already satisfied: aiohttp in c:\\programdata\\anaconda3\\envs\\pytorch_1\\lib\\site-packages (from datasets) (3.8.4)\n",
      "Requirement already satisfied: attrs>=17.3.0 in c:\\programdata\\anaconda3\\envs\\pytorch_1\\lib\\site-packages (from aiohttp->datasets) (22.1.0)\n",
      "Requirement already satisfied: charset-normalizer<4.0,>=2.0 in c:\\programdata\\anaconda3\\envs\\pytorch_1\\lib\\site-packages (from aiohttp->datasets) (2.0.4)\n",
      "Requirement already satisfied: frozenlist>=1.1.1 in c:\\programdata\\anaconda3\\envs\\pytorch_1\\lib\\site-packages (from aiohttp->datasets) (1.3.3)\n",
      "Requirement already satisfied: async-timeout<5.0,>=4.0.0a3 in c:\\programdata\\anaconda3\\envs\\pytorch_1\\lib\\site-packages (from aiohttp->datasets) (4.0.2)\n",
      "Requirement already satisfied: yarl<2.0,>=1.0 in c:\\programdata\\anaconda3\\envs\\pytorch_1\\lib\\site-packages (from aiohttp->datasets) (1.8.2)\n",
      "Requirement already satisfied: aiosignal>=1.1.2 in c:\\programdata\\anaconda3\\envs\\pytorch_1\\lib\\site-packages (from aiohttp->datasets) (1.3.1)\n",
      "Requirement already satisfied: multidict<7.0,>=4.5 in c:\\programdata\\anaconda3\\envs\\pytorch_1\\lib\\site-packages (from aiohttp->datasets) (6.0.4)\n",
      "Requirement already satisfied: typing-extensions>=3.7.4.3 in c:\\programdata\\anaconda3\\envs\\pytorch_1\\lib\\site-packages (from huggingface-hub<1.0,>=0.11.0->transformers) (4.5.0)\n",
      "Requirement already satisfied: certifi>=2017.4.17 in c:\\programdata\\anaconda3\\envs\\pytorch_1\\lib\\site-packages (from requests->transformers) (2022.12.7)\n",
      "Requirement already satisfied: urllib3<1.27,>=1.21.1 in c:\\programdata\\anaconda3\\envs\\pytorch_1\\lib\\site-packages (from requests->transformers) (1.26.14)\n",
      "Requirement already satisfied: idna<4,>=2.5 in c:\\programdata\\anaconda3\\envs\\pytorch_1\\lib\\site-packages (from requests->transformers) (3.4)\n",
      "Requirement already satisfied: colorama in c:\\programdata\\anaconda3\\envs\\pytorch_1\\lib\\site-packages (from tqdm>=4.27->transformers) (0.4.6)\n",
      "Requirement already satisfied: python-dateutil>=2.8.1 in c:\\programdata\\anaconda3\\envs\\pytorch_1\\lib\\site-packages (from pandas->datasets) (2.8.2)\n",
      "Requirement already satisfied: pytz>=2020.1 in c:\\programdata\\anaconda3\\envs\\pytorch_1\\lib\\site-packages (from pandas->datasets) (2022.7)\n",
      "Requirement already satisfied: six>=1.5 in c:\\programdata\\anaconda3\\envs\\pytorch_1\\lib\\site-packages (from python-dateutil>=2.8.1->pandas->datasets) (1.16.0)\n"
     ]
    }
   ],
   "source": [
    "!pip install transformers datasets evaluate"
   ]
  },
  {
   "cell_type": "code",
   "execution_count": 2,
   "metadata": {
    "id": "4QrD0qmKkiRL"
   },
   "outputs": [
    {
     "name": "stderr",
     "output_type": "stream",
     "text": [
      "C:\\ProgramData\\Anaconda3\\envs\\pytorch_1\\lib\\site-packages\\tqdm\\auto.py:21: TqdmWarning: IProgress not found. Please update jupyter and ipywidgets. See https://ipywidgets.readthedocs.io/en/stable/user_install.html\n",
      "  from .autonotebook import tqdm as notebook_tqdm\n"
     ]
    }
   ],
   "source": [
    "import pandas as pd\n",
    "import numpy as np\n",
    "import matplotlib.pyplot as plt\n",
    "import re\n",
    "import torch\n",
    "import torchtext\n",
    "import gensim.downloader\n",
    "from torch.utils.data import DataLoader\n",
    "from torchtext.data import get_tokenizer\n",
    "from torchtext.vocab import build_vocab_from_iterator\n",
    "from torch.types import Device\n",
    "from torch.utils.data import DataLoader\n",
    "from torchtext.data.functional import to_map_style_dataset\n",
    "from prompt_toolkit import output\n",
    "from torch import nn\n",
    "from torch.nn import functional as F\n",
    "from torch.optim import Adam\n",
    "from torch.nn.init import xavier_uniform_\n",
    "\n",
    "from sklearn.preprocessing import LabelEncoder\n",
    "from sklearn.model_selection import train_test_split\n",
    "\n",
    "#Seed for reproducibility\n",
    "import random\n",
    "\n",
    "seed_value=42\n",
    "random.seed(seed_value)\n",
    "np.random.seed(seed_value)\n",
    "torch.manual_seed(seed_value)\n",
    "torch.cuda.manual_seed_all(seed_value)\n",
    "\n",
    "%matplotlib inline\n",
    "plt.style.use('ggplot')"
   ]
  },
  {
   "cell_type": "markdown",
   "metadata": {
    "id": "pSRRIo1JlDyH"
   },
   "source": [
    "## Loading data, EDA, data preprocessing"
   ]
  },
  {
   "cell_type": "markdown",
   "metadata": {
    "id": "zASd3CbiAtx7"
   },
   "source": [
    "### Loading data"
   ]
  },
  {
   "cell_type": "code",
   "execution_count": 3,
   "metadata": {
    "colab": {
     "base_uri": "https://localhost:8080/"
    },
    "id": "XI6DAnfpk7rv",
    "outputId": "c439fe8d-e4a8-4f04-a0cd-8a878568d9c4"
   },
   "outputs": [
    {
     "name": "stdout",
     "output_type": "stream",
     "text": [
      "Shape of train: (41159, 2)\n",
      "Shape of test: (3798, 2)\n"
     ]
    }
   ],
   "source": [
    "train_raw_data = pd.read_csv(filepath_or_buffer='https://raw.githubusercontent.com/wizard339/education/main/misis/nlp/text_classification/train.csv', index_col=0)\n",
    "final_test_raw_data = pd.read_csv(filepath_or_buffer='https://raw.githubusercontent.com/wizard339/education/main/misis/nlp/text_classification/test.csv')\n",
    "\n",
    "print(f'Shape of train: {train_raw_data.shape}')\n",
    "print(f'Shape of test: {final_test_raw_data.shape}')"
   ]
  },
  {
   "cell_type": "markdown",
   "metadata": {
    "id": "JWrgde2Lucb5"
   },
   "source": [
    "### Working with missing data"
   ]
  },
  {
   "cell_type": "markdown",
   "metadata": {
    "id": "RUiEV9aau6qo"
   },
   "source": [
    "Let's look at the data:\n"
   ]
  },
  {
   "cell_type": "code",
   "execution_count": 4,
   "metadata": {
    "colab": {
     "base_uri": "https://localhost:8080/",
     "height": 0
    },
    "id": "1sa0Mvfzlx1Z",
    "outputId": "9211191e-a12b-43c9-92bc-49eddee15d56"
   },
   "outputs": [
    {
     "data": {
      "text/html": [
       "<div>\n",
       "<style scoped>\n",
       "    .dataframe tbody tr th:only-of-type {\n",
       "        vertical-align: middle;\n",
       "    }\n",
       "\n",
       "    .dataframe tbody tr th {\n",
       "        vertical-align: top;\n",
       "    }\n",
       "\n",
       "    .dataframe thead th {\n",
       "        text-align: right;\n",
       "    }\n",
       "</style>\n",
       "<table border=\"1\" class=\"dataframe\">\n",
       "  <thead>\n",
       "    <tr style=\"text-align: right;\">\n",
       "      <th></th>\n",
       "      <th>Text</th>\n",
       "      <th>Sentiment</th>\n",
       "    </tr>\n",
       "  </thead>\n",
       "  <tbody>\n",
       "    <tr>\n",
       "      <th>0</th>\n",
       "      <td>@MeNyrbie @Phil_Gahan @Chrisitv https://t.co/i...</td>\n",
       "      <td>Neutral</td>\n",
       "    </tr>\n",
       "    <tr>\n",
       "      <th>1</th>\n",
       "      <td>advice Talk to your neighbours family to excha...</td>\n",
       "      <td>Positive</td>\n",
       "    </tr>\n",
       "    <tr>\n",
       "      <th>2</th>\n",
       "      <td>Coronavirus Australia: Woolworths to give elde...</td>\n",
       "      <td>Positive</td>\n",
       "    </tr>\n",
       "    <tr>\n",
       "      <th>3</th>\n",
       "      <td>My food stock is not the only one which is emp...</td>\n",
       "      <td>Positive</td>\n",
       "    </tr>\n",
       "    <tr>\n",
       "      <th>4</th>\n",
       "      <td>Me, ready to go at supermarket during the #COV...</td>\n",
       "      <td>Extremely Negative</td>\n",
       "    </tr>\n",
       "  </tbody>\n",
       "</table>\n",
       "</div>"
      ],
      "text/plain": [
       "                                                Text           Sentiment\n",
       "0  @MeNyrbie @Phil_Gahan @Chrisitv https://t.co/i...             Neutral\n",
       "1  advice Talk to your neighbours family to excha...            Positive\n",
       "2  Coronavirus Australia: Woolworths to give elde...            Positive\n",
       "3  My food stock is not the only one which is emp...            Positive\n",
       "4  Me, ready to go at supermarket during the #COV...  Extremely Negative"
      ]
     },
     "execution_count": 4,
     "metadata": {},
     "output_type": "execute_result"
    }
   ],
   "source": [
    "train_raw_data.head()"
   ]
  },
  {
   "cell_type": "code",
   "execution_count": 5,
   "metadata": {
    "colab": {
     "base_uri": "https://localhost:8080/"
    },
    "id": "vEOVFQHdmsiE",
    "outputId": "f161c5dd-c3cd-4321-8aaa-1fd3ba40526e"
   },
   "outputs": [
    {
     "name": "stdout",
     "output_type": "stream",
     "text": [
      "<class 'pandas.core.frame.DataFrame'>\n",
      "Index: 41159 entries, 0 to 41156\n",
      "Data columns (total 2 columns):\n",
      " #   Column     Non-Null Count  Dtype \n",
      "---  ------     --------------  ----- \n",
      " 0   Text       41158 non-null  object\n",
      " 1   Sentiment  41155 non-null  object\n",
      "dtypes: object(2)\n",
      "memory usage: 964.7+ KB\n"
     ]
    }
   ],
   "source": [
    "train_raw_data.info()"
   ]
  },
  {
   "cell_type": "markdown",
   "metadata": {
    "id": "0_CvsTtvvN2O"
   },
   "source": [
    "We can see that there are rows with missing data. Let's look at them:"
   ]
  },
  {
   "cell_type": "code",
   "execution_count": 6,
   "metadata": {
    "colab": {
     "base_uri": "https://localhost:8080/",
     "height": 0
    },
    "id": "ZUENGV0Hpwzj",
    "outputId": "b83bf94b-34d7-4f56-ce3b-445e8722eb4c"
   },
   "outputs": [
    {
     "data": {
      "text/html": [
       "<div>\n",
       "<style scoped>\n",
       "    .dataframe tbody tr th:only-of-type {\n",
       "        vertical-align: middle;\n",
       "    }\n",
       "\n",
       "    .dataframe tbody tr th {\n",
       "        vertical-align: top;\n",
       "    }\n",
       "\n",
       "    .dataframe thead th {\n",
       "        text-align: right;\n",
       "    }\n",
       "</style>\n",
       "<table border=\"1\" class=\"dataframe\">\n",
       "  <thead>\n",
       "    <tr style=\"text-align: right;\">\n",
       "      <th></th>\n",
       "      <th>Text</th>\n",
       "      <th>Sentiment</th>\n",
       "    </tr>\n",
       "  </thead>\n",
       "  <tbody>\n",
       "    <tr>\n",
       "      <th>33122</th>\n",
       "      <td>@PrivyCouncilCA #SocialDistancing isnÂt enoug...</td>\n",
       "      <td>NaN</td>\n",
       "    </tr>\n",
       "    <tr>\n",
       "      <th>NaN</th>\n",
       "      <td>Neutral</td>\n",
       "      <td>NaN</td>\n",
       "    </tr>\n",
       "    <tr>\n",
       "      <th>39204</th>\n",
       "      <td>@TanDhesi @foreignoffice @Afzal4Gorton @Expres...</td>\n",
       "      <td>NaN</td>\n",
       "    </tr>\n",
       "    <tr>\n",
       "      <th>Neutral</th>\n",
       "      <td>NaN</td>\n",
       "      <td>NaN</td>\n",
       "    </tr>\n",
       "  </tbody>\n",
       "</table>\n",
       "</div>"
      ],
      "text/plain": [
       "                                                      Text Sentiment\n",
       "33122    @PrivyCouncilCA #SocialDistancing isnÂt enoug...       NaN\n",
       "NaN                                                Neutral       NaN\n",
       "39204    @TanDhesi @foreignoffice @Afzal4Gorton @Expres...       NaN\n",
       "Neutral                                                NaN       NaN"
      ]
     },
     "execution_count": 6,
     "metadata": {},
     "output_type": "execute_result"
    }
   ],
   "source": [
    "train_raw_data[train_raw_data['Sentiment'].isnull() == True]"
   ]
  },
  {
   "cell_type": "markdown",
   "metadata": {
    "id": "AdeIHPFjv-Kv"
   },
   "source": [
    "Let's drop these rows from our DataFrame because they don't carry much value and let's look at the data again:"
   ]
  },
  {
   "cell_type": "code",
   "execution_count": 7,
   "metadata": {
    "colab": {
     "base_uri": "https://localhost:8080/"
    },
    "id": "I_S2wW1Ov52V",
    "outputId": "1860d59d-0bb7-4fde-f1e3-fad727dd0af1"
   },
   "outputs": [
    {
     "name": "stdout",
     "output_type": "stream",
     "text": [
      "New shape of train: (41155, 2)\n"
     ]
    }
   ],
   "source": [
    "train_raw_data = train_raw_data.dropna().reset_index(drop=True)\n",
    "print(f'New shape of train: {train_raw_data.shape}')"
   ]
  },
  {
   "cell_type": "code",
   "execution_count": 8,
   "metadata": {
    "colab": {
     "base_uri": "https://localhost:8080/"
    },
    "id": "4ysjsa6gw-hr",
    "outputId": "e25c256b-d073-4025-f947-35e209ce1abd"
   },
   "outputs": [
    {
     "name": "stdout",
     "output_type": "stream",
     "text": [
      "<class 'pandas.core.frame.DataFrame'>\n",
      "RangeIndex: 41155 entries, 0 to 41154\n",
      "Data columns (total 2 columns):\n",
      " #   Column     Non-Null Count  Dtype \n",
      "---  ------     --------------  ----- \n",
      " 0   Text       41155 non-null  object\n",
      " 1   Sentiment  41155 non-null  object\n",
      "dtypes: object(2)\n",
      "memory usage: 643.2+ KB\n"
     ]
    }
   ],
   "source": [
    "train_raw_data.info()"
   ]
  },
  {
   "cell_type": "markdown",
   "metadata": {
    "id": "C4C_C1RIidNW"
   },
   "source": [
    "Let's look at the lines of texts:"
   ]
  },
  {
   "cell_type": "code",
   "execution_count": 9,
   "metadata": {
    "colab": {
     "base_uri": "https://localhost:8080/",
     "height": 0
    },
    "id": "lFX68FAAiUEF",
    "outputId": "5514244a-90b2-4908-ff86-7da869944c1c"
   },
   "outputs": [
    {
     "data": {
      "text/plain": [
       "(array([ 530., 3268., 4924., 6560., 6257., 7495., 8516., 3053.,  529.,\n",
       "          23.]),\n",
       " array([ 1. ,  7.3, 13.6, 19.9, 26.2, 32.5, 38.8, 45.1, 51.4, 57.7, 64. ]),\n",
       " <BarContainer object of 10 artists>)"
      ]
     },
     "execution_count": 9,
     "metadata": {},
     "output_type": "execute_result"
    },
    {
     "data": {
      "image/png": "[encoded data removed]",
      "text/plain": [
       "<Figure size 640x480 with 1 Axes>"
      ]
     },
     "metadata": {},
     "output_type": "display_data"
    }
   ],
   "source": [
    "plt.hist([len(text.split()) for text in train_raw_data['Text']])"
   ]
  },
  {
   "cell_type": "code",
   "execution_count": 10,
   "metadata": {
    "colab": {
     "base_uri": "https://localhost:8080/",
     "height": 0
    },
    "id": "LEfqHImMiRqL",
    "outputId": "c9c98c48-bc7e-440b-d933-b59f26937deb"
   },
   "outputs": [
    {
     "data": {
      "text/plain": [
       "(array([ 24., 231., 356., 477., 543., 623., 701., 629., 199.,  15.]),\n",
       " array([ 2.,  8., 14., 20., 26., 32., 38., 44., 50., 56., 62.]),\n",
       " <BarContainer object of 10 artists>)"
      ]
     },
     "execution_count": 10,
     "metadata": {},
     "output_type": "execute_result"
    },
    {
     "data": {
      "image/png": "[encoded data removed]",
      "text/plain": [
       "<Figure size 640x480 with 1 Axes>"
      ]
     },
     "metadata": {},
     "output_type": "display_data"
    }
   ],
   "source": [
    "plt.hist([len(text.split()) for text in final_test_raw_data['Text']])"
   ]
  },
  {
   "cell_type": "markdown",
   "metadata": {
    "id": "gR7OO311irog"
   },
   "source": [
    "There are no sequences that are too long and the distributions in the training and test samples are similar. It is good."
   ]
  },
  {
   "cell_type": "markdown",
   "metadata": {
    "id": "qR5dBpDmBOto"
   },
   "source": [
    "### Label encoding of target column"
   ]
  },
  {
   "cell_type": "code",
   "execution_count": 11,
   "metadata": {
    "colab": {
     "base_uri": "https://localhost:8080/"
    },
    "id": "N7zW7Diayv0I",
    "outputId": "fc2c30f4-e19a-4a86-acf1-400d8ffc893c"
   },
   "outputs": [
    {
     "data": {
      "text/plain": [
       "Positive              11422\n",
       "Negative               9917\n",
       "Neutral                7711\n",
       "Extremely Positive     6624\n",
       "Extremely Negative     5481\n",
       "Name: Sentiment, dtype: int64"
      ]
     },
     "execution_count": 11,
     "metadata": {},
     "output_type": "execute_result"
    }
   ],
   "source": [
    "train_raw_data['Sentiment'].value_counts()"
   ]
  },
  {
   "cell_type": "code",
   "execution_count": 12,
   "metadata": {
    "colab": {
     "base_uri": "https://localhost:8080/",
     "height": 0
    },
    "id": "8CVn5RlO9H1D",
    "outputId": "4174f23c-00d1-462a-9a50-342be1e29779"
   },
   "outputs": [
    {
     "data": {
      "text/html": [
       "<div>\n",
       "<style scoped>\n",
       "    .dataframe tbody tr th:only-of-type {\n",
       "        vertical-align: middle;\n",
       "    }\n",
       "\n",
       "    .dataframe tbody tr th {\n",
       "        vertical-align: top;\n",
       "    }\n",
       "\n",
       "    .dataframe thead th {\n",
       "        text-align: right;\n",
       "    }\n",
       "</style>\n",
       "<table border=\"1\" class=\"dataframe\">\n",
       "  <thead>\n",
       "    <tr style=\"text-align: right;\">\n",
       "      <th></th>\n",
       "      <th>Text</th>\n",
       "      <th>Sentiment</th>\n",
       "    </tr>\n",
       "  </thead>\n",
       "  <tbody>\n",
       "    <tr>\n",
       "      <th>0</th>\n",
       "      <td>@MeNyrbie @Phil_Gahan @Chrisitv https://t.co/i...</td>\n",
       "      <td>3</td>\n",
       "    </tr>\n",
       "    <tr>\n",
       "      <th>1</th>\n",
       "      <td>advice Talk to your neighbours family to excha...</td>\n",
       "      <td>4</td>\n",
       "    </tr>\n",
       "    <tr>\n",
       "      <th>2</th>\n",
       "      <td>Coronavirus Australia: Woolworths to give elde...</td>\n",
       "      <td>4</td>\n",
       "    </tr>\n",
       "    <tr>\n",
       "      <th>3</th>\n",
       "      <td>My food stock is not the only one which is emp...</td>\n",
       "      <td>4</td>\n",
       "    </tr>\n",
       "    <tr>\n",
       "      <th>4</th>\n",
       "      <td>Me, ready to go at supermarket during the #COV...</td>\n",
       "      <td>0</td>\n",
       "    </tr>\n",
       "  </tbody>\n",
       "</table>\n",
       "</div>"
      ],
      "text/plain": [
       "                                                Text  Sentiment\n",
       "0  @MeNyrbie @Phil_Gahan @Chrisitv https://t.co/i...          3\n",
       "1  advice Talk to your neighbours family to excha...          4\n",
       "2  Coronavirus Australia: Woolworths to give elde...          4\n",
       "3  My food stock is not the only one which is emp...          4\n",
       "4  Me, ready to go at supermarket during the #COV...          0"
      ]
     },
     "execution_count": 12,
     "metadata": {},
     "output_type": "execute_result"
    }
   ],
   "source": [
    "le = LabelEncoder()\n",
    "le.fit(train_raw_data['Sentiment'])\n",
    "train_raw_data['Sentiment'] = le.transform(train_raw_data['Sentiment'])\n",
    "train_raw_data.head(5)"
   ]
  },
  {
   "cell_type": "markdown",
   "metadata": {
    "id": "_n-QE9eEsNSo",
    "jp-MarkdownHeadingCollapsed": true,
    "tags": []
   },
   "source": [
    "## For LSTM model"
   ]
  },
  {
   "cell_type": "markdown",
   "metadata": {
    "id": "0AMv6PmTBj8t",
    "jp-MarkdownHeadingCollapsed": true,
    "tags": []
   },
   "source": [
    "### Сleaning text from useless data"
   ]
  },
  {
   "cell_type": "markdown",
   "metadata": {
    "id": "lrE0m0XYCMO9"
   },
   "source": [
    "Let's look at the text more closely:"
   ]
  },
  {
   "cell_type": "code",
   "execution_count": null,
   "metadata": {
    "colab": {
     "base_uri": "https://localhost:8080/"
    },
    "id": "ONquVuGj-YRd",
    "outputId": "758a7de9-8828-491b-b17c-dbc63588e169"
   },
   "outputs": [
    {
     "data": {
      "text/plain": [
       "array(['So panic buying of soaps and toilet roll was bad enough, now the idiots are stockpiling alcohol ? whats wrong with people #CoronaVirus #StopPanicBuying #Covid_19',\n",
       "       'I would place a large amount of money this is the guy buying 90 of the toilet paper',\n",
       "       '\"Saudi Arabia is bracing for an economic downturn as oil prices plummet due to the #coronavirus pandemic\" https://t.co/PQ3eRX9euZ',\n",
       "       '#Foodsecurity #coronavirus #covid19 \\r\\r\\n1.Smooth flow of global trade will help secure food supply\\r\\r\\n2.Monitoring food prices and markets\\r\\r\\n3.Sharing relevant information transparently\\r\\r\\n4.Supporting the vulnerable countries and populationsÂ\\x85https://t.co/tTPmInVVgS https://t.co/Ums3Eueu6J',\n",
       "       'I d like to know who is stockpiling eggs cheese and ice cream and why I m used to going without as our local Lidl has been running out of all kinds of stuff for years way before Drives me potty Going to the supermarket is like entering a lottery',\n",
       "       'Whenever you touch any object or surface outside your abode #washyourhands with #soapandwater\\r\\r\\n\\r\\r\\n#staysafe #stayhome\\r\\r\\n#sanitizer #socialdistancing \\r\\r\\n#covid19 #sd\\r\\r\\n#coronavirus \\r\\r\\n#chinesevirus\\r\\r\\n#asiegercares \\r\\r\\n#who #asieger https://t.co/UYM6i83PeP',\n",
       "       'P.S.A for those buying ?. The human body can survive upwards of 40 days with no food. Water is the most important thing during these times; especially since you canÂ\\x92t go more then 3 days without it before death. Think wise and not in a panic induced state. Stay safe. #Covid_19',\n",
       "       'Publix. Walmart. Thats how its spreading through our community. You may stay home all week, then go get a gallon of milk with a side of Covid-19Why would you set limits of boats in the waters to stay 50ft apart, But not regulate the amount of people in a supermarket.#coronavirus',\n",
       "       'Our healthcare community is the backbone of the response to #Coronavirus. @marty_walsh is committed to supporting them, so certain garages in the @CityOfBoston are now offering reduced prices for hospital staff. \\r\\r\\n\\r\\r\\nhttps://t.co/VFpW5FXObJ',\n",
       "       'Lilliesleaf clapped as Alan played for  NHS workers, delivery people, supermarket staff, carers and everyone out there taking care of the sick and keeping the country going. You have to squint to see the people at their houses but they are there. #clapforkeyworkers #coronavirus https://t.co/VqIZSCKCvE'],\n",
       "      dtype=object)"
      ]
     },
     "execution_count": 12,
     "metadata": {},
     "output_type": "execute_result"
    }
   ],
   "source": [
    "train_raw_data['Text'].sample(10, random_state=42).values"
   ]
  },
  {
   "cell_type": "code",
   "execution_count": null,
   "metadata": {
    "id": "VljsoMJbB_qy"
   },
   "outputs": [],
   "source": [
    "def text_cleaner(text: str) -> str:\n",
    "    '''will clean from unicode, url, hashtags, numbers,\n",
    "    nicknames, lower'''\n",
    "    # text = re.sub(r'[.,#!$%\\^&\\*;:{}=\\-_`~()]',r'',text) # punct.\n",
    "    \n",
    "    # text = re.sub(r'(\\\\u[0-9A-Fa-f]+)',r'', text)       \n",
    "    text = re.sub(r'[^\\x00-\\x7f]', r'', text)# unicode\n",
    "\n",
    "    text = re.sub(r'(\\\\[a-z])', r'', text)\n",
    "    \n",
    "    text = re.sub(r'http\\S+', r'', text)# url\n",
    "    \n",
    "    text = re.sub('@[A-Za-z0-9_-]+', r'', text)# nickname\n",
    "    \n",
    "    text = re.sub(r'#([^\\s]+)', r'\\1', text)# hashtag symbol\n",
    "    \n",
    "    text = re.sub(':\\)|;\\)|:-\\)|\\(-:|:-D|=D|:P|xD|X-p|\\^\\^|:-*|\\^\\.\\^|\\^\\-\\^|\\^\\_\\^|\\,-\\)|\\)-:|:\\'\\(|:\\(|:-\\(|:\\S|T\\.T|\\.\\_\\.|:<|:-\\S|:-<|\\*\\-\\*|:O|=O|=\\-O|O\\.o|XO|O\\_O|:-\\@|=/|:/|X\\-\\(|>\\.<|>=\\(|D:',\n",
    "                  '', text) # emoji\n",
    "    \n",
    "    text = ''.join([i for i in text if not i.isdigit()])# int.\n",
    "    \n",
    "    text = text.lower()\n",
    "    return text"
   ]
  },
  {
   "cell_type": "code",
   "execution_count": null,
   "metadata": {
    "colab": {
     "base_uri": "https://localhost:8080/"
    },
    "id": "UYTDnZvKSFoF",
    "outputId": "c61fb53b-4394-4832-a362-44b27b55ce64"
   },
   "outputs": [
    {
     "data": {
      "text/plain": [
       "array(['so panic buying of soaps and toilet roll was bad enough, now the idiots are stockpiling alcohol ? whats wrong with people coronavirus stoppanicbuying covid_',\n",
       "       'i would place a large amount of money this is the guy buying  of the toilet paper',\n",
       "       '\"saudi arabia is bracing for an economic downturn as oil prices plummet due to the coronavirus pandemic\" ',\n",
       "       'foodsecurity coronavirus covid \\r\\r\\n.smooth flow of global trade will help secure food supply\\r\\r\\n.monitoring food prices and markets\\r\\r\\n.sharing relevant information transparently\\r\\r\\n.supporting the vulnerable countries and populations ',\n",
       "       'i d like to know who is stockpiling eggs cheese and ice cream and why i m used to going without as our local lidl has been running out of all kinds of stuff for years way before drives me potty going to the supermarket is like entering a lottery',\n",
       "       'whenever you touch any object or surface outside your abode washyourhands with soapandwater\\r\\r\\n\\r\\r\\nstaysafe stayhome\\r\\r\\nsanitizer socialdistancing \\r\\r\\ncovid sd\\r\\r\\ncoronavirus \\r\\r\\nchinesevirus\\r\\r\\nasiegercares \\r\\r\\nwho asieger ',\n",
       "       'p.s.a for those buying ?. the human body can survive upwards of  days with no food. water is the most important thing during these times; especially since you cant go more then  days without it before death. think wise and not in a panic induced state. stay safe. covid_',\n",
       "       'publix. walmart. thats how its spreading through our community. you may stay home all week, then go get a gallon of milk with a side of covid-why would you set limits of boats in the waters to stay ft apart, but not regulate the amount of people in a supermarket.coronavirus',\n",
       "       'our healthcare community is the backbone of the response to coronavirus.  is committed to supporting them, so certain garages in the  are now offering reduced prices for hospital staff. \\r\\r\\n\\r\\r\\n',\n",
       "       'lilliesleaf clapped as alan played for  nhs workers, delivery people, supermarket staff, carers and everyone out there taking care of the sick and keeping the country going. you have to squint to see the people at their houses but they are there. clapforkeyworkers coronavirus '],\n",
       "      dtype=object)"
      ]
     },
     "execution_count": 14,
     "metadata": {},
     "output_type": "execute_result"
    }
   ],
   "source": [
    "train_raw_data['Text'] = train_raw_data['Text'].apply(text_cleaner)\n",
    "final_test_raw_data['Text'] = final_test_raw_data['Text'].apply(text_cleaner)\n",
    "train_raw_data['Text'].sample(10, random_state=42).values"
   ]
  },
  {
   "cell_type": "markdown",
   "metadata": {
    "id": "7tWDMRnGjanh",
    "jp-MarkdownHeadingCollapsed": true,
    "tags": []
   },
   "source": [
    "### Tokenization"
   ]
  },
  {
   "cell_type": "code",
   "execution_count": null,
   "metadata": {
    "id": "88kvuR7RjZpC"
   },
   "outputs": [],
   "source": [
    "tokenizer = get_tokenizer('basic_english')\n",
    "\n",
    "def build_vocabulary(datasets):\n",
    "  for dataset in datasets:\n",
    "    for text in dataset['Text']:\n",
    "      yield tokenizer(text)\n",
    "\n",
    "vocab = build_vocab_from_iterator(build_vocabulary([train_raw_data, final_test_raw_data]), specials=['<UNK>'])\n",
    "vocab.set_default_index(vocab['<UNK>'])"
   ]
  },
  {
   "cell_type": "code",
   "execution_count": null,
   "metadata": {
    "colab": {
     "base_uri": "https://localhost:8080/"
    },
    "id": "OrnCeVg1s-8S",
    "outputId": "22c9dc49-3694-4663-bc61-10efc2a8dc82"
   },
   "outputs": [
    {
     "name": "stdout",
     "output_type": "stream",
     "text": [
      "Vocabulary length: 50653\n"
     ]
    }
   ],
   "source": [
    "print(f'Vocabulary length: {vocab.__len__()}')"
   ]
  },
  {
   "cell_type": "markdown",
   "metadata": {
    "id": "ThzzFC5jXcAj"
   },
   "source": [
    "### Splitting of training data"
   ]
  },
  {
   "cell_type": "markdown",
   "metadata": {
    "id": "dZenBWDaYCyG"
   },
   "source": [
    "We need to split our train_raw_data by train, validation and test samples in the proportions of 60:20:20.\n",
    "\n",
    "However, our data contain texts for 5 classes, so it is necessary to keep stratification after their splitting."
   ]
  },
  {
   "cell_type": "code",
   "execution_count": null,
   "metadata": {
    "id": "S7oQ4XouXB2O"
   },
   "outputs": [],
   "source": [
    "# first, we will split data by two samples: train and test in the proportion of 60:40\n",
    "train_data, test_data = train_test_split(train_raw_data, test_size=0.2, stratify=train_raw_data['Sentiment'], random_state=42)\n",
    "# then, we will split test data by two samples: validation and test in the proportion of 50:50 \n",
    "val_data, test_data = train_test_split(test_data, test_size=0.5, stratify=test_data['Sentiment'], random_state=42)"
   ]
  },
  {
   "cell_type": "markdown",
   "metadata": {
    "id": "I8GaEeMceLD8"
   },
   "source": [
    "Check the stratification:"
   ]
  },
  {
   "cell_type": "code",
   "execution_count": null,
   "metadata": {
    "colab": {
     "base_uri": "https://localhost:8080/"
    },
    "id": "qqZHawm1cWVX",
    "outputId": "9eb3eacf-a6d6-448b-b842-a855ff659dfd"
   },
   "outputs": [
    {
     "data": {
      "text/plain": [
       "4    0.277536\n",
       "2    0.240967\n",
       "3    0.187365\n",
       "1    0.160952\n",
       "0    0.133179\n",
       "Name: Sentiment, dtype: float64"
      ]
     },
     "execution_count": 18,
     "metadata": {},
     "output_type": "execute_result"
    }
   ],
   "source": [
    "train_raw_data['Sentiment'].value_counts(normalize=True)"
   ]
  },
  {
   "cell_type": "code",
   "execution_count": null,
   "metadata": {
    "colab": {
     "base_uri": "https://localhost:8080/"
    },
    "id": "zyY-tnNOb7Op",
    "outputId": "c6c63d6d-3ac1-41ad-a3e6-e5b6b9213608"
   },
   "outputs": [
    {
     "data": {
      "text/plain": [
       "4    0.277518\n",
       "2    0.240979\n",
       "3    0.187371\n",
       "1    0.160946\n",
       "0    0.133186\n",
       "Name: Sentiment, dtype: float64"
      ]
     },
     "execution_count": 19,
     "metadata": {},
     "output_type": "execute_result"
    }
   ],
   "source": [
    "train_data['Sentiment'].value_counts(normalize=True)"
   ]
  },
  {
   "cell_type": "code",
   "execution_count": null,
   "metadata": {
    "colab": {
     "base_uri": "https://localhost:8080/"
    },
    "id": "sH7m85vfcD5T",
    "outputId": "2394b75a-9887-4440-bf96-72ecae8bfa45"
   },
   "outputs": [
    {
     "data": {
      "text/plain": [
       "4    0.277521\n",
       "2    0.240826\n",
       "3    0.187363\n",
       "1    0.161118\n",
       "0    0.133171\n",
       "Name: Sentiment, dtype: float64"
      ]
     },
     "execution_count": 20,
     "metadata": {},
     "output_type": "execute_result"
    }
   ],
   "source": [
    "val_data['Sentiment'].value_counts(normalize=True)"
   ]
  },
  {
   "cell_type": "code",
   "execution_count": null,
   "metadata": {
    "colab": {
     "base_uri": "https://localhost:8080/"
    },
    "id": "JbB208eCcuG4",
    "outputId": "d0ba46e4-c3ec-4ff1-eb14-a16d409b1b32"
   },
   "outputs": [
    {
     "data": {
      "text/plain": [
       "4    0.277697\n",
       "2    0.241011\n",
       "3    0.187318\n",
       "1    0.160836\n",
       "0    0.133139\n",
       "Name: Sentiment, dtype: float64"
      ]
     },
     "execution_count": 21,
     "metadata": {},
     "output_type": "execute_result"
    }
   ],
   "source": [
    "test_data['Sentiment'].value_counts(normalize=True)"
   ]
  },
  {
   "cell_type": "code",
   "execution_count": null,
   "metadata": {
    "colab": {
     "base_uri": "https://localhost:8080/"
    },
    "id": "4vxoU9e5cvtM",
    "outputId": "2dd9a0a9-f91c-4944-8c92-4e06b8f5f0cd"
   },
   "outputs": [
    {
     "name": "stdout",
     "output_type": "stream",
     "text": [
      "Shape of the train_data: (32924, 2)\n",
      "Shape of the val_data: (4115, 2)\n",
      "Shape of the test_data: (4116, 2)\n",
      "Shape of the finel_test_raw_data: (3798, 2)\n"
     ]
    }
   ],
   "source": [
    "print(f'Shape of the train_data: {train_data.shape}')\n",
    "print(f'Shape of the val_data: {val_data.shape}')\n",
    "print(f'Shape of the test_data: {test_data.shape}')\n",
    "print(f'Shape of the finel_test_raw_data: {final_test_raw_data.shape}')"
   ]
  },
  {
   "cell_type": "markdown",
   "metadata": {
    "id": "MrRww6ZqsYgS"
   },
   "source": [
    "## For transfer learning"
   ]
  },
  {
   "cell_type": "code",
   "execution_count": 13,
   "metadata": {
    "id": "Bux0u851sdbc"
   },
   "outputs": [],
   "source": [
    "def text_cleaner(text: str) -> str:\n",
    "    '''will clean from unicode, url, hashtags, numbers,\n",
    "    nicknames, lower'''\n",
    "    # text = re.sub(r'[.,#!$%\\^&\\*;:{}=\\-_`~()]',r'',text) # punct.\n",
    "    \n",
    "    # text = re.sub(r'(\\\\u[0-9A-Fa-f]+)',r'', text)       \n",
    "    text = re.sub(r'[^\\x00-\\x7f]', r'', text)# unicode\n",
    "\n",
    "    text = re.sub(r'(\\\\[a-z])', r'', text)\n",
    "    \n",
    "    text = re.sub(r'http\\S+', r'', text)# url\n",
    "    \n",
    "    text = re.sub('@[A-Za-z0-9_-]+', r'', text)# nickname\n",
    "    \n",
    "    text = re.sub(r'#([^\\s]+)', r'\\1', text)# hashtag symbol\n",
    "    \n",
    "    text = re.sub(':\\)|;\\)|:-\\)|\\(-:|:-D|=D|:P|xD|X-p|\\^\\^|:-*|\\^\\.\\^|\\^\\-\\^|\\^\\_\\^|\\,-\\)|\\)-:|:\\'\\(|:\\(|:-\\(|:\\S|T\\.T|\\.\\_\\.|:<|:-\\S|:-<|\\*\\-\\*|:O|=O|=\\-O|O\\.o|XO|O\\_O|:-\\@|=/|:/|X\\-\\(|>\\.<|>=\\(|D:',\n",
    "                  '', text) # emoji\n",
    "    \n",
    "    text = ''.join([i for i in text if not i.isdigit()])# int.\n",
    "    \n",
    "    text = text.lower()\n",
    "    return text"
   ]
  },
  {
   "cell_type": "code",
   "execution_count": 14,
   "metadata": {
    "colab": {
     "base_uri": "https://localhost:8080/"
    },
    "id": "hDFia8-auEpk",
    "outputId": "865a8f40-baca-4988-ab3a-927c7a15646c"
   },
   "outputs": [
    {
     "data": {
      "text/plain": [
       "array(['so panic buying of soaps and toilet roll was bad enough, now the idiots are stockpiling alcohol ? whats wrong with people coronavirus stoppanicbuying covid_',\n",
       "       'i would place a large amount of money this is the guy buying  of the toilet paper',\n",
       "       '\"saudi arabia is bracing for an economic downturn as oil prices plummet due to the coronavirus pandemic\" ',\n",
       "       'foodsecurity coronavirus covid \\r\\r\\n.smooth flow of global trade will help secure food supply\\r\\r\\n.monitoring food prices and markets\\r\\r\\n.sharing relevant information transparently\\r\\r\\n.supporting the vulnerable countries and populations ',\n",
       "       'i d like to know who is stockpiling eggs cheese and ice cream and why i m used to going without as our local lidl has been running out of all kinds of stuff for years way before drives me potty going to the supermarket is like entering a lottery',\n",
       "       'whenever you touch any object or surface outside your abode washyourhands with soapandwater\\r\\r\\n\\r\\r\\nstaysafe stayhome\\r\\r\\nsanitizer socialdistancing \\r\\r\\ncovid sd\\r\\r\\ncoronavirus \\r\\r\\nchinesevirus\\r\\r\\nasiegercares \\r\\r\\nwho asieger ',\n",
       "       'p.s.a for those buying ?. the human body can survive upwards of  days with no food. water is the most important thing during these times; especially since you cant go more then  days without it before death. think wise and not in a panic induced state. stay safe. covid_',\n",
       "       'publix. walmart. thats how its spreading through our community. you may stay home all week, then go get a gallon of milk with a side of covid-why would you set limits of boats in the waters to stay ft apart, but not regulate the amount of people in a supermarket.coronavirus',\n",
       "       'our healthcare community is the backbone of the response to coronavirus.  is committed to supporting them, so certain garages in the  are now offering reduced prices for hospital staff. \\r\\r\\n\\r\\r\\n',\n",
       "       'lilliesleaf clapped as alan played for  nhs workers, delivery people, supermarket staff, carers and everyone out there taking care of the sick and keeping the country going. you have to squint to see the people at their houses but they are there. clapforkeyworkers coronavirus '],\n",
       "      dtype=object)"
      ]
     },
     "execution_count": 14,
     "metadata": {},
     "output_type": "execute_result"
    }
   ],
   "source": [
    "train_raw_data['Text'] = train_raw_data['Text'].apply(text_cleaner)\n",
    "final_test_raw_data['Text'] = final_test_raw_data['Text'].apply(text_cleaner)\n",
    "train_raw_data['Text'].sample(10, random_state=42).values"
   ]
  },
  {
   "cell_type": "code",
   "execution_count": 15,
   "metadata": {
    "id": "TIsAUmQYuNFI"
   },
   "outputs": [],
   "source": [
    "# first, we will split data by two samples: train and test in the proportion of 60:40\n",
    "train_data, test_data = train_test_split(train_raw_data, test_size=0.2, stratify=train_raw_data['Sentiment'], random_state=42)\n",
    "# then, we will split test data by two samples: validation and test in the proportion of 50:50 \n",
    "val_data, test_data = train_test_split(test_data, test_size=0.5, stratify=test_data['Sentiment'], random_state=42)"
   ]
  },
  {
   "cell_type": "code",
   "execution_count": 16,
   "metadata": {
    "id": "uQuolAd3uxQA"
   },
   "outputs": [],
   "source": [
    "# Data processing\n",
    "import pandas as pd\n",
    "import numpy as np\n",
    "\n",
    "# Modeling\n",
    "import torch\n",
    "from torch.utils.data import DataLoader\n",
    "from torch.optim import AdamW\n",
    "from transformers import AutoTokenizer, AutoModelForSequenceClassification, DataCollatorWithPadding, get_scheduler\n",
    "\n",
    "# Progress bar\n",
    "from tqdm.auto import tqdm\n",
    "\n",
    "# Hugging Face Dataset\n",
    "from datasets import Dataset\n",
    "\n",
    "# Model performance evaluation\n",
    "import evaluate"
   ]
  },
  {
   "cell_type": "code",
   "execution_count": 17,
   "metadata": {
    "colab": {
     "base_uri": "https://localhost:8080/"
    },
    "id": "SXW5-iyPui14",
    "outputId": "f5b38a92-eae0-4baf-e81b-eff2d3cc8163"
   },
   "outputs": [
    {
     "name": "stdout",
     "output_type": "stream",
     "text": [
      "Dataset({\n",
      "    features: ['Text', 'Sentiment', '__index_level_0__'],\n",
      "    num_rows: 32924\n",
      "})\n",
      "Dataset({\n",
      "    features: ['Text', 'Sentiment', '__index_level_0__'],\n",
      "    num_rows: 4115\n",
      "})\n",
      "Dataset({\n",
      "    features: ['Text', 'Sentiment', '__index_level_0__'],\n",
      "    num_rows: 4116\n",
      "})\n",
      "Dataset({\n",
      "    features: ['id', 'Text'],\n",
      "    num_rows: 3798\n",
      "})\n"
     ]
    }
   ],
   "source": [
    "# Convert pyhton dataframe to Hugging Face arrow dataset\n",
    "hg_train_data = Dataset.from_pandas(train_data)\n",
    "hg_val_data = Dataset.from_pandas(val_data)\n",
    "hg_test_data = Dataset.from_pandas(test_data)\n",
    "hg_subm_data = Dataset.from_pandas(final_test_raw_data)\n",
    "\n",
    "print(hg_train_data)\n",
    "print(hg_val_data)\n",
    "print(hg_test_data)\n",
    "print(hg_subm_data)"
   ]
  },
  {
   "cell_type": "code",
   "execution_count": null,
   "metadata": {
    "colab": {
     "base_uri": "https://localhost:8080/"
    },
    "id": "pVS2ZQ92yiiU",
    "outputId": "215b2a6a-4793-429f-82f1-27f3a4d64ab0"
   },
   "outputs": [
    {
     "data": {
      "text/plain": [
       "BertTokenizerFast(name_or_path='LIALLIES/finetune-bert-base-cased', vocab_size=28996, model_max_length=512, is_fast=True, padding_side='right', truncation_side='right', special_tokens={'unk_token': '[UNK]', 'sep_token': '[SEP]', 'pad_token': '[PAD]', 'cls_token': '[CLS]', 'mask_token': '[MASK]'})"
      ]
     },
     "execution_count": 18,
     "metadata": {},
     "output_type": "execute_result"
    }
   ],
   "source": [
    "checkpoint = \"LIALLIES/finetune-bert-base-cased\"\n",
    "\n",
    "# Tokenizer from a pretrained model\n",
    "tokenizer = AutoTokenizer.from_pretrained(checkpoint)\n",
    "\n",
    "# Take a look at the tokenizer\n",
    "tokenizer"
   ]
  },
  {
   "cell_type": "code",
   "execution_count": 19,
   "metadata": {
    "colab": {
     "base_uri": "https://localhost:8080/"
    },
    "id": "RvJCjHFLywYn",
    "outputId": "dc5b1915-bbb6-42ea-eb28-321cdae1a9a8"
   },
   "outputs": [
    {
     "name": "stdout",
     "output_type": "stream",
     "text": [
      "The unknown token is [UNK] and the ID for the unknown token is 100.\n",
      "The seperator token is [SEP] and the ID for the seperator token is 102.\n",
      "The pad token is [PAD] and the ID for the pad token is 0.\n",
      "The sentence level classification token is [CLS] and the ID for the classification token is 101.\n",
      "The mask token is [MASK] and the ID for the mask token is 103.\n"
     ]
    }
   ],
   "source": [
    "# Mapping between special tokens and their IDs.\n",
    "print(f'The unknown token is {tokenizer.unk_token} and the ID for the unknown token is {tokenizer.unk_token_id}.')\n",
    "print(f'The seperator token is {tokenizer.sep_token} and the ID for the seperator token is {tokenizer.sep_token_id}.')\n",
    "print(f'The pad token is {tokenizer.pad_token} and the ID for the pad token is {tokenizer.pad_token_id}.')\n",
    "print(f'The sentence level classification token is {tokenizer.cls_token} and the ID for the classification token is {tokenizer.cls_token_id}.')\n",
    "print(f'The mask token is {tokenizer.mask_token} and the ID for the mask token is {tokenizer.mask_token_id}.')"
   ]
  },
  {
   "cell_type": "code",
   "execution_count": 20,
   "metadata": {
    "colab": {
     "base_uri": "https://localhost:8080/",
     "height": 17,
     "referenced_widgets": [
      "bfd8304b24ff45469b9719d1a1439915",
      "420a4176a1c74fba943cea6fe299cabe",
      "c8b48776cea34243977de71a04fb30a4",
      "301e9db3971b48b8beead74a7ac88dca",
      "bbe99f0264d2489b9846ce38ca0e2e51",
      "6dd042a37cd744bfb414a496c46c6f20",
      "72cd994a32c64fbc9d908e7eadcc4e83",
      "6a4aa28bbb0c40feba3e72644ca23668",
      "20dd3f296e80428b9a7e0cf4b688a5f4",
      "e46a771bb275441397620b3af943bf96",
      "1a274a757ae146669f673e96c1c08d88",
      "f5e0f45306f9452b95f82d6ab1d53193",
      "a2437f9c785246c79b4a0bcd10565a1d",
      "a7c36dec0ff94aedb57c0f586cf09d5e",
      "b010518fcd134989a5ee479785c0dc14",
      "0862ee2508d34476b24045624083f0fc",
      "f2d77a18f8b546a7b4f4da6dd5b0f35b",
      "6a09fd804c8240298015fd3fb1802a91",
      "419e6910b2544c31a02e88bd12c9c933",
      "2d6fdcbf70d940e7bd16007e66b3031d",
      "8540f23015f245ce85a5a7b56a3eb62b",
      "51f9a2701678401c96dd861e397aa84d",
      "b5aa168d514b471a8974f76c4dc81f7e",
      "0db9c35ff8bb4403a78d73d64b02f78b",
      "5507ba9e3280413f91118dca5681ed20",
      "50a188a6caf74cbdae8314e8e8ad2184",
      "24b6c4dfbe4346d48d9d3be0c52555f3",
      "74ffb187ac5247ed9028210533bd4c7a",
      "6f64fe17609449c7aac3da42936a757c",
      "60aec46e181a4b1cb378adbf2caa46d5",
      "8cb308f81a534180b77779ed6da95322",
      "4db335c1da4c4504962e86d72cffd287",
      "ea81df86a5524f86a54523a611fc8c42",
      "d60424ce6be74e85bf974ab9e11cf81d",
      "f44c89465a8440a1bd3634de1f1cf109",
      "0c3d9fa31fac4c11aeba5f0fa3fced85",
      "aa9809684350458a85fdf9550b5530f2",
      "c6752194cfc149dd91eef4981b23fa30",
      "11ce855c407c477bb25a43f6fb26a7f7",
      "d7a815b7d7a949c891cb4781f7d8420e",
      "b7a489a32f434607a363d6655f895506",
      "b59b4063ab0c44a0ac8fa4a907559baf",
      "f26ce74244624c4486645921fa20a54c",
      "f958218923864146935a4e54032edb65"
     ]
    },
    "id": "xMkxC7rYy70Q",
    "outputId": "4e97c68d-b5b8-4c6e-c8f0-27739e6b2029"
   },
   "outputs": [
    {
     "name": "stderr",
     "output_type": "stream",
     "text": [
      "                                                                    \r"
     ]
    }
   ],
   "source": [
    "# Funtion to tokenize data\n",
    "def tokenize_function(data):\n",
    "    return tokenizer(data[\"Text\"],\n",
    "                     max_length=40,\n",
    "                     truncation=True)\n",
    "\n",
    "# Tokenize the dataset\n",
    "dataset_train = hg_train_data.map(tokenize_function, batched=True)\n",
    "dataset_val = hg_val_data.map(tokenize_function, batched=True)\n",
    "dataset_test = hg_test_data.map(tokenize_function, batched=True)\n",
    "dataset_subm = hg_subm_data.map(tokenize_function, batched=True)\n",
    "\n",
    "data_collator = DataCollatorWithPadding(tokenizer=tokenizer)"
   ]
  },
  {
   "cell_type": "code",
   "execution_count": 21,
   "metadata": {
    "colab": {
     "base_uri": "https://localhost:8080/"
    },
    "id": "E3WdxG2_0rY8",
    "outputId": "9f2afa3a-6224-4b30-9a1b-836c993f45ac"
   },
   "outputs": [
    {
     "name": "stdout",
     "output_type": "stream",
     "text": [
      "Dataset({\n",
      "    features: ['Text', 'Sentiment', '__index_level_0__', 'input_ids', 'token_type_ids', 'attention_mask'],\n",
      "    num_rows: 32924\n",
      "})\n",
      "Dataset({\n",
      "    features: ['Text', 'Sentiment', '__index_level_0__', 'input_ids', 'token_type_ids', 'attention_mask'],\n",
      "    num_rows: 4115\n",
      "})\n",
      "Dataset({\n",
      "    features: ['Text', 'Sentiment', '__index_level_0__', 'input_ids', 'token_type_ids', 'attention_mask'],\n",
      "    num_rows: 4116\n",
      "})\n",
      "Dataset({\n",
      "    features: ['id', 'Text', 'input_ids', 'token_type_ids', 'attention_mask'],\n",
      "    num_rows: 3798\n",
      "})\n"
     ]
    }
   ],
   "source": [
    "# Take a look at the data\n",
    "print(dataset_train)\n",
    "print(dataset_val)\n",
    "print(dataset_test)\n",
    "print(dataset_subm)"
   ]
  },
  {
   "cell_type": "code",
   "execution_count": 22,
   "metadata": {
    "colab": {
     "base_uri": "https://localhost:8080/"
    },
    "id": "F6Wb2lyY1Lwj",
    "outputId": "4812b1d9-7a03-4d6e-c141-8c6755795fd3"
   },
   "outputs": [
    {
     "name": "stdout",
     "output_type": "stream",
     "text": [
      "Dataset({\n",
      "    features: ['labels', 'input_ids', 'token_type_ids', 'attention_mask'],\n",
      "    num_rows: 32924\n",
      "})\n",
      "Dataset({\n",
      "    features: ['labels', 'input_ids', 'token_type_ids', 'attention_mask'],\n",
      "    num_rows: 4115\n",
      "})\n",
      "Dataset({\n",
      "    features: ['labels', 'input_ids', 'token_type_ids', 'attention_mask'],\n",
      "    num_rows: 4116\n",
      "})\n",
      "Dataset({\n",
      "    features: ['input_ids', 'token_type_ids', 'attention_mask'],\n",
      "    num_rows: 3798\n",
      "})\n"
     ]
    }
   ],
   "source": [
    "# Remove the review and index columns because it will not be used in the model\n",
    "dataset_train = dataset_train.remove_columns([\"Text\", \"__index_level_0__\"])\n",
    "dataset_val = dataset_val.remove_columns([\"Text\", \"__index_level_0__\"])\n",
    "dataset_test = dataset_test.remove_columns([\"Text\", \"__index_level_0__\"])\n",
    "dataset_subm = dataset_subm.remove_columns([\"Text\", \"id\"])\n",
    "\n",
    "# Rename label to labels because the model expects the name labels\n",
    "dataset_train = dataset_train.rename_column(\"Sentiment\", \"labels\")\n",
    "dataset_val = dataset_val.rename_column(\"Sentiment\", \"labels\")\n",
    "dataset_test = dataset_test.rename_column(\"Sentiment\", \"labels\")\n",
    "\n",
    "# Change the format to PyTorch tensors\n",
    "dataset_train.set_format(\"torch\")\n",
    "dataset_val.set_format(\"torch\")\n",
    "dataset_test.set_format(\"torch\")\n",
    "dataset_subm.set_format(\"torch\")\n",
    "\n",
    "# Take a look at the data\n",
    "print(dataset_train)\n",
    "print(dataset_val)\n",
    "print(dataset_test)\n",
    "print(dataset_subm)"
   ]
  },
  {
   "cell_type": "code",
   "execution_count": 23,
   "metadata": {
    "id": "L8hSdKhr7SfO"
   },
   "outputs": [],
   "source": [
    "# Empty cache\n",
    "torch.cuda.empty_cache()\n",
    "\n",
    "BATCH_SIZE = 128\n",
    "\n",
    "# DataLoader\n",
    "train_dataloader = DataLoader(dataset=dataset_train, shuffle=True, batch_size=BATCH_SIZE, collate_fn=data_collator)\n",
    "val_dataloader = DataLoader(dataset=dataset_val, batch_size=BATCH_SIZE, collate_fn=data_collator)\n",
    "test_dataloader = DataLoader(dataset=dataset_test, batch_size=BATCH_SIZE, collate_fn=data_collator)\n",
    "subm_dataloader = DataLoader(dataset=dataset_subm, batch_size=BATCH_SIZE, collate_fn=data_collator)"
   ]
  },
  {
   "cell_type": "code",
   "execution_count": 24,
   "metadata": {
    "colab": {
     "base_uri": "https://localhost:8080/"
    },
    "id": "Pton1uXbK2RF",
    "outputId": "99b8fbd0-dd79-49d3-d2f3-0b684e41c72f"
   },
   "outputs": [
    {
     "name": "stderr",
     "output_type": "stream",
     "text": [
      "You're using a BertTokenizerFast tokenizer. Please note that with a fast tokenizer, using the `__call__` method is faster than using a method to encode the text followed by a call to the `pad` method to get a padded encoding.\n"
     ]
    },
    {
     "data": {
      "text/plain": [
       "{'labels': torch.Size([128]),\n",
       " 'input_ids': torch.Size([128, 40]),\n",
       " 'token_type_ids': torch.Size([128, 40]),\n",
       " 'attention_mask': torch.Size([128, 40])}"
      ]
     },
     "execution_count": 24,
     "metadata": {},
     "output_type": "execute_result"
    }
   ],
   "source": [
    "# inspect the batch\n",
    "for batch in train_dataloader:\n",
    "  break\n",
    "{k: v.shape for k, v in batch.items()}"
   ]
  },
  {
   "cell_type": "code",
   "execution_count": 25,
   "metadata": {
    "id": "8VKFTvZ7785d"
   },
   "outputs": [],
   "source": [
    "# Load model\n",
    "model = AutoModelForSequenceClassification.from_pretrained(checkpoint, num_labels=5)"
   ]
  },
  {
   "cell_type": "code",
   "execution_count": 26,
   "metadata": {
    "colab": {
     "base_uri": "https://localhost:8080/"
    },
    "id": "J4K8LeDcLplW",
    "outputId": "58900ade-3582-4ce9-da3b-0ef019d1bfd4"
   },
   "outputs": [
    {
     "name": "stdout",
     "output_type": "stream",
     "text": [
      "tensor(1.6408, grad_fn=<NllLossBackward0>) torch.Size([128, 5])\n"
     ]
    }
   ],
   "source": [
    "# pass one batch to this model to make sure that everything is ok\n",
    "outputs = model(**batch)\n",
    "print(outputs.loss, outputs.logits.shape)"
   ]
  },
  {
   "cell_type": "code",
   "execution_count": 27,
   "metadata": {
    "colab": {
     "base_uri": "https://localhost:8080/"
    },
    "id": "nyzEsft78bdU",
    "outputId": "5ab27aec-3963-4852-88da-9e7e9e460e7e"
   },
   "outputs": [
    {
     "name": "stdout",
     "output_type": "stream",
     "text": [
      "Number of the training steps: 1806\n"
     ]
    }
   ],
   "source": [
    "# Number of epochs\n",
    "num_epochs = 7\n",
    "\n",
    "# Number of training steps\n",
    "num_training_steps = num_epochs * len(train_dataloader)\n",
    "\n",
    "# Optimizer\n",
    "optimizer = AdamW(params=model.parameters(), lr=3e-5)\n",
    "\n",
    "# Set up the learning rate scheduler\n",
    "lr_scheduler = get_scheduler(name=\"linear\", \n",
    "                             optimizer=optimizer, \n",
    "                             num_warmup_steps=0, \n",
    "                             num_training_steps=num_training_steps)\n",
    "\n",
    "print(f'Number of the training steps: {num_training_steps}')"
   ]
  },
  {
   "cell_type": "code",
   "execution_count": 28,
   "metadata": {
    "colab": {
     "base_uri": "https://localhost:8080/"
    },
    "id": "YYs05PHdNJG7",
    "outputId": "b4f7d9dd-6d87-469b-ca5e-bae54c45d230"
   },
   "outputs": [
    {
     "name": "stdout",
     "output_type": "stream",
     "text": [
      "cuda\n"
     ]
    }
   ],
   "source": [
    "# Use GPU if it is available\n",
    "device = torch.device(\"cuda\") if torch.cuda.is_available() else torch.device(\"cpu\")\n",
    "model.to(device)\n",
    "print(device)"
   ]
  },
  {
   "cell_type": "code",
   "execution_count": 29,
   "metadata": {
    "colab": {
     "base_uri": "https://localhost:8080/",
     "height": 49,
     "referenced_widgets": [
      "e41da80cecda491db2472245a51493fb",
      "03ddcbb8e4f44841916433e0f95051b8",
      "783345d4e1094bdf854b84220cd43231",
      "4bab330562794b118e05e2f8dbbe4bbc",
      "7babed65cb614de6a9475e019033c700",
      "785fb0702c85421b93d2b5be78a545de",
      "8b8f6151000e4aa3995a884a665e1169",
      "725ed2ea5cb244e8ad6633c163a5b431",
      "f8946c5df37d48d291b50dbf5db6c331",
      "a5f94b3d4db34238be8e7f3dadc7b3af",
      "10b3048e157747b9b53b634f252fe443"
     ]
    },
    "id": "vIIRddqM867b",
    "outputId": "6132a5cc-b04b-40fd-ce51-5b55b61894dd",
    "tags": []
   },
   "outputs": [
    {
     "name": "stderr",
     "output_type": "stream",
     "text": [
      " 14%|█▍        | 258/1806 [02:10<10:02,  2.57it/s]"
     ]
    },
    {
     "name": "stdout",
     "output_type": "stream",
     "text": [
      "1: {'recall': {'recall': 0.6981773997569867}, 'precision': {'precision': 0.7030726521618594}, 'f1': {'f1': 0.6987839091424787}, 'accuracy': {'accuracy': 0.6981773997569867}}\n"
     ]
    },
    {
     "name": "stderr",
     "output_type": "stream",
     "text": [
      " 29%|██▊       | 516/1806 [04:21<08:15,  2.60it/s]"
     ]
    },
    {
     "name": "stdout",
     "output_type": "stream",
     "text": [
      "2: {'recall': {'recall': 0.7317132442284325}, 'precision': {'precision': 0.7389380009798202}, 'f1': {'f1': 0.7323181129810726}, 'accuracy': {'accuracy': 0.7317132442284325}}\n"
     ]
    },
    {
     "name": "stderr",
     "output_type": "stream",
     "text": [
      " 43%|████▎     | 774/1806 [06:33<06:34,  2.62it/s]"
     ]
    },
    {
     "name": "stdout",
     "output_type": "stream",
     "text": [
      "3: {'recall': {'recall': 0.7278250303766707}, 'precision': {'precision': 0.7344513141843177}, 'f1': {'f1': 0.7293564052804884}, 'accuracy': {'accuracy': 0.7278250303766707}}\n"
     ]
    },
    {
     "name": "stderr",
     "output_type": "stream",
     "text": [
      " 57%|█████▋    | 1032/1806 [08:44<04:55,  2.62it/s]"
     ]
    },
    {
     "name": "stdout",
     "output_type": "stream",
     "text": [
      "4: {'recall': {'recall': 0.7419198055893074}, 'precision': {'precision': 0.746876597828415}, 'f1': {'f1': 0.7429948326386683}, 'accuracy': {'accuracy': 0.7419198055893074}}\n"
     ]
    },
    {
     "name": "stderr",
     "output_type": "stream",
     "text": [
      " 71%|███████▏  | 1290/1806 [10:54<03:16,  2.62it/s]"
     ]
    },
    {
     "name": "stdout",
     "output_type": "stream",
     "text": [
      "5: {'recall': {'recall': 0.7339003645200486}, 'precision': {'precision': 0.7367190335298804}, 'f1': {'f1': 0.7346412209947677}, 'accuracy': {'accuracy': 0.7339003645200486}}\n"
     ]
    },
    {
     "name": "stderr",
     "output_type": "stream",
     "text": [
      " 86%|████████▌ | 1548/1806 [13:04<01:38,  2.63it/s]"
     ]
    },
    {
     "name": "stdout",
     "output_type": "stream",
     "text": [
      "6: {'recall': {'recall': 0.73681652490887}, 'precision': {'precision': 0.739791516495611}, 'f1': {'f1': 0.7376352608722484}, 'accuracy': {'accuracy': 0.73681652490887}}\n"
     ]
    },
    {
     "name": "stderr",
     "output_type": "stream",
     "text": [
      "100%|██████████| 1806/1806 [15:15<00:00,  2.60it/s]"
     ]
    },
    {
     "name": "stdout",
     "output_type": "stream",
     "text": [
      "7: {'recall': {'recall': 0.7358444714459296}, 'precision': {'precision': 0.7385238217761383}, 'f1': {'f1': 0.7365954264258288}, 'accuracy': {'accuracy': 0.7358444714459296}}\n"
     ]
    },
    {
     "data": {
      "image/png": "[encoded data removed]",
      "text/plain": [
       "<Figure size 1000x700 with 1 Axes>"
      ]
     },
     "metadata": {},
     "output_type": "display_data"
    }
   ],
   "source": [
    "recall_metric = evaluate.load('recall')\n",
    "precision_metric = evaluate.load('precision')\n",
    "f1_metric = evaluate.load('f1')\n",
    "accuracy_metric = evaluate.load('accuracy')\n",
    "\n",
    "# Set the progress bar\n",
    "progress_bar = tqdm(range(num_training_steps))\n",
    "\n",
    "best_accuracy = 0\n",
    "prec_list_to_plot = []\n",
    "rec_list_to_plot = []\n",
    "f1_list_to_plot = []\n",
    "acc_list_to_plot = []\n",
    "\n",
    "# Loop through the epochs\n",
    "for epoch in range(1, num_epochs + 1):\n",
    "    # Tells the model that we are training the model\n",
    "    model.train()\n",
    "    # Loop through the batches\n",
    "    for batch in train_dataloader:\n",
    "        # Get the batch\n",
    "        batch = {k: v.to(device) for k, v in batch.items()}\n",
    "        # Compute the model output for the batch\n",
    "        outputs = model(**batch)\n",
    "        # Loss computed by the model\n",
    "        loss = outputs.loss\n",
    "        # backpropagates the error to calculate gradients\n",
    "        loss.backward()\n",
    "        # Update the model weights\n",
    "        optimizer.step()\n",
    "        # Learning rate scheduler\n",
    "        lr_scheduler.step()\n",
    "        # Clear the gradients\n",
    "        optimizer.zero_grad()\n",
    "        # Update the progress bar\n",
    "        progress_bar.update(1)\n",
    "\n",
    "    # Evaluation\n",
    "    model.eval()\n",
    "    for batch in val_dataloader:\n",
    "        batch = {k: v.to(device) for k, v in batch.items()}\n",
    "        with torch.no_grad():\n",
    "          outputs = model(**batch)\n",
    "\n",
    "        logits = outputs.logits\n",
    "        predictions = torch.argmax(logits, dim=-1)\n",
    "\n",
    "        recall_metric.add_batch(predictions=predictions, references=batch['labels'])\n",
    "        precision_metric.add_batch(predictions=predictions, references=batch['labels'])\n",
    "        f1_metric.add_batch(predictions=predictions, references=batch['labels'])\n",
    "        accuracy_metric.add_batch(predictions=predictions, references=batch['labels'])\n",
    "    \n",
    "    results = {\n",
    "        'recall': recall_metric.compute(average='weighted'),\n",
    "        'precision': precision_metric.compute(average='weighted'),\n",
    "        'f1': f1_metric.compute(average='weighted'),\n",
    "        'accuracy': accuracy_metric.compute()\n",
    "    }\n",
    "    \n",
    "    print(\n",
    "        f'{epoch}:',\n",
    "        {\n",
    "            key: value\n",
    "            for key, value in results.items()\n",
    "        },\n",
    "    )\n",
    "\n",
    "    prec_list_to_plot.append(results['recall'])\n",
    "    rec_list_to_plot.append(results['precision'])\n",
    "    f1_list_to_plot.append(results['f1'])\n",
    "    acc_list_to_plot.append(results['accuracy']['accuracy'])\n",
    "\n",
    "    if results['accuracy']['accuracy'] > best_accuracy:\n",
    "        best_accuracy = results['accuracy']['accuracy']\n",
    "        model.save_pretrained('best_model')\n",
    "    \n",
    "model.save_pretrained('final_model')\n",
    "\n",
    "# accuracy plots\n",
    "plt.figure(figsize=(10, 7))\n",
    "plt.plot(\n",
    "    acc_list_to_plot, color='blue',\n",
    "    linestyle='-', label='validataion accuracy'\n",
    ")\n",
    "plt.xlabel('Epochs')\n",
    "plt.ylabel('Accuracy')\n",
    "plt.legend()\n",
    "plt.savefig('accuracy.png')"
   ]
  },
  {
   "cell_type": "code",
   "execution_count": null,
   "metadata": {},
   "outputs": [],
   "source": [
    "progress_bar = tqdm(range(len(test_dataloader)))\n",
    "\n",
    "# Evaluation\n",
    "model.eval()\n",
    "for batch in test_dataloader:\n",
    "    batch = {k: v.to(device) for k, v in batch.items()}\n",
    "    with torch.no_grad():\n",
    "        outputs = model(**batch)\n",
    "\n",
    "    logits = outputs.logits\n",
    "    predictions = torch.argmax(logits, dim=-1)\n",
    "        \n",
    "    recall_metric.add_batch(predictions=predictions, references=batch['labels'])\n",
    "    precision_metric.add_batch(predictions=predictions, references=batch['labels'])\n",
    "    f1_metric.add_batch(predictions=predictions, references=batch['labels'])\n",
    "    accuracy_metric.add_batch(predictions=predictions, references=batch['labels'])\n",
    "    progress_bar.update(1)\n",
    "    \n",
    "results = {\n",
    "        'recall': recall_metric.compute(average='weighted'),\n",
    "        'precision': precision_metric.compute(average='weighted'),\n",
    "        'f1': f1_metric.compute(average='weighted'),\n",
    "        'accuracy': accuracy_metric.compute()\n",
    "    }\n",
    "    \n",
    "print(\n",
    "        {\n",
    "            key: value\n",
    "            for key, value in results.items()\n",
    "        },\n",
    "    )"
   ]
  },
  {
   "cell_type": "code",
   "execution_count": 41,
   "metadata": {},
   "outputs": [],
   "source": [
    "# inspect the batch\n",
    "for batch in subm_dataloader:\n",
    "  break\n",
    "{k: v.shape for k, v in batch.items()}"
   ]
  },
  {
   "cell_type": "code",
   "execution_count": 50,
   "metadata": {},
   "outputs": [],
   "source": [
    "progress_bar = tqdm(range(len(subm_dataloader)))\n",
    "# Submission\n",
    "model.eval()\n",
    "submissions = []\n",
    "for batch in subm_dataloader:\n",
    "    batch = {k: v.to(device) for k, v in batch.items()}\n",
    "    with torch.no_grad():\n",
    "        outputs = model(**batch)\n",
    "\n",
    "    logits = outputs.logits\n",
    "    predictions = torch.argmax(logits, dim=-1)\n",
    "    submissions.append(predictions)\n",
    "    progress_bar.update(1)\n"
   ]
  },
  {
   "cell_type": "code",
   "execution_count": 54,
   "metadata": {
    "tags": []
   },
   "outputs": [],
   "source": [
    "final_submissions = [int(x) for y in submissions for x in y]"
   ]
  },
  {
   "cell_type": "code",
   "execution_count": 56,
   "metadata": {},
   "outputs": [
    {
     "data": {
      "text/plain": [
       "3798"
      ]
     },
     "execution_count": 56,
     "metadata": {},
     "output_type": "execute_result"
    }
   ],
   "source": [
    "len(final_submissions)"
   ]
  },
  {
   "cell_type": "code",
   "execution_count": 57,
   "metadata": {},
   "outputs": [
    {
     "data": {
      "text/plain": [
       "array(['Negative', 'Extremely Positive', 'Extremely Positive', ...,\n",
       "       'Neutral', 'Extremely Negative', 'Extremely Positive'],\n",
       "      dtype=object)"
      ]
     },
     "execution_count": 57,
     "metadata": {},
     "output_type": "execute_result"
    }
   ],
   "source": [
    "final_submissions = le.inverse_transform(final_submissions)\n",
    "final_submissions"
   ]
  },
  {
   "cell_type": "code",
   "execution_count": null,
   "metadata": {},
   "outputs": [],
   "source": []
  },
  {
   "cell_type": "markdown",
   "metadata": {
    "id": "ER5aqMtt9vau"
   },
   "source": [
    "https://medium.com/grabngoinfo/transfer-learning-for-text-classification-using-pytorch-5e52045d55f8"
   ]
  },
  {
   "cell_type": "markdown",
   "metadata": {
    "id": "Q8LggpLWQ-iT"
   },
   "source": [
    "## LSTM model"
   ]
  },
  {
   "cell_type": "markdown",
   "metadata": {
    "id": "shBQrhdpuQuq"
   },
   "source": [
    "### Creating datasets"
   ]
  },
  {
   "cell_type": "code",
   "execution_count": null,
   "metadata": {
    "id": "ELlMKrurtkwT"
   },
   "outputs": [],
   "source": [
    "train_dataset, val_dataset, test_dataset, final_test_dataset = to_map_style_dataset(train_data.values), \\\n",
    "                                                               to_map_style_dataset(val_data.values), \\\n",
    "                                                               to_map_style_dataset(test_data.values), \\\n",
    "                                                               to_map_style_dataset(final_test_raw_data.values)\n",
    "\n",
    "MAX_WORDS  = 50\n",
    "BATCH_SIZE = 1024\n",
    "\n",
    "def vectorize_batch(batch):\n",
    "  X, Y = list(zip(*batch))\n",
    "  X = [vocab(tokenizer(text)) for text in X] # tokenize and map tokens to indexes\n",
    "  X = [tokens+([0]*(MAX_WORDS - len(tokens))) if len(tokens) < MAX_WORDS else tokens[:MAX_WORDS] for tokens in X]\n",
    "  return torch.tensor(X, dtype=torch.int32, device='cpu'), torch.tensor(Y, device='cpu')\n",
    "\n",
    "\n",
    "train_loader = DataLoader(train_dataset, batch_size=BATCH_SIZE, collate_fn=vectorize_batch, shuffle=True)\n",
    "val_loader  = DataLoader(val_dataset , batch_size=BATCH_SIZE, collate_fn=vectorize_batch, shuffle=True)\n",
    "test_loader  = DataLoader(test_dataset , batch_size=BATCH_SIZE, collate_fn=vectorize_batch, shuffle=True)\n",
    "final_test_loader  = DataLoader(final_test_dataset , batch_size=BATCH_SIZE, collate_fn=vectorize_batch)"
   ]
  },
  {
   "cell_type": "markdown",
   "metadata": {
    "id": "-zjfh-IEEp2s"
   },
   "source": [
    "### Building model"
   ]
  },
  {
   "cell_type": "code",
   "execution_count": null,
   "metadata": {
    "colab": {
     "base_uri": "https://localhost:8080/"
    },
    "id": "T1iaN2qOB2lO",
    "outputId": "f7bfbe52-dc94-487e-c041-babd41279b2b"
   },
   "outputs": [
    {
     "name": "stdout",
     "output_type": "stream",
     "text": [
      "No GPU available, training on CPU; consider making n_epochs very small.\n"
     ]
    }
   ],
   "source": [
    "# check if GPU is available\n",
    "train_on_gpu = torch.cuda.is_available()\n",
    "if(train_on_gpu):\n",
    "    print('Training on GPU!')\n",
    "else: \n",
    "    print('No GPU available, training on CPU; consider making n_epochs very small.')"
   ]
  },
  {
   "cell_type": "markdown",
   "metadata": {
    "id": "vVDVfscpaHpR"
   },
   "source": [
    "We are building a variation of the RNN: LSTM model.\n",
    "\n",
    "After many attempts of training, our model will be multilayerd (the results are better only with regularization in the optimizer), bidirectional, with dropout and initialization of the hidden state using a Xavier's uniform distribution. LogSoftmax will be used as the activation function at the last level.\n",
    "\n",
    "Adam with regularization will be used as an optimizer (the results without regularization were worse, and overfitting begins much early).\n",
    "\n",
    "![image.png](data:image/png;base64,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)"
   ]
  },
  {
   "cell_type": "code",
   "execution_count": null,
   "metadata": {
    "id": "OqbWYqcN9rlt"
   },
   "outputs": [],
   "source": [
    "EMBED_LEN  = 50\n",
    "HIDDEN_DIM = 75\n",
    "N_LAYERS   = 3\n",
    "\n",
    "target_classes = train_raw_data['Sentiment'].unique()\n",
    "\n",
    "class LSTMClassifier(nn.Module):\n",
    "  def __init__(self):\n",
    "    super(LSTMClassifier, self).__init__()\n",
    "    self.emb_layer = nn.Embedding(num_embeddings=len(vocab), embedding_dim=EMBED_LEN)\n",
    "    self.lstm = nn.LSTM(input_size=EMBED_LEN, hidden_size=HIDDEN_DIM, num_layers=N_LAYERS, dropout=0.5, batch_first=True, bidirectional=True)\n",
    "    self.fc = nn.Linear(in_features=HIDDEN_DIM*2, out_features=len(target_classes))\n",
    "    self.softmax = nn.LogSoftmax(dim=1)\n",
    "  \n",
    "  def init_hidden(self, batch_size):\n",
    "    '''Initializes hidden state'''\n",
    "    # Create two new tensors with sizes n_layers x batch_size x n_hidden,\n",
    "    # initialized to zero, for hidden state and cell state of LSTM\n",
    "    weight = next(self.parameters()).data\n",
    "    \n",
    "    if (train_on_gpu):\n",
    "      # 2*NUM_LAYERS is num_directions*num_layers (2 if bidirectional, else 1)\n",
    "      hidden = (xavier_uniform_(weight.new(2*N_LAYERS, batch_size, HIDDEN_DIM)).cuda(),\n",
    "                xavier_uniform_(weight.new(2*N_LAYERS, batch_size, HIDDEN_DIM)).cuda())\n",
    "    else:\n",
    "      # 2*NUM_LAYERS is num_directions*num_layers (2 if bidirectional, else 1)\n",
    "      hidden = (xavier_uniform_(weight.new(2*N_LAYERS, batch_size, HIDDEN_DIM)),\n",
    "                xavier_uniform_(weight.new(2*N_LAYERS, batch_size, HIDDEN_DIM)))\n",
    "    return hidden\n",
    "\n",
    "  def forward(self, X_batch, hidden):\n",
    "    emb = self.emb_layer(X_batch)\n",
    "    output, hidden = self.lstm(emb, hidden)\n",
    "    output = self.fc(output[:, -1])\n",
    "    output = self.softmax(output)\n",
    "    return output, hidden"
   ]
  },
  {
   "cell_type": "code",
   "execution_count": null,
   "metadata": {
    "colab": {
     "base_uri": "https://localhost:8080/"
    },
    "id": "puqO8pktxsMR",
    "outputId": "34f568b6-40cd-4ff1-edf3-6661a6f309a2"
   },
   "outputs": [
    {
     "data": {
      "text/plain": [
       "LSTMClassifier(\n",
       "  (emb_layer): Embedding(50653, 50)\n",
       "  (lstm): LSTM(50, 75, num_layers=3, batch_first=True, dropout=0.5, bidirectional=True)\n",
       "  (fc): Linear(in_features=150, out_features=5, bias=True)\n",
       "  (softmax): LogSoftmax(dim=1)\n",
       ")"
      ]
     },
     "execution_count": 26,
     "metadata": {},
     "output_type": "execute_result"
    }
   ],
   "source": [
    "lstm_classifier = LSTMClassifier()\n",
    "\n",
    "lstm_classifier"
   ]
  },
  {
   "cell_type": "code",
   "execution_count": null,
   "metadata": {
    "colab": {
     "base_uri": "https://localhost:8080/"
    },
    "id": "2mPUE5vLx9Qm",
    "outputId": "bbc792f8-185a-42d1-e8d1-9d03376569e0"
   },
   "outputs": [
    {
     "name": "stdout",
     "output_type": "stream",
     "text": [
      "Layer: Embedding(50653, 50)\n",
      "Parameters: \n",
      "torch.Size([50653, 50])\n",
      "\n",
      "Layer: LSTM(50, 75, num_layers=3, batch_first=True, dropout=0.5, bidirectional=True)\n",
      "Parameters: \n",
      "torch.Size([300, 50])\n",
      "torch.Size([300, 75])\n",
      "torch.Size([300])\n",
      "torch.Size([300])\n",
      "torch.Size([300, 50])\n",
      "torch.Size([300, 75])\n",
      "torch.Size([300])\n",
      "torch.Size([300])\n",
      "torch.Size([300, 150])\n",
      "torch.Size([300, 75])\n",
      "torch.Size([300])\n",
      "torch.Size([300])\n",
      "torch.Size([300, 150])\n",
      "torch.Size([300, 75])\n",
      "torch.Size([300])\n",
      "torch.Size([300])\n",
      "torch.Size([300, 150])\n",
      "torch.Size([300, 75])\n",
      "torch.Size([300])\n",
      "torch.Size([300])\n",
      "torch.Size([300, 150])\n",
      "torch.Size([300, 75])\n",
      "torch.Size([300])\n",
      "torch.Size([300])\n",
      "\n",
      "Layer: Linear(in_features=150, out_features=5, bias=True)\n",
      "Parameters: \n",
      "torch.Size([5, 150])\n",
      "torch.Size([5])\n",
      "\n",
      "Layer: LogSoftmax(dim=1)\n",
      "Parameters: \n",
      "\n"
     ]
    }
   ],
   "source": [
    "for layer in lstm_classifier.children():\n",
    "  print(f'Layer: {layer}')\n",
    "  print('Parameters: ')\n",
    "  for param in layer.parameters():\n",
    "    print(param.shape)\n",
    "  print()"
   ]
  },
  {
   "cell_type": "markdown",
   "metadata": {
    "id": "MtTOc233yt0b",
    "jp-MarkdownHeadingCollapsed": true,
    "tags": []
   },
   "source": [
    "### Save model and plots"
   ]
  },
  {
   "cell_type": "code",
   "execution_count": null,
   "metadata": {
    "id": "k46AwwTIswvA"
   },
   "outputs": [],
   "source": [
    "class SaveBestModel:\n",
    "    \"\"\"\n",
    "    Class to save the best model while training. If the current epoch's \n",
    "    validation loss is less than the previous least less, then save the\n",
    "    model state.\n",
    "    \"\"\"\n",
    "    def __init__(\n",
    "        self, best_valid_loss=float('inf')\n",
    "    ):\n",
    "        self.best_valid_loss = best_valid_loss\n",
    "        \n",
    "    def __call__(\n",
    "        self, current_valid_loss, \n",
    "        epoch, model, optimizer, criterion, path\n",
    "    ):\n",
    "        if current_valid_loss < self.best_valid_loss:\n",
    "            self.best_valid_loss = current_valid_loss\n",
    "            print(f\"\\nBest validation loss: {self.best_valid_loss}\")\n",
    "            print(f\"\\nSaving best model for epoch: {epoch}\\n\")\n",
    "            torch.save({\n",
    "                'epoch': epoch,\n",
    "                'model_state_dict': model.state_dict(),\n",
    "                'optimizer_state_dict': optimizer.state_dict(),\n",
    "                'loss': criterion,\n",
    "                }, path + 'best_model.pth')\n",
    "            \n",
    "\n",
    "def save_model(epochs, model, optimizer, criterion, path):\n",
    "    \"\"\"\n",
    "    Function to save the trained model to disk.\n",
    "    \"\"\"\n",
    "    print(f\"Saving final model...\")\n",
    "    torch.save({\n",
    "                'epoch': epochs,\n",
    "                'model_state_dict': model.state_dict(),\n",
    "                'optimizer_state_dict': optimizer.state_dict(),\n",
    "                'loss': criterion,\n",
    "                }, path + 'final_model.pth')\n",
    "    \n",
    "\n",
    "def save_plots(valid_acc, train_loss, valid_loss, path):\n",
    "    \"\"\"\n",
    "    Function to save the loss and accuracy plots to disk.\n",
    "    \"\"\"\n",
    "    # accuracy plots\n",
    "    plt.figure(figsize=(10, 7))\n",
    "    plt.plot(\n",
    "        valid_acc, color='blue', linestyle='-', \n",
    "        label='validataion accuracy'\n",
    "    )\n",
    "    plt.xlabel('Epochs')\n",
    "    plt.ylabel('Accuracy')\n",
    "    plt.legend()\n",
    "    plt.savefig(path + 'accuracy.png')\n",
    "    \n",
    "    # loss plots\n",
    "    plt.figure(figsize=(10, 7))\n",
    "    plt.plot(\n",
    "        train_loss, color='orange', linestyle='-', \n",
    "        label='train loss'\n",
    "    )\n",
    "    plt.plot(\n",
    "        valid_loss, color='red', linestyle='-', \n",
    "        label='validataion loss'\n",
    "    )\n",
    "    plt.xlabel('Epochs')\n",
    "    plt.ylabel('Loss')\n",
    "    plt.legend()\n",
    "    plt.savefig(path + 'loss.png')\n",
    "\n",
    "\n",
    "save_best_model = SaveBestModel()"
   ]
  },
  {
   "cell_type": "markdown",
   "metadata": {
    "id": "5fH9yMJFy7IE"
   },
   "source": [
    "### Training loop and calculation validation loss and accuracy\n"
   ]
  },
  {
   "cell_type": "code",
   "execution_count": null,
   "metadata": {
    "id": "_vuXQq-LyGB2"
   },
   "outputs": [],
   "source": [
    "from tqdm import tqdm\n",
    "from sklearn.metrics import accuracy_score\n",
    "import gc\n",
    "\n",
    "def CalcValLossAndAccuracy(model, loss_fn, val_loader):\n",
    "  with torch.no_grad():\n",
    "    Y_shuffled, Y_preds, losses = [], [], []\n",
    "    for X, Y in val_loader:\n",
    "\n",
    "      # initialise hidden state\n",
    "      h = model.init_hidden(X.shape[0])\n",
    "\n",
    "      preds, h = model(X, h)\n",
    "      loss = loss_fn(preds, Y)\n",
    "      losses.append(loss.item())\n",
    "\n",
    "      Y_shuffled.append(Y)\n",
    "      Y_preds.append(preds.argmax(dim=-1))\n",
    "\n",
    "    Y_shuffled = torch.cat(Y_shuffled)\n",
    "    Y_preds = torch.cat(Y_preds)\n",
    "\n",
    "    valid_loss = torch.tensor(losses).cpu().mean()\n",
    "    valid_acc = accuracy_score(Y_shuffled.cpu().detach().numpy(), Y_preds.cpu().detach().numpy())\n",
    "\n",
    "    print(f'Valid Loss: {valid_loss:.3f}')\n",
    "    print(f'Valid Acc : {valid_acc:.3f}')\n",
    "\n",
    "    return valid_loss, valid_acc\n",
    "\n",
    "\n",
    "def TrainModel(model, loss_fn, optimizer, train_loader, val_loader, device, epochs=10, path='/checkpoints/'):\n",
    "  train_losses, val_losses, val_accs = [], [], []\n",
    "  for i in range(1, epochs+1):\n",
    "    losses = []\n",
    "    for X, Y in tqdm(train_loader):\n",
    "      X.to(device)\n",
    "      Y.to(device)\n",
    "      model.to(device)\n",
    "\n",
    "      # initialise hidden state\n",
    "      h = model.init_hidden(X.shape[0])\n",
    "\n",
    "      Y_preds, h = model(X, h)\n",
    "\n",
    "      loss = loss_fn(Y_preds, Y)\n",
    "      losses.append(loss.item())\n",
    "\n",
    "      optimizer.zero_grad()\n",
    "\n",
    "      loss.backward()\n",
    "      optimizer.step()\n",
    "\n",
    "    train_loss = torch.tensor(losses).mean()\n",
    "    print(f'Train Loss: {train_loss:.3f}')\n",
    "    valid_loss, valid_acc = CalcValLossAndAccuracy(model, loss_fn, val_loader)\n",
    "\n",
    "    # save the best model\n",
    "    save_best_model(valid_loss, i, model, optimizer, loss_fn, path)\n",
    "\n",
    "    # append losses and accuracy to lists\n",
    "    train_losses.append(train_loss)\n",
    "    val_losses.append(valid_loss)\n",
    "    val_accs.append(valid_acc)\n",
    "\n",
    "  # save the trained model weights for a final time\n",
    "  save_model(i, model, optimizer, loss_fn, path)\n",
    "  # save the loss and accuracy plots\n",
    "  save_plots(val_accs, train_losses, val_losses, path)"
   ]
  },
  {
   "cell_type": "markdown",
   "metadata": {
    "id": "v2i_QJLZzMux"
   },
   "source": [
    "### Launching the model\n",
    "\n"
   ]
  },
  {
   "cell_type": "code",
   "execution_count": null,
   "metadata": {
    "colab": {
     "base_uri": "https://localhost:8080/"
    },
    "id": "CkTIogdMyNKT",
    "outputId": "a38165df-65ba-4a02-943e-c4e1e719072f"
   },
   "outputs": [
    {
     "data": {
      "text/plain": [
       "device(type='cpu')"
      ]
     },
     "execution_count": 30,
     "metadata": {},
     "output_type": "execute_result"
    }
   ],
   "source": [
    "device = torch.device('cuda' if torch.cuda.is_available() else 'cpu')\n",
    "device"
   ]
  },
  {
   "cell_type": "code",
   "execution_count": null,
   "metadata": {
    "colab": {
     "base_uri": "https://localhost:8080/",
     "height": 1000
    },
    "id": "aZmjaQ8nyQQD",
    "outputId": "5123e6ad-7257-4efb-b41f-db1187ce11b6"
   },
   "outputs": [
    {
     "name": "stderr",
     "output_type": "stream",
     "text": [
      "100%|██████████| 33/33 [02:21<00:00,  4.30s/it]\n"
     ]
    },
    {
     "name": "stdout",
     "output_type": "stream",
     "text": [
      "Train Loss: 1.549\n",
      "Valid Loss: 1.508\n",
      "Valid Acc : 0.297\n",
      "\n",
      "Best validation loss: 1.507659912109375\n",
      "\n",
      "Saving best model for epoch: 1\n",
      "\n"
     ]
    },
    {
     "name": "stderr",
     "output_type": "stream",
     "text": [
      "100%|██████████| 33/33 [02:11<00:00,  3.98s/it]\n"
     ]
    },
    {
     "name": "stdout",
     "output_type": "stream",
     "text": [
      "Train Loss: 1.512\n",
      "Valid Loss: 1.479\n",
      "Valid Acc : 0.307\n",
      "\n",
      "Best validation loss: 1.4793065786361694\n",
      "\n",
      "Saving best model for epoch: 2\n",
      "\n"
     ]
    },
    {
     "name": "stderr",
     "output_type": "stream",
     "text": [
      "100%|██████████| 33/33 [02:09<00:00,  3.92s/it]\n"
     ]
    },
    {
     "name": "stdout",
     "output_type": "stream",
     "text": [
      "Train Loss: 1.472\n",
      "Valid Loss: 1.503\n",
      "Valid Acc : 0.351\n"
     ]
    },
    {
     "name": "stderr",
     "output_type": "stream",
     "text": [
      "100%|██████████| 33/33 [02:08<00:00,  3.88s/it]\n"
     ]
    },
    {
     "name": "stdout",
     "output_type": "stream",
     "text": [
      "Train Loss: 1.352\n",
      "Valid Loss: 1.400\n",
      "Valid Acc : 0.428\n",
      "\n",
      "Best validation loss: 1.4001935720443726\n",
      "\n",
      "Saving best model for epoch: 4\n",
      "\n"
     ]
    },
    {
     "name": "stderr",
     "output_type": "stream",
     "text": [
      "100%|██████████| 33/33 [02:15<00:00,  4.11s/it]\n"
     ]
    },
    {
     "name": "stdout",
     "output_type": "stream",
     "text": [
      "Train Loss: 1.173\n",
      "Valid Loss: 1.179\n",
      "Valid Acc : 0.583\n",
      "\n",
      "Best validation loss: 1.1789215803146362\n",
      "\n",
      "Saving best model for epoch: 5\n",
      "\n"
     ]
    },
    {
     "name": "stderr",
     "output_type": "stream",
     "text": [
      "100%|██████████| 33/33 [02:12<00:00,  4.00s/it]\n"
     ]
    },
    {
     "name": "stdout",
     "output_type": "stream",
     "text": [
      "Train Loss: 0.941\n",
      "Valid Loss: 0.943\n",
      "Valid Acc : 0.651\n",
      "\n",
      "Best validation loss: 0.9432958364486694\n",
      "\n",
      "Saving best model for epoch: 6\n",
      "\n"
     ]
    },
    {
     "name": "stderr",
     "output_type": "stream",
     "text": [
      "100%|██████████| 33/33 [02:14<00:00,  4.07s/it]\n"
     ]
    },
    {
     "name": "stdout",
     "output_type": "stream",
     "text": [
      "Train Loss: 0.782\n",
      "Valid Loss: 0.757\n",
      "Valid Acc : 0.716\n",
      "\n",
      "Best validation loss: 0.7566543817520142\n",
      "\n",
      "Saving best model for epoch: 7\n",
      "\n"
     ]
    },
    {
     "name": "stderr",
     "output_type": "stream",
     "text": [
      "100%|██████████| 33/33 [02:12<00:00,  4.02s/it]\n"
     ]
    },
    {
     "name": "stdout",
     "output_type": "stream",
     "text": [
      "Train Loss: 0.642\n",
      "Valid Loss: 0.698\n",
      "Valid Acc : 0.749\n",
      "\n",
      "Best validation loss: 0.6984459161758423\n",
      "\n",
      "Saving best model for epoch: 8\n",
      "\n"
     ]
    },
    {
     "name": "stderr",
     "output_type": "stream",
     "text": [
      "100%|██████████| 33/33 [02:15<00:00,  4.12s/it]\n"
     ]
    },
    {
     "name": "stdout",
     "output_type": "stream",
     "text": [
      "Train Loss: 0.525\n",
      "Valid Loss: 0.662\n",
      "Valid Acc : 0.764\n",
      "\n",
      "Best validation loss: 0.6616674661636353\n",
      "\n",
      "Saving best model for epoch: 9\n",
      "\n"
     ]
    },
    {
     "name": "stderr",
     "output_type": "stream",
     "text": [
      "100%|██████████| 33/33 [02:16<00:00,  4.13s/it]\n"
     ]
    },
    {
     "name": "stdout",
     "output_type": "stream",
     "text": [
      "Train Loss: 0.441\n",
      "Valid Loss: 0.694\n",
      "Valid Acc : 0.777\n"
     ]
    },
    {
     "name": "stderr",
     "output_type": "stream",
     "text": [
      "100%|██████████| 33/33 [02:12<00:00,  4.01s/it]\n"
     ]
    },
    {
     "name": "stdout",
     "output_type": "stream",
     "text": [
      "Train Loss: 0.380\n",
      "Valid Loss: 0.660\n",
      "Valid Acc : 0.772\n",
      "\n",
      "Best validation loss: 0.6603682637214661\n",
      "\n",
      "Saving best model for epoch: 11\n",
      "\n"
     ]
    },
    {
     "name": "stderr",
     "output_type": "stream",
     "text": [
      "100%|██████████| 33/33 [02:14<00:00,  4.06s/it]\n"
     ]
    },
    {
     "name": "stdout",
     "output_type": "stream",
     "text": [
      "Train Loss: 0.345\n",
      "Valid Loss: 0.690\n",
      "Valid Acc : 0.783\n"
     ]
    },
    {
     "name": "stderr",
     "output_type": "stream",
     "text": [
      "100%|██████████| 33/33 [02:18<00:00,  4.20s/it]\n"
     ]
    },
    {
     "name": "stdout",
     "output_type": "stream",
     "text": [
      "Train Loss: 0.311\n",
      "Valid Loss: 0.658\n",
      "Valid Acc : 0.792\n",
      "\n",
      "Best validation loss: 0.6584254503250122\n",
      "\n",
      "Saving best model for epoch: 13\n",
      "\n"
     ]
    },
    {
     "name": "stderr",
     "output_type": "stream",
     "text": [
      "100%|██████████| 33/33 [02:15<00:00,  4.10s/it]\n"
     ]
    },
    {
     "name": "stdout",
     "output_type": "stream",
     "text": [
      "Train Loss: 0.288\n",
      "Valid Loss: 0.656\n",
      "Valid Acc : 0.800\n",
      "\n",
      "Best validation loss: 0.6558635234832764\n",
      "\n",
      "Saving best model for epoch: 14\n",
      "\n"
     ]
    },
    {
     "name": "stderr",
     "output_type": "stream",
     "text": [
      "100%|██████████| 33/33 [02:13<00:00,  4.06s/it]\n"
     ]
    },
    {
     "name": "stdout",
     "output_type": "stream",
     "text": [
      "Train Loss: 0.267\n",
      "Valid Loss: 0.656\n",
      "Valid Acc : 0.790\n",
      "Saving final model...\n"
     ]
    },
    {
     "data": {
      "image/png": "[encoded data removed]",
      "text/plain": [
       "<Figure size 720x504 with 1 Axes>"
      ]
     },
     "metadata": {},
     "output_type": "display_data"
    },
    {
     "data": {
      "image/png": "[encoded data removed]",
      "text/plain": [
       "<Figure size 720x504 with 1 Axes>"
      ]
     },
     "metadata": {},
     "output_type": "display_data"
    }
   ],
   "source": [
    "EPOCHS  = 15\n",
    "LR      = 1e-2\n",
    "OPT     = Adam(lstm_classifier.parameters(), lr=LR, weight_decay=5e-5)\n",
    "LOSS_FN = nn.CrossEntropyLoss()\n",
    "MODEL   = lstm_classifier\n",
    "PATH    = '/content/checkpoints/'\n",
    "\n",
    "TrainModel(model=MODEL, loss_fn=LOSS_FN, optimizer=OPT, train_loader=train_loader, val_loader=val_loader, device=device, epochs=EPOCHS, path=PATH)"
   ]
  },
  {
   "cell_type": "markdown",
   "metadata": {
    "id": "JrY99Pn5ps9Z"
   },
   "source": [
    "### Loading the saved model"
   ]
  },
  {
   "cell_type": "code",
   "execution_count": null,
   "metadata": {
    "colab": {
     "base_uri": "https://localhost:8080/"
    },
    "id": "xzgOhNfSnw5O",
    "outputId": "ad507d41-3a44-42a1-828f-6620054288ac"
   },
   "outputs": [
    {
     "data": {
      "text/plain": [
       "LSTMClassifier(\n",
       "  (emb_layer): Embedding(50653, 50)\n",
       "  (lstm): LSTM(50, 75, num_layers=3, batch_first=True, dropout=0.5, bidirectional=True)\n",
       "  (fc): Linear(in_features=150, out_features=5, bias=True)\n",
       "  (softmax): LogSoftmax(dim=1)\n",
       ")"
      ]
     },
     "execution_count": 63,
     "metadata": {},
     "output_type": "execute_result"
    }
   ],
   "source": [
    "checkpoint = torch.load('/content/checkpoints/final_model.pth')\n",
    "MODEL.load_state_dict(checkpoint['model_state_dict'])\n",
    "OPT.load_state_dict(checkpoint['optimizer_state_dict'])\n",
    "EPOCHS = checkpoint['epoch']\n",
    "LOSS_FN = checkpoint['loss']\n",
    "\n",
    "# if we need to continue training\n",
    "# MODEL.train()\n",
    "# if we need to inference\n",
    "MODEL.eval()"
   ]
  },
  {
   "cell_type": "markdown",
   "metadata": {
    "id": "5T1C7Vx0UaPs"
   },
   "source": [
    "### Test accuracy"
   ]
  },
  {
   "cell_type": "code",
   "execution_count": null,
   "metadata": {
    "id": "vV90qzu0yWPh"
   },
   "outputs": [],
   "source": [
    "def MakePredictions(model, loader, device):\n",
    "  Y_shuffled, Y_preds= [], []\n",
    "  for X, Y in loader:\n",
    "    X.to(device)\n",
    "    Y.to(device)\n",
    "    # initialise hidden state\n",
    "    h = model.init_hidden(X.shape[0])\n",
    "    preds, h = model(X, h)\n",
    "    Y_preds.append(preds)\n",
    "    Y_shuffled.append(Y)\n",
    "  gc.collect()\n",
    "  Y_preds, Y_shuffled = torch.cat(Y_preds), torch.cat(Y_shuffled)\n",
    "\n",
    "  return Y_shuffled.cpu().detach().numpy(), F.softmax(Y_preds, dim=-1).argmax(dim=-1)\n",
    "\n",
    "Y_actual, Y_preds = MakePredictions(lstm_classifier, test_loader, device)"
   ]
  },
  {
   "cell_type": "code",
   "execution_count": null,
   "metadata": {
    "colab": {
     "base_uri": "https://localhost:8080/"
    },
    "id": "g7qaz0AiIUdd",
    "outputId": "119d3465-8047-4b78-e8ee-edacc0628560"
   },
   "outputs": [
    {
     "name": "stdout",
     "output_type": "stream",
     "text": [
      "Test Accuracy: 0.8131681243926142\n",
      "\n",
      "Classification report: \n",
      "                    precision    recall  f1-score   support\n",
      "\n",
      "           Neutral       0.88      0.77      0.82       548\n",
      "          Positive       0.89      0.80      0.84       662\n",
      "Extremely Negative       0.75      0.81      0.78       992\n",
      "          Negative       0.88      0.83      0.86       771\n",
      "Extremely Positive       0.77      0.83      0.80      1143\n",
      "\n",
      "          accuracy                           0.81      4116\n",
      "         macro avg       0.83      0.81      0.82      4116\n",
      "      weighted avg       0.82      0.81      0.81      4116\n",
      "\n",
      "\n",
      "Confusion Matrix: \n",
      "[[421   0 120   3   4]\n",
      " [  0 530   5   2 125]\n",
      " [ 56   2 804  37  93]\n",
      " [  2   3  58 640  68]\n",
      " [  2  60  87  42 952]]\n"
     ]
    }
   ],
   "source": [
    "from sklearn.metrics import accuracy_score, classification_report, confusion_matrix\n",
    "\n",
    "target_classes_ = le.inverse_transform(target_classes)\n",
    "print(f'Test Accuracy: {accuracy_score(Y_actual, Y_preds)}')\n",
    "print('\\nClassification report: ')\n",
    "print(classification_report(Y_actual, Y_preds, target_names=target_classes_))\n",
    "print('\\nConfusion Matrix: ')\n",
    "print(confusion_matrix(Y_actual, Y_preds))"
   ]
  },
  {
   "cell_type": "markdown",
   "metadata": {
    "id": "Q4n_uyk3eTpn"
   },
   "source": [
    "### What else can be done to improve?"
   ]
  },
  {
   "cell_type": "markdown",
   "metadata": {
    "id": "X55f18snehve"
   },
   "source": [
    "\n",
    "\n",
    "1.   Experiment with the regularization of the optimizer or try another optimizer.\n",
    "2.   Experiment with the 'gain' parameter of the Xavier's initialization or try another method of the initialization hidden state.\n",
    "3. Try another activation function.\n",
    "4. Try using some pretrained embeddings.\n",
    "5. Try using another tokenizators.\n",
    "6. Try changing the text cleaning method.\n",
    "\n"
   ]
  },
  {
   "cell_type": "markdown",
   "metadata": {
    "id": "fCJJVARHxQ3D"
   },
   "source": [
    "## Transfer learning"
   ]
  },
  {
   "cell_type": "code",
   "execution_count": null,
   "metadata": {
    "id": "O5Aig4gfgsAp"
   },
   "outputs": [],
   "source": []
  }
 ],
 "metadata": {
  "colab": {
   "provenance": []
  },
  "kernelspec": {
   "display_name": "Python 3 (ipykernel)",
   "language": "python",
   "name": "python3"
  },
  "language_info": {
   "codemirror_mode": {
    "name": "ipython",
    "version": 3
   },
   "file_extension": ".py",
   "mimetype": "text/x-python",
   "name": "python",
   "nbconvert_exporter": "python",
   "pygments_lexer": "ipython3",
   "version": "3.9.16"
  },
  "widgets": {
   "application/vnd.jupyter.widget-state+json": {
    "03ddcbb8e4f44841916433e0f95051b8": {
     "model_module": "@jupyter-widgets/controls",
     "model_module_version": "1.5.0",
     "model_name": "HTMLModel",
     "state": {
      "_dom_classes": [],
      "_model_module": "@jupyter-widgets/controls",
      "_model_module_version": "1.5.0",
      "_model_name": "HTMLModel",
      "_view_count": null,
      "_view_module": "@jupyter-widgets/controls",
      "_view_module_version": "1.5.0",
      "_view_name": "HTMLView",
      "description": "",
      "description_tooltip": null,
      "layout": "IPY_MODEL_785fb0702c85421b93d2b5be78a545de",
      "placeholder": "​",
      "style": "IPY_MODEL_8b8f6151000e4aa3995a884a665e1169",
      "value": "  0%"
     }
    },
    "0862ee2508d34476b24045624083f0fc": {
     "model_module": "@jupyter-widgets/base",
     "model_module_version": "1.2.0",
     "model_name": "LayoutModel",
     "state": {
      "_model_module": "@jupyter-widgets/base",
      "_model_module_version": "1.2.0",
      "_model_name": "LayoutModel",
      "_view_count": null,
      "_view_module": "@jupyter-widgets/base",
      "_view_module_version": "1.2.0",
      "_view_name": "LayoutView",
      "align_content": null,
      "align_items": null,
      "align_self": null,
      "border": null,
      "bottom": null,
      "display": null,
      "flex": null,
      "flex_flow": null,
      "grid_area": null,
      "grid_auto_columns": null,
      "grid_auto_flow": null,
      "grid_auto_rows": null,
      "grid_column": null,
      "grid_gap": null,
      "grid_row": null,
      "grid_template_areas": null,
      "grid_template_columns": null,
      "grid_template_rows": null,
      "height": null,
      "justify_content": null,
      "justify_items": null,
      "left": null,
      "margin": null,
      "max_height": null,
      "max_width": null,
      "min_height": null,
      "min_width": null,
      "object_fit": null,
      "object_position": null,
      "order": null,
      "overflow": null,
      "overflow_x": null,
      "overflow_y": null,
      "padding": null,
      "right": null,
      "top": null,
      "visibility": "hidden",
      "width": null
     }
    },
    "0b3e95f633b2471e9cff80b6a7953fbf": {
     "model_module": "@jupyter-widgets/controls",
     "model_module_version": "1.5.0",
     "model_name": "ProgressStyleModel",
     "state": {
      "_model_module": "@jupyter-widgets/controls",
      "_model_module_version": "1.5.0",
      "_model_name": "ProgressStyleModel",
      "_view_count": null,
      "_view_module": "@jupyter-widgets/base",
      "_view_module_version": "1.2.0",
      "_view_name": "StyleView",
      "bar_color": null,
      "description_width": ""
     }
    },
    "0bddba2c61c148a78d99d9474590fe11": {
     "model_module": "@jupyter-widgets/controls",
     "model_module_version": "1.5.0",
     "model_name": "HTMLModel",
     "state": {
      "_dom_classes": [],
      "_model_module": "@jupyter-widgets/controls",
      "_model_module_version": "1.5.0",
      "_model_name": "HTMLModel",
      "_view_count": null,
      "_view_module": "@jupyter-widgets/controls",
      "_view_module_version": "1.5.0",
      "_view_name": "HTMLView",
      "description": "",
      "description_tooltip": null,
      "layout": "IPY_MODEL_282635347d2e44bb9ed7b461afda8158",
      "placeholder": "​",
      "style": "IPY_MODEL_913b5dcc548645fb91848605d900453b",
      "value": " 6.77k/6.77k [00:00&lt;00:00, 272kB/s]"
     }
    },
    "0c3d9fa31fac4c11aeba5f0fa3fced85": {
     "model_module": "@jupyter-widgets/controls",
     "model_module_version": "1.5.0",
     "model_name": "FloatProgressModel",
     "state": {
      "_dom_classes": [],
      "_model_module": "@jupyter-widgets/controls",
      "_model_module_version": "1.5.0",
      "_model_name": "FloatProgressModel",
      "_view_count": null,
      "_view_module": "@jupyter-widgets/controls",
      "_view_module_version": "1.5.0",
      "_view_name": "ProgressView",
      "bar_style": "",
      "description": "",
      "description_tooltip": null,
      "layout": "IPY_MODEL_b7a489a32f434607a363d6655f895506",
      "max": 3798,
      "min": 0,
      "orientation": "horizontal",
      "style": "IPY_MODEL_b59b4063ab0c44a0ac8fa4a907559baf",
      "value": 3798
     }
    },
    "0db9c35ff8bb4403a78d73d64b02f78b": {
     "model_module": "@jupyter-widgets/controls",
     "model_module_version": "1.5.0",
     "model_name": "HTMLModel",
     "state": {
      "_dom_classes": [],
      "_model_module": "@jupyter-widgets/controls",
      "_model_module_version": "1.5.0",
      "_model_name": "HTMLModel",
      "_view_count": null,
      "_view_module": "@jupyter-widgets/controls",
      "_view_module_version": "1.5.0",
      "_view_name": "HTMLView",
      "description": "",
      "description_tooltip": null,
      "layout": "IPY_MODEL_74ffb187ac5247ed9028210533bd4c7a",
      "placeholder": "​",
      "style": "IPY_MODEL_6f64fe17609449c7aac3da42936a757c",
      "value": "Map:  97%"
     }
    },
    "0de09efcdd33440e9821f34d374b449b": {
     "model_module": "@jupyter-widgets/controls",
     "model_module_version": "1.5.0",
     "model_name": "FloatProgressModel",
     "state": {
      "_dom_classes": [],
      "_model_module": "@jupyter-widgets/controls",
      "_model_module_version": "1.5.0",
      "_model_name": "FloatProgressModel",
      "_view_count": null,
      "_view_module": "@jupyter-widgets/controls",
      "_view_module_version": "1.5.0",
      "_view_name": "ProgressView",
      "bar_style": "success",
      "description": "",
      "description_tooltip": null,
      "layout": "IPY_MODEL_5dcb6ed66efa441cb1717760617fb973",
      "max": 7546,
      "min": 0,
      "orientation": "horizontal",
      "style": "IPY_MODEL_bf7c6c0919ae4045b3997c34830f8850",
      "value": 7546
     }
    },
    "0ec4c1e454304043b4462b7a0ff8e449": {
     "model_module": "@jupyter-widgets/controls",
     "model_module_version": "1.5.0",
     "model_name": "DescriptionStyleModel",
     "state": {
      "_model_module": "@jupyter-widgets/controls",
      "_model_module_version": "1.5.0",
      "_model_name": "DescriptionStyleModel",
      "_view_count": null,
      "_view_module": "@jupyter-widgets/base",
      "_view_module_version": "1.2.0",
      "_view_name": "StyleView",
      "description_width": ""
     }
    },
    "10b3048e157747b9b53b634f252fe443": {
     "model_module": "@jupyter-widgets/controls",
     "model_module_version": "1.5.0",
     "model_name": "DescriptionStyleModel",
     "state": {
      "_model_module": "@jupyter-widgets/controls",
      "_model_module_version": "1.5.0",
      "_model_name": "DescriptionStyleModel",
      "_view_count": null,
      "_view_module": "@jupyter-widgets/base",
      "_view_module_version": "1.2.0",
      "_view_name": "StyleView",
      "description_width": ""
     }
    },
    "11ce855c407c477bb25a43f6fb26a7f7": {
     "model_module": "@jupyter-widgets/base",
     "model_module_version": "1.2.0",
     "model_name": "LayoutModel",
     "state": {
      "_model_module": "@jupyter-widgets/base",
      "_model_module_version": "1.2.0",
      "_model_name": "LayoutModel",
      "_view_count": null,
      "_view_module": "@jupyter-widgets/base",
      "_view_module_version": "1.2.0",
      "_view_name": "LayoutView",
      "align_content": null,
      "align_items": null,
      "align_self": null,
      "border": null,
      "bottom": null,
      "display": null,
      "flex": null,
      "flex_flow": null,
      "grid_area": null,
      "grid_auto_columns": null,
      "grid_auto_flow": null,
      "grid_auto_rows": null,
      "grid_column": null,
      "grid_gap": null,
      "grid_row": null,
      "grid_template_areas": null,
      "grid_template_columns": null,
      "grid_template_rows": null,
      "height": null,
      "justify_content": null,
      "justify_items": null,
      "left": null,
      "margin": null,
      "max_height": null,
      "max_width": null,
      "min_height": null,
      "min_width": null,
      "object_fit": null,
      "object_position": null,
      "order": null,
      "overflow": null,
      "overflow_x": null,
      "overflow_y": null,
      "padding": null,
      "right": null,
      "top": null,
      "visibility": null,
      "width": null
     }
    },
    "155ea0fdd3cc4cddac6a90d364578805": {
     "model_module": "@jupyter-widgets/base",
     "model_module_version": "1.2.0",
     "model_name": "LayoutModel",
     "state": {
      "_model_module": "@jupyter-widgets/base",
      "_model_module_version": "1.2.0",
      "_model_name": "LayoutModel",
      "_view_count": null,
      "_view_module": "@jupyter-widgets/base",
      "_view_module_version": "1.2.0",
      "_view_name": "LayoutView",
      "align_content": null,
      "align_items": null,
      "align_self": null,
      "border": null,
      "bottom": null,
      "display": null,
      "flex": null,
      "flex_flow": null,
      "grid_area": null,
      "grid_auto_columns": null,
      "grid_auto_flow": null,
      "grid_auto_rows": null,
      "grid_column": null,
      "grid_gap": null,
      "grid_row": null,
      "grid_template_areas": null,
      "grid_template_columns": null,
      "grid_template_rows": null,
      "height": null,
      "justify_content": null,
      "justify_items": null,
      "left": null,
      "margin": null,
      "max_height": null,
      "max_width": null,
      "min_height": null,
      "min_width": null,
      "object_fit": null,
      "object_position": null,
      "order": null,
      "overflow": null,
      "overflow_x": null,
      "overflow_y": null,
      "padding": null,
      "right": null,
      "top": null,
      "visibility": null,
      "width": null
     }
    },
    "1a274a757ae146669f673e96c1c08d88": {
     "model_module": "@jupyter-widgets/controls",
     "model_module_version": "1.5.0",
     "model_name": "DescriptionStyleModel",
     "state": {
      "_model_module": "@jupyter-widgets/controls",
      "_model_module_version": "1.5.0",
      "_model_name": "DescriptionStyleModel",
      "_view_count": null,
      "_view_module": "@jupyter-widgets/base",
      "_view_module_version": "1.2.0",
      "_view_name": "StyleView",
      "description_width": ""
     }
    },
    "20dd3f296e80428b9a7e0cf4b688a5f4": {
     "model_module": "@jupyter-widgets/controls",
     "model_module_version": "1.5.0",
     "model_name": "ProgressStyleModel",
     "state": {
      "_model_module": "@jupyter-widgets/controls",
      "_model_module_version": "1.5.0",
      "_model_name": "ProgressStyleModel",
      "_view_count": null,
      "_view_module": "@jupyter-widgets/base",
      "_view_module_version": "1.2.0",
      "_view_name": "StyleView",
      "bar_color": null,
      "description_width": ""
     }
    },
    "21e0ea0dea254047ba364efb662c5a56": {
     "model_module": "@jupyter-widgets/base",
     "model_module_version": "1.2.0",
     "model_name": "LayoutModel",
     "state": {
      "_model_module": "@jupyter-widgets/base",
      "_model_module_version": "1.2.0",
      "_model_name": "LayoutModel",
      "_view_count": null,
      "_view_module": "@jupyter-widgets/base",
      "_view_module_version": "1.2.0",
      "_view_name": "LayoutView",
      "align_content": null,
      "align_items": null,
      "align_self": null,
      "border": null,
      "bottom": null,
      "display": null,
      "flex": null,
      "flex_flow": null,
      "grid_area": null,
      "grid_auto_columns": null,
      "grid_auto_flow": null,
      "grid_auto_rows": null,
      "grid_column": null,
      "grid_gap": null,
      "grid_row": null,
      "grid_template_areas": null,
      "grid_template_columns": null,
      "grid_template_rows": null,
      "height": null,
      "justify_content": null,
      "justify_items": null,
      "left": null,
      "margin": null,
      "max_height": null,
      "max_width": null,
      "min_height": null,
      "min_width": null,
      "object_fit": null,
      "object_position": null,
      "order": null,
      "overflow": null,
      "overflow_x": null,
      "overflow_y": null,
      "padding": null,
      "right": null,
      "top": null,
      "visibility": null,
      "width": null
     }
    },
    "24b6c4dfbe4346d48d9d3be0c52555f3": {
     "model_module": "@jupyter-widgets/base",
     "model_module_version": "1.2.0",
     "model_name": "LayoutModel",
     "state": {
      "_model_module": "@jupyter-widgets/base",
      "_model_module_version": "1.2.0",
      "_model_name": "LayoutModel",
      "_view_count": null,
      "_view_module": "@jupyter-widgets/base",
      "_view_module_version": "1.2.0",
      "_view_name": "LayoutView",
      "align_content": null,
      "align_items": null,
      "align_self": null,
      "border": null,
      "bottom": null,
      "display": null,
      "flex": null,
      "flex_flow": null,
      "grid_area": null,
      "grid_auto_columns": null,
      "grid_auto_flow": null,
      "grid_auto_rows": null,
      "grid_column": null,
      "grid_gap": null,
      "grid_row": null,
      "grid_template_areas": null,
      "grid_template_columns": null,
      "grid_template_rows": null,
      "height": null,
      "justify_content": null,
      "justify_items": null,
      "left": null,
      "margin": null,
      "max_height": null,
      "max_width": null,
      "min_height": null,
      "min_width": null,
      "object_fit": null,
      "object_position": null,
      "order": null,
      "overflow": null,
      "overflow_x": null,
      "overflow_y": null,
      "padding": null,
      "right": null,
      "top": null,
      "visibility": "hidden",
      "width": null
     }
    },
    "25e2026c551044d581251f123008bcd5": {
     "model_module": "@jupyter-widgets/controls",
     "model_module_version": "1.5.0",
     "model_name": "DescriptionStyleModel",
     "state": {
      "_model_module": "@jupyter-widgets/controls",
      "_model_module_version": "1.5.0",
      "_model_name": "DescriptionStyleModel",
      "_view_count": null,
      "_view_module": "@jupyter-widgets/base",
      "_view_module_version": "1.2.0",
      "_view_name": "StyleView",
      "description_width": ""
     }
    },
    "279b6b86e2be407f829324ccb7e02df4": {
     "model_module": "@jupyter-widgets/controls",
     "model_module_version": "1.5.0",
     "model_name": "ProgressStyleModel",
     "state": {
      "_model_module": "@jupyter-widgets/controls",
      "_model_module_version": "1.5.0",
      "_model_name": "ProgressStyleModel",
      "_view_count": null,
      "_view_module": "@jupyter-widgets/base",
      "_view_module_version": "1.2.0",
      "_view_name": "StyleView",
      "bar_color": null,
      "description_width": ""
     }
    },
    "282635347d2e44bb9ed7b461afda8158": {
     "model_module": "@jupyter-widgets/base",
     "model_module_version": "1.2.0",
     "model_name": "LayoutModel",
     "state": {
      "_model_module": "@jupyter-widgets/base",
      "_model_module_version": "1.2.0",
      "_model_name": "LayoutModel",
      "_view_count": null,
      "_view_module": "@jupyter-widgets/base",
      "_view_module_version": "1.2.0",
      "_view_name": "LayoutView",
      "align_content": null,
      "align_items": null,
      "align_self": null,
      "border": null,
      "bottom": null,
      "display": null,
      "flex": null,
      "flex_flow": null,
      "grid_area": null,
      "grid_auto_columns": null,
      "grid_auto_flow": null,
      "grid_auto_rows": null,
      "grid_column": null,
      "grid_gap": null,
      "grid_row": null,
      "grid_template_areas": null,
      "grid_template_columns": null,
      "grid_template_rows": null,
      "height": null,
      "justify_content": null,
      "justify_items": null,
      "left": null,
      "margin": null,
      "max_height": null,
      "max_width": null,
      "min_height": null,
      "min_width": null,
      "object_fit": null,
      "object_position": null,
      "order": null,
      "overflow": null,
      "overflow_x": null,
      "overflow_y": null,
      "padding": null,
      "right": null,
      "top": null,
      "visibility": null,
      "width": null
     }
    },
    "2d6fdcbf70d940e7bd16007e66b3031d": {
     "model_module": "@jupyter-widgets/controls",
     "model_module_version": "1.5.0",
     "model_name": "ProgressStyleModel",
     "state": {
      "_model_module": "@jupyter-widgets/controls",
      "_model_module_version": "1.5.0",
      "_model_name": "ProgressStyleModel",
      "_view_count": null,
      "_view_module": "@jupyter-widgets/base",
      "_view_module_version": "1.2.0",
      "_view_name": "StyleView",
      "bar_color": null,
      "description_width": ""
     }
    },
    "301e9db3971b48b8beead74a7ac88dca": {
     "model_module": "@jupyter-widgets/controls",
     "model_module_version": "1.5.0",
     "model_name": "HTMLModel",
     "state": {
      "_dom_classes": [],
      "_model_module": "@jupyter-widgets/controls",
      "_model_module_version": "1.5.0",
      "_model_name": "HTMLModel",
      "_view_count": null,
      "_view_module": "@jupyter-widgets/controls",
      "_view_module_version": "1.5.0",
      "_view_name": "HTMLView",
      "description": "",
      "description_tooltip": null,
      "layout": "IPY_MODEL_e46a771bb275441397620b3af943bf96",
      "placeholder": "​",
      "style": "IPY_MODEL_1a274a757ae146669f673e96c1c08d88",
      "value": " 32924/32924 [00:05&lt;00:00, 6585.31 examples/s]"
     }
    },
    "346dd1d813a040f7a41a913c3df50897": {
     "model_module": "@jupyter-widgets/controls",
     "model_module_version": "1.5.0",
     "model_name": "HTMLModel",
     "state": {
      "_dom_classes": [],
      "_model_module": "@jupyter-widgets/controls",
      "_model_module_version": "1.5.0",
      "_model_name": "HTMLModel",
      "_view_count": null,
      "_view_module": "@jupyter-widgets/controls",
      "_view_module_version": "1.5.0",
      "_view_name": "HTMLView",
      "description": "",
      "description_tooltip": null,
      "layout": "IPY_MODEL_6c00ff861ab34ca1afeb1b1ebbb6c33d",
      "placeholder": "​",
      "style": "IPY_MODEL_ef21921ce13e46968fd5c51bfc79997f",
      "value": "Downloading builder script: 100%"
     }
    },
    "419e6910b2544c31a02e88bd12c9c933": {
     "model_module": "@jupyter-widgets/base",
     "model_module_version": "1.2.0",
     "model_name": "LayoutModel",
     "state": {
      "_model_module": "@jupyter-widgets/base",
      "_model_module_version": "1.2.0",
      "_model_name": "LayoutModel",
      "_view_count": null,
      "_view_module": "@jupyter-widgets/base",
      "_view_module_version": "1.2.0",
      "_view_name": "LayoutView",
      "align_content": null,
      "align_items": null,
      "align_self": null,
      "border": null,
      "bottom": null,
      "display": null,
      "flex": null,
      "flex_flow": null,
      "grid_area": null,
      "grid_auto_columns": null,
      "grid_auto_flow": null,
      "grid_auto_rows": null,
      "grid_column": null,
      "grid_gap": null,
      "grid_row": null,
      "grid_template_areas": null,
      "grid_template_columns": null,
      "grid_template_rows": null,
      "height": null,
      "justify_content": null,
      "justify_items": null,
      "left": null,
      "margin": null,
      "max_height": null,
      "max_width": null,
      "min_height": null,
      "min_width": null,
      "object_fit": null,
      "object_position": null,
      "order": null,
      "overflow": null,
      "overflow_x": null,
      "overflow_y": null,
      "padding": null,
      "right": null,
      "top": null,
      "visibility": null,
      "width": null
     }
    },
    "420a4176a1c74fba943cea6fe299cabe": {
     "model_module": "@jupyter-widgets/controls",
     "model_module_version": "1.5.0",
     "model_name": "HTMLModel",
     "state": {
      "_dom_classes": [],
      "_model_module": "@jupyter-widgets/controls",
      "_model_module_version": "1.5.0",
      "_model_name": "HTMLModel",
      "_view_count": null,
      "_view_module": "@jupyter-widgets/controls",
      "_view_module_version": "1.5.0",
      "_view_name": "HTMLView",
      "description": "",
      "description_tooltip": null,
      "layout": "IPY_MODEL_6dd042a37cd744bfb414a496c46c6f20",
      "placeholder": "​",
      "style": "IPY_MODEL_72cd994a32c64fbc9d908e7eadcc4e83",
      "value": "Map: 100%"
     }
    },
    "481a526383ca44018659b90c17cdcb4b": {
     "model_module": "@jupyter-widgets/base",
     "model_module_version": "1.2.0",
     "model_name": "LayoutModel",
     "state": {
      "_model_module": "@jupyter-widgets/base",
      "_model_module_version": "1.2.0",
      "_model_name": "LayoutModel",
      "_view_count": null,
      "_view_module": "@jupyter-widgets/base",
      "_view_module_version": "1.2.0",
      "_view_name": "LayoutView",
      "align_content": null,
      "align_items": null,
      "align_self": null,
      "border": null,
      "bottom": null,
      "display": null,
      "flex": null,
      "flex_flow": null,
      "grid_area": null,
      "grid_auto_columns": null,
      "grid_auto_flow": null,
      "grid_auto_rows": null,
      "grid_column": null,
      "grid_gap": null,
      "grid_row": null,
      "grid_template_areas": null,
      "grid_template_columns": null,
      "grid_template_rows": null,
      "height": null,
      "justify_content": null,
      "justify_items": null,
      "left": null,
      "margin": null,
      "max_height": null,
      "max_width": null,
      "min_height": null,
      "min_width": null,
      "object_fit": null,
      "object_position": null,
      "order": null,
      "overflow": null,
      "overflow_x": null,
      "overflow_y": null,
      "padding": null,
      "right": null,
      "top": null,
      "visibility": null,
      "width": null
     }
    },
    "4bab330562794b118e05e2f8dbbe4bbc": {
     "model_module": "@jupyter-widgets/controls",
     "model_module_version": "1.5.0",
     "model_name": "HTMLModel",
     "state": {
      "_dom_classes": [],
      "_model_module": "@jupyter-widgets/controls",
      "_model_module_version": "1.5.0",
      "_model_name": "HTMLModel",
      "_view_count": null,
      "_view_module": "@jupyter-widgets/controls",
      "_view_module_version": "1.5.0",
      "_view_name": "HTMLView",
      "description": "",
      "description_tooltip": null,
      "layout": "IPY_MODEL_a5f94b3d4db34238be8e7f3dadc7b3af",
      "placeholder": "​",
      "style": "IPY_MODEL_10b3048e157747b9b53b634f252fe443",
      "value": " 0/165 [00:00&lt;?, ?it/s]"
     }
    },
    "4d45ad53c29244c2a2c13283869d1b53": {
     "model_module": "@jupyter-widgets/base",
     "model_module_version": "1.2.0",
     "model_name": "LayoutModel",
     "state": {
      "_model_module": "@jupyter-widgets/base",
      "_model_module_version": "1.2.0",
      "_model_name": "LayoutModel",
      "_view_count": null,
      "_view_module": "@jupyter-widgets/base",
      "_view_module_version": "1.2.0",
      "_view_name": "LayoutView",
      "align_content": null,
      "align_items": null,
      "align_self": null,
      "border": null,
      "bottom": null,
      "display": null,
      "flex": null,
      "flex_flow": null,
      "grid_area": null,
      "grid_auto_columns": null,
      "grid_auto_flow": null,
      "grid_auto_rows": null,
      "grid_column": null,
      "grid_gap": null,
      "grid_row": null,
      "grid_template_areas": null,
      "grid_template_columns": null,
      "grid_template_rows": null,
      "height": null,
      "justify_content": null,
      "justify_items": null,
      "left": null,
      "margin": null,
      "max_height": null,
      "max_width": null,
      "min_height": null,
      "min_width": null,
      "object_fit": null,
      "object_position": null,
      "order": null,
      "overflow": null,
      "overflow_x": null,
      "overflow_y": null,
      "padding": null,
      "right": null,
      "top": null,
      "visibility": null,
      "width": null
     }
    },
    "4db335c1da4c4504962e86d72cffd287": {
     "model_module": "@jupyter-widgets/base",
     "model_module_version": "1.2.0",
     "model_name": "LayoutModel",
     "state": {
      "_model_module": "@jupyter-widgets/base",
      "_model_module_version": "1.2.0",
      "_model_name": "LayoutModel",
      "_view_count": null,
      "_view_module": "@jupyter-widgets/base",
      "_view_module_version": "1.2.0",
      "_view_name": "LayoutView",
      "align_content": null,
      "align_items": null,
      "align_self": null,
      "border": null,
      "bottom": null,
      "display": null,
      "flex": null,
      "flex_flow": null,
      "grid_area": null,
      "grid_auto_columns": null,
      "grid_auto_flow": null,
      "grid_auto_rows": null,
      "grid_column": null,
      "grid_gap": null,
      "grid_row": null,
      "grid_template_areas": null,
      "grid_template_columns": null,
      "grid_template_rows": null,
      "height": null,
      "justify_content": null,
      "justify_items": null,
      "left": null,
      "margin": null,
      "max_height": null,
      "max_width": null,
      "min_height": null,
      "min_width": null,
      "object_fit": null,
      "object_position": null,
      "order": null,
      "overflow": null,
      "overflow_x": null,
      "overflow_y": null,
      "padding": null,
      "right": null,
      "top": null,
      "visibility": null,
      "width": null
     }
    },
    "4e17445b4ecc41889fa0db670dc96888": {
     "model_module": "@jupyter-widgets/base",
     "model_module_version": "1.2.0",
     "model_name": "LayoutModel",
     "state": {
      "_model_module": "@jupyter-widgets/base",
      "_model_module_version": "1.2.0",
      "_model_name": "LayoutModel",
      "_view_count": null,
      "_view_module": "@jupyter-widgets/base",
      "_view_module_version": "1.2.0",
      "_view_name": "LayoutView",
      "align_content": null,
      "align_items": null,
      "align_self": null,
      "border": null,
      "bottom": null,
      "display": null,
      "flex": null,
      "flex_flow": null,
      "grid_area": null,
      "grid_auto_columns": null,
      "grid_auto_flow": null,
      "grid_auto_rows": null,
      "grid_column": null,
      "grid_gap": null,
      "grid_row": null,
      "grid_template_areas": null,
      "grid_template_columns": null,
      "grid_template_rows": null,
      "height": null,
      "justify_content": null,
      "justify_items": null,
      "left": null,
      "margin": null,
      "max_height": null,
      "max_width": null,
      "min_height": null,
      "min_width": null,
      "object_fit": null,
      "object_position": null,
      "order": null,
      "overflow": null,
      "overflow_x": null,
      "overflow_y": null,
      "padding": null,
      "right": null,
      "top": null,
      "visibility": null,
      "width": null
     }
    },
    "50a188a6caf74cbdae8314e8e8ad2184": {
     "model_module": "@jupyter-widgets/controls",
     "model_module_version": "1.5.0",
     "model_name": "HTMLModel",
     "state": {
      "_dom_classes": [],
      "_model_module": "@jupyter-widgets/controls",
      "_model_module_version": "1.5.0",
      "_model_name": "HTMLModel",
      "_view_count": null,
      "_view_module": "@jupyter-widgets/controls",
      "_view_module_version": "1.5.0",
      "_view_name": "HTMLView",
      "description": "",
      "description_tooltip": null,
      "layout": "IPY_MODEL_4db335c1da4c4504962e86d72cffd287",
      "placeholder": "​",
      "style": "IPY_MODEL_ea81df86a5524f86a54523a611fc8c42",
      "value": " 4000/4116 [00:00&lt;00:00, 4440.77 examples/s]"
     }
    },
    "51f9a2701678401c96dd861e397aa84d": {
     "model_module": "@jupyter-widgets/controls",
     "model_module_version": "1.5.0",
     "model_name": "DescriptionStyleModel",
     "state": {
      "_model_module": "@jupyter-widgets/controls",
      "_model_module_version": "1.5.0",
      "_model_name": "DescriptionStyleModel",
      "_view_count": null,
      "_view_module": "@jupyter-widgets/base",
      "_view_module_version": "1.2.0",
      "_view_name": "StyleView",
      "description_width": ""
     }
    },
    "5507ba9e3280413f91118dca5681ed20": {
     "model_module": "@jupyter-widgets/controls",
     "model_module_version": "1.5.0",
     "model_name": "FloatProgressModel",
     "state": {
      "_dom_classes": [],
      "_model_module": "@jupyter-widgets/controls",
      "_model_module_version": "1.5.0",
      "_model_name": "FloatProgressModel",
      "_view_count": null,
      "_view_module": "@jupyter-widgets/controls",
      "_view_module_version": "1.5.0",
      "_view_name": "ProgressView",
      "bar_style": "",
      "description": "",
      "description_tooltip": null,
      "layout": "IPY_MODEL_60aec46e181a4b1cb378adbf2caa46d5",
      "max": 4116,
      "min": 0,
      "orientation": "horizontal",
      "style": "IPY_MODEL_8cb308f81a534180b77779ed6da95322",
      "value": 4116
     }
    },
    "5dcb6ed66efa441cb1717760617fb973": {
     "model_module": "@jupyter-widgets/base",
     "model_module_version": "1.2.0",
     "model_name": "LayoutModel",
     "state": {
      "_model_module": "@jupyter-widgets/base",
      "_model_module_version": "1.2.0",
      "_model_name": "LayoutModel",
      "_view_count": null,
      "_view_module": "@jupyter-widgets/base",
      "_view_module_version": "1.2.0",
      "_view_name": "LayoutView",
      "align_content": null,
      "align_items": null,
      "align_self": null,
      "border": null,
      "bottom": null,
      "display": null,
      "flex": null,
      "flex_flow": null,
      "grid_area": null,
      "grid_auto_columns": null,
      "grid_auto_flow": null,
      "grid_auto_rows": null,
      "grid_column": null,
      "grid_gap": null,
      "grid_row": null,
      "grid_template_areas": null,
      "grid_template_columns": null,
      "grid_template_rows": null,
      "height": null,
      "justify_content": null,
      "justify_items": null,
      "left": null,
      "margin": null,
      "max_height": null,
      "max_width": null,
      "min_height": null,
      "min_width": null,
      "object_fit": null,
      "object_position": null,
      "order": null,
      "overflow": null,
      "overflow_x": null,
      "overflow_y": null,
      "padding": null,
      "right": null,
      "top": null,
      "visibility": null,
      "width": null
     }
    },
    "60aec46e181a4b1cb378adbf2caa46d5": {
     "model_module": "@jupyter-widgets/base",
     "model_module_version": "1.2.0",
     "model_name": "LayoutModel",
     "state": {
      "_model_module": "@jupyter-widgets/base",
      "_model_module_version": "1.2.0",
      "_model_name": "LayoutModel",
      "_view_count": null,
      "_view_module": "@jupyter-widgets/base",
      "_view_module_version": "1.2.0",
      "_view_name": "LayoutView",
      "align_content": null,
      "align_items": null,
      "align_self": null,
      "border": null,
      "bottom": null,
      "display": null,
      "flex": null,
      "flex_flow": null,
      "grid_area": null,
      "grid_auto_columns": null,
      "grid_auto_flow": null,
      "grid_auto_rows": null,
      "grid_column": null,
      "grid_gap": null,
      "grid_row": null,
      "grid_template_areas": null,
      "grid_template_columns": null,
      "grid_template_rows": null,
      "height": null,
      "justify_content": null,
      "justify_items": null,
      "left": null,
      "margin": null,
      "max_height": null,
      "max_width": null,
      "min_height": null,
      "min_width": null,
      "object_fit": null,
      "object_position": null,
      "order": null,
      "overflow": null,
      "overflow_x": null,
      "overflow_y": null,
      "padding": null,
      "right": null,
      "top": null,
      "visibility": null,
      "width": null
     }
    },
    "63841923ff024edfae058664705ffa4c": {
     "model_module": "@jupyter-widgets/base",
     "model_module_version": "1.2.0",
     "model_name": "LayoutModel",
     "state": {
      "_model_module": "@jupyter-widgets/base",
      "_model_module_version": "1.2.0",
      "_model_name": "LayoutModel",
      "_view_count": null,
      "_view_module": "@jupyter-widgets/base",
      "_view_module_version": "1.2.0",
      "_view_name": "LayoutView",
      "align_content": null,
      "align_items": null,
      "align_self": null,
      "border": null,
      "bottom": null,
      "display": null,
      "flex": null,
      "flex_flow": null,
      "grid_area": null,
      "grid_auto_columns": null,
      "grid_auto_flow": null,
      "grid_auto_rows": null,
      "grid_column": null,
      "grid_gap": null,
      "grid_row": null,
      "grid_template_areas": null,
      "grid_template_columns": null,
      "grid_template_rows": null,
      "height": null,
      "justify_content": null,
      "justify_items": null,
      "left": null,
      "margin": null,
      "max_height": null,
      "max_width": null,
      "min_height": null,
      "min_width": null,
      "object_fit": null,
      "object_position": null,
      "order": null,
      "overflow": null,
      "overflow_x": null,
      "overflow_y": null,
      "padding": null,
      "right": null,
      "top": null,
      "visibility": null,
      "width": null
     }
    },
    "6a09fd804c8240298015fd3fb1802a91": {
     "model_module": "@jupyter-widgets/controls",
     "model_module_version": "1.5.0",
     "model_name": "DescriptionStyleModel",
     "state": {
      "_model_module": "@jupyter-widgets/controls",
      "_model_module_version": "1.5.0",
      "_model_name": "DescriptionStyleModel",
      "_view_count": null,
      "_view_module": "@jupyter-widgets/base",
      "_view_module_version": "1.2.0",
      "_view_name": "StyleView",
      "description_width": ""
     }
    },
    "6a4aa28bbb0c40feba3e72644ca23668": {
     "model_module": "@jupyter-widgets/base",
     "model_module_version": "1.2.0",
     "model_name": "LayoutModel",
     "state": {
      "_model_module": "@jupyter-widgets/base",
      "_model_module_version": "1.2.0",
      "_model_name": "LayoutModel",
      "_view_count": null,
      "_view_module": "@jupyter-widgets/base",
      "_view_module_version": "1.2.0",
      "_view_name": "LayoutView",
      "align_content": null,
      "align_items": null,
      "align_self": null,
      "border": null,
      "bottom": null,
      "display": null,
      "flex": null,
      "flex_flow": null,
      "grid_area": null,
      "grid_auto_columns": null,
      "grid_auto_flow": null,
      "grid_auto_rows": null,
      "grid_column": null,
      "grid_gap": null,
      "grid_row": null,
      "grid_template_areas": null,
      "grid_template_columns": null,
      "grid_template_rows": null,
      "height": null,
      "justify_content": null,
      "justify_items": null,
      "left": null,
      "margin": null,
      "max_height": null,
      "max_width": null,
      "min_height": null,
      "min_width": null,
      "object_fit": null,
      "object_position": null,
      "order": null,
      "overflow": null,
      "overflow_x": null,
      "overflow_y": null,
      "padding": null,
      "right": null,
      "top": null,
      "visibility": null,
      "width": null
     }
    },
    "6c00ff861ab34ca1afeb1b1ebbb6c33d": {
     "model_module": "@jupyter-widgets/base",
     "model_module_version": "1.2.0",
     "model_name": "LayoutModel",
     "state": {
      "_model_module": "@jupyter-widgets/base",
      "_model_module_version": "1.2.0",
      "_model_name": "LayoutModel",
      "_view_count": null,
      "_view_module": "@jupyter-widgets/base",
      "_view_module_version": "1.2.0",
      "_view_name": "LayoutView",
      "align_content": null,
      "align_items": null,
      "align_self": null,
      "border": null,
      "bottom": null,
      "display": null,
      "flex": null,
      "flex_flow": null,
      "grid_area": null,
      "grid_auto_columns": null,
      "grid_auto_flow": null,
      "grid_auto_rows": null,
      "grid_column": null,
      "grid_gap": null,
      "grid_row": null,
      "grid_template_areas": null,
      "grid_template_columns": null,
      "grid_template_rows": null,
      "height": null,
      "justify_content": null,
      "justify_items": null,
      "left": null,
      "margin": null,
      "max_height": null,
      "max_width": null,
      "min_height": null,
      "min_width": null,
      "object_fit": null,
      "object_position": null,
      "order": null,
      "overflow": null,
      "overflow_x": null,
      "overflow_y": null,
      "padding": null,
      "right": null,
      "top": null,
      "visibility": null,
      "width": null
     }
    },
    "6d5bdf802a0c4d41a5f94ca359924edd": {
     "model_module": "@jupyter-widgets/controls",
     "model_module_version": "1.5.0",
     "model_name": "DescriptionStyleModel",
     "state": {
      "_model_module": "@jupyter-widgets/controls",
      "_model_module_version": "1.5.0",
      "_model_name": "DescriptionStyleModel",
      "_view_count": null,
      "_view_module": "@jupyter-widgets/base",
      "_view_module_version": "1.2.0",
      "_view_name": "StyleView",
      "description_width": ""
     }
    },
    "6dd042a37cd744bfb414a496c46c6f20": {
     "model_module": "@jupyter-widgets/base",
     "model_module_version": "1.2.0",
     "model_name": "LayoutModel",
     "state": {
      "_model_module": "@jupyter-widgets/base",
      "_model_module_version": "1.2.0",
      "_model_name": "LayoutModel",
      "_view_count": null,
      "_view_module": "@jupyter-widgets/base",
      "_view_module_version": "1.2.0",
      "_view_name": "LayoutView",
      "align_content": null,
      "align_items": null,
      "align_self": null,
      "border": null,
      "bottom": null,
      "display": null,
      "flex": null,
      "flex_flow": null,
      "grid_area": null,
      "grid_auto_columns": null,
      "grid_auto_flow": null,
      "grid_auto_rows": null,
      "grid_column": null,
      "grid_gap": null,
      "grid_row": null,
      "grid_template_areas": null,
      "grid_template_columns": null,
      "grid_template_rows": null,
      "height": null,
      "justify_content": null,
      "justify_items": null,
      "left": null,
      "margin": null,
      "max_height": null,
      "max_width": null,
      "min_height": null,
      "min_width": null,
      "object_fit": null,
      "object_position": null,
      "order": null,
      "overflow": null,
      "overflow_x": null,
      "overflow_y": null,
      "padding": null,
      "right": null,
      "top": null,
      "visibility": null,
      "width": null
     }
    },
    "6f64fe17609449c7aac3da42936a757c": {
     "model_module": "@jupyter-widgets/controls",
     "model_module_version": "1.5.0",
     "model_name": "DescriptionStyleModel",
     "state": {
      "_model_module": "@jupyter-widgets/controls",
      "_model_module_version": "1.5.0",
      "_model_name": "DescriptionStyleModel",
      "_view_count": null,
      "_view_module": "@jupyter-widgets/base",
      "_view_module_version": "1.2.0",
      "_view_name": "StyleView",
      "description_width": ""
     }
    },
    "709999c932c8452887579826fba6fc1d": {
     "model_module": "@jupyter-widgets/controls",
     "model_module_version": "1.5.0",
     "model_name": "HTMLModel",
     "state": {
      "_dom_classes": [],
      "_model_module": "@jupyter-widgets/controls",
      "_model_module_version": "1.5.0",
      "_model_name": "HTMLModel",
      "_view_count": null,
      "_view_module": "@jupyter-widgets/controls",
      "_view_module_version": "1.5.0",
      "_view_name": "HTMLView",
      "description": "",
      "description_tooltip": null,
      "layout": "IPY_MODEL_7edd324dbe68485f96346bf725b2b8d9",
      "placeholder": "​",
      "style": "IPY_MODEL_25e2026c551044d581251f123008bcd5",
      "value": "Downloading builder script: 100%"
     }
    },
    "7228ec4c7e454037936b6d5161c2e551": {
     "model_module": "@jupyter-widgets/controls",
     "model_module_version": "1.5.0",
     "model_name": "HTMLModel",
     "state": {
      "_dom_classes": [],
      "_model_module": "@jupyter-widgets/controls",
      "_model_module_version": "1.5.0",
      "_model_name": "HTMLModel",
      "_view_count": null,
      "_view_module": "@jupyter-widgets/controls",
      "_view_module_version": "1.5.0",
      "_view_name": "HTMLView",
      "description": "",
      "description_tooltip": null,
      "layout": "IPY_MODEL_defb5e595cc84aadbd7c5ee2c7dde562",
      "placeholder": "​",
      "style": "IPY_MODEL_6d5bdf802a0c4d41a5f94ca359924edd",
      "value": " 7.36k/7.36k [00:00&lt;00:00, 245kB/s]"
     }
    },
    "725ed2ea5cb244e8ad6633c163a5b431": {
     "model_module": "@jupyter-widgets/base",
     "model_module_version": "1.2.0",
     "model_name": "LayoutModel",
     "state": {
      "_model_module": "@jupyter-widgets/base",
      "_model_module_version": "1.2.0",
      "_model_name": "LayoutModel",
      "_view_count": null,
      "_view_module": "@jupyter-widgets/base",
      "_view_module_version": "1.2.0",
      "_view_name": "LayoutView",
      "align_content": null,
      "align_items": null,
      "align_self": null,
      "border": null,
      "bottom": null,
      "display": null,
      "flex": null,
      "flex_flow": null,
      "grid_area": null,
      "grid_auto_columns": null,
      "grid_auto_flow": null,
      "grid_auto_rows": null,
      "grid_column": null,
      "grid_gap": null,
      "grid_row": null,
      "grid_template_areas": null,
      "grid_template_columns": null,
      "grid_template_rows": null,
      "height": null,
      "justify_content": null,
      "justify_items": null,
      "left": null,
      "margin": null,
      "max_height": null,
      "max_width": null,
      "min_height": null,
      "min_width": null,
      "object_fit": null,
      "object_position": null,
      "order": null,
      "overflow": null,
      "overflow_x": null,
      "overflow_y": null,
      "padding": null,
      "right": null,
      "top": null,
      "visibility": null,
      "width": null
     }
    },
    "72cd994a32c64fbc9d908e7eadcc4e83": {
     "model_module": "@jupyter-widgets/controls",
     "model_module_version": "1.5.0",
     "model_name": "DescriptionStyleModel",
     "state": {
      "_model_module": "@jupyter-widgets/controls",
      "_model_module_version": "1.5.0",
      "_model_name": "DescriptionStyleModel",
      "_view_count": null,
      "_view_module": "@jupyter-widgets/base",
      "_view_module_version": "1.2.0",
      "_view_name": "StyleView",
      "description_width": ""
     }
    },
    "74ffb187ac5247ed9028210533bd4c7a": {
     "model_module": "@jupyter-widgets/base",
     "model_module_version": "1.2.0",
     "model_name": "LayoutModel",
     "state": {
      "_model_module": "@jupyter-widgets/base",
      "_model_module_version": "1.2.0",
      "_model_name": "LayoutModel",
      "_view_count": null,
      "_view_module": "@jupyter-widgets/base",
      "_view_module_version": "1.2.0",
      "_view_name": "LayoutView",
      "align_content": null,
      "align_items": null,
      "align_self": null,
      "border": null,
      "bottom": null,
      "display": null,
      "flex": null,
      "flex_flow": null,
      "grid_area": null,
      "grid_auto_columns": null,
      "grid_auto_flow": null,
      "grid_auto_rows": null,
      "grid_column": null,
      "grid_gap": null,
      "grid_row": null,
      "grid_template_areas": null,
      "grid_template_columns": null,
      "grid_template_rows": null,
      "height": null,
      "justify_content": null,
      "justify_items": null,
      "left": null,
      "margin": null,
      "max_height": null,
      "max_width": null,
      "min_height": null,
      "min_width": null,
      "object_fit": null,
      "object_position": null,
      "order": null,
      "overflow": null,
      "overflow_x": null,
      "overflow_y": null,
      "padding": null,
      "right": null,
      "top": null,
      "visibility": null,
      "width": null
     }
    },
    "783345d4e1094bdf854b84220cd43231": {
     "model_module": "@jupyter-widgets/controls",
     "model_module_version": "1.5.0",
     "model_name": "FloatProgressModel",
     "state": {
      "_dom_classes": [],
      "_model_module": "@jupyter-widgets/controls",
      "_model_module_version": "1.5.0",
      "_model_name": "FloatProgressModel",
      "_view_count": null,
      "_view_module": "@jupyter-widgets/controls",
      "_view_module_version": "1.5.0",
      "_view_name": "ProgressView",
      "bar_style": "",
      "description": "",
      "description_tooltip": null,
      "layout": "IPY_MODEL_725ed2ea5cb244e8ad6633c163a5b431",
      "max": 165,
      "min": 0,
      "orientation": "horizontal",
      "style": "IPY_MODEL_f8946c5df37d48d291b50dbf5db6c331",
      "value": 0
     }
    },
    "785fb0702c85421b93d2b5be78a545de": {
     "model_module": "@jupyter-widgets/base",
     "model_module_version": "1.2.0",
     "model_name": "LayoutModel",
     "state": {
      "_model_module": "@jupyter-widgets/base",
      "_model_module_version": "1.2.0",
      "_model_name": "LayoutModel",
      "_view_count": null,
      "_view_module": "@jupyter-widgets/base",
      "_view_module_version": "1.2.0",
      "_view_name": "LayoutView",
      "align_content": null,
      "align_items": null,
      "align_self": null,
      "border": null,
      "bottom": null,
      "display": null,
      "flex": null,
      "flex_flow": null,
      "grid_area": null,
      "grid_auto_columns": null,
      "grid_auto_flow": null,
      "grid_auto_rows": null,
      "grid_column": null,
      "grid_gap": null,
      "grid_row": null,
      "grid_template_areas": null,
      "grid_template_columns": null,
      "grid_template_rows": null,
      "height": null,
      "justify_content": null,
      "justify_items": null,
      "left": null,
      "margin": null,
      "max_height": null,
      "max_width": null,
      "min_height": null,
      "min_width": null,
      "object_fit": null,
      "object_position": null,
      "order": null,
      "overflow": null,
      "overflow_x": null,
      "overflow_y": null,
      "padding": null,
      "right": null,
      "top": null,
      "visibility": null,
      "width": null
     }
    },
    "7babed65cb614de6a9475e019033c700": {
     "model_module": "@jupyter-widgets/base",
     "model_module_version": "1.2.0",
     "model_name": "LayoutModel",
     "state": {
      "_model_module": "@jupyter-widgets/base",
      "_model_module_version": "1.2.0",
      "_model_name": "LayoutModel",
      "_view_count": null,
      "_view_module": "@jupyter-widgets/base",
      "_view_module_version": "1.2.0",
      "_view_name": "LayoutView",
      "align_content": null,
      "align_items": null,
      "align_self": null,
      "border": null,
      "bottom": null,
      "display": null,
      "flex": null,
      "flex_flow": null,
      "grid_area": null,
      "grid_auto_columns": null,
      "grid_auto_flow": null,
      "grid_auto_rows": null,
      "grid_column": null,
      "grid_gap": null,
      "grid_row": null,
      "grid_template_areas": null,
      "grid_template_columns": null,
      "grid_template_rows": null,
      "height": null,
      "justify_content": null,
      "justify_items": null,
      "left": null,
      "margin": null,
      "max_height": null,
      "max_width": null,
      "min_height": null,
      "min_width": null,
      "object_fit": null,
      "object_position": null,
      "order": null,
      "overflow": null,
      "overflow_x": null,
      "overflow_y": null,
      "padding": null,
      "right": null,
      "top": null,
      "visibility": null,
      "width": null
     }
    },
    "7edd324dbe68485f96346bf725b2b8d9": {
     "model_module": "@jupyter-widgets/base",
     "model_module_version": "1.2.0",
     "model_name": "LayoutModel",
     "state": {
      "_model_module": "@jupyter-widgets/base",
      "_model_module_version": "1.2.0",
      "_model_name": "LayoutModel",
      "_view_count": null,
      "_view_module": "@jupyter-widgets/base",
      "_view_module_version": "1.2.0",
      "_view_name": "LayoutView",
      "align_content": null,
      "align_items": null,
      "align_self": null,
      "border": null,
      "bottom": null,
      "display": null,
      "flex": null,
      "flex_flow": null,
      "grid_area": null,
      "grid_auto_columns": null,
      "grid_auto_flow": null,
      "grid_auto_rows": null,
      "grid_column": null,
      "grid_gap": null,
      "grid_row": null,
      "grid_template_areas": null,
      "grid_template_columns": null,
      "grid_template_rows": null,
      "height": null,
      "justify_content": null,
      "justify_items": null,
      "left": null,
      "margin": null,
      "max_height": null,
      "max_width": null,
      "min_height": null,
      "min_width": null,
      "object_fit": null,
      "object_position": null,
      "order": null,
      "overflow": null,
      "overflow_x": null,
      "overflow_y": null,
      "padding": null,
      "right": null,
      "top": null,
      "visibility": null,
      "width": null
     }
    },
    "8540f23015f245ce85a5a7b56a3eb62b": {
     "model_module": "@jupyter-widgets/base",
     "model_module_version": "1.2.0",
     "model_name": "LayoutModel",
     "state": {
      "_model_module": "@jupyter-widgets/base",
      "_model_module_version": "1.2.0",
      "_model_name": "LayoutModel",
      "_view_count": null,
      "_view_module": "@jupyter-widgets/base",
      "_view_module_version": "1.2.0",
      "_view_name": "LayoutView",
      "align_content": null,
      "align_items": null,
      "align_self": null,
      "border": null,
      "bottom": null,
      "display": null,
      "flex": null,
      "flex_flow": null,
      "grid_area": null,
      "grid_auto_columns": null,
      "grid_auto_flow": null,
      "grid_auto_rows": null,
      "grid_column": null,
      "grid_gap": null,
      "grid_row": null,
      "grid_template_areas": null,
      "grid_template_columns": null,
      "grid_template_rows": null,
      "height": null,
      "justify_content": null,
      "justify_items": null,
      "left": null,
      "margin": null,
      "max_height": null,
      "max_width": null,
      "min_height": null,
      "min_width": null,
      "object_fit": null,
      "object_position": null,
      "order": null,
      "overflow": null,
      "overflow_x": null,
      "overflow_y": null,
      "padding": null,
      "right": null,
      "top": null,
      "visibility": null,
      "width": null
     }
    },
    "8b8f6151000e4aa3995a884a665e1169": {
     "model_module": "@jupyter-widgets/controls",
     "model_module_version": "1.5.0",
     "model_name": "DescriptionStyleModel",
     "state": {
      "_model_module": "@jupyter-widgets/controls",
      "_model_module_version": "1.5.0",
      "_model_name": "DescriptionStyleModel",
      "_view_count": null,
      "_view_module": "@jupyter-widgets/base",
      "_view_module_version": "1.2.0",
      "_view_name": "StyleView",
      "description_width": ""
     }
    },
    "8cb308f81a534180b77779ed6da95322": {
     "model_module": "@jupyter-widgets/controls",
     "model_module_version": "1.5.0",
     "model_name": "ProgressStyleModel",
     "state": {
      "_model_module": "@jupyter-widgets/controls",
      "_model_module_version": "1.5.0",
      "_model_name": "ProgressStyleModel",
      "_view_count": null,
      "_view_module": "@jupyter-widgets/base",
      "_view_module_version": "1.2.0",
      "_view_name": "StyleView",
      "bar_color": null,
      "description_width": ""
     }
    },
    "913b5dcc548645fb91848605d900453b": {
     "model_module": "@jupyter-widgets/controls",
     "model_module_version": "1.5.0",
     "model_name": "DescriptionStyleModel",
     "state": {
      "_model_module": "@jupyter-widgets/controls",
      "_model_module_version": "1.5.0",
      "_model_name": "DescriptionStyleModel",
      "_view_count": null,
      "_view_module": "@jupyter-widgets/base",
      "_view_module_version": "1.2.0",
      "_view_name": "StyleView",
      "description_width": ""
     }
    },
    "9153af8ceea648cfb29f63258e048d54": {
     "model_module": "@jupyter-widgets/controls",
     "model_module_version": "1.5.0",
     "model_name": "DescriptionStyleModel",
     "state": {
      "_model_module": "@jupyter-widgets/controls",
      "_model_module_version": "1.5.0",
      "_model_name": "DescriptionStyleModel",
      "_view_count": null,
      "_view_module": "@jupyter-widgets/base",
      "_view_module_version": "1.2.0",
      "_view_name": "StyleView",
      "description_width": ""
     }
    },
    "a035dee9bb4a4b6081ba4b22610cf135": {
     "model_module": "@jupyter-widgets/controls",
     "model_module_version": "1.5.0",
     "model_name": "HBoxModel",
     "state": {
      "_dom_classes": [],
      "_model_module": "@jupyter-widgets/controls",
      "_model_module_version": "1.5.0",
      "_model_name": "HBoxModel",
      "_view_count": null,
      "_view_module": "@jupyter-widgets/controls",
      "_view_module_version": "1.5.0",
      "_view_name": "HBoxView",
      "box_style": "",
      "children": [
       "IPY_MODEL_e61512ab94f345628039b35b17e25b84",
       "IPY_MODEL_0de09efcdd33440e9821f34d374b449b",
       "IPY_MODEL_a7e3a1c7664b4fedb926d5b973b2ffd5"
      ],
      "layout": "IPY_MODEL_155ea0fdd3cc4cddac6a90d364578805"
     }
    },
    "a21f08137c63455fb97c9c0e6dc9b478": {
     "model_module": "@jupyter-widgets/base",
     "model_module_version": "1.2.0",
     "model_name": "LayoutModel",
     "state": {
      "_model_module": "@jupyter-widgets/base",
      "_model_module_version": "1.2.0",
      "_model_name": "LayoutModel",
      "_view_count": null,
      "_view_module": "@jupyter-widgets/base",
      "_view_module_version": "1.2.0",
      "_view_name": "LayoutView",
      "align_content": null,
      "align_items": null,
      "align_self": null,
      "border": null,
      "bottom": null,
      "display": null,
      "flex": null,
      "flex_flow": null,
      "grid_area": null,
      "grid_auto_columns": null,
      "grid_auto_flow": null,
      "grid_auto_rows": null,
      "grid_column": null,
      "grid_gap": null,
      "grid_row": null,
      "grid_template_areas": null,
      "grid_template_columns": null,
      "grid_template_rows": null,
      "height": null,
      "justify_content": null,
      "justify_items": null,
      "left": null,
      "margin": null,
      "max_height": null,
      "max_width": null,
      "min_height": null,
      "min_width": null,
      "object_fit": null,
      "object_position": null,
      "order": null,
      "overflow": null,
      "overflow_x": null,
      "overflow_y": null,
      "padding": null,
      "right": null,
      "top": null,
      "visibility": null,
      "width": null
     }
    },
    "a2437f9c785246c79b4a0bcd10565a1d": {
     "model_module": "@jupyter-widgets/controls",
     "model_module_version": "1.5.0",
     "model_name": "HTMLModel",
     "state": {
      "_dom_classes": [],
      "_model_module": "@jupyter-widgets/controls",
      "_model_module_version": "1.5.0",
      "_model_name": "HTMLModel",
      "_view_count": null,
      "_view_module": "@jupyter-widgets/controls",
      "_view_module_version": "1.5.0",
      "_view_name": "HTMLView",
      "description": "",
      "description_tooltip": null,
      "layout": "IPY_MODEL_f2d77a18f8b546a7b4f4da6dd5b0f35b",
      "placeholder": "​",
      "style": "IPY_MODEL_6a09fd804c8240298015fd3fb1802a91",
      "value": "Map:  97%"
     }
    },
    "a5f94b3d4db34238be8e7f3dadc7b3af": {
     "model_module": "@jupyter-widgets/base",
     "model_module_version": "1.2.0",
     "model_name": "LayoutModel",
     "state": {
      "_model_module": "@jupyter-widgets/base",
      "_model_module_version": "1.2.0",
      "_model_name": "LayoutModel",
      "_view_count": null,
      "_view_module": "@jupyter-widgets/base",
      "_view_module_version": "1.2.0",
      "_view_name": "LayoutView",
      "align_content": null,
      "align_items": null,
      "align_self": null,
      "border": null,
      "bottom": null,
      "display": null,
      "flex": null,
      "flex_flow": null,
      "grid_area": null,
      "grid_auto_columns": null,
      "grid_auto_flow": null,
      "grid_auto_rows": null,
      "grid_column": null,
      "grid_gap": null,
      "grid_row": null,
      "grid_template_areas": null,
      "grid_template_columns": null,
      "grid_template_rows": null,
      "height": null,
      "justify_content": null,
      "justify_items": null,
      "left": null,
      "margin": null,
      "max_height": null,
      "max_width": null,
      "min_height": null,
      "min_width": null,
      "object_fit": null,
      "object_position": null,
      "order": null,
      "overflow": null,
      "overflow_x": null,
      "overflow_y": null,
      "padding": null,
      "right": null,
      "top": null,
      "visibility": null,
      "width": null
     }
    },
    "a7c36dec0ff94aedb57c0f586cf09d5e": {
     "model_module": "@jupyter-widgets/controls",
     "model_module_version": "1.5.0",
     "model_name": "FloatProgressModel",
     "state": {
      "_dom_classes": [],
      "_model_module": "@jupyter-widgets/controls",
      "_model_module_version": "1.5.0",
      "_model_name": "FloatProgressModel",
      "_view_count": null,
      "_view_module": "@jupyter-widgets/controls",
      "_view_module_version": "1.5.0",
      "_view_name": "ProgressView",
      "bar_style": "",
      "description": "",
      "description_tooltip": null,
      "layout": "IPY_MODEL_419e6910b2544c31a02e88bd12c9c933",
      "max": 4115,
      "min": 0,
      "orientation": "horizontal",
      "style": "IPY_MODEL_2d6fdcbf70d940e7bd16007e66b3031d",
      "value": 4115
     }
    },
    "a7e3a1c7664b4fedb926d5b973b2ffd5": {
     "model_module": "@jupyter-widgets/controls",
     "model_module_version": "1.5.0",
     "model_name": "HTMLModel",
     "state": {
      "_dom_classes": [],
      "_model_module": "@jupyter-widgets/controls",
      "_model_module_version": "1.5.0",
      "_model_name": "HTMLModel",
      "_view_count": null,
      "_view_module": "@jupyter-widgets/controls",
      "_view_module_version": "1.5.0",
      "_view_name": "HTMLView",
      "description": "",
      "description_tooltip": null,
      "layout": "IPY_MODEL_63841923ff024edfae058664705ffa4c",
      "placeholder": "​",
      "style": "IPY_MODEL_9153af8ceea648cfb29f63258e048d54",
      "value": " 7.55k/7.55k [00:00&lt;00:00, 346kB/s]"
     }
    },
    "aa9809684350458a85fdf9550b5530f2": {
     "model_module": "@jupyter-widgets/controls",
     "model_module_version": "1.5.0",
     "model_name": "HTMLModel",
     "state": {
      "_dom_classes": [],
      "_model_module": "@jupyter-widgets/controls",
      "_model_module_version": "1.5.0",
      "_model_name": "HTMLModel",
      "_view_count": null,
      "_view_module": "@jupyter-widgets/controls",
      "_view_module_version": "1.5.0",
      "_view_name": "HTMLView",
      "description": "",
      "description_tooltip": null,
      "layout": "IPY_MODEL_f26ce74244624c4486645921fa20a54c",
      "placeholder": "​",
      "style": "IPY_MODEL_f958218923864146935a4e54032edb65",
      "value": " 3798/3798 [00:01&lt;00:00, 3450.47 examples/s]"
     }
    },
    "b010518fcd134989a5ee479785c0dc14": {
     "model_module": "@jupyter-widgets/controls",
     "model_module_version": "1.5.0",
     "model_name": "HTMLModel",
     "state": {
      "_dom_classes": [],
      "_model_module": "@jupyter-widgets/controls",
      "_model_module_version": "1.5.0",
      "_model_name": "HTMLModel",
      "_view_count": null,
      "_view_module": "@jupyter-widgets/controls",
      "_view_module_version": "1.5.0",
      "_view_name": "HTMLView",
      "description": "",
      "description_tooltip": null,
      "layout": "IPY_MODEL_8540f23015f245ce85a5a7b56a3eb62b",
      "placeholder": "​",
      "style": "IPY_MODEL_51f9a2701678401c96dd861e397aa84d",
      "value": " 4000/4115 [00:00&lt;00:00, 6053.42 examples/s]"
     }
    },
    "b59b4063ab0c44a0ac8fa4a907559baf": {
     "model_module": "@jupyter-widgets/controls",
     "model_module_version": "1.5.0",
     "model_name": "ProgressStyleModel",
     "state": {
      "_model_module": "@jupyter-widgets/controls",
      "_model_module_version": "1.5.0",
      "_model_name": "ProgressStyleModel",
      "_view_count": null,
      "_view_module": "@jupyter-widgets/base",
      "_view_module_version": "1.2.0",
      "_view_name": "StyleView",
      "bar_color": null,
      "description_width": ""
     }
    },
    "b5aa168d514b471a8974f76c4dc81f7e": {
     "model_module": "@jupyter-widgets/controls",
     "model_module_version": "1.5.0",
     "model_name": "HBoxModel",
     "state": {
      "_dom_classes": [],
      "_model_module": "@jupyter-widgets/controls",
      "_model_module_version": "1.5.0",
      "_model_name": "HBoxModel",
      "_view_count": null,
      "_view_module": "@jupyter-widgets/controls",
      "_view_module_version": "1.5.0",
      "_view_name": "HBoxView",
      "box_style": "",
      "children": [
       "IPY_MODEL_0db9c35ff8bb4403a78d73d64b02f78b",
       "IPY_MODEL_5507ba9e3280413f91118dca5681ed20",
       "IPY_MODEL_50a188a6caf74cbdae8314e8e8ad2184"
      ],
      "layout": "IPY_MODEL_24b6c4dfbe4346d48d9d3be0c52555f3"
     }
    },
    "b7a489a32f434607a363d6655f895506": {
     "model_module": "@jupyter-widgets/base",
     "model_module_version": "1.2.0",
     "model_name": "LayoutModel",
     "state": {
      "_model_module": "@jupyter-widgets/base",
      "_model_module_version": "1.2.0",
      "_model_name": "LayoutModel",
      "_view_count": null,
      "_view_module": "@jupyter-widgets/base",
      "_view_module_version": "1.2.0",
      "_view_name": "LayoutView",
      "align_content": null,
      "align_items": null,
      "align_self": null,
      "border": null,
      "bottom": null,
      "display": null,
      "flex": null,
      "flex_flow": null,
      "grid_area": null,
      "grid_auto_columns": null,
      "grid_auto_flow": null,
      "grid_auto_rows": null,
      "grid_column": null,
      "grid_gap": null,
      "grid_row": null,
      "grid_template_areas": null,
      "grid_template_columns": null,
      "grid_template_rows": null,
      "height": null,
      "justify_content": null,
      "justify_items": null,
      "left": null,
      "margin": null,
      "max_height": null,
      "max_width": null,
      "min_height": null,
      "min_width": null,
      "object_fit": null,
      "object_position": null,
      "order": null,
      "overflow": null,
      "overflow_x": null,
      "overflow_y": null,
      "padding": null,
      "right": null,
      "top": null,
      "visibility": null,
      "width": null
     }
    },
    "bb32829c8c994489890b761cf9e7b553": {
     "model_module": "@jupyter-widgets/controls",
     "model_module_version": "1.5.0",
     "model_name": "HBoxModel",
     "state": {
      "_dom_classes": [],
      "_model_module": "@jupyter-widgets/controls",
      "_model_module_version": "1.5.0",
      "_model_name": "HBoxModel",
      "_view_count": null,
      "_view_module": "@jupyter-widgets/controls",
      "_view_module_version": "1.5.0",
      "_view_name": "HBoxView",
      "box_style": "",
      "children": [
       "IPY_MODEL_346dd1d813a040f7a41a913c3df50897",
       "IPY_MODEL_d1641f1da0c44a8a81c4222cf87b0c35",
       "IPY_MODEL_0bddba2c61c148a78d99d9474590fe11"
      ],
      "layout": "IPY_MODEL_21e0ea0dea254047ba364efb662c5a56"
     }
    },
    "bbe99f0264d2489b9846ce38ca0e2e51": {
     "model_module": "@jupyter-widgets/base",
     "model_module_version": "1.2.0",
     "model_name": "LayoutModel",
     "state": {
      "_model_module": "@jupyter-widgets/base",
      "_model_module_version": "1.2.0",
      "_model_name": "LayoutModel",
      "_view_count": null,
      "_view_module": "@jupyter-widgets/base",
      "_view_module_version": "1.2.0",
      "_view_name": "LayoutView",
      "align_content": null,
      "align_items": null,
      "align_self": null,
      "border": null,
      "bottom": null,
      "display": null,
      "flex": null,
      "flex_flow": null,
      "grid_area": null,
      "grid_auto_columns": null,
      "grid_auto_flow": null,
      "grid_auto_rows": null,
      "grid_column": null,
      "grid_gap": null,
      "grid_row": null,
      "grid_template_areas": null,
      "grid_template_columns": null,
      "grid_template_rows": null,
      "height": null,
      "justify_content": null,
      "justify_items": null,
      "left": null,
      "margin": null,
      "max_height": null,
      "max_width": null,
      "min_height": null,
      "min_width": null,
      "object_fit": null,
      "object_position": null,
      "order": null,
      "overflow": null,
      "overflow_x": null,
      "overflow_y": null,
      "padding": null,
      "right": null,
      "top": null,
      "visibility": "hidden",
      "width": null
     }
    },
    "bf7c6c0919ae4045b3997c34830f8850": {
     "model_module": "@jupyter-widgets/controls",
     "model_module_version": "1.5.0",
     "model_name": "ProgressStyleModel",
     "state": {
      "_model_module": "@jupyter-widgets/controls",
      "_model_module_version": "1.5.0",
      "_model_name": "ProgressStyleModel",
      "_view_count": null,
      "_view_module": "@jupyter-widgets/base",
      "_view_module_version": "1.2.0",
      "_view_name": "StyleView",
      "bar_color": null,
      "description_width": ""
     }
    },
    "bfd8304b24ff45469b9719d1a1439915": {
     "model_module": "@jupyter-widgets/controls",
     "model_module_version": "1.5.0",
     "model_name": "HBoxModel",
     "state": {
      "_dom_classes": [],
      "_model_module": "@jupyter-widgets/controls",
      "_model_module_version": "1.5.0",
      "_model_name": "HBoxModel",
      "_view_count": null,
      "_view_module": "@jupyter-widgets/controls",
      "_view_module_version": "1.5.0",
      "_view_name": "HBoxView",
      "box_style": "",
      "children": [
       "IPY_MODEL_420a4176a1c74fba943cea6fe299cabe",
       "IPY_MODEL_c8b48776cea34243977de71a04fb30a4",
       "IPY_MODEL_301e9db3971b48b8beead74a7ac88dca"
      ],
      "layout": "IPY_MODEL_bbe99f0264d2489b9846ce38ca0e2e51"
     }
    },
    "c3a36f15bbee4197bad3dd0ad6fcce87": {
     "model_module": "@jupyter-widgets/controls",
     "model_module_version": "1.5.0",
     "model_name": "FloatProgressModel",
     "state": {
      "_dom_classes": [],
      "_model_module": "@jupyter-widgets/controls",
      "_model_module_version": "1.5.0",
      "_model_name": "FloatProgressModel",
      "_view_count": null,
      "_view_module": "@jupyter-widgets/controls",
      "_view_module_version": "1.5.0",
      "_view_name": "ProgressView",
      "bar_style": "success",
      "description": "",
      "description_tooltip": null,
      "layout": "IPY_MODEL_481a526383ca44018659b90c17cdcb4b",
      "max": 7363,
      "min": 0,
      "orientation": "horizontal",
      "style": "IPY_MODEL_0b3e95f633b2471e9cff80b6a7953fbf",
      "value": 7363
     }
    },
    "c6752194cfc149dd91eef4981b23fa30": {
     "model_module": "@jupyter-widgets/base",
     "model_module_version": "1.2.0",
     "model_name": "LayoutModel",
     "state": {
      "_model_module": "@jupyter-widgets/base",
      "_model_module_version": "1.2.0",
      "_model_name": "LayoutModel",
      "_view_count": null,
      "_view_module": "@jupyter-widgets/base",
      "_view_module_version": "1.2.0",
      "_view_name": "LayoutView",
      "align_content": null,
      "align_items": null,
      "align_self": null,
      "border": null,
      "bottom": null,
      "display": null,
      "flex": null,
      "flex_flow": null,
      "grid_area": null,
      "grid_auto_columns": null,
      "grid_auto_flow": null,
      "grid_auto_rows": null,
      "grid_column": null,
      "grid_gap": null,
      "grid_row": null,
      "grid_template_areas": null,
      "grid_template_columns": null,
      "grid_template_rows": null,
      "height": null,
      "justify_content": null,
      "justify_items": null,
      "left": null,
      "margin": null,
      "max_height": null,
      "max_width": null,
      "min_height": null,
      "min_width": null,
      "object_fit": null,
      "object_position": null,
      "order": null,
      "overflow": null,
      "overflow_x": null,
      "overflow_y": null,
      "padding": null,
      "right": null,
      "top": null,
      "visibility": "hidden",
      "width": null
     }
    },
    "c8b48776cea34243977de71a04fb30a4": {
     "model_module": "@jupyter-widgets/controls",
     "model_module_version": "1.5.0",
     "model_name": "FloatProgressModel",
     "state": {
      "_dom_classes": [],
      "_model_module": "@jupyter-widgets/controls",
      "_model_module_version": "1.5.0",
      "_model_name": "FloatProgressModel",
      "_view_count": null,
      "_view_module": "@jupyter-widgets/controls",
      "_view_module_version": "1.5.0",
      "_view_name": "ProgressView",
      "bar_style": "",
      "description": "",
      "description_tooltip": null,
      "layout": "IPY_MODEL_6a4aa28bbb0c40feba3e72644ca23668",
      "max": 32924,
      "min": 0,
      "orientation": "horizontal",
      "style": "IPY_MODEL_20dd3f296e80428b9a7e0cf4b688a5f4",
      "value": 32924
     }
    },
    "d1641f1da0c44a8a81c4222cf87b0c35": {
     "model_module": "@jupyter-widgets/controls",
     "model_module_version": "1.5.0",
     "model_name": "FloatProgressModel",
     "state": {
      "_dom_classes": [],
      "_model_module": "@jupyter-widgets/controls",
      "_model_module_version": "1.5.0",
      "_model_name": "FloatProgressModel",
      "_view_count": null,
      "_view_module": "@jupyter-widgets/controls",
      "_view_module_version": "1.5.0",
      "_view_name": "ProgressView",
      "bar_style": "success",
      "description": "",
      "description_tooltip": null,
      "layout": "IPY_MODEL_a21f08137c63455fb97c9c0e6dc9b478",
      "max": 6771,
      "min": 0,
      "orientation": "horizontal",
      "style": "IPY_MODEL_279b6b86e2be407f829324ccb7e02df4",
      "value": 6771
     }
    },
    "d60424ce6be74e85bf974ab9e11cf81d": {
     "model_module": "@jupyter-widgets/controls",
     "model_module_version": "1.5.0",
     "model_name": "HBoxModel",
     "state": {
      "_dom_classes": [],
      "_model_module": "@jupyter-widgets/controls",
      "_model_module_version": "1.5.0",
      "_model_name": "HBoxModel",
      "_view_count": null,
      "_view_module": "@jupyter-widgets/controls",
      "_view_module_version": "1.5.0",
      "_view_name": "HBoxView",
      "box_style": "",
      "children": [
       "IPY_MODEL_f44c89465a8440a1bd3634de1f1cf109",
       "IPY_MODEL_0c3d9fa31fac4c11aeba5f0fa3fced85",
       "IPY_MODEL_aa9809684350458a85fdf9550b5530f2"
      ],
      "layout": "IPY_MODEL_c6752194cfc149dd91eef4981b23fa30"
     }
    },
    "d7a815b7d7a949c891cb4781f7d8420e": {
     "model_module": "@jupyter-widgets/controls",
     "model_module_version": "1.5.0",
     "model_name": "DescriptionStyleModel",
     "state": {
      "_model_module": "@jupyter-widgets/controls",
      "_model_module_version": "1.5.0",
      "_model_name": "DescriptionStyleModel",
      "_view_count": null,
      "_view_module": "@jupyter-widgets/base",
      "_view_module_version": "1.2.0",
      "_view_name": "StyleView",
      "description_width": ""
     }
    },
    "defb5e595cc84aadbd7c5ee2c7dde562": {
     "model_module": "@jupyter-widgets/base",
     "model_module_version": "1.2.0",
     "model_name": "LayoutModel",
     "state": {
      "_model_module": "@jupyter-widgets/base",
      "_model_module_version": "1.2.0",
      "_model_name": "LayoutModel",
      "_view_count": null,
      "_view_module": "@jupyter-widgets/base",
      "_view_module_version": "1.2.0",
      "_view_name": "LayoutView",
      "align_content": null,
      "align_items": null,
      "align_self": null,
      "border": null,
      "bottom": null,
      "display": null,
      "flex": null,
      "flex_flow": null,
      "grid_area": null,
      "grid_auto_columns": null,
      "grid_auto_flow": null,
      "grid_auto_rows": null,
      "grid_column": null,
      "grid_gap": null,
      "grid_row": null,
      "grid_template_areas": null,
      "grid_template_columns": null,
      "grid_template_rows": null,
      "height": null,
      "justify_content": null,
      "justify_items": null,
      "left": null,
      "margin": null,
      "max_height": null,
      "max_width": null,
      "min_height": null,
      "min_width": null,
      "object_fit": null,
      "object_position": null,
      "order": null,
      "overflow": null,
      "overflow_x": null,
      "overflow_y": null,
      "padding": null,
      "right": null,
      "top": null,
      "visibility": null,
      "width": null
     }
    },
    "e41da80cecda491db2472245a51493fb": {
     "model_module": "@jupyter-widgets/controls",
     "model_module_version": "1.5.0",
     "model_name": "HBoxModel",
     "state": {
      "_dom_classes": [],
      "_model_module": "@jupyter-widgets/controls",
      "_model_module_version": "1.5.0",
      "_model_name": "HBoxModel",
      "_view_count": null,
      "_view_module": "@jupyter-widgets/controls",
      "_view_module_version": "1.5.0",
      "_view_name": "HBoxView",
      "box_style": "",
      "children": [
       "IPY_MODEL_03ddcbb8e4f44841916433e0f95051b8",
       "IPY_MODEL_783345d4e1094bdf854b84220cd43231",
       "IPY_MODEL_4bab330562794b118e05e2f8dbbe4bbc"
      ],
      "layout": "IPY_MODEL_7babed65cb614de6a9475e019033c700"
     }
    },
    "e46a771bb275441397620b3af943bf96": {
     "model_module": "@jupyter-widgets/base",
     "model_module_version": "1.2.0",
     "model_name": "LayoutModel",
     "state": {
      "_model_module": "@jupyter-widgets/base",
      "_model_module_version": "1.2.0",
      "_model_name": "LayoutModel",
      "_view_count": null,
      "_view_module": "@jupyter-widgets/base",
      "_view_module_version": "1.2.0",
      "_view_name": "LayoutView",
      "align_content": null,
      "align_items": null,
      "align_self": null,
      "border": null,
      "bottom": null,
      "display": null,
      "flex": null,
      "flex_flow": null,
      "grid_area": null,
      "grid_auto_columns": null,
      "grid_auto_flow": null,
      "grid_auto_rows": null,
      "grid_column": null,
      "grid_gap": null,
      "grid_row": null,
      "grid_template_areas": null,
      "grid_template_columns": null,
      "grid_template_rows": null,
      "height": null,
      "justify_content": null,
      "justify_items": null,
      "left": null,
      "margin": null,
      "max_height": null,
      "max_width": null,
      "min_height": null,
      "min_width": null,
      "object_fit": null,
      "object_position": null,
      "order": null,
      "overflow": null,
      "overflow_x": null,
      "overflow_y": null,
      "padding": null,
      "right": null,
      "top": null,
      "visibility": null,
      "width": null
     }
    },
    "e61512ab94f345628039b35b17e25b84": {
     "model_module": "@jupyter-widgets/controls",
     "model_module_version": "1.5.0",
     "model_name": "HTMLModel",
     "state": {
      "_dom_classes": [],
      "_model_module": "@jupyter-widgets/controls",
      "_model_module_version": "1.5.0",
      "_model_name": "HTMLModel",
      "_view_count": null,
      "_view_module": "@jupyter-widgets/controls",
      "_view_module_version": "1.5.0",
      "_view_name": "HTMLView",
      "description": "",
      "description_tooltip": null,
      "layout": "IPY_MODEL_4e17445b4ecc41889fa0db670dc96888",
      "placeholder": "​",
      "style": "IPY_MODEL_0ec4c1e454304043b4462b7a0ff8e449",
      "value": "Downloading builder script: 100%"
     }
    },
    "ea81df86a5524f86a54523a611fc8c42": {
     "model_module": "@jupyter-widgets/controls",
     "model_module_version": "1.5.0",
     "model_name": "DescriptionStyleModel",
     "state": {
      "_model_module": "@jupyter-widgets/controls",
      "_model_module_version": "1.5.0",
      "_model_name": "DescriptionStyleModel",
      "_view_count": null,
      "_view_module": "@jupyter-widgets/base",
      "_view_module_version": "1.2.0",
      "_view_name": "StyleView",
      "description_width": ""
     }
    },
    "ec825f7f43d94ee9a417b6b4eedd1320": {
     "model_module": "@jupyter-widgets/controls",
     "model_module_version": "1.5.0",
     "model_name": "HBoxModel",
     "state": {
      "_dom_classes": [],
      "_model_module": "@jupyter-widgets/controls",
      "_model_module_version": "1.5.0",
      "_model_name": "HBoxModel",
      "_view_count": null,
      "_view_module": "@jupyter-widgets/controls",
      "_view_module_version": "1.5.0",
      "_view_name": "HBoxView",
      "box_style": "",
      "children": [
       "IPY_MODEL_709999c932c8452887579826fba6fc1d",
       "IPY_MODEL_c3a36f15bbee4197bad3dd0ad6fcce87",
       "IPY_MODEL_7228ec4c7e454037936b6d5161c2e551"
      ],
      "layout": "IPY_MODEL_4d45ad53c29244c2a2c13283869d1b53"
     }
    },
    "ef21921ce13e46968fd5c51bfc79997f": {
     "model_module": "@jupyter-widgets/controls",
     "model_module_version": "1.5.0",
     "model_name": "DescriptionStyleModel",
     "state": {
      "_model_module": "@jupyter-widgets/controls",
      "_model_module_version": "1.5.0",
      "_model_name": "DescriptionStyleModel",
      "_view_count": null,
      "_view_module": "@jupyter-widgets/base",
      "_view_module_version": "1.2.0",
      "_view_name": "StyleView",
      "description_width": ""
     }
    },
    "f26ce74244624c4486645921fa20a54c": {
     "model_module": "@jupyter-widgets/base",
     "model_module_version": "1.2.0",
     "model_name": "LayoutModel",
     "state": {
      "_model_module": "@jupyter-widgets/base",
      "_model_module_version": "1.2.0",
      "_model_name": "LayoutModel",
      "_view_count": null,
      "_view_module": "@jupyter-widgets/base",
      "_view_module_version": "1.2.0",
      "_view_name": "LayoutView",
      "align_content": null,
      "align_items": null,
      "align_self": null,
      "border": null,
      "bottom": null,
      "display": null,
      "flex": null,
      "flex_flow": null,
      "grid_area": null,
      "grid_auto_columns": null,
      "grid_auto_flow": null,
      "grid_auto_rows": null,
      "grid_column": null,
      "grid_gap": null,
      "grid_row": null,
      "grid_template_areas": null,
      "grid_template_columns": null,
      "grid_template_rows": null,
      "height": null,
      "justify_content": null,
      "justify_items": null,
      "left": null,
      "margin": null,
      "max_height": null,
      "max_width": null,
      "min_height": null,
      "min_width": null,
      "object_fit": null,
      "object_position": null,
      "order": null,
      "overflow": null,
      "overflow_x": null,
      "overflow_y": null,
      "padding": null,
      "right": null,
      "top": null,
      "visibility": null,
      "width": null
     }
    },
    "f2d77a18f8b546a7b4f4da6dd5b0f35b": {
     "model_module": "@jupyter-widgets/base",
     "model_module_version": "1.2.0",
     "model_name": "LayoutModel",
     "state": {
      "_model_module": "@jupyter-widgets/base",
      "_model_module_version": "1.2.0",
      "_model_name": "LayoutModel",
      "_view_count": null,
      "_view_module": "@jupyter-widgets/base",
      "_view_module_version": "1.2.0",
      "_view_name": "LayoutView",
      "align_content": null,
      "align_items": null,
      "align_self": null,
      "border": null,
      "bottom": null,
      "display": null,
      "flex": null,
      "flex_flow": null,
      "grid_area": null,
      "grid_auto_columns": null,
      "grid_auto_flow": null,
      "grid_auto_rows": null,
      "grid_column": null,
      "grid_gap": null,
      "grid_row": null,
      "grid_template_areas": null,
      "grid_template_columns": null,
      "grid_template_rows": null,
      "height": null,
      "justify_content": null,
      "justify_items": null,
      "left": null,
      "margin": null,
      "max_height": null,
      "max_width": null,
      "min_height": null,
      "min_width": null,
      "object_fit": null,
      "object_position": null,
      "order": null,
      "overflow": null,
      "overflow_x": null,
      "overflow_y": null,
      "padding": null,
      "right": null,
      "top": null,
      "visibility": null,
      "width": null
     }
    },
    "f44c89465a8440a1bd3634de1f1cf109": {
     "model_module": "@jupyter-widgets/controls",
     "model_module_version": "1.5.0",
     "model_name": "HTMLModel",
     "state": {
      "_dom_classes": [],
      "_model_module": "@jupyter-widgets/controls",
      "_model_module_version": "1.5.0",
      "_model_name": "HTMLModel",
      "_view_count": null,
      "_view_module": "@jupyter-widgets/controls",
      "_view_module_version": "1.5.0",
      "_view_name": "HTMLView",
      "description": "",
      "description_tooltip": null,
      "layout": "IPY_MODEL_11ce855c407c477bb25a43f6fb26a7f7",
      "placeholder": "​",
      "style": "IPY_MODEL_d7a815b7d7a949c891cb4781f7d8420e",
      "value": "Map: 100%"
     }
    },
    "f5e0f45306f9452b95f82d6ab1d53193": {
     "model_module": "@jupyter-widgets/controls",
     "model_module_version": "1.5.0",
     "model_name": "HBoxModel",
     "state": {
      "_dom_classes": [],
      "_model_module": "@jupyter-widgets/controls",
      "_model_module_version": "1.5.0",
      "_model_name": "HBoxModel",
      "_view_count": null,
      "_view_module": "@jupyter-widgets/controls",
      "_view_module_version": "1.5.0",
      "_view_name": "HBoxView",
      "box_style": "",
      "children": [
       "IPY_MODEL_a2437f9c785246c79b4a0bcd10565a1d",
       "IPY_MODEL_a7c36dec0ff94aedb57c0f586cf09d5e",
       "IPY_MODEL_b010518fcd134989a5ee479785c0dc14"
      ],
      "layout": "IPY_MODEL_0862ee2508d34476b24045624083f0fc"
     }
    },
    "f8946c5df37d48d291b50dbf5db6c331": {
     "model_module": "@jupyter-widgets/controls",
     "model_module_version": "1.5.0",
     "model_name": "ProgressStyleModel",
     "state": {
      "_model_module": "@jupyter-widgets/controls",
      "_model_module_version": "1.5.0",
      "_model_name": "ProgressStyleModel",
      "_view_count": null,
      "_view_module": "@jupyter-widgets/base",
      "_view_module_version": "1.2.0",
      "_view_name": "StyleView",
      "bar_color": null,
      "description_width": ""
     }
    },
    "f958218923864146935a4e54032edb65": {
     "model_module": "@jupyter-widgets/controls",
     "model_module_version": "1.5.0",
     "model_name": "DescriptionStyleModel",
     "state": {
      "_model_module": "@jupyter-widgets/controls",
      "_model_module_version": "1.5.0",
      "_model_name": "DescriptionStyleModel",
      "_view_count": null,
      "_view_module": "@jupyter-widgets/base",
      "_view_module_version": "1.2.0",
      "_view_name": "StyleView",
      "description_width": ""
     }
    }
   }
  }
 },
 "nbformat": 4,
 "nbformat_minor": 4
}
