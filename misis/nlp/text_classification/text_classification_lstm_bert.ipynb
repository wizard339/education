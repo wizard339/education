{
 "cells": [
  {
   "cell_type": "code",
   "execution_count": 1,
   "metadata": {
    "id": "IPhGBcHg58X6"
   },
   "outputs": [
    {
     "name": "stdout",
     "output_type": "stream",
     "text": [
      "Requirement already satisfied: transformers in c:\\programdata\\anaconda3\\envs\\pytorch_1\\lib\\site-packages (4.26.1)\n",
      "Requirement already satisfied: datasets in c:\\programdata\\anaconda3\\envs\\pytorch_1\\lib\\site-packages (2.10.1)\n",
      "Requirement already satisfied: evaluate in c:\\programdata\\anaconda3\\envs\\pytorch_1\\lib\\site-packages (0.4.0)\n",
      "Requirement already satisfied: tokenizers!=0.11.3,<0.14,>=0.11.1 in c:\\programdata\\anaconda3\\envs\\pytorch_1\\lib\\site-packages (from transformers) (0.13.2)\n",
      "Requirement already satisfied: regex!=2019.12.17 in c:\\programdata\\anaconda3\\envs\\pytorch_1\\lib\\site-packages (from transformers) (2022.10.31)\n",
      "Requirement already satisfied: numpy>=1.17 in c:\\programdata\\anaconda3\\envs\\pytorch_1\\lib\\site-packages (from transformers) (1.23.5)\n",
      "Requirement already satisfied: tqdm>=4.27 in c:\\programdata\\anaconda3\\envs\\pytorch_1\\lib\\site-packages (from transformers) (4.65.0)\n",
      "Requirement already satisfied: requests in c:\\programdata\\anaconda3\\envs\\pytorch_1\\lib\\site-packages (from transformers) (2.28.1)\n",
      "Requirement already satisfied: huggingface-hub<1.0,>=0.11.0 in c:\\programdata\\anaconda3\\envs\\pytorch_1\\lib\\site-packages (from transformers) (0.12.1)\n",
      "Requirement already satisfied: packaging>=20.0 in c:\\programdata\\anaconda3\\envs\\pytorch_1\\lib\\site-packages (from transformers) (22.0)\n",
      "Requirement already satisfied: filelock in c:\\programdata\\anaconda3\\envs\\pytorch_1\\lib\\site-packages (from transformers) (3.9.0)\n",
      "Requirement already satisfied: pyyaml>=5.1 in c:\\programdata\\anaconda3\\envs\\pytorch_1\\lib\\site-packages (from transformers) (6.0)\n",
      "Requirement already satisfied: pyarrow>=6.0.0 in c:\\programdata\\anaconda3\\envs\\pytorch_1\\lib\\site-packages (from datasets) (11.0.0)\n",
      "Requirement already satisfied: xxhash in c:\\programdata\\anaconda3\\envs\\pytorch_1\\lib\\site-packages (from datasets) (3.2.0)\n",
      "Requirement already satisfied: dill<0.3.7,>=0.3.0 in c:\\programdata\\anaconda3\\envs\\pytorch_1\\lib\\site-packages (from datasets) (0.3.6)\n",
      "Requirement already satisfied: pandas in c:\\programdata\\anaconda3\\envs\\pytorch_1\\lib\\site-packages (from datasets) (1.5.3)\n",
      "Requirement already satisfied: fsspec[http]>=2021.11.1 in c:\\programdata\\anaconda3\\envs\\pytorch_1\\lib\\site-packages (from datasets) (2023.3.0)\n",
      "Requirement already satisfied: aiohttp in c:\\programdata\\anaconda3\\envs\\pytorch_1\\lib\\site-packages (from datasets) (3.8.4)\n",
      "Requirement already satisfied: responses<0.19 in c:\\programdata\\anaconda3\\envs\\pytorch_1\\lib\\site-packages (from datasets) (0.18.0)\n",
      "Requirement already satisfied: multiprocess in c:\\programdata\\anaconda3\\envs\\pytorch_1\\lib\\site-packages (from datasets) (0.70.14)\n",
      "Requirement already satisfied: frozenlist>=1.1.1 in c:\\programdata\\anaconda3\\envs\\pytorch_1\\lib\\site-packages (from aiohttp->datasets) (1.3.3)\n",
      "Requirement already satisfied: yarl<2.0,>=1.0 in c:\\programdata\\anaconda3\\envs\\pytorch_1\\lib\\site-packages (from aiohttp->datasets) (1.8.2)\n",
      "Requirement already satisfied: attrs>=17.3.0 in c:\\programdata\\anaconda3\\envs\\pytorch_1\\lib\\site-packages (from aiohttp->datasets) (22.1.0)\n",
      "Requirement already satisfied: multidict<7.0,>=4.5 in c:\\programdata\\anaconda3\\envs\\pytorch_1\\lib\\site-packages (from aiohttp->datasets) (6.0.4)\n",
      "Requirement already satisfied: async-timeout<5.0,>=4.0.0a3 in c:\\programdata\\anaconda3\\envs\\pytorch_1\\lib\\site-packages (from aiohttp->datasets) (4.0.2)\n",
      "Requirement already satisfied: aiosignal>=1.1.2 in c:\\programdata\\anaconda3\\envs\\pytorch_1\\lib\\site-packages (from aiohttp->datasets) (1.3.1)\n",
      "Requirement already satisfied: charset-normalizer<4.0,>=2.0 in c:\\programdata\\anaconda3\\envs\\pytorch_1\\lib\\site-packages (from aiohttp->datasets) (2.0.4)\n",
      "Requirement already satisfied: typing-extensions>=3.7.4.3 in c:\\programdata\\anaconda3\\envs\\pytorch_1\\lib\\site-packages (from huggingface-hub<1.0,>=0.11.0->transformers) (4.5.0)\n",
      "Requirement already satisfied: idna<4,>=2.5 in c:\\programdata\\anaconda3\\envs\\pytorch_1\\lib\\site-packages (from requests->transformers) (3.4)\n",
      "Requirement already satisfied: urllib3<1.27,>=1.21.1 in c:\\programdata\\anaconda3\\envs\\pytorch_1\\lib\\site-packages (from requests->transformers) (1.26.14)\n",
      "Requirement already satisfied: certifi>=2017.4.17 in c:\\programdata\\anaconda3\\envs\\pytorch_1\\lib\\site-packages (from requests->transformers) (2022.12.7)\n",
      "Requirement already satisfied: colorama in c:\\programdata\\anaconda3\\envs\\pytorch_1\\lib\\site-packages (from tqdm>=4.27->transformers) (0.4.6)\n",
      "Requirement already satisfied: python-dateutil>=2.8.1 in c:\\programdata\\anaconda3\\envs\\pytorch_1\\lib\\site-packages (from pandas->datasets) (2.8.2)\n",
      "Requirement already satisfied: pytz>=2020.1 in c:\\programdata\\anaconda3\\envs\\pytorch_1\\lib\\site-packages (from pandas->datasets) (2022.7)\n",
      "Requirement already satisfied: six>=1.5 in c:\\programdata\\anaconda3\\envs\\pytorch_1\\lib\\site-packages (from python-dateutil>=2.8.1->pandas->datasets) (1.16.0)\n"
     ]
    }
   ],
   "source": [
    "!pip install transformers datasets evaluate"
   ]
  },
  {
   "cell_type": "code",
   "execution_count": 2,
   "metadata": {
    "id": "4QrD0qmKkiRL"
   },
   "outputs": [
    {
     "name": "stderr",
     "output_type": "stream",
     "text": [
      "C:\\ProgramData\\Anaconda3\\envs\\pytorch_1\\lib\\site-packages\\tqdm\\auto.py:21: TqdmWarning: IProgress not found. Please update jupyter and ipywidgets. See https://ipywidgets.readthedocs.io/en/stable/user_install.html\n",
      "  from .autonotebook import tqdm as notebook_tqdm\n"
     ]
    }
   ],
   "source": [
    "import pandas as pd\n",
    "import numpy as np\n",
    "import matplotlib.pyplot as plt\n",
    "import math\n",
    "import re\n",
    "import torch\n",
    "import torchtext\n",
    "import gensim.downloader\n",
    "from torch.utils.data import DataLoader\n",
    "from torchtext.data import get_tokenizer\n",
    "from torchtext.vocab import build_vocab_from_iterator\n",
    "from torch.types import Device\n",
    "from torch.utils.data import DataLoader\n",
    "from torchtext.data.functional import to_map_style_dataset\n",
    "from prompt_toolkit import output\n",
    "from torch import nn\n",
    "from torch.nn import functional as F\n",
    "from torch.optim import Adam, AdamW\n",
    "from torch.optim.lr_scheduler import LinearLR\n",
    "from torch.nn.init import xavier_uniform_\n",
    "from tqdm import tqdm\n",
    "from transformers import AutoTokenizer, AutoModelForSequenceClassification, DataCollatorWithPadding, get_scheduler\n",
    "from sklearn.metrics import accuracy_score, classification_report, confusion_matrix\n",
    "import gc\n",
    "# Hugging Face Dataset\n",
    "from datasets import Dataset\n",
    "\n",
    "# Model performance evaluation\n",
    "import evaluate\n",
    "\n",
    "from sklearn.preprocessing import LabelEncoder\n",
    "from sklearn.model_selection import train_test_split\n",
    "\n",
    "# Data processing\n",
    "import pandas as pd\n",
    "import numpy as np\n",
    "\n",
    "# Modeling\n",
    "import torch\n",
    "from torch.utils.data import DataLoader\n",
    "from torch.optim import AdamW\n",
    "from transformers import AutoTokenizer, AutoModelForSequenceClassification, get_scheduler\n",
    "\n",
    "# Progress bar\n",
    "from tqdm.auto import tqdm\n",
    "\n",
    "# Hugging Face Dataset\n",
    "from datasets import Dataset\n",
    "\n",
    "# Model performance evaluation\n",
    "import evaluate\n",
    "\n",
    "#Seed for reproducibility\n",
    "import random\n",
    "\n",
    "seed_value=42\n",
    "random.seed(seed_value)\n",
    "np.random.seed(seed_value)\n",
    "torch.manual_seed(seed_value)\n",
    "torch.cuda.manual_seed_all(seed_value)\n",
    "\n",
    "%matplotlib inline\n",
    "plt.style.use('ggplot')"
   ]
  },
  {
   "cell_type": "code",
   "execution_count": 3,
   "metadata": {
    "colab": {
     "base_uri": "https://localhost:8080/"
    },
    "id": "FKV7dOOg9tLM",
    "outputId": "43bebe9c-e578-424b-e543-fa9e4efaf00d"
   },
   "outputs": [
    {
     "name": "stdout",
     "output_type": "stream",
     "text": [
      "Training on the cuda.\n"
     ]
    }
   ],
   "source": [
    "device = torch.device('cuda' if torch.cuda.is_available() else 'cpu')\n",
    "print(f'Training on the {device}.')"
   ]
  },
  {
   "cell_type": "markdown",
   "metadata": {
    "id": "pSRRIo1JlDyH"
   },
   "source": [
    "# Loading data, EDA, data preprocessing"
   ]
  },
  {
   "cell_type": "markdown",
   "metadata": {
    "id": "zASd3CbiAtx7"
   },
   "source": [
    "### Loading data"
   ]
  },
  {
   "cell_type": "code",
   "execution_count": 4,
   "metadata": {
    "colab": {
     "base_uri": "https://localhost:8080/"
    },
    "id": "XI6DAnfpk7rv",
    "outputId": "556b37a5-d278-4113-ca3d-9a431819841b"
   },
   "outputs": [
    {
     "name": "stdout",
     "output_type": "stream",
     "text": [
      "Shape of train: (41159, 2)\n",
      "Shape of test: (3798, 2)\n"
     ]
    }
   ],
   "source": [
    "train_raw_data = pd.read_csv(filepath_or_buffer='https://raw.githubusercontent.com/wizard339/education/main/misis/nlp/text_classification/train.csv', index_col=0)\n",
    "subm_raw_data = pd.read_csv(filepath_or_buffer='https://raw.githubusercontent.com/wizard339/education/main/misis/nlp/text_classification/test.csv')\n",
    "\n",
    "print(f'Shape of train: {train_raw_data.shape}')\n",
    "print(f'Shape of test: {subm_raw_data.shape}')"
   ]
  },
  {
   "cell_type": "code",
   "execution_count": 5,
   "metadata": {},
   "outputs": [
    {
     "data": {
      "text/html": [
       "<div>\n",
       "<style scoped>\n",
       "    .dataframe tbody tr th:only-of-type {\n",
       "        vertical-align: middle;\n",
       "    }\n",
       "\n",
       "    .dataframe tbody tr th {\n",
       "        vertical-align: top;\n",
       "    }\n",
       "\n",
       "    .dataframe thead th {\n",
       "        text-align: right;\n",
       "    }\n",
       "</style>\n",
       "<table border=\"1\" class=\"dataframe\">\n",
       "  <thead>\n",
       "    <tr style=\"text-align: right;\">\n",
       "      <th></th>\n",
       "      <th>Text</th>\n",
       "    </tr>\n",
       "  </thead>\n",
       "  <tbody>\n",
       "    <tr>\n",
       "      <th>0</th>\n",
       "      <td>TRENDING: New Yorkers encounter empty supermar...</td>\n",
       "    </tr>\n",
       "    <tr>\n",
       "      <th>1</th>\n",
       "      <td>When I couldn't find hand sanitizer at Fred Me...</td>\n",
       "    </tr>\n",
       "    <tr>\n",
       "      <th>2</th>\n",
       "      <td>Find out how you can protect yourself and love...</td>\n",
       "    </tr>\n",
       "    <tr>\n",
       "      <th>3</th>\n",
       "      <td>#Panic buying hits #NewYork City as anxious sh...</td>\n",
       "    </tr>\n",
       "    <tr>\n",
       "      <th>4</th>\n",
       "      <td>#toiletpaper #dunnypaper #coronavirus #coronav...</td>\n",
       "    </tr>\n",
       "  </tbody>\n",
       "</table>\n",
       "</div>"
      ],
      "text/plain": [
       "                                                Text\n",
       "0  TRENDING: New Yorkers encounter empty supermar...\n",
       "1  When I couldn't find hand sanitizer at Fred Me...\n",
       "2  Find out how you can protect yourself and love...\n",
       "3  #Panic buying hits #NewYork City as anxious sh...\n",
       "4  #toiletpaper #dunnypaper #coronavirus #coronav..."
      ]
     },
     "execution_count": 5,
     "metadata": {},
     "output_type": "execute_result"
    }
   ],
   "source": [
    "subm_raw_data = subm_raw_data.drop('id', axis=1)\n",
    "subm_raw_data.head()"
   ]
  },
  {
   "cell_type": "markdown",
   "metadata": {
    "id": "JWrgde2Lucb5"
   },
   "source": [
    "### Working with missing data"
   ]
  },
  {
   "cell_type": "markdown",
   "metadata": {
    "id": "RUiEV9aau6qo"
   },
   "source": [
    "Let's look at the data:\n"
   ]
  },
  {
   "cell_type": "code",
   "execution_count": 6,
   "metadata": {
    "colab": {
     "base_uri": "https://localhost:8080/"
    },
    "id": "1sa0Mvfzlx1Z",
    "outputId": "52a87c9c-1335-4ae3-b287-22e62cd62f79"
   },
   "outputs": [
    {
     "data": {
      "text/html": [
       "<div>\n",
       "<style scoped>\n",
       "    .dataframe tbody tr th:only-of-type {\n",
       "        vertical-align: middle;\n",
       "    }\n",
       "\n",
       "    .dataframe tbody tr th {\n",
       "        vertical-align: top;\n",
       "    }\n",
       "\n",
       "    .dataframe thead th {\n",
       "        text-align: right;\n",
       "    }\n",
       "</style>\n",
       "<table border=\"1\" class=\"dataframe\">\n",
       "  <thead>\n",
       "    <tr style=\"text-align: right;\">\n",
       "      <th></th>\n",
       "      <th>Text</th>\n",
       "      <th>Sentiment</th>\n",
       "    </tr>\n",
       "  </thead>\n",
       "  <tbody>\n",
       "    <tr>\n",
       "      <th>0</th>\n",
       "      <td>@MeNyrbie @Phil_Gahan @Chrisitv https://t.co/i...</td>\n",
       "      <td>Neutral</td>\n",
       "    </tr>\n",
       "    <tr>\n",
       "      <th>1</th>\n",
       "      <td>advice Talk to your neighbours family to excha...</td>\n",
       "      <td>Positive</td>\n",
       "    </tr>\n",
       "    <tr>\n",
       "      <th>2</th>\n",
       "      <td>Coronavirus Australia: Woolworths to give elde...</td>\n",
       "      <td>Positive</td>\n",
       "    </tr>\n",
       "    <tr>\n",
       "      <th>3</th>\n",
       "      <td>My food stock is not the only one which is emp...</td>\n",
       "      <td>Positive</td>\n",
       "    </tr>\n",
       "    <tr>\n",
       "      <th>4</th>\n",
       "      <td>Me, ready to go at supermarket during the #COV...</td>\n",
       "      <td>Extremely Negative</td>\n",
       "    </tr>\n",
       "  </tbody>\n",
       "</table>\n",
       "</div>"
      ],
      "text/plain": [
       "                                                Text           Sentiment\n",
       "0  @MeNyrbie @Phil_Gahan @Chrisitv https://t.co/i...             Neutral\n",
       "1  advice Talk to your neighbours family to excha...            Positive\n",
       "2  Coronavirus Australia: Woolworths to give elde...            Positive\n",
       "3  My food stock is not the only one which is emp...            Positive\n",
       "4  Me, ready to go at supermarket during the #COV...  Extremely Negative"
      ]
     },
     "execution_count": 6,
     "metadata": {},
     "output_type": "execute_result"
    }
   ],
   "source": [
    "train_raw_data.head()"
   ]
  },
  {
   "cell_type": "code",
   "execution_count": 7,
   "metadata": {
    "colab": {
     "base_uri": "https://localhost:8080/"
    },
    "id": "vEOVFQHdmsiE",
    "outputId": "d1ea4c56-45fe-44c9-bcfa-ac0fca8b5580"
   },
   "outputs": [
    {
     "name": "stdout",
     "output_type": "stream",
     "text": [
      "<class 'pandas.core.frame.DataFrame'>\n",
      "Index: 41159 entries, 0 to 41156\n",
      "Data columns (total 2 columns):\n",
      " #   Column     Non-Null Count  Dtype \n",
      "---  ------     --------------  ----- \n",
      " 0   Text       41158 non-null  object\n",
      " 1   Sentiment  41155 non-null  object\n",
      "dtypes: object(2)\n",
      "memory usage: 964.7+ KB\n"
     ]
    }
   ],
   "source": [
    "train_raw_data.info()"
   ]
  },
  {
   "cell_type": "markdown",
   "metadata": {
    "id": "0_CvsTtvvN2O"
   },
   "source": [
    "We can see that there are rows with missing data. Let's look at them:"
   ]
  },
  {
   "cell_type": "code",
   "execution_count": 8,
   "metadata": {
    "colab": {
     "base_uri": "https://localhost:8080/"
    },
    "id": "ZUENGV0Hpwzj",
    "outputId": "5e5746f2-c6df-4a3f-c6a2-9929b505dd06"
   },
   "outputs": [
    {
     "data": {
      "text/html": [
       "<div>\n",
       "<style scoped>\n",
       "    .dataframe tbody tr th:only-of-type {\n",
       "        vertical-align: middle;\n",
       "    }\n",
       "\n",
       "    .dataframe tbody tr th {\n",
       "        vertical-align: top;\n",
       "    }\n",
       "\n",
       "    .dataframe thead th {\n",
       "        text-align: right;\n",
       "    }\n",
       "</style>\n",
       "<table border=\"1\" class=\"dataframe\">\n",
       "  <thead>\n",
       "    <tr style=\"text-align: right;\">\n",
       "      <th></th>\n",
       "      <th>Text</th>\n",
       "      <th>Sentiment</th>\n",
       "    </tr>\n",
       "  </thead>\n",
       "  <tbody>\n",
       "    <tr>\n",
       "      <th>33122</th>\n",
       "      <td>@PrivyCouncilCA #SocialDistancing isnÂt enoug...</td>\n",
       "      <td>NaN</td>\n",
       "    </tr>\n",
       "    <tr>\n",
       "      <th>NaN</th>\n",
       "      <td>Neutral</td>\n",
       "      <td>NaN</td>\n",
       "    </tr>\n",
       "    <tr>\n",
       "      <th>39204</th>\n",
       "      <td>@TanDhesi @foreignoffice @Afzal4Gorton @Expres...</td>\n",
       "      <td>NaN</td>\n",
       "    </tr>\n",
       "    <tr>\n",
       "      <th>Neutral</th>\n",
       "      <td>NaN</td>\n",
       "      <td>NaN</td>\n",
       "    </tr>\n",
       "  </tbody>\n",
       "</table>\n",
       "</div>"
      ],
      "text/plain": [
       "                                                      Text Sentiment\n",
       "33122    @PrivyCouncilCA #SocialDistancing isnÂt enoug...       NaN\n",
       "NaN                                                Neutral       NaN\n",
       "39204    @TanDhesi @foreignoffice @Afzal4Gorton @Expres...       NaN\n",
       "Neutral                                                NaN       NaN"
      ]
     },
     "execution_count": 8,
     "metadata": {},
     "output_type": "execute_result"
    }
   ],
   "source": [
    "train_raw_data[train_raw_data['Sentiment'].isnull() == True]"
   ]
  },
  {
   "cell_type": "markdown",
   "metadata": {
    "id": "AdeIHPFjv-Kv"
   },
   "source": [
    "Let's drop these rows from our DataFrame because they don't carry much value and let's look at the data again:"
   ]
  },
  {
   "cell_type": "code",
   "execution_count": 9,
   "metadata": {
    "colab": {
     "base_uri": "https://localhost:8080/"
    },
    "id": "I_S2wW1Ov52V",
    "outputId": "8eb1580e-90f9-4702-fdf3-7626b8a1797e"
   },
   "outputs": [
    {
     "name": "stdout",
     "output_type": "stream",
     "text": [
      "New shape of train: (41155, 2)\n"
     ]
    }
   ],
   "source": [
    "train_raw_data = train_raw_data.dropna().reset_index(drop=True)\n",
    "print(f'New shape of train: {train_raw_data.shape}')"
   ]
  },
  {
   "cell_type": "code",
   "execution_count": 10,
   "metadata": {
    "colab": {
     "base_uri": "https://localhost:8080/"
    },
    "id": "4ysjsa6gw-hr",
    "outputId": "f417549a-074c-4cf0-94c3-7cb4a0a3177f"
   },
   "outputs": [
    {
     "name": "stdout",
     "output_type": "stream",
     "text": [
      "<class 'pandas.core.frame.DataFrame'>\n",
      "RangeIndex: 41155 entries, 0 to 41154\n",
      "Data columns (total 2 columns):\n",
      " #   Column     Non-Null Count  Dtype \n",
      "---  ------     --------------  ----- \n",
      " 0   Text       41155 non-null  object\n",
      " 1   Sentiment  41155 non-null  object\n",
      "dtypes: object(2)\n",
      "memory usage: 643.2+ KB\n"
     ]
    }
   ],
   "source": [
    "train_raw_data.info()"
   ]
  },
  {
   "cell_type": "markdown",
   "metadata": {
    "id": "C4C_C1RIidNW"
   },
   "source": [
    "Let's look at the lines of texts:"
   ]
  },
  {
   "cell_type": "code",
   "execution_count": 11,
   "metadata": {
    "colab": {
     "base_uri": "https://localhost:8080/"
    },
    "id": "lFX68FAAiUEF",
    "outputId": "e4742070-6fdd-4507-f665-928e899bd81d"
   },
   "outputs": [
    {
     "data": {
      "text/plain": [
       "(array([ 530., 3268., 4924., 6560., 6257., 7495., 8516., 3053.,  529.,\n",
       "          23.]),\n",
       " array([ 1. ,  7.3, 13.6, 19.9, 26.2, 32.5, 38.8, 45.1, 51.4, 57.7, 64. ]),\n",
       " <BarContainer object of 10 artists>)"
      ]
     },
     "execution_count": 11,
     "metadata": {},
     "output_type": "execute_result"
    },
    {
     "data": {
      "image/png": "[encoded data removed]",
      "text/plain": [
       "<Figure size 640x480 with 1 Axes>"
      ]
     },
     "metadata": {},
     "output_type": "display_data"
    }
   ],
   "source": [
    "plt.hist([len(text.split()) for text in train_raw_data['Text']])"
   ]
  },
  {
   "cell_type": "code",
   "execution_count": 12,
   "metadata": {
    "colab": {
     "base_uri": "https://localhost:8080/"
    },
    "id": "LEfqHImMiRqL",
    "outputId": "656b4542-5126-4bbd-8991-1c2078674b34"
   },
   "outputs": [
    {
     "data": {
      "text/plain": [
       "(array([ 24., 231., 356., 477., 543., 623., 701., 629., 199.,  15.]),\n",
       " array([ 2.,  8., 14., 20., 26., 32., 38., 44., 50., 56., 62.]),\n",
       " <BarContainer object of 10 artists>)"
      ]
     },
     "execution_count": 12,
     "metadata": {},
     "output_type": "execute_result"
    },
    {
     "data": {
      "image/png": "[encoded data removed]",
      "text/plain": [
       "<Figure size 640x480 with 1 Axes>"
      ]
     },
     "metadata": {},
     "output_type": "display_data"
    }
   ],
   "source": [
    "plt.hist([len(text.split()) for text in subm_raw_data['Text']])"
   ]
  },
  {
   "cell_type": "markdown",
   "metadata": {
    "id": "gR7OO311irog"
   },
   "source": [
    "There are no sequences that are too long and the distributions in the training and test samples are similar. It is good."
   ]
  },
  {
   "cell_type": "markdown",
   "metadata": {
    "id": "qR5dBpDmBOto"
   },
   "source": [
    "### Label encoding of target column"
   ]
  },
  {
   "cell_type": "code",
   "execution_count": 13,
   "metadata": {
    "colab": {
     "base_uri": "https://localhost:8080/"
    },
    "id": "N7zW7Diayv0I",
    "outputId": "488c1782-6e0f-462d-dabe-a38e358a4b15"
   },
   "outputs": [
    {
     "data": {
      "text/plain": [
       "Positive              11422\n",
       "Negative               9917\n",
       "Neutral                7711\n",
       "Extremely Positive     6624\n",
       "Extremely Negative     5481\n",
       "Name: Sentiment, dtype: int64"
      ]
     },
     "execution_count": 13,
     "metadata": {},
     "output_type": "execute_result"
    }
   ],
   "source": [
    "train_raw_data['Sentiment'].value_counts()"
   ]
  },
  {
   "cell_type": "code",
   "execution_count": 14,
   "metadata": {
    "colab": {
     "base_uri": "https://localhost:8080/"
    },
    "id": "8CVn5RlO9H1D",
    "outputId": "ff209865-e11e-443a-ffd8-cba7bae1e6e6"
   },
   "outputs": [
    {
     "data": {
      "text/html": [
       "<div>\n",
       "<style scoped>\n",
       "    .dataframe tbody tr th:only-of-type {\n",
       "        vertical-align: middle;\n",
       "    }\n",
       "\n",
       "    .dataframe tbody tr th {\n",
       "        vertical-align: top;\n",
       "    }\n",
       "\n",
       "    .dataframe thead th {\n",
       "        text-align: right;\n",
       "    }\n",
       "</style>\n",
       "<table border=\"1\" class=\"dataframe\">\n",
       "  <thead>\n",
       "    <tr style=\"text-align: right;\">\n",
       "      <th></th>\n",
       "      <th>Text</th>\n",
       "      <th>Sentiment</th>\n",
       "    </tr>\n",
       "  </thead>\n",
       "  <tbody>\n",
       "    <tr>\n",
       "      <th>0</th>\n",
       "      <td>@MeNyrbie @Phil_Gahan @Chrisitv https://t.co/i...</td>\n",
       "      <td>3</td>\n",
       "    </tr>\n",
       "    <tr>\n",
       "      <th>1</th>\n",
       "      <td>advice Talk to your neighbours family to excha...</td>\n",
       "      <td>4</td>\n",
       "    </tr>\n",
       "    <tr>\n",
       "      <th>2</th>\n",
       "      <td>Coronavirus Australia: Woolworths to give elde...</td>\n",
       "      <td>4</td>\n",
       "    </tr>\n",
       "    <tr>\n",
       "      <th>3</th>\n",
       "      <td>My food stock is not the only one which is emp...</td>\n",
       "      <td>4</td>\n",
       "    </tr>\n",
       "    <tr>\n",
       "      <th>4</th>\n",
       "      <td>Me, ready to go at supermarket during the #COV...</td>\n",
       "      <td>0</td>\n",
       "    </tr>\n",
       "  </tbody>\n",
       "</table>\n",
       "</div>"
      ],
      "text/plain": [
       "                                                Text  Sentiment\n",
       "0  @MeNyrbie @Phil_Gahan @Chrisitv https://t.co/i...          3\n",
       "1  advice Talk to your neighbours family to excha...          4\n",
       "2  Coronavirus Australia: Woolworths to give elde...          4\n",
       "3  My food stock is not the only one which is emp...          4\n",
       "4  Me, ready to go at supermarket during the #COV...          0"
      ]
     },
     "execution_count": 14,
     "metadata": {},
     "output_type": "execute_result"
    }
   ],
   "source": [
    "le = LabelEncoder()\n",
    "le.fit(train_raw_data['Sentiment'])\n",
    "train_raw_data['Sentiment'] = le.transform(train_raw_data['Sentiment'])\n",
    "train_raw_data.head(5)"
   ]
  },
  {
   "cell_type": "markdown",
   "metadata": {
    "id": "_n-QE9eEsNSo",
    "tags": []
   },
   "source": [
    "## For LSTM model"
   ]
  },
  {
   "cell_type": "markdown",
   "metadata": {
    "id": "0AMv6PmTBj8t",
    "tags": []
   },
   "source": [
    "### Сleaning text from useless data"
   ]
  },
  {
   "cell_type": "markdown",
   "metadata": {
    "id": "lrE0m0XYCMO9"
   },
   "source": [
    "Let's look at the text more closely:"
   ]
  },
  {
   "cell_type": "code",
   "execution_count": 15,
   "metadata": {
    "colab": {
     "base_uri": "https://localhost:8080/"
    },
    "id": "ONquVuGj-YRd",
    "outputId": "357ed35c-0ebc-4b95-d069-d30ac880cbc6"
   },
   "outputs": [
    {
     "data": {
      "text/plain": [
       "array(['So panic buying of soaps and toilet roll was bad enough, now the idiots are stockpiling alcohol ? whats wrong with people #CoronaVirus #StopPanicBuying #Covid_19',\n",
       "       'I would place a large amount of money this is the guy buying 90 of the toilet paper',\n",
       "       '\"Saudi Arabia is bracing for an economic downturn as oil prices plummet due to the #coronavirus pandemic\" https://t.co/PQ3eRX9euZ',\n",
       "       '#Foodsecurity #coronavirus #covid19 \\r\\r\\n1.Smooth flow of global trade will help secure food supply\\r\\r\\n2.Monitoring food prices and markets\\r\\r\\n3.Sharing relevant information transparently\\r\\r\\n4.Supporting the vulnerable countries and populationsÂ\\x85https://t.co/tTPmInVVgS https://t.co/Ums3Eueu6J',\n",
       "       'I d like to know who is stockpiling eggs cheese and ice cream and why I m used to going without as our local Lidl has been running out of all kinds of stuff for years way before Drives me potty Going to the supermarket is like entering a lottery',\n",
       "       'Whenever you touch any object or surface outside your abode #washyourhands with #soapandwater\\r\\r\\n\\r\\r\\n#staysafe #stayhome\\r\\r\\n#sanitizer #socialdistancing \\r\\r\\n#covid19 #sd\\r\\r\\n#coronavirus \\r\\r\\n#chinesevirus\\r\\r\\n#asiegercares \\r\\r\\n#who #asieger https://t.co/UYM6i83PeP',\n",
       "       'P.S.A for those buying ?. The human body can survive upwards of 40 days with no food. Water is the most important thing during these times; especially since you canÂ\\x92t go more then 3 days without it before death. Think wise and not in a panic induced state. Stay safe. #Covid_19',\n",
       "       'Publix. Walmart. Thats how its spreading through our community. You may stay home all week, then go get a gallon of milk with a side of Covid-19Why would you set limits of boats in the waters to stay 50ft apart, But not regulate the amount of people in a supermarket.#coronavirus',\n",
       "       'Our healthcare community is the backbone of the response to #Coronavirus. @marty_walsh is committed to supporting them, so certain garages in the @CityOfBoston are now offering reduced prices for hospital staff. \\r\\r\\n\\r\\r\\nhttps://t.co/VFpW5FXObJ',\n",
       "       'Lilliesleaf clapped as Alan played for  NHS workers, delivery people, supermarket staff, carers and everyone out there taking care of the sick and keeping the country going. You have to squint to see the people at their houses but they are there. #clapforkeyworkers #coronavirus https://t.co/VqIZSCKCvE'],\n",
       "      dtype=object)"
      ]
     },
     "execution_count": 15,
     "metadata": {},
     "output_type": "execute_result"
    }
   ],
   "source": [
    "train_raw_data['Text'].sample(10, random_state=42).values"
   ]
  },
  {
   "cell_type": "code",
   "execution_count": 16,
   "metadata": {
    "id": "VljsoMJbB_qy"
   },
   "outputs": [],
   "source": [
    "def text_cleaner(text: str) -> str:\n",
    "    '''will clean from unicode, url, hashtags, numbers,\n",
    "    nicknames, lower'''\n",
    "    # text = re.sub(r'[.,#!$%\\^&\\*;:{}=\\-_`~()]',r'',text) # punct.\n",
    "    \n",
    "    # text = re.sub(r'(\\\\u[0-9A-Fa-f]+)',r'', text)       \n",
    "    text = re.sub(r'[^\\x00-\\x7f]', r'', text)# unicode\n",
    "\n",
    "    text = re.sub(r'(\\\\[a-z])', r'', text)\n",
    "    \n",
    "    text = re.sub(r'http\\S+', r'', text)# url\n",
    "    \n",
    "    text = re.sub('@[A-Za-z0-9_-]+', r'', text)# nickname\n",
    "    \n",
    "    text = re.sub(r'#([^\\s]+)', r'\\1', text)# hashtag symbol\n",
    "    \n",
    "    text = re.sub(':\\)|;\\)|:-\\)|\\(-:|:-D|=D|:P|xD|X-p|\\^\\^|:-*|\\^\\.\\^|\\^\\-\\^|\\^\\_\\^|\\,-\\)|\\)-:|:\\'\\(|:\\(|:-\\(|:\\S|T\\.T|\\.\\_\\.|:<|:-\\S|:-<|\\*\\-\\*|:O|=O|=\\-O|O\\.o|XO|O\\_O|:-\\@|=/|:/|X\\-\\(|>\\.<|>=\\(|D:',\n",
    "                  '', text) # emoji\n",
    "    \n",
    "    text = ''.join([i for i in text if not i.isdigit()])# int.\n",
    "    \n",
    "    text = text.lower()\n",
    "    return text"
   ]
  },
  {
   "cell_type": "code",
   "execution_count": 17,
   "metadata": {
    "colab": {
     "base_uri": "https://localhost:8080/"
    },
    "id": "UYTDnZvKSFoF",
    "outputId": "a9186b36-315c-437c-def1-8a0fed889aef"
   },
   "outputs": [
    {
     "data": {
      "text/plain": [
       "array(['so panic buying of soaps and toilet roll was bad enough, now the idiots are stockpiling alcohol ? whats wrong with people coronavirus stoppanicbuying covid_',\n",
       "       'i would place a large amount of money this is the guy buying  of the toilet paper',\n",
       "       '\"saudi arabia is bracing for an economic downturn as oil prices plummet due to the coronavirus pandemic\" ',\n",
       "       'foodsecurity coronavirus covid \\r\\r\\n.smooth flow of global trade will help secure food supply\\r\\r\\n.monitoring food prices and markets\\r\\r\\n.sharing relevant information transparently\\r\\r\\n.supporting the vulnerable countries and populations ',\n",
       "       'i d like to know who is stockpiling eggs cheese and ice cream and why i m used to going without as our local lidl has been running out of all kinds of stuff for years way before drives me potty going to the supermarket is like entering a lottery',\n",
       "       'whenever you touch any object or surface outside your abode washyourhands with soapandwater\\r\\r\\n\\r\\r\\nstaysafe stayhome\\r\\r\\nsanitizer socialdistancing \\r\\r\\ncovid sd\\r\\r\\ncoronavirus \\r\\r\\nchinesevirus\\r\\r\\nasiegercares \\r\\r\\nwho asieger ',\n",
       "       'p.s.a for those buying ?. the human body can survive upwards of  days with no food. water is the most important thing during these times; especially since you cant go more then  days without it before death. think wise and not in a panic induced state. stay safe. covid_',\n",
       "       'publix. walmart. thats how its spreading through our community. you may stay home all week, then go get a gallon of milk with a side of covid-why would you set limits of boats in the waters to stay ft apart, but not regulate the amount of people in a supermarket.coronavirus',\n",
       "       'our healthcare community is the backbone of the response to coronavirus.  is committed to supporting them, so certain garages in the  are now offering reduced prices for hospital staff. \\r\\r\\n\\r\\r\\n',\n",
       "       'lilliesleaf clapped as alan played for  nhs workers, delivery people, supermarket staff, carers and everyone out there taking care of the sick and keeping the country going. you have to squint to see the people at their houses but they are there. clapforkeyworkers coronavirus '],\n",
       "      dtype=object)"
      ]
     },
     "execution_count": 17,
     "metadata": {},
     "output_type": "execute_result"
    }
   ],
   "source": [
    "train_raw_data['Text'] = train_raw_data['Text'].apply(text_cleaner)\n",
    "subm_raw_data['Text'] = subm_raw_data['Text'].apply(text_cleaner)\n",
    "train_raw_data['Text'].sample(10, random_state=42).values"
   ]
  },
  {
   "cell_type": "markdown",
   "metadata": {
    "id": "7tWDMRnGjanh",
    "jp-MarkdownHeadingCollapsed": true,
    "tags": []
   },
   "source": [
    "### Tokenization"
   ]
  },
  {
   "cell_type": "code",
   "execution_count": 23,
   "metadata": {
    "id": "88kvuR7RjZpC"
   },
   "outputs": [],
   "source": [
    "tokenizer = get_tokenizer('basic_english')\n",
    "\n",
    "def build_vocabulary(datasets):\n",
    "  for dataset in datasets:\n",
    "    for text in dataset['Text']:\n",
    "      yield tokenizer(text)\n",
    "\n",
    "vocab = build_vocab_from_iterator(build_vocabulary([train_raw_data, subm_raw_data]), specials=['<UNK>'])\n",
    "vocab.set_default_index(vocab['<UNK>'])"
   ]
  },
  {
   "cell_type": "code",
   "execution_count": 24,
   "metadata": {
    "colab": {
     "base_uri": "https://localhost:8080/"
    },
    "id": "OrnCeVg1s-8S",
    "outputId": "0a73452b-d94a-4734-894e-778905bf76b1"
   },
   "outputs": [
    {
     "name": "stdout",
     "output_type": "stream",
     "text": [
      "Vocabulary length: 50653\n"
     ]
    }
   ],
   "source": [
    "print(f'Vocabulary length: {vocab.__len__()}')"
   ]
  },
  {
   "cell_type": "markdown",
   "metadata": {
    "id": "ThzzFC5jXcAj",
    "tags": []
   },
   "source": [
    "### Splitting of training data"
   ]
  },
  {
   "cell_type": "markdown",
   "metadata": {
    "id": "dZenBWDaYCyG"
   },
   "source": [
    "We need to split our train_raw_data by train, validation and test samples in the proportions of 80:10:10.\n",
    "\n",
    "However, our data contain texts for 5 classes, so it is necessary to keep stratification after their splitting."
   ]
  },
  {
   "cell_type": "code",
   "execution_count": 25,
   "metadata": {
    "id": "S7oQ4XouXB2O"
   },
   "outputs": [],
   "source": [
    "# first, we will split data by two samples: train and test in the proportion of 80:20\n",
    "train_data, test_data = train_test_split(train_raw_data, test_size=0.2, stratify=train_raw_data['Sentiment'], random_state=42)\n",
    "# then, we will split test data by two samples: validation and test in the proportion of 50:50 \n",
    "val_data, test_data = train_test_split(test_data, test_size=0.5, stratify=test_data['Sentiment'], random_state=42)"
   ]
  },
  {
   "cell_type": "markdown",
   "metadata": {
    "id": "I8GaEeMceLD8"
   },
   "source": [
    "Check the stratification:"
   ]
  },
  {
   "cell_type": "code",
   "execution_count": 26,
   "metadata": {
    "colab": {
     "base_uri": "https://localhost:8080/"
    },
    "id": "qqZHawm1cWVX",
    "outputId": "d3b8a0b2-fb94-4860-deff-04bd74693984"
   },
   "outputs": [
    {
     "data": {
      "text/plain": [
       "4    0.277536\n",
       "2    0.240967\n",
       "3    0.187365\n",
       "1    0.160952\n",
       "0    0.133179\n",
       "Name: Sentiment, dtype: float64"
      ]
     },
     "execution_count": 26,
     "metadata": {},
     "output_type": "execute_result"
    }
   ],
   "source": [
    "train_raw_data['Sentiment'].value_counts(normalize=True)"
   ]
  },
  {
   "cell_type": "code",
   "execution_count": 27,
   "metadata": {
    "colab": {
     "base_uri": "https://localhost:8080/"
    },
    "id": "zyY-tnNOb7Op",
    "outputId": "ec031d49-5b5a-4453-e5cb-f682b44aa16f"
   },
   "outputs": [
    {
     "data": {
      "text/plain": [
       "4    0.277518\n",
       "2    0.240979\n",
       "3    0.187371\n",
       "1    0.160946\n",
       "0    0.133186\n",
       "Name: Sentiment, dtype: float64"
      ]
     },
     "execution_count": 27,
     "metadata": {},
     "output_type": "execute_result"
    }
   ],
   "source": [
    "train_data['Sentiment'].value_counts(normalize=True)"
   ]
  },
  {
   "cell_type": "code",
   "execution_count": 28,
   "metadata": {
    "colab": {
     "base_uri": "https://localhost:8080/"
    },
    "id": "sH7m85vfcD5T",
    "outputId": "cb955216-0e4c-4a5b-acb0-f0ad5f17ab96"
   },
   "outputs": [
    {
     "data": {
      "text/plain": [
       "4    0.277521\n",
       "2    0.240826\n",
       "3    0.187363\n",
       "1    0.161118\n",
       "0    0.133171\n",
       "Name: Sentiment, dtype: float64"
      ]
     },
     "execution_count": 28,
     "metadata": {},
     "output_type": "execute_result"
    }
   ],
   "source": [
    "val_data['Sentiment'].value_counts(normalize=True)"
   ]
  },
  {
   "cell_type": "code",
   "execution_count": 29,
   "metadata": {
    "colab": {
     "base_uri": "https://localhost:8080/"
    },
    "id": "JbB208eCcuG4",
    "outputId": "b503167d-2fbf-4761-c058-01a8cbc62e4c"
   },
   "outputs": [
    {
     "data": {
      "text/plain": [
       "4    0.277697\n",
       "2    0.241011\n",
       "3    0.187318\n",
       "1    0.160836\n",
       "0    0.133139\n",
       "Name: Sentiment, dtype: float64"
      ]
     },
     "execution_count": 29,
     "metadata": {},
     "output_type": "execute_result"
    }
   ],
   "source": [
    "test_data['Sentiment'].value_counts(normalize=True)"
   ]
  },
  {
   "cell_type": "code",
   "execution_count": 30,
   "metadata": {
    "colab": {
     "base_uri": "https://localhost:8080/"
    },
    "id": "4vxoU9e5cvtM",
    "outputId": "6813dd1d-510e-4882-9b02-a9fe3025697d"
   },
   "outputs": [
    {
     "name": "stdout",
     "output_type": "stream",
     "text": [
      "Shape of the train_data: (32924, 2)\n",
      "Shape of the val_data: (4115, 2)\n",
      "Shape of the test_data: (4116, 2)\n",
      "Shape of the finel_test_raw_data: (3798, 1)\n"
     ]
    }
   ],
   "source": [
    "print(f'Shape of the train_data: {train_data.shape}')\n",
    "print(f'Shape of the val_data: {val_data.shape}')\n",
    "print(f'Shape of the test_data: {test_data.shape}')\n",
    "print(f'Shape of the finel_test_raw_data: {subm_raw_data.shape}')"
   ]
  },
  {
   "cell_type": "markdown",
   "metadata": {
    "id": "Ebzk5wBB9LrY",
    "tags": []
   },
   "source": [
    "# LSTM model"
   ]
  },
  {
   "cell_type": "markdown",
   "metadata": {
    "id": "8uhNWeZl-ZlJ"
   },
   "source": [
    "### Creating datasets"
   ]
  },
  {
   "cell_type": "code",
   "execution_count": 26,
   "metadata": {
    "id": "u4m3ETqc9IX7"
   },
   "outputs": [],
   "source": [
    "train_dataset, val_dataset, test_dataset, subm_dataset = to_map_style_dataset(train_data.values), \\\n",
    "                                                               to_map_style_dataset(val_data.values), \\\n",
    "                                                               to_map_style_dataset(test_data.values), \\\n",
    "                                                               to_map_style_dataset(subm_raw_data.values)\n",
    "\n",
    "MAX_WORDS  = 50\n",
    "BATCH_SIZE = 1024\n",
    "\n",
    "def vectorize_batch(batch):\n",
    "  X, Y = list(zip(*batch))\n",
    "  X = [vocab(tokenizer(text)) for text in X] # tokenize and map tokens to indexes\n",
    "  X = [tokens+([0]*(MAX_WORDS - len(tokens))) if len(tokens) < MAX_WORDS else tokens[:MAX_WORDS] for tokens in X]\n",
    "  return torch.tensor(X, dtype=torch.int32, device=device), torch.tensor(Y, device=device)\n",
    "\n",
    "def vectorize_batch_for_submission(batch):\n",
    "  X = [vocab(tokenizer(text[0])) for text in batch] # tokenize and map tokens to indexes\n",
    "  X = [tokens+([0]*(MAX_WORDS - len(tokens))) if len(tokens) < MAX_WORDS else tokens[:MAX_WORDS] for tokens in X]\n",
    "  return torch.tensor(X, dtype=torch.int32, device=device)\n",
    "\n",
    "\n",
    "train_loader = DataLoader(train_dataset, batch_size=BATCH_SIZE, collate_fn=vectorize_batch, shuffle=True)\n",
    "val_loader   = DataLoader(val_dataset,   batch_size=BATCH_SIZE, collate_fn=vectorize_batch, shuffle=True)\n",
    "test_loader  = DataLoader(test_dataset , batch_size=BATCH_SIZE, collate_fn=vectorize_batch, shuffle=True)\n",
    "subm_loader  = DataLoader(subm_dataset , batch_size=BATCH_SIZE, collate_fn=vectorize_batch_for_submission)"
   ]
  },
  {
   "cell_type": "markdown",
   "metadata": {
    "id": "uFtyhwbv-k8z"
   },
   "source": [
    "### Building model"
   ]
  },
  {
   "cell_type": "markdown",
   "metadata": {
    "id": "XiSOLVDj-oh-"
   },
   "source": [
    "We are building a variation of the RNN: LSTM model.\n",
    "\n",
    "After many attempts of training, our model will be multilayerd (the results are better only with regularization in the optimizer), bidirectional, with dropout and initialization of the hidden state using a Xavier's uniform distribution. LogSoftmax will be used as the activation function at the last level.\n",
    "\n",
    "Adam with regularization will be used as an optimizer (the results without regularization were worse, and overfitting begins much early).\n",
    "\n",
    "![image.png](data:image/png;base64,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)"
   ]
  },
  {
   "cell_type": "code",
   "execution_count": 28,
   "metadata": {
    "id": "nNxy1RfY-dMJ"
   },
   "outputs": [],
   "source": [
    "EMBED_LEN  = 50\n",
    "HIDDEN_DIM = 75\n",
    "N_LAYERS   = 3\n",
    "\n",
    "target_classes = train_raw_data['Sentiment'].unique()\n",
    "train_on_gpu = torch.cuda.is_available()\n",
    "\n",
    "class LSTMClassifier(nn.Module):\n",
    "  def __init__(self):\n",
    "    super(LSTMClassifier, self).__init__()\n",
    "    self.emb_layer = nn.Embedding(num_embeddings=len(vocab), embedding_dim=EMBED_LEN)\n",
    "    self.lstm = nn.LSTM(input_size=EMBED_LEN, hidden_size=HIDDEN_DIM, num_layers=N_LAYERS, dropout=0.5, batch_first=True, bidirectional=True)\n",
    "    self.fc = nn.Linear(in_features=HIDDEN_DIM*2, out_features=len(target_classes))\n",
    "    self.softmax = nn.LogSoftmax(dim=1)\n",
    "  \n",
    "  def init_hidden(self, batch_size):\n",
    "    '''Initializes hidden state'''\n",
    "    # Create two new tensors with sizes n_layers x batch_size x n_hidden,\n",
    "    # initialized to zero, for hidden state and cell state of LSTM\n",
    "    weight = next(self.parameters()).data\n",
    "    \n",
    "    if (train_on_gpu):\n",
    "      # 2*NUM_LAYERS is num_directions*num_layers (2 if bidirectional, else 1)\n",
    "      hidden = (xavier_uniform_(weight.new(2*N_LAYERS, batch_size, HIDDEN_DIM)).cuda(),\n",
    "                xavier_uniform_(weight.new(2*N_LAYERS, batch_size, HIDDEN_DIM)).cuda())\n",
    "    else:\n",
    "      # 2*NUM_LAYERS is num_directions*num_layers (2 if bidirectional, else 1)\n",
    "      hidden = (xavier_uniform_(weight.new(2*N_LAYERS, batch_size, HIDDEN_DIM)),\n",
    "                xavier_uniform_(weight.new(2*N_LAYERS, batch_size, HIDDEN_DIM)))\n",
    "    return hidden\n",
    "\n",
    "  def forward(self, X_batch, hidden):\n",
    "    emb = self.emb_layer(X_batch)\n",
    "    output, hidden = self.lstm(emb, hidden)\n",
    "    output = self.fc(output[:, -1])\n",
    "    output = self.softmax(output)\n",
    "    return output, hidden"
   ]
  },
  {
   "cell_type": "code",
   "execution_count": 29,
   "metadata": {
    "id": "WceY0n36-dIv"
   },
   "outputs": [
    {
     "data": {
      "text/plain": [
       "LSTMClassifier(\n",
       "  (emb_layer): Embedding(50653, 50)\n",
       "  (lstm): LSTM(50, 75, num_layers=3, batch_first=True, dropout=0.5, bidirectional=True)\n",
       "  (fc): Linear(in_features=150, out_features=5, bias=True)\n",
       "  (softmax): LogSoftmax(dim=1)\n",
       ")"
      ]
     },
     "execution_count": 29,
     "metadata": {},
     "output_type": "execute_result"
    }
   ],
   "source": [
    "lstm_classifier = LSTMClassifier()\n",
    "\n",
    "lstm_classifier"
   ]
  },
  {
   "cell_type": "code",
   "execution_count": 30,
   "metadata": {
    "id": "BGJmlq6Y-c9k"
   },
   "outputs": [
    {
     "name": "stdout",
     "output_type": "stream",
     "text": [
      "Layer: Embedding(50653, 50)\n",
      "Parameters: \n",
      "torch.Size([50653, 50])\n",
      "\n",
      "Layer: LSTM(50, 75, num_layers=3, batch_first=True, dropout=0.5, bidirectional=True)\n",
      "Parameters: \n",
      "torch.Size([300, 50])\n",
      "torch.Size([300, 75])\n",
      "torch.Size([300])\n",
      "torch.Size([300])\n",
      "torch.Size([300, 50])\n",
      "torch.Size([300, 75])\n",
      "torch.Size([300])\n",
      "torch.Size([300])\n",
      "torch.Size([300, 150])\n",
      "torch.Size([300, 75])\n",
      "torch.Size([300])\n",
      "torch.Size([300])\n",
      "torch.Size([300, 150])\n",
      "torch.Size([300, 75])\n",
      "torch.Size([300])\n",
      "torch.Size([300])\n",
      "torch.Size([300, 150])\n",
      "torch.Size([300, 75])\n",
      "torch.Size([300])\n",
      "torch.Size([300])\n",
      "torch.Size([300, 150])\n",
      "torch.Size([300, 75])\n",
      "torch.Size([300])\n",
      "torch.Size([300])\n",
      "\n",
      "Layer: Linear(in_features=150, out_features=5, bias=True)\n",
      "Parameters: \n",
      "torch.Size([5, 150])\n",
      "torch.Size([5])\n",
      "\n",
      "Layer: LogSoftmax(dim=1)\n",
      "Parameters: \n",
      "\n"
     ]
    }
   ],
   "source": [
    "for layer in lstm_classifier.children():\n",
    "  print(f'Layer: {layer}')\n",
    "  print('Parameters: ')\n",
    "  for param in layer.parameters():\n",
    "    print(param.shape)\n",
    "  print()"
   ]
  },
  {
   "cell_type": "markdown",
   "metadata": {
    "id": "baBviZ8d_Ap9"
   },
   "source": [
    "### Class for saving model and plots"
   ]
  },
  {
   "cell_type": "code",
   "execution_count": 31,
   "metadata": {
    "id": "-YYdq0Ww_BeY"
   },
   "outputs": [],
   "source": [
    "class SaveBestModel:\n",
    "    \"\"\"\n",
    "    Class to save the best model while training. If the current epoch's \n",
    "    validation loss is less than the previous least less, then save the\n",
    "    model state.\n",
    "    \"\"\"\n",
    "    def __init__(\n",
    "        self, best_valid_loss=float('inf')\n",
    "    ):\n",
    "        self.best_valid_loss = best_valid_loss\n",
    "        \n",
    "    def __call__(\n",
    "        self, current_valid_loss, \n",
    "        epoch, model, optimizer, criterion, path\n",
    "    ):\n",
    "        if current_valid_loss < self.best_valid_loss:\n",
    "            self.best_valid_loss = current_valid_loss\n",
    "            print(f\"\\nBest validation loss: {self.best_valid_loss}\")\n",
    "            print(f\"\\nSaving best model for epoch: {epoch}\\n\")\n",
    "            torch.save({\n",
    "                'epoch': epoch,\n",
    "                'model_state_dict': model.state_dict(),\n",
    "                'optimizer_state_dict': optimizer.state_dict(),\n",
    "                'loss': criterion,\n",
    "                }, path + 'best_model.pth')\n",
    "            \n",
    "\n",
    "def save_model(epochs, model, optimizer, criterion, path):\n",
    "    \"\"\"\n",
    "    Function to save the trained model to disk.\n",
    "    \"\"\"\n",
    "    print(f\"Saving final model...\")\n",
    "    torch.save({\n",
    "                'epoch': epochs,\n",
    "                'model_state_dict': model.state_dict(),\n",
    "                'optimizer_state_dict': optimizer.state_dict(),\n",
    "                'loss': criterion,\n",
    "                }, path + 'final_model.pth')\n",
    "    \n",
    "\n",
    "def save_plots(valid_acc, train_loss, valid_loss, path):\n",
    "    \"\"\"\n",
    "    Function to save the loss and accuracy plots to disk.\n",
    "    \"\"\"\n",
    "    # accuracy plots\n",
    "    plt.figure(figsize=(10, 7))\n",
    "    plt.plot(\n",
    "        valid_acc, color='blue', linestyle='-', \n",
    "        label='validataion accuracy'\n",
    "    )\n",
    "    plt.xlabel('Epochs')\n",
    "    plt.ylabel('Accuracy')\n",
    "    plt.legend()\n",
    "    plt.savefig(path + 'accuracy.png')\n",
    "    \n",
    "    # loss plots\n",
    "    plt.figure(figsize=(10, 7))\n",
    "    plt.plot(\n",
    "        train_loss, color='orange', linestyle='-', \n",
    "        label='train loss'\n",
    "    )\n",
    "    plt.plot(\n",
    "        valid_loss, color='red', linestyle='-', \n",
    "        label='validataion loss'\n",
    "    )\n",
    "    plt.xlabel('Epochs')\n",
    "    plt.ylabel('Loss')\n",
    "    plt.legend()\n",
    "    plt.savefig(path + 'loss.png')\n",
    "\n",
    "\n",
    "save_best_model = SaveBestModel()"
   ]
  },
  {
   "cell_type": "markdown",
   "metadata": {
    "id": "oD69aZ5p_Pqq"
   },
   "source": [
    "### Training loop and calculation validation loss and accuracy\n"
   ]
  },
  {
   "cell_type": "code",
   "execution_count": 32,
   "metadata": {
    "id": "CBvtEtUO_QmN"
   },
   "outputs": [],
   "source": [
    "def CalcValLossAndAccuracy(model, loss_fn, val_loader):\n",
    "  with torch.no_grad():\n",
    "    Y_shuffled, Y_preds, losses = [], [], []\n",
    "    for X, Y in val_loader:\n",
    "\n",
    "      # initialise hidden state\n",
    "      h = model.init_hidden(X.shape[0])\n",
    "\n",
    "      preds, h = model(X, h)\n",
    "      loss = loss_fn(preds, Y)\n",
    "      losses.append(loss.item())\n",
    "\n",
    "      Y_shuffled.append(Y)\n",
    "      Y_preds.append(preds.argmax(dim=-1))\n",
    "\n",
    "    Y_shuffled = torch.cat(Y_shuffled)\n",
    "    Y_preds = torch.cat(Y_preds)\n",
    "\n",
    "    valid_loss = torch.tensor(losses).cpu().mean()\n",
    "    valid_acc = accuracy_score(Y_shuffled.cpu().detach().numpy(), Y_preds.cpu().detach().numpy())\n",
    "\n",
    "    print(f'Valid Loss: {valid_loss:.3f}')\n",
    "    print(f'Valid Acc : {valid_acc:.3f}')\n",
    "\n",
    "    return valid_loss, valid_acc\n",
    "\n",
    "\n",
    "def TrainModel(model, loss_fn, optimizer, train_loader, val_loader, device, epochs=10, path='/checkpoints/'):\n",
    "  train_losses, val_losses, val_accs = [], [], []\n",
    "  for i in range(1, epochs+1):\n",
    "    losses = []\n",
    "    for X, Y in tqdm(train_loader):\n",
    "      X.to(device)\n",
    "      Y.to(device)\n",
    "      model.to(device)\n",
    "\n",
    "      # initialise hidden state\n",
    "      h = model.init_hidden(X.shape[0])\n",
    "\n",
    "      Y_preds, h = model(X, h)\n",
    "\n",
    "      loss = loss_fn(Y_preds, Y)\n",
    "      losses.append(loss.item())\n",
    "\n",
    "      optimizer.zero_grad()\n",
    "\n",
    "      loss.backward()\n",
    "      optimizer.step()\n",
    "\n",
    "    train_loss = torch.tensor(losses).mean()\n",
    "    print(f'Train Loss: {train_loss:.3f}')\n",
    "    valid_loss, valid_acc = CalcValLossAndAccuracy(model, loss_fn, val_loader)\n",
    "\n",
    "    # save the best model\n",
    "    save_best_model(valid_loss, i, model, optimizer, loss_fn, path)\n",
    "\n",
    "    # append losses and accuracy to lists\n",
    "    train_losses.append(train_loss)\n",
    "    val_losses.append(valid_loss)\n",
    "    val_accs.append(valid_acc)\n",
    "\n",
    "  # save the trained model weights for a final time\n",
    "  save_model(i, model, optimizer, loss_fn, path)\n",
    "  # save the loss and accuracy plots\n",
    "  save_plots(val_accs, train_losses, val_losses, path)"
   ]
  },
  {
   "cell_type": "markdown",
   "metadata": {
    "id": "CuDf3DTF_vjD"
   },
   "source": [
    "### Launching the model\n",
    "\n"
   ]
  },
  {
   "cell_type": "code",
   "execution_count": 33,
   "metadata": {
    "id": "5T6UqZhy_w0p"
   },
   "outputs": [
    {
     "name": "stderr",
     "output_type": "stream",
     "text": [
      "100%|██████████| 33/33 [00:03<00:00,  8.61it/s]\n"
     ]
    },
    {
     "name": "stdout",
     "output_type": "stream",
     "text": [
      "Train Loss: 1.557\n",
      "Valid Loss: 1.561\n",
      "Valid Acc : 0.301\n",
      "\n",
      "Best validation loss: 1.5608524084091187\n",
      "\n",
      "Saving best model for epoch: 1\n",
      "\n"
     ]
    },
    {
     "name": "stderr",
     "output_type": "stream",
     "text": [
      "100%|██████████| 33/33 [00:02<00:00, 16.05it/s]\n"
     ]
    },
    {
     "name": "stdout",
     "output_type": "stream",
     "text": [
      "Train Loss: 1.516\n",
      "Valid Loss: 1.509\n",
      "Valid Acc : 0.316\n",
      "\n",
      "Best validation loss: 1.509476900100708\n",
      "\n",
      "Saving best model for epoch: 2\n",
      "\n"
     ]
    },
    {
     "name": "stderr",
     "output_type": "stream",
     "text": [
      "100%|██████████| 33/33 [00:02<00:00, 16.09it/s]\n"
     ]
    },
    {
     "name": "stdout",
     "output_type": "stream",
     "text": [
      "Train Loss: 1.470\n",
      "Valid Loss: 1.411\n",
      "Valid Acc : 0.362\n",
      "\n",
      "Best validation loss: 1.4106650352478027\n",
      "\n",
      "Saving best model for epoch: 3\n",
      "\n"
     ]
    },
    {
     "name": "stderr",
     "output_type": "stream",
     "text": [
      "100%|██████████| 33/33 [00:02<00:00, 15.99it/s]\n"
     ]
    },
    {
     "name": "stdout",
     "output_type": "stream",
     "text": [
      "Train Loss: 1.321\n",
      "Valid Loss: 1.301\n",
      "Valid Acc : 0.488\n",
      "\n",
      "Best validation loss: 1.3010938167572021\n",
      "\n",
      "Saving best model for epoch: 4\n",
      "\n"
     ]
    },
    {
     "name": "stderr",
     "output_type": "stream",
     "text": [
      "100%|██████████| 33/33 [00:02<00:00, 16.29it/s]\n"
     ]
    },
    {
     "name": "stdout",
     "output_type": "stream",
     "text": [
      "Train Loss: 1.083\n",
      "Valid Loss: 1.018\n",
      "Valid Acc : 0.609\n",
      "\n",
      "Best validation loss: 1.0181021690368652\n",
      "\n",
      "Saving best model for epoch: 5\n",
      "\n"
     ]
    },
    {
     "name": "stderr",
     "output_type": "stream",
     "text": [
      "100%|██████████| 33/33 [00:02<00:00, 16.25it/s]\n"
     ]
    },
    {
     "name": "stdout",
     "output_type": "stream",
     "text": [
      "Train Loss: 0.880\n",
      "Valid Loss: 0.841\n",
      "Valid Acc : 0.675\n",
      "\n",
      "Best validation loss: 0.8411420583724976\n",
      "\n",
      "Saving best model for epoch: 6\n",
      "\n"
     ]
    },
    {
     "name": "stderr",
     "output_type": "stream",
     "text": [
      "100%|██████████| 33/33 [00:02<00:00, 15.47it/s]\n"
     ]
    },
    {
     "name": "stdout",
     "output_type": "stream",
     "text": [
      "Train Loss: 0.723\n",
      "Valid Loss: 0.873\n",
      "Valid Acc : 0.686\n"
     ]
    },
    {
     "name": "stderr",
     "output_type": "stream",
     "text": [
      "100%|██████████| 33/33 [00:02<00:00, 16.31it/s]\n"
     ]
    },
    {
     "name": "stdout",
     "output_type": "stream",
     "text": [
      "Train Loss: 0.628\n",
      "Valid Loss: 0.666\n",
      "Valid Acc : 0.737\n",
      "\n",
      "Best validation loss: 0.6664022207260132\n",
      "\n",
      "Saving best model for epoch: 8\n",
      "\n"
     ]
    },
    {
     "name": "stderr",
     "output_type": "stream",
     "text": [
      "100%|██████████| 33/33 [00:02<00:00, 16.34it/s]\n"
     ]
    },
    {
     "name": "stdout",
     "output_type": "stream",
     "text": [
      "Train Loss: 0.527\n",
      "Valid Loss: 0.729\n",
      "Valid Acc : 0.757\n"
     ]
    },
    {
     "name": "stderr",
     "output_type": "stream",
     "text": [
      "100%|██████████| 33/33 [00:02<00:00, 16.27it/s]\n"
     ]
    },
    {
     "name": "stdout",
     "output_type": "stream",
     "text": [
      "Train Loss: 0.449\n",
      "Valid Loss: 0.591\n",
      "Valid Acc : 0.777\n",
      "\n",
      "Best validation loss: 0.5907188653945923\n",
      "\n",
      "Saving best model for epoch: 10\n",
      "\n"
     ]
    },
    {
     "name": "stderr",
     "output_type": "stream",
     "text": [
      "100%|██████████| 33/33 [00:02<00:00, 15.95it/s]\n"
     ]
    },
    {
     "name": "stdout",
     "output_type": "stream",
     "text": [
      "Train Loss: 0.399\n",
      "Valid Loss: 0.750\n",
      "Valid Acc : 0.773\n"
     ]
    },
    {
     "name": "stderr",
     "output_type": "stream",
     "text": [
      "100%|██████████| 33/33 [00:02<00:00, 16.28it/s]\n"
     ]
    },
    {
     "name": "stdout",
     "output_type": "stream",
     "text": [
      "Train Loss: 0.370\n",
      "Valid Loss: 0.681\n",
      "Valid Acc : 0.787\n"
     ]
    },
    {
     "name": "stderr",
     "output_type": "stream",
     "text": [
      "100%|██████████| 33/33 [00:02<00:00, 16.42it/s]\n"
     ]
    },
    {
     "name": "stdout",
     "output_type": "stream",
     "text": [
      "Train Loss: 0.314\n",
      "Valid Loss: 0.724\n",
      "Valid Acc : 0.794\n"
     ]
    },
    {
     "name": "stderr",
     "output_type": "stream",
     "text": [
      "100%|██████████| 33/33 [00:02<00:00, 16.36it/s]\n"
     ]
    },
    {
     "name": "stdout",
     "output_type": "stream",
     "text": [
      "Train Loss: 0.292\n",
      "Valid Loss: 0.610\n",
      "Valid Acc : 0.791\n"
     ]
    },
    {
     "name": "stderr",
     "output_type": "stream",
     "text": [
      "100%|██████████| 33/33 [00:02<00:00, 16.25it/s]\n"
     ]
    },
    {
     "name": "stdout",
     "output_type": "stream",
     "text": [
      "Train Loss: 0.272\n",
      "Valid Loss: 0.732\n",
      "Valid Acc : 0.793\n",
      "Saving final model...\n"
     ]
    },
    {
     "data": {
      "image/png": "[encoded data removed]",
      "text/plain": [
       "<Figure size 1000x700 with 1 Axes>"
      ]
     },
     "metadata": {},
     "output_type": "display_data"
    },
    {
     "data": {
      "image/png": "[encoded data removed]",
      "text/plain": [
       "<Figure size 1000x700 with 1 Axes>"
      ]
     },
     "metadata": {},
     "output_type": "display_data"
    }
   ],
   "source": [
    "EPOCHS  = 15\n",
    "LR      = 1e-2\n",
    "OPT     = Adam(lstm_classifier.parameters(), lr=LR, weight_decay=5e-5)\n",
    "LOSS_FN = nn.CrossEntropyLoss()\n",
    "MODEL   = lstm_classifier\n",
    "PATH    = 'C:\\\\Users\\\\Home\\\\misis_projects\\\\classification_text_nlp\\\\checkpoints_lstm\\\\'\n",
    "\n",
    "TrainModel(model=MODEL, loss_fn=LOSS_FN, optimizer=OPT, train_loader=train_loader, val_loader=val_loader, device=device, epochs=EPOCHS, path=PATH)"
   ]
  },
  {
   "cell_type": "markdown",
   "metadata": {
    "id": "nclSmfKi_9zE"
   },
   "source": [
    "### Loading the saved model"
   ]
  },
  {
   "cell_type": "code",
   "execution_count": 34,
   "metadata": {
    "id": "rdYivzAF_-tx"
   },
   "outputs": [
    {
     "data": {
      "text/plain": [
       "LSTMClassifier(\n",
       "  (emb_layer): Embedding(50653, 50)\n",
       "  (lstm): LSTM(50, 75, num_layers=3, batch_first=True, dropout=0.5, bidirectional=True)\n",
       "  (fc): Linear(in_features=150, out_features=5, bias=True)\n",
       "  (softmax): LogSoftmax(dim=1)\n",
       ")"
      ]
     },
     "execution_count": 34,
     "metadata": {},
     "output_type": "execute_result"
    }
   ],
   "source": [
    "checkpoint = torch.load('C:\\\\Users\\\\Home\\\\misis_projects\\\\classification_text_nlp\\\\checkpoints_lstm\\\\final_model.pth')\n",
    "MODEL.load_state_dict(checkpoint['model_state_dict'])\n",
    "OPT.load_state_dict(checkpoint['optimizer_state_dict'])\n",
    "EPOCHS = checkpoint['epoch']\n",
    "LOSS_FN = checkpoint['loss']\n",
    "\n",
    "# if we need to continue training\n",
    "# MODEL.train()\n",
    "# if we need to inference\n",
    "MODEL.eval()"
   ]
  },
  {
   "cell_type": "markdown",
   "metadata": {
    "id": "eOIlXvXQAIK7"
   },
   "source": [
    "### Test accuracy"
   ]
  },
  {
   "cell_type": "code",
   "execution_count": 35,
   "metadata": {
    "id": "wza4WpskAHYf"
   },
   "outputs": [
    {
     "name": "stderr",
     "output_type": "stream",
     "text": [
      "C:\\Users\\Home\\AppData\\Local\\Temp\\ipykernel_11340\\3140604675.py:17: UserWarning: To copy construct from a tensor, it is recommended to use sourceTensor.clone().detach() or sourceTensor.clone().detach().requires_grad_(True), rather than torch.tensor(sourceTensor).\n",
      "  Y_actual, Y_preds = torch.tensor(Y_actual).cpu(), torch.tensor(Y_preds).cpu()\n"
     ]
    }
   ],
   "source": [
    "def MakePredictions(model, loader, device):\n",
    "  Y_shuffled, Y_preds= [], []\n",
    "  for X, Y in loader:\n",
    "    X.to(device)\n",
    "    Y.to(device)\n",
    "    # initialise hidden state\n",
    "    h = model.init_hidden(X.shape[0])\n",
    "    preds, h = model(X, h)\n",
    "    Y_preds.append(preds)\n",
    "    Y_shuffled.append(Y)\n",
    "  gc.collect()\n",
    "  Y_preds, Y_shuffled = torch.cat(Y_preds), torch.cat(Y_shuffled)\n",
    "\n",
    "  return Y_shuffled.cpu().detach().numpy(), F.softmax(Y_preds, dim=-1).argmax(dim=-1)\n",
    "\n",
    "Y_actual, Y_preds = MakePredictions(lstm_classifier, test_loader, device)\n",
    "Y_actual, Y_preds = torch.tensor(Y_actual).cpu(), torch.tensor(Y_preds).cpu()"
   ]
  },
  {
   "cell_type": "code",
   "execution_count": 36,
   "metadata": {
    "id": "-n4bNQKpAOPp"
   },
   "outputs": [
    {
     "name": "stdout",
     "output_type": "stream",
     "text": [
      "Test Accuracy: 0.8124392614188533\n",
      "\n",
      "Classification report: \n",
      "                    precision    recall  f1-score   support\n",
      "\n",
      "           Neutral       0.86      0.76      0.81       548\n",
      "          Positive       0.86      0.86      0.86       662\n",
      "Extremely Negative       0.76      0.78      0.77       992\n",
      "          Negative       0.89      0.84      0.86       771\n",
      "Extremely Positive       0.76      0.82      0.79      1143\n",
      "\n",
      "          accuracy                           0.81      4116\n",
      "         macro avg       0.83      0.81      0.82      4116\n",
      "      weighted avg       0.82      0.81      0.81      4116\n",
      "\n",
      "\n",
      "Confusion Matrix: \n",
      "[[418   0 120   4   6]\n",
      " [  0 572   3   2  85]\n",
      " [ 63   3 770  27 129]\n",
      " [  3   4  51 644  69]\n",
      " [  2  88  64  49 940]]\n"
     ]
    }
   ],
   "source": [
    "target_classes_ = le.inverse_transform(target_classes)\n",
    "print(f'Test Accuracy: {accuracy_score(Y_actual, Y_preds)}')\n",
    "print('\\nClassification report: ')\n",
    "print(classification_report(Y_actual, Y_preds, target_names=target_classes_))\n",
    "print('\\nConfusion Matrix: ')\n",
    "print(confusion_matrix(Y_actual, Y_preds))"
   ]
  },
  {
   "cell_type": "markdown",
   "metadata": {
    "id": "uFz_ysutAwqE"
   },
   "source": [
    "### Final submissions"
   ]
  },
  {
   "cell_type": "markdown",
   "metadata": {
    "id": "70H7gSZLC8vw"
   },
   "source": [
    "Making predictions for final submissions:"
   ]
  },
  {
   "cell_type": "code",
   "execution_count": 41,
   "metadata": {
    "id": "lCQmcXNwAzxY"
   },
   "outputs": [
    {
     "name": "stderr",
     "output_type": "stream",
     "text": [
      "C:\\Users\\Home\\AppData\\Local\\Temp\\ipykernel_11340\\2529566700.py:18: UserWarning: To copy construct from a tensor, it is recommended to use sourceTensor.clone().detach() or sourceTensor.clone().detach().requires_grad_(True), rather than torch.tensor(sourceTensor).\n",
      "  submission['Sentiment'] = le.inverse_transform(torch.tensor(Y_preds).cpu())\n"
     ]
    },
    {
     "data": {
      "text/html": [
       "<div>\n",
       "<style scoped>\n",
       "    .dataframe tbody tr th:only-of-type {\n",
       "        vertical-align: middle;\n",
       "    }\n",
       "\n",
       "    .dataframe tbody tr th {\n",
       "        vertical-align: top;\n",
       "    }\n",
       "\n",
       "    .dataframe thead th {\n",
       "        text-align: right;\n",
       "    }\n",
       "</style>\n",
       "<table border=\"1\" class=\"dataframe\">\n",
       "  <thead>\n",
       "    <tr style=\"text-align: right;\">\n",
       "      <th></th>\n",
       "      <th>id</th>\n",
       "      <th>Sentiment</th>\n",
       "    </tr>\n",
       "  </thead>\n",
       "  <tbody>\n",
       "    <tr>\n",
       "      <th>0</th>\n",
       "      <td>787bc85b-20d4-46d8-84a0-562a2527f684</td>\n",
       "      <td>Negative</td>\n",
       "    </tr>\n",
       "    <tr>\n",
       "      <th>1</th>\n",
       "      <td>17e934cd-ba94-4d4f-9ac0-ead202abe241</td>\n",
       "      <td>Positive</td>\n",
       "    </tr>\n",
       "    <tr>\n",
       "      <th>2</th>\n",
       "      <td>5914534b-2b0f-4de8-bb8a-e25587697e0d</td>\n",
       "      <td>Extremely Positive</td>\n",
       "    </tr>\n",
       "    <tr>\n",
       "      <th>3</th>\n",
       "      <td>cdf06cfe-29ae-48ee-ac6d-be448103ba45</td>\n",
       "      <td>Extremely Negative</td>\n",
       "    </tr>\n",
       "    <tr>\n",
       "      <th>4</th>\n",
       "      <td>aff63979-0256-4fb9-a2d9-86a3d3ca5470</td>\n",
       "      <td>Neutral</td>\n",
       "    </tr>\n",
       "  </tbody>\n",
       "</table>\n",
       "</div>"
      ],
      "text/plain": [
       "                                     id           Sentiment\n",
       "0  787bc85b-20d4-46d8-84a0-562a2527f684            Negative\n",
       "1  17e934cd-ba94-4d4f-9ac0-ead202abe241            Positive\n",
       "2  5914534b-2b0f-4de8-bb8a-e25587697e0d  Extremely Positive\n",
       "3  cdf06cfe-29ae-48ee-ac6d-be448103ba45  Extremely Negative\n",
       "4  aff63979-0256-4fb9-a2d9-86a3d3ca5470             Neutral"
      ]
     },
     "execution_count": 41,
     "metadata": {},
     "output_type": "execute_result"
    }
   ],
   "source": [
    "def MakeSubmissions(model, loader, device):\n",
    "    with torch.no_grad():\n",
    "        Y_shuffled, Y_preds= [], []\n",
    "        for X in loader:\n",
    "            X.to(device)\n",
    "            # initialise hidden state\n",
    "            h = model.init_hidden(X.shape[0])\n",
    "            preds, h = model(X, h)\n",
    "            Y_preds.append(preds)\n",
    "        gc.collect()\n",
    "        Y_preds = torch.cat(Y_preds)\n",
    "\n",
    "        return F.softmax(Y_preds, dim=-1).argmax(dim=-1)\n",
    "    torch.cuda.empty_cache()\n",
    "\n",
    "Y_preds = MakeSubmissions(lstm_classifier, subm_loader, device)\n",
    "submission = pd.read_csv(filepath_or_buffer='https://raw.githubusercontent.com/wizard339/education/main/misis/nlp/text_classification/sample_submission.csv')\n",
    "submission['Sentiment'] = le.inverse_transform(torch.tensor(Y_preds).cpu())\n",
    "submission.head()"
   ]
  },
  {
   "cell_type": "code",
   "execution_count": 38,
   "metadata": {
    "id": "zDzwh9uIFv3G"
   },
   "outputs": [],
   "source": [
    "# saving sabmission to '.csv' file\n",
    "submission.to_csv('submission_lstm.csv', index=False, header=True)"
   ]
  },
  {
   "cell_type": "markdown",
   "metadata": {
    "id": "BLdpuoSmAZDB"
   },
   "source": [
    "### What else can be done to improve?"
   ]
  },
  {
   "cell_type": "markdown",
   "metadata": {
    "id": "JgYJzQczAclZ"
   },
   "source": [
    "\n",
    "\n",
    "1.   Experiment with the regularization of the optimizer or try another optimizer.\n",
    "2.   Experiment with the 'gain' parameter of the Xavier's initialization or try another method of the initialization hidden state.\n",
    "3. Try another activation function.\n",
    "4. Try using some pretrained embeddings.\n",
    "5. Try using another tokenizators.\n",
    "6. Try changing the text cleaning method.\n",
    "7. Try deleting the stopwords.\n",
    "\n"
   ]
  },
  {
   "cell_type": "markdown",
   "metadata": {
    "id": "MrRww6ZqsYgS",
    "tags": []
   },
   "source": [
    "## For transfer learning"
   ]
  },
  {
   "cell_type": "code",
   "execution_count": null,
   "metadata": {
    "id": "Bux0u851sdbc"
   },
   "outputs": [],
   "source": [
    "def text_cleaner(text: str) -> str:\n",
    "    '''will clean from unicode, url, hashtags, numbers,\n",
    "    nicknames, lower'''\n",
    "    # text = re.sub(r'[.,#!$%\\^&\\*;:{}=\\-_`~()]',r'',text) # punct.\n",
    "    \n",
    "    # text = re.sub(r'(\\\\u[0-9A-Fa-f]+)',r'', text)       \n",
    "    text = re.sub(r'[^\\x00-\\x7f]', r'', text)# unicode\n",
    "\n",
    "    text = re.sub(r'(\\\\[a-z])', r'', text)\n",
    "    \n",
    "    text = re.sub(r'http\\S+', r'', text)# url\n",
    "    \n",
    "    text = re.sub('@[A-Za-z0-9_-]+', r'', text)# nickname\n",
    "    \n",
    "    text = re.sub(r'#([^\\s]+)', r'\\1', text)# hashtag symbol\n",
    "    \n",
    "    text = re.sub(':\\)|;\\)|:-\\)|\\(-:|:-D|=D|:P|xD|X-p|\\^\\^|:-*|\\^\\.\\^|\\^\\-\\^|\\^\\_\\^|\\,-\\)|\\)-:|:\\'\\(|:\\(|:-\\(|:\\S|T\\.T|\\.\\_\\.|:<|:-\\S|:-<|\\*\\-\\*|:O|=O|=\\-O|O\\.o|XO|O\\_O|:-\\@|=/|:/|X\\-\\(|>\\.<|>=\\(|D:',\n",
    "                  '', text) # emoji\n",
    "    \n",
    "    text = ''.join([i for i in text if not i.isdigit()])# int.\n",
    "    \n",
    "    text = text.lower()\n",
    "    return text"
   ]
  },
  {
   "cell_type": "code",
   "execution_count": null,
   "metadata": {
    "colab": {
     "base_uri": "https://localhost:8080/"
    },
    "id": "hDFia8-auEpk",
    "outputId": "0e31fef6-bd42-45ed-9ac4-9314c0bea182"
   },
   "outputs": [
    {
     "data": {
      "text/plain": [
       "array(['so panic buying of soaps and toilet roll was bad enough, now the idiots are stockpiling alcohol ? whats wrong with people coronavirus stoppanicbuying covid_',\n",
       "       'i would place a large amount of money this is the guy buying  of the toilet paper',\n",
       "       '\"saudi arabia is bracing for an economic downturn as oil prices plummet due to the coronavirus pandemic\" ',\n",
       "       'foodsecurity coronavirus covid \\r\\r\\n.smooth flow of global trade will help secure food supply\\r\\r\\n.monitoring food prices and markets\\r\\r\\n.sharing relevant information transparently\\r\\r\\n.supporting the vulnerable countries and populations ',\n",
       "       'i d like to know who is stockpiling eggs cheese and ice cream and why i m used to going without as our local lidl has been running out of all kinds of stuff for years way before drives me potty going to the supermarket is like entering a lottery',\n",
       "       'whenever you touch any object or surface outside your abode washyourhands with soapandwater\\r\\r\\n\\r\\r\\nstaysafe stayhome\\r\\r\\nsanitizer socialdistancing \\r\\r\\ncovid sd\\r\\r\\ncoronavirus \\r\\r\\nchinesevirus\\r\\r\\nasiegercares \\r\\r\\nwho asieger ',\n",
       "       'p.s.a for those buying ?. the human body can survive upwards of  days with no food. water is the most important thing during these times; especially since you cant go more then  days without it before death. think wise and not in a panic induced state. stay safe. covid_',\n",
       "       'publix. walmart. thats how its spreading through our community. you may stay home all week, then go get a gallon of milk with a side of covid-why would you set limits of boats in the waters to stay ft apart, but not regulate the amount of people in a supermarket.coronavirus',\n",
       "       'our healthcare community is the backbone of the response to coronavirus.  is committed to supporting them, so certain garages in the  are now offering reduced prices for hospital staff. \\r\\r\\n\\r\\r\\n',\n",
       "       'lilliesleaf clapped as alan played for  nhs workers, delivery people, supermarket staff, carers and everyone out there taking care of the sick and keeping the country going. you have to squint to see the people at their houses but they are there. clapforkeyworkers coronavirus '],\n",
       "      dtype=object)"
      ]
     },
     "execution_count": 78,
     "metadata": {},
     "output_type": "execute_result"
    }
   ],
   "source": [
    "train_raw_data['Text'] = train_raw_data['Text'].apply(text_cleaner)\n",
    "final_test_raw_data['Text'] = final_test_raw_data['Text'].apply(text_cleaner)\n",
    "train_raw_data['Text'].sample(10, random_state=42).values"
   ]
  },
  {
   "cell_type": "code",
   "execution_count": null,
   "metadata": {
    "id": "TIsAUmQYuNFI"
   },
   "outputs": [],
   "source": [
    "# first, we will split data by two samples: train and test in the proportion of 60:40\n",
    "train_data, test_data = train_test_split(train_raw_data, test_size=0.2, stratify=train_raw_data['Sentiment'], random_state=42)\n",
    "# then, we will split test data by two samples: validation and test in the proportion of 50:50 \n",
    "val_data, test_data = train_test_split(test_data, test_size=0.5, stratify=test_data['Sentiment'], random_state=42)"
   ]
  },
  {
   "cell_type": "code",
   "execution_count": null,
   "metadata": {
    "id": "SXW5-iyPui14"
   },
   "outputs": [],
   "source": [
    "# Convert pyhton dataframe to Hugging Face arrow dataset\n",
    "hg_train_data = Dataset.from_pandas(train_data)\n",
    "hg_val_data = Dataset.from_pandas(val_data)\n",
    "hg_test_data = Dataset.from_pandas(test_data)\n",
    "hg_final_test_data = Dataset.from_pandas(final_test_raw_data)"
   ]
  },
  {
   "cell_type": "code",
   "execution_count": null,
   "metadata": {
    "colab": {
     "base_uri": "https://localhost:8080/",
     "height": 206
    },
    "id": "7ixu22PF2JSh",
    "outputId": "e29dc7d9-74ec-4008-cd50-a0424e7da298"
   },
   "outputs": [
    {
     "data": {
      "text/html": [
       "\n",
       "  <div id=\"df-7273bad1-6722-4109-9c84-736c8329d9d0\">\n",
       "    <div class=\"colab-df-container\">\n",
       "      <div>\n",
       "<style scoped>\n",
       "    .dataframe tbody tr th:only-of-type {\n",
       "        vertical-align: middle;\n",
       "    }\n",
       "\n",
       "    .dataframe tbody tr th {\n",
       "        vertical-align: top;\n",
       "    }\n",
       "\n",
       "    .dataframe thead th {\n",
       "        text-align: right;\n",
       "    }\n",
       "</style>\n",
       "<table border=\"1\" class=\"dataframe\">\n",
       "  <thead>\n",
       "    <tr style=\"text-align: right;\">\n",
       "      <th></th>\n",
       "      <th>id</th>\n",
       "      <th>Text</th>\n",
       "    </tr>\n",
       "  </thead>\n",
       "  <tbody>\n",
       "    <tr>\n",
       "      <th>0</th>\n",
       "      <td>787bc85b-20d4-46d8-84a0-562a2527f684</td>\n",
       "      <td>trending new yorkers encounter empty supermark...</td>\n",
       "    </tr>\n",
       "    <tr>\n",
       "      <th>1</th>\n",
       "      <td>17e934cd-ba94-4d4f-9ac0-ead202abe241</td>\n",
       "      <td>when i couldn't find hand sanitizer at fred me...</td>\n",
       "    </tr>\n",
       "    <tr>\n",
       "      <th>2</th>\n",
       "      <td>5914534b-2b0f-4de8-bb8a-e25587697e0d</td>\n",
       "      <td>find out how you can protect yourself and love...</td>\n",
       "    </tr>\n",
       "    <tr>\n",
       "      <th>3</th>\n",
       "      <td>cdf06cfe-29ae-48ee-ac6d-be448103ba45</td>\n",
       "      <td>panic buying hits newyork city as anxious shop...</td>\n",
       "    </tr>\n",
       "    <tr>\n",
       "      <th>4</th>\n",
       "      <td>aff63979-0256-4fb9-a2d9-86a3d3ca5470</td>\n",
       "      <td>toiletpaper dunnypaper coronavirus coronavirus...</td>\n",
       "    </tr>\n",
       "  </tbody>\n",
       "</table>\n",
       "</div>\n",
       "      <button class=\"colab-df-convert\" onclick=\"convertToInteractive('df-7273bad1-6722-4109-9c84-736c8329d9d0')\"\n",
       "              title=\"Convert this dataframe to an interactive table.\"\n",
       "              style=\"display:none;\">\n",
       "        \n",
       "  <svg xmlns=\"http://www.w3.org/2000/svg\" height=\"24px\"viewBox=\"0 0 24 24\"\n",
       "       width=\"24px\">\n",
       "    <path d=\"M0 0h24v24H0V0z\" fill=\"none\"/>\n",
       "    <path d=\"M18.56 5.44l.94 2.06.94-2.06 2.06-.94-2.06-.94-.94-2.06-.94 2.06-2.06.94zm-11 1L8.5 8.5l.94-2.06 2.06-.94-2.06-.94L8.5 2.5l-.94 2.06-2.06.94zm10 10l.94 2.06.94-2.06 2.06-.94-2.06-.94-.94-2.06-.94 2.06-2.06.94z\"/><path d=\"M17.41 7.96l-1.37-1.37c-.4-.4-.92-.59-1.43-.59-.52 0-1.04.2-1.43.59L10.3 9.45l-7.72 7.72c-.78.78-.78 2.05 0 2.83L4 21.41c.39.39.9.59 1.41.59.51 0 1.02-.2 1.41-.59l7.78-7.78 2.81-2.81c.8-.78.8-2.07 0-2.86zM5.41 20L4 18.59l7.72-7.72 1.47 1.35L5.41 20z\"/>\n",
       "  </svg>\n",
       "      </button>\n",
       "      \n",
       "  <style>\n",
       "    .colab-df-container {\n",
       "      display:flex;\n",
       "      flex-wrap:wrap;\n",
       "      gap: 12px;\n",
       "    }\n",
       "\n",
       "    .colab-df-convert {\n",
       "      background-color: #E8F0FE;\n",
       "      border: none;\n",
       "      border-radius: 50%;\n",
       "      cursor: pointer;\n",
       "      display: none;\n",
       "      fill: #1967D2;\n",
       "      height: 32px;\n",
       "      padding: 0 0 0 0;\n",
       "      width: 32px;\n",
       "    }\n",
       "\n",
       "    .colab-df-convert:hover {\n",
       "      background-color: #E2EBFA;\n",
       "      box-shadow: 0px 1px 2px rgba(60, 64, 67, 0.3), 0px 1px 3px 1px rgba(60, 64, 67, 0.15);\n",
       "      fill: #174EA6;\n",
       "    }\n",
       "\n",
       "    [theme=dark] .colab-df-convert {\n",
       "      background-color: #3B4455;\n",
       "      fill: #D2E3FC;\n",
       "    }\n",
       "\n",
       "    [theme=dark] .colab-df-convert:hover {\n",
       "      background-color: #434B5C;\n",
       "      box-shadow: 0px 1px 3px 1px rgba(0, 0, 0, 0.15);\n",
       "      filter: drop-shadow(0px 1px 2px rgba(0, 0, 0, 0.3));\n",
       "      fill: #FFFFFF;\n",
       "    }\n",
       "  </style>\n",
       "\n",
       "      <script>\n",
       "        const buttonEl =\n",
       "          document.querySelector('#df-7273bad1-6722-4109-9c84-736c8329d9d0 button.colab-df-convert');\n",
       "        buttonEl.style.display =\n",
       "          google.colab.kernel.accessAllowed ? 'block' : 'none';\n",
       "\n",
       "        async function convertToInteractive(key) {\n",
       "          const element = document.querySelector('#df-7273bad1-6722-4109-9c84-736c8329d9d0');\n",
       "          const dataTable =\n",
       "            await google.colab.kernel.invokeFunction('convertToInteractive',\n",
       "                                                     [key], {});\n",
       "          if (!dataTable) return;\n",
       "\n",
       "          const docLinkHtml = 'Like what you see? Visit the ' +\n",
       "            '<a target=\"_blank\" href=https://colab.research.google.com/notebooks/data_table.ipynb>data table notebook</a>'\n",
       "            + ' to learn more about interactive tables.';\n",
       "          element.innerHTML = '';\n",
       "          dataTable['output_type'] = 'display_data';\n",
       "          await google.colab.output.renderOutput(dataTable, element);\n",
       "          const docLink = document.createElement('div');\n",
       "          docLink.innerHTML = docLinkHtml;\n",
       "          element.appendChild(docLink);\n",
       "        }\n",
       "      </script>\n",
       "    </div>\n",
       "  </div>\n",
       "  "
      ],
      "text/plain": [
       "                                     id  \\\n",
       "0  787bc85b-20d4-46d8-84a0-562a2527f684   \n",
       "1  17e934cd-ba94-4d4f-9ac0-ead202abe241   \n",
       "2  5914534b-2b0f-4de8-bb8a-e25587697e0d   \n",
       "3  cdf06cfe-29ae-48ee-ac6d-be448103ba45   \n",
       "4  aff63979-0256-4fb9-a2d9-86a3d3ca5470   \n",
       "\n",
       "                                                Text  \n",
       "0  trending new yorkers encounter empty supermark...  \n",
       "1  when i couldn't find hand sanitizer at fred me...  \n",
       "2  find out how you can protect yourself and love...  \n",
       "3  panic buying hits newyork city as anxious shop...  \n",
       "4  toiletpaper dunnypaper coronavirus coronavirus...  "
      ]
     },
     "execution_count": 99,
     "metadata": {},
     "output_type": "execute_result"
    }
   ],
   "source": [
    "final_test_raw_data.head()"
   ]
  },
  {
   "cell_type": "code",
   "execution_count": null,
   "metadata": {
    "colab": {
     "base_uri": "https://localhost:8080/"
    },
    "id": "Y9jMtGQo2PtI",
    "outputId": "572e7097-0ac5-446f-c0ca-bd3e919956a1"
   },
   "outputs": [
    {
     "data": {
      "text/plain": [
       "{'id': '787bc85b-20d4-46d8-84a0-562a2527f684',\n",
       " 'Text': 'trending new yorkers encounter empty supermarket shelves (pictured, wegmans in brooklyn), sold-out online grocers (foodkick, maelivery) as coronavirus-fearing shoppers stock up  '}"
      ]
     },
     "execution_count": 100,
     "metadata": {},
     "output_type": "execute_result"
    }
   ],
   "source": [
    "hg_final_test_data[0]"
   ]
  },
  {
   "cell_type": "code",
   "execution_count": null,
   "metadata": {
    "colab": {
     "base_uri": "https://localhost:8080/"
    },
    "id": "Q9cIQfD7x91u",
    "outputId": "a6ce3f28-3ef4-47c2-bc9d-927290c108f7"
   },
   "outputs": [
    {
     "data": {
      "text/plain": [
       "{'Text': ' to everyone hoarding rice who until now doesnt eat rice, remember to donate it and all left over food youve hoarded to a food bank near you.  food waste should not be a side effect of covid- as a result of irrational panic buying.  coronavir',\n",
       " 'Sentiment': 0,\n",
       " '__index_level_0__': 3730}"
      ]
     },
     "execution_count": 98,
     "metadata": {},
     "output_type": "execute_result"
    }
   ],
   "source": [
    "hg_train_data[0]"
   ]
  },
  {
   "cell_type": "code",
   "execution_count": null,
   "metadata": {
    "colab": {
     "base_uri": "https://localhost:8080/",
     "height": 181,
     "referenced_widgets": [
      "5df7f3fa2fc44c4cb7807c5114146404",
      "a4fa8cf376bf4fdb95c6cb5446c75148",
      "33d8e9ce0e9e444aa98d820a6f85b75a",
      "c3e960f1e2894dd8ac0ff08f6c92c0cd",
      "e68f77ca1e2c49a7ae3a83021690e08d",
      "4433cff3ef6b4eeb802eebbe579149d8",
      "8cbd990d82d549419b97360445f77d75",
      "c7507946b59b409cad4b06429cd0a53d",
      "48e9739a1f36426884e2c4c50d71891e",
      "582edf469dec4b2dae01b31d32ef5f8e",
      "c68ef97722444d65b965b554650a3970",
      "2aefcb8581aa4302a58a54477a33cee6",
      "66c0f031daf54ebbbf9e10f2ccf3a7f5",
      "701a99fda5954142a5004865ea93b68e",
      "65ea8086607b4bd3b547045bc55db824",
      "02b041c262614a76add484340f4e831a",
      "fcb9704dcffe4edabee12a5c2dfea3a5",
      "3e1f0903f02142c3a2d22894db96bbfb",
      "d59e1a25bcbb4cb9b7e86610c2362b68",
      "ad2e19b6745142c89cd21aa00ac0a75f",
      "7497d194051243268003a23d8cb7b6ef",
      "4694c6ec303f44a0b00a1ff9d0a14cc2",
      "0d9569542f4a41b4b917362efdf68649",
      "788489aeef674851a64f00814345537e",
      "3a77c9756d9745f39c35bf2816582805",
      "18ec069293574d538dc00906ed675dee",
      "cb331475a1064a629285fca3d9b1be50",
      "aa38c070417f40249cd0a30c7ce64749",
      "b13ac9dff68d47138395f6b7665ca6be",
      "8c2d36bc800a4b069c51c160d1ddf97a",
      "d98f572549a740b4bad51bafbbb3410e",
      "d4901d4b5db7495594ddde1fdd5f7217",
      "cc7703f87f994755b884da02dfb7cdba",
      "cc3c2cbb66e04a63bf707776097e3747",
      "7bf45c6cc10347f9b47247b72618d55f",
      "3888745bd84a43b5b02279bbc36398d3",
      "808f01558195434fa11fcbe2b7db6d97",
      "deecde0ef4bd408ebb8454b517bb8e29",
      "9043ee956c5b478b96cad2aa5688bb87",
      "ce948ff47c084716a00924327e0a3fe4",
      "c6f1a689d7b64ec79b24a28084655e93",
      "db058a81df9a498ca4ba2d5e595e0792",
      "01be3734cee04789932f5b98015274ab",
      "cec9e289061c4689b21e04a37a157e0e"
     ]
    },
    "id": "pVS2ZQ92yiiU",
    "outputId": "8f0dac3a-3235-4b2a-aa62-a0d1f48eb65e"
   },
   "outputs": [
    {
     "data": {
      "application/vnd.jupyter.widget-view+json": {
       "model_id": "5df7f3fa2fc44c4cb7807c5114146404",
       "version_major": 2,
       "version_minor": 0
      },
      "text/plain": [
       "Downloading (…)okenizer_config.json:   0%|          | 0.00/29.0 [00:00<?, ?B/s]"
      ]
     },
     "metadata": {},
     "output_type": "display_data"
    },
    {
     "data": {
      "application/vnd.jupyter.widget-view+json": {
       "model_id": "2aefcb8581aa4302a58a54477a33cee6",
       "version_major": 2,
       "version_minor": 0
      },
      "text/plain": [
       "Downloading (…)lve/main/config.json:   0%|          | 0.00/570 [00:00<?, ?B/s]"
      ]
     },
     "metadata": {},
     "output_type": "display_data"
    },
    {
     "data": {
      "application/vnd.jupyter.widget-view+json": {
       "model_id": "0d9569542f4a41b4b917362efdf68649",
       "version_major": 2,
       "version_minor": 0
      },
      "text/plain": [
       "Downloading (…)solve/main/vocab.txt:   0%|          | 0.00/213k [00:00<?, ?B/s]"
      ]
     },
     "metadata": {},
     "output_type": "display_data"
    },
    {
     "data": {
      "application/vnd.jupyter.widget-view+json": {
       "model_id": "cc3c2cbb66e04a63bf707776097e3747",
       "version_major": 2,
       "version_minor": 0
      },
      "text/plain": [
       "Downloading (…)/main/tokenizer.json:   0%|          | 0.00/436k [00:00<?, ?B/s]"
      ]
     },
     "metadata": {},
     "output_type": "display_data"
    },
    {
     "data": {
      "text/plain": [
       "BertTokenizerFast(name_or_path='bert-base-cased', vocab_size=28996, model_max_length=512, is_fast=True, padding_side='right', truncation_side='right', special_tokens={'unk_token': '[UNK]', 'sep_token': '[SEP]', 'pad_token': '[PAD]', 'cls_token': '[CLS]', 'mask_token': '[MASK]'})"
      ]
     },
     "execution_count": 90,
     "metadata": {},
     "output_type": "execute_result"
    }
   ],
   "source": [
    "# Tokenizer from a pretrained model\n",
    "tokenizer = AutoTokenizer.from_pretrained(\"bert-base-cased\")\n",
    "\n",
    "# Take a look at the tokenizer\n",
    "tokenizer"
   ]
  },
  {
   "cell_type": "code",
   "execution_count": null,
   "metadata": {
    "colab": {
     "base_uri": "https://localhost:8080/"
    },
    "id": "RvJCjHFLywYn",
    "outputId": "c5b23cf4-bdbe-446f-96a6-4653bbef50c3"
   },
   "outputs": [
    {
     "name": "stdout",
     "output_type": "stream",
     "text": [
      "The unknown token is [UNK] and the ID for the unknown token is 100.\n",
      "The seperator token is [SEP] and the ID for the seperator token is 102.\n",
      "The pad token is [PAD] and the ID for the pad token is 0.\n",
      "The sentence level classification token is [CLS] and the ID for the classification token is 101.\n",
      "The mask token is [MASK] and the ID for the mask token is 103.\n"
     ]
    }
   ],
   "source": [
    "# Mapping between special tokens and their IDs.\n",
    "print(f'The unknown token is {tokenizer.unk_token} and the ID for the unknown token is {tokenizer.unk_token_id}.')\n",
    "print(f'The seperator token is {tokenizer.sep_token} and the ID for the seperator token is {tokenizer.sep_token_id}.')\n",
    "print(f'The pad token is {tokenizer.pad_token} and the ID for the pad token is {tokenizer.pad_token_id}.')\n",
    "print(f'The sentence level classification token is {tokenizer.cls_token} and the ID for the classification token is {tokenizer.cls_token_id}.')\n",
    "print(f'The mask token is {tokenizer.mask_token} and the ID for the mask token is {tokenizer.mask_token_id}.')"
   ]
  },
  {
   "cell_type": "code",
   "execution_count": null,
   "metadata": {
    "colab": {
     "base_uri": "https://localhost:8080/",
     "height": 17,
     "referenced_widgets": [
      "2aeac73d31564385af6aca84bc935d92",
      "4ee2cdda336241ba85632a1b65595593",
      "53a60d090b1147518816ef0b81108d50",
      "990bebcafdc84a16ace079c3c2e8baec",
      "8a6717b6ef9e48e4b29eb4b292a85898",
      "384c42da55cd47d0b3ad54cd417110d8",
      "0f77724abe3949fe938c210900543ef9",
      "5adf4684ec4f4185a4a012595a861cc7",
      "f3240ae9600a4e0385be9003f0c5597d",
      "529e100915954230a92d7625e22e3343",
      "c35be708461d4594a52ad53c384d4023",
      "aff6e255ae7f4f81b8f6e40b7b8c26ad",
      "37e6e86114774422b8429a6258026eda",
      "747c8e9e9c574c64bbe3df1bcee04760",
      "6f6aad7b0da94817a806a0d1bfaf2437",
      "c2cbc01839dd429a8076aff41d3f1c31",
      "f3ca911f7ed64a0abf5eae5beffc9cb1",
      "4a815564fb4648cbb3e107aa35b24e6a",
      "11078d7279284b7f9401384c73908ed2",
      "ad1000fedde045fe9694d1c4ac820602",
      "fca92babec7d4235b8d8f27436093fec",
      "d46f8d1e9e76478fab6dd656a8983ecf",
      "05683e6966044eef87a69142ef5cf6ca",
      "43ac341f3fe845a2815253de629c4c56",
      "f62a376a398a42eca6f3746a438b918f",
      "41bd2d9748a7499da3da6b703c33ec30",
      "33ee5f0c6a324bb4a253cdfc018a5860",
      "db57478597bc4914ba2f794af10af98f",
      "b25a5429eb4647deaaa6c538eea0f123",
      "00b0f8d5d7ca471d9bc92bc1cff4de4c",
      "5ba8e2ebff2c45b883c24d4d783e8c40",
      "39c30c8fcfed4df4acf0018ffb65b57c",
      "b355cad3d007490889bd01f054478eae",
      "f9414c9880ee4e20b0ee99ff8e8c1460",
      "eabd7b94f3844007bd291c31a69355b6",
      "4c871ff71f36482094ef9ff93d0d3633",
      "8b0688a2fdb0483b8573b1872413119d",
      "2610078c70104950857c354455ea115d",
      "03da28e1776c468a92855184ff123a19",
      "f38e7be450b8408fa6cdbf33a61a268d",
      "8c74198dee1843a381fbab3ba1c62e07",
      "5a0e031118e94a7796a960600ddeb1c9",
      "73bd6b65802b41198d8865848fbf1191",
      "ead802c8fd584d01ab5effc54dea1110"
     ]
    },
    "id": "xMkxC7rYy70Q",
    "outputId": "54089951-e079-4f12-f23c-2c8acafa513b"
   },
   "outputs": [
    {
     "data": {
      "application/vnd.jupyter.widget-view+json": {
       "model_id": "2aeac73d31564385af6aca84bc935d92",
       "version_major": 2,
       "version_minor": 0
      },
      "text/plain": [
       "Map:   0%|          | 0/32924 [00:00<?, ? examples/s]"
      ]
     },
     "metadata": {},
     "output_type": "display_data"
    },
    {
     "data": {
      "application/vnd.jupyter.widget-view+json": {
       "model_id": "aff6e255ae7f4f81b8f6e40b7b8c26ad",
       "version_major": 2,
       "version_minor": 0
      },
      "text/plain": [
       "Map:   0%|          | 0/4115 [00:00<?, ? examples/s]"
      ]
     },
     "metadata": {},
     "output_type": "display_data"
    },
    {
     "data": {
      "application/vnd.jupyter.widget-view+json": {
       "model_id": "05683e6966044eef87a69142ef5cf6ca",
       "version_major": 2,
       "version_minor": 0
      },
      "text/plain": [
       "Map:   0%|          | 0/4116 [00:00<?, ? examples/s]"
      ]
     },
     "metadata": {},
     "output_type": "display_data"
    },
    {
     "data": {
      "application/vnd.jupyter.widget-view+json": {
       "model_id": "f9414c9880ee4e20b0ee99ff8e8c1460",
       "version_major": 2,
       "version_minor": 0
      },
      "text/plain": [
       "Map:   0%|          | 0/3798 [00:00<?, ? examples/s]"
      ]
     },
     "metadata": {},
     "output_type": "display_data"
    }
   ],
   "source": [
    "# Funtion to tokenize data\n",
    "def tokenize_dataset(data):\n",
    "    return tokenizer(data[\"Text\"], \n",
    "                     max_length=50, \n",
    "                     truncation=True, \n",
    "                     padding=\"max_length\")\n",
    "\n",
    "# Tokenize the dataset\n",
    "dataset_train = hg_train_data.map(tokenize_dataset)\n",
    "dataset_val = hg_val_data.map(tokenize_dataset)\n",
    "dataset_test = hg_test_data.map(tokenize_dataset)\n",
    "dataset_final_test = hg_final_test_data.map(tokenize_dataset)"
   ]
  },
  {
   "cell_type": "code",
   "execution_count": null,
   "metadata": {
    "colab": {
     "base_uri": "https://localhost:8080/"
    },
    "id": "E3WdxG2_0rY8",
    "outputId": "fb059b0a-aeb9-4744-9c11-d7203bb115c2"
   },
   "outputs": [
    {
     "name": "stdout",
     "output_type": "stream",
     "text": [
      "Dataset({\n",
      "    features: ['Text', 'Sentiment', '__index_level_0__', 'input_ids', 'token_type_ids', 'attention_mask'],\n",
      "    num_rows: 32924\n",
      "})\n",
      "Dataset({\n",
      "    features: ['Text', 'Sentiment', '__index_level_0__', 'input_ids', 'token_type_ids', 'attention_mask'],\n",
      "    num_rows: 4115\n",
      "})\n",
      "Dataset({\n",
      "    features: ['Text', 'Sentiment', '__index_level_0__', 'input_ids', 'token_type_ids', 'attention_mask'],\n",
      "    num_rows: 4116\n",
      "})\n",
      "Dataset({\n",
      "    features: ['id', 'Text', 'input_ids', 'token_type_ids', 'attention_mask'],\n",
      "    num_rows: 3798\n",
      "})\n"
     ]
    }
   ],
   "source": [
    "# Take a look at the data\n",
    "print(dataset_train)\n",
    "print(dataset_val)\n",
    "print(dataset_test)\n",
    "print(dataset_final_test)"
   ]
  },
  {
   "cell_type": "code",
   "execution_count": null,
   "metadata": {
    "colab": {
     "base_uri": "https://localhost:8080/"
    },
    "id": "F6Wb2lyY1Lwj",
    "outputId": "066e6585-86fa-4dbf-ccaf-59265677087e"
   },
   "outputs": [
    {
     "name": "stdout",
     "output_type": "stream",
     "text": [
      "Dataset({\n",
      "    features: ['labels', 'input_ids', 'token_type_ids', 'attention_mask'],\n",
      "    num_rows: 32924\n",
      "})\n",
      "Dataset({\n",
      "    features: ['labels', 'input_ids', 'token_type_ids', 'attention_mask'],\n",
      "    num_rows: 4115\n",
      "})\n",
      "Dataset({\n",
      "    features: ['labels', 'input_ids', 'token_type_ids', 'attention_mask'],\n",
      "    num_rows: 4116\n",
      "})\n",
      "Dataset({\n",
      "    features: ['input_ids', 'token_type_ids', 'attention_mask'],\n",
      "    num_rows: 3798\n",
      "})\n"
     ]
    }
   ],
   "source": [
    "# Remove the review and index columns because it will not be used in the model\n",
    "dataset_train = dataset_train.remove_columns([\"Text\", \"__index_level_0__\"])\n",
    "dataset_val = dataset_val.remove_columns([\"Text\", \"__index_level_0__\"])\n",
    "dataset_test = dataset_test.remove_columns([\"Text\", \"__index_level_0__\"])\n",
    "dataset_final_test = dataset_final_test.remove_columns([\"Text\", \"id\"])\n",
    "\n",
    "# Rename label to labels because the model expects the name labels\n",
    "dataset_train = dataset_train.rename_column(\"Sentiment\", \"labels\")\n",
    "dataset_val = dataset_val.rename_column(\"Sentiment\", \"labels\")\n",
    "dataset_test = dataset_test.rename_column(\"Sentiment\", \"labels\")\n",
    "\n",
    "# Change the format to PyTorch tensors\n",
    "dataset_train.set_format(\"torch\")\n",
    "dataset_val.set_format(\"torch\")\n",
    "dataset_test.set_format(\"torch\")\n",
    "dataset_final_test.set_format(\"torch\")\n",
    "\n",
    "# Take a look at the data\n",
    "print(dataset_train)\n",
    "print(dataset_val)\n",
    "print(dataset_test)\n",
    "print(dataset_final_test)"
   ]
  },
  {
   "cell_type": "code",
   "execution_count": null,
   "metadata": {
    "colab": {
     "base_uri": "https://localhost:8080/"
    },
    "id": "GDRNWUgy64we",
    "outputId": "928eca26-d4e8-4c57-b63d-c9680c69688c"
   },
   "outputs": [
    {
     "data": {
      "text/plain": [
       "{'labels': tensor(0),\n",
       " 'input_ids': tensor([  101,  1106,  2490, 16358,  2881,  1158,  7738,  1150,  1235,  1208,\n",
       "          2144,  1204,  3940,  7738,   117,  2676,  1106, 23969,  1122,  1105,\n",
       "          1155,  1286,  1166,  2094,  1128,  2707, 16358, 26541,  1106,   170,\n",
       "          2094,  3085,  1485,  1128,   119,  2094,  5671,  1431,  1136,  1129,\n",
       "           170,  1334,  2629,  1104,  1884, 18312,   118,  1112,   170,   102]),\n",
       " 'token_type_ids': tensor([0, 0, 0, 0, 0, 0, 0, 0, 0, 0, 0, 0, 0, 0, 0, 0, 0, 0, 0, 0, 0, 0, 0, 0,\n",
       "         0, 0, 0, 0, 0, 0, 0, 0, 0, 0, 0, 0, 0, 0, 0, 0, 0, 0, 0, 0, 0, 0, 0, 0,\n",
       "         0, 0]),\n",
       " 'attention_mask': tensor([1, 1, 1, 1, 1, 1, 1, 1, 1, 1, 1, 1, 1, 1, 1, 1, 1, 1, 1, 1, 1, 1, 1, 1,\n",
       "         1, 1, 1, 1, 1, 1, 1, 1, 1, 1, 1, 1, 1, 1, 1, 1, 1, 1, 1, 1, 1, 1, 1, 1,\n",
       "         1, 1])}"
      ]
     },
     "execution_count": 103,
     "metadata": {},
     "output_type": "execute_result"
    }
   ],
   "source": [
    "dataset_train[0]"
   ]
  },
  {
   "cell_type": "code",
   "execution_count": null,
   "metadata": {
    "id": "L8hSdKhr7SfO"
   },
   "outputs": [],
   "source": [
    "# Empty cache\n",
    "torch.cuda.empty_cache()\n",
    "\n",
    "BATCH_SIZE = 1024\n",
    "\n",
    "# DataLoader\n",
    "train_dataloader = DataLoader(dataset=dataset_train, shuffle=True, batch_size=BATCH_SIZE)\n",
    "val_dataloader = DataLoader(dataset=dataset_val, batch_size=BATCH_SIZE)\n",
    "test_dataloader = DataLoader(dataset=dataset_test, batch_size=BATCH_SIZE)\n",
    "final_test_dataloader = DataLoader(dataset=dataset_final_test, batch_size=BATCH_SIZE)"
   ]
  },
  {
   "cell_type": "code",
   "execution_count": null,
   "metadata": {
    "colab": {
     "base_uri": "https://localhost:8080/",
     "height": 160,
     "referenced_widgets": [
      "87b49c79e8964a98a648966efdfd7572",
      "9e503f488c374618a9202738b4c952a5",
      "1d4d5a503d1c4112b580f0e0216d2719",
      "8c89bb640bb543f2baf2cf14165ceb8f",
      "28d1cb2de94344f4bb6982ac3cc166a3",
      "244bec7298844a8ba1ab7115183292cb",
      "25dfb21fa84b45b08152bcb3c0e79f79",
      "f530a311fa2b4699be8540ad732105df",
      "eea27ce9da184779809182e776ea98d4",
      "95e1b682b9ba47d594bbbe30b70c3f5d",
      "531ba594a64f45c68dd14e1f366bbabc"
     ]
    },
    "id": "8VKFTvZ7785d",
    "outputId": "8b35f201-268c-4804-f06c-e0b416c2d158"
   },
   "outputs": [
    {
     "data": {
      "application/vnd.jupyter.widget-view+json": {
       "model_id": "87b49c79e8964a98a648966efdfd7572",
       "version_major": 2,
       "version_minor": 0
      },
      "text/plain": [
       "Downloading (…)\"pytorch_model.bin\";:   0%|          | 0.00/436M [00:00<?, ?B/s]"
      ]
     },
     "metadata": {},
     "output_type": "display_data"
    },
    {
     "name": "stderr",
     "output_type": "stream",
     "text": [
      "Some weights of the model checkpoint at bert-base-cased were not used when initializing BertForSequenceClassification: ['cls.predictions.bias', 'cls.predictions.transform.LayerNorm.weight', 'cls.predictions.decoder.weight', 'cls.predictions.transform.dense.bias', 'cls.predictions.transform.LayerNorm.bias', 'cls.seq_relationship.bias', 'cls.seq_relationship.weight', 'cls.predictions.transform.dense.weight']\n",
      "- This IS expected if you are initializing BertForSequenceClassification from the checkpoint of a model trained on another task or with another architecture (e.g. initializing a BertForSequenceClassification model from a BertForPreTraining model).\n",
      "- This IS NOT expected if you are initializing BertForSequenceClassification from the checkpoint of a model that you expect to be exactly identical (initializing a BertForSequenceClassification model from a BertForSequenceClassification model).\n",
      "Some weights of BertForSequenceClassification were not initialized from the model checkpoint at bert-base-cased and are newly initialized: ['classifier.bias', 'classifier.weight']\n",
      "You should probably TRAIN this model on a down-stream task to be able to use it for predictions and inference.\n"
     ]
    }
   ],
   "source": [
    "# Load model\n",
    "model = AutoModelForSequenceClassification.from_pretrained(\"bert-base-cased\", num_labels=5)"
   ]
  },
  {
   "cell_type": "code",
   "execution_count": null,
   "metadata": {
    "colab": {
     "base_uri": "https://localhost:8080/"
    },
    "id": "nyzEsft78bdU",
    "outputId": "e8aef999-c206-4cca-d4e4-f67303f10419"
   },
   "outputs": [
    {
     "data": {
      "text/plain": [
       "BertForSequenceClassification(\n",
       "  (bert): BertModel(\n",
       "    (embeddings): BertEmbeddings(\n",
       "      (word_embeddings): Embedding(28996, 768, padding_idx=0)\n",
       "      (position_embeddings): Embedding(512, 768)\n",
       "      (token_type_embeddings): Embedding(2, 768)\n",
       "      (LayerNorm): LayerNorm((768,), eps=1e-12, elementwise_affine=True)\n",
       "      (dropout): Dropout(p=0.1, inplace=False)\n",
       "    )\n",
       "    (encoder): BertEncoder(\n",
       "      (layer): ModuleList(\n",
       "        (0): BertLayer(\n",
       "          (attention): BertAttention(\n",
       "            (self): BertSelfAttention(\n",
       "              (query): Linear(in_features=768, out_features=768, bias=True)\n",
       "              (key): Linear(in_features=768, out_features=768, bias=True)\n",
       "              (value): Linear(in_features=768, out_features=768, bias=True)\n",
       "              (dropout): Dropout(p=0.1, inplace=False)\n",
       "            )\n",
       "            (output): BertSelfOutput(\n",
       "              (dense): Linear(in_features=768, out_features=768, bias=True)\n",
       "              (LayerNorm): LayerNorm((768,), eps=1e-12, elementwise_affine=True)\n",
       "              (dropout): Dropout(p=0.1, inplace=False)\n",
       "            )\n",
       "          )\n",
       "          (intermediate): BertIntermediate(\n",
       "            (dense): Linear(in_features=768, out_features=3072, bias=True)\n",
       "            (intermediate_act_fn): GELUActivation()\n",
       "          )\n",
       "          (output): BertOutput(\n",
       "            (dense): Linear(in_features=3072, out_features=768, bias=True)\n",
       "            (LayerNorm): LayerNorm((768,), eps=1e-12, elementwise_affine=True)\n",
       "            (dropout): Dropout(p=0.1, inplace=False)\n",
       "          )\n",
       "        )\n",
       "        (1): BertLayer(\n",
       "          (attention): BertAttention(\n",
       "            (self): BertSelfAttention(\n",
       "              (query): Linear(in_features=768, out_features=768, bias=True)\n",
       "              (key): Linear(in_features=768, out_features=768, bias=True)\n",
       "              (value): Linear(in_features=768, out_features=768, bias=True)\n",
       "              (dropout): Dropout(p=0.1, inplace=False)\n",
       "            )\n",
       "            (output): BertSelfOutput(\n",
       "              (dense): Linear(in_features=768, out_features=768, bias=True)\n",
       "              (LayerNorm): LayerNorm((768,), eps=1e-12, elementwise_affine=True)\n",
       "              (dropout): Dropout(p=0.1, inplace=False)\n",
       "            )\n",
       "          )\n",
       "          (intermediate): BertIntermediate(\n",
       "            (dense): Linear(in_features=768, out_features=3072, bias=True)\n",
       "            (intermediate_act_fn): GELUActivation()\n",
       "          )\n",
       "          (output): BertOutput(\n",
       "            (dense): Linear(in_features=3072, out_features=768, bias=True)\n",
       "            (LayerNorm): LayerNorm((768,), eps=1e-12, elementwise_affine=True)\n",
       "            (dropout): Dropout(p=0.1, inplace=False)\n",
       "          )\n",
       "        )\n",
       "        (2): BertLayer(\n",
       "          (attention): BertAttention(\n",
       "            (self): BertSelfAttention(\n",
       "              (query): Linear(in_features=768, out_features=768, bias=True)\n",
       "              (key): Linear(in_features=768, out_features=768, bias=True)\n",
       "              (value): Linear(in_features=768, out_features=768, bias=True)\n",
       "              (dropout): Dropout(p=0.1, inplace=False)\n",
       "            )\n",
       "            (output): BertSelfOutput(\n",
       "              (dense): Linear(in_features=768, out_features=768, bias=True)\n",
       "              (LayerNorm): LayerNorm((768,), eps=1e-12, elementwise_affine=True)\n",
       "              (dropout): Dropout(p=0.1, inplace=False)\n",
       "            )\n",
       "          )\n",
       "          (intermediate): BertIntermediate(\n",
       "            (dense): Linear(in_features=768, out_features=3072, bias=True)\n",
       "            (intermediate_act_fn): GELUActivation()\n",
       "          )\n",
       "          (output): BertOutput(\n",
       "            (dense): Linear(in_features=3072, out_features=768, bias=True)\n",
       "            (LayerNorm): LayerNorm((768,), eps=1e-12, elementwise_affine=True)\n",
       "            (dropout): Dropout(p=0.1, inplace=False)\n",
       "          )\n",
       "        )\n",
       "        (3): BertLayer(\n",
       "          (attention): BertAttention(\n",
       "            (self): BertSelfAttention(\n",
       "              (query): Linear(in_features=768, out_features=768, bias=True)\n",
       "              (key): Linear(in_features=768, out_features=768, bias=True)\n",
       "              (value): Linear(in_features=768, out_features=768, bias=True)\n",
       "              (dropout): Dropout(p=0.1, inplace=False)\n",
       "            )\n",
       "            (output): BertSelfOutput(\n",
       "              (dense): Linear(in_features=768, out_features=768, bias=True)\n",
       "              (LayerNorm): LayerNorm((768,), eps=1e-12, elementwise_affine=True)\n",
       "              (dropout): Dropout(p=0.1, inplace=False)\n",
       "            )\n",
       "          )\n",
       "          (intermediate): BertIntermediate(\n",
       "            (dense): Linear(in_features=768, out_features=3072, bias=True)\n",
       "            (intermediate_act_fn): GELUActivation()\n",
       "          )\n",
       "          (output): BertOutput(\n",
       "            (dense): Linear(in_features=3072, out_features=768, bias=True)\n",
       "            (LayerNorm): LayerNorm((768,), eps=1e-12, elementwise_affine=True)\n",
       "            (dropout): Dropout(p=0.1, inplace=False)\n",
       "          )\n",
       "        )\n",
       "        (4): BertLayer(\n",
       "          (attention): BertAttention(\n",
       "            (self): BertSelfAttention(\n",
       "              (query): Linear(in_features=768, out_features=768, bias=True)\n",
       "              (key): Linear(in_features=768, out_features=768, bias=True)\n",
       "              (value): Linear(in_features=768, out_features=768, bias=True)\n",
       "              (dropout): Dropout(p=0.1, inplace=False)\n",
       "            )\n",
       "            (output): BertSelfOutput(\n",
       "              (dense): Linear(in_features=768, out_features=768, bias=True)\n",
       "              (LayerNorm): LayerNorm((768,), eps=1e-12, elementwise_affine=True)\n",
       "              (dropout): Dropout(p=0.1, inplace=False)\n",
       "            )\n",
       "          )\n",
       "          (intermediate): BertIntermediate(\n",
       "            (dense): Linear(in_features=768, out_features=3072, bias=True)\n",
       "            (intermediate_act_fn): GELUActivation()\n",
       "          )\n",
       "          (output): BertOutput(\n",
       "            (dense): Linear(in_features=3072, out_features=768, bias=True)\n",
       "            (LayerNorm): LayerNorm((768,), eps=1e-12, elementwise_affine=True)\n",
       "            (dropout): Dropout(p=0.1, inplace=False)\n",
       "          )\n",
       "        )\n",
       "        (5): BertLayer(\n",
       "          (attention): BertAttention(\n",
       "            (self): BertSelfAttention(\n",
       "              (query): Linear(in_features=768, out_features=768, bias=True)\n",
       "              (key): Linear(in_features=768, out_features=768, bias=True)\n",
       "              (value): Linear(in_features=768, out_features=768, bias=True)\n",
       "              (dropout): Dropout(p=0.1, inplace=False)\n",
       "            )\n",
       "            (output): BertSelfOutput(\n",
       "              (dense): Linear(in_features=768, out_features=768, bias=True)\n",
       "              (LayerNorm): LayerNorm((768,), eps=1e-12, elementwise_affine=True)\n",
       "              (dropout): Dropout(p=0.1, inplace=False)\n",
       "            )\n",
       "          )\n",
       "          (intermediate): BertIntermediate(\n",
       "            (dense): Linear(in_features=768, out_features=3072, bias=True)\n",
       "            (intermediate_act_fn): GELUActivation()\n",
       "          )\n",
       "          (output): BertOutput(\n",
       "            (dense): Linear(in_features=3072, out_features=768, bias=True)\n",
       "            (LayerNorm): LayerNorm((768,), eps=1e-12, elementwise_affine=True)\n",
       "            (dropout): Dropout(p=0.1, inplace=False)\n",
       "          )\n",
       "        )\n",
       "        (6): BertLayer(\n",
       "          (attention): BertAttention(\n",
       "            (self): BertSelfAttention(\n",
       "              (query): Linear(in_features=768, out_features=768, bias=True)\n",
       "              (key): Linear(in_features=768, out_features=768, bias=True)\n",
       "              (value): Linear(in_features=768, out_features=768, bias=True)\n",
       "              (dropout): Dropout(p=0.1, inplace=False)\n",
       "            )\n",
       "            (output): BertSelfOutput(\n",
       "              (dense): Linear(in_features=768, out_features=768, bias=True)\n",
       "              (LayerNorm): LayerNorm((768,), eps=1e-12, elementwise_affine=True)\n",
       "              (dropout): Dropout(p=0.1, inplace=False)\n",
       "            )\n",
       "          )\n",
       "          (intermediate): BertIntermediate(\n",
       "            (dense): Linear(in_features=768, out_features=3072, bias=True)\n",
       "            (intermediate_act_fn): GELUActivation()\n",
       "          )\n",
       "          (output): BertOutput(\n",
       "            (dense): Linear(in_features=3072, out_features=768, bias=True)\n",
       "            (LayerNorm): LayerNorm((768,), eps=1e-12, elementwise_affine=True)\n",
       "            (dropout): Dropout(p=0.1, inplace=False)\n",
       "          )\n",
       "        )\n",
       "        (7): BertLayer(\n",
       "          (attention): BertAttention(\n",
       "            (self): BertSelfAttention(\n",
       "              (query): Linear(in_features=768, out_features=768, bias=True)\n",
       "              (key): Linear(in_features=768, out_features=768, bias=True)\n",
       "              (value): Linear(in_features=768, out_features=768, bias=True)\n",
       "              (dropout): Dropout(p=0.1, inplace=False)\n",
       "            )\n",
       "            (output): BertSelfOutput(\n",
       "              (dense): Linear(in_features=768, out_features=768, bias=True)\n",
       "              (LayerNorm): LayerNorm((768,), eps=1e-12, elementwise_affine=True)\n",
       "              (dropout): Dropout(p=0.1, inplace=False)\n",
       "            )\n",
       "          )\n",
       "          (intermediate): BertIntermediate(\n",
       "            (dense): Linear(in_features=768, out_features=3072, bias=True)\n",
       "            (intermediate_act_fn): GELUActivation()\n",
       "          )\n",
       "          (output): BertOutput(\n",
       "            (dense): Linear(in_features=3072, out_features=768, bias=True)\n",
       "            (LayerNorm): LayerNorm((768,), eps=1e-12, elementwise_affine=True)\n",
       "            (dropout): Dropout(p=0.1, inplace=False)\n",
       "          )\n",
       "        )\n",
       "        (8): BertLayer(\n",
       "          (attention): BertAttention(\n",
       "            (self): BertSelfAttention(\n",
       "              (query): Linear(in_features=768, out_features=768, bias=True)\n",
       "              (key): Linear(in_features=768, out_features=768, bias=True)\n",
       "              (value): Linear(in_features=768, out_features=768, bias=True)\n",
       "              (dropout): Dropout(p=0.1, inplace=False)\n",
       "            )\n",
       "            (output): BertSelfOutput(\n",
       "              (dense): Linear(in_features=768, out_features=768, bias=True)\n",
       "              (LayerNorm): LayerNorm((768,), eps=1e-12, elementwise_affine=True)\n",
       "              (dropout): Dropout(p=0.1, inplace=False)\n",
       "            )\n",
       "          )\n",
       "          (intermediate): BertIntermediate(\n",
       "            (dense): Linear(in_features=768, out_features=3072, bias=True)\n",
       "            (intermediate_act_fn): GELUActivation()\n",
       "          )\n",
       "          (output): BertOutput(\n",
       "            (dense): Linear(in_features=3072, out_features=768, bias=True)\n",
       "            (LayerNorm): LayerNorm((768,), eps=1e-12, elementwise_affine=True)\n",
       "            (dropout): Dropout(p=0.1, inplace=False)\n",
       "          )\n",
       "        )\n",
       "        (9): BertLayer(\n",
       "          (attention): BertAttention(\n",
       "            (self): BertSelfAttention(\n",
       "              (query): Linear(in_features=768, out_features=768, bias=True)\n",
       "              (key): Linear(in_features=768, out_features=768, bias=True)\n",
       "              (value): Linear(in_features=768, out_features=768, bias=True)\n",
       "              (dropout): Dropout(p=0.1, inplace=False)\n",
       "            )\n",
       "            (output): BertSelfOutput(\n",
       "              (dense): Linear(in_features=768, out_features=768, bias=True)\n",
       "              (LayerNorm): LayerNorm((768,), eps=1e-12, elementwise_affine=True)\n",
       "              (dropout): Dropout(p=0.1, inplace=False)\n",
       "            )\n",
       "          )\n",
       "          (intermediate): BertIntermediate(\n",
       "            (dense): Linear(in_features=768, out_features=3072, bias=True)\n",
       "            (intermediate_act_fn): GELUActivation()\n",
       "          )\n",
       "          (output): BertOutput(\n",
       "            (dense): Linear(in_features=3072, out_features=768, bias=True)\n",
       "            (LayerNorm): LayerNorm((768,), eps=1e-12, elementwise_affine=True)\n",
       "            (dropout): Dropout(p=0.1, inplace=False)\n",
       "          )\n",
       "        )\n",
       "        (10): BertLayer(\n",
       "          (attention): BertAttention(\n",
       "            (self): BertSelfAttention(\n",
       "              (query): Linear(in_features=768, out_features=768, bias=True)\n",
       "              (key): Linear(in_features=768, out_features=768, bias=True)\n",
       "              (value): Linear(in_features=768, out_features=768, bias=True)\n",
       "              (dropout): Dropout(p=0.1, inplace=False)\n",
       "            )\n",
       "            (output): BertSelfOutput(\n",
       "              (dense): Linear(in_features=768, out_features=768, bias=True)\n",
       "              (LayerNorm): LayerNorm((768,), eps=1e-12, elementwise_affine=True)\n",
       "              (dropout): Dropout(p=0.1, inplace=False)\n",
       "            )\n",
       "          )\n",
       "          (intermediate): BertIntermediate(\n",
       "            (dense): Linear(in_features=768, out_features=3072, bias=True)\n",
       "            (intermediate_act_fn): GELUActivation()\n",
       "          )\n",
       "          (output): BertOutput(\n",
       "            (dense): Linear(in_features=3072, out_features=768, bias=True)\n",
       "            (LayerNorm): LayerNorm((768,), eps=1e-12, elementwise_affine=True)\n",
       "            (dropout): Dropout(p=0.1, inplace=False)\n",
       "          )\n",
       "        )\n",
       "        (11): BertLayer(\n",
       "          (attention): BertAttention(\n",
       "            (self): BertSelfAttention(\n",
       "              (query): Linear(in_features=768, out_features=768, bias=True)\n",
       "              (key): Linear(in_features=768, out_features=768, bias=True)\n",
       "              (value): Linear(in_features=768, out_features=768, bias=True)\n",
       "              (dropout): Dropout(p=0.1, inplace=False)\n",
       "            )\n",
       "            (output): BertSelfOutput(\n",
       "              (dense): Linear(in_features=768, out_features=768, bias=True)\n",
       "              (LayerNorm): LayerNorm((768,), eps=1e-12, elementwise_affine=True)\n",
       "              (dropout): Dropout(p=0.1, inplace=False)\n",
       "            )\n",
       "          )\n",
       "          (intermediate): BertIntermediate(\n",
       "            (dense): Linear(in_features=768, out_features=3072, bias=True)\n",
       "            (intermediate_act_fn): GELUActivation()\n",
       "          )\n",
       "          (output): BertOutput(\n",
       "            (dense): Linear(in_features=3072, out_features=768, bias=True)\n",
       "            (LayerNorm): LayerNorm((768,), eps=1e-12, elementwise_affine=True)\n",
       "            (dropout): Dropout(p=0.1, inplace=False)\n",
       "          )\n",
       "        )\n",
       "      )\n",
       "    )\n",
       "    (pooler): BertPooler(\n",
       "      (dense): Linear(in_features=768, out_features=768, bias=True)\n",
       "      (activation): Tanh()\n",
       "    )\n",
       "  )\n",
       "  (dropout): Dropout(p=0.1, inplace=False)\n",
       "  (classifier): Linear(in_features=768, out_features=5, bias=True)\n",
       ")"
      ]
     },
     "execution_count": 108,
     "metadata": {},
     "output_type": "execute_result"
    }
   ],
   "source": [
    "# Number of epochs\n",
    "num_epochs = 5\n",
    "\n",
    "# Number of training steps\n",
    "num_training_steps = num_epochs * len(train_dataloader)\n",
    "\n",
    "# Optimizer\n",
    "optimizer = AdamW(params=model.parameters(), lr=5e-6)\n",
    "\n",
    "# Set up the learning rate scheduler\n",
    "lr_scheduler = get_scheduler(name=\"linear\", \n",
    "                             optimizer=optimizer, \n",
    "                             num_warmup_steps=0, \n",
    "                             num_training_steps=num_training_steps)\n",
    "\n",
    "# Use GPU if it is available\n",
    "device = torch.device(\"cuda\") if torch.cuda.is_available() else torch.device(\"cpu\")\n",
    "model.to(device)"
   ]
  },
  {
   "cell_type": "code",
   "execution_count": null,
   "metadata": {
    "colab": {
     "base_uri": "https://localhost:8080/",
     "height": 49,
     "referenced_widgets": [
      "e41da80cecda491db2472245a51493fb",
      "03ddcbb8e4f44841916433e0f95051b8",
      "783345d4e1094bdf854b84220cd43231",
      "4bab330562794b118e05e2f8dbbe4bbc",
      "7babed65cb614de6a9475e019033c700",
      "785fb0702c85421b93d2b5be78a545de",
      "8b8f6151000e4aa3995a884a665e1169",
      "725ed2ea5cb244e8ad6633c163a5b431",
      "f8946c5df37d48d291b50dbf5db6c331",
      "a5f94b3d4db34238be8e7f3dadc7b3af",
      "10b3048e157747b9b53b634f252fe443"
     ]
    },
    "id": "vIIRddqM867b",
    "outputId": "6132a5cc-b04b-40fd-ce51-5b55b61894dd"
   },
   "outputs": [
    {
     "data": {
      "application/vnd.jupyter.widget-view+json": {
       "model_id": "e41da80cecda491db2472245a51493fb",
       "version_major": 2,
       "version_minor": 0
      },
      "text/plain": [
       "  0%|          | 0/165 [00:00<?, ?it/s]"
      ]
     },
     "metadata": {},
     "output_type": "display_data"
    }
   ],
   "source": [
    "# Set the progress bar\n",
    "progress_bar = tqdm(range(num_training_steps))\n",
    "\n",
    "# Tells the model that we are training the model\n",
    "model.train()\n",
    "# Loop through the epochs\n",
    "for epoch in range(num_epochs):\n",
    "    # Loop through the batches\n",
    "    for batch in train_dataloader:\n",
    "        # Get the batch\n",
    "        batch = {k: v.to(device) for k, v in batch.items()}\n",
    "        # Compute the model output for the batch\n",
    "        outputs = model(**batch)\n",
    "        # Loss computed by the model\n",
    "        loss = outputs.loss\n",
    "        # backpropagates the error to calculate gradients\n",
    "        loss.backward()\n",
    "        # Update the model weights\n",
    "        optimizer.step()\n",
    "        # Learning rate scheduler\n",
    "        lr_scheduler.step()\n",
    "        # Clear the gradients\n",
    "        optimizer.zero_grad()\n",
    "        # Update the progress bar\n",
    "        progress_bar.update(1)"
   ]
  },
  {
   "cell_type": "markdown",
   "metadata": {
    "id": "ER5aqMtt9vau"
   },
   "source": [
    "https://medium.com/grabngoinfo/transfer-learning-for-text-classification-using-pytorch-5e52045d55f8"
   ]
  },
  {
   "cell_type": "markdown",
   "metadata": {
    "id": "fCJJVARHxQ3D",
    "tags": []
   },
   "source": [
    "# A simple transformer"
   ]
  },
  {
   "cell_type": "markdown",
   "metadata": {
    "id": "0DVJrWtZLS6x"
   },
   "source": [
    "### Preprocessing"
   ]
  },
  {
   "cell_type": "markdown",
   "metadata": {
    "id": "bPDUaAl0L4Z7"
   },
   "source": [
    "Repeat some of the steps that were perfomed early:"
   ]
  },
  {
   "cell_type": "code",
   "execution_count": 15,
   "metadata": {},
   "outputs": [],
   "source": [
    "# Empty cache\n",
    "torch.cuda.empty_cache()"
   ]
  },
  {
   "cell_type": "code",
   "execution_count": 31,
   "metadata": {
    "id": "7_yaSMvsLH1p"
   },
   "outputs": [
    {
     "name": "stdout",
     "output_type": "stream",
     "text": [
      "Shape of the train_data: (32924, 2)\n",
      "Shape of the val_data: (4115, 2)\n",
      "Shape of the test_data: (4116, 2)\n",
      "Shape of the finel_test_raw_data: (3798, 1)\n"
     ]
    }
   ],
   "source": [
    "# first, we will split data by two samples: train and test in the proportion of 80:20\n",
    "train_data, test_data = train_test_split(train_raw_data, test_size=0.2, stratify=train_raw_data['Sentiment'], random_state=42)\n",
    "# then, we will split test data by two samples: validation and test in the proportion of 50:50 \n",
    "val_data, test_data = train_test_split(test_data, test_size=0.5, stratify=test_data['Sentiment'], random_state=42)\n",
    "\n",
    "print(f'Shape of the train_data: {train_data.shape}')\n",
    "print(f'Shape of the val_data: {val_data.shape}')\n",
    "print(f'Shape of the test_data: {test_data.shape}')\n",
    "print(f'Shape of the finel_test_raw_data: {subm_raw_data.shape}')\n",
    "\n",
    "train_dataset, val_dataset, test_dataset, subm_dataset = to_map_style_dataset(train_data.values), \\\n",
    "                                                               to_map_style_dataset(val_data.values), \\\n",
    "                                                               to_map_style_dataset(test_data.values), \\\n",
    "                                                               to_map_style_dataset(subm_raw_data.values)\n",
    "\n",
    "MAX_WORDS  = 40\n",
    "BATCH_SIZE = 1024\n",
    "\n",
    "def vectorize_batch(batch):\n",
    "  X, Y = list(zip(*batch))\n",
    "  X = [vocab(tokenizer(text)) for text in X] # tokenize and map tokens to indexes\n",
    "  X = [tokens+([0]*(MAX_WORDS - len(tokens))) if len(tokens) < MAX_WORDS else tokens[:MAX_WORDS] for tokens in X]\n",
    "  return torch.tensor(X, dtype=torch.int32, device=device), torch.tensor(Y, device=device)\n",
    "\n",
    "def vectorize_batch_for_submission(batch):\n",
    "  X = [vocab(tokenizer(text[0])) for text in batch] # tokenize and map tokens to indexes\n",
    "  X = [tokens+([0]*(MAX_WORDS - len(tokens))) if len(tokens) < MAX_WORDS else tokens[:MAX_WORDS] for tokens in X]\n",
    "  return torch.tensor(X, dtype=torch.int32, device=device), torch.tensor(Y, device=device)\n",
    "\n",
    "train_loader = DataLoader(train_dataset, batch_size=BATCH_SIZE, collate_fn=vectorize_batch, shuffle=True)\n",
    "val_loader   = DataLoader(val_dataset,   batch_size=BATCH_SIZE, collate_fn=vectorize_batch, shuffle=True)\n",
    "test_loader  = DataLoader(test_dataset , batch_size=BATCH_SIZE, collate_fn=vectorize_batch, shuffle=True)\n",
    "subm_loader  = DataLoader(subm_dataset , batch_size=BATCH_SIZE, collate_fn=vectorize_batch_for_submission)"
   ]
  },
  {
   "cell_type": "markdown",
   "metadata": {
    "id": "rX8rlkOJMezY"
   },
   "source": [
    "### Creating model"
   ]
  },
  {
   "cell_type": "code",
   "execution_count": 32,
   "metadata": {
    "id": "O5Aig4gfgsAp"
   },
   "outputs": [],
   "source": [
    "class ClsTransformer(nn.Module):\n",
    "    \"\"\"\n",
    "    Transformer for classifying sequences\n",
    "    \"\"\"\n",
    "\n",
    "    def __init__(self, emb, heads, depth, seq_length, num_tokens, num_classes, max_pool=True, dropout=0.0):\n",
    "        \"\"\"\n",
    "        :param emb: Embedding dimension\n",
    "        :param heads: nr. of attention heads\n",
    "        :param depth: Number of transformer blocks\n",
    "        :param seq_length: Expected maximum sequence length\n",
    "        :param num_tokens: Number of tokens (usually words) in the vocabulary\n",
    "        :param num_classes: Number of classes.\n",
    "        :param max_pool: If true, use global max pooling in the last layer. If false, use global\n",
    "                         average pooling.\n",
    "        \"\"\"\n",
    "        super().__init__()\n",
    "        self.num_tokens, self.max_pool = num_tokens, max_pool\n",
    "        self.token_embedding = nn.Embedding(num_embeddings=num_tokens, embedding_dim=emb)\n",
    "        self.pos_embedding = nn.Embedding(num_embeddings=seq_length, embedding_dim=emb)\n",
    "        self.unify_embeddings = nn.Linear(2 * emb, emb)\n",
    "\n",
    "        tblocks = []\n",
    "        for i in range(depth):\n",
    "            tblocks.append(\n",
    "                TransformerBlock(emb=emb, heads=heads, seq_length=seq_length, dropout=dropout))\n",
    "            \n",
    "        self.tblocks = nn.Sequential(*tblocks)\n",
    "        self.toprobs = nn.Linear(emb, num_classes)\n",
    "        self.do = nn.Dropout(dropout)\n",
    "\n",
    "    def forward(self, x):\n",
    "        \"\"\"\n",
    "        :param x: A batch by sequence length integer tensor of token indices.\n",
    "        :return: predicted log-probability vectors for each token based on the preceding tokens.\n",
    "        \"\"\"\n",
    "        tokens = self.token_embedding(x)\n",
    "        b, t, e = tokens.size()\n",
    "        positions = self.pos_embedding(torch.arange(t, device=device))[None, :, :].expand(b, t, e)\n",
    "        x = self.unify_embeddings(torch.cat((tokens, positions), dim=2).view(-1, 2 * e)).view(b, t, e)\n",
    "        x = self.do(x)\n",
    "        x = self.tblocks(x)\n",
    "        x = x.max(dim=1)[0] if self.max_pool else x.mean(dim=1) # pool over the time dimension\n",
    "        x = self.toprobs(x)\n",
    "        return F.log_softmax(x, dim=1)\n",
    "\n",
    "\n",
    "class SelfAttention(nn.Module):\n",
    "    def __init__(self, emb, heads=8):\n",
    "        \"\"\"\n",
    "        :param emb:\n",
    "        :param heads:\n",
    "        :param mask:\n",
    "        \"\"\"\n",
    "        super().__init__()\n",
    "\n",
    "        self.emb = emb\n",
    "        self.heads = heads\n",
    "\n",
    "        self.tokeys = nn.Linear(emb, emb * heads, bias=False)\n",
    "        self.toqueries = nn.Linear(emb, emb * heads, bias=False)\n",
    "        self.tovalues = nn.Linear(emb, emb * heads, bias=False)\n",
    "\n",
    "        self.unifyheads = nn.Linear(heads * emb, emb)\n",
    "\n",
    "    def forward(self, x):\n",
    "\n",
    "        b, t, e = x.size()\n",
    "        h = self.heads\n",
    "        assert e == self.emb, f'Input embedding dim ({e}) should match layer embedding dim ({self.emb})'\n",
    "\n",
    "        keys    = self.tokeys(x)   .view(b, t, h, e)\n",
    "        queries = self.toqueries(x).view(b, t, h, e)\n",
    "        values  = self.tovalues(x) .view(b, t, h, e)\n",
    "\n",
    "        # compute scaled dot-product self-attention\n",
    "\n",
    "        # - fold heads into the batch dimension\n",
    "        keys = keys.transpose(1, 2).contiguous().view(b * h, t, e)\n",
    "        queries = queries.transpose(1, 2).contiguous().view(b * h, t, e)\n",
    "        values = values.transpose(1, 2).contiguous().view(b * h, t, e)\n",
    "\n",
    "        # - get dot product of queries and keys, and scale\n",
    "        dot = torch.bmm(queries, keys.transpose(1, 2))\n",
    "        dot = dot / math.sqrt(e) # dot contains b*h  t-by-t matrices with raw self-attention logits\n",
    "\n",
    "        assert dot.size() == (b*h, t, t), f'Matrix has size {dot.size()}, expected {(b*h, t, t)}.'\n",
    "\n",
    "        dot = F.softmax(dot, dim=2) # dot now has row-wise self-attention probabilities\n",
    "\n",
    "        # apply the self attention to the values\n",
    "        out = torch.bmm(dot, values).view(b, h, t, e)\n",
    "\n",
    "        # swap h, t back, unify heads\n",
    "        out = out.transpose(1, 2).contiguous().view(b, t, h * e)\n",
    "\n",
    "        return self.unifyheads(out)\n",
    "\n",
    "\n",
    "class TransformerBlock(nn.Module):\n",
    "    def __init__(self, emb, heads, seq_length, ff_hidden_mult=5, dropout=0.4):\n",
    "        super().__init__()\n",
    "        self.attention = SelfAttention(emb, heads=heads)\n",
    "        self.norm1 = nn.LayerNorm(emb)\n",
    "        self.norm2 = nn.LayerNorm(emb)\n",
    "        self.ff = nn.Sequential(\n",
    "            nn.Linear(emb, ff_hidden_mult * emb),\n",
    "            nn.ReLU(),\n",
    "            nn.Linear(ff_hidden_mult * emb, emb),\n",
    "            nn.Linear(emb, ff_hidden_mult * emb),\n",
    "            nn.ReLU(),\n",
    "            nn.Linear(ff_hidden_mult * emb, emb),\n",
    "        )\n",
    "        self.do = nn.Dropout(dropout)\n",
    "\n",
    "    def forward(self, x):\n",
    "        attended = self.attention(x)\n",
    "        x = self.norm1(attended + x)\n",
    "        x = self.do(x)\n",
    "        feedforward = self.ff(x)\n",
    "        x = self.norm2(feedforward + x)\n",
    "        x = self.do(x)\n",
    "        return x       "
   ]
  },
  {
   "cell_type": "markdown",
   "metadata": {
    "id": "ltdCCbnlMpKT"
   },
   "source": [
    "### Training and evaluating"
   ]
  },
  {
   "cell_type": "code",
   "execution_count": 33,
   "metadata": {
    "id": "6ie6SHCoIIj8"
   },
   "outputs": [
    {
     "name": "stderr",
     "output_type": "stream",
     "text": [
      "100%|██████████| 33/33 [00:04<00:00,  7.12it/s]\n"
     ]
    },
    {
     "name": "stdout",
     "output_type": "stream",
     "text": [
      "Train Loss: 1.564\n"
     ]
    },
    {
     "name": "stderr",
     "output_type": "stream",
     "text": [
      "100%|██████████| 5/5 [00:00<00:00, 19.81it/s]\n"
     ]
    },
    {
     "name": "stdout",
     "output_type": "stream",
     "text": [
      "Valid Loss: 1.515\n",
      "Epoch: 1, Valid Acc : 0.313\n"
     ]
    },
    {
     "name": "stderr",
     "output_type": "stream",
     "text": [
      "100%|██████████| 33/33 [00:03<00:00, 10.52it/s]\n"
     ]
    },
    {
     "name": "stdout",
     "output_type": "stream",
     "text": [
      "Train Loss: 1.470\n"
     ]
    },
    {
     "name": "stderr",
     "output_type": "stream",
     "text": [
      "100%|██████████| 5/5 [00:00<00:00, 32.05it/s]\n"
     ]
    },
    {
     "name": "stdout",
     "output_type": "stream",
     "text": [
      "Valid Loss: 1.420\n",
      "Epoch: 2, Valid Acc : 0.372\n"
     ]
    },
    {
     "name": "stderr",
     "output_type": "stream",
     "text": [
      "100%|██████████| 33/33 [00:03<00:00, 10.43it/s]\n"
     ]
    },
    {
     "name": "stdout",
     "output_type": "stream",
     "text": [
      "Train Loss: 1.308\n"
     ]
    },
    {
     "name": "stderr",
     "output_type": "stream",
     "text": [
      "100%|██████████| 5/5 [00:00<00:00, 32.23it/s]\n"
     ]
    },
    {
     "name": "stdout",
     "output_type": "stream",
     "text": [
      "Valid Loss: 1.268\n",
      "Epoch: 3, Valid Acc : 0.453\n"
     ]
    },
    {
     "name": "stderr",
     "output_type": "stream",
     "text": [
      "100%|██████████| 33/33 [00:03<00:00, 10.54it/s]\n"
     ]
    },
    {
     "name": "stdout",
     "output_type": "stream",
     "text": [
      "Train Loss: 1.126\n"
     ]
    },
    {
     "name": "stderr",
     "output_type": "stream",
     "text": [
      "100%|██████████| 5/5 [00:00<00:00, 32.67it/s]\n"
     ]
    },
    {
     "name": "stdout",
     "output_type": "stream",
     "text": [
      "Valid Loss: 1.097\n",
      "Epoch: 4, Valid Acc : 0.522\n"
     ]
    },
    {
     "name": "stderr",
     "output_type": "stream",
     "text": [
      "100%|██████████| 33/33 [00:03<00:00, 10.47it/s]\n"
     ]
    },
    {
     "name": "stdout",
     "output_type": "stream",
     "text": [
      "Train Loss: 0.964\n"
     ]
    },
    {
     "name": "stderr",
     "output_type": "stream",
     "text": [
      "100%|██████████| 5/5 [00:00<00:00, 32.25it/s]\n"
     ]
    },
    {
     "name": "stdout",
     "output_type": "stream",
     "text": [
      "Valid Loss: 1.074\n",
      "Epoch: 5, Valid Acc : 0.582\n"
     ]
    },
    {
     "name": "stderr",
     "output_type": "stream",
     "text": [
      "100%|██████████| 33/33 [00:03<00:00, 10.42it/s]\n"
     ]
    },
    {
     "name": "stdout",
     "output_type": "stream",
     "text": [
      "Train Loss: 0.819\n"
     ]
    },
    {
     "name": "stderr",
     "output_type": "stream",
     "text": [
      "100%|██████████| 5/5 [00:00<00:00, 32.15it/s]\n"
     ]
    },
    {
     "name": "stdout",
     "output_type": "stream",
     "text": [
      "Valid Loss: 1.016\n",
      "Epoch: 6, Valid Acc : 0.610\n"
     ]
    },
    {
     "name": "stderr",
     "output_type": "stream",
     "text": [
      "100%|██████████| 33/33 [00:03<00:00, 10.53it/s]\n"
     ]
    },
    {
     "name": "stdout",
     "output_type": "stream",
     "text": [
      "Train Loss: 0.706\n"
     ]
    },
    {
     "name": "stderr",
     "output_type": "stream",
     "text": [
      "100%|██████████| 5/5 [00:00<00:00, 32.78it/s]\n"
     ]
    },
    {
     "name": "stdout",
     "output_type": "stream",
     "text": [
      "Valid Loss: 0.883\n",
      "Epoch: 7, Valid Acc : 0.641\n"
     ]
    },
    {
     "name": "stderr",
     "output_type": "stream",
     "text": [
      "100%|██████████| 33/33 [00:03<00:00, 10.56it/s]\n"
     ]
    },
    {
     "name": "stdout",
     "output_type": "stream",
     "text": [
      "Train Loss: 0.602\n"
     ]
    },
    {
     "name": "stderr",
     "output_type": "stream",
     "text": [
      "100%|██████████| 5/5 [00:00<00:00, 32.46it/s]\n"
     ]
    },
    {
     "name": "stdout",
     "output_type": "stream",
     "text": [
      "Valid Loss: 0.964\n",
      "Epoch: 8, Valid Acc : 0.635\n"
     ]
    },
    {
     "name": "stderr",
     "output_type": "stream",
     "text": [
      "100%|██████████| 33/33 [00:03<00:00, 10.46it/s]\n"
     ]
    },
    {
     "name": "stdout",
     "output_type": "stream",
     "text": [
      "Train Loss: 0.538\n"
     ]
    },
    {
     "name": "stderr",
     "output_type": "stream",
     "text": [
      "100%|██████████| 5/5 [00:00<00:00, 32.23it/s]\n"
     ]
    },
    {
     "name": "stdout",
     "output_type": "stream",
     "text": [
      "Valid Loss: 0.992\n",
      "Epoch: 9, Valid Acc : 0.658\n"
     ]
    },
    {
     "name": "stderr",
     "output_type": "stream",
     "text": [
      "100%|██████████| 33/33 [00:03<00:00, 10.56it/s]\n"
     ]
    },
    {
     "name": "stdout",
     "output_type": "stream",
     "text": [
      "Train Loss: 0.452\n"
     ]
    },
    {
     "name": "stderr",
     "output_type": "stream",
     "text": [
      "100%|██████████| 5/5 [00:00<00:00, 32.46it/s]\n"
     ]
    },
    {
     "name": "stdout",
     "output_type": "stream",
     "text": [
      "Valid Loss: 1.066\n",
      "Epoch: 10, Valid Acc : 0.636\n"
     ]
    },
    {
     "name": "stderr",
     "output_type": "stream",
     "text": [
      "100%|██████████| 33/33 [00:03<00:00, 10.45it/s]\n"
     ]
    },
    {
     "name": "stdout",
     "output_type": "stream",
     "text": [
      "Train Loss: 0.397\n"
     ]
    },
    {
     "name": "stderr",
     "output_type": "stream",
     "text": [
      "100%|██████████| 5/5 [00:00<00:00, 32.15it/s]\n"
     ]
    },
    {
     "name": "stdout",
     "output_type": "stream",
     "text": [
      "Valid Loss: 0.986\n",
      "Epoch: 11, Valid Acc : 0.671\n"
     ]
    },
    {
     "name": "stderr",
     "output_type": "stream",
     "text": [
      "100%|██████████| 33/33 [00:03<00:00, 10.48it/s]\n"
     ]
    },
    {
     "name": "stdout",
     "output_type": "stream",
     "text": [
      "Train Loss: 0.320\n"
     ]
    },
    {
     "name": "stderr",
     "output_type": "stream",
     "text": [
      "100%|██████████| 5/5 [00:00<00:00, 31.95it/s]\n"
     ]
    },
    {
     "name": "stdout",
     "output_type": "stream",
     "text": [
      "Valid Loss: 1.105\n",
      "Epoch: 12, Valid Acc : 0.660\n"
     ]
    },
    {
     "name": "stderr",
     "output_type": "stream",
     "text": [
      "100%|██████████| 33/33 [00:03<00:00, 10.57it/s]\n"
     ]
    },
    {
     "name": "stdout",
     "output_type": "stream",
     "text": [
      "Train Loss: 0.291\n"
     ]
    },
    {
     "name": "stderr",
     "output_type": "stream",
     "text": [
      "100%|██████████| 5/5 [00:00<00:00, 32.86it/s]\n"
     ]
    },
    {
     "name": "stdout",
     "output_type": "stream",
     "text": [
      "Valid Loss: 1.112\n",
      "Epoch: 13, Valid Acc : 0.662\n"
     ]
    },
    {
     "name": "stderr",
     "output_type": "stream",
     "text": [
      "100%|██████████| 33/33 [00:03<00:00, 10.56it/s]\n"
     ]
    },
    {
     "name": "stdout",
     "output_type": "stream",
     "text": [
      "Train Loss: 0.234\n"
     ]
    },
    {
     "name": "stderr",
     "output_type": "stream",
     "text": [
      "100%|██████████| 5/5 [00:00<00:00, 32.27it/s]\n"
     ]
    },
    {
     "name": "stdout",
     "output_type": "stream",
     "text": [
      "Valid Loss: 1.028\n",
      "Epoch: 14, Valid Acc : 0.665\n"
     ]
    },
    {
     "name": "stderr",
     "output_type": "stream",
     "text": [
      "100%|██████████| 33/33 [00:03<00:00, 10.22it/s]\n"
     ]
    },
    {
     "name": "stdout",
     "output_type": "stream",
     "text": [
      "Train Loss: 0.214\n"
     ]
    },
    {
     "name": "stderr",
     "output_type": "stream",
     "text": [
      "100%|██████████| 5/5 [00:00<00:00, 31.84it/s]"
     ]
    },
    {
     "name": "stdout",
     "output_type": "stream",
     "text": [
      "Valid Loss: 1.280\n",
      "Epoch: 15, Valid Acc : 0.657\n"
     ]
    },
    {
     "name": "stderr",
     "output_type": "stream",
     "text": [
      "\n"
     ]
    }
   ],
   "source": [
    "EPOCHS  = 15\n",
    "MODEL   = ClsTransformer(\n",
    "                emb=50,\n",
    "                heads=1,\n",
    "                depth=6,\n",
    "                seq_length=MAX_WORDS, \n",
    "                num_tokens=len(vocab),\n",
    "                num_classes=5\n",
    "            )\n",
    "LR      = 1e-2\n",
    "OPT     = AdamW(MODEL.parameters(), lr=LR, weight_decay=5e-2)\n",
    "LR_SCHD = LinearLR(OPT, total_iters=(EPOCHS * len(train_loader)))\n",
    "LOSS_FN = nn.CrossEntropyLoss()\n",
    "PATH    = '/content/checkpoints/simple_transformer'\n",
    "\n",
    "for epoch in range(1, EPOCHS + 1):\n",
    "    # Training\n",
    "    train_losses, val_losses, val_accs = [], [], []\n",
    "    MODEL.train()\n",
    "    for X, Y in tqdm(train_loader):\n",
    "        X, Y, MODEL = X.to(device), Y.to(device), MODEL.to(device)\n",
    "\n",
    "        Y_preds = MODEL(X)\n",
    "\n",
    "        loss = LOSS_FN(Y_preds, Y)\n",
    "        train_losses.append(loss)\n",
    "\n",
    "        OPT.zero_grad()\n",
    "\n",
    "        loss.backward()\n",
    "        OPT.step()\n",
    "    train_loss = torch.tensor(train_losses).mean()\n",
    "    print(f'Train Loss: {train_loss:.3f}')\n",
    "\n",
    "    # Evaluation\n",
    "    MODEL.eval()\n",
    "    with torch.no_grad():\n",
    "        Y_shuffled, Y_preds, losses = [], [], []\n",
    "        for X, Y in tqdm(val_loader):\n",
    "            preds = MODEL(X)\n",
    "            loss = LOSS_FN(preds, Y)\n",
    "            losses.append(loss)\n",
    "\n",
    "            Y_shuffled.append(Y)\n",
    "            Y_preds.append(preds.argmax(dim=-1))\n",
    "\n",
    "        Y_shuffled = torch.cat(Y_shuffled)\n",
    "        Y_preds    = torch.cat(Y_preds)\n",
    "\n",
    "        valid_loss = torch.tensor(losses).to(device).mean()\n",
    "        valid_acc  = accuracy_score(\n",
    "                        Y_shuffled.cpu().detach().numpy(),\n",
    "                        Y_preds.cpu().detach().numpy()\n",
    "                        )\n",
    "        print(f'Valid Loss: {valid_loss:.3f}')\n",
    "        print(f'Epoch: {epoch}, Valid Acc : {valid_acc:.3f}')\n",
    "    \n",
    "    LR_SCHD.step()\n",
    "\n",
    "    train_losses.append(train_loss)\n",
    "    val_losses.append(valid_loss)\n",
    "    val_accs.append(valid_acc)"
   ]
  },
  {
   "cell_type": "code",
   "execution_count": null,
   "metadata": {
    "id": "dRScDGmBK__F"
   },
   "outputs": [],
   "source": []
  },
  {
   "cell_type": "markdown",
   "metadata": {
    "id": "cUHWfWK5OQg6"
   },
   "source": [
    "# HuggingFace BERT transformer"
   ]
  },
  {
   "cell_type": "code",
   "execution_count": 18,
   "metadata": {
    "id": "bNAVkSkmOV_G"
   },
   "outputs": [
    {
     "name": "stdout",
     "output_type": "stream",
     "text": [
      "Shape of the train_data: (32924, 2)\n",
      "Shape of the val_data: (4115, 2)\n",
      "Shape of the test_data: (4116, 2)\n",
      "Shape of the finel_test_raw_data: (3798, 1)\n"
     ]
    }
   ],
   "source": [
    "# first, we will split data by two samples: train and test in the proportion of 80:20\n",
    "train_data, test_data = train_test_split(train_raw_data, test_size=0.2, stratify=train_raw_data['Sentiment'], random_state=42)\n",
    "# then, we will split test data by two samples: validation and test in the proportion of 50:50 \n",
    "val_data, test_data = train_test_split(test_data, test_size=0.5, stratify=test_data['Sentiment'], random_state=42)\n",
    "\n",
    "print(f'Shape of the train_data: {train_data.shape}')\n",
    "print(f'Shape of the val_data: {val_data.shape}')\n",
    "print(f'Shape of the test_data: {test_data.shape}')\n",
    "print(f'Shape of the finel_test_raw_data: {subm_raw_data.shape}')"
   ]
  },
  {
   "cell_type": "code",
   "execution_count": 19,
   "metadata": {
    "id": "eCi7Ey3uOyYa"
   },
   "outputs": [
    {
     "name": "stdout",
     "output_type": "stream",
     "text": [
      "Dataset({\n",
      "    features: ['Text', 'Sentiment', '__index_level_0__'],\n",
      "    num_rows: 32924\n",
      "})\n",
      "Dataset({\n",
      "    features: ['Text', 'Sentiment', '__index_level_0__'],\n",
      "    num_rows: 4115\n",
      "})\n",
      "Dataset({\n",
      "    features: ['Text', 'Sentiment', '__index_level_0__'],\n",
      "    num_rows: 4116\n",
      "})\n",
      "Dataset({\n",
      "    features: ['Text'],\n",
      "    num_rows: 3798\n",
      "})\n"
     ]
    }
   ],
   "source": [
    "# Convert pandas dataframe to Hugging Face arrow dataset\n",
    "hg_train_data = Dataset.from_pandas(train_data)\n",
    "hg_val_data = Dataset.from_pandas(val_data)\n",
    "hg_test_data = Dataset.from_pandas(test_data)\n",
    "hg_subm_data = Dataset.from_pandas(subm_raw_data)\n",
    "\n",
    "print(hg_train_data)\n",
    "print(hg_val_data)\n",
    "print(hg_test_data)\n",
    "print(hg_subm_data)"
   ]
  },
  {
   "cell_type": "code",
   "execution_count": 20,
   "metadata": {
    "id": "bTkWhIL5PSvf"
   },
   "outputs": [
    {
     "data": {
      "text/plain": [
       "BertTokenizerFast(name_or_path='LIALLIES/finetune-bert-base-cased', vocab_size=28996, model_max_length=512, is_fast=True, padding_side='right', truncation_side='right', special_tokens={'unk_token': '[UNK]', 'sep_token': '[SEP]', 'pad_token': '[PAD]', 'cls_token': '[CLS]', 'mask_token': '[MASK]'})"
      ]
     },
     "execution_count": 20,
     "metadata": {},
     "output_type": "execute_result"
    }
   ],
   "source": [
    "checkpoint = \"LIALLIES/finetune-bert-base-cased\"\n",
    "\n",
    "# Tokenizer from a pretrained model\n",
    "tokenizer = AutoTokenizer.from_pretrained(checkpoint)\n",
    "\n",
    "# Take a look at the tokenizer\n",
    "tokenizer"
   ]
  },
  {
   "cell_type": "code",
   "execution_count": 21,
   "metadata": {
    "id": "2rXr_UPJPWC7"
   },
   "outputs": [
    {
     "name": "stdout",
     "output_type": "stream",
     "text": [
      "The unknown token is [UNK] and the ID for the unknown token is 100.\n",
      "The seperator token is [SEP] and the ID for the seperator token is 102.\n",
      "The pad token is [PAD] and the ID for the pad token is 0.\n",
      "The sentence level classification token is [CLS] and the ID for the classification token is 101.\n",
      "The mask token is [MASK] and the ID for the mask token is 103.\n"
     ]
    }
   ],
   "source": [
    "# Mapping between special tokens and their IDs.\n",
    "print(f'The unknown token is {tokenizer.unk_token} and the ID for the unknown token is {tokenizer.unk_token_id}.')\n",
    "print(f'The seperator token is {tokenizer.sep_token} and the ID for the seperator token is {tokenizer.sep_token_id}.')\n",
    "print(f'The pad token is {tokenizer.pad_token} and the ID for the pad token is {tokenizer.pad_token_id}.')\n",
    "print(f'The sentence level classification token is {tokenizer.cls_token} and the ID for the classification token is {tokenizer.cls_token_id}.')\n",
    "print(f'The mask token is {tokenizer.mask_token} and the ID for the mask token is {tokenizer.mask_token_id}.')"
   ]
  },
  {
   "cell_type": "code",
   "execution_count": 22,
   "metadata": {
    "id": "F5z8gg69PZtB"
   },
   "outputs": [
    {
     "name": "stderr",
     "output_type": "stream",
     "text": [
      "                                                                    \r"
     ]
    }
   ],
   "source": [
    "# Funtion to tokenize data\n",
    "def tokenize_function(data):\n",
    "    return tokenizer(data[\"Text\"],\n",
    "                     max_length=40,\n",
    "                     truncation=True)\n",
    "\n",
    "# Tokenize the dataset\n",
    "dataset_train = hg_train_data.map(tokenize_function, batched=True)\n",
    "dataset_val = hg_val_data.map(tokenize_function, batched=True)\n",
    "dataset_test = hg_test_data.map(tokenize_function, batched=True)\n",
    "dataset_subm = hg_subm_data.map(tokenize_function, batched=True)\n",
    "\n",
    "data_collator = DataCollatorWithPadding(tokenizer=tokenizer)"
   ]
  },
  {
   "cell_type": "code",
   "execution_count": 23,
   "metadata": {
    "id": "iTdWMMXMPgKt"
   },
   "outputs": [
    {
     "name": "stdout",
     "output_type": "stream",
     "text": [
      "Dataset({\n",
      "    features: ['Text', 'Sentiment', '__index_level_0__', 'input_ids', 'token_type_ids', 'attention_mask'],\n",
      "    num_rows: 32924\n",
      "})\n",
      "Dataset({\n",
      "    features: ['Text', 'Sentiment', '__index_level_0__', 'input_ids', 'token_type_ids', 'attention_mask'],\n",
      "    num_rows: 4115\n",
      "})\n",
      "Dataset({\n",
      "    features: ['Text', 'Sentiment', '__index_level_0__', 'input_ids', 'token_type_ids', 'attention_mask'],\n",
      "    num_rows: 4116\n",
      "})\n",
      "Dataset({\n",
      "    features: ['Text', 'input_ids', 'token_type_ids', 'attention_mask'],\n",
      "    num_rows: 3798\n",
      "})\n"
     ]
    }
   ],
   "source": [
    "# Take a look at the data\n",
    "print(dataset_train)\n",
    "print(dataset_val)\n",
    "print(dataset_test)\n",
    "print(dataset_subm)"
   ]
  },
  {
   "cell_type": "code",
   "execution_count": 24,
   "metadata": {
    "id": "vMGyJ2R_PhFT"
   },
   "outputs": [
    {
     "name": "stdout",
     "output_type": "stream",
     "text": [
      "Dataset({\n",
      "    features: ['labels', 'input_ids', 'token_type_ids', 'attention_mask'],\n",
      "    num_rows: 32924\n",
      "})\n",
      "Dataset({\n",
      "    features: ['labels', 'input_ids', 'token_type_ids', 'attention_mask'],\n",
      "    num_rows: 4115\n",
      "})\n",
      "Dataset({\n",
      "    features: ['labels', 'input_ids', 'token_type_ids', 'attention_mask'],\n",
      "    num_rows: 4116\n",
      "})\n",
      "Dataset({\n",
      "    features: ['input_ids', 'token_type_ids', 'attention_mask'],\n",
      "    num_rows: 3798\n",
      "})\n"
     ]
    }
   ],
   "source": [
    "# Remove the review and index columns because it will not be used in the model\n",
    "dataset_train = dataset_train.remove_columns([\"Text\", \"__index_level_0__\"])\n",
    "dataset_val = dataset_val.remove_columns([\"Text\", \"__index_level_0__\"])\n",
    "dataset_test = dataset_test.remove_columns([\"Text\", \"__index_level_0__\"])\n",
    "dataset_subm = dataset_subm.remove_columns([\"Text\"])\n",
    "\n",
    "# Rename label to labels because the model expects the name labels\n",
    "dataset_train = dataset_train.rename_column(\"Sentiment\", \"labels\")\n",
    "dataset_val = dataset_val.rename_column(\"Sentiment\", \"labels\")\n",
    "dataset_test = dataset_test.rename_column(\"Sentiment\", \"labels\")\n",
    "\n",
    "# Change the format to PyTorch tensors\n",
    "dataset_train.set_format(\"torch\")\n",
    "dataset_val.set_format(\"torch\")\n",
    "dataset_test.set_format(\"torch\")\n",
    "dataset_subm.set_format(\"torch\")\n",
    "\n",
    "# Take a look at the data\n",
    "print(dataset_train)\n",
    "print(dataset_val)\n",
    "print(dataset_test)\n",
    "print(dataset_subm)"
   ]
  },
  {
   "cell_type": "code",
   "execution_count": 25,
   "metadata": {
    "id": "l_H0tB46PlcN"
   },
   "outputs": [],
   "source": [
    "# Empty cache\n",
    "torch.cuda.empty_cache()\n",
    "\n",
    "BATCH_SIZE = 128\n",
    "\n",
    "# DataLoader\n",
    "train_dataloader = DataLoader(dataset=dataset_train, batch_size=BATCH_SIZE, collate_fn=data_collator,  shuffle=True)\n",
    "val_dataloader   = DataLoader(dataset=dataset_val,   batch_size=BATCH_SIZE, collate_fn=data_collator)\n",
    "test_dataloader  = DataLoader(dataset=dataset_test,  batch_size=BATCH_SIZE, collate_fn=data_collator)\n",
    "subm_dataloader  = DataLoader(dataset=dataset_subm,  batch_size=BATCH_SIZE, collate_fn=data_collator)"
   ]
  },
  {
   "cell_type": "code",
   "execution_count": 26,
   "metadata": {
    "id": "IoI2gX6zPv8U"
   },
   "outputs": [
    {
     "name": "stderr",
     "output_type": "stream",
     "text": [
      "You're using a BertTokenizerFast tokenizer. Please note that with a fast tokenizer, using the `__call__` method is faster than using a method to encode the text followed by a call to the `pad` method to get a padded encoding.\n"
     ]
    },
    {
     "data": {
      "text/plain": [
       "{'labels': torch.Size([128]),\n",
       " 'input_ids': torch.Size([128, 40]),\n",
       " 'token_type_ids': torch.Size([128, 40]),\n",
       " 'attention_mask': torch.Size([128, 40])}"
      ]
     },
     "execution_count": 26,
     "metadata": {},
     "output_type": "execute_result"
    }
   ],
   "source": [
    "# inspect the batch\n",
    "for batch in train_dataloader:\n",
    "  break\n",
    "{k: v.shape for k, v in batch.items()}"
   ]
  },
  {
   "cell_type": "code",
   "execution_count": 27,
   "metadata": {
    "id": "tTSmPBenPy6B",
    "tags": []
   },
   "outputs": [],
   "source": [
    "# Load model\n",
    "model = AutoModelForSequenceClassification.from_pretrained(checkpoint, num_labels=5)\n",
    "# model.to(device)"
   ]
  },
  {
   "cell_type": "code",
   "execution_count": 28,
   "metadata": {
    "id": "_J-YDrmlP2aQ"
   },
   "outputs": [
    {
     "name": "stdout",
     "output_type": "stream",
     "text": [
      "tensor(1.6408, grad_fn=<NllLossBackward0>) torch.Size([128, 5])\n"
     ]
    }
   ],
   "source": [
    "# pass one batch to this model to make sure that everything is ok\n",
    "outputs = model(**batch)\n",
    "print(outputs.loss, outputs.logits.shape)"
   ]
  },
  {
   "cell_type": "code",
   "execution_count": 30,
   "metadata": {
    "id": "Yr2TIEfQP6uH"
   },
   "outputs": [
    {
     "name": "stdout",
     "output_type": "stream",
     "text": [
      "Number of the training steps: 1290\n"
     ]
    }
   ],
   "source": [
    "# Number of epochs\n",
    "num_epochs = 5\n",
    "\n",
    "# Number of training steps\n",
    "num_training_steps = num_epochs * len(train_dataloader)\n",
    "\n",
    "# Optimizer\n",
    "optimizer = AdamW(params=model.parameters(), lr=3e-5)\n",
    "\n",
    "# Set up the learning rate scheduler\n",
    "lr_scheduler = get_scheduler(name=\"linear\", \n",
    "                             optimizer=optimizer, \n",
    "                             num_warmup_steps=0, \n",
    "                             num_training_steps=num_training_steps)\n",
    "\n",
    "print(f'Number of the training steps: {num_training_steps}')"
   ]
  },
  {
   "cell_type": "code",
   "execution_count": 31,
   "metadata": {},
   "outputs": [
    {
     "name": "stdout",
     "output_type": "stream",
     "text": [
      "cuda\n"
     ]
    }
   ],
   "source": [
    "# Use GPU if it is available\n",
    "device = torch.device(\"cuda\") if torch.cuda.is_available() else torch.device(\"cpu\")\n",
    "model.to(device)\n",
    "print(device)"
   ]
  },
  {
   "cell_type": "code",
   "execution_count": 32,
   "metadata": {
    "id": "joXPzr99QAvZ"
   },
   "outputs": [
    {
     "name": "stderr",
     "output_type": "stream",
     "text": [
      " 20%|██        | 258/1290 [02:05<06:31,  2.64it/s]"
     ]
    },
    {
     "name": "stdout",
     "output_type": "stream",
     "text": [
      "Epoch: 1: {'recall': {'recall': 0.6942891859052248}, 'precision': {'precision': 0.6996470175668906}, 'f1': {'f1': 0.6948410849999913}, 'accuracy': {'accuracy': 0.6942891859052248}}\n"
     ]
    },
    {
     "name": "stderr",
     "output_type": "stream",
     "text": [
      " 40%|████      | 516/1290 [04:16<04:55,  2.62it/s]"
     ]
    },
    {
     "name": "stdout",
     "output_type": "stream",
     "text": [
      "Epoch: 2: {'recall': {'recall': 0.7285540704738761}, 'precision': {'precision': 0.7380199443649433}, 'f1': {'f1': 0.7287575781882405}, 'accuracy': {'accuracy': 0.7285540704738761}}\n"
     ]
    },
    {
     "name": "stderr",
     "output_type": "stream",
     "text": [
      " 60%|██████    | 774/1290 [06:26<03:17,  2.62it/s]"
     ]
    },
    {
     "name": "stdout",
     "output_type": "stream",
     "text": [
      "Epoch: 3: {'recall': {'recall': 0.732442284325638}, 'precision': {'precision': 0.7381027544557097}, 'f1': {'f1': 0.7339154430399957}, 'accuracy': {'accuracy': 0.732442284325638}}\n"
     ]
    },
    {
     "name": "stderr",
     "output_type": "stream",
     "text": [
      " 80%|████████  | 1032/1290 [08:46<01:38,  2.61it/s]"
     ]
    },
    {
     "name": "stdout",
     "output_type": "stream",
     "text": [
      "Epoch: 4: {'recall': {'recall': 0.740947752126367}, 'precision': {'precision': 0.7453086324837828}, 'f1': {'f1': 0.741729210924675}, 'accuracy': {'accuracy': 0.740947752126367}}\n"
     ]
    },
    {
     "name": "stderr",
     "output_type": "stream",
     "text": [
      "100%|██████████| 1290/1290 [12:03<00:00,  1.69it/s]"
     ]
    },
    {
     "name": "stdout",
     "output_type": "stream",
     "text": [
      "Epoch: 5: {'recall': {'recall': 0.7407047387606318}, 'precision': {'precision': 0.7432819122312416}, 'f1': {'f1': 0.7414850695279216}, 'accuracy': {'accuracy': 0.7407047387606318}}\n"
     ]
    },
    {
     "data": {
      "image/png": "[encoded data removed]",
      "text/plain": [
       "<Figure size 1000x700 with 1 Axes>"
      ]
     },
     "metadata": {},
     "output_type": "display_data"
    }
   ],
   "source": [
    "recall_metric = evaluate.load('recall')\n",
    "precision_metric = evaluate.load('precision')\n",
    "f1_metric = evaluate.load('f1')\n",
    "accuracy_metric = evaluate.load('accuracy')\n",
    "\n",
    "# Set the progress bar\n",
    "progress_bar = tqdm(range(num_training_steps))\n",
    "\n",
    "best_accuracy = 0\n",
    "prec_list_to_plot = []\n",
    "rec_list_to_plot = []\n",
    "f1_list_to_plot = []\n",
    "acc_list_to_plot = []\n",
    "\n",
    "# Loop through the epochs\n",
    "for epoch in range(1, num_epochs + 1):\n",
    "    # Tells the model that we are training the model\n",
    "    model.train()\n",
    "    # Loop through the batches\n",
    "    for batch in train_dataloader:\n",
    "        # Get the batch\n",
    "        batch = {k: v.to(device) for k, v in batch.items()}\n",
    "        # Compute the model output for the batch\n",
    "        outputs = model(**batch)\n",
    "        # Loss computed by the model\n",
    "        loss = outputs.loss\n",
    "        # backpropagates the error to calculate gradients\n",
    "        loss.backward()\n",
    "        # Update the model weights\n",
    "        optimizer.step()\n",
    "        # Learning rate scheduler\n",
    "        lr_scheduler.step()\n",
    "        # Clear the gradients\n",
    "        optimizer.zero_grad()\n",
    "        # Update the progress bar\n",
    "        progress_bar.update(1)\n",
    "\n",
    "    # Evaluation\n",
    "    model.eval()\n",
    "    for batch in val_dataloader:\n",
    "        batch = {k: v.to(device) for k, v in batch.items()}\n",
    "        with torch.no_grad():\n",
    "          outputs = model(**batch)\n",
    "\n",
    "        logits = outputs.logits\n",
    "        predictions = torch.argmax(logits, dim=-1)\n",
    "\n",
    "        recall_metric.add_batch(predictions=predictions, references=batch['labels'])\n",
    "        precision_metric.add_batch(predictions=predictions, references=batch['labels'])\n",
    "        f1_metric.add_batch(predictions=predictions, references=batch['labels'])\n",
    "        accuracy_metric.add_batch(predictions=predictions, references=batch['labels'])\n",
    "    \n",
    "    results = {\n",
    "        'recall': recall_metric.compute(average='weighted'),\n",
    "        'precision': precision_metric.compute(average='weighted'),\n",
    "        'f1': f1_metric.compute(average='weighted'),\n",
    "        'accuracy': accuracy_metric.compute()\n",
    "    }\n",
    "    \n",
    "    print(\n",
    "        f'Epoch: {epoch}:',\n",
    "        {\n",
    "            key: value\n",
    "            for key, value in results.items()\n",
    "        },\n",
    "    )\n",
    "\n",
    "    prec_list_to_plot.append(results['recall'])\n",
    "    rec_list_to_plot.append(results['precision'])\n",
    "    f1_list_to_plot.append(results['f1'])\n",
    "    acc_list_to_plot.append(results['accuracy']['accuracy'])\n",
    "\n",
    "    if results['accuracy']['accuracy'] > best_accuracy:\n",
    "        best_accuracy = results['accuracy']['accuracy']\n",
    "        model.save_pretrained('best_model')\n",
    "    \n",
    "model.save_pretrained('final_model')\n",
    "\n",
    "# accuracy plots\n",
    "plt.figure(figsize=(10, 7))\n",
    "plt.plot(\n",
    "    acc_list_to_plot, color='blue',\n",
    "    linestyle='-', label='validataion accuracy'\n",
    ")\n",
    "plt.xlabel('Epochs')\n",
    "plt.ylabel('Accuracy')\n",
    "plt.legend()\n",
    "plt.savefig('accuracy.png')"
   ]
  },
  {
   "cell_type": "code",
   "execution_count": 33,
   "metadata": {
    "id": "D8n4iqPYQHDZ"
   },
   "outputs": [
    {
     "name": "stderr",
     "output_type": "stream",
     "text": [
      "\n",
      "100%|██████████| 1290/1290 [37:50<00:00,  1.76s/it]\n",
      "\n",
      "  3%|▎         | 1/33 [00:00<00:14,  2.21it/s]\u001b[A\n",
      "  6%|▌         | 2/33 [00:00<00:08,  3.46it/s]\u001b[A\n",
      "  9%|▉         | 3/33 [00:00<00:07,  4.26it/s]\u001b[A\n",
      " 12%|█▏        | 4/33 [00:00<00:06,  4.77it/s]\u001b[A\n",
      " 15%|█▌        | 5/33 [00:01<00:05,  5.11it/s]\u001b[A\n",
      " 18%|█▊        | 6/33 [00:01<00:05,  5.35it/s]\u001b[A\n",
      " 21%|██        | 7/33 [00:01<00:04,  5.50it/s]\u001b[A\n",
      " 24%|██▍       | 8/33 [00:01<00:04,  5.61it/s]\u001b[A\n",
      " 27%|██▋       | 9/33 [00:01<00:04,  5.70it/s]\u001b[A\n",
      " 30%|███       | 10/33 [00:01<00:04,  5.68it/s]\u001b[A\n",
      " 33%|███▎      | 11/33 [00:02<00:03,  5.73it/s]\u001b[A\n",
      " 36%|███▋      | 12/33 [00:02<00:03,  5.77it/s]\u001b[A\n",
      " 39%|███▉      | 13/33 [00:02<00:03,  5.80it/s]\u001b[A\n",
      " 42%|████▏     | 14/33 [00:02<00:03,  5.79it/s]\u001b[A\n",
      " 45%|████▌     | 15/33 [00:02<00:03,  5.81it/s]\u001b[A\n",
      " 48%|████▊     | 16/33 [00:03<00:02,  5.82it/s]\u001b[A\n",
      " 52%|█████▏    | 17/33 [00:03<00:02,  5.83it/s]\u001b[A\n",
      " 55%|█████▍    | 18/33 [00:03<00:02,  5.80it/s]\u001b[A\n",
      " 58%|█████▊    | 19/33 [00:03<00:02,  5.79it/s]\u001b[A\n",
      " 61%|██████    | 20/33 [00:03<00:02,  5.80it/s]\u001b[A\n",
      " 64%|██████▎   | 21/33 [00:03<00:02,  5.82it/s]\u001b[A\n",
      " 67%|██████▋   | 22/33 [00:04<00:01,  5.83it/s]\u001b[A\n",
      " 70%|██████▉   | 23/33 [00:04<00:01,  5.82it/s]\u001b[A\n",
      " 73%|███████▎  | 24/33 [00:04<00:01,  5.84it/s]\u001b[A\n",
      " 76%|███████▌  | 25/33 [00:04<00:01,  5.83it/s]\u001b[A\n",
      " 79%|███████▉  | 26/33 [00:04<00:01,  5.81it/s]\u001b[A\n",
      " 82%|████████▏ | 27/33 [00:04<00:01,  5.79it/s]\u001b[A\n",
      " 85%|████████▍ | 28/33 [00:05<00:00,  5.79it/s]\u001b[A\n",
      " 88%|████████▊ | 29/33 [00:05<00:00,  5.83it/s]\u001b[A\n",
      " 91%|█████████ | 30/33 [00:05<00:00,  5.83it/s]\u001b[A\n",
      " 94%|█████████▍| 31/33 [00:05<00:00,  5.84it/s]\u001b[A\n",
      " 97%|█████████▋| 32/33 [00:05<00:00,  5.83it/s]\u001b[A"
     ]
    },
    {
     "name": "stdout",
     "output_type": "stream",
     "text": [
      "{'recall': {'recall': 0.7405247813411079}, 'precision': {'precision': 0.742087036309162}, 'f1': {'f1': 0.740972533116875}, 'accuracy': {'accuracy': 0.7405247813411079}}\n"
     ]
    }
   ],
   "source": [
    "progress_bar = tqdm(range(len(test_dataloader)))\n",
    "\n",
    "# Evaluation\n",
    "model.eval()\n",
    "for batch in test_dataloader:\n",
    "    batch = {k: v.to(device) for k, v in batch.items()}\n",
    "    with torch.no_grad():\n",
    "        outputs = model(**batch)\n",
    "\n",
    "    logits = outputs.logits\n",
    "    predictions = torch.argmax(logits, dim=-1)\n",
    "        \n",
    "    recall_metric.add_batch(predictions=predictions, references=batch['labels'])\n",
    "    precision_metric.add_batch(predictions=predictions, references=batch['labels'])\n",
    "    f1_metric.add_batch(predictions=predictions, references=batch['labels'])\n",
    "    accuracy_metric.add_batch(predictions=predictions, references=batch['labels'])\n",
    "    progress_bar.update(1)\n",
    "    \n",
    "results = {\n",
    "        'recall': recall_metric.compute(average='weighted'),\n",
    "        'precision': precision_metric.compute(average='weighted'),\n",
    "        'f1': f1_metric.compute(average='weighted'),\n",
    "        'accuracy': accuracy_metric.compute()\n",
    "    }\n",
    "    \n",
    "print(\n",
    "        {\n",
    "            key: value\n",
    "            for key, value in results.items()\n",
    "        },\n",
    "    )"
   ]
  },
  {
   "cell_type": "code",
   "execution_count": 34,
   "metadata": {
    "id": "PQ-VFz8DQJSu"
   },
   "outputs": [
    {
     "data": {
      "text/plain": [
       "{'input_ids': torch.Size([128, 40]),\n",
       " 'token_type_ids': torch.Size([128, 40]),\n",
       " 'attention_mask': torch.Size([128, 40])}"
      ]
     },
     "execution_count": 34,
     "metadata": {},
     "output_type": "execute_result"
    }
   ],
   "source": [
    "# inspect the batch\n",
    "for batch in subm_dataloader:\n",
    "  break\n",
    "{k: v.shape for k, v in batch.items()}"
   ]
  },
  {
   "cell_type": "code",
   "execution_count": 35,
   "metadata": {
    "id": "34GmMFKFQOsq"
   },
   "outputs": [
    {
     "name": "stderr",
     "output_type": "stream",
     "text": [
      "100%|██████████| 33/33 [00:13<00:00,  2.38it/s]\n",
      "100%|██████████| 30/30 [00:04<00:00,  6.30it/s]"
     ]
    }
   ],
   "source": [
    "progress_bar = tqdm(range(len(subm_dataloader)))\n",
    "# Submission\n",
    "model.eval()\n",
    "submissions = []\n",
    "for batch in subm_dataloader:\n",
    "    batch = {k: v.to(device) for k, v in batch.items()}\n",
    "    with torch.no_grad():\n",
    "        outputs = model(**batch)\n",
    "\n",
    "    logits = outputs.logits\n",
    "    predictions = torch.argmax(logits, dim=-1)\n",
    "    submissions.append(predictions)\n",
    "    progress_bar.update(1)"
   ]
  },
  {
   "cell_type": "code",
   "execution_count": 44,
   "metadata": {
    "id": "WN6-97-JQvhJ"
   },
   "outputs": [
    {
     "data": {
      "text/html": [
       "<div>\n",
       "<style scoped>\n",
       "    .dataframe tbody tr th:only-of-type {\n",
       "        vertical-align: middle;\n",
       "    }\n",
       "\n",
       "    .dataframe tbody tr th {\n",
       "        vertical-align: top;\n",
       "    }\n",
       "\n",
       "    .dataframe thead th {\n",
       "        text-align: right;\n",
       "    }\n",
       "</style>\n",
       "<table border=\"1\" class=\"dataframe\">\n",
       "  <thead>\n",
       "    <tr style=\"text-align: right;\">\n",
       "      <th></th>\n",
       "      <th>id</th>\n",
       "      <th>Sentiment</th>\n",
       "    </tr>\n",
       "  </thead>\n",
       "  <tbody>\n",
       "    <tr>\n",
       "      <th>0</th>\n",
       "      <td>787bc85b-20d4-46d8-84a0-562a2527f684</td>\n",
       "      <td>Negative</td>\n",
       "    </tr>\n",
       "    <tr>\n",
       "      <th>1</th>\n",
       "      <td>17e934cd-ba94-4d4f-9ac0-ead202abe241</td>\n",
       "      <td>Positive</td>\n",
       "    </tr>\n",
       "    <tr>\n",
       "      <th>2</th>\n",
       "      <td>5914534b-2b0f-4de8-bb8a-e25587697e0d</td>\n",
       "      <td>Extremely Positive</td>\n",
       "    </tr>\n",
       "    <tr>\n",
       "      <th>3</th>\n",
       "      <td>cdf06cfe-29ae-48ee-ac6d-be448103ba45</td>\n",
       "      <td>Extremely Negative</td>\n",
       "    </tr>\n",
       "    <tr>\n",
       "      <th>4</th>\n",
       "      <td>aff63979-0256-4fb9-a2d9-86a3d3ca5470</td>\n",
       "      <td>Neutral</td>\n",
       "    </tr>\n",
       "  </tbody>\n",
       "</table>\n",
       "</div>"
      ],
      "text/plain": [
       "                                     id           Sentiment\n",
       "0  787bc85b-20d4-46d8-84a0-562a2527f684            Negative\n",
       "1  17e934cd-ba94-4d4f-9ac0-ead202abe241            Positive\n",
       "2  5914534b-2b0f-4de8-bb8a-e25587697e0d  Extremely Positive\n",
       "3  cdf06cfe-29ae-48ee-ac6d-be448103ba45  Extremely Negative\n",
       "4  aff63979-0256-4fb9-a2d9-86a3d3ca5470             Neutral"
      ]
     },
     "execution_count": 44,
     "metadata": {},
     "output_type": "execute_result"
    }
   ],
   "source": [
    "submission = pd.read_csv(filepath_or_buffer='https://raw.githubusercontent.com/wizard339/education/main/misis/nlp/text_classification/sample_submission.csv')\n",
    "submission['Sentiment'] = le.inverse_transform(torch.cat(submissions).cpu())\n",
    "submission.head()"
   ]
  },
  {
   "cell_type": "code",
   "execution_count": 45,
   "metadata": {
    "id": "vYEFT0GyQ0oV"
   },
   "outputs": [],
   "source": [
    "# saving sabmission to '.csv' file\n",
    "submission.to_csv('submission_bert.csv', index=False, header=True)"
   ]
  },
  {
   "cell_type": "markdown",
   "metadata": {
    "id": "-B2zbOsaPcg_"
   },
   "source": []
  }
 ],
 "metadata": {
  "colab": {
   "provenance": []
  },
  "kernelspec": {
   "display_name": "Python 3 (ipykernel)",
   "language": "python",
   "name": "python3"
  },
  "language_info": {
   "codemirror_mode": {
    "name": "ipython",
    "version": 3
   },
   "file_extension": ".py",
   "mimetype": "text/x-python",
   "name": "python",
   "nbconvert_exporter": "python",
   "pygments_lexer": "ipython3",
   "version": "3.9.16"
  },
  "widgets": {
   "application/vnd.jupyter.widget-state+json": {
    "00b0f8d5d7ca471d9bc92bc1cff4de4c": {
     "model_module": "@jupyter-widgets/base",
     "model_module_version": "1.2.0",
     "model_name": "LayoutModel",
     "state": {
      "_model_module": "@jupyter-widgets/base",
      "_model_module_version": "1.2.0",
      "_model_name": "LayoutModel",
      "_view_count": null,
      "_view_module": "@jupyter-widgets/base",
      "_view_module_version": "1.2.0",
      "_view_name": "LayoutView",
      "align_content": null,
      "align_items": null,
      "align_self": null,
      "border": null,
      "bottom": null,
      "display": null,
      "flex": null,
      "flex_flow": null,
      "grid_area": null,
      "grid_auto_columns": null,
      "grid_auto_flow": null,
      "grid_auto_rows": null,
      "grid_column": null,
      "grid_gap": null,
      "grid_row": null,
      "grid_template_areas": null,
      "grid_template_columns": null,
      "grid_template_rows": null,
      "height": null,
      "justify_content": null,
      "justify_items": null,
      "left": null,
      "margin": null,
      "max_height": null,
      "max_width": null,
      "min_height": null,
      "min_width": null,
      "object_fit": null,
      "object_position": null,
      "order": null,
      "overflow": null,
      "overflow_x": null,
      "overflow_y": null,
      "padding": null,
      "right": null,
      "top": null,
      "visibility": null,
      "width": null
     }
    },
    "01be3734cee04789932f5b98015274ab": {
     "model_module": "@jupyter-widgets/base",
     "model_module_version": "1.2.0",
     "model_name": "LayoutModel",
     "state": {
      "_model_module": "@jupyter-widgets/base",
      "_model_module_version": "1.2.0",
      "_model_name": "LayoutModel",
      "_view_count": null,
      "_view_module": "@jupyter-widgets/base",
      "_view_module_version": "1.2.0",
      "_view_name": "LayoutView",
      "align_content": null,
      "align_items": null,
      "align_self": null,
      "border": null,
      "bottom": null,
      "display": null,
      "flex": null,
      "flex_flow": null,
      "grid_area": null,
      "grid_auto_columns": null,
      "grid_auto_flow": null,
      "grid_auto_rows": null,
      "grid_column": null,
      "grid_gap": null,
      "grid_row": null,
      "grid_template_areas": null,
      "grid_template_columns": null,
      "grid_template_rows": null,
      "height": null,
      "justify_content": null,
      "justify_items": null,
      "left": null,
      "margin": null,
      "max_height": null,
      "max_width": null,
      "min_height": null,
      "min_width": null,
      "object_fit": null,
      "object_position": null,
      "order": null,
      "overflow": null,
      "overflow_x": null,
      "overflow_y": null,
      "padding": null,
      "right": null,
      "top": null,
      "visibility": null,
      "width": null
     }
    },
    "02b041c262614a76add484340f4e831a": {
     "model_module": "@jupyter-widgets/base",
     "model_module_version": "1.2.0",
     "model_name": "LayoutModel",
     "state": {
      "_model_module": "@jupyter-widgets/base",
      "_model_module_version": "1.2.0",
      "_model_name": "LayoutModel",
      "_view_count": null,
      "_view_module": "@jupyter-widgets/base",
      "_view_module_version": "1.2.0",
      "_view_name": "LayoutView",
      "align_content": null,
      "align_items": null,
      "align_self": null,
      "border": null,
      "bottom": null,
      "display": null,
      "flex": null,
      "flex_flow": null,
      "grid_area": null,
      "grid_auto_columns": null,
      "grid_auto_flow": null,
      "grid_auto_rows": null,
      "grid_column": null,
      "grid_gap": null,
      "grid_row": null,
      "grid_template_areas": null,
      "grid_template_columns": null,
      "grid_template_rows": null,
      "height": null,
      "justify_content": null,
      "justify_items": null,
      "left": null,
      "margin": null,
      "max_height": null,
      "max_width": null,
      "min_height": null,
      "min_width": null,
      "object_fit": null,
      "object_position": null,
      "order": null,
      "overflow": null,
      "overflow_x": null,
      "overflow_y": null,
      "padding": null,
      "right": null,
      "top": null,
      "visibility": null,
      "width": null
     }
    },
    "03da28e1776c468a92855184ff123a19": {
     "model_module": "@jupyter-widgets/base",
     "model_module_version": "1.2.0",
     "model_name": "LayoutModel",
     "state": {
      "_model_module": "@jupyter-widgets/base",
      "_model_module_version": "1.2.0",
      "_model_name": "LayoutModel",
      "_view_count": null,
      "_view_module": "@jupyter-widgets/base",
      "_view_module_version": "1.2.0",
      "_view_name": "LayoutView",
      "align_content": null,
      "align_items": null,
      "align_self": null,
      "border": null,
      "bottom": null,
      "display": null,
      "flex": null,
      "flex_flow": null,
      "grid_area": null,
      "grid_auto_columns": null,
      "grid_auto_flow": null,
      "grid_auto_rows": null,
      "grid_column": null,
      "grid_gap": null,
      "grid_row": null,
      "grid_template_areas": null,
      "grid_template_columns": null,
      "grid_template_rows": null,
      "height": null,
      "justify_content": null,
      "justify_items": null,
      "left": null,
      "margin": null,
      "max_height": null,
      "max_width": null,
      "min_height": null,
      "min_width": null,
      "object_fit": null,
      "object_position": null,
      "order": null,
      "overflow": null,
      "overflow_x": null,
      "overflow_y": null,
      "padding": null,
      "right": null,
      "top": null,
      "visibility": null,
      "width": null
     }
    },
    "03ddcbb8e4f44841916433e0f95051b8": {
     "model_module": "@jupyter-widgets/controls",
     "model_module_version": "1.5.0",
     "model_name": "HTMLModel",
     "state": {
      "_dom_classes": [],
      "_model_module": "@jupyter-widgets/controls",
      "_model_module_version": "1.5.0",
      "_model_name": "HTMLModel",
      "_view_count": null,
      "_view_module": "@jupyter-widgets/controls",
      "_view_module_version": "1.5.0",
      "_view_name": "HTMLView",
      "description": "",
      "description_tooltip": null,
      "layout": "IPY_MODEL_785fb0702c85421b93d2b5be78a545de",
      "placeholder": "​",
      "style": "IPY_MODEL_8b8f6151000e4aa3995a884a665e1169",
      "value": "  0%"
     }
    },
    "05683e6966044eef87a69142ef5cf6ca": {
     "model_module": "@jupyter-widgets/controls",
     "model_module_version": "1.5.0",
     "model_name": "HBoxModel",
     "state": {
      "_dom_classes": [],
      "_model_module": "@jupyter-widgets/controls",
      "_model_module_version": "1.5.0",
      "_model_name": "HBoxModel",
      "_view_count": null,
      "_view_module": "@jupyter-widgets/controls",
      "_view_module_version": "1.5.0",
      "_view_name": "HBoxView",
      "box_style": "",
      "children": [
       "IPY_MODEL_43ac341f3fe845a2815253de629c4c56",
       "IPY_MODEL_f62a376a398a42eca6f3746a438b918f",
       "IPY_MODEL_41bd2d9748a7499da3da6b703c33ec30"
      ],
      "layout": "IPY_MODEL_33ee5f0c6a324bb4a253cdfc018a5860"
     }
    },
    "0d9569542f4a41b4b917362efdf68649": {
     "model_module": "@jupyter-widgets/controls",
     "model_module_version": "1.5.0",
     "model_name": "HBoxModel",
     "state": {
      "_dom_classes": [],
      "_model_module": "@jupyter-widgets/controls",
      "_model_module_version": "1.5.0",
      "_model_name": "HBoxModel",
      "_view_count": null,
      "_view_module": "@jupyter-widgets/controls",
      "_view_module_version": "1.5.0",
      "_view_name": "HBoxView",
      "box_style": "",
      "children": [
       "IPY_MODEL_788489aeef674851a64f00814345537e",
       "IPY_MODEL_3a77c9756d9745f39c35bf2816582805",
       "IPY_MODEL_18ec069293574d538dc00906ed675dee"
      ],
      "layout": "IPY_MODEL_cb331475a1064a629285fca3d9b1be50"
     }
    },
    "0f77724abe3949fe938c210900543ef9": {
     "model_module": "@jupyter-widgets/controls",
     "model_module_version": "1.5.0",
     "model_name": "DescriptionStyleModel",
     "state": {
      "_model_module": "@jupyter-widgets/controls",
      "_model_module_version": "1.5.0",
      "_model_name": "DescriptionStyleModel",
      "_view_count": null,
      "_view_module": "@jupyter-widgets/base",
      "_view_module_version": "1.2.0",
      "_view_name": "StyleView",
      "description_width": ""
     }
    },
    "10b3048e157747b9b53b634f252fe443": {
     "model_module": "@jupyter-widgets/controls",
     "model_module_version": "1.5.0",
     "model_name": "DescriptionStyleModel",
     "state": {
      "_model_module": "@jupyter-widgets/controls",
      "_model_module_version": "1.5.0",
      "_model_name": "DescriptionStyleModel",
      "_view_count": null,
      "_view_module": "@jupyter-widgets/base",
      "_view_module_version": "1.2.0",
      "_view_name": "StyleView",
      "description_width": ""
     }
    },
    "11078d7279284b7f9401384c73908ed2": {
     "model_module": "@jupyter-widgets/base",
     "model_module_version": "1.2.0",
     "model_name": "LayoutModel",
     "state": {
      "_model_module": "@jupyter-widgets/base",
      "_model_module_version": "1.2.0",
      "_model_name": "LayoutModel",
      "_view_count": null,
      "_view_module": "@jupyter-widgets/base",
      "_view_module_version": "1.2.0",
      "_view_name": "LayoutView",
      "align_content": null,
      "align_items": null,
      "align_self": null,
      "border": null,
      "bottom": null,
      "display": null,
      "flex": null,
      "flex_flow": null,
      "grid_area": null,
      "grid_auto_columns": null,
      "grid_auto_flow": null,
      "grid_auto_rows": null,
      "grid_column": null,
      "grid_gap": null,
      "grid_row": null,
      "grid_template_areas": null,
      "grid_template_columns": null,
      "grid_template_rows": null,
      "height": null,
      "justify_content": null,
      "justify_items": null,
      "left": null,
      "margin": null,
      "max_height": null,
      "max_width": null,
      "min_height": null,
      "min_width": null,
      "object_fit": null,
      "object_position": null,
      "order": null,
      "overflow": null,
      "overflow_x": null,
      "overflow_y": null,
      "padding": null,
      "right": null,
      "top": null,
      "visibility": null,
      "width": null
     }
    },
    "18ec069293574d538dc00906ed675dee": {
     "model_module": "@jupyter-widgets/controls",
     "model_module_version": "1.5.0",
     "model_name": "HTMLModel",
     "state": {
      "_dom_classes": [],
      "_model_module": "@jupyter-widgets/controls",
      "_model_module_version": "1.5.0",
      "_model_name": "HTMLModel",
      "_view_count": null,
      "_view_module": "@jupyter-widgets/controls",
      "_view_module_version": "1.5.0",
      "_view_name": "HTMLView",
      "description": "",
      "description_tooltip": null,
      "layout": "IPY_MODEL_d4901d4b5db7495594ddde1fdd5f7217",
      "placeholder": "​",
      "style": "IPY_MODEL_cc7703f87f994755b884da02dfb7cdba",
      "value": " 213k/213k [00:00&lt;00:00, 2.29MB/s]"
     }
    },
    "1d4d5a503d1c4112b580f0e0216d2719": {
     "model_module": "@jupyter-widgets/controls",
     "model_module_version": "1.5.0",
     "model_name": "FloatProgressModel",
     "state": {
      "_dom_classes": [],
      "_model_module": "@jupyter-widgets/controls",
      "_model_module_version": "1.5.0",
      "_model_name": "FloatProgressModel",
      "_view_count": null,
      "_view_module": "@jupyter-widgets/controls",
      "_view_module_version": "1.5.0",
      "_view_name": "ProgressView",
      "bar_style": "success",
      "description": "",
      "description_tooltip": null,
      "layout": "IPY_MODEL_f530a311fa2b4699be8540ad732105df",
      "max": 435779157,
      "min": 0,
      "orientation": "horizontal",
      "style": "IPY_MODEL_eea27ce9da184779809182e776ea98d4",
      "value": 435779157
     }
    },
    "244bec7298844a8ba1ab7115183292cb": {
     "model_module": "@jupyter-widgets/base",
     "model_module_version": "1.2.0",
     "model_name": "LayoutModel",
     "state": {
      "_model_module": "@jupyter-widgets/base",
      "_model_module_version": "1.2.0",
      "_model_name": "LayoutModel",
      "_view_count": null,
      "_view_module": "@jupyter-widgets/base",
      "_view_module_version": "1.2.0",
      "_view_name": "LayoutView",
      "align_content": null,
      "align_items": null,
      "align_self": null,
      "border": null,
      "bottom": null,
      "display": null,
      "flex": null,
      "flex_flow": null,
      "grid_area": null,
      "grid_auto_columns": null,
      "grid_auto_flow": null,
      "grid_auto_rows": null,
      "grid_column": null,
      "grid_gap": null,
      "grid_row": null,
      "grid_template_areas": null,
      "grid_template_columns": null,
      "grid_template_rows": null,
      "height": null,
      "justify_content": null,
      "justify_items": null,
      "left": null,
      "margin": null,
      "max_height": null,
      "max_width": null,
      "min_height": null,
      "min_width": null,
      "object_fit": null,
      "object_position": null,
      "order": null,
      "overflow": null,
      "overflow_x": null,
      "overflow_y": null,
      "padding": null,
      "right": null,
      "top": null,
      "visibility": null,
      "width": null
     }
    },
    "25dfb21fa84b45b08152bcb3c0e79f79": {
     "model_module": "@jupyter-widgets/controls",
     "model_module_version": "1.5.0",
     "model_name": "DescriptionStyleModel",
     "state": {
      "_model_module": "@jupyter-widgets/controls",
      "_model_module_version": "1.5.0",
      "_model_name": "DescriptionStyleModel",
      "_view_count": null,
      "_view_module": "@jupyter-widgets/base",
      "_view_module_version": "1.2.0",
      "_view_name": "StyleView",
      "description_width": ""
     }
    },
    "2610078c70104950857c354455ea115d": {
     "model_module": "@jupyter-widgets/base",
     "model_module_version": "1.2.0",
     "model_name": "LayoutModel",
     "state": {
      "_model_module": "@jupyter-widgets/base",
      "_model_module_version": "1.2.0",
      "_model_name": "LayoutModel",
      "_view_count": null,
      "_view_module": "@jupyter-widgets/base",
      "_view_module_version": "1.2.0",
      "_view_name": "LayoutView",
      "align_content": null,
      "align_items": null,
      "align_self": null,
      "border": null,
      "bottom": null,
      "display": null,
      "flex": null,
      "flex_flow": null,
      "grid_area": null,
      "grid_auto_columns": null,
      "grid_auto_flow": null,
      "grid_auto_rows": null,
      "grid_column": null,
      "grid_gap": null,
      "grid_row": null,
      "grid_template_areas": null,
      "grid_template_columns": null,
      "grid_template_rows": null,
      "height": null,
      "justify_content": null,
      "justify_items": null,
      "left": null,
      "margin": null,
      "max_height": null,
      "max_width": null,
      "min_height": null,
      "min_width": null,
      "object_fit": null,
      "object_position": null,
      "order": null,
      "overflow": null,
      "overflow_x": null,
      "overflow_y": null,
      "padding": null,
      "right": null,
      "top": null,
      "visibility": "hidden",
      "width": null
     }
    },
    "28d1cb2de94344f4bb6982ac3cc166a3": {
     "model_module": "@jupyter-widgets/base",
     "model_module_version": "1.2.0",
     "model_name": "LayoutModel",
     "state": {
      "_model_module": "@jupyter-widgets/base",
      "_model_module_version": "1.2.0",
      "_model_name": "LayoutModel",
      "_view_count": null,
      "_view_module": "@jupyter-widgets/base",
      "_view_module_version": "1.2.0",
      "_view_name": "LayoutView",
      "align_content": null,
      "align_items": null,
      "align_self": null,
      "border": null,
      "bottom": null,
      "display": null,
      "flex": null,
      "flex_flow": null,
      "grid_area": null,
      "grid_auto_columns": null,
      "grid_auto_flow": null,
      "grid_auto_rows": null,
      "grid_column": null,
      "grid_gap": null,
      "grid_row": null,
      "grid_template_areas": null,
      "grid_template_columns": null,
      "grid_template_rows": null,
      "height": null,
      "justify_content": null,
      "justify_items": null,
      "left": null,
      "margin": null,
      "max_height": null,
      "max_width": null,
      "min_height": null,
      "min_width": null,
      "object_fit": null,
      "object_position": null,
      "order": null,
      "overflow": null,
      "overflow_x": null,
      "overflow_y": null,
      "padding": null,
      "right": null,
      "top": null,
      "visibility": null,
      "width": null
     }
    },
    "2aeac73d31564385af6aca84bc935d92": {
     "model_module": "@jupyter-widgets/controls",
     "model_module_version": "1.5.0",
     "model_name": "HBoxModel",
     "state": {
      "_dom_classes": [],
      "_model_module": "@jupyter-widgets/controls",
      "_model_module_version": "1.5.0",
      "_model_name": "HBoxModel",
      "_view_count": null,
      "_view_module": "@jupyter-widgets/controls",
      "_view_module_version": "1.5.0",
      "_view_name": "HBoxView",
      "box_style": "",
      "children": [
       "IPY_MODEL_4ee2cdda336241ba85632a1b65595593",
       "IPY_MODEL_53a60d090b1147518816ef0b81108d50",
       "IPY_MODEL_990bebcafdc84a16ace079c3c2e8baec"
      ],
      "layout": "IPY_MODEL_8a6717b6ef9e48e4b29eb4b292a85898"
     }
    },
    "2aefcb8581aa4302a58a54477a33cee6": {
     "model_module": "@jupyter-widgets/controls",
     "model_module_version": "1.5.0",
     "model_name": "HBoxModel",
     "state": {
      "_dom_classes": [],
      "_model_module": "@jupyter-widgets/controls",
      "_model_module_version": "1.5.0",
      "_model_name": "HBoxModel",
      "_view_count": null,
      "_view_module": "@jupyter-widgets/controls",
      "_view_module_version": "1.5.0",
      "_view_name": "HBoxView",
      "box_style": "",
      "children": [
       "IPY_MODEL_66c0f031daf54ebbbf9e10f2ccf3a7f5",
       "IPY_MODEL_701a99fda5954142a5004865ea93b68e",
       "IPY_MODEL_65ea8086607b4bd3b547045bc55db824"
      ],
      "layout": "IPY_MODEL_02b041c262614a76add484340f4e831a"
     }
    },
    "33d8e9ce0e9e444aa98d820a6f85b75a": {
     "model_module": "@jupyter-widgets/controls",
     "model_module_version": "1.5.0",
     "model_name": "FloatProgressModel",
     "state": {
      "_dom_classes": [],
      "_model_module": "@jupyter-widgets/controls",
      "_model_module_version": "1.5.0",
      "_model_name": "FloatProgressModel",
      "_view_count": null,
      "_view_module": "@jupyter-widgets/controls",
      "_view_module_version": "1.5.0",
      "_view_name": "ProgressView",
      "bar_style": "success",
      "description": "",
      "description_tooltip": null,
      "layout": "IPY_MODEL_c7507946b59b409cad4b06429cd0a53d",
      "max": 29,
      "min": 0,
      "orientation": "horizontal",
      "style": "IPY_MODEL_48e9739a1f36426884e2c4c50d71891e",
      "value": 29
     }
    },
    "33ee5f0c6a324bb4a253cdfc018a5860": {
     "model_module": "@jupyter-widgets/base",
     "model_module_version": "1.2.0",
     "model_name": "LayoutModel",
     "state": {
      "_model_module": "@jupyter-widgets/base",
      "_model_module_version": "1.2.0",
      "_model_name": "LayoutModel",
      "_view_count": null,
      "_view_module": "@jupyter-widgets/base",
      "_view_module_version": "1.2.0",
      "_view_name": "LayoutView",
      "align_content": null,
      "align_items": null,
      "align_self": null,
      "border": null,
      "bottom": null,
      "display": null,
      "flex": null,
      "flex_flow": null,
      "grid_area": null,
      "grid_auto_columns": null,
      "grid_auto_flow": null,
      "grid_auto_rows": null,
      "grid_column": null,
      "grid_gap": null,
      "grid_row": null,
      "grid_template_areas": null,
      "grid_template_columns": null,
      "grid_template_rows": null,
      "height": null,
      "justify_content": null,
      "justify_items": null,
      "left": null,
      "margin": null,
      "max_height": null,
      "max_width": null,
      "min_height": null,
      "min_width": null,
      "object_fit": null,
      "object_position": null,
      "order": null,
      "overflow": null,
      "overflow_x": null,
      "overflow_y": null,
      "padding": null,
      "right": null,
      "top": null,
      "visibility": "hidden",
      "width": null
     }
    },
    "37e6e86114774422b8429a6258026eda": {
     "model_module": "@jupyter-widgets/controls",
     "model_module_version": "1.5.0",
     "model_name": "HTMLModel",
     "state": {
      "_dom_classes": [],
      "_model_module": "@jupyter-widgets/controls",
      "_model_module_version": "1.5.0",
      "_model_name": "HTMLModel",
      "_view_count": null,
      "_view_module": "@jupyter-widgets/controls",
      "_view_module_version": "1.5.0",
      "_view_name": "HTMLView",
      "description": "",
      "description_tooltip": null,
      "layout": "IPY_MODEL_f3ca911f7ed64a0abf5eae5beffc9cb1",
      "placeholder": "​",
      "style": "IPY_MODEL_4a815564fb4648cbb3e107aa35b24e6a",
      "value": "Map:  96%"
     }
    },
    "384c42da55cd47d0b3ad54cd417110d8": {
     "model_module": "@jupyter-widgets/base",
     "model_module_version": "1.2.0",
     "model_name": "LayoutModel",
     "state": {
      "_model_module": "@jupyter-widgets/base",
      "_model_module_version": "1.2.0",
      "_model_name": "LayoutModel",
      "_view_count": null,
      "_view_module": "@jupyter-widgets/base",
      "_view_module_version": "1.2.0",
      "_view_name": "LayoutView",
      "align_content": null,
      "align_items": null,
      "align_self": null,
      "border": null,
      "bottom": null,
      "display": null,
      "flex": null,
      "flex_flow": null,
      "grid_area": null,
      "grid_auto_columns": null,
      "grid_auto_flow": null,
      "grid_auto_rows": null,
      "grid_column": null,
      "grid_gap": null,
      "grid_row": null,
      "grid_template_areas": null,
      "grid_template_columns": null,
      "grid_template_rows": null,
      "height": null,
      "justify_content": null,
      "justify_items": null,
      "left": null,
      "margin": null,
      "max_height": null,
      "max_width": null,
      "min_height": null,
      "min_width": null,
      "object_fit": null,
      "object_position": null,
      "order": null,
      "overflow": null,
      "overflow_x": null,
      "overflow_y": null,
      "padding": null,
      "right": null,
      "top": null,
      "visibility": null,
      "width": null
     }
    },
    "3888745bd84a43b5b02279bbc36398d3": {
     "model_module": "@jupyter-widgets/controls",
     "model_module_version": "1.5.0",
     "model_name": "FloatProgressModel",
     "state": {
      "_dom_classes": [],
      "_model_module": "@jupyter-widgets/controls",
      "_model_module_version": "1.5.0",
      "_model_name": "FloatProgressModel",
      "_view_count": null,
      "_view_module": "@jupyter-widgets/controls",
      "_view_module_version": "1.5.0",
      "_view_name": "ProgressView",
      "bar_style": "success",
      "description": "",
      "description_tooltip": null,
      "layout": "IPY_MODEL_c6f1a689d7b64ec79b24a28084655e93",
      "max": 435797,
      "min": 0,
      "orientation": "horizontal",
      "style": "IPY_MODEL_db058a81df9a498ca4ba2d5e595e0792",
      "value": 435797
     }
    },
    "39c30c8fcfed4df4acf0018ffb65b57c": {
     "model_module": "@jupyter-widgets/base",
     "model_module_version": "1.2.0",
     "model_name": "LayoutModel",
     "state": {
      "_model_module": "@jupyter-widgets/base",
      "_model_module_version": "1.2.0",
      "_model_name": "LayoutModel",
      "_view_count": null,
      "_view_module": "@jupyter-widgets/base",
      "_view_module_version": "1.2.0",
      "_view_name": "LayoutView",
      "align_content": null,
      "align_items": null,
      "align_self": null,
      "border": null,
      "bottom": null,
      "display": null,
      "flex": null,
      "flex_flow": null,
      "grid_area": null,
      "grid_auto_columns": null,
      "grid_auto_flow": null,
      "grid_auto_rows": null,
      "grid_column": null,
      "grid_gap": null,
      "grid_row": null,
      "grid_template_areas": null,
      "grid_template_columns": null,
      "grid_template_rows": null,
      "height": null,
      "justify_content": null,
      "justify_items": null,
      "left": null,
      "margin": null,
      "max_height": null,
      "max_width": null,
      "min_height": null,
      "min_width": null,
      "object_fit": null,
      "object_position": null,
      "order": null,
      "overflow": null,
      "overflow_x": null,
      "overflow_y": null,
      "padding": null,
      "right": null,
      "top": null,
      "visibility": null,
      "width": null
     }
    },
    "3a77c9756d9745f39c35bf2816582805": {
     "model_module": "@jupyter-widgets/controls",
     "model_module_version": "1.5.0",
     "model_name": "FloatProgressModel",
     "state": {
      "_dom_classes": [],
      "_model_module": "@jupyter-widgets/controls",
      "_model_module_version": "1.5.0",
      "_model_name": "FloatProgressModel",
      "_view_count": null,
      "_view_module": "@jupyter-widgets/controls",
      "_view_module_version": "1.5.0",
      "_view_name": "ProgressView",
      "bar_style": "success",
      "description": "",
      "description_tooltip": null,
      "layout": "IPY_MODEL_8c2d36bc800a4b069c51c160d1ddf97a",
      "max": 213450,
      "min": 0,
      "orientation": "horizontal",
      "style": "IPY_MODEL_d98f572549a740b4bad51bafbbb3410e",
      "value": 213450
     }
    },
    "3e1f0903f02142c3a2d22894db96bbfb": {
     "model_module": "@jupyter-widgets/controls",
     "model_module_version": "1.5.0",
     "model_name": "DescriptionStyleModel",
     "state": {
      "_model_module": "@jupyter-widgets/controls",
      "_model_module_version": "1.5.0",
      "_model_name": "DescriptionStyleModel",
      "_view_count": null,
      "_view_module": "@jupyter-widgets/base",
      "_view_module_version": "1.2.0",
      "_view_name": "StyleView",
      "description_width": ""
     }
    },
    "41bd2d9748a7499da3da6b703c33ec30": {
     "model_module": "@jupyter-widgets/controls",
     "model_module_version": "1.5.0",
     "model_name": "HTMLModel",
     "state": {
      "_dom_classes": [],
      "_model_module": "@jupyter-widgets/controls",
      "_model_module_version": "1.5.0",
      "_model_name": "HTMLModel",
      "_view_count": null,
      "_view_module": "@jupyter-widgets/controls",
      "_view_module_version": "1.5.0",
      "_view_name": "HTMLView",
      "description": "",
      "description_tooltip": null,
      "layout": "IPY_MODEL_39c30c8fcfed4df4acf0018ffb65b57c",
      "placeholder": "​",
      "style": "IPY_MODEL_b355cad3d007490889bd01f054478eae",
      "value": " 4000/4116 [00:01&lt;00:00, 1936.85 examples/s]"
     }
    },
    "43ac341f3fe845a2815253de629c4c56": {
     "model_module": "@jupyter-widgets/controls",
     "model_module_version": "1.5.0",
     "model_name": "HTMLModel",
     "state": {
      "_dom_classes": [],
      "_model_module": "@jupyter-widgets/controls",
      "_model_module_version": "1.5.0",
      "_model_name": "HTMLModel",
      "_view_count": null,
      "_view_module": "@jupyter-widgets/controls",
      "_view_module_version": "1.5.0",
      "_view_name": "HTMLView",
      "description": "",
      "description_tooltip": null,
      "layout": "IPY_MODEL_db57478597bc4914ba2f794af10af98f",
      "placeholder": "​",
      "style": "IPY_MODEL_b25a5429eb4647deaaa6c538eea0f123",
      "value": "Map:  97%"
     }
    },
    "4433cff3ef6b4eeb802eebbe579149d8": {
     "model_module": "@jupyter-widgets/base",
     "model_module_version": "1.2.0",
     "model_name": "LayoutModel",
     "state": {
      "_model_module": "@jupyter-widgets/base",
      "_model_module_version": "1.2.0",
      "_model_name": "LayoutModel",
      "_view_count": null,
      "_view_module": "@jupyter-widgets/base",
      "_view_module_version": "1.2.0",
      "_view_name": "LayoutView",
      "align_content": null,
      "align_items": null,
      "align_self": null,
      "border": null,
      "bottom": null,
      "display": null,
      "flex": null,
      "flex_flow": null,
      "grid_area": null,
      "grid_auto_columns": null,
      "grid_auto_flow": null,
      "grid_auto_rows": null,
      "grid_column": null,
      "grid_gap": null,
      "grid_row": null,
      "grid_template_areas": null,
      "grid_template_columns": null,
      "grid_template_rows": null,
      "height": null,
      "justify_content": null,
      "justify_items": null,
      "left": null,
      "margin": null,
      "max_height": null,
      "max_width": null,
      "min_height": null,
      "min_width": null,
      "object_fit": null,
      "object_position": null,
      "order": null,
      "overflow": null,
      "overflow_x": null,
      "overflow_y": null,
      "padding": null,
      "right": null,
      "top": null,
      "visibility": null,
      "width": null
     }
    },
    "4694c6ec303f44a0b00a1ff9d0a14cc2": {
     "model_module": "@jupyter-widgets/controls",
     "model_module_version": "1.5.0",
     "model_name": "DescriptionStyleModel",
     "state": {
      "_model_module": "@jupyter-widgets/controls",
      "_model_module_version": "1.5.0",
      "_model_name": "DescriptionStyleModel",
      "_view_count": null,
      "_view_module": "@jupyter-widgets/base",
      "_view_module_version": "1.2.0",
      "_view_name": "StyleView",
      "description_width": ""
     }
    },
    "48e9739a1f36426884e2c4c50d71891e": {
     "model_module": "@jupyter-widgets/controls",
     "model_module_version": "1.5.0",
     "model_name": "ProgressStyleModel",
     "state": {
      "_model_module": "@jupyter-widgets/controls",
      "_model_module_version": "1.5.0",
      "_model_name": "ProgressStyleModel",
      "_view_count": null,
      "_view_module": "@jupyter-widgets/base",
      "_view_module_version": "1.2.0",
      "_view_name": "StyleView",
      "bar_color": null,
      "description_width": ""
     }
    },
    "4a815564fb4648cbb3e107aa35b24e6a": {
     "model_module": "@jupyter-widgets/controls",
     "model_module_version": "1.5.0",
     "model_name": "DescriptionStyleModel",
     "state": {
      "_model_module": "@jupyter-widgets/controls",
      "_model_module_version": "1.5.0",
      "_model_name": "DescriptionStyleModel",
      "_view_count": null,
      "_view_module": "@jupyter-widgets/base",
      "_view_module_version": "1.2.0",
      "_view_name": "StyleView",
      "description_width": ""
     }
    },
    "4bab330562794b118e05e2f8dbbe4bbc": {
     "model_module": "@jupyter-widgets/controls",
     "model_module_version": "1.5.0",
     "model_name": "HTMLModel",
     "state": {
      "_dom_classes": [],
      "_model_module": "@jupyter-widgets/controls",
      "_model_module_version": "1.5.0",
      "_model_name": "HTMLModel",
      "_view_count": null,
      "_view_module": "@jupyter-widgets/controls",
      "_view_module_version": "1.5.0",
      "_view_name": "HTMLView",
      "description": "",
      "description_tooltip": null,
      "layout": "IPY_MODEL_a5f94b3d4db34238be8e7f3dadc7b3af",
      "placeholder": "​",
      "style": "IPY_MODEL_10b3048e157747b9b53b634f252fe443",
      "value": " 0/165 [00:00&lt;?, ?it/s]"
     }
    },
    "4c871ff71f36482094ef9ff93d0d3633": {
     "model_module": "@jupyter-widgets/controls",
     "model_module_version": "1.5.0",
     "model_name": "FloatProgressModel",
     "state": {
      "_dom_classes": [],
      "_model_module": "@jupyter-widgets/controls",
      "_model_module_version": "1.5.0",
      "_model_name": "FloatProgressModel",
      "_view_count": null,
      "_view_module": "@jupyter-widgets/controls",
      "_view_module_version": "1.5.0",
      "_view_name": "ProgressView",
      "bar_style": "",
      "description": "",
      "description_tooltip": null,
      "layout": "IPY_MODEL_8c74198dee1843a381fbab3ba1c62e07",
      "max": 3798,
      "min": 0,
      "orientation": "horizontal",
      "style": "IPY_MODEL_5a0e031118e94a7796a960600ddeb1c9",
      "value": 3798
     }
    },
    "4ee2cdda336241ba85632a1b65595593": {
     "model_module": "@jupyter-widgets/controls",
     "model_module_version": "1.5.0",
     "model_name": "HTMLModel",
     "state": {
      "_dom_classes": [],
      "_model_module": "@jupyter-widgets/controls",
      "_model_module_version": "1.5.0",
      "_model_name": "HTMLModel",
      "_view_count": null,
      "_view_module": "@jupyter-widgets/controls",
      "_view_module_version": "1.5.0",
      "_view_name": "HTMLView",
      "description": "",
      "description_tooltip": null,
      "layout": "IPY_MODEL_384c42da55cd47d0b3ad54cd417110d8",
      "placeholder": "​",
      "style": "IPY_MODEL_0f77724abe3949fe938c210900543ef9",
      "value": "Map:  99%"
     }
    },
    "529e100915954230a92d7625e22e3343": {
     "model_module": "@jupyter-widgets/base",
     "model_module_version": "1.2.0",
     "model_name": "LayoutModel",
     "state": {
      "_model_module": "@jupyter-widgets/base",
      "_model_module_version": "1.2.0",
      "_model_name": "LayoutModel",
      "_view_count": null,
      "_view_module": "@jupyter-widgets/base",
      "_view_module_version": "1.2.0",
      "_view_name": "LayoutView",
      "align_content": null,
      "align_items": null,
      "align_self": null,
      "border": null,
      "bottom": null,
      "display": null,
      "flex": null,
      "flex_flow": null,
      "grid_area": null,
      "grid_auto_columns": null,
      "grid_auto_flow": null,
      "grid_auto_rows": null,
      "grid_column": null,
      "grid_gap": null,
      "grid_row": null,
      "grid_template_areas": null,
      "grid_template_columns": null,
      "grid_template_rows": null,
      "height": null,
      "justify_content": null,
      "justify_items": null,
      "left": null,
      "margin": null,
      "max_height": null,
      "max_width": null,
      "min_height": null,
      "min_width": null,
      "object_fit": null,
      "object_position": null,
      "order": null,
      "overflow": null,
      "overflow_x": null,
      "overflow_y": null,
      "padding": null,
      "right": null,
      "top": null,
      "visibility": null,
      "width": null
     }
    },
    "531ba594a64f45c68dd14e1f366bbabc": {
     "model_module": "@jupyter-widgets/controls",
     "model_module_version": "1.5.0",
     "model_name": "DescriptionStyleModel",
     "state": {
      "_model_module": "@jupyter-widgets/controls",
      "_model_module_version": "1.5.0",
      "_model_name": "DescriptionStyleModel",
      "_view_count": null,
      "_view_module": "@jupyter-widgets/base",
      "_view_module_version": "1.2.0",
      "_view_name": "StyleView",
      "description_width": ""
     }
    },
    "53a60d090b1147518816ef0b81108d50": {
     "model_module": "@jupyter-widgets/controls",
     "model_module_version": "1.5.0",
     "model_name": "FloatProgressModel",
     "state": {
      "_dom_classes": [],
      "_model_module": "@jupyter-widgets/controls",
      "_model_module_version": "1.5.0",
      "_model_name": "FloatProgressModel",
      "_view_count": null,
      "_view_module": "@jupyter-widgets/controls",
      "_view_module_version": "1.5.0",
      "_view_name": "ProgressView",
      "bar_style": "",
      "description": "",
      "description_tooltip": null,
      "layout": "IPY_MODEL_5adf4684ec4f4185a4a012595a861cc7",
      "max": 32924,
      "min": 0,
      "orientation": "horizontal",
      "style": "IPY_MODEL_f3240ae9600a4e0385be9003f0c5597d",
      "value": 32924
     }
    },
    "582edf469dec4b2dae01b31d32ef5f8e": {
     "model_module": "@jupyter-widgets/base",
     "model_module_version": "1.2.0",
     "model_name": "LayoutModel",
     "state": {
      "_model_module": "@jupyter-widgets/base",
      "_model_module_version": "1.2.0",
      "_model_name": "LayoutModel",
      "_view_count": null,
      "_view_module": "@jupyter-widgets/base",
      "_view_module_version": "1.2.0",
      "_view_name": "LayoutView",
      "align_content": null,
      "align_items": null,
      "align_self": null,
      "border": null,
      "bottom": null,
      "display": null,
      "flex": null,
      "flex_flow": null,
      "grid_area": null,
      "grid_auto_columns": null,
      "grid_auto_flow": null,
      "grid_auto_rows": null,
      "grid_column": null,
      "grid_gap": null,
      "grid_row": null,
      "grid_template_areas": null,
      "grid_template_columns": null,
      "grid_template_rows": null,
      "height": null,
      "justify_content": null,
      "justify_items": null,
      "left": null,
      "margin": null,
      "max_height": null,
      "max_width": null,
      "min_height": null,
      "min_width": null,
      "object_fit": null,
      "object_position": null,
      "order": null,
      "overflow": null,
      "overflow_x": null,
      "overflow_y": null,
      "padding": null,
      "right": null,
      "top": null,
      "visibility": null,
      "width": null
     }
    },
    "5a0e031118e94a7796a960600ddeb1c9": {
     "model_module": "@jupyter-widgets/controls",
     "model_module_version": "1.5.0",
     "model_name": "ProgressStyleModel",
     "state": {
      "_model_module": "@jupyter-widgets/controls",
      "_model_module_version": "1.5.0",
      "_model_name": "ProgressStyleModel",
      "_view_count": null,
      "_view_module": "@jupyter-widgets/base",
      "_view_module_version": "1.2.0",
      "_view_name": "StyleView",
      "bar_color": null,
      "description_width": ""
     }
    },
    "5adf4684ec4f4185a4a012595a861cc7": {
     "model_module": "@jupyter-widgets/base",
     "model_module_version": "1.2.0",
     "model_name": "LayoutModel",
     "state": {
      "_model_module": "@jupyter-widgets/base",
      "_model_module_version": "1.2.0",
      "_model_name": "LayoutModel",
      "_view_count": null,
      "_view_module": "@jupyter-widgets/base",
      "_view_module_version": "1.2.0",
      "_view_name": "LayoutView",
      "align_content": null,
      "align_items": null,
      "align_self": null,
      "border": null,
      "bottom": null,
      "display": null,
      "flex": null,
      "flex_flow": null,
      "grid_area": null,
      "grid_auto_columns": null,
      "grid_auto_flow": null,
      "grid_auto_rows": null,
      "grid_column": null,
      "grid_gap": null,
      "grid_row": null,
      "grid_template_areas": null,
      "grid_template_columns": null,
      "grid_template_rows": null,
      "height": null,
      "justify_content": null,
      "justify_items": null,
      "left": null,
      "margin": null,
      "max_height": null,
      "max_width": null,
      "min_height": null,
      "min_width": null,
      "object_fit": null,
      "object_position": null,
      "order": null,
      "overflow": null,
      "overflow_x": null,
      "overflow_y": null,
      "padding": null,
      "right": null,
      "top": null,
      "visibility": null,
      "width": null
     }
    },
    "5ba8e2ebff2c45b883c24d4d783e8c40": {
     "model_module": "@jupyter-widgets/controls",
     "model_module_version": "1.5.0",
     "model_name": "ProgressStyleModel",
     "state": {
      "_model_module": "@jupyter-widgets/controls",
      "_model_module_version": "1.5.0",
      "_model_name": "ProgressStyleModel",
      "_view_count": null,
      "_view_module": "@jupyter-widgets/base",
      "_view_module_version": "1.2.0",
      "_view_name": "StyleView",
      "bar_color": null,
      "description_width": ""
     }
    },
    "5df7f3fa2fc44c4cb7807c5114146404": {
     "model_module": "@jupyter-widgets/controls",
     "model_module_version": "1.5.0",
     "model_name": "HBoxModel",
     "state": {
      "_dom_classes": [],
      "_model_module": "@jupyter-widgets/controls",
      "_model_module_version": "1.5.0",
      "_model_name": "HBoxModel",
      "_view_count": null,
      "_view_module": "@jupyter-widgets/controls",
      "_view_module_version": "1.5.0",
      "_view_name": "HBoxView",
      "box_style": "",
      "children": [
       "IPY_MODEL_a4fa8cf376bf4fdb95c6cb5446c75148",
       "IPY_MODEL_33d8e9ce0e9e444aa98d820a6f85b75a",
       "IPY_MODEL_c3e960f1e2894dd8ac0ff08f6c92c0cd"
      ],
      "layout": "IPY_MODEL_e68f77ca1e2c49a7ae3a83021690e08d"
     }
    },
    "65ea8086607b4bd3b547045bc55db824": {
     "model_module": "@jupyter-widgets/controls",
     "model_module_version": "1.5.0",
     "model_name": "HTMLModel",
     "state": {
      "_dom_classes": [],
      "_model_module": "@jupyter-widgets/controls",
      "_model_module_version": "1.5.0",
      "_model_name": "HTMLModel",
      "_view_count": null,
      "_view_module": "@jupyter-widgets/controls",
      "_view_module_version": "1.5.0",
      "_view_name": "HTMLView",
      "description": "",
      "description_tooltip": null,
      "layout": "IPY_MODEL_7497d194051243268003a23d8cb7b6ef",
      "placeholder": "​",
      "style": "IPY_MODEL_4694c6ec303f44a0b00a1ff9d0a14cc2",
      "value": " 570/570 [00:00&lt;00:00, 19.2kB/s]"
     }
    },
    "66c0f031daf54ebbbf9e10f2ccf3a7f5": {
     "model_module": "@jupyter-widgets/controls",
     "model_module_version": "1.5.0",
     "model_name": "HTMLModel",
     "state": {
      "_dom_classes": [],
      "_model_module": "@jupyter-widgets/controls",
      "_model_module_version": "1.5.0",
      "_model_name": "HTMLModel",
      "_view_count": null,
      "_view_module": "@jupyter-widgets/controls",
      "_view_module_version": "1.5.0",
      "_view_name": "HTMLView",
      "description": "",
      "description_tooltip": null,
      "layout": "IPY_MODEL_fcb9704dcffe4edabee12a5c2dfea3a5",
      "placeholder": "​",
      "style": "IPY_MODEL_3e1f0903f02142c3a2d22894db96bbfb",
      "value": "Downloading (…)lve/main/config.json: 100%"
     }
    },
    "6f6aad7b0da94817a806a0d1bfaf2437": {
     "model_module": "@jupyter-widgets/controls",
     "model_module_version": "1.5.0",
     "model_name": "HTMLModel",
     "state": {
      "_dom_classes": [],
      "_model_module": "@jupyter-widgets/controls",
      "_model_module_version": "1.5.0",
      "_model_name": "HTMLModel",
      "_view_count": null,
      "_view_module": "@jupyter-widgets/controls",
      "_view_module_version": "1.5.0",
      "_view_name": "HTMLView",
      "description": "",
      "description_tooltip": null,
      "layout": "IPY_MODEL_fca92babec7d4235b8d8f27436093fec",
      "placeholder": "​",
      "style": "IPY_MODEL_d46f8d1e9e76478fab6dd656a8983ecf",
      "value": " 3937/4115 [00:02&lt;00:00, 2009.87 examples/s]"
     }
    },
    "701a99fda5954142a5004865ea93b68e": {
     "model_module": "@jupyter-widgets/controls",
     "model_module_version": "1.5.0",
     "model_name": "FloatProgressModel",
     "state": {
      "_dom_classes": [],
      "_model_module": "@jupyter-widgets/controls",
      "_model_module_version": "1.5.0",
      "_model_name": "FloatProgressModel",
      "_view_count": null,
      "_view_module": "@jupyter-widgets/controls",
      "_view_module_version": "1.5.0",
      "_view_name": "ProgressView",
      "bar_style": "success",
      "description": "",
      "description_tooltip": null,
      "layout": "IPY_MODEL_d59e1a25bcbb4cb9b7e86610c2362b68",
      "max": 570,
      "min": 0,
      "orientation": "horizontal",
      "style": "IPY_MODEL_ad2e19b6745142c89cd21aa00ac0a75f",
      "value": 570
     }
    },
    "725ed2ea5cb244e8ad6633c163a5b431": {
     "model_module": "@jupyter-widgets/base",
     "model_module_version": "1.2.0",
     "model_name": "LayoutModel",
     "state": {
      "_model_module": "@jupyter-widgets/base",
      "_model_module_version": "1.2.0",
      "_model_name": "LayoutModel",
      "_view_count": null,
      "_view_module": "@jupyter-widgets/base",
      "_view_module_version": "1.2.0",
      "_view_name": "LayoutView",
      "align_content": null,
      "align_items": null,
      "align_self": null,
      "border": null,
      "bottom": null,
      "display": null,
      "flex": null,
      "flex_flow": null,
      "grid_area": null,
      "grid_auto_columns": null,
      "grid_auto_flow": null,
      "grid_auto_rows": null,
      "grid_column": null,
      "grid_gap": null,
      "grid_row": null,
      "grid_template_areas": null,
      "grid_template_columns": null,
      "grid_template_rows": null,
      "height": null,
      "justify_content": null,
      "justify_items": null,
      "left": null,
      "margin": null,
      "max_height": null,
      "max_width": null,
      "min_height": null,
      "min_width": null,
      "object_fit": null,
      "object_position": null,
      "order": null,
      "overflow": null,
      "overflow_x": null,
      "overflow_y": null,
      "padding": null,
      "right": null,
      "top": null,
      "visibility": null,
      "width": null
     }
    },
    "73bd6b65802b41198d8865848fbf1191": {
     "model_module": "@jupyter-widgets/base",
     "model_module_version": "1.2.0",
     "model_name": "LayoutModel",
     "state": {
      "_model_module": "@jupyter-widgets/base",
      "_model_module_version": "1.2.0",
      "_model_name": "LayoutModel",
      "_view_count": null,
      "_view_module": "@jupyter-widgets/base",
      "_view_module_version": "1.2.0",
      "_view_name": "LayoutView",
      "align_content": null,
      "align_items": null,
      "align_self": null,
      "border": null,
      "bottom": null,
      "display": null,
      "flex": null,
      "flex_flow": null,
      "grid_area": null,
      "grid_auto_columns": null,
      "grid_auto_flow": null,
      "grid_auto_rows": null,
      "grid_column": null,
      "grid_gap": null,
      "grid_row": null,
      "grid_template_areas": null,
      "grid_template_columns": null,
      "grid_template_rows": null,
      "height": null,
      "justify_content": null,
      "justify_items": null,
      "left": null,
      "margin": null,
      "max_height": null,
      "max_width": null,
      "min_height": null,
      "min_width": null,
      "object_fit": null,
      "object_position": null,
      "order": null,
      "overflow": null,
      "overflow_x": null,
      "overflow_y": null,
      "padding": null,
      "right": null,
      "top": null,
      "visibility": null,
      "width": null
     }
    },
    "747c8e9e9c574c64bbe3df1bcee04760": {
     "model_module": "@jupyter-widgets/controls",
     "model_module_version": "1.5.0",
     "model_name": "FloatProgressModel",
     "state": {
      "_dom_classes": [],
      "_model_module": "@jupyter-widgets/controls",
      "_model_module_version": "1.5.0",
      "_model_name": "FloatProgressModel",
      "_view_count": null,
      "_view_module": "@jupyter-widgets/controls",
      "_view_module_version": "1.5.0",
      "_view_name": "ProgressView",
      "bar_style": "",
      "description": "",
      "description_tooltip": null,
      "layout": "IPY_MODEL_11078d7279284b7f9401384c73908ed2",
      "max": 4115,
      "min": 0,
      "orientation": "horizontal",
      "style": "IPY_MODEL_ad1000fedde045fe9694d1c4ac820602",
      "value": 4115
     }
    },
    "7497d194051243268003a23d8cb7b6ef": {
     "model_module": "@jupyter-widgets/base",
     "model_module_version": "1.2.0",
     "model_name": "LayoutModel",
     "state": {
      "_model_module": "@jupyter-widgets/base",
      "_model_module_version": "1.2.0",
      "_model_name": "LayoutModel",
      "_view_count": null,
      "_view_module": "@jupyter-widgets/base",
      "_view_module_version": "1.2.0",
      "_view_name": "LayoutView",
      "align_content": null,
      "align_items": null,
      "align_self": null,
      "border": null,
      "bottom": null,
      "display": null,
      "flex": null,
      "flex_flow": null,
      "grid_area": null,
      "grid_auto_columns": null,
      "grid_auto_flow": null,
      "grid_auto_rows": null,
      "grid_column": null,
      "grid_gap": null,
      "grid_row": null,
      "grid_template_areas": null,
      "grid_template_columns": null,
      "grid_template_rows": null,
      "height": null,
      "justify_content": null,
      "justify_items": null,
      "left": null,
      "margin": null,
      "max_height": null,
      "max_width": null,
      "min_height": null,
      "min_width": null,
      "object_fit": null,
      "object_position": null,
      "order": null,
      "overflow": null,
      "overflow_x": null,
      "overflow_y": null,
      "padding": null,
      "right": null,
      "top": null,
      "visibility": null,
      "width": null
     }
    },
    "783345d4e1094bdf854b84220cd43231": {
     "model_module": "@jupyter-widgets/controls",
     "model_module_version": "1.5.0",
     "model_name": "FloatProgressModel",
     "state": {
      "_dom_classes": [],
      "_model_module": "@jupyter-widgets/controls",
      "_model_module_version": "1.5.0",
      "_model_name": "FloatProgressModel",
      "_view_count": null,
      "_view_module": "@jupyter-widgets/controls",
      "_view_module_version": "1.5.0",
      "_view_name": "ProgressView",
      "bar_style": "",
      "description": "",
      "description_tooltip": null,
      "layout": "IPY_MODEL_725ed2ea5cb244e8ad6633c163a5b431",
      "max": 165,
      "min": 0,
      "orientation": "horizontal",
      "style": "IPY_MODEL_f8946c5df37d48d291b50dbf5db6c331",
      "value": 0
     }
    },
    "785fb0702c85421b93d2b5be78a545de": {
     "model_module": "@jupyter-widgets/base",
     "model_module_version": "1.2.0",
     "model_name": "LayoutModel",
     "state": {
      "_model_module": "@jupyter-widgets/base",
      "_model_module_version": "1.2.0",
      "_model_name": "LayoutModel",
      "_view_count": null,
      "_view_module": "@jupyter-widgets/base",
      "_view_module_version": "1.2.0",
      "_view_name": "LayoutView",
      "align_content": null,
      "align_items": null,
      "align_self": null,
      "border": null,
      "bottom": null,
      "display": null,
      "flex": null,
      "flex_flow": null,
      "grid_area": null,
      "grid_auto_columns": null,
      "grid_auto_flow": null,
      "grid_auto_rows": null,
      "grid_column": null,
      "grid_gap": null,
      "grid_row": null,
      "grid_template_areas": null,
      "grid_template_columns": null,
      "grid_template_rows": null,
      "height": null,
      "justify_content": null,
      "justify_items": null,
      "left": null,
      "margin": null,
      "max_height": null,
      "max_width": null,
      "min_height": null,
      "min_width": null,
      "object_fit": null,
      "object_position": null,
      "order": null,
      "overflow": null,
      "overflow_x": null,
      "overflow_y": null,
      "padding": null,
      "right": null,
      "top": null,
      "visibility": null,
      "width": null
     }
    },
    "788489aeef674851a64f00814345537e": {
     "model_module": "@jupyter-widgets/controls",
     "model_module_version": "1.5.0",
     "model_name": "HTMLModel",
     "state": {
      "_dom_classes": [],
      "_model_module": "@jupyter-widgets/controls",
      "_model_module_version": "1.5.0",
      "_model_name": "HTMLModel",
      "_view_count": null,
      "_view_module": "@jupyter-widgets/controls",
      "_view_module_version": "1.5.0",
      "_view_name": "HTMLView",
      "description": "",
      "description_tooltip": null,
      "layout": "IPY_MODEL_aa38c070417f40249cd0a30c7ce64749",
      "placeholder": "​",
      "style": "IPY_MODEL_b13ac9dff68d47138395f6b7665ca6be",
      "value": "Downloading (…)solve/main/vocab.txt: 100%"
     }
    },
    "7babed65cb614de6a9475e019033c700": {
     "model_module": "@jupyter-widgets/base",
     "model_module_version": "1.2.0",
     "model_name": "LayoutModel",
     "state": {
      "_model_module": "@jupyter-widgets/base",
      "_model_module_version": "1.2.0",
      "_model_name": "LayoutModel",
      "_view_count": null,
      "_view_module": "@jupyter-widgets/base",
      "_view_module_version": "1.2.0",
      "_view_name": "LayoutView",
      "align_content": null,
      "align_items": null,
      "align_self": null,
      "border": null,
      "bottom": null,
      "display": null,
      "flex": null,
      "flex_flow": null,
      "grid_area": null,
      "grid_auto_columns": null,
      "grid_auto_flow": null,
      "grid_auto_rows": null,
      "grid_column": null,
      "grid_gap": null,
      "grid_row": null,
      "grid_template_areas": null,
      "grid_template_columns": null,
      "grid_template_rows": null,
      "height": null,
      "justify_content": null,
      "justify_items": null,
      "left": null,
      "margin": null,
      "max_height": null,
      "max_width": null,
      "min_height": null,
      "min_width": null,
      "object_fit": null,
      "object_position": null,
      "order": null,
      "overflow": null,
      "overflow_x": null,
      "overflow_y": null,
      "padding": null,
      "right": null,
      "top": null,
      "visibility": null,
      "width": null
     }
    },
    "7bf45c6cc10347f9b47247b72618d55f": {
     "model_module": "@jupyter-widgets/controls",
     "model_module_version": "1.5.0",
     "model_name": "HTMLModel",
     "state": {
      "_dom_classes": [],
      "_model_module": "@jupyter-widgets/controls",
      "_model_module_version": "1.5.0",
      "_model_name": "HTMLModel",
      "_view_count": null,
      "_view_module": "@jupyter-widgets/controls",
      "_view_module_version": "1.5.0",
      "_view_name": "HTMLView",
      "description": "",
      "description_tooltip": null,
      "layout": "IPY_MODEL_9043ee956c5b478b96cad2aa5688bb87",
      "placeholder": "​",
      "style": "IPY_MODEL_ce948ff47c084716a00924327e0a3fe4",
      "value": "Downloading (…)/main/tokenizer.json: 100%"
     }
    },
    "808f01558195434fa11fcbe2b7db6d97": {
     "model_module": "@jupyter-widgets/controls",
     "model_module_version": "1.5.0",
     "model_name": "HTMLModel",
     "state": {
      "_dom_classes": [],
      "_model_module": "@jupyter-widgets/controls",
      "_model_module_version": "1.5.0",
      "_model_name": "HTMLModel",
      "_view_count": null,
      "_view_module": "@jupyter-widgets/controls",
      "_view_module_version": "1.5.0",
      "_view_name": "HTMLView",
      "description": "",
      "description_tooltip": null,
      "layout": "IPY_MODEL_01be3734cee04789932f5b98015274ab",
      "placeholder": "​",
      "style": "IPY_MODEL_cec9e289061c4689b21e04a37a157e0e",
      "value": " 436k/436k [00:00&lt;00:00, 4.05MB/s]"
     }
    },
    "87b49c79e8964a98a648966efdfd7572": {
     "model_module": "@jupyter-widgets/controls",
     "model_module_version": "1.5.0",
     "model_name": "HBoxModel",
     "state": {
      "_dom_classes": [],
      "_model_module": "@jupyter-widgets/controls",
      "_model_module_version": "1.5.0",
      "_model_name": "HBoxModel",
      "_view_count": null,
      "_view_module": "@jupyter-widgets/controls",
      "_view_module_version": "1.5.0",
      "_view_name": "HBoxView",
      "box_style": "",
      "children": [
       "IPY_MODEL_9e503f488c374618a9202738b4c952a5",
       "IPY_MODEL_1d4d5a503d1c4112b580f0e0216d2719",
       "IPY_MODEL_8c89bb640bb543f2baf2cf14165ceb8f"
      ],
      "layout": "IPY_MODEL_28d1cb2de94344f4bb6982ac3cc166a3"
     }
    },
    "8a6717b6ef9e48e4b29eb4b292a85898": {
     "model_module": "@jupyter-widgets/base",
     "model_module_version": "1.2.0",
     "model_name": "LayoutModel",
     "state": {
      "_model_module": "@jupyter-widgets/base",
      "_model_module_version": "1.2.0",
      "_model_name": "LayoutModel",
      "_view_count": null,
      "_view_module": "@jupyter-widgets/base",
      "_view_module_version": "1.2.0",
      "_view_name": "LayoutView",
      "align_content": null,
      "align_items": null,
      "align_self": null,
      "border": null,
      "bottom": null,
      "display": null,
      "flex": null,
      "flex_flow": null,
      "grid_area": null,
      "grid_auto_columns": null,
      "grid_auto_flow": null,
      "grid_auto_rows": null,
      "grid_column": null,
      "grid_gap": null,
      "grid_row": null,
      "grid_template_areas": null,
      "grid_template_columns": null,
      "grid_template_rows": null,
      "height": null,
      "justify_content": null,
      "justify_items": null,
      "left": null,
      "margin": null,
      "max_height": null,
      "max_width": null,
      "min_height": null,
      "min_width": null,
      "object_fit": null,
      "object_position": null,
      "order": null,
      "overflow": null,
      "overflow_x": null,
      "overflow_y": null,
      "padding": null,
      "right": null,
      "top": null,
      "visibility": "hidden",
      "width": null
     }
    },
    "8b0688a2fdb0483b8573b1872413119d": {
     "model_module": "@jupyter-widgets/controls",
     "model_module_version": "1.5.0",
     "model_name": "HTMLModel",
     "state": {
      "_dom_classes": [],
      "_model_module": "@jupyter-widgets/controls",
      "_model_module_version": "1.5.0",
      "_model_name": "HTMLModel",
      "_view_count": null,
      "_view_module": "@jupyter-widgets/controls",
      "_view_module_version": "1.5.0",
      "_view_name": "HTMLView",
      "description": "",
      "description_tooltip": null,
      "layout": "IPY_MODEL_73bd6b65802b41198d8865848fbf1191",
      "placeholder": "​",
      "style": "IPY_MODEL_ead802c8fd584d01ab5effc54dea1110",
      "value": " 3785/3798 [00:02&lt;00:00, 1422.23 examples/s]"
     }
    },
    "8b8f6151000e4aa3995a884a665e1169": {
     "model_module": "@jupyter-widgets/controls",
     "model_module_version": "1.5.0",
     "model_name": "DescriptionStyleModel",
     "state": {
      "_model_module": "@jupyter-widgets/controls",
      "_model_module_version": "1.5.0",
      "_model_name": "DescriptionStyleModel",
      "_view_count": null,
      "_view_module": "@jupyter-widgets/base",
      "_view_module_version": "1.2.0",
      "_view_name": "StyleView",
      "description_width": ""
     }
    },
    "8c2d36bc800a4b069c51c160d1ddf97a": {
     "model_module": "@jupyter-widgets/base",
     "model_module_version": "1.2.0",
     "model_name": "LayoutModel",
     "state": {
      "_model_module": "@jupyter-widgets/base",
      "_model_module_version": "1.2.0",
      "_model_name": "LayoutModel",
      "_view_count": null,
      "_view_module": "@jupyter-widgets/base",
      "_view_module_version": "1.2.0",
      "_view_name": "LayoutView",
      "align_content": null,
      "align_items": null,
      "align_self": null,
      "border": null,
      "bottom": null,
      "display": null,
      "flex": null,
      "flex_flow": null,
      "grid_area": null,
      "grid_auto_columns": null,
      "grid_auto_flow": null,
      "grid_auto_rows": null,
      "grid_column": null,
      "grid_gap": null,
      "grid_row": null,
      "grid_template_areas": null,
      "grid_template_columns": null,
      "grid_template_rows": null,
      "height": null,
      "justify_content": null,
      "justify_items": null,
      "left": null,
      "margin": null,
      "max_height": null,
      "max_width": null,
      "min_height": null,
      "min_width": null,
      "object_fit": null,
      "object_position": null,
      "order": null,
      "overflow": null,
      "overflow_x": null,
      "overflow_y": null,
      "padding": null,
      "right": null,
      "top": null,
      "visibility": null,
      "width": null
     }
    },
    "8c74198dee1843a381fbab3ba1c62e07": {
     "model_module": "@jupyter-widgets/base",
     "model_module_version": "1.2.0",
     "model_name": "LayoutModel",
     "state": {
      "_model_module": "@jupyter-widgets/base",
      "_model_module_version": "1.2.0",
      "_model_name": "LayoutModel",
      "_view_count": null,
      "_view_module": "@jupyter-widgets/base",
      "_view_module_version": "1.2.0",
      "_view_name": "LayoutView",
      "align_content": null,
      "align_items": null,
      "align_self": null,
      "border": null,
      "bottom": null,
      "display": null,
      "flex": null,
      "flex_flow": null,
      "grid_area": null,
      "grid_auto_columns": null,
      "grid_auto_flow": null,
      "grid_auto_rows": null,
      "grid_column": null,
      "grid_gap": null,
      "grid_row": null,
      "grid_template_areas": null,
      "grid_template_columns": null,
      "grid_template_rows": null,
      "height": null,
      "justify_content": null,
      "justify_items": null,
      "left": null,
      "margin": null,
      "max_height": null,
      "max_width": null,
      "min_height": null,
      "min_width": null,
      "object_fit": null,
      "object_position": null,
      "order": null,
      "overflow": null,
      "overflow_x": null,
      "overflow_y": null,
      "padding": null,
      "right": null,
      "top": null,
      "visibility": null,
      "width": null
     }
    },
    "8c89bb640bb543f2baf2cf14165ceb8f": {
     "model_module": "@jupyter-widgets/controls",
     "model_module_version": "1.5.0",
     "model_name": "HTMLModel",
     "state": {
      "_dom_classes": [],
      "_model_module": "@jupyter-widgets/controls",
      "_model_module_version": "1.5.0",
      "_model_name": "HTMLModel",
      "_view_count": null,
      "_view_module": "@jupyter-widgets/controls",
      "_view_module_version": "1.5.0",
      "_view_name": "HTMLView",
      "description": "",
      "description_tooltip": null,
      "layout": "IPY_MODEL_95e1b682b9ba47d594bbbe30b70c3f5d",
      "placeholder": "​",
      "style": "IPY_MODEL_531ba594a64f45c68dd14e1f366bbabc",
      "value": " 436M/436M [00:38&lt;00:00, 12.1MB/s]"
     }
    },
    "8cbd990d82d549419b97360445f77d75": {
     "model_module": "@jupyter-widgets/controls",
     "model_module_version": "1.5.0",
     "model_name": "DescriptionStyleModel",
     "state": {
      "_model_module": "@jupyter-widgets/controls",
      "_model_module_version": "1.5.0",
      "_model_name": "DescriptionStyleModel",
      "_view_count": null,
      "_view_module": "@jupyter-widgets/base",
      "_view_module_version": "1.2.0",
      "_view_name": "StyleView",
      "description_width": ""
     }
    },
    "9043ee956c5b478b96cad2aa5688bb87": {
     "model_module": "@jupyter-widgets/base",
     "model_module_version": "1.2.0",
     "model_name": "LayoutModel",
     "state": {
      "_model_module": "@jupyter-widgets/base",
      "_model_module_version": "1.2.0",
      "_model_name": "LayoutModel",
      "_view_count": null,
      "_view_module": "@jupyter-widgets/base",
      "_view_module_version": "1.2.0",
      "_view_name": "LayoutView",
      "align_content": null,
      "align_items": null,
      "align_self": null,
      "border": null,
      "bottom": null,
      "display": null,
      "flex": null,
      "flex_flow": null,
      "grid_area": null,
      "grid_auto_columns": null,
      "grid_auto_flow": null,
      "grid_auto_rows": null,
      "grid_column": null,
      "grid_gap": null,
      "grid_row": null,
      "grid_template_areas": null,
      "grid_template_columns": null,
      "grid_template_rows": null,
      "height": null,
      "justify_content": null,
      "justify_items": null,
      "left": null,
      "margin": null,
      "max_height": null,
      "max_width": null,
      "min_height": null,
      "min_width": null,
      "object_fit": null,
      "object_position": null,
      "order": null,
      "overflow": null,
      "overflow_x": null,
      "overflow_y": null,
      "padding": null,
      "right": null,
      "top": null,
      "visibility": null,
      "width": null
     }
    },
    "95e1b682b9ba47d594bbbe30b70c3f5d": {
     "model_module": "@jupyter-widgets/base",
     "model_module_version": "1.2.0",
     "model_name": "LayoutModel",
     "state": {
      "_model_module": "@jupyter-widgets/base",
      "_model_module_version": "1.2.0",
      "_model_name": "LayoutModel",
      "_view_count": null,
      "_view_module": "@jupyter-widgets/base",
      "_view_module_version": "1.2.0",
      "_view_name": "LayoutView",
      "align_content": null,
      "align_items": null,
      "align_self": null,
      "border": null,
      "bottom": null,
      "display": null,
      "flex": null,
      "flex_flow": null,
      "grid_area": null,
      "grid_auto_columns": null,
      "grid_auto_flow": null,
      "grid_auto_rows": null,
      "grid_column": null,
      "grid_gap": null,
      "grid_row": null,
      "grid_template_areas": null,
      "grid_template_columns": null,
      "grid_template_rows": null,
      "height": null,
      "justify_content": null,
      "justify_items": null,
      "left": null,
      "margin": null,
      "max_height": null,
      "max_width": null,
      "min_height": null,
      "min_width": null,
      "object_fit": null,
      "object_position": null,
      "order": null,
      "overflow": null,
      "overflow_x": null,
      "overflow_y": null,
      "padding": null,
      "right": null,
      "top": null,
      "visibility": null,
      "width": null
     }
    },
    "990bebcafdc84a16ace079c3c2e8baec": {
     "model_module": "@jupyter-widgets/controls",
     "model_module_version": "1.5.0",
     "model_name": "HTMLModel",
     "state": {
      "_dom_classes": [],
      "_model_module": "@jupyter-widgets/controls",
      "_model_module_version": "1.5.0",
      "_model_name": "HTMLModel",
      "_view_count": null,
      "_view_module": "@jupyter-widgets/controls",
      "_view_module_version": "1.5.0",
      "_view_name": "HTMLView",
      "description": "",
      "description_tooltip": null,
      "layout": "IPY_MODEL_529e100915954230a92d7625e22e3343",
      "placeholder": "​",
      "style": "IPY_MODEL_c35be708461d4594a52ad53c384d4023",
      "value": " 32725/32924 [00:18&lt;00:00, 2009.84 examples/s]"
     }
    },
    "9e503f488c374618a9202738b4c952a5": {
     "model_module": "@jupyter-widgets/controls",
     "model_module_version": "1.5.0",
     "model_name": "HTMLModel",
     "state": {
      "_dom_classes": [],
      "_model_module": "@jupyter-widgets/controls",
      "_model_module_version": "1.5.0",
      "_model_name": "HTMLModel",
      "_view_count": null,
      "_view_module": "@jupyter-widgets/controls",
      "_view_module_version": "1.5.0",
      "_view_name": "HTMLView",
      "description": "",
      "description_tooltip": null,
      "layout": "IPY_MODEL_244bec7298844a8ba1ab7115183292cb",
      "placeholder": "​",
      "style": "IPY_MODEL_25dfb21fa84b45b08152bcb3c0e79f79",
      "value": "Downloading (…)&quot;pytorch_model.bin&quot;;: 100%"
     }
    },
    "a4fa8cf376bf4fdb95c6cb5446c75148": {
     "model_module": "@jupyter-widgets/controls",
     "model_module_version": "1.5.0",
     "model_name": "HTMLModel",
     "state": {
      "_dom_classes": [],
      "_model_module": "@jupyter-widgets/controls",
      "_model_module_version": "1.5.0",
      "_model_name": "HTMLModel",
      "_view_count": null,
      "_view_module": "@jupyter-widgets/controls",
      "_view_module_version": "1.5.0",
      "_view_name": "HTMLView",
      "description": "",
      "description_tooltip": null,
      "layout": "IPY_MODEL_4433cff3ef6b4eeb802eebbe579149d8",
      "placeholder": "​",
      "style": "IPY_MODEL_8cbd990d82d549419b97360445f77d75",
      "value": "Downloading (…)okenizer_config.json: 100%"
     }
    },
    "a5f94b3d4db34238be8e7f3dadc7b3af": {
     "model_module": "@jupyter-widgets/base",
     "model_module_version": "1.2.0",
     "model_name": "LayoutModel",
     "state": {
      "_model_module": "@jupyter-widgets/base",
      "_model_module_version": "1.2.0",
      "_model_name": "LayoutModel",
      "_view_count": null,
      "_view_module": "@jupyter-widgets/base",
      "_view_module_version": "1.2.0",
      "_view_name": "LayoutView",
      "align_content": null,
      "align_items": null,
      "align_self": null,
      "border": null,
      "bottom": null,
      "display": null,
      "flex": null,
      "flex_flow": null,
      "grid_area": null,
      "grid_auto_columns": null,
      "grid_auto_flow": null,
      "grid_auto_rows": null,
      "grid_column": null,
      "grid_gap": null,
      "grid_row": null,
      "grid_template_areas": null,
      "grid_template_columns": null,
      "grid_template_rows": null,
      "height": null,
      "justify_content": null,
      "justify_items": null,
      "left": null,
      "margin": null,
      "max_height": null,
      "max_width": null,
      "min_height": null,
      "min_width": null,
      "object_fit": null,
      "object_position": null,
      "order": null,
      "overflow": null,
      "overflow_x": null,
      "overflow_y": null,
      "padding": null,
      "right": null,
      "top": null,
      "visibility": null,
      "width": null
     }
    },
    "aa38c070417f40249cd0a30c7ce64749": {
     "model_module": "@jupyter-widgets/base",
     "model_module_version": "1.2.0",
     "model_name": "LayoutModel",
     "state": {
      "_model_module": "@jupyter-widgets/base",
      "_model_module_version": "1.2.0",
      "_model_name": "LayoutModel",
      "_view_count": null,
      "_view_module": "@jupyter-widgets/base",
      "_view_module_version": "1.2.0",
      "_view_name": "LayoutView",
      "align_content": null,
      "align_items": null,
      "align_self": null,
      "border": null,
      "bottom": null,
      "display": null,
      "flex": null,
      "flex_flow": null,
      "grid_area": null,
      "grid_auto_columns": null,
      "grid_auto_flow": null,
      "grid_auto_rows": null,
      "grid_column": null,
      "grid_gap": null,
      "grid_row": null,
      "grid_template_areas": null,
      "grid_template_columns": null,
      "grid_template_rows": null,
      "height": null,
      "justify_content": null,
      "justify_items": null,
      "left": null,
      "margin": null,
      "max_height": null,
      "max_width": null,
      "min_height": null,
      "min_width": null,
      "object_fit": null,
      "object_position": null,
      "order": null,
      "overflow": null,
      "overflow_x": null,
      "overflow_y": null,
      "padding": null,
      "right": null,
      "top": null,
      "visibility": null,
      "width": null
     }
    },
    "ad1000fedde045fe9694d1c4ac820602": {
     "model_module": "@jupyter-widgets/controls",
     "model_module_version": "1.5.0",
     "model_name": "ProgressStyleModel",
     "state": {
      "_model_module": "@jupyter-widgets/controls",
      "_model_module_version": "1.5.0",
      "_model_name": "ProgressStyleModel",
      "_view_count": null,
      "_view_module": "@jupyter-widgets/base",
      "_view_module_version": "1.2.0",
      "_view_name": "StyleView",
      "bar_color": null,
      "description_width": ""
     }
    },
    "ad2e19b6745142c89cd21aa00ac0a75f": {
     "model_module": "@jupyter-widgets/controls",
     "model_module_version": "1.5.0",
     "model_name": "ProgressStyleModel",
     "state": {
      "_model_module": "@jupyter-widgets/controls",
      "_model_module_version": "1.5.0",
      "_model_name": "ProgressStyleModel",
      "_view_count": null,
      "_view_module": "@jupyter-widgets/base",
      "_view_module_version": "1.2.0",
      "_view_name": "StyleView",
      "bar_color": null,
      "description_width": ""
     }
    },
    "aff6e255ae7f4f81b8f6e40b7b8c26ad": {
     "model_module": "@jupyter-widgets/controls",
     "model_module_version": "1.5.0",
     "model_name": "HBoxModel",
     "state": {
      "_dom_classes": [],
      "_model_module": "@jupyter-widgets/controls",
      "_model_module_version": "1.5.0",
      "_model_name": "HBoxModel",
      "_view_count": null,
      "_view_module": "@jupyter-widgets/controls",
      "_view_module_version": "1.5.0",
      "_view_name": "HBoxView",
      "box_style": "",
      "children": [
       "IPY_MODEL_37e6e86114774422b8429a6258026eda",
       "IPY_MODEL_747c8e9e9c574c64bbe3df1bcee04760",
       "IPY_MODEL_6f6aad7b0da94817a806a0d1bfaf2437"
      ],
      "layout": "IPY_MODEL_c2cbc01839dd429a8076aff41d3f1c31"
     }
    },
    "b13ac9dff68d47138395f6b7665ca6be": {
     "model_module": "@jupyter-widgets/controls",
     "model_module_version": "1.5.0",
     "model_name": "DescriptionStyleModel",
     "state": {
      "_model_module": "@jupyter-widgets/controls",
      "_model_module_version": "1.5.0",
      "_model_name": "DescriptionStyleModel",
      "_view_count": null,
      "_view_module": "@jupyter-widgets/base",
      "_view_module_version": "1.2.0",
      "_view_name": "StyleView",
      "description_width": ""
     }
    },
    "b25a5429eb4647deaaa6c538eea0f123": {
     "model_module": "@jupyter-widgets/controls",
     "model_module_version": "1.5.0",
     "model_name": "DescriptionStyleModel",
     "state": {
      "_model_module": "@jupyter-widgets/controls",
      "_model_module_version": "1.5.0",
      "_model_name": "DescriptionStyleModel",
      "_view_count": null,
      "_view_module": "@jupyter-widgets/base",
      "_view_module_version": "1.2.0",
      "_view_name": "StyleView",
      "description_width": ""
     }
    },
    "b355cad3d007490889bd01f054478eae": {
     "model_module": "@jupyter-widgets/controls",
     "model_module_version": "1.5.0",
     "model_name": "DescriptionStyleModel",
     "state": {
      "_model_module": "@jupyter-widgets/controls",
      "_model_module_version": "1.5.0",
      "_model_name": "DescriptionStyleModel",
      "_view_count": null,
      "_view_module": "@jupyter-widgets/base",
      "_view_module_version": "1.2.0",
      "_view_name": "StyleView",
      "description_width": ""
     }
    },
    "c2cbc01839dd429a8076aff41d3f1c31": {
     "model_module": "@jupyter-widgets/base",
     "model_module_version": "1.2.0",
     "model_name": "LayoutModel",
     "state": {
      "_model_module": "@jupyter-widgets/base",
      "_model_module_version": "1.2.0",
      "_model_name": "LayoutModel",
      "_view_count": null,
      "_view_module": "@jupyter-widgets/base",
      "_view_module_version": "1.2.0",
      "_view_name": "LayoutView",
      "align_content": null,
      "align_items": null,
      "align_self": null,
      "border": null,
      "bottom": null,
      "display": null,
      "flex": null,
      "flex_flow": null,
      "grid_area": null,
      "grid_auto_columns": null,
      "grid_auto_flow": null,
      "grid_auto_rows": null,
      "grid_column": null,
      "grid_gap": null,
      "grid_row": null,
      "grid_template_areas": null,
      "grid_template_columns": null,
      "grid_template_rows": null,
      "height": null,
      "justify_content": null,
      "justify_items": null,
      "left": null,
      "margin": null,
      "max_height": null,
      "max_width": null,
      "min_height": null,
      "min_width": null,
      "object_fit": null,
      "object_position": null,
      "order": null,
      "overflow": null,
      "overflow_x": null,
      "overflow_y": null,
      "padding": null,
      "right": null,
      "top": null,
      "visibility": "hidden",
      "width": null
     }
    },
    "c35be708461d4594a52ad53c384d4023": {
     "model_module": "@jupyter-widgets/controls",
     "model_module_version": "1.5.0",
     "model_name": "DescriptionStyleModel",
     "state": {
      "_model_module": "@jupyter-widgets/controls",
      "_model_module_version": "1.5.0",
      "_model_name": "DescriptionStyleModel",
      "_view_count": null,
      "_view_module": "@jupyter-widgets/base",
      "_view_module_version": "1.2.0",
      "_view_name": "StyleView",
      "description_width": ""
     }
    },
    "c3e960f1e2894dd8ac0ff08f6c92c0cd": {
     "model_module": "@jupyter-widgets/controls",
     "model_module_version": "1.5.0",
     "model_name": "HTMLModel",
     "state": {
      "_dom_classes": [],
      "_model_module": "@jupyter-widgets/controls",
      "_model_module_version": "1.5.0",
      "_model_name": "HTMLModel",
      "_view_count": null,
      "_view_module": "@jupyter-widgets/controls",
      "_view_module_version": "1.5.0",
      "_view_name": "HTMLView",
      "description": "",
      "description_tooltip": null,
      "layout": "IPY_MODEL_582edf469dec4b2dae01b31d32ef5f8e",
      "placeholder": "​",
      "style": "IPY_MODEL_c68ef97722444d65b965b554650a3970",
      "value": " 29.0/29.0 [00:00&lt;00:00, 535B/s]"
     }
    },
    "c68ef97722444d65b965b554650a3970": {
     "model_module": "@jupyter-widgets/controls",
     "model_module_version": "1.5.0",
     "model_name": "DescriptionStyleModel",
     "state": {
      "_model_module": "@jupyter-widgets/controls",
      "_model_module_version": "1.5.0",
      "_model_name": "DescriptionStyleModel",
      "_view_count": null,
      "_view_module": "@jupyter-widgets/base",
      "_view_module_version": "1.2.0",
      "_view_name": "StyleView",
      "description_width": ""
     }
    },
    "c6f1a689d7b64ec79b24a28084655e93": {
     "model_module": "@jupyter-widgets/base",
     "model_module_version": "1.2.0",
     "model_name": "LayoutModel",
     "state": {
      "_model_module": "@jupyter-widgets/base",
      "_model_module_version": "1.2.0",
      "_model_name": "LayoutModel",
      "_view_count": null,
      "_view_module": "@jupyter-widgets/base",
      "_view_module_version": "1.2.0",
      "_view_name": "LayoutView",
      "align_content": null,
      "align_items": null,
      "align_self": null,
      "border": null,
      "bottom": null,
      "display": null,
      "flex": null,
      "flex_flow": null,
      "grid_area": null,
      "grid_auto_columns": null,
      "grid_auto_flow": null,
      "grid_auto_rows": null,
      "grid_column": null,
      "grid_gap": null,
      "grid_row": null,
      "grid_template_areas": null,
      "grid_template_columns": null,
      "grid_template_rows": null,
      "height": null,
      "justify_content": null,
      "justify_items": null,
      "left": null,
      "margin": null,
      "max_height": null,
      "max_width": null,
      "min_height": null,
      "min_width": null,
      "object_fit": null,
      "object_position": null,
      "order": null,
      "overflow": null,
      "overflow_x": null,
      "overflow_y": null,
      "padding": null,
      "right": null,
      "top": null,
      "visibility": null,
      "width": null
     }
    },
    "c7507946b59b409cad4b06429cd0a53d": {
     "model_module": "@jupyter-widgets/base",
     "model_module_version": "1.2.0",
     "model_name": "LayoutModel",
     "state": {
      "_model_module": "@jupyter-widgets/base",
      "_model_module_version": "1.2.0",
      "_model_name": "LayoutModel",
      "_view_count": null,
      "_view_module": "@jupyter-widgets/base",
      "_view_module_version": "1.2.0",
      "_view_name": "LayoutView",
      "align_content": null,
      "align_items": null,
      "align_self": null,
      "border": null,
      "bottom": null,
      "display": null,
      "flex": null,
      "flex_flow": null,
      "grid_area": null,
      "grid_auto_columns": null,
      "grid_auto_flow": null,
      "grid_auto_rows": null,
      "grid_column": null,
      "grid_gap": null,
      "grid_row": null,
      "grid_template_areas": null,
      "grid_template_columns": null,
      "grid_template_rows": null,
      "height": null,
      "justify_content": null,
      "justify_items": null,
      "left": null,
      "margin": null,
      "max_height": null,
      "max_width": null,
      "min_height": null,
      "min_width": null,
      "object_fit": null,
      "object_position": null,
      "order": null,
      "overflow": null,
      "overflow_x": null,
      "overflow_y": null,
      "padding": null,
      "right": null,
      "top": null,
      "visibility": null,
      "width": null
     }
    },
    "cb331475a1064a629285fca3d9b1be50": {
     "model_module": "@jupyter-widgets/base",
     "model_module_version": "1.2.0",
     "model_name": "LayoutModel",
     "state": {
      "_model_module": "@jupyter-widgets/base",
      "_model_module_version": "1.2.0",
      "_model_name": "LayoutModel",
      "_view_count": null,
      "_view_module": "@jupyter-widgets/base",
      "_view_module_version": "1.2.0",
      "_view_name": "LayoutView",
      "align_content": null,
      "align_items": null,
      "align_self": null,
      "border": null,
      "bottom": null,
      "display": null,
      "flex": null,
      "flex_flow": null,
      "grid_area": null,
      "grid_auto_columns": null,
      "grid_auto_flow": null,
      "grid_auto_rows": null,
      "grid_column": null,
      "grid_gap": null,
      "grid_row": null,
      "grid_template_areas": null,
      "grid_template_columns": null,
      "grid_template_rows": null,
      "height": null,
      "justify_content": null,
      "justify_items": null,
      "left": null,
      "margin": null,
      "max_height": null,
      "max_width": null,
      "min_height": null,
      "min_width": null,
      "object_fit": null,
      "object_position": null,
      "order": null,
      "overflow": null,
      "overflow_x": null,
      "overflow_y": null,
      "padding": null,
      "right": null,
      "top": null,
      "visibility": null,
      "width": null
     }
    },
    "cc3c2cbb66e04a63bf707776097e3747": {
     "model_module": "@jupyter-widgets/controls",
     "model_module_version": "1.5.0",
     "model_name": "HBoxModel",
     "state": {
      "_dom_classes": [],
      "_model_module": "@jupyter-widgets/controls",
      "_model_module_version": "1.5.0",
      "_model_name": "HBoxModel",
      "_view_count": null,
      "_view_module": "@jupyter-widgets/controls",
      "_view_module_version": "1.5.0",
      "_view_name": "HBoxView",
      "box_style": "",
      "children": [
       "IPY_MODEL_7bf45c6cc10347f9b47247b72618d55f",
       "IPY_MODEL_3888745bd84a43b5b02279bbc36398d3",
       "IPY_MODEL_808f01558195434fa11fcbe2b7db6d97"
      ],
      "layout": "IPY_MODEL_deecde0ef4bd408ebb8454b517bb8e29"
     }
    },
    "cc7703f87f994755b884da02dfb7cdba": {
     "model_module": "@jupyter-widgets/controls",
     "model_module_version": "1.5.0",
     "model_name": "DescriptionStyleModel",
     "state": {
      "_model_module": "@jupyter-widgets/controls",
      "_model_module_version": "1.5.0",
      "_model_name": "DescriptionStyleModel",
      "_view_count": null,
      "_view_module": "@jupyter-widgets/base",
      "_view_module_version": "1.2.0",
      "_view_name": "StyleView",
      "description_width": ""
     }
    },
    "ce948ff47c084716a00924327e0a3fe4": {
     "model_module": "@jupyter-widgets/controls",
     "model_module_version": "1.5.0",
     "model_name": "DescriptionStyleModel",
     "state": {
      "_model_module": "@jupyter-widgets/controls",
      "_model_module_version": "1.5.0",
      "_model_name": "DescriptionStyleModel",
      "_view_count": null,
      "_view_module": "@jupyter-widgets/base",
      "_view_module_version": "1.2.0",
      "_view_name": "StyleView",
      "description_width": ""
     }
    },
    "cec9e289061c4689b21e04a37a157e0e": {
     "model_module": "@jupyter-widgets/controls",
     "model_module_version": "1.5.0",
     "model_name": "DescriptionStyleModel",
     "state": {
      "_model_module": "@jupyter-widgets/controls",
      "_model_module_version": "1.5.0",
      "_model_name": "DescriptionStyleModel",
      "_view_count": null,
      "_view_module": "@jupyter-widgets/base",
      "_view_module_version": "1.2.0",
      "_view_name": "StyleView",
      "description_width": ""
     }
    },
    "d46f8d1e9e76478fab6dd656a8983ecf": {
     "model_module": "@jupyter-widgets/controls",
     "model_module_version": "1.5.0",
     "model_name": "DescriptionStyleModel",
     "state": {
      "_model_module": "@jupyter-widgets/controls",
      "_model_module_version": "1.5.0",
      "_model_name": "DescriptionStyleModel",
      "_view_count": null,
      "_view_module": "@jupyter-widgets/base",
      "_view_module_version": "1.2.0",
      "_view_name": "StyleView",
      "description_width": ""
     }
    },
    "d4901d4b5db7495594ddde1fdd5f7217": {
     "model_module": "@jupyter-widgets/base",
     "model_module_version": "1.2.0",
     "model_name": "LayoutModel",
     "state": {
      "_model_module": "@jupyter-widgets/base",
      "_model_module_version": "1.2.0",
      "_model_name": "LayoutModel",
      "_view_count": null,
      "_view_module": "@jupyter-widgets/base",
      "_view_module_version": "1.2.0",
      "_view_name": "LayoutView",
      "align_content": null,
      "align_items": null,
      "align_self": null,
      "border": null,
      "bottom": null,
      "display": null,
      "flex": null,
      "flex_flow": null,
      "grid_area": null,
      "grid_auto_columns": null,
      "grid_auto_flow": null,
      "grid_auto_rows": null,
      "grid_column": null,
      "grid_gap": null,
      "grid_row": null,
      "grid_template_areas": null,
      "grid_template_columns": null,
      "grid_template_rows": null,
      "height": null,
      "justify_content": null,
      "justify_items": null,
      "left": null,
      "margin": null,
      "max_height": null,
      "max_width": null,
      "min_height": null,
      "min_width": null,
      "object_fit": null,
      "object_position": null,
      "order": null,
      "overflow": null,
      "overflow_x": null,
      "overflow_y": null,
      "padding": null,
      "right": null,
      "top": null,
      "visibility": null,
      "width": null
     }
    },
    "d59e1a25bcbb4cb9b7e86610c2362b68": {
     "model_module": "@jupyter-widgets/base",
     "model_module_version": "1.2.0",
     "model_name": "LayoutModel",
     "state": {
      "_model_module": "@jupyter-widgets/base",
      "_model_module_version": "1.2.0",
      "_model_name": "LayoutModel",
      "_view_count": null,
      "_view_module": "@jupyter-widgets/base",
      "_view_module_version": "1.2.0",
      "_view_name": "LayoutView",
      "align_content": null,
      "align_items": null,
      "align_self": null,
      "border": null,
      "bottom": null,
      "display": null,
      "flex": null,
      "flex_flow": null,
      "grid_area": null,
      "grid_auto_columns": null,
      "grid_auto_flow": null,
      "grid_auto_rows": null,
      "grid_column": null,
      "grid_gap": null,
      "grid_row": null,
      "grid_template_areas": null,
      "grid_template_columns": null,
      "grid_template_rows": null,
      "height": null,
      "justify_content": null,
      "justify_items": null,
      "left": null,
      "margin": null,
      "max_height": null,
      "max_width": null,
      "min_height": null,
      "min_width": null,
      "object_fit": null,
      "object_position": null,
      "order": null,
      "overflow": null,
      "overflow_x": null,
      "overflow_y": null,
      "padding": null,
      "right": null,
      "top": null,
      "visibility": null,
      "width": null
     }
    },
    "d98f572549a740b4bad51bafbbb3410e": {
     "model_module": "@jupyter-widgets/controls",
     "model_module_version": "1.5.0",
     "model_name": "ProgressStyleModel",
     "state": {
      "_model_module": "@jupyter-widgets/controls",
      "_model_module_version": "1.5.0",
      "_model_name": "ProgressStyleModel",
      "_view_count": null,
      "_view_module": "@jupyter-widgets/base",
      "_view_module_version": "1.2.0",
      "_view_name": "StyleView",
      "bar_color": null,
      "description_width": ""
     }
    },
    "db058a81df9a498ca4ba2d5e595e0792": {
     "model_module": "@jupyter-widgets/controls",
     "model_module_version": "1.5.0",
     "model_name": "ProgressStyleModel",
     "state": {
      "_model_module": "@jupyter-widgets/controls",
      "_model_module_version": "1.5.0",
      "_model_name": "ProgressStyleModel",
      "_view_count": null,
      "_view_module": "@jupyter-widgets/base",
      "_view_module_version": "1.2.0",
      "_view_name": "StyleView",
      "bar_color": null,
      "description_width": ""
     }
    },
    "db57478597bc4914ba2f794af10af98f": {
     "model_module": "@jupyter-widgets/base",
     "model_module_version": "1.2.0",
     "model_name": "LayoutModel",
     "state": {
      "_model_module": "@jupyter-widgets/base",
      "_model_module_version": "1.2.0",
      "_model_name": "LayoutModel",
      "_view_count": null,
      "_view_module": "@jupyter-widgets/base",
      "_view_module_version": "1.2.0",
      "_view_name": "LayoutView",
      "align_content": null,
      "align_items": null,
      "align_self": null,
      "border": null,
      "bottom": null,
      "display": null,
      "flex": null,
      "flex_flow": null,
      "grid_area": null,
      "grid_auto_columns": null,
      "grid_auto_flow": null,
      "grid_auto_rows": null,
      "grid_column": null,
      "grid_gap": null,
      "grid_row": null,
      "grid_template_areas": null,
      "grid_template_columns": null,
      "grid_template_rows": null,
      "height": null,
      "justify_content": null,
      "justify_items": null,
      "left": null,
      "margin": null,
      "max_height": null,
      "max_width": null,
      "min_height": null,
      "min_width": null,
      "object_fit": null,
      "object_position": null,
      "order": null,
      "overflow": null,
      "overflow_x": null,
      "overflow_y": null,
      "padding": null,
      "right": null,
      "top": null,
      "visibility": null,
      "width": null
     }
    },
    "deecde0ef4bd408ebb8454b517bb8e29": {
     "model_module": "@jupyter-widgets/base",
     "model_module_version": "1.2.0",
     "model_name": "LayoutModel",
     "state": {
      "_model_module": "@jupyter-widgets/base",
      "_model_module_version": "1.2.0",
      "_model_name": "LayoutModel",
      "_view_count": null,
      "_view_module": "@jupyter-widgets/base",
      "_view_module_version": "1.2.0",
      "_view_name": "LayoutView",
      "align_content": null,
      "align_items": null,
      "align_self": null,
      "border": null,
      "bottom": null,
      "display": null,
      "flex": null,
      "flex_flow": null,
      "grid_area": null,
      "grid_auto_columns": null,
      "grid_auto_flow": null,
      "grid_auto_rows": null,
      "grid_column": null,
      "grid_gap": null,
      "grid_row": null,
      "grid_template_areas": null,
      "grid_template_columns": null,
      "grid_template_rows": null,
      "height": null,
      "justify_content": null,
      "justify_items": null,
      "left": null,
      "margin": null,
      "max_height": null,
      "max_width": null,
      "min_height": null,
      "min_width": null,
      "object_fit": null,
      "object_position": null,
      "order": null,
      "overflow": null,
      "overflow_x": null,
      "overflow_y": null,
      "padding": null,
      "right": null,
      "top": null,
      "visibility": null,
      "width": null
     }
    },
    "e41da80cecda491db2472245a51493fb": {
     "model_module": "@jupyter-widgets/controls",
     "model_module_version": "1.5.0",
     "model_name": "HBoxModel",
     "state": {
      "_dom_classes": [],
      "_model_module": "@jupyter-widgets/controls",
      "_model_module_version": "1.5.0",
      "_model_name": "HBoxModel",
      "_view_count": null,
      "_view_module": "@jupyter-widgets/controls",
      "_view_module_version": "1.5.0",
      "_view_name": "HBoxView",
      "box_style": "",
      "children": [
       "IPY_MODEL_03ddcbb8e4f44841916433e0f95051b8",
       "IPY_MODEL_783345d4e1094bdf854b84220cd43231",
       "IPY_MODEL_4bab330562794b118e05e2f8dbbe4bbc"
      ],
      "layout": "IPY_MODEL_7babed65cb614de6a9475e019033c700"
     }
    },
    "e68f77ca1e2c49a7ae3a83021690e08d": {
     "model_module": "@jupyter-widgets/base",
     "model_module_version": "1.2.0",
     "model_name": "LayoutModel",
     "state": {
      "_model_module": "@jupyter-widgets/base",
      "_model_module_version": "1.2.0",
      "_model_name": "LayoutModel",
      "_view_count": null,
      "_view_module": "@jupyter-widgets/base",
      "_view_module_version": "1.2.0",
      "_view_name": "LayoutView",
      "align_content": null,
      "align_items": null,
      "align_self": null,
      "border": null,
      "bottom": null,
      "display": null,
      "flex": null,
      "flex_flow": null,
      "grid_area": null,
      "grid_auto_columns": null,
      "grid_auto_flow": null,
      "grid_auto_rows": null,
      "grid_column": null,
      "grid_gap": null,
      "grid_row": null,
      "grid_template_areas": null,
      "grid_template_columns": null,
      "grid_template_rows": null,
      "height": null,
      "justify_content": null,
      "justify_items": null,
      "left": null,
      "margin": null,
      "max_height": null,
      "max_width": null,
      "min_height": null,
      "min_width": null,
      "object_fit": null,
      "object_position": null,
      "order": null,
      "overflow": null,
      "overflow_x": null,
      "overflow_y": null,
      "padding": null,
      "right": null,
      "top": null,
      "visibility": null,
      "width": null
     }
    },
    "eabd7b94f3844007bd291c31a69355b6": {
     "model_module": "@jupyter-widgets/controls",
     "model_module_version": "1.5.0",
     "model_name": "HTMLModel",
     "state": {
      "_dom_classes": [],
      "_model_module": "@jupyter-widgets/controls",
      "_model_module_version": "1.5.0",
      "_model_name": "HTMLModel",
      "_view_count": null,
      "_view_module": "@jupyter-widgets/controls",
      "_view_module_version": "1.5.0",
      "_view_name": "HTMLView",
      "description": "",
      "description_tooltip": null,
      "layout": "IPY_MODEL_03da28e1776c468a92855184ff123a19",
      "placeholder": "​",
      "style": "IPY_MODEL_f38e7be450b8408fa6cdbf33a61a268d",
      "value": "Map: 100%"
     }
    },
    "ead802c8fd584d01ab5effc54dea1110": {
     "model_module": "@jupyter-widgets/controls",
     "model_module_version": "1.5.0",
     "model_name": "DescriptionStyleModel",
     "state": {
      "_model_module": "@jupyter-widgets/controls",
      "_model_module_version": "1.5.0",
      "_model_name": "DescriptionStyleModel",
      "_view_count": null,
      "_view_module": "@jupyter-widgets/base",
      "_view_module_version": "1.2.0",
      "_view_name": "StyleView",
      "description_width": ""
     }
    },
    "eea27ce9da184779809182e776ea98d4": {
     "model_module": "@jupyter-widgets/controls",
     "model_module_version": "1.5.0",
     "model_name": "ProgressStyleModel",
     "state": {
      "_model_module": "@jupyter-widgets/controls",
      "_model_module_version": "1.5.0",
      "_model_name": "ProgressStyleModel",
      "_view_count": null,
      "_view_module": "@jupyter-widgets/base",
      "_view_module_version": "1.2.0",
      "_view_name": "StyleView",
      "bar_color": null,
      "description_width": ""
     }
    },
    "f3240ae9600a4e0385be9003f0c5597d": {
     "model_module": "@jupyter-widgets/controls",
     "model_module_version": "1.5.0",
     "model_name": "ProgressStyleModel",
     "state": {
      "_model_module": "@jupyter-widgets/controls",
      "_model_module_version": "1.5.0",
      "_model_name": "ProgressStyleModel",
      "_view_count": null,
      "_view_module": "@jupyter-widgets/base",
      "_view_module_version": "1.2.0",
      "_view_name": "StyleView",
      "bar_color": null,
      "description_width": ""
     }
    },
    "f38e7be450b8408fa6cdbf33a61a268d": {
     "model_module": "@jupyter-widgets/controls",
     "model_module_version": "1.5.0",
     "model_name": "DescriptionStyleModel",
     "state": {
      "_model_module": "@jupyter-widgets/controls",
      "_model_module_version": "1.5.0",
      "_model_name": "DescriptionStyleModel",
      "_view_count": null,
      "_view_module": "@jupyter-widgets/base",
      "_view_module_version": "1.2.0",
      "_view_name": "StyleView",
      "description_width": ""
     }
    },
    "f3ca911f7ed64a0abf5eae5beffc9cb1": {
     "model_module": "@jupyter-widgets/base",
     "model_module_version": "1.2.0",
     "model_name": "LayoutModel",
     "state": {
      "_model_module": "@jupyter-widgets/base",
      "_model_module_version": "1.2.0",
      "_model_name": "LayoutModel",
      "_view_count": null,
      "_view_module": "@jupyter-widgets/base",
      "_view_module_version": "1.2.0",
      "_view_name": "LayoutView",
      "align_content": null,
      "align_items": null,
      "align_self": null,
      "border": null,
      "bottom": null,
      "display": null,
      "flex": null,
      "flex_flow": null,
      "grid_area": null,
      "grid_auto_columns": null,
      "grid_auto_flow": null,
      "grid_auto_rows": null,
      "grid_column": null,
      "grid_gap": null,
      "grid_row": null,
      "grid_template_areas": null,
      "grid_template_columns": null,
      "grid_template_rows": null,
      "height": null,
      "justify_content": null,
      "justify_items": null,
      "left": null,
      "margin": null,
      "max_height": null,
      "max_width": null,
      "min_height": null,
      "min_width": null,
      "object_fit": null,
      "object_position": null,
      "order": null,
      "overflow": null,
      "overflow_x": null,
      "overflow_y": null,
      "padding": null,
      "right": null,
      "top": null,
      "visibility": null,
      "width": null
     }
    },
    "f530a311fa2b4699be8540ad732105df": {
     "model_module": "@jupyter-widgets/base",
     "model_module_version": "1.2.0",
     "model_name": "LayoutModel",
     "state": {
      "_model_module": "@jupyter-widgets/base",
      "_model_module_version": "1.2.0",
      "_model_name": "LayoutModel",
      "_view_count": null,
      "_view_module": "@jupyter-widgets/base",
      "_view_module_version": "1.2.0",
      "_view_name": "LayoutView",
      "align_content": null,
      "align_items": null,
      "align_self": null,
      "border": null,
      "bottom": null,
      "display": null,
      "flex": null,
      "flex_flow": null,
      "grid_area": null,
      "grid_auto_columns": null,
      "grid_auto_flow": null,
      "grid_auto_rows": null,
      "grid_column": null,
      "grid_gap": null,
      "grid_row": null,
      "grid_template_areas": null,
      "grid_template_columns": null,
      "grid_template_rows": null,
      "height": null,
      "justify_content": null,
      "justify_items": null,
      "left": null,
      "margin": null,
      "max_height": null,
      "max_width": null,
      "min_height": null,
      "min_width": null,
      "object_fit": null,
      "object_position": null,
      "order": null,
      "overflow": null,
      "overflow_x": null,
      "overflow_y": null,
      "padding": null,
      "right": null,
      "top": null,
      "visibility": null,
      "width": null
     }
    },
    "f62a376a398a42eca6f3746a438b918f": {
     "model_module": "@jupyter-widgets/controls",
     "model_module_version": "1.5.0",
     "model_name": "FloatProgressModel",
     "state": {
      "_dom_classes": [],
      "_model_module": "@jupyter-widgets/controls",
      "_model_module_version": "1.5.0",
      "_model_name": "FloatProgressModel",
      "_view_count": null,
      "_view_module": "@jupyter-widgets/controls",
      "_view_module_version": "1.5.0",
      "_view_name": "ProgressView",
      "bar_style": "",
      "description": "",
      "description_tooltip": null,
      "layout": "IPY_MODEL_00b0f8d5d7ca471d9bc92bc1cff4de4c",
      "max": 4116,
      "min": 0,
      "orientation": "horizontal",
      "style": "IPY_MODEL_5ba8e2ebff2c45b883c24d4d783e8c40",
      "value": 4116
     }
    },
    "f8946c5df37d48d291b50dbf5db6c331": {
     "model_module": "@jupyter-widgets/controls",
     "model_module_version": "1.5.0",
     "model_name": "ProgressStyleModel",
     "state": {
      "_model_module": "@jupyter-widgets/controls",
      "_model_module_version": "1.5.0",
      "_model_name": "ProgressStyleModel",
      "_view_count": null,
      "_view_module": "@jupyter-widgets/base",
      "_view_module_version": "1.2.0",
      "_view_name": "StyleView",
      "bar_color": null,
      "description_width": ""
     }
    },
    "f9414c9880ee4e20b0ee99ff8e8c1460": {
     "model_module": "@jupyter-widgets/controls",
     "model_module_version": "1.5.0",
     "model_name": "HBoxModel",
     "state": {
      "_dom_classes": [],
      "_model_module": "@jupyter-widgets/controls",
      "_model_module_version": "1.5.0",
      "_model_name": "HBoxModel",
      "_view_count": null,
      "_view_module": "@jupyter-widgets/controls",
      "_view_module_version": "1.5.0",
      "_view_name": "HBoxView",
      "box_style": "",
      "children": [
       "IPY_MODEL_eabd7b94f3844007bd291c31a69355b6",
       "IPY_MODEL_4c871ff71f36482094ef9ff93d0d3633",
       "IPY_MODEL_8b0688a2fdb0483b8573b1872413119d"
      ],
      "layout": "IPY_MODEL_2610078c70104950857c354455ea115d"
     }
    },
    "fca92babec7d4235b8d8f27436093fec": {
     "model_module": "@jupyter-widgets/base",
     "model_module_version": "1.2.0",
     "model_name": "LayoutModel",
     "state": {
      "_model_module": "@jupyter-widgets/base",
      "_model_module_version": "1.2.0",
      "_model_name": "LayoutModel",
      "_view_count": null,
      "_view_module": "@jupyter-widgets/base",
      "_view_module_version": "1.2.0",
      "_view_name": "LayoutView",
      "align_content": null,
      "align_items": null,
      "align_self": null,
      "border": null,
      "bottom": null,
      "display": null,
      "flex": null,
      "flex_flow": null,
      "grid_area": null,
      "grid_auto_columns": null,
      "grid_auto_flow": null,
      "grid_auto_rows": null,
      "grid_column": null,
      "grid_gap": null,
      "grid_row": null,
      "grid_template_areas": null,
      "grid_template_columns": null,
      "grid_template_rows": null,
      "height": null,
      "justify_content": null,
      "justify_items": null,
      "left": null,
      "margin": null,
      "max_height": null,
      "max_width": null,
      "min_height": null,
      "min_width": null,
      "object_fit": null,
      "object_position": null,
      "order": null,
      "overflow": null,
      "overflow_x": null,
      "overflow_y": null,
      "padding": null,
      "right": null,
      "top": null,
      "visibility": null,
      "width": null
     }
    },
    "fcb9704dcffe4edabee12a5c2dfea3a5": {
     "model_module": "@jupyter-widgets/base",
     "model_module_version": "1.2.0",
     "model_name": "LayoutModel",
     "state": {
      "_model_module": "@jupyter-widgets/base",
      "_model_module_version": "1.2.0",
      "_model_name": "LayoutModel",
      "_view_count": null,
      "_view_module": "@jupyter-widgets/base",
      "_view_module_version": "1.2.0",
      "_view_name": "LayoutView",
      "align_content": null,
      "align_items": null,
      "align_self": null,
      "border": null,
      "bottom": null,
      "display": null,
      "flex": null,
      "flex_flow": null,
      "grid_area": null,
      "grid_auto_columns": null,
      "grid_auto_flow": null,
      "grid_auto_rows": null,
      "grid_column": null,
      "grid_gap": null,
      "grid_row": null,
      "grid_template_areas": null,
      "grid_template_columns": null,
      "grid_template_rows": null,
      "height": null,
      "justify_content": null,
      "justify_items": null,
      "left": null,
      "margin": null,
      "max_height": null,
      "max_width": null,
      "min_height": null,
      "min_width": null,
      "object_fit": null,
      "object_position": null,
      "order": null,
      "overflow": null,
      "overflow_x": null,
      "overflow_y": null,
      "padding": null,
      "right": null,
      "top": null,
      "visibility": null,
      "width": null
     }
    }
   }
  }
 },
 "nbformat": 4,
 "nbformat_minor": 4
}
