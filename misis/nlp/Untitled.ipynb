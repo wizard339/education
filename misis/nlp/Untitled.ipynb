{
  "cells": [
    {
      "cell_type": "code",
      "execution_count": null,
      "id": "c5d1bda7-4096-4f23-a6f2-58fb46a08e9d",
      "metadata": {
        "id": "c5d1bda7-4096-4f23-a6f2-58fb46a08e9d"
      },
      "outputs": [],
      "source": []
    },
    {
      "cell_type": "markdown",
      "id": "6c1e64ed-89a5-4276-ad2e-6b0f21854bb0",
      "metadata": {
        "id": "6c1e64ed-89a5-4276-ad2e-6b0f21854bb0",
        "tags": []
      },
      "source": [
        "# Importing packages"
      ]
    },
    {
      "cell_type": "code",
      "execution_count": 124,
      "id": "517bd3f1-73b4-4ecf-b875-bf281c77aff4",
      "metadata": {
        "collapsed": true,
        "execution": {
          "iopub.execute_input": "2023-04-06T16:37:21.289917Z",
          "iopub.status.busy": "2023-04-06T16:37:21.289917Z",
          "iopub.status.idle": "2023-04-06T16:37:22.748910Z",
          "shell.execute_reply": "2023-04-06T16:37:22.748910Z",
          "shell.execute_reply.started": "2023-04-06T16:37:21.289917Z"
        },
        "id": "517bd3f1-73b4-4ecf-b875-bf281c77aff4",
        "jupyter": {
          "outputs_hidden": true
        },
        "tags": [],
        "outputId": "c3e8dccb-8ccf-49ab-c2d6-54033aa12509",
        "colab": {
          "base_uri": "https://localhost:8080/"
        }
      },
      "outputs": [
        {
          "output_type": "stream",
          "name": "stdout",
          "text": [
            "Looking in indexes: https://pypi.org/simple, https://us-python.pkg.dev/colab-wheels/public/simple/\n",
            "Requirement already satisfied: contractions in /usr/local/lib/python3.9/dist-packages (0.1.73)\n",
            "Requirement already satisfied: seaborn in /usr/local/lib/python3.9/dist-packages (0.12.2)\n",
            "Requirement already satisfied: textblob in /usr/local/lib/python3.9/dist-packages (0.17.1)\n",
            "Requirement already satisfied: scikit-learn-intelex in /usr/local/lib/python3.9/dist-packages (2023.1.1)\n",
            "Requirement already satisfied: optuna in /usr/local/lib/python3.9/dist-packages (3.1.1)\n",
            "Requirement already satisfied: textsearch>=0.0.21 in /usr/local/lib/python3.9/dist-packages (from contractions) (0.0.24)\n",
            "Requirement already satisfied: matplotlib!=3.6.1,>=3.1 in /usr/local/lib/python3.9/dist-packages (from seaborn) (3.7.1)\n",
            "Requirement already satisfied: numpy!=1.24.0,>=1.17 in /usr/local/lib/python3.9/dist-packages (from seaborn) (1.22.4)\n",
            "Requirement already satisfied: pandas>=0.25 in /usr/local/lib/python3.9/dist-packages (from seaborn) (1.4.4)\n",
            "Requirement already satisfied: nltk>=3.1 in /usr/local/lib/python3.9/dist-packages (from textblob) (3.8.1)\n",
            "Requirement already satisfied: daal4py==2023.1.1 in /usr/local/lib/python3.9/dist-packages (from scikit-learn-intelex) (2023.1.1)\n",
            "Requirement already satisfied: scikit-learn>=0.22 in /usr/local/lib/python3.9/dist-packages (from scikit-learn-intelex) (1.2.2)\n",
            "Requirement already satisfied: daal==2023.1.1 in /usr/local/lib/python3.9/dist-packages (from daal4py==2023.1.1->scikit-learn-intelex) (2023.1.1)\n",
            "Requirement already satisfied: tbb==2021.* in /usr/local/lib/python3.9/dist-packages (from daal==2023.1.1->daal4py==2023.1.1->scikit-learn-intelex) (2021.9.0)\n",
            "Requirement already satisfied: alembic>=1.5.0 in /usr/local/lib/python3.9/dist-packages (from optuna) (1.10.3)\n",
            "Requirement already satisfied: PyYAML in /usr/local/lib/python3.9/dist-packages (from optuna) (6.0)\n",
            "Requirement already satisfied: colorlog in /usr/local/lib/python3.9/dist-packages (from optuna) (6.7.0)\n",
            "Requirement already satisfied: tqdm in /usr/local/lib/python3.9/dist-packages (from optuna) (4.65.0)\n",
            "Requirement already satisfied: sqlalchemy>=1.3.0 in /usr/local/lib/python3.9/dist-packages (from optuna) (1.4.47)\n",
            "Requirement already satisfied: packaging>=20.0 in /usr/local/lib/python3.9/dist-packages (from optuna) (23.0)\n",
            "Requirement already satisfied: cmaes>=0.9.1 in /usr/local/lib/python3.9/dist-packages (from optuna) (0.9.1)\n",
            "Requirement already satisfied: Mako in /usr/local/lib/python3.9/dist-packages (from alembic>=1.5.0->optuna) (1.2.4)\n",
            "Requirement already satisfied: typing-extensions>=4 in /usr/local/lib/python3.9/dist-packages (from alembic>=1.5.0->optuna) (4.5.0)\n",
            "Requirement already satisfied: kiwisolver>=1.0.1 in /usr/local/lib/python3.9/dist-packages (from matplotlib!=3.6.1,>=3.1->seaborn) (1.4.4)\n",
            "Requirement already satisfied: cycler>=0.10 in /usr/local/lib/python3.9/dist-packages (from matplotlib!=3.6.1,>=3.1->seaborn) (0.11.0)\n",
            "Requirement already satisfied: contourpy>=1.0.1 in /usr/local/lib/python3.9/dist-packages (from matplotlib!=3.6.1,>=3.1->seaborn) (1.0.7)\n",
            "Requirement already satisfied: python-dateutil>=2.7 in /usr/local/lib/python3.9/dist-packages (from matplotlib!=3.6.1,>=3.1->seaborn) (2.8.2)\n",
            "Requirement already satisfied: pyparsing>=2.3.1 in /usr/local/lib/python3.9/dist-packages (from matplotlib!=3.6.1,>=3.1->seaborn) (3.0.9)\n",
            "Requirement already satisfied: importlib-resources>=3.2.0 in /usr/local/lib/python3.9/dist-packages (from matplotlib!=3.6.1,>=3.1->seaborn) (5.12.0)\n",
            "Requirement already satisfied: fonttools>=4.22.0 in /usr/local/lib/python3.9/dist-packages (from matplotlib!=3.6.1,>=3.1->seaborn) (4.39.3)\n",
            "Requirement already satisfied: pillow>=6.2.0 in /usr/local/lib/python3.9/dist-packages (from matplotlib!=3.6.1,>=3.1->seaborn) (8.4.0)\n",
            "Requirement already satisfied: click in /usr/local/lib/python3.9/dist-packages (from nltk>=3.1->textblob) (8.1.3)\n",
            "Requirement already satisfied: joblib in /usr/local/lib/python3.9/dist-packages (from nltk>=3.1->textblob) (1.1.1)\n",
            "Requirement already satisfied: regex>=2021.8.3 in /usr/local/lib/python3.9/dist-packages (from nltk>=3.1->textblob) (2022.10.31)\n",
            "Requirement already satisfied: pytz>=2020.1 in /usr/local/lib/python3.9/dist-packages (from pandas>=0.25->seaborn) (2022.7.1)\n",
            "Requirement already satisfied: scipy>=1.3.2 in /usr/local/lib/python3.9/dist-packages (from scikit-learn>=0.22->scikit-learn-intelex) (1.10.1)\n",
            "Requirement already satisfied: threadpoolctl>=2.0.0 in /usr/local/lib/python3.9/dist-packages (from scikit-learn>=0.22->scikit-learn-intelex) (3.1.0)\n",
            "Requirement already satisfied: greenlet!=0.4.17 in /usr/local/lib/python3.9/dist-packages (from sqlalchemy>=1.3.0->optuna) (2.0.2)\n",
            "Requirement already satisfied: pyahocorasick in /usr/local/lib/python3.9/dist-packages (from textsearch>=0.0.21->contractions) (2.0.0)\n",
            "Requirement already satisfied: anyascii in /usr/local/lib/python3.9/dist-packages (from textsearch>=0.0.21->contractions) (0.3.2)\n",
            "Requirement already satisfied: zipp>=3.1.0 in /usr/local/lib/python3.9/dist-packages (from importlib-resources>=3.2.0->matplotlib!=3.6.1,>=3.1->seaborn) (3.15.0)\n",
            "Requirement already satisfied: six>=1.5 in /usr/local/lib/python3.9/dist-packages (from python-dateutil>=2.7->matplotlib!=3.6.1,>=3.1->seaborn) (1.16.0)\n",
            "Requirement already satisfied: MarkupSafe>=0.9.2 in /usr/local/lib/python3.9/dist-packages (from Mako->alembic>=1.5.0->optuna) (2.1.2)\n"
          ]
        }
      ],
      "source": [
        "# Intall the contractions package - https://github.com/kootenpv/contractions\n",
        "!pip install contractions seaborn textblob scikit-learn-intelex optuna"
      ]
    },
    {
      "cell_type": "code",
      "execution_count": 125,
      "id": "2b11fc5a-94aa-4e71-9cd0-27a594b901e0",
      "metadata": {
        "colab": {
          "base_uri": "https://localhost:8080/"
        },
        "execution": {
          "iopub.execute_input": "2023-04-06T18:32:46.750916Z",
          "iopub.status.busy": "2023-04-06T18:32:46.750916Z",
          "iopub.status.idle": "2023-04-06T18:32:46.769918Z",
          "shell.execute_reply": "2023-04-06T18:32:46.769918Z",
          "shell.execute_reply.started": "2023-04-06T18:32:46.750916Z"
        },
        "id": "2b11fc5a-94aa-4e71-9cd0-27a594b901e0",
        "outputId": "091dda66-a125-4c9a-eab0-990a79a5bf7b",
        "tags": []
      },
      "outputs": [
        {
          "output_type": "stream",
          "name": "stderr",
          "text": [
            "Intel(R) Extension for Scikit-learn* enabled (https://github.com/intel/scikit-learn-intelex)\n"
          ]
        }
      ],
      "source": [
        "import pandas as pd\n",
        "import numpy as np\n",
        "from scipy.sparse import hstack\n",
        "\n",
        "# visualisation\n",
        "import seaborn as sns\n",
        "import matplotlib.pyplot as plt\n",
        "from tqdm.auto import tqdm\n",
        "%matplotlib inline\n",
        "\n",
        "# text preprocessing\n",
        "import nltk\n",
        "import re\n",
        "import contractions\n",
        "import string\n",
        "from textblob import TextBlob # spelling correction\n",
        "\n",
        "from sklearnex import patch_sklearn \n",
        "patch_sklearn()\n",
        "\n",
        "from sklearn.model_selection import train_test_split\n",
        "from sklearn.pipeline import Pipeline\n",
        "from sklearn.svm import SVC\n",
        "from sklearn.feature_extraction.text import TfidfVectorizer\n",
        "from sklearn.linear_model import LogisticRegression\n",
        "from sklearn.ensemble import RandomForestClassifier\n",
        "from sklearn.metrics import (\n",
        "    accuracy_score,\n",
        "    f1_score,\n",
        "    roc_auc_score,\n",
        "    roc_curve,\n",
        "    auc,\n",
        "    confusion_matrix,\n",
        "    classification_report,\n",
        ")\n",
        "\n",
        "import optuna\n",
        "\n",
        "from torchtext.data import get_tokenizer\n",
        "from torchtext.vocab import build_vocab_from_iterator\n",
        "from torchtext.data.functional import to_map_style_dataset\n",
        "\n",
        "# Modeling\n",
        "import torch\n",
        "from torch import nn\n",
        "from torch.nn import functional as F\n",
        "from torch.optim import Adam, AdamW\n",
        "from torch.optim.lr_scheduler import LinearLR\n",
        "from torch.nn.init import xavier_uniform_\n",
        "from torch.utils.data import DataLoader\n",
        "\n",
        "# Other useful\n",
        "import math\n",
        "import collections\n",
        "import gc\n",
        "from torch.types import Device\n",
        "from prompt_toolkit import output"
      ]
    },
    {
      "cell_type": "code",
      "source": [
        "# for reproducibility\n",
        "import random\n",
        "seed_value=42\n",
        "random.seed(seed_value)\n",
        "np.random.seed(seed_value)\n",
        "torch.manual_seed(seed_value)\n",
        "torch.cuda.manual_seed_all(seed_value)"
      ],
      "metadata": {
        "id": "Bia3VWyP9Vfn"
      },
      "id": "Bia3VWyP9Vfn",
      "execution_count": null,
      "outputs": []
    },
    {
      "cell_type": "markdown",
      "id": "3efe847c-1433-4903-98ac-9cb9f8efab33",
      "metadata": {
        "id": "3efe847c-1433-4903-98ac-9cb9f8efab33"
      },
      "source": [
        "# Loading data and deleting rows with missing data"
      ]
    },
    {
      "cell_type": "code",
      "execution_count": 126,
      "id": "c901daee-83fe-4395-a4fe-8171c0799b0e",
      "metadata": {
        "colab": {
          "base_uri": "https://localhost:8080/"
        },
        "execution": {
          "iopub.execute_input": "2023-04-06T16:44:12.247916Z",
          "iopub.status.busy": "2023-04-06T16:44:12.247916Z",
          "iopub.status.idle": "2023-04-06T16:44:13.966005Z",
          "shell.execute_reply": "2023-04-06T16:44:13.966005Z",
          "shell.execute_reply.started": "2023-04-06T16:44:12.247916Z"
        },
        "id": "c901daee-83fe-4395-a4fe-8171c0799b0e",
        "outputId": "7420b0c5-6885-4de4-ae23-c7d59bf438c5",
        "tags": []
      },
      "outputs": [
        {
          "output_type": "execute_result",
          "data": {
            "text/plain": [
              "(72134, 3)"
            ]
          },
          "metadata": {},
          "execution_count": 126
        }
      ],
      "source": [
        "df = pd.read_csv(filepath_or_buffer='https://zenodo.org/record/4561253/files/WELFake_Dataset.csv?download=1', index_col=0)\n",
        "# run next row with using jupiter lab\n",
        "# df = pd.read_csv(filepath_or_buffer='WELFake_Dataset.csv', index_col=0)\n",
        "df.shape"
      ]
    },
    {
      "cell_type": "code",
      "execution_count": 127,
      "id": "b21a729f-5090-4305-8e32-0bf009e51045",
      "metadata": {
        "colab": {
          "base_uri": "https://localhost:8080/"
        },
        "execution": {
          "iopub.execute_input": "2023-04-06T16:44:15.580680Z",
          "iopub.status.busy": "2023-04-06T16:44:15.580680Z",
          "iopub.status.idle": "2023-04-06T16:44:15.627188Z",
          "shell.execute_reply": "2023-04-06T16:44:15.627188Z",
          "shell.execute_reply.started": "2023-04-06T16:44:15.580680Z"
        },
        "id": "b21a729f-5090-4305-8e32-0bf009e51045",
        "outputId": "ddae114b-3757-427a-c2c6-67eef8161764",
        "tags": []
      },
      "outputs": [
        {
          "output_type": "execute_result",
          "data": {
            "text/plain": [
              "(71537, 3)"
            ]
          },
          "metadata": {},
          "execution_count": 127
        }
      ],
      "source": [
        "# we'll save it just in case\n",
        "missed_texts = df[df.text.isnull()]\n",
        "missed_titles = df[df.title.isnull()]\n",
        "df = df.dropna()\n",
        "df.shape"
      ]
    },
    {
      "cell_type": "markdown",
      "id": "95288016-6a75-4daf-b918-40615fa3dfc0",
      "metadata": {
        "id": "95288016-6a75-4daf-b918-40615fa3dfc0",
        "tags": []
      },
      "source": [
        "# Exploratory data analysis"
      ]
    },
    {
      "cell_type": "markdown",
      "id": "cbdb4492-8832-47ba-af6d-0860b7995208",
      "metadata": {
        "id": "cbdb4492-8832-47ba-af6d-0860b7995208"
      },
      "source": [
        "## Exploring the data distributions"
      ]
    },
    {
      "cell_type": "code",
      "execution_count": null,
      "id": "f67960ee-cac0-46bb-9c23-d9ea6344f4f0",
      "metadata": {
        "execution": {
          "iopub.execute_input": "2023-04-06T16:44:24.794911Z",
          "iopub.status.busy": "2023-04-06T16:44:24.794911Z",
          "iopub.status.idle": "2023-04-06T16:44:24.818910Z",
          "shell.execute_reply": "2023-04-06T16:44:24.817910Z",
          "shell.execute_reply.started": "2023-04-06T16:44:24.794911Z"
        },
        "id": "f67960ee-cac0-46bb-9c23-d9ea6344f4f0",
        "outputId": "608c8a46-d13b-4228-b29d-3688ee61a522",
        "tags": [],
        "colab": {
          "base_uri": "https://localhost:8080/"
        }
      },
      "outputs": [
        {
          "output_type": "stream",
          "name": "stdout",
          "text": [
            "Real: (36509, 3)\n",
            "Fake: (35028, 3)\n"
          ]
        }
      ],
      "source": [
        "real = df[df['label'] == 1]\n",
        "fake = df[df['label'] == 0]\n",
        "print(f'Real: {real.shape}\\nFake: {fake.shape}')"
      ]
    },
    {
      "cell_type": "code",
      "execution_count": null,
      "id": "1c8a7879-cb39-41cb-8fc6-f852fb812b09",
      "metadata": {
        "execution": {
          "iopub.execute_input": "2023-04-06T16:44:26.381361Z",
          "iopub.status.busy": "2023-04-06T16:44:26.381361Z",
          "iopub.status.idle": "2023-04-06T16:44:27.997103Z",
          "shell.execute_reply": "2023-04-06T16:44:27.997103Z",
          "shell.execute_reply.started": "2023-04-06T16:44:26.381361Z"
        },
        "id": "1c8a7879-cb39-41cb-8fc6-f852fb812b09",
        "outputId": "793defd9-8d6f-4f9f-d862-5c7f04b5ba2b",
        "tags": [],
        "colab": {
          "base_uri": "https://localhost:8080/",
          "height": 447
        }
      },
      "outputs": [
        {
          "output_type": "execute_result",
          "data": {
            "text/plain": [
              "[<matplotlib.lines.Line2D at 0x7f0a069500d0>]"
            ]
          },
          "metadata": {},
          "execution_count": 9
        },
        {
          "output_type": "display_data",
          "data": {
            "text/plain": [
              "<Figure size 640x480 with 1 Axes>"
            ],
            "image/png": "[encoded data removed]"
          },
          "metadata": {}
        }
      ],
      "source": [
        "plt.plot([len(txt.split()) for txt in real.text])\n",
        "plt.plot([len(txt.split()) for txt in fake.text])"
      ]
    },
    {
      "cell_type": "code",
      "execution_count": null,
      "id": "65abce7c-303e-4689-8f4c-0b8503116da3",
      "metadata": {
        "execution": {
          "iopub.execute_input": "2023-04-06T16:44:33.728910Z",
          "iopub.status.busy": "2023-04-06T16:44:33.728910Z",
          "iopub.status.idle": "2023-04-06T16:44:39.308950Z",
          "shell.execute_reply": "2023-04-06T16:44:39.308950Z",
          "shell.execute_reply.started": "2023-04-06T16:44:33.728910Z"
        },
        "id": "65abce7c-303e-4689-8f4c-0b8503116da3",
        "outputId": "74bb517d-3dc9-4dc6-cea9-cc475c48a3e7",
        "tags": [],
        "colab": {
          "base_uri": "https://localhost:8080/"
        }
      },
      "outputs": [
        {
          "output_type": "stream",
          "name": "stdout",
          "text": [
            "Quantiles of the texts:\n",
            "\treal\tfake\n",
            "0.10 | 80.0   | 92.0\n",
            "0.50 | 373.0  | 427.0\n",
            "0.90 | 983.0  | 1181.0\n",
            "0.95 | 1420.0 | 1419.0\n"
          ]
        }
      ],
      "source": [
        "print('Quantiles of the texts:')\n",
        "print('\\treal\\tfake')\n",
        "print(f'0.10 | {np.quantile([len(txt.split()) for txt in real.text], 0.10)}   | {np.quantile([len(txt.split()) for txt in fake.text], 0.10)}')\n",
        "print(f'0.50 | {np.quantile([len(txt.split()) for txt in real.text], 0.50)}  | {np.quantile([len(txt.split()) for txt in fake.text], 0.50)}')\n",
        "print(f'0.90 | {np.quantile([len(txt.split()) for txt in real.text], 0.90)}  | {np.quantile([len(txt.split()) for txt in fake.text], 0.90)}')\n",
        "print(f'0.95 | {np.quantile([len(txt.split()) for txt in real.text], 0.95)} | {np.quantile([len(txt.split()) for txt in fake.text], 0.95)}')"
      ]
    },
    {
      "cell_type": "code",
      "execution_count": null,
      "id": "3baed952-cfd6-42e9-86b2-c2c366addd2f",
      "metadata": {
        "execution": {
          "iopub.execute_input": "2023-04-06T16:44:39.309951Z",
          "iopub.status.busy": "2023-04-06T16:44:39.309951Z",
          "iopub.status.idle": "2023-04-06T16:44:39.626913Z",
          "shell.execute_reply": "2023-04-06T16:44:39.625912Z",
          "shell.execute_reply.started": "2023-04-06T16:44:39.309951Z"
        },
        "id": "3baed952-cfd6-42e9-86b2-c2c366addd2f",
        "outputId": "c3089f22-cf24-4520-dcc5-6d3a7d0b843a",
        "tags": [],
        "colab": {
          "base_uri": "https://localhost:8080/",
          "height": 447
        }
      },
      "outputs": [
        {
          "output_type": "execute_result",
          "data": {
            "text/plain": [
              "[<matplotlib.lines.Line2D at 0x7f0a16ef1c70>]"
            ]
          },
          "metadata": {},
          "execution_count": 11
        },
        {
          "output_type": "display_data",
          "data": {
            "text/plain": [
              "<Figure size 640x480 with 1 Axes>"
            ],
            "image/png": "[encoded data removed]"
          },
          "metadata": {}
        }
      ],
      "source": [
        "plt.plot([len(txt.split()) for txt in real.title])\n",
        "plt.plot([len(txt.split()) for txt in fake.title])"
      ]
    },
    {
      "cell_type": "code",
      "execution_count": null,
      "id": "019f0b93-234f-4dcc-a48f-c37d77038232",
      "metadata": {
        "execution": {
          "iopub.execute_input": "2023-04-06T16:44:39.627914Z",
          "iopub.status.busy": "2023-04-06T16:44:39.627914Z",
          "iopub.status.idle": "2023-04-06T16:44:39.816909Z",
          "shell.execute_reply": "2023-04-06T16:44:39.816909Z",
          "shell.execute_reply.started": "2023-04-06T16:44:39.627914Z"
        },
        "id": "019f0b93-234f-4dcc-a48f-c37d77038232",
        "outputId": "9179c938-ab03-4173-ee15-335ed9250cf6",
        "tags": [],
        "colab": {
          "base_uri": "https://localhost:8080/"
        }
      },
      "outputs": [
        {
          "output_type": "stream",
          "name": "stdout",
          "text": [
            "Quantiles of the titles:\n",
            "\treal\tfake\n",
            "0.10 | 8.0  | 8.0\n",
            "0.50 | 13.0 | 11.0\n",
            "0.90 | 19.0 | 15.0\n",
            "0.95 | 22.0 | 16.0\n"
          ]
        }
      ],
      "source": [
        "print('Quantiles of the titles:')\n",
        "print('\\treal\\tfake')\n",
        "print(f'0.10 | {np.quantile([len(txt.split()) for txt in real.title], 0.10)}  | {np.quantile([len(txt.split()) for txt in fake.title], 0.10)}')\n",
        "print(f'0.50 | {np.quantile([len(txt.split()) for txt in real.title], 0.50)} | {np.quantile([len(txt.split()) for txt in fake.title], 0.50)}')\n",
        "print(f'0.90 | {np.quantile([len(txt.split()) for txt in real.title], 0.90)} | {np.quantile([len(txt.split()) for txt in fake.title], 0.90)}')\n",
        "print(f'0.95 | {np.quantile([len(txt.split()) for txt in real.title], 0.95)} | {np.quantile([len(txt.split()) for txt in fake.title], 0.95)}')"
      ]
    },
    {
      "cell_type": "code",
      "execution_count": null,
      "id": "f8d42a47-7c45-4057-92d3-9e75af2786b1",
      "metadata": {
        "execution": {
          "iopub.execute_input": "2023-04-05T21:35:30.501675Z",
          "iopub.status.busy": "2023-04-05T21:35:30.500676Z",
          "iopub.status.idle": "2023-04-05T21:35:30.515675Z",
          "shell.execute_reply": "2023-04-05T21:35:30.515675Z",
          "shell.execute_reply.started": "2023-04-05T21:35:30.501675Z"
        },
        "id": "f8d42a47-7c45-4057-92d3-9e75af2786b1",
        "tags": []
      },
      "outputs": [],
      "source": [
        "# df = df[[len(txt.split()) for txt in df.text] <= np.quantile([len(txt.split()) for txt in real.text], 0.95)]"
      ]
    },
    {
      "cell_type": "markdown",
      "id": "9b9e2ebe-1e15-4689-9218-94d0a8bd7d24",
      "metadata": {
        "id": "9b9e2ebe-1e15-4689-9218-94d0a8bd7d24"
      },
      "source": [
        "## Text cleaning"
      ]
    },
    {
      "cell_type": "code",
      "execution_count": 128,
      "id": "2ceb1349-e28e-402d-8243-3019d1197e4a",
      "metadata": {
        "execution": {
          "iopub.execute_input": "2023-04-06T16:44:50.302587Z",
          "iopub.status.busy": "2023-04-06T16:44:50.302587Z",
          "iopub.status.idle": "2023-04-06T16:44:50.325588Z",
          "shell.execute_reply": "2023-04-06T16:44:50.325588Z",
          "shell.execute_reply.started": "2023-04-06T16:44:50.302587Z"
        },
        "id": "2ceb1349-e28e-402d-8243-3019d1197e4a",
        "tags": []
      },
      "outputs": [],
      "source": [
        "def remove_URL(text):\n",
        "    \"\"\"\n",
        "        Remove URLs from a sample string\n",
        "    \"\"\"\n",
        "    return re.sub(r\"https?://\\S+|www\\.\\S+\", \"\", text)\n",
        "\n",
        "def remove_html(text):\n",
        "    \"\"\"\n",
        "        Remove the html in sample text\n",
        "    \"\"\"\n",
        "    html = re.compile(r\"<.*?>|&([a-z0-9]+|#[0-9]{1,6}|#x[0-9a-f]{1,6});\")\n",
        "    return re.sub(html, \"\", text)\n",
        "\n",
        "def remove_non_ascii(text):\n",
        "    \"\"\"\n",
        "        Remove non-ASCII characters \n",
        "    \"\"\"\n",
        "    return re.sub(r'[^\\x00-\\x7f]',r'', text)\n",
        "\n",
        "def remove_special_characters(text):\n",
        "    \"\"\"\n",
        "        Remove special special characters, including symbols, emojis, and other graphic characters\n",
        "    \"\"\"\n",
        "    emoji_pattern = re.compile(\n",
        "        '['\n",
        "        u'\\U0001F600-\\U0001F64F'  # emoticons\n",
        "        u'\\U0001F300-\\U0001F5FF'  # symbols & pictographs\n",
        "        u'\\U0001F680-\\U0001F6FF'  # transport & map symbols\n",
        "        u'\\U0001F1E0-\\U0001F1FF'  # flags (iOS)\n",
        "        u'\\U00002702-\\U000027B0'\n",
        "        u'\\U000024C2-\\U0001F251'\n",
        "        ']+',\n",
        "        flags=re.UNICODE)\n",
        "    return emoji_pattern.sub(r'', text)\n",
        "\n",
        "def remove_hashtag(text):\n",
        "    return re.sub(r'#([^\\s]+)', r'\\1', text)# hashtag symbol\n",
        "\n",
        "def remove_punct(text):\n",
        "    \"\"\"\n",
        "        Remove the punctuation\n",
        "    \"\"\"\n",
        "    return re.sub(r'[]!\"$%&\\'()*+,/:;=#@?[\\\\^_`{|}~-]+', \"\", text) # exclude a dot\n",
        "#     return text.translate(str.maketrans('', '', string.punctuation)) # include a dot\n",
        "\n",
        "def other_clean(text):\n",
        "        \"\"\"\n",
        "            Other manual text cleaning techniques\n",
        "        \"\"\"\n",
        "        # Typos, slang and other\n",
        "        sample_typos_slang = {\n",
        "                                \"w/e\": \"whatever\",\n",
        "                                \"usagov\": \"usa government\",\n",
        "                                \"recentlu\": \"recently\",\n",
        "                                \"ph0tos\": \"photos\",\n",
        "                                \"amirite\": \"am i right\",\n",
        "                                \"exp0sed\": \"exposed\",\n",
        "                                \"<3\": \"love\",\n",
        "                                \"luv\": \"love\",\n",
        "                                \"amageddon\": \"armageddon\",\n",
        "                                \"trfc\": \"traffic\",\n",
        "                                \"16yr\": \"16 year\"\n",
        "                                }\n",
        "\n",
        "        # Acronyms\n",
        "        sample_acronyms =  { \n",
        "                            \"mh370\": \"malaysia airlines flight 370\",\n",
        "                            \"okwx\": \"oklahoma city weather\",\n",
        "                            \"arwx\": \"arkansas weather\",    \n",
        "                            \"gawx\": \"georgia weather\",  \n",
        "                            \"scwx\": \"south carolina weather\",  \n",
        "                            \"cawx\": \"california weather\",\n",
        "                            \"tnwx\": \"tennessee weather\",\n",
        "                            \"azwx\": \"arizona weather\",  \n",
        "                            \"alwx\": \"alabama weather\",\n",
        "                            \"usnwsgov\": \"united states national weather service\",\n",
        "                            \"2mw\": \"tomorrow\"\n",
        "                            }\n",
        "\n",
        "        \n",
        "        # Some common abbreviations \n",
        "        sample_abbr = {\n",
        "                        \"$\" : \" dollar \",\n",
        "                        \"€\" : \" euro \",\n",
        "                        \"4ao\" : \"for adults only\",\n",
        "                        \"a.m\" : \"before midday\",\n",
        "                        \"a3\" : \"anytime anywhere anyplace\",\n",
        "                        \"aamof\" : \"as a matter of fact\",\n",
        "                        \"acct\" : \"account\",\n",
        "                        \"adih\" : \"another day in hell\",\n",
        "                        \"afaic\" : \"as far as i am concerned\",\n",
        "                        \"afaict\" : \"as far as i can tell\",\n",
        "                        \"afaik\" : \"as far as i know\",\n",
        "                        \"afair\" : \"as far as i remember\",\n",
        "                        \"afk\" : \"away from keyboard\",\n",
        "                        \"app\" : \"application\",\n",
        "                        \"approx\" : \"approximately\",\n",
        "                        \"apps\" : \"applications\",\n",
        "                        \"asap\" : \"as soon as possible\",\n",
        "                        \"asl\" : \"age, sex, location\",\n",
        "                        \"atk\" : \"at the keyboard\",\n",
        "                        \"ave.\" : \"avenue\",\n",
        "                        \"aymm\" : \"are you my mother\",\n",
        "                        \"ayor\" : \"at your own risk\", \n",
        "                        \"b&b\" : \"bed and breakfast\",\n",
        "                        \"b+b\" : \"bed and breakfast\",\n",
        "                        \"b.c\" : \"before christ\",\n",
        "                        \"b2b\" : \"business to business\",\n",
        "                        \"b2c\" : \"business to customer\",\n",
        "                        \"b4\" : \"before\",\n",
        "                        \"b4n\" : \"bye for now\",\n",
        "                        \"b@u\" : \"back at you\",\n",
        "                        \"bae\" : \"before anyone else\",\n",
        "                        \"bak\" : \"back at keyboard\",\n",
        "                        \"bbbg\" : \"bye bye be good\",\n",
        "                        \"bbc\" : \"british broadcasting corporation\",\n",
        "                        \"bbias\" : \"be back in a second\",\n",
        "                        \"bbl\" : \"be back later\",\n",
        "                        \"bbs\" : \"be back soon\",\n",
        "                        \"be4\" : \"before\",\n",
        "                        \"bfn\" : \"bye for now\",\n",
        "                        \"blvd\" : \"boulevard\",\n",
        "                        \"bout\" : \"about\",\n",
        "                        \"brb\" : \"be right back\",\n",
        "                        \"bros\" : \"brothers\",\n",
        "                        \"brt\" : \"be right there\",\n",
        "                        \"bsaaw\" : \"big smile and a wink\",\n",
        "                        \"btw\" : \"by the way\",\n",
        "                        \"bwl\" : \"bursting with laughter\",\n",
        "                        \"c/o\" : \"care of\",\n",
        "                        \"cet\" : \"central european time\",\n",
        "                        \"cf\" : \"compare\",\n",
        "                        \"cia\" : \"central intelligence agency\",\n",
        "                        \"csl\" : \"can not stop laughing\",\n",
        "                        \"cu\" : \"see you\",\n",
        "                        \"cul8r\" : \"see you later\",\n",
        "                        \"cv\" : \"curriculum vitae\",\n",
        "                        \"cwot\" : \"complete waste of time\",\n",
        "                        \"cya\" : \"see you\",\n",
        "                        \"cyt\" : \"see you tomorrow\",\n",
        "                        \"dae\" : \"does anyone else\",\n",
        "                        \"dbmib\" : \"do not bother me i am busy\",\n",
        "                        \"diy\" : \"do it yourself\",\n",
        "                        \"dm\" : \"direct message\",\n",
        "                        \"dwh\" : \"during work hours\",\n",
        "                        \"e123\" : \"easy as one two three\",\n",
        "                        \"eet\" : \"eastern european time\",\n",
        "                        \"eg\" : \"example\",\n",
        "                        \"embm\" : \"early morning business meeting\",\n",
        "                        \"encl\" : \"enclosed\",\n",
        "                        \"encl.\" : \"enclosed\",\n",
        "                        \"etc\" : \"and so on\",\n",
        "                        \"faq\" : \"frequently asked questions\",\n",
        "                        \"fawc\" : \"for anyone who cares\",\n",
        "                        \"fb\" : \"facebook\",\n",
        "                        \"fc\" : \"fingers crossed\",\n",
        "                        \"fig\" : \"figure\",\n",
        "                        \"fimh\" : \"forever in my heart\", \n",
        "                        \"ft.\" : \"feet\",\n",
        "                        \"ft\" : \"featuring\",\n",
        "                        \"ftl\" : \"for the loss\",\n",
        "                        \"ftw\" : \"for the win\",\n",
        "                        \"fwiw\" : \"for what it is worth\",\n",
        "                        \"fyi\" : \"for your information\",\n",
        "                        \"g9\" : \"genius\",\n",
        "                        \"gahoy\" : \"get a hold of yourself\",\n",
        "                        \"gal\" : \"get a life\",\n",
        "                        \"gcse\" : \"general certificate of secondary education\",\n",
        "                        \"gfn\" : \"gone for now\",\n",
        "                        \"gg\" : \"good game\",\n",
        "                        \"gl\" : \"good luck\",\n",
        "                        \"glhf\" : \"good luck have fun\",\n",
        "                        \"gmt\" : \"greenwich mean time\",\n",
        "                        \"gmta\" : \"great minds think alike\",\n",
        "                        \"gn\" : \"good night\",\n",
        "                        \"g.o.a.t\" : \"greatest of all time\",\n",
        "                        \"goat\" : \"greatest of all time\",\n",
        "                        \"goi\" : \"get over it\",\n",
        "                        \"gps\" : \"global positioning system\",\n",
        "                        \"gr8\" : \"great\",\n",
        "                        \"gratz\" : \"congratulations\",\n",
        "                        \"gyal\" : \"girl\",\n",
        "                        \"h&c\" : \"hot and cold\",\n",
        "                        \"hp\" : \"horsepower\",\n",
        "                        \"hr\" : \"hour\",\n",
        "                        \"hrh\" : \"his royal highness\",\n",
        "                        \"ht\" : \"height\",\n",
        "                        \"ibrb\" : \"i will be right back\",\n",
        "                        \"ic\" : \"i see\",\n",
        "                        \"icq\" : \"i seek you\",\n",
        "                        \"icymi\" : \"in case you missed it\",\n",
        "                        \"idc\" : \"i do not care\",\n",
        "                        \"idgadf\" : \"i do not give a damn fuck\",\n",
        "                        \"idgaf\" : \"i do not give a fuck\",\n",
        "                        \"idk\" : \"i do not know\",\n",
        "                        \"ie\" : \"that is\",\n",
        "                        \"i.e\" : \"that is\",\n",
        "                        \"ifyp\" : \"i feel your pain\",\n",
        "                        \"IG\" : \"instagram\",\n",
        "                        \"iirc\" : \"if i remember correctly\",\n",
        "                        \"ilu\" : \"i love you\",\n",
        "                        \"ily\" : \"i love you\",\n",
        "                        \"imho\" : \"in my humble opinion\",\n",
        "                        \"imo\" : \"in my opinion\",\n",
        "                        \"imu\" : \"i miss you\",\n",
        "                        \"iow\" : \"in other words\",\n",
        "                        \"irl\" : \"in real life\",\n",
        "                        \"j4f\" : \"just for fun\",\n",
        "                        \"jic\" : \"just in case\",\n",
        "                        \"jk\" : \"just kidding\",\n",
        "                        \"jsyk\" : \"just so you know\",\n",
        "                        \"l8r\" : \"later\",\n",
        "                        \"lb\" : \"pound\",\n",
        "                        \"lbs\" : \"pounds\",\n",
        "                        \"ldr\" : \"long distance relationship\",\n",
        "                        \"lmao\" : \"laugh my ass off\",\n",
        "                        \"lmfao\" : \"laugh my fucking ass off\",\n",
        "                        \"lol\" : \"laughing out loud\",\n",
        "                        \"ltd\" : \"limited\",\n",
        "                        \"ltns\" : \"long time no see\",\n",
        "                        \"m8\" : \"mate\",\n",
        "                        \"mf\" : \"motherfucker\",\n",
        "                        \"mfs\" : \"motherfuckers\",\n",
        "                        \"mfw\" : \"my face when\",\n",
        "                        \"mofo\" : \"motherfucker\",\n",
        "                        \"mph\" : \"miles per hour\",\n",
        "                        \"mr\" : \"mister\",\n",
        "                        \"mrw\" : \"my reaction when\",\n",
        "                        \"ms\" : \"miss\",\n",
        "                        \"mte\" : \"my thoughts exactly\",\n",
        "                        \"nagi\" : \"not a good idea\",\n",
        "                        \"nbc\" : \"national broadcasting company\",\n",
        "                        \"nbd\" : \"not big deal\",\n",
        "                        \"nfs\" : \"not for sale\",\n",
        "                        \"ngl\" : \"not going to lie\",\n",
        "                        \"nhs\" : \"national health service\",\n",
        "                        \"nrn\" : \"no reply necessary\",\n",
        "                        \"nsfl\" : \"not safe for life\",\n",
        "                        \"nsfw\" : \"not safe for work\",\n",
        "                        \"nth\" : \"nice to have\",\n",
        "                        \"nvr\" : \"never\",\n",
        "                        \"nyc\" : \"new york city\",\n",
        "                        \"oc\" : \"original content\",\n",
        "                        \"og\" : \"original\",\n",
        "                        \"ohp\" : \"overhead projector\",\n",
        "                        \"oic\" : \"oh i see\",\n",
        "                        \"omdb\" : \"over my dead body\",\n",
        "                        \"omg\" : \"oh my god\",\n",
        "                        \"omw\" : \"on my way\",\n",
        "                        \"p.a\" : \"per annum\",\n",
        "                        \"p.m\" : \"after midday\",\n",
        "                        \"pm\" : \"prime minister\",\n",
        "                        \"poc\" : \"people of color\",\n",
        "                        \"pov\" : \"point of view\",\n",
        "                        \"pp\" : \"pages\",\n",
        "                        \"ppl\" : \"people\",\n",
        "                        \"prw\" : \"parents are watching\",\n",
        "                        \"ps\" : \"postscript\",\n",
        "                        \"pt\" : \"point\",\n",
        "                        \"ptb\" : \"please text back\",\n",
        "                        \"pto\" : \"please turn over\",\n",
        "                        \"qpsa\" : \"what happens\", #\"que pasa\",\n",
        "                        \"ratchet\" : \"rude\",\n",
        "                        \"rbtl\" : \"read between the lines\",\n",
        "                        \"rlrt\" : \"real life retweet\", \n",
        "                        \"rofl\" : \"rolling on the floor laughing\",\n",
        "                        \"roflol\" : \"rolling on the floor laughing out loud\",\n",
        "                        \"rotflmao\" : \"rolling on the floor laughing my ass off\",\n",
        "                        \"rt\" : \"retweet\",\n",
        "                        \"ruok\" : \"are you ok\",\n",
        "                        \"sfw\" : \"safe for work\",\n",
        "                        \"sk8\" : \"skate\",\n",
        "                        \"smh\" : \"shake my head\",\n",
        "                        \"sq\" : \"square\",\n",
        "                        \"srsly\" : \"seriously\", \n",
        "                        \"ssdd\" : \"same stuff different day\",\n",
        "                        \"tbh\" : \"to be honest\",\n",
        "                        \"tbs\" : \"tablespooful\",\n",
        "                        \"tbsp\" : \"tablespooful\",\n",
        "                        \"tfw\" : \"that feeling when\",\n",
        "                        \"thks\" : \"thank you\",\n",
        "                        \"tho\" : \"though\",\n",
        "                        \"thx\" : \"thank you\",\n",
        "                        \"tia\" : \"thanks in advance\",\n",
        "                        \"til\" : \"today i learned\",\n",
        "                        \"tl;dr\" : \"too long i did not read\",\n",
        "                        \"tldr\" : \"too long i did not read\",\n",
        "                        \"tmb\" : \"tweet me back\",\n",
        "                        \"tntl\" : \"trying not to laugh\",\n",
        "                        \"ttyl\" : \"talk to you later\",\n",
        "                        \"u.s.\" : 'usa',\n",
        "                        \"u\" : \"you\",\n",
        "                        \"u2\" : \"you too\",\n",
        "                        \"u4e\" : \"yours for ever\",\n",
        "                        \"utc\" : \"coordinated universal time\",\n",
        "                        \"w/\" : \"with\",\n",
        "                        \"w/o\" : \"without\",\n",
        "                        \"w8\" : \"wait\",\n",
        "                        \"wassup\" : \"what is up\",\n",
        "                        \"wb\" : \"welcome back\",\n",
        "                        \"wtf\" : \"what the fuck\",\n",
        "                        \"wtg\" : \"way to go\",\n",
        "                        \"wtpa\" : \"where the party at\",\n",
        "                        \"wuf\" : \"where are you from\",\n",
        "                        \"wuzup\" : \"what is up\",\n",
        "                        \"wywh\" : \"wish you were here\",\n",
        "                        \"yd\" : \"yard\",\n",
        "                        \"ygtr\" : \"you got that right\",\n",
        "                        \"ynk\" : \"you never know\",\n",
        "                        \"zzz\" : \"sleeping bored and tired\"\n",
        "                        }\n",
        "            \n",
        "        sample_typos_slang_pattern = re.compile(r'(?<!\\w)(' + '|'.join(re.escape(key) for key in sample_typos_slang.keys()) + r')(?!\\w)')\n",
        "        sample_acronyms_pattern = re.compile(r'(?<!\\w)(' + '|'.join(re.escape(key) for key in sample_acronyms.keys()) + r')(?!\\w)')\n",
        "        sample_abbr_pattern = re.compile(r'(?<!\\w)(' + '|'.join(re.escape(key) for key in sample_abbr.keys()) + r')(?!\\w)')\n",
        "        \n",
        "        text = sample_typos_slang_pattern.sub(lambda x: sample_typos_slang[x.group()], text)\n",
        "        text = sample_acronyms_pattern.sub(lambda x: sample_acronyms[x.group()], text)\n",
        "        text = sample_abbr_pattern.sub(lambda x: sample_abbr[x.group()], text)\n",
        "        \n",
        "        return text\n",
        "    \n",
        "def remove_digits(text):\n",
        "    \"\"\"\n",
        "        Remove the digits\n",
        "    \"\"\"\n",
        "    return ''.join([i for i in text if not i.isdigit()])\n",
        "\n",
        "def fix_spelling(text):\n",
        "    return str(TextBlob(text).correct())\n",
        "    \n",
        "def fix_contractions(text):\n",
        "    \"\"\"\n",
        "        Fix the contractions\n",
        "    \"\"\"\n",
        "    return contractions.fix(text)\n",
        "\n",
        "def transform_text(text):\n",
        "    text = remove_URL(text)\n",
        "    text = remove_html(text)\n",
        "    text = remove_non_ascii(text)\n",
        "    text = remove_special_characters(text)\n",
        "    text = remove_hashtag(text)\n",
        "    text = remove_punct(text)\n",
        "    text = text.lower()\n",
        "    text = other_clean(text)\n",
        "    text = contractions.fix(text)\n",
        "    text = text.lower()\n",
        "    text = text.strip()\n",
        "    return text"
      ]
    },
    {
      "cell_type": "code",
      "execution_count": 129,
      "id": "4e608929-7b3a-4b1b-8267-c627a33e06e3",
      "metadata": {
        "colab": {
          "base_uri": "https://localhost:8080/",
          "height": 0
        },
        "execution": {
          "iopub.execute_input": "2023-04-06T16:44:52.179077Z",
          "iopub.status.busy": "2023-04-06T16:44:52.178076Z",
          "iopub.status.idle": "2023-04-06T16:44:52.193168Z",
          "shell.execute_reply": "2023-04-06T16:44:52.193168Z",
          "shell.execute_reply.started": "2023-04-06T16:44:52.179077Z"
        },
        "id": "4e608929-7b3a-4b1b-8267-c627a33e06e3",
        "outputId": "e094b0b6-948e-49e6-c3ca-942ab7ce04ec",
        "tags": []
      },
      "outputs": [
        {
          "output_type": "execute_result",
          "data": {
            "text/plain": [
              "'members of the fyf911 or fukyoflag and blacklivesmatter movements are not called for the lynching and hanging of white people and cops. they encouraged others on a radio show tuesday night to  turn the tide  and kill white people and cops to send a message about the killing of black people in america.one of the fyoflag organizers is called  sunshine.  she has a radio blog show hosted from texas called  sunshine s fing'"
            ],
            "application/vnd.google.colaboratory.intrinsic+json": {
              "type": "string"
            }
          },
          "metadata": {},
          "execution_count": 129
        }
      ],
      "source": [
        "transform_text('Members of the #FYF911 or #FukYoFlag and #BlackLivesMatter movements ain\"t called for the lynching and hanging of white people and cops. They encouraged others on a radio show Tuesday night to  turn the tide  and kill white people and cops to send a message about the killing of black people in America.One of the F***YoFlag organizers is called  Sunshine.  She has a radio blog show hosted from Texas called,  Sunshine s F***ing ')"
      ]
    },
    {
      "cell_type": "code",
      "execution_count": 130,
      "id": "ef0ffda3-58dc-4a2f-bd64-a7c349a66066",
      "metadata": {
        "execution": {
          "iopub.execute_input": "2023-04-06T16:44:53.562917Z",
          "iopub.status.busy": "2023-04-06T16:44:53.561916Z",
          "iopub.status.idle": "2023-04-06T16:45:59.536918Z",
          "shell.execute_reply": "2023-04-06T16:45:59.536918Z",
          "shell.execute_reply.started": "2023-04-06T16:44:53.562917Z"
        },
        "id": "ef0ffda3-58dc-4a2f-bd64-a7c349a66066",
        "tags": []
      },
      "outputs": [],
      "source": [
        "df['text2'] = df.text.apply(transform_text)\n",
        "df['title2'] = df.title.apply(transform_text)"
      ]
    },
    {
      "cell_type": "code",
      "execution_count": 131,
      "id": "25721453-569c-49aa-a37c-07bf637c6380",
      "metadata": {
        "colab": {
          "base_uri": "https://localhost:8080/"
        },
        "execution": {
          "iopub.execute_input": "2023-04-06T16:45:59.540912Z",
          "iopub.status.busy": "2023-04-06T16:45:59.539916Z",
          "iopub.status.idle": "2023-04-06T16:45:59.551913Z",
          "shell.execute_reply": "2023-04-06T16:45:59.551913Z",
          "shell.execute_reply.started": "2023-04-06T16:45:59.540912Z"
        },
        "id": "25721453-569c-49aa-a37c-07bf637c6380",
        "outputId": "94925eba-0991-4066-9262-608c293854a0",
        "tags": []
      },
      "outputs": [
        {
          "output_type": "stream",
          "name": "stdout",
          "text": [
            "HARARE (Reuters) - Zimbabwe President Robert Mugabe arrived at a university graduation ceremony in the capital on Friday, his first public appearance since a military seizure of power that political sources say is aimed at ending his 37 years in office. Wearing a blue and yellow academic gown and mortar board hat, the 93-year-old sat in large wooden chair at the front the hall. He was greeted by ululations from the crowd as he declared the ceremony open. \n",
            "-----------------\n",
            "harare reuters  zimbabwe president robert mugabe arrived at a university graduation ceremony in the capital on friday his first public appearance since a military seizure of power that political sources say is aimed at ending his 37 years in office. wearing a blue and yellow academic gown and mortar board hat the 93yearold sat in large wooden chair at the front the hall. he was greeted by ululations from the crowd as he declared the ceremony open.\n"
          ]
        }
      ],
      "source": [
        "for i in range(29, 100):\n",
        "    print(df['text'].iloc[i])\n",
        "    print('-----------------')\n",
        "    print(df['text2'].iloc[i])\n",
        "    break"
      ]
    },
    {
      "cell_type": "markdown",
      "id": "27c41210-78fd-41e1-bc6c-fd789ddd81b0",
      "metadata": {
        "id": "27c41210-78fd-41e1-bc6c-fd789ddd81b0"
      },
      "source": [
        "# Using only title"
      ]
    },
    {
      "cell_type": "markdown",
      "id": "b696bdb5-2e80-4556-b538-070602524956",
      "metadata": {
        "id": "b696bdb5-2e80-4556-b538-070602524956"
      },
      "source": [
        "## Splitting"
      ]
    },
    {
      "cell_type": "code",
      "execution_count": null,
      "id": "37824d3b-2cce-4e54-9283-4fa1147dee43",
      "metadata": {
        "execution": {
          "iopub.execute_input": "2023-04-06T17:04:37.632030Z",
          "iopub.status.busy": "2023-04-06T17:04:37.631028Z",
          "iopub.status.idle": "2023-04-06T17:04:37.657537Z",
          "shell.execute_reply": "2023-04-06T17:04:37.657537Z",
          "shell.execute_reply.started": "2023-04-06T17:04:37.632030Z"
        },
        "tags": [],
        "id": "37824d3b-2cce-4e54-9283-4fa1147dee43",
        "outputId": "14693039-a083-4cbc-9b36-7da12a8e8622",
        "colab": {
          "base_uri": "https://localhost:8080/"
        }
      },
      "outputs": [
        {
          "output_type": "stream",
          "name": "stdout",
          "text": [
            "\t\t X   |   y\n",
            "Train:      (60806,) | (60806,)\n",
            "Test:       (10731,) | (10731,)\n",
            "\n",
            "\t\t\treal   | fake\n",
            "Train:      0.5114955760944644 | 0.4885044239055356\n",
            "Test:       0.5038673003447954 | 0.5038673003447954\n"
          ]
        }
      ],
      "source": [
        "df_X, df_y = df['title'], df['label']\n",
        "X_train, X_test, y_train, y_test = train_test_split(df_X, df_y, test_size=0.15, random_state=42, shuffle=True)\n",
        "\n",
        "print('\\t\\t X   |   y')\n",
        "print(f'Train:      {X_train.shape} | {y_train.shape}')\n",
        "print(f'Test:       {X_test.shape} | {y_test.shape}')\n",
        "print()\n",
        "print('\\t\\t\\treal   | fake')\n",
        "print(f'Train:      {sum(y_train==1)/len(y_train)} | {sum(y_train==0)/len(y_train)}')\n",
        "print(f'Test:       {sum(y_test==1)/len(y_test)} | {sum(y_test==1)/len(y_test)}')"
      ]
    },
    {
      "cell_type": "markdown",
      "id": "3f26cecf-38d3-4c23-8763-d04bdabbbb39",
      "metadata": {
        "id": "3f26cecf-38d3-4c23-8763-d04bdabbbb39"
      },
      "source": [
        "## Vectorization"
      ]
    },
    {
      "cell_type": "code",
      "execution_count": null,
      "id": "58238325-d8b3-4789-a587-6ba26acaf35a",
      "metadata": {
        "execution": {
          "iopub.execute_input": "2023-04-06T17:04:38.371721Z",
          "iopub.status.busy": "2023-04-06T17:04:38.371721Z",
          "iopub.status.idle": "2023-04-06T17:04:38.936988Z",
          "shell.execute_reply": "2023-04-06T17:04:38.936988Z",
          "shell.execute_reply.started": "2023-04-06T17:04:38.371721Z"
        },
        "tags": [],
        "id": "58238325-d8b3-4789-a587-6ba26acaf35a",
        "outputId": "1d491b5e-f694-469d-a5c8-5292e1eed01b",
        "colab": {
          "base_uri": "https://localhost:8080/"
        }
      },
      "outputs": [
        {
          "output_type": "stream",
          "name": "stdout",
          "text": [
            "\t\t     X     |   y\n",
            "Train:      (60806, 29204) | (60806,)\n",
            "Test:       (10731, 29204) | (10731,)\n"
          ]
        }
      ],
      "source": [
        "tfidf_vectorizer = TfidfVectorizer()\n",
        "X_train = tfidf_vectorizer.fit_transform(X_train)\n",
        "X_test = tfidf_vectorizer.transform(X_test)\n",
        "\n",
        "print('\\t\\t     X     |   y')\n",
        "print(f'Train:      {X_train.shape} | {y_train.shape}')\n",
        "print(f'Test:       {X_test.shape} | {y_test.shape}')"
      ]
    },
    {
      "cell_type": "markdown",
      "source": [
        "## Evaluating"
      ],
      "metadata": {
        "id": "A8sjihMlRLYb"
      },
      "id": "A8sjihMlRLYb"
    },
    {
      "cell_type": "code",
      "source": [
        "def plot_conf_matrix(y_test, y_preds):\n",
        "    cm = confusion_matrix(y_test, y_preds)\n",
        "    class_names=[0, 1] # name  of classes\n",
        "    fig, ax = plt.subplots()\n",
        "    tick_marks = np.arange(len(class_names))\n",
        "    plt.xticks(tick_marks, class_names)\n",
        "    plt.yticks(tick_marks, class_names)\n",
        "    # create heatmap\n",
        "    sns.heatmap(pd.DataFrame(cm), annot=True, cmap=\"BuPu\" ,fmt='g')\n",
        "    ax.xaxis.set_label_position(\"top\")\n",
        "    plt.tight_layout()\n",
        "    plt.title('Confusion matrix', y=1.1)\n",
        "    plt.ylabel('Actual label')\n",
        "    plt.xlabel('Predicted label')\n",
        "    plt.show()\n",
        "\n",
        "def plot_roc_auc(y_test, y_pred):\n",
        "    lr_auc = roc_auc_score(y_test, y_preds)\n",
        "    print('LogisticRegression: ROC AUC=%.3f' % (lr_auc))\n",
        "    # рассчитываем roc-кривую\n",
        "    fpr, tpr, treshold = roc_curve(y_test, y_preds)\n",
        "    roc_auc = auc(fpr, tpr)\n",
        "    # строим график\n",
        "    plt.plot(fpr, tpr, color='darkorange',\n",
        "            label='ROC кривая (area = %0.2f)' % roc_auc)\n",
        "    plt.plot([0, 1], [0, 1], color='navy', linestyle='--')\n",
        "    plt.xlim([0.0, 1.0])\n",
        "    plt.ylim([0.0, 1.05])\n",
        "    plt.xlabel('False Positive Rate')\n",
        "    plt.ylabel('True Positive Rate')\n",
        "    plt.title('ROC-кривая')\n",
        "    plt.legend(loc=\"lower right\")\n",
        "    plt.show()\n",
        "\n",
        "def castom_evaluate(y_test, y_preds):\n",
        "    plot_conf_matrix(y_test, y_preds)\n",
        "    plot_roc_auc(y_test, y_preds)\n",
        "    print(classification_report(y_test, y_preds))\n",
        "    print(f'Accuracy: {accuracy_score(y_test, y_preds)}')\n",
        "    print(f'Accuracy: {f1_score(y_test, y_preds)}')"
      ],
      "metadata": {
        "id": "JhZ5dj5eRTfO"
      },
      "id": "JhZ5dj5eRTfO",
      "execution_count": null,
      "outputs": []
    },
    {
      "cell_type": "markdown",
      "id": "731b5eb0-a100-4a4c-a522-7b096712023a",
      "metadata": {
        "id": "731b5eb0-a100-4a4c-a522-7b096712023a"
      },
      "source": [
        "## Logistic Regression"
      ]
    },
    {
      "cell_type": "code",
      "execution_count": null,
      "id": "5439e719-3bba-44a6-b97b-5a24c84b3476",
      "metadata": {
        "execution": {
          "iopub.execute_input": "2023-04-06T17:07:10.415915Z",
          "iopub.status.busy": "2023-04-06T17:07:10.415915Z",
          "iopub.status.idle": "2023-04-06T17:07:10.432912Z",
          "shell.execute_reply": "2023-04-06T17:07:10.432912Z",
          "shell.execute_reply.started": "2023-04-06T17:07:10.415915Z"
        },
        "tags": [],
        "id": "5439e719-3bba-44a6-b97b-5a24c84b3476",
        "outputId": "77c066ed-60c4-4e14-ddc4-bad00c4ac839",
        "colab": {
          "base_uri": "https://localhost:8080/",
          "height": 1000
        }
      },
      "outputs": [
        {
          "output_type": "display_data",
          "data": {
            "text/plain": [
              "<Figure size 640x480 with 2 Axes>"
            ],
            "image/png": "[encoded data removed]"
          },
          "metadata": {}
        },
        {
          "output_type": "stream",
          "name": "stdout",
          "text": [
            "LogisticRegression: ROC AUC=0.911\n"
          ]
        },
        {
          "output_type": "display_data",
          "data": {
            "text/plain": [
              "<Figure size 640x480 with 1 Axes>"
            ],
            "image/png": "[encoded data removed]"
          },
          "metadata": {}
        },
        {
          "output_type": "stream",
          "name": "stdout",
          "text": [
            "              precision    recall  f1-score   support\n",
            "\n",
            "           0       0.92      0.90      0.91      5324\n",
            "           1       0.90      0.92      0.91      5407\n",
            "\n",
            "    accuracy                           0.91     10731\n",
            "   macro avg       0.91      0.91      0.91     10731\n",
            "weighted avg       0.91      0.91      0.91     10731\n",
            "\n",
            "Accuracy: 0.9111918740098779\n",
            "Accuracy: 0.9126249197762903\n"
          ]
        }
      ],
      "source": [
        "lr = LogisticRegression(random_state=42)\n",
        "lr.fit(X_train, y_train)\n",
        "y_preds = lr.predict(X_test)\n",
        "castom_evaluate(y_test, y_preds)"
      ]
    },
    {
      "cell_type": "code",
      "execution_count": null,
      "id": "96f8963f-e54f-4127-8df7-cf2cf16777d2",
      "metadata": {
        "execution": {
          "iopub.execute_input": "2023-04-06T17:08:24.364322Z",
          "iopub.status.busy": "2023-04-06T17:08:24.364322Z",
          "iopub.status.idle": "2023-04-06T17:08:24.378325Z",
          "shell.execute_reply": "2023-04-06T17:08:24.378325Z",
          "shell.execute_reply.started": "2023-04-06T17:08:24.364322Z"
        },
        "id": "96f8963f-e54f-4127-8df7-cf2cf16777d2"
      },
      "outputs": [],
      "source": [
        "param_distributions = {\n",
        "    'penalty': optuna.distributions.CategoricalDistribution(['l1', 'l2']),\n",
        "    'C': optuna.distributions.FloatDistribution(1e-2, 1e5, log=True),\n",
        "    'solver': optuna.distributions.CategoricalDistribution(['liblinear', 'saga']),\n",
        "}"
      ]
    },
    {
      "cell_type": "code",
      "execution_count": null,
      "id": "2035f8d4-cbd1-413f-bf7b-355f65527e18",
      "metadata": {
        "collapsed": true,
        "execution": {
          "iopub.execute_input": "2023-04-06T17:09:39.857670Z",
          "iopub.status.busy": "2023-04-06T17:09:39.856672Z",
          "iopub.status.idle": "2023-04-06T17:17:35.787489Z",
          "shell.execute_reply": "2023-04-06T17:17:35.787489Z",
          "shell.execute_reply.started": "2023-04-06T17:09:39.856672Z"
        },
        "jupyter": {
          "outputs_hidden": true
        },
        "tags": [],
        "id": "2035f8d4-cbd1-413f-bf7b-355f65527e18",
        "outputId": "ecad7f35-b003-402b-974e-0b2b39f6bebd"
      },
      "outputs": [
        {
          "name": "stderr",
          "output_type": "stream",
          "text": [
            "C:\\Users\\Home\\AppData\\Local\\Temp\\ipykernel_15936\\3476372212.py:1: ExperimentalWarning: OptunaSearchCV is experimental (supported from v0.17.0). The interface can change in the future.\n",
            "  optuna_search = optuna.integration.OptunaSearchCV(lr, param_distributions, random_state=42)\n",
            "\u001b[32m[I 2023-04-06 20:09:39,865]\u001b[0m A new study created in memory with name: no-name-e74b6610-ecea-4638-b603-b25489839ec6\u001b[0m\n",
            "\u001b[32m[I 2023-04-06 20:09:40,866]\u001b[0m Trial 0 finished with value: 0.8715258288250467 and parameters: {'penalty': 'l2', 'C': 0.030434024515321324, 'solver': 'saga'}. Best is trial 0 with value: 0.8715258288250467.\u001b[0m\n",
            "\u001b[32m[I 2023-04-06 20:09:43,393]\u001b[0m Trial 1 finished with value: 0.8536986342085434 and parameters: {'penalty': 'l1', 'C': 0.14696971966493752, 'solver': 'saga'}. Best is trial 0 with value: 0.8715258288250467.\u001b[0m\n",
            "C:\\ProgramData\\Anaconda3\\envs\\pytorch_1\\lib\\site-packages\\sklearn\\linear_model\\_sag.py:350: ConvergenceWarning: The max_iter was reached which means the coef_ did not converge\n",
            "  warnings.warn(\n",
            "C:\\ProgramData\\Anaconda3\\envs\\pytorch_1\\lib\\site-packages\\sklearn\\linear_model\\_sag.py:350: ConvergenceWarning: The max_iter was reached which means the coef_ did not converge\n",
            "  warnings.warn(\n",
            "C:\\ProgramData\\Anaconda3\\envs\\pytorch_1\\lib\\site-packages\\sklearn\\linear_model\\_sag.py:350: ConvergenceWarning: The max_iter was reached which means the coef_ did not converge\n",
            "  warnings.warn(\n",
            "C:\\ProgramData\\Anaconda3\\envs\\pytorch_1\\lib\\site-packages\\sklearn\\linear_model\\_sag.py:350: ConvergenceWarning: The max_iter was reached which means the coef_ did not converge\n",
            "  warnings.warn(\n",
            "C:\\ProgramData\\Anaconda3\\envs\\pytorch_1\\lib\\site-packages\\sklearn\\linear_model\\_sag.py:350: ConvergenceWarning: The max_iter was reached which means the coef_ did not converge\n",
            "  warnings.warn(\n",
            "\u001b[32m[I 2023-04-06 20:09:48,160]\u001b[0m Trial 2 finished with value: 0.9044008629979935 and parameters: {'penalty': 'l2', 'C': 35.220239069694, 'solver': 'saga'}. Best is trial 2 with value: 0.9044008629979935.\u001b[0m\n",
            "C:\\ProgramData\\Anaconda3\\envs\\pytorch_1\\lib\\site-packages\\sklearn\\linear_model\\_sag.py:350: ConvergenceWarning: The max_iter was reached which means the coef_ did not converge\n",
            "  warnings.warn(\n",
            "C:\\ProgramData\\Anaconda3\\envs\\pytorch_1\\lib\\site-packages\\sklearn\\linear_model\\_sag.py:350: ConvergenceWarning: The max_iter was reached which means the coef_ did not converge\n",
            "  warnings.warn(\n",
            "C:\\ProgramData\\Anaconda3\\envs\\pytorch_1\\lib\\site-packages\\sklearn\\linear_model\\_sag.py:350: ConvergenceWarning: The max_iter was reached which means the coef_ did not converge\n",
            "  warnings.warn(\n",
            "C:\\ProgramData\\Anaconda3\\envs\\pytorch_1\\lib\\site-packages\\sklearn\\linear_model\\_sag.py:350: ConvergenceWarning: The max_iter was reached which means the coef_ did not converge\n",
            "  warnings.warn(\n",
            "C:\\ProgramData\\Anaconda3\\envs\\pytorch_1\\lib\\site-packages\\sklearn\\linear_model\\_sag.py:350: ConvergenceWarning: The max_iter was reached which means the coef_ did not converge\n",
            "  warnings.warn(\n",
            "\u001b[32m[I 2023-04-06 20:09:53,031]\u001b[0m Trial 3 finished with value: 0.8946485053536974 and parameters: {'penalty': 'l2', 'C': 65493.616174690935, 'solver': 'saga'}. Best is trial 2 with value: 0.9044008629979935.\u001b[0m\n",
            "C:\\ProgramData\\Anaconda3\\envs\\pytorch_1\\lib\\site-packages\\sklearn\\linear_model\\_sag.py:350: ConvergenceWarning: The max_iter was reached which means the coef_ did not converge\n",
            "  warnings.warn(\n",
            "C:\\ProgramData\\Anaconda3\\envs\\pytorch_1\\lib\\site-packages\\sklearn\\linear_model\\_sag.py:350: ConvergenceWarning: The max_iter was reached which means the coef_ did not converge\n",
            "  warnings.warn(\n",
            "C:\\ProgramData\\Anaconda3\\envs\\pytorch_1\\lib\\site-packages\\sklearn\\linear_model\\_sag.py:350: ConvergenceWarning: The max_iter was reached which means the coef_ did not converge\n",
            "  warnings.warn(\n",
            "C:\\ProgramData\\Anaconda3\\envs\\pytorch_1\\lib\\site-packages\\sklearn\\linear_model\\_sag.py:350: ConvergenceWarning: The max_iter was reached which means the coef_ did not converge\n",
            "  warnings.warn(\n",
            "C:\\ProgramData\\Anaconda3\\envs\\pytorch_1\\lib\\site-packages\\sklearn\\linear_model\\_sag.py:350: ConvergenceWarning: The max_iter was reached which means the coef_ did not converge\n",
            "  warnings.warn(\n",
            "\u001b[32m[I 2023-04-06 20:09:57,579]\u001b[0m Trial 4 finished with value: 0.8941058017019665 and parameters: {'penalty': 'l2', 'C': 15511.217940702667, 'solver': 'saga'}. Best is trial 2 with value: 0.9044008629979935.\u001b[0m\n",
            "C:\\ProgramData\\Anaconda3\\envs\\pytorch_1\\lib\\site-packages\\sklearn\\linear_model\\_sag.py:350: ConvergenceWarning: The max_iter was reached which means the coef_ did not converge\n",
            "  warnings.warn(\n",
            "C:\\ProgramData\\Anaconda3\\envs\\pytorch_1\\lib\\site-packages\\sklearn\\linear_model\\_sag.py:350: ConvergenceWarning: The max_iter was reached which means the coef_ did not converge\n",
            "  warnings.warn(\n",
            "C:\\ProgramData\\Anaconda3\\envs\\pytorch_1\\lib\\site-packages\\sklearn\\linear_model\\_sag.py:350: ConvergenceWarning: The max_iter was reached which means the coef_ did not converge\n",
            "  warnings.warn(\n",
            "C:\\ProgramData\\Anaconda3\\envs\\pytorch_1\\lib\\site-packages\\sklearn\\linear_model\\_sag.py:350: ConvergenceWarning: The max_iter was reached which means the coef_ did not converge\n",
            "  warnings.warn(\n",
            "C:\\ProgramData\\Anaconda3\\envs\\pytorch_1\\lib\\site-packages\\sklearn\\linear_model\\_sag.py:350: ConvergenceWarning: The max_iter was reached which means the coef_ did not converge\n",
            "  warnings.warn(\n",
            "\u001b[32m[I 2023-04-06 20:10:02,082]\u001b[0m Trial 5 finished with value: 0.9034141088020654 and parameters: {'penalty': 'l2', 'C': 45.8959046230735, 'solver': 'saga'}. Best is trial 2 with value: 0.9044008629979935.\u001b[0m\n",
            "\u001b[32m[I 2023-04-06 20:10:02,959]\u001b[0m Trial 6 finished with value: 0.8958161887132867 and parameters: {'penalty': 'l2', 'C': 0.3161086857126268, 'solver': 'saga'}. Best is trial 2 with value: 0.9044008629979935.\u001b[0m\n",
            "\u001b[32m[I 2023-04-06 20:10:09,824]\u001b[0m Trial 7 finished with value: 0.8690918333387625 and parameters: {'penalty': 'l2', 'C': 11833.845106753606, 'solver': 'liblinear'}. Best is trial 2 with value: 0.9044008629979935.\u001b[0m\n",
            "C:\\ProgramData\\Anaconda3\\envs\\pytorch_1\\lib\\site-packages\\sklearn\\svm\\_base.py:1244: ConvergenceWarning: Liblinear failed to converge, increase the number of iterations.\n",
            "  warnings.warn(\n",
            "C:\\ProgramData\\Anaconda3\\envs\\pytorch_1\\lib\\site-packages\\sklearn\\svm\\_base.py:1244: ConvergenceWarning: Liblinear failed to converge, increase the number of iterations.\n",
            "  warnings.warn(\n",
            "C:\\ProgramData\\Anaconda3\\envs\\pytorch_1\\lib\\site-packages\\sklearn\\svm\\_base.py:1244: ConvergenceWarning: Liblinear failed to converge, increase the number of iterations.\n",
            "  warnings.warn(\n",
            "\u001b[32m[I 2023-04-06 20:10:17,415]\u001b[0m Trial 8 finished with value: 0.8712296883014805 and parameters: {'penalty': 'l2', 'C': 22590.278056205283, 'solver': 'liblinear'}. Best is trial 2 with value: 0.9044008629979935.\u001b[0m\n",
            "C:\\ProgramData\\Anaconda3\\envs\\pytorch_1\\lib\\site-packages\\sklearn\\linear_model\\_sag.py:350: ConvergenceWarning: The max_iter was reached which means the coef_ did not converge\n",
            "  warnings.warn(\n",
            "C:\\ProgramData\\Anaconda3\\envs\\pytorch_1\\lib\\site-packages\\sklearn\\linear_model\\_sag.py:350: ConvergenceWarning: The max_iter was reached which means the coef_ did not converge\n",
            "  warnings.warn(\n",
            "C:\\ProgramData\\Anaconda3\\envs\\pytorch_1\\lib\\site-packages\\sklearn\\linear_model\\_sag.py:350: ConvergenceWarning: The max_iter was reached which means the coef_ did not converge\n",
            "  warnings.warn(\n",
            "C:\\ProgramData\\Anaconda3\\envs\\pytorch_1\\lib\\site-packages\\sklearn\\linear_model\\_sag.py:350: ConvergenceWarning: The max_iter was reached which means the coef_ did not converge\n",
            "  warnings.warn(\n",
            "C:\\ProgramData\\Anaconda3\\envs\\pytorch_1\\lib\\site-packages\\sklearn\\linear_model\\_sag.py:350: ConvergenceWarning: The max_iter was reached which means the coef_ did not converge\n",
            "  warnings.warn(\n",
            "\u001b[32m[I 2023-04-06 20:17:34,498]\u001b[0m Trial 9 finished with value: 0.8988093000611039 and parameters: {'penalty': 'l1', 'C': 20.91428000995264, 'solver': 'saga'}. Best is trial 2 with value: 0.9044008629979935.\u001b[0m\n",
            "C:\\ProgramData\\Anaconda3\\envs\\pytorch_1\\lib\\site-packages\\sklearn\\linear_model\\_sag.py:350: ConvergenceWarning: The max_iter was reached which means the coef_ did not converge\n",
            "  warnings.warn(\n"
          ]
        },
        {
          "data": {
            "text/html": [
              "<style>#sk-container-id-1 {color: black;background-color: white;}#sk-container-id-1 pre{padding: 0;}#sk-container-id-1 div.sk-toggleable {background-color: white;}#sk-container-id-1 label.sk-toggleable__label {cursor: pointer;display: block;width: 100%;margin-bottom: 0;padding: 0.3em;box-sizing: border-box;text-align: center;}#sk-container-id-1 label.sk-toggleable__label-arrow:before {content: \"▸\";float: left;margin-right: 0.25em;color: #696969;}#sk-container-id-1 label.sk-toggleable__label-arrow:hover:before {color: black;}#sk-container-id-1 div.sk-estimator:hover label.sk-toggleable__label-arrow:before {color: black;}#sk-container-id-1 div.sk-toggleable__content {max-height: 0;max-width: 0;overflow: hidden;text-align: left;background-color: #f0f8ff;}#sk-container-id-1 div.sk-toggleable__content pre {margin: 0.2em;color: black;border-radius: 0.25em;background-color: #f0f8ff;}#sk-container-id-1 input.sk-toggleable__control:checked~div.sk-toggleable__content {max-height: 200px;max-width: 100%;overflow: auto;}#sk-container-id-1 input.sk-toggleable__control:checked~label.sk-toggleable__label-arrow:before {content: \"▾\";}#sk-container-id-1 div.sk-estimator input.sk-toggleable__control:checked~label.sk-toggleable__label {background-color: #d4ebff;}#sk-container-id-1 div.sk-label input.sk-toggleable__control:checked~label.sk-toggleable__label {background-color: #d4ebff;}#sk-container-id-1 input.sk-hidden--visually {border: 0;clip: rect(1px 1px 1px 1px);clip: rect(1px, 1px, 1px, 1px);height: 1px;margin: -1px;overflow: hidden;padding: 0;position: absolute;width: 1px;}#sk-container-id-1 div.sk-estimator {font-family: monospace;background-color: #f0f8ff;border: 1px dotted black;border-radius: 0.25em;box-sizing: border-box;margin-bottom: 0.5em;}#sk-container-id-1 div.sk-estimator:hover {background-color: #d4ebff;}#sk-container-id-1 div.sk-parallel-item::after {content: \"\";width: 100%;border-bottom: 1px solid gray;flex-grow: 1;}#sk-container-id-1 div.sk-label:hover label.sk-toggleable__label {background-color: #d4ebff;}#sk-container-id-1 div.sk-serial::before {content: \"\";position: absolute;border-left: 1px solid gray;box-sizing: border-box;top: 0;bottom: 0;left: 50%;z-index: 0;}#sk-container-id-1 div.sk-serial {display: flex;flex-direction: column;align-items: center;background-color: white;padding-right: 0.2em;padding-left: 0.2em;position: relative;}#sk-container-id-1 div.sk-item {position: relative;z-index: 1;}#sk-container-id-1 div.sk-parallel {display: flex;align-items: stretch;justify-content: center;background-color: white;position: relative;}#sk-container-id-1 div.sk-item::before, #sk-container-id-1 div.sk-parallel-item::before {content: \"\";position: absolute;border-left: 1px solid gray;box-sizing: border-box;top: 0;bottom: 0;left: 50%;z-index: -1;}#sk-container-id-1 div.sk-parallel-item {display: flex;flex-direction: column;z-index: 1;position: relative;background-color: white;}#sk-container-id-1 div.sk-parallel-item:first-child::after {align-self: flex-end;width: 50%;}#sk-container-id-1 div.sk-parallel-item:last-child::after {align-self: flex-start;width: 50%;}#sk-container-id-1 div.sk-parallel-item:only-child::after {width: 0;}#sk-container-id-1 div.sk-dashed-wrapped {border: 1px dashed gray;margin: 0 0.4em 0.5em 0.4em;box-sizing: border-box;padding-bottom: 0.4em;background-color: white;}#sk-container-id-1 div.sk-label label {font-family: monospace;font-weight: bold;display: inline-block;line-height: 1.2em;}#sk-container-id-1 div.sk-label-container {text-align: center;}#sk-container-id-1 div.sk-container {/* jupyter's `normalize.less` sets `[hidden] { display: none; }` but bootstrap.min.css set `[hidden] { display: none !important; }` so we also need the `!important` here to be able to override the default hidden behavior on the sphinx rendered scikit-learn.org. See: https://github.com/scikit-learn/scikit-learn/issues/21755 */display: inline-block !important;position: relative;}#sk-container-id-1 div.sk-text-repr-fallback {display: none;}</style><div id=\"sk-container-id-1\" class=\"sk-top-container\"><div class=\"sk-text-repr-fallback\"><pre>OptunaSearchCV(estimator=LogisticRegression(),\n",
              "               param_distributions={&#x27;C&#x27;: FloatDistribution(high=100000.0, log=True, low=0.01, step=None),\n",
              "                                    &#x27;penalty&#x27;: CategoricalDistribution(choices=(&#x27;l1&#x27;, &#x27;l2&#x27;)),\n",
              "                                    &#x27;solver&#x27;: CategoricalDistribution(choices=(&#x27;liblinear&#x27;, &#x27;saga&#x27;))},\n",
              "               random_state=42)</pre><b>In a Jupyter environment, please rerun this cell to show the HTML representation or trust the notebook. <br />On GitHub, the HTML representation is unable to render, please try loading this page with nbviewer.org.</b></div><div class=\"sk-container\" hidden><div class=\"sk-item sk-dashed-wrapped\"><div class=\"sk-label-container\"><div class=\"sk-label sk-toggleable\"><input class=\"sk-toggleable__control sk-hidden--visually\" id=\"sk-estimator-id-1\" type=\"checkbox\" ><label for=\"sk-estimator-id-1\" class=\"sk-toggleable__label sk-toggleable__label-arrow\">OptunaSearchCV</label><div class=\"sk-toggleable__content\"><pre>OptunaSearchCV(estimator=LogisticRegression(),\n",
              "               param_distributions={&#x27;C&#x27;: FloatDistribution(high=100000.0, log=True, low=0.01, step=None),\n",
              "                                    &#x27;penalty&#x27;: CategoricalDistribution(choices=(&#x27;l1&#x27;, &#x27;l2&#x27;)),\n",
              "                                    &#x27;solver&#x27;: CategoricalDistribution(choices=(&#x27;liblinear&#x27;, &#x27;saga&#x27;))},\n",
              "               random_state=42)</pre></div></div></div><div class=\"sk-parallel\"><div class=\"sk-parallel-item\"><div class=\"sk-item\"><div class=\"sk-label-container\"><div class=\"sk-label sk-toggleable\"><input class=\"sk-toggleable__control sk-hidden--visually\" id=\"sk-estimator-id-2\" type=\"checkbox\" ><label for=\"sk-estimator-id-2\" class=\"sk-toggleable__label sk-toggleable__label-arrow\">estimator: LogisticRegression</label><div class=\"sk-toggleable__content\"><pre>LogisticRegression()</pre></div></div></div><div class=\"sk-serial\"><div class=\"sk-item\"><div class=\"sk-estimator sk-toggleable\"><input class=\"sk-toggleable__control sk-hidden--visually\" id=\"sk-estimator-id-3\" type=\"checkbox\" ><label for=\"sk-estimator-id-3\" class=\"sk-toggleable__label sk-toggleable__label-arrow\">LogisticRegression</label><div class=\"sk-toggleable__content\"><pre>LogisticRegression()</pre></div></div></div></div></div></div></div></div></div></div>"
            ],
            "text/plain": [
              "OptunaSearchCV(estimator=LogisticRegression(),\n",
              "               param_distributions={'C': FloatDistribution(high=100000.0, log=True, low=0.01, step=None),\n",
              "                                    'penalty': CategoricalDistribution(choices=('l1', 'l2')),\n",
              "                                    'solver': CategoricalDistribution(choices=('liblinear', 'saga'))},\n",
              "               random_state=42)"
            ]
          },
          "execution_count": 49,
          "metadata": {},
          "output_type": "execute_result"
        }
      ],
      "source": [
        "optuna_search = optuna.integration.OptunaSearchCV(lr, param_distributions, random_state=42)\n",
        "optuna_search.fit(X_train, y_train)"
      ]
    },
    {
      "cell_type": "code",
      "execution_count": null,
      "id": "dd36fc88-dbdd-4056-acf6-edeccd09ec18",
      "metadata": {
        "execution": {
          "iopub.execute_input": "2023-04-06T18:22:25.265911Z",
          "iopub.status.busy": "2023-04-06T18:22:25.264909Z",
          "iopub.status.idle": "2023-04-06T18:22:25.283920Z",
          "shell.execute_reply": "2023-04-06T18:22:25.283920Z",
          "shell.execute_reply.started": "2023-04-06T18:22:25.265911Z"
        },
        "id": "dd36fc88-dbdd-4056-acf6-edeccd09ec18"
      },
      "outputs": [],
      "source": [
        "y_preds = optuna_search.best_estimator_.predict(X_test)"
      ]
    },
    {
      "cell_type": "code",
      "execution_count": null,
      "id": "64df4eda-348d-44cf-b409-7f3825e887f9",
      "metadata": {
        "execution": {
          "iopub.execute_input": "2023-04-06T18:22:51.720919Z",
          "iopub.status.busy": "2023-04-06T18:22:51.720919Z",
          "iopub.status.idle": "2023-04-06T18:22:51.849562Z",
          "shell.execute_reply": "2023-04-06T18:22:51.849562Z",
          "shell.execute_reply.started": "2023-04-06T18:22:51.720919Z"
        },
        "id": "64df4eda-348d-44cf-b409-7f3825e887f9",
        "outputId": "e79c493e-4f59-46ba-9a54-ff7d7891c452"
      },
      "outputs": [
        {
          "data": {
            "text/plain": [
              "Text(0.5, 427.9555555555555, 'Predicted label')"
            ]
          },
          "execution_count": 51,
          "metadata": {},
          "output_type": "execute_result"
        },
        {
          "data": {
            "image/png": "[encoded data removed]",
            "text/plain": [
              "<Figure size 640x480 with 2 Axes>"
            ]
          },
          "metadata": {},
          "output_type": "display_data"
        }
      ],
      "source": [
        "cm = confusion_matrix(y_test,y_preds)\n",
        "class_names=[0,1] # name  of classes\n",
        "fig, ax = plt.subplots()\n",
        "tick_marks = np.arange(len(class_names))\n",
        "plt.xticks(tick_marks, class_names)\n",
        "plt.yticks(tick_marks, class_names)\n",
        "# create heatmap\n",
        "sns.heatmap(pd.DataFrame(cm), annot=True, cmap=\"BuPu\" ,fmt='g')\n",
        "ax.xaxis.set_label_position(\"top\")\n",
        "plt.tight_layout()\n",
        "plt.title('Confusion matrix', y=1.1)\n",
        "plt.ylabel('Actual label')\n",
        "plt.xlabel('Predicted label')"
      ]
    },
    {
      "cell_type": "code",
      "execution_count": null,
      "id": "9e68d203-2b79-4600-b569-4e287040f666",
      "metadata": {
        "execution": {
          "iopub.execute_input": "2023-04-06T18:28:33.314771Z",
          "iopub.status.busy": "2023-04-06T18:28:33.313770Z",
          "iopub.status.idle": "2023-04-06T18:28:33.428155Z",
          "shell.execute_reply": "2023-04-06T18:28:33.428155Z",
          "shell.execute_reply.started": "2023-04-06T18:28:33.314771Z"
        },
        "tags": [],
        "id": "9e68d203-2b79-4600-b569-4e287040f666",
        "outputId": "b9fc8a79-0c92-45aa-d2a3-44c063589bec"
      },
      "outputs": [
        {
          "name": "stdout",
          "output_type": "stream",
          "text": [
            "LogisticRegression: ROC AUC=0.913\n"
          ]
        },
        {
          "data": {
            "image/png": "[encoded data removed]",
            "text/plain": [
              "<Figure size 640x480 with 1 Axes>"
            ]
          },
          "metadata": {},
          "output_type": "display_data"
        }
      ],
      "source": [
        "lr_auc = roc_auc_score(y_test, y_preds)\n",
        "print('LogisticRegression: ROC AUC=%.3f' % (lr_auc))\n",
        "# рассчитываем roc-кривую\n",
        "fpr, tpr, treshold = roc_curve(y_test, y_preds)\n",
        "roc_auc = auc(fpr, tpr)\n",
        "# строим график\n",
        "plt.plot(fpr, tpr, color='darkorange',\n",
        "         label='ROC кривая (area = %0.2f)' % roc_auc)\n",
        "plt.plot([0, 1], [0, 1], color='navy', linestyle='--')\n",
        "plt.xlim([0.0, 1.0])\n",
        "plt.ylim([0.0, 1.05])\n",
        "plt.xlabel('False Positive Rate')\n",
        "plt.ylabel('True Positive Rate')\n",
        "plt.title('Пример ROC-кривой')\n",
        "plt.legend(loc=\"lower right\")\n",
        "plt.show()"
      ]
    },
    {
      "cell_type": "code",
      "execution_count": null,
      "id": "b4b84363-a7f5-43e3-b65f-641b0bd86026",
      "metadata": {
        "execution": {
          "iopub.execute_input": "2023-04-06T18:23:34.907981Z",
          "iopub.status.busy": "2023-04-06T18:23:34.906980Z",
          "iopub.status.idle": "2023-04-06T18:23:34.938979Z",
          "shell.execute_reply": "2023-04-06T18:23:34.938979Z",
          "shell.execute_reply.started": "2023-04-06T18:23:34.907981Z"
        },
        "tags": [],
        "id": "b4b84363-a7f5-43e3-b65f-641b0bd86026",
        "outputId": "13607f9f-612b-40a3-9d56-02f97fc8fb47"
      },
      "outputs": [
        {
          "name": "stdout",
          "output_type": "stream",
          "text": [
            "              precision    recall  f1-score   support\n",
            "\n",
            "           0       0.92      0.90      0.91      5324\n",
            "           1       0.91      0.92      0.91      5407\n",
            "\n",
            "    accuracy                           0.91     10731\n",
            "   macro avg       0.91      0.91      0.91     10731\n",
            "weighted avg       0.91      0.91      0.91     10731\n",
            "\n"
          ]
        }
      ],
      "source": [
        "print(classification_report(y_test, y_preds))"
      ]
    },
    {
      "cell_type": "code",
      "execution_count": null,
      "id": "68330cb8-d323-4af8-8829-756f9885426c",
      "metadata": {
        "execution": {
          "iopub.execute_input": "2023-04-06T18:31:17.209472Z",
          "iopub.status.busy": "2023-04-06T18:31:17.209472Z",
          "iopub.status.idle": "2023-04-06T18:31:17.224472Z",
          "shell.execute_reply": "2023-04-06T18:31:17.224472Z",
          "shell.execute_reply.started": "2023-04-06T18:31:17.209472Z"
        },
        "id": "68330cb8-d323-4af8-8829-756f9885426c",
        "outputId": "7505ac28-c875-4db0-cd5e-4212954588a8"
      },
      "outputs": [
        {
          "name": "stdout",
          "output_type": "stream",
          "text": [
            "Accuracy: 0.9126828813717268\n",
            "Accuracy: 0.9139814559809052\n"
          ]
        }
      ],
      "source": [
        "print(f'Accuracy: {accuracy_score(y_test, y_preds)}')\n",
        "print(f'Accuracy: {f1_score(y_test, y_preds)}')"
      ]
    },
    {
      "cell_type": "markdown",
      "id": "36f5c43e-eb03-4e18-ae7b-f2412211a51c",
      "metadata": {
        "id": "36f5c43e-eb03-4e18-ae7b-f2412211a51c"
      },
      "source": [
        "## Random Forest"
      ]
    },
    {
      "cell_type": "code",
      "execution_count": null,
      "id": "eb01c7f6-41b1-4da8-9f22-0a7790bf275f",
      "metadata": {
        "execution": {
          "iopub.execute_input": "2023-04-06T18:33:42.009912Z",
          "iopub.status.busy": "2023-04-06T18:33:42.009912Z",
          "iopub.status.idle": "2023-04-06T18:33:42.016913Z",
          "shell.execute_reply": "2023-04-06T18:33:42.016913Z",
          "shell.execute_reply.started": "2023-04-06T18:33:42.009912Z"
        },
        "id": "eb01c7f6-41b1-4da8-9f22-0a7790bf275f",
        "outputId": "a203eb70-9318-4910-9612-7551c578cc58",
        "colab": {
          "base_uri": "https://localhost:8080/",
          "height": 1000
        }
      },
      "outputs": [
        {
          "output_type": "display_data",
          "data": {
            "text/plain": [
              "<Figure size 640x480 with 2 Axes>"
            ],
            "image/png": "[encoded data removed]"
          },
          "metadata": {}
        },
        {
          "output_type": "stream",
          "name": "stdout",
          "text": [
            "LogisticRegression: ROC AUC=0.916\n"
          ]
        },
        {
          "output_type": "display_data",
          "data": {
            "text/plain": [
              "<Figure size 640x480 with 1 Axes>"
            ],
            "image/png": "[encoded data removed]"
          },
          "metadata": {}
        },
        {
          "output_type": "stream",
          "name": "stdout",
          "text": [
            "              precision    recall  f1-score   support\n",
            "\n",
            "           0       0.93      0.90      0.91      5324\n",
            "           1       0.91      0.93      0.92      5407\n",
            "\n",
            "    accuracy                           0.92     10731\n",
            "   macro avg       0.92      0.92      0.92     10731\n",
            "weighted avg       0.92      0.92      0.92     10731\n",
            "\n",
            "Accuracy: 0.9158512720156555\n",
            "Accuracy: 0.91743622565603\n"
          ]
        }
      ],
      "source": [
        "rfc = RandomForestClassifier(random_state=42)\n",
        "rfc.fit(X_train, y_train)\n",
        "y_preds = rfc.predict(X_test)\n",
        "castom_evaluate(y_test, y_preds)"
      ]
    },
    {
      "cell_type": "code",
      "execution_count": null,
      "id": "2fef33ce-8b10-452a-afa8-e597c55569a7",
      "metadata": {
        "execution": {
          "iopub.execute_input": "2023-04-06T18:56:42.230621Z",
          "iopub.status.busy": "2023-04-06T18:56:42.230621Z",
          "iopub.status.idle": "2023-04-06T18:56:42.240618Z",
          "shell.execute_reply": "2023-04-06T18:56:42.240618Z",
          "shell.execute_reply.started": "2023-04-06T18:56:42.230621Z"
        },
        "tags": [],
        "id": "2fef33ce-8b10-452a-afa8-e597c55569a7"
      },
      "outputs": [],
      "source": [
        "param_distributions = {\n",
        "    'n_estimators': optuna.distributions.IntDistribution(10, 1000, log=True),\n",
        "    'criterion': optuna.distributions.CategoricalDistribution([\"gini\", \"entropy\", \"log_loss\"]),\n",
        "    'max_depth': optuna.distributions.IntDistribution(4, 20),\n",
        "    'n_jobs': optuna.distributions.IntDistribution(-1, -1),\n",
        "}"
      ]
    },
    {
      "cell_type": "code",
      "execution_count": null,
      "id": "2dc8a3da-c15b-458b-82ed-749088e2f72d",
      "metadata": {
        "collapsed": true,
        "execution": {
          "iopub.execute_input": "2023-04-06T18:57:10.897427Z",
          "iopub.status.busy": "2023-04-06T18:57:10.897427Z",
          "iopub.status.idle": "2023-04-06T18:58:27.432116Z",
          "shell.execute_reply": "2023-04-06T18:58:27.432116Z",
          "shell.execute_reply.started": "2023-04-06T18:57:10.897427Z"
        },
        "jupyter": {
          "outputs_hidden": true
        },
        "tags": [],
        "id": "2dc8a3da-c15b-458b-82ed-749088e2f72d",
        "outputId": "177a4c1e-0549-41ff-ffcd-f511197d3487"
      },
      "outputs": [
        {
          "name": "stderr",
          "output_type": "stream",
          "text": [
            "C:\\Users\\Home\\AppData\\Local\\Temp\\ipykernel_15936\\4265121687.py:1: ExperimentalWarning: OptunaSearchCV is experimental (supported from v0.17.0). The interface can change in the future.\n",
            "  optuna_search = optuna.integration.OptunaSearchCV(rfc, param_distributions, random_state=42)\n",
            "\u001b[32m[I 2023-04-06 21:57:10,904]\u001b[0m A new study created in memory with name: no-name-56efdda1-1575-4edb-b26e-4cfe054baa78\u001b[0m\n",
            "\u001b[32m[I 2023-04-06 21:57:17,789]\u001b[0m Trial 0 finished with value: 0.8303292119985166 and parameters: {'n_estimators': 79, 'criterion': 'gini', 'max_depth': 12, 'n_jobs': -1}. Best is trial 0 with value: 0.8303292119985166.\u001b[0m\n",
            "\u001b[32m[I 2023-04-06 21:57:20,405]\u001b[0m Trial 1 finished with value: 0.7965823009847826 and parameters: {'n_estimators': 38, 'criterion': 'gini', 'max_depth': 9, 'n_jobs': -1}. Best is trial 0 with value: 0.8303292119985166.\u001b[0m\n",
            "\u001b[32m[I 2023-04-06 21:57:23,493]\u001b[0m Trial 2 finished with value: 0.8054300412079393 and parameters: {'n_estimators': 48, 'criterion': 'gini', 'max_depth': 10, 'n_jobs': -1}. Best is trial 0 with value: 0.8303292119985166.\u001b[0m\n",
            "\u001b[32m[I 2023-04-06 21:57:32,644]\u001b[0m Trial 3 finished with value: 0.8509193048411584 and parameters: {'n_estimators': 86, 'criterion': 'entropy', 'max_depth': 20, 'n_jobs': -1}. Best is trial 3 with value: 0.8509193048411584.\u001b[0m\n",
            "\u001b[32m[I 2023-04-06 21:57:37,457]\u001b[0m Trial 4 finished with value: 0.8187022059635375 and parameters: {'n_estimators': 80, 'criterion': 'gini', 'max_depth': 11, 'n_jobs': -1}. Best is trial 3 with value: 0.8509193048411584.\u001b[0m\n",
            "\u001b[32m[I 2023-04-06 21:58:05,966]\u001b[0m Trial 5 finished with value: 0.8479920100110558 and parameters: {'n_estimators': 410, 'criterion': 'gini', 'max_depth': 15, 'n_jobs': -1}. Best is trial 3 with value: 0.8509193048411584.\u001b[0m\n",
            "\u001b[32m[I 2023-04-06 21:58:13,728]\u001b[0m Trial 6 finished with value: 0.8440284674288764 and parameters: {'n_estimators': 95, 'criterion': 'gini', 'max_depth': 16, 'n_jobs': -1}. Best is trial 3 with value: 0.8509193048411584.\u001b[0m\n",
            "\u001b[32m[I 2023-04-06 21:58:14,834]\u001b[0m Trial 7 finished with value: 0.7306680997228965 and parameters: {'n_estimators': 11, 'criterion': 'entropy', 'max_depth': 8, 'n_jobs': -1}. Best is trial 3 with value: 0.8509193048411584.\u001b[0m\n",
            "\u001b[32m[I 2023-04-06 21:58:16,580]\u001b[0m Trial 8 finished with value: 0.7266710579503538 and parameters: {'n_estimators': 31, 'criterion': 'log_loss', 'max_depth': 6, 'n_jobs': -1}. Best is trial 3 with value: 0.8509193048411584.\u001b[0m\n",
            "\u001b[32m[I 2023-04-06 21:58:26,707]\u001b[0m Trial 9 finished with value: 0.8540439910778268 and parameters: {'n_estimators': 106, 'criterion': 'log_loss', 'max_depth': 19, 'n_jobs': -1}. Best is trial 9 with value: 0.8540439910778268.\u001b[0m\n"
          ]
        },
        {
          "data": {
            "text/html": [
              "<style>#sk-container-id-2 {color: black;background-color: white;}#sk-container-id-2 pre{padding: 0;}#sk-container-id-2 div.sk-toggleable {background-color: white;}#sk-container-id-2 label.sk-toggleable__label {cursor: pointer;display: block;width: 100%;margin-bottom: 0;padding: 0.3em;box-sizing: border-box;text-align: center;}#sk-container-id-2 label.sk-toggleable__label-arrow:before {content: \"▸\";float: left;margin-right: 0.25em;color: #696969;}#sk-container-id-2 label.sk-toggleable__label-arrow:hover:before {color: black;}#sk-container-id-2 div.sk-estimator:hover label.sk-toggleable__label-arrow:before {color: black;}#sk-container-id-2 div.sk-toggleable__content {max-height: 0;max-width: 0;overflow: hidden;text-align: left;background-color: #f0f8ff;}#sk-container-id-2 div.sk-toggleable__content pre {margin: 0.2em;color: black;border-radius: 0.25em;background-color: #f0f8ff;}#sk-container-id-2 input.sk-toggleable__control:checked~div.sk-toggleable__content {max-height: 200px;max-width: 100%;overflow: auto;}#sk-container-id-2 input.sk-toggleable__control:checked~label.sk-toggleable__label-arrow:before {content: \"▾\";}#sk-container-id-2 div.sk-estimator input.sk-toggleable__control:checked~label.sk-toggleable__label {background-color: #d4ebff;}#sk-container-id-2 div.sk-label input.sk-toggleable__control:checked~label.sk-toggleable__label {background-color: #d4ebff;}#sk-container-id-2 input.sk-hidden--visually {border: 0;clip: rect(1px 1px 1px 1px);clip: rect(1px, 1px, 1px, 1px);height: 1px;margin: -1px;overflow: hidden;padding: 0;position: absolute;width: 1px;}#sk-container-id-2 div.sk-estimator {font-family: monospace;background-color: #f0f8ff;border: 1px dotted black;border-radius: 0.25em;box-sizing: border-box;margin-bottom: 0.5em;}#sk-container-id-2 div.sk-estimator:hover {background-color: #d4ebff;}#sk-container-id-2 div.sk-parallel-item::after {content: \"\";width: 100%;border-bottom: 1px solid gray;flex-grow: 1;}#sk-container-id-2 div.sk-label:hover label.sk-toggleable__label {background-color: #d4ebff;}#sk-container-id-2 div.sk-serial::before {content: \"\";position: absolute;border-left: 1px solid gray;box-sizing: border-box;top: 0;bottom: 0;left: 50%;z-index: 0;}#sk-container-id-2 div.sk-serial {display: flex;flex-direction: column;align-items: center;background-color: white;padding-right: 0.2em;padding-left: 0.2em;position: relative;}#sk-container-id-2 div.sk-item {position: relative;z-index: 1;}#sk-container-id-2 div.sk-parallel {display: flex;align-items: stretch;justify-content: center;background-color: white;position: relative;}#sk-container-id-2 div.sk-item::before, #sk-container-id-2 div.sk-parallel-item::before {content: \"\";position: absolute;border-left: 1px solid gray;box-sizing: border-box;top: 0;bottom: 0;left: 50%;z-index: -1;}#sk-container-id-2 div.sk-parallel-item {display: flex;flex-direction: column;z-index: 1;position: relative;background-color: white;}#sk-container-id-2 div.sk-parallel-item:first-child::after {align-self: flex-end;width: 50%;}#sk-container-id-2 div.sk-parallel-item:last-child::after {align-self: flex-start;width: 50%;}#sk-container-id-2 div.sk-parallel-item:only-child::after {width: 0;}#sk-container-id-2 div.sk-dashed-wrapped {border: 1px dashed gray;margin: 0 0.4em 0.5em 0.4em;box-sizing: border-box;padding-bottom: 0.4em;background-color: white;}#sk-container-id-2 div.sk-label label {font-family: monospace;font-weight: bold;display: inline-block;line-height: 1.2em;}#sk-container-id-2 div.sk-label-container {text-align: center;}#sk-container-id-2 div.sk-container {/* jupyter's `normalize.less` sets `[hidden] { display: none; }` but bootstrap.min.css set `[hidden] { display: none !important; }` so we also need the `!important` here to be able to override the default hidden behavior on the sphinx rendered scikit-learn.org. See: https://github.com/scikit-learn/scikit-learn/issues/21755 */display: inline-block !important;position: relative;}#sk-container-id-2 div.sk-text-repr-fallback {display: none;}</style><div id=\"sk-container-id-2\" class=\"sk-top-container\"><div class=\"sk-text-repr-fallback\"><pre>OptunaSearchCV(estimator=RandomForestClassifier(),\n",
              "               param_distributions={&#x27;criterion&#x27;: CategoricalDistribution(choices=(&#x27;gini&#x27;, &#x27;entropy&#x27;, &#x27;log_loss&#x27;)),\n",
              "                                    &#x27;max_depth&#x27;: IntDistribution(high=20, log=False, low=4, step=1),\n",
              "                                    &#x27;n_estimators&#x27;: IntDistribution(high=1000, log=True, low=10, step=1),\n",
              "                                    &#x27;n_jobs&#x27;: IntDistribution(high=-1, log=False, low=-1, step=1)},\n",
              "               random_state=42)</pre><b>In a Jupyter environment, please rerun this cell to show the HTML representation or trust the notebook. <br />On GitHub, the HTML representation is unable to render, please try loading this page with nbviewer.org.</b></div><div class=\"sk-container\" hidden><div class=\"sk-item sk-dashed-wrapped\"><div class=\"sk-label-container\"><div class=\"sk-label sk-toggleable\"><input class=\"sk-toggleable__control sk-hidden--visually\" id=\"sk-estimator-id-4\" type=\"checkbox\" ><label for=\"sk-estimator-id-4\" class=\"sk-toggleable__label sk-toggleable__label-arrow\">OptunaSearchCV</label><div class=\"sk-toggleable__content\"><pre>OptunaSearchCV(estimator=RandomForestClassifier(),\n",
              "               param_distributions={&#x27;criterion&#x27;: CategoricalDistribution(choices=(&#x27;gini&#x27;, &#x27;entropy&#x27;, &#x27;log_loss&#x27;)),\n",
              "                                    &#x27;max_depth&#x27;: IntDistribution(high=20, log=False, low=4, step=1),\n",
              "                                    &#x27;n_estimators&#x27;: IntDistribution(high=1000, log=True, low=10, step=1),\n",
              "                                    &#x27;n_jobs&#x27;: IntDistribution(high=-1, log=False, low=-1, step=1)},\n",
              "               random_state=42)</pre></div></div></div><div class=\"sk-parallel\"><div class=\"sk-parallel-item\"><div class=\"sk-item\"><div class=\"sk-label-container\"><div class=\"sk-label sk-toggleable\"><input class=\"sk-toggleable__control sk-hidden--visually\" id=\"sk-estimator-id-5\" type=\"checkbox\" ><label for=\"sk-estimator-id-5\" class=\"sk-toggleable__label sk-toggleable__label-arrow\">estimator: RandomForestClassifier</label><div class=\"sk-toggleable__content\"><pre>RandomForestClassifier()</pre></div></div></div><div class=\"sk-serial\"><div class=\"sk-item\"><div class=\"sk-estimator sk-toggleable\"><input class=\"sk-toggleable__control sk-hidden--visually\" id=\"sk-estimator-id-6\" type=\"checkbox\" ><label for=\"sk-estimator-id-6\" class=\"sk-toggleable__label sk-toggleable__label-arrow\">RandomForestClassifier</label><div class=\"sk-toggleable__content\"><pre>RandomForestClassifier()</pre></div></div></div></div></div></div></div></div></div></div>"
            ],
            "text/plain": [
              "OptunaSearchCV(estimator=RandomForestClassifier(),\n",
              "               param_distributions={'criterion': CategoricalDistribution(choices=('gini', 'entropy', 'log_loss')),\n",
              "                                    'max_depth': IntDistribution(high=20, log=False, low=4, step=1),\n",
              "                                    'n_estimators': IntDistribution(high=1000, log=True, low=10, step=1),\n",
              "                                    'n_jobs': IntDistribution(high=-1, log=False, low=-1, step=1)},\n",
              "               random_state=42)"
            ]
          },
          "execution_count": 67,
          "metadata": {},
          "output_type": "execute_result"
        }
      ],
      "source": [
        "optuna_search = optuna.integration.OptunaSearchCV(rfc, param_distributions, random_state=42)\n",
        "optuna_search.fit(X_train, y_train)"
      ]
    },
    {
      "cell_type": "code",
      "execution_count": null,
      "id": "1fe3d964-f5cd-46d9-800f-1a3979e55142",
      "metadata": {
        "execution": {
          "iopub.execute_input": "2023-04-06T18:58:30.542267Z",
          "iopub.status.busy": "2023-04-06T18:58:30.541269Z",
          "iopub.status.idle": "2023-04-06T18:58:30.606790Z",
          "shell.execute_reply": "2023-04-06T18:58:30.606790Z",
          "shell.execute_reply.started": "2023-04-06T18:58:30.542267Z"
        },
        "id": "1fe3d964-f5cd-46d9-800f-1a3979e55142"
      },
      "outputs": [],
      "source": [
        "y_preds = optuna_search.best_estimator_.predict(X_test)"
      ]
    },
    {
      "cell_type": "code",
      "execution_count": null,
      "id": "e9a0a822-dca2-493e-abcc-e50f839a54d0",
      "metadata": {
        "execution": {
          "iopub.execute_input": "2023-04-06T19:26:10.207917Z",
          "iopub.status.busy": "2023-04-06T19:26:10.206916Z",
          "iopub.status.idle": "2023-04-06T19:26:10.225915Z",
          "shell.execute_reply": "2023-04-06T19:26:10.225915Z",
          "shell.execute_reply.started": "2023-04-06T19:26:10.207917Z"
        },
        "id": "e9a0a822-dca2-493e-abcc-e50f839a54d0",
        "outputId": "e9c03a1d-cd29-422b-ab82-d08fcf15aaf8"
      },
      "outputs": [
        {
          "data": {
            "text/plain": [
              "{'n_estimators': 106, 'criterion': 'log_loss', 'max_depth': 19, 'n_jobs': -1}"
            ]
          },
          "execution_count": 73,
          "metadata": {},
          "output_type": "execute_result"
        }
      ],
      "source": [
        "optuna_search.best_params_"
      ]
    },
    {
      "cell_type": "code",
      "execution_count": null,
      "id": "5e522b63-9aaf-493d-91bc-fbb5cada8a3c",
      "metadata": {
        "execution": {
          "iopub.execute_input": "2023-04-06T18:58:47.222912Z",
          "iopub.status.busy": "2023-04-06T18:58:47.222912Z",
          "iopub.status.idle": "2023-04-06T18:58:47.360427Z",
          "shell.execute_reply": "2023-04-06T18:58:47.360427Z",
          "shell.execute_reply.started": "2023-04-06T18:58:47.222912Z"
        },
        "id": "5e522b63-9aaf-493d-91bc-fbb5cada8a3c",
        "outputId": "8eb951a8-4b24-4dd5-c851-ab402edf8aa8"
      },
      "outputs": [
        {
          "data": {
            "text/plain": [
              "Text(0.5, 427.9555555555555, 'Predicted label')"
            ]
          },
          "execution_count": 69,
          "metadata": {},
          "output_type": "execute_result"
        },
        {
          "data": {
            "image/png": "[encoded data removed]",
            "text/plain": [
              "<Figure size 640x480 with 2 Axes>"
            ]
          },
          "metadata": {},
          "output_type": "display_data"
        }
      ],
      "source": [
        "cm = confusion_matrix(y_test,y_preds)\n",
        "class_names=[0,1] # name  of classes\n",
        "fig, ax = plt.subplots()\n",
        "tick_marks = np.arange(len(class_names))\n",
        "plt.xticks(tick_marks, class_names)\n",
        "plt.yticks(tick_marks, class_names)\n",
        "# create heatmap\n",
        "sns.heatmap(pd.DataFrame(cm), annot=True, cmap=\"BuPu\" ,fmt='g')\n",
        "ax.xaxis.set_label_position(\"top\")\n",
        "plt.tight_layout()\n",
        "plt.title('Confusion matrix', y=1.1)\n",
        "plt.ylabel('Actual label')\n",
        "plt.xlabel('Predicted label')"
      ]
    },
    {
      "cell_type": "code",
      "execution_count": null,
      "id": "32c70b56-e23e-47e4-bc5d-0da7864f3da3",
      "metadata": {
        "execution": {
          "iopub.execute_input": "2023-04-06T18:59:05.749910Z",
          "iopub.status.busy": "2023-04-06T18:59:05.749910Z",
          "iopub.status.idle": "2023-04-06T18:59:05.864913Z",
          "shell.execute_reply": "2023-04-06T18:59:05.864913Z",
          "shell.execute_reply.started": "2023-04-06T18:59:05.749910Z"
        },
        "id": "32c70b56-e23e-47e4-bc5d-0da7864f3da3",
        "outputId": "056c5dff-183b-4f64-8eaa-4e406ee8cdec"
      },
      "outputs": [
        {
          "name": "stdout",
          "output_type": "stream",
          "text": [
            "LogisticRegression: ROC AUC=0.861\n"
          ]
        },
        {
          "data": {
            "image/png": "[encoded data removed]",
            "text/plain": [
              "<Figure size 640x480 with 1 Axes>"
            ]
          },
          "metadata": {},
          "output_type": "display_data"
        }
      ],
      "source": [
        "lr_auc = roc_auc_score(y_test, y_preds)\n",
        "print('LogisticRegression: ROC AUC=%.3f' % (lr_auc))\n",
        "# рассчитываем roc-кривую\n",
        "fpr, tpr, treshold = roc_curve(y_test, y_preds)\n",
        "roc_auc = auc(fpr, tpr)\n",
        "# строим график\n",
        "plt.plot(fpr, tpr, color='darkorange',\n",
        "         label='ROC кривая (area = %0.2f)' % roc_auc)\n",
        "plt.plot([0, 1], [0, 1], color='navy', linestyle='--')\n",
        "plt.xlim([0.0, 1.0])\n",
        "plt.ylim([0.0, 1.05])\n",
        "plt.xlabel('False Positive Rate')\n",
        "plt.ylabel('True Positive Rate')\n",
        "plt.title('Пример ROC-кривой')\n",
        "plt.legend(loc=\"lower right\")\n",
        "plt.show()"
      ]
    },
    {
      "cell_type": "code",
      "execution_count": null,
      "id": "507028cb-541a-4a60-8fb3-b2eaecddae6c",
      "metadata": {
        "execution": {
          "iopub.execute_input": "2023-04-06T18:59:58.319918Z",
          "iopub.status.busy": "2023-04-06T18:59:58.319918Z",
          "iopub.status.idle": "2023-04-06T18:59:58.338914Z",
          "shell.execute_reply": "2023-04-06T18:59:58.338914Z",
          "shell.execute_reply.started": "2023-04-06T18:59:58.319918Z"
        },
        "id": "507028cb-541a-4a60-8fb3-b2eaecddae6c",
        "outputId": "43a94a5a-b7a2-46a9-aef6-e77d2ec2bcd1"
      },
      "outputs": [
        {
          "name": "stdout",
          "output_type": "stream",
          "text": [
            "              precision    recall  f1-score   support\n",
            "\n",
            "           0       0.90      0.81      0.85      5324\n",
            "           1       0.83      0.91      0.87      5407\n",
            "\n",
            "    accuracy                           0.86     10731\n",
            "   macro avg       0.86      0.86      0.86     10731\n",
            "weighted avg       0.86      0.86      0.86     10731\n",
            "\n",
            "Accuracy: 0.8615226912682882\n",
            "Accuracy: 0.8686118479221927\n"
          ]
        }
      ],
      "source": [
        "print(classification_report(y_test, y_preds))\n",
        "print(f'Accuracy: {accuracy_score(y_test, y_preds)}')\n",
        "print(f'Accuracy: {f1_score(y_test, y_preds)}')"
      ]
    },
    {
      "cell_type": "markdown",
      "id": "e98f30be-afc8-4d13-bc35-4901cc032d0f",
      "metadata": {
        "id": "e98f30be-afc8-4d13-bc35-4901cc032d0f"
      },
      "source": [
        "## SVM"
      ]
    },
    {
      "cell_type": "code",
      "execution_count": null,
      "id": "caddf7f6-9c96-41ce-ae26-0c31957085df",
      "metadata": {
        "execution": {
          "iopub.execute_input": "2023-04-06T19:25:41.736219Z",
          "iopub.status.busy": "2023-04-06T19:25:41.736219Z",
          "iopub.status.idle": "2023-04-06T19:25:41.753228Z",
          "shell.execute_reply": "2023-04-06T19:25:41.753228Z",
          "shell.execute_reply.started": "2023-04-06T19:25:41.736219Z"
        },
        "id": "caddf7f6-9c96-41ce-ae26-0c31957085df",
        "outputId": "5dbbd6d0-cafe-44bf-ddf1-10cee0d05884",
        "colab": {
          "base_uri": "https://localhost:8080/",
          "height": 1000
        }
      },
      "outputs": [
        {
          "output_type": "display_data",
          "data": {
            "text/plain": [
              "<Figure size 640x480 with 2 Axes>"
            ],
            "image/png": "[encoded data removed]"
          },
          "metadata": {}
        },
        {
          "output_type": "stream",
          "name": "stdout",
          "text": [
            "LogisticRegression: ROC AUC=0.929\n"
          ]
        },
        {
          "output_type": "display_data",
          "data": {
            "text/plain": [
              "<Figure size 640x480 with 1 Axes>"
            ],
            "image/png": "[encoded data removed]"
          },
          "metadata": {}
        },
        {
          "output_type": "stream",
          "name": "stdout",
          "text": [
            "              precision    recall  f1-score   support\n",
            "\n",
            "           0       0.94      0.92      0.93      5324\n",
            "           1       0.92      0.94      0.93      5407\n",
            "\n",
            "    accuracy                           0.93     10731\n",
            "   macro avg       0.93      0.93      0.93     10731\n",
            "weighted avg       0.93      0.93      0.93     10731\n",
            "\n",
            "Accuracy: 0.9293635262324108\n",
            "Accuracy: 0.9307129798903109\n"
          ]
        }
      ],
      "source": [
        "svm = SVC(random_state=42)\n",
        "svm.fit(X_train, y_train)\n",
        "y_preds = svm.predict(X_test)\n",
        "castom_evaluate(y_test, y_preds)"
      ]
    },
    {
      "cell_type": "code",
      "execution_count": null,
      "id": "fbb61ec1-c52c-4abe-ab76-f8b000ab4c75",
      "metadata": {
        "execution": {
          "iopub.execute_input": "2023-04-07T03:36:41.133326Z",
          "iopub.status.busy": "2023-04-07T03:36:41.133326Z",
          "iopub.status.idle": "2023-04-07T03:36:41.141322Z",
          "shell.execute_reply": "2023-04-07T03:36:41.141322Z",
          "shell.execute_reply.started": "2023-04-07T03:36:41.133326Z"
        },
        "tags": [],
        "id": "fbb61ec1-c52c-4abe-ab76-f8b000ab4c75"
      },
      "outputs": [],
      "source": [
        "param_distributions = {\n",
        "    'C': optuna.distributions.IntDistribution(1e-2, 1e5),\n",
        "    'kernel': optuna.distributions.CategoricalDistribution(['linear', 'poly', 'rbf', 'sigmoid']),\n",
        "}"
      ]
    },
    {
      "cell_type": "code",
      "execution_count": null,
      "id": "dac267cd-e62f-4e0d-839f-d97d1fef7a5a",
      "metadata": {
        "execution": {
          "iopub.execute_input": "2023-04-07T03:36:42.330259Z",
          "iopub.status.busy": "2023-04-07T03:36:42.329255Z"
        },
        "tags": [],
        "id": "dac267cd-e62f-4e0d-839f-d97d1fef7a5a",
        "outputId": "d160a682-fd72-4e04-b51c-40c380f6cbe9"
      },
      "outputs": [
        {
          "name": "stderr",
          "output_type": "stream",
          "text": [
            "C:\\Users\\Home\\AppData\\Local\\Temp\\ipykernel_15936\\2415828084.py:1: ExperimentalWarning: OptunaSearchCV is experimental (supported from v0.17.0). The interface can change in the future.\n",
            "  optuna_search = optuna.integration.OptunaSearchCV(svm, param_distributions, random_state=42)\n",
            "\u001b[32m[I 2023-04-07 06:36:42,337]\u001b[0m A new study created in memory with name: no-name-924162e8-8dc5-4288-b81b-5d61ebe61cf9\u001b[0m\n",
            "\u001b[32m[I 2023-04-07 07:05:18,296]\u001b[0m Trial 0 finished with value: 0.859372396123538 and parameters: {'C': 45470, 'kernel': 'linear'}. Best is trial 0 with value: 0.859372396123538.\u001b[0m\n",
            "\u001b[32m[I 2023-04-07 07:32:56,510]\u001b[0m Trial 1 finished with value: 0.8664276355487679 and parameters: {'C': 29826, 'kernel': 'sigmoid'}. Best is trial 1 with value: 0.8664276355487679.\u001b[0m\n"
          ]
        }
      ],
      "source": [
        "optuna_search = optuna.integration.OptunaSearchCV(svm, param_distributions, random_state=42)\n",
        "optuna_search.fit(X_train, y_train)"
      ]
    },
    {
      "cell_type": "code",
      "execution_count": null,
      "id": "3db7bedd-2b3a-4284-8664-0bfb3ccfd5ab",
      "metadata": {
        "id": "3db7bedd-2b3a-4284-8664-0bfb3ccfd5ab"
      },
      "outputs": [],
      "source": [
        "y_preds = optuna_search.best_estimator_.predict(X_test)"
      ]
    },
    {
      "cell_type": "code",
      "execution_count": null,
      "id": "d6e2ca8b-c2ac-43dd-86eb-234f5453cefa",
      "metadata": {
        "id": "d6e2ca8b-c2ac-43dd-86eb-234f5453cefa"
      },
      "outputs": [],
      "source": [
        "optuna_search.best_params_"
      ]
    },
    {
      "cell_type": "code",
      "execution_count": null,
      "id": "f440334a-4da4-4efc-a921-7bd9cb08f4ef",
      "metadata": {
        "id": "f440334a-4da4-4efc-a921-7bd9cb08f4ef"
      },
      "outputs": [],
      "source": [
        "cm = confusion_matrix(y_test,y_preds)\n",
        "class_names=[0,1] # name  of classes\n",
        "fig, ax = plt.subplots()\n",
        "tick_marks = np.arange(len(class_names))\n",
        "plt.xticks(tick_marks, class_names)\n",
        "plt.yticks(tick_marks, class_names)\n",
        "# create heatmap\n",
        "sns.heatmap(pd.DataFrame(cm), annot=True, cmap=\"BuPu\" ,fmt='g')\n",
        "ax.xaxis.set_label_position(\"top\")\n",
        "plt.tight_layout()\n",
        "plt.title('Confusion matrix', y=1.1)\n",
        "plt.ylabel('Actual label')\n",
        "plt.xlabel('Predicted label')"
      ]
    },
    {
      "cell_type": "code",
      "execution_count": null,
      "id": "b062abc7-4ea3-46ff-8aec-f1a50e31c0dd",
      "metadata": {
        "id": "b062abc7-4ea3-46ff-8aec-f1a50e31c0dd"
      },
      "outputs": [],
      "source": [
        "lr_auc = roc_auc_score(y_test, y_preds)\n",
        "print('LogisticRegression: ROC AUC=%.3f' % (lr_auc))\n",
        "# рассчитываем roc-кривую\n",
        "fpr, tpr, treshold = roc_curve(y_test, y_preds)\n",
        "roc_auc = auc(fpr, tpr)\n",
        "# строим график\n",
        "plt.plot(fpr, tpr, color='darkorange',\n",
        "         label='ROC кривая (area = %0.2f)' % roc_auc)\n",
        "plt.plot([0, 1], [0, 1], color='navy', linestyle='--')\n",
        "plt.xlim([0.0, 1.0])\n",
        "plt.ylim([0.0, 1.05])\n",
        "plt.xlabel('False Positive Rate')\n",
        "plt.ylabel('True Positive Rate')\n",
        "plt.title('Пример ROC-кривой')\n",
        "plt.legend(loc=\"lower right\")\n",
        "plt.show()"
      ]
    },
    {
      "cell_type": "code",
      "execution_count": null,
      "id": "3407d419-9bce-41cc-8d86-d6b241e539ab",
      "metadata": {
        "id": "3407d419-9bce-41cc-8d86-d6b241e539ab"
      },
      "outputs": [],
      "source": [
        "print(classification_report(y_test, y_preds))\n",
        "print(f'Accuracy: {accuracy_score(y_test, y_preds)}')\n",
        "print(f'Accuracy: {f1_score(y_test, y_preds)}')"
      ]
    },
    {
      "cell_type": "markdown",
      "source": [
        "## LSTM"
      ],
      "metadata": {
        "id": "DedADId1PY7-"
      },
      "id": "DedADId1PY7-"
    },
    {
      "cell_type": "code",
      "source": [
        "df_ = df[['title', 'label']]\n",
        "data_train, data_test = train_test_split(df_, test_size=0.15, random_state=42, shuffle=True)\n",
        "\n",
        "print('\\t\\t Shape')\n",
        "print(f'Train:      {data_train.shape}')\n",
        "print(f'Test:       {data_test.shape}')\n",
        "print()\n",
        "print('\\t\\t\\treal   | fake')\n",
        "print(f\"Train:      {sum(data_train['label']==1)/len(data_train)} | {sum(data_train['label']==0)/len(data_train)}\")\n",
        "print(f\"Test:       {sum(data_test['label']==1)/len(data_test)} | {sum(data_test['label']==1)/len(data_test)}\")"
      ],
      "metadata": {
        "id": "HbJQ-h8uPXWA",
        "outputId": "4ada768a-f828-4432-f740-aa795b804144",
        "colab": {
          "base_uri": "https://localhost:8080/"
        }
      },
      "id": "HbJQ-h8uPXWA",
      "execution_count": 108,
      "outputs": [
        {
          "output_type": "stream",
          "name": "stdout",
          "text": [
            "\t\t Shape\n",
            "Train:      (60806, 2)\n",
            "Test:       (10731, 2)\n",
            "\n",
            "\t\t\treal   | fake\n",
            "Train:      0.5114955760944644 | 0.4885044239055356\n",
            "Test:       0.5038673003447954 | 0.5038673003447954\n"
          ]
        }
      ]
    },
    {
      "cell_type": "code",
      "source": [
        "data_train, data_val = train_test_split(data_train, test_size=0.15, random_state=42, shuffle=True)\n",
        "\n",
        "print('\\t\\t Shape')\n",
        "print(f'Train:      {data_train.shape}')\n",
        "print(f'Test:       {data_val.shape}')\n",
        "print()\n",
        "print('\\t\\t\\treal   | fake')\n",
        "print(f\"Train:      {sum(data_train['label']==1)/len(data_train)} | {sum(data_train['label']==0)/len(data_train)}\")\n",
        "print(f\"Test:       {sum(data_val['label']==1)/len(data_val)} | {sum(data_val['label']==1)/len(data_val)}\")"
      ],
      "metadata": {
        "id": "H7pLAYz0S5RG",
        "outputId": "b0817ade-f9f4-43f9-e191-fde068e66102",
        "colab": {
          "base_uri": "https://localhost:8080/"
        }
      },
      "id": "H7pLAYz0S5RG",
      "execution_count": 109,
      "outputs": [
        {
          "output_type": "stream",
          "name": "stdout",
          "text": [
            "\t\t Shape\n",
            "Train:      (51685, 2)\n",
            "Test:       (9121, 2)\n",
            "\n",
            "\t\t\treal   | fake\n",
            "Train:      0.5119473735126245 | 0.48805262648737546\n",
            "Test:       0.5089354237473961 | 0.5089354237473961\n"
          ]
        }
      ]
    },
    {
      "cell_type": "code",
      "execution_count": 110,
      "id": "c0172650-e6cf-476e-b527-40d0d828a10c",
      "metadata": {
        "id": "c0172650-e6cf-476e-b527-40d0d828a10c"
      },
      "outputs": [],
      "source": [
        "tokenizer = get_tokenizer('basic_english')\n",
        "\n",
        "def build_vocabulary(datasets):\n",
        "  for dataset in datasets:\n",
        "    for text in dataset['title']:\n",
        "      yield tokenizer(text)\n",
        "\n",
        "vocab = build_vocab_from_iterator(build_vocabulary([data_train, data_val]), specials=['<UNK>'])\n",
        "vocab.set_default_index(vocab['<UNK>'])"
      ]
    },
    {
      "cell_type": "code",
      "source": [
        "print(f'Vocabulary length: {vocab.__len__()}')"
      ],
      "metadata": {
        "id": "65qzo5xnT03Z",
        "outputId": "13bca1cf-7890-4f1d-918f-1b21e3242ebd",
        "colab": {
          "base_uri": "https://localhost:8080/"
        }
      },
      "id": "65qzo5xnT03Z",
      "execution_count": 111,
      "outputs": [
        {
          "output_type": "stream",
          "name": "stdout",
          "text": [
            "Vocabulary length: 44177\n"
          ]
        }
      ]
    },
    {
      "cell_type": "code",
      "source": [
        "# PARAMETERS\n",
        "\n",
        "# for data_loader\n",
        "MAX_WORDS  = 22\n",
        "BATCH_SIZE = 1024\n",
        "\n",
        "# for model\n",
        "EMBED_LEN     = 50\n",
        "HIDDEN_DIM    = 75\n",
        "N_LAYERS      = 3\n",
        "TRAIN_ON_GPU  = torch.cuda.is_available()\n",
        "EPOCHS        = 5\n",
        "LR            = 1e-2\n",
        "BIDIRECTIONAL = True\n",
        "\n",
        "device = torch.device('cuda' if torch.cuda.is_available() else 'cpu')\n",
        "\n",
        "# for saving checkpoints\n",
        "# PATH = Path('checkpoints_lstm')\n",
        "# PATH.mkdir(exist_ok=True)"
      ],
      "metadata": {
        "id": "bWkrSb2iUw2C"
      },
      "id": "bWkrSb2iUw2C",
      "execution_count": 112,
      "outputs": []
    },
    {
      "cell_type": "code",
      "source": [
        "train_dataset, val_dataset, test_dataset = to_map_style_dataset(data_train.values), \\\n",
        "                                           to_map_style_dataset(data_val.values), \\\n",
        "                                           to_map_style_dataset(data_test.values), \\\n",
        "\n",
        "def vectorize_batch(batch):\n",
        "    X, Y = list(zip(*batch))\n",
        "    X = [vocab(tokenizer(text)) for text in X] # tokenize and map tokens to indexes\n",
        "    X = [tokens+([0]*(MAX_WORDS - len(tokens))) if len(tokens) < MAX_WORDS else tokens[:MAX_WORDS] for tokens in X]\n",
        "    return torch.tensor(X, dtype=torch.int32, device=device), torch.tensor(Y, device=device)\n",
        "\n",
        "train_loader = DataLoader(train_dataset, batch_size=BATCH_SIZE, collate_fn=vectorize_batch, shuffle=True)\n",
        "val_loader   = DataLoader(val_dataset,   batch_size=BATCH_SIZE, collate_fn=vectorize_batch, shuffle=True)\n",
        "test_loader  = DataLoader(test_dataset , batch_size=BATCH_SIZE, collate_fn=vectorize_batch, shuffle=True)"
      ],
      "metadata": {
        "id": "t67i3k8eT00z"
      },
      "id": "t67i3k8eT00z",
      "execution_count": 113,
      "outputs": []
    },
    {
      "cell_type": "code",
      "source": [
        "target_classes = [0, 1]\n",
        "\n",
        "\n",
        "class LSTMClassifier(nn.Module):\n",
        "  def __init__(self):\n",
        "    super(LSTMClassifier, self).__init__()\n",
        "\n",
        "    self.num_directions = (2 if BIDIRECTIONAL else 1)\n",
        "\n",
        "    self.emb_layer = nn.Embedding(num_embeddings=len(vocab), embedding_dim=EMBED_LEN)\n",
        "    self.lstm = nn.LSTM(input_size=EMBED_LEN, hidden_size=HIDDEN_DIM, num_layers=N_LAYERS, dropout=0.5, batch_first=True, bidirectional=BIDIRECTIONAL)\n",
        "    self.fc = nn.Linear(in_features=HIDDEN_DIM*self.num_directions, out_features=len(target_classes))\n",
        "    self.softmax = nn.LogSoftmax(dim=1)\n",
        "\n",
        "  def init_hidden(self, batch_size):\n",
        "    '''Initializes hidden state'''\n",
        "    # Create two new tensors with sizes n_layers x batch_size x n_hidden,\n",
        "    # initialized to zero, for hidden state and cell state of LSTM\n",
        "    weight = next(self.parameters()).data\n",
        "    \n",
        "    if (TRAIN_ON_GPU):\n",
        "      hidden = (xavier_uniform_(weight.new(self.num_directions*N_LAYERS, batch_size, HIDDEN_DIM)).cuda(),\n",
        "                xavier_uniform_(weight.new(self.num_directions*N_LAYERS, batch_size, HIDDEN_DIM)).cuda())\n",
        "    else:\n",
        "      hidden = (xavier_uniform_(weight.new(self.num_directions*N_LAYERS, batch_size, HIDDEN_DIM)),\n",
        "                xavier_uniform_(weight.new(self.num_directions*N_LAYERS, batch_size, HIDDEN_DIM)))\n",
        "    return hidden\n",
        "\n",
        "  def forward(self, X_batch, hidden):\n",
        "    emb = self.emb_layer(X_batch)\n",
        "    output, hidden = self.lstm(emb, hidden)\n",
        "    output = self.fc(output[:, -1])\n",
        "    output = self.softmax(output)\n",
        "    return output, hidden"
      ],
      "metadata": {
        "id": "8iy7hmxYT0tC"
      },
      "id": "8iy7hmxYT0tC",
      "execution_count": 114,
      "outputs": []
    },
    {
      "cell_type": "code",
      "source": [
        "lstm_classifier = LSTMClassifier()\n",
        "\n",
        "lstm_classifier"
      ],
      "metadata": {
        "id": "hP2BOReUT0h3",
        "outputId": "2ea34856-22d8-48f1-8587-be4d28d72fa7",
        "colab": {
          "base_uri": "https://localhost:8080/"
        }
      },
      "id": "hP2BOReUT0h3",
      "execution_count": 115,
      "outputs": [
        {
          "output_type": "execute_result",
          "data": {
            "text/plain": [
              "LSTMClassifier(\n",
              "  (emb_layer): Embedding(44177, 50)\n",
              "  (lstm): LSTM(50, 75, num_layers=3, batch_first=True, dropout=0.5, bidirectional=True)\n",
              "  (fc): Linear(in_features=150, out_features=2, bias=True)\n",
              "  (softmax): LogSoftmax(dim=1)\n",
              ")"
            ]
          },
          "metadata": {},
          "execution_count": 115
        }
      ]
    },
    {
      "cell_type": "code",
      "source": [
        "for layer in lstm_classifier.children():\n",
        "  print(f'Layer: {layer}')\n",
        "  print('Parameters: ')\n",
        "  for param in layer.parameters():\n",
        "    print(param.shape)\n",
        "  print()"
      ],
      "metadata": {
        "id": "ndW6tjWVWxAV",
        "outputId": "266b891f-a390-4aeb-83ce-7b381452ae7e",
        "colab": {
          "base_uri": "https://localhost:8080/"
        }
      },
      "id": "ndW6tjWVWxAV",
      "execution_count": 116,
      "outputs": [
        {
          "output_type": "stream",
          "name": "stdout",
          "text": [
            "Layer: Embedding(44177, 50)\n",
            "Parameters: \n",
            "torch.Size([44177, 50])\n",
            "\n",
            "Layer: LSTM(50, 75, num_layers=3, batch_first=True, dropout=0.5, bidirectional=True)\n",
            "Parameters: \n",
            "torch.Size([300, 50])\n",
            "torch.Size([300, 75])\n",
            "torch.Size([300])\n",
            "torch.Size([300])\n",
            "torch.Size([300, 50])\n",
            "torch.Size([300, 75])\n",
            "torch.Size([300])\n",
            "torch.Size([300])\n",
            "torch.Size([300, 150])\n",
            "torch.Size([300, 75])\n",
            "torch.Size([300])\n",
            "torch.Size([300])\n",
            "torch.Size([300, 150])\n",
            "torch.Size([300, 75])\n",
            "torch.Size([300])\n",
            "torch.Size([300])\n",
            "torch.Size([300, 150])\n",
            "torch.Size([300, 75])\n",
            "torch.Size([300])\n",
            "torch.Size([300])\n",
            "torch.Size([300, 150])\n",
            "torch.Size([300, 75])\n",
            "torch.Size([300])\n",
            "torch.Size([300])\n",
            "\n",
            "Layer: Linear(in_features=150, out_features=2, bias=True)\n",
            "Parameters: \n",
            "torch.Size([2, 150])\n",
            "torch.Size([2])\n",
            "\n",
            "Layer: LogSoftmax(dim=1)\n",
            "Parameters: \n",
            "\n"
          ]
        }
      ]
    },
    {
      "cell_type": "code",
      "source": [
        "def CalcValLossAndAccuracy(model, loss_fn, val_loader):\n",
        "  with torch.no_grad():\n",
        "    Y_shuffled, Y_preds, losses = [], [], []\n",
        "    for X, Y in val_loader:\n",
        "\n",
        "      # initialise hidden state\n",
        "      h = model.init_hidden(X.shape[0])\n",
        "\n",
        "      preds, h = model(X, h)\n",
        "      loss = loss_fn(preds, Y)\n",
        "      losses.append(loss.item())\n",
        "\n",
        "      Y_shuffled.append(Y)\n",
        "      Y_preds.append(preds.argmax(dim=-1))\n",
        "\n",
        "    Y_shuffled = torch.cat(Y_shuffled)\n",
        "    Y_preds = torch.cat(Y_preds)\n",
        "\n",
        "    valid_loss = torch.tensor(losses).cpu().mean()\n",
        "    valid_acc = accuracy_score(Y_shuffled.cpu().detach().numpy(), Y_preds.cpu().detach().numpy())\n",
        "\n",
        "    print(f'Valid Loss: {valid_loss:.3f}')\n",
        "    print(f'Valid Acc : {valid_acc:.3f}')\n",
        "\n",
        "    return valid_loss, valid_acc\n",
        "\n",
        "\n",
        "def TrainModel(model, loss_fn, optimizer, train_loader, val_loader, device, epochs=10):\n",
        "  train_losses, val_losses, val_accs = [], [], []\n",
        "  for i in range(1, epochs+1):\n",
        "    losses = []\n",
        "    for X, Y in tqdm(train_loader):\n",
        "      X.to(device)\n",
        "      Y.to(device)\n",
        "      model.to(device)\n",
        "\n",
        "    #   initialise hidden state\n",
        "      h = model.init_hidden(X.shape[0])\n",
        "\n",
        "      Y_preds, h = model(X, h)\n",
        "\n",
        "      loss = loss_fn(Y_preds, Y)\n",
        "      losses.append(loss.item())\n",
        "\n",
        "      optimizer.zero_grad()\n",
        "\n",
        "      loss.backward()\n",
        "      optimizer.step()\n",
        "\n",
        "    train_loss = torch.tensor(losses).mean()\n",
        "    print(f'Train Loss: {train_loss:.3f}')\n",
        "    valid_loss, valid_acc = CalcValLossAndAccuracy(model, loss_fn, val_loader)\n",
        "\n",
        "    # save the best model\n",
        "    # save_best_model(valid_loss, i, model, optimizer, loss_fn, path)\n",
        "\n",
        "    # append losses and accuracy to lists\n",
        "    train_losses.append(train_loss)\n",
        "    val_losses.append(valid_loss)\n",
        "    val_accs.append(valid_acc)\n",
        "\n",
        "  # save the trained model weights for a final time\n",
        "#   save_model(i, model, optimizer, loss_fn, path)\n",
        "  # save the loss and accuracy plots\n",
        "#   save_plots(val_accs, train_losses, val_losses, path)"
      ],
      "metadata": {
        "id": "K3-7jMFQWzX8"
      },
      "id": "K3-7jMFQWzX8",
      "execution_count": 117,
      "outputs": []
    },
    {
      "cell_type": "code",
      "source": [
        "OPT     = Adam(lstm_classifier.parameters(), lr=LR, weight_decay=5e-5)\n",
        "LOSS_FN = nn.CrossEntropyLoss()\n",
        "MODEL   = lstm_classifier\n",
        "\n",
        "TrainModel(model=MODEL, loss_fn=LOSS_FN, optimizer=OPT, train_loader=train_loader, val_loader=val_loader, device=device, epochs=EPOCHS)"
      ],
      "metadata": {
        "id": "jZYRjykMXS_b",
        "outputId": "958479a2-5724-483e-83e7-b68a72b0cd2f",
        "colab": {
          "base_uri": "https://localhost:8080/",
          "height": 437,
          "referenced_widgets": [
            "184b2c235b964f1e88e18d0ce00bb13a",
            "847c2f49061f468888f3824bf0fa04aa",
            "70c418de48c34bed8c7d6654654453d0",
            "d32ec5734a1e4e7abe13663aa325121d",
            "1332b35bc17e4ca8aed318d9392f8840",
            "a49feb2961bc437089b9518b3e448d59",
            "a6df7201363b4a53a3a5c3e280c82fca",
            "45c5a8d9b1c641c19995a9a1c264467d",
            "ef175000b33c4db9ae2c89e3d23ef377",
            "4b710ef1aa03472dbb75481eb990bc53",
            "ac0a6e3763634d1daf65db139cf384ba",
            "2f9493db7a504f43ab73f43175f52a5e",
            "30bf225426714091a44ff89a117a4103",
            "91de9c4de9d746568de0c672ebb2ec41",
            "6a9c23a382d34e22ba5b291b9867dbc5",
            "87b2629542d54228b45f8534a9d1096c",
            "7550ff91303944edb8653f3f61303113",
            "e260cc69e01648a189fa52a75878075f",
            "bd204e9b6a60440d9026b4ca1e56024a",
            "32b508c8bea84b7e9b7bfc46469865a0",
            "10884aad8c3947d2b77a21043def9078",
            "e5ec819f041e4fc09818a82f5bbf531c",
            "47b4385d7c2d4be7b04843d4af27bb8c",
            "297b0502e5004ccbb9945628ef2c656a",
            "d8a614e4305746079a48da00380e219d",
            "72d6dd332c8c41e1b17225a8a0f97354",
            "5dcdf2d0a8264c9f97d41f7e2368860d",
            "29c85c8cc8194105b69a986d010e39d3",
            "b483bb36de164df180a6eabe4c3b4d59",
            "1e6933938f124d2e805852c578eac4fc",
            "ced453d7acbf466d865d4a9162f2a02c",
            "6800affefcde4068b15bcfcab1e221a4",
            "b0233896603a4ee491c71ac7624d5006",
            "b86a37ac330f4ca79739c2fcacc448b9",
            "e99bfd936b6943ae921681ea3d37cab2",
            "66a0e7de2e684e15aba450e77a6bc6a8",
            "4ebbf29b5cee4622959a0eb6e28a5f44",
            "263fb9d22727499ea458d56539006da5",
            "30b0e488f2594472ad7a35c524157f56",
            "a26f347299f74d079166d7e48426e983",
            "49a64c1687304bb783c2998b7ee06fdf",
            "fe697ead75084cfab77cab8faa86f741",
            "5d685420430f49bdbeecedb0e45c8375",
            "22061443dfcd4c46a2f2c1bd92aa329a",
            "504c55c6beb94031b2e8eb6f462fc48e",
            "3d300980888d43ae88d5def31e7385a8",
            "e56e860cc554401ea115d8cdb756b212",
            "1cbcfe3766414b6680fcdcb70cb9143e",
            "8c618a0357a74eb799b80e0d72bdcee9",
            "17f880bf60c2424393166b4c6fca8675",
            "1e233f3ae1ca4e1c8453d5ca7885054c",
            "90e7f1ee371844f58b0a5b023ed5cb27",
            "bcc3771cc9ef413f935957ef1ec4eff8",
            "e93eeb1fb5f64bfa993f3ce8db8e6bf2",
            "1042ef05c08441e995703fc18388551f"
          ]
        }
      },
      "id": "jZYRjykMXS_b",
      "execution_count": 118,
      "outputs": [
        {
          "output_type": "display_data",
          "data": {
            "text/plain": [
              "  0%|          | 0/51 [00:00<?, ?it/s]"
            ],
            "application/vnd.jupyter.widget-view+json": {
              "version_major": 2,
              "version_minor": 0,
              "model_id": "184b2c235b964f1e88e18d0ce00bb13a"
            }
          },
          "metadata": {}
        },
        {
          "output_type": "stream",
          "name": "stdout",
          "text": [
            "Train Loss: 0.492\n",
            "Valid Loss: 0.350\n",
            "Valid Acc : 0.864\n"
          ]
        },
        {
          "output_type": "display_data",
          "data": {
            "text/plain": [
              "  0%|          | 0/51 [00:00<?, ?it/s]"
            ],
            "application/vnd.jupyter.widget-view+json": {
              "version_major": 2,
              "version_minor": 0,
              "model_id": "2f9493db7a504f43ab73f43175f52a5e"
            }
          },
          "metadata": {}
        },
        {
          "output_type": "stream",
          "name": "stdout",
          "text": [
            "Train Loss: 0.257\n",
            "Valid Loss: 0.256\n",
            "Valid Acc : 0.899\n"
          ]
        },
        {
          "output_type": "display_data",
          "data": {
            "text/plain": [
              "  0%|          | 0/51 [00:00<?, ?it/s]"
            ],
            "application/vnd.jupyter.widget-view+json": {
              "version_major": 2,
              "version_minor": 0,
              "model_id": "47b4385d7c2d4be7b04843d4af27bb8c"
            }
          },
          "metadata": {}
        },
        {
          "output_type": "stream",
          "name": "stdout",
          "text": [
            "Train Loss: 0.202\n",
            "Valid Loss: 0.220\n",
            "Valid Acc : 0.912\n"
          ]
        },
        {
          "output_type": "display_data",
          "data": {
            "text/plain": [
              "  0%|          | 0/51 [00:00<?, ?it/s]"
            ],
            "application/vnd.jupyter.widget-view+json": {
              "version_major": 2,
              "version_minor": 0,
              "model_id": "b86a37ac330f4ca79739c2fcacc448b9"
            }
          },
          "metadata": {}
        },
        {
          "output_type": "stream",
          "name": "stdout",
          "text": [
            "Train Loss: 0.164\n",
            "Valid Loss: 0.217\n",
            "Valid Acc : 0.915\n"
          ]
        },
        {
          "output_type": "display_data",
          "data": {
            "text/plain": [
              "  0%|          | 0/51 [00:00<?, ?it/s]"
            ],
            "application/vnd.jupyter.widget-view+json": {
              "version_major": 2,
              "version_minor": 0,
              "model_id": "504c55c6beb94031b2e8eb6f462fc48e"
            }
          },
          "metadata": {}
        },
        {
          "output_type": "stream",
          "name": "stdout",
          "text": [
            "Train Loss: 0.142\n",
            "Valid Loss: 0.202\n",
            "Valid Acc : 0.922\n"
          ]
        }
      ]
    },
    {
      "cell_type": "code",
      "source": [
        "MODEL.eval()\n",
        "\n",
        "def MakePredictions(model, loader, device):\n",
        "  Y_shuffled, Y_preds= [], []\n",
        "  for X, Y in loader:\n",
        "    X.to(device)\n",
        "    Y.to(device)\n",
        "    # initialize hidden state\n",
        "    h = model.init_hidden(X.shape[0])\n",
        "    preds, h = model(X, h)\n",
        "    Y_preds.append(preds)\n",
        "    Y_shuffled.append(Y)\n",
        "  gc.collect()\n",
        "  Y_preds, Y_shuffled = torch.cat(Y_preds), torch.cat(Y_shuffled)\n",
        "\n",
        "  return Y_shuffled.cpu().detach().numpy(), F.softmax(Y_preds, dim=-1).argmax(dim=-1)\n",
        "\n",
        "Y_actual, Y_preds = MakePredictions(MODEL, test_loader, device)\n",
        "Y_actual, Y_preds = torch.tensor(Y_actual).cpu(), torch.tensor(Y_preds).cpu()"
      ],
      "metadata": {
        "id": "LeiIhT_sFRIT",
        "outputId": "c04a4921-20b2-423a-88d1-22587c9b67e1",
        "colab": {
          "base_uri": "https://localhost:8080/"
        }
      },
      "id": "LeiIhT_sFRIT",
      "execution_count": 121,
      "outputs": [
        {
          "output_type": "stream",
          "name": "stderr",
          "text": [
            "<ipython-input-121-332cb8dcc577>:19: UserWarning: To copy construct from a tensor, it is recommended to use sourceTensor.clone().detach() or sourceTensor.clone().detach().requires_grad_(True), rather than torch.tensor(sourceTensor).\n",
            "  Y_actual, Y_preds = torch.tensor(Y_actual).cpu(), torch.tensor(Y_preds).cpu()\n"
          ]
        }
      ]
    },
    {
      "cell_type": "code",
      "source": [
        "target_classes = ['fake', 'real']\n",
        "print(f'Test Accuracy: {accuracy_score(Y_actual, Y_preds)}')\n",
        "print('\\nClassification report: ')\n",
        "print(classification_report(Y_actual, Y_preds, target_names=target_classes))\n",
        "print('\\nConfusion Matrix: ')\n",
        "print(confusion_matrix(Y_actual, Y_preds))"
      ],
      "metadata": {
        "id": "kKSwmgeLFnzL",
        "outputId": "3cfac02f-fd56-47df-bfed-eff1c6dc1829",
        "colab": {
          "base_uri": "https://localhost:8080/"
        }
      },
      "id": "kKSwmgeLFnzL",
      "execution_count": 123,
      "outputs": [
        {
          "output_type": "stream",
          "name": "stdout",
          "text": [
            "Test Accuracy: 0.9256360078277887\n",
            "\n",
            "Classification report: \n",
            "              precision    recall  f1-score   support\n",
            "\n",
            "        fake       0.93      0.92      0.92      5324\n",
            "        real       0.92      0.93      0.93      5407\n",
            "\n",
            "    accuracy                           0.93     10731\n",
            "   macro avg       0.93      0.93      0.93     10731\n",
            "weighted avg       0.93      0.93      0.93     10731\n",
            "\n",
            "\n",
            "Confusion Matrix: \n",
            "[[4908  416]\n",
            " [ 382 5025]]\n"
          ]
        }
      ]
    },
    {
      "cell_type": "markdown",
      "source": [
        "## Transformer"
      ],
      "metadata": {
        "id": "WnTr0kLetI7s"
      },
      "id": "WnTr0kLetI7s"
    },
    {
      "cell_type": "code",
      "source": [
        "# PARAMETERS\n",
        "MAX_WORDS  = 40\n",
        "BATCH_SIZE = 1024\n",
        "EPOCHS     = 15\n",
        "LR         = 1e-2\n",
        "# PATH       = Path('checkpoints_simple_transformer')\n",
        "\n",
        "EMBED_LEN  = 50\n",
        "HEADS      = 1\n",
        "DEPTH      = 6\n",
        "\n",
        "# PATH.mkdir(exist_ok=True)"
      ],
      "metadata": {
        "id": "MHorcrrJtZ-C"
      },
      "id": "MHorcrrJtZ-C",
      "execution_count": 132,
      "outputs": []
    },
    {
      "cell_type": "code",
      "source": [
        "df_ = df[['title', 'label']]\n",
        "data_train, data_test = train_test_split(df_, test_size=0.15, random_state=42, shuffle=True)\n",
        "\n",
        "print('\\t\\t Shape')\n",
        "print(f'Train:      {data_train.shape}')\n",
        "print(f'Test:       {data_test.shape}')\n",
        "print()\n",
        "print('\\t\\t\\treal   | fake')\n",
        "print(f\"Train:      {sum(data_train['label']==1)/len(data_train)} | {sum(data_train['label']==0)/len(data_train)}\")\n",
        "print(f\"Test:       {sum(data_test['label']==1)/len(data_test)} | {sum(data_test['label']==1)/len(data_test)}\")\n",
        "\n",
        "data_train, data_val = train_test_split(data_train, test_size=0.15, random_state=42, shuffle=True)\n",
        "\n",
        "print('\\t\\t Shape')\n",
        "print(f'Train:      {data_train.shape}')\n",
        "print(f'Validation:       {data_val.shape}')\n",
        "print()\n",
        "print('\\t\\t\\treal   | fake')\n",
        "print(f\"Train:      {sum(data_train['label']==1)/len(data_train)} | {sum(data_train['label']==0)/len(data_train)}\")\n",
        "print(f\"Validation:       {sum(data_val['label']==1)/len(data_val)} | {sum(data_val['label']==1)/len(data_val)}\")"
      ],
      "metadata": {
        "id": "H-tjOy4-t7Js",
        "outputId": "b06a331d-c27c-4ca2-cf64-fb380fec7598",
        "colab": {
          "base_uri": "https://localhost:8080/"
        }
      },
      "id": "H-tjOy4-t7Js",
      "execution_count": 133,
      "outputs": [
        {
          "output_type": "stream",
          "name": "stdout",
          "text": [
            "\t\t Shape\n",
            "Train:      (60806, 2)\n",
            "Test:       (10731, 2)\n",
            "\n",
            "\t\t\treal   | fake\n",
            "Train:      0.5114955760944644 | 0.4885044239055356\n",
            "Test:       0.5038673003447954 | 0.5038673003447954\n",
            "\t\t Shape\n",
            "Train:      (51685, 2)\n",
            "Validation:       (9121, 2)\n",
            "\n",
            "\t\t\treal   | fake\n",
            "Train:      0.5119473735126245 | 0.48805262648737546\n",
            "Validation:       0.5089354237473961 | 0.5089354237473961\n"
          ]
        }
      ]
    },
    {
      "cell_type": "code",
      "source": [
        "class ClsTransformer(nn.Module):\n",
        "    \"\"\"\n",
        "    Transformer for classifying sequences\n",
        "    \"\"\"\n",
        "\n",
        "    def __init__(self, emb, heads, depth, seq_length, num_tokens, num_classes, max_pool=True, dropout=0.0):\n",
        "        \"\"\"\n",
        "        :param emb: Embedding dimension\n",
        "        :param heads: nr. of attention heads\n",
        "        :param depth: Number of transformer blocks\n",
        "        :param seq_length: Expected maximum sequence length\n",
        "        :param num_tokens: Number of tokens (usually words) in the vocabulary\n",
        "        :param num_classes: Number of classes.\n",
        "        :param max_pool: If true, use global max pooling in the last layer. If false, use global\n",
        "                         average pooling.\n",
        "        \"\"\"\n",
        "        super().__init__()\n",
        "        self.num_tokens, self.max_pool = num_tokens, max_pool\n",
        "        self.token_embedding = nn.Embedding(num_embeddings=num_tokens, embedding_dim=emb)\n",
        "        self.pos_embedding = nn.Embedding(num_embeddings=seq_length, embedding_dim=emb)\n",
        "        self.unify_embeddings = nn.Linear(2 * emb, emb)\n",
        "\n",
        "        tblocks = []\n",
        "        for i in range(depth):\n",
        "            tblocks.append(\n",
        "                TransformerBlock(emb=emb, heads=heads, seq_length=seq_length, dropout=dropout))\n",
        "            \n",
        "        self.tblocks = nn.Sequential(*tblocks)\n",
        "        self.toprobs = nn.Linear(emb, num_classes)\n",
        "        self.do = nn.Dropout(dropout)\n",
        "\n",
        "    def forward(self, x):\n",
        "        \"\"\"\n",
        "        :param x: A batch by sequence length integer tensor of token indices.\n",
        "        :return: predicted log-probability vectors for each token based on the preceding tokens.\n",
        "        \"\"\"\n",
        "        tokens = self.token_embedding(x)\n",
        "        b, t, e = tokens.size()\n",
        "        positions = self.pos_embedding(torch.arange(t, device=device))[None, :, :].expand(b, t, e)\n",
        "        x = self.unify_embeddings(torch.cat((tokens, positions), dim=2).view(-1, 2 * e)).view(b, t, e)\n",
        "        x = self.do(x)\n",
        "        x = self.tblocks(x)\n",
        "        x = x.max(dim=1)[0] if self.max_pool else x.mean(dim=1) # pool over the time dimension\n",
        "        x = self.toprobs(x)\n",
        "        return F.log_softmax(x, dim=1)\n",
        "\n",
        "\n",
        "class SelfAttention(nn.Module):\n",
        "    def __init__(self, emb, heads=8):\n",
        "        \"\"\"\n",
        "        :param emb:\n",
        "        :param heads:\n",
        "        :param mask:\n",
        "        \"\"\"\n",
        "        super().__init__()\n",
        "\n",
        "        self.emb = emb\n",
        "        self.heads = heads\n",
        "\n",
        "        self.tokeys = nn.Linear(emb, emb * heads, bias=False)\n",
        "        self.toqueries = nn.Linear(emb, emb * heads, bias=False)\n",
        "        self.tovalues = nn.Linear(emb, emb * heads, bias=False)\n",
        "\n",
        "        self.unifyheads = nn.Linear(heads * emb, emb)\n",
        "\n",
        "    def forward(self, x):\n",
        "\n",
        "        b, t, e = x.size()\n",
        "        h = self.heads\n",
        "        assert e == self.emb, f'Input embedding dim ({e}) should match layer embedding dim ({self.emb})'\n",
        "\n",
        "        keys    = self.tokeys(x)   .view(b, t, h, e)\n",
        "        queries = self.toqueries(x).view(b, t, h, e)\n",
        "        values  = self.tovalues(x) .view(b, t, h, e)\n",
        "\n",
        "        # compute scaled dot-product self-attention\n",
        "\n",
        "        # - fold heads into the batch dimension\n",
        "        keys    = keys   .transpose(1, 2).contiguous().view(b * h, t, e)\n",
        "        queries = queries.transpose(1, 2).contiguous().view(b * h, t, e)\n",
        "        values  = values .transpose(1, 2).contiguous().view(b * h, t, e)\n",
        "\n",
        "        # - get dot product of queries and keys, and scale\n",
        "        dot = torch.bmm(queries, keys.transpose(1, 2))\n",
        "        dot = dot / math.sqrt(e) # dot contains b*h  t-by-t matrices with raw self-attention logits\n",
        "\n",
        "        assert dot.size() == (b*h, t, t), f'Matrix has size {dot.size()}, expected {(b*h, t, t)}.'\n",
        "\n",
        "        dot = F.softmax(dot, dim=2) # dot now has row-wise self-attention probabilities\n",
        "\n",
        "        # apply the self attention to the values\n",
        "        out = torch.bmm(dot, values).view(b, h, t, e)\n",
        "\n",
        "        # swap h, t back, unify heads\n",
        "        out = out.transpose(1, 2).contiguous().view(b, t, h * e)\n",
        "\n",
        "        return self.unifyheads(out)\n",
        "\n",
        "\n",
        "class TransformerBlock(nn.Module):\n",
        "    def __init__(self, emb, heads, seq_length, ff_hidden_mult=5, dropout=0.4):\n",
        "        super().__init__()\n",
        "        self.attention = SelfAttention(emb, heads=heads)\n",
        "        self.norm1 = nn.LayerNorm(emb)\n",
        "        self.norm2 = nn.LayerNorm(emb)\n",
        "        self.ff = nn.Sequential(\n",
        "            nn.Linear(emb, ff_hidden_mult * emb),\n",
        "            nn.ReLU(),\n",
        "            nn.Linear(ff_hidden_mult * emb, emb),\n",
        "            nn.Linear(emb, ff_hidden_mult * emb),\n",
        "            nn.ReLU(),\n",
        "            nn.Linear(ff_hidden_mult * emb, emb),\n",
        "        )\n",
        "        self.do = nn.Dropout(dropout)\n",
        "\n",
        "    def forward(self, x):\n",
        "        attended = self.attention(x)\n",
        "        x = self.norm1(attended + x)\n",
        "        x = self.do(x)\n",
        "        feedforward = self.ff(x)\n",
        "        x = self.norm2(feedforward + x)\n",
        "        x = self.do(x)\n",
        "        return x       "
      ],
      "metadata": {
        "id": "Ll1xAOWhtZ7a"
      },
      "id": "Ll1xAOWhtZ7a",
      "execution_count": 134,
      "outputs": []
    },
    {
      "cell_type": "code",
      "source": [
        "MODEL   = ClsTransformer(\n",
        "                emb=EMBED_LEN,\n",
        "                heads=HEADS,\n",
        "                depth=DEPTH,\n",
        "                seq_length=MAX_WORDS, \n",
        "                num_tokens=len(vocab),\n",
        "                num_classes=2\n",
        "            )\n",
        "OPT     = AdamW(MODEL.parameters(), lr=LR, weight_decay=5e-2)\n",
        "LR_SCHD = LinearLR(OPT, total_iters=(EPOCHS * len(train_loader)))\n",
        "LOSS_FN = nn.CrossEntropyLoss()\n",
        "\n",
        "for epoch in range(1, EPOCHS + 1):\n",
        "    # Training\n",
        "    train_losses, val_losses, val_accs = [], [], []\n",
        "    MODEL.train()\n",
        "    for X, Y in tqdm(train_loader):\n",
        "        X, Y, MODEL = X.to(device), Y.to(device), MODEL.to(device)\n",
        "\n",
        "        Y_preds = MODEL(X)\n",
        "\n",
        "        loss = LOSS_FN(Y_preds, Y)\n",
        "        train_losses.append(loss)\n",
        "\n",
        "        OPT.zero_grad()\n",
        "\n",
        "        loss.backward()\n",
        "        OPT.step()\n",
        "    train_loss = torch.tensor(train_losses).mean()\n",
        "    print(f'Train Loss: {train_loss:.3f}')\n",
        "\n",
        "    # Evaluation\n",
        "    MODEL.eval()\n",
        "    with torch.no_grad():\n",
        "        Y_shuffled, Y_preds, losses = [], [], []\n",
        "        for X, Y in tqdm(val_loader):\n",
        "            preds = MODEL(X)\n",
        "            loss = LOSS_FN(preds, Y)\n",
        "            losses.append(loss)\n",
        "\n",
        "            Y_shuffled.append(Y)\n",
        "            Y_preds.append(preds.argmax(dim=-1))\n",
        "\n",
        "        Y_shuffled = torch.cat(Y_shuffled)\n",
        "        Y_preds    = torch.cat(Y_preds)\n",
        "\n",
        "        valid_loss = torch.tensor(losses).to(device).mean()\n",
        "        valid_acc  = accuracy_score(\n",
        "                        Y_shuffled.cpu().detach().numpy(),\n",
        "                        Y_preds.cpu().detach().numpy()\n",
        "                        )\n",
        "        print(f'Valid Loss: {valid_loss:.3f}')\n",
        "        print(f'Epoch: {epoch}, Valid Acc : {valid_acc:.3f}')\n",
        "    \n",
        "    LR_SCHD.step()\n",
        "\n",
        "    train_losses.append(train_loss)\n",
        "    val_losses.append(valid_loss)\n",
        "    val_accs.append(valid_acc)"
      ],
      "metadata": {
        "id": "HP1F2-2GtZ0Q",
        "outputId": "84c03d44-2d38-47c7-af0f-971d23647ca1",
        "colab": {
          "base_uri": "https://localhost:8080/",
          "height": 49,
          "referenced_widgets": [
            "56f3129831f94e778f6bae755b00566c",
            "a70a6d141c724d389a6fd75612de05e6",
            "afee9b7280da4004ba7c9cb471beb3dc",
            "0e945ee657d44e218dd8db2e0328361f",
            "c641ab96e62649f9b9ea7b9260f379b7",
            "cb1406149e4a45838cce86c620ead4a5",
            "190c8ed0059341e08d1a30d7c6ff4d22",
            "33fc9b87eb4a4634b2d9c0e16c7b0138",
            "8180df51d5f843db8e060994b3d511f8",
            "1678477312114c5cb8713ae13020df64",
            "c4459fc4ef674a7bb5ff63fbb809b2d8"
          ]
        }
      },
      "id": "HP1F2-2GtZ0Q",
      "execution_count": null,
      "outputs": [
        {
          "output_type": "display_data",
          "data": {
            "text/plain": [
              "  0%|          | 0/51 [00:00<?, ?it/s]"
            ],
            "application/vnd.jupyter.widget-view+json": {
              "version_major": 2,
              "version_minor": 0,
              "model_id": "56f3129831f94e778f6bae755b00566c"
            }
          },
          "metadata": {}
        }
      ]
    },
    {
      "cell_type": "code",
      "source": [],
      "metadata": {
        "id": "LRZCFvO1LXeu"
      },
      "id": "LRZCFvO1LXeu",
      "execution_count": null,
      "outputs": []
    },
    {
      "cell_type": "markdown",
      "id": "3ceb2af0-1095-400f-9d4f-d2b4940a68b1",
      "metadata": {
        "id": "3ceb2af0-1095-400f-9d4f-d2b4940a68b1"
      },
      "source": [
        "# Splitting data"
      ]
    },
    {
      "cell_type": "code",
      "execution_count": null,
      "id": "fb3a0d08-835c-47f5-bb0f-81124d9737ef",
      "metadata": {
        "execution": {
          "iopub.execute_input": "2023-04-05T21:58:56.282708Z",
          "iopub.status.busy": "2023-04-05T21:58:56.281708Z",
          "iopub.status.idle": "2023-04-05T21:58:56.301710Z",
          "shell.execute_reply": "2023-04-05T21:58:56.301710Z",
          "shell.execute_reply.started": "2023-04-05T21:58:56.281708Z"
        },
        "id": "fb3a0d08-835c-47f5-bb0f-81124d9737ef",
        "tags": []
      },
      "outputs": [],
      "source": [
        "df_X, df_y = df.drop(columns=['label']), df['label']"
      ]
    },
    {
      "cell_type": "code",
      "execution_count": null,
      "id": "b6715bbb-808c-4c35-94da-954dbd257be5",
      "metadata": {
        "execution": {
          "iopub.execute_input": "2023-04-05T21:58:56.475828Z",
          "iopub.status.busy": "2023-04-05T21:58:56.475828Z",
          "iopub.status.idle": "2023-04-05T21:58:56.522827Z",
          "shell.execute_reply": "2023-04-05T21:58:56.522827Z",
          "shell.execute_reply.started": "2023-04-05T21:58:56.475828Z"
        },
        "id": "b6715bbb-808c-4c35-94da-954dbd257be5",
        "tags": []
      },
      "outputs": [],
      "source": [
        "X_train, X_test, y_train, y_test = train_test_split(df_X, df_y, test_size=0.1, random_state=42, shuffle=True)\n",
        "# X_train, X_val, y_train, y_val = train_test_split(X_train, y_train, test_size=0.2, random_state=42, shuffle=True)"
      ]
    },
    {
      "cell_type": "code",
      "execution_count": null,
      "id": "05803b43-b74f-4c62-8296-8ad035f7799c",
      "metadata": {
        "colab": {
          "base_uri": "https://localhost:8080/"
        },
        "execution": {
          "iopub.execute_input": "2023-04-05T21:58:56.669698Z",
          "iopub.status.busy": "2023-04-05T21:58:56.669698Z",
          "iopub.status.idle": "2023-04-05T21:58:56.677698Z",
          "shell.execute_reply": "2023-04-05T21:58:56.677698Z",
          "shell.execute_reply.started": "2023-04-05T21:58:56.669698Z"
        },
        "id": "05803b43-b74f-4c62-8296-8ad035f7799c",
        "outputId": "6e7b0012-baa7-492a-d2f9-2a2009f676d4",
        "tags": []
      },
      "outputs": [
        {
          "name": "stdout",
          "output_type": "stream",
          "text": [
            "Train:      (51506, 4) | (51506,)\n",
            "Validation: (12877, 4) | (12877,)\n",
            "Test:       (7154, 4)  | (7154,)\n"
          ]
        }
      ],
      "source": [
        "print(f'Train:      {X_train.shape} | {y_train.shape}')\n",
        "print(f'Validation: {X_val.shape} | {y_val.shape}')\n",
        "print(f'Test:       {X_test.shape}  | {y_test.shape}')"
      ]
    },
    {
      "cell_type": "code",
      "execution_count": null,
      "id": "4a7cd3c4-686d-4f56-9710-9c591db96089",
      "metadata": {
        "colab": {
          "base_uri": "https://localhost:8080/"
        },
        "execution": {
          "iopub.execute_input": "2023-04-05T21:58:56.842212Z",
          "iopub.status.busy": "2023-04-05T21:58:56.842212Z",
          "iopub.status.idle": "2023-04-05T21:58:56.851211Z",
          "shell.execute_reply": "2023-04-05T21:58:56.851211Z",
          "shell.execute_reply.started": "2023-04-05T21:58:56.842212Z"
        },
        "id": "4a7cd3c4-686d-4f56-9710-9c591db96089",
        "outputId": "aa5467bf-0eda-483a-a602-e1aeed0f2dbf",
        "tags": []
      },
      "outputs": [
        {
          "name": "stdout",
          "output_type": "stream",
          "text": [
            "\t\t\treal   | fake\n",
            "Train:      0.5110860870578185 | 0.4889139129421815\n",
            "Validation: 0.5119981362118506 | 0.5119981362118506\n",
            "Test:       0.5020967291026    | 0.5020967291026\n"
          ]
        }
      ],
      "source": [
        "print('\\t\\t\\treal   | fake')\n",
        "print(f'Train:      {sum(y_train==1)/len(y_train)} | {sum(y_train==0)/len(y_train)}')\n",
        "print(f'Validation: {sum(y_val==1)/len(y_val)} | {sum(y_val==1)/len(y_val)}')\n",
        "print(f'Test:       {sum(y_test==1)/len(y_test)}    | {sum(y_test==1)/len(y_test)}')"
      ]
    },
    {
      "cell_type": "code",
      "execution_count": null,
      "id": "69782130-2852-4e11-a195-7d3a563622c8",
      "metadata": {
        "execution": {
          "iopub.execute_input": "2023-04-05T21:58:58.161704Z",
          "iopub.status.busy": "2023-04-05T21:58:58.161704Z",
          "iopub.status.idle": "2023-04-05T21:58:58.167703Z",
          "shell.execute_reply": "2023-04-05T21:58:58.167703Z",
          "shell.execute_reply.started": "2023-04-05T21:58:58.161704Z"
        },
        "id": "69782130-2852-4e11-a195-7d3a563622c8",
        "tags": []
      },
      "outputs": [],
      "source": [
        "def tfidf_vectorize(data):\n",
        "    new_data = data[['text2', 'title2']]\n",
        "    vectorizer = TfidfVectorizer()\n",
        "    text2 = vectorizer.fit_transform(new_data['text2'])\n",
        "    title2 = vectorizer.fit_transform(new_data['title2'])\n",
        "    return hstack([text2, title2])\n",
        "\n",
        "def tfidf_vectorize_all(train, val, test):\n",
        "    new_train = train[['text2', 'title2']]\n",
        "    new_val = val[['text2', 'title2']]\n",
        "    new_test = test[['text2', 'title2']]\n",
        "    vectorizer_text = TfidfVectorizer()\n",
        "    vectorizer_title = TfidfVectorizer()\n",
        "    \n",
        "    train_text2 = vectorizer_text.fit_transform(new_train['text2'])\n",
        "    train_title2 = vectorizer_title.fit_transform(new_train['title2'])\n",
        "    \n",
        "    val_text2 = vectorizer_text.transform(new_val['text2'])\n",
        "    val_title2 = vectorizer_title.transform(new_val['title2'])\n",
        "    \n",
        "    test_text2 = vectorizer_text.transform(new_test['text2'])\n",
        "    test_title2 = vectorizer_title.transform(new_test['title2'])\n",
        "    \n",
        "    return (\n",
        "        hstack([train_text2, train_title2]),\n",
        "        hstack([val_text2, val_title2]),\n",
        "        hstack([test_text2, test_title2])\n",
        "    )"
      ]
    },
    {
      "cell_type": "code",
      "execution_count": null,
      "id": "6eae494f-5dd0-47c4-9826-63db3b0a528a",
      "metadata": {
        "execution": {
          "iopub.execute_input": "2023-04-05T21:59:00.061355Z",
          "iopub.status.busy": "2023-04-05T21:59:00.061355Z",
          "iopub.status.idle": "2023-04-05T21:59:15.310743Z",
          "shell.execute_reply": "2023-04-05T21:59:15.310743Z",
          "shell.execute_reply.started": "2023-04-05T21:59:00.061355Z"
        },
        "id": "6eae494f-5dd0-47c4-9826-63db3b0a528a",
        "outputId": "459c03cf-b5d5-4aa6-f456-9a4f3b2b8f9a",
        "tags": []
      },
      "outputs": [
        {
          "name": "stdout",
          "output_type": "stream",
          "text": [
            "Train:      (51506, 278717)\n",
            "Validation: (12877, 278717)\n",
            "Test:       (7154, 278717)\n"
          ]
        }
      ],
      "source": [
        "X_train, X_val, X_test = tfidf_vectorize_all(X_train, X_val, X_test)\n",
        "print(f'Train:      {X_train.shape}')\n",
        "print(f'Validation: {X_val.shape}')\n",
        "print(f'Test:       {X_test.shape}')"
      ]
    },
    {
      "cell_type": "code",
      "execution_count": null,
      "id": "25173e28-7108-4ecc-8bdb-30880404e481",
      "metadata": {
        "execution": {
          "iopub.execute_input": "2023-04-05T21:30:20.576708Z",
          "iopub.status.busy": "2023-04-05T21:30:20.576708Z",
          "iopub.status.idle": "2023-04-05T21:30:20.591704Z",
          "shell.execute_reply": "2023-04-05T21:30:20.591704Z",
          "shell.execute_reply.started": "2023-04-05T21:30:20.576708Z"
        },
        "id": "25173e28-7108-4ecc-8bdb-30880404e481",
        "tags": []
      },
      "outputs": [],
      "source": [
        "class CustomTfidfVectorizer(TfidfVectorizer):\n",
        "    def __init__(self):\n",
        "        super().__init__()\n",
        "\n",
        "    def fit_transform(self, X, y):\n",
        "        new_X = X[['text2', 'title2']]\n",
        "        vectorizer = TfidfVectorizer()\n",
        "        vectorized_text = super().fit_transform(new_X['text2'])\n",
        "        vectorized_title = super().fit_transform(new_X['title2'])\n",
        "        result = pd.DataFrame({'text2': np.array(vectorized_text),\n",
        "                               'title2': np.array(vectorized_title)})\n",
        "        return result"
      ]
    },
    {
      "cell_type": "code",
      "execution_count": null,
      "id": "cb0b710b-e691-416c-b192-7ccc7da70a3d",
      "metadata": {
        "execution": {
          "iopub.execute_input": "2023-04-05T20:39:46.751927Z",
          "iopub.status.busy": "2023-04-05T20:39:46.751927Z",
          "iopub.status.idle": "2023-04-05T20:39:46.762930Z",
          "shell.execute_reply": "2023-04-05T20:39:46.762930Z",
          "shell.execute_reply.started": "2023-04-05T20:39:46.751927Z"
        },
        "id": "cb0b710b-e691-416c-b192-7ccc7da70a3d",
        "outputId": "8b22ca3e-df9c-4db5-ce2e-794bfd86fb41",
        "tags": []
      },
      "outputs": [
        {
          "data": {
            "text/plain": [
              "array([[0., 0., 0., 0., 0., 0., 0., 0., 0., 0.],\n",
              "       [0., 0., 0., 0., 0., 0., 0., 0., 0., 0.],\n",
              "       [0., 0., 0., 0., 0., 0., 0., 0., 0., 0.],\n",
              "       [0., 0., 0., 0., 0., 0., 0., 0., 0., 0.],\n",
              "       [0., 0., 0., 0., 0., 0., 0., 0., 0., 0.],\n",
              "       [0., 0., 0., 0., 0., 0., 0., 0., 0., 0.],\n",
              "       [0., 0., 0., 0., 0., 0., 0., 0., 0., 0.],\n",
              "       [0., 0., 0., 0., 0., 0., 0., 0., 0., 0.],\n",
              "       [0., 0., 0., 0., 0., 0., 0., 0., 0., 0.],\n",
              "       [0., 0., 0., 0., 0., 0., 0., 0., 0., 0.]])"
            ]
          },
          "execution_count": 100,
          "metadata": {},
          "output_type": "execute_result"
        }
      ],
      "source": [
        "np.concatenate([np.zeros((10, 5)), np.zeros((10, 5))], axis=1)"
      ]
    },
    {
      "cell_type": "code",
      "execution_count": null,
      "id": "f5dc1107-cc52-4b93-874f-a36d62c51c06",
      "metadata": {
        "collapsed": true,
        "execution": {
          "iopub.execute_input": "2023-04-05T20:34:06.905701Z",
          "iopub.status.busy": "2023-04-05T20:34:06.904704Z",
          "iopub.status.idle": "2023-04-05T20:34:07.004640Z",
          "shell.execute_reply": "2023-04-05T20:34:07.003638Z",
          "shell.execute_reply.started": "2023-04-05T20:34:06.905701Z"
        },
        "id": "f5dc1107-cc52-4b93-874f-a36d62c51c06",
        "jupyter": {
          "outputs_hidden": true
        },
        "outputId": "400e60b1-b1fd-4e52-8b9a-b82644e89e1b",
        "tags": []
      },
      "outputs": [
        {
          "ename": "ValueError",
          "evalue": "If using all scalar values, you must pass an index",
          "output_type": "error",
          "traceback": [
            "\u001b[1;31m---------------------------------------------------------------------------\u001b[0m",
            "\u001b[1;31mValueError\u001b[0m                                Traceback (most recent call last)",
            "Cell \u001b[1;32mIn[91], line 8\u001b[0m\n\u001b[0;32m      1\u001b[0m pipe_svm \u001b[38;5;241m=\u001b[39m Pipeline(\n\u001b[0;32m      2\u001b[0m     [\n\u001b[0;32m      3\u001b[0m         (\u001b[38;5;124m'\u001b[39m\u001b[38;5;124mvectorizer\u001b[39m\u001b[38;5;124m'\u001b[39m, CustomTfidfVectorizer()),\n\u001b[0;32m      4\u001b[0m         (\u001b[38;5;124m'\u001b[39m\u001b[38;5;124mclassifier\u001b[39m\u001b[38;5;124m'\u001b[39m, SVC())\n\u001b[0;32m      5\u001b[0m     ]\n\u001b[0;32m      6\u001b[0m )\n\u001b[1;32m----> 8\u001b[0m \u001b[43mpipe_svm\u001b[49m\u001b[38;5;241;43m.\u001b[39;49m\u001b[43mfit\u001b[49m\u001b[43m(\u001b[49m\u001b[43mX_train\u001b[49m\u001b[43m[\u001b[49m\u001b[43m:\u001b[49m\u001b[38;5;241;43m100\u001b[39;49m\u001b[43m]\u001b[49m\u001b[43m,\u001b[49m\u001b[43m \u001b[49m\u001b[43my_train\u001b[49m\u001b[43m[\u001b[49m\u001b[43m:\u001b[49m\u001b[38;5;241;43m100\u001b[39;49m\u001b[43m]\u001b[49m\u001b[43m)\u001b[49m\n",
            "File \u001b[1;32mC:\\ProgramData\\Anaconda3\\envs\\pytorch_1\\lib\\site-packages\\sklearn\\pipeline.py:401\u001b[0m, in \u001b[0;36mPipeline.fit\u001b[1;34m(self, X, y, **fit_params)\u001b[0m\n\u001b[0;32m    375\u001b[0m \u001b[38;5;124;03m\"\"\"Fit the model.\u001b[39;00m\n\u001b[0;32m    376\u001b[0m \n\u001b[0;32m    377\u001b[0m \u001b[38;5;124;03mFit all the transformers one after the other and transform the\u001b[39;00m\n\u001b[1;32m   (...)\u001b[0m\n\u001b[0;32m    398\u001b[0m \u001b[38;5;124;03m    Pipeline with fitted steps.\u001b[39;00m\n\u001b[0;32m    399\u001b[0m \u001b[38;5;124;03m\"\"\"\u001b[39;00m\n\u001b[0;32m    400\u001b[0m fit_params_steps \u001b[38;5;241m=\u001b[39m \u001b[38;5;28mself\u001b[39m\u001b[38;5;241m.\u001b[39m_check_fit_params(\u001b[38;5;241m*\u001b[39m\u001b[38;5;241m*\u001b[39mfit_params)\n\u001b[1;32m--> 401\u001b[0m Xt \u001b[38;5;241m=\u001b[39m \u001b[38;5;28mself\u001b[39m\u001b[38;5;241m.\u001b[39m_fit(X, y, \u001b[38;5;241m*\u001b[39m\u001b[38;5;241m*\u001b[39mfit_params_steps)\n\u001b[0;32m    402\u001b[0m \u001b[38;5;28;01mwith\u001b[39;00m _print_elapsed_time(\u001b[38;5;124m\"\u001b[39m\u001b[38;5;124mPipeline\u001b[39m\u001b[38;5;124m\"\u001b[39m, \u001b[38;5;28mself\u001b[39m\u001b[38;5;241m.\u001b[39m_log_message(\u001b[38;5;28mlen\u001b[39m(\u001b[38;5;28mself\u001b[39m\u001b[38;5;241m.\u001b[39msteps) \u001b[38;5;241m-\u001b[39m \u001b[38;5;241m1\u001b[39m)):\n\u001b[0;32m    403\u001b[0m     \u001b[38;5;28;01mif\u001b[39;00m \u001b[38;5;28mself\u001b[39m\u001b[38;5;241m.\u001b[39m_final_estimator \u001b[38;5;241m!=\u001b[39m \u001b[38;5;124m\"\u001b[39m\u001b[38;5;124mpassthrough\u001b[39m\u001b[38;5;124m\"\u001b[39m:\n",
            "File \u001b[1;32mC:\\ProgramData\\Anaconda3\\envs\\pytorch_1\\lib\\site-packages\\sklearn\\pipeline.py:359\u001b[0m, in \u001b[0;36mPipeline._fit\u001b[1;34m(self, X, y, **fit_params_steps)\u001b[0m\n\u001b[0;32m    357\u001b[0m     cloned_transformer \u001b[38;5;241m=\u001b[39m clone(transformer)\n\u001b[0;32m    358\u001b[0m \u001b[38;5;66;03m# Fit or load from cache the current transformer\u001b[39;00m\n\u001b[1;32m--> 359\u001b[0m X, fitted_transformer \u001b[38;5;241m=\u001b[39m fit_transform_one_cached(\n\u001b[0;32m    360\u001b[0m     cloned_transformer,\n\u001b[0;32m    361\u001b[0m     X,\n\u001b[0;32m    362\u001b[0m     y,\n\u001b[0;32m    363\u001b[0m     \u001b[38;5;28;01mNone\u001b[39;00m,\n\u001b[0;32m    364\u001b[0m     message_clsname\u001b[38;5;241m=\u001b[39m\u001b[38;5;124m\"\u001b[39m\u001b[38;5;124mPipeline\u001b[39m\u001b[38;5;124m\"\u001b[39m,\n\u001b[0;32m    365\u001b[0m     message\u001b[38;5;241m=\u001b[39m\u001b[38;5;28mself\u001b[39m\u001b[38;5;241m.\u001b[39m_log_message(step_idx),\n\u001b[0;32m    366\u001b[0m     \u001b[38;5;241m*\u001b[39m\u001b[38;5;241m*\u001b[39mfit_params_steps[name],\n\u001b[0;32m    367\u001b[0m )\n\u001b[0;32m    368\u001b[0m \u001b[38;5;66;03m# Replace the transformer of the step with the fitted\u001b[39;00m\n\u001b[0;32m    369\u001b[0m \u001b[38;5;66;03m# transformer. This is necessary when loading the transformer\u001b[39;00m\n\u001b[0;32m    370\u001b[0m \u001b[38;5;66;03m# from the cache.\u001b[39;00m\n\u001b[0;32m    371\u001b[0m \u001b[38;5;28mself\u001b[39m\u001b[38;5;241m.\u001b[39msteps[step_idx] \u001b[38;5;241m=\u001b[39m (name, fitted_transformer)\n",
            "File \u001b[1;32mC:\\ProgramData\\Anaconda3\\envs\\pytorch_1\\lib\\site-packages\\joblib\\memory.py:349\u001b[0m, in \u001b[0;36mNotMemorizedFunc.__call__\u001b[1;34m(self, *args, **kwargs)\u001b[0m\n\u001b[0;32m    348\u001b[0m \u001b[38;5;28;01mdef\u001b[39;00m \u001b[38;5;21m__call__\u001b[39m(\u001b[38;5;28mself\u001b[39m, \u001b[38;5;241m*\u001b[39margs, \u001b[38;5;241m*\u001b[39m\u001b[38;5;241m*\u001b[39mkwargs):\n\u001b[1;32m--> 349\u001b[0m     \u001b[38;5;28;01mreturn\u001b[39;00m \u001b[38;5;28mself\u001b[39m\u001b[38;5;241m.\u001b[39mfunc(\u001b[38;5;241m*\u001b[39margs, \u001b[38;5;241m*\u001b[39m\u001b[38;5;241m*\u001b[39mkwargs)\n",
            "File \u001b[1;32mC:\\ProgramData\\Anaconda3\\envs\\pytorch_1\\lib\\site-packages\\sklearn\\pipeline.py:893\u001b[0m, in \u001b[0;36m_fit_transform_one\u001b[1;34m(transformer, X, y, weight, message_clsname, message, **fit_params)\u001b[0m\n\u001b[0;32m    891\u001b[0m \u001b[38;5;28;01mwith\u001b[39;00m _print_elapsed_time(message_clsname, message):\n\u001b[0;32m    892\u001b[0m     \u001b[38;5;28;01mif\u001b[39;00m \u001b[38;5;28mhasattr\u001b[39m(transformer, \u001b[38;5;124m\"\u001b[39m\u001b[38;5;124mfit_transform\u001b[39m\u001b[38;5;124m\"\u001b[39m):\n\u001b[1;32m--> 893\u001b[0m         res \u001b[38;5;241m=\u001b[39m transformer\u001b[38;5;241m.\u001b[39mfit_transform(X, y, \u001b[38;5;241m*\u001b[39m\u001b[38;5;241m*\u001b[39mfit_params)\n\u001b[0;32m    894\u001b[0m     \u001b[38;5;28;01melse\u001b[39;00m:\n\u001b[0;32m    895\u001b[0m         res \u001b[38;5;241m=\u001b[39m transformer\u001b[38;5;241m.\u001b[39mfit(X, y, \u001b[38;5;241m*\u001b[39m\u001b[38;5;241m*\u001b[39mfit_params)\u001b[38;5;241m.\u001b[39mtransform(X)\n",
            "Cell \u001b[1;32mIn[90], line 10\u001b[0m, in \u001b[0;36mCustomTfidfVectorizer.fit_transform\u001b[1;34m(self, X, y)\u001b[0m\n\u001b[0;32m      8\u001b[0m vectorized_text \u001b[38;5;241m=\u001b[39m \u001b[38;5;28msuper\u001b[39m()\u001b[38;5;241m.\u001b[39mfit_transform(new_X[\u001b[38;5;124m'\u001b[39m\u001b[38;5;124mtext2\u001b[39m\u001b[38;5;124m'\u001b[39m])\n\u001b[0;32m      9\u001b[0m vectorized_title \u001b[38;5;241m=\u001b[39m \u001b[38;5;28msuper\u001b[39m()\u001b[38;5;241m.\u001b[39mfit_transform(new_X[\u001b[38;5;124m'\u001b[39m\u001b[38;5;124mtitle2\u001b[39m\u001b[38;5;124m'\u001b[39m])\n\u001b[1;32m---> 10\u001b[0m result \u001b[38;5;241m=\u001b[39m \u001b[43mpd\u001b[49m\u001b[38;5;241;43m.\u001b[39;49m\u001b[43mDataFrame\u001b[49m\u001b[43m(\u001b[49m\u001b[43m{\u001b[49m\u001b[38;5;124;43m'\u001b[39;49m\u001b[38;5;124;43mtext2\u001b[39;49m\u001b[38;5;124;43m'\u001b[39;49m\u001b[43m:\u001b[49m\u001b[43m \u001b[49m\u001b[43mnp\u001b[49m\u001b[38;5;241;43m.\u001b[39;49m\u001b[43marray\u001b[49m\u001b[43m(\u001b[49m\u001b[43mvectorized_text\u001b[49m\u001b[43m)\u001b[49m\u001b[43m,\u001b[49m\n\u001b[0;32m     11\u001b[0m \u001b[43m                       \u001b[49m\u001b[38;5;124;43m'\u001b[39;49m\u001b[38;5;124;43mtitle2\u001b[39;49m\u001b[38;5;124;43m'\u001b[39;49m\u001b[43m:\u001b[49m\u001b[43m \u001b[49m\u001b[43mnp\u001b[49m\u001b[38;5;241;43m.\u001b[39;49m\u001b[43marray\u001b[49m\u001b[43m(\u001b[49m\u001b[43mvectorized_title\u001b[49m\u001b[43m)\u001b[49m\u001b[43m}\u001b[49m\u001b[43m)\u001b[49m\n\u001b[0;32m     12\u001b[0m \u001b[38;5;28;01mreturn\u001b[39;00m result\n",
            "File \u001b[1;32mC:\\ProgramData\\Anaconda3\\envs\\pytorch_1\\lib\\site-packages\\pandas\\core\\frame.py:664\u001b[0m, in \u001b[0;36mDataFrame.__init__\u001b[1;34m(self, data, index, columns, dtype, copy)\u001b[0m\n\u001b[0;32m    658\u001b[0m     mgr \u001b[38;5;241m=\u001b[39m \u001b[38;5;28mself\u001b[39m\u001b[38;5;241m.\u001b[39m_init_mgr(\n\u001b[0;32m    659\u001b[0m         data, axes\u001b[38;5;241m=\u001b[39m{\u001b[38;5;124m\"\u001b[39m\u001b[38;5;124mindex\u001b[39m\u001b[38;5;124m\"\u001b[39m: index, \u001b[38;5;124m\"\u001b[39m\u001b[38;5;124mcolumns\u001b[39m\u001b[38;5;124m\"\u001b[39m: columns}, dtype\u001b[38;5;241m=\u001b[39mdtype, copy\u001b[38;5;241m=\u001b[39mcopy\n\u001b[0;32m    660\u001b[0m     )\n\u001b[0;32m    662\u001b[0m \u001b[38;5;28;01melif\u001b[39;00m \u001b[38;5;28misinstance\u001b[39m(data, \u001b[38;5;28mdict\u001b[39m):\n\u001b[0;32m    663\u001b[0m     \u001b[38;5;66;03m# GH#38939 de facto copy defaults to False only in non-dict cases\u001b[39;00m\n\u001b[1;32m--> 664\u001b[0m     mgr \u001b[38;5;241m=\u001b[39m \u001b[43mdict_to_mgr\u001b[49m\u001b[43m(\u001b[49m\u001b[43mdata\u001b[49m\u001b[43m,\u001b[49m\u001b[43m \u001b[49m\u001b[43mindex\u001b[49m\u001b[43m,\u001b[49m\u001b[43m \u001b[49m\u001b[43mcolumns\u001b[49m\u001b[43m,\u001b[49m\u001b[43m \u001b[49m\u001b[43mdtype\u001b[49m\u001b[38;5;241;43m=\u001b[39;49m\u001b[43mdtype\u001b[49m\u001b[43m,\u001b[49m\u001b[43m \u001b[49m\u001b[43mcopy\u001b[49m\u001b[38;5;241;43m=\u001b[39;49m\u001b[43mcopy\u001b[49m\u001b[43m,\u001b[49m\u001b[43m \u001b[49m\u001b[43mtyp\u001b[49m\u001b[38;5;241;43m=\u001b[39;49m\u001b[43mmanager\u001b[49m\u001b[43m)\u001b[49m\n\u001b[0;32m    665\u001b[0m \u001b[38;5;28;01melif\u001b[39;00m \u001b[38;5;28misinstance\u001b[39m(data, ma\u001b[38;5;241m.\u001b[39mMaskedArray):\n\u001b[0;32m    666\u001b[0m     \u001b[38;5;28;01mimport\u001b[39;00m \u001b[38;5;21;01mnumpy\u001b[39;00m\u001b[38;5;21;01m.\u001b[39;00m\u001b[38;5;21;01mma\u001b[39;00m\u001b[38;5;21;01m.\u001b[39;00m\u001b[38;5;21;01mmrecords\u001b[39;00m \u001b[38;5;28;01mas\u001b[39;00m \u001b[38;5;21;01mmrecords\u001b[39;00m\n",
            "File \u001b[1;32mC:\\ProgramData\\Anaconda3\\envs\\pytorch_1\\lib\\site-packages\\pandas\\core\\internals\\construction.py:493\u001b[0m, in \u001b[0;36mdict_to_mgr\u001b[1;34m(data, index, columns, dtype, typ, copy)\u001b[0m\n\u001b[0;32m    489\u001b[0m     \u001b[38;5;28;01melse\u001b[39;00m:\n\u001b[0;32m    490\u001b[0m         \u001b[38;5;66;03m# dtype check to exclude e.g. range objects, scalars\u001b[39;00m\n\u001b[0;32m    491\u001b[0m         arrays \u001b[38;5;241m=\u001b[39m [x\u001b[38;5;241m.\u001b[39mcopy() \u001b[38;5;28;01mif\u001b[39;00m \u001b[38;5;28mhasattr\u001b[39m(x, \u001b[38;5;124m\"\u001b[39m\u001b[38;5;124mdtype\u001b[39m\u001b[38;5;124m\"\u001b[39m) \u001b[38;5;28;01melse\u001b[39;00m x \u001b[38;5;28;01mfor\u001b[39;00m x \u001b[38;5;129;01min\u001b[39;00m arrays]\n\u001b[1;32m--> 493\u001b[0m \u001b[38;5;28;01mreturn\u001b[39;00m \u001b[43marrays_to_mgr\u001b[49m\u001b[43m(\u001b[49m\u001b[43marrays\u001b[49m\u001b[43m,\u001b[49m\u001b[43m \u001b[49m\u001b[43mcolumns\u001b[49m\u001b[43m,\u001b[49m\u001b[43m \u001b[49m\u001b[43mindex\u001b[49m\u001b[43m,\u001b[49m\u001b[43m \u001b[49m\u001b[43mdtype\u001b[49m\u001b[38;5;241;43m=\u001b[39;49m\u001b[43mdtype\u001b[49m\u001b[43m,\u001b[49m\u001b[43m \u001b[49m\u001b[43mtyp\u001b[49m\u001b[38;5;241;43m=\u001b[39;49m\u001b[43mtyp\u001b[49m\u001b[43m,\u001b[49m\u001b[43m \u001b[49m\u001b[43mconsolidate\u001b[49m\u001b[38;5;241;43m=\u001b[39;49m\u001b[43mcopy\u001b[49m\u001b[43m)\u001b[49m\n",
            "File \u001b[1;32mC:\\ProgramData\\Anaconda3\\envs\\pytorch_1\\lib\\site-packages\\pandas\\core\\internals\\construction.py:118\u001b[0m, in \u001b[0;36marrays_to_mgr\u001b[1;34m(arrays, columns, index, dtype, verify_integrity, typ, consolidate)\u001b[0m\n\u001b[0;32m    115\u001b[0m \u001b[38;5;28;01mif\u001b[39;00m verify_integrity:\n\u001b[0;32m    116\u001b[0m     \u001b[38;5;66;03m# figure out the index, if necessary\u001b[39;00m\n\u001b[0;32m    117\u001b[0m     \u001b[38;5;28;01mif\u001b[39;00m index \u001b[38;5;129;01mis\u001b[39;00m \u001b[38;5;28;01mNone\u001b[39;00m:\n\u001b[1;32m--> 118\u001b[0m         index \u001b[38;5;241m=\u001b[39m \u001b[43m_extract_index\u001b[49m\u001b[43m(\u001b[49m\u001b[43marrays\u001b[49m\u001b[43m)\u001b[49m\n\u001b[0;32m    119\u001b[0m     \u001b[38;5;28;01melse\u001b[39;00m:\n\u001b[0;32m    120\u001b[0m         index \u001b[38;5;241m=\u001b[39m ensure_index(index)\n",
            "File \u001b[1;32mC:\\ProgramData\\Anaconda3\\envs\\pytorch_1\\lib\\site-packages\\pandas\\core\\internals\\construction.py:656\u001b[0m, in \u001b[0;36m_extract_index\u001b[1;34m(data)\u001b[0m\n\u001b[0;32m    653\u001b[0m         \u001b[38;5;28;01mraise\u001b[39;00m \u001b[38;5;167;01mValueError\u001b[39;00m(\u001b[38;5;124m\"\u001b[39m\u001b[38;5;124mPer-column arrays must each be 1-dimensional\u001b[39m\u001b[38;5;124m\"\u001b[39m)\n\u001b[0;32m    655\u001b[0m \u001b[38;5;28;01mif\u001b[39;00m \u001b[38;5;129;01mnot\u001b[39;00m indexes \u001b[38;5;129;01mand\u001b[39;00m \u001b[38;5;129;01mnot\u001b[39;00m raw_lengths:\n\u001b[1;32m--> 656\u001b[0m     \u001b[38;5;28;01mraise\u001b[39;00m \u001b[38;5;167;01mValueError\u001b[39;00m(\u001b[38;5;124m\"\u001b[39m\u001b[38;5;124mIf using all scalar values, you must pass an index\u001b[39m\u001b[38;5;124m\"\u001b[39m)\n\u001b[0;32m    658\u001b[0m \u001b[38;5;28;01melif\u001b[39;00m have_series:\n\u001b[0;32m    659\u001b[0m     index \u001b[38;5;241m=\u001b[39m union_indexes(indexes)\n",
            "\u001b[1;31mValueError\u001b[0m: If using all scalar values, you must pass an index"
          ]
        }
      ],
      "source": [
        "pipe_svm = Pipeline(\n",
        "    [\n",
        "        ('vectorizer', CustomTfidfVectorizer()),\n",
        "        ('classifier', SVC())\n",
        "    ]\n",
        ")\n",
        "\n",
        "pipe_svm.fit(X_train[:100], y_train[:100])"
      ]
    },
    {
      "cell_type": "code",
      "execution_count": null,
      "id": "d324df95-0178-411a-93b7-2dfc9a1e9585",
      "metadata": {
        "execution": {
          "iopub.execute_input": "2023-04-05T21:59:25.524702Z",
          "iopub.status.busy": "2023-04-05T21:59:25.523701Z",
          "iopub.status.idle": "2023-04-05T21:59:25.538205Z",
          "shell.execute_reply": "2023-04-05T21:59:25.538205Z",
          "shell.execute_reply.started": "2023-04-05T21:59:25.524702Z"
        },
        "id": "d324df95-0178-411a-93b7-2dfc9a1e9585",
        "tags": []
      },
      "outputs": [],
      "source": [
        "svm = SVC(verbose=True)"
      ]
    },
    {
      "cell_type": "code",
      "execution_count": null,
      "id": "75c8e1a3-eec7-4214-9906-d36919344953",
      "metadata": {
        "execution": {
          "iopub.execute_input": "2023-04-05T21:59:29.795217Z",
          "iopub.status.busy": "2023-04-05T21:59:29.795217Z",
          "iopub.status.idle": "2023-04-05T22:00:25.643375Z",
          "shell.execute_reply": "2023-04-05T22:00:25.642378Z",
          "shell.execute_reply.started": "2023-04-05T21:59:29.795217Z"
        },
        "id": "75c8e1a3-eec7-4214-9906-d36919344953",
        "outputId": "58225f79-4616-4f1f-8fc3-5c5d0868e6c7",
        "tags": []
      },
      "outputs": [
        {
          "data": {
            "text/html": [
              "<style>#sk-container-id-3 {color: black;background-color: white;}#sk-container-id-3 pre{padding: 0;}#sk-container-id-3 div.sk-toggleable {background-color: white;}#sk-container-id-3 label.sk-toggleable__label {cursor: pointer;display: block;width: 100%;margin-bottom: 0;padding: 0.3em;box-sizing: border-box;text-align: center;}#sk-container-id-3 label.sk-toggleable__label-arrow:before {content: \"▸\";float: left;margin-right: 0.25em;color: #696969;}#sk-container-id-3 label.sk-toggleable__label-arrow:hover:before {color: black;}#sk-container-id-3 div.sk-estimator:hover label.sk-toggleable__label-arrow:before {color: black;}#sk-container-id-3 div.sk-toggleable__content {max-height: 0;max-width: 0;overflow: hidden;text-align: left;background-color: #f0f8ff;}#sk-container-id-3 div.sk-toggleable__content pre {margin: 0.2em;color: black;border-radius: 0.25em;background-color: #f0f8ff;}#sk-container-id-3 input.sk-toggleable__control:checked~div.sk-toggleable__content {max-height: 200px;max-width: 100%;overflow: auto;}#sk-container-id-3 input.sk-toggleable__control:checked~label.sk-toggleable__label-arrow:before {content: \"▾\";}#sk-container-id-3 div.sk-estimator input.sk-toggleable__control:checked~label.sk-toggleable__label {background-color: #d4ebff;}#sk-container-id-3 div.sk-label input.sk-toggleable__control:checked~label.sk-toggleable__label {background-color: #d4ebff;}#sk-container-id-3 input.sk-hidden--visually {border: 0;clip: rect(1px 1px 1px 1px);clip: rect(1px, 1px, 1px, 1px);height: 1px;margin: -1px;overflow: hidden;padding: 0;position: absolute;width: 1px;}#sk-container-id-3 div.sk-estimator {font-family: monospace;background-color: #f0f8ff;border: 1px dotted black;border-radius: 0.25em;box-sizing: border-box;margin-bottom: 0.5em;}#sk-container-id-3 div.sk-estimator:hover {background-color: #d4ebff;}#sk-container-id-3 div.sk-parallel-item::after {content: \"\";width: 100%;border-bottom: 1px solid gray;flex-grow: 1;}#sk-container-id-3 div.sk-label:hover label.sk-toggleable__label {background-color: #d4ebff;}#sk-container-id-3 div.sk-serial::before {content: \"\";position: absolute;border-left: 1px solid gray;box-sizing: border-box;top: 0;bottom: 0;left: 50%;z-index: 0;}#sk-container-id-3 div.sk-serial {display: flex;flex-direction: column;align-items: center;background-color: white;padding-right: 0.2em;padding-left: 0.2em;position: relative;}#sk-container-id-3 div.sk-item {position: relative;z-index: 1;}#sk-container-id-3 div.sk-parallel {display: flex;align-items: stretch;justify-content: center;background-color: white;position: relative;}#sk-container-id-3 div.sk-item::before, #sk-container-id-3 div.sk-parallel-item::before {content: \"\";position: absolute;border-left: 1px solid gray;box-sizing: border-box;top: 0;bottom: 0;left: 50%;z-index: -1;}#sk-container-id-3 div.sk-parallel-item {display: flex;flex-direction: column;z-index: 1;position: relative;background-color: white;}#sk-container-id-3 div.sk-parallel-item:first-child::after {align-self: flex-end;width: 50%;}#sk-container-id-3 div.sk-parallel-item:last-child::after {align-self: flex-start;width: 50%;}#sk-container-id-3 div.sk-parallel-item:only-child::after {width: 0;}#sk-container-id-3 div.sk-dashed-wrapped {border: 1px dashed gray;margin: 0 0.4em 0.5em 0.4em;box-sizing: border-box;padding-bottom: 0.4em;background-color: white;}#sk-container-id-3 div.sk-label label {font-family: monospace;font-weight: bold;display: inline-block;line-height: 1.2em;}#sk-container-id-3 div.sk-label-container {text-align: center;}#sk-container-id-3 div.sk-container {/* jupyter's `normalize.less` sets `[hidden] { display: none; }` but bootstrap.min.css set `[hidden] { display: none !important; }` so we also need the `!important` here to be able to override the default hidden behavior on the sphinx rendered scikit-learn.org. See: https://github.com/scikit-learn/scikit-learn/issues/21755 */display: inline-block !important;position: relative;}#sk-container-id-3 div.sk-text-repr-fallback {display: none;}</style><div id=\"sk-container-id-3\" class=\"sk-top-container\"><div class=\"sk-text-repr-fallback\"><pre>SVC(verbose=True)</pre><b>In a Jupyter environment, please rerun this cell to show the HTML representation or trust the notebook. <br />On GitHub, the HTML representation is unable to render, please try loading this page with nbviewer.org.</b></div><div class=\"sk-container\" hidden><div class=\"sk-item\"><div class=\"sk-estimator sk-toggleable\"><input class=\"sk-toggleable__control sk-hidden--visually\" id=\"sk-estimator-id-3\" type=\"checkbox\" checked><label for=\"sk-estimator-id-3\" class=\"sk-toggleable__label sk-toggleable__label-arrow\">SVC</label><div class=\"sk-toggleable__content\"><pre>SVC(verbose=True)</pre></div></div></div></div></div>"
            ],
            "text/plain": [
              "SVC(verbose=True)"
            ]
          },
          "execution_count": 68,
          "metadata": {},
          "output_type": "execute_result"
        }
      ],
      "source": [
        "svm.fit(X_train, y_train)"
      ]
    },
    {
      "cell_type": "code",
      "execution_count": null,
      "id": "60c26e42-30d2-4a24-9e82-1f87bc9885b4",
      "metadata": {
        "execution": {
          "iopub.execute_input": "2023-04-05T22:00:28.133705Z",
          "iopub.status.busy": "2023-04-05T22:00:28.133705Z",
          "iopub.status.idle": "2023-04-05T22:00:32.519112Z",
          "shell.execute_reply": "2023-04-05T22:00:32.519112Z",
          "shell.execute_reply.started": "2023-04-05T22:00:28.133705Z"
        },
        "id": "60c26e42-30d2-4a24-9e82-1f87bc9885b4",
        "outputId": "e89ef8ef-7ad9-4b19-f46a-1878c5d0ad8d",
        "tags": []
      },
      "outputs": [
        {
          "data": {
            "text/plain": [
              "(7154,)"
            ]
          },
          "execution_count": 69,
          "metadata": {},
          "output_type": "execute_result"
        }
      ],
      "source": [
        "y_preds = svm.predict(X_test)\n",
        "y_preds.shape"
      ]
    },
    {
      "cell_type": "code",
      "execution_count": null,
      "id": "d089e99a-fc3a-4da4-b1a0-10f9979f48e1",
      "metadata": {
        "execution": {
          "iopub.execute_input": "2023-04-05T22:00:47.617045Z",
          "iopub.status.busy": "2023-04-05T22:00:47.616046Z",
          "iopub.status.idle": "2023-04-05T22:00:47.746705Z",
          "shell.execute_reply": "2023-04-05T22:00:47.746705Z",
          "shell.execute_reply.started": "2023-04-05T22:00:47.617045Z"
        },
        "id": "d089e99a-fc3a-4da4-b1a0-10f9979f48e1",
        "outputId": "1700a973-8296-40d7-a566-b57df29fead5"
      },
      "outputs": [
        {
          "data": {
            "text/plain": [
              "Text(0.5, 427.9555555555555, 'Predicted label')"
            ]
          },
          "execution_count": 71,
          "metadata": {},
          "output_type": "execute_result"
        },
        {
          "data": {
            "image/png": "[encoded data removed]",
            "text/plain": [
              "<Figure size 640x480 with 2 Axes>"
            ]
          },
          "metadata": {},
          "output_type": "display_data"
        }
      ],
      "source": [
        "cm = confusion_matrix(y_test,y_preds)\n",
        "class_names=[0,1] # name  of classes\n",
        "fig, ax = plt.subplots()\n",
        "tick_marks = np.arange(len(class_names))\n",
        "plt.xticks(tick_marks, class_names)\n",
        "plt.yticks(tick_marks, class_names)\n",
        "# create heatmap\n",
        "sns.heatmap(pd.DataFrame(cm), annot=True, cmap=\"BuPu\" ,fmt='g')\n",
        "ax.xaxis.set_label_position(\"top\")\n",
        "plt.tight_layout()\n",
        "plt.title('Confusion matrix', y=1.1)\n",
        "plt.ylabel('Actual label')\n",
        "plt.xlabel('Predicted label')"
      ]
    },
    {
      "cell_type": "code",
      "execution_count": null,
      "id": "2f1a2083-790d-4284-a1bc-3f0053f1748e",
      "metadata": {
        "execution": {
          "iopub.execute_input": "2023-04-05T22:00:57.239641Z",
          "iopub.status.busy": "2023-04-05T22:00:57.239641Z",
          "iopub.status.idle": "2023-04-05T22:00:57.261642Z",
          "shell.execute_reply": "2023-04-05T22:00:57.261642Z",
          "shell.execute_reply.started": "2023-04-05T22:00:57.239641Z"
        },
        "id": "2f1a2083-790d-4284-a1bc-3f0053f1748e",
        "outputId": "7a34bd79-4132-4856-9ac7-534aea062ebe"
      },
      "outputs": [
        {
          "name": "stdout",
          "output_type": "stream",
          "text": [
            "              precision    recall  f1-score   support\n",
            "\n",
            "           0       0.98      0.97      0.98      3562\n",
            "           1       0.97      0.98      0.98      3592\n",
            "\n",
            "    accuracy                           0.98      7154\n",
            "   macro avg       0.98      0.98      0.98      7154\n",
            "weighted avg       0.98      0.98      0.98      7154\n",
            "\n"
          ]
        }
      ],
      "source": [
        "print(classification_report(y_test,y_preds))"
      ]
    },
    {
      "cell_type": "code",
      "execution_count": null,
      "id": "c21790aa-8704-411b-8522-fe426ba1c6a8",
      "metadata": {
        "id": "c21790aa-8704-411b-8522-fe426ba1c6a8"
      },
      "outputs": [],
      "source": []
    },
    {
      "cell_type": "markdown",
      "id": "PnPhbybMQE39",
      "metadata": {
        "id": "PnPhbybMQE39"
      },
      "source": [
        "# test\n"
      ]
    },
    {
      "cell_type": "code",
      "execution_count": null,
      "id": "p89tsy4OQHPz",
      "metadata": {
        "id": "p89tsy4OQHPz"
      },
      "outputs": [],
      "source": [
        "def tfidf_vectorize_all_ver2(train, val, test):\n",
        "    new_train = train[['text2', 'title2']]\n",
        "    new_val = val[['text2', 'title2']]\n",
        "    new_test = test[['text2', 'title2']]\n",
        "    vectorizer_text1 = TfidfVectorizer()\n",
        "    vectorizer_title1 = TfidfVectorizer()\n",
        "    \n",
        "    train_text2 = vectorizer_text1.fit_transform(new_train['text2'])\n",
        "    train_title2 = vectorizer_title1.fit_transform(new_train['title2'])\n",
        "\n",
        "    vectorizer_text2 = TfidfVectorizer(vocabulary=vectorizer_text1.vocabulary_)\n",
        "    vectorizer_title2 = TfidfVectorizer(vocabulary=vectorizer_title1.vocabulary_)\n",
        "\n",
        "    val_text2 = vectorizer_text2.fit_transform(new_val['text2'])\n",
        "    val_title2 = vectorizer_title2.fit_transform(new_val['title2'])\n",
        "    \n",
        "    test_text2 = vectorizer_text2.fit_transform(new_test['text2'])\n",
        "    test_title2 = vectorizer_title2.fit_transform(new_test['title2'])\n",
        "    \n",
        "    return (\n",
        "        hstack([train_text2, train_title2]),\n",
        "        hstack([val_text2, val_title2]),\n",
        "        hstack([test_text2, test_title2])\n",
        "    )"
      ]
    },
    {
      "cell_type": "code",
      "execution_count": null,
      "id": "H3FpzEkSQ1il",
      "metadata": {
        "colab": {
          "base_uri": "https://localhost:8080/"
        },
        "id": "H3FpzEkSQ1il",
        "outputId": "904f95a7-b2d4-4193-cf07-612cd988b6ec"
      },
      "outputs": [
        {
          "name": "stdout",
          "output_type": "stream",
          "text": [
            "Train:      (51506, 278717)\n",
            "Validation: (12877, 278717)\n",
            "Test:       (7154, 278717)\n"
          ]
        }
      ],
      "source": [
        "X_train, X_val, X_test = tfidf_vectorize_all_ver2(X_train, X_val, X_test)\n",
        "print(f'Train:      {X_train.shape}')\n",
        "print(f'Validation: {X_val.shape}')\n",
        "print(f'Test:       {X_test.shape}')"
      ]
    },
    {
      "cell_type": "code",
      "execution_count": null,
      "id": "2ooeNGx1Q5yj",
      "metadata": {
        "id": "2ooeNGx1Q5yj"
      },
      "outputs": [],
      "source": [
        "svm = SVC(verbose=True)"
      ]
    },
    {
      "cell_type": "code",
      "execution_count": null,
      "id": "3CZVLZDoRQkI",
      "metadata": {
        "colab": {
          "base_uri": "https://localhost:8080/",
          "height": 75
        },
        "id": "3CZVLZDoRQkI",
        "outputId": "5271889e-41a0-4b2b-c355-c996505e23af"
      },
      "outputs": [
        {
          "data": {
            "text/html": [
              "<style>#sk-container-id-1 {color: black;background-color: white;}#sk-container-id-1 pre{padding: 0;}#sk-container-id-1 div.sk-toggleable {background-color: white;}#sk-container-id-1 label.sk-toggleable__label {cursor: pointer;display: block;width: 100%;margin-bottom: 0;padding: 0.3em;box-sizing: border-box;text-align: center;}#sk-container-id-1 label.sk-toggleable__label-arrow:before {content: \"▸\";float: left;margin-right: 0.25em;color: #696969;}#sk-container-id-1 label.sk-toggleable__label-arrow:hover:before {color: black;}#sk-container-id-1 div.sk-estimator:hover label.sk-toggleable__label-arrow:before {color: black;}#sk-container-id-1 div.sk-toggleable__content {max-height: 0;max-width: 0;overflow: hidden;text-align: left;background-color: #f0f8ff;}#sk-container-id-1 div.sk-toggleable__content pre {margin: 0.2em;color: black;border-radius: 0.25em;background-color: #f0f8ff;}#sk-container-id-1 input.sk-toggleable__control:checked~div.sk-toggleable__content {max-height: 200px;max-width: 100%;overflow: auto;}#sk-container-id-1 input.sk-toggleable__control:checked~label.sk-toggleable__label-arrow:before {content: \"▾\";}#sk-container-id-1 div.sk-estimator input.sk-toggleable__control:checked~label.sk-toggleable__label {background-color: #d4ebff;}#sk-container-id-1 div.sk-label input.sk-toggleable__control:checked~label.sk-toggleable__label {background-color: #d4ebff;}#sk-container-id-1 input.sk-hidden--visually {border: 0;clip: rect(1px 1px 1px 1px);clip: rect(1px, 1px, 1px, 1px);height: 1px;margin: -1px;overflow: hidden;padding: 0;position: absolute;width: 1px;}#sk-container-id-1 div.sk-estimator {font-family: monospace;background-color: #f0f8ff;border: 1px dotted black;border-radius: 0.25em;box-sizing: border-box;margin-bottom: 0.5em;}#sk-container-id-1 div.sk-estimator:hover {background-color: #d4ebff;}#sk-container-id-1 div.sk-parallel-item::after {content: \"\";width: 100%;border-bottom: 1px solid gray;flex-grow: 1;}#sk-container-id-1 div.sk-label:hover label.sk-toggleable__label {background-color: #d4ebff;}#sk-container-id-1 div.sk-serial::before {content: \"\";position: absolute;border-left: 1px solid gray;box-sizing: border-box;top: 0;bottom: 0;left: 50%;z-index: 0;}#sk-container-id-1 div.sk-serial {display: flex;flex-direction: column;align-items: center;background-color: white;padding-right: 0.2em;padding-left: 0.2em;position: relative;}#sk-container-id-1 div.sk-item {position: relative;z-index: 1;}#sk-container-id-1 div.sk-parallel {display: flex;align-items: stretch;justify-content: center;background-color: white;position: relative;}#sk-container-id-1 div.sk-item::before, #sk-container-id-1 div.sk-parallel-item::before {content: \"\";position: absolute;border-left: 1px solid gray;box-sizing: border-box;top: 0;bottom: 0;left: 50%;z-index: -1;}#sk-container-id-1 div.sk-parallel-item {display: flex;flex-direction: column;z-index: 1;position: relative;background-color: white;}#sk-container-id-1 div.sk-parallel-item:first-child::after {align-self: flex-end;width: 50%;}#sk-container-id-1 div.sk-parallel-item:last-child::after {align-self: flex-start;width: 50%;}#sk-container-id-1 div.sk-parallel-item:only-child::after {width: 0;}#sk-container-id-1 div.sk-dashed-wrapped {border: 1px dashed gray;margin: 0 0.4em 0.5em 0.4em;box-sizing: border-box;padding-bottom: 0.4em;background-color: white;}#sk-container-id-1 div.sk-label label {font-family: monospace;font-weight: bold;display: inline-block;line-height: 1.2em;}#sk-container-id-1 div.sk-label-container {text-align: center;}#sk-container-id-1 div.sk-container {/* jupyter's `normalize.less` sets `[hidden] { display: none; }` but bootstrap.min.css set `[hidden] { display: none !important; }` so we also need the `!important` here to be able to override the default hidden behavior on the sphinx rendered scikit-learn.org. See: https://github.com/scikit-learn/scikit-learn/issues/21755 */display: inline-block !important;position: relative;}#sk-container-id-1 div.sk-text-repr-fallback {display: none;}</style><div id=\"sk-container-id-1\" class=\"sk-top-container\"><div class=\"sk-text-repr-fallback\"><pre>SVC(verbose=True)</pre><b>In a Jupyter environment, please rerun this cell to show the HTML representation or trust the notebook. <br />On GitHub, the HTML representation is unable to render, please try loading this page with nbviewer.org.</b></div><div class=\"sk-container\" hidden><div class=\"sk-item\"><div class=\"sk-estimator sk-toggleable\"><input class=\"sk-toggleable__control sk-hidden--visually\" id=\"sk-estimator-id-1\" type=\"checkbox\" checked><label for=\"sk-estimator-id-1\" class=\"sk-toggleable__label sk-toggleable__label-arrow\">SVC</label><div class=\"sk-toggleable__content\"><pre>SVC(verbose=True)</pre></div></div></div></div></div>"
            ],
            "text/plain": [
              "SVC(verbose=True)"
            ]
          },
          "execution_count": 19,
          "metadata": {},
          "output_type": "execute_result"
        }
      ],
      "source": [
        "svm.fit(X_train, y_train)"
      ]
    },
    {
      "cell_type": "code",
      "execution_count": null,
      "id": "kz0UHyfBRTJo",
      "metadata": {
        "colab": {
          "base_uri": "https://localhost:8080/"
        },
        "id": "kz0UHyfBRTJo",
        "outputId": "33cb2dd8-3fd2-431b-922e-2f0105908254"
      },
      "outputs": [
        {
          "data": {
            "text/plain": [
              "(7154,)"
            ]
          },
          "execution_count": 20,
          "metadata": {},
          "output_type": "execute_result"
        }
      ],
      "source": [
        "y_preds = svm.predict(X_test)\n",
        "y_preds.shape"
      ]
    },
    {
      "cell_type": "code",
      "execution_count": null,
      "id": "bEj2zdDES2Rl",
      "metadata": {
        "colab": {
          "base_uri": "https://localhost:8080/",
          "height": 567
        },
        "id": "bEj2zdDES2Rl",
        "outputId": "5ea9e8be-4543-4a92-e2e4-e6c9024ddb33"
      },
      "outputs": [
        {
          "data": {
            "text/plain": [
              "Text(0.5, 427.9555555555555, 'Predicted label')"
            ]
          },
          "execution_count": 22,
          "metadata": {},
          "output_type": "execute_result"
        },
        {
          "data": {
            "image/png": "[encoded data removed]",
            "text/plain": [
              "<Figure size 640x480 with 2 Axes>"
            ]
          },
          "metadata": {},
          "output_type": "display_data"
        }
      ],
      "source": [
        "cm = confusion_matrix(y_test,y_preds)\n",
        "class_names=[0,1] # name  of classes\n",
        "fig, ax = plt.subplots()\n",
        "tick_marks = np.arange(len(class_names))\n",
        "plt.xticks(tick_marks, class_names)\n",
        "plt.yticks(tick_marks, class_names)\n",
        "# create heatmap\n",
        "sns.heatmap(pd.DataFrame(cm), annot=True, cmap=\"BuPu\" ,fmt='g')\n",
        "ax.xaxis.set_label_position(\"top\")\n",
        "plt.tight_layout()\n",
        "plt.title('Confusion matrix', y=1.1)\n",
        "plt.ylabel('Actual label')\n",
        "plt.xlabel('Predicted label')"
      ]
    },
    {
      "cell_type": "code",
      "execution_count": null,
      "id": "GnYrerhUS8hT",
      "metadata": {
        "colab": {
          "base_uri": "https://localhost:8080/"
        },
        "id": "GnYrerhUS8hT",
        "outputId": "fe89bfa8-402b-4f7c-f1a9-b5117f6a566c"
      },
      "outputs": [
        {
          "name": "stdout",
          "output_type": "stream",
          "text": [
            "              precision    recall  f1-score   support\n",
            "\n",
            "           0       0.98      0.97      0.98      3562\n",
            "           1       0.97      0.98      0.98      3592\n",
            "\n",
            "    accuracy                           0.98      7154\n",
            "   macro avg       0.98      0.98      0.98      7154\n",
            "weighted avg       0.98      0.98      0.98      7154\n",
            "\n"
          ]
        }
      ],
      "source": [
        "print(classification_report(y_test,y_preds))"
      ]
    },
    {
      "cell_type": "code",
      "execution_count": null,
      "id": "k8IuIxTGTLJK",
      "metadata": {
        "id": "k8IuIxTGTLJK"
      },
      "outputs": [],
      "source": [
        "from sklearn.metrics import accuracy_score, f1_score"
      ]
    },
    {
      "cell_type": "code",
      "execution_count": null,
      "id": "_0L8vS4BUhsY",
      "metadata": {
        "colab": {
          "base_uri": "https://localhost:8080/"
        },
        "id": "_0L8vS4BUhsY",
        "outputId": "5681b4a9-a4eb-432e-d0df-b946b496aae6"
      },
      "outputs": [
        {
          "data": {
            "text/plain": [
              "0.9759575062901873"
            ]
          },
          "execution_count": 27,
          "metadata": {},
          "output_type": "execute_result"
        }
      ],
      "source": [
        "accuracy_score(y_test,y_preds)"
      ]
    },
    {
      "cell_type": "code",
      "execution_count": null,
      "id": "0G_Sk6heUthp",
      "metadata": {
        "colab": {
          "base_uri": "https://localhost:8080/"
        },
        "id": "0G_Sk6heUthp",
        "outputId": "a018a943-0cc9-4686-809b-1d242f13f7d2"
      },
      "outputs": [
        {
          "data": {
            "text/plain": [
              "0.976249654791494"
            ]
          },
          "execution_count": 28,
          "metadata": {},
          "output_type": "execute_result"
        }
      ],
      "source": [
        "f1_score(y_test,y_preds)"
      ]
    },
    {
      "cell_type": "markdown",
      "id": "IzDLY925U9Bg",
      "metadata": {
        "id": "IzDLY925U9Bg"
      },
      "source": [
        "# test 2"
      ]
    },
    {
      "cell_type": "code",
      "execution_count": null,
      "id": "IUj62FjVUwXP",
      "metadata": {
        "id": "IUj62FjVUwXP"
      },
      "outputs": [],
      "source": [
        "df_X, df_y = df.drop(columns=['label']), df['label']"
      ]
    },
    {
      "cell_type": "code",
      "execution_count": null,
      "id": "0jYVutYCU8MI",
      "metadata": {
        "id": "0jYVutYCU8MI"
      },
      "outputs": [],
      "source": [
        "vectorizer_text_ = TfidfVectorizer()\n",
        "vectorizer_title_ = TfidfVectorizer()\n",
        "text2_ = vectorizer_text_.fit_transform(df_X['text2'])\n",
        "title2_ = vectorizer_title_.fit_transform(df_X['title2'])\n",
        "df_X_ = hstack([text2_, title2_])"
      ]
    },
    {
      "cell_type": "code",
      "execution_count": null,
      "id": "BG74aJaBVxGv",
      "metadata": {
        "id": "BG74aJaBVxGv"
      },
      "outputs": [],
      "source": [
        "X_train, X_test, y_train, y_test = train_test_split(df_X_, df_y, test_size=0.1, random_state=42, shuffle=True)\n",
        "X_train, X_val, y_train, y_val = train_test_split(X_train, y_train, test_size=0.2, random_state=42, shuffle=True)"
      ]
    },
    {
      "cell_type": "code",
      "execution_count": null,
      "id": "81HZ0q4HV5KV",
      "metadata": {
        "colab": {
          "base_uri": "https://localhost:8080/"
        },
        "id": "81HZ0q4HV5KV",
        "outputId": "6ca6a1b2-49f1-4544-ad40-0aa10fe1bdc6"
      },
      "outputs": [
        {
          "name": "stdout",
          "output_type": "stream",
          "text": [
            "Train:      (51506, 325098) | (51506,)\n",
            "Validation: (12877, 325098) | (12877,)\n",
            "Test:       (7154, 325098)  | (7154,)\n"
          ]
        }
      ],
      "source": [
        "print(f'Train:      {X_train.shape} | {y_train.shape}')\n",
        "print(f'Validation: {X_val.shape} | {y_val.shape}')\n",
        "print(f'Test:       {X_test.shape}  | {y_test.shape}')"
      ]
    },
    {
      "cell_type": "code",
      "execution_count": null,
      "id": "ZlmvNd_wVn74",
      "metadata": {
        "id": "ZlmvNd_wVn74"
      },
      "outputs": [],
      "source": [
        "svm_ = SVC(verbose=True)"
      ]
    },
    {
      "cell_type": "code",
      "execution_count": null,
      "id": "qmQZJXBJWAvH",
      "metadata": {
        "colab": {
          "base_uri": "https://localhost:8080/",
          "height": 75
        },
        "id": "qmQZJXBJWAvH",
        "outputId": "b8979598-23ff-408b-9270-4b6edb7fa6a8"
      },
      "outputs": [
        {
          "data": {
            "text/html": [
              "<style>#sk-container-id-3 {color: black;background-color: white;}#sk-container-id-3 pre{padding: 0;}#sk-container-id-3 div.sk-toggleable {background-color: white;}#sk-container-id-3 label.sk-toggleable__label {cursor: pointer;display: block;width: 100%;margin-bottom: 0;padding: 0.3em;box-sizing: border-box;text-align: center;}#sk-container-id-3 label.sk-toggleable__label-arrow:before {content: \"▸\";float: left;margin-right: 0.25em;color: #696969;}#sk-container-id-3 label.sk-toggleable__label-arrow:hover:before {color: black;}#sk-container-id-3 div.sk-estimator:hover label.sk-toggleable__label-arrow:before {color: black;}#sk-container-id-3 div.sk-toggleable__content {max-height: 0;max-width: 0;overflow: hidden;text-align: left;background-color: #f0f8ff;}#sk-container-id-3 div.sk-toggleable__content pre {margin: 0.2em;color: black;border-radius: 0.25em;background-color: #f0f8ff;}#sk-container-id-3 input.sk-toggleable__control:checked~div.sk-toggleable__content {max-height: 200px;max-width: 100%;overflow: auto;}#sk-container-id-3 input.sk-toggleable__control:checked~label.sk-toggleable__label-arrow:before {content: \"▾\";}#sk-container-id-3 div.sk-estimator input.sk-toggleable__control:checked~label.sk-toggleable__label {background-color: #d4ebff;}#sk-container-id-3 div.sk-label input.sk-toggleable__control:checked~label.sk-toggleable__label {background-color: #d4ebff;}#sk-container-id-3 input.sk-hidden--visually {border: 0;clip: rect(1px 1px 1px 1px);clip: rect(1px, 1px, 1px, 1px);height: 1px;margin: -1px;overflow: hidden;padding: 0;position: absolute;width: 1px;}#sk-container-id-3 div.sk-estimator {font-family: monospace;background-color: #f0f8ff;border: 1px dotted black;border-radius: 0.25em;box-sizing: border-box;margin-bottom: 0.5em;}#sk-container-id-3 div.sk-estimator:hover {background-color: #d4ebff;}#sk-container-id-3 div.sk-parallel-item::after {content: \"\";width: 100%;border-bottom: 1px solid gray;flex-grow: 1;}#sk-container-id-3 div.sk-label:hover label.sk-toggleable__label {background-color: #d4ebff;}#sk-container-id-3 div.sk-serial::before {content: \"\";position: absolute;border-left: 1px solid gray;box-sizing: border-box;top: 0;bottom: 0;left: 50%;z-index: 0;}#sk-container-id-3 div.sk-serial {display: flex;flex-direction: column;align-items: center;background-color: white;padding-right: 0.2em;padding-left: 0.2em;position: relative;}#sk-container-id-3 div.sk-item {position: relative;z-index: 1;}#sk-container-id-3 div.sk-parallel {display: flex;align-items: stretch;justify-content: center;background-color: white;position: relative;}#sk-container-id-3 div.sk-item::before, #sk-container-id-3 div.sk-parallel-item::before {content: \"\";position: absolute;border-left: 1px solid gray;box-sizing: border-box;top: 0;bottom: 0;left: 50%;z-index: -1;}#sk-container-id-3 div.sk-parallel-item {display: flex;flex-direction: column;z-index: 1;position: relative;background-color: white;}#sk-container-id-3 div.sk-parallel-item:first-child::after {align-self: flex-end;width: 50%;}#sk-container-id-3 div.sk-parallel-item:last-child::after {align-self: flex-start;width: 50%;}#sk-container-id-3 div.sk-parallel-item:only-child::after {width: 0;}#sk-container-id-3 div.sk-dashed-wrapped {border: 1px dashed gray;margin: 0 0.4em 0.5em 0.4em;box-sizing: border-box;padding-bottom: 0.4em;background-color: white;}#sk-container-id-3 div.sk-label label {font-family: monospace;font-weight: bold;display: inline-block;line-height: 1.2em;}#sk-container-id-3 div.sk-label-container {text-align: center;}#sk-container-id-3 div.sk-container {/* jupyter's `normalize.less` sets `[hidden] { display: none; }` but bootstrap.min.css set `[hidden] { display: none !important; }` so we also need the `!important` here to be able to override the default hidden behavior on the sphinx rendered scikit-learn.org. See: https://github.com/scikit-learn/scikit-learn/issues/21755 */display: inline-block !important;position: relative;}#sk-container-id-3 div.sk-text-repr-fallback {display: none;}</style><div id=\"sk-container-id-3\" class=\"sk-top-container\"><div class=\"sk-text-repr-fallback\"><pre>SVC(verbose=True)</pre><b>In a Jupyter environment, please rerun this cell to show the HTML representation or trust the notebook. <br />On GitHub, the HTML representation is unable to render, please try loading this page with nbviewer.org.</b></div><div class=\"sk-container\" hidden><div class=\"sk-item\"><div class=\"sk-estimator sk-toggleable\"><input class=\"sk-toggleable__control sk-hidden--visually\" id=\"sk-estimator-id-3\" type=\"checkbox\" checked><label for=\"sk-estimator-id-3\" class=\"sk-toggleable__label sk-toggleable__label-arrow\">SVC</label><div class=\"sk-toggleable__content\"><pre>SVC(verbose=True)</pre></div></div></div></div></div>"
            ],
            "text/plain": [
              "SVC(verbose=True)"
            ]
          },
          "execution_count": 38,
          "metadata": {},
          "output_type": "execute_result"
        }
      ],
      "source": [
        "svm_.fit(X_train, y_train)"
      ]
    },
    {
      "cell_type": "code",
      "execution_count": null,
      "id": "heTz3U2WVvSX",
      "metadata": {
        "colab": {
          "base_uri": "https://localhost:8080/"
        },
        "id": "heTz3U2WVvSX",
        "outputId": "9d2376c9-0471-42d0-cff2-21a1e4c3935e"
      },
      "outputs": [
        {
          "data": {
            "text/plain": [
              "(12877,)"
            ]
          },
          "execution_count": 42,
          "metadata": {},
          "output_type": "execute_result"
        }
      ],
      "source": [
        "y_preds = svm_.predict(X_val)\n",
        "y_preds.shape"
      ]
    },
    {
      "cell_type": "code",
      "execution_count": null,
      "id": "hjVnMwJjXl87",
      "metadata": {
        "colab": {
          "base_uri": "https://localhost:8080/"
        },
        "id": "hjVnMwJjXl87",
        "outputId": "00191c1d-1662-4748-e165-709037aa1f84"
      },
      "outputs": [
        {
          "data": {
            "text/plain": [
              "0.9742952551060029"
            ]
          },
          "execution_count": 44,
          "metadata": {},
          "output_type": "execute_result"
        }
      ],
      "source": [
        "accuracy_score(y_val,y_preds)"
      ]
    },
    {
      "cell_type": "code",
      "execution_count": null,
      "id": "6JPmKmJ8bBFV",
      "metadata": {
        "colab": {
          "base_uri": "https://localhost:8080/"
        },
        "id": "6JPmKmJ8bBFV",
        "outputId": "2ba337d2-24d0-4e4a-cf18-ef012f4f54a8"
      },
      "outputs": [
        {
          "data": {
            "text/plain": [
              "0.9751221345358887"
            ]
          },
          "execution_count": 47,
          "metadata": {},
          "output_type": "execute_result"
        }
      ],
      "source": [
        "f1_score(y_val,y_preds)"
      ]
    },
    {
      "cell_type": "code",
      "execution_count": null,
      "id": "dM1Pir9SX0Dk",
      "metadata": {
        "colab": {
          "base_uri": "https://localhost:8080/",
          "height": 568
        },
        "id": "dM1Pir9SX0Dk",
        "outputId": "ef551415-8f20-4d3b-863b-03a7c1aa6f5f"
      },
      "outputs": [
        {
          "data": {
            "text/plain": [
              "Text(0.5, 427.9555555555555, 'Predicted label')"
            ]
          },
          "execution_count": 46,
          "metadata": {},
          "output_type": "execute_result"
        },
        {
          "data": {
            "image/png": "[encoded data removed]",
            "text/plain": [
              "<Figure size 640x480 with 2 Axes>"
            ]
          },
          "metadata": {},
          "output_type": "display_data"
        }
      ],
      "source": [
        "cm = confusion_matrix(y_val,y_preds)\n",
        "class_names=[0,1] # name  of classes\n",
        "fig, ax = plt.subplots()\n",
        "tick_marks = np.arange(len(class_names))\n",
        "plt.xticks(tick_marks, class_names)\n",
        "plt.yticks(tick_marks, class_names)\n",
        "# create heatmap\n",
        "sns.heatmap(pd.DataFrame(cm), annot=True, cmap=\"BuPu\" ,fmt='g')\n",
        "ax.xaxis.set_label_position(\"top\")\n",
        "plt.tight_layout()\n",
        "plt.title('Confusion matrix', y=1.1)\n",
        "plt.ylabel('Actual label')\n",
        "plt.xlabel('Predicted label')"
      ]
    },
    {
      "cell_type": "code",
      "execution_count": null,
      "id": "5Hr8d3gaajUS",
      "metadata": {
        "id": "5Hr8d3gaajUS"
      },
      "outputs": [],
      "source": [
        "from sklearn.ensemble import RandomForestClassifier"
      ]
    },
    {
      "cell_type": "code",
      "execution_count": null,
      "id": "gK_J_HZOcQFI",
      "metadata": {
        "id": "gK_J_HZOcQFI"
      },
      "outputs": [],
      "source": [
        "rfc = RandomForestClassifier()"
      ]
    },
    {
      "cell_type": "code",
      "execution_count": null,
      "id": "3edHAzcdcS__",
      "metadata": {
        "colab": {
          "base_uri": "https://localhost:8080/",
          "height": 75
        },
        "id": "3edHAzcdcS__",
        "outputId": "8b644ca5-3fba-4247-d9b0-b435ed9f4cb4"
      },
      "outputs": [
        {
          "data": {
            "text/html": [
              "<style>#sk-container-id-4 {color: black;background-color: white;}#sk-container-id-4 pre{padding: 0;}#sk-container-id-4 div.sk-toggleable {background-color: white;}#sk-container-id-4 label.sk-toggleable__label {cursor: pointer;display: block;width: 100%;margin-bottom: 0;padding: 0.3em;box-sizing: border-box;text-align: center;}#sk-container-id-4 label.sk-toggleable__label-arrow:before {content: \"▸\";float: left;margin-right: 0.25em;color: #696969;}#sk-container-id-4 label.sk-toggleable__label-arrow:hover:before {color: black;}#sk-container-id-4 div.sk-estimator:hover label.sk-toggleable__label-arrow:before {color: black;}#sk-container-id-4 div.sk-toggleable__content {max-height: 0;max-width: 0;overflow: hidden;text-align: left;background-color: #f0f8ff;}#sk-container-id-4 div.sk-toggleable__content pre {margin: 0.2em;color: black;border-radius: 0.25em;background-color: #f0f8ff;}#sk-container-id-4 input.sk-toggleable__control:checked~div.sk-toggleable__content {max-height: 200px;max-width: 100%;overflow: auto;}#sk-container-id-4 input.sk-toggleable__control:checked~label.sk-toggleable__label-arrow:before {content: \"▾\";}#sk-container-id-4 div.sk-estimator input.sk-toggleable__control:checked~label.sk-toggleable__label {background-color: #d4ebff;}#sk-container-id-4 div.sk-label input.sk-toggleable__control:checked~label.sk-toggleable__label {background-color: #d4ebff;}#sk-container-id-4 input.sk-hidden--visually {border: 0;clip: rect(1px 1px 1px 1px);clip: rect(1px, 1px, 1px, 1px);height: 1px;margin: -1px;overflow: hidden;padding: 0;position: absolute;width: 1px;}#sk-container-id-4 div.sk-estimator {font-family: monospace;background-color: #f0f8ff;border: 1px dotted black;border-radius: 0.25em;box-sizing: border-box;margin-bottom: 0.5em;}#sk-container-id-4 div.sk-estimator:hover {background-color: #d4ebff;}#sk-container-id-4 div.sk-parallel-item::after {content: \"\";width: 100%;border-bottom: 1px solid gray;flex-grow: 1;}#sk-container-id-4 div.sk-label:hover label.sk-toggleable__label {background-color: #d4ebff;}#sk-container-id-4 div.sk-serial::before {content: \"\";position: absolute;border-left: 1px solid gray;box-sizing: border-box;top: 0;bottom: 0;left: 50%;z-index: 0;}#sk-container-id-4 div.sk-serial {display: flex;flex-direction: column;align-items: center;background-color: white;padding-right: 0.2em;padding-left: 0.2em;position: relative;}#sk-container-id-4 div.sk-item {position: relative;z-index: 1;}#sk-container-id-4 div.sk-parallel {display: flex;align-items: stretch;justify-content: center;background-color: white;position: relative;}#sk-container-id-4 div.sk-item::before, #sk-container-id-4 div.sk-parallel-item::before {content: \"\";position: absolute;border-left: 1px solid gray;box-sizing: border-box;top: 0;bottom: 0;left: 50%;z-index: -1;}#sk-container-id-4 div.sk-parallel-item {display: flex;flex-direction: column;z-index: 1;position: relative;background-color: white;}#sk-container-id-4 div.sk-parallel-item:first-child::after {align-self: flex-end;width: 50%;}#sk-container-id-4 div.sk-parallel-item:last-child::after {align-self: flex-start;width: 50%;}#sk-container-id-4 div.sk-parallel-item:only-child::after {width: 0;}#sk-container-id-4 div.sk-dashed-wrapped {border: 1px dashed gray;margin: 0 0.4em 0.5em 0.4em;box-sizing: border-box;padding-bottom: 0.4em;background-color: white;}#sk-container-id-4 div.sk-label label {font-family: monospace;font-weight: bold;display: inline-block;line-height: 1.2em;}#sk-container-id-4 div.sk-label-container {text-align: center;}#sk-container-id-4 div.sk-container {/* jupyter's `normalize.less` sets `[hidden] { display: none; }` but bootstrap.min.css set `[hidden] { display: none !important; }` so we also need the `!important` here to be able to override the default hidden behavior on the sphinx rendered scikit-learn.org. See: https://github.com/scikit-learn/scikit-learn/issues/21755 */display: inline-block !important;position: relative;}#sk-container-id-4 div.sk-text-repr-fallback {display: none;}</style><div id=\"sk-container-id-4\" class=\"sk-top-container\"><div class=\"sk-text-repr-fallback\"><pre>RandomForestClassifier()</pre><b>In a Jupyter environment, please rerun this cell to show the HTML representation or trust the notebook. <br />On GitHub, the HTML representation is unable to render, please try loading this page with nbviewer.org.</b></div><div class=\"sk-container\" hidden><div class=\"sk-item\"><div class=\"sk-estimator sk-toggleable\"><input class=\"sk-toggleable__control sk-hidden--visually\" id=\"sk-estimator-id-4\" type=\"checkbox\" checked><label for=\"sk-estimator-id-4\" class=\"sk-toggleable__label sk-toggleable__label-arrow\">RandomForestClassifier</label><div class=\"sk-toggleable__content\"><pre>RandomForestClassifier()</pre></div></div></div></div></div>"
            ],
            "text/plain": [
              "RandomForestClassifier()"
            ]
          },
          "execution_count": 50,
          "metadata": {},
          "output_type": "execute_result"
        }
      ],
      "source": [
        "rfc.fit(X_train, y_train)"
      ]
    },
    {
      "cell_type": "code",
      "execution_count": null,
      "id": "Mx1PYdyVcXZm",
      "metadata": {
        "id": "Mx1PYdyVcXZm"
      },
      "outputs": [],
      "source": [
        "y_preds = rfc.predict(X_val)"
      ]
    },
    {
      "cell_type": "code",
      "execution_count": null,
      "id": "bM0IsvevfC5p",
      "metadata": {
        "colab": {
          "base_uri": "https://localhost:8080/",
          "height": 568
        },
        "id": "bM0IsvevfC5p",
        "outputId": "76023e3c-e0c8-44b3-a851-2c398b1b4039"
      },
      "outputs": [
        {
          "data": {
            "text/plain": [
              "Text(0.5, 427.9555555555555, 'Predicted label')"
            ]
          },
          "execution_count": 52,
          "metadata": {},
          "output_type": "execute_result"
        },
        {
          "data": {
            "image/png": "[encoded data removed]",
            "text/plain": [
              "<Figure size 640x480 with 2 Axes>"
            ]
          },
          "metadata": {},
          "output_type": "display_data"
        }
      ],
      "source": [
        "cm = confusion_matrix(y_val,y_preds)\n",
        "class_names=[0,1] # name  of classes\n",
        "fig, ax = plt.subplots()\n",
        "tick_marks = np.arange(len(class_names))\n",
        "plt.xticks(tick_marks, class_names)\n",
        "plt.yticks(tick_marks, class_names)\n",
        "# create heatmap\n",
        "sns.heatmap(pd.DataFrame(cm), annot=True, cmap=\"BuPu\" ,fmt='g')\n",
        "ax.xaxis.set_label_position(\"top\")\n",
        "plt.tight_layout()\n",
        "plt.title('Confusion matrix', y=1.1)\n",
        "plt.ylabel('Actual label')\n",
        "plt.xlabel('Predicted label')"
      ]
    },
    {
      "cell_type": "code",
      "execution_count": null,
      "id": "Cvimt0qRfF0B",
      "metadata": {
        "colab": {
          "base_uri": "https://localhost:8080/"
        },
        "id": "Cvimt0qRfF0B",
        "outputId": "32a05633-6159-4bf5-d3ea-48940c54ffbe"
      },
      "outputs": [
        {
          "name": "stdout",
          "output_type": "stream",
          "text": [
            "              precision    recall  f1-score   support\n",
            "\n",
            "           0       0.95      0.94      0.94      6284\n",
            "           1       0.94      0.95      0.95      6593\n",
            "\n",
            "    accuracy                           0.95     12877\n",
            "   macro avg       0.95      0.95      0.95     12877\n",
            "weighted avg       0.95      0.95      0.95     12877\n",
            "\n"
          ]
        }
      ],
      "source": [
        "print(classification_report(y_val, y_preds))"
      ]
    },
    {
      "cell_type": "code",
      "execution_count": null,
      "id": "hNLId3vPfNBi",
      "metadata": {
        "id": "hNLId3vPfNBi"
      },
      "outputs": [],
      "source": [
        "from sklearn.linear_model import LogisticRegression"
      ]
    },
    {
      "cell_type": "code",
      "execution_count": null,
      "id": "vPNTI3yrfbxh",
      "metadata": {
        "colab": {
          "base_uri": "https://localhost:8080/",
          "height": 75
        },
        "id": "vPNTI3yrfbxh",
        "outputId": "68db09db-f693-484b-82a2-286ae35ab68f"
      },
      "outputs": [
        {
          "data": {
            "text/html": [
              "<style>#sk-container-id-5 {color: black;background-color: white;}#sk-container-id-5 pre{padding: 0;}#sk-container-id-5 div.sk-toggleable {background-color: white;}#sk-container-id-5 label.sk-toggleable__label {cursor: pointer;display: block;width: 100%;margin-bottom: 0;padding: 0.3em;box-sizing: border-box;text-align: center;}#sk-container-id-5 label.sk-toggleable__label-arrow:before {content: \"▸\";float: left;margin-right: 0.25em;color: #696969;}#sk-container-id-5 label.sk-toggleable__label-arrow:hover:before {color: black;}#sk-container-id-5 div.sk-estimator:hover label.sk-toggleable__label-arrow:before {color: black;}#sk-container-id-5 div.sk-toggleable__content {max-height: 0;max-width: 0;overflow: hidden;text-align: left;background-color: #f0f8ff;}#sk-container-id-5 div.sk-toggleable__content pre {margin: 0.2em;color: black;border-radius: 0.25em;background-color: #f0f8ff;}#sk-container-id-5 input.sk-toggleable__control:checked~div.sk-toggleable__content {max-height: 200px;max-width: 100%;overflow: auto;}#sk-container-id-5 input.sk-toggleable__control:checked~label.sk-toggleable__label-arrow:before {content: \"▾\";}#sk-container-id-5 div.sk-estimator input.sk-toggleable__control:checked~label.sk-toggleable__label {background-color: #d4ebff;}#sk-container-id-5 div.sk-label input.sk-toggleable__control:checked~label.sk-toggleable__label {background-color: #d4ebff;}#sk-container-id-5 input.sk-hidden--visually {border: 0;clip: rect(1px 1px 1px 1px);clip: rect(1px, 1px, 1px, 1px);height: 1px;margin: -1px;overflow: hidden;padding: 0;position: absolute;width: 1px;}#sk-container-id-5 div.sk-estimator {font-family: monospace;background-color: #f0f8ff;border: 1px dotted black;border-radius: 0.25em;box-sizing: border-box;margin-bottom: 0.5em;}#sk-container-id-5 div.sk-estimator:hover {background-color: #d4ebff;}#sk-container-id-5 div.sk-parallel-item::after {content: \"\";width: 100%;border-bottom: 1px solid gray;flex-grow: 1;}#sk-container-id-5 div.sk-label:hover label.sk-toggleable__label {background-color: #d4ebff;}#sk-container-id-5 div.sk-serial::before {content: \"\";position: absolute;border-left: 1px solid gray;box-sizing: border-box;top: 0;bottom: 0;left: 50%;z-index: 0;}#sk-container-id-5 div.sk-serial {display: flex;flex-direction: column;align-items: center;background-color: white;padding-right: 0.2em;padding-left: 0.2em;position: relative;}#sk-container-id-5 div.sk-item {position: relative;z-index: 1;}#sk-container-id-5 div.sk-parallel {display: flex;align-items: stretch;justify-content: center;background-color: white;position: relative;}#sk-container-id-5 div.sk-item::before, #sk-container-id-5 div.sk-parallel-item::before {content: \"\";position: absolute;border-left: 1px solid gray;box-sizing: border-box;top: 0;bottom: 0;left: 50%;z-index: -1;}#sk-container-id-5 div.sk-parallel-item {display: flex;flex-direction: column;z-index: 1;position: relative;background-color: white;}#sk-container-id-5 div.sk-parallel-item:first-child::after {align-self: flex-end;width: 50%;}#sk-container-id-5 div.sk-parallel-item:last-child::after {align-self: flex-start;width: 50%;}#sk-container-id-5 div.sk-parallel-item:only-child::after {width: 0;}#sk-container-id-5 div.sk-dashed-wrapped {border: 1px dashed gray;margin: 0 0.4em 0.5em 0.4em;box-sizing: border-box;padding-bottom: 0.4em;background-color: white;}#sk-container-id-5 div.sk-label label {font-family: monospace;font-weight: bold;display: inline-block;line-height: 1.2em;}#sk-container-id-5 div.sk-label-container {text-align: center;}#sk-container-id-5 div.sk-container {/* jupyter's `normalize.less` sets `[hidden] { display: none; }` but bootstrap.min.css set `[hidden] { display: none !important; }` so we also need the `!important` here to be able to override the default hidden behavior on the sphinx rendered scikit-learn.org. See: https://github.com/scikit-learn/scikit-learn/issues/21755 */display: inline-block !important;position: relative;}#sk-container-id-5 div.sk-text-repr-fallback {display: none;}</style><div id=\"sk-container-id-5\" class=\"sk-top-container\"><div class=\"sk-text-repr-fallback\"><pre>LogisticRegression()</pre><b>In a Jupyter environment, please rerun this cell to show the HTML representation or trust the notebook. <br />On GitHub, the HTML representation is unable to render, please try loading this page with nbviewer.org.</b></div><div class=\"sk-container\" hidden><div class=\"sk-item\"><div class=\"sk-estimator sk-toggleable\"><input class=\"sk-toggleable__control sk-hidden--visually\" id=\"sk-estimator-id-5\" type=\"checkbox\" checked><label for=\"sk-estimator-id-5\" class=\"sk-toggleable__label sk-toggleable__label-arrow\">LogisticRegression</label><div class=\"sk-toggleable__content\"><pre>LogisticRegression()</pre></div></div></div></div></div>"
            ],
            "text/plain": [
              "LogisticRegression()"
            ]
          },
          "execution_count": 56,
          "metadata": {},
          "output_type": "execute_result"
        }
      ],
      "source": [
        "lr = LogisticRegression()\n",
        "lr.fit(X_train, y_train)"
      ]
    },
    {
      "cell_type": "code",
      "execution_count": null,
      "id": "y0WYjqJpfjlH",
      "metadata": {
        "id": "y0WYjqJpfjlH"
      },
      "outputs": [],
      "source": [
        "y_preds = lr.predict(X_val)"
      ]
    },
    {
      "cell_type": "code",
      "execution_count": null,
      "id": "e36awdncjn1f",
      "metadata": {
        "colab": {
          "base_uri": "https://localhost:8080/",
          "height": 568
        },
        "id": "e36awdncjn1f",
        "outputId": "ad756319-a476-4960-d546-9e8b427a8595"
      },
      "outputs": [
        {
          "data": {
            "text/plain": [
              "Text(0.5, 427.9555555555555, 'Predicted label')"
            ]
          },
          "execution_count": 58,
          "metadata": {},
          "output_type": "execute_result"
        },
        {
          "data": {
            "image/png": "[encoded data removed]",
            "text/plain": [
              "<Figure size 640x480 with 2 Axes>"
            ]
          },
          "metadata": {},
          "output_type": "display_data"
        }
      ],
      "source": [
        "cm = confusion_matrix(y_val,y_preds)\n",
        "class_names=[0,1] # name  of classes\n",
        "fig, ax = plt.subplots()\n",
        "tick_marks = np.arange(len(class_names))\n",
        "plt.xticks(tick_marks, class_names)\n",
        "plt.yticks(tick_marks, class_names)\n",
        "# create heatmap\n",
        "sns.heatmap(pd.DataFrame(cm), annot=True, cmap=\"BuPu\" ,fmt='g')\n",
        "ax.xaxis.set_label_position(\"top\")\n",
        "plt.tight_layout()\n",
        "plt.title('Confusion matrix', y=1.1)\n",
        "plt.ylabel('Actual label')\n",
        "plt.xlabel('Predicted label')"
      ]
    },
    {
      "cell_type": "code",
      "execution_count": null,
      "id": "mkMut7M1jqEQ",
      "metadata": {
        "colab": {
          "base_uri": "https://localhost:8080/"
        },
        "id": "mkMut7M1jqEQ",
        "outputId": "76c1dbe3-7c25-4958-c92b-373cb01fbcef"
      },
      "outputs": [
        {
          "name": "stdout",
          "output_type": "stream",
          "text": [
            "              precision    recall  f1-score   support\n",
            "\n",
            "           0       0.98      0.96      0.97      6284\n",
            "           1       0.96      0.98      0.97      6593\n",
            "\n",
            "    accuracy                           0.97     12877\n",
            "   macro avg       0.97      0.97      0.97     12877\n",
            "weighted avg       0.97      0.97      0.97     12877\n",
            "\n"
          ]
        }
      ],
      "source": [
        "print(classification_report(y_val, y_preds))"
      ]
    },
    {
      "cell_type": "code",
      "execution_count": null,
      "id": "bt8iSdyujwNP",
      "metadata": {
        "colab": {
          "base_uri": "https://localhost:8080/"
        },
        "id": "bt8iSdyujwNP",
        "outputId": "f1a8a536-8e43-4ace-a92b-de5c8f6c24a3"
      },
      "outputs": [
        {
          "name": "stdout",
          "output_type": "stream",
          "text": [
            "Looking in indexes: https://pypi.org/simple, https://us-python.pkg.dev/colab-wheels/public/simple/\n",
            "Requirement already satisfied: optuna in /usr/local/lib/python3.9/dist-packages (3.1.0)\n",
            "Requirement already satisfied: tqdm in /usr/local/lib/python3.9/dist-packages (from optuna) (4.65.0)\n",
            "Requirement already satisfied: alembic>=1.5.0 in /usr/local/lib/python3.9/dist-packages (from optuna) (1.10.3)\n",
            "Requirement already satisfied: colorlog in /usr/local/lib/python3.9/dist-packages (from optuna) (6.7.0)\n",
            "Requirement already satisfied: PyYAML in /usr/local/lib/python3.9/dist-packages (from optuna) (6.0)\n",
            "Requirement already satisfied: cmaes>=0.9.1 in /usr/local/lib/python3.9/dist-packages (from optuna) (0.9.1)\n",
            "Requirement already satisfied: sqlalchemy>=1.3.0 in /usr/local/lib/python3.9/dist-packages (from optuna) (1.4.47)\n",
            "Requirement already satisfied: packaging>=20.0 in /usr/local/lib/python3.9/dist-packages (from optuna) (23.0)\n",
            "Requirement already satisfied: numpy in /usr/local/lib/python3.9/dist-packages (from optuna) (1.22.4)\n",
            "Requirement already satisfied: Mako in /usr/local/lib/python3.9/dist-packages (from alembic>=1.5.0->optuna) (1.2.4)\n",
            "Requirement already satisfied: typing-extensions>=4 in /usr/local/lib/python3.9/dist-packages (from alembic>=1.5.0->optuna) (4.5.0)\n",
            "Requirement already satisfied: greenlet!=0.4.17 in /usr/local/lib/python3.9/dist-packages (from sqlalchemy>=1.3.0->optuna) (2.0.2)\n",
            "Requirement already satisfied: MarkupSafe>=0.9.2 in /usr/local/lib/python3.9/dist-packages (from Mako->alembic>=1.5.0->optuna) (2.1.2)\n"
          ]
        }
      ],
      "source": [
        "!pip install optuna"
      ]
    },
    {
      "cell_type": "code",
      "execution_count": null,
      "id": "tl8JQ-WOm2Jf",
      "metadata": {
        "id": "tl8JQ-WOm2Jf"
      },
      "outputs": [],
      "source": [
        "import optuna"
      ]
    },
    {
      "cell_type": "code",
      "execution_count": null,
      "id": "QsonyQ_xC0dm",
      "metadata": {
        "id": "QsonyQ_xC0dm"
      },
      "outputs": [],
      "source": [
        "lr = LogisticRegression()"
      ]
    },
    {
      "cell_type": "code",
      "execution_count": null,
      "id": "pm6BsQwynxft",
      "metadata": {
        "id": "pm6BsQwynxft"
      },
      "outputs": [],
      "source": [
        "param_distributions = {\n",
        "    'penalty': optuna.distributions.CategoricalDistribution(['l1', 'l2']),\n",
        "    # 'tol': optuna.distributions.FloatDistribution(1e-5, 1e-3, log=True),\n",
        "    'C': optuna.distributions.FloatDistribution(1e-10, 1e10, log=True),\n",
        "    'solver': optuna.distributions.CategoricalDistribution(['liblinear', 'saga']),\n",
        "    # 'random_state': optuna.distributions.IntDistribution(42, 42),\n",
        "    # 'max_iter': optuna.distributions.IntDistribution(50, 150, step=10),\n",
        "}"
      ]
    },
    {
      "cell_type": "code",
      "execution_count": null,
      "id": "82D7ykKZw8gp",
      "metadata": {
        "colab": {
          "base_uri": "https://localhost:8080/"
        },
        "id": "82D7ykKZw8gp",
        "outputId": "aa536cc0-f049-4309-c968-f3ae9efee3a0"
      },
      "outputs": [
        {
          "name": "stderr",
          "output_type": "stream",
          "text": [
            "<ipython-input-22-a617f72bf59a>:1: ExperimentalWarning: OptunaSearchCV is experimental (supported from v0.17.0). The interface can change in the future.\n",
            "  optuna_search = optuna.integration.OptunaSearchCV(lr, param_distributions, random_state=42)\n"
          ]
        }
      ],
      "source": [
        "optuna_search = optuna.integration.OptunaSearchCV(lr, param_distributions, random_state=42)"
      ]
    },
    {
      "cell_type": "code",
      "execution_count": null,
      "id": "kIo5_28TxVzR",
      "metadata": {
        "colab": {
          "base_uri": "https://localhost:8080/",
          "height": 1000
        },
        "id": "kIo5_28TxVzR",
        "outputId": "7fe6823d-c774-412e-e0b1-ff62771277d6"
      },
      "outputs": [
        {
          "name": "stderr",
          "output_type": "stream",
          "text": [
            "\u001b[32m[I 2023-04-06 10:10:19,713]\u001b[0m A new study created in memory with name: no-name-25574041-488f-4f27-a223-ee7ecc48516a\u001b[0m\n",
            "/usr/local/lib/python3.9/dist-packages/sklearn/linear_model/_sag.py:350: ConvergenceWarning: The max_iter was reached which means the coef_ did not converge\n",
            "  warnings.warn(\n",
            "/usr/local/lib/python3.9/dist-packages/sklearn/linear_model/_sag.py:350: ConvergenceWarning: The max_iter was reached which means the coef_ did not converge\n",
            "  warnings.warn(\n",
            "/usr/local/lib/python3.9/dist-packages/sklearn/linear_model/_sag.py:350: ConvergenceWarning: The max_iter was reached which means the coef_ did not converge\n",
            "  warnings.warn(\n",
            "/usr/local/lib/python3.9/dist-packages/sklearn/linear_model/_sag.py:350: ConvergenceWarning: The max_iter was reached which means the coef_ did not converge\n",
            "  warnings.warn(\n",
            "/usr/local/lib/python3.9/dist-packages/sklearn/linear_model/_sag.py:350: ConvergenceWarning: The max_iter was reached which means the coef_ did not converge\n",
            "  warnings.warn(\n",
            "\u001b[32m[I 2023-04-06 10:26:12,672]\u001b[0m Trial 0 finished with value: 0.5110860874514617 and parameters: {'penalty': 'l2', 'C': 2.4045112728192066e-09, 'solver': 'saga', 'random_state': 42}. Best is trial 0 with value: 0.5110860874514617.\u001b[0m\n",
            "\u001b[32m[I 2023-04-06 10:26:14,761]\u001b[0m Trial 1 finished with value: 0.5022135921912914 and parameters: {'penalty': 'l1', 'C': 2.1624036183496124e-07, 'solver': 'saga', 'random_state': 42}. Best is trial 0 with value: 0.5110860874514617.\u001b[0m\n",
            "\u001b[32m[I 2023-04-06 10:26:43,483]\u001b[0m Trial 2 finished with value: 0.9681784800509894 and parameters: {'penalty': 'l2', 'C': 1.360480384512489, 'solver': 'saga', 'random_state': 42}. Best is trial 2 with value: 0.9681784800509894.\u001b[0m\n",
            "/usr/local/lib/python3.9/dist-packages/sklearn/linear_model/_sag.py:350: ConvergenceWarning: The max_iter was reached which means the coef_ did not converge\n",
            "  warnings.warn(\n",
            "/usr/local/lib/python3.9/dist-packages/sklearn/linear_model/_sag.py:350: ConvergenceWarning: The max_iter was reached which means the coef_ did not converge\n",
            "  warnings.warn(\n",
            "/usr/local/lib/python3.9/dist-packages/sklearn/linear_model/_sag.py:350: ConvergenceWarning: The max_iter was reached which means the coef_ did not converge\n",
            "  warnings.warn(\n",
            "/usr/local/lib/python3.9/dist-packages/sklearn/linear_model/_sag.py:350: ConvergenceWarning: The max_iter was reached which means the coef_ did not converge\n",
            "  warnings.warn(\n",
            "/usr/local/lib/python3.9/dist-packages/sklearn/linear_model/_sag.py:350: ConvergenceWarning: The max_iter was reached which means the coef_ did not converge\n",
            "  warnings.warn(\n",
            "\u001b[32m[I 2023-04-06 10:29:10,151]\u001b[0m Trial 3 finished with value: 0.9755756768822037 and parameters: {'penalty': 'l2', 'C': 2984380549.484167, 'solver': 'saga', 'random_state': 42}. Best is trial 3 with value: 0.9755756768822037.\u001b[0m\n",
            "/usr/local/lib/python3.9/dist-packages/sklearn/linear_model/_sag.py:350: ConvergenceWarning: The max_iter was reached which means the coef_ did not converge\n",
            "  warnings.warn(\n",
            "/usr/local/lib/python3.9/dist-packages/sklearn/linear_model/_sag.py:350: ConvergenceWarning: The max_iter was reached which means the coef_ did not converge\n",
            "  warnings.warn(\n",
            "/usr/local/lib/python3.9/dist-packages/sklearn/linear_model/_sag.py:350: ConvergenceWarning: The max_iter was reached which means the coef_ did not converge\n",
            "  warnings.warn(\n",
            "/usr/local/lib/python3.9/dist-packages/sklearn/linear_model/_sag.py:350: ConvergenceWarning: The max_iter was reached which means the coef_ did not converge\n",
            "  warnings.warn(\n",
            "/usr/local/lib/python3.9/dist-packages/sklearn/linear_model/_sag.py:350: ConvergenceWarning: The max_iter was reached which means the coef_ did not converge\n",
            "  warnings.warn(\n",
            "\u001b[32m[I 2023-04-06 10:31:45,965]\u001b[0m Trial 4 finished with value: 0.9755756768822037 and parameters: {'penalty': 'l2', 'C': 48703448.629696384, 'solver': 'saga', 'random_state': 42}. Best is trial 3 with value: 0.9755756768822037.\u001b[0m\n",
            "\u001b[32m[I 2023-04-06 10:32:30,239]\u001b[0m Trial 5 finished with value: 0.9713625860436054 and parameters: {'penalty': 'l2', 'C': 2.898753199732279, 'solver': 'saga', 'random_state': 42}. Best is trial 3 with value: 0.9755756768822037.\u001b[0m\n",
            "\u001b[32m[I 2023-04-06 10:35:13,750]\u001b[0m Trial 6 finished with value: 0.5110860874514617 and parameters: {'penalty': 'l2', 'C': 1.928621217539528e-06, 'solver': 'saga', 'random_state': 42}. Best is trial 3 with value: 0.9755756768822037.\u001b[0m\n",
            "\u001b[32m[I 2023-04-06 10:36:19,286]\u001b[0m Trial 7 finished with value: 0.9756727774515147 and parameters: {'penalty': 'l2', 'C': 22479581.926035672, 'solver': 'liblinear', 'random_state': 42}. Best is trial 7 with value: 0.9756727774515147.\u001b[0m\n",
            "\u001b[32m[I 2023-04-06 10:37:26,839]\u001b[0m Trial 8 finished with value: 0.9755368607779078 and parameters: {'penalty': 'l2', 'C': 142580997.01845825, 'solver': 'liblinear', 'random_state': 42}. Best is trial 7 with value: 0.9756727774515147.\u001b[0m\n",
            "/usr/local/lib/python3.9/dist-packages/sklearn/linear_model/_sag.py:350: ConvergenceWarning: The max_iter was reached which means the coef_ did not converge\n",
            "  warnings.warn(\n",
            "/usr/local/lib/python3.9/dist-packages/sklearn/linear_model/_sag.py:350: ConvergenceWarning: The max_iter was reached which means the coef_ did not converge\n",
            "  warnings.warn(\n",
            "/usr/local/lib/python3.9/dist-packages/sklearn/linear_model/_sag.py:350: ConvergenceWarning: The max_iter was reached which means the coef_ did not converge\n",
            "  warnings.warn(\n",
            "/usr/local/lib/python3.9/dist-packages/sklearn/linear_model/_sag.py:350: ConvergenceWarning: The max_iter was reached which means the coef_ did not converge\n",
            "  warnings.warn(\n",
            "\u001b[32m[I 2023-04-06 10:40:30,971]\u001b[0m Trial 9 finished with value: 0.9563739931271975 and parameters: {'penalty': 'l1', 'C': 0.3068879007563229, 'solver': 'saga', 'random_state': 42}. Best is trial 7 with value: 0.9756727774515147.\u001b[0m\n"
          ]
        },
        {
          "data": {
            "text/html": [
              "<style>#sk-container-id-1 {color: black;background-color: white;}#sk-container-id-1 pre{padding: 0;}#sk-container-id-1 div.sk-toggleable {background-color: white;}#sk-container-id-1 label.sk-toggleable__label {cursor: pointer;display: block;width: 100%;margin-bottom: 0;padding: 0.3em;box-sizing: border-box;text-align: center;}#sk-container-id-1 label.sk-toggleable__label-arrow:before {content: \"▸\";float: left;margin-right: 0.25em;color: #696969;}#sk-container-id-1 label.sk-toggleable__label-arrow:hover:before {color: black;}#sk-container-id-1 div.sk-estimator:hover label.sk-toggleable__label-arrow:before {color: black;}#sk-container-id-1 div.sk-toggleable__content {max-height: 0;max-width: 0;overflow: hidden;text-align: left;background-color: #f0f8ff;}#sk-container-id-1 div.sk-toggleable__content pre {margin: 0.2em;color: black;border-radius: 0.25em;background-color: #f0f8ff;}#sk-container-id-1 input.sk-toggleable__control:checked~div.sk-toggleable__content {max-height: 200px;max-width: 100%;overflow: auto;}#sk-container-id-1 input.sk-toggleable__control:checked~label.sk-toggleable__label-arrow:before {content: \"▾\";}#sk-container-id-1 div.sk-estimator input.sk-toggleable__control:checked~label.sk-toggleable__label {background-color: #d4ebff;}#sk-container-id-1 div.sk-label input.sk-toggleable__control:checked~label.sk-toggleable__label {background-color: #d4ebff;}#sk-container-id-1 input.sk-hidden--visually {border: 0;clip: rect(1px 1px 1px 1px);clip: rect(1px, 1px, 1px, 1px);height: 1px;margin: -1px;overflow: hidden;padding: 0;position: absolute;width: 1px;}#sk-container-id-1 div.sk-estimator {font-family: monospace;background-color: #f0f8ff;border: 1px dotted black;border-radius: 0.25em;box-sizing: border-box;margin-bottom: 0.5em;}#sk-container-id-1 div.sk-estimator:hover {background-color: #d4ebff;}#sk-container-id-1 div.sk-parallel-item::after {content: \"\";width: 100%;border-bottom: 1px solid gray;flex-grow: 1;}#sk-container-id-1 div.sk-label:hover label.sk-toggleable__label {background-color: #d4ebff;}#sk-container-id-1 div.sk-serial::before {content: \"\";position: absolute;border-left: 1px solid gray;box-sizing: border-box;top: 0;bottom: 0;left: 50%;z-index: 0;}#sk-container-id-1 div.sk-serial {display: flex;flex-direction: column;align-items: center;background-color: white;padding-right: 0.2em;padding-left: 0.2em;position: relative;}#sk-container-id-1 div.sk-item {position: relative;z-index: 1;}#sk-container-id-1 div.sk-parallel {display: flex;align-items: stretch;justify-content: center;background-color: white;position: relative;}#sk-container-id-1 div.sk-item::before, #sk-container-id-1 div.sk-parallel-item::before {content: \"\";position: absolute;border-left: 1px solid gray;box-sizing: border-box;top: 0;bottom: 0;left: 50%;z-index: -1;}#sk-container-id-1 div.sk-parallel-item {display: flex;flex-direction: column;z-index: 1;position: relative;background-color: white;}#sk-container-id-1 div.sk-parallel-item:first-child::after {align-self: flex-end;width: 50%;}#sk-container-id-1 div.sk-parallel-item:last-child::after {align-self: flex-start;width: 50%;}#sk-container-id-1 div.sk-parallel-item:only-child::after {width: 0;}#sk-container-id-1 div.sk-dashed-wrapped {border: 1px dashed gray;margin: 0 0.4em 0.5em 0.4em;box-sizing: border-box;padding-bottom: 0.4em;background-color: white;}#sk-container-id-1 div.sk-label label {font-family: monospace;font-weight: bold;display: inline-block;line-height: 1.2em;}#sk-container-id-1 div.sk-label-container {text-align: center;}#sk-container-id-1 div.sk-container {/* jupyter's `normalize.less` sets `[hidden] { display: none; }` but bootstrap.min.css set `[hidden] { display: none !important; }` so we also need the `!important` here to be able to override the default hidden behavior on the sphinx rendered scikit-learn.org. See: https://github.com/scikit-learn/scikit-learn/issues/21755 */display: inline-block !important;position: relative;}#sk-container-id-1 div.sk-text-repr-fallback {display: none;}</style><div id=\"sk-container-id-1\" class=\"sk-top-container\"><div class=\"sk-text-repr-fallback\"><pre>OptunaSearchCV(estimator=LogisticRegression(),\n",
              "               param_distributions={&#x27;C&#x27;: FloatDistribution(high=10000000000.0, log=True, low=1e-10, step=None),\n",
              "                                    &#x27;penalty&#x27;: CategoricalDistribution(choices=(&#x27;l1&#x27;, &#x27;l2&#x27;)),\n",
              "                                    &#x27;random_state&#x27;: IntDistribution(high=42, log=False, low=42, step=1),\n",
              "                                    &#x27;solver&#x27;: CategoricalDistribution(choices=(&#x27;liblinear&#x27;, &#x27;saga&#x27;))},\n",
              "               random_state=42)</pre><b>In a Jupyter environment, please rerun this cell to show the HTML representation or trust the notebook. <br />On GitHub, the HTML representation is unable to render, please try loading this page with nbviewer.org.</b></div><div class=\"sk-container\" hidden><div class=\"sk-item sk-dashed-wrapped\"><div class=\"sk-label-container\"><div class=\"sk-label sk-toggleable\"><input class=\"sk-toggleable__control sk-hidden--visually\" id=\"sk-estimator-id-1\" type=\"checkbox\" ><label for=\"sk-estimator-id-1\" class=\"sk-toggleable__label sk-toggleable__label-arrow\">OptunaSearchCV</label><div class=\"sk-toggleable__content\"><pre>OptunaSearchCV(estimator=LogisticRegression(),\n",
              "               param_distributions={&#x27;C&#x27;: FloatDistribution(high=10000000000.0, log=True, low=1e-10, step=None),\n",
              "                                    &#x27;penalty&#x27;: CategoricalDistribution(choices=(&#x27;l1&#x27;, &#x27;l2&#x27;)),\n",
              "                                    &#x27;random_state&#x27;: IntDistribution(high=42, log=False, low=42, step=1),\n",
              "                                    &#x27;solver&#x27;: CategoricalDistribution(choices=(&#x27;liblinear&#x27;, &#x27;saga&#x27;))},\n",
              "               random_state=42)</pre></div></div></div><div class=\"sk-parallel\"><div class=\"sk-parallel-item\"><div class=\"sk-item\"><div class=\"sk-label-container\"><div class=\"sk-label sk-toggleable\"><input class=\"sk-toggleable__control sk-hidden--visually\" id=\"sk-estimator-id-2\" type=\"checkbox\" ><label for=\"sk-estimator-id-2\" class=\"sk-toggleable__label sk-toggleable__label-arrow\">estimator: LogisticRegression</label><div class=\"sk-toggleable__content\"><pre>LogisticRegression()</pre></div></div></div><div class=\"sk-serial\"><div class=\"sk-item\"><div class=\"sk-estimator sk-toggleable\"><input class=\"sk-toggleable__control sk-hidden--visually\" id=\"sk-estimator-id-3\" type=\"checkbox\" ><label for=\"sk-estimator-id-3\" class=\"sk-toggleable__label sk-toggleable__label-arrow\">LogisticRegression</label><div class=\"sk-toggleable__content\"><pre>LogisticRegression()</pre></div></div></div></div></div></div></div></div></div></div>"
            ],
            "text/plain": [
              "OptunaSearchCV(estimator=LogisticRegression(),\n",
              "               param_distributions={'C': FloatDistribution(high=10000000000.0, log=True, low=1e-10, step=None),\n",
              "                                    'penalty': CategoricalDistribution(choices=('l1', 'l2')),\n",
              "                                    'random_state': IntDistribution(high=42, log=False, low=42, step=1),\n",
              "                                    'solver': CategoricalDistribution(choices=('liblinear', 'saga'))},\n",
              "               random_state=42)"
            ]
          },
          "execution_count": 23,
          "metadata": {},
          "output_type": "execute_result"
        }
      ],
      "source": [
        "optuna_search.fit(X_train, y_train)"
      ]
    },
    {
      "cell_type": "code",
      "execution_count": null,
      "id": "gt-oT3YyxcAH",
      "metadata": {
        "id": "gt-oT3YyxcAH"
      },
      "outputs": [],
      "source": [
        "y_preds = optuna_search.best_estimator_.predict(X_test)"
      ]
    },
    {
      "cell_type": "code",
      "execution_count": null,
      "id": "b-hDdIPyNFwc",
      "metadata": {
        "colab": {
          "base_uri": "https://localhost:8080/",
          "height": 566
        },
        "id": "b-hDdIPyNFwc",
        "outputId": "abeee145-2eff-4c8b-a70e-adcff512f3ab"
      },
      "outputs": [
        {
          "data": {
            "text/plain": [
              "Text(0.5, 427.9555555555555, 'Predicted label')"
            ]
          },
          "execution_count": 29,
          "metadata": {},
          "output_type": "execute_result"
        },
        {
          "data": {
            "image/png": "[encoded data removed]",
            "text/plain": [
              "<Figure size 640x480 with 2 Axes>"
            ]
          },
          "metadata": {},
          "output_type": "display_data"
        }
      ],
      "source": [
        "cm = confusion_matrix(y_test,y_preds)\n",
        "class_names=[0,1] # name  of classes\n",
        "fig, ax = plt.subplots()\n",
        "tick_marks = np.arange(len(class_names))\n",
        "plt.xticks(tick_marks, class_names)\n",
        "plt.yticks(tick_marks, class_names)\n",
        "# create heatmap\n",
        "sns.heatmap(pd.DataFrame(cm), annot=True, cmap=\"BuPu\" ,fmt='g')\n",
        "ax.xaxis.set_label_position(\"top\")\n",
        "plt.tight_layout()\n",
        "plt.title('Confusion matrix', y=1.1)\n",
        "plt.ylabel('Actual label')\n",
        "plt.xlabel('Predicted label')"
      ]
    },
    {
      "cell_type": "code",
      "execution_count": null,
      "id": "7zLp4ucCN8GB",
      "metadata": {
        "colab": {
          "base_uri": "https://localhost:8080/"
        },
        "id": "7zLp4ucCN8GB",
        "outputId": "203c2ff8-46a2-42a5-e4f9-52c872ae63ae"
      },
      "outputs": [
        {
          "name": "stdout",
          "output_type": "stream",
          "text": [
            "              precision    recall  f1-score   support\n",
            "\n",
            "           0       0.98      0.97      0.98      3562\n",
            "           1       0.97      0.98      0.98      3592\n",
            "\n",
            "    accuracy                           0.98      7154\n",
            "   macro avg       0.98      0.98      0.98      7154\n",
            "weighted avg       0.98      0.98      0.98      7154\n",
            "\n"
          ]
        }
      ],
      "source": [
        "print(classification_report(y_test, y_preds))"
      ]
    },
    {
      "cell_type": "code",
      "execution_count": null,
      "id": "K_wZUlgtOQrV",
      "metadata": {
        "id": "K_wZUlgtOQrV"
      },
      "outputs": [],
      "source": [
        "from sklearn.metrics import accuracy_score, f1_score, roc_auc_score"
      ]
    },
    {
      "cell_type": "code",
      "execution_count": null,
      "id": "0JZpnjGTOGI_",
      "metadata": {
        "colab": {
          "base_uri": "https://localhost:8080/"
        },
        "id": "0JZpnjGTOGI_",
        "outputId": "062bc80b-5a70-478d-f92e-6e61d6183641"
      },
      "outputs": [
        {
          "data": {
            "text/plain": [
              "0.9774951076320939"
            ]
          },
          "execution_count": 35,
          "metadata": {},
          "output_type": "execute_result"
        }
      ],
      "source": [
        "accuracy_score(y_test, y_preds)"
      ]
    },
    {
      "cell_type": "code",
      "execution_count": null,
      "id": "vyTnWopHOKZI",
      "metadata": {
        "colab": {
          "base_uri": "https://localhost:8080/"
        },
        "id": "vyTnWopHOKZI",
        "outputId": "74ad9fe0-96b4-4638-f2ae-74df80852dff"
      },
      "outputs": [
        {
          "data": {
            "text/plain": [
              "0.9776915615906886"
            ]
          },
          "execution_count": 36,
          "metadata": {},
          "output_type": "execute_result"
        }
      ],
      "source": [
        "f1_score(y_test, y_preds)"
      ]
    },
    {
      "cell_type": "code",
      "execution_count": null,
      "id": "lAaTNp-MRMNu",
      "metadata": {
        "colab": {
          "base_uri": "https://localhost:8080/"
        },
        "id": "lAaTNp-MRMNu",
        "outputId": "6fbe63b9-c3e8-4460-88c7-9d9ddcaffa53"
      },
      "outputs": [
        {
          "data": {
            "text/plain": [
              "0.9774753679334824"
            ]
          },
          "execution_count": 39,
          "metadata": {},
          "output_type": "execute_result"
        }
      ],
      "source": [
        "roc_auc_score(y_test, y_preds)"
      ]
    },
    {
      "cell_type": "code",
      "execution_count": null,
      "id": "Wzd_x2aKOZFP",
      "metadata": {
        "id": "Wzd_x2aKOZFP"
      },
      "outputs": [],
      "source": [
        "df_X, df_y = df['title'], df['label']"
      ]
    },
    {
      "cell_type": "code",
      "execution_count": null,
      "id": "gjHYW3UROrSc",
      "metadata": {
        "id": "gjHYW3UROrSc"
      },
      "outputs": [],
      "source": [
        "tfidf_vectorizer = TfidfVectorizer()\n",
        "df_X = tfidf_vectorizer.fit_transform"
      ]
    },
    {
      "cell_type": "code",
      "execution_count": null,
      "id": "m9d1eBvuOwKn",
      "metadata": {
        "id": "m9d1eBvuOwKn"
      },
      "outputs": [],
      "source": [
        "X_train, X_test, y_train, y_test = train_test_split(df_X, df_y, test_size=0.1, random_state=42, shuffle=True)\n",
        "X_train, X_val, y_train, y_val = train_test_split(X_train, y_train, test_size=0.2, random_state=42, shuffle=True)"
      ]
    }
  ],
  "metadata": {
    "colab": {
      "provenance": [],
      "toc_visible": true
    },
    "kernelspec": {
      "display_name": "Python 3 (ipykernel)",
      "language": "python",
      "name": "python3"
    },
    "language_info": {
      "codemirror_mode": {
        "name": "ipython",
        "version": 3
      },
      "file_extension": ".py",
      "mimetype": "text/x-python",
      "name": "python",
      "nbconvert_exporter": "python",
      "pygments_lexer": "ipython3",
      "version": "3.9.16"
    },
    "toc-autonumbering": false,
    "toc-showmarkdowntxt": true,
    "widgets": {
      "application/vnd.jupyter.widget-state+json": {
        "184b2c235b964f1e88e18d0ce00bb13a": {
          "model_module": "@jupyter-widgets/controls",
          "model_name": "HBoxModel",
          "model_module_version": "1.5.0",
          "state": {
            "_dom_classes": [],
            "_model_module": "@jupyter-widgets/controls",
            "_model_module_version": "1.5.0",
            "_model_name": "HBoxModel",
            "_view_count": null,
            "_view_module": "@jupyter-widgets/controls",
            "_view_module_version": "1.5.0",
            "_view_name": "HBoxView",
            "box_style": "",
            "children": [
              "IPY_MODEL_847c2f49061f468888f3824bf0fa04aa",
              "IPY_MODEL_70c418de48c34bed8c7d6654654453d0",
              "IPY_MODEL_d32ec5734a1e4e7abe13663aa325121d"
            ],
            "layout": "IPY_MODEL_1332b35bc17e4ca8aed318d9392f8840"
          }
        },
        "847c2f49061f468888f3824bf0fa04aa": {
          "model_module": "@jupyter-widgets/controls",
          "model_name": "HTMLModel",
          "model_module_version": "1.5.0",
          "state": {
            "_dom_classes": [],
            "_model_module": "@jupyter-widgets/controls",
            "_model_module_version": "1.5.0",
            "_model_name": "HTMLModel",
            "_view_count": null,
            "_view_module": "@jupyter-widgets/controls",
            "_view_module_version": "1.5.0",
            "_view_name": "HTMLView",
            "description": "",
            "description_tooltip": null,
            "layout": "IPY_MODEL_a49feb2961bc437089b9518b3e448d59",
            "placeholder": "​",
            "style": "IPY_MODEL_a6df7201363b4a53a3a5c3e280c82fca",
            "value": "100%"
          }
        },
        "70c418de48c34bed8c7d6654654453d0": {
          "model_module": "@jupyter-widgets/controls",
          "model_name": "FloatProgressModel",
          "model_module_version": "1.5.0",
          "state": {
            "_dom_classes": [],
            "_model_module": "@jupyter-widgets/controls",
            "_model_module_version": "1.5.0",
            "_model_name": "FloatProgressModel",
            "_view_count": null,
            "_view_module": "@jupyter-widgets/controls",
            "_view_module_version": "1.5.0",
            "_view_name": "ProgressView",
            "bar_style": "success",
            "description": "",
            "description_tooltip": null,
            "layout": "IPY_MODEL_45c5a8d9b1c641c19995a9a1c264467d",
            "max": 51,
            "min": 0,
            "orientation": "horizontal",
            "style": "IPY_MODEL_ef175000b33c4db9ae2c89e3d23ef377",
            "value": 51
          }
        },
        "d32ec5734a1e4e7abe13663aa325121d": {
          "model_module": "@jupyter-widgets/controls",
          "model_name": "HTMLModel",
          "model_module_version": "1.5.0",
          "state": {
            "_dom_classes": [],
            "_model_module": "@jupyter-widgets/controls",
            "_model_module_version": "1.5.0",
            "_model_name": "HTMLModel",
            "_view_count": null,
            "_view_module": "@jupyter-widgets/controls",
            "_view_module_version": "1.5.0",
            "_view_name": "HTMLView",
            "description": "",
            "description_tooltip": null,
            "layout": "IPY_MODEL_4b710ef1aa03472dbb75481eb990bc53",
            "placeholder": "​",
            "style": "IPY_MODEL_ac0a6e3763634d1daf65db139cf384ba",
            "value": " 51/51 [01:35&lt;00:00,  1.71s/it]"
          }
        },
        "1332b35bc17e4ca8aed318d9392f8840": {
          "model_module": "@jupyter-widgets/base",
          "model_name": "LayoutModel",
          "model_module_version": "1.2.0",
          "state": {
            "_model_module": "@jupyter-widgets/base",
            "_model_module_version": "1.2.0",
            "_model_name": "LayoutModel",
            "_view_count": null,
            "_view_module": "@jupyter-widgets/base",
            "_view_module_version": "1.2.0",
            "_view_name": "LayoutView",
            "align_content": null,
            "align_items": null,
            "align_self": null,
            "border": null,
            "bottom": null,
            "display": null,
            "flex": null,
            "flex_flow": null,
            "grid_area": null,
            "grid_auto_columns": null,
            "grid_auto_flow": null,
            "grid_auto_rows": null,
            "grid_column": null,
            "grid_gap": null,
            "grid_row": null,
            "grid_template_areas": null,
            "grid_template_columns": null,
            "grid_template_rows": null,
            "height": null,
            "justify_content": null,
            "justify_items": null,
            "left": null,
            "margin": null,
            "max_height": null,
            "max_width": null,
            "min_height": null,
            "min_width": null,
            "object_fit": null,
            "object_position": null,
            "order": null,
            "overflow": null,
            "overflow_x": null,
            "overflow_y": null,
            "padding": null,
            "right": null,
            "top": null,
            "visibility": null,
            "width": null
          }
        },
        "a49feb2961bc437089b9518b3e448d59": {
          "model_module": "@jupyter-widgets/base",
          "model_name": "LayoutModel",
          "model_module_version": "1.2.0",
          "state": {
            "_model_module": "@jupyter-widgets/base",
            "_model_module_version": "1.2.0",
            "_model_name": "LayoutModel",
            "_view_count": null,
            "_view_module": "@jupyter-widgets/base",
            "_view_module_version": "1.2.0",
            "_view_name": "LayoutView",
            "align_content": null,
            "align_items": null,
            "align_self": null,
            "border": null,
            "bottom": null,
            "display": null,
            "flex": null,
            "flex_flow": null,
            "grid_area": null,
            "grid_auto_columns": null,
            "grid_auto_flow": null,
            "grid_auto_rows": null,
            "grid_column": null,
            "grid_gap": null,
            "grid_row": null,
            "grid_template_areas": null,
            "grid_template_columns": null,
            "grid_template_rows": null,
            "height": null,
            "justify_content": null,
            "justify_items": null,
            "left": null,
            "margin": null,
            "max_height": null,
            "max_width": null,
            "min_height": null,
            "min_width": null,
            "object_fit": null,
            "object_position": null,
            "order": null,
            "overflow": null,
            "overflow_x": null,
            "overflow_y": null,
            "padding": null,
            "right": null,
            "top": null,
            "visibility": null,
            "width": null
          }
        },
        "a6df7201363b4a53a3a5c3e280c82fca": {
          "model_module": "@jupyter-widgets/controls",
          "model_name": "DescriptionStyleModel",
          "model_module_version": "1.5.0",
          "state": {
            "_model_module": "@jupyter-widgets/controls",
            "_model_module_version": "1.5.0",
            "_model_name": "DescriptionStyleModel",
            "_view_count": null,
            "_view_module": "@jupyter-widgets/base",
            "_view_module_version": "1.2.0",
            "_view_name": "StyleView",
            "description_width": ""
          }
        },
        "45c5a8d9b1c641c19995a9a1c264467d": {
          "model_module": "@jupyter-widgets/base",
          "model_name": "LayoutModel",
          "model_module_version": "1.2.0",
          "state": {
            "_model_module": "@jupyter-widgets/base",
            "_model_module_version": "1.2.0",
            "_model_name": "LayoutModel",
            "_view_count": null,
            "_view_module": "@jupyter-widgets/base",
            "_view_module_version": "1.2.0",
            "_view_name": "LayoutView",
            "align_content": null,
            "align_items": null,
            "align_self": null,
            "border": null,
            "bottom": null,
            "display": null,
            "flex": null,
            "flex_flow": null,
            "grid_area": null,
            "grid_auto_columns": null,
            "grid_auto_flow": null,
            "grid_auto_rows": null,
            "grid_column": null,
            "grid_gap": null,
            "grid_row": null,
            "grid_template_areas": null,
            "grid_template_columns": null,
            "grid_template_rows": null,
            "height": null,
            "justify_content": null,
            "justify_items": null,
            "left": null,
            "margin": null,
            "max_height": null,
            "max_width": null,
            "min_height": null,
            "min_width": null,
            "object_fit": null,
            "object_position": null,
            "order": null,
            "overflow": null,
            "overflow_x": null,
            "overflow_y": null,
            "padding": null,
            "right": null,
            "top": null,
            "visibility": null,
            "width": null
          }
        },
        "ef175000b33c4db9ae2c89e3d23ef377": {
          "model_module": "@jupyter-widgets/controls",
          "model_name": "ProgressStyleModel",
          "model_module_version": "1.5.0",
          "state": {
            "_model_module": "@jupyter-widgets/controls",
            "_model_module_version": "1.5.0",
            "_model_name": "ProgressStyleModel",
            "_view_count": null,
            "_view_module": "@jupyter-widgets/base",
            "_view_module_version": "1.2.0",
            "_view_name": "StyleView",
            "bar_color": null,
            "description_width": ""
          }
        },
        "4b710ef1aa03472dbb75481eb990bc53": {
          "model_module": "@jupyter-widgets/base",
          "model_name": "LayoutModel",
          "model_module_version": "1.2.0",
          "state": {
            "_model_module": "@jupyter-widgets/base",
            "_model_module_version": "1.2.0",
            "_model_name": "LayoutModel",
            "_view_count": null,
            "_view_module": "@jupyter-widgets/base",
            "_view_module_version": "1.2.0",
            "_view_name": "LayoutView",
            "align_content": null,
            "align_items": null,
            "align_self": null,
            "border": null,
            "bottom": null,
            "display": null,
            "flex": null,
            "flex_flow": null,
            "grid_area": null,
            "grid_auto_columns": null,
            "grid_auto_flow": null,
            "grid_auto_rows": null,
            "grid_column": null,
            "grid_gap": null,
            "grid_row": null,
            "grid_template_areas": null,
            "grid_template_columns": null,
            "grid_template_rows": null,
            "height": null,
            "justify_content": null,
            "justify_items": null,
            "left": null,
            "margin": null,
            "max_height": null,
            "max_width": null,
            "min_height": null,
            "min_width": null,
            "object_fit": null,
            "object_position": null,
            "order": null,
            "overflow": null,
            "overflow_x": null,
            "overflow_y": null,
            "padding": null,
            "right": null,
            "top": null,
            "visibility": null,
            "width": null
          }
        },
        "ac0a6e3763634d1daf65db139cf384ba": {
          "model_module": "@jupyter-widgets/controls",
          "model_name": "DescriptionStyleModel",
          "model_module_version": "1.5.0",
          "state": {
            "_model_module": "@jupyter-widgets/controls",
            "_model_module_version": "1.5.0",
            "_model_name": "DescriptionStyleModel",
            "_view_count": null,
            "_view_module": "@jupyter-widgets/base",
            "_view_module_version": "1.2.0",
            "_view_name": "StyleView",
            "description_width": ""
          }
        },
        "2f9493db7a504f43ab73f43175f52a5e": {
          "model_module": "@jupyter-widgets/controls",
          "model_name": "HBoxModel",
          "model_module_version": "1.5.0",
          "state": {
            "_dom_classes": [],
            "_model_module": "@jupyter-widgets/controls",
            "_model_module_version": "1.5.0",
            "_model_name": "HBoxModel",
            "_view_count": null,
            "_view_module": "@jupyter-widgets/controls",
            "_view_module_version": "1.5.0",
            "_view_name": "HBoxView",
            "box_style": "",
            "children": [
              "IPY_MODEL_30bf225426714091a44ff89a117a4103",
              "IPY_MODEL_91de9c4de9d746568de0c672ebb2ec41",
              "IPY_MODEL_6a9c23a382d34e22ba5b291b9867dbc5"
            ],
            "layout": "IPY_MODEL_87b2629542d54228b45f8534a9d1096c"
          }
        },
        "30bf225426714091a44ff89a117a4103": {
          "model_module": "@jupyter-widgets/controls",
          "model_name": "HTMLModel",
          "model_module_version": "1.5.0",
          "state": {
            "_dom_classes": [],
            "_model_module": "@jupyter-widgets/controls",
            "_model_module_version": "1.5.0",
            "_model_name": "HTMLModel",
            "_view_count": null,
            "_view_module": "@jupyter-widgets/controls",
            "_view_module_version": "1.5.0",
            "_view_name": "HTMLView",
            "description": "",
            "description_tooltip": null,
            "layout": "IPY_MODEL_7550ff91303944edb8653f3f61303113",
            "placeholder": "​",
            "style": "IPY_MODEL_e260cc69e01648a189fa52a75878075f",
            "value": "100%"
          }
        },
        "91de9c4de9d746568de0c672ebb2ec41": {
          "model_module": "@jupyter-widgets/controls",
          "model_name": "FloatProgressModel",
          "model_module_version": "1.5.0",
          "state": {
            "_dom_classes": [],
            "_model_module": "@jupyter-widgets/controls",
            "_model_module_version": "1.5.0",
            "_model_name": "FloatProgressModel",
            "_view_count": null,
            "_view_module": "@jupyter-widgets/controls",
            "_view_module_version": "1.5.0",
            "_view_name": "ProgressView",
            "bar_style": "success",
            "description": "",
            "description_tooltip": null,
            "layout": "IPY_MODEL_bd204e9b6a60440d9026b4ca1e56024a",
            "max": 51,
            "min": 0,
            "orientation": "horizontal",
            "style": "IPY_MODEL_32b508c8bea84b7e9b7bfc46469865a0",
            "value": 51
          }
        },
        "6a9c23a382d34e22ba5b291b9867dbc5": {
          "model_module": "@jupyter-widgets/controls",
          "model_name": "HTMLModel",
          "model_module_version": "1.5.0",
          "state": {
            "_dom_classes": [],
            "_model_module": "@jupyter-widgets/controls",
            "_model_module_version": "1.5.0",
            "_model_name": "HTMLModel",
            "_view_count": null,
            "_view_module": "@jupyter-widgets/controls",
            "_view_module_version": "1.5.0",
            "_view_name": "HTMLView",
            "description": "",
            "description_tooltip": null,
            "layout": "IPY_MODEL_10884aad8c3947d2b77a21043def9078",
            "placeholder": "​",
            "style": "IPY_MODEL_e5ec819f041e4fc09818a82f5bbf531c",
            "value": " 51/51 [01:35&lt;00:00,  1.66s/it]"
          }
        },
        "87b2629542d54228b45f8534a9d1096c": {
          "model_module": "@jupyter-widgets/base",
          "model_name": "LayoutModel",
          "model_module_version": "1.2.0",
          "state": {
            "_model_module": "@jupyter-widgets/base",
            "_model_module_version": "1.2.0",
            "_model_name": "LayoutModel",
            "_view_count": null,
            "_view_module": "@jupyter-widgets/base",
            "_view_module_version": "1.2.0",
            "_view_name": "LayoutView",
            "align_content": null,
            "align_items": null,
            "align_self": null,
            "border": null,
            "bottom": null,
            "display": null,
            "flex": null,
            "flex_flow": null,
            "grid_area": null,
            "grid_auto_columns": null,
            "grid_auto_flow": null,
            "grid_auto_rows": null,
            "grid_column": null,
            "grid_gap": null,
            "grid_row": null,
            "grid_template_areas": null,
            "grid_template_columns": null,
            "grid_template_rows": null,
            "height": null,
            "justify_content": null,
            "justify_items": null,
            "left": null,
            "margin": null,
            "max_height": null,
            "max_width": null,
            "min_height": null,
            "min_width": null,
            "object_fit": null,
            "object_position": null,
            "order": null,
            "overflow": null,
            "overflow_x": null,
            "overflow_y": null,
            "padding": null,
            "right": null,
            "top": null,
            "visibility": null,
            "width": null
          }
        },
        "7550ff91303944edb8653f3f61303113": {
          "model_module": "@jupyter-widgets/base",
          "model_name": "LayoutModel",
          "model_module_version": "1.2.0",
          "state": {
            "_model_module": "@jupyter-widgets/base",
            "_model_module_version": "1.2.0",
            "_model_name": "LayoutModel",
            "_view_count": null,
            "_view_module": "@jupyter-widgets/base",
            "_view_module_version": "1.2.0",
            "_view_name": "LayoutView",
            "align_content": null,
            "align_items": null,
            "align_self": null,
            "border": null,
            "bottom": null,
            "display": null,
            "flex": null,
            "flex_flow": null,
            "grid_area": null,
            "grid_auto_columns": null,
            "grid_auto_flow": null,
            "grid_auto_rows": null,
            "grid_column": null,
            "grid_gap": null,
            "grid_row": null,
            "grid_template_areas": null,
            "grid_template_columns": null,
            "grid_template_rows": null,
            "height": null,
            "justify_content": null,
            "justify_items": null,
            "left": null,
            "margin": null,
            "max_height": null,
            "max_width": null,
            "min_height": null,
            "min_width": null,
            "object_fit": null,
            "object_position": null,
            "order": null,
            "overflow": null,
            "overflow_x": null,
            "overflow_y": null,
            "padding": null,
            "right": null,
            "top": null,
            "visibility": null,
            "width": null
          }
        },
        "e260cc69e01648a189fa52a75878075f": {
          "model_module": "@jupyter-widgets/controls",
          "model_name": "DescriptionStyleModel",
          "model_module_version": "1.5.0",
          "state": {
            "_model_module": "@jupyter-widgets/controls",
            "_model_module_version": "1.5.0",
            "_model_name": "DescriptionStyleModel",
            "_view_count": null,
            "_view_module": "@jupyter-widgets/base",
            "_view_module_version": "1.2.0",
            "_view_name": "StyleView",
            "description_width": ""
          }
        },
        "bd204e9b6a60440d9026b4ca1e56024a": {
          "model_module": "@jupyter-widgets/base",
          "model_name": "LayoutModel",
          "model_module_version": "1.2.0",
          "state": {
            "_model_module": "@jupyter-widgets/base",
            "_model_module_version": "1.2.0",
            "_model_name": "LayoutModel",
            "_view_count": null,
            "_view_module": "@jupyter-widgets/base",
            "_view_module_version": "1.2.0",
            "_view_name": "LayoutView",
            "align_content": null,
            "align_items": null,
            "align_self": null,
            "border": null,
            "bottom": null,
            "display": null,
            "flex": null,
            "flex_flow": null,
            "grid_area": null,
            "grid_auto_columns": null,
            "grid_auto_flow": null,
            "grid_auto_rows": null,
            "grid_column": null,
            "grid_gap": null,
            "grid_row": null,
            "grid_template_areas": null,
            "grid_template_columns": null,
            "grid_template_rows": null,
            "height": null,
            "justify_content": null,
            "justify_items": null,
            "left": null,
            "margin": null,
            "max_height": null,
            "max_width": null,
            "min_height": null,
            "min_width": null,
            "object_fit": null,
            "object_position": null,
            "order": null,
            "overflow": null,
            "overflow_x": null,
            "overflow_y": null,
            "padding": null,
            "right": null,
            "top": null,
            "visibility": null,
            "width": null
          }
        },
        "32b508c8bea84b7e9b7bfc46469865a0": {
          "model_module": "@jupyter-widgets/controls",
          "model_name": "ProgressStyleModel",
          "model_module_version": "1.5.0",
          "state": {
            "_model_module": "@jupyter-widgets/controls",
            "_model_module_version": "1.5.0",
            "_model_name": "ProgressStyleModel",
            "_view_count": null,
            "_view_module": "@jupyter-widgets/base",
            "_view_module_version": "1.2.0",
            "_view_name": "StyleView",
            "bar_color": null,
            "description_width": ""
          }
        },
        "10884aad8c3947d2b77a21043def9078": {
          "model_module": "@jupyter-widgets/base",
          "model_name": "LayoutModel",
          "model_module_version": "1.2.0",
          "state": {
            "_model_module": "@jupyter-widgets/base",
            "_model_module_version": "1.2.0",
            "_model_name": "LayoutModel",
            "_view_count": null,
            "_view_module": "@jupyter-widgets/base",
            "_view_module_version": "1.2.0",
            "_view_name": "LayoutView",
            "align_content": null,
            "align_items": null,
            "align_self": null,
            "border": null,
            "bottom": null,
            "display": null,
            "flex": null,
            "flex_flow": null,
            "grid_area": null,
            "grid_auto_columns": null,
            "grid_auto_flow": null,
            "grid_auto_rows": null,
            "grid_column": null,
            "grid_gap": null,
            "grid_row": null,
            "grid_template_areas": null,
            "grid_template_columns": null,
            "grid_template_rows": null,
            "height": null,
            "justify_content": null,
            "justify_items": null,
            "left": null,
            "margin": null,
            "max_height": null,
            "max_width": null,
            "min_height": null,
            "min_width": null,
            "object_fit": null,
            "object_position": null,
            "order": null,
            "overflow": null,
            "overflow_x": null,
            "overflow_y": null,
            "padding": null,
            "right": null,
            "top": null,
            "visibility": null,
            "width": null
          }
        },
        "e5ec819f041e4fc09818a82f5bbf531c": {
          "model_module": "@jupyter-widgets/controls",
          "model_name": "DescriptionStyleModel",
          "model_module_version": "1.5.0",
          "state": {
            "_model_module": "@jupyter-widgets/controls",
            "_model_module_version": "1.5.0",
            "_model_name": "DescriptionStyleModel",
            "_view_count": null,
            "_view_module": "@jupyter-widgets/base",
            "_view_module_version": "1.2.0",
            "_view_name": "StyleView",
            "description_width": ""
          }
        },
        "47b4385d7c2d4be7b04843d4af27bb8c": {
          "model_module": "@jupyter-widgets/controls",
          "model_name": "HBoxModel",
          "model_module_version": "1.5.0",
          "state": {
            "_dom_classes": [],
            "_model_module": "@jupyter-widgets/controls",
            "_model_module_version": "1.5.0",
            "_model_name": "HBoxModel",
            "_view_count": null,
            "_view_module": "@jupyter-widgets/controls",
            "_view_module_version": "1.5.0",
            "_view_name": "HBoxView",
            "box_style": "",
            "children": [
              "IPY_MODEL_297b0502e5004ccbb9945628ef2c656a",
              "IPY_MODEL_d8a614e4305746079a48da00380e219d",
              "IPY_MODEL_72d6dd332c8c41e1b17225a8a0f97354"
            ],
            "layout": "IPY_MODEL_5dcdf2d0a8264c9f97d41f7e2368860d"
          }
        },
        "297b0502e5004ccbb9945628ef2c656a": {
          "model_module": "@jupyter-widgets/controls",
          "model_name": "HTMLModel",
          "model_module_version": "1.5.0",
          "state": {
            "_dom_classes": [],
            "_model_module": "@jupyter-widgets/controls",
            "_model_module_version": "1.5.0",
            "_model_name": "HTMLModel",
            "_view_count": null,
            "_view_module": "@jupyter-widgets/controls",
            "_view_module_version": "1.5.0",
            "_view_name": "HTMLView",
            "description": "",
            "description_tooltip": null,
            "layout": "IPY_MODEL_29c85c8cc8194105b69a986d010e39d3",
            "placeholder": "​",
            "style": "IPY_MODEL_b483bb36de164df180a6eabe4c3b4d59",
            "value": "100%"
          }
        },
        "d8a614e4305746079a48da00380e219d": {
          "model_module": "@jupyter-widgets/controls",
          "model_name": "FloatProgressModel",
          "model_module_version": "1.5.0",
          "state": {
            "_dom_classes": [],
            "_model_module": "@jupyter-widgets/controls",
            "_model_module_version": "1.5.0",
            "_model_name": "FloatProgressModel",
            "_view_count": null,
            "_view_module": "@jupyter-widgets/controls",
            "_view_module_version": "1.5.0",
            "_view_name": "ProgressView",
            "bar_style": "success",
            "description": "",
            "description_tooltip": null,
            "layout": "IPY_MODEL_1e6933938f124d2e805852c578eac4fc",
            "max": 51,
            "min": 0,
            "orientation": "horizontal",
            "style": "IPY_MODEL_ced453d7acbf466d865d4a9162f2a02c",
            "value": 51
          }
        },
        "72d6dd332c8c41e1b17225a8a0f97354": {
          "model_module": "@jupyter-widgets/controls",
          "model_name": "HTMLModel",
          "model_module_version": "1.5.0",
          "state": {
            "_dom_classes": [],
            "_model_module": "@jupyter-widgets/controls",
            "_model_module_version": "1.5.0",
            "_model_name": "HTMLModel",
            "_view_count": null,
            "_view_module": "@jupyter-widgets/controls",
            "_view_module_version": "1.5.0",
            "_view_name": "HTMLView",
            "description": "",
            "description_tooltip": null,
            "layout": "IPY_MODEL_6800affefcde4068b15bcfcab1e221a4",
            "placeholder": "​",
            "style": "IPY_MODEL_b0233896603a4ee491c71ac7624d5006",
            "value": " 51/51 [01:35&lt;00:00,  1.60s/it]"
          }
        },
        "5dcdf2d0a8264c9f97d41f7e2368860d": {
          "model_module": "@jupyter-widgets/base",
          "model_name": "LayoutModel",
          "model_module_version": "1.2.0",
          "state": {
            "_model_module": "@jupyter-widgets/base",
            "_model_module_version": "1.2.0",
            "_model_name": "LayoutModel",
            "_view_count": null,
            "_view_module": "@jupyter-widgets/base",
            "_view_module_version": "1.2.0",
            "_view_name": "LayoutView",
            "align_content": null,
            "align_items": null,
            "align_self": null,
            "border": null,
            "bottom": null,
            "display": null,
            "flex": null,
            "flex_flow": null,
            "grid_area": null,
            "grid_auto_columns": null,
            "grid_auto_flow": null,
            "grid_auto_rows": null,
            "grid_column": null,
            "grid_gap": null,
            "grid_row": null,
            "grid_template_areas": null,
            "grid_template_columns": null,
            "grid_template_rows": null,
            "height": null,
            "justify_content": null,
            "justify_items": null,
            "left": null,
            "margin": null,
            "max_height": null,
            "max_width": null,
            "min_height": null,
            "min_width": null,
            "object_fit": null,
            "object_position": null,
            "order": null,
            "overflow": null,
            "overflow_x": null,
            "overflow_y": null,
            "padding": null,
            "right": null,
            "top": null,
            "visibility": null,
            "width": null
          }
        },
        "29c85c8cc8194105b69a986d010e39d3": {
          "model_module": "@jupyter-widgets/base",
          "model_name": "LayoutModel",
          "model_module_version": "1.2.0",
          "state": {
            "_model_module": "@jupyter-widgets/base",
            "_model_module_version": "1.2.0",
            "_model_name": "LayoutModel",
            "_view_count": null,
            "_view_module": "@jupyter-widgets/base",
            "_view_module_version": "1.2.0",
            "_view_name": "LayoutView",
            "align_content": null,
            "align_items": null,
            "align_self": null,
            "border": null,
            "bottom": null,
            "display": null,
            "flex": null,
            "flex_flow": null,
            "grid_area": null,
            "grid_auto_columns": null,
            "grid_auto_flow": null,
            "grid_auto_rows": null,
            "grid_column": null,
            "grid_gap": null,
            "grid_row": null,
            "grid_template_areas": null,
            "grid_template_columns": null,
            "grid_template_rows": null,
            "height": null,
            "justify_content": null,
            "justify_items": null,
            "left": null,
            "margin": null,
            "max_height": null,
            "max_width": null,
            "min_height": null,
            "min_width": null,
            "object_fit": null,
            "object_position": null,
            "order": null,
            "overflow": null,
            "overflow_x": null,
            "overflow_y": null,
            "padding": null,
            "right": null,
            "top": null,
            "visibility": null,
            "width": null
          }
        },
        "b483bb36de164df180a6eabe4c3b4d59": {
          "model_module": "@jupyter-widgets/controls",
          "model_name": "DescriptionStyleModel",
          "model_module_version": "1.5.0",
          "state": {
            "_model_module": "@jupyter-widgets/controls",
            "_model_module_version": "1.5.0",
            "_model_name": "DescriptionStyleModel",
            "_view_count": null,
            "_view_module": "@jupyter-widgets/base",
            "_view_module_version": "1.2.0",
            "_view_name": "StyleView",
            "description_width": ""
          }
        },
        "1e6933938f124d2e805852c578eac4fc": {
          "model_module": "@jupyter-widgets/base",
          "model_name": "LayoutModel",
          "model_module_version": "1.2.0",
          "state": {
            "_model_module": "@jupyter-widgets/base",
            "_model_module_version": "1.2.0",
            "_model_name": "LayoutModel",
            "_view_count": null,
            "_view_module": "@jupyter-widgets/base",
            "_view_module_version": "1.2.0",
            "_view_name": "LayoutView",
            "align_content": null,
            "align_items": null,
            "align_self": null,
            "border": null,
            "bottom": null,
            "display": null,
            "flex": null,
            "flex_flow": null,
            "grid_area": null,
            "grid_auto_columns": null,
            "grid_auto_flow": null,
            "grid_auto_rows": null,
            "grid_column": null,
            "grid_gap": null,
            "grid_row": null,
            "grid_template_areas": null,
            "grid_template_columns": null,
            "grid_template_rows": null,
            "height": null,
            "justify_content": null,
            "justify_items": null,
            "left": null,
            "margin": null,
            "max_height": null,
            "max_width": null,
            "min_height": null,
            "min_width": null,
            "object_fit": null,
            "object_position": null,
            "order": null,
            "overflow": null,
            "overflow_x": null,
            "overflow_y": null,
            "padding": null,
            "right": null,
            "top": null,
            "visibility": null,
            "width": null
          }
        },
        "ced453d7acbf466d865d4a9162f2a02c": {
          "model_module": "@jupyter-widgets/controls",
          "model_name": "ProgressStyleModel",
          "model_module_version": "1.5.0",
          "state": {
            "_model_module": "@jupyter-widgets/controls",
            "_model_module_version": "1.5.0",
            "_model_name": "ProgressStyleModel",
            "_view_count": null,
            "_view_module": "@jupyter-widgets/base",
            "_view_module_version": "1.2.0",
            "_view_name": "StyleView",
            "bar_color": null,
            "description_width": ""
          }
        },
        "6800affefcde4068b15bcfcab1e221a4": {
          "model_module": "@jupyter-widgets/base",
          "model_name": "LayoutModel",
          "model_module_version": "1.2.0",
          "state": {
            "_model_module": "@jupyter-widgets/base",
            "_model_module_version": "1.2.0",
            "_model_name": "LayoutModel",
            "_view_count": null,
            "_view_module": "@jupyter-widgets/base",
            "_view_module_version": "1.2.0",
            "_view_name": "LayoutView",
            "align_content": null,
            "align_items": null,
            "align_self": null,
            "border": null,
            "bottom": null,
            "display": null,
            "flex": null,
            "flex_flow": null,
            "grid_area": null,
            "grid_auto_columns": null,
            "grid_auto_flow": null,
            "grid_auto_rows": null,
            "grid_column": null,
            "grid_gap": null,
            "grid_row": null,
            "grid_template_areas": null,
            "grid_template_columns": null,
            "grid_template_rows": null,
            "height": null,
            "justify_content": null,
            "justify_items": null,
            "left": null,
            "margin": null,
            "max_height": null,
            "max_width": null,
            "min_height": null,
            "min_width": null,
            "object_fit": null,
            "object_position": null,
            "order": null,
            "overflow": null,
            "overflow_x": null,
            "overflow_y": null,
            "padding": null,
            "right": null,
            "top": null,
            "visibility": null,
            "width": null
          }
        },
        "b0233896603a4ee491c71ac7624d5006": {
          "model_module": "@jupyter-widgets/controls",
          "model_name": "DescriptionStyleModel",
          "model_module_version": "1.5.0",
          "state": {
            "_model_module": "@jupyter-widgets/controls",
            "_model_module_version": "1.5.0",
            "_model_name": "DescriptionStyleModel",
            "_view_count": null,
            "_view_module": "@jupyter-widgets/base",
            "_view_module_version": "1.2.0",
            "_view_name": "StyleView",
            "description_width": ""
          }
        },
        "b86a37ac330f4ca79739c2fcacc448b9": {
          "model_module": "@jupyter-widgets/controls",
          "model_name": "HBoxModel",
          "model_module_version": "1.5.0",
          "state": {
            "_dom_classes": [],
            "_model_module": "@jupyter-widgets/controls",
            "_model_module_version": "1.5.0",
            "_model_name": "HBoxModel",
            "_view_count": null,
            "_view_module": "@jupyter-widgets/controls",
            "_view_module_version": "1.5.0",
            "_view_name": "HBoxView",
            "box_style": "",
            "children": [
              "IPY_MODEL_e99bfd936b6943ae921681ea3d37cab2",
              "IPY_MODEL_66a0e7de2e684e15aba450e77a6bc6a8",
              "IPY_MODEL_4ebbf29b5cee4622959a0eb6e28a5f44"
            ],
            "layout": "IPY_MODEL_263fb9d22727499ea458d56539006da5"
          }
        },
        "e99bfd936b6943ae921681ea3d37cab2": {
          "model_module": "@jupyter-widgets/controls",
          "model_name": "HTMLModel",
          "model_module_version": "1.5.0",
          "state": {
            "_dom_classes": [],
            "_model_module": "@jupyter-widgets/controls",
            "_model_module_version": "1.5.0",
            "_model_name": "HTMLModel",
            "_view_count": null,
            "_view_module": "@jupyter-widgets/controls",
            "_view_module_version": "1.5.0",
            "_view_name": "HTMLView",
            "description": "",
            "description_tooltip": null,
            "layout": "IPY_MODEL_30b0e488f2594472ad7a35c524157f56",
            "placeholder": "​",
            "style": "IPY_MODEL_a26f347299f74d079166d7e48426e983",
            "value": "100%"
          }
        },
        "66a0e7de2e684e15aba450e77a6bc6a8": {
          "model_module": "@jupyter-widgets/controls",
          "model_name": "FloatProgressModel",
          "model_module_version": "1.5.0",
          "state": {
            "_dom_classes": [],
            "_model_module": "@jupyter-widgets/controls",
            "_model_module_version": "1.5.0",
            "_model_name": "FloatProgressModel",
            "_view_count": null,
            "_view_module": "@jupyter-widgets/controls",
            "_view_module_version": "1.5.0",
            "_view_name": "ProgressView",
            "bar_style": "success",
            "description": "",
            "description_tooltip": null,
            "layout": "IPY_MODEL_49a64c1687304bb783c2998b7ee06fdf",
            "max": 51,
            "min": 0,
            "orientation": "horizontal",
            "style": "IPY_MODEL_fe697ead75084cfab77cab8faa86f741",
            "value": 51
          }
        },
        "4ebbf29b5cee4622959a0eb6e28a5f44": {
          "model_module": "@jupyter-widgets/controls",
          "model_name": "HTMLModel",
          "model_module_version": "1.5.0",
          "state": {
            "_dom_classes": [],
            "_model_module": "@jupyter-widgets/controls",
            "_model_module_version": "1.5.0",
            "_model_name": "HTMLModel",
            "_view_count": null,
            "_view_module": "@jupyter-widgets/controls",
            "_view_module_version": "1.5.0",
            "_view_name": "HTMLView",
            "description": "",
            "description_tooltip": null,
            "layout": "IPY_MODEL_5d685420430f49bdbeecedb0e45c8375",
            "placeholder": "​",
            "style": "IPY_MODEL_22061443dfcd4c46a2f2c1bd92aa329a",
            "value": " 51/51 [01:45&lt;00:00,  1.68s/it]"
          }
        },
        "263fb9d22727499ea458d56539006da5": {
          "model_module": "@jupyter-widgets/base",
          "model_name": "LayoutModel",
          "model_module_version": "1.2.0",
          "state": {
            "_model_module": "@jupyter-widgets/base",
            "_model_module_version": "1.2.0",
            "_model_name": "LayoutModel",
            "_view_count": null,
            "_view_module": "@jupyter-widgets/base",
            "_view_module_version": "1.2.0",
            "_view_name": "LayoutView",
            "align_content": null,
            "align_items": null,
            "align_self": null,
            "border": null,
            "bottom": null,
            "display": null,
            "flex": null,
            "flex_flow": null,
            "grid_area": null,
            "grid_auto_columns": null,
            "grid_auto_flow": null,
            "grid_auto_rows": null,
            "grid_column": null,
            "grid_gap": null,
            "grid_row": null,
            "grid_template_areas": null,
            "grid_template_columns": null,
            "grid_template_rows": null,
            "height": null,
            "justify_content": null,
            "justify_items": null,
            "left": null,
            "margin": null,
            "max_height": null,
            "max_width": null,
            "min_height": null,
            "min_width": null,
            "object_fit": null,
            "object_position": null,
            "order": null,
            "overflow": null,
            "overflow_x": null,
            "overflow_y": null,
            "padding": null,
            "right": null,
            "top": null,
            "visibility": null,
            "width": null
          }
        },
        "30b0e488f2594472ad7a35c524157f56": {
          "model_module": "@jupyter-widgets/base",
          "model_name": "LayoutModel",
          "model_module_version": "1.2.0",
          "state": {
            "_model_module": "@jupyter-widgets/base",
            "_model_module_version": "1.2.0",
            "_model_name": "LayoutModel",
            "_view_count": null,
            "_view_module": "@jupyter-widgets/base",
            "_view_module_version": "1.2.0",
            "_view_name": "LayoutView",
            "align_content": null,
            "align_items": null,
            "align_self": null,
            "border": null,
            "bottom": null,
            "display": null,
            "flex": null,
            "flex_flow": null,
            "grid_area": null,
            "grid_auto_columns": null,
            "grid_auto_flow": null,
            "grid_auto_rows": null,
            "grid_column": null,
            "grid_gap": null,
            "grid_row": null,
            "grid_template_areas": null,
            "grid_template_columns": null,
            "grid_template_rows": null,
            "height": null,
            "justify_content": null,
            "justify_items": null,
            "left": null,
            "margin": null,
            "max_height": null,
            "max_width": null,
            "min_height": null,
            "min_width": null,
            "object_fit": null,
            "object_position": null,
            "order": null,
            "overflow": null,
            "overflow_x": null,
            "overflow_y": null,
            "padding": null,
            "right": null,
            "top": null,
            "visibility": null,
            "width": null
          }
        },
        "a26f347299f74d079166d7e48426e983": {
          "model_module": "@jupyter-widgets/controls",
          "model_name": "DescriptionStyleModel",
          "model_module_version": "1.5.0",
          "state": {
            "_model_module": "@jupyter-widgets/controls",
            "_model_module_version": "1.5.0",
            "_model_name": "DescriptionStyleModel",
            "_view_count": null,
            "_view_module": "@jupyter-widgets/base",
            "_view_module_version": "1.2.0",
            "_view_name": "StyleView",
            "description_width": ""
          }
        },
        "49a64c1687304bb783c2998b7ee06fdf": {
          "model_module": "@jupyter-widgets/base",
          "model_name": "LayoutModel",
          "model_module_version": "1.2.0",
          "state": {
            "_model_module": "@jupyter-widgets/base",
            "_model_module_version": "1.2.0",
            "_model_name": "LayoutModel",
            "_view_count": null,
            "_view_module": "@jupyter-widgets/base",
            "_view_module_version": "1.2.0",
            "_view_name": "LayoutView",
            "align_content": null,
            "align_items": null,
            "align_self": null,
            "border": null,
            "bottom": null,
            "display": null,
            "flex": null,
            "flex_flow": null,
            "grid_area": null,
            "grid_auto_columns": null,
            "grid_auto_flow": null,
            "grid_auto_rows": null,
            "grid_column": null,
            "grid_gap": null,
            "grid_row": null,
            "grid_template_areas": null,
            "grid_template_columns": null,
            "grid_template_rows": null,
            "height": null,
            "justify_content": null,
            "justify_items": null,
            "left": null,
            "margin": null,
            "max_height": null,
            "max_width": null,
            "min_height": null,
            "min_width": null,
            "object_fit": null,
            "object_position": null,
            "order": null,
            "overflow": null,
            "overflow_x": null,
            "overflow_y": null,
            "padding": null,
            "right": null,
            "top": null,
            "visibility": null,
            "width": null
          }
        },
        "fe697ead75084cfab77cab8faa86f741": {
          "model_module": "@jupyter-widgets/controls",
          "model_name": "ProgressStyleModel",
          "model_module_version": "1.5.0",
          "state": {
            "_model_module": "@jupyter-widgets/controls",
            "_model_module_version": "1.5.0",
            "_model_name": "ProgressStyleModel",
            "_view_count": null,
            "_view_module": "@jupyter-widgets/base",
            "_view_module_version": "1.2.0",
            "_view_name": "StyleView",
            "bar_color": null,
            "description_width": ""
          }
        },
        "5d685420430f49bdbeecedb0e45c8375": {
          "model_module": "@jupyter-widgets/base",
          "model_name": "LayoutModel",
          "model_module_version": "1.2.0",
          "state": {
            "_model_module": "@jupyter-widgets/base",
            "_model_module_version": "1.2.0",
            "_model_name": "LayoutModel",
            "_view_count": null,
            "_view_module": "@jupyter-widgets/base",
            "_view_module_version": "1.2.0",
            "_view_name": "LayoutView",
            "align_content": null,
            "align_items": null,
            "align_self": null,
            "border": null,
            "bottom": null,
            "display": null,
            "flex": null,
            "flex_flow": null,
            "grid_area": null,
            "grid_auto_columns": null,
            "grid_auto_flow": null,
            "grid_auto_rows": null,
            "grid_column": null,
            "grid_gap": null,
            "grid_row": null,
            "grid_template_areas": null,
            "grid_template_columns": null,
            "grid_template_rows": null,
            "height": null,
            "justify_content": null,
            "justify_items": null,
            "left": null,
            "margin": null,
            "max_height": null,
            "max_width": null,
            "min_height": null,
            "min_width": null,
            "object_fit": null,
            "object_position": null,
            "order": null,
            "overflow": null,
            "overflow_x": null,
            "overflow_y": null,
            "padding": null,
            "right": null,
            "top": null,
            "visibility": null,
            "width": null
          }
        },
        "22061443dfcd4c46a2f2c1bd92aa329a": {
          "model_module": "@jupyter-widgets/controls",
          "model_name": "DescriptionStyleModel",
          "model_module_version": "1.5.0",
          "state": {
            "_model_module": "@jupyter-widgets/controls",
            "_model_module_version": "1.5.0",
            "_model_name": "DescriptionStyleModel",
            "_view_count": null,
            "_view_module": "@jupyter-widgets/base",
            "_view_module_version": "1.2.0",
            "_view_name": "StyleView",
            "description_width": ""
          }
        },
        "504c55c6beb94031b2e8eb6f462fc48e": {
          "model_module": "@jupyter-widgets/controls",
          "model_name": "HBoxModel",
          "model_module_version": "1.5.0",
          "state": {
            "_dom_classes": [],
            "_model_module": "@jupyter-widgets/controls",
            "_model_module_version": "1.5.0",
            "_model_name": "HBoxModel",
            "_view_count": null,
            "_view_module": "@jupyter-widgets/controls",
            "_view_module_version": "1.5.0",
            "_view_name": "HBoxView",
            "box_style": "",
            "children": [
              "IPY_MODEL_3d300980888d43ae88d5def31e7385a8",
              "IPY_MODEL_e56e860cc554401ea115d8cdb756b212",
              "IPY_MODEL_1cbcfe3766414b6680fcdcb70cb9143e"
            ],
            "layout": "IPY_MODEL_8c618a0357a74eb799b80e0d72bdcee9"
          }
        },
        "3d300980888d43ae88d5def31e7385a8": {
          "model_module": "@jupyter-widgets/controls",
          "model_name": "HTMLModel",
          "model_module_version": "1.5.0",
          "state": {
            "_dom_classes": [],
            "_model_module": "@jupyter-widgets/controls",
            "_model_module_version": "1.5.0",
            "_model_name": "HTMLModel",
            "_view_count": null,
            "_view_module": "@jupyter-widgets/controls",
            "_view_module_version": "1.5.0",
            "_view_name": "HTMLView",
            "description": "",
            "description_tooltip": null,
            "layout": "IPY_MODEL_17f880bf60c2424393166b4c6fca8675",
            "placeholder": "​",
            "style": "IPY_MODEL_1e233f3ae1ca4e1c8453d5ca7885054c",
            "value": "100%"
          }
        },
        "e56e860cc554401ea115d8cdb756b212": {
          "model_module": "@jupyter-widgets/controls",
          "model_name": "FloatProgressModel",
          "model_module_version": "1.5.0",
          "state": {
            "_dom_classes": [],
            "_model_module": "@jupyter-widgets/controls",
            "_model_module_version": "1.5.0",
            "_model_name": "FloatProgressModel",
            "_view_count": null,
            "_view_module": "@jupyter-widgets/controls",
            "_view_module_version": "1.5.0",
            "_view_name": "ProgressView",
            "bar_style": "success",
            "description": "",
            "description_tooltip": null,
            "layout": "IPY_MODEL_90e7f1ee371844f58b0a5b023ed5cb27",
            "max": 51,
            "min": 0,
            "orientation": "horizontal",
            "style": "IPY_MODEL_bcc3771cc9ef413f935957ef1ec4eff8",
            "value": 51
          }
        },
        "1cbcfe3766414b6680fcdcb70cb9143e": {
          "model_module": "@jupyter-widgets/controls",
          "model_name": "HTMLModel",
          "model_module_version": "1.5.0",
          "state": {
            "_dom_classes": [],
            "_model_module": "@jupyter-widgets/controls",
            "_model_module_version": "1.5.0",
            "_model_name": "HTMLModel",
            "_view_count": null,
            "_view_module": "@jupyter-widgets/controls",
            "_view_module_version": "1.5.0",
            "_view_name": "HTMLView",
            "description": "",
            "description_tooltip": null,
            "layout": "IPY_MODEL_e93eeb1fb5f64bfa993f3ce8db8e6bf2",
            "placeholder": "​",
            "style": "IPY_MODEL_1042ef05c08441e995703fc18388551f",
            "value": " 51/51 [01:35&lt;00:00,  1.63s/it]"
          }
        },
        "8c618a0357a74eb799b80e0d72bdcee9": {
          "model_module": "@jupyter-widgets/base",
          "model_name": "LayoutModel",
          "model_module_version": "1.2.0",
          "state": {
            "_model_module": "@jupyter-widgets/base",
            "_model_module_version": "1.2.0",
            "_model_name": "LayoutModel",
            "_view_count": null,
            "_view_module": "@jupyter-widgets/base",
            "_view_module_version": "1.2.0",
            "_view_name": "LayoutView",
            "align_content": null,
            "align_items": null,
            "align_self": null,
            "border": null,
            "bottom": null,
            "display": null,
            "flex": null,
            "flex_flow": null,
            "grid_area": null,
            "grid_auto_columns": null,
            "grid_auto_flow": null,
            "grid_auto_rows": null,
            "grid_column": null,
            "grid_gap": null,
            "grid_row": null,
            "grid_template_areas": null,
            "grid_template_columns": null,
            "grid_template_rows": null,
            "height": null,
            "justify_content": null,
            "justify_items": null,
            "left": null,
            "margin": null,
            "max_height": null,
            "max_width": null,
            "min_height": null,
            "min_width": null,
            "object_fit": null,
            "object_position": null,
            "order": null,
            "overflow": null,
            "overflow_x": null,
            "overflow_y": null,
            "padding": null,
            "right": null,
            "top": null,
            "visibility": null,
            "width": null
          }
        },
        "17f880bf60c2424393166b4c6fca8675": {
          "model_module": "@jupyter-widgets/base",
          "model_name": "LayoutModel",
          "model_module_version": "1.2.0",
          "state": {
            "_model_module": "@jupyter-widgets/base",
            "_model_module_version": "1.2.0",
            "_model_name": "LayoutModel",
            "_view_count": null,
            "_view_module": "@jupyter-widgets/base",
            "_view_module_version": "1.2.0",
            "_view_name": "LayoutView",
            "align_content": null,
            "align_items": null,
            "align_self": null,
            "border": null,
            "bottom": null,
            "display": null,
            "flex": null,
            "flex_flow": null,
            "grid_area": null,
            "grid_auto_columns": null,
            "grid_auto_flow": null,
            "grid_auto_rows": null,
            "grid_column": null,
            "grid_gap": null,
            "grid_row": null,
            "grid_template_areas": null,
            "grid_template_columns": null,
            "grid_template_rows": null,
            "height": null,
            "justify_content": null,
            "justify_items": null,
            "left": null,
            "margin": null,
            "max_height": null,
            "max_width": null,
            "min_height": null,
            "min_width": null,
            "object_fit": null,
            "object_position": null,
            "order": null,
            "overflow": null,
            "overflow_x": null,
            "overflow_y": null,
            "padding": null,
            "right": null,
            "top": null,
            "visibility": null,
            "width": null
          }
        },
        "1e233f3ae1ca4e1c8453d5ca7885054c": {
          "model_module": "@jupyter-widgets/controls",
          "model_name": "DescriptionStyleModel",
          "model_module_version": "1.5.0",
          "state": {
            "_model_module": "@jupyter-widgets/controls",
            "_model_module_version": "1.5.0",
            "_model_name": "DescriptionStyleModel",
            "_view_count": null,
            "_view_module": "@jupyter-widgets/base",
            "_view_module_version": "1.2.0",
            "_view_name": "StyleView",
            "description_width": ""
          }
        },
        "90e7f1ee371844f58b0a5b023ed5cb27": {
          "model_module": "@jupyter-widgets/base",
          "model_name": "LayoutModel",
          "model_module_version": "1.2.0",
          "state": {
            "_model_module": "@jupyter-widgets/base",
            "_model_module_version": "1.2.0",
            "_model_name": "LayoutModel",
            "_view_count": null,
            "_view_module": "@jupyter-widgets/base",
            "_view_module_version": "1.2.0",
            "_view_name": "LayoutView",
            "align_content": null,
            "align_items": null,
            "align_self": null,
            "border": null,
            "bottom": null,
            "display": null,
            "flex": null,
            "flex_flow": null,
            "grid_area": null,
            "grid_auto_columns": null,
            "grid_auto_flow": null,
            "grid_auto_rows": null,
            "grid_column": null,
            "grid_gap": null,
            "grid_row": null,
            "grid_template_areas": null,
            "grid_template_columns": null,
            "grid_template_rows": null,
            "height": null,
            "justify_content": null,
            "justify_items": null,
            "left": null,
            "margin": null,
            "max_height": null,
            "max_width": null,
            "min_height": null,
            "min_width": null,
            "object_fit": null,
            "object_position": null,
            "order": null,
            "overflow": null,
            "overflow_x": null,
            "overflow_y": null,
            "padding": null,
            "right": null,
            "top": null,
            "visibility": null,
            "width": null
          }
        },
        "bcc3771cc9ef413f935957ef1ec4eff8": {
          "model_module": "@jupyter-widgets/controls",
          "model_name": "ProgressStyleModel",
          "model_module_version": "1.5.0",
          "state": {
            "_model_module": "@jupyter-widgets/controls",
            "_model_module_version": "1.5.0",
            "_model_name": "ProgressStyleModel",
            "_view_count": null,
            "_view_module": "@jupyter-widgets/base",
            "_view_module_version": "1.2.0",
            "_view_name": "StyleView",
            "bar_color": null,
            "description_width": ""
          }
        },
        "e93eeb1fb5f64bfa993f3ce8db8e6bf2": {
          "model_module": "@jupyter-widgets/base",
          "model_name": "LayoutModel",
          "model_module_version": "1.2.0",
          "state": {
            "_model_module": "@jupyter-widgets/base",
            "_model_module_version": "1.2.0",
            "_model_name": "LayoutModel",
            "_view_count": null,
            "_view_module": "@jupyter-widgets/base",
            "_view_module_version": "1.2.0",
            "_view_name": "LayoutView",
            "align_content": null,
            "align_items": null,
            "align_self": null,
            "border": null,
            "bottom": null,
            "display": null,
            "flex": null,
            "flex_flow": null,
            "grid_area": null,
            "grid_auto_columns": null,
            "grid_auto_flow": null,
            "grid_auto_rows": null,
            "grid_column": null,
            "grid_gap": null,
            "grid_row": null,
            "grid_template_areas": null,
            "grid_template_columns": null,
            "grid_template_rows": null,
            "height": null,
            "justify_content": null,
            "justify_items": null,
            "left": null,
            "margin": null,
            "max_height": null,
            "max_width": null,
            "min_height": null,
            "min_width": null,
            "object_fit": null,
            "object_position": null,
            "order": null,
            "overflow": null,
            "overflow_x": null,
            "overflow_y": null,
            "padding": null,
            "right": null,
            "top": null,
            "visibility": null,
            "width": null
          }
        },
        "1042ef05c08441e995703fc18388551f": {
          "model_module": "@jupyter-widgets/controls",
          "model_name": "DescriptionStyleModel",
          "model_module_version": "1.5.0",
          "state": {
            "_model_module": "@jupyter-widgets/controls",
            "_model_module_version": "1.5.0",
            "_model_name": "DescriptionStyleModel",
            "_view_count": null,
            "_view_module": "@jupyter-widgets/base",
            "_view_module_version": "1.2.0",
            "_view_name": "StyleView",
            "description_width": ""
          }
        },
        "56f3129831f94e778f6bae755b00566c": {
          "model_module": "@jupyter-widgets/controls",
          "model_name": "HBoxModel",
          "model_module_version": "1.5.0",
          "state": {
            "_dom_classes": [],
            "_model_module": "@jupyter-widgets/controls",
            "_model_module_version": "1.5.0",
            "_model_name": "HBoxModel",
            "_view_count": null,
            "_view_module": "@jupyter-widgets/controls",
            "_view_module_version": "1.5.0",
            "_view_name": "HBoxView",
            "box_style": "",
            "children": [
              "IPY_MODEL_a70a6d141c724d389a6fd75612de05e6",
              "IPY_MODEL_afee9b7280da4004ba7c9cb471beb3dc",
              "IPY_MODEL_0e945ee657d44e218dd8db2e0328361f"
            ],
            "layout": "IPY_MODEL_c641ab96e62649f9b9ea7b9260f379b7"
          }
        },
        "a70a6d141c724d389a6fd75612de05e6": {
          "model_module": "@jupyter-widgets/controls",
          "model_name": "HTMLModel",
          "model_module_version": "1.5.0",
          "state": {
            "_dom_classes": [],
            "_model_module": "@jupyter-widgets/controls",
            "_model_module_version": "1.5.0",
            "_model_name": "HTMLModel",
            "_view_count": null,
            "_view_module": "@jupyter-widgets/controls",
            "_view_module_version": "1.5.0",
            "_view_name": "HTMLView",
            "description": "",
            "description_tooltip": null,
            "layout": "IPY_MODEL_cb1406149e4a45838cce86c620ead4a5",
            "placeholder": "​",
            "style": "IPY_MODEL_190c8ed0059341e08d1a30d7c6ff4d22",
            "value": " 27%"
          }
        },
        "afee9b7280da4004ba7c9cb471beb3dc": {
          "model_module": "@jupyter-widgets/controls",
          "model_name": "FloatProgressModel",
          "model_module_version": "1.5.0",
          "state": {
            "_dom_classes": [],
            "_model_module": "@jupyter-widgets/controls",
            "_model_module_version": "1.5.0",
            "_model_name": "FloatProgressModel",
            "_view_count": null,
            "_view_module": "@jupyter-widgets/controls",
            "_view_module_version": "1.5.0",
            "_view_name": "ProgressView",
            "bar_style": "",
            "description": "",
            "description_tooltip": null,
            "layout": "IPY_MODEL_33fc9b87eb4a4634b2d9c0e16c7b0138",
            "max": 51,
            "min": 0,
            "orientation": "horizontal",
            "style": "IPY_MODEL_8180df51d5f843db8e060994b3d511f8",
            "value": 14
          }
        },
        "0e945ee657d44e218dd8db2e0328361f": {
          "model_module": "@jupyter-widgets/controls",
          "model_name": "HTMLModel",
          "model_module_version": "1.5.0",
          "state": {
            "_dom_classes": [],
            "_model_module": "@jupyter-widgets/controls",
            "_model_module_version": "1.5.0",
            "_model_name": "HTMLModel",
            "_view_count": null,
            "_view_module": "@jupyter-widgets/controls",
            "_view_module_version": "1.5.0",
            "_view_name": "HTMLView",
            "description": "",
            "description_tooltip": null,
            "layout": "IPY_MODEL_1678477312114c5cb8713ae13020df64",
            "placeholder": "​",
            "style": "IPY_MODEL_c4459fc4ef674a7bb5ff63fbb809b2d8",
            "value": " 14/51 [01:12&lt;03:25,  5.56s/it]"
          }
        },
        "c641ab96e62649f9b9ea7b9260f379b7": {
          "model_module": "@jupyter-widgets/base",
          "model_name": "LayoutModel",
          "model_module_version": "1.2.0",
          "state": {
            "_model_module": "@jupyter-widgets/base",
            "_model_module_version": "1.2.0",
            "_model_name": "LayoutModel",
            "_view_count": null,
            "_view_module": "@jupyter-widgets/base",
            "_view_module_version": "1.2.0",
            "_view_name": "LayoutView",
            "align_content": null,
            "align_items": null,
            "align_self": null,
            "border": null,
            "bottom": null,
            "display": null,
            "flex": null,
            "flex_flow": null,
            "grid_area": null,
            "grid_auto_columns": null,
            "grid_auto_flow": null,
            "grid_auto_rows": null,
            "grid_column": null,
            "grid_gap": null,
            "grid_row": null,
            "grid_template_areas": null,
            "grid_template_columns": null,
            "grid_template_rows": null,
            "height": null,
            "justify_content": null,
            "justify_items": null,
            "left": null,
            "margin": null,
            "max_height": null,
            "max_width": null,
            "min_height": null,
            "min_width": null,
            "object_fit": null,
            "object_position": null,
            "order": null,
            "overflow": null,
            "overflow_x": null,
            "overflow_y": null,
            "padding": null,
            "right": null,
            "top": null,
            "visibility": null,
            "width": null
          }
        },
        "cb1406149e4a45838cce86c620ead4a5": {
          "model_module": "@jupyter-widgets/base",
          "model_name": "LayoutModel",
          "model_module_version": "1.2.0",
          "state": {
            "_model_module": "@jupyter-widgets/base",
            "_model_module_version": "1.2.0",
            "_model_name": "LayoutModel",
            "_view_count": null,
            "_view_module": "@jupyter-widgets/base",
            "_view_module_version": "1.2.0",
            "_view_name": "LayoutView",
            "align_content": null,
            "align_items": null,
            "align_self": null,
            "border": null,
            "bottom": null,
            "display": null,
            "flex": null,
            "flex_flow": null,
            "grid_area": null,
            "grid_auto_columns": null,
            "grid_auto_flow": null,
            "grid_auto_rows": null,
            "grid_column": null,
            "grid_gap": null,
            "grid_row": null,
            "grid_template_areas": null,
            "grid_template_columns": null,
            "grid_template_rows": null,
            "height": null,
            "justify_content": null,
            "justify_items": null,
            "left": null,
            "margin": null,
            "max_height": null,
            "max_width": null,
            "min_height": null,
            "min_width": null,
            "object_fit": null,
            "object_position": null,
            "order": null,
            "overflow": null,
            "overflow_x": null,
            "overflow_y": null,
            "padding": null,
            "right": null,
            "top": null,
            "visibility": null,
            "width": null
          }
        },
        "190c8ed0059341e08d1a30d7c6ff4d22": {
          "model_module": "@jupyter-widgets/controls",
          "model_name": "DescriptionStyleModel",
          "model_module_version": "1.5.0",
          "state": {
            "_model_module": "@jupyter-widgets/controls",
            "_model_module_version": "1.5.0",
            "_model_name": "DescriptionStyleModel",
            "_view_count": null,
            "_view_module": "@jupyter-widgets/base",
            "_view_module_version": "1.2.0",
            "_view_name": "StyleView",
            "description_width": ""
          }
        },
        "33fc9b87eb4a4634b2d9c0e16c7b0138": {
          "model_module": "@jupyter-widgets/base",
          "model_name": "LayoutModel",
          "model_module_version": "1.2.0",
          "state": {
            "_model_module": "@jupyter-widgets/base",
            "_model_module_version": "1.2.0",
            "_model_name": "LayoutModel",
            "_view_count": null,
            "_view_module": "@jupyter-widgets/base",
            "_view_module_version": "1.2.0",
            "_view_name": "LayoutView",
            "align_content": null,
            "align_items": null,
            "align_self": null,
            "border": null,
            "bottom": null,
            "display": null,
            "flex": null,
            "flex_flow": null,
            "grid_area": null,
            "grid_auto_columns": null,
            "grid_auto_flow": null,
            "grid_auto_rows": null,
            "grid_column": null,
            "grid_gap": null,
            "grid_row": null,
            "grid_template_areas": null,
            "grid_template_columns": null,
            "grid_template_rows": null,
            "height": null,
            "justify_content": null,
            "justify_items": null,
            "left": null,
            "margin": null,
            "max_height": null,
            "max_width": null,
            "min_height": null,
            "min_width": null,
            "object_fit": null,
            "object_position": null,
            "order": null,
            "overflow": null,
            "overflow_x": null,
            "overflow_y": null,
            "padding": null,
            "right": null,
            "top": null,
            "visibility": null,
            "width": null
          }
        },
        "8180df51d5f843db8e060994b3d511f8": {
          "model_module": "@jupyter-widgets/controls",
          "model_name": "ProgressStyleModel",
          "model_module_version": "1.5.0",
          "state": {
            "_model_module": "@jupyter-widgets/controls",
            "_model_module_version": "1.5.0",
            "_model_name": "ProgressStyleModel",
            "_view_count": null,
            "_view_module": "@jupyter-widgets/base",
            "_view_module_version": "1.2.0",
            "_view_name": "StyleView",
            "bar_color": null,
            "description_width": ""
          }
        },
        "1678477312114c5cb8713ae13020df64": {
          "model_module": "@jupyter-widgets/base",
          "model_name": "LayoutModel",
          "model_module_version": "1.2.0",
          "state": {
            "_model_module": "@jupyter-widgets/base",
            "_model_module_version": "1.2.0",
            "_model_name": "LayoutModel",
            "_view_count": null,
            "_view_module": "@jupyter-widgets/base",
            "_view_module_version": "1.2.0",
            "_view_name": "LayoutView",
            "align_content": null,
            "align_items": null,
            "align_self": null,
            "border": null,
            "bottom": null,
            "display": null,
            "flex": null,
            "flex_flow": null,
            "grid_area": null,
            "grid_auto_columns": null,
            "grid_auto_flow": null,
            "grid_auto_rows": null,
            "grid_column": null,
            "grid_gap": null,
            "grid_row": null,
            "grid_template_areas": null,
            "grid_template_columns": null,
            "grid_template_rows": null,
            "height": null,
            "justify_content": null,
            "justify_items": null,
            "left": null,
            "margin": null,
            "max_height": null,
            "max_width": null,
            "min_height": null,
            "min_width": null,
            "object_fit": null,
            "object_position": null,
            "order": null,
            "overflow": null,
            "overflow_x": null,
            "overflow_y": null,
            "padding": null,
            "right": null,
            "top": null,
            "visibility": null,
            "width": null
          }
        },
        "c4459fc4ef674a7bb5ff63fbb809b2d8": {
          "model_module": "@jupyter-widgets/controls",
          "model_name": "DescriptionStyleModel",
          "model_module_version": "1.5.0",
          "state": {
            "_model_module": "@jupyter-widgets/controls",
            "_model_module_version": "1.5.0",
            "_model_name": "DescriptionStyleModel",
            "_view_count": null,
            "_view_module": "@jupyter-widgets/base",
            "_view_module_version": "1.2.0",
            "_view_name": "StyleView",
            "description_width": ""
          }
        }
      }
    }
  },
  "nbformat": 4,
  "nbformat_minor": 5
}