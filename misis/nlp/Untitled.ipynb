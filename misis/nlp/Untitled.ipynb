{
  "cells": [
    {
      "cell_type": "code",
      "execution_count": null,
      "id": "c5d1bda7-4096-4f23-a6f2-58fb46a08e9d",
      "metadata": {
        "id": "c5d1bda7-4096-4f23-a6f2-58fb46a08e9d"
      },
      "outputs": [],
      "source": []
    },
    {
      "cell_type": "markdown",
      "id": "6c1e64ed-89a5-4276-ad2e-6b0f21854bb0",
      "metadata": {
        "id": "6c1e64ed-89a5-4276-ad2e-6b0f21854bb0"
      },
      "source": [
        "# Importing packages"
      ]
    },
    {
      "cell_type": "code",
      "execution_count": null,
      "id": "517bd3f1-73b4-4ecf-b875-bf281c77aff4",
      "metadata": {
        "execution": {
          "iopub.execute_input": "2023-04-05T21:35:14.533706Z",
          "iopub.status.busy": "2023-04-05T21:35:14.532706Z",
          "iopub.status.idle": "2023-04-05T21:35:15.949177Z",
          "shell.execute_reply": "2023-04-05T21:35:15.948173Z",
          "shell.execute_reply.started": "2023-04-05T21:35:14.533706Z"
        },
        "tags": [],
        "id": "517bd3f1-73b4-4ecf-b875-bf281c77aff4"
      },
      "outputs": [],
      "source": [
        "# Intall the contractions package - https://github.com/kootenpv/contractions\n",
        "!pip install contractions seaborn textblob scikit-learn-intelex"
      ]
    },
    {
      "cell_type": "code",
      "execution_count": 2,
      "id": "2b11fc5a-94aa-4e71-9cd0-27a594b901e0",
      "metadata": {
        "execution": {
          "iopub.execute_input": "2023-04-05T21:35:15.951176Z",
          "iopub.status.busy": "2023-04-05T21:35:15.950176Z",
          "iopub.status.idle": "2023-04-05T21:35:17.220480Z",
          "shell.execute_reply": "2023-04-05T21:35:17.220480Z",
          "shell.execute_reply.started": "2023-04-05T21:35:15.951176Z"
        },
        "tags": [],
        "id": "2b11fc5a-94aa-4e71-9cd0-27a594b901e0",
        "outputId": "68d0bc1f-f4f5-4714-8228-dfec26dec9c9",
        "colab": {
          "base_uri": "https://localhost:8080/"
        }
      },
      "outputs": [
        {
          "output_type": "stream",
          "name": "stderr",
          "text": [
            "Intel(R) Extension for Scikit-learn* enabled (https://github.com/intel/scikit-learn-intelex)\n"
          ]
        }
      ],
      "source": [
        "import pandas as pd\n",
        "import numpy as np\n",
        "\n",
        "# visualisation\n",
        "import seaborn as sns\n",
        "import matplotlib.pyplot as plt\n",
        "%matplotlib inline\n",
        "\n",
        "# text preprocessing\n",
        "import nltk\n",
        "import re\n",
        "import contractions\n",
        "import string\n",
        "from textblob import TextBlob # spelling correction\n",
        "\n",
        "from sklearnex import patch_sklearn \n",
        "patch_sklearn()\n",
        "\n",
        "from sklearn.model_selection import train_test_split\n",
        "from sklearn.pipeline import Pipeline\n",
        "from sklearn.svm import SVC"
      ]
    },
    {
      "cell_type": "markdown",
      "id": "3efe847c-1433-4903-98ac-9cb9f8efab33",
      "metadata": {
        "id": "3efe847c-1433-4903-98ac-9cb9f8efab33"
      },
      "source": [
        "# Loading data and deleting rows with missing data"
      ]
    },
    {
      "cell_type": "code",
      "execution_count": 3,
      "id": "c901daee-83fe-4395-a4fe-8171c0799b0e",
      "metadata": {
        "execution": {
          "iopub.execute_input": "2023-04-05T21:35:20.317703Z",
          "iopub.status.busy": "2023-04-05T21:35:20.316697Z",
          "iopub.status.idle": "2023-04-05T21:35:22.065697Z",
          "shell.execute_reply": "2023-04-05T21:35:22.065697Z",
          "shell.execute_reply.started": "2023-04-05T21:35:20.317703Z"
        },
        "tags": [],
        "id": "c901daee-83fe-4395-a4fe-8171c0799b0e",
        "outputId": "65c3ac9d-40fd-4a81-b202-0311f2132290",
        "colab": {
          "base_uri": "https://localhost:8080/"
        }
      },
      "outputs": [
        {
          "output_type": "execute_result",
          "data": {
            "text/plain": [
              "(72134, 3)"
            ]
          },
          "metadata": {},
          "execution_count": 3
        }
      ],
      "source": [
        "df = pd.read_csv(filepath_or_buffer='https://zenodo.org/record/4561253/files/WELFake_Dataset.csv?download=1', index_col=0)\n",
        "# run next row with using jupiter lab\n",
        "# df = pd.read_csv(filepath_or_buffer='WELFake_Dataset.csv', index_col=0)\n",
        "df.shape"
      ]
    },
    {
      "cell_type": "code",
      "execution_count": 4,
      "id": "b21a729f-5090-4305-8e32-0bf009e51045",
      "metadata": {
        "execution": {
          "iopub.execute_input": "2023-04-05T21:35:22.067701Z",
          "iopub.status.busy": "2023-04-05T21:35:22.066699Z",
          "iopub.status.idle": "2023-04-05T21:35:22.112705Z",
          "shell.execute_reply": "2023-04-05T21:35:22.112705Z",
          "shell.execute_reply.started": "2023-04-05T21:35:22.067701Z"
        },
        "tags": [],
        "id": "b21a729f-5090-4305-8e32-0bf009e51045",
        "outputId": "17021d9c-1dbe-4edd-e5f8-0f6a1125197b",
        "colab": {
          "base_uri": "https://localhost:8080/"
        }
      },
      "outputs": [
        {
          "output_type": "execute_result",
          "data": {
            "text/plain": [
              "(71537, 3)"
            ]
          },
          "metadata": {},
          "execution_count": 4
        }
      ],
      "source": [
        "# we'll save it just in case\n",
        "missed_texts = df[df.text.isnull()]\n",
        "missed_titles = df[df.title.isnull()]\n",
        "df = df.dropna()\n",
        "df.shape"
      ]
    },
    {
      "cell_type": "markdown",
      "id": "95288016-6a75-4daf-b918-40615fa3dfc0",
      "metadata": {
        "tags": [],
        "id": "95288016-6a75-4daf-b918-40615fa3dfc0"
      },
      "source": [
        "# Exploratory data analysis"
      ]
    },
    {
      "cell_type": "markdown",
      "id": "cbdb4492-8832-47ba-af6d-0860b7995208",
      "metadata": {
        "id": "cbdb4492-8832-47ba-af6d-0860b7995208"
      },
      "source": [
        "## Exploring the data distributions"
      ]
    },
    {
      "cell_type": "code",
      "execution_count": null,
      "id": "f67960ee-cac0-46bb-9c23-d9ea6344f4f0",
      "metadata": {
        "execution": {
          "iopub.execute_input": "2023-04-05T21:35:22.296043Z",
          "iopub.status.busy": "2023-04-05T21:35:22.296043Z",
          "iopub.status.idle": "2023-04-05T21:35:22.317044Z",
          "shell.execute_reply": "2023-04-05T21:35:22.317044Z",
          "shell.execute_reply.started": "2023-04-05T21:35:22.296043Z"
        },
        "tags": [],
        "id": "f67960ee-cac0-46bb-9c23-d9ea6344f4f0",
        "outputId": "77d75d7b-a142-4fe3-920c-5dda068a21a7"
      },
      "outputs": [
        {
          "name": "stdout",
          "output_type": "stream",
          "text": [
            "Real: (36509, 3)\n",
            "Fake: (35028, 3)\n"
          ]
        }
      ],
      "source": [
        "real = df[df['label'] == 1]\n",
        "fake = df[df['label'] == 0]\n",
        "print(f'Real: {real.shape}\\nFake: {fake.shape}')"
      ]
    },
    {
      "cell_type": "code",
      "execution_count": null,
      "id": "1c8a7879-cb39-41cb-8fc6-f852fb812b09",
      "metadata": {
        "execution": {
          "iopub.execute_input": "2023-04-05T21:35:22.911767Z",
          "iopub.status.busy": "2023-04-05T21:35:22.910769Z",
          "iopub.status.idle": "2023-04-05T21:35:24.511790Z",
          "shell.execute_reply": "2023-04-05T21:35:24.511790Z",
          "shell.execute_reply.started": "2023-04-05T21:35:22.911767Z"
        },
        "tags": [],
        "id": "1c8a7879-cb39-41cb-8fc6-f852fb812b09",
        "outputId": "d77058b5-afcb-465f-bf9a-9f92be86f052"
      },
      "outputs": [
        {
          "data": {
            "text/plain": [
              "[<matplotlib.lines.Line2D at 0x202efb92310>]"
            ]
          },
          "execution_count": 6,
          "metadata": {},
          "output_type": "execute_result"
        },
        {
          "data": {
            "image/png": "[encoded data removed]",
            "text/plain": [
              "<Figure size 640x480 with 1 Axes>"
            ]
          },
          "metadata": {},
          "output_type": "display_data"
        }
      ],
      "source": [
        "plt.plot([len(txt.split()) for txt in real.text])\n",
        "plt.plot([len(txt.split()) for txt in fake.text])"
      ]
    },
    {
      "cell_type": "code",
      "execution_count": null,
      "id": "65abce7c-303e-4689-8f4c-0b8503116da3",
      "metadata": {
        "execution": {
          "iopub.execute_input": "2023-04-05T21:35:24.513747Z",
          "iopub.status.busy": "2023-04-05T21:35:24.512746Z",
          "iopub.status.idle": "2023-04-05T21:35:30.007089Z",
          "shell.execute_reply": "2023-04-05T21:35:30.007089Z",
          "shell.execute_reply.started": "2023-04-05T21:35:24.512746Z"
        },
        "tags": [],
        "id": "65abce7c-303e-4689-8f4c-0b8503116da3",
        "outputId": "90dac7be-acb7-4b38-948e-c1018648f234"
      },
      "outputs": [
        {
          "name": "stdout",
          "output_type": "stream",
          "text": [
            "Quantiles of the texts:\n",
            "\treal\tfake\n",
            "0.10 | 80.0   | 92.0\n",
            "0.50 | 373.0  | 427.0\n",
            "0.90 | 983.0  | 1181.0\n",
            "0.95 | 1420.0 | 1419.0\n"
          ]
        }
      ],
      "source": [
        "print('Quantiles of the texts:')\n",
        "print('\\treal\\tfake')\n",
        "print(f'0.10 | {np.quantile([len(txt.split()) for txt in real.text], 0.10)}   | {np.quantile([len(txt.split()) for txt in fake.text], 0.10)}')\n",
        "print(f'0.50 | {np.quantile([len(txt.split()) for txt in real.text], 0.50)}  | {np.quantile([len(txt.split()) for txt in fake.text], 0.50)}')\n",
        "print(f'0.90 | {np.quantile([len(txt.split()) for txt in real.text], 0.90)}  | {np.quantile([len(txt.split()) for txt in fake.text], 0.90)}')\n",
        "print(f'0.95 | {np.quantile([len(txt.split()) for txt in real.text], 0.95)} | {np.quantile([len(txt.split()) for txt in fake.text], 0.95)}')"
      ]
    },
    {
      "cell_type": "code",
      "execution_count": null,
      "id": "3baed952-cfd6-42e9-86b2-c2c366addd2f",
      "metadata": {
        "execution": {
          "iopub.execute_input": "2023-04-05T21:35:30.009090Z",
          "iopub.status.busy": "2023-04-05T21:35:30.008089Z",
          "iopub.status.idle": "2023-04-05T21:35:30.308643Z",
          "shell.execute_reply": "2023-04-05T21:35:30.308643Z",
          "shell.execute_reply.started": "2023-04-05T21:35:30.009090Z"
        },
        "tags": [],
        "id": "3baed952-cfd6-42e9-86b2-c2c366addd2f",
        "outputId": "eb3dfa66-5f23-4e1d-978b-61ae0f689a03"
      },
      "outputs": [
        {
          "data": {
            "text/plain": [
              "[<matplotlib.lines.Line2D at 0x20281009a00>]"
            ]
          },
          "execution_count": 8,
          "metadata": {},
          "output_type": "execute_result"
        },
        {
          "data": {
            "image/png": "[encoded data removed]",
            "text/plain": [
              "<Figure size 640x480 with 1 Axes>"
            ]
          },
          "metadata": {},
          "output_type": "display_data"
        }
      ],
      "source": [
        "plt.plot([len(txt.split()) for txt in real.title])\n",
        "plt.plot([len(txt.split()) for txt in fake.title])"
      ]
    },
    {
      "cell_type": "code",
      "execution_count": null,
      "id": "019f0b93-234f-4dcc-a48f-c37d77038232",
      "metadata": {
        "execution": {
          "iopub.execute_input": "2023-04-05T21:35:30.310642Z",
          "iopub.status.busy": "2023-04-05T21:35:30.309643Z",
          "iopub.status.idle": "2023-04-05T21:35:30.499715Z",
          "shell.execute_reply": "2023-04-05T21:35:30.499715Z",
          "shell.execute_reply.started": "2023-04-05T21:35:30.310642Z"
        },
        "tags": [],
        "id": "019f0b93-234f-4dcc-a48f-c37d77038232",
        "outputId": "bef5461e-ef2d-4c71-9deb-cbd5c03b93aa"
      },
      "outputs": [
        {
          "name": "stdout",
          "output_type": "stream",
          "text": [
            "Quantiles of the titles:\n",
            "\treal\tfake\n",
            "0.10 | 8.0  | 8.0\n",
            "0.50 | 13.0 | 11.0\n",
            "0.90 | 19.0 | 15.0\n",
            "0.95 | 22.0 | 16.0\n"
          ]
        }
      ],
      "source": [
        "print('Quantiles of the titles:')\n",
        "print('\\treal\\tfake')\n",
        "print(f'0.10 | {np.quantile([len(txt.split()) for txt in real.title], 0.10)}  | {np.quantile([len(txt.split()) for txt in fake.title], 0.10)}')\n",
        "print(f'0.50 | {np.quantile([len(txt.split()) for txt in real.title], 0.50)} | {np.quantile([len(txt.split()) for txt in fake.title], 0.50)}')\n",
        "print(f'0.90 | {np.quantile([len(txt.split()) for txt in real.title], 0.90)} | {np.quantile([len(txt.split()) for txt in fake.title], 0.90)}')\n",
        "print(f'0.95 | {np.quantile([len(txt.split()) for txt in real.title], 0.95)} | {np.quantile([len(txt.split()) for txt in fake.title], 0.95)}')"
      ]
    },
    {
      "cell_type": "code",
      "execution_count": null,
      "id": "f8d42a47-7c45-4057-92d3-9e75af2786b1",
      "metadata": {
        "execution": {
          "iopub.execute_input": "2023-04-05T21:35:30.501675Z",
          "iopub.status.busy": "2023-04-05T21:35:30.500676Z",
          "iopub.status.idle": "2023-04-05T21:35:30.515675Z",
          "shell.execute_reply": "2023-04-05T21:35:30.515675Z",
          "shell.execute_reply.started": "2023-04-05T21:35:30.501675Z"
        },
        "tags": [],
        "id": "f8d42a47-7c45-4057-92d3-9e75af2786b1"
      },
      "outputs": [],
      "source": [
        "# df = df[[len(txt.split()) for txt in df.text] <= np.quantile([len(txt.split()) for txt in real.text], 0.95)]"
      ]
    },
    {
      "cell_type": "markdown",
      "id": "9b9e2ebe-1e15-4689-9218-94d0a8bd7d24",
      "metadata": {
        "id": "9b9e2ebe-1e15-4689-9218-94d0a8bd7d24"
      },
      "source": [
        "## Text cleaning"
      ]
    },
    {
      "cell_type": "code",
      "execution_count": 5,
      "id": "2ceb1349-e28e-402d-8243-3019d1197e4a",
      "metadata": {
        "execution": {
          "iopub.execute_input": "2023-04-05T21:35:30.516678Z",
          "iopub.status.busy": "2023-04-05T21:35:30.516678Z",
          "iopub.status.idle": "2023-04-05T21:35:30.547181Z",
          "shell.execute_reply": "2023-04-05T21:35:30.547181Z",
          "shell.execute_reply.started": "2023-04-05T21:35:30.516678Z"
        },
        "tags": [],
        "id": "2ceb1349-e28e-402d-8243-3019d1197e4a"
      },
      "outputs": [],
      "source": [
        "def remove_URL(text):\n",
        "    \"\"\"\n",
        "        Remove URLs from a sample string\n",
        "    \"\"\"\n",
        "    return re.sub(r\"https?://\\S+|www\\.\\S+\", \"\", text)\n",
        "\n",
        "def remove_html(text):\n",
        "    \"\"\"\n",
        "        Remove the html in sample text\n",
        "    \"\"\"\n",
        "    html = re.compile(r\"<.*?>|&([a-z0-9]+|#[0-9]{1,6}|#x[0-9a-f]{1,6});\")\n",
        "    return re.sub(html, \"\", text)\n",
        "\n",
        "def remove_non_ascii(text):\n",
        "    \"\"\"\n",
        "        Remove non-ASCII characters \n",
        "    \"\"\"\n",
        "    return re.sub(r'[^\\x00-\\x7f]',r'', text)\n",
        "\n",
        "def remove_special_characters(text):\n",
        "    \"\"\"\n",
        "        Remove special special characters, including symbols, emojis, and other graphic characters\n",
        "    \"\"\"\n",
        "    emoji_pattern = re.compile(\n",
        "        '['\n",
        "        u'\\U0001F600-\\U0001F64F'  # emoticons\n",
        "        u'\\U0001F300-\\U0001F5FF'  # symbols & pictographs\n",
        "        u'\\U0001F680-\\U0001F6FF'  # transport & map symbols\n",
        "        u'\\U0001F1E0-\\U0001F1FF'  # flags (iOS)\n",
        "        u'\\U00002702-\\U000027B0'\n",
        "        u'\\U000024C2-\\U0001F251'\n",
        "        ']+',\n",
        "        flags=re.UNICODE)\n",
        "    return emoji_pattern.sub(r'', text)\n",
        "\n",
        "def remove_hashtag(text):\n",
        "    return re.sub(r'#([^\\s]+)', r'\\1', text)# hashtag symbol\n",
        "\n",
        "def remove_punct(text):\n",
        "    \"\"\"\n",
        "        Remove the punctuation\n",
        "    \"\"\"\n",
        "    return re.sub(r'[]!\"$%&\\'()*+,/:;=#@?[\\\\^_`{|}~-]+', \"\", text) # exclude a dot\n",
        "#     return text.translate(str.maketrans('', '', string.punctuation)) # include a dot\n",
        "\n",
        "def other_clean(text):\n",
        "        \"\"\"\n",
        "            Other manual text cleaning techniques\n",
        "        \"\"\"\n",
        "        # Typos, slang and other\n",
        "        sample_typos_slang = {\n",
        "                                \"w/e\": \"whatever\",\n",
        "                                \"usagov\": \"usa government\",\n",
        "                                \"recentlu\": \"recently\",\n",
        "                                \"ph0tos\": \"photos\",\n",
        "                                \"amirite\": \"am i right\",\n",
        "                                \"exp0sed\": \"exposed\",\n",
        "                                \"<3\": \"love\",\n",
        "                                \"luv\": \"love\",\n",
        "                                \"amageddon\": \"armageddon\",\n",
        "                                \"trfc\": \"traffic\",\n",
        "                                \"16yr\": \"16 year\"\n",
        "                                }\n",
        "\n",
        "        # Acronyms\n",
        "        sample_acronyms =  { \n",
        "                            \"mh370\": \"malaysia airlines flight 370\",\n",
        "                            \"okwx\": \"oklahoma city weather\",\n",
        "                            \"arwx\": \"arkansas weather\",    \n",
        "                            \"gawx\": \"georgia weather\",  \n",
        "                            \"scwx\": \"south carolina weather\",  \n",
        "                            \"cawx\": \"california weather\",\n",
        "                            \"tnwx\": \"tennessee weather\",\n",
        "                            \"azwx\": \"arizona weather\",  \n",
        "                            \"alwx\": \"alabama weather\",\n",
        "                            \"usnwsgov\": \"united states national weather service\",\n",
        "                            \"2mw\": \"tomorrow\"\n",
        "                            }\n",
        "\n",
        "        \n",
        "        # Some common abbreviations \n",
        "        sample_abbr = {\n",
        "                        \"$\" : \" dollar \",\n",
        "                        \"€\" : \" euro \",\n",
        "                        \"4ao\" : \"for adults only\",\n",
        "                        \"a.m\" : \"before midday\",\n",
        "                        \"a3\" : \"anytime anywhere anyplace\",\n",
        "                        \"aamof\" : \"as a matter of fact\",\n",
        "                        \"acct\" : \"account\",\n",
        "                        \"adih\" : \"another day in hell\",\n",
        "                        \"afaic\" : \"as far as i am concerned\",\n",
        "                        \"afaict\" : \"as far as i can tell\",\n",
        "                        \"afaik\" : \"as far as i know\",\n",
        "                        \"afair\" : \"as far as i remember\",\n",
        "                        \"afk\" : \"away from keyboard\",\n",
        "                        \"app\" : \"application\",\n",
        "                        \"approx\" : \"approximately\",\n",
        "                        \"apps\" : \"applications\",\n",
        "                        \"asap\" : \"as soon as possible\",\n",
        "                        \"asl\" : \"age, sex, location\",\n",
        "                        \"atk\" : \"at the keyboard\",\n",
        "                        \"ave.\" : \"avenue\",\n",
        "                        \"aymm\" : \"are you my mother\",\n",
        "                        \"ayor\" : \"at your own risk\", \n",
        "                        \"b&b\" : \"bed and breakfast\",\n",
        "                        \"b+b\" : \"bed and breakfast\",\n",
        "                        \"b.c\" : \"before christ\",\n",
        "                        \"b2b\" : \"business to business\",\n",
        "                        \"b2c\" : \"business to customer\",\n",
        "                        \"b4\" : \"before\",\n",
        "                        \"b4n\" : \"bye for now\",\n",
        "                        \"b@u\" : \"back at you\",\n",
        "                        \"bae\" : \"before anyone else\",\n",
        "                        \"bak\" : \"back at keyboard\",\n",
        "                        \"bbbg\" : \"bye bye be good\",\n",
        "                        \"bbc\" : \"british broadcasting corporation\",\n",
        "                        \"bbias\" : \"be back in a second\",\n",
        "                        \"bbl\" : \"be back later\",\n",
        "                        \"bbs\" : \"be back soon\",\n",
        "                        \"be4\" : \"before\",\n",
        "                        \"bfn\" : \"bye for now\",\n",
        "                        \"blvd\" : \"boulevard\",\n",
        "                        \"bout\" : \"about\",\n",
        "                        \"brb\" : \"be right back\",\n",
        "                        \"bros\" : \"brothers\",\n",
        "                        \"brt\" : \"be right there\",\n",
        "                        \"bsaaw\" : \"big smile and a wink\",\n",
        "                        \"btw\" : \"by the way\",\n",
        "                        \"bwl\" : \"bursting with laughter\",\n",
        "                        \"c/o\" : \"care of\",\n",
        "                        \"cet\" : \"central european time\",\n",
        "                        \"cf\" : \"compare\",\n",
        "                        \"cia\" : \"central intelligence agency\",\n",
        "                        \"csl\" : \"can not stop laughing\",\n",
        "                        \"cu\" : \"see you\",\n",
        "                        \"cul8r\" : \"see you later\",\n",
        "                        \"cv\" : \"curriculum vitae\",\n",
        "                        \"cwot\" : \"complete waste of time\",\n",
        "                        \"cya\" : \"see you\",\n",
        "                        \"cyt\" : \"see you tomorrow\",\n",
        "                        \"dae\" : \"does anyone else\",\n",
        "                        \"dbmib\" : \"do not bother me i am busy\",\n",
        "                        \"diy\" : \"do it yourself\",\n",
        "                        \"dm\" : \"direct message\",\n",
        "                        \"dwh\" : \"during work hours\",\n",
        "                        \"e123\" : \"easy as one two three\",\n",
        "                        \"eet\" : \"eastern european time\",\n",
        "                        \"eg\" : \"example\",\n",
        "                        \"embm\" : \"early morning business meeting\",\n",
        "                        \"encl\" : \"enclosed\",\n",
        "                        \"encl.\" : \"enclosed\",\n",
        "                        \"etc\" : \"and so on\",\n",
        "                        \"faq\" : \"frequently asked questions\",\n",
        "                        \"fawc\" : \"for anyone who cares\",\n",
        "                        \"fb\" : \"facebook\",\n",
        "                        \"fc\" : \"fingers crossed\",\n",
        "                        \"fig\" : \"figure\",\n",
        "                        \"fimh\" : \"forever in my heart\", \n",
        "                        \"ft.\" : \"feet\",\n",
        "                        \"ft\" : \"featuring\",\n",
        "                        \"ftl\" : \"for the loss\",\n",
        "                        \"ftw\" : \"for the win\",\n",
        "                        \"fwiw\" : \"for what it is worth\",\n",
        "                        \"fyi\" : \"for your information\",\n",
        "                        \"g9\" : \"genius\",\n",
        "                        \"gahoy\" : \"get a hold of yourself\",\n",
        "                        \"gal\" : \"get a life\",\n",
        "                        \"gcse\" : \"general certificate of secondary education\",\n",
        "                        \"gfn\" : \"gone for now\",\n",
        "                        \"gg\" : \"good game\",\n",
        "                        \"gl\" : \"good luck\",\n",
        "                        \"glhf\" : \"good luck have fun\",\n",
        "                        \"gmt\" : \"greenwich mean time\",\n",
        "                        \"gmta\" : \"great minds think alike\",\n",
        "                        \"gn\" : \"good night\",\n",
        "                        \"g.o.a.t\" : \"greatest of all time\",\n",
        "                        \"goat\" : \"greatest of all time\",\n",
        "                        \"goi\" : \"get over it\",\n",
        "                        \"gps\" : \"global positioning system\",\n",
        "                        \"gr8\" : \"great\",\n",
        "                        \"gratz\" : \"congratulations\",\n",
        "                        \"gyal\" : \"girl\",\n",
        "                        \"h&c\" : \"hot and cold\",\n",
        "                        \"hp\" : \"horsepower\",\n",
        "                        \"hr\" : \"hour\",\n",
        "                        \"hrh\" : \"his royal highness\",\n",
        "                        \"ht\" : \"height\",\n",
        "                        \"ibrb\" : \"i will be right back\",\n",
        "                        \"ic\" : \"i see\",\n",
        "                        \"icq\" : \"i seek you\",\n",
        "                        \"icymi\" : \"in case you missed it\",\n",
        "                        \"idc\" : \"i do not care\",\n",
        "                        \"idgadf\" : \"i do not give a damn fuck\",\n",
        "                        \"idgaf\" : \"i do not give a fuck\",\n",
        "                        \"idk\" : \"i do not know\",\n",
        "                        \"ie\" : \"that is\",\n",
        "                        \"i.e\" : \"that is\",\n",
        "                        \"ifyp\" : \"i feel your pain\",\n",
        "                        \"IG\" : \"instagram\",\n",
        "                        \"iirc\" : \"if i remember correctly\",\n",
        "                        \"ilu\" : \"i love you\",\n",
        "                        \"ily\" : \"i love you\",\n",
        "                        \"imho\" : \"in my humble opinion\",\n",
        "                        \"imo\" : \"in my opinion\",\n",
        "                        \"imu\" : \"i miss you\",\n",
        "                        \"iow\" : \"in other words\",\n",
        "                        \"irl\" : \"in real life\",\n",
        "                        \"j4f\" : \"just for fun\",\n",
        "                        \"jic\" : \"just in case\",\n",
        "                        \"jk\" : \"just kidding\",\n",
        "                        \"jsyk\" : \"just so you know\",\n",
        "                        \"l8r\" : \"later\",\n",
        "                        \"lb\" : \"pound\",\n",
        "                        \"lbs\" : \"pounds\",\n",
        "                        \"ldr\" : \"long distance relationship\",\n",
        "                        \"lmao\" : \"laugh my ass off\",\n",
        "                        \"lmfao\" : \"laugh my fucking ass off\",\n",
        "                        \"lol\" : \"laughing out loud\",\n",
        "                        \"ltd\" : \"limited\",\n",
        "                        \"ltns\" : \"long time no see\",\n",
        "                        \"m8\" : \"mate\",\n",
        "                        \"mf\" : \"motherfucker\",\n",
        "                        \"mfs\" : \"motherfuckers\",\n",
        "                        \"mfw\" : \"my face when\",\n",
        "                        \"mofo\" : \"motherfucker\",\n",
        "                        \"mph\" : \"miles per hour\",\n",
        "                        \"mr\" : \"mister\",\n",
        "                        \"mrw\" : \"my reaction when\",\n",
        "                        \"ms\" : \"miss\",\n",
        "                        \"mte\" : \"my thoughts exactly\",\n",
        "                        \"nagi\" : \"not a good idea\",\n",
        "                        \"nbc\" : \"national broadcasting company\",\n",
        "                        \"nbd\" : \"not big deal\",\n",
        "                        \"nfs\" : \"not for sale\",\n",
        "                        \"ngl\" : \"not going to lie\",\n",
        "                        \"nhs\" : \"national health service\",\n",
        "                        \"nrn\" : \"no reply necessary\",\n",
        "                        \"nsfl\" : \"not safe for life\",\n",
        "                        \"nsfw\" : \"not safe for work\",\n",
        "                        \"nth\" : \"nice to have\",\n",
        "                        \"nvr\" : \"never\",\n",
        "                        \"nyc\" : \"new york city\",\n",
        "                        \"oc\" : \"original content\",\n",
        "                        \"og\" : \"original\",\n",
        "                        \"ohp\" : \"overhead projector\",\n",
        "                        \"oic\" : \"oh i see\",\n",
        "                        \"omdb\" : \"over my dead body\",\n",
        "                        \"omg\" : \"oh my god\",\n",
        "                        \"omw\" : \"on my way\",\n",
        "                        \"p.a\" : \"per annum\",\n",
        "                        \"p.m\" : \"after midday\",\n",
        "                        \"pm\" : \"prime minister\",\n",
        "                        \"poc\" : \"people of color\",\n",
        "                        \"pov\" : \"point of view\",\n",
        "                        \"pp\" : \"pages\",\n",
        "                        \"ppl\" : \"people\",\n",
        "                        \"prw\" : \"parents are watching\",\n",
        "                        \"ps\" : \"postscript\",\n",
        "                        \"pt\" : \"point\",\n",
        "                        \"ptb\" : \"please text back\",\n",
        "                        \"pto\" : \"please turn over\",\n",
        "                        \"qpsa\" : \"what happens\", #\"que pasa\",\n",
        "                        \"ratchet\" : \"rude\",\n",
        "                        \"rbtl\" : \"read between the lines\",\n",
        "                        \"rlrt\" : \"real life retweet\", \n",
        "                        \"rofl\" : \"rolling on the floor laughing\",\n",
        "                        \"roflol\" : \"rolling on the floor laughing out loud\",\n",
        "                        \"rotflmao\" : \"rolling on the floor laughing my ass off\",\n",
        "                        \"rt\" : \"retweet\",\n",
        "                        \"ruok\" : \"are you ok\",\n",
        "                        \"sfw\" : \"safe for work\",\n",
        "                        \"sk8\" : \"skate\",\n",
        "                        \"smh\" : \"shake my head\",\n",
        "                        \"sq\" : \"square\",\n",
        "                        \"srsly\" : \"seriously\", \n",
        "                        \"ssdd\" : \"same stuff different day\",\n",
        "                        \"tbh\" : \"to be honest\",\n",
        "                        \"tbs\" : \"tablespooful\",\n",
        "                        \"tbsp\" : \"tablespooful\",\n",
        "                        \"tfw\" : \"that feeling when\",\n",
        "                        \"thks\" : \"thank you\",\n",
        "                        \"tho\" : \"though\",\n",
        "                        \"thx\" : \"thank you\",\n",
        "                        \"tia\" : \"thanks in advance\",\n",
        "                        \"til\" : \"today i learned\",\n",
        "                        \"tl;dr\" : \"too long i did not read\",\n",
        "                        \"tldr\" : \"too long i did not read\",\n",
        "                        \"tmb\" : \"tweet me back\",\n",
        "                        \"tntl\" : \"trying not to laugh\",\n",
        "                        \"ttyl\" : \"talk to you later\",\n",
        "                        \"u.s.\" : 'usa',\n",
        "                        \"u\" : \"you\",\n",
        "                        \"u2\" : \"you too\",\n",
        "                        \"u4e\" : \"yours for ever\",\n",
        "                        \"utc\" : \"coordinated universal time\",\n",
        "                        \"w/\" : \"with\",\n",
        "                        \"w/o\" : \"without\",\n",
        "                        \"w8\" : \"wait\",\n",
        "                        \"wassup\" : \"what is up\",\n",
        "                        \"wb\" : \"welcome back\",\n",
        "                        \"wtf\" : \"what the fuck\",\n",
        "                        \"wtg\" : \"way to go\",\n",
        "                        \"wtpa\" : \"where the party at\",\n",
        "                        \"wuf\" : \"where are you from\",\n",
        "                        \"wuzup\" : \"what is up\",\n",
        "                        \"wywh\" : \"wish you were here\",\n",
        "                        \"yd\" : \"yard\",\n",
        "                        \"ygtr\" : \"you got that right\",\n",
        "                        \"ynk\" : \"you never know\",\n",
        "                        \"zzz\" : \"sleeping bored and tired\"\n",
        "                        }\n",
        "            \n",
        "        sample_typos_slang_pattern = re.compile(r'(?<!\\w)(' + '|'.join(re.escape(key) for key in sample_typos_slang.keys()) + r')(?!\\w)')\n",
        "        sample_acronyms_pattern = re.compile(r'(?<!\\w)(' + '|'.join(re.escape(key) for key in sample_acronyms.keys()) + r')(?!\\w)')\n",
        "        sample_abbr_pattern = re.compile(r'(?<!\\w)(' + '|'.join(re.escape(key) for key in sample_abbr.keys()) + r')(?!\\w)')\n",
        "        \n",
        "        text = sample_typos_slang_pattern.sub(lambda x: sample_typos_slang[x.group()], text)\n",
        "        text = sample_acronyms_pattern.sub(lambda x: sample_acronyms[x.group()], text)\n",
        "        text = sample_abbr_pattern.sub(lambda x: sample_abbr[x.group()], text)\n",
        "        \n",
        "        return text\n",
        "    \n",
        "def remove_digits(text):\n",
        "    \"\"\"\n",
        "        Remove the digits\n",
        "    \"\"\"\n",
        "    return ''.join([i for i in text if not i.isdigit()])\n",
        "\n",
        "def fix_spelling(text):\n",
        "    return str(TextBlob(text).correct())\n",
        "    \n",
        "def fix_contractions(text):\n",
        "    \"\"\"\n",
        "        Fix the contractions\n",
        "    \"\"\"\n",
        "    return contractions.fix(text)\n",
        "\n",
        "def transform_text(text):\n",
        "    text = remove_URL(text)\n",
        "    text = remove_html(text)\n",
        "    text = remove_non_ascii(text)\n",
        "    text = remove_special_characters(text)\n",
        "    text = remove_hashtag(text)\n",
        "    text = remove_punct(text)\n",
        "    text = text.lower()\n",
        "    text = other_clean(text)\n",
        "    text = contractions.fix(text)\n",
        "    text = text.lower()\n",
        "    text = text.strip()\n",
        "    return text"
      ]
    },
    {
      "cell_type": "code",
      "execution_count": 6,
      "id": "4e608929-7b3a-4b1b-8267-c627a33e06e3",
      "metadata": {
        "execution": {
          "iopub.execute_input": "2023-04-05T21:35:30.548187Z",
          "iopub.status.busy": "2023-04-05T21:35:30.548187Z",
          "iopub.status.idle": "2023-04-05T21:35:30.562692Z",
          "shell.execute_reply": "2023-04-05T21:35:30.562692Z",
          "shell.execute_reply.started": "2023-04-05T21:35:30.548187Z"
        },
        "tags": [],
        "id": "4e608929-7b3a-4b1b-8267-c627a33e06e3",
        "outputId": "415ed23c-a738-42f9-b220-aa41b047d17b",
        "colab": {
          "base_uri": "https://localhost:8080/",
          "height": 53
        }
      },
      "outputs": [
        {
          "output_type": "execute_result",
          "data": {
            "text/plain": [
              "'members of the fyf911 or fukyoflag and blacklivesmatter movements are not called for the lynching and hanging of white people and cops. they encouraged others on a radio show tuesday night to  turn the tide  and kill white people and cops to send a message about the killing of black people in america.one of the fyoflag organizers is called  sunshine.  she has a radio blog show hosted from texas called  sunshine s fing'"
            ],
            "application/vnd.google.colaboratory.intrinsic+json": {
              "type": "string"
            }
          },
          "metadata": {},
          "execution_count": 6
        }
      ],
      "source": [
        "transform_text('Members of the #FYF911 or #FukYoFlag and #BlackLivesMatter movements ain\"t called for the lynching and hanging of white people and cops. They encouraged others on a radio show Tuesday night to  turn the tide  and kill white people and cops to send a message about the killing of black people in America.One of the F***YoFlag organizers is called  Sunshine.  She has a radio blog show hosted from Texas called,  Sunshine s F***ing ')"
      ]
    },
    {
      "cell_type": "code",
      "execution_count": 7,
      "id": "ef0ffda3-58dc-4a2f-bd64-a7c349a66066",
      "metadata": {
        "execution": {
          "iopub.execute_input": "2023-04-05T21:35:30.563698Z",
          "iopub.status.busy": "2023-04-05T21:35:30.563698Z",
          "iopub.status.idle": "2023-04-05T21:36:36.588526Z",
          "shell.execute_reply": "2023-04-05T21:36:36.587526Z",
          "shell.execute_reply.started": "2023-04-05T21:35:30.563698Z"
        },
        "tags": [],
        "id": "ef0ffda3-58dc-4a2f-bd64-a7c349a66066"
      },
      "outputs": [],
      "source": [
        "df['text2'] = df.text.apply(transform_text)\n",
        "df['title2'] = df.title.apply(transform_text)"
      ]
    },
    {
      "cell_type": "code",
      "execution_count": 8,
      "id": "25721453-569c-49aa-a37c-07bf637c6380",
      "metadata": {
        "execution": {
          "iopub.execute_input": "2023-04-05T21:36:36.589524Z",
          "iopub.status.busy": "2023-04-05T21:36:36.589524Z",
          "iopub.status.idle": "2023-04-05T21:36:36.603522Z",
          "shell.execute_reply": "2023-04-05T21:36:36.603522Z",
          "shell.execute_reply.started": "2023-04-05T21:36:36.589524Z"
        },
        "tags": [],
        "id": "25721453-569c-49aa-a37c-07bf637c6380",
        "outputId": "352f228d-406f-4910-bda3-f36807df6443",
        "colab": {
          "base_uri": "https://localhost:8080/"
        }
      },
      "outputs": [
        {
          "output_type": "stream",
          "name": "stdout",
          "text": [
            "HARARE (Reuters) - Zimbabwe President Robert Mugabe arrived at a university graduation ceremony in the capital on Friday, his first public appearance since a military seizure of power that political sources say is aimed at ending his 37 years in office. Wearing a blue and yellow academic gown and mortar board hat, the 93-year-old sat in large wooden chair at the front the hall. He was greeted by ululations from the crowd as he declared the ceremony open. \n",
            "-----------------\n",
            "harare reuters  zimbabwe president robert mugabe arrived at a university graduation ceremony in the capital on friday his first public appearance since a military seizure of power that political sources say is aimed at ending his 37 years in office. wearing a blue and yellow academic gown and mortar board hat the 93yearold sat in large wooden chair at the front the hall. he was greeted by ululations from the crowd as he declared the ceremony open.\n"
          ]
        }
      ],
      "source": [
        "for i in range(29, 100):\n",
        "    print(df['text'].iloc[i])\n",
        "    print('-----------------')\n",
        "    print(df['text2'].iloc[i])\n",
        "    break"
      ]
    },
    {
      "cell_type": "markdown",
      "id": "3ceb2af0-1095-400f-9d4f-d2b4940a68b1",
      "metadata": {
        "id": "3ceb2af0-1095-400f-9d4f-d2b4940a68b1"
      },
      "source": [
        "# Splitting data"
      ]
    },
    {
      "cell_type": "code",
      "execution_count": 8,
      "id": "fb3a0d08-835c-47f5-bb0f-81124d9737ef",
      "metadata": {
        "execution": {
          "iopub.execute_input": "2023-04-05T21:58:56.282708Z",
          "iopub.status.busy": "2023-04-05T21:58:56.281708Z",
          "iopub.status.idle": "2023-04-05T21:58:56.301710Z",
          "shell.execute_reply": "2023-04-05T21:58:56.301710Z",
          "shell.execute_reply.started": "2023-04-05T21:58:56.281708Z"
        },
        "tags": [],
        "id": "fb3a0d08-835c-47f5-bb0f-81124d9737ef"
      },
      "outputs": [],
      "source": [
        "df_X, df_y = df.drop(columns=['label']), df['label']"
      ]
    },
    {
      "cell_type": "code",
      "execution_count": 9,
      "id": "b6715bbb-808c-4c35-94da-954dbd257be5",
      "metadata": {
        "execution": {
          "iopub.execute_input": "2023-04-05T21:58:56.475828Z",
          "iopub.status.busy": "2023-04-05T21:58:56.475828Z",
          "iopub.status.idle": "2023-04-05T21:58:56.522827Z",
          "shell.execute_reply": "2023-04-05T21:58:56.522827Z",
          "shell.execute_reply.started": "2023-04-05T21:58:56.475828Z"
        },
        "tags": [],
        "id": "b6715bbb-808c-4c35-94da-954dbd257be5"
      },
      "outputs": [],
      "source": [
        "X_train, X_test, y_train, y_test = train_test_split(df_X, df_y, test_size=0.1, random_state=42, shuffle=True)\n",
        "X_train, X_val, y_train, y_val = train_test_split(X_train, y_train, test_size=0.2, random_state=42, shuffle=True)"
      ]
    },
    {
      "cell_type": "code",
      "execution_count": 10,
      "id": "05803b43-b74f-4c62-8296-8ad035f7799c",
      "metadata": {
        "execution": {
          "iopub.execute_input": "2023-04-05T21:58:56.669698Z",
          "iopub.status.busy": "2023-04-05T21:58:56.669698Z",
          "iopub.status.idle": "2023-04-05T21:58:56.677698Z",
          "shell.execute_reply": "2023-04-05T21:58:56.677698Z",
          "shell.execute_reply.started": "2023-04-05T21:58:56.669698Z"
        },
        "tags": [],
        "id": "05803b43-b74f-4c62-8296-8ad035f7799c",
        "outputId": "6e7b0012-baa7-492a-d2f9-2a2009f676d4",
        "colab": {
          "base_uri": "https://localhost:8080/"
        }
      },
      "outputs": [
        {
          "output_type": "stream",
          "name": "stdout",
          "text": [
            "Train:      (51506, 4) | (51506,)\n",
            "Validation: (12877, 4) | (12877,)\n",
            "Test:       (7154, 4)  | (7154,)\n"
          ]
        }
      ],
      "source": [
        "print(f'Train:      {X_train.shape} | {y_train.shape}')\n",
        "print(f'Validation: {X_val.shape} | {y_val.shape}')\n",
        "print(f'Test:       {X_test.shape}  | {y_test.shape}')"
      ]
    },
    {
      "cell_type": "code",
      "execution_count": 11,
      "id": "4a7cd3c4-686d-4f56-9710-9c591db96089",
      "metadata": {
        "execution": {
          "iopub.execute_input": "2023-04-05T21:58:56.842212Z",
          "iopub.status.busy": "2023-04-05T21:58:56.842212Z",
          "iopub.status.idle": "2023-04-05T21:58:56.851211Z",
          "shell.execute_reply": "2023-04-05T21:58:56.851211Z",
          "shell.execute_reply.started": "2023-04-05T21:58:56.842212Z"
        },
        "tags": [],
        "id": "4a7cd3c4-686d-4f56-9710-9c591db96089",
        "outputId": "aa5467bf-0eda-483a-a602-e1aeed0f2dbf",
        "colab": {
          "base_uri": "https://localhost:8080/"
        }
      },
      "outputs": [
        {
          "output_type": "stream",
          "name": "stdout",
          "text": [
            "\t\t\treal   | fake\n",
            "Train:      0.5110860870578185 | 0.4889139129421815\n",
            "Validation: 0.5119981362118506 | 0.5119981362118506\n",
            "Test:       0.5020967291026    | 0.5020967291026\n"
          ]
        }
      ],
      "source": [
        "print('\\t\\t\\treal   | fake')\n",
        "print(f'Train:      {sum(y_train==1)/len(y_train)} | {sum(y_train==0)/len(y_train)}')\n",
        "print(f'Validation: {sum(y_val==1)/len(y_val)} | {sum(y_val==1)/len(y_val)}')\n",
        "print(f'Test:       {sum(y_test==1)/len(y_test)}    | {sum(y_test==1)/len(y_test)}')"
      ]
    },
    {
      "cell_type": "code",
      "execution_count": 9,
      "id": "f419f31d-42c9-407e-859d-d1728cf41083",
      "metadata": {
        "execution": {
          "iopub.execute_input": "2023-04-05T21:58:57.028740Z",
          "iopub.status.busy": "2023-04-05T21:58:57.028740Z",
          "iopub.status.idle": "2023-04-05T21:58:57.038253Z",
          "shell.execute_reply": "2023-04-05T21:58:57.038253Z",
          "shell.execute_reply.started": "2023-04-05T21:58:57.028740Z"
        },
        "tags": [],
        "id": "f419f31d-42c9-407e-859d-d1728cf41083"
      },
      "outputs": [],
      "source": [
        "from sklearn.feature_extraction.text import TfidfVectorizer"
      ]
    },
    {
      "cell_type": "code",
      "execution_count": 10,
      "id": "b504cf75-7586-4de9-be08-db2182b610ea",
      "metadata": {
        "execution": {
          "iopub.execute_input": "2023-04-05T21:58:57.636899Z",
          "iopub.status.busy": "2023-04-05T21:58:57.635901Z",
          "iopub.status.idle": "2023-04-05T21:58:57.649898Z",
          "shell.execute_reply": "2023-04-05T21:58:57.649898Z",
          "shell.execute_reply.started": "2023-04-05T21:58:57.636899Z"
        },
        "tags": [],
        "id": "b504cf75-7586-4de9-be08-db2182b610ea"
      },
      "outputs": [],
      "source": [
        "from scipy.sparse import hstack"
      ]
    },
    {
      "cell_type": "code",
      "execution_count": null,
      "id": "69782130-2852-4e11-a195-7d3a563622c8",
      "metadata": {
        "execution": {
          "iopub.execute_input": "2023-04-05T21:58:58.161704Z",
          "iopub.status.busy": "2023-04-05T21:58:58.161704Z",
          "iopub.status.idle": "2023-04-05T21:58:58.167703Z",
          "shell.execute_reply": "2023-04-05T21:58:58.167703Z",
          "shell.execute_reply.started": "2023-04-05T21:58:58.161704Z"
        },
        "tags": [],
        "id": "69782130-2852-4e11-a195-7d3a563622c8"
      },
      "outputs": [],
      "source": [
        "def tfidf_vectorize(data):\n",
        "    new_data = data[['text2', 'title2']]\n",
        "    vectorizer = TfidfVectorizer()\n",
        "    text2 = vectorizer.fit_transform(new_data['text2'])\n",
        "    title2 = vectorizer.fit_transform(new_data['title2'])\n",
        "    return hstack([text2, title2])\n",
        "\n",
        "def tfidf_vectorize_all(train, val, test):\n",
        "    new_train = train[['text2', 'title2']]\n",
        "    new_val = val[['text2', 'title2']]\n",
        "    new_test = test[['text2', 'title2']]\n",
        "    vectorizer_text = TfidfVectorizer()\n",
        "    vectorizer_title = TfidfVectorizer()\n",
        "    \n",
        "    train_text2 = vectorizer_text.fit_transform(new_train['text2'])\n",
        "    train_title2 = vectorizer_title.fit_transform(new_train['title2'])\n",
        "    \n",
        "    val_text2 = vectorizer_text.transform(new_val['text2'])\n",
        "    val_title2 = vectorizer_title.transform(new_val['title2'])\n",
        "    \n",
        "    test_text2 = vectorizer_text.transform(new_test['text2'])\n",
        "    test_title2 = vectorizer_title.transform(new_test['title2'])\n",
        "    \n",
        "    return (\n",
        "        hstack([train_text2, train_title2]),\n",
        "        hstack([val_text2, val_title2]),\n",
        "        hstack([test_text2, test_title2])\n",
        "    )"
      ]
    },
    {
      "cell_type": "code",
      "execution_count": null,
      "id": "6eae494f-5dd0-47c4-9826-63db3b0a528a",
      "metadata": {
        "execution": {
          "iopub.execute_input": "2023-04-05T21:59:00.061355Z",
          "iopub.status.busy": "2023-04-05T21:59:00.061355Z",
          "iopub.status.idle": "2023-04-05T21:59:15.310743Z",
          "shell.execute_reply": "2023-04-05T21:59:15.310743Z",
          "shell.execute_reply.started": "2023-04-05T21:59:00.061355Z"
        },
        "tags": [],
        "id": "6eae494f-5dd0-47c4-9826-63db3b0a528a",
        "outputId": "459c03cf-b5d5-4aa6-f456-9a4f3b2b8f9a"
      },
      "outputs": [
        {
          "name": "stdout",
          "output_type": "stream",
          "text": [
            "Train:      (51506, 278717)\n",
            "Validation: (12877, 278717)\n",
            "Test:       (7154, 278717)\n"
          ]
        }
      ],
      "source": [
        "X_train, X_val, X_test = tfidf_vectorize_all(X_train, X_val, X_test)\n",
        "print(f'Train:      {X_train.shape}')\n",
        "print(f'Validation: {X_val.shape}')\n",
        "print(f'Test:       {X_test.shape}')"
      ]
    },
    {
      "cell_type": "code",
      "execution_count": null,
      "id": "25173e28-7108-4ecc-8bdb-30880404e481",
      "metadata": {
        "execution": {
          "iopub.execute_input": "2023-04-05T21:30:20.576708Z",
          "iopub.status.busy": "2023-04-05T21:30:20.576708Z",
          "iopub.status.idle": "2023-04-05T21:30:20.591704Z",
          "shell.execute_reply": "2023-04-05T21:30:20.591704Z",
          "shell.execute_reply.started": "2023-04-05T21:30:20.576708Z"
        },
        "tags": [],
        "id": "25173e28-7108-4ecc-8bdb-30880404e481"
      },
      "outputs": [],
      "source": [
        "class CustomTfidfVectorizer(TfidfVectorizer):\n",
        "    def __init__(self):\n",
        "        super().__init__()\n",
        "\n",
        "    def fit_transform(self, X, y):\n",
        "        new_X = X[['text2', 'title2']]\n",
        "        vectorizer = TfidfVectorizer()\n",
        "        vectorized_text = super().fit_transform(new_X['text2'])\n",
        "        vectorized_title = super().fit_transform(new_X['title2'])\n",
        "        result = pd.DataFrame({'text2': np.array(vectorized_text),\n",
        "                               'title2': np.array(vectorized_title)})\n",
        "        return result"
      ]
    },
    {
      "cell_type": "code",
      "execution_count": null,
      "id": "cb0b710b-e691-416c-b192-7ccc7da70a3d",
      "metadata": {
        "execution": {
          "iopub.execute_input": "2023-04-05T20:39:46.751927Z",
          "iopub.status.busy": "2023-04-05T20:39:46.751927Z",
          "iopub.status.idle": "2023-04-05T20:39:46.762930Z",
          "shell.execute_reply": "2023-04-05T20:39:46.762930Z",
          "shell.execute_reply.started": "2023-04-05T20:39:46.751927Z"
        },
        "tags": [],
        "id": "cb0b710b-e691-416c-b192-7ccc7da70a3d",
        "outputId": "8b22ca3e-df9c-4db5-ce2e-794bfd86fb41"
      },
      "outputs": [
        {
          "data": {
            "text/plain": [
              "array([[0., 0., 0., 0., 0., 0., 0., 0., 0., 0.],\n",
              "       [0., 0., 0., 0., 0., 0., 0., 0., 0., 0.],\n",
              "       [0., 0., 0., 0., 0., 0., 0., 0., 0., 0.],\n",
              "       [0., 0., 0., 0., 0., 0., 0., 0., 0., 0.],\n",
              "       [0., 0., 0., 0., 0., 0., 0., 0., 0., 0.],\n",
              "       [0., 0., 0., 0., 0., 0., 0., 0., 0., 0.],\n",
              "       [0., 0., 0., 0., 0., 0., 0., 0., 0., 0.],\n",
              "       [0., 0., 0., 0., 0., 0., 0., 0., 0., 0.],\n",
              "       [0., 0., 0., 0., 0., 0., 0., 0., 0., 0.],\n",
              "       [0., 0., 0., 0., 0., 0., 0., 0., 0., 0.]])"
            ]
          },
          "execution_count": 100,
          "metadata": {},
          "output_type": "execute_result"
        }
      ],
      "source": [
        "np.concatenate([np.zeros((10, 5)), np.zeros((10, 5))], axis=1)"
      ]
    },
    {
      "cell_type": "code",
      "execution_count": null,
      "id": "f5dc1107-cc52-4b93-874f-a36d62c51c06",
      "metadata": {
        "collapsed": true,
        "execution": {
          "iopub.execute_input": "2023-04-05T20:34:06.905701Z",
          "iopub.status.busy": "2023-04-05T20:34:06.904704Z",
          "iopub.status.idle": "2023-04-05T20:34:07.004640Z",
          "shell.execute_reply": "2023-04-05T20:34:07.003638Z",
          "shell.execute_reply.started": "2023-04-05T20:34:06.905701Z"
        },
        "jupyter": {
          "outputs_hidden": true
        },
        "tags": [],
        "id": "f5dc1107-cc52-4b93-874f-a36d62c51c06",
        "outputId": "400e60b1-b1fd-4e52-8b9a-b82644e89e1b"
      },
      "outputs": [
        {
          "ename": "ValueError",
          "evalue": "If using all scalar values, you must pass an index",
          "output_type": "error",
          "traceback": [
            "\u001b[1;31m---------------------------------------------------------------------------\u001b[0m",
            "\u001b[1;31mValueError\u001b[0m                                Traceback (most recent call last)",
            "Cell \u001b[1;32mIn[91], line 8\u001b[0m\n\u001b[0;32m      1\u001b[0m pipe_svm \u001b[38;5;241m=\u001b[39m Pipeline(\n\u001b[0;32m      2\u001b[0m     [\n\u001b[0;32m      3\u001b[0m         (\u001b[38;5;124m'\u001b[39m\u001b[38;5;124mvectorizer\u001b[39m\u001b[38;5;124m'\u001b[39m, CustomTfidfVectorizer()),\n\u001b[0;32m      4\u001b[0m         (\u001b[38;5;124m'\u001b[39m\u001b[38;5;124mclassifier\u001b[39m\u001b[38;5;124m'\u001b[39m, SVC())\n\u001b[0;32m      5\u001b[0m     ]\n\u001b[0;32m      6\u001b[0m )\n\u001b[1;32m----> 8\u001b[0m \u001b[43mpipe_svm\u001b[49m\u001b[38;5;241;43m.\u001b[39;49m\u001b[43mfit\u001b[49m\u001b[43m(\u001b[49m\u001b[43mX_train\u001b[49m\u001b[43m[\u001b[49m\u001b[43m:\u001b[49m\u001b[38;5;241;43m100\u001b[39;49m\u001b[43m]\u001b[49m\u001b[43m,\u001b[49m\u001b[43m \u001b[49m\u001b[43my_train\u001b[49m\u001b[43m[\u001b[49m\u001b[43m:\u001b[49m\u001b[38;5;241;43m100\u001b[39;49m\u001b[43m]\u001b[49m\u001b[43m)\u001b[49m\n",
            "File \u001b[1;32mC:\\ProgramData\\Anaconda3\\envs\\pytorch_1\\lib\\site-packages\\sklearn\\pipeline.py:401\u001b[0m, in \u001b[0;36mPipeline.fit\u001b[1;34m(self, X, y, **fit_params)\u001b[0m\n\u001b[0;32m    375\u001b[0m \u001b[38;5;124;03m\"\"\"Fit the model.\u001b[39;00m\n\u001b[0;32m    376\u001b[0m \n\u001b[0;32m    377\u001b[0m \u001b[38;5;124;03mFit all the transformers one after the other and transform the\u001b[39;00m\n\u001b[1;32m   (...)\u001b[0m\n\u001b[0;32m    398\u001b[0m \u001b[38;5;124;03m    Pipeline with fitted steps.\u001b[39;00m\n\u001b[0;32m    399\u001b[0m \u001b[38;5;124;03m\"\"\"\u001b[39;00m\n\u001b[0;32m    400\u001b[0m fit_params_steps \u001b[38;5;241m=\u001b[39m \u001b[38;5;28mself\u001b[39m\u001b[38;5;241m.\u001b[39m_check_fit_params(\u001b[38;5;241m*\u001b[39m\u001b[38;5;241m*\u001b[39mfit_params)\n\u001b[1;32m--> 401\u001b[0m Xt \u001b[38;5;241m=\u001b[39m \u001b[38;5;28mself\u001b[39m\u001b[38;5;241m.\u001b[39m_fit(X, y, \u001b[38;5;241m*\u001b[39m\u001b[38;5;241m*\u001b[39mfit_params_steps)\n\u001b[0;32m    402\u001b[0m \u001b[38;5;28;01mwith\u001b[39;00m _print_elapsed_time(\u001b[38;5;124m\"\u001b[39m\u001b[38;5;124mPipeline\u001b[39m\u001b[38;5;124m\"\u001b[39m, \u001b[38;5;28mself\u001b[39m\u001b[38;5;241m.\u001b[39m_log_message(\u001b[38;5;28mlen\u001b[39m(\u001b[38;5;28mself\u001b[39m\u001b[38;5;241m.\u001b[39msteps) \u001b[38;5;241m-\u001b[39m \u001b[38;5;241m1\u001b[39m)):\n\u001b[0;32m    403\u001b[0m     \u001b[38;5;28;01mif\u001b[39;00m \u001b[38;5;28mself\u001b[39m\u001b[38;5;241m.\u001b[39m_final_estimator \u001b[38;5;241m!=\u001b[39m \u001b[38;5;124m\"\u001b[39m\u001b[38;5;124mpassthrough\u001b[39m\u001b[38;5;124m\"\u001b[39m:\n",
            "File \u001b[1;32mC:\\ProgramData\\Anaconda3\\envs\\pytorch_1\\lib\\site-packages\\sklearn\\pipeline.py:359\u001b[0m, in \u001b[0;36mPipeline._fit\u001b[1;34m(self, X, y, **fit_params_steps)\u001b[0m\n\u001b[0;32m    357\u001b[0m     cloned_transformer \u001b[38;5;241m=\u001b[39m clone(transformer)\n\u001b[0;32m    358\u001b[0m \u001b[38;5;66;03m# Fit or load from cache the current transformer\u001b[39;00m\n\u001b[1;32m--> 359\u001b[0m X, fitted_transformer \u001b[38;5;241m=\u001b[39m fit_transform_one_cached(\n\u001b[0;32m    360\u001b[0m     cloned_transformer,\n\u001b[0;32m    361\u001b[0m     X,\n\u001b[0;32m    362\u001b[0m     y,\n\u001b[0;32m    363\u001b[0m     \u001b[38;5;28;01mNone\u001b[39;00m,\n\u001b[0;32m    364\u001b[0m     message_clsname\u001b[38;5;241m=\u001b[39m\u001b[38;5;124m\"\u001b[39m\u001b[38;5;124mPipeline\u001b[39m\u001b[38;5;124m\"\u001b[39m,\n\u001b[0;32m    365\u001b[0m     message\u001b[38;5;241m=\u001b[39m\u001b[38;5;28mself\u001b[39m\u001b[38;5;241m.\u001b[39m_log_message(step_idx),\n\u001b[0;32m    366\u001b[0m     \u001b[38;5;241m*\u001b[39m\u001b[38;5;241m*\u001b[39mfit_params_steps[name],\n\u001b[0;32m    367\u001b[0m )\n\u001b[0;32m    368\u001b[0m \u001b[38;5;66;03m# Replace the transformer of the step with the fitted\u001b[39;00m\n\u001b[0;32m    369\u001b[0m \u001b[38;5;66;03m# transformer. This is necessary when loading the transformer\u001b[39;00m\n\u001b[0;32m    370\u001b[0m \u001b[38;5;66;03m# from the cache.\u001b[39;00m\n\u001b[0;32m    371\u001b[0m \u001b[38;5;28mself\u001b[39m\u001b[38;5;241m.\u001b[39msteps[step_idx] \u001b[38;5;241m=\u001b[39m (name, fitted_transformer)\n",
            "File \u001b[1;32mC:\\ProgramData\\Anaconda3\\envs\\pytorch_1\\lib\\site-packages\\joblib\\memory.py:349\u001b[0m, in \u001b[0;36mNotMemorizedFunc.__call__\u001b[1;34m(self, *args, **kwargs)\u001b[0m\n\u001b[0;32m    348\u001b[0m \u001b[38;5;28;01mdef\u001b[39;00m \u001b[38;5;21m__call__\u001b[39m(\u001b[38;5;28mself\u001b[39m, \u001b[38;5;241m*\u001b[39margs, \u001b[38;5;241m*\u001b[39m\u001b[38;5;241m*\u001b[39mkwargs):\n\u001b[1;32m--> 349\u001b[0m     \u001b[38;5;28;01mreturn\u001b[39;00m \u001b[38;5;28mself\u001b[39m\u001b[38;5;241m.\u001b[39mfunc(\u001b[38;5;241m*\u001b[39margs, \u001b[38;5;241m*\u001b[39m\u001b[38;5;241m*\u001b[39mkwargs)\n",
            "File \u001b[1;32mC:\\ProgramData\\Anaconda3\\envs\\pytorch_1\\lib\\site-packages\\sklearn\\pipeline.py:893\u001b[0m, in \u001b[0;36m_fit_transform_one\u001b[1;34m(transformer, X, y, weight, message_clsname, message, **fit_params)\u001b[0m\n\u001b[0;32m    891\u001b[0m \u001b[38;5;28;01mwith\u001b[39;00m _print_elapsed_time(message_clsname, message):\n\u001b[0;32m    892\u001b[0m     \u001b[38;5;28;01mif\u001b[39;00m \u001b[38;5;28mhasattr\u001b[39m(transformer, \u001b[38;5;124m\"\u001b[39m\u001b[38;5;124mfit_transform\u001b[39m\u001b[38;5;124m\"\u001b[39m):\n\u001b[1;32m--> 893\u001b[0m         res \u001b[38;5;241m=\u001b[39m transformer\u001b[38;5;241m.\u001b[39mfit_transform(X, y, \u001b[38;5;241m*\u001b[39m\u001b[38;5;241m*\u001b[39mfit_params)\n\u001b[0;32m    894\u001b[0m     \u001b[38;5;28;01melse\u001b[39;00m:\n\u001b[0;32m    895\u001b[0m         res \u001b[38;5;241m=\u001b[39m transformer\u001b[38;5;241m.\u001b[39mfit(X, y, \u001b[38;5;241m*\u001b[39m\u001b[38;5;241m*\u001b[39mfit_params)\u001b[38;5;241m.\u001b[39mtransform(X)\n",
            "Cell \u001b[1;32mIn[90], line 10\u001b[0m, in \u001b[0;36mCustomTfidfVectorizer.fit_transform\u001b[1;34m(self, X, y)\u001b[0m\n\u001b[0;32m      8\u001b[0m vectorized_text \u001b[38;5;241m=\u001b[39m \u001b[38;5;28msuper\u001b[39m()\u001b[38;5;241m.\u001b[39mfit_transform(new_X[\u001b[38;5;124m'\u001b[39m\u001b[38;5;124mtext2\u001b[39m\u001b[38;5;124m'\u001b[39m])\n\u001b[0;32m      9\u001b[0m vectorized_title \u001b[38;5;241m=\u001b[39m \u001b[38;5;28msuper\u001b[39m()\u001b[38;5;241m.\u001b[39mfit_transform(new_X[\u001b[38;5;124m'\u001b[39m\u001b[38;5;124mtitle2\u001b[39m\u001b[38;5;124m'\u001b[39m])\n\u001b[1;32m---> 10\u001b[0m result \u001b[38;5;241m=\u001b[39m \u001b[43mpd\u001b[49m\u001b[38;5;241;43m.\u001b[39;49m\u001b[43mDataFrame\u001b[49m\u001b[43m(\u001b[49m\u001b[43m{\u001b[49m\u001b[38;5;124;43m'\u001b[39;49m\u001b[38;5;124;43mtext2\u001b[39;49m\u001b[38;5;124;43m'\u001b[39;49m\u001b[43m:\u001b[49m\u001b[43m \u001b[49m\u001b[43mnp\u001b[49m\u001b[38;5;241;43m.\u001b[39;49m\u001b[43marray\u001b[49m\u001b[43m(\u001b[49m\u001b[43mvectorized_text\u001b[49m\u001b[43m)\u001b[49m\u001b[43m,\u001b[49m\n\u001b[0;32m     11\u001b[0m \u001b[43m                       \u001b[49m\u001b[38;5;124;43m'\u001b[39;49m\u001b[38;5;124;43mtitle2\u001b[39;49m\u001b[38;5;124;43m'\u001b[39;49m\u001b[43m:\u001b[49m\u001b[43m \u001b[49m\u001b[43mnp\u001b[49m\u001b[38;5;241;43m.\u001b[39;49m\u001b[43marray\u001b[49m\u001b[43m(\u001b[49m\u001b[43mvectorized_title\u001b[49m\u001b[43m)\u001b[49m\u001b[43m}\u001b[49m\u001b[43m)\u001b[49m\n\u001b[0;32m     12\u001b[0m \u001b[38;5;28;01mreturn\u001b[39;00m result\n",
            "File \u001b[1;32mC:\\ProgramData\\Anaconda3\\envs\\pytorch_1\\lib\\site-packages\\pandas\\core\\frame.py:664\u001b[0m, in \u001b[0;36mDataFrame.__init__\u001b[1;34m(self, data, index, columns, dtype, copy)\u001b[0m\n\u001b[0;32m    658\u001b[0m     mgr \u001b[38;5;241m=\u001b[39m \u001b[38;5;28mself\u001b[39m\u001b[38;5;241m.\u001b[39m_init_mgr(\n\u001b[0;32m    659\u001b[0m         data, axes\u001b[38;5;241m=\u001b[39m{\u001b[38;5;124m\"\u001b[39m\u001b[38;5;124mindex\u001b[39m\u001b[38;5;124m\"\u001b[39m: index, \u001b[38;5;124m\"\u001b[39m\u001b[38;5;124mcolumns\u001b[39m\u001b[38;5;124m\"\u001b[39m: columns}, dtype\u001b[38;5;241m=\u001b[39mdtype, copy\u001b[38;5;241m=\u001b[39mcopy\n\u001b[0;32m    660\u001b[0m     )\n\u001b[0;32m    662\u001b[0m \u001b[38;5;28;01melif\u001b[39;00m \u001b[38;5;28misinstance\u001b[39m(data, \u001b[38;5;28mdict\u001b[39m):\n\u001b[0;32m    663\u001b[0m     \u001b[38;5;66;03m# GH#38939 de facto copy defaults to False only in non-dict cases\u001b[39;00m\n\u001b[1;32m--> 664\u001b[0m     mgr \u001b[38;5;241m=\u001b[39m \u001b[43mdict_to_mgr\u001b[49m\u001b[43m(\u001b[49m\u001b[43mdata\u001b[49m\u001b[43m,\u001b[49m\u001b[43m \u001b[49m\u001b[43mindex\u001b[49m\u001b[43m,\u001b[49m\u001b[43m \u001b[49m\u001b[43mcolumns\u001b[49m\u001b[43m,\u001b[49m\u001b[43m \u001b[49m\u001b[43mdtype\u001b[49m\u001b[38;5;241;43m=\u001b[39;49m\u001b[43mdtype\u001b[49m\u001b[43m,\u001b[49m\u001b[43m \u001b[49m\u001b[43mcopy\u001b[49m\u001b[38;5;241;43m=\u001b[39;49m\u001b[43mcopy\u001b[49m\u001b[43m,\u001b[49m\u001b[43m \u001b[49m\u001b[43mtyp\u001b[49m\u001b[38;5;241;43m=\u001b[39;49m\u001b[43mmanager\u001b[49m\u001b[43m)\u001b[49m\n\u001b[0;32m    665\u001b[0m \u001b[38;5;28;01melif\u001b[39;00m \u001b[38;5;28misinstance\u001b[39m(data, ma\u001b[38;5;241m.\u001b[39mMaskedArray):\n\u001b[0;32m    666\u001b[0m     \u001b[38;5;28;01mimport\u001b[39;00m \u001b[38;5;21;01mnumpy\u001b[39;00m\u001b[38;5;21;01m.\u001b[39;00m\u001b[38;5;21;01mma\u001b[39;00m\u001b[38;5;21;01m.\u001b[39;00m\u001b[38;5;21;01mmrecords\u001b[39;00m \u001b[38;5;28;01mas\u001b[39;00m \u001b[38;5;21;01mmrecords\u001b[39;00m\n",
            "File \u001b[1;32mC:\\ProgramData\\Anaconda3\\envs\\pytorch_1\\lib\\site-packages\\pandas\\core\\internals\\construction.py:493\u001b[0m, in \u001b[0;36mdict_to_mgr\u001b[1;34m(data, index, columns, dtype, typ, copy)\u001b[0m\n\u001b[0;32m    489\u001b[0m     \u001b[38;5;28;01melse\u001b[39;00m:\n\u001b[0;32m    490\u001b[0m         \u001b[38;5;66;03m# dtype check to exclude e.g. range objects, scalars\u001b[39;00m\n\u001b[0;32m    491\u001b[0m         arrays \u001b[38;5;241m=\u001b[39m [x\u001b[38;5;241m.\u001b[39mcopy() \u001b[38;5;28;01mif\u001b[39;00m \u001b[38;5;28mhasattr\u001b[39m(x, \u001b[38;5;124m\"\u001b[39m\u001b[38;5;124mdtype\u001b[39m\u001b[38;5;124m\"\u001b[39m) \u001b[38;5;28;01melse\u001b[39;00m x \u001b[38;5;28;01mfor\u001b[39;00m x \u001b[38;5;129;01min\u001b[39;00m arrays]\n\u001b[1;32m--> 493\u001b[0m \u001b[38;5;28;01mreturn\u001b[39;00m \u001b[43marrays_to_mgr\u001b[49m\u001b[43m(\u001b[49m\u001b[43marrays\u001b[49m\u001b[43m,\u001b[49m\u001b[43m \u001b[49m\u001b[43mcolumns\u001b[49m\u001b[43m,\u001b[49m\u001b[43m \u001b[49m\u001b[43mindex\u001b[49m\u001b[43m,\u001b[49m\u001b[43m \u001b[49m\u001b[43mdtype\u001b[49m\u001b[38;5;241;43m=\u001b[39;49m\u001b[43mdtype\u001b[49m\u001b[43m,\u001b[49m\u001b[43m \u001b[49m\u001b[43mtyp\u001b[49m\u001b[38;5;241;43m=\u001b[39;49m\u001b[43mtyp\u001b[49m\u001b[43m,\u001b[49m\u001b[43m \u001b[49m\u001b[43mconsolidate\u001b[49m\u001b[38;5;241;43m=\u001b[39;49m\u001b[43mcopy\u001b[49m\u001b[43m)\u001b[49m\n",
            "File \u001b[1;32mC:\\ProgramData\\Anaconda3\\envs\\pytorch_1\\lib\\site-packages\\pandas\\core\\internals\\construction.py:118\u001b[0m, in \u001b[0;36marrays_to_mgr\u001b[1;34m(arrays, columns, index, dtype, verify_integrity, typ, consolidate)\u001b[0m\n\u001b[0;32m    115\u001b[0m \u001b[38;5;28;01mif\u001b[39;00m verify_integrity:\n\u001b[0;32m    116\u001b[0m     \u001b[38;5;66;03m# figure out the index, if necessary\u001b[39;00m\n\u001b[0;32m    117\u001b[0m     \u001b[38;5;28;01mif\u001b[39;00m index \u001b[38;5;129;01mis\u001b[39;00m \u001b[38;5;28;01mNone\u001b[39;00m:\n\u001b[1;32m--> 118\u001b[0m         index \u001b[38;5;241m=\u001b[39m \u001b[43m_extract_index\u001b[49m\u001b[43m(\u001b[49m\u001b[43marrays\u001b[49m\u001b[43m)\u001b[49m\n\u001b[0;32m    119\u001b[0m     \u001b[38;5;28;01melse\u001b[39;00m:\n\u001b[0;32m    120\u001b[0m         index \u001b[38;5;241m=\u001b[39m ensure_index(index)\n",
            "File \u001b[1;32mC:\\ProgramData\\Anaconda3\\envs\\pytorch_1\\lib\\site-packages\\pandas\\core\\internals\\construction.py:656\u001b[0m, in \u001b[0;36m_extract_index\u001b[1;34m(data)\u001b[0m\n\u001b[0;32m    653\u001b[0m         \u001b[38;5;28;01mraise\u001b[39;00m \u001b[38;5;167;01mValueError\u001b[39;00m(\u001b[38;5;124m\"\u001b[39m\u001b[38;5;124mPer-column arrays must each be 1-dimensional\u001b[39m\u001b[38;5;124m\"\u001b[39m)\n\u001b[0;32m    655\u001b[0m \u001b[38;5;28;01mif\u001b[39;00m \u001b[38;5;129;01mnot\u001b[39;00m indexes \u001b[38;5;129;01mand\u001b[39;00m \u001b[38;5;129;01mnot\u001b[39;00m raw_lengths:\n\u001b[1;32m--> 656\u001b[0m     \u001b[38;5;28;01mraise\u001b[39;00m \u001b[38;5;167;01mValueError\u001b[39;00m(\u001b[38;5;124m\"\u001b[39m\u001b[38;5;124mIf using all scalar values, you must pass an index\u001b[39m\u001b[38;5;124m\"\u001b[39m)\n\u001b[0;32m    658\u001b[0m \u001b[38;5;28;01melif\u001b[39;00m have_series:\n\u001b[0;32m    659\u001b[0m     index \u001b[38;5;241m=\u001b[39m union_indexes(indexes)\n",
            "\u001b[1;31mValueError\u001b[0m: If using all scalar values, you must pass an index"
          ]
        }
      ],
      "source": [
        "pipe_svm = Pipeline(\n",
        "    [\n",
        "        ('vectorizer', CustomTfidfVectorizer()),\n",
        "        ('classifier', SVC())\n",
        "    ]\n",
        ")\n",
        "\n",
        "pipe_svm.fit(X_train[:100], y_train[:100])"
      ]
    },
    {
      "cell_type": "code",
      "execution_count": null,
      "id": "d324df95-0178-411a-93b7-2dfc9a1e9585",
      "metadata": {
        "execution": {
          "iopub.execute_input": "2023-04-05T21:59:25.524702Z",
          "iopub.status.busy": "2023-04-05T21:59:25.523701Z",
          "iopub.status.idle": "2023-04-05T21:59:25.538205Z",
          "shell.execute_reply": "2023-04-05T21:59:25.538205Z",
          "shell.execute_reply.started": "2023-04-05T21:59:25.524702Z"
        },
        "tags": [],
        "id": "d324df95-0178-411a-93b7-2dfc9a1e9585"
      },
      "outputs": [],
      "source": [
        "svm = SVC(verbose=True)"
      ]
    },
    {
      "cell_type": "code",
      "execution_count": null,
      "id": "75c8e1a3-eec7-4214-9906-d36919344953",
      "metadata": {
        "execution": {
          "iopub.execute_input": "2023-04-05T21:59:29.795217Z",
          "iopub.status.busy": "2023-04-05T21:59:29.795217Z",
          "iopub.status.idle": "2023-04-05T22:00:25.643375Z",
          "shell.execute_reply": "2023-04-05T22:00:25.642378Z",
          "shell.execute_reply.started": "2023-04-05T21:59:29.795217Z"
        },
        "tags": [],
        "id": "75c8e1a3-eec7-4214-9906-d36919344953",
        "outputId": "58225f79-4616-4f1f-8fc3-5c5d0868e6c7"
      },
      "outputs": [
        {
          "data": {
            "text/html": [
              "<style>#sk-container-id-3 {color: black;background-color: white;}#sk-container-id-3 pre{padding: 0;}#sk-container-id-3 div.sk-toggleable {background-color: white;}#sk-container-id-3 label.sk-toggleable__label {cursor: pointer;display: block;width: 100%;margin-bottom: 0;padding: 0.3em;box-sizing: border-box;text-align: center;}#sk-container-id-3 label.sk-toggleable__label-arrow:before {content: \"▸\";float: left;margin-right: 0.25em;color: #696969;}#sk-container-id-3 label.sk-toggleable__label-arrow:hover:before {color: black;}#sk-container-id-3 div.sk-estimator:hover label.sk-toggleable__label-arrow:before {color: black;}#sk-container-id-3 div.sk-toggleable__content {max-height: 0;max-width: 0;overflow: hidden;text-align: left;background-color: #f0f8ff;}#sk-container-id-3 div.sk-toggleable__content pre {margin: 0.2em;color: black;border-radius: 0.25em;background-color: #f0f8ff;}#sk-container-id-3 input.sk-toggleable__control:checked~div.sk-toggleable__content {max-height: 200px;max-width: 100%;overflow: auto;}#sk-container-id-3 input.sk-toggleable__control:checked~label.sk-toggleable__label-arrow:before {content: \"▾\";}#sk-container-id-3 div.sk-estimator input.sk-toggleable__control:checked~label.sk-toggleable__label {background-color: #d4ebff;}#sk-container-id-3 div.sk-label input.sk-toggleable__control:checked~label.sk-toggleable__label {background-color: #d4ebff;}#sk-container-id-3 input.sk-hidden--visually {border: 0;clip: rect(1px 1px 1px 1px);clip: rect(1px, 1px, 1px, 1px);height: 1px;margin: -1px;overflow: hidden;padding: 0;position: absolute;width: 1px;}#sk-container-id-3 div.sk-estimator {font-family: monospace;background-color: #f0f8ff;border: 1px dotted black;border-radius: 0.25em;box-sizing: border-box;margin-bottom: 0.5em;}#sk-container-id-3 div.sk-estimator:hover {background-color: #d4ebff;}#sk-container-id-3 div.sk-parallel-item::after {content: \"\";width: 100%;border-bottom: 1px solid gray;flex-grow: 1;}#sk-container-id-3 div.sk-label:hover label.sk-toggleable__label {background-color: #d4ebff;}#sk-container-id-3 div.sk-serial::before {content: \"\";position: absolute;border-left: 1px solid gray;box-sizing: border-box;top: 0;bottom: 0;left: 50%;z-index: 0;}#sk-container-id-3 div.sk-serial {display: flex;flex-direction: column;align-items: center;background-color: white;padding-right: 0.2em;padding-left: 0.2em;position: relative;}#sk-container-id-3 div.sk-item {position: relative;z-index: 1;}#sk-container-id-3 div.sk-parallel {display: flex;align-items: stretch;justify-content: center;background-color: white;position: relative;}#sk-container-id-3 div.sk-item::before, #sk-container-id-3 div.sk-parallel-item::before {content: \"\";position: absolute;border-left: 1px solid gray;box-sizing: border-box;top: 0;bottom: 0;left: 50%;z-index: -1;}#sk-container-id-3 div.sk-parallel-item {display: flex;flex-direction: column;z-index: 1;position: relative;background-color: white;}#sk-container-id-3 div.sk-parallel-item:first-child::after {align-self: flex-end;width: 50%;}#sk-container-id-3 div.sk-parallel-item:last-child::after {align-self: flex-start;width: 50%;}#sk-container-id-3 div.sk-parallel-item:only-child::after {width: 0;}#sk-container-id-3 div.sk-dashed-wrapped {border: 1px dashed gray;margin: 0 0.4em 0.5em 0.4em;box-sizing: border-box;padding-bottom: 0.4em;background-color: white;}#sk-container-id-3 div.sk-label label {font-family: monospace;font-weight: bold;display: inline-block;line-height: 1.2em;}#sk-container-id-3 div.sk-label-container {text-align: center;}#sk-container-id-3 div.sk-container {/* jupyter's `normalize.less` sets `[hidden] { display: none; }` but bootstrap.min.css set `[hidden] { display: none !important; }` so we also need the `!important` here to be able to override the default hidden behavior on the sphinx rendered scikit-learn.org. See: https://github.com/scikit-learn/scikit-learn/issues/21755 */display: inline-block !important;position: relative;}#sk-container-id-3 div.sk-text-repr-fallback {display: none;}</style><div id=\"sk-container-id-3\" class=\"sk-top-container\"><div class=\"sk-text-repr-fallback\"><pre>SVC(verbose=True)</pre><b>In a Jupyter environment, please rerun this cell to show the HTML representation or trust the notebook. <br />On GitHub, the HTML representation is unable to render, please try loading this page with nbviewer.org.</b></div><div class=\"sk-container\" hidden><div class=\"sk-item\"><div class=\"sk-estimator sk-toggleable\"><input class=\"sk-toggleable__control sk-hidden--visually\" id=\"sk-estimator-id-3\" type=\"checkbox\" checked><label for=\"sk-estimator-id-3\" class=\"sk-toggleable__label sk-toggleable__label-arrow\">SVC</label><div class=\"sk-toggleable__content\"><pre>SVC(verbose=True)</pre></div></div></div></div></div>"
            ],
            "text/plain": [
              "SVC(verbose=True)"
            ]
          },
          "execution_count": 68,
          "metadata": {},
          "output_type": "execute_result"
        }
      ],
      "source": [
        "svm.fit(X_train, y_train)"
      ]
    },
    {
      "cell_type": "code",
      "execution_count": null,
      "id": "60c26e42-30d2-4a24-9e82-1f87bc9885b4",
      "metadata": {
        "execution": {
          "iopub.execute_input": "2023-04-05T22:00:28.133705Z",
          "iopub.status.busy": "2023-04-05T22:00:28.133705Z",
          "iopub.status.idle": "2023-04-05T22:00:32.519112Z",
          "shell.execute_reply": "2023-04-05T22:00:32.519112Z",
          "shell.execute_reply.started": "2023-04-05T22:00:28.133705Z"
        },
        "tags": [],
        "id": "60c26e42-30d2-4a24-9e82-1f87bc9885b4",
        "outputId": "e89ef8ef-7ad9-4b19-f46a-1878c5d0ad8d"
      },
      "outputs": [
        {
          "data": {
            "text/plain": [
              "(7154,)"
            ]
          },
          "execution_count": 69,
          "metadata": {},
          "output_type": "execute_result"
        }
      ],
      "source": [
        "y_preds = svm.predict(X_test)\n",
        "y_preds.shape"
      ]
    },
    {
      "cell_type": "code",
      "execution_count": 11,
      "id": "583711c1-f911-4b46-b801-0f03ae0f56c2",
      "metadata": {
        "execution": {
          "iopub.execute_input": "2023-04-05T22:00:42.482244Z",
          "iopub.status.busy": "2023-04-05T22:00:42.482244Z",
          "iopub.status.idle": "2023-04-05T22:00:42.485246Z",
          "shell.execute_reply": "2023-04-05T22:00:42.485246Z",
          "shell.execute_reply.started": "2023-04-05T22:00:42.482244Z"
        },
        "id": "583711c1-f911-4b46-b801-0f03ae0f56c2"
      },
      "outputs": [],
      "source": [
        "from sklearn.metrics import confusion_matrix,classification_report"
      ]
    },
    {
      "cell_type": "code",
      "execution_count": null,
      "id": "d089e99a-fc3a-4da4-b1a0-10f9979f48e1",
      "metadata": {
        "execution": {
          "iopub.execute_input": "2023-04-05T22:00:47.617045Z",
          "iopub.status.busy": "2023-04-05T22:00:47.616046Z",
          "iopub.status.idle": "2023-04-05T22:00:47.746705Z",
          "shell.execute_reply": "2023-04-05T22:00:47.746705Z",
          "shell.execute_reply.started": "2023-04-05T22:00:47.617045Z"
        },
        "id": "d089e99a-fc3a-4da4-b1a0-10f9979f48e1",
        "outputId": "1700a973-8296-40d7-a566-b57df29fead5"
      },
      "outputs": [
        {
          "data": {
            "text/plain": [
              "Text(0.5, 427.9555555555555, 'Predicted label')"
            ]
          },
          "execution_count": 71,
          "metadata": {},
          "output_type": "execute_result"
        },
        {
          "data": {
            "image/png": "[encoded data removed]",
            "text/plain": [
              "<Figure size 640x480 with 2 Axes>"
            ]
          },
          "metadata": {},
          "output_type": "display_data"
        }
      ],
      "source": [
        "cm = confusion_matrix(y_test,y_preds)\n",
        "class_names=[0,1] # name  of classes\n",
        "fig, ax = plt.subplots()\n",
        "tick_marks = np.arange(len(class_names))\n",
        "plt.xticks(tick_marks, class_names)\n",
        "plt.yticks(tick_marks, class_names)\n",
        "# create heatmap\n",
        "sns.heatmap(pd.DataFrame(cm), annot=True, cmap=\"BuPu\" ,fmt='g')\n",
        "ax.xaxis.set_label_position(\"top\")\n",
        "plt.tight_layout()\n",
        "plt.title('Confusion matrix', y=1.1)\n",
        "plt.ylabel('Actual label')\n",
        "plt.xlabel('Predicted label')"
      ]
    },
    {
      "cell_type": "code",
      "execution_count": null,
      "id": "2f1a2083-790d-4284-a1bc-3f0053f1748e",
      "metadata": {
        "execution": {
          "iopub.execute_input": "2023-04-05T22:00:57.239641Z",
          "iopub.status.busy": "2023-04-05T22:00:57.239641Z",
          "iopub.status.idle": "2023-04-05T22:00:57.261642Z",
          "shell.execute_reply": "2023-04-05T22:00:57.261642Z",
          "shell.execute_reply.started": "2023-04-05T22:00:57.239641Z"
        },
        "id": "2f1a2083-790d-4284-a1bc-3f0053f1748e",
        "outputId": "7a34bd79-4132-4856-9ac7-534aea062ebe"
      },
      "outputs": [
        {
          "name": "stdout",
          "output_type": "stream",
          "text": [
            "              precision    recall  f1-score   support\n",
            "\n",
            "           0       0.98      0.97      0.98      3562\n",
            "           1       0.97      0.98      0.98      3592\n",
            "\n",
            "    accuracy                           0.98      7154\n",
            "   macro avg       0.98      0.98      0.98      7154\n",
            "weighted avg       0.98      0.98      0.98      7154\n",
            "\n"
          ]
        }
      ],
      "source": [
        "print(classification_report(y_test,y_preds))"
      ]
    },
    {
      "cell_type": "code",
      "execution_count": null,
      "id": "c21790aa-8704-411b-8522-fe426ba1c6a8",
      "metadata": {
        "id": "c21790aa-8704-411b-8522-fe426ba1c6a8"
      },
      "outputs": [],
      "source": []
    },
    {
      "cell_type": "markdown",
      "source": [
        "# test\n"
      ],
      "metadata": {
        "id": "PnPhbybMQE39"
      },
      "id": "PnPhbybMQE39"
    },
    {
      "cell_type": "code",
      "source": [
        "def tfidf_vectorize_all_ver2(train, val, test):\n",
        "    new_train = train[['text2', 'title2']]\n",
        "    new_val = val[['text2', 'title2']]\n",
        "    new_test = test[['text2', 'title2']]\n",
        "    vectorizer_text1 = TfidfVectorizer()\n",
        "    vectorizer_title1 = TfidfVectorizer()\n",
        "    \n",
        "    train_text2 = vectorizer_text1.fit_transform(new_train['text2'])\n",
        "    train_title2 = vectorizer_title1.fit_transform(new_train['title2'])\n",
        "\n",
        "    vectorizer_text2 = TfidfVectorizer(vocabulary=vectorizer_text1.vocabulary_)\n",
        "    vectorizer_title2 = TfidfVectorizer(vocabulary=vectorizer_title1.vocabulary_)\n",
        "\n",
        "    val_text2 = vectorizer_text2.fit_transform(new_val['text2'])\n",
        "    val_title2 = vectorizer_title2.fit_transform(new_val['title2'])\n",
        "    \n",
        "    test_text2 = vectorizer_text2.fit_transform(new_test['text2'])\n",
        "    test_title2 = vectorizer_title2.fit_transform(new_test['title2'])\n",
        "    \n",
        "    return (\n",
        "        hstack([train_text2, train_title2]),\n",
        "        hstack([val_text2, val_title2]),\n",
        "        hstack([test_text2, test_title2])\n",
        "    )"
      ],
      "metadata": {
        "id": "p89tsy4OQHPz"
      },
      "id": "p89tsy4OQHPz",
      "execution_count": 16,
      "outputs": []
    },
    {
      "cell_type": "code",
      "source": [
        "X_train, X_val, X_test = tfidf_vectorize_all_ver2(X_train, X_val, X_test)\n",
        "print(f'Train:      {X_train.shape}')\n",
        "print(f'Validation: {X_val.shape}')\n",
        "print(f'Test:       {X_test.shape}')"
      ],
      "metadata": {
        "id": "H3FpzEkSQ1il",
        "outputId": "904f95a7-b2d4-4193-cf07-612cd988b6ec",
        "colab": {
          "base_uri": "https://localhost:8080/"
        }
      },
      "id": "H3FpzEkSQ1il",
      "execution_count": 17,
      "outputs": [
        {
          "output_type": "stream",
          "name": "stdout",
          "text": [
            "Train:      (51506, 278717)\n",
            "Validation: (12877, 278717)\n",
            "Test:       (7154, 278717)\n"
          ]
        }
      ]
    },
    {
      "cell_type": "code",
      "source": [
        "svm = SVC(verbose=True)"
      ],
      "metadata": {
        "id": "2ooeNGx1Q5yj"
      },
      "id": "2ooeNGx1Q5yj",
      "execution_count": 18,
      "outputs": []
    },
    {
      "cell_type": "code",
      "source": [
        "svm.fit(X_train, y_train)"
      ],
      "metadata": {
        "id": "3CZVLZDoRQkI",
        "outputId": "5271889e-41a0-4b2b-c355-c996505e23af",
        "colab": {
          "base_uri": "https://localhost:8080/",
          "height": 75
        }
      },
      "id": "3CZVLZDoRQkI",
      "execution_count": 19,
      "outputs": [
        {
          "output_type": "execute_result",
          "data": {
            "text/plain": [
              "SVC(verbose=True)"
            ],
            "text/html": [
              "<style>#sk-container-id-1 {color: black;background-color: white;}#sk-container-id-1 pre{padding: 0;}#sk-container-id-1 div.sk-toggleable {background-color: white;}#sk-container-id-1 label.sk-toggleable__label {cursor: pointer;display: block;width: 100%;margin-bottom: 0;padding: 0.3em;box-sizing: border-box;text-align: center;}#sk-container-id-1 label.sk-toggleable__label-arrow:before {content: \"▸\";float: left;margin-right: 0.25em;color: #696969;}#sk-container-id-1 label.sk-toggleable__label-arrow:hover:before {color: black;}#sk-container-id-1 div.sk-estimator:hover label.sk-toggleable__label-arrow:before {color: black;}#sk-container-id-1 div.sk-toggleable__content {max-height: 0;max-width: 0;overflow: hidden;text-align: left;background-color: #f0f8ff;}#sk-container-id-1 div.sk-toggleable__content pre {margin: 0.2em;color: black;border-radius: 0.25em;background-color: #f0f8ff;}#sk-container-id-1 input.sk-toggleable__control:checked~div.sk-toggleable__content {max-height: 200px;max-width: 100%;overflow: auto;}#sk-container-id-1 input.sk-toggleable__control:checked~label.sk-toggleable__label-arrow:before {content: \"▾\";}#sk-container-id-1 div.sk-estimator input.sk-toggleable__control:checked~label.sk-toggleable__label {background-color: #d4ebff;}#sk-container-id-1 div.sk-label input.sk-toggleable__control:checked~label.sk-toggleable__label {background-color: #d4ebff;}#sk-container-id-1 input.sk-hidden--visually {border: 0;clip: rect(1px 1px 1px 1px);clip: rect(1px, 1px, 1px, 1px);height: 1px;margin: -1px;overflow: hidden;padding: 0;position: absolute;width: 1px;}#sk-container-id-1 div.sk-estimator {font-family: monospace;background-color: #f0f8ff;border: 1px dotted black;border-radius: 0.25em;box-sizing: border-box;margin-bottom: 0.5em;}#sk-container-id-1 div.sk-estimator:hover {background-color: #d4ebff;}#sk-container-id-1 div.sk-parallel-item::after {content: \"\";width: 100%;border-bottom: 1px solid gray;flex-grow: 1;}#sk-container-id-1 div.sk-label:hover label.sk-toggleable__label {background-color: #d4ebff;}#sk-container-id-1 div.sk-serial::before {content: \"\";position: absolute;border-left: 1px solid gray;box-sizing: border-box;top: 0;bottom: 0;left: 50%;z-index: 0;}#sk-container-id-1 div.sk-serial {display: flex;flex-direction: column;align-items: center;background-color: white;padding-right: 0.2em;padding-left: 0.2em;position: relative;}#sk-container-id-1 div.sk-item {position: relative;z-index: 1;}#sk-container-id-1 div.sk-parallel {display: flex;align-items: stretch;justify-content: center;background-color: white;position: relative;}#sk-container-id-1 div.sk-item::before, #sk-container-id-1 div.sk-parallel-item::before {content: \"\";position: absolute;border-left: 1px solid gray;box-sizing: border-box;top: 0;bottom: 0;left: 50%;z-index: -1;}#sk-container-id-1 div.sk-parallel-item {display: flex;flex-direction: column;z-index: 1;position: relative;background-color: white;}#sk-container-id-1 div.sk-parallel-item:first-child::after {align-self: flex-end;width: 50%;}#sk-container-id-1 div.sk-parallel-item:last-child::after {align-self: flex-start;width: 50%;}#sk-container-id-1 div.sk-parallel-item:only-child::after {width: 0;}#sk-container-id-1 div.sk-dashed-wrapped {border: 1px dashed gray;margin: 0 0.4em 0.5em 0.4em;box-sizing: border-box;padding-bottom: 0.4em;background-color: white;}#sk-container-id-1 div.sk-label label {font-family: monospace;font-weight: bold;display: inline-block;line-height: 1.2em;}#sk-container-id-1 div.sk-label-container {text-align: center;}#sk-container-id-1 div.sk-container {/* jupyter's `normalize.less` sets `[hidden] { display: none; }` but bootstrap.min.css set `[hidden] { display: none !important; }` so we also need the `!important` here to be able to override the default hidden behavior on the sphinx rendered scikit-learn.org. See: https://github.com/scikit-learn/scikit-learn/issues/21755 */display: inline-block !important;position: relative;}#sk-container-id-1 div.sk-text-repr-fallback {display: none;}</style><div id=\"sk-container-id-1\" class=\"sk-top-container\"><div class=\"sk-text-repr-fallback\"><pre>SVC(verbose=True)</pre><b>In a Jupyter environment, please rerun this cell to show the HTML representation or trust the notebook. <br />On GitHub, the HTML representation is unable to render, please try loading this page with nbviewer.org.</b></div><div class=\"sk-container\" hidden><div class=\"sk-item\"><div class=\"sk-estimator sk-toggleable\"><input class=\"sk-toggleable__control sk-hidden--visually\" id=\"sk-estimator-id-1\" type=\"checkbox\" checked><label for=\"sk-estimator-id-1\" class=\"sk-toggleable__label sk-toggleable__label-arrow\">SVC</label><div class=\"sk-toggleable__content\"><pre>SVC(verbose=True)</pre></div></div></div></div></div>"
            ]
          },
          "metadata": {},
          "execution_count": 19
        }
      ]
    },
    {
      "cell_type": "code",
      "source": [
        "y_preds = svm.predict(X_test)\n",
        "y_preds.shape"
      ],
      "metadata": {
        "id": "kz0UHyfBRTJo",
        "outputId": "33cb2dd8-3fd2-431b-922e-2f0105908254",
        "colab": {
          "base_uri": "https://localhost:8080/"
        }
      },
      "id": "kz0UHyfBRTJo",
      "execution_count": 20,
      "outputs": [
        {
          "output_type": "execute_result",
          "data": {
            "text/plain": [
              "(7154,)"
            ]
          },
          "metadata": {},
          "execution_count": 20
        }
      ]
    },
    {
      "cell_type": "code",
      "source": [
        "cm = confusion_matrix(y_test,y_preds)\n",
        "class_names=[0,1] # name  of classes\n",
        "fig, ax = plt.subplots()\n",
        "tick_marks = np.arange(len(class_names))\n",
        "plt.xticks(tick_marks, class_names)\n",
        "plt.yticks(tick_marks, class_names)\n",
        "# create heatmap\n",
        "sns.heatmap(pd.DataFrame(cm), annot=True, cmap=\"BuPu\" ,fmt='g')\n",
        "ax.xaxis.set_label_position(\"top\")\n",
        "plt.tight_layout()\n",
        "plt.title('Confusion matrix', y=1.1)\n",
        "plt.ylabel('Actual label')\n",
        "plt.xlabel('Predicted label')"
      ],
      "metadata": {
        "id": "bEj2zdDES2Rl",
        "outputId": "5ea9e8be-4543-4a92-e2e4-e6c9024ddb33",
        "colab": {
          "base_uri": "https://localhost:8080/",
          "height": 567
        }
      },
      "id": "bEj2zdDES2Rl",
      "execution_count": 22,
      "outputs": [
        {
          "output_type": "execute_result",
          "data": {
            "text/plain": [
              "Text(0.5, 427.9555555555555, 'Predicted label')"
            ]
          },
          "metadata": {},
          "execution_count": 22
        },
        {
          "output_type": "display_data",
          "data": {
            "text/plain": [
              "<Figure size 640x480 with 2 Axes>"
            ],
            "image/png": "[encoded data removed]"
          },
          "metadata": {}
        }
      ]
    },
    {
      "cell_type": "code",
      "source": [
        "print(classification_report(y_test,y_preds))"
      ],
      "metadata": {
        "id": "GnYrerhUS8hT",
        "outputId": "fe89bfa8-402b-4f7c-f1a9-b5117f6a566c",
        "colab": {
          "base_uri": "https://localhost:8080/"
        }
      },
      "id": "GnYrerhUS8hT",
      "execution_count": 23,
      "outputs": [
        {
          "output_type": "stream",
          "name": "stdout",
          "text": [
            "              precision    recall  f1-score   support\n",
            "\n",
            "           0       0.98      0.97      0.98      3562\n",
            "           1       0.97      0.98      0.98      3592\n",
            "\n",
            "    accuracy                           0.98      7154\n",
            "   macro avg       0.98      0.98      0.98      7154\n",
            "weighted avg       0.98      0.98      0.98      7154\n",
            "\n"
          ]
        }
      ]
    },
    {
      "cell_type": "code",
      "source": [
        "from sklearn.metrics import accuracy_score, f1_score"
      ],
      "metadata": {
        "id": "k8IuIxTGTLJK"
      },
      "id": "k8IuIxTGTLJK",
      "execution_count": 26,
      "outputs": []
    },
    {
      "cell_type": "code",
      "source": [
        "accuracy_score(y_test,y_preds)"
      ],
      "metadata": {
        "id": "_0L8vS4BUhsY",
        "outputId": "5681b4a9-a4eb-432e-d0df-b946b496aae6",
        "colab": {
          "base_uri": "https://localhost:8080/"
        }
      },
      "id": "_0L8vS4BUhsY",
      "execution_count": 27,
      "outputs": [
        {
          "output_type": "execute_result",
          "data": {
            "text/plain": [
              "0.9759575062901873"
            ]
          },
          "metadata": {},
          "execution_count": 27
        }
      ]
    },
    {
      "cell_type": "code",
      "source": [
        "f1_score(y_test,y_preds)"
      ],
      "metadata": {
        "id": "0G_Sk6heUthp",
        "outputId": "a018a943-0cc9-4686-809b-1d242f13f7d2",
        "colab": {
          "base_uri": "https://localhost:8080/"
        }
      },
      "id": "0G_Sk6heUthp",
      "execution_count": 28,
      "outputs": [
        {
          "output_type": "execute_result",
          "data": {
            "text/plain": [
              "0.976249654791494"
            ]
          },
          "metadata": {},
          "execution_count": 28
        }
      ]
    },
    {
      "cell_type": "markdown",
      "source": [
        "# test 2"
      ],
      "metadata": {
        "id": "IzDLY925U9Bg"
      },
      "id": "IzDLY925U9Bg"
    },
    {
      "cell_type": "code",
      "source": [
        "df_X, df_y = df.drop(columns=['label']), df['label']"
      ],
      "metadata": {
        "id": "IUj62FjVUwXP"
      },
      "id": "IUj62FjVUwXP",
      "execution_count": 13,
      "outputs": []
    },
    {
      "cell_type": "code",
      "source": [
        "vectorizer_text_ = TfidfVectorizer()\n",
        "vectorizer_title_ = TfidfVectorizer()\n",
        "text2_ = vectorizer_text_.fit_transform(df_X['text2'])\n",
        "title2_ = vectorizer_title_.fit_transform(df_X['title2'])\n",
        "df_X_ = hstack([text2_, title2_])"
      ],
      "metadata": {
        "id": "0jYVutYCU8MI"
      },
      "id": "0jYVutYCU8MI",
      "execution_count": 14,
      "outputs": []
    },
    {
      "cell_type": "code",
      "source": [
        "X_train, X_test, y_train, y_test = train_test_split(df_X_, df_y, test_size=0.1, random_state=42, shuffle=True)\n",
        "X_train, X_val, y_train, y_val = train_test_split(X_train, y_train, test_size=0.2, random_state=42, shuffle=True)"
      ],
      "metadata": {
        "id": "BG74aJaBVxGv"
      },
      "id": "BG74aJaBVxGv",
      "execution_count": 15,
      "outputs": []
    },
    {
      "cell_type": "code",
      "source": [
        "print(f'Train:      {X_train.shape} | {y_train.shape}')\n",
        "print(f'Validation: {X_val.shape} | {y_val.shape}')\n",
        "print(f'Test:       {X_test.shape}  | {y_test.shape}')"
      ],
      "metadata": {
        "id": "81HZ0q4HV5KV",
        "outputId": "6ca6a1b2-49f1-4544-ad40-0aa10fe1bdc6",
        "colab": {
          "base_uri": "https://localhost:8080/"
        }
      },
      "id": "81HZ0q4HV5KV",
      "execution_count": 16,
      "outputs": [
        {
          "output_type": "stream",
          "name": "stdout",
          "text": [
            "Train:      (51506, 325098) | (51506,)\n",
            "Validation: (12877, 325098) | (12877,)\n",
            "Test:       (7154, 325098)  | (7154,)\n"
          ]
        }
      ]
    },
    {
      "cell_type": "code",
      "source": [
        "svm_ = SVC(verbose=True)"
      ],
      "metadata": {
        "id": "ZlmvNd_wVn74"
      },
      "id": "ZlmvNd_wVn74",
      "execution_count": 37,
      "outputs": []
    },
    {
      "cell_type": "code",
      "source": [
        "svm_.fit(X_train, y_train)"
      ],
      "metadata": {
        "id": "qmQZJXBJWAvH",
        "outputId": "b8979598-23ff-408b-9270-4b6edb7fa6a8",
        "colab": {
          "base_uri": "https://localhost:8080/",
          "height": 75
        }
      },
      "id": "qmQZJXBJWAvH",
      "execution_count": 38,
      "outputs": [
        {
          "output_type": "execute_result",
          "data": {
            "text/plain": [
              "SVC(verbose=True)"
            ],
            "text/html": [
              "<style>#sk-container-id-3 {color: black;background-color: white;}#sk-container-id-3 pre{padding: 0;}#sk-container-id-3 div.sk-toggleable {background-color: white;}#sk-container-id-3 label.sk-toggleable__label {cursor: pointer;display: block;width: 100%;margin-bottom: 0;padding: 0.3em;box-sizing: border-box;text-align: center;}#sk-container-id-3 label.sk-toggleable__label-arrow:before {content: \"▸\";float: left;margin-right: 0.25em;color: #696969;}#sk-container-id-3 label.sk-toggleable__label-arrow:hover:before {color: black;}#sk-container-id-3 div.sk-estimator:hover label.sk-toggleable__label-arrow:before {color: black;}#sk-container-id-3 div.sk-toggleable__content {max-height: 0;max-width: 0;overflow: hidden;text-align: left;background-color: #f0f8ff;}#sk-container-id-3 div.sk-toggleable__content pre {margin: 0.2em;color: black;border-radius: 0.25em;background-color: #f0f8ff;}#sk-container-id-3 input.sk-toggleable__control:checked~div.sk-toggleable__content {max-height: 200px;max-width: 100%;overflow: auto;}#sk-container-id-3 input.sk-toggleable__control:checked~label.sk-toggleable__label-arrow:before {content: \"▾\";}#sk-container-id-3 div.sk-estimator input.sk-toggleable__control:checked~label.sk-toggleable__label {background-color: #d4ebff;}#sk-container-id-3 div.sk-label input.sk-toggleable__control:checked~label.sk-toggleable__label {background-color: #d4ebff;}#sk-container-id-3 input.sk-hidden--visually {border: 0;clip: rect(1px 1px 1px 1px);clip: rect(1px, 1px, 1px, 1px);height: 1px;margin: -1px;overflow: hidden;padding: 0;position: absolute;width: 1px;}#sk-container-id-3 div.sk-estimator {font-family: monospace;background-color: #f0f8ff;border: 1px dotted black;border-radius: 0.25em;box-sizing: border-box;margin-bottom: 0.5em;}#sk-container-id-3 div.sk-estimator:hover {background-color: #d4ebff;}#sk-container-id-3 div.sk-parallel-item::after {content: \"\";width: 100%;border-bottom: 1px solid gray;flex-grow: 1;}#sk-container-id-3 div.sk-label:hover label.sk-toggleable__label {background-color: #d4ebff;}#sk-container-id-3 div.sk-serial::before {content: \"\";position: absolute;border-left: 1px solid gray;box-sizing: border-box;top: 0;bottom: 0;left: 50%;z-index: 0;}#sk-container-id-3 div.sk-serial {display: flex;flex-direction: column;align-items: center;background-color: white;padding-right: 0.2em;padding-left: 0.2em;position: relative;}#sk-container-id-3 div.sk-item {position: relative;z-index: 1;}#sk-container-id-3 div.sk-parallel {display: flex;align-items: stretch;justify-content: center;background-color: white;position: relative;}#sk-container-id-3 div.sk-item::before, #sk-container-id-3 div.sk-parallel-item::before {content: \"\";position: absolute;border-left: 1px solid gray;box-sizing: border-box;top: 0;bottom: 0;left: 50%;z-index: -1;}#sk-container-id-3 div.sk-parallel-item {display: flex;flex-direction: column;z-index: 1;position: relative;background-color: white;}#sk-container-id-3 div.sk-parallel-item:first-child::after {align-self: flex-end;width: 50%;}#sk-container-id-3 div.sk-parallel-item:last-child::after {align-self: flex-start;width: 50%;}#sk-container-id-3 div.sk-parallel-item:only-child::after {width: 0;}#sk-container-id-3 div.sk-dashed-wrapped {border: 1px dashed gray;margin: 0 0.4em 0.5em 0.4em;box-sizing: border-box;padding-bottom: 0.4em;background-color: white;}#sk-container-id-3 div.sk-label label {font-family: monospace;font-weight: bold;display: inline-block;line-height: 1.2em;}#sk-container-id-3 div.sk-label-container {text-align: center;}#sk-container-id-3 div.sk-container {/* jupyter's `normalize.less` sets `[hidden] { display: none; }` but bootstrap.min.css set `[hidden] { display: none !important; }` so we also need the `!important` here to be able to override the default hidden behavior on the sphinx rendered scikit-learn.org. See: https://github.com/scikit-learn/scikit-learn/issues/21755 */display: inline-block !important;position: relative;}#sk-container-id-3 div.sk-text-repr-fallback {display: none;}</style><div id=\"sk-container-id-3\" class=\"sk-top-container\"><div class=\"sk-text-repr-fallback\"><pre>SVC(verbose=True)</pre><b>In a Jupyter environment, please rerun this cell to show the HTML representation or trust the notebook. <br />On GitHub, the HTML representation is unable to render, please try loading this page with nbviewer.org.</b></div><div class=\"sk-container\" hidden><div class=\"sk-item\"><div class=\"sk-estimator sk-toggleable\"><input class=\"sk-toggleable__control sk-hidden--visually\" id=\"sk-estimator-id-3\" type=\"checkbox\" checked><label for=\"sk-estimator-id-3\" class=\"sk-toggleable__label sk-toggleable__label-arrow\">SVC</label><div class=\"sk-toggleable__content\"><pre>SVC(verbose=True)</pre></div></div></div></div></div>"
            ]
          },
          "metadata": {},
          "execution_count": 38
        }
      ]
    },
    {
      "cell_type": "code",
      "source": [
        "y_preds = svm_.predict(X_val)\n",
        "y_preds.shape"
      ],
      "metadata": {
        "id": "heTz3U2WVvSX",
        "outputId": "9d2376c9-0471-42d0-cff2-21a1e4c3935e",
        "colab": {
          "base_uri": "https://localhost:8080/"
        }
      },
      "id": "heTz3U2WVvSX",
      "execution_count": 42,
      "outputs": [
        {
          "output_type": "execute_result",
          "data": {
            "text/plain": [
              "(12877,)"
            ]
          },
          "metadata": {},
          "execution_count": 42
        }
      ]
    },
    {
      "cell_type": "code",
      "source": [
        "accuracy_score(y_val,y_preds)"
      ],
      "metadata": {
        "id": "hjVnMwJjXl87",
        "outputId": "00191c1d-1662-4748-e165-709037aa1f84",
        "colab": {
          "base_uri": "https://localhost:8080/"
        }
      },
      "id": "hjVnMwJjXl87",
      "execution_count": 44,
      "outputs": [
        {
          "output_type": "execute_result",
          "data": {
            "text/plain": [
              "0.9742952551060029"
            ]
          },
          "metadata": {},
          "execution_count": 44
        }
      ]
    },
    {
      "cell_type": "code",
      "source": [
        "f1_score(y_val,y_preds)"
      ],
      "metadata": {
        "id": "6JPmKmJ8bBFV",
        "outputId": "2ba337d2-24d0-4e4a-cf18-ef012f4f54a8",
        "colab": {
          "base_uri": "https://localhost:8080/"
        }
      },
      "id": "6JPmKmJ8bBFV",
      "execution_count": 47,
      "outputs": [
        {
          "output_type": "execute_result",
          "data": {
            "text/plain": [
              "0.9751221345358887"
            ]
          },
          "metadata": {},
          "execution_count": 47
        }
      ]
    },
    {
      "cell_type": "code",
      "source": [
        "cm = confusion_matrix(y_val,y_preds)\n",
        "class_names=[0,1] # name  of classes\n",
        "fig, ax = plt.subplots()\n",
        "tick_marks = np.arange(len(class_names))\n",
        "plt.xticks(tick_marks, class_names)\n",
        "plt.yticks(tick_marks, class_names)\n",
        "# create heatmap\n",
        "sns.heatmap(pd.DataFrame(cm), annot=True, cmap=\"BuPu\" ,fmt='g')\n",
        "ax.xaxis.set_label_position(\"top\")\n",
        "plt.tight_layout()\n",
        "plt.title('Confusion matrix', y=1.1)\n",
        "plt.ylabel('Actual label')\n",
        "plt.xlabel('Predicted label')"
      ],
      "metadata": {
        "id": "dM1Pir9SX0Dk",
        "outputId": "ef551415-8f20-4d3b-863b-03a7c1aa6f5f",
        "colab": {
          "base_uri": "https://localhost:8080/",
          "height": 568
        }
      },
      "id": "dM1Pir9SX0Dk",
      "execution_count": 46,
      "outputs": [
        {
          "output_type": "execute_result",
          "data": {
            "text/plain": [
              "Text(0.5, 427.9555555555555, 'Predicted label')"
            ]
          },
          "metadata": {},
          "execution_count": 46
        },
        {
          "output_type": "display_data",
          "data": {
            "text/plain": [
              "<Figure size 640x480 with 2 Axes>"
            ],
            "image/png": "[encoded data removed]"
          },
          "metadata": {}
        }
      ]
    },
    {
      "cell_type": "code",
      "source": [
        "from sklearn.ensemble import RandomForestClassifier"
      ],
      "metadata": {
        "id": "5Hr8d3gaajUS"
      },
      "id": "5Hr8d3gaajUS",
      "execution_count": 48,
      "outputs": []
    },
    {
      "cell_type": "code",
      "source": [
        "rfc = RandomForestClassifier()"
      ],
      "metadata": {
        "id": "gK_J_HZOcQFI"
      },
      "id": "gK_J_HZOcQFI",
      "execution_count": 49,
      "outputs": []
    },
    {
      "cell_type": "code",
      "source": [
        "rfc.fit(X_train, y_train)"
      ],
      "metadata": {
        "id": "3edHAzcdcS__",
        "outputId": "8b644ca5-3fba-4247-d9b0-b435ed9f4cb4",
        "colab": {
          "base_uri": "https://localhost:8080/",
          "height": 75
        }
      },
      "id": "3edHAzcdcS__",
      "execution_count": 50,
      "outputs": [
        {
          "output_type": "execute_result",
          "data": {
            "text/plain": [
              "RandomForestClassifier()"
            ],
            "text/html": [
              "<style>#sk-container-id-4 {color: black;background-color: white;}#sk-container-id-4 pre{padding: 0;}#sk-container-id-4 div.sk-toggleable {background-color: white;}#sk-container-id-4 label.sk-toggleable__label {cursor: pointer;display: block;width: 100%;margin-bottom: 0;padding: 0.3em;box-sizing: border-box;text-align: center;}#sk-container-id-4 label.sk-toggleable__label-arrow:before {content: \"▸\";float: left;margin-right: 0.25em;color: #696969;}#sk-container-id-4 label.sk-toggleable__label-arrow:hover:before {color: black;}#sk-container-id-4 div.sk-estimator:hover label.sk-toggleable__label-arrow:before {color: black;}#sk-container-id-4 div.sk-toggleable__content {max-height: 0;max-width: 0;overflow: hidden;text-align: left;background-color: #f0f8ff;}#sk-container-id-4 div.sk-toggleable__content pre {margin: 0.2em;color: black;border-radius: 0.25em;background-color: #f0f8ff;}#sk-container-id-4 input.sk-toggleable__control:checked~div.sk-toggleable__content {max-height: 200px;max-width: 100%;overflow: auto;}#sk-container-id-4 input.sk-toggleable__control:checked~label.sk-toggleable__label-arrow:before {content: \"▾\";}#sk-container-id-4 div.sk-estimator input.sk-toggleable__control:checked~label.sk-toggleable__label {background-color: #d4ebff;}#sk-container-id-4 div.sk-label input.sk-toggleable__control:checked~label.sk-toggleable__label {background-color: #d4ebff;}#sk-container-id-4 input.sk-hidden--visually {border: 0;clip: rect(1px 1px 1px 1px);clip: rect(1px, 1px, 1px, 1px);height: 1px;margin: -1px;overflow: hidden;padding: 0;position: absolute;width: 1px;}#sk-container-id-4 div.sk-estimator {font-family: monospace;background-color: #f0f8ff;border: 1px dotted black;border-radius: 0.25em;box-sizing: border-box;margin-bottom: 0.5em;}#sk-container-id-4 div.sk-estimator:hover {background-color: #d4ebff;}#sk-container-id-4 div.sk-parallel-item::after {content: \"\";width: 100%;border-bottom: 1px solid gray;flex-grow: 1;}#sk-container-id-4 div.sk-label:hover label.sk-toggleable__label {background-color: #d4ebff;}#sk-container-id-4 div.sk-serial::before {content: \"\";position: absolute;border-left: 1px solid gray;box-sizing: border-box;top: 0;bottom: 0;left: 50%;z-index: 0;}#sk-container-id-4 div.sk-serial {display: flex;flex-direction: column;align-items: center;background-color: white;padding-right: 0.2em;padding-left: 0.2em;position: relative;}#sk-container-id-4 div.sk-item {position: relative;z-index: 1;}#sk-container-id-4 div.sk-parallel {display: flex;align-items: stretch;justify-content: center;background-color: white;position: relative;}#sk-container-id-4 div.sk-item::before, #sk-container-id-4 div.sk-parallel-item::before {content: \"\";position: absolute;border-left: 1px solid gray;box-sizing: border-box;top: 0;bottom: 0;left: 50%;z-index: -1;}#sk-container-id-4 div.sk-parallel-item {display: flex;flex-direction: column;z-index: 1;position: relative;background-color: white;}#sk-container-id-4 div.sk-parallel-item:first-child::after {align-self: flex-end;width: 50%;}#sk-container-id-4 div.sk-parallel-item:last-child::after {align-self: flex-start;width: 50%;}#sk-container-id-4 div.sk-parallel-item:only-child::after {width: 0;}#sk-container-id-4 div.sk-dashed-wrapped {border: 1px dashed gray;margin: 0 0.4em 0.5em 0.4em;box-sizing: border-box;padding-bottom: 0.4em;background-color: white;}#sk-container-id-4 div.sk-label label {font-family: monospace;font-weight: bold;display: inline-block;line-height: 1.2em;}#sk-container-id-4 div.sk-label-container {text-align: center;}#sk-container-id-4 div.sk-container {/* jupyter's `normalize.less` sets `[hidden] { display: none; }` but bootstrap.min.css set `[hidden] { display: none !important; }` so we also need the `!important` here to be able to override the default hidden behavior on the sphinx rendered scikit-learn.org. See: https://github.com/scikit-learn/scikit-learn/issues/21755 */display: inline-block !important;position: relative;}#sk-container-id-4 div.sk-text-repr-fallback {display: none;}</style><div id=\"sk-container-id-4\" class=\"sk-top-container\"><div class=\"sk-text-repr-fallback\"><pre>RandomForestClassifier()</pre><b>In a Jupyter environment, please rerun this cell to show the HTML representation or trust the notebook. <br />On GitHub, the HTML representation is unable to render, please try loading this page with nbviewer.org.</b></div><div class=\"sk-container\" hidden><div class=\"sk-item\"><div class=\"sk-estimator sk-toggleable\"><input class=\"sk-toggleable__control sk-hidden--visually\" id=\"sk-estimator-id-4\" type=\"checkbox\" checked><label for=\"sk-estimator-id-4\" class=\"sk-toggleable__label sk-toggleable__label-arrow\">RandomForestClassifier</label><div class=\"sk-toggleable__content\"><pre>RandomForestClassifier()</pre></div></div></div></div></div>"
            ]
          },
          "metadata": {},
          "execution_count": 50
        }
      ]
    },
    {
      "cell_type": "code",
      "source": [
        "y_preds = rfc.predict(X_val)"
      ],
      "metadata": {
        "id": "Mx1PYdyVcXZm"
      },
      "id": "Mx1PYdyVcXZm",
      "execution_count": 51,
      "outputs": []
    },
    {
      "cell_type": "code",
      "source": [
        "cm = confusion_matrix(y_val,y_preds)\n",
        "class_names=[0,1] # name  of classes\n",
        "fig, ax = plt.subplots()\n",
        "tick_marks = np.arange(len(class_names))\n",
        "plt.xticks(tick_marks, class_names)\n",
        "plt.yticks(tick_marks, class_names)\n",
        "# create heatmap\n",
        "sns.heatmap(pd.DataFrame(cm), annot=True, cmap=\"BuPu\" ,fmt='g')\n",
        "ax.xaxis.set_label_position(\"top\")\n",
        "plt.tight_layout()\n",
        "plt.title('Confusion matrix', y=1.1)\n",
        "plt.ylabel('Actual label')\n",
        "plt.xlabel('Predicted label')"
      ],
      "metadata": {
        "id": "bM0IsvevfC5p",
        "outputId": "76023e3c-e0c8-44b3-a851-2c398b1b4039",
        "colab": {
          "base_uri": "https://localhost:8080/",
          "height": 568
        }
      },
      "id": "bM0IsvevfC5p",
      "execution_count": 52,
      "outputs": [
        {
          "output_type": "execute_result",
          "data": {
            "text/plain": [
              "Text(0.5, 427.9555555555555, 'Predicted label')"
            ]
          },
          "metadata": {},
          "execution_count": 52
        },
        {
          "output_type": "display_data",
          "data": {
            "text/plain": [
              "<Figure size 640x480 with 2 Axes>"
            ],
            "image/png": "[encoded data removed]"
          },
          "metadata": {}
        }
      ]
    },
    {
      "cell_type": "code",
      "source": [
        "print(classification_report(y_val, y_preds))"
      ],
      "metadata": {
        "id": "Cvimt0qRfF0B",
        "outputId": "32a05633-6159-4bf5-d3ea-48940c54ffbe",
        "colab": {
          "base_uri": "https://localhost:8080/"
        }
      },
      "id": "Cvimt0qRfF0B",
      "execution_count": 54,
      "outputs": [
        {
          "output_type": "stream",
          "name": "stdout",
          "text": [
            "              precision    recall  f1-score   support\n",
            "\n",
            "           0       0.95      0.94      0.94      6284\n",
            "           1       0.94      0.95      0.95      6593\n",
            "\n",
            "    accuracy                           0.95     12877\n",
            "   macro avg       0.95      0.95      0.95     12877\n",
            "weighted avg       0.95      0.95      0.95     12877\n",
            "\n"
          ]
        }
      ]
    },
    {
      "cell_type": "code",
      "source": [
        "from sklearn.linear_model import LogisticRegression"
      ],
      "metadata": {
        "id": "hNLId3vPfNBi"
      },
      "id": "hNLId3vPfNBi",
      "execution_count": 12,
      "outputs": []
    },
    {
      "cell_type": "code",
      "source": [
        "lr = LogisticRegression()\n",
        "lr.fit(X_train, y_train)"
      ],
      "metadata": {
        "id": "vPNTI3yrfbxh",
        "outputId": "68db09db-f693-484b-82a2-286ae35ab68f",
        "colab": {
          "base_uri": "https://localhost:8080/",
          "height": 75
        }
      },
      "id": "vPNTI3yrfbxh",
      "execution_count": 56,
      "outputs": [
        {
          "output_type": "execute_result",
          "data": {
            "text/plain": [
              "LogisticRegression()"
            ],
            "text/html": [
              "<style>#sk-container-id-5 {color: black;background-color: white;}#sk-container-id-5 pre{padding: 0;}#sk-container-id-5 div.sk-toggleable {background-color: white;}#sk-container-id-5 label.sk-toggleable__label {cursor: pointer;display: block;width: 100%;margin-bottom: 0;padding: 0.3em;box-sizing: border-box;text-align: center;}#sk-container-id-5 label.sk-toggleable__label-arrow:before {content: \"▸\";float: left;margin-right: 0.25em;color: #696969;}#sk-container-id-5 label.sk-toggleable__label-arrow:hover:before {color: black;}#sk-container-id-5 div.sk-estimator:hover label.sk-toggleable__label-arrow:before {color: black;}#sk-container-id-5 div.sk-toggleable__content {max-height: 0;max-width: 0;overflow: hidden;text-align: left;background-color: #f0f8ff;}#sk-container-id-5 div.sk-toggleable__content pre {margin: 0.2em;color: black;border-radius: 0.25em;background-color: #f0f8ff;}#sk-container-id-5 input.sk-toggleable__control:checked~div.sk-toggleable__content {max-height: 200px;max-width: 100%;overflow: auto;}#sk-container-id-5 input.sk-toggleable__control:checked~label.sk-toggleable__label-arrow:before {content: \"▾\";}#sk-container-id-5 div.sk-estimator input.sk-toggleable__control:checked~label.sk-toggleable__label {background-color: #d4ebff;}#sk-container-id-5 div.sk-label input.sk-toggleable__control:checked~label.sk-toggleable__label {background-color: #d4ebff;}#sk-container-id-5 input.sk-hidden--visually {border: 0;clip: rect(1px 1px 1px 1px);clip: rect(1px, 1px, 1px, 1px);height: 1px;margin: -1px;overflow: hidden;padding: 0;position: absolute;width: 1px;}#sk-container-id-5 div.sk-estimator {font-family: monospace;background-color: #f0f8ff;border: 1px dotted black;border-radius: 0.25em;box-sizing: border-box;margin-bottom: 0.5em;}#sk-container-id-5 div.sk-estimator:hover {background-color: #d4ebff;}#sk-container-id-5 div.sk-parallel-item::after {content: \"\";width: 100%;border-bottom: 1px solid gray;flex-grow: 1;}#sk-container-id-5 div.sk-label:hover label.sk-toggleable__label {background-color: #d4ebff;}#sk-container-id-5 div.sk-serial::before {content: \"\";position: absolute;border-left: 1px solid gray;box-sizing: border-box;top: 0;bottom: 0;left: 50%;z-index: 0;}#sk-container-id-5 div.sk-serial {display: flex;flex-direction: column;align-items: center;background-color: white;padding-right: 0.2em;padding-left: 0.2em;position: relative;}#sk-container-id-5 div.sk-item {position: relative;z-index: 1;}#sk-container-id-5 div.sk-parallel {display: flex;align-items: stretch;justify-content: center;background-color: white;position: relative;}#sk-container-id-5 div.sk-item::before, #sk-container-id-5 div.sk-parallel-item::before {content: \"\";position: absolute;border-left: 1px solid gray;box-sizing: border-box;top: 0;bottom: 0;left: 50%;z-index: -1;}#sk-container-id-5 div.sk-parallel-item {display: flex;flex-direction: column;z-index: 1;position: relative;background-color: white;}#sk-container-id-5 div.sk-parallel-item:first-child::after {align-self: flex-end;width: 50%;}#sk-container-id-5 div.sk-parallel-item:last-child::after {align-self: flex-start;width: 50%;}#sk-container-id-5 div.sk-parallel-item:only-child::after {width: 0;}#sk-container-id-5 div.sk-dashed-wrapped {border: 1px dashed gray;margin: 0 0.4em 0.5em 0.4em;box-sizing: border-box;padding-bottom: 0.4em;background-color: white;}#sk-container-id-5 div.sk-label label {font-family: monospace;font-weight: bold;display: inline-block;line-height: 1.2em;}#sk-container-id-5 div.sk-label-container {text-align: center;}#sk-container-id-5 div.sk-container {/* jupyter's `normalize.less` sets `[hidden] { display: none; }` but bootstrap.min.css set `[hidden] { display: none !important; }` so we also need the `!important` here to be able to override the default hidden behavior on the sphinx rendered scikit-learn.org. See: https://github.com/scikit-learn/scikit-learn/issues/21755 */display: inline-block !important;position: relative;}#sk-container-id-5 div.sk-text-repr-fallback {display: none;}</style><div id=\"sk-container-id-5\" class=\"sk-top-container\"><div class=\"sk-text-repr-fallback\"><pre>LogisticRegression()</pre><b>In a Jupyter environment, please rerun this cell to show the HTML representation or trust the notebook. <br />On GitHub, the HTML representation is unable to render, please try loading this page with nbviewer.org.</b></div><div class=\"sk-container\" hidden><div class=\"sk-item\"><div class=\"sk-estimator sk-toggleable\"><input class=\"sk-toggleable__control sk-hidden--visually\" id=\"sk-estimator-id-5\" type=\"checkbox\" checked><label for=\"sk-estimator-id-5\" class=\"sk-toggleable__label sk-toggleable__label-arrow\">LogisticRegression</label><div class=\"sk-toggleable__content\"><pre>LogisticRegression()</pre></div></div></div></div></div>"
            ]
          },
          "metadata": {},
          "execution_count": 56
        }
      ]
    },
    {
      "cell_type": "code",
      "source": [
        "y_preds = lr.predict(X_val)"
      ],
      "metadata": {
        "id": "y0WYjqJpfjlH"
      },
      "id": "y0WYjqJpfjlH",
      "execution_count": 57,
      "outputs": []
    },
    {
      "cell_type": "code",
      "source": [
        "cm = confusion_matrix(y_val,y_preds)\n",
        "class_names=[0,1] # name  of classes\n",
        "fig, ax = plt.subplots()\n",
        "tick_marks = np.arange(len(class_names))\n",
        "plt.xticks(tick_marks, class_names)\n",
        "plt.yticks(tick_marks, class_names)\n",
        "# create heatmap\n",
        "sns.heatmap(pd.DataFrame(cm), annot=True, cmap=\"BuPu\" ,fmt='g')\n",
        "ax.xaxis.set_label_position(\"top\")\n",
        "plt.tight_layout()\n",
        "plt.title('Confusion matrix', y=1.1)\n",
        "plt.ylabel('Actual label')\n",
        "plt.xlabel('Predicted label')"
      ],
      "metadata": {
        "id": "e36awdncjn1f",
        "outputId": "ad756319-a476-4960-d546-9e8b427a8595",
        "colab": {
          "base_uri": "https://localhost:8080/",
          "height": 568
        }
      },
      "id": "e36awdncjn1f",
      "execution_count": 58,
      "outputs": [
        {
          "output_type": "execute_result",
          "data": {
            "text/plain": [
              "Text(0.5, 427.9555555555555, 'Predicted label')"
            ]
          },
          "metadata": {},
          "execution_count": 58
        },
        {
          "output_type": "display_data",
          "data": {
            "text/plain": [
              "<Figure size 640x480 with 2 Axes>"
            ],
            "image/png": "[encoded data removed]"
          },
          "metadata": {}
        }
      ]
    },
    {
      "cell_type": "code",
      "source": [
        "print(classification_report(y_val, y_preds))"
      ],
      "metadata": {
        "id": "mkMut7M1jqEQ",
        "outputId": "76c1dbe3-7c25-4958-c92b-373cb01fbcef",
        "colab": {
          "base_uri": "https://localhost:8080/"
        }
      },
      "id": "mkMut7M1jqEQ",
      "execution_count": 59,
      "outputs": [
        {
          "output_type": "stream",
          "name": "stdout",
          "text": [
            "              precision    recall  f1-score   support\n",
            "\n",
            "           0       0.98      0.96      0.97      6284\n",
            "           1       0.96      0.98      0.97      6593\n",
            "\n",
            "    accuracy                           0.97     12877\n",
            "   macro avg       0.97      0.97      0.97     12877\n",
            "weighted avg       0.97      0.97      0.97     12877\n",
            "\n"
          ]
        }
      ]
    },
    {
      "cell_type": "code",
      "source": [
        "!pip install optuna"
      ],
      "metadata": {
        "id": "bt8iSdyujwNP",
        "outputId": "f1a8a536-8e43-4ace-a92b-de5c8f6c24a3",
        "colab": {
          "base_uri": "https://localhost:8080/"
        }
      },
      "id": "bt8iSdyujwNP",
      "execution_count": 17,
      "outputs": [
        {
          "output_type": "stream",
          "name": "stdout",
          "text": [
            "Looking in indexes: https://pypi.org/simple, https://us-python.pkg.dev/colab-wheels/public/simple/\n",
            "Requirement already satisfied: optuna in /usr/local/lib/python3.9/dist-packages (3.1.0)\n",
            "Requirement already satisfied: tqdm in /usr/local/lib/python3.9/dist-packages (from optuna) (4.65.0)\n",
            "Requirement already satisfied: alembic>=1.5.0 in /usr/local/lib/python3.9/dist-packages (from optuna) (1.10.3)\n",
            "Requirement already satisfied: colorlog in /usr/local/lib/python3.9/dist-packages (from optuna) (6.7.0)\n",
            "Requirement already satisfied: PyYAML in /usr/local/lib/python3.9/dist-packages (from optuna) (6.0)\n",
            "Requirement already satisfied: cmaes>=0.9.1 in /usr/local/lib/python3.9/dist-packages (from optuna) (0.9.1)\n",
            "Requirement already satisfied: sqlalchemy>=1.3.0 in /usr/local/lib/python3.9/dist-packages (from optuna) (1.4.47)\n",
            "Requirement already satisfied: packaging>=20.0 in /usr/local/lib/python3.9/dist-packages (from optuna) (23.0)\n",
            "Requirement already satisfied: numpy in /usr/local/lib/python3.9/dist-packages (from optuna) (1.22.4)\n",
            "Requirement already satisfied: Mako in /usr/local/lib/python3.9/dist-packages (from alembic>=1.5.0->optuna) (1.2.4)\n",
            "Requirement already satisfied: typing-extensions>=4 in /usr/local/lib/python3.9/dist-packages (from alembic>=1.5.0->optuna) (4.5.0)\n",
            "Requirement already satisfied: greenlet!=0.4.17 in /usr/local/lib/python3.9/dist-packages (from sqlalchemy>=1.3.0->optuna) (2.0.2)\n",
            "Requirement already satisfied: MarkupSafe>=0.9.2 in /usr/local/lib/python3.9/dist-packages (from Mako->alembic>=1.5.0->optuna) (2.1.2)\n"
          ]
        }
      ]
    },
    {
      "cell_type": "code",
      "source": [
        "import optuna"
      ],
      "metadata": {
        "id": "tl8JQ-WOm2Jf"
      },
      "id": "tl8JQ-WOm2Jf",
      "execution_count": 18,
      "outputs": []
    },
    {
      "cell_type": "code",
      "source": [
        "lr = LogisticRegression()"
      ],
      "metadata": {
        "id": "QsonyQ_xC0dm"
      },
      "id": "QsonyQ_xC0dm",
      "execution_count": 21,
      "outputs": []
    },
    {
      "cell_type": "code",
      "source": [
        "param_distributions = {\n",
        "    'penalty': optuna.distributions.CategoricalDistribution(['l1', 'l2']),\n",
        "    # 'tol': optuna.distributions.FloatDistribution(1e-5, 1e-3, log=True),\n",
        "    'C': optuna.distributions.FloatDistribution(1e-10, 1e10, log=True),\n",
        "    'solver': optuna.distributions.CategoricalDistribution(['liblinear', 'saga']),\n",
        "    # 'random_state': optuna.distributions.IntDistribution(42, 42),\n",
        "    # 'max_iter': optuna.distributions.IntDistribution(50, 150, step=10),\n",
        "}"
      ],
      "metadata": {
        "id": "pm6BsQwynxft"
      },
      "id": "pm6BsQwynxft",
      "execution_count": 19,
      "outputs": []
    },
    {
      "cell_type": "code",
      "source": [
        "optuna_search = optuna.integration.OptunaSearchCV(lr, param_distributions, random_state=42)"
      ],
      "metadata": {
        "id": "82D7ykKZw8gp",
        "outputId": "aa536cc0-f049-4309-c968-f3ae9efee3a0",
        "colab": {
          "base_uri": "https://localhost:8080/"
        }
      },
      "id": "82D7ykKZw8gp",
      "execution_count": 22,
      "outputs": [
        {
          "output_type": "stream",
          "name": "stderr",
          "text": [
            "<ipython-input-22-a617f72bf59a>:1: ExperimentalWarning: OptunaSearchCV is experimental (supported from v0.17.0). The interface can change in the future.\n",
            "  optuna_search = optuna.integration.OptunaSearchCV(lr, param_distributions, random_state=42)\n"
          ]
        }
      ]
    },
    {
      "cell_type": "code",
      "source": [
        "optuna_search.fit(X_train, y_train)"
      ],
      "metadata": {
        "id": "kIo5_28TxVzR",
        "outputId": "7fe6823d-c774-412e-e0b1-ff62771277d6",
        "colab": {
          "base_uri": "https://localhost:8080/",
          "height": 1000
        }
      },
      "id": "kIo5_28TxVzR",
      "execution_count": 23,
      "outputs": [
        {
          "output_type": "stream",
          "name": "stderr",
          "text": [
            "\u001b[32m[I 2023-04-06 10:10:19,713]\u001b[0m A new study created in memory with name: no-name-25574041-488f-4f27-a223-ee7ecc48516a\u001b[0m\n",
            "/usr/local/lib/python3.9/dist-packages/sklearn/linear_model/_sag.py:350: ConvergenceWarning: The max_iter was reached which means the coef_ did not converge\n",
            "  warnings.warn(\n",
            "/usr/local/lib/python3.9/dist-packages/sklearn/linear_model/_sag.py:350: ConvergenceWarning: The max_iter was reached which means the coef_ did not converge\n",
            "  warnings.warn(\n",
            "/usr/local/lib/python3.9/dist-packages/sklearn/linear_model/_sag.py:350: ConvergenceWarning: The max_iter was reached which means the coef_ did not converge\n",
            "  warnings.warn(\n",
            "/usr/local/lib/python3.9/dist-packages/sklearn/linear_model/_sag.py:350: ConvergenceWarning: The max_iter was reached which means the coef_ did not converge\n",
            "  warnings.warn(\n",
            "/usr/local/lib/python3.9/dist-packages/sklearn/linear_model/_sag.py:350: ConvergenceWarning: The max_iter was reached which means the coef_ did not converge\n",
            "  warnings.warn(\n",
            "\u001b[32m[I 2023-04-06 10:26:12,672]\u001b[0m Trial 0 finished with value: 0.5110860874514617 and parameters: {'penalty': 'l2', 'C': 2.4045112728192066e-09, 'solver': 'saga', 'random_state': 42}. Best is trial 0 with value: 0.5110860874514617.\u001b[0m\n",
            "\u001b[32m[I 2023-04-06 10:26:14,761]\u001b[0m Trial 1 finished with value: 0.5022135921912914 and parameters: {'penalty': 'l1', 'C': 2.1624036183496124e-07, 'solver': 'saga', 'random_state': 42}. Best is trial 0 with value: 0.5110860874514617.\u001b[0m\n",
            "\u001b[32m[I 2023-04-06 10:26:43,483]\u001b[0m Trial 2 finished with value: 0.9681784800509894 and parameters: {'penalty': 'l2', 'C': 1.360480384512489, 'solver': 'saga', 'random_state': 42}. Best is trial 2 with value: 0.9681784800509894.\u001b[0m\n",
            "/usr/local/lib/python3.9/dist-packages/sklearn/linear_model/_sag.py:350: ConvergenceWarning: The max_iter was reached which means the coef_ did not converge\n",
            "  warnings.warn(\n",
            "/usr/local/lib/python3.9/dist-packages/sklearn/linear_model/_sag.py:350: ConvergenceWarning: The max_iter was reached which means the coef_ did not converge\n",
            "  warnings.warn(\n",
            "/usr/local/lib/python3.9/dist-packages/sklearn/linear_model/_sag.py:350: ConvergenceWarning: The max_iter was reached which means the coef_ did not converge\n",
            "  warnings.warn(\n",
            "/usr/local/lib/python3.9/dist-packages/sklearn/linear_model/_sag.py:350: ConvergenceWarning: The max_iter was reached which means the coef_ did not converge\n",
            "  warnings.warn(\n",
            "/usr/local/lib/python3.9/dist-packages/sklearn/linear_model/_sag.py:350: ConvergenceWarning: The max_iter was reached which means the coef_ did not converge\n",
            "  warnings.warn(\n",
            "\u001b[32m[I 2023-04-06 10:29:10,151]\u001b[0m Trial 3 finished with value: 0.9755756768822037 and parameters: {'penalty': 'l2', 'C': 2984380549.484167, 'solver': 'saga', 'random_state': 42}. Best is trial 3 with value: 0.9755756768822037.\u001b[0m\n",
            "/usr/local/lib/python3.9/dist-packages/sklearn/linear_model/_sag.py:350: ConvergenceWarning: The max_iter was reached which means the coef_ did not converge\n",
            "  warnings.warn(\n",
            "/usr/local/lib/python3.9/dist-packages/sklearn/linear_model/_sag.py:350: ConvergenceWarning: The max_iter was reached which means the coef_ did not converge\n",
            "  warnings.warn(\n",
            "/usr/local/lib/python3.9/dist-packages/sklearn/linear_model/_sag.py:350: ConvergenceWarning: The max_iter was reached which means the coef_ did not converge\n",
            "  warnings.warn(\n",
            "/usr/local/lib/python3.9/dist-packages/sklearn/linear_model/_sag.py:350: ConvergenceWarning: The max_iter was reached which means the coef_ did not converge\n",
            "  warnings.warn(\n",
            "/usr/local/lib/python3.9/dist-packages/sklearn/linear_model/_sag.py:350: ConvergenceWarning: The max_iter was reached which means the coef_ did not converge\n",
            "  warnings.warn(\n",
            "\u001b[32m[I 2023-04-06 10:31:45,965]\u001b[0m Trial 4 finished with value: 0.9755756768822037 and parameters: {'penalty': 'l2', 'C': 48703448.629696384, 'solver': 'saga', 'random_state': 42}. Best is trial 3 with value: 0.9755756768822037.\u001b[0m\n",
            "\u001b[32m[I 2023-04-06 10:32:30,239]\u001b[0m Trial 5 finished with value: 0.9713625860436054 and parameters: {'penalty': 'l2', 'C': 2.898753199732279, 'solver': 'saga', 'random_state': 42}. Best is trial 3 with value: 0.9755756768822037.\u001b[0m\n",
            "\u001b[32m[I 2023-04-06 10:35:13,750]\u001b[0m Trial 6 finished with value: 0.5110860874514617 and parameters: {'penalty': 'l2', 'C': 1.928621217539528e-06, 'solver': 'saga', 'random_state': 42}. Best is trial 3 with value: 0.9755756768822037.\u001b[0m\n",
            "\u001b[32m[I 2023-04-06 10:36:19,286]\u001b[0m Trial 7 finished with value: 0.9756727774515147 and parameters: {'penalty': 'l2', 'C': 22479581.926035672, 'solver': 'liblinear', 'random_state': 42}. Best is trial 7 with value: 0.9756727774515147.\u001b[0m\n",
            "\u001b[32m[I 2023-04-06 10:37:26,839]\u001b[0m Trial 8 finished with value: 0.9755368607779078 and parameters: {'penalty': 'l2', 'C': 142580997.01845825, 'solver': 'liblinear', 'random_state': 42}. Best is trial 7 with value: 0.9756727774515147.\u001b[0m\n",
            "/usr/local/lib/python3.9/dist-packages/sklearn/linear_model/_sag.py:350: ConvergenceWarning: The max_iter was reached which means the coef_ did not converge\n",
            "  warnings.warn(\n",
            "/usr/local/lib/python3.9/dist-packages/sklearn/linear_model/_sag.py:350: ConvergenceWarning: The max_iter was reached which means the coef_ did not converge\n",
            "  warnings.warn(\n",
            "/usr/local/lib/python3.9/dist-packages/sklearn/linear_model/_sag.py:350: ConvergenceWarning: The max_iter was reached which means the coef_ did not converge\n",
            "  warnings.warn(\n",
            "/usr/local/lib/python3.9/dist-packages/sklearn/linear_model/_sag.py:350: ConvergenceWarning: The max_iter was reached which means the coef_ did not converge\n",
            "  warnings.warn(\n",
            "\u001b[32m[I 2023-04-06 10:40:30,971]\u001b[0m Trial 9 finished with value: 0.9563739931271975 and parameters: {'penalty': 'l1', 'C': 0.3068879007563229, 'solver': 'saga', 'random_state': 42}. Best is trial 7 with value: 0.9756727774515147.\u001b[0m\n"
          ]
        },
        {
          "output_type": "execute_result",
          "data": {
            "text/plain": [
              "OptunaSearchCV(estimator=LogisticRegression(),\n",
              "               param_distributions={'C': FloatDistribution(high=10000000000.0, log=True, low=1e-10, step=None),\n",
              "                                    'penalty': CategoricalDistribution(choices=('l1', 'l2')),\n",
              "                                    'random_state': IntDistribution(high=42, log=False, low=42, step=1),\n",
              "                                    'solver': CategoricalDistribution(choices=('liblinear', 'saga'))},\n",
              "               random_state=42)"
            ],
            "text/html": [
              "<style>#sk-container-id-1 {color: black;background-color: white;}#sk-container-id-1 pre{padding: 0;}#sk-container-id-1 div.sk-toggleable {background-color: white;}#sk-container-id-1 label.sk-toggleable__label {cursor: pointer;display: block;width: 100%;margin-bottom: 0;padding: 0.3em;box-sizing: border-box;text-align: center;}#sk-container-id-1 label.sk-toggleable__label-arrow:before {content: \"▸\";float: left;margin-right: 0.25em;color: #696969;}#sk-container-id-1 label.sk-toggleable__label-arrow:hover:before {color: black;}#sk-container-id-1 div.sk-estimator:hover label.sk-toggleable__label-arrow:before {color: black;}#sk-container-id-1 div.sk-toggleable__content {max-height: 0;max-width: 0;overflow: hidden;text-align: left;background-color: #f0f8ff;}#sk-container-id-1 div.sk-toggleable__content pre {margin: 0.2em;color: black;border-radius: 0.25em;background-color: #f0f8ff;}#sk-container-id-1 input.sk-toggleable__control:checked~div.sk-toggleable__content {max-height: 200px;max-width: 100%;overflow: auto;}#sk-container-id-1 input.sk-toggleable__control:checked~label.sk-toggleable__label-arrow:before {content: \"▾\";}#sk-container-id-1 div.sk-estimator input.sk-toggleable__control:checked~label.sk-toggleable__label {background-color: #d4ebff;}#sk-container-id-1 div.sk-label input.sk-toggleable__control:checked~label.sk-toggleable__label {background-color: #d4ebff;}#sk-container-id-1 input.sk-hidden--visually {border: 0;clip: rect(1px 1px 1px 1px);clip: rect(1px, 1px, 1px, 1px);height: 1px;margin: -1px;overflow: hidden;padding: 0;position: absolute;width: 1px;}#sk-container-id-1 div.sk-estimator {font-family: monospace;background-color: #f0f8ff;border: 1px dotted black;border-radius: 0.25em;box-sizing: border-box;margin-bottom: 0.5em;}#sk-container-id-1 div.sk-estimator:hover {background-color: #d4ebff;}#sk-container-id-1 div.sk-parallel-item::after {content: \"\";width: 100%;border-bottom: 1px solid gray;flex-grow: 1;}#sk-container-id-1 div.sk-label:hover label.sk-toggleable__label {background-color: #d4ebff;}#sk-container-id-1 div.sk-serial::before {content: \"\";position: absolute;border-left: 1px solid gray;box-sizing: border-box;top: 0;bottom: 0;left: 50%;z-index: 0;}#sk-container-id-1 div.sk-serial {display: flex;flex-direction: column;align-items: center;background-color: white;padding-right: 0.2em;padding-left: 0.2em;position: relative;}#sk-container-id-1 div.sk-item {position: relative;z-index: 1;}#sk-container-id-1 div.sk-parallel {display: flex;align-items: stretch;justify-content: center;background-color: white;position: relative;}#sk-container-id-1 div.sk-item::before, #sk-container-id-1 div.sk-parallel-item::before {content: \"\";position: absolute;border-left: 1px solid gray;box-sizing: border-box;top: 0;bottom: 0;left: 50%;z-index: -1;}#sk-container-id-1 div.sk-parallel-item {display: flex;flex-direction: column;z-index: 1;position: relative;background-color: white;}#sk-container-id-1 div.sk-parallel-item:first-child::after {align-self: flex-end;width: 50%;}#sk-container-id-1 div.sk-parallel-item:last-child::after {align-self: flex-start;width: 50%;}#sk-container-id-1 div.sk-parallel-item:only-child::after {width: 0;}#sk-container-id-1 div.sk-dashed-wrapped {border: 1px dashed gray;margin: 0 0.4em 0.5em 0.4em;box-sizing: border-box;padding-bottom: 0.4em;background-color: white;}#sk-container-id-1 div.sk-label label {font-family: monospace;font-weight: bold;display: inline-block;line-height: 1.2em;}#sk-container-id-1 div.sk-label-container {text-align: center;}#sk-container-id-1 div.sk-container {/* jupyter's `normalize.less` sets `[hidden] { display: none; }` but bootstrap.min.css set `[hidden] { display: none !important; }` so we also need the `!important` here to be able to override the default hidden behavior on the sphinx rendered scikit-learn.org. See: https://github.com/scikit-learn/scikit-learn/issues/21755 */display: inline-block !important;position: relative;}#sk-container-id-1 div.sk-text-repr-fallback {display: none;}</style><div id=\"sk-container-id-1\" class=\"sk-top-container\"><div class=\"sk-text-repr-fallback\"><pre>OptunaSearchCV(estimator=LogisticRegression(),\n",
              "               param_distributions={&#x27;C&#x27;: FloatDistribution(high=10000000000.0, log=True, low=1e-10, step=None),\n",
              "                                    &#x27;penalty&#x27;: CategoricalDistribution(choices=(&#x27;l1&#x27;, &#x27;l2&#x27;)),\n",
              "                                    &#x27;random_state&#x27;: IntDistribution(high=42, log=False, low=42, step=1),\n",
              "                                    &#x27;solver&#x27;: CategoricalDistribution(choices=(&#x27;liblinear&#x27;, &#x27;saga&#x27;))},\n",
              "               random_state=42)</pre><b>In a Jupyter environment, please rerun this cell to show the HTML representation or trust the notebook. <br />On GitHub, the HTML representation is unable to render, please try loading this page with nbviewer.org.</b></div><div class=\"sk-container\" hidden><div class=\"sk-item sk-dashed-wrapped\"><div class=\"sk-label-container\"><div class=\"sk-label sk-toggleable\"><input class=\"sk-toggleable__control sk-hidden--visually\" id=\"sk-estimator-id-1\" type=\"checkbox\" ><label for=\"sk-estimator-id-1\" class=\"sk-toggleable__label sk-toggleable__label-arrow\">OptunaSearchCV</label><div class=\"sk-toggleable__content\"><pre>OptunaSearchCV(estimator=LogisticRegression(),\n",
              "               param_distributions={&#x27;C&#x27;: FloatDistribution(high=10000000000.0, log=True, low=1e-10, step=None),\n",
              "                                    &#x27;penalty&#x27;: CategoricalDistribution(choices=(&#x27;l1&#x27;, &#x27;l2&#x27;)),\n",
              "                                    &#x27;random_state&#x27;: IntDistribution(high=42, log=False, low=42, step=1),\n",
              "                                    &#x27;solver&#x27;: CategoricalDistribution(choices=(&#x27;liblinear&#x27;, &#x27;saga&#x27;))},\n",
              "               random_state=42)</pre></div></div></div><div class=\"sk-parallel\"><div class=\"sk-parallel-item\"><div class=\"sk-item\"><div class=\"sk-label-container\"><div class=\"sk-label sk-toggleable\"><input class=\"sk-toggleable__control sk-hidden--visually\" id=\"sk-estimator-id-2\" type=\"checkbox\" ><label for=\"sk-estimator-id-2\" class=\"sk-toggleable__label sk-toggleable__label-arrow\">estimator: LogisticRegression</label><div class=\"sk-toggleable__content\"><pre>LogisticRegression()</pre></div></div></div><div class=\"sk-serial\"><div class=\"sk-item\"><div class=\"sk-estimator sk-toggleable\"><input class=\"sk-toggleable__control sk-hidden--visually\" id=\"sk-estimator-id-3\" type=\"checkbox\" ><label for=\"sk-estimator-id-3\" class=\"sk-toggleable__label sk-toggleable__label-arrow\">LogisticRegression</label><div class=\"sk-toggleable__content\"><pre>LogisticRegression()</pre></div></div></div></div></div></div></div></div></div></div>"
            ]
          },
          "metadata": {},
          "execution_count": 23
        }
      ]
    },
    {
      "cell_type": "code",
      "source": [
        "y_preds = optuna_search.best_estimator_.predict(X_test)"
      ],
      "metadata": {
        "id": "gt-oT3YyxcAH"
      },
      "id": "gt-oT3YyxcAH",
      "execution_count": 28,
      "outputs": []
    },
    {
      "cell_type": "code",
      "source": [
        "cm = confusion_matrix(y_test,y_preds)\n",
        "class_names=[0,1] # name  of classes\n",
        "fig, ax = plt.subplots()\n",
        "tick_marks = np.arange(len(class_names))\n",
        "plt.xticks(tick_marks, class_names)\n",
        "plt.yticks(tick_marks, class_names)\n",
        "# create heatmap\n",
        "sns.heatmap(pd.DataFrame(cm), annot=True, cmap=\"BuPu\" ,fmt='g')\n",
        "ax.xaxis.set_label_position(\"top\")\n",
        "plt.tight_layout()\n",
        "plt.title('Confusion matrix', y=1.1)\n",
        "plt.ylabel('Actual label')\n",
        "plt.xlabel('Predicted label')"
      ],
      "metadata": {
        "id": "b-hDdIPyNFwc",
        "outputId": "abeee145-2eff-4c8b-a70e-adcff512f3ab",
        "colab": {
          "base_uri": "https://localhost:8080/",
          "height": 566
        }
      },
      "id": "b-hDdIPyNFwc",
      "execution_count": 29,
      "outputs": [
        {
          "output_type": "execute_result",
          "data": {
            "text/plain": [
              "Text(0.5, 427.9555555555555, 'Predicted label')"
            ]
          },
          "metadata": {},
          "execution_count": 29
        },
        {
          "output_type": "display_data",
          "data": {
            "text/plain": [
              "<Figure size 640x480 with 2 Axes>"
            ],
            "image/png": "[encoded data removed]"
          },
          "metadata": {}
        }
      ]
    },
    {
      "cell_type": "code",
      "source": [
        "print(classification_report(y_test, y_preds))"
      ],
      "metadata": {
        "id": "7zLp4ucCN8GB",
        "outputId": "203c2ff8-46a2-42a5-e4f9-52c872ae63ae",
        "colab": {
          "base_uri": "https://localhost:8080/"
        }
      },
      "id": "7zLp4ucCN8GB",
      "execution_count": 30,
      "outputs": [
        {
          "output_type": "stream",
          "name": "stdout",
          "text": [
            "              precision    recall  f1-score   support\n",
            "\n",
            "           0       0.98      0.97      0.98      3562\n",
            "           1       0.97      0.98      0.98      3592\n",
            "\n",
            "    accuracy                           0.98      7154\n",
            "   macro avg       0.98      0.98      0.98      7154\n",
            "weighted avg       0.98      0.98      0.98      7154\n",
            "\n"
          ]
        }
      ]
    },
    {
      "cell_type": "code",
      "source": [
        "from sklearn.metrics import accuracy_score, f1_score, roc_auc_score"
      ],
      "metadata": {
        "id": "K_wZUlgtOQrV"
      },
      "id": "K_wZUlgtOQrV",
      "execution_count": 38,
      "outputs": []
    },
    {
      "cell_type": "code",
      "source": [
        "accuracy_score(y_test, y_preds)"
      ],
      "metadata": {
        "id": "0JZpnjGTOGI_",
        "outputId": "062bc80b-5a70-478d-f92e-6e61d6183641",
        "colab": {
          "base_uri": "https://localhost:8080/"
        }
      },
      "id": "0JZpnjGTOGI_",
      "execution_count": 35,
      "outputs": [
        {
          "output_type": "execute_result",
          "data": {
            "text/plain": [
              "0.9774951076320939"
            ]
          },
          "metadata": {},
          "execution_count": 35
        }
      ]
    },
    {
      "cell_type": "code",
      "source": [
        "f1_score(y_test, y_preds)"
      ],
      "metadata": {
        "id": "vyTnWopHOKZI",
        "outputId": "74ad9fe0-96b4-4638-f2ae-74df80852dff",
        "colab": {
          "base_uri": "https://localhost:8080/"
        }
      },
      "id": "vyTnWopHOKZI",
      "execution_count": 36,
      "outputs": [
        {
          "output_type": "execute_result",
          "data": {
            "text/plain": [
              "0.9776915615906886"
            ]
          },
          "metadata": {},
          "execution_count": 36
        }
      ]
    },
    {
      "cell_type": "code",
      "source": [
        "roc_auc_score(y_test, y_preds)"
      ],
      "metadata": {
        "id": "lAaTNp-MRMNu",
        "outputId": "6fbe63b9-c3e8-4460-88c7-9d9ddcaffa53",
        "colab": {
          "base_uri": "https://localhost:8080/"
        }
      },
      "id": "lAaTNp-MRMNu",
      "execution_count": 39,
      "outputs": [
        {
          "output_type": "execute_result",
          "data": {
            "text/plain": [
              "0.9774753679334824"
            ]
          },
          "metadata": {},
          "execution_count": 39
        }
      ]
    },
    {
      "cell_type": "code",
      "source": [
        "df_X, df_y = df['title'], df['label']"
      ],
      "metadata": {
        "id": "Wzd_x2aKOZFP"
      },
      "id": "Wzd_x2aKOZFP",
      "execution_count": 37,
      "outputs": []
    },
    {
      "cell_type": "code",
      "source": [
        "tfidf_vectorizer = TfidfVectorizer()\n",
        "df_X = tfidf_vectorizer.fit_transform"
      ],
      "metadata": {
        "id": "gjHYW3UROrSc"
      },
      "id": "gjHYW3UROrSc",
      "execution_count": null,
      "outputs": []
    },
    {
      "cell_type": "code",
      "source": [
        "X_train, X_test, y_train, y_test = train_test_split(df_X, df_y, test_size=0.1, random_state=42, shuffle=True)\n",
        "X_train, X_val, y_train, y_val = train_test_split(X_train, y_train, test_size=0.2, random_state=42, shuffle=True)"
      ],
      "metadata": {
        "id": "m9d1eBvuOwKn"
      },
      "id": "m9d1eBvuOwKn",
      "execution_count": null,
      "outputs": []
    }
  ],
  "metadata": {
    "kernelspec": {
      "display_name": "Python 3 (ipykernel)",
      "language": "python",
      "name": "python3"
    },
    "language_info": {
      "codemirror_mode": {
        "name": "ipython",
        "version": 3
      },
      "file_extension": ".py",
      "mimetype": "text/x-python",
      "name": "python",
      "nbconvert_exporter": "python",
      "pygments_lexer": "ipython3",
      "version": "3.9.16"
    },
    "toc-autonumbering": false,
    "toc-showmarkdowntxt": false,
    "colab": {
      "provenance": []
    }
  },
  "nbformat": 4,
  "nbformat_minor": 5
}