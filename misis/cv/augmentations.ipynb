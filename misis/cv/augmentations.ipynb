{
 "cells": [
  {
   "cell_type": "markdown",
   "metadata": {
    "id": "d885zGGMc19x"
   },
   "source": [
    "# Аугментации\n",
    "Можем перейти к непосредственному применению аугментаций. Для этого будем использовать уже знакомый нам класс Dataset."
   ]
  },
  {
   "cell_type": "code",
   "execution_count": 1,
   "metadata": {
    "collapsed": true,
    "execution": {
     "iopub.execute_input": "2023-04-18T19:07:27.528030Z",
     "iopub.status.busy": "2023-04-18T19:07:27.528030Z",
     "iopub.status.idle": "2023-04-18T19:07:28.993132Z",
     "shell.execute_reply": "2023-04-18T19:07:28.993132Z",
     "shell.execute_reply.started": "2023-04-18T19:07:27.528030Z"
    },
    "jupyter": {
     "outputs_hidden": true
    },
    "tags": []
   },
   "outputs": [
    {
     "name": "stdout",
     "output_type": "stream",
     "text": [
      "Requirement already satisfied: albumentations in c:\\users\\home\\appdata\\roaming\\python\\python39\\site-packages (1.3.0)\n",
      "Requirement already satisfied: scipy in c:\\programdata\\anaconda3\\envs\\pytorch_1\\lib\\site-packages (from albumentations) (1.9.1)\n",
      "Requirement already satisfied: qudida>=0.0.4 in c:\\users\\home\\appdata\\roaming\\python\\python39\\site-packages (from albumentations) (0.0.4)\n",
      "Requirement already satisfied: opencv-python-headless>=4.1.1 in c:\\users\\home\\appdata\\roaming\\python\\python39\\site-packages (from albumentations) (4.7.0.72)\n",
      "Requirement already satisfied: scikit-image>=0.16.1 in c:\\programdata\\anaconda3\\envs\\pytorch_1\\lib\\site-packages (from albumentations) (0.20.0)\n",
      "Requirement already satisfied: numpy>=1.11.1 in c:\\programdata\\anaconda3\\envs\\pytorch_1\\lib\\site-packages (from albumentations) (1.23.5)\n",
      "Requirement already satisfied: PyYAML in c:\\programdata\\anaconda3\\envs\\pytorch_1\\lib\\site-packages (from albumentations) (6.0)\n",
      "Requirement already satisfied: typing-extensions in c:\\programdata\\anaconda3\\envs\\pytorch_1\\lib\\site-packages (from qudida>=0.0.4->albumentations) (4.5.0)\n",
      "Requirement already satisfied: scikit-learn>=0.19.1 in c:\\programdata\\anaconda3\\envs\\pytorch_1\\lib\\site-packages (from qudida>=0.0.4->albumentations) (1.2.1)\n",
      "Requirement already satisfied: imageio>=2.4.1 in c:\\programdata\\anaconda3\\envs\\pytorch_1\\lib\\site-packages (from scikit-image>=0.16.1->albumentations) (2.27.0)\n",
      "Requirement already satisfied: packaging>=20.0 in c:\\programdata\\anaconda3\\envs\\pytorch_1\\lib\\site-packages (from scikit-image>=0.16.1->albumentations) (22.0)\n",
      "Requirement already satisfied: lazy_loader>=0.1 in c:\\programdata\\anaconda3\\envs\\pytorch_1\\lib\\site-packages (from scikit-image>=0.16.1->albumentations) (0.2)\n",
      "Requirement already satisfied: tifffile>=2019.7.26 in c:\\programdata\\anaconda3\\envs\\pytorch_1\\lib\\site-packages (from scikit-image>=0.16.1->albumentations) (2023.4.12)\n",
      "Requirement already satisfied: pillow>=9.0.1 in c:\\programdata\\anaconda3\\envs\\pytorch_1\\lib\\site-packages (from scikit-image>=0.16.1->albumentations) (9.4.0)\n",
      "Requirement already satisfied: PyWavelets>=1.1.1 in c:\\programdata\\anaconda3\\envs\\pytorch_1\\lib\\site-packages (from scikit-image>=0.16.1->albumentations) (1.4.1)\n",
      "Requirement already satisfied: networkx>=2.8 in c:\\programdata\\anaconda3\\envs\\pytorch_1\\lib\\site-packages (from scikit-image>=0.16.1->albumentations) (3.1)\n",
      "Requirement already satisfied: threadpoolctl>=2.0.0 in c:\\programdata\\anaconda3\\envs\\pytorch_1\\lib\\site-packages (from scikit-learn>=0.19.1->qudida>=0.0.4->albumentations) (3.1.0)\n",
      "Requirement already satisfied: joblib>=1.1.1 in c:\\programdata\\anaconda3\\envs\\pytorch_1\\lib\\site-packages (from scikit-learn>=0.19.1->qudida>=0.0.4->albumentations) (1.2.0)\n"
     ]
    }
   ],
   "source": [
    "!pip install albumentations --user"
   ]
  },
  {
   "cell_type": "code",
   "execution_count": 2,
   "metadata": {
    "execution": {
     "iopub.execute_input": "2023-04-18T19:48:18.067559Z",
     "iopub.status.busy": "2023-04-18T19:48:18.067559Z",
     "iopub.status.idle": "2023-04-18T19:48:19.092172Z",
     "shell.execute_reply": "2023-04-18T19:48:19.092172Z",
     "shell.execute_reply.started": "2023-04-18T19:48:18.067559Z"
    },
    "id": "BhpAC0FTrhKZ",
    "tags": []
   },
   "outputs": [],
   "source": [
    "from PIL import Image\n",
    "import os\n",
    "from torchvision import transforms\n",
    "import torch\n",
    "import matplotlib.pyplot as plt\n",
    "import numpy as np\n",
    "import cv2\n"
   ]
  },
  {
   "cell_type": "markdown",
   "metadata": {
    "id": "xECHD0YgsUnF"
   },
   "source": [
    "## torchvision.transforms"
   ]
  },
  {
   "cell_type": "code",
   "execution_count": 3,
   "metadata": {
    "execution": {
     "iopub.execute_input": "2023-04-18T19:48:20.908464Z",
     "iopub.status.busy": "2023-04-18T19:48:20.908464Z",
     "iopub.status.idle": "2023-04-18T19:48:20.926993Z",
     "shell.execute_reply": "2023-04-18T19:48:20.926993Z",
     "shell.execute_reply.started": "2023-04-18T19:48:20.908464Z"
    },
    "id": "q2GZGz18xJGS",
    "tags": []
   },
   "outputs": [],
   "source": [
    "class Dataset(torch.utils.data.Dataset):\n",
    "    def __init__(self, path_data, transforms):\n",
    "        self.path_data = path_data\n",
    "        self.image_paths = os.listdir(self.path_data)\n",
    "        self.transforms = transforms\n",
    "    def __len__(self):\n",
    "        return len(self.image_paths)\n",
    "    def __getitem__(self, idx):\n",
    "        image = Image.open(os.path.join(self.path_data, self.image_paths[idx]))\n",
    "        image = self.transforms(image)\n",
    "\n",
    "        return torch.FloatTensor(image)"
   ]
  },
  {
   "cell_type": "code",
   "execution_count": 4,
   "metadata": {
    "execution": {
     "iopub.execute_input": "2023-04-18T19:48:21.462495Z",
     "iopub.status.busy": "2023-04-18T19:48:21.461495Z",
     "iopub.status.idle": "2023-04-18T19:48:21.472015Z",
     "shell.execute_reply": "2023-04-18T19:48:21.472015Z",
     "shell.execute_reply.started": "2023-04-18T19:48:21.461495Z"
    },
    "id": "1BWj8y0Kre4Q",
    "tags": []
   },
   "outputs": [],
   "source": [
    "data_transforms = transforms.Compose([\n",
    "        transforms.RandomResizedCrop(256),\n",
    "        transforms.RandomApply(\n",
    "            torch.nn.ModuleList([\n",
    "                                 transforms.ColorJitter(brightness=0.2, contrast=0.8, saturation=0.3, hue=0.2)]),\n",
    "                               p = 0.5),\n",
    "        transforms.RandomRotation((-30,30)),\n",
    "        transforms.RandomVerticalFlip(p=0.5),\n",
    "        transforms.ToTensor(),\n",
    "        transforms.Normalize([0.485, 0.456, 0.406], [0.229, 0.224, 0.225])\n",
    "        ])"
   ]
  },
  {
   "cell_type": "code",
   "execution_count": 5,
   "metadata": {
    "execution": {
     "iopub.execute_input": "2023-04-18T19:48:21.996023Z",
     "iopub.status.busy": "2023-04-18T19:48:21.996023Z",
     "iopub.status.idle": "2023-04-18T19:48:22.004574Z",
     "shell.execute_reply": "2023-04-18T19:48:22.004574Z",
     "shell.execute_reply.started": "2023-04-18T19:48:21.996023Z"
    },
    "id": "2tINHtoOc2JI",
    "tags": []
   },
   "outputs": [],
   "source": [
    "train_data = Dataset('cats', transforms=data_transforms)\n",
    "train_loader = torch.utils.data.DataLoader(train_data, batch_size=2, shuffle=True)"
   ]
  },
  {
   "cell_type": "code",
   "execution_count": 6,
   "metadata": {
    "execution": {
     "iopub.execute_input": "2023-04-18T19:48:25.062508Z",
     "iopub.status.busy": "2023-04-18T19:48:25.062508Z",
     "iopub.status.idle": "2023-04-18T19:48:25.100427Z",
     "shell.execute_reply": "2023-04-18T19:48:25.099424Z",
     "shell.execute_reply.started": "2023-04-18T19:48:25.062508Z"
    },
    "id": "-cAjvFPihgTX",
    "tags": []
   },
   "outputs": [],
   "source": [
    "imgs = next(iter(train_loader))"
   ]
  },
  {
   "cell_type": "code",
   "execution_count": 6,
   "metadata": {
    "execution": {
     "iopub.execute_input": "2023-04-18T19:15:47.608589Z",
     "iopub.status.busy": "2023-04-18T19:15:47.608589Z",
     "iopub.status.idle": "2023-04-18T19:15:47.614625Z",
     "shell.execute_reply": "2023-04-18T19:15:47.614625Z",
     "shell.execute_reply.started": "2023-04-18T19:15:47.608589Z"
    },
    "tags": []
   },
   "outputs": [
    {
     "data": {
      "text/plain": [
       "torch.Size([3, 256, 256])"
      ]
     },
     "execution_count": 6,
     "metadata": {},
     "output_type": "execute_result"
    }
   ],
   "source": [
    "imgs[1].shape"
   ]
  },
  {
   "cell_type": "code",
   "execution_count": null,
   "metadata": {
    "execution": {
     "iopub.execute_input": "2023-04-18T19:23:07.610521Z",
     "iopub.status.busy": "2023-04-18T19:23:07.610521Z"
    },
    "tags": []
   },
   "outputs": [
    {
     "data": {
      "text/plain": [
       "<matplotlib.image.AxesImage at 0x217b2c6e0a0>"
      ]
     },
     "execution_count": 5,
     "metadata": {},
     "output_type": "execute_result"
    }
   ],
   "source": [
    "img = cv2.imread('./cats/5.jpeg', )\n",
    "img = img[:,:,::-1]\n",
    "img = cv2.rotate(img, cv2.ROTATE_90_COUNTERCLOCKWISE)\n",
    "# ROTATE_90_CLOCKWISE\n",
    "# ROTATE_180\n",
    "# ROTATE_90_COUNTERCLOCKWISE\n",
    "\n",
    "plt.figure(figsize=(10, 10))\n",
    "plt.axis('off')\n",
    "plt.imshow(img)"
   ]
  },
  {
   "cell_type": "code",
   "execution_count": 8,
   "metadata": {
    "execution": {
     "iopub.execute_input": "2023-04-18T19:16:25.546224Z",
     "iopub.status.busy": "2023-04-18T19:16:25.546224Z",
     "iopub.status.idle": "2023-04-18T19:16:25.552733Z",
     "shell.execute_reply": "2023-04-18T19:16:25.551734Z",
     "shell.execute_reply.started": "2023-04-18T19:16:25.546224Z"
    },
    "tags": []
   },
   "outputs": [
    {
     "data": {
      "text/plain": [
       "numpy.ndarray"
      ]
     },
     "execution_count": 8,
     "metadata": {},
     "output_type": "execute_result"
    }
   ],
   "source": [
    "img_np = imgs[1].numpy()\n",
    "type(img_np)"
   ]
  },
  {
   "cell_type": "code",
   "execution_count": 9,
   "metadata": {
    "execution": {
     "iopub.execute_input": "2023-04-18T19:17:00.733627Z",
     "iopub.status.busy": "2023-04-18T19:17:00.732623Z",
     "iopub.status.idle": "2023-04-18T19:17:00.745133Z",
     "shell.execute_reply": "2023-04-18T19:17:00.745133Z",
     "shell.execute_reply.started": "2023-04-18T19:17:00.733627Z"
    }
   },
   "outputs": [
    {
     "data": {
      "text/plain": [
       "(256, 256, 3)"
      ]
     },
     "execution_count": 9,
     "metadata": {},
     "output_type": "execute_result"
    }
   ],
   "source": [
    "img_np = np.transpose(img_np, (1, 2, 0))\n",
    "img_np.shape"
   ]
  },
  {
   "cell_type": "code",
   "execution_count": null,
   "metadata": {
    "execution": {
     "iopub.execute_input": "2023-04-18T19:17:23.625478Z",
     "iopub.status.busy": "2023-04-18T19:17:23.625478Z"
    }
   },
   "outputs": [
    {
     "name": "stderr",
     "output_type": "stream",
     "text": [
      "Clipping input data to the valid range for imshow with RGB data ([0..1] for floats or [0..255] for integers).\n"
     ]
    },
    {
     "data": {
      "text/plain": [
       "<matplotlib.image.AxesImage at 0x267d0039160>"
      ]
     },
     "execution_count": 10,
     "metadata": {},
     "output_type": "execute_result"
    }
   ],
   "source": [
    "plt.imshow(img_np)"
   ]
  },
  {
   "cell_type": "code",
   "execution_count": null,
   "metadata": {
    "execution": {
     "iopub.execute_input": "2023-04-18T19:13:39.487039Z",
     "iopub.status.busy": "2023-04-18T19:13:39.487039Z"
    },
    "tags": []
   },
   "outputs": [
    {
     "name": "stderr",
     "output_type": "stream",
     "text": [
      "Clipping input data to the valid range for imshow with RGB data ([0..1] for floats or [0..255] for integers).\n"
     ]
    },
    {
     "data": {
      "text/plain": [
       "<matplotlib.image.AxesImage at 0x29f9cafc550>"
      ]
     },
     "execution_count": 25,
     "metadata": {},
     "output_type": "execute_result"
    }
   ],
   "source": [
    "plt.imshow(np.transpose(imgs[1], (1, 2, 0)))"
   ]
  },
  {
   "cell_type": "code",
   "execution_count": 7,
   "metadata": {
    "execution": {
     "iopub.execute_input": "2023-04-18T19:48:32.001489Z",
     "iopub.status.busy": "2023-04-18T19:48:32.001489Z",
     "iopub.status.idle": "2023-04-18T19:48:32.004520Z",
     "shell.execute_reply": "2023-04-18T19:48:32.004520Z",
     "shell.execute_reply.started": "2023-04-18T19:48:32.001489Z"
    },
    "id": "1guOs4vIxoJN",
    "tags": []
   },
   "outputs": [],
   "source": [
    "def imshow(img):\n",
    "    img = img / 2 + 0.5     # unnormalize\n",
    "    npimg = img.numpy()\n",
    "    plt.imshow(np.transpose(npimg, (1, 2, 0)))\n",
    "    plt.show()"
   ]
  },
  {
   "cell_type": "code",
   "execution_count": null,
   "metadata": {
    "colab": {
     "base_uri": "https://localhost:8080/",
     "height": 286
    },
    "execution": {
     "iopub.execute_input": "2023-04-18T19:48:32.609492Z",
     "iopub.status.busy": "2023-04-18T19:48:32.609492Z"
    },
    "id": "05-9JqgSibbm",
    "outputId": "b403b1a0-151b-475b-d339-3a58944de282",
    "tags": []
   },
   "outputs": [
    {
     "name": "stderr",
     "output_type": "stream",
     "text": [
      "Clipping input data to the valid range for imshow with RGB data ([0..1] for floats or [0..255] for integers).\n"
     ]
    }
   ],
   "source": [
    "imshow(imgs[0])"
   ]
  },
  {
   "cell_type": "markdown",
   "metadata": {
    "id": "WGDd--isw2gr"
   },
   "source": [
    "## albumentations"
   ]
  },
  {
   "cell_type": "code",
   "execution_count": 2,
   "metadata": {
    "execution": {
     "iopub.execute_input": "2023-04-18T19:08:04.172985Z",
     "iopub.status.busy": "2023-04-18T19:08:04.171985Z",
     "iopub.status.idle": "2023-04-18T19:08:04.184987Z",
     "shell.execute_reply": "2023-04-18T19:08:04.184987Z",
     "shell.execute_reply.started": "2023-04-18T19:08:04.172985Z"
    },
    "id": "TXieTPuayLC3",
    "tags": []
   },
   "outputs": [],
   "source": [
    "import numpy as np\n",
    "class Dataset(torch.utils.data.Dataset):\n",
    "    def __init__(self, path_data, transforms):\n",
    "        self.path_data = path_data\n",
    "        self.image_paths = os.listdir(self.path_data)\n",
    "        self.transforms = transforms\n",
    "    def __len__(self):\n",
    "        return len(self.image_paths)\n",
    "    def __getitem__(self, idx):\n",
    "        image = Image.open(os.path.join(self.path_data, self.image_paths[idx]))\n",
    "        image = self.transforms(image=np.array(image))['image']\n",
    "\n",
    "        return torch.FloatTensor(image)"
   ]
  },
  {
   "cell_type": "code",
   "execution_count": 4,
   "metadata": {
    "execution": {
     "iopub.execute_input": "2023-04-18T19:07:35.924493Z",
     "iopub.status.busy": "2023-04-18T19:07:35.924493Z",
     "iopub.status.idle": "2023-04-18T19:07:35.927493Z",
     "shell.execute_reply": "2023-04-18T19:07:35.927493Z",
     "shell.execute_reply.started": "2023-04-18T19:07:35.924493Z"
    },
    "id": "EDdPM4QT0FwM",
    "tags": []
   },
   "outputs": [],
   "source": [
    "def imshow(img):\n",
    "    npimg = img.numpy()\n",
    "    plt.imshow(npimg)\n",
    "    plt.show()"
   ]
  },
  {
   "cell_type": "code",
   "execution_count": null,
   "metadata": {
    "execution": {
     "iopub.execute_input": "2023-04-18T19:08:05.397985Z",
     "iopub.status.busy": "2023-04-18T19:08:05.397985Z"
    },
    "id": "z-1l-awJhA_N",
    "tags": []
   },
   "outputs": [],
   "source": [
    "import albumentations as A\n",
    "alb_transforms = A.Compose([\n",
    "    A.RandomCrop(width=256, height=256),\n",
    "    A.MedianBlur(),\n",
    "    A.RandomGamma(),\n",
    "    A.HorizontalFlip(p=0.5),\n",
    "    A.RandomBrightnessContrast(p=0.2),\n",
    "])"
   ]
  },
  {
   "cell_type": "code",
   "execution_count": null,
   "metadata": {
    "id": "3YeM8qR0xQV_"
   },
   "outputs": [],
   "source": [
    "train_data = Dataset('/content/cats', transforms=alb_transforms)\n",
    "train_loader = torch.utils.data.DataLoader(train_data, batch_size=2, shuffle=True)"
   ]
  },
  {
   "cell_type": "code",
   "execution_count": null,
   "metadata": {
    "id": "jGxOMxthxuOT"
   },
   "outputs": [],
   "source": [
    "imgs = next(iter(train_loader))"
   ]
  },
  {
   "cell_type": "code",
   "execution_count": null,
   "metadata": {
    "colab": {
     "base_uri": "https://localhost:8080/",
     "height": 286
    },
    "id": "qVP-_RhE0z1P",
    "outputId": "affa5c4f-8e32-4118-a840-9efa88f23b2c"
   },
   "outputs": [
    {
     "data": {
      "text/plain": [
       "<matplotlib.image.AxesImage at 0x7f1e209b2550>"
      ]
     },
     "execution_count": 38,
     "metadata": {
      "tags": []
     },
     "output_type": "execute_result"
    },
    {
     "data": {
      "image/png": "[encoded data removed]",
      "text/plain": [
       "<Figure size 432x288 with 1 Axes>"
      ]
     },
     "metadata": {
      "needs_background": "light",
      "tags": []
     },
     "output_type": "display_data"
    }
   ],
   "source": [
    "plt.imshow(imgs[0].numpy().astype(int))"
   ]
  },
  {
   "cell_type": "code",
   "execution_count": null,
   "metadata": {
    "id": "USQk0Phc3Jiq"
   },
   "outputs": [],
   "source": []
  }
 ],
 "metadata": {
  "colab": {
   "name": "augmentations.ipynb",
   "provenance": []
  },
  "kernelspec": {
   "display_name": "Python 3 (ipykernel)",
   "language": "python",
   "name": "python3"
  },
  "language_info": {
   "codemirror_mode": {
    "name": "ipython",
    "version": 3
   },
   "file_extension": ".py",
   "mimetype": "text/x-python",
   "name": "python",
   "nbconvert_exporter": "python",
   "pygments_lexer": "ipython3",
   "version": "3.9.16"
  }
 },
 "nbformat": 4,
 "nbformat_minor": 4
}
