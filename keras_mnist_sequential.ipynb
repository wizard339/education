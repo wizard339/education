{
  "nbformat": 4,
  "nbformat_minor": 0,
  "metadata": {
    "colab": {
      "provenance": [],
      "include_colab_link": true
    },
    "kernelspec": {
      "name": "python3",
      "display_name": "Python 3"
    },
    "accelerator": "GPU"
  },
  "cells": [
    {
      "cell_type": "markdown",
      "metadata": {
        "id": "view-in-github",
        "colab_type": "text"
      },
      "source": [
        "<a href=\"https://colab.research.google.com/github/wizard339/education/blob/main/keras_mnist_sequential.ipynb\" target=\"_parent\"><img src=\"https://colab.research.google.com/assets/colab-badge.svg\" alt=\"Open In Colab\"/></a>"
      ]
    },
    {
      "cell_type": "markdown",
      "metadata": {
        "id": "frHiDRbv-JnK"
      },
      "source": [
        "Для воспроизводимости кода установим определенную версию tensorflow и keras"
      ]
    },
    {
      "cell_type": "code",
      "metadata": {
        "id": "sfrrvxH_-Gdg"
      },
      "source": [
        "!pip install -q tensorflow==2.1"
      ],
      "execution_count": null,
      "outputs": []
    },
    {
      "cell_type": "code",
      "metadata": {
        "id": "NPDfQS-kNO1v"
      },
      "source": [
        "import tensorflow as tf\n",
        "from tensorflow import keras\n",
        "from tensorflow.keras.layers import Dense\n",
        "from tensorflow.keras.models import Sequential\n",
        "from tensorflow.keras.backend import clear_session\n",
        "import numpy as np\n",
        "import pandas as pd\n",
        "import sklearn\n",
        "from sklearn.metrics import accuracy_score\n",
        "import matplotlib.pyplot as plt"
      ],
      "execution_count": 1,
      "outputs": []
    },
    {
      "cell_type": "code",
      "metadata": {
        "id": "B4QHV0JB9r9D",
        "colab": {
          "base_uri": "https://localhost:8080/"
        },
        "outputId": "42febe86-ddbf-44d9-88b0-4daf6bf67026"
      },
      "source": [
        "print(\"We're using TF\", tf.__version__)\n",
        "print(\"We are using Keras\", keras.__version__)"
      ],
      "execution_count": 2,
      "outputs": [
        {
          "output_type": "stream",
          "name": "stdout",
          "text": [
            "We're using TF 2.9.2\n",
            "We are using Keras 2.9.0\n"
          ]
        }
      ]
    },
    {
      "cell_type": "code",
      "metadata": {
        "id": "Xfoji_vbLUiA",
        "colab": {
          "base_uri": "https://localhost:8080/",
          "height": 35
        },
        "outputId": "28bd7cba-4964-4810-f80b-bb68335d91de"
      },
      "source": [
        "# Проверяем что у нас работает GPU\n",
        "tf.test.gpu_device_name()"
      ],
      "execution_count": 3,
      "outputs": [
        {
          "output_type": "execute_result",
          "data": {
            "text/plain": [
              "'/device:GPU:0'"
            ],
            "application/vnd.google.colaboratory.intrinsic+json": {
              "type": "string"
            }
          },
          "metadata": {},
          "execution_count": 3
        }
      ]
    },
    {
      "cell_type": "code",
      "metadata": {
        "id": "5oglA59FL0wA",
        "colab": {
          "base_uri": "https://localhost:8080/"
        },
        "outputId": "f27ff157-9074-4b18-f74e-296dcbb72213"
      },
      "source": [
        "#GPU count and name\n",
        "!nvidia-smi -L"
      ],
      "execution_count": 4,
      "outputs": [
        {
          "output_type": "stream",
          "name": "stdout",
          "text": [
            "GPU 0: Tesla T4 (UUID: GPU-44422505-c121-d470-d1e7-88f358cad071)\n"
          ]
        }
      ]
    },
    {
      "cell_type": "code",
      "metadata": {
        "id": "rYt8uY3aOaFT",
        "colab": {
          "base_uri": "https://localhost:8080/"
        },
        "outputId": "0fdf2490-7349-4e24-c1e9-5fc1c8b7d7c1"
      },
      "source": [
        "#use this command to see GPU activity while doing Deep Learning tasks, for this command 'nvidia-smi' and for above one to work, go to 'Runtime > change runtime type > Hardware Accelerator > GPU'\n",
        "!nvidia-smi"
      ],
      "execution_count": 5,
      "outputs": [
        {
          "output_type": "stream",
          "name": "stdout",
          "text": [
            "Sat Dec 24 16:05:18 2022       \n",
            "+-----------------------------------------------------------------------------+\n",
            "| NVIDIA-SMI 460.32.03    Driver Version: 460.32.03    CUDA Version: 11.2     |\n",
            "|-------------------------------+----------------------+----------------------+\n",
            "| GPU  Name        Persistence-M| Bus-Id        Disp.A | Volatile Uncorr. ECC |\n",
            "| Fan  Temp  Perf  Pwr:Usage/Cap|         Memory-Usage | GPU-Util  Compute M. |\n",
            "|                               |                      |               MIG M. |\n",
            "|===============================+======================+======================|\n",
            "|   0  Tesla T4            Off  | 00000000:00:04.0 Off |                    0 |\n",
            "| N/A   68C    P0    29W /  70W |    312MiB / 15109MiB |      0%      Default |\n",
            "|                               |                      |                  N/A |\n",
            "+-------------------------------+----------------------+----------------------+\n",
            "                                                                               \n",
            "+-----------------------------------------------------------------------------+\n",
            "| Processes:                                                                  |\n",
            "|  GPU   GI   CI        PID   Type   Process name                  GPU Memory |\n",
            "|        ID   ID                                                   Usage      |\n",
            "|=============================================================================|\n",
            "+-----------------------------------------------------------------------------+\n"
          ]
        }
      ]
    },
    {
      "cell_type": "markdown",
      "metadata": {
        "id": "aM4jVTyFDFqx"
      },
      "source": [
        "# MNIST"
      ]
    },
    {
      "cell_type": "code",
      "metadata": {
        "id": "5ynJ91PONjLN",
        "colab": {
          "base_uri": "https://localhost:8080/"
        },
        "outputId": "2567282d-45c3-4bce-c6e6-253372d72db8"
      },
      "source": [
        "# скачиваем данные\n",
        "(x_train, y_train), (x_val, y_val) = tf.keras.datasets.mnist.load_data()"
      ],
      "execution_count": 6,
      "outputs": [
        {
          "output_type": "stream",
          "name": "stdout",
          "text": [
            "Downloading data from https://storage.googleapis.com/tensorflow/tf-keras-datasets/mnist.npz\n",
            "11490434/11490434 [==============================] - 2s 0us/step\n"
          ]
        }
      ]
    },
    {
      "cell_type": "code",
      "metadata": {
        "id": "gFOePELMN8KM",
        "colab": {
          "base_uri": "https://localhost:8080/"
        },
        "outputId": "786e1f51-347c-4b77-a95a-740510f40ac3"
      },
      "source": [
        "# что за данные\n",
        "print(x_train.shape)\n",
        "print(x_val.shape)\n",
        "print (y_train[:10])\n",
        "print (y_val[:10])"
      ],
      "execution_count": 7,
      "outputs": [
        {
          "output_type": "stream",
          "name": "stdout",
          "text": [
            "(60000, 28, 28)\n",
            "(10000, 28, 28)\n",
            "[5 0 4 1 9 2 1 3 1 4]\n",
            "[7 2 1 0 4 1 4 9 5 9]\n"
          ]
        }
      ]
    },
    {
      "cell_type": "code",
      "metadata": {
        "id": "S_1_CbatN_Kt",
        "colab": {
          "base_uri": "https://localhost:8080/",
          "height": 582
        },
        "outputId": "84667ba9-6d46-4263-fff3-929cfc2cd193"
      },
      "source": [
        "# нарисуем картинку\n",
        "x_train_image = np.tile(x_train[5, :, :].reshape((28, 28))[:, :, np.newaxis], (1, 1, 3))\n",
        "print(\"Пример кусочка картинки (пиксели со значениями от 0 до 255):\")\n",
        "plt.imshow(x_train_image[15:20, 5:10], cmap=\"Greys\")\n",
        "plt.show()\n",
        "print(\"Пример картинки:\")\n",
        "plt.imshow(x_train_image, cmap=\"Greys\")\n",
        "plt.show()\n",
        "print(\"y_train [shape %s] 10 примеров:\\n\" % (str(y_train.shape)), y_train[:10])"
      ],
      "execution_count": 8,
      "outputs": [
        {
          "output_type": "stream",
          "name": "stdout",
          "text": [
            "Пример кусочка картинки (пиксели со значениями от 0 до 255):\n"
          ]
        },
        {
          "output_type": "display_data",
          "data": {
            "text/plain": [
              "<Figure size 432x288 with 1 Axes>"
            ],
            "image/png": "[encoded data removed]"
          },
          "metadata": {
            "needs_background": "light"
          }
        },
        {
          "output_type": "stream",
          "name": "stdout",
          "text": [
            "Пример картинки:\n"
          ]
        },
        {
          "output_type": "display_data",
          "data": {
            "text/plain": [
              "<Figure size 432x288 with 1 Axes>"
            ],
            "image/png": "[encoded data removed]"
          },
          "metadata": {
            "needs_background": "light"
          }
        },
        {
          "output_type": "stream",
          "name": "stdout",
          "text": [
            "y_train [shape (60000,)] 10 примеров:\n",
            " [5 0 4 1 9 2 1 3 1 4]\n"
          ]
        }
      ]
    },
    {
      "cell_type": "code",
      "metadata": {
        "id": "N8lbRW0WBPvh",
        "colab": {
          "base_uri": "https://localhost:8080/",
          "height": 589
        },
        "outputId": "910459b5-518f-482e-ddfa-aaefc66975e8"
      },
      "source": [
        "# Посмотрим побольше примеров\n",
        "plt.figure(figsize=(10,10))\n",
        "for i in range(25):\n",
        "    plt.subplot(5,5,i+1)\n",
        "    plt.xticks([])\n",
        "    plt.yticks([])\n",
        "    plt.grid(False)\n",
        "    plt.imshow(x_train[i], cmap=\"Greys\")\n",
        "    plt.xlabel(y_train[i])\n",
        "plt.show()"
      ],
      "execution_count": 9,
      "outputs": [
        {
          "output_type": "display_data",
          "data": {
            "text/plain": [
              "<Figure size 720x720 with 25 Axes>"
            ],
            "image/png": "[encoded data removed]"
          },
          "metadata": {}
        }
      ]
    },
    {
      "cell_type": "markdown",
      "metadata": {
        "id": "Zs9l8YcDCn77"
      },
      "source": [
        "# Data"
      ]
    },
    {
      "cell_type": "code",
      "metadata": {
        "id": "Gy5rjeOE1RGk",
        "colab": {
          "base_uri": "https://localhost:8080/"
        },
        "outputId": "6861dafe-6476-4713-b419-f9b55a5ca176"
      },
      "source": [
        "# вытянем картинку в вектор размера 28*28=784 и будем использовать это как фичи!\n",
        "\n",
        "x_train_flat = x_train.reshape(-1, 28*28).astype(float)\n",
        "print(x_train.shape, x_train_flat.shape)\n",
        "\n",
        "x_val_flat = x_val.reshape(-1, 28*28).astype(float)\n",
        "print(x_val.shape, x_val_flat.shape)"
      ],
      "execution_count": 10,
      "outputs": [
        {
          "output_type": "stream",
          "name": "stdout",
          "text": [
            "(60000, 28, 28) (60000, 784)\n",
            "(10000, 28, 28) (10000, 784)\n"
          ]
        }
      ]
    },
    {
      "cell_type": "code",
      "metadata": {
        "id": "eiiClrqZC1ev",
        "colab": {
          "base_uri": "https://localhost:8080/"
        },
        "outputId": "e3d25db2-a170-47cf-96ef-fed0025e91d3"
      },
      "source": [
        "# центрируем и нормируем, так сети будет проще учиться\n",
        "x_train_float = x_train_flat.astype(np.float) / 255 - 0.5\n",
        "x_val_float = x_val_flat.astype(np.float) / 255 - 0.5\n",
        "\n",
        "# по сути, это действия аналогичны нормализации через StandardScaler\n",
        "# from sklearn.preprocessing import StandardScaler\n",
        "# scaler = StandardScaler()\n",
        "# x_train_flat = scaler.fit_transform(x_train_flat)\n",
        "# x_val_flat = scaler.transform(x_val_flat)\n",
        "\n",
        "# Но попробуйте пропустить нормирование и посмотрите что будет ;)\n",
        "# x_train_float = x_train_flat.astype(np.float)\n",
        "# x_val_float = x_val_flat.astype(np.float)"
      ],
      "execution_count": 11,
      "outputs": [
        {
          "output_type": "stream",
          "name": "stderr",
          "text": [
            "<ipython-input-11-dd53c12ce9f9>:2: DeprecationWarning: `np.float` is a deprecated alias for the builtin `float`. To silence this warning, use `float` by itself. Doing this will not modify any behavior and is safe. If you specifically wanted the numpy scalar type, use `np.float64` here.\n",
            "Deprecated in NumPy 1.20; for more details and guidance: https://numpy.org/devdocs/release/1.20.0-notes.html#deprecations\n",
            "  x_train_float = x_train_flat.astype(np.float) / 255 - 0.5\n",
            "<ipython-input-11-dd53c12ce9f9>:3: DeprecationWarning: `np.float` is a deprecated alias for the builtin `float`. To silence this warning, use `float` by itself. Doing this will not modify any behavior and is safe. If you specifically wanted the numpy scalar type, use `np.float64` here.\n",
            "Deprecated in NumPy 1.20; for more details and guidance: https://numpy.org/devdocs/release/1.20.0-notes.html#deprecations\n",
            "  x_val_float = x_val_flat.astype(np.float) / 255 - 0.5\n"
          ]
        }
      ]
    },
    {
      "cell_type": "code",
      "metadata": {
        "id": "lLz736fXE1mN",
        "colab": {
          "base_uri": "https://localhost:8080/"
        },
        "outputId": "3e188a67-135d-44a5-b0c8-2b69c7e54a21"
      },
      "source": [
        "# one-hot encode для ответов\n",
        "y_train_oh = keras.utils.to_categorical(y_train, 10)\n",
        "y_val_oh = keras.utils.to_categorical(y_val, 10)\n",
        "\n",
        "print(y_train_oh.shape)\n",
        "print(y_train_oh[:5], y_train[:5])"
      ],
      "execution_count": 12,
      "outputs": [
        {
          "output_type": "stream",
          "name": "stdout",
          "text": [
            "(60000, 10)\n",
            "[[0. 0. 0. 0. 0. 1. 0. 0. 0. 0.]\n",
            " [1. 0. 0. 0. 0. 0. 0. 0. 0. 0.]\n",
            " [0. 0. 0. 0. 1. 0. 0. 0. 0. 0.]\n",
            " [0. 1. 0. 0. 0. 0. 0. 0. 0. 0.]\n",
            " [0. 0. 0. 0. 0. 0. 0. 0. 0. 1.]] [5 0 4 1 9]\n"
          ]
        }
      ]
    },
    {
      "cell_type": "markdown",
      "metadata": {
        "id": "n8jUd6IORgQh"
      },
      "source": [
        "# Собираем модель\n",
        "\n",
        "Построим простой Multi layer Perceptron (MLP) классификатор в Keras (по аналогии со знакомым нам уже MLPClassifier из sklearn)\n",
        "\n",
        "<img src=\"https://cdn-images-1.medium.com/max/1600/1*Gh5PS4R_A5drl5ebd_gNrg@2x.png\" width=\"500\">\n"
      ]
    },
    {
      "cell_type": "markdown",
      "metadata": {
        "id": "cSdaCoTkUCxH"
      },
      "source": [
        "Сначала надо будет посчитать логиты (logit, линейное преобразование) $z_k$ для каждого класса: $$z_k = \\vec{x} \\cdot \\vec{w_k} + b_k \\quad k = 0..9$$\n",
        "\n",
        "А затем превратить логиты $z_k$ в вероятности $p_k$ при помощи функции softmax: $$p_k = \\frac{e^{z_k}}{\\sum_{i=0}^{9}{e^{z_i}}} \\quad k = 0..9$$\n",
        "\n",
        "Мы будем использовать cross-entropy для минимизации ошибки: $$\\text{cross-entropy}(y, p) = -\\sum_{k=0}^{9}{\\log(p_k)[y = k]}$$\n",
        "\n",
        "где $$ [x]=\\begin{cases} 1, \\quad \\text{если $x$ истина} \\\\ 0, \\quad \\text{иначе} \\end{cases} $$\n",
        "\n",
        "Минимизация cross-entropy двигает $p_k$ в сторону 1 когда $y = k$, что как раз мы и хотим.\n"
      ]
    },
    {
      "cell_type": "code",
      "metadata": {
        "id": "EaI0ev6BOI2r"
      },
      "source": [
        "clear_session()"
      ],
      "execution_count": 13,
      "outputs": []
    },
    {
      "cell_type": "code",
      "metadata": {
        "id": "yrIcMsFlHp4U"
      },
      "source": [
        "# Архитектура сети\n",
        "model = Sequential()\n",
        "model.add(Dense(256, activation='relu', input_shape=(x_train_float.shape[1],))) # первый скрытый слой\n",
        "model.add(Dense(128, activation='relu',)) # второй скрытый слой\n",
        "model.add(Dense(10, activation='softmax',)) # выходной слой"
      ],
      "execution_count": 14,
      "outputs": []
    },
    {
      "cell_type": "code",
      "metadata": {
        "id": "dumFu1lQHpm_",
        "colab": {
          "base_uri": "https://localhost:8080/"
        },
        "outputId": "df8daed8-c3b7-4919-f326-9a3b0a8b8f6a"
      },
      "source": [
        "model.summary()"
      ],
      "execution_count": 15,
      "outputs": [
        {
          "output_type": "stream",
          "name": "stdout",
          "text": [
            "Model: \"sequential\"\n",
            "_________________________________________________________________\n",
            " Layer (type)                Output Shape              Param #   \n",
            "=================================================================\n",
            " dense (Dense)               (None, 256)               200960    \n",
            "                                                                 \n",
            " dense_1 (Dense)             (None, 128)               32896     \n",
            "                                                                 \n",
            " dense_2 (Dense)             (None, 10)                1290      \n",
            "                                                                 \n",
            "=================================================================\n",
            "Total params: 235,146\n",
            "Trainable params: 235,146\n",
            "Non-trainable params: 0\n",
            "_________________________________________________________________\n"
          ]
        }
      ]
    },
    {
      "cell_type": "code",
      "metadata": {
        "id": "UNi21kLiJCys"
      },
      "source": [
        "model.compile(\n",
        "    loss='categorical_crossentropy',  # минимизируем кросс-энтропию\n",
        "    optimizer='adam',  # так будет быстрее, позже узнаем что это :)\n",
        "    metrics=['accuracy']  # выводим процент правильных ответов\n",
        ")"
      ],
      "execution_count": 16,
      "outputs": []
    },
    {
      "cell_type": "code",
      "metadata": {
        "id": "rsO0ZQFDJFq_",
        "colab": {
          "base_uri": "https://localhost:8080/"
        },
        "outputId": "3741629e-ebc8-44b0-ea20-cdcb5e8a19aa"
      },
      "source": [
        "history = model.fit(\n",
        "                    x_train_float, \n",
        "                    y_train_oh,\n",
        "                    batch_size=64,  # 64 объекта для подсчета градиента на каждом шаге\n",
        "                    epochs=10,  # 10 проходов по датасету\n",
        "                    validation_data=(x_val_float, y_val_oh)\n",
        "                    )"
      ],
      "execution_count": 17,
      "outputs": [
        {
          "output_type": "stream",
          "name": "stdout",
          "text": [
            "Epoch 1/10\n",
            "938/938 [==============================] - 6s 4ms/step - loss: 0.3178 - accuracy: 0.9032 - val_loss: 0.1617 - val_accuracy: 0.9521\n",
            "Epoch 2/10\n",
            "938/938 [==============================] - 3s 3ms/step - loss: 0.1414 - accuracy: 0.9560 - val_loss: 0.1208 - val_accuracy: 0.9630\n",
            "Epoch 3/10\n",
            "938/938 [==============================] - 3s 3ms/step - loss: 0.1049 - accuracy: 0.9669 - val_loss: 0.1015 - val_accuracy: 0.9661\n",
            "Epoch 4/10\n",
            "938/938 [==============================] - 3s 3ms/step - loss: 0.0853 - accuracy: 0.9730 - val_loss: 0.0861 - val_accuracy: 0.9731\n",
            "Epoch 5/10\n",
            "938/938 [==============================] - 3s 3ms/step - loss: 0.0721 - accuracy: 0.9768 - val_loss: 0.0915 - val_accuracy: 0.9702\n",
            "Epoch 6/10\n",
            "938/938 [==============================] - 4s 4ms/step - loss: 0.0613 - accuracy: 0.9803 - val_loss: 0.0899 - val_accuracy: 0.9725\n",
            "Epoch 7/10\n",
            "938/938 [==============================] - 3s 3ms/step - loss: 0.0572 - accuracy: 0.9817 - val_loss: 0.0829 - val_accuracy: 0.9738\n",
            "Epoch 8/10\n",
            "938/938 [==============================] - 3s 3ms/step - loss: 0.0478 - accuracy: 0.9845 - val_loss: 0.0854 - val_accuracy: 0.9752\n",
            "Epoch 9/10\n",
            "938/938 [==============================] - 3s 4ms/step - loss: 0.0466 - accuracy: 0.9843 - val_loss: 0.0905 - val_accuracy: 0.9748\n",
            "Epoch 10/10\n",
            "938/938 [==============================] - 3s 4ms/step - loss: 0.0399 - accuracy: 0.9865 - val_loss: 0.0843 - val_accuracy: 0.9743\n"
          ]
        }
      ]
    },
    {
      "cell_type": "code",
      "metadata": {
        "id": "zM4NTDXyQn0A",
        "colab": {
          "base_uri": "https://localhost:8080/",
          "height": 350
        },
        "outputId": "27001e99-514f-4eea-95fa-9826b94b909c"
      },
      "source": [
        "# Plot training & validation accuracy values\n",
        "plt.style.use(['dark_background'])\n",
        "fig, ax = plt.subplots(figsize=(10, 5))\n",
        "plt.plot(history.history['accuracy'])\n",
        "plt.plot(history.history['val_accuracy'])\n",
        "plt.title('Model accuracy')\n",
        "plt.ylabel('Accuracy')\n",
        "plt.xlabel('Epoch')\n",
        "plt.legend(['Train', 'Test'], loc='upper left')\n",
        "plt.show()"
      ],
      "execution_count": 18,
      "outputs": [
        {
          "output_type": "display_data",
          "data": {
            "text/plain": [
              "<Figure size 720x360 with 1 Axes>"
            ],
            "image/png": "[encoded data removed]"
          },
          "metadata": {}
        }
      ]
    },
    {
      "cell_type": "code",
      "metadata": {
        "id": "uUwz9JG0R-9w",
        "colab": {
          "base_uri": "https://localhost:8080/",
          "height": 350
        },
        "outputId": "c06a6ea2-8dbc-44bb-a454-f4e67a2a6b8b"
      },
      "source": [
        "# Plot training & validation loss values\n",
        "plt.style.use(['dark_background'])\n",
        "fig, ax = plt.subplots(figsize=(10, 5))\n",
        "plt.plot(history.history['loss'])\n",
        "plt.plot(history.history['val_loss'])\n",
        "plt.title('Model loss')\n",
        "plt.ylabel('Loss')\n",
        "plt.xlabel('Epoch')\n",
        "plt.legend(['Train', 'Test'], loc='upper left')\n",
        "plt.show()"
      ],
      "execution_count": 19,
      "outputs": [
        {
          "output_type": "display_data",
          "data": {
            "text/plain": [
              "<Figure size 720x360 with 1 Axes>"
            ],
            "image/png": "[encoded data removed]"
          },
          "metadata": {}
        }
      ]
    },
    {
      "cell_type": "code",
      "metadata": {
        "id": "gpkK_GHOSF2j",
        "colab": {
          "base_uri": "https://localhost:8080/"
        },
        "outputId": "095d7918-2943-48c7-b258-7a906a7fe8eb"
      },
      "source": [
        "model.predict(x_val_float)"
      ],
      "execution_count": 20,
      "outputs": [
        {
          "output_type": "stream",
          "name": "stdout",
          "text": [
            "313/313 [==============================] - 1s 1ms/step\n"
          ]
        },
        {
          "output_type": "execute_result",
          "data": {
            "text/plain": [
              "array([[1.5529883e-11, 1.7955447e-09, 1.8110924e-06, ..., 9.9980658e-01,\n",
              "        7.9608347e-09, 1.6758160e-06],\n",
              "       [7.0737756e-11, 3.2711051e-10, 1.0000000e+00, ..., 1.0112244e-11,\n",
              "        9.1058862e-12, 2.8893657e-19],\n",
              "       [3.1061046e-07, 9.9862170e-01, 1.1081499e-03, ..., 5.7459192e-06,\n",
              "        1.0568826e-05, 8.3178620e-09],\n",
              "       ...,\n",
              "       [9.5947458e-20, 2.3207768e-13, 1.6029699e-15, ..., 4.7694196e-11,\n",
              "        7.1214449e-12, 8.1902994e-07],\n",
              "       [2.2084034e-12, 2.0037421e-11, 2.1336722e-11, ..., 2.6081338e-11,\n",
              "        4.6004899e-07, 9.5423269e-14],\n",
              "       [3.2389731e-12, 9.0709258e-15, 4.0598558e-12, ..., 1.1677400e-17,\n",
              "        2.0884343e-10, 3.4393699e-12]], dtype=float32)"
            ]
          },
          "metadata": {},
          "execution_count": 20
        }
      ]
    },
    {
      "cell_type": "code",
      "metadata": {
        "id": "WV5Z-2qlJxa2",
        "colab": {
          "base_uri": "https://localhost:8080/"
        },
        "outputId": "c1e9c36b-3397-44ed-c0ff-120a6acd5f27"
      },
      "source": [
        "np.argmax(model.predict(x_val_float), axis = 1)"
      ],
      "execution_count": 25,
      "outputs": [
        {
          "output_type": "stream",
          "name": "stdout",
          "text": [
            "313/313 [==============================] - 0s 2ms/step\n"
          ]
        },
        {
          "output_type": "execute_result",
          "data": {
            "text/plain": [
              "array([7, 2, 1, ..., 4, 5, 6])"
            ]
          },
          "metadata": {},
          "execution_count": 25
        }
      ]
    },
    {
      "cell_type": "code",
      "metadata": {
        "id": "j5MI71XhJPCk",
        "colab": {
          "base_uri": "https://localhost:8080/"
        },
        "outputId": "23c98651-ddaf-42c6-8d52-854387a69700"
      },
      "source": [
        "predicts = np.argmax(model.predict(x_val_float), axis = 1)\n",
        "print('Test Accuracy: ', accuracy_score(y_val, predicts))"
      ],
      "execution_count": 26,
      "outputs": [
        {
          "output_type": "stream",
          "name": "stdout",
          "text": [
            "313/313 [==============================] - 0s 1ms/step\n",
            "Test Accuracy:  0.9743\n"
          ]
        }
      ]
    },
    {
      "cell_type": "code",
      "metadata": {
        "id": "eo1J3PATJCm2"
      },
      "source": [],
      "execution_count": null,
      "outputs": []
    },
    {
      "cell_type": "code",
      "metadata": {
        "id": "e3p6CJJXW9f4"
      },
      "source": [],
      "execution_count": null,
      "outputs": []
    }
  ]
}