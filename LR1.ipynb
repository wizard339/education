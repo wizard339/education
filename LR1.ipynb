{
  "cells": [
    {
      "cell_type": "markdown",
      "metadata": {
        "id": "view-in-github",
        "colab_type": "text"
      },
      "source": [
        "<a href=\"https://colab.research.google.com/github/wizard339/education/blob/main/LR1.ipynb\" target=\"_parent\"><img src=\"https://colab.research.google.com/assets/colab-badge.svg\" alt=\"Open In Colab\"/></a>"
      ]
    },
    {
      "cell_type": "code",
      "execution_count": 1,
      "metadata": {
        "id": "yrzeBjGBajvQ"
      },
      "outputs": [],
      "source": [
        "import numpy as np\n",
        "import pandas as pd\n",
        "from sklearn.datasets import load_boston\n",
        "from sklearn.metrics import mean_squared_error, f1_score, accuracy_score, roc_curve, roc_auc_score\n",
        "from sklearn.model_selection import train_test_split\n",
        "\n",
        "from matplotlib import pyplot as plt"
      ]
    },
    {
      "cell_type": "markdown",
      "metadata": {
        "id": "dGa4d4_LajvT"
      },
      "source": [
        "## 1. Линейная регрессия. Реализация"
      ]
    },
    {
      "cell_type": "code",
      "execution_count": 2,
      "metadata": {
        "colab": {
          "base_uri": "https://localhost:8080/"
        },
        "id": "YcPhLr64ajvV",
        "outputId": "694f68f9-ea79-4914-930a-dda03de2fb74"
      },
      "outputs": [
        {
          "output_type": "stream",
          "name": "stderr",
          "text": [
            "/usr/local/lib/python3.8/dist-packages/sklearn/utils/deprecation.py:87: FutureWarning: Function load_boston is deprecated; `load_boston` is deprecated in 1.0 and will be removed in 1.2.\n",
            "\n",
            "    The Boston housing prices dataset has an ethical problem. You can refer to\n",
            "    the documentation of this function for further details.\n",
            "\n",
            "    The scikit-learn maintainers therefore strongly discourage the use of this\n",
            "    dataset unless the purpose of the code is to study and educate about\n",
            "    ethical issues in data science and machine learning.\n",
            "\n",
            "    In this special case, you can fetch the dataset from the original\n",
            "    source::\n",
            "\n",
            "        import pandas as pd\n",
            "        import numpy as np\n",
            "\n",
            "\n",
            "        data_url = \"http://lib.stat.cmu.edu/datasets/boston\"\n",
            "        raw_df = pd.read_csv(data_url, sep=\"\\s+\", skiprows=22, header=None)\n",
            "        data = np.hstack([raw_df.values[::2, :], raw_df.values[1::2, :2]])\n",
            "        target = raw_df.values[1::2, 2]\n",
            "\n",
            "    Alternative datasets include the California housing dataset (i.e.\n",
            "    :func:`~sklearn.datasets.fetch_california_housing`) and the Ames housing\n",
            "    dataset. You can load the datasets as follows::\n",
            "\n",
            "        from sklearn.datasets import fetch_california_housing\n",
            "        housing = fetch_california_housing()\n",
            "\n",
            "    for the California housing dataset and::\n",
            "\n",
            "        from sklearn.datasets import fetch_openml\n",
            "        housing = fetch_openml(name=\"house_prices\", as_frame=True)\n",
            "\n",
            "    for the Ames housing dataset.\n",
            "    \n",
            "  warnings.warn(msg, category=FutureWarning)\n"
          ]
        },
        {
          "output_type": "execute_result",
          "data": {
            "text/plain": [
              "(506, 13)"
            ]
          },
          "metadata": {},
          "execution_count": 2
        }
      ],
      "source": [
        "data = load_boston()\n",
        "data['data'].shape"
      ]
    },
    {
      "cell_type": "code",
      "execution_count": 3,
      "metadata": {
        "colab": {
          "base_uri": "https://localhost:8080/"
        },
        "id": "iJii2SSYajvW",
        "outputId": "d9e0dbb8-9eed-4f3c-855d-8bd3d4cf4b7b"
      },
      "outputs": [
        {
          "output_type": "stream",
          "name": "stdout",
          "text": [
            ".. _boston_dataset:\n",
            "\n",
            "Boston house prices dataset\n",
            "---------------------------\n",
            "\n",
            "**Data Set Characteristics:**  \n",
            "\n",
            "    :Number of Instances: 506 \n",
            "\n",
            "    :Number of Attributes: 13 numeric/categorical predictive. Median Value (attribute 14) is usually the target.\n",
            "\n",
            "    :Attribute Information (in order):\n",
            "        - CRIM     per capita crime rate by town\n",
            "        - ZN       proportion of residential land zoned for lots over 25,000 sq.ft.\n",
            "        - INDUS    proportion of non-retail business acres per town\n",
            "        - CHAS     Charles River dummy variable (= 1 if tract bounds river; 0 otherwise)\n",
            "        - NOX      nitric oxides concentration (parts per 10 million)\n",
            "        - RM       average number of rooms per dwelling\n",
            "        - AGE      proportion of owner-occupied units built prior to 1940\n",
            "        - DIS      weighted distances to five Boston employment centres\n",
            "        - RAD      index of accessibility to radial highways\n",
            "        - TAX      full-value property-tax rate per $10,000\n",
            "        - PTRATIO  pupil-teacher ratio by town\n",
            "        - B        1000(Bk - 0.63)^2 where Bk is the proportion of black people by town\n",
            "        - LSTAT    % lower status of the population\n",
            "        - MEDV     Median value of owner-occupied homes in $1000's\n",
            "\n",
            "    :Missing Attribute Values: None\n",
            "\n",
            "    :Creator: Harrison, D. and Rubinfeld, D.L.\n",
            "\n",
            "This is a copy of UCI ML housing dataset.\n",
            "https://archive.ics.uci.edu/ml/machine-learning-databases/housing/\n",
            "\n",
            "\n",
            "This dataset was taken from the StatLib library which is maintained at Carnegie Mellon University.\n",
            "\n",
            "The Boston house-price data of Harrison, D. and Rubinfeld, D.L. 'Hedonic\n",
            "prices and the demand for clean air', J. Environ. Economics & Management,\n",
            "vol.5, 81-102, 1978.   Used in Belsley, Kuh & Welsch, 'Regression diagnostics\n",
            "...', Wiley, 1980.   N.B. Various transformations are used in the table on\n",
            "pages 244-261 of the latter.\n",
            "\n",
            "The Boston house-price data has been used in many machine learning papers that address regression\n",
            "problems.   \n",
            "     \n",
            ".. topic:: References\n",
            "\n",
            "   - Belsley, Kuh & Welsch, 'Regression diagnostics: Identifying Influential Data and Sources of Collinearity', Wiley, 1980. 244-261.\n",
            "   - Quinlan,R. (1993). Combining Instance-Based and Model-Based Learning. In Proceedings on the Tenth International Conference of Machine Learning, 236-243, University of Massachusetts, Amherst. Morgan Kaufmann.\n",
            "\n"
          ]
        }
      ],
      "source": [
        "print(data['DESCR'])"
      ]
    },
    {
      "cell_type": "markdown",
      "metadata": {
        "id": "Fshs_PuVajvW"
      },
      "source": [
        "### 1.1. Реализация линейной регрессии с использованием матричных операций"
      ]
    },
    {
      "cell_type": "markdown",
      "metadata": {
        "id": "ai5gYTqdajvX"
      },
      "source": [
        "Линейная регрессия выражается следующей зависимостью:\n",
        "$$y=X\\theta+\\epsilon,$$\n",
        "где $X$ — матрица объекты-признаки, $y$ — вектор целевых значений, соответствующих $X$, $\\theta$ — параметр линейной регрессии, $\\epsilon$ — некоторый шум."
      ]
    },
    {
      "cell_type": "markdown",
      "metadata": {
        "id": "bTIFsbDWajvX"
      },
      "source": [
        "Из данного следует выражение для $\\theta$ как:\n",
        "$$X^Ty=X^TX\\theta \\rightarrow \\theta=(X^TX)^{-1}X^Ty$$"
      ]
    },
    {
      "cell_type": "markdown",
      "metadata": {
        "id": "ijptmgMwajvY"
      },
      "source": [
        "Реализуем выражение для $\\theta$ с помощью операций линейной алгебры библиотеки Numpy:"
      ]
    },
    {
      "cell_type": "code",
      "execution_count": 19,
      "metadata": {
        "id": "-JnM2lLPajvY"
      },
      "outputs": [],
      "source": [
        "# ЗАДАЧА Реализовать функцию, осуществляющую матричные операции для получения theta\n",
        "def linreg_linear(X, y):\n",
        "  theta = np.linalg.inv(X.T@X)@X.T@y\n",
        "  return theta"
      ]
    },
    {
      "cell_type": "code",
      "execution_count": 20,
      "metadata": {
        "id": "iwPluDGdajvZ"
      },
      "outputs": [],
      "source": [
        "# Подготовить данные\n",
        "\n",
        "X, y = data['data'], data['target']\n",
        "\n",
        "X = np.hstack([np.ones(X.shape[0])[:, np.newaxis], X])"
      ]
    },
    {
      "cell_type": "code",
      "execution_count": 22,
      "metadata": {
        "id": "jpEr6I6ZajvZ"
      },
      "outputs": [],
      "source": [
        "# Вычислить параметр theta\n",
        "theta = linreg_linear(X, y)"
      ]
    },
    {
      "cell_type": "code",
      "execution_count": 23,
      "metadata": {
        "colab": {
          "base_uri": "https://localhost:8080/"
        },
        "id": "chu_3TmVajvZ",
        "outputId": "be8ddd10-a770-48d9-ede3-9d20199d94c1"
      },
      "outputs": [
        {
          "output_type": "execute_result",
          "data": {
            "text/plain": [
              "(14,)"
            ]
          },
          "metadata": {},
          "execution_count": 23
        }
      ],
      "source": [
        "theta.shape"
      ]
    },
    {
      "cell_type": "code",
      "execution_count": 24,
      "metadata": {
        "id": "pUPkKszwajva"
      },
      "outputs": [],
      "source": [
        "# Сделать предсказания для тренировочной выборки\n",
        "y_pred = X.dot(theta)"
      ]
    },
    {
      "cell_type": "code",
      "execution_count": 25,
      "metadata": {
        "id": "d16bQ8Mvajva"
      },
      "outputs": [],
      "source": [
        "def print_regression_metrics(y_true, y_pred):\n",
        "    mse = mean_squared_error(y_true, y_pred)\n",
        "    rmse = np.sqrt(mse)\n",
        "    print(f'MSE = {mse:.2f}, RMSE = {rmse:.2f}')"
      ]
    },
    {
      "cell_type": "code",
      "execution_count": 26,
      "metadata": {
        "colab": {
          "base_uri": "https://localhost:8080/"
        },
        "id": "nCnKSAygajva",
        "outputId": "ffc3f2f6-78ee-416d-edc8-a36104407346"
      },
      "outputs": [
        {
          "output_type": "stream",
          "name": "stdout",
          "text": [
            "MSE = 21.89, RMSE = 4.68\n"
          ]
        }
      ],
      "source": [
        "# Посчитать значение ошибок MSE и RMSE для тренировочных данных\n",
        "print_regression_metrics(y, y_pred)"
      ]
    },
    {
      "cell_type": "code",
      "execution_count": 27,
      "metadata": {
        "colab": {
          "base_uri": "https://localhost:8080/",
          "height": 267
        },
        "id": "KvkQlsBJajva",
        "outputId": "dc1e260e-3537-4ef4-cdc9-385a9a3e8746"
      },
      "outputs": [
        {
          "output_type": "display_data",
          "data": {
            "text/plain": [
              "<Figure size 432x288 with 1 Axes>"
            ],
            "image/png": "[encoded data removed]"
          },
          "metadata": {
            "needs_background": "light"
          }
        }
      ],
      "source": [
        "plt.hist(y);"
      ]
    },
    {
      "cell_type": "code",
      "execution_count": 28,
      "metadata": {
        "id": "-R08AeZiajvb"
      },
      "outputs": [],
      "source": [
        "# Разбить выборку на train/valid, вычислить theta,\n",
        "# сделать предсказания и посчитать ошибки MSE и RMSE\n",
        "\n",
        "X_train, X_valid, y_train, y_valid = train_test_split(X, y, test_size=0.2)\n",
        "theta = linreg_linear(X_train, y_train)\n",
        "y_pred = X_valid.dot(theta)\n",
        "y_train_pred = X_train.dot(theta)"
      ]
    },
    {
      "cell_type": "code",
      "execution_count": 29,
      "metadata": {
        "scrolled": true,
        "colab": {
          "base_uri": "https://localhost:8080/"
        },
        "id": "uhe-4g1oajvb",
        "outputId": "cd41b082-de08-4f0c-eeb8-bb2c0fec9034"
      },
      "outputs": [
        {
          "output_type": "stream",
          "name": "stdout",
          "text": [
            "MSE = 24.59, RMSE = 4.96\n",
            "MSE = 21.52, RMSE = 4.64\n"
          ]
        }
      ],
      "source": [
        "print_regression_metrics(y_valid, y_pred)\n",
        "print_regression_metrics(y_train, y_train_pred)"
      ]
    },
    {
      "cell_type": "code",
      "execution_count": 30,
      "metadata": {
        "colab": {
          "base_uri": "https://localhost:8080/"
        },
        "id": "87vTbd5najvb",
        "outputId": "a4ab3694-601a-45f8-ef90-c29f8dda4eb6"
      },
      "outputs": [
        {
          "output_type": "stream",
          "name": "stdout",
          "text": [
            "MSE = 21.89, RMSE = 4.68\n"
          ]
        }
      ],
      "source": [
        "from sklearn.linear_model import LinearRegression\n",
        "\n",
        "lr = LinearRegression()\n",
        "lr.fit(X, y)\n",
        "y_pred = lr.predict(X)\n",
        "print_regression_metrics(y, y_pred)"
      ]
    },
    {
      "cell_type": "markdown",
      "metadata": {
        "id": "a-ignco6ajvc"
      },
      "source": [
        "### 1.2. Реализация линейной регрессии с использованием методов оптимизации"
      ]
    },
    {
      "cell_type": "markdown",
      "metadata": {
        "id": "8pQLJskKajvc"
      },
      "source": [
        "Для реализации линейной регрессии с помощью методов оптимизации будем использовать функцию ошибки **среднего квадратичного** ([Mean Squared Error](https://en.wikipedia.org/wiki/Mean_squared_error)), которая является выпуклой функцией в n-мерном пространстве $\\mathbb{R}^n$ и в общем виде выглядит следующим образом:\n",
        "$$MSE = \\frac{1}{n} * \\sum_{i=1}^{n}{(y_i - a(x_i))^2}.$$\n",
        "Здесь $x_i$ — вектор-признак $i$-го объекта обучающей выборки, $y_i$ — истинное значение для $i$-го объекта, $a(x)$ — алгоритм, предсказывающий для данного объекта $x$ целевое значение, $n$ — кол-во объектов в выборке."
      ]
    },
    {
      "cell_type": "markdown",
      "metadata": {
        "id": "-qR1GRM7ajvc"
      },
      "source": [
        "В случае линейной регрессии $MSE$ представляется как:\n",
        "$$MSE(X, y, \\theta) = \\frac{1}{2n} * \\sum_{i=1}^{n}{(y_i - \\theta^Tx_i)^2} = \\frac{1}{2n} \\lVert{y - X\\theta}\\rVert_{2}^{2}=\\frac{1}{2n} (y - X\\theta)^T(y - X\\theta),$$\n",
        "где $\\theta$ — параметр модели линейной регрессии, $X$ — матрица объекты-признаки, $y$ - вектор истинных значений, соответствующих $X$."
      ]
    },
    {
      "cell_type": "markdown",
      "metadata": {
        "id": "36zb-FSnajvc"
      },
      "source": [
        "Возьмем первый вариант представления функции ошибки и посчитаем ее градиент по параметру $\\theta$, предварительно переименовав $MSE$ в $L$:\n",
        "$$L=\\frac{1}{2n} * \\sum_{i=1}^{n}{(y_i - \\theta^Tx_i)^2}$$\n",
        "$$\\nabla L = \\frac{1}{n}\\sum_{i=1}^{n}{(\\theta^Tx_i - y_i) \\cdot x_i} = \\frac{1}{n}X^T(X\\theta - y)$$"
      ]
    },
    {
      "cell_type": "markdown",
      "metadata": {
        "id": "ZeVbiIihajvd"
      },
      "source": [
        "Исходя из полученного выражения градиента, реализуем алгоритм градиентного спуска:"
      ]
    },
    {
      "cell_type": "code",
      "execution_count": 31,
      "metadata": {
        "id": "fB3ndL8iajvd"
      },
      "outputs": [],
      "source": [
        "# Реализовать функцию вычисления градиента функции MSE\n",
        "\n",
        "def calc_mse_gradient(X, y, theta):\n",
        "    n = X.shape[0]\n",
        "    grad = 1. / n * X.transpose().dot(X.dot(theta) - y)\n",
        "    \n",
        "    return grad"
      ]
    },
    {
      "cell_type": "code",
      "execution_count": 32,
      "metadata": {
        "id": "48JIxVuCajvd"
      },
      "outputs": [],
      "source": [
        "# Реализовать функцию, осуществляющую градиентный шаг\n",
        "# (функция должна содержать параметр величины шага alpha - learning rate)\n",
        "\n",
        "def gradient_step(theta, theta_grad, alpha):\n",
        "    return theta - alpha * theta_grad"
      ]
    },
    {
      "cell_type": "code",
      "execution_count": 33,
      "metadata": {
        "id": "zeL6br9xajvd"
      },
      "outputs": [],
      "source": [
        "# Реализовать функцию цикла градиентного спуска с доп. параметрами\n",
        "# начального вектора theta и числа итераций\n",
        "\n",
        "def optimize(X, y, grad_func, start_theta, alpha, n_iters):\n",
        "    theta = start_theta.copy()\n",
        "    \n",
        "    for i in range(n_iters):\n",
        "        theta_grad = grad_func(X, y, theta)\n",
        "        theta = gradient_step(theta, theta_grad, alpha)\n",
        "    \n",
        "    return theta\n"
      ]
    },
    {
      "cell_type": "code",
      "execution_count": 34,
      "metadata": {
        "id": "bnPk-2ykajvd"
      },
      "outputs": [],
      "source": [
        "# Разбить таблицу данных на матрицы X и y\n",
        "X, y = data['data'], data['target']\n",
        "\n",
        "# Добавить фиктивный столбец единиц (bias линейной модели)\n",
        "X = np.hstack([np.ones(X.shape[0])[:, np.newaxis], X])\n",
        "m = X.shape[1]"
      ]
    },
    {
      "cell_type": "code",
      "execution_count": 35,
      "metadata": {
        "id": "Rkkw_uyUajve"
      },
      "outputs": [],
      "source": [
        "# Оптимизировать параметр линейной регрессии theta на всех данных\n",
        "theta = optimize(X, y, calc_mse_gradient, np.ones(m), 0.001, 100)"
      ]
    },
    {
      "cell_type": "code",
      "execution_count": 36,
      "metadata": {
        "colab": {
          "base_uri": "https://localhost:8080/"
        },
        "id": "9DAI4JX_ajve",
        "outputId": "93649ac1-f18f-4394-aaaf-7397dc404e38"
      },
      "outputs": [
        {
          "output_type": "execute_result",
          "data": {
            "text/plain": [
              "array([7.41647399e+246, 3.32349992e+247, 7.39564172e+247, 8.96295209e+247,\n",
              "       5.07578059e+245, 4.22030567e+246, 4.63094053e+247, 5.29083888e+248,\n",
              "       2.65643383e+247, 8.19991211e+247, 3.27135991e+249, 1.38363846e+248,\n",
              "       2.64323053e+249, 9.88835598e+247])"
            ]
          },
          "metadata": {},
          "execution_count": 36
        }
      ],
      "source": [
        "theta"
      ]
    },
    {
      "cell_type": "code",
      "execution_count": 37,
      "metadata": {
        "colab": {
          "base_uri": "https://localhost:8080/"
        },
        "id": "yqncR2-Hajve",
        "outputId": "3f5b1b72-f02f-4562-e1ea-f03d10501996"
      },
      "outputs": [
        {
          "output_type": "execute_result",
          "data": {
            "text/plain": [
              "array([  1.    ,  88.9762, 100.    ,  27.74  ,   1.    ,   0.871 ,\n",
              "         8.78  , 100.    ,  12.1265,  24.    , 711.    ,  22.    ,\n",
              "       396.9   ,  37.97  ])"
            ]
          },
          "metadata": {},
          "execution_count": 37
        }
      ],
      "source": [
        "# Проверить максимальные значения по каждому признаку в данных\n",
        "X.max(axis=0)"
      ]
    },
    {
      "cell_type": "code",
      "execution_count": 38,
      "metadata": {
        "colab": {
          "base_uri": "https://localhost:8080/"
        },
        "id": "riA7Xq_uajve",
        "outputId": "17111ecc-4c46-411f-d75a-e73c35295d1b"
      },
      "outputs": [
        {
          "output_type": "stream",
          "name": "stdout",
          "text": [
            "B\n",
            "168.3704950393814\n"
          ]
        }
      ],
      "source": [
        "print(data['feature_names'][np.argmax(X.std(axis=0)) + 1])\n",
        "print(np.max(X.std(axis=0)))"
      ]
    },
    {
      "cell_type": "code",
      "execution_count": 39,
      "metadata": {
        "id": "xScK3Bfeajve"
      },
      "outputs": [],
      "source": [
        "# Нормализовать даннные с помощью стандартной нормализации\n",
        "X, y = data['data'], data['target']\n",
        "X = (X - X.mean(axis=0)) / X.std(axis=0)"
      ]
    },
    {
      "cell_type": "code",
      "execution_count": 40,
      "metadata": {
        "colab": {
          "base_uri": "https://localhost:8080/"
        },
        "id": "ugQf8HpYajvf",
        "outputId": "c845db0a-74cd-4bd4-9dcc-f613922f90e0"
      },
      "outputs": [
        {
          "output_type": "execute_result",
          "data": {
            "text/plain": [
              "array([1.        , 9.9339306 , 3.80423444, 2.42256516, 3.66839786,\n",
              "       2.73234648, 3.55504427, 1.11749449, 3.96051769, 1.66124525,\n",
              "       1.79819419, 1.63882832, 0.44105193, 3.54877081])"
            ]
          },
          "metadata": {},
          "execution_count": 40
        }
      ],
      "source": [
        "# Добавить фиктивный столбец единиц (bias линейной модели)\n",
        "X = np.hstack([np.ones(X.shape[0])[:, np.newaxis], X])\n",
        "X.max(axis=0)"
      ]
    },
    {
      "cell_type": "code",
      "execution_count": 41,
      "metadata": {
        "id": "_sTaQ0t7ajvf"
      },
      "outputs": [],
      "source": [
        "# Оптимизировать theta на новых данных\n",
        "theta = optimize(X, y, calc_mse_gradient, np.ones(m), 0.01, 5000)"
      ]
    },
    {
      "cell_type": "code",
      "execution_count": 42,
      "metadata": {
        "colab": {
          "base_uri": "https://localhost:8080/"
        },
        "id": "AaVd4DU8ajvf",
        "outputId": "8726c723-79d0-43ed-bacc-24072035058b"
      },
      "outputs": [
        {
          "output_type": "execute_result",
          "data": {
            "text/plain": [
              "array([ 2.25328063e+01, -9.21740195e-01,  1.07033639e+00,  1.06388396e-01,\n",
              "        6.86667316e-01, -2.05006416e+00,  2.68062168e+00,  1.40667969e-02,\n",
              "       -3.10608483e+00,  2.57511475e+00, -1.97802851e+00, -2.05725099e+00,\n",
              "        8.48690321e-01, -3.74025884e+00])"
            ]
          },
          "metadata": {},
          "execution_count": 42
        }
      ],
      "source": [
        "theta"
      ]
    },
    {
      "cell_type": "code",
      "execution_count": 43,
      "metadata": {
        "id": "f4FVsGtoajvf"
      },
      "outputs": [],
      "source": [
        "# Сделать предсказания при полученных параметрах\n",
        "y_pred = X.dot(theta)"
      ]
    },
    {
      "cell_type": "code",
      "execution_count": 44,
      "metadata": {
        "colab": {
          "base_uri": "https://localhost:8080/"
        },
        "id": "drHJhbtdajvf",
        "outputId": "96d76804-04dc-4929-af11-1bf4d73e7ae3"
      },
      "outputs": [
        {
          "output_type": "stream",
          "name": "stdout",
          "text": [
            "MSE = 21.90, RMSE = 4.68\n"
          ]
        }
      ],
      "source": [
        "# Посчитать значение ошибок MSE и RMSE для тренировочных данных\n",
        "print_regression_metrics(y, y_pred)"
      ]
    },
    {
      "cell_type": "code",
      "execution_count": 45,
      "metadata": {
        "colab": {
          "base_uri": "https://localhost:8080/"
        },
        "id": "gBrnNnWzajvf",
        "outputId": "87b05142-8c2c-426f-aae3-775060c6b0dc"
      },
      "outputs": [
        {
          "output_type": "stream",
          "name": "stdout",
          "text": [
            "MSE = 27.08, RMSE = 5.20\n"
          ]
        }
      ],
      "source": [
        "# Разбить выборку на train/valid, оптимизировать theta,\n",
        "# сделать предсказания и посчитать ошибки MSE и RMSE\n",
        "\n",
        "X_train, X_valid, y_train, y_valid = train_test_split(X, y, test_size=0.2)\n",
        "theta = optimize(X_train, y_train, calc_mse_gradient, np.ones(m), 0.01, 5000)\n",
        "y_pred = X_valid.dot(theta)\n",
        "\n",
        "print_regression_metrics(y_valid, y_pred)"
      ]
    },
    {
      "cell_type": "code",
      "source": [],
      "metadata": {
        "id": "w6jWAomWdRik"
      },
      "execution_count": null,
      "outputs": []
    }
  ],
  "metadata": {
    "kernelspec": {
      "display_name": "Python 3",
      "language": "python",
      "name": "python3"
    },
    "language_info": {
      "codemirror_mode": {
        "name": "ipython",
        "version": 3
      },
      "file_extension": ".py",
      "mimetype": "text/x-python",
      "name": "python",
      "nbconvert_exporter": "python",
      "pygments_lexer": "ipython3",
      "version": "3.7.3"
    },
    "colab": {
      "provenance": [],
      "include_colab_link": true
    }
  },
  "nbformat": 4,
  "nbformat_minor": 0
}